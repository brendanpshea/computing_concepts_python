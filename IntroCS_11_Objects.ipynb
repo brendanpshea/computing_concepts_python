{
  "nbformat": 4,
  "nbformat_minor": 0,
  "metadata": {
    "colab": {
      "provenance": [],
      "authorship_tag": "ABX9TyOv4pg9eM1YOI/1QgQMMb/s",
      "include_colab_link": true
    },
    "kernelspec": {
      "name": "python3",
      "display_name": "Python 3"
    },
    "language_info": {
      "name": "python"
    },
    "widgets": {
      "application/vnd.jupyter.widget-state+json": {
        "10aaeaf40ada4b65a9ca5e1331fa4902": {
          "model_module": "@jupyter-widgets/controls",
          "model_name": "DropdownModel",
          "model_module_version": "1.5.0",
          "state": {
            "_dom_classes": [],
            "_model_module": "@jupyter-widgets/controls",
            "_model_module_version": "1.5.0",
            "_model_name": "DropdownModel",
            "_options_labels": [
              "1: The Humble Adventurer",
              "2: A Brave Introduction",
              "3: The Backpack",
              "4: Pack Your Bags",
              "5: What's in the Bag?",
              "6: Level Up!",
              "7: The Mighty Warrior",
              "8: Battle Cry",
              "9: The Wise Wizard",
              "10: Magic Words"
            ],
            "_view_count": null,
            "_view_module": "@jupyter-widgets/controls",
            "_view_module_version": "1.5.0",
            "_view_name": "DropdownView",
            "description": "Jump to:",
            "description_tooltip": null,
            "disabled": false,
            "index": 0,
            "layout": "IPY_MODEL_60379374c43a42b6a5a21b39d1a4d7b8",
            "style": "IPY_MODEL_2f3b71947d8a43d3a142dd8b1b169225"
          }
        },
        "60379374c43a42b6a5a21b39d1a4d7b8": {
          "model_module": "@jupyter-widgets/base",
          "model_name": "LayoutModel",
          "model_module_version": "1.2.0",
          "state": {
            "_model_module": "@jupyter-widgets/base",
            "_model_module_version": "1.2.0",
            "_model_name": "LayoutModel",
            "_view_count": null,
            "_view_module": "@jupyter-widgets/base",
            "_view_module_version": "1.2.0",
            "_view_name": "LayoutView",
            "align_content": null,
            "align_items": null,
            "align_self": null,
            "border": null,
            "bottom": null,
            "display": null,
            "flex": null,
            "flex_flow": null,
            "grid_area": null,
            "grid_auto_columns": null,
            "grid_auto_flow": null,
            "grid_auto_rows": null,
            "grid_column": null,
            "grid_gap": null,
            "grid_row": null,
            "grid_template_areas": null,
            "grid_template_columns": null,
            "grid_template_rows": null,
            "height": null,
            "justify_content": null,
            "justify_items": null,
            "left": null,
            "margin": null,
            "max_height": null,
            "max_width": null,
            "min_height": null,
            "min_width": null,
            "object_fit": null,
            "object_position": null,
            "order": null,
            "overflow": null,
            "overflow_x": null,
            "overflow_y": null,
            "padding": null,
            "right": null,
            "top": null,
            "visibility": null,
            "width": null
          }
        },
        "2f3b71947d8a43d3a142dd8b1b169225": {
          "model_module": "@jupyter-widgets/controls",
          "model_name": "DescriptionStyleModel",
          "model_module_version": "1.5.0",
          "state": {
            "_model_module": "@jupyter-widgets/controls",
            "_model_module_version": "1.5.0",
            "_model_name": "DescriptionStyleModel",
            "_view_count": null,
            "_view_module": "@jupyter-widgets/base",
            "_view_module_version": "1.2.0",
            "_view_name": "StyleView",
            "description_width": ""
          }
        },
        "92cc343abaea4737b038f73183c7d3a6": {
          "model_module": "@jupyter-widgets/controls",
          "model_name": "TextareaModel",
          "model_module_version": "1.5.0",
          "state": {
            "_dom_classes": [],
            "_model_module": "@jupyter-widgets/controls",
            "_model_module_version": "1.5.0",
            "_model_name": "TextareaModel",
            "_view_count": null,
            "_view_module": "@jupyter-widgets/controls",
            "_view_module_version": "1.5.0",
            "_view_name": "TextareaView",
            "continuous_update": true,
            "description": "",
            "description_tooltip": null,
            "disabled": false,
            "layout": "IPY_MODEL_82c2855d50b84a20b6fafe218f21a09a",
            "placeholder": "​",
            "rows": null,
            "style": "IPY_MODEL_e683d0a101ae489f9c7435285d61e118",
            "value": "class Adventurer:\n    def __init__(self, name: str, level: int):\n        # Your code here\n        pass"
          }
        },
        "82c2855d50b84a20b6fafe218f21a09a": {
          "model_module": "@jupyter-widgets/base",
          "model_name": "LayoutModel",
          "model_module_version": "1.2.0",
          "state": {
            "_model_module": "@jupyter-widgets/base",
            "_model_module_version": "1.2.0",
            "_model_name": "LayoutModel",
            "_view_count": null,
            "_view_module": "@jupyter-widgets/base",
            "_view_module_version": "1.2.0",
            "_view_name": "LayoutView",
            "align_content": null,
            "align_items": null,
            "align_self": null,
            "border": null,
            "bottom": null,
            "display": null,
            "flex": null,
            "flex_flow": null,
            "grid_area": null,
            "grid_auto_columns": null,
            "grid_auto_flow": null,
            "grid_auto_rows": null,
            "grid_column": null,
            "grid_gap": null,
            "grid_row": null,
            "grid_template_areas": null,
            "grid_template_columns": null,
            "grid_template_rows": null,
            "height": "200px",
            "justify_content": null,
            "justify_items": null,
            "left": null,
            "margin": null,
            "max_height": null,
            "max_width": null,
            "min_height": null,
            "min_width": null,
            "object_fit": null,
            "object_position": null,
            "order": null,
            "overflow": null,
            "overflow_x": null,
            "overflow_y": null,
            "padding": null,
            "right": null,
            "top": null,
            "visibility": null,
            "width": "100%"
          }
        },
        "e683d0a101ae489f9c7435285d61e118": {
          "model_module": "@jupyter-widgets/controls",
          "model_name": "DescriptionStyleModel",
          "model_module_version": "1.5.0",
          "state": {
            "_model_module": "@jupyter-widgets/controls",
            "_model_module_version": "1.5.0",
            "_model_name": "DescriptionStyleModel",
            "_view_count": null,
            "_view_module": "@jupyter-widgets/base",
            "_view_module_version": "1.2.0",
            "_view_name": "StyleView",
            "description_width": ""
          }
        },
        "240a86df5ca54116b79f12382402da41": {
          "model_module": "@jupyter-widgets/controls",
          "model_name": "HBoxModel",
          "model_module_version": "1.5.0",
          "state": {
            "_dom_classes": [],
            "_model_module": "@jupyter-widgets/controls",
            "_model_module_version": "1.5.0",
            "_model_name": "HBoxModel",
            "_view_count": null,
            "_view_module": "@jupyter-widgets/controls",
            "_view_module_version": "1.5.0",
            "_view_name": "HBoxView",
            "box_style": "",
            "children": [
              "IPY_MODEL_f62f0757a2ba45bc96fb24a101869ce3",
              "IPY_MODEL_0be11c05d0b34d72a08d998761fc3792"
            ],
            "layout": "IPY_MODEL_8e3efb24e2da4c0ba9cc89c66448e413"
          }
        },
        "f62f0757a2ba45bc96fb24a101869ce3": {
          "model_module": "@jupyter-widgets/controls",
          "model_name": "ButtonModel",
          "model_module_version": "1.5.0",
          "state": {
            "_dom_classes": [],
            "_model_module": "@jupyter-widgets/controls",
            "_model_module_version": "1.5.0",
            "_model_name": "ButtonModel",
            "_view_count": null,
            "_view_module": "@jupyter-widgets/controls",
            "_view_module_version": "1.5.0",
            "_view_name": "ButtonView",
            "button_style": "success",
            "description": "⚔️ Submit Quest",
            "disabled": false,
            "icon": "",
            "layout": "IPY_MODEL_144cab6fbebf4e2d8d85a77b8ed50422",
            "style": "IPY_MODEL_3cff86638fd7435ca5bfa3f9e5c886fa",
            "tooltip": ""
          }
        },
        "0be11c05d0b34d72a08d998761fc3792": {
          "model_module": "@jupyter-widgets/controls",
          "model_name": "ButtonModel",
          "model_module_version": "1.5.0",
          "state": {
            "_dom_classes": [],
            "_model_module": "@jupyter-widgets/controls",
            "_model_module_version": "1.5.0",
            "_model_name": "ButtonModel",
            "_view_count": null,
            "_view_module": "@jupyter-widgets/controls",
            "_view_module_version": "1.5.0",
            "_view_name": "ButtonView",
            "button_style": "info",
            "description": "💡 Get Hint",
            "disabled": false,
            "icon": "",
            "layout": "IPY_MODEL_bca50436e777477eacee24c7f408838b",
            "style": "IPY_MODEL_9f654963f6944171b161f3038805a590",
            "tooltip": ""
          }
        },
        "8e3efb24e2da4c0ba9cc89c66448e413": {
          "model_module": "@jupyter-widgets/base",
          "model_name": "LayoutModel",
          "model_module_version": "1.2.0",
          "state": {
            "_model_module": "@jupyter-widgets/base",
            "_model_module_version": "1.2.0",
            "_model_name": "LayoutModel",
            "_view_count": null,
            "_view_module": "@jupyter-widgets/base",
            "_view_module_version": "1.2.0",
            "_view_name": "LayoutView",
            "align_content": null,
            "align_items": null,
            "align_self": null,
            "border": null,
            "bottom": null,
            "display": null,
            "flex": null,
            "flex_flow": null,
            "grid_area": null,
            "grid_auto_columns": null,
            "grid_auto_flow": null,
            "grid_auto_rows": null,
            "grid_column": null,
            "grid_gap": null,
            "grid_row": null,
            "grid_template_areas": null,
            "grid_template_columns": null,
            "grid_template_rows": null,
            "height": null,
            "justify_content": null,
            "justify_items": null,
            "left": null,
            "margin": null,
            "max_height": null,
            "max_width": null,
            "min_height": null,
            "min_width": null,
            "object_fit": null,
            "object_position": null,
            "order": null,
            "overflow": null,
            "overflow_x": null,
            "overflow_y": null,
            "padding": null,
            "right": null,
            "top": null,
            "visibility": null,
            "width": null
          }
        },
        "144cab6fbebf4e2d8d85a77b8ed50422": {
          "model_module": "@jupyter-widgets/base",
          "model_name": "LayoutModel",
          "model_module_version": "1.2.0",
          "state": {
            "_model_module": "@jupyter-widgets/base",
            "_model_module_version": "1.2.0",
            "_model_name": "LayoutModel",
            "_view_count": null,
            "_view_module": "@jupyter-widgets/base",
            "_view_module_version": "1.2.0",
            "_view_name": "LayoutView",
            "align_content": null,
            "align_items": null,
            "align_self": null,
            "border": null,
            "bottom": null,
            "display": null,
            "flex": null,
            "flex_flow": null,
            "grid_area": null,
            "grid_auto_columns": null,
            "grid_auto_flow": null,
            "grid_auto_rows": null,
            "grid_column": null,
            "grid_gap": null,
            "grid_row": null,
            "grid_template_areas": null,
            "grid_template_columns": null,
            "grid_template_rows": null,
            "height": null,
            "justify_content": null,
            "justify_items": null,
            "left": null,
            "margin": null,
            "max_height": null,
            "max_width": null,
            "min_height": null,
            "min_width": null,
            "object_fit": null,
            "object_position": null,
            "order": null,
            "overflow": null,
            "overflow_x": null,
            "overflow_y": null,
            "padding": null,
            "right": null,
            "top": null,
            "visibility": null,
            "width": null
          }
        },
        "3cff86638fd7435ca5bfa3f9e5c886fa": {
          "model_module": "@jupyter-widgets/controls",
          "model_name": "ButtonStyleModel",
          "model_module_version": "1.5.0",
          "state": {
            "_model_module": "@jupyter-widgets/controls",
            "_model_module_version": "1.5.0",
            "_model_name": "ButtonStyleModel",
            "_view_count": null,
            "_view_module": "@jupyter-widgets/base",
            "_view_module_version": "1.2.0",
            "_view_name": "StyleView",
            "button_color": null,
            "font_weight": ""
          }
        },
        "bca50436e777477eacee24c7f408838b": {
          "model_module": "@jupyter-widgets/base",
          "model_name": "LayoutModel",
          "model_module_version": "1.2.0",
          "state": {
            "_model_module": "@jupyter-widgets/base",
            "_model_module_version": "1.2.0",
            "_model_name": "LayoutModel",
            "_view_count": null,
            "_view_module": "@jupyter-widgets/base",
            "_view_module_version": "1.2.0",
            "_view_name": "LayoutView",
            "align_content": null,
            "align_items": null,
            "align_self": null,
            "border": null,
            "bottom": null,
            "display": null,
            "flex": null,
            "flex_flow": null,
            "grid_area": null,
            "grid_auto_columns": null,
            "grid_auto_flow": null,
            "grid_auto_rows": null,
            "grid_column": null,
            "grid_gap": null,
            "grid_row": null,
            "grid_template_areas": null,
            "grid_template_columns": null,
            "grid_template_rows": null,
            "height": null,
            "justify_content": null,
            "justify_items": null,
            "left": null,
            "margin": null,
            "max_height": null,
            "max_width": null,
            "min_height": null,
            "min_width": null,
            "object_fit": null,
            "object_position": null,
            "order": null,
            "overflow": null,
            "overflow_x": null,
            "overflow_y": null,
            "padding": null,
            "right": null,
            "top": null,
            "visibility": null,
            "width": null
          }
        },
        "9f654963f6944171b161f3038805a590": {
          "model_module": "@jupyter-widgets/controls",
          "model_name": "ButtonStyleModel",
          "model_module_version": "1.5.0",
          "state": {
            "_model_module": "@jupyter-widgets/controls",
            "_model_module_version": "1.5.0",
            "_model_name": "ButtonStyleModel",
            "_view_count": null,
            "_view_module": "@jupyter-widgets/base",
            "_view_module_version": "1.2.0",
            "_view_name": "StyleView",
            "button_color": null,
            "font_weight": ""
          }
        },
        "df82af9513cc43eaa81562dcad06fa06": {
          "model_module": "@jupyter-widgets/output",
          "model_name": "OutputModel",
          "model_module_version": "1.0.0",
          "state": {
            "_dom_classes": [],
            "_model_module": "@jupyter-widgets/output",
            "_model_module_version": "1.0.0",
            "_model_name": "OutputModel",
            "_view_count": null,
            "_view_module": "@jupyter-widgets/output",
            "_view_module_version": "1.0.0",
            "_view_name": "OutputView",
            "layout": "IPY_MODEL_e71337b2b3da42e4b567c5bb6aadaaea",
            "msg_id": "",
            "outputs": []
          }
        },
        "e71337b2b3da42e4b567c5bb6aadaaea": {
          "model_module": "@jupyter-widgets/base",
          "model_name": "LayoutModel",
          "model_module_version": "1.2.0",
          "state": {
            "_model_module": "@jupyter-widgets/base",
            "_model_module_version": "1.2.0",
            "_model_name": "LayoutModel",
            "_view_count": null,
            "_view_module": "@jupyter-widgets/base",
            "_view_module_version": "1.2.0",
            "_view_name": "LayoutView",
            "align_content": null,
            "align_items": null,
            "align_self": null,
            "border": null,
            "bottom": null,
            "display": null,
            "flex": null,
            "flex_flow": null,
            "grid_area": null,
            "grid_auto_columns": null,
            "grid_auto_flow": null,
            "grid_auto_rows": null,
            "grid_column": null,
            "grid_gap": null,
            "grid_row": null,
            "grid_template_areas": null,
            "grid_template_columns": null,
            "grid_template_rows": null,
            "height": null,
            "justify_content": null,
            "justify_items": null,
            "left": null,
            "margin": null,
            "max_height": null,
            "max_width": null,
            "min_height": null,
            "min_width": null,
            "object_fit": null,
            "object_position": null,
            "order": null,
            "overflow": null,
            "overflow_x": null,
            "overflow_y": null,
            "padding": null,
            "right": null,
            "top": null,
            "visibility": null,
            "width": "100%"
          }
        }
      }
    }
  },
  "cells": [
    {
      "cell_type": "markdown",
      "metadata": {
        "id": "view-in-github",
        "colab_type": "text"
      },
      "source": [
        "<a href=\"https://colab.research.google.com/github/brendanpshea/computing_concepts_python/blob/main/IntroCS_11_Objects.ipynb\" target=\"_parent\"><img src=\"https://colab.research.google.com/assets/colab-badge.svg\" alt=\"Open In Colab\"/></a>"
      ]
    },
    {
      "cell_type": "markdown",
      "source": [
        "# Welcome to Object-Oriented Programming: A New Way of Thinking\n",
        "\n",
        "Object-Oriented Programming (OOP) is a powerful approach to writing code that helps us model real-world things in our programs. Instead of thinking about programming as a sequence of actions or calculations, OOP encourages us to think about the \"things\" in our program and how they interact with each other. For our virtual zoo, this means we'll create digital versions of animals and their habitats!\n",
        "\n",
        "**Object-Oriented Programming (OOP)** is a programming paradigm based on the concept of \"objects\" that contain both data and code to modify that data.\n",
        "\n",
        "Key benefits of OOP include:\n",
        "* It helps organize code in a way that mirrors how we think about the real world\n",
        "* It makes code more reusable through features like inheritance\n",
        "* It helps manage complexity in larger programs by breaking them into understandable pieces\n",
        "* It protects data through encapsulation, making programs more secure and reliable\n",
        "\n",
        "In this course, we'll build a virtual zoo step by step, creating animal classes, giving them attributes and behaviors, and exploring how they can relate to each other—just like in a real zoo!"
      ],
      "metadata": {
        "id": "6TP5JmAdWWxI"
      }
    },
    {
      "cell_type": "code",
      "source": [
        "# A glimpse of what we'll build:\n",
        "class Lion:\n",
        "    def __init__(self, name, age):\n",
        "        self.name = name\n",
        "        self.age = age\n",
        "\n",
        "    def roar(self):\n",
        "        return f\"{self.name} roars loudly!\"\n",
        "\n",
        "simba = Lion(\"Simba\", 3)\n",
        "print(simba.roar())  # Output: Simba roars loudly!"
      ],
      "metadata": {
        "colab": {
          "base_uri": "https://localhost:8080/"
        },
        "id": "dBm6Mku1WaYw",
        "outputId": "5fd23bdb-c26a-4b4b-8db9-60b439c92065"
      },
      "execution_count": null,
      "outputs": [
        {
          "output_type": "stream",
          "name": "stdout",
          "text": [
            "Simba roars loudly!\n"
          ]
        }
      ]
    },
    {
      "cell_type": "markdown",
      "source": [
        "\n",
        "By the end of this unit, you'll understand how to think about programming problems in terms of objects and their interactions, setting you up for success in more advanced programming courses."
      ],
      "metadata": {
        "id": "Hg6jRg6dWazP"
      }
    },
    {
      "cell_type": "markdown",
      "source": [
        "# Real-World Objects vs. Code Objects: Understanding the Connection\n",
        "\n",
        "The genius of object-oriented programming lies in how it mirrors our understanding of the physical world. In real life, we interact with objects all the time—from the books we read to the animals we observe at the zoo. Each object has characteristics (like color, size, or weight) and capabilities (like making sounds or moving). In OOP, we recreate this same pattern in our code.\n",
        "\n",
        "**Objects** in programming are digital representations of things that have properties (data) and behaviors (functions).\n",
        "\n",
        "Think about the animals in our virtual zoo:\n",
        "* A real lion has properties (age, weight, fur color) and behaviors (roaring, running, hunting)\n",
        "* In our code, a lion object will have variables to store its properties and methods (functions) to implement its behaviors\n",
        "* Our code lion is a simplified model of a real lion—we only include the aspects that matter for our program\n",
        "\n",
        "| Real-World Properties | Code Representation |\n",
        "|-----------------------|---------------------|\n",
        "| Lion's name | `name` variable (string) |\n",
        "| Lion's age | `age` variable (integer) |\n",
        "| Lion's weight | `weight` variable (float) |\n",
        "| Lion's roar | `roar()` method |\n",
        "\n",
        "The power of OOP comes from this direct mapping between real-world thinking and code structure. When we can think about our programs in terms of familiar objects and interactions, it becomes easier to:\n",
        "* Plan what we need to build\n",
        "* Communicate our design to others\n",
        "* Identify and fix problems in our code"
      ],
      "metadata": {
        "id": "M3sFrCkPWlsQ"
      }
    },
    {
      "cell_type": "code",
      "source": [
        "# Representing a real lion in code\n",
        "class Lion:\n",
        "    def __init__(self, name, age, weight):\n",
        "        self.name = name        # Property: the lion's name\n",
        "        self.age = age          # Property: the lion's age in years\n",
        "        self.weight = weight    # Property: the lion's weight in kg\n",
        "\n",
        "    def roar(self):             # Behavior: the lion can roar\n",
        "        return f\"{self.name} lets out a mighty roar!\"\n",
        "\n",
        "    def eat(self, food_kg):     # Behavior: the lion can eat\n",
        "        self.weight += food_kg * 0.3\n",
        "        return f\"{self.name} enjoys the meal and gains weight.\""
      ],
      "metadata": {
        "id": "puZY_wKsWmZc"
      },
      "execution_count": null,
      "outputs": []
    },
    {
      "cell_type": "markdown",
      "source": [
        "As we build our virtual zoo, think about what real-world properties and behaviors are important to model for each animal, and what details we can leave out to keep our code manageable."
      ],
      "metadata": {
        "id": "0k_GsmUIWtBo"
      }
    },
    {
      "cell_type": "markdown",
      "source": [
        "# Classes: Creating Blueprints for Our Virtual Zoo Animals\n",
        "\n",
        "To create animals for our virtual zoo, we need a way to define what each type of animal looks like and how it behaves. In OOP, we use classes for this purpose. Think of a class as a blueprint or template that describes a particular type of object. Just as architects use blueprints to specify how to build houses, programmers use classes to specify how to create objects.\n",
        "\n",
        "A **class** is a code template for creating objects that defines what properties and behaviors all objects of that type will have.\n",
        "\n",
        "Understanding classes helps us organize our code:\n",
        "* A class defines a new data type in our program\n",
        "* Each class should represent one clear concept (like a specific animal type)\n",
        "* Classes allow us to create multiple similar objects without rewriting code\n",
        "* Classes serve as containers that group related data and functions together\n",
        "\n",
        "Let's see how we might define a simple class for an elephant in our zoo:\n"
      ],
      "metadata": {
        "id": "4XuX8oEXW21d"
      }
    },
    {
      "cell_type": "code",
      "source": [
        "class Elephant:\n",
        "    # Class attributes - shared by all elephants\n",
        "    species = \"Loxodonta\"\n",
        "    habitat = \"Savanna\"\n",
        "\n",
        "    # The __init__ method (constructor) runs when we create a new elephant\n",
        "    def __init__(self, name, age, weight, tusk_length):\n",
        "        # Instance attributes - unique to each individual elephant\n",
        "        self.name = name\n",
        "        self.age = age\n",
        "        self.weight = weight\n",
        "        self.tusk_length = tusk_length\n",
        "\n",
        "    # Methods - behaviors that all elephants can perform\n",
        "    def trumpet(self):\n",
        "        return f\"{self.name} trumpets loudly!\"\n",
        "\n",
        "    def spray_water(self, target):\n",
        "        return f\"{self.name} sprays water at {target}!\""
      ],
      "metadata": {
        "id": "zZW86sJRW6Bx"
      },
      "execution_count": null,
      "outputs": []
    },
    {
      "cell_type": "markdown",
      "source": [
        "Think of our `Elephant` class as a blueprint that tells Python how to create elephant objects. Notice that we haven't actually created any elephants yet—we've just defined what an elephant is. In the next section, we'll learn how to use this blueprint to create actual elephant objects for our zoo.\n",
        "\n",
        "The diagram in the next artifact shows the structure of our Elephant class. This type of diagram is called a class diagram and helps visualize what properties and methods our class contains."
      ],
      "metadata": {
        "id": "sIGcpIyDW70i"
      }
    },
    {
      "cell_type": "code",
      "source": [
        "# @title\n",
        "import base64\n",
        "import requests\n",
        "from IPython.display import SVG, display, HTML\n",
        "\n",
        "def mm(graph: str) -> None:\n",
        "    \"\"\"\n",
        "    Fetch and display a Mermaid diagram as SVG.\n",
        "\n",
        "    Parameters:\n",
        "      graph (str): Mermaid graph definition.\n",
        "    \"\"\"\n",
        "    # 1. Encode the graph to Base64\n",
        "    b64 = base64.urlsafe_b64encode(graph.encode('utf-8')).decode('ascii')\n",
        "    # 2. Construct the SVG URL\n",
        "    url = f'https://mermaid.ink/svg/{b64}'\n",
        "    # 3. Fetch SVG content\n",
        "    svg_data = requests.get(url).text\n",
        "    # 4. Render inline in Jupyter\n",
        "\n",
        "    display(HTML(f'{svg_data}'))\n",
        "\n",
        "mm(\"\"\"\n",
        "classDiagram\n",
        "    class Elephant {\n",
        "        +species: string\n",
        "        +habitat: string\n",
        "        +name: string\n",
        "        +age: int\n",
        "        +weight: float\n",
        "        +tusk_length: float\n",
        "        +__init__(name, age, weight, tusk_length)\n",
        "        +trumpet()\n",
        "        +spray_water(target)\n",
        "    }\"\"\")"
      ],
      "metadata": {
        "colab": {
          "base_uri": "https://localhost:8080/",
          "height": 350
        },
        "cellView": "form",
        "id": "Jo8EDwe9XG0p",
        "outputId": "7779efe2-204f-4944-a888-77bde99895b3"
      },
      "execution_count": null,
      "outputs": [
        {
          "output_type": "display_data",
          "data": {
            "text/plain": [
              "<IPython.core.display.HTML object>"
            ],
            "text/html": [
              "<svg id=\"mermaid-svg\" width=\"100%\" xmlns=\"http://www.w3.org/2000/svg\" class=\"classDiagram\" style=\"max-width: 339.265625px;\" viewBox=\"0 0 339.265625 328\" role=\"graphics-document document\" aria-roledescription=\"class\" xmlns:xlink=\"http://www.w3.org/1999/xlink\"><style xmlns=\"http://www.w3.org/1999/xhtml\">@import url(\"https://cdnjs.cloudflare.com/ajax/libs/font-awesome/6.7.2/css/all.min.css\");</style><style>#mermaid-svg{font-family:\"trebuchet ms\",verdana,arial,sans-serif;font-size:16px;fill:#333;}@keyframes edge-animation-frame{from{stroke-dashoffset:0;}}@keyframes dash{to{stroke-dashoffset:0;}}#mermaid-svg .edge-animation-slow{stroke-dasharray:9,5!important;stroke-dashoffset:900;animation:dash 50s linear infinite;stroke-linecap:round;}#mermaid-svg .edge-animation-fast{stroke-dasharray:9,5!important;stroke-dashoffset:900;animation:dash 20s linear infinite;stroke-linecap:round;}#mermaid-svg .error-icon{fill:#552222;}#mermaid-svg .error-text{fill:#552222;stroke:#552222;}#mermaid-svg .edge-thickness-normal{stroke-width:1px;}#mermaid-svg .edge-thickness-thick{stroke-width:3.5px;}#mermaid-svg .edge-pattern-solid{stroke-dasharray:0;}#mermaid-svg .edge-thickness-invisible{stroke-width:0;fill:none;}#mermaid-svg .edge-pattern-dashed{stroke-dasharray:3;}#mermaid-svg .edge-pattern-dotted{stroke-dasharray:2;}#mermaid-svg .marker{fill:#333333;stroke:#333333;}#mermaid-svg .marker.cross{stroke:#333333;}#mermaid-svg svg{font-family:\"trebuchet ms\",verdana,arial,sans-serif;font-size:16px;}#mermaid-svg p{margin:0;}#mermaid-svg g.classGroup text{fill:#9370DB;stroke:none;font-family:\"trebuchet ms\",verdana,arial,sans-serif;font-size:10px;}#mermaid-svg g.classGroup text .title{font-weight:bolder;}#mermaid-svg .nodeLabel,#mermaid-svg .edgeLabel{color:#131300;}#mermaid-svg .edgeLabel .label rect{fill:#ECECFF;}#mermaid-svg .label text{fill:#131300;}#mermaid-svg .labelBkg{background:#ECECFF;}#mermaid-svg .edgeLabel .label span{background:#ECECFF;}#mermaid-svg .classTitle{font-weight:bolder;}#mermaid-svg .node rect,#mermaid-svg .node circle,#mermaid-svg .node ellipse,#mermaid-svg .node polygon,#mermaid-svg .node path{fill:#ECECFF;stroke:#9370DB;stroke-width:1px;}#mermaid-svg .divider{stroke:#9370DB;stroke-width:1;}#mermaid-svg g.clickable{cursor:pointer;}#mermaid-svg g.classGroup rect{fill:#ECECFF;stroke:#9370DB;}#mermaid-svg g.classGroup line{stroke:#9370DB;stroke-width:1;}#mermaid-svg .classLabel .box{stroke:none;stroke-width:0;fill:#ECECFF;opacity:0.5;}#mermaid-svg .classLabel .label{fill:#9370DB;font-size:10px;}#mermaid-svg .relation{stroke:#333333;stroke-width:1;fill:none;}#mermaid-svg .dashed-line{stroke-dasharray:3;}#mermaid-svg .dotted-line{stroke-dasharray:1 2;}#mermaid-svg #compositionStart,#mermaid-svg .composition{fill:#333333!important;stroke:#333333!important;stroke-width:1;}#mermaid-svg #compositionEnd,#mermaid-svg .composition{fill:#333333!important;stroke:#333333!important;stroke-width:1;}#mermaid-svg #dependencyStart,#mermaid-svg .dependency{fill:#333333!important;stroke:#333333!important;stroke-width:1;}#mermaid-svg #dependencyStart,#mermaid-svg .dependency{fill:#333333!important;stroke:#333333!important;stroke-width:1;}#mermaid-svg #extensionStart,#mermaid-svg .extension{fill:transparent!important;stroke:#333333!important;stroke-width:1;}#mermaid-svg #extensionEnd,#mermaid-svg .extension{fill:transparent!important;stroke:#333333!important;stroke-width:1;}#mermaid-svg #aggregationStart,#mermaid-svg .aggregation{fill:transparent!important;stroke:#333333!important;stroke-width:1;}#mermaid-svg #aggregationEnd,#mermaid-svg .aggregation{fill:transparent!important;stroke:#333333!important;stroke-width:1;}#mermaid-svg #lollipopStart,#mermaid-svg .lollipop{fill:#ECECFF!important;stroke:#333333!important;stroke-width:1;}#mermaid-svg #lollipopEnd,#mermaid-svg .lollipop{fill:#ECECFF!important;stroke:#333333!important;stroke-width:1;}#mermaid-svg .edgeTerminals{font-size:11px;line-height:initial;}#mermaid-svg .classTitleText{text-anchor:middle;font-size:18px;fill:#333;}#mermaid-svg :root{--mermaid-font-family:\"trebuchet ms\",verdana,arial,sans-serif;}</style><g><defs><marker id=\"mermaid-svg_class-aggregationStart\" class=\"marker aggregation class\" refX=\"18\" refY=\"7\" markerWidth=\"190\" markerHeight=\"240\" orient=\"auto\"><path d=\"M 18,7 L9,13 L1,7 L9,1 Z\"/></marker></defs><defs><marker id=\"mermaid-svg_class-aggregationEnd\" class=\"marker aggregation class\" refX=\"1\" refY=\"7\" markerWidth=\"20\" markerHeight=\"28\" orient=\"auto\"><path d=\"M 18,7 L9,13 L1,7 L9,1 Z\"/></marker></defs><defs><marker id=\"mermaid-svg_class-extensionStart\" class=\"marker extension class\" refX=\"18\" refY=\"7\" markerWidth=\"190\" markerHeight=\"240\" orient=\"auto\"><path d=\"M 1,7 L18,13 V 1 Z\"/></marker></defs><defs><marker id=\"mermaid-svg_class-extensionEnd\" class=\"marker extension class\" refX=\"1\" refY=\"7\" markerWidth=\"20\" markerHeight=\"28\" orient=\"auto\"><path d=\"M 1,1 V 13 L18,7 Z\"/></marker></defs><defs><marker id=\"mermaid-svg_class-compositionStart\" class=\"marker composition class\" refX=\"18\" refY=\"7\" markerWidth=\"190\" markerHeight=\"240\" orient=\"auto\"><path d=\"M 18,7 L9,13 L1,7 L9,1 Z\"/></marker></defs><defs><marker id=\"mermaid-svg_class-compositionEnd\" class=\"marker composition class\" refX=\"1\" refY=\"7\" markerWidth=\"20\" markerHeight=\"28\" orient=\"auto\"><path d=\"M 18,7 L9,13 L1,7 L9,1 Z\"/></marker></defs><defs><marker id=\"mermaid-svg_class-dependencyStart\" class=\"marker dependency class\" refX=\"6\" refY=\"7\" markerWidth=\"190\" markerHeight=\"240\" orient=\"auto\"><path d=\"M 5,7 L9,13 L1,7 L9,1 Z\"/></marker></defs><defs><marker id=\"mermaid-svg_class-dependencyEnd\" class=\"marker dependency class\" refX=\"13\" refY=\"7\" markerWidth=\"20\" markerHeight=\"28\" orient=\"auto\"><path d=\"M 18,7 L9,13 L14,7 L9,1 Z\"/></marker></defs><defs><marker id=\"mermaid-svg_class-lollipopStart\" class=\"marker lollipop class\" refX=\"13\" refY=\"7\" markerWidth=\"190\" markerHeight=\"240\" orient=\"auto\"><circle stroke=\"black\" fill=\"transparent\" cx=\"7\" cy=\"7\" r=\"6\"/></marker></defs><defs><marker id=\"mermaid-svg_class-lollipopEnd\" class=\"marker lollipop class\" refX=\"1\" refY=\"7\" markerWidth=\"190\" markerHeight=\"240\" orient=\"auto\"><circle stroke=\"black\" fill=\"transparent\" cx=\"7\" cy=\"7\" r=\"6\"/></marker></defs><g class=\"root\"><g class=\"clusters\"/><g class=\"edgePaths\"/><g class=\"edgeLabels\"/><g class=\"nodes\"><g class=\"node default \" id=\"classId-Elephant-0\" transform=\"translate(169.6328125, 164)\"><g class=\"basic label-container\"><path d=\"M-161.6328125 -156 L161.6328125 -156 L161.6328125 156 L-161.6328125 156\" stroke=\"none\" stroke-width=\"0\" fill=\"#ECECFF\" style=\"\"/><path d=\"M-161.6328125 -156 C-54.249671725345735 -156, 53.13346904930853 -156, 161.6328125 -156 M-161.6328125 -156 C-42.47179870810747 -156, 76.68921508378506 -156, 161.6328125 -156 M161.6328125 -156 C161.6328125 -71.17113126636359, 161.6328125 13.657737467272824, 161.6328125 156 M161.6328125 -156 C161.6328125 -70.74259413307394, 161.6328125 14.514811733852127, 161.6328125 156 M161.6328125 156 C91.41715191561485 156, 21.201491331229704 156, -161.6328125 156 M161.6328125 156 C81.157069363491 156, 0.6813262269820086 156, -161.6328125 156 M-161.6328125 156 C-161.6328125 83.28454497039483, -161.6328125 10.569089940789667, -161.6328125 -156 M-161.6328125 156 C-161.6328125 73.76655245806988, -161.6328125 -8.466895083860237, -161.6328125 -156\" stroke=\"#9370DB\" stroke-width=\"1.3\" fill=\"none\" style=\"\"/></g><g class=\"annotation-group text\" transform=\"translate(0, -132)\"/><g class=\"label-group text\" transform=\"translate(-33.78125, -132)\"><g class=\"label\" style=\"font-weight: bolder\" transform=\"translate(0,-12)\"><foreignObject width=\"67.5625\" height=\"24\"><div xmlns=\"http://www.w3.org/1999/xhtml\" style=\"display: table-cell; white-space: nowrap; line-height: 1.5; max-width: 107px; text-align: center;\"><span class=\"nodeLabel markdown-node-label\" style=\"\"><p>Elephant</p></span></div></foreignObject></g></g><g class=\"members-group text\" transform=\"translate(-149.6328125, -84)\"><g class=\"label\" style=\"\" transform=\"translate(0,-12)\"><foreignObject width=\"111.609375\" height=\"24\"><div xmlns=\"http://www.w3.org/1999/xhtml\" style=\"display: table-cell; white-space: nowrap; line-height: 1.5; max-width: 155px; text-align: center;\"><span class=\"nodeLabel markdown-node-label\" style=\"\"><p>+species: string</p></span></div></foreignObject></g><g class=\"label\" style=\"\" transform=\"translate(0,12)\"><foreignObject width=\"105.40625\" height=\"24\"><div xmlns=\"http://www.w3.org/1999/xhtml\" style=\"display: table-cell; white-space: nowrap; line-height: 1.5; max-width: 152px; text-align: center;\"><span class=\"nodeLabel markdown-node-label\" style=\"\"><p>+habitat: string</p></span></div></foreignObject></g><g class=\"label\" style=\"\" transform=\"translate(0,36)\"><foreignObject width=\"97.390625\" height=\"24\"><div xmlns=\"http://www.w3.org/1999/xhtml\" style=\"display: table-cell; white-space: nowrap; line-height: 1.5; max-width: 143px; text-align: center;\"><span class=\"nodeLabel markdown-node-label\" style=\"\"><p>+name: string</p></span></div></foreignObject></g><g class=\"label\" style=\"\" transform=\"translate(0,60)\"><foreignObject width=\"61.828125\" height=\"24\"><div xmlns=\"http://www.w3.org/1999/xhtml\" style=\"display: table-cell; white-space: nowrap; line-height: 1.5; max-width: 112px; text-align: center;\"><span class=\"nodeLabel markdown-node-label\" style=\"\"><p>+age: int</p></span></div></foreignObject></g><g class=\"label\" style=\"\" transform=\"translate(0,84)\"><foreignObject width=\"94.734375\" height=\"24\"><div xmlns=\"http://www.w3.org/1999/xhtml\" style=\"display: table-cell; white-space: nowrap; line-height: 1.5; max-width: 145px; text-align: center;\"><span class=\"nodeLabel markdown-node-label\" style=\"\"><p>+weight: float</p></span></div></foreignObject></g><g class=\"label\" style=\"\" transform=\"translate(0,108)\"><foreignObject width=\"130.3125\" height=\"24\"><div xmlns=\"http://www.w3.org/1999/xhtml\" style=\"display: table-cell; white-space: nowrap; line-height: 1.5; max-width: 176px; text-align: center;\"><span class=\"nodeLabel markdown-node-label\" style=\"\"><p>+tusk_length: float</p></span></div></foreignObject></g></g><g class=\"methods-group text\" transform=\"translate(-149.6328125, 84)\"><g class=\"label\" style=\"\" transform=\"translate(0,-12)\"><foreignObject width=\"265.484375\" height=\"24\"><div xmlns=\"http://www.w3.org/1999/xhtml\" style=\"display: table-cell; white-space: nowrap; line-height: 1.5; max-width: 327px; text-align: center;\"><span class=\"nodeLabel markdown-node-label\" style=\"\"><p>+<strong>init</strong>(name, age, weight, tusk_length)</p></span></div></foreignObject></g><g class=\"label\" style=\"\" transform=\"translate(0,12)\"><foreignObject width=\"74.25\" height=\"24\"><div xmlns=\"http://www.w3.org/1999/xhtml\" style=\"display: table-cell; white-space: nowrap; line-height: 1.5; max-width: 124px; text-align: center;\"><span class=\"nodeLabel markdown-node-label\" style=\"\"><p>+trumpet()</p></span></div></foreignObject></g><g class=\"label\" style=\"\" transform=\"translate(0,36)\"><foreignObject width=\"148.0625\" height=\"24\"><div xmlns=\"http://www.w3.org/1999/xhtml\" style=\"display: table-cell; white-space: nowrap; line-height: 1.5; max-width: 188px; text-align: center;\"><span class=\"nodeLabel markdown-node-label\" style=\"\"><p>+spray_water(target)</p></span></div></foreignObject></g></g><g class=\"divider\" style=\"\"><path d=\"M-161.6328125 -108 C-45.54795054785231 -108, 70.53691140429538 -108, 161.6328125 -108 M-161.6328125 -108 C-53.59718600982582 -108, 54.43844048034836 -108, 161.6328125 -108\" stroke=\"#9370DB\" stroke-width=\"1.3\" fill=\"none\" style=\"\"/></g><g class=\"divider\" style=\"\"><path d=\"M-161.6328125 60 C-47.549583375481916 60, 66.53364574903617 60, 161.6328125 60 M-161.6328125 60 C-80.26272459522474 60, 1.1073633095505215 60, 161.6328125 60\" stroke=\"#9370DB\" stroke-width=\"1.3\" fill=\"none\" style=\"\"/></g></g></g></g></g></svg>"
            ]
          },
          "metadata": {}
        }
      ]
    },
    {
      "cell_type": "markdown",
      "source": [
        "# Objects: Bringing Animal Classes to Life\n",
        "\n",
        "Now that we've created blueprints (classes) for our zoo animals, it's time to create actual animals! In OOP, we bring our classes to life by creating objects, also called instances. Each object is a specific realization of its class—just as each real elephant is a specific individual with its own name, age, and personality.\n",
        "\n",
        "An **object** (or **instance**) is a specific example of a class that contains real data and can perform actions defined by its class.\n",
        "\n",
        "Key things to understand about objects:\n",
        "* Objects are created from classes using a process called instantiation\n",
        "* Each object has its own unique identity even if it has the same property values as another object\n",
        "* Objects can interact with each other through their methods\n",
        "* The state of an object can change over time as its property values are modified\n",
        "\n",
        "Let's create some elephant objects using our Elephant class (**make sure to run the cells defining the elephant class before running this one!**):"
      ],
      "metadata": {
        "id": "id_3qXcAXjIg"
      }
    },
    {
      "cell_type": "code",
      "source": [
        "# Create three elephant objects\n",
        "dumbo = Elephant(\"Dumbo\", 5, 2000, 0.5)\n",
        "jumbo = Elephant(\"Jumbo\", 15, 5000, 1.2)\n",
        "ella = Elephant(\"Ella\", 8, 3500, 0.8)\n",
        "\n",
        "# Now we can interact with our elephant objects\n",
        "print(dumbo.trumpet())  # Output: Dumbo trumpets loudly!\n",
        "print(jumbo.spray_water(\"the zookeeper\"))  # Output: Jumbo sprays water at the zookeeper!\n",
        "\n",
        "# We can access and modify object properties\n",
        "print(f\"Ella is {ella.age} years old\")\n",
        "ella.age += 1  # It's Ella's birthday!\n",
        "print(f\"Now Ella is {ella.age} years old\")"
      ],
      "metadata": {
        "colab": {
          "base_uri": "https://localhost:8080/"
        },
        "id": "qb6B4HqqXrQB",
        "outputId": "ea1cd060-f053-4fa0-e8ac-8f1691171f39"
      },
      "execution_count": null,
      "outputs": [
        {
          "output_type": "stream",
          "name": "stdout",
          "text": [
            "Dumbo trumpets loudly!\n",
            "Jumbo sprays water at the zookeeper!\n",
            "Ella is 8 years old\n",
            "Now Ella is 9 years old\n"
          ]
        }
      ]
    },
    {
      "cell_type": "markdown",
      "source": [
        "| Object | Description | Memory Location |\n",
        "|--------|-------------|-----------------|\n",
        "| dumbo | An instance of the Elephant class | Unique address in memory |\n",
        "| jumbo | Another instance of the Elephant class | Different memory address |\n",
        "| ella | A third instance of the Elephant class | Another unique memory address |\n",
        "\n",
        "When we create objects, Python allocates memory to store their data. Each object gets its own copy of the instance attributes (like name and age), but all objects of the same class share the class attributes (like species and habitat) and methods. This allows us to create many different elephants without duplicating the code that defines their behavior.\n",
        "\n",
        "Remember: Classes are the blueprints, objects are the actual animals in our virtual zoo. We can create as many objects as we need from each class."
      ],
      "metadata": {
        "id": "HJ68hczAXufp"
      }
    },
    {
      "cell_type": "markdown",
      "source": [
        "# Attributes: Characteristics That Define Our Zoo Animals\n",
        "\n",
        "Just as real animals have characteristics like size, color, and weight, objects in our virtual zoo have data that defines their state. In OOP, we call these pieces of data **attributes** (also known as properties or fields). Attributes store information about each object, making each one unique.\n",
        "\n",
        "**Attributes** are variables that belong to a class or object and store information about that class or object.\n",
        "\n",
        "In Python, we work with two types of attributes:\n",
        "* **Instance attributes** belong to a specific object instance (like a particular lion's name)\n",
        "* **Class attributes** belong to the class itself and are shared by all instances (like the scientific name for all lions)\n"
      ],
      "metadata": {
        "id": "8wHVd8WyX0sy"
      }
    },
    {
      "cell_type": "code",
      "source": [
        "class Penguin:\n",
        "    # Class attributes - shared by all penguins\n",
        "    species = \"Spheniscidae\"  # Scientific family name\n",
        "    habitat = \"Antarctica\"    # Where penguins typically live\n",
        "\n",
        "    def __init__(self, name, age, swimming_speed):\n",
        "        # Instance attributes - unique to each penguin\n",
        "        self.name = name\n",
        "        self.age = age\n",
        "        self.swimming_speed = swimming_speed\n",
        "        self.hungry = True  # All new penguins start out hungry\n",
        "\n",
        "    def swim(self):\n",
        "        return f\"{self.name} swims at {self.swimming_speed} mph!\"\n",
        "\n",
        "    def eat(self, food=\"fish\"):\n",
        "        self.hungry = False\n",
        "        return f\"{self.name} eats some {food} and is now full.\""
      ],
      "metadata": {
        "id": "y7pLlHG8X297"
      },
      "execution_count": null,
      "outputs": []
    },
    {
      "cell_type": "code",
      "source": [
        "# Create two penguin objects\n",
        "percy = Penguin(\"Percy\", 3, 22)\n",
        "penny = Penguin(\"Penny\", 5, 25)"
      ],
      "metadata": {
        "id": "0ntIlcZdWqlA"
      },
      "execution_count": null,
      "outputs": []
    },
    {
      "cell_type": "code",
      "source": [
        "# All penguins share the same class attributes\n",
        "print(f\"Percy's species: {percy.species}\")  # Output: Percy's species: Spheniscidae\n",
        "print(f\"Penny's species: {penny.species}\")  # Output: Penny's species: Spheniscidae"
      ],
      "metadata": {
        "colab": {
          "base_uri": "https://localhost:8080/"
        },
        "id": "G6H0x7IjX8GV",
        "outputId": "d2684911-7967-41ab-8d1a-1a08305d4a1f"
      },
      "execution_count": null,
      "outputs": [
        {
          "output_type": "stream",
          "name": "stdout",
          "text": [
            "Percy's species: Spheniscidae\n",
            "Penny's species: Spheniscidae\n"
          ]
        }
      ]
    },
    {
      "cell_type": "code",
      "source": [
        "# But each has its own instance attributes\n",
        "print(f\"Percy's age: {percy.age}\")  # Output: Percy's age: 3\n",
        "print(f\"Penny's age: {penny.age}\")  # Output: Penny's age: 5"
      ],
      "metadata": {
        "colab": {
          "base_uri": "https://localhost:8080/"
        },
        "id": "ENTbaA9eX_CN",
        "outputId": "53e11a0e-6b68-476e-c448-b5db0b919899"
      },
      "execution_count": null,
      "outputs": [
        {
          "output_type": "stream",
          "name": "stdout",
          "text": [
            "Percy's age: 3\n",
            "Penny's age: 5\n"
          ]
        }
      ]
    },
    {
      "cell_type": "code",
      "source": [
        "# We can modify instance attributes\n",
        "percy.hungry = True\n",
        "print(f\"Is Percy hungry? {percy.hungry}\")  # Output: Is Percy hungry? True\n",
        "print(f\"Is Penny hungry? {penny.hungry}\")  # Output: Is Penny hungry? True"
      ],
      "metadata": {
        "colab": {
          "base_uri": "https://localhost:8080/"
        },
        "id": "JnAesStxYBbq",
        "outputId": "80f16729-6b07-4d74-de20-792939e3b2f1"
      },
      "execution_count": null,
      "outputs": [
        {
          "output_type": "stream",
          "name": "stdout",
          "text": [
            "Is Percy hungry? True\n",
            "Is Penny hungry? True\n"
          ]
        }
      ]
    },
    {
      "cell_type": "markdown",
      "source": [
        "When choosing what attributes to include in your classes, think about:\n",
        "* What information is needed to model the object accurately?\n",
        "* What data might change over time?\n",
        "* What information is required for the methods to work properly?\n",
        "\n",
        "The right attributes will help your objects model real-world entities effectively, making your code more intuitive and easier to understand."
      ],
      "metadata": {
        "id": "pIijzfDFYFB0"
      }
    },
    {
      "cell_type": "markdown",
      "source": [
        "# Methods: Actions Our Zoo Animals Can Perform\n",
        "\n",
        "While attributes define what our zoo animals are, methods define what they can do. In OOP, **methods** are functions that belong to a class and can perform operations using the object's data. Think of methods as the behaviors or actions that our animals can take, like a tiger pouncing or a parrot talking.\n",
        "\n",
        "**Methods** are functions that are defined inside a class and can access and modify the object's attributes.\n",
        "\n",
        "Methods give our objects capabilities:\n",
        "* They allow objects to interact with each other\n",
        "* They can change the object's state by modifying its attributes\n",
        "* They can perform calculations based on the object's attributes\n",
        "* They organize code by keeping related operations together with the data they operate on\n",
        "\n",
        "Let's look at a monkey class with several methods:"
      ],
      "metadata": {
        "id": "7dzHtObFYLWk"
      }
    },
    {
      "cell_type": "code",
      "source": [
        "class Monkey:\n",
        "    def __init__(self, name, age, favorite_food):\n",
        "        self.name = name\n",
        "        self.age = age\n",
        "        self.favorite_food = favorite_food\n",
        "        self.energy = 100  # All monkeys start with full energy\n",
        "\n",
        "    def climb(self, height):\n",
        "        \"\"\"The monkey climbs up a tree or structure\"\"\"\n",
        "        if self.energy >= 10:\n",
        "            self.energy -= 10\n",
        "            return f\"{self.name} climbs up {height} feet high!\"\n",
        "        else:\n",
        "            return f\"{self.name} is too tired to climb.\"\n",
        "\n",
        "    def eat(self, food):\n",
        "        \"\"\"The monkey eats some food and regains energy\"\"\"\n",
        "        self.energy += 25\n",
        "        if self.energy > 100:\n",
        "            self.energy = 100\n",
        "\n",
        "        if food == self.favorite_food:\n",
        "            return f\"{self.name} eats {food} excitedly! Energy: {self.energy}\"\n",
        "        else:\n",
        "            return f\"{self.name} eats {food}. Energy: {self.energy}\"\n",
        "\n",
        "    def make_sound(self):\n",
        "        \"\"\"The monkey makes a sound\"\"\"\n",
        "        return f\"{self.name} says: Ooh ooh aah aah!\""
      ],
      "metadata": {
        "id": "Quf9O7acYNSV"
      },
      "execution_count": null,
      "outputs": []
    },
    {
      "cell_type": "markdown",
      "source": [
        "Now let's see these methods in action."
      ],
      "metadata": {
        "id": "B7ICiKSHYP9n"
      }
    },
    {
      "cell_type": "code",
      "source": [
        "# Create a monkey object\n",
        "george = Monkey(\"George\", 4, \"bananas\")\n",
        "\n",
        "# Call methods on our monkey\n",
        "print(george.make_sound())  # Output: George says: Ooh ooh aah aah!\n",
        "print(george.climb(20))     # Output: George climbs up 20 feet high!\n",
        "print(f\"Energy level: {george.energy}\")  # Output: Energy level: 90\n",
        "print(george.eat(\"bananas\"))  # Output: George eats bananas excitedly! Energy: 100"
      ],
      "metadata": {
        "colab": {
          "base_uri": "https://localhost:8080/"
        },
        "id": "eIxH1pw0YRq-",
        "outputId": "71c3f20a-588f-4367-8017-97ff3e2e9e53"
      },
      "execution_count": null,
      "outputs": [
        {
          "output_type": "stream",
          "name": "stdout",
          "text": [
            "George says: Ooh ooh aah aah!\n",
            "George climbs up 20 feet high!\n",
            "Energy level: 90\n",
            "George eats bananas excitedly! Energy: 100\n"
          ]
        }
      ]
    },
    {
      "cell_type": "markdown",
      "source": [
        "Notice how the `self` parameter lets methods access and modify the object's attributes. When you call a method on an object, Python automatically passes the object itself as the first argument to the method. This is why every method in a class has `self` as its first parameter.\n",
        "\n",
        "| Method Type | Description | Example |\n",
        "|-------------|-------------|---------|\n",
        "| Accessor | Retrieves data but doesn't modify the object | `get_age()` |\n",
        "| Mutator | Changes the object's state by modifying attributes | `eat()` |\n",
        "| Helper | Supports other methods but isn't usually called directly | `_calculate_energy_needed()` |\n",
        "| Special | Built-in Python methods with special meaning | `__init__()`, `__str__()` |\n",
        "\n",
        "Methods are what make your objects come alive in your code. By giving your classes well-designed methods, you create objects that behave in intuitive ways and can interact with each other, just like real animals in a zoo."
      ],
      "metadata": {
        "id": "cTB86WI2YVgK"
      }
    },
    {
      "cell_type": "code",
      "source": [
        "# @title\n",
        "mm(\"\"\"\n",
        "classDiagram\n",
        "    class Monkey {\n",
        "        +name: string\n",
        "        +age: int\n",
        "        +favorite_food: string\n",
        "        +energy: int\n",
        "        +__init__(name, age, favorite_food)\n",
        "        +climb(height)\n",
        "        +eat(food)\n",
        "        +make_sound()\n",
        "    }\n",
        "\n",
        "    note for Monkey \"The energy attribute decreases when climbing and increases when eating\"\n",
        "    \"\"\")"
      ],
      "metadata": {
        "colab": {
          "base_uri": "https://localhost:8080/",
          "height": 412
        },
        "cellView": "form",
        "id": "RIe47q8oYZE9",
        "outputId": "916c40c4-174b-4b55-8c61-bc11c3c4c0f5"
      },
      "execution_count": null,
      "outputs": [
        {
          "output_type": "display_data",
          "data": {
            "text/plain": [
              "<IPython.core.display.HTML object>"
            ],
            "text/html": [
              "<svg id=\"mermaid-svg\" width=\"100%\" xmlns=\"http://www.w3.org/2000/svg\" class=\"classDiagram\" style=\"max-width: 550.09375px;\" viewBox=\"0 0 550.09375 390\" role=\"graphics-document document\" aria-roledescription=\"class\" xmlns:xlink=\"http://www.w3.org/1999/xlink\"><style xmlns=\"http://www.w3.org/1999/xhtml\">@import url(\"https://cdnjs.cloudflare.com/ajax/libs/font-awesome/6.7.2/css/all.min.css\");</style><style>#mermaid-svg{font-family:\"trebuchet ms\",verdana,arial,sans-serif;font-size:16px;fill:#333;}@keyframes edge-animation-frame{from{stroke-dashoffset:0;}}@keyframes dash{to{stroke-dashoffset:0;}}#mermaid-svg .edge-animation-slow{stroke-dasharray:9,5!important;stroke-dashoffset:900;animation:dash 50s linear infinite;stroke-linecap:round;}#mermaid-svg .edge-animation-fast{stroke-dasharray:9,5!important;stroke-dashoffset:900;animation:dash 20s linear infinite;stroke-linecap:round;}#mermaid-svg .error-icon{fill:#552222;}#mermaid-svg .error-text{fill:#552222;stroke:#552222;}#mermaid-svg .edge-thickness-normal{stroke-width:1px;}#mermaid-svg .edge-thickness-thick{stroke-width:3.5px;}#mermaid-svg .edge-pattern-solid{stroke-dasharray:0;}#mermaid-svg .edge-thickness-invisible{stroke-width:0;fill:none;}#mermaid-svg .edge-pattern-dashed{stroke-dasharray:3;}#mermaid-svg .edge-pattern-dotted{stroke-dasharray:2;}#mermaid-svg .marker{fill:#333333;stroke:#333333;}#mermaid-svg .marker.cross{stroke:#333333;}#mermaid-svg svg{font-family:\"trebuchet ms\",verdana,arial,sans-serif;font-size:16px;}#mermaid-svg p{margin:0;}#mermaid-svg g.classGroup text{fill:#9370DB;stroke:none;font-family:\"trebuchet ms\",verdana,arial,sans-serif;font-size:10px;}#mermaid-svg g.classGroup text .title{font-weight:bolder;}#mermaid-svg .nodeLabel,#mermaid-svg .edgeLabel{color:#131300;}#mermaid-svg .edgeLabel .label rect{fill:#ECECFF;}#mermaid-svg .label text{fill:#131300;}#mermaid-svg .labelBkg{background:#ECECFF;}#mermaid-svg .edgeLabel .label span{background:#ECECFF;}#mermaid-svg .classTitle{font-weight:bolder;}#mermaid-svg .node rect,#mermaid-svg .node circle,#mermaid-svg .node ellipse,#mermaid-svg .node polygon,#mermaid-svg .node path{fill:#ECECFF;stroke:#9370DB;stroke-width:1px;}#mermaid-svg .divider{stroke:#9370DB;stroke-width:1;}#mermaid-svg g.clickable{cursor:pointer;}#mermaid-svg g.classGroup rect{fill:#ECECFF;stroke:#9370DB;}#mermaid-svg g.classGroup line{stroke:#9370DB;stroke-width:1;}#mermaid-svg .classLabel .box{stroke:none;stroke-width:0;fill:#ECECFF;opacity:0.5;}#mermaid-svg .classLabel .label{fill:#9370DB;font-size:10px;}#mermaid-svg .relation{stroke:#333333;stroke-width:1;fill:none;}#mermaid-svg .dashed-line{stroke-dasharray:3;}#mermaid-svg .dotted-line{stroke-dasharray:1 2;}#mermaid-svg #compositionStart,#mermaid-svg .composition{fill:#333333!important;stroke:#333333!important;stroke-width:1;}#mermaid-svg #compositionEnd,#mermaid-svg .composition{fill:#333333!important;stroke:#333333!important;stroke-width:1;}#mermaid-svg #dependencyStart,#mermaid-svg .dependency{fill:#333333!important;stroke:#333333!important;stroke-width:1;}#mermaid-svg #dependencyStart,#mermaid-svg .dependency{fill:#333333!important;stroke:#333333!important;stroke-width:1;}#mermaid-svg #extensionStart,#mermaid-svg .extension{fill:transparent!important;stroke:#333333!important;stroke-width:1;}#mermaid-svg #extensionEnd,#mermaid-svg .extension{fill:transparent!important;stroke:#333333!important;stroke-width:1;}#mermaid-svg #aggregationStart,#mermaid-svg .aggregation{fill:transparent!important;stroke:#333333!important;stroke-width:1;}#mermaid-svg #aggregationEnd,#mermaid-svg .aggregation{fill:transparent!important;stroke:#333333!important;stroke-width:1;}#mermaid-svg #lollipopStart,#mermaid-svg .lollipop{fill:#ECECFF!important;stroke:#333333!important;stroke-width:1;}#mermaid-svg #lollipopEnd,#mermaid-svg .lollipop{fill:#ECECFF!important;stroke:#333333!important;stroke-width:1;}#mermaid-svg .edgeTerminals{font-size:11px;line-height:initial;}#mermaid-svg .classTitleText{text-anchor:middle;font-size:18px;fill:#333;}#mermaid-svg :root{--mermaid-font-family:\"trebuchet ms\",verdana,arial,sans-serif;}</style><g><defs><marker id=\"mermaid-svg_class-aggregationStart\" class=\"marker aggregation class\" refX=\"18\" refY=\"7\" markerWidth=\"190\" markerHeight=\"240\" orient=\"auto\"><path d=\"M 18,7 L9,13 L1,7 L9,1 Z\"/></marker></defs><defs><marker id=\"mermaid-svg_class-aggregationEnd\" class=\"marker aggregation class\" refX=\"1\" refY=\"7\" markerWidth=\"20\" markerHeight=\"28\" orient=\"auto\"><path d=\"M 18,7 L9,13 L1,7 L9,1 Z\"/></marker></defs><defs><marker id=\"mermaid-svg_class-extensionStart\" class=\"marker extension class\" refX=\"18\" refY=\"7\" markerWidth=\"190\" markerHeight=\"240\" orient=\"auto\"><path d=\"M 1,7 L18,13 V 1 Z\"/></marker></defs><defs><marker id=\"mermaid-svg_class-extensionEnd\" class=\"marker extension class\" refX=\"1\" refY=\"7\" markerWidth=\"20\" markerHeight=\"28\" orient=\"auto\"><path d=\"M 1,1 V 13 L18,7 Z\"/></marker></defs><defs><marker id=\"mermaid-svg_class-compositionStart\" class=\"marker composition class\" refX=\"18\" refY=\"7\" markerWidth=\"190\" markerHeight=\"240\" orient=\"auto\"><path d=\"M 18,7 L9,13 L1,7 L9,1 Z\"/></marker></defs><defs><marker id=\"mermaid-svg_class-compositionEnd\" class=\"marker composition class\" refX=\"1\" refY=\"7\" markerWidth=\"20\" markerHeight=\"28\" orient=\"auto\"><path d=\"M 18,7 L9,13 L1,7 L9,1 Z\"/></marker></defs><defs><marker id=\"mermaid-svg_class-dependencyStart\" class=\"marker dependency class\" refX=\"6\" refY=\"7\" markerWidth=\"190\" markerHeight=\"240\" orient=\"auto\"><path d=\"M 5,7 L9,13 L1,7 L9,1 Z\"/></marker></defs><defs><marker id=\"mermaid-svg_class-dependencyEnd\" class=\"marker dependency class\" refX=\"13\" refY=\"7\" markerWidth=\"20\" markerHeight=\"28\" orient=\"auto\"><path d=\"M 18,7 L9,13 L14,7 L9,1 Z\"/></marker></defs><defs><marker id=\"mermaid-svg_class-lollipopStart\" class=\"marker lollipop class\" refX=\"13\" refY=\"7\" markerWidth=\"190\" markerHeight=\"240\" orient=\"auto\"><circle stroke=\"black\" fill=\"transparent\" cx=\"7\" cy=\"7\" r=\"6\"/></marker></defs><defs><marker id=\"mermaid-svg_class-lollipopEnd\" class=\"marker lollipop class\" refX=\"1\" refY=\"7\" markerWidth=\"190\" markerHeight=\"240\" orient=\"auto\"><circle stroke=\"black\" fill=\"transparent\" cx=\"7\" cy=\"7\" r=\"6\"/></marker></defs><g class=\"root\"><g class=\"clusters\"/><g class=\"edgePaths\"><path d=\"M275.047,44L275.047,48.167C275.047,52.333,275.047,60.667,275.047,69C275.047,77.333,275.047,85.667,275.047,89.833L275.047,94\" id=\"edgeNote1\" class=\" edge-thickness-normal edge-pattern-dotted relation\" style=\"fill: none;\"/></g><g class=\"edgeLabels\"><g class=\"edgeLabel\"><g class=\"label\" transform=\"translate(0, 0)\"><foreignObject width=\"0\" height=\"0\"><div style=\"display: table-cell; white-space: nowrap; line-height: 1.5; max-width: 200px; text-align: center;\" xmlns=\"http://www.w3.org/1999/xhtml\" class=\"labelBkg\"><span style=\";\" class=\"edgeLabel \"></span></div></foreignObject></g></g></g><g class=\"nodes\"><g class=\"node default \" id=\"classId-Monkey-0\" transform=\"translate(275.046875, 238)\"><g class=\"basic label-container\"><path d=\"M-137.40234375 -144 L137.40234375 -144 L137.40234375 144 L-137.40234375 144\" stroke=\"none\" stroke-width=\"0\" fill=\"#ECECFF\" style=\"\"/><path d=\"M-137.40234375 -144 C-55.73326435872211 -144, 25.93581503255578 -144, 137.40234375 -144 M-137.40234375 -144 C-77.97640087655621 -144, -18.550458003112425 -144, 137.40234375 -144 M137.40234375 -144 C137.40234375 -81.93606035332735, 137.40234375 -19.872120706654698, 137.40234375 144 M137.40234375 -144 C137.40234375 -54.9072208520743, 137.40234375 34.18555829585139, 137.40234375 144 M137.40234375 144 C71.54979604209916 144, 5.697248334198321 144, -137.40234375 144 M137.40234375 144 C65.86739736584084 144, -5.6675490183183115 144, -137.40234375 144 M-137.40234375 144 C-137.40234375 53.38882053789824, -137.40234375 -37.22235892420352, -137.40234375 -144 M-137.40234375 144 C-137.40234375 38.14714768476102, -137.40234375 -67.70570463047795, -137.40234375 -144\" stroke=\"#9370DB\" stroke-width=\"1.3\" fill=\"none\" style=\"\"/></g><g class=\"annotation-group text\" transform=\"translate(0, -120)\"/><g class=\"label-group text\" transform=\"translate(-29.7890625, -120)\"><g class=\"label\" style=\"font-weight: bolder\" transform=\"translate(0,-12)\"><foreignObject width=\"59.578125\" height=\"24\"><div xmlns=\"http://www.w3.org/1999/xhtml\" style=\"display: table-cell; white-space: nowrap; line-height: 1.5; max-width: 103px; text-align: center;\"><span class=\"nodeLabel markdown-node-label\" style=\"\"><p>Monkey</p></span></div></foreignObject></g></g><g class=\"members-group text\" transform=\"translate(-125.40234375, -72)\"><g class=\"label\" style=\"\" transform=\"translate(0,-12)\"><foreignObject width=\"97.390625\" height=\"24\"><div xmlns=\"http://www.w3.org/1999/xhtml\" style=\"display: table-cell; white-space: nowrap; line-height: 1.5; max-width: 143px; text-align: center;\"><span class=\"nodeLabel markdown-node-label\" style=\"\"><p>+name: string</p></span></div></foreignObject></g><g class=\"label\" style=\"\" transform=\"translate(0,12)\"><foreignObject width=\"61.828125\" height=\"24\"><div xmlns=\"http://www.w3.org/1999/xhtml\" style=\"display: table-cell; white-space: nowrap; line-height: 1.5; max-width: 112px; text-align: center;\"><span class=\"nodeLabel markdown-node-label\" style=\"\"><p>+age: int</p></span></div></foreignObject></g><g class=\"label\" style=\"\" transform=\"translate(0,36)\"><foreignObject width=\"149.875\" height=\"24\"><div xmlns=\"http://www.w3.org/1999/xhtml\" style=\"display: table-cell; white-space: nowrap; line-height: 1.5; max-width: 195px; text-align: center;\"><span class=\"nodeLabel markdown-node-label\" style=\"\"><p>+favorite_food: string</p></span></div></foreignObject></g><g class=\"label\" style=\"\" transform=\"translate(0,60)\"><foreignObject width=\"84.0625\" height=\"24\"><div xmlns=\"http://www.w3.org/1999/xhtml\" style=\"display: table-cell; white-space: nowrap; line-height: 1.5; max-width: 133px; text-align: center;\"><span class=\"nodeLabel markdown-node-label\" style=\"\"><p>+energy: int</p></span></div></foreignObject></g></g><g class=\"methods-group text\" transform=\"translate(-125.40234375, 48)\"><g class=\"label\" style=\"\" transform=\"translate(0,-12)\"><foreignObject width=\"221.015625\" height=\"24\"><div xmlns=\"http://www.w3.org/1999/xhtml\" style=\"display: table-cell; white-space: nowrap; line-height: 1.5; max-width: 287px; text-align: center;\"><span class=\"nodeLabel markdown-node-label\" style=\"\"><p>+<strong>init</strong>(name, age, favorite_food)</p></span></div></foreignObject></g><g class=\"label\" style=\"\" transform=\"translate(0,12)\"><foreignObject width=\"100.9375\" height=\"24\"><div xmlns=\"http://www.w3.org/1999/xhtml\" style=\"display: table-cell; white-space: nowrap; line-height: 1.5; max-width: 151px; text-align: center;\"><span class=\"nodeLabel markdown-node-label\" style=\"\"><p>+climb(height)</p></span></div></foreignObject></g><g class=\"label\" style=\"\" transform=\"translate(0,36)\"><foreignObject width=\"73.390625\" height=\"24\"><div xmlns=\"http://www.w3.org/1999/xhtml\" style=\"display: table-cell; white-space: nowrap; line-height: 1.5; max-width: 122px; text-align: center;\"><span class=\"nodeLabel markdown-node-label\" style=\"\"><p>+eat(food)</p></span></div></foreignObject></g><g class=\"label\" style=\"\" transform=\"translate(0,60)\"><foreignObject width=\"111.625\" height=\"24\"><div xmlns=\"http://www.w3.org/1999/xhtml\" style=\"display: table-cell; white-space: nowrap; line-height: 1.5; max-width: 155px; text-align: center;\"><span class=\"nodeLabel markdown-node-label\" style=\"\"><p>+make_sound()</p></span></div></foreignObject></g></g><g class=\"divider\" style=\"\"><path d=\"M-137.40234375 -96 C-50.42836677172821 -96, 36.545610206543586 -96, 137.40234375 -96 M-137.40234375 -96 C-38.451440319099746 -96, 60.49946311180051 -96, 137.40234375 -96\" stroke=\"#9370DB\" stroke-width=\"1.3\" fill=\"none\" style=\"\"/></g><g class=\"divider\" style=\"\"><path d=\"M-137.40234375 24 C-71.27958933351988 24, -5.15683491703976 24, 137.40234375 24 M-137.40234375 24 C-47.224939457560524 24, 42.95246483487895 24, 137.40234375 24\" stroke=\"#9370DB\" stroke-width=\"1.3\" fill=\"none\" style=\"\"/></g></g><g class=\"node undefined \" id=\"note0\" transform=\"translate(275.046875, 26)\"><g class=\"basic label-container\"><path d=\"M-267.046875 -18 L267.046875 -18 L267.046875 18 L-267.046875 18\" stroke=\"none\" stroke-width=\"0\" fill=\"#fff5ad\" style=\"fill:#fff5ad !important;stroke:#aaaa33 !important\"/><path d=\"M-267.046875 -18 C-68.0972772505969 -18, 130.8523204988062 -18, 267.046875 -18 M-267.046875 -18 C-158.0337808347575 -18, -49.02068666951499 -18, 267.046875 -18 M267.046875 -18 C267.046875 -4.737487235250638, 267.046875 8.525025529498723, 267.046875 18 M267.046875 -18 C267.046875 -8.926191053625264, 267.046875 0.1476178927494729, 267.046875 18 M267.046875 18 C151.56691259148664 18, 36.08695018297328 18, -267.046875 18 M267.046875 18 C79.92220812846293 18, -107.20245874307415 18, -267.046875 18 M-267.046875 18 C-267.046875 8.704026206079702, -267.046875 -0.5919475878405969, -267.046875 -18 M-267.046875 18 C-267.046875 6.629036363780173, -267.046875 -4.7419272724396535, -267.046875 -18\" stroke=\"#aaaa33\" stroke-width=\"1.3\" fill=\"none\" style=\"fill:#fff5ad !important;stroke:#aaaa33 !important\"/></g><g class=\"label\" style=\"text-align:left !important;white-space:nowrap !important\" transform=\"translate(-261.046875, -12)\"><rect/><foreignObject width=\"522.09375\" height=\"24\"><div style=\"text-align: center; white-space: break-spaces; display: table; line-height: 1.5; max-width: 200px; width: 200px;\" xmlns=\"http://www.w3.org/1999/xhtml\"><span style=\"text-align:left !important;white-space:nowrap !important\" class=\"nodeLabel \"><p>The energy attribute decreases when climbing and increases when eating</p></span></div></foreignObject></g></g></g></g></g></svg>"
            ]
          },
          "metadata": {}
        }
      ]
    },
    {
      "cell_type": "markdown",
      "source": [
        "# Constructors: Setting Up New Animals When They Join Our Zoo\n",
        "\n",
        "When a new animal arrives at a real zoo, zookeepers need to set up its habitat, create identification records, and establish a feeding schedule. Similarly, when we create a new object in our virtual zoo, we need to initialize its attributes with starting values. This initialization is handled by a special method called a **constructor**.\n",
        "\n",
        "The **constructor** is a special method that is automatically called when a new object is created and is responsible for setting up the initial state of the object.\n",
        "\n",
        "In Python, the constructor is defined with the special name `__init__` (pronounced \"dunder init\" - short for \"double underscore init\"):"
      ],
      "metadata": {
        "id": "d4NuqaNGY3jH"
      }
    },
    {
      "cell_type": "code",
      "source": [
        "class Tiger:\n",
        "    def __init__(self, name, age, stripe_pattern=\"standard\"):\n",
        "        \"\"\"\n",
        "        Initialize a new Tiger object\n",
        "        This is the constructor method\n",
        "        \"\"\"\n",
        "        self.name = name\n",
        "        self.age = age\n",
        "        self.stripe_pattern = stripe_pattern\n",
        "        self.health = 100  # Default value\n",
        "        self.hunger = 0    # Default value\n",
        "        print(f\"A new tiger named {self.name} has joined the zoo!\")"
      ],
      "metadata": {
        "id": "v3MoDlzHY5K9"
      },
      "execution_count": null,
      "outputs": []
    },
    {
      "cell_type": "markdown",
      "source": [
        "Key functions of constructors:\n",
        "* They set initial values for the object's attributes\n",
        "* They can perform any startup tasks needed before the object is used\n",
        "* They can validate input data to ensure the object is created correctly\n",
        "* They ensure the object is in a usable state from the moment it's created\n",
        "\n",
        "Here's how the constructor is called when we create tiger objects:\n"
      ],
      "metadata": {
        "id": "GE7wXMGKYWbH"
      }
    },
    {
      "cell_type": "code",
      "source": [
        "# The __init__ method is called automatically when we create new objects\n",
        "tony = Tiger(\"Tony\", 5, \"bold\")\n",
        "raja = Tiger(\"Raja\", 3)\n",
        "\n",
        "# Now our tiger objects are ready to use with their attributes initialized\n",
        "print(f\"{tony.name} is {tony.age} years old with {tony.stripe_pattern} stripes\")\n",
        "print(f\"{raja.name} has a health level of {raja.health}\")"
      ],
      "metadata": {
        "colab": {
          "base_uri": "https://localhost:8080/"
        },
        "id": "Yrc1AtIUY-d8",
        "outputId": "85cc24b4-0545-4053-d286-cee96b3cfea6"
      },
      "execution_count": null,
      "outputs": [
        {
          "output_type": "stream",
          "name": "stdout",
          "text": [
            "A new tiger named Tony has joined the zoo!\n",
            "A new tiger named Raja has joined the zoo!\n",
            "Tony is 5 years old with bold stripes\n",
            "Raja has a health level of 100\n"
          ]
        }
      ]
    },
    {
      "cell_type": "markdown",
      "source": [
        "| Parameter | Purpose | Example |\n",
        "|-----------|---------|---------|\n",
        "| Required | Essential for creating the object | `name`, `age` |\n",
        "| Optional | Can have default values | `stripe_pattern=\"standard\"` |\n",
        "| Self-assigned | Set by the constructor, not passed in | `health=100`, `hunger=0` |\n",
        "\n",
        "Important things to know about constructors:\n",
        "* The `self` parameter refers to the object being created\n",
        "* Constructors don't return values (Python ignores any return value)\n",
        "* If you don't define a constructor, Python provides a default one that does nothing\n",
        "* You can have only one `__init__` method per class\n",
        "\n",
        "A well-designed constructor makes it easy to create objects with appropriate initial values, helping ensure that your objects behave correctly from the start."
      ],
      "metadata": {
        "id": "q8XfrCwAZGGS"
      }
    },
    {
      "cell_type": "markdown",
      "source": [
        "# Encapsulation: Protecting Our Animals' Private Information\n",
        "\n",
        "In real zoos, some information about animals is kept private for their protection—like their exact medical histories or security measures for endangered species. Similarly, in OOP, we often want to protect certain data from being directly accessed or modified. **Encapsulation** is the concept of bundling data with the methods that operate on that data, and controlling access to that data.\n",
        "\n",
        "**Encapsulation** is an OOP principle that combines data and methods within a class while restricting direct access to some of the object's components.\n",
        "\n",
        "Benefits of encapsulation include:\n",
        "* It helps prevent code from outside the class from accidentally changing object state\n",
        "* It lets you enforce validation rules when attributes are modified\n",
        "* It allows you to change the internal implementation without affecting code that uses the class\n",
        "* It reduces complexity by hiding internal details from other parts of the program\n",
        "\n",
        "In Python, encapsulation is implemented using naming conventions and property methods:\n"
      ],
      "metadata": {
        "id": "Njbw-L-LZZyl"
      }
    },
    {
      "cell_type": "code",
      "source": [
        "class Giraffe:\n",
        "    def __init__(self, name, age, height):\n",
        "        self.name = name      # Public attribute - accessible anywhere\n",
        "        self._age = age       # Protected attribute - suggests \"don't access directly\"\n",
        "        self.__height = height  # Private attribute - harder to access directly\n",
        "\n",
        "    # Getter method (accessor)\n",
        "    def get_height(self):\n",
        "        return self.__height\n",
        "\n",
        "    # Setter method (mutator) with validation\n",
        "    def set_height(self, new_height):\n",
        "        if new_height > 0:\n",
        "            self.__height = new_height\n",
        "        else:\n",
        "            print(\"Height must be positive!\")"
      ],
      "metadata": {
        "id": "sJ2x179lZc8E"
      },
      "execution_count": null,
      "outputs": []
    },
    {
      "cell_type": "markdown",
      "source": [
        "Let's see encapsulation in action:"
      ],
      "metadata": {
        "id": "mVaXz_8naIkt"
      }
    },
    {
      "cell_type": "code",
      "source": [
        "# Create a giraffe\n",
        "gerald = Giraffe(\"Gerald\", 7, 18.5)  # Height in feet\n",
        "\n",
        "# Using getters and setters\n",
        "print(f\"Gerald's height is {gerald.get_height()} feet\")\n",
        "gerald.set_height(19.2)  # Growth spurt\n",
        "print(f\"Gerald's new height is {gerald.get_height()} feet\")\n",
        "gerald.set_height(-5)  # This will be rejected"
      ],
      "metadata": {
        "colab": {
          "base_uri": "https://localhost:8080/"
        },
        "id": "amEwZQ2UaKee",
        "outputId": "4c59219b-9c96-4b94-b162-f16b1017651e"
      },
      "execution_count": null,
      "outputs": [
        {
          "output_type": "stream",
          "name": "stdout",
          "text": [
            "Gerald's height is 18.5 feet\n",
            "Gerald's new height is 19.2 feet\n",
            "Height must be positive!\n"
          ]
        }
      ]
    },
    {
      "cell_type": "markdown",
      "source": [
        "\n",
        "In Python, encapsulation is primarily implemented through conventions:\n",
        "* Names with no underscore (like `name`) are considered public\n",
        "* Names with one underscore (like `_age`) are considered protected (a suggestion)\n",
        "* Names with two underscores (like `__height`) are name-mangled to make them harder to access directly\n",
        "\n",
        "The Python philosophy is often described as \"we're all consenting adults here,\" meaning it relies more on conventions and documentation than strict enforcement of access control. However, following these conventions helps make your code more maintainable and less prone to errors."
      ],
      "metadata": {
        "id": "GOD0pyMDaNAh"
      }
    },
    {
      "cell_type": "code",
      "source": [
        "# @title\n",
        "mm(\"\"\"\n",
        "classDiagram\n",
        "    class Giraffe {\n",
        "        +name: string\n",
        "        #_age: int\n",
        "        -__height: float\n",
        "        +__init__(name, age, height)\n",
        "        +get_height()\n",
        "        +set_height(new_height)\n",
        "        +age property getter\n",
        "        +age property setter\n",
        "    }\n",
        "\n",
        "    note for Giraffe \"Public (+), Protected (#), Private (-)\"\n",
        "\"\"\")"
      ],
      "metadata": {
        "colab": {
          "base_uri": "https://localhost:8080/",
          "height": 412
        },
        "cellView": "form",
        "id": "wm3BfmjuaQj_",
        "outputId": "ec4bf6e7-e0d4-48db-948d-32ca3f097ba0"
      },
      "execution_count": null,
      "outputs": [
        {
          "output_type": "display_data",
          "data": {
            "text/plain": [
              "<IPython.core.display.HTML object>"
            ],
            "text/html": [
              "<svg id=\"mermaid-svg\" width=\"100%\" xmlns=\"http://www.w3.org/2000/svg\" class=\"classDiagram\" style=\"max-width: 276.515625px;\" viewBox=\"0 0 276.515625 390\" role=\"graphics-document document\" aria-roledescription=\"class\" xmlns:xlink=\"http://www.w3.org/1999/xlink\"><style xmlns=\"http://www.w3.org/1999/xhtml\">@import url(\"https://cdnjs.cloudflare.com/ajax/libs/font-awesome/6.7.2/css/all.min.css\");</style><style>#mermaid-svg{font-family:\"trebuchet ms\",verdana,arial,sans-serif;font-size:16px;fill:#333;}@keyframes edge-animation-frame{from{stroke-dashoffset:0;}}@keyframes dash{to{stroke-dashoffset:0;}}#mermaid-svg .edge-animation-slow{stroke-dasharray:9,5!important;stroke-dashoffset:900;animation:dash 50s linear infinite;stroke-linecap:round;}#mermaid-svg .edge-animation-fast{stroke-dasharray:9,5!important;stroke-dashoffset:900;animation:dash 20s linear infinite;stroke-linecap:round;}#mermaid-svg .error-icon{fill:#552222;}#mermaid-svg .error-text{fill:#552222;stroke:#552222;}#mermaid-svg .edge-thickness-normal{stroke-width:1px;}#mermaid-svg .edge-thickness-thick{stroke-width:3.5px;}#mermaid-svg .edge-pattern-solid{stroke-dasharray:0;}#mermaid-svg .edge-thickness-invisible{stroke-width:0;fill:none;}#mermaid-svg .edge-pattern-dashed{stroke-dasharray:3;}#mermaid-svg .edge-pattern-dotted{stroke-dasharray:2;}#mermaid-svg .marker{fill:#333333;stroke:#333333;}#mermaid-svg .marker.cross{stroke:#333333;}#mermaid-svg svg{font-family:\"trebuchet ms\",verdana,arial,sans-serif;font-size:16px;}#mermaid-svg p{margin:0;}#mermaid-svg g.classGroup text{fill:#9370DB;stroke:none;font-family:\"trebuchet ms\",verdana,arial,sans-serif;font-size:10px;}#mermaid-svg g.classGroup text .title{font-weight:bolder;}#mermaid-svg .nodeLabel,#mermaid-svg .edgeLabel{color:#131300;}#mermaid-svg .edgeLabel .label rect{fill:#ECECFF;}#mermaid-svg .label text{fill:#131300;}#mermaid-svg .labelBkg{background:#ECECFF;}#mermaid-svg .edgeLabel .label span{background:#ECECFF;}#mermaid-svg .classTitle{font-weight:bolder;}#mermaid-svg .node rect,#mermaid-svg .node circle,#mermaid-svg .node ellipse,#mermaid-svg .node polygon,#mermaid-svg .node path{fill:#ECECFF;stroke:#9370DB;stroke-width:1px;}#mermaid-svg .divider{stroke:#9370DB;stroke-width:1;}#mermaid-svg g.clickable{cursor:pointer;}#mermaid-svg g.classGroup rect{fill:#ECECFF;stroke:#9370DB;}#mermaid-svg g.classGroup line{stroke:#9370DB;stroke-width:1;}#mermaid-svg .classLabel .box{stroke:none;stroke-width:0;fill:#ECECFF;opacity:0.5;}#mermaid-svg .classLabel .label{fill:#9370DB;font-size:10px;}#mermaid-svg .relation{stroke:#333333;stroke-width:1;fill:none;}#mermaid-svg .dashed-line{stroke-dasharray:3;}#mermaid-svg .dotted-line{stroke-dasharray:1 2;}#mermaid-svg #compositionStart,#mermaid-svg .composition{fill:#333333!important;stroke:#333333!important;stroke-width:1;}#mermaid-svg #compositionEnd,#mermaid-svg .composition{fill:#333333!important;stroke:#333333!important;stroke-width:1;}#mermaid-svg #dependencyStart,#mermaid-svg .dependency{fill:#333333!important;stroke:#333333!important;stroke-width:1;}#mermaid-svg #dependencyStart,#mermaid-svg .dependency{fill:#333333!important;stroke:#333333!important;stroke-width:1;}#mermaid-svg #extensionStart,#mermaid-svg .extension{fill:transparent!important;stroke:#333333!important;stroke-width:1;}#mermaid-svg #extensionEnd,#mermaid-svg .extension{fill:transparent!important;stroke:#333333!important;stroke-width:1;}#mermaid-svg #aggregationStart,#mermaid-svg .aggregation{fill:transparent!important;stroke:#333333!important;stroke-width:1;}#mermaid-svg #aggregationEnd,#mermaid-svg .aggregation{fill:transparent!important;stroke:#333333!important;stroke-width:1;}#mermaid-svg #lollipopStart,#mermaid-svg .lollipop{fill:#ECECFF!important;stroke:#333333!important;stroke-width:1;}#mermaid-svg #lollipopEnd,#mermaid-svg .lollipop{fill:#ECECFF!important;stroke:#333333!important;stroke-width:1;}#mermaid-svg .edgeTerminals{font-size:11px;line-height:initial;}#mermaid-svg .classTitleText{text-anchor:middle;font-size:18px;fill:#333;}#mermaid-svg :root{--mermaid-font-family:\"trebuchet ms\",verdana,arial,sans-serif;}</style><g><defs><marker id=\"mermaid-svg_class-aggregationStart\" class=\"marker aggregation class\" refX=\"18\" refY=\"7\" markerWidth=\"190\" markerHeight=\"240\" orient=\"auto\"><path d=\"M 18,7 L9,13 L1,7 L9,1 Z\"/></marker></defs><defs><marker id=\"mermaid-svg_class-aggregationEnd\" class=\"marker aggregation class\" refX=\"1\" refY=\"7\" markerWidth=\"20\" markerHeight=\"28\" orient=\"auto\"><path d=\"M 18,7 L9,13 L1,7 L9,1 Z\"/></marker></defs><defs><marker id=\"mermaid-svg_class-extensionStart\" class=\"marker extension class\" refX=\"18\" refY=\"7\" markerWidth=\"190\" markerHeight=\"240\" orient=\"auto\"><path d=\"M 1,7 L18,13 V 1 Z\"/></marker></defs><defs><marker id=\"mermaid-svg_class-extensionEnd\" class=\"marker extension class\" refX=\"1\" refY=\"7\" markerWidth=\"20\" markerHeight=\"28\" orient=\"auto\"><path d=\"M 1,1 V 13 L18,7 Z\"/></marker></defs><defs><marker id=\"mermaid-svg_class-compositionStart\" class=\"marker composition class\" refX=\"18\" refY=\"7\" markerWidth=\"190\" markerHeight=\"240\" orient=\"auto\"><path d=\"M 18,7 L9,13 L1,7 L9,1 Z\"/></marker></defs><defs><marker id=\"mermaid-svg_class-compositionEnd\" class=\"marker composition class\" refX=\"1\" refY=\"7\" markerWidth=\"20\" markerHeight=\"28\" orient=\"auto\"><path d=\"M 18,7 L9,13 L1,7 L9,1 Z\"/></marker></defs><defs><marker id=\"mermaid-svg_class-dependencyStart\" class=\"marker dependency class\" refX=\"6\" refY=\"7\" markerWidth=\"190\" markerHeight=\"240\" orient=\"auto\"><path d=\"M 5,7 L9,13 L1,7 L9,1 Z\"/></marker></defs><defs><marker id=\"mermaid-svg_class-dependencyEnd\" class=\"marker dependency class\" refX=\"13\" refY=\"7\" markerWidth=\"20\" markerHeight=\"28\" orient=\"auto\"><path d=\"M 18,7 L9,13 L14,7 L9,1 Z\"/></marker></defs><defs><marker id=\"mermaid-svg_class-lollipopStart\" class=\"marker lollipop class\" refX=\"13\" refY=\"7\" markerWidth=\"190\" markerHeight=\"240\" orient=\"auto\"><circle stroke=\"black\" fill=\"transparent\" cx=\"7\" cy=\"7\" r=\"6\"/></marker></defs><defs><marker id=\"mermaid-svg_class-lollipopEnd\" class=\"marker lollipop class\" refX=\"1\" refY=\"7\" markerWidth=\"190\" markerHeight=\"240\" orient=\"auto\"><circle stroke=\"black\" fill=\"transparent\" cx=\"7\" cy=\"7\" r=\"6\"/></marker></defs><g class=\"root\"><g class=\"clusters\"/><g class=\"edgePaths\"><path d=\"M138.258,44L138.258,48.167C138.258,52.333,138.258,60.667,138.258,69C138.258,77.333,138.258,85.667,138.258,89.833L138.258,94\" id=\"edgeNote1\" class=\" edge-thickness-normal edge-pattern-dotted relation\" style=\"fill: none;\"/></g><g class=\"edgeLabels\"><g class=\"edgeLabel\"><g class=\"label\" transform=\"translate(0, 0)\"><foreignObject width=\"0\" height=\"0\"><div style=\"display: table-cell; white-space: nowrap; line-height: 1.5; max-width: 200px; text-align: center;\" xmlns=\"http://www.w3.org/1999/xhtml\" class=\"labelBkg\"><span style=\";\" class=\"edgeLabel \"></span></div></foreignObject></g></g></g><g class=\"nodes\"><g class=\"node default \" id=\"classId-Giraffe-0\" transform=\"translate(138.2578125, 238)\"><g class=\"basic label-container\"><path d=\"M-112.73828125 -144 L112.73828125 -144 L112.73828125 144 L-112.73828125 144\" stroke=\"none\" stroke-width=\"0\" fill=\"#ECECFF\" style=\"\"/><path d=\"M-112.73828125 -144 C-44.75480029769885 -144, 23.2286806546023 -144, 112.73828125 -144 M-112.73828125 -144 C-65.1734134216014 -144, -17.608545593202777 -144, 112.73828125 -144 M112.73828125 -144 C112.73828125 -70.072726659215, 112.73828125 3.854546681570014, 112.73828125 144 M112.73828125 -144 C112.73828125 -79.64725850742029, 112.73828125 -15.29451701484058, 112.73828125 144 M112.73828125 144 C24.574519501483934 144, -63.58924224703213 144, -112.73828125 144 M112.73828125 144 C64.60338029986141 144, 16.468479349722813 144, -112.73828125 144 M-112.73828125 144 C-112.73828125 45.730522818580454, -112.73828125 -52.53895436283909, -112.73828125 -144 M-112.73828125 144 C-112.73828125 49.14107699940857, -112.73828125 -45.71784600118286, -112.73828125 -144\" stroke=\"#9370DB\" stroke-width=\"1.3\" fill=\"none\" style=\"\"/></g><g class=\"annotation-group text\" transform=\"translate(0, -120)\"/><g class=\"label-group text\" transform=\"translate(-25.7890625, -120)\"><g class=\"label\" style=\"font-weight: bolder\" transform=\"translate(0,-12)\"><foreignObject width=\"51.578125\" height=\"24\"><div xmlns=\"http://www.w3.org/1999/xhtml\" style=\"display: table-cell; white-space: nowrap; line-height: 1.5; max-width: 96px; text-align: center;\"><span class=\"nodeLabel markdown-node-label\" style=\"\"><p>Giraffe</p></span></div></foreignObject></g></g><g class=\"members-group text\" transform=\"translate(-100.73828125, -72)\"><g class=\"label\" style=\"\" transform=\"translate(0,-12)\"><foreignObject width=\"97.390625\" height=\"24\"><div xmlns=\"http://www.w3.org/1999/xhtml\" style=\"display: table-cell; white-space: nowrap; line-height: 1.5; max-width: 143px; text-align: center;\"><span class=\"nodeLabel markdown-node-label\" style=\"\"><p>+name: string</p></span></div></foreignObject></g><g class=\"label\" style=\"\" transform=\"translate(0,12)\"><foreignObject width=\"70.28125\" height=\"24\"><div xmlns=\"http://www.w3.org/1999/xhtml\" style=\"display: table-cell; white-space: nowrap; line-height: 1.5; max-width: 119px; text-align: center;\"><span class=\"nodeLabel markdown-node-label\" style=\"\"><p>#_age: int</p></span></div></foreignObject></g><g class=\"label\" style=\"\" transform=\"translate(0,36)\"><foreignObject width=\"105.859375\" height=\"24\"><div xmlns=\"http://www.w3.org/1999/xhtml\" style=\"display: table-cell; white-space: nowrap; line-height: 1.5; max-width: 154px; text-align: center;\"><span class=\"nodeLabel markdown-node-label\" style=\"\"><p>-__height: float</p></span></div></foreignObject></g><g class=\"label\" style=\"\" transform=\"translate(0,60)\"><foreignObject width=\"144.546875\" height=\"24\"><div xmlns=\"http://www.w3.org/1999/xhtml\" style=\"display: table-cell; white-space: nowrap; line-height: 1.5; max-width: 185px; text-align: center;\"><span class=\"nodeLabel markdown-node-label\" style=\"\"><p>+age property getter</p></span></div></foreignObject></g><g class=\"label\" style=\"\" transform=\"translate(0,84)\"><foreignObject width=\"143.640625\" height=\"24\"><div xmlns=\"http://www.w3.org/1999/xhtml\" style=\"display: table-cell; white-space: nowrap; line-height: 1.5; max-width: 183px; text-align: center;\"><span class=\"nodeLabel markdown-node-label\" style=\"\"><p>+age property setter</p></span></div></foreignObject></g></g><g class=\"methods-group text\" transform=\"translate(-100.73828125, 72)\"><g class=\"label\" style=\"\" transform=\"translate(0,-12)\"><foreignObject width=\"172.09375\" height=\"24\"><div xmlns=\"http://www.w3.org/1999/xhtml\" style=\"display: table-cell; white-space: nowrap; line-height: 1.5; max-width: 240px; text-align: center;\"><span class=\"nodeLabel markdown-node-label\" style=\"\"><p>+<strong>init</strong>(name, age, height)</p></span></div></foreignObject></g><g class=\"label\" style=\"\" transform=\"translate(0,12)\"><foreignObject width=\"94.734375\" height=\"24\"><div xmlns=\"http://www.w3.org/1999/xhtml\" style=\"display: table-cell; white-space: nowrap; line-height: 1.5; max-width: 142px; text-align: center;\"><span class=\"nodeLabel markdown-node-label\" style=\"\"><p>+get_height()</p></span></div></foreignObject></g><g class=\"label\" style=\"\" transform=\"translate(0,36)\"><foreignObject width=\"175.6875\" height=\"24\"><div xmlns=\"http://www.w3.org/1999/xhtml\" style=\"display: table-cell; white-space: nowrap; line-height: 1.5; max-width: 215px; text-align: center;\"><span class=\"nodeLabel markdown-node-label\" style=\"\"><p>+set_height(new_height)</p></span></div></foreignObject></g></g><g class=\"divider\" style=\"\"><path d=\"M-112.73828125 -96 C-48.986948302831024 -96, 14.764384644337952 -96, 112.73828125 -96 M-112.73828125 -96 C-37.38289907574239 -96, 37.97248309851523 -96, 112.73828125 -96\" stroke=\"#9370DB\" stroke-width=\"1.3\" fill=\"none\" style=\"\"/></g><g class=\"divider\" style=\"\"><path d=\"M-112.73828125 48 C-26.522318996375986 48, 59.69364325724803 48, 112.73828125 48 M-112.73828125 48 C-56.29505433313024 48, 0.14817258373952313 48, 112.73828125 48\" stroke=\"#9370DB\" stroke-width=\"1.3\" fill=\"none\" style=\"\"/></g></g><g class=\"node undefined \" id=\"note0\" transform=\"translate(138.2578125, 26)\"><g class=\"basic label-container\"><path d=\"M-130.2578125 -18 L130.2578125 -18 L130.2578125 18 L-130.2578125 18\" stroke=\"none\" stroke-width=\"0\" fill=\"#fff5ad\" style=\"fill:#fff5ad !important;stroke:#aaaa33 !important\"/><path d=\"M-130.2578125 -18 C-26.53637092035237 -18, 77.18507065929526 -18, 130.2578125 -18 M-130.2578125 -18 C-56.640997938700394 -18, 16.97581662259921 -18, 130.2578125 -18 M130.2578125 -18 C130.2578125 -7.249288243512979, 130.2578125 3.5014235129740428, 130.2578125 18 M130.2578125 -18 C130.2578125 -3.7872759128563143, 130.2578125 10.425448174287371, 130.2578125 18 M130.2578125 18 C57.993838745031255 18, -14.27013500993749 18, -130.2578125 18 M130.2578125 18 C75.58253612989202 18, 20.90725975978404 18, -130.2578125 18 M-130.2578125 18 C-130.2578125 8.531499975285016, -130.2578125 -0.9370000494299688, -130.2578125 -18 M-130.2578125 18 C-130.2578125 4.174400895225659, -130.2578125 -9.651198209548681, -130.2578125 -18\" stroke=\"#aaaa33\" stroke-width=\"1.3\" fill=\"none\" style=\"fill:#fff5ad !important;stroke:#aaaa33 !important\"/></g><g class=\"label\" style=\"text-align:left !important;white-space:nowrap !important\" transform=\"translate(-124.2578125, -12)\"><rect/><foreignObject width=\"248.515625\" height=\"24\"><div style=\"text-align: center; white-space: break-spaces; display: table; line-height: 1.5; max-width: 200px; width: 200px;\" xmlns=\"http://www.w3.org/1999/xhtml\"><span style=\"text-align:left !important;white-space:nowrap !important\" class=\"nodeLabel \"><p>Public (+), Protected (#), Private (-)</p></span></div></foreignObject></g></g></g></g></g></svg>"
            ]
          },
          "metadata": {}
        }
      ]
    },
    {
      "cell_type": "markdown",
      "source": [
        "# Inheritance: How Baby Animals Inherit Traits from Parent Classes\n",
        "\n",
        "In nature, animals inherit characteristics from their parents—lions pass on their roars, birds pass on their ability to fly. Similarly, in OOP, we can create new classes that inherit attributes and methods from existing classes. This powerful concept called **inheritance** allows us to reuse code and represent real-world relationships in our programs.\n",
        "\n",
        "**Inheritance** is an OOP principle where a new class (subclass) can be based on an existing class (superclass), inheriting its attributes and methods.\n",
        "\n",
        "Key benefits of inheritance include:\n",
        "* Code reuse - write common code once in a parent class instead of repeating it\n",
        "* Logical organization - represent natural hierarchies (like animal classifications)\n",
        "* Extensibility - easily add specialized versions of existing classes\n",
        "* Maintainability - fix bugs or make changes in one place that affect all related classes\n",
        "\n",
        "Let's see how inheritance works by creating an animal hierarchy for our zoo:"
      ],
      "metadata": {
        "id": "0WgRvjEhbFnU"
      }
    },
    {
      "cell_type": "code",
      "source": [
        "# Parent class (superclass)\n",
        "class Animal:\n",
        "    def __init__(self, name, age, species):\n",
        "        self.name = name\n",
        "        self.age = age\n",
        "        self.species = species\n",
        "        self.health = 100\n",
        "\n",
        "    def make_sound(self):\n",
        "        return \"Some generic animal sound\"\n",
        "\n",
        "    def eat(self, food):\n",
        "        self.health += 10\n",
        "        if self.health > 100:\n",
        "            self.health = 100\n",
        "        return f\"{self.name} eats {food} and now has {self.health} health.\"\n",
        "\n",
        "# Child class (subclass) inheriting from Animal\n",
        "class Feline(Animal):\n",
        "    def __init__(self, name, age, species, fur_pattern):\n",
        "        # Call the parent class's constructor first\n",
        "        super().__init__(name, age, species)\n",
        "        # Add feline-specific attributes\n",
        "        self.fur_pattern = fur_pattern\n",
        "\n",
        "    def purr(self):\n",
        "        return f\"{self.name} purrs contentedly\"\n",
        "\n",
        "    # Override the parent's method with a specialized version\n",
        "    def make_sound(self):\n",
        "        return f\"{self.name} makes feline noises\"\n",
        "\n",
        "# Another child class inheriting from Feline (multilevel inheritance)\n",
        "class Lion(Feline):\n",
        "    def __init__(self, name, age, mane_size=\"medium\"):\n",
        "        # Call the parent (Feline) constructor\n",
        "        super().__init__(name, age, \"Panthera leo\", \"tawny\")\n",
        "        self.mane_size = mane_size\n",
        "\n",
        "    # Override the make_sound method again\n",
        "    def make_sound(self):\n",
        "        return f\"{self.name} ROARS loudly!\"\n"
      ],
      "metadata": {
        "id": "eLgA6lGkbK8J"
      },
      "execution_count": null,
      "outputs": []
    },
    {
      "cell_type": "markdown",
      "source": [
        "Now, let's use our inheritance heirachy:"
      ],
      "metadata": {
        "id": "d0Gx-GCfbONk"
      }
    },
    {
      "cell_type": "code",
      "source": [
        "# Create objects from different levels of the hierarchy\n",
        "generic_animal = Animal(\"Generic\", 5, \"Unknown\")\n",
        "tiger = Feline(\"Tigger\", 7, \"Panthera tigris\", \"striped\")\n",
        "simba = Lion(\"Simba\", 3, \"large\")\n",
        "\n",
        "# Each object has access to methods from its class and all parent classes\n",
        "print(generic_animal.make_sound())  # Output: Some generic animal sound\n",
        "print(tiger.make_sound())  # Output: Tigger makes feline noises\n",
        "print(simba.make_sound())  # Output: Simba ROARS loudly!\n",
        "\n",
        "# Child classes can use methods from parent classes\n",
        "print(simba.eat(\"gazelle\"))  # Output: Simba eats gazelle and now has 100 health.\n",
        "\n",
        "# But parent classes can't use methods from child classes\n",
        "# This would cause an error: generic_animal.purr()"
      ],
      "metadata": {
        "colab": {
          "base_uri": "https://localhost:8080/"
        },
        "id": "79NFTJZCbQ3I",
        "outputId": "70e07efb-fd91-4836-9080-fa2da44ae000"
      },
      "execution_count": null,
      "outputs": [
        {
          "output_type": "stream",
          "name": "stdout",
          "text": [
            "Some generic animal sound\n",
            "Tigger makes feline noises\n",
            "Simba ROARS loudly!\n",
            "Simba eats gazelle and now has 100 health.\n"
          ]
        }
      ]
    },
    {
      "cell_type": "markdown",
      "source": [
        "| Inheritance Type | Description | Example |\n",
        "|------------------|-------------|---------|\n",
        "| Single | A class inherits from one parent | Feline inherits from Animal |\n",
        "| Multilevel | A class inherits from a child class | Lion inherits from Feline |\n",
        "| Multiple | A class inherits from more than one parent | Python supports this, not shown here |\n",
        "\n",
        "In Python, we can use the `super()` function to call methods from the parent class. This is especially important in the constructor to ensure that the parent's initialization code runs before adding any child-specific attributes."
      ],
      "metadata": {
        "id": "lR2BA34dbTVx"
      }
    },
    {
      "cell_type": "code",
      "source": [
        "# @title\n",
        "mm(\"\"\"\n",
        "classDiagram\n",
        "    Animal <|-- Feline\n",
        "    Feline <|-- Lion\n",
        "\n",
        "    class Animal {\n",
        "        +name: string\n",
        "        +age: int\n",
        "        +species: string\n",
        "        +health: int\n",
        "        +__init__(name, age, species)\n",
        "        +make_sound()\n",
        "        +eat(food)\n",
        "    }\n",
        "\n",
        "    class Feline {\n",
        "        +fur_pattern: string\n",
        "        +__init__(name, age, species, fur_pattern)\n",
        "        +purr()\n",
        "        +make_sound()\n",
        "    }\n",
        "\n",
        "    class Lion {\n",
        "        +mane_size: string\n",
        "        +__init__(name, age, mane_size)\n",
        "        +make_sound()\n",
        "    }\"\"\")"
      ],
      "metadata": {
        "colab": {
          "base_uri": "https://localhost:8080/",
          "height": 762
        },
        "cellView": "form",
        "id": "LCHltunUbppK",
        "outputId": "72a79402-3606-4d5b-b37c-fcfa11c3c2e9"
      },
      "execution_count": null,
      "outputs": [
        {
          "output_type": "display_data",
          "data": {
            "text/plain": [
              "<IPython.core.display.HTML object>"
            ],
            "text/html": [
              "<svg id=\"mermaid-svg\" width=\"100%\" xmlns=\"http://www.w3.org/2000/svg\" class=\"classDiagram\" style=\"max-width: 332.1484375px;\" viewBox=\"0 0 332.1484375 740\" role=\"graphics-document document\" aria-roledescription=\"class\" xmlns:xlink=\"http://www.w3.org/1999/xlink\"><style xmlns=\"http://www.w3.org/1999/xhtml\">@import url(\"https://cdnjs.cloudflare.com/ajax/libs/font-awesome/6.7.2/css/all.min.css\");</style><style>#mermaid-svg{font-family:\"trebuchet ms\",verdana,arial,sans-serif;font-size:16px;fill:#333;}@keyframes edge-animation-frame{from{stroke-dashoffset:0;}}@keyframes dash{to{stroke-dashoffset:0;}}#mermaid-svg .edge-animation-slow{stroke-dasharray:9,5!important;stroke-dashoffset:900;animation:dash 50s linear infinite;stroke-linecap:round;}#mermaid-svg .edge-animation-fast{stroke-dasharray:9,5!important;stroke-dashoffset:900;animation:dash 20s linear infinite;stroke-linecap:round;}#mermaid-svg .error-icon{fill:#552222;}#mermaid-svg .error-text{fill:#552222;stroke:#552222;}#mermaid-svg .edge-thickness-normal{stroke-width:1px;}#mermaid-svg .edge-thickness-thick{stroke-width:3.5px;}#mermaid-svg .edge-pattern-solid{stroke-dasharray:0;}#mermaid-svg .edge-thickness-invisible{stroke-width:0;fill:none;}#mermaid-svg .edge-pattern-dashed{stroke-dasharray:3;}#mermaid-svg .edge-pattern-dotted{stroke-dasharray:2;}#mermaid-svg .marker{fill:#333333;stroke:#333333;}#mermaid-svg .marker.cross{stroke:#333333;}#mermaid-svg svg{font-family:\"trebuchet ms\",verdana,arial,sans-serif;font-size:16px;}#mermaid-svg p{margin:0;}#mermaid-svg g.classGroup text{fill:#9370DB;stroke:none;font-family:\"trebuchet ms\",verdana,arial,sans-serif;font-size:10px;}#mermaid-svg g.classGroup text .title{font-weight:bolder;}#mermaid-svg .nodeLabel,#mermaid-svg .edgeLabel{color:#131300;}#mermaid-svg .edgeLabel .label rect{fill:#ECECFF;}#mermaid-svg .label text{fill:#131300;}#mermaid-svg .labelBkg{background:#ECECFF;}#mermaid-svg .edgeLabel .label span{background:#ECECFF;}#mermaid-svg .classTitle{font-weight:bolder;}#mermaid-svg .node rect,#mermaid-svg .node circle,#mermaid-svg .node ellipse,#mermaid-svg .node polygon,#mermaid-svg .node path{fill:#ECECFF;stroke:#9370DB;stroke-width:1px;}#mermaid-svg .divider{stroke:#9370DB;stroke-width:1;}#mermaid-svg g.clickable{cursor:pointer;}#mermaid-svg g.classGroup rect{fill:#ECECFF;stroke:#9370DB;}#mermaid-svg g.classGroup line{stroke:#9370DB;stroke-width:1;}#mermaid-svg .classLabel .box{stroke:none;stroke-width:0;fill:#ECECFF;opacity:0.5;}#mermaid-svg .classLabel .label{fill:#9370DB;font-size:10px;}#mermaid-svg .relation{stroke:#333333;stroke-width:1;fill:none;}#mermaid-svg .dashed-line{stroke-dasharray:3;}#mermaid-svg .dotted-line{stroke-dasharray:1 2;}#mermaid-svg #compositionStart,#mermaid-svg .composition{fill:#333333!important;stroke:#333333!important;stroke-width:1;}#mermaid-svg #compositionEnd,#mermaid-svg .composition{fill:#333333!important;stroke:#333333!important;stroke-width:1;}#mermaid-svg #dependencyStart,#mermaid-svg .dependency{fill:#333333!important;stroke:#333333!important;stroke-width:1;}#mermaid-svg #dependencyStart,#mermaid-svg .dependency{fill:#333333!important;stroke:#333333!important;stroke-width:1;}#mermaid-svg #extensionStart,#mermaid-svg .extension{fill:transparent!important;stroke:#333333!important;stroke-width:1;}#mermaid-svg #extensionEnd,#mermaid-svg .extension{fill:transparent!important;stroke:#333333!important;stroke-width:1;}#mermaid-svg #aggregationStart,#mermaid-svg .aggregation{fill:transparent!important;stroke:#333333!important;stroke-width:1;}#mermaid-svg #aggregationEnd,#mermaid-svg .aggregation{fill:transparent!important;stroke:#333333!important;stroke-width:1;}#mermaid-svg #lollipopStart,#mermaid-svg .lollipop{fill:#ECECFF!important;stroke:#333333!important;stroke-width:1;}#mermaid-svg #lollipopEnd,#mermaid-svg .lollipop{fill:#ECECFF!important;stroke:#333333!important;stroke-width:1;}#mermaid-svg .edgeTerminals{font-size:11px;line-height:initial;}#mermaid-svg .classTitleText{text-anchor:middle;font-size:18px;fill:#333;}#mermaid-svg :root{--mermaid-font-family:\"trebuchet ms\",verdana,arial,sans-serif;}</style><g><defs><marker id=\"mermaid-svg_class-aggregationStart\" class=\"marker aggregation class\" refX=\"18\" refY=\"7\" markerWidth=\"190\" markerHeight=\"240\" orient=\"auto\"><path d=\"M 18,7 L9,13 L1,7 L9,1 Z\"/></marker></defs><defs><marker id=\"mermaid-svg_class-aggregationEnd\" class=\"marker aggregation class\" refX=\"1\" refY=\"7\" markerWidth=\"20\" markerHeight=\"28\" orient=\"auto\"><path d=\"M 18,7 L9,13 L1,7 L9,1 Z\"/></marker></defs><defs><marker id=\"mermaid-svg_class-extensionStart\" class=\"marker extension class\" refX=\"18\" refY=\"7\" markerWidth=\"190\" markerHeight=\"240\" orient=\"auto\"><path d=\"M 1,7 L18,13 V 1 Z\"/></marker></defs><defs><marker id=\"mermaid-svg_class-extensionEnd\" class=\"marker extension class\" refX=\"1\" refY=\"7\" markerWidth=\"20\" markerHeight=\"28\" orient=\"auto\"><path d=\"M 1,1 V 13 L18,7 Z\"/></marker></defs><defs><marker id=\"mermaid-svg_class-compositionStart\" class=\"marker composition class\" refX=\"18\" refY=\"7\" markerWidth=\"190\" markerHeight=\"240\" orient=\"auto\"><path d=\"M 18,7 L9,13 L1,7 L9,1 Z\"/></marker></defs><defs><marker id=\"mermaid-svg_class-compositionEnd\" class=\"marker composition class\" refX=\"1\" refY=\"7\" markerWidth=\"20\" markerHeight=\"28\" orient=\"auto\"><path d=\"M 18,7 L9,13 L1,7 L9,1 Z\"/></marker></defs><defs><marker id=\"mermaid-svg_class-dependencyStart\" class=\"marker dependency class\" refX=\"6\" refY=\"7\" markerWidth=\"190\" markerHeight=\"240\" orient=\"auto\"><path d=\"M 5,7 L9,13 L1,7 L9,1 Z\"/></marker></defs><defs><marker id=\"mermaid-svg_class-dependencyEnd\" class=\"marker dependency class\" refX=\"13\" refY=\"7\" markerWidth=\"20\" markerHeight=\"28\" orient=\"auto\"><path d=\"M 18,7 L9,13 L14,7 L9,1 Z\"/></marker></defs><defs><marker id=\"mermaid-svg_class-lollipopStart\" class=\"marker lollipop class\" refX=\"13\" refY=\"7\" markerWidth=\"190\" markerHeight=\"240\" orient=\"auto\"><circle stroke=\"black\" fill=\"transparent\" cx=\"7\" cy=\"7\" r=\"6\"/></marker></defs><defs><marker id=\"mermaid-svg_class-lollipopEnd\" class=\"marker lollipop class\" refX=\"1\" refY=\"7\" markerWidth=\"190\" markerHeight=\"240\" orient=\"auto\"><circle stroke=\"black\" fill=\"transparent\" cx=\"7\" cy=\"7\" r=\"6\"/></marker></defs><g class=\"root\"><g class=\"clusters\"/><g class=\"edgePaths\"><path d=\"M166.074,290L166.074,291.167C166.074,292.333,166.074,294.667,166.074,300C166.074,305.333,166.074,313.667,166.074,317.833L166.074,322\" id=\"id_Animal_Feline_1\" class=\" edge-thickness-normal edge-pattern-solid relation\" style=\";\" marker-start=\"url(#mermaid-svg_class-extensionStart)\"/><path d=\"M166.074,532L166.074,533.167C166.074,534.333,166.074,536.667,166.074,542C166.074,547.333,166.074,555.667,166.074,559.833L166.074,564\" id=\"id_Feline_Lion_2\" class=\" edge-thickness-normal edge-pattern-solid relation\" style=\";\" marker-start=\"url(#mermaid-svg_class-extensionStart)\"/></g><g class=\"edgeLabels\"><g class=\"edgeLabel\"><g class=\"label\" transform=\"translate(0, -12)\"><foreignObject width=\"0\" height=\"24\"><div style=\"display: table-cell; white-space: nowrap; line-height: 1.5; max-width: 200px; text-align: center;\" xmlns=\"http://www.w3.org/1999/xhtml\" class=\"labelBkg\"><span style=\";display: inline-block\" class=\"edgeLabel \"></span></div></foreignObject></g></g><g class=\"edgeLabel\"><g class=\"label\" transform=\"translate(0, -12)\"><foreignObject width=\"0\" height=\"24\"><div style=\"display: table-cell; white-space: nowrap; line-height: 1.5; max-width: 200px; text-align: center;\" xmlns=\"http://www.w3.org/1999/xhtml\" class=\"labelBkg\"><span style=\";display: inline-block\" class=\"edgeLabel \"></span></div></foreignObject></g></g></g><g class=\"nodes\"><g class=\"node default \" id=\"classId-Animal-0\" transform=\"translate(166.07421875, 140)\"><g class=\"basic label-container\"><path d=\"M-116.7109375 -132 L116.7109375 -132 L116.7109375 132 L-116.7109375 132\" stroke=\"none\" stroke-width=\"0\" fill=\"#ECECFF\" style=\"\"/><path d=\"M-116.7109375 -132 C-65.87062733567802 -132, -15.030317171356032 -132, 116.7109375 -132 M-116.7109375 -132 C-55.0664938565762 -132, 6.577949786847597 -132, 116.7109375 -132 M116.7109375 -132 C116.7109375 -55.53665908836675, 116.7109375 20.926681823266506, 116.7109375 132 M116.7109375 -132 C116.7109375 -30.370221632062538, 116.7109375 71.25955673587492, 116.7109375 132 M116.7109375 132 C60.5490512255235 132, 4.387164951046998 132, -116.7109375 132 M116.7109375 132 C52.604685977845804 132, -11.501565544308392 132, -116.7109375 132 M-116.7109375 132 C-116.7109375 33.460544556758464, -116.7109375 -65.07891088648307, -116.7109375 -132 M-116.7109375 132 C-116.7109375 66.00007786340305, -116.7109375 0.00015572680609921008, -116.7109375 -132\" stroke=\"#9370DB\" stroke-width=\"1.3\" fill=\"none\" style=\"\"/></g><g class=\"annotation-group text\" transform=\"translate(0, -108)\"/><g class=\"label-group text\" transform=\"translate(-26.671875, -108)\"><g class=\"label\" style=\"font-weight: bolder\" transform=\"translate(0,-12)\"><foreignObject width=\"53.34375\" height=\"24\"><div xmlns=\"http://www.w3.org/1999/xhtml\" style=\"display: table-cell; white-space: nowrap; line-height: 1.5; max-width: 99px; text-align: center;\"><span class=\"nodeLabel markdown-node-label\" style=\"\"><p>Animal</p></span></div></foreignObject></g></g><g class=\"members-group text\" transform=\"translate(-104.7109375, -60)\"><g class=\"label\" style=\"\" transform=\"translate(0,-12)\"><foreignObject width=\"97.390625\" height=\"24\"><div xmlns=\"http://www.w3.org/1999/xhtml\" style=\"display: table-cell; white-space: nowrap; line-height: 1.5; max-width: 143px; text-align: center;\"><span class=\"nodeLabel markdown-node-label\" style=\"\"><p>+name: string</p></span></div></foreignObject></g><g class=\"label\" style=\"\" transform=\"translate(0,12)\"><foreignObject width=\"61.828125\" height=\"24\"><div xmlns=\"http://www.w3.org/1999/xhtml\" style=\"display: table-cell; white-space: nowrap; line-height: 1.5; max-width: 112px; text-align: center;\"><span class=\"nodeLabel markdown-node-label\" style=\"\"><p>+age: int</p></span></div></foreignObject></g><g class=\"label\" style=\"\" transform=\"translate(0,36)\"><foreignObject width=\"111.609375\" height=\"24\"><div xmlns=\"http://www.w3.org/1999/xhtml\" style=\"display: table-cell; white-space: nowrap; line-height: 1.5; max-width: 155px; text-align: center;\"><span class=\"nodeLabel markdown-node-label\" style=\"\"><p>+species: string</p></span></div></foreignObject></g><g class=\"label\" style=\"\" transform=\"translate(0,60)\"><foreignObject width=\"78.734375\" height=\"24\"><div xmlns=\"http://www.w3.org/1999/xhtml\" style=\"display: table-cell; white-space: nowrap; line-height: 1.5; max-width: 128px; text-align: center;\"><span class=\"nodeLabel markdown-node-label\" style=\"\"><p>+health: int</p></span></div></foreignObject></g></g><g class=\"methods-group text\" transform=\"translate(-104.7109375, 60)\"><g class=\"label\" style=\"\" transform=\"translate(0,-12)\"><foreignObject width=\"182.75\" height=\"24\"><div xmlns=\"http://www.w3.org/1999/xhtml\" style=\"display: table-cell; white-space: nowrap; line-height: 1.5; max-width: 247px; text-align: center;\"><span class=\"nodeLabel markdown-node-label\" style=\"\"><p>+<strong>init</strong>(name, age, species)</p></span></div></foreignObject></g><g class=\"label\" style=\"\" transform=\"translate(0,12)\"><foreignObject width=\"111.625\" height=\"24\"><div xmlns=\"http://www.w3.org/1999/xhtml\" style=\"display: table-cell; white-space: nowrap; line-height: 1.5; max-width: 155px; text-align: center;\"><span class=\"nodeLabel markdown-node-label\" style=\"\"><p>+make_sound()</p></span></div></foreignObject></g><g class=\"label\" style=\"\" transform=\"translate(0,36)\"><foreignObject width=\"73.390625\" height=\"24\"><div xmlns=\"http://www.w3.org/1999/xhtml\" style=\"display: table-cell; white-space: nowrap; line-height: 1.5; max-width: 122px; text-align: center;\"><span class=\"nodeLabel markdown-node-label\" style=\"\"><p>+eat(food)</p></span></div></foreignObject></g></g><g class=\"divider\" style=\"\"><path d=\"M-116.7109375 -84 C-32.00912247966828 -84, 52.692692540663444 -84, 116.7109375 -84 M-116.7109375 -84 C-55.96503546116085 -84, 4.780866577678296 -84, 116.7109375 -84\" stroke=\"#9370DB\" stroke-width=\"1.3\" fill=\"none\" style=\"\"/></g><g class=\"divider\" style=\"\"><path d=\"M-116.7109375 36 C-59.629352584654725 36, -2.547767669309451 36, 116.7109375 36 M-116.7109375 36 C-44.13554616118914 36, 28.43984517762172 36, 116.7109375 36\" stroke=\"#9370DB\" stroke-width=\"1.3\" fill=\"none\" style=\"\"/></g></g><g class=\"node default \" id=\"classId-Feline-1\" transform=\"translate(166.07421875, 418)\"><g class=\"basic label-container\"><path d=\"M-158.07421875 -96 L158.07421875 -96 L158.07421875 96 L-158.07421875 96\" stroke=\"none\" stroke-width=\"0\" fill=\"#ECECFF\" style=\"\"/><path d=\"M-158.07421875 -96 C-33.96247665695779 -96, 90.14926543608442 -96, 158.07421875 -96 M-158.07421875 -96 C-85.41459466524206 -96, -12.754970580484127 -96, 158.07421875 -96 M158.07421875 -96 C158.07421875 -21.705467733703543, 158.07421875 52.589064532592914, 158.07421875 96 M158.07421875 -96 C158.07421875 -24.02437209631411, 158.07421875 47.95125580737178, 158.07421875 96 M158.07421875 96 C34.41646995900592 96, -89.24127883198815 96, -158.07421875 96 M158.07421875 96 C76.15115881330536 96, -5.771901123389284 96, -158.07421875 96 M-158.07421875 96 C-158.07421875 29.726778571104717, -158.07421875 -36.54644285779057, -158.07421875 -96 M-158.07421875 96 C-158.07421875 46.94581256598041, -158.07421875 -2.108374868039178, -158.07421875 -96\" stroke=\"#9370DB\" stroke-width=\"1.3\" fill=\"none\" style=\"\"/></g><g class=\"annotation-group text\" transform=\"translate(0, -72)\"/><g class=\"label-group text\" transform=\"translate(-23.1171875, -72)\"><g class=\"label\" style=\"font-weight: bolder\" transform=\"translate(0,-12)\"><foreignObject width=\"46.234375\" height=\"24\"><div xmlns=\"http://www.w3.org/1999/xhtml\" style=\"display: table-cell; white-space: nowrap; line-height: 1.5; max-width: 90px; text-align: center;\"><span class=\"nodeLabel markdown-node-label\" style=\"\"><p>Feline</p></span></div></foreignObject></g></g><g class=\"members-group text\" transform=\"translate(-146.07421875, -24)\"><g class=\"label\" style=\"\" transform=\"translate(0,-12)\"><foreignObject width=\"134.75\" height=\"24\"><div xmlns=\"http://www.w3.org/1999/xhtml\" style=\"display: table-cell; white-space: nowrap; line-height: 1.5; max-width: 179px; text-align: center;\"><span class=\"nodeLabel markdown-node-label\" style=\"\"><p>+fur_pattern: string</p></span></div></foreignObject></g></g><g class=\"methods-group text\" transform=\"translate(-146.07421875, 24)\"><g class=\"label\" style=\"\" transform=\"translate(0,-12)\"><foreignObject width=\"269.03125\" height=\"24\"><div xmlns=\"http://www.w3.org/1999/xhtml\" style=\"display: table-cell; white-space: nowrap; line-height: 1.5; max-width: 326px; text-align: center;\"><span class=\"nodeLabel markdown-node-label\" style=\"\"><p>+<strong>init</strong>(name, age, species, fur_pattern)</p></span></div></foreignObject></g><g class=\"label\" style=\"\" transform=\"translate(0,12)\"><foreignObject width=\"48.453125\" height=\"24\"><div xmlns=\"http://www.w3.org/1999/xhtml\" style=\"display: table-cell; white-space: nowrap; line-height: 1.5; max-width: 101px; text-align: center;\"><span class=\"nodeLabel markdown-node-label\" style=\"\"><p>+purr()</p></span></div></foreignObject></g><g class=\"label\" style=\"\" transform=\"translate(0,36)\"><foreignObject width=\"111.625\" height=\"24\"><div xmlns=\"http://www.w3.org/1999/xhtml\" style=\"display: table-cell; white-space: nowrap; line-height: 1.5; max-width: 155px; text-align: center;\"><span class=\"nodeLabel markdown-node-label\" style=\"\"><p>+make_sound()</p></span></div></foreignObject></g></g><g class=\"divider\" style=\"\"><path d=\"M-158.07421875 -48 C-91.4670740541529 -48, -24.859929358305806 -48, 158.07421875 -48 M-158.07421875 -48 C-79.01040738037723 -48, 0.05340398924553824 -48, 158.07421875 -48\" stroke=\"#9370DB\" stroke-width=\"1.3\" fill=\"none\" style=\"\"/></g><g class=\"divider\" style=\"\"><path d=\"M-158.07421875 0 C-85.18870821164732 0, -12.303197673294648 0, 158.07421875 0 M-158.07421875 0 C-33.480538106561866 0, 91.11314253687627 0, 158.07421875 0\" stroke=\"#9370DB\" stroke-width=\"1.3\" fill=\"none\" style=\"\"/></g></g><g class=\"node default \" id=\"classId-Lion-2\" transform=\"translate(166.07421875, 648)\"><g class=\"basic label-container\"><path d=\"M-123.37890625 -84 L123.37890625 -84 L123.37890625 84 L-123.37890625 84\" stroke=\"none\" stroke-width=\"0\" fill=\"#ECECFF\" style=\"\"/><path d=\"M-123.37890625 -84 C-41.71762714815961 -84, 39.943651953680785 -84, 123.37890625 -84 M-123.37890625 -84 C-27.94135754045756 -84, 67.49619116908488 -84, 123.37890625 -84 M123.37890625 -84 C123.37890625 -25.930209812698713, 123.37890625 32.13958037460257, 123.37890625 84 M123.37890625 -84 C123.37890625 -49.25327455118285, 123.37890625 -14.506549102365696, 123.37890625 84 M123.37890625 84 C44.362052763766854 84, -34.65480072246629 84, -123.37890625 84 M123.37890625 84 C54.28645404962609 84, -14.805998150747826 84, -123.37890625 84 M-123.37890625 84 C-123.37890625 42.01449847436926, -123.37890625 0.028996948738523542, -123.37890625 -84 M-123.37890625 84 C-123.37890625 30.87289390841528, -123.37890625 -22.254212183169443, -123.37890625 -84\" stroke=\"#9370DB\" stroke-width=\"1.3\" fill=\"none\" style=\"\"/></g><g class=\"annotation-group text\" transform=\"translate(0, -60)\"/><g class=\"label-group text\" transform=\"translate(-16.8828125, -60)\"><g class=\"label\" style=\"font-weight: bolder\" transform=\"translate(0,-12)\"><foreignObject width=\"33.765625\" height=\"24\"><div xmlns=\"http://www.w3.org/1999/xhtml\" style=\"display: table-cell; white-space: nowrap; line-height: 1.5; max-width: 80px; text-align: center;\"><span class=\"nodeLabel markdown-node-label\" style=\"\"><p>Lion</p></span></div></foreignObject></g></g><g class=\"members-group text\" transform=\"translate(-111.37890625, -12)\"><g class=\"label\" style=\"\" transform=\"translate(0,-12)\"><foreignObject width=\"134.734375\" height=\"24\"><div xmlns=\"http://www.w3.org/1999/xhtml\" style=\"display: table-cell; white-space: nowrap; line-height: 1.5; max-width: 176px; text-align: center;\"><span class=\"nodeLabel markdown-node-label\" style=\"\"><p>+mane_size: string</p></span></div></foreignObject></g></g><g class=\"methods-group text\" transform=\"translate(-111.37890625, 36)\"><g class=\"label\" style=\"\" transform=\"translate(0,-12)\"><foreignObject width=\"205.875\" height=\"24\"><div xmlns=\"http://www.w3.org/1999/xhtml\" style=\"display: table-cell; white-space: nowrap; line-height: 1.5; max-width: 268px; text-align: center;\"><span class=\"nodeLabel markdown-node-label\" style=\"\"><p>+<strong>init</strong>(name, age, mane_size)</p></span></div></foreignObject></g><g class=\"label\" style=\"\" transform=\"translate(0,12)\"><foreignObject width=\"111.625\" height=\"24\"><div xmlns=\"http://www.w3.org/1999/xhtml\" style=\"display: table-cell; white-space: nowrap; line-height: 1.5; max-width: 155px; text-align: center;\"><span class=\"nodeLabel markdown-node-label\" style=\"\"><p>+make_sound()</p></span></div></foreignObject></g></g><g class=\"divider\" style=\"\"><path d=\"M-123.37890625 -36 C-48.959434160832444 -36, 25.46003792833511 -36, 123.37890625 -36 M-123.37890625 -36 C-43.150475223264166 -36, 37.07795580347167 -36, 123.37890625 -36\" stroke=\"#9370DB\" stroke-width=\"1.3\" fill=\"none\" style=\"\"/></g><g class=\"divider\" style=\"\"><path d=\"M-123.37890625 12 C-32.38728558397199 12, 58.604335082056025 12, 123.37890625 12 M-123.37890625 12 C-62.47782227826639 12, -1.576738306532775 12, 123.37890625 12\" stroke=\"#9370DB\" stroke-width=\"1.3\" fill=\"none\" style=\"\"/></g></g></g></g></g></svg>"
            ]
          },
          "metadata": {}
        }
      ]
    },
    {
      "cell_type": "markdown",
      "source": [
        "# Polymorphism: Why Different Animals Respond Differently to the Same Command\n",
        "\n",
        "In a real zoo, when a zookeeper says \"speak,\" a lion might roar, a snake might hiss, and a parrot might say \"hello.\" Each animal responds to the same command in its own way. In OOP, this concept is called **polymorphism**—the ability to process objects differently depending on their class or data type.\n",
        "\n",
        "**Polymorphism** means \"many forms\" and refers to the ability to use a common interface (like a method name) that can work with different types of objects in different ways.\n",
        "\n",
        "Key aspects of polymorphism:\n",
        "* It allows you to write code that works with objects of different classes in a consistent way\n",
        "* It makes your code more flexible and reusable\n",
        "* It enables you to extend functionality without modifying existing code\n",
        "* It creates code that's more intuitive by using the same method names for similar operations\n",
        "\n",
        "Let's see polymorphism in action with different zoo animals:"
      ],
      "metadata": {
        "id": "BTlixtdMb6ae"
      }
    },
    {
      "cell_type": "code",
      "source": [
        "class Bird(Animal):\n",
        "    def __init__(self, name, age, species, wingspan):\n",
        "        super().__init__(name, age, species)\n",
        "        self.wingspan = wingspan\n",
        "\n",
        "    def make_sound(self):\n",
        "        return f\"{self.name} chirps melodically\"\n",
        "\n",
        "    def move(self):\n",
        "        return f\"{self.name} flies through the air\"\n",
        "\n",
        "class Reptile(Animal):\n",
        "    def __init__(self, name, age, species, is_venomous):\n",
        "        super().__init__(name, age, species)\n",
        "        self.is_venomous = is_venomous\n",
        "\n",
        "    def make_sound(self):\n",
        "        return f\"{self.name} hisses quietly\"\n",
        "\n",
        "    def move(self):\n",
        "        return f\"{self.name} slithers along the ground\"\n",
        "\n",
        "class Mammal(Animal):\n",
        "    def __init__(self, name, age, species, fur_color):\n",
        "        super().__init__(name, age, species)\n",
        "        self.fur_color = fur_color\n",
        "\n",
        "    def make_sound(self):\n",
        "        return f\"{self.name} makes mammalian noises\"\n",
        "\n",
        "    def move(self):\n",
        "        return f\"{self.name} walks on four legs\""
      ],
      "metadata": {
        "id": "FLhgNzi6b83e"
      },
      "execution_count": null,
      "outputs": []
    },
    {
      "cell_type": "markdown",
      "source": [
        "Now, let's see how polymorphism lets us treat different animal objects in a uniform way:\n"
      ],
      "metadata": {
        "id": "xyAtWOdvcDhz"
      }
    },
    {
      "cell_type": "code",
      "source": [
        "# Create different animal objects\n",
        "parrot = Bird(\"Polly\", 15, \"Amazon parrot\", 20)\n",
        "snake = Reptile(\"Slither\", 5, \"Python regius\", False)\n",
        "wolf = Mammal(\"Luna\", 6, \"Canis lupus\", \"gray\")\n",
        "\n",
        "# Create a list of different animal types\n",
        "zoo_animals = [parrot, snake, wolf]\n",
        "\n",
        "# We can use the same method calls on all animals\n",
        "print(\"Morning at the zoo:\")\n",
        "for animal in zoo_animals:\n",
        "    # These lines demonstrate polymorphism\n",
        "    print(animal.make_sound())\n",
        "    print(animal.move())\n",
        "    print(\"------------------\")"
      ],
      "metadata": {
        "colab": {
          "base_uri": "https://localhost:8080/"
        },
        "id": "lhWlLZaecFaP",
        "outputId": "be4268fa-827f-4004-cff2-eed43cc3815c"
      },
      "execution_count": null,
      "outputs": [
        {
          "output_type": "stream",
          "name": "stdout",
          "text": [
            "Morning at the zoo:\n",
            "Polly chirps melodically\n",
            "Polly flies through the air\n",
            "------------------\n",
            "Slither hisses quietly\n",
            "Slither slithers along the ground\n",
            "------------------\n",
            "Luna makes mammalian noises\n",
            "Luna walks on four legs\n",
            "------------------\n"
          ]
        }
      ]
    },
    {
      "cell_type": "markdown",
      "source": [
        "\n",
        "There are two main forms of polymorphism in Python:\n",
        "1. **Method overriding**: Redefining a method in a subclass (as we've done with `make_sound` above)\n",
        "2. **Duck typing**: An object's fitness for use is determined by the presence of certain methods and properties, rather than by the type of the object itself (\"If it walks like a duck and quacks like a duck, it's a duck\")\n",
        "\n",
        "Polymorphism makes our code more modular and easier to extend. When we add new animal types to our zoo, they'll automatically work with existing code as long as they implement the expected methods."
      ],
      "metadata": {
        "id": "58jsk1EycHWJ"
      }
    },
    {
      "cell_type": "code",
      "source": [
        "# @title\n",
        "mm(\"\"\"\n",
        "classDiagram\n",
        "    Animal <|-- Bird\n",
        "    Animal <|-- Reptile\n",
        "    Animal <|-- Mammal\n",
        "\n",
        "    class Animal {\n",
        "        +make_sound()\n",
        "        +move()\n",
        "    }\n",
        "\n",
        "    class Bird {\n",
        "        +make_sound() : chirps\n",
        "        +move() : flies\n",
        "    }\n",
        "\n",
        "    class Reptile {\n",
        "        +make_sound() : hisses\n",
        "        +move() : slithers\n",
        "    }\n",
        "\n",
        "    class Mammal {\n",
        "        +make_sound() : mammalian noises\n",
        "        +move() : walks\n",
        "    }\n",
        "\n",
        "    note for Animal \"Parent class defines the common interface\"\n",
        "    \"\"\"\n",
        "    )"
      ],
      "metadata": {
        "colab": {
          "base_uri": "https://localhost:8080/",
          "height": 474
        },
        "cellView": "form",
        "id": "TOPoia0_cTHy",
        "outputId": "478e2481-5383-4487-a369-e8c2a202cb65"
      },
      "execution_count": null,
      "outputs": [
        {
          "output_type": "display_data",
          "data": {
            "text/plain": [
              "<IPython.core.display.HTML object>"
            ],
            "text/html": [
              "<svg id=\"mermaid-svg\" width=\"100%\" xmlns=\"http://www.w3.org/2000/svg\" class=\"classDiagram\" style=\"max-width: 885.65625px;\" viewBox=\"0 0 885.65625 452\" role=\"graphics-document document\" aria-roledescription=\"class\" xmlns:xlink=\"http://www.w3.org/1999/xlink\"><style xmlns=\"http://www.w3.org/1999/xhtml\">@import url(\"https://cdnjs.cloudflare.com/ajax/libs/font-awesome/6.7.2/css/all.min.css\");</style><style>#mermaid-svg{font-family:\"trebuchet ms\",verdana,arial,sans-serif;font-size:16px;fill:#333;}@keyframes edge-animation-frame{from{stroke-dashoffset:0;}}@keyframes dash{to{stroke-dashoffset:0;}}#mermaid-svg .edge-animation-slow{stroke-dasharray:9,5!important;stroke-dashoffset:900;animation:dash 50s linear infinite;stroke-linecap:round;}#mermaid-svg .edge-animation-fast{stroke-dasharray:9,5!important;stroke-dashoffset:900;animation:dash 20s linear infinite;stroke-linecap:round;}#mermaid-svg .error-icon{fill:#552222;}#mermaid-svg .error-text{fill:#552222;stroke:#552222;}#mermaid-svg .edge-thickness-normal{stroke-width:1px;}#mermaid-svg .edge-thickness-thick{stroke-width:3.5px;}#mermaid-svg .edge-pattern-solid{stroke-dasharray:0;}#mermaid-svg .edge-thickness-invisible{stroke-width:0;fill:none;}#mermaid-svg .edge-pattern-dashed{stroke-dasharray:3;}#mermaid-svg .edge-pattern-dotted{stroke-dasharray:2;}#mermaid-svg .marker{fill:#333333;stroke:#333333;}#mermaid-svg .marker.cross{stroke:#333333;}#mermaid-svg svg{font-family:\"trebuchet ms\",verdana,arial,sans-serif;font-size:16px;}#mermaid-svg p{margin:0;}#mermaid-svg g.classGroup text{fill:#9370DB;stroke:none;font-family:\"trebuchet ms\",verdana,arial,sans-serif;font-size:10px;}#mermaid-svg g.classGroup text .title{font-weight:bolder;}#mermaid-svg .nodeLabel,#mermaid-svg .edgeLabel{color:#131300;}#mermaid-svg .edgeLabel .label rect{fill:#ECECFF;}#mermaid-svg .label text{fill:#131300;}#mermaid-svg .labelBkg{background:#ECECFF;}#mermaid-svg .edgeLabel .label span{background:#ECECFF;}#mermaid-svg .classTitle{font-weight:bolder;}#mermaid-svg .node rect,#mermaid-svg .node circle,#mermaid-svg .node ellipse,#mermaid-svg .node polygon,#mermaid-svg .node path{fill:#ECECFF;stroke:#9370DB;stroke-width:1px;}#mermaid-svg .divider{stroke:#9370DB;stroke-width:1;}#mermaid-svg g.clickable{cursor:pointer;}#mermaid-svg g.classGroup rect{fill:#ECECFF;stroke:#9370DB;}#mermaid-svg g.classGroup line{stroke:#9370DB;stroke-width:1;}#mermaid-svg .classLabel .box{stroke:none;stroke-width:0;fill:#ECECFF;opacity:0.5;}#mermaid-svg .classLabel .label{fill:#9370DB;font-size:10px;}#mermaid-svg .relation{stroke:#333333;stroke-width:1;fill:none;}#mermaid-svg .dashed-line{stroke-dasharray:3;}#mermaid-svg .dotted-line{stroke-dasharray:1 2;}#mermaid-svg #compositionStart,#mermaid-svg .composition{fill:#333333!important;stroke:#333333!important;stroke-width:1;}#mermaid-svg #compositionEnd,#mermaid-svg .composition{fill:#333333!important;stroke:#333333!important;stroke-width:1;}#mermaid-svg #dependencyStart,#mermaid-svg .dependency{fill:#333333!important;stroke:#333333!important;stroke-width:1;}#mermaid-svg #dependencyStart,#mermaid-svg .dependency{fill:#333333!important;stroke:#333333!important;stroke-width:1;}#mermaid-svg #extensionStart,#mermaid-svg .extension{fill:transparent!important;stroke:#333333!important;stroke-width:1;}#mermaid-svg #extensionEnd,#mermaid-svg .extension{fill:transparent!important;stroke:#333333!important;stroke-width:1;}#mermaid-svg #aggregationStart,#mermaid-svg .aggregation{fill:transparent!important;stroke:#333333!important;stroke-width:1;}#mermaid-svg #aggregationEnd,#mermaid-svg .aggregation{fill:transparent!important;stroke:#333333!important;stroke-width:1;}#mermaid-svg #lollipopStart,#mermaid-svg .lollipop{fill:#ECECFF!important;stroke:#333333!important;stroke-width:1;}#mermaid-svg #lollipopEnd,#mermaid-svg .lollipop{fill:#ECECFF!important;stroke:#333333!important;stroke-width:1;}#mermaid-svg .edgeTerminals{font-size:11px;line-height:initial;}#mermaid-svg .classTitleText{text-anchor:middle;font-size:18px;fill:#333;}#mermaid-svg :root{--mermaid-font-family:\"trebuchet ms\",verdana,arial,sans-serif;}</style><g><defs><marker id=\"mermaid-svg_class-aggregationStart\" class=\"marker aggregation class\" refX=\"18\" refY=\"7\" markerWidth=\"190\" markerHeight=\"240\" orient=\"auto\"><path d=\"M 18,7 L9,13 L1,7 L9,1 Z\"/></marker></defs><defs><marker id=\"mermaid-svg_class-aggregationEnd\" class=\"marker aggregation class\" refX=\"1\" refY=\"7\" markerWidth=\"20\" markerHeight=\"28\" orient=\"auto\"><path d=\"M 18,7 L9,13 L1,7 L9,1 Z\"/></marker></defs><defs><marker id=\"mermaid-svg_class-extensionStart\" class=\"marker extension class\" refX=\"18\" refY=\"7\" markerWidth=\"190\" markerHeight=\"240\" orient=\"auto\"><path d=\"M 1,7 L18,13 V 1 Z\"/></marker></defs><defs><marker id=\"mermaid-svg_class-extensionEnd\" class=\"marker extension class\" refX=\"1\" refY=\"7\" markerWidth=\"20\" markerHeight=\"28\" orient=\"auto\"><path d=\"M 1,1 V 13 L18,7 Z\"/></marker></defs><defs><marker id=\"mermaid-svg_class-compositionStart\" class=\"marker composition class\" refX=\"18\" refY=\"7\" markerWidth=\"190\" markerHeight=\"240\" orient=\"auto\"><path d=\"M 18,7 L9,13 L1,7 L9,1 Z\"/></marker></defs><defs><marker id=\"mermaid-svg_class-compositionEnd\" class=\"marker composition class\" refX=\"1\" refY=\"7\" markerWidth=\"20\" markerHeight=\"28\" orient=\"auto\"><path d=\"M 18,7 L9,13 L1,7 L9,1 Z\"/></marker></defs><defs><marker id=\"mermaid-svg_class-dependencyStart\" class=\"marker dependency class\" refX=\"6\" refY=\"7\" markerWidth=\"190\" markerHeight=\"240\" orient=\"auto\"><path d=\"M 5,7 L9,13 L1,7 L9,1 Z\"/></marker></defs><defs><marker id=\"mermaid-svg_class-dependencyEnd\" class=\"marker dependency class\" refX=\"13\" refY=\"7\" markerWidth=\"20\" markerHeight=\"28\" orient=\"auto\"><path d=\"M 18,7 L9,13 L14,7 L9,1 Z\"/></marker></defs><defs><marker id=\"mermaid-svg_class-lollipopStart\" class=\"marker lollipop class\" refX=\"13\" refY=\"7\" markerWidth=\"190\" markerHeight=\"240\" orient=\"auto\"><circle stroke=\"black\" fill=\"transparent\" cx=\"7\" cy=\"7\" r=\"6\"/></marker></defs><defs><marker id=\"mermaid-svg_class-lollipopEnd\" class=\"marker lollipop class\" refX=\"1\" refY=\"7\" markerWidth=\"190\" markerHeight=\"240\" orient=\"auto\"><circle stroke=\"black\" fill=\"transparent\" cx=\"7\" cy=\"7\" r=\"6\"/></marker></defs><g class=\"root\"><g class=\"clusters\"/><g class=\"edgePaths\"><path d=\"M389.469,44L389.469,48.167C389.469,52.333,389.469,60.667,389.469,69C389.469,77.333,389.469,85.667,389.469,89.833L389.469,94\" id=\"edgeNote1\" class=\" edge-thickness-normal edge-pattern-dotted relation\" style=\"fill: none;\"/><path d=\"M291.417,204.89L262.225,215.575C233.033,226.26,174.649,247.63,145.458,262.482C116.266,277.333,116.266,285.667,116.266,289.833L116.266,294\" id=\"id_Animal_Bird_1\" class=\" edge-thickness-normal edge-pattern-solid relation\" style=\";\" marker-start=\"url(#mermaid-svg_class-extensionStart)\"/><path d=\"M389.469,262L389.469,263.167C389.469,264.333,389.469,266.667,389.469,272C389.469,277.333,389.469,285.667,389.469,289.833L389.469,294\" id=\"id_Animal_Reptile_2\" class=\" edge-thickness-normal edge-pattern-solid relation\" style=\";\" marker-start=\"url(#mermaid-svg_class-extensionStart)\"/><path d=\"M487.828,199.12L525.862,210.766C563.896,222.413,639.964,245.707,677.997,261.52C716.031,277.333,716.031,285.667,716.031,289.833L716.031,294\" id=\"id_Animal_Mammal_3\" class=\" edge-thickness-normal edge-pattern-solid relation\" style=\";\" marker-start=\"url(#mermaid-svg_class-extensionStart)\"/></g><g class=\"edgeLabels\"><g class=\"edgeLabel\"><g class=\"label\" transform=\"translate(0, 0)\"><foreignObject width=\"0\" height=\"0\"><div style=\"display: table-cell; white-space: nowrap; line-height: 1.5; max-width: 200px; text-align: center;\" xmlns=\"http://www.w3.org/1999/xhtml\" class=\"labelBkg\"><span style=\";\" class=\"edgeLabel \"></span></div></foreignObject></g></g><g class=\"edgeLabel\"><g class=\"label\" transform=\"translate(0, -12)\"><foreignObject width=\"0\" height=\"24\"><div style=\"display: table-cell; white-space: nowrap; line-height: 1.5; max-width: 200px; text-align: center;\" xmlns=\"http://www.w3.org/1999/xhtml\" class=\"labelBkg\"><span style=\";display: inline-block\" class=\"edgeLabel \"></span></div></foreignObject></g></g><g class=\"edgeLabel\"><g class=\"label\" transform=\"translate(0, -12)\"><foreignObject width=\"0\" height=\"24\"><div style=\"display: table-cell; white-space: nowrap; line-height: 1.5; max-width: 200px; text-align: center;\" xmlns=\"http://www.w3.org/1999/xhtml\" class=\"labelBkg\"><span style=\";display: inline-block\" class=\"edgeLabel \"></span></div></foreignObject></g></g><g class=\"edgeLabel\"><g class=\"label\" transform=\"translate(0, -12)\"><foreignObject width=\"0\" height=\"24\"><div style=\"display: table-cell; white-space: nowrap; line-height: 1.5; max-width: 200px; text-align: center;\" xmlns=\"http://www.w3.org/1999/xhtml\" class=\"labelBkg\"><span style=\";display: inline-block\" class=\"edgeLabel \"></span></div></foreignObject></g></g></g><g class=\"nodes\"><g class=\"node default \" id=\"classId-Animal-0\" transform=\"translate(389.46875, 169)\"><g class=\"basic label-container\"><path d=\"M-81.1484375 -75 L81.1484375 -75 L81.1484375 75 L-81.1484375 75\" stroke=\"none\" stroke-width=\"0\" fill=\"#ECECFF\" style=\"\"/><path d=\"M-81.1484375 -75 C-33.88198185840014 -75, 13.384473783199724 -75, 81.1484375 -75 M-81.1484375 -75 C-42.09408220244937 -75, -3.0397269048987425 -75, 81.1484375 -75 M81.1484375 -75 C81.1484375 -28.940746874992094, 81.1484375 17.118506250015812, 81.1484375 75 M81.1484375 -75 C81.1484375 -30.29782675491755, 81.1484375 14.404346490164897, 81.1484375 75 M81.1484375 75 C17.25655910537207 75, -46.63531928925586 75, -81.1484375 75 M81.1484375 75 C16.462973473983382 75, -48.222490552033236 75, -81.1484375 75 M-81.1484375 75 C-81.1484375 21.469942172225927, -81.1484375 -32.060115655548145, -81.1484375 -75 M-81.1484375 75 C-81.1484375 44.01455585682113, -81.1484375 13.029111713642259, -81.1484375 -75\" stroke=\"#9370DB\" stroke-width=\"1.3\" fill=\"none\" style=\"\"/></g><g class=\"annotation-group text\" transform=\"translate(0, -51)\"/><g class=\"label-group text\" transform=\"translate(-26.671875, -51)\"><g class=\"label\" style=\"font-weight: bolder\" transform=\"translate(0,-12)\"><foreignObject width=\"53.34375\" height=\"24\"><div xmlns=\"http://www.w3.org/1999/xhtml\" style=\"display: table-cell; white-space: nowrap; line-height: 1.5; max-width: 99px; text-align: center;\"><span class=\"nodeLabel markdown-node-label\" style=\"\"><p>Animal</p></span></div></foreignObject></g></g><g class=\"members-group text\" transform=\"translate(-69.1484375, -3)\"/><g class=\"methods-group text\" transform=\"translate(-69.1484375, 27)\"><g class=\"label\" style=\"\" transform=\"translate(0,-12)\"><foreignObject width=\"111.625\" height=\"24\"><div xmlns=\"http://www.w3.org/1999/xhtml\" style=\"display: table-cell; white-space: nowrap; line-height: 1.5; max-width: 155px; text-align: center;\"><span class=\"nodeLabel markdown-node-label\" style=\"\"><p>+make_sound()</p></span></div></foreignObject></g><g class=\"label\" style=\"\" transform=\"translate(0,12)\"><foreignObject width=\"59.125\" height=\"24\"><div xmlns=\"http://www.w3.org/1999/xhtml\" style=\"display: table-cell; white-space: nowrap; line-height: 1.5; max-width: 110px; text-align: center;\"><span class=\"nodeLabel markdown-node-label\" style=\"\"><p>+move()</p></span></div></foreignObject></g></g><g class=\"divider\" style=\"\"><path d=\"M-81.1484375 -27 C-19.317980386073607 -27, 42.512476727852786 -27, 81.1484375 -27 M-81.1484375 -27 C-34.75678045285615 -27, 11.634876594287704 -27, 81.1484375 -27\" stroke=\"#9370DB\" stroke-width=\"1.3\" fill=\"none\" style=\"\"/></g><g class=\"divider\" style=\"\"><path d=\"M-81.1484375 -3 C-34.0910509097828 -3, 12.966335680434398 -3, 81.1484375 -3 M-81.1484375 -3 C-35.224034898335866 -3, 10.700367703328268 -3, 81.1484375 -3\" stroke=\"#9370DB\" stroke-width=\"1.3\" fill=\"none\" style=\"\"/></g></g><g class=\"node default \" id=\"classId-Bird-1\" transform=\"translate(116.265625, 369)\"><g class=\"basic label-container\"><path d=\"M-108.265625 -75 L108.265625 -75 L108.265625 75 L-108.265625 75\" stroke=\"none\" stroke-width=\"0\" fill=\"#ECECFF\" style=\"\"/><path d=\"M-108.265625 -75 C-56.86353283242981 -75, -5.461440664859623 -75, 108.265625 -75 M-108.265625 -75 C-27.74599787282098 -75, 52.77362925435804 -75, 108.265625 -75 M108.265625 -75 C108.265625 -26.238246140826227, 108.265625 22.523507718347545, 108.265625 75 M108.265625 -75 C108.265625 -16.028721942220585, 108.265625 42.94255611555883, 108.265625 75 M108.265625 75 C56.46744879602655 75, 4.669272592053105 75, -108.265625 75 M108.265625 75 C49.648208970160084 75, -8.969207059679832 75, -108.265625 75 M-108.265625 75 C-108.265625 35.51744888887025, -108.265625 -3.965102222259503, -108.265625 -75 M-108.265625 75 C-108.265625 32.80826306129625, -108.265625 -9.383473877407496, -108.265625 -75\" stroke=\"#9370DB\" stroke-width=\"1.3\" fill=\"none\" style=\"\"/></g><g class=\"annotation-group text\" transform=\"translate(0, -51)\"/><g class=\"label-group text\" transform=\"translate(-16, -51)\"><g class=\"label\" style=\"font-weight: bolder\" transform=\"translate(0,-12)\"><foreignObject width=\"32\" height=\"24\"><div xmlns=\"http://www.w3.org/1999/xhtml\" style=\"display: table-cell; white-space: nowrap; line-height: 1.5; max-width: 78px; text-align: center;\"><span class=\"nodeLabel markdown-node-label\" style=\"\"><p>Bird</p></span></div></foreignObject></g></g><g class=\"members-group text\" transform=\"translate(-96.265625, -3)\"/><g class=\"methods-group text\" transform=\"translate(-96.265625, 27)\"><g class=\"label\" style=\"\" transform=\"translate(0,-12)\"><foreignObject width=\"176.53125\" height=\"24\"><div xmlns=\"http://www.w3.org/1999/xhtml\" style=\"display: table-cell; white-space: nowrap; line-height: 1.5; max-width: 215px; text-align: center;\"><span class=\"nodeLabel markdown-node-label\" style=\"\"><p>+make_sound() : : chirps</p></span></div></foreignObject></g><g class=\"label\" style=\"\" transform=\"translate(0,12)\"><foreignObject width=\"109.8125\" height=\"24\"><div xmlns=\"http://www.w3.org/1999/xhtml\" style=\"display: table-cell; white-space: nowrap; line-height: 1.5; max-width: 158px; text-align: center;\"><span class=\"nodeLabel markdown-node-label\" style=\"\"><p>+move() : : flies</p></span></div></foreignObject></g></g><g class=\"divider\" style=\"\"><path d=\"M-108.265625 -27 C-26.139213454950294 -27, 55.98719809009941 -27, 108.265625 -27 M-108.265625 -27 C-63.517082098776015 -27, -18.76853919755203 -27, 108.265625 -27\" stroke=\"#9370DB\" stroke-width=\"1.3\" fill=\"none\" style=\"\"/></g><g class=\"divider\" style=\"\"><path d=\"M-108.265625 -3 C-47.095301837665495 -3, 14.07502132466901 -3, 108.265625 -3 M-108.265625 -3 C-30.940717608522974 -3, 46.38418978295405 -3, 108.265625 -3\" stroke=\"#9370DB\" stroke-width=\"1.3\" fill=\"none\" style=\"\"/></g></g><g class=\"node default \" id=\"classId-Reptile-2\" transform=\"translate(389.46875, 369)\"><g class=\"basic label-container\"><path d=\"M-114.9375 -75 L114.9375 -75 L114.9375 75 L-114.9375 75\" stroke=\"none\" stroke-width=\"0\" fill=\"#ECECFF\" style=\"\"/><path d=\"M-114.9375 -75 C-48.84724107455074 -75, 17.243017850898525 -75, 114.9375 -75 M-114.9375 -75 C-26.652170732756147 -75, 61.633158534487706 -75, 114.9375 -75 M114.9375 -75 C114.9375 -33.72354345637675, 114.9375 7.552913087246495, 114.9375 75 M114.9375 -75 C114.9375 -35.54888862172572, 114.9375 3.9022227565485537, 114.9375 75 M114.9375 75 C66.87876984761378 75, 18.820039695227564 75, -114.9375 75 M114.9375 75 C39.77288473644812 75, -35.39173052710376 75, -114.9375 75 M-114.9375 75 C-114.9375 25.07018178940791, -114.9375 -24.859636421184177, -114.9375 -75 M-114.9375 75 C-114.9375 42.67760218972699, -114.9375 10.35520437945398, -114.9375 -75\" stroke=\"#9370DB\" stroke-width=\"1.3\" fill=\"none\" style=\"\"/></g><g class=\"annotation-group text\" transform=\"translate(0, -51)\"/><g class=\"label-group text\" transform=\"translate(-26.671875, -51)\"><g class=\"label\" style=\"font-weight: bolder\" transform=\"translate(0,-12)\"><foreignObject width=\"53.34375\" height=\"24\"><div xmlns=\"http://www.w3.org/1999/xhtml\" style=\"display: table-cell; white-space: nowrap; line-height: 1.5; max-width: 96px; text-align: center;\"><span class=\"nodeLabel markdown-node-label\" style=\"\"><p>Reptile</p></span></div></foreignObject></g></g><g class=\"members-group text\" transform=\"translate(-102.9375, -3)\"/><g class=\"methods-group text\" transform=\"translate(-102.9375, 27)\"><g class=\"label\" style=\"\" transform=\"translate(0,-12)\"><foreignObject width=\"179.203125\" height=\"24\"><div xmlns=\"http://www.w3.org/1999/xhtml\" style=\"display: table-cell; white-space: nowrap; line-height: 1.5; max-width: 214px; text-align: center;\"><span class=\"nodeLabel markdown-node-label\" style=\"\"><p>+make_sound() : : hisses</p></span></div></foreignObject></g><g class=\"label\" style=\"\" transform=\"translate(0,12)\"><foreignObject width=\"132.03125\" height=\"24\"><div xmlns=\"http://www.w3.org/1999/xhtml\" style=\"display: table-cell; white-space: nowrap; line-height: 1.5; max-width: 177px; text-align: center;\"><span class=\"nodeLabel markdown-node-label\" style=\"\"><p>+move() : : slithers</p></span></div></foreignObject></g></g><g class=\"divider\" style=\"\"><path d=\"M-114.9375 -27 C-54.389223694752395 -27, 6.159052610495209 -27, 114.9375 -27 M-114.9375 -27 C-34.960209460763124 -27, 45.01708107847375 -27, 114.9375 -27\" stroke=\"#9370DB\" stroke-width=\"1.3\" fill=\"none\" style=\"\"/></g><g class=\"divider\" style=\"\"><path d=\"M-114.9375 -3 C-67.17934070968309 -3, -19.421181419366164 -3, 114.9375 -3 M-114.9375 -3 C-62.75590679634279 -3, -10.574313592685584 -3, 114.9375 -3\" stroke=\"#9370DB\" stroke-width=\"1.3\" fill=\"none\" style=\"\"/></g></g><g class=\"node default \" id=\"classId-Mammal-3\" transform=\"translate(716.03125, 369)\"><g class=\"basic label-container\"><path d=\"M-161.625 -75 L161.625 -75 L161.625 75 L-161.625 75\" stroke=\"none\" stroke-width=\"0\" fill=\"#ECECFF\" style=\"\"/><path d=\"M-161.625 -75 C-72.51997932338523 -75, 16.585041353229542 -75, 161.625 -75 M-161.625 -75 C-80.76261620189118 -75, 0.09976759621764586 -75, 161.625 -75 M161.625 -75 C161.625 -22.45716611141959, 161.625 30.085667777160822, 161.625 75 M161.625 -75 C161.625 -35.98095295371615, 161.625 3.038094092567704, 161.625 75 M161.625 75 C68.46955195945438 75, -24.685896081091244 75, -161.625 75 M161.625 75 C85.65972567945242 75, 9.694451358904843 75, -161.625 75 M-161.625 75 C-161.625 41.1215188292658, -161.625 7.243037658531605, -161.625 -75 M-161.625 75 C-161.625 28.856917391016694, -161.625 -17.286165217966612, -161.625 -75\" stroke=\"#9370DB\" stroke-width=\"1.3\" fill=\"none\" style=\"\"/></g><g class=\"annotation-group text\" transform=\"translate(0, -51)\"/><g class=\"label-group text\" transform=\"translate(-32.015625, -51)\"><g class=\"label\" style=\"font-weight: bolder\" transform=\"translate(0,-12)\"><foreignObject width=\"64.03125\" height=\"24\"><div xmlns=\"http://www.w3.org/1999/xhtml\" style=\"display: table-cell; white-space: nowrap; line-height: 1.5; max-width: 108px; text-align: center;\"><span class=\"nodeLabel markdown-node-label\" style=\"\"><p>Mammal</p></span></div></foreignObject></g></g><g class=\"members-group text\" transform=\"translate(-149.625, -3)\"/><g class=\"methods-group text\" transform=\"translate(-149.625, 27)\"><g class=\"label\" style=\"\" transform=\"translate(0,-12)\"><foreignObject width=\"267.234375\" height=\"24\"><div xmlns=\"http://www.w3.org/1999/xhtml\" style=\"display: table-cell; white-space: nowrap; line-height: 1.5; max-width: 295px; text-align: center;\"><span class=\"nodeLabel markdown-node-label\" style=\"\"><p>+make_sound() : : mammalian noises</p></span></div></foreignObject></g><g class=\"label\" style=\"\" transform=\"translate(0,12)\"><foreignObject width=\"121.359375\" height=\"24\"><div xmlns=\"http://www.w3.org/1999/xhtml\" style=\"display: table-cell; white-space: nowrap; line-height: 1.5; max-width: 168px; text-align: center;\"><span class=\"nodeLabel markdown-node-label\" style=\"\"><p>+move() : : walks</p></span></div></foreignObject></g></g><g class=\"divider\" style=\"\"><path d=\"M-161.625 -27 C-51.05598054590385 -27, 59.5130389081923 -27, 161.625 -27 M-161.625 -27 C-64.26495364348087 -27, 33.09509271303827 -27, 161.625 -27\" stroke=\"#9370DB\" stroke-width=\"1.3\" fill=\"none\" style=\"\"/></g><g class=\"divider\" style=\"\"><path d=\"M-161.625 -3 C-95.39487054623432 -3, -29.16474109246863 -3, 161.625 -3 M-161.625 -3 C-93.77405569366043 -3, -25.92311138732086 -3, 161.625 -3\" stroke=\"#9370DB\" stroke-width=\"1.3\" fill=\"none\" style=\"\"/></g></g><g class=\"node undefined \" id=\"note0\" transform=\"translate(389.46875, 26)\"><g class=\"basic label-container\"><path d=\"M-157.1875 -18 L157.1875 -18 L157.1875 18 L-157.1875 18\" stroke=\"none\" stroke-width=\"0\" fill=\"#fff5ad\" style=\"fill:#fff5ad !important;stroke:#aaaa33 !important\"/><path d=\"M-157.1875 -18 C-58.269654297546694 -18, 40.64819140490661 -18, 157.1875 -18 M-157.1875 -18 C-31.87225585611486 -18, 93.44298828777028 -18, 157.1875 -18 M157.1875 -18 C157.1875 -10.227540562750947, 157.1875 -2.455081125501895, 157.1875 18 M157.1875 -18 C157.1875 -4.8490265867114815, 157.1875 8.301946826577037, 157.1875 18 M157.1875 18 C65.07544266396494 18, -27.03661467207013 18, -157.1875 18 M157.1875 18 C63.419966171796375 18, -30.34756765640725 18, -157.1875 18 M-157.1875 18 C-157.1875 7.486525784934589, -157.1875 -3.0269484301308225, -157.1875 -18 M-157.1875 18 C-157.1875 8.624127408405988, -157.1875 -0.7517451831880244, -157.1875 -18\" stroke=\"#aaaa33\" stroke-width=\"1.3\" fill=\"none\" style=\"fill:#fff5ad !important;stroke:#aaaa33 !important\"/></g><g class=\"label\" style=\"text-align:left !important;white-space:nowrap !important\" transform=\"translate(-151.1875, -12)\"><rect/><foreignObject width=\"302.375\" height=\"24\"><div style=\"text-align: center; white-space: break-spaces; display: table; line-height: 1.5; max-width: 200px; width: 200px;\" xmlns=\"http://www.w3.org/1999/xhtml\"><span style=\"text-align:left !important;white-space:nowrap !important\" class=\"nodeLabel \"><p>Parent class defines the common interface</p></span></div></foreignObject></g></g></g></g></g></svg>"
            ]
          },
          "metadata": {}
        }
      ]
    },
    {
      "cell_type": "markdown",
      "source": [
        "# Building Your Own Virtual Zoo: Putting It All Together\n",
        "\n",
        "Now that we've learned about the core concepts of OOP—classes, objects, attributes, methods, constructors, encapsulation, inheritance, and polymorphism—let's see how they all work together to create a complete virtual zoo application. This example will demonstrate how OOP helps us organize our code into logical, reusable components.\n",
        "\n",
        "A **well-designed OOP system** organizes classes into relationships that mirror real-world interactions and maximize code reuse while minimizing complexity.\n",
        "\n",
        "Key design principles to follow:\n",
        "* Keep classes focused on a single responsibility\n",
        "* Use inheritance to represent \"is-a\" relationships\n",
        "* Use composition (having objects as attributes) for \"has-a\" relationships\n",
        "* Design interfaces (methods) that are consistent across related classes\n",
        "* Encapsulate internal details that don't need to be exposed\n",
        "\n",
        "Here's a simplified implementation of our virtual zoo:"
      ],
      "metadata": {
        "id": "SAjYJattb2XV"
      }
    },
    {
      "cell_type": "code",
      "source": [
        "# Base Animal class with common functionality\n",
        "class Animal:\n",
        "    def __init__(self, name, age, species):\n",
        "        self.name = name\n",
        "        self.age = age\n",
        "        self.species = species\n",
        "        self._health = 100\n",
        "        self._hunger = 0\n",
        "\n",
        "    def feed(self, food_amount):\n",
        "        self._hunger -= food_amount\n",
        "        if self._hunger < 0:\n",
        "            self._hunger = 0\n",
        "        return f\"{self.name} has been fed and has hunger level {self._hunger}\"\n",
        "\n",
        "    @property\n",
        "    def health(self):\n",
        "        return self._health\n",
        "\n",
        "# Zoo class to manage the collection of animals\n",
        "class Zoo:\n",
        "    def __init__(self, name, location):\n",
        "        self.name = name\n",
        "        self.location = location\n",
        "        self.animals = []\n",
        "\n",
        "    def add_animal(self, animal):\n",
        "        self.animals.append(animal)\n",
        "        return f\"{animal.name} has been added to {self.name} Zoo\"\n",
        "\n",
        "    def feed_all(self, food_amount):\n",
        "        results = []\n",
        "        for animal in self.animals:\n",
        "            results.append(animal.feed(food_amount))\n",
        "        return results\n",
        "\n",
        "    def find_animal(self, name):\n",
        "        for animal in self.animals:\n",
        "            if animal.name == name:\n",
        "                return animal\n",
        "        return None\n"
      ],
      "metadata": {
        "id": "leKU7uhecmPR"
      },
      "execution_count": null,
      "outputs": []
    },
    {
      "cell_type": "markdown",
      "source": [
        "Now let's create some specialized animal types:"
      ],
      "metadata": {
        "id": "HQ1fSvBpcpC9"
      }
    },
    {
      "cell_type": "code",
      "source": [
        "# Specialized animal types\n",
        "class Mammal(Animal):\n",
        "    def __init__(self, name, age, species, fur_color):\n",
        "        super().__init__(name, age, species)\n",
        "        self.fur_color = fur_color\n",
        "\n",
        "    def give_birth(self, baby_name):\n",
        "        baby = Mammal(baby_name, 0, self.species, self.fur_color)\n",
        "        return baby, f\"{self.name} has given birth to {baby_name}!\"\n",
        "\n",
        "class Bird(Animal):\n",
        "    def __init__(self, name, age, species, wingspan):\n",
        "        super().__init__(name, age, species)\n",
        "        self.wingspan = wingspan\n",
        "\n",
        "    def fly(self, distance):\n",
        "        return f\"{self.name} flies {distance} meters\"\n",
        "\n",
        "class Reptile(Animal):\n",
        "    def __init__(self, name, age, species, body_temperature):\n",
        "        super().__init__(name, age, species)\n",
        "        self.body_temperature = body_temperature\n",
        "\n",
        "    def bask(self, temperature_increase):\n",
        "        self.body_temperature += temperature_increase\n",
        "        return f\"{self.name} basks and increases body temperature to {self.body_temperature}°C\""
      ],
      "metadata": {
        "id": "HTeLiQbictnW"
      },
      "execution_count": null,
      "outputs": []
    },
    {
      "cell_type": "markdown",
      "source": [
        "Finally, let's see how all these classes work together:"
      ],
      "metadata": {
        "id": "P4OEW60Rcvzx"
      }
    },
    {
      "cell_type": "code",
      "source": [
        "# Create a zoo\n",
        "my_zoo = Zoo(\"Wildlife Wonders\", \"Python City\")\n",
        "\n",
        "# Create some animals\n",
        "lion = Mammal(\"Leo\", 5, \"Panthera leo\", \"golden\")\n",
        "parrot = Bird(\"Rio\", 3, \"Amazona aestiva\", 30)\n",
        "snake = Reptile(\"Slither\", 2, \"Python regius\", 24)\n",
        "\n",
        "# Add animals to the zoo\n",
        "print(my_zoo.add_animal(lion))   # Leo has been added to Wildlife Wonders Zoo\n",
        "print(my_zoo.add_animal(parrot)) # Rio has been added to Wildlife Wonders Zoo\n",
        "print(my_zoo.add_animal(snake))  # Slither has been added to Wildlife Wonders Zoo\n",
        "\n",
        "# Use polymorphism to feed all animals\n",
        "feeding_results = my_zoo.feed_all(50)\n",
        "for result in feeding_results:\n",
        "    print(result)\n",
        "\n",
        "# Use specialized methods\n",
        "baby_lion, message = lion.give_birth(\"Kiara\")\n",
        "print(message)  # Leo has given birth to Kiara!\n",
        "print(my_zoo.add_animal(baby_lion))  # Kiara has been added to Wildlife Wonders Zoo\n",
        "\n",
        "print(parrot.fly(100))  # Rio flies 100 meters\n",
        "print(snake.bask(5))    # Slither basks and increases body temperature to 29°C"
      ],
      "metadata": {
        "colab": {
          "base_uri": "https://localhost:8080/"
        },
        "id": "JEiWKf_9cxqS",
        "outputId": "e1f7357a-ab3d-42cc-d60b-fe75aca5d546"
      },
      "execution_count": null,
      "outputs": [
        {
          "output_type": "stream",
          "name": "stdout",
          "text": [
            "Leo has been added to Wildlife Wonders Zoo\n",
            "Rio has been added to Wildlife Wonders Zoo\n",
            "Slither has been added to Wildlife Wonders Zoo\n",
            "Leo has been fed and has hunger level 0\n",
            "Rio has been fed and has hunger level 0\n",
            "Slither has been fed and has hunger level 0\n",
            "Leo has given birth to Kiara!\n",
            "Kiara has been added to Wildlife Wonders Zoo\n",
            "Rio flies 100 meters\n",
            "Slither basks and increases body temperature to 29°C\n"
          ]
        }
      ]
    },
    {
      "cell_type": "markdown",
      "source": [
        "\n",
        "Notice how this design allows us to:\n",
        "* Reuse common code through inheritance\n",
        "* Treat different animal types uniformly where appropriate (polymorphism)\n",
        "* Protect internal state with encapsulation\n",
        "* Model real-world relationships between entities\n",
        "\n",
        "This is the power of OOP—it gives us a structured way to design complex systems while keeping the code maintainable and intuitive."
      ],
      "metadata": {
        "id": "UJ9DETFXcz7K"
      }
    },
    {
      "cell_type": "code",
      "source": [
        "# @title\n",
        "mm(\"\"\"\n",
        "classDiagram\n",
        "    Zoo \"1\" o-- \"*\" Animal : contains\n",
        "    Animal <|-- Mammal\n",
        "    Animal <|-- Bird\n",
        "    Animal <|-- Reptile\n",
        "\n",
        "    class Zoo {\n",
        "        +name: string\n",
        "        +location: string\n",
        "        +animals: list\n",
        "        +__init__(name, location)\n",
        "        +add_animal(animal)\n",
        "        +feed_all(food_amount)\n",
        "        +find_animal(name)\n",
        "    }\n",
        "\n",
        "    class Animal {\n",
        "        +name: string\n",
        "        +age: int\n",
        "        +species: string\n",
        "        -_health: int\n",
        "        -_hunger: int\n",
        "        +__init__(name, age, species)\n",
        "        +feed(food_amount)\n",
        "        +health property getter\n",
        "    }\n",
        "\n",
        "    class Mammal {\n",
        "        +fur_color: string\n",
        "        +__init__(name, age, species, fur_color)\n",
        "        +give_birth(baby_name)\n",
        "    }\n",
        "\n",
        "    class Bird {\n",
        "        +wingspan: int\n",
        "        +__init__(name, age, species, wingspan)\n",
        "        +fly(distance)\n",
        "    }\n",
        "\n",
        "    class Reptile {\n",
        "        +body_temperature: float\n",
        "        +__init__(name, age, species, body_temperature)\n",
        "        +bask(temperature_increase)\n",
        "    }\"\"\")"
      ],
      "metadata": {
        "cellView": "form",
        "colab": {
          "base_uri": "https://localhost:8080/",
          "height": 882
        },
        "id": "Iq7gF3MQc8GB",
        "outputId": "86687fac-d8f2-4c91-829c-578754459bb2"
      },
      "execution_count": null,
      "outputs": [
        {
          "output_type": "display_data",
          "data": {
            "text/plain": [
              "<IPython.core.display.HTML object>"
            ],
            "text/html": [
              "<svg id=\"mermaid-svg\" width=\"100%\" xmlns=\"http://www.w3.org/2000/svg\" class=\"classDiagram\" style=\"max-width: 1097.328125px;\" viewBox=\"0 0 1097.328125 860\" role=\"graphics-document document\" aria-roledescription=\"class\" xmlns:xlink=\"http://www.w3.org/1999/xlink\"><style xmlns=\"http://www.w3.org/1999/xhtml\">@import url(\"https://cdnjs.cloudflare.com/ajax/libs/font-awesome/6.7.2/css/all.min.css\");</style><style>#mermaid-svg{font-family:\"trebuchet ms\",verdana,arial,sans-serif;font-size:16px;fill:#333;}@keyframes edge-animation-frame{from{stroke-dashoffset:0;}}@keyframes dash{to{stroke-dashoffset:0;}}#mermaid-svg .edge-animation-slow{stroke-dasharray:9,5!important;stroke-dashoffset:900;animation:dash 50s linear infinite;stroke-linecap:round;}#mermaid-svg .edge-animation-fast{stroke-dasharray:9,5!important;stroke-dashoffset:900;animation:dash 20s linear infinite;stroke-linecap:round;}#mermaid-svg .error-icon{fill:#552222;}#mermaid-svg .error-text{fill:#552222;stroke:#552222;}#mermaid-svg .edge-thickness-normal{stroke-width:1px;}#mermaid-svg .edge-thickness-thick{stroke-width:3.5px;}#mermaid-svg .edge-pattern-solid{stroke-dasharray:0;}#mermaid-svg .edge-thickness-invisible{stroke-width:0;fill:none;}#mermaid-svg .edge-pattern-dashed{stroke-dasharray:3;}#mermaid-svg .edge-pattern-dotted{stroke-dasharray:2;}#mermaid-svg .marker{fill:#333333;stroke:#333333;}#mermaid-svg .marker.cross{stroke:#333333;}#mermaid-svg svg{font-family:\"trebuchet ms\",verdana,arial,sans-serif;font-size:16px;}#mermaid-svg p{margin:0;}#mermaid-svg g.classGroup text{fill:#9370DB;stroke:none;font-family:\"trebuchet ms\",verdana,arial,sans-serif;font-size:10px;}#mermaid-svg g.classGroup text .title{font-weight:bolder;}#mermaid-svg .nodeLabel,#mermaid-svg .edgeLabel{color:#131300;}#mermaid-svg .edgeLabel .label rect{fill:#ECECFF;}#mermaid-svg .label text{fill:#131300;}#mermaid-svg .labelBkg{background:#ECECFF;}#mermaid-svg .edgeLabel .label span{background:#ECECFF;}#mermaid-svg .classTitle{font-weight:bolder;}#mermaid-svg .node rect,#mermaid-svg .node circle,#mermaid-svg .node ellipse,#mermaid-svg .node polygon,#mermaid-svg .node path{fill:#ECECFF;stroke:#9370DB;stroke-width:1px;}#mermaid-svg .divider{stroke:#9370DB;stroke-width:1;}#mermaid-svg g.clickable{cursor:pointer;}#mermaid-svg g.classGroup rect{fill:#ECECFF;stroke:#9370DB;}#mermaid-svg g.classGroup line{stroke:#9370DB;stroke-width:1;}#mermaid-svg .classLabel .box{stroke:none;stroke-width:0;fill:#ECECFF;opacity:0.5;}#mermaid-svg .classLabel .label{fill:#9370DB;font-size:10px;}#mermaid-svg .relation{stroke:#333333;stroke-width:1;fill:none;}#mermaid-svg .dashed-line{stroke-dasharray:3;}#mermaid-svg .dotted-line{stroke-dasharray:1 2;}#mermaid-svg #compositionStart,#mermaid-svg .composition{fill:#333333!important;stroke:#333333!important;stroke-width:1;}#mermaid-svg #compositionEnd,#mermaid-svg .composition{fill:#333333!important;stroke:#333333!important;stroke-width:1;}#mermaid-svg #dependencyStart,#mermaid-svg .dependency{fill:#333333!important;stroke:#333333!important;stroke-width:1;}#mermaid-svg #dependencyStart,#mermaid-svg .dependency{fill:#333333!important;stroke:#333333!important;stroke-width:1;}#mermaid-svg #extensionStart,#mermaid-svg .extension{fill:transparent!important;stroke:#333333!important;stroke-width:1;}#mermaid-svg #extensionEnd,#mermaid-svg .extension{fill:transparent!important;stroke:#333333!important;stroke-width:1;}#mermaid-svg #aggregationStart,#mermaid-svg .aggregation{fill:transparent!important;stroke:#333333!important;stroke-width:1;}#mermaid-svg #aggregationEnd,#mermaid-svg .aggregation{fill:transparent!important;stroke:#333333!important;stroke-width:1;}#mermaid-svg #lollipopStart,#mermaid-svg .lollipop{fill:#ECECFF!important;stroke:#333333!important;stroke-width:1;}#mermaid-svg #lollipopEnd,#mermaid-svg .lollipop{fill:#ECECFF!important;stroke:#333333!important;stroke-width:1;}#mermaid-svg .edgeTerminals{font-size:11px;line-height:initial;}#mermaid-svg .classTitleText{text-anchor:middle;font-size:18px;fill:#333;}#mermaid-svg :root{--mermaid-font-family:\"trebuchet ms\",verdana,arial,sans-serif;}</style><g><defs><marker id=\"mermaid-svg_class-aggregationStart\" class=\"marker aggregation class\" refX=\"18\" refY=\"7\" markerWidth=\"190\" markerHeight=\"240\" orient=\"auto\"><path d=\"M 18,7 L9,13 L1,7 L9,1 Z\"/></marker></defs><defs><marker id=\"mermaid-svg_class-aggregationEnd\" class=\"marker aggregation class\" refX=\"1\" refY=\"7\" markerWidth=\"20\" markerHeight=\"28\" orient=\"auto\"><path d=\"M 18,7 L9,13 L1,7 L9,1 Z\"/></marker></defs><defs><marker id=\"mermaid-svg_class-extensionStart\" class=\"marker extension class\" refX=\"18\" refY=\"7\" markerWidth=\"190\" markerHeight=\"240\" orient=\"auto\"><path d=\"M 1,7 L18,13 V 1 Z\"/></marker></defs><defs><marker id=\"mermaid-svg_class-extensionEnd\" class=\"marker extension class\" refX=\"1\" refY=\"7\" markerWidth=\"20\" markerHeight=\"28\" orient=\"auto\"><path d=\"M 1,1 V 13 L18,7 Z\"/></marker></defs><defs><marker id=\"mermaid-svg_class-compositionStart\" class=\"marker composition class\" refX=\"18\" refY=\"7\" markerWidth=\"190\" markerHeight=\"240\" orient=\"auto\"><path d=\"M 18,7 L9,13 L1,7 L9,1 Z\"/></marker></defs><defs><marker id=\"mermaid-svg_class-compositionEnd\" class=\"marker composition class\" refX=\"1\" refY=\"7\" markerWidth=\"20\" markerHeight=\"28\" orient=\"auto\"><path d=\"M 18,7 L9,13 L1,7 L9,1 Z\"/></marker></defs><defs><marker id=\"mermaid-svg_class-dependencyStart\" class=\"marker dependency class\" refX=\"6\" refY=\"7\" markerWidth=\"190\" markerHeight=\"240\" orient=\"auto\"><path d=\"M 5,7 L9,13 L1,7 L9,1 Z\"/></marker></defs><defs><marker id=\"mermaid-svg_class-dependencyEnd\" class=\"marker dependency class\" refX=\"13\" refY=\"7\" markerWidth=\"20\" markerHeight=\"28\" orient=\"auto\"><path d=\"M 18,7 L9,13 L14,7 L9,1 Z\"/></marker></defs><defs><marker id=\"mermaid-svg_class-lollipopStart\" class=\"marker lollipop class\" refX=\"13\" refY=\"7\" markerWidth=\"190\" markerHeight=\"240\" orient=\"auto\"><circle stroke=\"black\" fill=\"transparent\" cx=\"7\" cy=\"7\" r=\"6\"/></marker></defs><defs><marker id=\"mermaid-svg_class-lollipopEnd\" class=\"marker lollipop class\" refX=\"1\" refY=\"7\" markerWidth=\"190\" markerHeight=\"240\" orient=\"auto\"><circle stroke=\"black\" fill=\"transparent\" cx=\"7\" cy=\"7\" r=\"6\"/></marker></defs><g class=\"root\"><g class=\"clusters\"/><g class=\"edgePaths\"><path d=\"M517.531,290L517.531,293.167C517.531,296.333,517.531,302.667,517.531,312C517.531,321.333,517.531,333.667,517.531,339.833L517.531,346\" id=\"id_Zoo_Animal_1\" class=\" edge-thickness-normal edge-pattern-solid relation\" style=\";\" marker-start=\"url(#mermaid-svg_class-aggregationStart)\"/><path d=\"M384.572,553.372L347.635,570.976C310.699,588.581,236.826,623.791,199.89,645.562C162.953,667.333,162.953,675.667,162.953,679.833L162.953,684\" id=\"id_Animal_Mammal_2\" class=\" edge-thickness-normal edge-pattern-solid relation\" style=\";\" marker-start=\"url(#mermaid-svg_class-extensionStart)\"/><path d=\"M517.531,652L517.531,653.167C517.531,654.333,517.531,656.667,517.531,662C517.531,667.333,517.531,675.667,517.531,679.833L517.531,684\" id=\"id_Animal_Bird_3\" class=\" edge-thickness-normal edge-pattern-solid relation\" style=\";\" marker-start=\"url(#mermaid-svg_class-extensionStart)\"/><path d=\"M650.729,548.361L692.815,566.801C734.9,585.241,819.071,622.12,861.157,644.727C903.242,667.333,903.242,675.667,903.242,679.833L903.242,684\" id=\"id_Animal_Reptile_4\" class=\" edge-thickness-normal edge-pattern-solid relation\" style=\";\" marker-start=\"url(#mermaid-svg_class-extensionStart)\"/></g><g class=\"edgeLabels\"><g class=\"edgeLabel\" transform=\"translate(517.53125, 309)\"><g class=\"label\" transform=\"translate(-29.796875, -12)\"><foreignObject width=\"59.59375\" height=\"24\"><div style=\"display: table-cell; white-space: nowrap; line-height: 1.5; max-width: 200px; text-align: center;\" xmlns=\"http://www.w3.org/1999/xhtml\" class=\"labelBkg\"><span style=\";display: inline-block\" class=\"edgeLabel \"><p>contains</p></span></div></foreignObject></g></g><g class=\"edgeLabel\"><g class=\"label\" transform=\"translate(0, -12)\"><foreignObject width=\"0\" height=\"24\"><div style=\"display: table-cell; white-space: nowrap; line-height: 1.5; max-width: 200px; text-align: center;\" xmlns=\"http://www.w3.org/1999/xhtml\" class=\"labelBkg\"><span style=\";display: inline-block\" class=\"edgeLabel \"></span></div></foreignObject></g></g><g class=\"edgeLabel\"><g class=\"label\" transform=\"translate(0, -12)\"><foreignObject width=\"0\" height=\"24\"><div style=\"display: table-cell; white-space: nowrap; line-height: 1.5; max-width: 200px; text-align: center;\" xmlns=\"http://www.w3.org/1999/xhtml\" class=\"labelBkg\"><span style=\";display: inline-block\" class=\"edgeLabel \"></span></div></foreignObject></g></g><g class=\"edgeLabel\"><g class=\"label\" transform=\"translate(0, -12)\"><foreignObject width=\"0\" height=\"24\"><div style=\"display: table-cell; white-space: nowrap; line-height: 1.5; max-width: 200px; text-align: center;\" xmlns=\"http://www.w3.org/1999/xhtml\" class=\"labelBkg\"><span style=\";display: inline-block\" class=\"edgeLabel \"></span></div></foreignObject></g></g><g class=\"edgeTerminals\" transform=\"translate(502.53125, 289.5)\"><g class=\"inner\" transform=\"translate(0, 0)\"><foreignObject style=\"width: 9px; height: 12px;\"><div style=\"display: inline-block; padding-right: 1px; white-space: nowrap;\" xmlns=\"http://www.w3.org/1999/xhtml\"><span class=\"edgeLabel\" style=\";display: inline-block\">1</span></div></foreignObject></g></g><g class=\"edgeTerminals\" transform=\"translate(527.53125, 323.5)\"><g class=\"inner\" transform=\"translate(0, 0)\"/><foreignObject style=\"width: 9px; height: 12px;\"><div style=\"display: inline-block; padding-right: 1px; white-space: nowrap;\" xmlns=\"http://www.w3.org/1999/xhtml\"><span class=\"edgeLabel\" style=\";display: inline-block\">*</span></div></foreignObject></g></g><g class=\"nodes\"><g class=\"node default \" id=\"classId-Zoo-0\" transform=\"translate(517.53125, 140)\"><g class=\"basic label-container\"><path d=\"M-104.05859375 -132 L104.05859375 -132 L104.05859375 132 L-104.05859375 132\" stroke=\"none\" stroke-width=\"0\" fill=\"#ECECFF\" style=\"\"/><path d=\"M-104.05859375 -132 C-62.39497190808041 -132, -20.731350066160815 -132, 104.05859375 -132 M-104.05859375 -132 C-30.5562562220707 -132, 42.9460813058586 -132, 104.05859375 -132 M104.05859375 -132 C104.05859375 -58.30070284451401, 104.05859375 15.398594310971987, 104.05859375 132 M104.05859375 -132 C104.05859375 -64.99006654302384, 104.05859375 2.0198669139523133, 104.05859375 132 M104.05859375 132 C25.18717847936138 132, -53.68423679127724 132, -104.05859375 132 M104.05859375 132 C23.81848476378012 132, -56.42162422243976 132, -104.05859375 132 M-104.05859375 132 C-104.05859375 59.20995343276505, -104.05859375 -13.580093134469905, -104.05859375 -132 M-104.05859375 132 C-104.05859375 55.97824206329783, -104.05859375 -20.043515873404345, -104.05859375 -132\" stroke=\"#9370DB\" stroke-width=\"1.3\" fill=\"none\" style=\"\"/></g><g class=\"annotation-group text\" transform=\"translate(0, -108)\"/><g class=\"label-group text\" transform=\"translate(-14.6640625, -108)\"><g class=\"label\" style=\"font-weight: bolder\" transform=\"translate(0,-12)\"><foreignObject width=\"29.328125\" height=\"24\"><div xmlns=\"http://www.w3.org/1999/xhtml\" style=\"display: table-cell; white-space: nowrap; line-height: 1.5; max-width: 76px; text-align: center;\"><span class=\"nodeLabel markdown-node-label\" style=\"\"><p>Zoo</p></span></div></foreignObject></g></g><g class=\"members-group text\" transform=\"translate(-92.05859375, -60)\"><g class=\"label\" style=\"\" transform=\"translate(0,-12)\"><foreignObject width=\"97.390625\" height=\"24\"><div xmlns=\"http://www.w3.org/1999/xhtml\" style=\"display: table-cell; white-space: nowrap; line-height: 1.5; max-width: 143px; text-align: center;\"><span class=\"nodeLabel markdown-node-label\" style=\"\"><p>+name: string</p></span></div></foreignObject></g><g class=\"label\" style=\"\" transform=\"translate(0,12)\"><foreignObject width=\"112.515625\" height=\"24\"><div xmlns=\"http://www.w3.org/1999/xhtml\" style=\"display: table-cell; white-space: nowrap; line-height: 1.5; max-width: 160px; text-align: center;\"><span class=\"nodeLabel markdown-node-label\" style=\"\"><p>+location: string</p></span></div></foreignObject></g><g class=\"label\" style=\"\" transform=\"translate(0,36)\"><foreignObject width=\"92.921875\" height=\"24\"><div xmlns=\"http://www.w3.org/1999/xhtml\" style=\"display: table-cell; white-space: nowrap; line-height: 1.5; max-width: 142px; text-align: center;\"><span class=\"nodeLabel markdown-node-label\" style=\"\"><p>+animals: list</p></span></div></foreignObject></g></g><g class=\"methods-group text\" transform=\"translate(-92.05859375, 36)\"><g class=\"label\" style=\"\" transform=\"translate(0,-12)\"><foreignObject width=\"148.0625\" height=\"24\"><div xmlns=\"http://www.w3.org/1999/xhtml\" style=\"display: table-cell; white-space: nowrap; line-height: 1.5; max-width: 222px; text-align: center;\"><span class=\"nodeLabel markdown-node-label\" style=\"\"><p>+<strong>init</strong>(name, location)</p></span></div></foreignObject></g><g class=\"label\" style=\"\" transform=\"translate(0,12)\"><foreignObject width=\"149.859375\" height=\"24\"><div xmlns=\"http://www.w3.org/1999/xhtml\" style=\"display: table-cell; white-space: nowrap; line-height: 1.5; max-width: 192px; text-align: center;\"><span class=\"nodeLabel markdown-node-label\" style=\"\"><p>+add_animal(animal)</p></span></div></foreignObject></g><g class=\"label\" style=\"\" transform=\"translate(0,36)\"><foreignObject width=\"169.453125\" height=\"24\"><div xmlns=\"http://www.w3.org/1999/xhtml\" style=\"display: table-cell; white-space: nowrap; line-height: 1.5; max-width: 211px; text-align: center;\"><span class=\"nodeLabel markdown-node-label\" style=\"\"><p>+feed_all(food_amount)</p></span></div></foreignObject></g><g class=\"label\" style=\"\" transform=\"translate(0,60)\"><foreignObject width=\"141.859375\" height=\"24\"><div xmlns=\"http://www.w3.org/1999/xhtml\" style=\"display: table-cell; white-space: nowrap; line-height: 1.5; max-width: 186px; text-align: center;\"><span class=\"nodeLabel markdown-node-label\" style=\"\"><p>+find_animal(name)</p></span></div></foreignObject></g></g><g class=\"divider\" style=\"\"><path d=\"M-104.05859375 -84 C-49.87622318685051 -84, 4.306147376298981 -84, 104.05859375 -84 M-104.05859375 -84 C-24.73760452212359 -84, 54.58338470575282 -84, 104.05859375 -84\" stroke=\"#9370DB\" stroke-width=\"1.3\" fill=\"none\" style=\"\"/></g><g class=\"divider\" style=\"\"><path d=\"M-104.05859375 12 C-54.26178289125705 12, -4.464972032514098 12, 104.05859375 12 M-104.05859375 12 C-37.1581392911537 12, 29.742315167692595 12, 104.05859375 12\" stroke=\"#9370DB\" stroke-width=\"1.3\" fill=\"none\" style=\"\"/></g></g><g class=\"node default \" id=\"classId-Animal-1\" transform=\"translate(517.53125, 490)\"><g class=\"basic label-container\"><path d=\"M-116.7109375 -144 L116.7109375 -144 L116.7109375 144 L-116.7109375 144\" stroke=\"none\" stroke-width=\"0\" fill=\"#ECECFF\" style=\"\"/><path d=\"M-116.7109375 -144 C-27.239718687914262 -144, 62.231500124171475 -144, 116.7109375 -144 M-116.7109375 -144 C-41.570362966793695 -144, 33.57021156641261 -144, 116.7109375 -144 M116.7109375 -144 C116.7109375 -65.36388149166072, 116.7109375 13.27223701667856, 116.7109375 144 M116.7109375 -144 C116.7109375 -67.77412984607798, 116.7109375 8.451740307844034, 116.7109375 144 M116.7109375 144 C45.5261451620012 144, -25.6586471759976 144, -116.7109375 144 M116.7109375 144 C61.97308744999128 144, 7.235237399982566 144, -116.7109375 144 M-116.7109375 144 C-116.7109375 85.0033432266176, -116.7109375 26.00668645323519, -116.7109375 -144 M-116.7109375 144 C-116.7109375 74.15475612754076, -116.7109375 4.309512255081529, -116.7109375 -144\" stroke=\"#9370DB\" stroke-width=\"1.3\" fill=\"none\" style=\"\"/></g><g class=\"annotation-group text\" transform=\"translate(0, -120)\"/><g class=\"label-group text\" transform=\"translate(-26.671875, -120)\"><g class=\"label\" style=\"font-weight: bolder\" transform=\"translate(0,-12)\"><foreignObject width=\"53.34375\" height=\"24\"><div xmlns=\"http://www.w3.org/1999/xhtml\" style=\"display: table-cell; white-space: nowrap; line-height: 1.5; max-width: 99px; text-align: center;\"><span class=\"nodeLabel markdown-node-label\" style=\"\"><p>Animal</p></span></div></foreignObject></g></g><g class=\"members-group text\" transform=\"translate(-104.7109375, -72)\"><g class=\"label\" style=\"\" transform=\"translate(0,-12)\"><foreignObject width=\"97.390625\" height=\"24\"><div xmlns=\"http://www.w3.org/1999/xhtml\" style=\"display: table-cell; white-space: nowrap; line-height: 1.5; max-width: 143px; text-align: center;\"><span class=\"nodeLabel markdown-node-label\" style=\"\"><p>+name: string</p></span></div></foreignObject></g><g class=\"label\" style=\"\" transform=\"translate(0,12)\"><foreignObject width=\"61.828125\" height=\"24\"><div xmlns=\"http://www.w3.org/1999/xhtml\" style=\"display: table-cell; white-space: nowrap; line-height: 1.5; max-width: 112px; text-align: center;\"><span class=\"nodeLabel markdown-node-label\" style=\"\"><p>+age: int</p></span></div></foreignObject></g><g class=\"label\" style=\"\" transform=\"translate(0,36)\"><foreignObject width=\"111.609375\" height=\"24\"><div xmlns=\"http://www.w3.org/1999/xhtml\" style=\"display: table-cell; white-space: nowrap; line-height: 1.5; max-width: 155px; text-align: center;\"><span class=\"nodeLabel markdown-node-label\" style=\"\"><p>+species: string</p></span></div></foreignObject></g><g class=\"label\" style=\"\" transform=\"translate(0,60)\"><foreignObject width=\"83.609375\" height=\"24\"><div xmlns=\"http://www.w3.org/1999/xhtml\" style=\"display: table-cell; white-space: nowrap; line-height: 1.5; max-width: 139px; text-align: center;\"><span class=\"nodeLabel markdown-node-label\" style=\"\"><p>-_health: int</p></span></div></foreignObject></g><g class=\"label\" style=\"\" transform=\"translate(0,84)\"><foreignObject width=\"89.84375\" height=\"24\"><div xmlns=\"http://www.w3.org/1999/xhtml\" style=\"display: table-cell; white-space: nowrap; line-height: 1.5; max-width: 138px; text-align: center;\"><span class=\"nodeLabel markdown-node-label\" style=\"\"><p>-_hunger: int</p></span></div></foreignObject></g><g class=\"label\" style=\"\" transform=\"translate(0,108)\"><foreignObject width=\"161.4375\" height=\"24\"><div xmlns=\"http://www.w3.org/1999/xhtml\" style=\"display: table-cell; white-space: nowrap; line-height: 1.5; max-width: 202px; text-align: center;\"><span class=\"nodeLabel markdown-node-label\" style=\"\"><p>+health property getter</p></span></div></foreignObject></g></g><g class=\"methods-group text\" transform=\"translate(-104.7109375, 96)\"><g class=\"label\" style=\"\" transform=\"translate(0,-12)\"><foreignObject width=\"182.75\" height=\"24\"><div xmlns=\"http://www.w3.org/1999/xhtml\" style=\"display: table-cell; white-space: nowrap; line-height: 1.5; max-width: 247px; text-align: center;\"><span class=\"nodeLabel markdown-node-label\" style=\"\"><p>+<strong>init</strong>(name, age, species)</p></span></div></foreignObject></g><g class=\"label\" style=\"\" transform=\"translate(0,12)\"><foreignObject width=\"144.546875\" height=\"24\"><div xmlns=\"http://www.w3.org/1999/xhtml\" style=\"display: table-cell; white-space: nowrap; line-height: 1.5; max-width: 187px; text-align: center;\"><span class=\"nodeLabel markdown-node-label\" style=\"\"><p>+feed(food_amount)</p></span></div></foreignObject></g></g><g class=\"divider\" style=\"\"><path d=\"M-116.7109375 -96 C-54.51728730260657 -96, 7.6763628947868625 -96, 116.7109375 -96 M-116.7109375 -96 C-50.90068126529688 -96, 14.909574969406236 -96, 116.7109375 -96\" stroke=\"#9370DB\" stroke-width=\"1.3\" fill=\"none\" style=\"\"/></g><g class=\"divider\" style=\"\"><path d=\"M-116.7109375 72 C-51.391645101944945 72, 13.92764729611011 72, 116.7109375 72 M-116.7109375 72 C-38.58640594578486 72, 39.53812560843028 72, 116.7109375 72\" stroke=\"#9370DB\" stroke-width=\"1.3\" fill=\"none\" style=\"\"/></g></g><g class=\"node default \" id=\"classId-Mammal-2\" transform=\"translate(162.953125, 768)\"><g class=\"basic label-container\"><path d=\"M-154.953125 -84 L154.953125 -84 L154.953125 84 L-154.953125 84\" stroke=\"none\" stroke-width=\"0\" fill=\"#ECECFF\" style=\"\"/><path d=\"M-154.953125 -84 C-82.8199295650084 -84, -10.686734130016788 -84, 154.953125 -84 M-154.953125 -84 C-38.451239652389745 -84, 78.05064569522051 -84, 154.953125 -84 M154.953125 -84 C154.953125 -28.508031268343693, 154.953125 26.983937463312614, 154.953125 84 M154.953125 -84 C154.953125 -32.041395080198555, 154.953125 19.91720983960289, 154.953125 84 M154.953125 84 C46.93039452837222 84, -61.09233594325556 84, -154.953125 84 M154.953125 84 C55.67108321975522 84, -43.610958560489564 84, -154.953125 84 M-154.953125 84 C-154.953125 38.709379886956924, -154.953125 -6.581240226086152, -154.953125 -84 M-154.953125 84 C-154.953125 28.107614994165175, -154.953125 -27.78477001166965, -154.953125 -84\" stroke=\"#9370DB\" stroke-width=\"1.3\" fill=\"none\" style=\"\"/></g><g class=\"annotation-group text\" transform=\"translate(0, -60)\"/><g class=\"label-group text\" transform=\"translate(-32.015625, -60)\"><g class=\"label\" style=\"font-weight: bolder\" transform=\"translate(0,-12)\"><foreignObject width=\"64.03125\" height=\"24\"><div xmlns=\"http://www.w3.org/1999/xhtml\" style=\"display: table-cell; white-space: nowrap; line-height: 1.5; max-width: 108px; text-align: center;\"><span class=\"nodeLabel markdown-node-label\" style=\"\"><p>Mammal</p></span></div></foreignObject></g></g><g class=\"members-group text\" transform=\"translate(-142.953125, -12)\"><g class=\"label\" style=\"\" transform=\"translate(0,-12)\"><foreignObject width=\"119.609375\" height=\"24\"><div xmlns=\"http://www.w3.org/1999/xhtml\" style=\"display: table-cell; white-space: nowrap; line-height: 1.5; max-width: 168px; text-align: center;\"><span class=\"nodeLabel markdown-node-label\" style=\"\"><p>+fur_color: string</p></span></div></foreignObject></g></g><g class=\"methods-group text\" transform=\"translate(-142.953125, 36)\"><g class=\"label\" style=\"\" transform=\"translate(0,-12)\"><foreignObject width=\"253.890625\" height=\"24\"><div xmlns=\"http://www.w3.org/1999/xhtml\" style=\"display: table-cell; white-space: nowrap; line-height: 1.5; max-width: 314px; text-align: center;\"><span class=\"nodeLabel markdown-node-label\" style=\"\"><p>+<strong>init</strong>(name, age, species, fur_color)</p></span></div></foreignObject></g><g class=\"label\" style=\"\" transform=\"translate(0,12)\"><foreignObject width=\"173\" height=\"24\"><div xmlns=\"http://www.w3.org/1999/xhtml\" style=\"display: table-cell; white-space: nowrap; line-height: 1.5; max-width: 214px; text-align: center;\"><span class=\"nodeLabel markdown-node-label\" style=\"\"><p>+give_birth(baby_name)</p></span></div></foreignObject></g></g><g class=\"divider\" style=\"\"><path d=\"M-154.953125 -36 C-82.88571867598677 -36, -10.818312351973532 -36, 154.953125 -36 M-154.953125 -36 C-74.15395233358326 -36, 6.645220332833475 -36, 154.953125 -36\" stroke=\"#9370DB\" stroke-width=\"1.3\" fill=\"none\" style=\"\"/></g><g class=\"divider\" style=\"\"><path d=\"M-154.953125 12 C-84.59871640269064 12, -14.244307805381283 12, 154.953125 12 M-154.953125 12 C-70.83071784501297 12, 13.29168930997406 12, 154.953125 12\" stroke=\"#9370DB\" stroke-width=\"1.3\" fill=\"none\" style=\"\"/></g></g><g class=\"node default \" id=\"classId-Bird-3\" transform=\"translate(517.53125, 768)\"><g class=\"basic label-container\"><path d=\"M-149.625 -84 L149.625 -84 L149.625 84 L-149.625 84\" stroke=\"none\" stroke-width=\"0\" fill=\"#ECECFF\" style=\"\"/><path d=\"M-149.625 -84 C-78.99152657854074 -84, -8.358053157081486 -84, 149.625 -84 M-149.625 -84 C-83.48992323351442 -84, -17.354846467028835 -84, 149.625 -84 M149.625 -84 C149.625 -26.126503995779444, 149.625 31.74699200844111, 149.625 84 M149.625 -84 C149.625 -46.731549946029034, 149.625 -9.463099892058068, 149.625 84 M149.625 84 C57.392231281448986 84, -34.84053743710203 84, -149.625 84 M149.625 84 C44.36070517475417 84, -60.903589650491654 84, -149.625 84 M-149.625 84 C-149.625 33.86001275857057, -149.625 -16.27997448285886, -149.625 -84 M-149.625 84 C-149.625 33.72521564397105, -149.625 -16.549568712057905, -149.625 -84\" stroke=\"#9370DB\" stroke-width=\"1.3\" fill=\"none\" style=\"\"/></g><g class=\"annotation-group text\" transform=\"translate(0, -60)\"/><g class=\"label-group text\" transform=\"translate(-16, -60)\"><g class=\"label\" style=\"font-weight: bolder\" transform=\"translate(0,-12)\"><foreignObject width=\"32\" height=\"24\"><div xmlns=\"http://www.w3.org/1999/xhtml\" style=\"display: table-cell; white-space: nowrap; line-height: 1.5; max-width: 78px; text-align: center;\"><span class=\"nodeLabel markdown-node-label\" style=\"\"><p>Bird</p></span></div></foreignObject></g></g><g class=\"members-group text\" transform=\"translate(-137.625, -12)\"><g class=\"label\" style=\"\" transform=\"translate(0,-12)\"><foreignObject width=\"102.734375\" height=\"24\"><div xmlns=\"http://www.w3.org/1999/xhtml\" style=\"display: table-cell; white-space: nowrap; line-height: 1.5; max-width: 151px; text-align: center;\"><span class=\"nodeLabel markdown-node-label\" style=\"\"><p>+wingspan: int</p></span></div></foreignObject></g></g><g class=\"methods-group text\" transform=\"translate(-137.625, 36)\"><g class=\"label\" style=\"\" transform=\"translate(0,-12)\"><foreignObject width=\"259.25\" height=\"24\"><div xmlns=\"http://www.w3.org/1999/xhtml\" style=\"display: table-cell; white-space: nowrap; line-height: 1.5; max-width: 316px; text-align: center;\"><span class=\"nodeLabel markdown-node-label\" style=\"\"><p>+<strong>init</strong>(name, age, species, wingspan)</p></span></div></foreignObject></g><g class=\"label\" style=\"\" transform=\"translate(0,12)\"><foreignObject width=\"95.59375\" height=\"24\"><div xmlns=\"http://www.w3.org/1999/xhtml\" style=\"display: table-cell; white-space: nowrap; line-height: 1.5; max-width: 144px; text-align: center;\"><span class=\"nodeLabel markdown-node-label\" style=\"\"><p>+fly(distance)</p></span></div></foreignObject></g></g><g class=\"divider\" style=\"\"><path d=\"M-149.625 -36 C-69.1485280253069 -36, 11.327943949386196 -36, 149.625 -36 M-149.625 -36 C-58.9773366943635 -36, 31.670326611272998 -36, 149.625 -36\" stroke=\"#9370DB\" stroke-width=\"1.3\" fill=\"none\" style=\"\"/></g><g class=\"divider\" style=\"\"><path d=\"M-149.625 12 C-39.6961095865975 12, 70.232780826805 12, 149.625 12 M-149.625 12 C-84.46540289892064 12, -19.305805797841288 12, 149.625 12\" stroke=\"#9370DB\" stroke-width=\"1.3\" fill=\"none\" style=\"\"/></g></g><g class=\"node default \" id=\"classId-Reptile-4\" transform=\"translate(903.2421875, 768)\"><g class=\"basic label-container\"><path d=\"M-186.0859375 -84 L186.0859375 -84 L186.0859375 84 L-186.0859375 84\" stroke=\"none\" stroke-width=\"0\" fill=\"#ECECFF\" style=\"\"/><path d=\"M-186.0859375 -84 C-78.46388071732859 -84, 29.158176065342815 -84, 186.0859375 -84 M-186.0859375 -84 C-91.897235053756 -84, 2.291467392487988 -84, 186.0859375 -84 M186.0859375 -84 C186.0859375 -22.987181815436884, 186.0859375 38.02563636912623, 186.0859375 84 M186.0859375 -84 C186.0859375 -31.993222389572473, 186.0859375 20.013555220855054, 186.0859375 84 M186.0859375 84 C52.272997674631284 84, -81.53994215073743 84, -186.0859375 84 M186.0859375 84 C64.88979194109534 84, -56.30635361780932 84, -186.0859375 84 M-186.0859375 84 C-186.0859375 21.614032727772603, -186.0859375 -40.771934544454794, -186.0859375 -84 M-186.0859375 84 C-186.0859375 36.7038234505668, -186.0859375 -10.592353098866397, -186.0859375 -84\" stroke=\"#9370DB\" stroke-width=\"1.3\" fill=\"none\" style=\"\"/></g><g class=\"annotation-group text\" transform=\"translate(0, -60)\"/><g class=\"label-group text\" transform=\"translate(-26.671875, -60)\"><g class=\"label\" style=\"font-weight: bolder\" transform=\"translate(0,-12)\"><foreignObject width=\"53.34375\" height=\"24\"><div xmlns=\"http://www.w3.org/1999/xhtml\" style=\"display: table-cell; white-space: nowrap; line-height: 1.5; max-width: 96px; text-align: center;\"><span class=\"nodeLabel markdown-node-label\" style=\"\"><p>Reptile</p></span></div></foreignObject></g></g><g class=\"members-group text\" transform=\"translate(-174.0859375, -12)\"><g class=\"label\" style=\"\" transform=\"translate(0,-12)\"><foreignObject width=\"178.34375\" height=\"24\"><div xmlns=\"http://www.w3.org/1999/xhtml\" style=\"display: table-cell; white-space: nowrap; line-height: 1.5; max-width: 218px; text-align: center;\"><span class=\"nodeLabel markdown-node-label\" style=\"\"><p>+body_temperature: float</p></span></div></foreignObject></g></g><g class=\"methods-group text\" transform=\"translate(-174.0859375, 36)\"><g class=\"label\" style=\"\" transform=\"translate(0,-12)\"><foreignObject width=\"321.5\" height=\"24\"><div xmlns=\"http://www.w3.org/1999/xhtml\" style=\"display: table-cell; white-space: nowrap; line-height: 1.5; max-width: 371px; text-align: center;\"><span class=\"nodeLabel markdown-node-label\" style=\"\"><p>+<strong>init</strong>(name, age, species, body_temperature)</p></span></div></foreignObject></g><g class=\"label\" style=\"\" transform=\"translate(0,12)\"><foreignObject width=\"209.4375\" height=\"24\"><div xmlns=\"http://www.w3.org/1999/xhtml\" style=\"display: table-cell; white-space: nowrap; line-height: 1.5; max-width: 240px; text-align: center;\"><span class=\"nodeLabel markdown-node-label\" style=\"\"><p>+bask(temperature_increase)</p></span></div></foreignObject></g></g><g class=\"divider\" style=\"\"><path d=\"M-186.0859375 -36 C-83.82285540166119 -36, 18.440226696677627 -36, 186.0859375 -36 M-186.0859375 -36 C-94.23414664769196 -36, -2.3823557953839156 -36, 186.0859375 -36\" stroke=\"#9370DB\" stroke-width=\"1.3\" fill=\"none\" style=\"\"/></g><g class=\"divider\" style=\"\"><path d=\"M-186.0859375 12 C-52.25944286578584 12, 81.56705176842831 12, 186.0859375 12 M-186.0859375 12 C-51.14119929664068 12, 83.80353890671864 12, 186.0859375 12\" stroke=\"#9370DB\" stroke-width=\"1.3\" fill=\"none\" style=\"\"/></g></g></g></g></g></svg>"
            ]
          },
          "metadata": {}
        }
      ]
    },
    {
      "cell_type": "markdown",
      "source": [
        "# Beyond the Basics: Where OOP Takes Us Next\n",
        "\n",
        "Congratulations! You've learned the fundamental concepts of Object-Oriented Programming. You now understand how to model real-world entities as classes and objects, how to organize code using inheritance, how to protect data with encapsulation, and how to design flexible systems with polymorphism. These skills will serve as a strong foundation as you continue your programming journey.\n",
        "\n",
        "**Object-Oriented Programming** is not just a set of techniques but a powerful way of thinking about and organizing code that will help you tackle increasingly complex programming challenges.\n",
        "\n",
        "As you continue learning, here are some advanced OOP concepts to explore:\n",
        "* **Abstract classes** provide templates for other classes but cannot be instantiated themselves\n",
        "* **Interfaces** define a contract that classes must follow, ensuring consistent behavior\n",
        "* **Multiple inheritance** allows a class to inherit from more than one parent class\n",
        "* **Composition** uses object relationships (has-a) as an alternative to inheritance (is-a)\n",
        "* **Design patterns** offer reusable solutions to common programming problems\n",
        "\n",
        "| Concept | Description | Python Implementation |\n",
        "|---------|-------------|----------------------|\n",
        "| Abstract Classes | Classes that can't be instantiated directly | Using the `abc` module |\n",
        "| Multiple Inheritance | Inheriting from more than one class | Directly supported in Python syntax |\n",
        "| Method Resolution Order | How Python resolves method calls with multiple inheritance | The C3 Linearization algorithm |\n",
        "| Class Decorators | Adding functionality to classes | Using the `@` syntax with classes |\n",
        "| Metaclasses | Classes that create classes | Creating a subclass of `type` |\n",
        "\n",
        "As you expand your OOP skills, remember these best practices:\n",
        "* Keep your classes focused on a single responsibility\n",
        "* Favor composition over inheritance when appropriate\n",
        "* Design for change—programs always evolve over time\n",
        "* Write clear documentation for your classes and methods\n",
        "* Test your classes thoroughly to ensure they behave as expected\n",
        "\n",
        "```python\n",
        "# A glimpse of more advanced OOP concepts\n",
        "from abc import ABC, abstractmethod\n",
        "\n",
        "# Abstract base class\n",
        "class AnimalBehavior(ABC):\n",
        "    @abstractmethod\n",
        "    def make_sound(self):\n",
        "        pass\n",
        "    \n",
        "    @abstractmethod\n",
        "    def move(self):\n",
        "        pass\n",
        "\n",
        "# Interface-like class for aquatic animals\n",
        "class AquaticCapable:\n",
        "    def swim(self):\n",
        "        return f\"{self.name} swims through the water\"\n",
        "    \n",
        "    def hold_breath(self, minutes):\n",
        "        return f\"{self.name} can hold breath for {minutes} minutes\"\n",
        "\n",
        "# Multiple inheritance\n",
        "class Frog(Animal, AquaticCapable):\n",
        "    def __init__(self, name, age):\n",
        "        super().__init__(name, age, \"Ranidae\")\n",
        "    \n",
        "    def make_sound(self):\n",
        "        return f\"{self.name} says ribbit!\"\n",
        "    \n",
        "    def move(self):\n",
        "        return f\"{self.name} jumps around\"\n",
        "```\n",
        "\n",
        "The OOP skills you've learned will help you in many ways:\n",
        "* They provide a foundation for learning other OOP languages like Java, C#, or C++\n",
        "* They help you understand and work with OOP libraries and frameworks\n",
        "* They improve your ability to design maintainable, scalable software\n",
        "* They prepare you for team development where clear code organization is crucial\n",
        "\n",
        "Remember that OOP is just one programming paradigm—others like functional programming offer different ways to solve problems. Great programmers understand multiple paradigms and choose the right approach for each project. Continue exploring, practicing, and building your own projects to deepen your understanding of these concepts."
      ],
      "metadata": {
        "id": "LERVDb3wc_Lf"
      }
    },
    {
      "cell_type": "markdown",
      "source": [
        "## Practice Your Python - Object Quest\n",
        "Here, you'll have an opportunity to practice building some Python classes and objects.\n",
        "\n",
        "Note: This will take you some of the more complex (and fun!) coding exerceises you've seen. Look things up if you get confused, but do your best to understand how/why things work they do before asking the AI :).\n",
        "\n",
        "Run the following cell to launch the quest:"
      ],
      "metadata": {
        "id": "wm9gx9LzSR8t"
      }
    },
    {
      "cell_type": "code",
      "source": [
        "!wget https://github.com/brendanpshea/computing_concepts_python/raw/main/object_quest/object_quest.py -q -nc\n",
        "from object_quest import QuestSystem\n",
        "QuestSystem(\"https://github.com/brendanpshea/computing_concepts_python/raw/main/object_quest/quests_01.json\")"
      ],
      "metadata": {
        "id": "yaawc-c4Sapn",
        "outputId": "e272fc68-ffce-4e52-af01-cc6989a536d5",
        "colab": {
          "base_uri": "https://localhost:8080/",
          "height": 403,
          "referenced_widgets": [
            "10aaeaf40ada4b65a9ca5e1331fa4902",
            "60379374c43a42b6a5a21b39d1a4d7b8",
            "2f3b71947d8a43d3a142dd8b1b169225",
            "92cc343abaea4737b038f73183c7d3a6",
            "82c2855d50b84a20b6fafe218f21a09a",
            "e683d0a101ae489f9c7435285d61e118",
            "240a86df5ca54116b79f12382402da41",
            "f62f0757a2ba45bc96fb24a101869ce3",
            "0be11c05d0b34d72a08d998761fc3792",
            "8e3efb24e2da4c0ba9cc89c66448e413",
            "144cab6fbebf4e2d8d85a77b8ed50422",
            "3cff86638fd7435ca5bfa3f9e5c886fa",
            "bca50436e777477eacee24c7f408838b",
            "9f654963f6944171b161f3038805a590",
            "df82af9513cc43eaa81562dcad06fa06",
            "e71337b2b3da42e4b567c5bb6aadaaea"
          ]
        }
      },
      "execution_count": 2,
      "outputs": [
        {
          "output_type": "display_data",
          "data": {
            "text/plain": [
              "Dropdown(description='Jump to:', options=(('1: The Humble Adventurer', 0), ('2: A Brave Introduction', 1), ('3…"
            ],
            "application/vnd.jupyter.widget-view+json": {
              "version_major": 2,
              "version_minor": 0,
              "model_id": "10aaeaf40ada4b65a9ca5e1331fa4902"
            }
          },
          "metadata": {}
        },
        {
          "output_type": "display_data",
          "data": {
            "text/plain": [
              "<IPython.core.display.HTML object>"
            ],
            "text/html": [
              "\n",
              "        <div class=\"container\">\n",
              "            <div class=\"quest-header\">\n",
              "                <div class=\"quest-number\"><h2>Quest 1: The Humble Adventurer</h2></div>\n",
              "                <div class=\"quest-description\"><em>Every quest needs a hero! Create a basic Adventurer class that stores a name and a level.</em></div>\n",
              "            </div>\n",
              "        "
            ]
          },
          "metadata": {}
        },
        {
          "output_type": "display_data",
          "data": {
            "text/plain": [
              "<IPython.core.display.HTML object>"
            ],
            "text/html": [
              "<div class=\"code-section\"><div class=\"code-header\">✍️ Write your code here:</div></div>"
            ]
          },
          "metadata": {}
        },
        {
          "output_type": "display_data",
          "data": {
            "text/plain": [
              "Textarea(value='class Adventurer:\\n    def __init__(self, name: str, level: int):\\n        # Your code here\\n …"
            ],
            "application/vnd.jupyter.widget-view+json": {
              "version_major": 2,
              "version_minor": 0,
              "model_id": "92cc343abaea4737b038f73183c7d3a6"
            }
          },
          "metadata": {}
        },
        {
          "output_type": "display_data",
          "data": {
            "text/plain": [
              "HBox(children=(Button(button_style='success', description='⚔️ Submit Quest', style=ButtonStyle()), Button(butt…"
            ],
            "application/vnd.jupyter.widget-view+json": {
              "version_major": 2,
              "version_minor": 0,
              "model_id": "240a86df5ca54116b79f12382402da41"
            }
          },
          "metadata": {}
        },
        {
          "output_type": "display_data",
          "data": {
            "text/plain": [
              "<IPython.core.display.HTML object>"
            ],
            "text/html": [
              "</div>"
            ]
          },
          "metadata": {}
        },
        {
          "output_type": "display_data",
          "data": {
            "text/plain": [
              "Output(layout=Layout(width='100%'))"
            ],
            "application/vnd.jupyter.widget-view+json": {
              "version_major": 2,
              "version_minor": 0,
              "model_id": "df82af9513cc43eaa81562dcad06fa06"
            }
          },
          "metadata": {}
        },
        {
          "output_type": "execute_result",
          "data": {
            "text/plain": [
              "<object_quest.QuestSystem at 0x7d129426c290>"
            ]
          },
          "metadata": {},
          "execution_count": 2
        }
      ]
    },
    {
      "cell_type": "code",
      "source": [],
      "metadata": {
        "id": "jfe-Usv2dRFX"
      },
      "execution_count": null,
      "outputs": []
    }
  ]
}