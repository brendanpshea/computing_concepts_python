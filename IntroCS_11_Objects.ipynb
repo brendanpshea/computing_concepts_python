{
  "nbformat": 4,
  "nbformat_minor": 0,
  "metadata": {
    "colab": {
      "provenance": [],
      "authorship_tag": "ABX9TyMHrhHWU2rpOpvJaLuJvi6g",
      "include_colab_link": true
    },
    "kernelspec": {
      "name": "python3",
      "display_name": "Python 3"
    },
    "language_info": {
      "name": "python"
    }
  },
  "cells": [
    {
      "cell_type": "markdown",
      "metadata": {
        "id": "view-in-github",
        "colab_type": "text"
      },
      "source": [
        "<a href=\"https://colab.research.google.com/github/brendanpshea/computing_concepts_python/blob/main/IntroCS_11_Objects.ipynb\" target=\"_parent\"><img src=\"https://colab.research.google.com/assets/colab-badge.svg\" alt=\"Open In Colab\"/></a>"
      ]
    },
    {
      "cell_type": "markdown",
      "source": [
        "# Welcome to Object-Oriented Programming: A New Way of Thinking\n",
        "### Brendan Shea, PhD\n",
        "\n",
        "Object-Oriented Programming (OOP) is a powerful approach to writing code that helps us model real-world things in our programs. Instead of thinking about programming as a sequence of actions or calculations, OOP encourages us to think about the \"things\" in our program and how they interact with each other. For our virtual zoo, this means we'll create digital versions of animals and their habitats!\n",
        "\n",
        "**Object-Oriented Programming (OOP)** is a programming paradigm based on the concept of \"objects\" that contain both data and code to modify that data.\n",
        "\n",
        "Key benefits of OOP include:\n",
        "* It helps organize code in a way that mirrors how we think about the real world\n",
        "* It makes code more reusable through features like inheritance\n",
        "* It helps manage complexity in larger programs by breaking them into understandable pieces\n",
        "* It protects data through encapsulation, making programs more secure and reliable\n",
        "\n",
        "In this lesson, we'll build a virtual zoo step by step, creating animal classes, giving them attributes and behaviors, and exploring how they can relate to each other—just like in a real zoo!"
      ],
      "metadata": {
        "id": "6TP5JmAdWWxI"
      }
    },
    {
      "cell_type": "markdown",
      "source": [
        "## Brendan's Lecture"
      ],
      "metadata": {
        "id": "4FULMrZhPILa"
      }
    },
    {
      "cell_type": "code",
      "source": [
        "from IPython.display import YouTubeVideo\n",
        "YouTubeVideo('jUIBwAc0iGE', width=800, height=500)"
      ],
      "metadata": {
        "id": "GH77p5W8PKG5"
      },
      "execution_count": null,
      "outputs": []
    },
    {
      "cell_type": "code",
      "source": [
        "# A glimpse of what we'll build:\n",
        "class Lion:\n",
        "    def __init__(self, name, age):\n",
        "        self.name = name\n",
        "        self.age = age\n",
        "\n",
        "    def roar(self):\n",
        "        return f\"{self.name} roars loudly!\"\n",
        "\n",
        "simba = Lion(\"Simba\", 3)\n",
        "print(simba.roar())  # Output: Simba roars loudly!"
      ],
      "metadata": {
        "colab": {
          "base_uri": "https://localhost:8080/"
        },
        "id": "dBm6Mku1WaYw",
        "outputId": "e4a37221-b2f9-44fc-a7f4-65aaf46ab61f"
      },
      "execution_count": null,
      "outputs": [
        {
          "output_type": "stream",
          "name": "stdout",
          "text": [
            "Simba roars loudly!\n"
          ]
        }
      ]
    },
    {
      "cell_type": "markdown",
      "source": [
        "Let's break down what happens here:\n",
        "\n",
        "-   `class Lion:` creates a new class called Lion - think of this as the blueprint\n",
        "-   `__init__` is the constructor that runs automatically when we create a new lion\n",
        "-   `self` refers to the specific lion object being created\n",
        "-   When we write `simba = Lion(\"Simba\", 3)`, Python:\n",
        "    1.  Creates a new Lion object\n",
        "    2.  Calls `__init__` with the new object as `self`\n",
        "    3.  Sets `self.name = \"Simba\"` and `self.age = 3`\n",
        "    4.  Returns the new object and assigns it to `simba`\n",
        "-   `simba.roar()` calls the roar method on our specific lion object"
      ],
      "metadata": {
        "id": "LrMSVwedVYqp"
      }
    },
    {
      "cell_type": "markdown",
      "source": [
        "\n",
        "By the end of this unit, you'll understand how to think about programming problems in terms of objects and their interactions, setting you up for success in more advanced programming courses."
      ],
      "metadata": {
        "id": "Hg6jRg6dWazP"
      }
    },
    {
      "cell_type": "markdown",
      "source": [
        "# Real-World Objects vs. Code Objects: Understanding the Connection\n",
        "\n",
        "The genius of object-oriented programming lies in how it mirrors our understanding of the physical world. In real life, we interact with objects all the time—from the books we read to the animals we observe at the zoo. Each object has characteristics (like color, size, or weight) and capabilities (like making sounds or moving). In OOP, we recreate this same pattern in our code.\n",
        "\n",
        "**Objects** in programming are digital representations of things that have properties (data) and behaviors (functions).\n",
        "\n",
        "Think about the animals in our virtual zoo:\n",
        "* A real lion has properties (age, weight, fur color) and behaviors (roaring, running, hunting)\n",
        "* In our code, a lion object will have variables to store its properties and methods (functions) to implement its behaviors\n",
        "* Our code lion is a simplified model of a real lion—we only include the aspects that matter for our program\n",
        "\n",
        "| Real-World Properties | Code Representation |\n",
        "|-----------------------|---------------------|\n",
        "| Lion's name | `name` variable (string) |\n",
        "| Lion's age | `age` variable (integer) |\n",
        "| Lion's weight | `weight` variable (float) |\n",
        "| Lion's roar | `roar()` method |\n",
        "\n",
        "The power of OOP comes from this direct mapping between real-world thinking and code structure. When we can think about our programs in terms of familiar objects and interactions, it becomes easier to:\n",
        "* Plan what we need to build\n",
        "* Communicate our design to others\n",
        "* Identify and fix problems in our code"
      ],
      "metadata": {
        "id": "M3sFrCkPWlsQ"
      }
    },
    {
      "cell_type": "code",
      "source": [
        "# Representing a real lion in code\n",
        "class Lion:\n",
        "    def __init__(self, name, age, weight):\n",
        "        self.name = name        # Property: the lion's name\n",
        "        self.age = age          # Property: the lion's age in years\n",
        "        self.weight = weight    # Property: the lion's weight in kg\n",
        "\n",
        "    def roar(self):             # Behavior: the lion can roar\n",
        "        return f\"{self.name} lets out a mighty roar!\"\n",
        "\n",
        "    def eat(self, food_kg):     # Behavior: the lion can eat\n",
        "        self.weight += food_kg * 0.3\n",
        "        return f\"{self.name} enjoys the meal and gains weight.\""
      ],
      "metadata": {
        "id": "puZY_wKsWmZc"
      },
      "execution_count": null,
      "outputs": []
    },
    {
      "cell_type": "markdown",
      "source": [
        "As we build our virtual zoo, think about what real-world properties and behaviors are important to model for each animal, and what details we can leave out to keep our code manageable."
      ],
      "metadata": {
        "id": "0k_GsmUIWtBo"
      }
    },
    {
      "cell_type": "markdown",
      "source": [
        "# Classes: Creating Blueprints for Our Virtual Zoo Animals\n",
        "\n",
        "To create animals for our virtual zoo, we need a way to define what each type of animal looks like and how it behaves. In OOP, we use classes for this purpose. Think of a class as a blueprint or template that describes a particular type of object. Just as architects use blueprints to specify how to build houses, programmers use classes to specify how to create objects.\n",
        "\n",
        "A **class** is a code template for creating objects that defines what properties and behaviors all objects of that type will have.\n",
        "\n",
        "Understanding classes helps us organize our code:\n",
        "* A class defines a new data type in our program\n",
        "* Each class should represent one clear concept (like a specific animal type)\n",
        "* Classes allow us to create multiple similar objects without rewriting code\n",
        "* Classes serve as containers that group related data and functions together\n",
        "\n",
        "To define a new class in Python we just do the following:\n",
        "\n",
        "```python\n",
        "class MyClassName:\n",
        "  # code defining the class properties (attributes)\n",
        "  # code defining the class behaviors (methods)\n",
        "\n",
        "# Now, we are done defining the class\n",
        "\n",
        "a_new_object = MyClassName() # This creates a new entity of the class!\n",
        "```\n",
        "\n",
        "Let's see how we might define a simple class for an elephant in our zoo:\n"
      ],
      "metadata": {
        "id": "4XuX8oEXW21d"
      }
    },
    {
      "cell_type": "code",
      "source": [
        "class Elephant:\n",
        "    # Class attributes - shared by all elephants\n",
        "    species = \"Loxodonta\"\n",
        "    habitat = \"Savanna\"\n",
        "\n",
        "    # The __init__ method (constructor) runs when we create a new elephant\n",
        "    def __init__(self, name, age, weight, tusk_length):\n",
        "        # Instance attributes - unique to each individual elephant\n",
        "        self.name = name\n",
        "        self.age = age\n",
        "        self.weight = weight\n",
        "        self.tusk_length = tusk_length\n",
        "\n",
        "    # Methods - behaviors that all elephants can perform\n",
        "    def trumpet(self):\n",
        "        return f\"{self.name} trumpets loudly!\"\n",
        "\n",
        "    def spray_water(self, target):\n",
        "        return f\"{self.name} sprays water at {target}!\""
      ],
      "metadata": {
        "id": "zZW86sJRW6Bx"
      },
      "execution_count": null,
      "outputs": []
    },
    {
      "cell_type": "markdown",
      "source": [
        "Notice the two types of attributes here:\n",
        "\n",
        "-   `species` and `habitat` are defined directly in the class body - these are class attributes shared by ALL elephants\n",
        "-   `self.name` and `self.age` are created inside `__init__` - these are instance attributes unique to each elephant\n",
        "-   The constructor parameters (name, age, weight, tusk_length) become the values for each specific elephant's attributes"
      ],
      "metadata": {
        "id": "yDQBHIQ4ViaV"
      }
    },
    {
      "cell_type": "markdown",
      "source": [
        "Think of our `Elephant` class as a blueprint that tells Python how to create elephant objects. Notice that we haven't actually created any elephants yet—we've just defined what an elephant is. In the next section, we'll learn how to use this blueprint to create actual elephant objects for our zoo.\n",
        "\n",
        "The diagram in the next artifact shows the structure of our Elephant class. This type of diagram is called a class diagram and helps visualize what properties and methods our class contains."
      ],
      "metadata": {
        "id": "sIGcpIyDW70i"
      }
    },
    {
      "cell_type": "code",
      "source": [
        "# @title\n",
        "import base64\n",
        "import requests\n",
        "from IPython.display import SVG, display, HTML\n",
        "\n",
        "def mm(graph: str) -> None:\n",
        "    \"\"\"\n",
        "    Fetch and display a Mermaid diagram as SVG.\n",
        "\n",
        "    Parameters:\n",
        "      graph (str): Mermaid graph definition.\n",
        "    \"\"\"\n",
        "    # 1. Encode the graph to Base64\n",
        "    b64 = base64.urlsafe_b64encode(graph.encode('utf-8')).decode('ascii')\n",
        "    # 2. Construct the SVG URL\n",
        "    url = f'https://mermaid.ink/svg/{b64}'\n",
        "    # 3. Fetch SVG content\n",
        "    svg_data = requests.get(url).text\n",
        "    # 4. Render inline in Jupyter\n",
        "\n",
        "    display(HTML(f'{svg_data}'))\n",
        "\n",
        "mm(\"\"\"\n",
        "classDiagram\n",
        "    class Elephant {\n",
        "        +species: string\n",
        "        +habitat: string\n",
        "        +name: string\n",
        "        +age: int\n",
        "        +weight: float\n",
        "        +tusk_length: float\n",
        "        +__init__(name, age, weight, tusk_length)\n",
        "        +trumpet()\n",
        "        +spray_water(target)\n",
        "    }\"\"\")"
      ],
      "metadata": {
        "colab": {
          "base_uri": "https://localhost:8080/",
          "height": 349
        },
        "cellView": "form",
        "id": "Jo8EDwe9XG0p",
        "outputId": "d31433fa-2730-4c5b-e3e3-e336b8fd11cf"
      },
      "execution_count": null,
      "outputs": [
        {
          "output_type": "display_data",
          "data": {
            "text/plain": [
              "<IPython.core.display.HTML object>"
            ],
            "text/html": [
              "<svg id=\"mermaid-svg\" width=\"100%\" xmlns=\"http://www.w3.org/2000/svg\" class=\"classDiagram\" style=\"max-width: 339.265625px;\" viewBox=\"0 0 339.265625 328\" role=\"graphics-document document\" aria-roledescription=\"class\" xmlns:xlink=\"http://www.w3.org/1999/xlink\"><style xmlns=\"http://www.w3.org/1999/xhtml\">@import url(\"https://cdnjs.cloudflare.com/ajax/libs/font-awesome/6.7.2/css/all.min.css\");</style><style>#mermaid-svg{font-family:\"trebuchet ms\",verdana,arial,sans-serif;font-size:16px;fill:#333;}@keyframes edge-animation-frame{from{stroke-dashoffset:0;}}@keyframes dash{to{stroke-dashoffset:0;}}#mermaid-svg .edge-animation-slow{stroke-dasharray:9,5!important;stroke-dashoffset:900;animation:dash 50s linear infinite;stroke-linecap:round;}#mermaid-svg .edge-animation-fast{stroke-dasharray:9,5!important;stroke-dashoffset:900;animation:dash 20s linear infinite;stroke-linecap:round;}#mermaid-svg .error-icon{fill:#552222;}#mermaid-svg .error-text{fill:#552222;stroke:#552222;}#mermaid-svg .edge-thickness-normal{stroke-width:1px;}#mermaid-svg .edge-thickness-thick{stroke-width:3.5px;}#mermaid-svg .edge-pattern-solid{stroke-dasharray:0;}#mermaid-svg .edge-thickness-invisible{stroke-width:0;fill:none;}#mermaid-svg .edge-pattern-dashed{stroke-dasharray:3;}#mermaid-svg .edge-pattern-dotted{stroke-dasharray:2;}#mermaid-svg .marker{fill:#333333;stroke:#333333;}#mermaid-svg .marker.cross{stroke:#333333;}#mermaid-svg svg{font-family:\"trebuchet ms\",verdana,arial,sans-serif;font-size:16px;}#mermaid-svg p{margin:0;}#mermaid-svg g.classGroup text{fill:#9370DB;stroke:none;font-family:\"trebuchet ms\",verdana,arial,sans-serif;font-size:10px;}#mermaid-svg g.classGroup text .title{font-weight:bolder;}#mermaid-svg .nodeLabel,#mermaid-svg .edgeLabel{color:#131300;}#mermaid-svg .edgeLabel .label rect{fill:#ECECFF;}#mermaid-svg .label text{fill:#131300;}#mermaid-svg .labelBkg{background:#ECECFF;}#mermaid-svg .edgeLabel .label span{background:#ECECFF;}#mermaid-svg .classTitle{font-weight:bolder;}#mermaid-svg .node rect,#mermaid-svg .node circle,#mermaid-svg .node ellipse,#mermaid-svg .node polygon,#mermaid-svg .node path{fill:#ECECFF;stroke:#9370DB;stroke-width:1px;}#mermaid-svg .divider{stroke:#9370DB;stroke-width:1;}#mermaid-svg g.clickable{cursor:pointer;}#mermaid-svg g.classGroup rect{fill:#ECECFF;stroke:#9370DB;}#mermaid-svg g.classGroup line{stroke:#9370DB;stroke-width:1;}#mermaid-svg .classLabel .box{stroke:none;stroke-width:0;fill:#ECECFF;opacity:0.5;}#mermaid-svg .classLabel .label{fill:#9370DB;font-size:10px;}#mermaid-svg .relation{stroke:#333333;stroke-width:1;fill:none;}#mermaid-svg .dashed-line{stroke-dasharray:3;}#mermaid-svg .dotted-line{stroke-dasharray:1 2;}#mermaid-svg #compositionStart,#mermaid-svg .composition{fill:#333333!important;stroke:#333333!important;stroke-width:1;}#mermaid-svg #compositionEnd,#mermaid-svg .composition{fill:#333333!important;stroke:#333333!important;stroke-width:1;}#mermaid-svg #dependencyStart,#mermaid-svg .dependency{fill:#333333!important;stroke:#333333!important;stroke-width:1;}#mermaid-svg #dependencyStart,#mermaid-svg .dependency{fill:#333333!important;stroke:#333333!important;stroke-width:1;}#mermaid-svg #extensionStart,#mermaid-svg .extension{fill:transparent!important;stroke:#333333!important;stroke-width:1;}#mermaid-svg #extensionEnd,#mermaid-svg .extension{fill:transparent!important;stroke:#333333!important;stroke-width:1;}#mermaid-svg #aggregationStart,#mermaid-svg .aggregation{fill:transparent!important;stroke:#333333!important;stroke-width:1;}#mermaid-svg #aggregationEnd,#mermaid-svg .aggregation{fill:transparent!important;stroke:#333333!important;stroke-width:1;}#mermaid-svg #lollipopStart,#mermaid-svg .lollipop{fill:#ECECFF!important;stroke:#333333!important;stroke-width:1;}#mermaid-svg #lollipopEnd,#mermaid-svg .lollipop{fill:#ECECFF!important;stroke:#333333!important;stroke-width:1;}#mermaid-svg .edgeTerminals{font-size:11px;line-height:initial;}#mermaid-svg .classTitleText{text-anchor:middle;font-size:18px;fill:#333;}#mermaid-svg :root{--mermaid-font-family:\"trebuchet ms\",verdana,arial,sans-serif;}</style><g><defs><marker id=\"mermaid-svg_class-aggregationStart\" class=\"marker aggregation class\" refX=\"18\" refY=\"7\" markerWidth=\"190\" markerHeight=\"240\" orient=\"auto\"><path d=\"M 18,7 L9,13 L1,7 L9,1 Z\"/></marker></defs><defs><marker id=\"mermaid-svg_class-aggregationEnd\" class=\"marker aggregation class\" refX=\"1\" refY=\"7\" markerWidth=\"20\" markerHeight=\"28\" orient=\"auto\"><path d=\"M 18,7 L9,13 L1,7 L9,1 Z\"/></marker></defs><defs><marker id=\"mermaid-svg_class-extensionStart\" class=\"marker extension class\" refX=\"18\" refY=\"7\" markerWidth=\"190\" markerHeight=\"240\" orient=\"auto\"><path d=\"M 1,7 L18,13 V 1 Z\"/></marker></defs><defs><marker id=\"mermaid-svg_class-extensionEnd\" class=\"marker extension class\" refX=\"1\" refY=\"7\" markerWidth=\"20\" markerHeight=\"28\" orient=\"auto\"><path d=\"M 1,1 V 13 L18,7 Z\"/></marker></defs><defs><marker id=\"mermaid-svg_class-compositionStart\" class=\"marker composition class\" refX=\"18\" refY=\"7\" markerWidth=\"190\" markerHeight=\"240\" orient=\"auto\"><path d=\"M 18,7 L9,13 L1,7 L9,1 Z\"/></marker></defs><defs><marker id=\"mermaid-svg_class-compositionEnd\" class=\"marker composition class\" refX=\"1\" refY=\"7\" markerWidth=\"20\" markerHeight=\"28\" orient=\"auto\"><path d=\"M 18,7 L9,13 L1,7 L9,1 Z\"/></marker></defs><defs><marker id=\"mermaid-svg_class-dependencyStart\" class=\"marker dependency class\" refX=\"6\" refY=\"7\" markerWidth=\"190\" markerHeight=\"240\" orient=\"auto\"><path d=\"M 5,7 L9,13 L1,7 L9,1 Z\"/></marker></defs><defs><marker id=\"mermaid-svg_class-dependencyEnd\" class=\"marker dependency class\" refX=\"13\" refY=\"7\" markerWidth=\"20\" markerHeight=\"28\" orient=\"auto\"><path d=\"M 18,7 L9,13 L14,7 L9,1 Z\"/></marker></defs><defs><marker id=\"mermaid-svg_class-lollipopStart\" class=\"marker lollipop class\" refX=\"13\" refY=\"7\" markerWidth=\"190\" markerHeight=\"240\" orient=\"auto\"><circle stroke=\"black\" fill=\"transparent\" cx=\"7\" cy=\"7\" r=\"6\"/></marker></defs><defs><marker id=\"mermaid-svg_class-lollipopEnd\" class=\"marker lollipop class\" refX=\"1\" refY=\"7\" markerWidth=\"190\" markerHeight=\"240\" orient=\"auto\"><circle stroke=\"black\" fill=\"transparent\" cx=\"7\" cy=\"7\" r=\"6\"/></marker></defs><g class=\"root\"><g class=\"clusters\"/><g class=\"edgePaths\"/><g class=\"edgeLabels\"/><g class=\"nodes\"><g class=\"node default \" id=\"classId-Elephant-0\" transform=\"translate(169.6328125, 164)\"><g class=\"basic label-container\"><path d=\"M-161.6328125 -156 L161.6328125 -156 L161.6328125 156 L-161.6328125 156\" stroke=\"none\" stroke-width=\"0\" fill=\"#ECECFF\" style=\"\"/><path d=\"M-161.6328125 -156 C-32.92246164828137 -156, 95.78788920343726 -156, 161.6328125 -156 M-161.6328125 -156 C-85.24706542573148 -156, -8.861318351462955 -156, 161.6328125 -156 M161.6328125 -156 C161.6328125 -52.628817687332514, 161.6328125 50.74236462533497, 161.6328125 156 M161.6328125 -156 C161.6328125 -70.38918975568664, 161.6328125 15.221620488626712, 161.6328125 156 M161.6328125 156 C67.64684673983034 156, -26.339119020339325 156, -161.6328125 156 M161.6328125 156 C38.5207754573302 156, -84.5912615853396 156, -161.6328125 156 M-161.6328125 156 C-161.6328125 76.03897176106909, -161.6328125 -3.9220564778618154, -161.6328125 -156 M-161.6328125 156 C-161.6328125 48.68564825940986, -161.6328125 -58.62870348118028, -161.6328125 -156\" stroke=\"#9370DB\" stroke-width=\"1.3\" fill=\"none\" style=\"\"/></g><g class=\"annotation-group text\" transform=\"translate(0, -132)\"/><g class=\"label-group text\" transform=\"translate(-33.78125, -132)\"><g class=\"label\" style=\"font-weight: bolder\" transform=\"translate(0,-12)\"><foreignObject width=\"67.5625\" height=\"24\"><div xmlns=\"http://www.w3.org/1999/xhtml\" style=\"display: table-cell; white-space: nowrap; line-height: 1.5; max-width: 107px; text-align: center;\"><span class=\"nodeLabel markdown-node-label\" style=\"\"><p>Elephant</p></span></div></foreignObject></g></g><g class=\"members-group text\" transform=\"translate(-149.6328125, -84)\"><g class=\"label\" style=\"\" transform=\"translate(0,-12)\"><foreignObject width=\"111.609375\" height=\"24\"><div xmlns=\"http://www.w3.org/1999/xhtml\" style=\"display: table-cell; white-space: nowrap; line-height: 1.5; max-width: 155px; text-align: center;\"><span class=\"nodeLabel markdown-node-label\" style=\"\"><p>+species: string</p></span></div></foreignObject></g><g class=\"label\" style=\"\" transform=\"translate(0,12)\"><foreignObject width=\"105.40625\" height=\"24\"><div xmlns=\"http://www.w3.org/1999/xhtml\" style=\"display: table-cell; white-space: nowrap; line-height: 1.5; max-width: 152px; text-align: center;\"><span class=\"nodeLabel markdown-node-label\" style=\"\"><p>+habitat: string</p></span></div></foreignObject></g><g class=\"label\" style=\"\" transform=\"translate(0,36)\"><foreignObject width=\"97.390625\" height=\"24\"><div xmlns=\"http://www.w3.org/1999/xhtml\" style=\"display: table-cell; white-space: nowrap; line-height: 1.5; max-width: 143px; text-align: center;\"><span class=\"nodeLabel markdown-node-label\" style=\"\"><p>+name: string</p></span></div></foreignObject></g><g class=\"label\" style=\"\" transform=\"translate(0,60)\"><foreignObject width=\"61.828125\" height=\"24\"><div xmlns=\"http://www.w3.org/1999/xhtml\" style=\"display: table-cell; white-space: nowrap; line-height: 1.5; max-width: 112px; text-align: center;\"><span class=\"nodeLabel markdown-node-label\" style=\"\"><p>+age: int</p></span></div></foreignObject></g><g class=\"label\" style=\"\" transform=\"translate(0,84)\"><foreignObject width=\"94.734375\" height=\"24\"><div xmlns=\"http://www.w3.org/1999/xhtml\" style=\"display: table-cell; white-space: nowrap; line-height: 1.5; max-width: 145px; text-align: center;\"><span class=\"nodeLabel markdown-node-label\" style=\"\"><p>+weight: float</p></span></div></foreignObject></g><g class=\"label\" style=\"\" transform=\"translate(0,108)\"><foreignObject width=\"130.3125\" height=\"24\"><div xmlns=\"http://www.w3.org/1999/xhtml\" style=\"display: table-cell; white-space: nowrap; line-height: 1.5; max-width: 176px; text-align: center;\"><span class=\"nodeLabel markdown-node-label\" style=\"\"><p>+tusk_length: float</p></span></div></foreignObject></g></g><g class=\"methods-group text\" transform=\"translate(-149.6328125, 84)\"><g class=\"label\" style=\"\" transform=\"translate(0,-12)\"><foreignObject width=\"265.484375\" height=\"24\"><div xmlns=\"http://www.w3.org/1999/xhtml\" style=\"display: table-cell; white-space: nowrap; line-height: 1.5; max-width: 327px; text-align: center;\"><span class=\"nodeLabel markdown-node-label\" style=\"\"><p>+<strong>init</strong>(name, age, weight, tusk_length)</p></span></div></foreignObject></g><g class=\"label\" style=\"\" transform=\"translate(0,12)\"><foreignObject width=\"74.25\" height=\"24\"><div xmlns=\"http://www.w3.org/1999/xhtml\" style=\"display: table-cell; white-space: nowrap; line-height: 1.5; max-width: 124px; text-align: center;\"><span class=\"nodeLabel markdown-node-label\" style=\"\"><p>+trumpet()</p></span></div></foreignObject></g><g class=\"label\" style=\"\" transform=\"translate(0,36)\"><foreignObject width=\"148.0625\" height=\"24\"><div xmlns=\"http://www.w3.org/1999/xhtml\" style=\"display: table-cell; white-space: nowrap; line-height: 1.5; max-width: 188px; text-align: center;\"><span class=\"nodeLabel markdown-node-label\" style=\"\"><p>+spray_water(target)</p></span></div></foreignObject></g></g><g class=\"divider\" style=\"\"><path d=\"M-161.6328125 -108 C-44.54997562166655 -108, 72.5328612566669 -108, 161.6328125 -108 M-161.6328125 -108 C-40.49322045935253 -108, 80.64637158129494 -108, 161.6328125 -108\" stroke=\"#9370DB\" stroke-width=\"1.3\" fill=\"none\" style=\"\"/></g><g class=\"divider\" style=\"\"><path d=\"M-161.6328125 60 C-47.406257421179035 60, 66.82029765764193 60, 161.6328125 60 M-161.6328125 60 C-93.79198113460069 60, -25.95114976920138 60, 161.6328125 60\" stroke=\"#9370DB\" stroke-width=\"1.3\" fill=\"none\" style=\"\"/></g></g></g></g></g></svg>"
            ]
          },
          "metadata": {}
        }
      ]
    },
    {
      "cell_type": "markdown",
      "source": [
        "# Objects: Bringing Animal Classes to Life\n",
        "\n",
        "Now that we've created blueprints (classes) for our zoo animals, it's time to create actual animals! In OOP, we bring our classes to life by creating objects, also called instances. Each object is a specific realization of its class—just as each real elephant is a specific individual with its own name, age, and personality.\n",
        "\n",
        "An **object** (or **instance**) is a specific example of a class that contains real data and can perform actions defined by its class.\n",
        "\n",
        "Key things to understand about objects:\n",
        "* Objects are created from classes using a process called instantiation\n",
        "* Each object has its own unique identity even if it has the same property values as another object\n",
        "* Objects can interact with each other through their methods\n",
        "* The state of an object can change over time as its property values are modified\n",
        "\n",
        "Let's create some elephant objects using our Elephant class (**make sure to run the cells defining the elephant class before running this one!**):"
      ],
      "metadata": {
        "id": "id_3qXcAXjIg"
      }
    },
    {
      "cell_type": "code",
      "source": [
        "# Create three elephant objects\n",
        "dumbo = Elephant(\"Dumbo\", 5, 2000, 0.5)\n",
        "jumbo = Elephant(\"Jumbo\", 15, 5000, 1.2)\n",
        "ella = Elephant(\"Ella\", 8, 3500, 0.8)"
      ],
      "metadata": {
        "id": "qb6B4HqqXrQB"
      },
      "execution_count": null,
      "outputs": []
    },
    {
      "cell_type": "markdown",
      "source": [
        "Each line here creates a completely separate elephant object:\n",
        "\n",
        "-   Python allocates new memory for each elephant\n",
        "-   The `__init__` method runs three separate times\n",
        "-   Each elephant gets its own copy of instance attributes (name, age, etc.)\n",
        "-   All three elephants share the same class attributes (species = \"Loxodonta\")"
      ],
      "metadata": {
        "id": "eVXaPirxVwjQ"
      }
    },
    {
      "cell_type": "code",
      "source": [
        "# Now we can interact with our elephant objects\n",
        "print(dumbo.trumpet())  # Output: Dumbo trumpets loudly!\n",
        "print(jumbo.spray_water(\"the zookeeper\"))  # Output: Jumbo sprays water at the zookeeper!\n"
      ],
      "metadata": {
        "colab": {
          "base_uri": "https://localhost:8080/"
        },
        "id": "4eIaw3WRVqnp",
        "outputId": "a3362b36-1cdc-407d-af9b-a4aae89a3b90"
      },
      "execution_count": null,
      "outputs": [
        {
          "output_type": "stream",
          "name": "stdout",
          "text": [
            "Dumbo trumpets loudly!\n",
            "Jumbo sprays water at the zookeeper!\n"
          ]
        }
      ]
    },
    {
      "cell_type": "code",
      "source": [
        "# We can access and modify object properties\n",
        "print(f\"Ella is {ella.age} years old\")\n",
        "ella.age += 1  # It's Ella's birthday!\n",
        "print(f\"Now Ella is {ella.age} years old\")"
      ],
      "metadata": {
        "colab": {
          "base_uri": "https://localhost:8080/"
        },
        "id": "YeeXKep0Vti_",
        "outputId": "be8b6c87-6209-475b-8011-cf6bba8f42b9"
      },
      "execution_count": null,
      "outputs": [
        {
          "output_type": "stream",
          "name": "stdout",
          "text": [
            "Ella is 8 years old\n",
            "Now Ella is 9 years old\n"
          ]
        }
      ]
    },
    {
      "cell_type": "markdown",
      "source": [],
      "metadata": {
        "id": "HXxXrk_sVswc"
      }
    },
    {
      "cell_type": "markdown",
      "source": [
        "| Object | Description | Memory Location |\n",
        "|--------|-------------|-----------------|\n",
        "| dumbo | An instance of the Elephant class | Unique address in memory |\n",
        "| jumbo | Another instance of the Elephant class | Different memory address |\n",
        "| ella | A third instance of the Elephant class | Another unique memory address |\n",
        "\n",
        "When we create objects, Python allocates memory to store their data. Each object gets its own copy of the instance attributes (like name and age), but all objects of the same class share the class attributes (like species and habitat) and methods. This allows us to create many different elephants without duplicating the code that defines their behavior.\n",
        "\n",
        "Remember: Classes are the blueprints, objects are the actual animals in our virtual zoo. We can create as many objects as we need from each class."
      ],
      "metadata": {
        "id": "HJ68hczAXufp"
      }
    },
    {
      "cell_type": "markdown",
      "source": [
        "# Attributes: Characteristics That Define Our Zoo Animals\n",
        "\n",
        "Just as real animals have characteristics like size, color, and weight, objects in our virtual zoo have data that defines their state. In OOP, we call these pieces of data **attributes** (also known as properties or fields). Attributes store information about each object, making each one unique.\n",
        "\n",
        "**Attributes** are variables that belong to a class or object and store information about that class or object.\n",
        "\n",
        "In Python, we work with two types of attributes:\n",
        "* **Instance attributes** belong to a specific object instance (like a particular lion's name)\n",
        "* **Class attributes** belong to the class itself and are shared by all instances (like the scientific name for all lions)\n"
      ],
      "metadata": {
        "id": "8wHVd8WyX0sy"
      }
    },
    {
      "cell_type": "code",
      "source": [
        "class Penguin:\n",
        "    # Class attributes - shared by all penguins\n",
        "    species = \"Spheniscidae\"  # Scientific family name\n",
        "    habitat = \"Antarctica\"    # Where penguins typically live\n",
        "\n",
        "    def __init__(self, name, age, swimming_speed):\n",
        "        # Instance attributes - unique to each penguin\n",
        "        self.name = name\n",
        "        self.age = age\n",
        "        self.swimming_speed = swimming_speed\n",
        "        self.hungry = True  # All new penguins start out hungry\n",
        "\n",
        "    def swim(self):\n",
        "        return f\"{self.name} swims at {self.swimming_speed} mph!\"\n",
        "\n",
        "    def eat(self, food=\"fish\"):\n",
        "        self.hungry = False\n",
        "        return f\"{self.name} eats some {food} and is now full.\""
      ],
      "metadata": {
        "id": "y7pLlHG8X297"
      },
      "execution_count": null,
      "outputs": []
    },
    {
      "cell_type": "code",
      "source": [
        "# Create two penguin objects\n",
        "percy = Penguin(\"Percy\", 3, 22)\n",
        "penny = Penguin(\"Penny\", 5, 25)"
      ],
      "metadata": {
        "id": "0ntIlcZdWqlA"
      },
      "execution_count": null,
      "outputs": []
    },
    {
      "cell_type": "code",
      "source": [
        "# All penguins share the same class attributes\n",
        "print(f\"Percy's species: {percy.species}\")  # Output: Percy's species: Spheniscidae\n",
        "print(f\"Penny's species: {penny.species}\")  # Output: Penny's species: Spheniscidae"
      ],
      "metadata": {
        "colab": {
          "base_uri": "https://localhost:8080/"
        },
        "id": "G6H0x7IjX8GV",
        "outputId": "577b95df-d8c8-4743-dc90-d8f478725837"
      },
      "execution_count": null,
      "outputs": [
        {
          "output_type": "stream",
          "name": "stdout",
          "text": [
            "Percy's species: Spheniscidae\n",
            "Penny's species: Spheniscidae\n"
          ]
        }
      ]
    },
    {
      "cell_type": "markdown",
      "source": [
        "When Python looks for an attribute:\n",
        "\n",
        "1.  First, it checks if the object (percy) has that attribute\n",
        "2.  If not found, it checks the class (Penguin) for the attribute\n",
        "3.  Since `species` is a class attribute, both percy and penny find the same value This is why changing `Penguin.species` would affect all penguins at once!"
      ],
      "metadata": {
        "id": "xiJqFwCIV_Hw"
      }
    },
    {
      "cell_type": "code",
      "source": [
        "# But each has its own instance attributes\n",
        "print(f\"Percy's age: {percy.age}\")  # Output: Percy's age: 3\n",
        "print(f\"Penny's age: {penny.age}\")  # Output: Penny's age: 5"
      ],
      "metadata": {
        "colab": {
          "base_uri": "https://localhost:8080/"
        },
        "id": "ENTbaA9eX_CN",
        "outputId": "e31b95c7-25a8-4f53-da90-5cb15bf3e1a4"
      },
      "execution_count": null,
      "outputs": [
        {
          "output_type": "stream",
          "name": "stdout",
          "text": [
            "Percy's age: 3\n",
            "Penny's age: 5\n"
          ]
        }
      ]
    },
    {
      "cell_type": "code",
      "source": [
        "# We can modify instance attributes\n",
        "percy.hungry = True\n",
        "print(f\"Is Percy hungry? {percy.hungry}\")  # Output: Is Percy hungry? True\n",
        "print(f\"Is Penny hungry? {penny.hungry}\")  # Output: Is Penny hungry? True"
      ],
      "metadata": {
        "colab": {
          "base_uri": "https://localhost:8080/"
        },
        "id": "JnAesStxYBbq",
        "outputId": "eb35009a-b795-447b-9bb2-695c9a5e94d5"
      },
      "execution_count": null,
      "outputs": [
        {
          "output_type": "stream",
          "name": "stdout",
          "text": [
            "Is Percy hungry? True\n",
            "Is Penny hungry? True\n"
          ]
        }
      ]
    },
    {
      "cell_type": "markdown",
      "source": [
        "When choosing what attributes to include in your classes, think about:\n",
        "* What information is needed to model the object accurately?\n",
        "* What data might change over time?\n",
        "* What information is required for the methods to work properly?\n",
        "\n",
        "The right attributes will help your objects model real-world entities effectively, making your code more intuitive and easier to understand."
      ],
      "metadata": {
        "id": "pIijzfDFYFB0"
      }
    },
    {
      "cell_type": "markdown",
      "source": [
        "# Methods: Actions Our Zoo Animals Can Perform\n",
        "\n",
        "While attributes define what our zoo animals are, methods define what they can do. In OOP, **methods** are functions that belong to a class and can perform operations using the object's data. Think of methods as the behaviors or actions that our animals can take, like a tiger pouncing or a parrot talking.\n",
        "\n",
        "**Methods** are functions that are defined inside a class and can access and modify the object's attributes.\n",
        "\n",
        "Methods give our objects capabilities:\n",
        "* They allow objects to interact with each other\n",
        "* They can change the object's state by modifying its attributes\n",
        "* They can perform calculations based on the object's attributes\n",
        "* They organize code by keeping related operations together with the data they operate on\n",
        "\n",
        "Let's look at a monkey class with several methods:"
      ],
      "metadata": {
        "id": "7dzHtObFYLWk"
      }
    },
    {
      "cell_type": "code",
      "source": [
        "class Monkey:\n",
        "    def __init__(self, name, age, favorite_food):\n",
        "        self.name = name\n",
        "        self.age = age\n",
        "        self.favorite_food = favorite_food\n",
        "        self.energy = 100  # All monkeys start with full energy\n",
        "\n",
        "    def climb(self, height):\n",
        "        \"\"\"The monkey climbs up a tree or structure\"\"\"\n",
        "        if self.energy >= 10:\n",
        "            self.energy -= 10\n",
        "            return f\"{self.name} climbs up {height} feet high!\"\n",
        "        else:\n",
        "            return f\"{self.name} is too tired to climb.\"\n",
        "\n",
        "    def eat(self, food):\n",
        "        \"\"\"The monkey eats some food and regains energy\"\"\"\n",
        "        self.energy += 25\n",
        "        if self.energy > 100:\n",
        "            self.energy = 100\n",
        "\n",
        "        if food == self.favorite_food:\n",
        "            return f\"{self.name} eats {food} excitedly! Energy: {self.energy}\"\n",
        "        else:\n",
        "            return f\"{self.name} eats {food}. Energy: {self.energy}\"\n",
        "\n",
        "    def make_sound(self):\n",
        "        \"\"\"The monkey makes a sound\"\"\"\n",
        "        return f\"{self.name} says: Ooh ooh aah aah!\""
      ],
      "metadata": {
        "id": "Quf9O7acYNSV"
      },
      "execution_count": null,
      "outputs": []
    },
    {
      "cell_type": "markdown",
      "source": [
        "Now let's see these methods in action."
      ],
      "metadata": {
        "id": "B7ICiKSHYP9n"
      }
    },
    {
      "cell_type": "code",
      "source": [
        "# Create a monkey object\n",
        "george = Monkey(\"George\", 4, \"bananas\")\n",
        "\n",
        "# Call methods on our monkey\n",
        "print(george.make_sound())  # Output: George says: Ooh ooh aah aah!\n",
        "print(george.climb(20))     # Output: George climbs up 20 feet high!\n",
        "print(f\"Energy level: {george.energy}\")  # Output: Energy level: 90\n",
        "print(george.eat(\"bananas\"))  # Output: George eats bananas excitedly! Energy: 100"
      ],
      "metadata": {
        "colab": {
          "base_uri": "https://localhost:8080/"
        },
        "id": "eIxH1pw0YRq-",
        "outputId": "22c9a5d2-91c6-48d6-ccee-e4c9d10dcc99"
      },
      "execution_count": null,
      "outputs": [
        {
          "output_type": "stream",
          "name": "stdout",
          "text": [
            "George says: Ooh ooh aah aah!\n",
            "George climbs up 20 feet high!\n",
            "Energy level: 90\n",
            "George eats bananas excitedly! Energy: 100\n"
          ]
        }
      ]
    },
    {
      "cell_type": "markdown",
      "source": [
        "When do soemthing like call `george.climb(20)`:\n",
        "\n",
        "-   Python automatically passes `george` as the first argument (self)\n",
        "-   So `climb(self, height)` receives `george` as self and 20 as height\n",
        "-   Inside the method, `self.energy` refers to george's energy attribute\n",
        "-   The method can both read (`if self.energy >= 10`) and modify (`self.energy -= 10`) the object's state"
      ],
      "metadata": {
        "id": "bVgQcKLcWI9o"
      }
    },
    {
      "cell_type": "markdown",
      "source": [
        "Notice how the `self` parameter lets methods access and modify the object's attributes. When you call a method on an object, Python automatically passes the object itself as the first argument to the method. This is why every method in a class has `self` as its first parameter.\n",
        "\n",
        "| Method Type | Description | Example |\n",
        "|-------------|-------------|---------|\n",
        "| Accessor | Retrieves data but doesn't modify the object | `get_age()` |\n",
        "| Mutator | Changes the object's state by modifying attributes | `eat()` |\n",
        "| Helper | Supports other methods but isn't usually called directly | `_calculate_energy_needed()` |\n",
        "| Special | Built-in Python methods with special meaning | `__init__()`, `__str__()` |\n",
        "\n",
        "Methods are what make your objects come alive in your code. By giving your classes well-designed methods, you create objects that behave in intuitive ways and can interact with each other, just like real animals in a zoo."
      ],
      "metadata": {
        "id": "cTB86WI2YVgK"
      }
    },
    {
      "cell_type": "code",
      "source": [
        "# @title\n",
        "mm(\"\"\"\n",
        "classDiagram\n",
        "    class Monkey {\n",
        "        +name: string\n",
        "        +age: int\n",
        "        +favorite_food: string\n",
        "        +energy: int\n",
        "        +__init__(name, age, favorite_food)\n",
        "        +climb(height)\n",
        "        +eat(food)\n",
        "        +make_sound()\n",
        "    }\n",
        "\n",
        "    note for Monkey \"The energy attribute decreases when climbing and increases when eating\"\n",
        "    \"\"\")"
      ],
      "metadata": {
        "colab": {
          "base_uri": "https://localhost:8080/",
          "height": 411
        },
        "cellView": "form",
        "id": "RIe47q8oYZE9",
        "outputId": "3423a5c3-ac31-428c-e35e-433d51db1d9a"
      },
      "execution_count": null,
      "outputs": [
        {
          "output_type": "display_data",
          "data": {
            "text/plain": [
              "<IPython.core.display.HTML object>"
            ],
            "text/html": [
              "<svg id=\"mermaid-svg\" width=\"100%\" xmlns=\"http://www.w3.org/2000/svg\" class=\"classDiagram\" style=\"max-width: 550.09375px;\" viewBox=\"0 0 550.09375 390\" role=\"graphics-document document\" aria-roledescription=\"class\" xmlns:xlink=\"http://www.w3.org/1999/xlink\"><style xmlns=\"http://www.w3.org/1999/xhtml\">@import url(\"https://cdnjs.cloudflare.com/ajax/libs/font-awesome/6.7.2/css/all.min.css\");</style><style>#mermaid-svg{font-family:\"trebuchet ms\",verdana,arial,sans-serif;font-size:16px;fill:#333;}@keyframes edge-animation-frame{from{stroke-dashoffset:0;}}@keyframes dash{to{stroke-dashoffset:0;}}#mermaid-svg .edge-animation-slow{stroke-dasharray:9,5!important;stroke-dashoffset:900;animation:dash 50s linear infinite;stroke-linecap:round;}#mermaid-svg .edge-animation-fast{stroke-dasharray:9,5!important;stroke-dashoffset:900;animation:dash 20s linear infinite;stroke-linecap:round;}#mermaid-svg .error-icon{fill:#552222;}#mermaid-svg .error-text{fill:#552222;stroke:#552222;}#mermaid-svg .edge-thickness-normal{stroke-width:1px;}#mermaid-svg .edge-thickness-thick{stroke-width:3.5px;}#mermaid-svg .edge-pattern-solid{stroke-dasharray:0;}#mermaid-svg .edge-thickness-invisible{stroke-width:0;fill:none;}#mermaid-svg .edge-pattern-dashed{stroke-dasharray:3;}#mermaid-svg .edge-pattern-dotted{stroke-dasharray:2;}#mermaid-svg .marker{fill:#333333;stroke:#333333;}#mermaid-svg .marker.cross{stroke:#333333;}#mermaid-svg svg{font-family:\"trebuchet ms\",verdana,arial,sans-serif;font-size:16px;}#mermaid-svg p{margin:0;}#mermaid-svg g.classGroup text{fill:#9370DB;stroke:none;font-family:\"trebuchet ms\",verdana,arial,sans-serif;font-size:10px;}#mermaid-svg g.classGroup text .title{font-weight:bolder;}#mermaid-svg .nodeLabel,#mermaid-svg .edgeLabel{color:#131300;}#mermaid-svg .edgeLabel .label rect{fill:#ECECFF;}#mermaid-svg .label text{fill:#131300;}#mermaid-svg .labelBkg{background:#ECECFF;}#mermaid-svg .edgeLabel .label span{background:#ECECFF;}#mermaid-svg .classTitle{font-weight:bolder;}#mermaid-svg .node rect,#mermaid-svg .node circle,#mermaid-svg .node ellipse,#mermaid-svg .node polygon,#mermaid-svg .node path{fill:#ECECFF;stroke:#9370DB;stroke-width:1px;}#mermaid-svg .divider{stroke:#9370DB;stroke-width:1;}#mermaid-svg g.clickable{cursor:pointer;}#mermaid-svg g.classGroup rect{fill:#ECECFF;stroke:#9370DB;}#mermaid-svg g.classGroup line{stroke:#9370DB;stroke-width:1;}#mermaid-svg .classLabel .box{stroke:none;stroke-width:0;fill:#ECECFF;opacity:0.5;}#mermaid-svg .classLabel .label{fill:#9370DB;font-size:10px;}#mermaid-svg .relation{stroke:#333333;stroke-width:1;fill:none;}#mermaid-svg .dashed-line{stroke-dasharray:3;}#mermaid-svg .dotted-line{stroke-dasharray:1 2;}#mermaid-svg #compositionStart,#mermaid-svg .composition{fill:#333333!important;stroke:#333333!important;stroke-width:1;}#mermaid-svg #compositionEnd,#mermaid-svg .composition{fill:#333333!important;stroke:#333333!important;stroke-width:1;}#mermaid-svg #dependencyStart,#mermaid-svg .dependency{fill:#333333!important;stroke:#333333!important;stroke-width:1;}#mermaid-svg #dependencyStart,#mermaid-svg .dependency{fill:#333333!important;stroke:#333333!important;stroke-width:1;}#mermaid-svg #extensionStart,#mermaid-svg .extension{fill:transparent!important;stroke:#333333!important;stroke-width:1;}#mermaid-svg #extensionEnd,#mermaid-svg .extension{fill:transparent!important;stroke:#333333!important;stroke-width:1;}#mermaid-svg #aggregationStart,#mermaid-svg .aggregation{fill:transparent!important;stroke:#333333!important;stroke-width:1;}#mermaid-svg #aggregationEnd,#mermaid-svg .aggregation{fill:transparent!important;stroke:#333333!important;stroke-width:1;}#mermaid-svg #lollipopStart,#mermaid-svg .lollipop{fill:#ECECFF!important;stroke:#333333!important;stroke-width:1;}#mermaid-svg #lollipopEnd,#mermaid-svg .lollipop{fill:#ECECFF!important;stroke:#333333!important;stroke-width:1;}#mermaid-svg .edgeTerminals{font-size:11px;line-height:initial;}#mermaid-svg .classTitleText{text-anchor:middle;font-size:18px;fill:#333;}#mermaid-svg :root{--mermaid-font-family:\"trebuchet ms\",verdana,arial,sans-serif;}</style><g><defs><marker id=\"mermaid-svg_class-aggregationStart\" class=\"marker aggregation class\" refX=\"18\" refY=\"7\" markerWidth=\"190\" markerHeight=\"240\" orient=\"auto\"><path d=\"M 18,7 L9,13 L1,7 L9,1 Z\"/></marker></defs><defs><marker id=\"mermaid-svg_class-aggregationEnd\" class=\"marker aggregation class\" refX=\"1\" refY=\"7\" markerWidth=\"20\" markerHeight=\"28\" orient=\"auto\"><path d=\"M 18,7 L9,13 L1,7 L9,1 Z\"/></marker></defs><defs><marker id=\"mermaid-svg_class-extensionStart\" class=\"marker extension class\" refX=\"18\" refY=\"7\" markerWidth=\"190\" markerHeight=\"240\" orient=\"auto\"><path d=\"M 1,7 L18,13 V 1 Z\"/></marker></defs><defs><marker id=\"mermaid-svg_class-extensionEnd\" class=\"marker extension class\" refX=\"1\" refY=\"7\" markerWidth=\"20\" markerHeight=\"28\" orient=\"auto\"><path d=\"M 1,1 V 13 L18,7 Z\"/></marker></defs><defs><marker id=\"mermaid-svg_class-compositionStart\" class=\"marker composition class\" refX=\"18\" refY=\"7\" markerWidth=\"190\" markerHeight=\"240\" orient=\"auto\"><path d=\"M 18,7 L9,13 L1,7 L9,1 Z\"/></marker></defs><defs><marker id=\"mermaid-svg_class-compositionEnd\" class=\"marker composition class\" refX=\"1\" refY=\"7\" markerWidth=\"20\" markerHeight=\"28\" orient=\"auto\"><path d=\"M 18,7 L9,13 L1,7 L9,1 Z\"/></marker></defs><defs><marker id=\"mermaid-svg_class-dependencyStart\" class=\"marker dependency class\" refX=\"6\" refY=\"7\" markerWidth=\"190\" markerHeight=\"240\" orient=\"auto\"><path d=\"M 5,7 L9,13 L1,7 L9,1 Z\"/></marker></defs><defs><marker id=\"mermaid-svg_class-dependencyEnd\" class=\"marker dependency class\" refX=\"13\" refY=\"7\" markerWidth=\"20\" markerHeight=\"28\" orient=\"auto\"><path d=\"M 18,7 L9,13 L14,7 L9,1 Z\"/></marker></defs><defs><marker id=\"mermaid-svg_class-lollipopStart\" class=\"marker lollipop class\" refX=\"13\" refY=\"7\" markerWidth=\"190\" markerHeight=\"240\" orient=\"auto\"><circle stroke=\"black\" fill=\"transparent\" cx=\"7\" cy=\"7\" r=\"6\"/></marker></defs><defs><marker id=\"mermaid-svg_class-lollipopEnd\" class=\"marker lollipop class\" refX=\"1\" refY=\"7\" markerWidth=\"190\" markerHeight=\"240\" orient=\"auto\"><circle stroke=\"black\" fill=\"transparent\" cx=\"7\" cy=\"7\" r=\"6\"/></marker></defs><g class=\"root\"><g class=\"clusters\"/><g class=\"edgePaths\"><path d=\"M275.047,44L275.047,48.167C275.047,52.333,275.047,60.667,275.047,69C275.047,77.333,275.047,85.667,275.047,89.833L275.047,94\" id=\"edgeNote1\" class=\" edge-thickness-normal edge-pattern-dotted relation\" style=\"fill: none;\"/></g><g class=\"edgeLabels\"><g class=\"edgeLabel\"><g class=\"label\" transform=\"translate(0, 0)\"><foreignObject width=\"0\" height=\"0\"><div style=\"display: table-cell; white-space: nowrap; line-height: 1.5; max-width: 200px; text-align: center;\" xmlns=\"http://www.w3.org/1999/xhtml\" class=\"labelBkg\"><span style=\";\" class=\"edgeLabel \"></span></div></foreignObject></g></g></g><g class=\"nodes\"><g class=\"node default \" id=\"classId-Monkey-0\" transform=\"translate(275.046875, 238)\"><g class=\"basic label-container\"><path d=\"M-137.40234375 -144 L137.40234375 -144 L137.40234375 144 L-137.40234375 144\" stroke=\"none\" stroke-width=\"0\" fill=\"#ECECFF\" style=\"\"/><path d=\"M-137.40234375 -144 C-47.50434510896868 -144, 42.39365353206264 -144, 137.40234375 -144 M-137.40234375 -144 C-46.593898933500455 -144, 44.21454588299909 -144, 137.40234375 -144 M137.40234375 -144 C137.40234375 -61.1100876026824, 137.40234375 21.779824794635203, 137.40234375 144 M137.40234375 -144 C137.40234375 -49.96258014618864, 137.40234375 44.074839707622715, 137.40234375 144 M137.40234375 144 C44.0494414703449 144, -49.303460809310195 144, -137.40234375 144 M137.40234375 144 C31.63136533122926 144, -74.13961308754148 144, -137.40234375 144 M-137.40234375 144 C-137.40234375 72.32315157459574, -137.40234375 0.6463031491914819, -137.40234375 -144 M-137.40234375 144 C-137.40234375 52.63097406294855, -137.40234375 -38.738051874102894, -137.40234375 -144\" stroke=\"#9370DB\" stroke-width=\"1.3\" fill=\"none\" style=\"\"/></g><g class=\"annotation-group text\" transform=\"translate(0, -120)\"/><g class=\"label-group text\" transform=\"translate(-29.7890625, -120)\"><g class=\"label\" style=\"font-weight: bolder\" transform=\"translate(0,-12)\"><foreignObject width=\"59.578125\" height=\"24\"><div xmlns=\"http://www.w3.org/1999/xhtml\" style=\"display: table-cell; white-space: nowrap; line-height: 1.5; max-width: 103px; text-align: center;\"><span class=\"nodeLabel markdown-node-label\" style=\"\"><p>Monkey</p></span></div></foreignObject></g></g><g class=\"members-group text\" transform=\"translate(-125.40234375, -72)\"><g class=\"label\" style=\"\" transform=\"translate(0,-12)\"><foreignObject width=\"97.390625\" height=\"24\"><div xmlns=\"http://www.w3.org/1999/xhtml\" style=\"display: table-cell; white-space: nowrap; line-height: 1.5; max-width: 143px; text-align: center;\"><span class=\"nodeLabel markdown-node-label\" style=\"\"><p>+name: string</p></span></div></foreignObject></g><g class=\"label\" style=\"\" transform=\"translate(0,12)\"><foreignObject width=\"61.828125\" height=\"24\"><div xmlns=\"http://www.w3.org/1999/xhtml\" style=\"display: table-cell; white-space: nowrap; line-height: 1.5; max-width: 112px; text-align: center;\"><span class=\"nodeLabel markdown-node-label\" style=\"\"><p>+age: int</p></span></div></foreignObject></g><g class=\"label\" style=\"\" transform=\"translate(0,36)\"><foreignObject width=\"149.875\" height=\"24\"><div xmlns=\"http://www.w3.org/1999/xhtml\" style=\"display: table-cell; white-space: nowrap; line-height: 1.5; max-width: 195px; text-align: center;\"><span class=\"nodeLabel markdown-node-label\" style=\"\"><p>+favorite_food: string</p></span></div></foreignObject></g><g class=\"label\" style=\"\" transform=\"translate(0,60)\"><foreignObject width=\"84.0625\" height=\"24\"><div xmlns=\"http://www.w3.org/1999/xhtml\" style=\"display: table-cell; white-space: nowrap; line-height: 1.5; max-width: 133px; text-align: center;\"><span class=\"nodeLabel markdown-node-label\" style=\"\"><p>+energy: int</p></span></div></foreignObject></g></g><g class=\"methods-group text\" transform=\"translate(-125.40234375, 48)\"><g class=\"label\" style=\"\" transform=\"translate(0,-12)\"><foreignObject width=\"221.015625\" height=\"24\"><div xmlns=\"http://www.w3.org/1999/xhtml\" style=\"display: table-cell; white-space: nowrap; line-height: 1.5; max-width: 287px; text-align: center;\"><span class=\"nodeLabel markdown-node-label\" style=\"\"><p>+<strong>init</strong>(name, age, favorite_food)</p></span></div></foreignObject></g><g class=\"label\" style=\"\" transform=\"translate(0,12)\"><foreignObject width=\"100.9375\" height=\"24\"><div xmlns=\"http://www.w3.org/1999/xhtml\" style=\"display: table-cell; white-space: nowrap; line-height: 1.5; max-width: 151px; text-align: center;\"><span class=\"nodeLabel markdown-node-label\" style=\"\"><p>+climb(height)</p></span></div></foreignObject></g><g class=\"label\" style=\"\" transform=\"translate(0,36)\"><foreignObject width=\"73.390625\" height=\"24\"><div xmlns=\"http://www.w3.org/1999/xhtml\" style=\"display: table-cell; white-space: nowrap; line-height: 1.5; max-width: 122px; text-align: center;\"><span class=\"nodeLabel markdown-node-label\" style=\"\"><p>+eat(food)</p></span></div></foreignObject></g><g class=\"label\" style=\"\" transform=\"translate(0,60)\"><foreignObject width=\"111.625\" height=\"24\"><div xmlns=\"http://www.w3.org/1999/xhtml\" style=\"display: table-cell; white-space: nowrap; line-height: 1.5; max-width: 155px; text-align: center;\"><span class=\"nodeLabel markdown-node-label\" style=\"\"><p>+make_sound()</p></span></div></foreignObject></g></g><g class=\"divider\" style=\"\"><path d=\"M-137.40234375 -96 C-29.451975803030436 -96, 78.49839214393913 -96, 137.40234375 -96 M-137.40234375 -96 C-46.840754394230544 -96, 43.72083496153891 -96, 137.40234375 -96\" stroke=\"#9370DB\" stroke-width=\"1.3\" fill=\"none\" style=\"\"/></g><g class=\"divider\" style=\"\"><path d=\"M-137.40234375 24 C-56.37237995956099 24, 24.657583830878025 24, 137.40234375 24 M-137.40234375 24 C-54.72854526037298 24, 27.945253229254035 24, 137.40234375 24\" stroke=\"#9370DB\" stroke-width=\"1.3\" fill=\"none\" style=\"\"/></g></g><g class=\"node undefined \" id=\"note0\" transform=\"translate(275.046875, 26)\"><g class=\"basic label-container\"><path d=\"M-267.046875 -18 L267.046875 -18 L267.046875 18 L-267.046875 18\" stroke=\"none\" stroke-width=\"0\" fill=\"#fff5ad\" style=\"fill:#fff5ad !important;stroke:#aaaa33 !important\"/><path d=\"M-267.046875 -18 C-70.26013205542122 -18, 126.52661088915755 -18, 267.046875 -18 M-267.046875 -18 C-122.67670891147674 -18, 21.693457177046525 -18, 267.046875 -18 M267.046875 -18 C267.046875 -10.603427615791826, 267.046875 -3.2068552315836545, 267.046875 18 M267.046875 -18 C267.046875 -5.134161040192694, 267.046875 7.7316779196146115, 267.046875 18 M267.046875 18 C132.10566915197353 18, -2.835536696052941 18, -267.046875 18 M267.046875 18 C131.47800804893373 18, -4.090858902132538 18, -267.046875 18 M-267.046875 18 C-267.046875 6.840314986752249, -267.046875 -4.319370026495502, -267.046875 -18 M-267.046875 18 C-267.046875 7.470569966903161, -267.046875 -3.0588600661936773, -267.046875 -18\" stroke=\"#aaaa33\" stroke-width=\"1.3\" fill=\"none\" style=\"fill:#fff5ad !important;stroke:#aaaa33 !important\"/></g><g class=\"label\" style=\"text-align:left !important;white-space:nowrap !important\" transform=\"translate(-261.046875, -12)\"><rect/><foreignObject width=\"522.09375\" height=\"24\"><div style=\"text-align: center; white-space: break-spaces; display: table; line-height: 1.5; max-width: 200px; width: 200px;\" xmlns=\"http://www.w3.org/1999/xhtml\"><span style=\"text-align:left !important;white-space:nowrap !important\" class=\"nodeLabel \"><p>The energy attribute decreases when climbing and increases when eating</p></span></div></foreignObject></g></g></g></g></g></svg>"
            ]
          },
          "metadata": {}
        }
      ]
    },
    {
      "cell_type": "markdown",
      "source": [
        "# Constructors: Setting Up New Animals When They Join Our Zoo\n",
        "\n",
        "When a new animal arrives at a real zoo, zookeepers need to set up its habitat, create identification records, and establish a feeding schedule. Similarly, when we create a new object in our virtual zoo, we need to initialize its attributes with starting values. This initialization is handled by a special method called a **constructor**.\n",
        "\n",
        "The **constructor** is a special method that is automatically called when a new object is created and is responsible for setting up the initial state of the object.\n",
        "\n",
        "In Python, the constructor is defined with the special name `__init__` (pronounced \"dunder init\" - short for \"double underscore init\"):"
      ],
      "metadata": {
        "id": "d4NuqaNGY3jH"
      }
    },
    {
      "cell_type": "code",
      "source": [
        "class Tiger:\n",
        "    def __init__(self, name, age, stripe_pattern=\"standard\"):\n",
        "        \"\"\"\n",
        "        Initialize a new Tiger object\n",
        "        This is the constructor method\n",
        "        \"\"\"\n",
        "        self.name = name\n",
        "        self.age = age\n",
        "        self.stripe_pattern = stripe_pattern\n",
        "        self.health = 100  # Default value\n",
        "        self.hunger = 0    # Default value\n",
        "        print(f\"A new tiger named {self.name} has joined the zoo!\")"
      ],
      "metadata": {
        "id": "v3MoDlzHY5K9"
      },
      "execution_count": null,
      "outputs": []
    },
    {
      "cell_type": "markdown",
      "source": [
        "Key functions of constructors:\n",
        "* They set initial values for the object's attributes\n",
        "* They can perform any startup tasks needed before the object is used\n",
        "* They can validate input data to ensure the object is created correctly\n",
        "* They ensure the object is in a usable state from the moment it's created\n",
        "\n",
        "Here's how the constructor is called when we create tiger objects:\n"
      ],
      "metadata": {
        "id": "GE7wXMGKYWbH"
      }
    },
    {
      "cell_type": "code",
      "source": [
        "# The __init__ method is called automatically when we create new objects\n",
        "tony = Tiger(\"Tony\", 5, \"bold\")\n",
        "raja = Tiger(\"Raja\", 3)\n",
        "\n",
        "# Now our tiger objects are ready to use with their attributes initialized\n",
        "print(f\"{tony.name} is {tony.age} years old with {tony.stripe_pattern} stripes\")\n",
        "print(f\"{raja.name} has a health level of {raja.health}\")"
      ],
      "metadata": {
        "colab": {
          "base_uri": "https://localhost:8080/"
        },
        "id": "Yrc1AtIUY-d8",
        "outputId": "c25a7c26-3e30-445c-f476-c9f7670d518b"
      },
      "execution_count": null,
      "outputs": [
        {
          "output_type": "stream",
          "name": "stdout",
          "text": [
            "A new tiger named Tony has joined the zoo!\n",
            "A new tiger named Raja has joined the zoo!\n",
            "Tony is 5 years old with bold stripes\n",
            "Raja has a health level of 100\n"
          ]
        }
      ]
    },
    {
      "cell_type": "markdown",
      "source": [
        "Here's the step-by-step process:\n",
        "\n",
        "1.  `Tiger(\"Tony\", 5, \"bold\")` triggers the `__init__` method\n",
        "2.  Python passes: self (the new object), \"Tony\", 5, and \"bold\"\n",
        "3.  The constructor sets all attributes, including defaults like `health = 100`\n",
        "4.  For `raja`, we omit the stripe_pattern, so it uses the default \"standard\"\n",
        "5.  The print statement inside `__init__` runs immediately when each tiger is created"
      ],
      "metadata": {
        "id": "ZBa90XPEWYKz"
      }
    },
    {
      "cell_type": "markdown",
      "source": [
        "| Parameter | Purpose | Example |\n",
        "|-----------|---------|---------|\n",
        "| Required | Essential for creating the object | `name`, `age` |\n",
        "| Optional | Can have default values | `stripe_pattern=\"standard\"` |\n",
        "| Self-assigned | Set by the constructor, not passed in | `health=100`, `hunger=0` |\n",
        "\n",
        "Important things to know about constructors:\n",
        "* The `self` parameter refers to the object being created\n",
        "* Constructors don't return values (Python ignores any return value)\n",
        "* If you don't define a constructor, Python provides a default one that does nothing\n",
        "* You can have only one `__init__` method per class\n",
        "\n",
        "A well-designed constructor makes it easy to create objects with appropriate initial values, helping ensure that your objects behave correctly from the start."
      ],
      "metadata": {
        "id": "q8XfrCwAZGGS"
      }
    },
    {
      "cell_type": "markdown",
      "source": [
        "# Encapsulation: Protecting Our Animals' Private Information\n",
        "\n",
        "In real zoos, some information about animals is kept private for their protection—like their exact medical histories or security measures for endangered species. Similarly, in OOP, we often want to protect certain data from being directly accessed or modified. **Encapsulation** is the concept of bundling data with the methods that operate on that data, and controlling access to that data.\n",
        "\n",
        "**Encapsulation** is an OOP principle that combines data and methods within a class while restricting direct access to some of the object's components.\n",
        "\n",
        "Benefits of encapsulation include:\n",
        "* It helps prevent code from outside the class from accidentally changing object state\n",
        "* It lets you enforce validation rules when attributes are modified\n",
        "* It allows you to change the internal implementation without affecting code that uses the class\n",
        "* It reduces complexity by hiding internal details from other parts of the program\n",
        "\n",
        "In Python, encapsulation is implemented using naming conventions and property methods:\n"
      ],
      "metadata": {
        "id": "Njbw-L-LZZyl"
      }
    },
    {
      "cell_type": "code",
      "source": [
        "class Giraffe:\n",
        "    def __init__(self, name, age, height):\n",
        "        self.name = name      # Public attribute - accessible anywhere\n",
        "        self._age = age       # Protected attribute - suggests \"don't access directly\"\n",
        "        self.__height = height  # Private attribute - harder to access directly\n",
        "\n",
        "    # Getter method (accessor)\n",
        "    def get_height(self):\n",
        "        return self.__height\n",
        "\n",
        "    # Setter method (mutator) with validation\n",
        "    def set_height(self, new_height):\n",
        "        if new_height > 0:\n",
        "            self.__height = new_height\n",
        "        else:\n",
        "            print(\"Height must be positive!\")"
      ],
      "metadata": {
        "id": "sJ2x179lZc8E"
      },
      "execution_count": null,
      "outputs": []
    },
    {
      "cell_type": "markdown",
      "source": [
        "Let's see encapsulation in action:"
      ],
      "metadata": {
        "id": "mVaXz_8naIkt"
      }
    },
    {
      "cell_type": "code",
      "source": [
        "# Create a giraffe\n",
        "gerald = Giraffe(\"Gerald\", 7, 18.5)  # Height in feet\n",
        "\n",
        "# Using getters and setters\n",
        "print(f\"Gerald's height is {gerald.get_height()} feet\")\n",
        "gerald.set_height(19.2)  # Growth spurt\n",
        "print(f\"Gerald's new height is {gerald.get_height()} feet\")\n",
        "gerald.set_height(-5)  # This will be rejected"
      ],
      "metadata": {
        "colab": {
          "base_uri": "https://localhost:8080/"
        },
        "id": "amEwZQ2UaKee",
        "outputId": "2a80ee75-8b65-44fe-d0db-79c14fe1c6b7"
      },
      "execution_count": null,
      "outputs": [
        {
          "output_type": "stream",
          "name": "stdout",
          "text": [
            "Gerald's height is 18.5 feet\n",
            "Gerald's new height is 19.2 feet\n",
            "Height must be positive!\n"
          ]
        }
      ]
    },
    {
      "cell_type": "markdown",
      "source": [
        "\n",
        "In Python, encapsulation is primarily implemented through conventions:\n",
        "* Names with no underscore (like `name`) are considered public\n",
        "* Names with one underscore (like `_age`) are considered protected (a suggestion)\n",
        "* Names with two underscores (like `__height`) are name-mangled to make them harder to access directly\n",
        "\n",
        "The Python philosophy is often described as \"we're all consenting adults here,\" meaning it relies more on conventions and documentation than strict enforcement of access control. However, following these conventions helps make your code more maintainable and less prone to errors."
      ],
      "metadata": {
        "id": "GOD0pyMDaNAh"
      }
    },
    {
      "cell_type": "code",
      "source": [
        "# @title\n",
        "mm(\"\"\"\n",
        "classDiagram\n",
        "    class Giraffe {\n",
        "        +name: string\n",
        "        #_age: int\n",
        "        -__height: float\n",
        "        +__init__(name, age, height)\n",
        "        +get_height()\n",
        "        +set_height(new_height)\n",
        "        +age property getter\n",
        "        +age property setter\n",
        "    }\n",
        "\n",
        "    note for Giraffe \"Public (+), Protected (#), Private (-)\"\n",
        "\"\"\")"
      ],
      "metadata": {
        "colab": {
          "base_uri": "https://localhost:8080/",
          "height": 411
        },
        "cellView": "form",
        "id": "wm3BfmjuaQj_",
        "outputId": "095ec2f1-a39c-4716-ca3e-afa6e7a55ecb"
      },
      "execution_count": null,
      "outputs": [
        {
          "output_type": "display_data",
          "data": {
            "text/plain": [
              "<IPython.core.display.HTML object>"
            ],
            "text/html": [
              "<svg id=\"mermaid-svg\" width=\"100%\" xmlns=\"http://www.w3.org/2000/svg\" class=\"classDiagram\" style=\"max-width: 276.515625px;\" viewBox=\"0 0 276.515625 390\" role=\"graphics-document document\" aria-roledescription=\"class\" xmlns:xlink=\"http://www.w3.org/1999/xlink\"><style xmlns=\"http://www.w3.org/1999/xhtml\">@import url(\"https://cdnjs.cloudflare.com/ajax/libs/font-awesome/6.7.2/css/all.min.css\");</style><style>#mermaid-svg{font-family:\"trebuchet ms\",verdana,arial,sans-serif;font-size:16px;fill:#333;}@keyframes edge-animation-frame{from{stroke-dashoffset:0;}}@keyframes dash{to{stroke-dashoffset:0;}}#mermaid-svg .edge-animation-slow{stroke-dasharray:9,5!important;stroke-dashoffset:900;animation:dash 50s linear infinite;stroke-linecap:round;}#mermaid-svg .edge-animation-fast{stroke-dasharray:9,5!important;stroke-dashoffset:900;animation:dash 20s linear infinite;stroke-linecap:round;}#mermaid-svg .error-icon{fill:#552222;}#mermaid-svg .error-text{fill:#552222;stroke:#552222;}#mermaid-svg .edge-thickness-normal{stroke-width:1px;}#mermaid-svg .edge-thickness-thick{stroke-width:3.5px;}#mermaid-svg .edge-pattern-solid{stroke-dasharray:0;}#mermaid-svg .edge-thickness-invisible{stroke-width:0;fill:none;}#mermaid-svg .edge-pattern-dashed{stroke-dasharray:3;}#mermaid-svg .edge-pattern-dotted{stroke-dasharray:2;}#mermaid-svg .marker{fill:#333333;stroke:#333333;}#mermaid-svg .marker.cross{stroke:#333333;}#mermaid-svg svg{font-family:\"trebuchet ms\",verdana,arial,sans-serif;font-size:16px;}#mermaid-svg p{margin:0;}#mermaid-svg g.classGroup text{fill:#9370DB;stroke:none;font-family:\"trebuchet ms\",verdana,arial,sans-serif;font-size:10px;}#mermaid-svg g.classGroup text .title{font-weight:bolder;}#mermaid-svg .nodeLabel,#mermaid-svg .edgeLabel{color:#131300;}#mermaid-svg .edgeLabel .label rect{fill:#ECECFF;}#mermaid-svg .label text{fill:#131300;}#mermaid-svg .labelBkg{background:#ECECFF;}#mermaid-svg .edgeLabel .label span{background:#ECECFF;}#mermaid-svg .classTitle{font-weight:bolder;}#mermaid-svg .node rect,#mermaid-svg .node circle,#mermaid-svg .node ellipse,#mermaid-svg .node polygon,#mermaid-svg .node path{fill:#ECECFF;stroke:#9370DB;stroke-width:1px;}#mermaid-svg .divider{stroke:#9370DB;stroke-width:1;}#mermaid-svg g.clickable{cursor:pointer;}#mermaid-svg g.classGroup rect{fill:#ECECFF;stroke:#9370DB;}#mermaid-svg g.classGroup line{stroke:#9370DB;stroke-width:1;}#mermaid-svg .classLabel .box{stroke:none;stroke-width:0;fill:#ECECFF;opacity:0.5;}#mermaid-svg .classLabel .label{fill:#9370DB;font-size:10px;}#mermaid-svg .relation{stroke:#333333;stroke-width:1;fill:none;}#mermaid-svg .dashed-line{stroke-dasharray:3;}#mermaid-svg .dotted-line{stroke-dasharray:1 2;}#mermaid-svg #compositionStart,#mermaid-svg .composition{fill:#333333!important;stroke:#333333!important;stroke-width:1;}#mermaid-svg #compositionEnd,#mermaid-svg .composition{fill:#333333!important;stroke:#333333!important;stroke-width:1;}#mermaid-svg #dependencyStart,#mermaid-svg .dependency{fill:#333333!important;stroke:#333333!important;stroke-width:1;}#mermaid-svg #dependencyStart,#mermaid-svg .dependency{fill:#333333!important;stroke:#333333!important;stroke-width:1;}#mermaid-svg #extensionStart,#mermaid-svg .extension{fill:transparent!important;stroke:#333333!important;stroke-width:1;}#mermaid-svg #extensionEnd,#mermaid-svg .extension{fill:transparent!important;stroke:#333333!important;stroke-width:1;}#mermaid-svg #aggregationStart,#mermaid-svg .aggregation{fill:transparent!important;stroke:#333333!important;stroke-width:1;}#mermaid-svg #aggregationEnd,#mermaid-svg .aggregation{fill:transparent!important;stroke:#333333!important;stroke-width:1;}#mermaid-svg #lollipopStart,#mermaid-svg .lollipop{fill:#ECECFF!important;stroke:#333333!important;stroke-width:1;}#mermaid-svg #lollipopEnd,#mermaid-svg .lollipop{fill:#ECECFF!important;stroke:#333333!important;stroke-width:1;}#mermaid-svg .edgeTerminals{font-size:11px;line-height:initial;}#mermaid-svg .classTitleText{text-anchor:middle;font-size:18px;fill:#333;}#mermaid-svg :root{--mermaid-font-family:\"trebuchet ms\",verdana,arial,sans-serif;}</style><g><defs><marker id=\"mermaid-svg_class-aggregationStart\" class=\"marker aggregation class\" refX=\"18\" refY=\"7\" markerWidth=\"190\" markerHeight=\"240\" orient=\"auto\"><path d=\"M 18,7 L9,13 L1,7 L9,1 Z\"/></marker></defs><defs><marker id=\"mermaid-svg_class-aggregationEnd\" class=\"marker aggregation class\" refX=\"1\" refY=\"7\" markerWidth=\"20\" markerHeight=\"28\" orient=\"auto\"><path d=\"M 18,7 L9,13 L1,7 L9,1 Z\"/></marker></defs><defs><marker id=\"mermaid-svg_class-extensionStart\" class=\"marker extension class\" refX=\"18\" refY=\"7\" markerWidth=\"190\" markerHeight=\"240\" orient=\"auto\"><path d=\"M 1,7 L18,13 V 1 Z\"/></marker></defs><defs><marker id=\"mermaid-svg_class-extensionEnd\" class=\"marker extension class\" refX=\"1\" refY=\"7\" markerWidth=\"20\" markerHeight=\"28\" orient=\"auto\"><path d=\"M 1,1 V 13 L18,7 Z\"/></marker></defs><defs><marker id=\"mermaid-svg_class-compositionStart\" class=\"marker composition class\" refX=\"18\" refY=\"7\" markerWidth=\"190\" markerHeight=\"240\" orient=\"auto\"><path d=\"M 18,7 L9,13 L1,7 L9,1 Z\"/></marker></defs><defs><marker id=\"mermaid-svg_class-compositionEnd\" class=\"marker composition class\" refX=\"1\" refY=\"7\" markerWidth=\"20\" markerHeight=\"28\" orient=\"auto\"><path d=\"M 18,7 L9,13 L1,7 L9,1 Z\"/></marker></defs><defs><marker id=\"mermaid-svg_class-dependencyStart\" class=\"marker dependency class\" refX=\"6\" refY=\"7\" markerWidth=\"190\" markerHeight=\"240\" orient=\"auto\"><path d=\"M 5,7 L9,13 L1,7 L9,1 Z\"/></marker></defs><defs><marker id=\"mermaid-svg_class-dependencyEnd\" class=\"marker dependency class\" refX=\"13\" refY=\"7\" markerWidth=\"20\" markerHeight=\"28\" orient=\"auto\"><path d=\"M 18,7 L9,13 L14,7 L9,1 Z\"/></marker></defs><defs><marker id=\"mermaid-svg_class-lollipopStart\" class=\"marker lollipop class\" refX=\"13\" refY=\"7\" markerWidth=\"190\" markerHeight=\"240\" orient=\"auto\"><circle stroke=\"black\" fill=\"transparent\" cx=\"7\" cy=\"7\" r=\"6\"/></marker></defs><defs><marker id=\"mermaid-svg_class-lollipopEnd\" class=\"marker lollipop class\" refX=\"1\" refY=\"7\" markerWidth=\"190\" markerHeight=\"240\" orient=\"auto\"><circle stroke=\"black\" fill=\"transparent\" cx=\"7\" cy=\"7\" r=\"6\"/></marker></defs><g class=\"root\"><g class=\"clusters\"/><g class=\"edgePaths\"><path d=\"M138.258,44L138.258,48.167C138.258,52.333,138.258,60.667,138.258,69C138.258,77.333,138.258,85.667,138.258,89.833L138.258,94\" id=\"edgeNote1\" class=\" edge-thickness-normal edge-pattern-dotted relation\" style=\"fill: none;\"/></g><g class=\"edgeLabels\"><g class=\"edgeLabel\"><g class=\"label\" transform=\"translate(0, 0)\"><foreignObject width=\"0\" height=\"0\"><div style=\"display: table-cell; white-space: nowrap; line-height: 1.5; max-width: 200px; text-align: center;\" xmlns=\"http://www.w3.org/1999/xhtml\" class=\"labelBkg\"><span style=\";\" class=\"edgeLabel \"></span></div></foreignObject></g></g></g><g class=\"nodes\"><g class=\"node default \" id=\"classId-Giraffe-0\" transform=\"translate(138.2578125, 238)\"><g class=\"basic label-container\"><path d=\"M-112.73828125 -144 L112.73828125 -144 L112.73828125 144 L-112.73828125 144\" stroke=\"none\" stroke-width=\"0\" fill=\"#ECECFF\" style=\"\"/><path d=\"M-112.73828125 -144 C-42.408080809153915 -144, 27.92211963169217 -144, 112.73828125 -144 M-112.73828125 -144 C-24.775224167789005 -144, 63.18783291442199 -144, 112.73828125 -144 M112.73828125 -144 C112.73828125 -78.97447662677499, 112.73828125 -13.948953253549973, 112.73828125 144 M112.73828125 -144 C112.73828125 -73.05355162288988, 112.73828125 -2.1071032457797685, 112.73828125 144 M112.73828125 144 C26.227345220400295 144, -60.28359080919941 144, -112.73828125 144 M112.73828125 144 C24.61810484421453 144, -63.50207156157094 144, -112.73828125 144 M-112.73828125 144 C-112.73828125 35.57563825667688, -112.73828125 -72.84872348664624, -112.73828125 -144 M-112.73828125 144 C-112.73828125 56.13783884792609, -112.73828125 -31.72432230414782, -112.73828125 -144\" stroke=\"#9370DB\" stroke-width=\"1.3\" fill=\"none\" style=\"\"/></g><g class=\"annotation-group text\" transform=\"translate(0, -120)\"/><g class=\"label-group text\" transform=\"translate(-25.7890625, -120)\"><g class=\"label\" style=\"font-weight: bolder\" transform=\"translate(0,-12)\"><foreignObject width=\"51.578125\" height=\"24\"><div xmlns=\"http://www.w3.org/1999/xhtml\" style=\"display: table-cell; white-space: nowrap; line-height: 1.5; max-width: 96px; text-align: center;\"><span class=\"nodeLabel markdown-node-label\" style=\"\"><p>Giraffe</p></span></div></foreignObject></g></g><g class=\"members-group text\" transform=\"translate(-100.73828125, -72)\"><g class=\"label\" style=\"\" transform=\"translate(0,-12)\"><foreignObject width=\"97.390625\" height=\"24\"><div xmlns=\"http://www.w3.org/1999/xhtml\" style=\"display: table-cell; white-space: nowrap; line-height: 1.5; max-width: 143px; text-align: center;\"><span class=\"nodeLabel markdown-node-label\" style=\"\"><p>+name: string</p></span></div></foreignObject></g><g class=\"label\" style=\"\" transform=\"translate(0,12)\"><foreignObject width=\"70.28125\" height=\"24\"><div xmlns=\"http://www.w3.org/1999/xhtml\" style=\"display: table-cell; white-space: nowrap; line-height: 1.5; max-width: 119px; text-align: center;\"><span class=\"nodeLabel markdown-node-label\" style=\"\"><p>#_age: int</p></span></div></foreignObject></g><g class=\"label\" style=\"\" transform=\"translate(0,36)\"><foreignObject width=\"105.859375\" height=\"24\"><div xmlns=\"http://www.w3.org/1999/xhtml\" style=\"display: table-cell; white-space: nowrap; line-height: 1.5; max-width: 154px; text-align: center;\"><span class=\"nodeLabel markdown-node-label\" style=\"\"><p>-__height: float</p></span></div></foreignObject></g><g class=\"label\" style=\"\" transform=\"translate(0,60)\"><foreignObject width=\"144.546875\" height=\"24\"><div xmlns=\"http://www.w3.org/1999/xhtml\" style=\"display: table-cell; white-space: nowrap; line-height: 1.5; max-width: 185px; text-align: center;\"><span class=\"nodeLabel markdown-node-label\" style=\"\"><p>+age property getter</p></span></div></foreignObject></g><g class=\"label\" style=\"\" transform=\"translate(0,84)\"><foreignObject width=\"143.640625\" height=\"24\"><div xmlns=\"http://www.w3.org/1999/xhtml\" style=\"display: table-cell; white-space: nowrap; line-height: 1.5; max-width: 183px; text-align: center;\"><span class=\"nodeLabel markdown-node-label\" style=\"\"><p>+age property setter</p></span></div></foreignObject></g></g><g class=\"methods-group text\" transform=\"translate(-100.73828125, 72)\"><g class=\"label\" style=\"\" transform=\"translate(0,-12)\"><foreignObject width=\"172.09375\" height=\"24\"><div xmlns=\"http://www.w3.org/1999/xhtml\" style=\"display: table-cell; white-space: nowrap; line-height: 1.5; max-width: 240px; text-align: center;\"><span class=\"nodeLabel markdown-node-label\" style=\"\"><p>+<strong>init</strong>(name, age, height)</p></span></div></foreignObject></g><g class=\"label\" style=\"\" transform=\"translate(0,12)\"><foreignObject width=\"94.734375\" height=\"24\"><div xmlns=\"http://www.w3.org/1999/xhtml\" style=\"display: table-cell; white-space: nowrap; line-height: 1.5; max-width: 142px; text-align: center;\"><span class=\"nodeLabel markdown-node-label\" style=\"\"><p>+get_height()</p></span></div></foreignObject></g><g class=\"label\" style=\"\" transform=\"translate(0,36)\"><foreignObject width=\"175.6875\" height=\"24\"><div xmlns=\"http://www.w3.org/1999/xhtml\" style=\"display: table-cell; white-space: nowrap; line-height: 1.5; max-width: 215px; text-align: center;\"><span class=\"nodeLabel markdown-node-label\" style=\"\"><p>+set_height(new_height)</p></span></div></foreignObject></g></g><g class=\"divider\" style=\"\"><path d=\"M-112.73828125 -96 C-26.30326706128139 -96, 60.13174712743722 -96, 112.73828125 -96 M-112.73828125 -96 C-49.1045016250593 -96, 14.529277999881401 -96, 112.73828125 -96\" stroke=\"#9370DB\" stroke-width=\"1.3\" fill=\"none\" style=\"\"/></g><g class=\"divider\" style=\"\"><path d=\"M-112.73828125 48 C-38.034520540810576 48, 36.66924016837885 48, 112.73828125 48 M-112.73828125 48 C-49.554750377457935 48, 13.62878049508413 48, 112.73828125 48\" stroke=\"#9370DB\" stroke-width=\"1.3\" fill=\"none\" style=\"\"/></g></g><g class=\"node undefined \" id=\"note0\" transform=\"translate(138.2578125, 26)\"><g class=\"basic label-container\"><path d=\"M-130.2578125 -18 L130.2578125 -18 L130.2578125 18 L-130.2578125 18\" stroke=\"none\" stroke-width=\"0\" fill=\"#fff5ad\" style=\"fill:#fff5ad !important;stroke:#aaaa33 !important\"/><path d=\"M-130.2578125 -18 C-28.844576438371448 -18, 72.5686596232571 -18, 130.2578125 -18 M-130.2578125 -18 C-48.083991784194396 -18, 34.08982893161121 -18, 130.2578125 -18 M130.2578125 -18 C130.2578125 -9.753931838481153, 130.2578125 -1.5078636769623053, 130.2578125 18 M130.2578125 -18 C130.2578125 -10.503190694133954, 130.2578125 -3.006381388267908, 130.2578125 18 M130.2578125 18 C69.97217635069237 18, 9.68654020138473 18, -130.2578125 18 M130.2578125 18 C56.68038969717054 18, -16.89703310565892 18, -130.2578125 18 M-130.2578125 18 C-130.2578125 9.757127249429052, -130.2578125 1.5142544988581044, -130.2578125 -18 M-130.2578125 18 C-130.2578125 10.324951367349177, -130.2578125 2.6499027346983546, -130.2578125 -18\" stroke=\"#aaaa33\" stroke-width=\"1.3\" fill=\"none\" style=\"fill:#fff5ad !important;stroke:#aaaa33 !important\"/></g><g class=\"label\" style=\"text-align:left !important;white-space:nowrap !important\" transform=\"translate(-124.2578125, -12)\"><rect/><foreignObject width=\"248.515625\" height=\"24\"><div style=\"text-align: center; white-space: break-spaces; display: table; line-height: 1.5; max-width: 200px; width: 200px;\" xmlns=\"http://www.w3.org/1999/xhtml\"><span style=\"text-align:left !important;white-space:nowrap !important\" class=\"nodeLabel \"><p>Public (+), Protected (#), Private (-)</p></span></div></foreignObject></g></g></g></g></g></svg>"
            ]
          },
          "metadata": {}
        }
      ]
    },
    {
      "cell_type": "markdown",
      "source": [
        "# Inheritance: How Baby Animals Inherit Traits from Parent Classes\n",
        "\n",
        "In nature, animals inherit characteristics from their parents—lions pass on their roars, birds pass on their ability to fly. Similarly, in OOP, we can create new classes that inherit attributes and methods from existing classes. This powerful concept called **inheritance** allows us to reuse code and represent real-world relationships in our programs.\n",
        "\n",
        "**Inheritance** is an OOP principle where a new class (subclass) can be based on an existing class (superclass), inheriting its attributes and methods.\n",
        "\n",
        "Key benefits of inheritance include:\n",
        "* Code reuse - write common code once in a parent class instead of repeating it\n",
        "* Logical organization - represent natural hierarchies (like animal classifications)\n",
        "* Extensibility - easily add specialized versions of existing classes\n",
        "* Maintainability - fix bugs or make changes in one place that affect all related classes\n",
        "\n",
        "Let's see how inheritance works by creating an animal hierarchy for our zoo:"
      ],
      "metadata": {
        "id": "0WgRvjEhbFnU"
      }
    },
    {
      "cell_type": "code",
      "source": [
        "# Parent class (superclass)\n",
        "class Animal:\n",
        "    def __init__(self, name, age, species):\n",
        "        self.name = name\n",
        "        self.age = age\n",
        "        self.species = species\n",
        "        self.health = 100\n",
        "\n",
        "    def make_sound(self):\n",
        "        return \"Some generic animal sound\"\n",
        "\n",
        "    def eat(self, food):\n",
        "        self.health += 10\n",
        "        if self.health > 100:\n",
        "            self.health = 100\n",
        "        return f\"{self.name} eats {food} and now has {self.health} health.\"\n",
        "\n",
        "# Child class (subclass) inheriting from Animal\n",
        "class Feline(Animal):\n",
        "    def __init__(self, name, age, species, fur_pattern):\n",
        "        # Call the parent class's constructor first\n",
        "        super().__init__(name, age, species)\n",
        "        # Add feline-specific attributes\n",
        "        self.fur_pattern = fur_pattern\n",
        "\n",
        "    def purr(self):\n",
        "        return f\"{self.name} purrs contentedly\"\n",
        "\n",
        "    # Override the parent's method with a specialized version\n",
        "    def make_sound(self):\n",
        "        return f\"{self.name} makes feline noises\"\n",
        "\n",
        "# Another child class inheriting from Feline (multilevel inheritance)\n",
        "class Lion(Feline):\n",
        "    def __init__(self, name, age, mane_size=\"medium\"):\n",
        "        # Call the parent (Feline) constructor\n",
        "        super().__init__(name, age, \"Panthera leo\", \"tawny\")\n",
        "        self.mane_size = mane_size\n",
        "\n",
        "    # Override the make_sound method again\n",
        "    def make_sound(self):\n",
        "        return f\"{self.name} ROARS loudly!\"\n"
      ],
      "metadata": {
        "id": "eLgA6lGkbK8J"
      },
      "execution_count": null,
      "outputs": []
    },
    {
      "cell_type": "markdown",
      "source": [
        "Now, let's use our inheritance heirachy:"
      ],
      "metadata": {
        "id": "d0Gx-GCfbONk"
      }
    },
    {
      "cell_type": "code",
      "source": [
        "# Create objects from different levels of the hierarchy\n",
        "generic_animal = Animal(\"Generic\", 5, \"Unknown\")\n",
        "tiger = Feline(\"Tigger\", 7, \"Panthera tigris\", \"striped\")\n",
        "simba = Lion(\"Simba\", 3, \"large\")"
      ],
      "metadata": {
        "id": "79NFTJZCbQ3I"
      },
      "execution_count": null,
      "outputs": []
    },
    {
      "cell_type": "markdown",
      "source": [
        "When we create `simba = Lion(\"Simba\", 3, \"large\")`:\n",
        "\n",
        "1.  Python calls Lion's `__init__` method\n",
        "2.  `super().__init__()` calls Feline's `__init__` with the appropriate arguments\n",
        "3.  Feline's `super().__init__()` then calls Animal's `__init__`\n",
        "4.  Each constructor adds its layer of attributes, building up the complete object\n",
        "5.  The result: simba has attributes from Animal (name, age, species, health), Feline (fur_pattern), and Lion (mane_size)"
      ],
      "metadata": {
        "id": "PqQ7-EGZWm_w"
      }
    },
    {
      "cell_type": "code",
      "source": [
        "# Each object has access to methods from its class and all parent classes\n",
        "print(generic_animal.make_sound())  # Output: Some generic animal sound\n",
        "print(tiger.make_sound())  # Output: Tigger makes feline noises\n",
        "print(simba.make_sound())  # Output: Simba ROARS loudly!\n",
        "\n",
        "# Child classes can use methods from parent classes\n",
        "print(simba.eat(\"gazelle\"))  # Output: Simba eats gazelle and now has 100 health.\n",
        "\n",
        "# But parent classes can't use methods from child classes\n",
        "# This would cause an error: generic_animal.purr()"
      ],
      "metadata": {
        "id": "e-pRy6A3Wk9u"
      },
      "execution_count": null,
      "outputs": []
    },
    {
      "cell_type": "markdown",
      "source": [
        "| Inheritance Type | Description | Example |\n",
        "|------------------|-------------|---------|\n",
        "| Single | A class inherits from one parent | Feline inherits from Animal |\n",
        "| Multilevel | A class inherits from a child class | Lion inherits from Feline |\n",
        "| Multiple | A class inherits from more than one parent | Python supports this, not shown here |\n",
        "\n",
        "In Python, we can use the `super()` function to call methods from the parent class. This is especially important in the constructor to ensure that the parent's initialization code runs before adding any child-specific attributes."
      ],
      "metadata": {
        "id": "lR2BA34dbTVx"
      }
    },
    {
      "cell_type": "code",
      "source": [
        "# @title\n",
        "mm(\"\"\"\n",
        "classDiagram\n",
        "    Animal <|-- Feline\n",
        "    Feline <|-- Lion\n",
        "\n",
        "    class Animal {\n",
        "        +name: string\n",
        "        +age: int\n",
        "        +species: string\n",
        "        +health: int\n",
        "        +__init__(name, age, species)\n",
        "        +make_sound()\n",
        "        +eat(food)\n",
        "    }\n",
        "\n",
        "    class Feline {\n",
        "        +fur_pattern: string\n",
        "        +__init__(name, age, species, fur_pattern)\n",
        "        +purr()\n",
        "        +make_sound()\n",
        "    }\n",
        "\n",
        "    class Lion {\n",
        "        +mane_size: string\n",
        "        +__init__(name, age, mane_size)\n",
        "        +make_sound()\n",
        "    }\"\"\")"
      ],
      "metadata": {
        "colab": {
          "base_uri": "https://localhost:8080/",
          "height": 761
        },
        "cellView": "form",
        "id": "LCHltunUbppK",
        "outputId": "7eeff58f-e12e-4fc9-992c-0f31e1e9b024"
      },
      "execution_count": null,
      "outputs": [
        {
          "output_type": "display_data",
          "data": {
            "text/plain": [
              "<IPython.core.display.HTML object>"
            ],
            "text/html": [
              "<svg id=\"mermaid-svg\" width=\"100%\" xmlns=\"http://www.w3.org/2000/svg\" class=\"classDiagram\" style=\"max-width: 332.1484375px;\" viewBox=\"0 0 332.1484375 740\" role=\"graphics-document document\" aria-roledescription=\"class\" xmlns:xlink=\"http://www.w3.org/1999/xlink\"><style xmlns=\"http://www.w3.org/1999/xhtml\">@import url(\"https://cdnjs.cloudflare.com/ajax/libs/font-awesome/6.7.2/css/all.min.css\");</style><style>#mermaid-svg{font-family:\"trebuchet ms\",verdana,arial,sans-serif;font-size:16px;fill:#333;}@keyframes edge-animation-frame{from{stroke-dashoffset:0;}}@keyframes dash{to{stroke-dashoffset:0;}}#mermaid-svg .edge-animation-slow{stroke-dasharray:9,5!important;stroke-dashoffset:900;animation:dash 50s linear infinite;stroke-linecap:round;}#mermaid-svg .edge-animation-fast{stroke-dasharray:9,5!important;stroke-dashoffset:900;animation:dash 20s linear infinite;stroke-linecap:round;}#mermaid-svg .error-icon{fill:#552222;}#mermaid-svg .error-text{fill:#552222;stroke:#552222;}#mermaid-svg .edge-thickness-normal{stroke-width:1px;}#mermaid-svg .edge-thickness-thick{stroke-width:3.5px;}#mermaid-svg .edge-pattern-solid{stroke-dasharray:0;}#mermaid-svg .edge-thickness-invisible{stroke-width:0;fill:none;}#mermaid-svg .edge-pattern-dashed{stroke-dasharray:3;}#mermaid-svg .edge-pattern-dotted{stroke-dasharray:2;}#mermaid-svg .marker{fill:#333333;stroke:#333333;}#mermaid-svg .marker.cross{stroke:#333333;}#mermaid-svg svg{font-family:\"trebuchet ms\",verdana,arial,sans-serif;font-size:16px;}#mermaid-svg p{margin:0;}#mermaid-svg g.classGroup text{fill:#9370DB;stroke:none;font-family:\"trebuchet ms\",verdana,arial,sans-serif;font-size:10px;}#mermaid-svg g.classGroup text .title{font-weight:bolder;}#mermaid-svg .nodeLabel,#mermaid-svg .edgeLabel{color:#131300;}#mermaid-svg .edgeLabel .label rect{fill:#ECECFF;}#mermaid-svg .label text{fill:#131300;}#mermaid-svg .labelBkg{background:#ECECFF;}#mermaid-svg .edgeLabel .label span{background:#ECECFF;}#mermaid-svg .classTitle{font-weight:bolder;}#mermaid-svg .node rect,#mermaid-svg .node circle,#mermaid-svg .node ellipse,#mermaid-svg .node polygon,#mermaid-svg .node path{fill:#ECECFF;stroke:#9370DB;stroke-width:1px;}#mermaid-svg .divider{stroke:#9370DB;stroke-width:1;}#mermaid-svg g.clickable{cursor:pointer;}#mermaid-svg g.classGroup rect{fill:#ECECFF;stroke:#9370DB;}#mermaid-svg g.classGroup line{stroke:#9370DB;stroke-width:1;}#mermaid-svg .classLabel .box{stroke:none;stroke-width:0;fill:#ECECFF;opacity:0.5;}#mermaid-svg .classLabel .label{fill:#9370DB;font-size:10px;}#mermaid-svg .relation{stroke:#333333;stroke-width:1;fill:none;}#mermaid-svg .dashed-line{stroke-dasharray:3;}#mermaid-svg .dotted-line{stroke-dasharray:1 2;}#mermaid-svg #compositionStart,#mermaid-svg .composition{fill:#333333!important;stroke:#333333!important;stroke-width:1;}#mermaid-svg #compositionEnd,#mermaid-svg .composition{fill:#333333!important;stroke:#333333!important;stroke-width:1;}#mermaid-svg #dependencyStart,#mermaid-svg .dependency{fill:#333333!important;stroke:#333333!important;stroke-width:1;}#mermaid-svg #dependencyStart,#mermaid-svg .dependency{fill:#333333!important;stroke:#333333!important;stroke-width:1;}#mermaid-svg #extensionStart,#mermaid-svg .extension{fill:transparent!important;stroke:#333333!important;stroke-width:1;}#mermaid-svg #extensionEnd,#mermaid-svg .extension{fill:transparent!important;stroke:#333333!important;stroke-width:1;}#mermaid-svg #aggregationStart,#mermaid-svg .aggregation{fill:transparent!important;stroke:#333333!important;stroke-width:1;}#mermaid-svg #aggregationEnd,#mermaid-svg .aggregation{fill:transparent!important;stroke:#333333!important;stroke-width:1;}#mermaid-svg #lollipopStart,#mermaid-svg .lollipop{fill:#ECECFF!important;stroke:#333333!important;stroke-width:1;}#mermaid-svg #lollipopEnd,#mermaid-svg .lollipop{fill:#ECECFF!important;stroke:#333333!important;stroke-width:1;}#mermaid-svg .edgeTerminals{font-size:11px;line-height:initial;}#mermaid-svg .classTitleText{text-anchor:middle;font-size:18px;fill:#333;}#mermaid-svg :root{--mermaid-font-family:\"trebuchet ms\",verdana,arial,sans-serif;}</style><g><defs><marker id=\"mermaid-svg_class-aggregationStart\" class=\"marker aggregation class\" refX=\"18\" refY=\"7\" markerWidth=\"190\" markerHeight=\"240\" orient=\"auto\"><path d=\"M 18,7 L9,13 L1,7 L9,1 Z\"/></marker></defs><defs><marker id=\"mermaid-svg_class-aggregationEnd\" class=\"marker aggregation class\" refX=\"1\" refY=\"7\" markerWidth=\"20\" markerHeight=\"28\" orient=\"auto\"><path d=\"M 18,7 L9,13 L1,7 L9,1 Z\"/></marker></defs><defs><marker id=\"mermaid-svg_class-extensionStart\" class=\"marker extension class\" refX=\"18\" refY=\"7\" markerWidth=\"190\" markerHeight=\"240\" orient=\"auto\"><path d=\"M 1,7 L18,13 V 1 Z\"/></marker></defs><defs><marker id=\"mermaid-svg_class-extensionEnd\" class=\"marker extension class\" refX=\"1\" refY=\"7\" markerWidth=\"20\" markerHeight=\"28\" orient=\"auto\"><path d=\"M 1,1 V 13 L18,7 Z\"/></marker></defs><defs><marker id=\"mermaid-svg_class-compositionStart\" class=\"marker composition class\" refX=\"18\" refY=\"7\" markerWidth=\"190\" markerHeight=\"240\" orient=\"auto\"><path d=\"M 18,7 L9,13 L1,7 L9,1 Z\"/></marker></defs><defs><marker id=\"mermaid-svg_class-compositionEnd\" class=\"marker composition class\" refX=\"1\" refY=\"7\" markerWidth=\"20\" markerHeight=\"28\" orient=\"auto\"><path d=\"M 18,7 L9,13 L1,7 L9,1 Z\"/></marker></defs><defs><marker id=\"mermaid-svg_class-dependencyStart\" class=\"marker dependency class\" refX=\"6\" refY=\"7\" markerWidth=\"190\" markerHeight=\"240\" orient=\"auto\"><path d=\"M 5,7 L9,13 L1,7 L9,1 Z\"/></marker></defs><defs><marker id=\"mermaid-svg_class-dependencyEnd\" class=\"marker dependency class\" refX=\"13\" refY=\"7\" markerWidth=\"20\" markerHeight=\"28\" orient=\"auto\"><path d=\"M 18,7 L9,13 L14,7 L9,1 Z\"/></marker></defs><defs><marker id=\"mermaid-svg_class-lollipopStart\" class=\"marker lollipop class\" refX=\"13\" refY=\"7\" markerWidth=\"190\" markerHeight=\"240\" orient=\"auto\"><circle stroke=\"black\" fill=\"transparent\" cx=\"7\" cy=\"7\" r=\"6\"/></marker></defs><defs><marker id=\"mermaid-svg_class-lollipopEnd\" class=\"marker lollipop class\" refX=\"1\" refY=\"7\" markerWidth=\"190\" markerHeight=\"240\" orient=\"auto\"><circle stroke=\"black\" fill=\"transparent\" cx=\"7\" cy=\"7\" r=\"6\"/></marker></defs><g class=\"root\"><g class=\"clusters\"/><g class=\"edgePaths\"><path d=\"M166.074,290L166.074,291.167C166.074,292.333,166.074,294.667,166.074,300C166.074,305.333,166.074,313.667,166.074,317.833L166.074,322\" id=\"id_Animal_Feline_1\" class=\" edge-thickness-normal edge-pattern-solid relation\" style=\";\" marker-start=\"url(#mermaid-svg_class-extensionStart)\"/><path d=\"M166.074,532L166.074,533.167C166.074,534.333,166.074,536.667,166.074,542C166.074,547.333,166.074,555.667,166.074,559.833L166.074,564\" id=\"id_Feline_Lion_2\" class=\" edge-thickness-normal edge-pattern-solid relation\" style=\";\" marker-start=\"url(#mermaid-svg_class-extensionStart)\"/></g><g class=\"edgeLabels\"><g class=\"edgeLabel\"><g class=\"label\" transform=\"translate(0, -12)\"><foreignObject width=\"0\" height=\"24\"><div style=\"display: table-cell; white-space: nowrap; line-height: 1.5; max-width: 200px; text-align: center;\" xmlns=\"http://www.w3.org/1999/xhtml\" class=\"labelBkg\"><span style=\";display: inline-block\" class=\"edgeLabel \"></span></div></foreignObject></g></g><g class=\"edgeLabel\"><g class=\"label\" transform=\"translate(0, -12)\"><foreignObject width=\"0\" height=\"24\"><div style=\"display: table-cell; white-space: nowrap; line-height: 1.5; max-width: 200px; text-align: center;\" xmlns=\"http://www.w3.org/1999/xhtml\" class=\"labelBkg\"><span style=\";display: inline-block\" class=\"edgeLabel \"></span></div></foreignObject></g></g></g><g class=\"nodes\"><g class=\"node default \" id=\"classId-Animal-0\" transform=\"translate(166.07421875, 140)\"><g class=\"basic label-container\"><path d=\"M-116.7109375 -132 L116.7109375 -132 L116.7109375 132 L-116.7109375 132\" stroke=\"none\" stroke-width=\"0\" fill=\"#ECECFF\" style=\"\"/><path d=\"M-116.7109375 -132 C-43.847794061100316 -132, 29.015349377799367 -132, 116.7109375 -132 M-116.7109375 -132 C-66.41079249020603 -132, -16.11064748041207 -132, 116.7109375 -132 M116.7109375 -132 C116.7109375 -45.331187950530506, 116.7109375 41.33762409893899, 116.7109375 132 M116.7109375 -132 C116.7109375 -59.69960445334924, 116.7109375 12.600791093301524, 116.7109375 132 M116.7109375 132 C29.80043100057769 132, -57.11007549884462 132, -116.7109375 132 M116.7109375 132 C32.83349109289533 132, -51.04395531420934 132, -116.7109375 132 M-116.7109375 132 C-116.7109375 76.91258647814891, -116.7109375 21.825172956297806, -116.7109375 -132 M-116.7109375 132 C-116.7109375 31.501060103631843, -116.7109375 -68.99787979273631, -116.7109375 -132\" stroke=\"#9370DB\" stroke-width=\"1.3\" fill=\"none\" style=\"\"/></g><g class=\"annotation-group text\" transform=\"translate(0, -108)\"/><g class=\"label-group text\" transform=\"translate(-26.671875, -108)\"><g class=\"label\" style=\"font-weight: bolder\" transform=\"translate(0,-12)\"><foreignObject width=\"53.34375\" height=\"24\"><div xmlns=\"http://www.w3.org/1999/xhtml\" style=\"display: table-cell; white-space: nowrap; line-height: 1.5; max-width: 99px; text-align: center;\"><span class=\"nodeLabel markdown-node-label\" style=\"\"><p>Animal</p></span></div></foreignObject></g></g><g class=\"members-group text\" transform=\"translate(-104.7109375, -60)\"><g class=\"label\" style=\"\" transform=\"translate(0,-12)\"><foreignObject width=\"97.390625\" height=\"24\"><div xmlns=\"http://www.w3.org/1999/xhtml\" style=\"display: table-cell; white-space: nowrap; line-height: 1.5; max-width: 143px; text-align: center;\"><span class=\"nodeLabel markdown-node-label\" style=\"\"><p>+name: string</p></span></div></foreignObject></g><g class=\"label\" style=\"\" transform=\"translate(0,12)\"><foreignObject width=\"61.828125\" height=\"24\"><div xmlns=\"http://www.w3.org/1999/xhtml\" style=\"display: table-cell; white-space: nowrap; line-height: 1.5; max-width: 112px; text-align: center;\"><span class=\"nodeLabel markdown-node-label\" style=\"\"><p>+age: int</p></span></div></foreignObject></g><g class=\"label\" style=\"\" transform=\"translate(0,36)\"><foreignObject width=\"111.609375\" height=\"24\"><div xmlns=\"http://www.w3.org/1999/xhtml\" style=\"display: table-cell; white-space: nowrap; line-height: 1.5; max-width: 155px; text-align: center;\"><span class=\"nodeLabel markdown-node-label\" style=\"\"><p>+species: string</p></span></div></foreignObject></g><g class=\"label\" style=\"\" transform=\"translate(0,60)\"><foreignObject width=\"78.734375\" height=\"24\"><div xmlns=\"http://www.w3.org/1999/xhtml\" style=\"display: table-cell; white-space: nowrap; line-height: 1.5; max-width: 128px; text-align: center;\"><span class=\"nodeLabel markdown-node-label\" style=\"\"><p>+health: int</p></span></div></foreignObject></g></g><g class=\"methods-group text\" transform=\"translate(-104.7109375, 60)\"><g class=\"label\" style=\"\" transform=\"translate(0,-12)\"><foreignObject width=\"182.75\" height=\"24\"><div xmlns=\"http://www.w3.org/1999/xhtml\" style=\"display: table-cell; white-space: nowrap; line-height: 1.5; max-width: 247px; text-align: center;\"><span class=\"nodeLabel markdown-node-label\" style=\"\"><p>+<strong>init</strong>(name, age, species)</p></span></div></foreignObject></g><g class=\"label\" style=\"\" transform=\"translate(0,12)\"><foreignObject width=\"111.625\" height=\"24\"><div xmlns=\"http://www.w3.org/1999/xhtml\" style=\"display: table-cell; white-space: nowrap; line-height: 1.5; max-width: 155px; text-align: center;\"><span class=\"nodeLabel markdown-node-label\" style=\"\"><p>+make_sound()</p></span></div></foreignObject></g><g class=\"label\" style=\"\" transform=\"translate(0,36)\"><foreignObject width=\"73.390625\" height=\"24\"><div xmlns=\"http://www.w3.org/1999/xhtml\" style=\"display: table-cell; white-space: nowrap; line-height: 1.5; max-width: 122px; text-align: center;\"><span class=\"nodeLabel markdown-node-label\" style=\"\"><p>+eat(food)</p></span></div></foreignObject></g></g><g class=\"divider\" style=\"\"><path d=\"M-116.7109375 -84 C-52.014846991456366 -84, 12.681243517087267 -84, 116.7109375 -84 M-116.7109375 -84 C-35.87692733215741 -84, 44.957082835685185 -84, 116.7109375 -84\" stroke=\"#9370DB\" stroke-width=\"1.3\" fill=\"none\" style=\"\"/></g><g class=\"divider\" style=\"\"><path d=\"M-116.7109375 36 C-60.36743602573806 36, -4.023934551476117 36, 116.7109375 36 M-116.7109375 36 C-43.59109120749153 36, 29.52875508501694 36, 116.7109375 36\" stroke=\"#9370DB\" stroke-width=\"1.3\" fill=\"none\" style=\"\"/></g></g><g class=\"node default \" id=\"classId-Feline-1\" transform=\"translate(166.07421875, 418)\"><g class=\"basic label-container\"><path d=\"M-158.07421875 -96 L158.07421875 -96 L158.07421875 96 L-158.07421875 96\" stroke=\"none\" stroke-width=\"0\" fill=\"#ECECFF\" style=\"\"/><path d=\"M-158.07421875 -96 C-87.64874532807944 -96, -17.223271906158885 -96, 158.07421875 -96 M-158.07421875 -96 C-43.233769804439305 -96, 71.60667914112139 -96, 158.07421875 -96 M158.07421875 -96 C158.07421875 -26.472380439496092, 158.07421875 43.055239121007816, 158.07421875 96 M158.07421875 -96 C158.07421875 -48.028653641417144, 158.07421875 -0.05730728283428732, 158.07421875 96 M158.07421875 96 C39.225600129861306 96, -79.62301849027739 96, -158.07421875 96 M158.07421875 96 C84.73348847470866 96, 11.39275819941733 96, -158.07421875 96 M-158.07421875 96 C-158.07421875 37.676252565243026, -158.07421875 -20.64749486951395, -158.07421875 -96 M-158.07421875 96 C-158.07421875 45.6755726786358, -158.07421875 -4.648854642728395, -158.07421875 -96\" stroke=\"#9370DB\" stroke-width=\"1.3\" fill=\"none\" style=\"\"/></g><g class=\"annotation-group text\" transform=\"translate(0, -72)\"/><g class=\"label-group text\" transform=\"translate(-23.1171875, -72)\"><g class=\"label\" style=\"font-weight: bolder\" transform=\"translate(0,-12)\"><foreignObject width=\"46.234375\" height=\"24\"><div xmlns=\"http://www.w3.org/1999/xhtml\" style=\"display: table-cell; white-space: nowrap; line-height: 1.5; max-width: 90px; text-align: center;\"><span class=\"nodeLabel markdown-node-label\" style=\"\"><p>Feline</p></span></div></foreignObject></g></g><g class=\"members-group text\" transform=\"translate(-146.07421875, -24)\"><g class=\"label\" style=\"\" transform=\"translate(0,-12)\"><foreignObject width=\"134.75\" height=\"24\"><div xmlns=\"http://www.w3.org/1999/xhtml\" style=\"display: table-cell; white-space: nowrap; line-height: 1.5; max-width: 179px; text-align: center;\"><span class=\"nodeLabel markdown-node-label\" style=\"\"><p>+fur_pattern: string</p></span></div></foreignObject></g></g><g class=\"methods-group text\" transform=\"translate(-146.07421875, 24)\"><g class=\"label\" style=\"\" transform=\"translate(0,-12)\"><foreignObject width=\"269.03125\" height=\"24\"><div xmlns=\"http://www.w3.org/1999/xhtml\" style=\"display: table-cell; white-space: nowrap; line-height: 1.5; max-width: 326px; text-align: center;\"><span class=\"nodeLabel markdown-node-label\" style=\"\"><p>+<strong>init</strong>(name, age, species, fur_pattern)</p></span></div></foreignObject></g><g class=\"label\" style=\"\" transform=\"translate(0,12)\"><foreignObject width=\"48.453125\" height=\"24\"><div xmlns=\"http://www.w3.org/1999/xhtml\" style=\"display: table-cell; white-space: nowrap; line-height: 1.5; max-width: 101px; text-align: center;\"><span class=\"nodeLabel markdown-node-label\" style=\"\"><p>+purr()</p></span></div></foreignObject></g><g class=\"label\" style=\"\" transform=\"translate(0,36)\"><foreignObject width=\"111.625\" height=\"24\"><div xmlns=\"http://www.w3.org/1999/xhtml\" style=\"display: table-cell; white-space: nowrap; line-height: 1.5; max-width: 155px; text-align: center;\"><span class=\"nodeLabel markdown-node-label\" style=\"\"><p>+make_sound()</p></span></div></foreignObject></g></g><g class=\"divider\" style=\"\"><path d=\"M-158.07421875 -48 C-72.67111156255113 -48, 12.731995624897735 -48, 158.07421875 -48 M-158.07421875 -48 C-50.43314219680097 -48, 57.207934356398056 -48, 158.07421875 -48\" stroke=\"#9370DB\" stroke-width=\"1.3\" fill=\"none\" style=\"\"/></g><g class=\"divider\" style=\"\"><path d=\"M-158.07421875 0 C-87.23431365079998 0, -16.394408551599952 0, 158.07421875 0 M-158.07421875 0 C-57.02324303263978 0, 44.027732684720434 0, 158.07421875 0\" stroke=\"#9370DB\" stroke-width=\"1.3\" fill=\"none\" style=\"\"/></g></g><g class=\"node default \" id=\"classId-Lion-2\" transform=\"translate(166.07421875, 648)\"><g class=\"basic label-container\"><path d=\"M-123.37890625 -84 L123.37890625 -84 L123.37890625 84 L-123.37890625 84\" stroke=\"none\" stroke-width=\"0\" fill=\"#ECECFF\" style=\"\"/><path d=\"M-123.37890625 -84 C-48.077998386987886 -84, 27.222909476024228 -84, 123.37890625 -84 M-123.37890625 -84 C-71.97362297881851 -84, -20.568339707637023 -84, 123.37890625 -84 M123.37890625 -84 C123.37890625 -38.733299852969004, 123.37890625 6.533400294061991, 123.37890625 84 M123.37890625 -84 C123.37890625 -18.089195366599895, 123.37890625 47.82160926680021, 123.37890625 84 M123.37890625 84 C64.1277215016341 84, 4.876536753268198 84, -123.37890625 84 M123.37890625 84 C26.771954436736763 84, -69.83499737652647 84, -123.37890625 84 M-123.37890625 84 C-123.37890625 37.32352581022848, -123.37890625 -9.352948379543037, -123.37890625 -84 M-123.37890625 84 C-123.37890625 44.85189272035702, -123.37890625 5.703785440714043, -123.37890625 -84\" stroke=\"#9370DB\" stroke-width=\"1.3\" fill=\"none\" style=\"\"/></g><g class=\"annotation-group text\" transform=\"translate(0, -60)\"/><g class=\"label-group text\" transform=\"translate(-16.8828125, -60)\"><g class=\"label\" style=\"font-weight: bolder\" transform=\"translate(0,-12)\"><foreignObject width=\"33.765625\" height=\"24\"><div xmlns=\"http://www.w3.org/1999/xhtml\" style=\"display: table-cell; white-space: nowrap; line-height: 1.5; max-width: 80px; text-align: center;\"><span class=\"nodeLabel markdown-node-label\" style=\"\"><p>Lion</p></span></div></foreignObject></g></g><g class=\"members-group text\" transform=\"translate(-111.37890625, -12)\"><g class=\"label\" style=\"\" transform=\"translate(0,-12)\"><foreignObject width=\"134.734375\" height=\"24\"><div xmlns=\"http://www.w3.org/1999/xhtml\" style=\"display: table-cell; white-space: nowrap; line-height: 1.5; max-width: 176px; text-align: center;\"><span class=\"nodeLabel markdown-node-label\" style=\"\"><p>+mane_size: string</p></span></div></foreignObject></g></g><g class=\"methods-group text\" transform=\"translate(-111.37890625, 36)\"><g class=\"label\" style=\"\" transform=\"translate(0,-12)\"><foreignObject width=\"205.875\" height=\"24\"><div xmlns=\"http://www.w3.org/1999/xhtml\" style=\"display: table-cell; white-space: nowrap; line-height: 1.5; max-width: 268px; text-align: center;\"><span class=\"nodeLabel markdown-node-label\" style=\"\"><p>+<strong>init</strong>(name, age, mane_size)</p></span></div></foreignObject></g><g class=\"label\" style=\"\" transform=\"translate(0,12)\"><foreignObject width=\"111.625\" height=\"24\"><div xmlns=\"http://www.w3.org/1999/xhtml\" style=\"display: table-cell; white-space: nowrap; line-height: 1.5; max-width: 155px; text-align: center;\"><span class=\"nodeLabel markdown-node-label\" style=\"\"><p>+make_sound()</p></span></div></foreignObject></g></g><g class=\"divider\" style=\"\"><path d=\"M-123.37890625 -36 C-35.72472289480696 -36, 51.92946046038608 -36, 123.37890625 -36 M-123.37890625 -36 C-63.115499608552106 -36, -2.8520929671042126 -36, 123.37890625 -36\" stroke=\"#9370DB\" stroke-width=\"1.3\" fill=\"none\" style=\"\"/></g><g class=\"divider\" style=\"\"><path d=\"M-123.37890625 12 C-44.656475205302044 12, 34.06595583939591 12, 123.37890625 12 M-123.37890625 12 C-41.1732546154318 12, 41.0323970191364 12, 123.37890625 12\" stroke=\"#9370DB\" stroke-width=\"1.3\" fill=\"none\" style=\"\"/></g></g></g></g></g></svg>"
            ]
          },
          "metadata": {}
        }
      ]
    },
    {
      "cell_type": "markdown",
      "source": [
        "# Polymorphism: Why Different Animals Respond Differently to the Same Command\n",
        "\n",
        "In a real zoo, when a zookeeper says \"speak,\" a lion might roar, a snake might hiss, and a parrot might say \"hello.\" Each animal responds to the same command in its own way. In OOP, this concept is called **polymorphism**—the ability to process objects differently depending on their class or data type.\n",
        "\n",
        "**Polymorphism** means \"many forms\" and refers to the ability to use a common interface (like a method name) that can work with different types of objects in different ways.\n",
        "\n",
        "Key aspects of polymorphism:\n",
        "* It allows you to write code that works with objects of different classes in a consistent way\n",
        "* It makes your code more flexible and reusable\n",
        "* It enables you to extend functionality without modifying existing code\n",
        "* It creates code that's more intuitive by using the same method names for similar operations\n",
        "\n",
        "Let's see polymorphism in action with different zoo animals:"
      ],
      "metadata": {
        "id": "BTlixtdMb6ae"
      }
    },
    {
      "cell_type": "code",
      "source": [
        "class Bird(Animal):\n",
        "    def __init__(self, name, age, species, wingspan):\n",
        "        super().__init__(name, age, species)\n",
        "        self.wingspan = wingspan\n",
        "\n",
        "    def make_sound(self):\n",
        "        return f\"{self.name} chirps melodically\"\n",
        "\n",
        "    def move(self):\n",
        "        return f\"{self.name} flies through the air\"\n",
        "\n",
        "class Reptile(Animal):\n",
        "    def __init__(self, name, age, species, is_venomous):\n",
        "        super().__init__(name, age, species)\n",
        "        self.is_venomous = is_venomous\n",
        "\n",
        "    def make_sound(self):\n",
        "        return f\"{self.name} hisses quietly\"\n",
        "\n",
        "    def move(self):\n",
        "        return f\"{self.name} slithers along the ground\"\n",
        "\n",
        "class Mammal(Animal):\n",
        "    def __init__(self, name, age, species, fur_color):\n",
        "        super().__init__(name, age, species)\n",
        "        self.fur_color = fur_color\n",
        "\n",
        "    def make_sound(self):\n",
        "        return f\"{self.name} makes mammalian noises\"\n",
        "\n",
        "    def move(self):\n",
        "        return f\"{self.name} walks on four legs\""
      ],
      "metadata": {
        "id": "FLhgNzi6b83e"
      },
      "execution_count": null,
      "outputs": []
    },
    {
      "cell_type": "markdown",
      "source": [
        "Now, let's see how polymorphism lets us treat different animal objects in a uniform way:\n"
      ],
      "metadata": {
        "id": "xyAtWOdvcDhz"
      }
    },
    {
      "cell_type": "code",
      "source": [
        "# Create different animal objects\n",
        "parrot = Bird(\"Polly\", 15, \"Amazon parrot\", 20)\n",
        "snake = Reptile(\"Slither\", 5, \"Python regius\", False)\n",
        "wolf = Mammal(\"Luna\", 6, \"Canis lupus\", \"gray\")\n",
        "\n",
        "# Create a list of different animal types\n",
        "zoo_animals = [parrot, snake, wolf]\n",
        "\n",
        "# We can use the same method calls on all animals\n",
        "print(\"Morning at the zoo:\")\n",
        "for animal in zoo_animals:\n",
        "    # These lines demonstrate polymorphism\n",
        "    print(animal.make_sound())\n",
        "    print(animal.move())\n",
        "    print(\"------------------\")"
      ],
      "metadata": {
        "colab": {
          "base_uri": "https://localhost:8080/"
        },
        "id": "lhWlLZaecFaP",
        "outputId": "4dd79efa-5aae-4338-a3c6-7ab45fd34580"
      },
      "execution_count": null,
      "outputs": [
        {
          "output_type": "stream",
          "name": "stdout",
          "text": [
            "Morning at the zoo:\n",
            "Polly chirps melodically\n",
            "Polly flies through the air\n",
            "------------------\n",
            "Slither hisses quietly\n",
            "Slither slithers along the ground\n",
            "------------------\n",
            "Luna makes mammalian noises\n",
            "Luna walks on four legs\n",
            "------------------\n"
          ]
        }
      ]
    },
    {
      "cell_type": "markdown",
      "source": [
        "Polymorphism in action:\n",
        "\n",
        "-   The loop doesn't know or care what type each animal is\n",
        "-   When it calls `animal.make_sound()`, Python looks up the method for that specific object's class\n",
        "-   For parrot (a Bird), it finds and calls Bird's `make_sound()` method\n",
        "-   For snake (a Reptile), it finds and calls Reptile's `make_sound()` method\n",
        "-   Same method name, different behavior based on the object's actual type!"
      ],
      "metadata": {
        "id": "MrOJ7fGLWyfQ"
      }
    },
    {
      "cell_type": "markdown",
      "source": [
        "\n",
        "There are two main forms of polymorphism in Python:\n",
        "1. **Method overriding**: Redefining a method in a subclass (as we've done with `make_sound` above)\n",
        "2. **Duck typing**: An object's fitness for use is determined by the presence of certain methods and properties, rather than by the type of the object itself (\"If it walks like a duck and quacks like a duck, it's a duck\")\n",
        "\n",
        "Polymorphism makes our code more modular and easier to extend. When we add new animal types to our zoo, they'll automatically work with existing code as long as they implement the expected methods."
      ],
      "metadata": {
        "id": "58jsk1EycHWJ"
      }
    },
    {
      "cell_type": "code",
      "source": [
        "# @title\n",
        "mm(\"\"\"\n",
        "classDiagram\n",
        "    Animal <|-- Bird\n",
        "    Animal <|-- Reptile\n",
        "    Animal <|-- Mammal\n",
        "\n",
        "    class Animal {\n",
        "        +make_sound()\n",
        "        +move()\n",
        "    }\n",
        "\n",
        "    class Bird {\n",
        "        +make_sound() : chirps\n",
        "        +move() : flies\n",
        "    }\n",
        "\n",
        "    class Reptile {\n",
        "        +make_sound() : hisses\n",
        "        +move() : slithers\n",
        "    }\n",
        "\n",
        "    class Mammal {\n",
        "        +make_sound() : mammalian noises\n",
        "        +move() : walks\n",
        "    }\n",
        "\n",
        "    note for Animal \"Parent class defines the common interface\"\n",
        "    \"\"\"\n",
        "    )"
      ],
      "metadata": {
        "colab": {
          "base_uri": "https://localhost:8080/",
          "height": 473
        },
        "cellView": "form",
        "id": "TOPoia0_cTHy",
        "outputId": "910c2c39-09d6-487f-9021-260ee47aab14"
      },
      "execution_count": null,
      "outputs": [
        {
          "output_type": "display_data",
          "data": {
            "text/plain": [
              "<IPython.core.display.HTML object>"
            ],
            "text/html": [
              "<svg id=\"mermaid-svg\" width=\"100%\" xmlns=\"http://www.w3.org/2000/svg\" class=\"classDiagram\" style=\"max-width: 885.65625px;\" viewBox=\"0 0 885.65625 452\" role=\"graphics-document document\" aria-roledescription=\"class\" xmlns:xlink=\"http://www.w3.org/1999/xlink\"><style xmlns=\"http://www.w3.org/1999/xhtml\">@import url(\"https://cdnjs.cloudflare.com/ajax/libs/font-awesome/6.7.2/css/all.min.css\");</style><style>#mermaid-svg{font-family:\"trebuchet ms\",verdana,arial,sans-serif;font-size:16px;fill:#333;}@keyframes edge-animation-frame{from{stroke-dashoffset:0;}}@keyframes dash{to{stroke-dashoffset:0;}}#mermaid-svg .edge-animation-slow{stroke-dasharray:9,5!important;stroke-dashoffset:900;animation:dash 50s linear infinite;stroke-linecap:round;}#mermaid-svg .edge-animation-fast{stroke-dasharray:9,5!important;stroke-dashoffset:900;animation:dash 20s linear infinite;stroke-linecap:round;}#mermaid-svg .error-icon{fill:#552222;}#mermaid-svg .error-text{fill:#552222;stroke:#552222;}#mermaid-svg .edge-thickness-normal{stroke-width:1px;}#mermaid-svg .edge-thickness-thick{stroke-width:3.5px;}#mermaid-svg .edge-pattern-solid{stroke-dasharray:0;}#mermaid-svg .edge-thickness-invisible{stroke-width:0;fill:none;}#mermaid-svg .edge-pattern-dashed{stroke-dasharray:3;}#mermaid-svg .edge-pattern-dotted{stroke-dasharray:2;}#mermaid-svg .marker{fill:#333333;stroke:#333333;}#mermaid-svg .marker.cross{stroke:#333333;}#mermaid-svg svg{font-family:\"trebuchet ms\",verdana,arial,sans-serif;font-size:16px;}#mermaid-svg p{margin:0;}#mermaid-svg g.classGroup text{fill:#9370DB;stroke:none;font-family:\"trebuchet ms\",verdana,arial,sans-serif;font-size:10px;}#mermaid-svg g.classGroup text .title{font-weight:bolder;}#mermaid-svg .nodeLabel,#mermaid-svg .edgeLabel{color:#131300;}#mermaid-svg .edgeLabel .label rect{fill:#ECECFF;}#mermaid-svg .label text{fill:#131300;}#mermaid-svg .labelBkg{background:#ECECFF;}#mermaid-svg .edgeLabel .label span{background:#ECECFF;}#mermaid-svg .classTitle{font-weight:bolder;}#mermaid-svg .node rect,#mermaid-svg .node circle,#mermaid-svg .node ellipse,#mermaid-svg .node polygon,#mermaid-svg .node path{fill:#ECECFF;stroke:#9370DB;stroke-width:1px;}#mermaid-svg .divider{stroke:#9370DB;stroke-width:1;}#mermaid-svg g.clickable{cursor:pointer;}#mermaid-svg g.classGroup rect{fill:#ECECFF;stroke:#9370DB;}#mermaid-svg g.classGroup line{stroke:#9370DB;stroke-width:1;}#mermaid-svg .classLabel .box{stroke:none;stroke-width:0;fill:#ECECFF;opacity:0.5;}#mermaid-svg .classLabel .label{fill:#9370DB;font-size:10px;}#mermaid-svg .relation{stroke:#333333;stroke-width:1;fill:none;}#mermaid-svg .dashed-line{stroke-dasharray:3;}#mermaid-svg .dotted-line{stroke-dasharray:1 2;}#mermaid-svg #compositionStart,#mermaid-svg .composition{fill:#333333!important;stroke:#333333!important;stroke-width:1;}#mermaid-svg #compositionEnd,#mermaid-svg .composition{fill:#333333!important;stroke:#333333!important;stroke-width:1;}#mermaid-svg #dependencyStart,#mermaid-svg .dependency{fill:#333333!important;stroke:#333333!important;stroke-width:1;}#mermaid-svg #dependencyStart,#mermaid-svg .dependency{fill:#333333!important;stroke:#333333!important;stroke-width:1;}#mermaid-svg #extensionStart,#mermaid-svg .extension{fill:transparent!important;stroke:#333333!important;stroke-width:1;}#mermaid-svg #extensionEnd,#mermaid-svg .extension{fill:transparent!important;stroke:#333333!important;stroke-width:1;}#mermaid-svg #aggregationStart,#mermaid-svg .aggregation{fill:transparent!important;stroke:#333333!important;stroke-width:1;}#mermaid-svg #aggregationEnd,#mermaid-svg .aggregation{fill:transparent!important;stroke:#333333!important;stroke-width:1;}#mermaid-svg #lollipopStart,#mermaid-svg .lollipop{fill:#ECECFF!important;stroke:#333333!important;stroke-width:1;}#mermaid-svg #lollipopEnd,#mermaid-svg .lollipop{fill:#ECECFF!important;stroke:#333333!important;stroke-width:1;}#mermaid-svg .edgeTerminals{font-size:11px;line-height:initial;}#mermaid-svg .classTitleText{text-anchor:middle;font-size:18px;fill:#333;}#mermaid-svg :root{--mermaid-font-family:\"trebuchet ms\",verdana,arial,sans-serif;}</style><g><defs><marker id=\"mermaid-svg_class-aggregationStart\" class=\"marker aggregation class\" refX=\"18\" refY=\"7\" markerWidth=\"190\" markerHeight=\"240\" orient=\"auto\"><path d=\"M 18,7 L9,13 L1,7 L9,1 Z\"/></marker></defs><defs><marker id=\"mermaid-svg_class-aggregationEnd\" class=\"marker aggregation class\" refX=\"1\" refY=\"7\" markerWidth=\"20\" markerHeight=\"28\" orient=\"auto\"><path d=\"M 18,7 L9,13 L1,7 L9,1 Z\"/></marker></defs><defs><marker id=\"mermaid-svg_class-extensionStart\" class=\"marker extension class\" refX=\"18\" refY=\"7\" markerWidth=\"190\" markerHeight=\"240\" orient=\"auto\"><path d=\"M 1,7 L18,13 V 1 Z\"/></marker></defs><defs><marker id=\"mermaid-svg_class-extensionEnd\" class=\"marker extension class\" refX=\"1\" refY=\"7\" markerWidth=\"20\" markerHeight=\"28\" orient=\"auto\"><path d=\"M 1,1 V 13 L18,7 Z\"/></marker></defs><defs><marker id=\"mermaid-svg_class-compositionStart\" class=\"marker composition class\" refX=\"18\" refY=\"7\" markerWidth=\"190\" markerHeight=\"240\" orient=\"auto\"><path d=\"M 18,7 L9,13 L1,7 L9,1 Z\"/></marker></defs><defs><marker id=\"mermaid-svg_class-compositionEnd\" class=\"marker composition class\" refX=\"1\" refY=\"7\" markerWidth=\"20\" markerHeight=\"28\" orient=\"auto\"><path d=\"M 18,7 L9,13 L1,7 L9,1 Z\"/></marker></defs><defs><marker id=\"mermaid-svg_class-dependencyStart\" class=\"marker dependency class\" refX=\"6\" refY=\"7\" markerWidth=\"190\" markerHeight=\"240\" orient=\"auto\"><path d=\"M 5,7 L9,13 L1,7 L9,1 Z\"/></marker></defs><defs><marker id=\"mermaid-svg_class-dependencyEnd\" class=\"marker dependency class\" refX=\"13\" refY=\"7\" markerWidth=\"20\" markerHeight=\"28\" orient=\"auto\"><path d=\"M 18,7 L9,13 L14,7 L9,1 Z\"/></marker></defs><defs><marker id=\"mermaid-svg_class-lollipopStart\" class=\"marker lollipop class\" refX=\"13\" refY=\"7\" markerWidth=\"190\" markerHeight=\"240\" orient=\"auto\"><circle stroke=\"black\" fill=\"transparent\" cx=\"7\" cy=\"7\" r=\"6\"/></marker></defs><defs><marker id=\"mermaid-svg_class-lollipopEnd\" class=\"marker lollipop class\" refX=\"1\" refY=\"7\" markerWidth=\"190\" markerHeight=\"240\" orient=\"auto\"><circle stroke=\"black\" fill=\"transparent\" cx=\"7\" cy=\"7\" r=\"6\"/></marker></defs><g class=\"root\"><g class=\"clusters\"/><g class=\"edgePaths\"><path d=\"M389.469,44L389.469,48.167C389.469,52.333,389.469,60.667,389.469,69C389.469,77.333,389.469,85.667,389.469,89.833L389.469,94\" id=\"edgeNote1\" class=\" edge-thickness-normal edge-pattern-dotted relation\" style=\"fill: none;\"/><path d=\"M291.417,204.89L262.225,215.575C233.033,226.26,174.649,247.63,145.458,262.482C116.266,277.333,116.266,285.667,116.266,289.833L116.266,294\" id=\"id_Animal_Bird_1\" class=\" edge-thickness-normal edge-pattern-solid relation\" style=\";\" marker-start=\"url(#mermaid-svg_class-extensionStart)\"/><path d=\"M389.469,262L389.469,263.167C389.469,264.333,389.469,266.667,389.469,272C389.469,277.333,389.469,285.667,389.469,289.833L389.469,294\" id=\"id_Animal_Reptile_2\" class=\" edge-thickness-normal edge-pattern-solid relation\" style=\";\" marker-start=\"url(#mermaid-svg_class-extensionStart)\"/><path d=\"M487.828,199.12L525.862,210.766C563.896,222.413,639.964,245.707,677.997,261.52C716.031,277.333,716.031,285.667,716.031,289.833L716.031,294\" id=\"id_Animal_Mammal_3\" class=\" edge-thickness-normal edge-pattern-solid relation\" style=\";\" marker-start=\"url(#mermaid-svg_class-extensionStart)\"/></g><g class=\"edgeLabels\"><g class=\"edgeLabel\"><g class=\"label\" transform=\"translate(0, 0)\"><foreignObject width=\"0\" height=\"0\"><div style=\"display: table-cell; white-space: nowrap; line-height: 1.5; max-width: 200px; text-align: center;\" xmlns=\"http://www.w3.org/1999/xhtml\" class=\"labelBkg\"><span style=\";\" class=\"edgeLabel \"></span></div></foreignObject></g></g><g class=\"edgeLabel\"><g class=\"label\" transform=\"translate(0, -12)\"><foreignObject width=\"0\" height=\"24\"><div style=\"display: table-cell; white-space: nowrap; line-height: 1.5; max-width: 200px; text-align: center;\" xmlns=\"http://www.w3.org/1999/xhtml\" class=\"labelBkg\"><span style=\";display: inline-block\" class=\"edgeLabel \"></span></div></foreignObject></g></g><g class=\"edgeLabel\"><g class=\"label\" transform=\"translate(0, -12)\"><foreignObject width=\"0\" height=\"24\"><div style=\"display: table-cell; white-space: nowrap; line-height: 1.5; max-width: 200px; text-align: center;\" xmlns=\"http://www.w3.org/1999/xhtml\" class=\"labelBkg\"><span style=\";display: inline-block\" class=\"edgeLabel \"></span></div></foreignObject></g></g><g class=\"edgeLabel\"><g class=\"label\" transform=\"translate(0, -12)\"><foreignObject width=\"0\" height=\"24\"><div style=\"display: table-cell; white-space: nowrap; line-height: 1.5; max-width: 200px; text-align: center;\" xmlns=\"http://www.w3.org/1999/xhtml\" class=\"labelBkg\"><span style=\";display: inline-block\" class=\"edgeLabel \"></span></div></foreignObject></g></g></g><g class=\"nodes\"><g class=\"node default \" id=\"classId-Animal-0\" transform=\"translate(389.46875, 169)\"><g class=\"basic label-container\"><path d=\"M-81.1484375 -75 L81.1484375 -75 L81.1484375 75 L-81.1484375 75\" stroke=\"none\" stroke-width=\"0\" fill=\"#ECECFF\" style=\"\"/><path d=\"M-81.1484375 -75 C-45.40797402078707 -75, -9.667510541574146 -75, 81.1484375 -75 M-81.1484375 -75 C-23.498385172980846 -75, 34.15166715403831 -75, 81.1484375 -75 M81.1484375 -75 C81.1484375 -19.435024379051853, 81.1484375 36.12995124189629, 81.1484375 75 M81.1484375 -75 C81.1484375 -39.925730900138866, 81.1484375 -4.8514618002777326, 81.1484375 75 M81.1484375 75 C48.472435502391214 75, 15.796433504782428 75, -81.1484375 75 M81.1484375 75 C31.836435422553244 75, -17.475566654893512 75, -81.1484375 75 M-81.1484375 75 C-81.1484375 26.80564621091868, -81.1484375 -21.388707578162638, -81.1484375 -75 M-81.1484375 75 C-81.1484375 26.53521113696568, -81.1484375 -21.929577726068644, -81.1484375 -75\" stroke=\"#9370DB\" stroke-width=\"1.3\" fill=\"none\" style=\"\"/></g><g class=\"annotation-group text\" transform=\"translate(0, -51)\"/><g class=\"label-group text\" transform=\"translate(-26.671875, -51)\"><g class=\"label\" style=\"font-weight: bolder\" transform=\"translate(0,-12)\"><foreignObject width=\"53.34375\" height=\"24\"><div xmlns=\"http://www.w3.org/1999/xhtml\" style=\"display: table-cell; white-space: nowrap; line-height: 1.5; max-width: 99px; text-align: center;\"><span class=\"nodeLabel markdown-node-label\" style=\"\"><p>Animal</p></span></div></foreignObject></g></g><g class=\"members-group text\" transform=\"translate(-69.1484375, -3)\"/><g class=\"methods-group text\" transform=\"translate(-69.1484375, 27)\"><g class=\"label\" style=\"\" transform=\"translate(0,-12)\"><foreignObject width=\"111.625\" height=\"24\"><div xmlns=\"http://www.w3.org/1999/xhtml\" style=\"display: table-cell; white-space: nowrap; line-height: 1.5; max-width: 155px; text-align: center;\"><span class=\"nodeLabel markdown-node-label\" style=\"\"><p>+make_sound()</p></span></div></foreignObject></g><g class=\"label\" style=\"\" transform=\"translate(0,12)\"><foreignObject width=\"59.125\" height=\"24\"><div xmlns=\"http://www.w3.org/1999/xhtml\" style=\"display: table-cell; white-space: nowrap; line-height: 1.5; max-width: 110px; text-align: center;\"><span class=\"nodeLabel markdown-node-label\" style=\"\"><p>+move()</p></span></div></foreignObject></g></g><g class=\"divider\" style=\"\"><path d=\"M-81.1484375 -27 C-22.60254342068371 -27, 35.94335065863258 -27, 81.1484375 -27 M-81.1484375 -27 C-27.61814572555039 -27, 25.912146048899217 -27, 81.1484375 -27\" stroke=\"#9370DB\" stroke-width=\"1.3\" fill=\"none\" style=\"\"/></g><g class=\"divider\" style=\"\"><path d=\"M-81.1484375 -3 C-43.98290818432472 -3, -6.817378868649442 -3, 81.1484375 -3 M-81.1484375 -3 C-24.004542836543926 -3, 33.13935182691215 -3, 81.1484375 -3\" stroke=\"#9370DB\" stroke-width=\"1.3\" fill=\"none\" style=\"\"/></g></g><g class=\"node default \" id=\"classId-Bird-1\" transform=\"translate(116.265625, 369)\"><g class=\"basic label-container\"><path d=\"M-108.265625 -75 L108.265625 -75 L108.265625 75 L-108.265625 75\" stroke=\"none\" stroke-width=\"0\" fill=\"#ECECFF\" style=\"\"/><path d=\"M-108.265625 -75 C-52.44792128479509 -75, 3.3697824304098134 -75, 108.265625 -75 M-108.265625 -75 C-24.998426644776302 -75, 58.268771710447396 -75, 108.265625 -75 M108.265625 -75 C108.265625 -41.19879685267704, 108.265625 -7.397593705354083, 108.265625 75 M108.265625 -75 C108.265625 -22.212733210360383, 108.265625 30.574533579279233, 108.265625 75 M108.265625 75 C62.03185490159108 75, 15.798084803182164 75, -108.265625 75 M108.265625 75 C62.07892677605257 75, 15.892228552105138 75, -108.265625 75 M-108.265625 75 C-108.265625 34.75113339186247, -108.265625 -5.497733216275066, -108.265625 -75 M-108.265625 75 C-108.265625 33.119610144606064, -108.265625 -8.760779710787872, -108.265625 -75\" stroke=\"#9370DB\" stroke-width=\"1.3\" fill=\"none\" style=\"\"/></g><g class=\"annotation-group text\" transform=\"translate(0, -51)\"/><g class=\"label-group text\" transform=\"translate(-16, -51)\"><g class=\"label\" style=\"font-weight: bolder\" transform=\"translate(0,-12)\"><foreignObject width=\"32\" height=\"24\"><div xmlns=\"http://www.w3.org/1999/xhtml\" style=\"display: table-cell; white-space: nowrap; line-height: 1.5; max-width: 78px; text-align: center;\"><span class=\"nodeLabel markdown-node-label\" style=\"\"><p>Bird</p></span></div></foreignObject></g></g><g class=\"members-group text\" transform=\"translate(-96.265625, -3)\"/><g class=\"methods-group text\" transform=\"translate(-96.265625, 27)\"><g class=\"label\" style=\"\" transform=\"translate(0,-12)\"><foreignObject width=\"176.53125\" height=\"24\"><div xmlns=\"http://www.w3.org/1999/xhtml\" style=\"display: table-cell; white-space: nowrap; line-height: 1.5; max-width: 215px; text-align: center;\"><span class=\"nodeLabel markdown-node-label\" style=\"\"><p>+make_sound() : : chirps</p></span></div></foreignObject></g><g class=\"label\" style=\"\" transform=\"translate(0,12)\"><foreignObject width=\"109.8125\" height=\"24\"><div xmlns=\"http://www.w3.org/1999/xhtml\" style=\"display: table-cell; white-space: nowrap; line-height: 1.5; max-width: 158px; text-align: center;\"><span class=\"nodeLabel markdown-node-label\" style=\"\"><p>+move() : : flies</p></span></div></foreignObject></g></g><g class=\"divider\" style=\"\"><path d=\"M-108.265625 -27 C-37.420495422007264 -27, 33.42463415598547 -27, 108.265625 -27 M-108.265625 -27 C-33.26832348359079 -27, 41.72897803281842 -27, 108.265625 -27\" stroke=\"#9370DB\" stroke-width=\"1.3\" fill=\"none\" style=\"\"/></g><g class=\"divider\" style=\"\"><path d=\"M-108.265625 -3 C-43.27864285786009 -3, 21.708339284279816 -3, 108.265625 -3 M-108.265625 -3 C-28.751431946211085 -3, 50.76276110757783 -3, 108.265625 -3\" stroke=\"#9370DB\" stroke-width=\"1.3\" fill=\"none\" style=\"\"/></g></g><g class=\"node default \" id=\"classId-Reptile-2\" transform=\"translate(389.46875, 369)\"><g class=\"basic label-container\"><path d=\"M-114.9375 -75 L114.9375 -75 L114.9375 75 L-114.9375 75\" stroke=\"none\" stroke-width=\"0\" fill=\"#ECECFF\" style=\"\"/><path d=\"M-114.9375 -75 C-62.56962579668701 -75, -10.201751593374027 -75, 114.9375 -75 M-114.9375 -75 C-28.344366891465796 -75, 58.24876621706841 -75, 114.9375 -75 M114.9375 -75 C114.9375 -29.228477087127835, 114.9375 16.54304582574433, 114.9375 75 M114.9375 -75 C114.9375 -17.77765193823302, 114.9375 39.44469612353396, 114.9375 75 M114.9375 75 C51.3248370239118 75, -12.287825952176405 75, -114.9375 75 M114.9375 75 C31.345748394539683 75, -52.246003210920634 75, -114.9375 75 M-114.9375 75 C-114.9375 32.115787154052796, -114.9375 -10.768425691894407, -114.9375 -75 M-114.9375 75 C-114.9375 39.38342226833964, -114.9375 3.7668445366792866, -114.9375 -75\" stroke=\"#9370DB\" stroke-width=\"1.3\" fill=\"none\" style=\"\"/></g><g class=\"annotation-group text\" transform=\"translate(0, -51)\"/><g class=\"label-group text\" transform=\"translate(-26.671875, -51)\"><g class=\"label\" style=\"font-weight: bolder\" transform=\"translate(0,-12)\"><foreignObject width=\"53.34375\" height=\"24\"><div xmlns=\"http://www.w3.org/1999/xhtml\" style=\"display: table-cell; white-space: nowrap; line-height: 1.5; max-width: 96px; text-align: center;\"><span class=\"nodeLabel markdown-node-label\" style=\"\"><p>Reptile</p></span></div></foreignObject></g></g><g class=\"members-group text\" transform=\"translate(-102.9375, -3)\"/><g class=\"methods-group text\" transform=\"translate(-102.9375, 27)\"><g class=\"label\" style=\"\" transform=\"translate(0,-12)\"><foreignObject width=\"179.203125\" height=\"24\"><div xmlns=\"http://www.w3.org/1999/xhtml\" style=\"display: table-cell; white-space: nowrap; line-height: 1.5; max-width: 214px; text-align: center;\"><span class=\"nodeLabel markdown-node-label\" style=\"\"><p>+make_sound() : : hisses</p></span></div></foreignObject></g><g class=\"label\" style=\"\" transform=\"translate(0,12)\"><foreignObject width=\"132.03125\" height=\"24\"><div xmlns=\"http://www.w3.org/1999/xhtml\" style=\"display: table-cell; white-space: nowrap; line-height: 1.5; max-width: 177px; text-align: center;\"><span class=\"nodeLabel markdown-node-label\" style=\"\"><p>+move() : : slithers</p></span></div></foreignObject></g></g><g class=\"divider\" style=\"\"><path d=\"M-114.9375 -27 C-26.851206973946972 -27, 61.235086052106055 -27, 114.9375 -27 M-114.9375 -27 C-24.348299537294253 -27, 66.2409009254115 -27, 114.9375 -27\" stroke=\"#9370DB\" stroke-width=\"1.3\" fill=\"none\" style=\"\"/></g><g class=\"divider\" style=\"\"><path d=\"M-114.9375 -3 C-45.141585877540265 -3, 24.65432824491947 -3, 114.9375 -3 M-114.9375 -3 C-51.45843211837872 -3, 12.020635763242566 -3, 114.9375 -3\" stroke=\"#9370DB\" stroke-width=\"1.3\" fill=\"none\" style=\"\"/></g></g><g class=\"node default \" id=\"classId-Mammal-3\" transform=\"translate(716.03125, 369)\"><g class=\"basic label-container\"><path d=\"M-161.625 -75 L161.625 -75 L161.625 75 L-161.625 75\" stroke=\"none\" stroke-width=\"0\" fill=\"#ECECFF\" style=\"\"/><path d=\"M-161.625 -75 C-74.49459688694931 -75, 12.63580622610138 -75, 161.625 -75 M-161.625 -75 C-92.40358592737157 -75, -23.18217185474313 -75, 161.625 -75 M161.625 -75 C161.625 -35.25084393163076, 161.625 4.498312136738477, 161.625 75 M161.625 -75 C161.625 -40.44657331610292, 161.625 -5.893146632205841, 161.625 75 M161.625 75 C47.730196412217694 75, -66.16460717556461 75, -161.625 75 M161.625 75 C41.594021174058994 75, -78.43695765188201 75, -161.625 75 M-161.625 75 C-161.625 43.840811635784775, -161.625 12.68162327156955, -161.625 -75 M-161.625 75 C-161.625 27.29543302107475, -161.625 -20.4091339578505, -161.625 -75\" stroke=\"#9370DB\" stroke-width=\"1.3\" fill=\"none\" style=\"\"/></g><g class=\"annotation-group text\" transform=\"translate(0, -51)\"/><g class=\"label-group text\" transform=\"translate(-32.015625, -51)\"><g class=\"label\" style=\"font-weight: bolder\" transform=\"translate(0,-12)\"><foreignObject width=\"64.03125\" height=\"24\"><div xmlns=\"http://www.w3.org/1999/xhtml\" style=\"display: table-cell; white-space: nowrap; line-height: 1.5; max-width: 108px; text-align: center;\"><span class=\"nodeLabel markdown-node-label\" style=\"\"><p>Mammal</p></span></div></foreignObject></g></g><g class=\"members-group text\" transform=\"translate(-149.625, -3)\"/><g class=\"methods-group text\" transform=\"translate(-149.625, 27)\"><g class=\"label\" style=\"\" transform=\"translate(0,-12)\"><foreignObject width=\"267.234375\" height=\"24\"><div xmlns=\"http://www.w3.org/1999/xhtml\" style=\"display: table-cell; white-space: nowrap; line-height: 1.5; max-width: 295px; text-align: center;\"><span class=\"nodeLabel markdown-node-label\" style=\"\"><p>+make_sound() : : mammalian noises</p></span></div></foreignObject></g><g class=\"label\" style=\"\" transform=\"translate(0,12)\"><foreignObject width=\"121.359375\" height=\"24\"><div xmlns=\"http://www.w3.org/1999/xhtml\" style=\"display: table-cell; white-space: nowrap; line-height: 1.5; max-width: 168px; text-align: center;\"><span class=\"nodeLabel markdown-node-label\" style=\"\"><p>+move() : : walks</p></span></div></foreignObject></g></g><g class=\"divider\" style=\"\"><path d=\"M-161.625 -27 C-35.22620826636353 -27, 91.17258346727294 -27, 161.625 -27 M-161.625 -27 C-81.98368519676171 -27, -2.3423703935234244 -27, 161.625 -27\" stroke=\"#9370DB\" stroke-width=\"1.3\" fill=\"none\" style=\"\"/></g><g class=\"divider\" style=\"\"><path d=\"M-161.625 -3 C-62.47281118249995 -3, 36.679377635000094 -3, 161.625 -3 M-161.625 -3 C-67.38859575271788 -3, 26.847808494564248 -3, 161.625 -3\" stroke=\"#9370DB\" stroke-width=\"1.3\" fill=\"none\" style=\"\"/></g></g><g class=\"node undefined \" id=\"note0\" transform=\"translate(389.46875, 26)\"><g class=\"basic label-container\"><path d=\"M-157.1875 -18 L157.1875 -18 L157.1875 18 L-157.1875 18\" stroke=\"none\" stroke-width=\"0\" fill=\"#fff5ad\" style=\"fill:#fff5ad !important;stroke:#aaaa33 !important\"/><path d=\"M-157.1875 -18 C-93.86533128108654 -18, -30.54316256217308 -18, 157.1875 -18 M-157.1875 -18 C-44.403985792436046 -18, 68.37952841512791 -18, 157.1875 -18 M157.1875 -18 C157.1875 -5.110908835313339, 157.1875 7.7781823293733225, 157.1875 18 M157.1875 -18 C157.1875 -5.455050851402342, 157.1875 7.089898297195315, 157.1875 18 M157.1875 18 C61.956294451102025 18, -33.27491109779595 18, -157.1875 18 M157.1875 18 C50.77302716520292 18, -55.64144566959416 18, -157.1875 18 M-157.1875 18 C-157.1875 10.246724007449835, -157.1875 2.493448014899668, -157.1875 -18 M-157.1875 18 C-157.1875 9.89585822301965, -157.1875 1.791716446039299, -157.1875 -18\" stroke=\"#aaaa33\" stroke-width=\"1.3\" fill=\"none\" style=\"fill:#fff5ad !important;stroke:#aaaa33 !important\"/></g><g class=\"label\" style=\"text-align:left !important;white-space:nowrap !important\" transform=\"translate(-151.1875, -12)\"><rect/><foreignObject width=\"302.375\" height=\"24\"><div style=\"text-align: center; white-space: break-spaces; display: table; line-height: 1.5; max-width: 200px; width: 200px;\" xmlns=\"http://www.w3.org/1999/xhtml\"><span style=\"text-align:left !important;white-space:nowrap !important\" class=\"nodeLabel \"><p>Parent class defines the common interface</p></span></div></foreignObject></g></g></g></g></g></svg>"
            ]
          },
          "metadata": {}
        }
      ]
    },
    {
      "cell_type": "markdown",
      "source": [
        "# Building Your Own Virtual Zoo: Putting It All Together\n",
        "\n",
        "Now that we've learned about the core concepts of OOP—classes, objects, attributes, methods, constructors, encapsulation, inheritance, and polymorphism—let's see how they all work together to create a complete virtual zoo application. This example will demonstrate how OOP helps us organize our code into logical, reusable components.\n",
        "\n",
        "A **well-designed OOP system** organizes classes into relationships that mirror real-world interactions and maximize code reuse while minimizing complexity.\n",
        "\n",
        "Key design principles to follow:\n",
        "* Keep classes focused on a single responsibility\n",
        "* Use inheritance to represent \"is-a\" relationships\n",
        "* Use composition (having objects as attributes) for \"has-a\" relationships\n",
        "* Design interfaces (methods) that are consistent across related classes\n",
        "* Encapsulate internal details that don't need to be exposed\n",
        "\n",
        "Here's a simplified implementation of our virtual zoo:"
      ],
      "metadata": {
        "id": "SAjYJattb2XV"
      }
    },
    {
      "cell_type": "code",
      "source": [
        "# Base Animal class with common functionality\n",
        "class Animal:\n",
        "    def __init__(self, name, age, species):\n",
        "        self.name = name\n",
        "        self.age = age\n",
        "        self.species = species\n",
        "        self._health = 100\n",
        "        self._hunger = 0\n",
        "\n",
        "    def feed(self, food_amount):\n",
        "        self._hunger -= food_amount\n",
        "        if self._hunger < 0:\n",
        "            self._hunger = 0\n",
        "        return f\"{self.name} has been fed and has hunger level {self._hunger}\"\n",
        "\n",
        "    @property\n",
        "    def health(self):\n",
        "        return self._health\n",
        "\n",
        "# Zoo class to manage the collection of animals\n",
        "class Zoo:\n",
        "    def __init__(self, name, location):\n",
        "        self.name = name\n",
        "        self.location = location\n",
        "        self.animals = []\n",
        "\n",
        "    def add_animal(self, animal):\n",
        "        self.animals.append(animal)\n",
        "        return f\"{animal.name} has been added to {self.name} Zoo\"\n",
        "\n",
        "    def feed_all(self, food_amount):\n",
        "        results = []\n",
        "        for animal in self.animals:\n",
        "            results.append(animal.feed(food_amount))\n",
        "        return results\n",
        "\n",
        "    def find_animal(self, name):\n",
        "        for animal in self.animals:\n",
        "            if animal.name == name:\n",
        "                return animal\n",
        "        return None\n"
      ],
      "metadata": {
        "id": "leKU7uhecmPR"
      },
      "execution_count": null,
      "outputs": []
    },
    {
      "cell_type": "markdown",
      "source": [
        "Now let's create some specialized animal types:"
      ],
      "metadata": {
        "id": "HQ1fSvBpcpC9"
      }
    },
    {
      "cell_type": "code",
      "source": [
        "# Specialized animal types\n",
        "class Mammal(Animal):\n",
        "    def __init__(self, name, age, species, fur_color):\n",
        "        super().__init__(name, age, species)\n",
        "        self.fur_color = fur_color\n",
        "\n",
        "    def give_birth(self, baby_name):\n",
        "        baby = Mammal(baby_name, 0, self.species, self.fur_color)\n",
        "        return baby, f\"{self.name} has given birth to {baby_name}!\"\n",
        "\n",
        "class Bird(Animal):\n",
        "    def __init__(self, name, age, species, wingspan):\n",
        "        super().__init__(name, age, species)\n",
        "        self.wingspan = wingspan\n",
        "\n",
        "    def fly(self, distance):\n",
        "        return f\"{self.name} flies {distance} meters\"\n",
        "\n",
        "class Reptile(Animal):\n",
        "    def __init__(self, name, age, species, body_temperature):\n",
        "        super().__init__(name, age, species)\n",
        "        self.body_temperature = body_temperature\n",
        "\n",
        "    def bask(self, temperature_increase):\n",
        "        self.body_temperature += temperature_increase\n",
        "        return f\"{self.name} basks and increases body temperature to {self.body_temperature}°C\""
      ],
      "metadata": {
        "id": "HTeLiQbictnW"
      },
      "execution_count": null,
      "outputs": []
    },
    {
      "cell_type": "markdown",
      "source": [
        "Finally, let's see how all these classes work together:"
      ],
      "metadata": {
        "id": "P4OEW60Rcvzx"
      }
    },
    {
      "cell_type": "code",
      "source": [
        "# Create a zoo\n",
        "my_zoo = Zoo(\"Wildlife Wonders\", \"Python City\")\n",
        "\n",
        "# Create some animals\n",
        "lion = Mammal(\"Leo\", 5, \"Panthera leo\", \"golden\")\n",
        "parrot = Bird(\"Rio\", 3, \"Amazona aestiva\", 30)\n",
        "snake = Reptile(\"Slither\", 2, \"Python regius\", 24)\n",
        "\n",
        "# Add animals to the zoo\n",
        "print(my_zoo.add_animal(lion))   # Leo has been added to Wildlife Wonders Zoo\n",
        "print(my_zoo.add_animal(parrot)) # Rio has been added to Wildlife Wonders Zoo\n",
        "print(my_zoo.add_animal(snake))  # Slither has been added to Wildlife Wonders Zoo\n",
        "\n",
        "# Use polymorphism to feed all animals\n",
        "feeding_results = my_zoo.feed_all(50)\n",
        "for result in feeding_results:\n",
        "    print(result)\n",
        "\n",
        "# Use specialized methods\n",
        "baby_lion, message = lion.give_birth(\"Kiara\")\n",
        "print(message)  # Leo has given birth to Kiara!\n",
        "print(my_zoo.add_animal(baby_lion))  # Kiara has been added to Wildlife Wonders Zoo\n",
        "\n",
        "print(parrot.fly(100))  # Rio flies 100 meters\n",
        "print(snake.bask(5))    # Slither basks and increases body temperature to 29°C"
      ],
      "metadata": {
        "colab": {
          "base_uri": "https://localhost:8080/"
        },
        "id": "JEiWKf_9cxqS",
        "outputId": "beba5e30-4605-4935-fa10-72d0893aa652"
      },
      "execution_count": null,
      "outputs": [
        {
          "output_type": "stream",
          "name": "stdout",
          "text": [
            "Leo has been added to Wildlife Wonders Zoo\n",
            "Rio has been added to Wildlife Wonders Zoo\n",
            "Slither has been added to Wildlife Wonders Zoo\n",
            "Leo has been fed and has hunger level 0\n",
            "Rio has been fed and has hunger level 0\n",
            "Slither has been fed and has hunger level 0\n",
            "Leo has given birth to Kiara!\n",
            "Kiara has been added to Wildlife Wonders Zoo\n",
            "Rio flies 100 meters\n",
            "Slither basks and increases body temperature to 29°C\n"
          ]
        }
      ]
    },
    {
      "cell_type": "markdown",
      "source": [
        "\n",
        "Notice how this design allows us to:\n",
        "* Reuse common code through inheritance\n",
        "* Treat different animal types uniformly where appropriate (polymorphism)\n",
        "* Protect internal state with encapsulation\n",
        "* Model real-world relationships between entities\n",
        "\n",
        "This is the power of OOP—it gives us a structured way to design complex systems while keeping the code maintainable and intuitive."
      ],
      "metadata": {
        "id": "UJ9DETFXcz7K"
      }
    },
    {
      "cell_type": "code",
      "source": [
        "# @title\n",
        "mm(\"\"\"\n",
        "classDiagram\n",
        "    Zoo \"1\" o-- \"*\" Animal : contains\n",
        "    Animal <|-- Mammal\n",
        "    Animal <|-- Bird\n",
        "    Animal <|-- Reptile\n",
        "\n",
        "    class Zoo {\n",
        "        +name: string\n",
        "        +location: string\n",
        "        +animals: list\n",
        "        +__init__(name, location)\n",
        "        +add_animal(animal)\n",
        "        +feed_all(food_amount)\n",
        "        +find_animal(name)\n",
        "    }\n",
        "\n",
        "    class Animal {\n",
        "        +name: string\n",
        "        +age: int\n",
        "        +species: string\n",
        "        -_health: int\n",
        "        -_hunger: int\n",
        "        +__init__(name, age, species)\n",
        "        +feed(food_amount)\n",
        "        +health property getter\n",
        "    }\n",
        "\n",
        "    class Mammal {\n",
        "        +fur_color: string\n",
        "        +__init__(name, age, species, fur_color)\n",
        "        +give_birth(baby_name)\n",
        "    }\n",
        "\n",
        "    class Bird {\n",
        "        +wingspan: int\n",
        "        +__init__(name, age, species, wingspan)\n",
        "        +fly(distance)\n",
        "    }\n",
        "\n",
        "    class Reptile {\n",
        "        +body_temperature: float\n",
        "        +__init__(name, age, species, body_temperature)\n",
        "        +bask(temperature_increase)\n",
        "    }\"\"\")"
      ],
      "metadata": {
        "cellView": "form",
        "colab": {
          "base_uri": "https://localhost:8080/",
          "height": 881
        },
        "id": "Iq7gF3MQc8GB",
        "outputId": "97dd359d-3c1a-44a5-8eda-8f21a985d6b4"
      },
      "execution_count": null,
      "outputs": [
        {
          "output_type": "display_data",
          "data": {
            "text/plain": [
              "<IPython.core.display.HTML object>"
            ],
            "text/html": [
              "<svg id=\"mermaid-svg\" width=\"100%\" xmlns=\"http://www.w3.org/2000/svg\" class=\"classDiagram\" style=\"max-width: 1097.328125px;\" viewBox=\"0 0 1097.328125 860\" role=\"graphics-document document\" aria-roledescription=\"class\" xmlns:xlink=\"http://www.w3.org/1999/xlink\"><style xmlns=\"http://www.w3.org/1999/xhtml\">@import url(\"https://cdnjs.cloudflare.com/ajax/libs/font-awesome/6.7.2/css/all.min.css\");</style><style>#mermaid-svg{font-family:\"trebuchet ms\",verdana,arial,sans-serif;font-size:16px;fill:#333;}@keyframes edge-animation-frame{from{stroke-dashoffset:0;}}@keyframes dash{to{stroke-dashoffset:0;}}#mermaid-svg .edge-animation-slow{stroke-dasharray:9,5!important;stroke-dashoffset:900;animation:dash 50s linear infinite;stroke-linecap:round;}#mermaid-svg .edge-animation-fast{stroke-dasharray:9,5!important;stroke-dashoffset:900;animation:dash 20s linear infinite;stroke-linecap:round;}#mermaid-svg .error-icon{fill:#552222;}#mermaid-svg .error-text{fill:#552222;stroke:#552222;}#mermaid-svg .edge-thickness-normal{stroke-width:1px;}#mermaid-svg .edge-thickness-thick{stroke-width:3.5px;}#mermaid-svg .edge-pattern-solid{stroke-dasharray:0;}#mermaid-svg .edge-thickness-invisible{stroke-width:0;fill:none;}#mermaid-svg .edge-pattern-dashed{stroke-dasharray:3;}#mermaid-svg .edge-pattern-dotted{stroke-dasharray:2;}#mermaid-svg .marker{fill:#333333;stroke:#333333;}#mermaid-svg .marker.cross{stroke:#333333;}#mermaid-svg svg{font-family:\"trebuchet ms\",verdana,arial,sans-serif;font-size:16px;}#mermaid-svg p{margin:0;}#mermaid-svg g.classGroup text{fill:#9370DB;stroke:none;font-family:\"trebuchet ms\",verdana,arial,sans-serif;font-size:10px;}#mermaid-svg g.classGroup text .title{font-weight:bolder;}#mermaid-svg .nodeLabel,#mermaid-svg .edgeLabel{color:#131300;}#mermaid-svg .edgeLabel .label rect{fill:#ECECFF;}#mermaid-svg .label text{fill:#131300;}#mermaid-svg .labelBkg{background:#ECECFF;}#mermaid-svg .edgeLabel .label span{background:#ECECFF;}#mermaid-svg .classTitle{font-weight:bolder;}#mermaid-svg .node rect,#mermaid-svg .node circle,#mermaid-svg .node ellipse,#mermaid-svg .node polygon,#mermaid-svg .node path{fill:#ECECFF;stroke:#9370DB;stroke-width:1px;}#mermaid-svg .divider{stroke:#9370DB;stroke-width:1;}#mermaid-svg g.clickable{cursor:pointer;}#mermaid-svg g.classGroup rect{fill:#ECECFF;stroke:#9370DB;}#mermaid-svg g.classGroup line{stroke:#9370DB;stroke-width:1;}#mermaid-svg .classLabel .box{stroke:none;stroke-width:0;fill:#ECECFF;opacity:0.5;}#mermaid-svg .classLabel .label{fill:#9370DB;font-size:10px;}#mermaid-svg .relation{stroke:#333333;stroke-width:1;fill:none;}#mermaid-svg .dashed-line{stroke-dasharray:3;}#mermaid-svg .dotted-line{stroke-dasharray:1 2;}#mermaid-svg #compositionStart,#mermaid-svg .composition{fill:#333333!important;stroke:#333333!important;stroke-width:1;}#mermaid-svg #compositionEnd,#mermaid-svg .composition{fill:#333333!important;stroke:#333333!important;stroke-width:1;}#mermaid-svg #dependencyStart,#mermaid-svg .dependency{fill:#333333!important;stroke:#333333!important;stroke-width:1;}#mermaid-svg #dependencyStart,#mermaid-svg .dependency{fill:#333333!important;stroke:#333333!important;stroke-width:1;}#mermaid-svg #extensionStart,#mermaid-svg .extension{fill:transparent!important;stroke:#333333!important;stroke-width:1;}#mermaid-svg #extensionEnd,#mermaid-svg .extension{fill:transparent!important;stroke:#333333!important;stroke-width:1;}#mermaid-svg #aggregationStart,#mermaid-svg .aggregation{fill:transparent!important;stroke:#333333!important;stroke-width:1;}#mermaid-svg #aggregationEnd,#mermaid-svg .aggregation{fill:transparent!important;stroke:#333333!important;stroke-width:1;}#mermaid-svg #lollipopStart,#mermaid-svg .lollipop{fill:#ECECFF!important;stroke:#333333!important;stroke-width:1;}#mermaid-svg #lollipopEnd,#mermaid-svg .lollipop{fill:#ECECFF!important;stroke:#333333!important;stroke-width:1;}#mermaid-svg .edgeTerminals{font-size:11px;line-height:initial;}#mermaid-svg .classTitleText{text-anchor:middle;font-size:18px;fill:#333;}#mermaid-svg :root{--mermaid-font-family:\"trebuchet ms\",verdana,arial,sans-serif;}</style><g><defs><marker id=\"mermaid-svg_class-aggregationStart\" class=\"marker aggregation class\" refX=\"18\" refY=\"7\" markerWidth=\"190\" markerHeight=\"240\" orient=\"auto\"><path d=\"M 18,7 L9,13 L1,7 L9,1 Z\"/></marker></defs><defs><marker id=\"mermaid-svg_class-aggregationEnd\" class=\"marker aggregation class\" refX=\"1\" refY=\"7\" markerWidth=\"20\" markerHeight=\"28\" orient=\"auto\"><path d=\"M 18,7 L9,13 L1,7 L9,1 Z\"/></marker></defs><defs><marker id=\"mermaid-svg_class-extensionStart\" class=\"marker extension class\" refX=\"18\" refY=\"7\" markerWidth=\"190\" markerHeight=\"240\" orient=\"auto\"><path d=\"M 1,7 L18,13 V 1 Z\"/></marker></defs><defs><marker id=\"mermaid-svg_class-extensionEnd\" class=\"marker extension class\" refX=\"1\" refY=\"7\" markerWidth=\"20\" markerHeight=\"28\" orient=\"auto\"><path d=\"M 1,1 V 13 L18,7 Z\"/></marker></defs><defs><marker id=\"mermaid-svg_class-compositionStart\" class=\"marker composition class\" refX=\"18\" refY=\"7\" markerWidth=\"190\" markerHeight=\"240\" orient=\"auto\"><path d=\"M 18,7 L9,13 L1,7 L9,1 Z\"/></marker></defs><defs><marker id=\"mermaid-svg_class-compositionEnd\" class=\"marker composition class\" refX=\"1\" refY=\"7\" markerWidth=\"20\" markerHeight=\"28\" orient=\"auto\"><path d=\"M 18,7 L9,13 L1,7 L9,1 Z\"/></marker></defs><defs><marker id=\"mermaid-svg_class-dependencyStart\" class=\"marker dependency class\" refX=\"6\" refY=\"7\" markerWidth=\"190\" markerHeight=\"240\" orient=\"auto\"><path d=\"M 5,7 L9,13 L1,7 L9,1 Z\"/></marker></defs><defs><marker id=\"mermaid-svg_class-dependencyEnd\" class=\"marker dependency class\" refX=\"13\" refY=\"7\" markerWidth=\"20\" markerHeight=\"28\" orient=\"auto\"><path d=\"M 18,7 L9,13 L14,7 L9,1 Z\"/></marker></defs><defs><marker id=\"mermaid-svg_class-lollipopStart\" class=\"marker lollipop class\" refX=\"13\" refY=\"7\" markerWidth=\"190\" markerHeight=\"240\" orient=\"auto\"><circle stroke=\"black\" fill=\"transparent\" cx=\"7\" cy=\"7\" r=\"6\"/></marker></defs><defs><marker id=\"mermaid-svg_class-lollipopEnd\" class=\"marker lollipop class\" refX=\"1\" refY=\"7\" markerWidth=\"190\" markerHeight=\"240\" orient=\"auto\"><circle stroke=\"black\" fill=\"transparent\" cx=\"7\" cy=\"7\" r=\"6\"/></marker></defs><g class=\"root\"><g class=\"clusters\"/><g class=\"edgePaths\"><path d=\"M517.531,290L517.531,293.167C517.531,296.333,517.531,302.667,517.531,312C517.531,321.333,517.531,333.667,517.531,339.833L517.531,346\" id=\"id_Zoo_Animal_1\" class=\" edge-thickness-normal edge-pattern-solid relation\" style=\";\" marker-start=\"url(#mermaid-svg_class-aggregationStart)\"/><path d=\"M384.572,553.372L347.635,570.976C310.699,588.581,236.826,623.791,199.89,645.562C162.953,667.333,162.953,675.667,162.953,679.833L162.953,684\" id=\"id_Animal_Mammal_2\" class=\" edge-thickness-normal edge-pattern-solid relation\" style=\";\" marker-start=\"url(#mermaid-svg_class-extensionStart)\"/><path d=\"M517.531,652L517.531,653.167C517.531,654.333,517.531,656.667,517.531,662C517.531,667.333,517.531,675.667,517.531,679.833L517.531,684\" id=\"id_Animal_Bird_3\" class=\" edge-thickness-normal edge-pattern-solid relation\" style=\";\" marker-start=\"url(#mermaid-svg_class-extensionStart)\"/><path d=\"M650.729,548.361L692.815,566.801C734.9,585.241,819.071,622.12,861.157,644.727C903.242,667.333,903.242,675.667,903.242,679.833L903.242,684\" id=\"id_Animal_Reptile_4\" class=\" edge-thickness-normal edge-pattern-solid relation\" style=\";\" marker-start=\"url(#mermaid-svg_class-extensionStart)\"/></g><g class=\"edgeLabels\"><g class=\"edgeLabel\" transform=\"translate(517.53125, 309)\"><g class=\"label\" transform=\"translate(-29.796875, -12)\"><foreignObject width=\"59.59375\" height=\"24\"><div style=\"display: table-cell; white-space: nowrap; line-height: 1.5; max-width: 200px; text-align: center;\" xmlns=\"http://www.w3.org/1999/xhtml\" class=\"labelBkg\"><span style=\";display: inline-block\" class=\"edgeLabel \"><p>contains</p></span></div></foreignObject></g></g><g class=\"edgeLabel\"><g class=\"label\" transform=\"translate(0, -12)\"><foreignObject width=\"0\" height=\"24\"><div style=\"display: table-cell; white-space: nowrap; line-height: 1.5; max-width: 200px; text-align: center;\" xmlns=\"http://www.w3.org/1999/xhtml\" class=\"labelBkg\"><span style=\";display: inline-block\" class=\"edgeLabel \"></span></div></foreignObject></g></g><g class=\"edgeLabel\"><g class=\"label\" transform=\"translate(0, -12)\"><foreignObject width=\"0\" height=\"24\"><div style=\"display: table-cell; white-space: nowrap; line-height: 1.5; max-width: 200px; text-align: center;\" xmlns=\"http://www.w3.org/1999/xhtml\" class=\"labelBkg\"><span style=\";display: inline-block\" class=\"edgeLabel \"></span></div></foreignObject></g></g><g class=\"edgeLabel\"><g class=\"label\" transform=\"translate(0, -12)\"><foreignObject width=\"0\" height=\"24\"><div style=\"display: table-cell; white-space: nowrap; line-height: 1.5; max-width: 200px; text-align: center;\" xmlns=\"http://www.w3.org/1999/xhtml\" class=\"labelBkg\"><span style=\";display: inline-block\" class=\"edgeLabel \"></span></div></foreignObject></g></g><g class=\"edgeTerminals\" transform=\"translate(502.53125, 289.5)\"><g class=\"inner\" transform=\"translate(0, 0)\"><foreignObject style=\"width: 9px; height: 12px;\"><div style=\"display: inline-block; padding-right: 1px; white-space: nowrap;\" xmlns=\"http://www.w3.org/1999/xhtml\"><span class=\"edgeLabel\" style=\";display: inline-block\">1</span></div></foreignObject></g></g><g class=\"edgeTerminals\" transform=\"translate(527.53125, 323.5)\"><g class=\"inner\" transform=\"translate(0, 0)\"/><foreignObject style=\"width: 9px; height: 12px;\"><div style=\"display: inline-block; padding-right: 1px; white-space: nowrap;\" xmlns=\"http://www.w3.org/1999/xhtml\"><span class=\"edgeLabel\" style=\";display: inline-block\">*</span></div></foreignObject></g></g><g class=\"nodes\"><g class=\"node default \" id=\"classId-Zoo-0\" transform=\"translate(517.53125, 140)\"><g class=\"basic label-container\"><path d=\"M-104.05859375 -132 L104.05859375 -132 L104.05859375 132 L-104.05859375 132\" stroke=\"none\" stroke-width=\"0\" fill=\"#ECECFF\" style=\"\"/><path d=\"M-104.05859375 -132 C-46.22122274806072 -132, 11.616148253878563 -132, 104.05859375 -132 M-104.05859375 -132 C-45.31228686234831 -132, 13.434020025303383 -132, 104.05859375 -132 M104.05859375 -132 C104.05859375 -56.020858813808076, 104.05859375 19.95828237238385, 104.05859375 132 M104.05859375 -132 C104.05859375 -41.44504321495437, 104.05859375 49.109913570091265, 104.05859375 132 M104.05859375 132 C52.444586345456486 132, 0.8305789409129716 132, -104.05859375 132 M104.05859375 132 C24.290064483750967 132, -55.478464782498065 132, -104.05859375 132 M-104.05859375 132 C-104.05859375 66.74991344160941, -104.05859375 1.499826883218816, -104.05859375 -132 M-104.05859375 132 C-104.05859375 35.92783567373294, -104.05859375 -60.144328652534114, -104.05859375 -132\" stroke=\"#9370DB\" stroke-width=\"1.3\" fill=\"none\" style=\"\"/></g><g class=\"annotation-group text\" transform=\"translate(0, -108)\"/><g class=\"label-group text\" transform=\"translate(-14.6640625, -108)\"><g class=\"label\" style=\"font-weight: bolder\" transform=\"translate(0,-12)\"><foreignObject width=\"29.328125\" height=\"24\"><div xmlns=\"http://www.w3.org/1999/xhtml\" style=\"display: table-cell; white-space: nowrap; line-height: 1.5; max-width: 76px; text-align: center;\"><span class=\"nodeLabel markdown-node-label\" style=\"\"><p>Zoo</p></span></div></foreignObject></g></g><g class=\"members-group text\" transform=\"translate(-92.05859375, -60)\"><g class=\"label\" style=\"\" transform=\"translate(0,-12)\"><foreignObject width=\"97.390625\" height=\"24\"><div xmlns=\"http://www.w3.org/1999/xhtml\" style=\"display: table-cell; white-space: nowrap; line-height: 1.5; max-width: 143px; text-align: center;\"><span class=\"nodeLabel markdown-node-label\" style=\"\"><p>+name: string</p></span></div></foreignObject></g><g class=\"label\" style=\"\" transform=\"translate(0,12)\"><foreignObject width=\"112.515625\" height=\"24\"><div xmlns=\"http://www.w3.org/1999/xhtml\" style=\"display: table-cell; white-space: nowrap; line-height: 1.5; max-width: 160px; text-align: center;\"><span class=\"nodeLabel markdown-node-label\" style=\"\"><p>+location: string</p></span></div></foreignObject></g><g class=\"label\" style=\"\" transform=\"translate(0,36)\"><foreignObject width=\"92.921875\" height=\"24\"><div xmlns=\"http://www.w3.org/1999/xhtml\" style=\"display: table-cell; white-space: nowrap; line-height: 1.5; max-width: 142px; text-align: center;\"><span class=\"nodeLabel markdown-node-label\" style=\"\"><p>+animals: list</p></span></div></foreignObject></g></g><g class=\"methods-group text\" transform=\"translate(-92.05859375, 36)\"><g class=\"label\" style=\"\" transform=\"translate(0,-12)\"><foreignObject width=\"148.0625\" height=\"24\"><div xmlns=\"http://www.w3.org/1999/xhtml\" style=\"display: table-cell; white-space: nowrap; line-height: 1.5; max-width: 222px; text-align: center;\"><span class=\"nodeLabel markdown-node-label\" style=\"\"><p>+<strong>init</strong>(name, location)</p></span></div></foreignObject></g><g class=\"label\" style=\"\" transform=\"translate(0,12)\"><foreignObject width=\"149.859375\" height=\"24\"><div xmlns=\"http://www.w3.org/1999/xhtml\" style=\"display: table-cell; white-space: nowrap; line-height: 1.5; max-width: 192px; text-align: center;\"><span class=\"nodeLabel markdown-node-label\" style=\"\"><p>+add_animal(animal)</p></span></div></foreignObject></g><g class=\"label\" style=\"\" transform=\"translate(0,36)\"><foreignObject width=\"169.453125\" height=\"24\"><div xmlns=\"http://www.w3.org/1999/xhtml\" style=\"display: table-cell; white-space: nowrap; line-height: 1.5; max-width: 211px; text-align: center;\"><span class=\"nodeLabel markdown-node-label\" style=\"\"><p>+feed_all(food_amount)</p></span></div></foreignObject></g><g class=\"label\" style=\"\" transform=\"translate(0,60)\"><foreignObject width=\"141.859375\" height=\"24\"><div xmlns=\"http://www.w3.org/1999/xhtml\" style=\"display: table-cell; white-space: nowrap; line-height: 1.5; max-width: 186px; text-align: center;\"><span class=\"nodeLabel markdown-node-label\" style=\"\"><p>+find_animal(name)</p></span></div></foreignObject></g></g><g class=\"divider\" style=\"\"><path d=\"M-104.05859375 -84 C-57.648152803541535 -84, -11.23771185708307 -84, 104.05859375 -84 M-104.05859375 -84 C-56.06417542120868 -84, -8.069757092417362 -84, 104.05859375 -84\" stroke=\"#9370DB\" stroke-width=\"1.3\" fill=\"none\" style=\"\"/></g><g class=\"divider\" style=\"\"><path d=\"M-104.05859375 12 C-55.36849424731109 12, -6.678394744622182 12, 104.05859375 12 M-104.05859375 12 C-21.08062226094988 12, 61.89734922810024 12, 104.05859375 12\" stroke=\"#9370DB\" stroke-width=\"1.3\" fill=\"none\" style=\"\"/></g></g><g class=\"node default \" id=\"classId-Animal-1\" transform=\"translate(517.53125, 490)\"><g class=\"basic label-container\"><path d=\"M-116.7109375 -144 L116.7109375 -144 L116.7109375 144 L-116.7109375 144\" stroke=\"none\" stroke-width=\"0\" fill=\"#ECECFF\" style=\"\"/><path d=\"M-116.7109375 -144 C-31.363587724281842 -144, 53.983762051436315 -144, 116.7109375 -144 M-116.7109375 -144 C-65.32298875639944 -144, -13.935040012798865 -144, 116.7109375 -144 M116.7109375 -144 C116.7109375 -82.34574156182633, 116.7109375 -20.69148312365266, 116.7109375 144 M116.7109375 -144 C116.7109375 -63.968117921906, 116.7109375 16.063764156188, 116.7109375 144 M116.7109375 144 C23.457906417969156 144, -69.79512466406169 144, -116.7109375 144 M116.7109375 144 C54.745149648729516 144, -7.220638202540968 144, -116.7109375 144 M-116.7109375 144 C-116.7109375 70.31798774508741, -116.7109375 -3.3640245098251853, -116.7109375 -144 M-116.7109375 144 C-116.7109375 47.21418967961907, -116.7109375 -49.571620640761864, -116.7109375 -144\" stroke=\"#9370DB\" stroke-width=\"1.3\" fill=\"none\" style=\"\"/></g><g class=\"annotation-group text\" transform=\"translate(0, -120)\"/><g class=\"label-group text\" transform=\"translate(-26.671875, -120)\"><g class=\"label\" style=\"font-weight: bolder\" transform=\"translate(0,-12)\"><foreignObject width=\"53.34375\" height=\"24\"><div xmlns=\"http://www.w3.org/1999/xhtml\" style=\"display: table-cell; white-space: nowrap; line-height: 1.5; max-width: 99px; text-align: center;\"><span class=\"nodeLabel markdown-node-label\" style=\"\"><p>Animal</p></span></div></foreignObject></g></g><g class=\"members-group text\" transform=\"translate(-104.7109375, -72)\"><g class=\"label\" style=\"\" transform=\"translate(0,-12)\"><foreignObject width=\"97.390625\" height=\"24\"><div xmlns=\"http://www.w3.org/1999/xhtml\" style=\"display: table-cell; white-space: nowrap; line-height: 1.5; max-width: 143px; text-align: center;\"><span class=\"nodeLabel markdown-node-label\" style=\"\"><p>+name: string</p></span></div></foreignObject></g><g class=\"label\" style=\"\" transform=\"translate(0,12)\"><foreignObject width=\"61.828125\" height=\"24\"><div xmlns=\"http://www.w3.org/1999/xhtml\" style=\"display: table-cell; white-space: nowrap; line-height: 1.5; max-width: 112px; text-align: center;\"><span class=\"nodeLabel markdown-node-label\" style=\"\"><p>+age: int</p></span></div></foreignObject></g><g class=\"label\" style=\"\" transform=\"translate(0,36)\"><foreignObject width=\"111.609375\" height=\"24\"><div xmlns=\"http://www.w3.org/1999/xhtml\" style=\"display: table-cell; white-space: nowrap; line-height: 1.5; max-width: 155px; text-align: center;\"><span class=\"nodeLabel markdown-node-label\" style=\"\"><p>+species: string</p></span></div></foreignObject></g><g class=\"label\" style=\"\" transform=\"translate(0,60)\"><foreignObject width=\"83.609375\" height=\"24\"><div xmlns=\"http://www.w3.org/1999/xhtml\" style=\"display: table-cell; white-space: nowrap; line-height: 1.5; max-width: 139px; text-align: center;\"><span class=\"nodeLabel markdown-node-label\" style=\"\"><p>-_health: int</p></span></div></foreignObject></g><g class=\"label\" style=\"\" transform=\"translate(0,84)\"><foreignObject width=\"89.84375\" height=\"24\"><div xmlns=\"http://www.w3.org/1999/xhtml\" style=\"display: table-cell; white-space: nowrap; line-height: 1.5; max-width: 138px; text-align: center;\"><span class=\"nodeLabel markdown-node-label\" style=\"\"><p>-_hunger: int</p></span></div></foreignObject></g><g class=\"label\" style=\"\" transform=\"translate(0,108)\"><foreignObject width=\"161.4375\" height=\"24\"><div xmlns=\"http://www.w3.org/1999/xhtml\" style=\"display: table-cell; white-space: nowrap; line-height: 1.5; max-width: 202px; text-align: center;\"><span class=\"nodeLabel markdown-node-label\" style=\"\"><p>+health property getter</p></span></div></foreignObject></g></g><g class=\"methods-group text\" transform=\"translate(-104.7109375, 96)\"><g class=\"label\" style=\"\" transform=\"translate(0,-12)\"><foreignObject width=\"182.75\" height=\"24\"><div xmlns=\"http://www.w3.org/1999/xhtml\" style=\"display: table-cell; white-space: nowrap; line-height: 1.5; max-width: 247px; text-align: center;\"><span class=\"nodeLabel markdown-node-label\" style=\"\"><p>+<strong>init</strong>(name, age, species)</p></span></div></foreignObject></g><g class=\"label\" style=\"\" transform=\"translate(0,12)\"><foreignObject width=\"144.546875\" height=\"24\"><div xmlns=\"http://www.w3.org/1999/xhtml\" style=\"display: table-cell; white-space: nowrap; line-height: 1.5; max-width: 187px; text-align: center;\"><span class=\"nodeLabel markdown-node-label\" style=\"\"><p>+feed(food_amount)</p></span></div></foreignObject></g></g><g class=\"divider\" style=\"\"><path d=\"M-116.7109375 -96 C-25.82552797687974 -96, 65.05988154624052 -96, 116.7109375 -96 M-116.7109375 -96 C-57.980070995280066 -96, 0.7507955094398682 -96, 116.7109375 -96\" stroke=\"#9370DB\" stroke-width=\"1.3\" fill=\"none\" style=\"\"/></g><g class=\"divider\" style=\"\"><path d=\"M-116.7109375 72 C-39.202618581269164 72, 38.30570033746167 72, 116.7109375 72 M-116.7109375 72 C-41.55395002838411 72, 33.603037443231784 72, 116.7109375 72\" stroke=\"#9370DB\" stroke-width=\"1.3\" fill=\"none\" style=\"\"/></g></g><g class=\"node default \" id=\"classId-Mammal-2\" transform=\"translate(162.953125, 768)\"><g class=\"basic label-container\"><path d=\"M-154.953125 -84 L154.953125 -84 L154.953125 84 L-154.953125 84\" stroke=\"none\" stroke-width=\"0\" fill=\"#ECECFF\" style=\"\"/><path d=\"M-154.953125 -84 C-35.129789695382584 -84, 84.69354560923483 -84, 154.953125 -84 M-154.953125 -84 C-43.295639920306215 -84, 68.36184515938757 -84, 154.953125 -84 M154.953125 -84 C154.953125 -23.370434175332747, 154.953125 37.259131649334506, 154.953125 84 M154.953125 -84 C154.953125 -30.052908286364143, 154.953125 23.894183427271713, 154.953125 84 M154.953125 84 C35.750049898122285 84, -83.45302520375543 84, -154.953125 84 M154.953125 84 C32.332458345365254 84, -90.28820830926949 84, -154.953125 84 M-154.953125 84 C-154.953125 18.214265288036955, -154.953125 -47.57146942392609, -154.953125 -84 M-154.953125 84 C-154.953125 43.46964226670861, -154.953125 2.939284533417222, -154.953125 -84\" stroke=\"#9370DB\" stroke-width=\"1.3\" fill=\"none\" style=\"\"/></g><g class=\"annotation-group text\" transform=\"translate(0, -60)\"/><g class=\"label-group text\" transform=\"translate(-32.015625, -60)\"><g class=\"label\" style=\"font-weight: bolder\" transform=\"translate(0,-12)\"><foreignObject width=\"64.03125\" height=\"24\"><div xmlns=\"http://www.w3.org/1999/xhtml\" style=\"display: table-cell; white-space: nowrap; line-height: 1.5; max-width: 108px; text-align: center;\"><span class=\"nodeLabel markdown-node-label\" style=\"\"><p>Mammal</p></span></div></foreignObject></g></g><g class=\"members-group text\" transform=\"translate(-142.953125, -12)\"><g class=\"label\" style=\"\" transform=\"translate(0,-12)\"><foreignObject width=\"119.609375\" height=\"24\"><div xmlns=\"http://www.w3.org/1999/xhtml\" style=\"display: table-cell; white-space: nowrap; line-height: 1.5; max-width: 168px; text-align: center;\"><span class=\"nodeLabel markdown-node-label\" style=\"\"><p>+fur_color: string</p></span></div></foreignObject></g></g><g class=\"methods-group text\" transform=\"translate(-142.953125, 36)\"><g class=\"label\" style=\"\" transform=\"translate(0,-12)\"><foreignObject width=\"253.890625\" height=\"24\"><div xmlns=\"http://www.w3.org/1999/xhtml\" style=\"display: table-cell; white-space: nowrap; line-height: 1.5; max-width: 314px; text-align: center;\"><span class=\"nodeLabel markdown-node-label\" style=\"\"><p>+<strong>init</strong>(name, age, species, fur_color)</p></span></div></foreignObject></g><g class=\"label\" style=\"\" transform=\"translate(0,12)\"><foreignObject width=\"173\" height=\"24\"><div xmlns=\"http://www.w3.org/1999/xhtml\" style=\"display: table-cell; white-space: nowrap; line-height: 1.5; max-width: 214px; text-align: center;\"><span class=\"nodeLabel markdown-node-label\" style=\"\"><p>+give_birth(baby_name)</p></span></div></foreignObject></g></g><g class=\"divider\" style=\"\"><path d=\"M-154.953125 -36 C-35.81102685833332 -36, 83.33107128333336 -36, 154.953125 -36 M-154.953125 -36 C-69.19758780420788 -36, 16.55794939158423 -36, 154.953125 -36\" stroke=\"#9370DB\" stroke-width=\"1.3\" fill=\"none\" style=\"\"/></g><g class=\"divider\" style=\"\"><path d=\"M-154.953125 12 C-47.57597143778192 12, 59.80118212443617 12, 154.953125 12 M-154.953125 12 C-46.58678417133086 12, 61.779556657338276 12, 154.953125 12\" stroke=\"#9370DB\" stroke-width=\"1.3\" fill=\"none\" style=\"\"/></g></g><g class=\"node default \" id=\"classId-Bird-3\" transform=\"translate(517.53125, 768)\"><g class=\"basic label-container\"><path d=\"M-149.625 -84 L149.625 -84 L149.625 84 L-149.625 84\" stroke=\"none\" stroke-width=\"0\" fill=\"#ECECFF\" style=\"\"/><path d=\"M-149.625 -84 C-70.5377809894781 -84, 8.549438021043812 -84, 149.625 -84 M-149.625 -84 C-44.05238568954249 -84, 61.52022862091502 -84, 149.625 -84 M149.625 -84 C149.625 -38.02959810948448, 149.625 7.940803781031036, 149.625 84 M149.625 -84 C149.625 -40.66891752735813, 149.625 2.6621649452837346, 149.625 84 M149.625 84 C89.47726655297527 84, 29.329533105950546 84, -149.625 84 M149.625 84 C38.574753918403374 84, -72.47549216319325 84, -149.625 84 M-149.625 84 C-149.625 26.40201545227967, -149.625 -31.19596909544066, -149.625 -84 M-149.625 84 C-149.625 24.48488335162432, -149.625 -35.03023329675136, -149.625 -84\" stroke=\"#9370DB\" stroke-width=\"1.3\" fill=\"none\" style=\"\"/></g><g class=\"annotation-group text\" transform=\"translate(0, -60)\"/><g class=\"label-group text\" transform=\"translate(-16, -60)\"><g class=\"label\" style=\"font-weight: bolder\" transform=\"translate(0,-12)\"><foreignObject width=\"32\" height=\"24\"><div xmlns=\"http://www.w3.org/1999/xhtml\" style=\"display: table-cell; white-space: nowrap; line-height: 1.5; max-width: 78px; text-align: center;\"><span class=\"nodeLabel markdown-node-label\" style=\"\"><p>Bird</p></span></div></foreignObject></g></g><g class=\"members-group text\" transform=\"translate(-137.625, -12)\"><g class=\"label\" style=\"\" transform=\"translate(0,-12)\"><foreignObject width=\"102.734375\" height=\"24\"><div xmlns=\"http://www.w3.org/1999/xhtml\" style=\"display: table-cell; white-space: nowrap; line-height: 1.5; max-width: 151px; text-align: center;\"><span class=\"nodeLabel markdown-node-label\" style=\"\"><p>+wingspan: int</p></span></div></foreignObject></g></g><g class=\"methods-group text\" transform=\"translate(-137.625, 36)\"><g class=\"label\" style=\"\" transform=\"translate(0,-12)\"><foreignObject width=\"259.25\" height=\"24\"><div xmlns=\"http://www.w3.org/1999/xhtml\" style=\"display: table-cell; white-space: nowrap; line-height: 1.5; max-width: 316px; text-align: center;\"><span class=\"nodeLabel markdown-node-label\" style=\"\"><p>+<strong>init</strong>(name, age, species, wingspan)</p></span></div></foreignObject></g><g class=\"label\" style=\"\" transform=\"translate(0,12)\"><foreignObject width=\"95.59375\" height=\"24\"><div xmlns=\"http://www.w3.org/1999/xhtml\" style=\"display: table-cell; white-space: nowrap; line-height: 1.5; max-width: 144px; text-align: center;\"><span class=\"nodeLabel markdown-node-label\" style=\"\"><p>+fly(distance)</p></span></div></foreignObject></g></g><g class=\"divider\" style=\"\"><path d=\"M-149.625 -36 C-78.02551853127724 -36, -6.426037062554485 -36, 149.625 -36 M-149.625 -36 C-64.61971401119587 -36, 20.385571977608265 -36, 149.625 -36\" stroke=\"#9370DB\" stroke-width=\"1.3\" fill=\"none\" style=\"\"/></g><g class=\"divider\" style=\"\"><path d=\"M-149.625 12 C-81.44847801996677 12, -13.271956039933542 12, 149.625 12 M-149.625 12 C-71.18282866363367 12, 7.259342672732657 12, 149.625 12\" stroke=\"#9370DB\" stroke-width=\"1.3\" fill=\"none\" style=\"\"/></g></g><g class=\"node default \" id=\"classId-Reptile-4\" transform=\"translate(903.2421875, 768)\"><g class=\"basic label-container\"><path d=\"M-186.0859375 -84 L186.0859375 -84 L186.0859375 84 L-186.0859375 84\" stroke=\"none\" stroke-width=\"0\" fill=\"#ECECFF\" style=\"\"/><path d=\"M-186.0859375 -84 C-90.87956787235737 -84, 4.32680175528526 -84, 186.0859375 -84 M-186.0859375 -84 C-108.92939919727309 -84, -31.77286089454617 -84, 186.0859375 -84 M186.0859375 -84 C186.0859375 -48.86588967187815, 186.0859375 -13.731779343756301, 186.0859375 84 M186.0859375 -84 C186.0859375 -31.3213775369764, 186.0859375 21.3572449260472, 186.0859375 84 M186.0859375 84 C97.99910502994044 84, 9.912272559880876 84, -186.0859375 84 M186.0859375 84 C64.76087259519198 84, -56.56419230961603 84, -186.0859375 84 M-186.0859375 84 C-186.0859375 20.009752640627553, -186.0859375 -43.98049471874489, -186.0859375 -84 M-186.0859375 84 C-186.0859375 27.824253505311816, -186.0859375 -28.351492989376368, -186.0859375 -84\" stroke=\"#9370DB\" stroke-width=\"1.3\" fill=\"none\" style=\"\"/></g><g class=\"annotation-group text\" transform=\"translate(0, -60)\"/><g class=\"label-group text\" transform=\"translate(-26.671875, -60)\"><g class=\"label\" style=\"font-weight: bolder\" transform=\"translate(0,-12)\"><foreignObject width=\"53.34375\" height=\"24\"><div xmlns=\"http://www.w3.org/1999/xhtml\" style=\"display: table-cell; white-space: nowrap; line-height: 1.5; max-width: 96px; text-align: center;\"><span class=\"nodeLabel markdown-node-label\" style=\"\"><p>Reptile</p></span></div></foreignObject></g></g><g class=\"members-group text\" transform=\"translate(-174.0859375, -12)\"><g class=\"label\" style=\"\" transform=\"translate(0,-12)\"><foreignObject width=\"178.34375\" height=\"24\"><div xmlns=\"http://www.w3.org/1999/xhtml\" style=\"display: table-cell; white-space: nowrap; line-height: 1.5; max-width: 218px; text-align: center;\"><span class=\"nodeLabel markdown-node-label\" style=\"\"><p>+body_temperature: float</p></span></div></foreignObject></g></g><g class=\"methods-group text\" transform=\"translate(-174.0859375, 36)\"><g class=\"label\" style=\"\" transform=\"translate(0,-12)\"><foreignObject width=\"321.5\" height=\"24\"><div xmlns=\"http://www.w3.org/1999/xhtml\" style=\"display: table-cell; white-space: nowrap; line-height: 1.5; max-width: 371px; text-align: center;\"><span class=\"nodeLabel markdown-node-label\" style=\"\"><p>+<strong>init</strong>(name, age, species, body_temperature)</p></span></div></foreignObject></g><g class=\"label\" style=\"\" transform=\"translate(0,12)\"><foreignObject width=\"209.4375\" height=\"24\"><div xmlns=\"http://www.w3.org/1999/xhtml\" style=\"display: table-cell; white-space: nowrap; line-height: 1.5; max-width: 240px; text-align: center;\"><span class=\"nodeLabel markdown-node-label\" style=\"\"><p>+bask(temperature_increase)</p></span></div></foreignObject></g></g><g class=\"divider\" style=\"\"><path d=\"M-186.0859375 -36 C-67.82540775526226 -36, 50.435121989475476 -36, 186.0859375 -36 M-186.0859375 -36 C-81.82039206634514 -36, 22.44515336730973 -36, 186.0859375 -36\" stroke=\"#9370DB\" stroke-width=\"1.3\" fill=\"none\" style=\"\"/></g><g class=\"divider\" style=\"\"><path d=\"M-186.0859375 12 C-64.71854337979676 12, 56.64885074040649 12, 186.0859375 12 M-186.0859375 12 C-89.37564495071325 12, 7.334647598573497 12, 186.0859375 12\" stroke=\"#9370DB\" stroke-width=\"1.3\" fill=\"none\" style=\"\"/></g></g></g></g></g></svg>"
            ]
          },
          "metadata": {}
        }
      ]
    },
    {
      "cell_type": "markdown",
      "source": [
        "# Beyond the Basics: Where OOP Takes Us Next\n",
        "\n",
        "Congratulations! You've learned the fundamental concepts of Object-Oriented Programming. You now understand how to model real-world entities as classes and objects, how to organize code using inheritance, how to protect data with encapsulation, and how to design flexible systems with polymorphism. These skills will serve as a strong foundation as you continue your programming journey.\n",
        "\n",
        "**Object-Oriented Programming** is not just a set of techniques but a powerful way of thinking about and organizing code that will help you tackle increasingly complex programming challenges.\n",
        "\n",
        "As you continue learning, here are some advanced OOP concepts to explore:\n",
        "* **Abstract classes** provide templates for other classes but cannot be instantiated themselves\n",
        "* **Interfaces** define a contract that classes must follow, ensuring consistent behavior\n",
        "* **Multiple inheritance** allows a class to inherit from more than one parent class\n",
        "* **Composition** uses object relationships (has-a) as an alternative to inheritance (is-a)\n",
        "* **Design patterns** offer reusable solutions to common programming problems\n",
        "\n",
        "| Concept | Description | Python Implementation |\n",
        "|---------|-------------|----------------------|\n",
        "| Abstract Classes | Classes that can't be instantiated directly | Using the `abc` module |\n",
        "| Multiple Inheritance | Inheriting from more than one class | Directly supported in Python syntax |\n",
        "| Method Resolution Order | How Python resolves method calls with multiple inheritance | The C3 Linearization algorithm |\n",
        "| Class Decorators | Adding functionality to classes | Using the `@` syntax with classes |\n",
        "| Metaclasses | Classes that create classes | Creating a subclass of `type` |\n",
        "\n",
        "As you expand your OOP skills, remember these best practices:\n",
        "* Keep your classes focused on a single responsibility\n",
        "* Favor composition over inheritance when appropriate\n",
        "* Design for change—programs always evolve over time\n",
        "* Write clear documentation for your classes and methods\n",
        "* Test your classes thoroughly to ensure they behave as expected\n",
        "\n",
        "```python\n",
        "# A glimpse of more advanced OOP concepts\n",
        "from abc import ABC, abstractmethod\n",
        "\n",
        "# Abstract base class\n",
        "class AnimalBehavior(ABC):\n",
        "    @abstractmethod\n",
        "    def make_sound(self):\n",
        "        pass\n",
        "    \n",
        "    @abstractmethod\n",
        "    def move(self):\n",
        "        pass\n",
        "\n",
        "# Interface-like class for aquatic animals\n",
        "class AquaticCapable:\n",
        "    def swim(self):\n",
        "        return f\"{self.name} swims through the water\"\n",
        "    \n",
        "    def hold_breath(self, minutes):\n",
        "        return f\"{self.name} can hold breath for {minutes} minutes\"\n",
        "\n",
        "# Multiple inheritance\n",
        "class Frog(Animal, AquaticCapable):\n",
        "    def __init__(self, name, age):\n",
        "        super().__init__(name, age, \"Ranidae\")\n",
        "    \n",
        "    def make_sound(self):\n",
        "        return f\"{self.name} says ribbit!\"\n",
        "    \n",
        "    def move(self):\n",
        "        return f\"{self.name} jumps around\"\n",
        "```\n",
        "\n",
        "The OOP skills you've learned will help you in many ways:\n",
        "* They provide a foundation for learning other OOP languages like Java, C#, or C++\n",
        "* They help you understand and work with OOP libraries and frameworks\n",
        "* They improve your ability to design maintainable, scalable software\n",
        "* They prepare you for team development where clear code organization is crucial\n",
        "\n",
        "Remember that OOP is just one programming paradigm—others like functional programming offer different ways to solve problems. Great programmers understand multiple paradigms and choose the right approach for each project. Continue exploring, practicing, and building your own projects to deepen your understanding of these concepts."
      ],
      "metadata": {
        "id": "LERVDb3wc_Lf"
      }
    },
    {
      "cell_type": "markdown",
      "source": [
        "## Practice Your Python - Object Quest\n",
        "Here, you'll have an opportunity to practice building some Python classes and objects.\n",
        "\n",
        "Note: This will take you some of the more complex (and fun!) coding exerceises you've seen. Look things up if you get confused, but do your best to understand how/why things work they do before asking the AI :).\n",
        "\n",
        "Run the following cell to launch the quest:"
      ],
      "metadata": {
        "id": "wm9gx9LzSR8t"
      }
    },
    {
      "cell_type": "code",
      "source": [
        "!wget https://github.com/brendanpshea/computing_concepts_python/raw/main/object_quest/object_quest.py -q -nc\n",
        "from object_quest import QuestSystem\n",
        "QuestSystem(\"https://github.com/brendanpshea/computing_concepts_python/raw/main/object_quest/quests_01.json\")"
      ],
      "metadata": {
        "id": "yaawc-c4Sapn"
      },
      "execution_count": null,
      "outputs": []
    },
    {
      "cell_type": "markdown",
      "source": [
        "## Review With Quizlet"
      ],
      "metadata": {
        "id": "Gr3dW2cqwWW-"
      }
    },
    {
      "cell_type": "code",
      "source": [
        "%%html\n",
        "<iframe src=\"https://quizlet.com/1043447877/learn/embed?i=psvlh&x=1jj1\" height=\"700\" width=\"100%\" style=\"border:0\"></iframe>"
      ],
      "metadata": {
        "id": "udz_e8mQwY6V",
        "outputId": "3483e15e-4165-486f-e8a8-d499e1eb22cd",
        "colab": {
          "base_uri": "https://localhost:8080/",
          "height": 721
        }
      },
      "execution_count": null,
      "outputs": [
        {
          "output_type": "display_data",
          "data": {
            "text/plain": [
              "<IPython.core.display.HTML object>"
            ],
            "text/html": [
              "<iframe src=\"https://quizlet.com/1043447877/learn/embed?i=psvlh&x=1jj1\" height=\"700\" width=\"100%\" style=\"border:0\"></iframe>\n"
            ]
          },
          "metadata": {}
        }
      ]
    },
    {
      "cell_type": "markdown",
      "source": [
        "## Glossary\n",
        "\n",
        "| Term | Definition |\n",
        "|------|------------|\n",
        "| Object-Oriented Programming (OOP) | A programming paradigm based on the concept of \"objects\" that contain both data (attributes) and code (methods) to modify that data, helping organize code in a way that mirrors real-world entities. |\n",
        "| Class | A code template or blueprint that defines what properties and behaviors all objects of that type will have, essentially creating a new data type in a program. |\n",
        "| Object | A specific instance of a class containing real data and capable of performing actions defined by its class, each with its own unique identity in memory. |\n",
        "| Attribute | A variable that belongs to a class or object and stores information about that class or object, representing its properties or characteristics. |\n",
        "| Method | A function defined inside a class that can access and modify the object's attributes, representing the behaviors or actions that objects can perform. |\n",
        "| Instance Attribute | A property that belongs to a specific object instance and contains data unique to that particular object, such as a lion's name or age. |\n",
        "| Class Attribute | A property that belongs to the class itself and is shared by all instances of that class, such as the scientific name for all lions. |\n",
        "| Constructor | A special method (defined as `__init__` in Python) that is automatically called when a new object is created and is responsible for setting up the initial state of the object. |\n",
        "| self | A parameter that refers to the instance of the class on which a method is being called, allowing methods to access and modify the object's attributes. |\n",
        "| Encapsulation | An OOP principle that combines data and methods within a class while restricting direct access to some components, protecting an object's internal state. |\n",
        "| Inheritance | An OOP principle where a new class (subclass) can be based on an existing class (superclass), inheriting its attributes and methods to encourage code reuse. |\n",
        "| Superclass | A parent class from which other classes inherit attributes and methods, also known as a base class. |\n",
        "| Subclass | A class that inherits attributes and methods from another class, extending or specializing the functionality of the parent class. |\n",
        "| Polymorphism | The ability to process objects differently depending on their class or data type, allowing different objects to respond to the same method call in ways specific to their class. |\n",
        "| Method Overriding | Redefining a method in a subclass that is already defined in the superclass to provide specialized behavior while maintaining the same method signature. |\n",
        "| super() | A function used in Python to call methods from a parent class, particularly important in constructors to ensure parent initialization code runs. |\n",
        "| Public Attribute | An attribute that can be accessed directly from outside the class, conventionally named without underscores in Python. |\n",
        "| Protected Attribute | An attribute that shouldn't be accessed directly from outside the class as indicated by a single underscore prefix (_) in Python, though this is a convention rather than enforcement. |\n",
        "| Private Attribute | An attribute that is harder to access directly from outside the class, indicated by a double underscore prefix (__) in Python, which triggers name mangling. |\n",
        "| Duck Typing | A form of polymorphism where an object's fitness for use is determined by the presence of certain methods and properties rather than by its type. |\n",
        "| Getter Method | An accessor method that retrieves the value of a private attribute, allowing controlled access to encapsulated data. |\n",
        "| Setter Method | A mutator method that modifies the value of a private attribute, enabling validation rules to be applied when changing object state. |\n",
        "| Multiple Inheritance | A feature where a class can inherit from more than one parent class, combining attributes and methods from multiple sources. |\n",
        "| Abstract Class | A class that cannot be instantiated directly and is designed to serve as a base for other classes, often containing abstract methods that must be implemented by subclasses. |\n",
        "| Composition | An object relationship where one class contains objects of another class as attributes, representing a \"has-a\" relationship as opposed to inheritance's \"is-a\" relationship. |"
      ],
      "metadata": {
        "id": "rvZfTQWhv-94"
      }
    },
    {
      "cell_type": "code",
      "source": [],
      "metadata": {
        "id": "jfe-Usv2dRFX"
      },
      "execution_count": null,
      "outputs": []
    }
  ]
}