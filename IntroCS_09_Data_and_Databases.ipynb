{
  "nbformat": 4,
  "nbformat_minor": 0,
  "metadata": {
    "colab": {
      "provenance": [],
      "authorship_tag": "ABX9TyO6oaQGrh+Jb0EBsQ/cb4yn",
      "include_colab_link": true
    },
    "kernelspec": {
      "name": "python3",
      "display_name": "Python 3"
    },
    "language_info": {
      "name": "python"
    }
  },
  "cells": [
    {
      "cell_type": "markdown",
      "metadata": {
        "id": "view-in-github",
        "colab_type": "text"
      },
      "source": [
        "<a href=\"https://colab.research.google.com/github/brendanpshea/computing_concepts_python/blob/main/IntroCS_09_Data_and_Databases.ipynb\" target=\"_parent\"><img src=\"https://colab.research.google.com/assets/colab-badge.svg\" alt=\"Open In Colab\"/></a>"
      ]
    },
    {
      "cell_type": "markdown",
      "source": [
        "## An Intro to Data and Databases\n",
        "\n",
        "In the ever-evolving digital age, we're surrounded by a colossal amount of information - so much so that it's become virtually impossible to comprehend its vastness without the aid of computers. This ocean of information is comprised of 'data', a term you're likely to hear frequently in the realm of computer science, and one that is the fundamental unit of our digital world. This chapter will introduce you to the concept of data, its types, and its critical role in computer science.\n",
        "\n",
        "In any field, data serves as the basis for decision-making and problem-solving. For instance, meteorologists predict weather patterns based on historical climate data, marketers analyze consumer behavior data to tailor their advertising strategies, doctors make use of medical history data to diagnose and treat patients, and financial analysts forecast market trends using financial data. All these examples involve data analysis and interpretation, which are crucial components of computer science.\n",
        "\n",
        "In computer science, we employ data in myriad ways: creating algorithms, designing software applications, and most notably, building and managing databases. But what exactly is a database? How does it organize vast amounts of data so efficiently? And how can we interact with a database to retrieve the information we need? To answer these questions, we delve into the world of databases and the language that we use to interact with them, Structured Query Language (SQL).\n",
        "\n",
        "In this chapter, we'll explore what a database is, why it's an essential tool in handling data, and the various types of databases that exist. We'll also introduce you to SQL, discussing how to use it to retrieve data from a database efficiently. We'll primarily focus on SQL SELECT statements, which form the backbone of data retrieval in SQL.\n",
        "\n",
        "Through this chapter, you'll not only learn about the concept and importance of data and databases but also acquire practical skills that are widely applicable in the field of computer science. By the end of it, you'll be well-equipped with the knowledge to navigate the world of data and databases and a newfound appreciation for the art and science of handling data in computer science."
      ],
      "metadata": {
        "id": "9_HmwBS7TQoI"
      }
    },
    {
      "cell_type": "markdown",
      "source": [
        "## What is Data?\n",
        "**Data** is a collection of facts in the form of words, numbers, images, or even more abstract concepts. It is raw and unprocessed information that, when processed or structured, can provide meaningful insights.  For example, if we record the daily temperature of a city, each recorded number is a piece of data. Another example might be the individual scores of students on a test, which can be processed to find the class average.\n",
        "\n",
        "In the field of computer science, data is foundational and is the core subject of many, if not most, activities. It is the input to algorithms, the content stored and retrieved in databases, and the information transmitted across networks. Data is critical in a variety of fields and use cases, from decision-making in business environments to scientific research, from machine learning algorithms to web applications, and beyond.\n",
        "\n",
        "Now, to further understand data, we can categorize it into two types: structured and unstructured data.\n",
        "\n",
        "1.  **Structured Data:** This type of data is organized and formatted in a way that it's easily searchable in relational databases. Structured data adheres to a model that defines what fields of data exist and what types of data they hold. For example, an address book containing names, phone numbers, and addresses, where each piece of data has a certain type and is stored in a specific field.\n",
        "\n",
        "2.  **Unstructured Data:** This type of data has no specific format or organization, making it more difficult to collect, process, and analyze. Examples of unstructured data include text files, images, videos, emails, social media posts, and web pages.\n",
        "\n",
        "The importance of data in computer science cannot be overstated. It fuels the processes that drive decision-making algorithms, allows us to analyze and forecast trends, and forms the basis of machine learning and artificial intelligence. Understanding how to work with data - from basic data structures in programming languages to complex databases - is a crucial part of computer science education."
      ],
      "metadata": {
        "id": "Cnhev8KBTWs0"
      }
    },
    {
      "cell_type": "markdown",
      "source": [
        "## What is a Database?\n",
        "A **database** is a highly structured collection of data that is stored, managed, and accessed electronically. It's a systematic and organized way to store, retrieve, and manipulate data, facilitating efficient information management. In databases, data is organized into tables, each comprising rows and columns, forming a grid-like structure.\n",
        "\n",
        "One common way to understand the value of databases is to contrast them with flat files. A **flat file** is a plain text or binary file that contains data but lacks the structured relationships between data elements that a database maintains. For example, you could store customer data in a flat file, with each line of the text file representing a customer and different pieces of information (like name, address, and phone number) separated by a delimiter such as a comma. This format is simple and can work for very small sets of data. Spreadsheets (like MS Excel or Google Docs) are examples of flat files.\n",
        "\n",
        "However, as the volume of data grows, flat files become less practical. Retrieving specific information from a large flat file can be slow and resource-intensive. Furthermore, updating or modifying data in a flat file can be complex and prone to errors. Unlike databases, flat files don't support transactions (a logical unit of work that must either be entirely completed or entirely undone), concurrent access (multiple users accessing the data simultaneously), or constraints (rules governing the data), making data integrity and consistency harder to maintain.  On the other hand, databases are designed to manage, store, and retrieve large volumes of data efficiently. They are equipped with tools and functionalities to handle complex queries, support concurrent user access, ensure data consistency and security, and provide robust data recovery and backup systems.\n",
        "\n",
        "Databases are designed around a database model, the most popular of which is the relational model. **Relational databases** organize data into tables (or relations), where each **table** represents an entity (like Customers, Orders, Products, etc.) and each row in the table represents a **record** or instance of that entity.  Many different types of relational databases are used today, each suited to different tasks:\n",
        "\n",
        "1.  Microsoft Access: This is an entry-level, small-scale database management system (DBMS) provided by Microsoft. It's integrated with the Microsoft Office suite and is excellent for small-scale use by individuals, small businesses or departments within large organizations\n",
        "\n",
        "2.  SQLite: SQLite is a self-contained, serverless, and zero-configuration database engine used widely in mobile apps and small to medium-sized applications written in languages like Python, C, or Java. It's renowned for its simplicity and lightweight footprint.\n",
        "\n",
        "3.  Oracle Database and Microsoft SQL Server: These are proprietary, high-end, fully-featured DBMS. They is often used in large systems and for enterprise-level applications where performance, scalability, and reliability are crucial.\n",
        "\n",
        "5.  PostgreSQL (and MySQL): Thse are full-featured open-source relational database systems with a strong reputation for reliability, data integrity, and correctness. MySQL has traditionally been the leader; however, PostgreSQL has rapidly made gains in recent year (after Oracle acquired partial control of MySQL).\n",
        "\n",
        "\n",
        "Databases are an integral part of modern computing. Their structured nature allows efficient storage, retrieval, and manipulation of data, making them vital for a broad range of applications, from small scale applications like mobile apps to large, enterprise-level systems."
      ],
      "metadata": {
        "id": "PE2Z3RaCVV3u"
      }
    },
    {
      "cell_type": "markdown",
      "source": [
        "## Advantages of Databases over Flat Files\n",
        "Databases have several advantages over flat files:\n",
        "\n",
        "- *Efficient Storage:* Databases provide a highly efficient way to store large amounts of data. They allow us to organize data in a structured format, making it easier to manage. For example, a university might have a database that stores information about students, courses, and grades, all organized into separate tables for efficient storage.\n",
        "\n",
        "- *Data Retrieval:* One of the significant advantages of databases is the ease with which we can retrieve data. Thanks to their structured format, we can quickly find and extract the information we need. Using our university example, if we want to find out all the courses a particular student has taken, we can easily retrieve this information from the database.\n",
        "\n",
        "- *Data Management:* Databases also provide robust tools for managing data. They allow us to update data, enforce security measures, and ensure that the data remains consistent and accurate. In our university database, for instance, we could easily update a student's grade or add a new course.\n",
        "\n",
        "- *Concurrency Control:* Databases allow multiple users to interact with the data simultaneously, ensuring that transactions are processed reliably and accurately, even when the database is being accessed concurrently by multiple users.\n",
        "\n",
        "- *Data Protection:* Databases have built-in mechanisms for data backup and recovery, ensuring that data isn't lost in case of a failure.\n",
        "\n",
        "In modern computing, databases are vital because they allow for the efficient handling of large amounts of data. They form the backbone of many applications, ranging from web and mobile applications to enterprise software systems. Understanding databases and how to interact with them is a crucial skill in computer science and many other fields."
      ],
      "metadata": {
        "id": "04aNc3KPViap"
      }
    },
    {
      "cell_type": "markdown",
      "source": [
        "## A Short Introduction to SQL\n",
        "**Structured Query Language**, or **SQL**, is a programming language specifically designed for managing data held in a relational database management system (RDBMS). It is used for storing, manipulating, and retrieving data stored in databases.\n",
        "\n",
        "The inception of SQL goes back to the 1970s. It was initially developed at IBM by Donald D. Chamberlin and Raymond F. Boyce. The language was originally called SEQUEL (Structured English Query Language) but was later shortened to SQL. The first commercial version was introduced by Oracle in 1979.\n",
        "\n",
        "SQL is a little different from other programming languages. It's what we call a **declarative language**. This means that when you write SQL, you describe what you want without having to outline a detailed sequence of steps to get it. This is different from **procedural languages** like Python or C, where you provide the computer with step-by-step instructions.\n",
        "\n",
        "Let's consider a simple example. Suppose you're playing a game of hide-and-seek with your friends. If your friend were a database, and you were trying to \"query\" your friend to find out where another friend was hiding, a procedural approach might involve asking a series of yes/no questions: \"Are they hiding upstairs?\", \"Are they in a room with a window?\", etc. In contrast, with a declarative approach like SQL, you would simply ask, \"Where is our friend hiding?\" SQL is designed to get the information you need in one question, without the need for a step-by-step process.\n",
        "\n",
        "In practical terms, SQL is used for tasks like finding data that fits specific criteria, adding new data, updating or deleting existing data, and performing functions on the data such as adding it up or calculating averages. SQL is also used to create and modify the structure of databases themselves.\n",
        "\n",
        "Understanding SQL is crucial for anyone who works with databases, as it is one of the few languages that is consistently used with virtually all types of databases. SQL has been around for a long time and continues to be widely used in the industry, which means learning SQL is a valuable skill that can open many doors in the tech field."
      ],
      "metadata": {
        "id": "3MBEaMwFW84n"
      }
    },
    {
      "cell_type": "markdown",
      "source": [
        "## Case Study: Database for Jedi Academy\n",
        "In this case study, we will introduce the basic concepts of relational databases and SQL using the unique context of a Jedi Academy. We're dealing with a variety of intriguing characters, diverse Jedi training courses, and multifaceted relationships between students and their classes. To manage this intricate network of information, we'll be using a tool perfect for the job - a relational database.\n",
        "\n",
        "A relational database allows us to store and manage data by organizing it into one or more **tables** (or **relations**). Each table represents a specific entity and stores relevant pieces of information about that entity, known as **attributes** (or **columns**). For the Jedi Academy, we'll create three tables:\n",
        "\n",
        "1.  The `Students` table, representing all Jedi students. It will include each student's unique `StudentID` (an integer), `FirstName` and `LastName` (text strings, or `VARCHAR`), their `Level` (also an integer, indicating stages of Jedi training, such as 1 for Padawan, 2 for Knight, 3 for Master), and `GPA` (a float, for storing grade point average).\n",
        "\n",
        "2.  The `Classes` table, representing different training courses. It will store the `ClassID` (an integer), `ClassName` (a text string or `VARCHAR`), `MasterName` (the name of the Jedi Master teaching the class, another `VARCHAR`), and the `RoomNumber` (another integer).\n",
        "\n",
        "3.  The `Enrollment` table, representing the relationship between students and classes. It will include `StudentID`, `ClassID`, and `EnrollmentDate` (a `DATE`, for when the student enrolled in the class).\n",
        "\n",
        "This database design allows us to efficiently manage and retrieve the academy's data. By leveraging SQL, we can quickly find out all classes a particular student is enrolled in, identify which students are under Master Yoda's tutelage, change the room of a class, and much more.\n",
        "\n",
        "SQL uses several data types to define what kind of data each column in a table can store. For instance, `INTEGER` is used for whole numbers, `VARCHAR` for text strings, `FLOAT` for decimal numbers, and `DATE` for dates. Choosing the correct data type is crucial to maintaining data integrity, optimizing storage, and enabling accurate operations and comparisons.\n",
        "\n",
        "As we proceed through this case study, we'll be delving deeper into these data types, learning to harness the power of SQL, and exploring how it brings organization and accessibility to our Jedi Academy's database."
      ],
      "metadata": {
        "id": "oyseIjuGVFOa"
      }
    },
    {
      "cell_type": "markdown",
      "source": [
        "## Setting Up SQLite Database in Jupyter Notebook\n",
        "\n",
        "Before we start creating tables, we need to set up our database. For this case study, we'll be using **SQLite**, a simple yet powerful database engine, through a Jupyter Notebook. To interact with SQLite using SQL commands directly in the notebook, we'll using **SQL Magic**.  We can do this by running the following cell:"
      ],
      "metadata": {
        "id": "5TVqtpw3XgvI"
      }
    },
    {
      "cell_type": "code",
      "source": [
        "# Load \"SQL Magic\"\n",
        "%load_ext sql\n",
        "\n",
        "# Create a Database\n",
        "%sql sqlite:///jedi_academy.db"
      ],
      "metadata": {
        "id": "EMhBiOWfoBd0",
        "colab": {
          "base_uri": "https://localhost:8080/"
        },
        "outputId": "62979e94-7b7d-4cda-f9e3-398326da4aa4"
      },
      "execution_count": 43,
      "outputs": [
        {
          "output_type": "stream",
          "name": "stdout",
          "text": [
            "The sql extension is already loaded. To reload it, use:\n",
            "  %reload_ext sql\n"
          ]
        }
      ]
    },
    {
      "cell_type": "markdown",
      "source": [
        "### Creating Tables with SQL\n",
        "\n",
        "Now that we've planned our Jedi Academy database, it's time to put our ideas into action. SQL allows us to create tables using the CREATE TABLE statement. Let's see how we can define our Students, Classes, and Enrollment tables.\n",
        "\n",
        "#### Creating the Students table\n",
        "Here is the SQL statement to create the `Students` table:"
      ],
      "metadata": {
        "id": "thBG0SCRaXwO"
      }
    },
    {
      "cell_type": "code",
      "source": [
        "%%sql\n",
        "\n",
        "-- Delete table if it already exists\n",
        "DROP TABLE IF EXISTS Students;\n",
        "\n",
        "--Create the new table\n",
        "CREATE TABLE Students (\n",
        "    StudentID INT PRIMARY KEY,\n",
        "    FirstName VARCHAR(50),\n",
        "    LastName VARCHAR(50),\n",
        "    Level INT,\n",
        "    GPA FLOAT\n",
        ");\n"
      ],
      "metadata": {
        "colab": {
          "base_uri": "https://localhost:8080/"
        },
        "id": "hz6yqDJ_anDH",
        "outputId": "f5502c24-4539-468e-f780-76eec0fe47d6"
      },
      "execution_count": 45,
      "outputs": [
        {
          "output_type": "stream",
          "name": "stdout",
          "text": [
            " * sqlite:///jedi_academy.db\n",
            "Done.\n",
            "Done.\n"
          ]
        },
        {
          "output_type": "execute_result",
          "data": {
            "text/plain": [
              "[]"
            ]
          },
          "metadata": {},
          "execution_count": 45
        }
      ]
    },
    {
      "cell_type": "markdown",
      "source": [
        "In this statement, `CREATE TABLE Students` tells SQL that we want to create a new table named `Students`. Each line inside the parentheses defines a column in our table, with its name and its data type. For example, `StudentID INT` creates a column named `StudentID` that will store integers.\n",
        "\n",
        "`PRIMARY KEY` is a constraint that we've added to `StudentID` to tell SQL that this column will uniquely identify each record in our table. In other words, there cannot be two students with the same `StudentID`.\n",
        "\n",
        "#### Creating the `Classes` table\n",
        "\n",
        "Next, let's create our `Classes` table:"
      ],
      "metadata": {
        "id": "5pq3vmM-cQVG"
      }
    },
    {
      "cell_type": "code",
      "source": [
        "%%sql\n",
        "-- Drop the table if it already exists\n",
        "DROP TABLE IF EXISTS Classes;\n",
        "\n",
        "-- Now, create the table\n",
        "CREATE TABLE Classes (\n",
        "    ClassID INT PRIMARY KEY,\n",
        "    ClassName VARCHAR(100),\n",
        "    MasterName VARCHAR(50),\n",
        "    RoomNumber INT\n",
        ");\n"
      ],
      "metadata": {
        "colab": {
          "base_uri": "https://localhost:8080/"
        },
        "id": "sFaqwEVHcUPZ",
        "outputId": "b1cca469-a0d3-4865-b470-68186211761b"
      },
      "execution_count": 47,
      "outputs": [
        {
          "output_type": "stream",
          "name": "stdout",
          "text": [
            " * sqlite:///jedi_academy.db\n",
            "Done.\n",
            "Done.\n"
          ]
        },
        {
          "output_type": "execute_result",
          "data": {
            "text/plain": [
              "[]"
            ]
          },
          "metadata": {},
          "execution_count": 47
        }
      ]
    },
    {
      "cell_type": "markdown",
      "source": [
        "This statement is similar to the first, but creates a table named `Classes` with its own unique columns. The `ClassID` column is the primary key here, so each class must have a unique `ClassID`.\n",
        "\n",
        "#### Creating the `Enrollment` table\n",
        "\n",
        "Finally, we'll create the `Enrollment` table:"
      ],
      "metadata": {
        "id": "fwQnkIYccp4H"
      }
    },
    {
      "cell_type": "code",
      "source": [
        "%%sql\n",
        "--Drop old table (if it exists)\n",
        "DROP TABLE IF EXISTS Enrollment;\n",
        "\n",
        "--Create the table\n",
        "CREATE TABLE Enrollment (\n",
        "    StudentID INT,\n",
        "    ClassID INT,\n",
        "    EnrollmentDate DATE,\n",
        "    PRIMARY KEY (StudentID, ClassID),\n",
        "    FOREIGN KEY (StudentID) REFERENCES Students(StudentID),\n",
        "    FOREIGN KEY (ClassID) REFERENCES Classes(ClassID)\n",
        ");\n"
      ],
      "metadata": {
        "id": "1YuollHyc1iz",
        "colab": {
          "base_uri": "https://localhost:8080/"
        },
        "outputId": "ca9b51de-218c-43ea-d091-fa9436b77666"
      },
      "execution_count": 48,
      "outputs": [
        {
          "output_type": "stream",
          "name": "stdout",
          "text": [
            " * sqlite:///jedi_academy.db\n",
            "Done.\n",
            "Done.\n"
          ]
        },
        {
          "output_type": "execute_result",
          "data": {
            "text/plain": [
              "[]"
            ]
          },
          "metadata": {},
          "execution_count": 48
        }
      ]
    },
    {
      "cell_type": "markdown",
      "source": [
        "\n",
        "In the `Enrollment` table, we have two primary keys, `StudentID` and `ClassID`. This is known as a composite primary key, and it ensures that a student can only be enrolled in each class once. The combination of `StudentID` and `ClassID` must be unique for each record.\n",
        "\n",
        "Also, you'll notice that `StudentID` and `ClassID` are also foreign keys, referencing `StudentID` in the `Students` table and `ClassID` in the `Classes` table respectively. This is how we establish relationships between our tables in SQL.\n",
        "\n",
        "By creating these three tables, we have successfully set up a basic structure for our Jedi Academy's database. In the next sections, we'll populate these tables with data and learn how to manipulate it."
      ],
      "metadata": {
        "id": "8O-7w0qvdCHF"
      }
    },
    {
      "cell_type": "markdown",
      "source": [
        "## An Entity Relationship Diagram for the Jedi Academy\n",
        "We often use **Entity-Relationship Diagrams (ERDs)** to depict the logical/conceptual structure of databases. Here is a \"Crow's foot\" style diagram of our database right now.\n"
      ],
      "metadata": {
        "id": "NlqFBlw5H9g1"
      }
    },
    {
      "cell_type": "markdown",
      "source": [
        "![JediAcademy.drawio.png](data:image/png;base64,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)"
      ],
      "metadata": {
        "id": "wh4P2DdLMyY7"
      }
    },
    {
      "cell_type": "markdown",
      "source": [
        "### Inserting Data into Tables with SQL\n",
        "\n",
        "Having established the structure of our tables, we now turn to populating them with data. We'll use the `INSERT INTO` statement for this purpose. Let's begin with our `Students` and `Classes` tables.\n",
        "\n",
        "#### Inserting data into the `Students` table\n",
        "\n",
        "We can insert data into the `Students` table with a statement that looks like this:\n",
        "\n",
        "```sql\n",
        "INSERT INTO Students (StudentID, FirstName, LastName, Level, GPA)\n",
        "VALUES (1, 'Anakin', 'Skywalker', 3, 3.8);\n",
        "```\n",
        "\n",
        "This statement adds a single row to our table. It begins with `INSERT INTO Students`, which tells SQL that we want to insert data into the `Students` table. The names in parentheses (`StudentID`, `FirstName`, `LastName`, `Level`, `GPA`) are the columns we're inserting data into. The `VALUES` keyword is followed by the values we're inserting, in the same order as the column names.\n",
        "\n",
        "Now, let's add data for 10 students:"
      ],
      "metadata": {
        "id": "Mlv1JQ0rd-LJ"
      }
    },
    {
      "cell_type": "code",
      "source": [
        "%%sql\n",
        "\n",
        "INSERT INTO Students (StudentID, FirstName, LastName, Level, GPA)\n",
        "VALUES (1, 'Anakin', 'Skywalker', 3, 3.8),\n",
        "       (2, 'Grogu', '', 3, 3.9),\n",
        "       (3, 'Luke', 'Skywalker', 2, 3.7),\n",
        "       (4, 'Leia', 'Organa', 2, 4.0),\n",
        "       (5, 'Rey', 'Skywalker', 1, 3.2),\n",
        "       (6, 'Chewbacca', 'Wookiee', 1, 3.5),\n",
        "       (7, 'Mara', 'Jade', 3, 4.0),\n",
        "       (8, 'Mace', 'Windu', 3, 3.8),\n",
        "       (9, 'Padme', 'Amidala', 1, 3.7),\n",
        "       (10, 'Qui-Gon', 'Jinn', 3, 3.9);\n"
      ],
      "metadata": {
        "colab": {
          "base_uri": "https://localhost:8080/"
        },
        "id": "GsUABD-teCme",
        "outputId": "0e3cf911-3925-4fe5-de54-941db9a6ea49"
      },
      "execution_count": 49,
      "outputs": [
        {
          "output_type": "stream",
          "name": "stdout",
          "text": [
            " * sqlite:///jedi_academy.db\n",
            "10 rows affected.\n"
          ]
        },
        {
          "output_type": "execute_result",
          "data": {
            "text/plain": [
              "[]"
            ]
          },
          "metadata": {},
          "execution_count": 49
        }
      ]
    },
    {
      "cell_type": "markdown",
      "source": [
        "## Inserting data into the Classes table\n",
        "Inserting data into the `Classes` table is similar. Here's how we insert data for one class:\n",
        "\n",
        "```sql\n",
        "INSERT INTO Classes (ClassID, ClassName, MasterName, RoomNumber)\n",
        "VALUES (1, 'Lightsaber 101', 'Yoda', 101);\n",
        "```\n",
        "And now, let's add data for 3 classes:"
      ],
      "metadata": {
        "id": "YOq5F5dRd-VJ"
      }
    },
    {
      "cell_type": "code",
      "source": [
        "%%sql\n",
        "\n",
        "INSERT INTO Classes (ClassID, ClassName, MasterName, RoomNumber)\n",
        "VALUES (1, 'Lightsaber 101', 'Yoda', 101),\n",
        "       (2, 'Advanced Force Techniques', 'Obi-Wan Kenobi', 102),\n",
        "       (3, 'Interstellar Diplomacy', 'Padme Amidala', 103);\n"
      ],
      "metadata": {
        "id": "9BFHv5q6anSK",
        "colab": {
          "base_uri": "https://localhost:8080/"
        },
        "outputId": "81461de5-744d-456a-d660-0fcfcf8fe60b"
      },
      "execution_count": 50,
      "outputs": [
        {
          "output_type": "stream",
          "name": "stdout",
          "text": [
            " * sqlite:///jedi_academy.db\n",
            "3 rows affected.\n"
          ]
        },
        {
          "output_type": "execute_result",
          "data": {
            "text/plain": [
              "[]"
            ]
          },
          "metadata": {},
          "execution_count": 50
        }
      ]
    },
    {
      "cell_type": "markdown",
      "source": [
        "#### Inserting Data into the `Enrollment` Table\n",
        "\n",
        "Let's enroll our Jedi students in their classes. The process to insert data into the `Enrollment` table is similar to what we did with `Students` and `Classes`.\n",
        "\n",
        "Remember that the `Enrollment` table uses a composite primary key, consisting of `StudentID` and `ClassID`. This combination uniquely identifies each row and ensures a student can only be enrolled in each class once.\n",
        "\n",
        "Here's an example of how we might enroll the student with `StudentID` 1 in the class with `ClassID` 1:\n",
        "\n",
        "```sql\n",
        "INSERT INTO Enrollment (StudentID, ClassID, EnrollmentDate)\n",
        "VALUES (1, 1, '2123-01-01');\n",
        "```\n",
        "\n",
        "The date is given in the format 'YYYY-MM-DD'. This particular statement enrolls Anakin Skywalker in 'Lightsaber 101' as of January 1, 2123.\n",
        "\n",
        "Now, let's insert several more enrollment records:"
      ],
      "metadata": {
        "id": "X_2ASrrdQRml"
      }
    },
    {
      "cell_type": "code",
      "source": [
        "%%sql\n",
        "\n",
        "INSERT INTO Enrollment (StudentID, ClassID, EnrollmentDate)\n",
        "VALUES (1, 2, '2123-01-01'),\n",
        "       (2, 1, '2123-01-01'),\n",
        "       (3, 1, '2123-01-02'),\n",
        "       (3, 2, '2123-01-02'),\n",
        "       (4, 2, '2123-01-02'),\n",
        "       (4, 3, '2123-01-02'),\n",
        "       (5, 1, '2123-01-03'),\n",
        "       (6, 1, '2123-01-03'),\n",
        "       (7, 2, '2123-01-03'),\n",
        "       (8, 3, '2123-01-03'),\n",
        "       (9, 3, '2123-01-04'),\n",
        "       (10, 2, '2123-01-04');\n"
      ],
      "metadata": {
        "colab": {
          "base_uri": "https://localhost:8080/"
        },
        "id": "jIheF4eRQXA8",
        "outputId": "595d9dd1-adf0-45ec-8106-00c62052ef13"
      },
      "execution_count": 51,
      "outputs": [
        {
          "output_type": "stream",
          "name": "stdout",
          "text": [
            " * sqlite:///jedi_academy.db\n",
            "12 rows affected.\n"
          ]
        },
        {
          "output_type": "execute_result",
          "data": {
            "text/plain": [
              "[]"
            ]
          },
          "metadata": {},
          "execution_count": 51
        }
      ]
    },
    {
      "cell_type": "markdown",
      "source": [
        "## `SELECT` Data We Want to See\n",
        "\n",
        "Once we have data in our tables, we typically want to retrieve it for various purposes. This is where SQL's `SELECT` statement comes in. `SELECT` allows us to query our database, extracting information according to our needs.\n",
        "\n",
        "A simple query might involve retrieving all data from a single table. For instance, to select all records from the `Students` table, we use the following command:"
      ],
      "metadata": {
        "id": "edMhEEp8Q8H1"
      }
    },
    {
      "cell_type": "code",
      "source": [
        "%%sql\n",
        "SELECT * FROM Students;"
      ],
      "metadata": {
        "colab": {
          "base_uri": "https://localhost:8080/",
          "height": 289
        },
        "id": "g8FeTiG4RCQW",
        "outputId": "b560041a-6c35-4cd5-f39c-674998606747"
      },
      "execution_count": null,
      "outputs": [
        {
          "output_type": "stream",
          "name": "stdout",
          "text": [
            " * sqlite:///jedi_academy.db\n",
            "Done.\n"
          ]
        },
        {
          "output_type": "execute_result",
          "data": {
            "text/plain": [
              "[(1, 'Anakin', 'Skywalker', 3, 3.8),\n",
              " (2, 'Grogu', '', 3, 3.9),\n",
              " (3, 'Luke', 'Skywalker', 2, 3.7),\n",
              " (4, 'Leia', 'Organa', 2, 4.0),\n",
              " (5, 'Rey', 'Skywalker', 1, 3.2),\n",
              " (6, 'Chewbacca', 'Wookiee', 1, 3.5),\n",
              " (7, 'Mara', 'Jade', 3, 4.0),\n",
              " (8, 'Mace', 'Windu', 3, 3.8),\n",
              " (9, 'Padme', 'Amidala', 1, 3.7),\n",
              " (10, 'Qui-Gon', 'Jinn', 3, 3.9)]"
            ],
            "text/html": [
              "<table>\n",
              "    <thead>\n",
              "        <tr>\n",
              "            <th>StudentID</th>\n",
              "            <th>FirstName</th>\n",
              "            <th>LastName</th>\n",
              "            <th>Level</th>\n",
              "            <th>GPA</th>\n",
              "        </tr>\n",
              "    </thead>\n",
              "    <tbody>\n",
              "        <tr>\n",
              "            <td>1</td>\n",
              "            <td>Anakin</td>\n",
              "            <td>Skywalker</td>\n",
              "            <td>3</td>\n",
              "            <td>3.8</td>\n",
              "        </tr>\n",
              "        <tr>\n",
              "            <td>2</td>\n",
              "            <td>Grogu</td>\n",
              "            <td></td>\n",
              "            <td>3</td>\n",
              "            <td>3.9</td>\n",
              "        </tr>\n",
              "        <tr>\n",
              "            <td>3</td>\n",
              "            <td>Luke</td>\n",
              "            <td>Skywalker</td>\n",
              "            <td>2</td>\n",
              "            <td>3.7</td>\n",
              "        </tr>\n",
              "        <tr>\n",
              "            <td>4</td>\n",
              "            <td>Leia</td>\n",
              "            <td>Organa</td>\n",
              "            <td>2</td>\n",
              "            <td>4.0</td>\n",
              "        </tr>\n",
              "        <tr>\n",
              "            <td>5</td>\n",
              "            <td>Rey</td>\n",
              "            <td>Skywalker</td>\n",
              "            <td>1</td>\n",
              "            <td>3.2</td>\n",
              "        </tr>\n",
              "        <tr>\n",
              "            <td>6</td>\n",
              "            <td>Chewbacca</td>\n",
              "            <td>Wookiee</td>\n",
              "            <td>1</td>\n",
              "            <td>3.5</td>\n",
              "        </tr>\n",
              "        <tr>\n",
              "            <td>7</td>\n",
              "            <td>Mara</td>\n",
              "            <td>Jade</td>\n",
              "            <td>3</td>\n",
              "            <td>4.0</td>\n",
              "        </tr>\n",
              "        <tr>\n",
              "            <td>8</td>\n",
              "            <td>Mace</td>\n",
              "            <td>Windu</td>\n",
              "            <td>3</td>\n",
              "            <td>3.8</td>\n",
              "        </tr>\n",
              "        <tr>\n",
              "            <td>9</td>\n",
              "            <td>Padme</td>\n",
              "            <td>Amidala</td>\n",
              "            <td>1</td>\n",
              "            <td>3.7</td>\n",
              "        </tr>\n",
              "        <tr>\n",
              "            <td>10</td>\n",
              "            <td>Qui-Gon</td>\n",
              "            <td>Jinn</td>\n",
              "            <td>3</td>\n",
              "            <td>3.9</td>\n",
              "        </tr>\n",
              "    </tbody>\n",
              "</table>"
            ]
          },
          "metadata": {},
          "execution_count": 8
        }
      ]
    },
    {
      "cell_type": "markdown",
      "source": [
        "In this query, the `SELECT` keyword tells the database to select data from a table. The `*` symbol tells the database to select all columns from the table. The `FROM` keyword tells the database which table to select data from. In this case, the table is `Students`.  So, this query returns all rows and all columns from the `Students` table. This means that the query will return all of the student data, such as the student's name, student ID, major, GPA, etc. The query breaks down as follows:\n",
        "\n",
        "-   `SELECT`: This is the keyword that tells the database to select data from a table.\n",
        "-   `*`: This is the asterisk symbol, which tells the database to select all columns from the table.\n",
        "-   `FROM`: This is the keyword that tells the database which table to select data from.\n",
        "-   `Students`: This is the name of the table that we want to select data from.\n"
      ],
      "metadata": {
        "id": "OpcscsEiRGHk"
      }
    },
    {
      "cell_type": "markdown",
      "source": [
        "## `SELECT` Specific Columns\n",
        "We could also select specific columns. For example, to get just the first and last names of all students, we would write:"
      ],
      "metadata": {
        "id": "iwHAr1vvqVXN"
      }
    },
    {
      "cell_type": "code",
      "source": [
        "%%sql\n",
        "SELECT FirstName, LastName FROM Students;\n"
      ],
      "metadata": {
        "colab": {
          "base_uri": "https://localhost:8080/",
          "height": 289
        },
        "id": "DuQJWaMeRH38",
        "outputId": "43cf48b3-9459-42eb-9855-e6226c2e38e7"
      },
      "execution_count": null,
      "outputs": [
        {
          "output_type": "stream",
          "name": "stdout",
          "text": [
            " * sqlite:///jedi_academy.db\n",
            "Done.\n"
          ]
        },
        {
          "output_type": "execute_result",
          "data": {
            "text/plain": [
              "[('Anakin', 'Skywalker'),\n",
              " ('Grogu', ''),\n",
              " ('Luke', 'Skywalker'),\n",
              " ('Leia', 'Organa'),\n",
              " ('Rey', 'Skywalker'),\n",
              " ('Chewbacca', 'Wookiee'),\n",
              " ('Mara', 'Jade'),\n",
              " ('Mace', 'Windu'),\n",
              " ('Padme', 'Amidala'),\n",
              " ('Qui-Gon', 'Jinn')]"
            ],
            "text/html": [
              "<table>\n",
              "    <thead>\n",
              "        <tr>\n",
              "            <th>FirstName</th>\n",
              "            <th>LastName</th>\n",
              "        </tr>\n",
              "    </thead>\n",
              "    <tbody>\n",
              "        <tr>\n",
              "            <td>Anakin</td>\n",
              "            <td>Skywalker</td>\n",
              "        </tr>\n",
              "        <tr>\n",
              "            <td>Grogu</td>\n",
              "            <td></td>\n",
              "        </tr>\n",
              "        <tr>\n",
              "            <td>Luke</td>\n",
              "            <td>Skywalker</td>\n",
              "        </tr>\n",
              "        <tr>\n",
              "            <td>Leia</td>\n",
              "            <td>Organa</td>\n",
              "        </tr>\n",
              "        <tr>\n",
              "            <td>Rey</td>\n",
              "            <td>Skywalker</td>\n",
              "        </tr>\n",
              "        <tr>\n",
              "            <td>Chewbacca</td>\n",
              "            <td>Wookiee</td>\n",
              "        </tr>\n",
              "        <tr>\n",
              "            <td>Mara</td>\n",
              "            <td>Jade</td>\n",
              "        </tr>\n",
              "        <tr>\n",
              "            <td>Mace</td>\n",
              "            <td>Windu</td>\n",
              "        </tr>\n",
              "        <tr>\n",
              "            <td>Padme</td>\n",
              "            <td>Amidala</td>\n",
              "        </tr>\n",
              "        <tr>\n",
              "            <td>Qui-Gon</td>\n",
              "            <td>Jinn</td>\n",
              "        </tr>\n",
              "    </tbody>\n",
              "</table>"
            ]
          },
          "metadata": {},
          "execution_count": 9
        }
      ]
    },
    {
      "cell_type": "markdown",
      "source": [
        "## Filtering Data With `WHERE`.\n",
        "The `WHERE` clause allows us to filter our query based on certain conditions. For instance, to find all students at Level 3 (Jedi Masters), we could use:"
      ],
      "metadata": {
        "id": "VmUVz3pVRNnL"
      }
    },
    {
      "cell_type": "code",
      "source": [
        "%%sql\n",
        "SELECT * FROM Students WHERE Level = 3;"
      ],
      "metadata": {
        "colab": {
          "base_uri": "https://localhost:8080/",
          "height": 182
        },
        "id": "QMp3RaFtRVPb",
        "outputId": "1cf923c4-1628-4b3d-b485-0477f93e2ebf"
      },
      "execution_count": null,
      "outputs": [
        {
          "output_type": "stream",
          "name": "stdout",
          "text": [
            " * sqlite:///jedi_academy.db\n",
            "Done.\n"
          ]
        },
        {
          "output_type": "execute_result",
          "data": {
            "text/plain": [
              "[(1, 'Anakin', 'Skywalker', 3, 3.8),\n",
              " (2, 'Grogu', '', 3, 3.9),\n",
              " (7, 'Mara', 'Jade', 3, 4.0),\n",
              " (8, 'Mace', 'Windu', 3, 3.8),\n",
              " (10, 'Qui-Gon', 'Jinn', 3, 3.9)]"
            ],
            "text/html": [
              "<table>\n",
              "    <thead>\n",
              "        <tr>\n",
              "            <th>StudentID</th>\n",
              "            <th>FirstName</th>\n",
              "            <th>LastName</th>\n",
              "            <th>Level</th>\n",
              "            <th>GPA</th>\n",
              "        </tr>\n",
              "    </thead>\n",
              "    <tbody>\n",
              "        <tr>\n",
              "            <td>1</td>\n",
              "            <td>Anakin</td>\n",
              "            <td>Skywalker</td>\n",
              "            <td>3</td>\n",
              "            <td>3.8</td>\n",
              "        </tr>\n",
              "        <tr>\n",
              "            <td>2</td>\n",
              "            <td>Grogu</td>\n",
              "            <td></td>\n",
              "            <td>3</td>\n",
              "            <td>3.9</td>\n",
              "        </tr>\n",
              "        <tr>\n",
              "            <td>7</td>\n",
              "            <td>Mara</td>\n",
              "            <td>Jade</td>\n",
              "            <td>3</td>\n",
              "            <td>4.0</td>\n",
              "        </tr>\n",
              "        <tr>\n",
              "            <td>8</td>\n",
              "            <td>Mace</td>\n",
              "            <td>Windu</td>\n",
              "            <td>3</td>\n",
              "            <td>3.8</td>\n",
              "        </tr>\n",
              "        <tr>\n",
              "            <td>10</td>\n",
              "            <td>Qui-Gon</td>\n",
              "            <td>Jinn</td>\n",
              "            <td>3</td>\n",
              "            <td>3.9</td>\n",
              "        </tr>\n",
              "    </tbody>\n",
              "</table>"
            ]
          },
          "metadata": {},
          "execution_count": 10
        }
      ]
    },
    {
      "cell_type": "markdown",
      "source": [
        "In this query:\n",
        "-   `SELECT *`: This part of the query selects all columns for each row that satisfies the condition in the `WHERE` clause.\n",
        "\n",
        "-   `FROM Students`: This specifies the table (`Students`) from which the data is to be retrieved.\n",
        "\n",
        "-   `WHERE Level = 3`: This is a condition that filters the rows to only include those where the `Level` is equal to 3.\n",
        "\n",
        "Together, this query will retrieve all columns for students whose `Level` is 3 in the `Students` table."
      ],
      "metadata": {
        "id": "MEDZ1mRGsTc-"
      }
    },
    {
      "cell_type": "markdown",
      "source": [
        "### More Usage of WHERE\n",
        "\n",
        "The `WHERE` clause can be used in various ways to filter records. Here are some examples:\n",
        "\n",
        "#### Comparisons\n",
        "\n",
        "You can use comparison operators like `<`, `>`, `<=`, `>=`."
      ],
      "metadata": {
        "id": "rfpMpSeVsTp8"
      }
    },
    {
      "cell_type": "code",
      "source": [
        "%%sql\n",
        "SELECT * FROM Students WHERE GPA > 3.0;"
      ],
      "metadata": {
        "colab": {
          "base_uri": "https://localhost:8080/",
          "height": 289
        },
        "id": "koLdgvN4sroN",
        "outputId": "ed2fbe13-3f8a-4be9-8a87-9d8572db0530"
      },
      "execution_count": null,
      "outputs": [
        {
          "output_type": "stream",
          "name": "stdout",
          "text": [
            " * sqlite:///jedi_academy.db\n",
            "Done.\n"
          ]
        },
        {
          "output_type": "execute_result",
          "data": {
            "text/plain": [
              "[(1, 'Anakin', 'Skywalker', 3, 3.8),\n",
              " (2, 'Grogu', '', 3, 3.9),\n",
              " (3, 'Luke', 'Skywalker', 2, 3.7),\n",
              " (4, 'Leia', 'Organa', 2, 4.0),\n",
              " (5, 'Rey', 'Skywalker', 1, 3.2),\n",
              " (6, 'Chewbacca', 'Wookiee', 1, 3.5),\n",
              " (7, 'Mara', 'Jade', 3, 4.0),\n",
              " (8, 'Mace', 'Windu', 3, 3.8),\n",
              " (9, 'Padme', 'Amidala', 1, 3.7),\n",
              " (10, 'Qui-Gon', 'Jinn', 3, 3.9)]"
            ],
            "text/html": [
              "<table>\n",
              "    <thead>\n",
              "        <tr>\n",
              "            <th>StudentID</th>\n",
              "            <th>FirstName</th>\n",
              "            <th>LastName</th>\n",
              "            <th>Level</th>\n",
              "            <th>GPA</th>\n",
              "        </tr>\n",
              "    </thead>\n",
              "    <tbody>\n",
              "        <tr>\n",
              "            <td>1</td>\n",
              "            <td>Anakin</td>\n",
              "            <td>Skywalker</td>\n",
              "            <td>3</td>\n",
              "            <td>3.8</td>\n",
              "        </tr>\n",
              "        <tr>\n",
              "            <td>2</td>\n",
              "            <td>Grogu</td>\n",
              "            <td></td>\n",
              "            <td>3</td>\n",
              "            <td>3.9</td>\n",
              "        </tr>\n",
              "        <tr>\n",
              "            <td>3</td>\n",
              "            <td>Luke</td>\n",
              "            <td>Skywalker</td>\n",
              "            <td>2</td>\n",
              "            <td>3.7</td>\n",
              "        </tr>\n",
              "        <tr>\n",
              "            <td>4</td>\n",
              "            <td>Leia</td>\n",
              "            <td>Organa</td>\n",
              "            <td>2</td>\n",
              "            <td>4.0</td>\n",
              "        </tr>\n",
              "        <tr>\n",
              "            <td>5</td>\n",
              "            <td>Rey</td>\n",
              "            <td>Skywalker</td>\n",
              "            <td>1</td>\n",
              "            <td>3.2</td>\n",
              "        </tr>\n",
              "        <tr>\n",
              "            <td>6</td>\n",
              "            <td>Chewbacca</td>\n",
              "            <td>Wookiee</td>\n",
              "            <td>1</td>\n",
              "            <td>3.5</td>\n",
              "        </tr>\n",
              "        <tr>\n",
              "            <td>7</td>\n",
              "            <td>Mara</td>\n",
              "            <td>Jade</td>\n",
              "            <td>3</td>\n",
              "            <td>4.0</td>\n",
              "        </tr>\n",
              "        <tr>\n",
              "            <td>8</td>\n",
              "            <td>Mace</td>\n",
              "            <td>Windu</td>\n",
              "            <td>3</td>\n",
              "            <td>3.8</td>\n",
              "        </tr>\n",
              "        <tr>\n",
              "            <td>9</td>\n",
              "            <td>Padme</td>\n",
              "            <td>Amidala</td>\n",
              "            <td>1</td>\n",
              "            <td>3.7</td>\n",
              "        </tr>\n",
              "        <tr>\n",
              "            <td>10</td>\n",
              "            <td>Qui-Gon</td>\n",
              "            <td>Jinn</td>\n",
              "            <td>3</td>\n",
              "            <td>3.9</td>\n",
              "        </tr>\n",
              "    </tbody>\n",
              "</table>"
            ]
          },
          "metadata": {},
          "execution_count": 11
        }
      ]
    },
    {
      "cell_type": "markdown",
      "source": [
        "### Logical Operators\n",
        "\n",
        "You can use `AND`, `OR`, and `NOT` to combine multiple conditions."
      ],
      "metadata": {
        "id": "Ti5AmTcfszFh"
      }
    },
    {
      "cell_type": "code",
      "source": [
        "%sql SELECT * FROM Students WHERE Level = 3 AND GPA > 3.0;"
      ],
      "metadata": {
        "colab": {
          "base_uri": "https://localhost:8080/",
          "height": 182
        },
        "id": "3HXRzxeRs6XO",
        "outputId": "9e632b90-adfb-4b6c-f87e-bca13ae59707"
      },
      "execution_count": null,
      "outputs": [
        {
          "output_type": "stream",
          "name": "stdout",
          "text": [
            " * sqlite:///jedi_academy.db\n",
            "Done.\n"
          ]
        },
        {
          "output_type": "execute_result",
          "data": {
            "text/plain": [
              "[(1, 'Anakin', 'Skywalker', 3, 3.8),\n",
              " (2, 'Grogu', '', 3, 3.9),\n",
              " (7, 'Mara', 'Jade', 3, 4.0),\n",
              " (8, 'Mace', 'Windu', 3, 3.8),\n",
              " (10, 'Qui-Gon', 'Jinn', 3, 3.9)]"
            ],
            "text/html": [
              "<table>\n",
              "    <thead>\n",
              "        <tr>\n",
              "            <th>StudentID</th>\n",
              "            <th>FirstName</th>\n",
              "            <th>LastName</th>\n",
              "            <th>Level</th>\n",
              "            <th>GPA</th>\n",
              "        </tr>\n",
              "    </thead>\n",
              "    <tbody>\n",
              "        <tr>\n",
              "            <td>1</td>\n",
              "            <td>Anakin</td>\n",
              "            <td>Skywalker</td>\n",
              "            <td>3</td>\n",
              "            <td>3.8</td>\n",
              "        </tr>\n",
              "        <tr>\n",
              "            <td>2</td>\n",
              "            <td>Grogu</td>\n",
              "            <td></td>\n",
              "            <td>3</td>\n",
              "            <td>3.9</td>\n",
              "        </tr>\n",
              "        <tr>\n",
              "            <td>7</td>\n",
              "            <td>Mara</td>\n",
              "            <td>Jade</td>\n",
              "            <td>3</td>\n",
              "            <td>4.0</td>\n",
              "        </tr>\n",
              "        <tr>\n",
              "            <td>8</td>\n",
              "            <td>Mace</td>\n",
              "            <td>Windu</td>\n",
              "            <td>3</td>\n",
              "            <td>3.8</td>\n",
              "        </tr>\n",
              "        <tr>\n",
              "            <td>10</td>\n",
              "            <td>Qui-Gon</td>\n",
              "            <td>Jinn</td>\n",
              "            <td>3</td>\n",
              "            <td>3.9</td>\n",
              "        </tr>\n",
              "    </tbody>\n",
              "</table>"
            ]
          },
          "metadata": {},
          "execution_count": 12
        }
      ]
    },
    {
      "cell_type": "code",
      "source": [
        "%sql SELECT * FROM Students WHERE Level = 3 OR GPA > 3.0;"
      ],
      "metadata": {
        "colab": {
          "base_uri": "https://localhost:8080/",
          "height": 289
        },
        "id": "JM-28h-0s6b-",
        "outputId": "36fa0ae6-82d1-4078-d363-d17461366e01"
      },
      "execution_count": null,
      "outputs": [
        {
          "output_type": "stream",
          "name": "stdout",
          "text": [
            " * sqlite:///jedi_academy.db\n",
            "Done.\n"
          ]
        },
        {
          "output_type": "execute_result",
          "data": {
            "text/plain": [
              "[(1, 'Anakin', 'Skywalker', 3, 3.8),\n",
              " (2, 'Grogu', '', 3, 3.9),\n",
              " (3, 'Luke', 'Skywalker', 2, 3.7),\n",
              " (4, 'Leia', 'Organa', 2, 4.0),\n",
              " (5, 'Rey', 'Skywalker', 1, 3.2),\n",
              " (6, 'Chewbacca', 'Wookiee', 1, 3.5),\n",
              " (7, 'Mara', 'Jade', 3, 4.0),\n",
              " (8, 'Mace', 'Windu', 3, 3.8),\n",
              " (9, 'Padme', 'Amidala', 1, 3.7),\n",
              " (10, 'Qui-Gon', 'Jinn', 3, 3.9)]"
            ],
            "text/html": [
              "<table>\n",
              "    <thead>\n",
              "        <tr>\n",
              "            <th>StudentID</th>\n",
              "            <th>FirstName</th>\n",
              "            <th>LastName</th>\n",
              "            <th>Level</th>\n",
              "            <th>GPA</th>\n",
              "        </tr>\n",
              "    </thead>\n",
              "    <tbody>\n",
              "        <tr>\n",
              "            <td>1</td>\n",
              "            <td>Anakin</td>\n",
              "            <td>Skywalker</td>\n",
              "            <td>3</td>\n",
              "            <td>3.8</td>\n",
              "        </tr>\n",
              "        <tr>\n",
              "            <td>2</td>\n",
              "            <td>Grogu</td>\n",
              "            <td></td>\n",
              "            <td>3</td>\n",
              "            <td>3.9</td>\n",
              "        </tr>\n",
              "        <tr>\n",
              "            <td>3</td>\n",
              "            <td>Luke</td>\n",
              "            <td>Skywalker</td>\n",
              "            <td>2</td>\n",
              "            <td>3.7</td>\n",
              "        </tr>\n",
              "        <tr>\n",
              "            <td>4</td>\n",
              "            <td>Leia</td>\n",
              "            <td>Organa</td>\n",
              "            <td>2</td>\n",
              "            <td>4.0</td>\n",
              "        </tr>\n",
              "        <tr>\n",
              "            <td>5</td>\n",
              "            <td>Rey</td>\n",
              "            <td>Skywalker</td>\n",
              "            <td>1</td>\n",
              "            <td>3.2</td>\n",
              "        </tr>\n",
              "        <tr>\n",
              "            <td>6</td>\n",
              "            <td>Chewbacca</td>\n",
              "            <td>Wookiee</td>\n",
              "            <td>1</td>\n",
              "            <td>3.5</td>\n",
              "        </tr>\n",
              "        <tr>\n",
              "            <td>7</td>\n",
              "            <td>Mara</td>\n",
              "            <td>Jade</td>\n",
              "            <td>3</td>\n",
              "            <td>4.0</td>\n",
              "        </tr>\n",
              "        <tr>\n",
              "            <td>8</td>\n",
              "            <td>Mace</td>\n",
              "            <td>Windu</td>\n",
              "            <td>3</td>\n",
              "            <td>3.8</td>\n",
              "        </tr>\n",
              "        <tr>\n",
              "            <td>9</td>\n",
              "            <td>Padme</td>\n",
              "            <td>Amidala</td>\n",
              "            <td>1</td>\n",
              "            <td>3.7</td>\n",
              "        </tr>\n",
              "        <tr>\n",
              "            <td>10</td>\n",
              "            <td>Qui-Gon</td>\n",
              "            <td>Jinn</td>\n",
              "            <td>3</td>\n",
              "            <td>3.9</td>\n",
              "        </tr>\n",
              "    </tbody>\n",
              "</table>"
            ]
          },
          "metadata": {},
          "execution_count": 13
        }
      ]
    },
    {
      "cell_type": "code",
      "source": [
        "%sql SELECT * FROM Students WHERE NOT (Level = 3);"
      ],
      "metadata": {
        "colab": {
          "base_uri": "https://localhost:8080/",
          "height": 182
        },
        "id": "wCXfCeJHtCfb",
        "outputId": "0f8be123-4376-4451-de1c-764b03ab874e"
      },
      "execution_count": null,
      "outputs": [
        {
          "output_type": "stream",
          "name": "stdout",
          "text": [
            " * sqlite:///jedi_academy.db\n",
            "Done.\n"
          ]
        },
        {
          "output_type": "execute_result",
          "data": {
            "text/plain": [
              "[(3, 'Luke', 'Skywalker', 2, 3.7),\n",
              " (4, 'Leia', 'Organa', 2, 4.0),\n",
              " (5, 'Rey', 'Skywalker', 1, 3.2),\n",
              " (6, 'Chewbacca', 'Wookiee', 1, 3.5),\n",
              " (9, 'Padme', 'Amidala', 1, 3.7)]"
            ],
            "text/html": [
              "<table>\n",
              "    <thead>\n",
              "        <tr>\n",
              "            <th>StudentID</th>\n",
              "            <th>FirstName</th>\n",
              "            <th>LastName</th>\n",
              "            <th>Level</th>\n",
              "            <th>GPA</th>\n",
              "        </tr>\n",
              "    </thead>\n",
              "    <tbody>\n",
              "        <tr>\n",
              "            <td>3</td>\n",
              "            <td>Luke</td>\n",
              "            <td>Skywalker</td>\n",
              "            <td>2</td>\n",
              "            <td>3.7</td>\n",
              "        </tr>\n",
              "        <tr>\n",
              "            <td>4</td>\n",
              "            <td>Leia</td>\n",
              "            <td>Organa</td>\n",
              "            <td>2</td>\n",
              "            <td>4.0</td>\n",
              "        </tr>\n",
              "        <tr>\n",
              "            <td>5</td>\n",
              "            <td>Rey</td>\n",
              "            <td>Skywalker</td>\n",
              "            <td>1</td>\n",
              "            <td>3.2</td>\n",
              "        </tr>\n",
              "        <tr>\n",
              "            <td>6</td>\n",
              "            <td>Chewbacca</td>\n",
              "            <td>Wookiee</td>\n",
              "            <td>1</td>\n",
              "            <td>3.5</td>\n",
              "        </tr>\n",
              "        <tr>\n",
              "            <td>9</td>\n",
              "            <td>Padme</td>\n",
              "            <td>Amidala</td>\n",
              "            <td>1</td>\n",
              "            <td>3.7</td>\n",
              "        </tr>\n",
              "    </tbody>\n",
              "</table>"
            ]
          },
          "metadata": {},
          "execution_count": 14
        }
      ]
    },
    {
      "cell_type": "markdown",
      "source": [
        "### `IN` Clause\n",
        "\n",
        "Use `IN` to match any value in a list."
      ],
      "metadata": {
        "id": "dkWG23NmtKSH"
      }
    },
    {
      "cell_type": "code",
      "source": [
        "%sql SELECT * FROM Students WHERE Level IN (2, 4);"
      ],
      "metadata": {
        "colab": {
          "base_uri": "https://localhost:8080/",
          "height": 118
        },
        "id": "TlgSziTMtQxi",
        "outputId": "047f5163-e14a-467f-d886-32b0323c9481"
      },
      "execution_count": null,
      "outputs": [
        {
          "output_type": "stream",
          "name": "stdout",
          "text": [
            " * sqlite:///jedi_academy.db\n",
            "Done.\n"
          ]
        },
        {
          "output_type": "execute_result",
          "data": {
            "text/plain": [
              "[(3, 'Luke', 'Skywalker', 2, 3.7), (4, 'Leia', 'Organa', 2, 4.0)]"
            ],
            "text/html": [
              "<table>\n",
              "    <thead>\n",
              "        <tr>\n",
              "            <th>StudentID</th>\n",
              "            <th>FirstName</th>\n",
              "            <th>LastName</th>\n",
              "            <th>Level</th>\n",
              "            <th>GPA</th>\n",
              "        </tr>\n",
              "    </thead>\n",
              "    <tbody>\n",
              "        <tr>\n",
              "            <td>3</td>\n",
              "            <td>Luke</td>\n",
              "            <td>Skywalker</td>\n",
              "            <td>2</td>\n",
              "            <td>3.7</td>\n",
              "        </tr>\n",
              "        <tr>\n",
              "            <td>4</td>\n",
              "            <td>Leia</td>\n",
              "            <td>Organa</td>\n",
              "            <td>2</td>\n",
              "            <td>4.0</td>\n",
              "        </tr>\n",
              "    </tbody>\n",
              "</table>"
            ]
          },
          "metadata": {},
          "execution_count": 15
        }
      ]
    },
    {
      "cell_type": "markdown",
      "source": [
        "## Sorting with `ORDER BY` Clause\n",
        "We can sort our results using the `ORDER BY` clause. For instance, to get a list of students sorted by GPA in descending order, we would write:"
      ],
      "metadata": {
        "id": "u4ESsD1GRb3K"
      }
    },
    {
      "cell_type": "code",
      "source": [
        "%%sql\n",
        "SELECT * FROM Students ORDER BY GPA DESC;"
      ],
      "metadata": {
        "colab": {
          "base_uri": "https://localhost:8080/",
          "height": 289
        },
        "id": "2Og2AUMjRfyb",
        "outputId": "abba989a-a098-4508-ada3-374ebfddea82"
      },
      "execution_count": null,
      "outputs": [
        {
          "output_type": "stream",
          "name": "stdout",
          "text": [
            " * sqlite:///jedi_academy.db\n",
            "Done.\n"
          ]
        },
        {
          "output_type": "execute_result",
          "data": {
            "text/plain": [
              "[(4, 'Leia', 'Organa', 2, 4.0),\n",
              " (7, 'Mara', 'Jade', 3, 4.0),\n",
              " (2, 'Grogu', '', 3, 3.9),\n",
              " (10, 'Qui-Gon', 'Jinn', 3, 3.9),\n",
              " (1, 'Anakin', 'Skywalker', 3, 3.8),\n",
              " (8, 'Mace', 'Windu', 3, 3.8),\n",
              " (3, 'Luke', 'Skywalker', 2, 3.7),\n",
              " (9, 'Padme', 'Amidala', 1, 3.7),\n",
              " (6, 'Chewbacca', 'Wookiee', 1, 3.5),\n",
              " (5, 'Rey', 'Skywalker', 1, 3.2)]"
            ],
            "text/html": [
              "<table>\n",
              "    <thead>\n",
              "        <tr>\n",
              "            <th>StudentID</th>\n",
              "            <th>FirstName</th>\n",
              "            <th>LastName</th>\n",
              "            <th>Level</th>\n",
              "            <th>GPA</th>\n",
              "        </tr>\n",
              "    </thead>\n",
              "    <tbody>\n",
              "        <tr>\n",
              "            <td>4</td>\n",
              "            <td>Leia</td>\n",
              "            <td>Organa</td>\n",
              "            <td>2</td>\n",
              "            <td>4.0</td>\n",
              "        </tr>\n",
              "        <tr>\n",
              "            <td>7</td>\n",
              "            <td>Mara</td>\n",
              "            <td>Jade</td>\n",
              "            <td>3</td>\n",
              "            <td>4.0</td>\n",
              "        </tr>\n",
              "        <tr>\n",
              "            <td>2</td>\n",
              "            <td>Grogu</td>\n",
              "            <td></td>\n",
              "            <td>3</td>\n",
              "            <td>3.9</td>\n",
              "        </tr>\n",
              "        <tr>\n",
              "            <td>10</td>\n",
              "            <td>Qui-Gon</td>\n",
              "            <td>Jinn</td>\n",
              "            <td>3</td>\n",
              "            <td>3.9</td>\n",
              "        </tr>\n",
              "        <tr>\n",
              "            <td>1</td>\n",
              "            <td>Anakin</td>\n",
              "            <td>Skywalker</td>\n",
              "            <td>3</td>\n",
              "            <td>3.8</td>\n",
              "        </tr>\n",
              "        <tr>\n",
              "            <td>8</td>\n",
              "            <td>Mace</td>\n",
              "            <td>Windu</td>\n",
              "            <td>3</td>\n",
              "            <td>3.8</td>\n",
              "        </tr>\n",
              "        <tr>\n",
              "            <td>3</td>\n",
              "            <td>Luke</td>\n",
              "            <td>Skywalker</td>\n",
              "            <td>2</td>\n",
              "            <td>3.7</td>\n",
              "        </tr>\n",
              "        <tr>\n",
              "            <td>9</td>\n",
              "            <td>Padme</td>\n",
              "            <td>Amidala</td>\n",
              "            <td>1</td>\n",
              "            <td>3.7</td>\n",
              "        </tr>\n",
              "        <tr>\n",
              "            <td>6</td>\n",
              "            <td>Chewbacca</td>\n",
              "            <td>Wookiee</td>\n",
              "            <td>1</td>\n",
              "            <td>3.5</td>\n",
              "        </tr>\n",
              "        <tr>\n",
              "            <td>5</td>\n",
              "            <td>Rey</td>\n",
              "            <td>Skywalker</td>\n",
              "            <td>1</td>\n",
              "            <td>3.2</td>\n",
              "        </tr>\n",
              "    </tbody>\n",
              "</table>"
            ]
          },
          "metadata": {},
          "execution_count": 16
        }
      ]
    },
    {
      "cell_type": "markdown",
      "source": [
        "We can aslo sort in ascending order (the default) like this:"
      ],
      "metadata": {
        "id": "gPtJv34AteLD"
      }
    },
    {
      "cell_type": "code",
      "source": [
        "%%sql\n",
        "SELECT * FROM Students ORDER BY GPA ASC;"
      ],
      "metadata": {
        "colab": {
          "base_uri": "https://localhost:8080/",
          "height": 289
        },
        "id": "1_vtxKAFtjSD",
        "outputId": "dd2533af-00a1-457c-d0c5-e5fb3320d8be"
      },
      "execution_count": null,
      "outputs": [
        {
          "output_type": "stream",
          "name": "stdout",
          "text": [
            " * sqlite:///jedi_academy.db\n",
            "Done.\n"
          ]
        },
        {
          "output_type": "execute_result",
          "data": {
            "text/plain": [
              "[(5, 'Rey', 'Skywalker', 1, 3.2),\n",
              " (6, 'Chewbacca', 'Wookiee', 1, 3.5),\n",
              " (3, 'Luke', 'Skywalker', 2, 3.7),\n",
              " (9, 'Padme', 'Amidala', 1, 3.7),\n",
              " (1, 'Anakin', 'Skywalker', 3, 3.8),\n",
              " (8, 'Mace', 'Windu', 3, 3.8),\n",
              " (2, 'Grogu', '', 3, 3.9),\n",
              " (10, 'Qui-Gon', 'Jinn', 3, 3.9),\n",
              " (4, 'Leia', 'Organa', 2, 4.0),\n",
              " (7, 'Mara', 'Jade', 3, 4.0)]"
            ],
            "text/html": [
              "<table>\n",
              "    <thead>\n",
              "        <tr>\n",
              "            <th>StudentID</th>\n",
              "            <th>FirstName</th>\n",
              "            <th>LastName</th>\n",
              "            <th>Level</th>\n",
              "            <th>GPA</th>\n",
              "        </tr>\n",
              "    </thead>\n",
              "    <tbody>\n",
              "        <tr>\n",
              "            <td>5</td>\n",
              "            <td>Rey</td>\n",
              "            <td>Skywalker</td>\n",
              "            <td>1</td>\n",
              "            <td>3.2</td>\n",
              "        </tr>\n",
              "        <tr>\n",
              "            <td>6</td>\n",
              "            <td>Chewbacca</td>\n",
              "            <td>Wookiee</td>\n",
              "            <td>1</td>\n",
              "            <td>3.5</td>\n",
              "        </tr>\n",
              "        <tr>\n",
              "            <td>3</td>\n",
              "            <td>Luke</td>\n",
              "            <td>Skywalker</td>\n",
              "            <td>2</td>\n",
              "            <td>3.7</td>\n",
              "        </tr>\n",
              "        <tr>\n",
              "            <td>9</td>\n",
              "            <td>Padme</td>\n",
              "            <td>Amidala</td>\n",
              "            <td>1</td>\n",
              "            <td>3.7</td>\n",
              "        </tr>\n",
              "        <tr>\n",
              "            <td>1</td>\n",
              "            <td>Anakin</td>\n",
              "            <td>Skywalker</td>\n",
              "            <td>3</td>\n",
              "            <td>3.8</td>\n",
              "        </tr>\n",
              "        <tr>\n",
              "            <td>8</td>\n",
              "            <td>Mace</td>\n",
              "            <td>Windu</td>\n",
              "            <td>3</td>\n",
              "            <td>3.8</td>\n",
              "        </tr>\n",
              "        <tr>\n",
              "            <td>2</td>\n",
              "            <td>Grogu</td>\n",
              "            <td></td>\n",
              "            <td>3</td>\n",
              "            <td>3.9</td>\n",
              "        </tr>\n",
              "        <tr>\n",
              "            <td>10</td>\n",
              "            <td>Qui-Gon</td>\n",
              "            <td>Jinn</td>\n",
              "            <td>3</td>\n",
              "            <td>3.9</td>\n",
              "        </tr>\n",
              "        <tr>\n",
              "            <td>4</td>\n",
              "            <td>Leia</td>\n",
              "            <td>Organa</td>\n",
              "            <td>2</td>\n",
              "            <td>4.0</td>\n",
              "        </tr>\n",
              "        <tr>\n",
              "            <td>7</td>\n",
              "            <td>Mara</td>\n",
              "            <td>Jade</td>\n",
              "            <td>3</td>\n",
              "            <td>4.0</td>\n",
              "        </tr>\n",
              "    </tbody>\n",
              "</table>"
            ]
          },
          "metadata": {},
          "execution_count": 17
        }
      ]
    },
    {
      "cell_type": "markdown",
      "source": [
        "#### NATURAL JOIN\n",
        "\n",
        "Often, we'll want to combine data from two or more tables. This is done using a `JOIN`. A `NATURAL JOIN` is a type of join operation that directly matches columns between tables that have the same column name, and returns only one copy of each duplicate column.\n",
        "\n",
        "For example, to list all students along with the classes they're enrolled in, we would use:\n",
        "\n"
      ],
      "metadata": {
        "id": "UR_Abh_GRqSr"
      }
    },
    {
      "cell_type": "code",
      "source": [
        "%%sql\n",
        "\n",
        "SELECT Students.FirstName, Students.LastName, Classes.ClassName\n",
        "FROM Students\n",
        "NATURAL JOIN Enrollment\n",
        "NATURAL JOIN Classes\n"
      ],
      "metadata": {
        "colab": {
          "base_uri": "https://localhost:8080/",
          "height": 331
        },
        "id": "5toxS9rYR00y",
        "outputId": "fee0bc5a-1cc5-41f5-ca9f-c13b87fe40d5"
      },
      "execution_count": null,
      "outputs": [
        {
          "output_type": "stream",
          "name": "stdout",
          "text": [
            " * sqlite:///jedi_academy.db\n",
            "Done.\n"
          ]
        },
        {
          "output_type": "execute_result",
          "data": {
            "text/plain": [
              "[('Anakin', 'Skywalker', 'Advanced Force Techniques'),\n",
              " ('Grogu', '', 'Lightsaber 101'),\n",
              " ('Luke', 'Skywalker', 'Lightsaber 101'),\n",
              " ('Luke', 'Skywalker', 'Advanced Force Techniques'),\n",
              " ('Leia', 'Organa', 'Advanced Force Techniques'),\n",
              " ('Leia', 'Organa', 'Interstellar Diplomacy'),\n",
              " ('Rey', 'Skywalker', 'Lightsaber 101'),\n",
              " ('Chewbacca', 'Wookiee', 'Lightsaber 101'),\n",
              " ('Mara', 'Jade', 'Advanced Force Techniques'),\n",
              " ('Mace', 'Windu', 'Interstellar Diplomacy'),\n",
              " ('Padme', 'Amidala', 'Interstellar Diplomacy'),\n",
              " ('Qui-Gon', 'Jinn', 'Advanced Force Techniques')]"
            ],
            "text/html": [
              "<table>\n",
              "    <thead>\n",
              "        <tr>\n",
              "            <th>FirstName</th>\n",
              "            <th>LastName</th>\n",
              "            <th>ClassName</th>\n",
              "        </tr>\n",
              "    </thead>\n",
              "    <tbody>\n",
              "        <tr>\n",
              "            <td>Anakin</td>\n",
              "            <td>Skywalker</td>\n",
              "            <td>Advanced Force Techniques</td>\n",
              "        </tr>\n",
              "        <tr>\n",
              "            <td>Grogu</td>\n",
              "            <td></td>\n",
              "            <td>Lightsaber 101</td>\n",
              "        </tr>\n",
              "        <tr>\n",
              "            <td>Luke</td>\n",
              "            <td>Skywalker</td>\n",
              "            <td>Lightsaber 101</td>\n",
              "        </tr>\n",
              "        <tr>\n",
              "            <td>Luke</td>\n",
              "            <td>Skywalker</td>\n",
              "            <td>Advanced Force Techniques</td>\n",
              "        </tr>\n",
              "        <tr>\n",
              "            <td>Leia</td>\n",
              "            <td>Organa</td>\n",
              "            <td>Advanced Force Techniques</td>\n",
              "        </tr>\n",
              "        <tr>\n",
              "            <td>Leia</td>\n",
              "            <td>Organa</td>\n",
              "            <td>Interstellar Diplomacy</td>\n",
              "        </tr>\n",
              "        <tr>\n",
              "            <td>Rey</td>\n",
              "            <td>Skywalker</td>\n",
              "            <td>Lightsaber 101</td>\n",
              "        </tr>\n",
              "        <tr>\n",
              "            <td>Chewbacca</td>\n",
              "            <td>Wookiee</td>\n",
              "            <td>Lightsaber 101</td>\n",
              "        </tr>\n",
              "        <tr>\n",
              "            <td>Mara</td>\n",
              "            <td>Jade</td>\n",
              "            <td>Advanced Force Techniques</td>\n",
              "        </tr>\n",
              "        <tr>\n",
              "            <td>Mace</td>\n",
              "            <td>Windu</td>\n",
              "            <td>Interstellar Diplomacy</td>\n",
              "        </tr>\n",
              "        <tr>\n",
              "            <td>Padme</td>\n",
              "            <td>Amidala</td>\n",
              "            <td>Interstellar Diplomacy</td>\n",
              "        </tr>\n",
              "        <tr>\n",
              "            <td>Qui-Gon</td>\n",
              "            <td>Jinn</td>\n",
              "            <td>Advanced Force Techniques</td>\n",
              "        </tr>\n",
              "    </tbody>\n",
              "</table>"
            ]
          },
          "metadata": {},
          "execution_count": 18
        }
      ]
    },
    {
      "cell_type": "markdown",
      "source": [
        "This statement will return a result set that includes the `FirstName` and `LastName` from the `Students` table and the `ClassName` from the `Classes` table.\n",
        "\n",
        "The `NATURAL JOIN` keyword implicitly joins `Students` and `Enrollment` on the `StudentID` column (because it is common between these two tables) and then joins that result with `Classes` on the `ClassID` column (since it is common between `Enrollment` and `Classes`).\n",
        "\n",
        "In other words, this query is giving us a list of students along with the names of the classes they are enrolled in.\n",
        "\n",
        "Note: It's important to be careful with `NATURAL JOIN`s, as they automatically match all columns with the same name between the tables. If your tables have any column names in common that aren't meant to be related, you may get unexpected results."
      ],
      "metadata": {
        "id": "HygAyMtJRzYa"
      }
    },
    {
      "cell_type": "markdown",
      "source": [
        "#### COUNT\n",
        "\n",
        "The `COUNT` function returns the number of rows that matches a specified criterion. It is often used with the `SELECT` statement. For example, to find out how many students are enrolled in the Jedi Academy, we would use:"
      ],
      "metadata": {
        "id": "3T2YFrQPT3qE"
      }
    },
    {
      "cell_type": "code",
      "source": [
        "%%sql\n",
        "SELECT COUNT(*) FROM Students;\n"
      ],
      "metadata": {
        "colab": {
          "base_uri": "https://localhost:8080/",
          "height": 96
        },
        "id": "DP3ZlvYwTWOE",
        "outputId": "ebef23d9-e549-4f68-823e-94221512ae56"
      },
      "execution_count": null,
      "outputs": [
        {
          "output_type": "stream",
          "name": "stdout",
          "text": [
            " * sqlite:///jedi_academy.db\n",
            "Done.\n"
          ]
        },
        {
          "output_type": "execute_result",
          "data": {
            "text/plain": [
              "[(10,)]"
            ],
            "text/html": [
              "<table>\n",
              "    <thead>\n",
              "        <tr>\n",
              "            <th>COUNT(*)</th>\n",
              "        </tr>\n",
              "    </thead>\n",
              "    <tbody>\n",
              "        <tr>\n",
              "            <td>10</td>\n",
              "        </tr>\n",
              "    </tbody>\n",
              "</table>"
            ]
          },
          "metadata": {},
          "execution_count": 19
        }
      ]
    },
    {
      "cell_type": "markdown",
      "source": [
        "#### LIKE Operator\n",
        "The `LIKE` operator is used in a WHERE clause to search for a specified pattern in a column. For example, to find all students whose names start with 'A', we would use:"
      ],
      "metadata": {
        "id": "QJnEuwJyUAb8"
      }
    },
    {
      "cell_type": "code",
      "source": [
        "%%sql\n",
        "SELECT * FROM Students WHERE FirstName LIKE 'A%';"
      ],
      "metadata": {
        "colab": {
          "base_uri": "https://localhost:8080/",
          "height": 96
        },
        "id": "wAOYFod5UC5E",
        "outputId": "bfd1d371-06a6-4b37-d2a8-98ae903332e6"
      },
      "execution_count": null,
      "outputs": [
        {
          "output_type": "stream",
          "name": "stdout",
          "text": [
            " * sqlite:///jedi_academy.db\n",
            "Done.\n"
          ]
        },
        {
          "output_type": "execute_result",
          "data": {
            "text/plain": [
              "[(1, 'Anakin', 'Skywalker', 3, 3.8)]"
            ],
            "text/html": [
              "<table>\n",
              "    <thead>\n",
              "        <tr>\n",
              "            <th>StudentID</th>\n",
              "            <th>FirstName</th>\n",
              "            <th>LastName</th>\n",
              "            <th>Level</th>\n",
              "            <th>GPA</th>\n",
              "        </tr>\n",
              "    </thead>\n",
              "    <tbody>\n",
              "        <tr>\n",
              "            <td>1</td>\n",
              "            <td>Anakin</td>\n",
              "            <td>Skywalker</td>\n",
              "            <td>3</td>\n",
              "            <td>3.8</td>\n",
              "        </tr>\n",
              "    </tbody>\n",
              "</table>"
            ]
          },
          "metadata": {},
          "execution_count": 20
        }
      ]
    },
    {
      "cell_type": "markdown",
      "source": [
        "#### `GROUP BY` and `HAVING`\n",
        "`GROUP BY` is a clause in SQL that is used to arrange identical data into groups. The HAVING clause is used instead of WHERE with GROUP BY to filter the groups based on a condition.\n",
        "\n",
        "For example, if we want to know how many students are enrolled in each class, we could use:"
      ],
      "metadata": {
        "id": "rhPXbV2KUH0N"
      }
    },
    {
      "cell_type": "code",
      "source": [
        "%%sql\n",
        "SELECT Classes.ClassName, COUNT(*) AS NumberOfStudents\n",
        "FROM Students\n",
        "NATURAL JOIN Enrollment\n",
        "NATURAL JOIN Classes\n",
        "GROUP BY Classes.ClassID;\n"
      ],
      "metadata": {
        "colab": {
          "base_uri": "https://localhost:8080/",
          "height": 139
        },
        "id": "WGg7XF8qUGq8",
        "outputId": "98785613-e775-4573-a32b-7c6f5735ee74"
      },
      "execution_count": null,
      "outputs": [
        {
          "output_type": "stream",
          "name": "stdout",
          "text": [
            " * sqlite:///jedi_academy.db\n",
            "Done.\n"
          ]
        },
        {
          "output_type": "execute_result",
          "data": {
            "text/plain": [
              "[('Lightsaber 101', 4),\n",
              " ('Advanced Force Techniques', 5),\n",
              " ('Interstellar Diplomacy', 3)]"
            ],
            "text/html": [
              "<table>\n",
              "    <thead>\n",
              "        <tr>\n",
              "            <th>ClassName</th>\n",
              "            <th>NumberOfStudents</th>\n",
              "        </tr>\n",
              "    </thead>\n",
              "    <tbody>\n",
              "        <tr>\n",
              "            <td>Lightsaber 101</td>\n",
              "            <td>4</td>\n",
              "        </tr>\n",
              "        <tr>\n",
              "            <td>Advanced Force Techniques</td>\n",
              "            <td>5</td>\n",
              "        </tr>\n",
              "        <tr>\n",
              "            <td>Interstellar Diplomacy</td>\n",
              "            <td>3</td>\n",
              "        </tr>\n",
              "    </tbody>\n",
              "</table>"
            ]
          },
          "metadata": {},
          "execution_count": 21
        }
      ]
    },
    {
      "cell_type": "markdown",
      "source": [
        "This statement groups the result by ClassID, and for each group, it counts the number of students.\n",
        "\n",
        "If we wanted to filter this result to show only classes with more than four students, we would add a `HAVING` clause:"
      ],
      "metadata": {
        "id": "VgIB3LA_USee"
      }
    },
    {
      "cell_type": "code",
      "source": [
        "%%sql\n",
        "SELECT Classes.ClassName, COUNT(*) AS NumberOfStudents\n",
        "FROM Students\n",
        "NATURAL JOIN Enrollment\n",
        "NATURAL JOIN Classes\n",
        "GROUP BY Classes.ClassID\n",
        "HAVING COUNT(*) > 4;\n"
      ],
      "metadata": {
        "colab": {
          "base_uri": "https://localhost:8080/",
          "height": 96
        },
        "id": "y_xZIDF-UUej",
        "outputId": "69d255d5-ee98-440c-8664-7e6eb8444b39"
      },
      "execution_count": null,
      "outputs": [
        {
          "output_type": "stream",
          "name": "stdout",
          "text": [
            " * sqlite:///jedi_academy.db\n",
            "Done.\n"
          ]
        },
        {
          "output_type": "execute_result",
          "data": {
            "text/plain": [
              "[('Advanced Force Techniques', 5)]"
            ],
            "text/html": [
              "<table>\n",
              "    <thead>\n",
              "        <tr>\n",
              "            <th>ClassName</th>\n",
              "            <th>NumberOfStudents</th>\n",
              "        </tr>\n",
              "    </thead>\n",
              "    <tbody>\n",
              "        <tr>\n",
              "            <td>Advanced Force Techniques</td>\n",
              "            <td>5</td>\n",
              "        </tr>\n",
              "    </tbody>\n",
              "</table>"
            ]
          },
          "metadata": {},
          "execution_count": 22
        }
      ]
    },
    {
      "cell_type": "markdown",
      "source": [
        "### Additional SQL Functions\n",
        "\n",
        "SQL is not just about creating tables and retrieving data. It also has a rich set of built-in functions to perform calculations or operations on your data. In this section, we'll learn about a few of these: AVG, SUM, MIN, MAX, and DISTINCT.\n",
        "\n",
        "### AVG\n",
        "The `AVG` function calculates the average of a set of values. For example, if you want to find out the average GPA of all students at the Jedi Academy, you would use:"
      ],
      "metadata": {
        "id": "mQqM8S1EXQrt"
      }
    },
    {
      "cell_type": "code",
      "source": [
        "%%sql\n",
        "SELECT AVG(GPA) FROM Students;"
      ],
      "metadata": {
        "colab": {
          "base_uri": "https://localhost:8080/",
          "height": 96
        },
        "id": "DrnDjKbaXQNk",
        "outputId": "66dca5cc-9398-4b0c-fc9e-7db415d29db4"
      },
      "execution_count": null,
      "outputs": [
        {
          "output_type": "stream",
          "name": "stdout",
          "text": [
            " * sqlite:///jedi_academy.db\n",
            "Done.\n"
          ]
        },
        {
          "output_type": "execute_result",
          "data": {
            "text/plain": [
              "[(3.75,)]"
            ],
            "text/html": [
              "<table>\n",
              "    <thead>\n",
              "        <tr>\n",
              "            <th>AVG(GPA)</th>\n",
              "        </tr>\n",
              "    </thead>\n",
              "    <tbody>\n",
              "        <tr>\n",
              "            <td>3.75</td>\n",
              "        </tr>\n",
              "    </tbody>\n",
              "</table>"
            ]
          },
          "metadata": {},
          "execution_count": 23
        }
      ]
    },
    {
      "cell_type": "markdown",
      "source": [
        "#### SUM\n",
        "The `SUM` function calculates the total sum of a numeric column. For example, to find the total level of all students (i.e., the sum of all student levels), you would use:"
      ],
      "metadata": {
        "id": "PQpnvOmcXcLM"
      }
    },
    {
      "cell_type": "code",
      "source": [
        "%%sql\n",
        "SELECT SUM(Level) FROM Students;"
      ],
      "metadata": {
        "colab": {
          "base_uri": "https://localhost:8080/",
          "height": 96
        },
        "id": "HFUFpskLXbrc",
        "outputId": "e2638d3b-791e-4565-f903-e8c9e70506c3"
      },
      "execution_count": null,
      "outputs": [
        {
          "output_type": "stream",
          "name": "stdout",
          "text": [
            " * sqlite:///jedi_academy.db\n",
            "Done.\n"
          ]
        },
        {
          "output_type": "execute_result",
          "data": {
            "text/plain": [
              "[(22,)]"
            ],
            "text/html": [
              "<table>\n",
              "    <thead>\n",
              "        <tr>\n",
              "            <th>SUM(Level)</th>\n",
              "        </tr>\n",
              "    </thead>\n",
              "    <tbody>\n",
              "        <tr>\n",
              "            <td>22</td>\n",
              "        </tr>\n",
              "    </tbody>\n",
              "</table>"
            ]
          },
          "metadata": {},
          "execution_count": 24
        }
      ]
    },
    {
      "cell_type": "markdown",
      "source": [
        "#### MIN and MAX\n",
        "`MIN` and `MAX` functions return the smallest and largest value in a set of values, respectively. For instance, to find the students with the lowest and highest GPAs, we would use:"
      ],
      "metadata": {
        "id": "BVI6Lq9zXjc8"
      }
    },
    {
      "cell_type": "code",
      "source": [
        "%%sql\n",
        "SELECT MIN(GPA), MAX(GPA) FROM Students;\n"
      ],
      "metadata": {
        "colab": {
          "base_uri": "https://localhost:8080/",
          "height": 96
        },
        "id": "KGu4FDldXnpM",
        "outputId": "1be78d0b-f861-4775-a959-1e241ca92752"
      },
      "execution_count": null,
      "outputs": [
        {
          "output_type": "stream",
          "name": "stdout",
          "text": [
            " * sqlite:///jedi_academy.db\n",
            "Done.\n"
          ]
        },
        {
          "output_type": "execute_result",
          "data": {
            "text/plain": [
              "[(3.2, 4.0)]"
            ],
            "text/html": [
              "<table>\n",
              "    <thead>\n",
              "        <tr>\n",
              "            <th>MIN(GPA)</th>\n",
              "            <th>MAX(GPA)</th>\n",
              "        </tr>\n",
              "    </thead>\n",
              "    <tbody>\n",
              "        <tr>\n",
              "            <td>3.2</td>\n",
              "            <td>4.0</td>\n",
              "        </tr>\n",
              "    </tbody>\n",
              "</table>"
            ]
          },
          "metadata": {},
          "execution_count": 25
        }
      ]
    },
    {
      "cell_type": "markdown",
      "source": [
        "#### DISTINCT\n",
        "The DISTINCT keyword is used in conjunction with SELECT to eliminate all the duplicate records and fetch only the unique ones. Let's say we want to see all the unique levels of students. We can achieve this using the DISTINCT keyword as follows:"
      ],
      "metadata": {
        "id": "5nYCaxjkXrcm"
      }
    },
    {
      "cell_type": "code",
      "source": [
        "%%sql\n",
        "SELECT DISTINCT Level FROM Students;"
      ],
      "metadata": {
        "colab": {
          "base_uri": "https://localhost:8080/",
          "height": 139
        },
        "id": "Mak2A82YXtIs",
        "outputId": "1e3c8f5a-74c9-482a-cfe3-021d68256cfa"
      },
      "execution_count": null,
      "outputs": [
        {
          "output_type": "stream",
          "name": "stdout",
          "text": [
            " * sqlite:///jedi_academy.db\n",
            "Done.\n"
          ]
        },
        {
          "output_type": "execute_result",
          "data": {
            "text/plain": [
              "[(3,), (2,), (1,)]"
            ],
            "text/html": [
              "<table>\n",
              "    <thead>\n",
              "        <tr>\n",
              "            <th>Level</th>\n",
              "        </tr>\n",
              "    </thead>\n",
              "    <tbody>\n",
              "        <tr>\n",
              "            <td>3</td>\n",
              "        </tr>\n",
              "        <tr>\n",
              "            <td>2</td>\n",
              "        </tr>\n",
              "        <tr>\n",
              "            <td>1</td>\n",
              "        </tr>\n",
              "    </tbody>\n",
              "</table>"
            ]
          },
          "metadata": {},
          "execution_count": 26
        }
      ]
    },
    {
      "cell_type": "markdown",
      "source": [
        "Remember, SQL functions offer much more than just these. They can be extremely powerful in processing large amounts of data directly in the database without requiring additional processing in your application or software."
      ],
      "metadata": {
        "id": "WJCth4YWX1gz"
      }
    },
    {
      "cell_type": "markdown",
      "source": [
        "## Table: Basic SQL Commands\n",
        "\n",
        "| SQL Command | Description |\n",
        "| --- | --- |\n",
        "| `CREATE TABLE Cars (Model VARCHAR(50), Year INT);` | SQL query to create a table (Cars) with a string attribute ('Model') and an integer attribute ('Year'). |\n",
        "| `INSERT INTO Cars (Model, Year) VALUES ('Tesla Model 3', 2020);` | SQL query to insert a new row into the table (Cars) with values for attributes 'Model' (\"Tesla Model 3\") and 'Year' (2020). |\n",
        "| `SELECT * FROM Animals;` | SQL query to retrieve all rows and attributes from the table (Animals). |\n",
        "| `SELECT Name, Species FROM Animals;` | SQL query to retrieve attributes 'Name' and 'Species' from all rows in the table (Animals). |\n",
        "| `SELECT * FROM Students WHERE GPA = 4.0;` | SQL query to retrieve all rows from the table (Students) where the attribute 'GPA' is 4.0. |\n",
        "| `SELECT * FROM Beer WHERE Brand LIKE '%IPA%';` | SQL query to retrieve all rows from the table (Beer) where the attribute 'Brand' contains the string 'IPA'. |\n",
        "| `SELECT COUNT(*) FROM Cars;` | SQL query to count the total number of rows in the table (Cars). |\n",
        "| `SELECT Major, COUNT(*) FROM Students GROUP BY Major;` | SQL query to count the number of rows in the table (Students) for each unique value in the attribute 'Major'. |\n",
        "| `SELECT Type, COUNT(*) FROM Beer GROUP BY Type HAVING COUNT(*) > 1;` | SQL query to count the number of rows in the table (Beer) for each unique value in the attribute 'Type', only including groups with more than one row. |\n",
        "| `INSERT INTO Animals (Name, Species) VALUES ('Fido', 'Dog');` | SQL query to insert another new row into the table (Animals) with different values for the attributes 'Name' and 'Species'. |\n",
        "| `SELECT * FROM Students WHERE Major LIKE 'Compu%';` | SQL query to retrieve all rows from the table (Students) where the attribute 'Major' starts with the string 'Compu'. |\n",
        "| `SELECT * FROM Cars WHERE Year > 2010;` | SQL query to retrieve all rows from the table (Cars) where the attribute 'Year' is greater than 2010. |\n",
        "| `SELECT * FROM Beer ORDER BY Alcohol_Content;` | SQL query to retrieve all rows from the table (Beer), ordered by the attribute 'Alcohol_Content' in ascending order. |\n",
        "| `SELECT * FROM Animals ORDER BY Species DESC;` | SQL query to retrieve all rows from the table (Animals), ordered by the attribute 'Species' in descending order. |\n",
        "| `SELECT Major, AVG(GPA) FROM Students GROUP BY Major;` | SQL query to find the average of the attribute 'GPA' in the table (Students) for each unique value in the attribute 'Major'. |\n",
        "| `SELECT Type, SUM(Alcohol_Content) FROM Beer GROUP BY Type;` | SQL query to find the sum of the attribute 'Alcohol_Content' in the table (Beer) for each unique value in the attribute 'Type'. |\n",
        "| `SELECT Species, MIN(Age) FROM Animals GROUP BY Species;` | SQL query to find the minimum of the attribute 'Age' in the table (Animals) for each unique value in the attribute 'Species'. |\n",
        "| `SELECT Year, MAX(Price) FROM Cars GROUP BY Year;` | SQL query to find the maximum of the attribute 'Price' in the table (Cars) for each unique value in the attribute 'Year'. |\n",
        "| `SELECT DISTINCT Major FROM Students;` | SQL query to retrieve all distinct values of the attribute 'Major' from the table (Students). |"
      ],
      "metadata": {
        "id": "slwvemJIU4cS"
      }
    },
    {
      "cell_type": "markdown",
      "source": [
        "## Exercises: Basic SQL\n",
        "Here are some exercises for you to try out. (Some of these appear earlier in the document, but try to do them wihout looking!).\n",
        "\n",
        "1.  Insert a New Student: Add a new student named 'Obi-Wan Kenobi' with a level of 3 and a GPA of 3.8 into the 'Students' table.\n",
        "\n",
        "2.  Retrieve Specific Data: Fetch the 'FirstName' and 'LastName' of all students who are at Level 2.\n",
        "\n",
        "3.  Add a New Class: Create a new class named 'Force 101' and add it to the 'Classes' table.\n",
        "\n",
        "4.  Enroll a Student: Enroll 'Obi-Wan Kenobi' in 'Force 101'. Make sure the 'Enrollment' table is updated accordingly.\n",
        "\n",
        "5.  Count the Students: Find out how many students are enrolled at the Jedi Academy.\n",
        "\n",
        "6.  Find Average GPA: Calculate the average GPA of all students at the Jedi Academy.\n",
        "\n",
        "7.  Student with Highest GPA: Find out who has the highest GPA in the academy. Is it 'Obi-Wan Kenobi'?\n",
        "\n",
        "8.  Students in a Class: Find out the names of all students enrolled in 'Force 101'.\n",
        "\n",
        "9.  Find Unique Levels: Use the DISTINCT keyword to find all unique Levels that the students of Jedi Academy are in.\n",
        "\n",
        "10. Classes per Student: Count the number of classes each student is enrolled in."
      ],
      "metadata": {
        "id": "qKx2W1vNYQLC"
      }
    },
    {
      "cell_type": "code",
      "source": [
        "%%sql\n",
        "-- Query 1:"
      ],
      "metadata": {
        "id": "Ucl_y5N7Ueyh",
        "colab": {
          "base_uri": "https://localhost:8080/"
        },
        "outputId": "4d91adf9-e42a-4eb2-c0b8-7ebf9c5011dd"
      },
      "execution_count": null,
      "outputs": [
        {
          "output_type": "stream",
          "name": "stdout",
          "text": [
            " * sqlite:///jedi_academy.db\n",
            "Done.\n"
          ]
        },
        {
          "output_type": "execute_result",
          "data": {
            "text/plain": [
              "[]"
            ]
          },
          "metadata": {},
          "execution_count": 27
        }
      ]
    },
    {
      "cell_type": "code",
      "source": [
        "%%sql\n",
        "-- Query 2:"
      ],
      "metadata": {
        "id": "rl6TUwhmY46B",
        "colab": {
          "base_uri": "https://localhost:8080/"
        },
        "outputId": "b3aaa7ec-adfa-47a9-e0b0-fe40cf84d5ec"
      },
      "execution_count": null,
      "outputs": [
        {
          "output_type": "stream",
          "name": "stdout",
          "text": [
            " * sqlite:///jedi_academy.db\n",
            "Done.\n"
          ]
        },
        {
          "output_type": "execute_result",
          "data": {
            "text/plain": [
              "[]"
            ]
          },
          "metadata": {},
          "execution_count": 28
        }
      ]
    },
    {
      "cell_type": "code",
      "source": [
        "%%sql\n",
        "-- Query 3:"
      ],
      "metadata": {
        "id": "APLHfFQjY514",
        "colab": {
          "base_uri": "https://localhost:8080/"
        },
        "outputId": "573f9e2d-83b1-4584-b133-9ec9ce20d32b"
      },
      "execution_count": null,
      "outputs": [
        {
          "output_type": "stream",
          "name": "stdout",
          "text": [
            " * sqlite:///jedi_academy.db\n",
            "Done.\n"
          ]
        },
        {
          "output_type": "execute_result",
          "data": {
            "text/plain": [
              "[]"
            ]
          },
          "metadata": {},
          "execution_count": 29
        }
      ]
    },
    {
      "cell_type": "code",
      "source": [
        "%%sql\n",
        "-- Query 4:"
      ],
      "metadata": {
        "id": "LULxyO2uY6w6",
        "colab": {
          "base_uri": "https://localhost:8080/"
        },
        "outputId": "b6b051ac-fc84-4abf-f67e-f20292fc1846"
      },
      "execution_count": null,
      "outputs": [
        {
          "output_type": "stream",
          "name": "stdout",
          "text": [
            " * sqlite:///jedi_academy.db\n",
            "Done.\n"
          ]
        },
        {
          "output_type": "execute_result",
          "data": {
            "text/plain": [
              "[]"
            ]
          },
          "metadata": {},
          "execution_count": 30
        }
      ]
    },
    {
      "cell_type": "code",
      "source": [
        "%%sql\n",
        "-- Query 5:"
      ],
      "metadata": {
        "id": "9DKaEfjYY8N4",
        "colab": {
          "base_uri": "https://localhost:8080/"
        },
        "outputId": "5e15ec94-d352-4877-e517-78a63d7540e6"
      },
      "execution_count": null,
      "outputs": [
        {
          "output_type": "stream",
          "name": "stdout",
          "text": [
            " * sqlite:///jedi_academy.db\n",
            "Done.\n"
          ]
        },
        {
          "output_type": "execute_result",
          "data": {
            "text/plain": [
              "[]"
            ]
          },
          "metadata": {},
          "execution_count": 31
        }
      ]
    },
    {
      "cell_type": "code",
      "source": [
        "%%sql\n",
        "-- Query 6:"
      ],
      "metadata": {
        "id": "UafBJ7v0Y9Fh",
        "colab": {
          "base_uri": "https://localhost:8080/"
        },
        "outputId": "8c41280f-0164-4880-fbf8-ae08f8666232"
      },
      "execution_count": null,
      "outputs": [
        {
          "output_type": "stream",
          "name": "stdout",
          "text": [
            " * sqlite:///jedi_academy.db\n",
            "Done.\n"
          ]
        },
        {
          "output_type": "execute_result",
          "data": {
            "text/plain": [
              "[]"
            ]
          },
          "metadata": {},
          "execution_count": 32
        }
      ]
    },
    {
      "cell_type": "code",
      "source": [
        "%%sql\n",
        "-- Query 7:"
      ],
      "metadata": {
        "id": "1kvDM32wY-RB",
        "colab": {
          "base_uri": "https://localhost:8080/"
        },
        "outputId": "7350b000-e528-46f9-9bfa-3159dc1e981c"
      },
      "execution_count": null,
      "outputs": [
        {
          "output_type": "stream",
          "name": "stdout",
          "text": [
            " * sqlite:///jedi_academy.db\n",
            "Done.\n"
          ]
        },
        {
          "output_type": "execute_result",
          "data": {
            "text/plain": [
              "[]"
            ]
          },
          "metadata": {},
          "execution_count": 33
        }
      ]
    },
    {
      "cell_type": "code",
      "source": [
        "%%sql\n",
        "-- Query 8:"
      ],
      "metadata": {
        "id": "DvQYaEbaY_JR",
        "colab": {
          "base_uri": "https://localhost:8080/"
        },
        "outputId": "6617db05-ebd6-496f-bc0a-d2f959acfcb6"
      },
      "execution_count": null,
      "outputs": [
        {
          "output_type": "stream",
          "name": "stdout",
          "text": [
            " * sqlite:///jedi_academy.db\n",
            "Done.\n"
          ]
        },
        {
          "output_type": "execute_result",
          "data": {
            "text/plain": [
              "[]"
            ]
          },
          "metadata": {},
          "execution_count": 34
        }
      ]
    },
    {
      "cell_type": "code",
      "source": [
        "%%sql\n",
        "-- Query 9:\n"
      ],
      "metadata": {
        "id": "Zk6cyA4cY__R",
        "colab": {
          "base_uri": "https://localhost:8080/"
        },
        "outputId": "a94f9b0d-2b38-4280-b28d-6a8324402921"
      },
      "execution_count": null,
      "outputs": [
        {
          "output_type": "stream",
          "name": "stdout",
          "text": [
            " * sqlite:///jedi_academy.db\n",
            "Done.\n"
          ]
        },
        {
          "output_type": "execute_result",
          "data": {
            "text/plain": [
              "[]"
            ]
          },
          "metadata": {},
          "execution_count": 35
        }
      ]
    },
    {
      "cell_type": "code",
      "source": [
        "%%sql\n",
        "-- Query 10:"
      ],
      "metadata": {
        "id": "Y5Nkx1fgZCHo",
        "colab": {
          "base_uri": "https://localhost:8080/"
        },
        "outputId": "f3c318f8-2334-4db4-9d1c-c5e9b0dde0bb"
      },
      "execution_count": null,
      "outputs": [
        {
          "output_type": "stream",
          "name": "stdout",
          "text": [
            " * sqlite:///jedi_academy.db\n",
            "Done.\n"
          ]
        },
        {
          "output_type": "execute_result",
          "data": {
            "text/plain": [
              "[]"
            ]
          },
          "metadata": {},
          "execution_count": 36
        }
      ]
    },
    {
      "cell_type": "markdown",
      "source": [
        "### Case Study: Database Design and Deployment in Star Wars\n",
        "\n",
        "Welcome to the next phase of your journey in understanding databases. So far, we've dabbled in the basics of SQL, learning how to query, filter, and sort data. We've mastered the `SELECT` statement, delved into the `WHERE` clause, and even learned to put things in order with `ORDER BY`. You've become proficient in using SQL to interact with existing databases, but now we're going to dig deeper. The universe of databases is vast, and we've barely scratched the surface.\n",
        "\n",
        "For this case study, Imagine you are tasked with designing a database for the Galactic Empire. The stakes are high; the Empire needs to keep track of planets, rebel activity, starship deployments, and more. On the other side, the Rebel Alliance also needs a database for their ragtag fleet and undercover operations. Whether you're Team Empire or Team Rebellion, you'll need to think critically about how to structure your data to ensure efficient queries, secure data storage, and accurate information retrieval.\n",
        "\n",
        "Through this case study, we will address key principles of database design and deployment, including:\n",
        "\n",
        "1.  Conceptual Modeling: What are the primary components in the Star Wars universe, and how do they interact?\n",
        "\n",
        "2.  Physical Modeling: How can we \"translate\" this conceptual model to the language of SQL?\n",
        "\n",
        "3.  Securing the Database: How would the Empire protect its data? What security measures should the Rebels take?\n",
        "\n",
        "4.  Deployment Considerations: How do you decide which database engine to use, and what are some considerations for scalability and performance?\n",
        "\n",
        "By the end of this case study, you'll have a well-rounded understanding of the core concepts that underpin database design and deployment. You'll be equipped with the skills to tackle real-world problems---whether in this galaxy or one far, far away."
      ],
      "metadata": {
        "id": "Y43_QDqvvLns"
      }
    },
    {
      "cell_type": "markdown",
      "source": [
        "### Conceptual Modeling\n",
        "\n",
        "Imagine you have a crucial role in the Rebel Alliance---you're tasked with overseeing an elite X-wing squadron. Your primary challenge lies not just in outmaneuvering the Empire, but also in managing an immense amount of data effectively. Whether it's pilot expertise or mission details, every piece of information can be pivotal. To confront the Empire's vast resources and superior data management capabilities, you must create an impeccably designed database.\n",
        "\n",
        "**Business Rules: Setting the Operational Guidelines.** Before we dive into the nitty-gritty of database design, it's important to lay down the \"business rules\" or operational guidelines that your X-wing squadron must adhere to. Think of business rules as the \"laws\" of your organizational universe---they establish the policies, procedures, and constraints that your database design must respect. For instance, you'll need rules to clarify how many pilots can fly a single X-wing, what each mission should entail, and how to handle equipment. The business rules will act as a blueprint for identifying entities, attributes, and relationships. Some rules might be:\n",
        "\n",
        "-   Each X-wing is piloted by one pilot.\n",
        "-   Pilots may fly different X-wings for different missions.\n",
        "-   Each mission may involve multiple pilots and multiple X-wings.\n",
        "-   Equipment is assigned to X-wings, not pilots.\n",
        "-   Each mission has a specific objective and is categorized by its level of urgency.\n",
        "\n",
        "**Entities: The Building Blocks of Your Universe.** Once your business rules are clear, the next step is to identify the primary entities---the key \"things\" or \"objects\" your database must keep track of. In the Star Wars universe, this could be anything from lightsabers to Wookiees, but in our specific context of an X-wing squadron, you might focus on Pilots, X-Wings, Missions, Bases, and Equipment. Identifying these entities is crucial because they will become the tables in your database.\n",
        "\n",
        "**Attributes: Defining Characteristics of Your Entities**. Attributes are essentially the details or characteristics that describe each entity. Think of them as the columns in each table of your database. For a 'Pilot' entity, the attributes could include name, rank, and level of experience. For an 'X-Wing,' you might want to include the model, serial number, and current operational status. The attributes you choose should align with the business rules and what you need to achieve operationally for each entity. Some more detailed attributes might be:\n",
        "\n",
        "-   Pilots: Name, Rank, Experience Level\n",
        "-   X-Wings: Model, Serial Number, Status (Operational/In Repair)\n",
        "-   Missions: Code Name, Objective, Urgency Level\n",
        "-   Bases: Location, Capacity, Security Level\n",
        "-   Equipment: Type, Status, Compatible Models\n",
        "\n",
        "**Relationships: Making Connections Between Entities.** Understanding the relationships between entities is key to creating an efficient database. Relationships map out how one entity interacts with another, helping you understand where to use primary and foreign keys in your tables. In our X-wing squadron, we have various types of relationships such as One-to-One, One-to-Many, and Many-to-Many. For example:\n",
        "\n",
        "-   Pilots-to-X-Wings: One-to-Many (Each pilot can fly multiple X-wings, but each X-wing is flown by one pilot at a time)\n",
        "-   Pilots-to-Missions: Many-to-Many (Pilots can go on multiple missions and missions can have multiple pilots)\n",
        "-   Missions-to-Bases: Many-to-One (Missions are launched from a base, but one base can launch multiple missions)\n",
        "-   X-Wings-to-Equipment: One-to-Many (Each X-wing can have multiple pieces of equipment)\n",
        "\n",
        "With a keen understanding of these core components---business rules, entities, attributes, and relationships---you will be well-equipped to embark on the journey of designing a database that can effectively manage an X-wing squadron. These foundational concepts will pave the way for more advanced topics like database normalization, primary and foreign keys, security, and deployment considerations. So, may the Force---along with these robust database design principles---be with you!"
      ],
      "metadata": {
        "id": "Xn0cVjGoyJhT"
      }
    },
    {
      "cell_type": "markdown",
      "source": [
        "### Physical Modeling: Turning Concepts into SQL Code\n",
        "\n",
        "Now that we have a good grasp of the conceptual model, let's delve into how to translate that into SQL code, which is a part of physical modeling. This phase involves several tasks, including deciding on data types, specifying primary and foreign keys, and addressing many-to-many relationships. Physical modeling turns your conceptual ideas into a working database, ready to take on the challenges of the Rebel Alliance.\n",
        "\n",
        "#### Choosing Data Types: The Nitty-Gritty of Storage\n",
        "\n",
        "SQL databases come with a variety of data types that help you define the kind of information each attribute will store. The data types you choose must align with the business rules and the nature of the data itself. For example, a pilot's name could be stored as `VARCHAR(50)`, while their experience level might be best represented as an `INT`.\n",
        "\n",
        "Here's how you might define some of the entities in SQL, with relevant data types:\n"
      ],
      "metadata": {
        "id": "QUqdj536zJ2A"
      }
    },
    {
      "cell_type": "code",
      "source": [
        "%%sql\n",
        "--Let's drop the table in case we already created it\n",
        "DROP TABLE IF EXISTS Pilots;\n",
        "\n",
        "--Now, create the table\n",
        "CREATE TABLE Pilots (\n",
        "    PilotID INT PRIMARY KEY,\n",
        "    Name VARCHAR(50),\n",
        "    Rank VARCHAR(20),\n",
        "    ExperienceLevel INT\n",
        ");"
      ],
      "metadata": {
        "id": "Ef97nqbL9eGQ",
        "colab": {
          "base_uri": "https://localhost:8080/"
        },
        "outputId": "d0492929-bec1-45ba-b2c5-e726fe6c6322"
      },
      "execution_count": 53,
      "outputs": [
        {
          "output_type": "stream",
          "name": "stdout",
          "text": [
            " * sqlite:///jedi_academy.db\n",
            "Done.\n",
            "Done.\n"
          ]
        },
        {
          "output_type": "execute_result",
          "data": {
            "text/plain": [
              "[]"
            ]
          },
          "metadata": {},
          "execution_count": 53
        }
      ]
    },
    {
      "cell_type": "code",
      "source": [
        "%%sql\n",
        "--Let's drop the table in case we already created it\n",
        "DROP TABLE IF EXISTS X_Wings;\n",
        "\n",
        "--Now, create the table\n",
        "CREATE TABLE X_Wings (\n",
        "    XWingID INT PRIMARY KEY,\n",
        "    Model VARCHAR(20),\n",
        "    SerialNumber VARCHAR(30),\n",
        "    Status VARCHAR(32) CHECK (Status IN (\"Operational\", \"Maintenance\"))\n",
        ");"
      ],
      "metadata": {
        "id": "uiLtqhHv9vch",
        "outputId": "434461aa-60f7-4494-a056-bd3b9ebe6789",
        "colab": {
          "base_uri": "https://localhost:8080/"
        }
      },
      "execution_count": 54,
      "outputs": [
        {
          "output_type": "stream",
          "name": "stdout",
          "text": [
            " * sqlite:///jedi_academy.db\n",
            "Done.\n",
            "Done.\n"
          ]
        },
        {
          "output_type": "execute_result",
          "data": {
            "text/plain": [
              "[]"
            ]
          },
          "metadata": {},
          "execution_count": 54
        }
      ]
    },
    {
      "cell_type": "markdown",
      "source": [
        "### Primary and Foreign Keys: Creating Uniqueness and Relationships\n",
        "\n",
        "A primary key uniquely identifies each record in a table and must contain a unique value. A foreign key, on the other hand, is used to link two tables together. It references the primary key in another table, thereby establishing a relationship between them.\n",
        "\n",
        "Using our X-wing squadron example, `PilotID` and `XWingID` could be primary keys for the `Pilots` and `X_Wings` tables, respectively. If we have a `Missions` table, we might use a `MissionID` as its primary key and include `PilotID` and `XWingID` as foreign keys to establish relationships.\n"
      ],
      "metadata": {
        "id": "HMGgIeRG9bXI"
      }
    },
    {
      "cell_type": "code",
      "source": [
        "%%sql\n",
        "--Let's drop the table in case we already created it\n",
        "DROP TABLE IF EXISTS Missions;\n",
        "\n",
        "CREATE TABLE Missions (\n",
        "    MissionID INT PRIMARY KEY,\n",
        "    CodeName VARCHAR(50),\n",
        "    Objective TEXT,\n",
        "    UrgencyLevel VARCHAR(10)\n",
        "      CHECK (UrgencyLevel IN ('Low', 'Medium', 'High')),\n",
        "    PilotID INT,\n",
        "    XWingID INT,\n",
        "    FOREIGN KEY (PilotID) REFERENCES Pilots(PilotID),\n",
        "    FOREIGN KEY (XWingID) REFERENCES X_Wings(XWingID)\n",
        ");"
      ],
      "metadata": {
        "id": "GZkcF4C793MP",
        "outputId": "e4d9ba6b-0672-43b1-be70-797c4fff004a",
        "colab": {
          "base_uri": "https://localhost:8080/"
        }
      },
      "execution_count": 58,
      "outputs": [
        {
          "output_type": "stream",
          "name": "stdout",
          "text": [
            " * sqlite:///jedi_academy.db\n",
            "Done.\n",
            "Done.\n"
          ]
        },
        {
          "output_type": "execute_result",
          "data": {
            "text/plain": [
              "[]"
            ]
          },
          "metadata": {},
          "execution_count": 58
        }
      ]
    },
    {
      "cell_type": "markdown",
      "source": [
        "With these physical modeling steps, you can see how the conceptual framework starts to take shape in the form of actual SQL code. By carefully choosing data types, designating primary and foreign keys, and resolving many-to-many relationships, you transform your conceptual ideas into a functional database. This transformation enables you to execute the intricate operations of your X-wing squadron effectively, making you a true asset to the Rebel Alliance."
      ],
      "metadata": {
        "id": "lq9IVld_-Frf"
      }
    },
    {
      "cell_type": "markdown",
      "source": [
        "![xwing.drawio.png](data:image/png;base64,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)"
      ],
      "metadata": {
        "id": "uPt0Lul3K2Bp"
      }
    },
    {
      "cell_type": "markdown",
      "source": [
        "### Choosing an RDBMS\n",
        "\n",
        "A **Relational Database Management System (RDBMS)** is a software system that provides an interface to interact with databases, allowing you to perform actions like querying, updating, or inserting data. SQL (Structured Query Language) is the standard language used for interacting with an RDBMS. Just as Galactic Basic is the common language spoken across different planets and species in the Star Wars universe, SQL serves as a universally accepted set of commands for interacting with any RDBMS. While each RDBMS has small quirks, what you've learned in this chapter should apply to nearly all of them.\n",
        "\n",
        "#### Serverless vs. Server-Client Databases: The Battle Scenarios\n",
        "\n",
        "In a **serverless database** like SQLite (what we've been using so far), the database engine runs within the application itself. There's no need for a separate, central server to manage interactions with the database. Think of it like the personal datapads used by Rebel spies. Lightweight and portable, they contain all the essential information for a single operative to perform a mission but are not intended for coordinating a full-scale assault on the Death Star.\n",
        "\n",
        "Serverless databases are suitable for small-scale applications, mobile apps, and educational projects. They are the best fit when you need something lightweight and easy to set up, with minimal configuration. If you're a lone Jedi or a small Rebel cell planning minor operations, a serverless database may be all you need. They are a great way to store data in your Python (or Java, C, etc.) applications, and are bundled by default with many modern programming languages (including Python).\n",
        "\n",
        "In contrast, **server-client databases** like PostgreSQL, MySQL, Oracle, and SQL Server operate on a central server. These are the equivalent of the mainframe computers at Rebel bases, designed to handle galaxy-wide operations and capable of supporting multiple users and complex queries. If you're running large, coordinated missions that require multiple levels of hierarchy, advanced features, and high availability---like the Rebel fleet attacking the second Death Star---a server-client RDBMS is more appropriate. These databases are designed for scalability and can accommodate complex operations, making them ideal for mid-to-large-scale applications.\n",
        "\n",
        "\n",
        "####  Open-Source vs. Proprietary: The Galactic Choice\n",
        "\n",
        "**Open-source databases** like SQLite and PostgreSQL are the rebels of the database world. They're community-driven, free to use, and adaptable. Much like the Rebellion, which operates on shared principles and contributions from various species and systems, open-source databases benefit from a community of developers contributing to their improvement and extension. Open-source options are suitable for organizations that are cost-sensitive and can benefit from community support. Think of scrappy Rebel groups pooling their resources to fight the Empire.\n",
        "\n",
        "**Proprietary databases** like Oracle and Microsoft SQL Server are on the other side of the spectrum. These are the Imperial Star Destroyers of databases---highly efficient, extremely powerful, but also costly. They come with licensing fees and a structured environment that you must adhere to.  If you're running an organization that requires a high level of security, advanced features, and you have the resources for it---akin to the Empire's well-funded and tightly controlled operations---a proprietary database might be the way to go."
      ],
      "metadata": {
        "id": "tSni3ABa2Hv2"
      }
    },
    {
      "cell_type": "markdown",
      "source": [
        "### Questions: Databases in Star Wars\n",
        "1. In the context of the Rebel Alliance, what additional entities might you consider crucial, beyond Pilots, X-Wings, Missions, Bases, and Equipment? Explain how these entities could be important for the Rebellion's success against the Empire.\n",
        "\n",
        "2. Discuss the business rules in place for the X-wing squadron. What additional operational guidelines should be considered to enhance mission success rates and operational efficiency? How might these rules vary if you were designing a database for the Galactic Empire instead?\n",
        "\n",
        "3. How would the Empire and the Rebel Alliance differ in their approaches to database security? Given the covert nature of the Rebel Alliance and the authoritative nature of the Empire, what specific security measures would each side prioritize? (Follow up: How does this matter in the real world?)\n",
        "\n",
        "4. From which sorts of projects or scenarios would an open-source or proprietary database be more suitable? Consider factors like cost, community support, and customization in your discussion."
      ],
      "metadata": {
        "id": "OFOENl1o2H-W"
      }
    },
    {
      "cell_type": "markdown",
      "source": [
        "## My Answers: Databases in Star Wars\n",
        "1.\n",
        "\n",
        "2.\n",
        "\n",
        "3.\n",
        "\n",
        "4.\n",
        "\n",
        "5."
      ],
      "metadata": {
        "id": "KWwQRA9m37eC"
      }
    },
    {
      "cell_type": "markdown",
      "source": [
        "## Review WIth Quizlet\n",
        "Run the following cell to launch the Quizlet review."
      ],
      "metadata": {
        "id": "8ybSPEpZ7WFR"
      }
    },
    {
      "cell_type": "code",
      "source": [
        "%%html\n",
        "<iframe src=\"https://quizlet.com/821793896/learn/embed?i=psvlh&x=1jj1\" height=\"600\" width=\"100%\" style=\"border:0\"></iframe>"
      ],
      "metadata": {
        "colab": {
          "base_uri": "https://localhost:8080/",
          "height": 622
        },
        "id": "WUjDiLbqyHUp",
        "outputId": "4a324210-2937-41de-ebe3-1cfe97323fd9"
      },
      "execution_count": null,
      "outputs": [
        {
          "output_type": "display_data",
          "data": {
            "text/plain": [
              "<IPython.core.display.HTML object>"
            ],
            "text/html": [
              "<iframe src=\"https://quizlet.com/821793896/learn/embed?i=psvlh&x=1jj1\" height=\"600\" width=\"100%\" style=\"border:0\"></iframe>\n"
            ]
          },
          "metadata": {}
        }
      ]
    },
    {
      "cell_type": "markdown",
      "source": [
        "## Glossary\n",
        "| Term | Definition |\n",
        "| --- | --- |\n",
        "| Data | Raw, unprocessed facts and statistics collected together for reference or analysis. |\n",
        "| Structured Data | Information with a high degree of organization, such that inclusion in a relational database is seamless and readily searchable by simple, straightforward search engine algorithms or other search operations. |\n",
        "| Unstructured Data | Information that doesn't adhere to a predefined data model and is not easily searchable, including data like text and multimedia content. |\n",
        "| Database | An organized collection of data, typically in digital form, designed to model aspects of reality in a way that provides useful information. |\n",
        "| Flat File | A plain text or binary file that contains data in a consistent format without structured relationships. |\n",
        "| Relational Database | A type of database that uses a structure allowing for the identification and access of data in relation to other pieces of data in the database. |\n",
        "| Structured Query Language (SQL) | A programming language used for managing and manipulating relational databases. |\n",
        "| SQLite | A software library that provides a relational database management system with a no-server, self-contained system. |\n",
        "| Database Table | A set of data elements organized using a model of vertical columns and horizontal rows. |\n",
        "| Database Attribute | A characteristic or property of an entity, often represented as a column in a table. |\n",
        "| Database Record | A single, structured data item that consists of a set of attributes (fields or columns) in a table. |\n",
        "| Declarative Language | A style of programming that expresses the logic of a computation without describing its control flow, often used to interact with databases. |\n",
        "| Procedural Language | A type of programming language where the logic is denoted by procedures or routines that explain a sequence of steps to be performed for given inputs to produce outputs. |\n",
        "| Primary Key | A unique identifier for a database record. Each table can have one primary key, which can either be an attribute that uniquely identifies records, or a combination of attributes. |\n",
        "| Foreign Key | An attribute or a set of attributes in one table that matches the primary key of another table, used to link two tables together. |\n",
        "| Transaction | A logical unit of work that contains one or more SQL statements, treated in a coherent and reliable way independent of other transactions. |\n",
        "| ACID | An acronym for Atomicity, Consistency, Isolation, Durability, these are properties of database transactions intended to guarantee validity even in the event of errors, power failures, etc. |"
      ],
      "metadata": {
        "id": "D409kQLfy4eS"
      }
    },
    {
      "cell_type": "code",
      "source": [],
      "metadata": {
        "id": "5bj7ZZOLqhOB"
      },
      "execution_count": null,
      "outputs": []
    }
  ]
}