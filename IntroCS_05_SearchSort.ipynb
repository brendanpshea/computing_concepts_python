{
  "nbformat": 4,
  "nbformat_minor": 0,
  "metadata": {
    "colab": {
      "provenance": [],
      "authorship_tag": "ABX9TyNqwxPo7f7q45cdlG/aekpB",
      "include_colab_link": true
    },
    "kernelspec": {
      "name": "python3",
      "display_name": "Python 3"
    },
    "language_info": {
      "name": "python"
    }
  },
  "cells": [
    {
      "cell_type": "markdown",
      "metadata": {
        "id": "view-in-github",
        "colab_type": "text"
      },
      "source": [
        "<a href=\"https://colab.research.google.com/github/brendanpshea/computing_concepts_python/blob/main/IntroCS_05_SearchSort.ipynb\" target=\"_parent\"><img src=\"https://colab.research.google.com/assets/colab-badge.svg\" alt=\"Open In Colab\"/></a>"
      ]
    },
    {
      "cell_type": "markdown",
      "source": [
        "# What Are Algorithms? Finding Paths Through Problems\n",
        "\n",
        "Algorithms are everywhere in our daily lives, from following a recipe to finding the fastest route home. In computer science, an **algorithm** is a step-by-step procedure for solving a problem or accomplishing a task. Think of algorithms as detailed instructions that tell a computer exactly what to do.\n",
        "\n",
        "When we write algorithms, we're creating a path through a problem:\n",
        "\n",
        "* **Input**: The information or data we start with\n",
        "  * This could be a list of numbers, a string of text, or any other data\n",
        "* **Process**: The steps we take to transform the input\n",
        "  * These steps must be:\n",
        "    * **Clear**: No ambiguity about what to do next\n",
        "    * **Finite**: The process must eventually end\n",
        "    * **Effective**: Each step must be doable\n",
        "* **Output**: The solution or result we want\n",
        "\n",
        "Algorithms are important because they help us:\n",
        "\n",
        "* Solve problems consistently\n",
        "* Handle large amounts of data efficiently\n",
        "* Automate repetitive tasks\n",
        "* Create predictable outcomes\n",
        "\n",
        "In this course, we'll focus on two fundamental types of algorithms:\n",
        "\n",
        "1. **Search algorithms**: Methods for finding a specific item in a collection\n",
        "2. **Sorting algorithms**: Methods for arranging items in a specific order\n",
        "\n",
        "By understanding these basic algorithms, you'll develop critical thinking skills that apply to solving many different kinds of programming problems!"
      ],
      "metadata": {
        "id": "vmaE__73pzZX"
      }
    },
    {
      "cell_type": "markdown",
      "source": [
        "# Search vs Sort: Looking for Things vs Putting Things in Order\n",
        "\n",
        "Before diving into specific algorithms, let's understand the difference between searching and sorting. These are two of the most common operations we need to perform on data in computer science.\n",
        "\n",
        "**Searching** is the process of finding a specific item within a collection of data. It's like trying to find a specific book in a library or your favorite song in a playlist. A **search algorithm** is a method for efficiently locating items.\n",
        "\n",
        "**Sorting** is the process of arranging items in a specific order. This could be numerical order (ascending or descending), alphabetical order, or based on some other criteria. A **sorting algorithm** is a method for efficiently organizing items.\n",
        "\n",
        "Here's how they compare:\n",
        "\n",
        "* **Search algorithms**:\n",
        "  * Answer the question: \"Is this specific item in our collection?\"\n",
        "  * Return the location/position of the item (or indicate it's not found)\n",
        "  * Examples in daily life: Finding a contact in your phone, looking up a word in a dictionary\n",
        "  \n",
        "* **Sorting algorithms**:\n",
        "  * Answer the question: \"How do we arrange these items in order?\"\n",
        "  * Return a reorganized version of the original collection\n",
        "  * Examples in daily life: Arranging books on a shelf, organizing a hand of cards\n",
        "\n",
        "Why learn both?\n",
        "\n",
        "* Searching is often much more efficient when data is already sorted\n",
        "* Many advanced algorithms rely on data being properly sorted first\n",
        "* Both operations are fundamental building blocks for solving complex problems\n",
        "\n",
        "In Python, we'll see how these algorithms can be implemented with simple data structures like lists, and how different approaches can dramatically affect performance!"
      ],
      "metadata": {
        "id": "yArcoPDnp6NX"
      }
    },
    {
      "cell_type": "markdown",
      "source": [
        "# Generating Random Lists in Python\n",
        "\n",
        "When testing search and sorting algorithms, we often need lists of random numbers to work with. Let's learn how to create these using Python's built-in tools.\n",
        "\n",
        "## Understanding Libraries and Imports\n",
        "\n",
        "In Python, a **library** (or module) is a collection of pre-written code that you can use in your programs. These libraries contain useful functions and tools that save you from having to write everything from scratch.\n",
        "\n",
        "To use a library, we need to **import** it into our program. This tells Python that we want to use the code contained in that library. The basic syntax for importing is:\n",
        "\n",
        "```python\n",
        "import library_name\n",
        "```\n",
        "\n",
        "After importing, we can access the functions inside the library using the dot notation:\n",
        "\n",
        "```python\n",
        "library_name.function_name()\n",
        "```\n",
        "\n",
        "## The Random Module\n",
        "\n",
        "Python comes with a built-in library called `random` that provides functions for generating random numbers. Here's how we use it:"
      ],
      "metadata": {
        "id": "CZJHZdHCp7w3"
      }
    },
    {
      "cell_type": "code",
      "source": [
        "# Import the random module\n",
        "import random\n",
        "\n",
        "# Generate a random number between 1 and 10\n",
        "random_number = random.randint(1, 10)\n",
        "print(random_number)  # Will print a random integer each time"
      ],
      "metadata": {
        "colab": {
          "base_uri": "https://localhost:8080/"
        },
        "id": "Q6AIxiA4qErz",
        "outputId": "b6849c23-9f9e-441b-8ea8-bca4fc26659b"
      },
      "execution_count": 1,
      "outputs": [
        {
          "output_type": "stream",
          "name": "stdout",
          "text": [
            "7\n"
          ]
        }
      ]
    },
    {
      "cell_type": "markdown",
      "source": [
        "The `random.randint(a, b)` function returns a random integer between `a` and `b` (inclusive).\n",
        "\n",
        "## Creating a Function to Generate Random Lists\n",
        "\n",
        "Let's create a function that generates a list of random integers. This function will be reused throughout our other algorithm examples:"
      ],
      "metadata": {
        "id": "4SRyvxmiqL9g"
      }
    },
    {
      "cell_type": "code",
      "source": [
        "import random\n",
        "\n",
        "def generate_random_list(size=10, min_value=1, max_value=100, seed=None):\n",
        "    \"\"\"\n",
        "    Generate a list of random integers.\n",
        "\n",
        "    Args:\n",
        "        size: The number of elements in the list (default: 10)\n",
        "        min_value: The minimum value of the random numbers (default: 1)\n",
        "        max_value: The maximum value of the random numbers (default: 100)\n",
        "        seed: An optional seed for reproducible results (default: None)\n",
        "\n",
        "    Returns:\n",
        "        A list of random integers\n",
        "    \"\"\"\n",
        "    # If a seed is provided, use it for reproducible results\n",
        "    # Otherwise, just make it random\n",
        "    if seed is not None:\n",
        "        random.seed(seed)\n",
        "\n",
        "    # Generate the list using a list comprehension\n",
        "    return [random.randint(min_value, max_value) for _ in range(size)]"
      ],
      "metadata": {
        "id": "04Xywq17rAnh"
      },
      "execution_count": 7,
      "outputs": []
    },
    {
      "cell_type": "markdown",
      "source": [
        "In this function:\n",
        "- We use **default parameters** (`size=10`, etc.) so the function can be called with fewer arguments\n",
        "- The `seed` parameter allows for reproducible results (same \"random\" numbers each time). By default, it is just a random number.\n",
        "- We use a **list comprehension** to create the list in a compact way\n",
        "- The `_` variable is a convention in Python when we don't need to use the loop variable"
      ],
      "metadata": {
        "id": "293fHd0_rGdF"
      }
    },
    {
      "cell_type": "markdown",
      "source": [
        "## Using Our Function\n",
        "\n",
        "Here's how we can use our function:"
      ],
      "metadata": {
        "id": "Dad9j3Szrb9o"
      }
    },
    {
      "cell_type": "code",
      "source": [
        "# Generate a list of 10 random numbers (default)\n",
        "random_list = generate_random_list()\n",
        "print(\"Random list:\", random_list)\n",
        "\n",
        "# Generate a smaller list with numbers from 1 to 20\n",
        "small_list = generate_random_list(size=5, max_value=20)\n",
        "print(\"Small list:\", small_list)\n",
        "\n",
        "# Generate the same \"random\" list every time by using a seed\n",
        "reproducible_list1 = generate_random_list(seed=42)\n",
        "print(\"First reproducible list:\", reproducible_list1)\n",
        "\n",
        "reproducible_list2 = generate_random_list(seed=42)\n",
        "print(\"Second reproducible list:\", reproducible_list2)\n",
        "print(\"Are they identical?\", reproducible_list1 == reproducible_list2)  # Should print True"
      ],
      "metadata": {
        "colab": {
          "base_uri": "https://localhost:8080/"
        },
        "id": "MULIxzqBrxfN",
        "outputId": "c8db7003-4383-46ca-ea61-200c29868565"
      },
      "execution_count": 8,
      "outputs": [
        {
          "output_type": "stream",
          "name": "stdout",
          "text": [
            "Random list: [52, 80, 68, 40, 51, 12, 20, 25, 49, 27]\n",
            "Small list: [10, 9, 7, 2, 7]\n",
            "First reproducible list: [82, 15, 4, 95, 36, 32, 29, 18, 95, 14]\n",
            "Second reproducible list: [82, 15, 4, 95, 36, 32, 29, 18, 95, 14]\n",
            "Are they identical? True\n"
          ]
        }
      ]
    },
    {
      "cell_type": "markdown",
      "source": [
        "# Linear Search: Checking One Item at a Time\n",
        "\n",
        "Linear search is the simplest way to find something in a collection. Also called **sequential search**, it works exactly how you might look for a lost sock in your drawer - by checking each item, one at a time, until you find what you're looking for.\n",
        "\n",
        "The basic idea is straightforward: start at the beginning and check each item until either:\n",
        "* You find the target item (success!)\n",
        "* You reach the end without finding it (not found)\n",
        "\n",
        "Here's how linear search works in real life:\n",
        "\n",
        "* Imagine you have a deck of playing cards face down\n",
        "* You're looking for the Queen of Hearts\n",
        "* You pick up one card at a time, look at it, and put it aside if it's not the card you want\n",
        "* You continue until you either find the Queen or go through the entire deck\n",
        "\n",
        "The algorithm follows this same pattern:\n",
        "\n",
        "* Start with the first item in the list\n",
        "* Compare it to what you're searching for\n",
        "* If it matches, you're done!\n",
        "* If not, move to the next item\n",
        "* Repeat until you either find a match or reach the end\n",
        "\n",
        "Linear search has these characteristics:\n",
        "\n",
        "* **Simple to understand and implement**\n",
        "* **Works on unsorted data** - the items don't need to be in any particular order\n",
        "* **Reliable** - it will always find the item if it exists in the list\n",
        "* **Inefficient for large datasets** - as the size of the data grows, the average time to find items grows at the same rate\n",
        "\n",
        "In the next section, we'll see how to implement linear search in Python using simple code that demonstrates this step-by-step approach."
      ],
      "metadata": {
        "id": "jzt7kZyksS3Y"
      }
    },
    {
      "cell_type": "markdown",
      "source": [
        "# Building Linear Search: Step-by-Step in Python\n",
        "\n",
        "Now let's implement linear search in Python, breaking it down into small, understandable steps. We'll build a function that searches for a value in a list and returns its position (or indicates that it wasn't found).\n",
        "\n",
        "The **linear search algorithm** in Python follows these steps:\n",
        "\n",
        "1. Define a function that takes a list and a target value as inputs\n",
        "2. Loop through each position in the list\n",
        "3. Check if the current item matches the target value\n",
        "4. If a match is found, return the position\n",
        "5. If we finish the loop without finding a match, return a special value indicating \"not found\"\n",
        "\n",
        "Here's our implementation in Python with print statements to show the process:"
      ],
      "metadata": {
        "id": "vdgwbDLosb_f"
      }
    },
    {
      "cell_type": "code",
      "source": [
        "def linear_search(my_list, target):\n",
        "    \"\"\"\n",
        "    Search for target in my_list and return its position (index).\n",
        "    Return -1 if the target is not found.\n",
        "    \"\"\"\n",
        "    print(f\"Searching for {target} in {my_list}\")\n",
        "\n",
        "    # Loop through each position in the list\n",
        "    for i in range(len(my_list)):\n",
        "        # Print current element being checked\n",
        "        print(f\"Checking position {i}: value = {my_list[i]}\")\n",
        "\n",
        "        # Check if this position contains our target\n",
        "        if my_list[i] == target:\n",
        "            # Found it! Return the position\n",
        "            print(f\"Found {target} at position {i}!\")\n",
        "            return i\n",
        "\n",
        "    # If we get here, we went through the entire list without finding the target\n",
        "    print(f\"{target} not found in the list\")\n",
        "    return -1"
      ],
      "metadata": {
        "id": "e9KcUQSjsidr"
      },
      "execution_count": 9,
      "outputs": []
    },
    {
      "cell_type": "markdown",
      "source": [
        "Let's test our function with a randomly generated list:"
      ],
      "metadata": {
        "id": "9mpTxH0ossG7"
      }
    },
    {
      "cell_type": "code",
      "source": [
        "# Generate a random list of 10 integers between 1 and 20\n",
        "random.seed(34)  # For reproducible results\n",
        "numbers = generate_random_list(size=10, min_value=1, max_value=20)\n",
        "print(\"Random list:\", numbers)\n",
        "\n",
        "# Search for a value that's likely in the list\n",
        "target_in_list = numbers[random.randint(0, len(numbers)-1)]\n",
        "position = linear_search(numbers, target_in_list)\n",
        "print(f\"{target_in_list} is at position: {position}\")"
      ],
      "metadata": {
        "colab": {
          "base_uri": "https://localhost:8080/"
        },
        "id": "k0LosXeEssoF",
        "outputId": "91dc10b8-db33-43ec-a098-b55aa75a3e40"
      },
      "execution_count": 15,
      "outputs": [
        {
          "output_type": "stream",
          "name": "stdout",
          "text": [
            "Random list: [17, 12, 19, 1, 8, 1, 13, 12, 3, 14]\n",
            "Searching for 8 in [17, 12, 19, 1, 8, 1, 13, 12, 3, 14]\n",
            "Checking position 0: value = 17\n",
            "Checking position 1: value = 12\n",
            "Checking position 2: value = 19\n",
            "Checking position 3: value = 1\n",
            "Checking position 4: value = 8\n",
            "Found 8 at position 4!\n",
            "8 is at position: 4\n"
          ]
        }
      ]
    },
    {
      "cell_type": "code",
      "source": [
        "# search for a number that isn't in our list\n",
        "target_not_in_list = random.randint(21, 100)\n",
        "position = linear_search(numbers, target_not_in_list)\n",
        "print(f\"{target_not_in_list} is at position: {position}\")"
      ],
      "metadata": {
        "colab": {
          "base_uri": "https://localhost:8080/"
        },
        "id": "Q4vDwP9xtDmD",
        "outputId": "d2047d0f-4ab2-47b8-c894-873a5b9193a9"
      },
      "execution_count": 16,
      "outputs": [
        {
          "output_type": "stream",
          "name": "stdout",
          "text": [
            "Searching for 64 in [17, 12, 19, 1, 8, 1, 13, 12, 3, 14]\n",
            "Checking position 0: value = 17\n",
            "Checking position 1: value = 12\n",
            "Checking position 2: value = 19\n",
            "Checking position 3: value = 1\n",
            "Checking position 4: value = 8\n",
            "Checking position 5: value = 1\n",
            "Checking position 6: value = 13\n",
            "Checking position 7: value = 12\n",
            "Checking position 8: value = 3\n",
            "Checking position 9: value = 14\n",
            "64 not found in the list\n",
            "64 is at position: -1\n"
          ]
        }
      ]
    },
    {
      "cell_type": "markdown",
      "source": [
        "# Binary Search: The \"Guess My Number\" Game\n",
        "\n",
        "Binary search is a clever algorithm that works much faster than linear search, but requires the data to be sorted first. It's based on the classic \"Guess My Number\" game, where you try to guess a number and get told if your guess is too high or too low.\n",
        "\n",
        "The key insight behind **binary search** is that with each guess, we can eliminate half of the remaining possibilities! This makes it incredibly efficient for large datasets.\n",
        "\n",
        "Think about how you'd play \"Guess My Number\" between 1 and 100:\n",
        "\n",
        "* You might start by guessing 50\n",
        "* If you're told \"too high,\" you now know the answer is between 1-49\n",
        "* Your next guess might be 25\n",
        "* If told \"too low,\" you know the answer is between 26-49\n",
        "* And so on, always eliminating half the remaining numbers\n",
        "\n",
        "Here's how binary search applies this idea:\n",
        "\n",
        "* Start by looking at the middle element of the sorted list\n",
        "* Compare it to your target value:\n",
        "  * If it matches, you're done!\n",
        "  * If the target is smaller, ignore the right half\n",
        "  * If the target is larger, ignore the left half\n",
        "* Repeat with the remaining half until you find the target or run out of elements\n",
        "\n",
        "The algorithm follows these steps:\n",
        "\n",
        "1. Define the search area (initially the entire list)\n",
        "2. Find the middle element in the search area\n",
        "3. Compare the middle element to the target:\n",
        "   * If equal, you've found it!\n",
        "   * If the target is less than the middle, search the left half\n",
        "   * If the target is greater than the middle, search the right half\n",
        "4. Repeat until you find the target or the search area becomes empty\n",
        "\n",
        "Binary search is much more efficient than linear search for large datasets, but remember: **it only works on sorted data!**"
      ],
      "metadata": {
        "id": "2CNgN-NutNMI"
      }
    },
    {
      "cell_type": "markdown",
      "source": [
        "# How Binary Search Divides and Conquers\n",
        "\n",
        "Binary search is a perfect example of a **divide and conquer** algorithm. This powerful approach breaks a problem into smaller subproblems, solves them, and combines the results. For binary search, this means repeatedly dividing our search space in half.\n",
        "\n",
        "The brilliance of binary search lies in how quickly it narrows down possibilities:\n",
        "\n",
        "* With linear search, after 100 checks, we've only examined 100 items\n",
        "* With binary search, after just 7 checks, we can find an item among 100 items\n",
        "* After 10 checks, we can find an item among 1,000 items\n",
        "* After 20 checks, we can find an item among 1,000,000 items!\n",
        "\n",
        "This remarkable efficiency comes from the **logarithmic** nature of binary search:\n",
        "\n",
        "* Each step eliminates half of the remaining elements\n",
        "* The number of steps needed grows very slowly as the list size increases\n",
        "* This is expressed as O(log n) in Big O notation\n",
        "\n",
        "To visualize how binary search works, imagine looking for the value 22 in this sorted list:\n",
        "\n",
        "```\n",
        "[2, 5, 8, 12, 16, 22, 25, 33, 37, 40]\n",
        "```\n",
        "\n",
        "Here's the step-by-step process:\n",
        "\n",
        "1. Start with the entire list [2, 5, 8, 12, 16, 22, 25, 33, 37, 40]\n",
        "   * Middle element is 16 (position 4)\n",
        "   * 22 > 16, so look in the right half\n",
        "\n",
        "2. Now search in [22, 25, 33, 37, 40]\n",
        "   * Middle element is 33 (position 7 in original list)\n",
        "   * 22 < 33, so look in the left half\n",
        "\n",
        "3. Now search in [22, 25]\n",
        "   * Middle element is 22 (position 5 in original list)\n",
        "   * 22 == 22, we found it!\n",
        "\n",
        "Binary search has several key requirements:\n",
        "\n",
        "* The list **must be sorted** before searching\n",
        "* You need efficient random access to elements (arrays/lists are ideal)\n",
        "* Comparison operations must be possible between elements\n",
        "\n",
        "In the next section, we'll implement binary search in Python and see how it dramatically outperforms linear search for large datasets."
      ],
      "metadata": {
        "id": "T85XKqittXgc"
      }
    },
    {
      "cell_type": "markdown",
      "source": [
        "# Coding Binary Search: Breaking Down the Steps\n",
        "\n",
        "Now we'll implement binary search in Python. We'll work step by step, examining each part of the algorithm to ensure we understand what's happening.\n",
        "\n",
        "Remember the key idea: we repeatedly divide our search space in half until we find our target or determine it's not in the list.\n",
        "\n",
        "Here's our implementation with detailed comments and print statements to visualize the process:"
      ],
      "metadata": {
        "id": "NU8WVDsGtlfb"
      }
    },
    {
      "cell_type": "code",
      "source": [
        "def binary_search(sorted_list, target):\n",
        "    \"\"\"\n",
        "    Search for target in sorted_list and return its position.\n",
        "    Return -1 if the target is not found.\n",
        "    \"\"\"\n",
        "    print(f\"Searching for {target} in {sorted_list}\")\n",
        "\n",
        "    # Define the search boundaries\n",
        "    left = 0  # Start of the search range\n",
        "    right = len(sorted_list) - 1  # End of the search range\n",
        "\n",
        "    # To track the number of steps\n",
        "    step = 1\n",
        "\n",
        "    # Continue searching while there are elements to check\n",
        "    while left <= right:\n",
        "        # Find the middle position\n",
        "        # Using floor division (//) to get an integer\n",
        "        middle = (left + right) // 2\n",
        "\n",
        "        print(f\"Step {step}: Looking at middle element at position {middle}: {sorted_list[middle]}\")\n",
        "\n",
        "        # Check if the middle element is our target\n",
        "        if sorted_list[middle] == target:\n",
        "            print(f\"Found {target} at position {middle}!\")\n",
        "            return middle  # Found it!\n",
        "\n",
        "        # If target is smaller, ignore the right half\n",
        "        elif sorted_list[middle] > target:\n",
        "            print(f\"{sorted_list[middle]} > {target}, so search left half\")\n",
        "            right = middle - 1\n",
        "\n",
        "        # If target is larger, ignore the left half\n",
        "        else:  # sorted_list[middle] < target\n",
        "            print(f\"{sorted_list[middle]} < {target}, so search right half\")\n",
        "            left = middle + 1\n",
        "\n",
        "        step += 1\n",
        "\n",
        "    # If we get here, the target is not in the list\n",
        "    print(f\"{target} not found in the list\")\n",
        "    return -1"
      ],
      "metadata": {
        "id": "D4-Z4o2gtmMS"
      },
      "execution_count": 17,
      "outputs": []
    },
    {
      "cell_type": "markdown",
      "source": [
        "Let's test this out:"
      ],
      "metadata": {
        "id": "x6NQ8W2jtuFM"
      }
    },
    {
      "cell_type": "code",
      "source": [
        "# Generate a sorted random list using our function\n",
        "random.seed(21)  # For reproducible results\n",
        "# Generate random numbers first\n",
        "random_numbers = generate_random_list(size=10, min_value=1, max_value=100)\n",
        "# Sort the numbers\n",
        "sorted_numbers = sorted(random_numbers)\n",
        "print(\"Sorted random list:\", sorted_numbers)\n",
        "\n",
        "# Search for a value that's in the list\n",
        "target_in_list = sorted_numbers[random.randint(0, len(sorted_numbers)-1)]\n",
        "position = binary_search(sorted_numbers, target_in_list)\n",
        "print(f\"{target_in_list} is at position: {position}\")\n"
      ],
      "metadata": {
        "colab": {
          "base_uri": "https://localhost:8080/"
        },
        "id": "1B_KWZ8Pt6vf",
        "outputId": "7030704e-5697-41dd-a330-58724a3df4ac"
      },
      "execution_count": 18,
      "outputs": [
        {
          "output_type": "stream",
          "name": "stdout",
          "text": [
            "Sorted random list: [22, 28, 37, 54, 54, 61, 62, 66, 82, 89]\n",
            "Searching for 37 in [22, 28, 37, 54, 54, 61, 62, 66, 82, 89]\n",
            "Step 1: Looking at middle element at position 4: 54\n",
            "54 > 37, so search left half\n",
            "Step 2: Looking at middle element at position 1: 28\n",
            "28 < 37, so search right half\n",
            "Step 3: Looking at middle element at position 2: 37\n",
            "Found 37 at position 2!\n",
            "37 is at position: 2\n"
          ]
        }
      ]
    },
    {
      "cell_type": "markdown",
      "source": [
        "Now, let's look for a number that isn't in our list:"
      ],
      "metadata": {
        "id": "4qerursLuAiI"
      }
    },
    {
      "cell_type": "code",
      "source": [
        "target_not_in_list = max(sorted_numbers) + 10\n",
        "position = binary_search(sorted_numbers, target_not_in_list)\n",
        "print(f\"{target_not_in_list} is at position: {position}\")"
      ],
      "metadata": {
        "colab": {
          "base_uri": "https://localhost:8080/"
        },
        "id": "UmFxGcUVuE25",
        "outputId": "a844f529-e2b2-4677-ef3e-e54749c50fef"
      },
      "execution_count": 19,
      "outputs": [
        {
          "output_type": "stream",
          "name": "stdout",
          "text": [
            "Searching for 99 in [22, 28, 37, 54, 54, 61, 62, 66, 82, 89]\n",
            "Step 1: Looking at middle element at position 4: 54\n",
            "54 < 99, so search right half\n",
            "Step 2: Looking at middle element at position 7: 66\n",
            "66 < 99, so search right half\n",
            "Step 3: Looking at middle element at position 8: 82\n",
            "82 < 99, so search right half\n",
            "Step 4: Looking at middle element at position 9: 89\n",
            "89 < 99, so search right half\n",
            "99 not found in the list\n",
            "99 is at position: -1\n"
          ]
        }
      ]
    },
    {
      "cell_type": "markdown",
      "source": [
        "### Linear vs Binary Search\n",
        "\n",
        "| Characteristic | Linear Search | Binary Search |\n",
        "|----------------|---------------|---------------|\n",
        "| **Speed (worst case)** | O(n) | O(log n) |\n",
        "| **Requires sorted data** | No | Yes |\n",
        "| **Memory usage** | O(1) | O(1) (iterative) or O(log n) (recursive) |\n",
        "| **Best for** | Small or unsorted lists | Large sorted lists |\n",
        "\n",
        "Let's put this in perspective:\n",
        "\n",
        "* For a list of 1,000,000 items:\n",
        "  * Linear search: up to 1,000,000 steps\n",
        "  * Binary search: up to 20 steps\n",
        "\n",
        "The binary search implementation above uses an iterative approach. It's also possible to implement binary search recursively, where the function calls itself on smaller and smaller portions of the list. Both approaches achieve the same logarithmic efficiency.\n",
        "\n",
        "Remember: although binary search is much faster, it only works when the data is already sorted!"
      ],
      "metadata": {
        "id": "fmuOLdiHuTgE"
      }
    },
    {
      "cell_type": "markdown",
      "source": [
        "# Big O Notation: Why Speed Matters\n",
        "\n",
        "When we talk about algorithms, we often need a way to compare their efficiency. This is where **Big O notation** comes in — it's a mathematical way to describe how the runtime of an algorithm grows as the input size increases.\n",
        "\n",
        "Big O notation helps us answer the crucial question: \"What happens to the performance of our algorithm as we give it more and more data to process?\"\n",
        "\n",
        "Here's why understanding algorithm efficiency matters:\n",
        "\n",
        "* An inefficient algorithm might work fine for small inputs but become unbearably slow for larger ones\n",
        "* The difference between O(n) and O(log n) could mean the difference between minutes and milliseconds\n",
        "* Choosing the right algorithm can dramatically impact application performance\n",
        "* Limited computing resources make efficiency a necessity, not a luxury\n",
        "\n",
        "Common Big O complexities from fastest to slowest:\n",
        "\n",
        "* **O(1)** - **Constant time**: The algorithm takes the same amount of time regardless of input size\n",
        "  * Example: Accessing an element in an array by its index\n",
        "  \n",
        "* **O(log n)** - **Logarithmic time**: Time increases logarithmically as input size grows\n",
        "  * Example: Binary search\n",
        "  \n",
        "* **O(n)** - **Linear time**: Time increases linearly with input size\n",
        "  * Example: Linear search\n",
        "  \n",
        "* **O(n log n)** - **Linearithmic time**: A common complexity for efficient sorting algorithms\n",
        "  * Examples: Merge sort, quicksort\n",
        "  \n",
        "* **O(n²)** - **Quadratic time**: Time increases with the square of the input size\n",
        "  * Examples: Bubble sort, selection sort\n",
        "\n",
        "The following table illustrates how the number of operations grows with the input size for different complexities:\n",
        "\n",
        "| Input Size | O(1) | O(log n) | O(n) | O(n log n) | O(n²) |\n",
        "|------------|------|----------|------|------------|-------|\n",
        "| 10         | 1    | 3        | 10   | 30         | 100   |\n",
        "| 100        | 1    | 7        | 100  | 700        | 10,000|\n",
        "| 1,000      | 1    | 10       | 1,000| 10,000     | 1,000,000|\n",
        "| 1,000,000  | 1    | 20       | 1,000,000| 20,000,000| 1,000,000,000,000|\n",
        "\n",
        "When analyzing algorithms, we focus on the **worst-case scenario** (though we may also consider best and average cases). We also typically ignore coefficients and lower-order terms, focusing on the dominant factor as input sizes get very large.\n",
        "\n",
        "For the searching algorithms we've seen:\n",
        "* Linear search: O(n)\n",
        "* Binary search: O(log n)\n",
        "\n",
        "In the upcoming sections, we'll explore sorting algorithms with different efficiencies, from the simple but inefficient to the more complex but highly efficient."
      ],
      "metadata": {
        "id": "mNgfcK5jueZt"
      }
    },
    {
      "cell_type": "markdown",
      "source": [
        "# Bubble Sort: Bubbling Big Numbers to the Top\n",
        "\n",
        "Now that we've explored searching algorithms, let's turn to sorting. **Bubble sort** is one of the simplest sorting algorithms to understand and implement, making it a perfect starting point.\n",
        "\n",
        "Bubble sort gets its name from the way larger elements \"bubble\" to the top (or end) of the list with each pass through the data. Think of it as similar to how bubbles rise to the surface in a glass of soda!\n",
        "\n",
        "Here's how bubble sort works:\n",
        "\n",
        "* Compare adjacent elements in the list\n",
        "* If they're in the wrong order, swap them\n",
        "* Repeat this process, making multiple passes through the list\n",
        "* After each complete pass, the largest unsorted element \"bubbles\" to its correct position\n",
        "* Continue until the entire list is sorted\n",
        "\n",
        "The basic process looks like this:\n",
        "\n",
        "1. Start at the beginning of the list\n",
        "2. Compare the first two elements. If the first is greater than the second, swap them\n",
        "3. Move to the next pair of elements and repeat the comparison and swap if needed\n",
        "4. Continue until the end of the list\n",
        "5. After one complete pass, the largest element will be at the end\n",
        "6. Repeat the process for the remaining unsorted portion of the list\n",
        "\n",
        "Bubble sort has these characteristics:\n",
        "\n",
        "* **Simple to understand and implement**\n",
        "* **Stable sort** - elements with equal values maintain their relative positions\n",
        "* **In-place algorithm** - requires no additional memory beyond the original list\n",
        "* **Inefficient for large datasets** - has O(n²) time complexity in the worst and average cases\n",
        "* **Adaptive** - can detect when the list becomes sorted and stop early\n",
        "\n",
        "Bubble sort is rarely used in real-world applications due to its inefficiency with large datasets. However, it's valuable for educational purposes and can be practical for very small lists or lists that are already mostly sorted.\n",
        "\n",
        "In the next section, we'll implement bubble sort in Python and watch how it moves elements step by step."
      ],
      "metadata": {
        "id": "qALXidIGuhTv"
      }
    },
    {
      "cell_type": "markdown",
      "source": [
        "# Writing Bubble Sort in Python: Loops Inside Loops\n",
        "\n",
        "Now let's implement bubble sort in Python. The algorithm uses nested loops - an outer loop to control the number of passes through the list, and an inner loop to compare and swap adjacent elements.\n",
        "\n",
        "Here's our Python implementation with detailed comments and print statements to visualize the process:"
      ],
      "metadata": {
        "id": "5wG93mBcvjzo"
      }
    },
    {
      "cell_type": "code",
      "source": [
        "def bubble_sort(my_list):\n",
        "    \"\"\"\n",
        "    Sort a list in ascending order using the bubble sort algorithm.\n",
        "    The sorting is done in-place (modifies the original list).\n",
        "    \"\"\"\n",
        "    # Get the length of the list\n",
        "    n = len(my_list)\n",
        "\n",
        "    print(f\"Starting bubble sort on: {my_list}\")\n",
        "\n",
        "    # Outer loop: controls the number of passes\n",
        "    # After each pass, one more element is in its final position\n",
        "    for i in range(n):\n",
        "        print(f\"\\nPass {i+1}:\")\n",
        "\n",
        "        # Flag to optimize: if no swaps occur in a pass, the list is sorted\n",
        "        swapped = False\n",
        "\n",
        "        # Inner loop: compare adjacent elements and swap if needed\n",
        "        # Note: with each pass, the last i elements are already sorted\n",
        "        # so we don't need to check them again\n",
        "        for j in range(0, n - i - 1):\n",
        "            # Compare adjacent elements\n",
        "            print(f\"  Comparing {my_list[j]} and {my_list[j+1]}\", end=\"\")\n",
        "\n",
        "            if my_list[j] > my_list[j + 1]:\n",
        "                # Swap them if they're in the wrong order\n",
        "                my_list[j], my_list[j + 1] = my_list[j + 1], my_list[j]\n",
        "                # Record that we performed a swap\n",
        "                swapped = True\n",
        "                print(f\" -> Swapped: {my_list}\")\n",
        "            else:\n",
        "                print(f\" -> No swap needed\")\n",
        "\n",
        "        # Show the state after this pass\n",
        "        print(f\"  After pass {i+1}: {my_list}\")\n",
        "\n",
        "        # If no swaps occurred in this pass, the list is sorted\n",
        "        if not swapped:\n",
        "            print(f\"No swaps in this pass - array is sorted!\")\n",
        "            break\n",
        "\n",
        "    print(f\"\\nFinal sorted array: {my_list}\")\n",
        "    return my_list"
      ],
      "metadata": {
        "id": "lyfDYu4YvkjB"
      },
      "execution_count": 20,
      "outputs": []
    },
    {
      "cell_type": "markdown",
      "source": [
        "Let's test our bubble sort implementation with a randomly generated list:"
      ],
      "metadata": {
        "id": "A5nSxIdfvoxG"
      }
    },
    {
      "cell_type": "code",
      "source": [
        "# Set a random seed for reproducibility\n",
        "random.seed(521)\n",
        "\n",
        "# Generate a random list\n",
        "numbers = generate_random_list(size=8)  # Smaller size for clearer output\n",
        "print(\"Random list:\", numbers)\n",
        "\n",
        "# Sort the list\n",
        "sorted_numbers = bubble_sort(numbers.copy())  # Use a copy to preserve the original\n",
        "print(\"Sorted list:\", sorted_numbers)"
      ],
      "metadata": {
        "colab": {
          "base_uri": "https://localhost:8080/"
        },
        "id": "Rd2mbnM_vr1c",
        "outputId": "7db93d73-8ad9-4735-b395-4b8a28d3bfbe"
      },
      "execution_count": 21,
      "outputs": [
        {
          "output_type": "stream",
          "name": "stdout",
          "text": [
            "Random list: [13, 1, 40, 33, 53, 92, 100, 23]\n",
            "Starting bubble sort on: [13, 1, 40, 33, 53, 92, 100, 23]\n",
            "\n",
            "Pass 1:\n",
            "  Comparing 13 and 1 -> Swapped: [1, 13, 40, 33, 53, 92, 100, 23]\n",
            "  Comparing 13 and 40 -> No swap needed\n",
            "  Comparing 40 and 33 -> Swapped: [1, 13, 33, 40, 53, 92, 100, 23]\n",
            "  Comparing 40 and 53 -> No swap needed\n",
            "  Comparing 53 and 92 -> No swap needed\n",
            "  Comparing 92 and 100 -> No swap needed\n",
            "  Comparing 100 and 23 -> Swapped: [1, 13, 33, 40, 53, 92, 23, 100]\n",
            "  After pass 1: [1, 13, 33, 40, 53, 92, 23, 100]\n",
            "\n",
            "Pass 2:\n",
            "  Comparing 1 and 13 -> No swap needed\n",
            "  Comparing 13 and 33 -> No swap needed\n",
            "  Comparing 33 and 40 -> No swap needed\n",
            "  Comparing 40 and 53 -> No swap needed\n",
            "  Comparing 53 and 92 -> No swap needed\n",
            "  Comparing 92 and 23 -> Swapped: [1, 13, 33, 40, 53, 23, 92, 100]\n",
            "  After pass 2: [1, 13, 33, 40, 53, 23, 92, 100]\n",
            "\n",
            "Pass 3:\n",
            "  Comparing 1 and 13 -> No swap needed\n",
            "  Comparing 13 and 33 -> No swap needed\n",
            "  Comparing 33 and 40 -> No swap needed\n",
            "  Comparing 40 and 53 -> No swap needed\n",
            "  Comparing 53 and 23 -> Swapped: [1, 13, 33, 40, 23, 53, 92, 100]\n",
            "  After pass 3: [1, 13, 33, 40, 23, 53, 92, 100]\n",
            "\n",
            "Pass 4:\n",
            "  Comparing 1 and 13 -> No swap needed\n",
            "  Comparing 13 and 33 -> No swap needed\n",
            "  Comparing 33 and 40 -> No swap needed\n",
            "  Comparing 40 and 23 -> Swapped: [1, 13, 33, 23, 40, 53, 92, 100]\n",
            "  After pass 4: [1, 13, 33, 23, 40, 53, 92, 100]\n",
            "\n",
            "Pass 5:\n",
            "  Comparing 1 and 13 -> No swap needed\n",
            "  Comparing 13 and 33 -> No swap needed\n",
            "  Comparing 33 and 23 -> Swapped: [1, 13, 23, 33, 40, 53, 92, 100]\n",
            "  After pass 5: [1, 13, 23, 33, 40, 53, 92, 100]\n",
            "\n",
            "Pass 6:\n",
            "  Comparing 1 and 13 -> No swap needed\n",
            "  Comparing 13 and 23 -> No swap needed\n",
            "  After pass 6: [1, 13, 23, 33, 40, 53, 92, 100]\n",
            "No swaps in this pass - array is sorted!\n",
            "\n",
            "Final sorted array: [1, 13, 23, 33, 40, 53, 92, 100]\n",
            "Sorted list: [1, 13, 23, 33, 40, 53, 92, 100]\n"
          ]
        }
      ]
    },
    {
      "cell_type": "markdown",
      "source": [
        "The bubble sort algorithm has the following characteristics:\n",
        "\n",
        "| Characteristic     | Value                                     |\n",
        "|--------------------|-------------------------------------------|\n",
        "| **Time Complexity**| Worst and Average Case: O(n²)             |\n",
        "|                    | Best Case: O(n) (with optimization)       |\n",
        "| **Space Complexity**| O(1) - In-place sorting                  |\n",
        "| **Stability**      | Stable - maintains order of equal elements|\n",
        "| **Adaptivity**     | Adaptive - works better on nearly sorted data|\n",
        "\n",
        "Despite its simplicity, bubble sort is rarely used in practice for large datasets because of its inefficiency. However, it's valuable for learning and can be effective for very small or nearly sorted lists."
      ],
      "metadata": {
        "id": "ZjOr8Y7JwML5"
      }
    },
    {
      "cell_type": "markdown",
      "source": [
        "# Insertion Sort: How We Sort Playing Cards\n",
        "\n",
        "**Insertion sort** is a simple sorting algorithm that builds the final sorted array one item at a time. It's particularly intuitive because it mimics how most people sort playing cards in their hands.\n",
        "\n",
        "Imagine you're dealt a hand of cards one by one:\n",
        "\n",
        "* When you receive the first card, you just hold it\n",
        "* For each new card, you find the right place for it among the cards you're already holding\n",
        "* You insert the new card in its proper position, shifting the other cards as needed\n",
        "* By the time you've received all cards, your hand is fully sorted\n",
        "\n",
        "This is exactly how insertion sort works:\n",
        "\n",
        "* Start with the first element as the \"sorted portion\" (a list of one element is always sorted)\n",
        "* Consider the next element and insert it into its correct position within the sorted portion\n",
        "* Expand the sorted portion to include this newly placed element\n",
        "* Repeat until all elements are in the sorted portion\n",
        "\n",
        "Here's the step-by-step process:\n",
        "\n",
        "1. Assume the first element is already sorted\n",
        "2. Take the next element and compare it with all elements in the sorted portion\n",
        "3. Shift elements in the sorted portion to make space for the new element\n",
        "4. Insert the element in its correct position\n",
        "5. Repeat steps 2-4 until all elements are processed\n",
        "\n",
        "Insertion sort has these key characteristics:\n",
        "\n",
        "* **Intuitive algorithm** - similar to how humans naturally sort items\n",
        "* **Efficient for small datasets** - simple implementation with low overhead\n",
        "* **Adaptive** - performs well on nearly sorted data\n",
        "* **Stable sort** - preserves the relative order of equal elements\n",
        "* **In-place sorting** - requires minimal extra memory\n",
        "* **Online algorithm** - can sort a list as it receives it\n",
        "\n",
        "While insertion sort still has O(n²) worst-case time complexity like bubble and selection sorts, it often performs better in practice due to its adaptive nature and efficiency with partially sorted data.\n",
        "\n",
        "In the next section, we'll implement insertion sort in Python and explore its behavior with different inputs."
      ],
      "metadata": {
        "id": "hkgAc6jOwfpr"
      }
    },
    {
      "cell_type": "markdown",
      "source": [
        "# Coding Insertion Sort: One Card at a Time\n",
        "\n",
        "Now let's implement insertion sort in Python. This algorithm builds the sorted array one element at a time, similar to how we might sort playing cards.\n",
        "\n",
        "Here's our Python implementation with detailed comments and print statements to visualize the process:\n"
      ],
      "metadata": {
        "id": "HqSPHpJowocn"
      }
    },
    {
      "cell_type": "code",
      "source": [
        "def insertion_sort(my_list):\n",
        "    \"\"\"\n",
        "    Sort a list in ascending order using the insertion sort algorithm.\n",
        "    The sorting is done in-place (modifies the original list).\n",
        "    \"\"\"\n",
        "    print(f\"Starting insertion sort on: {my_list}\")\n",
        "\n",
        "    # Traverse through 1 to len(my_list)\n",
        "    # (Starting from second element since a single-element list is already sorted)\n",
        "    for i in range(1, len(my_list)):\n",
        "        # Store the current element to be inserted\n",
        "        current_element = my_list[i]\n",
        "        print(f\"\\nInserting element {current_element} at position {i}:\")\n",
        "        print(f\"  Current list: {my_list}\")\n",
        "        print(f\"  Sorted portion: {my_list[:i]}\")\n",
        "        print(f\"  Unsorted portion: {my_list[i:]}\")\n",
        "\n",
        "        # Initialize position for comparison\n",
        "        j = i - 1\n",
        "\n",
        "        # Print initial state before shifting\n",
        "        print(f\"  Looking for the correct position for {current_element}...\")\n",
        "\n",
        "        # Shift elements that are greater than current_element\n",
        "        # to one position ahead of their current position\n",
        "        shifts = 0\n",
        "        while j >= 0 and current_element < my_list[j]:\n",
        "            print(f\"    {current_element} < {my_list[j]} at position {j}, shifting {my_list[j]} right\")\n",
        "            my_list[j + 1] = my_list[j]\n",
        "            j -= 1\n",
        "            shifts += 1\n",
        "\n",
        "        if shifts == 0:\n",
        "            print(f\"    {current_element} is already in the correct position\")\n",
        "\n",
        "        # Insert current element at its correct position\n",
        "        my_list[j + 1] = current_element\n",
        "\n",
        "        if shifts > 0:\n",
        "            print(f\"  Inserted {current_element} at position {j+1}\")\n",
        "\n",
        "        print(f\"  List after insertion: {my_list}\")\n",
        "\n",
        "    print(f\"\\nFinal sorted array: {my_list}\")\n",
        "    return my_list"
      ],
      "metadata": {
        "id": "UzF42Z1ZwW56"
      },
      "execution_count": 22,
      "outputs": []
    },
    {
      "cell_type": "markdown",
      "source": [
        "Let's test this implementation with a randomly generated list:"
      ],
      "metadata": {
        "id": "Md-14kU-wvRJ"
      }
    },
    {
      "cell_type": "code",
      "source": [
        "# Set a random seed for reproducibility\n",
        "random.seed(521)\n",
        "\n",
        "# Generate a random list\n",
        "numbers = generate_random_list(size=8)  # Smaller size for clearer output\n",
        "print(\"Random list:\", numbers)\n",
        "\n",
        "# Sort the list\n",
        "sorted_numbers = insertion_sort(numbers.copy())  # Use a copy to preserve the original\n",
        "print(\"Sorted list:\", sorted_numbers)"
      ],
      "metadata": {
        "colab": {
          "base_uri": "https://localhost:8080/"
        },
        "id": "h0VLBLJowvx4",
        "outputId": "53135617-de4a-4518-c812-0c4386a645d6"
      },
      "execution_count": 23,
      "outputs": [
        {
          "output_type": "stream",
          "name": "stdout",
          "text": [
            "Random list: [13, 1, 40, 33, 53, 92, 100, 23]\n",
            "Starting insertion sort on: [13, 1, 40, 33, 53, 92, 100, 23]\n",
            "\n",
            "Inserting element 1 at position 1:\n",
            "  Current list: [13, 1, 40, 33, 53, 92, 100, 23]\n",
            "  Sorted portion: [13]\n",
            "  Unsorted portion: [1, 40, 33, 53, 92, 100, 23]\n",
            "  Looking for the correct position for 1...\n",
            "    1 < 13 at position 0, shifting 13 right\n",
            "  Inserted 1 at position 0\n",
            "  List after insertion: [1, 13, 40, 33, 53, 92, 100, 23]\n",
            "\n",
            "Inserting element 40 at position 2:\n",
            "  Current list: [1, 13, 40, 33, 53, 92, 100, 23]\n",
            "  Sorted portion: [1, 13]\n",
            "  Unsorted portion: [40, 33, 53, 92, 100, 23]\n",
            "  Looking for the correct position for 40...\n",
            "    40 is already in the correct position\n",
            "  List after insertion: [1, 13, 40, 33, 53, 92, 100, 23]\n",
            "\n",
            "Inserting element 33 at position 3:\n",
            "  Current list: [1, 13, 40, 33, 53, 92, 100, 23]\n",
            "  Sorted portion: [1, 13, 40]\n",
            "  Unsorted portion: [33, 53, 92, 100, 23]\n",
            "  Looking for the correct position for 33...\n",
            "    33 < 40 at position 2, shifting 40 right\n",
            "  Inserted 33 at position 2\n",
            "  List after insertion: [1, 13, 33, 40, 53, 92, 100, 23]\n",
            "\n",
            "Inserting element 53 at position 4:\n",
            "  Current list: [1, 13, 33, 40, 53, 92, 100, 23]\n",
            "  Sorted portion: [1, 13, 33, 40]\n",
            "  Unsorted portion: [53, 92, 100, 23]\n",
            "  Looking for the correct position for 53...\n",
            "    53 is already in the correct position\n",
            "  List after insertion: [1, 13, 33, 40, 53, 92, 100, 23]\n",
            "\n",
            "Inserting element 92 at position 5:\n",
            "  Current list: [1, 13, 33, 40, 53, 92, 100, 23]\n",
            "  Sorted portion: [1, 13, 33, 40, 53]\n",
            "  Unsorted portion: [92, 100, 23]\n",
            "  Looking for the correct position for 92...\n",
            "    92 is already in the correct position\n",
            "  List after insertion: [1, 13, 33, 40, 53, 92, 100, 23]\n",
            "\n",
            "Inserting element 100 at position 6:\n",
            "  Current list: [1, 13, 33, 40, 53, 92, 100, 23]\n",
            "  Sorted portion: [1, 13, 33, 40, 53, 92]\n",
            "  Unsorted portion: [100, 23]\n",
            "  Looking for the correct position for 100...\n",
            "    100 is already in the correct position\n",
            "  List after insertion: [1, 13, 33, 40, 53, 92, 100, 23]\n",
            "\n",
            "Inserting element 23 at position 7:\n",
            "  Current list: [1, 13, 33, 40, 53, 92, 100, 23]\n",
            "  Sorted portion: [1, 13, 33, 40, 53, 92, 100]\n",
            "  Unsorted portion: [23]\n",
            "  Looking for the correct position for 23...\n",
            "    23 < 100 at position 6, shifting 100 right\n",
            "    23 < 92 at position 5, shifting 92 right\n",
            "    23 < 53 at position 4, shifting 53 right\n",
            "    23 < 40 at position 3, shifting 40 right\n",
            "    23 < 33 at position 2, shifting 33 right\n",
            "  Inserted 23 at position 2\n",
            "  List after insertion: [1, 13, 23, 33, 40, 53, 92, 100]\n",
            "\n",
            "Final sorted array: [1, 13, 23, 33, 40, 53, 92, 100]\n",
            "Sorted list: [1, 13, 23, 33, 40, 53, 92, 100]\n"
          ]
        }
      ]
    },
    {
      "cell_type": "markdown",
      "source": [
        "Like Bubble Sort, Insertion Sort has a Big O of $O(n^2)$, which makes it unsuitable for many real-world applications. The next algorith we'll study--merge sort--does better."
      ],
      "metadata": {
        "id": "2AwGiDLYzKz3"
      }
    },
    {
      "cell_type": "markdown",
      "source": [
        "# Merge Sort: Divide and Conquer for Sorting\n",
        "\n",
        "**Merge sort** is a more efficient sorting algorithm that uses the divide-and-conquer approach. Unlike the previous algorithms we've studied, merge sort achieves O(n log n) time complexity, making it much faster for large datasets.\n",
        "\n",
        "The key insight behind merge sort is that it's easier to merge two already-sorted lists than to sort one large unsorted list. Here's how it works:\n",
        "\n",
        "1. **Divide**: Split the array into two halves\n",
        "2. **Conquer**: Recursively sort each half\n",
        "3. **Combine**: Merge the sorted halves back together\n",
        "\n",
        "The beauty of this approach is that we keep dividing the problem until we reach the simplest case: a list of one element (which is always sorted). Then we work our way back up, merging these small sorted lists into larger sorted lists.\n",
        "\n",
        "Here's the general process:\n",
        "\n",
        "* If the list has 0 or 1 elements, it's already sorted (base case)\n",
        "* Otherwise:\n",
        "  * Divide the list into two roughly equal halves\n",
        "  * Recursively apply merge sort to each half\n",
        "  * Merge the two sorted halves back together\n",
        "\n",
        "The most important part of merge sort is the merging step. To merge two sorted lists:\n",
        "\n",
        "* Create an empty result list\n",
        "* Compare the first elements of both lists\n",
        "* Remove the smaller element and add it to the result\n",
        "* Repeat until one list is empty\n",
        "* Add all remaining elements from the non-empty list to the result\n",
        "\n",
        "Merge sort has these key characteristics:\n",
        "\n",
        "* **Stable sort** - preserves the relative order of equal elements\n",
        "* **Not in-place** - requires additional memory proportional to the input size\n",
        "* **Predictable performance** - O(n log n) time complexity in all cases\n",
        "* **Parallelizable** - different parts can be sorted simultaneously\n",
        "* **External sort** - efficient for sorting data too large to fit in memory\n",
        "\n",
        "While merge sort requires more memory than the previous algorithms, its superior time complexity makes it a popular choice for sorting large datasets. In the next section, we'll see how to implement the merging step, which is the heart of this algorithm."
      ],
      "metadata": {
        "id": "XVu1igirzbmd"
      }
    },
    {
      "cell_type": "markdown",
      "source": [
        "# The Magic of Merging: Combining Sorted Lists\n",
        "\n",
        "The real power of merge sort lies in the **merge** operation - combining two already sorted lists into a single sorted list. This operation is efficient and forms the core of the merge sort algorithm.\n",
        "\n",
        "Let's understand how merging works:\n",
        "\n",
        "1. We start with two sorted lists (let's call them `left` and `right`)\n",
        "2. We compare the first elements of both lists\n",
        "3. We take the smaller element and add it to our result list\n",
        "4. We advance the pointer in the list from which we took the element\n",
        "5. We repeat steps 2-4 until one list is empty\n",
        "6. We add any remaining elements from the non-empty list to our result\n",
        "\n",
        "The merging process is like having two sorted piles of cards and combining them into a single sorted pile by always taking the smaller of the two top cards.\n",
        "\n",
        "Here's how we would implement the merge function in Python:"
      ],
      "metadata": {
        "id": "m8tfmM-bzwzZ"
      }
    },
    {
      "cell_type": "code",
      "source": [
        "def merge(left, right):\n",
        "    \"\"\"\n",
        "    Merge two sorted lists into a single sorted list.\n",
        "    \"\"\"\n",
        "    print(f\"    Merging {left} and {right}\")\n",
        "    result = []\n",
        "    i = j = 0\n",
        "\n",
        "    # Compare elements from both lists and add smaller one to result\n",
        "    while i < len(left) and j < len(right):\n",
        "        if left[i] <= right[j]:\n",
        "            print(f\"      Adding {left[i]} from left list\")\n",
        "            result.append(left[i])\n",
        "            i += 1\n",
        "        else:\n",
        "            print(f\"      Adding {right[j]} from right list\")\n",
        "            result.append(right[j])\n",
        "            j += 1\n",
        "\n",
        "    # Add any remaining elements\n",
        "    while i < len(left):\n",
        "        print(f\"      Adding remaining {left[i]} from left list\")\n",
        "        result.append(left[i])\n",
        "        i += 1\n",
        "\n",
        "    while j < len(right):\n",
        "        print(f\"      Adding remaining {right[j]} from right list\")\n",
        "        result.append(right[j])\n",
        "        j += 1\n",
        "\n",
        "    print(f\"    Merged result: {result}\")\n",
        "    return result"
      ],
      "metadata": {
        "id": "YrUyN8kXzxdR"
      },
      "execution_count": 28,
      "outputs": []
    },
    {
      "cell_type": "markdown",
      "source": [
        "Let's trace through a simple example of merging two sorted lists:"
      ],
      "metadata": {
        "id": "NHFGyw6Pz7ti"
      }
    },
    {
      "cell_type": "code",
      "source": [
        "left = [3, 5, 8]\n",
        "right = [1, 2]\n",
        "print(merge(left, right))"
      ],
      "metadata": {
        "colab": {
          "base_uri": "https://localhost:8080/"
        },
        "id": "v_lcTz-A0FUR",
        "outputId": "7341d1f1-1aa5-4f3c-e6a0-207e88e2b675"
      },
      "execution_count": 29,
      "outputs": [
        {
          "output_type": "stream",
          "name": "stdout",
          "text": [
            "    Merging [3, 5, 8] and [1, 2]\n",
            "      Adding 1 from right list\n",
            "      Adding 2 from right list\n",
            "      Adding remaining 3 from left list\n",
            "      Adding remaining 5 from left list\n",
            "      Adding remaining 8 from left list\n",
            "    Merged result: [1, 2, 3, 5, 8]\n",
            "[1, 2, 3, 5, 8]\n"
          ]
        }
      ]
    },
    {
      "cell_type": "markdown",
      "source": [
        "# Putting It All Together: Complete Merge Sort in Python\n",
        "\n",
        "Now that we understand both the division process and the merging process, let's implement the complete merge sort algorithm in Python. We'll combine the recursive division with the merging operation to create an efficient sorting function.\n",
        "\n",
        "Here's the full implementation:"
      ],
      "metadata": {
        "id": "BKIc1uqa0WBC"
      }
    },
    {
      "cell_type": "code",
      "source": [
        "def merge_sort(arr):\n",
        "    \"\"\"\n",
        "    Sort an array using the merge sort algorithm.\n",
        "    Returns a new sorted array.\n",
        "    \"\"\"\n",
        "    print(f\"Calling merge_sort on: {arr}\")\n",
        "\n",
        "    # Base case: lists with 0 or 1 element are already sorted\n",
        "    if len(arr) <= 1:\n",
        "        print(f\"  Base case: {arr} is already sorted\")\n",
        "        return arr\n",
        "\n",
        "    # Divide step: split the list into two halves\n",
        "    mid = len(arr) // 2\n",
        "    left_half = arr[:mid]\n",
        "    right_half = arr[mid:]\n",
        "    print(f\"  Dividing into: {left_half} and {right_half}\")\n",
        "\n",
        "    # Conquer step: recursively sort both halves\n",
        "    print(f\"  Sorting left half: {left_half}\")\n",
        "    left_sorted = merge_sort(left_half)\n",
        "    print(f\"  Left half sorted: {left_sorted}\")\n",
        "\n",
        "    print(f\"  Sorting right half: {right_half}\")\n",
        "    right_sorted = merge_sort(right_half)\n",
        "    print(f\"  Right half sorted: {right_sorted}\")\n",
        "\n",
        "    # Combine step: merge the sorted halves\n",
        "    result = merge(left_sorted, right_sorted)\n",
        "    print(f\"  Merged result: {result}\")\n",
        "\n",
        "    return result"
      ],
      "metadata": {
        "id": "gZok_tva0WkT"
      },
      "execution_count": 27,
      "outputs": []
    },
    {
      "cell_type": "markdown",
      "source": [
        "Let's test this with a randomly generated list:"
      ],
      "metadata": {
        "id": "e4yZDuod09WR"
      }
    },
    {
      "cell_type": "code",
      "source": [
        "# Set a random seed for reproducibility\n",
        "random.seed(42)\n",
        "\n",
        "# Generate a random list\n",
        "numbers = generate_random_list(size=6)  # Using a smaller size for clearer output\n",
        "print(\"Random list:\", numbers)\n",
        "\n",
        "# Sort the list\n",
        "sorted_numbers = merge_sort(numbers.copy())  # Use a copy to preserve the original\n",
        "print(\"Sorted list:\", sorted_numbers)"
      ],
      "metadata": {
        "colab": {
          "base_uri": "https://localhost:8080/"
        },
        "id": "qHZ_SENM0-Xn",
        "outputId": "377e15d5-af22-4eb8-c61d-98c4dfd78cb2"
      },
      "execution_count": 30,
      "outputs": [
        {
          "output_type": "stream",
          "name": "stdout",
          "text": [
            "Random list: [82, 15, 4, 95, 36, 32]\n",
            "    Merging [15] and [4]\n",
            "      Adding 4 from right list\n",
            "      Adding remaining 15 from left list\n",
            "    Merged result: [4, 15]\n",
            "    Merging [82] and [4, 15]\n",
            "      Adding 4 from right list\n",
            "      Adding 15 from right list\n",
            "      Adding remaining 82 from left list\n",
            "    Merged result: [4, 15, 82]\n",
            "    Merging [36] and [32]\n",
            "      Adding 32 from right list\n",
            "      Adding remaining 36 from left list\n",
            "    Merged result: [32, 36]\n",
            "    Merging [95] and [32, 36]\n",
            "      Adding 32 from right list\n",
            "      Adding 36 from right list\n",
            "      Adding remaining 95 from left list\n",
            "    Merged result: [32, 36, 95]\n",
            "    Merging [4, 15, 82] and [32, 36, 95]\n",
            "      Adding 4 from left list\n",
            "      Adding 15 from left list\n",
            "      Adding 32 from right list\n",
            "      Adding 36 from right list\n",
            "      Adding 82 from left list\n",
            "      Adding remaining 95 from right list\n",
            "    Merged result: [4, 15, 32, 36, 82, 95]\n",
            "Sorted list: [4, 15, 32, 36, 82, 95]\n"
          ]
        }
      ]
    },
    {
      "cell_type": "markdown",
      "source": [
        "\n",
        "The key characteristics of merge sort are:\n",
        "\n",
        "| Characteristic     | Value                                     |\n",
        "|--------------------|-------------------------------------------|\n",
        "| **Time Complexity**| O(n log n) in all cases                   |\n",
        "| **Space Complexity**| O(n) - requires additional memory        |\n",
        "| **Stability**      | Stable - preserves order of equal elements|\n",
        "| **Adaptivity**     | Not adaptive - same behavior regardless of input order|\n",
        "| **Best for**       | Large datasets, linked lists, external sorting |\n",
        "\n",
        "Merge sort has several advantages over the simpler sorting algorithms we've seen:\n",
        "\n",
        "* Guaranteed O(n log n) performance in all cases\n",
        "* Stable sorting (maintains relative order of equal elements)\n",
        "* Well-suited for external sorting (when data doesn't fit in memory)\n",
        "* Natural fit for recursive implementation\n",
        "* Parallelizable (different portions can be sorted independently)\n",
        "\n",
        "The main disadvantage is the O(n) extra space required, which can be significant for very large datasets.\n",
        "\n",
        "It's worth noting that there are ways to implement merge sort with less memory overhead, particularly for linked lists where merging can be done by rearranging pointers rather than creating new lists.\n",
        "\n",
        "In practice, merge sort is widely used and forms the basis for many real-world sorting implementations, including the standard sorting libraries in several programming languages."
      ],
      "metadata": {
        "id": "DwsSGBOs0Z69"
      }
    },
    {
      "cell_type": "markdown",
      "source": [
        "# Which Algorithm Should I Choose? Comparing Performance\n",
        "\n",
        "With multiple searching and sorting algorithms available, how do we choose which one to use? The right choice depends on your specific situation, including the size and structure of your data, memory constraints, and what operations you need to perform.\n",
        "\n",
        "Let's compare the algorithms we've studied:\n",
        "\n",
        "## Search Algorithms Comparison\n",
        "\n",
        "| Algorithm | Time Complexity | Space Complexity | Requires Sorted Data | Best Use Case |\n",
        "|-----------|----------------|-----------------|---------------------|--------------|\n",
        "| **Linear Search** | O(n) | O(1) | No | Small lists, unsorted data |\n",
        "| **Binary Search** | O(log n) | O(1) | Yes | Large sorted lists, frequent searches |\n",
        "\n",
        "## Sorting Algorithms Comparison\n",
        "\n",
        "| Algorithm | Best Case | Average Case | Worst Case | Space | Stable | Adaptive | Best Use Case |\n",
        "|-----------|-----------|--------------|------------|-------|--------|----------|--------------|\n",
        "| **Bubble Sort** | O(n) | O(n²) | O(n²) | O(1) | Yes | Yes | Small or nearly sorted lists |\n",
        "| **Insertion Sort** | O(n) | O(n²) | O(n²) | O(1) | Yes | Yes | Small lists, online sorting, nearly sorted data |\n",
        "| **Merge Sort** | O(n log n) | O(n log n) | O(n log n) | O(n) | Yes | No | Large datasets, stable sorting needed |\n",
        "\n",
        "## Factors to Consider When Choosing an Algorithm\n",
        "\n",
        "When deciding which algorithm to use, consider these factors:\n",
        "\n",
        "* **Data size**:\n",
        "  * For small datasets (dozens of items), simpler algorithms like insertion sort often perform well\n",
        "  * For large datasets (thousands or millions of items), more efficient algorithms like merge sort are necessary\n",
        "\n",
        "* **Initial order of data**:\n",
        "  * Is your data already partially sorted? Bubble sort and insertion sort adapt well to this\n",
        "  * Is your data completely random? Merge sort maintains consistent performance\n",
        "\n",
        "* **Memory constraints**:\n",
        "  * Limited memory? In-place sorts (bubble, insertion) use less memory\n",
        "  * Plenty of memory? Merge sort's extra space requirement isn't an issue\n",
        "\n",
        "* **Stability requirements**:\n",
        "  * Need to preserve order of equal elements? All three sorting algorithms we covered maintain stability\n",
        "\n",
        "* **Frequency of operations**:\n",
        "  * One-time sort? Any algorithm appropriate for your data size will work\n",
        "  * Frequent searches? Sort once with a good algorithm, then use binary search\n",
        "\n",
        "* **Implementation simplicity**:\n",
        "  * Need something easy to implement and debug? Linear search and bubble sort are straightforward\n",
        "  * Willing to handle more complex code for better performance? Merge sort is worth it\n",
        "\n",
        "Remember that there's often a trade-off between simplicity and performance. For educational purposes or small datasets, simpler algorithms may be preferable. For production systems with large datasets, more efficient algorithms are usually necessary.\n",
        "\n",
        "In practice, most programming languages provide optimized sorting functions that use hybrid approaches, selecting the best algorithm based on the data characteristics."
      ],
      "metadata": {
        "id": "HYt-M7ic1SDg"
      }
    },
    {
      "cell_type": "markdown",
      "source": [
        "# Python's Built-in Search and Sort Methods\n",
        "\n",
        "While implementing search and sorting algorithms from scratch is essential for learning, Python provides efficient built-in methods for these operations. Here's a summary of Python's built-in search and sort capabilities:\n",
        "\n",
        "## Built-in Search and Sort Methods\n",
        "\n",
        "| Data Structure | Operation | Method | Description | Time Complexity |\n",
        "|----------------|-----------|--------|-------------|-----------------|\n",
        "| **List** | Search | `element in list` | Check if element exists | O(n) |\n",
        "| **List** | Search | `list.index(element)` | Find first occurrence index | O(n) |\n",
        "| **List** | Search | `list.count(element)` | Count occurrences | O(n) |\n",
        "| **List** | Sort | `sorted(list)` | Return new sorted list | O(n log n) |\n",
        "| **List** | Sort | `list.sort()` | Sort list in-place | O(n log n) |\n",
        "| **Tuple** | Search | `element in tuple` | Check if element exists | O(n) |\n",
        "| **Tuple** | Search | `tuple.index(element)` | Find first occurrence index | O(n) |\n",
        "| **Tuple** | Search | `tuple.count(element)` | Count occurrences | O(n) |\n",
        "| **Tuple** | Sort | `sorted(tuple)` | Return new sorted list | O(n log n) |\n",
        "| **String** | Search | `substring in string` | Check if substring exists | O(n) |\n",
        "| **String** | Search | `string.find(substring)` | Find first occurrence index | O(n) |\n",
        "| **String** | Search | `string.count(substring)` | Count occurrences | O(n) |\n",
        "| **String** | Sort | `sorted(string)` | Return list of sorted characters | O(n log n) |\n",
        "| **String** | Sort | `''.join(sorted(string))` | Return sorted string | O(n log n) |\n",
        "| **Set** | Search | `element in set` | Check if element exists | O(1) average |\n",
        "| **Set** | Sort | `sorted(set)` | Return sorted list of set elements | O(n log n) |\n",
        "| **Dictionary** | Search | `key in dict` | Check if key exists | O(1) average |\n",
        "| **Dictionary** | Search | `dict.get(key, default)` | Get value for key (with default) | O(1) average |\n",
        "| **Dictionary** | Sort | `sorted(dict)` | Return sorted list of keys | O(n log n) |\n",
        "| **Dictionary** | Sort | `sorted(dict.items())` | Return sorted list of (key,value) pairs | O(n log n) |\n",
        "\n",
        "## Additional Sort Options\n",
        "\n",
        "| Option | Example | Description |\n",
        "|--------|---------|-------------|\n",
        "| **Reverse** | `sorted(list, reverse=True)` | Sort in descending order |\n",
        "| **Custom Key** | `sorted(list, key=len)` | Sort using function applied to each element |\n",
        "| **Multiple Criteria** | `sorted(list, key=lambda x: (x[0], x[1]))` | Sort by multiple attributes |\n",
        "| **Stable Sort** | `sorted(list)` | Python's sort is guaranteed to be stable |\n",
        "\n",
        "\n",
        "Python's built-in methods leverage highly optimized implementations (typically **TimSort**, a hybrid of merge sort and insertion sort), making them much faster than custom implementations for practical use."
      ],
      "metadata": {
        "id": "oy1mrMHo1fHV"
      }
    },
    {
      "cell_type": "markdown",
      "source": [
        "# Summary and Key Takeaways\n",
        "\n",
        "We've explored fundamental algorithms for searching and sorting, building a strong foundation in algorithmic thinking. Let's summarize the key concepts and takeaways from our journey:\n",
        "\n",
        "## Key Concepts in Algorithms\n",
        "\n",
        "* **Algorithm**: A step-by-step procedure for solving a problem or accomplishing a task\n",
        "* **Time Complexity**: How the runtime of an algorithm grows as the input size increases\n",
        "* **Space Complexity**: How much additional memory an algorithm requires\n",
        "* **In-place Algorithm**: An algorithm that transforms input using only a small, constant amount of extra storage space\n",
        "* **Stable Sort**: A sorting algorithm that preserves the relative order of equal elements\n",
        "* **Adaptive Algorithm**: An algorithm that performs better on partially sorted data\n",
        "* **Divide and Conquer**: A problem-solving approach that breaks a problem into smaller subproblems, solves them, and combines the results\n",
        "\n",
        "## Search Algorithms\n",
        "\n",
        "* **Linear Search**: Simple but inefficient (O(n) time complexity)\n",
        "  * Works on unsorted data\n",
        "  * Checks each element sequentially until finding a match or reaching the end\n",
        "\n",
        "* **Binary Search**: Efficient but requires sorted data (O(log n) time complexity)\n",
        "  * Repeatedly divides the search space in half\n",
        "  * Much faster than linear search for large datasets\n",
        "\n",
        "## Sorting Algorithms\n",
        "\n",
        "* **Bubble Sort**: Simple, adaptive, stable sort with O(n²) average time complexity\n",
        "  * Works by repeatedly swapping adjacent elements if they're in the wrong order\n",
        "  * Inefficient for large datasets but easy to implement\n",
        "\n",
        "* **Insertion Sort**: Adaptive, stable sort with O(n²) average time complexity\n",
        "  * Works by building a sorted portion one element at a time\n",
        "  * Efficient for small or nearly sorted datasets\n",
        "\n",
        "* **Merge Sort**: Efficient, stable sort with O(n log n) time complexity\n",
        "  * Uses divide-and-conquer approach\n",
        "  * Requires additional memory but guarantees good performance regardless of initial order\n",
        "\n",
        "## Practical Takeaways\n",
        "\n",
        "1. **Choose algorithms based on your specific needs**:\n",
        "   * Consider data size, initial order, memory constraints, and required stability\n",
        "\n",
        "2. **Simpler isn't always worse**:\n",
        "   * For small datasets, simpler algorithms often outperform complex ones\n",
        "\n",
        "3. **There's usually a trade-off**:\n",
        "   * Between time and space complexity\n",
        "   * Between implementation simplicity and performance\n",
        "   * Between best-case and worst-case scenarios\n",
        "\n",
        "4. **Big O notation matters**:\n",
        "   * The difference between O(n²) and O(n log n) becomes enormous for large datasets\n",
        "\n",
        "5. **Algorithmic thinking is transferable**:\n",
        "   * The principles you've learned apply to many other problems\n",
        "   * Breaking problems down into clear, step-by-step procedures is a valuable skill\n",
        "\n",
        "These algorithms form the foundation for more advanced data structures and algorithms. By understanding these basics thoroughly, you're well-prepared to tackle more complex computational problems and develop efficient solutions in your programming journey.\n",
        "\n",
        "## Python's Built-in Methods\n",
        "\n",
        "Remember that Python provides efficient built-in methods for searching and sorting that you should use in practice. Our implementations are for learning purposes, but in real-world code, use Python's optimized functions:\n",
        "\n",
        "```python\n",
        "# Searching\n",
        "if element in my_list:  # Uses linear search internally\n",
        "    print(\"Found it!\")\n",
        "\n",
        "# Sorting\n",
        "sorted_list = sorted(my_list)  # Returns a new sorted list\n",
        "my_list.sort()  # Sorts the list in-place\n",
        "```\n",
        "\n",
        "These built-in methods use highly optimized algorithms (typically TimSort, a hybrid of merge sort and insertion sort), making them much faster than our implementations for practical use."
      ],
      "metadata": {
        "id": "4IjEHiB310Ny"
      }
    },
    {
      "cell_type": "code",
      "source": [],
      "metadata": {
        "id": "fokNgVX31lJx"
      },
      "execution_count": null,
      "outputs": []
    }
  ]
}