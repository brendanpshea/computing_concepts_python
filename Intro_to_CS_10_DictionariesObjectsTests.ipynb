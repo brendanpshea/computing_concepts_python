{
  "nbformat": 4,
  "nbformat_minor": 0,
  "metadata": {
    "colab": {
      "provenance": [],
      "authorship_tag": "ABX9TyOB4e5dkdg8n5PDstkT2Tw6",
      "include_colab_link": true
    },
    "kernelspec": {
      "name": "python3",
      "display_name": "Python 3"
    },
    "language_info": {
      "name": "python"
    }
  },
  "cells": [
    {
      "cell_type": "markdown",
      "metadata": {
        "id": "view-in-github",
        "colab_type": "text"
      },
      "source": [
        "<a href=\"https://colab.research.google.com/github/brendanpshea/computing_concepts_python/blob/main/Intro_to_CS_10_DictionariesObjectsTests.ipynb\" target=\"_parent\"><img src=\"https://colab.research.google.com/assets/colab-badge.svg\" alt=\"Open In Colab\"/></a>"
      ]
    },
    {
      "cell_type": "code",
      "source": [],
      "metadata": {
        "id": "UoJjebaJ5Uo8"
      },
      "execution_count": null,
      "outputs": []
    },
    {
      "cell_type": "markdown",
      "source": [
        "## What is a Dictionary? How Do I Use Them in Python?\n",
        "\n",
        "A **Python dictionary** is a built-in data type that allows you to store a collection of **key-value pairs**. Each key is linked to a specific value. When you provide a key, Python returns the value associated with that key. Keys must be unique within a single dictionary, and they are typically strings or numbers but can be any immutable type. The values, on the other hand, can be of any data type and can be repeated across different keys. Dictionaries are particularly useful when you need to associate a set of values with keys to retrieve them efficiently by key, rather than by position as you would with a list.\n",
        "\n",
        "The core operations you can perform with dictionaries include:\n",
        "\n",
        "- **Creating a dictionary** by placing comma-separated key-value pairs within curly braces `{}`.\n",
        "- **Accessing values** by referencing the key in square brackets `[]`.\n",
        "- **Adding or modifying items** by assigning a value to a key.\n",
        "- **Deleting items** using the `del` keyword or the `pop()` method.\n",
        "- **Checking for the existence of a key** using the `in` keyword.\n",
        "- **Iterating over a dictionary** to access keys, values, or both.\n",
        "\n",
        "Below are some of the essential syntax examples related to dictionaries:\n",
        "\n",
        "- **Creation**: `my_dict = { 'key1': 'value1', 'key2': 'value2' }`\n",
        "- **Accessing values**: `value = my_dict['key1']`\n",
        "- **Adding a new key-value pair**: `my_dict['new_key'] = 'new_value'`\n",
        "- **Modifying an existing key**: `my_dict['key1'] = 'updated_value'`\n",
        "- **Deleting a key-value pair**: `del my_dict['key1']` or `removed_value = my_dict.pop('key1')`\n",
        "- **Checking for a key**: `if 'key1' in my_dict: ...`\n",
        "- **Iterating keys**: `for key in my_dict.keys(): ...`\n",
        "- **Iterating values**: `for value in my_dict.values(): ...`\n",
        "- **Iterating key-value pairs**: `for key, value in my_dict.items(): ...`\n",
        "\n",
        "These operations make dictionaries a flexible tool for representing complex information, such as a database of books where each book's title is a key linked to information about the book.\n"
      ],
      "metadata": {
        "id": "NpTdSknk6ZRv"
      }
    },
    {
      "cell_type": "code",
      "source": [
        "# Example Python code demonstrating some of the dictionary operations listed above\n",
        "\n",
        "# Creating a dictionary with book titles as keys and authors as values\n",
        "book_database = {\n",
        "    \"Hamlet\": \"Willam Shakespeare\",\n",
        "    \"Middlemarch\": \"George Eliot\",\n",
        "    \"The Republic\": \"Plato\",\n",
        "    \"Never Let Me Go\": \"Kazuo Ishiguro\"\n",
        "    # More items can be added here\n",
        "}\n",
        "\n",
        "# Accessing the author of Middlemarch\n",
        "author_of_middlemarch = book_database[\"Middlemarch\"]\n",
        "\n",
        "# Adding a new book to the database\n",
        "book_database[\"Good Omens\"] = \"Terry Pratchett & Neil Gaiman\"\n",
        "\n",
        "# Modifying the author of an existing book\n",
        "book_database[\"Good Omens\"] = \"Terry Pratchett and Neil Gaiman\"\n",
        "\n",
        "# Deleting a book from the database\n",
        "del book_database[\"The Republic\"]\n",
        "\n",
        "# Checking if a book is in the database and printing the author\n",
        "if \"Middlemarch\" in book_database:\n",
        "    print(\"The author of Middlemarch is:\", book_database[\"Middlemarch\"])\n",
        "\n",
        "# Iterating over the dictionary and printing out each book and author\n",
        "for book, author in book_database.items():\n",
        "    print(f\"'{book}' is written by {author}\")\n"
      ],
      "metadata": {
        "colab": {
          "base_uri": "https://localhost:8080/"
        },
        "id": "W1eq0vsA6beK",
        "outputId": "1f79b35a-b0f4-4f07-d913-0bdc45b6f2b0"
      },
      "execution_count": 8,
      "outputs": [
        {
          "output_type": "stream",
          "name": "stdout",
          "text": [
            "The author of Middlemarch is: George Eliot\n",
            "'Hamlet' is written by Willam Shakespeare\n",
            "'Middlemarch' is written by George Eliot\n",
            "'Never Let Me Go' is written by Kazuo Ishiguro\n",
            "'Good Omens' is written by Terry Pratchett and Neil Gaiman\n"
          ]
        }
      ]
    },
    {
      "cell_type": "markdown",
      "source": [
        "## How Do Dictionaries Differ From Lists?\n",
        "\n",
        "**Dictionaries** and **lists** in Python are both mutable, iterable data structures that can store collections of items. However, their use-cases and the way they handle data are significantly different.\n",
        "\n",
        "The primary difference lies in how they store elements. A **list** is an ordered sequence of items. Each item in a list has an assigned index value. You use the index to access the item, which means that items are accessed by their position. Lists are created using square brackets `[]`.\n",
        "\n",
        "In contrast, a **dictionary** stores items in key-value pairs. This means that each item is a combination of a key and a value, and items are accessed by the key rather than by their position. Dictionaries do not maintain any order, and the keys provide a symbolic, descriptive handle to retrieve the corresponding values. Dictionaries are created using curly braces `{}`.\n",
        "\n",
        "Here are three cases where a dictionary might be preferable over a list:\n",
        "\n",
        "1. **When You Need a Logical Association Between Pairs**: Dictionaries are ideal when you're dealing with data that naturally forms pairs. For example, if you are storing information about books where you need to retrieve details based on titles, a dictionary allows you to access these details using the book title as the key."
      ],
      "metadata": {
        "id": "REc5XK847QOW"
      }
    },
    {
      "cell_type": "code",
      "source": [
        "# Use-Case 1: Storing book information with logical association\n",
        "library_catalog = {\n",
        "    \"978-0451524935\": {\"title\": \"1984\", \"author\": \"George Orwell\", \"copies_available\": 12},\n",
        "    \"978-0307277785\": {\"title\": \"Brave New World\", \"author\": \"Aldous Huxley\", \"copies_available\": 8},\n",
        "    # More books can be added here with their ISBN as the key\n",
        "}\n",
        "\n",
        "for key, value in library_catalog.items():\n",
        "  print(key, value)"
      ],
      "metadata": {
        "colab": {
          "base_uri": "https://localhost:8080/"
        },
        "id": "ACfo4_zz72dS",
        "outputId": "e468e02f-708e-4ce8-8d91-877c887f7707"
      },
      "execution_count": 11,
      "outputs": [
        {
          "output_type": "stream",
          "name": "stdout",
          "text": [
            "978-0451524935 {'title': '1984', 'author': 'George Orwell', 'copies_available': 12}\n",
            "978-0307277785 {'title': 'Brave New World', 'author': 'Aldous Huxley', 'copies_available': 8}\n"
          ]
        }
      ]
    },
    {
      "cell_type": "markdown",
      "source": [],
      "metadata": {
        "id": "S1yxU4Gu7zGA"
      }
    },
    {
      "cell_type": "markdown",
      "source": [
        "2. **When You Require Fast Lookups by Key**: If you need to frequently access elements and the logical key is known, dictionaries provide a more efficient way for lookup operations because they use a hashing mechanism under the hood. For example, retrieving user details by username is more efficient using a dictionary."
      ],
      "metadata": {
        "id": "Nji8Mn8P7rAF"
      }
    },
    {
      "cell_type": "code",
      "source": [
        "# Use-Case 2: Fast lookup by key for a book inventory system\n",
        "book_inventory = {\n",
        "    \"978-0451524935\": {\"location\": \"Aisle 3\", \"status\": \"checked out\"},\n",
        "    \"978-0307277785\": {\"location\": \"Aisle 1\", \"status\": \"available\"},\n",
        "    # More books can be added here with their ISBN as the key\n",
        "}\n",
        "status_of_1984 = book_inventory[\"978-0451524935\"][\"status\"]  # Quick access using the ISBN\n",
        "\n",
        "for key, value in book_inventory.items():\n",
        "  print(key, value)"
      ],
      "metadata": {
        "colab": {
          "base_uri": "https://localhost:8080/"
        },
        "id": "82Ro4McC8PPY",
        "outputId": "30e0a2d8-ffc5-451f-dec3-89825515b240"
      },
      "execution_count": 13,
      "outputs": [
        {
          "output_type": "stream",
          "name": "stdout",
          "text": [
            "978-0451524935 {'location': 'Aisle 3', 'status': 'checked out'}\n",
            "978-0307277785 {'location': 'Aisle 1', 'status': 'available'}\n"
          ]
        }
      ]
    },
    {
      "cell_type": "markdown",
      "source": [
        "3. **When Data is Being Constantly Modified**: If your data set is dynamic, where elements are being added and removed frequently, dictionaries can be more performant because adding or removing a key-value pair does not affect the order or position of other elements, unlike lists.\n"
      ],
      "metadata": {
        "id": "kFptqYeD7twK"
      }
    },
    {
      "cell_type": "code",
      "source": [
        "# Use-Case 3: Dynamic data modification in a book tracking system\n",
        "reading_list = {\n",
        "    \"978-0141439563\": {\"title\": \"Pride and Prejudice\", \"author\": \"Jane Austen\", \"read_status\": False},\n",
        "    \"978-0679783268\": {\"title\": \"1984\", \"author\": \"George Orwell\", \"read_status\": True},\n",
        "    # More books can be added here with their ISBN as the key\n",
        "}\n",
        "# Marking \"Pride and Prejudice\" as read\n",
        "reading_list[\"978-0141439563\"][\"read_status\"] = True\n",
        "# Adding a new book to the reading list\n",
        "reading_list[\"978-0439023528\"] = {\"title\": \"The Hunger Games\", \"author\": \"Suzanne Collins\", \"read_status\": False}\n",
        "# Removing \"1984\" from the reading list after completion\n",
        "del reading_list[\"978-0679783268\"]"
      ],
      "metadata": {
        "id": "ShjVp_4z8osU"
      },
      "execution_count": null,
      "outputs": []
    },
    {
      "cell_type": "markdown",
      "source": [
        "## Application of Key-Value Structures in Computer Science\n",
        "\n",
        "Key-value structures, such as dictionaries in Python, are foundational to computer science and are utilized extensively due to their efficiency and flexibility. They are based on the **abstract data type** known as a **map**, which associates unique keys to specific values. This simple yet powerful structure enables rapid data retrieval, akin to looking up a word in a dictionary to find its definition.\n",
        "\n",
        "In computer science, key-value pairs are employed in various scenarios:\n",
        "\n",
        "- **Databases**: Many NoSQL databases, like MongoDB and Redis, use a key-value model to store data, allowing for quick data retrieval, flexible schemas, and easy scalability.\n",
        "\n",
        "- **Caching**: Key-value pairs are ideal for caching mechanisms where quick access to data is crucial. Caching systems store temporary data associated with a key that can be retrieved without the overhead of a full database query.\n",
        "\n",
        "- **Configuration Settings**: Applications often use key-value pairs for configuration settings, where the key is the setting name and the value is the setting’s parameter.\n",
        "\n",
        "- **Associative Arrays**: In programming, associative arrays (or maps) use keys to access stored values, providing a way to maintain a collection of objects that are indexed by a keyword or identifier.\n",
        "\n",
        "- **Hash Tables**: Underlying many key-value structures is the concept of a hash table, where a hash function is used to convert the key into an index in an array where the value is stored. This allows for constant time complexity \\(O(1)\\) for lookups, insertions, and deletions.\n",
        "\n",
        "- **Memory Allocation**: Operating systems use key-value pairs to keep track of allocated memory and resources, with keys representing memory addresses and values detailing the allocation information.\n",
        "\n",
        "- **Object Representation**: In object-oriented programming, objects can be seen as key-value stores with attribute names as keys and attribute values as values. This simplifies the storage and retrieval of object state.\n",
        "\n",
        "The ubiquity of key-value structures across computer science disciplines underlines their importance. They allow developers to store and manage data in a way that is both intuitive and efficient, making them indispensable for both fundamental and advanced computational tasks.\n"
      ],
      "metadata": {
        "id": "pUF9Ytk7-rnG"
      }
    },
    {
      "cell_type": "markdown",
      "source": [
        "Dictionaries provide a more intuitive way to structure data when the relationship between elements is key, and the complexity of data access patterns demands both clarity and performance."
      ],
      "metadata": {
        "id": "fuUd63FE8uCp"
      }
    },
    {
      "cell_type": "markdown",
      "source": [
        "## Exercises: THe Library of Babel\n",
        "\n",
        "## Exercise 1: Simple Dictionary Creation\n",
        "Create a dictionary representing a book in the Library of Babel. The dictionary should have keys for `title`, `author`, and `page_count`. Initialize it with any fictional data about a book you like. **Hint**: Use curly braces `{}` to create a dictionary with `key: value` pairs. Remember, keys are unique identifiers, and values are the data associated with those keys.\n",
        "\n",
        "\n"
      ],
      "metadata": {
        "id": "AMesSejw_Ow6"
      }
    },
    {
      "cell_type": "code",
      "source": [],
      "metadata": {
        "id": "UerHbmeOADXC"
      },
      "execution_count": null,
      "outputs": []
    },
    {
      "cell_type": "markdown",
      "source": [
        "\n",
        "## Exercise 2: Accessing Dictionary Values\n",
        "Using the dictionary from Exercise 1, write a program that prints out a statement about the book using all of the information in the dictionary. **Hint**: You can access the value of a key by using the syntax `dictionary[key]`. Construct a string that incorporates these values using f-string formatting, which allows you to include variables directly within the string using curly braces `{}`.\n"
      ],
      "metadata": {
        "id": "Y-sgtTQp_iQ2"
      }
    },
    {
      "cell_type": "code",
      "source": [],
      "metadata": {
        "id": "VvGADfdcACpV"
      },
      "execution_count": null,
      "outputs": []
    },
    {
      "cell_type": "markdown",
      "source": [
        "## Exercise 3: Modifying Dictionary Entries\n",
        "The Library of Babel is said to contain all possible books. Write a program that changes the `author` of the book to \"Jorge Luis Borges\" and adds a new key-value pair for `genre`, which should be \"Fiction\". **Hint**: Assign a new value to an existing key by using `dictionary[key] = new_value`. To add a new key-value pair, use the same syntax with a new key.\n",
        "\n"
      ],
      "metadata": {
        "id": "661f8g4L_jo3"
      }
    },
    {
      "cell_type": "code",
      "source": [],
      "metadata": {
        "id": "cAOsTFAXAA9M"
      },
      "execution_count": null,
      "outputs": []
    },
    {
      "cell_type": "markdown",
      "source": [
        "## Exercise 4: Iterating Over a Dictionary\n",
        "Imagine the Library of Babel's organizational system is a dictionary where the keys are genres and the values are lists of book titles. Create such a dictionary with at least three genres, and two books per genre. Write a program that iterates over the dictionary and prints out each genre, followed by the titles of the books in that genre. **Hint**: Use a `for` loop with the `.items()` method on your dictionary to get both the key and the value in each iteration. The `for` loop should follow the structure `for key, value in dictionary.items():`.\n"
      ],
      "metadata": {
        "id": "BRUyKwVk_k4M"
      }
    },
    {
      "cell_type": "code",
      "source": [],
      "metadata": {
        "id": "BE7pnrXpAMC9"
      },
      "execution_count": null,
      "outputs": []
    },
    {
      "cell_type": "markdown",
      "source": [
        "\n",
        "## Exercise 5 (Challenge/Optional): Complex Data Structures with Dictionaries\n",
        "The Library of Babel is infinite. Create a nested dictionary where each key is a hexagon room number (1 to 8) and the value is another dictionary with keys for `books` (a list of book titles) and `exits` (a list of adjoining hexagon numbers from 1 to 8).\n",
        "\n",
        "Now, Write a function that takes a hexagon room number and prints out the details of the room, including the titles of the books and the adjoining rooms it connects to.\n",
        "\n",
        "**Hint**: Nested dictionaries are accessed using consecutive square brackets `dictionary[key1][key2]`. When defining the function, use the `.get()` method to handle cases where a hexagon number might not exist, which avoids a KeyError by returning `None` if the key is not found.\n"
      ],
      "metadata": {
        "id": "GyHY0Hxm_mAR"
      }
    },
    {
      "cell_type": "markdown",
      "source": [
        "## What is a class in Python? What is an Object?\n",
        "\n",
        "In Python, a **class** is a blueprint for creating user-defined data structures. It defines a set of attributes that will characterize any object that is instantiated from the class. Think of a class as an abstract concept for a particular category of things. For instance, \"Book\" could be a class if we consider a library context.\n",
        "\n",
        "An **object**, on the other hand, is an instantiation of a class. When a class is defined, no memory is allocated until an object is created from the class, or in other words, an instance of the class is created. Each object can have attributes attached to it for maintaining its state. The class also defines behaviors as methods, which are the functions that handle the logic associated with the attributes of the class.\n",
        "\n",
        "Objects are instances of classes; they can hold different data, but share the structure and behavior defined by the class. If a \"Book\" is a class, then \"Middlemarch by George Eliot\" or \"The Lord of the Rings by J.R.R. Tolkien\" would be objects or instances of this class, each with their own specific attributes like title, author, and publication year.\n"
      ],
      "metadata": {
        "id": "L9yf_Je7Bx2Q"
      }
    },
    {
      "cell_type": "code",
      "source": [
        "# Define a class named Book\n",
        "class Book:\n",
        "    def __init__(self, title, author, publication_year):\n",
        "        self.title = title\n",
        "        self.author = author\n",
        "        self.publication_year = publication_year\n",
        "\n",
        "    def get_description(self):\n",
        "        return f\"{self.title} by {self.author}, published in {self.publication_year}\"\n",
        "\n",
        "# Create objects of the Book class\n",
        "middlemarch = Book(\"Middlemarch\", \"George Eliot\", 1871)\n",
        "lotr = Book(\"The Lord of the Rings\", \"J.R.R. Tolkien\", 1954)\n",
        "\n",
        "# Accessing object methods\n",
        "print(middlemarch.get_description())\n",
        "print(lotr.get_description())\n"
      ],
      "metadata": {
        "colab": {
          "base_uri": "https://localhost:8080/"
        },
        "id": "9Mhw5U_U-pe4",
        "outputId": "06c68934-28d9-4f25-ccef-21221ccdb33e"
      },
      "execution_count": 15,
      "outputs": [
        {
          "output_type": "stream",
          "name": "stdout",
          "text": [
            "Middlemarch by George Eliot, published in 1871\n",
            "The Lord of the Rings by J.R.R. Tolkien, published in 1954\n"
          ]
        }
      ]
    },
    {
      "cell_type": "markdown",
      "source": [
        "## Explaining the Book Class\n",
        "\n",
        "When we define a **class** in Python, we're creating a complex data type that can include both data and functions to work on that data. The `Book` class here is a straightforward example of a class in Python that encompasses several key concepts in Object-Oriented Design (OOD).\n",
        "\n",
        "The `__init__` method is known as the constructor in many OOP languages. This method is called when an object is created from a class and allows the class to initialize the attributes of the class. In our `Book` class, the constructor takes `self`, `title`, `author`, and `publication_year` as arguments. The `self` parameter is a reference to the current instance of the class and is used to access variables that belong to the class. It does not need to be named `self`, you can call it whatever you like, but it has to be the first parameter of any function in the class.\n",
        "\n",
        "The attributes `self.title`, `self.author`, and `self.publication_year` are then set to the values passed during object creation. These are instance variables and are specific to the object created. This means that each instance of `Book` can have different titles, authors, and publication years.\n",
        "\n",
        "The method `get_description` is what's known as an instance method because it operates on an instance of the class (an object). When you call this method on a `Book` object, it returns a string that includes the `title`, `author`, and `publication_year` of that specific object.\n",
        "\n",
        "When we create instances of our `Book` class, we are creating two separate objects, `middlemarch` and `lotr`, each with their own distinct data. They share the same structure and behaviors defined in the `Book` class but operate on their own data. So, when we call `get_description` on `middlemarch`, it has access to the title, author, and publication year of \"Middlemarch\" by George Eliot, and the same method on `lotr` accesses the data related to \"The Lord of the Rings\" by J.R.R. Tolkien.\n",
        "\n",
        "This encapsulation of data and methods within a class is one of the core concepts of OOD. It allows us to create complex data types that contain not just data, but also the functionality related to that data."
      ],
      "metadata": {
        "id": "CWAf6yYPCVzm"
      }
    },
    {
      "cell_type": "code",
      "source": [],
      "metadata": {
        "id": "A7BAo9258vQ3"
      },
      "execution_count": null,
      "outputs": []
    }
  ]
}