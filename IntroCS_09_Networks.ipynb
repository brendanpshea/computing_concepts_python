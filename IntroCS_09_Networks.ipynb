{
  "nbformat": 4,
  "nbformat_minor": 0,
  "metadata": {
    "colab": {
      "provenance": [],
      "authorship_tag": "ABX9TyOLF9G+Kj6Clmfn3BsSrqNd",
      "include_colab_link": true
    },
    "kernelspec": {
      "name": "python3",
      "display_name": "Python 3"
    },
    "language_info": {
      "name": "python"
    }
  },
  "cells": [
    {
      "cell_type": "markdown",
      "metadata": {
        "id": "view-in-github",
        "colab_type": "text"
      },
      "source": [
        "<a href=\"https://colab.research.google.com/github/brendanpshea/computing_concepts_python/blob/main/IntroCS_09_Networks.ipynb\" target=\"_parent\"><img src=\"https://colab.research.google.com/assets/colab-badge.svg\" alt=\"Open In Colab\"/></a>"
      ]
    },
    {
      "cell_type": "markdown",
      "source": [
        "# Networks All Around Us\n",
        "### Brendan Shea, PhD\n",
        "\n",
        "Computer networks have become an essential part of our daily lives, connecting us to information, services, and each other. From checking social media on your smartphone to streaming videos, playing online games, or even turning in homework assignments, nearly everything we do digitally involves networks in some way. Understanding how these networks function is crucial for anyone interested in computer science.\n",
        "\n",
        "* Networks allow devices to communicate and share resources through standardized rules known as **protocols** (sets of rules that determine how data is transmitted between different devices, similar to languages that computers use to communicate).\n",
        "* The internet is the largest and most well-known computer network, connecting billions of devices worldwide through various interconnected networks.\n",
        "* Modern applications rely on network communication to provide services like social media, online shopping, and video streaming.\n",
        "* Nearly all software today is designed with networking capabilities to enable real-time collaboration, cloud storage, and instant updates.\n",
        "\n",
        "For example, when you watch a YouTube video on your phone, here's what happens:\n",
        "* Your phone connects to your home Wi-Fi network\n",
        "* Your home network connects to your Internet Service Provider (ISP)\n",
        "* Your ISP connects to YouTube's servers\n",
        "* YouTube's servers send video data back through these networks\n",
        "* The data is processed by your phone and displayed on your screen\n",
        "* All of this happens in just seconds, using multiple protocols at each step!"
      ],
      "metadata": {
        "id": "LjhGZKS6pyKl"
      }
    },
    {
      "cell_type": "markdown",
      "source": [
        "## What is a Computer Network?\n",
        "\n",
        "A computer network is a collection of interconnected computing devices that can exchange data and share resources. These devices—which include computers, servers, smartphones, and even smart appliances—communicate through transmission media like cables or wireless signals, allowing them to send and receive information. Networks range from small home setups with just a few devices to massive enterprise networks and ultimately the global internet that connects billions of devices worldwide.\n",
        "\n",
        "* A **Local Area Network (LAN)** connects devices in a limited area like a home, school, or office building, typically owned and managed by a single organization.\n",
        "* A **Wide Area Network (WAN)** spans a large geographic area, often connecting multiple LANs across cities or countries—the internet itself is the largest example of a WAN.\n",
        "* Networks use specialized hardware devices like **routers** (devices that forward data packets between computer networks, determining the best path for data to travel) and **switches** (devices that connect multiple devices on a local network and use MAC addresses to direct traffic).\n",
        "* The **bandwidth** of a network refers to the maximum data transfer rate, measured in bits per second (bps), with modern networks often operating at millions (Mbps) or billions (Gbps) of bits per second.\n",
        "\n",
        "| Network Type | Geographic Scope | Example | Typical Speed |\n",
        "|--------------|------------------|---------|---------------|\n",
        "| LAN | Limited (building) | School computer lab | 100 Mbps - 10 Gbps |\n",
        "| WAN | Extensive (cities/countries) | Corporate network across branches | 1.5 Mbps - 1 Gbps |\n",
        "| MAN | City-wide | City government network | 10 Mbps - 10 Gbps |\n",
        "| PAN | Personal space (few meters) | Bluetooth devices | 1-3 Mbps |\n",
        "\n",
        "For example, your school's computer network is a LAN—all the computers in the lab, the printers, and the teacher's computers are connected through network cables to switches in a closet somewhere in the building. These switches connect to a router that connects your school's LAN to the internet (a WAN). When you print a document, the data travels across the LAN to the printer; when you visit a website, the data travels across both the LAN and WAN."
      ],
      "metadata": {
        "id": "eWWBBLTXp-6a"
      }
    },
    {
      "cell_type": "markdown",
      "source": [
        "## The TCP/IP Model: A Four-Layer Approach\n",
        "\n",
        "The TCP/IP model is a conceptual framework that standardizes how data is transmitted across networks. Named after its two most important protocols—Transmission Control Protocol (TCP) and Internet Protocol (IP)—this model divides network communication into four distinct layers. Each layer builds upon the services provided by the layer below it, performing specific functions that contribute to successful data transmission. This layered approach makes network design more manageable by separating complex tasks into smaller components.\n",
        "\n",
        "* The TCP/IP model consists of four layers working together: Application, Transport, Internet, and Network Interface (sometimes called the Link layer).\n",
        "* Each layer has specific responsibilities and encapsulates data with additional information needed for that layer's functions—a process called **encapsulation** (whereby data is wrapped inside headers containing information needed for transmission).\n",
        "* As data moves down the layers on the sending device and up the layers on the receiving device, each layer adds or removes its own header information.\n",
        "* This layered approach allows for **interoperability** (the ability of different systems to work together seamlessly) by standardizing how communication occurs at each level.\n",
        "\n",
        "| Layer | Main Function | Key Protocols | Example |\n",
        "|-------|---------------|---------------|---------|\n",
        "| Application | User interfaces and applications | HTTP, FTP, SMTP, DNS | Web browsers, email clients |\n",
        "| Transport | End-to-end connections and reliability | TCP, UDP | Port numbers, error checking |\n",
        "| Internet | Routing between networks | IP, ICMP | IP addressing, routing tables |\n",
        "| Network Interface | Physical connection to the network | Ethernet, Wi-Fi | Network cards, drivers |\n",
        "\n",
        "For example, when you type www.google.com in your browser, your request travels through all four layers:\n",
        "\n",
        "1. **Application Layer**: Your browser creates an HTTP request for Google's homepage\n",
        "2. **Transport Layer**: The request gets TCP headers added with port information (port 80 or 443)\n",
        "3. **Internet Layer**: IP headers are added with Google's server IP address as the destination\n",
        "4. **Network Interface Layer**: The data is converted into electrical signals that travel through your network cable or Wi-Fi\n",
        "\n",
        "When Google's servers receive your request, the process happens in reverse:\n",
        "\n",
        "1. Their **Network Interface Layer** receives the electrical signals\n",
        "2. Their **Internet Layer** processes the IP headers to confirm the packet is for them\n",
        "3. Their **Transport Layer** processes the TCP headers to determine which service should handle it\n",
        "4. Their **Application Layer** receives the HTTP request and sends back Google's homepage"
      ],
      "metadata": {
        "id": "fIlzyLCIqBay"
      }
    },
    {
      "cell_type": "code",
      "source": [
        "# @title\n",
        "%%html\n",
        "<svg viewBox=\"0 0 400 300\" xmlns=\"http://www.w3.org/2000/svg\">\n",
        "  <style>\n",
        "    .layer { stroke: #333; stroke-width: 2; }\n",
        "    .layer-1 { fill: #f8d7da; }\n",
        "    .layer-2 { fill: #fff3cd; }\n",
        "    .layer-3 { fill: #d1e7dd; }\n",
        "    .layer-4 { fill: #cfe2ff; }\n",
        "    text { font-family: Arial, sans-serif; font-size: 16px; text-anchor: middle; }\n",
        "    .label { font-weight: bold; }\n",
        "    .sublabel { font-size: 12px; font-style: italic; }\n",
        "    .arrow { stroke: #555; stroke-width: 2; fill: none; marker-end: url(#arrowhead); }\n",
        "  </style>\n",
        "\n",
        "  <defs>\n",
        "    <marker id=\"arrowhead\" markerWidth=\"10\" markerHeight=\"7\" refX=\"9\" refY=\"3.5\" orient=\"auto\">\n",
        "      <polygon points=\"0 0, 10 3.5, 0 7\" fill=\"#555\" />\n",
        "    </marker>\n",
        "  </defs>\n",
        "\n",
        "  <!-- TCP/IP Layers -->\n",
        "  <rect class=\"layer layer-4\" x=\"100\" y=\"50\" width=\"200\" height=\"50\" rx=\"5\" />\n",
        "  <rect class=\"layer layer-3\" x=\"100\" y=\"110\" width=\"200\" height=\"50\" rx=\"5\" />\n",
        "  <rect class=\"layer layer-2\" x=\"100\" y=\"170\" width=\"200\" height=\"50\" rx=\"5\" />\n",
        "  <rect class=\"layer layer-1\" x=\"100\" y=\"230\" width=\"200\" height=\"50\" rx=\"5\" />\n",
        "\n",
        "  <!-- Layer Labels -->\n",
        "  <text x=\"200\" y=\"75\" class=\"label\">Application Layer</text>\n",
        "  <text x=\"200\" y=\"90\" class=\"sublabel\">(HTTP, DNS, FTP)</text>\n",
        "\n",
        "  <text x=\"200\" y=\"135\" class=\"label\">Transport Layer</text>\n",
        "  <text x=\"200\" y=\"150\" class=\"sublabel\">(TCP, UDP)</text>\n",
        "\n",
        "  <text x=\"200\" y=\"195\" class=\"label\">Internet Layer</text>\n",
        "  <text x=\"200\" y=\"210\" class=\"sublabel\">(IP, ICMP)</text>\n",
        "\n",
        "  <text x=\"200\" y=\"255\" class=\"label\">Network Interface Layer</text>\n",
        "  <text x=\"200\" y=\"270\" class=\"sublabel\">(Ethernet, Wi-Fi)</text>\n",
        "\n",
        "  <!-- Data Flow Arrows -->\n",
        "  <path class=\"arrow\" d=\"M 320,75 C 350,75 350,255 320,255\" />\n",
        "  <path class=\"arrow\" d=\"M 80,255 C 50,255 50,75 80,75\" />\n",
        "\n",
        "  <!-- Legend -->\n",
        "  <text x=\"80\" y=\"30\" font-size=\"12px\" text-anchor=\"start\">Data Flow</text>\n",
        "  <text x=\"350\" y=\"30\" font-size=\"12px\" text-anchor=\"end\">Data Flow</text>\n",
        "  <text x=\"80\" y=\"45\" font-size=\"12px\" text-anchor=\"start\">↓ Sending</text>\n",
        "  <text x=\"350\" y=\"45\" font-size=\"12px\" text-anchor=\"end\">↑ Receiving</text>\n",
        "</svg>"
      ],
      "metadata": {
        "cellView": "form",
        "id": "hTCrfmlGwO3C",
        "outputId": "62916b1d-bc54-4542-acc3-70502dfab305",
        "colab": {
          "base_uri": "https://localhost:8080/",
          "height": 1000
        }
      },
      "execution_count": null,
      "outputs": [
        {
          "output_type": "display_data",
          "data": {
            "text/plain": [
              "<IPython.core.display.HTML object>"
            ],
            "text/html": [
              "<svg viewBox=\"0 0 400 300\" xmlns=\"http://www.w3.org/2000/svg\">\n",
              "  <style>\n",
              "    .layer { stroke: #333; stroke-width: 2; }\n",
              "    .layer-1 { fill: #f8d7da; }\n",
              "    .layer-2 { fill: #fff3cd; }\n",
              "    .layer-3 { fill: #d1e7dd; }\n",
              "    .layer-4 { fill: #cfe2ff; }\n",
              "    text { font-family: Arial, sans-serif; font-size: 16px; text-anchor: middle; }\n",
              "    .label { font-weight: bold; }\n",
              "    .sublabel { font-size: 12px; font-style: italic; }\n",
              "    .arrow { stroke: #555; stroke-width: 2; fill: none; marker-end: url(#arrowhead); }\n",
              "  </style>\n",
              "  \n",
              "  <defs>\n",
              "    <marker id=\"arrowhead\" markerWidth=\"10\" markerHeight=\"7\" refX=\"9\" refY=\"3.5\" orient=\"auto\">\n",
              "      <polygon points=\"0 0, 10 3.5, 0 7\" fill=\"#555\" />\n",
              "    </marker>\n",
              "  </defs>\n",
              "  \n",
              "  <!-- TCP/IP Layers -->\n",
              "  <rect class=\"layer layer-4\" x=\"100\" y=\"50\" width=\"200\" height=\"50\" rx=\"5\" />\n",
              "  <rect class=\"layer layer-3\" x=\"100\" y=\"110\" width=\"200\" height=\"50\" rx=\"5\" />\n",
              "  <rect class=\"layer layer-2\" x=\"100\" y=\"170\" width=\"200\" height=\"50\" rx=\"5\" />\n",
              "  <rect class=\"layer layer-1\" x=\"100\" y=\"230\" width=\"200\" height=\"50\" rx=\"5\" />\n",
              "  \n",
              "  <!-- Layer Labels -->\n",
              "  <text x=\"200\" y=\"75\" class=\"label\">Application Layer</text>\n",
              "  <text x=\"200\" y=\"90\" class=\"sublabel\">(HTTP, DNS, FTP)</text>\n",
              "  \n",
              "  <text x=\"200\" y=\"135\" class=\"label\">Transport Layer</text>\n",
              "  <text x=\"200\" y=\"150\" class=\"sublabel\">(TCP, UDP)</text>\n",
              "  \n",
              "  <text x=\"200\" y=\"195\" class=\"label\">Internet Layer</text>\n",
              "  <text x=\"200\" y=\"210\" class=\"sublabel\">(IP, ICMP)</text>\n",
              "  \n",
              "  <text x=\"200\" y=\"255\" class=\"label\">Network Interface Layer</text>\n",
              "  <text x=\"200\" y=\"270\" class=\"sublabel\">(Ethernet, Wi-Fi)</text>\n",
              "  \n",
              "  <!-- Data Flow Arrows -->\n",
              "  <path class=\"arrow\" d=\"M 320,75 C 350,75 350,255 320,255\" />\n",
              "  <path class=\"arrow\" d=\"M 80,255 C 50,255 50,75 80,75\" />\n",
              "  \n",
              "  <!-- Legend -->\n",
              "  <text x=\"80\" y=\"30\" font-size=\"12px\" text-anchor=\"start\">Data Flow</text>\n",
              "  <text x=\"350\" y=\"30\" font-size=\"12px\" text-anchor=\"end\">Data Flow</text>\n",
              "  <text x=\"80\" y=\"45\" font-size=\"12px\" text-anchor=\"start\">↓ Sending</text>\n",
              "  <text x=\"350\" y=\"45\" font-size=\"12px\" text-anchor=\"end\">↑ Receiving</text>\n",
              "</svg>\n"
            ]
          },
          "metadata": {}
        }
      ]
    },
    {
      "cell_type": "markdown",
      "source": [
        "## Layer 1: The Network Interface Layer\n",
        "\n",
        "The Network Interface Layer (sometimes called the Link Layer) is the lowest layer in the TCP/IP model, dealing with the physical connection between devices and the immediate network. This layer encompasses both the physical hardware (like network cards and cables) and the basic communication protocols that govern how bits are transmitted over the physical medium. It serves as the foundation for all higher-layer communications by providing reliable data transmission across the physical network connection.\n",
        "\n",
        "* This layer handles the **Media Access Control (MAC)** addresses (unique 48-bit identifiers assigned to network interfaces) that identify devices on the local network segment.\n",
        "* Common technologies at this layer include **Ethernet** (a family of networking technologies for local area networks), **Wi-Fi** (wireless networking protocol), and **Bluetooth** (short-range wireless technology).\n",
        "* The Network Interface Layer is responsible for **framing** (dividing data into frames or packets with start/end markers) and physical addressing to ensure data reaches the correct device on the local network.\n",
        "* Error detection at this layer identifies damaged frames that need to be retransmitted, providing basic reliability for data transmission.\n",
        "\n",
        "| Technology | Medium | Max Speed | Range | Notable Feature |\n",
        "|------------|--------|-----------|-------|----------------|\n",
        "| Ethernet | Copper/Fiber | Up to 400 Gbps | Up to 100m | Widespread in wired LANs |\n",
        "| Wi-Fi 6 (802.11ax) | Wireless | Up to 9.6 Gbps | ~30m indoor | Multiple device support |\n",
        "| Bluetooth 5.2 | Wireless | Up to 50 Mbps | 10-100m | Low power consumption |\n",
        "\n",
        "For example, when you plug an Ethernet cable into your laptop, the Network Interface Layer manages the physical connection. Every network device—like your laptop's network card—has a unique MAC address (like 00:1A:2B:3C:4D:5E) permanently assigned by the manufacturer. When data leaves your laptop, the Network Interface Layer adds your MAC address as the source and the destination device's MAC address so that the data reaches the correct device on your local network."
      ],
      "metadata": {
        "id": "VOIbf2N5qMUN"
      }
    },
    {
      "cell_type": "markdown",
      "source": [
        "## Layer 2: The Internet Layer and IP Addresses\n",
        "\n",
        "The Internet Layer handles the movement of packets around the network, including routing them across multiple networks to reach their final destination. This layer is primarily concerned with logical addressing using IP addresses, which allows devices to communicate beyond their local network. The Internet Protocol (IP) operates at this layer and provides the foundation for the global internet by enabling routing across interconnected networks.\n",
        "\n",
        "* The Internet Layer uses **IP addresses** (logical numerical identifiers assigned to devices on a network) to identify and locate devices across different networks—IPv4 uses 32-bit addresses (like 192.168.1.1), while IPv6 uses 128-bit addresses to accommodate more devices.\n",
        "* This layer handles **routing** (the process of selecting paths for sending data across networks) by determining the best path for packets to travel from source to destination, often across multiple networks.\n",
        "* **Fragmentation** occurs at this layer when packets are too large for the next network—the Internet layer breaks them into smaller pieces and reassembles them at the destination.\n",
        "* The Internet Control Message Protocol (**ICMP**) operates at this layer to report errors and provide network diagnostic information (used by tools like ping and traceroute).\n",
        "\n",
        "| IP Version | Address Format | Example | Total Addresses | Current Usage |\n",
        "|------------|---------------|---------|----------------|--------------|\n",
        "| IPv4 | 32-bit (4 octets) | 192.168.1.1 | ~4.3 billion | Primary but depleting |\n",
        "| IPv6 | 128-bit (8 groups of 4 hex digits) | 2001:0db8:85a3:0000:0000:8a2e:0370:7334 | 340 undecillion | Growing adoption |\n",
        "\n",
        "For example, when you visit a website like Wikipedia, your computer might have the IP address 192.168.1.5 (a private IPv4 address), while Wikipedia's servers might have the IP address 208.80.154.224 (a public IPv4 address). The Internet Layer on your computer adds these IP addresses to the data packets so routers know where to send them. Think of IP addresses like postal addresses—they tell the network where to deliver the data, allowing it to travel from your home network, through your ISP's network, across the internet backbone, and finally to Wikipedia's network."
      ],
      "metadata": {
        "id": "IQU861UBqNME"
      }
    },
    {
      "cell_type": "markdown",
      "source": [
        "## Layer 3: The Transport Layer (TCP & UDP)\n",
        "\n",
        "The Transport Layer manages end-to-end communication between applications running on different devices. It ensures data arrives reliably and in the correct order by providing flow control, error checking, and data segmentation. This layer creates logical connections between applications using port numbers to differentiate between various services running on the same device. The two main protocols at this layer—TCP and UDP—offer different levels of reliability and efficiency depending on application needs.\n",
        "\n",
        "* **Transmission Control Protocol (TCP)** provides reliable, connection-oriented communication by establishing a connection before sending data, acknowledging received packets, and retransmitting lost packets to ensure complete delivery.\n",
        "* **User Datagram Protocol (UDP)** offers connectionless communication without guarantees of delivery, acknowledgments, or retransmission—making it faster but less reliable than TCP and suitable for time-sensitive applications that can tolerate some data loss.\n",
        "* **Port numbers** (16-bit numbers ranging from 0 to 65535) identify specific applications or services on a device—well-known ports (0-1023) are reserved for common services like HTTP (port 80) or HTTPS (port 443).\n",
        "* The Transport Layer implements **flow control** (mechanisms that prevent the sender from overwhelming the receiver) and **congestion control** (techniques that prevent network overload) to optimize data transmission across varying network conditions.\n",
        "\n",
        "| Feature | TCP | UDP |\n",
        "|---------|-----|-----|\n",
        "| Connection type | Connection-oriented | Connectionless |\n",
        "| Reliability | High (guarantees delivery) | Low (no delivery guarantee) |\n",
        "| Speed | Slower due to overhead | Faster with less overhead |\n",
        "| Order of packets | Maintains order | No order guaranteed |\n",
        "| Use cases | Web browsing, email, file transfers | Video streaming, online gaming, VoIP |\n",
        "\n",
        "For example, when you browse websites, your web browser uses TCP on port 80 (for HTTP) or port 443 (for HTTPS) to ensure all parts of the webpage arrive correctly. The Transport Layer breaks the data into segments, numbers them, and ensures they all arrive in order. If your connection drops momentarily, TCP will retransmit any lost packets. On the other hand, when you're in a video call, the application likely uses UDP because it's more important for the video to keep flowing in real-time than to retransmit every lost frame."
      ],
      "metadata": {
        "id": "koZo-b0HqRoK"
      }
    },
    {
      "cell_type": "markdown",
      "source": [
        "## Layer 4: The Application Layer\n",
        "\n",
        "The Application Layer is the highest layer in the TCP/IP model and the one closest to the end-user. It encompasses the protocols and interfaces that applications use to communicate over the network. This layer provides standardized services that enable common network applications—like web browsers, email clients, and file transfer programs—to operate regardless of the underlying network infrastructure. The Application Layer essentially serves as the interface between the software applications and the network.\n",
        "\n",
        "* The **Hypertext Transfer Protocol (HTTP)** enables web browsers to communicate with web servers by defining how requests and responses should be formatted and transmitted.\n",
        "* The **Domain Name System (DNS)** protocol translates human-readable domain names (like www.example.com) into machine-readable IP addresses (like 93.184.216.34) that the lower layers need for routing.\n",
        "* **Simple Mail Transfer Protocol (SMTP)**, **Post Office Protocol (POP3)**, and **Internet Message Access Protocol (IMAP)** work together to enable email services across the internet.\n",
        "* Other important Application Layer protocols include **File Transfer Protocol (FTP)** for transferring files, **Secure Shell (SSH)** for secure remote access, and **Simple Network Management Protocol (SNMP)** for network device management.\n",
        "\n",
        "| Protocol | Port | Function | Common Use |\n",
        "|----------|------|----------|------------|\n",
        "| HTTP/HTTPS | 80/443 | Web page transfer | Web browsing |\n",
        "| DNS | 53 | Domain name resolution | Converting URLs to IP addresses |\n",
        "| SMTP | 25 | Email transmission | Sending email |\n",
        "| POP3/IMAP | 110/143 | Email retrieval | Receiving email |\n",
        "| FTP | 20/21 | File transfer | Uploading/downloading files |\n",
        "\n",
        "For example, when you type \"www.youtube.com\" in your browser, the Application Layer first uses DNS to convert this domain name to an IP address. Your browser then uses HTTP or HTTPS to request the YouTube homepage from that IP address. When the data arrives, the Application Layer formats it properly so your browser can display the webpage. Similarly, when you check your email, your email client uses SMTP to send messages and either POP3 or IMAP to retrieve messages from the server—all happening at the Application Layer."
      ],
      "metadata": {
        "id": "Spc1zuY-qZD8"
      }
    },
    {
      "cell_type": "markdown",
      "source": [
        "## How Data Travels Through the TCP/IP Layers\n",
        "\n",
        "Data transmission across a network involves the systematic processing of information through each layer of the TCP/IP model, with each layer adding its own headers to prepare the data for the next stage of its journey. This process, known as encapsulation when moving down the layers and decapsulation when moving up, ensures that data is properly formatted, addressed, and transmitted reliably between devices. Understanding this flow of data provides insight into how network communication actually works.\n",
        "\n",
        "* When sending data, information flows **downward** through the layers on the source device—each layer adds its own header information (encapsulation) before passing the data to the layer below it.\n",
        "* When receiving data, information flows **upward** through the layers on the destination device—each layer removes and processes its corresponding header (decapsulation) before passing the data to the layer above it.\n",
        "* The **Protocol Data Unit (PDU)** is the name given to data as it moves through the different layers—it's called data at the Application Layer, segments at the Transport Layer, packets at the Internet Layer, and frames at the Network Interface Layer.\n",
        "* **Headers** added by each layer contain critical information such as source and destination addresses, error checking data, sequence numbers, and protocol identifiers that ensure proper delivery and processing.\n",
        "\n",
        "| Layer | Data Unit | What Gets Added | Analogy |\n",
        "|-------|-----------|----------------|---------|\n",
        "| Application | Data | Application-specific information | Letter content |\n",
        "| Transport | Segment | Port numbers, sequence numbers | Envelope with page numbers |\n",
        "| Internet | Packet | IP addresses | Envelope with addresses |\n",
        "| Network Interface | Frame | MAC addresses, error checking | Mail carrier and physical delivery |\n",
        "\n",
        "For example, when you send an email to a friend, here's what happens:\n",
        "\n",
        "* **Sending data (downward flow)**:\n",
        "  1. **Application Layer**: Your email client formats your message using SMTP protocols\n",
        "  2. **Transport Layer**: TCP divides your email into segments and adds port numbers (25 for SMTP) and sequence numbers\n",
        "  3. **Internet Layer**: Your IP address is added as the source and your friend's mail server's IP address as the destination\n",
        "  4. **Network Interface Layer**: MAC addresses are added for the first hop (usually your router), and everything is converted to electrical signals\n",
        "\n",
        "* **At each router along the way**:\n",
        "  - Data moves partially up to the Internet Layer for routing decisions\n",
        "  - The router determines the next hop in the journey\n",
        "  - New MAC addresses are added for the next connection\n",
        "  - Data is sent to the next network device\n",
        "\n",
        "* **Receiving data (upward flow)**:\n",
        "  1. **Network Interface Layer**: Your friend's mail server receives the electrical signals and processes frame information\n",
        "  2. **Internet Layer**: IP headers are processed to confirm this packet is for this server\n",
        "  3. **Transport Layer**: TCP segments are reassembled in the correct order\n",
        "  4. **Application Layer**: SMTP protocol processing completes, and the email is stored in your friend's inbox"
      ],
      "metadata": {
        "id": "tnfe91F1qcLN"
      }
    },
    {
      "cell_type": "code",
      "source": [
        "# @title\n",
        "%%html\n",
        "<svg viewBox=\"0 0 500 280\" xmlns=\"http://www.w3.org/2000/svg\">\n",
        "  <style>\n",
        "    .box { stroke: #333; stroke-width: 2; }\n",
        "    .data { fill: #e9ecef; }\n",
        "    .app { fill: #cfe2ff; }\n",
        "    .transport { fill: #d1e7dd; }\n",
        "    .internet { fill: #fff3cd; }\n",
        "    .network { fill: #f8d7da; }\n",
        "    text { font-family: Arial, sans-serif; font-size: 12px; dominant-baseline: middle; }\n",
        "    .arrow { stroke: #555; stroke-width: 2; fill: none; marker-end: url(#arrowhead); }\n",
        "    .label { font-weight: bold; font-size: 14px; }\n",
        "    .sublabel { font-size: 8px; font-style: italic; }\n",
        "  </style>\n",
        "\n",
        "  <defs>\n",
        "    <marker id=\"arrowhead\" markerWidth=\"10\" markerHeight=\"7\" refX=\"9\" refY=\"3.5\" orient=\"auto\">\n",
        "      <polygon points=\"0 0, 10 3.5, 0 7\" fill=\"#555\" />\n",
        "    </marker>\n",
        "  </defs>\n",
        "\n",
        "  <!-- Original Data -->\n",
        "  <rect class=\"box data\" x=\"200\" y=\"30\" width=\"100\" height=\"30\" />\n",
        "  <text x=\"250\" y=\"45\" text-anchor=\"middle\">Data</text>\n",
        "\n",
        "  <!-- Step 1: Application Layer -->\n",
        "  <rect class=\"box app\" x=\"180\" y=\"80\" width=\"30\" height=\"30\" />\n",
        "  <rect class=\"box data\" x=\"210\" y=\"80\" width=\"100\" height=\"30\" />\n",
        "  <text x=\"195\" y=\"95\" text-anchor=\"middle\" font-size=\"10\">H1</text>\n",
        "  <text x=\"260\" y=\"95\" text-anchor=\"middle\">Data</text>\n",
        "\n",
        "  <!-- Step 2: Transport Layer -->\n",
        "  <rect class=\"box transport\" x=\"150\" y=\"130\" width=\"30\" height=\"30\" />\n",
        "  <rect class=\"box app\" x=\"180\" y=\"130\" width=\"30\" height=\"30\" />\n",
        "  <rect class=\"box data\" x=\"210\" y=\"130\" width=\"100\" height=\"30\" />\n",
        "  <text x=\"165\" y=\"145\" text-anchor=\"middle\" font-size=\"10\">H2</text>\n",
        "  <text x=\"195\" y=\"145\" text-anchor=\"middle\" font-size=\"10\">H1</text>\n",
        "  <text x=\"260\" y=\"145\" text-anchor=\"middle\">Data</text>\n",
        "\n",
        "  <!-- Step 3: Internet Layer -->\n",
        "  <rect class=\"box internet\" x=\"120\" y=\"180\" width=\"30\" height=\"30\" />\n",
        "  <rect class=\"box transport\" x=\"150\" y=\"180\" width=\"30\" height=\"30\" />\n",
        "  <rect class=\"box app\" x=\"180\" y=\"180\" width=\"30\" height=\"30\" />\n",
        "  <rect class=\"box data\" x=\"210\" y=\"180\" width=\"100\" height=\"30\" />\n",
        "  <text x=\"135\" y=\"195\" text-anchor=\"middle\" font-size=\"10\">H3</text>\n",
        "  <text x=\"165\" y=\"195\" text-anchor=\"middle\" font-size=\"10\">H2</text>\n",
        "  <text x=\"195\" y=\"195\" text-anchor=\"middle\" font-size=\"10\">H1</text>\n",
        "  <text x=\"260\" y=\"195\" text-anchor=\"middle\">Data</text>\n",
        "\n",
        "  <!-- Step 4: Network Interface Layer -->\n",
        "  <rect class=\"box network\" x=\"90\" y=\"230\" width=\"30\" height=\"30\" />\n",
        "  <rect class=\"box internet\" x=\"120\" y=\"230\" width=\"30\" height=\"30\" />\n",
        "  <rect class=\"box transport\" x=\"150\" y=\"230\" width=\"30\" height=\"30\" />\n",
        "  <rect class=\"box app\" x=\"180\" y=\"230\" width=\"30\" height=\"30\" />\n",
        "  <rect class=\"box data\" x=\"210\" y=\"230\" width=\"100\" height=\"30\" />\n",
        "  <rect class=\"box network\" x=\"310\" y=\"230\" width=\"30\" height=\"30\" />\n",
        "  <text x=\"105\" y=\"245\" text-anchor=\"middle\" font-size=\"10\">H4</text>\n",
        "  <text x=\"135\" y=\"245\" text-anchor=\"middle\" font-size=\"10\">H3</text>\n",
        "  <text x=\"165\" y=\"245\" text-anchor=\"middle\" font-size=\"10\">H2</text>\n",
        "  <text x=\"195\" y=\"245\" text-anchor=\"middle\" font-size=\"10\">H1</text>\n",
        "  <text x=\"260\" y=\"245\" text-anchor=\"middle\">Data</text>\n",
        "  <text x=\"325\" y=\"245\" text-anchor=\"middle\" font-size=\"10\">T</text>\n",
        "\n",
        "  <!-- Arrows -->\n",
        "  <path class=\"arrow\" d=\"M 250,60 L 250,75\" />\n",
        "  <path class=\"arrow\" d=\"M 250,110 L 250,125\" />\n",
        "  <path class=\"arrow\" d=\"M 250,160 L 250,175\" />\n",
        "  <path class=\"arrow\" d=\"M 250,210 L 250,225\" />\n",
        "\n",
        "  <!-- Layer Labels -->\n",
        "  <text x=\"80\" y=\"95\" class=\"label\" text-anchor=\"end\">Application</text>\n",
        "  <text x=\"80\" y=\"110\" class=\"sublabel\" text-anchor=\"end\">(HTTP Header)</text>\n",
        "\n",
        "  <text x=\"80\" y=\"145\" class=\"label\" text-anchor=\"end\">Transport</text>\n",
        "  <text x=\"80\" y=\"160\" class=\"sublabel\" text-anchor=\"end\">(TCP/UDP Header)</text>\n",
        "\n",
        "  <text x=\"70\" y=\"195\" class=\"label\" text-anchor=\"end\">Internet</text>\n",
        "  <text x=\"70\" y=\"210\" class=\"sublabel\" text-anchor=\"end\">(IP Header)</text>\n",
        "\n",
        "  <text x=\"70\" y=\"245\" class=\"label\" text-anchor=\"end\">Network</text>\n",
        "  <text x=\"70\" y=\"260\" class=\"sublabel\" text-anchor=\"end\">(MAC Header/Trailer)</text>\n",
        "\n",
        "  <!-- Final Frame Label -->\n",
        "  <text x=\"215\" y=\"275\" class=\"label\" text-anchor=\"middle\">Complete Network Frame</text>\n",
        "</svg>"
      ],
      "metadata": {
        "cellView": "form",
        "id": "c7xft45nwWrm",
        "outputId": "241b3620-62aa-4ba9-f55d-dd8aedba8d77",
        "colab": {
          "base_uri": "https://localhost:8080/",
          "height": 813
        }
      },
      "execution_count": null,
      "outputs": [
        {
          "output_type": "display_data",
          "data": {
            "text/plain": [
              "<IPython.core.display.HTML object>"
            ],
            "text/html": [
              "<svg viewBox=\"0 0 500 280\" xmlns=\"http://www.w3.org/2000/svg\">\n",
              "  <style>\n",
              "    .box { stroke: #333; stroke-width: 2; }\n",
              "    .data { fill: #e9ecef; }\n",
              "    .app { fill: #cfe2ff; }\n",
              "    .transport { fill: #d1e7dd; }\n",
              "    .internet { fill: #fff3cd; }\n",
              "    .network { fill: #f8d7da; }\n",
              "    text { font-family: Arial, sans-serif; font-size: 12px; dominant-baseline: middle; }\n",
              "    .arrow { stroke: #555; stroke-width: 2; fill: none; marker-end: url(#arrowhead); }\n",
              "    .label { font-weight: bold; font-size: 14px; }\n",
              "    .sublabel { font-size: 8px; font-style: italic; }\n",
              "  </style>\n",
              "  \n",
              "  <defs>\n",
              "    <marker id=\"arrowhead\" markerWidth=\"10\" markerHeight=\"7\" refX=\"9\" refY=\"3.5\" orient=\"auto\">\n",
              "      <polygon points=\"0 0, 10 3.5, 0 7\" fill=\"#555\" />\n",
              "    </marker>\n",
              "  </defs>\n",
              "  \n",
              "  <!-- Original Data -->\n",
              "  <rect class=\"box data\" x=\"200\" y=\"30\" width=\"100\" height=\"30\" />\n",
              "  <text x=\"250\" y=\"45\" text-anchor=\"middle\">Data</text>\n",
              "  \n",
              "  <!-- Step 1: Application Layer -->\n",
              "  <rect class=\"box app\" x=\"180\" y=\"80\" width=\"30\" height=\"30\" />\n",
              "  <rect class=\"box data\" x=\"210\" y=\"80\" width=\"100\" height=\"30\" />\n",
              "  <text x=\"195\" y=\"95\" text-anchor=\"middle\" font-size=\"10\">H1</text>\n",
              "  <text x=\"260\" y=\"95\" text-anchor=\"middle\">Data</text>\n",
              "  \n",
              "  <!-- Step 2: Transport Layer -->\n",
              "  <rect class=\"box transport\" x=\"150\" y=\"130\" width=\"30\" height=\"30\" />\n",
              "  <rect class=\"box app\" x=\"180\" y=\"130\" width=\"30\" height=\"30\" />\n",
              "  <rect class=\"box data\" x=\"210\" y=\"130\" width=\"100\" height=\"30\" />\n",
              "  <text x=\"165\" y=\"145\" text-anchor=\"middle\" font-size=\"10\">H2</text>\n",
              "  <text x=\"195\" y=\"145\" text-anchor=\"middle\" font-size=\"10\">H1</text>\n",
              "  <text x=\"260\" y=\"145\" text-anchor=\"middle\">Data</text>\n",
              "  \n",
              "  <!-- Step 3: Internet Layer -->\n",
              "  <rect class=\"box internet\" x=\"120\" y=\"180\" width=\"30\" height=\"30\" />\n",
              "  <rect class=\"box transport\" x=\"150\" y=\"180\" width=\"30\" height=\"30\" />\n",
              "  <rect class=\"box app\" x=\"180\" y=\"180\" width=\"30\" height=\"30\" />\n",
              "  <rect class=\"box data\" x=\"210\" y=\"180\" width=\"100\" height=\"30\" />\n",
              "  <text x=\"135\" y=\"195\" text-anchor=\"middle\" font-size=\"10\">H3</text>\n",
              "  <text x=\"165\" y=\"195\" text-anchor=\"middle\" font-size=\"10\">H2</text>\n",
              "  <text x=\"195\" y=\"195\" text-anchor=\"middle\" font-size=\"10\">H1</text>\n",
              "  <text x=\"260\" y=\"195\" text-anchor=\"middle\">Data</text>\n",
              "  \n",
              "  <!-- Step 4: Network Interface Layer -->\n",
              "  <rect class=\"box network\" x=\"90\" y=\"230\" width=\"30\" height=\"30\" />\n",
              "  <rect class=\"box internet\" x=\"120\" y=\"230\" width=\"30\" height=\"30\" />\n",
              "  <rect class=\"box transport\" x=\"150\" y=\"230\" width=\"30\" height=\"30\" />\n",
              "  <rect class=\"box app\" x=\"180\" y=\"230\" width=\"30\" height=\"30\" />\n",
              "  <rect class=\"box data\" x=\"210\" y=\"230\" width=\"100\" height=\"30\" />\n",
              "  <rect class=\"box network\" x=\"310\" y=\"230\" width=\"30\" height=\"30\" />\n",
              "  <text x=\"105\" y=\"245\" text-anchor=\"middle\" font-size=\"10\">H4</text>\n",
              "  <text x=\"135\" y=\"245\" text-anchor=\"middle\" font-size=\"10\">H3</text>\n",
              "  <text x=\"165\" y=\"245\" text-anchor=\"middle\" font-size=\"10\">H2</text>\n",
              "  <text x=\"195\" y=\"245\" text-anchor=\"middle\" font-size=\"10\">H1</text>\n",
              "  <text x=\"260\" y=\"245\" text-anchor=\"middle\">Data</text>\n",
              "  <text x=\"325\" y=\"245\" text-anchor=\"middle\" font-size=\"10\">T</text>\n",
              "  \n",
              "  <!-- Arrows -->\n",
              "  <path class=\"arrow\" d=\"M 250,60 L 250,75\" />\n",
              "  <path class=\"arrow\" d=\"M 250,110 L 250,125\" />\n",
              "  <path class=\"arrow\" d=\"M 250,160 L 250,175\" />\n",
              "  <path class=\"arrow\" d=\"M 250,210 L 250,225\" />\n",
              "  \n",
              "  <!-- Layer Labels -->\n",
              "  <text x=\"80\" y=\"95\" class=\"label\" text-anchor=\"end\">Application</text>\n",
              "  <text x=\"80\" y=\"110\" class=\"sublabel\" text-anchor=\"end\">(HTTP Header)</text>\n",
              "  \n",
              "  <text x=\"80\" y=\"145\" class=\"label\" text-anchor=\"end\">Transport</text>\n",
              "  <text x=\"80\" y=\"160\" class=\"sublabel\" text-anchor=\"end\">(TCP/UDP Header)</text>\n",
              "  \n",
              "  <text x=\"70\" y=\"195\" class=\"label\" text-anchor=\"end\">Internet</text>\n",
              "  <text x=\"70\" y=\"210\" class=\"sublabel\" text-anchor=\"end\">(IP Header)</text>\n",
              "  \n",
              "  <text x=\"70\" y=\"245\" class=\"label\" text-anchor=\"end\">Network</text>\n",
              "  <text x=\"70\" y=\"260\" class=\"sublabel\" text-anchor=\"end\">(MAC Header/Trailer)</text>\n",
              "  \n",
              "  <!-- Final Frame Label -->\n",
              "  <text x=\"215\" y=\"275\" class=\"label\" text-anchor=\"middle\">Complete Network Frame</text>\n",
              "</svg>\n"
            ]
          },
          "metadata": {}
        }
      ]
    },
    {
      "cell_type": "markdown",
      "source": [
        "## HTTP: The Language of the Web\n",
        "\n",
        "Hypertext Transfer Protocol (HTTP) is the foundation of data communication on the World Wide Web, defining how messages are formatted and transmitted between web browsers and servers. As an Application Layer protocol in the TCP/IP model, HTTP follows a request-response pattern where clients (usually web browsers) send requests for resources, and servers respond with the requested content or appropriate error messages. This standardized communication enables the seamless browsing experience we take for granted today.\n",
        "\n",
        "* HTTP operates as a **stateless protocol**, meaning each request-response pair is independent and the server doesn't maintain information about previous requests—this simplicity contributes to the scalability of web services.\n",
        "* An HTTP **request** from a client includes a request method (like GET or POST), a specific URL, headers containing additional information, and sometimes a body with data.\n",
        "* An HTTP **response** from a server includes a status code (like 200 for success or 404 for not found), headers with metadata, and often a body containing the requested resource (like an HTML page).\n",
        "* Common HTTP **methods** include GET (retrieve resources), POST (submit data), PUT (update resources), and DELETE (remove resources)—each defining different actions to be performed on the specified resource.\n",
        "\n",
        "| HTTP Status Code Range | Meaning | Common Examples |\n",
        "|------------------------|---------|----------------|\n",
        "| 200-299 | Success | 200 OK, 201 Created |\n",
        "| 300-399 | Redirection | 301 Moved Permanently, 302 Found |\n",
        "| 400-499 | Client Errors | 404 Not Found, 403 Forbidden |\n",
        "| 500-599 | Server Errors | 500 Internal Server Error, 503 Service Unavailable |\n",
        "\n",
        "For example, when you click a link on a webpage, your web browser sends an HTTP GET request to the server hosting that page. The request might look something like:\n",
        "\n",
        "```\n",
        "GET /products/shoes.html HTTP/1.1\n",
        "Host: www.examplestore.com\n",
        "User-Agent: Mozilla/5.0 (Windows NT 10.0; Win64; x64)\n",
        "Accept: text/html\n",
        "```\n",
        "\n",
        "The server receives this request, processes it, and sends back a response containing the HTML for the shoes page along with a status code of 200 OK. Your browser then renders this HTML into the visually formatted webpage you see on your screen."
      ],
      "metadata": {
        "id": "pjiORpFWqgKS"
      }
    },
    {
      "cell_type": "markdown",
      "source": [
        "## Client-Server Communication Basics\n",
        "\n",
        "The client-server model is the predominant architectural pattern for network applications, where computing tasks are distributed between service providers (servers) and service requesters (clients). In this model, servers are specialized computers or programs that provide specific services or resources, while clients are the devices or applications that request and use these services. This approach allows for efficient resource sharing, centralized management, and scalable network applications.\n",
        "\n",
        "* **Clients** are typically user-facing applications (like web browsers, email clients, or mobile apps) that request data or services—they initiate communication, send requests, and process responses to present information to users.\n",
        "* **Servers** are specialized systems that provide services to multiple clients simultaneously—they listen for incoming requests, process them according to their programmed logic, and send appropriate responses.\n",
        "* The client-server model follows a **request-response cycle** where the client sends a formatted request to the server, the server processes the request and performs any necessary actions, and then the server returns a response to the client.\n",
        "* This architecture enables **resource sharing** (centralized data and services), **separation of concerns** (specialized roles for different components), and **scalability** (servers can be upgraded or multiplied to handle increased demand).\n",
        "\n",
        "| Component | Role | Examples |\n",
        "|-----------|------|----------|\n",
        "| Client | Requests services | Web browsers, mobile apps, email clients |\n",
        "| Server | Provides services | Web servers, database servers, mail servers |\n",
        "| Request | Client's message | \"Get me this webpage\" or \"Save this data\" |\n",
        "| Response | Server's message | Webpage content or confirmation messages |\n",
        "\n",
        "For example, when you use Instagram on your phone, your phone app is the client and Instagram's computers are the servers. When you open the app, the client sends requests to Instagram's servers asking for your feed content. The servers process these requests by retrieving your friends' recent posts from their databases, then send this data back to your phone. The client app then displays the photos and videos on your screen. This same process happens whenever you post a photo (client sends photo data to server), like a post (client sends the \"like\" action to server), or follow someone (client sends a follow request to server)."
      ],
      "metadata": {
        "id": "LaodYfuUqjJH"
      }
    },
    {
      "cell_type": "code",
      "source": [
        "# @title\n",
        "%%html\n",
        "<svg viewBox=\"0 0 500 300\" xmlns=\"http://www.w3.org/2000/svg\">\n",
        "  <style>\n",
        "    .device { stroke: #333; stroke-width: 2; }\n",
        "    .client { fill: #d1e7dd; }\n",
        "    .server { fill: #cfe2ff; }\n",
        "    .arrow { stroke: #555; stroke-width: 2; fill: none; marker-end: url(#arrowhead); }\n",
        "    .arrow-response { stroke: #555; stroke-width: 2; stroke-dasharray: 5,3; fill: none; marker-end: url(#arrowhead); }\n",
        "    text { font-family: Arial, sans-serif; font-size: 14px; }\n",
        "    .label { font-weight: bold; }\n",
        "    .small { font-size: 12px; }\n",
        "    .request { fill: #fff3cd; }\n",
        "    .response { fill: #f8d7da; }\n",
        "  </style>\n",
        "\n",
        "  <defs>\n",
        "    <marker id=\"arrowhead\" markerWidth=\"10\" markerHeight=\"7\" refX=\"9\" refY=\"3.5\" orient=\"auto\">\n",
        "      <polygon points=\"0 0, 10 3.5, 0 7\" fill=\"#555\" />\n",
        "    </marker>\n",
        "  </defs>\n",
        "\n",
        "  <!-- Devices -->\n",
        "  <!-- Client (Laptop) -->\n",
        "  <rect class=\"device client\" x=\"50\" y=\"120\" width=\"120\" height=\"80\" rx=\"10\" />\n",
        "  <rect x=\"65\" y=\"135\" width=\"90\" height=\"50\" rx=\"5\" fill=\"#f8f9fa\" stroke=\"#333\" />\n",
        "  <rect x=\"85\" y=\"200\" width=\"50\" height=\"10\" fill=\"#f8f9fa\" stroke=\"#333\" />\n",
        "\n",
        "  <!-- Server -->\n",
        "  <rect class=\"device server\" x=\"330\" y=\"100\" width=\"120\" height=\"120\" rx=\"5\" />\n",
        "  <rect x=\"345\" y=\"115\" width=\"90\" height=\"90\" fill=\"#f8f9fa\" stroke=\"#333\" stroke-width=\"1\" />\n",
        "  <line x1=\"345\" y1=\"135\" x2=\"435\" y2=\"135\" stroke=\"#333\" stroke-width=\"1\" />\n",
        "  <line x1=\"345\" y1=\"155\" x2=\"435\" y2=\"155\" stroke=\"#333\" stroke-width=\"1\" />\n",
        "  <line x1=\"345\" y1=\"175\" x2=\"435\" y2=\"175\" stroke=\"#333\" stroke-width=\"1\" />\n",
        "  <circle cx=\"390\" cy=\"125\" r=\"5\" fill=\"#d1e7dd\" />\n",
        "  <circle cx=\"390\" cy=\"145\" r=\"5\" fill=\"#fff3cd\" />\n",
        "  <circle cx=\"390\" cy=\"165\" r=\"5\" fill=\"#f8d7da\" />\n",
        "  <circle cx=\"390\" cy=\"185\" r=\"5\" fill=\"#cfe2ff\" />\n",
        "\n",
        "  <!-- Request Flow -->\n",
        "  <rect class=\"request\" x=\"210\" y=\"100\" width=\"80\" height=\"25\" rx=\"5\" />\n",
        "  <path class=\"arrow\" d=\"M 170,140 C 200,110 250,110 280,140\" />\n",
        "\n",
        "  <!-- Response Flow -->\n",
        "  <rect class=\"response\" x=\"210\" y=\"190\" width=\"80\" height=\"25\" rx=\"5\" />\n",
        "  <path class=\"arrow-response\" d=\"M 280,180 C 250,210 200,210 170,180\" />\n",
        "\n",
        "  <!-- Labels -->\n",
        "  <text x=\"110\" y=\"110\" text-anchor=\"middle\" class=\"label\">Client</text>\n",
        "  <text x=\"110\" y=\"245\" text-anchor=\"middle\">Web Browser, App</text>\n",
        "  <text x=\"390\" y=\"90\" text-anchor=\"middle\" class=\"label\">Server</text>\n",
        "  <text x=\"390\" y=\"240\" text-anchor=\"middle\">Web, Database, API</text>\n",
        "\n",
        "  <!-- Request/Response Labels -->\n",
        "  <text x=\"250\" y=\"118\" text-anchor=\"middle\" class=\"small\">HTTP Request</text>\n",
        "  <text x=\"250\" y=\"208\" text-anchor=\"middle\" class=\"small\">HTTP Response</text>\n",
        "  <text x=\"225\" y=\"75\" text-anchor=\"start\" class=\"small\">GET /products</text>\n",
        "  <text x=\"225\" y=\"240\" text-anchor=\"start\" class=\"small\">{\"products\": [...]}</text>\n",
        "</svg>"
      ],
      "metadata": {
        "cellView": "form",
        "id": "EzAehPbKw-Qa",
        "outputId": "cebcaf12-6ae3-4d3a-cd4d-45b54079ab9f",
        "colab": {
          "base_uri": "https://localhost:8080/",
          "height": 870
        }
      },
      "execution_count": null,
      "outputs": [
        {
          "output_type": "display_data",
          "data": {
            "text/plain": [
              "<IPython.core.display.HTML object>"
            ],
            "text/html": [
              "<svg viewBox=\"0 0 500 300\" xmlns=\"http://www.w3.org/2000/svg\">\n",
              "  <style>\n",
              "    .device { stroke: #333; stroke-width: 2; }\n",
              "    .client { fill: #d1e7dd; }\n",
              "    .server { fill: #cfe2ff; }\n",
              "    .arrow { stroke: #555; stroke-width: 2; fill: none; marker-end: url(#arrowhead); }\n",
              "    .arrow-response { stroke: #555; stroke-width: 2; stroke-dasharray: 5,3; fill: none; marker-end: url(#arrowhead); }\n",
              "    text { font-family: Arial, sans-serif; font-size: 14px; }\n",
              "    .label { font-weight: bold; }\n",
              "    .small { font-size: 12px; }\n",
              "    .request { fill: #fff3cd; }\n",
              "    .response { fill: #f8d7da; }\n",
              "  </style>\n",
              "  \n",
              "  <defs>\n",
              "    <marker id=\"arrowhead\" markerWidth=\"10\" markerHeight=\"7\" refX=\"9\" refY=\"3.5\" orient=\"auto\">\n",
              "      <polygon points=\"0 0, 10 3.5, 0 7\" fill=\"#555\" />\n",
              "    </marker>\n",
              "  </defs>\n",
              "  \n",
              "  <!-- Devices -->\n",
              "  <!-- Client (Laptop) -->\n",
              "  <rect class=\"device client\" x=\"50\" y=\"120\" width=\"120\" height=\"80\" rx=\"10\" />\n",
              "  <rect x=\"65\" y=\"135\" width=\"90\" height=\"50\" rx=\"5\" fill=\"#f8f9fa\" stroke=\"#333\" />\n",
              "  <rect x=\"85\" y=\"200\" width=\"50\" height=\"10\" fill=\"#f8f9fa\" stroke=\"#333\" />\n",
              "  \n",
              "  <!-- Server -->\n",
              "  <rect class=\"device server\" x=\"330\" y=\"100\" width=\"120\" height=\"120\" rx=\"5\" />\n",
              "  <rect x=\"345\" y=\"115\" width=\"90\" height=\"90\" fill=\"#f8f9fa\" stroke=\"#333\" stroke-width=\"1\" />\n",
              "  <line x1=\"345\" y1=\"135\" x2=\"435\" y2=\"135\" stroke=\"#333\" stroke-width=\"1\" />\n",
              "  <line x1=\"345\" y1=\"155\" x2=\"435\" y2=\"155\" stroke=\"#333\" stroke-width=\"1\" />\n",
              "  <line x1=\"345\" y1=\"175\" x2=\"435\" y2=\"175\" stroke=\"#333\" stroke-width=\"1\" />\n",
              "  <circle cx=\"390\" cy=\"125\" r=\"5\" fill=\"#d1e7dd\" />\n",
              "  <circle cx=\"390\" cy=\"145\" r=\"5\" fill=\"#fff3cd\" />\n",
              "  <circle cx=\"390\" cy=\"165\" r=\"5\" fill=\"#f8d7da\" />\n",
              "  <circle cx=\"390\" cy=\"185\" r=\"5\" fill=\"#cfe2ff\" />\n",
              "  \n",
              "  <!-- Request Flow -->\n",
              "  <rect class=\"request\" x=\"210\" y=\"100\" width=\"80\" height=\"25\" rx=\"5\" />\n",
              "  <path class=\"arrow\" d=\"M 170,140 C 200,110 250,110 280,140\" />\n",
              "  \n",
              "  <!-- Response Flow -->\n",
              "  <rect class=\"response\" x=\"210\" y=\"190\" width=\"80\" height=\"25\" rx=\"5\" />\n",
              "  <path class=\"arrow-response\" d=\"M 280,180 C 250,210 200,210 170,180\" />\n",
              "  \n",
              "  <!-- Labels -->\n",
              "  <text x=\"110\" y=\"110\" text-anchor=\"middle\" class=\"label\">Client</text>\n",
              "  <text x=\"110\" y=\"245\" text-anchor=\"middle\">Web Browser, App</text>\n",
              "  <text x=\"390\" y=\"90\" text-anchor=\"middle\" class=\"label\">Server</text>\n",
              "  <text x=\"390\" y=\"240\" text-anchor=\"middle\">Web, Database, API</text>\n",
              "  \n",
              "  <!-- Request/Response Labels -->\n",
              "  <text x=\"250\" y=\"118\" text-anchor=\"middle\" class=\"small\">HTTP Request</text>\n",
              "  <text x=\"250\" y=\"208\" text-anchor=\"middle\" class=\"small\">HTTP Response</text>\n",
              "  <text x=\"225\" y=\"75\" text-anchor=\"start\" class=\"small\">GET /products</text>\n",
              "  <text x=\"225\" y=\"240\" text-anchor=\"start\" class=\"small\">{\"products\": [...]}</text>\n",
              "</svg>\n"
            ]
          },
          "metadata": {}
        }
      ]
    },
    {
      "cell_type": "markdown",
      "source": [
        "## Introduction to APIs: Accessing Web Services\n",
        "\n",
        "An Application Programming Interface (API) is a set of rules and protocols that allows different software applications to communicate with each other. Web APIs specifically provide a standardized way for programs to interact with web services, enabling developers to access functionality or data from external systems without needing to understand their internal workings. APIs have become fundamental building blocks for modern software development, allowing for integration of diverse services and data sources.\n",
        "\n",
        "* A **Web API** provides endpoints (specific URLs) that accept requests and return data—typically using HTTP methods like GET, POST, PUT, and DELETE to perform different operations on resources.\n",
        "* **REST** (Representational State Transfer) is the most common architectural style for web APIs, organizing resources into URLs and using standard HTTP methods to perform operations on those resources.\n",
        "* Most modern APIs use **JSON** (JavaScript Object Notation) format for data exchange because of its lightweight, readable structure and compatibility with multiple programming languages.\n",
        "* APIs often require **authentication** (verifying who is making the request) and implement **rate limiting** (restricting how many requests a user can make) to protect their services from abuse or overload.\n",
        "\n",
        "| Common API Types | Purpose | Example |\n",
        "|-----------------|---------|---------|\n",
        "| Weather API | Provides weather data | OpenWeatherMap API |\n",
        "| Social Media API | Allows interaction with platforms | Twitter API |\n",
        "| Payment API | Processes financial transactions | PayPal API |\n",
        "| Mapping API | Delivers map data and directions | Google Maps API |\n",
        "\n",
        "For example, when a weather app shows you the forecast for your city, it's likely using a weather API behind the scenes. The app (client) sends a request to a weather service's API with your location, something like \"GET https://api.weatherservice.com/forecast?city=chicago\". The weather service's servers process this request, retrieve the forecast data for Chicago from their databases, and send back a JSON response containing temperature, humidity, and other weather information. The app then interprets this JSON data and displays it in a user-friendly format on your screen."
      ],
      "metadata": {
        "id": "BlRuraGHq8m7"
      }
    },
    {
      "cell_type": "code",
      "source": [
        "# @title\n",
        "%%html\n",
        "<svg viewBox=\"0 0 500 400\" xmlns=\"http://www.w3.org/2000/svg\">\n",
        "  <style>\n",
        "    .box { stroke: #333; stroke-width: 2; }\n",
        "    .client { fill: #d1e7dd; }\n",
        "    .server { fill: #cfe2ff; }\n",
        "    .request { fill: #fff3cd; }\n",
        "    .response { fill: #f8d7da; }\n",
        "    .arrow { stroke: #555; stroke-width: 2; fill: none; marker-end: url(#arrowhead); }\n",
        "    text { font-family: 'Courier New', monospace; font-size: 12px; }\n",
        "    .label { font-family: Arial, sans-serif; font-weight: bold; font-size: 14px; }\n",
        "    .header { fill: #e9ecef; }\n",
        "    .method { fill: #0d6efd; font-weight: bold; }\n",
        "    .status { fill: #198754; font-weight: bold; }\n",
        "    .url { fill: #dc3545; }\n",
        "    .parameter { fill: #6610f2; }\n",
        "  </style>\n",
        "\n",
        "  <defs>\n",
        "    <marker id=\"arrowhead\" markerWidth=\"10\" markerHeight=\"7\" refX=\"9\" refY=\"3.5\" orient=\"auto\">\n",
        "      <polygon points=\"0 0, 10 3.5, 0 7\" fill=\"#555\" />\n",
        "    </marker>\n",
        "  </defs>\n",
        "\n",
        "  <!-- Client and Server Boxes -->\n",
        "  <rect class=\"box client\" x=\"50\" y=\"40\" width=\"120\" height=\"50\" rx=\"5\" />\n",
        "  <rect class=\"box server\" x=\"330\" y=\"40\" width=\"120\" height=\"50\" rx=\"5\" />\n",
        "  <text x=\"110\" y=\"70\" text-anchor=\"middle\" class=\"label\">Browser</text>\n",
        "  <text x=\"390\" y=\"70\" text-anchor=\"middle\" class=\"label\">Web Server</text>\n",
        "\n",
        "  <!-- HTTP Request -->\n",
        "  <rect class=\"box request\" x=\"90\" y=\"130\" width=\"320\" height=\"110\" rx=\"5\" />\n",
        "  <text x=\"110\" y=\"150\" class=\"method\">GET</text>\n",
        "  <text x=\"140\" y=\"150\" class=\"url\">/api/products</text>\n",
        "  <text x=\"240\" y=\"150\">HTTP/1.1</text>\n",
        "\n",
        "  <rect class=\"header\" x=\"100\" y=\"165\" width=\"300\" height=\"20\" rx=\"2\" />\n",
        "  <text x=\"110\" y=\"180\">Host: example.com</text>\n",
        "\n",
        "  <rect class=\"header\" x=\"100\" y=\"190\" width=\"300\" height=\"20\" rx=\"2\" />\n",
        "  <text x=\"110\" y=\"205\">User-Agent: Mozilla/5.0</text>\n",
        "\n",
        "  <rect class=\"header\" x=\"100\" y=\"215\" width=\"300\" height=\"20\" rx=\"2\" />\n",
        "  <text x=\"110\" y=\"230\">Accept: application/json</text>\n",
        "\n",
        "  <!-- HTTP Response -->\n",
        "  <rect class=\"box response\" x=\"90\" y=\"280\" width=\"320\" height=\"110\" rx=\"5\" />\n",
        "  <text x=\"110\" y=\"300\">HTTP/1.1</text>\n",
        "  <text x=\"170\" y=\"300\" class=\"status\">200 OK</text>\n",
        "\n",
        "  <rect class=\"header\" x=\"100\" y=\"315\" width=\"300\" height=\"20\" rx=\"2\" />\n",
        "  <text x=\"110\" y=\"330\">Content-Type: application/json</text>\n",
        "\n",
        "  <rect class=\"header\" x=\"100\" y=\"340\" width=\"300\" height=\"20\" rx=\"2\" />\n",
        "  <text x=\"110\" y=\"355\">Content-Length: 234</text>\n",
        "\n",
        "  <rect class=\"header\" x=\"100\" y=\"365\" width=\"300\" height=\"20\" rx=\"2\" />\n",
        "  <text x=\"110\" y=\"380\">{\"products\": [{\"id\": 1, \"name\": \"...\"}]}</text>\n",
        "\n",
        "  <!-- Arrows -->\n",
        "  <path class=\"arrow\" d=\"M 110,90 L 110,130\" />\n",
        "  <path class=\"arrow\" d=\"M 390,90 L 390,280\" />\n",
        "  <path class=\"arrow\" d=\"M 110,240 L 110,280\" />\n",
        "  <path class=\"arrow\" d=\"M 390,130 L 390,240\" />\n",
        "</svg>"
      ],
      "metadata": {
        "cellView": "form",
        "id": "uF-HCAOnxFyB",
        "outputId": "f6b2f2a9-0c17-499f-8184-e59056785c88",
        "colab": {
          "base_uri": "https://localhost:8080/",
          "height": 1000
        }
      },
      "execution_count": null,
      "outputs": [
        {
          "output_type": "display_data",
          "data": {
            "text/plain": [
              "<IPython.core.display.HTML object>"
            ],
            "text/html": [
              "<svg viewBox=\"0 0 500 400\" xmlns=\"http://www.w3.org/2000/svg\">\n",
              "  <style>\n",
              "    .box { stroke: #333; stroke-width: 2; }\n",
              "    .client { fill: #d1e7dd; }\n",
              "    .server { fill: #cfe2ff; }\n",
              "    .request { fill: #fff3cd; }\n",
              "    .response { fill: #f8d7da; }\n",
              "    .arrow { stroke: #555; stroke-width: 2; fill: none; marker-end: url(#arrowhead); }\n",
              "    text { font-family: 'Courier New', monospace; font-size: 12px; }\n",
              "    .label { font-family: Arial, sans-serif; font-weight: bold; font-size: 14px; }\n",
              "    .header { fill: #e9ecef; }\n",
              "    .method { fill: #0d6efd; font-weight: bold; }\n",
              "    .status { fill: #198754; font-weight: bold; }\n",
              "    .url { fill: #dc3545; }\n",
              "    .parameter { fill: #6610f2; }\n",
              "  </style>\n",
              "  \n",
              "  <defs>\n",
              "    <marker id=\"arrowhead\" markerWidth=\"10\" markerHeight=\"7\" refX=\"9\" refY=\"3.5\" orient=\"auto\">\n",
              "      <polygon points=\"0 0, 10 3.5, 0 7\" fill=\"#555\" />\n",
              "    </marker>\n",
              "  </defs>\n",
              "  \n",
              "  <!-- Client and Server Boxes -->\n",
              "  <rect class=\"box client\" x=\"50\" y=\"40\" width=\"120\" height=\"50\" rx=\"5\" />\n",
              "  <rect class=\"box server\" x=\"330\" y=\"40\" width=\"120\" height=\"50\" rx=\"5\" />\n",
              "  <text x=\"110\" y=\"70\" text-anchor=\"middle\" class=\"label\">Browser</text>\n",
              "  <text x=\"390\" y=\"70\" text-anchor=\"middle\" class=\"label\">Web Server</text>\n",
              "  \n",
              "  <!-- HTTP Request -->\n",
              "  <rect class=\"box request\" x=\"90\" y=\"130\" width=\"320\" height=\"110\" rx=\"5\" />\n",
              "  <text x=\"110\" y=\"150\" class=\"method\">GET</text>\n",
              "  <text x=\"140\" y=\"150\" class=\"url\">/api/products</text>\n",
              "  <text x=\"240\" y=\"150\">HTTP/1.1</text>\n",
              "  \n",
              "  <rect class=\"header\" x=\"100\" y=\"165\" width=\"300\" height=\"20\" rx=\"2\" />\n",
              "  <text x=\"110\" y=\"180\">Host: example.com</text>\n",
              "  \n",
              "  <rect class=\"header\" x=\"100\" y=\"190\" width=\"300\" height=\"20\" rx=\"2\" />\n",
              "  <text x=\"110\" y=\"205\">User-Agent: Mozilla/5.0</text>\n",
              "  \n",
              "  <rect class=\"header\" x=\"100\" y=\"215\" width=\"300\" height=\"20\" rx=\"2\" />\n",
              "  <text x=\"110\" y=\"230\">Accept: application/json</text>\n",
              "  \n",
              "  <!-- HTTP Response -->\n",
              "  <rect class=\"box response\" x=\"90\" y=\"280\" width=\"320\" height=\"110\" rx=\"5\" />\n",
              "  <text x=\"110\" y=\"300\">HTTP/1.1</text>\n",
              "  <text x=\"170\" y=\"300\" class=\"status\">200 OK</text>\n",
              "  \n",
              "  <rect class=\"header\" x=\"100\" y=\"315\" width=\"300\" height=\"20\" rx=\"2\" />\n",
              "  <text x=\"110\" y=\"330\">Content-Type: application/json</text>\n",
              "  \n",
              "  <rect class=\"header\" x=\"100\" y=\"340\" width=\"300\" height=\"20\" rx=\"2\" />\n",
              "  <text x=\"110\" y=\"355\">Content-Length: 234</text>\n",
              "  \n",
              "  <rect class=\"header\" x=\"100\" y=\"365\" width=\"300\" height=\"20\" rx=\"2\" />\n",
              "  <text x=\"110\" y=\"380\">{\"products\": [{\"id\": 1, \"name\": \"...\"}]}</text>\n",
              "  \n",
              "  <!-- Arrows -->\n",
              "  <path class=\"arrow\" d=\"M 110,90 L 110,130\" />\n",
              "  <path class=\"arrow\" d=\"M 390,90 L 390,280\" />\n",
              "  <path class=\"arrow\" d=\"M 110,240 L 110,280\" />\n",
              "  <path class=\"arrow\" d=\"M 390,130 L 390,240\" />\n",
              "</svg>\n"
            ]
          },
          "metadata": {}
        }
      ]
    },
    {
      "cell_type": "markdown",
      "source": [
        "## Python's Requests Library: Getting Started\n",
        "\n",
        "Python's Requests library is a popular HTTP client library that simplifies making HTTP requests from Python code. Created by Kenneth Reitz, this elegant and user-friendly library abstracts the complexities of making HTTP requests behind a simple API, allowing developers to send HTTP requests with minimal code. Requests is often described as \"HTTP for Humans\" because of its intuitive design, making it an excellent tool for beginners learning to interact with web services.\n",
        "\n",
        "* The Requests library handles all HTTP methods (GET, POST, PUT, DELETE, etc.), manages cookies, processes different encodings, and supports both HTTP and HTTPS protocols.\n",
        "* Before using Requests, you need to install it using pip, Python's package manager, with the command `pip install requests`.\n",
        "* The library's core functionality revolves around simple method calls that correspond to HTTP methods—such as `requests.get()` for GET requests and `requests.post()` for POST requests.\n",
        "* Response objects from Requests provide access to the status code, content, headers, and other important information returned by the server."
      ],
      "metadata": {
        "id": "Vb0N41Qmq8yo"
      }
    },
    {
      "cell_type": "code",
      "source": [
        "# Basic usage of the Requests library\n",
        "import requests\n",
        "\n",
        "# Make a GET request to retrieve data\n",
        "response = requests.get(\"https://meowfacts.herokuapp.com/\")\n",
        "\n",
        "# Check if the request was successful\n",
        "if response.status_code == 200:\n",
        "    # Access the response content\n",
        "    data = response.json()  # Parse JSON response\n",
        "    print(data)\n",
        "else:\n",
        "    print(f\"Request failed with status code: {response.status_code}\")"
      ],
      "metadata": {
        "id": "dtSFI4ZMrHyK",
        "outputId": "1d26e809-8954-496a-d422-19406b4eddf3",
        "colab": {
          "base_uri": "https://localhost:8080/"
        }
      },
      "execution_count": null,
      "outputs": [
        {
          "output_type": "stream",
          "name": "stdout",
          "text": [
            "{'data': ['Some common houseplants poisonous to cats include: English Ivy, iris, mistletoe, philodendron, and yew.']}\n"
          ]
        }
      ]
    },
    {
      "cell_type": "markdown",
      "source": [
        "For example, when you run the code above, here's what happens:\n",
        "\n",
        "1. **Request**: Python sends an HTTP GET request to the API meowfacts.herokuapp.com\n",
        "2. **Server processing**: The server receives the request and retrieves the requested data\n",
        "3. **Response**: The server sends back data with status code, headers, and content\n",
        "4. **Parsing**: The Requests library creates a response object with methods to access:\n",
        "   * `response.status_code` - numeric code (200 means success)\n",
        "   * `response.headers` - metadata about the response\n",
        "   * `response.text` - raw text content\n",
        "   * `response.json()` - parsed JSON data (if applicable)\n",
        "5. **Using the data**: Your code can now work with the retrieved information as regular Python data structures\n",
        "\n",
        "This process happens with just a single line of code (`requests.get()`), hiding all the complex networking operations happening behind the scenes!"
      ],
      "metadata": {
        "id": "KEtJS_BsrO-Z"
      }
    },
    {
      "cell_type": "markdown",
      "source": [
        "## Making Your First GET Request in Python\n",
        "\n",
        "The GET request is the most common HTTP method, used to retrieve data from a server. In Python, the Requests library makes it remarkably easy to send GET requests and process the responses. This fundamental operation allows you to fetch web pages, download files, and access API data—forming the foundation for many web-based applications and data retrieval tasks. Understanding how to make and customize GET requests is an essential skill for any programmer working with web services.\n",
        "\n",
        "* GET requests can include **query parameters** (additional information sent in the URL itself) to customize the request—such as search terms, filters, or pagination details.\n",
        "* When making GET requests, you can customize **headers** (metadata sent with the request) to specify acceptable content types, provide authentication tokens, or set other request properties.\n",
        "* The Requests library handles **redirects** automatically (when a server tells you to go to a different URL), though you can disable this behavior if needed.\n",
        "* Requests provides built-in support for handling common data formats like JSON, but it also allows access to raw response content when dealing with other formats."
      ],
      "metadata": {
        "id": "i4em-05FvKcO"
      }
    },
    {
      "cell_type": "code",
      "source": [
        "# Making a GET request to a public API that doesn't require authentication\n",
        "import requests\n",
        "\n",
        "# Define the base URL for the API\n",
        "url = \"https://jsonplaceholder.typicode.com/posts/1\"\n",
        "\n",
        "# Optional query parameters as a dictionary (not needed for this example)\n",
        "params = {}\n",
        "\n",
        "# Optional custom headers\n",
        "headers = {\n",
        "    \"Accept\": \"application/json\"\n",
        "}\n",
        "\n",
        "# Make the GET request with parameters and headers\n",
        "response = requests.get(url, params=params, headers=headers)\n",
        "\n",
        "# Process the response\n",
        "if response.status_code == 200:\n",
        "    post_data = response.json()\n",
        "    title = post_data[\"title\"]\n",
        "    body = post_data[\"body\"]\n",
        "\n",
        "    print(f\"Post title: {title}\")\n",
        "    print(f\"Post body: {body}\")\n",
        "else:\n",
        "    print(f\"Error: {response.status_code}\")\n",
        "    print(response.text)"
      ],
      "metadata": {
        "id": "2MEQ1C0XvLPc",
        "outputId": "bf522c5c-af34-4e3e-d2d0-4a79048c7a4e",
        "colab": {
          "base_uri": "https://localhost:8080/"
        }
      },
      "execution_count": null,
      "outputs": [
        {
          "output_type": "stream",
          "name": "stdout",
          "text": [
            "Post title: sunt aut facere repellat provident occaecati excepturi optio reprehenderit\n",
            "Post body: quia et suscipit\n",
            "suscipit recusandae consequuntur expedita et cum\n",
            "reprehenderit molestiae ut ut quas totam\n",
            "nostrum rerum est autem sunt rem eveniet architecto\n"
          ]
        }
      ]
    },
    {
      "cell_type": "markdown",
      "source": [
        "For example, when you run this code:\n",
        "\n",
        "1. **Request**: Python sends an HTTP GET request to jsonplaceholder.typicode.com/posts/1\n",
        "2. **Server processing**: The server receives the request and retrieves the post with ID 1\n",
        "3. **Response**: The server sends back JSON data with the post's title and body\n",
        "4. **Output**: You'll see something like:\n",
        "   ```\n",
        "   Post title: sunt aut facere repellat provident occaecati excepturi optio reprehenderit\n",
        "   Post body: quia et suscipit\\nsuscipit recusandae consequuntur expedita...\n",
        "   ```\n",
        "\n",
        "This simple example demonstrates the power of the Requests library - with just a few lines of code, you can interact with web services around the world and process the data they return!"
      ],
      "metadata": {
        "id": "G7WrGS8qvPLX"
      }
    },
    {
      "cell_type": "markdown",
      "source": [
        "## Working with JSON Data from APIs\n",
        "\n",
        "JSON (JavaScript Object Notation) is the standard data format for most modern web APIs due to its simplicity, readability, and language independence. When working with APIs in Python, you'll frequently need to parse, manipulate, and create JSON data. Python's Requests library seamlessly integrates with JSON, providing built-in methods to convert between JSON data and Python's native data structures like dictionaries and lists.\n",
        "\n",
        "* JSON data consists of key-value pairs similar to Python dictionaries, with support for nested structures, arrays (lists in Python), and basic data types like strings, numbers, booleans, and null values.\n",
        "* The `response.json()` method automatically converts JSON response data into Python objects—dictionaries become Python dictionaries, arrays become lists, and other JSON types map to their Python equivalents.\n",
        "* For more complex JSON processing, Python's built-in `json` module provides additional functionality like custom deserialization, pretty printing, and handling non-standard JSON.\n",
        "* When working with JSON from APIs, it's important to understand the structure of the expected response to properly access nested data using dictionary keys and list indices."
      ],
      "metadata": {
        "id": "UScfF0Yjvc0v"
      }
    },
    {
      "cell_type": "code",
      "source": [
        "# Working with JSON data from a public API\n",
        "import requests\n",
        "import json  # For additional JSON functionality\n",
        "\n",
        "# Make a request to a public API that returns JSON\n",
        "response = requests.get(\"https://jsonplaceholder.typicode.com/users\")\n",
        "\n",
        "# Check if the request was successful\n",
        "if response.status_code == 200:\n",
        "    # Parse JSON response into a Python list of dictionaries\n",
        "    users = response.json()\n",
        "\n",
        "    # Extract specific information from each user\n",
        "    for user in users:\n",
        "        name = user[\"name\"]\n",
        "        email = user[\"email\"]\n",
        "        # Access nested JSON data using multiple keys\n",
        "        city = user[\"address\"][\"city\"]\n",
        "        company = user[\"company\"][\"name\"]\n",
        "\n",
        "        print(f\"Name: {name}, Email: {email}, City: {city}, Company: {company}\")\n",
        "\n",
        "    # Pretty print the first user for better readability\n",
        "    first_user = users[0]\n",
        "    pretty_json = json.dumps(first_user, indent=4)\n",
        "    print(\"\\nFirst user details:\")\n",
        "    print(pretty_json)\n",
        "else:\n",
        "    print(f\"Request failed: {response.status_code}\")"
      ],
      "metadata": {
        "id": "20lWbUihvdql",
        "outputId": "6d81b8eb-4ea3-4327-a79a-3ef2e5497eae",
        "colab": {
          "base_uri": "https://localhost:8080/"
        }
      },
      "execution_count": null,
      "outputs": [
        {
          "output_type": "stream",
          "name": "stdout",
          "text": [
            "Name: Leanne Graham, Email: Sincere@april.biz, City: Gwenborough, Company: Romaguera-Crona\n",
            "Name: Ervin Howell, Email: Shanna@melissa.tv, City: Wisokyburgh, Company: Deckow-Crist\n",
            "Name: Clementine Bauch, Email: Nathan@yesenia.net, City: McKenziehaven, Company: Romaguera-Jacobson\n",
            "Name: Patricia Lebsack, Email: Julianne.OConner@kory.org, City: South Elvis, Company: Robel-Corkery\n",
            "Name: Chelsey Dietrich, Email: Lucio_Hettinger@annie.ca, City: Roscoeview, Company: Keebler LLC\n",
            "Name: Mrs. Dennis Schulist, Email: Karley_Dach@jasper.info, City: South Christy, Company: Considine-Lockman\n",
            "Name: Kurtis Weissnat, Email: Telly.Hoeger@billy.biz, City: Howemouth, Company: Johns Group\n",
            "Name: Nicholas Runolfsdottir V, Email: Sherwood@rosamond.me, City: Aliyaview, Company: Abernathy Group\n",
            "Name: Glenna Reichert, Email: Chaim_McDermott@dana.io, City: Bartholomebury, Company: Yost and Sons\n",
            "Name: Clementina DuBuque, Email: Rey.Padberg@karina.biz, City: Lebsackbury, Company: Hoeger LLC\n",
            "\n",
            "First user details:\n",
            "{\n",
            "    \"id\": 1,\n",
            "    \"name\": \"Leanne Graham\",\n",
            "    \"username\": \"Bret\",\n",
            "    \"email\": \"Sincere@april.biz\",\n",
            "    \"address\": {\n",
            "        \"street\": \"Kulas Light\",\n",
            "        \"suite\": \"Apt. 556\",\n",
            "        \"city\": \"Gwenborough\",\n",
            "        \"zipcode\": \"92998-3874\",\n",
            "        \"geo\": {\n",
            "            \"lat\": \"-37.3159\",\n",
            "            \"lng\": \"81.1496\"\n",
            "        }\n",
            "    },\n",
            "    \"phone\": \"1-770-736-8031 x56442\",\n",
            "    \"website\": \"hildegard.org\",\n",
            "    \"company\": {\n",
            "        \"name\": \"Romaguera-Crona\",\n",
            "        \"catchPhrase\": \"Multi-layered client-server neural-net\",\n",
            "        \"bs\": \"harness real-time e-markets\"\n",
            "    }\n",
            "}\n"
          ]
        }
      ]
    },
    {
      "cell_type": "markdown",
      "source": [
        "For example, when you run this code, it retrieves a list of user data from the JSONPlaceholder API. The JSON response contains an array of user objects, each with nested information. When you access `user[\"address\"][\"city\"]`, you're navigating through the JSON structure."
      ],
      "metadata": {
        "id": "t-2du4MCvtRC"
      }
    },
    {
      "cell_type": "markdown",
      "source": [
        "## Practical Example: Building a Cat Facts App\n",
        "\n",
        "Let's combine what we've learned to build a simple yet practical application using Python's Requests library. This example demonstrates how to make API requests, handle responses, process JSON data, and present information to users—all essential skills for working with web services. By building this mini-application, you'll see how networking concepts come together to create something useful in just a few lines of code.\n",
        "\n",
        "* Our app will use the free Cat Facts API, which provides random facts about cats without requiring an API key.\n",
        "* We'll implement features to get cat facts and handle potential errors like connection issues.\n",
        "* The app will display the cat facts and let the user request more if they wish.\n",
        "* This example introduces error handling with try/except blocks to make our application more robust.\n"
      ],
      "metadata": {
        "id": "-8BoDxOovxda"
      }
    },
    {
      "cell_type": "code",
      "source": [
        "# Simple Cat Facts App using Requests\n",
        "import requests\n",
        "import time\n",
        "\n",
        "def get_cat_fact():\n",
        "    \"\"\"Get a random cat fact using the Cat Facts API\"\"\"\n",
        "    url = \"https://catfact.ninja/fact\"\n",
        "\n",
        "    try:\n",
        "        # Make the API request\n",
        "        response = requests.get(url)\n",
        "\n",
        "        # Check if the request was successful\n",
        "        if response.status_code == 200:\n",
        "            # Parse the JSON response\n",
        "            fact_data = response.json()\n",
        "\n",
        "            # Extract the cat fact\n",
        "            fact = fact_data[\"fact\"]\n",
        "            length = fact_data[\"length\"]\n",
        "\n",
        "            # Format and return the cat fact\n",
        "            return f\"Cat Fact ({length} characters):\\n{fact}\"\n",
        "        else:\n",
        "            # Handle API errors\n",
        "            return f\"Error: API request failed with status code {response.status_code}.\"\n",
        "\n",
        "    except requests.exceptions.ConnectionError:\n",
        "        return \"Error: Could not connect to the Cat Facts API. Please check your internet connection.\"\n",
        "    except requests.exceptions.Timeout:\n",
        "        return \"Error: The request timed out. Please try again later.\"\n",
        "    except Exception as e:\n",
        "        return f\"An unexpected error occurred: {str(e)}\"\n",
        "\n",
        "# Cat facts application\n",
        "def cat_facts_app():\n",
        "    print(\"Welcome to the Cat Facts App!\")\n",
        "    print(\"----------------------------\")\n",
        "\n",
        "    while True:\n",
        "        # Get and display a cat fact\n",
        "        fact = get_cat_fact()\n",
        "        print(\"\\n\" + fact + \"\\n\")\n",
        "\n",
        "        # Ask if the user wants another fact\n",
        "        choice = input(\"Would you like another cat fact? (yes/no): \").lower()\n",
        "        if choice != \"yes\" and choice != \"y\":\n",
        "            print(\"Thank you for using the Cat Facts App!\")\n",
        "            break\n",
        "\n",
        "        # Brief pause between requests to be nice to the API\n",
        "        time.sleep(1)\n"
      ],
      "metadata": {
        "id": "Ic5ibL7kv41o"
      },
      "execution_count": null,
      "outputs": []
    },
    {
      "cell_type": "code",
      "source": [
        "# Now, let's run the app\n",
        "cat_facts_app()"
      ],
      "metadata": {
        "id": "JC1G85IHsl_A",
        "outputId": "98329dea-6be2-4b1c-fe88-ee0c7953e728",
        "colab": {
          "base_uri": "https://localhost:8080/"
        }
      },
      "execution_count": null,
      "outputs": [
        {
          "output_type": "stream",
          "name": "stdout",
          "text": [
            "Welcome to the Cat Facts App!\n",
            "----------------------------\n",
            "\n",
            "Cat Fact (278 characters):\n",
            "While it is commonly thought that the ancient Egyptians were the first to domesticate cats, the oldest known pet cat was recently found in a 9,500-year-old grave on the Mediterranean island of Cyprus. This grave predates early Egyptian art depicting cats by 4,000 years or more.\n",
            "\n",
            "Would you like another cat fact? (yes/no): yes\n",
            "\n",
            "Cat Fact (28 characters):\n",
            "Cats have supersonic hearing\n",
            "\n",
            "Would you like another cat fact? (yes/no): no\n",
            "Thank you for using the Cat Facts App!\n"
          ]
        }
      ]
    },
    {
      "cell_type": "markdown",
      "source": [
        "For example, when you run this program:\n",
        "\n",
        "* **What happens behind the scenes**:\n",
        "  1. The program makes a GET request to the Cat Facts API endpoint\n",
        "  2. The API server processes your request and selects a random cat fact\n",
        "  3. The server sends back a JSON response with the fact and its length\n",
        "  4. The program extracts this information and formats it nicely\n",
        "  5. Error handling ensures the program doesn't crash if something goes wrong\n",
        "\n",
        "* **What the user experiences**:\n",
        "  - They see a welcome message\n",
        "  - A random cat fact appears, such as \"Cats have five toes on their front paws, but only four on the back ones.\"\n",
        "  - They're asked if they want another fact\n",
        "  - If they say yes, a new fact appears\n",
        "  - This continues until they choose to exit\n",
        "\n",
        "This example shows how the Requests library handles all the complex networking operations while letting you focus on processing the data and creating a good user experience."
      ],
      "metadata": {
        "id": "E94zTxsawIpx"
      }
    },
    {
      "cell_type": "markdown",
      "source": [
        "## Conclusion: Connecting the Digital World\n",
        "\n",
        "Throughout this chapter, we've explored the fundamental concepts of computer networking, from the layered TCP/IP model to practical Python programming with the Requests library. These networking principles form the backbone of our digital world, enabling everything from web browsing and online gaming to cloud computing and the Internet of Things. By understanding how devices communicate across networks, you've gained insight into the invisible infrastructure that powers our connected lives.\n",
        "\n",
        "* The TCP/IP model provides a conceptual framework for understanding network communication, with each layer handling specific responsibilities from physical connections to application interfaces.\n",
        "* Protocols like HTTP, TCP, IP, and DNS work together seamlessly to enable the complex web of global communication we rely on every day.\n",
        "* Python's Requests library offers a powerful yet simple way to interact with web services and APIs, allowing you to retrieve data, interact with online services, and build networked applications.\n",
        "* The skills you've learned in this chapter—making HTTP requests, processing JSON data, and working with APIs—are foundational for many areas of software development, data science, and web development.\n",
        "\n",
        "| Concept | Practical Application | Why It Matters |\n",
        "|---------|----------------------|----------------|\n",
        "| TCP/IP Layers | Troubleshooting network issues | Identifies which part of the connection is failing |\n",
        "| HTTP Protocol | Building web clients and servers | Enables standardized web communication |\n",
        "| APIs | Accessing external services | Allows integration with powerful web platforms |\n",
        "| Python Requests | Automating data collection | Simplifies interaction with online resources |\n",
        "\n",
        "For example, the networking concepts and Python skills you've learned could be applied to create a personal dashboard that pulls data from multiple sources:"
      ],
      "metadata": {
        "id": "6sRzrJx0yIHz"
      }
    },
    {
      "cell_type": "markdown",
      "source": [
        "## Mini Project: Personal Information Dashboard\n",
        "  * Step 1: Identify APIs for information you care about\n",
        "    - Weather API for local forecasts\n",
        "    - News API for today's headlines\n",
        "    - Sports API for game scores\n",
        "    - Calendar API for your schedule\n",
        "    - Anything else! (Take a look here for a list of apis: https://github.com/public-apis/public-apis )\n",
        "  \n",
        "  * Step 2: Write Python scripts using Requests to fetch data\n",
        "    - Create functions similar to our weather example for each API\n",
        "    - Handle authentication if required by the APIs\n",
        "    - Process and extract just the information you need\n",
        "  \n",
        "  * Step 3: Combine the data into a single display\n",
        "    - Use Python's built-in modules to create a simple interface\n",
        "    - You can make it as basic or as beautiful as you want.\n",
        "    \n",
        "As you continue your journey in computer science, remember that networks are what transform individual computers into a global, interconnected ecosystem of information and services.\n",
        "\n",
        "You can put your code below. (For this project, it's fine to use AI, but you'll need to identify the APIs on your own in order to actually get it to work)."
      ],
      "metadata": {
        "id": "NR2xtX47JkfY"
      }
    },
    {
      "cell_type": "code",
      "source": [],
      "metadata": {
        "id": "gV5ZFoeiJtsV"
      },
      "execution_count": null,
      "outputs": []
    },
    {
      "cell_type": "code",
      "source": [],
      "metadata": {
        "id": "sOegnvXtJtz1"
      },
      "execution_count": null,
      "outputs": []
    },
    {
      "cell_type": "code",
      "source": [],
      "metadata": {
        "id": "qp3Xs5orJt4M"
      },
      "execution_count": null,
      "outputs": []
    },
    {
      "cell_type": "code",
      "source": [],
      "metadata": {
        "id": "eRnhNboRJuHj"
      },
      "execution_count": null,
      "outputs": []
    },
    {
      "cell_type": "code",
      "source": [],
      "metadata": {
        "id": "0sRLSfDdyLxB"
      },
      "execution_count": null,
      "outputs": []
    },
    {
      "cell_type": "markdown",
      "source": [
        "## Review WIth Quizlet\n"
      ],
      "metadata": {
        "id": "zglyZIjtLD0K"
      }
    },
    {
      "cell_type": "code",
      "source": [
        "%%html\n",
        "<iframe src=\"https://quizlet.com/1043156491/learn/embed?i=psvlh&x=1jj1\" height=\"700\" width=\"100%\" style=\"border:0\"></iframe>"
      ],
      "metadata": {
        "id": "ZMCoxR6vLG3c",
        "outputId": "63c007a6-cf18-4e18-982c-2d30b5fae1de",
        "colab": {
          "base_uri": "https://localhost:8080/",
          "height": 722
        }
      },
      "execution_count": null,
      "outputs": [
        {
          "output_type": "display_data",
          "data": {
            "text/plain": [
              "<IPython.core.display.HTML object>"
            ],
            "text/html": [
              "<iframe src=\"https://quizlet.com/1043156491/learn/embed?i=psvlh&x=1jj1\" height=\"700\" width=\"100%\" style=\"border:0\"></iframe>\n"
            ]
          },
          "metadata": {}
        }
      ]
    },
    {
      "cell_type": "markdown",
      "source": [
        "## Glossary\n",
        "\n",
        "| Term | Definition |\n",
        "|------|------------|\n",
        "| Computer Network | A collection of interconnected computing devices that can exchange data and share resources through transmission media like cables or wireless signals. |\n",
        "| Protocol | A set of standardized rules that determine how data is transmitted between different devices, essentially the languages that computers use to communicate. |\n",
        "| LAN (Local Area Network) | A network that connects devices in a limited area like a home, school, or office building, typically owned and managed by a single organization. |\n",
        "| WAN (Wide Area Network) | A network that spans a large geographic area, often connecting multiple LANs across cities or countries, with the internet being the largest example. |\n",
        "| TCP/IP Model | A conceptual framework that standardizes data transmission across networks through four layers: Application, Transport, Internet, and Network Interface. |\n",
        "| Application Layer | The highest layer in the TCP/IP model that encompasses protocols and interfaces applications use to communicate over networks, including HTTP, DNS, SMTP, and FTP. |\n",
        "| Transport Layer | The layer that manages end-to-end communication between applications, providing flow control, error checking, and data segmentation using protocols like TCP and UDP. |\n",
        "| Internet Layer | The layer responsible for handling the movement of packets between networks, using IP addresses for logical addressing and determining routing paths across interconnected networks. |\n",
        "| Network Interface Layer | The lowest layer in the TCP/IP model dealing with physical connections and basic communication protocols, handling MAC addresses and technologies like Ethernet and Wi-Fi. |\n",
        "| Encapsulation | The process where data is wrapped inside headers containing information needed for transmission as it moves down through the TCP/IP layers. |\n",
        "| Router | A device that forwards data packets between computer networks, determining the best path for data to travel from source to destination. |\n",
        "| IP Address | A logical numerical identifier assigned to devices on a network that enables routing across interconnected networks, with IPv4 using 32-bit addresses and IPv6 using 128-bit addresses. |\n",
        "| MAC Address | A unique 48-bit identifier assigned to network interfaces, used at the Network Interface Layer to identify devices on a local network. |\n",
        "| TCP (Transmission Control Protocol) | A Transport Layer protocol that provides reliable, connection-oriented communication by establishing connections, acknowledging received packets, and retransmitting lost packets. |\n",
        "| UDP (User Datagram Protocol) | A Transport Layer protocol offering connectionless communication without delivery guarantees, making it faster but less reliable than TCP, suitable for time-sensitive applications. |\n",
        "| Port Number | A 16-bit number ranging from 0 to 65535 that identifies specific applications or services on a device, with well-known ports (0-1023) reserved for common services. |\n",
        "| HTTP (Hypertext Transfer Protocol) | An Application Layer protocol that defines how messages are formatted and transmitted between web browsers and servers, following a request-response pattern. |\n",
        "| DNS (Domain Name System) | A protocol that translates human-readable domain names into machine-readable IP addresses needed for routing. |\n",
        "| Client-Server Model | An architectural pattern where computing tasks are distributed between service providers (servers) and service requesters (clients). |\n",
        "| API (Application Programming Interface) | A set of rules and protocols that allows different software applications to communicate with each other, enabling access to functionality or data from external systems. |\n",
        "| JSON (JavaScript Object Notation) | A lightweight data format used for data exchange between web services and applications, consisting of key-value pairs similar to Python dictionaries. |\n",
        "| Requests Library | A Python HTTP client library that simplifies making HTTP requests by abstracting the complexities behind a simple API. |\n",
        "| HTTP Status Code | A numeric code included in an HTTP response that indicates the result of the request, with different ranges for success (200s), redirection (300s), client errors (400s), and server errors (500s). |\n",
        "| HTTP Method | Commands like GET, POST, PUT, and DELETE that define different actions to be performed on specified resources in HTTP requests. |\n",
        "| Bandwidth | The maximum data transfer rate of a network, measured in bits per second (bps), with modern networks operating at millions (Mbps) or billions (Gbps) of bits per second. |"
      ],
      "metadata": {
        "id": "Pqixc14DKaGs"
      }
    },
    {
      "cell_type": "code",
      "source": [],
      "metadata": {
        "id": "wc3SQAMiKbe4"
      },
      "execution_count": null,
      "outputs": []
    }
  ]
}