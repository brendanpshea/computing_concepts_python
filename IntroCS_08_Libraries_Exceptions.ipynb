{
  "nbformat": 4,
  "nbformat_minor": 0,
  "metadata": {
    "colab": {
      "provenance": [],
      "authorship_tag": "ABX9TyN3mWnHmkWcsMHze06hVsvP",
      "include_colab_link": true
    },
    "kernelspec": {
      "name": "python3",
      "display_name": "Python 3"
    },
    "language_info": {
      "name": "python"
    }
  },
  "cells": [
    {
      "cell_type": "markdown",
      "metadata": {
        "id": "view-in-github",
        "colab_type": "text"
      },
      "source": [
        "<a href=\"https://colab.research.google.com/github/brendanpshea/computing_concepts_python/blob/main/IntroCS_08_Libraries_Exceptions.ipynb\" target=\"_parent\"><img src=\"https://colab.research.google.com/assets/colab-badge.svg\" alt=\"Open In Colab\"/></a>"
      ]
    },
    {
      "cell_type": "markdown",
      "source": [
        "# Welcome to Python: Understanding How Code Becomes Action\n",
        "### Brendan Shea, PhD\n",
        "\n",
        "You've already written Python code in Jupyter notebooks, creating variables, writing functions, and building simple programs. But have you wondered what happens behind the scenes when you click \"Run\" on a cell? In this chapter, we'll explore how Python actually processes and executes your code.\n",
        "\n",
        "Python is known as an **interpreted language**, which means your code doesn't need to be compiled before it runs. Instead, the Python interpreter reads and executes your code line by line. Understanding this process will help you write better code and debug problems more effectively.\n",
        "\n",
        "* In previous chapters, you've learned:\n",
        "  * How to write basic Python syntax\n",
        "  * Working with variables and data types\n",
        "  * Creating functions and control structures\n",
        "  * Using libraries for specific tasks\n",
        "\n",
        "* In this chapter, you'll learn:\n",
        "  * How the Python interpreter actually executes your code\n",
        "  * How to properly organize code using modules and libraries\n",
        "  * How to handle errors and exceptions professionally\n",
        "  * Best practices for making your programs more robust\n",
        "\n",
        "While Jupyter notebooks provide an excellent learning environment, most larger Python projects eventually move to standalone Python files (`.py` files). This chapter will help you understand both environments, preparing you for more advanced Python development beyond Jupyter.\n",
        "\n",
        "This knowledge will give you a deeper understanding of what's happening when you run your code, helping you become a more effective programmer who can write better, more maintainable programs!"
      ],
      "metadata": {
        "id": "h-7KPVCbRoWE"
      }
    },
    {
      "cell_type": "markdown",
      "source": [
        "## Brendan's Lecture"
      ],
      "metadata": {
        "id": "sK4k2-Xc6IM9"
      }
    },
    {
      "cell_type": "code",
      "source": [
        "from IPython.display import YouTubeVideo\n",
        "YouTubeVideo('-B8u2esOxJc', width=800, height=500)"
      ],
      "metadata": {
        "id": "INdwDRAm6KMM"
      },
      "execution_count": null,
      "outputs": []
    },
    {
      "cell_type": "markdown",
      "source": [
        "## The Python Interpreter: Your Code's Translator\n",
        "\n",
        "The **Python interpreter** is a program that reads and executes your Python code. Think of it as a translator that converts your human-readable code into instructions that your computer can understand and execute.\n",
        "\n",
        "When you write Python code and run it, the interpreter goes through several steps:\n",
        "\n",
        "* What the interpreter does:\n",
        "  * **Lexing**: Breaks your code into tokens (words and symbols)\n",
        "  * **Parsing**: Organizes tokens into a structure called an Abstract Syntax Tree (AST)\n",
        "  * **Compilation**: Converts the AST into bytecode (an intermediate language)\n",
        "  * **Execution**: Runs the bytecode to perform the actions your code describes\n",
        "\n",
        "There are different Python interpreters available, each with unique characteristics:\n",
        "\n",
        "| Interpreter | Description | Best Used For |\n",
        "|-------------|-------------|---------------|\n",
        "| CPython | The standard interpreter (written in C) | General purpose use |\n",
        "| PyPy | Faster alternative with JIT compilation | Performance-critical applications |\n",
        "| Jython | Runs on Java Virtual Machine | Java integration |\n",
        "| IronPython | Integrates with .NET | Windows/.NET applications |\n",
        "\n",
        "Most beginners use CPython, which is what you get when you download Python from python.org. When someone refers to \"Python,\" they're usually talking about CPython.\n",
        "\n",
        "When you run a cell in Jupyter, you're actually sending that code to a Python interpreter running in the background. Jupyter acts as a convenient interface to this interpreter, showing you the results immediately below each cell."
      ],
      "metadata": {
        "id": "lKjkbNWvSBlY"
      }
    },
    {
      "cell_type": "code",
      "source": [
        "## In Jupyter, when you run a cell like this,\n",
        "## the cell's contents go through all those interpreter steps\n",
        "print(\"Welcome to The Krusty Krab!\")"
      ],
      "metadata": {
        "colab": {
          "base_uri": "https://localhost:8080/"
        },
        "id": "KGP-D_17SETT",
        "outputId": "fd4aaeac-493b-43c9-8d04-faf43b432225"
      },
      "execution_count": null,
      "outputs": [
        {
          "output_type": "stream",
          "name": "stdout",
          "text": [
            "Welcome to The Krusty Krab!\n"
          ]
        }
      ]
    },
    {
      "cell_type": "markdown",
      "source": [
        "## Step by Step: How Python Reads Your Code\n",
        "\n",
        "Python reads your code in a specific order, following a predictable path. Understanding this process helps you write better code and troubleshoot problems more effectively.\n",
        "\n",
        "**Execution flow** is the order in which Python reads and executes your code. Unlike some languages that may compile everything at once, Python processes your program line by line, from top to bottom.\n",
        "\n",
        "* Python's reading order:\n",
        "  * Reads your file from top to bottom\n",
        "  * Processes import statements first\n",
        "  * Defines functions and classes (but doesn't run function code yet)\n",
        "  * Executes the \"main\" code (not inside functions/classes)\n",
        "  * Runs functions only when they're called\n",
        "  * Stops when it reaches the end of the file\n",
        "\n",
        "This top-to-bottom approach means that you need to define things before you use them. For example, you need to define a function before you call it.\n"
      ],
      "metadata": {
        "id": "rBS0bL9OSGhJ"
      }
    },
    {
      "cell_type": "code",
      "source": [
        "## This demonstrates Python's reading order\n",
        "\n",
        "## 1. Python sees this import first\n",
        "import random\n",
        "\n",
        "## 2. Python defines this function (but doesn't run it yet)\n",
        "def get_menu_item():\n",
        "    items = [\"Krabby Patty\", \"Coral Bits\", \"Kelp Shake\"]\n",
        "    return random.choice(items)\n",
        "\n",
        "## 3. This main code runs immediately\n",
        "print(\"Welcome to the Krusty Krab!\")\n",
        "\n",
        "## 4. Now the function is called and runs\n",
        "todays_special = get_menu_item()\n",
        "print(f\"Today's special is: {todays_special}\")\n"
      ],
      "metadata": {
        "colab": {
          "base_uri": "https://localhost:8080/"
        },
        "id": "g72dz1taSOi0",
        "outputId": "89646cd4-e681-4b3c-a763-190d5b7eafee"
      },
      "execution_count": null,
      "outputs": [
        {
          "output_type": "stream",
          "name": "stdout",
          "text": [
            "Welcome to the Krusty Krab!\n",
            "Today's special is: Krabby Patty\n"
          ]
        }
      ]
    },
    {
      "cell_type": "markdown",
      "source": [
        "## From Source to Execution: The Python Runtime Process\n",
        "\n",
        "When you run a Python program, your code goes through several stages before producing results. This is known as the **runtime process** - the journey from source code to executed instructions.\n",
        "\n",
        "The Python runtime process transforms your human-readable code into something the computer can execute:\n",
        "\n",
        "* Python's runtime stages:\n",
        "  * **Source code**: Your Python code with human-readable instructions\n",
        "  * **Compilation to bytecode**: Python converts your code to bytecode (an intermediate form)\n",
        "  * **Python Virtual Machine (PVM)**: Executes the bytecode instructions\n",
        "  * **Results**: Your program's output or actions\n",
        "\n",
        "Python's process is often called \"compile then interpret\" because it first compiles to bytecode, then interprets that bytecode. This bytecode is platform-independent, which helps make Python portable across different operating systems.\n",
        "\n",
        "| Environment | How Code is Run | What You See |\n",
        "|-------------|-----------------|--------------|\n",
        "| Python Script (`.py` file) | Entire file runs at once | Output appears in terminal |\n",
        "| Jupyter Notebook | Individual cells run on demand | Output appears below each cell |\n",
        "| Python REPL/Console | Line by line interactive execution | Output after each command |\n",
        "\n",
        "When using Jupyter, a Python interpreter (called a \"kernel\") runs behind the scenes. Each code cell is sent to this interpreter when you run it. The interpreter maintains the state between cells, so variables defined in one cell are available in others - this is different from running separate `.py` files, where each file runs independently."
      ],
      "metadata": {
        "id": "b-NIA_u8SWLj"
      }
    },
    {
      "cell_type": "code",
      "source": [
        "## In Jupyter, when you run this cell:\n",
        "menu_items = {\n",
        "    \"Krabby Patty\": 2.99,\n",
        "    \"Krusty Combo\": 3.99,\n",
        "    \"Kelp Shake\": 1.50\n",
        "}\n",
        "\n",
        "for item, price in menu_items.items():\n",
        "    print(f\"{item}: ${price:.2f}\")\n",
        "\n",
        "## The interpreter:\n",
        "## 1. Converts this code to bytecode\n",
        "## 2. Executes it\n",
        "## 3. Shows output below the cell"
      ],
      "metadata": {
        "colab": {
          "base_uri": "https://localhost:8080/"
        },
        "id": "YiSVft8ISf2r",
        "outputId": "4b59ac78-d2e8-42e1-e5a8-2e67331f06f5"
      },
      "execution_count": null,
      "outputs": [
        {
          "output_type": "stream",
          "name": "stdout",
          "text": [
            "Krabby Patty: $2.99\n",
            "Krusty Combo: $3.99\n",
            "Kelp Shake: $1.50\n"
          ]
        }
      ]
    },
    {
      "cell_type": "markdown",
      "source": [
        "## Behind the Scenes: Memory Management in Python\n",
        "\n",
        "One of Python's great advantages is that it automatically manages computer memory for you. This makes programming easier but it's still helpful to understand what's happening behind the scenes, especially in Jupyter where code runs in cells.\n",
        "\n",
        "**Memory management** in Python refers to how the interpreter allocates, uses, and frees up memory while your program runs. Unlike languages like C or C++, you don't need to manually allocate and release memory.\n",
        "\n",
        "* Key aspects of Python's memory management:\n",
        "  * **Object creation**: Everything in Python is an object that takes up memory\n",
        "  * **Reference counting**: Python tracks how many references point to each object\n",
        "  * **Garbage collection**: Python automatically frees memory when objects are no longer used\n",
        "  * **Memory pools**: For efficiency, Python pre-allocates memory for small objects\n",
        "  * **Variable assignment**: Variables are references (names) that point to objects\n",
        "\n",
        "In Jupyter notebooks, memory management has some important implications:\n",
        "\n",
        "| Feature | What Happens | Why It Matters |\n",
        "|---------|--------------|----------------|\n",
        "| Persistent variables | Variables defined in one cell remain available in later cells | You can build on previous work |\n",
        "| Kernel state | All variables are stored in the notebook's kernel memory | Large datasets can slow things down |\n",
        "| Restart kernel | Clears all variables and resets memory | Useful when memory gets full |\n",
        "| Cell order | Variables must be defined before they're used | Running cells out of order can cause errors |\n",
        "\n",
        "\n",
        "When no variables reference an object anymore, Python's garbage collector automatically reclaims that memory. In Jupyter, this often happens when you restart the kernel or redefine a variable."
      ],
      "metadata": {
        "id": "mEIocX8NSpj6"
      }
    },
    {
      "cell_type": "code",
      "source": [
        "## Memory management example in Jupyter\n",
        "## Run this cell first:\n",
        "krusty_krab_menu = [\"Krabby Patty\", \"Kelp Fries\", \"Coral Bits\"]\n"
      ],
      "metadata": {
        "id": "iKndzoEDSrSc"
      },
      "execution_count": null,
      "outputs": []
    },
    {
      "cell_type": "code",
      "source": [
        "## Then run this cell:\n",
        "daily_specials = krusty_krab_menu\n",
        "## Both variables reference the same list object in memory\n",
        "daily_specials.append(\"Kelp Shake\")"
      ],
      "metadata": {
        "id": "qkroGfZ2SvAP"
      },
      "execution_count": null,
      "outputs": []
    },
    {
      "cell_type": "code",
      "source": [
        "## Finally run this cell:\n",
        "print(\"Menu:\", krusty_krab_menu)  ## Shows all 4 items\n",
        "print(\"Specials:\", daily_specials)  ## Also shows all 4 items"
      ],
      "metadata": {
        "colab": {
          "base_uri": "https://localhost:8080/"
        },
        "id": "4glC0pwTSyBO",
        "outputId": "e9721a26-4e50-410f-82de-0c3ef4b30f9e"
      },
      "execution_count": null,
      "outputs": [
        {
          "output_type": "stream",
          "name": "stdout",
          "text": [
            "Menu: ['Krabby Patty', 'Kelp Fries', 'Coral Bits', 'Kelp Shake']\n",
            "Specials: ['Krabby Patty', 'Kelp Fries', 'Coral Bits', 'Kelp Shake']\n"
          ]
        }
      ]
    },
    {
      "cell_type": "markdown",
      "source": [
        "## Building with Blocks: Introduction to Python Modules\n",
        "\n",
        "A **module** in Python is simply a file containing Python code. Modules help organize related code into separate files, making your programs more organized and reusable.\n",
        "\n",
        "Think of modules like recipe cards in a restaurant - each one contains specific instructions for a particular dish or task. Just as a chef doesn't rewrite recipes from scratch each day, programmers use modules to reuse code.\n",
        "\n",
        "* Benefits of using modules:\n",
        "  * **Organization**: Group related code together\n",
        "  * **Reusability**: Use the same code in multiple programs\n",
        "  * **Namespace separation**: Avoid naming conflicts\n",
        "  * **Simplicity**: Break complex programs into manageable pieces\n",
        "\n",
        "Python modules come in two main varieties:\n",
        "\n",
        "| Type | Description | Example |\n",
        "|------|-------------|---------|\n",
        "| Built-in modules | Come with Python installation | `math`, `random`, `datetime` |\n",
        "| Custom modules | Created by programmers (you!) | Your own `.py` files |\n",
        "\n",
        "To use a module, you need to import it. Then you can access its functions, classes, and variables.\n",
        "\n",
        "Every `.py` file you create is automatically a module that can be imported by other Python files. This modular approach is a fundamental concept in programming and will help you build more complex programs."
      ],
      "metadata": {
        "id": "HqgJ-tg2S9ny"
      }
    },
    {
      "cell_type": "code",
      "source": [
        "## Importing and using the random module\n",
        "import random\n",
        "\n",
        "## The Krusty Krab's daily random special generator\n",
        "menu_items = [\"Krabby Patty\", \"Coral Bits\", \"Kelp Shake\", \"Sailor's Surprise\"]\n",
        "\n",
        "## Using random module's choice function\n",
        "todays_special = random.choice(menu_items)\n",
        "print(f\"Today's special is: {todays_special}\")"
      ],
      "metadata": {
        "colab": {
          "base_uri": "https://localhost:8080/"
        },
        "id": "9gm5htnHTCoB",
        "outputId": "f4331c69-f924-45c1-a54a-1d88a656edc6"
      },
      "execution_count": null,
      "outputs": [
        {
          "output_type": "stream",
          "name": "stdout",
          "text": [
            "Today's special is: Krabby Patty\n"
          ]
        }
      ]
    },
    {
      "cell_type": "markdown",
      "source": [
        "## Don't Reinvent the Wheel: Using Python Libraries\n",
        "\n",
        "A **library** in Python is a collection of related modules that provide a set of pre-written code for common tasks. Libraries save you from \"reinventing the wheel\" by providing ready-made solutions to common programming problems.\n",
        "\n",
        "Think of libraries like the different stations in a restaurant kitchen - each one specialized for a specific type of preparation. You wouldn't build a new stove every time you want to cook, and similarly, you don't need to write code for common tasks from scratch.\n",
        "\n",
        "* Advantages of using libraries:\n",
        "  * **Speed of development**: Complete complex tasks with fewer lines of code\n",
        "  * **Reliability**: Libraries are usually well-tested by many users\n",
        "  * **Efficiency**: Often optimized for performance\n",
        "  * **Community support**: Popular libraries have good documentation and help available\n",
        "  * **Specialized functionality**: Access to advanced features (data analysis, web development, etc.)\n",
        "\n",
        "Some libraries come built into Python's standard library, while others are third-party libraries that need to be installed separately using tools like `pip`. The Python ecosystem has thousands of libraries for almost any task you can imagine, from scientific computing to web development to artificial intelligence."
      ],
      "metadata": {
        "id": "VtFadNaKTHas"
      }
    },
    {
      "cell_type": "code",
      "source": [
        "## Using the datetime library for a restaurant reservation system\n",
        "import datetime\n",
        "\n",
        "## The Krusty Krab reservation system\n",
        "current_time = datetime.datetime.now()\n",
        "print(f\"Welcome to the Krusty Krab! Current time: {current_time.strftime('%H:%M')}\")\n",
        "\n",
        "## Calculate reservation time (2 hours from now)\n",
        "reservation_time = current_time + datetime.timedelta(hours=2)\n",
        "print(f\"Your table will be ready at: {reservation_time.strftime('%H:%M')}\")"
      ],
      "metadata": {
        "colab": {
          "base_uri": "https://localhost:8080/"
        },
        "id": "nPaTWx5KTKQl",
        "outputId": "3432ee2f-8986-43ae-8149-b01051ac4728"
      },
      "execution_count": null,
      "outputs": [
        {
          "output_type": "stream",
          "name": "stdout",
          "text": [
            "Welcome to the Krusty Krab! Current time: 14:56\n",
            "Your table will be ready at: 16:56\n"
          ]
        }
      ]
    },
    {
      "cell_type": "markdown",
      "source": [
        "## Import Basics: Bringing External Code into Your Program\n",
        "\n",
        "To use modules and libraries in Python, you need to **import** them into your program. Importing is how you tell Python that you want to use code from another file or library.\n",
        "\n",
        "There are several ways to import external code, each with different advantages:\n",
        "\n",
        "* Common import methods:\n",
        "  * **`import module_name`**: Imports the entire module\n",
        "  * **`from module_name import function_name`**: Imports a specific function\n",
        "  * **`from module_name import *`**: Imports everything (generally not recommended)\n",
        "  * **`import module_name as alias`**: Imports with a shorter or different name\n",
        "  * **`from module_name import function_name as alias`**: Imports a function with a different name\n",
        "\n",
        "| Import Style | Example | How to Use It | When to Use |\n",
        "|--------------|---------|--------------|------------|\n",
        "| Basic import | `import math` | `math.sqrt(25)` | When you use multiple functions from a module |\n",
        "| From import | `from math import sqrt` | `sqrt(25)` | When you only need one or two specific functions |\n",
        "| Import with alias | `import matplotlib.pyplot as plt` | `plt.plot(x, y)` | When module names are long |\n",
        "| From import with alias | `from math import sqrt as square_root` | `square_root(25)` | When function names might conflict |\n",
        "\n",
        "Python searches for modules in several locations, including the current directory, the Python installation directory, and any paths listed in the PYTHONPATH environment variable. This search system is what lets Python find both built-in modules and your custom modules."
      ],
      "metadata": {
        "id": "Iv18jyHGTPc8"
      }
    },
    {
      "cell_type": "code",
      "source": [
        "## Different ways to import for a restaurant inventory system\n",
        "\n",
        "## Basic import\n",
        "import random\n",
        "daily_special = random.choice([\"Krabby Patty\", \"Coral Bits\"])\n",
        "bill_total = random.randint(25, 50)\n",
        "\n",
        "## From import\n",
        "from datetime import datetime\n",
        "current_time = datetime.now()\n",
        "\n",
        "## Import with alias\n",
        "import math as m\n",
        "tip_amount = m.ceil(bill_total * 0.15)\n",
        "\n",
        "## From import with alias\n",
        "from random import randint as random_number\n",
        "lucky_customer = random_number(1, 100)\n",
        "\n",
        "\n",
        "print(f\"Today's special is: {daily_special}\")\n",
        "print(f\"The current time is: {current_time.strftime('%H:%M')}\")\n",
        "print(f\"The tip amount is: ${tip_amount}\")"
      ],
      "metadata": {
        "colab": {
          "base_uri": "https://localhost:8080/"
        },
        "id": "MzFuihWoTTXy",
        "outputId": "5569a3e2-2094-481e-bb28-aa041f13c200"
      },
      "execution_count": null,
      "outputs": [
        {
          "output_type": "stream",
          "name": "stdout",
          "text": [
            "Today's special is: Krabby Patty\n",
            "The current time is: 14:57\n",
            "The tip amount is: $5\n"
          ]
        }
      ]
    },
    {
      "cell_type": "markdown",
      "source": [
        "## The Python Standard Library: Powerful Tools at Your Fingertips\n",
        "\n",
        "The **Python Standard Library** is a collection of modules and packages that come with Python. These are available immediately without needing to install anything extra. Think of it as your starter toolkit that comes with every Python installation.\n",
        "\n",
        "The Standard Library contains modules for a wide range of common programming tasks, saving you from having to write this functionality yourself.\n",
        "\n",
        "* Popular Standard Library modules:\n",
        "  * **`math`**: Mathematical functions and constants\n",
        "  * **`random`**: Random number generation\n",
        "  * **`datetime`**: Date and time handling\n",
        "  * **`os`**: Operating system interactions\n",
        "  * **`sys`**: System-specific parameters and functions\n",
        "  * **`json`**: JSON data encoding and decoding\n",
        "  * **`re`**: Regular expressions for text processing\n",
        "  * **`collections`**: Specialized container datatypes\n",
        "  * **`urllib`**: URL handling and web requests\n",
        "\n",
        "| Module | Example Use Case | Example Function |\n",
        "|--------|-----------------|------------------|\n",
        "| math | Calculations | `math.sqrt()`, `math.pi` |\n",
        "| random | Games, simulations | `random.choice()`, `random.randint()` |\n",
        "| datetime | Calendar apps, logs | `datetime.now()`, `datetime.timedelta()` |\n",
        "| json | Web APIs, configurations | `json.loads()`, `json.dumps()` |\n",
        "| os | File management | `os.path.join()`, `os.listdir()` |\n",
        "\n",
        "The Standard Library is well-documented and reliable, making it an excellent starting point before looking for third-party packages. Becoming familiar with these built-in modules will significantly enhance your Python programming capabilities."
      ],
      "metadata": {
        "id": "IbYK08hZThCN"
      }
    },
    {
      "cell_type": "code",
      "source": [
        "## Using Standard Library modules for a restaurant management system\n",
        "\n",
        "import datetime\n",
        "import random\n",
        "import json\n",
        "\n",
        "## Generate today's date for the daily specials board\n",
        "today = datetime.date.today().strftime(\"%A, %B %d\")\n",
        "\n",
        "## Pick a random special\n",
        "specials = [\"Krabby Patty\", \"Coral Bits\", \"Kelp Shake\"]\n",
        "todays_special = random.choice(specials)\n",
        "\n",
        "## Store order data in JSON format\n",
        "order = {\n",
        "    \"date\": today,\n",
        "    \"customer\": \"Squidward\",\n",
        "    \"items\": [\"Krabby Patty\", \"Kelp Shake\"],\n",
        "    \"total\": 4.49\n",
        "}\n",
        "\n",
        "## Convert to JSON string for storage\n",
        "order_json = json.dumps(order)\n",
        "print(f\"Order recorded: {order_json}\")"
      ],
      "metadata": {
        "colab": {
          "base_uri": "https://localhost:8080/"
        },
        "id": "Re8doyZkTn_r",
        "outputId": "53f46cce-f251-4b8b-d3e6-4a3350d36f00"
      },
      "execution_count": null,
      "outputs": [
        {
          "output_type": "stream",
          "name": "stdout",
          "text": [
            "Order recorded: {\"date\": \"Thursday, April 24\", \"customer\": \"Squidward\", \"items\": [\"Krabby Patty\", \"Kelp Shake\"], \"total\": 4.49}\n"
          ]
        }
      ]
    },
    {
      "cell_type": "markdown",
      "source": [
        "## Creating Your Own Modules: Organizing Your Code\n",
        "\n",
        "As your programs grow larger, you'll want to organize your code into multiple files. Creating your own modules helps keep your code organized, reusable, and easier to maintain.\n",
        "\n",
        "A **custom module** is simply a Python file (with a `.py` extension) that contains functions, classes, or variables you want to reuse. Think of it like creating your own cookbook of recipes that you can use across multiple menus.\n",
        "\n",
        "* Steps to create and use your own module:\n",
        "  * Create a `.py` file with your code\n",
        "  * Save it in a location Python can find (the same directory or in PYTHONPATH)\n",
        "  * Import it in your main program using `import`\n",
        "  * Access its contents using dot notation or specific imports\n",
        "\n",
        "\n",
        "Let's create our own module:"
      ],
      "metadata": {
        "id": "5jaHKoKUTxMB"
      }
    },
    {
      "cell_type": "code",
      "source": [
        "%%writefile krusty_krab_menu.py\n",
        "## Example: Creating a module named krusty_krab_menu.py\n",
        "## This would be in a file named krusty_krab_menu.py\n",
        "\n",
        "def get_daily_special():\n",
        "    \"\"\"Return today's special menu item\"\"\"\n",
        "    import random\n",
        "    specials = [\"Krabby Patty\", \"Double Krabby Patty\", \"Coral Bits\"]\n",
        "    return random.choice(specials)\n",
        "\n",
        "def calculate_bill(items):\n",
        "    \"\"\"Calculate total bill for ordered items\"\"\"\n",
        "    menu_prices = {\n",
        "        \"Krabby Patty\": 2.99,\n",
        "        \"Double Krabby Patty\": 3.99,\n",
        "        \"Coral Bits\": 1.50,\n",
        "        \"Kelp Shake\": 1.00\n",
        "    }\n",
        "    return sum(menu_prices[item] for item in items if item in menu_prices)"
      ],
      "metadata": {
        "colab": {
          "base_uri": "https://localhost:8080/"
        },
        "id": "UMIytKCHT1XD",
        "outputId": "80146272-1f0f-483c-a9a1-bb500cd71203"
      },
      "execution_count": null,
      "outputs": [
        {
          "output_type": "stream",
          "name": "stdout",
          "text": [
            "Writing krusty_krab_menu.py\n"
          ]
        }
      ]
    },
    {
      "cell_type": "markdown",
      "source": [
        "Now, we can use this in a future program:"
      ],
      "metadata": {
        "id": "FG5-XuBEUB9F"
      }
    },
    {
      "cell_type": "code",
      "source": [
        "## Main program in a different file\n",
        "## This would be in your main program file\n",
        "\n",
        "import krusty_krab_menu\n",
        "\n",
        "## Now we can use functions from our custom module\n",
        "special = krusty_krab_menu.get_daily_special()\n",
        "print(f\"Today's special is: {special}\")\n",
        "\n",
        "order = [\"Krabby Patty\", \"Kelp Shake\", \"Krabby Patty\"]\n",
        "total = krusty_krab_menu.calculate_bill(order)\n",
        "print(f\"Your total is: ${total:.2f}\")"
      ],
      "metadata": {
        "colab": {
          "base_uri": "https://localhost:8080/"
        },
        "id": "zkCt7jehUHBm",
        "outputId": "26cac786-ef56-4211-8d76-11c4896d9ad2"
      },
      "execution_count": null,
      "outputs": [
        {
          "output_type": "stream",
          "name": "stdout",
          "text": [
            "Today's special is: Coral Bits\n",
            "Your total is: $6.98\n"
          ]
        }
      ]
    },
    {
      "cell_type": "markdown",
      "source": [
        "## When Things Go Wrong: Understanding Errors in Python\n",
        "\n",
        "Even the best programmers write code that contains errors. Learning to understand and fix these errors is an essential part of programming. In Python, errors that occur during program execution are called **exceptions**.\n",
        "\n",
        "Exceptions occur when something unexpected happens in your code, like trying to divide by zero or accessing a list index that doesn't exist. When an exception happens, Python stops executing your program and displays an error message.\n",
        "\n",
        "* Common types of errors in Python:\n",
        "  * **Syntax errors**: Mistakes in the structure of your code (like missing colons)\n",
        "  * **Runtime exceptions**: Errors that happen during program execution\n",
        "  * **Logic errors**: Code runs without errors but produces incorrect results\n",
        "\n",
        "Understanding error messages is crucial for debugging your code. Python's error messages try to be helpful by telling you:\n",
        "\n",
        "| Component | Description | Example |\n",
        "|-----------|-------------|---------|\n",
        "| Exception type | The category of error | `ZeroDivisionError`, `TypeError` |\n",
        "| Message | Description of what went wrong | `division by zero` |\n",
        "| Traceback | Shows where the error occurred | File name, line number, function |\n"
      ],
      "metadata": {
        "id": "go8Ra4HqUEYP"
      }
    },
    {
      "cell_type": "code",
      "source": [
        "# IndexError: when trying to access an item that doesn't exist\n",
        "menu_items = [\"Krabby Patty\", \"Coral Bits\", \"Kelp Shake\"]\n",
        "\n",
        "# This will cause an IndexError\n",
        "# print(f\"Special of the day: {menu_items[5]}\")\n",
        "\n",
        "# Output would be:\n",
        "# IndexError: list index out of range"
      ],
      "metadata": {
        "id": "Qg3SzmHP5YPO"
      },
      "execution_count": null,
      "outputs": []
    },
    {
      "cell_type": "code",
      "source": [
        "# KeyError: when using a dictionary key that doesn't exist\n",
        "prices = {\"Krabby Patty\": 2.99, \"Coral Bits\": 1.50}\n",
        "\n",
        "# This will cause a KeyError\n",
        "# print(f\"A Kelp Shake costs ${prices['Kelp Shake']}\")\n",
        "\n",
        "# Output would be:\n",
        "# KeyError: 'Kelp Shake'\n"
      ],
      "metadata": {
        "id": "kflSUi3n5g2j"
      },
      "execution_count": null,
      "outputs": []
    },
    {
      "cell_type": "markdown",
      "source": [
        "\n",
        "Learning to read and understand error messages is an important skill. Instead of being frustrated by errors, use them as helpful clues that point you toward what needs fixing in your code. In the next sections, we'll learn how to handle these errors using special Python structures."
      ],
      "metadata": {
        "id": "5xs1_bL55ZE1"
      }
    },
    {
      "cell_type": "markdown",
      "source": [
        "## Types of Exceptions: Categorizing Python's Error Messages\n",
        "\n",
        "Python has many built-in exception types, each describing a specific kind of error. Understanding these exception types helps you identify and fix problems in your code more efficiently.\n",
        "\n",
        "An **exception** is an event that occurs during program execution that disrupts the normal flow of instructions. When Python encounters a situation it can't handle, it raises (or throws) an exception.\n",
        "\n",
        "* Common Python exceptions:\n",
        "  * **`SyntaxError`**: Incorrect Python syntax (can't even run the code)\n",
        "  * **`NameError`**: Using a variable or function name that hasn't been defined\n",
        "  * **`TypeError`**: Performing an operation on an inappropriate data type\n",
        "  * **`ValueError`**: Correct type but inappropriate value\n",
        "  * **`IndexError`**: Trying to access an index that doesn't exist in a sequence\n",
        "  * **`KeyError`**: Trying to access a dictionary key that doesn't exist\n",
        "  * **`FileNotFoundError`**: Attempting to open a file that doesn't exist\n",
        "  * **`ZeroDivisionError`**: Attempting to divide by zero\n",
        "  * **`ImportError`**: Failing to import a module\n",
        "  * **`AttributeError`**: Trying to access an attribute that doesn't exist\n",
        "\n",
        "| Exception | Common Cause | Example |\n",
        "|-----------|--------------|---------|\n",
        "| TypeError | Mixing incompatible types | `\"2\" + 2` |\n",
        "| ValueError | Invalid value for operation | `int(\"hello\")` |\n",
        "| IndexError | Invalid list index | `my_list[99]` when list is shorter |\n",
        "| KeyError | Missing dictionary key | `my_dict[\"missing_key\"]` |\n",
        "| ZeroDivisionError | Division by zero | `10 / 0` |\n"
      ],
      "metadata": {
        "id": "v0QlyelEUXl2"
      }
    },
    {
      "cell_type": "code",
      "source": [
        "# ValueError - Converting invalid string to number\n",
        "# order_number = int(\"Order A123\")  ## Can't convert \"Order A123\" to integer\n",
        "# Output: ValueError: invalid literal for int() with base 10: 'Order A123'"
      ],
      "metadata": {
        "id": "OlXtUnE16CPC"
      },
      "execution_count": null,
      "outputs": []
    },
    {
      "cell_type": "code",
      "source": [
        "# TypeError - Incompatible operations\n",
        "# Trying to add a number to a list\n",
        "items = [\"Krabby Patty\", \"Kelp Shake\"]\n",
        "# total_items = items + 2  ## Can't add number to list\n",
        "# Output: TypeError: can only concatenate list (not \"int\") to list"
      ],
      "metadata": {
        "id": "lJfLb8yG6HjA"
      },
      "execution_count": null,
      "outputs": []
    },
    {
      "cell_type": "code",
      "source": [
        "# KeyError - Missing dictionary key\n",
        "menu_prices = {\"Krabby Patty\": 2.99, \"Coral Bits\": 1.50}\n",
        "# price = menu_prices[\"Kelp Shake\"]  ## Key doesn't exist\n",
        "# Output: KeyError: 'Kelp Shake'"
      ],
      "metadata": {
        "id": "fP-wkkKo6OC1"
      },
      "execution_count": null,
      "outputs": []
    },
    {
      "cell_type": "markdown",
      "source": [
        "All exception types in Python inherit from a base `Exception` class, forming a hierarchy. This inheritance lets you categorize and handle errors more effectively. In the next section, we'll learn how to handle these exceptions rather than letting them crash our program."
      ],
      "metadata": {
        "id": "1Le-ms3h5zRN"
      }
    },
    {
      "cell_type": "markdown",
      "source": [
        "## Try, Except, Finally: The Structure of Exception Handling\n",
        "\n",
        "Now that we understand what exceptions are, let's learn how to handle them. **Exception handling** is a process that lets your program respond to errors in a controlled way rather than crashing. Python provides a powerful structure for handling exceptions using `try`, `except`, `else`, and `finally` blocks.\n",
        "\n",
        "This structure allows your program to attempt potentially error-prone operations and then respond appropriately if something goes wrong, making your code more robust and user-friendly.\n",
        "\n",
        "* The exception handling structure:\n",
        "  * **`try`**: Contains code that might raise an exception\n",
        "  * **`except`**: Runs if a specified exception occurs in the try block\n",
        "  * **`else`**: Runs if no exceptions occur in the try block\n",
        "  * **`finally`**: Always runs, regardless of whether an exception occurred\n",
        "\n",
        "Let's look at the basic pattern for handling exceptions:\n",
        "\n",
        "```python\n",
        "## Basic exception handling pattern\n",
        "try:\n",
        "    ## Code that might cause an exception\n",
        "    print(\"Attempting to do something risky...\")\n",
        "    ## Risky operation here\n",
        "except:\n",
        "    ## Runs if an exception occurs in the try block\n",
        "    print(\"An error occurred!\")\n",
        "\n",
        "print(\"Program continues running\")\n",
        "```\n",
        "\n",
        "You can handle specific exception types by naming them in the except clause:\n"
      ],
      "metadata": {
        "id": "P38AEaVAUscM"
      }
    },
    {
      "cell_type": "code",
      "source": [
        "# Handling specific exception types in a Krusty Krab menu system\n",
        "try:\n",
        "    # This will cause an IndexError\n",
        "    menu_items = [\"Krabby Patty\", \"Coral Bits\", \"Kelp Shake\"]\n",
        "    special = menu_items[5]  ## Index 5 doesn't exist\n",
        "    print(f\"Today's special: {special}\")\n",
        "except IndexError:\n",
        "    # Only runs if an IndexError occurs\n",
        "    print(\"Error: We don't have that many menu items!\")\n",
        "\n",
        "# The program can continue without crashing\n",
        "print(\"Please choose from our available menu items.\")"
      ],
      "metadata": {
        "colab": {
          "base_uri": "https://localhost:8080/"
        },
        "id": "Knv9jx2jU21m",
        "outputId": "499a1730-bd3e-4f02-a2c8-25fda9067ec8"
      },
      "execution_count": null,
      "outputs": [
        {
          "output_type": "stream",
          "name": "stdout",
          "text": [
            "Error: We don't have that many menu items!\n",
            "Please choose from our available menu items.\n"
          ]
        }
      ]
    },
    {
      "cell_type": "markdown",
      "source": [
        "When exceptions are left unhandled, Python stops executing the program and shows an error message. Proper exception handling makes your programs more robust and provides better user experiences."
      ],
      "metadata": {
        "id": "Xldx6WqJU6ev"
      }
    },
    {
      "cell_type": "markdown",
      "source": [
        "## Advanced Exception Handling: Multiple Exceptions and Beyond\n",
        "\n",
        "Let's explore more advanced exception handling techniques. Python's exception handling system is versatile and can handle multiple types of exceptions with different responses.\n",
        "\n",
        "* Advanced exception handling features:\n",
        "  * **Multiple `except` blocks**: Handle different exceptions in different ways\n",
        "  * **Exception with `as`**: Capture the exception object for information\n",
        "  * **`else` block**: Code that runs only if no exceptions occur\n",
        "  * **`finally` block**: Code that always runs, regardless of exceptions\n",
        "\n",
        "Here's a more complete example showing these features:"
      ],
      "metadata": {
        "id": "d1Hg3BZsVE0g"
      }
    },
    {
      "cell_type": "code",
      "source": [
        "def place_order():\n",
        "    try:\n",
        "        # Code that might cause exceptions\n",
        "        item = input(\"What would you like to order? \")\n",
        "        quantity = int(input(\"How many would you like? \"))\n",
        "\n",
        "        # Calculate total\n",
        "        prices = {\"Krabby Patty\": 2.99, \"Coral Bits\": 1.50, \"Kelp Shake\": 1.00}\n",
        "        price = prices[item]  ## Might cause KeyError\n",
        "        total = price * quantity\n",
        "\n",
        "    except ValueError as e:\n",
        "        # Handles invalid number input\n",
        "        print(f\"Error: {e}\")\n",
        "        print(\"Please enter a valid number for quantity.\")\n",
        "        return None\n",
        "\n",
        "    except KeyError:\n",
        "        # Handles menu items that don't exist\n",
        "        print(f\"Sorry, '{item}' is not on our menu.\")\n",
        "        return None\n",
        "\n",
        "    else:\n",
        "        # Runs only if no exceptions occurred\n",
        "        print(f\"Order successful! {quantity} {item}(s) will cost ${total:.2f}\")\n",
        "        return total\n",
        "\n",
        "    finally:\n",
        "        # Always runs, regardless of exceptions\n",
        "        print(\"Thank you for visiting the Krusty Krab!\")"
      ],
      "metadata": {
        "id": "BxiJ-0f6VFk5"
      },
      "execution_count": null,
      "outputs": []
    },
    {
      "cell_type": "code",
      "source": [
        "# Uncomment this cell to run the above program\n",
        "# place_order()"
      ],
      "metadata": {
        "id": "VvLlxUJ3UtK4"
      },
      "execution_count": null,
      "outputs": []
    },
    {
      "cell_type": "markdown",
      "source": [
        "You can also catch multiple exception types with a single `except` block:\n",
        "\n",
        "```python\n",
        "try:\n",
        "    # Code that might raise different exceptions\n",
        "    # ...\n",
        "except (ValueError, KeyError, TypeError):\n",
        "    # This handles any of these three exception types\n",
        "    print(\"Something went wrong with your input!\")\n",
        "```\n",
        "\n",
        "The `finally` block is particularly useful for cleanup operations, like closing files or database connections, that should happen whether an exception occurred or not.\n",
        "\n",
        "In Jupyter notebooks, using exception handling is especially useful because it prevents your cells from crashing when errors occur, allowing you to keep working in the same notebook session."
      ],
      "metadata": {
        "id": "B_ID7LZTSw3t"
      }
    },
    {
      "cell_type": "markdown",
      "source": [
        "## Raising Exceptions: Creating Custom Error Messages\n",
        "\n",
        "Now that you know how to handle exceptions, let's learn how to create them. Python allows you to **raise** exceptions when you detect a problem, giving you control over error handling in your programs.\n",
        "\n",
        "Raising exceptions is like sounding an alarm when something goes wrong. It allows you to create meaningful error messages and enforce rules in your code.\n",
        "\n",
        "* Ways to raise exceptions:\n",
        "  * **`raise Exception(\"Message\")`**: Raise a generic exception\n",
        "  * **`raise ValueError(\"Message\")`**: Raise a specific exception type\n",
        "  * **`raise CustomException(\"Message\")`**: Raise your own custom exception\n",
        "  * **`raise`**: Re-raise the current exception (in an except block)"
      ],
      "metadata": {
        "id": "H-JdA4yOVf3R"
      }
    },
    {
      "cell_type": "code",
      "source": [
        "def process_order(items, payment_method):\n",
        "    # Check if the order is valid\n",
        "    if not items:\n",
        "        raise ValueError(\"Order cannot be empty\")\n",
        "\n",
        "    # Check if we have all items in stock\n",
        "    available_items = [\"Krabby Patty\", \"Coral Bits\", \"Kelp Shake\", \"Sailor's Surprise\"]\n",
        "    for item in items:\n",
        "        if item not in available_items:\n",
        "            raise ValueError(f\"Sorry, {item} is not on our menu\")\n",
        "\n",
        "    # Check payment method\n",
        "    accepted_payments = [\"cash\", \"credit\", \"debit\", \"krabby patty secret formula\"]\n",
        "    if payment_method not in accepted_payments:\n",
        "        raise ValueError(f\"We don't accept {payment_method} as payment\")\n",
        "\n",
        "    print(f\"Order processed successfully: {', '.join(items)}\")\n",
        "    return True"
      ],
      "metadata": {
        "id": "DupkZ4kfVgsh"
      },
      "execution_count": null,
      "outputs": []
    },
    {
      "cell_type": "code",
      "source": [
        "# First we try a bad order that will raise an exception\n",
        "try:\n",
        "    process_order([\"Krabby Patty\", \"Chum Bucket Burger\"], \"cash\")\n",
        "except ValueError as error:\n",
        "    print(f\"Could not process order: {error}\")"
      ],
      "metadata": {
        "colab": {
          "base_uri": "https://localhost:8080/"
        },
        "id": "ZzBAtqgGVjnP",
        "outputId": "0472408a-6187-4212-8b66-b8060f929e8a"
      },
      "execution_count": null,
      "outputs": [
        {
          "output_type": "stream",
          "name": "stdout",
          "text": [
            "Could not process order: Sorry, Chum Bucket Burger is not on our menu\n"
          ]
        }
      ]
    },
    {
      "cell_type": "code",
      "source": [
        "# Then try a good order that will succeed\n",
        "try:\n",
        "    process_order([\"Krabby Patty\", \"Kelp Shake\"], \"cash\")\n",
        "except ValueError as error:\n",
        "    print(f\"Could not process order: {error}\")"
      ],
      "metadata": {
        "colab": {
          "base_uri": "https://localhost:8080/"
        },
        "id": "YvDJkXmFVn9G",
        "outputId": "dc451c6c-bea2-4c4c-c0ce-4a3d572be832"
      },
      "execution_count": null,
      "outputs": [
        {
          "output_type": "stream",
          "name": "stdout",
          "text": [
            "Order processed successfully: Krabby Patty, Kelp Shake\n"
          ]
        }
      ]
    },
    {
      "cell_type": "markdown",
      "source": [
        "Raising appropriate exceptions helps other programmers understand what went wrong when using your code and makes debugging easier."
      ],
      "metadata": {
        "id": "5rd2FI2cVuq0"
      }
    },
    {
      "cell_type": "markdown",
      "source": [
        "## Defensive Programming: Preventing Errors Before They Happen\n",
        "\n",
        "**Defensive programming** is a coding approach that anticipates potential problems before they occur. Instead of just reacting to errors, you design your code to prevent errors in the first place.\n",
        "\n",
        "Think of defensive programming like a chef who checks ingredients before cooking rather than trying to fix a dish after it's been burned. It's about being proactive rather than reactive.\n",
        "\n",
        "* Defensive programming techniques:\n",
        "  * **Input validation**: Check data before processing it\n",
        "  * **Type checking**: Verify that variables are the expected type\n",
        "  * **Boundary testing**: Handle edge cases like empty lists or zero values\n",
        "  * **Default values**: Provide fallbacks when expected values aren't available\n",
        "  * **Assertions**: Use `assert` statements to verify assumptions\n",
        "  * **Graceful degradation**: Provide partial functionality when things go wrong\n",
        "\n",
        "These techniques are especially helpful in Jupyter notebooks, where cells can be run in any order and variables might not be defined as expected.\n",
        "\n",
        "\n",
        "| Defensive Technique | Example | Benefit in Jupyter |\n",
        "|---------------------|---------|-------------------|\n",
        "| Input validation | Check if discount is numeric | Prevents errors when variables change types between cells |\n",
        "| Default values | Convert single item to list | Makes function work even if run out of expected sequence |\n",
        "| Boundary checking | Limit discount to 0-50% | Prevents unreasonable values that might come from earlier cells |\n",
        "| Error reporting | Warn about invalid items | Helps users understand issues without crashing the notebook |\n",
        "\n",
        "Defensive programming is particularly valuable in Jupyter notebooks because:\n",
        "1. Cells can be run in any order, leading to unexpected variable states\n",
        "2. Previous work might be lost if an error crashes the kernel\n",
        "3. Variables maintain state between cells, so errors can persist\n",
        "4. Incremental development makes it easy to introduce inconsistencies\n",
        "\n",
        "By incorporating defensive techniques, your Python code becomes more resilient to errors, making your data analysis or programming work more efficient and less frustrating.\n"
      ],
      "metadata": {
        "id": "qJuYhLyRV8Wp"
      }
    },
    {
      "cell_type": "code",
      "source": [
        "# Defensive programming examples for a Krusty Krab ordering system\n",
        "\n",
        "def calculate_total(items, discount=0):\n",
        "    \"\"\"Calculate the total cost of ordered items with an optional discount.\"\"\"\n",
        "\n",
        "    # Defensive check: Ensure items is a list\n",
        "    if not isinstance(items, list):\n",
        "        items = [items]  ## Convert single item to list\n",
        "\n",
        "    # Defensive check: Ensure discount is valid\n",
        "    if not isinstance(discount, (int, float)):\n",
        "        print(\"Warning: Invalid discount type. Using 0% discount.\")\n",
        "        discount = 0\n",
        "\n",
        "    # Limit discount to reasonable values\n",
        "    discount = max(0, min(discount, 50))  ## Clamp between 0-50%\n",
        "\n",
        "    # Define menu with prices\n",
        "    menu = {\n",
        "        \"Krabby Patty\": 2.99,\n",
        "        \"Double Krabby Patty\": 3.99,\n",
        "        \"Coral Bits\": 1.50,\n",
        "        \"Kelp Shake\": 1.00\n",
        "    }\n",
        "\n",
        "    # Calculate total with defensive checks\n",
        "    total = 0\n",
        "    valid_items = []\n",
        "    invalid_items = []\n",
        "\n",
        "    for item in items:\n",
        "        if item in menu:\n",
        "            total += menu[item]\n",
        "            valid_items.append(item)\n",
        "        else:\n",
        "            invalid_items.append(item)\n",
        "\n",
        "    # Inform about invalid items\n",
        "    if invalid_items:\n",
        "        print(f\"Warning: {', '.join(invalid_items)} not found on menu.\")\n",
        "\n",
        "    # Apply discount\n",
        "    if discount > 0:\n",
        "        discount_amount = total * (discount / 100)\n",
        "        total -= discount_amount\n",
        "\n",
        "    return total, valid_items\n"
      ],
      "metadata": {
        "id": "tiYFOwbpV_bo"
      },
      "execution_count": null,
      "outputs": []
    },
    {
      "cell_type": "code",
      "source": [
        "# Single item\n",
        "total, items = calculate_total(\"Krabby Patty\")\n",
        "print(total, items)"
      ],
      "metadata": {
        "colab": {
          "base_uri": "https://localhost:8080/"
        },
        "id": "83q6fuTMWoUX",
        "outputId": "9b9334ed-0c7c-49ee-e28a-3128f1e36354"
      },
      "execution_count": null,
      "outputs": [
        {
          "output_type": "stream",
          "name": "stdout",
          "text": [
            "2.99 ['Krabby Patty']\n"
          ]
        }
      ]
    },
    {
      "cell_type": "code",
      "source": [
        "# Multiple items\n",
        "total, items = calculate_total([\"Krabby Patty\", \"Coral Bits\", \"Kelp Shake\"])\n",
        "print(total, items)"
      ],
      "metadata": {
        "colab": {
          "base_uri": "https://localhost:8080/"
        },
        "id": "Wml4XIBrWKrx",
        "outputId": "3f07e482-cfc7-4538-ff22-63de2372e143"
      },
      "execution_count": null,
      "outputs": [
        {
          "output_type": "stream",
          "name": "stdout",
          "text": [
            "5.49 ['Krabby Patty', 'Coral Bits', 'Kelp Shake']\n"
          ]
        }
      ]
    },
    {
      "cell_type": "code",
      "source": [
        "# Invalid item\n",
        "total, items = calculate_total([\"Krabby Patty\", \"Chum Bucket\"])\n",
        "print(total, items)  #"
      ],
      "metadata": {
        "colab": {
          "base_uri": "https://localhost:8080/"
        },
        "id": "tgrgapV4W2st",
        "outputId": "fcb8bfa1-960f-433a-e732-6281fc3988c1"
      },
      "execution_count": null,
      "outputs": [
        {
          "output_type": "stream",
          "name": "stdout",
          "text": [
            "Warning: Chum Bucket not found on menu.\n",
            "2.99 ['Krabby Patty']\n"
          ]
        }
      ]
    },
    {
      "cell_type": "code",
      "source": [
        "# Empty order\n",
        "total, items = calculate_total([])\n",
        "print(total, items)  ## Output: 0 []"
      ],
      "metadata": {
        "colab": {
          "base_uri": "https://localhost:8080/"
        },
        "id": "sWf08TFhW5K8",
        "outputId": "3ea70f13-7d63-4f8e-c01e-652a3b58e21a"
      },
      "execution_count": null,
      "outputs": [
        {
          "output_type": "stream",
          "name": "stdout",
          "text": [
            "0 []\n"
          ]
        }
      ]
    },
    {
      "cell_type": "code",
      "source": [
        "# Discount\n",
        "total, items = calculate_total([\"Krabby Patty\", \"Coral Bits\"], discount=10)\n",
        "print(total, items)"
      ],
      "metadata": {
        "colab": {
          "base_uri": "https://localhost:8080/"
        },
        "id": "lOA6yv0XW7O1",
        "outputId": "9839c7b1-dbbe-42c8-df4c-57e8d3e9e50f"
      },
      "execution_count": null,
      "outputs": [
        {
          "output_type": "stream",
          "name": "stdout",
          "text": [
            "4.041 ['Krabby Patty', 'Coral Bits']\n"
          ]
        }
      ]
    },
    {
      "cell_type": "code",
      "source": [
        "# Invalid discount type\n",
        "total, items = calculate_total([\"Krabby Patty\"], discount=\"invalid\")\n",
        "print(total, items)"
      ],
      "metadata": {
        "colab": {
          "base_uri": "https://localhost:8080/"
        },
        "id": "navFFwvvXCdw",
        "outputId": "b9c713b8-0eed-43be-f39c-8916e0e8efab"
      },
      "execution_count": null,
      "outputs": [
        {
          "output_type": "stream",
          "name": "stdout",
          "text": [
            "Warning: Invalid discount type. Using 0% discount.\n",
            "2.99 ['Krabby Patty']\n"
          ]
        }
      ]
    },
    {
      "cell_type": "markdown",
      "source": [
        "## Putting It All Together: Building Robust Python Programs\n",
        "\n",
        "Congratulations! We've covered essential concepts about Python interpreters, modules/libraries, and exception handling, with particular attention to how these concepts apply in Jupyter notebooks. Now let's see how these concepts work together to build robust, maintainable programs.\n",
        "\n",
        "A **robust program** is one that works correctly, handles errors gracefully, and is organized in a way that makes it easy to understand and modify. Building such programs requires applying all the concepts we've learned.\n",
        "\n",
        "* Key components of robust Python programs:\n",
        "  * **Well-organized code**: Split into modules and functions with clear purposes\n",
        "  * **Effective imports**: Use appropriate libraries to avoid reinventing the wheel\n",
        "  * **Comprehensive error handling**: Anticipate and handle potential exceptions\n",
        "  * **Defensive programming**: Validate inputs and handle edge cases\n",
        "  * **Clear documentation**: Help others understand what your code does\n",
        "\n",
        "Here's a simplified example showing how these concepts work together in a Jupyter notebook for a Krusty Krab ordering system:"
      ],
      "metadata": {
        "id": "O-rOiaLXXswI"
      }
    },
    {
      "cell_type": "code",
      "source": [
        "# Cell 1: Import libraries\n",
        "import datetime\n",
        "import json\n",
        "import random\n"
      ],
      "metadata": {
        "id": "JhnYkCWQXtWa"
      },
      "execution_count": null,
      "outputs": []
    },
    {
      "cell_type": "code",
      "source": [
        "# Cell 2: Define menu helper functions\n",
        "def get_menu():\n",
        "    \"\"\"Return the current menu with prices\"\"\"\n",
        "    return {\n",
        "        \"Krabby Patty\": 2.99,\n",
        "        \"Double Krabby Patty\": 3.99,\n",
        "        \"Coral Bits\": 1.50,\n",
        "        \"Kelp Shake\": 1.00\n",
        "    }\n",
        "\n",
        "def get_price(item):\n",
        "    \"\"\"Get the price of a menu item\"\"\"\n",
        "    menu = get_menu()\n",
        "    try:\n",
        "        return menu[item]\n",
        "    except KeyError:\n",
        "        print(f\"Warning: {item} not found on menu\")\n",
        "        return 0.00\n"
      ],
      "metadata": {
        "id": "hcs21D1ZXwOM"
      },
      "execution_count": null,
      "outputs": []
    },
    {
      "cell_type": "code",
      "source": [
        "# Cell 3: Define the order processing function\n",
        "def place_order(customer_name, items):\n",
        "    \"\"\"\n",
        "    Process a customer order, handling various potential errors.\n",
        "\n",
        "    Args:\n",
        "        customer_name (str): Name of the customer\n",
        "        items (list): List of items being ordered\n",
        "\n",
        "    Returns:\n",
        "        dict: Order information if successful\n",
        "        None: If order cannot be processed\n",
        "    \"\"\"\n",
        "    try:\n",
        "        # Defensive programming - validate inputs\n",
        "        if not customer_name or not isinstance(customer_name, str):\n",
        "            raise ValueError(\"Valid customer name required\")\n",
        "\n",
        "        if not items or not isinstance(items, list):\n",
        "            raise ValueError(\"Order must include at least one item\")\n",
        "\n",
        "        # Get menu and validate all items exist\n",
        "        menu = get_menu()\n",
        "        for item in items:\n",
        "            if item not in menu:\n",
        "                raise ValueError(f\"Item not available: {item}\")\n",
        "\n",
        "        # Calculate total\n",
        "        total = sum(get_price(item) for item in items)\n",
        "\n",
        "        # Create order record\n",
        "        order = {\n",
        "            \"customer\": customer_name,\n",
        "            \"items\": items,\n",
        "            \"total\": total,\n",
        "            \"timestamp\": datetime.datetime.now().isoformat(),\n",
        "            \"order_id\": f\"KK-{random.randint(1000, 9999)}\"\n",
        "        }\n",
        "\n",
        "        print(f\"Order successful! Thank you, {customer_name}!\")\n",
        "        return order\n",
        "\n",
        "    except ValueError as e:\n",
        "        # Handle input validation errors\n",
        "        print(f\"Order error: {e}\")\n",
        "        return None\n",
        "\n",
        "    except Exception as e:\n",
        "        # Catch any other unexpected errors\n",
        "        print(f\"Unexpected error: {e}\")\n",
        "        return None\n",
        "\n",
        "    finally:\n",
        "        print(\"Thank you for visiting the Krusty Krab!\")\n"
      ],
      "metadata": {
        "id": "zjV6cfctXz0j"
      },
      "execution_count": null,
      "outputs": []
    },
    {
      "cell_type": "code",
      "source": [
        "# Cell 4: Test the function (can run this cell multiple times with different inputs)\n",
        "customer = \"SpongeBob\"\n",
        "order_items = [\"Krabby Patty\", \"Kelp Shake\"]\n",
        "result = place_order(customer, order_items)\n",
        "\n",
        "# Display the result if order was successful\n",
        "if result:\n",
        "    print(f\"Order ID: {result['order_id']}\")\n",
        "    print(f\"Total: ${result['total']:.2f}\")"
      ],
      "metadata": {
        "colab": {
          "base_uri": "https://localhost:8080/"
        },
        "id": "pThSnzLDX38X",
        "outputId": "e1c3b138-ba3c-48e7-c1bc-ba8d4fdd1782"
      },
      "execution_count": null,
      "outputs": [
        {
          "output_type": "stream",
          "name": "stdout",
          "text": [
            "Order successful! Thank you, SpongeBob!\n",
            "Thank you for visiting the Krusty Krab!\n",
            "Order ID: KK-8967\n",
            "Total: $3.99\n"
          ]
        }
      ]
    },
    {
      "cell_type": "markdown",
      "source": [
        "This example in a Jupyter notebook demonstrates:\n",
        "\n",
        "1. **Python interpreter process**: Each cell sends code to the Python interpreter\n",
        "2. **Imports and modules**: Standard library modules are imported in the first cell\n",
        "3. **Function organization**: Related functions are grouped together\n",
        "4. **Exception handling**: Various exceptions are caught and handled\n",
        "5. **Defensive programming**: Inputs are validated before processing\n",
        "\n",
        "In a larger project outside of Jupyter, you might organize this code into separate `.py` files (modules) that you could import - but the core principles remain the same.\n",
        "\n",
        "Remember, you don't need to write perfect code right away. Start simple, test frequently, and refine your code as your understanding grows. Programming is a journey of continuous learning and improvement!"
      ],
      "metadata": {
        "id": "Cpl664jaX7Vi"
      }
    },
    {
      "cell_type": "markdown",
      "source": [
        "### Python Practice\n",
        "\n",
        "Here are some practice problems that focus on using modules and handling exceptions.\n",
        "\n",
        "A lot of these problems involve libraries and modules you haven't seen yet before! So, make sure to take a look at the \"hints\", and do a little research (Google, StackOverflow, AI, etc) on how these modules work. Part of the idea of these problems is to expose you to some new things!"
      ],
      "metadata": {
        "id": "sdrAu4s2n03F"
      }
    },
    {
      "cell_type": "code",
      "source": [
        "!wget https://github.com/brendanpshea/computing_concepts_python/raw/main/python_code_quiz/pyquiz.py -q -nc\n",
        "from pyquiz import PracticeTool\n",
        "practice_tool = PracticeTool(json_url='https://github.com/brendanpshea/computing_concepts_python/raw/main/python_code_quiz/python_08_libraries_exceptions.json')"
      ],
      "metadata": {
        "id": "9Hm7921bX9xr"
      },
      "execution_count": null,
      "outputs": []
    },
    {
      "cell_type": "markdown",
      "source": [
        "### Review With Quizlet"
      ],
      "metadata": {
        "id": "0zFdisRWIdV4"
      }
    },
    {
      "cell_type": "code",
      "source": [
        "%%html\n",
        "<iframe src=\"https://quizlet.com/1043151687/learn/embed?i=psvlh&x=1jj1\" height=\"700\" width=\"100%\" style=\"border:0\"></iframe>"
      ],
      "metadata": {
        "id": "ni6PNDCsIfpE",
        "outputId": "d1f33faa-38ae-4131-d252-f46d7fb3b17c",
        "colab": {
          "base_uri": "https://localhost:8080/",
          "height": 722
        }
      },
      "execution_count": null,
      "outputs": [
        {
          "output_type": "display_data",
          "data": {
            "text/plain": [
              "<IPython.core.display.HTML object>"
            ],
            "text/html": [
              "<iframe src=\"https://quizlet.com/1043151687/learn/embed?i=psvlh&x=1jj1\" height=\"700\" width=\"100%\" style=\"border:0\"></iframe>\n"
            ]
          },
          "metadata": {}
        }
      ]
    },
    {
      "cell_type": "markdown",
      "source": [
        "### Glossary\n",
        "\n",
        "| Term | Definition |\n",
        "|------|------------|\n",
        "| Python Interpreter | A program that reads and executes Python code line by line, converting human-readable code into instructions the computer can understand and execute. |\n",
        "| Execution Flow | The order in which Python reads and executes code, typically from top to bottom of a file, processing imports first, then defining functions/classes, and executing \"main\" code. |\n",
        "| Bytecode | An intermediate form Python converts your code to before execution, making Python portable across different operating systems. |\n",
        "| Python Virtual Machine (PVM) | The component that executes bytecode instructions after compilation from source code. |\n",
        "| Module | A Python file containing code (functions, classes, variables) that can be imported and used in other programs to promote organization and reusability. |\n",
        "| Library | A collection of related modules that provide pre-written code for common tasks, saving development time and effort. |\n",
        "| Built-in Modules | Modules that come with Python installation, such as math, random, and datetime, requiring no additional installation. |\n",
        "| Third-party Libraries | External code collections that need to be installed separately using tools like pip, extending Python's functionality. |\n",
        "| Import | The process of bringing external code from modules or libraries into your program for use. |\n",
        "| Standard Library | The extensive collection of modules and packages included with every Python installation, providing tools for common programming tasks. |\n",
        "| from...import | A syntax variation that imports specific components from a module rather than the entire module. |\n",
        "| import...as | A syntax that provides an alias (alternative name) for imported modules or functions to simplify code. |\n",
        "| Custom Module | A Python file you create containing reusable code that can be imported into other programs. |\n",
        "| Exception | An event that occurs during program execution that disrupts the normal flow of instructions, typically an error condition. |\n",
        "| Syntax Error | A mistake in the code structure that prevents the program from running, such as missing colons or parentheses. |\n",
        "| Runtime Exception | An error that occurs while your program is executing, like dividing by zero or accessing nonexistent data. |\n",
        "| try | A code block containing statements that might raise exceptions, marking the beginning of exception handling structure. |\n",
        "| except | A block that executes when a specified exception occurs in the preceding try block, allowing controlled responses to errors. |\n",
        "| else | An optional block in exception handling that runs only if no exceptions occur in the try block. |\n",
        "| finally | A block that always executes after try/except blocks, regardless of whether an exception occurred, often used for cleanup operations. |\n",
        "| raise | A keyword used to generate exceptions manually when a program detects problematic conditions. |\n",
        "| Defensive Programming | A coding approach that anticipates and prevents potential problems before they occur through validation, checking, and fallback mechanisms. |\n",
        "| Input Validation | A defensive programming technique that checks data before processing it to prevent errors from invalid inputs. |\n",
        "| Traceback | The error report showing where an exception occurred, including file names, line numbers, and the error's path through function calls. |\n",
        "| Type Checking | Verifying that variables are of expected types before performing operations on them, preventing type-related errors. |"
      ],
      "metadata": {
        "id": "8ihZ7PynlH5v"
      }
    },
    {
      "cell_type": "code",
      "source": [],
      "metadata": {
        "id": "x60AwshJlKpd"
      },
      "execution_count": null,
      "outputs": []
    }
  ]
}