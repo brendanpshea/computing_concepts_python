{
  "nbformat": 4,
  "nbformat_minor": 0,
  "metadata": {
    "colab": {
      "provenance": [],
      "authorship_tag": "ABX9TyMUSHG5gNwdYqsLgTPPXWwb",
      "include_colab_link": true
    },
    "kernelspec": {
      "name": "python3",
      "display_name": "Python 3"
    },
    "language_info": {
      "name": "python"
    }
  },
  "cells": [
    {
      "cell_type": "markdown",
      "metadata": {
        "id": "view-in-github",
        "colab_type": "text"
      },
      "source": [
        "<a href=\"https://colab.research.google.com/github/brendanpshea/computing_concepts_python/blob/main/IntroCS_03_Networks.ipynb\" target=\"_parent\"><img src=\"https://colab.research.google.com/assets/colab-badge.svg\" alt=\"Open In Colab\"/></a>"
      ]
    },
    {
      "cell_type": "markdown",
      "source": [
        "# Computer Networking\n",
        "### Brendan Shea, PhD (Brendan.Shea@rctc.edu)\n",
        "In the simplest terms, a **network** is a collection of devices that are interconnected and can communicate with each other. These devices can range from computers, laptops, and smartphones to printers, servers, or even IoT devices like smart fridges or thermostats. The purpose of this connection is to share and exchange information and resources.\n",
        "\n",
        "A network allows for the sharing of data and resources, such as files, applications, or even hardware like printers, in a much more efficient and collaborative manner than would be possible without the network. For example, instead of storing a file on a USB drive and physically carrying it to another computer, a network allows you to send the file directly, saving time and effort.  \n",
        "\n",
        "There are two primary types of networks: Local Area Networks (LANs) and Wide Area Networks (WANs).\n",
        "\n",
        "- A **Local Area Network (LAN)** is a network that connects devices in a relatively small area, such as a home, office, or a group of buildings. These networks are typically owned, controlled, and managed by a single person or organization.\n",
        "\n",
        "- On the other hand, a **Wide Area Network (WAN)** covers a large geographical area and connects multiple LANs together. The **internet** is the most prominent example of a WAN, which is a global network of networks.\n",
        "\n",
        "Networks can also be classified based on their design approach: **Peer-to-peer (P2P) networks**, where each device has equivalent responsibilities and capabilities, or **client-server networks**, where some computers (servers) provide services, and others (clients) use those services.\n",
        "\n",
        "Finally, Networks operate based on established rules and **protocols**, which define how the devices should transmit and receive data. These protocols ensure that networks across the globe can communicate with each other seamlessly, leading to the interconnected world we live in today. In this lesson, you'll learn some of the most important of these protocols, including the the Internet Protocol (IP), Tranmission Control Protocol (TCP), and Hypertext Transport Protocol (HTTP)."
      ],
      "metadata": {
        "id": "AdJbV1HdUejt"
      }
    },
    {
      "cell_type": "markdown",
      "source": [
        "## Brendan's Lecture\n",
        "Run the following cell to view my lecture for this chapter."
      ],
      "metadata": {
        "id": "6DsOeA1PXwOM"
      }
    },
    {
      "cell_type": "code",
      "source": [
        "from IPython.display import YouTubeVideo\n",
        "YouTubeVideo('TnlSLCrbORc', width=800, height=500)"
      ],
      "metadata": {
        "id": "a-1uDblNX2u7",
        "outputId": "be06ca15-65a3-441f-815c-fb761003754f",
        "colab": {
          "base_uri": "https://localhost:8080/",
          "height": 522
        }
      },
      "execution_count": null,
      "outputs": [
        {
          "output_type": "execute_result",
          "data": {
            "text/plain": [
              "<IPython.lib.display.YouTubeVideo at 0x7ee14abbee90>"
            ],
            "text/html": [
              "\n",
              "        <iframe\n",
              "            width=\"800\"\n",
              "            height=\"500\"\n",
              "            src=\"https://www.youtube.com/embed/TnlSLCrbORc\"\n",
              "            frameborder=\"0\"\n",
              "            allowfullscreen\n",
              "            \n",
              "        ></iframe>\n",
              "        "
            ]
          },
          "metadata": {},
          "execution_count": 1
        }
      ]
    },
    {
      "cell_type": "markdown",
      "source": [
        "## Applying the Application Layer: Protocols and Ports\n",
        "The Application Layer, the topmost layer of the four-layer network model, encompasses protocols that users often interact with directly, albeit behind the scenes of user-friendly applications. These protocols enable activities like web browsing, email communication, and file transfers. Critical to the functioning of these protocols is the concept of \"ports.\"\n",
        "\n",
        "In the context of networking, a **port** is a virtual point where network connections start and end. Ports are associated with specific processes or services in a system, and each service has a unique port number. Port numbers help the system identify the correct application or service for which the data is intended. Essentially, they are like apartment numbers in a large building, ensuring the mail (or data) gets to the correct resident (or application).\n",
        "\n",
        "Some port numbers are reserved for specific services as per the Internet Assigned Numbers Authority (IANA). These are known as well-known port numbers, ranging from 0 to 1023. Here are a few examples:\n",
        "\n",
        "| Name | Port Number | Description |\n",
        "| --- | --- | --- |\n",
        "| HTTP | 80 | Hypertext Transfer Protocol, used for transferring web content. |\n",
        "| HTTPS | 443 | HTTP Secure, a secure version of HTTP for sensitive information. |\n",
        "| FTP | 20, 21 | File Transfer Protocol, used for transferring files between hosts. Port 20 is for data transfer and port 21 for command control. |\n",
        "| SMTP | 25 | Simple Mail Transfer Protocol, used for sending emails. |\n",
        "| IMAP | 143 | Internet Message Access Protocol, used for receiving emails. |\n",
        "| POP3 | 110 | Post Office Protocol 3, also used for receiving emails. |\n",
        "| DNS | 53 | Domain Name System, translates URLs into IP addresses. |\n",
        "| SSH | 22 | Secure Shell, used for secure access to remote computers. |\n",
        "| Telnet | 23 | Telnet, a protocol used for interacting with remote computers. |\n",
        "| RDP | 3389 | Remote Desktop Protocol, used for remote desktop connections. |\n",
        "| SQL | 1433 | SQL Server, used for database management systems. |\n",
        "\n",
        "THese are just a few of the hundreds of ports. You can find out more at https://en.wikipedia.org/wiki/List_of_TCP_and_UDP_port_numbers."
      ],
      "metadata": {
        "id": "kNSsN4ThbJ50"
      }
    },
    {
      "cell_type": "markdown",
      "source": [
        "## Intro to the TCP/IP Network Model\n",
        "\n",
        "In computer networking, it's essential to have a clear understanding of how data is transmitted from one device to another. Just like sending a letter, there are several steps involved in the process, and each step plays a crucial role in ensuring that the data reaches its intended destination. To simplify this complex process, network models were developed. These models break down the communication process into layers, each with its own set of responsibilities. Here, we'll explore the  TCP/IP (\"four-layer network\") model, using the analogy of Wesley writing a letter to Buttercup (from the *Princess Bride*).\n",
        "\n",
        "The four-layer network model consists of the following layers: Application, Transport, Network, and (Data) Link. Let's dive into each layer and see how they relate to our letter-sending analogy.\n",
        "\n",
        "The **Application Layer** is the topmost layer of the four-layer network model. It is responsible for providing services to the user and defining how the user interacts with the data. In our analogy, this layer represents Wesley composing the letter to Buttercup. Wesley is using a specific format (e.g., a love letter) and language (e.g., English) to express his message. Some key terms associated with this layer include:\n",
        "\n",
        "-   A **protocol** is a set of rules governing the format and meaning of the data being transmitted. In our example, the protocol could be the specific way Wesley writes his love letter (e.g., starting with \"My dearest Buttercup,\"). In the world of computers, it might HTTP (for websites), IMAP or POP (for mail), or others.\n",
        "-   An **application** is the the software that generates the data to be transmitted. In this case, it could be a word processor Wesley uses to write the letter. In computer networks, this might be a web browers (like Chrome, Safari, or Firefox), a web server (like Apache), an email client (Outlook), etc.\n",
        "\n",
        "The **Transport Layer** is responsible for ensuring reliable data transfer between the source and the destination. It breaks the data into smaller, manageable pieces called **segments** and reassembles them at the receiving end. This layer also provides two main protocols: TCP (Transmission Control Protocol) and UDP (User Datagram Protocol).\n",
        "\n",
        "- **TCP** is like sending a letter via registered mail. When Wesley sends his letter using TCP, he expects an acknowledgment from Buttercup that she has received the letter. If Wesley doesn't receive the acknowledgment, he will resend the letter until he gets confirmation. TCP ensures reliable data delivery, error correction, and flow control. In the world of computers, this is what we use for things like web pages and email (where we care a lot about seeing *accurate* text).\n",
        "- On the other hand, **UDP** is like sending a postcard. When Wesley sends his message using UDP, he doesn't expect an acknowledgment from Buttercup. UDP is faster than TCP but does not guarantee reliable delivery or error correction. In computer networks, we use this for things like streaming video (where we are willing to sacrifice accuracy for speed).\n",
        "- **Ports** play a crucial role in allowing the Transport Layer to \"communicate with\" the application layer. They are like mailboxes for different applications. Each application on a device is assigned a unique port number. In our analogy,  maybe Wesley draws \"heart\" on his letter to let Buttercup know what \"type\" of letter it is, and maybe a bit about where and when she should open it. By contrast, she might approach an envelope that appears to contain legal documents quite differently! This process allows multiple applications to run simultaneously on a single device without confusion.\n",
        "\n",
        "The **Network Layer**  is responsible for addressing and routing the data packets across different networks. It ensures that the data reaches its intended destination by using logical addresses (IP addresses). In our analogy, this layer represents Wesley writing Buttercup's address on the envelope and handing it over to the postal service. The postal service then uses the address to determine the best route for the letter to reach Buttercup. Key terms include:\n",
        "\n",
        "-   An **IP Address** is a unique identifier assigned to each device on a network, similar to a postal address.\n",
        "-   **Routing** is the process of determining the best path for data to travel from source to destination.\n",
        "-   A **packet** is a unit of data that includes both the data itself and the necessary addressing information.\n",
        "\n",
        "The **Data Link Layer**  is responsible for the reliable transfer of data between two directly connected devices. It encapsulates the packets into frames and handles error detection and correction. In our analogy, this layer represents the postal service physically delivering the letter to Buttercup's mailbox. Key terms include:\n",
        "\n",
        "-   A **frame** is the basic unit of data transfer at the Link Layer, which includes the packet and additional header information.\n",
        "-   A **MAC Address** is a unique identifier assigned to each network interface card (NIC) in a device, used for communication within a single network segment.\n",
        "-   **Error detection** is the process of identifying and correcting errors that may occur during data transmission.\n",
        "\n",
        "When the letter reaches Buttercup's device, it goes back \"up\" the four-layer network model, from the data link layer (receiving the letter), network layer (reading the address and finding it is from Wesley), transport layer (seeing whether she needs to send a return receipt, and figuring what \"type\" of letter it will be) to application layer (reading the letter and responding."
      ],
      "metadata": {
        "id": "VYHtPbu_nIB0"
      }
    },
    {
      "cell_type": "markdown",
      "source": [
        "### HTTP: An Application-Layer Protocol for the World Wide Web\n",
        "\n",
        "The **Hyptertext Transport Protocol (HTTP)** in an application-layer protocolinvented by Tim Berners-Lee, the creator of the World Wide Web, and his team at CERN in 1989. The purpose of HTTP is to allow the fetching of resources, such as HTML documents, images, and videos, from servers and displaying them on a client's browser. Essentially, HTTP is the protocol that enables communication between web browsers (clients) and web servers, allowing us to surf the internet.\n",
        "\n",
        "HTTP is critically important because it forms the foundation of any data exchange on the web. It's not an exaggeration to say that almost every action you perform on the internet---from clicking a link, to typing a URL into your browser's address bar, to submitting a form on a webpage---starts an HTTP request.\n",
        "HTTP is based on the request-response model. That means the communication usually begins with a client (for instance, your browser) making a request to a server. The server, upon receiving this request, processes it and sends a response back to the client.  Here's a simplified step-by-step breakdown of how this works:\n",
        "\n",
        "1.  *The Client Sends a Request.* Let's say you want to visit `www.example.com`. When you type this URL into your browser and hit Enter, your browser starts an HTTP request. This request is a message which includes information like the desired action (often \"GET\" to fetch data, though there are other methods), the URL, and the HTTP version.\n",
        "\n",
        "2.  *The Server Processes the Request.* The HTTP request message is received by the web server hosting `www.example.com`. The server processes the request, interpreting what resources are asked for and what action the client wants to perform.\n",
        "\n",
        "3.  *The Server Sends a Response.* After processing, the server forms an HTTP response and sends it back to the client. This response includes a status code that indicates whether the request was successful (for example, \"200\" for success) or if there were any errors (for example, \"404\" means the requested page was not found). Along with the status code, if the request was successful, the server includes the requested resource in the response---for instance, the HTML of a web page.\n",
        "\n",
        "4.  *The Client Displays the Response.* Once your browser receives the HTTP response, it interprets the data and renders the web page on your screen. If the requested resource is an HTML file, the browser reads the HTML, CSS, and JavaScript, fetches any necessary additional files (like images), and displays the formatted page for you to view.\n",
        "\n",
        "Remember, this is a simplified explanation. In reality, there's a lot more complexity involved, including things like HTTP headers for transmitting metadata, cookies for maintaining state, and HTTPS for securing communications. But at its heart, HTTP is about sending a request from a client to a server, and returning a response from the server back to the client. This basic model underlies much of the activity on the internet."
      ],
      "metadata": {
        "id": "jh4LquZ9dI9R"
      }
    },
    {
      "cell_type": "markdown",
      "source": [
        "## Two Ways to Transport Data (TCP and UDP)\n",
        "\n",
        "The Transport Layer is essential for network communication, facilitating end-to-end services between applications. It ensures reliable and transparent data transfer between end systems (hosts) through protocols like **TCP (Transmission Control Protocol)** and **UDP (User Datagram Protocol).**\n",
        "\n",
        "TCP is all about reliable and orderly delivery of data packets. It's like a tracked mail service - you know your data will get there and in the order you sent it. Key features of TCP include reliable transmission (it retransmits lost or corrupted packets), flow control (managing the data transfer rate to avoid overwhelming the receiver), ordered delivery (rearranging packets that arrive out of order), and congestion control (preventing traffic bottlenecks).\n",
        "\n",
        "UDP, on the other hand, is simpler and connectionless. It's like sending a letter without tracking - faster but without guarantees of delivery or order. UDP doesn't provide TCP's reliability mechanisms, making it faster and suitable for applications where speed is more critical than precision, like live broadcasts or online games.\n",
        "\n",
        "Both TCP and UDP use port numbers to direct data to the correct application on a network device. Key features of these protocols include:\n",
        "\n",
        "| Feature | TCP | UDP |\n",
        "| --- | --- | --- |\n",
        "| Connection | Connection-oriented (requires connection setup) | Connectionless (no setup required) |\n",
        "| Reliability | Ensures data delivery and order | Does not guarantee delivery or order |\n",
        "| Speed | Slower due to reliability mechanisms | Faster due to lack of overhead |\n",
        "| Data Flow Control | Includes flow and congestion control mechanisms | No flow control, open to congestion |\n",
        "| Use Cases | Ideal for applications requiring reliability, such as web browsing, email | Suited for real-time applications, like gaming, streaming |\n",
        "| Header Size | Larger headers due to control information | Smaller headers, leading to less overhead |"
      ],
      "metadata": {
        "id": "5muJO23HeYzc"
      }
    },
    {
      "cell_type": "markdown",
      "source": [
        "## How the Internet Protocol (IP) Enables Global Connectivity\n",
        "The Internet Layer, also known as the network layer, is responsible for receiving segments from the Transport Layer and packaging them into packets. But perhaps its most significant role is addressing, routing, and forwarding these packets to allow communication between networks, hence facilitating global connectivity. Let's dive into this.\n",
        "\n",
        "1. At the heart of this process is the **Internet Protocol (IP)**, which defines the system of IP addresses. An IP address is a unique identifier assigned to each device connected to a network that uses IP for communication. There are two types of IP addresses: IPv4 and IPv6. **IPv4 addresses** are composed of four sets of numbers, each ranging from 0 to 255, separated by periods (e.g., 192.168.1.1). **IPv6 addresses**, which are being more widely used due to the exhaustion of IPv4 addresses, are composed of eight groups of four hexadecimal digits, separated by colons (e.g., 2001:0db8:85a3:0000:0000:8a2e:0370:7334).  Each IP address in an IP network must be unique within that network.\n",
        "\n",
        "2. The Internet Layer is also responsible for routing data packets to their destinations using IP addresses. Each **router** connected to the network has a table known as the **routing table** that stores routes (paths) to different network destinations. It uses these tables to decide the best path for forwarding the packets.  When a data packet is sent from one network to another, it usually passes through several routers. Each router examines the IP address of the packet's destination and consults its routing table to decide which way to send the packet. The packet is forwarded from router to router along the path until it reaches its destination network.\n",
        "\n",
        "3. The process of sending the packets from one network to another, as decided by the routers, is known as **forwarding**. The routers at the boundary of each network are responsible for forwarding the packets to the next network on the path to the destination.\n",
        "\n",
        "4. Each device connected to a network receives an IP address, which can be either public or private. A **public IP address** is a globally unique address that is assigned to a device, like a router, that connects directly to the internet. These addresses are used across the entire internet to locate networked devices. **Private IP addresses**, on the other hand, are used within private networks such as home, office, or enterprise networks. These addresses are not routable on the open internet and therefore provide a layer of security by inherently hiding the networked device from the world. Common private IPv4 address ranges include 10.0.0.0 to 10.255.255.255, 172.16.0.0 to 172.31.255.255, and 192.168.0.0 to 192.168.255.255.\n",
        "\n",
        "\n",
        "The combination of unique IP addressing and the capability of IP routing and forwarding enables global connectivity. Regardless of the network, each device can send packets to any other device in the world, as long as they are both connected to the internet. The packets are routed through various networks and routers on their journey, each hop getting them closer to their destination, until they ultimately reach the correct device."
      ],
      "metadata": {
        "id": "p2XEwncVgHak"
      }
    },
    {
      "cell_type": "markdown",
      "source": [
        "### A Little History of the Internet\n",
        "The internet is a \"network of networks\" that allows computers all around the world to communicate with each other. Initially created for academic and military purposes, it has become an essential tool for billions of people and has influenced almost every aspect of modern life. Here are a few of the major milestones.\n",
        "\n",
        "\n",
        "| Time Period | Development/Technology | Description/Significance |\n",
        "| --- | --- | --- |\n",
        "| 1960s | ARPANET | The Advanced Research Projects Agency Network (ARPANET) was the first major packet-switching network, laying the groundwork for future internet development. |\n",
        "| 1971 | Email | Ray Tomlinson introduces email, revolutionizing communication over networks. |\n",
        "| 1974 | TCP/IP | Development of Transmission Control Protocol (TCP) and Internet Protocol (IP), foundational protocols for data transmission on the internet. |\n",
        "| 1980s | Domain Name System (DNS) | DNS is introduced for translating domain names into IP addresses, making the internet more user-friendly. |\n",
        "| 1989 | World Wide Web (WWW) | Tim Berners-Lee invents the World Wide Web, a system for accessing and sharing information over the internet, using Hypertext Transfer Protocol (HTTP). |\n",
        "| Early 1990s | Web Browsers | The introduction of web browsers like Mosaic, later Netscape, simplifies access to the Web, leading to widespread public use. |\n",
        "| Mid 1990s | Commercialization of the Internet | The internet transitions from a research and academic network to a commercial and public service. |\n",
        "| Late 1990s | Search Engines | Development of search engines like Google revolutionizes information retrieval on the internet. |\n",
        "| Early 2000s | Broadband Expansion | The expansion of broadband internet increases speed and accessibility, enabling more sophisticated online services. |\n",
        "| Mid 2000s | Social Media | The rise of social media platforms like Facebook and Twitter changes the way people communicate and consume information online. |\n",
        "| Late 2000s to 2010s | Cloud Computing and Mobile Internet | Cloud computing services become mainstream; the proliferation of smartphones leads to the widespread adoption of mobile internet. |\n",
        "| 2010s | Internet of Things (IoT) | The expansion of IoT connects a wide range of devices to the internet, further integrating digital technology into everyday life. |\n",
        "| 2010s - 2020s | Artificial Intelligence and Big Data | Advances in AI and big data analytics transform how data is processed and used on the internet, impacting various sectors from healthcare to commerce. |\n",
        "| 2020s | 5G Technology | Deployment of 5G networks promises faster speeds, lower latency, and supports the growing demand for IoT and mobile internet. |\n",
        "\n",
        "\n",
        "The table highlights key milestones in internet development, showcasing its evolution from a research project to a global communications and information platform. Each decade brought significant innovations, from fundamental protocols to user-friendly interfaces, commercialization, information retrieval, social interaction, and ever-increasing connectivity. Today, AI and big data are shaping the future, while 5G promises to unlock further possibilities for the internet's impact on everyday life."
      ],
      "metadata": {
        "id": "qGQ50AgoldlX"
      }
    },
    {
      "cell_type": "markdown",
      "source": [
        "## Network Interace (\"Data Link\") Layer\n",
        "The **Network Interface Layer**, also known as the Link or Data Link Layer, is the layer that interfaces directly with the physical network. It forms the bridge between the logical aspect of network communication, handled by the layers above it, and the physical reality of transmitting and receiving data over hardware.\n",
        "\n",
        "Imagine you're sending a letter to a friend. You have your message ready, but you can't just hand your words over to the mail carrier. You need to put your message inside an envelope with your friend's address on it and your return address. The envelope is akin to a \"frame\" in network terms. Just like the envelope encapsulates your letter, a frame encapsulates the data to be transmitted over the network. Each frame includes not just the data, or \"payload\", but also source and destination addresses, as well as other control information to ensure successful transmission.\n",
        "\n",
        "Imporant technologies and protocols include:\n",
        "\n",
        "| Technology/Protocol | Description and Role |\n",
        "| --- | --- |\n",
        "| Ethernet | This is used in wired networks to connect devices like computers. It puts data into a format (called frames) for sending over cables. These frames include addresses to identify each device, the data being sent, and checks for errors. |\n",
        "| Wi-Fi (IEEE 802.11) | Similar to Ethernet, but for wireless networks. It sends data over air using radio signals. Just like Ethernet, it uses frames with addresses and data, but it also has special ways to deal with many devices using the same air space. |\n",
        "| MAC Addresses | These are unique numbers for every device in a network, like an ID card for each computer or phone. They help make sure the data sent over a network reaches the right device. |\n",
        "| Switches and Bridges | These are like traffic officers for networks. They look at the addresses on data and decide where to send it in the network, making sure data goes to the right device. |\n",
        "| ARP (Address Resolution Protocol) | This is used when a device knows the IP address (like a postal address for the internet) of another device but needs to find out its MAC address (the device's unique ID). |\n",
        "| PPP (Point-to-Point Protocol) | A method for connecting two network devices directly, like a direct phone call between two computers. It wraps up data in a special way so it can be sent over these direct connections. |\n",
        "| Frame Relay | This is a way to send data quickly over a network, especially used in big telecommunications networks. It chops data into pieces and sends them in an efficient way to speed up delivery. |\n",
        "| VLANs (Virtual Local Area Networks) | This technology divides a big network into smaller, separate networks. This helps manage the network better and can keep certain data more secure. |\n",
        "\n",
        "These technologies and protocols work in tandem to ensure that data is correctly packaged into frames, sent over the physical network, and accurately delivered to the right device. This process begins with encapsulating data in Ethernet or Wi-Fi frames, which include the MAC addresses of the sending and receiving devices. If the MAC address of the receiving device isn't known, ARP is used to find it. Switches or bridges then forward these frames to the right destination within the network"
      ],
      "metadata": {
        "id": "JmGrjBsmt62p"
      }
    },
    {
      "cell_type": "markdown",
      "source": [
        "## Case Study: the Network Ninja\n",
        "\n",
        "In the digital dojo of \"Shadow Strike: Ninja Networks,\" players are not only mastering ancient ninja arts but also navigating the complex world of network communications. Join Network Ninja and Network Novice as they slice through the complexities of the four-layer Network Model, using \"Shadow Strike: Ninja Networks\" as their guide.\n",
        "\n",
        "* * * * *\n",
        "\n",
        "Network Novice: Absolutely, Ninja! But networking stuff confuses me. How does our game actually connect and play so smoothly?\n",
        "\n",
        "Network Ninja: Let's break it down using the four-layer Network Model. Imagine each layer as a different ninja skill level.\n",
        "\n",
        "### Level 1: Link Layer - \"The Hardware Connection\"\n",
        "\n",
        "Network Ninja: First up is the Link Layer. Think of it as your game console connecting to the internet. At the Link Layer, your device connects to the internet. This involves physical and logical network protocols. When your Android device connects via Wi-Fi, it uses the IEEE 802.11 protocol. Your phone's Network Interface Card (NIC) gets a unique MAC address, which acts like a ninja's unique identifier. This layer ensures that data is properly formatted for the physical network.\n",
        "\n",
        "Network Novice: Got it! My phone's Wi-Fi connects to the router, like hooking up to the ninja network.\n",
        "\n",
        "### Level 2: Internet Layer - \"The Pathfinding Ninja\"\n",
        "\n",
        "Network Ninja: Next, the Internet Layer. Here's where IP addresses come in. Think of IP addresses as the exact location of a ninja clan within the village. When you play \"Shadow Strike,\" data packets are sent from your device's IP address to the server's IP address. This layer uses routing protocols to determine the most efficient path for the data, navigating through the complex web of the internet, much like a ninja navigating through a forest.\n",
        "\n",
        "Network Novice: So, it's like sending a ninja scroll to a specific location in the village. But how does it find the fastest route?\n",
        "\n",
        "Network Ninja: Exactly! The Internet Layer figures out the most efficient path for your data packets, just like a ninja choosing the quickest rooftops to leap across.\n",
        "\n",
        "### Level 3: Transport Layer - \"The Trustworthy Courier\"\n",
        "\n",
        "Network Ninja: The Transport Layer is crucial for how data packets are handled. Here, TCP and UDP come into play. TCP is like a reliable ninja who ensures that every part of your secret message is received and in the correct order. It's used for aspects of the game where reliability is key, like loading player profiles or in-game purchases.\n",
        "\n",
        "Network Novice: What about UDP? How does it fit into our game?\n",
        "\n",
        "Network Ninja: UDP is the agile messenger. It's faster because it doesn't confirm the delivery of packets or worry about their order. This is great for real-time game actions where speed is more critical than ensuring every single packet arrives. It's like sending smoke signals instead of detailed letters – quick but with less information.\n",
        "\n",
        "### Level 4: Application Layer - \"The Art of Shadow Strike\"\n",
        "\n",
        "Network Ninja: Finally, the Application Layer is where \"Shadow Strike: Ninja Networks\" lives. This is all about the specific software - our game - that you're interacting with. Here, Application-layer protocols like HTTP (for web-based game services) and custom protocols for the game itself operate. Port numbers are crucial; they direct your connection to the specific service in the vast internet world. Imagine port numbers as doors to different rooms in a ninja mansion, each leading to a different activity or game. Our game might use a specific port, like 5555, to differentiate its traffic from other internet services.\n",
        "\n",
        "Network Novice: So, when I connect to the game, my device uses this port number to reach the exact place where \"Shadow Strike\" is happening?\n",
        "\n",
        "Network Ninja: Exactly right! Each layer, from your physical connection to the specific application, works together to deliver a seamless and engaging gaming experience, just like a well-coordinated ninja team.\n",
        "\n",
        "Network Novice: Thanks, Ninja! I feel ready to conquer both the game and its network mysteries!"
      ],
      "metadata": {
        "id": "4mm6XbzGg76W"
      }
    },
    {
      "cell_type": "markdown",
      "source": [
        "![ninjas.jpg](data:image/jpeg;base64,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)"
      ],
      "metadata": {
        "id": "41N3vTOU-EEi"
      }
    },
    {
      "cell_type": "markdown",
      "source": [
        "## Questions: Network Models\n",
        "\n",
        "1. The internet is often described as a \"network of networks.\" What do you think this means? How does this concept relate to the idea of interconnectivity in our modern world?\n",
        "2. In the four-layer network model, each layer has specific responsibilities. Choose one layer and explain its role using the analogy of sending a letter, as described in the text. How does this layer contribute to the overall process of data transmission?\n",
        "3. The text mentions that HTTP is the protocol that enables communication between web browsers and web servers. Can you think of other application-layer protocols you might use in your daily life? What do you think is the importance of having these standardized protocols?\n",
        "4. TCP and UDP are two different transport layer protocols. When might you choose to use TCP over UDP, or vice versa? Consider the trade-offs between reliability and speed in different scenarios.\n",
        "5. IP addresses are crucial for routing data on the internet. What's the difference between a public and a private IP address? Why do you think private IP addresses are used, and in what situations might they be particularly useful?\n"
      ],
      "metadata": {
        "id": "3yq4LqxQyMka"
      }
    },
    {
      "cell_type": "markdown",
      "source": [
        "### Answers: Network Model\n",
        "\n",
        "1.\n",
        "\n",
        "2.\n",
        "\n",
        "3.\n",
        "\n",
        "4.\n",
        "\n",
        "5."
      ],
      "metadata": {
        "id": "yyJ-9Zi8yfWG"
      }
    },
    {
      "cell_type": "markdown",
      "source": [
        "## A Short Course in HTML\n",
        "**Hypertext Markup Language (HTML)** is the standard markup language for creating web pages and web applications. It's a language that structures content on the internet and forms the building blocks of all websites. HTML does this by using tags that define the content type, such as headers, paragraphs, lists, links, images, and more.  Here's why we use HTML:\n",
        "\n",
        "1.   HTML is universally understood by browsers across platforms (Windows, Mac, Linux, etc.) and devices (desktop, laptop, mobile, etc.). This makes it essential for creating content on the internet.\n",
        "\n",
        "2.   HTML provides the structure to web pages. It allows you to define various elements like headings, paragraphs, lists, tables, images, forms, etc., making your content readable and understandable by web browsers.\n",
        "\n",
        "3.   HTML allows embedding various types of media like images, videos, audio, etc., into the web page.\n",
        "\n",
        "4.   HTML allows web pages to connect to each other via hyperlinks, thus creating the \"web\" of connections that is the internet.\n",
        "\n",
        "5.  Other technologies like CSS and JavaScript are often used in combination with HTML. CSS is used to control the look and feel of the HTML content, and JavaScript is used to add interactivity to HTML web pages.\n",
        "\n",
        "6.  HTML is good for search engine optimization (SEO). Search engines use the tags in HTML to understand the content of web pages, which helps in getting your website discovered.\n",
        "\n",
        "Understanding HTML is fundamental to web development and other related fields. In this section, we'll learn the basics of HTML."
      ],
      "metadata": {
        "id": "mkIgvIx5t32U"
      }
    },
    {
      "cell_type": "markdown",
      "source": [
        "### A Simple Structure\n",
        "An HTML document has a specific structure. This structure allows browsers to interpret the content correctly. Here are the main components of an HTML document:\n",
        "\n",
        "1.  **DOCTYPE Declaration.** This is the first line of an HTML document and it represents the document type declaration. It helps the browser to understand the version of the HTML being used. For HTML5, this is declared as `<!DOCTYPE html>`.\n",
        "\n",
        "2.  The **<html>** tag is the root element of an HTML page, which contains all other HTML elements. It is marked with `<html>` tags.\n",
        "\n",
        "3. The **`<head>`** element contains meta-information about the HTML document. This is not content that is shown on the webpage itself, but information for the browser and search engines. This includes:\n",
        "\n",
        "    -    The **`<title>`** tag specifies the title of the web page. The title is what shows up in the browser tab and is also used by search engines.\n",
        "    -   **Meta tags** include various details about the HTML document. This could be character encoding declaration (like `<meta charset=\"UTF-8\">`), information for search engine (like meta description), and viewport settings for responsive design.\n",
        "4.  The **`<body>`** tag contains the content that is displayed on the web page. This could be text, images, videos, games, clickable buttons, hyperlinks, etc. The body is where you structure your content with various HTML tags like headers (h1-h6), paragraphs (p), lists (ul and ol), links (a), images (img), etc.\n",
        "\n",
        "So a very basic HTML document would look something like this:"
      ],
      "metadata": {
        "id": "0ixXUaX0vFjS"
      }
    },
    {
      "cell_type": "code",
      "source": [
        "%%html\n",
        "\n",
        "<!DOCTYPE html>\n",
        "<html>\n",
        "  <head>\n",
        "    <title>Page Title</title>\n",
        "    <meta charset=\"UTF-8\">\n",
        "  </head>\n",
        "  <body>\n",
        "    <h1>My First Heading</h1>\n",
        "    <p>My first paragraph.</p>\n",
        "  </body>\n",
        "</html>\n"
      ],
      "metadata": {
        "colab": {
          "base_uri": "https://localhost:8080/",
          "height": 100
        },
        "id": "ON9qxIA6vRrX",
        "outputId": "b2754ebd-45ae-4ded-ca13-309b1532fd15"
      },
      "execution_count": null,
      "outputs": [
        {
          "output_type": "display_data",
          "data": {
            "text/plain": [
              "<IPython.core.display.HTML object>"
            ],
            "text/html": [
              "\n",
              "<!DOCTYPE html>\n",
              "<html>\n",
              "  <head>\n",
              "    <title>Page Title</title>\n",
              "    <meta charset=\"UTF-8\">\n",
              "  </head>\n",
              "  <body>\n",
              "    <h1>My First Heading</h1>\n",
              "    <p>My first paragraph.</p>\n",
              "  </body>\n",
              "</html>\n"
            ]
          },
          "metadata": {}
        }
      ]
    },
    {
      "cell_type": "markdown",
      "source": [
        "### Adding Content to Our HTML Page\n",
        "HTML provides numerous elements to structure your content effectively. Let's walk through how you might structure a simple page about \"Networks\" using different HTML elements.\n"
      ],
      "metadata": {
        "id": "hsJ_1qZ1wAOV"
      }
    },
    {
      "cell_type": "code",
      "source": [
        "%%html\n",
        "\n",
        "<!DOCTYPE html>\n",
        "<html>\n",
        "  <head>\n",
        "    <title>Introduction to Networks</title>\n",
        "    <meta charset=\"UTF-8\">\n",
        "  </head>\n",
        "  <body>\n",
        "    <header>\n",
        "      <h1>Understanding Networks</h1>\n",
        "      <nav>\n",
        "        <ul>\n",
        "          <li><a href=\"#types\">Types of Networks</a></li>\n",
        "          <li><a href=\"#components\">Components of a Network</a></li>\n",
        "          <li><a href=\"#uses\">Uses of Networks</a></li>\n",
        "        </ul>\n",
        "      </nav>\n",
        "    </header>\n",
        "\n",
        "    <section id=\"types\">\n",
        "      <h2>Types of Networks</h2>\n",
        "      <p>Networks can be classified into different types such as LAN, WAN, MAN, PAN, etc.</p>\n",
        "    </section>\n",
        "\n",
        "    <section id=\"components\">\n",
        "      <h2>Components of a Network</h2>\n",
        "      <p>A network consists of various components like nodes, routers, modems, etc.</p>\n",
        "    </section>\n",
        "\n",
        "    <section id=\"uses\">\n",
        "      <h2>Uses of Networks</h2>\n",
        "      <p>Networks are used for various purposes including communication, data sharing, resource sharing, etc.</p>\n",
        "\n",
        "      Here is an image from Wikipedia. <img src = \"https://upload.wikimedia.org/wikipedia/commons/a/ab/Internet_of_Things.jpg\" width = 200>\n",
        "    </section>\n",
        "\n",
        "    <footer>\n",
        "      <p>Created for Brendan's Intro to CS Course</p>\n",
        "    </footer>\n",
        "  </body>\n",
        "</html>\n"
      ],
      "metadata": {
        "colab": {
          "base_uri": "https://localhost:8080/",
          "height": 578
        },
        "id": "lPvgq9cuwN4W",
        "outputId": "957dec12-d008-4b20-ff5f-e90225f2996a"
      },
      "execution_count": null,
      "outputs": [
        {
          "output_type": "display_data",
          "data": {
            "text/plain": [
              "<IPython.core.display.HTML object>"
            ],
            "text/html": [
              "%%writefile index.html\n",
              "\n",
              "<!DOCTYPE html>\n",
              "<html>\n",
              "  <head>\n",
              "    <title>Introduction to Networks</title>\n",
              "    <meta charset=\"UTF-8\">\n",
              "  </head>\n",
              "  <body>\n",
              "    <header>\n",
              "      <h1>Understanding Networks</h1>\n",
              "      <nav>\n",
              "        <ul>\n",
              "          <li><a href=\"#types\">Types of Networks</a></li>\n",
              "          <li><a href=\"#components\">Components of a Network</a></li>\n",
              "          <li><a href=\"#uses\">Uses of Networks</a></li>\n",
              "        </ul>\n",
              "      </nav>\n",
              "    </header>\n",
              "\n",
              "    <section id=\"types\">\n",
              "      <h2>Types of Networks</h2>\n",
              "      <p>Networks can be classified into different types such as LAN, WAN, MAN, PAN, etc.</p>\n",
              "    </section>\n",
              "\n",
              "    <section id=\"components\">\n",
              "      <h2>Components of a Network</h2>\n",
              "      <p>A network consists of various components like nodes, routers, modems, etc.</p>\n",
              "    </section>\n",
              "\n",
              "    <section id=\"uses\">\n",
              "      <h2>Uses of Networks</h2>\n",
              "      <p>Networks are used for various purposes including communication, data sharing, resource sharing, etc.</p>\n",
              "\n",
              "      Here is an image from Wikipedia. <img src = \"https://upload.wikimedia.org/wikipedia/commons/a/ab/Internet_of_Things.jpg\" width = 200>\n",
              "    </section>\n",
              "\n",
              "    <footer>\n",
              "      <p>Created for Brendan's Intro to CS Course</p>\n",
              "    </footer>\n",
              "  </body>\n",
              "</html>\n"
            ]
          },
          "metadata": {}
        }
      ]
    },
    {
      "cell_type": "markdown",
      "source": [
        "In this example:\n",
        "\n",
        "1.  The `<title>` tag in the head sets the title of the webpage that is shown in the browser tab as \"Introduction to Networks\".\n",
        "\n",
        "2.  The `<header>` tag is used for introductory content or navigation links. In this example, it contains a heading and a navigation bar with anchor links to different sections of the webpage.\n",
        "\n",
        "3.   The `<h1>` tag defines the main heading of the webpage, which is \"Understanding Networks\" in this case.\n",
        "\n",
        "4.  The `<nav>` tag is used to define a set of navigation links, and the `<ul>` tag defines an unordered list with `<li>` tags as list items. Each list item contains an anchor link (`<a>`) to the respective section.\n",
        "\n",
        "5.  The `<section>` tag defines a standalone section. Each section has a unique id that anchor links can refer to.\n",
        "\n",
        "6.  The `<h2>` tag is used for subheadings, which in this case are \"Types of Networks\", \"Components of a Network\", and \"Uses of Networks\".\n",
        "\n",
        "7.  The `<p>` tag defines a paragraph. Here, it's used to provide a brief description of each section's topic.\n",
        "\n",
        "8. The `<img>` tag is used to display an image (in this case, one from Wikipedia).\n",
        "\n",
        "9. The `<footer>` tag is used to define the footer of a webpage. It can contain information like authorship, copyright information, contact information, etc.\n",
        "\n",
        "This is a basic example, and HTML provides many other elements to structure content in more complex and specific ways, including tags for images, tables, forms, and more. It also supports inline CSS and JavaScript to add style and functionality to the page."
      ],
      "metadata": {
        "id": "Z1v5c42twh_I"
      }
    },
    {
      "cell_type": "markdown",
      "source": [
        "## Styling with CSS\n",
        "CSS, which stands for Cascading Style Sheets, is a language that is used to describe how HTML elements on a web page should appear. While HTML provides the structure of web pages (i.e., it defines what elements are present on the page), CSS is used to control the layout and appearance of these elements. It can control things like the color of text, the style of fonts, the spacing between elements, how elements are positioned and laid out, as well as various visual effects.\n",
        "\n",
        "So, in essence, if HTML is the skeleton of the webpage, CSS would be its skin and clothing.\n",
        "\n",
        "Here's a very simple example of how CSS interacts with HTML:"
      ],
      "metadata": {
        "id": "ENFtx02MyU-z"
      }
    },
    {
      "cell_type": "code",
      "source": [
        "%%html\n",
        "\n",
        "<!DOCTYPE html>\n",
        "<html>\n",
        "  <head>\n",
        "    <style>\n",
        "      /* CSS goes here */\n",
        "      body {\n",
        "        background-color: lightblue;\n",
        "      }\n",
        "\n",
        "      h1 {\n",
        "        color: navy;\n",
        "        text-align: center;\n",
        "      }\n",
        "\n",
        "      p {\n",
        "        font-family: verdana;\n",
        "        font-size: 20px;\n",
        "        color: black;\n",
        "      }\n",
        "    </style>\n",
        "  </head>\n",
        "  <body>\n",
        "    <h1>Welcome to the Networks Page!</h1>\n",
        "    <p>This is a paragraph explaining something about networks.</p>\n",
        "  </body>\n",
        "</html>\n"
      ],
      "metadata": {
        "colab": {
          "base_uri": "https://localhost:8080/",
          "height": 107
        },
        "id": "wEkeQ73Ryfea",
        "outputId": "b6f2ceb5-49a4-482f-e6a1-079ee6d3b13f"
      },
      "execution_count": null,
      "outputs": [
        {
          "output_type": "display_data",
          "data": {
            "text/plain": [
              "<IPython.core.display.HTML object>"
            ],
            "text/html": [
              "\n",
              "<!DOCTYPE html>\n",
              "<html>\n",
              "  <head>\n",
              "    <style>\n",
              "      /* CSS goes here */\n",
              "      body {\n",
              "        background-color: lightblue;\n",
              "      }\n",
              "\n",
              "      h1 {\n",
              "        color: navy;\n",
              "        text-align: center;\n",
              "      }\n",
              "\n",
              "      p {\n",
              "        font-family: verdana;\n",
              "        font-size: 20px;\n",
              "        color: black;\n",
              "      }\n",
              "    </style>\n",
              "  </head>\n",
              "  <body>\n",
              "    <h1>Welcome to the Networks Page!</h1>\n",
              "    <p>This is a paragraph explaining something about networks.</p>\n",
              "  </body>\n",
              "</html>\n"
            ]
          },
          "metadata": {}
        }
      ]
    },
    {
      "cell_type": "markdown",
      "source": [
        "In this example, we've included CSS directly in our HTML document within the `<style>` tags in the `<head>` of the document.\n",
        "\n",
        "The CSS starts with a selector (`body`, `h1`, and `p` in this case), which is the HTML element that you want to style. The styles themselves are defined within curly brackets `{}`. For example, for the `body` selector, the style is `background-color: lightblue;`. This sets the background color of the entire webpage to light blue.\n",
        "\n",
        "Similarly, for the `h1` selector, we've set the text color to navy and centered the text. And for the `p` selector, we've set the font family (the type of font) to verdana, the font size to 20 pixels, and the color to black.In this example, we've included CSS directly in our HTML document within the `<style>` tags in the `<head>` of the document.\n",
        "\n",
        "The CSS starts with a selector (`body`, `h1`, and `p` in this case), which is the HTML element that you want to style. The styles themselves are defined within curly brackets `{}`. For example, for the `body` selector, the style is `background-color: lightblue;`. This sets the background color of the entire webpage to light blue.\n",
        "\n",
        "Similarly, for the `h1` selector, we've set the text color to navy and centered the text. And for the `p` selector, we've set the font family (the type of font) to verdana, the font size to 20 pixels, and the color to black."
      ],
      "metadata": {
        "id": "YWYAtv6ayuTa"
      }
    },
    {
      "cell_type": "markdown",
      "source": [
        "### Summary: Basic HTML tags\n",
        "| HTML Syntax | Task |\n",
        "| --- | --- |\n",
        "| `<b>apple</b>` | HTML: Print \"apple\" in bold |\n",
        "| `<img src=\"image.jpeg\" width=\"100\" height=\"100\"/>` | HTML: Include \"image.jpeg\" with size 100x100 |\n",
        "| `<a href=\"https://www.google.com\">Go to Google</a>` | HTML: Link to google.com with text \"Go to Google\" |\n",
        "| `<h1>Hello</h1>` | HTML: Create a header level 1 with text \"Hello\" |\n",
        "| `<p>This is a paragraph</p>` | HTML: Create a paragraph with text \"This is a paragraph\" |\n",
        "| `<ul><li>one</li><li>two</li></ul>` | HTML: Create an unordered list with \"one\" and \"two\" |\n",
        "| `<tr><td>Cell 1</td><td>Cell 2</td></tr>` | HTML: Create a table row with two cells |\n",
        "| `<i>italic text</i>` | HTML: Make text italic \"italic text\" |\n",
        "| `<hr/>` | HTML: Make a horizontal line |\n",
        "| `<head><title>My Title</title></head>` | HTML: Set the title of the document to \"My Title\" |\n",
        "| `<br/>` | HTML: Insert a line break |\n",
        "| `<div id=\"myDiv\"></div>` | HTML: Create a div with id \"myDiv\" |\n",
        "| `<span class=\"myClass\"></span>` | HTML: Create a span with class \"myClass\" |\n",
        "| `<body style=\"background-color:red;\"></body>` | HTML: Set the background color of a page to red |\n",
        "| `<p style=\"color:blue;\">Hello</p>` | HTML: Display \"Hello\" in a paragraph element with inline CSS for color blue |\n",
        "| `<a id=\"section1\"></a>` | HTML: Create an anchor tag with ID \"section1\" |\n",
        "| `<p style=\"color:green;\">This is green text</p>` | HTML: Change the color of text to green using inline CSS |\n",
        "| `<!-- This is a comment -->` | HTML: Include a comment |\n",
        "| `<form><input type=\"text\"/><input type=\"submit\"/></form>` | HTML: Create a form with a text input and submit button |"
      ],
      "metadata": {
        "id": "usJ59WlGxe1U"
      }
    },
    {
      "cell_type": "markdown",
      "source": [
        "## Exercise: Make a Webpage About a Hobby\n",
        "In Jupyter notebooks, you can use the `%%html` magic command to render cells as HTML (as we've done here). This is useful when you want to create rich, structured outputs or when you're learning and experimenting with HTML.\n",
        "\n",
        "To put your learning into practice, I'd like you to create a mock webpage about one of your hobbies in a new Jupyter notebook HTML cell. Here are the requirements:\n",
        "\n",
        "1. Ensure your document has a correct HTML5 doctype and includes `<html>`, `<head>`, and `<body>` elements.\n",
        "\n",
        "2.  Add a relevant title to your page using the `<title>` tag inside the `<head>`.\n",
        "\n",
        "3.  Include some CSS in a `<style>` tag within your `<head>` to style your page. Try to include at least 3 different CSS properties.\n",
        "\n",
        "4.  Include a main heading for your page using the `<h1>` tag.\n",
        "\n",
        "5.  Include at least two paragraphs of text using the `<p>` tag.\n",
        "\n",
        "6.  Create a list (ordered or unordered) of at least 3 items using the `<ul>` or `<ol>` tags and `<li>` for each item.\n",
        "\n",
        "7.  Add an image using the `<img>` tag. You can link to any online image URL for this exercise.\n",
        "\n",
        "8.  Add a hyperlink to an external website using the `<a>` tag. Make the link open in a new tab using the attribute `target=\"_blank\"`.\n",
        "\n",
        "9.  Use the `<b>` and `<i>` tags to make some text bold and some text italic in your paragraphs.\n",
        "\n",
        "10. Create a simple table that includes at least 2 columns and 2 rows using `<table>`, `<tr>`, and `<td>` tags.\n",
        "\n",
        "Remember to start the cell with the `%%html` magic command so that Jupyter renders it as an HTML cell. And most importantly, have fun and be creative with it!"
      ],
      "metadata": {
        "id": "OTdA9EaDznki"
      }
    },
    {
      "cell_type": "code",
      "source": [
        "%%html\n",
        "<!-- Your webpage goes here -->\n"
      ],
      "metadata": {
        "id": "YLPBMcBIvE2q"
      },
      "execution_count": null,
      "outputs": []
    },
    {
      "cell_type": "markdown",
      "source": [
        "## Review with Quizlet\n",
        "The following set of cards covers important terms/concepts, as well as basic HTML tags."
      ],
      "metadata": {
        "id": "KS8fi9g4BdGJ"
      }
    },
    {
      "cell_type": "code",
      "source": [
        "%%html\n",
        "<iframe src=\"https://quizlet.com/817160001/learn/embed?i=psvlh&x=1jj1\" height=\"600\" width=\"100%\" style=\"border:0\"></iframe>"
      ],
      "metadata": {
        "id": "tOxVgjS1BoXH",
        "outputId": "6f2617d8-02fc-4d57-94ca-50b2c9e8ceb2",
        "colab": {
          "base_uri": "https://localhost:8080/",
          "height": 622
        }
      },
      "execution_count": null,
      "outputs": [
        {
          "output_type": "display_data",
          "data": {
            "text/plain": [
              "<IPython.core.display.HTML object>"
            ],
            "text/html": [
              "<iframe src=\"https://quizlet.com/817160001/learn/embed?i=psvlh&x=1jj1\" height=\"600\" width=\"100%\" style=\"border:0\"></iframe>\n"
            ]
          },
          "metadata": {}
        }
      ]
    },
    {
      "cell_type": "markdown",
      "source": [
        "## Glossary\n",
        "| Term | Definition |\n",
        "| --- | --- |\n",
        "| Computer Network | A group of interconnected computers that allow for communication and data sharing between them. It facilitates the sharing of resources and information. |\n",
        "| Wide Area Network (WAN) | A network that spans a large geographical area, often a country or continent. It's often used to connect different local networks, allowing devices and users in one location to communicate with devices and users in another. |\n",
        "| Local Area Network (LAN) | A network that connects computers or devices in a relatively small area, such as a home, school, or office building. It's often used to share resources like files, printers, and games. |\n",
        "| Network Protocol | The rules or standard procedures that define how data is transmitted over a network. These rules dictate the way that data packets are sent, received, and responded to. |\n",
        "| TCP-IP Model | A way of analyzing networks divided into four layers: the Network Interface, Internet, Transport, and Application layers. |\n",
        "| Application Layer | The topmost layer in the TCP/IP model which interfaces directly with the applications we use to communicate over the network. Important protocols include HTTP, FTP, and SMTP. It's where user-provided data is managed and prepared for transport. |\n",
        "| Transport Layer | The layer in the TCP/IP model that's responsible for the end-to-end communication over the network. It manages the assembly and reassembly of data packets, error-checking, and flow control. Two primary protocols are TCP (Transmission Control Protocol) and UDP (User Datagram Protocol). |\n",
        "| Internet Layer | The second layer in the TCP/IP model. It's responsible for packet routing, IP addressing, and handling network connections. |\n",
        "| Network Interface Layer | THe lowest layer in the TCP/IP mode, concerned with how data frames are physically sent |\n",
        "| Network Interface Card (NIC) | A hardware component, also known as a network adapter, that enables a computer to connect to a network. It converts the data from the computer into a format suitable for the network cable and controls the data transfer to and from the computer. |\n",
        "| MAC Address | A unique identifier assigned to a Network Interface Card (NIC) by the manufacturer. It's used to identify devices at the physical layer in a network. MAC stands for Media Access Control. |\n",
        "| Router | A device that forwards data packets along networks. It connects at least two networks, commonly LANs or WANs, and is located at gateways, the places where two or more networks connect. |\n",
        "| Switch | A networking device that connects devices together on a computer network by using packet switching to receive, process, and forward data to the destination device. Unlike a hub, a switch only sends data to the device that it is intended for. |\n",
        "| Modem | A device that modulates an analog carrier signal to encode digital information, and also demodulates such a carrier signal to decode the transmitted information. It enables a computer to transmit data over telephone or cable lines. |\n",
        "| Network Port | An endpoint in communications, representing a specific process to which an internet or other network message is directed when it reaches a server. |\n",
        "| HTTP | The standard protocol used to transfer hypertext over the World Wide Web. It prescribes how messages are structured, transmitted, and responded to by web servers and browsers. |\n",
        "| Internet | A global system of interconnected networks using TCP/IP protocols to facilitate worldwide device linking. It serves as a platform for various information and communication facilities, including the World Wide Web. |\n",
        "| Domain Name System (DNS) | The technology that converts human-friendly domain names into numerical IP addresses, which are required for computer services and devices worldwide. |\n",
        "| Internet Cookie | A small data file stored on a user's computer by a web browser while visiting a website. It retains stateful information and tracks the user's site navigation. |\n",
        "| Transmission Control Protocol (TCP) | Part of the TCP/IP protocol suite that ensures data packets are delivered in sequence from source to destination. TCP includes error-checking to prevent data loss, making it essential for tasks where reliability is vital. |\n",
        "| User Datagram Protocol (UDP) | A communication protocol that allows data packet dispatch before the connection is verified, providing speed at the expense of reliability. Often used for fast-paced activities, such as streaming media or online gaming. |\n",
        "| Internet Protocol (IP) | The rule set governing how data is sent and received over the internet. It provides a unique identification system for machines on a network, via IP addresses. |\n",
        "| IPv4 | Fourth version of the IP, serving as the foundation of internet data communication. Its 32-bit addressing system allows approximately 4.3 billion unique addresses. |\n",
        "| IPv6 | The most recent version of the IP, designed to replace IPv4 due to exhaustion of addresses. It uses 128-bit addressing, providing a virtually limitless number of unique addresses. |\n",
        "| Hypertext Markup Language (HTML) | A standard markup language used to structure web pages and web applications. Used in conjunction with CSS and JavaScript, it enables the creation of page layouts, styles, and interactive features. |\n",
        "| Cascading Style Sheet (CSS) | A language responsible for defining the look and formatting of a document written in HTML. It stipulates styles, design, layout and variations in display for different devices and screen sizes. |"
      ],
      "metadata": {
        "id": "94QsW8PqlVe7"
      }
    },
    {
      "cell_type": "code",
      "source": [],
      "metadata": {
        "id": "F1FrsuyQlXoj"
      },
      "execution_count": null,
      "outputs": []
    }
  ]
}