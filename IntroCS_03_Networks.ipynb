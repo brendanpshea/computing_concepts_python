{
  "nbformat": 4,
  "nbformat_minor": 0,
  "metadata": {
    "colab": {
      "provenance": [],
      "authorship_tag": "ABX9TyNT1obV7WuUeIOQThI7i5qu",
      "include_colab_link": true
    },
    "kernelspec": {
      "name": "python3",
      "display_name": "Python 3"
    },
    "language_info": {
      "name": "python"
    }
  },
  "cells": [
    {
      "cell_type": "markdown",
      "metadata": {
        "id": "view-in-github",
        "colab_type": "text"
      },
      "source": [
        "<a href=\"https://colab.research.google.com/github/brendanpshea/computing_concepts_python/blob/main/IntroCS_03_Networks.ipynb\" target=\"_parent\"><img src=\"https://colab.research.google.com/assets/colab-badge.svg\" alt=\"Open In Colab\"/></a>"
      ]
    },
    {
      "cell_type": "markdown",
      "source": [
        "# Computer Networking\n",
        "### Brendan Shea, PhD (Brendan.Shea@rctc.edu)\n",
        "In the simplest terms, a **network** is a collection of devices that are interconnected and can communicate with each other. These devices can range from computers, laptops, and smartphones to printers, servers, or even IoT devices like smart fridges or thermostats. The purpose of this connection is to share and exchange information and resources.\n",
        "\n",
        "A network allows for the sharing of data and resources, such as files, applications, or even hardware like printers, in a much more efficient and collaborative manner than would be possible without the network. For example, instead of storing a file on a USB drive and physically carrying it to another computer, a network allows you to send the file directly, saving time and effort.  \n",
        "\n",
        "There are two primary types of networks: Local Area Networks (LANs) and Wide Area Networks (WANs).\n",
        "\n",
        "- A **Local Area Network (LAN)** is a network that connects devices in a relatively small area, such as a home, office, or a group of buildings. These networks are typically owned, controlled, and managed by a single person or organization.\n",
        "\n",
        "- On the other hand, a **Wide Area Network (WAN)** covers a large geographical area and connects multiple LANs together. The **internet** is the most prominent example of a WAN, which is a global network of networks.\n",
        "\n",
        "Networks can also be classified based on their design approach: **Peer-to-peer (P2P) networks**, where each device has equivalent responsibilities and capabilities, or **client-server networks**, where some computers (servers) provide services, and others (clients) use those services.\n",
        "\n",
        "Finally, Networks operate based on established rules and **protocols**, which define how the devices should transmit and receive data. These protocols ensure that networks across the globe can communicate with each other seamlessly, leading to the interconnected world we live in today. In this lesson, you'll learn some of the most important of these protocols, including the the Internet Protocol (IP), Tranmission Control Protocol (TCP), and Hypertext Transport Protocol (HTTP)."
      ],
      "metadata": {
        "id": "AdJbV1HdUejt"
      }
    },
    {
      "cell_type": "markdown",
      "source": [
        "## Brendan's Lecture\n",
        "Run the following cell to view my lecture for this chapter."
      ],
      "metadata": {
        "id": "6DsOeA1PXwOM"
      }
    },
    {
      "cell_type": "code",
      "source": [
        "from IPython.display import YouTubeVideo\n",
        "YouTubeVideo('TnlSLCrbORc', width=800, height=500)"
      ],
      "metadata": {
        "id": "a-1uDblNX2u7",
        "outputId": "be06ca15-65a3-441f-815c-fb761003754f",
        "colab": {
          "base_uri": "https://localhost:8080/",
          "height": 522
        }
      },
      "execution_count": null,
      "outputs": [
        {
          "output_type": "execute_result",
          "data": {
            "text/plain": [
              "<IPython.lib.display.YouTubeVideo at 0x7ee14abbee90>"
            ],
            "text/html": [
              "\n",
              "        <iframe\n",
              "            width=\"800\"\n",
              "            height=\"500\"\n",
              "            src=\"https://www.youtube.com/embed/TnlSLCrbORc\"\n",
              "            frameborder=\"0\"\n",
              "            allowfullscreen\n",
              "            \n",
              "        ></iframe>\n",
              "        "
            ]
          },
          "metadata": {},
          "execution_count": 1
        }
      ]
    },
    {
      "cell_type": "markdown",
      "source": [
        "## How Network \"Models\" Aid Understanding\n",
        "Imagine you're trying to bake a cake without a recipe. You know you need ingredients like flour, sugar, eggs, and so on, but you don't know how much of each ingredient to use, or in what order to mix them. The result would be a disaster. A recipe guides you, telling you exactly what to do step-by-step.\n",
        "\n",
        "In a similar way, a **network model** is like a recipe for computer networks. But instead of baking a cake, we're trying to transmit data, like emails or web pages, from one device to another over the network.  Now, why do we need a network model or this \"recipe\"?\n",
        "\n",
        "1. *Models Help Humans Understand Networks.* Networks can be complex with many different parts working together. It's like trying to understand a busy city with all its people, cars, buses, buildings, and roads. If we tried to understand everything at once, we'd get confused. But if we break it down into parts - like people, transportation, infrastructure - it's easier to understand. Network models do the same for networks. They break down the whole process of data transfer into layers. Each layer has a specific job, making it easier to understand.\n",
        "\n",
        "2.  *Models Help Humans Build Networks.* When we're building networks, we want to ensure that all the parts can \"talk\" to each other - that is, they can send and receive data correctly. Network models provide a common language or standard that all parts of the network can understand and follow. This ensures that different devices, perhaps made by different companies, can still communicate with each other.\n",
        "\n",
        "3.  *Models Help Humans Fix Networks.*  Let's go back to the city example. If there's a traffic jam, we don't need to look at every person, car, or building in the city to find the problem. We just focus on the transportation - the roads and cars. Similarly, in networks, when something goes wrong, we can look at each layer separately to find and fix the problem. This makes troubleshooting much easier and faster.\n",
        "\n",
        "In simple terms, a network model helps us to understand how a network works, how to build a network so all parts can work together, and how to fix problems when they arise. Without it, creating and maintaining networks would be a lot more complicated."
      ],
      "metadata": {
        "id": "rsDq_Gv_VIPu"
      }
    },
    {
      "cell_type": "markdown",
      "source": [
        "## A Four-Layer Network Model: TCP-IP\n",
        "Think of the process of sending a letter through the postal service. You write your letter (the message), put it in an envelope (packaging), write the address (where it needs to go), and then give it to the postal service (the transportation system). The postal service then delivers the letter to the address you wrote on the envelope. The person who receives the letter opens the envelope and reads your message.\n",
        "\n",
        "Similarly, when a device wants to send data to another device over a network, it has to go through a process. To make this process easier to understand, we break it down into steps, or layers. Each layer has a specific job to do, just like in our postal service example.  In the four-layer (**TCP-IP**) network model, these layers are:\n",
        "\n",
        "1.  **Application Layer.** This is where our \"letter\" starts. The application layer is where network applications (like your web browser or email client) live. It's what you, as the user, interact with. When an application wants to send data, it's the application layer's job to package that data so it can be sent over the network. This might include formatting a web page into HTML, turning an email into text, or converting a voice call into digital audio. It also works the other way around, converting incoming data into something the user can understand.\n",
        "\n",
        "2.  **Transport Layer.** Once our \"letter\" is packaged, it needs to be delivered. That's the job of the transport layer. This layer establishes a connection between the sending and receiving devices and ensures that data is reliably sent. It does this by breaking down the data from the application layer into smaller **packets** and tracking them to ensure they all reach the destination. It's kind of like taking a large letter and breaking it down into postcards, each with a number so you can put them back together in the right order.\n",
        "\n",
        "3.  **Internet Layer.** Now that our \"letter\" is packaged and ready for transport, we need to figure out where it's going.  The Internet layer is responsible for routing the data packets to the right destination. It adds the IP addresses of the sender and receiver to the data packets so that they can be correctly routed. In other words, it figures out the best way to get the data from the sender to the receiver, kind of like how a GPS finds the best route to your destination.\n",
        "\n",
        "4.  **Network Interface (\"Data Link\") Layer.**  This is the final step. The Network Interface Layer is in charge of the physical transmission of data. It's like our mail carrier in the letter example. This layer takes the data packets, converts them into a form that can be transmitted physically (like electrical signals or radio waves), and sends them onto the network. It also receives incoming data and converts it back into a form the upper layers can understand. (So, incoming data needs to go through these same four steps, except \"backwards\").\n",
        "\n",
        "In short, the four-layer network model is a way of breaking down the process of sending data over a network into manageable steps, making it easier to understand and manage. It helps us understand how data gets from one application to another over a network."
      ],
      "metadata": {
        "id": "fLNej_c2WWb4"
      }
    },
    {
      "cell_type": "markdown",
      "source": [
        "![image.png](data:image/png;base64,iVBORw0KGgoAAAANSUhEUgAAAe0AAAQdCAYAAABzHhBFAAAgAElEQVR4AeydidcUxbn/7z8S703O9ZyYa3KTg4lRIypGUXGJovCTxaCAoqIgIghKEEEQQcAFQVBcUFFZBAIShbih4oYritvVi/uWRGPcrpr6nU+ZZ6wpemZ65p2Zt7vn2+e8b890V1c99a2a51Nbd/+b0yYFpIAUkAJSQArkQoF/y4WVMlIKSAEpIAWkgBRwgrYqgRSQAlJACkiBnCggaOekoGSmFJACUkAKSAFBW3VACkgBKSAFpEBOFBC0c1JQMlMKSAEpIAWkgKCtOiAFpIAUkAJSICcKCNo5KSiZKQWkgBSQAlJA0FYdkAJSQApIASmQEwVSQfu0005zPXr00J80UB1QHVAdUB1QHWhBHYCzabZU0Baw1WBRHVAdUB1QHVAdaG0daDq0l7/wllv54jv6kwaqA6oDqgOqA6oDTagDcNUaQ4J2EwRVI0WNNNUB1QHVAdWBVtUBQVugVutXdUB1QHVAdSAndUDQzklBtarVpnjVI1AdUB1QHchPHRC0BW21sFUHVAdUB1QHclIHBO2cFJRawvlpCausVFaqA6oDraoDgragrRa26oDqgOqA6kBO6oCgnZOCalWrTfGqR6A6oDqgOpCfOiBoC9pqYasOqA6oDqgO5KQOCNo5KSi1hPPTElZZqaxUB1QHWlUHBG1BWy1s1QHVAdUB1YGc1AFBOycF1apWm+JVj0B1QHVAdSA/dUDQFrTVwlYdUB1QHVAdyEkdELRzUlBqCeenJayyUlmpDqgOtKoOCNqCtlrYqgOqA6oDqgM5qQOCdk4KqlWtNsWrHoHqgOqA6kB+6oCgLWirha06oDqgOqA6kJM6IGi3oKAQ9Yr197kTx4x3PQ/8rX9h+T4993MnnjXezd+w2a3Y/nbZD2TOqrt8GPa0eG995nV3whlj3BH9B7ilj79YFrYVLeIbHnneTVp4vU+3K/Hfvu0Nd+qkqT4v7PnelfjqvfbqPz/qDuh9iM+LXTvygun+GOfsWCv2tz33v27qdbe6xfc9UUrHyhVtW5FmrTipO9Qh6hJ1qlb4vJ6nnp05bZY7c+olbtnT/+NOGjvB/faww92iex7bKc83b33ZHTtkqK+jY2bO2+k8Gpx/1XX+/OwVdyaer6RTUv2rFLbScYujR48e3oZwjy8ZOnaiu+b+rXXZVSmtvB6/fss2d+yQYa7e8slrfmO7Be0mQ/uWp/7HjZh4gf/BHTVgsJu04Ho3e/l6d978a92hv+vrfrXnnu4PV99QBm5z7t0BbWsgNMOxX/fws+6wY45zvQ45zB3U58i2OxdzeCEk2wVt0qTBEDYOrFxDe+IfYCu/dwq0Z92+zvXp269U38bPW1gRuldueMDtd+BB7td77+0GnT7aLXv6tTIA3vbcDg/9g484yl3zwJNl52qVVVL9q3VNfN7iOPL/DfquIUJj5F9/x598mtvz13v539aCjVvqsi1OJ+/fp91wu2983fjoCx2ng6DdRGjT4j9t0jQPZmCNuOGP4+YnX3EnnHm2o9cdthLNuRu0w2ta/bmZ0L5wyTK37wG93LmXXe322uc3ju+ttj+M3xxed0AyCdqhbd3xuROgTR7pdVHnbATr8nX3+voHvGPdKSeAPHTsBL+PwXzjY9vdkf0HNjQ60Yz6Z3HQ2Ixt5zsNFH5b3TGSlWRPdx1LKvfusqXd6QraTYQ2IOYHNfKCGRWHhu1HOWDESEevnAIvArQZHmY64JjBJ/oeD0OQYR7bUbFNW0H7u0U1nQBtely+VxwMGdP76nNsf99jpudsdc960YwqXbpyg/+tzly2pnSecPTEaXgmAd/iqbRvRv2zOCpBuxPKtJK+8XF+54f1Pc4tefDpsjKMwxXtu6DdJGjTyz5lwmT/g+eHX6mi4DhOPvcPviV//ZbnfLgY2tb7jee0GcobN+cqPzzGXBdzXKOmzXJLH9telh7xMVQ7/0+b3eRFN5bCM2TNdwCLfeYgwnmzSs6iUn7s+FV3P+SHHWmw0ONhvpAGzLy1m8psI7zld+ata93Zl1zu88G0AcCn4WM9JsKajUwvTF60tJQXhkPpyYfz5hY2hHbS8Djxs7ZgwIgz/HAjQ458Ri/LD3vTm7SwD50Y+g81t7IKNbRys3yG9hDvdQ8946dQbL0D5UK5hkO1Fi/2M4c5eOTokq18TjOvWa+DT5NftKOMAVtSPbdebjjKwpoJNAvzO37uArfsmfKhafIKUOlNMpVEuZxx4Ux367PJ8/E0emkY0li0Oo2+BmfAHQ6fGswBsvWorb5audMIoKwpOzuGk5x1+3pfPzlXqb5Y/aOukn/yQL1IqqsWd7y3OCr9Dm0Kinl7a5DYNRffstqP9GHfIb/r66688zs/xG9k+k2r/AhCmf3B+pqkfGMbdZc8xI0YK2euI5zVHeoy4RlNHHjaqJ1+U4RtVn3gN0B6E69YXCqrWM8ifhe0mwRtHORRxw/yf3yup7KYczdHYQ7bnL+v6P9afMEP8vTJF3nHBhhxhEcP+r27Ycu2UprEg1M95oST/EIkHMj0pStd/2Ej/A8KUOJ8Ga7HQQJL/uh1LLj7YR+POYK0c938cEJI2486dorkxfJLD4kFQzi5aTcsd6wBwKkAZ9PP7CDsfr892DcGsPP4U073eRk9/dISuC1sCMkY2uSbNQWkg75owx9z8WiJ3aRNGfYfOsI7H4CDTmiIHlw77JzzPChwiFfceb93lmhO2vPWbPLnLJ+hPcxF4mjIN6AmXsqTcmXO0iBjdYCh2t5HHb1TmXOsFrjrgXba/KINDTHKOnbkaHvWxXN9/sy2hZse8fajLfU1zO+Q0eeURpuIl7KijNGHuCkXYGl1Id5bQzHU18KwmCxuWFC2wIRysUY2I0IsTuM67Gd6i7oAHDlGOOoYZc7vhzqAXdSdeJrL6p/VVfJQqa6anfHe4kiCNmWEfZYHu9auIV1+FzNuXuVBRnjsZ04c+6m7sf3khXxbHOHiPNMICFNWYeOJvNkaDurqkNHj/O+H620ND3Wc9QM0kM3WZtYHGgqsS0jro8yGvO8F7SZB2yp9IxXInDt7KpQ5bIM2PypAi6PE6YWVDsjy4wnnuCy+GOb8iIFz6KgsrdjuevJzy1OveuAQN2lgnx2jt2MjCma32YdzDhfU0IjA6YTXmB2xg/QOZeIF3ingvInbwoZOPIa2tc7prdr0BNcyxMZQm/XasJFeNU7N7GZPusPHT9ppdTJpmhOz8JZPs8d6hnG+KV96QjhWa1BZuXAsXriITThS6+VYevGesqAOxWUbh+N7Pfm1ekQjg3K2+Oy49QLp/dK4QRdrDFpY6jH1OewlUVbkK9bcron31jukkRSfs0ZjqBGgCYHsy+zg3qU6aCvLzX7ivPyP93hI0vik7C0dypI6lFRX4/wm1VWLJ95bHUaHpD8gWGk0Kvz9WbyX3PZHX68Ad2j/TU+85H+z1viz32tYV2w0gnIKdbO6aWH5DR9wcG+/6t7SZQ+saUhMvPIar1sr6gN3DJBGvDYhtKNonwXtHEDbfjz2IwkroXcIEyaX/agMFjipMKz1JKwxwLn4BxiGT/vZel70skjDriP9JCdcyT6uo2fCNeZszYkx9RA6HcLa/KP1DiysQZIwMbQvWHyTd2LYYHayx+4zplzsFzXVmiNLAnTSMcun2WMgicuF9M1pMloD/KxcQmdp9pqTtHjteLyvB9rxteH3pLyhedyTpR7QuAIUXG/lkTTaYvkNwe/LKoBoaEPSZxx23FCycDYUbmmbniGQrf5YXeMWMXqH9NKJhzrB9ZXSsLrKnvCW37ABbfZYWkllb2HCOJJWj9siVkYtuL3QfmuWLr1wO0ZcNk2QVIc4b/bzm+A7ZRoCEJvJ+zmXXunL1RpHAJJwlherj6dMvKBsioc4wz+z08okPNdofaBu0rA128I4i/pZ0I4qVqMFbT/4JLDWitOcu4HEHIzB1So7LXuGnuI/VsKGDtTiM2cUpo9jDH+YllYjdhMvTgJY0xqP569t+DKO2+yz/Ib2WV5xyBy370mAMijZ0F1S2Bja8fcw7aTPOD565/QMz7l0vh8JAEyxI08Cm+XTbMc50iAJ7xwI0wxts3IJR0UsrOXTGit2PN6bPrH+cbjwe9r8xhCyehD2PC3/wCSus4Cd4eYQKOQ//B7aFX+2xqr9RuLzBixrFBhoDMiEt561NQiBGPXYpkisDBgZYfomzgOjBNw6ZvCycrHyDm2yRkTYaAjP22eLAy3sWLinQckIWlj/7Bqzw8JT/jQCk25tI4xdZ2lRXuTHfpfUV6Zn6DFTLhZ/kk4Mj1O3bZoH38P91GYL+1bUB2t4VPpNhekX5bOg3SRomwOwnlI9FcQqs/1YzFmYQ7Lz/Ciq/dn1Ft6+h7aEYOC4pVWPYw/jY+gbR13NLob0bAiba7GL4bRwaNzijB2JfU/6UcZQsrCh04zzG3+3dOM9UGDRHr0ayxufGT6nkRQ6Ta5NA23CEFdSuRBHaFu1crF8Ej62O/we6xOeiz/Xm18b6jco2mhQ2Iuy/Jp+SftQR/JjdT62L/5u+lQLT/rWQI1BQ3wGfvvN0ggCUuSF86Zfkt3hMSsHKxfSje21uGr9ziwOizOOh++mqzVA7Jo43Vpp2nWWli1yQwfThkYG01Y0jL9rcPyvH32Ih+JZVMjvhUV3oTZMdy3Z/N3qbrM7PB9/rrc+mK+L856kW1GOCdpNgjaVnGGxsMdbqZJMuHyRH4adt2aj/3FbxTNnHjskG36q1bOy9OL47Dh7fqDhD8PSquVMwjjCzzZn1n/YqaWHQNjDINhbCzwcOq9mX5xXcyxJP8q495IUNs5v/D3MS/iZngLDboNOG+WfrEXPzc7T4wg15Dj2xccsn2Z7Iz3tpHKxfJqzNbvifS2nHYavN79cS0/T6jt5ZQQiHG2hoYVTThrxCdO2z+SnGoQtHHuDSrXwtvCModMYyBYXttGAJCw9Uut1c94WOiWNdtj14d7Kxco7PGdADOMPz9tni6Na2Vq9sjB2TZwu5V9PT9tGJ9BhyYPP+GstTuo8jfOr73nMr4kJG2dmu+1Jl0YSwOY3ZLd+tqI+qKftam7/VjOEc6WWFi0CK8hO2NvcLhUap5KUZyo0D4NgyM1W2NqPkD3XGEjNIdkPPsmBe+c18QK/wKxSfKEd/NBDuFhaSXGH1yV9NsdpjjspjC38Sho2NYcQXmc/QvYcN4eU5CTiIVoLG8Yb55dzOBLTOkybngvDgDyCll5F0miA5TnUkDiINz5m5Wr22Jx2UuPL5vSs11etXCyf5rTDPISf00LbnHU9+SUdK1tu36JRFsPNyiep7MgvzhxA2Opt8mN1PsxHpc/V5rS5xnr/TGvEQLY4TUsa0pS9lRXnK5W1XUsdZbEiK7I5ZnEl5dd8gw0xWxzx/vs4Ko+iYCONIZuLtmtC24nXytVGG+K07Ldm8XCeOAjvGzO9DylNFVCXaZTxEBt+7/b75BrCco1NK1g6VoetTFtRH7BXc9rVqSxoV+mZ2+pIKlHSE9E4j6PhB2erhKng5twNJHFlx3lwHfNt3NscLjaht86PyVY9J8VnPyL2McQsLZwaPYswbK3P5rStJZ0UHtsZgUATW6Bk+Y1Xt9uK1t8NPKE0H2YOKV5xjZb0WkJQWtjQecX5NZvj241s5TrDfszFETfOCYCH+Zq7eqNfsR43VEgzhp7l0+yxIeU4L5SnrR63EQkrl6TGlOWzWdA2ONWTXzShDKh33FrI7XoxkCwPlFF4Dzz5ZYU4dcLyS3z1QhtYVHPYBq0j+h3v60kIJytTayxR7tgJWOwce3qH/O5GTplRdi84z0agkRI2vq1c4vKl3KlvYV0N0wg/WxyVypZbO/ndhFNOdo3VszA+GwmrtHo8tJ/rDKw0HsOpAlsTQB2JGwG2diXurNAY47ZJa8y1oj6gU2xPmP8iftbweBUIN1Lg/JhZMAaYw2ePc0+uPWyBZ5PzQ7b4zblXgjbh7MeadJ927CTi+Cwd9lTy0HmYwwb8589fUro1xxxBEjQsPrv1KLxtx86Fe3Mc1rAw+3CGtMKJhz8+Y0c4f212ENbu6aZnwyImHHZ4O5SFDZ1XnF+AYfdpV7vv1pw1vS9so2dBue29b08/7Ef5WnmRV+u1AHuGYwGa5TO0h+F/yivpPm1GYOx+e3NwSfpbPis5dtPeetrc1oNDDact7PN3D9vZUYJT2vxaGoATLUKI2Dn2lt+k+7TjRhv5sV5ZGEelz6aDze0mhUN77IsbWRaW+oA2hDG42Dn2vsE8bZY/H9eXSvUvTV0N0wg/W56SVo8PG3e+/32QLiMD2M61dk1YzyxOs59rqEvhfdr4Ep6JYPFwja3NQY9w0ZxNFcTHuSZMg+kwfgvhb5Q6YvY0sz5YgyvpN2LpFXEvaDcZ2lQSHPaMW+7ww+BAiIrOnicE0VOLpw3MuRsEzGHHDowfTvhENOLkh2ULPayCxvHZcfYxxDh29T2P+uF17IxXYlf6QVivMWwAhOmEn4EHPRlz7GZf+EQ0HEjSU8nMIYVPRMMBER9gDR2OhQ2dV1J+uYYeNE6YdJPSJgwrxm1hjWlNT916I2FjBT1YJU1cAJm7CSyfoT3oQnnxtiZb5MbTqyo9ES1Jf8tnWmhTrpX+LP5682vlW23qxsLET8Ai3+FT5SxcvdC234nlweIJ91ZWSUC2cGGDCwDZcdvzew2fiFar/oV1Fd1pvMd11eKO91a2SeVVyYfYNXE9s7jJEw1Pes7YbvGwKjz8/RCe79aIiRtDTOtgV1I6+DwagNRlwpR+UwlpNKs+WL7Jm+W1E/aCdgug3QkVpyt5NJixrxWP/TCTHEWta3W+/D7ZVuhhw6bd5TgBLtMS4d0Jrcin4mx9XapXYxrN4VqZeq/Pa3hBW9CuCc5mV25BO3sOsJEyplfG2o3udJy2sDOcG28kL7omX3XSRu/Ct7t1ShkK2oK2oK06UFcdYKEeCykZ4mcYNFxU2R2O06YxmLrojvSVZvuBzzw5ayLiB7h0QlkI2nLYbXd06mm338k105lZ7xZgM48fLqpsZjpp47KFUOHLY9Jeq3D5q4uAmkWb4YLVTipHQVvQbju0O+kHprzmDwoqM5VZluuAoC1oC9qqA6oDqgOqAzmpA4J2Tgoqyy0/2aaeieqA6oDqQHvqgKAtaKuFrTqgOqA6oDqQkzogaOekoNSKbU8rVjpLZ9UB1YEs1wFBW9BWC1t1QHVAdUB1ICd1QNDOSUFlueUn29QzUR1QHVAdaE8dELQFbbWwVQdUB1QHVAdyUgcE7ZwUlFqx7WnFSmfprDqgOpDlOiBoC9pqYasOqA6oDqgO5KQOCNo5Kagst/xkm3omqgOqA6oD7akDgragrRa26oDqgOqA6kBO6oCgnZOCUiu2Pa1Y6SydVQdUB7JcBwRtQVstbNUB1QHVAdWBnNSBlkL7zKmXuFHTZulPGqgOqA6oDqgOqA40oQ7A1R49evg/l2L7txRh3L777luK1CLX/juRpYN0yFod2H333d0uu+zi2GfNNtmj34vqQHIdgLNptlTQ3rJli1u4cKH+pIHqQA7qwMCBAz202et3K7+lOpCPOgBn02ypoJ0mIoWRAlIgGwrMmTPHQ3vu3LnZMEhWSAEp0DQFBO2mSamIpEA2FBC0s1EOskIKtEIBQbsVqipOKdCNCgja3Si+kpYCLVZA0G6xwIpeCrRbAUG73YorPSnQPgUE7fZprZSkQFsUELTbIrMSkQLdooCg3S2yK1Ep0DoFBO3WaauYpUB3KyBod3cJKH0p0GQFBO0mC6ropECGFBC0M1QYMkUKNEMBQbsZKioOKZBNBQTtbJaLrJICDSsgaDcsnS6UAplXQNDOfBHJQClQnwKCdn16KbQUyJMCgnaeSku2SoEUCgjaKURSECmQUwUE7ZwWnMyWApUUELQrKaPjUiD/Cgja+S9D5UAKlCkgaJfJoS9SoFAKCNqFKk5lRgo4J2irFkiB4iogaBe3bJWzDlVA0O7Qgle2O0IBQbsjilmZ7CQFBO1OKm3ltdMUELQ7rcSV38IrIGgXvoiVwQ5WQNDu4MJX1oupgKBdzHJVrqQACgjaqgdSoGAKCNoFK1BlRwoECgjagRj6KAWKoMBrr73m7r33Xvf6668XITvKgxSQAoECgnYghj5KASkgBaSAFMiyAoJ2lktHtkkBKSAFpIAUCBQQtAMx9DF/Cjz++ONul112catWrapo/F//+lc3aNAgd+6557ovvvjCvfrqq653797+Oq6t9ke4rVu3+uurhQvPYRPbvHnzKsa9//77u3Hjxrnnn3/e/fOf/6xoOyfM/jCN8PNuu+3mBg8e7NavX+++/PLLqnEV6eRHH33ky50y1SYFOkUBQbtTSrqg+WwE2u+//7675ppr3FVXXVX6GzVqlAfspEmTSsc4TzjmhpcuXVp2nHCAk+vCePjMnDKbQTuOkzATJ050e+21l/vpT3/q1q1bV7V0DNpHHnmk27hxo3v44YfL/lauXFlqVBD3119/XTW+IpwE1DTCrCFWhDwpD1IgjQKCdhqVFCazCjQC7aTM0FMHwtZLTgoTHkuTrkG7Upwvv/yy7/EPHz7cffzxx2H0ZZ8N2owW8Dlp4/rRo0e7Xr16uZdeeikpSKGOCdqFKk5lpg4FBO06xFLQ7CmQBp4GvWq9su6A9jfffOMuvvhit8cee7hnn322orhmfzVoc/GKFSt8w2Pt2rUV4yrKCUG7KCWpfNSrgKBdr2IKnykF8gxthKzVGydMWmhbwyOe32fud/78+Y55dEYTGGZnuD9pLvjtt992U6ZMKQ3dT5061e3YscMPQ2OrbXxOakSYrWFYrvn222/dQw895IYNG+aYg2da4Oyzz3bbt2+3KEv7N954o2QD9h566KHe/r/97W8+TNKahDi9UmT6IAUKpoCgXbAC7bTs5Bnaf//73/2Q9tFHH+3efPPNikVnIEyCpF3EPPbMmTN9r/2pp56yw37R3THHHOOBvXjxYrd582Y3d+5cD83zzjvPffbZZ6WwDNcDdOB+0003uU2bNrmRI0e64447zvXv3983MCxwPdDGtgULFnhYEx/xMo9PfpjX37Jli0Xr1wNgA+cIE9rL8D+affrpp/44DQD+7r//foft2qRAJyggaHdCKRc4jwZtemS1/rIyPM5qcRbDXXrppR5kwLba4rFa0GY+e+HChT4uFr1ZD5qV5PSUWQEfQ+3BBx/0gF+2bJmvHQzVz54928+Jv/DCC6UaQxwM4aNt2JutB9rPPPOMh/Nll11Wlk8aDOPHj3cDBgzwepAoQ/wHHXSQe+WVV0o2oNfNN9/s+vXr51588UV/XMPjJXn0ocMUELQ7rMCLll2DdtIqblvVzWM9WaDVXdCu1pgYO3asY/i62mbQrhYPw80MgdMLtc2GkYFlfFsZ4ei58sfn9957z0ORofGvvvrKovB7FrahXyPQJl3Sp+GAPfH2wAMP+AYBezagzRz/3Xff7YfU4/D2XdA2JbTvNAUE7U4r8YLl16Adz+OG2TTodRe0k275uuOOOzzEmOuttZn98S1fDHczlM2Q81tvvbVTNKYNjZb4NjGGnbmO3ivAZiEcsGRYPN4s/UagbXCNbTd76On/4he/KKXL7XKEpYFC3mbNmuVX9Nvogdlm8VYrUwurvRQokgKCdpFKswPzYmDKMrSxsSubQTNpTvvpp5/2vVjmreOerC1Mq9ZDtx5wNR0NkI1A22yvZgPnwrhpRNA7t4VznGckgUaKwdtsErS7UrN0bR4VELTzWGqyuaRANdhYIANHNQdvgEsL2DTpAiKAkzZOszfem/1J0Gb4mV47K7KZHw4Xlj3yyCM+fYaaa23MY/fs2bPU4w3Df/LJJ27EiBFlYCVvSfbYMLtB+PPPP/dPfuN64qlnYxSCBXrLly93ffv29XmxOXhBux4lFbZICgjaRSrNDsxLGnga9IoIbYrcFnTRQODpaDZ/bSCuNKc9ZswYD1RgysI4FoRNnjx5p0ehcssXQ9YGYtLksw2th9XO0rSwdi+69ejDsHxmLptbulhRzqK3Sy65xJ155pk7Ad7m5y1eQTtWUt87RQFBu1NKuqD5FLS/K1hgyWIx4GqPUTWwAczwfmigfuedd/re+aJFizzkOXbttdfudAsWq9pZ0BcPYTP3zRx4eHtZpbD0+AkLcMNno3PfNT1wbKZhwEZPmrCsbg+35557zo8EMETOZnnj+e305rVJgU5RQNDulJIuaD4F7e8K1qALXLnNy+AY3nsd36c9dOhQ98EHH5RqBp9PPfVUP5dMWHrBLKIDogy/Wy+XC6znS4Pgtttu8z3lCRMm+N53fE93CPP4Pm3iZXjfRgewAbuYz8YGFqwxPH744Yc75u158Aqb9eC5z5vzdkub2VVtVKWUYX2QAjlUQNDOYaHJ5O8VELS/14Jbx3iOOSDkgSO2xU9EA4jcHmZPGLNw7Blqp8dNGBZ/MU++bds2P38dQpuw9N65ZYz0gCdD2++8844DmHHY+IloXMODUXiwigHb7MBe7hm3hWhmb3xrHCMK5JeGCg+KoaEiaJuK2hdVAUG7qCWrfEmBJilgawJiEDcp+qZHw+1r06dP3+l+86YnpAilQDcoIGh3g+hKUgrkSYE8QZve9pVXXunnxvOksWyVAmkVELTTKqVwUqBDFcgTtJnznjFjRs2nzHVoUSrbBVBA0C5AISoLUqCVCuQJ2q3UQXFLgSwoIGhnoRRkgxSQAlJACkiBFAoI2ilEUhApIAWkgBSQAllQQNDOQinIBikgBaSAFJACKRQQtFOIpCBSQApIASkgBbKggKCdhVKQDblTwB7iwYM94j8eBnLhhReWnt6Vu8z969nilZ4Xnsf8yGYpUBQFBO2ilKTy0VYFDNq///3v/bO5eT63/fGUMJ4mxjO17fGabTWuCYnxIBVBuwlCKgop0GQFBO0mC6roOkMBg3alp3huJZEAACAASURBVITxwgue2c3jOHlOtjYpIAWkQDMUELSboaLi6DgFakHb7m3Wiys6rmoow1KgpQoI2i2VV5EXVYFa0H7vvff8G6+mTJlSega2vU5y7ty57k9/+pM76KCD/Is2eEsVvXHehnXPPfe4wYMH+5dwMMR+9tlnu+eff770Ug2eq00PftWqVWXS8uIUXsJx8cUXl/Xs33zzTXf00Uf7N2ZxAY/5XL9+vTv++OP9XDxp8Gav+MUd8fC45ffRRx91mzdvLl3P/D0vGOFFI+HGC0I2btxYCsdUwerVq/0rN1kDgL3apIAUqF8BQbt+zXSFFCi9TSppePzjjz92c+bM8UAO4WTQZq74uOOOc2vXrnUrV670b8uy11cCXl5xuWnTJrdu3Tr/di3eoMX7r3kb1l/+8hcP9bAxQHHwfmtgOGTIEEf6tvF6TeLEDhoGCxYs8PPtNByAr6VBmPDNYJWgPWrUKD9XT0PDXt3JteHrQEmH93Rz3F7Fyes7yTcNCEHbSkd7KVC/AoJ2/ZrpCilQgna8cty+9+rVa6feq0GbnvJTTz1VpiIABXIsZgPgtgFgFrbZu6QBIr1peuMAnC2Mt2fPnu6FF17wx4H8ZZddVgrLqy0HDBjgGxTh6zDfffddx4K6yy+/3P3f//2fv7YStOPFdfTcJ0+e7GFMr57tpZdecuSftMO82Lu9BW0vk/5JgYYUELQbkk0XdboCNlyctHp84sSJvpfN0PGGDRtKQ9sGV8AZvhv6q6++cvSc+/Xr5xhWjzd6tICOnjnb3Xff7YfIGSpns6H4q6++2sPTwn3yySduxIgRpSFzg/aYMWPK0veRRP8qQTsefueyFStW+F40mrAtXrzYhY0Hi5qGAj1wQdsU0V4K1K+AoF2/ZrpCCpR62knD48hD73Xo0KFlMDNo03P+9NNPSyrSm2ZYe9y4ce7zzz8vHbcP1kCwtOy7zWtv3brV9enTxz3zzDO+V25gpccNPIE8mw2PA0169cOGDfPD82+//XapYWFpVoI2QI437GD0gEYEPe/zzjvPD+uzGC/esEXQjlXRdymQXgFBO71WCikFSgoYOA2kpRPBB2AGoOiJshm04xXltVaax2kBfMBv89rMZ9OjpmfNu6TtM+kznL1jx46SVQxX33fffR7YgBv7+DvxxBPdtm3bSuEqQdsaCqWAzvlFcQZiy+OgQYNcErSZW7ewYRz6LAWkQDoFBO10OimUFChTIAZp2cl/fTFAGdgNaDG06+1pEz09XobZ33rrLd+zZf6Y4WeG0lmVTi8bqMdphXay4hsbmZNmFTnxvf/++z5Io9Cu1dO2oX7S1SYFpED9Cgja9WumK6RAzeFxJLKets0xV4K2zWmzstoWc4USG+gsHs4BPVaV33XXXX4u3IbArTGxZMkSf5xeuG0MXx911FGl4XI7bgvWwiegNQpt4tSctimrvRRovgKCdvM1VYwdoIDB0XrRcZY/+OADP6fNKmpWU7NVgjbnaq0ej4e5bfEZC+GYz8YeNlt89pvf/MZD3RarcY5eNL3p8ePHl91XzZD59OnTy1aAdwXaWj3ui0L/pEBLFBC0WyKrIi26AgbtpNXj06ZN88BkznjZsmWlRV7VoA04ud2La+L7tBm6XrNmTSketLXeOfPDNofNcXrN3CMeH7dzd9xxR9n90/TiJ02a5I/xkBSuZ+sKtMMFb3afNvd1H3744X7Bmua0vcT6JwUaUkDQbkg2XdTpChi0AVD8x7D1Oeec45544gnHk8FsqwZtwgBuHqJiT0SzeMInollc7G34HUgbbDluK7Rtnju8Bnvo1Vsator8oYceKrO1K9AmPcuLPXmNkQKeiHbrrbcm3g4W2qjPUkAKVFZA0K6sjc5IASnQZAWYY2c4//XXX29yzIpOCnSGAoJ2Z5SzcikF2qYAC+Z4TGs4n07irJLnOec83CV+VnnbjFNCUiDnCgjaOS9AmS8FsqbAa6+95u8PZw77xhtvdA8//LB/iAv3bjPkz8tJtEkBKdCYAoJ2Y7rpKikgBaoo8MYbb7gLL7zQ8ShX5vyBNfeNc1ybFJACjSsgaDeuna6UAlJACkgBKdBWBQTttsqtxKRAcxQ466yz3PDhw92LL764U4TcHsa58GEsFmj79u3+HKvbtUkBKZA/BQTt/JWZLJYC/mEoDDuPHTt2JzXsPm3emR1vwJ7rZsyYEZ/SdykgBXKggKCdg0KSiVIgVoB3UwPfH//4x/7NWuH5StDmueCE5zqu1yYFpED+FBC081dmslgKeAUOOeQQD+B4GLwStHkaGsDmPmltUkAK5FMBQTuf5SarpYB/MQcQ5l3c4VYJ2jwFjfA8rlSbFJAC+VRA0M5nuclqKeA++ugjD2FA/OGHH5YUSYJ2GJbP2qSAFMinAoJ2PstNVksBr4D1nnkVp21J0OZ1mUm9crtGeykgBfKhgKCdj3KSlVIgUYGkeeokaFea/06MVAelgBTIrAKCdmaLRoZJgdoKJK0Ij6FdbaV57RQUQgpIgSwpIGhnqTRkixRoQAG793rmzJn+6hja06dP90PjeqBKA+LqEimQMQUE7YwViMyRAvUqwPuxma/+5S9/6S+Nof3zn//cn9eLOupVVuGlQPYUELSzVyaySArUrcCvfvUrD2beqBVCOwZ63RHrAikgBTKlgKCdqeKQMVKgMQV4LCm9bR5rGkLbhs4vueSSxiLWVVJACmRKAUE7U8UhY6RAYwqEi81mzZrlAT579my36667+s87duxoLGJdJQWkQKYUELQzVRwyRgo0rsChhx7qAX3KKaf4/cknn+z3hx9+eOOR6kopIAUypYCgnanikDFSoHEF7AEqPXv29LDed999/T588ErjsetKKSAFsqCAoJ2FUpANUqAJCoSPKmV+2/4+/vjjJsSuKKSAFMiCAoJ2FkpBNkiBJilgjzU1YJ944olNilnRSAEpkAUFBO0slIJskAJNUmD16tW+h/2DH/zA79etW9ekmBWNFJACWVBA0M5CKcgGKdAkBXis6Q9/+EMP7B/96EdNilXRSAEpkBUFBO2slEQVO55//nnHoqIePXroTxrUrAP//u//7qH9H//xHzXDqk7pN0UdwL/gZ7RlXwFBO/tl5FatWiXnK1inrgO77767722zF5QF5bR1AD+jLfsKCNrZLyO3cuVK73yHjp3gVr74jv6kgeqA6kDT6sBJYyd4/4Kf0ZZ9BQTt7JeRoC0H3TQHrUafGr1xHRC0cwCBwERBOxAjqx/V05ajjR2tvqtONKsOCNpZ9fzJdgnaybpk6qigLQfdLAeteFSX4jogaGfK3dc0RtCuKVH3BxC05WhjR6vvqhPNqgOCdvf7+HosELTrUaubwgractDNctCKR3UprgOCdjc59gaTFbQbFK6dlwnacrSxo9V31Ylm1QFBu53evOtpCdpd17DlMQjactDNctCKR3UprgOCdstdeFMTELSbKmdrIhO05WhjR6vvqhPNqgOCdmv8dqtiFbRbpWwT4xW05aCb5aAVj+pSXAcE7SY66zZEJWi3QeSuJiFoy9HGjlbfVSeaVQcE7a566PZeL2i3V++GUhO05aCb5aAVj+pSXAcE7YbccrddJGh3m/TpExa05WhjR6vvqhPNqgOCdnpfnIWQgnYWSqGGDYK2HHSzHLTiUV2K64CgXcMBZ+y0oJ2xAkkyR9CWo40drb6rTjSrDgjaSV43u8cE7eyWTckyQVsOulkOWvGoLsV1QNAuudpcfBC0c1BMgrYcbexo9V11oll1QNDOAQQCEwXtQIysfswbtG9+8hU34fJF7sj+A92v9tzT9ejRw/Xp288fW/b0a2Xvhr71mdfdCWeM8X98xhHNWXWXv2bSwuvLwjbLSYXx3Pbc/7qp193qFt/3RN1pXf3nR90BvQ/xtpLHan+EI3yYtj6/42545HlHOVvZV9Nk5AXTvd7SsbkNFkE7q54/2S5BO1mXTB3NE7Tnrt7oHes+PfdzI86b4mYuW+P/Tjr7XLfnr/dyRw/6vbthy7YSvLob2gCjUaBev+U5d/bMy9yZ02aV/voPO9XDe8jocaVjnCcc4atBqdPOJZV9NQ0E7ebC2rQWtDPl7msaI2jXlKj7A+QF2ldueMADEDAvefDpMkCt2P62m3X7OgfMh4w+x93y1P/48/U6bnM0zdp3BdpJNhAfPW5GC5LO69j34Km37AXt77VrZj0StLvfx9djgaBdj1rdFDYP0DYHTK91wd0PJwLr9m1vuDOnXuKHzC+57Y+C9outccLNdOitjMvqDNMjfK6VlqDdmvoiaHeTY28wWUG7QeHaeVkeoE0ve98DerlTJkx2wLmSA7583b3uiH7HuwsW31QR2klz2vTU52/Y7AaMOMMPszNXfszgE93sFXc6zll6BgIc/DX3b3WDR4724Rma5zPHCGvhwnnoI/oPcEsff7EUl8VZz75aT9vSPH3yRW7q9be5Aw7u7Ucezpt/rbv9+Tf9/O6oabPcwUccVZofP+R3fd34uQvcsme+Xwtgc+lzVv3Jzbx1rV8vQD56Hvhbd/Yll7t43QB5xjEzykG4Xocc5khn6WPbS3m1OLFl8qKl7qA+R/qwrEW4cMmyxDK97qFn3IiJF/h0iZdrxs25qiz9SnkeddEsd8DB5esBKLNqWtcD7eUvvOVm3b7eHTtkWCnf5H/gaaPc/D9tLqVj5cU0Tpz2NQ886cvirIvnluoY2pJH0wfNYy2JB1tpjDC6dOjv+vo6eMaFM92tz9ZunMR2tPq7oN1Ob971tATtrmvY8hjyAG0gjOM2GKd1NObUw95WDG2gDEgAL2AFItOXrnT9h43wvfY/XH1DyalafCyC633U0Q5A4jjHzJzn4cIxIEbD4oo773enTZrmGxs473lrNjkWppnTJT/1DnMbBJKuM9sYjQDGaDVpwfUeIgDisGOO89ML4y6d72YvX+8XyAEd7ADG1jgxwDJ/DjwALdBhHp3GzLBzzivl4+p7HvNhTDe0QBO0PP6U0x2LBsmvxUmDYb/fHuz1Ik7CkP7o6ZeWgXvBxi0+3t8edriHWFm8J5/mbnz0BR9vpTzPueNuXy40vPgjrUojNFaX0kIbncbOvsJrQUONuoJ9rC0AslYHiJe6gIZJjU3q2V77/MbNW7vJ54W1GJQH2sX1Kl6rga3oSNzj5y30dZZGhOUlS3tBu+UuvKkJCNpNlbM1keUB2jipRiBnTr0atHGsOFocsM2F4/QA78gLZrj9DjzIXXX3Q2WQAF4hzAmPE8bGaTfcXnKeQDZpIVqj+UkD7RAE5rxplNADNkDY8Zu3vuz6Dx3hjjp+UGkUwAALEICnhaXBceKY8b53SCOA4+dfdZ3v0YfhgNq5l13tGwlX3fWgD2dx0htl9MLiRONTJl5QpjFlMGDESA+kON7pN63ysLRGhpVvUp7tXFj2lm7SPi20WZFOg27o2AmlxovFh33UAWtcmmY0mK57+NlSvu34sUOGOsoAzcgT+aABYPGxp7FBHTp10tRSw8bqD3UuDJvFz4J2a/x2q2IVtFulbBPj7XRoA0IgnNR7tWF5ejM4RANB7IS9c924xQOM+Mx5VoK2na93nwbafY7tX+qJpokfAIRD9wbYpN6hh3RwexnfAc20G5Y7howrpVctTtOY0QquZ4qDOE3zMM5bnnrVHX/yaaVGhpVHUp7tXLOhHdoTf7Z8hnWARhwgD4fIrQc+8YrFPs83Prbd38KYZKtv2EyY7BtBBn7fwDi4d1mjKrYlK98F7SY66zZEJWi3QeSuJpEHaLPArFU9bRwg8+U4WoaNw78p197iQWwAMxBYDyl0jOawDT6c6w5oAzXgFtpmn7Gf3isAOWvGnNJwbBK0w3zY9eQHoAJWjtnwOGXD0PCp51/oGz/hHLkP9697zkOYWZzM85M+q/6Zk7WpkLBHbmHZe2D9q+Fg5ZGUZzuXBMIwPvscxmvHqu1ppNDrprHHqMvw8ZP8aAZahPkEtDTyrA4RJz3kcATH6g6jPWH9s8/06qmjNHC4HluTGo7V7O2uc4J2Vz10e68XtNurd0Op5QHa1luxYce0DijJceNkzbHaeb5X+zPHb+Hte2iHOV4cqh3vDmgn2QZEgTDzpZZPhsuBLMBLgnYInjA/XB+OSrBgjGkEoG1xkw7pGbxNmyQQG7TNbtKN07D02YdwrVYe1c6F8dnnMF47Vml/5Z0PuKMGDC7LL/PRZ0y5uNQAtGvpKTO0bZBNssvqpOlXaW+6Y2tYZpZWFveCdkNuudsuErS7Tfr0CecB2swp0zMJeytJDopezTEnnORGXTTbrzKu5iCBA3OJLBZjgZTN0ybFa8eS4rNzBqasQdvmSwEBD6ThHndAgt029BoCwPKRFtqWf3qeaMjCNVY0k54N/1aLk0VlDG/j3G97bkdDPW0DvtnCvlpZheHsc1po2xoI5vyZfw5HNWyoP9aOWxCZgmGEw7QI56MZ/WC1f9LohtkX7gXt9P5NIetTQNCuT69uCZ0HaNvCnWr3aePU6JHjHO02miTHbb0ac6zMnVab0wbo3IZD/EnxmTM1Z5w1aLPQieH8pHlfmyNuBNoMZdMIYCEbaZgO7GMtvv8+o7RK3cIb6GwO2+a0kwBm9trCuWrlUe2cpR3u00LbRn2Yzw+v5zNQprFidcvOM5rAKnYanYwWxY1EG0JPanz4htXEC/z1NBiIU9DuFlfZEYkK2jko5jxAG0d1+R/v8ffEJj0RjfP0xun9hLfcJDnuGNoGlEGnjy7dokR8XEvvjzlcW3WdFB9h+bN4doJ2ExcMAQOgYMOklrbZi9OPHb+Bjt5v+CQ5euA8F50Giw3dhvmIwcO5OH160ugTr3i+Yv19fpjYwGvaJK1IB2ThCvs0q8erNcpMEysryjW+t9zChPu00DYw05BDQ4uDEYN+Q0/x5WMNEDtHOGw+rO9xvpETjxgBZtZtoCX3xofxzluz0dd7Vu7TeCVOQTsHjjWnJgraOSi4vEAbR8YtNdw2xJ89e5z7ZIecNc7P1+L8eT65OUtz3CHIYmgTLwuJgBc9ToYt7T5tAMn9tzacnBSfpWVgCqFtDh4n3a77tMO8mm0GW+ZdyRt/hONe3+NOHF4GTctHGmhzbzGNKOazATQLpxge5/7qsPFkcQIlzhHGNEb3+PY5hosBfNJ92uTBni9frTxs6J+6cv78Janu08Y+FpSFz3u3z/Z89+u3bHO/G3iCr4OWZwCOrUzNUAfDOmBlYCMI5Nee2Gfn2JuWSfdpx40dQTsHjjWnJgraOSi4vEDbHNy1m5/yC58YYgSq/PEwER54ET9xLMmpx9AmXsAdPhGNOJOe1pUUn9llYAodNr1G5sxxxDj1Rfc8VuopkUZSj9niS9obfJOuq2YbAAufRAZkedIWq59pWIQgsXykgTY2EgcLrWwhWhi35cHiBNZmB2kmPXXOrlmy+Wk3dOzEUryUMXAMe83V8kw8V9/zqE8DrW11usUf7yk3wlX6C0cDsI2V3pSr5YOHmzBNwMI+7jMP7/knLRvx4ME83OIVp8/3+IloNDgY7SG9MLygnQPHmlMTBe0cFFzeoB06L31uzfOim62rQTupIdDstLIan60tsKH9rNrZbLu0ejwHEAhMFLQDMbL6UdDOB/ia7UzbGZ+g/Y6f92e0xZ6u1079uzMtQTurnj/ZLkE7WZdMHRW0Be1WO/VOhTbD3TzS1V58Ej63vdWaZyV+QTtT7r6mMYJ2TYm6P4CgLWi32sF3KrS5LW7YuPP9vDdz4Paik1brnaX4Be3u9/H1WCBo16NWN4UVtAXtLDl52VKs+ihod5NjbzBZQbtB4dp5maBdLCcp6Kk8s1QHBO12evOupyVod13DlscgaMvJZ8nJy5Zi1UdBu+UuvKkJCNpNlbM1kQnaxXKSgp7KM0t1QNBujd9uVayCdquUbWK8gracfJacvGwpVn0UtJvorNsQlaDdBpG7moSgXSwnKeipPLNUBwTtrnro9l4vaLdX74ZSE7Tl5LPk5GVLseqjoN2QW+62iwTtbpM+fcKCdrGcpKCn8sxSHRC00/viLIQUtLNQCjVsELTl5LPk5GVLseqjoF3DAWfstKCdsQJJMkfQLpaTFPRUnlmqA4J2ktfN7jFBO7tlU7JM0JaTz5KTly3Fqo+CdsnV5uKDoJ2DYhK0i+UkBT2VZ5bqgKCdAwgEJgragRhZ/Shoy8lnycnLlmLVR0E7q54/2S5BO1mXTB0VtIvlJAU9lWeW6oCgnSl3X9MYQbumRN0fYNWqVa5Hjx6uT99+btS0WfqTBqoDqgNNqwP4FfwLfkZb9hUQtLNfRm7Dhg3+R8UPS3/SoFYd2H333d0uu+zi2NcKq/OqT1YH8DPasq+AoJ39MnKfffaZW7p0qVu4cKH+pEHNOjBw4EAPbfaqM/rNpKkD+Bf8jLbsKyBoZ7+MZKEUqEuBOXPmeGjPnTu3rusUWApIgewrIGhnv4xkoRSoSwFBuy65FFgK5EoBQTtXxSVjpUBtBQTt2hophBTIqwKCdl5LTnZLgQoKCNoVhNFhKVAABQTtAhSisiAFQgUE7VANfZYCxVJA0C5WeSo3UsAJ2qoEUqC4CgjaxS1b5axDFRC0O7Tgle2OUEDQ7ohiViY7SQFBu5NKW3ntNAUE7U4rceW38AoI2oUvYmWwgxUQtDu48JX1YiogaBezXJUrKYACgrbqgRQomAKCdsEKVNmRAoECgnYghj5KgSIoIGgXoRSVBymQrICgnayLjkqB3CogaOe26GS4FKipgKBdUyIFkAL5UkDQzld5yVopUI8CgnY9aimsFMiBAoJ2DgpJJkqBBhUQtBsUTpdJgawqIGhntWRklxTougKCdtc1VAxSIFMKCNqZKg4ZIwWaqoCg3VQ5FZkU6H4FBO3uLwNZIAVapYCg3SplFa8U6CYFBO1uEl7JSoE2KCBot0FkJSEF2qnA9u3b3erVqx17bVJAChRLAUG7WOWp3EgBKSAFpECBFRC0C1y4ypoUkAJSQAoUSwFBu1jl2ZG5efXVV13v3r3dLrvsUvOPcIQPty+++MLdeeed7tRTT3U//elPfRxHHnmku/rqq91HH30UBvWf582bVzGd/fff340bN849//zz7p///OdO13Lssssuc1OmTHFfffWVs7gef/zxncLaAcsfYW2zY0l5NhueeOIJ9+2339olpb2lWe3aSvaXIok+/PWvf3WDBg2qqMtRRx3l5s+fn6hnFFVDX7/88ku3YcMGt2PHjoau10VSIC8KCNp5KSnZWVGB999/311zzTXuqquuKv2NGjXKA2TSpEmlY5wnHOFte+2119zAgQM9rM8//3y3adMmt3nzZg/TvfbaywHvl19+2YL7vUEvjpv4J06c6LgO+K9bt67sOr588sknbsSIEW7VqlVlcTUK7WOOOcY3AsK8mw277babW7Bggfv666/L7OiK/WURBV8M2r169XIshAvtueKKK9ywYcMc9mDv66+/HlzZnI/omdQga07sikUKZEcBQTs7ZSFLmqgATpyeZDUYvvfeex7YgPnFF1/cKXWOcW7o0KHugw8+KJ036FWKG8gDkOHDh7uPP/64dB0fXnjhBR8ne7ZacRHGetWEtc2OnXvuuY6Rgnj729/+5saPH+9BuWbNmrLTtdKsZn9ZRMEXgza9bT7HGyMMK1eu9GWyaNGixFGI+Jp6vgva9ailsHlWQNDOc+nJ9ooK1IL2N99846688kq3xx57uAcffLBmPMuWLSuFqQU94r744ot93M8++2zpOj5gFz1tetxsteIijAG6Hmhz3bvvvuv69+/vBgwYUDa6UCvNavZ7oxP+1YI2l9BI6tevX1n+E6Jq6JCg3ZBsuiiHCgjaOSw0mVxbgVrQNoCMHj3affrppxUjfPPNN91JJ53kbrjhBj8HTcBa0KsUhjls5rKZ07b57jRxNQpt0qBXy7B0OCqQJs00YULR0kC7UhgaMNh56KGH+p44c/JJ89/YxMgCjay+ffv6KQiG4s855xx/nc3RV+rth/bqsxTIqwKCdl5LTnZXVaAWtLdu3ephRm+73q0W0P7+9787GgNHH320A/q2WUPhgQcesEOpGgCNQptESAuY3XTTTanTrGR/KYKED5WAHAZlSoA5b1uExzmmHZh+ANTMg7OeYPHixf47aw1Yc2Abuh944IF+eoH8sGaA8Nu2bfPz6D179vQjGZQtC9O0SYEiKiBoF7FUlSfvvKvNaRvU2de7VYI2PVsWuV166aW+QTBz5syyRWD0dlmIFYK8UlyhTV2BNmmiA+nYVinNWvbb9Un7atBmIRxgZY6fXv/999/vo2AYfvbs2X7h3pYtW8qiZVoBwE+dOrUEYLOblf7xRjlqIVqsir4XUQFBu4ilqjy1Bdo2HJu0Hzt27E63N9GDjBeOGYjC4eu4+LoC7VdeecUddNBBidBOstuOJdkf2xV+N2jb9Ul7VtTfeOONpYYMjRdGI5j/B+DhZvPqffr0Ka02RyvyQp7iTdCOFdH3oiogaBe1ZDs8X9aTrgTDtWvX+h5oV3raSbd83XHHHX7hWHx/NPPmDJmHw9QUUauhXa2nXY/9taqTQTvplq+FCxe6e++913344Ydl0dgUxYoVK8qO25e4DNGKhWxMM8SboB0rou9FVUDQLmrJdni+Yocfy8HwKyvHWzGnHafFd3rLPGAkaTU5vdJKjQuuNVuBlm3W+4577nbe9janHYIxTUPBrk+7N2jXswjMGhSVGk5xGWJ3pfgF7bQlpXB5V0DQznsJyv5EBWKHHwdi7plboWqtHqeHDBgvuuiiUk+xEejdfffdbvDgwe4vf/lLmSnW4w8Xp5UFcM498sgjflQgBG8aaDNHzUr1RlaPxzbU+t4ItBvpaQvatUpC54uugKBd9BLu0PzVgrbdDlXrPu1nnnnGL5SaPHnyTguiqvWOQ9ltfjZp7tZ60eFtYOG1ZmcMK/ZiewAAIABJREFU3jTQfuONN/zCt/ghL400OkKbkj43Am2b0w5Xk1vcplk8py1om0Lad6oCgnanlnzB810L2mTfoFbpiWg8nITbkXgsKfC2rV7o0buml01vO954YhrPPCcN7j8G0uEG1LGPMOHT1WpBm2em2xPR7rrrrjDKVPPoZRek+NIItAFzrdXjcWOpGrQrLVJLYb6CSIHcKCBo56aoZGg9CqSBNvEZFFnZbM8eZ6j6kksu8SAFptxiFMK0XmiTBvPZgDZp47GhgJneNM/o5lnd4fO6uZWJl3+Em0E76dnjZ511lred+Ko9ezzNSEHavDYCbfJT7T5t8hZqhi2VoG1z94xm6D7tsKboc9EUELSLVqLKj1cgLbQJDHCuu+46d/zxx3twsjCMp3MxZP3WW2/tpGhakNmFrBivNXdOz5i3ih133HF+/tpsSHoyGPEatJNurcJ2eqiV3tRVj/1pwzYKbfLCc9LJpz0RjX1SvqtB+7PPPvMPWKHxFQ6pWxloLwWKooCgXZSSVD6kQAsU4NGr06dP32nVewuSUpRSQAqkUEDQTiGSgkiBTlWAN52NHDmy7IUjnaqF8i0FsqCAoJ2FUpANUiCDCjCPz9D+hg0byub0M2iqTJICHaOAoN0xRa2MSgEpIAWkQN4VELTzXoKyXwpIASkgBTpGAUG7Y4paGZUCUkAKSIG8KyBo570EZb8UkAJSQAp0jAKCdscUtTIqBaSAFJACeVdA0M57Ccr+uhWwB6/wYBI+V9tYPU04nkoWPp2r2jU611oFePzs6tWrW5uIYpcCGVVA0M5owcis1ikQQrvaqy3tHdiCduvKot6Y7clrPB1NmxToRAUE7U4s9Q7Ps0GbV3PyzO8dO3YkKvLCCy/4Hvb++++vnnaiQu0/KGi3X3OlmC0FBO1slYesaYMCBu0lS5a4nj17Jr59CzOWLVvmRowY4SZNmiRot6Fc0iQhaKdRSWGKrICgXeTSVd4SFTBob9q0yUM56X3OvIBizJgxbvHixf5VlvGc9rfffuseeuih0ms1GULnjWDnnHOO2759e1m6DOUyDM/7o+3tYbyBi9dt8gaw8A1ifOZFH+PGjXP08ImXl2AQdsuWLWVhSeTLL790t956qx8xICwvPdm8ebNbuXLlTg0Ns5k3iZE+8Z599tk72WsvIyE93nBGnMTNqMSaNWvc//3f//k3aVk8vBLztttuc19//XVZvtHwxhtvLNlGfngRCC8ICTfeNoa+6MZcNelYenwnj2yE43j4R1lqkwKdpICg3Umlrbx6BQzaQAAo9+vXz7333ntl6rz00kv+bVFAFeiG0AasvBUM8PHOauAPKK+66ioPWl4pyWIp27i+f//+Ph167bxGcvny5e7www/3oA/f1b1x40YPU4DI40MffvhhD76ksF988YW74IILvB0WL/lh9IBXgYY2A1Re04nNPEscm9etW+dfdUljA0DbZtAeNWqUByi28i7wE0880V9/0UUXuaOPPtqDmnhoUBBv+N5uXrnJcRoGc+fO9fpgG+DmHeWct41ywOaTTz7Z24NdxIudAPraa6/1jRXeS44+QB3d0YaGkDYp0EkKCNqdVNrKq1cghDZQ3mOPPTxIQ3kYGh8+fLj7+OOPd4I2r9EEKADTeoF27T333ONBs3btWjvkrwc+QD3sjT711FM+bWDGRs906tSpHnakG27PPfecB9uVV15ZOkxDAVjSqw576wAYEIfQpmHAMV43GtpAmgCQ+f3333/fx23QpvHx+uuvl9Jjjh+49urVy/HZNho8NHxsxAJbAC26PvjggxbM73l3OHbNnj3bffPNN/6Y9aBjmKMBZcAUxSeffOLDani8TE596UAFBO0OLPROz3IIbQNDCBF6sAxnL1q0yMMw7mlX08+AFw7bcj2wC0FHHMAfWHK+1hbDildmAsmkUQIaErxP26ANRIG1fY/ToudPo4I9m+Xh4osvLoGV42YDQ/eff/55KRo+c8xW4tMjHjx4cOl7KaBzPj7iDe02aHN7Xbhh95w5c3zvm7TZzIY0moVx6bMUKIoCgnZRSlL5SK1ACG3AAJzjnibDy/SE2SpBmzliwAt07rjjDsew8aGHHuoBGEOb4eR4KNcAZD1UywA20Zh4+umn/RA58+DHHXecj9dgxfkhQ4YkgpF46L0bpK0RwrAyw8sMK4d/jCr84he/8G/04lqDtqVldpm9gBQbbbP4Ddp2vQ1hh2nxmRGKsBFj0GYIPt6wIdTObIhti6/TdylQVAUE7aKWrPJVUYEQ2gQCGkCLPRvnbWic7wDCAOgDOOe2bdvm53htUZQtFrv88ss9kGJoDxo0yPcS7Xr2BiCDHcfefvttN3r0aA9o4mb4m14rC7iArsEq6dowbtI3my2s2Vppb3EbdMM8hPZaOEsvhrZBuFI6dtz0tvD23eJlH2tveYltCK/RZylQZAUE7SKXrvKWqAAwAhwGCRvOZQiZOd5waJwIYnCwyIz5XiDKnO0//vGPUjo27xsCj+vTQJveM4u3mHtmMRbfrUdr88YGq1o9bYaaDdo2fB3ODZcMTvjQVWi/8sorjhXlNlefkETZIUG7TA59kQJVFRC0q8qjk0VUIIY2YATY9K5ZsMVQtA2Nk/8Y2gzjAv0VK1bsJI/NDzcCbVsUFw8/k4g1Bgza9cxps+CLeWSDeGw0NjOsz4pttq5C2xoY4QiCpYktM2fO9FrbCntB29TRXgrUVkDQrq2RQhRMgRjaZA9w0MO98MILy4bGORdD28DMPcjWEyYc89unn366B3q4qIrr0/S0DczTp08vW+HN8DN20VAIF4fVs3r8kUce8au5sSVc8c490/TAGTWwJ8N1FdqAmVXurB7HxlCjJ5980uvMQjmzoxFoJzVsClZNlR0pkKiAoJ0oiw4WWYEkaHO7E4vRACO97hA0MbQ//PBDd9JJJ3n4MATM4ioAzr3U3GtMj5ZrbEsLbZsbZh6b1ewAj9u5AP7AgQP9vd5h75Xw3J9N+PA+7QMPPNDP0Yc9a27z4pYz8hffp831LKSzPHcV2uSb+7C5hSvpPm0aCNz6ZVs90LbnwRMH97HHi/ssTu2lQFEVELSLWrLKV0UFkqBN7xBQAjAgEm4xtDnHgjFWRwMlruFhKDwhjfuJWUjG09SYH2dLC23C0vO1p6YBWJ5Gtn79en+LFb3scJU74QH30qVLfU/ZwgN7eqLhbVWEjZ+IZnbHT1prBrRJj/yHT0RjJIOV8mgXbvVAm+u2bt3q+vbt6xsg4X3rYZz6LAWKqoCgXdSSVb46VgGbw+aWMBasaZMCUqA4CgjaxSlL5aTDFGC4m8Vz8RCxrW4PHxjTYdIou1KgsAoI2oUtWmWs6AowrMyQM3PezH2Hc+vxvHHRtVD+pECnKCBod0pJK5+FU4CFY7wRjDeLAW/mtO1NWqxk1yYFpEDxFBC0i1emypEUkAJSQAoUVAFBu6AFq2wVW4Hzzz/fjR071vH0sXjjFZmcC1+VaWG41Ypz3CetTQpIgfwpIGjnr8xksRTw0GU4HADHG7d7cY73WMfbWWed5c/x0g5tUkAK5E8BQTt/ZSaLpYDjkaeA+cc//nHpyWImSyVo8wQywnMd12uTAlIgfwoI2vkrM1ksBbwCvXr18gBeu3ZtmSKVoM1TzwA212mTAlIgnwoI2vksN1ktBUqPJeUhKuFWCdq84hNoc3+3NikgBfKpgKCdz3KT1VLAvfvuux7CgJjnoduWBG1uASMcf1ynTQpIgXwqIGjns9xktRTwCvBsckC8ZMmSkiJJ0ObFJoTj2eXapIAUyK8CgnZ+y06WSwG3fPlyD+M+ffqU1EiC9iGHHOLDJb0DvHShPkgBKZB5BQTtzBeRDJQClRX4xz/+4XbddVcPZHvdZQxtjtPLJhzhtUkBKZBfBQTt/JadLJcCXoEzzzzTQ3nmzJn+ewzt6dOn+/OjRo2SYlJACuRcAUE75wUo86XA/fff76H8y1/+0osRQ/vnP/+5P//AAw9ILCkgBXKugKCd8wKU+VIABQzMW7ZscSG0N2/e7IHNeW1SQArkXwFBO/9lqBxIATdt2jQPZ974FULbHlt60UUXSSUpIAUKoICgXYBCVBakwPbt2z20eUzprFmz/OfZs2fvtEhNSkkBKZBvBQTtfJefrJcCJQXssaannHKKh/bJJ5/s99zupU0KSIFiKCBoF6MclQsp4BYtWuQh3bNnT7/fd999/Z4Hq2iTAlKgGAoI2sUoR+VCCrjwUaU/+MEPPLC5P5vj2qSAFCiGAoJ2McpRuZACXgF7KQiw5u+EE06QMlJAChRIAUG7QIWprEiB1atXe1hbT3vNmjUSRQpIgQIpIGgXqDCVFSnwxRdfuB/+8Ice3D/60Y/cl19+KVGkgBQokAKCdoEKk6yw6Gj48OH662AN7Fnk7FUXOvu3cM011xTMwyk7gnbB6sBee+3levToob8O1uAnP/mJ72n/13/9l+pBB9cD/MDee+9dMA+n7AjaBasDBuxLV2xwc1bdpT9poDrQgXVg9oo7Sw22grm4js+OoF2wKvCrX/3K/1hv3/aGW/niO/qTBqoDHVgHbnvuf70f2HPPPQvm4ZQdQbtgdUDQVkNFjTXVAUG7YI49yI6gHYhRhI+Cthy2oK06IGgXwZsn50HQTtYlt0cFbTlsQVt1QNDOrQuvabigXVOifAUQtOWwBW3VAUE7X367HmsF7XrUykFYQVsOW9BWHRC0c+CsGzRR0G5QuKxeJmjLYQvaqgOCdlY9dNftErS7rmGmYhC05bAFbdUBQTtTbrmpxgjaTZWz+yMTtOWwBW3VAUG7+31xqywQtFulbDfFK2jLYQvaqgOCdjc54DYkK2i3QeR2JiFoy2EL2qoDgnY7vW570xK026t3y1MTtOWwBW3VAUG75a622xIQtLtN+tYkLGjLYQvaqgOCdmv8axZiFbSzUApNtEHQlsMWtFUHBO0mOtWMRSVoZ6xAumqOoC2HLWirDgjaXfWk2b1e0M5u2TRkmaAthy1oqw4I2g25z1xcJGjnopjSG5kHaC975jV34ZJl7tghw9yev97Lv/f3oD5HurNmzHE3PPL8Tu9/HnnBdHdE/wFu6eMv+nNX//lRd0DvQxzH2wGoa+7f6iYvurHhtMzeE84Y42595vWG4kGXSQuvb/j6duiUlEZa7UyjdpVpkq1FOiZop/eZeQspaOetxGrYm3VoX33Po+6Ifsd7WA85a5ybvnSlm3X7Og/gfXru54D3go1bysDWndCmoUCDoSswMSA1Cm1Az7WNXt9dMKpHO9OoKzp3Vz6zmK6gXcNR5vi0oJ3jwksyPcvQvu7hZz2wAfNVdz9UBmYcH8c4d/Sg37sbtmwrnY+h3U4nWQ94KtllQGoUuoK2hrsr1a1KxwXtJO9YjGOCdjHKsZSLrEL79m1vuDOnXuL22uc3vmddydkwBNyjRw838YrFgvaL38FK0Ba0K/1eKh0XtEsusXAfBO2CFWlWoU0v+7BjjnPHn3yau+WpV0tAjp3ONQ886X438AR3zqXz3W3P7fDh4p629VzjodRlT7/mxs25yvfWAX/PA3/rRk2b5ZY+tr0sPa6j10taI86b4hiW/9Wee/o59ivW3+dWbH/bh5+z6i7fgCAu+6NREdtc67vZG/a07dicVX9yM29d6/r07efTwOazL7nckRfitXCWPvsw38tfeMvNun29O2bwiT4PrBEYMOIMN/9Pm8vsJC+sAyC9wSNHl/J77eanfHxp9LB8ptG5Xu0sn2HeLL2kvdmAbpQduvQ65LCy8r7xse3uyP4DK9a5MTPn+brCvDtpUO7zN2z2+qEj8aLr7BV3luoE4awRdfrki9zU629zBxzc29eh8+Zf625//s0y3ZNsb8cxQbtgjj3IjqAdiFGEj1mF9rw1m7wTpLddr9PCkddaiMZwui1sw5kyT45TBoJJw+2H9T3ONyKGjB7nZi5b43C4vz3scO98L//jPd5GnP60G5Z7xw7oZi9f70GP/QalNJAxICVBu/+wU338pI8d2AMshp1znsPx3vzkKz4vwIM/wiy4+2FvH6MXo6df6sP3HzbCrw9ggR9a0RABNqY19jLKQR6HjTvfzbh5lTv/qut8GuQhjR7ElVbnatqZTeHeNEqjJ1MW/YeO8HmkUUZZszYCfUPtgPBZF891+x7Qy1254YGSFqRLHOh54pjxXgPCTl601K+1QD90JE50Jc4/XH1DCdwGbRpBh/yur7tg8U1u0oLrd2oohflr92dBuwjePDkPgnayLrk9mlVo27B3Iz3VWtDG4dI7TRp6B3A411MnTXVADudJfPTMzpw2q3SM4/PWbvJxAHtzspXmtJsF7XjhHc4WkBx8xFGlBoJBIoQ+9tG4AM4jL5hRlo9bnvof35vuc2x/d/2W53xezF6DlOWPfVo96tW5knZh2va5HmiTF3rVgNWuZ0/5Dh8/yTdMFt3zmD9nZTp+3sKysHZ82g23++P0tnsfdbTXDf0sXuJE3/0OPKi0DsPKg/pGPBY2S3tBO7cuvKbhgnZNifIVoBOhbcOgMdTMkZ8yYbLvVTNEzzEgldT7uvHRFxyg47w54HrAY9fEewNSaJ8dwzZrTNh19IBpaBCGYwaJ8HoACkzCcHY9e3rkNEzY892gTdxhOD6n1aNenevRzvQItY/tTPOdRmGoyc1bX3bHDhlaNkSOdvTAw0YN19GjRqc4HXrp1BcDv5UH11Nn4vBZ+C5o58tv12OtoF2PWjkIm1VoM4QIRFrR0zaHb0PYDGOHf0PHTiiDNGAIe7LmZA0yJ42dUJpPt2NdgYnZF0LXjoW9erMDjejFXb7uXg8Eg0R4vR2jp84QfphfPrOQ79d7710CjUHbIG5psU+rh9mcVud6tLO469GZNQ/0kBkeZw3E8aec7kceQmiTP2AbNtKwi6HxePSFMGgfaznl2lv8vLU1sEz7WuszQo3b/VnQzoGzbtBEQbtB4bJ6WVahDYAAUSvmtA1INAqq/VkvCjCEc+TmUA0yIRztWD0wsfhsb0AK47VjSY0YjpEPs9cgEV5vdlXLL+fMbtPI4jTb2KfVw+KolaalYTaaDWGa8WfTI01YRiZ42A3rFcwWPjP0TwMthja3EjK8bT1l7KNBY3aavhZXpb3pb+Hte5yXLHwXtLPqobtul6DddQ0zFUNWoc3cKsOJtXonrCwfPPIsPzd5/b/u1Y6hEjt4HsbCCt6kXmuSA43jszAGmdAZ27E0MLF44r3ZG8ZrxxqFNqunB50+2g/9MgQcpxl/N+AaqMLzafWoV+d6tDM90ujMPDRD2YNOG+WYu7a7DMgTYI6hzRz1gBEjfd1jYR/TCvS0sY9rGC4/bdK0xNGXUCf7LGhnyuV1nDGCdsGKPKvQtnnEpMVi5gzZ2+KqcMFUDJXYwdvtZCEULU56ZadMvMA7abu1J47PwhpkwnjsWBqYWDzx3uwN47VjjULb52vC5J0AZWkzDM5iLVZAc6wZ0K5X53q0Mz1q6Qygmb6gkRY/Oa+aJixaY/jbbo+LG3jAvtqcNtMp3E6IloJ2wZxmzrIjaOeswGqZm1Vo4+xshS7zsElPRFvy4NP+9ixWRNttV1wXQzZ28Dhre3AL9zzTQOA6/uat2ejnOas1AiysQSaEqx2jJxbGa9ek2Zu9Ybx2rB5o07O2+7dJl1u6aASNnDLD37ZktnBfOouv0NkaKs2Adr0616Od6VEL2gZmAMw99ZZn9nNXb/TD4OH8tZ1HB/Tg0bns41vALH00pjdu1wFoGgnobCvFBe1aXkjnW6mAoN1Kdbsh7ixDG0fI3DZOk4dX2LPH6RXaQ04ANr2iEJC1oE283D/M/djEG9+nTXphryyOzxy0QSaEK8P1DOkTB3bxQBbCGwRrQYawBoQwXjuWBtoGKrQ5f/6Ssvu0uW2NOdj4Pu343mKzl73l1/b16FGPzpW0s3TDvelx5P8b5G/FI1/xn40aWGOFh/VQJr7+TLzA7b1vT78YDT3ifFoPnXMMlYe3dWEH9Y17sdEtvk+ba8LbAwXtbnBsSrKkgKBdkqIYH7IObRwkcBw7+wr/FDCcJE6RoVzmGnlCV+jM+RxDxRx8DEx7ShaAJU4gRy9pyeany+KM47P0kqDNOR4Mc+jv+vo4bSGdQTC2weIK92Zvo9AmLl60wjws+Roy+hx367PfvS0sfiIaehIufoqX2RvDjLjr1SOtzsSdpF2ojX02jchfpT/TGsCyYtyeImflTG/abs8KH4NraQB34k5qKBGGeMMnohGWNGgY0HCyeATtYvjKvOZC0M5ryVWwOw/QNuenvZ6p3c46wAI2GnQ2ZdDOtNudllaPV3CQBTgsaBegEMMsCNoCYbsBkYf07Clx4b3ZebC7URsF7dArFuuzoF2s8nSCtqDdqKMv4nUsaGQ+mufSM4weLnAsYn4tT4J2wRx7kB1BOxCjCB8FbUHbHLf2399CyC1ivJErXOBYZH0E7SJ48+Q8CNrJuuT2qKAtaBcZRspbuvotaOfWhdc0XNCuKVG+Agja6ZyanL90KnIdELTz5bfrsVbQrketHIQVtAWjIsNIeUtXvwXtHDjrBk0UtBsULquXCdrpnJqcv3Qqch0QtLPqobtul6DddQ0zFYOgLRgVGUbKW7r6LWhnyi031RhBu6lydn9kgnY6pybnL52KXAcE7e73xa2yQNBulbLdFK+gLRgVGUbKW7r6LWh3kwNuQ7KCdhtEbmcSgnY6pybnL52KXAcE7XZ63famJWi3V++WpyZoC0ZFhpHylq5+C9otd7XdloCg3W3StyZhQTudU5Pzl05FrgOCdmv8axZiFbSzUApNtEHQFoyKDCPlLV39FrSb6FQzFpWgnbEC6ao5gnY6pybnL52KXAcE7a560uxeL2hnt2waskzQFoyKDCPlLV39FrQbcp+5uEjQzkUxpTdS0E7n1OT8pVOR64Cgnd5n5i2koJ23Eqthb48ePRx/l67Y4Oasukt/0kB1oAPrwOwVd3o/gC/QViwFBO1ilafbe++9Sz9WA7j23zVkOkWHn/3sZ+4///M/3X//93+rLvyrEdspZR/nc5999imYh1N2BO2C1YHFixe74cOH66+DNTjggAPcLrvs4tirLnT2b+G6664rmIdTdgRt1QEpUDAF5syZ46E9d+7cguVM2ZECUkDQVh2QAgVTQNAuWIEqO1IgUEDQDsTQRylQBAUE7SKUovIgBZIVELSTddFRKZBbBQTt3BadDJcCNRUQtGtKpABSIF8KCNr5Ki9ZKwXqUUDQrkcthZUCOVBA0M5BIclEKdCgAoJ2g8LpMimQVQUE7ayWjOySAl1XQNDuuoaKQQpkSgFBO1PFIWOkQFMVELSbKqcikwLdr4Cg3f1lIAukQKsUELRbpazilQLdpICg3U3CK1kp0AYFBO02iKwkpEA7FRC026m20pIC7VVA0G6v3kpNCrRcAUG75RIrASnQbQoI2t0mvRKWAq1RQNBuja6KVQpkQQFBOwulIBukQBMVELSbKKaikgIZU0DQzliByBwp0FUFBO2uKqjrpUB2FRC0s1s2skwKNKSAoN2QbLpICuRCAUE7F8UkI6VAegUE7fRaKaQUyJsCgnbeSkz2SoEaCgjaNQTSaSmQYwUE7RwXnkyXAkkKCNpJquiYFCiGAoJ2McpRuZACJQUE7ZIU+iAFCqeAoF24IlWGOl0BQbvTa4DyX2QFBO0il67y1pEKCNodWezKdIcoIGh3SEErm52jgKDdOWWtnHaeAoJ255W5clxwBQTtghewstfRCgjaHV38ynwRFRC0i1iqypMU+E4BQVs1QQoUTAFBu2AFquxIgUABQTsQQx+lQBEUELSLUIrKgxRIVkDQTtZFR6VAbhUQtHNbdDJcCtRUQNCuKZECSIF8KSBo56u8ZK0UqEcBQbsetRRWCuRAAUE7B4UkE6VAgwoI2g0Kp8ukQFYVuOqqq9zPfvYzt2DBgqyaKLukgBRoUAFBu0HhdJkUkAJSQApIgXYrIGi3W3GlJwWkgBSQAlKgQQUE7QaF02VSQApIASkgBdqtgKDdbsULmt7jjz/udtllFzdv3rxSDv/617+6QYMG+eOci/+OOuooN3/+fPfRRx+Vrqn14bPPPnNjxozxcS1btqxW8MTz2Ihd2Fdrqydsrbhaed70X7VqVSuTqTvuV1991fXu3Xunsre68NOf/tSdeuqp7qGHHnLffvtt3fE3csGXX37pNmzY4Hbs2FG63OwM62/ppD5IgQwpIGhnqDDybIpBI3R6Bu1evXo5VjSzQMr+rrjiCjds2DC32267uWOOOca9/vrrqbL/wgsveAjsv//+bvjw4e7jjz9OdV0YqB4Q1xM2TKPdn03/rEKbsr7//vvdww8/XPZ34403usMPP9zXgzvuuMP985//bLl0aERDAlDbJmibEtpnXQFBO+sllBP7DBpJ0K7Uq8VBr1y50vfCFi1aVNNhE55w/fr1c0uWLHF77LGHe+qpp+pWqB4Q1xO2bkM64AKD4bnnnuu++OKLxBy/9dZbrn///m7AgAHu/fffTwzTzINJ0G5m/IpLCrRSAUG7lep2UNyNQBt53nvvPQ/hESNGuE8++aSqYvSq6V1PnjzZ95KOPvpoN3v2bPfNN99UvS4+WQ+I6wkbp6PvzpcTvdpq0KYxxkgMoy5bt25tuWyCdsslVgItVEDQbqG4nRR1o9C2IfRKvfFQw82bN3vHjtP96quv3JQpU9yRRx5ZNjcZhqdnt3TpUh8GIJx99tnu7bff9vPucXppw1rP8b777vOgYU72uOOOc9u2bfNJMy/L/KwN/XOedLdv3x6a5kcVnn/+eX+OMMzxEg/2hj1SgJYmnOmPNmzEAShpdLzxxhtu/PjxjnT44zPH4u21114r2bPXXnu5Sy65xL388st+/p94GtlMr2rQJl7iRwPyYRt5f+KJJ9zIkSO93ZQhusbz35aBuI5/AAAgAElEQVTXpDQsfXSxcDafzt7qgYWzfFrYevRjlGDatGkO7Uxn9MOuJNssn9pLgXoUELTrUUthKypg0DCnR8A0QGaOmjlvAAyIK230pulVh5C+++67vaM3UIXX4nQnTZrkIc91AJ9FbwMHDnRnnnlmyVlzTT1hzbnTyx89erS79957HQviGAX4+uuv/QNNgAug2bRpk1u3bp1PC0e+ZcuWkonoxTEL98ADD5TsnTlzpo+LwPWEA0KmhUFn8ODBfs3A3LlzvQaLFy92rAdgHUEIbtLhOPPLy5cv97azQKx3797ezrBcS5lI8cH0qgatv//9717LsGwBNnPcaIkdLBxDT/Ti2HXXXVfSyPKalIaljy7UIRpX9Op79uzptaJnz8I0C2f5tDjT6seaDDRFQzSmPCdOnOjTOfDAAwXtFHVFQdIpIGin00mhaihQL7QBHA6U4W6cMIuUqm02jM7QOE6WzY6xmpxV5eFmvXLmzAGAbQ8++KCfC7ceFsfrCWvOPWkR3DPPPOMBd9lll5WAQvzYRu/W5myxB3DwPVw5jyb0boHUu+++6+1OE440TP8Y2mgbL/C68847fWOHRo/Zh4ZDhgwpm1PG7vPOO8+HNZj5C+r4Z3olARUdyCe9UxocPMHNpjpeeukl35gj/bBsKfuLL77Y64zebAbYpDQsfdOF8HymMcI52yyc5dPiTKOfNSiJk561bZQnCy/JW5JtFk57KVCPAoJ2PWopbEUFDBrm9AhoPW2cVqU/hhFZQYyDq7YZaNjbhrPEgccL0uw4C9YAe7h9+umnvldn0K4nLPGYcwemYWOAz8A6hoGlTc8LDdgbtAn75JNPlsVj4dmnDUdY09/gZNBJ0uCVV15xBx10UKlX/uyzz3oNb7rppjB5/5mFfugblutOgaocML0qlT/H6Z0yWmGNMaKjt0pvmJGYeOMY56688kp/yvKaBEZL33ThgnqgnUa/N9980zHyQl2kPoUbt5UxgpBkWxhOn6VAWgUE7bRKKVxVBQwaoXM3aCfd8rVw4UI/tPzhhx9WjZeTOHN62OHwqV1kvWSAaRBlQRsL28aNG+c+//xzC1raY6NBu56wRGAQiAFn4MDGjRs3lt3WxG1OQOkXv/iFs+vQi+FxoMU19MiAZ9x4qScccRmczJ6kBX6WB8DItnbtWm8HacWbASks1zhMte+WVnjLF2XGcD0NNqZF4tv2KG962PFIhKVj9cpAaHm17xaOvaVvunCsHmin0Y8hdnrkYRpmg9WvJNssjPZSoB4FBO161FLYigpUg7YBsuLFNU7YUGm13poNPRNV7NTj6ENo1xOWeJIgEKZZzUbOhfAjLqBl8OY8vc7Vq1eXwTtNONPfwJEGZGYL15B2ErRNHwsba1nru+kVQ4sGFnPU9OKZDvjggw9KUZntleqN2WRxWnj7XoqoQnnVA+1qcZomsfZh+tVsC8PpsxRIq4CgnVYphauqgDkuc2QENudayflWjTA4SS8VqLCwjB5p/Ddq1Ch/3obOrXfTyp62wdHMpEdPekk9MwtTaU/vGrhde+21ftiaXhu90XirFs70N7uqwcJAamVVradt6wYsbGxTre+WVhL8yI/N+YbrAJrZ07ahdNMFe5sN7Wo9bZuOScp/Le10XgokKSBoJ6miY3UrYNAInXszoG1OL2lu0Yy0eVdbkGbz1MwzMrwbbgYza0jUE5Z4DEIhBDhu8VSb0z700EN975LhYG4DYwFWvGIeHW2oNW040jf9zS7LZxIsLA9WVu2Y006yA7u5TYoFcPS4WSRoG0P3HMO2eDMQx3ParOanvoSbrSUwXTjXbGjbFILmtEPl9blVCgjarVK2w+I1aBgIyH4zoG1ArvYQFVYXA2zmzhlKZ3vkkUe806cnF84Tc9sVw9EG7XrDGvBCCPgEgzTRIFxU9be//c33wG1OHsCTHwAfrjYmnnvuucePGrCyO204rjP9za56oG36tXv1uOnGnQM0VFiRb6vpbUqk0upxgG5Pw7MGk+lr8Yar300XzvGZhXgsyLPNytXqbz36VSqncCShUqPF0tdeCqRVQNBOq5TCVVXAoGFOj8BdhTbznjy2tNJwcWiQDaHb41DNYXItw+r0uOi9cc8sC8JCaNcT1px7CAGzw+JhKN/uv7b7tLEjvPUKWAMZuy+axWrYx5w2c7y2OCttONPf7KoHOtjP9TRmzB67JxqtsD0sV9MgDYjShKWBM3XqVN9YYYqAcuev2n3a3B6G3rZZI40RGTTnvm50PPHEE33jyHQhvPW+6RnXuk87KY+Wp1ATHkxDeYb3aVPvaFygX1I8Zrv2UqAeBQTtetRS2IoKGDRCR9ZVaDN0ygIzHnDxl7/8pWLanLBba8IFaTh15rn79u3rgYBTXbNmjZs1a1YZtLk+bVhz2CEEQsPiJ6LhsFk5TQ8fEIUbDzfBmdtCNOzj9rfwvmTCpwln+ptd9UKbdHhqG8P2rOrGJu4Zf/TRRz30bNU74UyDNCBKG9agx2iJ3eaFXugGfLGJPz7HT0TDJgsLpG1BH8+nf+edd3xZmy6ERV9u2SO+Pn36+JfVmJ1WfxvRj6ft2cJC4ubefO4lp4GYNHSOLdqkQL0KCNr1KqbwUqCDFLD5YxarhRtzzdOnT99pTj4Mo8/fPwDI5t+liRToqgKCdlcV1PVSIOcK8AhO3rJFbzocDeAzw9XhWgGyynA2EGJKQpvzUxknn3yy772HaxnQ5q677vLTMUl3A0g7KdCIAoJ2I6rpGilQIAUYCmb+lSFdnnvOnC9z2hMmTPDzsfFiPobrZ8yYUVo0ViApGsoKC9GYY2cqBM3QDg3REk3jxXQNJaKLpMC/FBC0VRWkgBTw87zMp/OmMeaEbS4+af5Ycu2sAD3s9evX+/UXaIeGxx9/vD8W9753vlpHpEB6BQTt9FoppBTIhQJAgjdnxfeA58J4GSkFpEBVBQTtqvLopBTInwKsjKanx/O9tUkBKVAsBQTtYpWnciMF/IIoQVsVQQoUUwFBu5jlqlwVUAGeALZ8+fKaOaunp80KcHsvdc2IFUAKSIFuV0DQ7vYikAFSIJ0CJ5xwgh/25oEj1ba00OZZ3/TITzrppGrR6ZwUkAIZUkDQzlBhyBQpUE0B7pkGsrwYo9qWFtrEQ3w8OUybFJAC+VBA0M5HOclKKeA+/PBDD9ldd9217IUksTRpoP2Pf/zDEQ/Qtpd0xPHouxSQAtlTQNDOXpnIIilQUYHf//73HrQrV66sGCYNtFesWOHj4Vnd2qSAFMiPAoJ2fspKlkoB/8ITese8GKXSlgbaXE88f/zjHytFo+NSQApkUAFBO4OFIpOkQCUFeHDKj3/846rD2rWg/e677/rriUdP66qktI5LgWwqIGhns1xklRSoqACvz6SXzPOuk7Za0OZZ4lx/zjnnJF2uY1JACmRYAUE7w4Uj06RAkgI8Dxzo8vatpK0WtA888EB//SOPPJJ0uY5JASmQYQUE7QwXjkyTApUU+OUvf+nB+9xzz+0UpBq0eQ82wOd6bVJACuRPAUE7f2Umi6WAfzUm8J0yZcpOalSD9uTJkz20eW2kNikgBfKngKCdvzKTxVLAvfzyyx6+P//5z3dSoxq0d999d3/djh07drpOB6SAFMi+AoJ29stIFkqBRAUOO+wwD+A///nPZecrQXvTpk0+/OGHH14WXl+kgBTIjwKCdn7KSpZKgTIF7LGmp59+etnxStA+9dRTPbT12NIyufRFCuRKAUE7V8UlY6XA9wqEjzXlsaS2JUH7448/9sBmHpzrtEkBKZBPBQTtfJabrJYCXgF7rCmv2LQtCdo333yzh7YeW2oqaS8F8qmAoJ3PcpPVUsArsGbNGg/jY489tqRIErSPOeYYH06PLS3JpA9SIJcKCNq5LDYZLQW+UyB8rCmPJ2WLoc1KcYbF9dhS1RopkH8FBO38l6Fy0OEK2GNNL7vsMq9EDG37rseWdnhFUfYLoYCgXYhiVCY6WQF7rOk+++zjZTBIz50713+3p6dt2bKlk2VS3qVAIRQQtAtRjMpEpytgYN66dWvZ8Phjjz3mh8b12NJOryHKf1EUELSLUpLKR0crMGPGDA/niRMnlkF7/Pjx/rgeW9rR1UOZL5ACgnaBClNZ6VwF7LGmPKbUhsdnz55devc257VJASmQfwUE7fyXoXIgBbwC9lhTe/KZ7fv06SOFpIAUKIgCgnZBClLZkALXXHONHwrff//9/X6//fbzez22VHVDChRHAUG7OGWpnHS4AvZYU+7J/sEPfuCBrceWdnilUPYLp4CgXbgiVYY6WYETTjjBw9qgPWTIkE6WQ3mXAoVTQNAuXJEqQ52swOrVq0s9bHrZa9eu7WQ5lHcpUDgFBO3CFaky1MkK8FjTH/7whx7cP/rRjxzftUkBKVAcBQTtnJUlT7865ZRT3PDhw/UnDRLrwK677uqhzV71RL+TSnUAP/Lwww/nzAPKXEE7Z3Vg3LhxrkePHvqTBhXrwG677eah/ZOf/KRiGNUh/YaoAzx8R1u+FBC081VebuzYsd4RnzVjrpuz6i79SQPVAdWBuuvAmIvnej+il8jkDADOOUE7Z2XGG51oIU9futKtfPEd/UkD1QHVgbrrwLQblns/QidAW74UELTzVV5O0FZDRY011YGu1gFBO2eOPzBX0A7EyMNHQVsOu6sOW9erDgnaefD2yTYK2sm6ZPaooC2HK+iqDnS1DgjamXXxNQ0TtGtKlK0AgrYcdlcdtq5XHRK0s+XX67FG0K5HrQyEFbTlcAVd1YGu1gFBOwPOvEETBO0GheuuywRtOeyuOmxdrzokaHeXB+96uoJ21zVsawyCthyuoKs60NU6IGi31W03NTFBu6lytj4yQVsOu6sOW9erDgnarffVrUpB0G6Vsi2KV9CWwxV0VQe6WgcE7RY56DZEK2i3QeRmJiFoy2F31WHretUhQbuZXrm9cQna7dW7y6kJ2nK4gq7qQFfrgKDdZVfcbREI2t0mfWMJC9py2F112LpedUjQbsz/ZuEqQTsLpVCHDYK2HK6gqzrQ1TogaNfhdDMWVNDOWIHUMkfQlsPuqsPW9apDgnYtT5vd84J2dssm0TJBWw5X0FUd6GodELQT3WsuDgrauSim743MA7RvfvIVN+HyRe7I/gPdr/bc07+3t0/ffv7YsqdfK3v3763PvO5OOGOM/+MzzmjOqrv8NZMWXl8WtquOKun62577Xzf1ulvd4vueaCitpY+/6I7oP8Dby3vOw799eu7njh0yzM245Q5HOknp13Psmvu3usmLbuxyPGGaZj9lYPqH58PPV//5UXdA70PcyAumN2QD13E98YTxpv3c1evTptMJ4QTt731q3j4J2jkrsaxDe+7qjd4xA6wR501xM5et8X8nnX2u2/PXe7mjB/3e3bBlW8lpdze0aRh0BSQGvf0OPMidNmmaO3ParNLf8PGTXM8Df+tBTv5veep/SvmuFwyWTqPArJSexStod1bvXdDOmeMPzBW0AzHy8DHL0L5ywwMegIB5yYNPlwFqxfa33azb1zlgPmT0OSWAJUG7EmBacbxZ0Ka3DQBjG5c985o77Q8XeXCPnn6pu33bGzuFia9J+m5w7U5oJ9lVz7Gu9pS7en09thY9rKCdB2+fbKOgnaxLZo9mFdoGX3qtC+5+OBFMAOvMqZf4IfNLbvujD2PXpenptcKRthra2Mx0wfGnnO7ojV9190OJ2tTKm6D9jh+W78qoSC2NO+m8oJ1ZF1/TMEG7pkTZCpBVaNPL3veAXu6UCZOr9iYvX3evO6Lf8e6CxTdVhHbSnDY99fkbNrsBI87ww+zMlR8z+EQ3e8WdjnPmcK0RQK+MOeDBI0f78AzN85ljhLVw4Rx0pd6yxZ20N5jWuvbCJct8bzucp7c8DTp9dGkYHTuZBw/zZXqEtlo8y194y826fb2/hlEMwrAfeNooN/9Pm0u6JNnOMbM/TaMpaU4bnbn2mgee9NMhpE3ZkIcr1t9XVjZJPWUaMQf1OdJPm8SjM7HNSdfHYex7Wl3QEc2YxrFrbU+eDj7iKHfWxXNL+WBNxrg5V3mbuY7pj1HTZrmlj20vu950YXTp0N/19XXwjAtnuluf/W7dhqXRXXtBO1t+vR5rBO161MpA2KxCGwjjxAzGaZ2RwTOEhkHKwATcJi9a6h0fcASA05eudP2HjfCA+MPVN5ScqsXHIrjeRx3tTp98kR+WHzNznnewHAPc9PqvuPN+Pw9NY4O05q3ZVFowhtMlP9hSLS8GvVrQTmrU4DiBNI0PFsPNXr7eA+G3hx3uwXv5H+/xad/42HZHWOBGw4NwAAVdxs6+wmvAcTQBEsyrAxPLaxr7Q/0rha8E7cP6HucOO+Y4N2T0OA+/8+Zf6+I8EGcM3QUbt/g8HXX8IJ+fSuna8fh6Ox7v69GFuoCuSY1N6tle+/zGzVu7yZcDazFojFBmcb2K12pg636/PdjHPX7eQl9naVzFtnbXd0E7A868QRME7QaF667LsgrttJCLnZRBNoRGDG0cKwACTOFiLsA78oIZZcPOFh+9vRDmpGu93Wk33F5ynsA6acg1bX7SQtuAZ/mkxzbsnPM8BIgj1IUeKg0JphLsuKWDXXbshkee9w2XoWMnlBobdm76TatSNaIsXrPLrk/aWx5CG0wnGgrhfD2gA3g0liwuwprWNDqANaMuV9+TbjV5eL3FmbSvRxdW9Z84ZrxvdFz38LMlW+34sUOGupu3vuwbSGdfcrnPEw2jMF2mg8jXqZOmljQwXahzYdisfBa0u8uDdz1dQbvrGrY1hk6ENmAFwkm9XuvB0pvBIRq06fmFTphz9OwOOLi371Wb86wEbTtfa2/Qq9XTvvHRF1yfY/uX3dpWKW6LE8dvYZKO2bmkvQGW/CWdt2MWb1egTQODcrA42Vt+wzwYdBkpoGdKQ2zhpkfKrgvjiD/b9eQtPpf2e5IuNOLiIXLrgU+8YrFPi9EORm+SdKKxQk89rHPe1oN7+zqX1rZ2hhO02+q2m5qYoN1UOVsfWVahTa8wzXBy7JgMsqEzjHvaOEAbwsbhh39Trr3Fg9iGNy0+6yGF6ZnDDnt/7YK2pR3mE9sYygWcDIUzRM5tcof8rq/Xknyb/QbX8JidY/6W3iW6MbrArWa9DjnMx9EOaDPvS8/Z7GFv9p7kRwF2+HPYTu/bbGM4nfIKr6v2meutp14tnJ1LqwuNO4BrdYjr6SGHCwet/Gx6IqyDfGa0I2y8YGsIcbMpK3tBu/W+ulUpCNqtUrZF8WYV2tZbafactkGYBkG1P4OhhbfvoZM0xxuCr13QthEB7uUG1Ni1ZPPTflW55YvRBHpzLGxinvX/s/fmX3cU5dr/XyJrefScJT84LfScw/KVL6AcwCg5oMBhiARCGBQzkQHCGAIZGBIgkDBHAgGFBJKAzEISEgiC4sCgwAsvIDLPRyaF+q5P6bWp3U/3Hp5nD917X73Wk+7dXV1111WV+1NTd6d2CoLpOeK44JbNYfyBE2raaCHbT+YtqjV0Ug2yx4o3T69s2Dz9sCdvlCEvXsKSV/J24FHHxNET1ipk0yn6zf2tQrsdXegpM7QtyObVITUkVVZFe40GFelSlLdenze0u+SgexCtod0DkTuZRFmhzSpgeiZpbyXPEdGr2eeHh4WpZ5wdmNdt5CABKoADdHm9ubz48+JTuDzo9ArapIOjZ489QI1FTay2plfHb8FcPT8cv2wXBNNzmusHgsyzXvPwU7XwaiQoPcWT3SveXkGb3ug5N9wWh89ZgNfKYjnZ3Cq0R6MLjyDSaGIVuepJOh+tqZV0lEZ25e0N7U56PceVKmBop2pU4Lis0NbCHXpCRc9p49zokeMc9RhNHmTVqxFwmK9uNKcN0HkMh/jz4pNTlTNOwUcarfbeFE+6F/TyepsKRxgADVwBCud59I2h4rTnrfACbmqn0knPaXTjxOUra7BWHMAnbSTofHaveHsF7VRrbKRcj5x7am0BV9a+9Dd5T+9Pr6XHo9EFHWhE0OhktCjbSFRDKk+nOKc999R4v8oXWxvVidTefhy7p10BZ19goqFdIExZT5cV2jge5mXpOea9EY3reiY37V3lQTYLbcGW55l5UYmcHPcyZ5o+lpMXn8IrnhR8EdpjWDAk6BU5aEYTADMAZfWxetMCM/PP6apr3qA2aebcGD4dtVA6KeQFZhosipe8sghsv0lHxji0QE8aZPeKNw9G2bB5+hXBKS/eLHRp6LGCnvLLrsjOps3v7P15YTg3Gl3Qj4Ykj6/tP+moESNGlBHrNrB18c821Ol97vo7Y71nFTp5kq1FdaLI7l6eN7TL6uGb22VoN9eoVCHKDG0cH48aAW7+9O5xnh+eOH12fL6VnhLvJ5eDyoNsFtrEywIremU4QoYt9Zw2MEwfN8qLT2nlQUcOHkCO5TntvHeP87rWonePy07yxHwq0DppxU9j/ngMCnikIGXo+4AjfhR76+SfhV8/vf+R8N8H/TBqzbAtC6IAOM9IMwWB1mkDRTqke8GVhhSPz6XvTtcxHyn5+R+erQ0bp3FynAcnxZvmIQ+6KhN6uTQ2Utuyx9wPNGnoyLZ0f+zi88JP7//DqHXR6Adlojf2pTbwnDYN0rzntBlFYQhd4Yt00fV+7w3tUrn1towxtNuSq/+BywxtOaLL7304AoAhRqDKHyuieREIzlzh2AteqXPPQptwgDt9Ixpx8uUwAJb2VPPiU3oCBA5V53jum94rjhjYXXL3r+I1wpAGtihs3l5wUj7TPcBmwRVvN2Mlc/Z+3qJFw4YGjvIz7/Jr41w/jQgeEQNCuo9GBW/XIqye4WYxGyuasR/YAD9e4sGzxUCe9NNn2xWX9o3sV15UNnn6FcFJ8epe0iNsdnibcj3uvItjntKRCNmX7lUmsiu7T+MejS5qGLEYkEe80rR1nH0jGmXHaA/pKQz7Il3SMP08NrT778tHa4GhPVrl+nRfFaDdT2fktIfra1WdLG8aOjwqqPUWnYy7bHEZ2n1y4B1I1tDugIi9jMLQNpTKBoBBsYcpCkZbRvtRlyrpYGj30mt3Ni1Du7N6dj02Q9vQrhIcym4rw90Mzx8199S4/oCFcVpMVnbbx2Kfod11V921BAztrknbnYgNbUN7LM7a99bXH766dfjsE+N6ANYGNFsMNyj6Gdrd8c+9iNXQ7oXKHUzD0K53uoPiRJ0Pl2sv64Ch3UGn3OOoDO0eCz7W5AxtO/deOnenNZj1zdAeqyfu3/2Gdv+0H1XKhvZgOlHD0eXayzpgaI/K/ZbiJkO7FMXQuhGGtp17L5270xrM+mZot+5zyxbS0C5biTSxx9AeTCdqOLpce1kHDO0mjrbElw3tEhdOnmmGtp17L5270xrM+mZo53nXapwztKtRTjUrDe3BdKKGo8u1l3XA0K651ModGNoVKzJD2869l87daQ1mfTO0K+b4E3MN7USMKhwa2oPpRA1Hl2sv64ChXQVvn2+joZ2vS2nPGtp27r107k5rMOuboV1aF9/UMEO7qUTlCmBoD6YTNRxdrr2sA4Z2ufx6O9YY2u2oVYKwhradey+du9MazPpmaJfAmY/SBEN7lML16zZDezCdqOHocu1lHTC0++XBx56uoT12DXsag6Ft595L5+60BrO+Gdo9ddsdTczQ7qic3Y9s5syZYYcddgjTFy4NS2643X/WwHXAdaDtOjBj0dLoR2bNmtV9p+UUOqqAod1RObsf2Zw5c+J/NsDtP2uQVwe+9KUvhc9//vPhy1/+suuI/580rAP4E2/VUsDQrlZ5ha1bt4YjjzwyTJ482X/WILcO7LLLLmG77bYL7F1P/P+kqA7gR+67776KeUCba2i7DliBAVNgyZIlEdpLly4dsJw5O1bAChjargNWYMAUMLQHrECdHSuQKGBoJ2L40AoMggKG9iCUovNgBfIVMLTzdfFZK1BZBQztyhadDbcCTRUwtJtK5ABWoFoKGNrVKi9bawXaUcDQbkcth7UCFVDA0K5AIdlEKzBKBQztUQrn26xAWRUwtMtaMrbLCoxdAUN77Bo6BitQKgUM7VIVh42xAh1VwNDuqJyOzAr0XwFDu/9lYAusQLcUMLS7pazjtQJ9UsDQ7pPwTtYK9EABQ7sHIjsJK9BLBQztXqrttKxAbxUwtHurt1OzAl1XwNDuusROwAr0TQFDu2/SO2Er0B0FDO3u6OpYrUAZFDC0y1AKtsEKdFABQ7uDYjoqK1AyBQztkhWIzbECY1XA0B6rgr7fCpRXAUO7vGVjy6zAqBQwtEclm2+yApVQwNCuRDHZSCvQugKGdutaOaQVqJoChnbVSsz2WoEmChjaTQTyZStQYQUM7QoXnk23AnkKGNp5qvicFRgMBQztwShH58IK1BTYtm1bOP/88wN7b1bACgyWAob2YJWnc2MFrIAVsAIDrIChPcCF66xZAStgBazAYClgaA9WeVYmN2+88UY4+OCDw3bbbZf7N378+HDhhReG1157rZan999/Pxx33HHxj+Neb+eee27Yfffdw1NPPdW1pImbNG644YaGaUg/9GimhXRDb+5rd3vwwQdjGTWzqZ14ZT/lP2HChPD6668X3v7SSy+F/fbbL9pAGRRt9957b9h+++3DgQceGF5++eWiYLXz6HLLLbeEo48+Onzxi1+M8e+1117h4osvrqt3tRt8YAVKoIChXYJCGEYT5LR33XXXwMKp5cuX1/6WLVsWDj/88OiA99lnn/DMM89EiQSfVkDVDU0N7cYNiXY0V/kDbUBLw6Bo27x5c61hVwTtv//972HRokVh5513Dl/72tcijIvi4/zTTz8dDjrooAjrE088Mdx1110B6BP/jjvuGID3E0880SgKX7MCfVHA0O6L7E5UTruo9/fJJ5+EtWvXRmd9ySWXBH73G9q9KLVu9LTHanc3e9rAcaeddgoq46ytWRgXQUUUmIUAACAASURBVPvZZ5+NoKXBd9RRR4VTTjklfPDBB9no4m967gCbtP/4xz+OCMM5rk2aNCm88sorI677hBXopwKGdj/VH+K0m0EbaTQsihN+++23De2kvki/Xow6dBPaM2fODPR0VcZJFuMhw9wMd2uUowjaDHPTw3744YfDpZdeGhjB+dOf/pSNLtAIuOCCC2LYLVu2jLiuE0wFMApw7bXX6pT3VqAUChjapSiG4TNC0CnqaaNINkza02bocs6cOXF4k/lIjp977rmakHK6DK1mt+effz7svffetd4dPbJf/OIX4YADDoiOmviY57z//vtjD1/3CxzpnDYjAI8++mg49thja7Zw/Pjjj+u2uP/rX/8aVq1aFdNgOBgg7LnnnnHe/s0336yF7UZPW7qlWgNi5s6xc926dbFniU30MPmd9lLzoP3uu++GuXPnxqFk4IcO7WwqWxodpAdwf//734+IgiFrpkjuueeeaG8etNF2xowZtblx4iG+vN67GoLTpk0L5KFoo44cdthh4corrwwffvhhUTCftwI9V8DQ7rnkThAF5LRTkGSVeeyxx2KPad68edFxCj7f+ta34tzlSSedFIAyPSvmMnHuAreGS5nnpHeVbmmvjGsrVqyIwF26dGmc17z55pvjIjngumnTptqtWWgDqhtvvDHOyZIP7uOPRVPYIwi99dZbYcqUKRFwLK4DRMyhHn/88fHe+fPn1yDZS2gzLH3EEUfEvGI3Nh1zzDGxQXH55ZfXQJyFNpA84YQTYn7uvvvuWriaUC0cqPyBNg0wGlFXX3113Z2Uzdlnnx0ofxoXNDLyoE2Pmp61IM2oDD33vAVuv/71r6Pm9La9WYEqKmBoV7HUBsBmOe08aP/tb38LjzzySJg8eXJ0sAKnoA1MgWXauwPE9BTvuOOOqA49ReY1ASi9K206r+FYVqcz/MpiuDS+F198MRxyyCHxJSUfffRRvD0LbTUM6OUDMm3cu//++9fmVYEevWpsTDfyuWDBgjBu3LjaYrteQhu9svO2NDDQXfpgbwptyoDGDYu1yE+qWZq3Zscqf6ANZAFztveroXHSkS550Ab2GhpXupyjntBASjeNwHRyJXwav4+tQLcVMLS7rbDjz1VAThtwFP0xTM2QMnBjE7SzIOaanHraWwPgxJ0OkQu0mqsUtBleTR8vyzM6C+0NGzZEMAC1dANkvJGMIXYA3mgDHuljZMpHM6hIv1bmtKVb2kASiFO9sBPbacDkhb3++uvjCn/KZf369aMGNulk7QfM2XlobKQHTplJlyy01cigocGxNkZpGEnILkgztKWQ91VVwNCuaslV3G457bxHvi666KI4h/nqq6/W5VLwSXuBCpDn1DV/mQ6RZ+Gg4XHgTs+MR81Ytf7CCy+MgFIW2tnfsqVoz9woAKL3x1zp9OnTY4+1n9DWyERqM/kClszrsgnwPDuPRsx788jUWDaVvxod2cYUjYfzzjuvBt288iV9Fp7lzV9rnjvVlvA0tCjrZo2iseTN91qBbipgaHdTXcddqICcdtqjKwz8zwuCthx9Gj7PqWtOVD3zovvpyW/cuLH2bLh6/oceemgcplc6WUhnfytcdk/8LLZinltxc0wv8NRTT+1rTzs7SoDt2XwJ2gBbi89YT4Ceo91U/irLbNnwshXmpGlksTUqX2latNeoCvFokZrntEdbcr6v3woY2v0ugSFNX067m9BGWnq1wIYhcjl+gSBPenpoQAqgMgycvl0rC7Ps77z4OHf77bdHG3i8iRfFpKuRGZ5Oe4OysVlPUPoJekVpc15ATLUWiNuBNgv+WBPAwj00JV+j3fLsJ8/SArs0NE4a0gXNtWnOmwWI9MrTF/RwzDA/Iznp0Lnuyc6fK07tWVmOtmeccUbIjvgojPdWoB8KGNr9UN1p1uY0U5A0k0XwyQNVnlMnPs15MkR+00031Q37cp2eF8O+2WFiDc8KIoTNQhrIAK888K1ZsyYugiN+Flnttttu4cknn6zLIiMB2JWmoXyUEdqySQvtWGzXbM6+LsPJjzxoK+88fsdK8HQ+WtdSaNMQo3ednZdXMlp0SBlpQRrlStwMqTd6Tvt3v/tdnLpIbVC83luBfipgaPdT/SFOW06729CWkwYwPHaVzm8jv3pe2RXgWtmdzu1moa15WB5/SlePv/POO3ElND08hnlJk0VRf/jDH+pK/KGHHoo9Qa6xcIpNcBIg625Ifki/vAZMEiweqrGTaj2annZqk0YP6OFqoWA23Ua/8+yXnTx2lg6NE490EbQF5OzitWyaGmnh0TEaSWw8FkjvvOiNaDREWFXPCnng7c0KlEkBQ7tMpTFEtshppyBpln059TxQZZ16GpfmMdMel64DdT1rDSx4VpkeHHO2hE+fV85CO+9ePeONw+flLGx815qeHXPrXCf+xYsXh//4j/+Ii9HoLaq3rnykgJSt6V76FQ0NMzzMPDpD8dIt1Xqs0Fac5FO261w6cpDanB7L/mxZMv+MHtk4pIugrQYTq/7TBlOaBsdqlAFo7tFGneAcUyB69zjlcuaZZ0ZYj/WRNqXjvRXotAKGdqcVdXwtKSCnnYKk2Y2CQtbRc1/WqadxMT/JHGbeyzYI9/HHH8fhU64Dav5YRb5169Z4TXFloc15wA0AAD4A4C/7RjTCMBSrN64BBIbM6fHp0SQtllI+WoV20eIrzksn6ZZqPVZok3e9/IZH25iGUDpZ4Eq/dK/yl426phelZM9LF0FbcG+mE9ozHI4e0lhpYcPKlStHvKWO0YM///nPCua9FSiVAoZ2qYrDxnRDAb0hS2/M6kYajvMfCqA1b3rT42LWxQpYgc4qYGh3Vk/HVkIF6OXy1rG8D0iU0NzKmqQRBXrJjYasK5tBG24FSqCAoV2CQrAJnVcAaKxevTrOHfNMdPp+786n5hhRgMVhDF/zfm9vVsAKdEcBQ7s7ujrWPisAQE4//fQ4P83K8GavKO2zuU7eClgBK9CSAoZ2SzI5kBWwAlbACliB/itgaPe/DGyBFbACVsAKWIGWFDC0W5LJgayAFbACVsAK9F8BQ7v/ZWALrIAVsAJWwAq0pICh3ZJMDmQFrIAVsAJWoP8KGNr9LwNbUCEF9C7r9Otf7ZjPG7xaeWMYceotYM3e+tVO+g5rBaxAtRUwtKtdfra+hwroq1w89827xBt94rPILEO7SBmftwJWoBUFDO1WVHIYKxBC/OAEH5lYtmxZOOqoo+o+HdmqQIZ2q0o5nBWwAnkKGNp5qvicFchRgJ41PeyHH344XHrppfGzmu2+GtXQzhHWp6yAFWhZAUO7ZakccJgV4LWofAZSXwrT5z6LPkLCN6aBvL7sxbe1H3nkkVAE7ccffzx+HYyvhO22225h/fr18V3pzH9zD5u+orV06dJw2223xXB8Mez666+P34rm3d+PPvpoLR59rYxPhHIt3cjPqlWr4ucp+QIW8cyaNStgR7q1Go57eOvchRdeGJg+IE5GJa666qpo92jjTO/zsRWwAiEY2q4FVqAFBfTJSEFaXw4TxNMomPtesWJFBNfcuXPj97OvvvrqwLevTzjhhBEL0fhMJtDU97bvuOOOcOihh8avZQHwLLQB+b777hs2bNgQ1q5dG0ELlAE90OcTnHy3m2+D88lQ4M03wwVu4M/3woErIwb33XdfBP93v/vdOHrAJzfZWg1HWBbNkT/FyYI9GhfYQ56Bf7txxhv8jxWwAnUKGNp1cviHFchXAOhqaFwhOAcQAVS6CfB8l5ket7YnnngiAjtdPa4e/MSJE8PLL7+soBFyvDOdHmsW2lk7uIlvcwNN7hEgOU/62LHrrrvWvnL25JNPxl76mjVraulxAKz33nvvcN1118XzrYbjPe98kIV8kcd04wtr2KtvWbcaZxqHj62AFfhUAUP7Uy18ZAVyFXjrrbcCw9v8cawNyO20004jFqQBc86rx6rwWn2eQltxcE9227x5cy60edws+wEUwE4Dgl57dsumIXAuXry4DvDZ+1oNp0fTaByoN6+43n333TBt2rT4x3Grcep+762AFahXwNCu18O/rMAIBVh4Rm9RQ+MKoF5yCuEPP/wwzJs3L+SBlfuAaxqeoXB609u2bVO0tb1gmO1pA0EAmG58EpOGAmEZ7k7/GCpnmH3RokVx7lvD3qTL8DXxYcerr76aRlkbHm8WjoYCYZYsWVKXLjYwCsEQPUP/L730Ustx1hniH1bACtQUMLRrUvjACoxUgN7x2WefHaEEmIr+NPyrxWLMK7/xxhsjIsxCm9/EmddDLoL2cccdV7e4S2kW2abz6X3cs27dutpCOYUB4C+88ELN7lbCKQ+KI2+fNlRaibNmgA+sgBWoU8DQrpPDP6xAvQLMM9NrZr6Y4d/ly5fX/dG7ZL5YQ+e96Gmn8MVahqSxg/no559/vj4DLfxiyH/Tpk2xx80QO6vk03lxRVEUjlECQE1vvd2tKM5243F4KzAsChjaw1LSzueoFNC8ct6cMxGyCOuUU06pW5BGWIbTeSws3YAr4E97nZpvZhV3dqP3DUTpybKpR52FNtdIs9Gc9vjx4+MjXoS9/fbbI+Cz9il+jRK0Gk55KJrTphEwe/bswIr7VuOMGfY/VsAKjFDA0B4hiU9YgX8oICCnK6/ztNH7yBlGZzhdw9rpo07cx8pqnl1OoS1Qcj5deU1Pl/vpwbYCbaUJHNP5buJnjj1dcV60uh2oTpkyJb7tjeNWwykP5Ct9zptGCs+q05jQeoBW48zT2eesgBXwc9quA1agUIFnn302QrZouFg3aggd8HIPsOK5aGDFIiyel+YFKDwHDTxTaBOHYM51wun56q9+9ast97TTNLPPaQN+hvX1+Bl7fmMfz2szmqA0OUdvmK3VcGke8p7TnjRpUnjllVfajjPe4H+sgBWoU8A97To5/MMKfKoAi8vSnu6nV+qPACY9ScJqQRrneBMZL0nhPDC74oorwurVq0dAm9hY/MUwO6u5+eN5a2AK4FvpaRMHaaZvRCNd3shGb1fAluWMIrAQjZe0EI40jz322Hg/8WhrNRzhs29EI8+8Ie3NN99UdHHfTpx1N/qHFbACfiOa64AVsAJWwApYgaoo4J52VUrKdloBK2AFrMDQK2BoD30VsABWwApYAStQFQUM7aqUlO20AlbACliBoVfA0B76KmABqqjAxRdfHM4///zw+uuvjzCfl51wLe/VqITnGvd7swJWoHoKGNrVKzNbbAXiZztZ9c37xLMbb0fjGp/GzG4LFy6M13gG3JsVsALVU8DQrl6Z2WIrEB566KEI369//esj1GgE7a985Svxvt/85jcj7vMJK2AFyq+AoV3+MrKFViBXgW984xsRwHxNK92KoM2b2+iBc583K2AFqqmAoV3NcrPVViDwOU4gPHPmzDo1iqA9ffr0GJ45bW9WwApUUwFDu5rlZqutQHjxxRcjhL/whS/ED5dIkjxo8xYywgF57vNmBaxANRUwtKtZbrbaCkQFfvCDH0QQb9iwoaZIHrR5FzrA3m+//WrhfGAFrED1FDC0q1dmttgK1BS45pprIownTpxYO5cH7QkTJsRwP//5z2vhfGAFrED1FDC0q1dmttgK1BT43//93whjetGvvvpqPJ+FNh/y4Pq//uu/BsJ7swJWoLoKGNrVLTtbbgWiAj/60Y8ilPmKGFsW2voC2U9+8hMrZgWsQMUVMLQrXoA23wr88pe/jNAeN25cFCML7T322CNe37hxo8WyAlag4goY2hUvQJtvBVBAL0154okn6nra/GZonOverIAVqL4Chnb1y9A5sAJh3rx5Ec6LFy+ug/aCBQvi+dNPP90qWQErMAAKGNoDUIjOghV45JFHIpx5rWk6PJ72wK2SFbAC1VfA0K5+GToHViAqsOuuu0Zw681n06ZNi7+Z0/ZmBazAYChgaA9GOToXViCsWLEiQnrPPfeM+9133z3uL730UqtjBazAgChgaA9IQTobVkDPY3/uc5+LsP7sZz8b95z3ZgWswGAoYGgPRjk6F1YgKnDQQQdFUH/mM5+J+0MOOcTKWAErMEAKGNoDVJjOihW44YYb6qCdvpPc6lgBK1B9BQzt6pehc2AFagrwNa9/+Zd/ieBmmJzf3qyAFRgcBQztkpfl5s2bw5FHHhkmT57sP2vQUh3gHeO8UOXf/u3fWgrvuuX/W9QB/Az+xlu5FTC0y10+gcd2dthhB/9Zg5brwPbbbx+hzd51x/932qkDPC7ordwKGNrlLp8wZcqU6HhXnn56eHD11f6zBq4DrgMdrwP4F+A+derUkntEm2dol7wO8GUm/jPdu/KKEB560H/WwHXAdaDjdQD/gp+hk+Ct3AoY2uUun2Bou6HixprrQLfrgKFdchAk5hnaiRhlPDS07bC77bAdv+uYoV1G759vk6Gdr0tpzhradqiGqutAt+uAoV0al9/UEEO7qUT9DWBo22F322E7ftcxQ7u/fr6d1A3tdtTqQ1hD2w7VUHUd6HYdMLT74NxHmaShPUrhenWboW2H3W2H7fhdxwztXnn0sadjaI9dw67GYGjboRqqrgPdrgOGdlfdeEcjN7Q7KmfnIzO07bC77bAdv+uYod15392tGA3tbinboXgNbTtUQ9V1oNt1wNDukMPuQTSGdg9EHksShrYddrcdtuN3HTO0x+Kle3uvod1bvdtOzdC2QzVUXQe6XQcM7bZdc99uMLT7Jn1rCRvadtjddtiO33XM0G7NH5chlKFdhlJoYIOhbYdqqLoOdLsOGNoNnHDJLhnaJSuQrDmGth12tx2243cdM7Sznre8vw3t8pZNtMzQtkM1VF0Hul0HDO2SgyAxz9BOxCjjYdmh/dov7worTj4pfG/3/4rf493xP/8zTNp//3Dr8gvDh/ff1/Hv/nbbeY01/jc33hMO+cEPohZ8nzj92/mb3ww/njAhbLr8sjFr8/GvHojfWH90zfUd1fjpmzaEcbvtFs6fO7dpvO2EzdOVNEiLePKuNzonnU84+ujw/n1b276/UdzDeM3QLqP3z7fJ0M7XpTRnywzt3/38Z9HpAuoZhx0W4Y0jPmjvvSOscKhvb9o4VA5VMNl9113D0uPmRE1o1PC3cMaM8F+77BK1OW3KlPDXLfeOWpuHVq+O8bDvJGTaAXE7YfNsNLTLM4JgaJfG5Tc1xNBuKlF/A5QV2gBn5uGTwt7f2TM8tX5dHTj+tu3+cN3ZZ4X/+Pd/DytPnx8+efBXddfzHPignBO06W1znM3X+1u3hHOPPy4C95JTTw1olQ3Tyu8yQLsVOxuFMbQN7f5612qmbmiXvNzKCu1mvay3Nt4TjjzwwDBx3x+EN+65e1RgauTwy3qtGbSx+917N4djJ00K9MafWHfjqLQxtP8xDeHh8c6A3z3tkoMgMc/QTsQo42HZob1wxvTc3iK9a4aHD95nn/DcLb+oA5PmwTVUTG999aJFgV6oYMw8JQ75vOOPD3dctCJ859vfDswJXzF/fjhg/Pgwf+qU8FGml0qvdcmcOeH748aFP996S4wLOx6/YW2YdfjhgWF8ev80Jh64alXdCEBRemvOOSf8/YFtNbtkX9G+FWhz723Ll8fe9rpzz63FLVuPO/KI2jA6NjMPntpLDzWdK0/nhd/buiVcvXBhnKIgr4RjvQHD82+20Hhq1hhL850NKw2x7/lbbgnHH3lk1Jw8cMy59P68njaNGOrD5AP+J7x4++114dN7pXOr0GYNwP2rroxaUo/Qhf2cIyaHP96wNqaD/stOmBu+vfPO4fG1/ziXpvmH668L3/zGN2LZ6XwrdZmw5BVb77vyp2H/vfaKulx44onhg5LMxxvaZfT++TYZ2vm6lOZsWaGt4XHAsGD69PDk+nW58JZz0/7/blgf9v3edyOULj/ttOjEADOO/eQf/7g2zysAACSc3M3LloUbz10aHrn+uhFgVtwv33lHOOC/x4czZ86MtuCEb1p2foyb4WoWx9196SVh6sSJEd7rzzuvBu6i9HDo6TVApfTy9oJJ0fC47gEKwEG2cv6uiy+OttKouH3FirBt1aoI4PF77BEB8/vrfh7TfnLdunge8ADoB1dfHd7dvCkwukHegBGQBhDk94Sjj4r5PWPatKYL4LIglr15+2xY6cToCmVMuWID5UwDjXPP/7MxRXxZaDPNArAP22+/WqMrL13OSedWoE09uPKMM6IGNB7QBLvQKGvXb3/2swjmaxYvqitn4rhs3rxon/LQal1WXvf41rfi/cRNXaQRUZS/Xp83tEvj8psaYmg3lai/AcoKbZyKnJZ6fcCCXiEwfOWuO2tAlANiNTngAMSAR+fZ40TpxTAXzm8BgHM40jTs1p+ujA74zosvqjuP46ERwXXC41wBBY46XfRFj5weVTo83Sg9XUt7tKk96bFg0gzaAp6gQw8ZbdAP+KZx0lAB8MtPOql2Pm94nHP0qunFp/eTX0ZEgP//u/mmumtpOI5lF0DNXsv+zoaVTpRB2iDiPo0spGWWQpuREWD9w+9/PzxzU2MbiU86S7+sbelvesM0ZuZPnTqi0XLPZZfGXjeNQu7RtA4LK//33s01DXReIzzt1GXiJa/8P8mWTWpnP48N7f76+XZSN7TbUasPYcsMbZwMsMFBa8W4AM6eedu/3H5bzfHJyQNMei6pk8JB4ijlLAUAhtdfv/uXdWGZI6c3JwdKPICJXivhaTBwjqFnAALM0rQ4Vk9XPapG6WXvbfRbMGkGbfKEra1AR3GmIM2DdiO70KKVRofKKE2rKN5sWGnIaAejHul99KKZ4kinAwRtRhQYDqeBRUMwva/oWJq0ol9RHJxXHlK7GBnIDpHTcKRRqgah7mulLpMOeSX/2UWbjWzr5TVDuw/OfZRJGtqjFK5Xt5Ud2qljeWfzpgjIc2bPrs3JMtQr6Ao0zHXjqNM/nCG9ITl8AUAQT9PJG6rU0HjqRHGUOF8ccpoWx7dceEF0ohqebpRemnazY8GkGbTl9LPQIW/06hgKZ4j87Nmz4vQAjaAUpNIyr0HCXD+jDIxeXLVwQWw8AZxeQftHBx8cqAupVsovQNR58sNIip7xP+WYH7f8zLV0zuqnuPP2zGvT60YzGpo8gqe0U2hnG3Sqb2mDUPq3UpexhbyqbufZ1u9zhnavPPrY0zG0x65hV2OoErRTx8Mc64k/OjoOCWpIFMeY9sTzjgUWQbTIKWvuUcONOJ10KF3356WRnlP8Cq/faV7aORZMmkFbYMDpa9SBUQlGJ2QfowSMKDD3ylxvM2gz2rDh/PNqDSbiYc523k9+EoeGpW2j/AiuaVpF4bNhG2mYDUucpIGN5I3HB8kvaxCK0kvPS+dWy+uxtWviS3+krRb4XXDiCbWGneLXeg01GDWykzYI26nLymuzOqH0+7E3tLvqxjsauaHdUTk7H1kZoU2PBZAwnKlV2nmORmASAFgBjdMUxPPu0blGACCMhtMBEkP09Jjp1Ws+GBACxHQlueLO2zdLL++evHOCSTMHLaevHh52M59Nj5hFSvwWzDWKIB1JVz29tKeNroBvzhFHxLnrdHU90wBlhDYjISykYzSG8ssuVsvTmHPSuRVoa20DjQNGH9K5atVRlYPSY22FhsjRmHJJ11a0U5eJk7JrVieUdj/2hnbnfXe3YjS0u6Vsh+ItI7RxKjg1AKyebp6jUW/4hqVLYu9JDjLtseg+HCm9LR53Ymi1FYhiA1DGqTL0mA69Ei+gajSnzb2sviZsK+nJ1kZ7waSRgxaggYhWIutxorTnrXSkWyNoA2jm+PPmTTXfX0ZopzYBDsrrrFn/WP2v/OftpXMr0KYxQ11VPUzjE6yy0KZcKB8eRWTVeHbIX2XSSl0mPUO7Qw7R0QRDu+SVoKzQTnsvvM5UvUI5ROYOWbWdOmWBkXN6Npbw3Av8cdg4SH4rbCOnzDO9rAAH9OoVKX32GpLlOsP1ukbcAC5vOL1Rerq/0V4wKYI2owKAGYikb4sTBLLPvfPs+unTpsbwmn8nffW06fHxW2BGB1abpzb+5tprok55GqXhOJZmaQMhG0a/s2EblVk2LHGQRlo/tCKbcqFHrHTy9tK5lfISmGmgpfWU3v2UQw6J2mpBotLCFkZxjjrowDisnr2uvLZSl5XXojqhNPu5l0ZTpkwpuUe0eYZ2yetAWaGNgwEYekEKz1KzaIphc+ZlGU7kDxinjlLP4nIfPWOcs57TZgXxq7+8KzprOcVGTllhACC99PSxLuwjXRYc0RjAYabPaXMPtgI7wiquvPR0LQVMkYMVTPLePc5z6NIr++5xpYGtvCAGXXguHbt5DOrA//7vupXmgjxD4ZQDjRL2AI9RB/KKIz5r1qzw//2f/1ObK0+H0/PyILgeut++UR80yv7xnDP3KqwArzzkaZgNy/1ZaKdxpgsY8+yUzgyn09vN2shv5vcZgXj1rjvD4f+zf6yP1DkWIgJwHoEDypSr8pCmpR56+mhger3Vusw9xG9ol9zZVsQ8Q7vkBVVmaOOMcJ68uIJHvgAOMGRFLivIs2/AksPLvkUKkOFk0zd2NQKA4mFPo4A09Xx3eo1jwJ2+EY2w2Mp9AjbhGqWna+1Am3Syf+STxgVwZV1A1lbyT8OHxo7sBL6as09XL2M7Q7eERfeHf3ZtzCuw1+N3XGNEgXIQ5It0ki2Ca9b29LcAp7D6LZ3GAm3K69ozF8f8pyMRsk97QTu1K3uc2sEiP0Z+WICGXjQKeLkJUzEsOMtr9GktQRqP0te+lbpMWEO75I62QuYZ2iUvrLJDW87L+868A9o6lkdHFlmy7oEG3qCXi4fHSw6CxDxDOxGjjIeGdnmc+KA7bufv07pGj5/piXR0Y5D1MbTL6P3zbTK083UpzVlD+1NHOshO03krRzkz/82wPIv/GEpvNEQ/SGVmaJfG5Tc1xNBuKlF/Axja5XDmg+SgnZfiOqXH8QA2q/yzixsHVvZwIwAAIABJREFUVTtDu79+vp3UDe121OpDWEO72MEOqgN1vlzmva4DhnYfnPsokzS0Rylcr24ztO3Ae+3And7w1TlDu1cefezpGNpj17CrMRjaw+dADU2Xea/rgKHdVTfe0cgN7Y7K2fnIDG078F47cKc3fHXO0O687+5WjIZ2t5TtULyG9vA5UEPTZd7rOmBod8hh9yAaQ7sHIo8lCUPbDrzXDtzpDV+dM7TH4qV7e6+h3Vu9207N0B4+B2pousx7XQcM7bZdc99uMLT7Jn1rCRvaduC9duBOb/jqnKHdmj8uQyhDuwyl0MAGQ3v4HKih6TLvdR0wtBs44ZJdMrRLViBZcwxtO/BeO3CnN3x1ztDOet7y/ja0y1s20TJDe/gcqKHpMu91HTC0Sw6CxDxDOxGjjIeGth14rx240xu+Omdol9H759tkaOfrUpqzhvbwOVBD02Xe6zpgaJfG5Tc1xNBuKlF/AxjaduC9duBOb/jqnKHdXz/fTuqGdjtq9SHslClTwg477BBWnn56eHD11f6zBq4DrgMdrwP4F/zM1KlT++DlnGQ7Chja7ajVh7DTp0+P/5n4D+U/a9BKHfjSl74UPv/5z4cvf/nLrjP+f9NWHcDfeCu3AoZ2ucsnbN68ORx55JFh8uTJ/rMGLdWBXXbZJWy33XaBveuN/9+0WgfwM/gbb+VWwNAud/nYOivQtgJLliyJ0F66dGnb9/oGK2AFyq2AoV3u8rF1VqBtBQzttiXzDVagMgoY2pUpKhtqBVpTwNBuTSeHsgJVVMDQrmKp2WYr0EABQ7uBOL5kBSqugKFd8QK0+VYgq4ChnVXEv63A4ChgaA9OWTonViAqYGi7IliBwVXA0B7csnXOhlQBQ3tIC97ZHgoFDO2hKGZncpgUMLSHqbSd12FTwNAethJ3fgdeAUN74IvYGRxiBQztIS58Z30wFTC0B7NcnSsrgAKGtuuBFRgwBQztAStQZ8cKJAoY2okYPrQCg6CAoT0Ipeg8WIF8BQztfF181gpUVgFDu7JFZ8OtQFMFDO2mEjmAFaiWAoZ2tcrL1lqBdhQwtNtRy2GtQAUUMLQrUEg20QqMUgFDe5TC+TYrUFYFDO2yloztsgJjV8DQHruGjsEKlEoBQ7tUxWFjrEBHFTC0OyqnI7MC/VfA0O5/GdgCK9AtBQztbinreK1AnxQwtPskvJO1Aj1QwNDugchOwgr0UoGNGzeG+fPnh02bNvUyWadlBaxADxQwtHsgspOwAlbAClgBK9AJBQztTqjoOKyAFbACVsAK9EABQ7sHIjsJK2AFrIAVsAKdUMDQ7oSKQxrHDTfcELbbbrvcvx133DEcffTRYevWreHjjz+uKfTggw/G8Ox7vT311FNh9913D+eee25Xkyb+gw8+OLzxxhsN05E9xx13XHj//fcbhi26iLa33HJL2GuvvaKukyZNCm+99VZR8K6cx4bNmzeHRx55pCvxtxrpa6+9FqiTo9Wy1XQczgr0UwFDu5/qVzxtQXvq1Klh+fLldX9nnHFG2HnnncP2228fLrnkkvD3v/895tbQ/rTQOwFtQEkD6ZhjjqmBU1p/mlJ3j/pZpsoZoKbxM5YGkOLy3gqUWQFDu8ylU3LbBG32edvLL78cJk6cGHuBzz77bAxSBgefZ2snz/Wyp33HHXfEHva2bds6mYW24ipDmRrabRWZA1dYAUO7woXXb9ObQRv7rr766ggV4MJWBgffbd16CW2VAbr2aytDmRra/Sp9p9trBQztXis+QOkJGEU9bbKaDSMHv2XLlrBu3braXCxzsvz+4IMPokKvv/56mDBhQpg2bVp49913R6h26aWX1vXgn3vuuTBv3rw4VMw8+5577hkuvPDC8Oabb9bu1XB0dk6buVDCMpzPvQcccECcJ/7b3/5Wu/eTTz4Jjz76aJg9e3Yt3Be/+MU4b3///fcHrmsbC7Rl4wMPPBDuvffeaAs2Ydvll18e/vrXv8ZkmC9n3jy7pgB9+WPunjjmzJkTpyhYX/DnP/852tlqPiiLX/ziFzUb8vJLXlMbSJc8CKJLly4Nt912W9htt91i2Vx//fWBUQHuwc7slqedtD/22GMDNvDH8eOPPx5vl2apHSrjvPi4SfopHOca6cb1bD2hzl511VWeQ4+l4H96pYCh3SulBzCdLJCzWQR6ixcvDl/72tfC73//+3gZx4hz3XvvvcN3v/vdgBO/66674pws5wETTpo/5sJ32mmn8Nhjj9VFzUKryZMnh1NOOSVC/umnn44AB2I333xzhB2wwLkD/XfeeSfeL+eeOuonnngi3gsUaQiwoGru3LkRdCtXrox2cPOdd94Z4zv88MPDrbfeGu67776watWqmAfmlH/3u9/VbCwCRS3APw9kTzoPq3OsEwAK6INNJ510UrSJl6YAU/5+/etfB739DFuwicYOGqM5+p5++unhnnvuCWvWrIn3tJoP5sVXrFgR84yWNCDQFo1Zp6AXt6AfaVN27H/1q1/FRpagDcT33XffsGHDhrB27doIWtUB9tktqx314MYbb4xpqnyxY7/99osNGeoVjTrso2z4wzbsYsvGp/SKoF2kG+Wyzz77xDSpJ6SnOnbCCSfUGlOK33sr0C0FDO1uKTsE8TaCNmClF5IFpxw2q5xfeeWVmkoC8VFHHRXefvvteP7hhx+O8GGIPd10XkPuAIme3JNPPlkLhrNfvXp1dO5//OMf43kBUdAGfIAfsMjJE1CNDaDJXDy9W2BJbzW7MvsPf/hDbFhccMEFtbSLQFEL8M8D2ZMHbdJObZKtNHaef/75WlQqgxSA0liNGgVuJx/0Kg888MDYKEBLbS+++GI45JBDwvnnnx8++uijeFrppTYI2kCQ8kq3vPC6ntUO/dGCEQONMhAWO/bff/9aw03ppVoSLhuf0imCNo2PrG5oT/ln6wlxMWJEHq+99lpF7b0V6KoChnZX5R3syAUMHF3R36GHHhroCWuTw86CmOs4WHpQL730UgwOvIF4OkSuHjhAYaEbG9DGcQLx9PGyeDH5R5AkHbZnnnkmjBs3Lpx33nm1HrWCYyfX6FE12vKcfxEosvHInhQ0Ordo0aLainvdRz41/KxzKoMUmNKY8K1u2XwI2jNmzIjDwo3iUXqpDYIo5URc6ZYXXtez2tFDp2efxk1Y6gENBxpSAFzppVoSLhuf0snml/OyK6ubyiSvntDLp36mdVRpeG8FuqGAod0NVYckTgEj75Eveh7Mnabzwsgix6hecioVDjYLJeCeDpGrR3722WfXoKbhcRoODHOfddZZMR0cebrJ+ZIOm2whH61sgIL0f/vb38Yh8jPPPDMO/ZKu4iSeIlBk05A9KWh0jiHY7IadNE401cB1lUEKNeWLYfW8rZV8aHicvAFNhp0Z3n7hhRdyGziES20QRPNgJvvS8LIzqx2/s3VCYdO90ku15Ho2Pt3TCNpZ3WQvUxFMQaR/NOp43C5tbCoN761ANxQwtLuh6pDEKWC0Cj1kkQMscthZB/2nP/0p7LrrrnEVuu7/6le/WgcIztM7pyekxWRAhKF54Cd4C4g4csVFuFbsB1YAiPD8ATIWyrGAjeFbxUm8RaCIiSb/yJ4UNDqXZ5P0TrXLO9dI43byQYOLj48AbPKrvDN6kr5IJS+9Ioimuqf5kCxZ7fidrRMKm+6L0svGp3saQTtrlzRW/vP2rdiotL23AmNRwNAei3pDfq+cGftWtzwHr3vzHDTzmAzRAkwWlAFmFqFl55YVB8PjzPmygOv73/9+BI3mGwVE0mGTLc3sJy2GYVlwxiIoftNbZaOxQC9LcXKuCBTxhuQf2dMraLebj8TUOJ+MXsz30hhKpyekI3ttRRDlel54ztO7Z1qABWdAlS2vTsQLmX+K0isqi7xyK7JLq93zRocyZvinFei6AoZ21yUe3AR6AW3U4zWdDJEzLAmw06FjFgkxTD1lypTaAjYpLigKqEW/8+YqWdQG9K+77ro4HM2wNMOjgrXSYGU7tikNzheBQvdoL3t6BW2G1VvNB2HHjx8f1wnIXvbkH73SnmUe7IogShwKnx2G1vxwCm3qWN6cNvEw90yDiYWGRelRFnlD13nlJrvYp5vC5tUTbKZRyaOAWkCZ3utjK9BpBQztTis6RPH1CtpaQXziiSfGoejsI2D0pIERK3nTTSu7BXlBUoDViuzsSm3AxMpz4mTls5z2ggUL6uboAcVpp50We/PpwrGyQrudfLDIj950dtU2Q+bokK5iF+zSt7IVQZTykR080pc2gnjendGMFNoq++xjVYy6MPqiURelBzzfe++9WjVgTYTKUSfJA6/dZZhbdYFrykcW2oqbhoqeDSc8ttOgpFGRzYvS8t4KdFoBQ7vTig5RfL2C9ocffhhfnIKTpVeTPvqD3Dw6xiNketaaHjnD4zynzLO1vHiFLQttzvFYFdDWM+PpM9E4dhy8nDbOmQVwLD5iURZwOeigg+KjR2lvuazQbicfAEnPR7PQimfpU230PD0aCsIzZ84MgJfep9JKdYmFEELtmvQkXrSmDJiGSKGdZ4eeFwfwpMemoXXOUfZ6XE5lDnB//vOfx3wcf/zxsffNI2OtQJv4VU9Ux9LntLOPLyrNvLxLA++twGgVMLRHq5zvq61cBt6tbkW9Ge7HgabDrmmcOHagXZQWjxUBVC1EY88isfRxIznT1FGTRvbevDei8WY1huGBAnYQhreF0aujl53O8ZYV2uS1nXywPgA4seAOwPLHorTsl9to2NCjRRvC8NKXRtCWHcuWLavdA6xZ3Eb5ptAmLOBmuJ7GA/Pp/KVvRCMMG08R0POmfOiZM5LCRu+YXjm2YSPl+Je//CUA1bQuNKqbxEM9Sd+cpzqWvnWPcKpnhnaU3/90WAFDu8OCOrruKMAiIHrEDJd6swJlV4BGBtMIjBJ5swKdVMDQ7qSajqsrCjAcztxq+mx2VxJypFagAwrQw+cNeXpqoQNROgorUFPA0K5J4YOyKcD7vJnr1ONW6fu9y2ar7bECUoA1FAsXLqybmtE1763AWBUwtMeqoO/vmgK8eYw5SN4rzpeimNv0ZgWsgBUYZgUM7WEufefdClgBK2AFKqWAoV2p4rKxVsAKWAErMMwKGNrDXPrOuxWwAlbAClRKAUO7UsVlY62AFbACVmCYFTC0h7n0ByDvvByDl2nw4ozs6yfT7OmNWYTNvrwjDaevivFlMY6bbbyAhGdy+ZCGXuzC4rmTTz45fpq03cVz+kAKdo7mkaG8r1c1ykOrL4JpFIevWQEr0DsFDO3eae2UuqCAoA3k8j7ooCT1Vadm0ObNXsCX91U3e580gF28eHFsNPC5Sl5tqleo8rERGhK8CrQdcPNKUN4Khw16r7by0Mre0G5FJYexAtVVwNCubtnZ8n+++pSvbPG2tEaQ4zWogBgYFvW0+XQlcZx66qnhpJNOahgfr+4855xzIpiBNT3udOP923Pnzo2PrOn92On1vGPgTkOBr1JdccUVIz50kXdP9pyhnVXEv63AYClgaA9WeQ5dbuhp0zMFdkCZoersxtA4b1ObNWtWfAd1EbT5ohdx8OUmXptKT5l3b+dtfNGKsPTuAXjepndQ533kJC+8Gg0MtXMvX9Jq9y1whnaesj5nBQZHAUN7cMpyKHMiaN9zzz0RcvoMZyqGPjO5bt26+JGIPGgL7DQAAObzzz8f4wOg+vCE4tT8OD18hrOLNt47zZux+KoUNjTbaCDQUOCjGfqyWaP3rb/wwgvx62fMofPHl7f4EAb5Q5d04wMeV111VRyRIA0+uMH9hEv1YF0AGjzwwAPx1bGE5Y10f/7zn2N0TAmsWrUqxsNUAyMXfEQj+9EMNOODKnxYhXB85IN4GHVIpwtaDUfiraZN/I8++mjMI+mS/r777hvzjw7erECVFTC0q1x6tr32ZTC+5DRv3rzYk2ZoOt2AIZ/o5POKfHkphZTCCeyCtKApiCsce3rEEydOjH8cd2JToyGFNL19gJP3ZTO+aEVY7OOTkwz/8yWr6dOnB+bTU2gDKob7ATA9d/QAtHxWdMqUKXV6AG1GEPhM5umnnx5oDK1ZsyY2XPgEKuAFhEuXLo3x0EgC3OnnKcnLihUr6sLpc5rYsGnTpihZq+EI3GrahCUPNGLyPinKGoSikZFOlKPjsALdVsDQ7rbCjr+rCqinTe8YyGV7v4IhMAawRdDWpz8ZGtemc9lV3Br27uSnF7VQTo0GbNC57PC68gSw9d1owgMjhusBfQpt9eCZe097uVu2bImAThsxAI/7UzuIm/voyQN07ks3bMAWDeXzCUs+VbpkyZK69F588cVwyCGHhPPPPz989NFH8d3crYRrJ23Cki7xpp9lRRs+yUmjAzu8WYGqKmBoV7XkbHdUIIU2n+2k95lC9vXXX4/fgwbG+sZzCikiYYgWSKW9XM4LmtkFbt2ANvYBy7TRAJz5VjegZL5dm+ziGmHSjeF6Gi6CtuJgcRv3pRsjEvTOUz0EbXrX6SYd8xoq2TQEbRobKTjT+DhuNVw7aQvaNCJ+85vf1DUasun7txWoogKGdhVLzTbXFEihLfimPVMgxIIugF4EbcE+27sERvQeGdIlHm3PPPNMGDduXOy1d2KOVHZnGw2kp15y+jgbi+0AeRashM8uRHv77bfDUUcdFWbPnh3ee+89ZaG2R788aDPKkG5qqPCJVB5ry/6x4l6jHOjG8DiNELQ7/PDD4+NwzKEDVW2thmsnbeKmrBgeJ3005UtxaOZhcSnvfZUVMLSrXHq2vTanjWNnY/6XXha/AQSwE4yLoE3PHAff6E9Dv6QhEDKv3Yk5bb3QpVH6DPdqMZt6w3lz3Vlo63deD5m8FEE7baQQTmk2spFrug9Abty4MQIbcOs+nmd/5JFHiDJurYRrN20ipvxZ4yB4kz5z7yxGNLz/Kb53lVTA0K5ksdloKZD2tDmnXhlA07CqhpzzoK03kPEGNOZC6ZWlf0CfRWxpL1g9cPUsZUvengYB86gM1RZtajSwWCxNW8dTp06N0FM+etHTFnxl85NPPhk/kZq3Ol9hivZoTHw0nljEljZA0nuKwo0lbQBNnWA+nk+80oBg9MKbFaiqAoZ2VUvOdkcFstAWmAEEz1LzqA/D32y6lg4Haw44b36Ye+it8ww4PbV0rlzPdAP1op4bvXCAnQI/GpL8o3nlvDlnBVNaGvbXnDY9SVa5p5saLejCRgODvDFFwGNs6Zanh3q1WWgrzbweO2mwKpu5/+eeey4ORY8fPz4uDEzT08iHRkJofLQSrp200ZzH2Vj5ntWGPAHtvBGK1E4fW4EyK2Bol7l0bFtTBbLQ5gacMpBiHldD45zPQkpAbtb70vC1oElczEPPnz8/QiDvjWhcv+CCCyLs6eWRVt4mIKfD79lw6WgAtgBJ4mboN33bGo0Heuc0MARt4tKLYLiWNjC4lzjSRkwRtJUmc+n0VNP8MIpAPNJaj88x/43t2kh7wYIFtQZEq+HaSZuwaEnDIF1Zjw1333131IanDLxZgaoqYGhXteRsd1QgD9qCLPBKe1VZaNMro3dYNFwriQXN7CpuXigCmEgnffc4Lx/hWWnO0wNNwaU42bfaaCCshtD1PnSeW+bZaOZpGbJm4RjD69hIIySFtmDOecIQlnu+9a1vha9+9astQRsblGbec9qMJgiS5It3rpNe3rPSasS0Gq6dtAmLHdjDs+bXX399XDSn58kZ+ejEOgTS8WYF+qGAod0P1Z1mxxTIg7Ygq2FYJZaFdt7KbIXN7vVIVrZHTI+aF5AAAy16Ys8rUx966KER7yRP41VPc8KECXH+Pb2WPdYK97SBQaNh2bJlMV0AiQ3kiZ5zCm3iAtzkQY0JoLZ+/fpw1llntQxt4kHb9I1o5JVhelaGpxvvYscW8oZt/LGKfOvWrXWatBqunbQJyzA9Q/kqE/KL3UUNqNR2H1uBMitgaJe5dGybFbACVsAKWIFEAUM7EcOHVsAKWAErYAXKrIChXebSsW1WwApYAStgBRIFDO1EDB9aAStgBayAFSizAoZ2mUvHtlmBHAV4rGn16tXhyiuvzF0JzWNkXPvtb3874m5WTnON+4nHmxWwAtVSwNCuVnnZWisQFeAFIjxSxotTshtvduMan8/Mbnzfm2usbvdmBaxA9RQwtKtXZrbYCsRHp4Dv17/+9RFqNIL2V77ylQhtXrjizQpYgeopYGhXr8xssRWICgBswM0Xt9KtCNo8N10E+vR+H1sBK1BeBQzt8paNLbMCDRXQUPfMmTPrwhVBe/r06RHaZ555Zl14/7ACVqA6Chja1SkrW2oF6hTgdZ30nL/whS/Ed6HrYh60eXMb4QivD6govPdWwApURwFDuzplZUutwAgFvvOd70QQb9iwoXYtD9q8Cxxg8z5ub1bAClRXAUO7umVny61AuOyyyyKMJ06cWFMjD9q8AxxoX3HFFbVwPrACVqB6Chja1SszW2wFagq8+uqrEcYAmWO2LLRfe+21Whh/4aomnQ+sQCUVMLQrWWw22gp8qsAPf/jDul50Ftp8zhOo8/lQb1bAClRbAUO72uVn661AWLduXYTyuHHjohpZaO+xxx7x+s0332y1rIAVqLgChnbFC9DmW4F0ZTgrylNopyvMrZQVsALVV8DQrn4ZOgdWIMyYMSP2phcvXlwH7QULFsTzs2fPtkpWwAoMgAKG9gAUorNgBbZs2RLhzFvS0p62X1vqumEFBksBQ3uwytO5GWIF9FpTvfls2rRpNZAPsSzOuhUYKAUM7YEqTmdmmBXQa0333HPPCOvdd9897s8666xhlsV5twIDpYChPVDF6cwMswJadPa5z30uwvqzn/1s3Pu1pcNcK5z3QVPA0B60EnV+hloBvdb0M5/5TAT29773vaHWw5m3AoOmgKE9aCXq/Ay1AnqtqaC9cuXKodbDmbcCg6aAoT1oJer8DLUC6WtNeQuaX1s61NXBmR9ABQztihfq8uXLw+TJk/1nDWp14POf/3wcGmdu23XD/zfSOoC/8FZtBQztapdf2GGHHfxnDerqgL6bzd71w/8/snWg4i5v6M03tCteBfQf8sHVVwf/WQPXAdeBojogX1Fxlzf05hvaFa4CH3/8ca0nFR56MPjPGrgOuA4U1QFB+5NPPqmw17PphnaF64ChbQdd5KB93nUjWwcM7Qo7+8R0QzsRo2qHhrYdc9Yx+7frRFEdMLSr5uHz7TW083WpxFlD2w66yEH7vOtGtg4Y2pVw602NNLSbSlTeAIa2HXPWMfu360RRHTC0y+vL27HM0G5HrZKFNbTtoIsctM+7bmTrgKFdMgc+SnMM7VEKV4bbDG075qxj9m/XiaI6YGiXwWuP3QZDe+wa9i0GQ9sOushB+7zrRrYOGNp9c9UdTdjQ7qicvY3M0LZjzjpm/3adKKoDhnZv/XO3UjO0u6VsD+I1tO2gixy0z7tuZOuAod0Dp9yDJAztHojcrSQMbTvmrGP2b9eJojpgaHfLE/c2XkO7t3p3NDVD2w66yEH7vOtGtg4Y2h11v32LzNDum/RjT9jQtmPOOmb/dp0oqgOG9th9bhliMLTLUAqjtMHQtoMuctA+77qRrQOG9igdbcluM7RLViDtmGNo2zFnHbN/u04U1QFDux3vWt6whnZ5y6apZYa2HXSRg/Z5141sHTC0m7rUSgQwtCtRTPlGVgHaH//qgXD/qivDjydMCDv+53/G739/b/f/CqdPmxqev+WWofwG+EOrV0cdzp87d9T5f+2Xd4V1554b3r9v66jjyDr1bv+mLty78orw6Jrrm9r89E0bwrjddgtj0ajb+ala/IZ2vh+t2llDu2ollthbdmgDlLNmzYyA2vs7e4azZ88KK04+KZz4o6PDzt/8ZvzbfMXlTR141ZxjM3vHCm10PeHoo+NflaCtfLNvppGh3fmRAkM7cZ4VPjS0K1x4ZYf21p+uDP/x7/8eQf23bffXOeo/33pLOGy//cK+3/tueP7W4epxC16j7UUa2p0HWrNGxCBcN7Qr7OwT0w3tRIyqHZYd2kCJIU56TXlO77bly2MvnGHevOuDes7Qdk+7H3Xb0K6ah8+319DO16USZ6sA7W/vvHN45PrrcqH81Pp1Yfwee4Qr5s+vu/7e1i3h6oULA0PqOJr/2mWX2Ft/856768IBPxoFD66+Ohx/5JGxV3/0QQeFU475cfj+uHGB3nzWOar3f+fFF9WuMT/MsD3pkB7prl60KLy/dUstDPHQCGFY+r4rfxr232uvOEd/4Yknhg/anFfOg7by8scb1oYN559Xyzu28PvD+++LtmjYWA6YfdpjH4t2rDt4esP6mEfiZM0BurIWgT+O89YhtJIm8aU2N2rMobXymeYtW5bpb5Uh5a50KKO0HN+45+4wcd8fhBmHHRb+997NdWVLXJefdlrUXSM/nzz4q/D4DWvDrMMPj/ln1OjIAw8MD1y1KnBN6Wvk47zjjw93XLQifOfb345TP2vOOSf8/YFttXAK36+9dPnkk08q4d9sZL4Chna+LpU4W3ZoC5CAmV71WxvvaerAXv3lXbVFazhBAIkzBaiTD/ifwHU5PUD3zW98I4J/wfTpYeNll4Ubli4JGy+/LAI8BTP3MER/5syZ4YD/Hh9evvOOGM//3bA+DtETP+mQHukCqZN//OPw1y331tIDIHt861vRsV+zeFG4dfmFcZEdceeBWHZm93lhOUcD56iDDgyH/OAHMe67L70kTJ04MUJo5enzIyje3bwp2gg8+GNh15Pr1kUbO6Hd25s2RmgDN6YusmWQnc5oNU1spCEGONjT0CIvWW30ux1o0zijTGkIXLVwQdi2alW4fcWKWI9IT9oB2svmzYs6P752bV3a1E30nPeTn8QGEmFvWnZ+rAfZ8gDe6887rwZuQZv0aSjcvGxZuPHcpYEGmPJThr2hXQm33tRIQ7upROUsEeCFAAAgAElEQVQNUHZoA8lLTj01AlQOg57QObNnh9/+7Gfho8w8N44SBwuIgWfq6HD6OMUlc+ZE+HJN8JOjVfhX7rozHLzPPmH+1Cl1aQBqnLvioPd6xrRpMV6BT3GQPnZcd/ZZNTvUW6QBonDay5ZWeoZ5YXUu2zARTH508MHhnX9CTpCg188xNnRKO8WdBRNpaDpDjaHRpklepVvRvh1oA1eeSKBOpfGhF40e1k6owUgYypVGVxpW55U3ets0UBhdSBtu1OllJ8wNu++6a3hi3Y0xDmlGvFkb0jT6faz/g+5pl9ent2KZod2KSiUNU3Zo46Rw7AARgLJiXI6DPb1bhn61SE3DlymM5OjyeskCHb1rhVOaONbsEDm9UmDECADhBAbCYmcaB8OnDKOmQ6kAmaFPhvXTsO0ey+4U8DqXhQl2LT1uTux9v/nPkQpBItWpU9op7nQ0Qvkj3+RfaxBGm2anoS378vZoTE9Z2gFyGkBpuaIxPXAaejT4iIc8UlfybKWXzqiIykqacf/rd/9yTHUjLw+dOqf/e4Z2SR16i2YZ2i0KVcZgVYB26nAALz0Yhg4ZisQp8kdPiXCCKL0bhjizf/OnTq0b2hTogHGaDsfqOalXLOgz7AtsCKP7gWI2LcBOLy2FFwBIf2fTbPW30s2Dtnp6aVyESxsggkQK7U5pp7jTnr1sURpMI3BOv9strzwQKg3tFXeqka4V7bGdhgX14dJ5p9amWVJocy+wBboaItdohkZgCEO6hAHe2bpxy4UXxMYLUy3UK2mWNgSKbOzneUO7jF68fZsM7fY1K80dVYN26rDo3TAETe9bgBDM5FyK9nL6Cq/fafxyxBo619A4PSr1qnHIRWnofLpgCkeeBUCaZqvHsjsFks7l5YVwqR2CRApt3S+7i/aKX+H1W7bnxa1rWZAqjqK0dF5pKLx+K968fTatvDA6x4JBGhJ6eQ/pMlzONAwgzZYZw9oMb6unjD3f2HHHWq9aGsj+or30V3j9ll1l2ysf7mmXxoWPyhBDe1SyleOmMkMbp0vvUL2yPAem3q+ApOHXRvek8TSDAE6Z1df07ul9ZeccWQWMI8vr3abp6LjM0O6Udo0AlAVpp9KUvuk+m1Z6LT2mAcY6CMqRl/e8ePvttekW1a8stJmjnnn4pAj0d+/dHOeoGfnRvDdxMvqSjm6kaWaPG2mWDdvP34Z2Ofz2WK0wtMeqYB/vLzO0tRgsdYZZh8VCMHrCmgtUbzivx4ID5u1qxKfHjppBWz0qhsgZylSPXnZobrJoThvHftyRR9QWgJUZ2p3SrhGAsiDtVJoqj3SfTSu9lh5rjlp1KL2mdQlZaBOGOsHwN6/YpU5lG4o0+BrNaQN0VsETVyPNUnv6fWxo99FZdzBpQ7uDYvY6qjJDO+0B0WvhWd7UafEeah5pYnh8+Uknxd4RYOaYHvGWlStrw9jc9/C118awGu7mXDNoq0eFU6bHreFQ2SFnS08/fTwH23HqOO10OL1s0KZBIV07pZ00yWs4ZUE62jQZ4VAZFO2zaRWFE5h51IpetsJRhjz2RRnmrUNg9IU6ccoxx8S95rd1v9JH4/TRNPRhUWU6atNIM8VXhr2h3WsP3Z30DO3u6NqTWMsMbZwU0DxtypQ4dAmcj500Kb7EhGFMnCxOhDnHdMUtz/3y2BPzk9lnhHGyDMnKATaDNuE0b50+oqP72RMf8eY9p519/KoRtGULYdL4847zwuoc++w9xKkpBK4BS0YO0HTtkiV1z2mPVbtGABLI0jy2U14a2ZhzxBHxBSUpDLN5VlqH7rdvrDO8/Cb7R6OP+1TGvByGc/ydcPRR8Zn6Y344oU47pcPjhsCXOsiISvpYF2GAPs9iA3166jyTT7x6bh5bKAfCNtJM6ZVhb2j3xC13PRFDu+sSdy+BskMbR0WP+jfXXhOHmQEjjgMg42DpCelNX6lTy75hCzjhYP9y+211QGsEOsWnHlWeY1YYvU1L9rHHKWffwFYWaGP3MzfdFId10ZOXwOitbGPVrhGABNIU2tjSappAjjeUUZ7A8OGfXVtXnioP9kpLoMnbyw7i5QkEGl+EU/lRrtnH/NI0uEZ4oJ+e1zHgTt+IRtiD9t47jsII2IRtpJniKsNeGnohWvd8ci9iNrR7oXKX0qgCtMvgrGyDP7CRVwdYgAjoadjlXR+0c4Z2lxxxj6M1tHsseCeTM7QNo0EDS6/yw3A4z5enz2b3Ku1+pWNod9L79i8uQ7t/2o85ZUPb0O4XAKqa7u+v+3mc+mB6hmF6flc1L+3abWiP2eWWIgJDuxTFMDojDG1Du13HPezhgTSw5nWsfJGLeeth0cTQHp2fLdtdhnbZSqQNewxtQ3tYgON8jr2uG9ptONcSBzW0S1w4zUwztMfuyAwDazgsdcDQbuZRq3Hd0K5GOeVaaWgbOMMCHOdz7HXd0M51o5U7aWhXrsg+NdjQHrsjMwys4bDUAUP7U99Z5SNDu8KlZ2gbOMMCHOdz7HXd0K6ws09MN7QTMap2aGiP3ZEZBtZwWOqAoV01D59vr6Gdr0slzhraBs6wAMf5HHtdN7Qr4dabGmloN5WovAEM7bE7MsPAGg5LHTC0y+vL27HM0G5HrZKFNbQNnGEBjvM59rpuaJfMgY/SHEN7lMKV4TZDe+yOzDCwhsNSBwztMnjtsdtgaI9dw77FYGgbOMMCHOdz7HXd0O6bq+5owoZ2R+XsbWSG9tgdmWFgDYelDhjavfXP3UrN0O6Wsj2I19A2cIYFOM7n2Ou6od0Dp9yDJAztHojcrSQM7bE7MsPAGg5LHTC0u+WJexuvod1bvTuemv4jPrj66uA/a+A64DpQVAfkKzruhBxhTxUwtHsqd+cT039E73cI1uAfGnzpS18Kn//858OXv/xla7KD60X2/0XnvZBj7KUChnYv1e5CWsuXLw+TJ0/2nzWo1YFddtklbLfddoG964b/b6R1AH/hrdoKGNrVLj9bbwVGKLBkyZII7aVLl4645hNWwApUWwFDu9rlZ+utwAgFDO0RkviEFRgYBQztgSlKZ8QK/EMBQ9s1wQoMrgKG9uCWrXM2pAoY2kNa8M72UChgaA9FMTuTw6SAoT1Mpe28DpsChvawlbjzO/AKGNoDX8TO4BArYGgPceE764OpgKE9mOXqXFkBFDC0XQ+swIApYGgPWIE6O1YgUcDQTsTwoRUYBAUM7UEoRefBCuQrYGjn6+KzVqCyChjalS06G24FmipgaDeVyAGsQLUUMLSrVV621gq0o4Ch3Y5aDmsFKqCAoV2BQrKJVmCUChjaoxTOt1mBsipgaJe1ZGyXFRi7Aob22DV0DFagVAoY2qUqDhtjBTqqgKHdUTkdmRXovwKGdv/LwBZYgW4pYGh3S1nHawX6pICh3SfhnawV6IEChnYPRHYSVqCXChjavVTbaVmB3ipgaPdWb6dmBbqugKHddYmdgBXomwKGdt+kd8JWoDsKGNrd0dWxWoEyKGBol6EUbIMV6KACt99+e5g5c2Zg780KWIHBUsDQHqzydG6sgBWwAlZggBUwtAe4cJ01K2AFrIAVGCwFDO3BKk/nxgpYAStgBQZYAUN7gAu3jFl76qmnwu677x6OO+648P7770cT33jjjXDwwQeH7bbbLvdv/Pjx4cILLwyvvfZa0yzdcMMNuXEo7p133jmcdtpp4bnnnmsaV6cCfPDBB+HWW28Nzz77bC3KBx98MNqJvWXapN/8+fMDdudtKq+0DPPCNTqXp0mj8L24prp57rnn9iI5p2EFRqWAoT0q2XzTaBWQY0wdviCw6667BlY+L1++vPa3bNmycPjhh4ftt98+7LPPPuGZZ55pmLSgQzz33Xdf3d/mzZvD4sWLwxe/+MWw1157hSeeeKJhXJ26iE00VMi7trJDG72LFrKpvNIyVL5a3edp0uq93Qqnumlod0thx9sJBQztTqjoOFpWQI4xdfiCAL1tjrPbJ598EtauXRt7ppdcckngd9EmaLPP27j37rvvjo2As88+O/z973/PC9bRc2UEVFEGpR8jE/vvv3948cUXRwRVeaVlOCJQkxNl1ER109BuUni+3FcFDO2+yj98icsxpg5fECiCNiq99NJLYb/99gtHHXVUePvttwuFE3TYF20Msx944IFh4sSJ4a233ioK1rHzZQRUUeak39SpU2PD5rzzzgt/+9vf6oKrvNIyrAvQwo8yaqK6aWi3UIAO0jcFDO2+ST+cCcsxpg5fEGgE7VbCoKigw75oK4qLXvhDDz0UjjnmmDiEzhAxQ/Nbt24NH3/8cS065SEvjRRGzNmTT82ns1ces8PjCgswmG+fM2dOtIGhfI7z5uCffvrpcOyxx8ZwO+64YzjzzDPjkD9pjBY80m/jxo0x3a997Wthy5YttbxzIP3SMuQ8+j366KM1m6Tf/fffXxsdUT6zmpAu4dEl3WTP1VdfnZ4Ov//97wO23XHHHbXzNOyY/mDdAvEzBbJq1arw17/+tRZG6S9dujTcdtttYbfddgtod/3114c//elPcRoj1Y659wsuuCDaxmhPWg9qkfrACvRQAUO7h2I7qRDndYsWogloeTo99thjgTnvefPmhQ8//DAvSDwnJ8++aFNcp5xySm2xFcC58cYbo3M++uij48Kxu+66KwIcmKxcubLW42wV2gy9P/LII3GefqeddooNil//+tcxzSJoT5gwIc7dA5V77703XHrppRFCzOen4OZ+4PTd7343AgdbsRttgVAKniId8s5LP+Jnzp/4Jk+eXLcIMA/a6Ld+/frYgKAcb7755pDqh7aEKdKEMiEt8quNsIsWLYoAPuGEE2plxXUgTnjKgg1bgTR6AGq0Q0MaPdOmTavZL2hz77777hs2bNgQp14ef/zxWt2UdowwsL6C8r/22mtr5S/7vLcC/VDA0O6H6kOcpoCX9tIEgTxo4zgBH+DAeW7atKmheoJOHrSJ67e//W046KCDItjSXh29LBoFwCHtmdHTAhyA8He/+11MW3nIS4NzKUy4Ie9cEbTJowCnjN5yyy0RXOpVYt+MGTPi8P7LL7+sYNFu7KeXKfDULrZ4gK3cj31AdvXq1fH35ZdfXustq7zSMqRBQcOCUYFUPzRniB1t0VhbVpN33303wjWN8/XXXw80YuhRMzVCT5pN4FVY6ZFdXIj9Wr8g+3UvcT788MMyJ+5VrmiH3YD6q1/9al2Dre4G/7ACfVDA0O6D6MOcpByjHC5aCALpkGn2mB4TPSicaaNN0Mnen/6mcUCPF6eujR4evWF6fNmNc1xjmJRNeSCt7JaFEdfzzhVBO4WT4n7yySfjMK7S09BwdsiY8IAIIHUC2sTHnD89+LTRovJKyxDbaHCkDSHZL/1Se/M0oQz23nvv8Pzzz8db1ftmlIP0KTM2rhNO8TXSQ40BrV8QtFnTkH2EUOVKD52GE8BesWJF0zqnfHpvBXqhgKHdC5WdRk0BOcbU4QsCeY98XXTRReGee+4Jr776ai2ORgfAAECnj3xpmBbHv2bNmhErxulN00PNc+SkJftks/IgiKb25MEo71wRtPMW2ik9DR0zpEse8wApoHUK2uSNEQa0Y5j5nXfeGaEHYUhPUwDZR+0YKmfumBELrdYv0gRQKl/kk5428KYxI0jz6B4NE2DNJj22bdsWf2f/wTaNfgja5AWgp5t0Jiz55U+2pOF8bAX6qYCh3U/1hzBtOUYBEAkExbzh8XYlAgYAjX264azPOuus2BvM9p7kyIvSl32yWXnIpkF6eTDKO1cEbaWR2q70BGLiK4K2bFXYNJ5WjvPiBrRoRposxmLYGq1kq/TjeqM/hS/SSU8I0DjRfDZrGGgo0KjimAYWw+1Ml2jlf57NaV7zoJ3aorDSmTww/cBwe3Y+X2G9twL9UsDQ7pfyQ5quHGPqNAWaImi2I5UcOPvs9sorr4RJkybFXlq6IrqTPW16g+rVKX1syZ4bC7TVs8zrBQp8nYQ2+WDunCFmQPbAAw/UQZtpBkY20qFt5b1on6cJCwwB8+zZs8Nf/vKXmJ7KEV0ZCWHFPKMRgFvTG9KjnZ52Wv9ko+rmySefHOfNWVjHkL/mwxXOeyvQTwUM7X6qP4RpyzGmTrNX0EZuYM3QKgBKF3HRu0uHXNOi0Zxsdk5bw7UKq95hFtB5gBoLtBvN4XZ6Tlt5S7U79NBDYyMkLUO0aDSnzatoWZOgLU8TrnEe+PM2NnTUEDh6MVzNwjiG4Rki1yY9NH2g8+yL5rRT2xVedVMNHnr4DKMzbUMd8GYFyqCAoV2GUhgiG+QYU6fZS2izkI1neRkCZchXc6zNVo8DdK02Vm82fWSMItRjR3nQZk6XBWXaxgJtrZbONjw438nV47JV+1Q79EvLUOVKLzmdK2bonN5zqh/xAeesJpxXA4m8MZ/NUDyb5uoBdrZHLz0arR7Xm/Q0lJ/aHhNIFhgK2pzXfH52Vbzu8d4K9FoBQ7vXig95enLuqdPsJbSRX48n0XPTY1wMtTZ6TjudBwf09LoB19y5c2Ovj14k0OBNYllo0yskLAuxmj2nneqiqiLNUpio55k+p81LYVjIRY83Dav78+JWGtoDU2wl/rxN2mWhnerHNEf6nDZhed45Xfmfpwnp8bY7hr+5B9jrmfz33nsvDptnz8tGNZjyntNm9TtTI2ztQltljaYMl3uzAv1WwNDudwkMWfp5AOk1tJFc85VaEc05wMPbu3DyPGLGH8fZN6IRFud/1VVXxd4iIDnggAPi0Duwy0KbniBzvsQ3bty4+NGTsfS0VWV4IUj2jWjMN5N+OnSfp7niyO6bQZvw0i7bCEC/9I1o0oXnzFNgE0eeJpwnDuaruZeV/unG8DfnsTFve+GFF+IX3PRGNF6eQmOKtLS1C23u4/3rvIc9+4Ibxem9FeilAoZ2L9V2WlagywpoeHnDhg11KTHvu2DBglrPte6if1gBK1AZBQztyhSVDbUC/1CAz5PS86M3Tc9UG8esdM6+fYzV8Qzn84Yvb1bAClRbAUO72uVn64dQAYZ4TzrppDjczqI65od5gczxxx8f57Oz88fMQy9cuHDEG8CGUDpn2QpUXgFDu/JF6AwMowLM0zJfy7wt87wslMr7ItkwauM8W4FBVsDQHuTSdd6sgBWwAlZgoBQwtAeqOJ0ZK2AFrIAVGGQFDO1BLl3nzQpYAStgBQZKAUN7oIrTmbECVsAKWIFBVsDQHuTSdd76ooBeUMICsewfb2EremFLq8bqZSnpS0Z4A1r2pS6txKe40jeotXKfw1gBK9AfBQzt/ujuVAdYAUGbV5ry+FX6d8YZZwTe2MVqb96HrXeftyOHQGtot6Oaw1qBwVDA0B6McnQuSqSAoJ1CNTUv/czls88+m15q6TgP2i3d6EBWwApUXgFDu/JF6AyUTYFm0MZe3mbG0Pkdd9zRtvmGdtuS+QYrMDAKGNoDU5TOSFkUaAXaeWH4qMbdd98dP0nJ8DkfGOGDIHyEI31daR608+a0uSf9gIfi40Mj2hRXdk77tddeCxdeeGEcyqdxwRfM+EAKb2NLN16R+otf/CJ+MIVw+sgKH15JbU7v8bEVsAKjV8DQHr12vtMK5CqQB+Q0oL5LzTem+ZAHG+eY+wbWvI6U15LyeUs+c8niNb6UJQgKtKSjLQttwupTo/pUJvHtt99+EcRKV3Gl0OYcX7Ri7p0va917771h6dKlEch8r1tfzWI+nk+WAmquE042k49NmzbJPO+tgBXokAKGdoeEdDRWQAo0gvZbb70Ve6yALv0sKMADdNn3hhOecOlnIQXaRtBmrpze8Zw5c2qQxT59ZvKUU04J9JIVl6DNufnz58eV6HyjOt22bNkSaGjowyP0xg888MD42VE1KJTGIYccEs4///zw0UcfpVH42ApYgTEqYGiPUUDfbgWyCgja2ce90t+HHnpoePrpp+OtH374YZg3b17sBb/00kvZ6OIHQbhXn9sUaBtBm7A0Avhud7oBV2DKY2cAXHEJ2vrNN61TEBPHu+++GxsQNCI4FrRnzJjhj5GkIvvYCnRRAUO7i+I66uFUQNDOe+SLXirzzAyHa6M3PXHixDB79uzw3nvv6XRtL5BmwdoI2oRt5bntbNxAngbCkiVLwn333Vf3x2jAMcccU2tcaHic8DQQ+GDJ2rVrwwsvvDAC+LXM+MAKWIExKWBoj0k+32wFRiogaKdQHRnq0zNvvPFGnLs+7rjjRiz0IlQWrPqdxp+FdPb3p6nVHykuNQhkezoqkD1OGwM0PjZu3BiBDbgVlpGERx55pD4x/7ICVmDMChjaY5bQEViBegUEvhSq9SHqf5Wpp71t27ZRP4rGAjV66syXM2fPfDfPpHuzAlagcwoY2p3T0jFZgahAu9DWnPbee+8dnn/++REqbt68OYK0nTltbMib0ybyNWvWxCHuP/7xjyN68Y899ljYaaedQtGcNvPXDOO//fbbceX7+PHjRzxrzlw496c98hGZ8gkrYAVGpYChPSrZfJMVKFagXWgTU7PV46wE19vTNKSd9uSzw+FaPZ4+okU677zzTlxMNnny5EAPX3FpeJznsBmmB7jp89yAmMfOaAjw+lV+04umN51doc6Q+YIFC0JRI6RYOV+xAlagmQKGdjOFfN0KtKnAaKDd6DlthprXr19fW9wl0DaCNlDVc9osHss+983LT9gUl6DNOR71opGQ95z2pEmTwiuvvBLvzUuDUYGTTjopwv3yyy+v2Rxv8D9WwAqMWQFDe8wSOgIrUK/AaKBNDICb3uyECRMi9HipyqxZs8b0RjReogK0AT9/vGEt7UHnQRtbsm9EA+C8Ie3NN9+sy+zHH38cRwlks1aRb926NXDNmxWwAp1VwNDurJ6OzQpYAStgBaxA1xQwtLsmrSO2AlbAClgBK9BZBQztzurp2KyAFbACVsAKdE0BQ7tr0jpiK2AFrIAVsAKdVcDQ7qyejs0KdF0BXh960003hXXr1sVHuLIJstCMa+mCM4XhkS+ucT/xeLMCVqBaChja1SovW2sFogKsAueVoYsWLRqhCO8N5xqfy8xuCxcujNdYle7NCliB6ilgaFevzGyxFQg8UgWYv/71r49QoxG0v/KVr8T79Jz2iJt9wgpYgVIrYGiXunhsnBUoVgBgA26+xpVuRdDmrWtFoE/v97EVsALlVcDQLm/Z2DIr0FABDXXPnDmzLlwRtKdPnx6hvXjx4rrw/mEFrEB1FDC0q1NWttQK1CnA60bpOX/hC18IH3zwQe1aHrS5TjjC6x3mtRt8YAWsQGUUMLQrU1Q21AqMVOA73/lOBLG+AEaIPGjzHnKAPW7cuJGR+IwVsAKVUcDQrkxR2VArMFKByy67LMJ44sSJtYt50Obd4ED7iiuuqIXzgRWwAtVTwNCuXpnZYitQU+DVV1+NMAbIHLNloc3HP7iehqlF4AMrYAUqpYChXanisrFWYKQCP/zhD+t60Vlo8/1rgJ32xkfG4jNWwApUQQFDuwqlZButQAMFeMMZUNZ8dRbae+yxR7yezns3iM6XrIAVKLEChnaJC8emWYFWFEhXhrOiPIV20QrzVuJ1GCtgBcqngKFdvjKxRVagbQVmzJgRe9M8g51Ce8GCBfF89lnuthPwDVbACpRCAUO7FMVgI6zA2BTYsmVLhDNvSUuhrdeWZt+aNrbUfLcVsAL9UsDQ7pfyTtcKdFgBvdZUbz6bNm1aDeQdTsrRWQEr0CcFDO0+Ce9krUCnFdBrTffcc88I69133z3u/drSTivt+KxA/xQwtPunvVO2Ah1VQIvOPve5z0VYf/azn417znuzAlZgMBQwtAejHJ0LKxAV0GtNP/OZz0Rg6zEwy2MFrMBgKGBoD0Y5OhdWICqg15oK2n5tqSuGFRgsBQztwSpP52bIFUhfa+rXlg55ZXD2B1IBQ7uExfruu++GVatWhYsuush/1qDtOqBPcG6//fZt3+s65/9z1AH8D37IW/kUMLTLVyaBzyjusMMO/rMGo6oD//qv/xrns//t3/5tVPe77vn/HnUAP+StfAoY2uUrk3DttddGZ/vD738/XHTyyf6zBq4DrgM9qwP4HaCNH/JWPgUM7fKVSbjmmmvif5ozZ84M4aEH/WcNXAdcB3pWB/A7hnYJwfBPkwztEpaNoe2GihtrrgP9qgOGdgmhkJhkaCdilOXQ0LbD7pfDdrque4Z2WUiQb4ehna9LX88a2nachqfrQL/qgKHdV/ffNHFDu6lEvQ9gaNth98thO13XPUO79z6/nRQN7XbU6lFYQ9uO0/B0HehXHTC0e+ToR5mMoT1K4bp5m6Fth90vh+10XfcM7W5697HHbWiPXcOOx2Bo23Eanq4D/aoDhnbHXXpHIzS0OypnZyIztO2w++Wwna7rnqHdGT/erVgM7W4pO4Z4DW07TsPTdaBfdcDQHoPz7sGthnYPRG43CUPbDrtfDtvpuu4Z2u167N6GN7R7q3dLqRnadpyGp+tAv+qAod2Sm+5bIEO7b9IXJ2xo22H3y2E7Xdc9Q7vYN5fhiqFdhlLI2GBo23Eanq4D/aoDhnbGIZfsp6FdsgLBHEPbDrtfDtvpuu4Z2iWEQmKSoZ2IUZZDQ9uO0/B0HehXHTC0y0KCfDsM7Xxd+nq2StB+7Zd3hRUnnxS+t/t/xW/w7vif/xkm7b9/uHX5heHD++/r2TeA++Xg0nTXnXtu1IBvETf7O+Hoo8P7920dKn1SrYqOqU/o2EybNzfeEw75wQ+Cdex848bQ7qv7b5q4od1Uot4HqAq0f/fzn4Vxu+0WAPWMww6L8D5/7txw0N57R2jhUN/etHFowPTwz66NGtCI4W/ZCXPDvt/7bth9113D0uPm1F3bcP554aNt9w+NNkWQTs8DaupMKyA2tDsPa5WFod17n99OioZ2O2r1KGwVoP3XLfeGmYdPCnt/Z8/w1Pp1dfD527b7w3VnnxX+4+OYdWUAACAASURBVN//Paw8fX745MFf1V2Xcxj0vSBEjxDIDHp+x5o/6WVodw/IrZSRod0jRz/KZAztUQrXzduqAO2nb9oQe9n0rPMcwVsb7wlHHnhgmLjvD8Ib99ydGybvvkE6JwgZ2q1BSHoZ2q3p1a3/K4Z2N7372OM2tMeuYcdjqBK0F86YHuhZZx0IvWuGhA/eZ5/w3C2/qLuuefD/2mWXOIxOb331okXh/a1bauHkwM87/vhwx0Urwne+/e2w8ze/Ga6YPz8cMH58mD91yojhZexYMmdO+P64ceHPt94S48KOx29YG2Ydfngcxqf3T2PigatW1Y0AFKW35pxzwt8f2FazK5vPRr8VZxG01fDZfMXlUSumGfbfa6/w2No1MT3pRH40R871rFYPrV4dG1B/vGFtYNgdPQnPnt/ZtQXP33JL1A89Ccd6BIbz30waV7KN/N+07PxanEx93LZ8eW6Zv3TH7eGsWbNCWq5XL1wY3muhXC86+eSYB+WTfVGDEM3bHR7/+FcPhPtXXRl+PGFCrEfET/7nHDE5oBtxUleY0vj2zjuHx9f+41xavn+4/rrwzW98I+Zf51VGaZ6z5UNY8kJj5L4rfxrLmLK+8MQTwwclXNdgaHfcpXc0QkO7o3J2JrIqQFvD40BwwfTp4cn163IduZyb9v93w/o4z4uTu/y006ITA8w4sZN//ONAvIQV8JgzB1Q3L1sWbjx3aXjk+utGgFlxv3znHeGA/x4fcDoAHCcMcIgbcLI47u5LLwlTJ06MQ/frzzuvBu6i9HDo6TVgpvSa7XVfM2gD5WMnTQobL7ssTiswSkGjg7yQ/6sWLgjbVq0Kt69YEaEDcNJpB6ANaI466MAR+cyGfebmmyKApQcQkf7Y8O69m2P+BG1s2+Nb34plde/KK6KdxHnJqafWlTdTJDQSxu+xRwDUabysd3j97l82LNffXLM63kODij/SenJd/bRLqnc70KYeXHnGGbHMjz/yyFgHsI+GCvWQdQfP/7OR99uf/SyC+ZrFi+rKmTgumzcv5lFhW63L2A200RGNiJu6SCMizVNZjg3tzvjxbsViaHdL2THEWwVo42DktHDi/NFzoScDDF+5684aEOWM6PGdMW1aBFHWIeNE6cUwF054AY9zOFLFwX7rT1dGB3znxRfVncfR04jgOuFwrjhkHLUaA5wH6PSoWCD2xLobm6YnWwBoN6ANpAB1mkcaG/SAs3l/Z/Om2Og4bL/9avcAbfSffMD/hFd/eVctHk1R/OjggwP3Ef8NS5fEUYt0HQJAuvbMxbGR8Kcbb4jhBG3KlFEJ2YZ2Z82aWaedGnAAKRvvPZddGstEjQxpmVeuutbp4XF6wzTU5k+dOmLUAfvQjkYheZRmNDT+958NmPS8RnjaqcvcD7RJh1EKaVnWvaE9Bufdg1sN7R6I3G4SVYE2ToehTyCtFeM4Jv3Rc/vL7bfVnJRAADABReq0cJA4SjlLOXCG19VLU3jmyJkrlwPlPDDB2RCeBgPneHQIiAM13as9w5/0TtWjapSe7ml3rzib9bSZRsjq0SgtAJDGKWgrL7qXOIk7DQu0AeZdF18cGDJW2OxeZaVRi/S6tGOkhPMaNs6mzzWVqxoZ0iSvXHWt09BObc8eK5/UFV0jX9khchpPNGDUINR9rdRl4qXMmOJJGzVKr2x7Q7tdj93b8IZ2b/VuKbUqQTt1OPTmAMg5s2fX5jXpRQq6ggsgYbg3/cMZ0htiSJhhbjlwQTxNBxhlhyo1NJ46URwlzheHnKbF8S0XXhCdqKDUKL007XaOFWcKzfR+Of482CkcceDoGUW4dN6pcSRDw/1akS5dsyMPxIEG6Ry/hsdpWDE0TFlxf7qegPtkWwoz2aShaaYzmJOll0p8aY9cYWWDRimkSV656lq3oE0jhV43+aWhuXDGjNr7BdJ8qlGiclF9SxuE0ryVuiwNVLdTbcp4bGi35Kb7FsjQ7pv0xQlXFdqpA3p386Zw4o+Ojs5cMMExqhdetM869yIHrrlHDTcCtXTIVQAoSkfnFb/C63eal9EeK85m0E6BobSAKD0+AC1bGS4HsgAvjVMAYa/7tQfa0lTnWDBG40aLp4ifdEhP8Ba080AsaEsrlWte+qSZ2iBNdK9sYt/oWhqO46wN2evZ3yzu46U/0pL8MpVzwYkn1Bp2ukfD/WpYaGQnbRAqz4ovb5/qjgZpmSmtMu4N7WLfXIYrhnYZSiFjQ9mhTY+FRTzMF2uVdp7zUY8Fh8V1AIBzE8Tz7tG5Zg5cw67zfvKTOESPo0nnhjU0nPYyFXfevll6efc0O6c4i5y1wJiFNrYzB4xWZ8+eFV68/fbaoi9NA6Rxtgtt2U05Un6sEGexH+lpTUGRbdzLyAm9Tk1PjKan3Utoa20Dc+6snUjnqlVHs2WADhoiR1+GxtP1Be3UZTQztDNOzj9HrYChPWrpundj2aGNE8Kp4eTV0xUI0r16w8yjcl4OMu2xKDyOlJe1HHfkEXHRlICX59x1DzYAZZwqQ4+aY9V1hjcbzWlzLyudCd9Keoq31b3iTAGb3lsERqYZWDyWN++rxkoaZ6vQZiibRgDTEFqYJntkixpY+p1XVipHDR9rTjurP3HL3uycdl65Sq+8a7JT+3Z62jQSqauqh4qDPSM0XMtCG9ADeR7fYiomXczHfdIgT59sXSa8od09fzlsMRvaJSzxKkA77b3wOlN6h6kzZO6QVdvpEKGcMuf0bCz3cC/wB7A4SH4rbCMHzspvVoADevWKUhsEHq4zXK9rxE0vMW84vVF6ur/VvfKQAja9V/ZlgSHQ0full6170IXHvtApnR9tFdrEQ0OHfNPjVLzseZQODQVe2ZZdEc6qaUY10nLVcHI2LPZq9Xgr5Sq9KK/02e7UTh23A22BmQYaNikORgymHHJIhLYaILpGPhnF4TE6htWz12VrK3WZOA3tEjraippkaJew4KoAbRwRQ4SaFwUw9OIYNmfVOMOJ/AHj1FGyqArnzn0AAnjoOeH0kSU5xUYQVRh6SvTS08e6sI90WXAE5ABn+pw292Arw82EVVx56elaCiruafan+9qFNvECcmxk3pVny/k74eij4rO+x/xwQh0024E2j4Shs/RnUR7D4zxfnT6vLGgDeK4RpugZd+xVueY9p00e9CiaNMnTWUP/1Ju1S5a09Jw2NtPbpSyzf3q/+6t33RkO/5/9Y32kzpFnAI6tQJly1QhDWqbqoaePBqbXlWdpWVSXucfQLqGjrahJhnYJC64q0MYZ0ePhxRU88gUcAY0WTPHmrdTJ6Tj7FimcHg43fSNXI+eueNjTKCBNepDpeR0D7vSNaITNe6tXo/R0rZfQBmDpm8ikEdrRc0RrPX7UDrTRhTh4cxxxokcat3QTtNM3opEm6wZorKUNMd3D432nT5tai5eGHHBMe83SMg/axPPMTTfFNLBLq9MVf7pXT5twRX9pGtjGyA8L0JQPXm7CNAELzvIafXoiIY0ntYHjVuoy4QztEjraippkaJew4KoE7awT8+/mPfAqaCRoZ4fuq2B7p2xkkR7rHhqt2+hUWmWKx6vHSwiFxCRDOxGjLIeG9mCAr0yOuF1bhh3ajCTw2tz02ex2NaxqeEO7LCTIt8PQztelr2cNbUO73w5/WKHN/DeP2zHMz1C6Xr/a7/LoZfqGdl/df9PEDe2mEvU+gKFtaPfSSeelNazQ5t3jLJwD2LztLLu4MU+rQTtnaPfe57eToqHdjlo9CmtoG9qDBgLnpzp12tDukaMfZTKG9iiF6+ZthnZ1HJxh5LIatDpgaHfTu489bkN77Bp2PAZD2yAYNBA4P9Wp04Z2x116RyM0tDsqZ2ciM7Sr4+AMI5fVoNUBQ7szfrxbsRja3VJ2DPEa2gbBoIHA+alOnTa0x+C8e3Crod0DkdtNwtCujoMzjFxWg1YHDO12PXZvwxvavdW7pdQMbYNg0EDg/FSnThvaLbnpvgUytPsmfXHChnZ1HJxh5LIatDpgaBf75jJcMbTLUAoZGwxtg2DQQOD8VKdOG9oZh1yyn4Z2yQoEcwzt6jg4w8hlNWh14P9v78yf7SiuPN//iPnJDqMIOwIsoqcVanto2jSiRSMLzCZgxCIWtVmEEGIRS7OLVQgJIbG2hd2IRSBkLCOhRhKLENsIGJbBeGBszAgMNtjYBmzsnPhkzPdO3nxVd7/v3rrvWxHvVd2qXE5+89T5npOZVWXSHkJSSEQyaSdgDMuhSdtEMGpE4PZUR6dN2sPCBMVymLSLcRnoWZN2dQycych9NWo6YNIeqPlvWrlJuylE45/ApG0iGDUicHuqo9Mm7fG3+e3UaNJuB61xSmvSro6BMxm5r0ZNB0za42ToO6zGpN0hcP3MZtI2EYwaEbg91dFpk3Y/rXv3ZZu0u8ew5yWsWbMmTJ482X/GoCMd2GOPPcKkSZPCnnvu2VF+657vPXQAO+Rt+BAwaQ9fn4SdO3eGqVOn2uCatDvSAQh7t912C7vvvntH+U3aJm3sz0svvTSE1tEimbStA0ZgxBC4/vrrI2kvWbJkxFrm5hgBI2DStg4YgRFDwKQ9Yh3q5hiBBAGTdgKGD43AKCBg0h6FXnQbjEAxAibtYlx81ghUFgGTdmW7zoIbgaYImLSbQuQERqBaCJi0q9VfltYItIOASbsdtJzWCFQAAZN2BTrJIhqBDhEwaXcInLMZgWFFwKQ9rD1juYxA9wiYtLvH0CUYgaFCwKQ9VN1hYYxATxEwafcUThdmBAaPgEl78H1gCYxAvxAwafcLWZdrBAaEgEl7QMC7WiMwDgiYtMcBZFdhBMYTAZP2eKLtuozA+CJg0h5fvF2bEeg7AibtvkPsCozAwBAwaQ8MeldsBPqDgEm7P7i6VCMwDAiYtIehFyyDEeghAibtHoLpoozAkCFg0h6yDrE4RqBbBEza3SLo/EZgeBEwaQ9v31gyI9ARAibtjmBzJiNQCQRM2pXoJgtpBFpHwKTdOlZOaQSqhoBJu2o9ZnmNQBMETNpNAPJlI1BhBEzaFe48i24EihAwaReh4nNGYDQQMGmPRj+6FUaghsBDDz0UTjjhhLB+/fraOR8YASMwGgiYtEejH90KI2AEjIARmAAImLQnQCe7iUbACBgBIzAaCJi0R6Mf3QojYASMgBGYAAiYtCdAJ/e7iQ888EDYbbfdWvo755xzwqeffloT6a9//Wv4+c9/Hq655pqw//77xzK+/vWvh3nz5oWnn346/OUvf6ml5eA3v/lNOOqoo0rrmjFjRrjpppvChx9+WJdPP37961+Ho48+OmzatKlWFuVRbtmm9j333HO1JDpX1G5kWLp0afjlL39ZS6+DbuVXOWV72k37UyyPPfbY8OMf/zh89tlnZdlG4vwNN9xQqhd77713WLhwYXj11VcDOtfrDT19/PHHwyuvvNLrol2eEahDwKRdB4d/dILACy+8EFasWFH7g7AOOuigsM8++wRWMqfX1q1bFz7//PNYzZ///Odw5513hkmTJoWDDz44rF69Omzfvj08/PDDAaKBEMlLOm0ivaKyly1bFubMmRPLo/63335b2Wr7l19+OUCqP/vZz3pC2qeffnpd+1IZIIodO3bU6uagW/nrCst+vPjii2G//fYLcnrADiI74ogjIpY4TB9//HGWa3R+irQvuOCCuj4Bh/POOy9MmTIlYoN+9XrDoUNfU8eu13W4PCMAAiZt60HPESCShiAaRbBEO3fffXck2OXLl4+JAokKOQ+hP/jgg7XoSKRXVjblrl27NhrQW265pZZPjfzBD34Qo/hPPvmkRqBlZSmPourUIOsc+6IN5+DAAw+Mf2+99VYtSbfy1wrKDv7whz+E+fPnx/p++tOf1l3F6RHWt99++xhM6hJX+IdIO+2ntDngglPDyvpeOy8m7RRpH/cTAZN2P9GdoGW3QtpEuhjQs88+O0A4RdsHH3wQjjvuuDBr1qzw/vvvxyTNSI9E7733Xjj00EPDySefHH7729/WipZct956a8tlkVAEnZKBzpWRNvm2bdsWnY5rr702fPHFFy3XWSZ/LKDkn/CEuIo2SAqyYmqAKYJR3JqRNn2wePHisNdeewWcql5uJu1eoumyGiFg0m6Ejq91hIDIsVEES8TLcCLzgI22O+64I8ydOzcOZ5OuFdIuS/POO+/EYXuRb1m6XB4RtPJxXecakXYRUbZSZytpchlF2ldccUXddILSMQLBVAUOEGsI0k3z4Azn0yeMENx11111aw/Up0uWLAmPPPJI2HfffeNw82233RYOOeSQcPHFF9emPVQ2JInDMnPmzAD2bMjBvPKZZ54Zh6oZSWFKg/ULXNOm9mzdujXKzZA/9TSaM25G2pRdlIaRiMceeyw6NMhDXciXz3/T/ziazzzzTHQ2SYtuXnLJJRE3sOOPNMjvzQj0AwGTdj9QneBlysCXkTZD34sWLQrTp08vnHduBF8rhPbaa6/F+fScSHAQiMCJZNlaKYt0Iuh2SVuR3be+9a2ATK3WWSZ/LKDkn4bHIZLLLrssMBScrgUoyRbJhfl/CJsRiCeeeCJAzBAXfaRREPUphAR5rl+/Pk5DQKI5MasujRgQ3YIFpMyLXygb3WBuefPmzeGUU04ZMw0i0obwWZS4ZcuWOMTfaFi7iJAlC/vf/e53sazUiQAj5rzB7dxzz43yIBfyMQe+YcOGmjNB/xOlH3DAARFjZLr//vujI8F6DAib/bPPPhuYfvFmBPqBgEm7H6hO8DJl4MtIu1WyLIKxUV4MMCTCMDBGmOFpbRAGC+RSIm9UlvKx75S0yZsTSaM6G8mfylN2DNFBwIr4IB0iQdYEML2QRrKUgfN06aWXxsgwnwd/8sknI0ExF86mPoW0du7cWScCRA/erMhPN5wkznOd7Re/+EWUL58Sod30DYsL33jjjZhWpN3O/HOOtWSh3bT/uuuui/JcddVVNYdGskPcyKEN5wBnATyRmw3SBtuLLrpozBoMXUsdO5XlvRHoJQIm7V6i6bIiAjLw/SRtEVPRnkiOiCc1wsxtM8edDmc3ItC0K7shbSIxZJQxV51FcutckfypPI2OiYwhaa0YV5nsIaF33323ll3ECGHmhE6kSHr+OFafMryeP06nx+hSh0ijDOl6BHCExIVFTZAQ4kgEIxJMm7BJNob0c9nSfOmxSDttc368YMGCmvw8xYDM6ehLWh5OB/kZVWATMdOn+aZrRW3L0/q3EegGAZN2N+g5byECMvBlpE0Uc8wxxzRcXV5YcDKkXfTI18qVK+MwKgvY8o0hZ+ZqNUzNdRFomZwqoxvSFpHImKvOduWXLO3scVSol2fgNV9N5CrSFdFAjDxql/4RgTJsLUJTn4rEUzkgVVbqg6/myzU0njoEYAExg2dalx7zY55cQ+kibZF4Wl/ZsbAueuQLR4Yy0+f+pYc8v/3HP/5xTLGSgXLZhFfROgxdY+/NCPQTAZN2P9GdoGXLwJeRoSKcfs1pF8EOUZStJi+TU+Uw10vElRpkETn7sk3RJmT05ptvxmQi7WZ1lpXZ6XmiZZ5Vph0axlYb8mg0/a1FVerT/OU4kochc4bOmQNmg9jSoXTlT8suOlb5IsxG+Kpu7UXaaT/pWtFefaE68zSSISftovI5R3uKruXl+rcR6AYBk3Y36DlvIQIy0I2IiblSjFxR1JIWSsSnN5hxXoa2Udlpfo7lJKRRH+e1IE7RZJ6P30SRRKIp8XJehNeIVDRsnD5m1Yn8RXKl54geeQsa869apZ1e1zGjDES6IiFe/EIfiMSVrmivPi0jOA2nM99L1ErEnM5HC8d0EVhRPTonwmyEr9Jq3y5pdxppFxGzSVu94H2/ETBp9xvhCVi+DHwjYmUYleHUfFFSCpcWSqURWyekp6HaIgeBKLpsnhVZMOyQT0q8nG+FtDdu3BjLTl/y0on8KSZlx3KCFOkWpVM0rDlZkXjuzJAXEuZlLQwdM8yuPi0jbfIgA6QMgeEI6Xl4ycJQdxnWyMKb6liLwDYepC1nrsyRQF9wavI5bZO2etT7QSBg0h4E6iNepwx8I9Im8uLtXBjFojeiET3yZjOMPCucIXC2TkgPI1sWhb700kvx0Z7jjz8+7Nq1q65nWMgGESFD/iaxRqRN23ilKE5Juvq4U/nrhCr5oZXZ1EndyJBuzGPjIGm4m2vqJ869/vrrteTkhfxptxwOpW1E2qz8Zq4eok8fc1PBImKu4xRoo2wWhKXOmdL2M9Km/marx9N5+kbRtK7lr61VG703Ar1CwKTdKyRdTg0BGfhGpE1i0vFMMMSdvnscsta7x1n4pIVT5OmEtIn4ysgGgmKREgTFI1LM+/L4z9VXXx1JF9lyGZBDpJ2/e5whWqJyymv07vFm2Agf5E6JlvNlG4ShBWc8S00baMsZZ5wR25Y/d0w5POoFMRU9p40j86tf/SpWpz4tw5FESgNmROl6xlvypljT/vQ5bfKkj12NF2njmFEv/ZU/p80qfp4rlwMkYmafbxq1YHU6L4pJnZI8rX8bgW4QMGl3g57zFiIg490KMRFRP//88zE6E+FgLHm+mJdXKMJWRe2StuZaG61Cxijz9ivmYyUDRhzyLfs6lkgbskn/yMfjVqtWrapzNjqRXzi2StrUAT58hAUZkAXZ+OIXK8j1vLFk0R6niDlxtZ09vz/66CMlqRFyI9ImMRE6dTJCUbQJa70RjbTISr70Eb3xIm1kpF7ql7OFc3PWWWcVvhENeYtImzLQMfKCOx/R8WYE+oGASbsfqLpMI9AjBJhPJgJstMCsR1W5GCNgBCqAgEm7Ap1kEScmAkSlvJmM6DYfap6YiLjVRsAImLStA0ZgSBFgaoA5cg+1DmkHWSwjMAAETNoDAN1VGgEjYASMgBHoBAGTdieoOY8RMAJGwAgYgQEgYNIeAOiu0ggYASNgBIxAJwiYtDtBzXmMgBEwAkbACAwAAZP2AEB3lUbACBgBI2AEOkHApN0Jas5jBJK3szV74Qhg6WUh+lhHOwDyAhreg/3KK6+0k62jtHqhSysvxumoAmcyAkagKwRM2l3B58wTGQG9na3fpN3o9Zm9xt+k3WtEXZ4R6C0CJu3e4unSJhAC7ZB2N7CMJ2l3I6fzGgEj0H8ETNr9x9g1jCgCJu0R7Vg3ywgMMQIm7SHuHIs23Ai0Q9pFc9q88YwPkvDBDD5EoQ+l8JUofVmKOXCu6S/9eEj+8Q0+VDFnzpz4lSnlB0ENeVMWHw3hE53UxR/H6YdElDad0ybSp14+37lu3bra18/4Ohi/84+6MAf/6KOP1tqldLySteyDG8Pd05bOCAwPAibt4ekLS1IxBLoh7S+++CLcfPPNkTj5PCnfdeZTlZAl5Ltt27aIBp/OXL16dSQ79s8++2z87COkzGcjIV7ypJ+5JD+fGxVxi4j5ihXf91Z9fLKUL3ql3/xW2py0+T72iSeeOKYuSDj91jjt4hvcyHDKKaeEzZs3h3vuuSeS/syZM03aFdNxizt8CJi0h69PLFFFEOiGtPkc5qxZs8L1119fI1eavWvXrjB79uxw4403hj/96U8RiaI5baJjyJZIOf2YCJ+IXLp0adhnn33CG2+8EfOLiHMy56I+pblp06a6tDlpQ87p97VJ/PHHH4cTTjghnHzyyYGvkbFRJ3UjQ/qpTX2325F2hMn/jEDHCJi0O4bOGSc6Ar0g7fnz5xd+dzvFtoi0+Z43JMy1fHvttdcCkbG+IS7SPvTQQ8N7771Xl/zNN98M++67b6A8NqUtIm2VpwKI5HE60rRE79SNDOlGWiJwk3aKio+NQPsImLTbx8w5jEBEoBvS1vA4JAb5Mhe9du3a8O6779ZF3lRURNrMT0OOkO327dvr/hgqh4gXL14cqEdEnEbE6kLNtUO2bEqbErHqVzSuvOyRg2FvvvfN3PaiRYvqSDxNS36TdoqIj41A+wiYtNvHzDmMQESgG9KmAIaPt27dGgkb4obQ+Dv22GPrXqQi0lRULWJV+rK9nh9Xev1Ou0+kDfmyKW0Raav+ND/5tDiuKG+aNm9Hes3HRsAItIaASbs1nJzKCIxBoFvSTgtkXhpSu+iii+LiMua733///ZgkJzsNSyvCTcspOhaZ9pu0m0XavNUNB6OI/Ivk9jkjYATGImDSHouJzxiBlhDohrRffvnlMGPGjJAPOUPILOJS9IogOWlzjvnlRnPalM1qc7bxIm3q8px2hNz/jEDfEDBp9w1aFzzqCHRD2kTRRNNFq7+vuOKK2jwxGIq0d+zYUYNUw9oLFy6Mj4DpAgR98cUXh7322ivs3Lkznh5P0vbqcfWE90agPwiYtPuDq0udAAiItHn0iuh4xYoVY/54+cjnn38+5oMhRNQ8S020rOeZGT6+4IIL4rn02WetBl+wYEF8cconn3wSF6spP/PP6XPaDEEjix65Gk/SThfYqV333XdfOOCAA6Ij4eHxCXBjuIl9RcCk3Vd4XfgoIyDSLlsIxnnNIysy1oIvcOHNYbxUhZeeQN78sYr8qaeeiteEHeTLcPiUKVNimhdeeCFegvhfffXVcOaZZ8Z5cOrj7Wo8ey3CJuF4kjb1UTcy6E1veiPamjVrCh8HUzu9NwJGoDkCJu3mGDmFETACPUAAx2P69Onh7bff7kFpLsIITEwETNoTs9/daiPQFwTWr18fDjnkkMBCu3Tj7Wlz584NvEwmfYNbmsbHRsAINEfApN0cI6cwAkagRQTeeuut+EER5rBZvc6LX3hpDPPuDO/zMRRvRsAIdI6ASbtz7JzTCBiBAgR4L/oll1wSP0bCPDtkzYr29GtiBdl8yggYgRYQMGm3AJKTGIFhQoAPiWzZsiX+6aMiqXxEu1wvmjtuljctx8dGwAgMHwIm7eHrE0tkBJoiwGcyiWL1zvA0Ax/x4Bqf4My3lStXxmsnnXRSfsm/jYARqAACJu0KdJJFNAI5Ahs3l9PkiQAAFwNJREFUbozku//+++eX4pe3ykibz2ZyLX8T25hCfMIIGIGhRMCkPZTdYqGMQHMEvva1r0UC5lvV6VYWafOSFgibfN6MgBGoJgIm7Wr2m6U2AuH888+PJHzllVfWoVFG2pdddllMz1vXvBkBI1BNBEza1ew3S20E4rvFiZz33HPPOjTKSJt0pH/xxRfr0vuHETAC1UHApF2dvrKkRmAMAlOnTo1E/OSTT9auFZG2PotJem9GwAhUFwGTdnX7zpIbgbBs2bJI2rxpTFsRac+bNy+mW758uZJ5bwSMQAURMGlXsNMsshEQArt27YpkvPvuu4fPPvssns5Jm/Nf+cpXYjrSezMCRqC6CJi0q9t3ltwIRAQOO+ywSMh8BpQtJ21eI8pc9uGHH27EjIARqDgCJu2Kd6DFNwL33ntvJOXZs2dHMHLSPvLII+N1vmvtzQgYgWojYNKudv9ZeiMQfv/739eGvz/44IO6SJvfRNkMj5POmxEwAtVGwKRd7f6z9EYgInDqqadGcr799tvrSHvVqlXx/GmnnWakjIARGAEETNoj0IlughHYunVrJOfp06fXkbZeW7pt2zaDZASMwAggYNIegU50E4wACHzjG9+IxK03pZ133nnx9x577GGAjIARGBEETNoj0pFuhhHQa0oPOuigSNbaX3755QbHCBiBEUHApD0iHelmGAF9EGTSpEmRtL/61a/Gff5BESNlBIxAdREwaVe37yy5ERiDgOawWTHO37Rp08ak8QkjYASqi4BJu7p9Z8mNwBgEbrnllkjWX/rSl+L+1ltvHZPGJ4yAEaguAibt6vadJTcCYxD48MMPI1kr0ua3NyNgBEYHga5Jm8/8rVy50n/GwDowJDrAe8ghbea2fW/aNlkHhkcHevFZ3K5Je+bMmWHy5Mn+MwbWgSHRgS9/+cuB4XHeguZ707bJOjA8OgBfdrt1TdosdEEprlu4MKy88EL/GQPrgHXAOmAdsA4kOgA/wpO9WBjaM9J+b9PGEJ5/zn/GwDpgHbAOWAesA4kO7Nq40aRtB8EOknXAOmAdsA5UQQdM2okHU4UOs4w2LNYB64B1YOLqgEnbpO2hJ+uAdcA6YB2oiA6YtCvSUfasJ65n7b5331sHrAPSAZO2SdsetnXAOmAdsA5URAdM2hXpKHlZ3tvjtg5YB6wDE1cHTNombXvY1gHrgHXAOlARHTBpV6Sj7FlPXM/afe++tw5YB6QDJm2Ttj1s64B1wDpgHaiIDpi0K9JR8rK8t8dtHbAOWAcmrg6YtE3a9rCtA9YB64B1oCI6YNKuSEfZs564nrX73n1vHbAOSAdM2iZte9jWAeuAdcA6UBEdMGlXpKPkZXlvj9s6YB2wDkxcHTBpm7TtYVsHrAPWAetARXTApD2gjvrrc8+G1x9YG84+8YSw9ze/Gb+P+k//8A/hnJNOjOe5PlG96T/veDpcf/bZERP2/B5PLD7d/lRYNHdu/OOYup//4Q+jPOtuuKGvsnz+9Paw8eabwy82/LhWz3jVXYbxR1u3hNnf/W4dHmVpq37+mbtWh+8dfXT4YPOj4fZLLgn/5W//Nuxcc3etL9S+P+14Olx6+mlRJ9jzW9e0p6zJkyeHB5ZcP+aa0hTt3/rR+jB9331DL3Ttw//cHG6+8ILwL/v9U5Rlyt/9XTj+sMPCT1bcFNC1ovqrdg68jjv00PCzh9aNRHua4W/SHgBpQ0I/uPLKaBAg6ivnz483Fnt+Yyjuv+66cSerZsoyXtfff3RTOOI7M6KhmfnP+4d3frJhXG/GQZI2hhqDjSES3ibt8RkK/dXmR8Ocww8Lj65aGbF/4s47SklXOvrNqVPDUQcdFH792H/W+kv9Bulz/X/cd++Ya0pTtO8Vab90z5qoSxD1/OOOizbmxvPOC0fOnBnbhWP6221b25KtSN5BnyPAufOyS8NFp3wvyMketEz9rN+kPQDS/um6B8N+++wTLvze98Ifnnyi7qb5aMtj4dyTTorR98v33lN3rZ+KMExlP7JiRfj23nuHu6++Kho9fo+nfEWkPV71F5H2eNVdVs9EiLRl+M88/vjwyROPR3375U82hIOnTw9XL1gwxoHGkWKEjJGgImKWDh1zyHfDb7Y81pb+9oK0sSsL5hwfcHrzCJSg4d5rr4nBAWQ3CqN6OPaHHXhgwNEq0+NROW/SHgBpY5gZNuPGL1KkF9esiYZg2aLzRuKGKmpj2TmG7C4+9dRw0qxZMcL+16OOisYnd27K8vfivAwukch4e+4m7fGJqnM9wegf8i8HhNRB/ONTT8bpKnTwd49vq7tXiaIhZBxriP0/rlpcd12ReBHh53Xnv3tB2iqDyDovn98fb90S77FOnIqi8gZ9DscDe5k6XYOWqV/1m7QHSNpbbru18IZiqI05xMVnzg+f/b85VRQAxWQe/Kw5cwJDXgyjQ27MnaXesm7Yx++4PSw55+yYFi90w/LlMYLF4OQKJc88NVB/efaZ8PTq78c6qIs6qft/PrC2Ln9Zfa+tvb8uXV5n0W+NQshh0RAjjkyeXvUylfCjZTfGqAJniOE/jG86F95O2iLSLhqizvujDB+MP9MhyAWOyMgcI3ONjKzQLtXJNf2hA0S5RXWT571NG8M1Z50Vp1TIQ1RFPdSXYoXhxgEhcrx24VkxQkQO5m5fue/eOt1J8+m43UhbekP5Wq/BnvUb0h0ZWUZUXl9br0/Uy5AyEWxKopqfZQpJ7f3h4sXh05L2bv/+v8foi3656fzz6+4ltU17Is+iqRj075+//e26aFVkDiH//onHx6x/SOXHCVMdub40u3/Ra9rPvUt7i/RaZed76fuV88+ouw+UDlmwDQztp+snWpVR+rr03HPDppU3R4zo4zsuvTQcMWNGnO/P5/m5HxmZwMlBF5Gl1frUntympTYGG4EMT/37nTXM1d5R2pu0B0DaIiaMzz3XXBOYS0N5GykW1yEmDBDGnIUkj916Szj9mGMiETy0dGmtDCk4Nwee59bbbovDYf9n4yMxak2JWXViODGgihi4wW75t3+LZVMHdVEndXNj4Cgob1l9ePO61mrUivHEWIukZbxF4qqTvcqmndP+8R/jwiGGx2gzRg75RdztpJVBSmXOiZP+AHMMr/oDfJiLp181jwkG4AdmkDREApaL5p4c814+b15cEIScr95/XzSk9APGngVQjDzkddN2hjwhmRnTpkWiplwMKPrB/GU6xwppz/rOd6JszPuBEYRAXuRqNg3TDmmDy/cvvzy2jWke2opstB1ciGa1RkEjStI59S1l3HbxxXUk+r/WPxTzUgZEmrY3n2aivegD+FA2/YLzqfLzvRzWtL+VRovJ0mFXDZuLkKkjJSLysvgsdUg6vX9pB+WX6bXkzPdqE/p5xRlnhDcfWle7F/K0+t2OjLpHWH+BU/HwsmXhwRuWRCcwJ2aVn48+tFNfev+mNo37S+Wj8zghRbZCaUZhb9IeAGmnygq58EfkxbAwxqVoKFjDdxjC9DrGHiVljhxnAKWUghOFp0rNNZGiSEVKjGFIy8CQY9ApW8RHWupGBm4OnI1m9UmWIoOourUnaoFwUrl1Lq1P6VV27kQg7zVnLahrTztpZZBSmXPipD8ghbw/uKEgSPpShEvfphEj8iMjURDE+b8f/lHN8BQNj+d1yyBTfzpfiV4xeoOhTucqITF0DOJM+1KkWTTyIozZt0PaRMM4KZeefvqY1cnIhhwYeMpFN+lr+px+Vp06r1XZ4IhzA0G8ua5+hTDkjZOHXiu/2ptjruv5XiS84oILamUoja6lGEGgKSHTP2AuR1Yry1PnuJP7N29vkV5LzqK9HB3ZGO4TRj9wNosChXZk1D2SOtiSgUgXPLSgT+fBjfOKhNupT/dvahtUrvaMSuLApbjr2ijtTdoDIG0p0LuP/CSSItGDbiz2REsYiXTYD2OOwmMglF/7PEqWgjP8hSFXOva6lhohESMLVyAE8kDW+SpmlcPNh5zs0zKL6lOeVvYiEaKsVG4cCurLjbDaUjRvKEzUznbSyiA1Im2Ip6g/kHv5+YuiceTmatTuIoIuOpeTtkYfwCUvX33JIzBy2CCxlGSUR5EJ13WuaN8OaRfl1zn1AW3UOfonlw09gGBk3JWvKIJSe1Pipz35kLbqK9ozokFfpnIpnYbCpQu6N1JiUAQpXQN38E/vB8ou0hfqka6qP9Xeoscd87SSs2yP/JC0VoyndoaIldE35W1HRt0jONPpqA5lsfCOuXI5XZzD4eA+TZ3vduoTJimmkjvd0/e5I5xeH4Vjk/YASVsKxBwg85N4phgfSJubKx3eleFF0XesXl33t+Gm5dFIibyk4DICqod9utBLRl2GgLJJoxuSSG7zqlV1dVE3Uc3UKVNqQ+mN6kvrbnSMMYSsizx3TSfIcKoc1Su5dZ69iAbPGw+8nbRqf1pfTpz0R5lTk8qhY6IvIgsiw7uuvCIO4UNMeRm0JT+X143DgH4oslMd2uey8TsfviWtMEqNq8pI90qX4pFeLzpGp4m6kR3S4HFGPSuc9pd0T7oqPUiNu9qPwc51H2InsmdaAvJEFtqb/i6SLz0nJ5R60vM6hoxVHgvSIOyUPBRZy3FQm9JIE5lwTmh73oay+zfFSbLI0WrWZ0qf7pGdNl63cGFtHQSRq0i3HRl1j6jNaT3qQ+wHOs81OTap49VOfbp/pSdpfekx19tx2NK8VTk2aQ8BaefKAkmh8DK0ukFSL7noWEZVCl5001MXEWtKjih6eoPJSBfVkZ7jpqO8ZvXl7Sv6zXAdhjotPz9Oh+/TeovIS23IMWklrfBWXuoScQhT2p6Ta1G7iDDW37i0ZiRpEyMrDJ8zhJyXQfn5ubxu0lBOGcnksvFbi9pSGXOM0mvpcavplIfFQbzAQ/2HE8qwLCMQIi6l1VC/jL+itNS4q70qr2ifYlbWXtWZ71V+GZ6cx8FihKOIkCmPe0gRHmSdyiN9KpI7PSd9a3Q/tdsXeVv1+5PHt4Xz/3Vu7CPkbVdGpZfMKld7jZppdAzHKLU5yp+2v+hY5TfCRHWyb9aXadqqHpu0x5m0iT7wbpt5yhgBlBiDgeeKZy8Sb6ZszRRcXi+RLc+kYjA1B0vZGhJMhwAb1dmsvkZ5dU3zYPOOPSbOvTL/mv6xgAo80qHzRvXmEUk7aWVQZDCQkX6gfowCv3NiVDvyPQaRYdGzTzwxzl2nK2rp49S4k5fy83N53Z1E2uNF2pqnxAlkVCGdqxbhCUNhxciNhshFkBh9XcfRAvs0ctW1on27pN0s0ta8NrjnhKz6NWWBrNyrckK43sv7V/euRtVUf7pnlIN7h0V/yJ5eS4/VH+DVroxF90hatqYtsCvYE+RN56Pbra/R/ZvWyz3lSDu0vP1NyylLEk6bNi3enAwVpx0xSseKLNLINm8fCg05pcqHMjaaE4PQedyHspopONEf82WQMkYGg5kaRM0/5eQhOTFyDHWyMriV+pSvbK/6ZLiL0kEGYJYOm6qdaVSmvDJI4Ma5dtIWGaScOCGesv5g5TDDqa/cd290ztJ+lHxqc45xK6QtgtAcqspkL2OZz2mPF2mjRxBs0as7RY45aatveXwLvc+dRfVlUT/TXtZi8PpfPUvdLmk3mtMGU+kDZJwTsrDXCMHKiy6MhJ3L2sn9m5dBXYpgpdeqP9/jCNEPinTz62lZ6qt2ZBQmqWOb14EM2CXuHe6HXF/bqU/3b647eZ30vUY88muj8tuR9jhH2igOhg2Dz8pjIu9UmSBsXj8IQaU3hJQW48TQlvJw8xC1p0NPSttIwYlsGW7O5wNVLmROmRgO5sF1nueKMaqp09FKfcpftJfR1kK4ojRyNMAtX6CELOkqauTFs08JUTK2krbIIOWkLZnzx40YuWCBD1EFfYscOCMQeNqu/373f0T8c0eFPstJPq87dfzSdqM7Wj2ejkiUkVirQ62tpqN9ImYcSORRmxn5OG327EgkOeFoncXJR86Kw+r5dfUH/annvCmX8iEldKKV9kqWfK9Iumj1uNJCODzaBAkVpZMT9t8OPjjqHTgoL3vpXzv3b66r9Dv6lup1Wkd6jH4SaVMG9iTtC9Khm9iftKx2ZFSfpDYqrZ9jrUWhzbmec72d+pS2kU2TTLnTl8tV9d8m7QGQNje4noHWfB8vf8C4suoSI8TN//aP/v+jQNx0+XPBRLqQLh51+jhPKwquyIC8RatUkZEyuU4d1KXntJEPWWQIGtWna41ubgwv9eCZN7qhNISuoXyVjXOBd82zx8KkTMZW0urmT2XOiTPtjxwf5j9xemiLnB8iDfDDmPNClP/6939fe56cstVukR5k3+lz2swff5A4g70ibUgAJy6dttAx8/YM/fOhDd7fDQYQHYuuIHD6B1KGJJBH7dVeEXq+bkHX9Vx60XPaJxxxeEvtVVn5Xv0NuTCUm1/nN32ETqGnOSErPYTC9aJprFRf9Fy/dJU8RfdvK7qquov26J6eTMHh4MU61INTSf/wx72n+7gdGYVZeo/kMigN7StyyNupT/d6I9LW1EHRCEUuW5V/m7QHQNooDArLM6eXzTu9tqoWowBp88KVIuNBnvSNaNwMRW9JakXBKYvohDoVueaKrDdbETWSjj+OMQbkV/pG9ela2c2tqDH1+FVuvtfzuzLsKjt9I1ozGVtJK2OTypyTNrKBARE0pI3zxV/+xjjSMLerR24wlIyMvLNhQ21RU+qsgAdDsJSlYb6iuqmfx3XQn9Qwl70RrRfD4+hb2V+KFXIRxdEG9QfvH2D4mrneIgMug5uWk/c/0SGko/ay57feKqf0ZU6KrhftIYNGOij5ighZ5WkYP53P1jX26EI792+qq+DO4r783kvLLzpmlISX3aB/9AXlMLXFCnJ0MM/TqoxF90heFr+bOeSt1qd7vRFpc59wf6XrIYpkqvo5k/aASLvqijMM8rdyI0vOdtIqj/fj9x5wDVFj5AeBO4aQl+KkDtQg5HCdnemcps+KHMJRw9SkbdIeiJHsxY3UDhG3k7YXsrmM1o0v0RavwEwXGY43fsjAW+TSFc7jLYPra11ncqyYw2cUpGzqIk9f5d8mbZO2Sds6MBAdYP4bomSIn6H09NWrgzCqvCsg/Z72IGRwne0TtxyuRlMro4SrSdsGeyAGuxc3UTvRcztpeyGby2hufFmjwKI5CJt5fObzB40bc8asUdBbwgYtj+tvrkfc2zzimD5JMcq4mbRN2gM3lKN8g7ltzY2uMTJG1oHWdcCkbdI2aVsHrAPWAetARXTApF2RjrIn2ronaqyMlXXAOjCqOmDSNmnbw7YOWAesA9aBiuiASbsiHTWqXqPb5YjIOmAdsA60rgMmbZO2PWzrgHXAOmAdqIgOmLQr0lH2RFv3RI2VsbIOWAdGVQdM2iZte9jWAeuAdcA6UBEdMGlXpKNG1Wt0uxwRWQesA9aB1nXApG3StodtHbAOWAesAxXRAZN2RTrKnmjrnqixMlbWAevAqOqASdukbQ/bOmAdsA5YByqiAybtinTUqHqNbpcjIuuAdcA60LoOmLRN2vawrQPWAeuAdaAiOmDSrkhH2RNt3RM1VsbKOmAdGFUdGErSnjx5cvCfMbAOWAesA9YB60CxDkybNi10u/1NtwVceOGFJms7LNYB64B1wDpgHWiiA/Blt1vXpN2tAM5vBIyAETACRsAItIaASbs1nJzKCBgBI2AEjMDAETBpD7wLLIARMAJGwAgYgdYQMGm3hpNTGQEjYASMgBEYOAIm7YF3gQUwAkbACBgBI9AaAibt1nByKiNgBIyAETACA0fApD3wLrAARsAIGAEjYARaQ8Ck3RpOTmUEjIARMAJGYOAImLQH3gUWwAgYASNgBIxAawj8X84/9AZE/PoUAAAAAElFTkSuQmCC)"
      ],
      "metadata": {
        "id": "aAXxyHyUxAuN"
      }
    },
    {
      "cell_type": "markdown",
      "source": [
        "## Applying the Application Layer: Protocols and Ports\n",
        "The Application Layer, the topmost layer of the four-layer network model, encompasses protocols that users often interact with directly, albeit behind the scenes of user-friendly applications. These protocols enable activities like web browsing, email communication, and file transfers. Critical to the functioning of these protocols is the concept of \"ports.\"\n",
        "\n",
        "In the context of networking, a **port** is a virtual point where network connections start and end. Ports are associated with specific processes or services in a system, and each service has a unique port number. Port numbers help the system identify the correct application or service for which the data is intended. Essentially, they are like apartment numbers in a large building, ensuring the mail (or data) gets to the correct resident (or application).\n",
        "\n",
        "Some port numbers are reserved for specific services as per the Internet Assigned Numbers Authority (IANA). These are known as well-known port numbers, ranging from 0 to 1023. Here are a few examples:\n",
        "\n",
        "| Name | Port Number | Description |\n",
        "| --- | --- | --- |\n",
        "| HTTP | 80 | Hypertext Transfer Protocol, used for transferring web content. |\n",
        "| HTTPS | 443 | HTTP Secure, a secure version of HTTP for sensitive information. |\n",
        "| FTP | 20, 21 | File Transfer Protocol, used for transferring files between hosts. Port 20 is for data transfer and port 21 for command control. |\n",
        "| SMTP | 25 | Simple Mail Transfer Protocol, used for sending emails. |\n",
        "| IMAP | 143 | Internet Message Access Protocol, used for receiving emails. |\n",
        "| POP3 | 110 | Post Office Protocol 3, also used for receiving emails. |\n",
        "| DNS | 53 | Domain Name System, translates URLs into IP addresses. |\n",
        "| SSH | 22 | Secure Shell, used for secure access to remote computers. |\n",
        "| Telnet | 23 | Telnet, a protocol used for interacting with remote computers. |\n",
        "| RDP | 3389 | Remote Desktop Protocol, used for remote desktop connections. |\n",
        "| SQL | 1433 | SQL Server, used for database management systems. |\n",
        "\n",
        "THese are just a few of the hundreds of ports. You can find out more at https://en.wikipedia.org/wiki/List_of_TCP_and_UDP_port_numbers."
      ],
      "metadata": {
        "id": "kNSsN4ThbJ50"
      }
    },
    {
      "cell_type": "markdown",
      "source": [
        "### HTTP: An Application-Layer Protocol for the World Wide Web\n",
        "\n",
        "The **Hyptertext Transport Protocol (HTTP)** in an application-layer protocolinvented by Tim Berners-Lee, the creator of the World Wide Web, and his team at CERN in 1989. The purpose of HTTP is to allow the fetching of resources, such as HTML documents, images, and videos, from servers and displaying them on a client's browser. Essentially, HTTP is the protocol that enables communication between web browsers (clients) and web servers, allowing us to surf the internet.\n",
        "\n",
        "HTTP is critically important because it forms the foundation of any data exchange on the web. It's not an exaggeration to say that almost every action you perform on the internet---from clicking a link, to typing a URL into your browser's address bar, to submitting a form on a webpage---starts an HTTP request.\n",
        "HTTP is based on the request-response model. That means the communication usually begins with a client (for instance, your browser) making a request to a server. The server, upon receiving this request, processes it and sends a response back to the client.  Here's a simplified step-by-step breakdown of how this works:\n",
        "\n",
        "1.  *The Client Sends a Request.* Let's say you want to visit `www.example.com`. When you type this URL into your browser and hit Enter, your browser starts an HTTP request. This request is a message which includes information like the desired action (often \"GET\" to fetch data, though there are other methods), the URL, and the HTTP version.\n",
        "\n",
        "2.  *The Server Processes the Request.* The HTTP request message is received by the web server hosting `www.example.com`. The server processes the request, interpreting what resources are asked for and what action the client wants to perform.\n",
        "\n",
        "3.  *The Server Sends a Response.* After processing, the server forms an HTTP response and sends it back to the client. This response includes a status code that indicates whether the request was successful (for example, \"200\" for success) or if there were any errors (for example, \"404\" means the requested page was not found). Along with the status code, if the request was successful, the server includes the requested resource in the response---for instance, the HTML of a web page.\n",
        "\n",
        "4.  *The Client Displays the Response.* Once your browser receives the HTTP response, it interprets the data and renders the web page on your screen. If the requested resource is an HTML file, the browser reads the HTML, CSS, and JavaScript, fetches any necessary additional files (like images), and displays the formatted page for you to view.\n",
        "\n",
        "Remember, this is a simplified explanation. In reality, there's a lot more complexity involved, including things like HTTP headers for transmitting metadata, cookies for maintaining state, and HTTPS for securing communications. But at its heart, HTTP is about sending a request from a client to a server, and returning a response from the server back to the client. This basic model underlies much of the activity on the internet."
      ],
      "metadata": {
        "id": "jh4LquZ9dI9R"
      }
    },
    {
      "cell_type": "markdown",
      "source": [
        "## Two Ways to Transport Data (TCP and UDP)\n",
        "\n",
        "The Transport Layer is essential for network communication, facilitating end-to-end services between applications. It ensures reliable and transparent data transfer between end systems (hosts) through protocols like **TCP (Transmission Control Protocol)** and **UDP (User Datagram Protocol).**\n",
        "\n",
        "TCP is all about reliable and orderly delivery of data packets. It's like a tracked mail service - you know your data will get there and in the order you sent it. Key features of TCP include reliable transmission (it retransmits lost or corrupted packets), flow control (managing the data transfer rate to avoid overwhelming the receiver), ordered delivery (rearranging packets that arrive out of order), and congestion control (preventing traffic bottlenecks).\n",
        "\n",
        "UDP, on the other hand, is simpler and connectionless. It's like sending a letter without tracking - faster but without guarantees of delivery or order. UDP doesn't provide TCP's reliability mechanisms, making it faster and suitable for applications where speed is more critical than precision, like live broadcasts or online games.\n",
        "\n",
        "Both TCP and UDP use port numbers to direct data to the correct application on a network device. Key features of these protocols include:\n",
        "\n",
        "| Feature | TCP | UDP |\n",
        "| --- | --- | --- |\n",
        "| Connection | Connection-oriented (requires connection setup) | Connectionless (no setup required) |\n",
        "| Reliability | Ensures data delivery and order | Does not guarantee delivery or order |\n",
        "| Speed | Slower due to reliability mechanisms | Faster due to lack of overhead |\n",
        "| Data Flow Control | Includes flow and congestion control mechanisms | No flow control, open to congestion |\n",
        "| Use Cases | Ideal for applications requiring reliability, such as web browsing, email | Suited for real-time applications, like gaming, streaming |\n",
        "| Header Size | Larger headers due to control information | Smaller headers, leading to less overhead |"
      ],
      "metadata": {
        "id": "5muJO23HeYzc"
      }
    },
    {
      "cell_type": "markdown",
      "source": [
        "## How the Internet Protocol (IP) Enables Global Connectivity\n",
        "The Internet Layer, also known as the network layer, is responsible for receiving segments from the Transport Layer and packaging them into packets. But perhaps its most significant role is addressing, routing, and forwarding these packets to allow communication between networks, hence facilitating global connectivity. Let's dive into this.\n",
        "\n",
        "1. At the heart of this process is the **Internet Protocol (IP)**, which defines the system of IP addresses. An IP address is a unique identifier assigned to each device connected to a network that uses IP for communication. There are two types of IP addresses: IPv4 and IPv6. **IPv4 addresses** are composed of four sets of numbers, each ranging from 0 to 255, separated by periods (e.g., 192.168.1.1). **IPv6 addresses**, which are being more widely used due to the exhaustion of IPv4 addresses, are composed of eight groups of four hexadecimal digits, separated by colons (e.g., 2001:0db8:85a3:0000:0000:8a2e:0370:7334).  Each IP address in an IP network must be unique within that network.\n",
        "\n",
        "2. The Internet Layer is also responsible for routing data packets to their destinations using IP addresses. Each **router** connected to the network has a table known as the **routing table** that stores routes (paths) to different network destinations. It uses these tables to decide the best path for forwarding the packets.  When a data packet is sent from one network to another, it usually passes through several routers. Each router examines the IP address of the packet's destination and consults its routing table to decide which way to send the packet. The packet is forwarded from router to router along the path until it reaches its destination network.\n",
        "\n",
        "3. The process of sending the packets from one network to another, as decided by the routers, is known as **forwarding**. The routers at the boundary of each network are responsible for forwarding the packets to the next network on the path to the destination.\n",
        "\n",
        "4. Each device connected to a network receives an IP address, which can be either public or private. A **public IP address** is a globally unique address that is assigned to a device, like a router, that connects directly to the internet. These addresses are used across the entire internet to locate networked devices. **Private IP addresses**, on the other hand, are used within private networks such as home, office, or enterprise networks. These addresses are not routable on the open internet and therefore provide a layer of security by inherently hiding the networked device from the world. Common private IPv4 address ranges include 10.0.0.0 to 10.255.255.255, 172.16.0.0 to 172.31.255.255, and 192.168.0.0 to 192.168.255.255.\n",
        "\n",
        "\n",
        "The combination of unique IP addressing and the capability of IP routing and forwarding enables global connectivity. Regardless of the network, each device can send packets to any other device in the world, as long as they are both connected to the internet. The packets are routed through various networks and routers on their journey, each hop getting them closer to their destination, until they ultimately reach the correct device."
      ],
      "metadata": {
        "id": "p2XEwncVgHak"
      }
    },
    {
      "cell_type": "markdown",
      "source": [
        "### A Little History of the Internet\n",
        "The internet is a \"network of networks\" that allows computers all around the world to communicate with each other. Initially created for academic and military purposes, it has become an essential tool for billions of people and has influenced almost every aspect of modern life. Here are a few of the major milestones.\n",
        "\n",
        "\n",
        "| Time Period | Development/Technology | Description/Significance |\n",
        "| --- | --- | --- |\n",
        "| 1960s | ARPANET | The Advanced Research Projects Agency Network (ARPANET) was the first major packet-switching network, laying the groundwork for future internet development. |\n",
        "| 1971 | Email | Ray Tomlinson introduces email, revolutionizing communication over networks. |\n",
        "| 1974 | TCP/IP | Development of Transmission Control Protocol (TCP) and Internet Protocol (IP), foundational protocols for data transmission on the internet. |\n",
        "| 1980s | Domain Name System (DNS) | DNS is introduced for translating domain names into IP addresses, making the internet more user-friendly. |\n",
        "| 1989 | World Wide Web (WWW) | Tim Berners-Lee invents the World Wide Web, a system for accessing and sharing information over the internet, using Hypertext Transfer Protocol (HTTP). |\n",
        "| Early 1990s | Web Browsers | The introduction of web browsers like Mosaic, later Netscape, simplifies access to the Web, leading to widespread public use. |\n",
        "| Mid 1990s | Commercialization of the Internet | The internet transitions from a research and academic network to a commercial and public service. |\n",
        "| Late 1990s | Search Engines | Development of search engines like Google revolutionizes information retrieval on the internet. |\n",
        "| Early 2000s | Broadband Expansion | The expansion of broadband internet increases speed and accessibility, enabling more sophisticated online services. |\n",
        "| Mid 2000s | Social Media | The rise of social media platforms like Facebook and Twitter changes the way people communicate and consume information online. |\n",
        "| Late 2000s to 2010s | Cloud Computing and Mobile Internet | Cloud computing services become mainstream; the proliferation of smartphones leads to the widespread adoption of mobile internet. |\n",
        "| 2010s | Internet of Things (IoT) | The expansion of IoT connects a wide range of devices to the internet, further integrating digital technology into everyday life. |\n",
        "| 2010s - 2020s | Artificial Intelligence and Big Data | Advances in AI and big data analytics transform how data is processed and used on the internet, impacting various sectors from healthcare to commerce. |\n",
        "| 2020s | 5G Technology | Deployment of 5G networks promises faster speeds, lower latency, and supports the growing demand for IoT and mobile internet. |\n",
        "\n",
        "\n",
        "The table highlights key milestones in internet development, showcasing its evolution from a research project to a global communications and information platform. Each decade brought significant innovations, from fundamental protocols to user-friendly interfaces, commercialization, information retrieval, social interaction, and ever-increasing connectivity. Today, AI and big data are shaping the future, while 5G promises to unlock further possibilities for the internet's impact on everyday life."
      ],
      "metadata": {
        "id": "qGQ50AgoldlX"
      }
    },
    {
      "cell_type": "markdown",
      "source": [
        "## Network Interace (\"Data Link\") Layer\n",
        "The **Network Interface Layer**, also known as the Link or Data Link Layer, is the layer that interfaces directly with the physical network. It forms the bridge between the logical aspect of network communication, handled by the layers above it, and the physical reality of transmitting and receiving data over hardware.\n",
        "\n",
        "Imagine you're sending a letter to a friend. You have your message ready, but you can't just hand your words over to the mail carrier. You need to put your message inside an envelope with your friend's address on it and your return address. The envelope is akin to a \"frame\" in network terms. Just like the envelope encapsulates your letter, a frame encapsulates the data to be transmitted over the network. Each frame includes not just the data, or \"payload\", but also source and destination addresses, as well as other control information to ensure successful transmission.\n",
        "\n",
        "Imporant technologies and protocols include:\n",
        "\n",
        "| Technology/Protocol | Description and Role |\n",
        "| --- | --- |\n",
        "| Ethernet | This is used in wired networks to connect devices like computers. It puts data into a format (called frames) for sending over cables. These frames include addresses to identify each device, the data being sent, and checks for errors. |\n",
        "| Wi-Fi (IEEE 802.11) | Similar to Ethernet, but for wireless networks. It sends data over air using radio signals. Just like Ethernet, it uses frames with addresses and data, but it also has special ways to deal with many devices using the same air space. |\n",
        "| MAC Addresses | These are unique numbers for every device in a network, like an ID card for each computer or phone. They help make sure the data sent over a network reaches the right device. |\n",
        "| Switches and Bridges | These are like traffic officers for networks. They look at the addresses on data and decide where to send it in the network, making sure data goes to the right device. |\n",
        "| ARP (Address Resolution Protocol) | This is used when a device knows the IP address (like a postal address for the internet) of another device but needs to find out its MAC address (the device's unique ID). |\n",
        "| PPP (Point-to-Point Protocol) | A method for connecting two network devices directly, like a direct phone call between two computers. It wraps up data in a special way so it can be sent over these direct connections. |\n",
        "| Frame Relay | This is a way to send data quickly over a network, especially used in big telecommunications networks. It chops data into pieces and sends them in an efficient way to speed up delivery. |\n",
        "| VLANs (Virtual Local Area Networks) | This technology divides a big network into smaller, separate networks. This helps manage the network better and can keep certain data more secure. |\n",
        "\n",
        "These technologies and protocols work in tandem to ensure that data is correctly packaged into frames, sent over the physical network, and accurately delivered to the right device. This process begins with encapsulating data in Ethernet or Wi-Fi frames, which include the MAC addresses of the sending and receiving devices. If the MAC address of the receiving device isn't known, ARP is used to find it. Switches or bridges then forward these frames to the right destination within the network"
      ],
      "metadata": {
        "id": "JmGrjBsmt62p"
      }
    },
    {
      "cell_type": "markdown",
      "source": [
        "## Case Study: the Network Ninja\n",
        "\n",
        "In the digital dojo of \"Shadow Strike: Ninja Networks,\" players are not only mastering ancient ninja arts but also navigating the complex world of network communications. Join Network Ninja and Network Novice as they slice through the complexities of the four-layer Network Model, using \"Shadow Strike: Ninja Networks\" as their guide.\n",
        "\n",
        "* * * * *\n",
        "\n",
        "Network Novice: Absolutely, Ninja! But networking stuff confuses me. How does our game actually connect and play so smoothly?\n",
        "\n",
        "Network Ninja: Let's break it down using the four-layer Network Model. Imagine each layer as a different ninja skill level.\n",
        "\n",
        "### Level 1: Link Layer - \"The Hardware Connection\"\n",
        "\n",
        "Network Ninja: First up is the Link Layer. Think of it as your game console connecting to the internet. Your Android device uses Wi-Fi or mobile data to connect, similar to attaching your nunchucks to your ninja belt.\n",
        "\n",
        "Network Novice: Got it! My phone's Wi-Fi connects to the router, like hooking up to the ninja network.\n",
        "\n",
        "### Level 2: Internet Layer - \"The Pathfinding Ninja\"\n",
        "\n",
        "Network Ninja: Next, the Internet Layer. Here's where IP addresses come in. Your phone gets an IP address, like a home address in the ninja village. When you play \"Shadow Strike,\" your game data is sent in packets to the IP address of the server where other ninjas are playing.\n",
        "\n",
        "Network Novice: So, it's like sending a ninja scroll to a specific location in the village. But how does it find the fastest route?\n",
        "\n",
        "Network Ninja: Exactly! The Internet Layer figures out the most efficient path for your data packets, just like a ninja choosing the quickest rooftops to leap across.\n",
        "\n",
        "### Level 3: Transport Layer - \"The Trustworthy Courier\"\n",
        "\n",
        "Network Ninja: Then comes the Transport Layer. Here, TCP (Transmission Control Protocol) ensures your game's moves are sent reliably. Think of TCP like a trustworthy courier, making sure every part of your secret message gets to the other ninjas.\n",
        "\n",
        "Network Novice: And what about UDP? I heard it's faster?\n",
        "\n",
        "Network Ninja: Good point! UDP (User Datagram Protocol) is like a swift messenger bird. It's faster but doesn't check if all parts of the message arrived. In \"Shadow Strike,\" UDP might be used for real-time updates where speed is crucial, and it's okay if a move or two gets lost in the fray.\n",
        "\n",
        "### Level 4: Application Layer - \"The Art of Shadow Strike\"\n",
        "\n",
        "Network Ninja: Finally, we reach the Application Layer. This is \"Shadow Strike\" itself. Here, specific port numbers are like doors to different rooms in our ninja castle. Our game might use a particular port number, say 5555, to ensure that when your device connects to the game server, it goes straight to \"Shadow Strike\" and not some other game.\n",
        "\n",
        "Network Novice: Ah, so when I launch the game, it uses that port number to enter the right room in the castle where all the ninjas gather!\n",
        "\n",
        "Network Ninja: Precisely! And with all these layers working together, from your Wi-Fi connection to the game server, we ensure a seamless and swift ninja gaming experience.\n",
        "\n",
        "Network Novice: Thanks, Ninja! I feel ready to conquer both the game and its network mysteries!"
      ],
      "metadata": {
        "id": "4mm6XbzGg76W"
      }
    },
    {
      "cell_type": "markdown",
      "source": [
        "### Questions: Network Models\n",
        "\n",
        "1. Can you describe the roles of the four layers (Application Layer, Transport Layer, Internet Layer, Network Interface Layer) in the TCP-IP network model, providing a real-life example for each?\n",
        "\n",
        "2. What is the significance of a network model in understanding, building, and troubleshooting a network? Can you provide examples of how a network model aids each of these tasks?\n",
        "\n",
        "3. What are the differences between TCP and UDP protocols at the Transport Layer, and how do these differences affect their respective use cases?\n",
        "\n"
      ],
      "metadata": {
        "id": "3yq4LqxQyMka"
      }
    },
    {
      "cell_type": "markdown",
      "source": [
        "### Answers: Network Model\n",
        "\n",
        "1.\n",
        "\n",
        "2.\n",
        "\n",
        "3."
      ],
      "metadata": {
        "id": "yyJ-9Zi8yfWG"
      }
    },
    {
      "cell_type": "markdown",
      "source": [
        "### Case Study: The Cookie Conundrum\n",
        "Internet **cookies** are small pieces of data that are stored on your computer by your web browser at the request of certain websites you visit. Cookies are designed to remember information about your visit, such as your login information, what's in your shopping cart, or your preferred language.\n",
        "\n",
        "While cookies can enhance your browsing experience by preserving customized settings and recognizing when you're logged in, they also raise some privacy concerns.   Many websites and third-party entities use cookies for a variety of other purposes, some of which can affect your privacy. Here are some of the main ways this happens:\n",
        "\n",
        "-  **Tracking Cookies:** Also known as third-party cookies, these are set by a website other than the one you're currently visiting. For instance, if you visit website.com, it might have an ad from adsite.com embedded on the page. Adsite.com can set a cookie that can be accessed through website.com. These cookies are often used to track your online behavior across multiple websites, building a profile of your habits and interests.\n",
        "\n",
        "-  **Advertising:** By tracking your behavior across multiple websites, third-party entities can target ads towards your interests, known as behavioral advertising. This might sound convenient, but it can also feel intrusive, as though your every move online is being watched and analyzed.\n",
        "\n",
        "-  **Cookie Syncing:** This is when ad companies share their tracking cookies with each other. Cookie syncing allows these companies to link their identifiers for a particular user, essentially creating a more complete profile of you."
      ],
      "metadata": {
        "id": "fiYO7kfEl2D0"
      }
    },
    {
      "cell_type": "markdown",
      "source": [
        "### Questions: The Cookie Conundrum\n",
        "\n",
        "1.  When you visit a website, what kind of information do you think it could learn about you from cookies? Give at least three examples.\n",
        "\n",
        "2.  How do you feel about your online browsing behavior being tracked, analyzed, and possibly shared? What couldy do you to help prevent this?\n",
        "\n",
        "3.  Have you ever noticed ads on websites that seem to align suspiciously well with your recent browsing history or personal interests? What was your reaction? Would you rather receive ads that were \"less\" targeted>\n",
        "\n",
        "\n",
        "### Your Answers: Internet and Cookies\n",
        "1.\n",
        "\n",
        "2.\n",
        "\n",
        "3.\n"
      ],
      "metadata": {
        "id": "AcUcavqhmh2T"
      }
    },
    {
      "cell_type": "markdown",
      "source": [
        "## A Short Course in HTML\n",
        "**Hypertext Markup Language (HTML)** is the standard markup language for creating web pages and web applications. It's a language that structures content on the internet and forms the building blocks of all websites. HTML does this by using tags that define the content type, such as headers, paragraphs, lists, links, images, and more.  Here's why we use HTML:\n",
        "\n",
        "1.  Universal Internet Language: HTML is universally understood by browsers across platforms (Windows, Mac, Linux, etc.) and devices (desktop, laptop, mobile, etc.). This makes it essential for creating content on the internet.\n",
        "\n",
        "2.  Structure and Content of Web Pages: HTML provides the structure to web pages. It allows you to define various elements like headings, paragraphs, lists, tables, images, forms, etc., making your content readable and understandable by web browsers.\n",
        "\n",
        "3.  Embed Media: HTML allows embedding various types of media like images, videos, audio, etc., into the web page.\n",
        "\n",
        "4.  Create Links: HTML allows web pages to connect to each other via hyperlinks, thus creating the \"web\" of connections that is the internet.\n",
        "\n",
        "5.  Serve as a Foundation for Web Technologies: Other technologies like CSS and JavaScript are often used in combination with HTML. CSS is used to control the look and feel of the HTML content, and JavaScript is used to add interactivity to HTML web pages.\n",
        "\n",
        "6.  SEO: HTML is good for search engine optimization (SEO). Search engines use the tags in HTML to understand the content of web pages, which helps in getting your website discovered.\n",
        "\n",
        "Understanding HTML is fundamental to web development and other related fields. In this section, we'll learn the basics of HTML."
      ],
      "metadata": {
        "id": "mkIgvIx5t32U"
      }
    },
    {
      "cell_type": "markdown",
      "source": [
        "### A Simple Structure\n",
        "An HTML document has a specific structure. This structure allows browsers to interpret the content correctly. Here are the main components of an HTML document:\n",
        "\n",
        "1.  DOCTYPE Declaration: This is the first line of an HTML document and it represents the document type declaration. It helps the browser to understand the version of the HTML being used. For HTML5, this is declared as `<!DOCTYPE html>`.\n",
        "\n",
        "2.  HTML Element: This is the root element of an HTML page, which contains all other HTML elements. It is marked with `<html>` tags.\n",
        "\n",
        "3.  Head Element: The `<head>` element contains meta-information about the HTML document. This is not content that is shown on the webpage itself, but information for the browser and search engines. This includes:\n",
        "\n",
        "    -   Title Element: The `<title>` tag specifies the title of the web page. The title is what shows up in the browser tab and is also used by search engines.\n",
        "    -   Meta Tags: These include various details about the HTML document. This could be character encoding declaration (like `<meta charset=\"UTF-8\">`), information for search engine (like meta description), and viewport settings for responsive design.\n",
        "    -   Link Element: This is typically used to link CSS files for styling the HTML content.\n",
        "    -   Script Element: This is used to link JavaScript files, though JavaScript can also be placed in the body.\n",
        "4.  Body Element: The `<body>` tag contains the content that is displayed on the web page. This could be text, images, videos, games, clickable buttons, hyperlinks, etc. The body is where you structure your content with various HTML tags like headers (h1-h6), paragraphs (p), lists (ul and ol), links (a), images (img), etc.\n",
        "\n",
        "So a very basic HTML document would look something like this:"
      ],
      "metadata": {
        "id": "0ixXUaX0vFjS"
      }
    },
    {
      "cell_type": "code",
      "source": [
        "%%html\n",
        "\n",
        "<!DOCTYPE html>\n",
        "<html>\n",
        "  <head>\n",
        "    <title>Page Title</title>\n",
        "    <meta charset=\"UTF-8\">\n",
        "  </head>\n",
        "  <body>\n",
        "    <h1>My First Heading</h1>\n",
        "    <p>My first paragraph.</p>\n",
        "  </body>\n",
        "</html>\n"
      ],
      "metadata": {
        "colab": {
          "base_uri": "https://localhost:8080/",
          "height": 100
        },
        "id": "ON9qxIA6vRrX",
        "outputId": "b2754ebd-45ae-4ded-ca13-309b1532fd15"
      },
      "execution_count": null,
      "outputs": [
        {
          "output_type": "display_data",
          "data": {
            "text/plain": [
              "<IPython.core.display.HTML object>"
            ],
            "text/html": [
              "\n",
              "<!DOCTYPE html>\n",
              "<html>\n",
              "  <head>\n",
              "    <title>Page Title</title>\n",
              "    <meta charset=\"UTF-8\">\n",
              "  </head>\n",
              "  <body>\n",
              "    <h1>My First Heading</h1>\n",
              "    <p>My first paragraph.</p>\n",
              "  </body>\n",
              "</html>\n"
            ]
          },
          "metadata": {}
        }
      ]
    },
    {
      "cell_type": "markdown",
      "source": [
        "### Adding Content to Our HTML Page\n",
        "HTML provides numerous elements to structure your content effectively. Let's walk through how you might structure a simple page about \"Networks\" using different HTML elements.\n"
      ],
      "metadata": {
        "id": "hsJ_1qZ1wAOV"
      }
    },
    {
      "cell_type": "code",
      "source": [
        "%%html\n",
        "\n",
        "<!DOCTYPE html>\n",
        "<html>\n",
        "  <head>\n",
        "    <title>Introduction to Networks</title>\n",
        "    <meta charset=\"UTF-8\">\n",
        "  </head>\n",
        "  <body>\n",
        "    <header>\n",
        "      <h1>Understanding Networks</h1>\n",
        "      <nav>\n",
        "        <ul>\n",
        "          <li><a href=\"#types\">Types of Networks</a></li>\n",
        "          <li><a href=\"#components\">Components of a Network</a></li>\n",
        "          <li><a href=\"#uses\">Uses of Networks</a></li>\n",
        "        </ul>\n",
        "      </nav>\n",
        "    </header>\n",
        "\n",
        "    <section id=\"types\">\n",
        "      <h2>Types of Networks</h2>\n",
        "      <p>Networks can be classified into different types such as LAN, WAN, MAN, PAN, etc.</p>\n",
        "    </section>\n",
        "\n",
        "    <section id=\"components\">\n",
        "      <h2>Components of a Network</h2>\n",
        "      <p>A network consists of various components like nodes, routers, modems, etc.</p>\n",
        "    </section>\n",
        "\n",
        "    <section id=\"uses\">\n",
        "      <h2>Uses of Networks</h2>\n",
        "      <p>Networks are used for various purposes including communication, data sharing, resource sharing, etc.</p>\n",
        "\n",
        "      Here is an image from Wikipedia. <img src = \"https://upload.wikimedia.org/wikipedia/commons/a/ab/Internet_of_Things.jpg\" width = 200>\n",
        "    </section>\n",
        "\n",
        "    <footer>\n",
        "      <p>Created for Brendan's Intro to CS Course</p>\n",
        "    </footer>\n",
        "  </body>\n",
        "</html>\n"
      ],
      "metadata": {
        "colab": {
          "base_uri": "https://localhost:8080/",
          "height": 561
        },
        "id": "lPvgq9cuwN4W",
        "outputId": "d3b66387-b2b0-4049-d307-46cdcd90f2f4"
      },
      "execution_count": null,
      "outputs": [
        {
          "output_type": "display_data",
          "data": {
            "text/plain": [
              "<IPython.core.display.HTML object>"
            ],
            "text/html": [
              "\n",
              "<!DOCTYPE html>\n",
              "<html>\n",
              "  <head>\n",
              "    <title>Introduction to Networks</title>\n",
              "    <meta charset=\"UTF-8\">\n",
              "  </head>\n",
              "  <body>\n",
              "    <header>\n",
              "      <h1>Understanding Networks</h1>\n",
              "      <nav>\n",
              "        <ul>\n",
              "          <li><a href=\"#types\">Types of Networks</a></li>\n",
              "          <li><a href=\"#components\">Components of a Network</a></li>\n",
              "          <li><a href=\"#uses\">Uses of Networks</a></li>\n",
              "        </ul>\n",
              "      </nav>\n",
              "    </header>\n",
              "\n",
              "    <section id=\"types\">\n",
              "      <h2>Types of Networks</h2>\n",
              "      <p>Networks can be classified into different types such as LAN, WAN, MAN, PAN, etc.</p>\n",
              "    </section>\n",
              "\n",
              "    <section id=\"components\">\n",
              "      <h2>Components of a Network</h2>\n",
              "      <p>A network consists of various components like nodes, routers, modems, etc.</p>\n",
              "    </section>\n",
              "\n",
              "    <section id=\"uses\">\n",
              "      <h2>Uses of Networks</h2>\n",
              "      <p>Networks are used for various purposes including communication, data sharing, resource sharing, etc.</p>\n",
              "\n",
              "      Here is an image from Wikipedia. <img src = \"https://upload.wikimedia.org/wikipedia/commons/a/ab/Internet_of_Things.jpg\" width = 200>\n",
              "    </section>\n",
              "\n",
              "    <footer>\n",
              "      <p>Created for Brendan's Intro to CS Course</p>\n",
              "    </footer>\n",
              "  </body>\n",
              "</html>\n"
            ]
          },
          "metadata": {}
        }
      ]
    },
    {
      "cell_type": "markdown",
      "source": [
        "In this example:\n",
        "\n",
        "1.  Title Tag: The `<title>` tag in the head sets the title of the webpage that is shown in the browser tab as \"Introduction to Networks\".\n",
        "\n",
        "2.  Header Tag: The `<header>` tag is used for introductory content or navigation links. In this example, it contains a heading and a navigation bar with anchor links to different sections of the webpage.\n",
        "\n",
        "3.  H1 Tag: The `<h1>` tag defines the main heading of the webpage, which is \"Understanding Networks\" in this case.\n",
        "\n",
        "4.  Nav Tag and Unordered List: The `<nav>` tag is used to define a set of navigation links, and the `<ul>` tag defines an unordered list with `<li>` tags as list items. Each list item contains an anchor link (`<a>`) to the respective section.\n",
        "\n",
        "5.  Section Tag: The `<section>` tag defines a standalone section. Each section has a unique id that anchor links can refer to.\n",
        "\n",
        "6.  H2 Tag: The `<h2>` tag is used for subheadings, which in this case are \"Types of Networks\", \"Components of a Network\", and \"Uses of Networks\".\n",
        "\n",
        "7.  P Tag: The `<p>` tag defines a paragraph. Here, it's used to provide a brief description of each section's topic.\n",
        "\n",
        "8. img Tag: The `<img>` tag is used to display an image (in this case, one from Wikipedia).\n",
        "\n",
        "9.  Footer Tag: The `<footer>` tag is used to define the footer of a webpage. It can contain information like authorship, copyright information, contact information, etc.\n",
        "\n",
        "This is a basic example, and HTML provides many other elements to structure content in more complex and specific ways, including tags for images, tables, forms, and more. It also supports inline CSS and JavaScript to add style and functionality to the page."
      ],
      "metadata": {
        "id": "Z1v5c42twh_I"
      }
    },
    {
      "cell_type": "markdown",
      "source": [
        "## Styling with CSS\n",
        "CSS, which stands for Cascading Style Sheets, is a language that is used to describe how HTML elements on a web page should appear. While HTML provides the structure of web pages (i.e., it defines what elements are present on the page), CSS is used to control the layout and appearance of these elements. It can control things like the color of text, the style of fonts, the spacing between elements, how elements are positioned and laid out, as well as various visual effects.\n",
        "\n",
        "So, in essence, if HTML is the skeleton of the webpage, CSS would be its skin and clothing.\n",
        "\n",
        "Here's a very simple example of how CSS interacts with HTML:"
      ],
      "metadata": {
        "id": "ENFtx02MyU-z"
      }
    },
    {
      "cell_type": "code",
      "source": [
        "%%html\n",
        "\n",
        "<!DOCTYPE html>\n",
        "<html>\n",
        "  <head>\n",
        "    <style>\n",
        "      /* CSS goes here */\n",
        "      body {\n",
        "        background-color: lightblue;\n",
        "      }\n",
        "\n",
        "      h1 {\n",
        "        color: navy;\n",
        "        text-align: center;\n",
        "      }\n",
        "\n",
        "      p {\n",
        "        font-family: verdana;\n",
        "        font-size: 20px;\n",
        "        color: black;\n",
        "      }\n",
        "    </style>\n",
        "  </head>\n",
        "  <body>\n",
        "    <h1>Welcome to the Networks Page!</h1>\n",
        "    <p>This is a paragraph explaining something about networks.</p>\n",
        "  </body>\n",
        "</html>\n"
      ],
      "metadata": {
        "colab": {
          "base_uri": "https://localhost:8080/",
          "height": 107
        },
        "id": "wEkeQ73Ryfea",
        "outputId": "b6f2ceb5-49a4-482f-e6a1-079ee6d3b13f"
      },
      "execution_count": null,
      "outputs": [
        {
          "output_type": "display_data",
          "data": {
            "text/plain": [
              "<IPython.core.display.HTML object>"
            ],
            "text/html": [
              "\n",
              "<!DOCTYPE html>\n",
              "<html>\n",
              "  <head>\n",
              "    <style>\n",
              "      /* CSS goes here */\n",
              "      body {\n",
              "        background-color: lightblue;\n",
              "      }\n",
              "\n",
              "      h1 {\n",
              "        color: navy;\n",
              "        text-align: center;\n",
              "      }\n",
              "\n",
              "      p {\n",
              "        font-family: verdana;\n",
              "        font-size: 20px;\n",
              "        color: black;\n",
              "      }\n",
              "    </style>\n",
              "  </head>\n",
              "  <body>\n",
              "    <h1>Welcome to the Networks Page!</h1>\n",
              "    <p>This is a paragraph explaining something about networks.</p>\n",
              "  </body>\n",
              "</html>\n"
            ]
          },
          "metadata": {}
        }
      ]
    },
    {
      "cell_type": "markdown",
      "source": [
        "In this example, we've included CSS directly in our HTML document within the `<style>` tags in the `<head>` of the document.\n",
        "\n",
        "The CSS starts with a selector (`body`, `h1`, and `p` in this case), which is the HTML element that you want to style. The styles themselves are defined within curly brackets `{}`. For example, for the `body` selector, the style is `background-color: lightblue;`. This sets the background color of the entire webpage to light blue.\n",
        "\n",
        "Similarly, for the `h1` selector, we've set the text color to navy and centered the text. And for the `p` selector, we've set the font family (the type of font) to verdana, the font size to 20 pixels, and the color to black.In this example, we've included CSS directly in our HTML document within the `<style>` tags in the `<head>` of the document.\n",
        "\n",
        "The CSS starts with a selector (`body`, `h1`, and `p` in this case), which is the HTML element that you want to style. The styles themselves are defined within curly brackets `{}`. For example, for the `body` selector, the style is `background-color: lightblue;`. This sets the background color of the entire webpage to light blue.\n",
        "\n",
        "Similarly, for the `h1` selector, we've set the text color to navy and centered the text. And for the `p` selector, we've set the font family (the type of font) to verdana, the font size to 20 pixels, and the color to black."
      ],
      "metadata": {
        "id": "YWYAtv6ayuTa"
      }
    },
    {
      "cell_type": "markdown",
      "source": [
        "### Summary: Basic HTML tags\n",
        "| HTML Syntax | Task |\n",
        "| --- | --- |\n",
        "| `<b>apple</b>` | HTML: Print \"apple\" in bold |\n",
        "| `<img src=\"image.jpeg\" width=\"100\" height=\"100\"/>` | HTML: Include \"image.jpeg\" with size 100x100 |\n",
        "| `<a href=\"https://www.google.com\">Go to Google</a>` | HTML: Link to google.com with text \"Go to Google\" |\n",
        "| `<h1>Hello</h1>` | HTML: Create a header level 1 with text \"Hello\" |\n",
        "| `<p>This is a paragraph</p>` | HTML: Create a paragraph with text \"This is a paragraph\" |\n",
        "| `<ul><li>one</li><li>two</li></ul>` | HTML: Create an unordered list with \"one\" and \"two\" |\n",
        "| `<tr><td>Cell 1</td><td>Cell 2</td></tr>` | HTML: Create a table row with two cells |\n",
        "| `<i>italic text</i>` | HTML: Make text italic \"italic text\" |\n",
        "| `<hr/>` | HTML: Make a horizontal line |\n",
        "| `<head><title>My Title</title></head>` | HTML: Set the title of the document to \"My Title\" |\n",
        "| `<br/>` | HTML: Insert a line break |\n",
        "| `<div id=\"myDiv\"></div>` | HTML: Create a div with id \"myDiv\" |\n",
        "| `<span class=\"myClass\"></span>` | HTML: Create a span with class \"myClass\" |\n",
        "| `<body style=\"background-color:red;\"></body>` | HTML: Set the background color of a page to red |\n",
        "| `<p style=\"color:blue;\">Hello</p>` | HTML: Display \"Hello\" in a paragraph element with inline CSS for color blue |\n",
        "| `<a id=\"section1\"></a>` | HTML: Create an anchor tag with ID \"section1\" |\n",
        "| `<p style=\"color:green;\">This is green text</p>` | HTML: Change the color of text to green using inline CSS |\n",
        "| `<!-- This is a comment -->` | HTML: Include a comment |\n",
        "| `<form><input type=\"text\"/><input type=\"submit\"/></form>` | HTML: Create a form with a text input and submit button |"
      ],
      "metadata": {
        "id": "usJ59WlGxe1U"
      }
    },
    {
      "cell_type": "markdown",
      "source": [
        "## Exercise: Make a Webpage About You\n",
        "In Jupyter notebooks, you can use the `%%html` magic command to render cells as HTML (as we've done here). This is useful when you want to create rich, structured outputs or when you're learning and experimenting with HTML.\n",
        "\n",
        "To put your learning into practice, I'd like you to create a mock webpage about yourself in a new Jupyter notebook HTML cell. Here are the requirements:\n",
        "\n",
        "1.  Doctype and HTML structure: Ensure your document has a correct HTML5 doctype and includes `<html>`, `<head>`, and `<body>` elements.\n",
        "\n",
        "2.  Title: Add a relevant title to your page using the `<title>` tag inside the `<head>`.\n",
        "\n",
        "3.  CSS Styles: Include some CSS in a `<style>` tag within your `<head>` to style your page. Try to include at least 3 different CSS properties.\n",
        "\n",
        "4.  Heading: Include a main heading for your page using the `<h1>` tag.\n",
        "\n",
        "5.  Paragraphs: Include at least two paragraphs of text using the `<p>` tag.\n",
        "\n",
        "6.  List: Create a list (ordered or unordered) of at least 3 items using the `<ul>` or `<ol>` tags and `<li>` for each item.\n",
        "\n",
        "7.  Image: Add an image using the `<img>` tag. You can link to any online image URL for this exercise.\n",
        "\n",
        "8.  Link: Add a hyperlink to an external website using the `<a>` tag. Make the link open in a new tab using the attribute `target=\"_blank\"`.\n",
        "\n",
        "9.  Bold and Italic Text: Use the `<b>` and `<i>` tags to make some text bold and some text italic in your paragraphs.\n",
        "\n",
        "10. Table: Create a simple table that includes at least 2 columns and 2 rows using `<table>`, `<tr>`, and `<td>` tags.\n",
        "\n",
        "Remember to start the cell with the `%%html` magic command so that Jupyter renders it as an HTML cell. And most importantly, have fun and be creative with it!"
      ],
      "metadata": {
        "id": "OTdA9EaDznki"
      }
    },
    {
      "cell_type": "code",
      "source": [
        "%%html\n",
        "<!-- Your webpage goes here -->\n"
      ],
      "metadata": {
        "id": "YLPBMcBIvE2q"
      },
      "execution_count": null,
      "outputs": []
    },
    {
      "cell_type": "markdown",
      "source": [
        "## Review with Quizlet\n",
        "The following set of cards covers important terms/concepts, as well as basic HTML tags."
      ],
      "metadata": {
        "id": "KS8fi9g4BdGJ"
      }
    },
    {
      "cell_type": "code",
      "source": [
        "%%html\n",
        "<iframe src=\"https://quizlet.com/817160001/learn/embed?i=psvlh&x=1jj1\" height=\"600\" width=\"100%\" style=\"border:0\"></iframe>"
      ],
      "metadata": {
        "id": "tOxVgjS1BoXH",
        "outputId": "6f2617d8-02fc-4d57-94ca-50b2c9e8ceb2",
        "colab": {
          "base_uri": "https://localhost:8080/",
          "height": 622
        }
      },
      "execution_count": null,
      "outputs": [
        {
          "output_type": "display_data",
          "data": {
            "text/plain": [
              "<IPython.core.display.HTML object>"
            ],
            "text/html": [
              "<iframe src=\"https://quizlet.com/817160001/learn/embed?i=psvlh&x=1jj1\" height=\"600\" width=\"100%\" style=\"border:0\"></iframe>\n"
            ]
          },
          "metadata": {}
        }
      ]
    },
    {
      "cell_type": "markdown",
      "source": [
        "## Glossary\n",
        "| Term | Definition |\n",
        "| --- | --- |\n",
        "| Computer Network | A group of interconnected computers that allow for communication and data sharing between them. It facilitates the sharing of resources and information. |\n",
        "| Wide Area Network (WAN) | A network that spans a large geographical area, often a country or continent. It's often used to connect different local networks, allowing devices and users in one location to communicate with devices and users in another. |\n",
        "| Local Area Network (LAN) | A network that connects computers or devices in a relatively small area, such as a home, school, or office building. It's often used to share resources like files, printers, and games. |\n",
        "| Network Protocol | The rules or standard procedures that define how data is transmitted over a network. These rules dictate the way that data packets are sent, received, and responded to. |\n",
        "| TCP-IP Model | A way of analyzing networks divided into four layers: the Network Interface, Internet, Transport, and Application layers. |\n",
        "| Application Layer | The topmost layer in the TCP/IP model which interfaces directly with the applications we use to communicate over the network. Important protocols include HTTP, FTP, and SMTP. It's where user-provided data is managed and prepared for transport. |\n",
        "| Transport Layer | The layer in the TCP/IP model that's responsible for the end-to-end communication over the network. It manages the assembly and reassembly of data packets, error-checking, and flow control. Two primary protocols are TCP (Transmission Control Protocol) and UDP (User Datagram Protocol). |\n",
        "| Internet Layer | The second layer in the TCP/IP model. It's responsible for packet routing, IP addressing, and handling network connections. |\n",
        "| Network Interface Layer | THe lowest layer in the TCP/IP mode, concerned with how data frames are physically sent |\n",
        "| Network Interface Card (NIC) | A hardware component, also known as a network adapter, that enables a computer to connect to a network. It converts the data from the computer into a format suitable for the network cable and controls the data transfer to and from the computer. |\n",
        "| MAC Address | A unique identifier assigned to a Network Interface Card (NIC) by the manufacturer. It's used to identify devices at the physical layer in a network. MAC stands for Media Access Control. |\n",
        "| Router | A device that forwards data packets along networks. It connects at least two networks, commonly LANs or WANs, and is located at gateways, the places where two or more networks connect. |\n",
        "| Switch | A networking device that connects devices together on a computer network by using packet switching to receive, process, and forward data to the destination device. Unlike a hub, a switch only sends data to the device that it is intended for. |\n",
        "| Modem | A device that modulates an analog carrier signal to encode digital information, and also demodulates such a carrier signal to decode the transmitted information. It enables a computer to transmit data over telephone or cable lines. |\n",
        "| Network Port | An endpoint in communications, representing a specific process to which an internet or other network message is directed when it reaches a server. |\n",
        "| HTTP | The standard protocol used to transfer hypertext over the World Wide Web. It prescribes how messages are structured, transmitted, and responded to by web servers and browsers. |\n",
        "| Internet | A global system of interconnected networks using TCP/IP protocols to facilitate worldwide device linking. It serves as a platform for various information and communication facilities, including the World Wide Web. |\n",
        "| Domain Name System (DNS) | The technology that converts human-friendly domain names into numerical IP addresses, which are required for computer services and devices worldwide. |\n",
        "| Internet Cookie | A small data file stored on a user's computer by a web browser while visiting a website. It retains stateful information and tracks the user's site navigation. |\n",
        "| Transmission Control Protocol (TCP) | Part of the TCP/IP protocol suite that ensures data packets are delivered in sequence from source to destination. TCP includes error-checking to prevent data loss, making it essential for tasks where reliability is vital. |\n",
        "| User Datagram Protocol (UDP) | A communication protocol that allows data packet dispatch before the connection is verified, providing speed at the expense of reliability. Often used for fast-paced activities, such as streaming media or online gaming. |\n",
        "| Internet Protocol (IP) | The rule set governing how data is sent and received over the internet. It provides a unique identification system for machines on a network, via IP addresses. |\n",
        "| IPv4 | Fourth version of the IP, serving as the foundation of internet data communication. Its 32-bit addressing system allows approximately 4.3 billion unique addresses. |\n",
        "| IPv6 | The most recent version of the IP, designed to replace IPv4 due to exhaustion of addresses. It uses 128-bit addressing, providing a virtually limitless number of unique addresses. |\n",
        "| Hypertext Markup Language (HTML) | A standard markup language used to structure web pages and web applications. Used in conjunction with CSS and JavaScript, it enables the creation of page layouts, styles, and interactive features. |\n",
        "| Cascading Style Sheet (CSS) | A language responsible for defining the look and formatting of a document written in HTML. It stipulates styles, design, layout and variations in display for different devices and screen sizes. |"
      ],
      "metadata": {
        "id": "94QsW8PqlVe7"
      }
    },
    {
      "cell_type": "code",
      "source": [],
      "metadata": {
        "id": "F1FrsuyQlXoj"
      },
      "execution_count": null,
      "outputs": []
    }
  ]
}