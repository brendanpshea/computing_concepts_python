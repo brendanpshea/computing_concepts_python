{
  "nbformat": 4,
  "nbformat_minor": 0,
  "metadata": {
    "colab": {
      "provenance": [],
      "authorship_tag": "ABX9TyPD06GpuJHGtxb1SusDQztx",
      "include_colab_link": true
    },
    "kernelspec": {
      "name": "python3",
      "display_name": "Python 3"
    },
    "language_info": {
      "name": "python"
    }
  },
  "cells": [
    {
      "cell_type": "markdown",
      "metadata": {
        "id": "view-in-github",
        "colab_type": "text"
      },
      "source": [
        "<a href=\"https://colab.research.google.com/github/brendanpshea/computing_concepts_python/blob/main/IntroCS_03_Networks.ipynb\" target=\"_parent\"><img src=\"https://colab.research.google.com/assets/colab-badge.svg\" alt=\"Open In Colab\"/></a>"
      ]
    },
    {
      "cell_type": "markdown",
      "source": [
        "# Computer Networking\n",
        "### Brendan Shea, PhD (Brendan.Shea@rctc.edu)\n",
        "In the simplest terms, a **network** is a collection of devices that are interconnected and can communicate with each other. These devices can range from computers, laptops, and smartphones to printers, servers, or even IoT devices like smart fridges or thermostats. The purpose of this connection is to share and exchange information and resources.\n",
        "\n",
        "A network allows for the sharing of data and resources, such as files, applications, or even hardware like printers, in a much more efficient and collaborative manner than would be possible without the network. For example, instead of storing a file on a USB drive and physically carrying it to another computer, a network allows you to send the file directly, saving time and effort.  \n",
        "\n",
        "There are two primary types of networks: Local Area Networks (LANs) and Wide Area Networks (WANs).\n",
        "\n",
        "- A **Local Area Network (LAN)** is a network that connects devices in a relatively small area, such as a home, office, or a group of buildings. These networks are typically owned, controlled, and managed by a single person or organization.\n",
        "\n",
        "- On the other hand, a **Wide Area Network (WAN)** covers a large geographical area and connects multiple LANs together. The **internet** is the most prominent example of a WAN, which is a global network of networks.\n",
        "\n",
        "Networks can also be classified based on their design approach: **Peer-to-peer (P2P) networks**, where each device has equivalent responsibilities and capabilities, or **client-server networks**, where some computers (servers) provide services, and others (clients) use those services.\n",
        "\n",
        "Finally, Networks operate based on established rules and **protocols**, which define how the devices should transmit and receive data. These protocols ensure that networks across the globe can communicate with each other seamlessly, leading to the interconnected world we live in today. In this lesson, you'll learn some of the most important of these protocols, including the the Internet Protocol (IP), Tranmission Control Protocol (TCP), and Hypertext Transport Protocol (HTTP)."
      ],
      "metadata": {
        "id": "AdJbV1HdUejt"
      }
    },
    {
      "cell_type": "markdown",
      "source": [
        "## Brendan's Lecture\n",
        "Run the following cell to view my lecture for this chapter."
      ],
      "metadata": {
        "id": "6DsOeA1PXwOM"
      }
    },
    {
      "cell_type": "code",
      "source": [
        "from IPython.display import YouTubeVideo\n",
        "YouTubeVideo('TnlSLCrbORc', width=800, height=500)"
      ],
      "metadata": {
        "id": "a-1uDblNX2u7",
        "outputId": "be06ca15-65a3-441f-815c-fb761003754f",
        "colab": {
          "base_uri": "https://localhost:8080/",
          "height": 522
        }
      },
      "execution_count": null,
      "outputs": [
        {
          "output_type": "execute_result",
          "data": {
            "text/plain": [
              "<IPython.lib.display.YouTubeVideo at 0x7ee14abbee90>"
            ],
            "text/html": [
              "\n",
              "        <iframe\n",
              "            width=\"800\"\n",
              "            height=\"500\"\n",
              "            src=\"https://www.youtube.com/embed/TnlSLCrbORc\"\n",
              "            frameborder=\"0\"\n",
              "            allowfullscreen\n",
              "            \n",
              "        ></iframe>\n",
              "        "
            ]
          },
          "metadata": {},
          "execution_count": 1
        }
      ]
    },
    {
      "cell_type": "markdown",
      "source": [
        "## How Network \"Models\" Aid Understanding\n",
        "Imagine you're trying to bake a cake without a recipe. You know you need ingredients like flour, sugar, eggs, and so on, but you don't know how much of each ingredient to use, or in what order to mix them. The result would be a disaster. A recipe guides you, telling you exactly what to do step-by-step.\n",
        "\n",
        "In a similar way, a **network model** is like a recipe for computer networks. But instead of baking a cake, we're trying to transmit data, like emails or web pages, from one device to another over the network.  Now, why do we need a network model or this \"recipe\"?\n",
        "\n",
        "1. *Models Help Humans Understand Networks.* Networks can be complex with many different parts working together. It's like trying to understand a busy city with all its people, cars, buses, buildings, and roads. If we tried to understand everything at once, we'd get confused. But if we break it down into parts - like people, transportation, infrastructure - it's easier to understand. Network models do the same for networks. They break down the whole process of data transfer into layers. Each layer has a specific job, making it easier to understand.\n",
        "\n",
        "2.  *Models Help Humans Build Networks.* When we're building networks, we want to ensure that all the parts can \"talk\" to each other - that is, they can send and receive data correctly. Network models provide a common language or standard that all parts of the network can understand and follow. This ensures that different devices, perhaps made by different companies, can still communicate with each other.\n",
        "\n",
        "3.  *Models Help Humans Fix Networks.*  Let's go back to the city example. If there's a traffic jam, we don't need to look at every person, car, or building in the city to find the problem. We just focus on the transportation - the roads and cars. Similarly, in networks, when something goes wrong, we can look at each layer separately to find and fix the problem. This makes troubleshooting much easier and faster.\n",
        "\n",
        "In simple terms, a network model helps us to understand how a network works, how to build a network so all parts can work together, and how to fix problems when they arise. Without it, creating and maintaining networks would be a lot more complicated."
      ],
      "metadata": {
        "id": "rsDq_Gv_VIPu"
      }
    },
    {
      "cell_type": "markdown",
      "source": [
        "## A Four-Layer Network Model: TCP-IP\n",
        "Think of the process of sending a letter through the postal service. You write your letter (the message), put it in an envelope (packaging), write the address (where it needs to go), and then give it to the postal service (the transportation system). The postal service then delivers the letter to the address you wrote on the envelope. The person who receives the letter opens the envelope and reads your message.\n",
        "\n",
        "Similarly, when a device wants to send data to another device over a network, it has to go through a process. To make this process easier to understand, we break it down into steps, or layers. Each layer has a specific job to do, just like in our postal service example.  In the four-layer (**TCP-IP**) network model, these layers are:\n",
        "\n",
        "1.  **Application Layer.** This is where our \"letter\" starts. The application layer is where network applications (like your web browser or email client) live. It's what you, as the user, interact with. When an application wants to send data, it's the application layer's job to package that data so it can be sent over the network. This might include formatting a web page into HTML, turning an email into text, or converting a voice call into digital audio. It also works the other way around, converting incoming data into something the user can understand.\n",
        "\n",
        "2.  **Transport Layer.** Once our \"letter\" is packaged, it needs to be delivered. That's the job of the transport layer. This layer establishes a connection between the sending and receiving devices and ensures that data is reliably sent. It does this by breaking down the data from the application layer into smaller **packets** and tracking them to ensure they all reach the destination. It's kind of like taking a large letter and breaking it down into postcards, each with a number so you can put them back together in the right order.\n",
        "\n",
        "3.  **Internet Layer.** Now that our \"letter\" is packaged and ready for transport, we need to figure out where it's going.  The Internet layer is responsible for routing the data packets to the right destination. It adds the IP addresses of the sender and receiver to the data packets so that they can be correctly routed. In other words, it figures out the best way to get the data from the sender to the receiver, kind of like how a GPS finds the best route to your destination.\n",
        "\n",
        "4.  **Network Interface (\"Data Link\") Layer.**  This is the final step. The Network Interface Layer is in charge of the physical transmission of data. It's like our mail carrier in the letter example. This layer takes the data packets, converts them into a form that can be transmitted physically (like electrical signals or radio waves), and sends them onto the network. It also receives incoming data and converts it back into a form the upper layers can understand. (So, incoming data needs to go through these same four steps, except \"backwards\").\n",
        "\n",
        "In short, the four-layer network model is a way of breaking down the process of sending data over a network into manageable steps, making it easier to understand and manage. It helps us understand how data gets from one application to another over a network."
      ],
      "metadata": {
        "id": "fLNej_c2WWb4"
      }
    },
    {
      "cell_type": "markdown",
      "source": [
        "## Applying the Application Layer: Protocols and Ports\n",
        "The Application Layer, the topmost layer of the four-layer network model, encompasses protocols that users often interact with directly, albeit behind the scenes of user-friendly applications. These protocols enable activities like web browsing, email communication, and file transfers. Critical to the functioning of these protocols is the concept of \"ports.\"\n",
        "\n",
        "In the context of networking, a **port** is a virtual point where network connections start and end. Ports are associated with specific processes or services in a system, and each service has a unique port number. Port numbers help the system identify the correct application or service for which the data is intended. Essentially, they are like apartment numbers in a large building, ensuring the mail (or data) gets to the correct resident (or application).\n",
        "\n",
        "Some port numbers are reserved for specific services as per the Internet Assigned Numbers Authority (IANA). These are known as well-known port numbers, ranging from 0 to 1023. Here are a few examples:\n",
        "\n",
        "| Name | Port Number | Description |\n",
        "| --- | --- | --- |\n",
        "| HTTP | 80 | Hypertext Transfer Protocol, used for transferring web content. |\n",
        "| HTTPS | 443 | HTTP Secure, a secure version of HTTP for sensitive information. |\n",
        "| FTP | 20, 21 | File Transfer Protocol, used for transferring files between hosts. Port 20 is for data transfer and port 21 for command control. |\n",
        "| SMTP | 25 | Simple Mail Transfer Protocol, used for sending emails. |\n",
        "| IMAP | 143 | Internet Message Access Protocol, used for receiving emails. |\n",
        "| POP3 | 110 | Post Office Protocol 3, also used for receiving emails. |\n",
        "| DNS | 53 | Domain Name System, translates URLs into IP addresses. |\n",
        "| SSH | 22 | Secure Shell, used for secure access to remote computers. |\n",
        "| Telnet | 23 | Telnet, a protocol used for interacting with remote computers. |\n",
        "| RDP | 3389 | Remote Desktop Protocol, used for remote desktop connections. |\n",
        "| SQL | 1433 | SQL Server, used for database management systems. |\n",
        "\n",
        "THese are just a few of the hundreds of ports. You can find out more at https://en.wikipedia.org/wiki/List_of_TCP_and_UDP_port_numbers."
      ],
      "metadata": {
        "id": "kNSsN4ThbJ50"
      }
    },
    {
      "cell_type": "markdown",
      "source": [
        "### HTTP: An Application-Layer Protocol for the World Wide Web\n",
        "\n",
        "The **Hyptertext Transport Protocol (HTTP)** in an application-layer protocolinvented by Tim Berners-Lee, the creator of the World Wide Web, and his team at CERN in 1989. The purpose of HTTP is to allow the fetching of resources, such as HTML documents, images, and videos, from servers and displaying them on a client's browser. Essentially, HTTP is the protocol that enables communication between web browsers (clients) and web servers, allowing us to surf the internet.\n",
        "\n",
        "HTTP is critically important because it forms the foundation of any data exchange on the web. It's not an exaggeration to say that almost every action you perform on the internet---from clicking a link, to typing a URL into your browser's address bar, to submitting a form on a webpage---starts an HTTP request.\n",
        "HTTP is based on the request-response model. That means the communication usually begins with a client (for instance, your browser) making a request to a server. The server, upon receiving this request, processes it and sends a response back to the client.  Here's a simplified step-by-step breakdown of how this works:\n",
        "\n",
        "1.  *The Client Sends a Request.* Let's say you want to visit `www.example.com`. When you type this URL into your browser and hit Enter, your browser starts an HTTP request. This request is a message which includes information like the desired action (often \"GET\" to fetch data, though there are other methods), the URL, and the HTTP version.\n",
        "\n",
        "2.  *The Server Processes the Request.* The HTTP request message is received by the web server hosting `www.example.com`. The server processes the request, interpreting what resources are asked for and what action the client wants to perform.\n",
        "\n",
        "3.  *The Server Sends a Response.* After processing, the server forms an HTTP response and sends it back to the client. This response includes a status code that indicates whether the request was successful (for example, \"200\" for success) or if there were any errors (for example, \"404\" means the requested page was not found). Along with the status code, if the request was successful, the server includes the requested resource in the response---for instance, the HTML of a web page.\n",
        "\n",
        "4.  *The Client Displays the Response.* Once your browser receives the HTTP response, it interprets the data and renders the web page on your screen. If the requested resource is an HTML file, the browser reads the HTML, CSS, and JavaScript, fetches any necessary additional files (like images), and displays the formatted page for you to view.\n",
        "\n",
        "Remember, this is a simplified explanation. In reality, there's a lot more complexity involved, including things like HTTP headers for transmitting metadata, cookies for maintaining state, and HTTPS for securing communications. But at its heart, HTTP is about sending a request from a client to a server, and returning a response from the server back to the client. This basic model underlies much of the activity on the internet."
      ],
      "metadata": {
        "id": "jh4LquZ9dI9R"
      }
    },
    {
      "cell_type": "markdown",
      "source": [
        "## Two Ways to Transport Data (TCP and UDP)\n",
        "\n",
        "The Transport Layer is essential for network communication, facilitating end-to-end services between applications. It ensures reliable and transparent data transfer between end systems (hosts) through protocols like **TCP (Transmission Control Protocol)** and **UDP (User Datagram Protocol).**\n",
        "\n",
        "TCP is all about reliable and orderly delivery of data packets. It's like a tracked mail service - you know your data will get there and in the order you sent it. Key features of TCP include reliable transmission (it retransmits lost or corrupted packets), flow control (managing the data transfer rate to avoid overwhelming the receiver), ordered delivery (rearranging packets that arrive out of order), and congestion control (preventing traffic bottlenecks).\n",
        "\n",
        "UDP, on the other hand, is simpler and connectionless. It's like sending a letter without tracking - faster but without guarantees of delivery or order. UDP doesn't provide TCP's reliability mechanisms, making it faster and suitable for applications where speed is more critical than precision, like live broadcasts or online games.\n",
        "\n",
        "Both TCP and UDP use port numbers to direct data to the correct application on a network device. Key features of these protocols include:\n",
        "\n",
        "| Feature | TCP | UDP |\n",
        "| --- | --- | --- |\n",
        "| Connection | Connection-oriented (requires connection setup) | Connectionless (no setup required) |\n",
        "| Reliability | Ensures data delivery and order | Does not guarantee delivery or order |\n",
        "| Speed | Slower due to reliability mechanisms | Faster due to lack of overhead |\n",
        "| Data Flow Control | Includes flow and congestion control mechanisms | No flow control, open to congestion |\n",
        "| Use Cases | Ideal for applications requiring reliability, such as web browsing, email | Suited for real-time applications, like gaming, streaming |\n",
        "| Header Size | Larger headers due to control information | Smaller headers, leading to less overhead |"
      ],
      "metadata": {
        "id": "5muJO23HeYzc"
      }
    },
    {
      "cell_type": "markdown",
      "source": [
        "## How the Internet Protocol (IP) Enables Global Connectivity\n",
        "The Internet Layer, also known as the network layer, is responsible for receiving segments from the Transport Layer and packaging them into packets. But perhaps its most significant role is addressing, routing, and forwarding these packets to allow communication between networks, hence facilitating global connectivity. Let's dive into this.\n",
        "\n",
        "1. At the heart of this process is the **Internet Protocol (IP)**, which defines the system of IP addresses. An IP address is a unique identifier assigned to each device connected to a network that uses IP for communication. There are two types of IP addresses: IPv4 and IPv6. **IPv4 addresses** are composed of four sets of numbers, each ranging from 0 to 255, separated by periods (e.g., 192.168.1.1). **IPv6 addresses**, which are being more widely used due to the exhaustion of IPv4 addresses, are composed of eight groups of four hexadecimal digits, separated by colons (e.g., 2001:0db8:85a3:0000:0000:8a2e:0370:7334).  Each IP address in an IP network must be unique within that network.\n",
        "\n",
        "2. The Internet Layer is also responsible for routing data packets to their destinations using IP addresses. Each **router** connected to the network has a table known as the **routing table** that stores routes (paths) to different network destinations. It uses these tables to decide the best path for forwarding the packets.  When a data packet is sent from one network to another, it usually passes through several routers. Each router examines the IP address of the packet's destination and consults its routing table to decide which way to send the packet. The packet is forwarded from router to router along the path until it reaches its destination network.\n",
        "\n",
        "3. The process of sending the packets from one network to another, as decided by the routers, is known as **forwarding**. The routers at the boundary of each network are responsible for forwarding the packets to the next network on the path to the destination.\n",
        "\n",
        "4. Each device connected to a network receives an IP address, which can be either public or private. A **public IP address** is a globally unique address that is assigned to a device, like a router, that connects directly to the internet. These addresses are used across the entire internet to locate networked devices. **Private IP addresses**, on the other hand, are used within private networks such as home, office, or enterprise networks. These addresses are not routable on the open internet and therefore provide a layer of security by inherently hiding the networked device from the world. Common private IPv4 address ranges include 10.0.0.0 to 10.255.255.255, 172.16.0.0 to 172.31.255.255, and 192.168.0.0 to 192.168.255.255.\n",
        "\n",
        "\n",
        "The combination of unique IP addressing and the capability of IP routing and forwarding enables global connectivity. Regardless of the network, each device can send packets to any other device in the world, as long as they are both connected to the internet. The packets are routed through various networks and routers on their journey, each hop getting them closer to their destination, until they ultimately reach the correct device."
      ],
      "metadata": {
        "id": "p2XEwncVgHak"
      }
    },
    {
      "cell_type": "markdown",
      "source": [
        "### A Little History of the Internet\n",
        "The internet is a \"network of networks\" that allows computers all around the world to communicate with each other. Initially created for academic and military purposes, it has become an essential tool for billions of people and has influenced almost every aspect of modern life. Here are a few of the major milestones.\n",
        "\n",
        "\n",
        "| Time Period | Development/Technology | Description/Significance |\n",
        "| --- | --- | --- |\n",
        "| 1960s | ARPANET | The Advanced Research Projects Agency Network (ARPANET) was the first major packet-switching network, laying the groundwork for future internet development. |\n",
        "| 1971 | Email | Ray Tomlinson introduces email, revolutionizing communication over networks. |\n",
        "| 1974 | TCP/IP | Development of Transmission Control Protocol (TCP) and Internet Protocol (IP), foundational protocols for data transmission on the internet. |\n",
        "| 1980s | Domain Name System (DNS) | DNS is introduced for translating domain names into IP addresses, making the internet more user-friendly. |\n",
        "| 1989 | World Wide Web (WWW) | Tim Berners-Lee invents the World Wide Web, a system for accessing and sharing information over the internet, using Hypertext Transfer Protocol (HTTP). |\n",
        "| Early 1990s | Web Browsers | The introduction of web browsers like Mosaic, later Netscape, simplifies access to the Web, leading to widespread public use. |\n",
        "| Mid 1990s | Commercialization of the Internet | The internet transitions from a research and academic network to a commercial and public service. |\n",
        "| Late 1990s | Search Engines | Development of search engines like Google revolutionizes information retrieval on the internet. |\n",
        "| Early 2000s | Broadband Expansion | The expansion of broadband internet increases speed and accessibility, enabling more sophisticated online services. |\n",
        "| Mid 2000s | Social Media | The rise of social media platforms like Facebook and Twitter changes the way people communicate and consume information online. |\n",
        "| Late 2000s to 2010s | Cloud Computing and Mobile Internet | Cloud computing services become mainstream; the proliferation of smartphones leads to the widespread adoption of mobile internet. |\n",
        "| 2010s | Internet of Things (IoT) | The expansion of IoT connects a wide range of devices to the internet, further integrating digital technology into everyday life. |\n",
        "| 2010s - 2020s | Artificial Intelligence and Big Data | Advances in AI and big data analytics transform how data is processed and used on the internet, impacting various sectors from healthcare to commerce. |\n",
        "| 2020s | 5G Technology | Deployment of 5G networks promises faster speeds, lower latency, and supports the growing demand for IoT and mobile internet. |\n",
        "\n",
        "\n",
        "The table highlights key milestones in internet development, showcasing its evolution from a research project to a global communications and information platform. Each decade brought significant innovations, from fundamental protocols to user-friendly interfaces, commercialization, information retrieval, social interaction, and ever-increasing connectivity. Today, AI and big data are shaping the future, while 5G promises to unlock further possibilities for the internet's impact on everyday life."
      ],
      "metadata": {
        "id": "qGQ50AgoldlX"
      }
    },
    {
      "cell_type": "markdown",
      "source": [
        "## Network Interace (\"Data Link\") Layer\n",
        "The **Network Interface Layer**, also known as the Link or Data Link Layer, is the layer that interfaces directly with the physical network. It forms the bridge between the logical aspect of network communication, handled by the layers above it, and the physical reality of transmitting and receiving data over hardware.\n",
        "\n",
        "Imagine you're sending a letter to a friend. You have your message ready, but you can't just hand your words over to the mail carrier. You need to put your message inside an envelope with your friend's address on it and your return address. The envelope is akin to a \"frame\" in network terms. Just like the envelope encapsulates your letter, a frame encapsulates the data to be transmitted over the network. Each frame includes not just the data, or \"payload\", but also source and destination addresses, as well as other control information to ensure successful transmission.\n",
        "\n",
        "Imporant technologies and protocols include:\n",
        "\n",
        "| Technology/Protocol | Description and Role |\n",
        "| --- | --- |\n",
        "| Ethernet | This is used in wired networks to connect devices like computers. It puts data into a format (called frames) for sending over cables. These frames include addresses to identify each device, the data being sent, and checks for errors. |\n",
        "| Wi-Fi (IEEE 802.11) | Similar to Ethernet, but for wireless networks. It sends data over air using radio signals. Just like Ethernet, it uses frames with addresses and data, but it also has special ways to deal with many devices using the same air space. |\n",
        "| MAC Addresses | These are unique numbers for every device in a network, like an ID card for each computer or phone. They help make sure the data sent over a network reaches the right device. |\n",
        "| Switches and Bridges | These are like traffic officers for networks. They look at the addresses on data and decide where to send it in the network, making sure data goes to the right device. |\n",
        "| ARP (Address Resolution Protocol) | This is used when a device knows the IP address (like a postal address for the internet) of another device but needs to find out its MAC address (the device's unique ID). |\n",
        "| PPP (Point-to-Point Protocol) | A method for connecting two network devices directly, like a direct phone call between two computers. It wraps up data in a special way so it can be sent over these direct connections. |\n",
        "| Frame Relay | This is a way to send data quickly over a network, especially used in big telecommunications networks. It chops data into pieces and sends them in an efficient way to speed up delivery. |\n",
        "| VLANs (Virtual Local Area Networks) | This technology divides a big network into smaller, separate networks. This helps manage the network better and can keep certain data more secure. |\n",
        "\n",
        "These technologies and protocols work in tandem to ensure that data is correctly packaged into frames, sent over the physical network, and accurately delivered to the right device. This process begins with encapsulating data in Ethernet or Wi-Fi frames, which include the MAC addresses of the sending and receiving devices. If the MAC address of the receiving device isn't known, ARP is used to find it. Switches or bridges then forward these frames to the right destination within the network"
      ],
      "metadata": {
        "id": "JmGrjBsmt62p"
      }
    },
    {
      "cell_type": "markdown",
      "source": [
        "## Case Study: the Network Ninja\n",
        "\n",
        "In the digital dojo of \"Shadow Strike: Ninja Networks,\" players are not only mastering ancient ninja arts but also navigating the complex world of network communications. Join Network Ninja and Network Novice as they slice through the complexities of the four-layer Network Model, using \"Shadow Strike: Ninja Networks\" as their guide. (\n",
        "\n",
        "* * * * *\n",
        "\n",
        "Network Novice: Absolutely, Ninja! But networking stuff confuses me. How does our game actually connect and play so smoothly?\n",
        "\n",
        "Network Ninja: Let's break it down using the four-layer Network Model. Imagine each layer as a different ninja skill level.\n",
        "\n",
        "### Level 1: Link Layer - \"The Hardware Connection\"\n",
        "\n",
        "Network Ninja: First up is the Link Layer. Think of it as your game console connecting to the internet. Your Android device uses Wi-Fi or mobile data to connect, similar to attaching your nunchucks to your ninja belt.\n",
        "\n",
        "Network Novice: Got it! My phone's Wi-Fi connects to the router, like hooking up to the ninja network.\n",
        "\n",
        "### Level 2: Internet Layer - \"The Pathfinding Ninja\"\n",
        "\n",
        "Network Ninja: Next, the Internet Layer. Here's where IP addresses come in. Your phone gets an IP address, like a home address in the ninja village. When you play \"Shadow Strike,\" your game data is sent in packets to the IP address of the server where other ninjas are playing.\n",
        "\n",
        "Network Novice: So, it's like sending a ninja scroll to a specific location in the village. But how does it find the fastest route?\n",
        "\n",
        "Network Ninja: Exactly! The Internet Layer figures out the most efficient path for your data packets, just like a ninja choosing the quickest rooftops to leap across.\n",
        "\n",
        "### Level 3: Transport Layer - \"The Trustworthy Courier\"\n",
        "\n",
        "Network Ninja: Then comes the Transport Layer. Here, TCP (Transmission Control Protocol) ensures your game's moves are sent reliably. Think of TCP like a trustworthy courier, making sure every part of your secret message gets to the other ninjas.\n",
        "\n",
        "Network Novice: And what about UDP? I heard it's faster?\n",
        "\n",
        "Network Ninja: Good point! UDP (User Datagram Protocol) is like a swift messenger bird. It's faster but doesn't check if all parts of the message arrived. In \"Shadow Strike,\" UDP might be used for real-time updates where speed is crucial, and it's okay if a move or two gets lost in the fray.\n",
        "\n",
        "### Level 4: Application Layer - \"The Art of Shadow Strike\"\n",
        "\n",
        "Network Ninja: Finally, we reach the Application Layer. This is \"Shadow Strike\" itself. Here, specific port numbers are like doors to different rooms in our ninja castle. Our game might use a particular port number, say 5555, to ensure that when your device connects to the game server, it goes straight to \"Shadow Strike\" and not some other game.\n",
        "\n",
        "Network Novice: Ah, so when I launch the game, it uses that port number to enter the right room in the castle where all the ninjas gather!\n",
        "\n",
        "Network Ninja: Precisely! And with all these layers working together, from your Wi-Fi connection to the game server, we ensure a seamless and swift ninja gaming experience.\n",
        "\n",
        "Network Novice: Thanks, Ninja! I feel ready to conquer both the game and its network mysteries!"
      ],
      "metadata": {
        "id": "4mm6XbzGg76W"
      }
    },
    {
      "cell_type": "markdown",
      "source": [
        "### Questions: Network Models\n",
        "\n",
        "1. Can you describe the roles of the four layers (Application Layer, Transport Layer, Internet Layer, Network Interface Layer) in the TCP-IP network model, providing a real-life example for each?\n",
        "\n",
        "2. What is the significance of a network model in understanding, building, and troubleshooting a network? Can you provide examples of how a network model aids each of these tasks?\n",
        "\n",
        "3. What are the differences between TCP and UDP protocols at the Transport Layer, and how do these differences affect their respective use cases?\n",
        "\n"
      ],
      "metadata": {
        "id": "3yq4LqxQyMka"
      }
    },
    {
      "cell_type": "markdown",
      "source": [
        "### Answers: Network Model\n",
        "\n",
        "1.\n",
        "\n",
        "2.\n",
        "\n",
        "3."
      ],
      "metadata": {
        "id": "yyJ-9Zi8yfWG"
      }
    },
    {
      "cell_type": "markdown",
      "source": [
        "### Case Study: The Cookie Conundrum\n",
        "Internet **cookies** are small pieces of data that are stored on your computer by your web browser at the request of certain websites you visit. Cookies are designed to remember information about your visit, such as your login information, what's in your shopping cart, or your preferred language.\n",
        "\n",
        "While cookies can enhance your browsing experience by preserving customized settings and recognizing when you're logged in, they also raise some privacy concerns.   Many websites and third-party entities use cookies for a variety of other purposes, some of which can affect your privacy. Here are some of the main ways this happens:\n",
        "\n",
        "-  **Tracking Cookies:** Also known as third-party cookies, these are set by a website other than the one you're currently visiting. For instance, if you visit website.com, it might have an ad from adsite.com embedded on the page. Adsite.com can set a cookie that can be accessed through website.com. These cookies are often used to track your online behavior across multiple websites, building a profile of your habits and interests.\n",
        "\n",
        "-  **Advertising:** By tracking your behavior across multiple websites, third-party entities can target ads towards your interests, known as behavioral advertising. This might sound convenient, but it can also feel intrusive, as though your every move online is being watched and analyzed.\n",
        "\n",
        "-  **Cookie Syncing:** This is when ad companies share their tracking cookies with each other. Cookie syncing allows these companies to link their identifiers for a particular user, essentially creating a more complete profile of you."
      ],
      "metadata": {
        "id": "fiYO7kfEl2D0"
      }
    },
    {
      "cell_type": "markdown",
      "source": [
        "### Questions: The Cookie Conundrum\n",
        "\n",
        "1.  When you visit a website, what kind of information do you think it could learn about you from cookies? Give at least three examples.\n",
        "\n",
        "2.  How do you feel about your online browsing behavior being tracked, analyzed, and possibly shared? What couldy do you to help prevent this?\n",
        "\n",
        "3.  Have you ever noticed ads on websites that seem to align suspiciously well with your recent browsing history or personal interests? What was your reaction? Would you rather receive ads that were \"less\" targeted>\n",
        "\n",
        "\n",
        "### Your Answers: Internet and Cookies\n",
        "1.\n",
        "\n",
        "2.\n",
        "\n",
        "3.\n"
      ],
      "metadata": {
        "id": "AcUcavqhmh2T"
      }
    },
    {
      "cell_type": "markdown",
      "source": [
        "## A Short Course in HTML\n",
        "**Hypertext Markup Language (HTML)** is the standard markup language for creating web pages and web applications. It's a language that structures content on the internet and forms the building blocks of all websites. HTML does this by using tags that define the content type, such as headers, paragraphs, lists, links, images, and more.  Here's why we use HTML:\n",
        "\n",
        "1.  Universal Internet Language: HTML is universally understood by browsers across platforms (Windows, Mac, Linux, etc.) and devices (desktop, laptop, mobile, etc.). This makes it essential for creating content on the internet.\n",
        "\n",
        "2.  Structure and Content of Web Pages: HTML provides the structure to web pages. It allows you to define various elements like headings, paragraphs, lists, tables, images, forms, etc., making your content readable and understandable by web browsers.\n",
        "\n",
        "3.  Embed Media: HTML allows embedding various types of media like images, videos, audio, etc., into the web page.\n",
        "\n",
        "4.  Create Links: HTML allows web pages to connect to each other via hyperlinks, thus creating the \"web\" of connections that is the internet.\n",
        "\n",
        "5.  Serve as a Foundation for Web Technologies: Other technologies like CSS and JavaScript are often used in combination with HTML. CSS is used to control the look and feel of the HTML content, and JavaScript is used to add interactivity to HTML web pages.\n",
        "\n",
        "6.  SEO: HTML is good for search engine optimization (SEO). Search engines use the tags in HTML to understand the content of web pages, which helps in getting your website discovered.\n",
        "\n",
        "Understanding HTML is fundamental to web development and other related fields. In this section, we'll learn the basics of HTML."
      ],
      "metadata": {
        "id": "mkIgvIx5t32U"
      }
    },
    {
      "cell_type": "markdown",
      "source": [
        "### A Simple Structure\n",
        "An HTML document has a specific structure. This structure allows browsers to interpret the content correctly. Here are the main components of an HTML document:\n",
        "\n",
        "1.  DOCTYPE Declaration: This is the first line of an HTML document and it represents the document type declaration. It helps the browser to understand the version of the HTML being used. For HTML5, this is declared as `<!DOCTYPE html>`.\n",
        "\n",
        "2.  HTML Element: This is the root element of an HTML page, which contains all other HTML elements. It is marked with `<html>` tags.\n",
        "\n",
        "3.  Head Element: The `<head>` element contains meta-information about the HTML document. This is not content that is shown on the webpage itself, but information for the browser and search engines. This includes:\n",
        "\n",
        "    -   Title Element: The `<title>` tag specifies the title of the web page. The title is what shows up in the browser tab and is also used by search engines.\n",
        "    -   Meta Tags: These include various details about the HTML document. This could be character encoding declaration (like `<meta charset=\"UTF-8\">`), information for search engine (like meta description), and viewport settings for responsive design.\n",
        "    -   Link Element: This is typically used to link CSS files for styling the HTML content.\n",
        "    -   Script Element: This is used to link JavaScript files, though JavaScript can also be placed in the body.\n",
        "4.  Body Element: The `<body>` tag contains the content that is displayed on the web page. This could be text, images, videos, games, clickable buttons, hyperlinks, etc. The body is where you structure your content with various HTML tags like headers (h1-h6), paragraphs (p), lists (ul and ol), links (a), images (img), etc.\n",
        "\n",
        "So a very basic HTML document would look something like this:"
      ],
      "metadata": {
        "id": "0ixXUaX0vFjS"
      }
    },
    {
      "cell_type": "code",
      "source": [
        "%%html\n",
        "\n",
        "<!DOCTYPE html>\n",
        "<html>\n",
        "  <head>\n",
        "    <title>Page Title</title>\n",
        "    <meta charset=\"UTF-8\">\n",
        "  </head>\n",
        "  <body>\n",
        "    <h1>My First Heading</h1>\n",
        "    <p>My first paragraph.</p>\n",
        "  </body>\n",
        "</html>\n"
      ],
      "metadata": {
        "colab": {
          "base_uri": "https://localhost:8080/",
          "height": 100
        },
        "id": "ON9qxIA6vRrX",
        "outputId": "b2754ebd-45ae-4ded-ca13-309b1532fd15"
      },
      "execution_count": null,
      "outputs": [
        {
          "output_type": "display_data",
          "data": {
            "text/plain": [
              "<IPython.core.display.HTML object>"
            ],
            "text/html": [
              "\n",
              "<!DOCTYPE html>\n",
              "<html>\n",
              "  <head>\n",
              "    <title>Page Title</title>\n",
              "    <meta charset=\"UTF-8\">\n",
              "  </head>\n",
              "  <body>\n",
              "    <h1>My First Heading</h1>\n",
              "    <p>My first paragraph.</p>\n",
              "  </body>\n",
              "</html>\n"
            ]
          },
          "metadata": {}
        }
      ]
    },
    {
      "cell_type": "markdown",
      "source": [
        "### Adding Content to Our HTML Page\n",
        "HTML provides numerous elements to structure your content effectively. Let's walk through how you might structure a simple page about \"Networks\" using different HTML elements.\n"
      ],
      "metadata": {
        "id": "hsJ_1qZ1wAOV"
      }
    },
    {
      "cell_type": "code",
      "source": [
        "%%html\n",
        "\n",
        "<!DOCTYPE html>\n",
        "<html>\n",
        "  <head>\n",
        "    <title>Introduction to Networks</title>\n",
        "    <meta charset=\"UTF-8\">\n",
        "  </head>\n",
        "  <body>\n",
        "    <header>\n",
        "      <h1>Understanding Networks</h1>\n",
        "      <nav>\n",
        "        <ul>\n",
        "          <li><a href=\"#types\">Types of Networks</a></li>\n",
        "          <li><a href=\"#components\">Components of a Network</a></li>\n",
        "          <li><a href=\"#uses\">Uses of Networks</a></li>\n",
        "        </ul>\n",
        "      </nav>\n",
        "    </header>\n",
        "\n",
        "    <section id=\"types\">\n",
        "      <h2>Types of Networks</h2>\n",
        "      <p>Networks can be classified into different types such as LAN, WAN, MAN, PAN, etc.</p>\n",
        "    </section>\n",
        "\n",
        "    <section id=\"components\">\n",
        "      <h2>Components of a Network</h2>\n",
        "      <p>A network consists of various components like nodes, routers, modems, etc.</p>\n",
        "    </section>\n",
        "\n",
        "    <section id=\"uses\">\n",
        "      <h2>Uses of Networks</h2>\n",
        "      <p>Networks are used for various purposes including communication, data sharing, resource sharing, etc.</p>\n",
        "\n",
        "      Here is an image from Wikipedia. <img src = \"https://upload.wikimedia.org/wikipedia/commons/a/ab/Internet_of_Things.jpg\" width = 200>\n",
        "    </section>\n",
        "\n",
        "    <footer>\n",
        "      <p>Created for Brendan's Intro to CS Course</p>\n",
        "    </footer>\n",
        "  </body>\n",
        "</html>\n"
      ],
      "metadata": {
        "colab": {
          "base_uri": "https://localhost:8080/",
          "height": 561
        },
        "id": "lPvgq9cuwN4W",
        "outputId": "d3b66387-b2b0-4049-d307-46cdcd90f2f4"
      },
      "execution_count": null,
      "outputs": [
        {
          "output_type": "display_data",
          "data": {
            "text/plain": [
              "<IPython.core.display.HTML object>"
            ],
            "text/html": [
              "\n",
              "<!DOCTYPE html>\n",
              "<html>\n",
              "  <head>\n",
              "    <title>Introduction to Networks</title>\n",
              "    <meta charset=\"UTF-8\">\n",
              "  </head>\n",
              "  <body>\n",
              "    <header>\n",
              "      <h1>Understanding Networks</h1>\n",
              "      <nav>\n",
              "        <ul>\n",
              "          <li><a href=\"#types\">Types of Networks</a></li>\n",
              "          <li><a href=\"#components\">Components of a Network</a></li>\n",
              "          <li><a href=\"#uses\">Uses of Networks</a></li>\n",
              "        </ul>\n",
              "      </nav>\n",
              "    </header>\n",
              "\n",
              "    <section id=\"types\">\n",
              "      <h2>Types of Networks</h2>\n",
              "      <p>Networks can be classified into different types such as LAN, WAN, MAN, PAN, etc.</p>\n",
              "    </section>\n",
              "\n",
              "    <section id=\"components\">\n",
              "      <h2>Components of a Network</h2>\n",
              "      <p>A network consists of various components like nodes, routers, modems, etc.</p>\n",
              "    </section>\n",
              "\n",
              "    <section id=\"uses\">\n",
              "      <h2>Uses of Networks</h2>\n",
              "      <p>Networks are used for various purposes including communication, data sharing, resource sharing, etc.</p>\n",
              "\n",
              "      Here is an image from Wikipedia. <img src = \"https://upload.wikimedia.org/wikipedia/commons/a/ab/Internet_of_Things.jpg\" width = 200>\n",
              "    </section>\n",
              "\n",
              "    <footer>\n",
              "      <p>Created for Brendan's Intro to CS Course</p>\n",
              "    </footer>\n",
              "  </body>\n",
              "</html>\n"
            ]
          },
          "metadata": {}
        }
      ]
    },
    {
      "cell_type": "markdown",
      "source": [
        "In this example:\n",
        "\n",
        "1.  Title Tag: The `<title>` tag in the head sets the title of the webpage that is shown in the browser tab as \"Introduction to Networks\".\n",
        "\n",
        "2.  Header Tag: The `<header>` tag is used for introductory content or navigation links. In this example, it contains a heading and a navigation bar with anchor links to different sections of the webpage.\n",
        "\n",
        "3.  H1 Tag: The `<h1>` tag defines the main heading of the webpage, which is \"Understanding Networks\" in this case.\n",
        "\n",
        "4.  Nav Tag and Unordered List: The `<nav>` tag is used to define a set of navigation links, and the `<ul>` tag defines an unordered list with `<li>` tags as list items. Each list item contains an anchor link (`<a>`) to the respective section.\n",
        "\n",
        "5.  Section Tag: The `<section>` tag defines a standalone section. Each section has a unique id that anchor links can refer to.\n",
        "\n",
        "6.  H2 Tag: The `<h2>` tag is used for subheadings, which in this case are \"Types of Networks\", \"Components of a Network\", and \"Uses of Networks\".\n",
        "\n",
        "7.  P Tag: The `<p>` tag defines a paragraph. Here, it's used to provide a brief description of each section's topic.\n",
        "\n",
        "8. img Tag: The `<img>` tag is used to display an image (in this case, one from Wikipedia).\n",
        "\n",
        "9.  Footer Tag: The `<footer>` tag is used to define the footer of a webpage. It can contain information like authorship, copyright information, contact information, etc.\n",
        "\n",
        "This is a basic example, and HTML provides many other elements to structure content in more complex and specific ways, including tags for images, tables, forms, and more. It also supports inline CSS and JavaScript to add style and functionality to the page."
      ],
      "metadata": {
        "id": "Z1v5c42twh_I"
      }
    },
    {
      "cell_type": "markdown",
      "source": [
        "## Styling with CSS\n",
        "CSS, which stands for Cascading Style Sheets, is a language that is used to describe how HTML elements on a web page should appear. While HTML provides the structure of web pages (i.e., it defines what elements are present on the page), CSS is used to control the layout and appearance of these elements. It can control things like the color of text, the style of fonts, the spacing between elements, how elements are positioned and laid out, as well as various visual effects.\n",
        "\n",
        "So, in essence, if HTML is the skeleton of the webpage, CSS would be its skin and clothing.\n",
        "\n",
        "Here's a very simple example of how CSS interacts with HTML:"
      ],
      "metadata": {
        "id": "ENFtx02MyU-z"
      }
    },
    {
      "cell_type": "code",
      "source": [
        "%%html\n",
        "\n",
        "<!DOCTYPE html>\n",
        "<html>\n",
        "  <head>\n",
        "    <style>\n",
        "      /* CSS goes here */\n",
        "      body {\n",
        "        background-color: lightblue;\n",
        "      }\n",
        "\n",
        "      h1 {\n",
        "        color: navy;\n",
        "        text-align: center;\n",
        "      }\n",
        "\n",
        "      p {\n",
        "        font-family: verdana;\n",
        "        font-size: 20px;\n",
        "        color: black;\n",
        "      }\n",
        "    </style>\n",
        "  </head>\n",
        "  <body>\n",
        "    <h1>Welcome to the Networks Page!</h1>\n",
        "    <p>This is a paragraph explaining something about networks.</p>\n",
        "  </body>\n",
        "</html>\n"
      ],
      "metadata": {
        "colab": {
          "base_uri": "https://localhost:8080/",
          "height": 107
        },
        "id": "wEkeQ73Ryfea",
        "outputId": "b6f2ceb5-49a4-482f-e6a1-079ee6d3b13f"
      },
      "execution_count": null,
      "outputs": [
        {
          "output_type": "display_data",
          "data": {
            "text/plain": [
              "<IPython.core.display.HTML object>"
            ],
            "text/html": [
              "\n",
              "<!DOCTYPE html>\n",
              "<html>\n",
              "  <head>\n",
              "    <style>\n",
              "      /* CSS goes here */\n",
              "      body {\n",
              "        background-color: lightblue;\n",
              "      }\n",
              "\n",
              "      h1 {\n",
              "        color: navy;\n",
              "        text-align: center;\n",
              "      }\n",
              "\n",
              "      p {\n",
              "        font-family: verdana;\n",
              "        font-size: 20px;\n",
              "        color: black;\n",
              "      }\n",
              "    </style>\n",
              "  </head>\n",
              "  <body>\n",
              "    <h1>Welcome to the Networks Page!</h1>\n",
              "    <p>This is a paragraph explaining something about networks.</p>\n",
              "  </body>\n",
              "</html>\n"
            ]
          },
          "metadata": {}
        }
      ]
    },
    {
      "cell_type": "markdown",
      "source": [
        "In this example, we've included CSS directly in our HTML document within the `<style>` tags in the `<head>` of the document.\n",
        "\n",
        "The CSS starts with a selector (`body`, `h1`, and `p` in this case), which is the HTML element that you want to style. The styles themselves are defined within curly brackets `{}`. For example, for the `body` selector, the style is `background-color: lightblue;`. This sets the background color of the entire webpage to light blue.\n",
        "\n",
        "Similarly, for the `h1` selector, we've set the text color to navy and centered the text. And for the `p` selector, we've set the font family (the type of font) to verdana, the font size to 20 pixels, and the color to black.In this example, we've included CSS directly in our HTML document within the `<style>` tags in the `<head>` of the document.\n",
        "\n",
        "The CSS starts with a selector (`body`, `h1`, and `p` in this case), which is the HTML element that you want to style. The styles themselves are defined within curly brackets `{}`. For example, for the `body` selector, the style is `background-color: lightblue;`. This sets the background color of the entire webpage to light blue.\n",
        "\n",
        "Similarly, for the `h1` selector, we've set the text color to navy and centered the text. And for the `p` selector, we've set the font family (the type of font) to verdana, the font size to 20 pixels, and the color to black."
      ],
      "metadata": {
        "id": "YWYAtv6ayuTa"
      }
    },
    {
      "cell_type": "markdown",
      "source": [
        "### Summary: Basic HTML tags\n",
        "| HTML Syntax | Task |\n",
        "| --- | --- |\n",
        "| `<b>apple</b>` | HTML: Print \"apple\" in bold |\n",
        "| `<img src=\"image.jpeg\" width=\"100\" height=\"100\"/>` | HTML: Include \"image.jpeg\" with size 100x100 |\n",
        "| `<a href=\"https://www.google.com\">Go to Google</a>` | HTML: Link to google.com with text \"Go to Google\" |\n",
        "| `<h1>Hello</h1>` | HTML: Create a header level 1 with text \"Hello\" |\n",
        "| `<p>This is a paragraph</p>` | HTML: Create a paragraph with text \"This is a paragraph\" |\n",
        "| `<ul><li>one</li><li>two</li></ul>` | HTML: Create an unordered list with \"one\" and \"two\" |\n",
        "| `<tr><td>Cell 1</td><td>Cell 2</td></tr>` | HTML: Create a table row with two cells |\n",
        "| `<i>italic text</i>` | HTML: Make text italic \"italic text\" |\n",
        "| `<hr/>` | HTML: Make a horizontal line |\n",
        "| `<head><title>My Title</title></head>` | HTML: Set the title of the document to \"My Title\" |\n",
        "| `<br/>` | HTML: Insert a line break |\n",
        "| `<div id=\"myDiv\"></div>` | HTML: Create a div with id \"myDiv\" |\n",
        "| `<span class=\"myClass\"></span>` | HTML: Create a span with class \"myClass\" |\n",
        "| `<body style=\"background-color:red;\"></body>` | HTML: Set the background color of a page to red |\n",
        "| `<p style=\"color:blue;\">Hello</p>` | HTML: Display \"Hello\" in a paragraph element with inline CSS for color blue |\n",
        "| `<a id=\"section1\"></a>` | HTML: Create an anchor tag with ID \"section1\" |\n",
        "| `<p style=\"color:green;\">This is green text</p>` | HTML: Change the color of text to green using inline CSS |\n",
        "| `<!-- This is a comment -->` | HTML: Include a comment |\n",
        "| `<form><input type=\"text\"/><input type=\"submit\"/></form>` | HTML: Create a form with a text input and submit button |"
      ],
      "metadata": {
        "id": "usJ59WlGxe1U"
      }
    },
    {
      "cell_type": "markdown",
      "source": [
        "## Exercise: Make a Webpage About You\n",
        "In Jupyter notebooks, you can use the `%%html` magic command to render cells as HTML (as we've done here). This is useful when you want to create rich, structured outputs or when you're learning and experimenting with HTML.\n",
        "\n",
        "To put your learning into practice, I'd like you to create a mock webpage about yourself in a new Jupyter notebook HTML cell. Here are the requirements:\n",
        "\n",
        "1.  Doctype and HTML structure: Ensure your document has a correct HTML5 doctype and includes `<html>`, `<head>`, and `<body>` elements.\n",
        "\n",
        "2.  Title: Add a relevant title to your page using the `<title>` tag inside the `<head>`.\n",
        "\n",
        "3.  CSS Styles: Include some CSS in a `<style>` tag within your `<head>` to style your page. Try to include at least 3 different CSS properties.\n",
        "\n",
        "4.  Heading: Include a main heading for your page using the `<h1>` tag.\n",
        "\n",
        "5.  Paragraphs: Include at least two paragraphs of text using the `<p>` tag.\n",
        "\n",
        "6.  List: Create a list (ordered or unordered) of at least 3 items using the `<ul>` or `<ol>` tags and `<li>` for each item.\n",
        "\n",
        "7.  Image: Add an image using the `<img>` tag. You can link to any online image URL for this exercise.\n",
        "\n",
        "8.  Link: Add a hyperlink to an external website using the `<a>` tag. Make the link open in a new tab using the attribute `target=\"_blank\"`.\n",
        "\n",
        "9.  Bold and Italic Text: Use the `<b>` and `<i>` tags to make some text bold and some text italic in your paragraphs.\n",
        "\n",
        "10. Table: Create a simple table that includes at least 2 columns and 2 rows using `<table>`, `<tr>`, and `<td>` tags.\n",
        "\n",
        "Remember to start the cell with the `%%html` magic command so that Jupyter renders it as an HTML cell. And most importantly, have fun and be creative with it!"
      ],
      "metadata": {
        "id": "OTdA9EaDznki"
      }
    },
    {
      "cell_type": "code",
      "source": [
        "%%html\n",
        "<!-- Your webpage goes here -->\n"
      ],
      "metadata": {
        "id": "YLPBMcBIvE2q"
      },
      "execution_count": null,
      "outputs": []
    },
    {
      "cell_type": "markdown",
      "source": [
        "## Review with Quizlet\n",
        "The following set of cards covers important terms/concepts, as well as basic HTML tags."
      ],
      "metadata": {
        "id": "KS8fi9g4BdGJ"
      }
    },
    {
      "cell_type": "code",
      "source": [
        "%%html\n",
        "<iframe src=\"https://quizlet.com/817160001/learn/embed?i=psvlh&x=1jj1\" height=\"600\" width=\"100%\" style=\"border:0\"></iframe>"
      ],
      "metadata": {
        "id": "tOxVgjS1BoXH",
        "outputId": "6f2617d8-02fc-4d57-94ca-50b2c9e8ceb2",
        "colab": {
          "base_uri": "https://localhost:8080/",
          "height": 622
        }
      },
      "execution_count": null,
      "outputs": [
        {
          "output_type": "display_data",
          "data": {
            "text/plain": [
              "<IPython.core.display.HTML object>"
            ],
            "text/html": [
              "<iframe src=\"https://quizlet.com/817160001/learn/embed?i=psvlh&x=1jj1\" height=\"600\" width=\"100%\" style=\"border:0\"></iframe>\n"
            ]
          },
          "metadata": {}
        }
      ]
    },
    {
      "cell_type": "markdown",
      "source": [
        "## Glossary\n",
        "| Term | Definition |\n",
        "| --- | --- |\n",
        "| Computer Network | A group of interconnected computers that allow for communication and data sharing between them. It facilitates the sharing of resources and information. |\n",
        "| Wide Area Network (WAN) | A network that spans a large geographical area, often a country or continent. It's often used to connect different local networks, allowing devices and users in one location to communicate with devices and users in another. |\n",
        "| Local Area Network (LAN) | A network that connects computers or devices in a relatively small area, such as a home, school, or office building. It's often used to share resources like files, printers, and games. |\n",
        "| Network Protocol | The rules or standard procedures that define how data is transmitted over a network. These rules dictate the way that data packets are sent, received, and responded to. |\n",
        "| TCP-IP Model | A way of analyzing networks divided into four layers: the Network Interface, Internet, Transport, and Application layers. |\n",
        "| Application Layer | The topmost layer in the TCP/IP model which interfaces directly with the applications we use to communicate over the network. Important protocols include HTTP, FTP, and SMTP. It's where user-provided data is managed and prepared for transport. |\n",
        "| Transport Layer | The layer in the TCP/IP model that's responsible for the end-to-end communication over the network. It manages the assembly and reassembly of data packets, error-checking, and flow control. Two primary protocols are TCP (Transmission Control Protocol) and UDP (User Datagram Protocol). |\n",
        "| Internet Layer | The second layer in the TCP/IP model. It's responsible for packet routing, IP addressing, and handling network connections. |\n",
        "| Network Interface Layer | THe lowest layer in the TCP/IP mode, concerned with how data frames are physically sent |\n",
        "| Network Interface Card (NIC) | A hardware component, also known as a network adapter, that enables a computer to connect to a network. It converts the data from the computer into a format suitable for the network cable and controls the data transfer to and from the computer. |\n",
        "| MAC Address | A unique identifier assigned to a Network Interface Card (NIC) by the manufacturer. It's used to identify devices at the physical layer in a network. MAC stands for Media Access Control. |\n",
        "| Router | A device that forwards data packets along networks. It connects at least two networks, commonly LANs or WANs, and is located at gateways, the places where two or more networks connect. |\n",
        "| Switch | A networking device that connects devices together on a computer network by using packet switching to receive, process, and forward data to the destination device. Unlike a hub, a switch only sends data to the device that it is intended for. |\n",
        "| Modem | A device that modulates an analog carrier signal to encode digital information, and also demodulates such a carrier signal to decode the transmitted information. It enables a computer to transmit data over telephone or cable lines. |\n",
        "| Network Port | An endpoint in communications, representing a specific process to which an internet or other network message is directed when it reaches a server. |\n",
        "| HTTP | The standard protocol used to transfer hypertext over the World Wide Web. It prescribes how messages are structured, transmitted, and responded to by web servers and browsers. |\n",
        "| Internet | A global system of interconnected networks using TCP/IP protocols to facilitate worldwide device linking. It serves as a platform for various information and communication facilities, including the World Wide Web. |\n",
        "| Domain Name System (DNS) | The technology that converts human-friendly domain names into numerical IP addresses, which are required for computer services and devices worldwide. |\n",
        "| Internet Cookie | A small data file stored on a user's computer by a web browser while visiting a website. It retains stateful information and tracks the user's site navigation. |\n",
        "| Transmission Control Protocol (TCP) | Part of the TCP/IP protocol suite that ensures data packets are delivered in sequence from source to destination. TCP includes error-checking to prevent data loss, making it essential for tasks where reliability is vital. |\n",
        "| User Datagram Protocol (UDP) | A communication protocol that allows data packet dispatch before the connection is verified, providing speed at the expense of reliability. Often used for fast-paced activities, such as streaming media or online gaming. |\n",
        "| Internet Protocol (IP) | The rule set governing how data is sent and received over the internet. It provides a unique identification system for machines on a network, via IP addresses. |\n",
        "| IPv4 | Fourth version of the IP, serving as the foundation of internet data communication. Its 32-bit addressing system allows approximately 4.3 billion unique addresses. |\n",
        "| IPv6 | The most recent version of the IP, designed to replace IPv4 due to exhaustion of addresses. It uses 128-bit addressing, providing a virtually limitless number of unique addresses. |\n",
        "| Hypertext Markup Language (HTML) | A standard markup language used to structure web pages and web applications. Used in conjunction with CSS and JavaScript, it enables the creation of page layouts, styles, and interactive features. |\n",
        "| Cascading Style Sheet (CSS) | A language responsible for defining the look and formatting of a document written in HTML. It stipulates styles, design, layout and variations in display for different devices and screen sizes. |"
      ],
      "metadata": {
        "id": "94QsW8PqlVe7"
      }
    },
    {
      "cell_type": "code",
      "source": [],
      "metadata": {
        "id": "F1FrsuyQlXoj"
      },
      "execution_count": null,
      "outputs": []
    }
  ]
}