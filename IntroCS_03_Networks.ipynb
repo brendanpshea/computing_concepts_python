{
  "nbformat": 4,
  "nbformat_minor": 0,
  "metadata": {
    "colab": {
      "provenance": [],
      "authorship_tag": "ABX9TyMZ12clYRPC08q4dgd8lzru",
      "include_colab_link": true
    },
    "kernelspec": {
      "name": "python3",
      "display_name": "Python 3"
    },
    "language_info": {
      "name": "python"
    }
  },
  "cells": [
    {
      "cell_type": "markdown",
      "metadata": {
        "id": "view-in-github",
        "colab_type": "text"
      },
      "source": [
        "<a href=\"https://colab.research.google.com/github/brendanpshea/computing_concepts_python/blob/main/IntroCS_03_Networks.ipynb\" target=\"_parent\"><img src=\"https://colab.research.google.com/assets/colab-badge.svg\" alt=\"Open In Colab\"/></a>"
      ]
    },
    {
      "cell_type": "markdown",
      "source": [
        "# Computer Networking\n",
        "### Brendan Shea, PhD (Brendan.Shea@rctc.edu)\n",
        "In the simplest terms, a **network** is a collection of devices that are interconnected and can communicate with each other. These devices can range from computers, laptops, and smartphones to printers, servers, or even IoT devices like smart fridges or thermostats. The purpose of this connection is to share and exchange information and resources.\n",
        "\n",
        "A network allows for the sharing of data and resources, such as files, applications, or even hardware like printers, in a much more efficient and collaborative manner than would be possible without the network. For example, instead of storing a file on a USB drive and physically carrying it to another computer, a network allows you to send the file directly, saving time and effort.  \n",
        "\n",
        "There are two primary types of networks: Local Area Networks (LANs) and Wide Area Networks (WANs).\n",
        "\n",
        "- A **Local Area Network (LAN)** is a network that connects devices in a relatively small area, such as a home, office, or a group of buildings. These networks are typically owned, controlled, and managed by a single person or organization.\n",
        "\n",
        "- On the other hand, a **Wide Area Network (WAN)** covers a large geographical area and connects multiple LANs together. The **internet** is the most prominent example of a WAN, which is a global network of networks.\n",
        "\n",
        "Networks can also be classified based on their design approach: **Peer-to-peer (P2P) networks**, where each device has equivalent responsibilities and capabilities, or **client-server networks**, where some computers (servers) provide services, and others (clients) use those services.\n",
        "\n",
        "Finally, Networks operate based on established rules and **protocols**, which define how the devices should transmit and receive data. These protocols ensure that networks across the globe can communicate with each other seamlessly, leading to the interconnected world we live in today. In this lesson, you'll learn some of the most important of these protocols, including the the Internet Protocol (IP), Tranmission Control Protocol (TCP), and Hypertext Transport Protocol (HTTP)."
      ],
      "metadata": {
        "id": "AdJbV1HdUejt"
      }
    },
    {
      "cell_type": "markdown",
      "source": [
        "## How Network \"Models\" Aid Understanding\n",
        "Imagine you're trying to bake a cake without a recipe. You know you need ingredients like flour, sugar, eggs, and so on, but you don't know how much of each ingredient to use, or in what order to mix them. The result would be a disaster. A recipe guides you, telling you exactly what to do step-by-step.\n",
        "\n",
        "In a similar way, a **network model** is like a recipe for computer networks. But instead of baking a cake, we're trying to transmit data, like emails or web pages, from one device to another over the network.  Now, why do we need a network model or this \"recipe\"?\n",
        "\n",
        "1.  Understanding Networks: Networks can be complex with many different parts working together. It's like trying to understand a busy city with all its people, cars, buses, buildings, and roads. If we tried to understand everything at once, we'd get confused. But if we break it down into parts - like people, transportation, infrastructure - it's easier to understand. Network models do the same for networks. They break down the whole process of data transfer into layers. Each layer has a specific job, making it easier to understand.\n",
        "\n",
        "2.  Building Networks: When we're building networks, we want to ensure that all the parts can \"talk\" to each other - that is, they can send and receive data correctly. Network models provide a common language or standard that all parts of the network can understand and follow. This ensures that different devices, perhaps made by different companies, can still communicate with each other.\n",
        "\n",
        "3.  Fixing Problems: Let's go back to the city example. If there's a traffic jam, we don't need to look at every person, car, or building in the city to find the problem. We just focus on the transportation - the roads and cars. Similarly, in networks, when something goes wrong, we can look at each layer separately to find and fix the problem. This makes troubleshooting much easier and faster.\n",
        "\n",
        "In simple terms, a network model helps us to understand how a network works, how to build a network so all parts can work together, and how to fix problems when they arise. Without it, creating and maintaining networks would be a lot more complicated."
      ],
      "metadata": {
        "id": "rsDq_Gv_VIPu"
      }
    },
    {
      "cell_type": "markdown",
      "source": [
        "## A Four-Layer Network Model: TCP-IP\n",
        "Think of the process of sending a letter through the postal service. You write your letter (the message), put it in an envelope (packaging), write the address (where it needs to go), and then give it to the postal service (the transportation system). The postal service then delivers the letter to the address you wrote on the envelope. The person who receives the letter opens the envelope and reads your message.\n",
        "\n",
        "Similarly, when a device wants to send data to another device over a network, it has to go through a process. To make this process easier to understand, we break it down into steps, or layers. Each layer has a specific job to do, just like in our postal service example.  In the four-layer (**TCP-IP**) network model, these layers are:\n",
        "\n",
        "1.  **Application Layer:** This is where our \"letter\" starts. The application layer is where network applications (like your web browser or email client) live. It's what you, as the user, interact with. When an application wants to send data, it's the application layer's job to package that data so it can be sent over the network. This might include formatting a web page into HTML, turning an email into text, or converting a voice call into digital audio. It also works the other way around, converting incoming data into something the user can understand.\n",
        "\n",
        "2.  **Transport Layer:** Once our \"letter\" is packaged, it needs to be delivered. That's the job of the transport layer. This layer establishes a connection between the sending and receiving devices and ensures that data is reliably sent. It does this by breaking down the data from the application layer into smaller **packets** and tracking them to ensure they all reach the destination. It's kind of like taking a large letter and breaking it down into postcards, each with a number so you can put them back together in the right order.\n",
        "\n",
        "3.  **Internet Layer:** Now that our \"letter\" is packaged and ready for transport, we need to figure out where it's going.  The Internet layer is responsible for routing the data packets to the right destination. It adds the IP addresses of the sender and receiver to the data packets so that they can be correctly routed. In other words, it figures out the best way to get the data from the sender to the receiver, kind of like how a GPS finds the best route to your destination.\n",
        "\n",
        "4.  **Network Interface (\"Data Link\") Layer:**  This is the final step. The Network Interface Layer is in charge of the physical transmission of data. It's like our mail carrier in the letter example. This layer takes the data packets, converts them into a form that can be transmitted physically (like electrical signals or radio waves), and sends them onto the network. It also receives incoming data and converts it back into a form the upper layers can understand. (So, incoming data needs to go through these same four steps, except \"backwards\").\n",
        "\n",
        "In short, the four-layer network model is a way of breaking down the process of sending data over a network into manageable steps, making it easier to understand and manage. It helps us understand how data gets from one application to another over a network."
      ],
      "metadata": {
        "id": "fLNej_c2WWb4"
      }
    },
    {
      "cell_type": "markdown",
      "source": [
        "## Applying the Application Layer: Protocols and Ports\n",
        "The Application Layer, the topmost layer of the four-layer network model, encompasses protocols that users often interact with directly, albeit behind the scenes of user-friendly applications. These protocols enable activities like web browsing, email communication, and file transfers. Critical to the functioning of these protocols is the concept of \"ports.\"\n",
        "\n",
        "In the context of networking, a **port** is a virtual point where network connections start and end. Ports are associated with specific processes or services in a system, and each service has a unique port number. Port numbers help the system identify the correct application or service for which the data is intended. Essentially, they are like apartment numbers in a large building, ensuring the mail (or data) gets to the correct resident (or application).\n",
        "\n",
        "Some port numbers are reserved for specific services as per the Internet Assigned Numbers Authority (IANA). These are known as well-known port numbers, ranging from 0 to 1023. Let's discuss some well-known application layer protocols and their associated port numbers:\n",
        "\n",
        "-  **HTTP (Hypertext Transfer Protocol):** The protocol used for transferring web content. HTTP uses port 80. When you type a URL into your browser and hit Enter, your browser sends an HTTP request to the server via this port.\n",
        "\n",
        "-  **HTTPS (HTTP Secure):** A secure version of HTTP, HTTPS uses port 443. It's used when a secure connection is required, for example, when entering sensitive information like credit card details on a website.\n",
        "\n",
        "-  **FTP (File Transfer Protocol):** FTP is used for transferring files between hosts. It uses two ports - port 20 for data transfer and port 21 for command control. It's commonly used for uploading files to a web server or downloading files from a server to a user's computer.\n",
        "\n",
        "-  **SMTP (Simple Mail Transfer Protocol):** SMTP is used for sending emails, operating on port 25. When you hit send on an email, your email client uses SMTP to route the message to the recipient's email server.\n",
        "\n",
        "-  **IMAP (Internet Message Access Protocol)** and **POP3 (Post Office Protocol 3)**: These protocols are used for receiving emails. IMAP uses port 143, while POP3 uses port 110. When you open your email client to check your inbox, it's using either IMAP or POP3 to fetch the messages from the server.\n",
        "\n",
        "-  **DNS (Domain Name System):** DNS uses port 53. It's the protocol that translates human-friendly URLs into the IP addresses that computers use to identify each other on the network.\n",
        "\n",
        "Knowing about ports and their importance helps us understand the intricacy of network communication. While we enjoy browsing websites or sending emails, these processes rely heavily on the proper functioning and coordination of numerous network protocols and services, which in turn depend on ports."
      ],
      "metadata": {
        "id": "kNSsN4ThbJ50"
      }
    },
    {
      "cell_type": "markdown",
      "source": [
        "### HTTP: A Protocol for the World Wide Web\n",
        "\n",
        "The **Hyptertext Transport Protocol (HTTP)** in an application-layer protocolinvented by Tim Berners-Lee, the creator of the World Wide Web, and his team at CERN in 1989. The purpose of HTTP is to allow the fetching of resources, such as HTML documents, images, and videos, from servers and displaying them on a client's browser. Essentially, HTTP is the protocol that enables communication between web browsers (clients) and web servers, allowing us to surf the internet.\n",
        "\n",
        "HTTP is critically important because it forms the foundation of any data exchange on the web. It's not an exaggeration to say that almost every action you perform on the internet---from clicking a link, to typing a URL into your browser's address bar, to submitting a form on a webpage---starts an HTTP request.\n",
        "HTTP is based on the request-response model. That means the communication usually begins with a client (for instance, your browser) making a request to a server. The server, upon receiving this request, processes it and sends a response back to the client.  Here's a simplified step-by-step breakdown of how this works:\n",
        "\n",
        "1.  Client Sends a Request: Let's say you want to visit `www.example.com`. When you type this URL into your browser and hit Enter, your browser starts an HTTP request. This request is a message which includes information like the desired action (often \"GET\" to fetch data, though there are other methods), the URL, and the HTTP version.\n",
        "\n",
        "2.  Server Processes the Request: The HTTP request message is received by the web server hosting `www.example.com`. The server processes the request, interpreting what resources are asked for and what action the client wants to perform.\n",
        "\n",
        "3.  Server Sends a Response: After processing, the server forms an HTTP response and sends it back to the client. This response includes a status code that indicates whether the request was successful (for example, \"200\" for success) or if there were any errors (for example, \"404\" means the requested page was not found). Along with the status code, if the request was successful, the server includes the requested resource in the response---for instance, the HTML of a web page.\n",
        "\n",
        "4.  Client Displays the Response: Once your browser receives the HTTP response, it interprets the data and renders the web page on your screen. If the requested resource is an HTML file, the browser reads the HTML, CSS, and JavaScript, fetches any necessary additional files (like images), and displays the formatted page for you to view.\n",
        "\n",
        "Remember, this is a simplified explanation. In reality, there's a lot more complexity involved, including things like HTTP headers for transmitting metadata, cookies for maintaining state, and HTTPS for securing communications. But at its heart, HTTP is about sending a request from a client to a server, and returning a response from the server back to the client. This basic model underlies much of the activity on the internet."
      ],
      "metadata": {
        "id": "jh4LquZ9dI9R"
      }
    },
    {
      "cell_type": "markdown",
      "source": [
        "## Two Ways to Transport Data (TCP and UDP)\n",
        "The **Transport Layer** plays a vital role in network communication. It's responsible for end-to-end communication services for applications. It ensures complete data transfer and provides reliable, transparent transfer of data between end systems, or hosts. It achieves this using protocols, the most common of which are TCP (Transmission Control Protocol) and UDP (User Datagram Protocol).\n",
        "\n",
        "1.  **TCP (Transmission Control Protocol):** TCP provides a reliable, ordered, and error-checked delivery of a stream of packets. TCP is like sending a registered mail through a post office -- you have a guarantee that it will arrive, and in the same order you sent it.\n",
        "\n",
        "    Key features of TCP include:\n",
        "\n",
        "    -   Reliable Transmission: TCP has mechanisms for ensuring all data sent is received correctly at the other end. If packets are lost or corrupted during transmission, TCP will retransmit them. This ensures that no data is lost.\n",
        "\n",
        "    -   Flow Control: TCP manages the rate of data transmission between two network devices to prevent a fast sender from overwhelming a slower receiver, which could otherwise lead to lost packets.\n",
        "\n",
        "    -   Ordered Delivery: If packets arrive at the destination out of order (which can happen as packets can take different paths through the network), TCP will reorder them.\n",
        "\n",
        "    -   Congestion Control: TCP can control traffic from source to destination, helping to keep the network efficient and preventing traffic bottlenecks.\n",
        "\n",
        "2.  **UDP (User Datagram Protocol):** On the other hand, UDP is a simpler, connectionless Internet protocol. With UDP, packets are sent without establishing a connection and without any delivery guarantee. It's like throwing a letter into the mailbox and hoping it arrives---it might get lost or arrive out of order.\n",
        "\n",
        "    UDP doesn't provide the reliability mechanisms of TCP---it doesn't guarantee delivery, preserve sequences, or protect against data corruption during transmission. However, this makes UDP faster and more efficient for many lightweight or time-sensitive applications. Examples include live broadcasts and online multiplayer games.\n",
        "\n",
        "Both TCP and UDP use port numbers to pass data to the upper layers. Port numbers are used to distinguish different types of data and different applications or services. They work like addresses, ensuring that the data is delivered to the correct software application on a network device.\n",
        "\n",
        "The role of the Transport Layer, in essence, is to provide the Application Layer with session and datagram communication services. These services are provided by using either TCP or UDP, depending on the specific requirements of the application."
      ],
      "metadata": {
        "id": "5muJO23HeYzc"
      }
    },
    {
      "cell_type": "markdown",
      "source": [
        "## How the Internet Protocol (IP) Enables Global Connectivity\n",
        "The Internet Layer, also known as the network layer, is responsible for receiving segments from the Transport Layer and packaging them into packets. But perhaps its most significant role is addressing, routing, and forwarding these packets to allow communication between networks, hence facilitating global connectivity. Let's dive into this.\n",
        "\n",
        "- IP Addressing: At the heart of this process is the Internet Protocol (IP), which defines the system of IP addresses. An IP address is a unique identifier assigned to each device connected to a network that uses IP for communication. There are two types of IP addresses: IPv4 and IPv6. **IPv4 addresses** are composed of four sets of numbers, each ranging from 0 to 255, separated by periods (e.g., 192.168.1.1). **IPv6 addresses**, which are being more widely used due to the exhaustion of IPv4 addresses, are composed of eight groups of four hexadecimal digits, separated by colons (e.g., 2001:0db8:85a3:0000:0000:8a2e:0370:7334).  Each IP address in an IP network must be unique within that network.\n",
        "\n",
        "- IP Routing: The Internet Layer is also responsible for routing data packets to their destinations using IP addresses. Each **router** connected to the network has a table known as the **routing table** that stores routes (paths) to different network destinations. It uses these tables to decide the best path for forwarding the packets.  When a data packet is sent from one network to another, it usually passes through several routers. Each router examines the IP address of the packet's destination and consults its routing table to decide which way to send the packet. The packet is forwarded from router to router along the path until it reaches its destination network.\n",
        "\n",
        "- IP Forwarding: The process of sending the packets from one network to another, as decided by the routers, is known as **forwarding**. The routers at the boundary of each network are responsible for forwarding the packets to the next network on the path to the destination.\n",
        "\n",
        "- Private and Public IP Addresses: Each device connected to a network receives an IP address, which can be either public or private. A **public IP address** is a globally unique address that is assigned to a device, like a router, that connects directly to the internet. These addresses are used across the entire internet to locate networked devices. **Private IP addresses**, on the other hand, are used within private networks such as home, office, or enterprise networks. These addresses are not routable on the open internet and therefore provide a layer of security by inherently hiding the networked device from the world. Common private IPv4 address ranges include 10.0.0.0 to 10.255.255.255, 172.16.0.0 to 172.31.255.255, and 192.168.0.0 to 192.168.255.255.\n",
        "\n",
        "\n",
        "The combination of unique IP addressing and the capability of IP routing and forwarding enables global connectivity. Regardless of the network, each device can send packets to any other device in the world, as long as they are both connected to the internet. The packets are routed through various networks and routers on their journey, each hop getting them closer to their destination, until they ultimately reach the correct device."
      ],
      "metadata": {
        "id": "p2XEwncVgHak"
      }
    },
    {
      "cell_type": "markdown",
      "source": [
        "### A Little History of the Internet\n",
        "The history of the internet is quite fascinating, and it's rooted in the Cold War era.\n",
        "\n",
        "1.  Late 1950s - Early 1960s: The precursor to the internet was the Advanced Research Projects Agency Network (ARPANET), funded by the U.S. Department of Defense during the Cold War. It was a response to the Soviet Union's launch of the Sputnik satellite in 1957, which pushed the U.S. to invest more heavily in technological research and development. The initial aim of ARPANET was to create a network that could survive a nuclear attack, by decentralizing information and enabling communication even if part of the network was destroyed.\n",
        "\n",
        "2.  1969: The first message was sent over ARPANET by a student programmer at UCLA to a computer at Stanford. The system crashed after only the first two letters of the intended message \"LOGIN\" were transmitted, but it was still a significant moment in the history of the internet.\n",
        "\n",
        "3.  1970s: Throughout the '70s, the technology and protocols that would form the backbone of the internet were developed. In 1974, the term \"Internet\" was first used, and TCP/IP (Transmission Control Protocol/Internet Protocol), which allows for effective data transmission between multiple networks, was created.\n",
        "\n",
        "4.  1980s: The '80s saw the development of the Domain Name System (DNS), making it easier to navigate the growing network of networks. Instead of typing in a numerical IP address, users could type in a domain name (like [www.google.com](http://www.google.com/)), which is easier to remember. This decade also saw the establishment of important infrastructure, such as routers and Ethernet, that would make the internet more accessible to non-military users.\n",
        "\n",
        "5.  1990: The World Wide Web was created by Tim Berners-Lee, a British scientist at CERN. The web is a system of interlinked hypertext documents accessed via the internet. With a web browser, a user can view web pages that may contain text, images, videos, and other multimedia and navigate between them using hyperlinks.\n",
        "\n",
        "6.  1990s: The '90s saw the rise of web browsers (like Netscape Navigator and Internet Explorer) and search engines (like Yahoo and Google). This era also witnessed the dot-com boom, as businesses realized the potential of the internet for e-commerce and digital advertising.\n",
        "\n",
        "7.  2000s - Present: The internet continued to grow and evolve. Broadband replaced dial-up, making the internet much faster. Social media sites like Facebook and Twitter emerged, as well as video streaming platforms like YouTube. The internet also became more mobile with the rise of smartphones and tablets. The Internet of Things (IoT), which connects everyday devices to the internet, also started gaining traction.\n",
        "\n",
        "From its origins as a military project to its current status as a global platform for communication and commerce, the internet has dramatically transformed society. It has made information widely accessible, facilitated cross-cultural exchanges, changed the way businesses operate, and given rise to entire new industries. However, it has also brought challenges, such as cybersecurity issues and concerns about privacy and misinformation."
      ],
      "metadata": {
        "id": "qGQ50AgoldlX"
      }
    },
    {
      "cell_type": "markdown",
      "source": [
        "## Network Interace (\"Data Link\") Layer\n",
        "The **Network Interface Layer**, also known as the Link or Data Link Layer, is the layer that interfaces directly with the physical network. It forms the bridge between the logical aspect of network communication, handled by the layers above it, and the physical reality of transmitting and receiving data over hardware.\n",
        "\n",
        "Imagine you're sending a letter to a friend. You have your message ready, but you can't just hand your words over to the mail carrier. You need to put your message inside an envelope with your friend's address on it and your return address. The envelope is akin to a \"frame\" in network terms. Just like the envelope encapsulates your letter, a frame encapsulates the data to be transmitted over the network. Each frame includes not just the data, or \"payload\", but also source and destination addresses, as well as other control information to ensure successful transmission.\n",
        "\n",
        "Imporant technologies and protocols include:\n",
        "\n",
        "- **Ethernet:** This is the most commonly used technology for wired local area networks (LANs). Devices on an Ethernet network communicate via Ethernet frames, which carry data from one device to another. These frames include source and destination MAC addresses, a payload (the data being transmitted), and an error-checking mechanism. Ethernet itself manages how devices share access to the medium (the physical wires), ensuring that if two devices try to send frames at the same time (a \"collision\"), each device will back off and try again after a random delay.\n",
        "\n",
        "- **Wi-Fi (IEEE 802.11)**: Wi-Fi technology allows devices to connect to a network wirelessly. Similar to Ethernet, Wi-Fi also uses frames to transmit data, but it does so over radio waves instead of physical cables. Wi-Fi involves more complex access methods to handle multiple devices trying to communicate on the same wireless channel, but at its core, it serves a similar purpose to Ethernet - getting data frames from one device to another.\n",
        "\n",
        "- **Media Access Control (MAC) Addresses**: MAC addresses are essential for local network communication. Unlike IP addresses which are structured to provide routing information across a network, MAC addresses are flat and serve as unique identifiers for each network interface. Both Ethernet and Wi-Fi frames include source and destination MAC addresses, and this information is used to deliver frames to the right device within a local network. Each MAC address is associated with a single **network interface cards (NIC)** on a given devices.\n",
        "\n",
        "- **Switches and Bridges**: Network switches and bridges function at the Network Interface Layer to help direct traffic in a network. They learn the MAC addresses of all devices connected to each of their ports and use this information to forward incoming frames from one port to the appropriate destination port. This effectively \"switches\" or \"bridges\" the frame from one network segment to another.\n",
        "\n",
        "These technologies and protocols work in tandem to ensure that data is correctly packaged into frames, sent over the physical network, and accurately delivered to the right device. This process begins with encapsulating data in Ethernet or Wi-Fi frames, which include the MAC addresses of the sending and receiving devices. If the MAC address of the receiving device isn't known, ARP is used to find it. Switches or bridges then forward these frames to the right destination within the network"
      ],
      "metadata": {
        "id": "JmGrjBsmt62p"
      }
    },
    {
      "cell_type": "markdown",
      "source": [
        "## Networks in Action: Browsing the Web:\n",
        "\n",
        "To get a better sense of how the network model \"works\", let's consider what happens we type a URL (say, [www.example.com](http://www.example.com/)) into their web browser:\n",
        "\n",
        "-   Application Layer: The browser (an application) sends a request to view the webpage. This request is handled by HTTP, which formats the request as an HTTP GET request.\n",
        "\n",
        "-   Transport Layer: TCP takes the HTTP request and segments it into smaller pieces. Each segment is given a port number, identifying it as HTTP traffic (typically port 80).\n",
        "\n",
        "-   Internet Layer: IP takes the TCP segments and packages them into packets, each packet carrying the source and destination IP addresses.\n",
        "\n",
        "-   Network Interface Layer: These packets are turned into frames that can be sent over the physical network, each frame carrying the source and destination MAC addresses.\n",
        "\n",
        "These frames then travel over the physical network (via Ethernet, Wi-Fi, etc.) to the router, which forwards them to the destination (the server hosting [www.example.com](http://www.example.com/)) using the information in the IP header of each packet.\n",
        "\n",
        "On the receiving end (the server), the process is reversed. The frames are received and their data is passed up through the layers (Network Interface to Internet to Transport to Application) until it reaches the web server software, which processes the HTTP GET request and responds with the requested webpage."
      ],
      "metadata": {
        "id": "4mm6XbzGg76W"
      }
    },
    {
      "cell_type": "markdown",
      "source": [
        "### Questions: Network Models\n",
        "\n",
        "1. Can you describe the roles of the four layers (Application Layer, Transport Layer, Internet Layer, Network Interface Layer) in the TCP-IP network model, providing a real-life example for each?\n",
        "\n",
        "2. What is the significance of a network model in understanding, building, and troubleshooting a network? Can you provide examples of how a network model aids each of these tasks?\n",
        "\n",
        "3. What are the differences between TCP and UDP protocols at the Transport Layer, and how do these differences affect their respective use cases?\n",
        "\n"
      ],
      "metadata": {
        "id": "3yq4LqxQyMka"
      }
    },
    {
      "cell_type": "markdown",
      "source": [
        "### Answers: Network Model\n",
        "\n",
        "1.\n",
        "\n",
        "2.\n",
        "\n",
        "3."
      ],
      "metadata": {
        "id": "yyJ-9Zi8yfWG"
      }
    },
    {
      "cell_type": "markdown",
      "source": [
        "### Case Study: The Cookie Conundrum\n",
        "Internet **cookies** are small pieces of data that are stored on your computer by your web browser at the request of certain websites you visit. Cookies are designed to remember information about your visit, such as your login information, what's in your shopping cart, or your preferred language.\n",
        "\n",
        "While cookies can enhance your browsing experience by preserving customized settings and recognizing when you're logged in, they also raise some privacy concerns.   Many websites and third-party entities use cookies for a variety of other purposes, some of which can affect your privacy. Here are some of the main ways this happens:\n",
        "\n",
        "-  **Tracking Cookies:** Also known as third-party cookies, these are set by a website other than the one you're currently visiting. For instance, if you visit website.com, it might have an ad from adsite.com embedded on the page. Adsite.com can set a cookie that can be accessed through website.com. These cookies are often used to track your online behavior across multiple websites, building a profile of your habits and interests.\n",
        "\n",
        "-  **Advertising:** By tracking your behavior across multiple websites, third-party entities can target ads towards your interests, known as behavioral advertising. This might sound convenient, but it can also feel intrusive, as though your every move online is being watched and analyzed.\n",
        "\n",
        "-  **Cookie Syncing:** This is when ad companies share their tracking cookies with each other. Cookie syncing allows these companies to link their identifiers for a particular user, essentially creating a more complete profile of you."
      ],
      "metadata": {
        "id": "fiYO7kfEl2D0"
      }
    },
    {
      "cell_type": "markdown",
      "source": [
        "### Questions: The Cookie Conundrum\n",
        "\n",
        "1.  When you visit a website, what kind of information do you think it could learn about you from cookies? Give at least three examples.\n",
        "\n",
        "2.  How do you feel about your online browsing behavior being tracked, analyzed, and possibly shared? What couldy do you to help prevent this?\n",
        "\n",
        "3.  Have you ever noticed ads on websites that seem to align suspiciously well with your recent browsing history or personal interests? What was your reaction? Would you rather receive ads that were \"less\" targeted>\n",
        "\n",
        "\n",
        "### Your Answers: Internet and Cookies\n",
        "1.\n",
        "\n",
        "2.\n",
        "\n",
        "3.\n"
      ],
      "metadata": {
        "id": "AcUcavqhmh2T"
      }
    },
    {
      "cell_type": "markdown",
      "source": [
        "## A Short Course in HTML\n",
        "**Hypertext Markup Language (HTML)** is the standard markup language for creating web pages and web applications. It's a language that structures content on the internet and forms the building blocks of all websites. HTML does this by using tags that define the content type, such as headers, paragraphs, lists, links, images, and more.  Here's why we use HTML:\n",
        "\n",
        "1.  Universal Internet Language: HTML is universally understood by browsers across platforms (Windows, Mac, Linux, etc.) and devices (desktop, laptop, mobile, etc.). This makes it essential for creating content on the internet.\n",
        "\n",
        "2.  Structure and Content of Web Pages: HTML provides the structure to web pages. It allows you to define various elements like headings, paragraphs, lists, tables, images, forms, etc., making your content readable and understandable by web browsers.\n",
        "\n",
        "3.  Embed Media: HTML allows embedding various types of media like images, videos, audio, etc., into the web page.\n",
        "\n",
        "4.  Create Links: HTML allows web pages to connect to each other via hyperlinks, thus creating the \"web\" of connections that is the internet.\n",
        "\n",
        "5.  Serve as a Foundation for Web Technologies: Other technologies like CSS and JavaScript are often used in combination with HTML. CSS is used to control the look and feel of the HTML content, and JavaScript is used to add interactivity to HTML web pages.\n",
        "\n",
        "6.  SEO: HTML is good for search engine optimization (SEO). Search engines use the tags in HTML to understand the content of web pages, which helps in getting your website discovered.\n",
        "\n",
        "Understanding HTML is fundamental to web development and other related fields. In this section, we'll learn the basics of HTML."
      ],
      "metadata": {
        "id": "mkIgvIx5t32U"
      }
    },
    {
      "cell_type": "markdown",
      "source": [
        "### A Simple Structure\n",
        "An HTML document has a specific structure. This structure allows browsers to interpret the content correctly. Here are the main components of an HTML document:\n",
        "\n",
        "1.  DOCTYPE Declaration: This is the first line of an HTML document and it represents the document type declaration. It helps the browser to understand the version of the HTML being used. For HTML5, this is declared as `<!DOCTYPE html>`.\n",
        "\n",
        "2.  HTML Element: This is the root element of an HTML page, which contains all other HTML elements. It is marked with `<html>` tags.\n",
        "\n",
        "3.  Head Element: The `<head>` element contains meta-information about the HTML document. This is not content that is shown on the webpage itself, but information for the browser and search engines. This includes:\n",
        "\n",
        "    -   Title Element: The `<title>` tag specifies the title of the web page. The title is what shows up in the browser tab and is also used by search engines.\n",
        "    -   Meta Tags: These include various details about the HTML document. This could be character encoding declaration (like `<meta charset=\"UTF-8\">`), information for search engine (like meta description), and viewport settings for responsive design.\n",
        "    -   Link Element: This is typically used to link CSS files for styling the HTML content.\n",
        "    -   Script Element: This is used to link JavaScript files, though JavaScript can also be placed in the body.\n",
        "4.  Body Element: The `<body>` tag contains the content that is displayed on the web page. This could be text, images, videos, games, clickable buttons, hyperlinks, etc. The body is where you structure your content with various HTML tags like headers (h1-h6), paragraphs (p), lists (ul and ol), links (a), images (img), etc.\n",
        "\n",
        "So a very basic HTML document would look something like this:"
      ],
      "metadata": {
        "id": "0ixXUaX0vFjS"
      }
    },
    {
      "cell_type": "code",
      "source": [
        "%%html\n",
        "\n",
        "<!DOCTYPE html>\n",
        "<html>\n",
        "  <head>\n",
        "    <title>Page Title</title>\n",
        "    <meta charset=\"UTF-8\">\n",
        "  </head>\n",
        "  <body>\n",
        "    <h1>My First Heading</h1>\n",
        "    <p>My first paragraph.</p>\n",
        "  </body>\n",
        "</html>\n"
      ],
      "metadata": {
        "colab": {
          "base_uri": "https://localhost:8080/",
          "height": 100
        },
        "id": "ON9qxIA6vRrX",
        "outputId": "b2754ebd-45ae-4ded-ca13-309b1532fd15"
      },
      "execution_count": null,
      "outputs": [
        {
          "output_type": "display_data",
          "data": {
            "text/plain": [
              "<IPython.core.display.HTML object>"
            ],
            "text/html": [
              "\n",
              "<!DOCTYPE html>\n",
              "<html>\n",
              "  <head>\n",
              "    <title>Page Title</title>\n",
              "    <meta charset=\"UTF-8\">\n",
              "  </head>\n",
              "  <body>\n",
              "    <h1>My First Heading</h1>\n",
              "    <p>My first paragraph.</p>\n",
              "  </body>\n",
              "</html>\n"
            ]
          },
          "metadata": {}
        }
      ]
    },
    {
      "cell_type": "markdown",
      "source": [
        "### Adding Content to Our HTML Page\n",
        "HTML provides numerous elements to structure your content effectively. Let's walk through how you might structure a simple page about \"Networks\" using different HTML elements.\n"
      ],
      "metadata": {
        "id": "hsJ_1qZ1wAOV"
      }
    },
    {
      "cell_type": "code",
      "source": [
        "%%html\n",
        "\n",
        "<!DOCTYPE html>\n",
        "<html>\n",
        "  <head>\n",
        "    <title>Introduction to Networks</title>\n",
        "    <meta charset=\"UTF-8\">\n",
        "  </head>\n",
        "  <body>\n",
        "    <header>\n",
        "      <h1>Understanding Networks</h1>\n",
        "      <nav>\n",
        "        <ul>\n",
        "          <li><a href=\"#types\">Types of Networks</a></li>\n",
        "          <li><a href=\"#components\">Components of a Network</a></li>\n",
        "          <li><a href=\"#uses\">Uses of Networks</a></li>\n",
        "        </ul>\n",
        "      </nav>\n",
        "    </header>\n",
        "\n",
        "    <section id=\"types\">\n",
        "      <h2>Types of Networks</h2>\n",
        "      <p>Networks can be classified into different types such as LAN, WAN, MAN, PAN, etc.</p>\n",
        "    </section>\n",
        "\n",
        "    <section id=\"components\">\n",
        "      <h2>Components of a Network</h2>\n",
        "      <p>A network consists of various components like nodes, routers, modems, etc.</p>\n",
        "    </section>\n",
        "\n",
        "    <section id=\"uses\">\n",
        "      <h2>Uses of Networks</h2>\n",
        "      <p>Networks are used for various purposes including communication, data sharing, resource sharing, etc.</p>\n",
        "\n",
        "      Here is an image from Wikipedia. <img src = \"https://upload.wikimedia.org/wikipedia/commons/a/ab/Internet_of_Things.jpg\" width = 200>\n",
        "    </section>\n",
        "\n",
        "    <footer>\n",
        "      <p>Created for Brendan's Intro to CS Course</p>\n",
        "    </footer>\n",
        "  </body>\n",
        "</html>\n"
      ],
      "metadata": {
        "colab": {
          "base_uri": "https://localhost:8080/",
          "height": 561
        },
        "id": "lPvgq9cuwN4W",
        "outputId": "d3b66387-b2b0-4049-d307-46cdcd90f2f4"
      },
      "execution_count": null,
      "outputs": [
        {
          "output_type": "display_data",
          "data": {
            "text/plain": [
              "<IPython.core.display.HTML object>"
            ],
            "text/html": [
              "\n",
              "<!DOCTYPE html>\n",
              "<html>\n",
              "  <head>\n",
              "    <title>Introduction to Networks</title>\n",
              "    <meta charset=\"UTF-8\">\n",
              "  </head>\n",
              "  <body>\n",
              "    <header>\n",
              "      <h1>Understanding Networks</h1>\n",
              "      <nav>\n",
              "        <ul>\n",
              "          <li><a href=\"#types\">Types of Networks</a></li>\n",
              "          <li><a href=\"#components\">Components of a Network</a></li>\n",
              "          <li><a href=\"#uses\">Uses of Networks</a></li>\n",
              "        </ul>\n",
              "      </nav>\n",
              "    </header>\n",
              "\n",
              "    <section id=\"types\">\n",
              "      <h2>Types of Networks</h2>\n",
              "      <p>Networks can be classified into different types such as LAN, WAN, MAN, PAN, etc.</p>\n",
              "    </section>\n",
              "\n",
              "    <section id=\"components\">\n",
              "      <h2>Components of a Network</h2>\n",
              "      <p>A network consists of various components like nodes, routers, modems, etc.</p>\n",
              "    </section>\n",
              "\n",
              "    <section id=\"uses\">\n",
              "      <h2>Uses of Networks</h2>\n",
              "      <p>Networks are used for various purposes including communication, data sharing, resource sharing, etc.</p>\n",
              "\n",
              "      Here is an image from Wikipedia. <img src = \"https://upload.wikimedia.org/wikipedia/commons/a/ab/Internet_of_Things.jpg\" width = 200>\n",
              "    </section>\n",
              "\n",
              "    <footer>\n",
              "      <p>Created for Brendan's Intro to CS Course</p>\n",
              "    </footer>\n",
              "  </body>\n",
              "</html>\n"
            ]
          },
          "metadata": {}
        }
      ]
    },
    {
      "cell_type": "markdown",
      "source": [
        "In this example:\n",
        "\n",
        "1.  Title Tag: The `<title>` tag in the head sets the title of the webpage that is shown in the browser tab as \"Introduction to Networks\".\n",
        "\n",
        "2.  Header Tag: The `<header>` tag is used for introductory content or navigation links. In this example, it contains a heading and a navigation bar with anchor links to different sections of the webpage.\n",
        "\n",
        "3.  H1 Tag: The `<h1>` tag defines the main heading of the webpage, which is \"Understanding Networks\" in this case.\n",
        "\n",
        "4.  Nav Tag and Unordered List: The `<nav>` tag is used to define a set of navigation links, and the `<ul>` tag defines an unordered list with `<li>` tags as list items. Each list item contains an anchor link (`<a>`) to the respective section.\n",
        "\n",
        "5.  Section Tag: The `<section>` tag defines a standalone section. Each section has a unique id that anchor links can refer to.\n",
        "\n",
        "6.  H2 Tag: The `<h2>` tag is used for subheadings, which in this case are \"Types of Networks\", \"Components of a Network\", and \"Uses of Networks\".\n",
        "\n",
        "7.  P Tag: The `<p>` tag defines a paragraph. Here, it's used to provide a brief description of each section's topic.\n",
        "\n",
        "8. img Tag: The `<img>` tag is used to display an image (in this case, one from Wikipedia).\n",
        "\n",
        "9.  Footer Tag: The `<footer>` tag is used to define the footer of a webpage. It can contain information like authorship, copyright information, contact information, etc.\n",
        "\n",
        "This is a basic example, and HTML provides many other elements to structure content in more complex and specific ways, including tags for images, tables, forms, and more. It also supports inline CSS and JavaScript to add style and functionality to the page."
      ],
      "metadata": {
        "id": "Z1v5c42twh_I"
      }
    },
    {
      "cell_type": "markdown",
      "source": [
        "## Styling with CSS\n",
        "CSS, which stands for Cascading Style Sheets, is a language that is used to describe how HTML elements on a web page should appear. While HTML provides the structure of web pages (i.e., it defines what elements are present on the page), CSS is used to control the layout and appearance of these elements. It can control things like the color of text, the style of fonts, the spacing between elements, how elements are positioned and laid out, as well as various visual effects.\n",
        "\n",
        "So, in essence, if HTML is the skeleton of the webpage, CSS would be its skin and clothing.\n",
        "\n",
        "Here's a very simple example of how CSS interacts with HTML:"
      ],
      "metadata": {
        "id": "ENFtx02MyU-z"
      }
    },
    {
      "cell_type": "code",
      "source": [
        "%%html\n",
        "\n",
        "<!DOCTYPE html>\n",
        "<html>\n",
        "  <head>\n",
        "    <style>\n",
        "      /* CSS goes here */\n",
        "      body {\n",
        "        background-color: lightblue;\n",
        "      }\n",
        "\n",
        "      h1 {\n",
        "        color: navy;\n",
        "        text-align: center;\n",
        "      }\n",
        "\n",
        "      p {\n",
        "        font-family: verdana;\n",
        "        font-size: 20px;\n",
        "        color: black;\n",
        "      }\n",
        "    </style>\n",
        "  </head>\n",
        "  <body>\n",
        "    <h1>Welcome to the Networks Page!</h1>\n",
        "    <p>This is a paragraph explaining something about networks.</p>\n",
        "  </body>\n",
        "</html>\n"
      ],
      "metadata": {
        "colab": {
          "base_uri": "https://localhost:8080/",
          "height": 107
        },
        "id": "wEkeQ73Ryfea",
        "outputId": "b6f2ceb5-49a4-482f-e6a1-079ee6d3b13f"
      },
      "execution_count": null,
      "outputs": [
        {
          "output_type": "display_data",
          "data": {
            "text/plain": [
              "<IPython.core.display.HTML object>"
            ],
            "text/html": [
              "\n",
              "<!DOCTYPE html>\n",
              "<html>\n",
              "  <head>\n",
              "    <style>\n",
              "      /* CSS goes here */\n",
              "      body {\n",
              "        background-color: lightblue;\n",
              "      }\n",
              "\n",
              "      h1 {\n",
              "        color: navy;\n",
              "        text-align: center;\n",
              "      }\n",
              "\n",
              "      p {\n",
              "        font-family: verdana;\n",
              "        font-size: 20px;\n",
              "        color: black;\n",
              "      }\n",
              "    </style>\n",
              "  </head>\n",
              "  <body>\n",
              "    <h1>Welcome to the Networks Page!</h1>\n",
              "    <p>This is a paragraph explaining something about networks.</p>\n",
              "  </body>\n",
              "</html>\n"
            ]
          },
          "metadata": {}
        }
      ]
    },
    {
      "cell_type": "markdown",
      "source": [
        "In this example, we've included CSS directly in our HTML document within the `<style>` tags in the `<head>` of the document.\n",
        "\n",
        "The CSS starts with a selector (`body`, `h1`, and `p` in this case), which is the HTML element that you want to style. The styles themselves are defined within curly brackets `{}`. For example, for the `body` selector, the style is `background-color: lightblue;`. This sets the background color of the entire webpage to light blue.\n",
        "\n",
        "Similarly, for the `h1` selector, we've set the text color to navy and centered the text. And for the `p` selector, we've set the font family (the type of font) to verdana, the font size to 20 pixels, and the color to black.In this example, we've included CSS directly in our HTML document within the `<style>` tags in the `<head>` of the document.\n",
        "\n",
        "The CSS starts with a selector (`body`, `h1`, and `p` in this case), which is the HTML element that you want to style. The styles themselves are defined within curly brackets `{}`. For example, for the `body` selector, the style is `background-color: lightblue;`. This sets the background color of the entire webpage to light blue.\n",
        "\n",
        "Similarly, for the `h1` selector, we've set the text color to navy and centered the text. And for the `p` selector, we've set the font family (the type of font) to verdana, the font size to 20 pixels, and the color to black."
      ],
      "metadata": {
        "id": "YWYAtv6ayuTa"
      }
    },
    {
      "cell_type": "markdown",
      "source": [
        "### Summary: Basic HTML tags\n",
        "| HTML Syntax | Task |\n",
        "| --- | --- |\n",
        "| `<b>apple</b>` | HTML: Print \"apple\" in bold |\n",
        "| `<img src=\"image.jpeg\" width=\"100\" height=\"100\"/>` | HTML: Include \"image.jpeg\" with size 100x100 |\n",
        "| `<a href=\"https://www.google.com\">Go to Google</a>` | HTML: Link to google.com with text \"Go to Google\" |\n",
        "| `<h1>Hello</h1>` | HTML: Create a header level 1 with text \"Hello\" |\n",
        "| `<p>This is a paragraph</p>` | HTML: Create a paragraph with text \"This is a paragraph\" |\n",
        "| `<ul><li>one</li><li>two</li></ul>` | HTML: Create an unordered list with \"one\" and \"two\" |\n",
        "| `<tr><td>Cell 1</td><td>Cell 2</td></tr>` | HTML: Create a table row with two cells |\n",
        "| `<i>italic text</i>` | HTML: Make text italic \"italic text\" |\n",
        "| `<hr/>` | HTML: Make a horizontal line |\n",
        "| `<head><title>My Title</title></head>` | HTML: Set the title of the document to \"My Title\" |\n",
        "| `<br/>` | HTML: Insert a line break |\n",
        "| `<div id=\"myDiv\"></div>` | HTML: Create a div with id \"myDiv\" |\n",
        "| `<span class=\"myClass\"></span>` | HTML: Create a span with class \"myClass\" |\n",
        "| `<body style=\"background-color:red;\"></body>` | HTML: Set the background color of a page to red |\n",
        "| `<p style=\"color:blue;\">Hello</p>` | HTML: Display \"Hello\" in a paragraph element with inline CSS for color blue |\n",
        "| `<a id=\"section1\"></a>` | HTML: Create an anchor tag with ID \"section1\" |\n",
        "| `<p style=\"color:green;\">This is green text</p>` | HTML: Change the color of text to green using inline CSS |\n",
        "| `<!-- This is a comment -->` | HTML: Include a comment |\n",
        "| `<form><input type=\"text\"/><input type=\"submit\"/></form>` | HTML: Create a form with a text input and submit button |"
      ],
      "metadata": {
        "id": "usJ59WlGxe1U"
      }
    },
    {
      "cell_type": "markdown",
      "source": [
        "## Exercise: Make a Webpage About You\n",
        "In Jupyter notebooks, you can use the `%%html` magic command to render cells as HTML (as we've done here). This is useful when you want to create rich, structured outputs or when you're learning and experimenting with HTML.\n",
        "\n",
        "To put your learning into practice, I'd like you to create a mock webpage about yourself in a new Jupyter notebook HTML cell. Here are the requirements:\n",
        "\n",
        "1.  Doctype and HTML structure: Ensure your document has a correct HTML5 doctype and includes `<html>`, `<head>`, and `<body>` elements.\n",
        "\n",
        "2.  Title: Add a relevant title to your page using the `<title>` tag inside the `<head>`.\n",
        "\n",
        "3.  CSS Styles: Include some CSS in a `<style>` tag within your `<head>` to style your page. Try to include at least 3 different CSS properties.\n",
        "\n",
        "4.  Heading: Include a main heading for your page using the `<h1>` tag.\n",
        "\n",
        "5.  Paragraphs: Include at least two paragraphs of text using the `<p>` tag.\n",
        "\n",
        "6.  List: Create a list (ordered or unordered) of at least 3 items using the `<ul>` or `<ol>` tags and `<li>` for each item.\n",
        "\n",
        "7.  Image: Add an image using the `<img>` tag. You can link to any online image URL for this exercise.\n",
        "\n",
        "8.  Link: Add a hyperlink to an external website using the `<a>` tag. Make the link open in a new tab using the attribute `target=\"_blank\"`.\n",
        "\n",
        "9.  Bold and Italic Text: Use the `<b>` and `<i>` tags to make some text bold and some text italic in your paragraphs.\n",
        "\n",
        "10. Table: Create a simple table that includes at least 2 columns and 2 rows using `<table>`, `<tr>`, and `<td>` tags.\n",
        "\n",
        "Remember to start the cell with the `%%html` magic command so that Jupyter renders it as an HTML cell. And most importantly, have fun and be creative with it!"
      ],
      "metadata": {
        "id": "OTdA9EaDznki"
      }
    },
    {
      "cell_type": "code",
      "source": [
        "%%html\n",
        "<!-- Your webpage goes here -->\n"
      ],
      "metadata": {
        "id": "YLPBMcBIvE2q"
      },
      "execution_count": null,
      "outputs": []
    },
    {
      "cell_type": "markdown",
      "source": [
        "## Review with Quizlet\n",
        "The following set of cards covers important terms/concepts, as well as basic HTML tags."
      ],
      "metadata": {
        "id": "KS8fi9g4BdGJ"
      }
    },
    {
      "cell_type": "code",
      "source": [
        "%%html\n",
        "<iframe src=\"https://quizlet.com/817160001/learn/embed?i=psvlh&x=1jj1\" height=\"600\" width=\"100%\" style=\"border:0\"></iframe>"
      ],
      "metadata": {
        "id": "tOxVgjS1BoXH",
        "outputId": "6f2617d8-02fc-4d57-94ca-50b2c9e8ceb2",
        "colab": {
          "base_uri": "https://localhost:8080/",
          "height": 622
        }
      },
      "execution_count": null,
      "outputs": [
        {
          "output_type": "display_data",
          "data": {
            "text/plain": [
              "<IPython.core.display.HTML object>"
            ],
            "text/html": [
              "<iframe src=\"https://quizlet.com/817160001/learn/embed?i=psvlh&x=1jj1\" height=\"600\" width=\"100%\" style=\"border:0\"></iframe>\n"
            ]
          },
          "metadata": {}
        }
      ]
    },
    {
      "cell_type": "markdown",
      "source": [
        "## Glossary\n",
        "| Term | Definition |\n",
        "| --- | --- |\n",
        "| Computer Network | A group of interconnected computers that allow for communication and data sharing between them. It facilitates the sharing of resources and information. |\n",
        "| Wide Area Network (WAN) | A network that spans a large geographical area, often a country or continent. It's often used to connect different local networks, allowing devices and users in one location to communicate with devices and users in another. |\n",
        "| Local Area Network (LAN) | A network that connects computers or devices in a relatively small area, such as a home, school, or office building. It's often used to share resources like files, printers, and games. |\n",
        "| Network Protocol | The rules or standard procedures that define how data is transmitted over a network. These rules dictate the way that data packets are sent, received, and responded to. |\n",
        "| TCP-IP Model | A way of analyzing networks divided into four layers: the Network Interface, Internet, Transport, and Application layers. |\n",
        "| Application Layer | The topmost layer in the TCP/IP model which interfaces directly with the applications we use to communicate over the network. Important protocols include HTTP, FTP, and SMTP. It's where user-provided data is managed and prepared for transport. |\n",
        "| Transport Layer | The layer in the TCP/IP model that's responsible for the end-to-end communication over the network. It manages the assembly and reassembly of data packets, error-checking, and flow control. Two primary protocols are TCP (Transmission Control Protocol) and UDP (User Datagram Protocol). |\n",
        "| Internet Layer | The second layer in the TCP/IP model. It's responsible for packet routing, IP addressing, and handling network connections. |\n",
        "| Network Interface Layer | THe lowest layer in the TCP/IP mode, concerned with how data frames are physically sent |\n",
        "| Network Interface Card (NIC) | A hardware component, also known as a network adapter, that enables a computer to connect to a network. It converts the data from the computer into a format suitable for the network cable and controls the data transfer to and from the computer. |\n",
        "| MAC Address | A unique identifier assigned to a Network Interface Card (NIC) by the manufacturer. It's used to identify devices at the physical layer in a network. MAC stands for Media Access Control. |\n",
        "| Router | A device that forwards data packets along networks. It connects at least two networks, commonly LANs or WANs, and is located at gateways, the places where two or more networks connect. |\n",
        "| Switch | A networking device that connects devices together on a computer network by using packet switching to receive, process, and forward data to the destination device. Unlike a hub, a switch only sends data to the device that it is intended for. |\n",
        "| Modem | A device that modulates an analog carrier signal to encode digital information, and also demodulates such a carrier signal to decode the transmitted information. It enables a computer to transmit data over telephone or cable lines. |\n",
        "| Network Port | An endpoint in communications, representing a specific process to which an internet or other network message is directed when it reaches a server. |\n",
        "| HTTP | The standard protocol used to transfer hypertext over the World Wide Web. It prescribes how messages are structured, transmitted, and responded to by web servers and browsers. |\n",
        "| Internet | A global system of interconnected networks using TCP/IP protocols to facilitate worldwide device linking. It serves as a platform for various information and communication facilities, including the World Wide Web. |\n",
        "| Domain Name System (DNS) | The technology that converts human-friendly domain names into numerical IP addresses, which are required for computer services and devices worldwide. |\n",
        "| Internet Cookie | A small data file stored on a user's computer by a web browser while visiting a website. It retains stateful information and tracks the user's site navigation. |\n",
        "| Transmission Control Protocol (TCP) | Part of the TCP/IP protocol suite that ensures data packets are delivered in sequence from source to destination. TCP includes error-checking to prevent data loss, making it essential for tasks where reliability is vital. |\n",
        "| User Datagram Protocol (UDP) | A communication protocol that allows data packet dispatch before the connection is verified, providing speed at the expense of reliability. Often used for fast-paced activities, such as streaming media or online gaming. |\n",
        "| Internet Protocol (IP) | The rule set governing how data is sent and received over the internet. It provides a unique identification system for machines on a network, via IP addresses. |\n",
        "| IPv4 | Fourth version of the IP, serving as the foundation of internet data communication. Its 32-bit addressing system allows approximately 4.3 billion unique addresses. |\n",
        "| IPv6 | The most recent version of the IP, designed to replace IPv4 due to exhaustion of addresses. It uses 128-bit addressing, providing a virtually limitless number of unique addresses. |\n",
        "| Hypertext Markup Language (HTML) | A standard markup language used to structure web pages and web applications. Used in conjunction with CSS and JavaScript, it enables the creation of page layouts, styles, and interactive features. |\n",
        "| Cascading Style Sheet (CSS) | A language responsible for defining the look and formatting of a document written in HTML. It stipulates styles, design, layout and variations in display for different devices and screen sizes. |"
      ],
      "metadata": {
        "id": "94QsW8PqlVe7"
      }
    },
    {
      "cell_type": "code",
      "source": [],
      "metadata": {
        "id": "F1FrsuyQlXoj"
      },
      "execution_count": null,
      "outputs": []
    }
  ]
}