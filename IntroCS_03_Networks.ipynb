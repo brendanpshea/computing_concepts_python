{
  "nbformat": 4,
  "nbformat_minor": 0,
  "metadata": {
    "colab": {
      "provenance": [],
      "authorship_tag": "ABX9TyNK2xf4g66YeQnvNkH+D+d6",
      "include_colab_link": true
    },
    "kernelspec": {
      "name": "python3",
      "display_name": "Python 3"
    },
    "language_info": {
      "name": "python"
    }
  },
  "cells": [
    {
      "cell_type": "markdown",
      "metadata": {
        "id": "view-in-github",
        "colab_type": "text"
      },
      "source": [
        "<a href=\"https://colab.research.google.com/github/brendanpshea/computing_concepts_python/blob/main/IntroCS_03_Networks.ipynb\" target=\"_parent\"><img src=\"https://colab.research.google.com/assets/colab-badge.svg\" alt=\"Open In Colab\"/></a>"
      ]
    },
    {
      "cell_type": "markdown",
      "source": [
        "# Computer Networking\n",
        "### Computing Concepts with Python | Brendan Shea, PhD (Brendan.Shea@rctc.edu)\n",
        "In the simplest terms, a **network** is a collection of devices that are interconnected and can communicate with each other. These devices can range from computers, laptops, and smartphones to printers, servers, or even IoT devices like smart fridges or thermostats. The purpose of this connection is to share and exchange information and resources.\n",
        "\n",
        "A network allows for the sharing of data and resources, such as files, applications, or even hardware like printers, in a much more efficient and collaborative manner than would be possible without the network. For example, instead of storing a file on a USB drive and physically carrying it to another computer, a network allows you to send the file directly, saving time and effort.  \n",
        "\n",
        "In this chapter, you'll learn to do the following when it comes to networks:\n",
        "\n",
        "1.  Define what a computer network is and differentiate between Local Area Networks (LANs) and Wide Area Networks (WANs).\n",
        "2.  Explain the four layers of the TCP/IP network model (Application, Transport, Internet, and Network Interface) and describe the role and key protocols of each layer.\n",
        "3.  Understand how data is routed across the internet using IP addresses and the role of the Domain Name System (DNS) in translating domain names to IP addresses.\n",
        "4.  Compare and contrast the Transmission Control Protocol (TCP) and User Datagram Protocol (UDP), and explain when each might be used.\n",
        "5.  Create a basic webpage using HTML, including elements such as headings, paragraphs, lists, images, links, and tables.\n",
        "6.  Apply basic CSS styling to an HTML webpage, using properties like color, font, alignment, margins, and padding."
      ],
      "metadata": {
        "id": "AdJbV1HdUejt"
      }
    },
    {
      "cell_type": "markdown",
      "source": [
        "## Brendan's Lecture\n",
        "Run the following cell to view my lecture for this chapter."
      ],
      "metadata": {
        "id": "6DsOeA1PXwOM"
      }
    },
    {
      "cell_type": "code",
      "source": [
        "from IPython.display import YouTubeVideo\n",
        "YouTubeVideo('TnlSLCrbORc', width=800, height=500)"
      ],
      "metadata": {
        "id": "a-1uDblNX2u7",
        "outputId": "be06ca15-65a3-441f-815c-fb761003754f",
        "colab": {
          "base_uri": "https://localhost:8080/",
          "height": 522
        }
      },
      "execution_count": null,
      "outputs": [
        {
          "output_type": "execute_result",
          "data": {
            "text/plain": [
              "<IPython.lib.display.YouTubeVideo at 0x7ee14abbee90>"
            ],
            "text/html": [
              "\n",
              "        <iframe\n",
              "            width=\"800\"\n",
              "            height=\"500\"\n",
              "            src=\"https://www.youtube.com/embed/TnlSLCrbORc\"\n",
              "            frameborder=\"0\"\n",
              "            allowfullscreen\n",
              "            \n",
              "        ></iframe>\n",
              "        "
            ]
          },
          "metadata": {},
          "execution_count": 1
        }
      ]
    },
    {
      "cell_type": "markdown",
      "source": [
        "### BrendyBot is Here to Answer Your Questions\n",
        "![image.png](https://github.com/brendanpshea/colab-utilities/raw/main/brendy_bot_pic.png)\n",
        "\n",
        "If you have questions about the content of this chapter, you can try out \"BrendyBot\", an AI chat bot I've trained on the lecture notes for this class (note that BrendyBot is stil experimental, and can definitley make mistakes!).\n",
        "\n",
        "https://poe.com/BrendyBot"
      ],
      "metadata": {
        "id": "mijYCpZ0q_5l"
      }
    },
    {
      "cell_type": "markdown",
      "source": [
        "## Types of Networks\n",
        "There are two primary types of networks: Local Area Networks (LANs) and Wide Area Networks (WANs).\n",
        "\n",
        "- A **Local Area Network (LAN)** is a network that connects devices in a relatively small area, such as a home, office, or a group of buildings. These networks are typically owned, controlled, and managed by a single person or organization.\n",
        "\n",
        "- On the other hand, a **Wide Area Network (WAN)** covers a large geographical area and connects multiple LANs together. The **internet** is the most prominent example of a WAN, which is a global network of networks.\n",
        "\n",
        "Networks can also be classified based on their design approach: **Peer-to-peer (P2P) networks**, where each device has equivalent responsibilities and capabilities, or **client-server networks**, where some computers (servers) provide services, and others (clients) use those services.\n",
        "\n",
        "Finally, Networks operate based on established rules and **protocols**, which define how the devices should transmit and receive data. These protocols ensure that networks across the globe can communicate with each other seamlessly, leading to the interconnected world we live in today. In this lesson, you'll learn some of the most important of these protocols, including the the Internet Protocol (IP), Tranmission Control Protocol (TCP), and Hypertext Transport Protocol (HTTP)."
      ],
      "metadata": {
        "id": "Wyx6NOLrhWhE"
      }
    },
    {
      "cell_type": "markdown",
      "source": [
        "## Applying the Application Layer: Protocols and Ports\n",
        "The Application Layer, the topmost layer of the four-layer network model, encompasses protocols that users often interact with directly, albeit behind the scenes of user-friendly applications. These protocols enable activities like web browsing, email communication, and file transfers. Critical to the functioning of these protocols is the concept of \"ports.\"\n",
        "\n",
        "In the context of networking, a **port** is a virtual point where network connections start and end. Ports are associated with specific processes or services in a system, and each service has a unique port number. Port numbers help the system identify the correct application or service for which the data is intended. Essentially, they are like apartment numbers in a large building, ensuring the mail (or data) gets to the correct resident (or application).\n",
        "\n",
        "Some port numbers are reserved for specific services as per the Internet Assigned Numbers Authority (IANA). These are known as well-known port numbers, ranging from 0 to 1023. Here are a few examples:\n",
        "\n",
        "| Name | Port Number | Description |\n",
        "| --- | --- | --- |\n",
        "| HTTP | 80 | Hypertext Transfer Protocol, used for transferring web content. |\n",
        "| HTTPS | 443 | HTTP Secure, a secure version of HTTP for sensitive information. |\n",
        "| FTP | 20, 21 | File Transfer Protocol, used for transferring files between hosts. Port 20 is for data transfer and port 21 for command control. |\n",
        "| SMTP | 25 | Simple Mail Transfer Protocol, used for sending emails. |\n",
        "| IMAP | 143 | Internet Message Access Protocol, used for receiving emails. |\n",
        "| POP3 | 110 | Post Office Protocol 3, also used for receiving emails. |\n",
        "| DNS | 53 | Domain Name System, translates URLs into IP addresses. |\n",
        "| SSH | 22 | Secure Shell, used for secure access to remote computers. |\n",
        "| Telnet | 23 | Telnet, a protocol used for interacting with remote computers. |\n",
        "| RDP | 3389 | Remote Desktop Protocol, used for remote desktop connections. |\n",
        "| SQL | 1433 | SQL Server, used for database management systems. |\n",
        "\n",
        "THese are just a few of the hundreds of ports. You can find out more at https://en.wikipedia.org/wiki/List_of_TCP_and_UDP_port_numbers."
      ],
      "metadata": {
        "id": "kNSsN4ThbJ50"
      }
    },
    {
      "cell_type": "markdown",
      "source": [
        "## Intro to the TCP/IP Network Model\n",
        "\n",
        "In computer networking, it's essential to have a clear understanding of how data is transmitted from one device to another. Just like sending a letter, there are several steps involved in the process, and each step plays a crucial role in ensuring that the data reaches its intended destination. To simplify this complex process, network models were developed. These models break down the communication process into layers, each with its own set of responsibilities. Here, we'll explore the  TCP/IP (\"four-layer network\") model, using the analogy of Wesley writing a letter to Buttercup (from the *Princess Bride*).\n",
        "\n",
        "The four-layer network model consists of the following layers: Application, Transport, Network, and (Data) Link. Let's dive into each layer and see how they relate to our letter-sending analogy.\n",
        "\n",
        "The **Application Layer** is the topmost layer of the four-layer network model. It is responsible for providing services to the user and defining how the user interacts with the data. In our analogy, this layer represents Wesley composing the letter to Buttercup. Wesley is using a specific format (e.g., a love letter) and language (e.g., English) to express his message. Some key terms associated with this layer include:\n",
        "\n",
        "-   A **protocol** is a set of rules governing the format and meaning of the data being transmitted. In our example, the protocol could be the specific way Wesley writes his love letter (e.g., starting with \"My dearest Buttercup,\"). In the world of computers, it might HTTP (for websites), IMAP or POP (for mail), or others.\n",
        "-   An **application** is the the software that generates the data to be transmitted. In this case, it could be a word processor Wesley uses to write the letter. In computer networks, this might be a web browers (like Chrome, Safari, or Firefox), a web server (like Apache), an email client (Outlook), etc.\n",
        "\n",
        "The **Transport Layer** is responsible for ensuring reliable data transfer between the source and the destination. It breaks the data into smaller, manageable pieces called **segments** and reassembles them at the receiving end. This layer also provides two main protocols: TCP (Transmission Control Protocol) and UDP (User Datagram Protocol).\n",
        "\n",
        "- **TCP** is like sending a letter via registered mail. When Wesley sends his letter using TCP, he expects an acknowledgment from Buttercup that she has received the letter. If Wesley doesn't receive the acknowledgment, he will resend the letter until he gets confirmation. TCP ensures reliable data delivery, error correction, and flow control. In the world of computers, this is what we use for things like web pages and email (where we care a lot about seeing *accurate* text).\n",
        "- On the other hand, **UDP** is like sending a postcard. When Wesley sends his message using UDP, he doesn't expect an acknowledgment from Buttercup. UDP is faster than TCP but does not guarantee reliable delivery or error correction. In computer networks, we use this for things like streaming video (where we are willing to sacrifice accuracy for speed).\n",
        "- **Ports** play a crucial role in allowing the Transport Layer to \"communicate with\" the application layer. They are like mailboxes for different applications. Each application on a device is assigned a unique port number. In our analogy,  maybe Wesley draws \"heart\" on his letter to let Buttercup know what \"type\" of letter it is, and maybe a bit about where and when she should open it. By contrast, she might approach an envelope that appears to contain legal documents quite differently! This process allows multiple applications to run simultaneously on a single device without confusion.\n",
        "\n",
        "The **Network Layer**  is responsible for addressing and routing the data packets across different networks. It ensures that the data reaches its intended destination by using logical addresses (IP addresses). In our analogy, this layer represents Wesley writing Buttercup's address on the envelope and handing it over to the postal service. The postal service then uses the address to determine the best route for the letter to reach Buttercup. Key terms include:\n",
        "\n",
        "-   An **IP Address** is a unique identifier assigned to each device on a network, similar to a postal address.\n",
        "-   **Routing** is the process of determining the best path for data to travel from source to destination.\n",
        "-   A **packet** is a unit of data that includes both the data itself and the necessary addressing information.\n",
        "\n",
        "The **Data Link Layer**  is responsible for the reliable transfer of data between two directly connected devices. It encapsulates the packets into frames and handles error detection and correction. In our analogy, this layer represents the postal service physically delivering the letter to Buttercup's mailbox. Key terms include:\n",
        "\n",
        "-   A **frame** is the basic unit of data transfer at the Link Layer, which includes the packet and additional header information.\n",
        "-   A **MAC Address** is a unique identifier assigned to each network interface card (NIC) in a device, used for communication within a single network segment.\n",
        "-   **Error detection** is the process of identifying and correcting errors that may occur during data transmission.\n",
        "\n",
        "When the letter reaches Buttercup's device, it goes back \"up\" the four-layer network model, from the data link layer (receiving the letter), network layer (reading the address and finding it is from Wesley), transport layer (seeing whether she needs to send a return receipt, and figuring what \"type\" of letter it will be) to application layer (reading the letter and responding."
      ],
      "metadata": {
        "id": "VYHtPbu_nIB0"
      }
    },
    {
      "cell_type": "markdown",
      "source": [
        "## Graphic: Network Communication\n",
        "![image.png](data:image/png;base64,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)"
      ],
      "metadata": {
        "id": "AaZ_HWnny4Sl"
      }
    },
    {
      "cell_type": "markdown",
      "source": [
        "### HTTP: An Application-Layer Protocol for the World Wide Web\n",
        "\n",
        "The **Hyptertext Transport Protocol (HTTP)** in an application-layer protocolinvented by Tim Berners-Lee, the creator of the World Wide Web, and his team at CERN in 1989. The purpose of HTTP is to allow the fetching of resources, such as HTML documents, images, and videos, from servers and displaying them on a client's browser. Essentially, HTTP is the protocol that enables communication between web browsers (clients) and web servers, allowing us to surf the internet.\n",
        "\n",
        "HTTP is critically important because it forms the foundation of any data exchange on the web. It's not an exaggeration to say that almost every action you perform on the internet---from clicking a link, to typing a URL into your browser's address bar, to submitting a form on a webpage---starts an HTTP request.\n",
        "HTTP is based on the request-response model. That means the communication usually begins with a client (for instance, your browser) making a request to a server. The server, upon receiving this request, processes it and sends a response back to the client.  Here's a simplified step-by-step breakdown of how this works:\n",
        "\n",
        "1.  *The Client Sends a Request.* Let's say you want to visit `www.example.com`. When you type this URL into your browser and hit Enter, your browser starts an HTTP request. This request is a message which includes information like the desired action (often \"GET\" to fetch data, though there are other methods), the URL, and the HTTP version.\n",
        "\n",
        "2.  *The Server Processes the Request.* The HTTP request message is received by the web server hosting `www.example.com`. The server processes the request, interpreting what resources are asked for and what action the client wants to perform.\n",
        "\n",
        "3.  *The Server Sends a Response.* After processing, the server forms an HTTP response and sends it back to the client. This response includes a status code that indicates whether the request was successful (for example, \"200\" for success) or if there were any errors (for example, \"404\" means the requested page was not found). Along with the status code, if the request was successful, the server includes the requested resource in the response---for instance, the HTML of a web page.\n",
        "\n",
        "4.  *The Client Displays the Response.* Once your browser receives the HTTP response, it interprets the data and renders the web page on your screen. If the requested resource is an HTML file, the browser reads the HTML, CSS, and JavaScript, fetches any necessary additional files (like images), and displays the formatted page for you to view.\n",
        "\n",
        "Remember, this is a simplified explanation. In reality, there's a lot more complexity involved, including things like HTTP headers for transmitting metadata, cookies for maintaining state, and HTTPS for securing communications. But at its heart, HTTP is about sending a request from a client to a server, and returning a response from the server back to the client. This basic model underlies much of the activity on the internet."
      ],
      "metadata": {
        "id": "jh4LquZ9dI9R"
      }
    },
    {
      "cell_type": "markdown",
      "source": [
        "## Two Ways to Transport Data (TCP and UDP)\n",
        "\n",
        "The Transport Layer is essential for network communication, facilitating end-to-end services between applications. It ensures reliable and transparent data transfer between end systems (hosts) through protocols like **TCP (Transmission Control Protocol)** and **UDP (User Datagram Protocol).**\n",
        "\n",
        "TCP is all about reliable and orderly delivery of data packets. It's like a tracked mail service - you know your data will get there and in the order you sent it. Key features of TCP include reliable transmission (it retransmits lost or corrupted packets), flow control (managing the data transfer rate to avoid overwhelming the receiver), ordered delivery (rearranging packets that arrive out of order), and congestion control (preventing traffic bottlenecks).\n",
        "\n",
        "UDP, on the other hand, is simpler and connectionless. It's like sending a letter without tracking - faster but without guarantees of delivery or order. UDP doesn't provide TCP's reliability mechanisms, making it faster and suitable for applications where speed is more critical than precision, like live broadcasts or online games.\n",
        "\n",
        "Both TCP and UDP use port numbers to direct data to the correct application on a network device. Key features of these protocols include:\n",
        "\n",
        "| Feature | TCP | UDP |\n",
        "| --- | --- | --- |\n",
        "| Connection | Connection-oriented (requires connection setup) | Connectionless (no setup required) |\n",
        "| Reliability | Ensures data delivery and order | Does not guarantee delivery or order |\n",
        "| Speed | Slower due to reliability mechanisms | Faster due to lack of overhead |\n",
        "| Data Flow Control | Includes flow and congestion control mechanisms | No flow control, open to congestion |\n",
        "| Use Cases | Ideal for applications requiring reliability, such as web browsing, email | Suited for real-time applications, like gaming, streaming |\n",
        "| Header Size | Larger headers due to control information | Smaller headers, leading to less overhead |"
      ],
      "metadata": {
        "id": "5muJO23HeYzc"
      }
    },
    {
      "cell_type": "markdown",
      "source": [
        "## How the Internet Protocol (IP) Enables Global Connectivity\n",
        "The Internet Layer, also known as the network layer, is responsible for receiving segments from the Transport Layer and packaging them into packets. But perhaps its most significant role is addressing, routing, and forwarding these packets to allow communication between networks, hence facilitating global connectivity. Let's dive into this.\n",
        "\n",
        "1. At the heart of this process is the **Internet Protocol (IP)**, which defines the system of IP addresses. An IP address is a unique identifier assigned to each device connected to a network that uses IP for communication. There are two types of IP addresses: IPv4 and IPv6. **IPv4 addresses** are composed of four sets of numbers, each ranging from 0 to 255, separated by periods (e.g., 192.168.1.1). **IPv6 addresses**, which are being more widely used due to the exhaustion of IPv4 addresses, are composed of eight groups of four hexadecimal digits, separated by colons (e.g., 2001:0db8:85a3:0000:0000:8a2e:0370:7334).  Each IP address in an IP network must be unique within that network.\n",
        "\n",
        "2. The Internet Layer is also responsible for routing data packets to their destinations using IP addresses. Each **router** connected to the network has a table known as the **routing table** that stores routes (paths) to different network destinations. It uses these tables to decide the best path for forwarding the packets.  When a data packet is sent from one network to another, it usually passes through several routers. Each router examines the IP address of the packet's destination and consults its routing table to decide which way to send the packet. The packet is forwarded from router to router along the path until it reaches its destination network.\n",
        "\n",
        "3. The process of sending the packets from one network to another, as decided by the routers, is known as **forwarding**. The routers at the boundary of each network are responsible for forwarding the packets to the next network on the path to the destination.\n",
        "\n",
        "4. Each device connected to a network receives an IP address, which can be either public or private. A **public IP address** is a globally unique address that is assigned to a device, like a router, that connects directly to the internet. These addresses are used across the entire internet to locate networked devices. **Private IP addresses**, on the other hand, are used within private networks such as home, office, or enterprise networks. These addresses are not routable on the open internet and therefore provide a layer of security by inherently hiding the networked device from the world. Common private IPv4 address ranges include 10.0.0.0 to 10.255.255.255, 172.16.0.0 to 172.31.255.255, and 192.168.0.0 to 192.168.255.255.\n",
        "\n",
        "\n",
        "The combination of unique IP addressing and the capability of IP routing and forwarding enables global connectivity. Regardless of the network, each device can send packets to any other device in the world, as long as they are both connected to the internet. The packets are routed through various networks and routers on their journey, each hop getting them closer to their destination, until they ultimately reach the correct device."
      ],
      "metadata": {
        "id": "p2XEwncVgHak"
      }
    },
    {
      "cell_type": "markdown",
      "source": [
        "### A Little History of the Internet\n",
        "The internet is a \"network of networks\" that allows computers all around the world to communicate with each other. Initially created for academic and military purposes, it has become an essential tool for billions of people and has influenced almost every aspect of modern life. Here are a few of the major milestones.\n",
        "\n",
        "\n",
        "| Time Period | Development/Technology | Description/Significance |\n",
        "| --- | --- | --- |\n",
        "| 1960s | ARPANET | The Advanced Research Projects Agency Network (ARPANET) was the first major packet-switching network, laying the groundwork for future internet development. |\n",
        "| 1971 | Email | Ray Tomlinson introduces email, revolutionizing communication over networks. |\n",
        "| 1974 | TCP/IP | Development of Transmission Control Protocol (TCP) and Internet Protocol (IP), foundational protocols for data transmission on the internet. |\n",
        "| 1980s | Domain Name System (DNS) | DNS is introduced for translating domain names into IP addresses, making the internet more user-friendly. |\n",
        "| 1989 | World Wide Web (WWW) | Tim Berners-Lee invents the World Wide Web, a system for accessing and sharing information over the internet, using Hypertext Transfer Protocol (HTTP). |\n",
        "| Early 1990s | Web Browsers | The introduction of web browsers like Mosaic, later Netscape, simplifies access to the Web, leading to widespread public use. |\n",
        "| Mid 1990s | Commercialization of the Internet | The internet transitions from a research and academic network to a commercial and public service. |\n",
        "| Late 1990s | Search Engines | Development of search engines like Google revolutionizes information retrieval on the internet. |\n",
        "| Early 2000s | Broadband Expansion | The expansion of broadband internet increases speed and accessibility, enabling more sophisticated online services. |\n",
        "| Mid 2000s | Social Media | The rise of social media platforms like Facebook and Twitter changes the way people communicate and consume information online. |\n",
        "| Late 2000s to 2010s | Cloud Computing and Mobile Internet | Cloud computing services become mainstream; the proliferation of smartphones leads to the widespread adoption of mobile internet. |\n",
        "| 2010s | Internet of Things (IoT) | The expansion of IoT connects a wide range of devices to the internet, further integrating digital technology into everyday life. |\n",
        "| 2010s - 2020s | Artificial Intelligence and Big Data | Advances in AI and big data analytics transform how data is processed and used on the internet, impacting various sectors from healthcare to commerce. |\n",
        "| 2020s | 5G Technology | Deployment of 5G networks promises faster speeds, lower latency, and supports the growing demand for IoT and mobile internet. |\n",
        "\n",
        "\n",
        "The table highlights key milestones in internet development, showcasing its evolution from a research project to a global communications and information platform. Each decade brought significant innovations, from fundamental protocols to user-friendly interfaces, commercialization, information retrieval, social interaction, and ever-increasing connectivity. Today, AI and big data are shaping the future, while 5G promises to unlock further possibilities for the internet's impact on everyday life."
      ],
      "metadata": {
        "id": "qGQ50AgoldlX"
      }
    },
    {
      "cell_type": "markdown",
      "source": [
        "## Network Interace (\"Data Link\") Layer\n",
        "The **Network Interface Layer**, also known as the Link or Data Link Layer, is the layer that interfaces directly with the physical network. It forms the bridge between the logical aspect of network communication, handled by the layers above it, and the physical reality of transmitting and receiving data over hardware.\n",
        "\n",
        "Imagine you're sending a letter to a friend. You have your message ready, but you can't just hand your words over to the mail carrier. You need to put your message inside an envelope with your friend's address on it and your return address. The envelope is akin to a \"frame\" in network terms. Just like the envelope encapsulates your letter, a frame encapsulates the data to be transmitted over the network. Each frame includes not just the data, or \"payload\", but also source and destination addresses, as well as other control information to ensure successful transmission.\n",
        "\n",
        "Imporant technologies and protocols include:\n",
        "\n",
        "| Technology/Protocol | Description and Role |\n",
        "| --- | --- |\n",
        "| Ethernet | This is used in wired networks to connect devices like computers. It puts data into a format (called frames) for sending over cables. These frames include addresses to identify each device, the data being sent, and checks for errors. |\n",
        "| Wi-Fi (IEEE 802.11) | Similar to Ethernet, but for wireless networks. It sends data over air using radio signals. Just like Ethernet, it uses frames with addresses and data, but it also has special ways to deal with many devices using the same air space. |\n",
        "| MAC Addresses | These are unique numbers for every device in a network, like an ID card for each computer or phone. They help make sure the data sent over a network reaches the right device. |\n",
        "| Switches and Bridges | These are like traffic officers for networks. They look at the addresses on data and decide where to send it in the network, making sure data goes to the right device. |\n",
        "| ARP (Address Resolution Protocol) | This is used when a device knows the IP address (like a postal address for the internet) of another device but needs to find out its MAC address (the device's unique ID). |\n",
        "| PPP (Point-to-Point Protocol) | A method for connecting two network devices directly, like a direct phone call between two computers. It wraps up data in a special way so it can be sent over these direct connections. |\n",
        "| Frame Relay | This is a way to send data quickly over a network, especially used in big telecommunications networks. It chops data into pieces and sends them in an efficient way to speed up delivery. |\n",
        "| VLANs (Virtual Local Area Networks) | This technology divides a big network into smaller, separate networks. This helps manage the network better and can keep certain data more secure. |\n",
        "\n",
        "These technologies and protocols work in tandem to ensure that data is correctly packaged into frames, sent over the physical network, and accurately delivered to the right device. This process begins with encapsulating data in Ethernet or Wi-Fi frames, which include the MAC addresses of the sending and receiving devices. If the MAC address of the receiving device isn't known, ARP is used to find it. Switches or bridges then forward these frames to the right destination within the network"
      ],
      "metadata": {
        "id": "JmGrjBsmt62p"
      }
    },
    {
      "cell_type": "markdown",
      "source": [
        "## Case Study: the Network Ninja\n",
        "\n",
        "In the digital dojo of \"Shadow Strike: Ninja Networks,\" players are not only mastering ancient ninja arts but also navigating the complex world of network communications. Join Network Ninja and Network Novice as they slice through the complexities of the four-layer Network Model, using \"Shadow Strike: Ninja Networks\" as their guide.\n",
        "\n",
        "* * * * *\n",
        "\n",
        "Network Novice: Absolutely, Ninja! But networking stuff confuses me. How does our game actually connect and play so smoothly?\n",
        "\n",
        "Network Ninja: Let's break it down using the four-layer Network Model. Imagine each layer as a different ninja skill level.\n",
        "\n",
        "### Level 1: Link Layer - \"The Hardware Connection\"\n",
        "\n",
        "Network Ninja: First up is the Link Layer. Think of it as your game console connecting to the internet. At the Link Layer, your device connects to the internet. This involves physical and logical network protocols. When your Android device connects via Wi-Fi, it uses the IEEE 802.11 protocol. Your phone's Network Interface Card (NIC) gets a unique MAC address, which acts like a ninja's unique identifier. This layer ensures that data is properly formatted for the physical network.\n",
        "\n",
        "Network Novice: Got it! My phone's Wi-Fi connects to the router, like hooking up to the ninja network.\n",
        "\n",
        "### Level 2: Internet Layer - \"The Pathfinding Ninja\"\n",
        "\n",
        "Network Ninja: Next, the Internet Layer. Here's where IP addresses come in. Think of IP addresses as the exact location of a ninja clan within the village. When you play \"Shadow Strike,\" data packets are sent from your device's IP address to the server's IP address. This layer uses routing protocols to determine the most efficient path for the data, navigating through the complex web of the internet, much like a ninja navigating through a forest.\n",
        "\n",
        "Network Novice: So, it's like sending a ninja scroll to a specific location in the village. But how does it find the fastest route?\n",
        "\n",
        "Network Ninja: Exactly! The Internet Layer figures out the most efficient path for your data packets, just like a ninja choosing the quickest rooftops to leap across.\n",
        "\n",
        "### Level 3: Transport Layer - \"The Trustworthy Courier\"\n",
        "\n",
        "Network Ninja: The Transport Layer is crucial for how data packets are handled. Here, TCP and UDP come into play. TCP is like a reliable ninja who ensures that every part of your secret message is received and in the correct order. It's used for aspects of the game where reliability is key, like loading player profiles or in-game purchases.\n",
        "\n",
        "Network Novice: What about UDP? How does it fit into our game?\n",
        "\n",
        "Network Ninja: UDP is the agile messenger. It's faster because it doesn't confirm the delivery of packets or worry about their order. This is great for real-time game actions where speed is more critical than ensuring every single packet arrives. It's like sending smoke signals instead of detailed letters – quick but with less information.\n",
        "\n",
        "### Level 4: Application Layer - \"The Art of Shadow Strike\"\n",
        "\n",
        "Network Ninja: Finally, the Application Layer is where \"Shadow Strike: Ninja Networks\" lives. This is all about the specific software - our game - that you're interacting with. Here, Application-layer protocols like HTTP (for web-based game services) and custom protocols for the game itself operate. Port numbers are crucial; they direct your connection to the specific service in the vast internet world. Imagine port numbers as doors to different rooms in a ninja mansion, each leading to a different activity or game. Our game might use a specific port, like 5555, to differentiate its traffic from other internet services.\n",
        "\n",
        "Network Novice: So, when I connect to the game, my device uses this port number to reach the exact place where \"Shadow Strike\" is happening?\n",
        "\n",
        "Network Ninja: Exactly right! Each layer, from your physical connection to the specific application, works together to deliver a seamless and engaging gaming experience, just like a well-coordinated ninja team.\n",
        "\n",
        "Network Novice: Thanks, Ninja! I feel ready to conquer both the game and its network mysteries!"
      ],
      "metadata": {
        "id": "4mm6XbzGg76W"
      }
    },
    {
      "cell_type": "markdown",
      "source": [
        "## Four Layer Network Quiz Game\n",
        "Run the following cell to launch the quiz."
      ],
      "metadata": {
        "id": "Baszn2yeeRws"
      }
    },
    {
      "cell_type": "code",
      "source": [
        "!wget https://github.com/brendanpshea/colab-utilities/raw/main/four_layer_network_quiz.py -q -nc\n",
        "from four_layer_network_quiz import four_layer_network_quiz\n",
        "four_layer_network_quiz()"
      ],
      "metadata": {
        "colab": {
          "base_uri": "https://localhost:8080/"
        },
        "id": "g-5rU-eveYWr",
        "outputId": "35e54720-e612-48ea-8575-aca13704781a"
      },
      "execution_count": null,
      "outputs": [
        {
          "output_type": "stream",
          "name": "stdout",
          "text": [
            "Welcome to the Four-Layer Network Model Game!\n",
            "For each statement, enter the corresponding layer:\n",
            "Application, Transport, Network, or Data Link\n",
            "\n",
            "Type 'quit' to exit the game.\n",
            "\n",
            "\n",
            "Statement: This layer provides end-to-end error detection and recovery mechanisms.\n",
            "Your answer: quit\n",
            "Game exited early. Your final score: 0/10\n"
          ]
        }
      ]
    },
    {
      "cell_type": "code",
      "source": [],
      "metadata": {
        "id": "F6Z7NbWAed9E"
      },
      "execution_count": null,
      "outputs": []
    },
    {
      "cell_type": "markdown",
      "source": [
        "## A Short Course in HTML\n",
        "**Hypertext Markup Language (HTML)** is the standard markup language for creating web pages and web applications. It's a language that structures content on the internet and forms the building blocks of all websites. HTML does this by using tags that define the content type, such as headers, paragraphs, lists, links, images, and more.  Here's why we use HTML:\n",
        "\n",
        "1.   HTML is universally understood by browsers across platforms (Windows, Mac, Linux, etc.) and devices (desktop, laptop, mobile, etc.). This makes it essential for creating content on the internet.\n",
        "\n",
        "2.   HTML provides the structure to web pages. It allows you to define various elements like headings, paragraphs, lists, tables, images, forms, etc., making your content readable and understandable by web browsers.\n",
        "\n",
        "3.   HTML allows embedding various types of media like images, videos, audio, etc., into the web page.\n",
        "\n",
        "4.   HTML allows web pages to connect to each other via hyperlinks, thus creating the \"web\" of connections that is the internet.\n",
        "\n",
        "5.  Other technologies like CSS and JavaScript are often used in combination with HTML. CSS is used to control the look and feel of the HTML content, and JavaScript is used to add interactivity to HTML web pages.\n",
        "\n",
        "6.  HTML is good for search engine optimization (SEO). Search engines use the tags in HTML to understand the content of web pages, which helps in getting your website discovered.\n",
        "\n",
        "Understanding HTML is fundamental to web development and other related fields. In this section, we'll learn the basics of HTML."
      ],
      "metadata": {
        "id": "mkIgvIx5t32U"
      }
    },
    {
      "cell_type": "markdown",
      "source": [
        "### A Simple Structure\n",
        "An HTML document has a specific structure. This structure allows browsers to interpret the content correctly. Here are the main components of an HTML document:\n",
        "\n",
        "1.  **DOCTYPE Declaration.** This is the first line of an HTML document and it represents the document type declaration. It helps the browser to understand the version of the HTML being used. For HTML5, this is declared as `<!DOCTYPE html>`.\n",
        "\n",
        "2.  The **<html>** tag is the root element of an HTML page, which contains all other HTML elements. It is marked with `<html>` tags.\n",
        "\n",
        "3. The **`<head>`** element contains meta-information about the HTML document. This is not content that is shown on the webpage itself, but information for the browser and search engines. This includes:\n",
        "\n",
        "    -    The **`<title>`** tag specifies the title of the web page. The title is what shows up in the browser tab and is also used by search engines.\n",
        "    -   **Meta tags** include various details about the HTML document. This could be character encoding declaration (like `<meta charset=\"UTF-8\">`), information for search engine (like meta description), and viewport settings for responsive design.\n",
        "4.  The **`<body>`** tag contains the content that is displayed on the web page. This could be text, images, videos, games, clickable buttons, hyperlinks, etc. The body is where you structure your content with various HTML tags like headers (h1-h6), paragraphs (p), lists (ul and ol), links (a), images (img), etc.\n",
        "\n",
        "So a very basic HTML document would look something like this:"
      ],
      "metadata": {
        "id": "0ixXUaX0vFjS"
      }
    },
    {
      "cell_type": "code",
      "source": [
        "%%html\n",
        "\n",
        "<!DOCTYPE html>\n",
        "<html>\n",
        "  <head>\n",
        "    <title>Page Title</title>\n",
        "    <meta charset=\"UTF-8\">\n",
        "  </head>\n",
        "  <body>\n",
        "    <h1>My First Heading</h1>\n",
        "    <p>My first paragraph.</p>\n",
        "  </body>\n",
        "</html>\n"
      ],
      "metadata": {
        "colab": {
          "base_uri": "https://localhost:8080/",
          "height": 100
        },
        "id": "ON9qxIA6vRrX",
        "outputId": "b2754ebd-45ae-4ded-ca13-309b1532fd15"
      },
      "execution_count": null,
      "outputs": [
        {
          "output_type": "display_data",
          "data": {
            "text/plain": [
              "<IPython.core.display.HTML object>"
            ],
            "text/html": [
              "\n",
              "<!DOCTYPE html>\n",
              "<html>\n",
              "  <head>\n",
              "    <title>Page Title</title>\n",
              "    <meta charset=\"UTF-8\">\n",
              "  </head>\n",
              "  <body>\n",
              "    <h1>My First Heading</h1>\n",
              "    <p>My first paragraph.</p>\n",
              "  </body>\n",
              "</html>\n"
            ]
          },
          "metadata": {}
        }
      ]
    },
    {
      "cell_type": "markdown",
      "source": [
        "### Adding Content to Our HTML Page\n",
        "HTML provides numerous elements to structure your content effectively. Let's walk through how you might structure a somewhat more complex page about \"The Princess Bride\" using different HTML elements.\n",
        "\n",
        "(Note that this webpage won't be fully functional when run via Colab, as this environment constrains certain functionality)."
      ],
      "metadata": {
        "id": "hsJ_1qZ1wAOV"
      }
    },
    {
      "cell_type": "code",
      "source": [
        "%%html\n",
        "<!DOCTYPE html>\n",
        "<html lang=\"en\">\n",
        "<head>\n",
        "    <meta charset=\"UTF-8\">\n",
        "    <title>The Princess Bride</title>\n",
        "</head>\n",
        "<body>\n",
        "    <header>\n",
        "        <h1>The Princess Bride</h1>\n",
        "        <nav>\n",
        "            <ul>\n",
        "                <li><a href=\"#synopsis\">Synopsis</a></li>\n",
        "                <li><a href=\"#characters\">Characters</a></li>\n",
        "                <li><a href=\"#quotes\">Famous Quotes</a></li>\n",
        "            </ul>\n",
        "        </nav>\n",
        "    </header>\n",
        "\n",
        "    <main>\n",
        "        <section id=\"synopsis\">\n",
        "            <h2>Synopsis</h2>\n",
        "            <p>The Princess Bride is a 1987 romantic comedy fantasy adventure film directed by Rob Reiner. The story follows the farmhand Westley, accompanied by befriended companions, on a journey to rescue his true love Princess Buttercup from the odious Prince Humperdinck.</p>\n",
        "        </section>\n",
        "\n",
        "        <section id=\"characters\">\n",
        "            <h2>Main Characters</h2>\n",
        "            <ul>\n",
        "                <li>Westley (Cary Elwes)</li>\n",
        "                <li>Buttercup (Robin Wright)</li>\n",
        "                <li>Inigo Montoya (Mandy Patinkin)</li>\n",
        "                <li>Fezzik (André the Giant)</li>\n",
        "                <li>Vizzini (Wallace Shawn)</li>\n",
        "                <li>Prince Humperdinck (Chris Sarandon)</li>\n",
        "            </ul>\n",
        "        </section>\n",
        "\n",
        "        <section id=\"quotes\">\n",
        "            <h2>Famous Quotes</h2>\n",
        "            <blockquote>\n",
        "                \"Hello. My name is Inigo Montoya. You killed my father. Prepare to die.\" - Inigo Montoya\n",
        "            </blockquote>\n",
        "            <blockquote>\n",
        "                \"As you wish.\" - Westley\n",
        "            </blockquote>\n",
        "        </section>\n",
        "    </main>\n",
        "\n",
        "    <footer>\n",
        "        <p>Learn more about <a href=\"https://en.wikipedia.org/wiki/The_Princess_Bride_(film)\" target=\"_blank\">The Princess Bride on Wikipedia</a>.</p>\n",
        "    </footer>\n",
        "</body>\n",
        "</html>"
      ],
      "metadata": {
        "colab": {
          "base_uri": "https://localhost:8080/",
          "height": 510
        },
        "id": "-0QQpQ2EsTjN",
        "outputId": "ac3eaba0-e882-4816-b165-5ea598266103"
      },
      "execution_count": null,
      "outputs": [
        {
          "output_type": "display_data",
          "data": {
            "text/plain": [
              "<IPython.core.display.HTML object>"
            ],
            "text/html": [
              "<!DOCTYPE html>\n",
              "<html lang=\"en\">\n",
              "<head>\n",
              "    <meta charset=\"UTF-8\">\n",
              "    <title>The Princess Bride</title>\n",
              "</head>\n",
              "<body>\n",
              "    <header>\n",
              "        <h1>The Princess Bride</h1>\n",
              "        <nav>\n",
              "            <ul>\n",
              "                <li><a href=\"#synopsis\">Synopsis</a></li>\n",
              "                <li><a href=\"#characters\">Characters</a></li>\n",
              "                <li><a href=\"#quotes\">Famous Quotes</a></li>\n",
              "            </ul>\n",
              "        </nav>\n",
              "    </header>\n",
              "\n",
              "    <main>\n",
              "        <section id=\"synopsis\">\n",
              "            <h2>Synopsis</h2>\n",
              "            <p>The Princess Bride is a 1987 romantic comedy fantasy adventure film directed by Rob Reiner. The story follows the farmhand Westley, accompanied by befriended companions, on a journey to rescue his true love Princess Buttercup from the odious Prince Humperdinck.</p>\n",
              "        </section>\n",
              "\n",
              "        <section id=\"characters\">\n",
              "            <h2>Main Characters</h2>\n",
              "            <ul>\n",
              "                <li>Westley (Cary Elwes)</li>\n",
              "                <li>Buttercup (Robin Wright)</li>\n",
              "                <li>Inigo Montoya (Mandy Patinkin)</li>\n",
              "                <li>Fezzik (André the Giant)</li>\n",
              "                <li>Vizzini (Wallace Shawn)</li>\n",
              "                <li>Prince Humperdinck (Chris Sarandon)</li>\n",
              "            </ul>\n",
              "        </section>\n",
              "\n",
              "        <section id=\"quotes\">\n",
              "            <h2>Famous Quotes</h2>\n",
              "            <blockquote>\n",
              "                \"Hello. My name is Inigo Montoya. You killed my father. Prepare to die.\" - Inigo Montoya\n",
              "            </blockquote>\n",
              "            <blockquote>\n",
              "                \"As you wish.\" - Westley\n",
              "            </blockquote>\n",
              "        </section>\n",
              "    </main>\n",
              "\n",
              "    <footer>\n",
              "        <p>Learn more about <a href=\"https://en.wikipedia.org/wiki/The_Princess_Bride_(film)\" target=\"_blank\">The Princess Bride on Wikipedia</a>.</p>\n",
              "    </footer>\n",
              "</body>\n",
              "</html>\n"
            ]
          },
          "metadata": {}
        }
      ]
    },
    {
      "cell_type": "markdown",
      "source": [
        "### Table: Common HTML Tags\n",
        "\n",
        "| Tag | Description | Example |\n",
        "| --- | --- | --- |\n",
        "| `<h1>` to `<h6>` | Heading tags (largest to smallest) | `<h1>Main Heading</h1>` |\n",
        "| `<p>` | Paragraph | `<p>This is a paragraph.</p>` |\n",
        "| `<a>` | Hyperlink | `<a href=\"https://example.com\">Link</a>` |\n",
        "| `<img>` | Image | `<img src=\"image.jpg\" alt=\"My Image\">` |\n",
        "| `<ul>` | Unordered list | `<ul><li>Item 1</li><li>Item 2</li></ul>` |\n",
        "| `<ol>` | Ordered list | `<ol><li>First</li><li>Second</li></ol>` |\n",
        "| `<li>` | List item | Used within `<ul>` or `<ol>` |\n",
        "| `<div>` | Division or section | `<div>Content</div>` |\n",
        "| `<span>` | Inline container | `<span>Inline text</span>` |\n",
        "| `<br>` | Line break | `<br>` |\n",
        "| `<strong>`, `<em>` | Semantic/logical tags for strong importance (bold) or emphasis (italic) | `<strong>Important!</strong>` `<em>Emphasized</em>` |\n",
        "| `<b>`, `<i>`, `<u>` | Formatting tags for bold, italic, or underline | `<b>bold</b>` `<i>italic</i>` `<u>underline</u>` |\n",
        "| `<table>`, `<th>`, `<tr>`, `<td>` | Table, table header, table row, table data | `<table><tr><th>Header</th></tr><tr><td>Data</td></tr></table>` |\n",
        "| `<button>` | Clickable button | `<button onclick=\"myFunction()\">Click me</button>` |\n",
        "| `<form>` | HTML form for user input | `<form action=\"/submit\" method=\"post\">...</form>` |\n",
        "| `<input>` | Input control | `<input type=\"text\" name=\"username\">` |\n",
        "| `<textarea>` | Multiline text input | `<textarea name=\"message\" rows=\"4\" cols=\"50\"></textarea>` |\n",
        "| `<select>`, `<option>` | Dropdown list | `<select><option value=\"1\">Option 1</option></select>` |\n",
        "| `<header>` | Introductory content or navigation links | `<header><h1>Welcome</h1><nav>...</nav></header>` |\n",
        "| `<nav>` | Navigation links | `<nav><ul><li><a href=\"#home\">Home</a></li></ul></nav>` |\n",
        "| `<section>` | Standalone section of a document | `<section><h2>Section Title</h2><p>...</p></section>` |\n",
        "| `<footer>` | Footer for a document or section | `<footer><p>&copy; 2023 My Website</p></footer>` |\n",
        "\n",
        "These tags form the basic structure of the HTML document and help to semantically organize the content about The Princess Bride movie. By using these tags appropriately, developers can create well-structured and accessible web pages."
      ],
      "metadata": {
        "id": "Z1v5c42twh_I"
      }
    },
    {
      "cell_type": "markdown",
      "source": [
        "## Introduction to CSS\n",
        "Cascading Style Sheets (CSS) is a stylesheet language used for describing the presentation and formatting of a document written in HTML or XML. While HTML provides the structure and content of a webpage, CSS enhances its visual appearance and layout. CSS allows web developers to separate the presentation of a webpage from its structure, making it easier to maintain and update the design across multiple pages.\n",
        "\n",
        "CSS works by associating style rules with HTML elements. These rules govern how the content of specified elements should be displayed. A style rule consists of a selector (which identifies the HTML elements to be styled) and a declaration block (which contains one or more declarations, each consisting of a property and a value).\n",
        "\n",
        "```css\n",
        "p  {    \n",
        "  color:  blue;    \n",
        "  font-size:  16px;  }\n",
        "```\n",
        "\n",
        "In this example, the selector is `p`, which means the rule applies to all `<p>` (paragraph) elements in the HTML document. The declaration block is enclosed in curly braces `{}` and contains two declarations: `color: blue;` (which sets the text color to blue) and `font-size: 16px;` (which sets the font size to 16 pixels).\n",
        "\n",
        "CSS can be included in an HTML document in three ways:\n",
        "\n",
        "1.  *Inline CSS.* Style attributes are added directly to the HTML elements using the `style` attribute.\n",
        "2.  *Internal CSS.* Style rules are placed within the `<style>` element in the `<head>` section of the HTML document.\n",
        "3.  *External CSS.* Style rules are written in a separate `.css` file and linked to the HTML document using the `<link>` element in the `<head>` section.\n",
        "\n",
        "Using external CSS files is generally considered the best practice, as it allows for the separation of concerns and makes maintenance easier.\n",
        "\n",
        "CSS provides a wide range of properties for styling various aspects of HTML elements, such as colors, fonts, backgrounds, margins, padding, borders, positioning, and more. It also supports advanced features like media queries (for responsive design), animations, and transitions.\n",
        "\n",
        "By leveraging the power of CSS, web developers can create visually appealing, well-structured, and maintainable websites. CSS plays a crucial role in modern web development and is an essential skill for any web developer to master.\n",
        "\n",
        "Here's how it might look in the context of a web page:"
      ],
      "metadata": {
        "id": "jVZzsSbswPz4"
      }
    },
    {
      "cell_type": "code",
      "source": [
        "%%html\n",
        "<!DOCTYPE html>\n",
        "<html lang=\"en\">\n",
        "<head>\n",
        "    <meta charset=\"UTF-8\">\n",
        "    <meta name=\"viewport\" content=\"width=device-width, initial-scale=1.0\">\n",
        "    <title>Inigo Montoya - The Princess Bride</title>\n",
        "    <style>\n",
        "        body {\n",
        "            font-family: Arial, sans-serif;\n",
        "            background-color: #f0e8d0;\n",
        "            color: #333;\n",
        "        }\n",
        "        h1 {\n",
        "            color: #8b0000;\n",
        "            text-align: center;\n",
        "        }\n",
        "        img {\n",
        "            display: block;\n",
        "            margin: 0 auto;\n",
        "            border: 5px solid #8b0000;\n",
        "            border-radius: 50%;\n",
        "        }\n",
        "        blockquote {\n",
        "            font-style: italic;\n",
        "            text-align: center;\n",
        "            margin: 20px 0;\n",
        "        }\n",
        "    </style>\n",
        "</head>\n",
        "<body>\n",
        "    <h1>Inigo Montoya</h1>\n",
        "    <img src=\"https://upload.wikimedia.org/wikipedia/en/4/49/Inigo_Montoya.webp\" alt=\"Inigo Montoya\" width=\"300\">\n",
        "\n",
        "    <blockquote>\n",
        "        \"Hello. My name is Inigo Montoya. You killed my father. Prepare to die.\" - Inigo Montoya\n",
        "    </blockquote>\n",
        "\n",
        "    <p>Inigo Montoya is a skilled swordsman and one of the main characters in the movie The Princess Bride. He is on a quest to avenge his father's death and is known for his iconic catchphrase.</p>\n",
        "</body>\n",
        "</html>"
      ],
      "metadata": {
        "colab": {
          "base_uri": "https://localhost:8080/",
          "height": 334
        },
        "id": "1aYaQX4Mwjps",
        "outputId": "8eba1fec-4840-4d76-b7b4-aac85696bba1"
      },
      "execution_count": null,
      "outputs": [
        {
          "output_type": "display_data",
          "data": {
            "text/plain": [
              "<IPython.core.display.HTML object>"
            ],
            "text/html": [
              "<!DOCTYPE html>\n",
              "<html lang=\"en\">\n",
              "<head>\n",
              "    <meta charset=\"UTF-8\">\n",
              "    <meta name=\"viewport\" content=\"width=device-width, initial-scale=1.0\">\n",
              "    <title>Inigo Montoya - The Princess Bride</title>\n",
              "    <style>\n",
              "        body {\n",
              "            font-family: Arial, sans-serif;\n",
              "            background-color: #f0e8d0;\n",
              "            color: #333;\n",
              "        }\n",
              "        h1 {\n",
              "            color: #8b0000;\n",
              "            text-align: center;\n",
              "        }\n",
              "        img {\n",
              "            display: block;\n",
              "            margin: 0 auto;\n",
              "            border: 5px solid #8b0000;\n",
              "            border-radius: 50%;\n",
              "        }\n",
              "        blockquote {\n",
              "            font-style: italic;\n",
              "            text-align: center;\n",
              "            margin: 20px 0;\n",
              "        }\n",
              "    </style>\n",
              "</head>\n",
              "<body>\n",
              "    <h1>Inigo Montoya</h1>\n",
              "    <img src=\"https://upload.wikimedia.org/wikipedia/en/4/49/Inigo_Montoya.webp\" alt=\"Inigo Montoya\" width=\"300\">\n",
              "    \n",
              "    <blockquote>\n",
              "        \"Hello. My name is Inigo Montoya. You killed my father. Prepare to die.\" - Inigo Montoya\n",
              "    </blockquote>\n",
              "    \n",
              "    <p>Inigo Montoya is a skilled swordsman and one of the main characters in the movie The Princess Bride. He is on a quest to avenge his father's death and is known for his iconic catchphrase.</p>\n",
              "</body>\n",
              "</html>\n"
            ]
          },
          "metadata": {}
        }
      ]
    },
    {
      "cell_type": "markdown",
      "source": [
        "In this example, we have a simple webpage dedicated to the character Inigo Montoya from The Princess Bride. The CSS rules are included within the `<style>` element in the `<head>` section of the HTML document.\n",
        "\n",
        "The CSS rules style the body text, heading, image, and blockquote elements. The `font-family` property sets the font for the entire page, while the `background-color` and `color` properties set the background and text colors, respectively. The heading is styled with a specific color and centered text alignment.\n",
        "\n",
        "The image of Inigo Montoya is displayed as a block element, centered on the page, and styled with a border and border-radius to create a circular frame effect.\n",
        "\n",
        "The blockquote element, containing Inigo Montoya's famous catchphrase, is styled with italic text and centered alignment."
      ],
      "metadata": {
        "id": "RcxXFr03xX_I"
      }
    },
    {
      "cell_type": "markdown",
      "source": [
        "### Table: Common CSS Properties\n",
        "\n",
        "| Property | Description | Example |\n",
        "| --- | --- | --- |\n",
        "| `color` | Text color | `color: #333;` |\n",
        "| `background-color` | Background color | `background-color: #f0f8ff;` |\n",
        "| `font-size` | Size of the font | `font-size: 18px;` |\n",
        "| `font-family` | Font type | `font-family: Arial, sans-serif;` |\n",
        "| `text-align` | Alignment of text | `text-align: center;` |\n",
        "| `margin` | Space outside the element | `margin: 10px;` |\n",
        "| `padding` | Space inside the element | `padding: 5px;` |\n",
        "| `border` | Border around an element | `border: 1px solid #000;` |\n",
        "| `width` | Width of an element | `width: 100px;` |\n",
        "| `height` | Height of an element | `height: 50px;` |"
      ],
      "metadata": {
        "id": "8PIywNJtfnBd"
      }
    },
    {
      "cell_type": "markdown",
      "source": [
        "### Introduction to JavaScript and the DOM\n",
        "\n",
        "JavaScript is a powerful programming language that enables you to add interactivity to your web pages. While HTML structures your content and CSS styles it, JavaScript brings your web pages to life by allowing you to implement dynamic features such as interactive forms, animations, and user-driven events.\n",
        "\n",
        "Central to JavaScript's functionality in web pages is the Document Object Model (DOM). The DOM is a programming interface that represents the structure of a web page as a tree of objects. It allows JavaScript to access and manipulate HTML elements, attributes, and styles. Essentially, the DOM turns your static HTML into a dynamic object that you can programmatically interact with.\n",
        "\n",
        "\n",
        "Let's create a simple web page themed around The Princess Bride that demonstrates basic JavaScript concepts like variables, functions, and conditionals. We'll ask the user to enter the name of a character and respond with a famous quote if the character is recognized.\n",
        "\n",
        "Here's the HTML code with internal JavaScript:"
      ],
      "metadata": {
        "id": "YTYLt7HAej4W"
      }
    },
    {
      "cell_type": "code",
      "source": [
        "%%html\n",
        "%%html\n",
        "<!DOCTYPE html>\n",
        "<html>\n",
        "<head>\n",
        "    <title>The Princess Bride Interactive</title>\n",
        "    <script>\n",
        "        function showQuote() {\n",
        "            var character = prompt(\"Enter the name of a character from 'The Princess Bride':\");\n",
        "            if (character === \"Inigo Montoya\") {\n",
        "                alert(\"Hello. My name is Inigo Montoya. You killed my father. Prepare to die.\");\n",
        "            } else if (character === \"Westley\") {\n",
        "                alert(\"As you wish.\");\n",
        "            } else if (character === \"Vizzini\") {\n",
        "                alert(\"Inconceivable!\");\n",
        "            } else {\n",
        "                alert(\"Character not recognized.\");\n",
        "            }\n",
        "        }\n",
        "    </script>\n",
        "</head>\n",
        "<body>\n",
        "    <h1>Welcome to The Princess Bride Interactive</h1>\n",
        "    <button onclick=\"showQuote()\">Get a Quote</button>\n",
        "</body>\n",
        "</html>\n"
      ],
      "metadata": {
        "colab": {
          "base_uri": "https://localhost:8080/",
          "height": 113
        },
        "id": "6l8avaOzeosd",
        "outputId": "25653524-eaaf-41a9-c8db-f80e997c36bb"
      },
      "execution_count": 1,
      "outputs": [
        {
          "output_type": "display_data",
          "data": {
            "text/plain": [
              "<IPython.core.display.HTML object>"
            ],
            "text/html": [
              "%%html\n",
              "<!DOCTYPE html>\n",
              "<html>\n",
              "<head>\n",
              "    <title>The Princess Bride Interactive</title>\n",
              "    <script>\n",
              "        function showQuote() {\n",
              "            var character = prompt(\"Enter the name of a character from 'The Princess Bride':\");\n",
              "            if (character === \"Inigo Montoya\") {\n",
              "                alert(\"Hello. My name is Inigo Montoya. You killed my father. Prepare to die.\");\n",
              "            } else if (character === \"Westley\") {\n",
              "                alert(\"As you wish.\");\n",
              "            } else if (character === \"Vizzini\") {\n",
              "                alert(\"Inconceivable!\");\n",
              "            } else {\n",
              "                alert(\"Character not recognized.\");\n",
              "            }\n",
              "        }\n",
              "    </script>\n",
              "</head>\n",
              "<body>\n",
              "    <h1>Welcome to The Princess Bride Interactive</h1>\n",
              "    <button onclick=\"showQuote()\">Get a Quote</button>\n",
              "</body>\n",
              "</html>\n"
            ]
          },
          "metadata": {}
        }
      ]
    },
    {
      "cell_type": "markdown",
      "source": [
        "In this code:\n",
        "\n",
        "-   We define a **function** called `showQuote()` that is executed when the user clicks the button. Functions in JavaScript are reusable blocks of code that perform specific tasks.\n",
        "-   Inside the function, we declare a **variable** `character` using `var`, which stores the user's input from the `prompt()` dialog. Variables are containers for storing data values.\n",
        "-   We use **conditional statements** (`if`, `else if`, `else`) to determine which quote to display based on the user's input. Conditionals allow us to execute code selectively, depending on whether certain conditions are met.\n",
        "    -   If `character` is equal to `\"Inigo Montoya\"`, we use `alert()` to display his famous quote.\n",
        "    -   Else if `character` is `\"Westley\"`, we display \"As you wish.\"\n",
        "    -   Else if `character` is `\"Vizzini\"`, we display \"Inconceivable!\"\n",
        "    -   Else, we alert that the character is not recognized.-   The `<button>` element has an `onclick` attribute that calls the `showQuote()` function when clicked. This is an example of **event handling**, where we respond to user actions.\n",
        "\n",
        "To make the interaction more engaging, we can display the quote directly on the web page instead of using alert dialogs. Here's how:"
      ],
      "metadata": {
        "id": "hb_lftYze8bM"
      }
    },
    {
      "cell_type": "code",
      "source": [
        "%%html\n",
        "%%html\n",
        "<!DOCTYPE html>\n",
        "<html>\n",
        "<head>\n",
        "    <title>The Princess Bride Interactive</title>\n",
        "    <script>\n",
        "        function showQuote() {\n",
        "            var character = prompt(\"Enter the name of a character from 'The Princess Bride':\");\n",
        "            var quoteElement = document.getElementById(\"quote\");\n",
        "            if (character === \"Inigo Montoya\") {\n",
        "                quoteElement.innerHTML = \"Hello. My name is Inigo Montoya. You killed my father. Prepare to die.\";\n",
        "            } else if (character === \"Westley\") {\n",
        "                quoteElement.innerHTML = \"As you wish.\";\n",
        "            } else if (character === \"Vizzini\") {\n",
        "                quoteElement.innerHTML = \"Inconceivable!\";\n",
        "            } else {\n",
        "                quoteElement.innerHTML = \"Character not recognized.\";\n",
        "            }\n",
        "        }\n",
        "    </script>\n",
        "</head>\n",
        "<body>\n",
        "    <h1>Welcome to The Princess Bride Interactive</h1>\n",
        "    <p>This page demonstrates basic <em>JavaScript</em> and the DOM.</p>\n",
        "    <button onclick=\"showQuote()\">Get a Quote</button>\n",
        "    <p id=\"quote\"></p>\n",
        "</body>\n",
        "</html>\n"
      ],
      "metadata": {
        "colab": {
          "base_uri": "https://localhost:8080/",
          "height": 167
        },
        "id": "dKO8Q_scfNLR",
        "outputId": "f94d5cd3-67a1-41ba-d168-42a84eda1bf0"
      },
      "execution_count": 2,
      "outputs": [
        {
          "output_type": "display_data",
          "data": {
            "text/plain": [
              "<IPython.core.display.HTML object>"
            ],
            "text/html": [
              "%%html\n",
              "<!DOCTYPE html>\n",
              "<html>\n",
              "<head>\n",
              "    <title>The Princess Bride Interactive</title>\n",
              "    <script>\n",
              "        function showQuote() {\n",
              "            var character = prompt(\"Enter the name of a character from 'The Princess Bride':\");\n",
              "            var quoteElement = document.getElementById(\"quote\");\n",
              "            if (character === \"Inigo Montoya\") {\n",
              "                quoteElement.innerHTML = \"Hello. My name is Inigo Montoya. You killed my father. Prepare to die.\";\n",
              "            } else if (character === \"Westley\") {\n",
              "                quoteElement.innerHTML = \"As you wish.\";\n",
              "            } else if (character === \"Vizzini\") {\n",
              "                quoteElement.innerHTML = \"Inconceivable!\";\n",
              "            } else {\n",
              "                quoteElement.innerHTML = \"Character not recognized.\";\n",
              "            }\n",
              "        }\n",
              "    </script>\n",
              "</head>\n",
              "<body>\n",
              "    <h1>Welcome to The Princess Bride Interactive</h1>\n",
              "    <p>This page demonstrates basic <em>JavaScript</em> and the DOM.</p>\n",
              "    <button onclick=\"showQuote()\">Get a Quote</button>\n",
              "    <p id=\"quote\"></p>\n",
              "</body>\n",
              "</html>\n"
            ]
          },
          "metadata": {}
        }
      ]
    },
    {
      "cell_type": "markdown",
      "source": [
        "In this version:\n",
        "\n",
        "-   We added a `<p>` element with `id=\"quote\"` where the quote will be displayed.\n",
        "-   Instead of using `alert()`, we use `quoteElement.innerHTML` to change the content of the paragraph. This demonstrates **DOM manipulation**, where we modify the content of an HTML element using JavaScript.\n",
        "-   We access the paragraph element using `document.getElementById(\"quote\")`, which retrieves the element with the specified ID."
      ],
      "metadata": {
        "id": "3pufRmiTfQjX"
      }
    },
    {
      "cell_type": "markdown",
      "source": [
        "### Table of Basic JavaScript Commands\n",
        "\n",
        "Below is a table of useful JavaScript commands for beginners:\n",
        "\n",
        "| Command/Concept | Description | Example |\n",
        "|-----------------|-------------|---------|\n",
        "| `function` | Defines a reusable block of code | `function showAlert() { ... }` |\n",
        "| `document.getElementById()` | Selects an HTML element by its id | `let element = document.getElementById('myButton')` |\n",
        "| `addEventListener()` | Attaches an event handler to an element | `element.addEventListener('click', showAlert)` |\n",
        "| `alert()` | Displays an alert box with a message | `alert('This is a fun fact!')` |\n",
        "| `console.log()` | Outputs a message to the console (for debugging) | `console.log('Button clicked')` |\n",
        "| Variables (`let`, `const`) | Declares variables to store data | `let score = 0;` `const MAX_SCORE = 10;` |\n",
        "| Arrays | Stores multiple values in a single variable | `let facts = ['Fact 1', 'Fact 2', 'Fact 3']` |\n",
        "| `Math.random()` | Generates a random number between 0 and 1 | `let randomIndex = Math.floor(Math.random() * facts.length)` |\n",
        "| `if` statements | Performs conditional execution of code | `if (score > 5) { console.log('High score!') }` |\n",
        "| `for` loops | Repeats code a specific number of times | `for (let i = 0; i < 5; i++) { ... }` |\n",
        "| Template literals | Allows embedding expressions in strings | ``` `Your score is ${score}` ``` |\n",
        "| `innerHTML` | Gets or sets the HTML content inside an element | `element.innerHTML = 'New content'` |\n",
        "| `style` property | Allows changing CSS styles with JavaScript | `element.style.color = 'red'` |\n",
        "| `createElement()` | Creates a new HTML element | `let newDiv = document.createElement('div')` |\n",
        "| `appendChild()` | Adds a new child element to a parent element | `parentElement.appendChild(newDiv)` |"
      ],
      "metadata": {
        "id": "hb2fASvioMqk"
      }
    },
    {
      "cell_type": "markdown",
      "source": [
        "# Lab: Build a Webpage About Your Hobby - Guided Steps\n",
        "\n",
        "Create a webpage about your favorite hobby by following these guided steps. You'll start with basic HTML, then add more complex HTML elements, before finally adding some CSS and JavaScript.\n",
        "\n",
        "You do this in a Colab cell with `%%html` (following these directions).\n",
        "\n",
        "### Step 1: Basic HTML Structure\n",
        "Create the basic structure of an HTML document. Include:\n",
        "- DOCTYPE declaration\n",
        "- `<html>` tag with lang attribute\n",
        "- `<head>` tag with a title\n",
        "- `<body>` tag with an `<h1>` heading for your hobby\n",
        "\n",
        "### Step 2: Add Paragraphs\n",
        "Inside the `<body>`, add:\n",
        "- At least two paragraphs about your hobby\n",
        "- Use the `<p>` tag for each paragraph\n",
        "- In one paragraph, use the `<strong>` tag to emphasize a word or phrase\n",
        "\n",
        "### Step 3: Create Lists\n",
        "Add two types of lists to your page:\n",
        "- An unordered list (`<ul>`) of equipment or materials needed for your hobby\n",
        "- An ordered list (`<ol>`) of steps to get started with your hobby\n",
        "\n",
        "### Step 4: Insert an Image\n",
        "Include an image related to your hobby:\n",
        "- Use an `<img>` tag\n",
        "- Set the src attribute to a placeholder image URL: \"https://via.placeholder.com/400x200?text=Hobby+Image\"\n",
        "- Don't forget the alt attribute!\n",
        "\n",
        "### Step 5: Add a Table\n",
        "Create a table with information about your hobby:\n",
        "- Use the `<table>`, `<tr>`, `<th>`, and `<td>` tags\n",
        "- Include at least 3 columns and 3 rows\n",
        "- Example: a table of different skill levels, time requirements, and costs associated with your hobby\n",
        "\n",
        "### Step 6: Text Formatting and Semantic HTML\n",
        "Enhance your content with more HTML elements:\n",
        "- Use `<em>` tags for emphasis\n",
        "- Add a `<blockquote>` with a famous quote related to your hobby\n",
        "- Include a `<section>` tag to group related content\n",
        "- Use `<header>` and `<footer>` tags to structure your page\n",
        "\n",
        "### Step 7: Links\n",
        "Add some hyperlinks to your page:\n",
        "- Create a list of external resources about your hobby\n",
        "- Use the `<a>` tag to make each resource a clickable link\n",
        "- Make sure to use the href attribute correctly\n",
        "\n",
        "### Step 8: Basic CSS Styling\n",
        "In the `<head>` section, add a `<style>` tag. Write CSS to:\n",
        "- Set a font family for the body\n",
        "- Change the color of your `<h1>` heading\n",
        "- Set a max-width for your image\n",
        "- Style your table with borders and padding\n",
        "\n",
        "### Step 9: Enhance CSS Styling\n",
        "Improve your styling:\n",
        "- Set a background color for the body\n",
        "- Style your lists differently (e.g., change bullet points, add spacing)\n",
        "- Add hover effects to your links\n",
        "- Create a class for special text and apply a unique style to it\n",
        "\n",
        "### Step 10: Add Simple JavaScript\n",
        "Add a `<script>` tag at the end of your `<body>`. Write JavaScript to:\n",
        "- Create a button that, when clicked, shows an alert with a fun fact about your hobby\n",
        "- Use the onclick attribute and create a function to handle the click event"
      ],
      "metadata": {
        "id": "1ZihJklikHLo"
      }
    },
    {
      "cell_type": "code",
      "source": [
        "%%html\n",
        "<!-- Your webpage goes here -->\n"
      ],
      "metadata": {
        "id": "YLPBMcBIvE2q"
      },
      "execution_count": null,
      "outputs": []
    },
    {
      "cell_type": "markdown",
      "source": [
        "## Review with Quizlet\n",
        "The following set of cards covers important terms/concepts, as well as basic HTML tags."
      ],
      "metadata": {
        "id": "KS8fi9g4BdGJ"
      }
    },
    {
      "cell_type": "code",
      "source": [
        "%%html\n",
        "<iframe src=\"https://quizlet.com/817160001/learn/embed?i=psvlh&x=1jj1\" height=\"600\" width=\"100%\" style=\"border:0\"></iframe>"
      ],
      "metadata": {
        "id": "tOxVgjS1BoXH",
        "outputId": "6f2617d8-02fc-4d57-94ca-50b2c9e8ceb2",
        "colab": {
          "base_uri": "https://localhost:8080/",
          "height": 622
        }
      },
      "execution_count": null,
      "outputs": [
        {
          "output_type": "display_data",
          "data": {
            "text/plain": [
              "<IPython.core.display.HTML object>"
            ],
            "text/html": [
              "<iframe src=\"https://quizlet.com/817160001/learn/embed?i=psvlh&x=1jj1\" height=\"600\" width=\"100%\" style=\"border:0\"></iframe>\n"
            ]
          },
          "metadata": {}
        }
      ]
    },
    {
      "cell_type": "markdown",
      "source": [
        "## Glossary\n",
        "\n",
        "| **rm** | **Definition** |\n",
        "| --- | --- |\n",
        "| Application Layer | The top layer of the TCP/IP model responsible for network services and applications that interact directly with end-users, such as web browsers, email clients, and file transfers. |\n",
        "| Client-server network | A network architecture where multiple clients (user devices) request and receive services from a centralized server, which manages resources and operations. |\n",
        "| Cascading Style Sheets (CSS) | A stylesheet language used to describe the presentation of a document written in HTML or XML, including layout, colors, and fonts. |\n",
        "| Data Link Layer | The bottom layer of the TCP/IP network model, responsible for node-to-node data transfer, error detection and correction, and framing of data packets. |\n",
        "| Ethernet | A family of networking technologies commonly used in local area networks (LANs) for devices to communicate through a standardized protocol. |\n",
        "| Frame | A digital data transmission unit in computer networking that includes a data packet encapsulated with headers and trailers for error checking and addressing. |\n",
        "| Hypertext Markup Language (HTML) | The standard markup language used to create and design web pages, structuring content on the internet. |\n",
        "| Hypertext Transfer Protocol (HTTP) | The foundational protocol used for transmitting hypertext on the World Wide Web, facilitating communication between web browsers and servers. |\n",
        "| IP Address | A unique identifier assigned to each device connected to a network that uses the Internet Protocol for communication, enabling routing and addressing. |\n",
        "| Internet Protocol version 4 (IPv4) | The fourth version of the Internet Protocol, using a 32-bit address scheme allowing for approximately 4.3 billion unique addresses. Example: 192.168.1.1 |\n",
        "| Internet Protocol version 6 (IPv6) | The most recent version of the Internet Protocol, using a 128-bit address scheme allowing for a vast number of unique addresses, supporting future growth. Example: 2001:0db8:85a3:0000:0000:8a2e:0370:7334 |\n",
        "| Local Area Network (LAN) | A network that connects computers and devices within a limited geographical area, such as a home, school, or office building. |\n",
        "| Media Access Control Address (MAC Address) | A unique identifier assigned to network interfaces for communications at the data link layer of a network segment. |\n",
        "| Modem| A device that modulates and demodulates signals for converting digital data from a computer to analog signals for transmission over telephone lines, and vice versa. |\n",
        "| Network | A collection of computers, servers, mainframes, network devices, or other devices connected to one another to share resources, data, and applications. |\n",
        "| Network Layer | The third layer of the TCP/IP model, responsible for packet forwarding, including routing through different routers and managing traffic control. |\n",
        "| Peer-to-peer (P2P) network | A decentralized network architecture where each node, or peer, can act as both a client and a server, sharing resources directly with other nodes. |\n",
        "| Packet | A formatted unit of data carried by a packet-switched network, including the payload and control information for routing and error checking. |\n",
        "| Port | A logical access point in networking used to differentiate between different services or applications running on a single device. |\n",
        "| Private IP address | An IP address assigned to devices within a private network, not routable on the public internet, typically used within homes or organizations. Example: 192.168.0.1 |\n",
        "| Protocol | A set of rules and standards that define how data is transmitted and received across a network, ensuring proper communication between devices. |\n",
        "| Public IP address | An IP address assigned to a device connected to the public internet, routable globally, allowing external devices to communicate with it. Example: 8.8.8.8 |\n",
        "| Router | A networking device that forwards data packets between computer networks, directing traffic and determining the best path for data to travel. |\n",
        "| Routing table | A data table stored in a router or a networked computer that lists the routes to particular network destinations, used to determine the best path for data packets. |\n",
        "| Transmission Control Protocol (TCP) | A core protocol of the Internet Protocol suite that provides reliable, ordered, and error-checked delivery of data between applications running on hosts on an IP network. |\n",
        "| TCP/IP Network Model | A conceptual model and set of communications protocols used on the internet and similar networks, structured into four layers: application, transport, internet, and network access. |\n",
        "| Transport Layer | The layer in the TCP/IP model responsible for end-to-end communication, error checking, and data flow control, including protocols like TCP and UDP. |\n",
        "| User Datagram Protocol (UDP) | A core protocol of the Internet Protocol suite that allows applications to send messages without establishing a connection, offering a faster but less reliable transmission method. |\n",
        "| Virtual Local Area Network (VLAN) | A subnetwork that can group together devices from different physical LANs, improving network efficiency and security by segmenting network traffic. |\n",
        "| Wide Area Network (WAN) | A telecommunications network that extends over a large geographic area, connecting multiple LANs, often used by businesses and government entities. |\n",
        "| Wi-Fi | A wireless networking technology that allows devices to communicate over a wireless signal, typically using the IEEE 802.11 standards. |\n"
      ],
      "metadata": {
        "id": "94QsW8PqlVe7"
      }
    },
    {
      "cell_type": "code",
      "source": [],
      "metadata": {
        "id": "F1FrsuyQlXoj"
      },
      "execution_count": null,
      "outputs": []
    }
  ]
}