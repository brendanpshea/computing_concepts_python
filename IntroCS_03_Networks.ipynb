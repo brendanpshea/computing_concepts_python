{
  "nbformat": 4,
  "nbformat_minor": 0,
  "metadata": {
    "colab": {
      "provenance": [],
      "authorship_tag": "ABX9TyPPzb4+Oxyn09pZxW5NgHh4",
      "include_colab_link": true
    },
    "kernelspec": {
      "name": "python3",
      "display_name": "Python 3"
    },
    "language_info": {
      "name": "python"
    }
  },
  "cells": [
    {
      "cell_type": "markdown",
      "metadata": {
        "id": "view-in-github",
        "colab_type": "text"
      },
      "source": [
        "<a href=\"https://colab.research.google.com/github/brendanpshea/computing_concepts_python/blob/main/IntroCS_03_Networks.ipynb\" target=\"_parent\"><img src=\"https://colab.research.google.com/assets/colab-badge.svg\" alt=\"Open In Colab\"/></a>"
      ]
    },
    {
      "cell_type": "markdown",
      "source": [
        "# Computer Networking\n",
        "### Computing Concepts with Python | Brendan Shea, PhD (Brendan.Shea@rctc.edu)\n",
        "In the simplest terms, a **network** is a collection of devices that are interconnected and can communicate with each other. These devices can range from computers, laptops, and smartphones to printers, servers, or even IoT devices like smart fridges or thermostats. The purpose of this connection is to share and exchange information and resources.\n",
        "\n",
        "A network allows for the sharing of data and resources, such as files, applications, or even hardware like printers, in a much more efficient and collaborative manner than would be possible without the network. For example, instead of storing a file on a USB drive and physically carrying it to another computer, a network allows you to send the file directly, saving time and effort.  \n",
        "\n",
        "In this chapter, you'll learn to do the following when it comes to networks:\n",
        "\n",
        "1.  Define what a computer network is and differentiate between Local Area Networks (LANs) and Wide Area Networks (WANs).\n",
        "2.  Explain the four layers of the TCP/IP network model (Application, Transport, Internet, and Network Interface) and describe the role and key protocols of each layer.\n",
        "3.  Understand how data is routed across the internet using IP addresses and the role of the Domain Name System (DNS) in translating domain names to IP addresses.\n",
        "4.  Compare and contrast the Transmission Control Protocol (TCP) and User Datagram Protocol (UDP), and explain when each might be used.\n",
        "5.  Create a basic webpage using HTML, including elements such as headings, paragraphs, lists, images, links, and tables.\n",
        "6.  Apply basic CSS styling to an HTML webpage, using properties like color, font, alignment, margins, and padding."
      ],
      "metadata": {
        "id": "AdJbV1HdUejt"
      }
    },
    {
      "cell_type": "markdown",
      "source": [
        "## Brendan's Lecture\n",
        "Run the following cell to view my lecture for this chapter."
      ],
      "metadata": {
        "id": "6DsOeA1PXwOM"
      }
    },
    {
      "cell_type": "code",
      "source": [
        "from IPython.display import YouTubeVideo\n",
        "YouTubeVideo('TnlSLCrbORc', width=800, height=500)"
      ],
      "metadata": {
        "id": "a-1uDblNX2u7",
        "outputId": "be06ca15-65a3-441f-815c-fb761003754f",
        "colab": {
          "base_uri": "https://localhost:8080/",
          "height": 522
        }
      },
      "execution_count": null,
      "outputs": [
        {
          "output_type": "execute_result",
          "data": {
            "text/plain": [
              "<IPython.lib.display.YouTubeVideo at 0x7ee14abbee90>"
            ],
            "text/html": [
              "\n",
              "        <iframe\n",
              "            width=\"800\"\n",
              "            height=\"500\"\n",
              "            src=\"https://www.youtube.com/embed/TnlSLCrbORc\"\n",
              "            frameborder=\"0\"\n",
              "            allowfullscreen\n",
              "            \n",
              "        ></iframe>\n",
              "        "
            ]
          },
          "metadata": {},
          "execution_count": 1
        }
      ]
    },
    {
      "cell_type": "markdown",
      "source": [
        "### BrendyBot is Here to Answer Your Questions\n",
        "![image.png](https://github.com/brendanpshea/colab-utilities/raw/main/brendy_bot_pic.png)\n",
        "\n",
        "If you have questions about the content of this chapter, you can try out \"BrendyBot\", an AI chat bot I've trained on the lecture notes for this class (note that BrendyBot is stil experimental, and can definitley make mistakes!).\n",
        "\n",
        "https://poe.com/BrendyBot"
      ],
      "metadata": {
        "id": "mijYCpZ0q_5l"
      }
    },
    {
      "cell_type": "markdown",
      "source": [
        "## Types of Networks\n",
        "There are two primary types of networks: Local Area Networks (LANs) and Wide Area Networks (WANs).\n",
        "\n",
        "- A **Local Area Network (LAN)** is a network that connects devices in a relatively small area, such as a home, office, or a group of buildings. These networks are typically owned, controlled, and managed by a single person or organization.\n",
        "\n",
        "- On the other hand, a **Wide Area Network (WAN)** covers a large geographical area and connects multiple LANs together. The **internet** is the most prominent example of a WAN, which is a global network of networks.\n",
        "\n",
        "Networks can also be classified based on their design approach: **Peer-to-peer (P2P) networks**, where each device has equivalent responsibilities and capabilities, or **client-server networks**, where some computers (servers) provide services, and others (clients) use those services.\n",
        "\n",
        "Finally, Networks operate based on established rules and **protocols**, which define how the devices should transmit and receive data. These protocols ensure that networks across the globe can communicate with each other seamlessly, leading to the interconnected world we live in today. In this lesson, you'll learn some of the most important of these protocols, including the the Internet Protocol (IP), Tranmission Control Protocol (TCP), and Hypertext Transport Protocol (HTTP)."
      ],
      "metadata": {
        "id": "Wyx6NOLrhWhE"
      }
    },
    {
      "cell_type": "markdown",
      "source": [
        "## Intro to the TCP/IP Network Model\n",
        "\n",
        "In computer networking, it's essential to have a clear understanding of how data is transmitted from one device to another. Just like sending a letter, there are several steps involved in the process, and each step plays a crucial role in ensuring that the data reaches its intended destination. To simplify this complex process, network models were developed. These models break down the communication process into layers, each with its own set of responsibilities.\n",
        "\n",
        "Here, we'll explore the  TCP/IP (\"four-layer network\") model, using the analogy of Wesley writing a letter to Buttercup (from the *Princess Bride*). We can think of person as a network \"node\", their letters as the \"data\" they are sending, and the postal service as the connections between them.\n",
        "\n",
        "The four-layer network model consists of the following layers: Application, Transport, Network, and (Data) Link. Let's dive into each layer and see how they relate to our letter-sending analogy.\n",
        "\n",
        "The **Application Layer** is the topmost layer of the four-layer network model. It is responsible for providing services to the user and defining how the user interacts with the data. In our analogy, this layer represents Wesley composing the letter to Buttercup. Wesley is using a specific format (e.g., a love letter) and language (e.g., English) to express his message. Some key terms associated with this layer include:\n",
        "\n",
        "-   A **protocol** is a set of rules governing the format and meaning of the data being transmitted. In our example, the protocol could be the specific way Wesley writes his love letter (e.g., starting with \"My dearest Buttercup,\"). In the world of computers, it might HTTP (for websites), IMAP or POP (for mail), or others.\n",
        "-   An **application** is the the software that generates the data to be transmitted. In this case, it could be a word processor Wesley uses to write the letter. In computer networks, this might be a web browers (like Chrome, Safari, or Firefox), a web server (like Apache), an email client (Outlook), etc.\n",
        "\n",
        "The **Transport Layer** is responsible for ensuring reliable data transfer between the source and the destination. It breaks the data into smaller, manageable pieces called **segments** and reassembles them at the receiving end. This layer also provides two main protocols: TCP (Transmission Control Protocol) and UDP (User Datagram Protocol).\n",
        "\n",
        "- **TCP** is like sending a letter via registered mail. When Wesley sends his letter using TCP, he expects an acknowledgment from Buttercup that she has received the letter. If Wesley doesn't receive the acknowledgment, he will resend the letter until he gets confirmation. TCP ensures reliable data delivery, error correction, and flow control. In the world of computers, this is what we use for things like web pages and email (where we care a lot about seeing *accurate* text).\n",
        "- On the other hand, **UDP** is like sending a postcard. When Wesley sends his message using UDP, he doesn't expect an acknowledgment from Buttercup. UDP is faster than TCP but does not guarantee reliable delivery or error correction. In computer networks, we use this for things like streaming video (where we are willing to sacrifice accuracy for speed).\n",
        "- **Ports** play a crucial role in allowing the Transport Layer to \"communicate with\" the application layer. They are like mailboxes for different applications. Each application on a device is assigned a unique port number. In our analogy,  maybe Wesley draws \"heart\" on his letter to let Buttercup know what \"type\" of letter it is, and maybe a bit about where and when she should open it. By contrast, she might approach an envelope that appears to contain legal documents quite differently! This process allows multiple applications to run simultaneously on a single device without confusion.\n",
        "\n",
        "The **Network Layer**  is responsible for addressing and routing the data packets across different networks. It ensures that the data reaches its intended destination by using logical addresses (IP addresses). In our analogy, this layer represents Wesley writing Buttercup's address on the envelope and handing it over to the postal service. The postal service then uses the address to determine the best route for the letter to reach Buttercup. Key terms include:\n",
        "\n",
        "-   An **IP Address** is a unique identifier assigned to each device on a network, similar to a postal address.\n",
        "-   **Routing** is the process of determining the best path for data to travel from source to destination.\n",
        "-   A **packet** is a unit of data that includes both the data itself and the necessary addressing information.\n",
        "\n",
        "The **Data Link Layer**  is responsible for the reliable transfer of data between two directly connected devices. It encapsulates the packets into frames and handles error detection and correction. In our analogy, this layer represents the postal service physically delivering the letter to Buttercup's mailbox. Key terms include:\n",
        "\n",
        "-   A **frame** is the basic unit of data transfer at the Link Layer, which includes the packet and additional header information.\n",
        "-   A **MAC Address** is a unique identifier assigned to each network interface card (NIC) in a device, used for communication within a single network segment.\n",
        "-   **Error detection** is the process of identifying and correcting errors that may occur during data transmission.\n",
        "\n",
        "When the letter reaches Buttercup's device, it goes back \"up\" the four-layer network model, from the data link layer (receiving the letter), network layer (reading the address and finding it is from Wesley), transport layer (seeing whether she needs to send a return receipt, and figuring what \"type\" of letter it will be) to application layer (reading the letter and responding."
      ],
      "metadata": {
        "id": "VYHtPbu_nIB0"
      }
    },
    {
      "cell_type": "markdown",
      "source": [
        "## Table: The Four-Layer Network Model\n",
        "\n",
        "| **Layer**            | **Examples of Processes**                                                                                                 |\n",
        "|----------------------|--------------------------------------------------------------------------------------------------------------------|\n",
        "| **Application Layer** | - **Web Browsing**: Using a browser to view websites (HTTP protocol).<br>- **Email**: Sending and receiving emails (SMTP protocol).<br>- **File Transfer**: Downloading or uploading files (FTP protocol).<br>- **Domain Name Resolution**: Converting website names to IP addresses (DNS protocol). |\n",
        "| **Transport Layer**   | - **Establishing Connections**: Setting up a connection between your computer and a server (TCP handshake).<br>- **Data Segmentation**: Breaking large messages into smaller packets for transmission.<br>- **Error Checking**: Ensuring data arrives without errors (using checksums). |\n",
        "| **Internet Layer**    | - **IP Addressing**: Assigning IP addresses to devices for identification.<br>- **Routing**: Directing data packets through routers to their destination.<br>- **Packet Forwarding**: Moving packets from one network to another. |\n",
        "| **Link Layer**        | - **Physical Signaling**: Converting data into electrical, optical, or radio signals.<br>- **MAC Addressing**: Using hardware addresses to identify devices on the same network segment.<br>- **Error Detection**: Checking for errors in transmitted frames (using methods like CRC). |\n"
      ],
      "metadata": {
        "id": "u7RXvFsy5AlJ"
      }
    },
    {
      "cell_type": "code",
      "source": [
        "import base64\n",
        "from IPython.display import Image, display\n",
        "import matplotlib.pyplot as plt\n",
        "\n",
        "def mm(graph):\n",
        "    graphbytes = graph.encode(\"utf8\")\n",
        "    base64_bytes = base64.urlsafe_b64encode(graphbytes)\n",
        "    base64_string = base64_bytes.decode(\"ascii\")\n",
        "    display(Image(url=\"https://mermaid.ink/img/\" + base64_string))\n",
        "\n",
        "mm(\"\"\"\n",
        "classDiagram\n",
        "    direction LR\n",
        "    class NetworkAccessLayer {\n",
        "        <<Layer 1>>\n",
        "        +Ethernet: Wired LAN technology\n",
        "        +Wi-Fi: Wireless LAN technology\n",
        "        +PPP: Point-to-point protocol\n",
        "        +MAC addressing: Hardware addressing\n",
        "        +CSMA/CD: Collision detection\n",
        "        +Frame synchronization\n",
        "        --\n",
        "        +managePhysicalConnections()\n",
        "        +handleDataFraming()\n",
        "    }\n",
        "    class InternetLayer {\n",
        "        <<Layer 2>>\n",
        "        +IP: Addressing and routing\n",
        "        +ICMP: Network diagnostics\n",
        "        +ARP: Address resolution\n",
        "        +IPsec: Security protocol suite\n",
        "        +NAT: Network address translation\n",
        "        --\n",
        "        +handleAddressing()\n",
        "        +manageRouting()\n",
        "        +forwardPackets()\n",
        "    }\n",
        "    class TransportLayer {\n",
        "        <<Layer 3>>\n",
        "        +TCP: Reliable, connection-oriented\n",
        "        +UDP: Fast, connectionless\n",
        "        +Port numbers: Service identification\n",
        "        +Flow control: Manage data rate\n",
        "        +Error checking: Ensure data integrity\n",
        "        --\n",
        "        +ensureReliableTransfer()\n",
        "        +handleSegmentation()\n",
        "        +handleReassembly()\n",
        "    }\n",
        "    class ApplicationLayer {\n",
        "        <<Layer 4>>\n",
        "        +HTTP: Web browsing protocol\n",
        "        +FTP: File transfer protocol\n",
        "        +SMTP: Email sending protocol\n",
        "        +DNS: Domain name resolution\n",
        "        +Telnet: Remote access\n",
        "        +SNMP: Network management\n",
        "        --\n",
        "        +provideUserServices()\n",
        "        +interactWithApplications()\n",
        "    }\n",
        "\n",
        "    NetworkAccessLayer <--> InternetLayer : Frames <--> Packets\n",
        "    InternetLayer <--> TransportLayer : Packets <--> Segments\n",
        "    TransportLayer <--> ApplicationLayer : Segments <--> Data\n",
        "\n",
        "\"\"\")"
      ],
      "metadata": {
        "id": "X4HuFmqe8SwV",
        "outputId": "f072bb03-3fa2-4951-bd5d-17587589dd22",
        "colab": {
          "base_uri": "https://localhost:8080/",
          "height": 325
        }
      },
      "execution_count": 3,
      "outputs": [
        {
          "output_type": "display_data",
          "data": {
            "text/html": [
              "<img src=\"https://mermaid.ink/img/CmNsYXNzRGlhZ3JhbQogICAgZGlyZWN0aW9uIExSCiAgICBjbGFzcyBOZXR3b3JrQWNjZXNzTGF5ZXIgewogICAgICAgIDw8TGF5ZXIgMT4-CiAgICAgICAgK0V0aGVybmV0OiBXaXJlZCBMQU4gdGVjaG5vbG9neQogICAgICAgICtXaS1GaTogV2lyZWxlc3MgTEFOIHRlY2hub2xvZ3kKICAgICAgICArUFBQOiBQb2ludC10by1wb2ludCBwcm90b2NvbAogICAgICAgICtNQUMgYWRkcmVzc2luZzogSGFyZHdhcmUgYWRkcmVzc2luZwogICAgICAgICtDU01BL0NEOiBDb2xsaXNpb24gZGV0ZWN0aW9uCiAgICAgICAgK0ZyYW1lIHN5bmNocm9uaXphdGlvbgogICAgICAgIC0tCiAgICAgICAgK21hbmFnZVBoeXNpY2FsQ29ubmVjdGlvbnMoKQogICAgICAgICtoYW5kbGVEYXRhRnJhbWluZygpCiAgICB9CiAgICBjbGFzcyBJbnRlcm5ldExheWVyIHsKICAgICAgICA8PExheWVyIDI-PgogICAgICAgICtJUDogQWRkcmVzc2luZyBhbmQgcm91dGluZwogICAgICAgICtJQ01QOiBOZXR3b3JrIGRpYWdub3N0aWNzCiAgICAgICAgK0FSUDogQWRkcmVzcyByZXNvbHV0aW9uCiAgICAgICAgK0lQc2VjOiBTZWN1cml0eSBwcm90b2NvbCBzdWl0ZQogICAgICAgICtOQVQ6IE5ldHdvcmsgYWRkcmVzcyB0cmFuc2xhdGlvbgogICAgICAgIC0tCiAgICAgICAgK2hhbmRsZUFkZHJlc3NpbmcoKQogICAgICAgICttYW5hZ2VSb3V0aW5nKCkKICAgICAgICArZm9yd2FyZFBhY2tldHMoKQogICAgfQogICAgY2xhc3MgVHJhbnNwb3J0TGF5ZXIgewogICAgICAgIDw8TGF5ZXIgMz4-CiAgICAgICAgK1RDUDogUmVsaWFibGUsIGNvbm5lY3Rpb24tb3JpZW50ZWQKICAgICAgICArVURQOiBGYXN0LCBjb25uZWN0aW9ubGVzcwogICAgICAgICtQb3J0IG51bWJlcnM6IFNlcnZpY2UgaWRlbnRpZmljYXRpb24KICAgICAgICArRmxvdyBjb250cm9sOiBNYW5hZ2UgZGF0YSByYXRlCiAgICAgICAgK0Vycm9yIGNoZWNraW5nOiBFbnN1cmUgZGF0YSBpbnRlZ3JpdHkKICAgICAgICAtLQogICAgICAgICtlbnN1cmVSZWxpYWJsZVRyYW5zZmVyKCkKICAgICAgICAraGFuZGxlU2VnbWVudGF0aW9uKCkKICAgICAgICAraGFuZGxlUmVhc3NlbWJseSgpCiAgICB9CiAgICBjbGFzcyBBcHBsaWNhdGlvbkxheWVyIHsKICAgICAgICA8PExheWVyIDQ-PgogICAgICAgICtIVFRQOiBXZWIgYnJvd3NpbmcgcHJvdG9jb2wKICAgICAgICArRlRQOiBGaWxlIHRyYW5zZmVyIHByb3RvY29sCiAgICAgICAgK1NNVFA6IEVtYWlsIHNlbmRpbmcgcHJvdG9jb2wKICAgICAgICArRE5TOiBEb21haW4gbmFtZSByZXNvbHV0aW9uCiAgICAgICAgK1RlbG5ldDogUmVtb3RlIGFjY2VzcwogICAgICAgICtTTk1QOiBOZXR3b3JrIG1hbmFnZW1lbnQKICAgICAgICAtLQogICAgICAgICtwcm92aWRlVXNlclNlcnZpY2VzKCkKICAgICAgICAraW50ZXJhY3RXaXRoQXBwbGljYXRpb25zKCkKICAgIH0KCiAgICBOZXR3b3JrQWNjZXNzTGF5ZXIgPC0tPiBJbnRlcm5ldExheWVyIDogRnJhbWVzIDwtLT4gUGFja2V0cwogICAgSW50ZXJuZXRMYXllciA8LS0-IFRyYW5zcG9ydExheWVyIDogUGFja2V0cyA8LS0-IFNlZ21lbnRzCiAgICBUcmFuc3BvcnRMYXllciA8LS0-IEFwcGxpY2F0aW9uTGF5ZXIgOiBTZWdtZW50cyA8LS0-IERhdGEKCg==\"/>"
            ],
            "text/plain": [
              "<IPython.core.display.Image object>"
            ]
          },
          "metadata": {}
        }
      ]
    },
    {
      "cell_type": "markdown",
      "source": [
        "## Applying the Application Layer: Protocols and Ports\n",
        "The Application Layer, the topmost layer of the four-layer network model, encompasses protocols that users often interact with directly, albeit behind the scenes of user-friendly applications. These protocols enable activities like web browsing, email communication, and file transfers. Critical to the functioning of these protocols is the concept of \"ports.\"\n",
        "\n",
        "In the context of networking, a **port** is a virtual point where network connections start and end. Ports are associated with specific processes or services in a system, and each service has a unique port number. Port numbers help the system identify the correct application or service for which the data is intended. Essentially, they are like apartment numbers in a large building, ensuring the mail (or data) gets to the correct resident (or application).\n",
        "\n",
        "Some port numbers are reserved for specific services as per the Internet Assigned Numbers Authority (IANA). These are known as well-known port numbers, ranging from 0 to 1023. Here are a few examples:\n",
        "\n",
        "| Name | Port Number | Description |\n",
        "| --- | --- | --- |\n",
        "| HTTP | 80 | Hypertext Transfer Protocol, used for transferring web content. |\n",
        "| HTTPS | 443 | HTTP Secure, a secure version of HTTP for sensitive information. |\n",
        "| FTP | 20, 21 | File Transfer Protocol, used for transferring files between hosts. Port 20 is for data transfer and port 21 for command control. |\n",
        "| SMTP | 25 | Simple Mail Transfer Protocol, used for sending emails. |\n",
        "| IMAP | 143 | Internet Message Access Protocol, used for receiving emails. |\n",
        "| POP3 | 110 | Post Office Protocol 3, also used for receiving emails. |\n",
        "| DNS | 53 | Domain Name System, translates URLs into IP addresses. |\n",
        "| SSH | 22 | Secure Shell, used for secure access to remote computers. |\n",
        "| Telnet | 23 | Telnet, a protocol used for interacting with remote computers. |\n",
        "| RDP | 3389 | Remote Desktop Protocol, used for remote desktop connections. |\n",
        "| SQL | 1433 | SQL Server, used for database management systems. |\n",
        "\n",
        "THese are just a few of the hundreds of ports. You can find out more at https://en.wikipedia.org/wiki/List_of_TCP_and_UDP_port_numbers."
      ],
      "metadata": {
        "id": "kNSsN4ThbJ50"
      }
    },
    {
      "cell_type": "markdown",
      "source": [
        "### HTTP: An Application-Layer Protocol for the World Wide Web\n",
        "\n",
        "The **Hyptertext Transport Protocol (HTTP)** in an application-layer protocolinvented by Tim Berners-Lee, the creator of the World Wide Web, and his team at CERN in 1989. The purpose of HTTP is to allow the fetching of resources, such as HTML documents, images, and videos, from servers and displaying them on a client's browser. Essentially, HTTP is the protocol that enables communication between web browsers (clients) and web servers, allowing us to surf the internet.\n",
        "\n",
        "HTTP is critically important because it forms the foundation of any data exchange on the web. It's not an exaggeration to say that almost every action you perform on the internet---from clicking a link, to typing a URL into your browser's address bar, to submitting a form on a webpage---starts an HTTP request.\n",
        "HTTP is based on the request-response model. That means the communication usually begins with a client (for instance, your browser) making a request to a server. The server, upon receiving this request, processes it and sends a response back to the client.  Here's a simplified step-by-step breakdown of how this works:\n",
        "\n",
        "1.  *The Client Sends a Request.* Let's say you want to visit `www.example.com`. When you type this URL into your browser and hit Enter, your browser starts an HTTP request. This request is a message which includes information like the desired action (often \"GET\" to fetch data, though there are other methods), the URL, and the HTTP version.\n",
        "\n",
        "2.  *The Server Processes the Request.* The HTTP request message is received by the web server hosting `www.example.com`. The server processes the request, interpreting what resources are asked for and what action the client wants to perform.\n",
        "\n",
        "3.  *The Server Sends a Response.* After processing, the server forms an HTTP response and sends it back to the client. This response includes a status code that indicates whether the request was successful (for example, \"200\" for success) or if there were any errors (for example, \"404\" means the requested page was not found). Along with the status code, if the request was successful, the server includes the requested resource in the response---for instance, the HTML of a web page.\n",
        "\n",
        "4.  *The Client Displays the Response.* Once your browser receives the HTTP response, it interprets the data and renders the web page on your screen. If the requested resource is an HTML file, the browser reads the HTML, CSS, and JavaScript, fetches any necessary additional files (like images), and displays the formatted page for you to view.\n",
        "\n",
        "Remember, this is a simplified explanation. In reality, there's a lot more complexity involved, including things like HTTP headers for transmitting metadata, cookies for maintaining state, and HTTPS for securing communications. But at its heart, HTTP is about sending a request from a client to a server, and returning a response from the server back to the client. This basic model underlies much of the activity on the internet."
      ],
      "metadata": {
        "id": "jh4LquZ9dI9R"
      }
    },
    {
      "cell_type": "markdown",
      "source": [
        "## Two Ways to Transport Data (TCP and UDP)\n",
        "\n",
        "The Transport Layer is essential for network communication, facilitating end-to-end services between applications. It ensures reliable and transparent data transfer between end systems (hosts) through protocols like **TCP (Transmission Control Protocol)** and **UDP (User Datagram Protocol).**\n",
        "\n",
        "TCP is all about reliable and orderly delivery of data packets. It's like a tracked mail service - you know your data will get there and in the order you sent it. Key features of TCP include reliable transmission (it retransmits lost or corrupted packets), flow control (managing the data transfer rate to avoid overwhelming the receiver), ordered delivery (rearranging packets that arrive out of order), and congestion control (preventing traffic bottlenecks).\n",
        "\n",
        "UDP, on the other hand, is simpler and connectionless. It's like sending a letter without tracking - faster but without guarantees of delivery or order. UDP doesn't provide TCP's reliability mechanisms, making it faster and suitable for applications where speed is more critical than precision, like live broadcasts or online games.\n",
        "\n",
        "Both TCP and UDP use port numbers to direct data to the correct application on a network device. Key features of these protocols include:\n",
        "\n",
        "| Feature | TCP | UDP |\n",
        "| --- | --- | --- |\n",
        "| Connection | Connection-oriented (requires connection setup) | Connectionless (no setup required) |\n",
        "| Reliability | Ensures data delivery and order | Does not guarantee delivery or order |\n",
        "| Speed | Slower due to reliability mechanisms | Faster due to lack of overhead |\n",
        "| Data Flow Control | Includes flow and congestion control mechanisms | No flow control, open to congestion |\n",
        "| Use Cases | Ideal for applications requiring reliability, such as web browsing, email | Suited for real-time applications, like gaming, streaming |\n",
        "| Header Size | Larger headers due to control information | Smaller headers, leading to less overhead |"
      ],
      "metadata": {
        "id": "5muJO23HeYzc"
      }
    },
    {
      "cell_type": "markdown",
      "source": [
        "## How the Internet Protocol (IP) Enables Global Connectivity\n",
        "The Internet Layer, also known as the network layer, is responsible for receiving segments from the Transport Layer and packaging them into packets. But perhaps its most significant role is addressing, routing, and forwarding these packets to allow communication between networks, hence facilitating global connectivity. Let's dive into this.\n",
        "\n",
        "1. At the heart of this process is the **Internet Protocol (IP)**, which defines the system of IP addresses. An IP address is a unique identifier assigned to each device connected to a network that uses IP for communication. There are two types of IP addresses: IPv4 and IPv6. **IPv4 addresses** are composed of four sets of numbers, each ranging from 0 to 255, separated by periods (e.g., 192.168.1.1). **IPv6 addresses**, which are being more widely used due to the exhaustion of IPv4 addresses, are composed of eight groups of four hexadecimal digits, separated by colons (e.g., 2001:0db8:85a3:0000:0000:8a2e:0370:7334).  Each IP address in an IP network must be unique within that network.\n",
        "\n",
        "2. The Internet Layer is also responsible for routing data packets to their destinations using IP addresses. Each **router** connected to the network has a table known as the **routing table** that stores routes (paths) to different network destinations. It uses these tables to decide the best path for forwarding the packets.  When a data packet is sent from one network to another, it usually passes through several routers. Each router examines the IP address of the packet's destination and consults its routing table to decide which way to send the packet. The packet is forwarded from router to router along the path until it reaches its destination network.\n",
        "\n",
        "3. The process of sending the packets from one network to another, as decided by the routers, is known as **forwarding**. The routers at the boundary of each network are responsible for forwarding the packets to the next network on the path to the destination.\n",
        "\n",
        "4. Each device connected to a network receives an IP address, which can be either public or private. A **public IP address** is a globally unique address that is assigned to a device, like a router, that connects directly to the internet. These addresses are used across the entire internet to locate networked devices. **Private IP addresses**, on the other hand, are used within private networks such as home, office, or enterprise networks. These addresses are not routable on the open internet and therefore provide a layer of security by inherently hiding the networked device from the world. Common private IPv4 address ranges include 10.0.0.0 to 10.255.255.255, 172.16.0.0 to 172.31.255.255, and 192.168.0.0 to 192.168.255.255.\n",
        "\n",
        "\n",
        "The combination of unique IP addressing and the capability of IP routing and forwarding enables global connectivity. Regardless of the network, each device can send packets to any other device in the world, as long as they are both connected to the internet. The packets are routed through various networks and routers on their journey, each hop getting them closer to their destination, until they ultimately reach the correct device."
      ],
      "metadata": {
        "id": "p2XEwncVgHak"
      }
    },
    {
      "cell_type": "markdown",
      "source": [
        "### A Little History of the Internet\n",
        "The internet is a \"network of networks\" that allows computers all around the world to communicate with each other. Initially created for academic and military purposes, it has become an essential tool for billions of people and has influenced almost every aspect of modern life. Here are a few of the major milestones.\n",
        "\n",
        "\n",
        "| Time Period | Development/Technology | Description/Significance |\n",
        "| --- | --- | --- |\n",
        "| 1960s | ARPANET | The Advanced Research Projects Agency Network (ARPANET) was the first major packet-switching network, laying the groundwork for future internet development. |\n",
        "| 1971 | Email | Ray Tomlinson introduces email, revolutionizing communication over networks. |\n",
        "| 1974 | TCP/IP | Development of Transmission Control Protocol (TCP) and Internet Protocol (IP), foundational protocols for data transmission on the internet. |\n",
        "| 1980s | Domain Name System (DNS) | DNS is introduced for translating domain names into IP addresses, making the internet more user-friendly. |\n",
        "| 1989 | World Wide Web (WWW) | Tim Berners-Lee invents the World Wide Web, a system for accessing and sharing information over the internet, using Hypertext Transfer Protocol (HTTP). |\n",
        "| Early 1990s | Web Browsers | The introduction of web browsers like Mosaic, later Netscape, simplifies access to the Web, leading to widespread public use. |\n",
        "| Mid 1990s | Commercialization of the Internet | The internet transitions from a research and academic network to a commercial and public service. |\n",
        "| Late 1990s | Search Engines | Development of search engines like Google revolutionizes information retrieval on the internet. |\n",
        "| Early 2000s | Broadband Expansion | The expansion of broadband internet increases speed and accessibility, enabling more sophisticated online services. |\n",
        "| Mid 2000s | Social Media | The rise of social media platforms like Facebook and Twitter changes the way people communicate and consume information online. |\n",
        "| Late 2000s to 2010s | Cloud Computing and Mobile Internet | Cloud computing services become mainstream; the proliferation of smartphones leads to the widespread adoption of mobile internet. |\n",
        "| 2010s | Internet of Things (IoT) | The expansion of IoT connects a wide range of devices to the internet, further integrating digital technology into everyday life. |\n",
        "| 2010s - 2020s | Artificial Intelligence and Big Data | Advances in AI and big data analytics transform how data is processed and used on the internet, impacting various sectors from healthcare to commerce. |\n",
        "| 2020s | 5G Technology | Deployment of 5G networks promises faster speeds, lower latency, and supports the growing demand for IoT and mobile internet. |\n",
        "\n",
        "\n",
        "The table highlights key milestones in internet development, showcasing its evolution from a research project to a global communications and information platform. Each decade brought significant innovations, from fundamental protocols to user-friendly interfaces, commercialization, information retrieval, social interaction, and ever-increasing connectivity. Today, AI and big data are shaping the future, while 5G promises to unlock further possibilities for the internet's impact on everyday life."
      ],
      "metadata": {
        "id": "qGQ50AgoldlX"
      }
    },
    {
      "cell_type": "markdown",
      "source": [
        "## Network Interace (\"Data Link\") Layer\n",
        "The **Network Interface Layer**, also known as the Link or Data Link Layer, is the layer that interfaces directly with the physical network. It forms the bridge between the logical aspect of network communication, handled by the layers above it, and the physical reality of transmitting and receiving data over hardware.\n",
        "\n",
        "Imagine you're sending a letter to a friend. You have your message ready, but you can't just hand your words over to the mail carrier. You need to put your message inside an envelope with your friend's address on it and your return address. The envelope is akin to a \"frame\" in network terms. Just like the envelope encapsulates your letter, a frame encapsulates the data to be transmitted over the network. Each frame includes not just the data, or \"payload\", but also source and destination addresses, as well as other control information to ensure successful transmission.\n",
        "\n",
        "Imporant technologies and protocols include:\n",
        "\n",
        "| Technology/Protocol | Description and Role |\n",
        "| --- | --- |\n",
        "| Ethernet | This is used in wired networks to connect devices like computers. It puts data into a format (called frames) for sending over cables. These frames include addresses to identify each device, the data being sent, and checks for errors. |\n",
        "| Wi-Fi (IEEE 802.11) | Similar to Ethernet, but for wireless networks. It sends data over air using radio signals. Just like Ethernet, it uses frames with addresses and data, but it also has special ways to deal with many devices using the same air space. |\n",
        "| MAC Addresses | These are unique numbers for every device in a network, like an ID card for each computer or phone. They help make sure the data sent over a network reaches the right device. |\n",
        "| Switches and Bridges | These are like traffic officers for networks. They look at the addresses on data and decide where to send it in the network, making sure data goes to the right device. |\n",
        "| ARP (Address Resolution Protocol) | This is used when a device knows the IP address (like a postal address for the internet) of another device but needs to find out its MAC address (the device's unique ID). |\n",
        "| PPP (Point-to-Point Protocol) | A method for connecting two network devices directly, like a direct phone call between two computers. It wraps up data in a special way so it can be sent over these direct connections. |\n",
        "| Frame Relay | This is a way to send data quickly over a network, especially used in big telecommunications networks. It chops data into pieces and sends them in an efficient way to speed up delivery. |\n",
        "| VLANs (Virtual Local Area Networks) | This technology divides a big network into smaller, separate networks. This helps manage the network better and can keep certain data more secure. |\n",
        "\n",
        "These technologies and protocols work in tandem to ensure that data is correctly packaged into frames, sent over the physical network, and accurately delivered to the right device. This process begins with encapsulating data in Ethernet or Wi-Fi frames, which include the MAC addresses of the sending and receiving devices. If the MAC address of the receiving device isn't known, ARP is used to find it. Switches or bridges then forward these frames to the right destination within the network"
      ],
      "metadata": {
        "id": "JmGrjBsmt62p"
      }
    },
    {
      "cell_type": "markdown",
      "source": [
        "## FAQ: The Network Ninja's Guide to the Four-Layer Network Model\n",
        "\n",
        "Greetings, aspiring network warriors! I am the Network Ninja, here to unveil the mysteries of the Four-Layer Network Model. Prepare to see the invisible structures that govern our digital realm!\n",
        "\n",
        "### Q1: What happens at the Network Access Layer?\n",
        "\n",
        "Young grasshopper, the Network Access Layer is like the foundational kata of networking. It's where physical and electrical signals become the building blocks of digital communication.\n",
        "\n",
        "Imagine a Shaolin monastery where monks train in a secret courtyard. The courtyard itself is like the physical medium - be it Ethernet cables or Wi-Fi signals. The monks' movements represent the electrical signals carrying data.\n",
        "\n",
        "When two monks spar, they must agree on the rules of engagement. Similarly, devices at this layer must agree on:\n",
        "1. Signal voltage levels (like the force of a punch)\n",
        "2. Timing of signals (like the rhythm of attacks)\n",
        "3. Physical connector shapes (like the specific fighting stance)\n",
        "\n",
        "For example, in Ethernet:\n",
        "- The cable is the courtyard\n",
        "- Electrical pulses are the monks' movements\n",
        "- The RJ45 connector shape is the agreed-upon fighting stance\n",
        "\n",
        "Just as a Shaolin monk must master the basic forms before learning advanced techniques, networking starts with these fundamental physical interactions.\n",
        "\n",
        "### Q2: How does the Internet Layer direct data across networks?\n",
        "\n",
        "Ah, this layer is where we learn the art of IP addressing and routing - the equivalent of a ninja's stealth and navigation skills.\n",
        "\n",
        "Picture our digital realm as a vast landscape of hidden ninja clans. Each clan (network) has a secret location (network address), and each ninja (device) has a unique codename (IP address).\n",
        "\n",
        "IP addressing is like assigning these codenames. For instance, 192.168.1.1 might be \"Swift Crane of the Southern Lake.\"\n",
        "\n",
        "Routing is the ninja's art of secretly passing messages between clans. Routers are like master ninjas who know the secret paths between all clans. When a message needs to travel, it's passed to these master ninjas, who determine the best path:\n",
        "\n",
        "1. They look at the destination IP (the recipient's codename)\n",
        "2. They consult their secret map (routing table)\n",
        "3. They choose the best next hop, considering factors like speed and secrecy\n",
        "\n",
        "For example, if a message from 192.168.1.1 (\"Swift Crane\") needs to reach 10.0.0.1 (\"Silent Wolf of the Northern Mountain\"):\n",
        "1. The router sees it's for a different clan (network)\n",
        "2. It checks its map and sees it must pass through the Misty Forest Gateway (another router)\n",
        "3. It wraps the message in a new envelope (packet) addressed to the Misty Forest Gateway\n",
        "4. The Misty Forest Gateway then passes it to the Northern Mountain clan\n",
        "\n",
        "This process continues, hop by hop, until the message reaches its destination, just as ninjas might pass a secret scroll across the land.\n",
        "\n",
        "### Q3: How does the Transport Layer ensure reliable communication?\n",
        "\n",
        "This layer, young one, is where we master the arts of TCP and UDP - the yin and yang of data transport.\n",
        "\n",
        "Imagine two samurai clans exchanging messages. They have two methods:\n",
        "\n",
        "1. TCP (Transmission Control Protocol): The way of the meticulous scribe\n",
        "2. UDP (User Datagram Protocol): The way of the swift messenger\n",
        "\n",
        "TCP is like a careful scribe copying an important scroll:\n",
        "- He numbers each section (sequence numbers)\n",
        "- He waits for confirmation before writing the next part (acknowledgments)\n",
        "- If a section is smudged, he rewrites it (retransmission)\n",
        "- He ensures the sections are in order (in-order delivery)\n",
        "- He adjusts his writing speed to match the reader's pace (flow control)\n",
        "\n",
        "For example, when downloading a file:\n",
        "1. Your computer sends a request: \"Send scroll section 1\"\n",
        "2. The server sends section 1\n",
        "3. Your computer confirms: \"Received section 1, send section 2\"\n",
        "4. This continues until the entire scroll is transmitted\n",
        "\n",
        "UDP, on the other hand, is like a swift messenger delivering short, urgent notes:\n",
        "- He doesn't wait for confirmation\n",
        "- He doesn't guarantee the order of delivery\n",
        "- He doesn't resend lost messages\n",
        "\n",
        "This is useful for real-time applications like video calls, where speed is more important than perfect accuracy.\n",
        "\n",
        "### Q4: What role does the Application Layer play?\n",
        "\n",
        "The Application Layer, my student, is where the higher arts of networking are practiced. It's like the secret techniques that turn a fighter into a true master.\n",
        "\n",
        "Think of the lower layers as the basic combat skills. The Application Layer is where these skills are applied to achieve specific goals - like how a samurai might use his sword skills for calligraphy, tea ceremony, or battlefield strategy.\n",
        "\n",
        "Here, we have protocols like:\n",
        "\n",
        "1. HTTP/HTTPS: The art of retrieving scrolls (web pages)\n",
        "   - HTTP is like sending an open messenger to a public library\n",
        "   - HTTPS is like sending a ninja with a secret code to a hidden archive\n",
        "\n",
        "2. FTP: The technique of exchanging large scrolls (file transfer)\n",
        "   - Like two clans exchanging chests of documents, with a specific etiquette for requesting, sending, and receiving\n",
        "\n",
        "3. SMTP/POP3/IMAP: The methods of sending and receiving secret messages (email)\n",
        "   - SMTP is like the clan's outgoing messenger service\n",
        "   - POP3/IMAP are like different ways of managing your incoming message scroll\n",
        "\n",
        "4. DNS: The secret directory of clan locations\n",
        "   - Instead of memorizing \"Silent Wolf lives in the Northern Mountain at 10.0.0.1\"\n",
        "   - You just need to know \"SilentWolf.NorthernMountain.com\"\n",
        "\n",
        "For example, when you enter \"www.ninjadojo.com\" in your browser:\n",
        "1. Your computer consults DNS to find the IP address (clan location)\n",
        "2. It then uses HTTP to request the webpage (scroll) from that address\n",
        "3. The data is broken into packets (scroll sections) and sent via TCP\n",
        "4. Lower layers handle the transmission details\n",
        "\n",
        "Remember, young grasshopper, as the great master Bruce Lee said, \"Absorb what is useful, discard what is not, add what is uniquely your own.\" Each layer builds upon the others, creating the complex and powerful system we call the Internet."
      ],
      "metadata": {
        "id": "QrKdvV77-KkZ"
      }
    },
    {
      "cell_type": "markdown",
      "source": [
        "## Four Layer Network Quiz Game\n",
        "Run the following cell to launch the quiz."
      ],
      "metadata": {
        "id": "Baszn2yeeRws"
      }
    },
    {
      "cell_type": "code",
      "source": [
        "!wget https://github.com/brendanpshea/colab-utilities/raw/main/four_layer_network_quiz.py -q -nc\n",
        "from four_layer_network_quiz import four_layer_network_quiz\n",
        "four_layer_network_quiz()"
      ],
      "metadata": {
        "colab": {
          "base_uri": "https://localhost:8080/"
        },
        "id": "g-5rU-eveYWr",
        "outputId": "35e54720-e612-48ea-8575-aca13704781a"
      },
      "execution_count": null,
      "outputs": [
        {
          "output_type": "stream",
          "name": "stdout",
          "text": [
            "Welcome to the Four-Layer Network Model Game!\n",
            "For each statement, enter the corresponding layer:\n",
            "Application, Transport, Network, or Data Link\n",
            "\n",
            "Type 'quit' to exit the game.\n",
            "\n",
            "\n",
            "Statement: This layer provides end-to-end error detection and recovery mechanisms.\n",
            "Your answer: quit\n",
            "Game exited early. Your final score: 0/10\n"
          ]
        }
      ]
    },
    {
      "cell_type": "markdown",
      "source": [
        "## A Short Course in HTML\n",
        "**Hypertext Markup Language (HTML)** is the standard markup language for creating web pages and web applications. It's a language that structures content on the internet and forms the building blocks of all websites. HTML does this by using tags that define the content type, such as headers, paragraphs, lists, links, images, and more.  Here's why we use HTML:\n",
        "\n",
        "1.   HTML is universally understood by browsers across platforms (Windows, Mac, Linux, etc.) and devices (desktop, laptop, mobile, etc.). This makes it essential for creating content on the internet.\n",
        "\n",
        "2.   HTML provides the structure to web pages. It allows you to define various elements like headings, paragraphs, lists, tables, images, forms, etc., making your content readable and understandable by web browsers.\n",
        "\n",
        "3.   HTML allows embedding various types of media like images, videos, audio, etc., into the web page.\n",
        "\n",
        "4.   HTML allows web pages to connect to each other via hyperlinks, thus creating the \"web\" of connections that is the internet.\n",
        "\n",
        "5.  Other technologies like CSS and JavaScript are often used in combination with HTML. CSS is used to control the look and feel of the HTML content, and JavaScript is used to add interactivity to HTML web pages.\n",
        "\n",
        "6.  HTML is good for search engine optimization (SEO). Search engines use the tags in HTML to understand the content of web pages, which helps in getting your website discovered.\n",
        "\n",
        "Understanding HTML is fundamental to web development and other related fields. In this section, we'll learn the basics of HTML."
      ],
      "metadata": {
        "id": "mkIgvIx5t32U"
      }
    },
    {
      "cell_type": "markdown",
      "source": [
        "### A Simple Structure\n",
        "An HTML document has a specific structure. This structure allows browsers to interpret the content correctly. Here are the main components of an HTML document:\n",
        "\n",
        "1.  **DOCTYPE Declaration.** This is the first line of an HTML document and it represents the document type declaration. It helps the browser to understand the version of the HTML being used. For HTML5, this is declared as `<!DOCTYPE html>`.\n",
        "\n",
        "2.  The **<html>** tag is the root element of an HTML page, which contains all other HTML elements. It is marked with `<html>` tags.\n",
        "\n",
        "3. The **`<head>`** element contains meta-information about the HTML document. This is not content that is shown on the webpage itself, but information for the browser and search engines. This includes:\n",
        "\n",
        "    -    The **`<title>`** tag specifies the title of the web page. The title is what shows up in the browser tab and is also used by search engines.\n",
        "    -   **Meta tags** include various details about the HTML document. This could be character encoding declaration (like `<meta charset=\"UTF-8\">`), information for search engine (like meta description), and viewport settings for responsive design.\n",
        "4.  The **`<body>`** tag contains the content that is displayed on the web page. This could be text, images, videos, games, clickable buttons, hyperlinks, etc. The body is where you structure your content with various HTML tags like headers (h1-h6), paragraphs (p), lists (ul and ol), links (a), images (img), etc.\n",
        "\n",
        "So a very basic HTML document would look something like this:"
      ],
      "metadata": {
        "id": "0ixXUaX0vFjS"
      }
    },
    {
      "cell_type": "code",
      "source": [
        "%%html\n",
        "\n",
        "<!DOCTYPE html>\n",
        "<html>\n",
        "  <head>\n",
        "    <title>Page Title</title>\n",
        "    <meta charset=\"UTF-8\">\n",
        "  </head>\n",
        "  <body>\n",
        "    <h1>My First Heading</h1>\n",
        "    <p>My first paragraph.</p>\n",
        "  </body>\n",
        "</html>\n"
      ],
      "metadata": {
        "colab": {
          "base_uri": "https://localhost:8080/",
          "height": 100
        },
        "id": "ON9qxIA6vRrX",
        "outputId": "b2754ebd-45ae-4ded-ca13-309b1532fd15"
      },
      "execution_count": null,
      "outputs": [
        {
          "output_type": "display_data",
          "data": {
            "text/plain": [
              "<IPython.core.display.HTML object>"
            ],
            "text/html": [
              "\n",
              "<!DOCTYPE html>\n",
              "<html>\n",
              "  <head>\n",
              "    <title>Page Title</title>\n",
              "    <meta charset=\"UTF-8\">\n",
              "  </head>\n",
              "  <body>\n",
              "    <h1>My First Heading</h1>\n",
              "    <p>My first paragraph.</p>\n",
              "  </body>\n",
              "</html>\n"
            ]
          },
          "metadata": {}
        }
      ]
    },
    {
      "cell_type": "markdown",
      "source": [
        "### Adding Content to Our HTML Page\n",
        "HTML provides numerous elements to structure your content effectively. Let's walk through how you might structure a somewhat more complex page about \"The Princess Bride\" using different HTML elements.\n",
        "\n",
        "(Note that this webpage won't be fully functional when run via Colab, as this environment constrains certain functionality)."
      ],
      "metadata": {
        "id": "hsJ_1qZ1wAOV"
      }
    },
    {
      "cell_type": "code",
      "source": [
        "%%html\n",
        "<!DOCTYPE html>\n",
        "<html lang=\"en\">\n",
        "<head>\n",
        "    <meta charset=\"UTF-8\">\n",
        "    <title>The Princess Bride</title>\n",
        "</head>\n",
        "<body>\n",
        "    <header>\n",
        "        <h1>The Princess Bride</h1>\n",
        "        <nav>\n",
        "            <ul>\n",
        "                <li><a href=\"#synopsis\">Synopsis</a></li>\n",
        "                <li><a href=\"#characters\">Characters</a></li>\n",
        "                <li><a href=\"#quotes\">Famous Quotes</a></li>\n",
        "            </ul>\n",
        "        </nav>\n",
        "    </header>\n",
        "\n",
        "    <main>\n",
        "        <section id=\"synopsis\">\n",
        "            <h2>Synopsis</h2>\n",
        "            <p>The Princess Bride is a 1987 romantic comedy fantasy adventure film directed by Rob Reiner. The story follows the farmhand Westley, accompanied by befriended companions, on a journey to rescue his true love Princess Buttercup from the odious Prince Humperdinck.</p>\n",
        "        </section>\n",
        "\n",
        "        <section id=\"characters\">\n",
        "            <h2>Main Characters</h2>\n",
        "            <ul>\n",
        "                <li>Westley (Cary Elwes)</li>\n",
        "                <li>Buttercup (Robin Wright)</li>\n",
        "                <li>Inigo Montoya (Mandy Patinkin)</li>\n",
        "                <li>Fezzik (André the Giant)</li>\n",
        "                <li>Vizzini (Wallace Shawn)</li>\n",
        "                <li>Prince Humperdinck (Chris Sarandon)</li>\n",
        "            </ul>\n",
        "        </section>\n",
        "\n",
        "        <section id=\"quotes\">\n",
        "            <h2>Famous Quotes</h2>\n",
        "            <blockquote>\n",
        "                \"Hello. My name is Inigo Montoya. You killed my father. Prepare to die.\" - Inigo Montoya\n",
        "            </blockquote>\n",
        "            <blockquote>\n",
        "                \"As you wish.\" - Westley\n",
        "            </blockquote>\n",
        "        </section>\n",
        "    </main>\n",
        "\n",
        "    <footer>\n",
        "        <p>Learn more about <a href=\"https://en.wikipedia.org/wiki/The_Princess_Bride_(film)\" target=\"_blank\">The Princess Bride on Wikipedia</a>.</p>\n",
        "    </footer>\n",
        "</body>\n",
        "</html>"
      ],
      "metadata": {
        "colab": {
          "base_uri": "https://localhost:8080/",
          "height": 510
        },
        "id": "-0QQpQ2EsTjN",
        "outputId": "ac3eaba0-e882-4816-b165-5ea598266103"
      },
      "execution_count": null,
      "outputs": [
        {
          "output_type": "display_data",
          "data": {
            "text/plain": [
              "<IPython.core.display.HTML object>"
            ],
            "text/html": [
              "<!DOCTYPE html>\n",
              "<html lang=\"en\">\n",
              "<head>\n",
              "    <meta charset=\"UTF-8\">\n",
              "    <title>The Princess Bride</title>\n",
              "</head>\n",
              "<body>\n",
              "    <header>\n",
              "        <h1>The Princess Bride</h1>\n",
              "        <nav>\n",
              "            <ul>\n",
              "                <li><a href=\"#synopsis\">Synopsis</a></li>\n",
              "                <li><a href=\"#characters\">Characters</a></li>\n",
              "                <li><a href=\"#quotes\">Famous Quotes</a></li>\n",
              "            </ul>\n",
              "        </nav>\n",
              "    </header>\n",
              "\n",
              "    <main>\n",
              "        <section id=\"synopsis\">\n",
              "            <h2>Synopsis</h2>\n",
              "            <p>The Princess Bride is a 1987 romantic comedy fantasy adventure film directed by Rob Reiner. The story follows the farmhand Westley, accompanied by befriended companions, on a journey to rescue his true love Princess Buttercup from the odious Prince Humperdinck.</p>\n",
              "        </section>\n",
              "\n",
              "        <section id=\"characters\">\n",
              "            <h2>Main Characters</h2>\n",
              "            <ul>\n",
              "                <li>Westley (Cary Elwes)</li>\n",
              "                <li>Buttercup (Robin Wright)</li>\n",
              "                <li>Inigo Montoya (Mandy Patinkin)</li>\n",
              "                <li>Fezzik (André the Giant)</li>\n",
              "                <li>Vizzini (Wallace Shawn)</li>\n",
              "                <li>Prince Humperdinck (Chris Sarandon)</li>\n",
              "            </ul>\n",
              "        </section>\n",
              "\n",
              "        <section id=\"quotes\">\n",
              "            <h2>Famous Quotes</h2>\n",
              "            <blockquote>\n",
              "                \"Hello. My name is Inigo Montoya. You killed my father. Prepare to die.\" - Inigo Montoya\n",
              "            </blockquote>\n",
              "            <blockquote>\n",
              "                \"As you wish.\" - Westley\n",
              "            </blockquote>\n",
              "        </section>\n",
              "    </main>\n",
              "\n",
              "    <footer>\n",
              "        <p>Learn more about <a href=\"https://en.wikipedia.org/wiki/The_Princess_Bride_(film)\" target=\"_blank\">The Princess Bride on Wikipedia</a>.</p>\n",
              "    </footer>\n",
              "</body>\n",
              "</html>\n"
            ]
          },
          "metadata": {}
        }
      ]
    },
    {
      "cell_type": "markdown",
      "source": [
        "### Table: Common HTML Tags\n",
        "\n",
        "| Tag | Description | Example |\n",
        "| --- | --- | --- |\n",
        "| `<h1>` to `<h6>` | Heading tags (largest to smallest) | `<h1>Main Heading</h1>` |\n",
        "| `<p>` | Paragraph | `<p>This is a paragraph.</p>` |\n",
        "| `<a>` | Hyperlink | `<a href=\"https://example.com\">Link</a>` |\n",
        "| `<img>` | Image | `<img src=\"image.jpg\" alt=\"My Image\">` |\n",
        "| `<ul>` | Unordered list | `<ul><li>Item 1</li><li>Item 2</li></ul>` |\n",
        "| `<ol>` | Ordered list | `<ol><li>First</li><li>Second</li></ol>` |\n",
        "| `<li>` | List item | Used within `<ul>` or `<ol>` |\n",
        "| `<div>` | Division or section | `<div>Content</div>` |\n",
        "| `<span>` | Inline container | `<span>Inline text</span>` |\n",
        "| `<br>` | Line break | `<br>` |\n",
        "| `<strong>`, `<em>` | Semantic/logical tags for strong importance (bold) or emphasis (italic) | `<strong>Important!</strong>` `<em>Emphasized</em>` |\n",
        "| `<b>`, `<i>`, `<u>` | Formatting tags for bold, italic, or underline | `<b>bold</b>` `<i>italic</i>` `<u>underline</u>` |\n",
        "| `<table>`, `<th>`, `<tr>`, `<td>` | Table, table header, table row, table data | `<table><tr><th>Header</th></tr><tr><td>Data</td></tr></table>` |\n",
        "| `<button>` | Clickable button | `<button onclick=\"myFunction()\">Click me</button>` |\n",
        "| `<form>` | HTML form for user input | `<form action=\"/submit\" method=\"post\">...</form>` |\n",
        "| `<input>` | Input control | `<input type=\"text\" name=\"username\">` |\n",
        "| `<textarea>` | Multiline text input | `<textarea name=\"message\" rows=\"4\" cols=\"50\"></textarea>` |\n",
        "| `<select>`, `<option>` | Dropdown list | `<select><option value=\"1\">Option 1</option></select>` |\n",
        "| `<header>` | Introductory content or navigation links | `<header><h1>Welcome</h1><nav>...</nav></header>` |\n",
        "| `<nav>` | Navigation links | `<nav><ul><li><a href=\"#home\">Home</a></li></ul></nav>` |\n",
        "| `<section>` | Standalone section of a document | `<section><h2>Section Title</h2><p>...</p></section>` |\n",
        "| `<footer>` | Footer for a document or section | `<footer><p>&copy; 2023 My Website</p></footer>` |\n",
        "\n",
        "These tags form the basic structure of the HTML document and help to semantically organize the content about The Princess Bride movie. By using these tags appropriately, developers can create well-structured and accessible web pages."
      ],
      "metadata": {
        "id": "Z1v5c42twh_I"
      }
    },
    {
      "cell_type": "markdown",
      "source": [
        "## Introduction to CSS\n",
        "Cascading Style Sheets (CSS) is a stylesheet language used for describing the presentation and formatting of a document written in HTML or XML. While HTML provides the structure and content of a webpage, CSS enhances its visual appearance and layout. CSS allows web developers to separate the presentation of a webpage from its structure, making it easier to maintain and update the design across multiple pages.\n",
        "\n",
        "CSS works by associating style rules with HTML elements. These rules govern how the content of specified elements should be displayed. A style rule consists of a selector (which identifies the HTML elements to be styled) and a declaration block (which contains one or more declarations, each consisting of a property and a value).\n",
        "\n",
        "```css\n",
        "p  {    \n",
        "  color:  blue;    \n",
        "  font-size:  16px;  }\n",
        "```\n",
        "\n",
        "In this example, the selector is `p`, which means the rule applies to all `<p>` (paragraph) elements in the HTML document. The declaration block is enclosed in curly braces `{}` and contains two declarations: `color: blue;` (which sets the text color to blue) and `font-size: 16px;` (which sets the font size to 16 pixels).\n",
        "\n",
        "CSS can be included in an HTML document in three ways:\n",
        "\n",
        "1.  *Inline CSS.* Style attributes are added directly to the HTML elements using the `style` attribute.\n",
        "2.  *Internal CSS.* Style rules are placed within the `<style>` element in the `<head>` section of the HTML document.\n",
        "3.  *External CSS.* Style rules are written in a separate `.css` file and linked to the HTML document using the `<link>` element in the `<head>` section.\n",
        "\n",
        "Using external CSS files is generally considered the best practice, as it allows for the separation of concerns and makes maintenance easier.\n",
        "\n",
        "CSS provides a wide range of properties for styling various aspects of HTML elements, such as colors, fonts, backgrounds, margins, padding, borders, positioning, and more. It also supports advanced features like media queries (for responsive design), animations, and transitions.\n",
        "\n",
        "By leveraging the power of CSS, web developers can create visually appealing, well-structured, and maintainable websites. CSS plays a crucial role in modern web development and is an essential skill for any web developer to master.\n",
        "\n",
        "Here's how it might look in the context of a web page:"
      ],
      "metadata": {
        "id": "jVZzsSbswPz4"
      }
    },
    {
      "cell_type": "code",
      "source": [
        "%%html\n",
        "<!DOCTYPE html>\n",
        "<html lang=\"en\">\n",
        "<head>\n",
        "    <meta charset=\"UTF-8\">\n",
        "    <meta name=\"viewport\" content=\"width=device-width, initial-scale=1.0\">\n",
        "    <title>Inigo Montoya - The Princess Bride</title>\n",
        "    <style>\n",
        "        body {\n",
        "            font-family: Arial, sans-serif;\n",
        "            background-color: #f0e8d0;\n",
        "            color: #333;\n",
        "        }\n",
        "        h1 {\n",
        "            color: #8b0000;\n",
        "            text-align: center;\n",
        "        }\n",
        "        img {\n",
        "            display: block;\n",
        "            margin: 0 auto;\n",
        "            border: 5px solid #8b0000;\n",
        "            border-radius: 50%;\n",
        "        }\n",
        "        blockquote {\n",
        "            font-style: italic;\n",
        "            text-align: center;\n",
        "            margin: 20px 0;\n",
        "        }\n",
        "    </style>\n",
        "</head>\n",
        "<body>\n",
        "    <h1>Inigo Montoya</h1>\n",
        "    <img src=\"https://upload.wikimedia.org/wikipedia/en/4/49/Inigo_Montoya.webp\" alt=\"Inigo Montoya\" width=\"300\">\n",
        "\n",
        "    <blockquote>\n",
        "        \"Hello. My name is Inigo Montoya. You killed my father. Prepare to die.\" - Inigo Montoya\n",
        "    </blockquote>\n",
        "\n",
        "    <p>Inigo Montoya is a skilled swordsman and one of the main characters in the movie The Princess Bride. He is on a quest to avenge his father's death and is known for his iconic catchphrase.</p>\n",
        "</body>\n",
        "</html>"
      ],
      "metadata": {
        "colab": {
          "base_uri": "https://localhost:8080/",
          "height": 334
        },
        "id": "1aYaQX4Mwjps",
        "outputId": "8eba1fec-4840-4d76-b7b4-aac85696bba1"
      },
      "execution_count": null,
      "outputs": [
        {
          "output_type": "display_data",
          "data": {
            "text/plain": [
              "<IPython.core.display.HTML object>"
            ],
            "text/html": [
              "<!DOCTYPE html>\n",
              "<html lang=\"en\">\n",
              "<head>\n",
              "    <meta charset=\"UTF-8\">\n",
              "    <meta name=\"viewport\" content=\"width=device-width, initial-scale=1.0\">\n",
              "    <title>Inigo Montoya - The Princess Bride</title>\n",
              "    <style>\n",
              "        body {\n",
              "            font-family: Arial, sans-serif;\n",
              "            background-color: #f0e8d0;\n",
              "            color: #333;\n",
              "        }\n",
              "        h1 {\n",
              "            color: #8b0000;\n",
              "            text-align: center;\n",
              "        }\n",
              "        img {\n",
              "            display: block;\n",
              "            margin: 0 auto;\n",
              "            border: 5px solid #8b0000;\n",
              "            border-radius: 50%;\n",
              "        }\n",
              "        blockquote {\n",
              "            font-style: italic;\n",
              "            text-align: center;\n",
              "            margin: 20px 0;\n",
              "        }\n",
              "    </style>\n",
              "</head>\n",
              "<body>\n",
              "    <h1>Inigo Montoya</h1>\n",
              "    <img src=\"https://upload.wikimedia.org/wikipedia/en/4/49/Inigo_Montoya.webp\" alt=\"Inigo Montoya\" width=\"300\">\n",
              "    \n",
              "    <blockquote>\n",
              "        \"Hello. My name is Inigo Montoya. You killed my father. Prepare to die.\" - Inigo Montoya\n",
              "    </blockquote>\n",
              "    \n",
              "    <p>Inigo Montoya is a skilled swordsman and one of the main characters in the movie The Princess Bride. He is on a quest to avenge his father's death and is known for his iconic catchphrase.</p>\n",
              "</body>\n",
              "</html>\n"
            ]
          },
          "metadata": {}
        }
      ]
    },
    {
      "cell_type": "markdown",
      "source": [
        "In this example, we have a simple webpage dedicated to the character Inigo Montoya from The Princess Bride. The CSS rules are included within the `<style>` element in the `<head>` section of the HTML document.\n",
        "\n",
        "The CSS rules style the body text, heading, image, and blockquote elements. The `font-family` property sets the font for the entire page, while the `background-color` and `color` properties set the background and text colors, respectively. The heading is styled with a specific color and centered text alignment.\n",
        "\n",
        "The image of Inigo Montoya is displayed as a block element, centered on the page, and styled with a border and border-radius to create a circular frame effect.\n",
        "\n",
        "The blockquote element, containing Inigo Montoya's famous catchphrase, is styled with italic text and centered alignment."
      ],
      "metadata": {
        "id": "RcxXFr03xX_I"
      }
    },
    {
      "cell_type": "markdown",
      "source": [
        "### Table: Common CSS Properties\n",
        "\n",
        "| Property | Description | Example |\n",
        "| --- | --- | --- |\n",
        "| `color` | Text color | `color: #333;` |\n",
        "| `background-color` | Background color | `background-color: #f0f8ff;` |\n",
        "| `font-size` | Size of the font | `font-size: 18px;` |\n",
        "| `font-family` | Font type | `font-family: Arial, sans-serif;` |\n",
        "| `text-align` | Alignment of text | `text-align: center;` |\n",
        "| `margin` | Space outside the element | `margin: 10px;` |\n",
        "| `padding` | Space inside the element | `padding: 5px;` |\n",
        "| `border` | Border around an element | `border: 1px solid #000;` |\n",
        "| `width` | Width of an element | `width: 100px;` |\n",
        "| `height` | Height of an element | `height: 50px;` |"
      ],
      "metadata": {
        "id": "8PIywNJtfnBd"
      }
    },
    {
      "cell_type": "markdown",
      "source": [
        "### Introduction to JavaScript and the DOM\n",
        "\n",
        "JavaScript is a powerful programming language that enables you to add interactivity to your web pages. While HTML structures your content and CSS styles it, JavaScript brings your web pages to life by allowing you to implement dynamic features such as interactive forms, animations, and user-driven events.\n",
        "\n",
        "Central to JavaScript's functionality in web pages is the Document Object Model (DOM). The DOM is a programming interface that represents the structure of a web page as a tree of objects. It allows JavaScript to access and manipulate HTML elements, attributes, and styles. Essentially, the DOM turns your static HTML into a dynamic object that you can programmatically interact with.\n",
        "\n",
        "\n",
        "Let's create a simple web page themed around The Princess Bride that demonstrates basic JavaScript concepts like variables, functions, and conditionals. We'll ask the user to enter the name of a character and respond with a famous quote if the character is recognized.\n",
        "\n",
        "Here's the HTML code with internal JavaScript:"
      ],
      "metadata": {
        "id": "YTYLt7HAej4W"
      }
    },
    {
      "cell_type": "code",
      "source": [
        "%%html\n",
        "%%html\n",
        "<!DOCTYPE html>\n",
        "<html>\n",
        "<head>\n",
        "    <title>The Princess Bride Interactive</title>\n",
        "    <script>\n",
        "        function showQuote() {\n",
        "            var character = prompt(\"Enter the name of a character from 'The Princess Bride':\");\n",
        "            if (character === \"Inigo Montoya\") {\n",
        "                alert(\"Hello. My name is Inigo Montoya. You killed my father. Prepare to die.\");\n",
        "            } else if (character === \"Westley\") {\n",
        "                alert(\"As you wish.\");\n",
        "            } else if (character === \"Vizzini\") {\n",
        "                alert(\"Inconceivable!\");\n",
        "            } else {\n",
        "                alert(\"Character not recognized.\");\n",
        "            }\n",
        "        }\n",
        "    </script>\n",
        "</head>\n",
        "<body>\n",
        "    <h1>Welcome to The Princess Bride Interactive</h1>\n",
        "    <button onclick=\"showQuote()\">Get a Quote</button>\n",
        "</body>\n",
        "</html>\n"
      ],
      "metadata": {
        "colab": {
          "base_uri": "https://localhost:8080/",
          "height": 113
        },
        "id": "6l8avaOzeosd",
        "outputId": "25653524-eaaf-41a9-c8db-f80e997c36bb"
      },
      "execution_count": null,
      "outputs": [
        {
          "output_type": "display_data",
          "data": {
            "text/plain": [
              "<IPython.core.display.HTML object>"
            ],
            "text/html": [
              "%%html\n",
              "<!DOCTYPE html>\n",
              "<html>\n",
              "<head>\n",
              "    <title>The Princess Bride Interactive</title>\n",
              "    <script>\n",
              "        function showQuote() {\n",
              "            var character = prompt(\"Enter the name of a character from 'The Princess Bride':\");\n",
              "            if (character === \"Inigo Montoya\") {\n",
              "                alert(\"Hello. My name is Inigo Montoya. You killed my father. Prepare to die.\");\n",
              "            } else if (character === \"Westley\") {\n",
              "                alert(\"As you wish.\");\n",
              "            } else if (character === \"Vizzini\") {\n",
              "                alert(\"Inconceivable!\");\n",
              "            } else {\n",
              "                alert(\"Character not recognized.\");\n",
              "            }\n",
              "        }\n",
              "    </script>\n",
              "</head>\n",
              "<body>\n",
              "    <h1>Welcome to The Princess Bride Interactive</h1>\n",
              "    <button onclick=\"showQuote()\">Get a Quote</button>\n",
              "</body>\n",
              "</html>\n"
            ]
          },
          "metadata": {}
        }
      ]
    },
    {
      "cell_type": "markdown",
      "source": [
        "In this code:\n",
        "\n",
        "-   We define a **function** called `showQuote()` that is executed when the user clicks the button. Functions in JavaScript are reusable blocks of code that perform specific tasks.\n",
        "-   Inside the function, we declare a **variable** `character` using `var`, which stores the user's input from the `prompt()` dialog. Variables are containers for storing data values.\n",
        "-   We use **conditional statements** (`if`, `else if`, `else`) to determine which quote to display based on the user's input. Conditionals allow us to execute code selectively, depending on whether certain conditions are met.\n",
        "    -   If `character` is equal to `\"Inigo Montoya\"`, we use `alert()` to display his famous quote.\n",
        "    -   Else if `character` is `\"Westley\"`, we display \"As you wish.\"\n",
        "    -   Else if `character` is `\"Vizzini\"`, we display \"Inconceivable!\"\n",
        "    -   Else, we alert that the character is not recognized.-   The `<button>` element has an `onclick` attribute that calls the `showQuote()` function when clicked. This is an example of **event handling**, where we respond to user actions.\n",
        "\n",
        "To make the interaction more engaging, we can display the quote directly on the web page instead of using alert dialogs. Here's how:"
      ],
      "metadata": {
        "id": "hb_lftYze8bM"
      }
    },
    {
      "cell_type": "code",
      "source": [
        "%%html\n",
        "%%html\n",
        "<!DOCTYPE html>\n",
        "<html>\n",
        "<head>\n",
        "    <title>The Princess Bride Interactive</title>\n",
        "    <script>\n",
        "        function showQuote() {\n",
        "            var character = prompt(\"Enter the name of a character from 'The Princess Bride':\");\n",
        "            var quoteElement = document.getElementById(\"quote\");\n",
        "            if (character === \"Inigo Montoya\") {\n",
        "                quoteElement.innerHTML = \"Hello. My name is Inigo Montoya. You killed my father. Prepare to die.\";\n",
        "            } else if (character === \"Westley\") {\n",
        "                quoteElement.innerHTML = \"As you wish.\";\n",
        "            } else if (character === \"Vizzini\") {\n",
        "                quoteElement.innerHTML = \"Inconceivable!\";\n",
        "            } else {\n",
        "                quoteElement.innerHTML = \"Character not recognized.\";\n",
        "            }\n",
        "        }\n",
        "    </script>\n",
        "</head>\n",
        "<body>\n",
        "    <h1>Welcome to The Princess Bride Interactive</h1>\n",
        "    <p>This page demonstrates basic <em>JavaScript</em> and the DOM.</p>\n",
        "    <button onclick=\"showQuote()\">Get a Quote</button>\n",
        "    <p id=\"quote\"></p>\n",
        "</body>\n",
        "</html>\n"
      ],
      "metadata": {
        "colab": {
          "base_uri": "https://localhost:8080/",
          "height": 167
        },
        "id": "dKO8Q_scfNLR",
        "outputId": "f94d5cd3-67a1-41ba-d168-42a84eda1bf0"
      },
      "execution_count": null,
      "outputs": [
        {
          "output_type": "display_data",
          "data": {
            "text/plain": [
              "<IPython.core.display.HTML object>"
            ],
            "text/html": [
              "%%html\n",
              "<!DOCTYPE html>\n",
              "<html>\n",
              "<head>\n",
              "    <title>The Princess Bride Interactive</title>\n",
              "    <script>\n",
              "        function showQuote() {\n",
              "            var character = prompt(\"Enter the name of a character from 'The Princess Bride':\");\n",
              "            var quoteElement = document.getElementById(\"quote\");\n",
              "            if (character === \"Inigo Montoya\") {\n",
              "                quoteElement.innerHTML = \"Hello. My name is Inigo Montoya. You killed my father. Prepare to die.\";\n",
              "            } else if (character === \"Westley\") {\n",
              "                quoteElement.innerHTML = \"As you wish.\";\n",
              "            } else if (character === \"Vizzini\") {\n",
              "                quoteElement.innerHTML = \"Inconceivable!\";\n",
              "            } else {\n",
              "                quoteElement.innerHTML = \"Character not recognized.\";\n",
              "            }\n",
              "        }\n",
              "    </script>\n",
              "</head>\n",
              "<body>\n",
              "    <h1>Welcome to The Princess Bride Interactive</h1>\n",
              "    <p>This page demonstrates basic <em>JavaScript</em> and the DOM.</p>\n",
              "    <button onclick=\"showQuote()\">Get a Quote</button>\n",
              "    <p id=\"quote\"></p>\n",
              "</body>\n",
              "</html>\n"
            ]
          },
          "metadata": {}
        }
      ]
    },
    {
      "cell_type": "markdown",
      "source": [
        "In this version:\n",
        "\n",
        "-   We added a `<p>` element with `id=\"quote\"` where the quote will be displayed.\n",
        "-   Instead of using `alert()`, we use `quoteElement.innerHTML` to change the content of the paragraph. This demonstrates **DOM manipulation**, where we modify the content of an HTML element using JavaScript.\n",
        "-   We access the paragraph element using `document.getElementById(\"quote\")`, which retrieves the element with the specified ID."
      ],
      "metadata": {
        "id": "3pufRmiTfQjX"
      }
    },
    {
      "cell_type": "markdown",
      "source": [
        "### Table of Basic JavaScript Commands\n",
        "\n",
        "Below is a table of useful JavaScript commands for beginners:\n",
        "\n",
        "| Command/Concept | Description | Example |\n",
        "|-----------------|-------------|---------|\n",
        "| `function` | Defines a reusable block of code | `function showAlert() { ... }` |\n",
        "| `document.getElementById()` | Selects an HTML element by its id | `let element = document.getElementById('myButton')` |\n",
        "| `addEventListener()` | Attaches an event handler to an element | `element.addEventListener('click', showAlert)` |\n",
        "| `alert()` | Displays an alert box with a message | `alert('This is a fun fact!')` |\n",
        "| `console.log()` | Outputs a message to the console (for debugging) | `console.log('Button clicked')` |\n",
        "| Variables (`let`, `const`) | Declares variables to store data | `let score = 0;` `const MAX_SCORE = 10;` |\n",
        "| Arrays | Stores multiple values in a single variable | `let facts = ['Fact 1', 'Fact 2', 'Fact 3']` |\n",
        "| `Math.random()` | Generates a random number between 0 and 1 | `let randomIndex = Math.floor(Math.random() * facts.length)` |\n",
        "| `if` statements | Performs conditional execution of code | `if (score > 5) { console.log('High score!') }` |\n",
        "| `for` loops | Repeats code a specific number of times | `for (let i = 0; i < 5; i++) { ... }` |\n",
        "| Template literals | Allows embedding expressions in strings | ``` `Your score is ${score}` ``` |\n",
        "| `innerHTML` | Gets or sets the HTML content inside an element | `element.innerHTML = 'New content'` |\n",
        "| `style` property | Allows changing CSS styles with JavaScript | `element.style.color = 'red'` |\n",
        "| `createElement()` | Creates a new HTML element | `let newDiv = document.createElement('div')` |\n",
        "| `appendChild()` | Adds a new child element to a parent element | `parentElement.appendChild(newDiv)` |"
      ],
      "metadata": {
        "id": "hb2fASvioMqk"
      }
    },
    {
      "cell_type": "markdown",
      "source": [
        "# Lab: Build a Webpage About Your Hobby - Guided Steps\n",
        "\n",
        "Create a webpage about your favorite hobby by following these guided steps. You'll start with basic HTML, then add more complex HTML elements, before finally adding some CSS and JavaScript.\n",
        "\n",
        "You do this in a Colab cell with `%%html` (following these directions).\n",
        "\n",
        "### Step 1: Basic HTML Structure\n",
        "Create the basic structure of an HTML document. Include:\n",
        "- DOCTYPE declaration\n",
        "- `<html>` tag with lang attribute\n",
        "- `<head>` tag with a title\n",
        "- `<body>` tag with an `<h1>` heading for your hobby\n",
        "\n",
        "### Step 2: Add Paragraphs\n",
        "Inside the `<body>`, add:\n",
        "- At least two paragraphs about your hobby\n",
        "- Use the `<p>` tag for each paragraph\n",
        "- In one paragraph, use the `<strong>` tag to emphasize a word or phrase\n",
        "\n",
        "### Step 3: Create Lists\n",
        "Add two types of lists to your page:\n",
        "- An unordered list (`<ul>`) of equipment or materials needed for your hobby\n",
        "- An ordered list (`<ol>`) of steps to get started with your hobby\n",
        "\n",
        "### Step 4: Insert an Image\n",
        "Include an image related to your hobby:\n",
        "- Use an `<img>` tag\n",
        "- Set the src attribute to a placeholder image URL: \"https://via.placeholder.com/400x200?text=Hobby+Image\"\n",
        "- Don't forget the alt attribute!\n",
        "\n",
        "### Step 5: Add a Table\n",
        "Create a table with information about your hobby:\n",
        "- Use the `<table>`, `<tr>`, `<th>`, and `<td>` tags\n",
        "- Include at least 3 columns and 3 rows\n",
        "- Example: a table of different skill levels, time requirements, and costs associated with your hobby\n",
        "\n",
        "### Step 6: Text Formatting and Semantic HTML\n",
        "Enhance your content with more HTML elements:\n",
        "- Use `<em>` tags for emphasis\n",
        "- Add a `<blockquote>` with a famous quote related to your hobby\n",
        "- Include a `<section>` tag to group related content\n",
        "- Use `<header>` and `<footer>` tags to structure your page\n",
        "\n",
        "### Step 7: Links\n",
        "Add some hyperlinks to your page:\n",
        "- Create a list of external resources about your hobby\n",
        "- Use the `<a>` tag to make each resource a clickable link\n",
        "- Make sure to use the href attribute correctly\n",
        "\n",
        "### Step 8: Basic CSS Styling\n",
        "In the `<head>` section, add a `<style>` tag. Write CSS to:\n",
        "- Set a font family for the body\n",
        "- Change the color of your `<h1>` heading\n",
        "- Set a max-width for your image\n",
        "- Style your table with borders and padding\n",
        "\n",
        "### Step 9: Enhance CSS Styling\n",
        "Improve your styling:\n",
        "- Set a background color for the body\n",
        "- Style your lists differently (e.g., change bullet points, add spacing)\n",
        "- Add hover effects to your links\n",
        "- Create a class for special text and apply a unique style to it\n",
        "\n",
        "### Step 10: Add Simple JavaScript\n",
        "Add a `<script>` tag at the end of your `<body>`. Write JavaScript to:\n",
        "- Create a button that, when clicked, shows an alert with a fun fact about your hobby\n",
        "- Use the onclick attribute and create a function to handle the click event"
      ],
      "metadata": {
        "id": "1ZihJklikHLo"
      }
    },
    {
      "cell_type": "code",
      "source": [
        "%%html\n",
        "<!-- Your webpage goes here -->\n"
      ],
      "metadata": {
        "id": "YLPBMcBIvE2q"
      },
      "execution_count": null,
      "outputs": []
    },
    {
      "cell_type": "markdown",
      "source": [
        "## Review with Quizlet\n",
        "The following set of cards covers important terms/concepts, as well as basic HTML tags."
      ],
      "metadata": {
        "id": "KS8fi9g4BdGJ"
      }
    },
    {
      "cell_type": "code",
      "source": [
        "%%html\n",
        "<iframe src=\"https://quizlet.com/817160001/learn/embed?i=psvlh&x=1jj1\" height=\"600\" width=\"100%\" style=\"border:0\"></iframe>"
      ],
      "metadata": {
        "id": "tOxVgjS1BoXH",
        "outputId": "6f2617d8-02fc-4d57-94ca-50b2c9e8ceb2",
        "colab": {
          "base_uri": "https://localhost:8080/",
          "height": 622
        }
      },
      "execution_count": null,
      "outputs": [
        {
          "output_type": "display_data",
          "data": {
            "text/plain": [
              "<IPython.core.display.HTML object>"
            ],
            "text/html": [
              "<iframe src=\"https://quizlet.com/817160001/learn/embed?i=psvlh&x=1jj1\" height=\"600\" width=\"100%\" style=\"border:0\"></iframe>\n"
            ]
          },
          "metadata": {}
        }
      ]
    },
    {
      "cell_type": "markdown",
      "source": [
        "## Glossary\n",
        "\n",
        "| **rm** | **Definition** |\n",
        "| --- | --- |\n",
        "| Application Layer | The top layer of the TCP/IP model responsible for network services and applications that interact directly with end-users, such as web browsers, email clients, and file transfers. |\n",
        "| Client-server network | A network architecture where multiple clients (user devices) request and receive services from a centralized server, which manages resources and operations. |\n",
        "| Cascading Style Sheets (CSS) | A stylesheet language used to describe the presentation of a document written in HTML or XML, including layout, colors, and fonts. |\n",
        "| Data Link Layer | The bottom layer of the TCP/IP network model, responsible for node-to-node data transfer, error detection and correction, and framing of data packets. |\n",
        "| Ethernet | A family of networking technologies commonly used in local area networks (LANs) for devices to communicate through a standardized protocol. |\n",
        "| Frame | A digital data transmission unit in computer networking that includes a data packet encapsulated with headers and trailers for error checking and addressing. |\n",
        "| Hypertext Markup Language (HTML) | The standard markup language used to create and design web pages, structuring content on the internet. |\n",
        "| Hypertext Transfer Protocol (HTTP) | The foundational protocol used for transmitting hypertext on the World Wide Web, facilitating communication between web browsers and servers. |\n",
        "| IP Address | A unique identifier assigned to each device connected to a network that uses the Internet Protocol for communication, enabling routing and addressing. |\n",
        "| Internet Protocol version 4 (IPv4) | The fourth version of the Internet Protocol, using a 32-bit address scheme allowing for approximately 4.3 billion unique addresses. Example: 192.168.1.1 |\n",
        "| Internet Protocol version 6 (IPv6) | The most recent version of the Internet Protocol, using a 128-bit address scheme allowing for a vast number of unique addresses, supporting future growth. Example: 2001:0db8:85a3:0000:0000:8a2e:0370:7334 |\n",
        "| Local Area Network (LAN) | A network that connects computers and devices within a limited geographical area, such as a home, school, or office building. |\n",
        "| Media Access Control Address (MAC Address) | A unique identifier assigned to network interfaces for communications at the data link layer of a network segment. |\n",
        "| Modem| A device that modulates and demodulates signals for converting digital data from a computer to analog signals for transmission over telephone lines, and vice versa. |\n",
        "| Network | A collection of computers, servers, mainframes, network devices, or other devices connected to one another to share resources, data, and applications. |\n",
        "| Network Layer | The third layer of the TCP/IP model, responsible for packet forwarding, including routing through different routers and managing traffic control. |\n",
        "| Peer-to-peer (P2P) network | A decentralized network architecture where each node, or peer, can act as both a client and a server, sharing resources directly with other nodes. |\n",
        "| Packet | A formatted unit of data carried by a packet-switched network, including the payload and control information for routing and error checking. |\n",
        "| Port | A logical access point in networking used to differentiate between different services or applications running on a single device. |\n",
        "| Private IP address | An IP address assigned to devices within a private network, not routable on the public internet, typically used within homes or organizations. Example: 192.168.0.1 |\n",
        "| Protocol | A set of rules and standards that define how data is transmitted and received across a network, ensuring proper communication between devices. |\n",
        "| Public IP address | An IP address assigned to a device connected to the public internet, routable globally, allowing external devices to communicate with it. Example: 8.8.8.8 |\n",
        "| Router | A networking device that forwards data packets between computer networks, directing traffic and determining the best path for data to travel. |\n",
        "| Routing table | A data table stored in a router or a networked computer that lists the routes to particular network destinations, used to determine the best path for data packets. |\n",
        "| Transmission Control Protocol (TCP) | A core protocol of the Internet Protocol suite that provides reliable, ordered, and error-checked delivery of data between applications running on hosts on an IP network. |\n",
        "| TCP/IP Network Model | A conceptual model and set of communications protocols used on the internet and similar networks, structured into four layers: application, transport, internet, and network access. |\n",
        "| Transport Layer | The layer in the TCP/IP model responsible for end-to-end communication, error checking, and data flow control, including protocols like TCP and UDP. |\n",
        "| User Datagram Protocol (UDP) | A core protocol of the Internet Protocol suite that allows applications to send messages without establishing a connection, offering a faster but less reliable transmission method. |\n",
        "| Virtual Local Area Network (VLAN) | A subnetwork that can group together devices from different physical LANs, improving network efficiency and security by segmenting network traffic. |\n",
        "| Wide Area Network (WAN) | A telecommunications network that extends over a large geographic area, connecting multiple LANs, often used by businesses and government entities. |\n",
        "| Wi-Fi | A wireless networking technology that allows devices to communicate over a wireless signal, typically using the IEEE 802.11 standards. |\n"
      ],
      "metadata": {
        "id": "94QsW8PqlVe7"
      }
    },
    {
      "cell_type": "code",
      "source": [],
      "metadata": {
        "id": "F1FrsuyQlXoj"
      },
      "execution_count": null,
      "outputs": []
    }
  ]
}