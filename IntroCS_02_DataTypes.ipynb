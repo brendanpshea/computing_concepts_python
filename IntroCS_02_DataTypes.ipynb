{
  "nbformat": 4,
  "nbformat_minor": 0,
  "metadata": {
    "colab": {
      "provenance": [],
      "authorship_tag": "ABX9TyMrIALzlrQJYDM3PEpsBlXb",
      "include_colab_link": true
    },
    "kernelspec": {
      "name": "python3",
      "display_name": "Python 3"
    },
    "language_info": {
      "name": "python"
    },
    "widgets": {
      "application/vnd.jupyter.widget-state+json": {
        "d1346f9427354e90b4562e8fc5665368": {
          "model_module": "@jupyter-widgets/controls",
          "model_name": "HBoxModel",
          "model_module_version": "1.5.0",
          "state": {
            "_dom_classes": [],
            "_model_module": "@jupyter-widgets/controls",
            "_model_module_version": "1.5.0",
            "_model_name": "HBoxModel",
            "_view_count": null,
            "_view_module": "@jupyter-widgets/controls",
            "_view_module_version": "1.5.0",
            "_view_name": "HBoxView",
            "box_style": "",
            "children": [
              "IPY_MODEL_6ca346ab612146208a81869ea2a216dd",
              "IPY_MODEL_0398164beecc4d76b1fbfe2c9b904d40"
            ],
            "layout": "IPY_MODEL_4ea62ce632714a3d8d1b2948261cc328"
          }
        },
        "6ca346ab612146208a81869ea2a216dd": {
          "model_module": "@jupyter-widgets/controls",
          "model_name": "VBoxModel",
          "model_module_version": "1.5.0",
          "state": {
            "_dom_classes": [],
            "_model_module": "@jupyter-widgets/controls",
            "_model_module_version": "1.5.0",
            "_model_name": "VBoxModel",
            "_view_count": null,
            "_view_module": "@jupyter-widgets/controls",
            "_view_module_version": "1.5.0",
            "_view_name": "VBoxView",
            "box_style": "",
            "children": [
              "IPY_MODEL_64854d96640d45e68b1c6981c39da375",
              "IPY_MODEL_7e583aeb92124f048c6d1d430cf5fbd3",
              "IPY_MODEL_e86b825ec82b4413bf1eb4ab2c498180",
              "IPY_MODEL_6af03826b3e14561ad59fcd052322947",
              "IPY_MODEL_3fc5bbea2c72476a873863f4962856f8"
            ],
            "layout": "IPY_MODEL_7e6ed348f04a4be99accf19e75af5932"
          }
        },
        "0398164beecc4d76b1fbfe2c9b904d40": {
          "model_module": "@jupyter-widgets/controls",
          "model_name": "VBoxModel",
          "model_module_version": "1.5.0",
          "state": {
            "_dom_classes": [],
            "_model_module": "@jupyter-widgets/controls",
            "_model_module_version": "1.5.0",
            "_model_name": "VBoxModel",
            "_view_count": null,
            "_view_module": "@jupyter-widgets/controls",
            "_view_module_version": "1.5.0",
            "_view_name": "VBoxView",
            "box_style": "",
            "children": [
              "IPY_MODEL_c217de0df9324712a3cbd756274e3e50",
              "IPY_MODEL_2092944246d446ec9e5e0ced85f3644f",
              "IPY_MODEL_3788f2e9e889423d81527d4e8c003c91",
              "IPY_MODEL_bd2109c762544d8d8f2a00f2fe404369",
              "IPY_MODEL_da7f8552d41648868ab20bb7f0378ea5",
              "IPY_MODEL_1af8dae717d04fd695c68ef3c021e8ac"
            ],
            "layout": "IPY_MODEL_b41dc8c561b84ba686818edcf2d41322"
          }
        },
        "4ea62ce632714a3d8d1b2948261cc328": {
          "model_module": "@jupyter-widgets/base",
          "model_name": "LayoutModel",
          "model_module_version": "1.2.0",
          "state": {
            "_model_module": "@jupyter-widgets/base",
            "_model_module_version": "1.2.0",
            "_model_name": "LayoutModel",
            "_view_count": null,
            "_view_module": "@jupyter-widgets/base",
            "_view_module_version": "1.2.0",
            "_view_name": "LayoutView",
            "align_content": null,
            "align_items": null,
            "align_self": null,
            "border": null,
            "bottom": null,
            "display": null,
            "flex": null,
            "flex_flow": null,
            "grid_area": null,
            "grid_auto_columns": null,
            "grid_auto_flow": null,
            "grid_auto_rows": null,
            "grid_column": null,
            "grid_gap": null,
            "grid_row": null,
            "grid_template_areas": null,
            "grid_template_columns": null,
            "grid_template_rows": null,
            "height": null,
            "justify_content": null,
            "justify_items": null,
            "left": null,
            "margin": null,
            "max_height": null,
            "max_width": null,
            "min_height": null,
            "min_width": null,
            "object_fit": null,
            "object_position": null,
            "order": null,
            "overflow": null,
            "overflow_x": null,
            "overflow_y": null,
            "padding": null,
            "right": null,
            "top": null,
            "visibility": null,
            "width": "100%"
          }
        },
        "64854d96640d45e68b1c6981c39da375": {
          "model_module": "@jupyter-widgets/controls",
          "model_name": "IntProgressModel",
          "model_module_version": "1.5.0",
          "state": {
            "_dom_classes": [],
            "_model_module": "@jupyter-widgets/controls",
            "_model_module_version": "1.5.0",
            "_model_name": "IntProgressModel",
            "_view_count": null,
            "_view_module": "@jupyter-widgets/controls",
            "_view_module_version": "1.5.0",
            "_view_name": "ProgressView",
            "bar_style": "",
            "description": "Progress:",
            "description_tooltip": null,
            "layout": "IPY_MODEL_005c2440ad40470f9d8910b29fe2156b",
            "max": 20,
            "min": 0,
            "orientation": "horizontal",
            "style": "IPY_MODEL_ffe42d5db55f44c08be3b8d91748e429",
            "value": 1
          }
        },
        "7e583aeb92124f048c6d1d430cf5fbd3": {
          "model_module": "@jupyter-widgets/output",
          "model_name": "OutputModel",
          "model_module_version": "1.0.0",
          "state": {
            "_dom_classes": [],
            "_model_module": "@jupyter-widgets/output",
            "_model_module_version": "1.0.0",
            "_model_name": "OutputModel",
            "_view_count": null,
            "_view_module": "@jupyter-widgets/output",
            "_view_module_version": "1.0.0",
            "_view_name": "OutputView",
            "layout": "IPY_MODEL_d929dc5634c0405d9259d6cef16e77cf",
            "msg_id": "",
            "outputs": [
              {
                "output_type": "display_data",
                "data": {
                  "text/plain": "<IPython.core.display.HTML object>",
                  "text/html": "<h3>Question 2 of 20</h3><p>Write a function that takes two numbers and returns their sum. For example, add_numbers(3, 4) should return 7.</p>"
                },
                "metadata": {}
              }
            ]
          }
        },
        "e86b825ec82b4413bf1eb4ab2c498180": {
          "model_module": "@jupyter-widgets/controls",
          "model_name": "TextareaModel",
          "model_module_version": "1.5.0",
          "state": {
            "_dom_classes": [],
            "_model_module": "@jupyter-widgets/controls",
            "_model_module_version": "1.5.0",
            "_model_name": "TextareaModel",
            "_view_count": null,
            "_view_module": "@jupyter-widgets/controls",
            "_view_module_version": "1.5.0",
            "_view_name": "TextareaView",
            "continuous_update": true,
            "description": "",
            "description_tooltip": null,
            "disabled": false,
            "layout": "IPY_MODEL_70a35a0da9b14a7f97ccbbd837a4b2d7",
            "placeholder": "​",
            "rows": null,
            "style": "IPY_MODEL_e155b784e2b64622b146be9d72269215",
            "value": "def add_numbers(a, b):\n    return a + b"
          }
        },
        "6af03826b3e14561ad59fcd052322947": {
          "model_module": "@jupyter-widgets/controls",
          "model_name": "HBoxModel",
          "model_module_version": "1.5.0",
          "state": {
            "_dom_classes": [],
            "_model_module": "@jupyter-widgets/controls",
            "_model_module_version": "1.5.0",
            "_model_name": "HBoxModel",
            "_view_count": null,
            "_view_module": "@jupyter-widgets/controls",
            "_view_module_version": "1.5.0",
            "_view_name": "HBoxView",
            "box_style": "",
            "children": [
              "IPY_MODEL_03c627121c8446e5a888f8405aa23741",
              "IPY_MODEL_cfc99a8274a743409c51eeb20622fa5e",
              "IPY_MODEL_769bcf8a8f664e95a80572dc3249bce9",
              "IPY_MODEL_0fa1f75c4adc41aa817479b948db411c",
              "IPY_MODEL_6d945d37313e49cfa57edf57ea38372e"
            ],
            "layout": "IPY_MODEL_1140dbff99c547caa5a2e32408e9de7f"
          }
        },
        "3fc5bbea2c72476a873863f4962856f8": {
          "model_module": "@jupyter-widgets/output",
          "model_name": "OutputModel",
          "model_module_version": "1.0.0",
          "state": {
            "_dom_classes": [],
            "_model_module": "@jupyter-widgets/output",
            "_model_module_version": "1.0.0",
            "_model_name": "OutputModel",
            "_view_count": null,
            "_view_module": "@jupyter-widgets/output",
            "_view_module_version": "1.0.0",
            "_view_name": "OutputView",
            "layout": "IPY_MODEL_010921cdddf149899b8950aaa7d46ad1",
            "msg_id": "",
            "outputs": []
          }
        },
        "7e6ed348f04a4be99accf19e75af5932": {
          "model_module": "@jupyter-widgets/base",
          "model_name": "LayoutModel",
          "model_module_version": "1.2.0",
          "state": {
            "_model_module": "@jupyter-widgets/base",
            "_model_module_version": "1.2.0",
            "_model_name": "LayoutModel",
            "_view_count": null,
            "_view_module": "@jupyter-widgets/base",
            "_view_module_version": "1.2.0",
            "_view_name": "LayoutView",
            "align_content": null,
            "align_items": null,
            "align_self": null,
            "border": null,
            "bottom": null,
            "display": null,
            "flex": null,
            "flex_flow": null,
            "grid_area": null,
            "grid_auto_columns": null,
            "grid_auto_flow": null,
            "grid_auto_rows": null,
            "grid_column": null,
            "grid_gap": null,
            "grid_row": null,
            "grid_template_areas": null,
            "grid_template_columns": null,
            "grid_template_rows": null,
            "height": null,
            "justify_content": null,
            "justify_items": null,
            "left": null,
            "margin": null,
            "max_height": null,
            "max_width": null,
            "min_height": null,
            "min_width": null,
            "object_fit": null,
            "object_position": null,
            "order": null,
            "overflow": null,
            "overflow_x": null,
            "overflow_y": null,
            "padding": null,
            "right": null,
            "top": null,
            "visibility": null,
            "width": "50%"
          }
        },
        "c217de0df9324712a3cbd756274e3e50": {
          "model_module": "@jupyter-widgets/controls",
          "model_name": "HTMLModel",
          "model_module_version": "1.5.0",
          "state": {
            "_dom_classes": [],
            "_model_module": "@jupyter-widgets/controls",
            "_model_module_version": "1.5.0",
            "_model_name": "HTMLModel",
            "_view_count": null,
            "_view_module": "@jupyter-widgets/controls",
            "_view_module_version": "1.5.0",
            "_view_name": "HTMLView",
            "description": "",
            "description_tooltip": null,
            "layout": "IPY_MODEL_8a179875331148a0973819bbd43266c1",
            "placeholder": "​",
            "style": "IPY_MODEL_6a32106ef11e41c7ac1e8ca9c4cee63e",
            "value": "<h3>Sample Inputs and Outputs</h3>"
          }
        },
        "2092944246d446ec9e5e0ced85f3644f": {
          "model_module": "@jupyter-widgets/output",
          "model_name": "OutputModel",
          "model_module_version": "1.0.0",
          "state": {
            "_dom_classes": [],
            "_model_module": "@jupyter-widgets/output",
            "_model_module_version": "1.0.0",
            "_model_name": "OutputModel",
            "_view_count": null,
            "_view_module": "@jupyter-widgets/output",
            "_view_module_version": "1.0.0",
            "_view_name": "OutputView",
            "layout": "IPY_MODEL_f2da874863984f8a893d145f632aa053",
            "msg_id": "",
            "outputs": [
              {
                "output_type": "display_data",
                "data": {
                  "text/plain": "<IPython.core.display.HTML object>",
                  "text/html": "<table border=\"1\" class=\"dataframe\">\n  <thead>\n    <tr style=\"text-align: right;\">\n      <th>Input</th>\n      <th>Output</th>\n    </tr>\n  </thead>\n  <tbody>\n    <tr>\n      <td>[3, 4]</td>\n      <td>7</td>\n    </tr>\n    <tr>\n      <td>[0, 0]</td>\n      <td>0</td>\n    </tr>\n    <tr>\n      <td>[10, 5]</td>\n      <td>15</td>\n    </tr>\n  </tbody>\n</table>"
                },
                "metadata": {}
              }
            ]
          }
        },
        "3788f2e9e889423d81527d4e8c003c91": {
          "model_module": "@jupyter-widgets/controls",
          "model_name": "HTMLModel",
          "model_module_version": "1.5.0",
          "state": {
            "_dom_classes": [],
            "_model_module": "@jupyter-widgets/controls",
            "_model_module_version": "1.5.0",
            "_model_name": "HTMLModel",
            "_view_count": null,
            "_view_module": "@jupyter-widgets/controls",
            "_view_module_version": "1.5.0",
            "_view_name": "HTMLView",
            "description": "",
            "description_tooltip": null,
            "layout": "IPY_MODEL_2a374af2c0b8439384e3139bf9b12448",
            "placeholder": "​",
            "style": "IPY_MODEL_1b8aa122af864cc6a822f725f8d4a3d6",
            "value": "<h3>Results</h3>"
          }
        },
        "bd2109c762544d8d8f2a00f2fe404369": {
          "model_module": "@jupyter-widgets/output",
          "model_name": "OutputModel",
          "model_module_version": "1.0.0",
          "state": {
            "_dom_classes": [],
            "_model_module": "@jupyter-widgets/output",
            "_model_module_version": "1.0.0",
            "_model_name": "OutputModel",
            "_view_count": null,
            "_view_module": "@jupyter-widgets/output",
            "_view_module_version": "1.0.0",
            "_view_name": "OutputView",
            "layout": "IPY_MODEL_2be1a218ff4c4cf1995343e379867115",
            "msg_id": "",
            "outputs": [
              {
                "output_type": "display_data",
                "data": {
                  "text/plain": "<IPython.core.display.HTML object>",
                  "text/html": "<h4 style='color:green'>All tests passed!</h4>"
                },
                "metadata": {}
              },
              {
                "output_type": "display_data",
                "data": {
                  "text/plain": "<IPython.core.display.HTML object>",
                  "text/html": "<table border=\"1\" class=\"dataframe\">\n  <thead>\n    <tr style=\"text-align: right;\">\n      <th>Result</th>\n      <th>Input</th>\n      <th>Expected</th>\n      <th>Your Output</th>\n    </tr>\n  </thead>\n  <tbody>\n    <tr>\n      <td>Pass</td>\n      <td>[3, 4]</td>\n      <td>7</td>\n      <td>7</td>\n    </tr>\n    <tr>\n      <td>Pass</td>\n      <td>[10, 5]</td>\n      <td>15</td>\n      <td>15</td>\n    </tr>\n    <tr>\n      <td>Pass</td>\n      <td>[0, 0]</td>\n      <td>0</td>\n      <td>0</td>\n    </tr>\n  </tbody>\n</table>"
                },
                "metadata": {}
              },
              {
                "output_type": "display_data",
                "data": {
                  "text/plain": "HBox(children=(Button(button_style='warning', description='Retry', icon='refresh', style=ButtonStyle()), Butto…",
                  "application/vnd.jupyter.widget-view+json": {
                    "version_major": 2,
                    "version_minor": 0,
                    "model_id": "15967e629dc44a4cbd063ec27e152e8d"
                  }
                },
                "metadata": {}
              }
            ]
          }
        },
        "da7f8552d41648868ab20bb7f0378ea5": {
          "model_module": "@jupyter-widgets/controls",
          "model_name": "HTMLModel",
          "model_module_version": "1.5.0",
          "state": {
            "_dom_classes": [],
            "_model_module": "@jupyter-widgets/controls",
            "_model_module_version": "1.5.0",
            "_model_name": "HTMLModel",
            "_view_count": null,
            "_view_module": "@jupyter-widgets/controls",
            "_view_module_version": "1.5.0",
            "_view_name": "HTMLView",
            "description": "",
            "description_tooltip": null,
            "layout": "IPY_MODEL_249f265315d44253ab7c917a630387c6",
            "placeholder": "​",
            "style": "IPY_MODEL_b462a399076e4be7bc824fd639889df4",
            "value": "<h3>Output</h3>"
          }
        },
        "1af8dae717d04fd695c68ef3c021e8ac": {
          "model_module": "@jupyter-widgets/output",
          "model_name": "OutputModel",
          "model_module_version": "1.0.0",
          "state": {
            "_dom_classes": [],
            "_model_module": "@jupyter-widgets/output",
            "_model_module_version": "1.0.0",
            "_model_name": "OutputModel",
            "_view_count": null,
            "_view_module": "@jupyter-widgets/output",
            "_view_module_version": "1.0.0",
            "_view_name": "OutputView",
            "layout": "IPY_MODEL_875e95d1153e4683a921c557f8ea2ac4",
            "msg_id": "",
            "outputs": [
              {
                "output_type": "display_data",
                "data": {
                  "text/plain": "<IPython.core.display.HTML object>",
                  "text/html": "<i>No output produced.</i>"
                },
                "metadata": {}
              }
            ]
          }
        },
        "b41dc8c561b84ba686818edcf2d41322": {
          "model_module": "@jupyter-widgets/base",
          "model_name": "LayoutModel",
          "model_module_version": "1.2.0",
          "state": {
            "_model_module": "@jupyter-widgets/base",
            "_model_module_version": "1.2.0",
            "_model_name": "LayoutModel",
            "_view_count": null,
            "_view_module": "@jupyter-widgets/base",
            "_view_module_version": "1.2.0",
            "_view_name": "LayoutView",
            "align_content": null,
            "align_items": null,
            "align_self": null,
            "border": null,
            "bottom": null,
            "display": null,
            "flex": null,
            "flex_flow": null,
            "grid_area": null,
            "grid_auto_columns": null,
            "grid_auto_flow": null,
            "grid_auto_rows": null,
            "grid_column": null,
            "grid_gap": null,
            "grid_row": null,
            "grid_template_areas": null,
            "grid_template_columns": null,
            "grid_template_rows": null,
            "height": null,
            "justify_content": null,
            "justify_items": null,
            "left": null,
            "margin": null,
            "max_height": null,
            "max_width": null,
            "min_height": null,
            "min_width": null,
            "object_fit": null,
            "object_position": null,
            "order": null,
            "overflow": null,
            "overflow_x": null,
            "overflow_y": null,
            "padding": null,
            "right": null,
            "top": null,
            "visibility": null,
            "width": "50%"
          }
        },
        "005c2440ad40470f9d8910b29fe2156b": {
          "model_module": "@jupyter-widgets/base",
          "model_name": "LayoutModel",
          "model_module_version": "1.2.0",
          "state": {
            "_model_module": "@jupyter-widgets/base",
            "_model_module_version": "1.2.0",
            "_model_name": "LayoutModel",
            "_view_count": null,
            "_view_module": "@jupyter-widgets/base",
            "_view_module_version": "1.2.0",
            "_view_name": "LayoutView",
            "align_content": null,
            "align_items": null,
            "align_self": null,
            "border": null,
            "bottom": null,
            "display": null,
            "flex": null,
            "flex_flow": null,
            "grid_area": null,
            "grid_auto_columns": null,
            "grid_auto_flow": null,
            "grid_auto_rows": null,
            "grid_column": null,
            "grid_gap": null,
            "grid_row": null,
            "grid_template_areas": null,
            "grid_template_columns": null,
            "grid_template_rows": null,
            "height": null,
            "justify_content": null,
            "justify_items": null,
            "left": null,
            "margin": null,
            "max_height": null,
            "max_width": null,
            "min_height": null,
            "min_width": null,
            "object_fit": null,
            "object_position": null,
            "order": null,
            "overflow": null,
            "overflow_x": null,
            "overflow_y": null,
            "padding": null,
            "right": null,
            "top": null,
            "visibility": null,
            "width": "100%"
          }
        },
        "ffe42d5db55f44c08be3b8d91748e429": {
          "model_module": "@jupyter-widgets/controls",
          "model_name": "ProgressStyleModel",
          "model_module_version": "1.5.0",
          "state": {
            "_model_module": "@jupyter-widgets/controls",
            "_model_module_version": "1.5.0",
            "_model_name": "ProgressStyleModel",
            "_view_count": null,
            "_view_module": "@jupyter-widgets/base",
            "_view_module_version": "1.2.0",
            "_view_name": "StyleView",
            "bar_color": null,
            "description_width": ""
          }
        },
        "70a35a0da9b14a7f97ccbbd837a4b2d7": {
          "model_module": "@jupyter-widgets/base",
          "model_name": "LayoutModel",
          "model_module_version": "1.2.0",
          "state": {
            "_model_module": "@jupyter-widgets/base",
            "_model_module_version": "1.2.0",
            "_model_name": "LayoutModel",
            "_view_count": null,
            "_view_module": "@jupyter-widgets/base",
            "_view_module_version": "1.2.0",
            "_view_name": "LayoutView",
            "align_content": null,
            "align_items": null,
            "align_self": null,
            "border": null,
            "bottom": null,
            "display": null,
            "flex": null,
            "flex_flow": null,
            "grid_area": null,
            "grid_auto_columns": null,
            "grid_auto_flow": null,
            "grid_auto_rows": null,
            "grid_column": null,
            "grid_gap": null,
            "grid_row": null,
            "grid_template_areas": null,
            "grid_template_columns": null,
            "grid_template_rows": null,
            "height": "200px",
            "justify_content": null,
            "justify_items": null,
            "left": null,
            "margin": null,
            "max_height": null,
            "max_width": null,
            "min_height": null,
            "min_width": null,
            "object_fit": null,
            "object_position": null,
            "order": null,
            "overflow": null,
            "overflow_x": null,
            "overflow_y": null,
            "padding": null,
            "right": null,
            "top": null,
            "visibility": null,
            "width": "100%"
          }
        },
        "e155b784e2b64622b146be9d72269215": {
          "model_module": "@jupyter-widgets/controls",
          "model_name": "DescriptionStyleModel",
          "model_module_version": "1.5.0",
          "state": {
            "_model_module": "@jupyter-widgets/controls",
            "_model_module_version": "1.5.0",
            "_model_name": "DescriptionStyleModel",
            "_view_count": null,
            "_view_module": "@jupyter-widgets/base",
            "_view_module_version": "1.2.0",
            "_view_name": "StyleView",
            "description_width": ""
          }
        },
        "03c627121c8446e5a888f8405aa23741": {
          "model_module": "@jupyter-widgets/controls",
          "model_name": "ButtonModel",
          "model_module_version": "1.5.0",
          "state": {
            "_dom_classes": [],
            "_model_module": "@jupyter-widgets/controls",
            "_model_module_version": "1.5.0",
            "_model_name": "ButtonModel",
            "_view_count": null,
            "_view_module": "@jupyter-widgets/controls",
            "_view_module_version": "1.5.0",
            "_view_name": "ButtonView",
            "button_style": "success",
            "description": "Run",
            "disabled": false,
            "icon": "check",
            "layout": "IPY_MODEL_23d05969c5cf413293c2f7a1b7976ac4",
            "style": "IPY_MODEL_acb6ef8b006846d096eed34ebb5e06ab",
            "tooltip": ""
          }
        },
        "cfc99a8274a743409c51eeb20622fa5e": {
          "model_module": "@jupyter-widgets/controls",
          "model_name": "ButtonModel",
          "model_module_version": "1.5.0",
          "state": {
            "_dom_classes": [],
            "_model_module": "@jupyter-widgets/controls",
            "_model_module_version": "1.5.0",
            "_model_name": "ButtonModel",
            "_view_count": null,
            "_view_module": "@jupyter-widgets/controls",
            "_view_module_version": "1.5.0",
            "_view_name": "ButtonView",
            "button_style": "warning",
            "description": "Retry",
            "disabled": false,
            "icon": "refresh",
            "layout": "IPY_MODEL_992fc7fc7dda415680dbc6fbb82c642d",
            "style": "IPY_MODEL_bdb577e00c914a96937fb36ce965db7f",
            "tooltip": ""
          }
        },
        "769bcf8a8f664e95a80572dc3249bce9": {
          "model_module": "@jupyter-widgets/controls",
          "model_name": "ButtonModel",
          "model_module_version": "1.5.0",
          "state": {
            "_dom_classes": [],
            "_model_module": "@jupyter-widgets/controls",
            "_model_module_version": "1.5.0",
            "_model_name": "ButtonModel",
            "_view_count": null,
            "_view_module": "@jupyter-widgets/controls",
            "_view_module_version": "1.5.0",
            "_view_name": "ButtonView",
            "button_style": "info",
            "description": "Next",
            "disabled": false,
            "icon": "arrow-right",
            "layout": "IPY_MODEL_9c4d06273283487dab1512d303d82f28",
            "style": "IPY_MODEL_0c0b44c9e4ff404b9b320d6965879cfb",
            "tooltip": ""
          }
        },
        "0fa1f75c4adc41aa817479b948db411c": {
          "model_module": "@jupyter-widgets/controls",
          "model_name": "ButtonModel",
          "model_module_version": "1.5.0",
          "state": {
            "_dom_classes": [],
            "_model_module": "@jupyter-widgets/controls",
            "_model_module_version": "1.5.0",
            "_model_name": "ButtonModel",
            "_view_count": null,
            "_view_module": "@jupyter-widgets/controls",
            "_view_module_version": "1.5.0",
            "_view_name": "ButtonView",
            "button_style": "primary",
            "description": "Show Hint",
            "disabled": false,
            "icon": "lightbulb-o",
            "layout": "IPY_MODEL_babe2237a51b45daa5b82fe77ff6b7e3",
            "style": "IPY_MODEL_529d614a1ec94849b93ac346c19d1cd0",
            "tooltip": ""
          }
        },
        "6d945d37313e49cfa57edf57ea38372e": {
          "model_module": "@jupyter-widgets/controls",
          "model_name": "DropdownModel",
          "model_module_version": "1.5.0",
          "state": {
            "_dom_classes": [],
            "_model_module": "@jupyter-widgets/controls",
            "_model_module_version": "1.5.0",
            "_model_name": "DropdownModel",
            "_options_labels": [
              "Problem 1",
              "Problem 2",
              "Problem 3",
              "Problem 4",
              "Problem 5",
              "Problem 6",
              "Problem 7",
              "Problem 8",
              "Problem 9",
              "Problem 10",
              "Problem 11",
              "Problem 12",
              "Problem 13",
              "Problem 14",
              "Problem 15",
              "Problem 16",
              "Problem 17",
              "Problem 18",
              "Problem 19",
              "Problem 20"
            ],
            "_view_count": null,
            "_view_module": "@jupyter-widgets/controls",
            "_view_module_version": "1.5.0",
            "_view_name": "DropdownView",
            "description": "Skip to:",
            "description_tooltip": null,
            "disabled": false,
            "index": 1,
            "layout": "IPY_MODEL_d5d48c0c1ecc4795a846b349ba1ad2b9",
            "style": "IPY_MODEL_1b05bcfd9ad1460f8060a8342767ff47"
          }
        },
        "1140dbff99c547caa5a2e32408e9de7f": {
          "model_module": "@jupyter-widgets/base",
          "model_name": "LayoutModel",
          "model_module_version": "1.2.0",
          "state": {
            "_model_module": "@jupyter-widgets/base",
            "_model_module_version": "1.2.0",
            "_model_name": "LayoutModel",
            "_view_count": null,
            "_view_module": "@jupyter-widgets/base",
            "_view_module_version": "1.2.0",
            "_view_name": "LayoutView",
            "align_content": null,
            "align_items": null,
            "align_self": null,
            "border": null,
            "bottom": null,
            "display": null,
            "flex": null,
            "flex_flow": null,
            "grid_area": null,
            "grid_auto_columns": null,
            "grid_auto_flow": null,
            "grid_auto_rows": null,
            "grid_column": null,
            "grid_gap": null,
            "grid_row": null,
            "grid_template_areas": null,
            "grid_template_columns": null,
            "grid_template_rows": null,
            "height": null,
            "justify_content": null,
            "justify_items": null,
            "left": null,
            "margin": null,
            "max_height": null,
            "max_width": null,
            "min_height": null,
            "min_width": null,
            "object_fit": null,
            "object_position": null,
            "order": null,
            "overflow": null,
            "overflow_x": null,
            "overflow_y": null,
            "padding": null,
            "right": null,
            "top": null,
            "visibility": null,
            "width": null
          }
        },
        "8a179875331148a0973819bbd43266c1": {
          "model_module": "@jupyter-widgets/base",
          "model_name": "LayoutModel",
          "model_module_version": "1.2.0",
          "state": {
            "_model_module": "@jupyter-widgets/base",
            "_model_module_version": "1.2.0",
            "_model_name": "LayoutModel",
            "_view_count": null,
            "_view_module": "@jupyter-widgets/base",
            "_view_module_version": "1.2.0",
            "_view_name": "LayoutView",
            "align_content": null,
            "align_items": null,
            "align_self": null,
            "border": null,
            "bottom": null,
            "display": null,
            "flex": null,
            "flex_flow": null,
            "grid_area": null,
            "grid_auto_columns": null,
            "grid_auto_flow": null,
            "grid_auto_rows": null,
            "grid_column": null,
            "grid_gap": null,
            "grid_row": null,
            "grid_template_areas": null,
            "grid_template_columns": null,
            "grid_template_rows": null,
            "height": null,
            "justify_content": null,
            "justify_items": null,
            "left": null,
            "margin": null,
            "max_height": null,
            "max_width": null,
            "min_height": null,
            "min_width": null,
            "object_fit": null,
            "object_position": null,
            "order": null,
            "overflow": null,
            "overflow_x": null,
            "overflow_y": null,
            "padding": null,
            "right": null,
            "top": null,
            "visibility": null,
            "width": null
          }
        },
        "6a32106ef11e41c7ac1e8ca9c4cee63e": {
          "model_module": "@jupyter-widgets/controls",
          "model_name": "DescriptionStyleModel",
          "model_module_version": "1.5.0",
          "state": {
            "_model_module": "@jupyter-widgets/controls",
            "_model_module_version": "1.5.0",
            "_model_name": "DescriptionStyleModel",
            "_view_count": null,
            "_view_module": "@jupyter-widgets/base",
            "_view_module_version": "1.2.0",
            "_view_name": "StyleView",
            "description_width": ""
          }
        },
        "2a374af2c0b8439384e3139bf9b12448": {
          "model_module": "@jupyter-widgets/base",
          "model_name": "LayoutModel",
          "model_module_version": "1.2.0",
          "state": {
            "_model_module": "@jupyter-widgets/base",
            "_model_module_version": "1.2.0",
            "_model_name": "LayoutModel",
            "_view_count": null,
            "_view_module": "@jupyter-widgets/base",
            "_view_module_version": "1.2.0",
            "_view_name": "LayoutView",
            "align_content": null,
            "align_items": null,
            "align_self": null,
            "border": null,
            "bottom": null,
            "display": null,
            "flex": null,
            "flex_flow": null,
            "grid_area": null,
            "grid_auto_columns": null,
            "grid_auto_flow": null,
            "grid_auto_rows": null,
            "grid_column": null,
            "grid_gap": null,
            "grid_row": null,
            "grid_template_areas": null,
            "grid_template_columns": null,
            "grid_template_rows": null,
            "height": null,
            "justify_content": null,
            "justify_items": null,
            "left": null,
            "margin": null,
            "max_height": null,
            "max_width": null,
            "min_height": null,
            "min_width": null,
            "object_fit": null,
            "object_position": null,
            "order": null,
            "overflow": null,
            "overflow_x": null,
            "overflow_y": null,
            "padding": null,
            "right": null,
            "top": null,
            "visibility": null,
            "width": null
          }
        },
        "1b8aa122af864cc6a822f725f8d4a3d6": {
          "model_module": "@jupyter-widgets/controls",
          "model_name": "DescriptionStyleModel",
          "model_module_version": "1.5.0",
          "state": {
            "_model_module": "@jupyter-widgets/controls",
            "_model_module_version": "1.5.0",
            "_model_name": "DescriptionStyleModel",
            "_view_count": null,
            "_view_module": "@jupyter-widgets/base",
            "_view_module_version": "1.2.0",
            "_view_name": "StyleView",
            "description_width": ""
          }
        },
        "249f265315d44253ab7c917a630387c6": {
          "model_module": "@jupyter-widgets/base",
          "model_name": "LayoutModel",
          "model_module_version": "1.2.0",
          "state": {
            "_model_module": "@jupyter-widgets/base",
            "_model_module_version": "1.2.0",
            "_model_name": "LayoutModel",
            "_view_count": null,
            "_view_module": "@jupyter-widgets/base",
            "_view_module_version": "1.2.0",
            "_view_name": "LayoutView",
            "align_content": null,
            "align_items": null,
            "align_self": null,
            "border": null,
            "bottom": null,
            "display": null,
            "flex": null,
            "flex_flow": null,
            "grid_area": null,
            "grid_auto_columns": null,
            "grid_auto_flow": null,
            "grid_auto_rows": null,
            "grid_column": null,
            "grid_gap": null,
            "grid_row": null,
            "grid_template_areas": null,
            "grid_template_columns": null,
            "grid_template_rows": null,
            "height": null,
            "justify_content": null,
            "justify_items": null,
            "left": null,
            "margin": null,
            "max_height": null,
            "max_width": null,
            "min_height": null,
            "min_width": null,
            "object_fit": null,
            "object_position": null,
            "order": null,
            "overflow": null,
            "overflow_x": null,
            "overflow_y": null,
            "padding": null,
            "right": null,
            "top": null,
            "visibility": null,
            "width": null
          }
        },
        "b462a399076e4be7bc824fd639889df4": {
          "model_module": "@jupyter-widgets/controls",
          "model_name": "DescriptionStyleModel",
          "model_module_version": "1.5.0",
          "state": {
            "_model_module": "@jupyter-widgets/controls",
            "_model_module_version": "1.5.0",
            "_model_name": "DescriptionStyleModel",
            "_view_count": null,
            "_view_module": "@jupyter-widgets/base",
            "_view_module_version": "1.2.0",
            "_view_name": "StyleView",
            "description_width": ""
          }
        },
        "23d05969c5cf413293c2f7a1b7976ac4": {
          "model_module": "@jupyter-widgets/base",
          "model_name": "LayoutModel",
          "model_module_version": "1.2.0",
          "state": {
            "_model_module": "@jupyter-widgets/base",
            "_model_module_version": "1.2.0",
            "_model_name": "LayoutModel",
            "_view_count": null,
            "_view_module": "@jupyter-widgets/base",
            "_view_module_version": "1.2.0",
            "_view_name": "LayoutView",
            "align_content": null,
            "align_items": null,
            "align_self": null,
            "border": null,
            "bottom": null,
            "display": null,
            "flex": null,
            "flex_flow": null,
            "grid_area": null,
            "grid_auto_columns": null,
            "grid_auto_flow": null,
            "grid_auto_rows": null,
            "grid_column": null,
            "grid_gap": null,
            "grid_row": null,
            "grid_template_areas": null,
            "grid_template_columns": null,
            "grid_template_rows": null,
            "height": null,
            "justify_content": null,
            "justify_items": null,
            "left": null,
            "margin": null,
            "max_height": null,
            "max_width": null,
            "min_height": null,
            "min_width": null,
            "object_fit": null,
            "object_position": null,
            "order": null,
            "overflow": null,
            "overflow_x": null,
            "overflow_y": null,
            "padding": null,
            "right": null,
            "top": null,
            "visibility": null,
            "width": null
          }
        },
        "acb6ef8b006846d096eed34ebb5e06ab": {
          "model_module": "@jupyter-widgets/controls",
          "model_name": "ButtonStyleModel",
          "model_module_version": "1.5.0",
          "state": {
            "_model_module": "@jupyter-widgets/controls",
            "_model_module_version": "1.5.0",
            "_model_name": "ButtonStyleModel",
            "_view_count": null,
            "_view_module": "@jupyter-widgets/base",
            "_view_module_version": "1.2.0",
            "_view_name": "StyleView",
            "button_color": null,
            "font_weight": ""
          }
        },
        "992fc7fc7dda415680dbc6fbb82c642d": {
          "model_module": "@jupyter-widgets/base",
          "model_name": "LayoutModel",
          "model_module_version": "1.2.0",
          "state": {
            "_model_module": "@jupyter-widgets/base",
            "_model_module_version": "1.2.0",
            "_model_name": "LayoutModel",
            "_view_count": null,
            "_view_module": "@jupyter-widgets/base",
            "_view_module_version": "1.2.0",
            "_view_name": "LayoutView",
            "align_content": null,
            "align_items": null,
            "align_self": null,
            "border": null,
            "bottom": null,
            "display": null,
            "flex": null,
            "flex_flow": null,
            "grid_area": null,
            "grid_auto_columns": null,
            "grid_auto_flow": null,
            "grid_auto_rows": null,
            "grid_column": null,
            "grid_gap": null,
            "grid_row": null,
            "grid_template_areas": null,
            "grid_template_columns": null,
            "grid_template_rows": null,
            "height": null,
            "justify_content": null,
            "justify_items": null,
            "left": null,
            "margin": null,
            "max_height": null,
            "max_width": null,
            "min_height": null,
            "min_width": null,
            "object_fit": null,
            "object_position": null,
            "order": null,
            "overflow": null,
            "overflow_x": null,
            "overflow_y": null,
            "padding": null,
            "right": null,
            "top": null,
            "visibility": null,
            "width": null
          }
        },
        "bdb577e00c914a96937fb36ce965db7f": {
          "model_module": "@jupyter-widgets/controls",
          "model_name": "ButtonStyleModel",
          "model_module_version": "1.5.0",
          "state": {
            "_model_module": "@jupyter-widgets/controls",
            "_model_module_version": "1.5.0",
            "_model_name": "ButtonStyleModel",
            "_view_count": null,
            "_view_module": "@jupyter-widgets/base",
            "_view_module_version": "1.2.0",
            "_view_name": "StyleView",
            "button_color": null,
            "font_weight": ""
          }
        },
        "9c4d06273283487dab1512d303d82f28": {
          "model_module": "@jupyter-widgets/base",
          "model_name": "LayoutModel",
          "model_module_version": "1.2.0",
          "state": {
            "_model_module": "@jupyter-widgets/base",
            "_model_module_version": "1.2.0",
            "_model_name": "LayoutModel",
            "_view_count": null,
            "_view_module": "@jupyter-widgets/base",
            "_view_module_version": "1.2.0",
            "_view_name": "LayoutView",
            "align_content": null,
            "align_items": null,
            "align_self": null,
            "border": null,
            "bottom": null,
            "display": null,
            "flex": null,
            "flex_flow": null,
            "grid_area": null,
            "grid_auto_columns": null,
            "grid_auto_flow": null,
            "grid_auto_rows": null,
            "grid_column": null,
            "grid_gap": null,
            "grid_row": null,
            "grid_template_areas": null,
            "grid_template_columns": null,
            "grid_template_rows": null,
            "height": null,
            "justify_content": null,
            "justify_items": null,
            "left": null,
            "margin": null,
            "max_height": null,
            "max_width": null,
            "min_height": null,
            "min_width": null,
            "object_fit": null,
            "object_position": null,
            "order": null,
            "overflow": null,
            "overflow_x": null,
            "overflow_y": null,
            "padding": null,
            "right": null,
            "top": null,
            "visibility": null,
            "width": null
          }
        },
        "0c0b44c9e4ff404b9b320d6965879cfb": {
          "model_module": "@jupyter-widgets/controls",
          "model_name": "ButtonStyleModel",
          "model_module_version": "1.5.0",
          "state": {
            "_model_module": "@jupyter-widgets/controls",
            "_model_module_version": "1.5.0",
            "_model_name": "ButtonStyleModel",
            "_view_count": null,
            "_view_module": "@jupyter-widgets/base",
            "_view_module_version": "1.2.0",
            "_view_name": "StyleView",
            "button_color": null,
            "font_weight": ""
          }
        },
        "babe2237a51b45daa5b82fe77ff6b7e3": {
          "model_module": "@jupyter-widgets/base",
          "model_name": "LayoutModel",
          "model_module_version": "1.2.0",
          "state": {
            "_model_module": "@jupyter-widgets/base",
            "_model_module_version": "1.2.0",
            "_model_name": "LayoutModel",
            "_view_count": null,
            "_view_module": "@jupyter-widgets/base",
            "_view_module_version": "1.2.0",
            "_view_name": "LayoutView",
            "align_content": null,
            "align_items": null,
            "align_self": null,
            "border": null,
            "bottom": null,
            "display": null,
            "flex": null,
            "flex_flow": null,
            "grid_area": null,
            "grid_auto_columns": null,
            "grid_auto_flow": null,
            "grid_auto_rows": null,
            "grid_column": null,
            "grid_gap": null,
            "grid_row": null,
            "grid_template_areas": null,
            "grid_template_columns": null,
            "grid_template_rows": null,
            "height": null,
            "justify_content": null,
            "justify_items": null,
            "left": null,
            "margin": null,
            "max_height": null,
            "max_width": null,
            "min_height": null,
            "min_width": null,
            "object_fit": null,
            "object_position": null,
            "order": null,
            "overflow": null,
            "overflow_x": null,
            "overflow_y": null,
            "padding": null,
            "right": null,
            "top": null,
            "visibility": null,
            "width": null
          }
        },
        "529d614a1ec94849b93ac346c19d1cd0": {
          "model_module": "@jupyter-widgets/controls",
          "model_name": "ButtonStyleModel",
          "model_module_version": "1.5.0",
          "state": {
            "_model_module": "@jupyter-widgets/controls",
            "_model_module_version": "1.5.0",
            "_model_name": "ButtonStyleModel",
            "_view_count": null,
            "_view_module": "@jupyter-widgets/base",
            "_view_module_version": "1.2.0",
            "_view_name": "StyleView",
            "button_color": null,
            "font_weight": ""
          }
        },
        "d5d48c0c1ecc4795a846b349ba1ad2b9": {
          "model_module": "@jupyter-widgets/base",
          "model_name": "LayoutModel",
          "model_module_version": "1.2.0",
          "state": {
            "_model_module": "@jupyter-widgets/base",
            "_model_module_version": "1.2.0",
            "_model_name": "LayoutModel",
            "_view_count": null,
            "_view_module": "@jupyter-widgets/base",
            "_view_module_version": "1.2.0",
            "_view_name": "LayoutView",
            "align_content": null,
            "align_items": null,
            "align_self": null,
            "border": null,
            "bottom": null,
            "display": null,
            "flex": null,
            "flex_flow": null,
            "grid_area": null,
            "grid_auto_columns": null,
            "grid_auto_flow": null,
            "grid_auto_rows": null,
            "grid_column": null,
            "grid_gap": null,
            "grid_row": null,
            "grid_template_areas": null,
            "grid_template_columns": null,
            "grid_template_rows": null,
            "height": null,
            "justify_content": null,
            "justify_items": null,
            "left": null,
            "margin": null,
            "max_height": null,
            "max_width": null,
            "min_height": null,
            "min_width": null,
            "object_fit": null,
            "object_position": null,
            "order": null,
            "overflow": null,
            "overflow_x": null,
            "overflow_y": null,
            "padding": null,
            "right": null,
            "top": null,
            "visibility": null,
            "width": "200px"
          }
        },
        "1b05bcfd9ad1460f8060a8342767ff47": {
          "model_module": "@jupyter-widgets/controls",
          "model_name": "DescriptionStyleModel",
          "model_module_version": "1.5.0",
          "state": {
            "_model_module": "@jupyter-widgets/controls",
            "_model_module_version": "1.5.0",
            "_model_name": "DescriptionStyleModel",
            "_view_count": null,
            "_view_module": "@jupyter-widgets/base",
            "_view_module_version": "1.2.0",
            "_view_name": "StyleView",
            "description_width": ""
          }
        },
        "d929dc5634c0405d9259d6cef16e77cf": {
          "model_module": "@jupyter-widgets/base",
          "model_name": "LayoutModel",
          "model_module_version": "1.2.0",
          "state": {
            "_model_module": "@jupyter-widgets/base",
            "_model_module_version": "1.2.0",
            "_model_name": "LayoutModel",
            "_view_count": null,
            "_view_module": "@jupyter-widgets/base",
            "_view_module_version": "1.2.0",
            "_view_name": "LayoutView",
            "align_content": null,
            "align_items": null,
            "align_self": null,
            "border": null,
            "bottom": null,
            "display": null,
            "flex": null,
            "flex_flow": null,
            "grid_area": null,
            "grid_auto_columns": null,
            "grid_auto_flow": null,
            "grid_auto_rows": null,
            "grid_column": null,
            "grid_gap": null,
            "grid_row": null,
            "grid_template_areas": null,
            "grid_template_columns": null,
            "grid_template_rows": null,
            "height": null,
            "justify_content": null,
            "justify_items": null,
            "left": null,
            "margin": null,
            "max_height": null,
            "max_width": null,
            "min_height": null,
            "min_width": null,
            "object_fit": null,
            "object_position": null,
            "order": null,
            "overflow": null,
            "overflow_x": null,
            "overflow_y": null,
            "padding": null,
            "right": null,
            "top": null,
            "visibility": null,
            "width": null
          }
        },
        "010921cdddf149899b8950aaa7d46ad1": {
          "model_module": "@jupyter-widgets/base",
          "model_name": "LayoutModel",
          "model_module_version": "1.2.0",
          "state": {
            "_model_module": "@jupyter-widgets/base",
            "_model_module_version": "1.2.0",
            "_model_name": "LayoutModel",
            "_view_count": null,
            "_view_module": "@jupyter-widgets/base",
            "_view_module_version": "1.2.0",
            "_view_name": "LayoutView",
            "align_content": null,
            "align_items": null,
            "align_self": null,
            "border": null,
            "bottom": null,
            "display": null,
            "flex": null,
            "flex_flow": null,
            "grid_area": null,
            "grid_auto_columns": null,
            "grid_auto_flow": null,
            "grid_auto_rows": null,
            "grid_column": null,
            "grid_gap": null,
            "grid_row": null,
            "grid_template_areas": null,
            "grid_template_columns": null,
            "grid_template_rows": null,
            "height": null,
            "justify_content": null,
            "justify_items": null,
            "left": null,
            "margin": null,
            "max_height": null,
            "max_width": null,
            "min_height": null,
            "min_width": null,
            "object_fit": null,
            "object_position": null,
            "order": null,
            "overflow": null,
            "overflow_x": null,
            "overflow_y": null,
            "padding": null,
            "right": null,
            "top": null,
            "visibility": null,
            "width": null
          }
        },
        "f2da874863984f8a893d145f632aa053": {
          "model_module": "@jupyter-widgets/base",
          "model_name": "LayoutModel",
          "model_module_version": "1.2.0",
          "state": {
            "_model_module": "@jupyter-widgets/base",
            "_model_module_version": "1.2.0",
            "_model_name": "LayoutModel",
            "_view_count": null,
            "_view_module": "@jupyter-widgets/base",
            "_view_module_version": "1.2.0",
            "_view_name": "LayoutView",
            "align_content": null,
            "align_items": null,
            "align_self": null,
            "border": null,
            "bottom": null,
            "display": null,
            "flex": null,
            "flex_flow": null,
            "grid_area": null,
            "grid_auto_columns": null,
            "grid_auto_flow": null,
            "grid_auto_rows": null,
            "grid_column": null,
            "grid_gap": null,
            "grid_row": null,
            "grid_template_areas": null,
            "grid_template_columns": null,
            "grid_template_rows": null,
            "height": null,
            "justify_content": null,
            "justify_items": null,
            "left": null,
            "margin": null,
            "max_height": null,
            "max_width": null,
            "min_height": null,
            "min_width": null,
            "object_fit": null,
            "object_position": null,
            "order": null,
            "overflow": null,
            "overflow_x": null,
            "overflow_y": null,
            "padding": null,
            "right": null,
            "top": null,
            "visibility": null,
            "width": null
          }
        },
        "2be1a218ff4c4cf1995343e379867115": {
          "model_module": "@jupyter-widgets/base",
          "model_name": "LayoutModel",
          "model_module_version": "1.2.0",
          "state": {
            "_model_module": "@jupyter-widgets/base",
            "_model_module_version": "1.2.0",
            "_model_name": "LayoutModel",
            "_view_count": null,
            "_view_module": "@jupyter-widgets/base",
            "_view_module_version": "1.2.0",
            "_view_name": "LayoutView",
            "align_content": null,
            "align_items": null,
            "align_self": null,
            "border": null,
            "bottom": null,
            "display": null,
            "flex": null,
            "flex_flow": null,
            "grid_area": null,
            "grid_auto_columns": null,
            "grid_auto_flow": null,
            "grid_auto_rows": null,
            "grid_column": null,
            "grid_gap": null,
            "grid_row": null,
            "grid_template_areas": null,
            "grid_template_columns": null,
            "grid_template_rows": null,
            "height": null,
            "justify_content": null,
            "justify_items": null,
            "left": null,
            "margin": null,
            "max_height": null,
            "max_width": null,
            "min_height": null,
            "min_width": null,
            "object_fit": null,
            "object_position": null,
            "order": null,
            "overflow": null,
            "overflow_x": null,
            "overflow_y": null,
            "padding": null,
            "right": null,
            "top": null,
            "visibility": null,
            "width": null
          }
        },
        "875e95d1153e4683a921c557f8ea2ac4": {
          "model_module": "@jupyter-widgets/base",
          "model_name": "LayoutModel",
          "model_module_version": "1.2.0",
          "state": {
            "_model_module": "@jupyter-widgets/base",
            "_model_module_version": "1.2.0",
            "_model_name": "LayoutModel",
            "_view_count": null,
            "_view_module": "@jupyter-widgets/base",
            "_view_module_version": "1.2.0",
            "_view_name": "LayoutView",
            "align_content": null,
            "align_items": null,
            "align_self": null,
            "border": null,
            "bottom": null,
            "display": null,
            "flex": null,
            "flex_flow": null,
            "grid_area": null,
            "grid_auto_columns": null,
            "grid_auto_flow": null,
            "grid_auto_rows": null,
            "grid_column": null,
            "grid_gap": null,
            "grid_row": null,
            "grid_template_areas": null,
            "grid_template_columns": null,
            "grid_template_rows": null,
            "height": null,
            "justify_content": null,
            "justify_items": null,
            "left": null,
            "margin": null,
            "max_height": null,
            "max_width": null,
            "min_height": null,
            "min_width": null,
            "object_fit": null,
            "object_position": null,
            "order": null,
            "overflow": null,
            "overflow_x": null,
            "overflow_y": null,
            "padding": null,
            "right": null,
            "top": null,
            "visibility": null,
            "width": null
          }
        },
        "68f24105138d4881bb58bef17d71ed25": {
          "model_module": "@jupyter-widgets/controls",
          "model_name": "HBoxModel",
          "model_module_version": "1.5.0",
          "state": {
            "_dom_classes": [],
            "_model_module": "@jupyter-widgets/controls",
            "_model_module_version": "1.5.0",
            "_model_name": "HBoxModel",
            "_view_count": null,
            "_view_module": "@jupyter-widgets/controls",
            "_view_module_version": "1.5.0",
            "_view_name": "HBoxView",
            "box_style": "",
            "children": [
              "IPY_MODEL_6bc1926c186f43ab8e40b2b5d69041ad",
              "IPY_MODEL_cb356f6f67294732b172c508181a2f93"
            ],
            "layout": "IPY_MODEL_70d0b05683b6438bbc2a3875ba6ffa3b"
          }
        },
        "6bc1926c186f43ab8e40b2b5d69041ad": {
          "model_module": "@jupyter-widgets/controls",
          "model_name": "ButtonModel",
          "model_module_version": "1.5.0",
          "state": {
            "_dom_classes": [],
            "_model_module": "@jupyter-widgets/controls",
            "_model_module_version": "1.5.0",
            "_model_name": "ButtonModel",
            "_view_count": null,
            "_view_module": "@jupyter-widgets/controls",
            "_view_module_version": "1.5.0",
            "_view_name": "ButtonView",
            "button_style": "warning",
            "description": "Retry",
            "disabled": false,
            "icon": "refresh",
            "layout": "IPY_MODEL_2b22f54af43f42aa83915982961e5c7c",
            "style": "IPY_MODEL_c503a2b945f04d2cb07e4fa4cf99f7af",
            "tooltip": ""
          }
        },
        "cb356f6f67294732b172c508181a2f93": {
          "model_module": "@jupyter-widgets/controls",
          "model_name": "ButtonModel",
          "model_module_version": "1.5.0",
          "state": {
            "_dom_classes": [],
            "_model_module": "@jupyter-widgets/controls",
            "_model_module_version": "1.5.0",
            "_model_name": "ButtonModel",
            "_view_count": null,
            "_view_module": "@jupyter-widgets/controls",
            "_view_module_version": "1.5.0",
            "_view_name": "ButtonView",
            "button_style": "info",
            "description": "Next",
            "disabled": false,
            "icon": "arrow-right",
            "layout": "IPY_MODEL_d851b9a0e6d8481c807b60986fd92ca0",
            "style": "IPY_MODEL_cd53402776fe48a49aa097775e3bad14",
            "tooltip": ""
          }
        },
        "70d0b05683b6438bbc2a3875ba6ffa3b": {
          "model_module": "@jupyter-widgets/base",
          "model_name": "LayoutModel",
          "model_module_version": "1.2.0",
          "state": {
            "_model_module": "@jupyter-widgets/base",
            "_model_module_version": "1.2.0",
            "_model_name": "LayoutModel",
            "_view_count": null,
            "_view_module": "@jupyter-widgets/base",
            "_view_module_version": "1.2.0",
            "_view_name": "LayoutView",
            "align_content": null,
            "align_items": null,
            "align_self": null,
            "border": null,
            "bottom": null,
            "display": null,
            "flex": null,
            "flex_flow": null,
            "grid_area": null,
            "grid_auto_columns": null,
            "grid_auto_flow": null,
            "grid_auto_rows": null,
            "grid_column": null,
            "grid_gap": null,
            "grid_row": null,
            "grid_template_areas": null,
            "grid_template_columns": null,
            "grid_template_rows": null,
            "height": null,
            "justify_content": null,
            "justify_items": null,
            "left": null,
            "margin": null,
            "max_height": null,
            "max_width": null,
            "min_height": null,
            "min_width": null,
            "object_fit": null,
            "object_position": null,
            "order": null,
            "overflow": null,
            "overflow_x": null,
            "overflow_y": null,
            "padding": null,
            "right": null,
            "top": null,
            "visibility": null,
            "width": null
          }
        },
        "2b22f54af43f42aa83915982961e5c7c": {
          "model_module": "@jupyter-widgets/base",
          "model_name": "LayoutModel",
          "model_module_version": "1.2.0",
          "state": {
            "_model_module": "@jupyter-widgets/base",
            "_model_module_version": "1.2.0",
            "_model_name": "LayoutModel",
            "_view_count": null,
            "_view_module": "@jupyter-widgets/base",
            "_view_module_version": "1.2.0",
            "_view_name": "LayoutView",
            "align_content": null,
            "align_items": null,
            "align_self": null,
            "border": null,
            "bottom": null,
            "display": null,
            "flex": null,
            "flex_flow": null,
            "grid_area": null,
            "grid_auto_columns": null,
            "grid_auto_flow": null,
            "grid_auto_rows": null,
            "grid_column": null,
            "grid_gap": null,
            "grid_row": null,
            "grid_template_areas": null,
            "grid_template_columns": null,
            "grid_template_rows": null,
            "height": null,
            "justify_content": null,
            "justify_items": null,
            "left": null,
            "margin": null,
            "max_height": null,
            "max_width": null,
            "min_height": null,
            "min_width": null,
            "object_fit": null,
            "object_position": null,
            "order": null,
            "overflow": null,
            "overflow_x": null,
            "overflow_y": null,
            "padding": null,
            "right": null,
            "top": null,
            "visibility": null,
            "width": null
          }
        },
        "c503a2b945f04d2cb07e4fa4cf99f7af": {
          "model_module": "@jupyter-widgets/controls",
          "model_name": "ButtonStyleModel",
          "model_module_version": "1.5.0",
          "state": {
            "_model_module": "@jupyter-widgets/controls",
            "_model_module_version": "1.5.0",
            "_model_name": "ButtonStyleModel",
            "_view_count": null,
            "_view_module": "@jupyter-widgets/base",
            "_view_module_version": "1.2.0",
            "_view_name": "StyleView",
            "button_color": null,
            "font_weight": ""
          }
        },
        "d851b9a0e6d8481c807b60986fd92ca0": {
          "model_module": "@jupyter-widgets/base",
          "model_name": "LayoutModel",
          "model_module_version": "1.2.0",
          "state": {
            "_model_module": "@jupyter-widgets/base",
            "_model_module_version": "1.2.0",
            "_model_name": "LayoutModel",
            "_view_count": null,
            "_view_module": "@jupyter-widgets/base",
            "_view_module_version": "1.2.0",
            "_view_name": "LayoutView",
            "align_content": null,
            "align_items": null,
            "align_self": null,
            "border": null,
            "bottom": null,
            "display": null,
            "flex": null,
            "flex_flow": null,
            "grid_area": null,
            "grid_auto_columns": null,
            "grid_auto_flow": null,
            "grid_auto_rows": null,
            "grid_column": null,
            "grid_gap": null,
            "grid_row": null,
            "grid_template_areas": null,
            "grid_template_columns": null,
            "grid_template_rows": null,
            "height": null,
            "justify_content": null,
            "justify_items": null,
            "left": null,
            "margin": null,
            "max_height": null,
            "max_width": null,
            "min_height": null,
            "min_width": null,
            "object_fit": null,
            "object_position": null,
            "order": null,
            "overflow": null,
            "overflow_x": null,
            "overflow_y": null,
            "padding": null,
            "right": null,
            "top": null,
            "visibility": null,
            "width": null
          }
        },
        "cd53402776fe48a49aa097775e3bad14": {
          "model_module": "@jupyter-widgets/controls",
          "model_name": "ButtonStyleModel",
          "model_module_version": "1.5.0",
          "state": {
            "_model_module": "@jupyter-widgets/controls",
            "_model_module_version": "1.5.0",
            "_model_name": "ButtonStyleModel",
            "_view_count": null,
            "_view_module": "@jupyter-widgets/base",
            "_view_module_version": "1.2.0",
            "_view_name": "StyleView",
            "button_color": null,
            "font_weight": ""
          }
        },
        "a804f0603f8e4254ab368e2aeb287a44": {
          "model_module": "@jupyter-widgets/controls",
          "model_name": "HBoxModel",
          "model_module_version": "1.5.0",
          "state": {
            "_dom_classes": [],
            "_model_module": "@jupyter-widgets/controls",
            "_model_module_version": "1.5.0",
            "_model_name": "HBoxModel",
            "_view_count": null,
            "_view_module": "@jupyter-widgets/controls",
            "_view_module_version": "1.5.0",
            "_view_name": "HBoxView",
            "box_style": "",
            "children": [
              "IPY_MODEL_6bc1926c186f43ab8e40b2b5d69041ad",
              "IPY_MODEL_cb356f6f67294732b172c508181a2f93"
            ],
            "layout": "IPY_MODEL_db2b3ea567264ff4a0b737e0538ce88a"
          }
        },
        "db2b3ea567264ff4a0b737e0538ce88a": {
          "model_module": "@jupyter-widgets/base",
          "model_name": "LayoutModel",
          "model_module_version": "1.2.0",
          "state": {
            "_model_module": "@jupyter-widgets/base",
            "_model_module_version": "1.2.0",
            "_model_name": "LayoutModel",
            "_view_count": null,
            "_view_module": "@jupyter-widgets/base",
            "_view_module_version": "1.2.0",
            "_view_name": "LayoutView",
            "align_content": null,
            "align_items": null,
            "align_self": null,
            "border": null,
            "bottom": null,
            "display": null,
            "flex": null,
            "flex_flow": null,
            "grid_area": null,
            "grid_auto_columns": null,
            "grid_auto_flow": null,
            "grid_auto_rows": null,
            "grid_column": null,
            "grid_gap": null,
            "grid_row": null,
            "grid_template_areas": null,
            "grid_template_columns": null,
            "grid_template_rows": null,
            "height": null,
            "justify_content": null,
            "justify_items": null,
            "left": null,
            "margin": null,
            "max_height": null,
            "max_width": null,
            "min_height": null,
            "min_width": null,
            "object_fit": null,
            "object_position": null,
            "order": null,
            "overflow": null,
            "overflow_x": null,
            "overflow_y": null,
            "padding": null,
            "right": null,
            "top": null,
            "visibility": null,
            "width": null
          }
        },
        "15967e629dc44a4cbd063ec27e152e8d": {
          "model_module": "@jupyter-widgets/controls",
          "model_name": "HBoxModel",
          "model_module_version": "1.5.0",
          "state": {
            "_dom_classes": [],
            "_model_module": "@jupyter-widgets/controls",
            "_model_module_version": "1.5.0",
            "_model_name": "HBoxModel",
            "_view_count": null,
            "_view_module": "@jupyter-widgets/controls",
            "_view_module_version": "1.5.0",
            "_view_name": "HBoxView",
            "box_style": "",
            "children": [
              "IPY_MODEL_6bc1926c186f43ab8e40b2b5d69041ad",
              "IPY_MODEL_cb356f6f67294732b172c508181a2f93"
            ],
            "layout": "IPY_MODEL_08e52280531d421aaa01800344ba0ebc"
          }
        },
        "08e52280531d421aaa01800344ba0ebc": {
          "model_module": "@jupyter-widgets/base",
          "model_name": "LayoutModel",
          "model_module_version": "1.2.0",
          "state": {
            "_model_module": "@jupyter-widgets/base",
            "_model_module_version": "1.2.0",
            "_model_name": "LayoutModel",
            "_view_count": null,
            "_view_module": "@jupyter-widgets/base",
            "_view_module_version": "1.2.0",
            "_view_name": "LayoutView",
            "align_content": null,
            "align_items": null,
            "align_self": null,
            "border": null,
            "bottom": null,
            "display": null,
            "flex": null,
            "flex_flow": null,
            "grid_area": null,
            "grid_auto_columns": null,
            "grid_auto_flow": null,
            "grid_auto_rows": null,
            "grid_column": null,
            "grid_gap": null,
            "grid_row": null,
            "grid_template_areas": null,
            "grid_template_columns": null,
            "grid_template_rows": null,
            "height": null,
            "justify_content": null,
            "justify_items": null,
            "left": null,
            "margin": null,
            "max_height": null,
            "max_width": null,
            "min_height": null,
            "min_width": null,
            "object_fit": null,
            "object_position": null,
            "order": null,
            "overflow": null,
            "overflow_x": null,
            "overflow_y": null,
            "padding": null,
            "right": null,
            "top": null,
            "visibility": null,
            "width": null
          }
        }
      }
    }
  },
  "cells": [
    {
      "cell_type": "markdown",
      "metadata": {
        "id": "view-in-github",
        "colab_type": "text"
      },
      "source": [
        "<a href=\"https://colab.research.google.com/github/brendanpshea/computing_concepts_python/blob/main/IntroCS_02_DataTypes.ipynb\" target=\"_parent\"><img src=\"https://colab.research.google.com/assets/colab-badge.svg\" alt=\"Open In Colab\"/></a>"
      ]
    },
    {
      "cell_type": "markdown",
      "source": [
        "# Data Types and Programming\n",
        "### Brendan Shea, PhD\n",
        "\n",
        "In our previous chapter, we explored the physical components of computers. Now we'll make the exciting transition from hardware to software - the programs that make computers useful. This is where we start to see how the electronic circuits we learned about can process information that humans understand.\n",
        "\n",
        "* **Computer hardware** provides the physical foundation\n",
        "  * CPU processes instructions\n",
        "  * Memory stores data and programs\n",
        "  * Input/output devices communicate with users\n",
        "* **Computer software** gives instructions to the hardware\n",
        "  * Operating systems manage resources\n",
        "  * Applications perform specific tasks\n",
        "  * **Programming languages** allow humans to write software\n",
        "\n",
        "**Software** is a collection of instructions that tells a computer what to do. Unlike hardware, which you can touch and see, software exists as patterns of information stored in the computer's memory.\n",
        "\n",
        "Today we'll bridge the gap between the electronic signals inside computers and the information that's meaningful to us. We'll see how computers store different types of data and begin learning Python, a powerful and beginner-friendly programming language."
      ],
      "metadata": {
        "id": "t8hdb9dmBzwM"
      }
    },
    {
      "cell_type": "markdown",
      "source": [
        "### Brendan's Note: How to Use This Textbook\n",
        "This textbook is designed to let you *interact* with the coding examples. This means you should try \"running\" the cells, seeing what happens if you change different values, etc. Don't be afraid of making mistakes!\n",
        "\n",
        "It is also **crucially important** to complete the review exercises at the end of the chapter (for example, coding exercises or vocab reviews). Computer science (like most things!) is something where learning requires practice."
      ],
      "metadata": {
        "id": "1FpX7tp8fnwt"
      }
    },
    {
      "cell_type": "markdown",
      "source": [
        "# How Computers Represent Information: The Big Picture\n",
        "\n",
        "Computers can only understand electrical signals - specifically, whether electricity is flowing (on) or not flowing (off). These two states are represented as 1 and 0. Yet somehow, computers handle text, images, videos, and complex data. How is this possible?\n",
        "\n",
        "* Everything in a computer is stored as **bits** (binary digits)\n",
        "  * A bit is the smallest unit of data: either 0 or 1\n",
        "  * Eight bits together form a **byte**\n",
        "  * Bytes are combined to represent more complex information\n",
        "* Different types of data are encoded differently:\n",
        "  * Numbers have mathematical encodings\n",
        "  * Text uses character encoding systems (like ASCII or Unicode)\n",
        "  * Images store color values for each pixel\n",
        "  * Sound stores amplitude measurements over time\n",
        "\n",
        "**Binary** is the number system that uses only two digits (0 and 1), perfectly matching a computer's ability to detect whether electricity is flowing or not. All information in computers is ultimately represented in binary.\n",
        "\n",
        "Think of binary as a universal language for computers - just as we might use English or another language to communicate complex ideas, computers use patterns of 1s and 0s to represent all types of information. In the next few sections, we'll look at how specific types of data are encoded in this binary language."
      ],
      "metadata": {
        "id": "Zd9fjMfUB1kU"
      }
    },
    {
      "cell_type": "markdown",
      "source": [
        "# Boolean Data: True or False in Binary\n",
        "\n",
        "Boolean data is the simplest form of information a computer can store. Named after mathematician George Boole, boolean values represent logical states: either true or false, yes or no, on or off. This matches perfectly with the binary nature of computers.\n",
        "\n",
        "* **Boolean data** has only two possible values:\n",
        "  * **True** (represented as 1 in binary)\n",
        "  * **False** (represented as 0 in binary)\n",
        "* Booleans are fundamental to how computers make decisions:\n",
        "  * Conditional statements use boolean results to determine which code to run\n",
        "  * Logical operators (AND, OR, NOT) manipulate boolean values\n",
        "  * Comparisons (equal to, greater than, less than) produce boolean results\n",
        "\n",
        "**Boolean logic** is a form of algebra where all values are either True or False. This provides the foundation for computer decision-making.\n",
        "\n",
        "Boolean values may seem simple, but they're incredibly powerful. Your computer makes billions of true/false decisions every second, from determining whether a key was pressed to evaluating complex conditions in programs. In Python, we represent these values with the keywords `True` and `False` (note the capital letters)."
      ],
      "metadata": {
        "id": "JWi0VZ26B4kE"
      }
    },
    {
      "cell_type": "markdown",
      "source": [
        "# Representing Numbers: Integers in Memory\n",
        "\n",
        "Whole numbers, or integers, are essential for counting and many computer operations. Computers store these numbers in binary form, which means converting our familiar decimal (base-10) numbers to binary (base-2) format.\n",
        "\n",
        "* **Integers** are whole numbers without fractional parts\n",
        "  * Examples: -3, 0, 42, 1000\n",
        "  * In programming, these are typically called the `int` data type\n",
        "* Binary representation of positive integers:\n",
        "  * Each position represents a power of 2\n",
        "  * 42 in binary is 101010\n",
        "    * = 32 + 0 + 8 + 0 + 2 + 0\n",
        "    * = 2^5 + 2^3 + 2^1\n",
        "* Computers typically store integers in fixed-size chunks:\n",
        "  * 8 bits (1 byte) → Can store values from -128 to 127 (or 0 to 255 for unsigned)\n",
        "  * 16 bits (2 bytes) → Can store values from -32,768 to 32,767\n",
        "  * 32 bits (4 bytes) → Can store values from about -2 billion to +2 billion\n",
        "  * 64 bits (8 bytes) → Can store extremely large numbers (about ±9 quintillion)\n",
        "\n",
        "**Binary encoding** is the process of converting information into sequences of bits that computers can process and store.\n",
        "\n",
        "| Decimal | Binary | Calculation |\n",
        "|---------|--------|-------------|\n",
        "| 0 | 00000000 | 0 |\n",
        "| 1 | 00000001 | 2^0 = 1 |\n",
        "| 3 | 00000011 | 2^1 + 2^0 = 2 + 1 = 3 |\n",
        "| 10 | 00001010 | 2^3 + 2^1 = 8 + 2 = 10 |\n",
        "| 42 | 00101010 | 2^5 + 2^3 + 2^1 = 32 + 8 + 2 = 42 |\n",
        "| 127 | 01111111 | 2^6 + 2^5 + 2^4 + 2^3 + 2^2 + 2^1 + 2^0 = 127 |\n",
        "\n",
        "## Negative Numbers: Two's Complement\n",
        "\n",
        "Computers use a system called **two's complement** to represent negative numbers. This clever approach makes arithmetic operations work correctly with both positive and negative numbers.\n",
        "\n",
        "To find the two's complement representation of a negative number:\n",
        "1. Write the binary representation of the positive version\n",
        "2. Flip all the bits (0s become 1s and vice versa)\n",
        "3. Add 1 to the result\n",
        "\n",
        "| Decimal | Two's Complement (8-bit) | How it's calculated |\n",
        "|---------|--------------------------|---------------------|\n",
        "| -1 | 11111111 | Complement of 00000001 + 1 |\n",
        "| -3 | 11111101 | Complement of 00000011 + 1 |\n",
        "| -10 | 11110110 | Complement of 00001010 + 1 |\n",
        "| -42 | 11010110 | Complement of 00101010 + 1 |\n",
        "| -127 | 10000001 | Complement of 01111111 + 1 |\n",
        "| -128 | 10000000 | Special case (smallest 8-bit value) |\n",
        "\n",
        "In two's complement, we can recognize negative numbers because they always have a 1 in the leftmost bit (the \"sign bit\"). This system has a neat mathematical property: adding a number and its negative counterpart always results in zero. For example, 00000011 (3) + 11111101 (-3) = 00000000 (with overflow discarded).\n",
        "\n",
        "In early computing and video games, memory was extremely limited. The original Nintendo Entertainment System used 8-bit integers for many values, meaning game designers had to work within these constraints. For example, the maximum number of lives in many games was 99 because they used a single byte to store this value, with some bits reserved for display purposes.\n",
        "\n",
        "When we begin programming in Python, we'll see that modern programming languages handle integers differently, often with automatic management of memory allocation for these numbers."
      ],
      "metadata": {
        "id": "iGmFmepwB8cE"
      }
    },
    {
      "cell_type": "code",
      "source": [
        "# @title\n",
        "%%html\n",
        "<svg viewBox=\"0 0 600 400\" xmlns=\"http://www.w3.org/2000/svg\">\n",
        "  <!-- Common text styles -->\n",
        "  <style>\n",
        "    .title { font: bold 24px Arial; text-anchor: middle; }\n",
        "    .subtitle { font: bold 18px Arial; text-anchor: middle; }\n",
        "    .num { font: bold 28px Arial; text-anchor: middle; }\n",
        "    .label { font: 16px Arial; text-anchor: middle; }\n",
        "    .binary { font: bold 28px Arial; text-anchor: middle; }\n",
        "    .process { font: bold 18px Arial; text-anchor: middle; }\n",
        "    .step { font: 16px Arial; text-anchor: start; }\n",
        "    .note { font: 14px Arial; text-anchor: start; fill: #666666; }\n",
        "  </style>\n",
        "\n",
        "  <!-- Title -->\n",
        "  <text x=\"300\" y=\"40\" class=\"title\">Converting Decimal to Binary</text>\n",
        "\n",
        "  <!-- Number 42 in circle -->\n",
        "  <circle cx=\"150\" cy=\"120\" r=\"50\" fill=\"#e6f7ff\" stroke=\"#0099cc\" stroke-width=\"2\"/>\n",
        "  <text x=\"150\" y=\"130\" class=\"num\">42</text>\n",
        "  <text x=\"150\" y=\"80\" class=\"label\">Decimal</text>\n",
        "\n",
        "  <!-- Binary result in rounded rectangle -->\n",
        "  <rect x=\"350\" y=\"70\" width=\"160\" height=\"100\" rx=\"20\" fill=\"#e6ffe6\" stroke=\"#00cc66\" stroke-width=\"2\"/>\n",
        "  <text x=\"430\" y=\"110\" class=\"binary\">101010</text>\n",
        "  <text x=\"430\" y=\"145\" class=\"label\">Binary</text>\n",
        "\n",
        "  <!-- Arrow from decimal to binary -->\n",
        "  <path d=\"M205 120 L345 120\" stroke=\"#666666\" stroke-width=\"3\" fill=\"none\"/>\n",
        "  <polygon points=\"345,120 335,115 335,125\" fill=\"#666666\"/>\n",
        "\n",
        "  <!-- Division process -->\n",
        "  <rect x=\"100\" y=\"200\" width=\"400\" height=\"180\" rx=\"10\" fill=\"#f9f9f9\" stroke=\"#cccccc\" stroke-width=\"2\"/>\n",
        "  <text x=\"300\" y=\"225\" class=\"process\">Division Process</text>\n",
        "\n",
        "  <text x=\"150\" y=\"260\" class=\"step\">42 ÷ 2 = 21 remainder 0</text>\n",
        "  <text x=\"150\" y=\"290\" class=\"step\">21 ÷ 2 = 10 remainder 1</text>\n",
        "  <text x=\"150\" y=\"320\" class=\"step\">10 ÷ 2 = 5 remainder 0</text>\n",
        "  <text x=\"150\" y=\"350\" class=\"step\">5 ÷ 2 = 2 remainder 1</text>\n",
        "  <text x=\"150\" y=\"380\" class=\"step\">2 ÷ 2 = 1 remainder 0</text>\n",
        "  <text x=\"330\" y=\"380\" class=\"step\">1 ÷ 2 = 0 remainder 1</text>\n",
        "\n",
        "  <!-- Result explanation -->\n",
        "  <text x=\"400\" y=\"290\" class=\"label\" font-weight=\"bold\">Read remainders</text>\n",
        "  <text x=\"400\" y=\"310\" class=\"label\" font-weight=\"bold\">from bottom to top:</text>\n",
        "  <text x=\"400\" y=\"340\" class=\"binary\">101010</text>\n",
        "\n",
        "  <!-- Power of 2 labels -->\n",
        "  <text x=\"350\" y=\"200\" class=\"note\">32 + 0 + 8 + 0 + 2 + 0 = 42</text>\n",
        "  <text x=\"350\" y=\"170\" class=\"note\">2^5 + 2^3 + 2^1 = 42</text>\n",
        "</svg>"
      ],
      "metadata": {
        "cellView": "form",
        "colab": {
          "base_uri": "https://localhost:8080/",
          "height": 964
        },
        "id": "v3Ttn_CiHM3P",
        "outputId": "453389d4-e123-4510-914e-2bb29959065a"
      },
      "execution_count": null,
      "outputs": [
        {
          "output_type": "display_data",
          "data": {
            "text/plain": [
              "<IPython.core.display.HTML object>"
            ],
            "text/html": [
              "<svg viewBox=\"0 0 600 400\" xmlns=\"http://www.w3.org/2000/svg\">\n",
              "  <!-- Common text styles -->\n",
              "  <style>\n",
              "    .title { font: bold 24px Arial; text-anchor: middle; }\n",
              "    .subtitle { font: bold 18px Arial; text-anchor: middle; }\n",
              "    .num { font: bold 28px Arial; text-anchor: middle; }\n",
              "    .label { font: 16px Arial; text-anchor: middle; }\n",
              "    .binary { font: bold 28px Arial; text-anchor: middle; }\n",
              "    .process { font: bold 18px Arial; text-anchor: middle; }\n",
              "    .step { font: 16px Arial; text-anchor: start; }\n",
              "    .note { font: 14px Arial; text-anchor: start; fill: #666666; }\n",
              "  </style>\n",
              "  \n",
              "  <!-- Title -->\n",
              "  <text x=\"300\" y=\"40\" class=\"title\">Converting Decimal to Binary</text>\n",
              "  \n",
              "  <!-- Number 42 in circle -->\n",
              "  <circle cx=\"150\" cy=\"120\" r=\"50\" fill=\"#e6f7ff\" stroke=\"#0099cc\" stroke-width=\"2\"/>\n",
              "  <text x=\"150\" y=\"130\" class=\"num\">42</text>\n",
              "  <text x=\"150\" y=\"80\" class=\"label\">Decimal</text>\n",
              "  \n",
              "  <!-- Binary result in rounded rectangle -->\n",
              "  <rect x=\"350\" y=\"70\" width=\"160\" height=\"100\" rx=\"20\" fill=\"#e6ffe6\" stroke=\"#00cc66\" stroke-width=\"2\"/>\n",
              "  <text x=\"430\" y=\"110\" class=\"binary\">101010</text>\n",
              "  <text x=\"430\" y=\"145\" class=\"label\">Binary</text>\n",
              "  \n",
              "  <!-- Arrow from decimal to binary -->\n",
              "  <path d=\"M205 120 L345 120\" stroke=\"#666666\" stroke-width=\"3\" fill=\"none\"/>\n",
              "  <polygon points=\"345,120 335,115 335,125\" fill=\"#666666\"/>\n",
              "  \n",
              "  <!-- Division process -->\n",
              "  <rect x=\"100\" y=\"200\" width=\"400\" height=\"180\" rx=\"10\" fill=\"#f9f9f9\" stroke=\"#cccccc\" stroke-width=\"2\"/>\n",
              "  <text x=\"300\" y=\"225\" class=\"process\">Division Process</text>\n",
              "  \n",
              "  <text x=\"150\" y=\"260\" class=\"step\">42 ÷ 2 = 21 remainder 0</text>\n",
              "  <text x=\"150\" y=\"290\" class=\"step\">21 ÷ 2 = 10 remainder 1</text>\n",
              "  <text x=\"150\" y=\"320\" class=\"step\">10 ÷ 2 = 5 remainder 0</text>\n",
              "  <text x=\"150\" y=\"350\" class=\"step\">5 ÷ 2 = 2 remainder 1</text>\n",
              "  <text x=\"150\" y=\"380\" class=\"step\">2 ÷ 2 = 1 remainder 0</text>\n",
              "  <text x=\"330\" y=\"380\" class=\"step\">1 ÷ 2 = 0 remainder 1</text>\n",
              "  \n",
              "  <!-- Result explanation -->\n",
              "  <text x=\"400\" y=\"290\" class=\"label\" font-weight=\"bold\">Read remainders</text>\n",
              "  <text x=\"400\" y=\"310\" class=\"label\" font-weight=\"bold\">from bottom to top:</text>\n",
              "  <text x=\"400\" y=\"340\" class=\"binary\">101010</text>\n",
              "  \n",
              "  <!-- Power of 2 labels -->\n",
              "  <text x=\"350\" y=\"200\" class=\"note\">32 + 0 + 8 + 0 + 2 + 0 = 42</text>\n",
              "  <text x=\"350\" y=\"170\" class=\"note\">2^5 + 2^3 + 2^1 = 42</text>\n",
              "</svg>\n"
            ]
          },
          "metadata": {}
        }
      ]
    },
    {
      "cell_type": "markdown",
      "source": [
        "# Floating Point: How Computers Store Decimal Numbers\n",
        "\n",
        "Numbers with decimal points present a special challenge for computers. These numbers, called floating-point numbers, include values like 3.14, -0.5, or 2.71828. Computers use a specialized format to represent these numbers efficiently.\n",
        "\n",
        "* **Floating-point numbers** are numbers with decimal components\n",
        "  * Examples: 3.14, -0.5, 6.022×10^23\n",
        "  * In programming, these are typically called the `float` data type\n",
        "* Most computers use the **IEEE 754** standard for floating-point representation:\n",
        "  * **Sign bit**: 1 bit that indicates if the number is positive (0) or negative (1)\n",
        "  * **Exponent**: 8 bits (for single precision) or 11 bits (for double precision) that store the power of 2\n",
        "  * **Mantissa**: 23 bits (single precision) or 52 bits (double precision) that store the significant digits\n",
        "* This is similar to scientific notation but uses base-2:\n",
        "  * A number is stored as: ±1.mantissa × 2^exponent\n",
        "  * Example: The decimal number 10.5 is stored as 1.0101 × 2^3 in binary\n",
        "\n",
        "**Scientific notation** is a way of writing numbers that are too large or too small in a more concise form (like 6.022×10^23 for a very large number).\n",
        "\n",
        "## Floating-Point Storage Examples\n",
        "\n",
        "The table below shows how some common decimal values are represented in single-precision (32-bit) floating-point format:\n",
        "\n",
        "| Decimal Value | Sign Bit | Exponent (8 bits) | Mantissa (23 bits) | Notes |\n",
        "|---------------|----------|------------------|---------------------|-------|\n",
        "| 0.0 | 0 | 00000000 | 00000000000000000000000 | Zero is a special case |\n",
        "| 1.0 | 0 | 01111111 | 00000000000000000000000 | 2^0 = 1 |\n",
        "| 2.0 | 0 | 10000000 | 00000000000000000000000 | 2^1 = 2 |\n",
        "| 10.0 | 0 | 10000010 | 01000000000000000000000 | 1.25 × 2^3 = 10 |\n",
        "| -10.0 | 1 | 10000010 | 01000000000000000000000 | Same as +10 but sign bit is 1 |\n",
        "| 0.5 | 0 | 01111110 | 00000000000000000000000 | 2^-1 = 0.5 |\n",
        "| 0.1 | 0 | 01111011 | 10011001100110011001101 | Approximation! Not exact |\n",
        "| 3.14159 | 0 | 10000000 | 10010010000111111011011 | Approximation of π |\n",
        "\n",
        "Notice that some numbers like 0.1 cannot be represented exactly in binary floating-point. This is similar to how 1/3 cannot be represented exactly in decimal (0.33333...). This limitation leads to small rounding errors in calculations.\n",
        "\n",
        "## Floating-Point Special Values\n",
        "\n",
        "IEEE 754 also defines special values for representing unusual situations:\n",
        "\n",
        "| Value | Sign | Exponent | Mantissa | Meaning |\n",
        "|-------|------|----------|----------|---------|\n",
        "| +∞ | 0 | 11111111 | 00000000000000000000000 | Positive infinity |\n",
        "| -∞ | 1 | 11111111 | 00000000000000000000000 | Negative infinity |\n",
        "| NaN | x | 11111111 | Non-zero | Not a Number (invalid operation) |\n",
        "\n",
        "These special values handle situations like division by zero or the square root of negative numbers.\n",
        "\n",
        "Floating-point representation can sometimes lead to surprising results in calculations. For example, 0.1 + 0.2 might not equal exactly 0.3 in floating-point arithmetic due to these rounding issues. These small inaccuracies usually aren't noticeable for everyday use, but they're important to understand for scientific or financial calculations.\n",
        "\n",
        "When we start programming, we'll explore how programming languages handle these floating-point numbers and how to work with their limitations."
      ],
      "metadata": {
        "id": "I_6bBTU7CKNe"
      }
    },
    {
      "cell_type": "markdown",
      "source": [
        "# Text in Computers: Understanding Character Encoding\n",
        "\n",
        "Text is something we understand naturally, but computers need a way to represent letters, numbers, and symbols using only binary digits. This is accomplished through character encoding systems, which assign unique binary codes to each character.\n",
        "\n",
        "* **Character encoding** maps text characters to numeric codes\n",
        "  * Each letter, number, or symbol gets a unique number\n",
        "  * These numbers are then stored in binary\n",
        "* **ASCII** (American Standard Code for Information Interchange):\n",
        "  * Original standard from the 1960s\n",
        "  * Uses 7 bits per character (128 possible characters)\n",
        "  * Values 0-31 are control characters (non-printable)\n",
        "  * Values 32-127 include letters, numbers, punctuation\n",
        "  * Example: 'A' is stored as the decimal number 65 (binary 1000001)\n",
        "* **Extended ASCII**:\n",
        "  * Uses 8 bits (1 byte) per character (256 possible characters)\n",
        "  * Added accented letters and special symbols for European languages\n",
        "  * Different versions existed for different languages\n",
        "\n",
        "## Hexadecimal Notation\n",
        "\n",
        "Before we discuss more complex encoding systems, let's introduce **hexadecimal** (or \"hex\") notation. Hexadecimal is a base-16 number system that uses 16 digits: 0-9 and A-F.\n",
        "\n",
        "* Hexadecimal is a convenient shorthand for binary values\n",
        "* Each hex digit represents exactly 4 binary digits (bits)\n",
        "* Makes long binary numbers much easier to read and write\n",
        "\n",
        "| Hexadecimal | Decimal | Binary |\n",
        "|-------------|---------|--------|\n",
        "| 0 | 0 | 0000 |\n",
        "| 1 | 1 | 0001 |\n",
        "| ... | ... | ... |\n",
        "| 9 | 9 | 1001 |\n",
        "| A | 10 | 1010 |\n",
        "| B | 11 | 1011 |\n",
        "| C | 12 | 1100 |\n",
        "| D | 13 | 1101 |\n",
        "| E | 14 | 1110 |\n",
        "| F | 15 | 1111 |\n",
        "\n",
        "For example, the binary number 10110111 can be split into 1011 0111, and converted to hexadecimal as B7. This is much shorter and easier to read!\n",
        "\n",
        "## Unicode and UTF-8\n",
        "\n",
        "* **Unicode** is a universal character encoding standard:\n",
        "  * Can represent over 140,000 characters from all world languages\n",
        "  * Each character has a unique code point, usually written as U+XXXX (hexadecimal)\n",
        "  * Unicode doesn't specify how to store these code points in binary\n",
        "* **UTF-8** is the most common way to encode Unicode:\n",
        "  * Uses a variable number of bytes depending on the character\n",
        "  * Efficient design saves memory while supporting all languages\n",
        "\n",
        "| Character | Unicode Code Point | Hexadecimal | UTF-8 Binary Representation | Bytes |\n",
        "|-----------|-------------------|-------------|----------------------------|-------|\n",
        "| A | U+0041 | 41 | 01000001 | 1 byte |\n",
        "| á | U+00E1 | E1 | 11000011 10100001 | 2 bytes |\n",
        "| € | U+20AC | 20AC | 11100010 10000010 10101100 | 3 bytes |\n",
        "| 😊 | U+1F60A | 1F60A | 11110000 10011111 10011000 10001010 | 4 bytes |\n",
        "\n",
        "Notice how UTF-8 uses multiple bytes for non-ASCII characters, with a special pattern of bits to indicate how many bytes are used for each character.\n",
        "\n",
        "Some key advantages of UTF-8:\n",
        "* ASCII characters (0-127) have the same encoding as in ASCII (single byte)\n",
        "* Characters from most European languages require 2 bytes\n",
        "* Characters from Asian languages typically require 3 bytes\n",
        "* Emoji and rare symbols use 4 bytes\n",
        "\n",
        "This ability to represent text from all languages and symbols is critical for modern computing. Early video games were limited by ASCII or similar character sets, which is why many older games had limited or no text in languages other than English. Modern games can include text in any language thanks to Unicode.\n",
        "\n",
        "When we begin programming, we'll see how programming languages handle text and character encoding, allowing us to work with text from any language or writing system."
      ],
      "metadata": {
        "id": "AQmff5wUCO83"
      }
    },
    {
      "cell_type": "code",
      "source": [
        "# @title\n",
        "%%html\n",
        "<svg viewBox=\"0 0 700 500\" xmlns=\"http://www.w3.org/2000/svg\">\n",
        "  <!-- Common text styles -->\n",
        "  <style>\n",
        "    .title { font: bold 24px Arial; text-anchor: middle; }\n",
        "    .section { font: bold 18px Arial; text-anchor: middle; }\n",
        "    .char { font: 18px Arial; text-anchor: middle; }\n",
        "    .small { font: 10px Arial; text-anchor: middle; }\n",
        "    .info { font: 16px Arial; text-anchor: middle; }\n",
        "    .byte { font: 14px Arial; text-anchor: middle; fill: #666666; }\n",
        "    .note { font: 12px Arial; text-anchor: middle; fill: #666666; }\n",
        "  </style>\n",
        "\n",
        "  <!-- Title -->\n",
        "  <text x=\"350\" y=\"40\" class=\"title\">Unicode and UTF-8 Character Encoding</text>\n",
        "\n",
        "  <!-- ASCII Section -->\n",
        "  <rect x=\"50\" y=\"70\" width=\"600\" height=\"100\" rx=\"10\" fill=\"#e6f7ff\" stroke=\"#0099cc\" stroke-width=\"2\"/>\n",
        "  <text x=\"350\" y=\"95\" class=\"section\">ASCII (7-bit)</text>\n",
        "\n",
        "  <!-- ASCII Characters -->\n",
        "  <rect x=\"100\" y=\"115\" width=\"40\" height=\"40\" rx=\"5\" fill=\"#ffffff\" stroke=\"#666666\" stroke-width=\"1\"/>\n",
        "  <text x=\"120\" y=\"140\" class=\"char\">A</text>\n",
        "  <text x=\"120\" y=\"160\" class=\"small\">65</text>\n",
        "\n",
        "  <rect x=\"150\" y=\"115\" width=\"40\" height=\"40\" rx=\"5\" fill=\"#ffffff\" stroke=\"#666666\" stroke-width=\"1\"/>\n",
        "  <text x=\"170\" y=\"140\" class=\"char\">B</text>\n",
        "  <text x=\"170\" y=\"160\" class=\"small\">66</text>\n",
        "\n",
        "  <rect x=\"200\" y=\"115\" width=\"40\" height=\"40\" rx=\"5\" fill=\"#ffffff\" stroke=\"#666666\" stroke-width=\"1\"/>\n",
        "  <text x=\"220\" y=\"140\" class=\"char\">1</text>\n",
        "  <text x=\"220\" y=\"160\" class=\"small\">49</text>\n",
        "\n",
        "  <rect x=\"250\" y=\"115\" width=\"40\" height=\"40\" rx=\"5\" fill=\"#ffffff\" stroke=\"#666666\" stroke-width=\"1\"/>\n",
        "  <text x=\"270\" y=\"140\" class=\"char\">!</text>\n",
        "  <text x=\"270\" y=\"160\" class=\"small\">33</text>\n",
        "\n",
        "  <rect x=\"300\" y=\"115\" width=\"40\" height=\"40\" rx=\"5\" fill=\"#ffffff\" stroke=\"#666666\" stroke-width=\"1\"/>\n",
        "  <text x=\"320\" y=\"140\" class=\"char\">a</text>\n",
        "  <text x=\"320\" y=\"160\" class=\"small\">97</text>\n",
        "\n",
        "  <rect x=\"350\" y=\"115\" width=\"40\" height=\"40\" rx=\"5\" fill=\"#ffffff\" stroke=\"#666666\" stroke-width=\"1\"/>\n",
        "  <text x=\"370\" y=\"140\" class=\"char\">z</text>\n",
        "  <text x=\"370\" y=\"160\" class=\"small\">122</text>\n",
        "\n",
        "  <rect x=\"400\" y=\"115\" width=\"40\" height=\"40\" rx=\"5\" fill=\"#ffffff\" stroke=\"#666666\" stroke-width=\"1\"/>\n",
        "  <text x=\"420\" y=\"140\" class=\"char\">+</text>\n",
        "  <text x=\"420\" y=\"160\" class=\"small\">43</text>\n",
        "\n",
        "  <text x=\"470\" y=\"140\" class=\"char\">...</text>\n",
        "  <text x=\"560\" y=\"140\" class=\"info\">(128 characters)</text>\n",
        "\n",
        "  <!-- Unicode Section -->\n",
        "  <rect x=\"50\" y=\"190\" width=\"600\" height=\"280\" rx=\"10\" fill=\"#fff0e6\" stroke=\"#ff6600\" stroke-width=\"2\"/>\n",
        "  <text x=\"350\" y=\"215\" class=\"section\">Unicode (UTF-8 Encoding)</text>\n",
        "\n",
        "  <!-- 1-byte UTF-8 -->\n",
        "  <rect x=\"100\" y=\"240\" width=\"500\" height=\"50\" rx=\"5\" fill=\"#ffffff\" stroke=\"#666666\" stroke-width=\"1\"/>\n",
        "  <text x=\"350\" y=\"265\" class=\"info\" font-weight=\"bold\">1-byte characters (ASCII compatible)</text>\n",
        "  <text x=\"350\" y=\"285\" class=\"info\">A, B, C, 1, 2, 3, +, -, etc.</text>\n",
        "\n",
        "  <!-- 2-byte UTF-8 -->\n",
        "  <rect x=\"100\" y=\"300\" width=\"500\" height=\"50\" rx=\"5\" fill=\"#ffffcc\" stroke=\"#666666\" stroke-width=\"1\"/>\n",
        "  <text x=\"350\" y=\"325\" class=\"info\" font-weight=\"bold\">2-byte characters (Latin, Greek, Cyrillic, etc.)</text>\n",
        "  <text x=\"350\" y=\"345\" class=\"info\">é, ñ, Д, Ω, ß, £, ¥, etc.</text>\n",
        "\n",
        "  <!-- 3-byte UTF-8 -->\n",
        "  <rect x=\"100\" y=\"360\" width=\"500\" height=\"50\" rx=\"5\" fill=\"#e6ffe6\" stroke=\"#666666\" stroke-width=\"1\"/>\n",
        "  <text x=\"350\" y=\"385\" class=\"info\" font-weight=\"bold\">3-byte characters (Chinese, Japanese, Korean, etc.)</text>\n",
        "  <text x=\"350\" y=\"405\" class=\"info\">漢, 字, こ, に, 안, 녕, €, ∞, etc.</text>\n",
        "\n",
        "  <!-- 4-byte UTF-8 -->\n",
        "  <rect x=\"100\" y=\"420\" width=\"500\" height=\"50\" rx=\"5\" fill=\"#e6e6ff\" stroke=\"#666666\" stroke-width=\"1\"/>\n",
        "  <text x=\"350\" y=\"445\" class=\"info\" font-weight=\"bold\">4-byte characters (Emoji, rare symbols, etc.)</text>\n",
        "  <text x=\"350\" y=\"465\" class=\"info\">😊, 🚀, 🎮, 🐱, 🌍, etc.</text>\n",
        "\n",
        "  <!-- Binary examples -->\n",
        "  <text x=\"70\" y=\"265\" class=\"byte\">0xxxxxxx</text>\n",
        "  <text x=\"70\" y=\"325\" class=\"byte\">110xxxxx 10xxxxxx</text>\n",
        "  <text x=\"70\" y=\"385\" class=\"byte\">1110xxxx 10xxxxxx 10xxxxxx</text>\n",
        "  <text x=\"70\" y=\"445\" class=\"byte\">11110xxx 10xxxxxx 10xxxxxx 10xxxxxx</text>\n",
        "\n",
        "  <!-- Note -->\n",
        "  <text x=\"350\" y=\"490\" class=\"note\">UTF-8 uses a variable number of bytes per character, saving space while supporting all languages</text>\n",
        "</svg>"
      ],
      "metadata": {
        "colab": {
          "base_uri": "https://localhost:8080/",
          "height": 1000
        },
        "cellView": "form",
        "id": "ucIsPDDdHAlf",
        "outputId": "5e650b4d-f9e0-4a19-d0c7-5ccc0042a71e"
      },
      "execution_count": null,
      "outputs": [
        {
          "output_type": "display_data",
          "data": {
            "text/plain": [
              "<IPython.core.display.HTML object>"
            ],
            "text/html": [
              "<svg viewBox=\"0 0 700 500\" xmlns=\"http://www.w3.org/2000/svg\">\n",
              "  <!-- Common text styles -->\n",
              "  <style>\n",
              "    .title { font: bold 24px Arial; text-anchor: middle; }\n",
              "    .section { font: bold 18px Arial; text-anchor: middle; }\n",
              "    .char { font: 18px Arial; text-anchor: middle; }\n",
              "    .small { font: 10px Arial; text-anchor: middle; }\n",
              "    .info { font: 16px Arial; text-anchor: middle; }\n",
              "    .byte { font: 14px Arial; text-anchor: middle; fill: #666666; }\n",
              "    .note { font: 12px Arial; text-anchor: middle; fill: #666666; }\n",
              "  </style>\n",
              "  \n",
              "  <!-- Title -->\n",
              "  <text x=\"350\" y=\"40\" class=\"title\">Unicode and UTF-8 Character Encoding</text>\n",
              "  \n",
              "  <!-- ASCII Section -->\n",
              "  <rect x=\"50\" y=\"70\" width=\"600\" height=\"100\" rx=\"10\" fill=\"#e6f7ff\" stroke=\"#0099cc\" stroke-width=\"2\"/>\n",
              "  <text x=\"350\" y=\"95\" class=\"section\">ASCII (7-bit)</text>\n",
              "  \n",
              "  <!-- ASCII Characters -->\n",
              "  <rect x=\"100\" y=\"115\" width=\"40\" height=\"40\" rx=\"5\" fill=\"#ffffff\" stroke=\"#666666\" stroke-width=\"1\"/>\n",
              "  <text x=\"120\" y=\"140\" class=\"char\">A</text>\n",
              "  <text x=\"120\" y=\"160\" class=\"small\">65</text>\n",
              "  \n",
              "  <rect x=\"150\" y=\"115\" width=\"40\" height=\"40\" rx=\"5\" fill=\"#ffffff\" stroke=\"#666666\" stroke-width=\"1\"/>\n",
              "  <text x=\"170\" y=\"140\" class=\"char\">B</text>\n",
              "  <text x=\"170\" y=\"160\" class=\"small\">66</text>\n",
              "  \n",
              "  <rect x=\"200\" y=\"115\" width=\"40\" height=\"40\" rx=\"5\" fill=\"#ffffff\" stroke=\"#666666\" stroke-width=\"1\"/>\n",
              "  <text x=\"220\" y=\"140\" class=\"char\">1</text>\n",
              "  <text x=\"220\" y=\"160\" class=\"small\">49</text>\n",
              "  \n",
              "  <rect x=\"250\" y=\"115\" width=\"40\" height=\"40\" rx=\"5\" fill=\"#ffffff\" stroke=\"#666666\" stroke-width=\"1\"/>\n",
              "  <text x=\"270\" y=\"140\" class=\"char\">!</text>\n",
              "  <text x=\"270\" y=\"160\" class=\"small\">33</text>\n",
              "  \n",
              "  <rect x=\"300\" y=\"115\" width=\"40\" height=\"40\" rx=\"5\" fill=\"#ffffff\" stroke=\"#666666\" stroke-width=\"1\"/>\n",
              "  <text x=\"320\" y=\"140\" class=\"char\">a</text>\n",
              "  <text x=\"320\" y=\"160\" class=\"small\">97</text>\n",
              "  \n",
              "  <rect x=\"350\" y=\"115\" width=\"40\" height=\"40\" rx=\"5\" fill=\"#ffffff\" stroke=\"#666666\" stroke-width=\"1\"/>\n",
              "  <text x=\"370\" y=\"140\" class=\"char\">z</text>\n",
              "  <text x=\"370\" y=\"160\" class=\"small\">122</text>\n",
              "  \n",
              "  <rect x=\"400\" y=\"115\" width=\"40\" height=\"40\" rx=\"5\" fill=\"#ffffff\" stroke=\"#666666\" stroke-width=\"1\"/>\n",
              "  <text x=\"420\" y=\"140\" class=\"char\">+</text>\n",
              "  <text x=\"420\" y=\"160\" class=\"small\">43</text>\n",
              "  \n",
              "  <text x=\"470\" y=\"140\" class=\"char\">...</text>\n",
              "  <text x=\"560\" y=\"140\" class=\"info\">(128 characters)</text>\n",
              "  \n",
              "  <!-- Unicode Section -->\n",
              "  <rect x=\"50\" y=\"190\" width=\"600\" height=\"280\" rx=\"10\" fill=\"#fff0e6\" stroke=\"#ff6600\" stroke-width=\"2\"/>\n",
              "  <text x=\"350\" y=\"215\" class=\"section\">Unicode (UTF-8 Encoding)</text>\n",
              "  \n",
              "  <!-- 1-byte UTF-8 -->\n",
              "  <rect x=\"100\" y=\"240\" width=\"500\" height=\"50\" rx=\"5\" fill=\"#ffffff\" stroke=\"#666666\" stroke-width=\"1\"/>\n",
              "  <text x=\"350\" y=\"265\" class=\"info\" font-weight=\"bold\">1-byte characters (ASCII compatible)</text>\n",
              "  <text x=\"350\" y=\"285\" class=\"info\">A, B, C, 1, 2, 3, +, -, etc.</text>\n",
              "  \n",
              "  <!-- 2-byte UTF-8 -->\n",
              "  <rect x=\"100\" y=\"300\" width=\"500\" height=\"50\" rx=\"5\" fill=\"#ffffcc\" stroke=\"#666666\" stroke-width=\"1\"/>\n",
              "  <text x=\"350\" y=\"325\" class=\"info\" font-weight=\"bold\">2-byte characters (Latin, Greek, Cyrillic, etc.)</text>\n",
              "  <text x=\"350\" y=\"345\" class=\"info\">é, ñ, Д, Ω, ß, £, ¥, etc.</text>\n",
              "  \n",
              "  <!-- 3-byte UTF-8 -->\n",
              "  <rect x=\"100\" y=\"360\" width=\"500\" height=\"50\" rx=\"5\" fill=\"#e6ffe6\" stroke=\"#666666\" stroke-width=\"1\"/>\n",
              "  <text x=\"350\" y=\"385\" class=\"info\" font-weight=\"bold\">3-byte characters (Chinese, Japanese, Korean, etc.)</text>\n",
              "  <text x=\"350\" y=\"405\" class=\"info\">漢, 字, こ, に, 안, 녕, €, ∞, etc.</text>\n",
              "  \n",
              "  <!-- 4-byte UTF-8 -->\n",
              "  <rect x=\"100\" y=\"420\" width=\"500\" height=\"50\" rx=\"5\" fill=\"#e6e6ff\" stroke=\"#666666\" stroke-width=\"1\"/>\n",
              "  <text x=\"350\" y=\"445\" class=\"info\" font-weight=\"bold\">4-byte characters (Emoji, rare symbols, etc.)</text>\n",
              "  <text x=\"350\" y=\"465\" class=\"info\">😊, 🚀, 🎮, 🐱, 🌍, etc.</text>\n",
              "  \n",
              "  <!-- Binary examples -->\n",
              "  <text x=\"70\" y=\"265\" class=\"byte\">0xxxxxxx</text>\n",
              "  <text x=\"70\" y=\"325\" class=\"byte\">110xxxxx 10xxxxxx</text>\n",
              "  <text x=\"70\" y=\"385\" class=\"byte\">1110xxxx 10xxxxxx 10xxxxxx</text>\n",
              "  <text x=\"70\" y=\"445\" class=\"byte\">11110xxx 10xxxxxx 10xxxxxx 10xxxxxx</text>\n",
              "  \n",
              "  <!-- Note -->\n",
              "  <text x=\"350\" y=\"490\" class=\"note\">UTF-8 uses a variable number of bytes per character, saving space while supporting all languages</text>\n",
              "</svg>\n"
            ]
          },
          "metadata": {}
        }
      ]
    },
    {
      "cell_type": "markdown",
      "source": [
        "# From Source Code to Program: The Journey\n",
        "\n",
        "When you write a computer program, you're creating human-readable instructions that need to be converted into a form the computer can execute. This conversion process involves several steps that transform your code into machine instructions.\n",
        "\n",
        "* **Source code** is what programmers write\n",
        "  * Written in human-readable programming languages (like Python)\n",
        "  * Stored as plain text files\n",
        "* The journey from source code to execution:\n",
        "  * Programmers write source code in a text editor or IDE\n",
        "  * The code must be translated for the computer to understand it\n",
        "  * This translation can happen in different ways, depending on the language\n",
        "  * Once translated, the computer executes the instructions\n",
        "\n",
        "**Source code** is the human-readable text of a computer program written in a programming language.\n",
        "\n",
        "Different programming languages use different approaches to this translation process. Some languages are compiled, some are interpreted, and some use a hybrid approach. Python, which we'll be learning, is primarily an interpreted language - this means the translation happens \"on the fly\" when you run your program.\n",
        "\n",
        "Understanding this journey helps explain why different programming languages exist and why they have different characteristics. It also helps us understand potential errors that can happen during the translation process."
      ],
      "metadata": {
        "id": "FWuuISvECSAU"
      }
    },
    {
      "cell_type": "markdown",
      "source": [
        "# Compilers vs. Interpreters: Different Approaches\n",
        "\n",
        "Programming languages use one of two main approaches to translate source code into machine instructions: compilation or interpretation. Each approach has its own advantages and is suited to different types of programming tasks.\n",
        "\n",
        "* **Compiler** translates entire programs before execution\n",
        "  * Reads the entire source code and converts it to machine code\n",
        "  * Creates a standalone executable file\n",
        "  * Languages: C, C++, Rust, Java (partially)\n",
        "  * Advantages: faster execution, catches errors before running\n",
        "  * Disadvantages: additional compilation step, less portable\n",
        "* **Interpreter** translates code line-by-line during execution\n",
        "  * Reads and executes the program one statement at a time\n",
        "  * No separate executable is created\n",
        "  * Languages: Python, JavaScript, Ruby\n",
        "  * Advantages: immediate feedback, easier debugging, portability\n",
        "  * Disadvantages: generally slower execution\n",
        "\n",
        "**Bytecode** is an intermediate representation of code that's more compact than source code but not yet machine code. Many modern languages use this approach.\n",
        "\n",
        "| Aspect | Compiled Languages | Interpreted Languages |\n",
        "|--------|-------------------|----------------------|\n",
        "| Translation Time | Before execution | During execution |\n",
        "| Execution Speed | Generally faster | Generally slower |\n",
        "| Error Detection | Many errors caught before running | Errors found during execution |\n",
        "| Development Cycle | Write, compile, test, repeat | Write and test immediately |\n",
        "| Distribution | Executable files | Source code files |\n",
        "\n",
        "Python uses a hybrid approach: it first compiles your code to bytecode and then interprets that bytecode. This gives you some of the benefits of both approaches. As beginners, you'll mostly interact with Python as an interpreted language, which means you can run your code and see results immediately."
      ],
      "metadata": {
        "id": "x__poLO3CUyq"
      }
    },
    {
      "cell_type": "markdown",
      "source": [
        "# Python: Why It's Great for Beginners\n",
        "\n",
        "Python has become one of the most popular languages for teaching programming, and for good reason. Its design philosophy emphasizes readability and simplicity, making it an excellent first language for new programmers.\n",
        "\n",
        "* **Python** is a high-level, general-purpose programming language\n",
        "  * Created by Guido van Rossum, first released in 1991\n",
        "  * Designed to be easy to read and write\n",
        "* Key advantages for beginners:\n",
        "  * Clean, readable syntax with minimal punctuation\n",
        "  * Uses indentation to define code blocks (instead of braces or keywords)\n",
        "  * \"Batteries included\" philosophy with a rich standard library\n",
        "  * Interactive mode for immediate experimentation\n",
        "  * Powerful but straightforward data structures\n",
        "  * Large, supportive community and extensive documentation\n",
        "* Real-world applications:\n",
        "  * Web development\n",
        "  * Data analysis and visualization\n",
        "  * Artificial intelligence and machine learning\n",
        "  * Scientific computing\n",
        "  * Automation and scripting\n",
        "\n",
        "**Syntax** refers to the set of rules that define how programs written in a language must be structured.\n",
        "\n",
        "Python's name isn't related to snakes - it was named after the British comedy group Monty Python! This reflects the language's philosophy that programming can be fun and accessible.\n",
        "\n",
        "Python is both beginner-friendly and powerful enough for professional use. Many tech companies like Google, Netflix, and NASA use Python extensively. By learning Python, you're gaining a skill that can grow with you from your first \"Hello, World!\" program to advanced applications."
      ],
      "metadata": {
        "id": "hMGLWtOMCX_-"
      }
    },
    {
      "cell_type": "code",
      "source": [
        "# @title\n",
        "%%html\n",
        "<svg viewBox=\"0 0 800 450\" xmlns=\"http://www.w3.org/2000/svg\">\n",
        "  <!-- Common text styles -->\n",
        "  <style>\n",
        "    .title { font: bold 24px Arial; text-anchor: middle; }\n",
        "    .box-title { font: bold 18px Arial; text-anchor: middle; }\n",
        "    .box-text { font: 14px Arial; text-anchor: middle; }\n",
        "    .code { font: 14px monospace; text-anchor: middle; }\n",
        "    .note { font: 14px Arial; text-anchor: middle; fill: #666666; }\n",
        "    .small { font: 12px Arial; text-anchor: middle; fill: #666666; }\n",
        "  </style>\n",
        "\n",
        "  <!-- Title -->\n",
        "  <text x=\"400\" y=\"30\" class=\"title\">From Source Code to Execution</text>\n",
        "\n",
        "  <!-- Source Code Box -->\n",
        "  <rect x=\"50\" y=\"80\" width=\"180\" height=\"120\" rx=\"10\" fill=\"#e6f7ff\" stroke=\"#0099cc\" stroke-width=\"2\"/>\n",
        "  <text x=\"140\" y=\"110\" class=\"box-title\">Source Code</text>\n",
        "  <text x=\"140\" y=\"140\" class=\"code\">def hello():</text>\n",
        "  <text x=\"140\" y=\"160\" class=\"code\">    print(\"Hello!\")</text>\n",
        "  <text x=\"140\" y=\"180\" class=\"code\">hello()</text>\n",
        "\n",
        "  <!-- Compilation Path (top) -->\n",
        "  <rect x=\"310\" y=\"80\" width=\"180\" height=\"120\" rx=\"10\" fill=\"#ffe6e6\" stroke=\"#cc0000\" stroke-width=\"2\"/>\n",
        "  <text x=\"400\" y=\"110\" class=\"box-title\">Compiler</text>\n",
        "  <text x=\"400\" y=\"140\" class=\"box-text\">Translates all source</text>\n",
        "  <text x=\"400\" y=\"160\" class=\"box-text\">code at once into</text>\n",
        "  <text x=\"400\" y=\"180\" class=\"box-text\">machine code</text>\n",
        "\n",
        "  <rect x=\"570\" y=\"80\" width=\"180\" height=\"120\" rx=\"10\" fill=\"#f9e6ff\" stroke=\"#9900cc\" stroke-width=\"2\"/>\n",
        "  <text x=\"660\" y=\"110\" class=\"box-title\">Executable</text>\n",
        "  <text x=\"660\" y=\"140\" class=\"box-text\">Machine code ready</text>\n",
        "  <text x=\"660\" y=\"160\" class=\"box-text\">to run directly on</text>\n",
        "  <text x=\"660\" y=\"180\" class=\"box-text\">computer hardware</text>\n",
        "\n",
        "  <!-- Interpretation Path (bottom) -->\n",
        "  <rect x=\"310\" y=\"280\" width=\"180\" height=\"120\" rx=\"10\" fill=\"#e6ffe6\" stroke=\"#00cc66\" stroke-width=\"2\"/>\n",
        "  <text x=\"400\" y=\"310\" class=\"box-title\">Interpreter</text>\n",
        "  <text x=\"400\" y=\"340\" class=\"box-text\">Translates and executes</text>\n",
        "  <text x=\"400\" y=\"360\" class=\"box-text\">source code line by line</text>\n",
        "  <text x=\"400\" y=\"380\" class=\"box-text\">as the program runs</text>\n",
        "\n",
        "  <rect x=\"570\" y=\"280\" width=\"180\" height=\"120\" rx=\"10\" fill=\"#fff2e6\" stroke=\"#ff9933\" stroke-width=\"2\"/>\n",
        "  <text x=\"660\" y=\"310\" class=\"box-title\">Output</text>\n",
        "  <text x=\"660\" y=\"350\" class=\"box-title\">Hello!</text>\n",
        "\n",
        "  <!-- Python's Hybrid Path (middle) -->\n",
        "  <rect x=\"310\" y=\"220\" width=\"180\" height=\"40\" rx=\"5\" fill=\"#f0f0f0\" stroke=\"#666666\" stroke-width=\"2\"/>\n",
        "  <text x=\"400\" y=\"245\" class=\"box-text\" font-weight=\"bold\">Python Bytecode</text>\n",
        "\n",
        "  <!-- Arrows -->\n",
        "  <!-- Compiler Path -->\n",
        "  <path d=\"M230 140 L300 140\" stroke=\"#cc0000\" stroke-width=\"3\" fill=\"none\"/>\n",
        "  <polygon points=\"300,140 290,135 290,145\" fill=\"#cc0000\"/>\n",
        "\n",
        "  <path d=\"M490 140 L560 140\" stroke=\"#cc0000\" stroke-width=\"3\" fill=\"none\"/>\n",
        "  <polygon points=\"560,140 550,135 550,145\" fill=\"#cc0000\"/>\n",
        "\n",
        "  <!-- Interpreter Path -->\n",
        "  <path d=\"M230 140 L260 140 L260 340 L300 340\" stroke=\"#00cc66\" stroke-width=\"3\" fill=\"none\"/>\n",
        "  <polygon points=\"300,340 290,335 290,345\" fill=\"#00cc66\"/>\n",
        "\n",
        "  <path d=\"M490 340 L560 340\" stroke=\"#00cc66\" stroke-width=\"3\" fill=\"none\"/>\n",
        "  <polygon points=\"560,340 550,335 550,345\" fill=\"#00cc66\"/>\n",
        "\n",
        "  <!-- Python Path -->\n",
        "  <path d=\"M230 140 L280 140 L280 240 L300 240\" stroke=\"#666666\" stroke-width=\"3\" fill=\"none\" stroke-dasharray=\"5,5\"/>\n",
        "  <polygon points=\"300,240 290,235 290,245\" fill=\"#666666\"/>\n",
        "\n",
        "  <path d=\"M490 240 L520 240 L520 340 L560 340\" stroke=\"#666666\" stroke-width=\"3\" fill=\"none\" stroke-dasharray=\"5,5\"/>\n",
        "\n",
        "  <!-- Labels -->\n",
        "  <text x=\"140\" y=\"220\" class=\"box-text\" font-weight=\"bold\">Human-readable</text>\n",
        "\n",
        "  <!-- Language notes - positioned to avoid overlap -->\n",
        "  <text x=\"400\" y=\"60\" class=\"small\">C, C++, Rust</text>\n",
        "  <text x=\"400\" y=\"420\" class=\"small\">JavaScript, Ruby</text>\n",
        "  <text x=\"180\" y=\"420\" class=\"small\">Python uses a hybrid approach</text>\n",
        "</svg>"
      ],
      "metadata": {
        "cellView": "form",
        "colab": {
          "base_uri": "https://localhost:8080/",
          "height": 817
        },
        "id": "8aAv-xkxH5lf",
        "outputId": "45a5cb7f-b068-4b2d-f514-8751604b0781"
      },
      "execution_count": null,
      "outputs": [
        {
          "output_type": "display_data",
          "data": {
            "text/plain": [
              "<IPython.core.display.HTML object>"
            ],
            "text/html": [
              "<svg viewBox=\"0 0 800 450\" xmlns=\"http://www.w3.org/2000/svg\">\n",
              "  <!-- Common text styles -->\n",
              "  <style>\n",
              "    .title { font: bold 24px Arial; text-anchor: middle; }\n",
              "    .box-title { font: bold 18px Arial; text-anchor: middle; }\n",
              "    .box-text { font: 14px Arial; text-anchor: middle; }\n",
              "    .code { font: 14px monospace; text-anchor: middle; }\n",
              "    .note { font: 14px Arial; text-anchor: middle; fill: #666666; }\n",
              "    .small { font: 12px Arial; text-anchor: middle; fill: #666666; }\n",
              "  </style>\n",
              "  \n",
              "  <!-- Title -->\n",
              "  <text x=\"400\" y=\"30\" class=\"title\">From Source Code to Execution</text>\n",
              "  \n",
              "  <!-- Source Code Box -->\n",
              "  <rect x=\"50\" y=\"80\" width=\"180\" height=\"120\" rx=\"10\" fill=\"#e6f7ff\" stroke=\"#0099cc\" stroke-width=\"2\"/>\n",
              "  <text x=\"140\" y=\"110\" class=\"box-title\">Source Code</text>\n",
              "  <text x=\"140\" y=\"140\" class=\"code\">def hello():</text>\n",
              "  <text x=\"140\" y=\"160\" class=\"code\">    print(\"Hello!\")</text>\n",
              "  <text x=\"140\" y=\"180\" class=\"code\">hello()</text>\n",
              "  \n",
              "  <!-- Compilation Path (top) -->\n",
              "  <rect x=\"310\" y=\"80\" width=\"180\" height=\"120\" rx=\"10\" fill=\"#ffe6e6\" stroke=\"#cc0000\" stroke-width=\"2\"/>\n",
              "  <text x=\"400\" y=\"110\" class=\"box-title\">Compiler</text>\n",
              "  <text x=\"400\" y=\"140\" class=\"box-text\">Translates all source</text>\n",
              "  <text x=\"400\" y=\"160\" class=\"box-text\">code at once into</text>\n",
              "  <text x=\"400\" y=\"180\" class=\"box-text\">machine code</text>\n",
              "  \n",
              "  <rect x=\"570\" y=\"80\" width=\"180\" height=\"120\" rx=\"10\" fill=\"#f9e6ff\" stroke=\"#9900cc\" stroke-width=\"2\"/>\n",
              "  <text x=\"660\" y=\"110\" class=\"box-title\">Executable</text>\n",
              "  <text x=\"660\" y=\"140\" class=\"box-text\">Machine code ready</text>\n",
              "  <text x=\"660\" y=\"160\" class=\"box-text\">to run directly on</text>\n",
              "  <text x=\"660\" y=\"180\" class=\"box-text\">computer hardware</text>\n",
              "  \n",
              "  <!-- Interpretation Path (bottom) -->\n",
              "  <rect x=\"310\" y=\"280\" width=\"180\" height=\"120\" rx=\"10\" fill=\"#e6ffe6\" stroke=\"#00cc66\" stroke-width=\"2\"/>\n",
              "  <text x=\"400\" y=\"310\" class=\"box-title\">Interpreter</text>\n",
              "  <text x=\"400\" y=\"340\" class=\"box-text\">Translates and executes</text>\n",
              "  <text x=\"400\" y=\"360\" class=\"box-text\">source code line by line</text>\n",
              "  <text x=\"400\" y=\"380\" class=\"box-text\">as the program runs</text>\n",
              "  \n",
              "  <rect x=\"570\" y=\"280\" width=\"180\" height=\"120\" rx=\"10\" fill=\"#fff2e6\" stroke=\"#ff9933\" stroke-width=\"2\"/>\n",
              "  <text x=\"660\" y=\"310\" class=\"box-title\">Output</text>\n",
              "  <text x=\"660\" y=\"350\" class=\"box-title\">Hello!</text>\n",
              "  \n",
              "  <!-- Python's Hybrid Path (middle) -->\n",
              "  <rect x=\"310\" y=\"220\" width=\"180\" height=\"40\" rx=\"5\" fill=\"#f0f0f0\" stroke=\"#666666\" stroke-width=\"2\"/>\n",
              "  <text x=\"400\" y=\"245\" class=\"box-text\" font-weight=\"bold\">Python Bytecode</text>\n",
              "  \n",
              "  <!-- Arrows -->\n",
              "  <!-- Compiler Path -->\n",
              "  <path d=\"M230 140 L300 140\" stroke=\"#cc0000\" stroke-width=\"3\" fill=\"none\"/>\n",
              "  <polygon points=\"300,140 290,135 290,145\" fill=\"#cc0000\"/>\n",
              "  \n",
              "  <path d=\"M490 140 L560 140\" stroke=\"#cc0000\" stroke-width=\"3\" fill=\"none\"/>\n",
              "  <polygon points=\"560,140 550,135 550,145\" fill=\"#cc0000\"/>\n",
              "  \n",
              "  <!-- Interpreter Path -->\n",
              "  <path d=\"M230 140 L260 140 L260 340 L300 340\" stroke=\"#00cc66\" stroke-width=\"3\" fill=\"none\"/>\n",
              "  <polygon points=\"300,340 290,335 290,345\" fill=\"#00cc66\"/>\n",
              "  \n",
              "  <path d=\"M490 340 L560 340\" stroke=\"#00cc66\" stroke-width=\"3\" fill=\"none\"/>\n",
              "  <polygon points=\"560,340 550,335 550,345\" fill=\"#00cc66\"/>\n",
              "  \n",
              "  <!-- Python Path -->\n",
              "  <path d=\"M230 140 L280 140 L280 240 L300 240\" stroke=\"#666666\" stroke-width=\"3\" fill=\"none\" stroke-dasharray=\"5,5\"/>\n",
              "  <polygon points=\"300,240 290,235 290,245\" fill=\"#666666\"/>\n",
              "  \n",
              "  <path d=\"M490 240 L520 240 L520 340 L560 340\" stroke=\"#666666\" stroke-width=\"3\" fill=\"none\" stroke-dasharray=\"5,5\"/>\n",
              "  \n",
              "  <!-- Labels -->\n",
              "  <text x=\"140\" y=\"220\" class=\"box-text\" font-weight=\"bold\">Human-readable</text>\n",
              "  \n",
              "  <!-- Language notes - positioned to avoid overlap -->\n",
              "  <text x=\"400\" y=\"60\" class=\"small\">C, C++, Rust</text>\n",
              "  <text x=\"400\" y=\"420\" class=\"small\">JavaScript, Ruby</text>\n",
              "  <text x=\"180\" y=\"420\" class=\"small\">Python uses a hybrid approach</text>\n",
              "</svg>\n"
            ]
          },
          "metadata": {}
        }
      ]
    },
    {
      "cell_type": "markdown",
      "source": [
        "# Your First Python Program: Hello, World!\n",
        "\n",
        "The tradition of starting to learn a programming language with a \"Hello, World!\" program dates back to the 1970s. This simple program outputs the text \"Hello, World!\" and is a perfect way to verify that your Python environment is working correctly.\n",
        "\n",
        "The simplest Python program is just one line (in Colab, you just need to \"run\" this cell)."
      ],
      "metadata": {
        "id": "8AoG2IKICYhd"
      }
    },
    {
      "cell_type": "code",
      "source": [
        "print(\"Hello, World!\")"
      ],
      "metadata": {
        "colab": {
          "base_uri": "https://localhost:8080/"
        },
        "id": "SuZ1-XlZCjj5",
        "outputId": "5a28df45-2dc4-4684-cb14-1e176e37211e"
      },
      "execution_count": null,
      "outputs": [
        {
          "output_type": "stream",
          "name": "stdout",
          "text": [
            "Hello, World!\n"
          ]
        }
      ]
    },
    {
      "cell_type": "markdown",
      "source": [
        "Breaking down this program:\n",
        "* `print()` is a **function** that displays output\n",
        "* The parentheses `()` contain what we want to print\n",
        "* The text is enclosed in quotes `\"\"` to indicate it's a string\n",
        "* The program executes from top to bottom (though we only have one line here)\n",
        "\n",
        "Let's take a look at another example:"
      ],
      "metadata": {
        "id": "dqOeTBONC1Mu"
      }
    },
    {
      "cell_type": "code",
      "source": [
        "# My first Python program - A simple game greeting\n",
        "print(\"Welcome, Player One!\")\n",
        "print(\"Press START to begin your adventure\")\n",
        "\n",
        "# We can also display multiple pieces of information\n",
        "print(\"Player: Mario\")\n",
        "print(\"Lives: 3\")\n",
        "\n",
        "# Or combine them with the plus operator\n",
        "print(\"Power-ups collected: \" + \"5\")"
      ],
      "metadata": {
        "colab": {
          "base_uri": "https://localhost:8080/"
        },
        "id": "s981YBpBC__X",
        "outputId": "3f23d7f4-fb8b-4f79-8bd4-41b26765f8a8"
      },
      "execution_count": null,
      "outputs": [
        {
          "output_type": "stream",
          "name": "stdout",
          "text": [
            "Welcome, Player One!\n",
            "Press START to begin your adventure\n",
            "Player: Mario\n",
            "Lives: 3\n",
            "Power-ups collected: 5\n"
          ]
        }
      ]
    },
    {
      "cell_type": "markdown",
      "source": [
        "This program demonstrates several important concepts:\n",
        "\n",
        "1. Python code is readable - it looks almost like English\n",
        "2. We don't need to import any libraries for basic functionality\n",
        "3. We can use the print function multiple times to display different messages\n",
        "4. We can combine text using the plus sign (+)\n",
        "\n",
        "Try running this program! You should see the welcome message displayed in your console. Congratulations - you've just written and executed your first Python program! Throughout this course, we'll build on this foundation to create increasingly sophisticated programs."
      ],
      "metadata": {
        "id": "mtESda1FDFCi"
      }
    },
    {
      "cell_type": "markdown",
      "source": [
        "# Variables: Storing Information in Python\n",
        "\n",
        "In programming, we often need to store information for later use. Variables allow us to give names to pieces of data so we can refer to them throughout our program. Think of variables as labeled containers that hold values.\n",
        "\n",
        "* **Variables** are named storage locations that hold data\n",
        "  * They allow us to store and manipulate information\n",
        "  * We can change their values during program execution\n",
        "  * Python creates variables when you first assign a value\n",
        "* Variables can store different types of data:\n",
        "  * Numbers (integers or floating-point)\n",
        "  * Text (strings)\n",
        "  * True/False values (booleans)\n",
        "  * And many other types we'll learn later\n",
        "* In Python, variable names:\n",
        "  * Can contain letters, numbers, and underscores\n",
        "  * Must start with a letter or underscore\n",
        "  * Cannot be Python reserved words (like `print` or `if`)\n",
        "  * Are case-sensitive (`name` and `Name` are different variables)\n",
        "\n",
        "**Data type** refers to the kind of data a variable can hold, which determines what operations can be performed on it.\n",
        "\n",
        "| Data Type | Example | Description |\n",
        "|-----------|---------|-------------|\n",
        "| Integer (int) | `42` | Whole numbers without decimals |\n",
        "| Floating-point (float) | `3.14` | Numbers with decimal points |\n",
        "| String (str) | `\"Hello\"` | Text enclosed in quotes |\n",
        "| Boolean (bool) | `True` | Logical values (True or False) |\n",
        "\n",
        "Unlike some other programming languages, Python determines a variable's type automatically based on the value you assign to it. This feature, called **dynamic typing**, makes Python more flexible and easier for beginners."
      ],
      "metadata": {
        "id": "RLqdEfkODKmw"
      }
    },
    {
      "cell_type": "markdown",
      "source": [
        "# Assignment Statements: Giving Variables Values\n",
        "\n",
        "To create variables and give them values, we use assignment statements. These statements tell Python to create a variable with a specific name and store a value in it.\n",
        "\n",
        "* **Assignment statements** follow this pattern:\n",
        "  ```python\n",
        "  variable_name = value\n",
        "  ```\n",
        "* The equals sign `=` is the **assignment operator**\n",
        "  * It doesn't mean \"equals\" like in mathematics\n",
        "  * It means \"store the value on the right into the variable on the left\"\n",
        "* Examples of assignment statements:\n",
        "  ```python\n",
        "  # Game-related variables\n",
        "  player_name = \"Link\"\n",
        "  hearts = 5\n",
        "  has_master_sword = True\n",
        "  enemy_health = 50.5\n",
        "  ```\n",
        "* We can change a variable's value by assigning a new value:\n",
        "  ```python\n",
        "  score = 0          # Initial score\n",
        "  score = 100        # Player defeated an enemy\n",
        "  score = score + 50 # Player collected a power-up\n",
        "  ```\n",
        "\n",
        "**Assignment operator** is the equals sign (`=`) used to assign values to variables.\n",
        "\n",
        "Once you've assigned a value to a variable, you can use the variable name in your code wherever you'd use the value itself. This makes your code more readable and easier to update.\n",
        "\n",
        "Here's a more complete example:"
      ],
      "metadata": {
        "id": "omQnSvpADgR_"
      }
    },
    {
      "cell_type": "code",
      "source": [
        "# Initialize game variables\n",
        "player_name = \"Sonic\"\n",
        "lives = 3\n",
        "rings = 0\n",
        "level = 1\n",
        "\n",
        "# Player collects 10 rings\n",
        "rings = rings + 10\n",
        "\n",
        "# Player loses a life\n",
        "lives = lives - 1\n",
        "\n",
        "# Display updated stats\n",
        "print(\"Player:\", player_name)\n",
        "print(\"Level:\", level)\n",
        "print(\"Lives:\", lives)\n",
        "print(\"Rings:\", rings)"
      ],
      "metadata": {
        "colab": {
          "base_uri": "https://localhost:8080/"
        },
        "id": "y7Pgsk0FDlk9",
        "outputId": "bf6061d3-2bea-40ac-88ad-15ec8d192e80"
      },
      "execution_count": null,
      "outputs": [
        {
          "output_type": "stream",
          "name": "stdout",
          "text": [
            "Player: Sonic\n",
            "Level: 1\n",
            "Lives: 2\n",
            "Rings: 10\n"
          ]
        }
      ]
    },
    {
      "cell_type": "markdown",
      "source": [
        "\n",
        "Variables in Python aren't restricted to keeping the same type of data. You can reassign a variable to store a different type, though in practice it's better to use variables consistently for the same type of data to avoid confusion."
      ],
      "metadata": {
        "id": "GQQ2iWG2Dogq"
      }
    },
    {
      "cell_type": "code",
      "source": [
        "# @title\n",
        "%%html\n",
        "<svg viewBox=\"0 0 700 400\" xmlns=\"http://www.w3.org/2000/svg\">\n",
        "  <!-- Common text styles -->\n",
        "  <style>\n",
        "    .title { font: bold 24px Arial; text-anchor: middle; }\n",
        "    .box-title { font: bold 16px Arial; text-anchor: middle; }\n",
        "    .code { font: 14px monospace; text-anchor: start; }\n",
        "    .var-name { font: 16px Arial; text-anchor: middle; }\n",
        "    .var-value { font: 16px Arial; text-anchor: middle; }\n",
        "    .note { font: 14px Arial; text-anchor: middle; fill: #666666; }\n",
        "    .type { font: 12px Arial; text-anchor: start; fill: #666666; }\n",
        "    .legend { font: bold 14px Arial; text-anchor: start; }\n",
        "  </style>\n",
        "\n",
        "  <!-- Title -->\n",
        "  <text x=\"350\" y=\"40\" class=\"title\">Python Variables and Memory</text>\n",
        "\n",
        "  <!-- Code Box -->\n",
        "  <rect x=\"50\" y=\"70\" width=\"200\" height=\"130\" rx=\"10\" fill=\"#f2f2f2\" stroke=\"#666666\" stroke-width=\"2\"/>\n",
        "  <text x=\"150\" y=\"95\" class=\"box-title\">Python Code</text>\n",
        "  <text x=\"70\" y=\"125\" class=\"code\">name = \"Alex\"</text>\n",
        "  <text x=\"70\" y=\"150\" class=\"code\">age = 15</text>\n",
        "  <text x=\"70\" y=\"175\" class=\"code\">is_student = True</text>\n",
        "\n",
        "  <!-- Memory Model -->\n",
        "  <rect x=\"350\" y=\"70\" width=\"300\" height=\"280\" rx=\"10\" fill=\"#e6f7ff\" stroke=\"#0099cc\" stroke-width=\"2\"/>\n",
        "  <text x=\"500\" y=\"95\" class=\"box-title\">Computer Memory</text>\n",
        "\n",
        "  <!-- Variable name -->\n",
        "  <rect x=\"380\" y=\"120\" width=\"100\" height=\"40\" rx=\"5\" fill=\"#ffe6e6\" stroke=\"#cc0000\" stroke-width=\"2\"/>\n",
        "  <text x=\"430\" y=\"145\" class=\"var-name\">name</text>\n",
        "\n",
        "  <!-- Value for name -->\n",
        "  <rect x=\"520\" y=\"120\" width=\"100\" height=\"40\" rx=\"5\" fill=\"#e6ffe6\" stroke=\"#00cc66\" stroke-width=\"2\"/>\n",
        "  <text x=\"570\" y=\"145\" class=\"var-value\">\"Alex\"</text>\n",
        "\n",
        "  <!-- Arrow from name to value -->\n",
        "  <path d=\"M480 140 L520 140\" stroke=\"#666666\" stroke-width=\"2\" fill=\"none\"/>\n",
        "  <polygon points=\"520,140 510,135 510,145\" fill=\"#666666\"/>\n",
        "\n",
        "  <!-- Variable age -->\n",
        "  <rect x=\"380\" y=\"180\" width=\"100\" height=\"40\" rx=\"5\" fill=\"#ffe6e6\" stroke=\"#cc0000\" stroke-width=\"2\"/>\n",
        "  <text x=\"430\" y=\"205\" class=\"var-name\">age</text>\n",
        "\n",
        "  <!-- Value for age -->\n",
        "  <rect x=\"520\" y=\"180\" width=\"100\" height=\"40\" rx=\"5\" fill=\"#e6ffe6\" stroke=\"#00cc66\" stroke-width=\"2\"/>\n",
        "  <text x=\"570\" y=\"205\" class=\"var-value\">15</text>\n",
        "\n",
        "  <!-- Arrow from age to value -->\n",
        "  <path d=\"M480 200 L520 200\" stroke=\"#666666\" stroke-width=\"2\" fill=\"none\"/>\n",
        "  <polygon points=\"520,200 510,195 510,205\" fill=\"#666666\"/>\n",
        "\n",
        "  <!-- Variable is_student -->\n",
        "  <rect x=\"380\" y=\"240\" width=\"100\" height=\"40\" rx=\"5\" fill=\"#ffe6e6\" stroke=\"#cc0000\" stroke-width=\"2\"/>\n",
        "  <text x=\"430\" y=\"265\" class=\"var-name\">is_student</text>\n",
        "\n",
        "  <!-- Value for is_student -->\n",
        "  <rect x=\"520\" y=\"240\" width=\"100\" height=\"40\" rx=\"5\" fill=\"#e6ffe6\" stroke=\"#00cc66\" stroke-width=\"2\"/>\n",
        "  <text x=\"570\" y=\"265\" class=\"var-value\">True</text>\n",
        "\n",
        "  <!-- Arrow from is_student to value -->\n",
        "  <path d=\"M480 260 L520 260\" stroke=\"#666666\" stroke-width=\"2\" fill=\"none\"/>\n",
        "  <polygon points=\"520,260 510,255 510,265\" fill=\"#666666\"/>\n",
        "\n",
        "  <!-- Memory types legend -->\n",
        "  <text x=\"380\" y=\"315\" class=\"legend\" fill=\"#cc0000\">Variable names</text>\n",
        "  <text x=\"380\" y=\"335\" class=\"legend\" fill=\"#00cc66\">Values in memory</text>\n",
        "\n",
        "  <!-- Arrow from Code to Memory -->\n",
        "  <path d=\"M250 140 L350 140\" stroke=\"#0099cc\" stroke-width=\"3\" fill=\"none\"/>\n",
        "  <polygon points=\"350,140 340,135 340,145\" fill=\"#0099cc\"/>\n",
        "  <text x=\"300\" y=\"125\" class=\"note\">Assignment</text>\n",
        "\n",
        "  <!-- Note -->\n",
        "  <text x=\"150\" y=\"240\" class=\"note\">Variables are names that</text>\n",
        "  <text x=\"150\" y=\"260\" class=\"note\">refer to values stored</text>\n",
        "  <text x=\"150\" y=\"280\" class=\"note\">in computer memory</text>\n",
        "\n",
        "  <!-- Data types -->\n",
        "  <text x=\"635\" y=\"145\" class=\"type\">(string)</text>\n",
        "  <text x=\"635\" y=\"205\" class=\"type\">(integer)</text>\n",
        "  <text x=\"635\" y=\"265\" class=\"type\">(boolean)</text>\n",
        "</svg>"
      ],
      "metadata": {
        "colab": {
          "base_uri": "https://localhost:8080/",
          "height": 829
        },
        "cellView": "form",
        "id": "p46cHaDsIM3-",
        "outputId": "4820a3f1-6e81-4dba-bf83-7d2a4e9e61b2"
      },
      "execution_count": null,
      "outputs": [
        {
          "output_type": "display_data",
          "data": {
            "text/plain": [
              "<IPython.core.display.HTML object>"
            ],
            "text/html": [
              "<svg viewBox=\"0 0 700 400\" xmlns=\"http://www.w3.org/2000/svg\">\n",
              "  <!-- Common text styles -->\n",
              "  <style>\n",
              "    .title { font: bold 24px Arial; text-anchor: middle; }\n",
              "    .box-title { font: bold 16px Arial; text-anchor: middle; }\n",
              "    .code { font: 14px monospace; text-anchor: start; }\n",
              "    .var-name { font: 16px Arial; text-anchor: middle; }\n",
              "    .var-value { font: 16px Arial; text-anchor: middle; }\n",
              "    .note { font: 14px Arial; text-anchor: middle; fill: #666666; }\n",
              "    .type { font: 12px Arial; text-anchor: start; fill: #666666; }\n",
              "    .legend { font: bold 14px Arial; text-anchor: start; }\n",
              "  </style>\n",
              "  \n",
              "  <!-- Title -->\n",
              "  <text x=\"350\" y=\"40\" class=\"title\">Python Variables and Memory</text>\n",
              "  \n",
              "  <!-- Code Box -->\n",
              "  <rect x=\"50\" y=\"70\" width=\"200\" height=\"130\" rx=\"10\" fill=\"#f2f2f2\" stroke=\"#666666\" stroke-width=\"2\"/>\n",
              "  <text x=\"150\" y=\"95\" class=\"box-title\">Python Code</text>\n",
              "  <text x=\"70\" y=\"125\" class=\"code\">name = \"Alex\"</text>\n",
              "  <text x=\"70\" y=\"150\" class=\"code\">age = 15</text>\n",
              "  <text x=\"70\" y=\"175\" class=\"code\">is_student = True</text>\n",
              "  \n",
              "  <!-- Memory Model -->\n",
              "  <rect x=\"350\" y=\"70\" width=\"300\" height=\"280\" rx=\"10\" fill=\"#e6f7ff\" stroke=\"#0099cc\" stroke-width=\"2\"/>\n",
              "  <text x=\"500\" y=\"95\" class=\"box-title\">Computer Memory</text>\n",
              "  \n",
              "  <!-- Variable name -->\n",
              "  <rect x=\"380\" y=\"120\" width=\"100\" height=\"40\" rx=\"5\" fill=\"#ffe6e6\" stroke=\"#cc0000\" stroke-width=\"2\"/>\n",
              "  <text x=\"430\" y=\"145\" class=\"var-name\">name</text>\n",
              "  \n",
              "  <!-- Value for name -->\n",
              "  <rect x=\"520\" y=\"120\" width=\"100\" height=\"40\" rx=\"5\" fill=\"#e6ffe6\" stroke=\"#00cc66\" stroke-width=\"2\"/>\n",
              "  <text x=\"570\" y=\"145\" class=\"var-value\">\"Alex\"</text>\n",
              "  \n",
              "  <!-- Arrow from name to value -->\n",
              "  <path d=\"M480 140 L520 140\" stroke=\"#666666\" stroke-width=\"2\" fill=\"none\"/>\n",
              "  <polygon points=\"520,140 510,135 510,145\" fill=\"#666666\"/>\n",
              "  \n",
              "  <!-- Variable age -->\n",
              "  <rect x=\"380\" y=\"180\" width=\"100\" height=\"40\" rx=\"5\" fill=\"#ffe6e6\" stroke=\"#cc0000\" stroke-width=\"2\"/>\n",
              "  <text x=\"430\" y=\"205\" class=\"var-name\">age</text>\n",
              "  \n",
              "  <!-- Value for age -->\n",
              "  <rect x=\"520\" y=\"180\" width=\"100\" height=\"40\" rx=\"5\" fill=\"#e6ffe6\" stroke=\"#00cc66\" stroke-width=\"2\"/>\n",
              "  <text x=\"570\" y=\"205\" class=\"var-value\">15</text>\n",
              "  \n",
              "  <!-- Arrow from age to value -->\n",
              "  <path d=\"M480 200 L520 200\" stroke=\"#666666\" stroke-width=\"2\" fill=\"none\"/>\n",
              "  <polygon points=\"520,200 510,195 510,205\" fill=\"#666666\"/>\n",
              "  \n",
              "  <!-- Variable is_student -->\n",
              "  <rect x=\"380\" y=\"240\" width=\"100\" height=\"40\" rx=\"5\" fill=\"#ffe6e6\" stroke=\"#cc0000\" stroke-width=\"2\"/>\n",
              "  <text x=\"430\" y=\"265\" class=\"var-name\">is_student</text>\n",
              "  \n",
              "  <!-- Value for is_student -->\n",
              "  <rect x=\"520\" y=\"240\" width=\"100\" height=\"40\" rx=\"5\" fill=\"#e6ffe6\" stroke=\"#00cc66\" stroke-width=\"2\"/>\n",
              "  <text x=\"570\" y=\"265\" class=\"var-value\">True</text>\n",
              "  \n",
              "  <!-- Arrow from is_student to value -->\n",
              "  <path d=\"M480 260 L520 260\" stroke=\"#666666\" stroke-width=\"2\" fill=\"none\"/>\n",
              "  <polygon points=\"520,260 510,255 510,265\" fill=\"#666666\"/>\n",
              "  \n",
              "  <!-- Memory types legend -->\n",
              "  <text x=\"380\" y=\"315\" class=\"legend\" fill=\"#cc0000\">Variable names</text>\n",
              "  <text x=\"380\" y=\"335\" class=\"legend\" fill=\"#00cc66\">Values in memory</text>\n",
              "  \n",
              "  <!-- Arrow from Code to Memory -->\n",
              "  <path d=\"M250 140 L350 140\" stroke=\"#0099cc\" stroke-width=\"3\" fill=\"none\"/>\n",
              "  <polygon points=\"350,140 340,135 340,145\" fill=\"#0099cc\"/>\n",
              "  <text x=\"300\" y=\"125\" class=\"note\">Assignment</text>\n",
              "  \n",
              "  <!-- Note -->\n",
              "  <text x=\"150\" y=\"240\" class=\"note\">Variables are names that</text>\n",
              "  <text x=\"150\" y=\"260\" class=\"note\">refer to values stored</text>\n",
              "  <text x=\"150\" y=\"280\" class=\"note\">in computer memory</text>\n",
              "  \n",
              "  <!-- Data types -->\n",
              "  <text x=\"635\" y=\"145\" class=\"type\">(string)</text>\n",
              "  <text x=\"635\" y=\"205\" class=\"type\">(integer)</text>\n",
              "  <text x=\"635\" y=\"265\" class=\"type\">(boolean)</text>\n",
              "</svg>\n"
            ]
          },
          "metadata": {}
        }
      ]
    },
    {
      "cell_type": "markdown",
      "source": [
        "# The print() Function: Displaying Output\n",
        "\n",
        "To make our programs communicate with users, we need a way to display information. The `print()` function is Python's standard way to output text and values to the screen.\n",
        "\n",
        "* The `print()` function displays information in the console\n",
        "  * Takes one or more items to display, separated by commas\n",
        "  * Automatically adds a newline at the end (moves to the next line)\n",
        "  * Can display text strings, variables, numbers, and other values\n",
        "* Basic usage patterns:\n",
        "  * Printing a string directly: `print(\"Hello!\")`\n",
        "  * Printing a variable: `print(name)`\n",
        "  * Printing multiple items: `print(\"Score:\", score)`\n",
        "  * Printing calculations: `print(2 + 2)`\n",
        "* Customizing output:\n",
        "  * Join strings with `+`: `print(\"Hello \" + name)`\n",
        "  * Format with f-strings: `print(f\"You scored {score} points\")`\n",
        "\n",
        "**Console** (or terminal) is the text-based interface where program output appears.\n",
        "\n",
        "| Code | Output | Explanation |\n",
        "|------|--------|-------------|\n",
        "| `print(\"Hello\")` | `Hello` | Displays the string \"Hello\" |\n",
        "| `age = 15`<br>`print(age)` | `15` | Displays the value of the variable age |\n",
        "| `print(\"Age:\", age)` | `Age: 15` | Displays string and variable, separated by space |\n",
        "| `print(10 + 5)` | `15` | Evaluates the expression, then displays result |\n",
        "\n",
        "The `print()` function is one of the most commonly used functions in Python, especially when you're learning. It helps you see what your program is doing and verify that variables contain the values you expect. Even experienced programmers use `print()` extensively for debugging and displaying results."
      ],
      "metadata": {
        "id": "iW5LzcsfDs7Y"
      }
    },
    {
      "cell_type": "markdown",
      "source": [
        "\n",
        "# Comments: Making Your Code Readable with #\n",
        "\n",
        "While Python code can be relatively easy to read, it's not always obvious what a program is trying to do or why certain decisions were made. Comments allow programmers to include explanatory text that the computer ignores but humans can read.\n",
        "\n",
        "* **Comments** are notes in code that are ignored by the Python interpreter\n",
        "  * Begin with the hash symbol (`#`)\n",
        "  * Everything after the `#` on that line is ignored when running the program\n",
        "  * Can appear on their own line or at the end of a line of code\n",
        "* Common uses for comments:\n",
        "  * Explaining *why* code works a certain way (not just what it does)\n",
        "  * Providing context or background information\n",
        "  * Temporarily disabling code for testing (commenting it out)\n",
        "  * Adding your name and date to programs\n",
        "  * Creating section headings in longer programs\n",
        "* Best practices:\n",
        "  * Keep comments clear and concise\n",
        "  * Update comments when you change code\n",
        "  * Don't state the obvious (comments should add information)\n",
        "\n",
        "**Documentation** is the collection of comments and other materials that explain how code works.\n",
        "\n",
        "Here's an example of using comments effectively:"
      ],
      "metadata": {
        "id": "CkevjNUXDwi3"
      }
    },
    {
      "cell_type": "code",
      "source": [
        "# Calculate final grade based on test average and project score\n",
        "# Formula: 70% of test average + 30% of project score\n",
        "\n",
        "test_average = 85\n",
        "project_score = 92\n",
        "\n",
        "# Apply weighting formula\n",
        "final_grade = 0.7 * test_average + 0.3 * project_score\n",
        "\n",
        "print(f\"Final grade: {final_grade}\")  # Should show weighted average"
      ],
      "metadata": {
        "colab": {
          "base_uri": "https://localhost:8080/"
        },
        "id": "V5bzaW8lD28w",
        "outputId": "df41b9ad-473b-4120-f073-cb02378c132b"
      },
      "execution_count": null,
      "outputs": [
        {
          "output_type": "stream",
          "name": "stdout",
          "text": [
            "Final grade: 87.1\n"
          ]
        }
      ]
    },
    {
      "cell_type": "markdown",
      "source": [
        "\n",
        "Good comments make your code more maintainable and easier for others (including your future self) to understand. They're an essential part of writing high-quality code, especially as your programs become more complex."
      ],
      "metadata": {
        "id": "sQ7H2qi1D5c6"
      }
    },
    {
      "cell_type": "markdown",
      "source": [
        "# Functions: Building Blocks of Programs\n",
        "\n",
        "Functions are one of the most important concepts in programming. They allow us to organize code into reusable blocks, making our programs more modular, easier to understand, and less repetitive.\n",
        "\n",
        "* **Functions** are named blocks of code that perform specific tasks\n",
        "  * Like small \"machines\" that transform inputs into outputs\n",
        "  * Can be used multiple times throughout a program\n",
        "  * Help break complex problems into smaller, manageable parts\n",
        "* Python has many built-in functions:\n",
        "  * `print()` - displays output\n",
        "  * `input()` - gets user input\n",
        "  * `len()` - finds the length of a string or list\n",
        "  * `int()`, `float()`, `str()` - convert between data types\n",
        "* Functions typically follow this pattern:\n",
        "  * Name of the function\n",
        "  * Parentheses containing any inputs (called **arguments** or **parameters**)\n",
        "  * Return value (the output or result of the function)\n",
        "\n",
        "**Modularity** refers to dividing a program into separate, independent parts that can be developed, tested, and maintained more easily.\n",
        "\n",
        "| Function | Example | Result |\n",
        "|----------|---------|--------|\n",
        "| `print()` | `print(\"Hello\")` | Displays \"Hello\" |\n",
        "| `len()` | `len(\"Python\")` | `6` (number of characters) |\n",
        "| `int()` | `int(\"42\")` | `42` (as an integer, not a string) |\n",
        "| `str()` | `str(42)` | `\"42\"` (as a string, not an integer) |\n",
        "| `max()` | `max(5, 10, 3)` | `10` (largest value) |\n",
        "\n",
        "Functions are like building blocks of programs. By combining them in different ways, you can create increasingly complex and powerful programs without having to understand all the internal details at once. In the next section, we'll learn how to create our own functions."
      ],
      "metadata": {
        "id": "m_qJ9ZN8D-18"
      }
    },
    {
      "cell_type": "code",
      "source": [
        "# Example functions\n",
        "print(\"Hello\")\n"
      ],
      "metadata": {
        "colab": {
          "base_uri": "https://localhost:8080/"
        },
        "id": "8zYf1C3KEDA4",
        "outputId": "6e33ea06-05fd-408d-b2c8-6468be140977"
      },
      "execution_count": 14,
      "outputs": [
        {
          "output_type": "stream",
          "name": "stdout",
          "text": [
            "Hello\n"
          ]
        }
      ]
    },
    {
      "cell_type": "code",
      "source": [
        "len(\"Python\")"
      ],
      "metadata": {
        "colab": {
          "base_uri": "https://localhost:8080/"
        },
        "id": "LWIP_2eTZ6OG",
        "outputId": "4a34cd5f-087a-4b33-d7b6-c361cadda254"
      },
      "execution_count": 15,
      "outputs": [
        {
          "output_type": "execute_result",
          "data": {
            "text/plain": [
              "6"
            ]
          },
          "metadata": {},
          "execution_count": 15
        }
      ]
    },
    {
      "cell_type": "code",
      "source": [
        "max(5,10)"
      ],
      "metadata": {
        "colab": {
          "base_uri": "https://localhost:8080/"
        },
        "id": "xzUZCDxlZ9zC",
        "outputId": "499bba20-ad52-40cd-ffce-98b8b1e1541b"
      },
      "execution_count": 16,
      "outputs": [
        {
          "output_type": "execute_result",
          "data": {
            "text/plain": [
              "10"
            ]
          },
          "metadata": {},
          "execution_count": 16
        }
      ]
    },
    {
      "cell_type": "code",
      "source": [
        "type(42)"
      ],
      "metadata": {
        "colab": {
          "base_uri": "https://localhost:8080/"
        },
        "id": "k-7DiI_taAz6",
        "outputId": "fcb42aa5-e740-4fce-898d-d86582b7cac2"
      },
      "execution_count": 17,
      "outputs": [
        {
          "output_type": "execute_result",
          "data": {
            "text/plain": [
              "int"
            ]
          },
          "metadata": {},
          "execution_count": 17
        }
      ]
    },
    {
      "cell_type": "code",
      "source": [
        "type(\"42\")"
      ],
      "metadata": {
        "colab": {
          "base_uri": "https://localhost:8080/"
        },
        "id": "Ll02sEgyaEZy",
        "outputId": "6a86e41d-f19b-4f32-e8ac-9c4a4ec6fbeb"
      },
      "execution_count": 18,
      "outputs": [
        {
          "output_type": "execute_result",
          "data": {
            "text/plain": [
              "str"
            ]
          },
          "metadata": {},
          "execution_count": 18
        }
      ]
    },
    {
      "cell_type": "code",
      "source": [
        "type(str(42))"
      ],
      "metadata": {
        "colab": {
          "base_uri": "https://localhost:8080/"
        },
        "id": "DdanPxc-aHz6",
        "outputId": "8b94b723-d7f2-43b2-a1c6-bccecec912c5"
      },
      "execution_count": 20,
      "outputs": [
        {
          "output_type": "execute_result",
          "data": {
            "text/plain": [
              "str"
            ]
          },
          "metadata": {},
          "execution_count": 20
        }
      ]
    },
    {
      "cell_type": "markdown",
      "source": [
        "## Creating Your Own Functions\n",
        "\n",
        "We've seen how to use built-in functions like `print()` and `len()`. Now let's learn how to create our own functions.\n",
        "\n",
        "### Defining a Function\n",
        "\n",
        "To create a function, we use the `def` keyword followed by the function name and parentheses. The code block that forms the function body is indented."
      ],
      "metadata": {
        "id": "t4naYv-SXHVx"
      }
    },
    {
      "cell_type": "code",
      "source": [
        "def say_hello():\n",
        "    print(\"Hello, world!\")\n",
        "\n",
        "# To call (use) the function:\n",
        "say_hello()"
      ],
      "metadata": {
        "colab": {
          "base_uri": "https://localhost:8080/"
        },
        "id": "InywV72jXMSY",
        "outputId": "a8ff826f-2ae1-416f-e91a-0247c2cc41b2"
      },
      "execution_count": 1,
      "outputs": [
        {
          "output_type": "stream",
          "name": "stdout",
          "text": [
            "Hello, world!\n"
          ]
        }
      ]
    },
    {
      "cell_type": "markdown",
      "source": [
        "When we run this code:\n",
        "- The function is defined, but nothing happens yet\n",
        "- Only when we call `say_hello()` does the function execute\n",
        "- The output will be: `Hello, world!`\n",
        "\n",
        "### Functions with Parameters\n",
        "\n",
        "Parameters allow functions to receive input values, making them more flexible and reusable.\n",
        "\n"
      ],
      "metadata": {
        "id": "CSQqQRB1XSP_"
      }
    },
    {
      "cell_type": "code",
      "source": [
        "def greet(name):\n",
        "    print(f\"Hello, {name}!\")\n",
        "\n",
        "# Call the function with different arguments\n",
        "greet(\"Peach\")\n",
        "greet(\"Toad\")"
      ],
      "metadata": {
        "colab": {
          "base_uri": "https://localhost:8080/"
        },
        "id": "8Dx3kVeuXT10",
        "outputId": "76c90a93-ec6d-45e4-8fb3-c5e333a7a28e"
      },
      "execution_count": 2,
      "outputs": [
        {
          "output_type": "stream",
          "name": "stdout",
          "text": [
            "Hello, Peach!\n",
            "Hello, Toad!\n"
          ]
        }
      ]
    },
    {
      "cell_type": "markdown",
      "source": [
        "We can define multiple parameters by separating them with commas:"
      ],
      "metadata": {
        "id": "vvVweOf0Xa1t"
      }
    },
    {
      "cell_type": "code",
      "source": [
        "def describe_person(name, age):\n",
        "    print(f\"{name} is {age} years old.\")\n",
        "\n",
        "describe_person(\"Pacman\", 55)\n",
        "describe_person(\"Jules\", 12)"
      ],
      "metadata": {
        "colab": {
          "base_uri": "https://localhost:8080/"
        },
        "id": "9oK0W6XyXdbH",
        "outputId": "88330750-ad99-434a-9ad8-e570a8ea6216"
      },
      "execution_count": 3,
      "outputs": [
        {
          "output_type": "stream",
          "name": "stdout",
          "text": [
            "Pacman is 55 years old.\n",
            "Jules is 12 years old.\n"
          ]
        }
      ]
    },
    {
      "cell_type": "markdown",
      "source": [
        "## Returning Values from Functions\n",
        "\n",
        "So far, our functions have displayed output using `print()`, but they haven't given back any values that we can use in our program. The `return` statement sends a value back to wherever the function was called.\n",
        "\n",
        "### Returning Simple Values"
      ],
      "metadata": {
        "id": "qaFrqSioXa_4"
      }
    },
    {
      "cell_type": "code",
      "source": [
        "def double(number):\n",
        "    return number * 2\n",
        "\n",
        "# Store the returned value in a variable\n",
        "result = double(5)\n",
        "print(result)\n",
        "\n",
        "# Or use the returned value directly\n",
        "print(double(8))"
      ],
      "metadata": {
        "colab": {
          "base_uri": "https://localhost:8080/"
        },
        "id": "vjNE7uiAXsV7",
        "outputId": "d746efbb-ce58-4141-8ece-e1984ab2d7f5"
      },
      "execution_count": 4,
      "outputs": [
        {
          "output_type": "stream",
          "name": "stdout",
          "text": [
            "10\n",
            "16\n"
          ]
        }
      ]
    },
    {
      "cell_type": "markdown",
      "source": [
        "The `return` statement ends the function immediately. Any code after it won't run:\n"
      ],
      "metadata": {
        "id": "vJTpl0ajXzuc"
      }
    },
    {
      "cell_type": "code",
      "source": [
        "def example():\n",
        "    print(\"This will print\")\n",
        "    return \"Done\"\n",
        "    print(\"This will never print\")  # This line is never reached\n",
        "\n",
        "message = example()\n",
        "print(message)"
      ],
      "metadata": {
        "colab": {
          "base_uri": "https://localhost:8080/"
        },
        "id": "ZNrycnu3X14e",
        "outputId": "e2e4335c-0115-48eb-8abb-53d9d0b880fd"
      },
      "execution_count": 5,
      "outputs": [
        {
          "output_type": "stream",
          "name": "stdout",
          "text": [
            "This will print\n",
            "Done\n"
          ]
        }
      ]
    },
    {
      "cell_type": "markdown",
      "source": [
        "### Returning Different Data Types\n",
        "\n",
        "Functions can return any data type. Let's practice with different return types:\n",
        "\n",
        "#### Returning integers:\n"
      ],
      "metadata": {
        "id": "lHpYuC_8X6yF"
      }
    },
    {
      "cell_type": "code",
      "source": [
        "def square(x):\n",
        "    return x * x  # Returns an integer when x is an integer\n",
        "\n",
        "result1 = square(7)\n",
        "print(result1)\n",
        "\n",
        "result2 = square(-3)\n",
        "print(result2)"
      ],
      "metadata": {
        "colab": {
          "base_uri": "https://localhost:8080/"
        },
        "id": "rQXcbD5AX9IL",
        "outputId": "9c2d0401-27e7-4e11-8a48-7bc3e9ab39c0"
      },
      "execution_count": 7,
      "outputs": [
        {
          "output_type": "stream",
          "name": "stdout",
          "text": [
            "49\n",
            "9\n"
          ]
        }
      ]
    },
    {
      "cell_type": "markdown",
      "source": [
        "#### Returning floats:\n"
      ],
      "metadata": {
        "id": "G428eHDUYDQZ"
      }
    },
    {
      "cell_type": "code",
      "source": [
        "def calculate_area(radius):\n",
        "    return 3.14159 * radius * radius  # Returns a float\n",
        "\n",
        "area = calculate_area(5)\n",
        "print(area)\n",
        "area2 = calculate_area(10)\n",
        "print(area2)\n"
      ],
      "metadata": {
        "colab": {
          "base_uri": "https://localhost:8080/"
        },
        "id": "HlFYk1cJYPHs",
        "outputId": "6d69f6af-0491-4053-b48b-f63a6a5c9b21"
      },
      "execution_count": 8,
      "outputs": [
        {
          "output_type": "stream",
          "name": "stdout",
          "text": [
            "78.53975\n",
            "314.159\n"
          ]
        }
      ]
    },
    {
      "cell_type": "markdown",
      "source": [
        "#### Returning strings:\n"
      ],
      "metadata": {
        "id": "o3EpTCvcYWnq"
      }
    },
    {
      "cell_type": "code",
      "source": [
        "def make_greeting(name):\n",
        "    return f\"Welcome, {name}!\"  # Returns a string\n",
        "\n",
        "message = make_greeting(\"Rory\")\n",
        "print(message)\n",
        "\n",
        "message2 = make_greeting(\"Lorelai\")\n",
        "print(message2)"
      ],
      "metadata": {
        "colab": {
          "base_uri": "https://localhost:8080/"
        },
        "id": "vtDz-b4YYPpG",
        "outputId": "521f9ad1-59a0-4b34-db37-f887956e1918"
      },
      "execution_count": 9,
      "outputs": [
        {
          "output_type": "stream",
          "name": "stdout",
          "text": [
            "Welcome, Rory!\n",
            "Welcome, Lorelai!\n"
          ]
        }
      ]
    },
    {
      "cell_type": "markdown",
      "source": [
        "#### Returning Booleans"
      ],
      "metadata": {
        "id": "HtqEtMKPYjTr"
      }
    },
    {
      "cell_type": "code",
      "source": [
        "def is_even(number):\n",
        "    return number % 2 == 0  # Returns True or False\n",
        "\n",
        "result1 = is_even(4)\n",
        "print(result1)\n",
        "\n",
        "result2 = is_even(7)\n",
        "print(result2)"
      ],
      "metadata": {
        "colab": {
          "base_uri": "https://localhost:8080/"
        },
        "id": "JFPwkSRTYtvZ",
        "outputId": "79d3985c-e2c0-4972-b391-97900c5cdc81"
      },
      "execution_count": 10,
      "outputs": [
        {
          "output_type": "stream",
          "name": "stdout",
          "text": [
            "True\n",
            "False\n"
          ]
        }
      ]
    },
    {
      "cell_type": "markdown",
      "source": [
        "## Combining Functions\n",
        "\n",
        "Functions can call other functions, which allows us to break complex tasks into simpler steps:\n"
      ],
      "metadata": {
        "id": "_yZhqPy5YzAp"
      }
    },
    {
      "cell_type": "code",
      "source": [
        "def get_seconds(hours):\n",
        "    return hours * 3600  # 3600 seconds in an hour\n",
        "\n",
        "def format_time(seconds):\n",
        "    return f\"That's {seconds} seconds\"\n",
        "\n",
        "# Using functions together\n",
        "total_seconds = get_seconds(2)\n",
        "message = format_time(total_seconds)\n",
        "print(message)"
      ],
      "metadata": {
        "colab": {
          "base_uri": "https://localhost:8080/"
        },
        "id": "joNGXvDBY2Cc",
        "outputId": "054979c4-5d94-442d-867a-f01bd0da30d4"
      },
      "execution_count": 12,
      "outputs": [
        {
          "output_type": "stream",
          "name": "stdout",
          "text": [
            "That's 7200 seconds\n"
          ]
        }
      ]
    },
    {
      "cell_type": "code",
      "source": [
        "# Or more concisely:\n",
        "print(format_time(get_seconds(3)))"
      ],
      "metadata": {
        "colab": {
          "base_uri": "https://localhost:8080/"
        },
        "id": "puEvLOcUZACn",
        "outputId": "a3459134-2ceb-4958-8081-b2f83ab74809"
      },
      "execution_count": 13,
      "outputs": [
        {
          "output_type": "stream",
          "name": "stdout",
          "text": [
            "That's 10800 seconds\n"
          ]
        }
      ]
    },
    {
      "cell_type": "markdown",
      "source": [
        "## Python Code Quiz\n",
        "Run the following cell to launch a review of your python coding skills.\n",
        "\n",
        "Here's how use the game:\n",
        "\n",
        "1. When you hit run, you will be presented with a python problem. For example:\n",
        "\n",
        "```python\n",
        "# Write a function that returns \"Hello World!\"\n",
        "\n",
        "def hello_world():\n",
        "  pass\n",
        "\n",
        "```\n",
        "\n",
        "2. It is YOUR job to replace `pass` with whatever will complete the problem. For example:\n",
        "\n",
        "```python\n",
        "def hello_world()\n",
        "  return \"Hello, World!\" # The right answer!\n",
        "```\n",
        "\n",
        "3. Sometimes you will see the the function has **parameters**. For example:\n",
        "\n",
        "\n",
        "```python\n",
        "# Write a function that adds two numbers a and b\"\n",
        "\n",
        "def add(a, b):\n",
        "  pass\n",
        "\n",
        "```\n",
        "This means that you can use the parameters as variables inside the function:\n",
        "\n",
        "\n",
        "```python\n",
        "# Write a function that adds two numbers a and b\"\n",
        "\n",
        "def add(a, b):\n",
        "  return a + b # The right answer!\n",
        "\n",
        "```\n",
        "\n",
        "Somtimes, you'll asked to return `True` or `False` values. Here's how you might do this:\n",
        "\n",
        "```python\n",
        "# Write a function that returns True if the person is over 21 and False otherwise\n",
        "\n",
        "def legal_drinking(age):\n",
        "  pass\n",
        "\n",
        "```\n",
        "You can answer this as follows:\n",
        "\n",
        "```python\n",
        "# Write a function that returns True if the person is 21 or over and False otherwise\n",
        "\n",
        "def legal_drinking(age):\n",
        "  return age >= 21\n",
        "\n",
        "```\n",
        "\n",
        "OK, now you're ready to start! Just run this cell to begin:"
      ],
      "metadata": {
        "id": "uwZYufDBlAZd"
      }
    },
    {
      "cell_type": "code",
      "source": [
        "# @title\n",
        "!wget https://github.com/brendanpshea/computing_concepts_python/raw/main/python_code_quiz/pyquiz.py -q -nc\n",
        "from pyquiz import PracticeTool\n",
        "practice_tool = PracticeTool(json_url='https://github.com/brendanpshea/computing_concepts_python/raw/main/python_code_quiz/python_02_data_types.json')"
      ],
      "metadata": {
        "colab": {
          "base_uri": "https://localhost:8080/",
          "height": 512,
          "referenced_widgets": [
            "d1346f9427354e90b4562e8fc5665368",
            "6ca346ab612146208a81869ea2a216dd",
            "0398164beecc4d76b1fbfe2c9b904d40",
            "4ea62ce632714a3d8d1b2948261cc328",
            "64854d96640d45e68b1c6981c39da375",
            "7e583aeb92124f048c6d1d430cf5fbd3",
            "e86b825ec82b4413bf1eb4ab2c498180",
            "6af03826b3e14561ad59fcd052322947",
            "3fc5bbea2c72476a873863f4962856f8",
            "7e6ed348f04a4be99accf19e75af5932",
            "c217de0df9324712a3cbd756274e3e50",
            "2092944246d446ec9e5e0ced85f3644f",
            "3788f2e9e889423d81527d4e8c003c91",
            "bd2109c762544d8d8f2a00f2fe404369",
            "da7f8552d41648868ab20bb7f0378ea5",
            "1af8dae717d04fd695c68ef3c021e8ac",
            "b41dc8c561b84ba686818edcf2d41322",
            "005c2440ad40470f9d8910b29fe2156b",
            "ffe42d5db55f44c08be3b8d91748e429",
            "70a35a0da9b14a7f97ccbbd837a4b2d7",
            "e155b784e2b64622b146be9d72269215",
            "03c627121c8446e5a888f8405aa23741",
            "cfc99a8274a743409c51eeb20622fa5e",
            "769bcf8a8f664e95a80572dc3249bce9",
            "0fa1f75c4adc41aa817479b948db411c",
            "6d945d37313e49cfa57edf57ea38372e",
            "1140dbff99c547caa5a2e32408e9de7f",
            "8a179875331148a0973819bbd43266c1",
            "6a32106ef11e41c7ac1e8ca9c4cee63e",
            "2a374af2c0b8439384e3139bf9b12448",
            "1b8aa122af864cc6a822f725f8d4a3d6",
            "249f265315d44253ab7c917a630387c6",
            "b462a399076e4be7bc824fd639889df4",
            "23d05969c5cf413293c2f7a1b7976ac4",
            "acb6ef8b006846d096eed34ebb5e06ab",
            "992fc7fc7dda415680dbc6fbb82c642d",
            "bdb577e00c914a96937fb36ce965db7f",
            "9c4d06273283487dab1512d303d82f28",
            "0c0b44c9e4ff404b9b320d6965879cfb",
            "babe2237a51b45daa5b82fe77ff6b7e3",
            "529d614a1ec94849b93ac346c19d1cd0",
            "d5d48c0c1ecc4795a846b349ba1ad2b9",
            "1b05bcfd9ad1460f8060a8342767ff47",
            "d929dc5634c0405d9259d6cef16e77cf",
            "010921cdddf149899b8950aaa7d46ad1",
            "f2da874863984f8a893d145f632aa053",
            "2be1a218ff4c4cf1995343e379867115",
            "875e95d1153e4683a921c557f8ea2ac4",
            "68f24105138d4881bb58bef17d71ed25",
            "6bc1926c186f43ab8e40b2b5d69041ad",
            "cb356f6f67294732b172c508181a2f93",
            "70d0b05683b6438bbc2a3875ba6ffa3b",
            "2b22f54af43f42aa83915982961e5c7c",
            "c503a2b945f04d2cb07e4fa4cf99f7af",
            "d851b9a0e6d8481c807b60986fd92ca0",
            "cd53402776fe48a49aa097775e3bad14",
            "a804f0603f8e4254ab368e2aeb287a44",
            "db2b3ea567264ff4a0b737e0538ce88a",
            "15967e629dc44a4cbd063ec27e152e8d",
            "08e52280531d421aaa01800344ba0ebc"
          ]
        },
        "cellView": "form",
        "id": "mwK1_hnDlGYA",
        "outputId": "be0ea401-7902-4edd-8068-19f1022e5c84"
      },
      "execution_count": 2,
      "outputs": [
        {
          "output_type": "display_data",
          "data": {
            "text/plain": [
              "HBox(children=(VBox(children=(IntProgress(value=0, description='Progress:', layout=Layout(width='100%'), max=2…"
            ],
            "application/vnd.jupyter.widget-view+json": {
              "version_major": 2,
              "version_minor": 0,
              "model_id": "d1346f9427354e90b4562e8fc5665368"
            }
          },
          "metadata": {}
        }
      ]
    },
    {
      "cell_type": "markdown",
      "source": [
        "\n",
        "## Using AI for Coding Help\n",
        "\n",
        "As you're learning to code, you can also use AI tools to assist you:\n",
        "\n",
        "1. **Gemini in Colab**: Colab has Google's Gemini AI built in. Click on the \"Gemini\" tab in the right panel to ask questions or get help with your code.\n",
        "\n",
        "2. **Learning from AI**: When you're stuck, try asking:\n",
        "   - \"How do I define a function in Python?\"\n",
        "   - \"What's wrong with this code?\" (followed by your code)\n",
        "   - \"Give me an example of using variables\"\n",
        "\n",
        "3. **Best practices when using AI**:\n",
        "   - Try to write the code yourself first before asking for help\n",
        "   - Ask for explanations, not just solutions\n",
        "   - Break down complex problems into smaller steps\n",
        "   - Use AI to understand why code works, not just what code to write\n",
        "\n",
        "4. **AI coding assistants in the real world**:\n",
        "   - Professional programmers use AI tools to increase productivity\n",
        "   - AI can help with repetitive tasks, debugging, and learning new concepts\n",
        "   - Understanding the fundamentals is still essential for effective programming\n",
        "\n",
        "Remember:\n",
        "- Don't worry about errors - they're part of learning!\n",
        "- Experiment by changing values and seeing what happens\n",
        "- Add comments to your code to explain what it's doing\n",
        "- Save your work regularly by pressing Ctrl+S\n",
        "\n",
        "Programming is like learning a new language - it takes practice. The more you experiment, the more comfortable you'll become with Python syntax and concepts. Have fun coding!"
      ],
      "metadata": {
        "id": "CsrigowbTqOJ"
      }
    },
    {
      "cell_type": "markdown",
      "source": [
        "## Review With Quizlet"
      ],
      "metadata": {
        "id": "N5BME_XhTASd"
      }
    },
    {
      "cell_type": "code",
      "source": [
        "%%html\n",
        "<iframe src=\"https://quizlet.com/1038501608/learn/embed?i=psvlh&x=1jj1\" height=\"700\" width=\"100%\" style=\"border:0\"></iframe>"
      ],
      "metadata": {
        "id": "wVdGMbHHTVNk"
      },
      "execution_count": null,
      "outputs": []
    },
    {
      "cell_type": "markdown",
      "source": [
        "# Data Types and Programming Fundamentals Glossary\n",
        "\n",
        "| Term | Definition |\n",
        "|------|------------|\n",
        "| Binary | The number system using only two digits (0 and 1) that matches a computer's ability to detect whether electricity is flowing or not; the foundation for all computer data representation. |\n",
        "| Bit | The smallest unit of information in computing, representing either 0 or 1, forming the foundation of all digital information. |\n",
        "| Byte | A group of 8 bits that can represent 256 different values, serving as a fundamental unit of digital storage. |\n",
        "| Boolean | A data type with only two possible values (True or False), used for logical operations and decision making in programs. |\n",
        "| Character Encoding | Systems that assign unique binary codes to text characters, allowing computers to store and process text; examples include ASCII and Unicode. |\n",
        "| Compiler | A program that translates entire source code into machine code before execution, creating standalone executable files. |\n",
        "| Comment | Text in code (preceded by #) that's ignored by the computer but provides explanations for humans reading the code. |\n",
        "| Data Type | A classification that specifies what kind of data a variable can hold, determining what operations can be performed on it. |\n",
        "| Dynamic Typing | A feature in Python where the language automatically determines a variable's type based on the assigned value. |\n",
        "| Floating-Point | Numbers with decimal components (like 3.14) that computers store using a sign bit, exponent, and mantissa according to standards like IEEE 754. |\n",
        "| Function | A named block of reusable code that performs a specific task, optionally accepting inputs (parameters) and returning outputs. |\n",
        "| Hexadecimal | A base-16 number system using digits 0-9 and letters A-F, commonly used as a more readable representation of binary values. |\n",
        "| IEEE 754 | The standard format for representing floating-point numbers in computers, using a sign bit, exponent, and mantissa. |\n",
        "| Integer | Whole numbers without fractional parts, stored in binary form in computer memory. |\n",
        "| Interpreter | A program that translates code line-by-line during execution, without creating a separate executable file. |\n",
        "| Parameter | A variable listed in a function definition that acts as a placeholder for values provided when the function is called. |\n",
        "| Print Function | Python's standard way to display information in the console, taking one or more items to display. |\n",
        "| Program Flow | The order in which statements in a program are executed, determined by the structure of the code. |\n",
        "| Programming Language | A formal language with syntax and semantics used to give instructions to a computer. |\n",
        "| Scientific Notation | A way of writing numbers that are too large or too small in a more concise form, similar to how floating-point numbers are stored. |\n",
        "| Source Code | The human-readable text of a computer program written in a programming language. |\n",
        "| String | A sequence of characters (text) enclosed in quotes, one of the fundamental data types in programming. |\n",
        "| Two's Complement | The system computers use to represent negative numbers in binary, making arithmetic operations work correctly. |\n",
        "| Unicode | A universal character encoding standard that can represent over 140,000 characters from all world languages. |\n",
        "| Variable | A named storage location that holds data, allowing programmers to store and manipulate information throughout a program. |"
      ],
      "metadata": {
        "id": "HMt6n1IfS9ka"
      }
    }
  ]
}