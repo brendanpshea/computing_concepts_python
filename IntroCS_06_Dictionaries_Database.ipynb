{
  "nbformat": 4,
  "nbformat_minor": 0,
  "metadata": {
    "colab": {
      "provenance": [],
      "authorship_tag": "ABX9TyMtJAZAVSwvOPGxUsMzNggO",
      "include_colab_link": true
    },
    "kernelspec": {
      "name": "python3",
      "display_name": "Python 3"
    },
    "language_info": {
      "name": "python"
    }
  },
  "cells": [
    {
      "cell_type": "markdown",
      "metadata": {
        "id": "view-in-github",
        "colab_type": "text"
      },
      "source": [
        "<a href=\"https://colab.research.google.com/github/brendanpshea/computing_concepts_python/blob/main/IntroCS_06_Dictionaries_Database.ipynb\" target=\"_parent\"><img src=\"https://colab.research.google.com/assets/colab-badge.svg\" alt=\"Open In Colab\"/></a>"
      ]
    },
    {
      "cell_type": "markdown",
      "source": [
        "# Data Structures for Real-World Information\n",
        "\n",
        "Welcome to our exploration of data storage in Python! In this chapter, we'll learn about three powerful ways to organize and manage information in our programs: dictionaries, JSON, and basic databases.\n",
        "\n",
        "As programmers, we constantly work with data - student records, game statistics, user profiles, and more. The way we structure this data affects how easily we can work with it. Imagine trying to find a specific word in a dictionary that has no alphabetical order, or searching for a product in an online store with no categories. Structure matters!\n",
        "\n",
        "We'll begin with Python dictionaries, a flexible way to store and retrieve information using descriptive labels. Then we'll see how these concepts extend into JSON, allowing our programs to save data to files and share it with other applications. Finally, we'll take our first steps into the world of databases, seeing how they build upon these same fundamentals but add power and reliability.\n",
        "\n",
        "By the end of this chapter, you'll have three essential tools for working with real-world data in your Python programs!"
      ],
      "metadata": {
        "id": "DUaeBhjM6zAi"
      }
    },
    {
      "cell_type": "markdown",
      "source": [
        "# Introduction: What Are Dictionaries?\n",
        "\n",
        "In Python, a **dictionary** is a collection that stores data as **key-value pairs**.\n",
        "\n",
        "* Unlike lists where items are accessed by position (index), dictionaries let you access values by their keys\n",
        "* Keys are like labels that help you find the information you need\n",
        "* Real-world example: an actual dictionary\n",
        "  * The word you look up is the \"key\"\n",
        "  * The definition you find is the \"value\"\n",
        "\n",
        "**Why dictionaries are important:**\n",
        "* Allow fast lookups of information\n",
        "* Make code more readable with descriptive keys\n",
        "* Perfect for storing related information together\n",
        "\n",
        "| Comparison | List | Dictionary |\n",
        "|------------|------|------------|\n",
        "| Access by | Index (position) | Key (label) |\n",
        "| Syntax | square brackets `[]` | curly braces `{}` |\n",
        "| Order | Maintained | Not guaranteed* |\n",
        "| Lookup speed | Slower for large lists | Very fast |\n",
        "\n",
        "*In Python 3.7+, dictionaries do preserve insertion order, but it's not their primary purpose"
      ],
      "metadata": {
        "id": "-nuOILnz605U"
      }
    },
    {
      "cell_type": "markdown",
      "source": [
        "# Dictionary Syntax: Creating and Using Key-Value Pairs\n",
        "\n",
        "Creating and using dictionaries in Python is straightforward. Here's how to work with these powerful data structures:\n",
        "\n",
        "## Creating a Dictionary\n",
        "\n",
        "* Use curly braces `{}` with key-value pairs separated by colons\n",
        "* Each pair is separated by commas"
      ],
      "metadata": {
        "id": "pXVykiZ47BVx"
      }
    },
    {
      "cell_type": "code",
      "source": [
        "# Empty dictionary\n",
        "my_dict = {}\n",
        "\n",
        "# Dictionary with initial values\n",
        "character = {\n",
        "    \"name\": \"Mario\",\n",
        "    \"speed\": 10,\n",
        "    \"favorite_course\": \"Rainbow Road\"\n",
        "}\n",
        "\n",
        "print(character)"
      ],
      "metadata": {
        "colab": {
          "base_uri": "https://localhost:8080/"
        },
        "id": "LthiHpf87D0H",
        "outputId": "aaf00158-4a7f-4b8b-df0d-5fcc56084d05"
      },
      "execution_count": 1,
      "outputs": [
        {
          "output_type": "stream",
          "name": "stdout",
          "text": [
            "{'name': 'Mario', 'speed': 10, 'favorite_course': 'Rainbow Road'}\n"
          ]
        }
      ]
    },
    {
      "cell_type": "markdown",
      "source": [
        "## Accessing Values\n",
        "\n",
        "* Use square brackets `[]` with the key inside to access values\n",
        "* If the key doesn't exist, you'll get an error"
      ],
      "metadata": {
        "id": "XaH43RiG7Jst"
      }
    },
    {
      "cell_type": "code",
      "source": [
        "# Get a character's name\n",
        "character_name = character[\"name\"]    # Returns \"Mario\"\n",
        "\n",
        "# Try to access a value that doesn't exist\n",
        "# character[\"power_up\"]    # Would cause a KeyError!"
      ],
      "metadata": {
        "id": "Yo5uIoJx7LYQ"
      },
      "execution_count": 2,
      "outputs": []
    },
    {
      "cell_type": "markdown",
      "source": [
        "**Important:** Keys must be **immutable** objects (like strings, numbers, or tuples), while values can be any data type."
      ],
      "metadata": {
        "id": "4EwjBYMv7NPG"
      }
    },
    {
      "cell_type": "markdown",
      "source": [
        "# Dictionary Methods: get(), keys(), values(), and items()\n",
        "\n",
        "Python dictionaries come with useful built-in methods that make working with them easier and safer.\n",
        "\n",
        "## Safe Access with get()\n",
        "\n",
        "The **get()** method is a safer way to access dictionary values:"
      ],
      "metadata": {
        "id": "u6wl865X7Vva"
      }
    },
    {
      "cell_type": "code",
      "source": [
        "character = {\"name\": \"Rosalina\", \"speed\": 8}\n",
        "\n",
        "my_name = character.get(\"name\")\n",
        "print(my_name)\n",
        "\n",
        "# missing a value\n",
        "course = character.get(\"favorite_course\")\n",
        "print(course)\n",
        "\n",
        "# Using get() with a default value\n",
        "power_up = character.get(\"power_up\", \"Not Specified\")\n",
        "print(power_up)\n"
      ],
      "metadata": {
        "colab": {
          "base_uri": "https://localhost:8080/"
        },
        "id": "lZ1Tw_vZ7WVG",
        "outputId": "cdfbeeee-1fe7-4324-f4e5-ed70ac5ed363"
      },
      "execution_count": 7,
      "outputs": [
        {
          "output_type": "stream",
          "name": "stdout",
          "text": [
            "Rosalina\n",
            "None\n",
            "Not Specified\n"
          ]
        }
      ]
    },
    {
      "cell_type": "markdown",
      "source": [
        "## Viewing Dictionary Contents\n",
        "\n",
        "* **keys()** - Returns all the keys in the dictionary\n",
        "* **values()** - Returns all the values in the dictionary\n",
        "* **items()** - Returns all key-value pairs as tuples"
      ],
      "metadata": {
        "id": "5Os0w_U37-mz"
      }
    },
    {
      "cell_type": "code",
      "source": [
        "# Working with a character dictionary\n",
        "character = {\"name\": \"Yoshi\", \"speed\": 9, \"favorite_course\": \"Yoshi Circuit\"}\n",
        "\n",
        "# Print all keys\n",
        "print(character.keys())"
      ],
      "metadata": {
        "colab": {
          "base_uri": "https://localhost:8080/"
        },
        "id": "O8jaR0bJ7_Ro",
        "outputId": "5f5416f6-b39f-4bd6-f857-3e6173a6e8b1"
      },
      "execution_count": 8,
      "outputs": [
        {
          "output_type": "stream",
          "name": "stdout",
          "text": [
            "dict_keys(['name', 'speed', 'favorite_course'])\n"
          ]
        }
      ]
    },
    {
      "cell_type": "code",
      "source": [
        "# Print all values\n",
        "print(character.values())\n"
      ],
      "metadata": {
        "colab": {
          "base_uri": "https://localhost:8080/"
        },
        "id": "s727yx6Y8KRo",
        "outputId": "c3d0bbf5-916c-4ab4-aba6-d4ae93c83e25"
      },
      "execution_count": 9,
      "outputs": [
        {
          "output_type": "stream",
          "name": "stdout",
          "text": [
            "dict_values(['Yoshi', 9, 'Yoshi Circuit'])\n"
          ]
        }
      ]
    },
    {
      "cell_type": "code",
      "source": [
        "print(character.items())"
      ],
      "metadata": {
        "colab": {
          "base_uri": "https://localhost:8080/"
        },
        "id": "lxMI2BzI8MOS",
        "outputId": "9326f4b3-4d61-4684-f119-b249e5e9109a"
      },
      "execution_count": 10,
      "outputs": [
        {
          "output_type": "stream",
          "name": "stdout",
          "text": [
            "dict_items([('name', 'Yoshi'), ('speed', 9), ('favorite_course', 'Yoshi Circuit')])\n"
          ]
        }
      ]
    },
    {
      "cell_type": "markdown",
      "source": [
        "\n",
        "| Method | Returns | Common Use |\n",
        "|--------|---------|------------|\n",
        "| get(key, default) | Value or default | Safe access to values |\n",
        "| keys() | View of all keys | Checking if a key exists |\n",
        "| values() | View of all values | Processing all values |\n",
        "| items() | View of all (key, value) tuples | Looping through dictionary |"
      ],
      "metadata": {
        "id": "1GWY5GWV8O18"
      }
    },
    {
      "cell_type": "markdown",
      "source": [
        "# Modifying Dictionaries: Adding, Changing, and Removing Data\n",
        "\n",
        "Unlike strings and tuples, dictionaries are **mutable**, meaning we can change their contents after creation. Let's explore how to modify dictionaries with Mario Kart examples:\n",
        "\n",
        "## Adding or Updating Values\n",
        "\n",
        "* To add a new key-value pair, simply assign a value to a new key\n",
        "* To update an existing value, assign a new value to an existing key"
      ],
      "metadata": {
        "id": "AM2mb1JN8kFs"
      }
    },
    {
      "cell_type": "code",
      "source": [
        "\n",
        "character = {\"name\": \"Toad\", \"speed\": 3, \"acceleration\": 5}\n",
        "\n",
        "# Add a new key-value pair\n",
        "character[\"special_item\"] = \"Golden Mushroom\"\n",
        "\n",
        "# Update an existing value\n",
        "character[\"speed\"] = 4  # Toad got a speed boost!\n",
        "\n",
        "# Display the updated character\n",
        "character"
      ],
      "metadata": {
        "colab": {
          "base_uri": "https://localhost:8080/"
        },
        "id": "ljUncp5C8k9h",
        "outputId": "2e2e2e15-fdc7-419f-cc4c-6f5eeffa83d6"
      },
      "execution_count": 11,
      "outputs": [
        {
          "output_type": "execute_result",
          "data": {
            "text/plain": [
              "{'name': 'Toad',\n",
              " 'speed': 4,\n",
              " 'acceleration': 5,\n",
              " 'special_item': 'Golden Mushroom'}"
            ]
          },
          "metadata": {},
          "execution_count": 11
        }
      ]
    },
    {
      "cell_type": "markdown",
      "source": [
        "There are several ways to remove items from a dictionary:"
      ],
      "metadata": {
        "id": "4HC6IIge8pjM"
      }
    },
    {
      "cell_type": "code",
      "source": [
        "# Remove special_item and get its value\n",
        "item = character.pop(\"special_item\")\n",
        "print(f\"Removed item: {item}\")  # Prints: Removed item: Golden Mushroom\n",
        "\n",
        "# Delete the speed entry\n",
        "del character[\"speed\"]\n",
        "print(\"After deleting speed:\", character)  # Shows dictionary without speed\n",
        "\n",
        "# Clear all entries\n",
        "character.clear()  # Dictionary is now empty: {}\n",
        "print(\"After clearing:\", character)"
      ],
      "metadata": {
        "colab": {
          "base_uri": "https://localhost:8080/"
        },
        "id": "nl-B3sGN8uzd",
        "outputId": "ab112b80-4731-4574-f6a4-d242d5cdda5d"
      },
      "execution_count": 12,
      "outputs": [
        {
          "output_type": "stream",
          "name": "stdout",
          "text": [
            "Removed item: Golden Mushroom\n",
            "After deleting speed: {'name': 'Toad', 'acceleration': 5}\n",
            "After clearing: {}\n"
          ]
        }
      ]
    },
    {
      "cell_type": "markdown",
      "source": [
        "## Dictionary Methods for Modification\n",
        "We can also modify data with dictionaries:\n"
      ],
      "metadata": {
        "id": "WHLt-blZ820A"
      }
    },
    {
      "cell_type": "code",
      "source": [
        "# Start with a fresh character\n",
        "character = {\"name\": \"Yoshi\", \"speed\": 4}\n",
        "\n",
        "# Add multiple key-value pairs at once\n",
        "character.update({\"acceleration\": 4, \"handling\": 5, \"weight_class\": \"Medium\"})\n",
        "print(character)\n",
        "\n",
        "# Set default value if key doesn't exist (won't change existing values)\n",
        "character.setdefault(\"special_item\", \"Egg\")  # Adds this key-value pair\n",
        "character.setdefault(\"speed\", 9)  # Won't change existing speed value\n",
        "print(character)\n",
        "\n",
        "# Remove and return the last inserted item (Python 3.7+)\n",
        "last_item = character.popitem()\n",
        "print(f\"Removed: {last_item}\")\n",
        "print(character)"
      ],
      "metadata": {
        "colab": {
          "base_uri": "https://localhost:8080/"
        },
        "id": "eVFNjo3y9EZi",
        "outputId": "52f5598d-cc48-4f9a-ce93-3cccc3857278"
      },
      "execution_count": 13,
      "outputs": [
        {
          "output_type": "stream",
          "name": "stdout",
          "text": [
            "{'name': 'Yoshi', 'speed': 4, 'acceleration': 4, 'handling': 5, 'weight_class': 'Medium'}\n",
            "{'name': 'Yoshi', 'speed': 4, 'acceleration': 4, 'handling': 5, 'weight_class': 'Medium', 'special_item': 'Egg'}\n",
            "Removed: ('special_item', 'Egg')\n",
            "{'name': 'Yoshi', 'speed': 4, 'acceleration': 4, 'handling': 5, 'weight_class': 'Medium'}\n"
          ]
        }
      ]
    },
    {
      "cell_type": "markdown",
      "source": [
        "# Python Dictionary Methods Reference Table\n",
        "\n",
        "This table summarizes the most important dictionary methods.\n",
        "\n",
        "| Method | Description | Mario Kart Example | Output |\n",
        "|--------|-------------|-------------------|--------|\n",
        "| `dict[key]` | Get value for key (error if key missing) | `racer[\"name\"]` | `\"Mario\"` |\n",
        "| `dict.get(key, default)` | Get value with optional default | `racer.get(\"power_up\", \"None\")` | `\"None\"` (if key missing) |\n",
        "| `dict[key] = value` | Add or update a key-value pair | `racer[\"special_item\"] = \"Star\"` | N/A |\n",
        "| `dict.update(other_dict)` | Add multiple key-value pairs | `racer.update({\"speed\": 5, \"handling\": 4})` | N/A |\n",
        "| `del dict[key]` | Remove a key-value pair | `del racer[\"power_up\"]` | N/A |\n",
        "| `dict.pop(key)` | Remove key and return its value | `item = racer.pop(\"special_item\")` | `\"Star\"` |\n",
        "| `dict.popitem()` | Remove and return last key-value pair | `last = racer.popitem()` | `(\"handling\", 4)` |\n",
        "| `dict.clear()` | Remove all items | `racer.clear()` | N/A |\n",
        "| `key in dict` | Check if key exists | `\"speed\" in racer` | `True` or `False` |\n",
        "| `dict.keys()` | Return view of all keys | `racer.keys()` | `dict_keys(['name', 'speed', ...])` |\n",
        "| `dict.values()` | Return view of all values | `racer.values()` | `dict_values(['Mario', 5, ...])` |\n",
        "| `dict.items()` | Return view of all key-value pairs | `racer.items()` | `dict_items([('name', 'Mario'), ...])` |\n",
        "| `dict.setdefault(key, default)` | Get value or set default if key missing | `racer.setdefault(\"kart\", \"Standard\")` | `\"Standard\"` (if key missing) |\n",
        "| `len(dict)` | Get number of items | `len(racer)` | `4` |\n",
        "| `dict.copy()` | Create a shallow copy | `racer_copy = racer.copy()` | Copy of dictionary |\n",
        "| `dict1 \\| dict2` | Merge dictionaries (Python 3.9+) | `racer \\| power_ups` | Merged dictionary |\n",
        "| `{**dict1, **dict2}` | Merge dictionaries (older Python) | `{**racer, **power_ups}` | Merged dictionary |\n",
        "| `dict.fromkeys(keys, value)` | Create dict from keys with default value | `dict.fromkeys([\"Mario\", \"Luigi\"], 0)` | `{\"Mario\": 0, \"Luigi\": 0}` |"
      ],
      "metadata": {
        "id": "2M-6cedv9S2a"
      }
    },
    {
      "cell_type": "markdown",
      "source": [
        "# Practical Example: Mario Kart Score Tracker\n",
        "\n",
        "Let's build a simple Mario Kart score tracker using dictionaries. This example shows how dictionaries shine when organizing related information.\n",
        "\n",
        "## Basic Character Score Dictionary"
      ],
      "metadata": {
        "id": "DK8R-QIX9255"
      }
    },
    {
      "cell_type": "code",
      "source": [
        "# Create a dictionary for a single character\n",
        "racer = {\n",
        "    \"name\": \"Peach\",\n",
        "    \"id\": \"R001\",\n",
        "    \"scores\": {\n",
        "        \"Mushroom Cup\": 92,\n",
        "        \"Flower Cup\": 88,\n",
        "        \"Star Cup\": 95,\n",
        "        \"Special Cup\": 89\n",
        "    }\n",
        "}"
      ],
      "metadata": {
        "id": "M9isEWzt-ATe"
      },
      "execution_count": 15,
      "outputs": []
    },
    {
      "cell_type": "markdown",
      "source": [
        "## Working with the Score Tracker\n",
        "\n",
        "Here are some operations we might want to perform:\n",
        "\n",
        "* Calculate average score\n",
        "* Find best and worst cups\n",
        "* Add new cup scores\n",
        "* Generate a race report"
      ],
      "metadata": {
        "id": "Gvj1wEQx-Dt7"
      }
    },
    {
      "cell_type": "code",
      "source": [
        "# Get average\n",
        "scores = racer[\"scores\"]\n",
        "average = sum(scores.values()) / len(scores)\n",
        "print(f\"Average score: {average:.1f}\")"
      ],
      "metadata": {
        "colab": {
          "base_uri": "https://localhost:8080/"
        },
        "id": "4dT0V8ol-IH5",
        "outputId": "0826287a-926f-4e13-fa63-718d2b3a3d41"
      },
      "execution_count": 16,
      "outputs": [
        {
          "output_type": "stream",
          "name": "stdout",
          "text": [
            "Average score: 91.0\n"
          ]
        }
      ]
    },
    {
      "cell_type": "code",
      "source": [
        "# Find the best cup\n",
        "best_cup = max(scores, key=scores.get)\n",
        "best_score = scores[best_cup]\n",
        "print(f\"Best cup: {best_cup} ({best_score})\")"
      ],
      "metadata": {
        "colab": {
          "base_uri": "https://localhost:8080/"
        },
        "id": "FLGj_cGt9ARh",
        "outputId": "b9281a6c-08b3-4959-f4e2-8f6ff22a635b"
      },
      "execution_count": 17,
      "outputs": [
        {
          "output_type": "stream",
          "name": "stdout",
          "text": [
            "Best cup: Star Cup (95)\n"
          ]
        }
      ]
    },
    {
      "cell_type": "code",
      "source": [
        "# Add a new cup score\n",
        "scores[\"Banana Cup\"] = 91\n",
        "\n",
        "# Print a simple race report\n",
        "print(f\"Race Report for {racer['name']} (ID: {racer['id']})\")\n",
        "for cup, score in scores.items():\n",
        "    print(f\"- {cup}: {score}\")"
      ],
      "metadata": {
        "colab": {
          "base_uri": "https://localhost:8080/"
        },
        "id": "ywYThrp_-TqT",
        "outputId": "d907c5b2-43d6-4a3d-e4e9-bcd35f440623"
      },
      "execution_count": 19,
      "outputs": [
        {
          "output_type": "stream",
          "name": "stdout",
          "text": [
            "Race Report for Peach (ID: R001)\n",
            "- Mushroom Cup: 92\n",
            "- Flower Cup: 88\n",
            "- Star Cup: 95\n",
            "- Special Cup: 89\n",
            "- Banana Cup: 91\n"
          ]
        }
      ]
    },
    {
      "cell_type": "markdown",
      "source": [
        "## Benefits of Using Dictionaries Here\n",
        "\n",
        "* Cup names as keys make the code readable\n",
        "* Easy to add new cups without changing code structure\n",
        "* Fast lookups when searching for specific cup scores\n",
        "* Nested dictionaries allow organizing complex racer data"
      ],
      "metadata": {
        "id": "IHRKHhb--cvP"
      }
    },
    {
      "cell_type": "markdown",
      "source": [
        "# Nested Dictionaries: Organizing Complex Information\n",
        "\n",
        "Dictionaries can contain other dictionaries as values, creating **nested dictionaries**. This is incredibly useful for organizing complex, hierarchical data.\n",
        "\n",
        "## What is a Nested Dictionary?\n",
        "\n",
        "A nested dictionary is simply a dictionary that contains one or more dictionaries as values:\n"
      ],
      "metadata": {
        "id": "iPSUmX_H-pWI"
      }
    },
    {
      "cell_type": "code",
      "source": [
        "# A group of Mario Kart racers with their cup scores\n",
        "mario_kart_records = {\n",
        "    \"Mario\": {\n",
        "        \"Mushroom Cup\": 92,\n",
        "        \"Flower Cup\": 88,\n",
        "        \"Star Cup\": 95\n",
        "    },\n",
        "    \"Luigi\": {\n",
        "        \"Mushroom Cup\": 95,\n",
        "        \"Flower Cup\": 92,\n",
        "        \"Star Cup\": 88\n",
        "    },\n",
        "    \"Peach\": {\n",
        "        \"Mushroom Cup\": 85,\n",
        "        \"Flower Cup\": 95,\n",
        "        \"Star Cup\": 92\n",
        "    }\n",
        "}"
      ],
      "metadata": {
        "id": "L0JNVv8S-X7G"
      },
      "execution_count": 20,
      "outputs": []
    },
    {
      "cell_type": "markdown",
      "source": [
        "## Accessing Nested Dictionary Values\n",
        "\n",
        "To access values in nested dictionaries, use multiple square brackets in sequence:"
      ],
      "metadata": {
        "id": "mHwWhZco-s1i"
      }
    },
    {
      "cell_type": "code",
      "source": [
        "# Get Mario's Star Cup score\n",
        "mario_star_score = mario_kart_records[\"Mario\"][\"Star Cup\"]\n",
        "print(mario_star_score)\n"
      ],
      "metadata": {
        "colab": {
          "base_uri": "https://localhost:8080/"
        },
        "id": "OuAL9YA_-vMN",
        "outputId": "33ea9bef-56b7-464b-b00a-385563e803de"
      },
      "execution_count": 21,
      "outputs": [
        {
          "output_type": "stream",
          "name": "stdout",
          "text": [
            "95\n"
          ]
        }
      ]
    },
    {
      "cell_type": "code",
      "source": [
        "\n",
        "# Get all of Luigi's scores\n",
        "luigi_scores = mario_kart_records[\"Luigi\"]\n",
        "print(luigi_scores)"
      ],
      "metadata": {
        "colab": {
          "base_uri": "https://localhost:8080/"
        },
        "id": "B4cIgA7K-09i",
        "outputId": "0143aefc-20fa-4d3f-96d6-8b787c4f4176"
      },
      "execution_count": 22,
      "outputs": [
        {
          "output_type": "stream",
          "name": "stdout",
          "text": [
            "{'Mushroom Cup': 95, 'Flower Cup': 92, 'Star Cup': 88}\n"
          ]
        }
      ]
    },
    {
      "cell_type": "markdown",
      "source": [
        "## Real-World Uses of Nested Dictionaries\n",
        "\n",
        "| Application | Structure Example | Benefits |\n",
        "|-------------|-------------------|----------|\n",
        "| Game Stats | `{\"games\": {\"MarioKart\": {\"players\": {...}}}}` | Organizes by game, then by player |\n",
        "| Inventory Systems | `{\"characters\": {\"Mario\": {\"items\": {...}}}}` | Tracks items by character |\n",
        "| Party Games | `{\"minigames\": {\"LuigiPinball\": {\"scores\": {...}}}}` | Groups scores logically |\n",
        "\n",
        "**Best Practice:** Don't nest dictionaries too deeply (more than 2-3 levels) as it makes your code harder to read and maintain."
      ],
      "metadata": {
        "id": "6mJwcWCD-4wp"
      }
    },
    {
      "cell_type": "markdown",
      "source": [
        "# Introduction to JSON: Dictionaries for the Web\n",
        "\n",
        "**JSON** (JavaScript Object Notation) is a lightweight data format that looks remarkably similar to Python dictionaries. It's the standard way to share data between programs, especially on the web.\n",
        "\n",
        "## What is JSON?\n",
        "\n",
        "* JSON is a text-based data format that humans can read and computers can easily process\n",
        "* It stands for **JavaScript Object Notation** but is used by many programming languages\n",
        "* It looks almost exactly like a Python dictionary (with a few small differences)\n",
        "\n",
        "## Why JSON Matters\n",
        "\n",
        "* Allows programs to save data to files that can be read later\n",
        "* Enables different applications to share data (even if written in different languages)\n",
        "* Used by most web APIs (Application Programming Interfaces)\n",
        "* Perfect for:\n",
        "  * Saving game progress\n",
        "  * Storing app settings\n",
        "  * Sending data to/from websites\n",
        "  * Sharing data between different programs\n"
      ],
      "metadata": {
        "id": "J9XCcwU7_FJ8"
      }
    },
    {
      "cell_type": "markdown",
      "source": [
        "## Basic JSON Structure\n",
        "\n",
        "JSON data is built with these components:\n",
        "* **Objects**: Collections of key-value pairs in curly braces `{}`\n",
        "* **Arrays**: Ordered lists of values in square brackets `[]`\n",
        "* **Values**: Can be strings, numbers, objects, arrays, booleans, or null\n",
        "\n",
        "## JSON Example\n",
        "\n",
        "```javascript\n",
        "{\n",
        "  \"character\": \"Mario\",             // String (must use double quotes)\n",
        "  \"speed\": 5,                       // Number (no quotes)\n",
        "  \"isStarPlayer\": true,             // Boolean (lowercase)\n",
        "  \"specialItems\": [                 // Array\n",
        "    \"Fireball\",\n",
        "    \"Star\",\n",
        "    \"Super Mushroom\"\n",
        "  ],\n",
        "  \"stats\": {                        // Nested object\n",
        "    \"acceleration\": 3,\n",
        "    \"handling\": 4,\n",
        "    \"weight\": \"medium\"\n",
        "  },\n",
        "  \"currentPowerUp\": null            // null value\n",
        "}\n",
        "```\n",
        "*Note: Comments (lines with `//`) aren't actually allowed in JSON - they're just shown here for explanation.*\n",
        "\n",
        "\n",
        "## Comparing Python & JSON Syntax\n",
        "\n",
        "| Feature | Python | JSON | Notes |\n",
        "|---------|--------|------|-------|\n",
        "| String Quotes | `'single'` or `\"double\"` | `\"double\"` only | JSON requires double quotes for strings |\n",
        "| Keys | Any immutable type | Strings only (with double quotes) | `{\"name\": \"value\"}` not `{name: \"value\"}` |\n",
        "| Comments | `# comment` | Not allowed | JSON doesn't support comments |\n",
        "| Trailing commas | Allowed (`[1, 2, 3,]`) | Not allowed | Must be `[1, 2, 3]` in JSON |\n",
        "| Booleans | `True`, `False` | `true`, `false` | Lowercase in JSON |\n",
        "| None/null | `None` | `null` | Different spelling |\n"
      ],
      "metadata": {
        "id": "kvrcOvSU_gqM"
      }
    },
    {
      "cell_type": "markdown",
      "source": [],
      "metadata": {
        "id": "b_q9rJH4_9Jx"
      }
    },
    {
      "cell_type": "code",
      "source": [],
      "metadata": {
        "id": "DzW59wvA_kg0"
      },
      "execution_count": null,
      "outputs": []
    }
  ]
}