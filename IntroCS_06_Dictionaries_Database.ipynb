{
  "nbformat": 4,
  "nbformat_minor": 0,
  "metadata": {
    "colab": {
      "provenance": [],
      "authorship_tag": "ABX9TyOcAq1zozNs2hZv0/wgI7vd",
      "include_colab_link": true
    },
    "kernelspec": {
      "name": "python3",
      "display_name": "Python 3"
    },
    "language_info": {
      "name": "python"
    },
    "widgets": {
      "application/vnd.jupyter.widget-state+json": {
        "914f782860b744e28dcd41fb03a9c95c": {
          "model_module": "@jupyter-widgets/controls",
          "model_name": "HBoxModel",
          "model_module_version": "1.5.0",
          "state": {
            "_dom_classes": [],
            "_model_module": "@jupyter-widgets/controls",
            "_model_module_version": "1.5.0",
            "_model_name": "HBoxModel",
            "_view_count": null,
            "_view_module": "@jupyter-widgets/controls",
            "_view_module_version": "1.5.0",
            "_view_name": "HBoxView",
            "box_style": "",
            "children": [
              "IPY_MODEL_8469e3240bf944689c0ad10ddc563bea",
              "IPY_MODEL_6047887d05284283ba33831bb31a3cde"
            ],
            "layout": "IPY_MODEL_f1298e54e9544ad2a3df28a8c43c02be"
          }
        },
        "8469e3240bf944689c0ad10ddc563bea": {
          "model_module": "@jupyter-widgets/controls",
          "model_name": "VBoxModel",
          "model_module_version": "1.5.0",
          "state": {
            "_dom_classes": [],
            "_model_module": "@jupyter-widgets/controls",
            "_model_module_version": "1.5.0",
            "_model_name": "VBoxModel",
            "_view_count": null,
            "_view_module": "@jupyter-widgets/controls",
            "_view_module_version": "1.5.0",
            "_view_name": "VBoxView",
            "box_style": "",
            "children": [
              "IPY_MODEL_a809d12c94164ed4a6ad7b9b758baaea",
              "IPY_MODEL_79cf3ae103004210b72c61047a073151",
              "IPY_MODEL_8661f05e71ff4d24971da261864b8f38",
              "IPY_MODEL_2030bef14a4f4e43acc2948879b00d0b",
              "IPY_MODEL_df88e693f03a4b0ebaca8eced17152ec"
            ],
            "layout": "IPY_MODEL_9b9ff94d92834cfcb9fc6a8b1cd6b6bf"
          }
        },
        "6047887d05284283ba33831bb31a3cde": {
          "model_module": "@jupyter-widgets/controls",
          "model_name": "VBoxModel",
          "model_module_version": "1.5.0",
          "state": {
            "_dom_classes": [],
            "_model_module": "@jupyter-widgets/controls",
            "_model_module_version": "1.5.0",
            "_model_name": "VBoxModel",
            "_view_count": null,
            "_view_module": "@jupyter-widgets/controls",
            "_view_module_version": "1.5.0",
            "_view_name": "VBoxView",
            "box_style": "",
            "children": [
              "IPY_MODEL_581b3cdd085e4bb9b3d8ce21a80e089c",
              "IPY_MODEL_5a24fc65eabc4562829fa23c633c14c3",
              "IPY_MODEL_e5c3934d52814a86bcf73831104d3241",
              "IPY_MODEL_6b95213da1d546c0ba9453b4aae9149b",
              "IPY_MODEL_c56231edc916405fa8877cfe7797116e",
              "IPY_MODEL_42b6bae8d3e947bdb312f99f3ec2fca4"
            ],
            "layout": "IPY_MODEL_84e24c2999a542f49f83c87c6e584ce6"
          }
        },
        "f1298e54e9544ad2a3df28a8c43c02be": {
          "model_module": "@jupyter-widgets/base",
          "model_name": "LayoutModel",
          "model_module_version": "1.2.0",
          "state": {
            "_model_module": "@jupyter-widgets/base",
            "_model_module_version": "1.2.0",
            "_model_name": "LayoutModel",
            "_view_count": null,
            "_view_module": "@jupyter-widgets/base",
            "_view_module_version": "1.2.0",
            "_view_name": "LayoutView",
            "align_content": null,
            "align_items": null,
            "align_self": null,
            "border": null,
            "bottom": null,
            "display": null,
            "flex": null,
            "flex_flow": null,
            "grid_area": null,
            "grid_auto_columns": null,
            "grid_auto_flow": null,
            "grid_auto_rows": null,
            "grid_column": null,
            "grid_gap": null,
            "grid_row": null,
            "grid_template_areas": null,
            "grid_template_columns": null,
            "grid_template_rows": null,
            "height": null,
            "justify_content": null,
            "justify_items": null,
            "left": null,
            "margin": null,
            "max_height": null,
            "max_width": null,
            "min_height": null,
            "min_width": null,
            "object_fit": null,
            "object_position": null,
            "order": null,
            "overflow": null,
            "overflow_x": null,
            "overflow_y": null,
            "padding": null,
            "right": null,
            "top": null,
            "visibility": null,
            "width": "100%"
          }
        },
        "a809d12c94164ed4a6ad7b9b758baaea": {
          "model_module": "@jupyter-widgets/controls",
          "model_name": "IntProgressModel",
          "model_module_version": "1.5.0",
          "state": {
            "_dom_classes": [],
            "_model_module": "@jupyter-widgets/controls",
            "_model_module_version": "1.5.0",
            "_model_name": "IntProgressModel",
            "_view_count": null,
            "_view_module": "@jupyter-widgets/controls",
            "_view_module_version": "1.5.0",
            "_view_name": "ProgressView",
            "bar_style": "",
            "description": "Progress:",
            "description_tooltip": null,
            "layout": "IPY_MODEL_40abe9e895714a0db86b2015955bcdd9",
            "max": 23,
            "min": 0,
            "orientation": "horizontal",
            "style": "IPY_MODEL_805ae722243d47a9b0be4fbb541a6a8c",
            "value": 0
          }
        },
        "79cf3ae103004210b72c61047a073151": {
          "model_module": "@jupyter-widgets/output",
          "model_name": "OutputModel",
          "model_module_version": "1.0.0",
          "state": {
            "_dom_classes": [],
            "_model_module": "@jupyter-widgets/output",
            "_model_module_version": "1.0.0",
            "_model_name": "OutputModel",
            "_view_count": null,
            "_view_module": "@jupyter-widgets/output",
            "_view_module_version": "1.0.0",
            "_view_name": "OutputView",
            "layout": "IPY_MODEL_1599b636901544f297457e8a5fd53e34",
            "msg_id": "",
            "outputs": [
              {
                "output_type": "display_data",
                "data": {
                  "text/plain": "<IPython.core.display.HTML object>",
                  "text/html": "<h3>Question 1 of 23</h3><p>Write a function that creates and returns an empty dictionary. This will represent an empty library catalog.</p>"
                },
                "metadata": {}
              }
            ]
          }
        },
        "8661f05e71ff4d24971da261864b8f38": {
          "model_module": "@jupyter-widgets/controls",
          "model_name": "TextareaModel",
          "model_module_version": "1.5.0",
          "state": {
            "_dom_classes": [],
            "_model_module": "@jupyter-widgets/controls",
            "_model_module_version": "1.5.0",
            "_model_name": "TextareaModel",
            "_view_count": null,
            "_view_module": "@jupyter-widgets/controls",
            "_view_module_version": "1.5.0",
            "_view_name": "TextareaView",
            "continuous_update": true,
            "description": "",
            "description_tooltip": null,
            "disabled": false,
            "layout": "IPY_MODEL_54b52ab4906442e5913b2adf92f4a910",
            "placeholder": "​",
            "rows": null,
            "style": "IPY_MODEL_596a2a5b8dc0490e8ab592764bb61042",
            "value": "def create_empty_library():\n    pass"
          }
        },
        "2030bef14a4f4e43acc2948879b00d0b": {
          "model_module": "@jupyter-widgets/controls",
          "model_name": "HBoxModel",
          "model_module_version": "1.5.0",
          "state": {
            "_dom_classes": [],
            "_model_module": "@jupyter-widgets/controls",
            "_model_module_version": "1.5.0",
            "_model_name": "HBoxModel",
            "_view_count": null,
            "_view_module": "@jupyter-widgets/controls",
            "_view_module_version": "1.5.0",
            "_view_name": "HBoxView",
            "box_style": "",
            "children": [
              "IPY_MODEL_49711525615d49e98a1218704e16e9ba",
              "IPY_MODEL_2fd12e4be6cb402189ffe381b8b87688",
              "IPY_MODEL_f4e4fe69b32548f89da45fa5823d14d4",
              "IPY_MODEL_65c05652777044b0b50002d30d7e689a",
              "IPY_MODEL_a5805e86bb1842d48fee3d43e6c51b9d"
            ],
            "layout": "IPY_MODEL_fbdc084dd8e6490bbe31ba80856ae369"
          }
        },
        "df88e693f03a4b0ebaca8eced17152ec": {
          "model_module": "@jupyter-widgets/output",
          "model_name": "OutputModel",
          "model_module_version": "1.0.0",
          "state": {
            "_dom_classes": [],
            "_model_module": "@jupyter-widgets/output",
            "_model_module_version": "1.0.0",
            "_model_name": "OutputModel",
            "_view_count": null,
            "_view_module": "@jupyter-widgets/output",
            "_view_module_version": "1.0.0",
            "_view_name": "OutputView",
            "layout": "IPY_MODEL_0a648d656ca14869a98c0df329fd1bc6",
            "msg_id": "",
            "outputs": []
          }
        },
        "9b9ff94d92834cfcb9fc6a8b1cd6b6bf": {
          "model_module": "@jupyter-widgets/base",
          "model_name": "LayoutModel",
          "model_module_version": "1.2.0",
          "state": {
            "_model_module": "@jupyter-widgets/base",
            "_model_module_version": "1.2.0",
            "_model_name": "LayoutModel",
            "_view_count": null,
            "_view_module": "@jupyter-widgets/base",
            "_view_module_version": "1.2.0",
            "_view_name": "LayoutView",
            "align_content": null,
            "align_items": null,
            "align_self": null,
            "border": null,
            "bottom": null,
            "display": null,
            "flex": null,
            "flex_flow": null,
            "grid_area": null,
            "grid_auto_columns": null,
            "grid_auto_flow": null,
            "grid_auto_rows": null,
            "grid_column": null,
            "grid_gap": null,
            "grid_row": null,
            "grid_template_areas": null,
            "grid_template_columns": null,
            "grid_template_rows": null,
            "height": null,
            "justify_content": null,
            "justify_items": null,
            "left": null,
            "margin": null,
            "max_height": null,
            "max_width": null,
            "min_height": null,
            "min_width": null,
            "object_fit": null,
            "object_position": null,
            "order": null,
            "overflow": null,
            "overflow_x": null,
            "overflow_y": null,
            "padding": null,
            "right": null,
            "top": null,
            "visibility": null,
            "width": "50%"
          }
        },
        "581b3cdd085e4bb9b3d8ce21a80e089c": {
          "model_module": "@jupyter-widgets/controls",
          "model_name": "HTMLModel",
          "model_module_version": "1.5.0",
          "state": {
            "_dom_classes": [],
            "_model_module": "@jupyter-widgets/controls",
            "_model_module_version": "1.5.0",
            "_model_name": "HTMLModel",
            "_view_count": null,
            "_view_module": "@jupyter-widgets/controls",
            "_view_module_version": "1.5.0",
            "_view_name": "HTMLView",
            "description": "",
            "description_tooltip": null,
            "layout": "IPY_MODEL_34d9492460a140b6bbec6dd42260bc0d",
            "placeholder": "​",
            "style": "IPY_MODEL_e06edc0185d941ffb0398f05247635f5",
            "value": "<h3>Sample Inputs and Outputs</h3>"
          }
        },
        "5a24fc65eabc4562829fa23c633c14c3": {
          "model_module": "@jupyter-widgets/output",
          "model_name": "OutputModel",
          "model_module_version": "1.0.0",
          "state": {
            "_dom_classes": [],
            "_model_module": "@jupyter-widgets/output",
            "_model_module_version": "1.0.0",
            "_model_name": "OutputModel",
            "_view_count": null,
            "_view_module": "@jupyter-widgets/output",
            "_view_module_version": "1.0.0",
            "_view_name": "OutputView",
            "layout": "IPY_MODEL_f6f7316a91ba42caa674421dc50ff306",
            "msg_id": "",
            "outputs": [
              {
                "output_type": "display_data",
                "data": {
                  "text/plain": "<IPython.core.display.HTML object>",
                  "text/html": "<table border=\"1\" class=\"dataframe\">\n  <thead>\n    <tr style=\"text-align: right;\">\n      <th>Input</th>\n      <th>Output</th>\n    </tr>\n  </thead>\n  <tbody>\n    <tr>\n      <td>[]</td>\n      <td>{}</td>\n    </tr>\n  </tbody>\n</table>"
                },
                "metadata": {}
              }
            ]
          }
        },
        "e5c3934d52814a86bcf73831104d3241": {
          "model_module": "@jupyter-widgets/controls",
          "model_name": "HTMLModel",
          "model_module_version": "1.5.0",
          "state": {
            "_dom_classes": [],
            "_model_module": "@jupyter-widgets/controls",
            "_model_module_version": "1.5.0",
            "_model_name": "HTMLModel",
            "_view_count": null,
            "_view_module": "@jupyter-widgets/controls",
            "_view_module_version": "1.5.0",
            "_view_name": "HTMLView",
            "description": "",
            "description_tooltip": null,
            "layout": "IPY_MODEL_ba05c52b128f4d4095bd49036ceec354",
            "placeholder": "​",
            "style": "IPY_MODEL_f39faedd78e14e63a2a1948dfa6e0c47",
            "value": "<h3>Results</h3>"
          }
        },
        "6b95213da1d546c0ba9453b4aae9149b": {
          "model_module": "@jupyter-widgets/output",
          "model_name": "OutputModel",
          "model_module_version": "1.0.0",
          "state": {
            "_dom_classes": [],
            "_model_module": "@jupyter-widgets/output",
            "_model_module_version": "1.0.0",
            "_model_name": "OutputModel",
            "_view_count": null,
            "_view_module": "@jupyter-widgets/output",
            "_view_module_version": "1.0.0",
            "_view_name": "OutputView",
            "layout": "IPY_MODEL_c91b1b7f64f64891a5b6451c6bec05db",
            "msg_id": "",
            "outputs": []
          }
        },
        "c56231edc916405fa8877cfe7797116e": {
          "model_module": "@jupyter-widgets/controls",
          "model_name": "HTMLModel",
          "model_module_version": "1.5.0",
          "state": {
            "_dom_classes": [],
            "_model_module": "@jupyter-widgets/controls",
            "_model_module_version": "1.5.0",
            "_model_name": "HTMLModel",
            "_view_count": null,
            "_view_module": "@jupyter-widgets/controls",
            "_view_module_version": "1.5.0",
            "_view_name": "HTMLView",
            "description": "",
            "description_tooltip": null,
            "layout": "IPY_MODEL_5d0dd39742f84571a58efe6f672d9951",
            "placeholder": "​",
            "style": "IPY_MODEL_8974d8a14a8c4ccfafbf805b09baa1ce",
            "value": "<h3>Output</h3>"
          }
        },
        "42b6bae8d3e947bdb312f99f3ec2fca4": {
          "model_module": "@jupyter-widgets/output",
          "model_name": "OutputModel",
          "model_module_version": "1.0.0",
          "state": {
            "_dom_classes": [],
            "_model_module": "@jupyter-widgets/output",
            "_model_module_version": "1.0.0",
            "_model_name": "OutputModel",
            "_view_count": null,
            "_view_module": "@jupyter-widgets/output",
            "_view_module_version": "1.0.0",
            "_view_name": "OutputView",
            "layout": "IPY_MODEL_b39d88df7f9f4cb8b5faea097774408d",
            "msg_id": "",
            "outputs": []
          }
        },
        "84e24c2999a542f49f83c87c6e584ce6": {
          "model_module": "@jupyter-widgets/base",
          "model_name": "LayoutModel",
          "model_module_version": "1.2.0",
          "state": {
            "_model_module": "@jupyter-widgets/base",
            "_model_module_version": "1.2.0",
            "_model_name": "LayoutModel",
            "_view_count": null,
            "_view_module": "@jupyter-widgets/base",
            "_view_module_version": "1.2.0",
            "_view_name": "LayoutView",
            "align_content": null,
            "align_items": null,
            "align_self": null,
            "border": null,
            "bottom": null,
            "display": null,
            "flex": null,
            "flex_flow": null,
            "grid_area": null,
            "grid_auto_columns": null,
            "grid_auto_flow": null,
            "grid_auto_rows": null,
            "grid_column": null,
            "grid_gap": null,
            "grid_row": null,
            "grid_template_areas": null,
            "grid_template_columns": null,
            "grid_template_rows": null,
            "height": null,
            "justify_content": null,
            "justify_items": null,
            "left": null,
            "margin": null,
            "max_height": null,
            "max_width": null,
            "min_height": null,
            "min_width": null,
            "object_fit": null,
            "object_position": null,
            "order": null,
            "overflow": null,
            "overflow_x": null,
            "overflow_y": null,
            "padding": null,
            "right": null,
            "top": null,
            "visibility": null,
            "width": "50%"
          }
        },
        "40abe9e895714a0db86b2015955bcdd9": {
          "model_module": "@jupyter-widgets/base",
          "model_name": "LayoutModel",
          "model_module_version": "1.2.0",
          "state": {
            "_model_module": "@jupyter-widgets/base",
            "_model_module_version": "1.2.0",
            "_model_name": "LayoutModel",
            "_view_count": null,
            "_view_module": "@jupyter-widgets/base",
            "_view_module_version": "1.2.0",
            "_view_name": "LayoutView",
            "align_content": null,
            "align_items": null,
            "align_self": null,
            "border": null,
            "bottom": null,
            "display": null,
            "flex": null,
            "flex_flow": null,
            "grid_area": null,
            "grid_auto_columns": null,
            "grid_auto_flow": null,
            "grid_auto_rows": null,
            "grid_column": null,
            "grid_gap": null,
            "grid_row": null,
            "grid_template_areas": null,
            "grid_template_columns": null,
            "grid_template_rows": null,
            "height": null,
            "justify_content": null,
            "justify_items": null,
            "left": null,
            "margin": null,
            "max_height": null,
            "max_width": null,
            "min_height": null,
            "min_width": null,
            "object_fit": null,
            "object_position": null,
            "order": null,
            "overflow": null,
            "overflow_x": null,
            "overflow_y": null,
            "padding": null,
            "right": null,
            "top": null,
            "visibility": null,
            "width": "100%"
          }
        },
        "805ae722243d47a9b0be4fbb541a6a8c": {
          "model_module": "@jupyter-widgets/controls",
          "model_name": "ProgressStyleModel",
          "model_module_version": "1.5.0",
          "state": {
            "_model_module": "@jupyter-widgets/controls",
            "_model_module_version": "1.5.0",
            "_model_name": "ProgressStyleModel",
            "_view_count": null,
            "_view_module": "@jupyter-widgets/base",
            "_view_module_version": "1.2.0",
            "_view_name": "StyleView",
            "bar_color": null,
            "description_width": ""
          }
        },
        "54b52ab4906442e5913b2adf92f4a910": {
          "model_module": "@jupyter-widgets/base",
          "model_name": "LayoutModel",
          "model_module_version": "1.2.0",
          "state": {
            "_model_module": "@jupyter-widgets/base",
            "_model_module_version": "1.2.0",
            "_model_name": "LayoutModel",
            "_view_count": null,
            "_view_module": "@jupyter-widgets/base",
            "_view_module_version": "1.2.0",
            "_view_name": "LayoutView",
            "align_content": null,
            "align_items": null,
            "align_self": null,
            "border": null,
            "bottom": null,
            "display": null,
            "flex": null,
            "flex_flow": null,
            "grid_area": null,
            "grid_auto_columns": null,
            "grid_auto_flow": null,
            "grid_auto_rows": null,
            "grid_column": null,
            "grid_gap": null,
            "grid_row": null,
            "grid_template_areas": null,
            "grid_template_columns": null,
            "grid_template_rows": null,
            "height": "200px",
            "justify_content": null,
            "justify_items": null,
            "left": null,
            "margin": null,
            "max_height": null,
            "max_width": null,
            "min_height": null,
            "min_width": null,
            "object_fit": null,
            "object_position": null,
            "order": null,
            "overflow": null,
            "overflow_x": null,
            "overflow_y": null,
            "padding": null,
            "right": null,
            "top": null,
            "visibility": null,
            "width": "100%"
          }
        },
        "596a2a5b8dc0490e8ab592764bb61042": {
          "model_module": "@jupyter-widgets/controls",
          "model_name": "DescriptionStyleModel",
          "model_module_version": "1.5.0",
          "state": {
            "_model_module": "@jupyter-widgets/controls",
            "_model_module_version": "1.5.0",
            "_model_name": "DescriptionStyleModel",
            "_view_count": null,
            "_view_module": "@jupyter-widgets/base",
            "_view_module_version": "1.2.0",
            "_view_name": "StyleView",
            "description_width": ""
          }
        },
        "49711525615d49e98a1218704e16e9ba": {
          "model_module": "@jupyter-widgets/controls",
          "model_name": "ButtonModel",
          "model_module_version": "1.5.0",
          "state": {
            "_dom_classes": [],
            "_model_module": "@jupyter-widgets/controls",
            "_model_module_version": "1.5.0",
            "_model_name": "ButtonModel",
            "_view_count": null,
            "_view_module": "@jupyter-widgets/controls",
            "_view_module_version": "1.5.0",
            "_view_name": "ButtonView",
            "button_style": "success",
            "description": "Run",
            "disabled": false,
            "icon": "check",
            "layout": "IPY_MODEL_b2386b9382f74e1d948f4b367c1fc570",
            "style": "IPY_MODEL_35f07e97d12a4a61860a8eae991878b5",
            "tooltip": ""
          }
        },
        "2fd12e4be6cb402189ffe381b8b87688": {
          "model_module": "@jupyter-widgets/controls",
          "model_name": "ButtonModel",
          "model_module_version": "1.5.0",
          "state": {
            "_dom_classes": [],
            "_model_module": "@jupyter-widgets/controls",
            "_model_module_version": "1.5.0",
            "_model_name": "ButtonModel",
            "_view_count": null,
            "_view_module": "@jupyter-widgets/controls",
            "_view_module_version": "1.5.0",
            "_view_name": "ButtonView",
            "button_style": "warning",
            "description": "Retry",
            "disabled": false,
            "icon": "refresh",
            "layout": "IPY_MODEL_bcbfbd29633448b29c872e7069f15a8e",
            "style": "IPY_MODEL_95167681d3c948549c6c5606bd307241",
            "tooltip": ""
          }
        },
        "f4e4fe69b32548f89da45fa5823d14d4": {
          "model_module": "@jupyter-widgets/controls",
          "model_name": "ButtonModel",
          "model_module_version": "1.5.0",
          "state": {
            "_dom_classes": [],
            "_model_module": "@jupyter-widgets/controls",
            "_model_module_version": "1.5.0",
            "_model_name": "ButtonModel",
            "_view_count": null,
            "_view_module": "@jupyter-widgets/controls",
            "_view_module_version": "1.5.0",
            "_view_name": "ButtonView",
            "button_style": "info",
            "description": "Next",
            "disabled": true,
            "icon": "arrow-right",
            "layout": "IPY_MODEL_c43aae8c05134043aaf9796372b581bb",
            "style": "IPY_MODEL_502b66f3450f410cb80535125a04f968",
            "tooltip": ""
          }
        },
        "65c05652777044b0b50002d30d7e689a": {
          "model_module": "@jupyter-widgets/controls",
          "model_name": "ButtonModel",
          "model_module_version": "1.5.0",
          "state": {
            "_dom_classes": [],
            "_model_module": "@jupyter-widgets/controls",
            "_model_module_version": "1.5.0",
            "_model_name": "ButtonModel",
            "_view_count": null,
            "_view_module": "@jupyter-widgets/controls",
            "_view_module_version": "1.5.0",
            "_view_name": "ButtonView",
            "button_style": "primary",
            "description": "Show Hint",
            "disabled": false,
            "icon": "lightbulb-o",
            "layout": "IPY_MODEL_a053db808b3c421ea605ec2d54a7712c",
            "style": "IPY_MODEL_f4ea2fa0e2bb4065b2214b0844b14205",
            "tooltip": ""
          }
        },
        "a5805e86bb1842d48fee3d43e6c51b9d": {
          "model_module": "@jupyter-widgets/controls",
          "model_name": "DropdownModel",
          "model_module_version": "1.5.0",
          "state": {
            "_dom_classes": [],
            "_model_module": "@jupyter-widgets/controls",
            "_model_module_version": "1.5.0",
            "_model_name": "DropdownModel",
            "_options_labels": [
              "Problem 1",
              "Problem 2",
              "Problem 3",
              "Problem 4",
              "Problem 5",
              "Problem 6",
              "Problem 7",
              "Problem 8",
              "Problem 9",
              "Problem 10",
              "Problem 11",
              "Problem 12",
              "Problem 13",
              "Problem 14",
              "Problem 15",
              "Problem 16",
              "Problem 17",
              "Problem 18",
              "Problem 19",
              "Problem 20",
              "Problem 21",
              "Problem 22",
              "Problem 23"
            ],
            "_view_count": null,
            "_view_module": "@jupyter-widgets/controls",
            "_view_module_version": "1.5.0",
            "_view_name": "DropdownView",
            "description": "Skip to:",
            "description_tooltip": null,
            "disabled": false,
            "index": 0,
            "layout": "IPY_MODEL_dbf9c391be7747da9cb21d2af2a4c0e9",
            "style": "IPY_MODEL_877415fca9c543b1872ff73adf5f716d"
          }
        },
        "fbdc084dd8e6490bbe31ba80856ae369": {
          "model_module": "@jupyter-widgets/base",
          "model_name": "LayoutModel",
          "model_module_version": "1.2.0",
          "state": {
            "_model_module": "@jupyter-widgets/base",
            "_model_module_version": "1.2.0",
            "_model_name": "LayoutModel",
            "_view_count": null,
            "_view_module": "@jupyter-widgets/base",
            "_view_module_version": "1.2.0",
            "_view_name": "LayoutView",
            "align_content": null,
            "align_items": null,
            "align_self": null,
            "border": null,
            "bottom": null,
            "display": null,
            "flex": null,
            "flex_flow": null,
            "grid_area": null,
            "grid_auto_columns": null,
            "grid_auto_flow": null,
            "grid_auto_rows": null,
            "grid_column": null,
            "grid_gap": null,
            "grid_row": null,
            "grid_template_areas": null,
            "grid_template_columns": null,
            "grid_template_rows": null,
            "height": null,
            "justify_content": null,
            "justify_items": null,
            "left": null,
            "margin": null,
            "max_height": null,
            "max_width": null,
            "min_height": null,
            "min_width": null,
            "object_fit": null,
            "object_position": null,
            "order": null,
            "overflow": null,
            "overflow_x": null,
            "overflow_y": null,
            "padding": null,
            "right": null,
            "top": null,
            "visibility": null,
            "width": null
          }
        },
        "34d9492460a140b6bbec6dd42260bc0d": {
          "model_module": "@jupyter-widgets/base",
          "model_name": "LayoutModel",
          "model_module_version": "1.2.0",
          "state": {
            "_model_module": "@jupyter-widgets/base",
            "_model_module_version": "1.2.0",
            "_model_name": "LayoutModel",
            "_view_count": null,
            "_view_module": "@jupyter-widgets/base",
            "_view_module_version": "1.2.0",
            "_view_name": "LayoutView",
            "align_content": null,
            "align_items": null,
            "align_self": null,
            "border": null,
            "bottom": null,
            "display": null,
            "flex": null,
            "flex_flow": null,
            "grid_area": null,
            "grid_auto_columns": null,
            "grid_auto_flow": null,
            "grid_auto_rows": null,
            "grid_column": null,
            "grid_gap": null,
            "grid_row": null,
            "grid_template_areas": null,
            "grid_template_columns": null,
            "grid_template_rows": null,
            "height": null,
            "justify_content": null,
            "justify_items": null,
            "left": null,
            "margin": null,
            "max_height": null,
            "max_width": null,
            "min_height": null,
            "min_width": null,
            "object_fit": null,
            "object_position": null,
            "order": null,
            "overflow": null,
            "overflow_x": null,
            "overflow_y": null,
            "padding": null,
            "right": null,
            "top": null,
            "visibility": null,
            "width": null
          }
        },
        "e06edc0185d941ffb0398f05247635f5": {
          "model_module": "@jupyter-widgets/controls",
          "model_name": "DescriptionStyleModel",
          "model_module_version": "1.5.0",
          "state": {
            "_model_module": "@jupyter-widgets/controls",
            "_model_module_version": "1.5.0",
            "_model_name": "DescriptionStyleModel",
            "_view_count": null,
            "_view_module": "@jupyter-widgets/base",
            "_view_module_version": "1.2.0",
            "_view_name": "StyleView",
            "description_width": ""
          }
        },
        "ba05c52b128f4d4095bd49036ceec354": {
          "model_module": "@jupyter-widgets/base",
          "model_name": "LayoutModel",
          "model_module_version": "1.2.0",
          "state": {
            "_model_module": "@jupyter-widgets/base",
            "_model_module_version": "1.2.0",
            "_model_name": "LayoutModel",
            "_view_count": null,
            "_view_module": "@jupyter-widgets/base",
            "_view_module_version": "1.2.0",
            "_view_name": "LayoutView",
            "align_content": null,
            "align_items": null,
            "align_self": null,
            "border": null,
            "bottom": null,
            "display": null,
            "flex": null,
            "flex_flow": null,
            "grid_area": null,
            "grid_auto_columns": null,
            "grid_auto_flow": null,
            "grid_auto_rows": null,
            "grid_column": null,
            "grid_gap": null,
            "grid_row": null,
            "grid_template_areas": null,
            "grid_template_columns": null,
            "grid_template_rows": null,
            "height": null,
            "justify_content": null,
            "justify_items": null,
            "left": null,
            "margin": null,
            "max_height": null,
            "max_width": null,
            "min_height": null,
            "min_width": null,
            "object_fit": null,
            "object_position": null,
            "order": null,
            "overflow": null,
            "overflow_x": null,
            "overflow_y": null,
            "padding": null,
            "right": null,
            "top": null,
            "visibility": null,
            "width": null
          }
        },
        "f39faedd78e14e63a2a1948dfa6e0c47": {
          "model_module": "@jupyter-widgets/controls",
          "model_name": "DescriptionStyleModel",
          "model_module_version": "1.5.0",
          "state": {
            "_model_module": "@jupyter-widgets/controls",
            "_model_module_version": "1.5.0",
            "_model_name": "DescriptionStyleModel",
            "_view_count": null,
            "_view_module": "@jupyter-widgets/base",
            "_view_module_version": "1.2.0",
            "_view_name": "StyleView",
            "description_width": ""
          }
        },
        "5d0dd39742f84571a58efe6f672d9951": {
          "model_module": "@jupyter-widgets/base",
          "model_name": "LayoutModel",
          "model_module_version": "1.2.0",
          "state": {
            "_model_module": "@jupyter-widgets/base",
            "_model_module_version": "1.2.0",
            "_model_name": "LayoutModel",
            "_view_count": null,
            "_view_module": "@jupyter-widgets/base",
            "_view_module_version": "1.2.0",
            "_view_name": "LayoutView",
            "align_content": null,
            "align_items": null,
            "align_self": null,
            "border": null,
            "bottom": null,
            "display": null,
            "flex": null,
            "flex_flow": null,
            "grid_area": null,
            "grid_auto_columns": null,
            "grid_auto_flow": null,
            "grid_auto_rows": null,
            "grid_column": null,
            "grid_gap": null,
            "grid_row": null,
            "grid_template_areas": null,
            "grid_template_columns": null,
            "grid_template_rows": null,
            "height": null,
            "justify_content": null,
            "justify_items": null,
            "left": null,
            "margin": null,
            "max_height": null,
            "max_width": null,
            "min_height": null,
            "min_width": null,
            "object_fit": null,
            "object_position": null,
            "order": null,
            "overflow": null,
            "overflow_x": null,
            "overflow_y": null,
            "padding": null,
            "right": null,
            "top": null,
            "visibility": null,
            "width": null
          }
        },
        "8974d8a14a8c4ccfafbf805b09baa1ce": {
          "model_module": "@jupyter-widgets/controls",
          "model_name": "DescriptionStyleModel",
          "model_module_version": "1.5.0",
          "state": {
            "_model_module": "@jupyter-widgets/controls",
            "_model_module_version": "1.5.0",
            "_model_name": "DescriptionStyleModel",
            "_view_count": null,
            "_view_module": "@jupyter-widgets/base",
            "_view_module_version": "1.2.0",
            "_view_name": "StyleView",
            "description_width": ""
          }
        },
        "b2386b9382f74e1d948f4b367c1fc570": {
          "model_module": "@jupyter-widgets/base",
          "model_name": "LayoutModel",
          "model_module_version": "1.2.0",
          "state": {
            "_model_module": "@jupyter-widgets/base",
            "_model_module_version": "1.2.0",
            "_model_name": "LayoutModel",
            "_view_count": null,
            "_view_module": "@jupyter-widgets/base",
            "_view_module_version": "1.2.0",
            "_view_name": "LayoutView",
            "align_content": null,
            "align_items": null,
            "align_self": null,
            "border": null,
            "bottom": null,
            "display": null,
            "flex": null,
            "flex_flow": null,
            "grid_area": null,
            "grid_auto_columns": null,
            "grid_auto_flow": null,
            "grid_auto_rows": null,
            "grid_column": null,
            "grid_gap": null,
            "grid_row": null,
            "grid_template_areas": null,
            "grid_template_columns": null,
            "grid_template_rows": null,
            "height": null,
            "justify_content": null,
            "justify_items": null,
            "left": null,
            "margin": null,
            "max_height": null,
            "max_width": null,
            "min_height": null,
            "min_width": null,
            "object_fit": null,
            "object_position": null,
            "order": null,
            "overflow": null,
            "overflow_x": null,
            "overflow_y": null,
            "padding": null,
            "right": null,
            "top": null,
            "visibility": null,
            "width": null
          }
        },
        "35f07e97d12a4a61860a8eae991878b5": {
          "model_module": "@jupyter-widgets/controls",
          "model_name": "ButtonStyleModel",
          "model_module_version": "1.5.0",
          "state": {
            "_model_module": "@jupyter-widgets/controls",
            "_model_module_version": "1.5.0",
            "_model_name": "ButtonStyleModel",
            "_view_count": null,
            "_view_module": "@jupyter-widgets/base",
            "_view_module_version": "1.2.0",
            "_view_name": "StyleView",
            "button_color": null,
            "font_weight": ""
          }
        },
        "bcbfbd29633448b29c872e7069f15a8e": {
          "model_module": "@jupyter-widgets/base",
          "model_name": "LayoutModel",
          "model_module_version": "1.2.0",
          "state": {
            "_model_module": "@jupyter-widgets/base",
            "_model_module_version": "1.2.0",
            "_model_name": "LayoutModel",
            "_view_count": null,
            "_view_module": "@jupyter-widgets/base",
            "_view_module_version": "1.2.0",
            "_view_name": "LayoutView",
            "align_content": null,
            "align_items": null,
            "align_self": null,
            "border": null,
            "bottom": null,
            "display": null,
            "flex": null,
            "flex_flow": null,
            "grid_area": null,
            "grid_auto_columns": null,
            "grid_auto_flow": null,
            "grid_auto_rows": null,
            "grid_column": null,
            "grid_gap": null,
            "grid_row": null,
            "grid_template_areas": null,
            "grid_template_columns": null,
            "grid_template_rows": null,
            "height": null,
            "justify_content": null,
            "justify_items": null,
            "left": null,
            "margin": null,
            "max_height": null,
            "max_width": null,
            "min_height": null,
            "min_width": null,
            "object_fit": null,
            "object_position": null,
            "order": null,
            "overflow": null,
            "overflow_x": null,
            "overflow_y": null,
            "padding": null,
            "right": null,
            "top": null,
            "visibility": null,
            "width": null
          }
        },
        "95167681d3c948549c6c5606bd307241": {
          "model_module": "@jupyter-widgets/controls",
          "model_name": "ButtonStyleModel",
          "model_module_version": "1.5.0",
          "state": {
            "_model_module": "@jupyter-widgets/controls",
            "_model_module_version": "1.5.0",
            "_model_name": "ButtonStyleModel",
            "_view_count": null,
            "_view_module": "@jupyter-widgets/base",
            "_view_module_version": "1.2.0",
            "_view_name": "StyleView",
            "button_color": null,
            "font_weight": ""
          }
        },
        "c43aae8c05134043aaf9796372b581bb": {
          "model_module": "@jupyter-widgets/base",
          "model_name": "LayoutModel",
          "model_module_version": "1.2.0",
          "state": {
            "_model_module": "@jupyter-widgets/base",
            "_model_module_version": "1.2.0",
            "_model_name": "LayoutModel",
            "_view_count": null,
            "_view_module": "@jupyter-widgets/base",
            "_view_module_version": "1.2.0",
            "_view_name": "LayoutView",
            "align_content": null,
            "align_items": null,
            "align_self": null,
            "border": null,
            "bottom": null,
            "display": null,
            "flex": null,
            "flex_flow": null,
            "grid_area": null,
            "grid_auto_columns": null,
            "grid_auto_flow": null,
            "grid_auto_rows": null,
            "grid_column": null,
            "grid_gap": null,
            "grid_row": null,
            "grid_template_areas": null,
            "grid_template_columns": null,
            "grid_template_rows": null,
            "height": null,
            "justify_content": null,
            "justify_items": null,
            "left": null,
            "margin": null,
            "max_height": null,
            "max_width": null,
            "min_height": null,
            "min_width": null,
            "object_fit": null,
            "object_position": null,
            "order": null,
            "overflow": null,
            "overflow_x": null,
            "overflow_y": null,
            "padding": null,
            "right": null,
            "top": null,
            "visibility": null,
            "width": null
          }
        },
        "502b66f3450f410cb80535125a04f968": {
          "model_module": "@jupyter-widgets/controls",
          "model_name": "ButtonStyleModel",
          "model_module_version": "1.5.0",
          "state": {
            "_model_module": "@jupyter-widgets/controls",
            "_model_module_version": "1.5.0",
            "_model_name": "ButtonStyleModel",
            "_view_count": null,
            "_view_module": "@jupyter-widgets/base",
            "_view_module_version": "1.2.0",
            "_view_name": "StyleView",
            "button_color": null,
            "font_weight": ""
          }
        },
        "a053db808b3c421ea605ec2d54a7712c": {
          "model_module": "@jupyter-widgets/base",
          "model_name": "LayoutModel",
          "model_module_version": "1.2.0",
          "state": {
            "_model_module": "@jupyter-widgets/base",
            "_model_module_version": "1.2.0",
            "_model_name": "LayoutModel",
            "_view_count": null,
            "_view_module": "@jupyter-widgets/base",
            "_view_module_version": "1.2.0",
            "_view_name": "LayoutView",
            "align_content": null,
            "align_items": null,
            "align_self": null,
            "border": null,
            "bottom": null,
            "display": null,
            "flex": null,
            "flex_flow": null,
            "grid_area": null,
            "grid_auto_columns": null,
            "grid_auto_flow": null,
            "grid_auto_rows": null,
            "grid_column": null,
            "grid_gap": null,
            "grid_row": null,
            "grid_template_areas": null,
            "grid_template_columns": null,
            "grid_template_rows": null,
            "height": null,
            "justify_content": null,
            "justify_items": null,
            "left": null,
            "margin": null,
            "max_height": null,
            "max_width": null,
            "min_height": null,
            "min_width": null,
            "object_fit": null,
            "object_position": null,
            "order": null,
            "overflow": null,
            "overflow_x": null,
            "overflow_y": null,
            "padding": null,
            "right": null,
            "top": null,
            "visibility": null,
            "width": null
          }
        },
        "f4ea2fa0e2bb4065b2214b0844b14205": {
          "model_module": "@jupyter-widgets/controls",
          "model_name": "ButtonStyleModel",
          "model_module_version": "1.5.0",
          "state": {
            "_model_module": "@jupyter-widgets/controls",
            "_model_module_version": "1.5.0",
            "_model_name": "ButtonStyleModel",
            "_view_count": null,
            "_view_module": "@jupyter-widgets/base",
            "_view_module_version": "1.2.0",
            "_view_name": "StyleView",
            "button_color": null,
            "font_weight": ""
          }
        },
        "dbf9c391be7747da9cb21d2af2a4c0e9": {
          "model_module": "@jupyter-widgets/base",
          "model_name": "LayoutModel",
          "model_module_version": "1.2.0",
          "state": {
            "_model_module": "@jupyter-widgets/base",
            "_model_module_version": "1.2.0",
            "_model_name": "LayoutModel",
            "_view_count": null,
            "_view_module": "@jupyter-widgets/base",
            "_view_module_version": "1.2.0",
            "_view_name": "LayoutView",
            "align_content": null,
            "align_items": null,
            "align_self": null,
            "border": null,
            "bottom": null,
            "display": null,
            "flex": null,
            "flex_flow": null,
            "grid_area": null,
            "grid_auto_columns": null,
            "grid_auto_flow": null,
            "grid_auto_rows": null,
            "grid_column": null,
            "grid_gap": null,
            "grid_row": null,
            "grid_template_areas": null,
            "grid_template_columns": null,
            "grid_template_rows": null,
            "height": null,
            "justify_content": null,
            "justify_items": null,
            "left": null,
            "margin": null,
            "max_height": null,
            "max_width": null,
            "min_height": null,
            "min_width": null,
            "object_fit": null,
            "object_position": null,
            "order": null,
            "overflow": null,
            "overflow_x": null,
            "overflow_y": null,
            "padding": null,
            "right": null,
            "top": null,
            "visibility": null,
            "width": "200px"
          }
        },
        "877415fca9c543b1872ff73adf5f716d": {
          "model_module": "@jupyter-widgets/controls",
          "model_name": "DescriptionStyleModel",
          "model_module_version": "1.5.0",
          "state": {
            "_model_module": "@jupyter-widgets/controls",
            "_model_module_version": "1.5.0",
            "_model_name": "DescriptionStyleModel",
            "_view_count": null,
            "_view_module": "@jupyter-widgets/base",
            "_view_module_version": "1.2.0",
            "_view_name": "StyleView",
            "description_width": ""
          }
        },
        "1599b636901544f297457e8a5fd53e34": {
          "model_module": "@jupyter-widgets/base",
          "model_name": "LayoutModel",
          "model_module_version": "1.2.0",
          "state": {
            "_model_module": "@jupyter-widgets/base",
            "_model_module_version": "1.2.0",
            "_model_name": "LayoutModel",
            "_view_count": null,
            "_view_module": "@jupyter-widgets/base",
            "_view_module_version": "1.2.0",
            "_view_name": "LayoutView",
            "align_content": null,
            "align_items": null,
            "align_self": null,
            "border": null,
            "bottom": null,
            "display": null,
            "flex": null,
            "flex_flow": null,
            "grid_area": null,
            "grid_auto_columns": null,
            "grid_auto_flow": null,
            "grid_auto_rows": null,
            "grid_column": null,
            "grid_gap": null,
            "grid_row": null,
            "grid_template_areas": null,
            "grid_template_columns": null,
            "grid_template_rows": null,
            "height": null,
            "justify_content": null,
            "justify_items": null,
            "left": null,
            "margin": null,
            "max_height": null,
            "max_width": null,
            "min_height": null,
            "min_width": null,
            "object_fit": null,
            "object_position": null,
            "order": null,
            "overflow": null,
            "overflow_x": null,
            "overflow_y": null,
            "padding": null,
            "right": null,
            "top": null,
            "visibility": null,
            "width": null
          }
        },
        "0a648d656ca14869a98c0df329fd1bc6": {
          "model_module": "@jupyter-widgets/base",
          "model_name": "LayoutModel",
          "model_module_version": "1.2.0",
          "state": {
            "_model_module": "@jupyter-widgets/base",
            "_model_module_version": "1.2.0",
            "_model_name": "LayoutModel",
            "_view_count": null,
            "_view_module": "@jupyter-widgets/base",
            "_view_module_version": "1.2.0",
            "_view_name": "LayoutView",
            "align_content": null,
            "align_items": null,
            "align_self": null,
            "border": null,
            "bottom": null,
            "display": null,
            "flex": null,
            "flex_flow": null,
            "grid_area": null,
            "grid_auto_columns": null,
            "grid_auto_flow": null,
            "grid_auto_rows": null,
            "grid_column": null,
            "grid_gap": null,
            "grid_row": null,
            "grid_template_areas": null,
            "grid_template_columns": null,
            "grid_template_rows": null,
            "height": null,
            "justify_content": null,
            "justify_items": null,
            "left": null,
            "margin": null,
            "max_height": null,
            "max_width": null,
            "min_height": null,
            "min_width": null,
            "object_fit": null,
            "object_position": null,
            "order": null,
            "overflow": null,
            "overflow_x": null,
            "overflow_y": null,
            "padding": null,
            "right": null,
            "top": null,
            "visibility": null,
            "width": null
          }
        },
        "f6f7316a91ba42caa674421dc50ff306": {
          "model_module": "@jupyter-widgets/base",
          "model_name": "LayoutModel",
          "model_module_version": "1.2.0",
          "state": {
            "_model_module": "@jupyter-widgets/base",
            "_model_module_version": "1.2.0",
            "_model_name": "LayoutModel",
            "_view_count": null,
            "_view_module": "@jupyter-widgets/base",
            "_view_module_version": "1.2.0",
            "_view_name": "LayoutView",
            "align_content": null,
            "align_items": null,
            "align_self": null,
            "border": null,
            "bottom": null,
            "display": null,
            "flex": null,
            "flex_flow": null,
            "grid_area": null,
            "grid_auto_columns": null,
            "grid_auto_flow": null,
            "grid_auto_rows": null,
            "grid_column": null,
            "grid_gap": null,
            "grid_row": null,
            "grid_template_areas": null,
            "grid_template_columns": null,
            "grid_template_rows": null,
            "height": null,
            "justify_content": null,
            "justify_items": null,
            "left": null,
            "margin": null,
            "max_height": null,
            "max_width": null,
            "min_height": null,
            "min_width": null,
            "object_fit": null,
            "object_position": null,
            "order": null,
            "overflow": null,
            "overflow_x": null,
            "overflow_y": null,
            "padding": null,
            "right": null,
            "top": null,
            "visibility": null,
            "width": null
          }
        },
        "c91b1b7f64f64891a5b6451c6bec05db": {
          "model_module": "@jupyter-widgets/base",
          "model_name": "LayoutModel",
          "model_module_version": "1.2.0",
          "state": {
            "_model_module": "@jupyter-widgets/base",
            "_model_module_version": "1.2.0",
            "_model_name": "LayoutModel",
            "_view_count": null,
            "_view_module": "@jupyter-widgets/base",
            "_view_module_version": "1.2.0",
            "_view_name": "LayoutView",
            "align_content": null,
            "align_items": null,
            "align_self": null,
            "border": null,
            "bottom": null,
            "display": null,
            "flex": null,
            "flex_flow": null,
            "grid_area": null,
            "grid_auto_columns": null,
            "grid_auto_flow": null,
            "grid_auto_rows": null,
            "grid_column": null,
            "grid_gap": null,
            "grid_row": null,
            "grid_template_areas": null,
            "grid_template_columns": null,
            "grid_template_rows": null,
            "height": null,
            "justify_content": null,
            "justify_items": null,
            "left": null,
            "margin": null,
            "max_height": null,
            "max_width": null,
            "min_height": null,
            "min_width": null,
            "object_fit": null,
            "object_position": null,
            "order": null,
            "overflow": null,
            "overflow_x": null,
            "overflow_y": null,
            "padding": null,
            "right": null,
            "top": null,
            "visibility": null,
            "width": null
          }
        },
        "b39d88df7f9f4cb8b5faea097774408d": {
          "model_module": "@jupyter-widgets/base",
          "model_name": "LayoutModel",
          "model_module_version": "1.2.0",
          "state": {
            "_model_module": "@jupyter-widgets/base",
            "_model_module_version": "1.2.0",
            "_model_name": "LayoutModel",
            "_view_count": null,
            "_view_module": "@jupyter-widgets/base",
            "_view_module_version": "1.2.0",
            "_view_name": "LayoutView",
            "align_content": null,
            "align_items": null,
            "align_self": null,
            "border": null,
            "bottom": null,
            "display": null,
            "flex": null,
            "flex_flow": null,
            "grid_area": null,
            "grid_auto_columns": null,
            "grid_auto_flow": null,
            "grid_auto_rows": null,
            "grid_column": null,
            "grid_gap": null,
            "grid_row": null,
            "grid_template_areas": null,
            "grid_template_columns": null,
            "grid_template_rows": null,
            "height": null,
            "justify_content": null,
            "justify_items": null,
            "left": null,
            "margin": null,
            "max_height": null,
            "max_width": null,
            "min_height": null,
            "min_width": null,
            "object_fit": null,
            "object_position": null,
            "order": null,
            "overflow": null,
            "overflow_x": null,
            "overflow_y": null,
            "padding": null,
            "right": null,
            "top": null,
            "visibility": null,
            "width": null
          }
        }
      }
    }
  },
  "cells": [
    {
      "cell_type": "markdown",
      "metadata": {
        "id": "view-in-github",
        "colab_type": "text"
      },
      "source": [
        "<a href=\"https://colab.research.google.com/github/brendanpshea/computing_concepts_python/blob/main/IntroCS_06_Dictionaries_Database.ipynb\" target=\"_parent\"><img src=\"https://colab.research.google.com/assets/colab-badge.svg\" alt=\"Open In Colab\"/></a>"
      ]
    },
    {
      "cell_type": "markdown",
      "source": [
        "# Data Structures for Real-World Information\n",
        "\n",
        "Welcome to our exploration of data storage in Python! In this chapter, we'll learn about three powerful ways to organize and manage information in our programs: dictionaries, JSON, and basic databases.\n",
        "\n",
        "As programmers, we constantly work with data - student records, game statistics, user profiles, and more. The way we structure this data affects how easily we can work with it. Imagine trying to find a specific word in a dictionary that has no alphabetical order, or searching for a product in an online store with no categories. Structure matters!\n",
        "\n",
        "We'll begin with Python dictionaries, a flexible way to store and retrieve information using descriptive labels. Then we'll see how these concepts extend into JSON, allowing our programs to save data to files and share it with other applications. Finally, we'll take our first steps into the world of databases, seeing how they build upon these same fundamentals but add power and reliability.\n",
        "\n",
        "By the end of this chapter, you'll have three essential tools for working with real-world data in your Python programs!"
      ],
      "metadata": {
        "id": "DUaeBhjM6zAi"
      }
    },
    {
      "cell_type": "markdown",
      "source": [
        "# Introduction: What Are Dictionaries?\n",
        "\n",
        "In Python, a **dictionary** is a collection that stores data as **key-value pairs**.\n",
        "\n",
        "* Unlike lists where items are accessed by position (index), dictionaries let you access values by their keys\n",
        "* Keys are like labels that help you find the information you need\n",
        "* Real-world example: an actual dictionary\n",
        "  * The word you look up is the \"key\"\n",
        "  * The definition you find is the \"value\"\n",
        "\n",
        "**Why dictionaries are important:**\n",
        "* Allow fast lookups of information\n",
        "* Make code more readable with descriptive keys\n",
        "* Perfect for storing related information together\n",
        "\n",
        "| Comparison | List | Dictionary |\n",
        "|------------|------|------------|\n",
        "| Access by | Index (position) | Key (label) |\n",
        "| Syntax | square brackets `[]` | curly braces `{}` |\n",
        "| Order | Maintained | Not guaranteed* |\n",
        "| Lookup speed | Slower for large lists | Very fast |\n",
        "\n",
        "*In Python 3.7+, dictionaries do preserve insertion order, but it's not their primary purpose"
      ],
      "metadata": {
        "id": "-nuOILnz605U"
      }
    },
    {
      "cell_type": "markdown",
      "source": [
        "# Dictionary Syntax: Creating and Using Key-Value Pairs\n",
        "\n",
        "Creating and using dictionaries in Python is straightforward. Here's how to work with these powerful data structures:\n",
        "\n",
        "## Creating a Dictionary\n",
        "\n",
        "* Use curly braces `{}` with key-value pairs separated by colons\n",
        "* Each pair is separated by commas"
      ],
      "metadata": {
        "id": "pXVykiZ47BVx"
      }
    },
    {
      "cell_type": "code",
      "source": [
        "# Empty dictionary\n",
        "my_dict = {}\n",
        "\n",
        "# Dictionary with initial values\n",
        "character = {\n",
        "    \"name\": \"Mario\",\n",
        "    \"speed\": 10,\n",
        "    \"favorite_course\": \"Rainbow Road\"\n",
        "}\n",
        "\n",
        "print(character)"
      ],
      "metadata": {
        "colab": {
          "base_uri": "https://localhost:8080/"
        },
        "id": "LthiHpf87D0H",
        "outputId": "a9882f1a-c82c-436f-cb0b-e6ed9144ad4e"
      },
      "execution_count": null,
      "outputs": [
        {
          "output_type": "stream",
          "name": "stdout",
          "text": [
            "{'name': 'Mario', 'speed': 10, 'favorite_course': 'Rainbow Road'}\n"
          ]
        }
      ]
    },
    {
      "cell_type": "markdown",
      "source": [
        "## Accessing Values\n",
        "\n",
        "* Use square brackets `[]` with the key inside to access values\n",
        "* If the key doesn't exist, you'll get an error"
      ],
      "metadata": {
        "id": "XaH43RiG7Jst"
      }
    },
    {
      "cell_type": "code",
      "source": [
        "# Get a character's name\n",
        "character_name = character[\"name\"]    # Returns \"Mario\"\n",
        "\n",
        "# Try to access a value that doesn't exist\n",
        "# character[\"power_up\"]    # Would cause a KeyError!"
      ],
      "metadata": {
        "id": "Yo5uIoJx7LYQ"
      },
      "execution_count": null,
      "outputs": []
    },
    {
      "cell_type": "markdown",
      "source": [
        "**Important:** Keys must be **immutable** objects (like strings, numbers, or tuples), while values can be any data type."
      ],
      "metadata": {
        "id": "4EwjBYMv7NPG"
      }
    },
    {
      "cell_type": "markdown",
      "source": [
        "# Dictionary Methods: get(), keys(), values(), and items()\n",
        "\n",
        "Python dictionaries come with useful built-in methods that make working with them easier and safer.\n",
        "\n",
        "## Safe Access with get()\n",
        "\n",
        "The **get()** method is a safer way to access dictionary values:"
      ],
      "metadata": {
        "id": "u6wl865X7Vva"
      }
    },
    {
      "cell_type": "code",
      "source": [
        "character = {\"name\": \"Rosalina\", \"speed\": 8}\n",
        "\n",
        "my_name = character.get(\"name\")\n",
        "print(my_name)\n",
        "\n",
        "# missing a value\n",
        "course = character.get(\"favorite_course\")\n",
        "print(course)\n",
        "\n",
        "# Using get() with a default value\n",
        "power_up = character.get(\"power_up\", \"Not Specified\")\n",
        "print(power_up)\n"
      ],
      "metadata": {
        "colab": {
          "base_uri": "https://localhost:8080/"
        },
        "id": "lZ1Tw_vZ7WVG",
        "outputId": "b402847f-6843-4120-b451-bb8fc6587323"
      },
      "execution_count": null,
      "outputs": [
        {
          "output_type": "stream",
          "name": "stdout",
          "text": [
            "Rosalina\n",
            "None\n",
            "Not Specified\n"
          ]
        }
      ]
    },
    {
      "cell_type": "markdown",
      "source": [
        "## Viewing Dictionary Contents\n",
        "\n",
        "* **keys()** - Returns all the keys in the dictionary\n",
        "* **values()** - Returns all the values in the dictionary\n",
        "* **items()** - Returns all key-value pairs as tuples"
      ],
      "metadata": {
        "id": "5Os0w_U37-mz"
      }
    },
    {
      "cell_type": "code",
      "source": [
        "# Working with a character dictionary\n",
        "character = {\"name\": \"Yoshi\", \"speed\": 9, \"favorite_course\": \"Yoshi Circuit\"}\n",
        "\n",
        "# Print all keys\n",
        "print(character.keys())"
      ],
      "metadata": {
        "colab": {
          "base_uri": "https://localhost:8080/"
        },
        "id": "O8jaR0bJ7_Ro",
        "outputId": "b9d6dcbd-f032-4176-bfe8-079359d40941"
      },
      "execution_count": null,
      "outputs": [
        {
          "output_type": "stream",
          "name": "stdout",
          "text": [
            "dict_keys(['name', 'speed', 'favorite_course'])\n"
          ]
        }
      ]
    },
    {
      "cell_type": "code",
      "source": [
        "# Print all values\n",
        "print(character.values())\n"
      ],
      "metadata": {
        "colab": {
          "base_uri": "https://localhost:8080/"
        },
        "id": "s727yx6Y8KRo",
        "outputId": "a0829f40-f175-439b-ccb8-80e8769c0ecb"
      },
      "execution_count": null,
      "outputs": [
        {
          "output_type": "stream",
          "name": "stdout",
          "text": [
            "dict_values(['Yoshi', 9, 'Yoshi Circuit'])\n"
          ]
        }
      ]
    },
    {
      "cell_type": "code",
      "source": [
        "print(character.items())"
      ],
      "metadata": {
        "colab": {
          "base_uri": "https://localhost:8080/"
        },
        "id": "lxMI2BzI8MOS",
        "outputId": "81fd8f9f-7cda-4804-f65c-27e2f2d1a350"
      },
      "execution_count": null,
      "outputs": [
        {
          "output_type": "stream",
          "name": "stdout",
          "text": [
            "dict_items([('name', 'Yoshi'), ('speed', 9), ('favorite_course', 'Yoshi Circuit')])\n"
          ]
        }
      ]
    },
    {
      "cell_type": "markdown",
      "source": [
        "\n",
        "| Method | Returns | Common Use |\n",
        "|--------|---------|------------|\n",
        "| get(key, default) | Value or default | Safe access to values |\n",
        "| keys() | View of all keys | Checking if a key exists |\n",
        "| values() | View of all values | Processing all values |\n",
        "| items() | View of all (key, value) tuples | Looping through dictionary |"
      ],
      "metadata": {
        "id": "1GWY5GWV8O18"
      }
    },
    {
      "cell_type": "markdown",
      "source": [
        "# Modifying Dictionaries: Adding, Changing, and Removing Data\n",
        "\n",
        "Unlike strings and tuples, dictionaries are **mutable**, meaning we can change their contents after creation. Let's explore how to modify dictionaries with Mario Kart examples:\n",
        "\n",
        "## Adding or Updating Values\n",
        "\n",
        "* To add a new key-value pair, simply assign a value to a new key\n",
        "* To update an existing value, assign a new value to an existing key"
      ],
      "metadata": {
        "id": "AM2mb1JN8kFs"
      }
    },
    {
      "cell_type": "code",
      "source": [
        "\n",
        "character = {\"name\": \"Toad\", \"speed\": 3, \"acceleration\": 5}\n",
        "\n",
        "# Add a new key-value pair\n",
        "character[\"special_item\"] = \"Golden Mushroom\"\n",
        "\n",
        "# Update an existing value\n",
        "character[\"speed\"] = 4  # Toad got a speed boost!\n",
        "\n",
        "# Display the updated character\n",
        "character"
      ],
      "metadata": {
        "colab": {
          "base_uri": "https://localhost:8080/"
        },
        "id": "ljUncp5C8k9h",
        "outputId": "d8396953-af9c-4ace-c0de-e334504e4735"
      },
      "execution_count": null,
      "outputs": [
        {
          "output_type": "execute_result",
          "data": {
            "text/plain": [
              "{'name': 'Toad',\n",
              " 'speed': 4,\n",
              " 'acceleration': 5,\n",
              " 'special_item': 'Golden Mushroom'}"
            ]
          },
          "metadata": {},
          "execution_count": 7
        }
      ]
    },
    {
      "cell_type": "markdown",
      "source": [
        "There are several ways to remove items from a dictionary:"
      ],
      "metadata": {
        "id": "4HC6IIge8pjM"
      }
    },
    {
      "cell_type": "code",
      "source": [
        "# Remove special_item and get its value\n",
        "item = character.pop(\"special_item\")\n",
        "print(f\"Removed item: {item}\")  # Prints: Removed item: Golden Mushroom\n",
        "\n",
        "# Delete the speed entry\n",
        "del character[\"speed\"]\n",
        "print(\"After deleting speed:\", character)  # Shows dictionary without speed\n",
        "\n",
        "# Clear all entries\n",
        "character.clear()  # Dictionary is now empty: {}\n",
        "print(\"After clearing:\", character)"
      ],
      "metadata": {
        "colab": {
          "base_uri": "https://localhost:8080/"
        },
        "id": "nl-B3sGN8uzd",
        "outputId": "77951d7b-b944-4ee9-d8a7-fef715e4e40a"
      },
      "execution_count": null,
      "outputs": [
        {
          "output_type": "stream",
          "name": "stdout",
          "text": [
            "Removed item: Golden Mushroom\n",
            "After deleting speed: {'name': 'Toad', 'acceleration': 5}\n",
            "After clearing: {}\n"
          ]
        }
      ]
    },
    {
      "cell_type": "markdown",
      "source": [
        "## Dictionary Methods for Modification\n",
        "We can also modify data with dictionaries:\n"
      ],
      "metadata": {
        "id": "WHLt-blZ820A"
      }
    },
    {
      "cell_type": "code",
      "source": [
        "# Start with a fresh character\n",
        "character = {\"name\": \"Yoshi\", \"speed\": 4}\n",
        "\n",
        "# Add multiple key-value pairs at once\n",
        "character.update({\"acceleration\": 4, \"handling\": 5, \"weight_class\": \"Medium\"})\n",
        "print(character)\n",
        "\n",
        "# Set default value if key doesn't exist (won't change existing values)\n",
        "character.setdefault(\"special_item\", \"Egg\")  # Adds this key-value pair\n",
        "character.setdefault(\"speed\", 9)  # Won't change existing speed value\n",
        "print(character)\n",
        "\n",
        "# Remove and return the last inserted item (Python 3.7+)\n",
        "last_item = character.popitem()\n",
        "print(f\"Removed: {last_item}\")\n",
        "print(character)"
      ],
      "metadata": {
        "colab": {
          "base_uri": "https://localhost:8080/"
        },
        "id": "eVFNjo3y9EZi",
        "outputId": "987ebc46-bdc2-422b-8c7e-99f4672bc90a"
      },
      "execution_count": null,
      "outputs": [
        {
          "output_type": "stream",
          "name": "stdout",
          "text": [
            "{'name': 'Yoshi', 'speed': 4, 'acceleration': 4, 'handling': 5, 'weight_class': 'Medium'}\n",
            "{'name': 'Yoshi', 'speed': 4, 'acceleration': 4, 'handling': 5, 'weight_class': 'Medium', 'special_item': 'Egg'}\n",
            "Removed: ('special_item', 'Egg')\n",
            "{'name': 'Yoshi', 'speed': 4, 'acceleration': 4, 'handling': 5, 'weight_class': 'Medium'}\n"
          ]
        }
      ]
    },
    {
      "cell_type": "markdown",
      "source": [
        "# Python Dictionary Methods Reference Table\n",
        "\n",
        "This table summarizes the most important dictionary methods.\n",
        "\n",
        "| Method | Description | Mario Kart Example | Output |\n",
        "|--------|-------------|-------------------|--------|\n",
        "| `dict[key]` | Get value for key (error if key missing) | `racer[\"name\"]` | `\"Mario\"` |\n",
        "| `dict.get(key, default)` | Get value with optional default | `racer.get(\"power_up\", \"None\")` | `\"None\"` (if key missing) |\n",
        "| `dict[key] = value` | Add or update a key-value pair | `racer[\"special_item\"] = \"Star\"` | N/A |\n",
        "| `dict.update(other_dict)` | Add multiple key-value pairs | `racer.update({\"speed\": 5, \"handling\": 4})` | N/A |\n",
        "| `del dict[key]` | Remove a key-value pair | `del racer[\"power_up\"]` | N/A |\n",
        "| `dict.pop(key)` | Remove key and return its value | `item = racer.pop(\"special_item\")` | `\"Star\"` |\n",
        "| `dict.popitem()` | Remove and return last key-value pair | `last = racer.popitem()` | `(\"handling\", 4)` |\n",
        "| `dict.clear()` | Remove all items | `racer.clear()` | N/A |\n",
        "| `key in dict` | Check if key exists | `\"speed\" in racer` | `True` or `False` |\n",
        "| `dict.keys()` | Return view of all keys | `racer.keys()` | `dict_keys(['name', 'speed', ...])` |\n",
        "| `dict.values()` | Return view of all values | `racer.values()` | `dict_values(['Mario', 5, ...])` |\n",
        "| `dict.items()` | Return view of all key-value pairs | `racer.items()` | `dict_items([('name', 'Mario'), ...])` |\n",
        "| `dict.setdefault(key, default)` | Get value or set default if key missing | `racer.setdefault(\"kart\", \"Standard\")` | `\"Standard\"` (if key missing) |\n",
        "| `len(dict)` | Get number of items | `len(racer)` | `4` |\n",
        "| `dict.copy()` | Create a shallow copy | `racer_copy = racer.copy()` | Copy of dictionary |\n",
        "| `dict1 \\| dict2` | Merge dictionaries (Python 3.9+) | `racer \\| power_ups` | Merged dictionary |\n",
        "| `{**dict1, **dict2}` | Merge dictionaries (older Python) | `{**racer, **power_ups}` | Merged dictionary |\n",
        "| `dict.fromkeys(keys, value)` | Create dict from keys with default value | `dict.fromkeys([\"Mario\", \"Luigi\"], 0)` | `{\"Mario\": 0, \"Luigi\": 0}` |"
      ],
      "metadata": {
        "id": "2M-6cedv9S2a"
      }
    },
    {
      "cell_type": "markdown",
      "source": [
        "# Practical Example: Mario Kart Score Tracker\n",
        "\n",
        "Let's build a simple Mario Kart score tracker using dictionaries. This example shows how dictionaries shine when organizing related information.\n",
        "\n",
        "## Basic Character Score Dictionary"
      ],
      "metadata": {
        "id": "DK8R-QIX9255"
      }
    },
    {
      "cell_type": "code",
      "source": [
        "# Create a dictionary for a single character\n",
        "racer = {\n",
        "    \"name\": \"Peach\",\n",
        "    \"id\": \"R001\",\n",
        "    \"scores\": {\n",
        "        \"Mushroom Cup\": 92,\n",
        "        \"Flower Cup\": 88,\n",
        "        \"Star Cup\": 95,\n",
        "        \"Special Cup\": 89\n",
        "    }\n",
        "}"
      ],
      "metadata": {
        "id": "M9isEWzt-ATe"
      },
      "execution_count": null,
      "outputs": []
    },
    {
      "cell_type": "markdown",
      "source": [
        "## Working with the Score Tracker\n",
        "\n",
        "Here are some operations we might want to perform:\n",
        "\n",
        "* Calculate average score\n",
        "* Find best and worst cups\n",
        "* Add new cup scores\n",
        "* Generate a race report"
      ],
      "metadata": {
        "id": "Gvj1wEQx-Dt7"
      }
    },
    {
      "cell_type": "code",
      "source": [
        "# Get average\n",
        "scores = racer[\"scores\"]\n",
        "average = sum(scores.values()) / len(scores)\n",
        "print(f\"Average score: {average:.1f}\")"
      ],
      "metadata": {
        "colab": {
          "base_uri": "https://localhost:8080/"
        },
        "id": "4dT0V8ol-IH5",
        "outputId": "5bb57d41-8880-4e48-aac0-60a0f855c77f"
      },
      "execution_count": null,
      "outputs": [
        {
          "output_type": "stream",
          "name": "stdout",
          "text": [
            "Average score: 91.0\n"
          ]
        }
      ]
    },
    {
      "cell_type": "code",
      "source": [
        "# Find the best cup\n",
        "best_cup = max(scores, key=scores.get)\n",
        "best_score = scores[best_cup]\n",
        "print(f\"Best cup: {best_cup} ({best_score})\")"
      ],
      "metadata": {
        "colab": {
          "base_uri": "https://localhost:8080/"
        },
        "id": "FLGj_cGt9ARh",
        "outputId": "6122c227-fc9d-45bd-e654-805deeac92b9"
      },
      "execution_count": null,
      "outputs": [
        {
          "output_type": "stream",
          "name": "stdout",
          "text": [
            "Best cup: Star Cup (95)\n"
          ]
        }
      ]
    },
    {
      "cell_type": "code",
      "source": [
        "# Add a new cup score\n",
        "scores[\"Banana Cup\"] = 91\n",
        "\n",
        "# Print a simple race report\n",
        "print(f\"Race Report for {racer['name']} (ID: {racer['id']})\")\n",
        "for cup, score in scores.items():\n",
        "    print(f\"- {cup}: {score}\")"
      ],
      "metadata": {
        "colab": {
          "base_uri": "https://localhost:8080/"
        },
        "id": "ywYThrp_-TqT",
        "outputId": "65b629f0-0594-4d16-9d32-f2735fc20190"
      },
      "execution_count": null,
      "outputs": [
        {
          "output_type": "stream",
          "name": "stdout",
          "text": [
            "Race Report for Peach (ID: R001)\n",
            "- Mushroom Cup: 92\n",
            "- Flower Cup: 88\n",
            "- Star Cup: 95\n",
            "- Special Cup: 89\n",
            "- Banana Cup: 91\n"
          ]
        }
      ]
    },
    {
      "cell_type": "markdown",
      "source": [
        "## Benefits of Using Dictionaries Here\n",
        "\n",
        "* Cup names as keys make the code readable\n",
        "* Easy to add new cups without changing code structure\n",
        "* Fast lookups when searching for specific cup scores\n",
        "* Nested dictionaries allow organizing complex racer data"
      ],
      "metadata": {
        "id": "IHRKHhb--cvP"
      }
    },
    {
      "cell_type": "markdown",
      "source": [
        "# Nested Dictionaries: Organizing Complex Information\n",
        "\n",
        "Dictionaries can contain other dictionaries as values, creating **nested dictionaries**. This is incredibly useful for organizing complex, hierarchical data.\n",
        "\n",
        "## What is a Nested Dictionary?\n",
        "\n",
        "A nested dictionary is simply a dictionary that contains one or more dictionaries as values:\n"
      ],
      "metadata": {
        "id": "iPSUmX_H-pWI"
      }
    },
    {
      "cell_type": "code",
      "source": [
        "# A group of Mario Kart racers with their cup scores\n",
        "mario_kart_records = {\n",
        "    \"Mario\": {\n",
        "        \"Mushroom Cup\": 92,\n",
        "        \"Flower Cup\": 88,\n",
        "        \"Star Cup\": 95\n",
        "    },\n",
        "    \"Luigi\": {\n",
        "        \"Mushroom Cup\": 95,\n",
        "        \"Flower Cup\": 92,\n",
        "        \"Star Cup\": 88\n",
        "    },\n",
        "    \"Peach\": {\n",
        "        \"Mushroom Cup\": 85,\n",
        "        \"Flower Cup\": 95,\n",
        "        \"Star Cup\": 92\n",
        "    }\n",
        "}"
      ],
      "metadata": {
        "id": "L0JNVv8S-X7G"
      },
      "execution_count": null,
      "outputs": []
    },
    {
      "cell_type": "markdown",
      "source": [
        "## Accessing Nested Dictionary Values\n",
        "\n",
        "To access values in nested dictionaries, use multiple square brackets in sequence:"
      ],
      "metadata": {
        "id": "mHwWhZco-s1i"
      }
    },
    {
      "cell_type": "code",
      "source": [
        "# Get Mario's Star Cup score\n",
        "mario_star_score = mario_kart_records[\"Mario\"][\"Star Cup\"]\n",
        "print(mario_star_score)\n"
      ],
      "metadata": {
        "colab": {
          "base_uri": "https://localhost:8080/"
        },
        "id": "OuAL9YA_-vMN",
        "outputId": "a440c254-8404-4873-af51-9f1b3ca6f300"
      },
      "execution_count": null,
      "outputs": [
        {
          "output_type": "stream",
          "name": "stdout",
          "text": [
            "95\n"
          ]
        }
      ]
    },
    {
      "cell_type": "code",
      "source": [
        "\n",
        "# Get all of Luigi's scores\n",
        "luigi_scores = mario_kart_records[\"Luigi\"]\n",
        "print(luigi_scores)"
      ],
      "metadata": {
        "colab": {
          "base_uri": "https://localhost:8080/"
        },
        "id": "B4cIgA7K-09i",
        "outputId": "84a516ea-b0c9-4e9a-f4d1-b651e9c985ce"
      },
      "execution_count": null,
      "outputs": [
        {
          "output_type": "stream",
          "name": "stdout",
          "text": [
            "{'Mushroom Cup': 95, 'Flower Cup': 92, 'Star Cup': 88}\n"
          ]
        }
      ]
    },
    {
      "cell_type": "markdown",
      "source": [
        "## Real-World Uses of Nested Dictionaries\n",
        "\n",
        "| Application | Structure Example | Benefits |\n",
        "|-------------|-------------------|----------|\n",
        "| Game Stats | `{\"games\": {\"MarioKart\": {\"players\": {...}}}}` | Organizes by game, then by player |\n",
        "| Inventory Systems | `{\"characters\": {\"Mario\": {\"items\": {...}}}}` | Tracks items by character |\n",
        "| Party Games | `{\"minigames\": {\"LuigiPinball\": {\"scores\": {...}}}}` | Groups scores logically |\n",
        "\n",
        "**Best Practice:** Don't nest dictionaries too deeply (more than 2-3 levels) as it makes your code harder to read and maintain."
      ],
      "metadata": {
        "id": "6mJwcWCD-4wp"
      }
    },
    {
      "cell_type": "markdown",
      "source": [
        "# Introduction to JSON: Dictionaries for the Web\n",
        "\n",
        "**JSON** (JavaScript Object Notation) is a lightweight data format that looks remarkably similar to Python dictionaries. It's the standard way to share data between programs, especially on the web.\n",
        "\n",
        "## What is JSON?\n",
        "\n",
        "* JSON is a text-based data format that humans can read and computers can easily process\n",
        "* It stands for **JavaScript Object Notation** but is used by many programming languages\n",
        "* It looks almost exactly like a Python dictionary (with a few small differences)\n",
        "\n",
        "## Why JSON Matters\n",
        "\n",
        "* Allows programs to save data to files that can be read later\n",
        "* Enables different applications to share data (even if written in different languages)\n",
        "* Used by most web APIs (Application Programming Interfaces)\n",
        "* Perfect for:\n",
        "  * Saving game progress\n",
        "  * Storing app settings\n",
        "  * Sending data to/from websites\n",
        "  * Sharing data between different programs\n"
      ],
      "metadata": {
        "id": "J9XCcwU7_FJ8"
      }
    },
    {
      "cell_type": "markdown",
      "source": [
        "## Basic JSON Structure\n",
        "\n",
        "JSON data is built with these components:\n",
        "* **Objects**: Collections of key-value pairs in curly braces `{}`\n",
        "* **Arrays**: Ordered lists of values in square brackets `[]`\n",
        "* **Values**: Can be strings, numbers, objects, arrays, booleans, or null\n",
        "\n",
        "## JSON Example\n",
        "\n",
        "```javascript\n",
        "{\n",
        "  \"character\": \"Mario\",             // String (must use double quotes)\n",
        "  \"speed\": 5,                       // Number (no quotes)\n",
        "  \"isStarPlayer\": true,             // Boolean (lowercase)\n",
        "  \"specialItems\": [                 // Array\n",
        "    \"Fireball\",\n",
        "    \"Star\",\n",
        "    \"Super Mushroom\"\n",
        "  ],\n",
        "  \"stats\": {                        // Nested object\n",
        "    \"acceleration\": 3,\n",
        "    \"handling\": 4,\n",
        "    \"weight\": \"medium\"\n",
        "  },\n",
        "  \"currentPowerUp\": null            // null value\n",
        "}\n",
        "```\n",
        "*Note: Comments (lines with `//`) aren't actually allowed in JSON - they're just shown here for explanation.*\n",
        "\n",
        "\n",
        "## Comparing Python & JSON Syntax\n",
        "\n",
        "| Feature | Python | JSON | Notes |\n",
        "|---------|--------|------|-------|\n",
        "| String Quotes | `'single'` or `\"double\"` | `\"double\"` only | JSON requires double quotes for strings |\n",
        "| Keys | Any immutable type | Strings only (with double quotes) | `{\"name\": \"value\"}` not `{name: \"value\"}` |\n",
        "| Comments | `# comment` | Not allowed | JSON doesn't support comments |\n",
        "| Trailing commas | Allowed (`[1, 2, 3,]`) | Not allowed | Must be `[1, 2, 3]` in JSON |\n",
        "| Booleans | `True`, `False` | `true`, `false` | Lowercase in JSON |\n",
        "| None/null | `None` | `null` | Different spelling |\n"
      ],
      "metadata": {
        "id": "kvrcOvSU_gqM"
      }
    },
    {
      "cell_type": "markdown",
      "source": [
        "# Reading and Writing JSON Files: From Dictionary to Disk and Back\n",
        "\n",
        "In programming, we often need to save our data so it isn't lost when our program ends. JSON files are perfect for saving Python dictionaries to your computer's storage. This process involves two main operations: **writing** (saving) data to a file and **reading** (loading) data from a file.\n",
        "\n",
        "## What Happens When We Save Files?\n",
        "\n",
        "When you save a file in Python:\n",
        "* Your data gets converted to text format\n",
        "* This text is stored as a file on your computer's hard drive\n",
        "* The file remains even after your program ends\n",
        "* Other programs (or your program when run again) can access this file\n",
        "\n",
        "## Starting with a Dictionary\n",
        "\n",
        "First, let's define a dictionary"
      ],
      "metadata": {
        "id": "b_q9rJH4_9Jx"
      }
    },
    {
      "cell_type": "code",
      "source": [
        "# A dictionary containing character information\n",
        "mario_kart_roster = {\n",
        "    \"Mario\": {\n",
        "        \"speed\": 5,\n",
        "        \"acceleration\": 3,\n",
        "        \"handling\": 4,\n",
        "        \"special_item\": \"Fireball\"\n",
        "    },\n",
        "    \"Luigi\": {\n",
        "        \"speed\": 4,\n",
        "        \"acceleration\": 4,\n",
        "        \"handling\": 4,\n",
        "        \"special_item\": \"Green Fireball\"\n",
        "    },\n",
        "    \"Peach\": {\n",
        "        \"speed\": 3,\n",
        "        \"acceleration\": 5,\n",
        "        \"handling\": 5,\n",
        "        \"special_item\": \"Heart\"\n",
        "    }\n",
        "}\n",
        "\n",
        "# Let's check our dictionary\n",
        "print(mario_kart_roster[\"Mario\"])"
      ],
      "metadata": {
        "colab": {
          "base_uri": "https://localhost:8080/"
        },
        "id": "DzW59wvA_kg0",
        "outputId": "42c243ae-42e0-4408-8889-726f61b59d5b"
      },
      "execution_count": null,
      "outputs": [
        {
          "output_type": "stream",
          "name": "stdout",
          "text": [
            "{'speed': 5, 'acceleration': 3, 'handling': 4, 'special_item': 'Fireball'}\n"
          ]
        }
      ]
    },
    {
      "cell_type": "markdown",
      "source": [
        "## Writing a Dictionary to a JSON File\n",
        "\n",
        "To save our dictionary as a JSON file, we use the `json.dump()` function:"
      ],
      "metadata": {
        "id": "XP7z7Nu3OhLA"
      }
    },
    {
      "cell_type": "code",
      "source": [
        "import json\n",
        "\n",
        "# The 'w' means \"write\" mode - we're creating or overwriting a file\n",
        "with open(\"mario_kart_roster.json\", \"w\") as file:\n",
        "    # The indent parameter makes the file more readable with nice formatting\n",
        "    json.dump(mario_kart_roster, file, indent=2)\n",
        "\n",
        "print(\"File has been saved to disk!\")"
      ],
      "metadata": {
        "colab": {
          "base_uri": "https://localhost:8080/"
        },
        "id": "QV3f9WboOlOC",
        "outputId": "c26e4dfe-53c9-45d5-ce94-75c031f163e1"
      },
      "execution_count": null,
      "outputs": [
        {
          "output_type": "stream",
          "name": "stdout",
          "text": [
            "File has been saved to disk!\n"
          ]
        }
      ]
    },
    {
      "cell_type": "markdown",
      "source": [
        "What just happened?\n",
        "1. We opened (or created) a file named \"mario_kart_roster.json\"\n",
        "2. Python converted our dictionary to JSON format\n",
        "3. The formatted text was written to the file\n",
        "4. The file was automatically closed (because we used `with`)\n",
        "\n",
        "## Viewing the File Contents\n",
        "\n",
        "In Jupyter, we can use a special command with an exclamation mark to run shell commands that let us see the actual file:"
      ],
      "metadata": {
        "id": "XgfIlgZwOoZb"
      }
    },
    {
      "cell_type": "code",
      "source": [
        "# The '!' tells Jupyter to run a shell command\n",
        "# 'cat' is a command that displays file contents\n",
        "!cat mario_kart_roster.json"
      ],
      "metadata": {
        "colab": {
          "base_uri": "https://localhost:8080/"
        },
        "id": "yVt9u_aqOqvZ",
        "outputId": "c7018e3f-fa1a-46f6-9933-2a4d930bcf61"
      },
      "execution_count": null,
      "outputs": [
        {
          "output_type": "stream",
          "name": "stdout",
          "text": [
            "{\n",
            "  \"Mario\": {\n",
            "    \"speed\": 5,\n",
            "    \"acceleration\": 3,\n",
            "    \"handling\": 4,\n",
            "    \"special_item\": \"Fireball\"\n",
            "  },\n",
            "  \"Luigi\": {\n",
            "    \"speed\": 4,\n",
            "    \"acceleration\": 4,\n",
            "    \"handling\": 4,\n",
            "    \"special_item\": \"Green Fireball\"\n",
            "  },\n",
            "  \"Peach\": {\n",
            "    \"speed\": 3,\n",
            "    \"acceleration\": 5,\n",
            "    \"handling\": 5,\n",
            "    \"special_item\": \"Heart\"\n",
            "  }\n",
            "}"
          ]
        }
      ]
    },
    {
      "cell_type": "markdown",
      "source": [
        "## Reading JSON Back Into a Python Dictionary\n",
        "\n",
        "Now that our data is saved, let's imagine we've restarted our program and need to load the data back:"
      ],
      "metadata": {
        "id": "u6FmHaoIOzno"
      }
    },
    {
      "cell_type": "code",
      "source": [
        "import json\n",
        "\n",
        "# The 'r' means \"read\" mode - we're opening an existing file\n",
        "with open(\"mario_kart_roster.json\", \"r\") as file:\n",
        "    # Load the JSON data back into a Python dictionary\n",
        "    loaded_roster = json.load(file)\n",
        "\n",
        "print(\"File has been loaded from disk!\")\n",
        "\n",
        "# Let's verify we got our data back by checking one character\n",
        "print(loaded_roster[\"Peach\"])"
      ],
      "metadata": {
        "colab": {
          "base_uri": "https://localhost:8080/"
        },
        "id": "fYziXmUUO0Hm",
        "outputId": "adbfd76d-9c02-4b17-8641-98549f720673"
      },
      "execution_count": null,
      "outputs": [
        {
          "output_type": "stream",
          "name": "stdout",
          "text": [
            "File has been loaded from disk!\n",
            "{'speed': 3, 'acceleration': 5, 'handling': 5, 'special_item': 'Heart'}\n"
          ]
        }
      ]
    },
    {
      "cell_type": "markdown",
      "source": [
        "\n",
        "\n",
        "What just happened?\n",
        "1. We opened the existing \"mario_kart_roster.json\" file\n",
        "2. Python read the text from the file\n",
        "3. The `json.load()` function converted the JSON text back into a Python dictionary\n",
        "4. The file was automatically closed (because we used `with`)\n",
        "\n",
        "## Modifying and Saving Again\n",
        "\n",
        "One of the most common operations is to load a file, make changes, and save it again:"
      ],
      "metadata": {
        "id": "SEiJkGRrO4aj"
      }
    },
    {
      "cell_type": "code",
      "source": [
        "# Load the existing data\n",
        "with open(\"mario_kart_roster.json\", \"r\") as file:\n",
        "    roster = json.load(file)\n",
        "\n",
        "# Add a new character\n",
        "roster[\"Bowser\"] = {\n",
        "    \"speed\": 7,\n",
        "    \"acceleration\": 1,\n",
        "    \"handling\": 2,\n",
        "    \"special_item\": \"Bowser Shell\"\n",
        "}\n",
        "\n",
        "# Modify an existing character\n",
        "roster[\"Mario\"][\"speed\"] = 6  # Mario got faster!\n",
        "\n",
        "# Save the updated data\n",
        "with open(\"mario_kart_roster.json\", \"w\") as file:\n",
        "    json.dump(roster, file, indent=2)\n",
        "\n",
        "print(\"File has been updated!\")"
      ],
      "metadata": {
        "colab": {
          "base_uri": "https://localhost:8080/"
        },
        "id": "3KX1YdoqPEBx",
        "outputId": "26de6b7a-7acc-41e6-8e00-d340bb61efcc"
      },
      "execution_count": null,
      "outputs": [
        {
          "output_type": "stream",
          "name": "stdout",
          "text": [
            "File has been updated!\n"
          ]
        }
      ]
    },
    {
      "cell_type": "code",
      "source": [
        "# View the updated file\n",
        "!cat mario_kart_roster.json"
      ],
      "metadata": {
        "colab": {
          "base_uri": "https://localhost:8080/"
        },
        "id": "Kq9iJRq4PJ3h",
        "outputId": "5be77f2a-b88c-4f80-e897-cf9c43d28ff5"
      },
      "execution_count": null,
      "outputs": [
        {
          "output_type": "stream",
          "name": "stdout",
          "text": [
            "{\n",
            "  \"Mario\": {\n",
            "    \"speed\": 6,\n",
            "    \"acceleration\": 3,\n",
            "    \"handling\": 4,\n",
            "    \"special_item\": \"Fireball\"\n",
            "  },\n",
            "  \"Luigi\": {\n",
            "    \"speed\": 4,\n",
            "    \"acceleration\": 4,\n",
            "    \"handling\": 4,\n",
            "    \"special_item\": \"Green Fireball\"\n",
            "  },\n",
            "  \"Peach\": {\n",
            "    \"speed\": 3,\n",
            "    \"acceleration\": 5,\n",
            "    \"handling\": 5,\n",
            "    \"special_item\": \"Heart\"\n",
            "  },\n",
            "  \"Bowser\": {\n",
            "    \"speed\": 7,\n",
            "    \"acceleration\": 1,\n",
            "    \"handling\": 2,\n",
            "    \"special_item\": \"Bowser Shell\"\n",
            "  }\n",
            "}"
          ]
        }
      ]
    },
    {
      "cell_type": "markdown",
      "source": [
        "## Handling Errors\n",
        "\n",
        "What if the file doesn't exist when we try to read it? Let's add some safety:"
      ],
      "metadata": {
        "id": "YzQ97vPmTXkG"
      }
    },
    {
      "cell_type": "code",
      "source": [
        "import json\n",
        "import os  # This module helps with file operations\n",
        "\n",
        "filename = \"characters.json\"\n",
        "\n",
        "# Check if the file exists before trying to read it\n",
        "if os.path.exists(filename):\n",
        "    with open(filename, \"r\") as file:\n",
        "        characters = json.load(file)\n",
        "    print(f\"Loaded {len(characters)} characters!\")\n",
        "else:\n",
        "    print(f\"The file {filename} doesn't exist yet.\")\n",
        "    # Create a new dictionary instead\n",
        "    characters = {}"
      ],
      "metadata": {
        "colab": {
          "base_uri": "https://localhost:8080/"
        },
        "id": "lHyGNroJTYuD",
        "outputId": "ea42d306-7091-44a2-cd07-a8acc153c9e0"
      },
      "execution_count": null,
      "outputs": [
        {
          "output_type": "stream",
          "name": "stdout",
          "text": [
            "The file characters.json doesn't exist yet.\n"
          ]
        }
      ]
    },
    {
      "cell_type": "markdown",
      "source": [
        "## Common File Operations Explained\n",
        "\n",
        "When working with files, you'll see these terms often:\n",
        "\n",
        "* **open()** - Creates a connection to the file\n",
        "* **with** - Ensures the file gets closed properly, even if errors occur\n",
        "* **\"w\"** - Write mode (creates new file or overwrites existing)\n",
        "* **\"r\"** - Read mode (opens existing file for reading)\n",
        "* **\"a\"** - Append mode (adds to the end of an existing file)\n",
        "* **close()** - Closes the file (handled automatically when using `with`)\n"
      ],
      "metadata": {
        "id": "TUrkBYnYPRGV"
      }
    },
    {
      "cell_type": "markdown",
      "source": [
        "# Database Tables as Collections of Dictionaries\n",
        "\n",
        "To understand databases, start by thinking of them as organized collections of dictionaries with consistent structure. This mental model makes the transition from dictionaries to databases much easier.\n",
        "\n",
        "## Database Tables\n",
        "\n",
        "A **table** in a database is like a collection of dictionaries where:\n",
        "* Each dictionary has exactly the same keys (called **columns**)\n",
        "* Each dictionary represents one record (called a **row**)\n",
        "* One special key serves as a unique identifier (called a **primary key**)\n",
        "\n",
        "## Dictionary vs. Database Table\n",
        "\n",
        "Here's a comparison showing how a list of Mario Kart character dictionaries translates to a database table:\n",
        "\n",
        "**Python Dictionary Approach**:\n",
        "```python\n",
        "characters = [\n",
        "    {\"id\": 1, \"name\": \"Mario\", \"weight_class\": \"Medium\", \"special_item\": \"Fireball\"},\n",
        "    {\"id\": 2, \"name\": \"Bowser\", \"weight_class\": \"Heavy\", \"special_item\": \"Bowser Shell\"},\n",
        "    {\"id\": 3, \"name\": \"Toad\", \"weight_class\": \"Light\", \"special_item\": \"Golden Mushroom\"}\n",
        "]\n",
        "```\n",
        "\n",
        "**Database Table Representation**:\n",
        "\n",
        "| id (Primary Key) | name | weight_class | special_item |\n",
        "|------------------|------|--------------|--------------|\n",
        "| 1 | Mario | Medium | Fireball |\n",
        "| 2 | Bowser | Heavy | Bowser Shell |\n",
        "| 3 | Toad | Light | Golden Mushroom |\n",
        "\n",
        "## Key Database Concepts\n",
        "\n",
        "* **Table**: Collection of rows with the same structure\n",
        "* **Column**: A specific piece of data (like a dictionary key)\n",
        "* **Row**: One complete record (like a dictionary)\n",
        "* **Primary Key**: Unique identifier for each row\n",
        "* **Schema**: The structure definition for tables\n",
        "* **Query**: Instructions to find or modify data\n",
        "\n",
        "## The Benefits of This Structure\n",
        "\n",
        "* Consistency: Every character record has the same fields\n",
        "* Efficiency: Can search by any column quickly\n",
        "* Validation: Can enforce rules (e.g., weight classes must be one of a set of options)\n",
        "* Relationships: Can connect tables (e.g., characters to their karts)"
      ],
      "metadata": {
        "id": "auTFf72gPeas"
      }
    },
    {
      "cell_type": "markdown",
      "source": [
        "# SQLite: A Simple Database for Your Python Programs\n",
        "\n",
        "**SQLite** is a perfect first database for Python projects because it's lightweight, requires no server setup, and is built into Python. It stores your entire database in a single file!\n",
        "\n",
        "Here's an example of how we can use SQLite in Jupyter:"
      ],
      "metadata": {
        "id": "CxIA6Y1oQD1s"
      }
    },
    {
      "cell_type": "code",
      "source": [
        "# Load the SQL magic extension for Jupyter\n",
        "%reload_ext sql\n",
        "%config SqlMagic.style = '_DEPRECATED_DEFAULT'\n",
        "%config SqlMagic.autopandas=True\n",
        "# Connect to a SQLite database (creates it if it doesn't exist)\n",
        "%sql sqlite:///mario_kart.db"
      ],
      "metadata": {
        "id": "EWOGbm65Vzb5"
      },
      "execution_count": null,
      "outputs": []
    },
    {
      "cell_type": "markdown",
      "source": [
        "This code connects to a SQLite database called \"mario_kart.db\". If the database doesn't exist yet, SQLite will create it automatically. The `%sql` magic command allows us to write SQL directly in our notebook cells.\n",
        "\n",
        "## Creating Tables - Defining Data Structure"
      ],
      "metadata": {
        "id": "45l6rIaYV31w"
      }
    },
    {
      "cell_type": "code",
      "source": [
        "%%sql\n",
        "CREATE TABLE IF NOT EXISTS racers (\n",
        "    id INTEGER PRIMARY KEY,\n",
        "    name TEXT NOT NULL,\n",
        "    weight_class TEXT,\n",
        "    top_speed INTEGER,\n",
        "    acceleration REAL\n",
        ")"
      ],
      "metadata": {
        "colab": {
          "base_uri": "https://localhost:8080/",
          "height": 88
        },
        "id": "eRb7pbO1V6G7",
        "outputId": "af2f33ca-e624-4036-c41e-183c3db0fa69"
      },
      "execution_count": null,
      "outputs": [
        {
          "output_type": "stream",
          "name": "stdout",
          "text": [
            " * sqlite:///mario_kart.db\n",
            "Done.\n"
          ]
        },
        {
          "output_type": "execute_result",
          "data": {
            "text/plain": [
              "Empty DataFrame\n",
              "Columns: []\n",
              "Index: []"
            ],
            "text/html": [
              "\n",
              "  <div id=\"df-b562ecd0-8192-4621-beeb-75dbcb3e3a0c\" class=\"colab-df-container\">\n",
              "    <div>\n",
              "<style scoped>\n",
              "    .dataframe tbody tr th:only-of-type {\n",
              "        vertical-align: middle;\n",
              "    }\n",
              "\n",
              "    .dataframe tbody tr th {\n",
              "        vertical-align: top;\n",
              "    }\n",
              "\n",
              "    .dataframe thead th {\n",
              "        text-align: right;\n",
              "    }\n",
              "</style>\n",
              "<table border=\"1\" class=\"dataframe\">\n",
              "  <thead>\n",
              "    <tr style=\"text-align: right;\">\n",
              "      <th></th>\n",
              "    </tr>\n",
              "  </thead>\n",
              "  <tbody>\n",
              "  </tbody>\n",
              "</table>\n",
              "</div>\n",
              "    <div class=\"colab-df-buttons\">\n",
              "\n",
              "  <div class=\"colab-df-container\">\n",
              "    <button class=\"colab-df-convert\" onclick=\"convertToInteractive('df-b562ecd0-8192-4621-beeb-75dbcb3e3a0c')\"\n",
              "            title=\"Convert this dataframe to an interactive table.\"\n",
              "            style=\"display:none;\">\n",
              "\n",
              "  <svg xmlns=\"http://www.w3.org/2000/svg\" height=\"24px\" viewBox=\"0 -960 960 960\">\n",
              "    <path d=\"M120-120v-720h720v720H120Zm60-500h600v-160H180v160Zm220 220h160v-160H400v160Zm0 220h160v-160H400v160ZM180-400h160v-160H180v160Zm440 0h160v-160H620v160ZM180-180h160v-160H180v160Zm440 0h160v-160H620v160Z\"/>\n",
              "  </svg>\n",
              "    </button>\n",
              "\n",
              "  <style>\n",
              "    .colab-df-container {\n",
              "      display:flex;\n",
              "      gap: 12px;\n",
              "    }\n",
              "\n",
              "    .colab-df-convert {\n",
              "      background-color: #E8F0FE;\n",
              "      border: none;\n",
              "      border-radius: 50%;\n",
              "      cursor: pointer;\n",
              "      display: none;\n",
              "      fill: #1967D2;\n",
              "      height: 32px;\n",
              "      padding: 0 0 0 0;\n",
              "      width: 32px;\n",
              "    }\n",
              "\n",
              "    .colab-df-convert:hover {\n",
              "      background-color: #E2EBFA;\n",
              "      box-shadow: 0px 1px 2px rgba(60, 64, 67, 0.3), 0px 1px 3px 1px rgba(60, 64, 67, 0.15);\n",
              "      fill: #174EA6;\n",
              "    }\n",
              "\n",
              "    .colab-df-buttons div {\n",
              "      margin-bottom: 4px;\n",
              "    }\n",
              "\n",
              "    [theme=dark] .colab-df-convert {\n",
              "      background-color: #3B4455;\n",
              "      fill: #D2E3FC;\n",
              "    }\n",
              "\n",
              "    [theme=dark] .colab-df-convert:hover {\n",
              "      background-color: #434B5C;\n",
              "      box-shadow: 0px 1px 3px 1px rgba(0, 0, 0, 0.15);\n",
              "      filter: drop-shadow(0px 1px 2px rgba(0, 0, 0, 0.3));\n",
              "      fill: #FFFFFF;\n",
              "    }\n",
              "  </style>\n",
              "\n",
              "    <script>\n",
              "      const buttonEl =\n",
              "        document.querySelector('#df-b562ecd0-8192-4621-beeb-75dbcb3e3a0c button.colab-df-convert');\n",
              "      buttonEl.style.display =\n",
              "        google.colab.kernel.accessAllowed ? 'block' : 'none';\n",
              "\n",
              "      async function convertToInteractive(key) {\n",
              "        const element = document.querySelector('#df-b562ecd0-8192-4621-beeb-75dbcb3e3a0c');\n",
              "        const dataTable =\n",
              "          await google.colab.kernel.invokeFunction('convertToInteractive',\n",
              "                                                    [key], {});\n",
              "        if (!dataTable) return;\n",
              "\n",
              "        const docLinkHtml = 'Like what you see? Visit the ' +\n",
              "          '<a target=\"_blank\" href=https://colab.research.google.com/notebooks/data_table.ipynb>data table notebook</a>'\n",
              "          + ' to learn more about interactive tables.';\n",
              "        element.innerHTML = '';\n",
              "        dataTable['output_type'] = 'display_data';\n",
              "        await google.colab.output.renderOutput(dataTable, element);\n",
              "        const docLink = document.createElement('div');\n",
              "        docLink.innerHTML = docLinkHtml;\n",
              "        element.appendChild(docLink);\n",
              "      }\n",
              "    </script>\n",
              "  </div>\n",
              "\n",
              "\n",
              "    </div>\n",
              "  </div>\n"
            ],
            "application/vnd.google.colaboratory.intrinsic+json": {
              "type": "dataframe",
              "summary": "{\n  \"name\": \"get_ipython()\",\n  \"rows\": 0,\n  \"fields\": []\n}"
            }
          },
          "metadata": {},
          "execution_count": 25
        }
      ]
    },
    {
      "cell_type": "markdown",
      "source": [
        "The `CREATE TABLE` statement defines the structure of our data:\n",
        "* `id INTEGER PRIMARY KEY` - A unique identifier that automatically increments\n",
        "* `name TEXT NOT NULL` - Racer name that cannot be empty\n",
        "* `weight_class TEXT` - Light, medium, or heavy\n",
        "* `top_speed INTEGER` - Maximum speed value as a whole number\n",
        "* `acceleration REAL` - Acceleration rating as a decimal number\n",
        "\n",
        "## Inserting Data - Adding Records"
      ],
      "metadata": {
        "id": "ihUi86orV9Dx"
      }
    },
    {
      "cell_type": "code",
      "source": [
        "%%sql\n",
        "INSERT INTO racers (name, weight_class, top_speed, acceleration) VALUES\n",
        "    ('Mario', 'Medium', 7, 3.5),\n",
        "    ('Bowser', 'Heavy', 10, 1.8),\n",
        "    ('Toad', 'Light', 5, 4.7),\n",
        "    ('Princess Peach', 'Medium', 6, 3.8),\n",
        "    ('Yoshi', 'Medium', 6, 4.1);"
      ],
      "metadata": {
        "colab": {
          "base_uri": "https://localhost:8080/",
          "height": 88
        },
        "id": "_gVkUJlKV_px",
        "outputId": "de228fb3-e14c-4708-909f-c9bbb1c75e10"
      },
      "execution_count": null,
      "outputs": [
        {
          "output_type": "stream",
          "name": "stdout",
          "text": [
            " * sqlite:///mario_kart.db\n",
            "5 rows affected.\n"
          ]
        },
        {
          "output_type": "execute_result",
          "data": {
            "text/plain": [
              "Empty DataFrame\n",
              "Columns: []\n",
              "Index: []"
            ],
            "text/html": [
              "\n",
              "  <div id=\"df-ba6fd998-2d75-426e-aae5-48a748afae00\" class=\"colab-df-container\">\n",
              "    <div>\n",
              "<style scoped>\n",
              "    .dataframe tbody tr th:only-of-type {\n",
              "        vertical-align: middle;\n",
              "    }\n",
              "\n",
              "    .dataframe tbody tr th {\n",
              "        vertical-align: top;\n",
              "    }\n",
              "\n",
              "    .dataframe thead th {\n",
              "        text-align: right;\n",
              "    }\n",
              "</style>\n",
              "<table border=\"1\" class=\"dataframe\">\n",
              "  <thead>\n",
              "    <tr style=\"text-align: right;\">\n",
              "      <th></th>\n",
              "    </tr>\n",
              "  </thead>\n",
              "  <tbody>\n",
              "  </tbody>\n",
              "</table>\n",
              "</div>\n",
              "    <div class=\"colab-df-buttons\">\n",
              "\n",
              "  <div class=\"colab-df-container\">\n",
              "    <button class=\"colab-df-convert\" onclick=\"convertToInteractive('df-ba6fd998-2d75-426e-aae5-48a748afae00')\"\n",
              "            title=\"Convert this dataframe to an interactive table.\"\n",
              "            style=\"display:none;\">\n",
              "\n",
              "  <svg xmlns=\"http://www.w3.org/2000/svg\" height=\"24px\" viewBox=\"0 -960 960 960\">\n",
              "    <path d=\"M120-120v-720h720v720H120Zm60-500h600v-160H180v160Zm220 220h160v-160H400v160Zm0 220h160v-160H400v160ZM180-400h160v-160H180v160Zm440 0h160v-160H620v160ZM180-180h160v-160H180v160Zm440 0h160v-160H620v160Z\"/>\n",
              "  </svg>\n",
              "    </button>\n",
              "\n",
              "  <style>\n",
              "    .colab-df-container {\n",
              "      display:flex;\n",
              "      gap: 12px;\n",
              "    }\n",
              "\n",
              "    .colab-df-convert {\n",
              "      background-color: #E8F0FE;\n",
              "      border: none;\n",
              "      border-radius: 50%;\n",
              "      cursor: pointer;\n",
              "      display: none;\n",
              "      fill: #1967D2;\n",
              "      height: 32px;\n",
              "      padding: 0 0 0 0;\n",
              "      width: 32px;\n",
              "    }\n",
              "\n",
              "    .colab-df-convert:hover {\n",
              "      background-color: #E2EBFA;\n",
              "      box-shadow: 0px 1px 2px rgba(60, 64, 67, 0.3), 0px 1px 3px 1px rgba(60, 64, 67, 0.15);\n",
              "      fill: #174EA6;\n",
              "    }\n",
              "\n",
              "    .colab-df-buttons div {\n",
              "      margin-bottom: 4px;\n",
              "    }\n",
              "\n",
              "    [theme=dark] .colab-df-convert {\n",
              "      background-color: #3B4455;\n",
              "      fill: #D2E3FC;\n",
              "    }\n",
              "\n",
              "    [theme=dark] .colab-df-convert:hover {\n",
              "      background-color: #434B5C;\n",
              "      box-shadow: 0px 1px 3px 1px rgba(0, 0, 0, 0.15);\n",
              "      filter: drop-shadow(0px 1px 2px rgba(0, 0, 0, 0.3));\n",
              "      fill: #FFFFFF;\n",
              "    }\n",
              "  </style>\n",
              "\n",
              "    <script>\n",
              "      const buttonEl =\n",
              "        document.querySelector('#df-ba6fd998-2d75-426e-aae5-48a748afae00 button.colab-df-convert');\n",
              "      buttonEl.style.display =\n",
              "        google.colab.kernel.accessAllowed ? 'block' : 'none';\n",
              "\n",
              "      async function convertToInteractive(key) {\n",
              "        const element = document.querySelector('#df-ba6fd998-2d75-426e-aae5-48a748afae00');\n",
              "        const dataTable =\n",
              "          await google.colab.kernel.invokeFunction('convertToInteractive',\n",
              "                                                    [key], {});\n",
              "        if (!dataTable) return;\n",
              "\n",
              "        const docLinkHtml = 'Like what you see? Visit the ' +\n",
              "          '<a target=\"_blank\" href=https://colab.research.google.com/notebooks/data_table.ipynb>data table notebook</a>'\n",
              "          + ' to learn more about interactive tables.';\n",
              "        element.innerHTML = '';\n",
              "        dataTable['output_type'] = 'display_data';\n",
              "        await google.colab.output.renderOutput(dataTable, element);\n",
              "        const docLink = document.createElement('div');\n",
              "        docLink.innerHTML = docLinkHtml;\n",
              "        element.appendChild(docLink);\n",
              "      }\n",
              "    </script>\n",
              "  </div>\n",
              "\n",
              "\n",
              "    </div>\n",
              "  </div>\n"
            ],
            "application/vnd.google.colaboratory.intrinsic+json": {
              "type": "dataframe",
              "summary": "{\n  \"name\": \"get_ipython()\",\n  \"rows\": 0,\n  \"fields\": []\n}"
            }
          },
          "metadata": {},
          "execution_count": 26
        }
      ]
    },
    {
      "cell_type": "markdown",
      "source": [
        "This statement adds 5 racers to our table. We:\n",
        "* Specify the columns we're filling\n",
        "* Use `VALUES` followed by tuples for each record\n",
        "* Don't specify `id` values - SQLite assigns them automatically\n",
        "\n",
        "## Retrieving Data - Basic Query"
      ],
      "metadata": {
        "id": "Ig-g_4FKWDcQ"
      }
    },
    {
      "cell_type": "code",
      "source": [
        "%%sql\n",
        "SELECT * FROM racers"
      ],
      "metadata": {
        "colab": {
          "base_uri": "https://localhost:8080/",
          "height": 241
        },
        "id": "GEAVK2MDWGJb",
        "outputId": "03efda9c-6fca-4eef-ff1a-d2d3f1d3dfe2"
      },
      "execution_count": null,
      "outputs": [
        {
          "output_type": "stream",
          "name": "stdout",
          "text": [
            " * sqlite:///mario_kart.db\n",
            "Done.\n"
          ]
        },
        {
          "output_type": "execute_result",
          "data": {
            "text/plain": [
              "   id            name weight_class  top_speed  acceleration\n",
              "0   1           Mario       Medium          7           3.5\n",
              "1   2          Bowser        Heavy         10           1.8\n",
              "2   3            Toad        Light          5           4.7\n",
              "3   4  Princess Peach       Medium          6           3.8\n",
              "4   5           Yoshi       Medium          6           4.1"
            ],
            "text/html": [
              "\n",
              "  <div id=\"df-727dcb91-0ff3-4a5c-bb52-dd5617d8d561\" class=\"colab-df-container\">\n",
              "    <div>\n",
              "<style scoped>\n",
              "    .dataframe tbody tr th:only-of-type {\n",
              "        vertical-align: middle;\n",
              "    }\n",
              "\n",
              "    .dataframe tbody tr th {\n",
              "        vertical-align: top;\n",
              "    }\n",
              "\n",
              "    .dataframe thead th {\n",
              "        text-align: right;\n",
              "    }\n",
              "</style>\n",
              "<table border=\"1\" class=\"dataframe\">\n",
              "  <thead>\n",
              "    <tr style=\"text-align: right;\">\n",
              "      <th></th>\n",
              "      <th>id</th>\n",
              "      <th>name</th>\n",
              "      <th>weight_class</th>\n",
              "      <th>top_speed</th>\n",
              "      <th>acceleration</th>\n",
              "    </tr>\n",
              "  </thead>\n",
              "  <tbody>\n",
              "    <tr>\n",
              "      <th>0</th>\n",
              "      <td>1</td>\n",
              "      <td>Mario</td>\n",
              "      <td>Medium</td>\n",
              "      <td>7</td>\n",
              "      <td>3.5</td>\n",
              "    </tr>\n",
              "    <tr>\n",
              "      <th>1</th>\n",
              "      <td>2</td>\n",
              "      <td>Bowser</td>\n",
              "      <td>Heavy</td>\n",
              "      <td>10</td>\n",
              "      <td>1.8</td>\n",
              "    </tr>\n",
              "    <tr>\n",
              "      <th>2</th>\n",
              "      <td>3</td>\n",
              "      <td>Toad</td>\n",
              "      <td>Light</td>\n",
              "      <td>5</td>\n",
              "      <td>4.7</td>\n",
              "    </tr>\n",
              "    <tr>\n",
              "      <th>3</th>\n",
              "      <td>4</td>\n",
              "      <td>Princess Peach</td>\n",
              "      <td>Medium</td>\n",
              "      <td>6</td>\n",
              "      <td>3.8</td>\n",
              "    </tr>\n",
              "    <tr>\n",
              "      <th>4</th>\n",
              "      <td>5</td>\n",
              "      <td>Yoshi</td>\n",
              "      <td>Medium</td>\n",
              "      <td>6</td>\n",
              "      <td>4.1</td>\n",
              "    </tr>\n",
              "  </tbody>\n",
              "</table>\n",
              "</div>\n",
              "    <div class=\"colab-df-buttons\">\n",
              "\n",
              "  <div class=\"colab-df-container\">\n",
              "    <button class=\"colab-df-convert\" onclick=\"convertToInteractive('df-727dcb91-0ff3-4a5c-bb52-dd5617d8d561')\"\n",
              "            title=\"Convert this dataframe to an interactive table.\"\n",
              "            style=\"display:none;\">\n",
              "\n",
              "  <svg xmlns=\"http://www.w3.org/2000/svg\" height=\"24px\" viewBox=\"0 -960 960 960\">\n",
              "    <path d=\"M120-120v-720h720v720H120Zm60-500h600v-160H180v160Zm220 220h160v-160H400v160Zm0 220h160v-160H400v160ZM180-400h160v-160H180v160Zm440 0h160v-160H620v160ZM180-180h160v-160H180v160Zm440 0h160v-160H620v160Z\"/>\n",
              "  </svg>\n",
              "    </button>\n",
              "\n",
              "  <style>\n",
              "    .colab-df-container {\n",
              "      display:flex;\n",
              "      gap: 12px;\n",
              "    }\n",
              "\n",
              "    .colab-df-convert {\n",
              "      background-color: #E8F0FE;\n",
              "      border: none;\n",
              "      border-radius: 50%;\n",
              "      cursor: pointer;\n",
              "      display: none;\n",
              "      fill: #1967D2;\n",
              "      height: 32px;\n",
              "      padding: 0 0 0 0;\n",
              "      width: 32px;\n",
              "    }\n",
              "\n",
              "    .colab-df-convert:hover {\n",
              "      background-color: #E2EBFA;\n",
              "      box-shadow: 0px 1px 2px rgba(60, 64, 67, 0.3), 0px 1px 3px 1px rgba(60, 64, 67, 0.15);\n",
              "      fill: #174EA6;\n",
              "    }\n",
              "\n",
              "    .colab-df-buttons div {\n",
              "      margin-bottom: 4px;\n",
              "    }\n",
              "\n",
              "    [theme=dark] .colab-df-convert {\n",
              "      background-color: #3B4455;\n",
              "      fill: #D2E3FC;\n",
              "    }\n",
              "\n",
              "    [theme=dark] .colab-df-convert:hover {\n",
              "      background-color: #434B5C;\n",
              "      box-shadow: 0px 1px 3px 1px rgba(0, 0, 0, 0.15);\n",
              "      filter: drop-shadow(0px 1px 2px rgba(0, 0, 0, 0.3));\n",
              "      fill: #FFFFFF;\n",
              "    }\n",
              "  </style>\n",
              "\n",
              "    <script>\n",
              "      const buttonEl =\n",
              "        document.querySelector('#df-727dcb91-0ff3-4a5c-bb52-dd5617d8d561 button.colab-df-convert');\n",
              "      buttonEl.style.display =\n",
              "        google.colab.kernel.accessAllowed ? 'block' : 'none';\n",
              "\n",
              "      async function convertToInteractive(key) {\n",
              "        const element = document.querySelector('#df-727dcb91-0ff3-4a5c-bb52-dd5617d8d561');\n",
              "        const dataTable =\n",
              "          await google.colab.kernel.invokeFunction('convertToInteractive',\n",
              "                                                    [key], {});\n",
              "        if (!dataTable) return;\n",
              "\n",
              "        const docLinkHtml = 'Like what you see? Visit the ' +\n",
              "          '<a target=\"_blank\" href=https://colab.research.google.com/notebooks/data_table.ipynb>data table notebook</a>'\n",
              "          + ' to learn more about interactive tables.';\n",
              "        element.innerHTML = '';\n",
              "        dataTable['output_type'] = 'display_data';\n",
              "        await google.colab.output.renderOutput(dataTable, element);\n",
              "        const docLink = document.createElement('div');\n",
              "        docLink.innerHTML = docLinkHtml;\n",
              "        element.appendChild(docLink);\n",
              "      }\n",
              "    </script>\n",
              "  </div>\n",
              "\n",
              "\n",
              "<div id=\"df-db29a174-6ad0-4a8e-bd17-8db0b22104f8\">\n",
              "  <button class=\"colab-df-quickchart\" onclick=\"quickchart('df-db29a174-6ad0-4a8e-bd17-8db0b22104f8')\"\n",
              "            title=\"Suggest charts\"\n",
              "            style=\"display:none;\">\n",
              "\n",
              "<svg xmlns=\"http://www.w3.org/2000/svg\" height=\"24px\"viewBox=\"0 0 24 24\"\n",
              "     width=\"24px\">\n",
              "    <g>\n",
              "        <path d=\"M19 3H5c-1.1 0-2 .9-2 2v14c0 1.1.9 2 2 2h14c1.1 0 2-.9 2-2V5c0-1.1-.9-2-2-2zM9 17H7v-7h2v7zm4 0h-2V7h2v10zm4 0h-2v-4h2v4z\"/>\n",
              "    </g>\n",
              "</svg>\n",
              "  </button>\n",
              "\n",
              "<style>\n",
              "  .colab-df-quickchart {\n",
              "      --bg-color: #E8F0FE;\n",
              "      --fill-color: #1967D2;\n",
              "      --hover-bg-color: #E2EBFA;\n",
              "      --hover-fill-color: #174EA6;\n",
              "      --disabled-fill-color: #AAA;\n",
              "      --disabled-bg-color: #DDD;\n",
              "  }\n",
              "\n",
              "  [theme=dark] .colab-df-quickchart {\n",
              "      --bg-color: #3B4455;\n",
              "      --fill-color: #D2E3FC;\n",
              "      --hover-bg-color: #434B5C;\n",
              "      --hover-fill-color: #FFFFFF;\n",
              "      --disabled-bg-color: #3B4455;\n",
              "      --disabled-fill-color: #666;\n",
              "  }\n",
              "\n",
              "  .colab-df-quickchart {\n",
              "    background-color: var(--bg-color);\n",
              "    border: none;\n",
              "    border-radius: 50%;\n",
              "    cursor: pointer;\n",
              "    display: none;\n",
              "    fill: var(--fill-color);\n",
              "    height: 32px;\n",
              "    padding: 0;\n",
              "    width: 32px;\n",
              "  }\n",
              "\n",
              "  .colab-df-quickchart:hover {\n",
              "    background-color: var(--hover-bg-color);\n",
              "    box-shadow: 0 1px 2px rgba(60, 64, 67, 0.3), 0 1px 3px 1px rgba(60, 64, 67, 0.15);\n",
              "    fill: var(--button-hover-fill-color);\n",
              "  }\n",
              "\n",
              "  .colab-df-quickchart-complete:disabled,\n",
              "  .colab-df-quickchart-complete:disabled:hover {\n",
              "    background-color: var(--disabled-bg-color);\n",
              "    fill: var(--disabled-fill-color);\n",
              "    box-shadow: none;\n",
              "  }\n",
              "\n",
              "  .colab-df-spinner {\n",
              "    border: 2px solid var(--fill-color);\n",
              "    border-color: transparent;\n",
              "    border-bottom-color: var(--fill-color);\n",
              "    animation:\n",
              "      spin 1s steps(1) infinite;\n",
              "  }\n",
              "\n",
              "  @keyframes spin {\n",
              "    0% {\n",
              "      border-color: transparent;\n",
              "      border-bottom-color: var(--fill-color);\n",
              "      border-left-color: var(--fill-color);\n",
              "    }\n",
              "    20% {\n",
              "      border-color: transparent;\n",
              "      border-left-color: var(--fill-color);\n",
              "      border-top-color: var(--fill-color);\n",
              "    }\n",
              "    30% {\n",
              "      border-color: transparent;\n",
              "      border-left-color: var(--fill-color);\n",
              "      border-top-color: var(--fill-color);\n",
              "      border-right-color: var(--fill-color);\n",
              "    }\n",
              "    40% {\n",
              "      border-color: transparent;\n",
              "      border-right-color: var(--fill-color);\n",
              "      border-top-color: var(--fill-color);\n",
              "    }\n",
              "    60% {\n",
              "      border-color: transparent;\n",
              "      border-right-color: var(--fill-color);\n",
              "    }\n",
              "    80% {\n",
              "      border-color: transparent;\n",
              "      border-right-color: var(--fill-color);\n",
              "      border-bottom-color: var(--fill-color);\n",
              "    }\n",
              "    90% {\n",
              "      border-color: transparent;\n",
              "      border-bottom-color: var(--fill-color);\n",
              "    }\n",
              "  }\n",
              "</style>\n",
              "\n",
              "  <script>\n",
              "    async function quickchart(key) {\n",
              "      const quickchartButtonEl =\n",
              "        document.querySelector('#' + key + ' button');\n",
              "      quickchartButtonEl.disabled = true;  // To prevent multiple clicks.\n",
              "      quickchartButtonEl.classList.add('colab-df-spinner');\n",
              "      try {\n",
              "        const charts = await google.colab.kernel.invokeFunction(\n",
              "            'suggestCharts', [key], {});\n",
              "      } catch (error) {\n",
              "        console.error('Error during call to suggestCharts:', error);\n",
              "      }\n",
              "      quickchartButtonEl.classList.remove('colab-df-spinner');\n",
              "      quickchartButtonEl.classList.add('colab-df-quickchart-complete');\n",
              "    }\n",
              "    (() => {\n",
              "      let quickchartButtonEl =\n",
              "        document.querySelector('#df-db29a174-6ad0-4a8e-bd17-8db0b22104f8 button');\n",
              "      quickchartButtonEl.style.display =\n",
              "        google.colab.kernel.accessAllowed ? 'block' : 'none';\n",
              "    })();\n",
              "  </script>\n",
              "</div>\n",
              "\n",
              "    </div>\n",
              "  </div>\n"
            ],
            "application/vnd.google.colaboratory.intrinsic+json": {
              "type": "dataframe",
              "summary": "{\n  \"name\": \"get_ipython()\",\n  \"rows\": 5,\n  \"fields\": [\n    {\n      \"column\": \"id\",\n      \"properties\": {\n        \"dtype\": \"number\",\n        \"std\": 1,\n        \"min\": 1,\n        \"max\": 5,\n        \"num_unique_values\": 5,\n        \"samples\": [\n          2,\n          5,\n          3\n        ],\n        \"semantic_type\": \"\",\n        \"description\": \"\"\n      }\n    },\n    {\n      \"column\": \"name\",\n      \"properties\": {\n        \"dtype\": \"string\",\n        \"num_unique_values\": 5,\n        \"samples\": [\n          \"Bowser\",\n          \"Yoshi\",\n          \"Toad\"\n        ],\n        \"semantic_type\": \"\",\n        \"description\": \"\"\n      }\n    },\n    {\n      \"column\": \"weight_class\",\n      \"properties\": {\n        \"dtype\": \"string\",\n        \"num_unique_values\": 3,\n        \"samples\": [\n          \"Medium\",\n          \"Heavy\",\n          \"Light\"\n        ],\n        \"semantic_type\": \"\",\n        \"description\": \"\"\n      }\n    },\n    {\n      \"column\": \"top_speed\",\n      \"properties\": {\n        \"dtype\": \"number\",\n        \"std\": 1,\n        \"min\": 5,\n        \"max\": 10,\n        \"num_unique_values\": 4,\n        \"samples\": [\n          10,\n          6,\n          7\n        ],\n        \"semantic_type\": \"\",\n        \"description\": \"\"\n      }\n    },\n    {\n      \"column\": \"acceleration\",\n      \"properties\": {\n        \"dtype\": \"number\",\n        \"std\": 1.089495295997188,\n        \"min\": 1.8,\n        \"max\": 4.7,\n        \"num_unique_values\": 5,\n        \"samples\": [\n          1.8,\n          4.1,\n          4.7\n        ],\n        \"semantic_type\": \"\",\n        \"description\": \"\"\n      }\n    }\n  ]\n}"
            }
          },
          "metadata": {},
          "execution_count": 29
        }
      ]
    },
    {
      "cell_type": "markdown",
      "source": [
        "This query requests all columns (`*`) and all rows from the `racers` table. The `*` is a wildcard representing \"all columns.\" The result will show us the complete dataset.\n",
        "\n",
        "## Retrieving Data - With Filtering"
      ],
      "metadata": {
        "id": "ZbvEBGmBYrqQ"
      }
    },
    {
      "cell_type": "code",
      "source": [
        "%%sql\n",
        "SELECT name, top_speed, acceleration\n",
        "FROM racers\n",
        "WHERE weight_class = 'Medium'\n",
        "ORDER BY acceleration DESC"
      ],
      "metadata": {
        "colab": {
          "base_uri": "https://localhost:8080/",
          "height": 178
        },
        "id": "f77nVsXmYuJ2",
        "outputId": "3114d97d-bb6e-4cc7-858d-50938ebca458"
      },
      "execution_count": null,
      "outputs": [
        {
          "output_type": "stream",
          "name": "stdout",
          "text": [
            " * sqlite:///mario_kart.db\n",
            "Done.\n"
          ]
        },
        {
          "output_type": "execute_result",
          "data": {
            "text/plain": [
              "             name  top_speed  acceleration\n",
              "0           Yoshi          6           4.1\n",
              "1  Princess Peach          6           3.8\n",
              "2           Mario          7           3.5"
            ],
            "text/html": [
              "\n",
              "  <div id=\"df-81360d8b-34c3-4d45-b7ed-196024f85bb0\" class=\"colab-df-container\">\n",
              "    <div>\n",
              "<style scoped>\n",
              "    .dataframe tbody tr th:only-of-type {\n",
              "        vertical-align: middle;\n",
              "    }\n",
              "\n",
              "    .dataframe tbody tr th {\n",
              "        vertical-align: top;\n",
              "    }\n",
              "\n",
              "    .dataframe thead th {\n",
              "        text-align: right;\n",
              "    }\n",
              "</style>\n",
              "<table border=\"1\" class=\"dataframe\">\n",
              "  <thead>\n",
              "    <tr style=\"text-align: right;\">\n",
              "      <th></th>\n",
              "      <th>name</th>\n",
              "      <th>top_speed</th>\n",
              "      <th>acceleration</th>\n",
              "    </tr>\n",
              "  </thead>\n",
              "  <tbody>\n",
              "    <tr>\n",
              "      <th>0</th>\n",
              "      <td>Yoshi</td>\n",
              "      <td>6</td>\n",
              "      <td>4.1</td>\n",
              "    </tr>\n",
              "    <tr>\n",
              "      <th>1</th>\n",
              "      <td>Princess Peach</td>\n",
              "      <td>6</td>\n",
              "      <td>3.8</td>\n",
              "    </tr>\n",
              "    <tr>\n",
              "      <th>2</th>\n",
              "      <td>Mario</td>\n",
              "      <td>7</td>\n",
              "      <td>3.5</td>\n",
              "    </tr>\n",
              "  </tbody>\n",
              "</table>\n",
              "</div>\n",
              "    <div class=\"colab-df-buttons\">\n",
              "\n",
              "  <div class=\"colab-df-container\">\n",
              "    <button class=\"colab-df-convert\" onclick=\"convertToInteractive('df-81360d8b-34c3-4d45-b7ed-196024f85bb0')\"\n",
              "            title=\"Convert this dataframe to an interactive table.\"\n",
              "            style=\"display:none;\">\n",
              "\n",
              "  <svg xmlns=\"http://www.w3.org/2000/svg\" height=\"24px\" viewBox=\"0 -960 960 960\">\n",
              "    <path d=\"M120-120v-720h720v720H120Zm60-500h600v-160H180v160Zm220 220h160v-160H400v160Zm0 220h160v-160H400v160ZM180-400h160v-160H180v160Zm440 0h160v-160H620v160ZM180-180h160v-160H180v160Zm440 0h160v-160H620v160Z\"/>\n",
              "  </svg>\n",
              "    </button>\n",
              "\n",
              "  <style>\n",
              "    .colab-df-container {\n",
              "      display:flex;\n",
              "      gap: 12px;\n",
              "    }\n",
              "\n",
              "    .colab-df-convert {\n",
              "      background-color: #E8F0FE;\n",
              "      border: none;\n",
              "      border-radius: 50%;\n",
              "      cursor: pointer;\n",
              "      display: none;\n",
              "      fill: #1967D2;\n",
              "      height: 32px;\n",
              "      padding: 0 0 0 0;\n",
              "      width: 32px;\n",
              "    }\n",
              "\n",
              "    .colab-df-convert:hover {\n",
              "      background-color: #E2EBFA;\n",
              "      box-shadow: 0px 1px 2px rgba(60, 64, 67, 0.3), 0px 1px 3px 1px rgba(60, 64, 67, 0.15);\n",
              "      fill: #174EA6;\n",
              "    }\n",
              "\n",
              "    .colab-df-buttons div {\n",
              "      margin-bottom: 4px;\n",
              "    }\n",
              "\n",
              "    [theme=dark] .colab-df-convert {\n",
              "      background-color: #3B4455;\n",
              "      fill: #D2E3FC;\n",
              "    }\n",
              "\n",
              "    [theme=dark] .colab-df-convert:hover {\n",
              "      background-color: #434B5C;\n",
              "      box-shadow: 0px 1px 3px 1px rgba(0, 0, 0, 0.15);\n",
              "      filter: drop-shadow(0px 1px 2px rgba(0, 0, 0, 0.3));\n",
              "      fill: #FFFFFF;\n",
              "    }\n",
              "  </style>\n",
              "\n",
              "    <script>\n",
              "      const buttonEl =\n",
              "        document.querySelector('#df-81360d8b-34c3-4d45-b7ed-196024f85bb0 button.colab-df-convert');\n",
              "      buttonEl.style.display =\n",
              "        google.colab.kernel.accessAllowed ? 'block' : 'none';\n",
              "\n",
              "      async function convertToInteractive(key) {\n",
              "        const element = document.querySelector('#df-81360d8b-34c3-4d45-b7ed-196024f85bb0');\n",
              "        const dataTable =\n",
              "          await google.colab.kernel.invokeFunction('convertToInteractive',\n",
              "                                                    [key], {});\n",
              "        if (!dataTable) return;\n",
              "\n",
              "        const docLinkHtml = 'Like what you see? Visit the ' +\n",
              "          '<a target=\"_blank\" href=https://colab.research.google.com/notebooks/data_table.ipynb>data table notebook</a>'\n",
              "          + ' to learn more about interactive tables.';\n",
              "        element.innerHTML = '';\n",
              "        dataTable['output_type'] = 'display_data';\n",
              "        await google.colab.output.renderOutput(dataTable, element);\n",
              "        const docLink = document.createElement('div');\n",
              "        docLink.innerHTML = docLinkHtml;\n",
              "        element.appendChild(docLink);\n",
              "      }\n",
              "    </script>\n",
              "  </div>\n",
              "\n",
              "\n",
              "<div id=\"df-c81e5511-9b71-49aa-957c-5998dab6313a\">\n",
              "  <button class=\"colab-df-quickchart\" onclick=\"quickchart('df-c81e5511-9b71-49aa-957c-5998dab6313a')\"\n",
              "            title=\"Suggest charts\"\n",
              "            style=\"display:none;\">\n",
              "\n",
              "<svg xmlns=\"http://www.w3.org/2000/svg\" height=\"24px\"viewBox=\"0 0 24 24\"\n",
              "     width=\"24px\">\n",
              "    <g>\n",
              "        <path d=\"M19 3H5c-1.1 0-2 .9-2 2v14c0 1.1.9 2 2 2h14c1.1 0 2-.9 2-2V5c0-1.1-.9-2-2-2zM9 17H7v-7h2v7zm4 0h-2V7h2v10zm4 0h-2v-4h2v4z\"/>\n",
              "    </g>\n",
              "</svg>\n",
              "  </button>\n",
              "\n",
              "<style>\n",
              "  .colab-df-quickchart {\n",
              "      --bg-color: #E8F0FE;\n",
              "      --fill-color: #1967D2;\n",
              "      --hover-bg-color: #E2EBFA;\n",
              "      --hover-fill-color: #174EA6;\n",
              "      --disabled-fill-color: #AAA;\n",
              "      --disabled-bg-color: #DDD;\n",
              "  }\n",
              "\n",
              "  [theme=dark] .colab-df-quickchart {\n",
              "      --bg-color: #3B4455;\n",
              "      --fill-color: #D2E3FC;\n",
              "      --hover-bg-color: #434B5C;\n",
              "      --hover-fill-color: #FFFFFF;\n",
              "      --disabled-bg-color: #3B4455;\n",
              "      --disabled-fill-color: #666;\n",
              "  }\n",
              "\n",
              "  .colab-df-quickchart {\n",
              "    background-color: var(--bg-color);\n",
              "    border: none;\n",
              "    border-radius: 50%;\n",
              "    cursor: pointer;\n",
              "    display: none;\n",
              "    fill: var(--fill-color);\n",
              "    height: 32px;\n",
              "    padding: 0;\n",
              "    width: 32px;\n",
              "  }\n",
              "\n",
              "  .colab-df-quickchart:hover {\n",
              "    background-color: var(--hover-bg-color);\n",
              "    box-shadow: 0 1px 2px rgba(60, 64, 67, 0.3), 0 1px 3px 1px rgba(60, 64, 67, 0.15);\n",
              "    fill: var(--button-hover-fill-color);\n",
              "  }\n",
              "\n",
              "  .colab-df-quickchart-complete:disabled,\n",
              "  .colab-df-quickchart-complete:disabled:hover {\n",
              "    background-color: var(--disabled-bg-color);\n",
              "    fill: var(--disabled-fill-color);\n",
              "    box-shadow: none;\n",
              "  }\n",
              "\n",
              "  .colab-df-spinner {\n",
              "    border: 2px solid var(--fill-color);\n",
              "    border-color: transparent;\n",
              "    border-bottom-color: var(--fill-color);\n",
              "    animation:\n",
              "      spin 1s steps(1) infinite;\n",
              "  }\n",
              "\n",
              "  @keyframes spin {\n",
              "    0% {\n",
              "      border-color: transparent;\n",
              "      border-bottom-color: var(--fill-color);\n",
              "      border-left-color: var(--fill-color);\n",
              "    }\n",
              "    20% {\n",
              "      border-color: transparent;\n",
              "      border-left-color: var(--fill-color);\n",
              "      border-top-color: var(--fill-color);\n",
              "    }\n",
              "    30% {\n",
              "      border-color: transparent;\n",
              "      border-left-color: var(--fill-color);\n",
              "      border-top-color: var(--fill-color);\n",
              "      border-right-color: var(--fill-color);\n",
              "    }\n",
              "    40% {\n",
              "      border-color: transparent;\n",
              "      border-right-color: var(--fill-color);\n",
              "      border-top-color: var(--fill-color);\n",
              "    }\n",
              "    60% {\n",
              "      border-color: transparent;\n",
              "      border-right-color: var(--fill-color);\n",
              "    }\n",
              "    80% {\n",
              "      border-color: transparent;\n",
              "      border-right-color: var(--fill-color);\n",
              "      border-bottom-color: var(--fill-color);\n",
              "    }\n",
              "    90% {\n",
              "      border-color: transparent;\n",
              "      border-bottom-color: var(--fill-color);\n",
              "    }\n",
              "  }\n",
              "</style>\n",
              "\n",
              "  <script>\n",
              "    async function quickchart(key) {\n",
              "      const quickchartButtonEl =\n",
              "        document.querySelector('#' + key + ' button');\n",
              "      quickchartButtonEl.disabled = true;  // To prevent multiple clicks.\n",
              "      quickchartButtonEl.classList.add('colab-df-spinner');\n",
              "      try {\n",
              "        const charts = await google.colab.kernel.invokeFunction(\n",
              "            'suggestCharts', [key], {});\n",
              "      } catch (error) {\n",
              "        console.error('Error during call to suggestCharts:', error);\n",
              "      }\n",
              "      quickchartButtonEl.classList.remove('colab-df-spinner');\n",
              "      quickchartButtonEl.classList.add('colab-df-quickchart-complete');\n",
              "    }\n",
              "    (() => {\n",
              "      let quickchartButtonEl =\n",
              "        document.querySelector('#df-c81e5511-9b71-49aa-957c-5998dab6313a button');\n",
              "      quickchartButtonEl.style.display =\n",
              "        google.colab.kernel.accessAllowed ? 'block' : 'none';\n",
              "    })();\n",
              "  </script>\n",
              "</div>\n",
              "\n",
              "    </div>\n",
              "  </div>\n"
            ],
            "application/vnd.google.colaboratory.intrinsic+json": {
              "type": "dataframe",
              "summary": "{\n  \"name\": \"get_ipython()\",\n  \"rows\": 3,\n  \"fields\": [\n    {\n      \"column\": \"name\",\n      \"properties\": {\n        \"dtype\": \"string\",\n        \"num_unique_values\": 3,\n        \"samples\": [\n          \"Yoshi\",\n          \"Princess Peach\",\n          \"Mario\"\n        ],\n        \"semantic_type\": \"\",\n        \"description\": \"\"\n      }\n    },\n    {\n      \"column\": \"top_speed\",\n      \"properties\": {\n        \"dtype\": \"number\",\n        \"std\": 0,\n        \"min\": 6,\n        \"max\": 7,\n        \"num_unique_values\": 2,\n        \"samples\": [\n          7,\n          6\n        ],\n        \"semantic_type\": \"\",\n        \"description\": \"\"\n      }\n    },\n    {\n      \"column\": \"acceleration\",\n      \"properties\": {\n        \"dtype\": \"number\",\n        \"std\": 0.2999999999999998,\n        \"min\": 3.5,\n        \"max\": 4.1,\n        \"num_unique_values\": 3,\n        \"samples\": [\n          4.1,\n          3.8\n        ],\n        \"semantic_type\": \"\",\n        \"description\": \"\"\n      }\n    }\n  ]\n}"
            }
          },
          "metadata": {},
          "execution_count": 30
        }
      ]
    },
    {
      "cell_type": "markdown",
      "source": [
        "This more complex query:\n",
        "* Selects only the `name`, `top_speed`, and `acceleration` columns\n",
        "* Filters to show only medium-weight racers\n",
        "* Sorts results by acceleration in descending order (highest first)"
      ],
      "metadata": {
        "id": "p9ztWnF6YyEb"
      }
    },
    {
      "cell_type": "code",
      "source": [
        "%%sql\n",
        "SELECT weight_class,\n",
        "       COUNT(*) AS racer_count,\n",
        "       AVG(top_speed) AS average_speed,\n",
        "       AVG(acceleration) AS average_acceleration\n",
        "FROM racers\n",
        "GROUP BY weight_class"
      ],
      "metadata": {
        "colab": {
          "base_uri": "https://localhost:8080/",
          "height": 178
        },
        "id": "yxU5TeslY3X8",
        "outputId": "19821c54-2e17-4968-cbed-b174853e8a08"
      },
      "execution_count": null,
      "outputs": [
        {
          "output_type": "stream",
          "name": "stdout",
          "text": [
            " * sqlite:///mario_kart.db\n",
            "Done.\n"
          ]
        },
        {
          "output_type": "execute_result",
          "data": {
            "text/plain": [
              "  weight_class  racer_count  average_speed  average_acceleration\n",
              "0        Heavy            1      10.000000                   1.8\n",
              "1        Light            1       5.000000                   4.7\n",
              "2       Medium            3       6.333333                   3.8"
            ],
            "text/html": [
              "\n",
              "  <div id=\"df-80edce31-1a6b-4ea8-a0a0-b374de934b2a\" class=\"colab-df-container\">\n",
              "    <div>\n",
              "<style scoped>\n",
              "    .dataframe tbody tr th:only-of-type {\n",
              "        vertical-align: middle;\n",
              "    }\n",
              "\n",
              "    .dataframe tbody tr th {\n",
              "        vertical-align: top;\n",
              "    }\n",
              "\n",
              "    .dataframe thead th {\n",
              "        text-align: right;\n",
              "    }\n",
              "</style>\n",
              "<table border=\"1\" class=\"dataframe\">\n",
              "  <thead>\n",
              "    <tr style=\"text-align: right;\">\n",
              "      <th></th>\n",
              "      <th>weight_class</th>\n",
              "      <th>racer_count</th>\n",
              "      <th>average_speed</th>\n",
              "      <th>average_acceleration</th>\n",
              "    </tr>\n",
              "  </thead>\n",
              "  <tbody>\n",
              "    <tr>\n",
              "      <th>0</th>\n",
              "      <td>Heavy</td>\n",
              "      <td>1</td>\n",
              "      <td>10.000000</td>\n",
              "      <td>1.8</td>\n",
              "    </tr>\n",
              "    <tr>\n",
              "      <th>1</th>\n",
              "      <td>Light</td>\n",
              "      <td>1</td>\n",
              "      <td>5.000000</td>\n",
              "      <td>4.7</td>\n",
              "    </tr>\n",
              "    <tr>\n",
              "      <th>2</th>\n",
              "      <td>Medium</td>\n",
              "      <td>3</td>\n",
              "      <td>6.333333</td>\n",
              "      <td>3.8</td>\n",
              "    </tr>\n",
              "  </tbody>\n",
              "</table>\n",
              "</div>\n",
              "    <div class=\"colab-df-buttons\">\n",
              "\n",
              "  <div class=\"colab-df-container\">\n",
              "    <button class=\"colab-df-convert\" onclick=\"convertToInteractive('df-80edce31-1a6b-4ea8-a0a0-b374de934b2a')\"\n",
              "            title=\"Convert this dataframe to an interactive table.\"\n",
              "            style=\"display:none;\">\n",
              "\n",
              "  <svg xmlns=\"http://www.w3.org/2000/svg\" height=\"24px\" viewBox=\"0 -960 960 960\">\n",
              "    <path d=\"M120-120v-720h720v720H120Zm60-500h600v-160H180v160Zm220 220h160v-160H400v160Zm0 220h160v-160H400v160ZM180-400h160v-160H180v160Zm440 0h160v-160H620v160ZM180-180h160v-160H180v160Zm440 0h160v-160H620v160Z\"/>\n",
              "  </svg>\n",
              "    </button>\n",
              "\n",
              "  <style>\n",
              "    .colab-df-container {\n",
              "      display:flex;\n",
              "      gap: 12px;\n",
              "    }\n",
              "\n",
              "    .colab-df-convert {\n",
              "      background-color: #E8F0FE;\n",
              "      border: none;\n",
              "      border-radius: 50%;\n",
              "      cursor: pointer;\n",
              "      display: none;\n",
              "      fill: #1967D2;\n",
              "      height: 32px;\n",
              "      padding: 0 0 0 0;\n",
              "      width: 32px;\n",
              "    }\n",
              "\n",
              "    .colab-df-convert:hover {\n",
              "      background-color: #E2EBFA;\n",
              "      box-shadow: 0px 1px 2px rgba(60, 64, 67, 0.3), 0px 1px 3px 1px rgba(60, 64, 67, 0.15);\n",
              "      fill: #174EA6;\n",
              "    }\n",
              "\n",
              "    .colab-df-buttons div {\n",
              "      margin-bottom: 4px;\n",
              "    }\n",
              "\n",
              "    [theme=dark] .colab-df-convert {\n",
              "      background-color: #3B4455;\n",
              "      fill: #D2E3FC;\n",
              "    }\n",
              "\n",
              "    [theme=dark] .colab-df-convert:hover {\n",
              "      background-color: #434B5C;\n",
              "      box-shadow: 0px 1px 3px 1px rgba(0, 0, 0, 0.15);\n",
              "      filter: drop-shadow(0px 1px 2px rgba(0, 0, 0, 0.3));\n",
              "      fill: #FFFFFF;\n",
              "    }\n",
              "  </style>\n",
              "\n",
              "    <script>\n",
              "      const buttonEl =\n",
              "        document.querySelector('#df-80edce31-1a6b-4ea8-a0a0-b374de934b2a button.colab-df-convert');\n",
              "      buttonEl.style.display =\n",
              "        google.colab.kernel.accessAllowed ? 'block' : 'none';\n",
              "\n",
              "      async function convertToInteractive(key) {\n",
              "        const element = document.querySelector('#df-80edce31-1a6b-4ea8-a0a0-b374de934b2a');\n",
              "        const dataTable =\n",
              "          await google.colab.kernel.invokeFunction('convertToInteractive',\n",
              "                                                    [key], {});\n",
              "        if (!dataTable) return;\n",
              "\n",
              "        const docLinkHtml = 'Like what you see? Visit the ' +\n",
              "          '<a target=\"_blank\" href=https://colab.research.google.com/notebooks/data_table.ipynb>data table notebook</a>'\n",
              "          + ' to learn more about interactive tables.';\n",
              "        element.innerHTML = '';\n",
              "        dataTable['output_type'] = 'display_data';\n",
              "        await google.colab.output.renderOutput(dataTable, element);\n",
              "        const docLink = document.createElement('div');\n",
              "        docLink.innerHTML = docLinkHtml;\n",
              "        element.appendChild(docLink);\n",
              "      }\n",
              "    </script>\n",
              "  </div>\n",
              "\n",
              "\n",
              "<div id=\"df-d78819cb-6316-4184-b322-b05c175d22cc\">\n",
              "  <button class=\"colab-df-quickchart\" onclick=\"quickchart('df-d78819cb-6316-4184-b322-b05c175d22cc')\"\n",
              "            title=\"Suggest charts\"\n",
              "            style=\"display:none;\">\n",
              "\n",
              "<svg xmlns=\"http://www.w3.org/2000/svg\" height=\"24px\"viewBox=\"0 0 24 24\"\n",
              "     width=\"24px\">\n",
              "    <g>\n",
              "        <path d=\"M19 3H5c-1.1 0-2 .9-2 2v14c0 1.1.9 2 2 2h14c1.1 0 2-.9 2-2V5c0-1.1-.9-2-2-2zM9 17H7v-7h2v7zm4 0h-2V7h2v10zm4 0h-2v-4h2v4z\"/>\n",
              "    </g>\n",
              "</svg>\n",
              "  </button>\n",
              "\n",
              "<style>\n",
              "  .colab-df-quickchart {\n",
              "      --bg-color: #E8F0FE;\n",
              "      --fill-color: #1967D2;\n",
              "      --hover-bg-color: #E2EBFA;\n",
              "      --hover-fill-color: #174EA6;\n",
              "      --disabled-fill-color: #AAA;\n",
              "      --disabled-bg-color: #DDD;\n",
              "  }\n",
              "\n",
              "  [theme=dark] .colab-df-quickchart {\n",
              "      --bg-color: #3B4455;\n",
              "      --fill-color: #D2E3FC;\n",
              "      --hover-bg-color: #434B5C;\n",
              "      --hover-fill-color: #FFFFFF;\n",
              "      --disabled-bg-color: #3B4455;\n",
              "      --disabled-fill-color: #666;\n",
              "  }\n",
              "\n",
              "  .colab-df-quickchart {\n",
              "    background-color: var(--bg-color);\n",
              "    border: none;\n",
              "    border-radius: 50%;\n",
              "    cursor: pointer;\n",
              "    display: none;\n",
              "    fill: var(--fill-color);\n",
              "    height: 32px;\n",
              "    padding: 0;\n",
              "    width: 32px;\n",
              "  }\n",
              "\n",
              "  .colab-df-quickchart:hover {\n",
              "    background-color: var(--hover-bg-color);\n",
              "    box-shadow: 0 1px 2px rgba(60, 64, 67, 0.3), 0 1px 3px 1px rgba(60, 64, 67, 0.15);\n",
              "    fill: var(--button-hover-fill-color);\n",
              "  }\n",
              "\n",
              "  .colab-df-quickchart-complete:disabled,\n",
              "  .colab-df-quickchart-complete:disabled:hover {\n",
              "    background-color: var(--disabled-bg-color);\n",
              "    fill: var(--disabled-fill-color);\n",
              "    box-shadow: none;\n",
              "  }\n",
              "\n",
              "  .colab-df-spinner {\n",
              "    border: 2px solid var(--fill-color);\n",
              "    border-color: transparent;\n",
              "    border-bottom-color: var(--fill-color);\n",
              "    animation:\n",
              "      spin 1s steps(1) infinite;\n",
              "  }\n",
              "\n",
              "  @keyframes spin {\n",
              "    0% {\n",
              "      border-color: transparent;\n",
              "      border-bottom-color: var(--fill-color);\n",
              "      border-left-color: var(--fill-color);\n",
              "    }\n",
              "    20% {\n",
              "      border-color: transparent;\n",
              "      border-left-color: var(--fill-color);\n",
              "      border-top-color: var(--fill-color);\n",
              "    }\n",
              "    30% {\n",
              "      border-color: transparent;\n",
              "      border-left-color: var(--fill-color);\n",
              "      border-top-color: var(--fill-color);\n",
              "      border-right-color: var(--fill-color);\n",
              "    }\n",
              "    40% {\n",
              "      border-color: transparent;\n",
              "      border-right-color: var(--fill-color);\n",
              "      border-top-color: var(--fill-color);\n",
              "    }\n",
              "    60% {\n",
              "      border-color: transparent;\n",
              "      border-right-color: var(--fill-color);\n",
              "    }\n",
              "    80% {\n",
              "      border-color: transparent;\n",
              "      border-right-color: var(--fill-color);\n",
              "      border-bottom-color: var(--fill-color);\n",
              "    }\n",
              "    90% {\n",
              "      border-color: transparent;\n",
              "      border-bottom-color: var(--fill-color);\n",
              "    }\n",
              "  }\n",
              "</style>\n",
              "\n",
              "  <script>\n",
              "    async function quickchart(key) {\n",
              "      const quickchartButtonEl =\n",
              "        document.querySelector('#' + key + ' button');\n",
              "      quickchartButtonEl.disabled = true;  // To prevent multiple clicks.\n",
              "      quickchartButtonEl.classList.add('colab-df-spinner');\n",
              "      try {\n",
              "        const charts = await google.colab.kernel.invokeFunction(\n",
              "            'suggestCharts', [key], {});\n",
              "      } catch (error) {\n",
              "        console.error('Error during call to suggestCharts:', error);\n",
              "      }\n",
              "      quickchartButtonEl.classList.remove('colab-df-spinner');\n",
              "      quickchartButtonEl.classList.add('colab-df-quickchart-complete');\n",
              "    }\n",
              "    (() => {\n",
              "      let quickchartButtonEl =\n",
              "        document.querySelector('#df-d78819cb-6316-4184-b322-b05c175d22cc button');\n",
              "      quickchartButtonEl.style.display =\n",
              "        google.colab.kernel.accessAllowed ? 'block' : 'none';\n",
              "    })();\n",
              "  </script>\n",
              "</div>\n",
              "\n",
              "    </div>\n",
              "  </div>\n"
            ],
            "application/vnd.google.colaboratory.intrinsic+json": {
              "type": "dataframe",
              "summary": "{\n  \"name\": \"get_ipython()\",\n  \"rows\": 3,\n  \"fields\": [\n    {\n      \"column\": \"weight_class\",\n      \"properties\": {\n        \"dtype\": \"string\",\n        \"num_unique_values\": 3,\n        \"samples\": [\n          \"Heavy\",\n          \"Light\",\n          \"Medium\"\n        ],\n        \"semantic_type\": \"\",\n        \"description\": \"\"\n      }\n    },\n    {\n      \"column\": \"racer_count\",\n      \"properties\": {\n        \"dtype\": \"number\",\n        \"std\": 1,\n        \"min\": 1,\n        \"max\": 3,\n        \"num_unique_values\": 2,\n        \"samples\": [\n          3,\n          1\n        ],\n        \"semantic_type\": \"\",\n        \"description\": \"\"\n      }\n    },\n    {\n      \"column\": \"average_speed\",\n      \"properties\": {\n        \"dtype\": \"number\",\n        \"std\": 2.589151155051343,\n        \"min\": 5.0,\n        \"max\": 10.0,\n        \"num_unique_values\": 3,\n        \"samples\": [\n          10.0,\n          5.0\n        ],\n        \"semantic_type\": \"\",\n        \"description\": \"\"\n      }\n    },\n    {\n      \"column\": \"average_acceleration\",\n      \"properties\": {\n        \"dtype\": \"number\",\n        \"std\": 1.484362938547488,\n        \"min\": 1.8,\n        \"max\": 4.7,\n        \"num_unique_values\": 3,\n        \"samples\": [\n          1.8,\n          4.7\n        ],\n        \"semantic_type\": \"\",\n        \"description\": \"\"\n      }\n    }\n  ]\n}"
            }
          },
          "metadata": {},
          "execution_count": 31
        }
      ]
    },
    {
      "cell_type": "markdown",
      "source": [
        "\n",
        "This advanced query:\n",
        "* Groups racers by their weight class\n",
        "* Counts how many racers are in each class\n",
        "* Calculates the average speed and acceleration for each class\n",
        "* Names these calculations with aliases (like `AS average_speed`)\n",
        "\n",
        "## Why We Use Databases\n",
        "\n",
        "Databases provide significant advantages over alternatives like dictionaries or JSON/CSV files. Here are the five most important reasons:\n",
        "\n",
        "1. **Persistence with Structure** - Unlike dictionaries that vanish when your program ends, databases store data permanently while enforcing consistent types and formats. Your Mario Kart racers' stats remain intact between program runs, and you can't accidentally store acceleration as text.\n",
        "\n",
        "2. **Powerful Querying** - Databases excel at retrieving specific information efficiently. Want all medium-weight racers with acceleration above 3.5? A single SQL query handles this without loading and filtering the entire dataset, unlike JSON or CSV approaches.\n",
        "\n",
        "3. **Concurrency and Scalability** - Multiple programs can safely read and write to a database simultaneously without conflicts. Whether tracking 5 racers or 5 million, databases use indexing and optimization techniques to maintain performance at scale.\n",
        "\n",
        "4. **Data Integrity** - Databases prevent corruption through transactions (operations that either completely succeed or fail) and constraints (rules that data must follow). If your program crashes while updating Bowser's stats, the database won't be left in an inconsistent state.\n",
        "\n",
        "5. **Relationships Between Data** - Databases excel at connecting related information across multiple tables. You could easily link racers to their vehicles, track performance history, or store championship results - all while maintaining efficient access patterns.\n",
        "\n",
        "## Common SQL Commands Reference\n",
        "\n",
        "| Command | Purpose | Example |\n",
        "|---------|---------|---------|\n",
        "| CREATE TABLE | Creates a new table | `CREATE TABLE racers (id INTEGER PRIMARY KEY, name TEXT)` |\n",
        "| INSERT INTO | Adds new data | `INSERT INTO racers (name) VALUES (\"Luigi\")` |\n",
        "| SELECT | Retrieves data | `SELECT name FROM racers WHERE top_speed > 7` |\n",
        "| UPDATE | Modifies existing data | `UPDATE racers SET acceleration = 3.9 WHERE name = \"Mario\"` |\n",
        "| DELETE | Removes data | `DELETE FROM racers WHERE top_speed < 5` |\n",
        "| DROP TABLE | Deletes entire table | `DROP TABLE racers` |\n",
        "| WHERE | Filters results | `SELECT * FROM racers WHERE weight_class = \"Heavy\"` |\n",
        "| ORDER BY | Sorts results | `SELECT * FROM racers ORDER BY acceleration DESC` |\n",
        "| JOIN | Combines tables | `SELECT r.name, k.name FROM racers r JOIN karts k ON r.kart_id = k.id` |"
      ],
      "metadata": {
        "id": "_v6y_YPgY7tm"
      }
    },
    {
      "cell_type": "markdown",
      "source": [
        "# Conclusion: The Data Storage Journey - From Dictionary to Database\n",
        "\n",
        "We've traveled through three powerful approaches to data storage, each building on the concepts of the previous one. Let's summarize what we've learned and see how these tools fit together in your programming toolkit.\n",
        "\n",
        "## Our Data Storage Journey\n",
        "\n",
        "* **Dictionaries**: In-memory collections of key-value pairs\n",
        "  * Perfect for organizing related data\n",
        "  * Fast lookups by descriptive keys\n",
        "  * Limited to your program's current execution\n",
        "\n",
        "* **JSON**: Persistent storage in a standardized format\n",
        "  * Saves dictionaries to files that persist after program ends\n",
        "  * Shares data between different programs\n",
        "  * Works across programming languages\n",
        "  * Still limited in scale and structure\n",
        "\n",
        "* **Databases**: Structured, rule-based data systems\n",
        "  * Handles large amounts of data efficiently\n",
        "  * Enforces data consistency\n",
        "  * Provides powerful query capabilities\n",
        "  * Supports relationships between different types of data\n",
        "\n",
        "## Choosing the Right Tool\n",
        "\n",
        "| If you need to... | Consider using... |\n",
        "|-------------------|-------------------|\n",
        "| Organize data within one program run | Dictionary |\n",
        "| Store settings or small data between runs | JSON file |\n",
        "| Search through thousands of records | SQLite database |\n",
        "| Build multi-user applications | Full database system |"
      ],
      "metadata": {
        "id": "o92EMsNgTF3s"
      }
    },
    {
      "cell_type": "markdown",
      "source": [
        "## Python Practice"
      ],
      "metadata": {
        "id": "vgT3qnizJKmj"
      }
    },
    {
      "cell_type": "code",
      "source": [
        "!wget https://github.com/brendanpshea/computing_concepts_python/raw/main/python_code_quiz/pyquiz.py -q -nc\n",
        "from pyquiz import PracticeTool\n",
        "practice_tool = PracticeTool(json_url='https://github.com/brendanpshea/computing_concepts_python/raw/main/python_code_quiz/python_06_dicts.json')"
      ],
      "metadata": {
        "id": "OJ0Z9th_S4pX",
        "outputId": "d111c38b-f917-4f23-fb7f-a43980471e26",
        "colab": {
          "base_uri": "https://localhost:8080/",
          "height": 368,
          "referenced_widgets": [
            "914f782860b744e28dcd41fb03a9c95c",
            "8469e3240bf944689c0ad10ddc563bea",
            "6047887d05284283ba33831bb31a3cde",
            "f1298e54e9544ad2a3df28a8c43c02be",
            "a809d12c94164ed4a6ad7b9b758baaea",
            "79cf3ae103004210b72c61047a073151",
            "8661f05e71ff4d24971da261864b8f38",
            "2030bef14a4f4e43acc2948879b00d0b",
            "df88e693f03a4b0ebaca8eced17152ec",
            "9b9ff94d92834cfcb9fc6a8b1cd6b6bf",
            "581b3cdd085e4bb9b3d8ce21a80e089c",
            "5a24fc65eabc4562829fa23c633c14c3",
            "e5c3934d52814a86bcf73831104d3241",
            "6b95213da1d546c0ba9453b4aae9149b",
            "c56231edc916405fa8877cfe7797116e",
            "42b6bae8d3e947bdb312f99f3ec2fca4",
            "84e24c2999a542f49f83c87c6e584ce6",
            "40abe9e895714a0db86b2015955bcdd9",
            "805ae722243d47a9b0be4fbb541a6a8c",
            "54b52ab4906442e5913b2adf92f4a910",
            "596a2a5b8dc0490e8ab592764bb61042",
            "49711525615d49e98a1218704e16e9ba",
            "2fd12e4be6cb402189ffe381b8b87688",
            "f4e4fe69b32548f89da45fa5823d14d4",
            "65c05652777044b0b50002d30d7e689a",
            "a5805e86bb1842d48fee3d43e6c51b9d",
            "fbdc084dd8e6490bbe31ba80856ae369",
            "34d9492460a140b6bbec6dd42260bc0d",
            "e06edc0185d941ffb0398f05247635f5",
            "ba05c52b128f4d4095bd49036ceec354",
            "f39faedd78e14e63a2a1948dfa6e0c47",
            "5d0dd39742f84571a58efe6f672d9951",
            "8974d8a14a8c4ccfafbf805b09baa1ce",
            "b2386b9382f74e1d948f4b367c1fc570",
            "35f07e97d12a4a61860a8eae991878b5",
            "bcbfbd29633448b29c872e7069f15a8e",
            "95167681d3c948549c6c5606bd307241",
            "c43aae8c05134043aaf9796372b581bb",
            "502b66f3450f410cb80535125a04f968",
            "a053db808b3c421ea605ec2d54a7712c",
            "f4ea2fa0e2bb4065b2214b0844b14205",
            "dbf9c391be7747da9cb21d2af2a4c0e9",
            "877415fca9c543b1872ff73adf5f716d",
            "1599b636901544f297457e8a5fd53e34",
            "0a648d656ca14869a98c0df329fd1bc6",
            "f6f7316a91ba42caa674421dc50ff306",
            "c91b1b7f64f64891a5b6451c6bec05db",
            "b39d88df7f9f4cb8b5faea097774408d"
          ]
        }
      },
      "execution_count": 1,
      "outputs": [
        {
          "output_type": "display_data",
          "data": {
            "text/plain": [
              "HBox(children=(VBox(children=(IntProgress(value=0, description='Progress:', layout=Layout(width='100%'), max=2…"
            ],
            "application/vnd.jupyter.widget-view+json": {
              "version_major": 2,
              "version_minor": 0,
              "model_id": "914f782860b744e28dcd41fb03a9c95c"
            }
          },
          "metadata": {}
        }
      ]
    },
    {
      "cell_type": "markdown",
      "source": [
        "## Review With Quizlet"
      ],
      "metadata": {
        "id": "cxOKL0GdgLCM"
      }
    },
    {
      "cell_type": "code",
      "source": [
        "%%html\n",
        "<iframe src=\"https://quizlet.com/1043058775/learn/embed?i=psvlh&x=1jj1\" height=\"700\" width=\"100%\" style=\"border:0\"></iframe>"
      ],
      "metadata": {
        "id": "RgPpXE9AgMqC",
        "outputId": "e9759812-8471-4cc3-dcba-ef2475747f28",
        "colab": {
          "base_uri": "https://localhost:8080/",
          "height": 722
        }
      },
      "execution_count": 2,
      "outputs": [
        {
          "output_type": "display_data",
          "data": {
            "text/plain": [
              "<IPython.core.display.HTML object>"
            ],
            "text/html": [
              "<iframe src=\"https://quizlet.com/1043058775/learn/embed?i=psvlh&x=1jj1\" height=\"700\" width=\"100%\" style=\"border:0\"></iframe>\n"
            ]
          },
          "metadata": {}
        }
      ]
    },
    {
      "cell_type": "markdown",
      "source": [
        "## Glossary\n",
        "\n",
        "| Term | Definition |\n",
        "|------|------------|\n",
        "| Dictionary | A collection that stores data as key-value pairs, allowing fast lookups using descriptive labels rather than numeric indices. |\n",
        "| Key | A unique identifier or label in a dictionary that is used to access associated values, must be an immutable data type like strings, numbers, or tuples. |\n",
        "| Value | The data associated with a key in a dictionary, can be of any type including lists, numbers, strings, or even other dictionaries. |\n",
        "| get() | A dictionary method that safely accesses values by providing an optional default return value if the key doesn't exist. |\n",
        "| keys() | A dictionary method that returns a view object containing all the keys in the dictionary. |\n",
        "| values() | A dictionary method that returns a view object containing all the values in the dictionary. |\n",
        "| items() | A dictionary method that returns a view object containing all key-value pairs as tuples. |\n",
        "| pop() | A dictionary method that removes a specified key and returns its value, allowing you to retrieve data while deleting it. |\n",
        "| update() | A dictionary method that adds multiple key-value pairs to a dictionary at once. |\n",
        "| setdefault() | A dictionary method that returns a key's value if it exists, otherwise adds the key with a specified default value. |\n",
        "| Nested Dictionary | A dictionary that contains one or more dictionaries as values, useful for organizing complex, hierarchical data. |\n",
        "| JSON | JavaScript Object Notation, a lightweight data format similar to Python dictionaries used for data exchange between programs and storage. |\n",
        "| json.dump() | A function that writes a Python dictionary to a file in JSON format. |\n",
        "| json.load() | A function that reads JSON data from a file and converts it into a Python dictionary. |\n",
        "| Database | An organized collection of structured information with consistent format, designed for efficient storage, retrieval, and management. |\n",
        "| Table | A collection of related data in a database, organized in rows and columns similar to a spreadsheet. |\n",
        "| Column | A specific piece of data in a database table, similar to a dictionary key, that appears in every row with the same data type. |\n",
        "| Row | A complete record in a database table containing values for each column, conceptually similar to a single dictionary. |\n",
        "| Primary Key | A unique identifier for each row in a database table, ensuring that no two records are identical. |\n",
        "| SQLite | A lightweight, serverless database engine that stores an entire database in a single file, built into Python. |\n",
        "| SQL | Structured Query Language, a programming language used to communicate with and manipulate databases. |\n",
        "| SELECT | An SQL command used to retrieve data from a database table. |\n",
        "| WHERE | An SQL clause used to filter results based on specific conditions. |\n",
        "| ORDER BY | An SQL clause used to sort query results based on specified columns. |\n",
        "| GROUP BY | An SQL clause used to group rows that have the same values in specified columns, often used with aggregate functions. |"
      ],
      "metadata": {
        "id": "P74m3Nh9fZMk"
      }
    },
    {
      "cell_type": "code",
      "source": [],
      "metadata": {
        "id": "ZJgSE1QEfcaL"
      },
      "execution_count": null,
      "outputs": []
    }
  ]
}