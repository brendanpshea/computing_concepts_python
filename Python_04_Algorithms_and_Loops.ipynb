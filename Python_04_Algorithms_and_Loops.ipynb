{
  "nbformat": 4,
  "nbformat_minor": 0,
  "metadata": {
    "colab": {
      "provenance": [],
      "authorship_tag": "ABX9TyOtZ9pQKS0vFz/+k8dhSO6z",
      "include_colab_link": true
    },
    "kernelspec": {
      "name": "python3",
      "display_name": "Python 3"
    },
    "language_info": {
      "name": "python"
    }
  },
  "cells": [
    {
      "cell_type": "markdown",
      "metadata": {
        "id": "view-in-github",
        "colab_type": "text"
      },
      "source": [
        "<a href=\"https://colab.research.google.com/github/brendanpshea/intro_cs/blob/main/Python_04_Algorithms_and_Loops.ipynb\" target=\"_parent\"><img src=\"https://colab.research.google.com/assets/colab-badge.svg\" alt=\"Open In Colab\"/></a>"
      ]
    },
    {
      "cell_type": "markdown",
      "source": [
        "# Algorithms and Loops\n",
        "## Brendan Shea, PhD (Brendan.Shea@rctc.edu)\n",
        "\n",
        "\n",
        "An *algorithm* is a step-by-step procedure or a set of rules for solving a particular problem or accomplishing a specific task. Algorithms can be found in various aspects of everyday life and computing. They are the basis for how computer programs and applications function, as well as how people make decisions or solve problems in their daily lives.\n",
        "\n",
        "Examples of algorithms in computing:\n",
        "\n",
        "1.  Sorting algorithms: Sorting is a common computational task where items are arranged in a specific order, such as alphabetical, numerical, or chronological. Some popular sorting algorithms include Bubble Sort, Quick Sort, and Merge Sort. These algorithms have different ways of organizing data, but they all achieve the same goal of sorting items.\n",
        "\n",
        "2.  Search algorithms: Search algorithms are used to locate specific items or data within a larger data set. Examples include Linear Search, which involves iterating through each item in the data set until the desired item is found, and Binary Search, which involves repeatedly dividing a sorted data set in half and checking if the desired item is in the left or right subset.\n",
        "\n",
        "Examples of algorithms in everyday life:\n",
        "\n",
        "1.  Cooking a recipe: When you cook a meal following a recipe, you are essentially executing an algorithm. The recipe provides a list of ingredients and a step-by-step procedure to follow in order to prepare the dish. By following the steps in the correct order, you will successfully cook the meal.\n",
        "\n",
        "2.  Driving to a destination: When you drive from one location to another, you follow a series of steps and make decisions based on traffic conditions, road signs, and your knowledge of the route. This process can be considered an algorithm, as you are following a procedure to reach your destination.\n",
        "\n",
        "3.  Getting dressed: The process of getting dressed involves a sequence of actions, such as selecting clothes, putting them on in a specific order, and adjusting as needed. This routine can be seen as an algorithm for preparing yourself for the day.\n",
        "\n",
        "So: an algorithm is a systematic set of rules or instructions used to solve problems or accomplish tasks. They can be found in both computing and everyday life, guiding actions and decisions to achieve specific goals."
      ],
      "metadata": {
        "id": "lB8wChrxGy1-"
      }
    },
    {
      "cell_type": "markdown",
      "source": [
        "# Properties of Algorithms\n",
        "The technical definition of an algorithm is *a finite, well-defined sequence of steps or instructions that, when followed, accomplishes a specific task or solves a particular problem.* An algorithm must have the following properties:\n",
        "\n",
        "1.  Unambiguity: Each step of the algorithm should be clearly defined and not open to multiple interpretations. The instructions must be precise and unambiguous to ensure consistent execution.\n",
        "\n",
        "2.  Finiteness: An algorithm must have a finite number of steps. It should eventually terminate after a limited number of iterations or actions.\n",
        "\n",
        "3.  Input: An algorithm typically takes zero or more input values to process and generate the desired output. These inputs can be in various forms, such as numbers, text, or other data types.\n",
        "\n",
        "4.  Output: An algorithm must produce at least one output, which is the result of processing the input data. The output is the solution to the problem or the accomplishment of the task.\n",
        "\n",
        "5.  Effectiveness: The steps in an algorithm should be simple, basic, and executable within a finite amount of time. The algorithm should be efficient and practical for the problem it is designed to solve.\n",
        "\n",
        "Examples of things that are algorithms:\n",
        "\n",
        "1.  Binary search algorithm: A binary search algorithm is used to find a specific value in a sorted array. It repeatedly divides the array in half, comparing the middle element with the target value, and then narrowing the search to the left or right half, depending on the comparison result. This algorithm is unambiguous, finite, takes input, generates output, and is effective.\n",
        "\n",
        "2.  Euclidean algorithm: The Euclidean algorithm is used to find the greatest common divisor (GCD) of two integers. It repeatedly applies the division algorithm, replacing the larger integer with the remainder of the division until the remainder is zero. The last non-zero remainder is the GCD. This algorithm satisfies all the properties of an algorithm.\n",
        "\n",
        "Examples of things that are not algorithms:\n",
        "\n",
        "1.  A vague recipe: A recipe that lacks specific measurements or cooking times, or has ambiguous instructions, does not qualify as an algorithm. It fails the unambiguity and effectiveness criteria.\n",
        "\n",
        "2.  An infinite loop: A sequence of steps that never terminates (e.g., \"repeat the action forever\") is not an algorithm, as it does not meet the finiteness requirement.\n",
        "\n",
        "3.  A philosophical argument: A philosophical argument or debate may involve logical reasoning but does not constitute an algorithm, as it lacks specific input and output, and may not be unambiguous or effective.\n",
        "\n",
        "The nature of algorithms can help us appreciate why computers are so good at certain tasks, and so bad at others."
      ],
      "metadata": {
        "id": "YnCFln8NJkZh"
      }
    },
    {
      "cell_type": "markdown",
      "source": [
        "# What Computers are (Not) Good At\n",
        "Computers excel at tasks that involve repetitive calculations, processing large volumes of data, or following explicit instructions with precision and speed. Their ability to perform loops and execute repetitive tasks quickly and accurately is a significant advantage over humans. Some tasks that computers do well, better or faster than humans, include:\n",
        "\n",
        "1.  Mathematical calculations: Computers can perform complex mathematical operations and calculations much faster and more accurately than humans. They can handle large numbers, fractions, and various arithmetic or algebraic operations with ease.\n",
        "\n",
        "2.  Data processing and analysis: Computers can process and analyze vast amounts of data efficiently. Tasks such as sorting, searching, filtering, and statistical analysis can be performed rapidly by computers, often outpacing human capabilities.\n",
        "\n",
        "3.  Repetitive tasks: Computers excel at performing repetitive tasks through loops, which allow them to execute the same set of instructions multiple times without errors or fatigue. Examples include running simulations, generating reports, or updating databases.\n",
        "\n",
        "4.  Pattern recognition: Computers can be trained to recognize patterns in data using machine learning and artificial intelligence algorithms. They can process large datasets to identify trends, anomalies, or correlations that might be challenging for humans to detect.\n",
        "\n",
        "5.  Managing complex systems: Computers are capable of controlling and monitoring intricate systems, such as power grids, traffic control, or telecommunications networks, by processing real-time data and making decisions based on predefined rules or algorithms.\n",
        "\n",
        "However, there are tasks that computers struggle with, especially those that involve human-like understanding, intuition, or creativity. Some of these tasks include:\n",
        "\n",
        "1.  Natural language understanding: While computers have made significant progress in natural language processing, they still struggle with understanding context, idiomatic expressions, and implicit meanings in human language.\n",
        "\n",
        "2.  Emotional intelligence: Computers lack the ability to perceive, understand, and respond to human emotions effectively. They struggle to interpret subtle cues, such as tone of voice, body language, or facial expressions, that humans use to communicate emotions.\n",
        "\n",
        "3.  Creativity: Computers can produce original content based on algorithms or templates, but they generally lack the human-like creativity that drives innovation, artistic expression, or problem-solving in novel situations.\n",
        "\n",
        "4.  Common sense reasoning: Computers struggle with tasks that require common sense or general knowledge about the world. They often lack the ability to make inferences based on everyday experiences or situations, which humans can do with ease."
      ],
      "metadata": {
        "id": "h-JpUBvAKSYC"
      }
    },
    {
      "cell_type": "markdown",
      "source": [
        "# Loops\n",
        "Loops are control structures in programming languages that allow a sequence of instructions to be executed repeatedly, based on a specific condition or a predetermined number of iterations. In Python, there are two types of loops: \"for\" loops and \"while\" loops. Both types can be used to perform repetitive tasks using numbers without involving lists or dictionaries.\n",
        "\n",
        "## For loops:\n",
        "A \"for\" loop in Python iterates over a range of numbers, executing the instructions within the loop body for each number in the range. The syntax for a \"for\" loop is as follows:\n",
        "\n",
        "```\n",
        "for variable in range(start, end, step):\n",
        "    # Code to be executed\n",
        "```\n",
        "Here's an example of a \"for\" loop that prints the first 5 even numbers:\n",
        "\n",
        "```\n",
        "for i in range(2, 11, 2):\n",
        "    print(i)\n",
        "```\n",
        "In this example, the loop variable i takes on the values 2, 4, 6, 8, and 10, and the print(i) statement is executed for each value.\n",
        "\n",
        "## While loops:\n",
        "A \"while\" loop in Python repeatedly executes a block of code as long as a given condition is true. The syntax for a \"while\" loop is as follows:\n",
        "\n",
        "```\n",
        "while condition:\n",
        "    # Code to be executed\n",
        "```\n",
        "Here's an example of a \"while\" loop that prints the first 5 even numbers:\n",
        "\n",
        "```\n",
        "i = 2\n",
        "count = 0\n",
        "\n",
        "while count < 5:\n",
        "    print(i)\n",
        "    i += 2\n",
        "    count += 1\n",
        "```\n",
        "In this example, the loop executes as long as count is less than 5. The print(i) statement is executed, i is incremented by 2, and count is incremented by 1 on each iteration.\n",
        "\n",
        "Both \"for\" loops and \"while\" loops can be used to perform repetitive tasks with numbers in Python. The choice between the two depends on the specific requirements of the task and the desired loop control structure."
      ],
      "metadata": {
        "id": "eI6mXkrNMSPx"
      }
    },
    {
      "cell_type": "code",
      "source": [
        "for i in range(2, 11, 2):\n",
        "    print(i)"
      ],
      "metadata": {
        "id": "NcSwlOVkPPIk"
      },
      "execution_count": null,
      "outputs": []
    },
    {
      "cell_type": "code",
      "source": [
        "i = 2\n",
        "count = 0\n",
        "\n",
        "while count < 5:\n",
        "    print(i)\n",
        "    i += 2\n",
        "    count += 1"
      ],
      "metadata": {
        "id": "HX8QNaMCPQ5A"
      },
      "execution_count": null,
      "outputs": []
    },
    {
      "cell_type": "markdown",
      "source": [
        "# More on While Loops\n",
        "A \"while\" loop is a control structure in programming languages, like Python, that allows you to repeatedly execute a block of code as long as a specific condition is met. It can be particularly useful for tasks that involve an indefinite number of iterations, such as validating user input or performing an action until a certain requirement is satisfied.\n",
        "\n",
        "To use a \"while\" loop, you can follow these steps:\n",
        "\n",
        "1. Start with the \"while\" keyword, followed by the condition that needs to be true for the loop to continue executing. The condition should be placed inside parentheses.\n",
        "\n",
        "2. After the condition, write a colon (\":\") to indicate the beginning of the loop body.\n",
        "\n",
        "3. Indent the code block that you want to execute repeatedly. This block of code is executed on each iteration of the loop.\n",
        "\n",
        "Here's a simple example of how to use a \"while\" loop:\n",
        "```\n",
        "count = 0\n",
        "\n",
        "while count < 5:\n",
        "    print(count)\n",
        "    count += 1\n",
        "```\n",
        "In this example, the loop will execute as long as the value of count is less than 5. The loop body prints the value of count and increments it by 1 on each iteration.\n",
        "\n",
        "## Using while True/break for Validating Input\n",
        " The \"while True\" construct creates an infinite loop that runs until a \"break\" statement is encountered. It can be particularly useful when you don't know how many iterations the loop will need before a specific condition is met.  \n",
        "Here's an example of using a \"while True\" loop for validating user input:\n",
        "\n",
        "```\n",
        "user_input = None\n",
        "\n",
        "while True:\n",
        "    user_input_str = input(\"Enter an integer between 1 and 10: \")\n",
        "\n",
        "    if user_input_str.isnumeric():\n",
        "        user_input = int(user_input_str)\n",
        "        if 1 <= user_input <= 10:\n",
        "            break\n",
        "        else:\n",
        "            print(\"Invalid input. Please enter an integer between 1 and 10.\")\n",
        "    else:\n",
        "        print(\"Invalid input. Please enter an integer.\")\n",
        "\n",
        "print(f\"Your input is {user_input}.\")\n",
        "\n",
        "```\n",
        "In this example, the \"while True\" loop keeps running indefinitely until a valid user input is provided. We first check if the input string is numeric using the isnumeric() method. If it is, we convert the string to an integer and then check if it is within the desired range (1 to 10). If the input meets the criteria, the \"break\" statement is executed, which terminates the loop. If the input does not meet the criteria, the loop continues, and the user is prompted to enter a new input.\n",
        "\n",
        "## None\n",
        "The \"None\" keyword in Python represents the absence of a value or a null value. In this example, we initialize user_input with the value None to indicate that the user input has not yet been provided or assigned a value.\n",
        "\n",
        "In summary, you can use \"while\" loops to repeatedly execute a block of code as long as a specific condition is met. The \"while True\" construct and the \"break\" statement can be used to create an infinite loop that terminates when a certain requirement is satisfied, such as validating user input. Using \"None\" can help you represent the absence of a value or a null value for a variable, like user input, before it is assigned an appropriate value."
      ],
      "metadata": {
        "id": "L1ykL45pOwc7"
      }
    },
    {
      "cell_type": "code",
      "source": [
        "user_input = None\n",
        "\n",
        "while True:\n",
        "    user_input_str = input(\"Enter an integer between 1 and 10: \")\n",
        "\n",
        "    if user_input_str.isnumeric():\n",
        "        user_input = int(user_input_str)\n",
        "        if 1 <= user_input <= 10:\n",
        "            break\n",
        "        else:\n",
        "            print(\"Invalid input. Please enter an integer between 1 and 10.\")\n",
        "    else:\n",
        "        print(\"Invalid input. Please enter an integer.\")\n",
        "\n",
        "print(f\"Your input is {user_input}.\")"
      ],
      "metadata": {
        "id": "xnXAxI0AJHUv"
      },
      "execution_count": null,
      "outputs": []
    },
    {
      "cell_type": "markdown",
      "source": [
        "# More on For Loops\n",
        "A \"for\" loop is another type of control structure in programming languages like Python, allowing you to iterate over a sequence of values and execute a block of code for each value in the sequence. The \"for\" loop is particularly useful when you know the number of iterations you want the loop to perform, or when you want to iterate over a specific range of values.\n",
        "\n",
        "To use a \"for\" loop, you can follow these steps:\n",
        "\n",
        "1. Start with the `for` keyword, followed by a loop variable that represents the current value in the sequence.\n",
        "\n",
        "2. Use the `in` keyword, followed by a sequence of values to iterate over. In Python, you can use the built-in range() function to generate a sequence of numbers.\n",
        "\n",
        "3. Write a colon (\":\") to indicate the beginning of the loop body.\n",
        "\n",
        "4. Indent the code block that you want to execute repeatedly. This block of code is executed on each iteration of the loop, with the loop variable taking on the next value in the sequence.\n",
        "\n",
        "Here's a simple example of using a \"for\" loop to print the numbers from 0 to 4:\n",
        "\n",
        "```\n",
        "for i in range(5):\n",
        "    print(i)\n",
        "```\n",
        "In this example, the loop variable i takes on the values 0, 1, 2, 3, and 4. The print(i) statement is executed for each value of i.\n",
        "\n",
        "## range()\n",
        "The range() function generates a sequence of numbers and has three possible arguments:\n",
        "\n",
        "* `range(stop)`: Generates a sequence of numbers from 0 (inclusive) to stop (exclusive), with a step of 1.\n",
        "\n",
        "* `range(start, stop)`: Generates a sequence of numbers from start (inclusive) to stop (exclusive), with a step of 1.\n",
        "\n",
        "* `range(start, stop, step)`: Generates a sequence of numbers from start (inclusive) to stop (exclusive), with a custom step.\n",
        "\n",
        "## Use Cases\n",
        "Here are some potential uses of \"for\" loops:\n",
        "\n",
        "### Performing calculations:\n",
        "A \"for\" loop can be used to perform a calculation over a specific range of values. For example, you can use a \"for\" loop to calculate the sum of the first 10 positive integers:\n",
        "\n",
        "```\n",
        "for i in range(1, 11):\n",
        "    sum_of_numbers += i\n",
        "\n",
        "print(f\"The sum of the first 10 positive integers is {sum_of_numbers}.\")\n",
        "```\n",
        "\n",
        "### Repeating an action a specific number of times:\n",
        "A \"for\" loop can be used to execute an action for a predetermined number of iterations. For example, you can use a \"for\" loop to print a message five times:\n",
        "\n",
        "```\n",
        "for i in range(5):\n",
        "    print(\"Hello, world!\")\n",
        "\n",
        "```\n",
        "\n",
        "### Iterating over a sequence with a specific step:\n",
        "A \"for\" loop can be used to iterate over a sequence of values with a custom step. For example, you can use a \"for\" loop to print all multiples of three between 7 and 21 inclusive.\n",
        "\n",
        "```\n",
        "for i in range(2, 11, 2):\n",
        "    print(i)\n",
        "```\n",
        "A \"for\" loop is another type of control structure in programming languages like Python, allowing you to iterate over a sequence of values and execute a block of code for each value in the sequence. The \"for\" loop is particularly useful when you know the number of iterations you want the loop to perform, or when you want to iterate over a specific range of values.\n",
        "\n",
        "To use a \"for\" loop, you can follow these steps:\n",
        "\n",
        "1. Start with the `for` keyword, followed by a loop variable that represents the current value in the sequence.\n",
        "\n",
        "2. Use the `in` keyword, followed by a sequence of values to iterate over. In Python, you can use the built-in range() function to generate a sequence of numbers.\n",
        "\n",
        "3. Write a colon (\":\") to indicate the beginning of the loop body.\n",
        "\n",
        "4. Indent the code block that you want to execute repeatedly. This block of code is executed on each iteration of the loop, with the loop variable taking on the next value in the sequence.\n",
        "\n",
        "Here's a simple example of using a \"for\" loop to print the numbers from 0 to 4:\n",
        "\n",
        "```\n",
        "for i in range(5):\n",
        "    print(i)\n",
        "```\n",
        "In this example, the loop variable i takes on the values 0, 1, 2, 3, and 4. The print(i) statement is executed for each value of i.\n",
        "\n",
        "## range()\n",
        "\n",
        "The range() function generates a sequence of numbers and has three possible arguments:\n",
        "\n",
        "* `range(stop)`: Generates a sequence of numbers from 0 (inclusive) to stop (exclusive), with a step of 1.\n",
        "\n",
        "* `range(start, stop)`: Generates a sequence of numbers from start (inclusive) to stop (exclusive), with a step of 1.\n",
        "\n",
        "* `range(start, stop, step)`: Generates a sequence of numbers from start (inclusive) to stop (exclusive), with a custom step.\n",
        "\n",
        "## Use Cases\n",
        "Here are some potential uses of \"for\" loops:\n",
        "\n",
        "### Performing calculations:\n",
        "A \"for\" loop can be used to perform a calculation over a specific range of values. For example, you can use a \"for\" loop to calculate the sum of the first 10 positive integers:\n",
        "\n",
        "```\n",
        "sum_of_numbers = 0\n",
        "\n",
        "for i in range(1, 11):\n",
        "    sum_of_numbers += i\n",
        "\n",
        "print(f\"The sum of the first 10 positive integers is {sum_of_numbers}.\")\n",
        "```\n",
        "\n",
        "Repeating an action a specific number of times:\n",
        "A \"for\" loop can be used to execute an action for a predetermined number of iterations. For example, you can use a \"for\" loop to print a message five times:\n",
        "\n",
        "```\n",
        "for i in range(5):\n",
        "    print(\"Hello, world!\")\n",
        "\n",
        "```\n",
        "### Iterating over a sequence with a specific step:\n",
        "A \"for\" loop can be used to iterate over a sequence of values with a custom step. For example, you can use a \"for\" loop to print all the the multiples of three between 6 and 21 (inclusive):\n",
        "\n",
        "```\n",
        "for i in range(6, 22, 3):\n",
        "    print(i)\n",
        "```\n",
        "In the end, \"for\" loops are a versatile control structure that can be used to iterate over a specific range of values and execute a block of code for each value in the sequence. They are particularly useful for tasks that require a known number of iterations, performing calculations over a range of values, or repeating an action a specific number of times.\n"
      ],
      "metadata": {
        "id": "OdXkZhkvlxtb"
      }
    },
    {
      "cell_type": "code",
      "execution_count": null,
      "metadata": {
        "id": "cPzRzz3-GtMU"
      },
      "outputs": [],
      "source": [
        "sum_of_numbers = 0\n",
        "\n",
        "for i in range(1, 11):\n",
        "    sum_of_numbers += i\n",
        "\n",
        "print(f\"The sum of the first 10 positive integers is {sum_of_numbers}.\")"
      ]
    },
    {
      "cell_type": "code",
      "source": [
        "for i in range(5):\n",
        "    print(\"Hello, world!\")"
      ],
      "metadata": {
        "id": "POZS9SGGoYiI"
      },
      "execution_count": null,
      "outputs": []
    },
    {
      "cell_type": "code",
      "source": [
        "for i in range(6, 22, 3):\n",
        "    print(i)"
      ],
      "metadata": {
        "id": "shQ65MojocKy"
      },
      "execution_count": null,
      "outputs": []
    },
    {
      "cell_type": "markdown",
      "source": [
        "# Looping Through Strings\n",
        "In programming languages like Python, strings are sequences of characters. A string can be considered as a collection of individual characters arranged in a specific order. Python provides built-in support for iterating over the characters of a string, which allows you to perform various operations on them using for loops.\n",
        "\n",
        "As strings are sequences, you can use a for loop to iterate over each character in the string. On each iteration, the loop variable takes on the value of the next character in the string. This feature enables you to perform operations on each character or derive information from the string.\n",
        "\n",
        "Here's an example that demonstrates how to use a for loop to iterate over the characters of a string and capitalize every other character:"
      ],
      "metadata": {
        "id": "omKgKYLfo2Gb"
      }
    },
    {
      "cell_type": "code",
      "source": [
        "text = \"Hello, world!\"\n",
        "capitalized_alternate_text = \"\"\n",
        "length = len(text)\n",
        "\n",
        "for i in range(length):\n",
        "    char = text[i]\n",
        "    if i % 2 == 0:\n",
        "        capitalized_char = char.upper()\n",
        "    else:\n",
        "        capitalized_char = char\n",
        "    capitalized_alternate_text += capitalized_char\n",
        "\n",
        "print(f\"Capitalized alternate text: {capitalized_alternate_text}\")\n"
      ],
      "metadata": {
        "id": "iGmg6hhIo8qa"
      },
      "execution_count": null,
      "outputs": []
    },
    {
      "cell_type": "markdown",
      "source": [
        "In this example, we first use the len() function to find the length of the string text. The len() function returns the number of characters in the string, which allows us to use a for loop with a range from 0 to the length of the string (exclusive).\n",
        "\n",
        "On each iteration, we access the character at the index i using the expression `text[i]`. Then, we use a conditional statement to check if the index i is even. If it is, we capitalize the character using the `upper()` method; otherwise, we keep the character unchanged. We then append the capitalized or original character to the capitalized_alternate_text string.\n",
        "\n",
        "The resulting capitalized_alternate_text string has every other character capitalized: \"HeLlO, wOrLd!\"\n",
        "\n",
        "This example illustrates how you can use for loops to iterate over the characters of a string, derive information about the string using the len() function, and perform operations on the characters, such as capitalizing every other character."
      ],
      "metadata": {
        "id": "0_4aBy0ypAqa"
      }
    },
    {
      "cell_type": "markdown",
      "source": [
        "# Nested Loops\n",
        "Nested loops are loops that are present within another loop. They are often used when you need to perform a set of operations that involve multiple levels of iteration or when you need to repeat a block of code for each combination of items from two or more sequences. The outer loop iterates over the first sequence, and the inner loop(s) iterate over the second (and subsequent) sequences. The inner loop completes all its iterations for each single iteration of the outer loop.\n",
        "\n",
        "Let's break down the concept of nested loops step by step:\n",
        "\n",
        "1. Outer loop: This is the loop that encloses the inner loop(s). It iterates over a sequence of values, just like any other loop.\n",
        "\n",
        "2. Inner loop: This loop is placed within the body of the outer loop. It also iterates over a sequence of values, executing its code block for each value in the sequence.\n",
        "\n",
        "3. Combined iterations: For each iteration of the outer loop, the inner loop goes through all its iterations. This means that the code block of the inner loop will be executed for every combination of values from the outer and inner loop sequences.\n",
        "\n",
        "Here's a simple example to illustrate the concept of nested loops:\n",
        "\n",
        "his means that the code block of the inner loop will be executed for every combination of values from the outer and inner loop sequences.\n",
        "\n",
        "Here's a simple example to illustrate the concept of nested loops:\n",
        "\n",
        "```\n",
        "for i in range(1, 4):\n",
        "    print(f\"Outer loop iteration {i}:\")\n",
        "    for j in range(1, 3):\n",
        "        print(f\"  Inner loop iteration {j}\")\n",
        "\n",
        "```\n",
        "In this example, we have an outer loop that iterates over the range of numbers from 1 to 3 (inclusive), and an inner loop that iterates over the range of numbers from 1 to 2 (inclusive). The inner loop is placed inside the body of the outer loop, which means that for each iteration of the outer loop, the inner loop will go through all its iterations.\n",
        "\n",
        "If you run the program (in the cell below), you'll discover that for each iteration of the outer loop (i = 1, 2, 3), the inner loop completes all its iterations (j = 1, 2). This results in a total of 6 combined iterations, as the outer loop iterates 3 times, and the inner loop iterates 2 times for each outer loop iteration (3 * 2 = 6).\n",
        "\n",
        "Nested loops are a powerful programming concept that allows you to handle problems requiring multiple levels of iteration or when you need to explore all possible combinations of elements from multiple sequences.\n"
      ],
      "metadata": {
        "id": "B--2IAJtpRdl"
      }
    },
    {
      "cell_type": "code",
      "source": [
        "for i in range(1, 4):\n",
        "    print(f\"Outer loop iteration {i}:\")\n",
        "    for j in range(1, 3):\n",
        "        print(f\"  Inner loop iteration {j}\")"
      ],
      "metadata": {
        "id": "zOp52QaEqAwx"
      },
      "execution_count": null,
      "outputs": []
    },
    {
      "cell_type": "markdown",
      "source": [
        "# Exercises\n",
        "\n",
        "## Exercise 1: Mario\n",
        "Toward the end of World 1-1 in Nintendo’s Super Mario Brothers, Mario must ascend right-aligned pyramid of blocks, a la the below.\n",
        "\n",
        "Let’s recreate that pyramid in python, albeit in text, using hashes (#) for bricks, a la the below. Each hash is a bit taller than it is wide, so the pyramid itself will also be taller than it is wide.\n",
        "```\n",
        "\n",
        "       #\n",
        "      ##\n",
        "     ###\n",
        "    ####\n",
        "   #####\n",
        "  ######\n",
        " #######\n",
        "########\n",
        "```\n",
        "\n",
        "The program we’ll write will be called mario. And let’s allow the user to decide just how tall the pyramid should be by first prompting them for a positive integer between, say, 1 and 8, inclusive.\n",
        "\n",
        "Here’s how the program might work if the user inputs 8 when prompted:\n",
        "```\n",
        "Height: 8\n",
        "       #\n",
        "      ##\n",
        "     ###\n",
        "    ####\n",
        "   #####\n",
        "  ######\n",
        " #######\n",
        "########\n",
        "```\n",
        "\n",
        "Here’s how the program might work if the user inputs 4 when prompted:\n",
        "\n",
        "```\n",
        "Height: 4\n",
        "   #\n",
        "  ##\n",
        " ###\n",
        "####\n",
        "```\n",
        "\n",
        "Here’s how the program might work if the user inputs 2 when prompted:\n",
        "\n",
        "```\n",
        "Height: 2\n",
        " #\n",
        "##\n",
        "```\n",
        "And here’s how the program might work if the user inputs 1 when prompted:\n",
        "\n",
        "```\n",
        "Height: 1\n",
        "#\n",
        "```\n",
        "If the user doesn’t, in fact, input a positive integer between 1 and 8, inclusive, when prompted, the program should re-prompt the user until they cooperate:\n",
        "\n",
        "```\n",
        "Height: -1\n",
        "Height: 0\n",
        "Height: 42\n",
        "Height: 50\n",
        "Height: 4\n",
        "   #\n",
        "  ##\n",
        " ###\n",
        "####\n",
        "```"
      ],
      "metadata": {
        "id": "16zxfnyIrZgT"
      }
    },
    {
      "cell_type": "code",
      "source": [
        "def mario():\n",
        "  # Your code here\n",
        "\n",
        "  # End your code\n",
        "\n",
        "mario()  # run the program -- don't delete"
      ],
      "metadata": {
        "id": "ORW2_v4Nsoto"
      },
      "execution_count": null,
      "outputs": []
    },
    {
      "cell_type": "markdown",
      "source": [
        "## Exercise 2: camelCase and snake_case\n",
        "In some languages, it’s common to use camel case (otherwise known as “mixed case”) for variables’ names when those names comprise multiple words, whereby the first letter of the first word is lowercase but the first letter of each subsequent word is uppercase. For instance, whereas a variable for a user’s name might be called name, a variable for a user’s first name might be called firstName, and a variable for a user’s preferred first name (e.g., nickname) might be called preferredFirstName.\n",
        "\n",
        "Python, by contrast, recommends snake case, whereby words are instead separated by underscores (_), with all letters in lowercase. For instance, those same variables would be called name, first_name, and preferred_first_name, respectively, in Python.\n",
        "\n",
        "In a function called `camel_to_snake_case()`, implement a program that prompts the user for the name of a variable in camel case and outputs the corresponding name in snake case. Assume that the user’s input will indeed be in camel case.\n",
        "\n",
        "## Hints\n",
        "1. Recall that a str comes with quite a few methods, per http://docs.python.org/3/library/stdtypes.html#string-methods.\n",
        "2. Much like a list, a str is “iterable,” which means you can iterate over each of its characters in a loop. For instance, if s is a str, you could print each of its characters, one at a time, with code like:\n",
        "```\n",
        "for c in s:\n",
        "    print(c, end=\"\")\n",
        "```\n",
        "\n",
        "\n",
        "Here’s how to test your code manually:\n",
        "\n",
        "1. Run your program, type `name` and press Enter. Your program should output: `name`   \n",
        "2. Run your program, type `firstName` and press Enter. Your program should output:\n",
        "`first_name`\n",
        "3. Run your program type `preferredFirstName` and press Enter. Your program should output `preferred_first_name`"
      ],
      "metadata": {
        "id": "UcnjhpDuwmWt"
      }
    },
    {
      "cell_type": "markdown",
      "source": [
        "# Test My Code (do not change)\n",
        "The following cells will allow you to run automated tests on the problems above."
      ],
      "metadata": {
        "id": "IBA46j73shYB"
      }
    },
    {
      "cell_type": "code",
      "source": [
        "import io\n",
        "import sys\n",
        "from contextlib import redirect_stdout\n",
        "from unittest.mock import patch\n",
        "\n",
        "display(\"Testing mario...\")\n",
        "\n",
        "def test_mario_function():\n",
        "    test_cases = [\n",
        "        {\n",
        "            \"input\": \"4\\n\",\n",
        "            \"expected_output\": \"   #\\n  ##\\n ###\\n####\\n\",\n",
        "            \"description\": \"Test case 1: height 4\"\n",
        "        },\n",
        "        {\n",
        "            \"input\": \"-1\\n0\\n42\\n50\\n2\\n\",\n",
        "            \"expected_output\": \" #\\n##\\n\",\n",
        "            \"description\": \"Test case 2: invalid heights followed by height 2\"\n",
        "        }\n",
        "    ]\n",
        "\n",
        "    for i, test_case in enumerate(test_cases, start=1):\n",
        "        with patch('builtins.input', side_effect=test_case[\"input\"].splitlines()), \\\n",
        "             patch('builtins.print') as mocked_print:\n",
        "            \n",
        "            mario()\n",
        "            output = \"\".join([str(args[0]) if args else \"\\n\" for args, kwargs in mocked_print.call_args_list])\n",
        "        \n",
        "        if output == test_case[\"expected_output\"]:\n",
        "            display(f\"{test_case['description']} - Passed\")\n",
        "        else:\n",
        "            display(f\"{test_case['description']} - Failed\")\n",
        "\n",
        "# Run the tests\n",
        "test_mario_function()\n",
        "\n",
        "\n"
      ],
      "metadata": {
        "id": "scgmxsMes4-i"
      },
      "execution_count": null,
      "outputs": []
    },
    {
      "cell_type": "code",
      "source": [
        "import io\n",
        "import sys\n",
        "from contextlib import redirect_stdout\n",
        "from unittest.mock import patch\n",
        "\n",
        "display(\"Testing camel to snake...\")\n",
        "\n",
        "def test_camel_to_snake_case():\n",
        "    test_cases = [\n",
        "        {\n",
        "            \"input\": \"name\",\n",
        "            \"expected_output\": \"name\",\n",
        "            \"description\": \"Test case 1: name\"\n",
        "        },\n",
        "        {\n",
        "            \"input\": \"firstName\",\n",
        "            \"expected_output\": \"first_name\",\n",
        "            \"description\": \"Test case 2: firstName\"\n",
        "        },\n",
        "        {\n",
        "            \"input\": \"preferredFirstName\",\n",
        "            \"expected_output\": \"preferred_first_name\",\n",
        "            \"description\": \"Test case 3: preferredFirstName\"\n",
        "        }\n",
        "    ]\n",
        "\n",
        "    for i, test_case in enumerate(test_cases, start=1):\n",
        "        output = camel_to_snake_case(test_case[\"input\"])\n",
        "        if output == test_case[\"expected_output\"]:\n",
        "            display(f\"{test_case['description']} - Passed\")\n",
        "        else:\n",
        "            display(f\"{test_case['description']} - Failed\")\n",
        "\n",
        "# Run the tests\n",
        "test_camel_to_snake_case()\n"
      ],
      "metadata": {
        "id": "8dQVjo-kx1OE"
      },
      "execution_count": null,
      "outputs": []
    }
  ]
}