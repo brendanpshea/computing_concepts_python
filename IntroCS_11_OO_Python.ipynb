{
  "nbformat": 4,
  "nbformat_minor": 0,
  "metadata": {
    "colab": {
      "provenance": [],
      "authorship_tag": "ABX9TyNuhCfRH1Pt83ga43A5TDuK",
      "include_colab_link": true
    },
    "kernelspec": {
      "name": "python3",
      "display_name": "Python 3"
    },
    "language_info": {
      "name": "python"
    }
  },
  "cells": [
    {
      "cell_type": "markdown",
      "metadata": {
        "id": "view-in-github",
        "colab_type": "text"
      },
      "source": [
        "<a href=\"https://colab.research.google.com/github/brendanpshea/computing_concepts_python/blob/main/IntroCS_11_OO_Python.ipynb\" target=\"_parent\"><img src=\"https://colab.research.google.com/assets/colab-badge.svg\" alt=\"Open In Colab\"/></a>"
      ]
    },
    {
      "cell_type": "markdown",
      "source": [
        "# Software Engineering and Object-Oriented Design\n",
        "### Brendan Shea, PhD\n",
        "\n",
        "**Software Engineering** is the application of engineering principles to the creation of software. It encompasses the methodologies, tools, and processes for developing and maintaining software systems. Software engineering is concerned not only with the **functionality** of the software but also with its **design**, **maintenance**, **testing**, and **scalability**. It involves a systematic, disciplined, and quantifiable approach to the development, operation, and maintenance of software, and the study of these approaches.\n",
        "\n",
        "In contrast, **programming** is the act of writing computer code to create a program that can perform a specific task. It's a subset of software engineering, which is a broader discipline. Programming is about the **code itself** and its immediate correctness and efficiency, while software engineering is about the overall **process** of developing software and the **lifecycle** of a software product, including aspects such as managing project timelines, ensuring that the software is reliable and maintainable, and making sure it meets the user requirements.\n",
        "\n",
        "For example, imagine you're tasked with building a Lego castle. **Programming** is like the act of snapping together Lego bricks according to a design or pattern to create various sections of the castle - walls, towers, gates, etc. It requires you to know how to connect the bricks correctly and efficiently.\n",
        "\n",
        "**Software Engineering**, on the other hand, is akin to planning the entire Lego castle project. It involves deciding which sections of the castle to build first, determining if the design is strong and will stand the test of time, considering if the instructions are clear enough for another builder to join in, and planning for future expansions to the castle. It's a comprehensive approach that ensures the castle is not only built but also well-designed, sturdy, and can be maintained and expanded over time."
      ],
      "metadata": {
        "id": "6otx9-BktFMx"
      }
    },
    {
      "cell_type": "markdown",
      "source": [
        "## What is \"Object-Oriented Design?\"\n",
        "\n",
        "**Object-Oriented Design (OOD)** is a paradigm of software design where the system is represented as a collection of objects that interact with each other. It is based on the concept of \"objects,\" which can contain **data**, in the form of fields often known as **attributes**; and **code**, in the form of procedures often known as **methods**. OOD is a method of design encompassing the process of planning a system of interacting objects for the purpose of solving a software problem. It is one approach to software design that aims to model the real world in a more natural and realistic way than traditional procedural or functional programming styles.\n",
        "\n",
        "The key principles of OOD include **encapsulation**, **inheritance**, **abstraction**, and **polymorphism**.\n",
        "  - **Encapsulation** is the bundling of data with the methods that operate on that data.\n",
        "  - **Inheritance** is a way to form new classes using classes that have already been defined.\n",
        "  - **Abstraction** allows making relevant information visible and\n",
        "  - **polymorphism** allows for many forms or methods to do different tasks.\n",
        "\n",
        "These principles lead to design that is **modular**, where changes to one part of the software system have minimal impact on other parts of the system.\n",
        "\n",
        "For example, consider the task of designing a Lego-themed video game. In an object-oriented design, each type of Lego piece could be represented as an **object** in the game. For instance, a Lego brick object would have attributes like color, size, and shape. It would also have methods to connect with other bricks, rotate, or even break apart.\n",
        "\n",
        "The game might also have objects for minifigures, where each minifigure has attributes for the costume, accessories, and facial expressions, and methods to walk, jump, or pick up items. Using the principles of OOD, these objects can inherit properties from more general objects (like a generic Lego piece), and can be used polymorphically, where, for example, the same 'attach' method could connect bricks, snap on a minifigure's hat, or equip a tool to a minifigure's hand. This design allows for a system where new types of Lego pieces can be added to the game with minimal changes to the existing codebase, showcasing the power of OOD in managing complex systems by breaking them down into more manageable objects.\n"
      ],
      "metadata": {
        "id": "RZsZvqhJtJZB"
      }
    },
    {
      "cell_type": "markdown",
      "source": [
        "## Object-Oriented Design in Python\n",
        "\n",
        "In Python, **Object-Oriented Design** is implemented through the creation of **classes** which define objects that are collections of **attributes** and **methods**. A class serves as a blueprint for creating instances, each with its own unique data that adheres to the defined class structure. Python's class mechanism adds classes with a minimum of new syntax and semantics. It is a mixture of the class mechanisms found in C++ and Modula-3.\n",
        "\n",
        "Python classes provide all the standard features of Object-Oriented Programming: the class inheritance mechanism allows multiple base classes, a derived class can override any methods of its base class or classes, and a method can call the method of a base class with the same name. Objects can contain arbitrary amounts and kinds of data.\n",
        "\n"
      ],
      "metadata": {
        "id": "IV2WbY-9uaI_"
      }
    },
    {
      "cell_type": "markdown",
      "source": [
        "## Example: Object-Oriented Design in Python with a Lego Theme\n",
        "\n",
        "Let's consider a simple Python class that represents a Lego brick:"
      ],
      "metadata": {
        "id": "ofS_2cJcuca1"
      }
    },
    {
      "cell_type": "code",
      "source": [
        "# Define a class named LegoBrick\n",
        "class LegoBrick:\n",
        "    # Constructor method with parameters for color and number of pegs\n",
        "    def __init__(self, color, num_of_pegs):\n",
        "        # Instance variables for each LegoBrick object\n",
        "        self.color = color  # Color attribute of the brick\n",
        "        self.num_of_pegs = num_of_pegs  # Number of pegs on the brick\n",
        "\n",
        "    # Method to simulate connecting this brick to another brick\n",
        "    def connect_to(self, another_brick):\n",
        "        # Print a statement showing the two bricks connecting\n",
        "        print(f\"Connecting {self.color} brick with {another_brick.color} brick.\")\n"
      ],
      "metadata": {
        "id": "-2B-Jcmft4h4"
      },
      "execution_count": 4,
      "outputs": []
    },
    {
      "cell_type": "code",
      "source": [
        "# Now, we are going to use the class!\n",
        "\n",
        "# Creating an instance of LegoBrick with 'red' color and '8' pegs\n",
        "brick1 = LegoBrick('red', 8)\n",
        "# Creating another instance of LegoBrick with 'blue' color and '8' pegs\n",
        "brick2 = LegoBrick('blue', 8)\n",
        "\n",
        "# Using the connect_to method of brick1 to connect it to brick2\n",
        "brick1.connect_to(brick2)  # Outputs: Connecting red brick with blue brick."
      ],
      "metadata": {
        "colab": {
          "base_uri": "https://localhost:8080/"
        },
        "id": "_HuKtFDZypHk",
        "outputId": "920cdc65-8a3d-442a-941a-b5261eccdfcb"
      },
      "execution_count": 5,
      "outputs": [
        {
          "output_type": "stream",
          "name": "stdout",
          "text": [
            "Connecting red brick with blue brick.\n"
          ]
        }
      ]
    },
    {
      "cell_type": "markdown",
      "source": [
        "In this Python example, LegoBrick is a class with an __init__ method to initialize the data attributes (color and number of pegs), and a `connect_to method` that defines how a Lego brick can interact with another. When `brick1.connect_to(brick2)` is called, it prints a message simulating the action of connecting two Lego bricks. This is a basic demonstration of encapsulating data and behavior within a class structure."
      ],
      "metadata": {
        "id": "Jys2K0svumZT"
      }
    },
    {
      "cell_type": "markdown",
      "source": [
        "## A Short Guide to Object-Oriented Vocabulary\n",
        "\n",
        "In the realm of object-oriented programming (OOP), certain terms are pivotal for understanding and effectively utilizing the paradigm. Below is an expanded guide to this vocabulary, with examples drawn from the previously discussed Lego-themed Python code.\n",
        "\n",
        "### Class\n",
        "A **class** is a template for creating objects, providing the initial values for state (member variables) and implementations of behavior (member functions or methods).\n",
        "- In our Lego code, `class LegoBrick` is a blueprint for creating Lego brick objects, specifying that each brick will have a `color` and `num_of_pegs`.\n",
        "\n",
        "### Object (or Instance)\n",
        "An **object** is a specific instance of a class, containing real values instead of variables.\n",
        "- When we write `brick1 = LegoBrick('red', 8)`, `brick1` is an object or instance of `LegoBrick`.\n",
        "\n",
        "### Constructor\n",
        "A **constructor** is a special block of code that initializes a new object. It's called when an instance of a class is created.\n",
        "\n",
        "- The `__init__` method in the `LegoBrick` class is the constructor that sets up the new Lego brick objects with their color and number of pegs.\n",
        "\n",
        "### Method\n",
        "A **method** is a function that is associated with an object. In Python, all functions defined in a class are methods for instances of that class.\n",
        "\n",
        "- `connect_to` is a method of the class `LegoBrick` that allows a brick to interact with another brick.\n",
        "\n",
        "### Attribute\n",
        "An **attribute** is a characteristic of an object that holds data. In Python, attributes are usually defined in the constructor.\n",
        "\n",
        "- In `LegoBrick`, `color` and `num_of_pegs` are attributes that store the color of the brick and the number of pegs on top of the brick, respectively.\n",
        "\n",
        "### Inheritance\n",
        "**Inheritance** is a way to form new classes using classes that have already been defined. The new class inherits the attributes and methods of the class it extends.\n",
        "\n",
        "- If we had a class `TransparentLegoBrick` that extends `LegoBrick`, it would inherit the attributes and methods of `LegoBrick` but could also have additional features like a transparency attribute.\n",
        "\n",
        "### Encapsulation\n",
        "**Encapsulation** is the bundling of data with the methods that operate on that data. It restricts direct access to some of an object's components, which is a means of preventing accidental interference and misuse of the data.\n",
        "\n",
        "- The `color` and `num_of_pegs` attributes are encapsulated within the `LegoBrick` class, meaning they are only accessible through the methods provided, not directly from outside the class.\n",
        "\n",
        "### Abstraction\n",
        "**Abstraction** involves the separation of the conceptual identity of an entity from its implementation. Abstractions hide the unnecessary details from the user.\n",
        "\n",
        "- The `connect_to` method abstracts the details of how two Lego bricks connect. When you call `brick1.connect_to(brick2)`, you don't need to know the inner workings of how the bricks are connected, just that they will be connected.\n",
        "\n",
        "These terms are the building blocks of OOP.\n"
      ],
      "metadata": {
        "id": "OVU9s-zKwReE"
      }
    },
    {
      "cell_type": "markdown",
      "source": [
        "### Example 1: Basic Lego Brick Class with Constructor and Method\n",
        "\n",
        "Here we have a simple class with a constructor and a single method that uses a conditional statement."
      ],
      "metadata": {
        "id": "5lbCjAvoxYdR"
      }
    },
    {
      "cell_type": "code",
      "source": [
        "# Define a simple class named LegoBrick\n",
        "class LegoBrick:\n",
        "    # Constructor method to initialize a LegoBrick object\n",
        "    def __init__(self, color):\n",
        "        self.color = color  # Attribute to store the color of the brick\n",
        "\n",
        "    # Method to check if the brick color is standard\n",
        "    def is_standard_color(self):\n",
        "        # Conditional to check the color attribute\n",
        "        if self.color in ['red', 'blue', 'green', 'yellow', 'black', 'white']:\n",
        "            return True\n",
        "        else:\n",
        "            return False\n"
      ],
      "metadata": {
        "colab": {
          "base_uri": "https://localhost:8080/"
        },
        "id": "CjixmfW9xXqT",
        "outputId": "235c23b5-15b6-4f9d-ada5-c3774766b36f"
      },
      "execution_count": 3,
      "outputs": [
        {
          "output_type": "stream",
          "name": "stdout",
          "text": [
            "The brick's color is standard.\n",
            "The brick's color is non-standard.\n"
          ]
        }
      ]
    },
    {
      "cell_type": "code",
      "source": [
        "\n",
        "# Creating an instance of LegoBrick\n",
        "brick1 = LegoBrick('red')\n",
        "brick2 = LegoBrick('maroon')\n",
        "\n",
        "# Using the is_standard_color method to check the brick's color\n",
        "print(f\"The brick's color is {'standard' if brick1.is_standard_color() else 'non-standard'}.\")\n",
        "print(f\"The brick's color is {'standard' if brick2.is_standard_color() else 'non-standard'}.\")"
      ],
      "metadata": {
        "id": "6Ova7KcfyjC2"
      },
      "execution_count": null,
      "outputs": []
    },
    {
      "cell_type": "markdown",
      "source": [
        "### Lego Structure Class with Loop in Method\n",
        "\n",
        "This example introduces a class that uses a list to manage a collection of items, with a loop in one of its methods."
      ],
      "metadata": {
        "id": "HXc9Qx9zyZl_"
      }
    },
    {
      "cell_type": "code",
      "source": [
        "# Define a class to represent a Lego structure\n",
        "class LegoStructure:\n",
        "    # Constructor method to initialize a LegoStructure object\n",
        "    def __init__(self):\n",
        "        self.bricks = []  # List to store LegoBrick objects\n",
        "\n",
        "    # Method to add a LegoBrick to the structure\n",
        "    def add_brick(self, brick):\n",
        "        self.bricks.append(brick)\n",
        "        print(f\"Added a {brick.color} brick to the structure.\")\n",
        "\n",
        "    # Method to count bricks of a specific color\n",
        "    def count_bricks_by_color(self, color):\n",
        "        count = 0\n",
        "        # Loop through each brick in the bricks list\n",
        "        for brick in self.bricks:\n",
        "            # Conditional to increment count for matching colors\n",
        "            if brick.color == color:\n",
        "                count += 1\n",
        "        return count\n"
      ],
      "metadata": {
        "id": "rVNJY9s7v2Bs"
      },
      "execution_count": null,
      "outputs": []
    },
    {
      "cell_type": "code",
      "source": [
        "# Creating instances of LegoBrick\n",
        "red_brick = LegoBrick('red')\n",
        "blue_brick = LegoBrick('blue')\n",
        "\n",
        "# Creating an instance of LegoStructure\n",
        "structure = LegoStructure()\n",
        "\n",
        "# Adding bricks to the structure\n",
        "structure.add_brick(red_brick)\n",
        "structure.add_brick(blue_brick)\n",
        "\n",
        "# Counting the number of red bricks in the structure\n",
        "print(f\"There are {structure.count_bricks_by_color('red')} red bricks in the structure.\")"
      ],
      "metadata": {
        "id": "vVHfD9C9yg_W"
      },
      "execution_count": null,
      "outputs": []
    }
  ]
}