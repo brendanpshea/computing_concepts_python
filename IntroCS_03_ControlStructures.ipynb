{
  "nbformat": 4,
  "nbformat_minor": 0,
  "metadata": {
    "colab": {
      "provenance": [],
      "authorship_tag": "ABX9TyMDnMhr9B28ken/rXRBuKRu",
      "include_colab_link": true
    },
    "kernelspec": {
      "name": "python3",
      "display_name": "Python 3"
    },
    "language_info": {
      "name": "python"
    },
    "widgets": {
      "application/vnd.jupyter.widget-state+json": {
        "71467853abf04235b7435ff018bb6e06": {
          "model_module": "@jupyter-widgets/controls",
          "model_name": "HBoxModel",
          "model_module_version": "1.5.0",
          "state": {
            "_dom_classes": [],
            "_model_module": "@jupyter-widgets/controls",
            "_model_module_version": "1.5.0",
            "_model_name": "HBoxModel",
            "_view_count": null,
            "_view_module": "@jupyter-widgets/controls",
            "_view_module_version": "1.5.0",
            "_view_name": "HBoxView",
            "box_style": "",
            "children": [
              "IPY_MODEL_ac37a35d2c9f449da7c2e070f4d5f83f",
              "IPY_MODEL_eec9df56caf54f6db678fbc25472a436"
            ],
            "layout": "IPY_MODEL_1327ccf5e5084235bf6e567284b3ab94"
          }
        },
        "ac37a35d2c9f449da7c2e070f4d5f83f": {
          "model_module": "@jupyter-widgets/controls",
          "model_name": "VBoxModel",
          "model_module_version": "1.5.0",
          "state": {
            "_dom_classes": [],
            "_model_module": "@jupyter-widgets/controls",
            "_model_module_version": "1.5.0",
            "_model_name": "VBoxModel",
            "_view_count": null,
            "_view_module": "@jupyter-widgets/controls",
            "_view_module_version": "1.5.0",
            "_view_name": "VBoxView",
            "box_style": "",
            "children": [
              "IPY_MODEL_d642b146b67f43a0acad49939cbb92bb",
              "IPY_MODEL_ff7cc96f0b474bb9bbe8cfa4bee6519b",
              "IPY_MODEL_f9a7d1e12e774c36834f2b985f8dc2e2",
              "IPY_MODEL_587416da150c418fba5971a15eb6cb28",
              "IPY_MODEL_20f7ad98de5147e59ee1a4c0c505ff4c"
            ],
            "layout": "IPY_MODEL_1ef41670933c48d8a5b22f079f11cdfb"
          }
        },
        "eec9df56caf54f6db678fbc25472a436": {
          "model_module": "@jupyter-widgets/controls",
          "model_name": "VBoxModel",
          "model_module_version": "1.5.0",
          "state": {
            "_dom_classes": [],
            "_model_module": "@jupyter-widgets/controls",
            "_model_module_version": "1.5.0",
            "_model_name": "VBoxModel",
            "_view_count": null,
            "_view_module": "@jupyter-widgets/controls",
            "_view_module_version": "1.5.0",
            "_view_name": "VBoxView",
            "box_style": "",
            "children": [
              "IPY_MODEL_468f9a13b71a4153b4169d1502f002f7",
              "IPY_MODEL_db13b2198cb54b93901133c73241552f",
              "IPY_MODEL_dd49d245b99f46958dcf99d5885be80f",
              "IPY_MODEL_339b5ba972a5490598dfdac5809fdc38",
              "IPY_MODEL_de3570efa0e64e92992c56ce25976b84",
              "IPY_MODEL_2155c972637743ac8b1c8822640149fe"
            ],
            "layout": "IPY_MODEL_db18d9ebc1e74617a00cb3dcc66b01db"
          }
        },
        "1327ccf5e5084235bf6e567284b3ab94": {
          "model_module": "@jupyter-widgets/base",
          "model_name": "LayoutModel",
          "model_module_version": "1.2.0",
          "state": {
            "_model_module": "@jupyter-widgets/base",
            "_model_module_version": "1.2.0",
            "_model_name": "LayoutModel",
            "_view_count": null,
            "_view_module": "@jupyter-widgets/base",
            "_view_module_version": "1.2.0",
            "_view_name": "LayoutView",
            "align_content": null,
            "align_items": null,
            "align_self": null,
            "border": null,
            "bottom": null,
            "display": null,
            "flex": null,
            "flex_flow": null,
            "grid_area": null,
            "grid_auto_columns": null,
            "grid_auto_flow": null,
            "grid_auto_rows": null,
            "grid_column": null,
            "grid_gap": null,
            "grid_row": null,
            "grid_template_areas": null,
            "grid_template_columns": null,
            "grid_template_rows": null,
            "height": null,
            "justify_content": null,
            "justify_items": null,
            "left": null,
            "margin": null,
            "max_height": null,
            "max_width": null,
            "min_height": null,
            "min_width": null,
            "object_fit": null,
            "object_position": null,
            "order": null,
            "overflow": null,
            "overflow_x": null,
            "overflow_y": null,
            "padding": null,
            "right": null,
            "top": null,
            "visibility": null,
            "width": "100%"
          }
        },
        "d642b146b67f43a0acad49939cbb92bb": {
          "model_module": "@jupyter-widgets/controls",
          "model_name": "IntProgressModel",
          "model_module_version": "1.5.0",
          "state": {
            "_dom_classes": [],
            "_model_module": "@jupyter-widgets/controls",
            "_model_module_version": "1.5.0",
            "_model_name": "IntProgressModel",
            "_view_count": null,
            "_view_module": "@jupyter-widgets/controls",
            "_view_module_version": "1.5.0",
            "_view_name": "ProgressView",
            "bar_style": "",
            "description": "Progress:",
            "description_tooltip": null,
            "layout": "IPY_MODEL_7369648a09824a7ea8ea21ec0ff2dad6",
            "max": 20,
            "min": 0,
            "orientation": "horizontal",
            "style": "IPY_MODEL_df42fad60e8044948f32d3f7a2f2f12b",
            "value": 0
          }
        },
        "ff7cc96f0b474bb9bbe8cfa4bee6519b": {
          "model_module": "@jupyter-widgets/output",
          "model_name": "OutputModel",
          "model_module_version": "1.0.0",
          "state": {
            "_dom_classes": [],
            "_model_module": "@jupyter-widgets/output",
            "_model_module_version": "1.0.0",
            "_model_name": "OutputModel",
            "_view_count": null,
            "_view_module": "@jupyter-widgets/output",
            "_view_module_version": "1.0.0",
            "_view_name": "OutputView",
            "layout": "IPY_MODEL_452cb43e3f394147a4aeae7ac3cf6480",
            "msg_id": "",
            "outputs": [
              {
                "output_type": "display_data",
                "data": {
                  "text/plain": "<IPython.core.display.HTML object>",
                  "text/html": "<h3>Question 1 of 20</h3><p>Write a function that takes a number and returns the string 'Negative' if it's less than zero, or 'Non-negative' otherwise. Use comparison operators (< or >) to check the value.</p>"
                },
                "metadata": {}
              }
            ]
          }
        },
        "f9a7d1e12e774c36834f2b985f8dc2e2": {
          "model_module": "@jupyter-widgets/controls",
          "model_name": "TextareaModel",
          "model_module_version": "1.5.0",
          "state": {
            "_dom_classes": [],
            "_model_module": "@jupyter-widgets/controls",
            "_model_module_version": "1.5.0",
            "_model_name": "TextareaModel",
            "_view_count": null,
            "_view_module": "@jupyter-widgets/controls",
            "_view_module_version": "1.5.0",
            "_view_name": "TextareaView",
            "continuous_update": true,
            "description": "",
            "description_tooltip": null,
            "disabled": false,
            "layout": "IPY_MODEL_b62e8da60ebb48f7bc48087dd4ef6cc6",
            "placeholder": "​",
            "rows": null,
            "style": "IPY_MODEL_645a40e44168441098fd643cf500cf65",
            "value": "def number_sign(number):\n    if number < 0:\n      return \"Negative\"\n    else:\n      return \"Non-negative\"\n"
          }
        },
        "587416da150c418fba5971a15eb6cb28": {
          "model_module": "@jupyter-widgets/controls",
          "model_name": "HBoxModel",
          "model_module_version": "1.5.0",
          "state": {
            "_dom_classes": [],
            "_model_module": "@jupyter-widgets/controls",
            "_model_module_version": "1.5.0",
            "_model_name": "HBoxModel",
            "_view_count": null,
            "_view_module": "@jupyter-widgets/controls",
            "_view_module_version": "1.5.0",
            "_view_name": "HBoxView",
            "box_style": "",
            "children": [
              "IPY_MODEL_f6681e9827324e419e055ab6b8e88a38",
              "IPY_MODEL_359adf0edeab489498e5f6ab8dbd4d10",
              "IPY_MODEL_5e0918858f7a42d9a0ebfd5ab5075060",
              "IPY_MODEL_acc4fbd30a95486394d7d0d3462582b5",
              "IPY_MODEL_6f656ad437f64ff68c5c30bf4dd6402a"
            ],
            "layout": "IPY_MODEL_3e874bea86184269952f370a158aaed8"
          }
        },
        "20f7ad98de5147e59ee1a4c0c505ff4c": {
          "model_module": "@jupyter-widgets/output",
          "model_name": "OutputModel",
          "model_module_version": "1.0.0",
          "state": {
            "_dom_classes": [],
            "_model_module": "@jupyter-widgets/output",
            "_model_module_version": "1.0.0",
            "_model_name": "OutputModel",
            "_view_count": null,
            "_view_module": "@jupyter-widgets/output",
            "_view_module_version": "1.0.0",
            "_view_name": "OutputView",
            "layout": "IPY_MODEL_0005dde6be3e4bb6ab48c773caab6eae",
            "msg_id": "",
            "outputs": []
          }
        },
        "1ef41670933c48d8a5b22f079f11cdfb": {
          "model_module": "@jupyter-widgets/base",
          "model_name": "LayoutModel",
          "model_module_version": "1.2.0",
          "state": {
            "_model_module": "@jupyter-widgets/base",
            "_model_module_version": "1.2.0",
            "_model_name": "LayoutModel",
            "_view_count": null,
            "_view_module": "@jupyter-widgets/base",
            "_view_module_version": "1.2.0",
            "_view_name": "LayoutView",
            "align_content": null,
            "align_items": null,
            "align_self": null,
            "border": null,
            "bottom": null,
            "display": null,
            "flex": null,
            "flex_flow": null,
            "grid_area": null,
            "grid_auto_columns": null,
            "grid_auto_flow": null,
            "grid_auto_rows": null,
            "grid_column": null,
            "grid_gap": null,
            "grid_row": null,
            "grid_template_areas": null,
            "grid_template_columns": null,
            "grid_template_rows": null,
            "height": null,
            "justify_content": null,
            "justify_items": null,
            "left": null,
            "margin": null,
            "max_height": null,
            "max_width": null,
            "min_height": null,
            "min_width": null,
            "object_fit": null,
            "object_position": null,
            "order": null,
            "overflow": null,
            "overflow_x": null,
            "overflow_y": null,
            "padding": null,
            "right": null,
            "top": null,
            "visibility": null,
            "width": "50%"
          }
        },
        "468f9a13b71a4153b4169d1502f002f7": {
          "model_module": "@jupyter-widgets/controls",
          "model_name": "HTMLModel",
          "model_module_version": "1.5.0",
          "state": {
            "_dom_classes": [],
            "_model_module": "@jupyter-widgets/controls",
            "_model_module_version": "1.5.0",
            "_model_name": "HTMLModel",
            "_view_count": null,
            "_view_module": "@jupyter-widgets/controls",
            "_view_module_version": "1.5.0",
            "_view_name": "HTMLView",
            "description": "",
            "description_tooltip": null,
            "layout": "IPY_MODEL_3fa5ed4978d647999cee11dcfde363eb",
            "placeholder": "​",
            "style": "IPY_MODEL_b366166a634e4722bce3d7a2c0e2ed91",
            "value": "<h3>Sample Inputs and Outputs</h3>"
          }
        },
        "db13b2198cb54b93901133c73241552f": {
          "model_module": "@jupyter-widgets/output",
          "model_name": "OutputModel",
          "model_module_version": "1.0.0",
          "state": {
            "_dom_classes": [],
            "_model_module": "@jupyter-widgets/output",
            "_model_module_version": "1.0.0",
            "_model_name": "OutputModel",
            "_view_count": null,
            "_view_module": "@jupyter-widgets/output",
            "_view_module_version": "1.0.0",
            "_view_name": "OutputView",
            "layout": "IPY_MODEL_a1bb0ee129d74d92aaa3d051379f1555",
            "msg_id": "",
            "outputs": [
              {
                "output_type": "display_data",
                "data": {
                  "text/plain": "<IPython.core.display.HTML object>",
                  "text/html": "<table border=\"1\" class=\"dataframe\">\n  <thead>\n    <tr style=\"text-align: right;\">\n      <th>Input</th>\n      <th>Output</th>\n    </tr>\n  </thead>\n  <tbody>\n    <tr>\n      <td>[-5]</td>\n      <td>&#x27;Negative&#x27;</td>\n    </tr>\n    <tr>\n      <td>[0]</td>\n      <td>&#x27;Non-negative&#x27;</td>\n    </tr>\n    <tr>\n      <td>[10]</td>\n      <td>&#x27;Non-negative&#x27;</td>\n    </tr>\n  </tbody>\n</table>"
                },
                "metadata": {}
              }
            ]
          }
        },
        "dd49d245b99f46958dcf99d5885be80f": {
          "model_module": "@jupyter-widgets/controls",
          "model_name": "HTMLModel",
          "model_module_version": "1.5.0",
          "state": {
            "_dom_classes": [],
            "_model_module": "@jupyter-widgets/controls",
            "_model_module_version": "1.5.0",
            "_model_name": "HTMLModel",
            "_view_count": null,
            "_view_module": "@jupyter-widgets/controls",
            "_view_module_version": "1.5.0",
            "_view_name": "HTMLView",
            "description": "",
            "description_tooltip": null,
            "layout": "IPY_MODEL_397d88466f7b42a9952d6d8102565395",
            "placeholder": "​",
            "style": "IPY_MODEL_726229fc6a614fef9ba332c414d7dcd6",
            "value": "<h3>Results</h3>"
          }
        },
        "339b5ba972a5490598dfdac5809fdc38": {
          "model_module": "@jupyter-widgets/output",
          "model_name": "OutputModel",
          "model_module_version": "1.0.0",
          "state": {
            "_dom_classes": [],
            "_model_module": "@jupyter-widgets/output",
            "_model_module_version": "1.0.0",
            "_model_name": "OutputModel",
            "_view_count": null,
            "_view_module": "@jupyter-widgets/output",
            "_view_module_version": "1.0.0",
            "_view_name": "OutputView",
            "layout": "IPY_MODEL_0f3211182194470f982aa1ebd0de417d",
            "msg_id": "",
            "outputs": [
              {
                "output_type": "display_data",
                "data": {
                  "text/plain": "<IPython.core.display.HTML object>",
                  "text/html": "<h4 style='color:green'>All tests passed!</h4>"
                },
                "metadata": {}
              },
              {
                "output_type": "display_data",
                "data": {
                  "text/plain": "<IPython.core.display.HTML object>",
                  "text/html": "<table border=\"1\" class=\"dataframe\">\n  <thead>\n    <tr style=\"text-align: right;\">\n      <th>Result</th>\n      <th>Input</th>\n      <th>Expected</th>\n      <th>Your Output</th>\n    </tr>\n  </thead>\n  <tbody>\n    <tr>\n      <td>Pass</td>\n      <td>[-5]</td>\n      <td>'Negative'</td>\n      <td>'Negative'</td>\n    </tr>\n    <tr>\n      <td>Pass</td>\n      <td>[0]</td>\n      <td>'Non-negative'</td>\n      <td>'Non-negative'</td>\n    </tr>\n    <tr>\n      <td>Pass</td>\n      <td>[10]</td>\n      <td>'Non-negative'</td>\n      <td>'Non-negative'</td>\n    </tr>\n  </tbody>\n</table>"
                },
                "metadata": {}
              },
              {
                "output_type": "display_data",
                "data": {
                  "text/plain": "HBox(children=(Button(button_style='warning', description='Retry', icon='refresh', style=ButtonStyle()), Butto…",
                  "application/vnd.jupyter.widget-view+json": {
                    "version_major": 2,
                    "version_minor": 0,
                    "model_id": "129eb6217e854a35a8cc38a55312640c"
                  }
                },
                "metadata": {}
              }
            ]
          }
        },
        "de3570efa0e64e92992c56ce25976b84": {
          "model_module": "@jupyter-widgets/controls",
          "model_name": "HTMLModel",
          "model_module_version": "1.5.0",
          "state": {
            "_dom_classes": [],
            "_model_module": "@jupyter-widgets/controls",
            "_model_module_version": "1.5.0",
            "_model_name": "HTMLModel",
            "_view_count": null,
            "_view_module": "@jupyter-widgets/controls",
            "_view_module_version": "1.5.0",
            "_view_name": "HTMLView",
            "description": "",
            "description_tooltip": null,
            "layout": "IPY_MODEL_7e662fb3552b470b8d6bd2056cfc2fde",
            "placeholder": "​",
            "style": "IPY_MODEL_52ec93237f5746edb4891417a0a5fe9f",
            "value": "<h3>Output</h3>"
          }
        },
        "2155c972637743ac8b1c8822640149fe": {
          "model_module": "@jupyter-widgets/output",
          "model_name": "OutputModel",
          "model_module_version": "1.0.0",
          "state": {
            "_dom_classes": [],
            "_model_module": "@jupyter-widgets/output",
            "_model_module_version": "1.0.0",
            "_model_name": "OutputModel",
            "_view_count": null,
            "_view_module": "@jupyter-widgets/output",
            "_view_module_version": "1.0.0",
            "_view_name": "OutputView",
            "layout": "IPY_MODEL_f25025c93a804e79b2d2235db561ff86",
            "msg_id": "",
            "outputs": [
              {
                "output_type": "display_data",
                "data": {
                  "text/plain": "<IPython.core.display.HTML object>",
                  "text/html": "<i>No output produced.</i>"
                },
                "metadata": {}
              }
            ]
          }
        },
        "db18d9ebc1e74617a00cb3dcc66b01db": {
          "model_module": "@jupyter-widgets/base",
          "model_name": "LayoutModel",
          "model_module_version": "1.2.0",
          "state": {
            "_model_module": "@jupyter-widgets/base",
            "_model_module_version": "1.2.0",
            "_model_name": "LayoutModel",
            "_view_count": null,
            "_view_module": "@jupyter-widgets/base",
            "_view_module_version": "1.2.0",
            "_view_name": "LayoutView",
            "align_content": null,
            "align_items": null,
            "align_self": null,
            "border": null,
            "bottom": null,
            "display": null,
            "flex": null,
            "flex_flow": null,
            "grid_area": null,
            "grid_auto_columns": null,
            "grid_auto_flow": null,
            "grid_auto_rows": null,
            "grid_column": null,
            "grid_gap": null,
            "grid_row": null,
            "grid_template_areas": null,
            "grid_template_columns": null,
            "grid_template_rows": null,
            "height": null,
            "justify_content": null,
            "justify_items": null,
            "left": null,
            "margin": null,
            "max_height": null,
            "max_width": null,
            "min_height": null,
            "min_width": null,
            "object_fit": null,
            "object_position": null,
            "order": null,
            "overflow": null,
            "overflow_x": null,
            "overflow_y": null,
            "padding": null,
            "right": null,
            "top": null,
            "visibility": null,
            "width": "50%"
          }
        },
        "7369648a09824a7ea8ea21ec0ff2dad6": {
          "model_module": "@jupyter-widgets/base",
          "model_name": "LayoutModel",
          "model_module_version": "1.2.0",
          "state": {
            "_model_module": "@jupyter-widgets/base",
            "_model_module_version": "1.2.0",
            "_model_name": "LayoutModel",
            "_view_count": null,
            "_view_module": "@jupyter-widgets/base",
            "_view_module_version": "1.2.0",
            "_view_name": "LayoutView",
            "align_content": null,
            "align_items": null,
            "align_self": null,
            "border": null,
            "bottom": null,
            "display": null,
            "flex": null,
            "flex_flow": null,
            "grid_area": null,
            "grid_auto_columns": null,
            "grid_auto_flow": null,
            "grid_auto_rows": null,
            "grid_column": null,
            "grid_gap": null,
            "grid_row": null,
            "grid_template_areas": null,
            "grid_template_columns": null,
            "grid_template_rows": null,
            "height": null,
            "justify_content": null,
            "justify_items": null,
            "left": null,
            "margin": null,
            "max_height": null,
            "max_width": null,
            "min_height": null,
            "min_width": null,
            "object_fit": null,
            "object_position": null,
            "order": null,
            "overflow": null,
            "overflow_x": null,
            "overflow_y": null,
            "padding": null,
            "right": null,
            "top": null,
            "visibility": null,
            "width": "100%"
          }
        },
        "df42fad60e8044948f32d3f7a2f2f12b": {
          "model_module": "@jupyter-widgets/controls",
          "model_name": "ProgressStyleModel",
          "model_module_version": "1.5.0",
          "state": {
            "_model_module": "@jupyter-widgets/controls",
            "_model_module_version": "1.5.0",
            "_model_name": "ProgressStyleModel",
            "_view_count": null,
            "_view_module": "@jupyter-widgets/base",
            "_view_module_version": "1.2.0",
            "_view_name": "StyleView",
            "bar_color": null,
            "description_width": ""
          }
        },
        "b62e8da60ebb48f7bc48087dd4ef6cc6": {
          "model_module": "@jupyter-widgets/base",
          "model_name": "LayoutModel",
          "model_module_version": "1.2.0",
          "state": {
            "_model_module": "@jupyter-widgets/base",
            "_model_module_version": "1.2.0",
            "_model_name": "LayoutModel",
            "_view_count": null,
            "_view_module": "@jupyter-widgets/base",
            "_view_module_version": "1.2.0",
            "_view_name": "LayoutView",
            "align_content": null,
            "align_items": null,
            "align_self": null,
            "border": null,
            "bottom": null,
            "display": null,
            "flex": null,
            "flex_flow": null,
            "grid_area": null,
            "grid_auto_columns": null,
            "grid_auto_flow": null,
            "grid_auto_rows": null,
            "grid_column": null,
            "grid_gap": null,
            "grid_row": null,
            "grid_template_areas": null,
            "grid_template_columns": null,
            "grid_template_rows": null,
            "height": "200px",
            "justify_content": null,
            "justify_items": null,
            "left": null,
            "margin": null,
            "max_height": null,
            "max_width": null,
            "min_height": null,
            "min_width": null,
            "object_fit": null,
            "object_position": null,
            "order": null,
            "overflow": null,
            "overflow_x": null,
            "overflow_y": null,
            "padding": null,
            "right": null,
            "top": null,
            "visibility": null,
            "width": "100%"
          }
        },
        "645a40e44168441098fd643cf500cf65": {
          "model_module": "@jupyter-widgets/controls",
          "model_name": "DescriptionStyleModel",
          "model_module_version": "1.5.0",
          "state": {
            "_model_module": "@jupyter-widgets/controls",
            "_model_module_version": "1.5.0",
            "_model_name": "DescriptionStyleModel",
            "_view_count": null,
            "_view_module": "@jupyter-widgets/base",
            "_view_module_version": "1.2.0",
            "_view_name": "StyleView",
            "description_width": ""
          }
        },
        "f6681e9827324e419e055ab6b8e88a38": {
          "model_module": "@jupyter-widgets/controls",
          "model_name": "ButtonModel",
          "model_module_version": "1.5.0",
          "state": {
            "_dom_classes": [],
            "_model_module": "@jupyter-widgets/controls",
            "_model_module_version": "1.5.0",
            "_model_name": "ButtonModel",
            "_view_count": null,
            "_view_module": "@jupyter-widgets/controls",
            "_view_module_version": "1.5.0",
            "_view_name": "ButtonView",
            "button_style": "success",
            "description": "Run",
            "disabled": false,
            "icon": "check",
            "layout": "IPY_MODEL_f4b440d6827e419aa8a9cbb386acedc2",
            "style": "IPY_MODEL_e22889b241374f498ffb0db35ebd15b9",
            "tooltip": ""
          }
        },
        "359adf0edeab489498e5f6ab8dbd4d10": {
          "model_module": "@jupyter-widgets/controls",
          "model_name": "ButtonModel",
          "model_module_version": "1.5.0",
          "state": {
            "_dom_classes": [],
            "_model_module": "@jupyter-widgets/controls",
            "_model_module_version": "1.5.0",
            "_model_name": "ButtonModel",
            "_view_count": null,
            "_view_module": "@jupyter-widgets/controls",
            "_view_module_version": "1.5.0",
            "_view_name": "ButtonView",
            "button_style": "warning",
            "description": "Retry",
            "disabled": false,
            "icon": "refresh",
            "layout": "IPY_MODEL_3594844cf8d84639a9ba155d5a054ece",
            "style": "IPY_MODEL_42c8ff1dfe1c44b5b0e2b8ba2a0c5704",
            "tooltip": ""
          }
        },
        "5e0918858f7a42d9a0ebfd5ab5075060": {
          "model_module": "@jupyter-widgets/controls",
          "model_name": "ButtonModel",
          "model_module_version": "1.5.0",
          "state": {
            "_dom_classes": [],
            "_model_module": "@jupyter-widgets/controls",
            "_model_module_version": "1.5.0",
            "_model_name": "ButtonModel",
            "_view_count": null,
            "_view_module": "@jupyter-widgets/controls",
            "_view_module_version": "1.5.0",
            "_view_name": "ButtonView",
            "button_style": "info",
            "description": "Next",
            "disabled": false,
            "icon": "arrow-right",
            "layout": "IPY_MODEL_e81792c1411a45f38e15c17a245b3b9f",
            "style": "IPY_MODEL_227131313d26436bb0d22b1fb1439d5b",
            "tooltip": ""
          }
        },
        "acc4fbd30a95486394d7d0d3462582b5": {
          "model_module": "@jupyter-widgets/controls",
          "model_name": "ButtonModel",
          "model_module_version": "1.5.0",
          "state": {
            "_dom_classes": [],
            "_model_module": "@jupyter-widgets/controls",
            "_model_module_version": "1.5.0",
            "_model_name": "ButtonModel",
            "_view_count": null,
            "_view_module": "@jupyter-widgets/controls",
            "_view_module_version": "1.5.0",
            "_view_name": "ButtonView",
            "button_style": "primary",
            "description": "Show Hint",
            "disabled": false,
            "icon": "lightbulb-o",
            "layout": "IPY_MODEL_fa21dac7259a4187b59a7b27b4ce9978",
            "style": "IPY_MODEL_ed8e1325ddd14ddea496504ca3cf77d9",
            "tooltip": ""
          }
        },
        "6f656ad437f64ff68c5c30bf4dd6402a": {
          "model_module": "@jupyter-widgets/controls",
          "model_name": "DropdownModel",
          "model_module_version": "1.5.0",
          "state": {
            "_dom_classes": [],
            "_model_module": "@jupyter-widgets/controls",
            "_model_module_version": "1.5.0",
            "_model_name": "DropdownModel",
            "_options_labels": [
              "Problem 1",
              "Problem 2",
              "Problem 3",
              "Problem 4",
              "Problem 5",
              "Problem 6",
              "Problem 7",
              "Problem 8",
              "Problem 9",
              "Problem 10",
              "Problem 11",
              "Problem 12",
              "Problem 13",
              "Problem 14",
              "Problem 15",
              "Problem 16",
              "Problem 17",
              "Problem 18",
              "Problem 19",
              "Problem 20"
            ],
            "_view_count": null,
            "_view_module": "@jupyter-widgets/controls",
            "_view_module_version": "1.5.0",
            "_view_name": "DropdownView",
            "description": "Skip to:",
            "description_tooltip": null,
            "disabled": false,
            "index": 0,
            "layout": "IPY_MODEL_1b6802945b574c6697bd8ca61357d176",
            "style": "IPY_MODEL_661ff7aa21304f79858e8a050cb1aaec"
          }
        },
        "3e874bea86184269952f370a158aaed8": {
          "model_module": "@jupyter-widgets/base",
          "model_name": "LayoutModel",
          "model_module_version": "1.2.0",
          "state": {
            "_model_module": "@jupyter-widgets/base",
            "_model_module_version": "1.2.0",
            "_model_name": "LayoutModel",
            "_view_count": null,
            "_view_module": "@jupyter-widgets/base",
            "_view_module_version": "1.2.0",
            "_view_name": "LayoutView",
            "align_content": null,
            "align_items": null,
            "align_self": null,
            "border": null,
            "bottom": null,
            "display": null,
            "flex": null,
            "flex_flow": null,
            "grid_area": null,
            "grid_auto_columns": null,
            "grid_auto_flow": null,
            "grid_auto_rows": null,
            "grid_column": null,
            "grid_gap": null,
            "grid_row": null,
            "grid_template_areas": null,
            "grid_template_columns": null,
            "grid_template_rows": null,
            "height": null,
            "justify_content": null,
            "justify_items": null,
            "left": null,
            "margin": null,
            "max_height": null,
            "max_width": null,
            "min_height": null,
            "min_width": null,
            "object_fit": null,
            "object_position": null,
            "order": null,
            "overflow": null,
            "overflow_x": null,
            "overflow_y": null,
            "padding": null,
            "right": null,
            "top": null,
            "visibility": null,
            "width": null
          }
        },
        "3fa5ed4978d647999cee11dcfde363eb": {
          "model_module": "@jupyter-widgets/base",
          "model_name": "LayoutModel",
          "model_module_version": "1.2.0",
          "state": {
            "_model_module": "@jupyter-widgets/base",
            "_model_module_version": "1.2.0",
            "_model_name": "LayoutModel",
            "_view_count": null,
            "_view_module": "@jupyter-widgets/base",
            "_view_module_version": "1.2.0",
            "_view_name": "LayoutView",
            "align_content": null,
            "align_items": null,
            "align_self": null,
            "border": null,
            "bottom": null,
            "display": null,
            "flex": null,
            "flex_flow": null,
            "grid_area": null,
            "grid_auto_columns": null,
            "grid_auto_flow": null,
            "grid_auto_rows": null,
            "grid_column": null,
            "grid_gap": null,
            "grid_row": null,
            "grid_template_areas": null,
            "grid_template_columns": null,
            "grid_template_rows": null,
            "height": null,
            "justify_content": null,
            "justify_items": null,
            "left": null,
            "margin": null,
            "max_height": null,
            "max_width": null,
            "min_height": null,
            "min_width": null,
            "object_fit": null,
            "object_position": null,
            "order": null,
            "overflow": null,
            "overflow_x": null,
            "overflow_y": null,
            "padding": null,
            "right": null,
            "top": null,
            "visibility": null,
            "width": null
          }
        },
        "b366166a634e4722bce3d7a2c0e2ed91": {
          "model_module": "@jupyter-widgets/controls",
          "model_name": "DescriptionStyleModel",
          "model_module_version": "1.5.0",
          "state": {
            "_model_module": "@jupyter-widgets/controls",
            "_model_module_version": "1.5.0",
            "_model_name": "DescriptionStyleModel",
            "_view_count": null,
            "_view_module": "@jupyter-widgets/base",
            "_view_module_version": "1.2.0",
            "_view_name": "StyleView",
            "description_width": ""
          }
        },
        "397d88466f7b42a9952d6d8102565395": {
          "model_module": "@jupyter-widgets/base",
          "model_name": "LayoutModel",
          "model_module_version": "1.2.0",
          "state": {
            "_model_module": "@jupyter-widgets/base",
            "_model_module_version": "1.2.0",
            "_model_name": "LayoutModel",
            "_view_count": null,
            "_view_module": "@jupyter-widgets/base",
            "_view_module_version": "1.2.0",
            "_view_name": "LayoutView",
            "align_content": null,
            "align_items": null,
            "align_self": null,
            "border": null,
            "bottom": null,
            "display": null,
            "flex": null,
            "flex_flow": null,
            "grid_area": null,
            "grid_auto_columns": null,
            "grid_auto_flow": null,
            "grid_auto_rows": null,
            "grid_column": null,
            "grid_gap": null,
            "grid_row": null,
            "grid_template_areas": null,
            "grid_template_columns": null,
            "grid_template_rows": null,
            "height": null,
            "justify_content": null,
            "justify_items": null,
            "left": null,
            "margin": null,
            "max_height": null,
            "max_width": null,
            "min_height": null,
            "min_width": null,
            "object_fit": null,
            "object_position": null,
            "order": null,
            "overflow": null,
            "overflow_x": null,
            "overflow_y": null,
            "padding": null,
            "right": null,
            "top": null,
            "visibility": null,
            "width": null
          }
        },
        "726229fc6a614fef9ba332c414d7dcd6": {
          "model_module": "@jupyter-widgets/controls",
          "model_name": "DescriptionStyleModel",
          "model_module_version": "1.5.0",
          "state": {
            "_model_module": "@jupyter-widgets/controls",
            "_model_module_version": "1.5.0",
            "_model_name": "DescriptionStyleModel",
            "_view_count": null,
            "_view_module": "@jupyter-widgets/base",
            "_view_module_version": "1.2.0",
            "_view_name": "StyleView",
            "description_width": ""
          }
        },
        "7e662fb3552b470b8d6bd2056cfc2fde": {
          "model_module": "@jupyter-widgets/base",
          "model_name": "LayoutModel",
          "model_module_version": "1.2.0",
          "state": {
            "_model_module": "@jupyter-widgets/base",
            "_model_module_version": "1.2.0",
            "_model_name": "LayoutModel",
            "_view_count": null,
            "_view_module": "@jupyter-widgets/base",
            "_view_module_version": "1.2.0",
            "_view_name": "LayoutView",
            "align_content": null,
            "align_items": null,
            "align_self": null,
            "border": null,
            "bottom": null,
            "display": null,
            "flex": null,
            "flex_flow": null,
            "grid_area": null,
            "grid_auto_columns": null,
            "grid_auto_flow": null,
            "grid_auto_rows": null,
            "grid_column": null,
            "grid_gap": null,
            "grid_row": null,
            "grid_template_areas": null,
            "grid_template_columns": null,
            "grid_template_rows": null,
            "height": null,
            "justify_content": null,
            "justify_items": null,
            "left": null,
            "margin": null,
            "max_height": null,
            "max_width": null,
            "min_height": null,
            "min_width": null,
            "object_fit": null,
            "object_position": null,
            "order": null,
            "overflow": null,
            "overflow_x": null,
            "overflow_y": null,
            "padding": null,
            "right": null,
            "top": null,
            "visibility": null,
            "width": null
          }
        },
        "52ec93237f5746edb4891417a0a5fe9f": {
          "model_module": "@jupyter-widgets/controls",
          "model_name": "DescriptionStyleModel",
          "model_module_version": "1.5.0",
          "state": {
            "_model_module": "@jupyter-widgets/controls",
            "_model_module_version": "1.5.0",
            "_model_name": "DescriptionStyleModel",
            "_view_count": null,
            "_view_module": "@jupyter-widgets/base",
            "_view_module_version": "1.2.0",
            "_view_name": "StyleView",
            "description_width": ""
          }
        },
        "f4b440d6827e419aa8a9cbb386acedc2": {
          "model_module": "@jupyter-widgets/base",
          "model_name": "LayoutModel",
          "model_module_version": "1.2.0",
          "state": {
            "_model_module": "@jupyter-widgets/base",
            "_model_module_version": "1.2.0",
            "_model_name": "LayoutModel",
            "_view_count": null,
            "_view_module": "@jupyter-widgets/base",
            "_view_module_version": "1.2.0",
            "_view_name": "LayoutView",
            "align_content": null,
            "align_items": null,
            "align_self": null,
            "border": null,
            "bottom": null,
            "display": null,
            "flex": null,
            "flex_flow": null,
            "grid_area": null,
            "grid_auto_columns": null,
            "grid_auto_flow": null,
            "grid_auto_rows": null,
            "grid_column": null,
            "grid_gap": null,
            "grid_row": null,
            "grid_template_areas": null,
            "grid_template_columns": null,
            "grid_template_rows": null,
            "height": null,
            "justify_content": null,
            "justify_items": null,
            "left": null,
            "margin": null,
            "max_height": null,
            "max_width": null,
            "min_height": null,
            "min_width": null,
            "object_fit": null,
            "object_position": null,
            "order": null,
            "overflow": null,
            "overflow_x": null,
            "overflow_y": null,
            "padding": null,
            "right": null,
            "top": null,
            "visibility": null,
            "width": null
          }
        },
        "e22889b241374f498ffb0db35ebd15b9": {
          "model_module": "@jupyter-widgets/controls",
          "model_name": "ButtonStyleModel",
          "model_module_version": "1.5.0",
          "state": {
            "_model_module": "@jupyter-widgets/controls",
            "_model_module_version": "1.5.0",
            "_model_name": "ButtonStyleModel",
            "_view_count": null,
            "_view_module": "@jupyter-widgets/base",
            "_view_module_version": "1.2.0",
            "_view_name": "StyleView",
            "button_color": null,
            "font_weight": ""
          }
        },
        "3594844cf8d84639a9ba155d5a054ece": {
          "model_module": "@jupyter-widgets/base",
          "model_name": "LayoutModel",
          "model_module_version": "1.2.0",
          "state": {
            "_model_module": "@jupyter-widgets/base",
            "_model_module_version": "1.2.0",
            "_model_name": "LayoutModel",
            "_view_count": null,
            "_view_module": "@jupyter-widgets/base",
            "_view_module_version": "1.2.0",
            "_view_name": "LayoutView",
            "align_content": null,
            "align_items": null,
            "align_self": null,
            "border": null,
            "bottom": null,
            "display": null,
            "flex": null,
            "flex_flow": null,
            "grid_area": null,
            "grid_auto_columns": null,
            "grid_auto_flow": null,
            "grid_auto_rows": null,
            "grid_column": null,
            "grid_gap": null,
            "grid_row": null,
            "grid_template_areas": null,
            "grid_template_columns": null,
            "grid_template_rows": null,
            "height": null,
            "justify_content": null,
            "justify_items": null,
            "left": null,
            "margin": null,
            "max_height": null,
            "max_width": null,
            "min_height": null,
            "min_width": null,
            "object_fit": null,
            "object_position": null,
            "order": null,
            "overflow": null,
            "overflow_x": null,
            "overflow_y": null,
            "padding": null,
            "right": null,
            "top": null,
            "visibility": null,
            "width": null
          }
        },
        "42c8ff1dfe1c44b5b0e2b8ba2a0c5704": {
          "model_module": "@jupyter-widgets/controls",
          "model_name": "ButtonStyleModel",
          "model_module_version": "1.5.0",
          "state": {
            "_model_module": "@jupyter-widgets/controls",
            "_model_module_version": "1.5.0",
            "_model_name": "ButtonStyleModel",
            "_view_count": null,
            "_view_module": "@jupyter-widgets/base",
            "_view_module_version": "1.2.0",
            "_view_name": "StyleView",
            "button_color": null,
            "font_weight": ""
          }
        },
        "e81792c1411a45f38e15c17a245b3b9f": {
          "model_module": "@jupyter-widgets/base",
          "model_name": "LayoutModel",
          "model_module_version": "1.2.0",
          "state": {
            "_model_module": "@jupyter-widgets/base",
            "_model_module_version": "1.2.0",
            "_model_name": "LayoutModel",
            "_view_count": null,
            "_view_module": "@jupyter-widgets/base",
            "_view_module_version": "1.2.0",
            "_view_name": "LayoutView",
            "align_content": null,
            "align_items": null,
            "align_self": null,
            "border": null,
            "bottom": null,
            "display": null,
            "flex": null,
            "flex_flow": null,
            "grid_area": null,
            "grid_auto_columns": null,
            "grid_auto_flow": null,
            "grid_auto_rows": null,
            "grid_column": null,
            "grid_gap": null,
            "grid_row": null,
            "grid_template_areas": null,
            "grid_template_columns": null,
            "grid_template_rows": null,
            "height": null,
            "justify_content": null,
            "justify_items": null,
            "left": null,
            "margin": null,
            "max_height": null,
            "max_width": null,
            "min_height": null,
            "min_width": null,
            "object_fit": null,
            "object_position": null,
            "order": null,
            "overflow": null,
            "overflow_x": null,
            "overflow_y": null,
            "padding": null,
            "right": null,
            "top": null,
            "visibility": null,
            "width": null
          }
        },
        "227131313d26436bb0d22b1fb1439d5b": {
          "model_module": "@jupyter-widgets/controls",
          "model_name": "ButtonStyleModel",
          "model_module_version": "1.5.0",
          "state": {
            "_model_module": "@jupyter-widgets/controls",
            "_model_module_version": "1.5.0",
            "_model_name": "ButtonStyleModel",
            "_view_count": null,
            "_view_module": "@jupyter-widgets/base",
            "_view_module_version": "1.2.0",
            "_view_name": "StyleView",
            "button_color": null,
            "font_weight": ""
          }
        },
        "fa21dac7259a4187b59a7b27b4ce9978": {
          "model_module": "@jupyter-widgets/base",
          "model_name": "LayoutModel",
          "model_module_version": "1.2.0",
          "state": {
            "_model_module": "@jupyter-widgets/base",
            "_model_module_version": "1.2.0",
            "_model_name": "LayoutModel",
            "_view_count": null,
            "_view_module": "@jupyter-widgets/base",
            "_view_module_version": "1.2.0",
            "_view_name": "LayoutView",
            "align_content": null,
            "align_items": null,
            "align_self": null,
            "border": null,
            "bottom": null,
            "display": null,
            "flex": null,
            "flex_flow": null,
            "grid_area": null,
            "grid_auto_columns": null,
            "grid_auto_flow": null,
            "grid_auto_rows": null,
            "grid_column": null,
            "grid_gap": null,
            "grid_row": null,
            "grid_template_areas": null,
            "grid_template_columns": null,
            "grid_template_rows": null,
            "height": null,
            "justify_content": null,
            "justify_items": null,
            "left": null,
            "margin": null,
            "max_height": null,
            "max_width": null,
            "min_height": null,
            "min_width": null,
            "object_fit": null,
            "object_position": null,
            "order": null,
            "overflow": null,
            "overflow_x": null,
            "overflow_y": null,
            "padding": null,
            "right": null,
            "top": null,
            "visibility": null,
            "width": null
          }
        },
        "ed8e1325ddd14ddea496504ca3cf77d9": {
          "model_module": "@jupyter-widgets/controls",
          "model_name": "ButtonStyleModel",
          "model_module_version": "1.5.0",
          "state": {
            "_model_module": "@jupyter-widgets/controls",
            "_model_module_version": "1.5.0",
            "_model_name": "ButtonStyleModel",
            "_view_count": null,
            "_view_module": "@jupyter-widgets/base",
            "_view_module_version": "1.2.0",
            "_view_name": "StyleView",
            "button_color": null,
            "font_weight": ""
          }
        },
        "1b6802945b574c6697bd8ca61357d176": {
          "model_module": "@jupyter-widgets/base",
          "model_name": "LayoutModel",
          "model_module_version": "1.2.0",
          "state": {
            "_model_module": "@jupyter-widgets/base",
            "_model_module_version": "1.2.0",
            "_model_name": "LayoutModel",
            "_view_count": null,
            "_view_module": "@jupyter-widgets/base",
            "_view_module_version": "1.2.0",
            "_view_name": "LayoutView",
            "align_content": null,
            "align_items": null,
            "align_self": null,
            "border": null,
            "bottom": null,
            "display": null,
            "flex": null,
            "flex_flow": null,
            "grid_area": null,
            "grid_auto_columns": null,
            "grid_auto_flow": null,
            "grid_auto_rows": null,
            "grid_column": null,
            "grid_gap": null,
            "grid_row": null,
            "grid_template_areas": null,
            "grid_template_columns": null,
            "grid_template_rows": null,
            "height": null,
            "justify_content": null,
            "justify_items": null,
            "left": null,
            "margin": null,
            "max_height": null,
            "max_width": null,
            "min_height": null,
            "min_width": null,
            "object_fit": null,
            "object_position": null,
            "order": null,
            "overflow": null,
            "overflow_x": null,
            "overflow_y": null,
            "padding": null,
            "right": null,
            "top": null,
            "visibility": null,
            "width": "200px"
          }
        },
        "661ff7aa21304f79858e8a050cb1aaec": {
          "model_module": "@jupyter-widgets/controls",
          "model_name": "DescriptionStyleModel",
          "model_module_version": "1.5.0",
          "state": {
            "_model_module": "@jupyter-widgets/controls",
            "_model_module_version": "1.5.0",
            "_model_name": "DescriptionStyleModel",
            "_view_count": null,
            "_view_module": "@jupyter-widgets/base",
            "_view_module_version": "1.2.0",
            "_view_name": "StyleView",
            "description_width": ""
          }
        },
        "452cb43e3f394147a4aeae7ac3cf6480": {
          "model_module": "@jupyter-widgets/base",
          "model_name": "LayoutModel",
          "model_module_version": "1.2.0",
          "state": {
            "_model_module": "@jupyter-widgets/base",
            "_model_module_version": "1.2.0",
            "_model_name": "LayoutModel",
            "_view_count": null,
            "_view_module": "@jupyter-widgets/base",
            "_view_module_version": "1.2.0",
            "_view_name": "LayoutView",
            "align_content": null,
            "align_items": null,
            "align_self": null,
            "border": null,
            "bottom": null,
            "display": null,
            "flex": null,
            "flex_flow": null,
            "grid_area": null,
            "grid_auto_columns": null,
            "grid_auto_flow": null,
            "grid_auto_rows": null,
            "grid_column": null,
            "grid_gap": null,
            "grid_row": null,
            "grid_template_areas": null,
            "grid_template_columns": null,
            "grid_template_rows": null,
            "height": null,
            "justify_content": null,
            "justify_items": null,
            "left": null,
            "margin": null,
            "max_height": null,
            "max_width": null,
            "min_height": null,
            "min_width": null,
            "object_fit": null,
            "object_position": null,
            "order": null,
            "overflow": null,
            "overflow_x": null,
            "overflow_y": null,
            "padding": null,
            "right": null,
            "top": null,
            "visibility": null,
            "width": null
          }
        },
        "0005dde6be3e4bb6ab48c773caab6eae": {
          "model_module": "@jupyter-widgets/base",
          "model_name": "LayoutModel",
          "model_module_version": "1.2.0",
          "state": {
            "_model_module": "@jupyter-widgets/base",
            "_model_module_version": "1.2.0",
            "_model_name": "LayoutModel",
            "_view_count": null,
            "_view_module": "@jupyter-widgets/base",
            "_view_module_version": "1.2.0",
            "_view_name": "LayoutView",
            "align_content": null,
            "align_items": null,
            "align_self": null,
            "border": null,
            "bottom": null,
            "display": null,
            "flex": null,
            "flex_flow": null,
            "grid_area": null,
            "grid_auto_columns": null,
            "grid_auto_flow": null,
            "grid_auto_rows": null,
            "grid_column": null,
            "grid_gap": null,
            "grid_row": null,
            "grid_template_areas": null,
            "grid_template_columns": null,
            "grid_template_rows": null,
            "height": null,
            "justify_content": null,
            "justify_items": null,
            "left": null,
            "margin": null,
            "max_height": null,
            "max_width": null,
            "min_height": null,
            "min_width": null,
            "object_fit": null,
            "object_position": null,
            "order": null,
            "overflow": null,
            "overflow_x": null,
            "overflow_y": null,
            "padding": null,
            "right": null,
            "top": null,
            "visibility": null,
            "width": null
          }
        },
        "a1bb0ee129d74d92aaa3d051379f1555": {
          "model_module": "@jupyter-widgets/base",
          "model_name": "LayoutModel",
          "model_module_version": "1.2.0",
          "state": {
            "_model_module": "@jupyter-widgets/base",
            "_model_module_version": "1.2.0",
            "_model_name": "LayoutModel",
            "_view_count": null,
            "_view_module": "@jupyter-widgets/base",
            "_view_module_version": "1.2.0",
            "_view_name": "LayoutView",
            "align_content": null,
            "align_items": null,
            "align_self": null,
            "border": null,
            "bottom": null,
            "display": null,
            "flex": null,
            "flex_flow": null,
            "grid_area": null,
            "grid_auto_columns": null,
            "grid_auto_flow": null,
            "grid_auto_rows": null,
            "grid_column": null,
            "grid_gap": null,
            "grid_row": null,
            "grid_template_areas": null,
            "grid_template_columns": null,
            "grid_template_rows": null,
            "height": null,
            "justify_content": null,
            "justify_items": null,
            "left": null,
            "margin": null,
            "max_height": null,
            "max_width": null,
            "min_height": null,
            "min_width": null,
            "object_fit": null,
            "object_position": null,
            "order": null,
            "overflow": null,
            "overflow_x": null,
            "overflow_y": null,
            "padding": null,
            "right": null,
            "top": null,
            "visibility": null,
            "width": null
          }
        },
        "0f3211182194470f982aa1ebd0de417d": {
          "model_module": "@jupyter-widgets/base",
          "model_name": "LayoutModel",
          "model_module_version": "1.2.0",
          "state": {
            "_model_module": "@jupyter-widgets/base",
            "_model_module_version": "1.2.0",
            "_model_name": "LayoutModel",
            "_view_count": null,
            "_view_module": "@jupyter-widgets/base",
            "_view_module_version": "1.2.0",
            "_view_name": "LayoutView",
            "align_content": null,
            "align_items": null,
            "align_self": null,
            "border": null,
            "bottom": null,
            "display": null,
            "flex": null,
            "flex_flow": null,
            "grid_area": null,
            "grid_auto_columns": null,
            "grid_auto_flow": null,
            "grid_auto_rows": null,
            "grid_column": null,
            "grid_gap": null,
            "grid_row": null,
            "grid_template_areas": null,
            "grid_template_columns": null,
            "grid_template_rows": null,
            "height": null,
            "justify_content": null,
            "justify_items": null,
            "left": null,
            "margin": null,
            "max_height": null,
            "max_width": null,
            "min_height": null,
            "min_width": null,
            "object_fit": null,
            "object_position": null,
            "order": null,
            "overflow": null,
            "overflow_x": null,
            "overflow_y": null,
            "padding": null,
            "right": null,
            "top": null,
            "visibility": null,
            "width": null
          }
        },
        "f25025c93a804e79b2d2235db561ff86": {
          "model_module": "@jupyter-widgets/base",
          "model_name": "LayoutModel",
          "model_module_version": "1.2.0",
          "state": {
            "_model_module": "@jupyter-widgets/base",
            "_model_module_version": "1.2.0",
            "_model_name": "LayoutModel",
            "_view_count": null,
            "_view_module": "@jupyter-widgets/base",
            "_view_module_version": "1.2.0",
            "_view_name": "LayoutView",
            "align_content": null,
            "align_items": null,
            "align_self": null,
            "border": null,
            "bottom": null,
            "display": null,
            "flex": null,
            "flex_flow": null,
            "grid_area": null,
            "grid_auto_columns": null,
            "grid_auto_flow": null,
            "grid_auto_rows": null,
            "grid_column": null,
            "grid_gap": null,
            "grid_row": null,
            "grid_template_areas": null,
            "grid_template_columns": null,
            "grid_template_rows": null,
            "height": null,
            "justify_content": null,
            "justify_items": null,
            "left": null,
            "margin": null,
            "max_height": null,
            "max_width": null,
            "min_height": null,
            "min_width": null,
            "object_fit": null,
            "object_position": null,
            "order": null,
            "overflow": null,
            "overflow_x": null,
            "overflow_y": null,
            "padding": null,
            "right": null,
            "top": null,
            "visibility": null,
            "width": null
          }
        },
        "ac14ab833a8c41b2822151106d655d87": {
          "model_module": "@jupyter-widgets/controls",
          "model_name": "HBoxModel",
          "model_module_version": "1.5.0",
          "state": {
            "_dom_classes": [],
            "_model_module": "@jupyter-widgets/controls",
            "_model_module_version": "1.5.0",
            "_model_name": "HBoxModel",
            "_view_count": null,
            "_view_module": "@jupyter-widgets/controls",
            "_view_module_version": "1.5.0",
            "_view_name": "HBoxView",
            "box_style": "",
            "children": [
              "IPY_MODEL_d90da9b405964ec48adf2e4632760ffb",
              "IPY_MODEL_071388122b244e5891744763b4322662"
            ],
            "layout": "IPY_MODEL_8bbea29565334993a1d47f23020048ac"
          }
        },
        "d90da9b405964ec48adf2e4632760ffb": {
          "model_module": "@jupyter-widgets/controls",
          "model_name": "ButtonModel",
          "model_module_version": "1.5.0",
          "state": {
            "_dom_classes": [],
            "_model_module": "@jupyter-widgets/controls",
            "_model_module_version": "1.5.0",
            "_model_name": "ButtonModel",
            "_view_count": null,
            "_view_module": "@jupyter-widgets/controls",
            "_view_module_version": "1.5.0",
            "_view_name": "ButtonView",
            "button_style": "warning",
            "description": "Retry",
            "disabled": false,
            "icon": "refresh",
            "layout": "IPY_MODEL_766152d4ebc6442dab326fb49bd6f631",
            "style": "IPY_MODEL_65d76701d69e44b7b6b4525ae9ab5cb6",
            "tooltip": ""
          }
        },
        "071388122b244e5891744763b4322662": {
          "model_module": "@jupyter-widgets/controls",
          "model_name": "ButtonModel",
          "model_module_version": "1.5.0",
          "state": {
            "_dom_classes": [],
            "_model_module": "@jupyter-widgets/controls",
            "_model_module_version": "1.5.0",
            "_model_name": "ButtonModel",
            "_view_count": null,
            "_view_module": "@jupyter-widgets/controls",
            "_view_module_version": "1.5.0",
            "_view_name": "ButtonView",
            "button_style": "info",
            "description": "Next",
            "disabled": false,
            "icon": "arrow-right",
            "layout": "IPY_MODEL_91f2cdfb88d14f869b19dee681c128d0",
            "style": "IPY_MODEL_34c0473e3cc34f39b3069225c9647af3",
            "tooltip": ""
          }
        },
        "8bbea29565334993a1d47f23020048ac": {
          "model_module": "@jupyter-widgets/base",
          "model_name": "LayoutModel",
          "model_module_version": "1.2.0",
          "state": {
            "_model_module": "@jupyter-widgets/base",
            "_model_module_version": "1.2.0",
            "_model_name": "LayoutModel",
            "_view_count": null,
            "_view_module": "@jupyter-widgets/base",
            "_view_module_version": "1.2.0",
            "_view_name": "LayoutView",
            "align_content": null,
            "align_items": null,
            "align_self": null,
            "border": null,
            "bottom": null,
            "display": null,
            "flex": null,
            "flex_flow": null,
            "grid_area": null,
            "grid_auto_columns": null,
            "grid_auto_flow": null,
            "grid_auto_rows": null,
            "grid_column": null,
            "grid_gap": null,
            "grid_row": null,
            "grid_template_areas": null,
            "grid_template_columns": null,
            "grid_template_rows": null,
            "height": null,
            "justify_content": null,
            "justify_items": null,
            "left": null,
            "margin": null,
            "max_height": null,
            "max_width": null,
            "min_height": null,
            "min_width": null,
            "object_fit": null,
            "object_position": null,
            "order": null,
            "overflow": null,
            "overflow_x": null,
            "overflow_y": null,
            "padding": null,
            "right": null,
            "top": null,
            "visibility": null,
            "width": null
          }
        },
        "766152d4ebc6442dab326fb49bd6f631": {
          "model_module": "@jupyter-widgets/base",
          "model_name": "LayoutModel",
          "model_module_version": "1.2.0",
          "state": {
            "_model_module": "@jupyter-widgets/base",
            "_model_module_version": "1.2.0",
            "_model_name": "LayoutModel",
            "_view_count": null,
            "_view_module": "@jupyter-widgets/base",
            "_view_module_version": "1.2.0",
            "_view_name": "LayoutView",
            "align_content": null,
            "align_items": null,
            "align_self": null,
            "border": null,
            "bottom": null,
            "display": null,
            "flex": null,
            "flex_flow": null,
            "grid_area": null,
            "grid_auto_columns": null,
            "grid_auto_flow": null,
            "grid_auto_rows": null,
            "grid_column": null,
            "grid_gap": null,
            "grid_row": null,
            "grid_template_areas": null,
            "grid_template_columns": null,
            "grid_template_rows": null,
            "height": null,
            "justify_content": null,
            "justify_items": null,
            "left": null,
            "margin": null,
            "max_height": null,
            "max_width": null,
            "min_height": null,
            "min_width": null,
            "object_fit": null,
            "object_position": null,
            "order": null,
            "overflow": null,
            "overflow_x": null,
            "overflow_y": null,
            "padding": null,
            "right": null,
            "top": null,
            "visibility": null,
            "width": null
          }
        },
        "65d76701d69e44b7b6b4525ae9ab5cb6": {
          "model_module": "@jupyter-widgets/controls",
          "model_name": "ButtonStyleModel",
          "model_module_version": "1.5.0",
          "state": {
            "_model_module": "@jupyter-widgets/controls",
            "_model_module_version": "1.5.0",
            "_model_name": "ButtonStyleModel",
            "_view_count": null,
            "_view_module": "@jupyter-widgets/base",
            "_view_module_version": "1.2.0",
            "_view_name": "StyleView",
            "button_color": null,
            "font_weight": ""
          }
        },
        "91f2cdfb88d14f869b19dee681c128d0": {
          "model_module": "@jupyter-widgets/base",
          "model_name": "LayoutModel",
          "model_module_version": "1.2.0",
          "state": {
            "_model_module": "@jupyter-widgets/base",
            "_model_module_version": "1.2.0",
            "_model_name": "LayoutModel",
            "_view_count": null,
            "_view_module": "@jupyter-widgets/base",
            "_view_module_version": "1.2.0",
            "_view_name": "LayoutView",
            "align_content": null,
            "align_items": null,
            "align_self": null,
            "border": null,
            "bottom": null,
            "display": null,
            "flex": null,
            "flex_flow": null,
            "grid_area": null,
            "grid_auto_columns": null,
            "grid_auto_flow": null,
            "grid_auto_rows": null,
            "grid_column": null,
            "grid_gap": null,
            "grid_row": null,
            "grid_template_areas": null,
            "grid_template_columns": null,
            "grid_template_rows": null,
            "height": null,
            "justify_content": null,
            "justify_items": null,
            "left": null,
            "margin": null,
            "max_height": null,
            "max_width": null,
            "min_height": null,
            "min_width": null,
            "object_fit": null,
            "object_position": null,
            "order": null,
            "overflow": null,
            "overflow_x": null,
            "overflow_y": null,
            "padding": null,
            "right": null,
            "top": null,
            "visibility": null,
            "width": null
          }
        },
        "34c0473e3cc34f39b3069225c9647af3": {
          "model_module": "@jupyter-widgets/controls",
          "model_name": "ButtonStyleModel",
          "model_module_version": "1.5.0",
          "state": {
            "_model_module": "@jupyter-widgets/controls",
            "_model_module_version": "1.5.0",
            "_model_name": "ButtonStyleModel",
            "_view_count": null,
            "_view_module": "@jupyter-widgets/base",
            "_view_module_version": "1.2.0",
            "_view_name": "StyleView",
            "button_color": null,
            "font_weight": ""
          }
        },
        "129eb6217e854a35a8cc38a55312640c": {
          "model_module": "@jupyter-widgets/controls",
          "model_name": "HBoxModel",
          "model_module_version": "1.5.0",
          "state": {
            "_dom_classes": [],
            "_model_module": "@jupyter-widgets/controls",
            "_model_module_version": "1.5.0",
            "_model_name": "HBoxModel",
            "_view_count": null,
            "_view_module": "@jupyter-widgets/controls",
            "_view_module_version": "1.5.0",
            "_view_name": "HBoxView",
            "box_style": "",
            "children": [
              "IPY_MODEL_d90da9b405964ec48adf2e4632760ffb",
              "IPY_MODEL_071388122b244e5891744763b4322662"
            ],
            "layout": "IPY_MODEL_438d8904ec2a4733849814902f4cb495"
          }
        },
        "438d8904ec2a4733849814902f4cb495": {
          "model_module": "@jupyter-widgets/base",
          "model_name": "LayoutModel",
          "model_module_version": "1.2.0",
          "state": {
            "_model_module": "@jupyter-widgets/base",
            "_model_module_version": "1.2.0",
            "_model_name": "LayoutModel",
            "_view_count": null,
            "_view_module": "@jupyter-widgets/base",
            "_view_module_version": "1.2.0",
            "_view_name": "LayoutView",
            "align_content": null,
            "align_items": null,
            "align_self": null,
            "border": null,
            "bottom": null,
            "display": null,
            "flex": null,
            "flex_flow": null,
            "grid_area": null,
            "grid_auto_columns": null,
            "grid_auto_flow": null,
            "grid_auto_rows": null,
            "grid_column": null,
            "grid_gap": null,
            "grid_row": null,
            "grid_template_areas": null,
            "grid_template_columns": null,
            "grid_template_rows": null,
            "height": null,
            "justify_content": null,
            "justify_items": null,
            "left": null,
            "margin": null,
            "max_height": null,
            "max_width": null,
            "min_height": null,
            "min_width": null,
            "object_fit": null,
            "object_position": null,
            "order": null,
            "overflow": null,
            "overflow_x": null,
            "overflow_y": null,
            "padding": null,
            "right": null,
            "top": null,
            "visibility": null,
            "width": null
          }
        }
      }
    }
  },
  "cells": [
    {
      "cell_type": "markdown",
      "metadata": {
        "id": "view-in-github",
        "colab_type": "text"
      },
      "source": [
        "<a href=\"https://colab.research.google.com/github/brendanpshea/computing_concepts_python/blob/main/IntroCS_03_ControlStructures.ipynb\" target=\"_parent\"><img src=\"https://colab.research.google.com/assets/colab-badge.svg\" alt=\"Open In Colab\"/></a>"
      ]
    },
    {
      "cell_type": "markdown",
      "source": [
        "# Input, Output, and Control Flow in Python\n",
        "## Brendan Shea, PhD\n",
        "\n",
        "In this chapter, we'll explore how Python programs can interact with users and make decisions. Just like a pizza chef needs to take orders, process information, and follow specific steps when preparing different pizzas, your Python programs need ways to receive input, display output, and control the flow of execution.\n",
        "\n",
        "## What You'll Learn in This Chapter:\n",
        "\n",
        "* **Input and Output Operations**\n",
        "  * How to display information to users\n",
        "  * How to format text for better readability\n",
        "  * How to get information from users\n",
        "\n",
        "* **Control Structures**\n",
        "  * How to make decisions in your code\n",
        "  * How to repeat operations\n",
        "  * How to build logical flows\n",
        "\n",
        "* **Program Design**\n",
        "  * How to plan your code before writing it\n",
        "  * How to represent logic with pseudocode\n",
        "  * How to find and fix common errors\n",
        "\n",
        "By the end of this chapter, you'll be able to create interactive programs that can make decisions and repeat actions—essential skills for any programmer!"
      ],
      "metadata": {
        "id": "ryFjU-LUP2n2"
      }
    },
    {
      "cell_type": "markdown",
      "source": [
        "# Communicating with Users: Python's print() Function\n",
        "\n",
        "Programs need to communicate with users, and the primary way to display information in Python is through the **print()** function. This built-in function takes the data you provide and displays it to the user.\n",
        "\n",
        "## Basic print() Usage\n",
        "\n",
        "The **print()** function is one of the most commonly used functions in Python. It allows your program to display text and other values to the screen."
      ],
      "metadata": {
        "id": "bBnohgBaP7St"
      }
    },
    {
      "cell_type": "code",
      "source": [
        "# Simple text output\n",
        "print(\"Welcome to Michelangelo's Pizza Palace!\")\n",
        "\n",
        "# Display a blank line to create space\n",
        "print()\n",
        "\n",
        "# Printing values stored in variables\n",
        "pizza_name = \"Turtle Power Supreme\"\n",
        "print(pizza_name)\n",
        "\n",
        "# Printing multiple items at once\n",
        "print(\"Your pizza will be ready in\", 15, \"minutes\")"
      ],
      "metadata": {
        "colab": {
          "base_uri": "https://localhost:8080/"
        },
        "id": "qrHTY3NGQFxW",
        "outputId": "58b1feca-e188-4bce-a9ce-c9862d3f7e38"
      },
      "execution_count": null,
      "outputs": [
        {
          "output_type": "stream",
          "name": "stdout",
          "text": [
            "Welcome to Michelangelo's Pizza Palace!\n",
            "\n",
            "Turtle Power Supreme\n",
            "Your pizza will be ready in 15 minutes\n"
          ]
        }
      ]
    },
    {
      "cell_type": "markdown",
      "source": [
        "## How print() Works\n",
        "\n",
        "When you call the print() function:\n",
        "1. Python evaluates all the expressions inside the parentheses\n",
        "2. Converts each value to a string representation\n",
        "3. Combines the strings with spaces between them (by default)\n",
        "4. Displays the result on the screen\n",
        "5. Adds a newline character at the end (by default)\n",
        "\n",
        "## Customizing print() Output\n",
        "\n",
        "The **sep** parameter changes the separator between items:\n"
      ],
      "metadata": {
        "id": "BqEuefSQQKea"
      }
    },
    {
      "cell_type": "code",
      "source": [
        "# Default separator is a space\n",
        "print(\"Cheese\", \"Sauce\", \"Dough\")\n",
        "\n",
        "# Custom separator\n",
        "print(\"Cheese\", \"Sauce\", \"Dough\", sep=\" + \")"
      ],
      "metadata": {
        "colab": {
          "base_uri": "https://localhost:8080/"
        },
        "id": "38reb3TSQMlD",
        "outputId": "0592d89c-ec28-4d78-b69e-7d3bf7ac154b"
      },
      "execution_count": null,
      "outputs": [
        {
          "output_type": "stream",
          "name": "stdout",
          "text": [
            "Cheese Sauce Dough\n",
            "Cheese + Sauce + Dough\n"
          ]
        }
      ]
    },
    {
      "cell_type": "markdown",
      "source": [
        "Remember that while print() seems simple, it's a fundamental tool for any program that needs to communicate information to its users!"
      ],
      "metadata": {
        "id": "Rxb5Hdr9QZ0Q"
      }
    },
    {
      "cell_type": "markdown",
      "source": [
        "The **end** parameter changes what's printed at the end:"
      ],
      "metadata": {
        "id": "vuMOqk4NQO1C"
      }
    },
    {
      "cell_type": "code",
      "source": [
        "# Default end is a newline\n",
        "print(\"Hello\")\n",
        "print(\"World\")\n",
        "# Output:\n",
        "# Hello\n",
        "# World\n",
        "\n",
        "# Custom end\n",
        "print(\"Processing order...\", end=\" \")\n",
        "print(\"Done!\")\n",
        "# Output: Processing order... Done!"
      ],
      "metadata": {
        "colab": {
          "base_uri": "https://localhost:8080/"
        },
        "id": "K0wsvU9WQQ81",
        "outputId": "e4c2809a-782d-4dee-fd7f-db8ea0b82012"
      },
      "execution_count": null,
      "outputs": [
        {
          "output_type": "stream",
          "name": "stdout",
          "text": [
            "Hello\n",
            "World\n",
            "Processing order... Done!\n"
          ]
        }
      ]
    },
    {
      "cell_type": "markdown",
      "source": [
        "# Formatting Output: Understanding F-Strings\n",
        "\n",
        "When displaying information to users, you often need to combine text with variable values in a readable format. Python's **f-strings** (formatted string literals) provide an elegant way to embed variables and expressions within text.\n",
        "\n",
        "## What Are F-Strings?\n",
        "\n",
        "**F-strings** are string literals that have an `f` at the beginning and curly braces `{}` containing expressions that will be replaced with their values. They were introduced in Python 3.6 and are now the recommended way to format strings.\n",
        "\n",
        "## Basic F-String Examples"
      ],
      "metadata": {
        "id": "7FiVtP3kQIMk"
      }
    },
    {
      "cell_type": "code",
      "source": [
        "# Basic variable insertion\n",
        "customer_name = \"Leonardo\"\n",
        "print(f\"Hello, {customer_name}!\")  # Output: Hello, Leonardo!\n",
        "\n",
        "# Including multiple variables\n",
        "pizza_type = \"Ninja Special\"\n",
        "price = 12.99\n",
        "print(f\"Your {pizza_type} costs ${price}\")  # Output: Your Ninja Special costs $12.99\n",
        "\n",
        "# Using expressions within f-strings\n",
        "num_pizzas = 3\n",
        "price_per_pizza = 10.50\n",
        "print(f\"Total cost: ${num_pizzas * price_per_pizza}\")  # Output: Total cost: $31.5"
      ],
      "metadata": {
        "colab": {
          "base_uri": "https://localhost:8080/"
        },
        "id": "woxVcHjeQuzH",
        "outputId": "745dbf0f-f1fe-4158-bc31-9440367e40b3"
      },
      "execution_count": null,
      "outputs": [
        {
          "output_type": "stream",
          "name": "stdout",
          "text": [
            "Hello, Leonardo!\n",
            "Your Ninja Special costs $12.99\n",
            "Total cost: $31.5\n"
          ]
        }
      ]
    },
    {
      "cell_type": "markdown",
      "source": [
        "## Why Use F-Strings?\n",
        "\n",
        "F-strings are:\n",
        "1. **Easy to read**: It's clear which variables are being inserted where\n",
        "2. **Concise**: Less code than other formatting methods\n",
        "3. **Efficient**: They run faster than older formatting techniques\n",
        "4. **Flexible**: You can include any expression inside the curly braces\n",
        "\n",
        "## Formatting Numbers in F-Strings\n",
        "\n",
        "F-strings allow you to format numbers for better display:"
      ],
      "metadata": {
        "id": "c9arTVunQ4Gn"
      }
    },
    {
      "cell_type": "code",
      "source": [
        "# Format with 2 decimal places\n",
        "price = 12.5\n",
        "print(f\"The pizza costs ${price:.2f}\")  # Output: The pizza costs $12.50\n",
        "\n",
        "# Format as percentage\n",
        "tax_rate = 0.08\n",
        "print(f\"Tax rate: {tax_rate:.0%}\")  # Output: Tax rate: 8%\n",
        "\n",
        "# Add commas for thousands\n",
        "large_order = 1500\n",
        "print(f\"Annual pizzas sold: {large_order:,}\")  # Output: Annual pizzas sold: 1,500"
      ],
      "metadata": {
        "colab": {
          "base_uri": "https://localhost:8080/"
        },
        "id": "P3OUTmdgQ7b1",
        "outputId": "c7166520-116a-4f66-f543-54f6614f283e"
      },
      "execution_count": null,
      "outputs": [
        {
          "output_type": "stream",
          "name": "stdout",
          "text": [
            "The pizza costs $12.50\n",
            "Tax rate: 8%\n",
            "Annual pizzas sold: 1,500\n"
          ]
        }
      ]
    },
    {
      "cell_type": "markdown",
      "source": [
        "F-strings make your code more readable and easier to maintain. They're especially useful when you need to display information that combines fixed text with variable data!"
      ],
      "metadata": {
        "id": "xhSLKWZURAC2"
      }
    },
    {
      "cell_type": "markdown",
      "source": [
        "# Special Characters in Strings: Escape Sequences\n",
        "\n",
        "Sometimes you need to include special characters in your strings that are difficult to type directly or would otherwise be interpreted as part of Python's syntax. **Escape sequences** solve this problem by using the backslash character (`\\`) followed by another character to represent these special characters.\n",
        "\n",
        "## What Are Escape Sequences?\n",
        "\n",
        "An **escape sequence** is a combination of characters that represents a special character. The backslash (`\\`) tells Python that the next character has a special meaning.\n",
        "\n",
        "## Common Escape Sequences\n",
        "\n",
        "| Escape Sequence | Description | Example Output |\n",
        "|-----------------|-------------|----------------|\n",
        "| `\\n` | Newline | Text on<br>multiple lines |\n",
        "| `\\t` | Tab | Text&emsp;with&emsp;tabs |\n",
        "| `\\\\` | Backslash | Display a \\ character |\n",
        "| `\\'` | Single quote | Don't worry about ending the string |\n",
        "| `\\\"` | Double quote | She said, \"I'll have a pizza\" |\n",
        "| `\\b` | Backspace | Deletes previous character |\n",
        "| `\\r` | Carriage return | Returns to start of line |"
      ],
      "metadata": {
        "id": "StOKLbj0RMk6"
      }
    },
    {
      "cell_type": "markdown",
      "source": [
        "\n",
        "## Using Escape Sequences in Print Statements\n",
        "\n",
        "Here are some examples of using f-strings:\n"
      ],
      "metadata": {
        "id": "JX_8T08KRPu5"
      }
    },
    {
      "cell_type": "code",
      "source": [
        "# multi-line output\n",
        "print(\"TMNT Pizza Menu:\\n1. Michelangelo's Cheesy Marvel\\n2. Donatello's Tech-tastic Toppings\\n3. Raphael's Radical Pepperoni\")"
      ],
      "metadata": {
        "colab": {
          "base_uri": "https://localhost:8080/"
        },
        "id": "EuAPlncdRvRD",
        "outputId": "f6c33afa-bd69-40f2-b582-797314b30809"
      },
      "execution_count": null,
      "outputs": [
        {
          "output_type": "stream",
          "name": "stdout",
          "text": [
            "TMNT Pizza Menu:\n",
            "1. Michelangelo's Cheesy Marvel\n",
            "2. Donatello's Tech-tastic Toppings\n",
            "3. Raphael's Radical Pepperoni\n"
          ]
        }
      ]
    },
    {
      "cell_type": "code",
      "source": [
        "# Adding quotes within strings\n",
        "\n",
        "print(\"Michelangelo says, \\\"Cowabunga! This pizza is awesome!\\\"\")\n",
        "print('Donatello\\'s favorite topping is mushroom.')"
      ],
      "metadata": {
        "colab": {
          "base_uri": "https://localhost:8080/"
        },
        "id": "Oer-AZ9-R0Mb",
        "outputId": "8bc5d109-3d94-4630-9f59-0e287684df74"
      },
      "execution_count": null,
      "outputs": [
        {
          "output_type": "stream",
          "name": "stdout",
          "text": [
            "Michelangelo says, \"Cowabunga! This pizza is awesome!\"\n",
            "Donatello's favorite topping is mushroom.\n"
          ]
        }
      ]
    },
    {
      "cell_type": "code",
      "source": [
        "# Creating organized output with tabs:\n",
        "\n",
        "print(\"Name\\tTopping\\t\\tPrice\")\n",
        "print(\"Supreme\\tMultiple\\t$14.99\")\n",
        "print(\"Cheese\\tCheese\\t\\t$10.99\")"
      ],
      "metadata": {
        "colab": {
          "base_uri": "https://localhost:8080/"
        },
        "id": "ZtGaKj2fR664",
        "outputId": "d55d288c-1d9c-4724-ce85-d2c09d507561"
      },
      "execution_count": null,
      "outputs": [
        {
          "output_type": "stream",
          "name": "stdout",
          "text": [
            "Name\tTopping\t\tPrice\n",
            "Supreme\tMultiple\t$14.99\n",
            "Cheese\tCheese\t\t$10.99\n"
          ]
        }
      ]
    },
    {
      "cell_type": "code",
      "source": [
        "# Showing file paths:\n",
        "print(\"Pizza recipes are stored at: C:\\\\Users\\\\TMNT\\\\recipes\")"
      ],
      "metadata": {
        "colab": {
          "base_uri": "https://localhost:8080/"
        },
        "id": "I8HI5V7QSJLH",
        "outputId": "877cc2c6-a352-42ca-e1d5-d7db0b88b75c"
      },
      "execution_count": null,
      "outputs": [
        {
          "output_type": "stream",
          "name": "stdout",
          "text": [
            "Pizza recipes are stored at: C:\\Users\\TMNT\\recipes\n"
          ]
        }
      ]
    },
    {
      "cell_type": "markdown",
      "source": [
        "Understanding escape sequences helps you create well-formatted output and handle special characters correctly in your strings!"
      ],
      "metadata": {
        "id": "8cVEHS-oSRPR"
      }
    },
    {
      "cell_type": "markdown",
      "source": [
        "# Getting User Input: The input() Function\n",
        "\n",
        "Programs often need to collect information from users. Python's **input()** function provides a way to get data from the user through the keyboard.\n",
        "\n",
        "## How input() Works\n",
        "\n",
        "The **input()** function:\n",
        "1. Displays a prompt (optional)\n",
        "2. Waits for the user to type something and press Enter\n",
        "3. Returns what the user typed as a string"
      ],
      "metadata": {
        "id": "To17VgE_SnER"
      }
    },
    {
      "cell_type": "code",
      "source": [
        "# Basic example of input()\n",
        "name = input(\"What's your name? \")\n",
        "print(\"Hello,\", name)"
      ],
      "metadata": {
        "colab": {
          "base_uri": "https://localhost:8080/"
        },
        "id": "6ao5O90ySpDc",
        "outputId": "52c53f09-57fa-4c6a-fa5e-0ca074421d8d"
      },
      "execution_count": null,
      "outputs": [
        {
          "output_type": "stream",
          "name": "stdout",
          "text": [
            "What's your name? Mikey\n",
            "Hello, Mikey\n"
          ]
        }
      ]
    },
    {
      "cell_type": "markdown",
      "source": [
        "When this code runs:\n",
        "1. The user sees: What's your name?\n",
        "2. The user types their name, e.g., \"Raphael\"\n",
        "3. After pressing Enter, the program continues\n",
        "4. The program displays: Hello, Raphael"
      ],
      "metadata": {
        "id": "r9eDRDHxSrzF"
      }
    },
    {
      "cell_type": "markdown",
      "source": [
        "## Important Things to Remember About input()\n",
        "\n",
        "* **Always returns a string**: Even if the user types numbers, input() returns them as strings\n",
        "* **The program pauses**: Code execution stops until the user presses Enter\n",
        "* **The prompt is optional**: You can call input() without a prompt, but it's less user-friendly\n",
        "\n",
        "```python\n",
        "# input() without a prompt - not recommended\n",
        "favorite_color = input()  # User doesn't know what to enter!\n",
        "\n",
        "# input() with a clear prompt - much better\n",
        "favorite_color = input(\"What is your favorite color? \")\n",
        "```\n",
        "\n",
        "## Creating Interactive Programs with input()\n",
        "\n",
        "Here's a simple interactive pizza order program:\n"
      ],
      "metadata": {
        "id": "sMBQ4I8rS1FJ"
      }
    },
    {
      "cell_type": "code",
      "source": [
        "# Display a welcome message\n",
        "print(\"Welcome to Turtle's Pizza Palace!\")\n",
        "\n",
        "# Get customer information\n",
        "customer_name = input(\"What's your name? \")\n",
        "print(\"Hello,\", customer_name, \"! Let's order your pizza.\")\n",
        "\n",
        "# Get order details\n",
        "size = input(\"What size pizza do you want (S/M/L)? \")\n",
        "topping = input(\"What topping would you like? \")\n",
        "\n",
        "# Display order confirmation\n",
        "print(\"Order Summary:\")\n",
        "print(\"Customer:\", customer_name)\n",
        "print(\"Pizza Size:\", size.upper())\n",
        "print(\"Topping:\", topping)\n",
        "print(\"Your pizza will be ready in 20 minutes\")"
      ],
      "metadata": {
        "id": "qx4avdBVS7b0"
      },
      "execution_count": null,
      "outputs": []
    },
    {
      "cell_type": "markdown",
      "source": [
        "## Converting input() for Numerical Use\n",
        "\n",
        "Since input() always returns a string, we need to convert it to use it mathematically:"
      ],
      "metadata": {
        "id": "h7AEHmL8TDj8"
      }
    },
    {
      "cell_type": "code",
      "source": [
        "# Get the number of pizzas as a string\n",
        "pizzas_str = input(\"How many pizzas would you like? \")\n",
        "\n",
        "# Convert the string to an integer\n",
        "pizzas = int(pizzas_str)\n",
        "\n",
        "# Now we can do math with it\n",
        "slices = pizzas * 8\n",
        "print(\"You'll get\", slices, \"slices total\")\n",
        "\n",
        "# We can also convert directly in one step\n",
        "pizzas = int(input(\"How many pizzas would you like? \"))"
      ],
      "metadata": {
        "id": "uSyVme4rTF2z"
      },
      "execution_count": null,
      "outputs": []
    },
    {
      "cell_type": "markdown",
      "source": [
        "The input() function is essential for creating interactive programs. Combined with print(), you now have the basic tools for your program to communicate with users!"
      ],
      "metadata": {
        "id": "4wZDFrXQTIjm"
      }
    },
    {
      "cell_type": "markdown",
      "source": [
        "# Converting Input Types: Working with User Data\n",
        "\n",
        "As we learned in the previous section, the **input()** function always returns data as a string, even when the user enters numbers. To perform mathematical operations or make certain comparisons, we need to **convert** this string data into the appropriate data type.\n",
        "\n",
        "## Type Conversion Functions\n",
        "\n",
        "Python provides several built-in functions to convert between data types:\n",
        "\n",
        "* **int()**: Converts to an integer (whole number)\n",
        "* **float()**: Converts to a floating-point number (decimal)\n",
        "* **str()**: Converts to a string\n",
        "* **bool()**: Converts to a Boolean (True/False)\n",
        "\n",
        "## Converting Strings to Numbers"
      ],
      "metadata": {
        "id": "ml6XsmWrTbo-"
      }
    },
    {
      "cell_type": "code",
      "source": [
        "# Converting strings to ints\n",
        "pizzas_ordered = input(\"How many pizzas would you like? \")\n",
        "pizzas_ordered = int(pizzas_ordered)  # Convert string to integer\n",
        "\n",
        "total_slices = pizzas_ordered * 8\n",
        "print(f\"You'll get {total_slices} slices total\")"
      ],
      "metadata": {
        "id": "I5JZqMztTfML"
      },
      "execution_count": null,
      "outputs": []
    },
    {
      "cell_type": "code",
      "source": [
        "# converting strings to floats\n",
        "pizza_price = input(\"Pizza price: $\")\n",
        "pizza_price = float(pizza_price)  # Convert string to float\n",
        "\n",
        "tax_amount = pizza_price * 0.08\n",
        "total_price = pizza_price + tax_amount\n",
        "\n",
        "print(f\"Tax: ${tax_amount:.2f}\")\n",
        "print(f\"Total: ${total_price:.2f}\")"
      ],
      "metadata": {
        "id": "2EGfTgB1TleS"
      },
      "execution_count": null,
      "outputs": []
    },
    {
      "cell_type": "markdown",
      "source": [
        "## Common Conversion Patterns\n",
        "\n",
        "| Scenario | Conversion Needed | Example |\n",
        "|----------|-------------------|---------|\n",
        "| Math operations | String → int or float | `quantity = int(input(\"Quantity: \"))` |\n",
        "| Display formatting | Number → string | `message = \"Order #\" + str(order_number)` |\n",
        "| Prices/currency | String → float | `price = float(input(\"Price: $\"))` |\n",
        "| Yes/No responses | String → boolean | `is_member = input(\"Member? (y/n)\") == \"y\"` |\n",
        "\n",
        "## Handling User Input Safely\n",
        "\n",
        "Be aware that conversion can cause errors if the input doesn't match the expected type:"
      ],
      "metadata": {
        "id": "er_FQP_ZTuDZ"
      }
    },
    {
      "cell_type": "code",
      "source": [
        "# This causes an error if the user enters text instead of a number\n",
        "age = int(input(\"How old are you? \"))"
      ],
      "metadata": {
        "id": "TwId11p9Tw76"
      },
      "execution_count": null,
      "outputs": []
    },
    {
      "cell_type": "markdown",
      "source": [
        "We'll learn about handling these errors in a later chapter, but for now, assume that users will enter the correct type of data."
      ],
      "metadata": {
        "id": "23LRAMoTT1CV"
      }
    },
    {
      "cell_type": "markdown",
      "source": [
        "# Making Decisions: Introduction to Control Structures\n",
        "\n",
        "So far, our programs have executed instructions in sequence, one after another. However, real programs need to make decisions and repeat actions. **Control structures** give your programs the ability to change which instructions are executed and when.\n",
        "\n",
        "## What Are Control Structures?\n",
        "\n",
        "**Control structures** are programming constructs that determine the flow of execution in a program. They allow you to:\n",
        "\n",
        "* Make decisions based on conditions\n",
        "* Execute different code based on different situations\n",
        "* Repeat code multiple times\n",
        "* Skip certain sections of code\n",
        "\n",
        "## Types of Control Structures\n",
        "\n",
        "Python provides three main types of control structures:\n",
        "\n",
        "1. **Conditional Statements**: Execute code only if certain conditions are met\n",
        "   * `if`, `elif`, and `else` statements\n",
        "   \n",
        "2. **Loops**: Repeat code multiple times\n",
        "   * `for` loops for iterating a fixed number of times\n",
        "   * `while` loops for repeating until a condition changes\n",
        "\n",
        "3. **Control Transfer**: Change the normal flow of execution\n",
        "   * `break` to exit a loop early\n",
        "   * `continue` to skip to the next iteration of a loop\n",
        "\n",
        "## Why Control Structures Are Important\n",
        "\n",
        "Control structures are essential because they allow your programs to:\n",
        "\n",
        "* **Respond to different situations**: Just as a pizza chef needs to adjust cooking times based on toppings, your program needs to handle different inputs\n",
        "* **Automate repetitive tasks**: Instead of writing the same code multiple times, loops let you repeat actions efficiently\n",
        "* **Create intelligent behavior**: Decision-making is what makes programs useful and adaptable\n",
        "\n",
        "## Real-World Analogies\n",
        "\n",
        "| Control Structure | Pizza Restaurant Analogy |\n",
        "|-------------------|--------------------------|\n",
        "| Conditional (if) | \"If the customer wants extra cheese, add more cheese\" |\n",
        "| Multiple conditions (elif) | \"If order is dine-in, serve on a plate; if takeout, put in a box; if delivery, add delivery fee\" |\n",
        "| Loops (for) | \"For each pizza in the order, add sauce and cheese\" |\n",
        "| Loops (while) | \"While there are customers in line, take their orders\" |\n",
        "\n",
        "In the following sections, we'll explore each type of control structure in detail and learn how to use them to create more powerful programs!"
      ],
      "metadata": {
        "id": "9TJfpvJDT5hI"
      }
    },
    {
      "cell_type": "markdown",
      "source": [
        "# Conditional Statements: if, elif, and else\n",
        "\n",
        "Conditional statements allow your programs to make decisions by executing different code based on whether certain conditions are true or false. They're like forks in the road that determine which path your program will take.\n",
        "\n",
        "## The if Statement\n",
        "\n",
        "The **if statement** is the most basic conditional. It executes a block of code only if a condition is True:\n",
        "\n",
        "```python\n",
        "if condition:\n",
        "    # This code runs only if the condition is True\n",
        "    statement1\n",
        "    statement2\n",
        "    # More statements...\n",
        "```\n",
        "\n",
        "Key points about `if` statements:\n",
        "* The condition is evaluated as either True or False\n",
        "* The indented code block runs only when the condition is True\n",
        "* Python uses indentation (typically 4 spaces) to define the code block\n",
        "* If the condition is False, the indented code is skipped entirely\n",
        "\n",
        "## Adding else Clauses\n",
        "\n",
        "The **else clause** provides an alternative block of code to execute when the condition is False:\n",
        "\n",
        "```python\n",
        "if condition:\n",
        "    # This code runs if the condition is True\n",
        "    statement1\n",
        "else:\n",
        "    # This code runs if the condition is False\n",
        "    statement2\n",
        "```\n",
        "\n",
        "## Multiple Conditions with elif\n",
        "\n",
        "For multiple conditions, use **elif** (short for \"else if\"):\n",
        "\n",
        "```python\n",
        "if condition1:\n",
        "    # Runs if condition1 is True\n",
        "    statement1\n",
        "elif condition2:\n",
        "    # Runs if condition1 is False AND condition2 is True\n",
        "    statement2\n",
        "elif condition3:\n",
        "    # Runs if conditions 1 and 2 are False AND condition3 is True\n",
        "    statement3\n",
        "else:\n",
        "    # Runs if all conditions are False\n",
        "    statement4\n",
        "```\n",
        "\n",
        "## Example: Pizza Ordering System\n"
      ],
      "metadata": {
        "id": "kxrP6WmcUNf4"
      }
    },
    {
      "cell_type": "code",
      "source": [
        "# Get the pizza size from user\n",
        "size = input(\"What size pizza would you like (S/M/L)? \").upper()\n",
        "\n",
        "# Determine price based on size\n",
        "if size == \"S\":\n",
        "    price = 8.99\n",
        "    print(\"You've selected a Small pizza.\")\n",
        "elif size == \"M\":\n",
        "    price = 12.99\n",
        "    print(\"You've selected a Medium pizza.\")\n",
        "elif size == \"L\":\n",
        "    price = 16.99\n",
        "    print(\"You've selected a Large pizza.\")\n",
        "else:\n",
        "    print(\"Invalid size selected. Defaulting to Medium.\")\n",
        "    size = \"M\"\n",
        "    price = 12.99\n",
        "\n",
        "print(f\"Your {size} pizza will cost ${price}\")"
      ],
      "metadata": {
        "id": "mucpiEo_UOT2"
      },
      "execution_count": null,
      "outputs": []
    },
    {
      "cell_type": "code",
      "source": [
        "# @title\n",
        "%%html\n",
        "<svg viewBox=\"0 0 500 350\" xmlns=\"http://www.w3.org/2000/svg\">\n",
        "  <!-- Start -->\n",
        "  <rect x=\"200\" y=\"20\" width=\"100\" height=\"40\" rx=\"10\" fill=\"#f0f0f0\" stroke=\"#333\" stroke-width=\"2\"/>\n",
        "  <text x=\"250\" y=\"45\" font-family=\"Arial\" font-size=\"14\" text-anchor=\"middle\">Start</text>\n",
        "\n",
        "  <!-- Condition -->\n",
        "  <path d=\"M250,60 L250,90\" stroke=\"#333\" stroke-width=\"2\" fill=\"none\" marker-end=\"url(#arrowhead)\"/>\n",
        "  <polygon points=\"200,90 300,90 250,140\" fill=\"#FFDD94\" stroke=\"#333\" stroke-width=\"2\"/>\n",
        "  <text x=\"250\" y=\"115\" font-family=\"Arial\" font-size=\"12\" text-anchor=\"middle\">if condition?</text>\n",
        "\n",
        "  <!-- If branch -->\n",
        "  <path d=\"M200,115 L150,150\" stroke=\"#333\" stroke-width=\"2\" fill=\"none\" marker-end=\"url(#arrowhead)\"/>\n",
        "  <text x=\"160\" y=\"135\" font-family=\"Arial\" font-size=\"12\" text-anchor=\"middle\">True</text>\n",
        "  <rect x=\"100\" y=\"150\" width=\"100\" height=\"40\" rx=\"5\" fill=\"#D5E8D4\" stroke=\"#333\" stroke-width=\"2\"/>\n",
        "  <text x=\"150\" y=\"175\" font-family=\"Arial\" font-size=\"12\" text-anchor=\"middle\">if block code</text>\n",
        "\n",
        "  <!-- Elif condition -->\n",
        "  <path d=\"M300,115 L350,150\" stroke=\"#333\" stroke-width=\"2\" fill=\"none\" marker-end=\"url(#arrowhead)\"/>\n",
        "  <text x=\"340\" y=\"135\" font-family=\"Arial\" font-size=\"12\" text-anchor=\"middle\">False</text>\n",
        "  <polygon points=\"300,150 400,150 350,200\" fill=\"#FFB570\" stroke=\"#333\" stroke-width=\"2\"/>\n",
        "  <text x=\"350\" y=\"175\" font-family=\"Arial\" font-size=\"12\" text-anchor=\"middle\">elif condition?</text>\n",
        "\n",
        "  <!-- Elif branch -->\n",
        "  <path d=\"M300,175 L250,210\" stroke=\"#333\" stroke-width=\"2\" fill=\"none\" marker-end=\"url(#arrowhead)\"/>\n",
        "  <text x=\"265\" y=\"195\" font-family=\"Arial\" font-size=\"12\" text-anchor=\"middle\">True</text>\n",
        "  <rect x=\"200\" y=\"210\" width=\"100\" height=\"40\" rx=\"5\" fill=\"#DAE8FC\" stroke=\"#333\" stroke-width=\"2\"/>\n",
        "  <text x=\"250\" y=\"235\" font-family=\"Arial\" font-size=\"12\" text-anchor=\"middle\">elif block code</text>\n",
        "\n",
        "  <!-- Else branch -->\n",
        "  <path d=\"M400,175 L450,210\" stroke=\"#333\" stroke-width=\"2\" fill=\"none\" marker-end=\"url(#arrowhead)\"/>\n",
        "  <text x=\"435\" y=\"195\" font-family=\"Arial\" font-size=\"12\" text-anchor=\"middle\">False</text>\n",
        "  <rect x=\"400\" y=\"210\" width=\"100\" height=\"40\" rx=\"5\" fill=\"#F8CECC\" stroke=\"#333\" stroke-width=\"2\"/>\n",
        "  <text x=\"450\" y=\"235\" font-family=\"Arial\" font-size=\"12\" text-anchor=\"middle\">else block code</text>\n",
        "\n",
        "  <!-- End -->\n",
        "  <path d=\"M150,190 L150,270\" stroke=\"#333\" stroke-width=\"2\" fill=\"none\"/>\n",
        "  <path d=\"M250,250 L250,270\" stroke=\"#333\" stroke-width=\"2\" fill=\"none\"/>\n",
        "  <path d=\"M450,250 L450,270\" stroke=\"#333\" stroke-width=\"2\" fill=\"none\"/>\n",
        "  <path d=\"M150,270 L450,270\" stroke=\"#333\" stroke-width=\"2\" fill=\"none\"/>\n",
        "  <path d=\"M250,270 L250,300\" stroke=\"#333\" stroke-width=\"2\" fill=\"none\" marker-end=\"url(#arrowhead)\"/>\n",
        "\n",
        "  <rect x=\"200\" y=\"300\" width=\"100\" height=\"40\" rx=\"10\" fill=\"#f0f0f0\" stroke=\"#333\" stroke-width=\"2\"/>\n",
        "  <text x=\"250\" y=\"325\" font-family=\"Arial\" font-size=\"14\" text-anchor=\"middle\">Continue</text>\n",
        "\n",
        "  <!-- Arrowhead marker -->\n",
        "  <defs>\n",
        "    <marker id=\"arrowhead\" markerWidth=\"10\" markerHeight=\"7\" refX=\"9\" refY=\"3.5\" orient=\"auto\">\n",
        "      <polygon points=\"0 0, 10 3.5, 0 7\" fill=\"#333\"/>\n",
        "    </marker>\n",
        "  </defs>\n",
        "</svg>"
      ],
      "metadata": {
        "colab": {
          "base_uri": "https://localhost:8080/",
          "height": 1000
        },
        "cellView": "form",
        "id": "Mdlq-dYCUAUj",
        "outputId": "b4ae8280-5cde-434e-e9a0-706b3abf2519"
      },
      "execution_count": null,
      "outputs": [
        {
          "output_type": "display_data",
          "data": {
            "text/plain": [
              "<IPython.core.display.HTML object>"
            ],
            "text/html": [
              "<svg viewBox=\"0 0 500 350\" xmlns=\"http://www.w3.org/2000/svg\">\n",
              "  <!-- Start -->\n",
              "  <rect x=\"200\" y=\"20\" width=\"100\" height=\"40\" rx=\"10\" fill=\"#f0f0f0\" stroke=\"#333\" stroke-width=\"2\"/>\n",
              "  <text x=\"250\" y=\"45\" font-family=\"Arial\" font-size=\"14\" text-anchor=\"middle\">Start</text>\n",
              "  \n",
              "  <!-- Condition -->\n",
              "  <path d=\"M250,60 L250,90\" stroke=\"#333\" stroke-width=\"2\" fill=\"none\" marker-end=\"url(#arrowhead)\"/>\n",
              "  <polygon points=\"200,90 300,90 250,140\" fill=\"#FFDD94\" stroke=\"#333\" stroke-width=\"2\"/>\n",
              "  <text x=\"250\" y=\"115\" font-family=\"Arial\" font-size=\"12\" text-anchor=\"middle\">if condition?</text>\n",
              "  \n",
              "  <!-- If branch -->\n",
              "  <path d=\"M200,115 L150,150\" stroke=\"#333\" stroke-width=\"2\" fill=\"none\" marker-end=\"url(#arrowhead)\"/>\n",
              "  <text x=\"160\" y=\"135\" font-family=\"Arial\" font-size=\"12\" text-anchor=\"middle\">True</text>\n",
              "  <rect x=\"100\" y=\"150\" width=\"100\" height=\"40\" rx=\"5\" fill=\"#D5E8D4\" stroke=\"#333\" stroke-width=\"2\"/>\n",
              "  <text x=\"150\" y=\"175\" font-family=\"Arial\" font-size=\"12\" text-anchor=\"middle\">if block code</text>\n",
              "  \n",
              "  <!-- Elif condition -->\n",
              "  <path d=\"M300,115 L350,150\" stroke=\"#333\" stroke-width=\"2\" fill=\"none\" marker-end=\"url(#arrowhead)\"/>\n",
              "  <text x=\"340\" y=\"135\" font-family=\"Arial\" font-size=\"12\" text-anchor=\"middle\">False</text>\n",
              "  <polygon points=\"300,150 400,150 350,200\" fill=\"#FFB570\" stroke=\"#333\" stroke-width=\"2\"/>\n",
              "  <text x=\"350\" y=\"175\" font-family=\"Arial\" font-size=\"12\" text-anchor=\"middle\">elif condition?</text>\n",
              "  \n",
              "  <!-- Elif branch -->\n",
              "  <path d=\"M300,175 L250,210\" stroke=\"#333\" stroke-width=\"2\" fill=\"none\" marker-end=\"url(#arrowhead)\"/>\n",
              "  <text x=\"265\" y=\"195\" font-family=\"Arial\" font-size=\"12\" text-anchor=\"middle\">True</text>\n",
              "  <rect x=\"200\" y=\"210\" width=\"100\" height=\"40\" rx=\"5\" fill=\"#DAE8FC\" stroke=\"#333\" stroke-width=\"2\"/>\n",
              "  <text x=\"250\" y=\"235\" font-family=\"Arial\" font-size=\"12\" text-anchor=\"middle\">elif block code</text>\n",
              "  \n",
              "  <!-- Else branch -->\n",
              "  <path d=\"M400,175 L450,210\" stroke=\"#333\" stroke-width=\"2\" fill=\"none\" marker-end=\"url(#arrowhead)\"/>\n",
              "  <text x=\"435\" y=\"195\" font-family=\"Arial\" font-size=\"12\" text-anchor=\"middle\">False</text>\n",
              "  <rect x=\"400\" y=\"210\" width=\"100\" height=\"40\" rx=\"5\" fill=\"#F8CECC\" stroke=\"#333\" stroke-width=\"2\"/>\n",
              "  <text x=\"450\" y=\"235\" font-family=\"Arial\" font-size=\"12\" text-anchor=\"middle\">else block code</text>\n",
              "  \n",
              "  <!-- End -->\n",
              "  <path d=\"M150,190 L150,270\" stroke=\"#333\" stroke-width=\"2\" fill=\"none\"/>\n",
              "  <path d=\"M250,250 L250,270\" stroke=\"#333\" stroke-width=\"2\" fill=\"none\"/>\n",
              "  <path d=\"M450,250 L450,270\" stroke=\"#333\" stroke-width=\"2\" fill=\"none\"/>\n",
              "  <path d=\"M150,270 L450,270\" stroke=\"#333\" stroke-width=\"2\" fill=\"none\"/>\n",
              "  <path d=\"M250,270 L250,300\" stroke=\"#333\" stroke-width=\"2\" fill=\"none\" marker-end=\"url(#arrowhead)\"/>\n",
              "  \n",
              "  <rect x=\"200\" y=\"300\" width=\"100\" height=\"40\" rx=\"10\" fill=\"#f0f0f0\" stroke=\"#333\" stroke-width=\"2\"/>\n",
              "  <text x=\"250\" y=\"325\" font-family=\"Arial\" font-size=\"14\" text-anchor=\"middle\">Continue</text>\n",
              "  \n",
              "  <!-- Arrowhead marker -->\n",
              "  <defs>\n",
              "    <marker id=\"arrowhead\" markerWidth=\"10\" markerHeight=\"7\" refX=\"9\" refY=\"3.5\" orient=\"auto\">\n",
              "      <polygon points=\"0 0, 10 3.5, 0 7\" fill=\"#333\"/>\n",
              "    </marker>\n",
              "  </defs>\n",
              "</svg>\n"
            ]
          },
          "metadata": {}
        }
      ]
    },
    {
      "cell_type": "markdown",
      "source": [
        "## Nested Conditionals\n",
        "\n",
        "You can place conditionals inside other conditionals:"
      ],
      "metadata": {
        "id": "yCuIrTFXUURo"
      }
    },
    {
      "cell_type": "code",
      "source": [
        "topping = input(\"What topping would you like? \").lower()\n",
        "extra_cheese = input(\"Would you like extra cheese? (y/n) \").lower()\n",
        "\n",
        "if topping == \"pepperoni\":\n",
        "    print(\"Excellent choice! Pepperoni is our specialty.\")\n",
        "    if extra_cheese == \"y\":\n",
        "        print(\"Adding extra cheese to your pepperoni pizza!\")\n",
        "else:\n",
        "    print(f\"Adding {topping} to your pizza.\")\n",
        "    if extra_cheese == \"y\":\n",
        "        print(\"With extra cheese!\")"
      ],
      "metadata": {
        "id": "v-M3uA2aUW5R"
      },
      "execution_count": null,
      "outputs": []
    },
    {
      "cell_type": "markdown",
      "source": [
        "## Tips for Working with Conditionals\n",
        "\n",
        "* **Indentation matters**: Python uses indentation to determine which code belongs to which block\n",
        "* **Conditions must be expressions**: They must evaluate to True or False\n",
        "* **Keep it simple**: If your conditions become too complex, break them into smaller parts\n",
        "* **Test all paths**: Make sure to test all possible branches when debugging\n",
        "\n",
        "Conditional statements are powerful tools that allow your programs to respond differently based on various conditions!"
      ],
      "metadata": {
        "id": "7BP2dTCCUYtG"
      }
    },
    {
      "cell_type": "markdown",
      "source": [
        "# Comparison Operators: Testing Conditions\n",
        "\n",
        "To use conditional statements effectively, you need to create conditions that can be evaluated as either True or False. **Comparison operators** let you compare values and create these Boolean conditions.\n",
        "\n",
        "## Basic Comparison Operators\n",
        "\n",
        "Python provides six main comparison operators:\n",
        "\n",
        "| Operator | Description | Example | Result |\n",
        "|----------|-------------|---------|--------|\n",
        "| `==` | Equal to | `5 == 5` | `True` |\n",
        "| `!=` | Not equal to | `5 != 3` | `True` |\n",
        "| `>` | Greater than | `5 > 3` | `True` |\n",
        "| `<` | Less than | `5 < 10` | `True` |\n",
        "| `>=` | Greater than or equal to | `5 >= 5` | `True` |\n",
        "| `<=` | Less than or equal to | `5 <= 3` | `False` |\n",
        "\n",
        "## Using Comparison Operators in Conditionals\n",
        "\n",
        "Comparison operators are most commonly used in conditional statements:"
      ],
      "metadata": {
        "id": "BGaHyiLrUwiP"
      }
    },
    {
      "cell_type": "code",
      "source": [
        "# Check if a pizza is affordable\n",
        "pizza_price = 15.99\n",
        "budget = 20.00\n",
        "\n",
        "if pizza_price <= budget:\n",
        "    print(\"You can afford this pizza!\")\n",
        "else:\n",
        "    print(\"Sorry, this pizza is over your budget.\")"
      ],
      "metadata": {
        "colab": {
          "base_uri": "https://localhost:8080/"
        },
        "id": "Fr3ljTTYUzYt",
        "outputId": "4b1027bc-6592-408d-932d-c77cb8e41c7e"
      },
      "execution_count": null,
      "outputs": [
        {
          "output_type": "stream",
          "name": "stdout",
          "text": [
            "You can afford this pizza!\n"
          ]
        }
      ]
    },
    {
      "cell_type": "markdown",
      "source": [
        "## Comparing Different Data Types\n",
        "\n",
        "We can compare different data types:"
      ],
      "metadata": {
        "id": "UQeSBnjMU2Be"
      }
    },
    {
      "cell_type": "code",
      "source": [
        "# Comparing integers\n",
        "age = 16\n",
        "if age >= 18:\n",
        "    print(\"You are old enough to order independently.\")\n",
        "else:\n",
        "    print(\"Please ask a parent or guardian to place the order.\")"
      ],
      "metadata": {
        "colab": {
          "base_uri": "https://localhost:8080/"
        },
        "id": "Zy7hXBqpU7gV",
        "outputId": "8b8e5caf-a43e-4eb3-9255-6388fc580b11"
      },
      "execution_count": null,
      "outputs": [
        {
          "output_type": "stream",
          "name": "stdout",
          "text": [
            "Please ask a parent or guardian to place the order.\n"
          ]
        }
      ]
    },
    {
      "cell_type": "code",
      "source": [
        "# comparing strings\n",
        "pizza_type = input(\"What pizza would you like? \")\n",
        "\n",
        "if pizza_type == \"pepperoni\":\n",
        "    print(\"Pepperoni is our most popular pizza!\")\n",
        "elif pizza_type == \"cheese\":\n",
        "    print(\"A classic choice!\")\n",
        "else:\n",
        "    print(f\"{pizza_type} is a great choice!\")"
      ],
      "metadata": {
        "id": "g5fuu0gfVGro"
      },
      "execution_count": null,
      "outputs": []
    },
    {
      "cell_type": "markdown",
      "source": [
        "Note that string comparisons are case senstive. Here, 'Pepperoni' is NOT the same as 'Pepperoni'.\n",
        "\n",
        "We can use string methods like `s.lower()` (which converts to lower-case) or `s.upper()` to account of this."
      ],
      "metadata": {
        "id": "2wqJ1vstVP3C"
      }
    },
    {
      "cell_type": "code",
      "source": [
        "# comparing strings\n",
        "pizza_type = input(\"What pizza would you like? \").lower()\n",
        "\n",
        "if pizza_type == \"pepperoni\":\n",
        "    print(\"Pepperoni is our most popular pizza!\")\n",
        "elif pizza_type == \"cheese\":\n",
        "    print(\"A classic choice!\")\n",
        "else:\n",
        "    print(f\"{pizza_type.capitalize()} is a great choice!\")"
      ],
      "metadata": {
        "id": "YtjbxKOVVtmC"
      },
      "execution_count": null,
      "outputs": []
    },
    {
      "cell_type": "markdown",
      "source": [
        "## Common Mistakes to\n",
        "\n",
        " **Using = instead of ==**: The single equals sign is for assignment, not comparison"
      ],
      "metadata": {
        "id": "xWfXszxLWEiu"
      }
    },
    {
      "cell_type": "code",
      "source": [
        "# WRONG - assigns 18 to age, then evaluates if 18 is True\n",
        "if age = 18:  # This causes an error\n",
        "  print(\"You're 18\")"
      ],
      "metadata": {
        "colab": {
          "base_uri": "https://localhost:8080/",
          "height": 106
        },
        "id": "J1hQVYWQWIx-",
        "outputId": "e216f05a-924f-4215-eb6b-76f534b47d24"
      },
      "execution_count": null,
      "outputs": [
        {
          "output_type": "error",
          "ename": "SyntaxError",
          "evalue": "invalid syntax. Maybe you meant '==' or ':=' instead of '='? (<ipython-input-17-cc6b74b6935d>, line 2)",
          "traceback": [
            "\u001b[0;36m  File \u001b[0;32m\"<ipython-input-17-cc6b74b6935d>\"\u001b[0;36m, line \u001b[0;32m2\u001b[0m\n\u001b[0;31m    if age = 18:  # This causes an error\u001b[0m\n\u001b[0m       ^\u001b[0m\n\u001b[0;31mSyntaxError\u001b[0m\u001b[0;31m:\u001b[0m invalid syntax. Maybe you meant '==' or ':=' instead of '='?\n"
          ]
        }
      ]
    },
    {
      "cell_type": "code",
      "source": [
        "# CORRECT - compares if age equals 18\n",
        "if age == 18:\n",
        "    print(\"You're 18\")"
      ],
      "metadata": {
        "id": "O4NXzcB6WMnb"
      },
      "execution_count": null,
      "outputs": []
    },
    {
      "cell_type": "markdown",
      "source": [
        "**Comparing floating-point numbers directly**: Due to how computers store decimals, use a small tolerance"
      ],
      "metadata": {
        "id": "iYST_H02WSXA"
      }
    },
    {
      "cell_type": "code",
      "source": [
        "# Better way to compare floats\n",
        "price = 10.0000001 # There are often small rounding errors in floats\n",
        "if abs(price - 10.0) < 0.0001:\n",
        "    print(\"The price is $10\")"
      ],
      "metadata": {
        "colab": {
          "base_uri": "https://localhost:8080/"
        },
        "id": "PMY7yrj9Wmlo",
        "outputId": "79f30213-f284-44dc-a788-dd244bad1d2f"
      },
      "execution_count": null,
      "outputs": [
        {
          "output_type": "stream",
          "name": "stdout",
          "text": [
            "The price is $10\n"
          ]
        }
      ]
    },
    {
      "cell_type": "markdown",
      "source": [
        "Mastering comparison operators is essential for creating conditions that control the flow of your programs!"
      ],
      "metadata": {
        "id": "EhbmYujyXITy"
      }
    },
    {
      "cell_type": "markdown",
      "source": [
        "# Logical Operators: Combining Conditions\n",
        "\n",
        "Often, you'll need to check multiple conditions at once. Python's **logical operators** allow you to combine conditions to create more complex expressions.\n",
        "\n",
        "## The Three Logical Operators\n",
        "\n",
        "Python provides three logical operators:\n",
        "\n",
        "| Operator | Description | Example | Result |\n",
        "|----------|-------------|---------|--------|\n",
        "| `and` | True if both conditions are True | `(5 > 3) and (10 < 20)` | `True` |\n",
        "| `or` | True if at least one condition is True | `(5 < 3) or (10 < 20)` | `True` |\n",
        "| `not` | Inverts the condition (True becomes False) | `not (5 < 3)` | `True` |\n",
        "\n",
        "## Using the `and` Operator\n",
        "\n",
        "The `and` operator returns `True` only when both conditions are `True`:"
      ],
      "metadata": {
        "id": "kyzL-HmkXSPU"
      }
    },
    {
      "cell_type": "code",
      "source": [
        "has_cheese = True\n",
        "has_sauce = True\n",
        "\n",
        "if has_cheese and has_sauce:\n",
        "    print(\"Your pizza has the basic ingredients!\")\n",
        "else:\n",
        "    print(\"Your pizza is missing some basic ingredients.\")"
      ],
      "metadata": {
        "colab": {
          "base_uri": "https://localhost:8080/"
        },
        "id": "NGyuvaItXSxe",
        "outputId": "908fd5f7-d580-427a-99ea-1e3cfd1dcabf"
      },
      "execution_count": null,
      "outputs": [
        {
          "output_type": "stream",
          "name": "stdout",
          "text": [
            "Your pizza has the basic ingredients!\n"
          ]
        }
      ]
    },
    {
      "cell_type": "markdown",
      "source": [
        "## Using the `or` Operator\n",
        "\n",
        "The `or` operator returns `True` if at least one condition is `True`:"
      ],
      "metadata": {
        "id": "fMXe_UDHXWnC"
      }
    },
    {
      "cell_type": "code",
      "source": [
        "is_weekend = False\n",
        "is_holiday = True\n",
        "\n",
        "if is_weekend or is_holiday:\n",
        "    print(\"Turtle Pizza Palace is open late today!\")\n",
        "else:\n",
        "    print(\"We close at 9pm today.\")"
      ],
      "metadata": {
        "colab": {
          "base_uri": "https://localhost:8080/"
        },
        "id": "IDrR0BNdXYeg",
        "outputId": "ed35c8ab-4baf-4cd0-e83f-d4cd6d36be46"
      },
      "execution_count": null,
      "outputs": [
        {
          "output_type": "stream",
          "name": "stdout",
          "text": [
            "Turtle Pizza Palace is open late today!\n"
          ]
        }
      ]
    },
    {
      "cell_type": "markdown",
      "source": [
        "## Using the `not` Operator\n",
        "\n",
        "The `not` operator inverts a Boolean value:"
      ],
      "metadata": {
        "id": "PEpjNizdXakK"
      }
    },
    {
      "cell_type": "code",
      "source": [
        "is_closed = False\n",
        "\n",
        "if not is_closed:\n",
        "    print(\"We're open! Come in and order.\")\n",
        "else:\n",
        "    print(\"Sorry, we're closed right now.\")"
      ],
      "metadata": {
        "colab": {
          "base_uri": "https://localhost:8080/"
        },
        "id": "u3AXem0MXcLf",
        "outputId": "97f6cdc2-2070-48e0-df35-e9b04a086afd"
      },
      "execution_count": null,
      "outputs": [
        {
          "output_type": "stream",
          "name": "stdout",
          "text": [
            "We're open! Come in and order.\n"
          ]
        }
      ]
    },
    {
      "cell_type": "markdown",
      "source": [
        "## Truth Tables\n",
        "\n",
        "Truth tables show all possible outcomes for logical operations:\n",
        "\n",
        "| A | B | A and B | A or B | not A |\n",
        "|---|---|---------|--------|-------|\n",
        "| `True` | `True` | `True` | `True` | `False` |\n",
        "| `True` | `False` | `False` | `True` | `False` |\n",
        "| `False` | `True` | `False` | `True` | `True` |\n",
        "| `False` | `False` | `False` | `False` | `True` |\n"
      ],
      "metadata": {
        "id": "eJdTZNdsXvPO"
      }
    },
    {
      "cell_type": "markdown",
      "source": [
        "## Combining Multiple Logical Operators\n",
        "\n",
        "You can combine multiple logical operators to create complex conditions. In general, hyou should use parentheses to ensure clarity:"
      ],
      "metadata": {
        "id": "oawufQueXfJS"
      }
    },
    {
      "cell_type": "code",
      "source": [
        "day = \"Saturday\"\n",
        "time = 22  # 10 PM in 24-hour format\n",
        "is_special_event = False\n",
        "\n",
        "# Check if the pizza place is open\n",
        "if (day == \"Friday\" or day == \"Saturday\") and (time < 23) or is_special_event:\n",
        "    print(\"Turtle Pizza Palace is open!\")\n",
        "else:\n",
        "    print(\"Sorry, we're closed.\")"
      ],
      "metadata": {
        "colab": {
          "base_uri": "https://localhost:8080/"
        },
        "id": "9DdugpMDXlSF",
        "outputId": "8a304ab0-fc07-4dd4-a5d8-81c3fb4ece4b"
      },
      "execution_count": null,
      "outputs": [
        {
          "output_type": "stream",
          "name": "stdout",
          "text": [
            "Turtle Pizza Palace is open!\n"
          ]
        }
      ]
    },
    {
      "cell_type": "markdown",
      "source": [
        "Logical operators are powerful tools that allow you to create sophisticated conditions in your programs!"
      ],
      "metadata": {
        "id": "gqWAa7oZXpkY"
      }
    },
    {
      "cell_type": "markdown",
      "source": [
        "# Repeating Code: Introduction to Loops\n",
        "\n",
        "So far, our programs have executed code once through from top to bottom. However, many programming tasks require repeating the same actions multiple times. **Loops** allow you to execute code repeatedly without having to write it multiple times.\n",
        "\n",
        "## What Are Loops?\n",
        "\n",
        "**Loops** are control structures that repeat a block of code as long as a certain condition is met or for a specified number of iterations. They're like a chef making multiple pizzas using the same steps for each one.\n",
        "\n",
        "## Why Use Loops?\n",
        "\n",
        "Loops are essential because they allow your programs to:\n",
        "\n",
        "* **Reduce repetition**: Write code once and execute it multiple times\n",
        "* **Process collections of data**: Work with lists, strings, and other collections item by item\n",
        "* **Continue tasks until completion**: Repeat until a certain condition is met\n",
        "* **Create efficient solutions**: Solve problems that require iteration without writing redundant code\n",
        "\n",
        "## Types of Loops in Python\n",
        "\n",
        "Python provides two main types of loops:\n",
        "\n",
        "1. **`for` loops**: Used when you know in advance how many times you want to repeat code\n",
        "   * Best for iterating through sequences (like strings or lists)\n",
        "   * Useful for counting or processing items one by one\n",
        "\n",
        "2. **`while` loops**: Used when you want to repeat code until a condition changes\n",
        "   * Best for situations where you don't know how many iterations you need\n",
        "   * Continues until a specified condition becomes False\n",
        "\n",
        "## Loop Components\n",
        "\n",
        "All loops have common components:\n",
        "\n",
        "* **Initialization**: Setting up before the loop starts\n",
        "* **Condition**: Determining whether to continue the loop\n",
        "* **Body**: The code that gets executed in each iteration\n",
        "* **Update**: Changing something that will eventually end the loop\n",
        "\n",
        "## Real-World Loop Examples\n",
        "\n",
        "| Task | Loop Type | Example |\n",
        "|------|-----------|---------|\n",
        "| Making 5 pizzas | for loop | \"For each of the 5 orders, make a pizza\" |\n",
        "| Taking all orders | while loop | \"While there are customers in line, take orders\" |\n",
        "| Processing toppings | for loop | \"For each topping on the list, add it to the pizza\" |\n",
        "| Cooking until done | while loop | \"While the pizza is not fully cooked, keep it in the oven\" |"
      ],
      "metadata": {
        "id": "i8aXl3BiXzvt"
      }
    },
    {
      "cell_type": "code",
      "source": [
        "# @title\n",
        "%%html\n",
        "<svg viewBox=\"0 0 800 400\" xmlns=\"http://www.w3.org/2000/svg\">\n",
        "  <!-- For Loop -->\n",
        "  <rect x=\"100\" y=\"50\" width=\"250\" height=\"300\" rx=\"15\" fill=\"#f5f5f5\" stroke=\"#333\" stroke-width=\"2\"/>\n",
        "  <text x=\"225\" y=\"30\" font-family=\"Arial\" font-size=\"20\" font-weight=\"bold\" text-anchor=\"middle\">For Loop</text>\n",
        "\n",
        "  <!-- Start -->\n",
        "  <rect x=\"175\" y=\"80\" width=\"100\" height=\"40\" rx=\"20\" fill=\"#D5E8D4\" stroke=\"#333\" stroke-width=\"2\"/>\n",
        "  <text x=\"225\" y=\"105\" font-family=\"Arial\" font-size=\"14\" text-anchor=\"middle\">Start</text>\n",
        "\n",
        "  <!-- Initialize -->\n",
        "  <path d=\"M225,120 L225,150\" stroke=\"#333\" stroke-width=\"2\" fill=\"none\" marker-end=\"url(#arrowhead)\"/>\n",
        "  <rect x=\"150\" y=\"150\" width=\"150\" height=\"40\" rx=\"5\" fill=\"#FFE6CC\" stroke=\"#333\" stroke-width=\"2\"/>\n",
        "  <text x=\"225\" y=\"175\" font-family=\"Arial\" font-size=\"14\" text-anchor=\"middle\">for i in range(5):</text>\n",
        "\n",
        "  <!-- Loop Body -->\n",
        "  <path d=\"M225,190 L225,220\" stroke=\"#333\" stroke-width=\"2\" fill=\"none\" marker-end=\"url(#arrowhead)\"/>\n",
        "  <rect x=\"150\" y=\"220\" width=\"150\" height=\"40\" rx=\"5\" fill=\"#DAE8FC\" stroke=\"#333\" stroke-width=\"2\"/>\n",
        "  <text x=\"225\" y=\"245\" font-family=\"Arial\" font-size=\"14\" text-anchor=\"middle\">Loop Body</text>\n",
        "\n",
        "  <!-- Loop Check -->\n",
        "  <path d=\"M225,260 L225,290\" stroke=\"#333\" stroke-width=\"2\" fill=\"none\" marker-end=\"url(#arrowhead)\"/>\n",
        "  <path d=\"M225,290 L125,290\" stroke=\"#333\" stroke-width=\"2\" fill=\"none\"/>\n",
        "  <path d=\"M125,290 L125,175\" stroke=\"#333\" stroke-width=\"2\" fill=\"none\"/>\n",
        "  <path d=\"M125,175 L150,175\" stroke=\"#333\" stroke-width=\"2\" fill=\"none\" marker-end=\"url(#arrowhead)\"/>\n",
        "  <text x=\"150\" y=\"280\" font-family=\"Arial\" font-size=\"12\" text-anchor=\"middle\">Next i</text>\n",
        "\n",
        "  <!-- End -->\n",
        "  <path d=\"M225,290 L225,320\" stroke=\"#333\" stroke-width=\"2\" fill=\"none\" marker-end=\"url(#arrowhead)\"/>\n",
        "  <rect x=\"175\" y=\"320\" width=\"100\" height=\"40\" rx=\"20\" fill=\"#D5E8D4\" stroke=\"#333\" stroke-width=\"2\"/>\n",
        "  <text x=\"225\" y=\"345\" font-family=\"Arial\" font-size=\"14\" text-anchor=\"middle\">End</text>\n",
        "\n",
        "  <!-- While Loop -->\n",
        "  <rect x=\"450\" y=\"50\" width=\"250\" height=\"300\" rx=\"15\" fill=\"#f5f5f5\" stroke=\"#333\" stroke-width=\"2\"/>\n",
        "  <text x=\"575\" y=\"30\" font-family=\"Arial\" font-size=\"20\" font-weight=\"bold\" text-anchor=\"middle\">While Loop</text>\n",
        "\n",
        "  <!-- Start -->\n",
        "  <rect x=\"525\" y=\"80\" width=\"100\" height=\"40\" rx=\"20\" fill=\"#D5E8D4\" stroke=\"#333\" stroke-width=\"2\"/>\n",
        "  <text x=\"575\" y=\"105\" font-family=\"Arial\" font-size=\"14\" text-anchor=\"middle\">Start</text>\n",
        "\n",
        "  <!-- Initialize -->\n",
        "  <path d=\"M575,120 L575,150\" stroke=\"#333\" stroke-width=\"2\" fill=\"none\" marker-end=\"url(#arrowhead)\"/>\n",
        "  <rect x=\"500\" y=\"150\" width=\"150\" height=\"40\" rx=\"5\" fill=\"#FFE6CC\" stroke=\"#333\" stroke-width=\"2\"/>\n",
        "  <text x=\"575\" y=\"175\" font-family=\"Arial\" font-size=\"14\" text-anchor=\"middle\">count = 0</text>\n",
        "\n",
        "  <!-- Condition Check -->\n",
        "  <path d=\"M575,190 L575,220\" stroke=\"#333\" stroke-width=\"2\" fill=\"none\" marker-end=\"url(#arrowhead)\"/>\n",
        "  <polygon points=\"525,220 625,220 575,260\" fill=\"#FFF2CC\" stroke=\"#333\" stroke-width=\"2\"/>\n",
        "  <text x=\"575\" y=\"245\" font-family=\"Arial\" font-size=\"12\" text-anchor=\"middle\">count < 5?</text>\n",
        "\n",
        "  <!-- Loop Body -->\n",
        "  <path d=\"M575,260 L575,290\" stroke=\"#333\" stroke-width=\"2\" fill=\"none\" marker-end=\"url(#arrowhead)\"/>\n",
        "  <rect x=\"500\" y=\"290\" width=\"150\" height=\"40\" rx=\"5\" fill=\"#DAE8FC\" stroke=\"#333\" stroke-width=\"2\"/>\n",
        "  <text x=\"575\" y=\"315\" font-family=\"Arial\" font-size=\"14\" text-anchor=\"middle\">Loop Body</text>\n",
        "\n",
        "  <!-- Update -->\n",
        "  <path d=\"M500,310 L475,310\" stroke=\"#333\" stroke-width=\"2\" fill=\"none\"/>\n",
        "  <path d=\"M475,310 L475,240\" stroke=\"#333\" stroke-width=\"2\" fill=\"none\"/>\n",
        "  <rect x=\"425\" y=\"240\" width=\"100\" height=\"30\" rx=\"5\" fill=\"#FFE6CC\" stroke=\"#333\" stroke-width=\"2\"/>\n",
        "  <text x=\"475\" y=\"260\" font-family=\"Arial\" font-size=\"12\" text-anchor=\"middle\">count += 1</text>\n",
        "  <path d=\"M475,240 L475,175\" stroke=\"#333\" stroke-width=\"2\" fill=\"none\"/>\n",
        "  <path d=\"M475,175 L500,175\" stroke=\"#333\" stroke-width=\"2\" fill=\"none\" marker-end=\"url(#arrowhead)\"/>\n",
        "  <text x=\"500\" y=\"300\" font-family=\"Arial\" font-size=\"10\" text-anchor=\"end\">True</text>\n",
        "\n",
        "  <!-- End -->\n",
        "  <path d=\"M625,240 L650,240\" stroke=\"#333\" stroke-width=\"2\" fill=\"none\"/>\n",
        "  <path d=\"M650,240 L650,360\" stroke=\"#333\" stroke-width=\"2\" fill=\"none\"/>\n",
        "  <path d=\"M650,360 L575,360\" stroke=\"#333\" stroke-width=\"2\" fill=\"none\" marker-end=\"url(#arrowhead)\"/>\n",
        "  <rect x=\"525\" y=\"340\" width=\"100\" height=\"40\" rx=\"20\" fill=\"#D5E8D4\" stroke=\"#333\" stroke-width=\"2\"/>\n",
        "  <text x=\"575\" y=\"365\" font-family=\"Arial\" font-size=\"14\" text-anchor=\"middle\">End</text>\n",
        "  <text x=\"640\" y=\"235\" font-family=\"Arial\" font-size=\"10\" text-anchor=\"start\">False</text>\n",
        "\n",
        "  <!-- Annotations -->\n",
        "  <text x=\"225\" y=\"390\" font-family=\"Arial\" font-size=\"14\" text-anchor=\"middle\">Known number of iterations</text>\n",
        "  <text x=\"575\" y=\"390\" font-family=\"Arial\" font-size=\"14\" text-anchor=\"middle\">Continues until condition is False</text>\n",
        "\n",
        "  <!-- Arrowhead marker -->\n",
        "  <defs>\n",
        "    <marker id=\"arrowhead\" markerWidth=\"10\" markerHeight=\"7\" refX=\"9\" refY=\"3.5\" orient=\"auto\">\n",
        "      <polygon points=\"0 0, 10 3.5, 0 7\" fill=\"#333\"/>\n",
        "    </marker>\n",
        "  </defs>\n",
        "</svg>"
      ],
      "metadata": {
        "colab": {
          "base_uri": "https://localhost:8080/",
          "height": 728
        },
        "cellView": "form",
        "id": "VQ-ju1SJYffJ",
        "outputId": "23944918-12c0-4666-edf8-5cdec3117fbe"
      },
      "execution_count": null,
      "outputs": [
        {
          "output_type": "display_data",
          "data": {
            "text/plain": [
              "<IPython.core.display.HTML object>"
            ],
            "text/html": [
              "<svg viewBox=\"0 0 800 400\" xmlns=\"http://www.w3.org/2000/svg\">\n",
              "  <!-- For Loop -->\n",
              "  <rect x=\"100\" y=\"50\" width=\"250\" height=\"300\" rx=\"15\" fill=\"#f5f5f5\" stroke=\"#333\" stroke-width=\"2\"/>\n",
              "  <text x=\"225\" y=\"30\" font-family=\"Arial\" font-size=\"20\" font-weight=\"bold\" text-anchor=\"middle\">For Loop</text>\n",
              "  \n",
              "  <!-- Start -->\n",
              "  <rect x=\"175\" y=\"80\" width=\"100\" height=\"40\" rx=\"20\" fill=\"#D5E8D4\" stroke=\"#333\" stroke-width=\"2\"/>\n",
              "  <text x=\"225\" y=\"105\" font-family=\"Arial\" font-size=\"14\" text-anchor=\"middle\">Start</text>\n",
              "  \n",
              "  <!-- Initialize -->\n",
              "  <path d=\"M225,120 L225,150\" stroke=\"#333\" stroke-width=\"2\" fill=\"none\" marker-end=\"url(#arrowhead)\"/>\n",
              "  <rect x=\"150\" y=\"150\" width=\"150\" height=\"40\" rx=\"5\" fill=\"#FFE6CC\" stroke=\"#333\" stroke-width=\"2\"/>\n",
              "  <text x=\"225\" y=\"175\" font-family=\"Arial\" font-size=\"14\" text-anchor=\"middle\">for i in range(5):</text>\n",
              "  \n",
              "  <!-- Loop Body -->\n",
              "  <path d=\"M225,190 L225,220\" stroke=\"#333\" stroke-width=\"2\" fill=\"none\" marker-end=\"url(#arrowhead)\"/>\n",
              "  <rect x=\"150\" y=\"220\" width=\"150\" height=\"40\" rx=\"5\" fill=\"#DAE8FC\" stroke=\"#333\" stroke-width=\"2\"/>\n",
              "  <text x=\"225\" y=\"245\" font-family=\"Arial\" font-size=\"14\" text-anchor=\"middle\">Loop Body</text>\n",
              "  \n",
              "  <!-- Loop Check -->\n",
              "  <path d=\"M225,260 L225,290\" stroke=\"#333\" stroke-width=\"2\" fill=\"none\" marker-end=\"url(#arrowhead)\"/>\n",
              "  <path d=\"M225,290 L125,290\" stroke=\"#333\" stroke-width=\"2\" fill=\"none\"/>\n",
              "  <path d=\"M125,290 L125,175\" stroke=\"#333\" stroke-width=\"2\" fill=\"none\"/>\n",
              "  <path d=\"M125,175 L150,175\" stroke=\"#333\" stroke-width=\"2\" fill=\"none\" marker-end=\"url(#arrowhead)\"/>\n",
              "  <text x=\"150\" y=\"280\" font-family=\"Arial\" font-size=\"12\" text-anchor=\"middle\">Next i</text>\n",
              "  \n",
              "  <!-- End -->\n",
              "  <path d=\"M225,290 L225,320\" stroke=\"#333\" stroke-width=\"2\" fill=\"none\" marker-end=\"url(#arrowhead)\"/>\n",
              "  <rect x=\"175\" y=\"320\" width=\"100\" height=\"40\" rx=\"20\" fill=\"#D5E8D4\" stroke=\"#333\" stroke-width=\"2\"/>\n",
              "  <text x=\"225\" y=\"345\" font-family=\"Arial\" font-size=\"14\" text-anchor=\"middle\">End</text>\n",
              "  \n",
              "  <!-- While Loop -->\n",
              "  <rect x=\"450\" y=\"50\" width=\"250\" height=\"300\" rx=\"15\" fill=\"#f5f5f5\" stroke=\"#333\" stroke-width=\"2\"/>\n",
              "  <text x=\"575\" y=\"30\" font-family=\"Arial\" font-size=\"20\" font-weight=\"bold\" text-anchor=\"middle\">While Loop</text>\n",
              "  \n",
              "  <!-- Start -->\n",
              "  <rect x=\"525\" y=\"80\" width=\"100\" height=\"40\" rx=\"20\" fill=\"#D5E8D4\" stroke=\"#333\" stroke-width=\"2\"/>\n",
              "  <text x=\"575\" y=\"105\" font-family=\"Arial\" font-size=\"14\" text-anchor=\"middle\">Start</text>\n",
              "  \n",
              "  <!-- Initialize -->\n",
              "  <path d=\"M575,120 L575,150\" stroke=\"#333\" stroke-width=\"2\" fill=\"none\" marker-end=\"url(#arrowhead)\"/>\n",
              "  <rect x=\"500\" y=\"150\" width=\"150\" height=\"40\" rx=\"5\" fill=\"#FFE6CC\" stroke=\"#333\" stroke-width=\"2\"/>\n",
              "  <text x=\"575\" y=\"175\" font-family=\"Arial\" font-size=\"14\" text-anchor=\"middle\">count = 0</text>\n",
              "  \n",
              "  <!-- Condition Check -->\n",
              "  <path d=\"M575,190 L575,220\" stroke=\"#333\" stroke-width=\"2\" fill=\"none\" marker-end=\"url(#arrowhead)\"/>\n",
              "  <polygon points=\"525,220 625,220 575,260\" fill=\"#FFF2CC\" stroke=\"#333\" stroke-width=\"2\"/>\n",
              "  <text x=\"575\" y=\"245\" font-family=\"Arial\" font-size=\"12\" text-anchor=\"middle\">count < 5?</text>\n",
              "  \n",
              "  <!-- Loop Body -->\n",
              "  <path d=\"M575,260 L575,290\" stroke=\"#333\" stroke-width=\"2\" fill=\"none\" marker-end=\"url(#arrowhead)\"/>\n",
              "  <rect x=\"500\" y=\"290\" width=\"150\" height=\"40\" rx=\"5\" fill=\"#DAE8FC\" stroke=\"#333\" stroke-width=\"2\"/>\n",
              "  <text x=\"575\" y=\"315\" font-family=\"Arial\" font-size=\"14\" text-anchor=\"middle\">Loop Body</text>\n",
              "  \n",
              "  <!-- Update -->\n",
              "  <path d=\"M500,310 L475,310\" stroke=\"#333\" stroke-width=\"2\" fill=\"none\"/>\n",
              "  <path d=\"M475,310 L475,240\" stroke=\"#333\" stroke-width=\"2\" fill=\"none\"/>\n",
              "  <rect x=\"425\" y=\"240\" width=\"100\" height=\"30\" rx=\"5\" fill=\"#FFE6CC\" stroke=\"#333\" stroke-width=\"2\"/>\n",
              "  <text x=\"475\" y=\"260\" font-family=\"Arial\" font-size=\"12\" text-anchor=\"middle\">count += 1</text>\n",
              "  <path d=\"M475,240 L475,175\" stroke=\"#333\" stroke-width=\"2\" fill=\"none\"/>\n",
              "  <path d=\"M475,175 L500,175\" stroke=\"#333\" stroke-width=\"2\" fill=\"none\" marker-end=\"url(#arrowhead)\"/>\n",
              "  <text x=\"500\" y=\"300\" font-family=\"Arial\" font-size=\"10\" text-anchor=\"end\">True</text>\n",
              "  \n",
              "  <!-- End -->\n",
              "  <path d=\"M625,240 L650,240\" stroke=\"#333\" stroke-width=\"2\" fill=\"none\"/>\n",
              "  <path d=\"M650,240 L650,360\" stroke=\"#333\" stroke-width=\"2\" fill=\"none\"/>\n",
              "  <path d=\"M650,360 L575,360\" stroke=\"#333\" stroke-width=\"2\" fill=\"none\" marker-end=\"url(#arrowhead)\"/>\n",
              "  <rect x=\"525\" y=\"340\" width=\"100\" height=\"40\" rx=\"20\" fill=\"#D5E8D4\" stroke=\"#333\" stroke-width=\"2\"/>\n",
              "  <text x=\"575\" y=\"365\" font-family=\"Arial\" font-size=\"14\" text-anchor=\"middle\">End</text>\n",
              "  <text x=\"640\" y=\"235\" font-family=\"Arial\" font-size=\"10\" text-anchor=\"start\">False</text>\n",
              "  \n",
              "  <!-- Annotations -->\n",
              "  <text x=\"225\" y=\"390\" font-family=\"Arial\" font-size=\"14\" text-anchor=\"middle\">Known number of iterations</text>\n",
              "  <text x=\"575\" y=\"390\" font-family=\"Arial\" font-size=\"14\" text-anchor=\"middle\">Continues until condition is False</text>\n",
              "  \n",
              "  <!-- Arrowhead marker -->\n",
              "  <defs>\n",
              "    <marker id=\"arrowhead\" markerWidth=\"10\" markerHeight=\"7\" refX=\"9\" refY=\"3.5\" orient=\"auto\">\n",
              "      <polygon points=\"0 0, 10 3.5, 0 7\" fill=\"#333\"/>\n",
              "    </marker>\n",
              "  </defs>\n",
              "</svg>\n"
            ]
          },
          "metadata": {}
        }
      ]
    },
    {
      "cell_type": "markdown",
      "source": [
        "# For Loops: Iterating a Fixed Number of Times\n",
        "\n",
        "The **for loop** is a powerful tool for repeating code a specific number of times. It's like a chef making a set number of pizzas using the same recipe each time.\n",
        "\n",
        "## Basic For Loop Syntax\n",
        "\n",
        "The basic syntax of a for loop in Python is:\n",
        "\n",
        "```python\n",
        "for variable in sequence:\n",
        "    # Code to repeat\n",
        "    statement1\n",
        "    statement2\n",
        "    # More statements...\n",
        "```\n",
        "\n",
        "## Using range() with For Loops\n",
        "\n",
        "The most common way to use for loops is with the **range()** function, which generates a sequence of numbers:"
      ],
      "metadata": {
        "id": "mUiljbEWCZpI"
      }
    },
    {
      "cell_type": "code",
      "source": [
        "# Print numbers from 0 to 4\n",
        "for i in range(5):\n",
        "    print(i)"
      ],
      "metadata": {
        "colab": {
          "base_uri": "https://localhost:8080/"
        },
        "id": "BHlSgHurCdEX",
        "outputId": "a1bf0b86-238d-4d24-a0d5-7e713c276a25"
      },
      "execution_count": null,
      "outputs": [
        {
          "output_type": "stream",
          "name": "stdout",
          "text": [
            "0\n",
            "1\n",
            "2\n",
            "3\n",
            "4\n"
          ]
        }
      ]
    },
    {
      "cell_type": "markdown",
      "source": [
        "## How range() Works\n",
        "\n",
        "The `range()` function can be used in three different ways:"
      ],
      "metadata": {
        "id": "z00dMqf6ChNX"
      }
    },
    {
      "cell_type": "code",
      "source": [
        "# range(stop) - counts from 0 to stop-1\n",
        "for i in range(3):\n",
        "    print(\"Count:\", i)  # Outputs: 0, 1, 2"
      ],
      "metadata": {
        "colab": {
          "base_uri": "https://localhost:8080/"
        },
        "id": "hAuQyU2ICkYP",
        "outputId": "cbe3e330-5dfb-422f-ad3e-fe874aa4d051"
      },
      "execution_count": null,
      "outputs": [
        {
          "output_type": "stream",
          "name": "stdout",
          "text": [
            "Count: 0\n",
            "Count: 1\n",
            "Count: 2\n"
          ]
        }
      ]
    },
    {
      "cell_type": "code",
      "source": [
        "# range(start, stop) - counts from start to stop-1\n",
        "for i in range(1, 4):\n",
        "    print(\"Count:\", i)  # Outputs: 1, 2, 3"
      ],
      "metadata": {
        "colab": {
          "base_uri": "https://localhost:8080/"
        },
        "id": "EkfPZc5bClck",
        "outputId": "49bf1c0e-f962-4e18-8699-52c7f66433df"
      },
      "execution_count": null,
      "outputs": [
        {
          "output_type": "stream",
          "name": "stdout",
          "text": [
            "Count: 1\n",
            "Count: 2\n",
            "Count: 3\n"
          ]
        }
      ]
    },
    {
      "cell_type": "code",
      "source": [
        "# range(start, stop, step) - counts from start to stop-1, counting by step\n",
        "for i in range(0, 10, 2):\n",
        "    print(\"Count:\", i)  # Outputs: 0, 2, 4, 6, 8"
      ],
      "metadata": {
        "colab": {
          "base_uri": "https://localhost:8080/"
        },
        "id": "iXEf_CnhCn10",
        "outputId": "289bdc59-c978-40db-a70c-f071ceff763e"
      },
      "execution_count": null,
      "outputs": [
        {
          "output_type": "stream",
          "name": "stdout",
          "text": [
            "Count: 0\n",
            "Count: 2\n",
            "Count: 4\n",
            "Count: 6\n",
            "Count: 8\n"
          ]
        }
      ]
    },
    {
      "cell_type": "markdown",
      "source": [
        "## Counter Loops\n",
        "\n",
        "The most common use of for loops is to repeat something a specific number of times:"
      ],
      "metadata": {
        "id": "9X54Q6dfCrwV"
      }
    },
    {
      "cell_type": "code",
      "source": [
        "# Print a message 5 times\n",
        "for i in range(5):\n",
        "    print(\"Making a pizza!\")"
      ],
      "metadata": {
        "colab": {
          "base_uri": "https://localhost:8080/"
        },
        "id": "ZQGbu9gmCuJw",
        "outputId": "b28e324c-65de-46db-9b06-182f1f11753f"
      },
      "execution_count": null,
      "outputs": [
        {
          "output_type": "stream",
          "name": "stdout",
          "text": [
            "Making a pizza!\n",
            "Making a pizza!\n",
            "Making a pizza!\n",
            "Making a pizza!\n",
            "Making a pizza!\n"
          ]
        }
      ]
    },
    {
      "cell_type": "code",
      "source": [
        "# Count from 1 to 5 (note we start at 1 instead of 0)\n",
        "for num in range(1, 6):\n",
        "    print(\"Pizza #\", num, \"is ready!\")"
      ],
      "metadata": {
        "colab": {
          "base_uri": "https://localhost:8080/"
        },
        "id": "lbYL-B68CxmV",
        "outputId": "ea7b28cc-3acf-4947-cd44-cd4dd43e1bbf"
      },
      "execution_count": null,
      "outputs": [
        {
          "output_type": "stream",
          "name": "stdout",
          "text": [
            "Pizza # 1 is ready!\n",
            "Pizza # 2 is ready!\n",
            "Pizza # 3 is ready!\n",
            "Pizza # 4 is ready!\n",
            "Pizza # 5 is ready!\n"
          ]
        }
      ]
    },
    {
      "cell_type": "markdown",
      "source": [
        "## For Loops with Characters in Strings\n",
        "\n",
        "You can use a for loop to process each character in a string:"
      ],
      "metadata": {
        "id": "NudWL5wyCy2k"
      }
    },
    {
      "cell_type": "code",
      "source": [
        "pizza_name = \"Pepperoni\"\n",
        "\n",
        "# Process each character in the string\n",
        "print(\"Spelling check:\")\n",
        "for letter in pizza_name:\n",
        "    print(letter.upper())"
      ],
      "metadata": {
        "colab": {
          "base_uri": "https://localhost:8080/"
        },
        "id": "dX_J6_jyC0wC",
        "outputId": "cc51dae4-f13a-4e54-9f79-042cca15d6d6"
      },
      "execution_count": null,
      "outputs": [
        {
          "output_type": "stream",
          "name": "stdout",
          "text": [
            "Spelling check:\n",
            "P\n",
            "E\n",
            "P\n",
            "P\n",
            "E\n",
            "R\n",
            "O\n",
            "N\n",
            "I\n"
          ]
        }
      ]
    },
    {
      "cell_type": "markdown",
      "source": [
        "For loops are a powerful way to make your programs repeat actions, count through ranges of numbers, and process items one at a time!"
      ],
      "metadata": {
        "id": "kChOV8-9C8pm"
      }
    },
    {
      "cell_type": "markdown",
      "source": [
        "# While Loops: Repeating Until a Condition Changes\n",
        "\n",
        "While for loops are great when you know exactly how many times you need to repeat code, **while loops** are perfect for situations where you need to continue until a certain condition is met. They're like cooking a pizza until it's done, regardless of how long it takes.\n",
        "\n",
        "## Basic While Loop Syntax\n",
        "\n",
        "The basic syntax of a while loop in Python is:\n",
        "\n",
        "```python\n",
        "while condition:\n",
        "    # Code to repeat\n",
        "    statement1\n",
        "    statement2\n",
        "    # More statements...\n",
        "```\n",
        "\n",
        "Key points about while loops:\n",
        "* The `condition` is checked before each iteration\n",
        "* If the condition is True, the code block executes\n",
        "* After the code block executes, the condition is checked again\n",
        "* This repeats until the condition becomes False\n",
        "* If the condition never becomes False, the loop will continue indefinitely (an infinite loop)\n",
        "\n",
        "## Simple While Loop Example"
      ],
      "metadata": {
        "id": "4Awvx8_vDJIs"
      }
    },
    {
      "cell_type": "code",
      "source": [
        "# Count from 1 to 5\n",
        "count = 1\n",
        "while count <= 5:\n",
        "    print(count)\n",
        "    count += 1  # Same as: count = count + 1"
      ],
      "metadata": {
        "colab": {
          "base_uri": "https://localhost:8080/"
        },
        "id": "Mc7VcVhkDLWb",
        "outputId": "7df7c2eb-b5b7-44ca-86bd-c82e45a7abbe"
      },
      "execution_count": null,
      "outputs": [
        {
          "output_type": "stream",
          "name": "stdout",
          "text": [
            "1\n",
            "2\n",
            "3\n",
            "4\n",
            "5\n"
          ]
        }
      ]
    },
    {
      "cell_type": "markdown",
      "source": [
        "## Components of an Effective While Loop\n",
        "\n",
        "A well-designed while loop typically has these components:\n",
        "\n",
        "1. **Initialization**: Set up variables before the loop starts\n",
        "2. **Condition**: Test whether to continue the loop\n",
        "3. **Body**: Code that runs during each iteration\n",
        "4. **Update**: Change something that will eventually make the condition False\n",
        "\n",
        "##  Examples"
      ],
      "metadata": {
        "id": "R69MlgwdDP_o"
      }
    },
    {
      "cell_type": "code",
      "source": [
        "  remaining_orders = 5\n",
        "\n",
        "  print(f\"Starting with {remaining_orders} orders to process.\")\n",
        "  while remaining_orders > 0:\n",
        "      print(f\"Preparing pizza... {remaining_orders} orders remaining.\")\n",
        "      remaining_orders -= 1  # Same as: remaining_orders = remaining_orders - 1"
      ],
      "metadata": {
        "colab": {
          "base_uri": "https://localhost:8080/"
        },
        "id": "wWMdHJIeDSZz",
        "outputId": "7840053f-6016-47c7-bf30-2fe96c15fd1a"
      },
      "execution_count": null,
      "outputs": [
        {
          "output_type": "stream",
          "name": "stdout",
          "text": [
            "Starting with 5 orders to process.\n",
            "Preparing pizza... 5 orders remaining.\n",
            "Preparing pizza... 4 orders remaining.\n",
            "Preparing pizza... 3 orders remaining.\n",
            "Preparing pizza... 2 orders remaining.\n",
            "Preparing pizza... 1 orders remaining.\n"
          ]
        }
      ]
    },
    {
      "cell_type": "code",
      "source": [
        "  temperature = 350  # Oven temperature in degrees\n",
        "  cooking_time = 0   # Time in minutes\n",
        "\n",
        "  print(\"Pizza in the oven...\")\n",
        "  while cooking_time < 20:\n",
        "      print(f\"Checking pizza: {cooking_time} minutes\")\n",
        "      cooking_time = cooking_time + 5\n",
        "\n",
        "  print(\"Pizza is done!\")"
      ],
      "metadata": {
        "colab": {
          "base_uri": "https://localhost:8080/"
        },
        "id": "mb-hvqyOCuOc",
        "outputId": "302aef14-d826-4b92-a4ef-216d3dfd2fdd"
      },
      "execution_count": null,
      "outputs": [
        {
          "output_type": "stream",
          "name": "stdout",
          "text": [
            "Pizza in the oven...\n",
            "Checking pizza: 0 minutes\n",
            "Checking pizza: 5 minutes\n",
            "Checking pizza: 10 minutes\n",
            "Checking pizza: 15 minutes\n",
            "Pizza is done!\n"
          ]
        }
      ]
    },
    {
      "cell_type": "markdown",
      "source": [
        "# Loop Control: break and continue Statements\n",
        "\n",
        "Sometimes you need more control over how loops execute. Python provides special statements that let you alter the normal flow of loops: **break** and **continue**. These statements are like special instructions a chef might follow while making pizzas—skip this step, or stop the process entirely.\n",
        "\n",
        "## The break Statement\n",
        "\n",
        "The **break** statement immediately exits a loop, skipping any remaining iterations:"
      ],
      "metadata": {
        "id": "101sKCSnD57c"
      }
    },
    {
      "cell_type": "code",
      "source": [
        "# Exit a loop early when a condition is met\n",
        "for i in range(10):\n",
        "    print(\"Processing number:\", i)\n",
        "    if i == 5:\n",
        "        print(\"Found 5! Stopping the loop.\")\n",
        "        break\n",
        "\n",
        "# This will only print numbers 0 through 5, then stop"
      ],
      "metadata": {
        "colab": {
          "base_uri": "https://localhost:8080/"
        },
        "id": "xbO66hHvD8Rc",
        "outputId": "09ae15c6-1f03-46a6-98d1-0ddfd26ad758"
      },
      "execution_count": null,
      "outputs": [
        {
          "output_type": "stream",
          "name": "stdout",
          "text": [
            "Processing number: 0\n",
            "Processing number: 1\n",
            "Processing number: 2\n",
            "Processing number: 3\n",
            "Processing number: 4\n",
            "Processing number: 5\n",
            "Found 5! Stopping the loop.\n"
          ]
        }
      ]
    },
    {
      "cell_type": "markdown",
      "source": [
        "## The continue Statement\n",
        "\n",
        "The **continue** statement skips the current iteration and jumps to the next one:"
      ],
      "metadata": {
        "id": "uub0EkyzD-O9"
      }
    },
    {
      "cell_type": "code",
      "source": [
        "# Skip even numbers\n",
        "for i in range(10):\n",
        "    if i % 2 == 0:  # If i is even\n",
        "        continue    # Skip the rest of this iteration\n",
        "    print(\"Odd number:\", i)\n",
        "\n",
        "# This will only print odd numbers: 1, 3, 5, 7, 9"
      ],
      "metadata": {
        "colab": {
          "base_uri": "https://localhost:8080/"
        },
        "id": "9JYKeu4XECH8",
        "outputId": "7e137d94-1862-425a-8b61-45b67df16980"
      },
      "execution_count": null,
      "outputs": [
        {
          "output_type": "stream",
          "name": "stdout",
          "text": [
            "Odd number: 1\n",
            "Odd number: 3\n",
            "Odd number: 5\n",
            "Odd number: 7\n",
            "Odd number: 9\n"
          ]
        }
      ]
    },
    {
      "cell_type": "markdown",
      "source": [
        "## Example: Break and continue"
      ],
      "metadata": {
        "id": "yF6K3xBWED4A"
      }
    },
    {
      "cell_type": "code",
      "source": [
        "print(\"Pizza Order System\")\n",
        "\n",
        "max_pizzas = 5\n",
        "pizza_count = 0\n",
        "\n",
        "while True:\n",
        "    if pizza_count >= max_pizzas:\n",
        "        print(\"Maximum order limit reached!\")\n",
        "        break\n",
        "\n",
        "    pizza_type = input(\"What type of pizza would you like? (or 'done' to finish): \")\n",
        "\n",
        "    if pizza_type.lower() == \"done\":\n",
        "        break\n",
        "\n",
        "    if pizza_type.lower() == \"hawaiian\":\n",
        "        print(\"Sorry, Chef Raphael doesn't make Hawaiian pizza!\")\n",
        "        continue\n",
        "\n",
        "    pizza_count = pizza_count + 1\n",
        "    print(f\"Added {pizza_type} pizza to your order.\")\n",
        "\n",
        "print(f\"Order complete! You've ordered {pizza_count} pizzas.\")"
      ],
      "metadata": {
        "colab": {
          "base_uri": "https://localhost:8080/"
        },
        "id": "3NbCBCb7EKdv",
        "outputId": "93c8006e-65ca-4577-d3ac-fff321b0e378"
      },
      "execution_count": null,
      "outputs": [
        {
          "output_type": "stream",
          "name": "stdout",
          "text": [
            "Pizza Order System\n",
            "What type of pizza would you like? (or 'done' to finish): cheese\n",
            "Added cheese pizza to your order.\n",
            "What type of pizza would you like? (or 'done' to finish): sausage\n",
            "Added sausage pizza to your order.\n",
            "What type of pizza would you like? (or 'done' to finish): done\n",
            "Order complete! You've ordered 2 pizzas.\n"
          ]
        }
      ]
    },
    {
      "cell_type": "markdown",
      "source": [
        "Using break and continue gives you finer control over your loops, making your code more efficient and expressive!"
      ],
      "metadata": {
        "id": "klgKQT7xETa5"
      }
    },
    {
      "cell_type": "markdown",
      "source": [
        "## Putting It Altogether -- A Pizza Ordering Program\n",
        "\n",
        "Here's a program that incorporate the control flow structures we've learned in this chapter with the functions we learned in the last chapter."
      ],
      "metadata": {
        "id": "Yew18CBRJPWE"
      }
    },
    {
      "cell_type": "code",
      "source": [
        "# Simple Pizza Functions Example\n",
        "# This program shows how to use functions with input/output and control structures\n",
        "\n",
        "# Function to display the welcome message\n",
        "def display_welcome():\n",
        "    print(\"==================================\")\n",
        "    print(\"WELCOME TO TURTLE PIZZA PALACE!\")\n",
        "    print(\"Home of the Ninja Turtle Specials\")\n",
        "    print(\"==================================\")\n",
        "\n",
        "# Function to get a customer's name\n",
        "def get_customer_name():\n",
        "    name = input(\"What's your name? \")\n",
        "    print(f\"Hello, {name}! Let's get your order started.\")\n",
        "    return name\n",
        "\n",
        "# Function to display the pizza menu\n",
        "def display_menu():\n",
        "    print(\"\\n----- OUR SPECIALTY PIZZAS -----\")\n",
        "    print(\"1. Michelangelo's Party Pizza (cheese, pepperoni, sausage)\")\n",
        "    print(\"2. Donatello's Tech Special (mushroom, olive, bell pepper)\")\n",
        "    print(\"3. Leonardo's Balanced Blend (chicken, spinach, tomato)\")\n",
        "    print(\"4. Raphael's Spicy Supreme (pepperoni, jalapeño, onion)\")\n",
        "    print(\"--------------------------------\")\n",
        "\n",
        "# Function to get the pizza choice and return pizza name and price\n",
        "def get_pizza_choice():\n",
        "    choice = input(\"Enter the number of your choice (1-4): \")\n",
        "\n",
        "    if choice == \"1\":\n",
        "        return \"Michelangelo's Party Pizza\", 14.99\n",
        "    elif choice == \"2\":\n",
        "        return \"Donatello's Tech Special\", 13.99\n",
        "    elif choice == \"3\":\n",
        "        return \"Leonardo's Balanced Blend\", 15.99\n",
        "    elif choice == \"4\":\n",
        "        return \"Raphael's Spicy Supreme\", 14.99\n",
        "    else:\n",
        "        print(\"Invalid selection. Defaulting to cheese pizza.\")\n",
        "        return \"Cheese Pizza\", 10.99\n",
        "\n",
        "# Function to get the pizza size and adjust price\n",
        "def get_pizza_size(base_price):\n",
        "    print(\"\\nAvailable sizes:\")\n",
        "    print(\"S - Small\")\n",
        "    print(\"M - Medium (+$2.00)\")\n",
        "    print(\"L - Large (+$4.00)\")\n",
        "\n",
        "    size = input(\"What size would you like (S/M/L)? \").upper()\n",
        "\n",
        "    if size == \"M\":\n",
        "        return \"Medium\", base_price + 2.00\n",
        "    elif size == \"L\":\n",
        "        return \"Large\", base_price + 4.00\n",
        "    else:\n",
        "        return \"Small\", base_price\n",
        "\n",
        "# Function to calculate tax\n",
        "def calculate_tax(price):\n",
        "    return price * 0.08  # 8% tax\n",
        "\n",
        "# Function to display the order summary\n",
        "def display_order_summary(customer, pizza_name, size, price, tax):\n",
        "    total = price + tax\n",
        "\n",
        "    print(\"\\n===============================\")\n",
        "    print(\"       ORDER SUMMARY\")\n",
        "    print(\"===============================\")\n",
        "    print(f\"Customer: {customer}\")\n",
        "    print(f\"Order: {size} {pizza_name}\")\n",
        "    print(f\"Price: ${price:.2f}\")\n",
        "    print(f\"Tax: ${tax:.2f}\")\n",
        "    print(f\"Total: ${total:.2f}\")\n",
        "    print(\"===============================\")\n",
        "    print(\"Thank you for your order!\")\n",
        "    print(\"Cowabunga, dude!\")\n",
        "\n",
        "# Main program\n",
        "def main():\n",
        "    # Welcome customer\n",
        "    display_welcome()\n",
        "\n",
        "    # Get customer info\n",
        "    customer_name = get_customer_name()\n",
        "\n",
        "    # Show menu and get pizza choice\n",
        "    display_menu()\n",
        "    pizza_name, price = get_pizza_choice()\n",
        "\n",
        "    # Get size\n",
        "    size_name, adjusted_price = get_pizza_size(price)\n",
        "\n",
        "    # Calculate tax\n",
        "    tax = calculate_tax(adjusted_price)\n",
        "\n",
        "    # Display order summary\n",
        "    display_order_summary(customer_name, pizza_name, size_name, adjusted_price, tax)\n",
        "\n",
        "# Run the program\n",
        "main()"
      ],
      "metadata": {
        "colab": {
          "base_uri": "https://localhost:8080/"
        },
        "id": "_9bMK9o3Jcz4",
        "outputId": "31c28377-aa00-4c5e-e107-2d0a80a94ba5"
      },
      "execution_count": null,
      "outputs": [
        {
          "output_type": "stream",
          "name": "stdout",
          "text": [
            "==================================\n",
            "WELCOME TO TURTLE PIZZA PALACE!\n",
            "Home of the Ninja Turtle Specials\n",
            "==================================\n",
            "What's your name? Brendan\n",
            "Hello, Brendan! Let's get your order started.\n",
            "\n",
            "----- OUR SPECIALTY PIZZAS -----\n",
            "1. Michelangelo's Party Pizza (cheese, pepperoni, sausage)\n",
            "2. Donatello's Tech Special (mushroom, olive, bell pepper)\n",
            "3. Leonardo's Balanced Blend (chicken, spinach, tomato)\n",
            "4. Raphael's Spicy Supreme (pepperoni, jalapeño, onion)\n",
            "--------------------------------\n",
            "Enter the number of your choice (1-4): 3\n",
            "\n",
            "Available sizes:\n",
            "S - Small\n",
            "M - Medium (+$2.00)\n",
            "L - Large (+$4.00)\n",
            "What size would you like (S/M/L)? D\n",
            "\n",
            "===============================\n",
            "       ORDER SUMMARY\n",
            "===============================\n",
            "Customer: Brendan\n",
            "Order: Small Leonardo's Balanced Blend\n",
            "Price: $15.99\n",
            "Tax: $1.28\n",
            "Total: $17.27\n",
            "===============================\n",
            "Thank you for your order!\n",
            "Cowabunga, dude!\n"
          ]
        }
      ]
    },
    {
      "cell_type": "markdown",
      "source": [
        "# Chapter 3 Review: From Input to Control Flow\n",
        "\n",
        "In this chapter, we've covered the essential components that transform simple Python scripts into interactive, decision-making programs. Let's review what we've learned and how these concepts work together.\n",
        "\n",
        "## Input and Output Fundamentals\n",
        "\n",
        "* **print() function**: Displays information to users\n",
        "  ```python\n",
        "  print(\"Welcome to Turtle Pizza Palace!\")\n",
        "  print(\"Your total is $\", 15.99)\n",
        "  ```\n",
        "\n",
        "* **f-strings**: Format text and variables together\n",
        "  ```python\n",
        "  name = \"Donatello\"\n",
        "  print(f\"Thank you for your order, {name}!\")\n",
        "  ```\n",
        "\n",
        "* **input() function**: Gets information from users\n",
        "  ```python\n",
        "  topping = input(\"What topping would you like? \")\n",
        "  ```\n",
        "\n",
        "* **Type conversion**: Converts strings to numbers\n",
        "  ```python\n",
        "  quantity = int(input(\"How many pizzas? \"))\n",
        "  price = float(input(\"Enter price: $\"))\n",
        "  ```\n",
        "\n",
        "## Making Decisions with Conditionals\n",
        "\n",
        "* **if statements**: Execute code only when a condition is True\n",
        "  ```python\n",
        "  if age < 18:\n",
        "      print(\"You qualify for the junior discount!\")\n",
        "  ```\n",
        "\n",
        "* **if-elif-else**: Handle multiple conditions\n",
        "  ```python\n",
        "  if size == \"S\":\n",
        "      price = 8.99\n",
        "  elif size == \"M\":\n",
        "      price = 12.99\n",
        "  else:\n",
        "      price = 16.99\n",
        "  ```\n",
        "\n",
        "* **Comparison operators**: Test conditions\n",
        "  ```python\n",
        "  ==  # Equal to\n",
        "  !=  # Not equal to\n",
        "  <   # Less than\n",
        "  >   # Greater than\n",
        "  <=  # Less than or equal to\n",
        "  >=  # Greater than or equal to\n",
        "  ```\n",
        "\n",
        "* **Logical operators**: Combine conditions\n",
        "  ```python\n",
        "  and  # Both conditions must be True\n",
        "  or   # At least one condition must be True\n",
        "  not  # Inverts a condition\n",
        "  ```\n",
        "\n",
        "## Repeating Code with Loops\n",
        "\n",
        "* **for loops**: Repeat code a fixed number of times\n",
        "  ```python\n",
        "  for i in range(5):\n",
        "      print(f\"Pizza #{i+1} is ready!\")\n",
        "  ```\n",
        "\n",
        "* **while loops**: Repeat until a condition changes\n",
        "  ```python\n",
        "  remaining = 3\n",
        "  while remaining > 0:\n",
        "      print(f\"{remaining} pizzas left to make.\")\n",
        "      remaining = remaining - 1\n",
        "  ```\n",
        "\n",
        "* **Loop control**: Alter loop execution\n",
        "  ```python\n",
        "  break     # Exit the loop immediately\n",
        "  continue  # Skip to the next iteration\n",
        "  ```\n",
        "\n",
        "By mastering these concepts, you can now create interactive programs that respond to user input, make decisions, and perform repeated actions—the building blocks of practical, real-world software!\n",
        "\n",
        "## Key Terms to Remember\n",
        "\n",
        "* **Input**: Information received from users\n",
        "* **Output**: Information displayed to users\n",
        "* **Conditional statements**: Code that chooses between options\n",
        "* **Boolean expressions**: Conditions that evaluate to True or False\n",
        "* **Loops**: Code that repeats\n",
        "* **Iteration**: Each repetition of a loop\n",
        "\n",
        "## Next Steps\n",
        "\n",
        "As you continue your programming journey, practice combining these concepts to create increasingly complex programs. Start with simple projects and gradually add more features as you become comfortable with the basics. Remember that programming is a skill that improves with practice!"
      ],
      "metadata": {
        "id": "pikkDi77IDYP"
      }
    },
    {
      "cell_type": "markdown",
      "source": [
        "### Python Code Quiz\n",
        "Now, it's your turn! Here, you'll find a variety of problems that will help you practice your skills with conditionals and loops.\n",
        "\n",
        "\n",
        "For example:\n",
        "\n",
        "```python\n",
        "# Write a function that takes a number and returns the string 'Negative' if it's less than zero, or 'Non-negative' otherwise. Use comparison operators (< or >) to check the value.\n",
        "def number_sign(number):\n",
        "    pass\n",
        "\n",
        "```\n",
        "\n",
        "Your answer might be:\n",
        "\n",
        "```python\n",
        "def number_sign(number):\n",
        "    if number < 0:\n",
        "      return \"Negative\"\n",
        "    else:\n",
        "      return \"Non-negative\"\n",
        "```\n",
        "\n"
      ],
      "metadata": {
        "id": "afg9X6xGmiGo"
      }
    },
    {
      "cell_type": "code",
      "source": [
        "# @title\n",
        "!wget https://github.com/brendanpshea/computing_concepts_python/raw/main/python_code_quiz/pyquiz.py -q -nc\n",
        "from pyquiz import PracticeTool\n",
        "practice_tool = PracticeTool(json_url='https://github.com/brendanpshea/computing_concepts_python/raw/main/python_code_quiz/python_03_control.json')"
      ],
      "metadata": {
        "id": "jFs75nShmsbF",
        "outputId": "1751c3fc-617d-4bd3-c1ab-892bb4ed72ef",
        "colab": {
          "base_uri": "https://localhost:8080/",
          "height": 512,
          "referenced_widgets": [
            "71467853abf04235b7435ff018bb6e06",
            "ac37a35d2c9f449da7c2e070f4d5f83f",
            "eec9df56caf54f6db678fbc25472a436",
            "1327ccf5e5084235bf6e567284b3ab94",
            "d642b146b67f43a0acad49939cbb92bb",
            "ff7cc96f0b474bb9bbe8cfa4bee6519b",
            "f9a7d1e12e774c36834f2b985f8dc2e2",
            "587416da150c418fba5971a15eb6cb28",
            "20f7ad98de5147e59ee1a4c0c505ff4c",
            "1ef41670933c48d8a5b22f079f11cdfb",
            "468f9a13b71a4153b4169d1502f002f7",
            "db13b2198cb54b93901133c73241552f",
            "dd49d245b99f46958dcf99d5885be80f",
            "339b5ba972a5490598dfdac5809fdc38",
            "de3570efa0e64e92992c56ce25976b84",
            "2155c972637743ac8b1c8822640149fe",
            "db18d9ebc1e74617a00cb3dcc66b01db",
            "7369648a09824a7ea8ea21ec0ff2dad6",
            "df42fad60e8044948f32d3f7a2f2f12b",
            "b62e8da60ebb48f7bc48087dd4ef6cc6",
            "645a40e44168441098fd643cf500cf65",
            "f6681e9827324e419e055ab6b8e88a38",
            "359adf0edeab489498e5f6ab8dbd4d10",
            "5e0918858f7a42d9a0ebfd5ab5075060",
            "acc4fbd30a95486394d7d0d3462582b5",
            "6f656ad437f64ff68c5c30bf4dd6402a",
            "3e874bea86184269952f370a158aaed8",
            "3fa5ed4978d647999cee11dcfde363eb",
            "b366166a634e4722bce3d7a2c0e2ed91",
            "397d88466f7b42a9952d6d8102565395",
            "726229fc6a614fef9ba332c414d7dcd6",
            "7e662fb3552b470b8d6bd2056cfc2fde",
            "52ec93237f5746edb4891417a0a5fe9f",
            "f4b440d6827e419aa8a9cbb386acedc2",
            "e22889b241374f498ffb0db35ebd15b9",
            "3594844cf8d84639a9ba155d5a054ece",
            "42c8ff1dfe1c44b5b0e2b8ba2a0c5704",
            "e81792c1411a45f38e15c17a245b3b9f",
            "227131313d26436bb0d22b1fb1439d5b",
            "fa21dac7259a4187b59a7b27b4ce9978",
            "ed8e1325ddd14ddea496504ca3cf77d9",
            "1b6802945b574c6697bd8ca61357d176",
            "661ff7aa21304f79858e8a050cb1aaec",
            "452cb43e3f394147a4aeae7ac3cf6480",
            "0005dde6be3e4bb6ab48c773caab6eae",
            "a1bb0ee129d74d92aaa3d051379f1555",
            "0f3211182194470f982aa1ebd0de417d",
            "f25025c93a804e79b2d2235db561ff86",
            "ac14ab833a8c41b2822151106d655d87",
            "d90da9b405964ec48adf2e4632760ffb",
            "071388122b244e5891744763b4322662",
            "8bbea29565334993a1d47f23020048ac",
            "766152d4ebc6442dab326fb49bd6f631",
            "65d76701d69e44b7b6b4525ae9ab5cb6",
            "91f2cdfb88d14f869b19dee681c128d0",
            "34c0473e3cc34f39b3069225c9647af3",
            "129eb6217e854a35a8cc38a55312640c",
            "438d8904ec2a4733849814902f4cb495"
          ]
        }
      },
      "execution_count": 1,
      "outputs": [
        {
          "output_type": "display_data",
          "data": {
            "text/plain": [
              "HBox(children=(VBox(children=(IntProgress(value=0, description='Progress:', layout=Layout(width='100%'), max=2…"
            ],
            "application/vnd.jupyter.widget-view+json": {
              "version_major": 2,
              "version_minor": 0,
              "model_id": "71467853abf04235b7435ff018bb6e06"
            }
          },
          "metadata": {}
        }
      ]
    },
    {
      "cell_type": "markdown",
      "source": [
        "## Review With Quizlet"
      ],
      "metadata": {
        "id": "53Eg4VYgVUE8"
      }
    },
    {
      "cell_type": "code",
      "source": [
        "%%html\n",
        "<iframe src=\"https://quizlet.com/1038505127/learn/embed?i=psvlh&x=1jj1\" height=\"700\" width=\"100%\" style=\"border:0\"></iframe>"
      ],
      "metadata": {
        "id": "NpUpZuhTVV66",
        "outputId": "38fcde14-a1e5-40ee-9204-ae7e809c28ae",
        "colab": {
          "base_uri": "https://localhost:8080/",
          "height": 722
        }
      },
      "execution_count": null,
      "outputs": [
        {
          "output_type": "display_data",
          "data": {
            "text/plain": [
              "<IPython.core.display.HTML object>"
            ],
            "text/html": [
              "<iframe src=\"https://quizlet.com/1038505127/learn/embed?i=psvlh&x=1jj1\" height=\"700\" width=\"100%\" style=\"border:0\"></iframe>\n"
            ]
          },
          "metadata": {}
        }
      ]
    },
    {
      "cell_type": "markdown",
      "source": [
        "# Control Structures Glossary\n",
        "\n",
        "| Term | Definition |\n",
        "|------|------------|\n",
        "| `break` | A command that immediately exits a loop, skipping any remaining iterations and continuing with the code after the loop. |\n",
        "| Comparison Operators | Symbols (==, !=, >, <, >=, <=) used to compare values and create Boolean conditions for decision-making in programs. |\n",
        "| Conditional Statements | Programming constructs (if, elif, else) that execute different code blocks based on whether specific conditions are true or false. |\n",
        "| Console | The text-based interface where program output appears after using functions like print(). |\n",
        "| `continue` | A command that skips the current iteration of a loop and jumps directly to the next iteration. |\n",
        "| Control Flow | The order in which individual statements, instructions, or function calls are executed in a program. |\n",
        "| Control Structures | Programming constructs that determine the flow of execution, allowing programs to make decisions, repeat actions, or skip sections of code. |\n",
        "| `else` | A section of code that executes only when the preceding if condition is false, providing an alternative execution path. |\n",
        "| Escape Sequences | Combinations of characters beginning with a backslash (\\\\) that represent special characters in strings, such as \\\\n for newline or \\\\t for tab. |\n",
        "| F-Strings | Formatted string literals prefixed with 'f' that allow embedding expressions inside string literals using curly braces {}. |\n",
        "| `for` | A control structure that repeats code a specific number of times, often used with the range() function or to iterate through sequences. |\n",
        "| `if` | The most basic conditional that executes a block of code only when a specified condition evaluates to True. |\n",
        "| `input()`| A built-in Python function that collects data from users through the keyboard, always returning the result as a string. |\n",
        "| Iteration | A single execution of the body of a loop; a program may perform many iterations of a loop. |\n",
        "| Logical Operators | Keywords (and, or, not) used to combine or modify conditions in Boolean expressions. |\n",
        "| Loop Body | The block of indented code that executes repeatedly within a loop structure. |\n",
        "| Nested Conditionals | Conditional statements placed inside other conditional statements, allowing for more complex decision trees. |\n",
        "| Program Flow | The order in which statements in a program are executed, which can be altered by control structures. |\n",
        "| `range()` | A built-in function that generates a sequence of numbers, commonly used to control for loops and specify the number of iterations. |\n",
        "| `sep` Parameter | An optional parameter in the print() function that specifies what character separates the values (default is a space). |\n",
        "| Truth Tables | Charts showing all possible outcomes for logical operations based on different input values. |\n",
        "| Type Conversion | The process of changing one data type to another, such as converting a string to an integer using functions like int(), float(), or str(). |\n",
        "| User Input | Information collected from the person using the program, typically through the input() function. |\n",
        "| `while` | A control structure that repeats code as long as a specified condition remains True, useful when the number of iterations isn't known in advance. |\n",
        "| `end` | An optional parameter in the print() function that specifies what character is printed at the end (default is a newline). |"
      ],
      "metadata": {
        "id": "R4IooqfjUmhO"
      }
    },
    {
      "cell_type": "code",
      "source": [],
      "metadata": {
        "id": "3vFnd99yVA8q"
      },
      "execution_count": null,
      "outputs": []
    }
  ]
}