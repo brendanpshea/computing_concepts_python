{
  "nbformat": 4,
  "nbformat_minor": 0,
  "metadata": {
    "colab": {
      "provenance": [],
      "authorship_tag": "ABX9TyP2SlIEacQjwsxvkKZ/4iHF",
      "include_colab_link": true
    },
    "kernelspec": {
      "name": "python3",
      "display_name": "Python 3"
    },
    "language_info": {
      "name": "python"
    }
  },
  "cells": [
    {
      "cell_type": "markdown",
      "metadata": {
        "id": "view-in-github",
        "colab_type": "text"
      },
      "source": [
        "<a href=\"https://colab.research.google.com/github/brendanpshea/computing_concepts_python/blob/main/IntroCS_05_IntsFloatsFunctions.ipynb\" target=\"_parent\"><img src=\"https://colab.research.google.com/assets/colab-badge.svg\" alt=\"Open In Colab\"/></a>"
      ]
    },
    {
      "cell_type": "markdown",
      "source": [
        "# Python: Data Types and Functions\n",
        "## Brendan Shea, PhD (Brendan.Shea@rctc.edu)\n",
        "\n",
        " In this lesson, we will explore the concept of \"data types\" and \"functions\" using Python as an example. Data types are an essential building block in programming, as they help us understand and organize the different kinds of information our code will work with. Don't worry if you're new to programming; we'll start with the basics.\n",
        "\n",
        "\n",
        "\n"
      ],
      "metadata": {
        "id": "8pjlMlaDgkdq"
      }
    },
    {
      "cell_type": "markdown",
      "source": [
        "## Brendan's Lecture\n",
        "To come (will be posted Monday Oct 2)"
      ],
      "metadata": {
        "id": "feajCySMAu8H"
      }
    },
    {
      "cell_type": "markdown",
      "source": [
        "## Data Types\n",
        "As we've discussed earlier, Python is a popular, user-friendly programming language known for its simplicity and readability. One of its key features is that it is **dynamically typed.** This means that Python automatically identifies the type of data you're working with, making it easier for beginners to start coding without worrying about specifying data types beforehand.\n",
        "\n",
        "In Python, some common data types are:\n",
        "\n",
        "| Data Type | Description | Example |\n",
        "| --- | --- | --- |\n",
        "| Integer (`int`) | A whole number, positive or negative, without decimals, of unlimited length. | `x = 10` |\n",
        "| Float (`float`) | A number, positive or negative, containing one or more decimals. | `y = 7.5` |\n",
        "| String (`str`) | A sequence of Unicode characters. Enclosed in either single quotes or double quotes. | `name = \"Carnap\"` |\n",
        "| Boolean (`bool`) | Data type with two built-in values: `True` or `False`. | `is_true = False` |\n",
        "| List (`list`) | A collection which is ordered and changeable. Allows duplicate members. | `fruits = ['apple', 'banana', 'cherry']` |\n",
        "| Tuple (`tuple`) | A collection which is ordered and unchangeable. Allows duplicate members. | `colors = ('red', 'blue', 'green')` |\n",
        "| Set (`set`) | A collection which is unordered and unindexed. No duplicate members. | `cars = {'Toyota', 'Ford', 'Tesla'}` |\n",
        "| Dictionary (`dict`) | A collection which is unordered, changeable and indexed. No duplicate members. It's a key-value pair. | `student = {'name': 'Carnap', 'age': 20}` |\n",
        "| None (`NoneType`) | A special data type representing the absence of a value or a null value. | `x = None` |\n",
        "\n",
        "\n",
        "As Python is dynamically typed, you don't need to explicitly specify the data type when creating a variable. For example, to assign the integer value 5 to a variable named 'x', you can simply write: `x = 5`\n",
        "\n",
        "Python will understand that 'x' is an integer, and store it accordingly. This flexibility makes Python more convenient for beginners, as you can focus on learning programming concepts without getting bogged down in the details of data types.\n",
        "\n"
      ],
      "metadata": {
        "id": "zvNP1mU9Ao4J"
      }
    },
    {
      "cell_type": "markdown",
      "source": [
        "## Integers\n",
        "An integer is a whole number, which means it doesn't have any decimal places. Integers can be positive, negative, or zero. In Python, integers are one of the basic data types that you can use to represent and work with numbers.\n",
        "\n",
        "Here are some examples of integers:\n",
        "```\n",
        "0\n",
        "42\n",
        "-7\n",
        "1234\n",
        "```\n",
        "\n",
        "You can use integers to perform arithmetic operations like addition, subtraction, multiplication, and division. Python also provides some additional operations that are specifically designed to work with integers, like floor division and modulus.\n",
        "\n",
        "Here's a simple example using integers in Python:"
      ],
      "metadata": {
        "id": "rVen51aWAq-_"
      }
    },
    {
      "cell_type": "code",
      "source": [
        "# Feel free to see what happens if you change these!\n",
        "# Assign two integers to variables\n",
        "num1 = 5\n",
        "num2 = 3\n",
        "\n",
        "print(f\"Addition: {num1 + num2}\")\n",
        "print(f\"Subtraction: {num1 - num2}\")\n",
        "print(f\"Multiplication: {num1 * num2}\")\n",
        "print(f\"Division: {num1 / num2}\")\n"
      ],
      "metadata": {
        "id": "48IyukJzg7-x",
        "colab": {
          "base_uri": "https://localhost:8080/"
        },
        "outputId": "64b2ab7e-e949-4b0e-b56d-0608bc2fe6c5"
      },
      "execution_count": null,
      "outputs": [
        {
          "output_type": "stream",
          "name": "stdout",
          "text": [
            "Addition: 8\n",
            "Subtraction: 2\n",
            "Multiplication: 15\n",
            "Division: 1.6666666666666667\n"
          ]
        }
      ]
    },
    {
      "cell_type": "markdown",
      "source": [
        "\n",
        "In this example, we assigned two integers (5 and 3) to variables num1 and num2. We then performed some basic arithmetic operations (addition, subtraction, and multiplication) and printed the results using f-strings.\n",
        "\n",
        "Remember, integers are whole numbers without any decimal places. If you want to work with numbers that have decimal places, you'll need to use another data type called \"float\", which we'll talk about later."
      ],
      "metadata": {
        "id": "KL5lzr_HpsTf"
      }
    },
    {
      "cell_type": "markdown",
      "source": [
        "# Floating Point Numbers\n",
        "A floating-point number, often called a \"float\", is a number that has a decimal point. Floats can represent real numbers, which include both whole numbers and numbers with fractional parts. In Python, floats are one of the basic data types you can use to represent and work with numbers that have decimal places.\n",
        "\n",
        "Here are some examples of floating-point numbers:\n",
        "\n",
        "* 3.14\n",
        "* 0.001\n",
        "* -2.5\n",
        "* 42.0 (even though it looks like a whole number, the \".0\" makes it a float)\n",
        "You can use floats to perform arithmetic operations like addition, subtraction, multiplication, and division. Floats can provide more precise results when working with numbers that have fractional parts, as opposed to integers, which are limited to whole numbers.\n",
        "\n",
        "Here's a simple example using floating-point numbers in Python:\n"
      ],
      "metadata": {
        "id": "75P50ZiJi0BV"
      }
    },
    {
      "cell_type": "code",
      "source": [
        "# Assign two floats to variables\n",
        "num1 = 5.5\n",
        "num2 = 2.0\n",
        "\n",
        "# Perform arithmetic operations\n",
        "addition = num1 + num2\n",
        "subtraction = num1 - num2\n",
        "multiplication = num1 * num2\n",
        "division = num1 / num2\n",
        "\n",
        "# Print the results\n",
        "print(f\"{num1} + {num2} = {addition}\")\n",
        "print(f\"{num1} - {num2} = {subtraction}\")\n",
        "print(f\"{num1} * {num2} = {multiplication}\")\n",
        "print(f\"{num1} / {num2} = {division}\")"
      ],
      "metadata": {
        "id": "_O2J7zlpjHaW",
        "colab": {
          "base_uri": "https://localhost:8080/"
        },
        "outputId": "5450aa1b-2df1-4b1d-ff20-de377f90d1fb"
      },
      "execution_count": null,
      "outputs": [
        {
          "output_type": "stream",
          "name": "stdout",
          "text": [
            "5.5 + 2.0 = 7.5\n",
            "5.5 - 2.0 = 3.5\n",
            "5.5 * 2.0 = 11.0\n",
            "5.5 / 2.0 = 2.75\n"
          ]
        }
      ]
    },
    {
      "cell_type": "markdown",
      "source": [
        "In this example, we assigned two floating-point numbers (5.5 and 2.0) to variables num1 and num2. We then performed some basic arithmetic operations (addition, subtraction, multiplication, and division) and printed the results using f-strings.\n",
        "\n",
        "It's important to note that floating-point numbers have limitations when it comes to representing numbers precisely. Due to the way they are stored internally, some numbers can't be represented exactly, which can lead to small rounding errors when performing calculations. This is usually not a problem for most applications, but it's something to be aware of when working with floats."
      ],
      "metadata": {
        "id": "M5e-PFtzqZaV"
      }
    },
    {
      "cell_type": "markdown",
      "source": [
        "\n",
        "## Casting to Float\n",
        " To get a floating-point number from a user, you can use the input() function to read a string from the user, and then \"cast\" the string to a float using the float() function. Here's an example of how to get a floating-point number from a user:\n",
        "\n",
        "\n"
      ],
      "metadata": {
        "id": "jqKzLd1kqTn2"
      }
    },
    {
      "cell_type": "code",
      "source": [
        "# Get input from the user as a string\n",
        "user_input = input(\"Please enter a number with a decimal point: \")\n",
        "\n",
        "# Cast the input string to a float\n",
        "number = float(user_input)\n",
        "\n",
        "# Perform some operation, like squaring the number\n",
        "squared_number = number ** 2\n",
        "\n",
        "# Print the result\n",
        "print(f\"The squared number is: {squared_number}\")"
      ],
      "metadata": {
        "id": "B6mEtMLJja48",
        "colab": {
          "base_uri": "https://localhost:8080/"
        },
        "outputId": "a29b77be-3222-431f-c123-139465f4e7dc"
      },
      "execution_count": null,
      "outputs": [
        {
          "output_type": "stream",
          "name": "stdout",
          "text": [
            "Please enter a number with a decimal point: 7.89\n",
            "The squared number is: 62.25209999999999\n"
          ]
        }
      ]
    },
    {
      "cell_type": "markdown",
      "source": [
        "In this example, we first use the input() function to get a string from the user. We then cast the string to a floating-point number using the float() function. Finally, we perform an operation on the float (in this case, squaring it) and print the result.\n",
        "\n",
        "Remember to use the float() function to cast the user's input to a floating-point number, as the input() function always returns a string. If you don't do this, you'll run into errors when trying to perform arithmetic operations with the input."
      ],
      "metadata": {
        "id": "no-P7o59qmQF"
      }
    },
    {
      "cell_type": "code",
      "source": [
        "# Floats are imprecise\n",
        "result = 0.1 + 0.2\n",
        "print(result)"
      ],
      "metadata": {
        "id": "zI7fUbo6h_h-"
      },
      "execution_count": null,
      "outputs": []
    },
    {
      "cell_type": "markdown",
      "source": [
        "# Arithmetic For Floats and Ints\n",
        "In Python, you can perform arithmetic operations using the standard arithmetic operators. Here's a quick overview of the basic arithmetic operators:\n",
        "\n",
        "- **Addition (+):** Use the + operator to add two numbers.\n",
        "\n",
        "- **Subtraction (-):** Use the - operator to subtract one number from another.\n",
        "\n",
        "- **Multiplication (*):** Use the * operator to multiply two numbers.\n",
        "\n",
        "- **Division (/):** Use the / operator to divide one number by another. The result will be a floating-point number.\n",
        "-  **Floor Division (//):** Use the // operator to perform floor division, which gives the largest whole number less than or equal to the result of the division.\n",
        "- **Modulus (%):** Use the % operator to find the remainder of a division.\n",
        "- **Exponentiation (**):** Use the ** operator to raise one number to the power of another.\n",
        "\n",
        "These are the basic arithmetic operators in Python that you can use to perform calculations with numbers. You can also use parentheses to control the order of operations:\n",
        "italicized text\n",
        "Below, I've provided a basic Python program that asks the user for two integers and then prints out the result of basic arithmetic operations on them using f-strings"
      ],
      "metadata": {
        "id": "tc0QE-SNgfRk"
      }
    },
    {
      "cell_type": "code",
      "source": [
        "# a basic Python program that asks the user for two integers and\n",
        "# then prints out the result of basic arithmetic operations on them using f-strings\n",
        "\n",
        "# Get input from the user\n",
        "num1 = int(input(\"Please enter the first integer: \"))\n",
        "num2 = int(input(\"Please enter the second integer: \"))\n",
        "\n",
        "# Perform basic arithmetic operations\n",
        "addition = num1 + num2\n",
        "subtraction = num1 - num2\n",
        "multiplication = num1 * num2\n",
        "division = num1 / num2\n",
        "floor_division = num1 // num2\n",
        "modulus = num1 % num2\n",
        "exponentiation = num1 ** num2\n",
        "\n",
        "# Print the results using f-strings\n",
        "print(f\"The sum of {num1} and {num2} is: {addition}\")\n",
        "print(f\"The difference between {num1} and {num2} is: {subtraction}\")\n",
        "print(f\"The product of {num1} and {num2} is: {multiplication}\")\n",
        "print(f\"The quotient of {num1} divided by {num2} is: {division}\")\n",
        "print(f\"The floor division of {num1} and {num2} is: {floor_division}\")\n",
        "print(f\"The remainder of {num1} divided by {num2} is: {modulus}\")\n",
        "print(f\"{num1} raised to the power of {num2} is: {exponentiation}\")"
      ],
      "metadata": {
        "id": "Gu_LZjbFgg_6",
        "colab": {
          "base_uri": "https://localhost:8080/"
        },
        "outputId": "ca0e5198-5ae7-431f-92a6-c32f3036042b"
      },
      "execution_count": null,
      "outputs": [
        {
          "output_type": "stream",
          "name": "stdout",
          "text": [
            "Please enter the first integer: 8\n",
            "Please enter the second integer: 7\n",
            "The sum of 8 and 7 is: 15\n",
            "The difference between 8 and 7 is: 1\n",
            "The product of 8 and 7 is: 56\n",
            "The quotient of 8 divided by 7 is: 1.1428571428571428\n",
            "The floor division of 8 and 7 is: 1\n",
            "The remainder of 8 divided by 7 is: 1\n",
            "8 raised to the power of 7 is: 2097152\n"
          ]
        }
      ]
    },
    {
      "cell_type": "markdown",
      "source": [
        "## What is a Python List?\n",
        "In Python, a **list** is an ordered collection of items. These items can be of differing types---integers, strings, floats, or even other lists. Picture Hermione Granger's magical bag in the \"Harry Potter\" series. She pulls out books, a tent, potions, and more, all from the same bag. Similarly, a Python list can store a mixed array of items.\n",
        "\n",
        "Here's an example featuring Socrates, the Athenian philosopher. Suppose he had a list named `socratic_elements`, and it contained a question, an integer representing the number of dialogues he's penned, and a Boolean to indicate if he's willing to drink hemlock:"
      ],
      "metadata": {
        "id": "MVbaE1uA30iK"
      }
    },
    {
      "cell_type": "code",
      "source": [
        "socratic_elements = [\"What is justice?\", 33, True]"
      ],
      "metadata": {
        "id": "O4wMnkiO31J6"
      },
      "execution_count": null,
      "outputs": []
    },
    {
      "cell_type": "markdown",
      "source": [
        "### How Do You Create and Modify Lists?\n",
        "\n",
        "Creating a list in Python is simple: encase your comma-separated values within square brackets. Adding and removing items is straightforward as well. Python provides methods like `append()` for adding items and `remove()` for taking them out.\n",
        "\n",
        "Take the case of Scheherazade, the storyteller from \"One Thousand and One Nights.\" She could have a list of the types of stories she tells:"
      ],
      "metadata": {
        "id": "M8I9C_O43-ny"
      }
    },
    {
      "cell_type": "code",
      "source": [
        "story_types = [\"Fable\", \"Action\", \"Romance\", \"Adventure\", \"Horror\"]"
      ],
      "metadata": {
        "id": "0kk_H74r3_JK"
      },
      "execution_count": null,
      "outputs": []
    },
    {
      "cell_type": "markdown",
      "source": [
        "She'd now like to add mythology and remove Horror. She can do so as follows:"
      ],
      "metadata": {
        "id": "aull3Suk4CoA"
      }
    },
    {
      "cell_type": "code",
      "source": [
        "story_types.append(\"Mythology\")\n",
        "story_types.remove(\"Horror\")"
      ],
      "metadata": {
        "id": "pdcCe-qA4DTw"
      },
      "execution_count": null,
      "outputs": []
    },
    {
      "cell_type": "markdown",
      "source": [
        "The updated list would now be:"
      ],
      "metadata": {
        "id": "eByYqg6h4Ha4"
      }
    },
    {
      "cell_type": "code",
      "source": [
        "print(story_types)"
      ],
      "metadata": {
        "colab": {
          "base_uri": "https://localhost:8080/"
        },
        "id": "qekLM2W04IBA",
        "outputId": "72bc42fe-4c13-415f-f531-aa754c7675cf"
      },
      "execution_count": null,
      "outputs": [
        {
          "output_type": "stream",
          "name": "stdout",
          "text": [
            "['Fable', 'Action', 'Romance', 'Adventure', 'Mythology']\n"
          ]
        }
      ]
    },
    {
      "cell_type": "markdown",
      "source": [
        "## Shuri's Lists\n",
        " Let's suppose that Shuri, the current Black Panther, maintains two key lists: one cataloging her various inventions, and another indicating their efficiency ratings, measured on a scale from 0 to 10."
      ],
      "metadata": {
        "id": "yURdnYLQ8utS"
      }
    },
    {
      "cell_type": "code",
      "source": [
        "inventions = [\"Kimoyo Beads\", \"Panther Habit\", \"Remote Driving System\", \"Sneakers\",\n",
        "              \"Energy Spear\", \"Vibranium Gauntlets\", \"Dragon Flyer\", \"Medical Scanner\",\n",
        "              \"War Rhinos\", \"Holotable\", \"Talons\", \"Vibranium Mine Detector\"]\n",
        "efficiency_ratings = [9.8, 9.7, 8.5, 9.0, 8.8, 9.4, 7.9, 9.3, 8.2, 9.1, 7.7, 9.6]"
      ],
      "metadata": {
        "id": "G6aRNYr-817C"
      },
      "execution_count": null,
      "outputs": []
    },
    {
      "cell_type": "markdown",
      "source": [
        "### List Indexing and Slicing\n",
        "\n",
        "In Python, list indexing begins with 0 for the first item, 1 for the second, and so on. Conversely, negative indices start from the end: -1 for the last item, -2 for the second-to-last, and so on. Thus, if Shuri wishes to know the efficiency of her \"Energy Spear,\" she could use its index from the `inventions` list to find the corresponding rating in the `efficiency_ratings` list."
      ],
      "metadata": {
        "id": "Qq4QjIQF86bQ"
      }
    },
    {
      "cell_type": "code",
      "source": [
        "# Accessing an item using a positive index\n",
        "rating_energy_spear = efficiency_ratings[4]  # 'Energy Spear' is at index 4\n",
        "print(f\"The Energy Spear has an efficiency rating of {rating_energy_spear}.\")\n",
        "\n",
        "# Accessing an item using a negative index\n",
        "rating_last_invention = efficiency_ratings[-1]  # 'Vibranium Mine Detector' is the last item\n",
        "print(f\"The last invention on the list has an efficiency rating of {rating_last_invention}.\")\n"
      ],
      "metadata": {
        "colab": {
          "base_uri": "https://localhost:8080/"
        },
        "id": "B1qnZODE8uRS",
        "outputId": "a8d9d6e5-12e9-46e6-8a18-5a61e445bc27"
      },
      "execution_count": null,
      "outputs": [
        {
          "output_type": "stream",
          "name": "stdout",
          "text": [
            "The Energy Spear has an efficiency rating of 8.8.\n",
            "The last invention on the list has an efficiency rating of 9.6.\n"
          ]
        }
      ]
    },
    {
      "cell_type": "markdown",
      "source": [
        "**List slicing** allows you to access a range of items. If Shuri wants to see the efficiency ratings for the first three inventions, she could slice the list accordingly."
      ],
      "metadata": {
        "id": "l2DkxnN28-K4"
      }
    },
    {
      "cell_type": "code",
      "source": [
        "first_three_ratings = efficiency_ratings[:3]  # This will give us the first three ratings\n",
        "print(f\"The first three inventions have efficiency ratings of {first_three_ratings}.\")"
      ],
      "metadata": {
        "colab": {
          "base_uri": "https://localhost:8080/"
        },
        "id": "YM2rvABQ9Bp2",
        "outputId": "f6ded500-8374-4c71-a647-9346ba5ec4ee"
      },
      "execution_count": null,
      "outputs": [
        {
          "output_type": "stream",
          "name": "stdout",
          "text": [
            "The first three inventions have efficiency ratings of [9.8, 9.7, 8.5].\n"
          ]
        }
      ]
    },
    {
      "cell_type": "markdown",
      "source": [
        "We can also **modify** lists using the index:"
      ],
      "metadata": {
        "id": "6oRo7K3a9I7u"
      }
    },
    {
      "cell_type": "code",
      "source": [
        "# Modify the efficiency rating for \"Medical Scanner\"\n",
        "efficiency_ratings[7] = 9.9  # 'Medical Scanner' is at index 7\n",
        "print(f\"The updated efficiency rating of the Medical Scanner is {efficiency_ratings[7]}.\")"
      ],
      "metadata": {
        "colab": {
          "base_uri": "https://localhost:8080/"
        },
        "id": "YIbXuxFW9IYe",
        "outputId": "ea5fe96c-009f-453c-ae54-83c5e16ac776"
      },
      "execution_count": null,
      "outputs": [
        {
          "output_type": "stream",
          "name": "stdout",
          "text": [
            "The updated efficiency rating of the Medical Scanner is 9.9.\n"
          ]
        }
      ]
    },
    {
      "cell_type": "markdown",
      "source": [
        "Finally, we can use `in` to check whether something is in the list."
      ],
      "metadata": {
        "id": "K0YtqATq9Xkw"
      }
    },
    {
      "cell_type": "code",
      "source": [
        "# Check if \"Energy Spear\" is in the inventions list\n",
        "exists_energy_spear = \"Energy Spear\" in inventions\n",
        "print(f\"Does the list contain the Energy Spear? {exists_energy_spear}\")"
      ],
      "metadata": {
        "colab": {
          "base_uri": "https://localhost:8080/"
        },
        "id": "ntlFo-0T9WAQ",
        "outputId": "fa5f9df1-b709-4ac4-a90e-8ea773987c68"
      },
      "execution_count": null,
      "outputs": [
        {
          "output_type": "stream",
          "name": "stdout",
          "text": [
            "Does the list contain the Energy Spear? True\n"
          ]
        }
      ]
    },
    {
      "cell_type": "markdown",
      "source": [
        "## Data Types Matter!\n",
        "Here are some examples of errors that might occur if you don't use the right data type in your Python code:\n",
        "\n",
        "In this example, we're trying to add a number (integer) and a string, which is not allowed in Python. This will raise a TypeError with the message \"unsupported operand type(s) for +: 'int' and 'str'\"."
      ],
      "metadata": {
        "id": "JQ15Pfv4hocH"
      }
    },
    {
      "cell_type": "code",
      "source": [
        "# Raises a TypeError\n",
        "num = 5\n",
        "text = \"Hello\"\n",
        "result = num + text"
      ],
      "metadata": {
        "id": "939jn_Qth2T_",
        "colab": {
          "base_uri": "https://localhost:8080/",
          "height": 210
        },
        "outputId": "b063ccbb-2052-4c92-ff70-427bbe6a2430"
      },
      "execution_count": null,
      "outputs": [
        {
          "output_type": "error",
          "ename": "TypeError",
          "evalue": "ignored",
          "traceback": [
            "\u001b[0;31m---------------------------------------------------------------------------\u001b[0m",
            "\u001b[0;31mTypeError\u001b[0m                                 Traceback (most recent call last)",
            "\u001b[0;32m<ipython-input-5-9186c930de69>\u001b[0m in \u001b[0;36m<cell line: 4>\u001b[0;34m()\u001b[0m\n\u001b[1;32m      2\u001b[0m \u001b[0mnum\u001b[0m \u001b[0;34m=\u001b[0m \u001b[0;36m5\u001b[0m\u001b[0;34m\u001b[0m\u001b[0;34m\u001b[0m\u001b[0m\n\u001b[1;32m      3\u001b[0m \u001b[0mtext\u001b[0m \u001b[0;34m=\u001b[0m \u001b[0;34m\"Hello\"\u001b[0m\u001b[0;34m\u001b[0m\u001b[0;34m\u001b[0m\u001b[0m\n\u001b[0;32m----> 4\u001b[0;31m \u001b[0mresult\u001b[0m \u001b[0;34m=\u001b[0m \u001b[0mnum\u001b[0m \u001b[0;34m+\u001b[0m \u001b[0mtext\u001b[0m\u001b[0;34m\u001b[0m\u001b[0;34m\u001b[0m\u001b[0m\n\u001b[0m",
            "\u001b[0;31mTypeError\u001b[0m: unsupported operand type(s) for +: 'int' and 'str'"
          ]
        }
      ]
    },
    {
      "cell_type": "markdown",
      "source": [
        "In this example, we're trying to cast a string containing a floating-point number (\"3.14\") to an integer using the int() function. This is not allowed and will raise a ValueError with the message \"invalid literal for int() with base 10: '3.14'\". To fix this, you can first cast the string to a float using the float() function and then cast the float to an integer.\n"
      ],
      "metadata": {
        "id": "l8EyKZdjx9Kp"
      }
    },
    {
      "cell_type": "code",
      "source": [
        "# Raises a ValueError\n",
        "user_input = \"3.14\"\n",
        "number = int(user_input)"
      ],
      "metadata": {
        "id": "H92P6850h6Bm"
      },
      "execution_count": null,
      "outputs": []
    },
    {
      "cell_type": "markdown",
      "source": [
        "In this example, the result of adding 0.1 and 0.2 is not exactly 0.3 due to the internal representation of floating-point numbers. This can be a source of confusion and can lead to errors in your code if you're not careful when working with floats."
      ],
      "metadata": {
        "id": "WFttSWt5x-_P"
      }
    },
    {
      "cell_type": "markdown",
      "source": [
        "# Defining Your Own Functions\n",
        "Defining your own functions in Python is a great way to organize your code and reuse parts of it. Functions are blocks of code that perform a specific task and can be called by name. To define a function, you use the def keyword, followed by the function name, parentheses, and a colon. The code inside the function is indented to indicate that it belongs to the function.\n",
        "\n",
        "Here's a simple example of defining and using a function in Python:\n",
        "\n",
        "\n"
      ],
      "metadata": {
        "id": "374nk-tGj_-h"
      }
    },
    {
      "cell_type": "code",
      "source": [
        "# Define a function called 'greet'\n",
        "def greet(name):\n",
        "    message = f\"Hello, {name}!\"\n",
        "    print(message)"
      ],
      "metadata": {
        "id": "Gt9us4EcgjSz"
      },
      "execution_count": 61,
      "outputs": []
    },
    {
      "cell_type": "code",
      "source": [
        "# Call the function twice\n",
        "greet(\"Cookie Monster\")\n",
        "greet(\"Gonger\")"
      ],
      "metadata": {
        "id": "HpSYSehR51b8",
        "outputId": "07f57ebb-b56c-4d73-92d2-bcbfe38ed11d",
        "colab": {
          "base_uri": "https://localhost:8080/"
        }
      },
      "execution_count": 62,
      "outputs": [
        {
          "output_type": "stream",
          "name": "stdout",
          "text": [
            "Hello, Cookie Monster!\n",
            "Hello, Gonger!\n"
          ]
        }
      ]
    },
    {
      "cell_type": "markdown",
      "source": [
        "In this example, we defined a function called greet that takes one parameter, name. The function creates a greeting message using an f-string and prints it. After defining the function, we called it twice with different arguments (\"Alice\" and \"Bob\") to demonstrate how it works.\n",
        "\n",
        "Here are some key points to remember when defining functions in Python:\n",
        "\n",
        "1. Use the def keyword to start defining a function.\n",
        "2. Choose a meaningful name for your function that describes what it does.\n",
        "3. Put parentheses after the function name, and include any parameters the function needs inside the parentheses.\n",
        "4. End the function definition with a colon.\n",
        "5. Indent the code inside the function by one level (usually 4 spaces) to indicate that it belongs to the function.\n",
        "6. To call the function, use its name followed by parentheses, and include any arguments the function needs inside the parentheses.\n",
        "\n",
        "Defining your own functions allows you to create reusable blocks of code that can be easily maintained and modified. It's an essential skill to learn when programming in Python or any other programming language."
      ],
      "metadata": {
        "id": "OUfo8dQSqzM1"
      }
    },
    {
      "cell_type": "markdown",
      "source": [
        "## What is a \"Return\" Value?\n",
        "When a function returns a value, it means that the function produces a result that can be used by other parts of your code. Functions in Python can return values using the return keyword, followed by the value or expression that you want the function to return. When the return statement is executed, the function ends, and the value is sent back to the part of the code that called the function.\n",
        "\n",
        "Returning a value allows you to use the result of a function in various ways, such as assigning it to a variable, using it in an expression, or passing it as an argument to another function.\n",
        "\n",
        "Here's a simple example of a function that returns a value:\n",
        "\n"
      ],
      "metadata": {
        "id": "8xiZR8G_kZ-5"
      }
    },
    {
      "cell_type": "code",
      "source": [
        "def add(num1, num2):\n",
        "    result = num1 + num2\n",
        "    return result"
      ],
      "metadata": {
        "id": "YnZGb5n_kj0J",
        "colab": {
          "base_uri": "https://localhost:8080/"
        },
        "outputId": "280d3cf0-c2d3-4b81-c76d-22c5c380e318"
      },
      "execution_count": null,
      "outputs": [
        {
          "output_type": "stream",
          "name": "stdout",
          "text": [
            "3 + 4 = 7\n"
          ]
        }
      ]
    },
    {
      "cell_type": "code",
      "source": [
        "# call the function\n",
        "add(3,4)"
      ],
      "metadata": {
        "id": "qkXcd0Z-6Bpc",
        "outputId": "98bcdbbd-b645-447e-abb6-7384ed602a79",
        "colab": {
          "base_uri": "https://localhost:8080/"
        }
      },
      "execution_count": 63,
      "outputs": [
        {
          "output_type": "execute_result",
          "data": {
            "text/plain": [
              "7"
            ]
          },
          "metadata": {},
          "execution_count": 63
        }
      ]
    },
    {
      "cell_type": "code",
      "source": [
        "# We can embed add within print\n",
        "print(add(5,6))\n",
        "print(add(23425, 34232))"
      ],
      "metadata": {
        "id": "ekl-fuXq6IRz",
        "outputId": "5d2bc3a0-de00-4bb3-abae-f62d94d66a12",
        "colab": {
          "base_uri": "https://localhost:8080/"
        }
      },
      "execution_count": 64,
      "outputs": [
        {
          "output_type": "stream",
          "name": "stdout",
          "text": [
            "11\n",
            "57657\n"
          ]
        }
      ]
    },
    {
      "cell_type": "markdown",
      "source": [
        "In this example, we defined a function called add that takes two parameters, num1 and num2. The function adds the two numbers and returns the result using the return statement. We then called the function with the arguments 3 and 4 and stored the returned value in the variable sum_result. Finally, we printed the result.\n",
        "\n",
        "Remember that when a function returns a value, you can use that value in various ways in your code. If a function doesn't include a return statement, it implicitly returns None, which is a special value in Python that represents the absence of a value or a null result."
      ],
      "metadata": {
        "id": "JoblXqIVq5tr"
      }
    },
    {
      "cell_type": "markdown",
      "source": [
        "## Why Use Functions?\n",
        "Python functions provide a great way to organize your code. Here are few examples of simple fuctions that \"return\" different sorts of values.\n",
        "\n",
        "### Functions that Return a String\n",
        "In this example, the create_sentence function takes three parameters (subject, verb, and object) and returns a string combining them into a sentence.\n",
        "\n"
      ],
      "metadata": {
        "id": "0YNskNQklLf2"
      }
    },
    {
      "cell_type": "code",
      "source": [
        "def create_sentence(subject, verb, object):\n",
        "    return f\"{subject} {verb} {object}.\""
      ],
      "metadata": {
        "id": "v7rtz1kylzTm"
      },
      "execution_count": 66,
      "outputs": []
    },
    {
      "cell_type": "code",
      "source": [
        "sentence1 = create_sentence(\"The dog\", \"chased\", \"the cat\")\n",
        "sentence2 = create_sentence(\"I\", \"love\", \"Python\")\n",
        "print(sentence1)\n",
        "print(sentence2)"
      ],
      "metadata": {
        "id": "pjkA9Xd86Rqf",
        "outputId": "8faa9050-f005-494f-c52c-f4f61bfe19b5",
        "colab": {
          "base_uri": "https://localhost:8080/"
        }
      },
      "execution_count": 65,
      "outputs": [
        {
          "output_type": "stream",
          "name": "stdout",
          "text": [
            "The dog chased the cat.\n",
            "I love Python.\n"
          ]
        }
      ]
    },
    {
      "cell_type": "markdown",
      "source": [
        "### Function that returns a float\n",
        "\n",
        "In this example, the calculate_area function takes a single parameter (radius) and returns the area of a circle as a float. It uses the math.pi constant for the value of pi.\n",
        "\n"
      ],
      "metadata": {
        "id": "tXCVcnv_rAaM"
      }
    },
    {
      "cell_type": "code",
      "source": [
        "def calculate_area(radius):\n",
        "    import math\n",
        "    area = math.pi * (radius ** 2)\n",
        "    return area"
      ],
      "metadata": {
        "id": "Yjpx6y79l3Gk"
      },
      "execution_count": 69,
      "outputs": []
    },
    {
      "cell_type": "code",
      "source": [
        "# call the function\n",
        "area1 = calculate_area(5)\n",
        "area2 = calculate_area(10)\n",
        "print(f\"Area of circle with radius 5: {area1:.2f}\")\n",
        "print(f\"Area of circle with radius 10: {area2:.2f}\")"
      ],
      "metadata": {
        "id": "2XQTnkhr6UtJ",
        "outputId": "9691d493-acdc-45da-c1a3-d30dfccd3837",
        "colab": {
          "base_uri": "https://localhost:8080/"
        }
      },
      "execution_count": 70,
      "outputs": [
        {
          "output_type": "stream",
          "name": "stdout",
          "text": [
            "Area of circle with radius 5: 78.54\n",
            "Area of circle with radius 10: 314.16\n"
          ]
        }
      ]
    },
    {
      "cell_type": "markdown",
      "source": [
        "### Function that returns an integer\n",
        "\n",
        "In this example, the count_vowels function takes a string parameter (text) and returns the count of vowels (a, e, i, o, u) in the text as an integer. It uses a generator expression and the sum() function to count the vowels.\n"
      ],
      "metadata": {
        "id": "TuxuWky5rCvs"
      }
    },
    {
      "cell_type": "code",
      "source": [
        "def count_vowels(text):\n",
        "    vowels = \"aeiou\"\n",
        "    count = sum(1 for char in text.lower() if char in vowels)\n",
        "    return count\n"
      ],
      "metadata": {
        "id": "tHjg1Oqzl6P0"
      },
      "execution_count": 67,
      "outputs": []
    },
    {
      "cell_type": "code",
      "source": [
        "count1 = count_vowels(\"Hello, World!\")\n",
        "count2 = count_vowels(\"Python Programming\")\n",
        "print(f\"Number of vowels in 'Hello, World!': {count1}\")\n",
        "print(f\"Number of vowels in 'Python Programming': {count2}\")"
      ],
      "metadata": {
        "id": "R3VV8YtZ6WdI",
        "outputId": "a500755d-85e9-45c2-dc99-0204bd5b6f61",
        "colab": {
          "base_uri": "https://localhost:8080/"
        }
      },
      "execution_count": 68,
      "outputs": [
        {
          "output_type": "stream",
          "name": "stdout",
          "text": [
            "Number of vowels in 'Hello, World!': 3\n",
            "Number of vowels in 'Python Programming': 4\n"
          ]
        }
      ]
    },
    {
      "cell_type": "markdown",
      "source": [
        "## Simple Function Examples\n",
        "To get a sense of how how functions \"work\", here a few more more examples:\n",
        "\n",
        "| Code | Function Description |\n",
        "| --- | --- |\n",
        "| `def f(a, b): return a**2 + b**2` | Define a Python function that returns the sum of squares of two numbers a and b. |\n",
        "| `def f(a, b): return a**2 - b**2` | Define a Python function that returns the difference of squares of a and b. |\n",
        "| `def f(a, b): return (a ** b) + b` | Define a Python function that raises a number a to the power of b and adds b. |\n",
        "|` def f(a, b): return (a**2) % b` | Define a Python function that returns the remainder of a squared divided by b. |\n",
        "| `def f(a): return a % 2 == 0` | Define a Python function that checks if a number a is even. |\n",
        "| `def f(a): return a % 2 != 0` | Define a Python function that checks if a number a is odd. |\n",
        "| `def f(c): return (c * 9/5) + 32` | Define a Python function that converts a temperature in Celsius to Fahrenheit. |\n",
        "| `def f(f): return (f - 32) * 5/9` | Define a Python function that converts a temperature in Fahrenheit to Celsius. |\n",
        "| `def f(r): return 3.14 * r**2` | Define a Python function that calculates the area of a circle with radius r. |\n",
        "| `def f(name): return \"Hello, \" + name` | Define a Python function that returns a string with \"Hello, \" followed by a name. |\n",
        "| `def f(name): print(\"Goodbye, \" + name)` | Define a Python function that prints \"Goodbye, \" followed by a name. |\n",
        "| `def f(s, n): print(s[:n])` | Define a Python function that prints the first n characters of a string s. |\n",
        "| `def f(s): return s[::-1]` | Define a Python function that returns the reverse of a string s. |\n",
        "| `def f(a): return \"True\" if a > 0 else \"False\"` | Define a Python function that returns a string with \"True\" if a is positive, else \"False.\" |\n",
        "| `def f(t): print(\"Hot\" if t > 30 else \"Cold\")` | Define a Python function that prints \"Hot\" if the temperature t is above 30, else \"Cold.\" |\n",
        "| `def f(s): print(s + \"!!!\")` | Define a Python function that prints a string s with exclamation marks added. |\n",
        "| `def f(a, b): return str(a) + \" \" + str(b)` | Define a Python function that returns a string with a and b separated by a space. |\n",
        "| `def f(s, n): return len(s) > n` | Define a Python function that checks if the length of a string s is greater than n. |"
      ],
      "metadata": {
        "id": "7kT6fuq-yruP"
      }
    },
    {
      "cell_type": "markdown",
      "source": [
        "## Exercises\n",
        "\n",
        "### Exercise 1: Alive!\n",
        "- Objective: Practice creating a simple function with no parameters.\n",
        "- Description: Create a function called `its_alive` that prints \"It's alive!\" when called.\n",
        "- Hint: Define the function and use the `print()` function inside it.\n",
        "- Sample Function Call: `its_alive()`\n",
        "- Sample Output: `It's alive!`\n",
        "\n",
        "### Exercise 2: Experiment Duration\n",
        "- Objective: Practice creating a function with one integer parameter.\n",
        "- Description: Create a function called `experiment_duration` that takes the number of days as an integer parameter and returns the number of hours the experiment will last.\n",
        "- Hint: Multiply the number of days by 24 to get the number of hours.\n",
        "- Sample Function Call: `experiment_duration(3)`\n",
        "- Sample Output: `72`\n",
        "\n",
        "### Exercise 3: Potion Mixing\n",
        "- Objective: Practice creating a function with two float parameters.\n",
        "- Description: Create a function called `mix_potion` that takes two float parameters, representing the volumes of Potion A and Potion B, and returns the total volume of the mixed potion.\n",
        "- Hint: Add the volumes of the two potions.\n",
        "- Sample Function Call: `mix_potion(3.5, 4.2)`\n",
        "- Sample Output: `7.7`\n",
        "\n",
        "### Exercise 4: Monster's Name\n",
        "- Objective: Practice creating a function with one string parameter.\n",
        "- Description: Create a function called `monster_name` that takes a string parameter, the monster's name, and returns the name in uppercase letters.\n",
        "- Hint: Use the `.upper()` string method.\n",
        "- Sample Function Call:  `monster_name(\"Frankenstein\")`\n",
        "- Sample Output: `FRANKENSTEIN`"
      ],
      "metadata": {
        "id": "ZlAluZmlt3wP"
      }
    },
    {
      "cell_type": "markdown",
      "source": [
        "### Exercise 5: Midnight Snack\n",
        "\n",
        "-   Objective: Practice list indexing and the `append()` method.\n",
        "-   Description: Create a function called `midnight_snack` that takes a list of snack items. Append \"Midnight Pie\" to the end of the list and return the list.\n",
        "-   Hint: Use `append()` to add an item to the end of the list.\n",
        "-   Sample Function Call: `midnight_snack([\"Cookies\", \"Chips\"])`\n",
        "-   Sample Output: `[\"Cookies\", \"Chips\", \"Midnight Pie\"]`\n",
        "\n",
        "### Exercise 6: Vampire's Last Bite\n",
        "\n",
        "-   Objective: Understand list indexing and the `remove()` method.\n",
        "-   Description: Write a function named `last_bite` that takes a list of food items. If \"Garlic Bread\" is in the list, remove it (Vampires can't eat garlic!). Return the modified list.\n",
        "-   Hint: Use `remove()` to get rid of an item by its value.\n",
        "-   Sample Function Call: `last_bite([\"Garlic Bread\", \"Pizza\", \"Pasta\"])`\n",
        "-   Sample Output: `[\"Pizza\", \"Pasta\"]`\n",
        "\n",
        "### Exercise 7: Haunting Melody (BONUS)\n",
        "\n",
        "-   Objective: Introduce the `insert()` method along with list indexing.\n",
        "-   Description: Create a function named `haunting_melody` that takes a list of song titles. Using the `insert()` method, add the song \"The Monster Mash\" to the front of the list, then return the list.\n",
        "-   Hint: Use `insert(0, \"The Monster Mash\")` to add an item at the beginning of the list. The number 0 indicates the position, and \"The Monster Mash\" is the item you want to add.\n",
        "-   Sample Function Call: `haunting_melody([\"Thriller\", \"Ghostbusters Theme\"])`\n",
        "-   Sample Output: `[\"The Monster Mash\", \"Thriller\", \"Ghostbusters Theme\"]`\n",
        "\n",
        "### Exercise 8: Ghostly Exit (BONUS)\n",
        "\n",
        "-   Objective: Learn about the `pop()` method, combined with list indexing.\n",
        "-   Description: Write a function named `ghostly_exit` that accepts a list of partygoers. Add the name \"Casper\" to the end of the list using `append()`. Then, use the `pop()` method to remove the first name from the list. Return the modified list.\n",
        "-   Hint: Use `append()` to add to the end and `pop(0)` to remove the first item. The number 0 inside `pop()` specifies the index of the item you want to remove.\n",
        "-   Sample Function Call: `ghostly_exit([\"Betelgeuse\", \"Moaning Myrtle\"])`\n",
        "-   Sample Output: `[\"Moaning Myrtle\", \"Casper\"]`"
      ],
      "metadata": {
        "id": "ls7ZcvuOAn5V"
      }
    },
    {
      "cell_type": "code",
      "source": [
        "# Ex 1\n",
        "def its_alive():\n",
        "  # Your code here"
      ],
      "metadata": {
        "id": "9khTJ-nzup8Z"
      },
      "execution_count": null,
      "outputs": []
    },
    {
      "cell_type": "code",
      "source": [
        "# Ex 2\n",
        "def experiment_duration(num_days):\n",
        "  # Your code here"
      ],
      "metadata": {
        "id": "CoSmrzEhurbw"
      },
      "execution_count": null,
      "outputs": []
    },
    {
      "cell_type": "code",
      "source": [
        "# Ex 3 -- now it's your turn to start writing the whole functoin!"
      ],
      "metadata": {
        "id": "iLC6DcMXutSA"
      },
      "execution_count": null,
      "outputs": []
    },
    {
      "cell_type": "code",
      "source": [
        "# Ex 4"
      ],
      "metadata": {
        "id": "fNQ6_AcruuOQ"
      },
      "execution_count": null,
      "outputs": []
    },
    {
      "cell_type": "code",
      "source": [
        "# Ex 5"
      ],
      "metadata": {
        "id": "GJO7P_gqNG8J"
      },
      "execution_count": null,
      "outputs": []
    },
    {
      "cell_type": "code",
      "source": [
        "# Ex 6"
      ],
      "metadata": {
        "id": "QjPengdxNIcY"
      },
      "execution_count": null,
      "outputs": []
    },
    {
      "cell_type": "code",
      "source": [
        "# Ex 7"
      ],
      "metadata": {
        "id": "ya8exHEMNJuX"
      },
      "execution_count": null,
      "outputs": []
    },
    {
      "cell_type": "code",
      "source": [
        "# Ex 8"
      ],
      "metadata": {
        "id": "amoQnQubNLK_"
      },
      "execution_count": null,
      "outputs": []
    },
    {
      "cell_type": "markdown",
      "source": [
        "# Debugging\n",
        "Debugging is the process of finding and fixing errors or issues in your code. There are various techniques you can use to debug your code, ranging from simple print statements to more advanced debugging tools. Here are some common debugging methods:\n",
        "\n",
        "## Print statements:\n",
        "Using print statements is a simple and straightforward way to debug your code. You can insert print() statements at various points in your code to display the values of variables, the flow of execution, or any other relevant information. This can help you identify where things are going wrong or unexpected behavior is occurring.\n",
        "\n",
        "To use print statements effectively, make sure to provide clear and meaningful messages, so it's easy to understand what the output represents. For example:\n",
        "\n",
        "\n"
      ],
      "metadata": {
        "id": "96bdvtnMm_es"
      }
    },
    {
      "cell_type": "code",
      "source": [
        "def calculate_area(radius):\n",
        "    # What is wrong here?\n",
        "    print(f\"Input radius: {radius}\")\n",
        "    area = 3.14159 * (radius * 2)\n",
        "    print(f\"Calculated area: {area}\")\n",
        "    return area\n",
        "\n",
        "print(calculate_area(5))"
      ],
      "metadata": {
        "id": "lcT8VwV2pcfe",
        "colab": {
          "base_uri": "https://localhost:8080/"
        },
        "outputId": "f44dcf3f-b10b-431b-ac80-53f029981a3a"
      },
      "execution_count": null,
      "outputs": [
        {
          "output_type": "stream",
          "name": "stdout",
          "text": [
            "Input radius: 5\n",
            "Calculated area: 31.4159\n",
            "31.4159\n"
          ]
        }
      ]
    },
    {
      "cell_type": "markdown",
      "source": [
        "By breaking your code into discrete functions and using Jupyter Notebook's cell structure, you can isolate specific parts of your code for debugging. This makes it easier to identify and fix issues, as you can focus on smaller, more manageable pieces."
      ],
      "metadata": {
        "id": "iS7EsRfirxje"
      }
    },
    {
      "cell_type": "markdown",
      "source": [
        "## Reading exception traces:\n",
        "When an error occurs in your code, Python will raise an exception and display a traceback, which provides detailed information about the error and the line of code where it occurred. Understanding how to read **exception traces** is essential for debugging your code.\n",
        "\n",
        "Here is an example of code that should lead to an error, and give us an exception trace.\n"
      ],
      "metadata": {
        "id": "Pa9Wdu7YrrVP"
      }
    },
    {
      "cell_type": "code",
      "source": [
        "def divide(a, b):\n",
        "    return a / b\n",
        "\n",
        "print(divide(5, 0))"
      ],
      "metadata": {
        "id": "kMpQPn3Z8Zgh",
        "colab": {
          "base_uri": "https://localhost:8080/",
          "height": 314
        },
        "outputId": "5f73a5ae-f4ad-4fae-da1a-f322e4c4e20c"
      },
      "execution_count": null,
      "outputs": [
        {
          "output_type": "error",
          "ename": "ZeroDivisionError",
          "evalue": "ignored",
          "traceback": [
            "\u001b[0;31m---------------------------------------------------------------------------\u001b[0m",
            "\u001b[0;31mZeroDivisionError\u001b[0m                         Traceback (most recent call last)",
            "\u001b[0;32m<ipython-input-12-01865cd689ce>\u001b[0m in \u001b[0;36m<cell line: 4>\u001b[0;34m()\u001b[0m\n\u001b[1;32m      2\u001b[0m     \u001b[0;32mreturn\u001b[0m \u001b[0ma\u001b[0m \u001b[0;34m/\u001b[0m \u001b[0mb\u001b[0m\u001b[0;34m\u001b[0m\u001b[0;34m\u001b[0m\u001b[0m\n\u001b[1;32m      3\u001b[0m \u001b[0;34m\u001b[0m\u001b[0m\n\u001b[0;32m----> 4\u001b[0;31m \u001b[0mprint\u001b[0m\u001b[0;34m(\u001b[0m\u001b[0mdivide\u001b[0m\u001b[0;34m(\u001b[0m\u001b[0;36m5\u001b[0m\u001b[0;34m,\u001b[0m \u001b[0;36m0\u001b[0m\u001b[0;34m)\u001b[0m\u001b[0;34m)\u001b[0m\u001b[0;34m\u001b[0m\u001b[0;34m\u001b[0m\u001b[0m\n\u001b[0m",
            "\u001b[0;32m<ipython-input-12-01865cd689ce>\u001b[0m in \u001b[0;36mdivide\u001b[0;34m(a, b)\u001b[0m\n\u001b[1;32m      1\u001b[0m \u001b[0;32mdef\u001b[0m \u001b[0mdivide\u001b[0m\u001b[0;34m(\u001b[0m\u001b[0ma\u001b[0m\u001b[0;34m,\u001b[0m \u001b[0mb\u001b[0m\u001b[0;34m)\u001b[0m\u001b[0;34m:\u001b[0m\u001b[0;34m\u001b[0m\u001b[0;34m\u001b[0m\u001b[0m\n\u001b[0;32m----> 2\u001b[0;31m     \u001b[0;32mreturn\u001b[0m \u001b[0ma\u001b[0m \u001b[0;34m/\u001b[0m \u001b[0mb\u001b[0m\u001b[0;34m\u001b[0m\u001b[0;34m\u001b[0m\u001b[0m\n\u001b[0m\u001b[1;32m      3\u001b[0m \u001b[0;34m\u001b[0m\u001b[0m\n\u001b[1;32m      4\u001b[0m \u001b[0mprint\u001b[0m\u001b[0;34m(\u001b[0m\u001b[0mdivide\u001b[0m\u001b[0;34m(\u001b[0m\u001b[0;36m5\u001b[0m\u001b[0;34m,\u001b[0m \u001b[0;36m0\u001b[0m\u001b[0;34m)\u001b[0m\u001b[0;34m)\u001b[0m\u001b[0;34m\u001b[0m\u001b[0;34m\u001b[0m\u001b[0m\n",
            "\u001b[0;31mZeroDivisionError\u001b[0m: division by zero"
          ]
        }
      ]
    },
    {
      "cell_type": "markdown",
      "source": [
        "In this example, we have a ZeroDivisionError because we tried to divide by zero. The traceback shows the line where the error occurred (----> 2) and the function that caused the error (divide). By examining the traceback, you can locate the problematic code and determine what needs to be fixed."
      ],
      "metadata": {
        "id": "69DimubosONz"
      }
    },
    {
      "cell_type": "markdown",
      "source": [
        "## Rubber duck debugging:\n",
        "Rubber duck debugging is a method where you explain your code line by line to a rubber duck (or any other inanimate object) as if you're teaching it how the code works. The act of verbalizing your thought process and explaining the code out loud can help you discover issues or inconsistencies you didn't notice before.\n",
        "\n",
        "To use rubber duck debugging effectively, follow these steps:\n",
        "\n",
        "1. Place a rubber duck (or any object) on your desk or near your computer.\n",
        "2. Start at the beginning of your code and explain each line or block of code in detail.\n",
        "3. For each line, describe the purpose of the code, what it's doing, and the expected outcome.\n",
        "4. As you explain your code, pay close attention to any assumptions you're making or any parts that feel unclear or confusing.\n",
        "5. Breaking your code into discrete functions (and using Jupyter Notebook cells) can make rubber duck debugging more effective. By focusing on one function or cell at a time, you can dive deep into the logic of your code and identify issues more easily.\n",
        "\n",
        "Remember that different debugging techniques work better for different situations and personal preferences. Start with these three methods, and as you gain experience, you can explore other debugging techniques that suit your needs."
      ],
      "metadata": {
        "id": "2Qnp0thUrtXH"
      }
    },
    {
      "cell_type": "markdown",
      "source": [
        "# Case Study: 13 Ways Of Looking at a Byte\n",
        "### 1\\. As an ASCII character:\n",
        "\n",
        "The American Standard Code for Information Interchange (ASCII) is a character encoding standard that represents text using bytes. Each ASCII character corresponds to a specific byte value, allowing for 128 unique characters, including uppercase and lowercase letters, digits, punctuation marks, and control characters.\n",
        "\n",
        "-   Use Case: Storing and transmitting text in computer systems, such as files, emails, or websites.\n",
        "-   Example:\n",
        "    -   The uppercase letter 'A' is represented by the byte value 65, which is 01000001 in binary.\n",
        "    -   The lowercase letter 'a' is represented by the byte value 97, which is 01100001 in binary.\n",
        "\n",
        "### 2\\. As an unsigned integer:\n",
        "\n",
        "Bytes can represent unsigned integers in the range of 0 to 255. This is because a byte consists of 8 bits, and each bit can have two possible values (0 or 1). Therefore, there are 2^8 = 256 possible combinations, representing integer values from 0 to 255.\n",
        "\n",
        "-   Use Case: Representing small numeric values, such as the length of a string or an index in an array.\n",
        "-   Example:\n",
        "    -   The byte 42 (00101010 in binary) can represent the unsigned integer 42.\n",
        "    -   The byte 255 (11111111 in binary) represents the maximum unsigned integer value that can be stored in a single byte.\n",
        "\n",
        "### 3\\. As a floating-point number:\n",
        "\n",
        "In computing, floating-point numbers are used to represent real numbers. The IEEE 754 standard defines how these numbers are represented using bytes. A single-precision floating-point number, for example, uses 4 bytes.\n",
        "\n",
        "-   Use Case: Representing real numbers with a wide range of values and precision, such as coordinates, measurements, or scientific data.\n",
        "-   Example: A single-precision floating-point number representing the value 1.0 has the following byte representation: `00111111 10000000 00000000 00000000`.\n",
        "\n",
        "### 4\\. As a color:\n",
        "\n",
        "The RGB color model represents colors as a combination of red, green, and blue intensities. Each intensity value can be stored in a byte, allowing for 256 different shades for each color channel. For example, 3 bytes can represent the color (R, G, B).\n",
        "\n",
        "-   Use Case: Storing and displaying digital images, graphics, or user interfaces on computers and other electronic devices.\n",
        "-   Example:\n",
        "    -   An RGB color with the byte values (255, 0, 0) represents pure red.\n",
        "    -   An RGB color with the byte values (0, 255, 0) represents pure green.\n",
        "    -   An RGB color with the byte values (0, 0, 255) represents pure blue.\n",
        "\n",
        "\n",
        "### 5\\.  As a signed integer (two's complement):\n",
        "\n",
        "Two's complement is a method of representing positive and negative integers in binary format. The highest bit of a byte (bit position 7) is used as the sign bit. If the sign bit is '1', the number is negative; if '0', the number is positive. For positive numbers, the binary representation is straightforward. For negative numbers, it's a bit more complex: you take the binary representation of its absolute value, invert all the bits, and add one.\n",
        "\n",
        "Use Case: Representing integers that can be both positive and negative, such as changes in temperature, height differences, or balances in a bank account. Example:\n",
        "\n",
        "-   The byte `42` (`00101010` in binary) represents the signed integer `42` in two's complement.\n",
        "-   The byte `214` (`11010110` in binary) represents the signed integer `-42` in two's complement. To see why, note that inverting `42` (`00101010`) gives you `11010101`, and adding one results in `11010110`"
      ],
      "metadata": {
        "id": "Ig_OpF8NwnyA"
      }
    },
    {
      "cell_type": "markdown",
      "source": [
        "### 5\\. As an instruction in machine code:\n",
        "\n",
        "Each byte can represent a specific instruction in a processor's instruction set. Machine code is a series of bytes that the CPU can directly execute. These bytes are used to encode low-level instructions that control the hardware and are generated by compilers from higher-level programming languages.\n",
        "\n",
        "-   Use Case: Executing low-level operations, such as arithmetic, logic, and control instructions, directly on a computer's CPU.\n",
        "-   Example:\n",
        "    -   The byte `10001010` might represent the assembly language instruction 'ADD', which adds two numbers together.\n",
        "    -   The byte `11001011` might represent the 'JUMP' instruction, which changes the execution flow to a different memory location.\n",
        "\n",
        "### 7\\. As a boolean value:\n",
        "\n",
        "Boolean values represent true or false. A byte can be used to store a boolean value, with 0 representing false and any non-zero value representing true. This allows for efficient storage and manipulation of true/false values.\n",
        "\n",
        "-   Use Case: Storing and manipulating true/false values in data structures, control structures, or conditional statements.\n",
        "-   Example:\n",
        "    -   The byte `00000000` (0 in decimal) can represent the boolean value `false`.\n",
        "    -   The byte `00000001` (1 in decimal) can represent the boolean value `true`.\n",
        "\n",
        "### 8\\. As an address in memory:\n",
        "\n",
        "In computer systems, bytes can represent memory addresses. These addresses act as unique identifiers for data stored in memory, allowing programs to access and manipulate the data.\n",
        "\n",
        "-   Use Case: Accessing and manipulating data in memory, such as variables, arrays, or structures, during program execution.\n",
        "-   Example:\n",
        "    -   A 4-byte sequence, such as `00001000 00000000 00000000 00000000`, might represent the memory address `2048` (in decimal), which stores a specific variable or data element.\n",
        "\n",
        "### 9\\. As a bitmask:\n",
        "\n",
        "Bitmasks are used for bit manipulation and to set or clear specific bits within a byte. A bitmask can be used to enable or disable certain features or settings by applying bitwise operations, such as AND, OR, and XOR.\n",
        "\n",
        "-   Use Case: Controlling hardware settings, managing permissions, or configuring software features using bitwise operations.\n",
        "-   Example:\n",
        "    -   A byte might be used to control the permissions of a file, with each bit representing a specific permission:\n",
        "        -   Bit 0: Read permission\n",
        "        -   Bit 1: Write permission\n",
        "        -   Bit 2: Execute permission\n",
        "    -   To grant read and write permissions but not execute, the byte would be `00000110` (6 in decimal)."
      ],
      "metadata": {
        "id": "J7urY6JKxEk8"
      }
    },
    {
      "cell_type": "markdown",
      "source": [
        "### 10\\. As an audio sample:\n",
        "\n",
        "Digital audio is stored as a series of bytes representing the amplitude of a sound wave at a specific point in time. For example, in pulse-code modulation (PCM) audio format, each byte can represent an audio sample.\n",
        "\n",
        "-   Use Case: Storing and processing digital audio data in formats like WAV or AIFF, and for playback or manipulation in software or hardware devices.\n",
        "-   Example: In 8-bit PCM audio, a byte value of `01111111` (127 in decimal) might represent a specific amplitude level of a sound wave at a particular point in time.\n",
        "\n",
        "### 11\\. As a file format identifier:\n",
        "\n",
        "File signatures, or \"magic numbers,\" are specific byte sequences that identify the format of a file. These sequences are often found at the beginning of a file and help software determine how to properly interpret the file's contents.\n",
        "\n",
        "-   Use Case: Identifying the format of a file, allowing software to open and process files correctly, and preventing file corruption or misinterpretation.\n",
        "-   Example: A JPEG file begins with the byte sequence `0xFF 0xD8`, which identifies it as a JPEG image.\n",
        "\n",
        "### 12\\. As a networking protocol header:\n",
        "\n",
        "In computer networking, bytes are used to structure and identify different parts of network packets. These packets are used to transmit data over the internet or local networks.\n",
        "\n",
        "-   Use Case: Structuring and processing network packets in various protocols, such as IP, TCP, or UDP, to enable reliable and efficient data communication between devices.\n",
        "-   Example: In the Internet Protocol (IP), the first byte of a packet might indicate the version (IPv4 or IPv6) and header length, helping routers and other networking devices understand how to process the packet.\n",
        "\n",
        "### 13\\. As a DNA base pair:\n",
        "\n",
        "In bioinformatics, digital representations of genetic information can be stored using bytes. Each byte can encode a specific DNA base pair (adenine (A), thymine (T), cytosine (C), or guanine (G)). This allows for efficient storage and analysis of genetic data in computer systems.\n",
        "\n",
        "-   Use Case: Storing, analyzing, and manipulating genetic data in fields such as genomics, molecular biology, or personalized medicine.\n",
        "-   Example: If each DNA base pair is represented by two bits, a byte can store four base pairs. For instance, the byte `01011011` could represent the DNA sequence \"ACTG\"."
      ],
      "metadata": {
        "id": "NNf0ALdKxdkj"
      }
    },
    {
      "cell_type": "markdown",
      "source": [
        "## Discussion Questions: 13 Ways of Looking at a Byte\n",
        "\n",
        "\n",
        "1. The ASCII code helps computers understand text. Have you ever encountered a situation where text was displayed incorrectly on a device or website? What do you think might have caused this?\n",
        "\n",
        "2. When dealing with real numbers, precision matters. Can you think of any applications, such as scientific research or video game development, where the precision of floating-point numbers would be crucial? How might a lack of precision affect the outcome?\n",
        "\n",
        "3. How do you think the ability to represent colors as bytes has revolutionized the world of digital art and design? However, doing so always requires we sacrifice some of the \"details\" of the original (analog) art. How do you think this has affected art?\n",
        "\n",
        "4. How might the use of boolean values in controlling true/false conditions reflect the way we make decisions in life? Can you think of examples where you use a binary yes/no approach in your own decision-making?\n",
        "\n",
        "5. The digital representation of genetic information is a merging of biology and computer science. How do you feel about the idea of encoding life's building blocks in bytes? Can you think of ethical considerations or exciting possibilities in areas like personalized medicine or genetic research?\n"
      ],
      "metadata": {
        "id": "LLMDgNQHcRlk"
      }
    },
    {
      "cell_type": "markdown",
      "source": [
        "## Quizlet Flashcards\n",
        "Click the following cell to launch the flashcards for this chapter."
      ],
      "metadata": {
        "id": "9S32432wSjYX"
      }
    },
    {
      "cell_type": "code",
      "source": [
        "%%html\n",
        "<iframe src=\"https://quizlet.com/818648180/learn/embed?i=psvlh&x=1jj1\" height=\"600\" width=\"100%\" style=\"border:0\"></iframe>"
      ],
      "metadata": {
        "id": "sPWYA8SUSrFT",
        "outputId": "ceb3b709-e48e-4744-ddfb-377abe89a305",
        "colab": {
          "base_uri": "https://localhost:8080/",
          "height": 622
        }
      },
      "execution_count": null,
      "outputs": [
        {
          "output_type": "display_data",
          "data": {
            "text/plain": [
              "<IPython.core.display.HTML object>"
            ],
            "text/html": [
              "<iframe src=\"https://quizlet.com/818648180/learn/embed?i=psvlh&x=1jj1\" height=\"600\" width=\"100%\" style=\"border:0\"></iframe>\n"
            ]
          },
          "metadata": {}
        }
      ]
    },
    {
      "cell_type": "markdown",
      "source": [
        "## Your Anwers: 13 Ways of Looking at a Byte\n",
        "1.\n",
        "\n",
        "2.\n",
        "\n",
        "3.\n",
        "\n",
        "4.\n",
        "\n",
        "5."
      ],
      "metadata": {
        "id": "y7VuHrBJ1uom"
      }
    },
    {
      "cell_type": "code",
      "source": [],
      "metadata": {
        "id": "rNKDEkHQghDZ"
      },
      "execution_count": null,
      "outputs": []
    },
    {
      "cell_type": "markdown",
      "source": [
        "## Glossary\n",
        "\n",
        "| Term | Definition |\n",
        "| --- | --- |\n",
        "| Data type | Defines the kind of value a variable can hold in a programming language, such as integers, strings, or booleans. |\n",
        "| Dynamic typing | A type system that allows variables to hold values of different types and the type is checked at runtime. |\n",
        "| Static typing | A type system where the type of a variable is known and checked at compile time. |\n",
        "| Casting | The process of converting one data type into another, e.g., converting a string to an integer. |\n",
        "| Unsigned integer | A whole number that can only be zero or positive; it does not have a sign bit. |\n",
        "| Two's complement | A binary number system used to represent positive and negative integers, where the most significant bit is used as a sign bit. |\n",
        "| IEEE 754 standard | A technical standard for floating-point computation, established by the Institute of Electrical and Electronics Engineers (IEEE). |\n",
        "| Integer | A data type that represents a whole number, which can be either positive or negative. |\n",
        "| Modulus (%) | An operation that finds the remainder of division of one number by another. |\n",
        "| Return value | The result produced by a function, which is sent back to the caller when the function completes. |\n",
        "| Exception trace | A report providing information about the state of a program at the time an exception was thrown, often showing the sequence of function calls leading up to the exception. |\n",
        "| Rubber duck debugging | A method of debugging code, where a programmer explains their code line by line to an inanimate object (like a rubber duck) to help find issues. |\n",
        "| Bitmask | A sequence of bits used to manipulate or test other bits through bitwise operations. |\n",
        "| File signature (\"magic number\") | A unique sequence of bytes at the beginning of a file used to identify or verify the file type. |\n",
        "| Network protocol header | The part of a network packet that contains information about the packet's data, like its origin, destination, and size. |"
      ],
      "metadata": {
        "id": "lymAS5NrgcZX"
      }
    }
  ]
}