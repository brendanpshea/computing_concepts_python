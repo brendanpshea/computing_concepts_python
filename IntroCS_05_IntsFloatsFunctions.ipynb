{
  "nbformat": 4,
  "nbformat_minor": 0,
  "metadata": {
    "colab": {
      "provenance": [],
      "authorship_tag": "ABX9TyP4P92JD9YbZe6ruIVuAtId",
      "include_colab_link": true
    },
    "kernelspec": {
      "name": "python3",
      "display_name": "Python 3"
    },
    "language_info": {
      "name": "python"
    }
  },
  "cells": [
    {
      "cell_type": "markdown",
      "metadata": {
        "id": "view-in-github",
        "colab_type": "text"
      },
      "source": [
        "<a href=\"https://colab.research.google.com/github/brendanpshea/computing_concepts_python/blob/main/IntroCS_05_IntsFloatsFunctions.ipynb\" target=\"_parent\"><img src=\"https://colab.research.google.com/assets/colab-badge.svg\" alt=\"Open In Colab\"/></a>"
      ]
    },
    {
      "cell_type": "markdown",
      "source": [
        "# Python: Data Types and Functions\n",
        "## Brendan Shea, PhD (Brendan.Shea@rctc.edu)\n",
        "\n",
        " In this lesson, we will explore the concept of \"data types\" and \"functions\" using Python as an example. Data types are an essential building block in programming, as they help us understand and organize the different kinds of information our code will work with. Don't worry if you're new to programming; we'll start with the basics.\n",
        "\n",
        "\n",
        "\n"
      ],
      "metadata": {
        "id": "8pjlMlaDgkdq"
      }
    },
    {
      "cell_type": "markdown",
      "source": [
        "## Brendan's Lecture\n"
      ],
      "metadata": {
        "id": "feajCySMAu8H"
      }
    },
    {
      "cell_type": "code",
      "source": [
        "from IPython.display import YouTubeVideo\n",
        "YouTubeVideo('nH-wnhKSGps', width=1000, height=600)"
      ],
      "metadata": {
        "id": "xeBYQOiKDFhb",
        "outputId": "11470cf2-06b4-4614-d03a-5aa50e238ab8",
        "colab": {
          "base_uri": "https://localhost:8080/",
          "height": 621
        }
      },
      "execution_count": null,
      "outputs": [
        {
          "output_type": "execute_result",
          "data": {
            "text/plain": [
              "<IPython.lib.display.YouTubeVideo at 0x7fbc7de83730>"
            ],
            "text/html": [
              "\n",
              "        <iframe\n",
              "            width=\"1000\"\n",
              "            height=\"600\"\n",
              "            src=\"https://www.youtube.com/embed/nH-wnhKSGps\"\n",
              "            frameborder=\"0\"\n",
              "            allowfullscreen\n",
              "            \n",
              "        ></iframe>\n",
              "        "
            ]
          },
          "metadata": {},
          "execution_count": 100
        }
      ]
    },
    {
      "cell_type": "markdown",
      "source": [
        "## Data Types\n",
        "As we've discussed earlier, Python is a popular, user-friendly programming language known for its simplicity and readability. One of its key features is that it is **dynamically typed.** This means that Python automatically identifies the type of data you're working with, making it easier for beginners to start coding without worrying about specifying data types beforehand.\n",
        "\n",
        "In Python, some common data types are:\n",
        "\n",
        "| Data Type | Description | Example |\n",
        "| --- | --- | --- |\n",
        "| Integer (`int`) | A whole number, positive or negative, without decimals, of unlimited length. | `x = 10` |\n",
        "| Float (`float`) | A number, positive or negative, containing one or more decimals. | `y = 7.5` |\n",
        "| String (`str`) | A sequence of Unicode characters. Enclosed in either single quotes or double quotes. | `name = \"Carnap\"` |\n",
        "| Boolean (`bool`) | Data type with two built-in values: `True` or `False`. | `is_true = False` |\n",
        "| List (`list`) | A collection which is ordered and changeable. Allows duplicate members. | `fruits = ['apple', 'banana', 'cherry']` |\n",
        "| Tuple (`tuple`) | A collection which is ordered and unchangeable. Allows duplicate members. | `colors = ('red', 'blue', 'green')` |\n",
        "| Set (`set`) | A collection which is unordered and unindexed. No duplicate members. | `cars = {'Toyota', 'Ford', 'Tesla'}` |\n",
        "| Dictionary (`dict`) | A collection which is unordered, changeable and indexed. No duplicate members. It's a key-value pair. | `student = {'name': 'Carnap', 'age': 20}` |\n",
        "| None (`NoneType`) | A special data type representing the absence of a value or a null value. | `x = None` |\n",
        "\n",
        "\n",
        "As Python is dynamically typed, you don't need to explicitly specify the data type when creating a variable. For example, to assign the integer value 5 to a variable named 'x', you can simply write: `x = 5`.  Python will understand that 'x' is an integer, and store it accordingly.\n",
        "\n"
      ],
      "metadata": {
        "id": "zvNP1mU9Ao4J"
      }
    },
    {
      "cell_type": "markdown",
      "source": [
        "## Integers\n",
        "An integer is a whole number, which means it doesn't have any decimal places. Integers can be positive, negative, or zero. In Python, integers are one of the basic data types that you can use to represent and work with numbers.\n",
        "\n",
        "Here are some examples of integers:\n",
        "```\n",
        "0\n",
        "42\n",
        "-7\n",
        "1234\n",
        "```\n",
        "\n",
        "You can use integers to perform arithmetic operations like addition, subtraction, multiplication, and division. Python also provides some additional operations that are specifically designed to work with integers, like floor division and modulus.\n",
        "\n",
        "Here's a simple example using integers in Python:"
      ],
      "metadata": {
        "id": "rVen51aWAq-_"
      }
    },
    {
      "cell_type": "code",
      "source": [
        "barbie_height = 116  # Barbie's height in centimeters\n",
        "ken_height = 120  # Ken's height in centimeters\n",
        "\n",
        "print(f\"The sum of the heights is {barbie_height + ken_height} cm\")\n",
        "print(f\"The difference in height is {ken_height - barbie_height} cm\")\n",
        "print(f\"Triple Barbie's height is {barbie_height * 3} cm\")\n",
        "print(f\"Ken's height as a multiple of Barbie's height is {ken_height / barbie_height}\")\n",
        "print(f\"The number of whole Barbies fitting into Ken's height is {ken_height // barbie_height}\")\n",
        "print(f\"The remainder when Ken's height is divided by Barbie's height is {ken_height % barbie_height} cm\")\n"
      ],
      "metadata": {
        "id": "48IyukJzg7-x",
        "colab": {
          "base_uri": "https://localhost:8080/"
        },
        "outputId": "381c767a-91d1-401b-8c89-f3fe7a83818b"
      },
      "execution_count": 1,
      "outputs": [
        {
          "output_type": "stream",
          "name": "stdout",
          "text": [
            "The sum of the heights is 236 cm\n",
            "The difference in height is 4 cm\n",
            "Triple Barbie's height is 348 cm\n",
            "Ken's height as a multiple of Barbie's height is 1.0344827586206897\n",
            "The number of whole Barbies fitting into Ken's height is 1\n",
            "The remainder when Ken's height is divided by Barbie's height is 4 cm\n"
          ]
        }
      ]
    },
    {
      "cell_type": "markdown",
      "source": [
        "Remember, integers are whole numbers without any decimal places. If you want to work with numbers that have decimal places, you'll need to use another data type called \"float\", which we'll talk about later."
      ],
      "metadata": {
        "id": "KL5lzr_HpsTf"
      }
    },
    {
      "cell_type": "markdown",
      "source": [
        "# Floating Point Numbers\n",
        "A floating-point number, often called a \"float\", is a number that has a decimal point. Floats can represent real numbers, which include both whole numbers and numbers with fractional parts. In Python, floats are one of the basic data types you can use to represent and work with numbers that have decimal places.\n",
        "\n",
        "Here are some examples of floating-point numbers:\n",
        "\n",
        "* 3.14\n",
        "* 0.001\n",
        "* -2.5\n",
        "* 42.0 (even though it looks like a whole number, the \".0\" makes it a float)\n",
        "You can use floats to perform arithmetic operations like addition, subtraction, multiplication, and division. Floats can provide more precise results when working with numbers that have fractional parts, as opposed to integers, which are limited to whole numbers.\n",
        "\n",
        "Here's a simple example using floating-point numbers in Python:\n"
      ],
      "metadata": {
        "id": "75P50ZiJi0BV"
      }
    },
    {
      "cell_type": "code",
      "source": [
        "planck_constant = 6.62607015e-34  # Planck constant in m^2 kg / s\n",
        "speed_of_light = 3.00e8  # Speed of light in m / s\n",
        "electron_mass = 9.10938356e-31  # Electron mass in kg\n",
        "\n",
        "# Addition: Sum of constants as a hypothetical operation\n",
        "print(f\"Sum of Planck constant and speed of light: {planck_constant + speed_of_light} m^2 kg/s^2\")\n",
        "\n",
        "# Subtraction: Difference between speed of light and electron mass, hypothetically\n",
        "print(f\"Difference between speed of light and electron mass: {speed_of_light - electron_mass} m/s\")\n",
        "\n",
        "# Multiplication: Product of Planck constant and speed of light\n",
        "print(f\"Product of Planck constant and speed of light: {planck_constant * speed_of_light} m^3 kg / s^2\")\n",
        "\n",
        "# Division: Planck constant divided by electron mass\n",
        "print(f\"Planck constant divided by electron mass: {planck_constant / electron_mass} m^2 s^-1\")\n",
        "\n",
        "# Exponentiation: Speed of light raised to the power of 2, representing squared speed\n",
        "print(f\"Speed of light squared: {speed_of_light ** 2} m^2 / s^2\")\n"
      ],
      "metadata": {
        "id": "_O2J7zlpjHaW",
        "colab": {
          "base_uri": "https://localhost:8080/"
        },
        "outputId": "c2365dab-ecb0-4bf7-a55e-576bdc62d85c"
      },
      "execution_count": 2,
      "outputs": [
        {
          "output_type": "stream",
          "name": "stdout",
          "text": [
            "Sum of Planck constant and speed of light: 300000000.0 m^2 kg/s^2\n",
            "Difference between speed of light and electron mass: 300000000.0 m/s\n",
            "Product of Planck constant and speed of light: 1.9878210449999999e-25 m^3 kg / s^2\n",
            "Planck constant divided by electron mass: 0.0007273895216242273 m^2 s^-1\n",
            "Speed of light squared: 9e+16 m^2 / s^2\n"
          ]
        }
      ]
    },
    {
      "cell_type": "markdown",
      "source": [
        "In this example, we assigned two floating-point numbers (5.5 and 2.0) to variables num1 and num2. We then performed some basic arithmetic operations (addition, subtraction, multiplication, and division) and printed the results using f-strings.\n",
        "\n",
        "It's important to note that floating-point numbers have limitations when it comes to representing numbers precisely. Due to the way they are stored internally, some numbers can't be represented exactly, which can lead to small rounding errors when performing calculations. This is usually not a problem for most applications, but it's something to be aware of when working with floats."
      ],
      "metadata": {
        "id": "M5e-PFtzqZaV"
      }
    },
    {
      "cell_type": "markdown",
      "source": [
        "\n",
        "## Casting to Float\n",
        " To get a floating-point number from a user, you can use the input() function to read a string from the user, and then \"cast\" the string to a float using the float() function. Here's an example of how to get a floating-point number from a user:\n",
        "\n",
        "\n"
      ],
      "metadata": {
        "id": "jqKzLd1kqTn2"
      }
    },
    {
      "cell_type": "code",
      "source": [
        "# Get input from the user as a string\n",
        "user_input = input(\"Please enter a number with a decimal point: \")\n",
        "\n",
        "# Cast the input string to a float\n",
        "number = float(user_input)\n",
        "\n",
        "# Perform some operation, like squaring the number\n",
        "squared_number = number ** 2\n",
        "\n",
        "# Print the result\n",
        "print(f\"The squared number is: {squared_number}\")"
      ],
      "metadata": {
        "id": "B6mEtMLJja48",
        "colab": {
          "base_uri": "https://localhost:8080/"
        },
        "outputId": "a29b77be-3222-431f-c123-139465f4e7dc"
      },
      "execution_count": null,
      "outputs": [
        {
          "output_type": "stream",
          "name": "stdout",
          "text": [
            "Please enter a number with a decimal point: 7.89\n",
            "The squared number is: 62.25209999999999\n"
          ]
        }
      ]
    },
    {
      "cell_type": "markdown",
      "source": [
        "In this example, we first use the input() function to get a string from the user. We then cast the string to a floating-point number using the float() function. Finally, we perform an operation on the float (in this case, squaring it) and print the result.\n",
        "\n",
        "Remember to use the float() function to cast the user's input to a floating-point number, as the input() function always returns a string. If you don't do this, you'll run into errors when trying to perform arithmetic operations with the input."
      ],
      "metadata": {
        "id": "no-P7o59qmQF"
      }
    },
    {
      "cell_type": "code",
      "source": [
        "# Floats are imprecise\n",
        "result = 0.1 + 0.2\n",
        "print(result)"
      ],
      "metadata": {
        "id": "zI7fUbo6h_h-"
      },
      "execution_count": null,
      "outputs": []
    },
    {
      "cell_type": "markdown",
      "source": [
        "# Arithmetic For Floats and Ints\n",
        "In Python, you can perform arithmetic operations using the standard arithmetic operators. Here's a quick overview of the basic arithmetic operators:\n",
        "\n",
        "- **Addition (+):** Use the + operator to add two numbers.\n",
        "\n",
        "- **Subtraction (-):** Use the - operator to subtract one number from another.\n",
        "\n",
        "- **Multiplication (*):** Use the * operator to multiply two numbers.\n",
        "\n",
        "- **Division (/):** Use the / operator to divide one number by another. The result will be a floating-point number.\n",
        "-  **Floor Division (//):** Use the // operator to perform floor division, which gives the largest whole number less than or equal to the result of the division.\n",
        "- **Modulus (%):** Use the % operator to find the remainder of a division.\n",
        "- **Exponentiation (**):** Use the ** operator to raise one number to the power of another.\n",
        "\n",
        "These are the basic arithmetic operators in Python that you can use to perform calculations with numbers. You can also use parentheses to control the order of operations:\n",
        "italicized text\n",
        "Below, I've provided a basic Python program that asks the user for two integers and then prints out the result of basic arithmetic operations on them using f-strings"
      ],
      "metadata": {
        "id": "tc0QE-SNgfRk"
      }
    },
    {
      "cell_type": "code",
      "source": [
        "# a basic Python program that asks the user for two integers and\n",
        "# then prints out the result of basic arithmetic operations on them using f-strings\n",
        "\n",
        "# Get input from the user\n",
        "num1 = int(input(\"Please enter the first integer: \"))\n",
        "num2 = int(input(\"Please enter the second integer: \"))\n",
        "\n",
        "# Perform some arithmetic operations\n",
        "division = num1 / num2\n",
        "floor_division = num1 // num2\n",
        "modulus = num1 % num2\n",
        "exponentiation = num1 ** num2\n",
        "\n",
        "# Print the results using f-strings\n",
        "print(f\"The quotient of {num1} divided by {num2} is: {division}\")\n",
        "print(f\"The floor division of {num1} and {num2} is: {floor_division}\")\n",
        "print(f\"The remainder of {num1} divided by {num2} is: {modulus}\")\n",
        "print(f\"{num1} raised to the power of {num2} is: {exponentiation}\")"
      ],
      "metadata": {
        "id": "Gu_LZjbFgg_6",
        "colab": {
          "base_uri": "https://localhost:8080/"
        },
        "outputId": "d45ceaf7-8838-42db-b932-085eaf26f1b4"
      },
      "execution_count": null,
      "outputs": [
        {
          "output_type": "stream",
          "name": "stdout",
          "text": [
            "Please enter the first integer: 39\n",
            "Please enter the second integer: 4\n",
            "The quotient of 39 divided by 4 is: 9.75\n",
            "The floor division of 39 and 4 is: 9\n",
            "The remainder of 39 divided by 4 is: 3\n",
            "39 raised to the power of 4 is: 2313441\n"
          ]
        }
      ]
    },
    {
      "cell_type": "markdown",
      "source": [
        "## What is a Python List?\n",
        "In Python, a **list** is an ordered collection of items. These items can be of differing types---integers, strings, floats, or even other lists. Picture Hermione Granger's magical bag in the \"Harry Potter\" series. She pulls out books, a tent, potions, and more, all from the same bag. Similarly, a Python list can store a mixed array of items.\n",
        "\n",
        "Here's an example featuring Socrates, the Athenian philosopher. Suppose he had a list named `socratic_elements`, and it contained a question, an integer representing the number of dialogues he's penned, and a Boolean to indicate if he's willing to drink hemlock:"
      ],
      "metadata": {
        "id": "MVbaE1uA30iK"
      }
    },
    {
      "cell_type": "code",
      "source": [
        "socratic_elements = [\"What is justice?\", 33, True]"
      ],
      "metadata": {
        "id": "O4wMnkiO31J6"
      },
      "execution_count": null,
      "outputs": []
    },
    {
      "cell_type": "markdown",
      "source": [
        "### How Do You Create and Modify Lists?\n",
        "\n",
        "Creating a list in Python is simple: encase your comma-separated values within square brackets. Adding and removing items is straightforward as well. Python provides methods like `append()` for adding items and `remove()` for taking them out.\n",
        "\n",
        "Take the case of Scheherazade, the storyteller from \"One Thousand and One Nights.\" She could have a list of the types of stories she tells:"
      ],
      "metadata": {
        "id": "M8I9C_O43-ny"
      }
    },
    {
      "cell_type": "code",
      "source": [
        "story_types = [\"Fable\", \"Action\", \"Romance\", \"Adventure\", \"Horror\"]"
      ],
      "metadata": {
        "id": "0kk_H74r3_JK"
      },
      "execution_count": null,
      "outputs": []
    },
    {
      "cell_type": "markdown",
      "source": [
        "She'd now like to add mythology and remove Horror. She can do so as follows:"
      ],
      "metadata": {
        "id": "aull3Suk4CoA"
      }
    },
    {
      "cell_type": "code",
      "source": [
        "story_types.append(\"Mythology\")\n",
        "story_types.remove(\"Horror\")"
      ],
      "metadata": {
        "id": "pdcCe-qA4DTw"
      },
      "execution_count": null,
      "outputs": []
    },
    {
      "cell_type": "markdown",
      "source": [
        "The updated list would now be:"
      ],
      "metadata": {
        "id": "eByYqg6h4Ha4"
      }
    },
    {
      "cell_type": "code",
      "source": [
        "print(story_types)"
      ],
      "metadata": {
        "colab": {
          "base_uri": "https://localhost:8080/"
        },
        "id": "qekLM2W04IBA",
        "outputId": "72bc42fe-4c13-415f-f531-aa754c7675cf"
      },
      "execution_count": null,
      "outputs": [
        {
          "output_type": "stream",
          "name": "stdout",
          "text": [
            "['Fable', 'Action', 'Romance', 'Adventure', 'Mythology']\n"
          ]
        }
      ]
    },
    {
      "cell_type": "markdown",
      "source": [
        "## Shuri's Lists\n",
        " Let's suppose that Shuri, the current Black Panther, maintains two key lists: one cataloging her various inventions, and another indicating their efficiency ratings, measured on a scale from 0 to 10."
      ],
      "metadata": {
        "id": "yURdnYLQ8utS"
      }
    },
    {
      "cell_type": "code",
      "source": [
        "inventions = [\"Kimoyo Beads\", \"Panther Habit\", \"Remote Driving System\", \"Sneakers\",\n",
        "              \"Energy Spear\", \"Vibranium Gauntlets\", \"Dragon Flyer\", \"Medical Scanner\",\n",
        "              \"War Rhinos\", \"Holotable\", \"Talons\", \"Vibranium Mine Detector\"]\n",
        "efficiency_ratings = [9.8, 9.7, 8.5, 9.0, 8.8, 9.4, 7.9, 9.3, 8.2, 9.1, 7.7, 9.6]"
      ],
      "metadata": {
        "id": "G6aRNYr-817C"
      },
      "execution_count": null,
      "outputs": []
    },
    {
      "cell_type": "markdown",
      "source": [
        "### List Indexing and Slicing\n",
        "\n",
        "In Python, list indexing begins with 0 for the first item, 1 for the second, and so on. Conversely, negative indices start from the end: -1 for the last item, -2 for the second-to-last, and so on. Thus, if Shuri wishes to know the efficiency of her \"Energy Spear,\" she could use its index from the `inventions` list to find the corresponding rating in the `efficiency_ratings` list."
      ],
      "metadata": {
        "id": "Qq4QjIQF86bQ"
      }
    },
    {
      "cell_type": "code",
      "source": [
        "# Accessing an item using a positive index\n",
        "rating_energy_spear = efficiency_ratings[4]  # 'Energy Spear' is at index 4\n",
        "print(f\"The Energy Spear has an efficiency rating of {rating_energy_spear}.\")\n",
        "\n",
        "# Accessing an item using a negative index\n",
        "rating_last_invention = efficiency_ratings[-1]  # 'Vibranium Mine Detector' is the last item\n",
        "print(f\"The last invention on the list has an efficiency rating of {rating_last_invention}.\")\n"
      ],
      "metadata": {
        "colab": {
          "base_uri": "https://localhost:8080/"
        },
        "id": "B1qnZODE8uRS",
        "outputId": "a8d9d6e5-12e9-46e6-8a18-5a61e445bc27"
      },
      "execution_count": null,
      "outputs": [
        {
          "output_type": "stream",
          "name": "stdout",
          "text": [
            "The Energy Spear has an efficiency rating of 8.8.\n",
            "The last invention on the list has an efficiency rating of 9.6.\n"
          ]
        }
      ]
    },
    {
      "cell_type": "markdown",
      "source": [
        "**List slicing** allows you to access a range of items. If Shuri wants to see the efficiency ratings for the first three inventions, she could slice the list accordingly."
      ],
      "metadata": {
        "id": "l2DkxnN28-K4"
      }
    },
    {
      "cell_type": "code",
      "source": [
        "first_three_ratings = efficiency_ratings[:3]  # This will give us the first three ratings\n",
        "print(f\"The first three inventions have efficiency ratings of {first_three_ratings}.\")"
      ],
      "metadata": {
        "colab": {
          "base_uri": "https://localhost:8080/"
        },
        "id": "YM2rvABQ9Bp2",
        "outputId": "f6ded500-8374-4c71-a647-9346ba5ec4ee"
      },
      "execution_count": null,
      "outputs": [
        {
          "output_type": "stream",
          "name": "stdout",
          "text": [
            "The first three inventions have efficiency ratings of [9.8, 9.7, 8.5].\n"
          ]
        }
      ]
    },
    {
      "cell_type": "markdown",
      "source": [
        "We can also **modify** lists using the index:"
      ],
      "metadata": {
        "id": "6oRo7K3a9I7u"
      }
    },
    {
      "cell_type": "code",
      "source": [
        "# Modify the efficiency rating for \"Medical Scanner\"\n",
        "efficiency_ratings[7] = 9.9  # 'Medical Scanner' is at index 7\n",
        "print(f\"The updated efficiency rating of the Medical Scanner is {efficiency_ratings[7]}.\")"
      ],
      "metadata": {
        "colab": {
          "base_uri": "https://localhost:8080/"
        },
        "id": "YIbXuxFW9IYe",
        "outputId": "ea5fe96c-009f-453c-ae54-83c5e16ac776"
      },
      "execution_count": null,
      "outputs": [
        {
          "output_type": "stream",
          "name": "stdout",
          "text": [
            "The updated efficiency rating of the Medical Scanner is 9.9.\n"
          ]
        }
      ]
    },
    {
      "cell_type": "markdown",
      "source": [
        "Finally, we can use `in` to check whether something is in the list."
      ],
      "metadata": {
        "id": "K0YtqATq9Xkw"
      }
    },
    {
      "cell_type": "code",
      "source": [
        "# Check if \"Energy Spear\" is in the inventions list\n",
        "exists_energy_spear = \"Energy Spear\" in inventions\n",
        "print(f\"Does the list contain the Energy Spear? {exists_energy_spear}\")"
      ],
      "metadata": {
        "colab": {
          "base_uri": "https://localhost:8080/"
        },
        "id": "ntlFo-0T9WAQ",
        "outputId": "fa5f9df1-b709-4ac4-a90e-8ea773987c68"
      },
      "execution_count": null,
      "outputs": [
        {
          "output_type": "stream",
          "name": "stdout",
          "text": [
            "Does the list contain the Energy Spear? True\n"
          ]
        }
      ]
    },
    {
      "cell_type": "markdown",
      "source": [
        "## Data Types Matter!\n",
        "Here are some examples of errors that might occur if you don't use the right data type in your Python code:\n",
        "\n",
        "In this example, we're trying to add a number (integer) and a string, which is not allowed in Python. This will raise a TypeError with the message \"unsupported operand type(s) for +: 'int' and 'str'\"."
      ],
      "metadata": {
        "id": "JQ15Pfv4hocH"
      }
    },
    {
      "cell_type": "code",
      "source": [
        "# Raises a TypeError\n",
        "num = 5\n",
        "text = \"Hello\"\n",
        "result = num + text"
      ],
      "metadata": {
        "id": "939jn_Qth2T_",
        "colab": {
          "base_uri": "https://localhost:8080/",
          "height": 210
        },
        "outputId": "b063ccbb-2052-4c92-ff70-427bbe6a2430"
      },
      "execution_count": null,
      "outputs": [
        {
          "output_type": "error",
          "ename": "TypeError",
          "evalue": "ignored",
          "traceback": [
            "\u001b[0;31m---------------------------------------------------------------------------\u001b[0m",
            "\u001b[0;31mTypeError\u001b[0m                                 Traceback (most recent call last)",
            "\u001b[0;32m<ipython-input-5-9186c930de69>\u001b[0m in \u001b[0;36m<cell line: 4>\u001b[0;34m()\u001b[0m\n\u001b[1;32m      2\u001b[0m \u001b[0mnum\u001b[0m \u001b[0;34m=\u001b[0m \u001b[0;36m5\u001b[0m\u001b[0;34m\u001b[0m\u001b[0;34m\u001b[0m\u001b[0m\n\u001b[1;32m      3\u001b[0m \u001b[0mtext\u001b[0m \u001b[0;34m=\u001b[0m \u001b[0;34m\"Hello\"\u001b[0m\u001b[0;34m\u001b[0m\u001b[0;34m\u001b[0m\u001b[0m\n\u001b[0;32m----> 4\u001b[0;31m \u001b[0mresult\u001b[0m \u001b[0;34m=\u001b[0m \u001b[0mnum\u001b[0m \u001b[0;34m+\u001b[0m \u001b[0mtext\u001b[0m\u001b[0;34m\u001b[0m\u001b[0;34m\u001b[0m\u001b[0m\n\u001b[0m",
            "\u001b[0;31mTypeError\u001b[0m: unsupported operand type(s) for +: 'int' and 'str'"
          ]
        }
      ]
    },
    {
      "cell_type": "markdown",
      "source": [
        "In this example, we're trying to cast a string containing a floating-point number (\"3.14\") to an integer using the int() function. This is not allowed and will raise a ValueError with the message \"invalid literal for int() with base 10: '3.14'\". To fix this, you can first cast the string to a float using the float() function and then cast the float to an integer.\n"
      ],
      "metadata": {
        "id": "l8EyKZdjx9Kp"
      }
    },
    {
      "cell_type": "code",
      "source": [
        "# Raises a ValueError\n",
        "user_input = \"3.14\"\n",
        "number = int(user_input)"
      ],
      "metadata": {
        "id": "H92P6850h6Bm"
      },
      "execution_count": null,
      "outputs": []
    },
    {
      "cell_type": "markdown",
      "source": [
        "In this example, the result of adding 0.1 and 0.2 is not exactly 0.3 due to the internal representation of floating-point numbers. This can be a source of confusion and can lead to errors in your code if you're not careful when working with floats."
      ],
      "metadata": {
        "id": "WFttSWt5x-_P"
      }
    },
    {
      "cell_type": "markdown",
      "source": [
        "# Defining Your Own Functions\n",
        "Defining your own functions in Python is a great way to organize your code and reuse parts of it. Functions are blocks of code that perform a specific task and can be called by name. To define a function, you use the def keyword, followed by the function name, parentheses, and a colon. The code inside the function is indented to indicate that it belongs to the function.\n",
        "\n",
        "Here's a simple example of defining and using a function in Python:\n",
        "\n",
        "\n"
      ],
      "metadata": {
        "id": "374nk-tGj_-h"
      }
    },
    {
      "cell_type": "code",
      "source": [
        "# Define a function called 'greet'\n",
        "def greet(name):\n",
        "    message = f\"Hello, {name}!\"\n",
        "    print(message)"
      ],
      "metadata": {
        "id": "Gt9us4EcgjSz"
      },
      "execution_count": null,
      "outputs": []
    },
    {
      "cell_type": "code",
      "source": [
        "# Call the function twice\n",
        "greet(\"Cookie Monster\")\n",
        "greet(\"Gonger\")"
      ],
      "metadata": {
        "id": "HpSYSehR51b8",
        "outputId": "07f57ebb-b56c-4d73-92d2-bcbfe38ed11d",
        "colab": {
          "base_uri": "https://localhost:8080/"
        }
      },
      "execution_count": null,
      "outputs": [
        {
          "output_type": "stream",
          "name": "stdout",
          "text": [
            "Hello, Cookie Monster!\n",
            "Hello, Gonger!\n"
          ]
        }
      ]
    },
    {
      "cell_type": "markdown",
      "source": [
        "In this example, we defined a function called greet that takes one parameter, name. The function creates a greeting message using an f-string and prints it. After defining the function, we called it twice with different arguments (\"Alice\" and \"Bob\") to demonstrate how it works.\n",
        "\n",
        "Here are some key points to remember when defining functions in Python:\n",
        "\n",
        "1. Use the def keyword to start defining a function.\n",
        "2. Choose a meaningful name for your function that describes what it does.\n",
        "3. Put parentheses after the function name, and include any parameters the function needs inside the parentheses.\n",
        "4. End the function definition with a colon.\n",
        "5. Indent the code inside the function by one level (usually 4 spaces) to indicate that it belongs to the function.\n",
        "6. To call the function, use its name followed by parentheses, and include any arguments the function needs inside the parentheses.\n",
        "\n",
        "Defining your own functions allows you to create reusable blocks of code that can be easily maintained and modified. It's an essential skill to learn when programming in Python or any other programming language."
      ],
      "metadata": {
        "id": "OUfo8dQSqzM1"
      }
    },
    {
      "cell_type": "markdown",
      "source": [
        "## What is a \"Return\" Value?\n",
        "When a function returns a value, it means that the function produces a result that can be used by other parts of your code. Functions in Python can return values using the return keyword, followed by the value or expression that you want the function to return. When the return statement is executed, the function ends, and the value is sent back to the part of the code that called the function.\n",
        "\n",
        "Returning a value allows you to use the result of a function in various ways, such as assigning it to a variable, using it in an expression, or passing it as an argument to another function.\n",
        "\n",
        "Here's a simple example of a function that returns a value:\n",
        "\n"
      ],
      "metadata": {
        "id": "8xiZR8G_kZ-5"
      }
    },
    {
      "cell_type": "code",
      "source": [
        "def add(num1, num2):\n",
        "    result = num1 + num2\n",
        "    return result"
      ],
      "metadata": {
        "id": "YnZGb5n_kj0J",
        "colab": {
          "base_uri": "https://localhost:8080/"
        },
        "outputId": "280d3cf0-c2d3-4b81-c76d-22c5c380e318"
      },
      "execution_count": null,
      "outputs": [
        {
          "output_type": "stream",
          "name": "stdout",
          "text": [
            "3 + 4 = 7\n"
          ]
        }
      ]
    },
    {
      "cell_type": "code",
      "source": [
        "# call the function\n",
        "add(3,4)"
      ],
      "metadata": {
        "id": "qkXcd0Z-6Bpc",
        "outputId": "98bcdbbd-b645-447e-abb6-7384ed602a79",
        "colab": {
          "base_uri": "https://localhost:8080/"
        }
      },
      "execution_count": null,
      "outputs": [
        {
          "output_type": "execute_result",
          "data": {
            "text/plain": [
              "7"
            ]
          },
          "metadata": {},
          "execution_count": 63
        }
      ]
    },
    {
      "cell_type": "code",
      "source": [
        "# We can embed add within print\n",
        "print(add(5,6))\n",
        "print(add(23425, 34232))"
      ],
      "metadata": {
        "id": "ekl-fuXq6IRz",
        "outputId": "5d2bc3a0-de00-4bb3-abae-f62d94d66a12",
        "colab": {
          "base_uri": "https://localhost:8080/"
        }
      },
      "execution_count": null,
      "outputs": [
        {
          "output_type": "stream",
          "name": "stdout",
          "text": [
            "11\n",
            "57657\n"
          ]
        }
      ]
    },
    {
      "cell_type": "markdown",
      "source": [
        "In this example, we defined a function called add that takes two parameters, num1 and num2. The function adds the two numbers and returns the result using the return statement. We then called the function with the arguments 3 and 4 and stored the returned value in the variable sum_result. Finally, we printed the result.\n",
        "\n",
        "Remember that when a function returns a value, you can use that value in various ways in your code. If a function doesn't include a return statement, it implicitly returns None, which is a special value in Python that represents the absence of a value or a null result."
      ],
      "metadata": {
        "id": "JoblXqIVq5tr"
      }
    },
    {
      "cell_type": "markdown",
      "source": [
        "## Why Use Functions?\n",
        "Python functions provide a great way to organize your code. Here are few examples of simple fuctions that \"return\" different sorts of values.\n",
        "\n",
        "### Functions that Return a String\n",
        "In this example, the create_sentence function takes three parameters (subject, verb, and object) and returns a string combining them into a sentence.\n",
        "\n"
      ],
      "metadata": {
        "id": "0YNskNQklLf2"
      }
    },
    {
      "cell_type": "code",
      "source": [
        "def create_sentence(subject, verb, object):\n",
        "    return f\"{subject} {verb} {object}.\""
      ],
      "metadata": {
        "id": "v7rtz1kylzTm"
      },
      "execution_count": null,
      "outputs": []
    },
    {
      "cell_type": "code",
      "source": [
        "sentence1 = create_sentence(\"The dog\", \"chased\", \"the cat\")\n",
        "sentence2 = create_sentence(\"I\", \"love\", \"Python\")\n",
        "print(sentence1)\n",
        "print(sentence2)"
      ],
      "metadata": {
        "id": "pjkA9Xd86Rqf",
        "outputId": "8faa9050-f005-494f-c52c-f4f61bfe19b5",
        "colab": {
          "base_uri": "https://localhost:8080/"
        }
      },
      "execution_count": null,
      "outputs": [
        {
          "output_type": "stream",
          "name": "stdout",
          "text": [
            "The dog chased the cat.\n",
            "I love Python.\n"
          ]
        }
      ]
    },
    {
      "cell_type": "markdown",
      "source": [
        "### Function that returns a float\n",
        "\n",
        "In this example, the calculate_area function takes a single parameter (radius) and returns the area of a circle as a float. It uses the math.pi constant for the value of pi.\n",
        "\n"
      ],
      "metadata": {
        "id": "tXCVcnv_rAaM"
      }
    },
    {
      "cell_type": "code",
      "source": [
        "def calculate_area(radius):\n",
        "    import math\n",
        "    area = math.pi * (radius ** 2)\n",
        "    return area"
      ],
      "metadata": {
        "id": "Yjpx6y79l3Gk"
      },
      "execution_count": null,
      "outputs": []
    },
    {
      "cell_type": "code",
      "source": [
        "# call the function\n",
        "area1 = calculate_area(5)\n",
        "area2 = calculate_area(10)\n",
        "print(f\"Area of circle with radius 5: {area1:.2f}\")\n",
        "print(f\"Area of circle with radius 10: {area2:.2f}\")"
      ],
      "metadata": {
        "id": "2XQTnkhr6UtJ",
        "outputId": "9691d493-acdc-45da-c1a3-d30dfccd3837",
        "colab": {
          "base_uri": "https://localhost:8080/"
        }
      },
      "execution_count": null,
      "outputs": [
        {
          "output_type": "stream",
          "name": "stdout",
          "text": [
            "Area of circle with radius 5: 78.54\n",
            "Area of circle with radius 10: 314.16\n"
          ]
        }
      ]
    },
    {
      "cell_type": "markdown",
      "source": [
        "### Function that returns an integer\n",
        "\n",
        "In this example, the count_vowels function takes a string parameter (text) and returns the count of vowels (a, e, i, o, u) in the text as an integer. It uses a generator expression and the sum() function to count the vowels.\n"
      ],
      "metadata": {
        "id": "TuxuWky5rCvs"
      }
    },
    {
      "cell_type": "code",
      "source": [
        "def count_vowels(text):\n",
        "    vowels = \"aeiou\"\n",
        "    count = sum(1 for char in text.lower() if char in vowels)\n",
        "    return count\n"
      ],
      "metadata": {
        "id": "tHjg1Oqzl6P0"
      },
      "execution_count": null,
      "outputs": []
    },
    {
      "cell_type": "code",
      "source": [
        "count1 = count_vowels(\"Hello, World!\")\n",
        "count2 = count_vowels(\"Python Programming\")\n",
        "print(f\"Number of vowels in 'Hello, World!': {count1}\")\n",
        "print(f\"Number of vowels in 'Python Programming': {count2}\")"
      ],
      "metadata": {
        "id": "R3VV8YtZ6WdI",
        "outputId": "a500755d-85e9-45c2-dc99-0204bd5b6f61",
        "colab": {
          "base_uri": "https://localhost:8080/"
        }
      },
      "execution_count": null,
      "outputs": [
        {
          "output_type": "stream",
          "name": "stdout",
          "text": [
            "Number of vowels in 'Hello, World!': 3\n",
            "Number of vowels in 'Python Programming': 4\n"
          ]
        }
      ]
    },
    {
      "cell_type": "markdown",
      "source": [
        "## Simple Function Examples\n",
        "To get a sense of how how functions \"work\", here a few more more examples:\n",
        "\n",
        "| Code | Function Description |\n",
        "| --- | --- |\n",
        "| `def f(a, b): return a**2 + b**2` | Define a Python function that returns the sum of squares of two numbers a and b. |\n",
        "| `def f(a, b): return a**2 - b**2` | Define a Python function that returns the difference of squares of a and b. |\n",
        "| `def f(a, b): return (a ** b) + b` | Define a Python function that raises a number a to the power of b and adds b. |\n",
        "|` def f(a, b): return (a**2) % b` | Define a Python function that returns the remainder of a squared divided by b. |\n",
        "| `def f(a): return a % 2 == 0` | Define a Python function that checks if a number a is even. |\n",
        "| `def f(a): return a % 2 != 0` | Define a Python function that checks if a number a is odd. |\n",
        "| `def f(c): return (c * 9/5) + 32` | Define a Python function that converts a temperature in Celsius to Fahrenheit. |\n",
        "| `def f(f): return (f - 32) * 5/9` | Define a Python function that converts a temperature in Fahrenheit to Celsius. |\n",
        "| `def f(r): return 3.14 * r**2` | Define a Python function that calculates the area of a circle with radius r. |\n",
        "| `def f(name): return \"Hello, \" + name` | Define a Python function that returns a string with \"Hello, \" followed by a name. |\n",
        "| `def f(name): print(\"Goodbye, \" + name)` | Define a Python function that prints \"Goodbye, \" followed by a name. |\n",
        "| `def f(s, n): print(s[:n])` | Define a Python function that prints the first n characters of a string s. |\n",
        "| `def f(s): return s[::-1]` | Define a Python function that returns the reverse of a string s. |\n",
        "| `def f(a): return \"True\" if a > 0 else \"False\"` | Define a Python function that returns a string with \"True\" if a is positive, else \"False.\" |\n",
        "| `def f(t): print(\"Hot\" if t > 30 else \"Cold\")` | Define a Python function that prints \"Hot\" if the temperature t is above 30, else \"Cold.\" |\n",
        "| `def f(s): print(s + \"!!!\")` | Define a Python function that prints a string s with exclamation marks added. |\n",
        "| `def f(a, b): return str(a) + \" \" + str(b)` | Define a Python function that returns a string with a and b separated by a space. |\n",
        "| `def f(s, n): return len(s) > n` | Define a Python function that checks if the length of a string s is greater than n. |"
      ],
      "metadata": {
        "id": "7kT6fuq-yruP"
      }
    },
    {
      "cell_type": "markdown",
      "source": [
        "## Exercises\n",
        "\n",
        "### Exercise 1: Alive!\n",
        "Create a function called `its_alive` that prints \"It's alive!\" when called.\n",
        "- Hint: Define the function and use the `print()` function inside it.\n",
        "- Sample Function Call: `its_alive()`\n",
        "- Sample Output: `It's alive!`"
      ],
      "metadata": {
        "id": "ZlAluZmlt3wP"
      }
    },
    {
      "cell_type": "code",
      "source": [
        "def its_alive(): # Every function starts like this\n",
        "  # Your code here!\n",
        "\n",
        "its_alive() # now, we need to \"call\" the function to run it"
      ],
      "metadata": {
        "id": "9Lch2prjVS-i"
      },
      "execution_count": null,
      "outputs": []
    },
    {
      "cell_type": "markdown",
      "source": [
        "\n",
        "### Exercise 2: Experiment Duration\n",
        "Create a function called `experiment_duration` that takes the number of days as an integer parameter and returns the number of hours the experiment will last.\n",
        "- Hint: Multiply the number of days by 24 to get the number of hours.\n",
        "- Sample Function Call: `experiment_duration(3)`\n",
        "- Sample Output: `72`"
      ],
      "metadata": {
        "id": "Di5X7ysDVTjk"
      }
    },
    {
      "cell_type": "code",
      "source": [],
      "metadata": {
        "id": "_RJV5XjQVVlA"
      },
      "execution_count": null,
      "outputs": []
    },
    {
      "cell_type": "markdown",
      "source": [
        "\n",
        "### Exercise 3: Potion Mixing\n",
        "Create a function called `mix_potion` that takes two float parameters, representing the volumes of Potion A and Potion B, and returns the total volume of the mixed potion.\n",
        "- Hint: Add the volumes of the two potions.\n",
        "- Sample Function Call: `mix_potion(3.5, 4.2)`\n",
        "- Sample Output: `7.7`\n",
        "\n"
      ],
      "metadata": {
        "id": "yBgwMNnAVV1E"
      }
    },
    {
      "cell_type": "code",
      "source": [],
      "metadata": {
        "id": "12q3x1t_VYhg"
      },
      "execution_count": null,
      "outputs": []
    },
    {
      "cell_type": "markdown",
      "source": [
        "### Exercise 4: Franken-name\n",
        "Create a function `franken_name(name)` that takes a person's name as a parameter that return \"FRANKEN\" plus their name in uppercase.\n",
        "-Sample call: `franken_name(bob)`\n",
        "-Sample output: `FRANKENBOB`"
      ],
      "metadata": {
        "id": "hpFyDOgQVZvn"
      }
    },
    {
      "cell_type": "code",
      "source": [],
      "metadata": {
        "id": "5aBv4ZQlVaQi"
      },
      "execution_count": null,
      "outputs": []
    },
    {
      "cell_type": "markdown",
      "source": [
        "### Exercise 5: Midnight Snack\n",
        "Append \"Midnight Pie\" to the end of the list and return the list.\n",
        "-   Hint: Use `append()` to add an item to the end of the list.\n",
        "-   Sample Function Call: `midnight_snack([\"Cookies\", \"Chips\"])`\n",
        "-   Sample Output: `[\"Cookies\", \"Chips\", \"Midnight Pie\"]`"
      ],
      "metadata": {
        "id": "ls7ZcvuOAn5V"
      }
    },
    {
      "cell_type": "code",
      "source": [],
      "metadata": {
        "id": "Mp0k1YQQVdw5"
      },
      "execution_count": null,
      "outputs": []
    },
    {
      "cell_type": "markdown",
      "source": [
        "\n",
        "### Exercise 6: Vampire's Last Bite\n",
        " Write a function named `last_bite` that takes a list of food items. If \"Garlic Bread\" is in the list, remove it (Vampires can't eat garlic!). Return the modified list.\n",
        "-   Hint: Use `remove()` to get rid of an item by its value.\n",
        "-   Sample Function Call: `last_bite([\"Garlic Bread\", \"Pizza\", \"Pasta\"])`\n",
        "-   Sample Output: `[\"Pizza\", \"Pasta\"]`"
      ],
      "metadata": {
        "id": "koMlBtQTVd-w"
      }
    },
    {
      "cell_type": "code",
      "source": [],
      "metadata": {
        "id": "OgvyMSRAVg6B"
      },
      "execution_count": null,
      "outputs": []
    },
    {
      "cell_type": "markdown",
      "source": [
        "\n",
        "### Exercise 7: Haunting Melody (BONUS)\n",
        " Create a function named `haunting_melody` that takes a list of song titles. Using the `insert()` method, add the song \"The Monster Mash\" to the front of the list, then return the list.\n",
        "-   Hint: Use `insert(0, \"The Monster Mash\")` to add an item at the beginning of the list. The number 0 indicates the position, and \"The Monster Mash\" is the item you want to add.\n",
        "-   Sample Function Call: `haunting_melody([\"Thriller\", \"Ghostbusters Theme\"])`\n",
        "-   Sample Output: `[\"The Monster Mash\", \"Thriller\", \"Ghostbusters Theme\"]`"
      ],
      "metadata": {
        "id": "h3YLXQcGVhmy"
      }
    },
    {
      "cell_type": "code",
      "source": [],
      "metadata": {
        "id": "2w2ib9cyXBVz"
      },
      "execution_count": null,
      "outputs": []
    },
    {
      "cell_type": "markdown",
      "source": [
        "\n",
        "### Exercise 8: Ghostly Exit (BONUS)\n",
        "Write a function named `ghostly_exit` that accepts a list of partygoers. Add the name \"Casper\" to the end of the list using `append()`. Then, use the `pop()` method to remove the first name from the list. Return the modified list.\n",
        "-   Hint: Use `append()` to add to the end and `pop(0)` to remove the first item. The number 0 inside `pop()` specifies the index of the item you want to remove.\n",
        "-   Sample Function Call: `ghostly_exit([\"Betelgeuse\", \"Moaning Myrtle\"])`\n",
        "-   Sample Output: `[\"Moaning Myrtle\", \"Casper\"]`"
      ],
      "metadata": {
        "id": "UQX9oZUMVlck"
      }
    },
    {
      "cell_type": "markdown",
      "source": [
        "# Debugging\n",
        "Debugging is the process of finding and fixing errors or issues in your code. There are various techniques you can use to debug your code, ranging from simple print statements to more advanced debugging tools. Here are some common debugging methods:\n",
        "\n",
        "## Print statements\n",
        "Using print statements is a simple and straightforward way to debug your code. You can insert print() statements at various points in your code to display the values of variables, the flow of execution, or any other relevant information. This can help you identify where things are going wrong or unexpected behavior is occurring.\n",
        "\n",
        "To use print statements effectively, make sure to provide clear and meaningful messages, so it's easy to understand what the output represents. For example:\n",
        "\n",
        "\n"
      ],
      "metadata": {
        "id": "96bdvtnMm_es"
      }
    },
    {
      "cell_type": "code",
      "source": [
        "def calculate_area(radius):\n",
        "    # What is wrong here?\n",
        "    print(f\"Input radius: {radius}\")\n",
        "    area = 3.14159 * (radius * 2)\n",
        "    print(f\"Calculated area: {area}\")\n",
        "    return area\n",
        "\n",
        "print(calculate_area(5))"
      ],
      "metadata": {
        "id": "lcT8VwV2pcfe",
        "colab": {
          "base_uri": "https://localhost:8080/"
        },
        "outputId": "f44dcf3f-b10b-431b-ac80-53f029981a3a"
      },
      "execution_count": null,
      "outputs": [
        {
          "output_type": "stream",
          "name": "stdout",
          "text": [
            "Input radius: 5\n",
            "Calculated area: 31.4159\n",
            "31.4159\n"
          ]
        }
      ]
    },
    {
      "cell_type": "markdown",
      "source": [
        "By breaking your code into discrete functions and using Jupyter Notebook's cell structure, you can isolate specific parts of your code for debugging. This makes it easier to identify and fix issues, as you can focus on smaller, more manageable pieces."
      ],
      "metadata": {
        "id": "iS7EsRfirxje"
      }
    },
    {
      "cell_type": "markdown",
      "source": [
        "## Reading exception traces:\n",
        "When an error occurs in your code, Python will raise an exception and display a traceback, which provides detailed information about the error and the line of code where it occurred. Understanding how to read **exception traces** is essential for debugging your code.\n",
        "\n",
        "Here is an example of code that should lead to an error, and give us an exception trace.\n"
      ],
      "metadata": {
        "id": "Pa9Wdu7YrrVP"
      }
    },
    {
      "cell_type": "code",
      "source": [
        "def divide(a, b):\n",
        "    return a / b\n",
        "\n",
        "print(divide(5, 0))"
      ],
      "metadata": {
        "id": "kMpQPn3Z8Zgh",
        "colab": {
          "base_uri": "https://localhost:8080/",
          "height": 314
        },
        "outputId": "5f73a5ae-f4ad-4fae-da1a-f322e4c4e20c"
      },
      "execution_count": null,
      "outputs": [
        {
          "output_type": "error",
          "ename": "ZeroDivisionError",
          "evalue": "ignored",
          "traceback": [
            "\u001b[0;31m---------------------------------------------------------------------------\u001b[0m",
            "\u001b[0;31mZeroDivisionError\u001b[0m                         Traceback (most recent call last)",
            "\u001b[0;32m<ipython-input-12-01865cd689ce>\u001b[0m in \u001b[0;36m<cell line: 4>\u001b[0;34m()\u001b[0m\n\u001b[1;32m      2\u001b[0m     \u001b[0;32mreturn\u001b[0m \u001b[0ma\u001b[0m \u001b[0;34m/\u001b[0m \u001b[0mb\u001b[0m\u001b[0;34m\u001b[0m\u001b[0;34m\u001b[0m\u001b[0m\n\u001b[1;32m      3\u001b[0m \u001b[0;34m\u001b[0m\u001b[0m\n\u001b[0;32m----> 4\u001b[0;31m \u001b[0mprint\u001b[0m\u001b[0;34m(\u001b[0m\u001b[0mdivide\u001b[0m\u001b[0;34m(\u001b[0m\u001b[0;36m5\u001b[0m\u001b[0;34m,\u001b[0m \u001b[0;36m0\u001b[0m\u001b[0;34m)\u001b[0m\u001b[0;34m)\u001b[0m\u001b[0;34m\u001b[0m\u001b[0;34m\u001b[0m\u001b[0m\n\u001b[0m",
            "\u001b[0;32m<ipython-input-12-01865cd689ce>\u001b[0m in \u001b[0;36mdivide\u001b[0;34m(a, b)\u001b[0m\n\u001b[1;32m      1\u001b[0m \u001b[0;32mdef\u001b[0m \u001b[0mdivide\u001b[0m\u001b[0;34m(\u001b[0m\u001b[0ma\u001b[0m\u001b[0;34m,\u001b[0m \u001b[0mb\u001b[0m\u001b[0;34m)\u001b[0m\u001b[0;34m:\u001b[0m\u001b[0;34m\u001b[0m\u001b[0;34m\u001b[0m\u001b[0m\n\u001b[0;32m----> 2\u001b[0;31m     \u001b[0;32mreturn\u001b[0m \u001b[0ma\u001b[0m \u001b[0;34m/\u001b[0m \u001b[0mb\u001b[0m\u001b[0;34m\u001b[0m\u001b[0;34m\u001b[0m\u001b[0m\n\u001b[0m\u001b[1;32m      3\u001b[0m \u001b[0;34m\u001b[0m\u001b[0m\n\u001b[1;32m      4\u001b[0m \u001b[0mprint\u001b[0m\u001b[0;34m(\u001b[0m\u001b[0mdivide\u001b[0m\u001b[0;34m(\u001b[0m\u001b[0;36m5\u001b[0m\u001b[0;34m,\u001b[0m \u001b[0;36m0\u001b[0m\u001b[0;34m)\u001b[0m\u001b[0;34m)\u001b[0m\u001b[0;34m\u001b[0m\u001b[0;34m\u001b[0m\u001b[0m\n",
            "\u001b[0;31mZeroDivisionError\u001b[0m: division by zero"
          ]
        }
      ]
    },
    {
      "cell_type": "markdown",
      "source": [
        "In this example, we have a ZeroDivisionError because we tried to divide by zero. The traceback shows the line where the error occurred (----> 2) and the function that caused the error (divide). By examining the traceback, you can locate the problematic code and determine what needs to be fixed."
      ],
      "metadata": {
        "id": "69DimubosONz"
      }
    },
    {
      "cell_type": "markdown",
      "source": [
        "## Rubber duck debugging\n",
        "Rubber duck debugging is a method where you explain your code line by line to a rubber duck (or any other inanimate object) as if you're teaching it how the code works. The act of verbalizing your thought process and explaining the code out loud can help you discover issues or inconsistencies you didn't notice before.\n",
        "\n",
        "To use rubber duck debugging effectively, follow these steps:\n",
        "\n",
        "1. Place a rubber duck (or any object) on your desk or near your computer.\n",
        "2. Start at the beginning of your code and explain each line or block of code in detail.\n",
        "3. For each line, describe the purpose of the code, what it's doing, and the expected outcome.\n",
        "4. As you explain your code, pay close attention to any assumptions you're making or any parts that feel unclear or confusing.\n",
        "5. Breaking your code into discrete functions (and using Jupyter Notebook cells) can make rubber duck debugging more effective. By focusing on one function or cell at a time, you can dive deep into the logic of your code and identify issues more easily.\n",
        "\n",
        "Remember that different debugging techniques work better for different situations and personal preferences. Start with these three methods, and as you gain experience, you can explore other debugging techniques that suit your needs."
      ],
      "metadata": {
        "id": "2Qnp0thUrtXH"
      }
    },
    {
      "cell_type": "markdown",
      "source": [
        "## Case Study: 13 Ways of Looking at a Byte\n",
        "A byte is like a tiny container in computing that holds a specific type of information, depending on how we decide to fill it. Think of it as having 8 slots (bits), and each slot can be either off (0) or on (1). Depending on the pattern of these on and off slots, the byte can represent different things such as letters, numbers, or even colors. Let's break down some of these ways we can use a byte.\n",
        "\n",
        "#### 1. Unicode Character Encoding\n",
        "\n",
        "Unicode is like a big library that gives every character in almost every language its own special code. Sometimes, characters can fit into a single byte, especially if they're from the English alphabet, which is part of something called ASCII. This is pretty straightforward, with each letter or symbol getting a combination of ons and offs in our byte.\n",
        "\n",
        "But, many characters from other languages, and even emojis, need more room than our single byte can provide. That's where UTF-8 comes into play. UTF-8 is smart; it can use just one byte for simple characters like 'A' but can also link together multiple bytes for more complex characters, like 'あ' in Japanese or '😊'. So, with UTF-8, the number of bytes used can vary depending on the character.\n",
        "\n",
        "#### 2. Unsigned Integer Encoding\n",
        "\n",
        "When we talk about unsigned integers, we mean positive whole numbers or zero. A byte can hold numbers from 0 to 255 because, with 8 bits, there are 256 different ways to arrange those ons and offs. It's like counting from 0 to 255 using only switches!\n",
        "\n",
        "#### 3. Signed Integer Encoding (Two's Complement)\n",
        "\n",
        "But what if we want to include negative numbers? That's where two's complement comes in handy. It's a clever trick that lets us use one of our 8 slots to signify whether a number is positive or negative, allowing us to represent numbers from -128 to 127. Here's a simple way to think about it:\n",
        "\n",
        "-   The leftmost bit (first slot) tells us if the number is positive (0) or negative (1).\n",
        "-   The rest of the bits help determine the number's value.\n",
        "\n",
        "Example of Two's Complement:\n",
        "\n",
        "| Decimal | Binary Representation |\n",
        "| --- | --- |\n",
        "| -128 | 10000000 |\n",
        "| -1 | 11111111 |\n",
        "| 0 | 00000000 |\n",
        "| 1 | 00000001 |\n",
        "| 127 | 01111111 |"
      ],
      "metadata": {
        "id": "elUl5cGIg54z"
      }
    },
    {
      "cell_type": "markdown",
      "source": [
        "### 4. Floating Point Number Encoding (IEEE Standard)\n",
        "\n",
        "Real numbers, or numbers with fractions like 3.14, 0.001, or even very large numbers like 123456789.0, require a special format to be represented in computers. This format is known as floating point, and it's a bit like scientific notation, but for binary numbers. The IEEE 754 standard is the most widely used system for floating point representation in computing. It's important to note that this standard requires more complexity than a single byte can offer; it typically uses either 32 or 64 bits (4 or 8 bytes).\n",
        "\n",
        "The magic of floating point numbers lies in their ability to represent very large, very small, and fractional numbers by dividing the bits into three key parts:\n",
        "\n",
        "-   Sign bit: This single bit represents the sign of the number. A 0 means the number is positive, and a 1 means it's negative.\n",
        "-   Exponent: A set of bits that represent the exponent, adjusted by a bias. This part essentially tells us where to place the decimal point.\n",
        "-   Mantissa (or significand): The rest of the bits represent the significant figures of the number. It's like the detailed part of the number that tells us what the digits are.\n",
        "\n",
        "### 5. RGB Color Encoding\n",
        "\n",
        "When it comes to displaying colors on screens, computers use the RGB color model. RGB stands for Red, Green, and Blue, the primary colors of light. By mixing these colors in different intensities, a wide range of colors can be created. Each color intensity is represented by a byte, allowing for 256 levels of intensity (from 0 to 255). This means each color can range from completely off (0) to fully intense (255).\n",
        "\n",
        "A single pixel's color in an image or on a screen can be defined by specifying the intensity of red, green, and blue. For example:\n",
        "\n",
        "-   Red: If you set red to 255 (11111111 in binary) and green and blue to 0, you get the brightest red.\n",
        "-   Cyan: To make cyan, you'd set green and blue to 255, and red to 0. This mixes full green and blue light, creating cyan.\n",
        "\n",
        "This system can produce over 16 million color combinations (256 x 256 x 256) by adjusting the intensity of these three colors."
      ],
      "metadata": {
        "id": "0WMLp3gZhYWU"
      }
    },
    {
      "cell_type": "markdown",
      "source": [
        "### 6\\. A Memory Address\n",
        "\n",
        "In computing, a memory address refers to a specific location in memory where data is stored. This addressing is crucial for the CPU to accurately access and manipulate data. The concept of \"words\" in computing relates to the standard size of data the CPU can handle at one time. Historically, increasing the word size (and thus the addressable memory space) has been a significant driver in computing evolution. For example, moving from a 16-bit architecture to a 32-bit architecture increases the maximum addressable memory from 65,536 bytes (64KB) to 4,294,967,296 bytes (4GB), a massive leap in the capacity for processing and storing data. The transition to 64-bit architectures further expands this capacity, allowing access to vastly larger amounts of memory, which is essential for today's data-intensive applications.\n",
        "\n",
        "### 7\\. A Machine Code Instruction\n",
        "\n",
        "Machine code instructions are the binary codes that a CPU reads and executes. These instructions are very basic and direct, such as adding two numbers, moving data from one memory location to another, or jumping to a different instruction based on a condition. For example:\n",
        "\n",
        "-   An add instruction might look like `1011 0001` in binary, telling the CPU to add the contents of two specific registers.\n",
        "-   A move instruction could be `1100 0011`, indicating that data should be moved from one location to another.\n",
        "\n",
        "These are simplified representations; real machine code instructions vary by CPU architecture and include more detail, like specifying which registers to use or the exact memory addresses involved.\n",
        "\n",
        "### 8\\. A File Signature\n",
        "\n",
        "File signatures, or magic numbers, are unique sequences of bytes at the beginning of a file that indicate its format. Beyond JPEGs (identified by the bytes `FF D8 FF`), other examples include:\n",
        "\n",
        "-   PNG files, which start with `89 50 4E 47`.\n",
        "-   PDF documents, marked by `%PDF` (or in bytes: `25 50 44 46`).\n",
        "\n",
        "These signatures allow software to quickly determine a file's format, ensuring it's processed by the appropriate application or function.\n",
        "\n",
        "### 9\\. A Network Port Address\n",
        "\n",
        "In networking, port numbers are used to identify specific services or applications on a computer. They're encoded in 2 bytes, allowing for a range from 0 to 65535. Well-known examples include:\n",
        "\n",
        "-   Port 80 for HTTP, the foundation of data communication for the web.\n",
        "-   Port 443 for HTTPS, a secure version of HTTP.\n",
        "-   Port 25 for SMTP, used for email transmission.\n",
        "\n",
        "These port numbers help direct network traffic to the correct application, facilitating internet communication and services.\n",
        "\n",
        "### 10\\. Audio Sample (WAV Format)\n",
        "\n",
        "In the WAV audio format, an audio sample captures a single point of sound's volume (amplitude) at a specific time. The fidelity of this snapshot depends on the sample's bit depth:\n",
        "\n",
        "-   A 16-bit sample depth allows for 65,536 levels of amplitude, offering CD-quality sound.\n",
        "-   A 24-bit sample depth provides 16,777,216 levels, used in professional audio settings for its higher resolution and detail.\n",
        "\n",
        "These samples are collected at a rate (e.g., 44.1 kHz, the standard for CDs), which dictates how many samples are recorded per second. Higher rates and deeper bit depths result in larger file sizes but better sound quality, capturing the nuances and richness of the audio source."
      ],
      "metadata": {
        "id": "elVt7kUNh2XZ"
      }
    },
    {
      "cell_type": "markdown",
      "source": [
        "### 11\\. Storing Genetic Information (DNA Sequencing)\n",
        "\n",
        "In the realm of genetics, bytes play a critical role in storing and analyzing DNA sequences. DNA can be thought of as a biological data storage system, where the sequence of nucleotides (adenine [A], cytosine [C], guanine [G], and thymine [T]) encodes the genetic instructions for living organisms. When sequencing DNA, these nucleotide sequences are translated into digital data.\n",
        "\n",
        "A single byte can represent up to 4 different nucleotides by using two bits for each (00 for A, 01 for C, 10 for G, and 11 for T), making it an efficient method to digitally store genetic information. For example, the byte `01011000` could represent the DNA sequence \"CAGT\". This encoding allows for the compact storage of vast amounts of genetic data, crucial for research in genomics, evolutionary biology, and medical diagnostics.\n",
        "\n",
        "### 12\\. Database Indexing\n",
        "\n",
        "Databases use bytes in a variety of ways to store, retrieve, and manage data efficiently. One key application is in database indexing, where bytes are used to create indexes that allow for rapid data retrieval. An index in a database is somewhat like the index in a book; it helps you find the information quickly without searching every page.\n",
        "\n",
        "Indexes are often stored as binary trees or hash tables, where each node or entry is identified by a unique sequence of bytes. This makes searching through large datasets much faster than scanning every row in a table. For example, an index might use 4 bytes to uniquely identify each record's location in a database, enabling the database management system to jump directly to the data associated with a specific key, much like using a map to navigate directly to a specific location in a city.\n",
        "\n",
        "### 13\\. Cryptographic Hash Functions\n",
        "\n",
        "Bytes are also foundational in the world of cryptography, particularly in the use of cryptographic hash functions. A hash function takes input data (of any size) and produces a fixed-size string of bytes, typically for security or data integrity purposes. For instance, the SHA-256 algorithm outputs a 256-bit hash, equivalent to 32 bytes, regardless of the input's size.\n",
        "\n",
        "This can be used to verify the integrity of data transmitted over a network. If the original data is altered, even slightly, running it through the hash function will produce a dramatically different result, signaling the change. This application of bytes is crucial for securing digital communications, verifying data integrity, and supporting the infrastructure of cryptocurrencies like Bitcoin."
      ],
      "metadata": {
        "id": "HGJSV9R3kLAP"
      }
    },
    {
      "cell_type": "markdown",
      "source": [
        "## Discussion Questions: 13 Ways of Looking at a Byte\n",
        "\n",
        "1. How do bytes serve as a universal language for computers and digital technology? What are the advantages of having a standard \"unit\" of 8 bits (one byte).\n",
        "\n",
        "2. How has the increasing ability to store and process large amounts of data in bytes changed the fields of genetics (like DNA sequencing) and databases? Discuss the potential future impacts of these advancements on medicine, research, and information technology.\n",
        "\n",
        "3. With the ability to store and manipulate vast amounts of data, including personal information and genetic data, what ethical considerations arise? Discuss the balance between innovation and privacy, considering examples like cryptographic hash functions for data security or the storage of DNA sequences."
      ],
      "metadata": {
        "id": "LLMDgNQHcRlk"
      }
    },
    {
      "cell_type": "markdown",
      "source": [
        "## Quizlet Flashcards\n",
        "Click the following cell to launch the flashcards for this chapter."
      ],
      "metadata": {
        "id": "9S32432wSjYX"
      }
    },
    {
      "cell_type": "code",
      "source": [
        "%%html\n",
        "<iframe src=\"https://quizlet.com/818648180/learn/embed?i=psvlh&x=1jj1\" height=\"600\" width=\"100%\" style=\"border:0\"></iframe>"
      ],
      "metadata": {
        "id": "sPWYA8SUSrFT",
        "outputId": "ceb3b709-e48e-4744-ddfb-377abe89a305",
        "colab": {
          "base_uri": "https://localhost:8080/",
          "height": 622
        }
      },
      "execution_count": null,
      "outputs": [
        {
          "output_type": "display_data",
          "data": {
            "text/plain": [
              "<IPython.core.display.HTML object>"
            ],
            "text/html": [
              "<iframe src=\"https://quizlet.com/818648180/learn/embed?i=psvlh&x=1jj1\" height=\"600\" width=\"100%\" style=\"border:0\"></iframe>\n"
            ]
          },
          "metadata": {}
        }
      ]
    },
    {
      "cell_type": "markdown",
      "source": [
        "## Your Anwers: 13 Ways of Looking at a Byte\n",
        "1.\n",
        "\n",
        "2.\n",
        "\n",
        "3.\n",
        "\n",
        "4.\n",
        "\n",
        "5."
      ],
      "metadata": {
        "id": "y7VuHrBJ1uom"
      }
    },
    {
      "cell_type": "code",
      "source": [],
      "metadata": {
        "id": "rNKDEkHQghDZ"
      },
      "execution_count": null,
      "outputs": []
    },
    {
      "cell_type": "markdown",
      "source": [
        "## Glossary\n",
        "\n",
        "| Term | Definition |\n",
        "| --- | --- |\n",
        "| Data type | Defines the kind of value a variable can hold in a programming language, such as integers, strings, or booleans. |\n",
        "| Dynamic typing | A type system that allows variables to hold values of different types and the type is checked at runtime. |\n",
        "| Static typing | A type system where the type of a variable is known and checked at compile time. |\n",
        "| Casting | The process of converting one data type into another, e.g., converting a string to an integer. |\n",
        "| Unsigned integer | A whole number that can only be zero or positive; it does not have a sign bit. |\n",
        "| Two's complement | A binary number system used to represent positive and negative integers, where the most significant bit is used as a sign bit. |\n",
        "| IEEE 754 standard | A technical standard for floating-point computation, established by the Institute of Electrical and Electronics Engineers (IEEE). |\n",
        "| Integer | A data type that represents a whole number, which can be either positive or negative. |\n",
        "| Modulus (%) | An operation that finds the remainder of division of one number by another. |\n",
        "| Return value | The result produced by a function, which is sent back to the caller when the function completes. |\n",
        "| Exception trace | A report providing information about the state of a program at the time an exception was thrown, often showing the sequence of function calls leading up to the exception. |\n",
        "| Rubber duck debugging | A method of debugging code, where a programmer explains their code line by line to an inanimate object (like a rubber duck) to help find issues. |\n",
        "| Bitmask | A sequence of bits used to manipulate or test other bits through bitwise operations. |\n",
        "| File signature (\"magic number\") | A unique sequence of bytes at the beginning of a file used to identify or verify the file type. |\n",
        "| Network protocol header | The part of a network packet that contains information about the packet's data, like its origin, destination, and size. |"
      ],
      "metadata": {
        "id": "lymAS5NrgcZX"
      }
    }
  ]
}