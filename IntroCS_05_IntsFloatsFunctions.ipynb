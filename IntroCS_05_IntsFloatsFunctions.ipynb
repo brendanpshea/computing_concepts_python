{
  "nbformat": 4,
  "nbformat_minor": 0,
  "metadata": {
    "colab": {
      "provenance": [],
      "authorship_tag": "ABX9TyObGgEXMnpD1zCgtkPkILri",
      "include_colab_link": true
    },
    "kernelspec": {
      "name": "python3",
      "display_name": "Python 3"
    },
    "language_info": {
      "name": "python"
    }
  },
  "cells": [
    {
      "cell_type": "markdown",
      "metadata": {
        "id": "view-in-github",
        "colab_type": "text"
      },
      "source": [
        "<a href=\"https://colab.research.google.com/github/brendanpshea/computing_concepts_python/blob/main/IntroCS_05_IntsFloatsFunctions.ipynb\" target=\"_parent\"><img src=\"https://colab.research.google.com/assets/colab-badge.svg\" alt=\"Open In Colab\"/></a>"
      ]
    },
    {
      "cell_type": "markdown",
      "source": [
        "# Python: Data Types, Lists, and Functions\n",
        "## Brendan Shea, PhD (Brendan.Shea@rctc.edu)\n",
        "\n",
        " In this lesson, we will explore the concept of \"data types\" and \"functions\" using Python as an example. Data types are an essential building block in programming, as they help us understand and organize the different kinds of information our code will work with. Don't worry if you're new to programming; we'll start with the basics.\n",
        "\n",
        "In this chapter, you'll learn to:\n",
        "\n",
        "1.  Understand Python's dynamic typing system and identify common data types like integers, floats, strings, booleans, and lists.\n",
        "2.  Perform arithmetic operations with integers and floats, handle user input, and manipulate lists using methods like append(), remove(), and slicing.\n",
        "3.  Recognize potential errors that can arise from data type mismatches and use type casting to convert between types when needed.\n",
        "4.  Define custom functions in Python using the def keyword, specifying parameters and return values.\n",
        "5.  Utilize functions to organize code, promote reusability, and solve practical problems like area calculation, string manipulation, and list operations.\n",
        "6.  Comprehend the versatility of a byte as a fundamental unit in computing, appreciating its role in character encoding, integer representation, color encoding, memory addressing, and more.\n",
        "\n",
        "\n"
      ],
      "metadata": {
        "id": "8pjlMlaDgkdq"
      }
    },
    {
      "cell_type": "markdown",
      "source": [
        "## Brendan's Lecture\n"
      ],
      "metadata": {
        "id": "feajCySMAu8H"
      }
    },
    {
      "cell_type": "code",
      "source": [
        "from IPython.display import YouTubeVideo\n",
        "YouTubeVideo('nH-wnhKSGps', width=1000, height=600)"
      ],
      "metadata": {
        "id": "xeBYQOiKDFhb",
        "outputId": "11470cf2-06b4-4614-d03a-5aa50e238ab8",
        "colab": {
          "base_uri": "https://localhost:8080/",
          "height": 621
        }
      },
      "execution_count": null,
      "outputs": [
        {
          "output_type": "execute_result",
          "data": {
            "text/plain": [
              "<IPython.lib.display.YouTubeVideo at 0x7fbc7de83730>"
            ],
            "text/html": [
              "\n",
              "        <iframe\n",
              "            width=\"1000\"\n",
              "            height=\"600\"\n",
              "            src=\"https://www.youtube.com/embed/nH-wnhKSGps\"\n",
              "            frameborder=\"0\"\n",
              "            allowfullscreen\n",
              "            \n",
              "        ></iframe>\n",
              "        "
            ]
          },
          "metadata": {},
          "execution_count": 100
        }
      ]
    },
    {
      "cell_type": "markdown",
      "source": [
        "### BrendyBot is Here to Answer Your Questions\n",
        "![image.png](https://github.com/brendanpshea/colab-utilities/raw/main/brendy_bot_pic.png)\n",
        "\n",
        "If you have questions about the content of this chapter, you can try out \"BrendyBot\", an AI chat bot I've trained on the lecture notes for this class (note that BrendyBot is stil experimental, and can definitley make mistakes!).\n",
        "\n",
        "https://poe.com/BrendyBot"
      ],
      "metadata": {
        "id": "c6cLJcF8rvN3"
      }
    },
    {
      "cell_type": "markdown",
      "source": [
        "## Data Types\n",
        "As we've discussed earlier, Python is a popular, user-friendly programming language known for its simplicity and readability. One of its key features is that it is **dynamically typed.** This means that Python automatically identifies the type of data you're working with, making it easier for beginners to start coding without worrying about specifying data types beforehand.\n",
        "\n",
        "In Python, some common data types are:\n",
        "\n",
        "| Data Type | Description | Example |\n",
        "| --- | --- | --- |\n",
        "| Integer (`int`) | A whole number, positive or negative, without decimals, of unlimited length. | `x = 10` |\n",
        "| Float (`float`) | A number, positive or negative, containing one or more decimals. | `y = 7.5` |\n",
        "| String (`str`) | A sequence of Unicode characters. Enclosed in either single quotes or double quotes. | `name = \"Carnap\"` |\n",
        "| Boolean (`bool`) | Data type with two built-in values: `True` or `False`. | `is_true = False` |\n",
        "| List (`list`) | A collection which is ordered and changeable. Allows duplicate members. | `fruits = ['apple', 'banana', 'cherry']` |\n",
        "| Tuple (`tuple`) | A collection which is ordered and unchangeable. Allows duplicate members. | `colors = ('red', 'blue', 'green')` |\n",
        "| Set (`set`) | A collection which is unordered and unindexed. No duplicate members. | `cars = {'Toyota', 'Ford', 'Tesla'}` |\n",
        "| Dictionary (`dict`) | A collection which is unordered, changeable and indexed. No duplicate members. It's a key-value pair. | `student = {'name': 'Carnap', 'age': 20}` |\n",
        "| None (`NoneType`) | A special data type representing the absence of a value or a null value. | `x = None` |\n",
        "\n",
        "\n",
        "As Python is dynamically typed, you don't need to explicitly specify the data type when creating a variable. For example, to assign the integer value 5 to a variable named 'x', you can simply write: `x = 5`.  Python will understand that 'x' is an integer, and store it accordingly.\n",
        "\n"
      ],
      "metadata": {
        "id": "zvNP1mU9Ao4J"
      }
    },
    {
      "cell_type": "markdown",
      "source": [
        "## Integers\n",
        "An integer is a whole number, which means it doesn't have any decimal places. Integers can be positive, negative, or zero. In Python, integers are one of the basic data types that you can use to represent and work with numbers.\n",
        "\n",
        "Here are some examples of integers:\n",
        "```\n",
        "0\n",
        "42\n",
        "-7\n",
        "1234\n",
        "```\n",
        "\n",
        "You can use integers to perform arithmetic operations like addition, subtraction, multiplication, and division. Python also provides some additional operations that are specifically designed to work with integers, like floor division and modulus.\n",
        "\n",
        "Here's a simple example using integers in Python:"
      ],
      "metadata": {
        "id": "rVen51aWAq-_"
      }
    },
    {
      "cell_type": "code",
      "source": [
        "barbie_height = 116  # Barbie's height in centimeters\n",
        "ken_height = 120  # Ken's height in centimeters\n",
        "\n",
        "print(f\"The sum of the heights is {barbie_height + ken_height} cm\")\n",
        "print(f\"The difference in height is {ken_height - barbie_height} cm\")\n",
        "print(f\"Triple Barbie's height is {barbie_height * 3} cm\")\n",
        "print(f\"Ken's height as a multiple of Barbie's height is {ken_height / barbie_height}\")\n",
        "print(f\"The number of whole Barbies fitting into Ken's height is {ken_height // barbie_height}\")\n",
        "print(f\"The remainder when Ken's height is divided by Barbie's height is {ken_height % barbie_height} cm\")\n"
      ],
      "metadata": {
        "id": "48IyukJzg7-x",
        "colab": {
          "base_uri": "https://localhost:8080/"
        },
        "outputId": "381c767a-91d1-401b-8c89-f3fe7a83818b"
      },
      "execution_count": null,
      "outputs": [
        {
          "output_type": "stream",
          "name": "stdout",
          "text": [
            "The sum of the heights is 236 cm\n",
            "The difference in height is 4 cm\n",
            "Triple Barbie's height is 348 cm\n",
            "Ken's height as a multiple of Barbie's height is 1.0344827586206897\n",
            "The number of whole Barbies fitting into Ken's height is 1\n",
            "The remainder when Ken's height is divided by Barbie's height is 4 cm\n"
          ]
        }
      ]
    },
    {
      "cell_type": "markdown",
      "source": [
        "Remember, integers are whole numbers without any decimal places. If you want to work with numbers that have decimal places, you'll need to use another data type called \"float\", which we'll talk about later."
      ],
      "metadata": {
        "id": "KL5lzr_HpsTf"
      }
    },
    {
      "cell_type": "markdown",
      "source": [
        "# Floating Point Numbers\n",
        "A floating-point number, often called a \"float\", is a number that has a decimal point. Floats can represent real numbers, which include both whole numbers and numbers with fractional parts. In Python, floats are one of the basic data types you can use to represent and work with numbers that have decimal places.\n",
        "\n",
        "Here are some examples of floating-point numbers:\n",
        "\n",
        "* 3.14\n",
        "* 0.001\n",
        "* -2.5\n",
        "* 42.0 (even though it looks like a whole number, the \".0\" makes it a float)\n",
        "You can use floats to perform arithmetic operations like addition, subtraction, multiplication, and division. Floats can provide more precise results when working with numbers that have fractional parts, as opposed to integers, which are limited to whole numbers.\n",
        "\n",
        "Here's a simple example using floating-point numbers in Python:\n"
      ],
      "metadata": {
        "id": "75P50ZiJi0BV"
      }
    },
    {
      "cell_type": "code",
      "source": [
        "planck_constant = 6.62607015e-34  # Planck constant in m^2 kg / s\n",
        "speed_of_light = 3.00e8  # Speed of light in m / s\n",
        "electron_mass = 9.10938356e-31  # Electron mass in kg\n",
        "\n",
        "# Addition: Sum of constants as a hypothetical operation\n",
        "print(f\"Sum of Planck constant and speed of light: {planck_constant + speed_of_light} m^2 kg/s^2\")\n",
        "\n",
        "# Subtraction: Difference between speed of light and electron mass, hypothetically\n",
        "print(f\"Difference between speed of light and electron mass: {speed_of_light - electron_mass} m/s\")\n",
        "\n",
        "# Multiplication: Product of Planck constant and speed of light\n",
        "print(f\"Product of Planck constant and speed of light: {planck_constant * speed_of_light} m^3 kg / s^2\")\n",
        "\n",
        "# Division: Planck constant divided by electron mass\n",
        "print(f\"Planck constant divided by electron mass: {planck_constant / electron_mass} m^2 s^-1\")\n",
        "\n",
        "# Exponentiation: Speed of light raised to the power of 2, representing squared speed\n",
        "print(f\"Speed of light squared: {speed_of_light ** 2} m^2 / s^2\")\n"
      ],
      "metadata": {
        "id": "_O2J7zlpjHaW",
        "colab": {
          "base_uri": "https://localhost:8080/"
        },
        "outputId": "c2365dab-ecb0-4bf7-a55e-576bdc62d85c"
      },
      "execution_count": null,
      "outputs": [
        {
          "output_type": "stream",
          "name": "stdout",
          "text": [
            "Sum of Planck constant and speed of light: 300000000.0 m^2 kg/s^2\n",
            "Difference between speed of light and electron mass: 300000000.0 m/s\n",
            "Product of Planck constant and speed of light: 1.9878210449999999e-25 m^3 kg / s^2\n",
            "Planck constant divided by electron mass: 0.0007273895216242273 m^2 s^-1\n",
            "Speed of light squared: 9e+16 m^2 / s^2\n"
          ]
        }
      ]
    },
    {
      "cell_type": "markdown",
      "source": [
        "In this example, we assigned two floating-point numbers (5.5 and 2.0) to variables num1 and num2. We then performed some basic arithmetic operations (addition, subtraction, multiplication, and division) and printed the results using f-strings.\n",
        "\n",
        "It's important to note that floating-point numbers have limitations when it comes to representing numbers precisely. Due to the way they are stored internally, some numbers can't be represented exactly, which can lead to small rounding errors when performing calculations. This is usually not a problem for most applications, but it's something to be aware of when working with floats."
      ],
      "metadata": {
        "id": "M5e-PFtzqZaV"
      }
    },
    {
      "cell_type": "markdown",
      "source": [
        "\n",
        "## Casting to Float\n",
        " To get a floating-point number from a user, you can use the input() function to read a string from the user, and then \"cast\" the string to a float using the float() function. Here's an example of how to get a floating-point number from a user:\n",
        "\n",
        "\n"
      ],
      "metadata": {
        "id": "jqKzLd1kqTn2"
      }
    },
    {
      "cell_type": "code",
      "source": [
        "# Get input from the user as a string\n",
        "user_input = input(\"Please enter a number with a decimal point: \")\n",
        "\n",
        "# Cast the input string to a float\n",
        "number = float(user_input)\n",
        "\n",
        "# Perform some operation, like squaring the number\n",
        "squared_number = number ** 2\n",
        "\n",
        "# Print the result\n",
        "print(f\"The squared number is: {squared_number}\")"
      ],
      "metadata": {
        "id": "B6mEtMLJja48",
        "colab": {
          "base_uri": "https://localhost:8080/"
        },
        "outputId": "a29b77be-3222-431f-c123-139465f4e7dc"
      },
      "execution_count": null,
      "outputs": [
        {
          "output_type": "stream",
          "name": "stdout",
          "text": [
            "Please enter a number with a decimal point: 7.89\n",
            "The squared number is: 62.25209999999999\n"
          ]
        }
      ]
    },
    {
      "cell_type": "markdown",
      "source": [
        "In this example, we first use the input() function to get a string from the user. We then cast the string to a floating-point number using the float() function. Finally, we perform an operation on the float (in this case, squaring it) and print the result.\n",
        "\n",
        "Remember to use the float() function to cast the user's input to a floating-point number, as the input() function always returns a string. If you don't do this, you'll run into errors when trying to perform arithmetic operations with the input."
      ],
      "metadata": {
        "id": "no-P7o59qmQF"
      }
    },
    {
      "cell_type": "code",
      "source": [
        "# Floats are imprecise\n",
        "result = 0.1 + 0.2\n",
        "print(result)"
      ],
      "metadata": {
        "id": "zI7fUbo6h_h-"
      },
      "execution_count": null,
      "outputs": []
    },
    {
      "cell_type": "markdown",
      "source": [
        "# Arithmetic For Floats and Ints\n",
        "In Python, you can perform arithmetic operations using the standard arithmetic operators. Here's a quick overview of the basic arithmetic operators:\n",
        "\n",
        "| **Operation** | **Symbol** | **Description** | **Example** | **Result** |\n",
        "| --- | --- | --- | --- | --- |\n",
        "| Addition | `+` | Adds two numbers. | `5 + 3` | `8` |\n",
        "| Subtraction | `-` | Subtracts the second number from the first. | `5 - 3` | `2` |\n",
        "| Multiplication | `*` | Multiplies two numbers. | `5 * 3` | `15` |\n",
        "| Division | `/` | Divides the first number by the second. | `5 / 3` | `1.6667` |\n",
        "| Floor Division | `//` | Divides and returns the integer part only. | `5 // 3` | `1` |\n",
        "| Modulus | `%` | Returns the remainder of the division. | `5 % 3` | `2` |\n",
        "| Exponentiation | `**` | Raises the first number to the power of the second. | `5 ** 3` | `125` |\n",
        "| Negation | `-` | Negates the number (unary minus). | `-5` | `-5` |\n",
        "| Absolute Value | `abs()` | Returns the absolute value of the number. | `abs(-5)` | `5` |\n",
        "| Round | `round()` | Rounds the number to the nearest integer. | `round(5.67)` | `6` |\n",
        "| Maximum | `max()` | Returns the largest of the given numbers. | `max(5, 3, 7)` | `7` |\n",
        "| Minimum | `min()` | Returns the smallest of the given numbers. | `min(5, 3, 7)` | `3` |\n",
        "\n",
        "These are the basic arithmetic operators in Python that you can use to perform calculations with numbers. You can also use parentheses to control the order of operations:\n",
        "\n",
        "Below, I've provided a basic Python program that asks the user for two integers and then prints out the result of basic arithmetic operations on them using f-strings"
      ],
      "metadata": {
        "id": "tc0QE-SNgfRk"
      }
    },
    {
      "cell_type": "code",
      "source": [
        "# a basic Python program that asks the user for two integers and\n",
        "# then prints out the result of basic arithmetic operations on them using f-strings\n",
        "\n",
        "# Get input from the user\n",
        "num1 = int(input(\"Please enter the first integer: \"))\n",
        "num2 = int(input(\"Please enter the second integer: \"))\n",
        "\n",
        "# Perform some arithmetic operations\n",
        "division = num1 / num2\n",
        "floor_division = num1 // num2\n",
        "modulus = num1 % num2\n",
        "exponentiation = num1 ** num2\n",
        "\n",
        "# Print the results using f-strings\n",
        "print(f\"The quotient of {num1} divided by {num2} is: {division}\")\n",
        "print(f\"The floor division of {num1} and {num2} is: {floor_division}\")\n",
        "print(f\"The remainder of {num1} divided by {num2} is: {modulus}\")\n",
        "print(f\"{num1} raised to the power of {num2} is: {exponentiation}\")"
      ],
      "metadata": {
        "id": "Gu_LZjbFgg_6",
        "colab": {
          "base_uri": "https://localhost:8080/"
        },
        "outputId": "d45ceaf7-8838-42db-b932-085eaf26f1b4"
      },
      "execution_count": null,
      "outputs": [
        {
          "output_type": "stream",
          "name": "stdout",
          "text": [
            "Please enter the first integer: 39\n",
            "Please enter the second integer: 4\n",
            "The quotient of 39 divided by 4 is: 9.75\n",
            "The floor division of 39 and 4 is: 9\n",
            "The remainder of 39 divided by 4 is: 3\n",
            "39 raised to the power of 4 is: 2313441\n"
          ]
        }
      ]
    },
    {
      "cell_type": "markdown",
      "source": [
        "## An Introduction to Python Lists\n",
        "\n",
        "Python lists are one of the most versatile and commonly used data structures in Python programming. A **list** is an ordered collection of items, which can be of mixed data types. This means you can have strings, integers, floats, and even other lists all in one list. Lists are mutable, meaning that the items in a list can be changed after the list has been created.\n",
        "\n",
        "### Creating a List\n",
        "\n",
        "To create a list in Python, you use square brackets `[]`. Here's how you can create a list with mixed data types:"
      ],
      "metadata": {
        "id": "IIZJlC1Vnqax"
      }
    },
    {
      "cell_type": "code",
      "source": [
        "my_list = [\"Alan Turing\", 1936, \"ENIAC\", 1945, \"Python\", 1991]\n",
        "print(my_list)"
      ],
      "metadata": {
        "colab": {
          "base_uri": "https://localhost:8080/"
        },
        "id": "-jkwkGlTnuA-",
        "outputId": "ec56dada-d8ae-46ef-8328-bfccf9ed72d2"
      },
      "execution_count": null,
      "outputs": [
        {
          "output_type": "stream",
          "name": "stdout",
          "text": [
            "['Alan Turing', 1936, 'ENIAC', 1945, 'Python', 1991]\n"
          ]
        }
      ]
    },
    {
      "cell_type": "markdown",
      "source": [
        "In this example, `my_list` contains strings (names of important figures and inventions in computer science) and integers (years of significant events).\n",
        "\n",
        "### Accessing List Elements\n",
        "\n",
        "You can access individual elements in a list using **indexing**. Python uses zero-based indexing, which means the first element has an index of 0."
      ],
      "metadata": {
        "id": "R5dRBnsNnxiw"
      }
    },
    {
      "cell_type": "code",
      "source": [
        "# Accessing the first element\n",
        "first_element = my_list[0]  # \"Alan Turing\"\n",
        "\n",
        "# Accessing the last element\n",
        "last_element = my_list[-1]  # 1991\n",
        "\n",
        "print(first_element)\n",
        "print(last_element)"
      ],
      "metadata": {
        "colab": {
          "base_uri": "https://localhost:8080/"
        },
        "id": "MzmZ3hqmn4UU",
        "outputId": "d85dcc3c-9aaf-4b06-9eea-38778920edd0"
      },
      "execution_count": null,
      "outputs": [
        {
          "output_type": "stream",
          "name": "stdout",
          "text": [
            "Alan Turing\n",
            "1991\n"
          ]
        }
      ]
    },
    {
      "cell_type": "markdown",
      "source": [
        "### Slicing a List\n",
        "\n",
        "**Slicing** allows you to access a range of elements from a list. The syntax for slicing is `my_list[start:end]`, where `start` is the index of the first element to include, and `end` is the index of the first element to exclude."
      ],
      "metadata": {
        "id": "6VwQ73apn_Hs"
      }
    },
    {
      "cell_type": "code",
      "source": [
        "# Accessing a slice of the list\n",
        "sub_list = my_list[1:4]\n",
        "print(sub_list)"
      ],
      "metadata": {
        "colab": {
          "base_uri": "https://localhost:8080/"
        },
        "id": "bItU5hV3oDYW",
        "outputId": "3d1b3632-8075-4362-9b69-53d122d9392c"
      },
      "execution_count": null,
      "outputs": [
        {
          "output_type": "stream",
          "name": "stdout",
          "text": [
            "[1936, 'ENIAC', 1945]\n"
          ]
        }
      ]
    },
    {
      "cell_type": "markdown",
      "source": [
        "#### Adding Elements to a List\n",
        "\n",
        "You can add elements to a list using the `append()` method, which adds an item to the end of the list."
      ],
      "metadata": {
        "id": "mEF2PqtDoIon"
      }
    },
    {
      "cell_type": "code",
      "source": [
        "my_list.append(\"Grace Hopper\")\n",
        "my_list.append(1952)\n",
        "print(my_list)"
      ],
      "metadata": {
        "colab": {
          "base_uri": "https://localhost:8080/"
        },
        "id": "9ZoFBH8goL-Y",
        "outputId": "21c83f2f-2b2c-4887-df1b-3f474a5176c2"
      },
      "execution_count": null,
      "outputs": [
        {
          "output_type": "stream",
          "name": "stdout",
          "text": [
            "['Alan Turing', 1936, 'ENIAC', 1945, 'Python', 1991, 'Grace Hopper', 1952]\n"
          ]
        }
      ]
    },
    {
      "cell_type": "markdown",
      "source": [
        "#### Extending a List\n",
        "\n",
        "The `extend()` method adds all elements from another iterable (such as another list) to the end of the list."
      ],
      "metadata": {
        "id": "P_f2eiIPoSXz"
      }
    },
    {
      "cell_type": "code",
      "source": [
        "my_list.extend([\"IBM 701\", 1952])\n",
        "print(my_list)"
      ],
      "metadata": {
        "colab": {
          "base_uri": "https://localhost:8080/"
        },
        "id": "vH5Gelv0oWJP",
        "outputId": "d417ff5b-ad00-4712-9b35-fd0187626ed4"
      },
      "execution_count": null,
      "outputs": [
        {
          "output_type": "stream",
          "name": "stdout",
          "text": [
            "['Alan Turing', 1936, 'ENIAC', 1945, 'Python', 1991, 'Grace Hopper', 1952, 'IBM 701', 1952, 'IBM 701', 1952]\n"
          ]
        }
      ]
    },
    {
      "cell_type": "markdown",
      "source": [
        "#### Inserting Elements\n",
        "\n",
        "The `insert()` method allows you to insert an item at a specified position."
      ],
      "metadata": {
        "id": "UDucutuAocL3"
      }
    },
    {
      "cell_type": "code",
      "source": [
        "my_list.insert(3, \"Colossus\")\n",
        "print(my_list)"
      ],
      "metadata": {
        "colab": {
          "base_uri": "https://localhost:8080/"
        },
        "id": "cdOeXUfXofR1",
        "outputId": "bd46c37a-9ae8-40bc-9042-f74330862b2b"
      },
      "execution_count": null,
      "outputs": [
        {
          "output_type": "stream",
          "name": "stdout",
          "text": [
            "['Alan Turing', 1936, 'ENIAC', 'Colossus', 1945, 'Python', 1991, 'Grace Hopper', 1952, 'IBM 701', 1952, 'IBM 701', 1952]\n"
          ]
        }
      ]
    },
    {
      "cell_type": "markdown",
      "source": [
        "#### Removing Elements\n",
        "\n",
        "You can remove elements from a list using the `remove()` method, which removes the first occurrence of a specified value."
      ],
      "metadata": {
        "id": "HxUHX0nAopln"
      }
    },
    {
      "cell_type": "code",
      "source": [
        "my_list.remove(\"ENIAC\")\n",
        "print(my_list)"
      ],
      "metadata": {
        "colab": {
          "base_uri": "https://localhost:8080/"
        },
        "id": "GIfZrIByotF5",
        "outputId": "0de06b7a-0259-4838-ff3c-ea5b9f2c3f97"
      },
      "execution_count": null,
      "outputs": [
        {
          "output_type": "stream",
          "name": "stdout",
          "text": [
            "['Alan Turing', 1936, 'Colossus', 1945, 'Python', 1991, 'Grace Hopper', 1952, 'IBM 701', 1952, 'IBM 701', 1952]\n"
          ]
        }
      ]
    },
    {
      "cell_type": "markdown",
      "source": [
        "The `pop()` method removes and returns the item at a specified position (default is the last item if no index is specified)."
      ],
      "metadata": {
        "id": "ZaO6usKso0zI"
      }
    },
    {
      "cell_type": "code",
      "source": [
        "popped_element = my_list.pop(4)\n",
        "print(my_list)\n",
        "print(popped_element)"
      ],
      "metadata": {
        "colab": {
          "base_uri": "https://localhost:8080/"
        },
        "id": "aMNEdrC9o4we",
        "outputId": "6e60435e-e031-497a-8bb9-48c6634fd181"
      },
      "execution_count": null,
      "outputs": [
        {
          "output_type": "stream",
          "name": "stdout",
          "text": [
            "['Alan Turing', 1936, 'Colossus', 1945, 1991, 'Grace Hopper', 1952, 'IBM 701', 1952, 'IBM 701', 1952]\n",
            "Python\n"
          ]
        }
      ]
    },
    {
      "cell_type": "markdown",
      "source": [
        "#### Reinitializing the List\n",
        "\n",
        "Let's reinitialize `my_list` for further examples:"
      ],
      "metadata": {
        "id": "sQsyK_Cco_VE"
      }
    },
    {
      "cell_type": "code",
      "source": [
        "my_list = [\"Alan Turing\", 1936, \"ENIAC\", 1945, \"Python\", 1991]\n",
        "print(my_list)"
      ],
      "metadata": {
        "colab": {
          "base_uri": "https://localhost:8080/"
        },
        "id": "wEJ1Ww36pE3x",
        "outputId": "961e51ec-ff03-4f39-a1bc-a17a063a313f"
      },
      "execution_count": null,
      "outputs": [
        {
          "output_type": "stream",
          "name": "stdout",
          "text": [
            "['Alan Turing', 1936, 'ENIAC', 1945, 'Python', 1991]\n"
          ]
        }
      ]
    },
    {
      "cell_type": "markdown",
      "source": [
        "#### Finding Elements\n",
        "\n",
        "The `index()` method returns the index of the first occurrence of a specified value."
      ],
      "metadata": {
        "id": "i1fi6rChpJRD"
      }
    },
    {
      "cell_type": "code",
      "source": [
        "index_of_python = my_list.index(\"Python\")\n",
        "print(index_of_python)"
      ],
      "metadata": {
        "colab": {
          "base_uri": "https://localhost:8080/"
        },
        "id": "2qg8V-w1pT4Y",
        "outputId": "497b5f59-9e1d-4ea4-ed40-703fd1b60691"
      },
      "execution_count": null,
      "outputs": [
        {
          "output_type": "stream",
          "name": "stdout",
          "text": [
            "4\n"
          ]
        }
      ]
    },
    {
      "cell_type": "markdown",
      "source": [
        "The `count()` method returns the number of times a specified value appears in the list."
      ],
      "metadata": {
        "id": "FBp5XzyI4GrH"
      }
    },
    {
      "cell_type": "code",
      "source": [
        "my_list.append(\"Python\")\n",
        "count_of_python = my_list.count(\"Python\")\n",
        "print(count_of_python)"
      ],
      "metadata": {
        "colab": {
          "base_uri": "https://localhost:8080/"
        },
        "id": "ixkCRqTH4HqN",
        "outputId": "cb777f4f-5d90-40db-f16c-d21812a7252f"
      },
      "execution_count": null,
      "outputs": [
        {
          "output_type": "stream",
          "name": "stdout",
          "text": [
            "2\n"
          ]
        }
      ]
    },
    {
      "cell_type": "markdown",
      "source": [
        "#### Sorting and Reversing\n",
        "\n",
        "The `sort()` method sorts the list in ascending order. For a list of mixed data types, sorting can only be done if the data types are comparable."
      ],
      "metadata": {
        "id": "v2KFlrio4MnZ"
      }
    },
    {
      "cell_type": "code",
      "source": [
        "numeric_list = [1991, 1936, 1945, 1952]\n",
        "numeric_list.sort()\n",
        "print(numeric_list)"
      ],
      "metadata": {
        "colab": {
          "base_uri": "https://localhost:8080/"
        },
        "id": "n2SO_jNS4RVM",
        "outputId": "184022f1-ca2e-492d-8645-4ddc26dd66de"
      },
      "execution_count": null,
      "outputs": [
        {
          "output_type": "stream",
          "name": "stdout",
          "text": [
            "[1936, 1945, 1952, 1991]\n"
          ]
        }
      ]
    },
    {
      "cell_type": "markdown",
      "source": [
        "The `reverse()` method reverses the order of the list elements."
      ],
      "metadata": {
        "id": "0Y-WRkTa4XxL"
      }
    },
    {
      "cell_type": "code",
      "source": [
        "numeric_list.reverse()\n",
        "print(numeric_list)"
      ],
      "metadata": {
        "colab": {
          "base_uri": "https://localhost:8080/"
        },
        "id": "AldXFnQ84cI_",
        "outputId": "bb8e56e8-dc2f-473b-9e8c-6ed30644aa6f"
      },
      "execution_count": null,
      "outputs": [
        {
          "output_type": "stream",
          "name": "stdout",
          "text": [
            "[1991, 1952, 1945, 1936]\n"
          ]
        }
      ]
    },
    {
      "cell_type": "markdown",
      "source": [
        "#### Copying a List\n",
        "\n",
        "The `copy()` method creates a shallow copy of the list."
      ],
      "metadata": {
        "id": "f57_pHkE4hGl"
      }
    },
    {
      "cell_type": "code",
      "source": [
        "my_list_copy = my_list.copy()\n",
        "# alter list\n",
        "my_list_copy.extend([\"Apple\", \"Banana\"])\n",
        "print(my_list)\n",
        "print(my_list_copy)"
      ],
      "metadata": {
        "colab": {
          "base_uri": "https://localhost:8080/"
        },
        "id": "q0WwcajK4lXC",
        "outputId": "17a0aefc-e58b-40eb-c7d8-6fb569448eb8"
      },
      "execution_count": null,
      "outputs": [
        {
          "output_type": "stream",
          "name": "stdout",
          "text": [
            "['Alan Turing', 1936, 'ENIAC', 1945, 'Python', 1991, 'Python']\n",
            "['Alan Turing', 1936, 'ENIAC', 1945, 'Python', 1991, 'Python', 'Apple', 'Banana']\n"
          ]
        }
      ]
    },
    {
      "cell_type": "markdown",
      "source": [
        "### Nested Lists\n",
        "\n",
        "A **nested list** is a list that contains other lists as its elements. This is useful for creating complex data structures like matrices or lists of lists."
      ],
      "metadata": {
        "id": "0QyNLdmbpXO7"
      }
    },
    {
      "cell_type": "code",
      "source": [
        "nested_list = [\n",
        "    [\"Alan Turing\", 1936],\n",
        "    [\"ENIAC\", 1945],\n",
        "    [\"Python\", 1991],\n",
        "    [\"Grace Hopper\", 1952]\n",
        "]\n",
        "print(nested_list)"
      ],
      "metadata": {
        "colab": {
          "base_uri": "https://localhost:8080/"
        },
        "id": "mdaeDBel5Kd3",
        "outputId": "b3e40a37-0841-4bc7-986d-31178e485f44"
      },
      "execution_count": null,
      "outputs": [
        {
          "output_type": "stream",
          "name": "stdout",
          "text": [
            "[['Alan Turing', 1936], ['ENIAC', 1945], ['Python', 1991], ['Grace Hopper', 1952]]\n"
          ]
        }
      ]
    },
    {
      "cell_type": "markdown",
      "source": [
        "In this example, `nested_list` is a list where each element is itself a list containing a name and a year.\n",
        "\n",
        "#### Accessing Elements in Nested Lists\n",
        "\n",
        "You can access elements in a nested list using multiple indices. The first index accesses the outer list, and the second index accesses the inner list."
      ],
      "metadata": {
        "id": "dl0_LvN35PAR"
      }
    },
    {
      "cell_type": "code",
      "source": [
        "# Accessing the first inner list\n",
        "first_inner_list = nested_list[0]\n",
        "\n",
        "# Accessing an element in the first inner list\n",
        "first_name = nested_list[0][0]\n",
        "\n",
        "print(first_inner_list)\n",
        "print(first_name)"
      ],
      "metadata": {
        "colab": {
          "base_uri": "https://localhost:8080/"
        },
        "id": "C5VqlLUt5Tyz",
        "outputId": "6413a7bd-9a28-4e01-d21d-b5c9f8e2d6e7"
      },
      "execution_count": null,
      "outputs": [
        {
          "output_type": "stream",
          "name": "stdout",
          "text": [
            "['Alan Turing', 1936]\n",
            "Alan Turing\n"
          ]
        }
      ]
    },
    {
      "cell_type": "markdown",
      "source": [
        "## Data Types Matter!\n",
        "Here are some examples of errors that might occur if you don't use the right data type in your Python code:\n",
        "\n",
        "In this example, we're trying to add a number (integer) and a string, which is not allowed in Python. This will raise a TypeError with the message \"unsupported operand type(s) for +: 'int' and 'str'\"."
      ],
      "metadata": {
        "id": "JQ15Pfv4hocH"
      }
    },
    {
      "cell_type": "code",
      "source": [
        "# Raises a TypeError\n",
        "num = 5\n",
        "text = \"Hello\"\n",
        "result = num + text"
      ],
      "metadata": {
        "id": "939jn_Qth2T_",
        "colab": {
          "base_uri": "https://localhost:8080/",
          "height": 210
        },
        "outputId": "b063ccbb-2052-4c92-ff70-427bbe6a2430"
      },
      "execution_count": null,
      "outputs": [
        {
          "output_type": "error",
          "ename": "TypeError",
          "evalue": "ignored",
          "traceback": [
            "\u001b[0;31m---------------------------------------------------------------------------\u001b[0m",
            "\u001b[0;31mTypeError\u001b[0m                                 Traceback (most recent call last)",
            "\u001b[0;32m<ipython-input-5-9186c930de69>\u001b[0m in \u001b[0;36m<cell line: 4>\u001b[0;34m()\u001b[0m\n\u001b[1;32m      2\u001b[0m \u001b[0mnum\u001b[0m \u001b[0;34m=\u001b[0m \u001b[0;36m5\u001b[0m\u001b[0;34m\u001b[0m\u001b[0;34m\u001b[0m\u001b[0m\n\u001b[1;32m      3\u001b[0m \u001b[0mtext\u001b[0m \u001b[0;34m=\u001b[0m \u001b[0;34m\"Hello\"\u001b[0m\u001b[0;34m\u001b[0m\u001b[0;34m\u001b[0m\u001b[0m\n\u001b[0;32m----> 4\u001b[0;31m \u001b[0mresult\u001b[0m \u001b[0;34m=\u001b[0m \u001b[0mnum\u001b[0m \u001b[0;34m+\u001b[0m \u001b[0mtext\u001b[0m\u001b[0;34m\u001b[0m\u001b[0;34m\u001b[0m\u001b[0m\n\u001b[0m",
            "\u001b[0;31mTypeError\u001b[0m: unsupported operand type(s) for +: 'int' and 'str'"
          ]
        }
      ]
    },
    {
      "cell_type": "markdown",
      "source": [
        "In this example, we're trying to cast a string containing a floating-point number (\"3.14\") to an integer using the int() function. This is not allowed and will raise a ValueError with the message \"invalid literal for int() with base 10: '3.14'\". To fix this, you can first cast the string to a float using the float() function and then cast the float to an integer.\n"
      ],
      "metadata": {
        "id": "l8EyKZdjx9Kp"
      }
    },
    {
      "cell_type": "code",
      "source": [
        "# Raises a ValueError\n",
        "user_input = \"3.14\"\n",
        "number = int(user_input)"
      ],
      "metadata": {
        "id": "H92P6850h6Bm"
      },
      "execution_count": null,
      "outputs": []
    },
    {
      "cell_type": "markdown",
      "source": [
        "In this example, the result of adding 0.1 and 0.2 is not exactly 0.3 due to the internal representation of floating-point numbers. This can be a source of confusion and can lead to errors in your code if you're not careful when working with floats."
      ],
      "metadata": {
        "id": "WFttSWt5x-_P"
      }
    },
    {
      "cell_type": "markdown",
      "source": [
        "# Defining Your Own Functions\n",
        "Defining your own functions in Python is a great way to organize your code and reuse parts of it. Functions are blocks of code that perform a specific task and can be called by name. To define a function, you use the def keyword, followed by the function name, parentheses, and a colon. The code inside the function is indented to indicate that it belongs to the function.\n",
        "\n",
        "Here's a simple example of defining and using a function in Python:\n",
        "\n",
        "\n"
      ],
      "metadata": {
        "id": "374nk-tGj_-h"
      }
    },
    {
      "cell_type": "code",
      "source": [
        "# Define a function called 'greet'\n",
        "def greet(name):\n",
        "    message = f\"Hello, {name}!\"\n",
        "    print(message)"
      ],
      "metadata": {
        "id": "Gt9us4EcgjSz"
      },
      "execution_count": null,
      "outputs": []
    },
    {
      "cell_type": "code",
      "source": [
        "# Call the function twice\n",
        "greet(\"Cookie Monster\")\n",
        "greet(\"Gonger\")"
      ],
      "metadata": {
        "id": "HpSYSehR51b8",
        "outputId": "07f57ebb-b56c-4d73-92d2-bcbfe38ed11d",
        "colab": {
          "base_uri": "https://localhost:8080/"
        }
      },
      "execution_count": null,
      "outputs": [
        {
          "output_type": "stream",
          "name": "stdout",
          "text": [
            "Hello, Cookie Monster!\n",
            "Hello, Gonger!\n"
          ]
        }
      ]
    },
    {
      "cell_type": "markdown",
      "source": [
        "In this example, we defined a function called greet that takes one **parameter**, name. The function creates a greeting message using an f-string and prints it. It stores this in a **local variable** called `message` (local variables are accessible ONLY in the function in which they are defined. By default, all variables defined in functions are local).\n",
        "\n",
        "After defining the function, we called it twice with different arguments (\"Alice\" and \"Bob\") to demonstrate how it works.\n",
        "\n",
        "Here are some key points to remember when defining functions in Python:\n",
        "\n",
        "1. Use the def keyword to start defining a function.\n",
        "2. Choose a meaningful name for your function that describes what it does.\n",
        "3. Put parentheses after the function name, and include any parameters the function needs inside the parentheses.\n",
        "4. End the function definition with a colon.\n",
        "5. Indent the code inside the function by one level (usually 4 spaces) to indicate that it belongs to the function.\n",
        "6. To call the function, use its name followed by parentheses, and include any arguments the function needs inside the parentheses.\n",
        "\n",
        "Defining your own functions allows you to create reusable blocks of code that can be easily maintained and modified. It's an essential skill to learn when programming in Python or any other programming language."
      ],
      "metadata": {
        "id": "OUfo8dQSqzM1"
      }
    },
    {
      "cell_type": "markdown",
      "source": [
        "## What is a \"Return\" Value?\n",
        "When a function returns a value, it means that the function produces a result that can be used by other parts of your code. Functions in Python can return values using the return keyword, followed by the value or expression that you want the function to return. When the return statement is executed, the function ends, and the value is sent back to the part of the code that called the function.\n",
        "\n",
        "Returning a value allows you to use the result of a function in various ways, such as assigning it to a variable, using it in an expression, or passing it as an argument to another function.\n",
        "\n",
        "Here's a simple example of a function that returns a value:\n",
        "\n"
      ],
      "metadata": {
        "id": "8xiZR8G_kZ-5"
      }
    },
    {
      "cell_type": "code",
      "source": [
        "def add(num1, num2):\n",
        "    result = num1 + num2\n",
        "    return result"
      ],
      "metadata": {
        "id": "YnZGb5n_kj0J",
        "colab": {
          "base_uri": "https://localhost:8080/"
        },
        "outputId": "280d3cf0-c2d3-4b81-c76d-22c5c380e318"
      },
      "execution_count": null,
      "outputs": [
        {
          "output_type": "stream",
          "name": "stdout",
          "text": [
            "3 + 4 = 7\n"
          ]
        }
      ]
    },
    {
      "cell_type": "code",
      "source": [
        "# call the function\n",
        "add(3,4)"
      ],
      "metadata": {
        "id": "qkXcd0Z-6Bpc",
        "outputId": "98bcdbbd-b645-447e-abb6-7384ed602a79",
        "colab": {
          "base_uri": "https://localhost:8080/"
        }
      },
      "execution_count": null,
      "outputs": [
        {
          "output_type": "execute_result",
          "data": {
            "text/plain": [
              "7"
            ]
          },
          "metadata": {},
          "execution_count": 63
        }
      ]
    },
    {
      "cell_type": "code",
      "source": [
        "# We can embed add within print\n",
        "print(add(5,6))\n",
        "print(add(23425, 34232))"
      ],
      "metadata": {
        "id": "ekl-fuXq6IRz",
        "outputId": "5d2bc3a0-de00-4bb3-abae-f62d94d66a12",
        "colab": {
          "base_uri": "https://localhost:8080/"
        }
      },
      "execution_count": null,
      "outputs": [
        {
          "output_type": "stream",
          "name": "stdout",
          "text": [
            "11\n",
            "57657\n"
          ]
        }
      ]
    },
    {
      "cell_type": "markdown",
      "source": [
        "In this example, we defined a function called add that takes two parameters, num1 and num2. The function adds the two numbers and returns the result using the return statement. We then called the function with the arguments 3 and 4 and stored the returned value in the variable sum_result. Finally, we printed the result.\n",
        "\n",
        "Remember that when a function returns a value, you can use that value in various ways in your code. If a function doesn't include a return statement, it implicitly returns None, which is a special value in Python that represents the absence of a value or a null result."
      ],
      "metadata": {
        "id": "JoblXqIVq5tr"
      }
    },
    {
      "cell_type": "markdown",
      "source": [
        "## Why Use Functions?\n",
        "Python functions provide a great way to organize your code. Here are few examples of simple fuctions that \"return\" different sorts of values.\n",
        "\n",
        "### Functions that Return a String\n",
        "In this example, the create_sentence function takes three parameters (subject, verb, and object) and returns a string combining them into a sentence.\n",
        "\n"
      ],
      "metadata": {
        "id": "0YNskNQklLf2"
      }
    },
    {
      "cell_type": "code",
      "source": [
        "def create_sentence(subject, verb, object):\n",
        "    return f\"{subject} {verb} {object}.\""
      ],
      "metadata": {
        "id": "v7rtz1kylzTm"
      },
      "execution_count": null,
      "outputs": []
    },
    {
      "cell_type": "code",
      "source": [
        "sentence1 = create_sentence(\"The dog\", \"chased\", \"the cat\")\n",
        "sentence2 = create_sentence(\"I\", \"love\", \"Python\")\n",
        "print(sentence1)\n",
        "print(sentence2)"
      ],
      "metadata": {
        "id": "pjkA9Xd86Rqf",
        "outputId": "8faa9050-f005-494f-c52c-f4f61bfe19b5",
        "colab": {
          "base_uri": "https://localhost:8080/"
        }
      },
      "execution_count": null,
      "outputs": [
        {
          "output_type": "stream",
          "name": "stdout",
          "text": [
            "The dog chased the cat.\n",
            "I love Python.\n"
          ]
        }
      ]
    },
    {
      "cell_type": "markdown",
      "source": [
        "### Function that returns a float\n",
        "\n",
        "In this example, the calculate_area function takes a single parameter (radius) and returns the area of a circle as a float. It uses the math.pi constant for the value of pi.\n",
        "\n"
      ],
      "metadata": {
        "id": "tXCVcnv_rAaM"
      }
    },
    {
      "cell_type": "code",
      "source": [
        "def calculate_area(radius):\n",
        "    import math\n",
        "    area = math.pi * (radius ** 2)\n",
        "    return area"
      ],
      "metadata": {
        "id": "Yjpx6y79l3Gk"
      },
      "execution_count": null,
      "outputs": []
    },
    {
      "cell_type": "code",
      "source": [
        "# call the function\n",
        "area1 = calculate_area(5)\n",
        "area2 = calculate_area(10)\n",
        "print(f\"Area of circle with radius 5: {area1:.2f}\")\n",
        "print(f\"Area of circle with radius 10: {area2:.2f}\")"
      ],
      "metadata": {
        "id": "2XQTnkhr6UtJ",
        "outputId": "9691d493-acdc-45da-c1a3-d30dfccd3837",
        "colab": {
          "base_uri": "https://localhost:8080/"
        }
      },
      "execution_count": null,
      "outputs": [
        {
          "output_type": "stream",
          "name": "stdout",
          "text": [
            "Area of circle with radius 5: 78.54\n",
            "Area of circle with radius 10: 314.16\n"
          ]
        }
      ]
    },
    {
      "cell_type": "markdown",
      "source": [
        "### Function that returns an integer\n",
        "\n",
        "In this example, the count_vowels function takes a string parameter (text) and returns the count of vowels (a, e, i, o, u) in the text as an integer. It uses a generator expression and the sum() function to count the vowels.\n"
      ],
      "metadata": {
        "id": "TuxuWky5rCvs"
      }
    },
    {
      "cell_type": "code",
      "source": [
        "def count_vowels(text):\n",
        "    vowels = \"aeiou\"\n",
        "    count = sum(1 for char in text.lower() if char in vowels)\n",
        "    return count\n"
      ],
      "metadata": {
        "id": "tHjg1Oqzl6P0"
      },
      "execution_count": null,
      "outputs": []
    },
    {
      "cell_type": "code",
      "source": [
        "count1 = count_vowels(\"Hello, World!\")\n",
        "count2 = count_vowels(\"Python Programming\")\n",
        "print(f\"Number of vowels in 'Hello, World!': {count1}\")\n",
        "print(f\"Number of vowels in 'Python Programming': {count2}\")"
      ],
      "metadata": {
        "id": "R3VV8YtZ6WdI",
        "outputId": "a500755d-85e9-45c2-dc99-0204bd5b6f61",
        "colab": {
          "base_uri": "https://localhost:8080/"
        }
      },
      "execution_count": null,
      "outputs": [
        {
          "output_type": "stream",
          "name": "stdout",
          "text": [
            "Number of vowels in 'Hello, World!': 3\n",
            "Number of vowels in 'Python Programming': 4\n"
          ]
        }
      ]
    },
    {
      "cell_type": "markdown",
      "source": [
        "## Simple Function Examples\n",
        "To get a sense of how how functions \"work\", here a few more more examples:\n",
        "\n",
        "| Code | Function Description |\n",
        "| --- | --- |\n",
        "| `def f(a, b): return a**2 + b**2` | Define a Python function that returns the sum of squares of two numbers a and b. |\n",
        "| `def f(a, b): return a**2 - b**2` | Define a Python function that returns the difference of squares of a and b. |\n",
        "| `def f(a, b): return (a ** b) + b` | Define a Python function that raises a number a to the power of b and adds b. |\n",
        "|` def f(a, b): return (a**2) % b` | Define a Python function that returns the remainder of a squared divided by b. |\n",
        "| `def f(a): return a % 2 == 0` | Define a Python function that checks if a number a is even. |\n",
        "| `def f(a): return a % 2 != 0` | Define a Python function that checks if a number a is odd. |\n",
        "| `def f(c): return (c * 9/5) + 32` | Define a Python function that converts a temperature in Celsius to Fahrenheit. |\n",
        "| `def f(f): return (f - 32) * 5/9` | Define a Python function that converts a temperature in Fahrenheit to Celsius. |\n",
        "| `def f(r): return 3.14 * r**2` | Define a Python function that calculates the area of a circle with radius r. |\n",
        "| `def f(name): return \"Hello, \" + name` | Define a Python function that returns a string with \"Hello, \" followed by a name. |\n",
        "| `def f(name): print(\"Goodbye, \" + name)` | Define a Python function that prints \"Goodbye, \" followed by a name. |\n",
        "| `def f(s, n): print(s[:n])` | Define a Python function that prints the first n characters of a string s. |\n",
        "| `def f(s): return s[::-1]` | Define a Python function that returns the reverse of a string s. |\n",
        "| `def f(a): return \"True\" if a > 0 else \"False\"` | Define a Python function that returns a string with \"True\" if a is positive, else \"False.\" |\n",
        "| `def f(t): print(\"Hot\" if t > 30 else \"Cold\")` | Define a Python function that prints \"Hot\" if the temperature t is above 30, else \"Cold.\" |\n",
        "| `def f(s): print(s + \"!!!\")` | Define a Python function that prints a string s with exclamation marks added. |\n",
        "| `def f(a, b): return str(a) + \" \" + str(b)` | Define a Python function that returns a string with a and b separated by a space. |\n",
        "| `def f(s, n): return len(s) > n` | Define a Python function that checks if the length of a string s is greater than n. |"
      ],
      "metadata": {
        "id": "7kT6fuq-yruP"
      }
    },
    {
      "cell_type": "markdown",
      "source": [
        "## Exercises\n",
        "\n",
        "### Exercise 1: Alive!\n",
        "Create a function called `its_alive` that prints \"It's alive!\" when called.\n",
        "- Hint: Define the function and use the `print()` function inside it.\n",
        "- Sample Function Call: `its_alive()`\n",
        "- Sample Output: `It's alive!`"
      ],
      "metadata": {
        "id": "ZlAluZmlt3wP"
      }
    },
    {
      "cell_type": "code",
      "source": [
        "def its_alive(): # Every function starts like this\n",
        "  # Your code here!\n",
        "\n",
        "its_alive() # now, we need to \"call\" the function to run it"
      ],
      "metadata": {
        "id": "9Lch2prjVS-i"
      },
      "execution_count": null,
      "outputs": []
    },
    {
      "cell_type": "markdown",
      "source": [
        "\n",
        "### Exercise 2: Experiment Duration\n",
        "Create a function called `experiment_duration` that takes the number of days as an integer parameter and returns the number of hours the experiment will last.\n",
        "- Hint: Multiply the number of days by 24 to get the number of hours.\n",
        "- Sample Function Call: `experiment_duration(3)`\n",
        "- Sample Output: `72`"
      ],
      "metadata": {
        "id": "Di5X7ysDVTjk"
      }
    },
    {
      "cell_type": "code",
      "source": [],
      "metadata": {
        "id": "_RJV5XjQVVlA"
      },
      "execution_count": null,
      "outputs": []
    },
    {
      "cell_type": "markdown",
      "source": [
        "\n",
        "### Exercise 3: Potion Mixing\n",
        "Create a function called `mix_potion` that takes two float parameters, representing the volumes of Potion A and Potion B, and returns the total volume of the mixed potion.\n",
        "- Hint: Add the volumes of the two potions.\n",
        "- Sample Function Call: `mix_potion(3.5, 4.2)`\n",
        "- Sample Output: `7.7`\n",
        "\n"
      ],
      "metadata": {
        "id": "yBgwMNnAVV1E"
      }
    },
    {
      "cell_type": "code",
      "source": [],
      "metadata": {
        "id": "12q3x1t_VYhg"
      },
      "execution_count": null,
      "outputs": []
    },
    {
      "cell_type": "markdown",
      "source": [
        "### Exercise 4: Franken-name\n",
        "Create a function `franken_name(name)` that takes a person's name as a parameter that return \"FRANKEN\" plus their name in uppercase.\n",
        "-Sample call: `franken_name(bob)`\n",
        "-Sample output: `FRANKENBOB`"
      ],
      "metadata": {
        "id": "hpFyDOgQVZvn"
      }
    },
    {
      "cell_type": "code",
      "source": [],
      "metadata": {
        "id": "5aBv4ZQlVaQi"
      },
      "execution_count": null,
      "outputs": []
    },
    {
      "cell_type": "markdown",
      "source": [
        "### Exercise 5: Midnight Snack\n",
        "Append \"Midnight Pie\" to the end of the list and return the list.\n",
        "-   Hint: Use `append()` to add an item to the end of the list.\n",
        "-   Sample Function Call: `midnight_snack([\"Cookies\", \"Chips\"])`\n",
        "-   Sample Output: `[\"Cookies\", \"Chips\", \"Midnight Pie\"]`"
      ],
      "metadata": {
        "id": "ls7ZcvuOAn5V"
      }
    },
    {
      "cell_type": "code",
      "source": [],
      "metadata": {
        "id": "Mp0k1YQQVdw5"
      },
      "execution_count": null,
      "outputs": []
    },
    {
      "cell_type": "markdown",
      "source": [
        "\n",
        "### Exercise 6: Vampire's Last Bite\n",
        " Write a function named `last_bite` that takes a list of food items. If \"Garlic Bread\" is in the list, remove it (Vampires can't eat garlic!). Return the modified list.\n",
        "-   Hint: Use `remove()` to get rid of an item by its value.\n",
        "-   Sample Function Call: `last_bite([\"Garlic Bread\", \"Pizza\", \"Pasta\"])`\n",
        "-   Sample Output: `[\"Pizza\", \"Pasta\"]`"
      ],
      "metadata": {
        "id": "koMlBtQTVd-w"
      }
    },
    {
      "cell_type": "code",
      "source": [],
      "metadata": {
        "id": "OgvyMSRAVg6B"
      },
      "execution_count": null,
      "outputs": []
    },
    {
      "cell_type": "markdown",
      "source": [
        "\n",
        "### Exercise 7: Haunting Melody (BONUS)\n",
        " Create a function named `haunting_melody` that takes a list of song titles. Using the `insert()` method, add the song \"The Monster Mash\" to the front of the list, then return the list.\n",
        "-   Hint: Use `insert(0, \"The Monster Mash\")` to add an item at the beginning of the list. The number 0 indicates the position, and \"The Monster Mash\" is the item you want to add.\n",
        "-   Sample Function Call: `haunting_melody([\"Thriller\", \"Ghostbusters Theme\"])`\n",
        "-   Sample Output: `[\"The Monster Mash\", \"Thriller\", \"Ghostbusters Theme\"]`"
      ],
      "metadata": {
        "id": "h3YLXQcGVhmy"
      }
    },
    {
      "cell_type": "code",
      "source": [],
      "metadata": {
        "id": "2w2ib9cyXBVz"
      },
      "execution_count": null,
      "outputs": []
    },
    {
      "cell_type": "markdown",
      "source": [
        "\n",
        "### Exercise 8: Ghostly Exit (BONUS)\n",
        "Write a function named `ghostly_exit` that accepts a list of partygoers. Add the name \"Casper\" to the end of the list using `append()`. Then, use the `pop()` method to remove the first name from the list. Return the modified list.\n",
        "-   Hint: Use `append()` to add to the end and `pop(0)` to remove the first item. The number 0 inside `pop()` specifies the index of the item you want to remove.\n",
        "-   Sample Function Call: `ghostly_exit([\"Betelgeuse\", \"Moaning Myrtle\"])`\n",
        "-   Sample Output: `[\"Moaning Myrtle\", \"Casper\"]`"
      ],
      "metadata": {
        "id": "UQX9oZUMVlck"
      }
    },
    {
      "cell_type": "markdown",
      "source": [
        "# Debugging\n",
        "Debugging is the process of finding and fixing errors or issues in your code. There are various techniques you can use to debug your code, ranging from simple print statements to more advanced debugging tools. Here are some common debugging methods:\n",
        "\n",
        "## Print statements\n",
        "Using print statements is a simple and straightforward way to debug your code. You can insert print() statements at various points in your code to display the values of variables, the flow of execution, or any other relevant information. This can help you identify where things are going wrong or unexpected behavior is occurring.\n",
        "\n",
        "To use print statements effectively, make sure to provide clear and meaningful messages, so it's easy to understand what the output represents. For example:\n",
        "\n",
        "\n"
      ],
      "metadata": {
        "id": "96bdvtnMm_es"
      }
    },
    {
      "cell_type": "code",
      "source": [
        "def calculate_area(radius):\n",
        "    # What is wrong here?\n",
        "    print(f\"Input radius: {radius}\")\n",
        "    area = 3.14159 * (radius * 2)\n",
        "    print(f\"Calculated area: {area}\")\n",
        "    return area\n",
        "\n",
        "print(calculate_area(5))"
      ],
      "metadata": {
        "id": "lcT8VwV2pcfe",
        "colab": {
          "base_uri": "https://localhost:8080/"
        },
        "outputId": "f44dcf3f-b10b-431b-ac80-53f029981a3a"
      },
      "execution_count": null,
      "outputs": [
        {
          "output_type": "stream",
          "name": "stdout",
          "text": [
            "Input radius: 5\n",
            "Calculated area: 31.4159\n",
            "31.4159\n"
          ]
        }
      ]
    },
    {
      "cell_type": "markdown",
      "source": [
        "By breaking your code into discrete functions and using Jupyter Notebook's cell structure, you can isolate specific parts of your code for debugging. This makes it easier to identify and fix issues, as you can focus on smaller, more manageable pieces."
      ],
      "metadata": {
        "id": "iS7EsRfirxje"
      }
    },
    {
      "cell_type": "markdown",
      "source": [
        "## Reading exception trace\n",
        "When an error occurs in your code, Python will raise an exception and display a traceback, which provides detailed information about the error and the line of code where it occurred. Understanding how to read **exception traces** is essential for debugging your code.\n",
        "\n",
        "Here is an example of code that should lead to an error, and give us an exception trace.\n"
      ],
      "metadata": {
        "id": "Pa9Wdu7YrrVP"
      }
    },
    {
      "cell_type": "code",
      "source": [
        "def divide(a, b):\n",
        "    return a / b\n",
        "\n",
        "print(divide(5, 0))"
      ],
      "metadata": {
        "id": "kMpQPn3Z8Zgh",
        "colab": {
          "base_uri": "https://localhost:8080/",
          "height": 314
        },
        "outputId": "5f73a5ae-f4ad-4fae-da1a-f322e4c4e20c"
      },
      "execution_count": null,
      "outputs": [
        {
          "output_type": "error",
          "ename": "ZeroDivisionError",
          "evalue": "ignored",
          "traceback": [
            "\u001b[0;31m---------------------------------------------------------------------------\u001b[0m",
            "\u001b[0;31mZeroDivisionError\u001b[0m                         Traceback (most recent call last)",
            "\u001b[0;32m<ipython-input-12-01865cd689ce>\u001b[0m in \u001b[0;36m<cell line: 4>\u001b[0;34m()\u001b[0m\n\u001b[1;32m      2\u001b[0m     \u001b[0;32mreturn\u001b[0m \u001b[0ma\u001b[0m \u001b[0;34m/\u001b[0m \u001b[0mb\u001b[0m\u001b[0;34m\u001b[0m\u001b[0;34m\u001b[0m\u001b[0m\n\u001b[1;32m      3\u001b[0m \u001b[0;34m\u001b[0m\u001b[0m\n\u001b[0;32m----> 4\u001b[0;31m \u001b[0mprint\u001b[0m\u001b[0;34m(\u001b[0m\u001b[0mdivide\u001b[0m\u001b[0;34m(\u001b[0m\u001b[0;36m5\u001b[0m\u001b[0;34m,\u001b[0m \u001b[0;36m0\u001b[0m\u001b[0;34m)\u001b[0m\u001b[0;34m)\u001b[0m\u001b[0;34m\u001b[0m\u001b[0;34m\u001b[0m\u001b[0m\n\u001b[0m",
            "\u001b[0;32m<ipython-input-12-01865cd689ce>\u001b[0m in \u001b[0;36mdivide\u001b[0;34m(a, b)\u001b[0m\n\u001b[1;32m      1\u001b[0m \u001b[0;32mdef\u001b[0m \u001b[0mdivide\u001b[0m\u001b[0;34m(\u001b[0m\u001b[0ma\u001b[0m\u001b[0;34m,\u001b[0m \u001b[0mb\u001b[0m\u001b[0;34m)\u001b[0m\u001b[0;34m:\u001b[0m\u001b[0;34m\u001b[0m\u001b[0;34m\u001b[0m\u001b[0m\n\u001b[0;32m----> 2\u001b[0;31m     \u001b[0;32mreturn\u001b[0m \u001b[0ma\u001b[0m \u001b[0;34m/\u001b[0m \u001b[0mb\u001b[0m\u001b[0;34m\u001b[0m\u001b[0;34m\u001b[0m\u001b[0m\n\u001b[0m\u001b[1;32m      3\u001b[0m \u001b[0;34m\u001b[0m\u001b[0m\n\u001b[1;32m      4\u001b[0m \u001b[0mprint\u001b[0m\u001b[0;34m(\u001b[0m\u001b[0mdivide\u001b[0m\u001b[0;34m(\u001b[0m\u001b[0;36m5\u001b[0m\u001b[0;34m,\u001b[0m \u001b[0;36m0\u001b[0m\u001b[0;34m)\u001b[0m\u001b[0;34m)\u001b[0m\u001b[0;34m\u001b[0m\u001b[0;34m\u001b[0m\u001b[0m\n",
            "\u001b[0;31mZeroDivisionError\u001b[0m: division by zero"
          ]
        }
      ]
    },
    {
      "cell_type": "markdown",
      "source": [
        "In this example, we have a ZeroDivisionError because we tried to divide by zero. The traceback shows the line where the error occurred (----> 2) and the function that caused the error (divide). By examining the traceback, you can locate the problematic code and determine what needs to be fixed."
      ],
      "metadata": {
        "id": "69DimubosONz"
      }
    },
    {
      "cell_type": "markdown",
      "source": [
        "## Rubber duck debugging\n",
        "Rubber duck debugging is a method where you explain your code line by line to a rubber duck (or any other inanimate object) as if you're teaching it how the code works. The act of verbalizing your thought process and explaining the code out loud can help you discover issues or inconsistencies you didn't notice before.\n",
        "\n",
        "To use rubber duck debugging effectively, follow these steps:\n",
        "\n",
        "1. Place a rubber duck (or any object) on your desk or near your computer.\n",
        "2. Start at the beginning of your code and explain each line or block of code in detail.\n",
        "3. For each line, describe the purpose of the code, what it's doing, and the expected outcome.\n",
        "4. As you explain your code, pay close attention to any assumptions you're making or any parts that feel unclear or confusing.\n",
        "5. Breaking your code into discrete functions (and using Jupyter Notebook cells) can make rubber duck debugging more effective. By focusing on one function or cell at a time, you can dive deep into the logic of your code and identify issues more easily.\n",
        "\n",
        "Remember that different debugging techniques work better for different situations and personal preferences. Start with these three methods, and as you gain experience, you can explore other debugging techniques that suit your needs."
      ],
      "metadata": {
        "id": "2Qnp0thUrtXH"
      }
    },
    {
      "cell_type": "markdown",
      "source": [
        "## How Computers Store Integers\n",
        "\n",
        "Computers fundamentally operate using **binary** (base-2) numbers, which are composed of only two digits: 0 and 1. These binary digits, or **bits**, form the foundation of digital data representation and processing. Each bit can be thought of as a simple switch that is either off (0) or on (1). By combining multiple bits, computers can represent more complex data, including integers.\n",
        "\n",
        "### Understanding Bits and Bytes\n",
        "\n",
        "As we discussed earlier, a **byte** is a common unit of digital information that consists of eight bits. In an 8-bit system, each byte can represent a wide range of values by combining the bits in different configurations. The number of possible combinations of 8 bits is 282^828, or 256. This means an 8-bit system can represent 256 distinct values.\n",
        "\n",
        "To illustrate how this works, consider the following table which shows the binary representation of the first few integers in an 8-bit system:\n",
        "\n",
        "| Decimal | Binary |\n",
        "| --- | --- |\n",
        "| 0 | 00000000 |\n",
        "| 1 | 00000001 |\n",
        "| 2 | 00000010 |\n",
        "| 3 | 00000011 |\n",
        "| 4 | 00000100 |\n",
        "| 5 | 00000101 |\n",
        "| 6 | 00000110 |\n",
        "| 7 | 00000111 |\n",
        "| 8 | 00001000 |\n",
        "| 9 | 00001001 |\n",
        "| 10 | 00001010 |\n",
        "\n",
        "In this table, the left column lists the integer values in decimal (base-10), and the right column shows their corresponding binary representations.\n",
        "\n",
        "#### Signed vs. Unsigned Integers\n",
        "\n",
        "Integers can be **unsigned** or **signed**. **Unsigned integers** represent only non-negative values (0 and positive numbers), while **signed integers** can represent both negative and positive values.\n",
        "\n",
        "For an 8-bit system:\n",
        "\n",
        "-   **Unsigned integers** range from 0 to 255.\n",
        "-   **Signed integers** typically use the most significant bit (the leftmost bit) as a **sign bit**. If the sign bit is 0, the number is positive; if the sign bit is 1, the number is negative.\n",
        "\n",
        "Here's how an 8-bit system represents signed integers:\n",
        "\n",
        "| Decimal | Binary | Note |\n",
        "| --- | --- | --- |\n",
        "| 0 | 00000000 |  |\n",
        "| 1 | 00000001 |  |\n",
        "| 2 | 00000010 |  |\n",
        "| ... | ... |  |\n",
        "| 127 | 01111111 | Largest positive |\n",
        "| -128 | 10000000 | Most negative |\n",
        "| -127 | 10000001 |  |\n",
        "| ... | ... |  |\n",
        "| -1 | 11111111 |  |\n",
        "\n",
        "In this table, positive numbers are represented as usual until 127. Negative numbers are represented using a method called **two's complement**, where the most negative number (in this case, -128) is represented as `10000000` and the most negative number is represented by flipping the bits of the positive number and adding one to the result.\n",
        "\n",
        "#### Two's Complement\n",
        "\n",
        "The **two's complement** method simplifies arithmetic operations with negative numbers. To find the two's complement of a number:\n",
        "\n",
        "1.  Invert all bits (turn 0s to 1s and 1s to 0s).\n",
        "2.  Add 1 to the least significant bit (rightmost bit).\n",
        "\n",
        "For example, to find the two's complement of 5 (00000101):\n",
        "\n",
        "1.  Invert the bits: 11111010\n",
        "2.  Add 1: 11111010 + 1 = 11111011\n",
        "\n",
        "Thus, -5 is represented as `11111011` in an 8-bit system.\n"
      ],
      "metadata": {
        "id": "i_ziRmBolGGf"
      }
    },
    {
      "cell_type": "markdown",
      "source": [
        "### How Computers Store Floating Point Numbers\n",
        "\n",
        "While integers are straightforward to store using binary representation, **floating point numbers** (which include fractions and real numbers) require a more complex system. Computers use a standard called the **IEEE 754** for representing floating point numbers. This standard allows for a wide range of values, including very small and very large numbers, by using scientific notation in binary form.\n",
        "\n",
        "#### Components of Floating Point Representation\n",
        "\n",
        "A floating point number in an 8-bit system can be divided into three main components:\n",
        "\n",
        "1.  **Sign bit (S)**: This bit determines whether the number is positive or negative. If the sign bit is 0, the number is positive; if it is 1, the number is negative.\n",
        "2.  **Exponent (E)**: This part stores the exponent in a biased form, allowing both positive and negative exponents.\n",
        "3.  **Mantissa (M)** or **Significand**: This part represents the significant digits of the number.\n",
        "\n",
        "For simplicity, let's use a hypothetical 8-bit system with the following bit allocation:\n",
        "\n",
        "-   1 bit for the sign\n",
        "-   3 bits for the exponent\n",
        "-   4 bits for the mantissa\n",
        "\n",
        "#### Example Representation\n",
        "\n",
        "Consider the floating point number 12.5. In binary, 12.5 is represented as 1100.11100.11100.1. To store this in floating point format, we normalize it to scientific notation: 1.1001×231.1001 \\times 2^31.1001×23.\n",
        "\n",
        "Let's break it down into the components for our 8-bit system:\n",
        "\n",
        "-   **Sign bit (S)**: 0 (since 12.5 is positive)\n",
        "-   **Exponent (E)**: The exponent is 3. To store it, we use a bias. For a 3-bit exponent, a common bias is 3 (since 23-1-1=32^{3-1} - 1 = 323-1-1=3). Thus, the biased exponent is 3+3=63 + 3 = 63+3=6, or 110 in binary.\n",
        "-   **Mantissa (M)**: The significant digits after the leading 1 are 1001.\n",
        "\n",
        "Thus, 12.5 in our hypothetical 8-bit floating point system is represented as:\n",
        "\n",
        "| Sign | Exponent | Mantissa |\n",
        "| --- | --- | --- |\n",
        "| 0 | 110 | 1001 |\n",
        "\n",
        "#### Table of Examples\n",
        "\n",
        "Here is a table showing the representation of some floating point numbers in this 8-bit system:\n",
        "\n",
        "| Decimal | Binary | Sign | Exponent | Mantissa |\n",
        "| --- | --- | --- | --- | --- |\n",
        "| 0.5 | 0.1 | 0 | 011 | 0000 |\n",
        "| 1.0 | 1.0 | 0 | 011 | 0000 |\n",
        "| 2.5 | 10.1 | 0 | 100 | 0100 |\n",
        "| -3.75 | -11.11 | 1 | 100 | 1110 |\n",
        "| 6.25 | 110.01 | 0 | 101 | 0010 |\n",
        "| -12.5 | -1100.1 | 1 | 110 | 1001 |\n",
        "\n",
        "In this table, the leftmost column shows the decimal value, followed by its binary representation. The next columns break down the floating point representation into sign, exponent, and mantissa.\n",
        "\n",
        "#### Normalization and Precision\n",
        "\n",
        "Normalization ensures that the binary number is always in a consistent format, which simplifies comparison and arithmetic operations. The precision of a floating point number depends on the number of bits allocated to the mantissa. More bits allow for more precise representations of numbers.\n",
        "\n",
        "#### Special Values\n",
        "\n",
        "The IEEE 754 standard also includes representations for special values:\n",
        "\n",
        "-   **Zero**: Represented with all exponent and mantissa bits set to 0.\n",
        "-   **Infinity**: Represented with all exponent bits set to 1 and all mantissa bits set to 0. The sign bit determines whether it is positive or negative infinity.\n",
        "-   **NaN (Not a Number)**: Represented with all exponent bits set to 1 and a non-zero mantissa.\n",
        "\n",
        "Understanding floating point representation is essential for working with real numbers in computing, as it affects how accurately numbers can be stored and manipulated. This knowledge is particularly important in fields requiring high precision, such as scientific computing and graphics."
      ],
      "metadata": {
        "id": "Tckphr3jlJEr"
      }
    },
    {
      "cell_type": "markdown",
      "source": [
        "## Quizlet Flashcards\n",
        "Click the following cell to launch the flashcards for this chapter."
      ],
      "metadata": {
        "id": "9S32432wSjYX"
      }
    },
    {
      "cell_type": "code",
      "source": [
        "%%html\n",
        "<iframe src=\"https://quizlet.com/818648180/learn/embed?i=psvlh&x=1jj1\" height=\"600\" width=\"100%\" style=\"border:0\"></iframe>"
      ],
      "metadata": {
        "id": "sPWYA8SUSrFT",
        "outputId": "ceb3b709-e48e-4744-ddfb-377abe89a305",
        "colab": {
          "base_uri": "https://localhost:8080/",
          "height": 622
        }
      },
      "execution_count": null,
      "outputs": [
        {
          "output_type": "display_data",
          "data": {
            "text/plain": [
              "<IPython.core.display.HTML object>"
            ],
            "text/html": [
              "<iframe src=\"https://quizlet.com/818648180/learn/embed?i=psvlh&x=1jj1\" height=\"600\" width=\"100%\" style=\"border:0\"></iframe>\n"
            ]
          },
          "metadata": {}
        }
      ]
    },
    {
      "cell_type": "markdown",
      "source": [
        "\n",
        "| **Term** | **Definition** |\n",
        "| --- | --- |\n",
        "| `0 (floating point)` | Represented with a sign bit of 0, all exponent bits as 0, and all mantissa bits as 0. |\n",
        "| `0 (two's complement)` | Represented with all bits set to 0. |\n",
        "| `-1 (two's complement)` | Represented by inverting all bits of 0 and adding 1, resulting in all bits set to 1. |\n",
        "| `1 (two's complement)` | Represented by a 1 followed by all bits set to 0 except the least significant bit. |\n",
        "| `abs(num)` | Returns the absolute value of the given number `num`, removing any negative sign. |\n",
        "| `Boolean` | A data type with two possible values: `True` and `False`, representing logical truth values. |\n",
        "| `def my_function(params):` | The first line to define a new block of reusable code called `my_function` with a list of parameters `params`. |\n",
        "| `Exception trace` | A report that provides detailed information about an error that occurred during program execution, including the type of exception and where it occurred in the code. |\n",
        "| `Exponent (floating point)` | The part of a floating point number that represents the power of the base (usually 2) by which the mantissa is multiplied. |\n",
        "| `Floating Point Number` | A number that has a decimal point and is represented in scientific notation, allowing for the representation of very large or very small values. |\n",
        "| `Function` | A reusable block of code designed to perform a specific task. It may take parameters and return a value. |\n",
        "| `Function call` | The execution of a reusable block of code in a program, which involves passing arguments to its parameters and executing its instructions. |\n",
        "| `IEEE 754` | A technical standard for floating-point arithmetic, which defines the format for representing floating point numbers and the operations on them. |\n",
        "| `Infinity (floating point)` | A special value representing a number that is larger than any finite floating point number, denoted as `inf`. |\n",
        "| `Integer` | A whole number without a fractional part, which can be positive, negative, or zero. |\n",
        "| `List` | An ordered collection of items, which can contain elements of mixed data types and is defined using square brackets. |\n",
        "| `Mantissa (floating point)` | The part of a floating point number that contains its significant digits. In scientific notation, it is the number before the exponent. |\n",
        "| `max(my_list)` | Returns the largest value in the given list `my_list`. |\n",
        "| `min(my_list)` | Returns the smallest value in the given list `my_list`. |\n",
        "| `NaN (floating point)` | Stands for \"Not a Number,\" a special value used to represent undefined or unrepresentable numerical results, such as 0/0. |\n",
        "| `num1 / num2` | The division operation that returns the quotient of `num1` divided by `num2` as a floating point number. |\n",
        "| `num1 // num2` | The floor division operation that returns the largest integer less than or equal to the quotient of `num1` divided by `num2`. |\n",
        "| `num1 ** num2` | The exponentiation operation that raises `num1` to the power of `num2`. |\n",
        "| `num1 % mod2` | The \"modulus\" operation that returns the remainder when dividing `num1` by `num2`.\n",
        "| `return value` | The value that a block of code returns to the caller when it completes its task, specified by the `return` statement. |\n",
        "| `Rubber duck debugging` | A method of debugging code by explaining it, line by line, to an inanimate object such as a rubber duck, which helps the programmer to find errors through verbalization. |\n",
        "| `Sign bit` | The bit that indicates the sign of the number, typically 0 for positive and 1 for negative. |\n",
        "| `String` | A sequence of characters used to represent text, enclosed in quotes (single or double). |\n",
        "| `Twos Complement` | A method for representing signed integers in binary, where positive numbers are represented as usual and negative numbers are represented by inverting the bits of the positive counterpart and adding one. |\n",
        "\n",
        "\n",
        "### List Methods\n",
        "| **Operation** | **Description** |\n",
        "| --- | --- |\n",
        "| `my_list = []` | Creates an empty list called `my_list`. |\n",
        "| `my_list = [1, 2, 3]` | Creates a list called `my_list` with initial elements 1, 2, and 3. |\n",
        "| `my_list[0]` | Accesses the first element of `my_list`. |\n",
        "| `my_list[-1]` | Accesses the last element of `my_list`. |\n",
        "| `my_list[1:3]` | Accesses a slice of `my_list` from index 1 to 2 (not including 3). |\n",
        "| `my_list.append(x)` | Adds an item `x` to the end of `my_list`. |\n",
        "| `my_list.extend(iterable)` | Extends `my_list` by appending all the items from the given iterable (e.g., another list). |\n",
        "| `my_list.insert(i, x)` | Inserts an item `x` at a given position `i` in `my_list`. |\n",
        "| `my_list.remove(x)` | Removes the first occurrence of the item `x` from `my_list`. |\n",
        "| `my_list.pop([i])` | Removes and returns the item at position `i` (default is the last item if `i` is not provided) from `my_list`. |\n",
        "| `my_list.clear()` | Removes all items from `my_list`. |\n",
        "| `my_list.index(x[, start[, end]])` | Returns the index of the first occurrence of the item `x` (within optional `start` and `end` bounds) in `my_list`. |\n",
        "| `my_list.count(x)` | Returns the number of times the item `x` appears in `my_list`. |\n",
        "| `my_list.sort(key=None, reverse=False)` | Sorts the items of `my_list` in place (the optional arguments can be used for custom sorting). |\n",
        "| `my_list.reverse()` | Reverses the elements of `my_list` in place. |\n",
        "| `my_list.copy()` | Returns a shallow copy of `my_list`. |\n"
      ],
      "metadata": {
        "id": "TqJ1jZU59-CA"
      }
    },
    {
      "cell_type": "code",
      "source": [],
      "metadata": {
        "id": "ajgrrwxQ9-4j"
      },
      "execution_count": null,
      "outputs": []
    }
  ]
}