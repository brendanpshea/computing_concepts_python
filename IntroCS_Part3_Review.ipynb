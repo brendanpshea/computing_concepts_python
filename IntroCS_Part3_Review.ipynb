{
  "nbformat": 4,
  "nbformat_minor": 0,
  "metadata": {
    "colab": {
      "provenance": [],
      "authorship_tag": "ABX9TyMKtJdf/iKVx3I0nHRkhtQl",
      "include_colab_link": true
    },
    "kernelspec": {
      "name": "python3",
      "display_name": "Python 3"
    },
    "language_info": {
      "name": "python"
    }
  },
  "cells": [
    {
      "cell_type": "markdown",
      "metadata": {
        "id": "view-in-github",
        "colab_type": "text"
      },
      "source": [
        "<a href=\"https://colab.research.google.com/github/brendanpshea/computing_concepts_python/blob/main/IntroCS_Part3_Review.ipynb\" target=\"_parent\"><img src=\"https://colab.research.google.com/assets/colab-badge.svg\" alt=\"Open In Colab\"/></a>"
      ]
    },
    {
      "cell_type": "code",
      "execution_count": null,
      "metadata": {
        "id": "bdwVFVIiRjjt"
      },
      "outputs": [],
      "source": []
    },
    {
      "cell_type": "markdown",
      "source": [
        "# Part 3 Review: Databases, Data Structures, AI"
      ],
      "metadata": {
        "id": "jRMF6FOdRkLG"
      }
    },
    {
      "cell_type": "markdown",
      "source": [
        "## What is a relational database?\n",
        "\n",
        "A **relational database** is a type of database that organizes data into tables, with each table consisting of rows (also known as records or tuples) and columns (also known as fields or attributes). The tables are related to each other through **primary keys** and **foreign keys**, which establish relationships between the tables and allow for efficient data retrieval and manipulation.\n",
        "\n",
        "In a relational database, each table represents a specific entity or concept, and each row within a table represents a unique instance of that entity. The columns define the attributes or properties of the entity. The relationships between tables are established based on the **logical connections** between the entities they represent.\n",
        "\n",
        "**Relational databases** are based on the **relational model**, which was introduced by Edgar F. Codd in 1970. The relational model provides a mathematical foundation for organizing and manipulating data in a structured manner. It defines concepts such as **data integrity**, **normalization**, and **relational algebra**, which are essential for maintaining data consistency and performing complex queries.\n",
        "\n",
        "### Example\n",
        "\n",
        "Let's consider a relational database for a library system. The database might have tables such as \"Books,\" \"Authors,\" and \"Borrowers.\" The \"Books\" table could have columns like \"BookID\" (primary key), \"Title,\" \"AuthorID\" (foreign key referencing the \"Authors\" table), and \"PublicationYear.\" The \"Authors\" table could have columns like \"AuthorID\" (primary key) and \"AuthorName.\" The \"Borrowers\" table could have columns like \"BorrowerID\" (primary key), \"BorrowerName,\" and \"BookID\" (foreign key referencing the \"Books\" table).\n",
        "\n",
        "In this example, the relationships between the tables are established through the foreign keys. The \"AuthorID\" in the \"Books\" table relates each book to its corresponding author in the \"Authors\" table, while the \"BookID\" in the \"Borrowers\" table relates each borrowed book to its corresponding book in the \"Books\" table. This allows for efficient querying and retrieval of data, such as finding all books written by a specific author or identifying the borrowers of a particular book."
      ],
      "metadata": {
        "id": "71yzDLZgRofY"
      }
    },
    {
      "cell_type": "markdown",
      "source": [
        "#### Books Table:\n",
        "\n",
        "| BookID | Title | AuthorID | PublicationYear |\n",
        "| --- | --- | --- | --- |\n",
        "| 1 | Ulysses | 1 | 1922 |\n",
        "| 2 | Dubliners | 1 | 1914 |\n",
        "| 3 | The Importance of Being Earnest | 2 | 1895 |\n",
        "| 4 | The Picture of Dorian Gray | 2 | 1890 |\n",
        "| 5 | The Playboy of the Western World | 3 | 1907 |\n",
        "\n",
        "#### Authors Table:\n",
        "\n",
        "| AuthorID | AuthorName |\n",
        "| --- | --- |\n",
        "| 1 | James Joyce |\n",
        "| 2 | Oscar Wilde |\n",
        "| 3 | John Millington Synge |\n",
        "\n",
        "#### Borrowers Table:\n",
        "\n",
        "| BorrowerID | BorrowerName | BookID |\n",
        "| --- | --- | --- |\n",
        "| 1 | John Smith | 1 |\n",
        "| 2 | Emma Johnson | 2 |\n",
        "| 3 | Michael Brown | 1 |\n",
        "| 4 | Sarah Davis | 3 |\n",
        "| 5 | David Wilson | 4 |\n",
        "\n",
        "In this example:\n",
        "\n",
        "-   The \"Books\" table contains information about each book, including its unique identifier (BookID), title, author (referenced by AuthorID), and publication year.\n",
        "-   The \"Authors\" table stores the details of each author, with their unique identifier (AuthorID) and name.\n",
        "-   The \"Borrowers\" table keeps track of who has borrowed which book, using the BorrowerID and BookID as foreign keys to establish the relationship between borrowers and books.\n",
        "\n",
        "The relationships between the tables are as follows:\n",
        "\n",
        "-   The \"AuthorID\" in the \"Books\" table is a foreign key referencing the \"AuthorID\" in the \"Authors\" table, establishing the relationship between books and their authors.\n",
        "-   The \"BookID\" in the \"Borrowers\" table is a foreign key referencing the \"BookID\" in the \"Books\" table, establishing the relationship between borrowed books and their corresponding book records.\n",
        "\n",
        "These tables and their relationships allow for efficient querying and data retrieval, such as finding all books written by a specific author or identifying the borrowers of a particular book."
      ],
      "metadata": {
        "id": "OPtWfka_Rtzm"
      }
    },
    {
      "cell_type": "code",
      "source": [
        "%load_ext sql\n",
        "%sql sqlite://"
      ],
      "metadata": {
        "id": "cz1DGDzjTNb4"
      },
      "execution_count": 4,
      "outputs": []
    },
    {
      "cell_type": "code",
      "source": [
        "%%sql\n",
        "-- Load SQL extension and establish a connection to an SQLite memory-based database\n",
        "\n",
        "-- Creating the Authors table\n",
        "CREATE TABLE Authors (\n",
        "    AuthorID INTEGER PRIMARY KEY,\n",
        "    AuthorName TEXT NOT NULL\n",
        ");\n",
        "\n",
        "-- Inserting data into the Authors table\n",
        "INSERT INTO Authors (AuthorID, AuthorName) VALUES\n",
        "    (1, 'James Joyce'),\n",
        "    (2, 'Oscar Wilde'),\n",
        "    (3, 'John Millington Synge');\n",
        "\n",
        "-- Creating the Books table\n",
        "CREATE TABLE Books (\n",
        "    BookID INTEGER PRIMARY KEY,\n",
        "    Title TEXT NOT NULL,\n",
        "    AuthorID INTEGER,\n",
        "    PublicationYear INTEGER,\n",
        "    FOREIGN KEY (AuthorID) REFERENCES Authors(AuthorID)\n",
        ");\n",
        "\n",
        "-- Inserting data into the Books table\n",
        "INSERT INTO Books (BookID, Title, AuthorID, PublicationYear) VALUES\n",
        "    (1, 'Ulysses', 1, 1922),\n",
        "    (2, 'Dubliners', 1, 1914),\n",
        "    (3, 'The Importance of Being Earnest', 2, 1895),\n",
        "    (4, 'The Picture of Dorian Gray', 2, 1890),\n",
        "    (5, 'The Playboy of the Western World', 3, 1907);\n",
        "\n",
        "-- Creating the Borrowers table\n",
        "CREATE TABLE Borrowers (\n",
        "    BorrowerID INTEGER PRIMARY KEY,\n",
        "    BorrowerName TEXT NOT NULL,\n",
        "    BookID INTEGER,\n",
        "    FOREIGN KEY (BookID) REFERENCES Books(BookID)\n",
        ");\n",
        "\n",
        "-- Inserting data into the Borrowers table\n",
        "INSERT INTO Borrowers (BorrowerID, BorrowerName, BookID) VALUES\n",
        "    (1, 'John Smith', 1),\n",
        "    (2, 'Emma Johnson', 2),\n",
        "    (3, 'Michael Brown', 1),\n",
        "    (4, 'Sarah Davis', 3),\n",
        "    (5, 'David Wilson', 4);\n"
      ],
      "metadata": {
        "colab": {
          "base_uri": "https://localhost:8080/"
        },
        "id": "JXJ-bR84UalP",
        "outputId": "8321f24f-5f45-4677-de30-d1065999e300"
      },
      "execution_count": 5,
      "outputs": [
        {
          "output_type": "stream",
          "name": "stdout",
          "text": [
            " * sqlite://\n",
            "Done.\n",
            "3 rows affected.\n",
            "Done.\n",
            "5 rows affected.\n",
            "Done.\n",
            "5 rows affected.\n"
          ]
        },
        {
          "output_type": "execute_result",
          "data": {
            "text/plain": [
              "[]"
            ]
          },
          "metadata": {},
          "execution_count": 5
        }
      ]
    },
    {
      "cell_type": "markdown",
      "source": [
        "## How do I use SQL to query databases?\n",
        "\n",
        "**SQL (Structured Query Language)** is a standard language used to interact with relational databases. It allows you to retrieve, manipulate, and manage data stored in the database tables. SQL provides various commands and clauses to perform different types of queries and operations on the database.\n",
        "\n",
        "Here are some commonly used SQL commands:\n",
        "\n",
        "-   **SELECT**: Retrieves data from one or more tables based on specified conditions.\n",
        "-   **INSERT**: Inserts new records into a table.\n",
        "-   **UPDATE**: Modifies existing records in a table.\n",
        "-   **DELETE**: Removes records from a table based on specified conditions.\n",
        "-   **JOIN**: Combines rows from two or more tables based on a related column between them.\n",
        "-   **WHERE**: Filters the result set based on specified conditions.\n",
        "-   **ORDER BY**: Sorts the result set in ascending or descending order based on one or more columns.\n",
        "-   **GROUP BY**: Groups the result set based on one or more columns.\n",
        "-   **HAVING**: Filters the grouped result set based on specified conditions.\n",
        "-   **LIMIT/OFFSET**: Restricts the number of rows returned by a query and allows for pagination.\n",
        "\n",
        "### Example\n",
        "\n",
        "Using the library database from the previous example, let's look at 10 sample SQL queries:\n",
        "\n",
        "| Query | Explanation |\n",
        "| --- | --- |\n",
        "| SELECT * FROM Books; | Retrieve all columns and rows from the \"Books\" table. |\n",
        "| SELECT Title, PublicationYear FROM Books; | Retrieve only the \"Title\" and \"PublicationYear\" columns from the \"Books\" table. |\n",
        "| SELECT * FROM Books WHERE AuthorID = 1; | Retrieve all books written by the author with AuthorID 1. |\n",
        "| SELECT * FROM Books ORDER BY PublicationYear DESC; | Retrieve all books and sort them in descending order based on the \"PublicationYear\" column. |\n",
        "| SELECT * FROM Books JOIN Authors ON Books.AuthorID = Authors.AuthorID; | Retrieve all books along with their corresponding author information by joining the \"Books\" and \"Authors\" tables based on the \"AuthorID\" column. |\n",
        "| SELECT Authors.AuthorName, COUNT(*) as BookCount FROM Authors JOIN Books ON Authors.AuthorID = Books.AuthorID GROUP BY Authors.AuthorID; | Retrieve the count of books written by each author by joining the \"Authors\" and \"Books\" tables and grouping the results by \"AuthorID\". |\n",
        "| SELECT * FROM Borrowers WHERE BookID = 1; | Retrieve all borrowers who have borrowed the book with BookID 1. |\n",
        "| INSERT INTO Books (Title, AuthorID, PublicationYear) VALUES ('The Dead', 1, 1914); | Insert a new book record into the \"Books\" table with the specified values. |\n",
        "| UPDATE Books SET PublicationYear = 1915 WHERE BookID = 6; | Update the \"PublicationYear\" of the book with BookID 6 to 1915. |\n",
        "| DELETE FROM Borrowers WHERE BorrowerID = 3; | Delete the borrower record with BorrowerID 3 from the \"Borrowers\" table. |\n",
        "\n",
        "These are just a few examples of how SQL can be used to query and manipulate data in a relational database. SQL provides many more commands and clauses to perform complex queries, data aggregation, and database management tasks."
      ],
      "metadata": {
        "id": "T4RMBua7Stwv"
      }
    },
    {
      "cell_type": "markdown",
      "source": [
        "### What is a Python Dictionary?\n",
        "\n",
        "A **Python dictionary** is a built-in data structure that allows you to store and retrieve data in a key-value format. It is an unordered collection of **key-value pairs**, where each key is unique and associated with a specific value. Dictionaries are also known as **associative arrays**, **hash tables**, or **hash maps** in other programming languages.\n",
        "\n",
        "In a dictionary, the **keys** are used to index and access the corresponding **values**. Keys must be immutable objects like strings, numbers, or tuples, while values can be of any data type, including lists, dictionaries, or even functions. The key-value pairs are enclosed in curly braces `{}`, and each pair is separated by a comma.\n",
        "\n",
        "Here's the general syntax for creating a dictionary:\n",
        "\n",
        "```python\n",
        "dictionary_name = {key1: value1, key2: value2, ..., keyN: valueN}\n",
        "```\n",
        "\n",
        "You can access the value associated with a specific key using square brackets `[]` or the `get()` method. You can also modify, add, or remove key-value pairs using various dictionary methods and operations.\n",
        "\n",
        "### Example\n",
        "\n",
        "Let's create a dictionary to store information about famous paintings and their artists:"
      ],
      "metadata": {
        "id": "remg4XOeTsQe"
      }
    },
    {
      "cell_type": "code",
      "source": [
        "paintings = {\n",
        "    \"Mona Lisa\": \"Leonardo da Vinci\",\n",
        "    \"The Starry Night\": \"Vincent van Gogh\",\n",
        "    \"The Persistence of Memory\": \"Salvador Dali\",\n",
        "    \"The Scream\": \"Edvard Munch\",\n",
        "    \"Girl with a Pearl Earring\": \"Johannes Vermeer\"\n",
        "}"
      ],
      "metadata": {
        "id": "72WdBjndTvdD"
      },
      "execution_count": null,
      "outputs": []
    },
    {
      "cell_type": "markdown",
      "source": [
        "Now, let's take a look at some common operations."
      ],
      "metadata": {
        "id": "qNaovPtJUG2v"
      }
    },
    {
      "cell_type": "code",
      "source": [
        "# Create a dictionary to store information about famous paintings and their artists\n",
        "paintings = {\n",
        "    \"Mona Lisa\": \"Leonardo da Vinci\",\n",
        "    \"The Starry Night\": \"Vincent van Gogh\",\n",
        "    \"The Persistence of Memory\": \"Salvador Dali\",\n",
        "    \"The Scream\": \"Edvard Munch\",\n",
        "    \"Girl with a Pearl Earring\": \"Johannes Vermeer\"\n",
        "}\n",
        "\n",
        "# Accessing values\n",
        "print(\"Accessing values:\")\n",
        "print(paintings[\"Mona Lisa\"])  # Output: Leonardo da Vinci\n",
        "print(paintings.get(\"The Starry Night\"))  # Output: Vincent van Gogh\n",
        "print()\n",
        "\n",
        "# Modifying values\n",
        "print(\"Modifying values:\")\n",
        "paintings[\"The Scream\"] = \"Edvard Munch (Norwegian)\"\n",
        "print(paintings[\"The Scream\"])  # Output: Edvard Munch (Norwegian)\n",
        "print()\n",
        "\n",
        "# Adding new key-value pairs\n",
        "print(\"Adding new key-value pairs:\")\n",
        "paintings[\"The Birth of Venus\"] = \"Sandro Botticelli\"\n",
        "print(paintings[\"The Birth of Venus\"])  # Output: Sandro Botticelli\n",
        "print()\n",
        "\n",
        "# Removing key-value pairs\n",
        "print(\"Removing key-value pairs:\")\n",
        "del paintings[\"The Persistence of Memory\"]\n",
        "print(\"The Persistence of Memory\" in paintings)  # Output: False\n",
        "print()\n",
        "\n",
        "# Checking if a key exists\n",
        "print(\"Checking if a key exists:\")\n",
        "if \"Girl with a Pearl Earring\" in paintings:\n",
        "    print(\"The painting 'Girl with a Pearl Earring' exists in the dictionary.\")\n",
        "print()\n",
        "\n",
        "# Iterating over a dictionary\n",
        "print(\"Iterating over a dictionary:\")\n",
        "for painting, artist in paintings.items():\n",
        "    print(f\"{painting} is painted by {artist}.\")"
      ],
      "metadata": {
        "colab": {
          "base_uri": "https://localhost:8080/"
        },
        "id": "-KKFXvQ3UOdW",
        "outputId": "b9c89438-fb0b-4424-d423-db60f0fc8c78"
      },
      "execution_count": 2,
      "outputs": [
        {
          "output_type": "stream",
          "name": "stdout",
          "text": [
            "Accessing values:\n",
            "Leonardo da Vinci\n",
            "Vincent van Gogh\n",
            "\n",
            "Modifying values:\n",
            "Edvard Munch (Norwegian)\n",
            "\n",
            "Adding new key-value pairs:\n",
            "Sandro Botticelli\n",
            "\n",
            "Removing key-value pairs:\n",
            "False\n",
            "\n",
            "Checking if a key exists:\n",
            "The painting 'Girl with a Pearl Earring' exists in the dictionary.\n",
            "\n",
            "Iterating over a dictionary:\n",
            "Mona Lisa is painted by Leonardo da Vinci.\n",
            "The Starry Night is painted by Vincent van Gogh.\n",
            "The Scream is painted by Edvard Munch (Norwegian).\n",
            "Girl with a Pearl Earring is painted by Johannes Vermeer.\n",
            "The Birth of Venus is painted by Sandro Botticelli.\n"
          ]
        }
      ]
    },
    {
      "cell_type": "code",
      "source": [],
      "metadata": {
        "id": "H1xu0lLoR509"
      },
      "execution_count": null,
      "outputs": []
    }
  ]
}