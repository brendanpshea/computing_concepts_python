{
  "nbformat": 4,
  "nbformat_minor": 0,
  "metadata": {
    "colab": {
      "provenance": [],
      "authorship_tag": "ABX9TyNUfM/E+317jWuvp9oJk4eQ",
      "include_colab_link": true
    },
    "kernelspec": {
      "name": "python3",
      "display_name": "Python 3"
    },
    "language_info": {
      "name": "python"
    }
  },
  "cells": [
    {
      "cell_type": "markdown",
      "metadata": {
        "id": "view-in-github",
        "colab_type": "text"
      },
      "source": [
        "<a href=\"https://colab.research.google.com/github/brendanpshea/computing_concepts_python/blob/main/IntroCS_04_IntroToPython_Strings.ipynb\" target=\"_parent\"><img src=\"https://colab.research.google.com/assets/colab-badge.svg\" alt=\"Open In Colab\"/></a>"
      ]
    },
    {
      "cell_type": "markdown",
      "source": [
        "# Intro to Python: Strings\n",
        "\n",
        "### Brendan Shea, PhD (Brendan.Shea@rctc.edu)\n",
        "\n",
        "Python is a programming language, just like there are many languages we use to communicate with each other, like English, Spanish, or Chinese. The creator of Python, Guido van Rossum, named it after a British comedy show called \"Monty Python's Flying Circus.\" He enjoyed watching the show and wanted to give the language a fun and unique name. It has nothing to do with the snake!\n",
        "\n",
        "### Why should you learn Python?\n",
        "Python is an excellent language for beginners like you because it's simple, easy to read, and has a friendly community. Here are a few reasons why you should learn Python:\n",
        "\n",
        "1. Python is designed to be easy to understand, even for people who are new to programming. It uses plain English words and has a clean structure, so it's easier for you to learn and write code.\n",
        "\n",
        "2. Python can be used for various tasks, like building websites, analyzing data, creating games, and automating tasks. This means that once you learn Python, you can use it for many different projects!\n",
        "\n",
        "3. Python is widely used by many big companies like Google, Instagram, and Netflix. This means that if you learn Python, you'll have a valuable skill that could help you get a cool job in the future.\n",
        "\n",
        "4. Python has a large and friendly community of people who love to help each other learn and solve problems. This means that if you ever get stuck or have questions, there will always be someone to help you out.\n",
        "\n",
        "Here's an example of how simple Python code can be:"
      ],
      "metadata": {
        "id": "AflheTzAAGzu"
      }
    },
    {
      "cell_type": "code",
      "source": [
        "name = \"King Arthur\"\n",
        "print(\"Hello, \" + name + \"!\")"
      ],
      "metadata": {
        "id": "25dDpxwvAj_r",
        "colab": {
          "base_uri": "https://localhost:8080/"
        },
        "outputId": "1fb72db8-df38-4572-ad78-450690a3b214"
      },
      "execution_count": 3,
      "outputs": [
        {
          "output_type": "stream",
          "name": "stdout",
          "text": [
            "Hello, King Arthur!\n"
          ]
        }
      ]
    },
    {
      "cell_type": "markdown",
      "source": [
        "This small program will say hello to Arthur. You can see how easy it is to read and understand!\n",
        "\n",
        "Now that you know why Python is called Python and why it's a great language to learn, I hope you're excited to start your programming journey!\n"
      ],
      "metadata": {
        "id": "GTb9j3B6ApRK"
      }
    },
    {
      "cell_type": "code",
      "source": [
        "# Click here to launch my lecture\n",
        "from IPython.display import YouTubeVideo\n",
        "YouTubeVideo('iTbXHYmTAEg', width=800, height=500)"
      ],
      "metadata": {
        "id": "aQpndD-VaAHC",
        "outputId": "6fb9c059-4f03-42b4-f4a6-e6c14026e638",
        "colab": {
          "base_uri": "https://localhost:8080/",
          "height": 522
        }
      },
      "execution_count": null,
      "outputs": [
        {
          "output_type": "execute_result",
          "data": {
            "text/plain": [
              "<IPython.lib.display.YouTubeVideo at 0x7abac8cabb20>"
            ],
            "text/html": [
              "\n",
              "        <iframe\n",
              "            width=\"800\"\n",
              "            height=\"500\"\n",
              "            src=\"https://www.youtube.com/embed/iTbXHYmTAEg\"\n",
              "            frameborder=\"0\"\n",
              "            allowfullscreen\n",
              "            \n",
              "        ></iframe>\n",
              "        "
            ]
          },
          "metadata": {},
          "execution_count": 1
        }
      ]
    },
    {
      "cell_type": "markdown",
      "source": [
        "## What is Google Colab?\n",
        "\n",
        "\n",
        "At the top of this chapter, you can see an option to open this notebook through Google Colab, short for \"Google Collaboratory.\" This is a free online service provided by Google that allows you to write, run, and share Python code using your web browser. Colab allows you to create **Jupyter Notebooks** (like this chpate!). It's like a mix between a document and a code editor. The best part is, you don't need to install any software on your computer, and you can access your work from anywhere with an internet connection.\n",
        "\n",
        "### How can I use Google Colab to write and run Python code?\n",
        "To start using Google Colab, follow these simple steps:\n",
        "\n",
        "1. Open your web browser and go to the Google Colab website: https://colab.research.google.com/\n",
        "\n",
        "2. Sign in with your Google account. If you don't have one, you'll need to create one first.\n",
        "\n",
        "3. Once you're logged in, click on \"File\" in the top-left corner, then select \"New notebook.\" This will create a new, empty notebook where you can write and run Python code.\n",
        "\n",
        "4. In the new notebook, you'll see a cell with a \"play\" button on the left. This is where you can write your Python code. Click inside the cell and type your code, like this example:\n",
        "\n",
        "```python\n",
        "print(\"Hello, world!\")\n",
        "```\n",
        "\n",
        "5. To run your code, click the \"play\" button next to the cell, or press Shift + Enter on your keyboard. The output of your code will appear below the cell.\n",
        "\n",
        "6. You can create more cells by clicking the \"+ Code\" button in the top-left corner. This way, you can write and run different parts of your code separately.\n",
        "\n",
        "7. To save your work, click \"File\" in the top-left corner, then select \"Save a copy in Drive.\" This will save your notebook to your Google Drive, so you can access it later.\n",
        "\n",
        "8. You can also share your notebook with others by clicking the \"Share\" button in the top-right corner. This is great for working on projects with friends or getting help from your teacher.\n",
        "\n",
        "### How I can \"Run\" the code in this notebook? How can I save my work?\n",
        "If you've opened this chapter in Google Colab, you can easily edit and run the code. Here's how:\n",
        "\n",
        "* **Make a copy of this notebook:** Since you can't edit this shared notebook directly, you'll need to create a copy of it in your own Google Drive. To do that, click \"File\" in the top-left corner, and then select \"Save a copy in Drive.\" A new notebook will open, and you'll be able to edit, run, and save your code in that copy.\n",
        "\n",
        "* **Connect to a runtime:** After making a copy of the notebook, you'll need to connect to a runtime. A runtime is like a computer in the cloud that runs your code. To connect, click the \"Connect\" button in the top-right corner of your screen. Once connected, you'll see a green checkmark and the word \"Connected\" instead of the \"Connect\" button.\n",
        "\n",
        "* **Download your work as an IPYNB file:** Once you've finished working on your notebook and want to download it to your computer, you can save it as an IPYNB file (short for \"IPython Notebook\"). To do this, click \"File\" in the top-left corner, then select \"Download\" and choose \"Download .ipynb.\" This will download your notebook to your computer, and you can open it later using other tools like Jupyter Notebook or share it with others."
      ],
      "metadata": {
        "id": "PSVpoae-BAwB"
      }
    },
    {
      "cell_type": "markdown",
      "source": [
        "# \"Hello, World!\" and a few bugs\n",
        "Great! Let's learn how to write a simple \"Hello, World!\" program in Python and discuss some possible errors you might make while writing it.\n",
        "\n",
        "## Writing a \"Hello, World!\" program:\n",
        "In Python, you can write a \"Hello, World!\" program using the print() function. The print() function displays a message on the screen. Here's how you can write the program:"
      ],
      "metadata": {
        "id": "I8Ug5HyLBqHA"
      }
    },
    {
      "cell_type": "code",
      "source": [
        "print(\"Hello, Wayne!\")\n",
        "print('Hello, World!')"
      ],
      "metadata": {
        "id": "zCY6P1_CAp1B",
        "colab": {
          "base_uri": "https://localhost:8080/"
        },
        "outputId": "faacc7d9-dcf7-41c2-ad8f-979ece77b04d"
      },
      "execution_count": 9,
      "outputs": [
        {
          "output_type": "stream",
          "name": "stdout",
          "text": [
            "Hello, Wayne!\n",
            "Hello, World!\n"
          ]
        }
      ]
    },
    {
      "cell_type": "markdown",
      "source": [
        "## Bugs and Debugging\n",
        "As a beginner, it's common to make some mistakes while writing code. Here are a few errors you might make when writing a \"Hello, World!\" program and how to fix them.\n"
      ],
      "metadata": {
        "id": "1nJ-GfjrB003"
      }
    },
    {
      "cell_type": "code",
      "source": [
        "# Missing quotes\n",
        "print(Hello, World!)"
      ],
      "metadata": {
        "id": "kiOYbVzFCrvE",
        "colab": {
          "base_uri": "https://localhost:8080/",
          "height": 140
        },
        "outputId": "3743601c-09e0-479e-980f-8071d58721ff"
      },
      "execution_count": 8,
      "outputs": [
        {
          "output_type": "error",
          "ename": "SyntaxError",
          "evalue": "ignored",
          "traceback": [
            "\u001b[0;36m  File \u001b[0;32m\"<ipython-input-8-72fd556a43a1>\"\u001b[0;36m, line \u001b[0;32m2\u001b[0m\n\u001b[0;31m    print(Hello, World!)\u001b[0m\n\u001b[0m                      ^\u001b[0m\n\u001b[0;31mSyntaxError\u001b[0m\u001b[0;31m:\u001b[0m invalid syntax\n"
          ]
        }
      ]
    },
    {
      "cell_type": "markdown",
      "source": [
        "This will give you a syntax error because Python expects the text you want to print to be inside quotes. To fix this error, put the text inside double or single quotes:"
      ],
      "metadata": {
        "id": "t6PSA0GNrKAx"
      }
    },
    {
      "cell_type": "code",
      "source": [
        "# Mismatched quotes\n",
        "print('Hello, World!\"')"
      ],
      "metadata": {
        "id": "E6j44BzlCrzU",
        "colab": {
          "base_uri": "https://localhost:8080/"
        },
        "outputId": "d761caea-141a-400b-da57-d17107632b02"
      },
      "execution_count": 12,
      "outputs": [
        {
          "output_type": "stream",
          "name": "stdout",
          "text": [
            "Hello, World!\"\n"
          ]
        }
      ]
    },
    {
      "cell_type": "markdown",
      "source": [
        "This will also give you a syntax error because the opening and closing quotes don't match. Make sure you use either double quotes or single quotes consistently."
      ],
      "metadata": {
        "id": "OWrA6JXfrM3A"
      }
    },
    {
      "cell_type": "code",
      "source": [
        "# No parentheses\n",
        "print \"Hello, World!\""
      ],
      "metadata": {
        "id": "x7c1sobNCxi0",
        "colab": {
          "base_uri": "https://localhost:8080/",
          "height": 140
        },
        "outputId": "2eb728c4-e2ae-4992-e54a-375c517e1fa6"
      },
      "execution_count": 13,
      "outputs": [
        {
          "output_type": "error",
          "ename": "SyntaxError",
          "evalue": "ignored",
          "traceback": [
            "\u001b[0;36m  File \u001b[0;32m\"<ipython-input-13-58096f8a914a>\"\u001b[0;36m, line \u001b[0;32m2\u001b[0m\n\u001b[0;31m    print \"Hello, World!\"\u001b[0m\n\u001b[0m    ^\u001b[0m\n\u001b[0;31mSyntaxError\u001b[0m\u001b[0;31m:\u001b[0m Missing parentheses in call to 'print'. Did you mean print(...)?\n"
          ]
        }
      ]
    },
    {
      "cell_type": "code",
      "source": [
        "help(print)"
      ],
      "metadata": {
        "id": "9qLFWzZts7Ar",
        "outputId": "707a7013-900c-4210-aeff-a6b09414bc33",
        "colab": {
          "base_uri": "https://localhost:8080/"
        }
      },
      "execution_count": 14,
      "outputs": [
        {
          "output_type": "stream",
          "name": "stdout",
          "text": [
            "Help on built-in function print in module builtins:\n",
            "\n",
            "print(...)\n",
            "    print(value, ..., sep=' ', end='\\n', file=sys.stdout, flush=False)\n",
            "    \n",
            "    Prints the values to a stream, or to sys.stdout by default.\n",
            "    Optional keyword arguments:\n",
            "    file:  a file-like object (stream); defaults to the current sys.stdout.\n",
            "    sep:   string inserted between values, default a space.\n",
            "    end:   string appended after the last value, default a newline.\n",
            "    flush: whether to forcibly flush the stream.\n",
            "\n"
          ]
        }
      ]
    },
    {
      "cell_type": "markdown",
      "source": [
        "This will give you a syntax error because the print function needs parentheses around its arguments. To fix this error, add parentheses around the text you want to print."
      ],
      "metadata": {
        "id": "50IIen6drSLw"
      }
    },
    {
      "cell_type": "code",
      "source": [
        "# Mispelled function name\n",
        "prit(\"Hello, World!\")"
      ],
      "metadata": {
        "id": "XP_a6TJJC06T",
        "colab": {
          "base_uri": "https://localhost:8080/",
          "height": 192
        },
        "outputId": "caba4488-7ecd-498c-d784-9b5735e30c63"
      },
      "execution_count": 15,
      "outputs": [
        {
          "output_type": "error",
          "ename": "NameError",
          "evalue": "ignored",
          "traceback": [
            "\u001b[0;31m---------------------------------------------------------------------------\u001b[0m",
            "\u001b[0;31mNameError\u001b[0m                                 Traceback (most recent call last)",
            "\u001b[0;32m<ipython-input-15-6c8763557dc1>\u001b[0m in \u001b[0;36m<cell line: 2>\u001b[0;34m()\u001b[0m\n\u001b[1;32m      1\u001b[0m \u001b[0;31m# Mispelled function name\u001b[0m\u001b[0;34m\u001b[0m\u001b[0;34m\u001b[0m\u001b[0m\n\u001b[0;32m----> 2\u001b[0;31m \u001b[0mprit\u001b[0m\u001b[0;34m(\u001b[0m\u001b[0;34m\"Hello, World!\"\u001b[0m\u001b[0;34m)\u001b[0m\u001b[0;34m\u001b[0m\u001b[0;34m\u001b[0m\u001b[0m\n\u001b[0m",
            "\u001b[0;31mNameError\u001b[0m: name 'prit' is not defined"
          ]
        }
      ]
    },
    {
      "cell_type": "markdown",
      "source": [
        "This will give you a \"NameError\" because Python doesn't recognize the misspelled function name. Double-check your spelling and make sure you use the correct function name.\n",
        "\n",
        "These are just a few common errors that you might make when writing a \"Hello, World!\" program in Python. Don't worry if you make mistakes—it's a normal part of the learning process! Just remember to read the error messages carefully, as they often give you clues about what's wrong with your code."
      ],
      "metadata": {
        "id": "IhAzspAzrUav"
      }
    },
    {
      "cell_type": "markdown",
      "source": [
        "# The print() Function and its Parameters\n",
        "\n",
        "When we say that print is a \"function\" with \"parameters,\" we're describing how it works and how we can use it in our Python code. Let's break down these two terms:\n",
        "\n",
        "A **function** is a block of reusable code that performs a specific task. Functions help us organize our code, make it easier to read, and avoid repeating the same code over and over. Functions in Python have a name, like print, and can be called using that name followed by parentheses.  When you call a function, it executes the code inside it and may return a result. For example, the print function displays a message on the screen. Functions can also take input, called \"parameters\" or \"arguments,\" which we'll discuss next.\n",
        "\n",
        "**Parameters** are the inputs a function can accept to perform its task. When we call a function, we pass these inputs inside the parentheses. These inputs can be values like numbers, text (strings), or even other variables.  In the case of the print function, it takes one or more parameters, which are the values you want to display. The print function then uses these parameters to determine what to display on the screen. For example:\n",
        "\n",
        "```python\n",
        "print(\"Hello, World!\")\n",
        "```\n",
        "\n",
        "In this example, the parameter is the text \"Hello, World!\". The print function takes this parameter and displays it on the screen.\n",
        "\n",
        "Here's another example with two parameters:\n",
        "\n",
        "```python\n",
        "print(\"Hello,\", \"World!\")\n",
        "```\n",
        "In this case, the print function takes two parameters (\"Hello,\" and \"World!\") and displays them on the screen separated by a space.\n",
        "\n",
        "To sum up:\n",
        "1. The function print is a block of reusable code that can accept one or more inputs (parameters) to display a message on the screen.\n",
        "2. By providing different parameters, we can use the print function to display various messages."
      ],
      "metadata": {
        "id": "5R4vBs_AC4Az"
      }
    },
    {
      "cell_type": "code",
      "source": [
        "print(\"Hello,\", \"World!\", 6, \"Hello!\")"
      ],
      "metadata": {
        "id": "LErPhxnXDLVT",
        "colab": {
          "base_uri": "https://localhost:8080/"
        },
        "outputId": "65d436c2-d9d9-4025-9512-730c455c0de2"
      },
      "execution_count": 18,
      "outputs": [
        {
          "output_type": "stream",
          "name": "stdout",
          "text": [
            "Hello, World! 6 Hello!\n"
          ]
        }
      ]
    },
    {
      "cell_type": "code",
      "source": [
        "type(True)"
      ],
      "metadata": {
        "id": "P3-zLFyLt3Z8",
        "outputId": "6480ba02-4a54-48d4-e79b-062872093325",
        "colab": {
          "base_uri": "https://localhost:8080/"
        }
      },
      "execution_count": 24,
      "outputs": [
        {
          "output_type": "execute_result",
          "data": {
            "text/plain": [
              "bool"
            ]
          },
          "metadata": {},
          "execution_count": 24
        }
      ]
    },
    {
      "cell_type": "markdown",
      "source": [
        "# Variables\n",
        "A **variable** is like a container or a box that stores a value in your program. You can think of it as a label or a name you give to a piece of data, so you can easily refer to it later. Variables help us keep track of information, perform calculations, and make decisions in our code. In Python, you can create a variable by giving it a name and assigning a value to it using the equal sign (=). Here's an example:\n",
        "\n"
      ],
      "metadata": {
        "id": "XaofEET_Db6b"
      }
    },
    {
      "cell_type": "code",
      "source": [
        "age_in_years = 21"
      ],
      "metadata": {
        "id": "Av-t4dG-rwS-"
      },
      "execution_count": 25,
      "outputs": []
    },
    {
      "cell_type": "markdown",
      "source": [
        "\n",
        "In this example, we created a variable named age and stored the number 21 in it. Now, whenever we refer to age in our code, Python will know that it represents the number 21.\n",
        "\n",
        "## Working with variables:\n",
        "Once you have a variable, you can use it in different ways, like performing calculations or passing it to functions. Here's an example that demonstrates how to use variables with the print function:\n"
      ],
      "metadata": {
        "id": "YYX24eSTrtLn"
      }
    },
    {
      "cell_type": "code",
      "source": [
        "name = \"Goose\"\n",
        "age = 345\n",
        "\n",
        "print(\"Hello, my name is\", name, \"and I am\", age, \"years old.\")"
      ],
      "metadata": {
        "id": "un8QHxpNr3ut",
        "outputId": "48a9cc9a-ad5d-4817-c7ec-92f2a9a101ef",
        "colab": {
          "base_uri": "https://localhost:8080/"
        }
      },
      "execution_count": 33,
      "outputs": [
        {
          "output_type": "stream",
          "name": "stdout",
          "text": [
            "Hello, my name is Goose and I am 345 years old.\n"
          ]
        }
      ]
    },
    {
      "cell_type": "code",
      "source": [
        "goose = (\"Gandalf\" == name)\n",
        "print(\"The value is \", goose)"
      ],
      "metadata": {
        "id": "iqjwDnbyuuf0",
        "outputId": "d1452c4c-4009-4eb6-a2cb-8b2d896d8632",
        "colab": {
          "base_uri": "https://localhost:8080/"
        }
      },
      "execution_count": 32,
      "outputs": [
        {
          "output_type": "stream",
          "name": "stdout",
          "text": [
            "The value is  False\n"
          ]
        }
      ]
    },
    {
      "cell_type": "markdown",
      "source": [
        "In this example, we created two variables: name and age. We then used the print function to display a message that includes the values stored in these variables.\n",
        "\n",
        "Variables can also be updated or changed throughout your program. For example, if Gandalf a birthday, you could update the age variable like this:\n"
      ],
      "metadata": {
        "id": "Mi6q9ltfr36l"
      }
    },
    {
      "cell_type": "code",
      "source": [
        "age = (age / 0)"
      ],
      "metadata": {
        "id": "qmkvu6Sqr-DF",
        "colab": {
          "base_uri": "https://localhost:8080/",
          "height": 175
        },
        "outputId": "50216e48-eb6c-4c7d-cd2c-14dcd473c143"
      },
      "execution_count": 44,
      "outputs": [
        {
          "output_type": "error",
          "ename": "ZeroDivisionError",
          "evalue": "ignored",
          "traceback": [
            "\u001b[0;31m---------------------------------------------------------------------------\u001b[0m",
            "\u001b[0;31mZeroDivisionError\u001b[0m                         Traceback (most recent call last)",
            "\u001b[0;32m<ipython-input-44-8d6a985b8707>\u001b[0m in \u001b[0;36m<cell line: 1>\u001b[0;34m()\u001b[0m\n\u001b[0;32m----> 1\u001b[0;31m \u001b[0mage\u001b[0m \u001b[0;34m=\u001b[0m \u001b[0;34m(\u001b[0m\u001b[0mage\u001b[0m \u001b[0;34m/\u001b[0m \u001b[0;36m0\u001b[0m\u001b[0;34m)\u001b[0m\u001b[0;34m\u001b[0m\u001b[0;34m\u001b[0m\u001b[0m\n\u001b[0m",
            "\u001b[0;31mZeroDivisionError\u001b[0m: division by zero"
          ]
        }
      ]
    },
    {
      "cell_type": "markdown",
      "source": [
        "\n",
        "Now, the age variable contains the value 346 , and if we use the print function again, it will show the updated age:\n"
      ],
      "metadata": {
        "id": "LSWT7Em4r8yN"
      }
    },
    {
      "cell_type": "code",
      "source": [
        "print(\"Hello, my name is\", name, \"and I am\", age, \"years old.\")"
      ],
      "metadata": {
        "id": "zFfpH7tysDIV",
        "outputId": "79e3ba95-7f31-41ef-e18c-b22ac3b7540c",
        "colab": {
          "base_uri": "https://localhost:8080/",
          "height": 140
        }
      },
      "execution_count": 46,
      "outputs": [
        {
          "output_type": "error",
          "ename": "SyntaxError",
          "evalue": "ignored",
          "traceback": [
            "\u001b[0;36m  File \u001b[0;32m\"<ipython-input-46-cb66d8432acd>\"\u001b[0;36m, line \u001b[0;32m1\u001b[0m\n\u001b[0;31m    print(\"Hello, my name is\u001b[0m\n\u001b[0m          ^\u001b[0m\n\u001b[0;31mSyntaxError\u001b[0m\u001b[0;31m:\u001b[0m unterminated string literal (detected at line 1)\n"
          ]
        }
      ]
    },
    {
      "cell_type": "code",
      "source": [
        "print(\"Hello \\n\\\\\\\\\\n\\nPython !\\t!\\t!\")"
      ],
      "metadata": {
        "id": "tgLeJWgCwSiX",
        "outputId": "4a165fd8-51e9-4613-9760-f811b29e4bc2",
        "colab": {
          "base_uri": "https://localhost:8080/"
        }
      },
      "execution_count": 54,
      "outputs": [
        {
          "output_type": "stream",
          "name": "stdout",
          "text": [
            "Hello \n",
            "\\\\\n",
            "\n",
            "Python !\t!\t!\n"
          ]
        }
      ]
    },
    {
      "cell_type": "markdown",
      "source": [
        "This will now display: \"Hello, my name is Gandalf and I am 346 years old.\"\n",
        "\n",
        "So:\n",
        "1. A variable is like a container that stores a value in your program.\n",
        "2. You can create a variable by giving it a name and assigning a value to it. 3. Variables help you keep track of information, perform calculations, and make decisions in your code."
      ],
      "metadata": {
        "id": "WlqlZu2RsDOv"
      }
    },
    {
      "cell_type": "markdown",
      "source": [
        "# Escape Characters\n",
        "In Python strings, special characters or escape characters are used to represent certain characters that cannot be included in a string directly or have a special meaning in the context of a string. These characters are preceded by a backslash () and are interpreted by the Python interpreter as special instructions.\n",
        "\n",
        "Some common escape characters in Python strings are:\n",
        "\n",
        "`\\n:` Represents a newline character. It is used to insert a line break in a string.\n",
        "\n",
        "`\\t:` Represents a tab character. It is used to insert a horizontal tab in a string.\n",
        "\n",
        "`\\\\:` Represents a single backslash. Since the backslash is used to indicate escape characters, you need to use a double backslash to include a literal backslash in a string.\n",
        "\n",
        "`\\':` Represents a single quote. It is used to include a single quote within a string enclosed by single quotes.\n",
        "\n",
        "`\\\":` Represents a double quote. It is used to include a double quote within a string enclosed by double quotes."
      ],
      "metadata": {
        "id": "DDtha1UqFYc-"
      }
    },
    {
      "cell_type": "code",
      "source": [
        "print(\"This is a string with a newline character.\\nThis is the second line.\")\n",
        "print(\"Here is a string with a\\t\\t\\ttab character.\")\n",
        "print(\"This string contains a single backslash: \\\\\")\n",
        "print(\"This string contains a single quote: '\")\n",
        "print('This string contains a double quote: \"')"
      ],
      "metadata": {
        "colab": {
          "base_uri": "https://localhost:8080/"
        },
        "id": "6aJN6HFQFqCu",
        "outputId": "f07660ec-a4c9-4bd5-e8a1-4fcf1eea99ee"
      },
      "execution_count": 55,
      "outputs": [
        {
          "output_type": "stream",
          "name": "stdout",
          "text": [
            "This is a string with a newline character.\n",
            "This is the second line.\n",
            "Here is a string with a\t\t\ttab character.\n",
            "This string contains a single backslash: \\\n",
            "This string contains a single quote: '\n",
            "This string contains a double quote: \"\n"
          ]
        }
      ]
    },
    {
      "cell_type": "code",
      "source": [
        "user_input = input()"
      ],
      "metadata": {
        "id": "_y9tSOpow8vH",
        "outputId": "8c6075d3-8026-4fb6-c124-54de3ce374ec",
        "colab": {
          "base_uri": "https://localhost:8080/"
        }
      },
      "execution_count": 56,
      "outputs": [
        {
          "name": "stdout",
          "output_type": "stream",
          "text": [
            "23423\n"
          ]
        }
      ]
    },
    {
      "cell_type": "markdown",
      "source": [
        "# Getting User Input\n",
        "In Python, you can get user input using the input() function. The input() function allows you to ask the user for information, and the user can type their response into the program. When the user presses Enter, the input() function returns the user's input as a string (text).\n",
        "\n",
        "Here's how you can use the input() function to get user input:\n",
        "\n",
        "1. Call the input() function and store the result in a variable:\n",
        "```python\n",
        "user_input = input()\n",
        "```\n",
        "In this example, we call the input() function and store the user's input in a variable named user_input.\n",
        "\n",
        "2. Add a prompt to the input() function to guide the user:\n",
        "To make it more user-friendly, you can add a prompt or message inside the input() function's parentheses. This message will be displayed to the user before they enter their input.\n",
        "```python\n",
        "name = input(\"What is your name? \")\n",
        "```\n",
        "In this example, the user will see the message \"What is your name? \" and can type their response. The response will be stored in the variable name.\n",
        "\n",
        "3. Using the user input in your program:\n",
        "After getting the user input, you can use it in various ways, like displaying it with the print() function or making decisions based on the input.\n",
        "\n",
        "Here's an example that demonstrates how to get the user's name and age, and then display a personalized message:\n"
      ],
      "metadata": {
        "id": "KqVqit5AEgtX"
      }
    },
    {
      "cell_type": "code",
      "source": [
        "name = input(\"What is your name? \")\n",
        "age = input(\"How old are you? \")\n",
        "\n",
        "print(type(name))\n",
        "print(type(age))\n",
        "# print(\"Hello,\", name,\"! You are\", age, \"years old.\")"
      ],
      "metadata": {
        "id": "eeYTN5zNsRLG",
        "outputId": "ff51b7dc-12a1-4b5b-ece8-0cbac94252b6",
        "colab": {
          "base_uri": "https://localhost:8080/"
        }
      },
      "execution_count": 61,
      "outputs": [
        {
          "output_type": "stream",
          "name": "stdout",
          "text": [
            "What is your name? EE\n",
            "How old are you? 45\n",
            "<class 'str'>\n",
            "<class 'str'>\n"
          ]
        }
      ]
    },
    {
      "cell_type": "code",
      "source": [
        "name = input(\"What is your name? \")\n",
        "age = int(input(\"How old are you? \"))\n",
        "\n",
        "age_next_year = age + 1\n",
        "print(\"Next year, you will be\", age_next_year, \"years old\")"
      ],
      "metadata": {
        "id": "ZjNBVoRoxclz",
        "outputId": "4be52be0-b3fd-4c30-a200-c73557f2acea",
        "colab": {
          "base_uri": "https://localhost:8080/",
          "height": 279
        }
      },
      "execution_count": 65,
      "outputs": [
        {
          "name": "stdout",
          "output_type": "stream",
          "text": [
            "What is your name? B\n",
            "How old are you? Forty Four\n"
          ]
        },
        {
          "output_type": "error",
          "ename": "ValueError",
          "evalue": "ignored",
          "traceback": [
            "\u001b[0;31m---------------------------------------------------------------------------\u001b[0m",
            "\u001b[0;31mValueError\u001b[0m                                Traceback (most recent call last)",
            "\u001b[0;32m<ipython-input-65-f80349c32ff3>\u001b[0m in \u001b[0;36m<cell line: 2>\u001b[0;34m()\u001b[0m\n\u001b[1;32m      1\u001b[0m \u001b[0mname\u001b[0m \u001b[0;34m=\u001b[0m \u001b[0minput\u001b[0m\u001b[0;34m(\u001b[0m\u001b[0;34m\"What is your name? \"\u001b[0m\u001b[0;34m)\u001b[0m\u001b[0;34m\u001b[0m\u001b[0;34m\u001b[0m\u001b[0m\n\u001b[0;32m----> 2\u001b[0;31m \u001b[0mage\u001b[0m \u001b[0;34m=\u001b[0m \u001b[0mint\u001b[0m\u001b[0;34m(\u001b[0m\u001b[0minput\u001b[0m\u001b[0;34m(\u001b[0m\u001b[0;34m\"How old are you? \"\u001b[0m\u001b[0;34m)\u001b[0m\u001b[0;34m)\u001b[0m\u001b[0;34m\u001b[0m\u001b[0;34m\u001b[0m\u001b[0m\n\u001b[0m\u001b[1;32m      3\u001b[0m \u001b[0;34m\u001b[0m\u001b[0m\n\u001b[1;32m      4\u001b[0m \u001b[0mage_next_year\u001b[0m \u001b[0;34m=\u001b[0m \u001b[0mage\u001b[0m \u001b[0;34m+\u001b[0m \u001b[0;36m1\u001b[0m\u001b[0;34m\u001b[0m\u001b[0;34m\u001b[0m\u001b[0m\n\u001b[1;32m      5\u001b[0m \u001b[0mprint\u001b[0m\u001b[0;34m(\u001b[0m\u001b[0;34m\"Next year, you will be\"\u001b[0m\u001b[0;34m,\u001b[0m \u001b[0mage_next_year\u001b[0m\u001b[0;34m,\u001b[0m \u001b[0;34m\"years old\"\u001b[0m\u001b[0;34m)\u001b[0m\u001b[0;34m\u001b[0m\u001b[0;34m\u001b[0m\u001b[0m\n",
            "\u001b[0;31mValueError\u001b[0m: invalid literal for int() with base 10: 'Forty Four'"
          ]
        }
      ]
    },
    {
      "cell_type": "markdown",
      "source": [
        "Keep in mind that the `input()` function returns the user's input as a string (`str`). If you need to work with numbers (like performing calculations), you'll need to convert the input to an appropriate numeric type, like an integer (`int`) or a floating-point number (`float`).\n",
        "\n",
        "For example, if you want to convert the user's age input to an integer, you can do this:\n",
        "\n",
        "```python\n",
        "age = int(input(\"How old are you? \"))\n",
        "```\n",
        "\n",
        "Big ideas:\n",
        "\n",
        "1. You can use the input() function to ask the user for information, and store it in a variable.\n",
        "2. You can use their input to make decisions, perform calculations, or display messages in your program."
      ],
      "metadata": {
        "id": "JCv6kQHcsRPt"
      }
    },
    {
      "cell_type": "code",
      "source": [
        "# A simple program to ask a user's age\n",
        "name = input(\"What is your name? \")\n",
        "# Get age, and convert to to integer\n",
        "age = int(input(\"How old are you? \"))\n",
        "# Print the result\n",
        "print(\"Hello,\", name, \"! You are\", \"years old.\")\n",
        "# Increment age\n",
        "age = age + 10\n",
        "print(\"In ten years, you will be\", age, \"years old.\")\n",
        "\n"
      ],
      "metadata": {
        "id": "Y-QHC1XuEDv3",
        "colab": {
          "base_uri": "https://localhost:8080/"
        },
        "outputId": "4c3e85a2-bfb4-4156-f6c8-ed88377f24f1"
      },
      "execution_count": null,
      "outputs": [
        {
          "output_type": "stream",
          "name": "stdout",
          "text": [
            "What is your name? Brendan\n",
            "How old are you? 44\n",
            "Hello, Brendan ! You are years old.\n",
            "In ten years, you will be 54 years old.\n"
          ]
        }
      ]
    },
    {
      "cell_type": "markdown",
      "source": [
        "## Comments and Pseudocode\n",
        "**Comments** are lines of text in your code that are not executed by the Python interpreter. They are meant to provide information or explanations about your code for yourself, your teammates, or anyone who reads your code later. Comments can help make your code more readable, easier to maintain, and easier to debug.\n",
        "\n",
        "In Python, you can create a comment using the hash symbol (`#`). Anything written after the # on the same line will be treated as a comment and ignored by the Python interpreter. Here's an example:\n"
      ],
      "metadata": {
        "id": "Yz8gdPMHFkEK"
      }
    },
    {
      "cell_type": "code",
      "source": [
        "# This is a comment\n",
        "print(\"Hello!\") # This is a comment, too"
      ],
      "metadata": {
        "id": "RKttlw_8tgBJ",
        "outputId": "3cc3924d-136c-48ef-80bc-6071bd0d0de0",
        "colab": {
          "base_uri": "https://localhost:8080/"
        }
      },
      "execution_count": 66,
      "outputs": [
        {
          "output_type": "stream",
          "name": "stdout",
          "text": [
            "Hello!\n"
          ]
        }
      ]
    },
    {
      "cell_type": "markdown",
      "source": [
        "## Using comments to write pseudocode:\n",
        "Pseudocode is a simple way of describing an algorithm or a program's logic using natural language or a combination of programming language syntax and plain English. Pseudocode is not meant to be executed; it's just a way to plan and think through your code before you actually start writing it.\n",
        "\n",
        "You can use comments to write pseudocode in Python, which can help you outline the structure and logic of your program before diving into writing the actual code. Here's an example of how you might use comments to write pseudocode for a program that calculates the area of a rectangle:\n",
        "\n",
        "```python\n",
        "# Get the length and width of the rectangle from the user\n",
        "# Convert the user input to integers\n",
        "# Calculate the area of the rectangle (length * width)\n",
        "# Print the area of the rectangle\n",
        "```\n",
        "Once you have your pseudocode written in comments, you can start writing the actual Python code below each comment (see below).\n",
        "\n",
        "Big ideas:\n",
        "1. Comments are lines of text in your code that provide information or explanations about your code.\n",
        "2. Comments are not executed by the Python interpreter\n",
        "3, Comments can be used to write pseudocode, which helps you plan and think through your program's logic before writing the actual code."
      ],
      "metadata": {
        "id": "NTLGSLuwtYuZ"
      }
    },
    {
      "cell_type": "code",
      "source": [
        "# How might you adapt this code to print the area of a circle? cube? triangle?\n",
        "# Get the length and width of the rectangle from the user\n",
        "length = input(\"Enter the length of the rectangle: \")\n",
        "width = input(\"Enter the width of the rectangle: \")\n",
        "\n",
        "# Convert the user input to integers\n",
        "length = int(length)\n",
        "width = int(width)\n",
        "\n",
        "# Calculate the area of the rectangle (length * width)\n",
        "area = length * width\n",
        "\n",
        "# Print the area of the rectangle\n",
        "print(\"The area of the rectangle is:\", area)\n"
      ],
      "metadata": {
        "id": "r5-P4s_iFeEL",
        "colab": {
          "base_uri": "https://localhost:8080/"
        },
        "outputId": "fed6eee0-c05f-4cdf-84ef-56708927dc49"
      },
      "execution_count": 67,
      "outputs": [
        {
          "output_type": "stream",
          "name": "stdout",
          "text": [
            "Enter the length of the rectangle: 6\n",
            "Enter the width of the rectangle: 7\n",
            "The area of the rectangle is: 42\n"
          ]
        }
      ]
    },
    {
      "cell_type": "code",
      "source": [
        "area = int(input(\"Enter the length of the rectangle: \")) * int(input(\"Enter the width of the rectangle: \"))\n",
        "print(\"The area of the rectangle is:\", area)"
      ],
      "metadata": {
        "id": "YT241nFPy_gc",
        "outputId": "9755544f-fdc2-4776-c673-dd1f66a73ffa",
        "colab": {
          "base_uri": "https://localhost:8080/"
        }
      },
      "execution_count": 69,
      "outputs": [
        {
          "output_type": "stream",
          "name": "stdout",
          "text": [
            "Enter the length of the rectangle: 3\n",
            "Enter the width of the rectangle: 4\n",
            "The area of the rectangle is: 12\n"
          ]
        }
      ]
    },
    {
      "cell_type": "markdown",
      "source": [
        "# Case Study: The Long Tail (Tale) of Python\n",
        "Once upon a time, in a world of formal languages and mathematical notation, slithered a programming language named Python. Its history is intertwined with the age-old quest to make sense of the universe and the development of systems to represent and manipulate knowledge. To understand the tale of Python, we must first take a trip through the annals of history, from the era of Aristotle and Euclid to the creation of this serpentine programming language, all while appreciating the occasional snake joke.\n",
        "\n",
        "## A Formal Language vs. A Natural Language\n",
        "\n",
        "For students new to computer science, understanding the difference between a formal language and a natural language is crucial.\n",
        "\n",
        "**Formal languages** are artificially constructed languages used in fields such as mathematics, logic, and computer programming. They include programming languages like Python and logical systems like predicate logic. Formal languages are designed to be precise, unambiguous, and easy for machines to understand. They consist of symbols, rules (also known as grammar), and syntax that allow humans to represent and manipulate abstract concepts and communicate with machines. In a formal language, every expression has a clear, single meaning, and there is no room for ambiguity.\n",
        "\n",
        "For instance, consider a simple formal language with only two symbols, 0 and 1, and a single rule: \"every string must start with 0.\" In this language, \"01\" is a valid string, but \"10\" is not. If you attempt to use an invalid string, you'll encounter a syntax error, which is a violation of the language's rules.\n",
        "\n",
        "**Natural languages**, on the other hand, are the languages we speak and write, such as English, Spanish, or Mandarin. These languages are rich in nuance and subtlety, but they are also inherently ambiguous. Ambiguity arises when words, phrases, or sentences can have multiple interpretations. For example, the word \"bank\" can refer to a financial institution or the side of a river. This ambiguity makes natural languages challenging for computers to interpret.\n",
        "\n",
        "In the context of an intro to computer science class, it's essential to understand that programming languages like Python are formal languages specifically designed to bridge the gap between the complexity of human thought and the precision required for machine understanding. When writing code, you must follow the strict rules of syntax and grammar to avoid syntax errors and ensure the program behaves as intended. This contrasts with natural languages, where we can often convey our thoughts even when our grammar or wording is imprecise.\n",
        "\n",
        "##The Beginning: Aristotle and Euclid\n",
        "\n",
        "Our story begins with Aristotle, the ancient Greek philosopher who laid the groundwork for formal logic in the 4th century BCE. Aristotle sought to create a system to evaluate the validity of arguments and capture the essence of reasoning. His syllogisms were the precursors of formal languages, and their influence can be seen even in the venomous bite of Python's syntax.\n",
        "\n",
        "Aristotle's syllogisms were based on a structure consisting of a major premise, a minor premise, and a conclusion. For example:\n",
        "\n",
        "1.  Major premise: All snakes are reptiles.\n",
        "2.  Minor premise: A python is a snake.\n",
        "3.  Conclusion: A python is a reptile.\n",
        "\n",
        "Euclid, another ancient Greek mathematician, laid the foundation for geometry around the same time. He developed a rigorous axiomatic system, where a small number of statements, known as axioms, were combined to derive more complex theorems. This systematic approach to organizing and proving mathematical truths is a major part of the backbone of computer science and is woven into Python's DNA.\n",
        "\n",
        "For instance, one of Euclid's axioms states that \"a straight line can be drawn between any two points.\" Using this axiom, along with others, Euclid derived theorems such as the Pythagorean theorem and the properties of triangles.\n",
        "\n",
        "## The Middle Ages: The Birth of Algebra\n",
        "\n",
        "Fast forward to the Middle Ages, when algebra was born out of the efforts of Persian mathematician Al-Khwarizmi. Algebra introduced the concept of using symbols to represent unknown values, providing the foundation for the manipulation of abstract entities that would eventually become commonplace in programming languages like Python.\n",
        "\n",
        "For example, consider the following algebraic equation:\n",
        "\n",
        "x + 3 = 5\n",
        "\n",
        "In this equation, x represents the unknown value (the length of a snake, perhaps). Solving for x, we find that x = 2 (the snake is 2 units long).\n",
        "\n",
        "So, next time you use a variable in Python, remember that you're harkening back to the hiss-torical origins of algebra:\n",
        "\n",
        "`snake_length = 2`\n",
        "\n",
        "## Boolean Algebra and Turing Machines\n",
        "\n",
        "As we slither into the 19th century, we encounter George Boole, an English mathematician who devised the system of **Boolean algebra**. This formal language of true and false values, along with the operations AND, OR, and NOT, is now a cornerstone of digital circuit design and computer programming, including Python.\n",
        "\n",
        "For example, consider a snake-themed Boolean expression in Python:\n",
        "\n",
        "```\n",
        "is_reptile = True\n",
        "has_legs = False\n",
        "\n",
        "is_snake = is_reptile and not has_legs\n",
        "\n",
        "```\n",
        "\n",
        "In the 20th century, the concept of a theoretical computing machine emerged from the mind of Alan Turing. The **Turing Machine**, an abstract device with an infinite memory tape, could read, write, and manipulate symbols based on a set of rules. Turing's work paved the way for the development of computers and the creation of programming languages like Python.\n",
        "\n",
        "A Turing Machine can be thought of as a simple model of a Python interpreter. It reads Python code, processes it according to the language's syntax and semantics, and produces the corresponding output. This theoretical foundation helped establish the field of computer science and continues to inform the design of modern programming languages like Python.\n",
        "\n",
        "## The Modern Era\n",
        "### Early Computers and Assembly Language\n",
        "\n",
        "In the 1940s and 1950s, the first electronic computers were developed, such as the ENIAC, the Manchester Mark 1, and the IBM 701. These early computers were programmed using low-level assembly languages, which were specific to each machine's hardware. Assembly languages were difficult to work with and required a deep understanding of the computer's architecture.\n",
        "\n",
        "### The Advent of High-Level Programming Languages\n",
        "\n",
        "To make programming more accessible and efficient, researchers developed high-level programming languages in the 1950s and 1960s. These languages, such as Fortran (for scientific computations) and COBOL (for business applications), used more human-readable syntax and abstracted away hardware details. This made it easier for programmers to write and maintain code.\n",
        "\n",
        "### Structured Programming and the C Language\n",
        "\n",
        "In the 1960s and 1970s, the concept of structured programming emerged, promoting the use of well-organized code with clear control structures. The C language, developed in the early 1970s, was one of the first languages to adopt structured programming principles. C's simplicity, power, and portability made it extremely popular and influenced many future languages, including Python.\n",
        "\n",
        "### Object-Oriented Programming and the Birth of Python\n",
        "\n",
        "During the 1980s and 1990s, object-oriented programming (OOP) gained popularity. OOP languages, such as Smalltalk and Java, allowed developers to model real-world objects and their interactions, making it easier to design and maintain complex software systems.\n",
        "\n",
        "In 1989, Dutch programmer Guido van Rossum began working on a new language that combined the best features of existing languages, with an emphasis on simplicity and readability. This language, named Python after the British comedy group Monty Python, quickly gained popularity for its clean syntax, powerful libraries, and versatility.\n",
        "\n",
        "### Python: A Serpentine Success\n",
        "\n",
        "Python's success can be attributed to its simplicity, readability, and flexibility. Its syntax is inspired by the long tail of formal languages that preceded it, yet it remains accessible to newcomers and experts alike. Python's versatility allows it to be used in a wide range of applications, from web development to data analysis and artificial intelligence.\n",
        "\n",
        "In conclusion, the long tail (tale) of Python is a fascinating journey through the development of formal languages, starting from the ancient Greeks' pursuit of logic and mathematical rigor to the modern age of computing. This serpentine programming language has coiled itself around the world of computer science, leaving its mark on the field and providing a powerful tool for solving complex problems.\n",
        "\n",
        "As you embark on your adventure in computer science, remember to appreciate the rich history behind the formal languages you'll encounter. And if you ever find yourself in a coding conundrum, just take a deep breath, channel your inner Python, and keep calm and \"constrict\" your focus on the task at hand. After all, even the most venomous of problems can be tamed with the right combination of logic, syntax, and a healthy dose of Pythonic charm.\n",
        "\n",
        "## Table : A History of Formal Languages\n",
        "| Period | Formal Language / System | Description |\n",
        "| --- | --- | --- |\n",
        "| Ancient Greece | Categorical Logic (Aristotle) | Aristotle's categorical logic provided a foundation for logical reasoning, focusing on subject-predicate relationships. |\n",
        "| Ancient Greece | Euclidean Geometry (Euclid) | Euclid's geometry formalized the study of shapes and space, with axioms, postulates, and theorems. |\n",
        "| 17th Century | Analytic Geometry (Descartes) | Descartes introduced the coordinate system, linking algebra and geometry, allowing for the study of curves and surfaces. |\n",
        "| 17th Century | Calculus (Newton, Leibniz) | Newton and Leibniz independently developed calculus, providing tools to study rates of change and accumulation. |\n",
        "| 19th Century | Boolean Algebra (Boole) | George Boole's algebra of logic laid the foundation for the digital logic used in modern computing. |\n",
        "| Late 19th Century | Set Theory (Cantor) | Cantor's set theory provided a rigorous foundation for mathematics, defining infinite sets and cardinality. |\n",
        "| Late 19th Century | Predicate Logic | Frege and Russell develop a new form of formal logic |\n",
        "| Early 20th Century | Lambda Calculus (Church) | Alonzo Church's lambda calculus introduced a formal system for functional programming and computability theory. |\n",
        "| 1930s | Turing Machines (Turing) | Alan Turing's Turing machines provided a model for computation and helped develop the theory of computability. |\n",
        "| 1950s | Fortran | Fortran was one of the first high-level programming languages, designed for scientific and engineering calculations. |\n",
        "| 1950s | LISP | LISP, a functional and symbolic programming language, was designed for artificial intelligence and symbolic processing. |\n",
        "| 1960s | COBOL | COBOL was a widely-used business-oriented language designed for data processing and management. |\n",
        "| 1960s | ALGOL | ALGOL was a family of imperative programming languages used for scientific and engineering applications. |\n",
        "| 1970s | C | C, a general-purpose programming language, became influential for system programming and inspired many languages. |\n",
        "| 1980s | SQL | SQL, a domain-specific language, was developed for managing and querying relational databases. |\n",
        "| 1980s | Prolog | Prolog, a logic programming language, was designed for symbolic reasoning and manipulation. |\n",
        "| 1990s | Java | Java, an object-oriented programming language, became popular for its platform independence and wide applicability. |\n",
        "| 1990s | Python | Python, a versatile high-level language, is widely used for web development, data analysis, and scientific computing. |\n",
        "| 2000s-Present | Modern Programming Languages (e.g., Ruby, Swift, Kotlin, Rust) | These languages aim to improve on previous designs, offering features like safety, simplicity, and performance. |\n",
        "\n",
        "\n",
        "\n"
      ],
      "metadata": {
        "id": "wHKU7oHlKfNN"
      }
    },
    {
      "cell_type": "markdown",
      "source": [
        "## Discussion Questions: The Tail of a Python\n",
        "1. Discuss the importance of formal languages in computer science. Why do we need programming languages like Python to communicate with computers?\n",
        "\n",
        "\n",
        "2. What background (if any) do you have with programming computers? What language(s) have you used before?\n",
        "\n",
        "\n",
        "3. Reflect on the role of computer science in society today. How do programming languages like Python contribute to advancements in various fields, such as science, business, and technology?\n",
        "\n",
        "4. As a student in an \"intro to computer science\" course, what aspects of Python and programming languages in general are you most excited to learn about?"
      ],
      "metadata": {
        "id": "YWyum1cq2XZj"
      }
    },
    {
      "cell_type": "markdown",
      "source": [
        "## Your Answers: The Tail of a Python\n",
        "Please enter your answers to the above questions in this code cell.\n",
        "\n",
        "1.\n",
        "\n",
        "2.\n",
        "\n",
        "3.\n",
        "\n",
        "4."
      ],
      "metadata": {
        "id": "olxs16KM2Yg6"
      }
    },
    {
      "cell_type": "markdown",
      "source": [
        "# Strings\n",
        "Strings are a fundamental data type in Python that represents sequences of characters, like text or words. They are used to store and manipulate text information in your programs, such as messages, names, or any other textual data.\n",
        "\n",
        "In Python, you can create a string by enclosing a sequence of characters between either single quotes (') or double quotes (\"). Both options are valid, but it's important to be consistent in your code. Here are some examples of strings:\n",
        "\n",
        "```python\n",
        "# Using single quotes\n",
        "string1 = 'Hello, World!'\n",
        "\n",
        "# Using double quotes\n",
        "string2 = \"Python is fun!\"\n",
        "```\n",
        "\n",
        "You can also use triple quotes (''' or \"\"\") to create multiline strings:\n",
        "\n",
        "```python\n",
        "multiline_string = '''This is a\n",
        "multiline string in\n",
        "Python.'''\n",
        "```"
      ],
      "metadata": {
        "id": "aoTNgy9fGNAS"
      }
    },
    {
      "cell_type": "markdown",
      "source": [
        "### Common String Operations\n",
        "Here are some common operations you can perform with strings:\n",
        "\n",
        "**Concatenation** (joining strings together):\n",
        "You can use the + operator to join two or more strings together, creating a new string.\n"
      ],
      "metadata": {
        "id": "9Dht2WhyppVd"
      }
    },
    {
      "cell_type": "code",
      "source": [
        "# Concanate strings\n",
        "greeting = \"Hello, \"\n",
        "name = \"Ada\"\n",
        "message = greeting + name + \"!\"\n",
        "print(message)"
      ],
      "metadata": {
        "colab": {
          "base_uri": "https://localhost:8080/"
        },
        "id": "V7VF2ekspyPV",
        "outputId": "4aa3eb8b-209b-4157-f849-42592aca426a"
      },
      "execution_count": 1,
      "outputs": [
        {
          "output_type": "stream",
          "name": "stdout",
          "text": [
            "Hello, Ada!\n"
          ]
        }
      ]
    },
    {
      "cell_type": "markdown",
      "source": [
        "\n",
        "**Repetition** (repeating strings):\n",
        "You can use the * operator to repeat a string a certain number of times.\n"
      ],
      "metadata": {
        "id": "Zl-XUBgDptR8"
      }
    },
    {
      "cell_type": "code",
      "source": [
        "# Repeat strings\n",
        "repeat_message = message * 3\n",
        "print(repeat_message)\n"
      ],
      "metadata": {
        "id": "C01WVoYhHaVu",
        "colab": {
          "base_uri": "https://localhost:8080/"
        },
        "outputId": "5d43e1fb-f8d0-4452-f6f7-c88c00e5382d"
      },
      "execution_count": null,
      "outputs": [
        {
          "output_type": "stream",
          "name": "stdout",
          "text": [
            "Hello, Ada!Hello, Ada!Hello, Ada!\n"
          ]
        }
      ]
    },
    {
      "cell_type": "markdown",
      "source": [
        "**Accessing individual characters:**\n",
        "You can access individual characters in a string using their index (position) within the string. Keep in mind that string indices start from 0.\n",
        "\n"
      ],
      "metadata": {
        "id": "q5-FiTsNqAFj"
      }
    },
    {
      "cell_type": "code",
      "source": [
        "# Access characters\n",
        "first_letter = name[0]\n",
        "print(first_letter)"
      ],
      "metadata": {
        "id": "uwDe9FOgHelN",
        "colab": {
          "base_uri": "https://localhost:8080/"
        },
        "outputId": "f3d624cb-e9bb-40db-cc23-25137a242034"
      },
      "execution_count": null,
      "outputs": [
        {
          "output_type": "stream",
          "name": "stdout",
          "text": [
            "A\n"
          ]
        }
      ]
    },
    {
      "cell_type": "markdown",
      "source": [
        "**Slicing (extracting parts of a string)**:\n",
        "You can extract a part of a string, called a \"slice,\" by specifying the starting and ending indices.\n",
        "\n"
      ],
      "metadata": {
        "id": "1LUjJoNZqESW"
      }
    },
    {
      "cell_type": "code",
      "source": [
        "# Slice strings\n",
        "text = \"Python\"\n",
        "slice_text = text[1:4]\n",
        "print(slice_text)"
      ],
      "metadata": {
        "id": "_NXwAiNGHhL9",
        "colab": {
          "base_uri": "https://localhost:8080/"
        },
        "outputId": "ba1d49e3-7d5d-42be-d325-d65f84c56f77"
      },
      "execution_count": null,
      "outputs": [
        {
          "output_type": "stream",
          "name": "stdout",
          "text": [
            "yth\n"
          ]
        }
      ]
    },
    {
      "cell_type": "markdown",
      "source": [
        "### String methods:\n",
        "Python provides various built-in methods for working with strings, such as converting them to uppercase or lowercase, replacing characters, and splitting them into a list of words.\n"
      ],
      "metadata": {
        "id": "XJF7oXrmqJWk"
      }
    },
    {
      "cell_type": "code",
      "source": [
        "# Make uppercase\n",
        "text = \"Python is fun\"\n",
        "uppercase_text = text.upper()\n",
        "lowercase_text = text.lower()\n",
        "print(uppercase_text)"
      ],
      "metadata": {
        "id": "IwJtNiMwHvMc",
        "colab": {
          "base_uri": "https://localhost:8080/"
        },
        "outputId": "1e244c34-35ab-4c2b-e2b3-05768cc6b427"
      },
      "execution_count": null,
      "outputs": [
        {
          "output_type": "stream",
          "name": "stdout",
          "text": [
            "PYTHON IS FUN\n"
          ]
        }
      ]
    },
    {
      "cell_type": "markdown",
      "source": [
        "The big ideas here are:\n",
        "1. Strings are sequences of characters used to represent and manipulate text in Python.\n",
        "2. You can create strings by enclosing characters in single or double quotes.\n",
        "3. You can perform various operations on strings, like concatenation, repetition, accessing characters, slicing, and using string methods.\n",
        "\n",
        "\n",
        "Feel free to play around with the following code cells to see what happens when you change various things."
      ],
      "metadata": {
        "id": "eWsN7v_1qOfl"
      }
    },
    {
      "cell_type": "markdown",
      "source": [
        "# Replacing Characters and Words\n",
        "The replace() method in Python is a built-in string method used to replace all occurrences of a specified substring with another substring. The syntax for the replace() method is:\n",
        "\n",
        "- `string.replace(old, new, count)`\n",
        "- old: The substring you want to replace.\n",
        "- `new:` The new substring that will replace the old substring.\n",
        "- `count:` (Optional) The number of occurrences you want to replace. If not provided, it will replace all occurrences.\n",
        "\n",
        "Here's an example of how to use the replace() method:\n",
        "\n",
        "```\n",
        "original_string = \"I like Python programming. Python is fun.\"\n",
        "\n",
        "# Replace all occurrences of \"Python\" with \"Java\"\n",
        "new_string = original_string.replace(\"Python\", \"Java\")\n",
        "\n",
        "print(new_string)\n",
        "# Output: \"I like Java programming. Java is fun.\"\n",
        "```\n",
        "\n",
        "If you want to replace only a specific number of occurrences, you can use the optional count parameter:\n",
        "\n",
        "```\n",
        "original_string = \"I like Python programming. Python is fun. Python is powerful.\n",
        "\n",
        "# Replace only the first occurrence of \"Python\" with \"Java\"\n",
        "new_string = original_string.replace(\"Python\", \"Java\", 1)\n",
        "\n",
        "print(new_string)\n",
        "# Output: \"I like Java programming. Python is fun. Python is powerful.\"\n",
        "```\n",
        "Keep in mind that the replace() method returns a new string with the replaced substrings, as strings in Python are immutable and cannot be modified directly."
      ],
      "metadata": {
        "id": "93egUJefVGFu"
      }
    },
    {
      "cell_type": "markdown",
      "source": [
        "# Formatted Strings\n",
        "Formatted strings, also known as \"f-strings\" in Python, are a way to embed expressions or variables inside string literals, using curly braces ({}). They were introduced in Python 3.6 and provide a more convenient and readable way to format strings, especially when you need to include variables or expressions in your strings.\n",
        "\n",
        "F-strings are created by adding an f or F prefix before the string literal, followed by the string enclosed in single or double quotes. Inside the string, you can include expressions or variables within curly braces ({}). These expressions will be evaluated, and their values will be inserted into the resulting string.\n",
        "\n",
        "Here's an example of how to use an f-string to display a message that includes variables:\n",
        "\n",
        "```\n",
        "name = \"Elizabeth Bennett\"\n",
        "age = 24\n",
        "message = f\"Hello, my name is {name} and I am {age} years old.\"\n",
        "```\n",
        "\n",
        "print(message)  # Output: Hello, my name is Elizabeth Bennett and I am 24 years old.\n",
        "In this example, we created an f-string that includes the name and age variables inside curly braces. The values of these variables are inserted into the message, resulting in a formatted string.\n",
        "\n",
        "You can also include expressions inside the curly braces. For example, you can perform calculations or call functions:\n",
        "\n",
        "```\n",
        "length = 5\n",
        "width = 3\n",
        "area = f\"The area of the rectangle is {length * width}.\"\n",
        "print(area)  # Output: The area of the rectangle is 15.\n",
        "```\n",
        "\n",
        "In this example, we included a calculation (length * width) inside the curly braces, which is evaluated and its result is inserted into the f-string.\n",
        "\n",
        "F-strings also support various formatting options, such as specifying the number of decimal places for a floating-point number:\n",
        "\n",
        "```\n",
        "pi = 3.1415926535\n",
        "formatted_pi = f\"Pi rounded to 3 decimal places: {pi:.3f}\"\n",
        "print(formatted_pi)  # Output: Pi rounded to 3 decimal places: 3.142\n",
        "```\n",
        "In this example, we used the :.3f formatting option to round the value of pi to 3 decimal places.\n",
        "\n",
        "In short:\n",
        "1. Formatted strings (f-strings) are a convenient and readable way to format strings in Python.\n",
        "2. F-strings allow you to embed expressions or variables directly into string literals using curly braces.\n",
        "3. F-strings can be created by adding an f or F prefix before the string literal and support various formatting options for more precise control over the output.\n"
      ],
      "metadata": {
        "id": "KCQBs9AFI5Oh"
      }
    },
    {
      "cell_type": "code",
      "source": [
        "# Simple use of f-string\n",
        "name = \"Elizabeth Bennett\"\n",
        "age = 24\n",
        "message = f\"Hello, my name is {name} and I am {age} years old.\"\n",
        "print(message)"
      ],
      "metadata": {
        "id": "hxjCVMbEJb-Y",
        "colab": {
          "base_uri": "https://localhost:8080/"
        },
        "outputId": "10ec8acd-8653-4275-8ac8-e3df717c8061"
      },
      "execution_count": null,
      "outputs": [
        {
          "output_type": "stream",
          "name": "stdout",
          "text": [
            "Hello, my name is Elizabeth Bennett and I am 24 years old.\n"
          ]
        }
      ]
    },
    {
      "cell_type": "code",
      "source": [
        "# f-strings with calculations\n",
        "length = 5\n",
        "width = 3\n",
        "area = f\"The area of the rectangle is {length * width}.\"\n",
        "print(area)  # Output: The area of the rectangle is 15."
      ],
      "metadata": {
        "id": "s5bT5bPBJUoQ",
        "colab": {
          "base_uri": "https://localhost:8080/"
        },
        "outputId": "77201b1f-cd5d-4e4b-f755-fa496cf52d37"
      },
      "execution_count": null,
      "outputs": [
        {
          "output_type": "stream",
          "name": "stdout",
          "text": [
            "The area of the rectangle is 15.\n"
          ]
        }
      ]
    },
    {
      "cell_type": "code",
      "source": [
        "# Formatting with f-strings\n",
        "pi = 3.1415926535\n",
        "formatted_pi = f\"Pi rounded to 3 decimal places: {pi:.3f}\"\n",
        "print(formatted_pi)  # Output: Pi rounded to 3 decimal places: 3.142"
      ],
      "metadata": {
        "id": "RZvjrQIAJo2e",
        "colab": {
          "base_uri": "https://localhost:8080/"
        },
        "outputId": "fe30d587-9f7a-4183-aaf8-d0509f23d6b0"
      },
      "execution_count": null,
      "outputs": [
        {
          "output_type": "stream",
          "name": "stdout",
          "text": [
            "Pi rounded to 3 decimal places: 3.142\n"
          ]
        }
      ]
    },
    {
      "cell_type": "markdown",
      "source": [
        "# Python Strings and the Importance of \"Reading the Documentation.\"\n",
        "Python (like most modern programming languages) has many built-in functions that allow you manipulate strings in various ways.\n",
        "\n",
        "In programming, there are many built-in tools called \"methods\" that help us perform tasks more easily. When working with text, called \"strings\" in Python, we often need to perform actions like changing the text's case, splitting it into smaller parts, or finding specific words. Python has many built-in string methods that make these tasks simple.\n",
        "\n",
        "However, it's difficult to remember all these methods and their uses. That's why checking the documentation is essential. Documentation is like a guidebook that explains how to use different tools and methods in programming. By reading the documentation, you can learn how to use a method properly and understand what it does, even if you've never used it before.\n",
        "\n",
        "You can find a table of common string operations at the end of this chapter.\n",
        "\n"
      ],
      "metadata": {
        "id": "8U5blgQIViTr"
      }
    },
    {
      "cell_type": "markdown",
      "source": [
        "## Review with Quizlet\n",
        "RUn the following cell to launch the quizlet deck for this chapter."
      ],
      "metadata": {
        "id": "ILDRAPd3ySwb"
      }
    },
    {
      "cell_type": "code",
      "source": [
        "%%html\n",
        "<iframe src=\"https://quizlet.com/818668457/learn/embed?i=psvlh&x=1jj1\" height=\"600\" width=\"100%\" style=\"border:0\"></iframe>"
      ],
      "metadata": {
        "id": "7_voLJDnyaG8",
        "outputId": "bf707b47-a447-4455-e77f-c3bc0590b104",
        "colab": {
          "base_uri": "https://localhost:8080/",
          "height": 622
        }
      },
      "execution_count": null,
      "outputs": [
        {
          "output_type": "display_data",
          "data": {
            "text/plain": [
              "<IPython.core.display.HTML object>"
            ],
            "text/html": [
              "<iframe src=\"https://quizlet.com/818668457/learn/embed?i=psvlh&x=1jj1\" height=\"600\" width=\"100%\" style=\"border:0\"></iframe>\n"
            ]
          },
          "metadata": {}
        }
      ]
    },
    {
      "cell_type": "markdown",
      "source": [
        "## Exercises\n",
        "Please complete the following exercises. (You can use the code cells below to work on these problems.\n",
        "\n",
        "###Exercise 1: Hello Python!\n",
        "Objective: Practice using the `print()` function. Description: Write a program that prints \"Hello, Python!\" on the screen. Hint: Use the `print()` function. Sample Output:\n",
        "\n",
        "\n",
        "`Hello, Python!`\n",
        "\n",
        "### Exercise 2: What's your snake name?\n",
        "- Objective: Practice using the `input()` function.\n",
        "- Description: Write a program that asks the user for their snake name and prints it on the screen. Hint: Use the `input()` function to get the user's input.\n",
        "- Sample Input: `Python Pete`\n",
        "- Sample Output: `Python Pete`\n",
        "\n",
        "### Exercise 3: Greet the Snake\n",
        "- Objective: Practice using f-strings.\n",
        "- Description: Write a program that asks the user for their snake name and then prints a personalized greeting.\n",
        "- Hint: Use an f-string to combine the user's name with the greeting.\n",
        "- Sample Input: `Cobra Carla`\n",
        "- Sample Output: `Welcome to the Snake Club, Cobra Carla!`\n",
        "\n",
        "### Exercise 4: String Case Conversion\n",
        "- Objective: Practice using basic string methods.\n",
        "- Description: Write a program that asks the user for their snake name and then prints the name in uppercase and lowercase.\n",
        "- Hint: Use the `.upper()` and `.lower()` string methods.\n",
        "- Sample Input: `Rattler Ram`\n",
        "- Sample Output:\n",
        "\n",
        "\n",
        "```\n",
        "Uppercase: RATTLER RAM\n",
        "Lowercase: rattler ram\n",
        "```\n",
        "\n",
        "### Exercise 5: Name Reversal\n",
        "- Objective: Practice using string indexing.\n",
        "- Description: Write a program that asks the user for their snake name and then prints the name in reverse order.\n",
        "- Hint: Use string slicing with a negative step.\n",
        "- Sample Input: `Boa Bonnie`\n",
        "- Sample Output: `einnob aoB`"
      ],
      "metadata": {
        "id": "ecX4OURI7NVc"
      }
    },
    {
      "cell_type": "code",
      "source": [
        "# Problem 1"
      ],
      "metadata": {
        "id": "vDWCKdXY7wNW"
      },
      "execution_count": null,
      "outputs": []
    },
    {
      "cell_type": "code",
      "source": [
        "# Problem 2"
      ],
      "metadata": {
        "id": "9zHW_-DM7yXc"
      },
      "execution_count": null,
      "outputs": []
    },
    {
      "cell_type": "code",
      "source": [
        "# Problem 3"
      ],
      "metadata": {
        "id": "TluJh9DL7zfb"
      },
      "execution_count": null,
      "outputs": []
    },
    {
      "cell_type": "code",
      "source": [
        "# Problem 4"
      ],
      "metadata": {
        "id": "uZHFIWeW70v3"
      },
      "execution_count": null,
      "outputs": []
    },
    {
      "cell_type": "code",
      "source": [
        "# Problem 5"
      ],
      "metadata": {
        "id": "51PP1G6l72Sc"
      },
      "execution_count": null,
      "outputs": []
    },
    {
      "cell_type": "markdown",
      "source": [
        "## Glossary\n",
        "| Term | Definition |\n",
        "| --- | --- |\n",
        "| Google Colab | An online cloud-based platform that allows execution of Python code, supports collaboration, and offers free access to GPUs. |\n",
        "| Bug | An error, flaw or fault in a program causing it to produce undesired or incorrect results. |\n",
        "| Debugging | The process of identifying and removing errors from a computer program. |\n",
        "| Function | A reusable piece of code that performs a specific task when called. |\n",
        "| Parameter | A variable used in the declaration of a function, to which a value is passed when the function is called. |\n",
        "| Variables | Containers for storing data values. |\n",
        "| = vs == | `=` is used for assignment, giving a variable a specific value. `==` is used for comparison, checking if two values are equal. |\n",
        "| Escape characters | Special characters in string literals that are interpreted differently, like '\\n' (new line) and '\\t' (tab). |\n",
        "| String | A sequence of characters enclosed in quotes, used to represent text data. |\n",
        "| Comments | Non-executable text in code used to explain and improve readability. In Python, comments are denoted by `#`. |\n",
        "| Pseudocode | A simple explanation of a computer program or algorithm, written in plain language with some programming conventions. |\n",
        "| Formal language | A language designed for specific purposes, like mathematics, computer science, or programming, which has strict rules of syntax. |\n",
        "| Natural language | A human language, such as English or Spanish, evolved naturally and used for communication. |\n",
        "| Boolean Algebra | A branch of algebra where the values of variables are true or false, typically used in computer logic and programming. |\n",
        "| Turing Machine | A theoretical computational device, proposed by Alan Turing, used in theoretical computation and formal languages. |\n",
        "| f-string | A way of formatting strings in Python (from version 3.6 onwards) allowing the inclusion of expressions inside string literals. |"
      ],
      "metadata": {
        "id": "cVwb3f9YW2yf"
      }
    },
    {
      "cell_type": "markdown",
      "source": [
        "## Code to Know\n",
        "Here's a reivew of (some of) the code snippests we covered in this chapter that are worth remembering.\n",
        "\n",
        "| Code | Operation |\n",
        "| --- | --- |\n",
        "| name = \"Gandalf\" | Python code to assign the string \"Gandalf\" to the variable name. |\n",
        "| age = 345 | Python code to assign the value 345 to the variable age. |\n",
        "| print(\"Hello, my name is\", name, \"and I am\", age, \"years old.\") | Python code to print a greeting message, incorporating the variables name and age. |\n",
        "| age = age + 1 | Python code to increment the value of the variable age by 1. |\n",
        "| name = input(\"What is your name? \") | Python code to prompt the user for their name and assign the input to the variable name. |\n",
        "| age = int(input(\"How old are you? \")) | Python code to prompt the user for their age, convert the input to an integer, and assign it to the variable age. |\n",
        "| # This is a comment in Python | Python code to write a comment that is ignored by the interpreter. |\n",
        "| string1 = 'Hello, World!' | Python code to assign the string 'Hello, World!' to the variable string1. |\n",
        "| print(f\"The area of the rectangle is {length * width}.\") | Python code to print the area of a rectangle using f-strings with variables length and width. |\n",
        "\n",
        "### Common String Operations\n",
        "\n",
        "| Syntax | Operation |\n",
        "| --- | --- |\n",
        "| s1 + s2 | Python code to combine two strings, s1 and s2. |\n",
        "| s * n | Python code to repeat a string s a specified number of times n. |\n",
        "| len(s) | Python code to find the length of a string s. |\n",
        "| s[1] | Python code to access the 2nd character in a string s by index. |\n",
        "| s[start:end] | Python code to slice a string s to get a substring from start to end. |\n",
        "| 'Hello' in s | Python code to check if the word \"Hello\" is present in a string s. |\n",
        "| s.count('Hello') | Python code to count occurrences of \"Hello\" in a string s. |\n",
        "| s.replace('old', 'new') | Python code to replace a substring old with new in a string s. |\n",
        "| s.upper() | Python code to convert a string s to uppercase. |\n",
        "| s.lower() | Python code to convert a string s to lowercase. |\n",
        "| s.strip() | Python code to remove leading and trailing whitespaces from a string s. |\n",
        "| s.split() | Python code to split a string s into a list of substrings at any white space. |\n",
        "| ','.join(list) | Python code to join a list of strings into a single string using a \",\" to separate them. |\n",
        "| s.find('snake') | Python code to find the index of the first occurrence of \"snake\" in a string s. |\n",
        "| s.startswith('Greetings!') | Python code to check if a string s starts with \"Greetings!\". |\n",
        "| s.endswith('?') | Python code to check if a string s ends with a \"?\". |\n",
        "| s.capitalize() | Python code to capitalize the first character of a string s. |"
      ],
      "metadata": {
        "id": "WwHRLGMcy_NA"
      }
    },
    {
      "cell_type": "code",
      "source": [],
      "metadata": {
        "id": "vWWejSn8xuI2"
      },
      "execution_count": null,
      "outputs": []
    }
  ]
}