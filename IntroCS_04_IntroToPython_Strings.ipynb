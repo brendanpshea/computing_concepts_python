{
  "nbformat": 4,
  "nbformat_minor": 0,
  "metadata": {
    "colab": {
      "provenance": [],
      "authorship_tag": "ABX9TyMC8DO/wSGmaGpDfNSd2XPj",
      "include_colab_link": true
    },
    "kernelspec": {
      "name": "python3",
      "display_name": "Python 3"
    },
    "language_info": {
      "name": "python"
    }
  },
  "cells": [
    {
      "cell_type": "markdown",
      "metadata": {
        "id": "view-in-github",
        "colab_type": "text"
      },
      "source": [
        "<a href=\"https://colab.research.google.com/github/brendanpshea/computing_concepts_python/blob/main/IntroCS_04_IntroToPython_Strings.ipynb\" target=\"_parent\"><img src=\"https://colab.research.google.com/assets/colab-badge.svg\" alt=\"Open In Colab\"/></a>"
      ]
    },
    {
      "cell_type": "markdown",
      "source": [
        "# Introduction to Python: Working With Strings\n",
        "### Computing Concepts with Python | Brendan Shea, PhD (Brendan.Shea@rctc.edu)\n",
        "\n",
        "In this chapter, we'll dive into the exciting world of computer programming and explore the Python programming language. We'll learn what programming is, how it differs from natural languages, and how you can start writing your own Python code using Google Colab. So, let's begin our journey!\n",
        "\n",
        "In this chapter, you'll learn to:\n",
        "\n",
        "1.  Understand what programming is, how it differs from natural languages, and why Python is a popular choice for learning to code.\n",
        "2.  Set up and use Google Colab to write, run, and save Python code, and understand how to use Colab's features to interact with code cells and notebooks.\n",
        "3.  Declare variables in Python, assign them values of different data types, and use them in expressions and print statements.\n",
        "4.  Obtain user input using the input() function, and convert input strings to other data types like integers when needed for calculations.\n",
        "5.  Perform common string operations in Python, including concatenation, repetition, slicing, case manipulation, and character replacement.\n",
        "6.  Use f-strings to create formatted string literals that can embed expressions and variables, and apply f-string formatting options for tasks like rounding decimal numbers."
      ],
      "metadata": {
        "id": "wMc1qnmMZhLv"
      }
    },
    {
      "cell_type": "markdown",
      "source": [
        "## What is Computer Programming?\n",
        "\n",
        "**Computer programming** is the process of designing, writing, testing, and maintaining instructions that tell a computer what to do. These instructions, known as code, are written in specialized languages called programming languages. Just like how we communicate with each other using languages like English or Spanish, we communicate with computers using programming languages.\n",
        "\n",
        "When you write code, you're essentially creating a set of instructions that the computer follows to perform specific tasks, such as displaying text on the screen, performing calculations, or even creating interactive games. It's like giving the computer a recipe to follow, step by step.\n",
        "\n",
        "Programming languages are considered **formal languages**, which means they have strict rules and syntax that must be followed for the code to work correctly. In contrast, **natural languages**, like the ones we speak, have more flexibility and ambiguity.\n",
        "\n",
        "Think of it this way: when you talk to a friend, they can usually understand what you mean even if you use slang, make grammatical errors, or pause in the middle of a sentence. However, computers are more literal and require precise instructions. If you make a mistake in your code, like forgetting a comma or misspelling a word, the computer won't be able to understand what you want it to do, and you'll encounter an error.\n",
        "\n",
        "In this classs, we'll be focusing mostly on Python. **Python** is a popular, high-level programming language known for its simplicity and readability. It was named after the famous British comedy troupe, Monty Python, because the language's creator, Guido van Rossum, was a fan of their work.\n",
        "\n",
        "Python is widely used for various applications, including web development, data analysis, artificial intelligence, and scientific computing. One of the reasons for its popularity is that it has a clean and straightforward syntax, making it easier to learn and write compared to some other programming languages.\n",
        "\n",
        "For example, here is a sample Python program."
      ],
      "metadata": {
        "id": "DgtIIxNiAQI0"
      }
    },
    {
      "cell_type": "code",
      "source": [
        "name = \"King Arthur\"\n",
        "print(\"Hello, \" + name + \"!\")"
      ],
      "metadata": {
        "id": "25dDpxwvAj_r",
        "colab": {
          "base_uri": "https://localhost:8080/"
        },
        "outputId": "1fb72db8-df38-4572-ad78-450690a3b214"
      },
      "execution_count": null,
      "outputs": [
        {
          "output_type": "stream",
          "name": "stdout",
          "text": [
            "Hello, King Arthur!\n"
          ]
        }
      ]
    },
    {
      "cell_type": "markdown",
      "source": [
        "This small program will say hello to Arthur. You can see how easy it is to read and understand\n"
      ],
      "metadata": {
        "id": "GTb9j3B6ApRK"
      }
    },
    {
      "cell_type": "code",
      "source": [
        "# Click here to launch my lecture\n",
        "from IPython.display import YouTubeVideo\n",
        "YouTubeVideo('iTbXHYmTAEg', width=800, height=500)"
      ],
      "metadata": {
        "id": "aQpndD-VaAHC",
        "outputId": "6fb9c059-4f03-42b4-f4a6-e6c14026e638",
        "colab": {
          "base_uri": "https://localhost:8080/",
          "height": 522
        }
      },
      "execution_count": null,
      "outputs": [
        {
          "output_type": "execute_result",
          "data": {
            "text/plain": [
              "<IPython.lib.display.YouTubeVideo at 0x7abac8cabb20>"
            ],
            "text/html": [
              "\n",
              "        <iframe\n",
              "            width=\"800\"\n",
              "            height=\"500\"\n",
              "            src=\"https://www.youtube.com/embed/iTbXHYmTAEg\"\n",
              "            frameborder=\"0\"\n",
              "            allowfullscreen\n",
              "            \n",
              "        ></iframe>\n",
              "        "
            ]
          },
          "metadata": {},
          "execution_count": 1
        }
      ]
    },
    {
      "cell_type": "markdown",
      "source": [
        "### BrendyBot is Here to Answer Your Questions\n",
        "![image.png](https://github.com/brendanpshea/colab-utilities/raw/main/brendy_bot_pic.png)\n",
        "\n",
        "If you have questions about the content of this chapter, you can try out \"BrendyBot\", an AI chat bot I've trained on the lecture notes for this class (note that BrendyBot is stil experimental, and can definitley make mistakes!).\n",
        "\n",
        "https://poe.com/BrendyBot"
      ],
      "metadata": {
        "id": "YuQyo6EjrIFF"
      }
    },
    {
      "cell_type": "markdown",
      "source": [
        "## Writing a \"Hello, World!\" program:\n",
        "In Python, you can write a \"Hello, World!\" program using the print() function. The print() function displays a message on the screen. Here's how you can write the program:"
      ],
      "metadata": {
        "id": "I8Ug5HyLBqHA"
      }
    },
    {
      "cell_type": "code",
      "source": [
        "print('Hello, World!')"
      ],
      "metadata": {
        "id": "zCY6P1_CAp1B",
        "colab": {
          "base_uri": "https://localhost:8080/"
        },
        "outputId": "70e29c31-aebd-4bce-dbf1-4791c8712052"
      },
      "execution_count": null,
      "outputs": [
        {
          "output_type": "stream",
          "name": "stdout",
          "text": [
            "Hello, World!\n"
          ]
        }
      ]
    },
    {
      "cell_type": "markdown",
      "source": [
        "## Bugs and Debugging\n",
        "As a beginner, it's common to make some mistakes while writing code. Here are a few errors you might make when writing a \"Hello, World!\" program and how to fix them.\n"
      ],
      "metadata": {
        "id": "1nJ-GfjrB003"
      }
    },
    {
      "cell_type": "code",
      "source": [
        "# Missing quotes\n",
        "print(Hello, World!)"
      ],
      "metadata": {
        "id": "kiOYbVzFCrvE",
        "colab": {
          "base_uri": "https://localhost:8080/",
          "height": 140
        },
        "outputId": "3743601c-09e0-479e-980f-8071d58721ff"
      },
      "execution_count": null,
      "outputs": [
        {
          "output_type": "error",
          "ename": "SyntaxError",
          "evalue": "ignored",
          "traceback": [
            "\u001b[0;36m  File \u001b[0;32m\"<ipython-input-8-72fd556a43a1>\"\u001b[0;36m, line \u001b[0;32m2\u001b[0m\n\u001b[0;31m    print(Hello, World!)\u001b[0m\n\u001b[0m                      ^\u001b[0m\n\u001b[0;31mSyntaxError\u001b[0m\u001b[0;31m:\u001b[0m invalid syntax\n"
          ]
        }
      ]
    },
    {
      "cell_type": "markdown",
      "source": [
        "This will give you a syntax error because Python expects the text you want to print to be inside quotes. To fix this error, put the text inside double or single quotes:"
      ],
      "metadata": {
        "id": "t6PSA0GNrKAx"
      }
    },
    {
      "cell_type": "code",
      "source": [
        "# Mismatched quotes\n",
        "print('Hello, World!\")"
      ],
      "metadata": {
        "id": "E6j44BzlCrzU",
        "colab": {
          "base_uri": "https://localhost:8080/",
          "height": 140
        },
        "outputId": "aa330840-cd99-4aa7-95eb-f251b10e5227"
      },
      "execution_count": null,
      "outputs": [
        {
          "output_type": "error",
          "ename": "SyntaxError",
          "evalue": "ignored",
          "traceback": [
            "\u001b[0;36m  File \u001b[0;32m\"<ipython-input-61-93bf1ef1bc27>\"\u001b[0;36m, line \u001b[0;32m2\u001b[0m\n\u001b[0;31m    print('Hello, World!\")\u001b[0m\n\u001b[0m          ^\u001b[0m\n\u001b[0;31mSyntaxError\u001b[0m\u001b[0;31m:\u001b[0m unterminated string literal (detected at line 2)\n"
          ]
        }
      ]
    },
    {
      "cell_type": "markdown",
      "source": [
        "This will also give you a syntax error because the opening and closing quotes don't match. Make sure you use either double quotes or single quotes consistently."
      ],
      "metadata": {
        "id": "OWrA6JXfrM3A"
      }
    },
    {
      "cell_type": "code",
      "source": [
        "# No parentheses\n",
        "print \"Hello, World!\""
      ],
      "metadata": {
        "id": "x7c1sobNCxi0",
        "colab": {
          "base_uri": "https://localhost:8080/",
          "height": 140
        },
        "outputId": "2eb728c4-e2ae-4992-e54a-375c517e1fa6"
      },
      "execution_count": null,
      "outputs": [
        {
          "output_type": "error",
          "ename": "SyntaxError",
          "evalue": "ignored",
          "traceback": [
            "\u001b[0;36m  File \u001b[0;32m\"<ipython-input-13-58096f8a914a>\"\u001b[0;36m, line \u001b[0;32m2\u001b[0m\n\u001b[0;31m    print \"Hello, World!\"\u001b[0m\n\u001b[0m    ^\u001b[0m\n\u001b[0;31mSyntaxError\u001b[0m\u001b[0;31m:\u001b[0m Missing parentheses in call to 'print'. Did you mean print(...)?\n"
          ]
        }
      ]
    },
    {
      "cell_type": "markdown",
      "source": [
        "This will give you a syntax error because the print function needs parentheses around its arguments. To fix this error, add parentheses around the text you want to print."
      ],
      "metadata": {
        "id": "50IIen6drSLw"
      }
    },
    {
      "cell_type": "code",
      "source": [
        "# Mispelled function name\n",
        "prit(\"Hello, World!\")"
      ],
      "metadata": {
        "id": "XP_a6TJJC06T",
        "colab": {
          "base_uri": "https://localhost:8080/",
          "height": 192
        },
        "outputId": "caba4488-7ecd-498c-d784-9b5735e30c63"
      },
      "execution_count": null,
      "outputs": [
        {
          "output_type": "error",
          "ename": "NameError",
          "evalue": "ignored",
          "traceback": [
            "\u001b[0;31m---------------------------------------------------------------------------\u001b[0m",
            "\u001b[0;31mNameError\u001b[0m                                 Traceback (most recent call last)",
            "\u001b[0;32m<ipython-input-15-6c8763557dc1>\u001b[0m in \u001b[0;36m<cell line: 2>\u001b[0;34m()\u001b[0m\n\u001b[1;32m      1\u001b[0m \u001b[0;31m# Mispelled function name\u001b[0m\u001b[0;34m\u001b[0m\u001b[0;34m\u001b[0m\u001b[0m\n\u001b[0;32m----> 2\u001b[0;31m \u001b[0mprit\u001b[0m\u001b[0;34m(\u001b[0m\u001b[0;34m\"Hello, World!\"\u001b[0m\u001b[0;34m)\u001b[0m\u001b[0;34m\u001b[0m\u001b[0;34m\u001b[0m\u001b[0m\n\u001b[0m",
            "\u001b[0;31mNameError\u001b[0m: name 'prit' is not defined"
          ]
        }
      ]
    },
    {
      "cell_type": "markdown",
      "source": [
        "This will give you a \"NameError\" because Python doesn't recognize the misspelled function name. Double-check your spelling and make sure you use the correct function name.\n",
        "\n",
        "These are just a few common errors that you might make when writing a \"Hello, World!\" program in Python. Don't worry if you make mistakes—it's a normal part of the learning process! Just remember to read the error messages carefully, as they often give you clues about what's wrong with your code."
      ],
      "metadata": {
        "id": "IhAzspAzrUav"
      }
    },
    {
      "cell_type": "markdown",
      "source": [
        "# The print() Function and its Parameters\n",
        "\n",
        "When we say that print is a \"function\" with \"parameters,\" we're describing how it works and how we can use it in our Python code. Let's break down these two terms:\n",
        "\n",
        "A **function** is a block of reusable code that performs a specific task. Functions help us organize our code, make it easier to read, and avoid repeating the same code over and over. Functions in Python have a name, like print, and can be called using that name followed by parentheses.  When you call a function, it executes the code inside it and may return a result. For example, the print function displays a message on the screen. Functions can also take input, called \"parameters\" or \"arguments,\" which we'll discuss next.\n",
        "\n",
        "**Parameters** are the inputs a function can accept to perform its task. When we call a function, we pass these inputs inside the parentheses. These inputs can be values like numbers, text (strings), or even other variables.  In the case of the print function, it takes one or more parameters, which are the values you want to display. The print function then uses these parameters to determine what to display on the screen. For example:\n",
        "\n",
        "```python\n",
        "print(\"Hello, World!\")\n",
        "```\n",
        "\n",
        "In this example, the parameter is the text \"Hello, World!\". The print function takes this parameter and displays it on the screen.\n",
        "\n",
        "Here's another example with two parameters:\n",
        "\n",
        "```python\n",
        "print(\"Hello,\", \"World!\")\n",
        "```\n",
        "In this case, the print function takes two parameters (\"Hello,\" and \"World!\") and displays them on the screen separated by a space.\n",
        "\n",
        "To sum up:\n",
        "1. The function print is a block of reusable code that can accept one or more inputs (parameters) to display a message on the screen.\n",
        "2. By providing different parameters, we can use the print function to display various messages."
      ],
      "metadata": {
        "id": "5R4vBs_AC4Az"
      }
    },
    {
      "cell_type": "code",
      "source": [
        "print(\"Hello,\", \"World!\", 6, \"Hello!\")"
      ],
      "metadata": {
        "id": "LErPhxnXDLVT",
        "colab": {
          "base_uri": "https://localhost:8080/"
        },
        "outputId": "65d436c2-d9d9-4025-9512-730c455c0de2"
      },
      "execution_count": null,
      "outputs": [
        {
          "output_type": "stream",
          "name": "stdout",
          "text": [
            "Hello, World! 6 Hello!\n"
          ]
        }
      ]
    },
    {
      "cell_type": "markdown",
      "source": [
        "# Variables\n",
        "A **variable** is like a container or a box that stores a value in your program. You can think of it as a label or a name you give to a piece of data, so you can easily refer to it later. Variables help us keep track of information, perform calculations, and make decisions in our code. In Python, you can create a variable by giving it a name and assigning a value to it using the equal sign (=). Here's an example:\n",
        "\n"
      ],
      "metadata": {
        "id": "XaofEET_Db6b"
      }
    },
    {
      "cell_type": "code",
      "source": [
        "age_in_years = 21"
      ],
      "metadata": {
        "id": "Av-t4dG-rwS-"
      },
      "execution_count": null,
      "outputs": []
    },
    {
      "cell_type": "markdown",
      "source": [
        "\n",
        "In this example, we created a variable named age and stored the number 21 in it. Now, whenever we refer to age in our code, Python will know that it represents the number 21.\n",
        "\n",
        "## Working with variables:\n",
        "Once you have a variable, you can use it in different ways, like performing calculations or passing it to functions. Here's an example that demonstrates how to use variables with the print function:\n"
      ],
      "metadata": {
        "id": "YYX24eSTrtLn"
      }
    },
    {
      "cell_type": "code",
      "source": [
        "name = \"Gandalf\"\n",
        "age = 345\n",
        "\n",
        "print(\"Hello, my name is\", name, \"and I am\", age, \"years old.\")"
      ],
      "metadata": {
        "id": "un8QHxpNr3ut",
        "outputId": "b34471d5-3f8a-4886-a848-aaeee8386682",
        "colab": {
          "base_uri": "https://localhost:8080/"
        }
      },
      "execution_count": null,
      "outputs": [
        {
          "output_type": "stream",
          "name": "stdout",
          "text": [
            "Hello, my name is Gandalf and I am 345 years old.\n"
          ]
        }
      ]
    },
    {
      "cell_type": "markdown",
      "source": [
        "In this example, we created two variables: name and age. We then used the print function to display a message that includes the values stored in these variables.\n",
        "\n",
        "Variables can also be updated or changed throughout your program. For example, if Gandalf a birthday, you could update the age variable like this:\n"
      ],
      "metadata": {
        "id": "Mi6q9ltfr36l"
      }
    },
    {
      "cell_type": "code",
      "source": [
        "age = age + 1"
      ],
      "metadata": {
        "id": "qmkvu6Sqr-DF"
      },
      "execution_count": null,
      "outputs": []
    },
    {
      "cell_type": "markdown",
      "source": [
        "\n",
        "Now, the age variable contains the value 346 , and if we use the print function again, it will show the updated age:\n"
      ],
      "metadata": {
        "id": "LSWT7Em4r8yN"
      }
    },
    {
      "cell_type": "code",
      "source": [
        "print(\"Hello, my name is\", name, \"and I am\", age, \"years old.\")"
      ],
      "metadata": {
        "id": "zFfpH7tysDIV",
        "outputId": "dc90bc98-b199-4b5d-a52b-e3e8701afc8a",
        "colab": {
          "base_uri": "https://localhost:8080/"
        }
      },
      "execution_count": null,
      "outputs": [
        {
          "output_type": "stream",
          "name": "stdout",
          "text": [
            "Hello, my name is Gandalf and I am 346 years old.\n"
          ]
        }
      ]
    },
    {
      "cell_type": "markdown",
      "source": [
        "This will now display: \"Hello, my name is Gandalf and I am 346 years old.\"\n",
        "\n",
        "You can also increment variables as follows:"
      ],
      "metadata": {
        "id": "WlqlZu2RsDOv"
      }
    },
    {
      "cell_type": "code",
      "source": [
        "age += 1\n",
        "print(\"Age is now:\", age)"
      ],
      "metadata": {
        "colab": {
          "base_uri": "https://localhost:8080/"
        },
        "id": "NF1DkFpy9dSS",
        "outputId": "66a4fe70-9793-4b60-f239-0caece5c5f56"
      },
      "execution_count": null,
      "outputs": [
        {
          "output_type": "stream",
          "name": "stdout",
          "text": [
            "Age is now: 347\n"
          ]
        }
      ]
    },
    {
      "cell_type": "markdown",
      "source": [
        "# Escape Characters\n",
        "In Python strings, special characters or escape characters are used to represent certain characters that cannot be included in a string directly or have a special meaning in the context of a string. These characters are preceded by a backslash () and are interpreted by the Python interpreter as special instructions.\n",
        "\n",
        "Some common escape characters in Python strings are:\n",
        "\n",
        "`\\n:` Represents a newline character. It is used to insert a line break in a string.\n",
        "\n",
        "`\\t:` Represents a tab character. It is used to insert a horizontal tab in a string.\n",
        "\n",
        "`\\\\:` Represents a single backslash. Since the backslash is used to indicate escape characters, you need to use a double backslash to include a literal backslash in a string.\n",
        "\n",
        "`\\':` Represents a single quote. It is used to include a single quote within a string enclosed by single quotes.\n",
        "\n",
        "`\\\":` Represents a double quote. It is used to include a double quote within a string enclosed by double quotes."
      ],
      "metadata": {
        "id": "DDtha1UqFYc-"
      }
    },
    {
      "cell_type": "code",
      "source": [
        "print(\"This is a string with a newline character.\\nThis is the second line.\")\n",
        "print(\"Here is a string with a\\t\\t\\ttab character.\")\n",
        "print(\"This string contains a single backslash: \\\\\")\n",
        "print(\"This string contains a single quote: '\")\n",
        "print('This string contains a double quote: \"')"
      ],
      "metadata": {
        "colab": {
          "base_uri": "https://localhost:8080/"
        },
        "id": "6aJN6HFQFqCu",
        "outputId": "f07660ec-a4c9-4bd5-e8a1-4fcf1eea99ee"
      },
      "execution_count": null,
      "outputs": [
        {
          "output_type": "stream",
          "name": "stdout",
          "text": [
            "This is a string with a newline character.\n",
            "This is the second line.\n",
            "Here is a string with a\t\t\ttab character.\n",
            "This string contains a single backslash: \\\n",
            "This string contains a single quote: '\n",
            "This string contains a double quote: \"\n"
          ]
        }
      ]
    },
    {
      "cell_type": "markdown",
      "source": [
        "# Getting User Input\n",
        "In Python, you can get user input using the input() function. The input() function allows you to ask the user for information, and the user can type their response into the program. When the user presses Enter, the input() function returns the user's input as a string (text).\n",
        "\n",
        "Here's how you can use the input() function to get user input:\n",
        "\n",
        "1. Call the input() function and store the result in a variable:\n",
        "```python\n",
        "user_input = input()\n",
        "```\n",
        "In this example, we call the input() function and store the user's input in a variable named user_input.\n",
        "\n",
        "2. Add a prompt to the input() function to guide the user:\n",
        "To make it more user-friendly, you can add a prompt or message inside the input() function's parentheses. This message will be displayed to the user before they enter their input.\n",
        "```python\n",
        "name = input(\"What is your name? \")\n",
        "```\n",
        "In this example, the user will see the message \"What is your name? \" and can type their response. The response will be stored in the variable name.\n",
        "\n",
        "3. Using the user input in your program:\n",
        "After getting the user input, you can use it in various ways, like displaying it with the print() function or making decisions based on the input.\n",
        "\n",
        "Here's an example that demonstrates how to get the user's name and age, and then display a personalized message:\n"
      ],
      "metadata": {
        "id": "KqVqit5AEgtX"
      }
    },
    {
      "cell_type": "code",
      "source": [
        "name = input(\"What is your name? \")\n",
        "age = input(\"How old are you? \")\n",
        "\n",
        "print(\"Hello,\", name,\"! You are\", age, \"years old.\")"
      ],
      "metadata": {
        "id": "eeYTN5zNsRLG",
        "outputId": "eb2a1b2b-8532-49ad-890b-1cee020d5dca",
        "colab": {
          "base_uri": "https://localhost:8080/"
        }
      },
      "execution_count": null,
      "outputs": [
        {
          "output_type": "stream",
          "name": "stdout",
          "text": [
            "What is your name? B\n",
            "How old are you? 45\n",
            "Hello, B ! You are 45 years old.\n"
          ]
        }
      ]
    },
    {
      "cell_type": "code",
      "source": [
        "name = input(\"What is your name? \")\n",
        "age = int(input(\"How old are you? \"))\n",
        "\n",
        "age_next_year = age + 1\n",
        "print(\"Next year, you will be\", age_next_year, \"years old\")"
      ],
      "metadata": {
        "id": "ZjNBVoRoxclz",
        "outputId": "0e104e10-a732-46bd-ee1c-76b26eb14a7c",
        "colab": {
          "base_uri": "https://localhost:8080/"
        }
      },
      "execution_count": null,
      "outputs": [
        {
          "output_type": "stream",
          "name": "stdout",
          "text": [
            "What is your name? B\n",
            "How old are you? 32\n",
            "Next year, you will be 33 years old\n"
          ]
        }
      ]
    },
    {
      "cell_type": "markdown",
      "source": [
        "Keep in mind that the `input()` function returns the user's input as a string (`str`). If you need to work with numbers (like performing calculations), you'll need to convert the input to an appropriate numeric type, like an integer (`int`) or a floating-point number (`float`).\n",
        "\n",
        "For example, if you want to convert the user's age input to an integer, you can do this:\n",
        "\n",
        "```python\n",
        "age = int(input(\"How old are you? \"))\n",
        "```\n"
      ],
      "metadata": {
        "id": "JCv6kQHcsRPt"
      }
    },
    {
      "cell_type": "code",
      "source": [
        "# A simple program to ask a user's age\n",
        "name = input(\"What is your name? \")\n",
        "# Get age, and convert to to integer\n",
        "age = int(input(\"How old are you? \"))\n",
        "# Print the result\n",
        "print(\"Hello,\", name, \"! You are\", \"years old.\")\n",
        "# Increment age\n",
        "age = age + 10\n",
        "print(\"In ten years, you will be\", age, \"years old.\")\n",
        "\n"
      ],
      "metadata": {
        "id": "Y-QHC1XuEDv3",
        "colab": {
          "base_uri": "https://localhost:8080/"
        },
        "outputId": "4c3e85a2-bfb4-4156-f6c8-ed88377f24f1"
      },
      "execution_count": null,
      "outputs": [
        {
          "output_type": "stream",
          "name": "stdout",
          "text": [
            "What is your name? Brendan\n",
            "How old are you? 44\n",
            "Hello, Brendan ! You are years old.\n",
            "In ten years, you will be 54 years old.\n"
          ]
        }
      ]
    },
    {
      "cell_type": "markdown",
      "source": [
        "## Comments and Pseudocode\n",
        "**Comments** are lines of text in your code that are not executed by the Python interpreter. They are meant to provide information or explanations about your code for yourself, your teammates, or anyone who reads your code later. Comments can help make your code more readable, easier to maintain, and easier to debug.\n",
        "\n",
        "In Python, you can create a comment using the hash symbol (`#`). Anything written after the # on the same line will be treated as a comment and ignored by the Python interpreter. Here's an example:\n"
      ],
      "metadata": {
        "id": "Yz8gdPMHFkEK"
      }
    },
    {
      "cell_type": "code",
      "source": [
        "# This is a comment\n",
        "print(\"Hello!\") # This is a comment, too"
      ],
      "metadata": {
        "id": "RKttlw_8tgBJ",
        "outputId": "3cc3924d-136c-48ef-80bc-6071bd0d0de0",
        "colab": {
          "base_uri": "https://localhost:8080/"
        }
      },
      "execution_count": null,
      "outputs": [
        {
          "output_type": "stream",
          "name": "stdout",
          "text": [
            "Hello!\n"
          ]
        }
      ]
    },
    {
      "cell_type": "markdown",
      "source": [
        "## Using comments to write pseudocode\n",
        "Pseudocode is a simple way of describing an algorithm or a program's logic using natural language or a combination of programming language syntax and plain English. Pseudocode is not meant to be executed; it's just a way to plan and think through your code before you actually start writing it.\n",
        "\n",
        "You can use comments to write pseudocode in Python, which can help you outline the structure and logic of your program before diving into writing the actual code. Here's an example of how you might use comments to write pseudocode for a program that calculates the area of a rectangle:\n",
        "\n",
        "```python\n",
        "# Get the length and width of the rectangle from the user\n",
        "# Convert the user input to integers\n",
        "# Calculate the area of the rectangle (length * width)\n",
        "# Print the area of the rectangle\n",
        "```\n",
        "Once you have your pseudocode written in comments, you can start writing the actual Python code below each comment (see below).\n",
        "\n",
        "Big ideas:\n",
        "1. Comments are lines of text in your code that provide information or explanations about your code.\n",
        "2. Comments are not executed by the Python interpreter\n",
        "3, Comments can be used to write pseudocode, which helps you plan and think through your program's logic before writing the actual code."
      ],
      "metadata": {
        "id": "NTLGSLuwtYuZ"
      }
    },
    {
      "cell_type": "code",
      "source": [
        "# How might you adapt this code to print the area of a circle? cube? triangle?\n",
        "# Get the length and width of the rectangle from the user\n",
        "length = input(\"Enter the length of the rectangle: \")\n",
        "width = input(\"Enter the width of the rectangle: \")\n",
        "\n",
        "# Convert the user input to integers\n",
        "length = int(length)\n",
        "width = int(width)\n",
        "\n",
        "# Calculate the area of the rectangle (length * width)\n",
        "area = length * width\n",
        "\n",
        "# Print the area of the rectangle\n",
        "print(\"The area of the rectangle is:\", area)\n"
      ],
      "metadata": {
        "id": "r5-P4s_iFeEL",
        "colab": {
          "base_uri": "https://localhost:8080/"
        },
        "outputId": "fed6eee0-c05f-4cdf-84ef-56708927dc49"
      },
      "execution_count": null,
      "outputs": [
        {
          "output_type": "stream",
          "name": "stdout",
          "text": [
            "Enter the length of the rectangle: 6\n",
            "Enter the width of the rectangle: 7\n",
            "The area of the rectangle is: 42\n"
          ]
        }
      ]
    },
    {
      "cell_type": "code",
      "source": [
        "# A bad way of writing this same program:\n",
        "print(\"The area of the rectangle is:\", int(input(\"Enter the length of the rectangle: \")) * int(input(\"Enter the width of the rectangle: \")))"
      ],
      "metadata": {
        "id": "YT241nFPy_gc",
        "outputId": "db584a02-f149-4ae5-d26a-09db76c8c4e8",
        "colab": {
          "base_uri": "https://localhost:8080/"
        }
      },
      "execution_count": null,
      "outputs": [
        {
          "output_type": "stream",
          "name": "stdout",
          "text": [
            "Enter the length of the rectangle: 4\n",
            "Enter the width of the rectangle: 6\n",
            "The area of the rectangle is: 24\n"
          ]
        }
      ]
    },
    {
      "cell_type": "markdown",
      "source": [
        "## Case Study: Human Programmers in the Age of AI\n",
        "\n",
        "As you begin your journey into the world of programming, you'll likely hear about the rise of Artificial Intelligence (AI) and its impact on the field. In recent years, AI has made significant strides, particularly with the development of Large Language Models (LLMs) like Copilot, ChatGPT, Gemini, Claude, and Mistral. These tools can assist programmers by generating code snippets, answering questions, and providing guidance on various coding problems.\n",
        "\n",
        "**How LLMs Can Help Programmers.** LLMs are trained on vast amounts of code and can understand and generate code in multiple programming languages. They can help you in several ways:\n",
        "\n",
        "1.   LLMs can suggest **code completions** as you type, saving you time and effort.\n",
        "2.   You can describe a task in natural language, and the LLM will **generate code** to accomplish that task.\n",
        "3.   LLMs can provide **explanations** and guidance on coding concepts, helping you learn and understand better.\n",
        "\n",
        "For example, let's say you're working on a Python script to analyze data from a survey. You're stuck on how to calculate the average age of the survey respondents. You could ask an LLM like Claude:\n",
        "\n",
        "> How do I calculate the average age from a list of ages in Python?\n",
        "\n",
        "And Claude might respond with:\n",
        "\n",
        "```python\n",
        "ages =  [25,  30,  45,  28,  32,  37,  29,  41]\n",
        "average_age =  sum(ages)  /  len(ages)  \n",
        "print(f\"The average age is: {average_age}\")\n",
        "```\n",
        "\n",
        "This can give you a quick solution and help you move forward with your project.\n",
        "\n",
        "While LLMs can be incredibly helpful, it's crucial to remember that they are tools to assist you, not replace your understanding of programming. To use these tools effectively and create successful programs, you need to grasp the fundamental concepts of programming and understand why and how code works the way it does.\n",
        "\n",
        "For example, Imagine you ask an LLM to write a function that prints out quotes from Monty Python sketches (as we will do below). The LLM might generate something like this:\n",
        "\n",
        "\n"
      ],
      "metadata": {
        "id": "h0aVAh_GCI-N"
      }
    },
    {
      "cell_type": "code",
      "source": [
        "def print_monty_python_quotes():\n",
        "    quotes = [\"Nobody expects the Spanish Inquisition!\",\n",
        "              \"He's a lumberjack, and he's okay!\",\n",
        "              \"Spam, spam, spam, spam...\"]\n",
        "\n",
        "    for quote in quotes:\n",
        "        print(quote)\n",
        "print_monty_python_quotes()"
      ],
      "metadata": {
        "colab": {
          "base_uri": "https://localhost:8080/"
        },
        "id": "1S3r93hBC0so",
        "outputId": "86b499cd-b3af-4838-b096-19c37b8f9f28"
      },
      "execution_count": null,
      "outputs": [
        {
          "output_type": "stream",
          "name": "stdout",
          "text": [
            "Nobody expects the Spanish Inquisition!\n",
            "He's a lumberjack, and he's okay!\n",
            "Spam, spam, spam, spam...\n"
          ]
        }
      ]
    },
    {
      "cell_type": "markdown",
      "source": [
        "While this code might seem to work fine at first glance, what if you later decide to add more quotes to the list? If you don't understand how the `for` loop works or why the `print()` function is used, you might struggle to make the necessary changes.\n",
        "\n",
        "Understanding programming fundamentals also helps you debug and troubleshoot your code when things go wrong. Let's say you try to add a new quote to the list, but you accidentally forget to put a comma between the quotes:\n",
        "\n",
        "```python\n",
        "quotes =  [\"Nobody expects the Spanish Inquisition!\",\n",
        "  \"He's a lumberjack, and he's okay!\"  \n",
        "  \"Spam, spam, spam, spam...\"]\n",
        "```\n",
        "\n",
        "If you run this code, you'll get an error. If you don't understand the basics of Python syntax, you might have a hard time figuring out what's causing the problem."
      ],
      "metadata": {
        "id": "teXFr8N8CulL"
      }
    },
    {
      "cell_type": "markdown",
      "source": [
        "# Strings\n",
        "Strings are a fundamental data type in Python that represents sequences of characters, like text or words. They are used to store and manipulate text information in your programs, such as messages, names, or any other textual data.\n",
        "\n",
        "In Python, you can create a string by enclosing a sequence of characters between either single quotes (') or double quotes (\"). Both options are valid, but it's important to be consistent in your code. Here are some examples of strings:\n",
        "\n",
        "```python\n",
        "# Using single quotes\n",
        "string1 = 'Hello, World!'\n",
        "\n",
        "# Using double quotes\n",
        "string2 = \"Python is fun!\"\n",
        "```\n",
        "\n",
        "You can also use triple quotes (''' or \"\"\") to create multiline strings:\n",
        "\n",
        "```python\n",
        "multiline_string = '''This is a\n",
        "multiline string in\n",
        "Python.'''\n",
        "```"
      ],
      "metadata": {
        "id": "aoTNgy9fGNAS"
      }
    },
    {
      "cell_type": "markdown",
      "source": [
        "### Common String Operations\n",
        "Here are some common operations you can perform with strings:\n",
        "\n",
        "**Concatenation** (joining strings together).\n",
        "You can use the + operator to join two or more strings together, creating a new string.\n"
      ],
      "metadata": {
        "id": "9Dht2WhyppVd"
      }
    },
    {
      "cell_type": "code",
      "source": [
        "# Concanate strings\n",
        "greeting = \"Hello, \"\n",
        "name = \"Ada\"\n",
        "message = greeting + name + \"!\"\n",
        "print(message)"
      ],
      "metadata": {
        "colab": {
          "base_uri": "https://localhost:8080/"
        },
        "id": "V7VF2ekspyPV",
        "outputId": "4aa3eb8b-209b-4157-f849-42592aca426a"
      },
      "execution_count": null,
      "outputs": [
        {
          "output_type": "stream",
          "name": "stdout",
          "text": [
            "Hello, Ada!\n"
          ]
        }
      ]
    },
    {
      "cell_type": "markdown",
      "source": [
        "\n",
        "**Repetition** (repeating strings):\n",
        "You can use the * operator to repeat a string a certain number of times.\n"
      ],
      "metadata": {
        "id": "Zl-XUBgDptR8"
      }
    },
    {
      "cell_type": "code",
      "source": [
        "# Repeat strings\n",
        "repeat_message = message * 3\n",
        "print(repeat_message)\n"
      ],
      "metadata": {
        "id": "C01WVoYhHaVu",
        "colab": {
          "base_uri": "https://localhost:8080/"
        },
        "outputId": "5d43e1fb-f8d0-4452-f6f7-c88c00e5382d"
      },
      "execution_count": null,
      "outputs": [
        {
          "output_type": "stream",
          "name": "stdout",
          "text": [
            "Hello, Ada!Hello, Ada!Hello, Ada!\n"
          ]
        }
      ]
    },
    {
      "cell_type": "markdown",
      "source": [
        "**Accessing individual characters.**\n",
        "You can access individual characters in a string using their index (position) within the string. Keep in mind that string indices start from 0.\n",
        "\n"
      ],
      "metadata": {
        "id": "q5-FiTsNqAFj"
      }
    },
    {
      "cell_type": "code",
      "source": [
        "# Access characters\n",
        "first_letter = name[0]\n",
        "print(first_letter)"
      ],
      "metadata": {
        "id": "uwDe9FOgHelN",
        "colab": {
          "base_uri": "https://localhost:8080/"
        },
        "outputId": "f3d624cb-e9bb-40db-cc23-25137a242034"
      },
      "execution_count": null,
      "outputs": [
        {
          "output_type": "stream",
          "name": "stdout",
          "text": [
            "A\n"
          ]
        }
      ]
    },
    {
      "cell_type": "markdown",
      "source": [
        "**Slicing (extracting parts of a string).**\n",
        "You can extract a part of a string, called a \"slice,\" by specifying the starting and ending indices.\n",
        "\n"
      ],
      "metadata": {
        "id": "1LUjJoNZqESW"
      }
    },
    {
      "cell_type": "code",
      "source": [
        "# Slice strings\n",
        "text = \"Python\"\n",
        "slice_text = text[1:4]\n",
        "print(slice_text)"
      ],
      "metadata": {
        "id": "_NXwAiNGHhL9",
        "colab": {
          "base_uri": "https://localhost:8080/"
        },
        "outputId": "ba1d49e3-7d5d-42be-d325-d65f84c56f77"
      },
      "execution_count": null,
      "outputs": [
        {
          "output_type": "stream",
          "name": "stdout",
          "text": [
            "yth\n"
          ]
        }
      ]
    },
    {
      "cell_type": "markdown",
      "source": [
        "**Changing case**. We can also make strings uppercase, lowecase, or \"Title Case\" (capitalize first letter of each word\n"
      ],
      "metadata": {
        "id": "XJF7oXrmqJWk"
      }
    },
    {
      "cell_type": "code",
      "source": [
        "# Change case\n",
        "text = \"PyThoN is FUn\"\n",
        "print(\"Original: \", text)\n",
        "print(\"Lower:\", text.lower())\n",
        "print(\"Upper:\", text.upper())\n",
        "print(\"Title:\", text.title())"
      ],
      "metadata": {
        "id": "IwJtNiMwHvMc",
        "colab": {
          "base_uri": "https://localhost:8080/"
        },
        "outputId": "c1cf8469-00a3-4ab5-ae89-dc3f6ecd03a4"
      },
      "execution_count": null,
      "outputs": [
        {
          "output_type": "stream",
          "name": "stdout",
          "text": [
            "Original:  PyThoN is FUn\n",
            "Lower: python is fun\n",
            "Upper: PYTHON IS FUN\n",
            "Title: Python Is Fun\n"
          ]
        }
      ]
    },
    {
      "cell_type": "markdown",
      "source": [
        "### Replacing Characters and Words\n",
        "The replace() method in Python is a built-in string method used to replace all occurrences of a specified substring with another substring. The syntax for the replace() method is:\n",
        "\n",
        "- `string.replace(old, new, count)`\n",
        "- old: The substring you want to replace.\n",
        "- `new:` The new substring that will replace the old substring.\n",
        "- `count:` (Optional) The number of occurrences you want to replace. If not provided, it will replace all occurrences.\n",
        "\n",
        "Here's an example of how to use the replace() method:\n",
        "\n"
      ],
      "metadata": {
        "id": "93egUJefVGFu"
      }
    },
    {
      "cell_type": "code",
      "source": [
        "original_string = \"I like Python programming. Python is fun.\"\n",
        "\n",
        "# Replace all occurrences of \"Python\" with \"Java\"\n",
        "new_string = original_string.replace(\"Python\", \"Java\")\n",
        "\n",
        "print(new_string)"
      ],
      "metadata": {
        "colab": {
          "base_uri": "https://localhost:8080/"
        },
        "id": "pzpl0QfX49qO",
        "outputId": "2ecc7cb5-1927-4a41-81d8-5b62a46747bf"
      },
      "execution_count": null,
      "outputs": [
        {
          "output_type": "stream",
          "name": "stdout",
          "text": [
            "I like Java programming. Java is fun.\n"
          ]
        }
      ]
    },
    {
      "cell_type": "markdown",
      "source": [
        "If you want to replace only a specific number of occurrences, you can use the optional count parameter:"
      ],
      "metadata": {
        "id": "y02ZzjWA47zv"
      }
    },
    {
      "cell_type": "code",
      "source": [
        "original_string = \"I like Python programming. Python is fun. Python is powerful.\"\n",
        "\n",
        "# Replace only the first occurrence of \"Python\" with \"Java\"\n",
        "new_string = original_string.replace(\"Python\", \"Java\", 1)\n",
        "\n",
        "print(new_string)\n",
        "# Output: \"I like Java programming. Python is fun. Python is powerful.\""
      ],
      "metadata": {
        "colab": {
          "base_uri": "https://localhost:8080/"
        },
        "id": "ODK6TOPq5DIX",
        "outputId": "412c7947-6269-400d-f916-48811d279cf2"
      },
      "execution_count": null,
      "outputs": [
        {
          "output_type": "stream",
          "name": "stdout",
          "text": [
            "I like Java programming. Python is fun. Python is powerful.\n"
          ]
        }
      ]
    },
    {
      "cell_type": "markdown",
      "source": [
        "# Formatted Strings\n",
        "Formatted strings, also known as \"f-strings\" in Python, are a way to embed expressions or variables inside string literals, using curly braces ({}). They were introduced in Python 3.6 and provide a more convenient and readable way to format strings, especially when you need to include variables or expressions in your strings.\n",
        "\n",
        "F-strings are created by adding an f or F prefix before the string literal, followed by the string enclosed in single or double quotes. Inside the string, you can include expressions or variables within curly braces ({}). These expressions will be evaluated, and their values will be inserted into the resulting string.\n",
        "\n",
        "Here's an example of how to use an f-string to display a message that includes variables:\n"
      ],
      "metadata": {
        "id": "KCQBs9AFI5Oh"
      }
    },
    {
      "cell_type": "code",
      "source": [
        "# Simple use of f-string\n",
        "name = \"Elizabeth Bennett\"\n",
        "age = 24\n",
        "message = f\"Hello, my name is {name} and I am {age} years old.\"\n",
        "print(message)"
      ],
      "metadata": {
        "colab": {
          "base_uri": "https://localhost:8080/"
        },
        "id": "-6KXBEQC5XeG",
        "outputId": "2e9054ff-5942-44b8-fe76-e3b00ce8bc86"
      },
      "execution_count": null,
      "outputs": [
        {
          "output_type": "stream",
          "name": "stdout",
          "text": [
            "Hello, my name is Elizabeth Bennett and I am 24 years old.\n"
          ]
        }
      ]
    },
    {
      "cell_type": "markdown",
      "source": [
        "In this example, we created an f-string that includes the name and age variables inside curly braces. The values of these variables are inserted into the message, resulting in a formatted string.\n",
        "\n",
        "You can also include expressions inside the curly braces. For example, you can perform calculations or call functions:\n",
        "\n"
      ],
      "metadata": {
        "id": "XmVJoPmp5SCA"
      }
    },
    {
      "cell_type": "code",
      "source": [
        "length = 5\n",
        "width = 3\n",
        "area = f\"The area of the rectangle is {length * width}.\"\n",
        "print(area)  # Output: The area of the rectangle is 15."
      ],
      "metadata": {
        "colab": {
          "base_uri": "https://localhost:8080/"
        },
        "id": "1v_qtqmz5eV-",
        "outputId": "15f70aa9-0433-4571-bbff-3dd41aaca2ea"
      },
      "execution_count": null,
      "outputs": [
        {
          "output_type": "stream",
          "name": "stdout",
          "text": [
            "The area of the rectangle is 15.\n"
          ]
        }
      ]
    },
    {
      "cell_type": "markdown",
      "source": [
        "In this example, we included a calculation (length * width) inside the curly braces, which is evaluated and its result is inserted into the f-string.\n",
        "\n",
        "F-strings also support various formatting options, such as specifying the number of decimal places for a floating-point number:\n",
        "\n"
      ],
      "metadata": {
        "id": "z8Ss7Izz5co_"
      }
    },
    {
      "cell_type": "code",
      "source": [
        "pi = 3.1415926535\n",
        "formatted_pi = f\"Pi rounded to 3 decimal places: {pi:.3f}\"\n",
        "print(formatted_pi)  # Output: Pi rounded to 3 decimal places: 3.142"
      ],
      "metadata": {
        "colab": {
          "base_uri": "https://localhost:8080/"
        },
        "id": "sLN901e15jN2",
        "outputId": "bd0a0fc1-304e-4988-ea5e-867202065972"
      },
      "execution_count": null,
      "outputs": [
        {
          "output_type": "stream",
          "name": "stdout",
          "text": [
            "Pi rounded to 3 decimal places: 3.142\n"
          ]
        }
      ]
    },
    {
      "cell_type": "markdown",
      "source": [
        "In this example, we used the :.3f formatting option to round the value of pi to 3 decimal places.\n",
        "\n",
        "In short:\n",
        "1. Formatted strings (f-strings) are a convenient and readable way to format strings in Python.\n",
        "2. F-strings allow you to embed expressions or variables directly into string literals using curly braces.\n",
        "3. F-strings can be created by adding an f or F prefix before the string literal and support various formatting options for more precise control over the output.\n"
      ],
      "metadata": {
        "id": "1e2WdGXy5hw2"
      }
    },
    {
      "cell_type": "markdown",
      "source": [
        "## Example: Fun With Monty Python Quotes\n",
        "Here's a sample program illustrating a little of what we've been talking about so far:"
      ],
      "metadata": {
        "id": "YSmWrquz6Z_d"
      }
    },
    {
      "cell_type": "code",
      "source": [
        "# Define the original Monty Python quotes\n",
        "quote1 = \"It's just a flesh wound.\"\n",
        "quote2 = \"This parrot is no more.\"\n",
        "quote3 = \"I'm not dead yet.\"\n",
        "quote4 = \"And now for something completely different.\"\n",
        "quote5 = \"Your mother was a hamster.\"\n",
        "quote6 = \"Run away!\"\n",
        "\n",
        "# Method 1: Replace 'flesh' with 'minor' in quote1\n",
        "new_quote1 = quote1.replace(\"flesh\", \"minor\")\n",
        "# Method 2: Replace 'no more' with 'extinct' in quote2\n",
        "new_quote2 = quote2.replace(\"no more\", \"extinct\")\n",
        "# Method 3: Convert quote3 to uppercase\n",
        "new_quote3 = quote3.upper()\n",
        "# Method 4: Convert quote4 to lowercase\n",
        "new_quote4 = quote4.lower()\n",
        "# Method 5: Capitalize the first letter of each word in quote5\n",
        "new_quote5 = quote5.title()\n",
        "# Method 6: Reverse the characters in quote6\n",
        "new_quote6 = quote6[::-1]\n",
        "\n",
        "# Display the original and modified quotes using f-strings and escape characters\n",
        "print(f\"Original: {quote1}\\nReplaced: {new_quote1}\\n\")\n",
        "print(f\"Original: {quote2}\\nReplaced: {new_quote2}\\n\")\n",
        "print(f\"Original: {quote3}\\nUpper: {new_quote3}\\n\")\n",
        "print(f\"Original: {quote4}\\nLower: {new_quote4}\\n\")\n",
        "print(f\"Original: {quote5}\\nTitle: {new_quote5}\\n\")\n",
        "print(f\"Original: {quote6}\\nReverse: {new_quote6}\\n\")\n",
        "\n"
      ],
      "metadata": {
        "colab": {
          "base_uri": "https://localhost:8080/"
        },
        "id": "DZrYvQaa6hNz",
        "outputId": "c63194b2-338a-4bd4-e354-b20d298b2cfb"
      },
      "execution_count": null,
      "outputs": [
        {
          "output_type": "stream",
          "name": "stdout",
          "text": [
            "Original: It's just a flesh wound.\n",
            "Replaced: It's just a minor wound.\n",
            "\n",
            "Original: This parrot is no more.\n",
            "Replaced: This parrot is extinct.\n",
            "\n",
            "Original: I'm not dead yet.\n",
            "Upper: I'M NOT DEAD YET.\n",
            "\n",
            "Original: And now for something completely different.\n",
            "Lower: and now for something completely different.\n",
            "\n",
            "Original: Your mother was a hamster.\n",
            "Title: Your Mother Was A Hamster.\n",
            "\n",
            "Original: Run away!\n",
            "Reverse: !yawa nuR\n",
            "\n"
          ]
        }
      ]
    },
    {
      "cell_type": "markdown",
      "source": [
        "# Python Strings and the Importance of \"Reading the Documentation.\"\n",
        "Python (like most modern programming languages) has many built-in functions that allow you manipulate strings in various ways.\n",
        "\n",
        "In programming, there are many built-in tools called \"methods\" that help us perform tasks more easily. When working with text, called \"strings\" in Python, we often need to perform actions like changing the text's case, splitting it into smaller parts, or finding specific words. Python has many built-in string methods that make these tasks simple.\n",
        "\n",
        "However, it's difficult to remember all these methods and their uses. That's why checking the documentation is essential. Documentation is like a guidebook that explains how to use different tools and methods in programming. By reading the documentation, you can learn how to use a method properly and understand what it does, even if you've never used it before.\n",
        "\n",
        "You can find a table of common string operations at the end of this chapter.\n",
        "\n"
      ],
      "metadata": {
        "id": "8U5blgQIViTr"
      }
    },
    {
      "cell_type": "markdown",
      "source": [
        "## Exercises\n",
        "You can complete these exercises in the code cells provided.\n",
        "\n",
        "1. Write a Python script that asks the user to input their favorite type of snake and then prints the message: \"Your favorite snake is the [user's input].\"\n"
      ],
      "metadata": {
        "id": "rD26bsIzE1gf"
      }
    },
    {
      "cell_type": "code",
      "source": [],
      "metadata": {
        "id": "lvw6azYSE8Cv"
      },
      "execution_count": null,
      "outputs": []
    },
    {
      "cell_type": "markdown",
      "source": [
        "2. Write a Python script that asks the user to input the length of a snake in centimeters and then prints the length in inches. (Hint: 1 inch = 2.54 centimeters)"
      ],
      "metadata": {
        "id": "KQKQznUAE8s-"
      }
    },
    {
      "cell_type": "code",
      "source": [],
      "metadata": {
        "id": "xf6XSStHFMH-"
      },
      "execution_count": null,
      "outputs": []
    },
    {
      "cell_type": "markdown",
      "source": [
        "3. Write a Python script that asks the user to input a sentence about snakes and then prints the sentence with all occurrences of the word \"snake\" replaced with \"snek\"."
      ],
      "metadata": {
        "id": "VZD8ga3iFEIf"
      }
    },
    {
      "cell_type": "code",
      "source": [],
      "metadata": {
        "id": "B6L79C3wFMim"
      },
      "execution_count": null,
      "outputs": []
    },
    {
      "cell_type": "markdown",
      "source": [
        "4. Write a Python script that asks the user to input the name of their pet snake and its age. Then, print a message saying: \"In five years, [Snake's name] will be [age] years old.\" Make sure to cast the age to an integer."
      ],
      "metadata": {
        "id": "BFdeAA6SFKlY"
      }
    },
    {
      "cell_type": "code",
      "source": [],
      "metadata": {
        "id": "gIvXV_iyE_BX"
      },
      "execution_count": null,
      "outputs": []
    },
    {
      "cell_type": "markdown",
      "source": [
        "5. Write a program that:\n",
        "\n",
        "  1.  Asks the user for their human name and age.\n",
        "  2.  Asks the user for their snake name.\n",
        "  3.  Calculates their age in snake years (1 human year = 3 snake years).\n",
        "  4.  Prints an identity card that shows their human name, snake name, age in human years, age in snake years, and initials (both human and snake) in uppercase.\n",
        "  5.  The identity card should be formatted nicely, and you can use escape characters to improve the layout.\n",
        "\n",
        "Hints: Use `input()` to gather data, type casting to convert age, string methods like `.upper()` for string manipulations, `len()` for string length, string slicing for reverse and initials, and f-strings for formatted output. Use escape characters like `\\n` (new line) and `\\t` (tab) to format the output.\n",
        "\n",
        "```\n",
        "Sample Input:\\\n",
        "Human name: Alice\\\n",
        "Age: 30\\\n",
        "Snake name: Cobra Carla\n",
        "\n",
        "Sample Output:\n",
        "----------------------\n",
        "  IDENTITY CARD\n",
        "----------------------\n",
        "Human Name: Alice\n",
        "Snake Name: Cobra Carla\n",
        "\n",
        "Human Age: 30 years\n",
        "Snake Age: 90 snake years\n",
        "\n",
        "Human Initials: A\n",
        "Snake Initials: CC\n",
        "```"
      ],
      "metadata": {
        "id": "t0NBwdMXLBGA"
      }
    },
    {
      "cell_type": "code",
      "source": [],
      "metadata": {
        "id": "eR-_BX0uXoKo"
      },
      "execution_count": null,
      "outputs": []
    },
    {
      "cell_type": "markdown",
      "source": [
        "## Code to Know\n",
        "Here's a reivew of (some of) the code snippests we covered in this chapter that are worth remembering.\n",
        "\n",
        "| Code | Operation |\n",
        "| --- | --- |\n",
        "| name = \"Gandalf\" | Python code to assign the string \"Gandalf\" to the variable name. |\n",
        "| age = 345 | Python code to assign the value 345 to the variable age. |\n",
        "| print(\"Hello, my name is\", name, \"and I am\", age, \"years old.\") | Python code to print a greeting message, incorporating the variables name and age. |\n",
        "| age = age + 1 | Python code to increment the value of the variable age by 1. |\n",
        "| name = input(\"What is your name? \") | Python code to prompt the user for their name and assign the input to the variable name. |\n",
        "| age = int(input(\"How old are you? \")) | Python code to prompt the user for their age, convert the input to an integer, and assign it to the variable age. |\n",
        "| # This is a comment in Python | Python code to write a comment that is ignored by the interpreter. |\n",
        "| string1 = 'Hello, World!' | Python code to assign the string 'Hello, World!' to the variable string1. |\n",
        "| print(f\"The area of the rectangle is {length * width}.\") | Python code to print the area of a rectangle using f-strings with variables length and width. |\n",
        "\n",
        "### Common String Operations\n",
        "\n",
        "| Syntax | Operation |\n",
        "| --- | --- |\n",
        "| s1 + s2 | Python code to combine two strings, s1 and s2. |\n",
        "| s * n | Python code to repeat a string s a specified number of times n. |\n",
        "| len(s) | Python code to find the length of a string s. |\n",
        "| s[1] | Python code to access the 2nd character in a string s by index. |\n",
        "| s[start:end] | Python code to slice a string s to get a substring from start to end. |\n",
        "| 'Hello' in s | Python code to check if the word \"Hello\" is present in a string s. |\n",
        "| s.count('Hello') | Python code to count occurrences of \"Hello\" in a string s. |\n",
        "| s.replace('old', 'new') | Python code to replace a substring old with new in a string s. |\n",
        "| s.upper() | Python code to convert a string s to uppercase. |\n",
        "| s.lower() | Python code to convert a string s to lowercase. |\n",
        "| s.strip() | Python code to remove leading and trailing whitespaces from a string s. |\n",
        "| s.split() | Python code to split a string s into a list of substrings at any white space. |\n",
        "| ','.join(list) | Python code to join a list of strings into a single string using a \",\" to separate them. |\n",
        "| s.find('snake') | Python code to find the index of the first occurrence of \"snake\" in a string s. |\n",
        "| s.startswith('Greetings!') | Python code to check if a string s starts with \"Greetings!\". |\n",
        "| s.endswith('?') | Python code to check if a string s ends with a \"?\". |\n",
        "| s.capitalize() | Python code to capitalize the first character of a string s. |"
      ],
      "metadata": {
        "id": "WwHRLGMcy_NA"
      }
    },
    {
      "cell_type": "markdown",
      "source": [
        "## Review with Quizlet\n",
        "RUn the following cell to launch the quizlet deck for this chapter."
      ],
      "metadata": {
        "id": "ILDRAPd3ySwb"
      }
    },
    {
      "cell_type": "code",
      "source": [
        "%%html\n",
        "<iframe src=\"https://quizlet.com/818668457/learn/embed?i=psvlh&x=1jj1\" height=\"600\" width=\"100%\" style=\"border:0\"></iframe>"
      ],
      "metadata": {
        "id": "7_voLJDnyaG8",
        "outputId": "bf707b47-a447-4455-e77f-c3bc0590b104",
        "colab": {
          "base_uri": "https://localhost:8080/",
          "height": 622
        }
      },
      "execution_count": null,
      "outputs": [
        {
          "output_type": "display_data",
          "data": {
            "text/plain": [
              "<IPython.core.display.HTML object>"
            ],
            "text/html": [
              "<iframe src=\"https://quizlet.com/818668457/learn/embed?i=psvlh&x=1jj1\" height=\"600\" width=\"100%\" style=\"border:0\"></iframe>\n"
            ]
          },
          "metadata": {}
        }
      ]
    },
    {
      "cell_type": "markdown",
      "source": [
        "## Glossary\n",
        "| Term | Definition |\n",
        "| --- | --- |\n",
        "| Google Colab | An online cloud-based platform that allows execution of Python code, supports collaboration, and offers free access to GPUs. |\n",
        "| Bug | An error, flaw or fault in a program causing it to produce undesired or incorrect results. |\n",
        "| Debugging | The process of identifying and removing errors from a computer program. |\n",
        "| Function | A reusable piece of code that performs a specific task when called. |\n",
        "| Parameter | A variable used in the declaration of a function, to which a value is passed when the function is called. |\n",
        "| Variables | Containers for storing data values. |\n",
        "| = vs == | `=` is used for assignment, giving a variable a specific value. `==` is used for comparison, checking if two values are equal. |\n",
        "| Escape characters | Special characters in string literals that are interpreted differently, like '\\n' (new line) and '\\t' (tab). |\n",
        "| String | A sequence of characters enclosed in quotes, used to represent text data. |\n",
        "| Comments | Non-executable text in code used to explain and improve readability. In Python, comments are denoted by `#`. |\n",
        "| Pseudocode | A simple explanation of a computer program or algorithm, written in plain language with some programming conventions. |\n",
        "| Formal language | A language designed for specific purposes, like mathematics, computer science, or programming, which has strict rules of syntax. |\n",
        "| Natural language | A human language, such as English or Spanish, evolved naturally and used for communication. |\n",
        "| Boolean Algebra | A branch of algebra where the values of variables are true or false, typically used in computer logic and programming. |\n",
        "| Turing Machine | A theoretical computational device, proposed by Alan Turing, used in theoretical computation and formal languages. |\n",
        "| f-string | A way of formatting strings in Python (from version 3.6 onwards) allowing the inclusion of expressions inside string literals. |"
      ],
      "metadata": {
        "id": "cVwb3f9YW2yf"
      }
    },
    {
      "cell_type": "code",
      "source": [],
      "metadata": {
        "id": "vWWejSn8xuI2"
      },
      "execution_count": null,
      "outputs": []
    }
  ]
}