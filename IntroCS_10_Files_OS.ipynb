{
  "nbformat": 4,
  "nbformat_minor": 0,
  "metadata": {
    "colab": {
      "provenance": [],
      "authorship_tag": "ABX9TyMMY2hqxfxma7J8PiZzi9DU",
      "include_colab_link": true
    },
    "kernelspec": {
      "name": "python3",
      "display_name": "Python 3"
    },
    "language_info": {
      "name": "python"
    }
  },
  "cells": [
    {
      "cell_type": "markdown",
      "metadata": {
        "id": "view-in-github",
        "colab_type": "text"
      },
      "source": [
        "<a href=\"https://colab.research.google.com/github/brendanpshea/computing_concepts_python/blob/main/IntroCS_10_Files_OS.ipynb\" target=\"_parent\"><img src=\"https://colab.research.google.com/assets/colab-badge.svg\" alt=\"Open In Colab\"/></a>"
      ]
    },
    {
      "cell_type": "markdown",
      "source": [
        "# Operating Systems and File Management\n",
        "## Brendan Shea, PhD\n",
        "\n",
        "An **operating system (OS)** is the most important software that runs on a computer. It manages the computer's memory, processes, and all of its software and hardware. Think of it as the traffic cop that ensures different programs and users running at the same time don't interfere with each other. The OS also provides a consistent way for applications to deal with the hardware without having to know all the details of how the hardware works.\n",
        "\n",
        "The operating system performs several core functions that are essential for a computer to operate properly.\n",
        "\n",
        "* The OS handles **process management** by creating, scheduling, and terminating programs in execution, while allocating system resources to them efficiently.\n",
        "* Through **memory management**, the OS keeps track of which parts of memory are being used and by whom, allocating and deallocating memory space as needed.\n",
        "* The OS provides **file system management** by organizing and tracking files and directories on storage devices so data can be easily found and used.\n",
        "* **Device management** is how the OS communicates with hardware through device drivers, handling data moving to and from components like printers, disk drives, and display screens.\n",
        "* The **user interface** provided by the OS allows people to interact with the computer, either through a command-line interface (CLI) or a graphical user interface (GUI).\n",
        "\n",
        "Most computers today run one of three major operating systems: Microsoft Windows, macOS, or Linux. Each has its own approach to managing computer resources, but they all perform these essential functions."
      ],
      "metadata": {
        "id": "xu291I3dCQey"
      }
    },
    {
      "cell_type": "markdown",
      "source": [
        "# Meet Linux - A Beginner's Introduction\n",
        "\n",
        "**Linux** is a popular open-source operating system that powers everything from smartphones to supercomputers. Created by Linus Torvalds in 1991, Linux has evolved into a powerful and versatile OS used in many educational, commercial, and scientific environments. Unlike Windows or macOS, Linux is freely available and can be modified by anyone, making it an excellent learning tool for computer science students.\n",
        "\n",
        "Linux comes in many different flavors called **distributions** or \"distros\" for short. Each distribution packages the core Linux system with different software, tools, and user interfaces to serve various purposes.\n",
        "\n",
        "* Popular distributions like Ubuntu, Mint, and Fedora are designed to be user-friendly for beginners while still providing powerful features.\n",
        "* Other distributions like Kali Linux are specialized for specific purposes such as cybersecurity and penetration testing.\n",
        "* Server distributions like Red Hat Enterprise Linux and Ubuntu Server are optimized for running network services and websites.\n",
        "\n",
        "One of the most distinctive features of Linux is the **command-line interface**, also known as the terminal or shell. While modern Linux distributions include graphical interfaces, the command line remains a powerful way to interact with the system.\n",
        "\n",
        "| Linux Component | Description | Example |\n",
        "|----------------|-------------|---------|\n",
        "| Kernel | The core of the OS that interacts directly with hardware | Linux 6.3 |\n",
        "| Shell | The command interpreter that executes user commands | Bash, Zsh |\n",
        "| Package Manager | Software that handles installation/removal of programs | apt, dnf, pacman |\n",
        "| Desktop Environment | The graphical interface for user interaction | GNOME, KDE, Xfce |\n",
        "\n",
        "For our programming exercises, we'll use Linux as our example operating system because its open nature makes it easier to explore system concepts and file operations."
      ],
      "metadata": {
        "id": "M7HCgW9dCYV-"
      }
    },
    {
      "cell_type": "markdown",
      "source": [
        "# How Operating Systems Manage Files and Resources\n",
        "\n",
        "Operating systems use several important mechanisms to keep track of data and allocate system resources efficiently. At the heart of these mechanisms is the **file system**, which is the method an OS uses to organize and store files. Unlike humans who might organize physical items haphazardly, computers need strict systems to track where everything is stored.\n",
        "\n",
        "File systems provide the structure for how data is stored, named, accessed, and organized on storage devices. Different operating systems use different file systems, but they all serve similar purposes.\n",
        "\n",
        "* In Linux, the most common file system is called **ext4** (Fourth Extended File System), which organizes files in a hierarchical structure starting from a single root directory represented by a forward slash (/).\n",
        "* Everything in Linux is treated as a file, including hardware devices, which appear as special files in the `/dev` directory, making interaction with hardware consistent with regular file operations.\n",
        "* Linux uses **file permissions** to control who can read, write, or execute files, providing security and preventing unauthorized access to important system files.\n",
        "\n",
        "The operating system also manages computer resources like CPU time, memory allocation, and I/O operations through a component called the **kernel**. The kernel is the central part of the OS that has complete control over everything in the system.\n",
        "\n",
        "| Resource Type | Management Method | Purpose |\n",
        "|---------------|-------------------|---------|\n",
        "| CPU | Process Scheduling | Determines which processes run and for how long |\n",
        "| Memory | Virtual Memory System | Allows programs to use more memory than physically available |\n",
        "| Storage | File System | Organizes data on disks and other storage media |\n",
        "| Devices | Device Drivers | Translates OS commands into instructions devices understand |\n",
        "\n",
        "When you run a program on your computer, the operating system is constantly working behind the scenes to schedule your program's execution, allocate memory for its data, and handle its requests to read or write files. Understanding these basics helps you write more efficient code that works well with the operating system rather than against it."
      ],
      "metadata": {
        "id": "N0pxZesfCapo"
      }
    },
    {
      "cell_type": "code",
      "source": [
        "# @title\n",
        "%%html\n",
        "<svg viewBox=\"0 0 600 400\" xmlns=\"http://www.w3.org/2000/svg\">\n",
        "  <style>\n",
        "    .folder { fill: #f9d77e; stroke: #e6ac00; stroke-width: 2; }\n",
        "    .file { fill: #ffffff; stroke: #cccccc; stroke-width: 2; }\n",
        "    .text { font-family: Arial, sans-serif; font-size: 14px; }\n",
        "    .folder-text { fill: #5d4037; }\n",
        "    .file-text { fill: #455a64; }\n",
        "    .connector { stroke: #90a4ae; stroke-width: 2; stroke-dasharray: 3, 3; fill: none; }\n",
        "    .title { font-family: Arial, sans-serif; font-size: 20px; font-weight: bold; fill: #37474f; }\n",
        "    .subtitle { font-family: Arial, sans-serif; font-size: 16px; fill: #546e7a; }\n",
        "  </style>\n",
        "\n",
        "  <!-- Title -->\n",
        "  <text x=\"300\" y=\"30\" class=\"title\" text-anchor=\"middle\">Linux File System Hierarchy</text>\n",
        "  <text x=\"300\" y=\"55\" class=\"subtitle\" text-anchor=\"middle\">A hierarchical structure starting from root (/)</text>\n",
        "\n",
        "  <!-- Root folder -->\n",
        "  <rect x=\"270\" y=\"70\" width=\"60\" height=\"50\" rx=\"5\" class=\"folder\" />\n",
        "  <text x=\"300\" y=\"100\" class=\"text folder-text\" text-anchor=\"middle\">/</text>\n",
        "\n",
        "  <!-- Level 1 folders -->\n",
        "  <rect x=\"120\" y=\"170\" width=\"60\" height=\"50\" rx=\"5\" class=\"folder\" />\n",
        "  <text x=\"150\" y=\"200\" class=\"text folder-text\" text-anchor=\"middle\">bin</text>\n",
        "\n",
        "  <rect x=\"200\" y=\"170\" width=\"60\" height=\"50\" rx=\"5\" class=\"folder\" />\n",
        "  <text x=\"230\" y=\"200\" class=\"text folder-text\" text-anchor=\"middle\">etc</text>\n",
        "\n",
        "  <rect x=\"280\" y=\"170\" width=\"60\" height=\"50\" rx=\"5\" class=\"folder\" />\n",
        "  <text x=\"310\" y=\"200\" class=\"text folder-text\" text-anchor=\"middle\">home</text>\n",
        "\n",
        "  <rect x=\"360\" y=\"170\" width=\"60\" height=\"50\" rx=\"5\" class=\"folder\" />\n",
        "  <text x=\"390\" y=\"200\" class=\"text folder-text\" text-anchor=\"middle\">var</text>\n",
        "\n",
        "  <rect x=\"440\" y=\"170\" width=\"60\" height=\"50\" rx=\"5\" class=\"folder\" />\n",
        "  <text x=\"470\" y=\"200\" class=\"text folder-text\" text-anchor=\"middle\">dev</text>\n",
        "\n",
        "  <!-- Level 2 items under /home -->\n",
        "  <rect x=\"240\" y=\"270\" width=\"60\" height=\"50\" rx=\"5\" class=\"folder\" />\n",
        "  <text x=\"270\" y=\"300\" class=\"text folder-text\" text-anchor=\"middle\">user1</text>\n",
        "\n",
        "  <rect x=\"320\" y=\"270\" width=\"60\" height=\"50\" rx=\"5\" class=\"folder\" />\n",
        "  <text x=\"350\" y=\"300\" class=\"text folder-text\" text-anchor=\"middle\">user2</text>\n",
        "\n",
        "  <!-- Level 3 items under /home/user1 -->\n",
        "  <rect x=\"200\" y=\"370\" width=\"60\" height=\"50\" rx=\"5\" class=\"folder\" />\n",
        "  <text x=\"230\" y=\"400\" class=\"text folder-text\" text-anchor=\"middle\">docs</text>\n",
        "\n",
        "  <rect x=\"280\" y=\"370\" width=\"60\" height=\"30\" rx=\"2\" class=\"file\" />\n",
        "  <text x=\"310\" y=\"390\" class=\"text file-text\" text-anchor=\"middle\">notes.txt</text>\n",
        "\n",
        "  <!-- Connectors -->\n",
        "  <!-- Root to Level 1 -->\n",
        "  <path d=\"M 300 120 L 300 140 L 150 140 L 150 170\" class=\"connector\" />\n",
        "  <path d=\"M 300 120 L 300 140 L 230 140 L 230 170\" class=\"connector\" />\n",
        "  <path d=\"M 300 120 L 300 140 L 310 140 L 310 170\" class=\"connector\" />\n",
        "  <path d=\"M 300 120 L 300 140 L 390 140 L 390 170\" class=\"connector\" />\n",
        "  <path d=\"M 300 120 L 300 140 L 470 140 L 470 170\" class=\"connector\" />\n",
        "\n",
        "  <!-- Level 1 to Level 2 -->\n",
        "  <path d=\"M 310 220 L 310 240 L 270 240 L 270 270\" class=\"connector\" />\n",
        "  <path d=\"M 310 220 L 310 240 L 350 240 L 350 270\" class=\"connector\" />\n",
        "\n",
        "  <!-- Level 2 to Level 3 -->\n",
        "  <path d=\"M 270 320 L 270 340 L 230 340 L 230 370\" class=\"connector\" />\n",
        "  <path d=\"M 270 320 L 270 340 L 310 340 L 310 370\" class=\"connector\" />\n",
        "</svg>"
      ],
      "metadata": {
        "cellView": "form",
        "colab": {
          "base_uri": "https://localhost:8080/",
          "height": 964
        },
        "id": "9cAb8qC4MsON",
        "outputId": "342847a0-9792-422c-f73c-5327ac55ca0a"
      },
      "execution_count": null,
      "outputs": [
        {
          "output_type": "display_data",
          "data": {
            "text/plain": [
              "<IPython.core.display.HTML object>"
            ],
            "text/html": [
              "<svg viewBox=\"0 0 600 400\" xmlns=\"http://www.w3.org/2000/svg\">\n",
              "  <style>\n",
              "    .folder { fill: #f9d77e; stroke: #e6ac00; stroke-width: 2; }\n",
              "    .file { fill: #ffffff; stroke: #cccccc; stroke-width: 2; }\n",
              "    .text { font-family: Arial, sans-serif; font-size: 14px; }\n",
              "    .folder-text { fill: #5d4037; }\n",
              "    .file-text { fill: #455a64; }\n",
              "    .connector { stroke: #90a4ae; stroke-width: 2; stroke-dasharray: 3, 3; fill: none; }\n",
              "    .title { font-family: Arial, sans-serif; font-size: 20px; font-weight: bold; fill: #37474f; }\n",
              "    .subtitle { font-family: Arial, sans-serif; font-size: 16px; fill: #546e7a; }\n",
              "  </style>\n",
              "\n",
              "  <!-- Title -->\n",
              "  <text x=\"300\" y=\"30\" class=\"title\" text-anchor=\"middle\">Linux File System Hierarchy</text>\n",
              "  <text x=\"300\" y=\"55\" class=\"subtitle\" text-anchor=\"middle\">A hierarchical structure starting from root (/)</text>\n",
              "\n",
              "  <!-- Root folder -->\n",
              "  <rect x=\"270\" y=\"70\" width=\"60\" height=\"50\" rx=\"5\" class=\"folder\" />\n",
              "  <text x=\"300\" y=\"100\" class=\"text folder-text\" text-anchor=\"middle\">/</text>\n",
              "\n",
              "  <!-- Level 1 folders -->\n",
              "  <rect x=\"120\" y=\"170\" width=\"60\" height=\"50\" rx=\"5\" class=\"folder\" />\n",
              "  <text x=\"150\" y=\"200\" class=\"text folder-text\" text-anchor=\"middle\">bin</text>\n",
              "  \n",
              "  <rect x=\"200\" y=\"170\" width=\"60\" height=\"50\" rx=\"5\" class=\"folder\" />\n",
              "  <text x=\"230\" y=\"200\" class=\"text folder-text\" text-anchor=\"middle\">etc</text>\n",
              "  \n",
              "  <rect x=\"280\" y=\"170\" width=\"60\" height=\"50\" rx=\"5\" class=\"folder\" />\n",
              "  <text x=\"310\" y=\"200\" class=\"text folder-text\" text-anchor=\"middle\">home</text>\n",
              "  \n",
              "  <rect x=\"360\" y=\"170\" width=\"60\" height=\"50\" rx=\"5\" class=\"folder\" />\n",
              "  <text x=\"390\" y=\"200\" class=\"text folder-text\" text-anchor=\"middle\">var</text>\n",
              "  \n",
              "  <rect x=\"440\" y=\"170\" width=\"60\" height=\"50\" rx=\"5\" class=\"folder\" />\n",
              "  <text x=\"470\" y=\"200\" class=\"text folder-text\" text-anchor=\"middle\">dev</text>\n",
              "\n",
              "  <!-- Level 2 items under /home -->\n",
              "  <rect x=\"240\" y=\"270\" width=\"60\" height=\"50\" rx=\"5\" class=\"folder\" />\n",
              "  <text x=\"270\" y=\"300\" class=\"text folder-text\" text-anchor=\"middle\">user1</text>\n",
              "  \n",
              "  <rect x=\"320\" y=\"270\" width=\"60\" height=\"50\" rx=\"5\" class=\"folder\" />\n",
              "  <text x=\"350\" y=\"300\" class=\"text folder-text\" text-anchor=\"middle\">user2</text>\n",
              "\n",
              "  <!-- Level 3 items under /home/user1 -->\n",
              "  <rect x=\"200\" y=\"370\" width=\"60\" height=\"50\" rx=\"5\" class=\"folder\" />\n",
              "  <text x=\"230\" y=\"400\" class=\"text folder-text\" text-anchor=\"middle\">docs</text>\n",
              "  \n",
              "  <rect x=\"280\" y=\"370\" width=\"60\" height=\"30\" rx=\"2\" class=\"file\" />\n",
              "  <text x=\"310\" y=\"390\" class=\"text file-text\" text-anchor=\"middle\">notes.txt</text>\n",
              "\n",
              "  <!-- Connectors -->\n",
              "  <!-- Root to Level 1 -->\n",
              "  <path d=\"M 300 120 L 300 140 L 150 140 L 150 170\" class=\"connector\" />\n",
              "  <path d=\"M 300 120 L 300 140 L 230 140 L 230 170\" class=\"connector\" />\n",
              "  <path d=\"M 300 120 L 300 140 L 310 140 L 310 170\" class=\"connector\" />\n",
              "  <path d=\"M 300 120 L 300 140 L 390 140 L 390 170\" class=\"connector\" />\n",
              "  <path d=\"M 300 120 L 300 140 L 470 140 L 470 170\" class=\"connector\" />\n",
              "  \n",
              "  <!-- Level 1 to Level 2 -->\n",
              "  <path d=\"M 310 220 L 310 240 L 270 240 L 270 270\" class=\"connector\" />\n",
              "  <path d=\"M 310 220 L 310 240 L 350 240 L 350 270\" class=\"connector\" />\n",
              "  \n",
              "  <!-- Level 2 to Level 3 -->\n",
              "  <path d=\"M 270 320 L 270 340 L 230 340 L 230 370\" class=\"connector\" />\n",
              "  <path d=\"M 270 320 L 270 340 L 310 340 L 310 370\" class=\"connector\" />\n",
              "</svg>\n"
            ]
          },
          "metadata": {}
        }
      ]
    },
    {
      "cell_type": "markdown",
      "source": [
        "### Sample Linux Commands\n",
        "In a Jupyer notebook (like this), you can interact with underlying operating system (in this case, Linux). We can use either `!` for single commands or `%%bash` to send multiple commands (**bash** is a scripting language for Linux)."
      ],
      "metadata": {
        "id": "WNId40jpEWop"
      }
    },
    {
      "cell_type": "code",
      "source": [
        "# Show where we are\n",
        "!pwd"
      ],
      "metadata": {
        "colab": {
          "base_uri": "https://localhost:8080/"
        },
        "id": "tYsiojRNFb3m",
        "outputId": "0a9c8ae6-0930-4905-88d0-6098b844d4b0"
      },
      "execution_count": null,
      "outputs": [
        {
          "output_type": "stream",
          "name": "stdout",
          "text": [
            "/content\n"
          ]
        }
      ]
    },
    {
      "cell_type": "code",
      "source": [
        "# List contents (files and folders)\n",
        "!ls"
      ],
      "metadata": {
        "colab": {
          "base_uri": "https://localhost:8080/"
        },
        "id": "hc5oekZEFfrE",
        "outputId": "fe222d14-3887-42ed-a2cb-d2ae11b14208"
      },
      "execution_count": null,
      "outputs": [
        {
          "output_type": "stream",
          "name": "stdout",
          "text": [
            "binary_example.bin  demo  greeting.txt\tsample_data\n"
          ]
        }
      ]
    },
    {
      "cell_type": "code",
      "source": [
        "%%bash\n",
        "# Create a directory named 'demo'\n",
        "mkdir demo\n",
        "\n",
        "# Enter the new directory\n",
        "cd demo\n",
        "\n",
        "# Verify we're inside it\n",
        "pwd\n",
        "\n",
        "# Create an empty file\n",
        "touch hello.txt\n",
        "\n",
        "# List contents again\n",
        "ls\n",
        "\n",
        "# remove file\n",
        "rm hello.txt\n",
        "\n",
        "\n",
        "# Go back to parent directory\n",
        "cd ..\n",
        "\n",
        "# Remove the empty directory\n",
        "rmdir demo\n",
        "\n",
        "# Say what we did\n",
        "echo \"We did some stuff using Linux!\"\n"
      ],
      "metadata": {
        "colab": {
          "base_uri": "https://localhost:8080/"
        },
        "id": "5ZSkk0pBFgAb",
        "outputId": "2d4e17d2-a878-46d0-89ce-ea9372518c00"
      },
      "execution_count": null,
      "outputs": [
        {
          "output_type": "stream",
          "name": "stdout",
          "text": [
            "/content/demo\n",
            "hello.txt\n",
            "We did some stuff using Linux!\n"
          ]
        }
      ]
    },
    {
      "cell_type": "markdown",
      "source": [
        "# Understanding I/O - How Computers Talk to the World\n",
        "\n",
        "**Input/Output (I/O)** is how computers communicate with the outside world, including users and external devices. Without I/O, a computer would be like a person who can think but can't see, hear, speak, or touch—isolated and unable to interact with anything beyond its own mind. I/O operations are fundamental to almost every computer program, from reading keyboard input to saving data to disk.\n",
        "\n",
        "I/O in computing involves two main directions of data flow that make your programs interactive and useful.\n",
        "\n",
        "* **Input** operations bring data into the computer from sources like keyboards, mice, sensors, files, or network connections.\n",
        "* **Output** operations send data from the computer to destinations like screens, speakers, printers, files, or over networks.\n",
        "\n",
        "The operating system plays a critical role in managing I/O by providing standardized ways for programs to perform these operations without needing to know the specific details of the hardware involved. This abstraction is achieved through **device drivers**, which are specialized software components that translate general commands from the OS into specific instructions for particular hardware devices.\n",
        "\n",
        "Most programming languages, including Python, provide libraries and functions that let you perform I/O operations without having to directly interact with the operating system's low-level functions. These high-level interfaces make it much easier to write programs that can read input from users and files, and display or save the results.\n",
        "\n",
        "| I/O Type | Common Examples | Python Functions |\n",
        "|----------|----------------|-----------------|\n",
        "| Standard Input | Keyboard, command arguments | `input()`, `sys.stdin.read()` |\n",
        "| Standard Output | Screen display, console | `print()`, `sys.stdout.write()` |\n",
        "| File I/O | Reading/writing disk files | `open()`, `read()`, `write()` |\n",
        "| Network I/O | Web requests, server communication | `socket`, `requests` library |\n",
        "\n",
        "In the following sections, we'll explore how Python specifically handles these I/O operations, focusing on file operations as a fundamental example of how programs interact with persistent data."
      ],
      "metadata": {
        "id": "hOijrizMCjhc"
      }
    },
    {
      "cell_type": "markdown",
      "source": [
        "# Streams, Handles, and Modes - The Basics of Input/Output\n",
        "\n",
        "When a program interacts with data coming from or going to the outside world, it uses several key concepts that help organize and control the flow of information. Understanding these concepts is essential for working with files and other I/O operations in Python.\n",
        "\n",
        "A **stream** is a sequence of data elements made available over time. Think of it like water flowing through a pipe—data flows from a source to a destination one piece at a time. Streams are a fundamental concept in computing that provide a consistent way to handle different types of I/O.\n",
        "\n",
        "* When you read from a file, the data flows from the file (the source) into your program through an input stream.\n",
        "* When you write to a file, the data flows from your program to the file (the destination) through an output stream.\n",
        "\n",
        "Operating systems provide several **predefined streams** that are automatically available to every program when it starts.\n",
        "\n",
        "* **Standard input (stdin)** is the default source of input, typically connected to the keyboard.\n",
        "* **Standard output (stdout)** is the default destination for output, usually the terminal or console screen.\n",
        "* **Standard error (stderr)** is a separate output stream specifically for error messages.\n",
        "\n",
        "To work with a specific file or device, programs need a way to reference it. This is where **file handles** come in. A **file handle** (or file descriptor) is a unique identifier that represents an open file within a program. When you open a file in Python, you get a file object that serves as a handle to that file.\n",
        "\n",
        "| Stream Type | Python Reference | Common Use |\n",
        "|-------------|-----------------|------------|\n",
        "| Standard Input | `sys.stdin` | Reading user input |\n",
        "| Standard Output | `sys.stdout` | Displaying normal program output |\n",
        "| Standard Error | `sys.stderr` | Displaying error messages |\n",
        "| File Streams | File objects returned by `open()` | Reading/writing specific files |\n",
        "\n",
        "When opening a file, you need to specify an **I/O mode** that tells the system how you intend to use the file. These modes determine whether you can read from the file, write to it, or both.\n",
        "\n",
        "* The **read mode** (`'r'`) allows the program to read data from the file but not modify it.\n",
        "* The **write mode** (`'w'`) allows the program to write data to the file, creating a new file or overwriting an existing one.\n",
        "* The **append mode** (`'a'`) allows the program to add data to the end of an existing file without overwriting its current contents.\n",
        "\n",
        "These concepts form the foundation for the file operations we'll explore in the following sections."
      ],
      "metadata": {
        "id": "2q_ROTUkClJu"
      }
    },
    {
      "cell_type": "code",
      "source": [
        "# @title\n",
        "%%html\n",
        "<svg viewBox=\"0 0 600 400\" xmlns=\"http://www.w3.org/2000/svg\">\n",
        "  <style>\n",
        "    .box { stroke-width: 2; }\n",
        "    .program { fill: #bbdefb; stroke: #1976d2; rx: 10; ry: 10; }\n",
        "    .external { fill: #e8f5e9; stroke: #43a047; rx: 8; ry: 8; }\n",
        "    .arrow { stroke-width: 3; fill: none; marker-end: url(#arrowhead); }\n",
        "    .input-arrow { stroke: #0d47a1; }\n",
        "    .output-arrow { stroke: #2e7d32; }\n",
        "    .stream { stroke-dasharray: 5, 3; }\n",
        "    .text { font-family: Arial, sans-serif; }\n",
        "    .title { font-size: 20px; font-weight: bold; fill: #37474f; }\n",
        "    .subtitle { font-size: 16px; fill: #546e7a; }\n",
        "    .label { font-size: 14px; fill: #455a64; font-weight: bold; }\n",
        "    .stream-label { font-size: 12px; fill: #607d8b; }\n",
        "    .stdin { fill: #0d47a1; }\n",
        "    .stdout { fill: #2e7d32; }\n",
        "    .stderr { fill: #c62828; }\n",
        "    .data { font-family: monospace; font-size: 12px; fill: #455a64; }\n",
        "  </style>\n",
        "\n",
        "  <!-- Arrow marker definition -->\n",
        "  <defs>\n",
        "    <marker id=\"arrowhead\" markerWidth=\"10\" markerHeight=\"7\" refX=\"9\" refY=\"3.5\" orient=\"auto\">\n",
        "      <polygon points=\"0 0, 10 3.5, 0 7\" fill=\"#607d8b\"/>\n",
        "    </marker>\n",
        "  </defs>\n",
        "\n",
        "  <!-- Title -->\n",
        "  <text x=\"300\" y=\"30\" class=\"text title\" text-anchor=\"middle\">Input/Output Streams</text>\n",
        "  <text x=\"300\" y=\"55\" class=\"text subtitle\" text-anchor=\"middle\">How data flows to and from a program</text>\n",
        "\n",
        "  <!-- Program/Process box -->\n",
        "  <rect x=\"220\" y=\"150\" width=\"160\" height=\"100\" class=\"box program\" />\n",
        "  <text x=\"300\" y=\"195\" class=\"text label\" text-anchor=\"middle\">PROGRAM</text>\n",
        "  <text x=\"300\" y=\"215\" class=\"text stream-label\" text-anchor=\"middle\">(Process in Memory)</text>\n",
        "\n",
        "  <!-- Input sources -->\n",
        "  <rect x=\"40\" y=\"90\" width=\"120\" height=\"40\" class=\"box external\" />\n",
        "  <text x=\"100\" y=\"115\" class=\"text label\" text-anchor=\"middle\">Keyboard</text>\n",
        "\n",
        "  <rect x=\"40\" y=\"180\" width=\"120\" height=\"40\" class=\"box external\" />\n",
        "  <text x=\"100\" y=\"205\" class=\"text label\" text-anchor=\"middle\">Input File</text>\n",
        "\n",
        "  <rect x=\"40\" y=\"270\" width=\"120\" height=\"40\" class=\"box external\" />\n",
        "  <text x=\"100\" y=\"295\" class=\"text label\" text-anchor=\"middle\">Network Data</text>\n",
        "\n",
        "  <!-- Output destinations -->\n",
        "  <rect x=\"440\" y=\"90\" width=\"120\" height=\"40\" class=\"box external\" />\n",
        "  <text x=\"500\" y=\"115\" class=\"text label\" text-anchor=\"middle\">Screen</text>\n",
        "\n",
        "  <rect x=\"440\" y=\"180\" width=\"120\" height=\"40\" class=\"box external\" />\n",
        "  <text x=\"500\" y=\"205\" class=\"text label\" text-anchor=\"middle\">Output File</text>\n",
        "\n",
        "  <rect x=\"440\" y=\"270\" width=\"120\" height=\"40\" class=\"box external\" />\n",
        "  <text x=\"500\" y=\"295\" class=\"text label\" text-anchor=\"middle\">Error Log</text>\n",
        "\n",
        "  <!-- Input arrows -->\n",
        "  <path d=\"M 160 110 C 190 110, 190 170, 220 170\" class=\"arrow input-arrow stream\" />\n",
        "  <text x=\"170\" y=\"100\" class=\"text stream-label stdin\">stdin</text>\n",
        "  <text x=\"170\" y=\"135\" class=\"text data\" transform=\"rotate(-20, 170, 135)\">user input...</text>\n",
        "\n",
        "  <path d=\"M 160 200 L 220 200\" class=\"arrow input-arrow\" />\n",
        "  <text x=\"190\" y=\"190\" class=\"text stream-label\">file handle</text>\n",
        "\n",
        "  <path d=\"M 160 270 C 190 270, 190 230, 220 230\" class=\"arrow input-arrow stream\" />\n",
        "  <text x=\"170\" y=\"255\" class=\"text stream-label\">socket</text>\n",
        "\n",
        "  <!-- Output arrows -->\n",
        "  <path d=\"M 380 170 C 410 170, 410 110, 440 110\" class=\"arrow output-arrow stream\" />\n",
        "  <text x=\"410\" y=\"100\" class=\"text stream-label stdout\">stdout</text>\n",
        "  <text x=\"400\" y=\"135\" class=\"text data\" transform=\"rotate(20, 400, 135)\">output text...</text>\n",
        "\n",
        "  <path d=\"M 380 200 L 440 200\" class=\"arrow output-arrow\" />\n",
        "  <text x=\"410\" y=\"190\" class=\"text stream-label\">file handle</text>\n",
        "\n",
        "  <path d=\"M 380 230 C 410 230, 410 290, 440 290\" class=\"arrow output-arrow stream\" />\n",
        "  <text x=\"430\" y=\"255\" class=\"text stream-label stderr\">stderr</text>\n",
        "  <text x=\"400\" y=\"260\" class=\"text data\" transform=\"rotate(-20, 400, 260)\">error messages...</text>\n",
        "</svg>"
      ],
      "metadata": {
        "colab": {
          "base_uri": "https://localhost:8080/",
          "height": 964
        },
        "cellView": "form",
        "id": "7eXqhrJRM_oi",
        "outputId": "198335ae-1a65-47c0-8d3a-5c014b03677e"
      },
      "execution_count": null,
      "outputs": [
        {
          "output_type": "display_data",
          "data": {
            "text/plain": [
              "<IPython.core.display.HTML object>"
            ],
            "text/html": [
              "<svg viewBox=\"0 0 600 400\" xmlns=\"http://www.w3.org/2000/svg\">\n",
              "  <style>\n",
              "    .box { stroke-width: 2; }\n",
              "    .program { fill: #bbdefb; stroke: #1976d2; rx: 10; ry: 10; }\n",
              "    .external { fill: #e8f5e9; stroke: #43a047; rx: 8; ry: 8; }\n",
              "    .arrow { stroke-width: 3; fill: none; marker-end: url(#arrowhead); }\n",
              "    .input-arrow { stroke: #0d47a1; }\n",
              "    .output-arrow { stroke: #2e7d32; }\n",
              "    .stream { stroke-dasharray: 5, 3; }\n",
              "    .text { font-family: Arial, sans-serif; }\n",
              "    .title { font-size: 20px; font-weight: bold; fill: #37474f; }\n",
              "    .subtitle { font-size: 16px; fill: #546e7a; }\n",
              "    .label { font-size: 14px; fill: #455a64; font-weight: bold; }\n",
              "    .stream-label { font-size: 12px; fill: #607d8b; }\n",
              "    .stdin { fill: #0d47a1; }\n",
              "    .stdout { fill: #2e7d32; }\n",
              "    .stderr { fill: #c62828; }\n",
              "    .data { font-family: monospace; font-size: 12px; fill: #455a64; }\n",
              "  </style>\n",
              "\n",
              "  <!-- Arrow marker definition -->\n",
              "  <defs>\n",
              "    <marker id=\"arrowhead\" markerWidth=\"10\" markerHeight=\"7\" refX=\"9\" refY=\"3.5\" orient=\"auto\">\n",
              "      <polygon points=\"0 0, 10 3.5, 0 7\" fill=\"#607d8b\"/>\n",
              "    </marker>\n",
              "  </defs>\n",
              "\n",
              "  <!-- Title -->\n",
              "  <text x=\"300\" y=\"30\" class=\"text title\" text-anchor=\"middle\">Input/Output Streams</text>\n",
              "  <text x=\"300\" y=\"55\" class=\"text subtitle\" text-anchor=\"middle\">How data flows to and from a program</text>\n",
              "\n",
              "  <!-- Program/Process box -->\n",
              "  <rect x=\"220\" y=\"150\" width=\"160\" height=\"100\" class=\"box program\" />\n",
              "  <text x=\"300\" y=\"195\" class=\"text label\" text-anchor=\"middle\">PROGRAM</text>\n",
              "  <text x=\"300\" y=\"215\" class=\"text stream-label\" text-anchor=\"middle\">(Process in Memory)</text>\n",
              "\n",
              "  <!-- Input sources -->\n",
              "  <rect x=\"40\" y=\"90\" width=\"120\" height=\"40\" class=\"box external\" />\n",
              "  <text x=\"100\" y=\"115\" class=\"text label\" text-anchor=\"middle\">Keyboard</text>\n",
              "\n",
              "  <rect x=\"40\" y=\"180\" width=\"120\" height=\"40\" class=\"box external\" />\n",
              "  <text x=\"100\" y=\"205\" class=\"text label\" text-anchor=\"middle\">Input File</text>\n",
              "\n",
              "  <rect x=\"40\" y=\"270\" width=\"120\" height=\"40\" class=\"box external\" />\n",
              "  <text x=\"100\" y=\"295\" class=\"text label\" text-anchor=\"middle\">Network Data</text>\n",
              "\n",
              "  <!-- Output destinations -->\n",
              "  <rect x=\"440\" y=\"90\" width=\"120\" height=\"40\" class=\"box external\" />\n",
              "  <text x=\"500\" y=\"115\" class=\"text label\" text-anchor=\"middle\">Screen</text>\n",
              "\n",
              "  <rect x=\"440\" y=\"180\" width=\"120\" height=\"40\" class=\"box external\" />\n",
              "  <text x=\"500\" y=\"205\" class=\"text label\" text-anchor=\"middle\">Output File</text>\n",
              "\n",
              "  <rect x=\"440\" y=\"270\" width=\"120\" height=\"40\" class=\"box external\" />\n",
              "  <text x=\"500\" y=\"295\" class=\"text label\" text-anchor=\"middle\">Error Log</text>\n",
              "\n",
              "  <!-- Input arrows -->\n",
              "  <path d=\"M 160 110 C 190 110, 190 170, 220 170\" class=\"arrow input-arrow stream\" />\n",
              "  <text x=\"170\" y=\"100\" class=\"text stream-label stdin\">stdin</text>\n",
              "  <text x=\"170\" y=\"135\" class=\"text data\" transform=\"rotate(-20, 170, 135)\">user input...</text>\n",
              "\n",
              "  <path d=\"M 160 200 L 220 200\" class=\"arrow input-arrow\" />\n",
              "  <text x=\"190\" y=\"190\" class=\"text stream-label\">file handle</text>\n",
              "\n",
              "  <path d=\"M 160 270 C 190 270, 190 230, 220 230\" class=\"arrow input-arrow stream\" />\n",
              "  <text x=\"170\" y=\"255\" class=\"text stream-label\">socket</text>\n",
              "\n",
              "  <!-- Output arrows -->\n",
              "  <path d=\"M 380 170 C 410 170, 410 110, 440 110\" class=\"arrow output-arrow stream\" />\n",
              "  <text x=\"410\" y=\"100\" class=\"text stream-label stdout\">stdout</text>\n",
              "  <text x=\"400\" y=\"135\" class=\"text data\" transform=\"rotate(20, 400, 135)\">output text...</text>\n",
              "\n",
              "  <path d=\"M 380 200 L 440 200\" class=\"arrow output-arrow\" />\n",
              "  <text x=\"410\" y=\"190\" class=\"text stream-label\">file handle</text>\n",
              "\n",
              "  <path d=\"M 380 230 C 410 230, 410 290, 440 290\" class=\"arrow output-arrow stream\" />\n",
              "  <text x=\"430\" y=\"255\" class=\"text stream-label stderr\">stderr</text>\n",
              "  <text x=\"400\" y=\"260\" class=\"text data\" transform=\"rotate(-20, 400, 260)\">error messages...</text>\n",
              "</svg>\n"
            ]
          },
          "metadata": {}
        }
      ]
    },
    {
      "cell_type": "markdown",
      "source": [
        "# Text vs Binary - Different Ways to Handle Data\n",
        "\n",
        "When working with files in Python or any programming language, there are two fundamental ways to interpret the data: as **text** or as **binary**. Understanding the difference between these two modes is crucial for handling different types of files correctly.\n",
        "\n",
        "Imagine you're at a library. Some books are written in your language, which you can read directly. Other materials, like music recordings or encrypted documents, aren't meant to be read as text. Computer files work in a similar way - they need to be interpreted correctly based on what they contain.\n",
        "\n",
        "**Text mode** treats file contents as human-readable characters (letters, numbers, symbols). When you open a file in text mode, Python does a lot of helpful processing behind the scenes:\n",
        "\n",
        "* Python automatically converts the raw file data into strings that you can easily work with in your program.\n",
        "* Different operating systems use different characters to mark the end of a line. In text mode, Python handles these differences for you - it converts line endings (like `\\n` on Unix/Linux or `\\r\\n` on Windows) to a consistent format in your program.\n",
        "* Python also handles character encodings, which determine how letters and symbols are stored as binary data. By default, Python uses UTF-8 encoding, which supports characters from virtually all world languages.\n",
        "\n",
        "**Binary mode** treats file contents as raw sequences of bytes (numbers from 0-255) without any interpretation or conversion. This mode is necessary for non-text files like images, videos, and executable programs.\n",
        "\n",
        "Think of binary mode as looking at the raw 1s and 0s that make up a file. This is necessary when:\n",
        "* The file doesn't contain text (like an image or audio file)\n",
        "* You need exact control over every byte in the file\n",
        "* You're working with a specialized file format that has its own structure\n",
        "\n",
        "When you use binary mode:\n",
        "* Python reads data as `bytes` objects rather than strings\n",
        "* No automatic translation of line endings or character encodings happens\n",
        "* You work with the raw data exactly as it's stored on disk\n",
        "* Binary mode is specified by adding `'b'` to the mode string when opening a file (e.g., `'rb'` for read binary, `'wb'` for write binary)\n",
        "\n",
        "Let's look at some examples to better understand how these modes work:"
      ],
      "metadata": {
        "id": "O6Dw8a6BCn0i"
      }
    },
    {
      "cell_type": "code",
      "source": [
        "# Text mode example - writing and reading a simple text file\n",
        "with open('greeting.txt', 'w') as file:  # 'w' = write text mode\n",
        "    file.write('Hello, World!')\n",
        "\n",
        "with open('greeting.txt', 'r') as file:  # 'r' = read text mode\n",
        "    content = file.read()\n",
        "    print(content)  # Prints: Hello, World!"
      ],
      "metadata": {
        "colab": {
          "base_uri": "https://localhost:8080/"
        },
        "id": "Lj9Avwo-C3I5",
        "outputId": "f2f13f62-ba0e-4650-81a9-1acbbc8ebde7"
      },
      "execution_count": null,
      "outputs": [
        {
          "output_type": "stream",
          "name": "stdout",
          "text": [
            "Hello, World!\n"
          ]
        }
      ]
    },
    {
      "cell_type": "code",
      "execution_count": null,
      "metadata": {
        "colab": {
          "base_uri": "https://localhost:8080/"
        },
        "id": "cpHGfJpICMqW",
        "outputId": "53095c7d-d43c-4704-8858-998cfac5a544"
      },
      "outputs": [
        {
          "output_type": "stream",
          "name": "stdout",
          "text": [
            "b'Hello'\n",
            "<class 'bytes'>\n"
          ]
        }
      ],
      "source": [
        "# Binary mode example - writing and reading binary data\n",
        "with open('binary_example.bin', 'wb') as file:  # 'wb' = write binary mode\n",
        "    # bytes() creates a sequence of byte values\n",
        "    file.write(bytes([72, 101, 108, 108, 111]))  # ASCII values for \"Hello\"\n",
        "\n",
        "with open('binary_example.bin', 'rb') as file:  # 'rb' = read binary mode\n",
        "    content = file.read()\n",
        "    print(content)  # Prints: b'Hello'\n",
        "    print(type(content))  # Prints: <class 'bytes'>"
      ]
    },
    {
      "cell_type": "markdown",
      "source": [
        "\n",
        "Here's how the different modes affect file reading and writing in Python:\n",
        "\n",
        "| Mode | Description | Use Case | Example |\n",
        "|------|-------------|----------|---------|\n",
        "| `'r'` | Text read mode | Reading configuration files, CSV data, log files | `open('config.txt', 'r')` |\n",
        "| `'w'` | Text write mode | Writing reports, log files, data exports | `open('log.txt', 'w')` |\n",
        "| `'rb'` | Binary read mode | Reading images, audio files, executables | `open('photo.jpg', 'rb')` |\n",
        "| `'wb'` | Binary write mode | Writing image data, audio data, compressed files | `open('data.zip', 'wb')` |\n",
        "\n",
        "Choosing the right mode is important for two main reasons:\n",
        "1. **Data corruption**: Using text mode on binary files can corrupt the data because Python will try to interpret binary data as text characters and might modify it.\n",
        "2. **Working complexity**: Using binary mode on text files means you'll have to handle character encodings and line endings manually, which is more complicated.\n",
        "\n",
        "In the next sections, we'll explore how to use Python's file functions with both text and binary data through practical examples."
      ],
      "metadata": {
        "id": "Z38Ggy_VC_By"
      }
    },
    {
      "cell_type": "code",
      "source": [
        "# @title\n",
        "%%html\n",
        "<svg viewBox=\"0 0 600 440\" xmlns=\"http://www.w3.org/2000/svg\">\n",
        "  <style>\n",
        "    .box { stroke-width: 2; }\n",
        "    .file { fill: #ffffff; stroke: #78909c; rx: 5; ry: 5; }\n",
        "    .text-mode { fill: #e3f2fd; stroke: #1976d2; }\n",
        "    .binary-mode { fill: #fbe9e7; stroke: #d84315; }\n",
        "    .arrow { stroke-width: 2; fill: none; marker-end: url(#arrowhead); }\n",
        "    .text-arrow { stroke: #1976d2; }\n",
        "    .binary-arrow { stroke: #d84315; }\n",
        "    .text { font-family: Arial, sans-serif; }\n",
        "    .title { font-size: 20px; font-weight: bold; fill: #37474f; }\n",
        "    .subtitle { font-size: 16px; fill: #546e7a; }\n",
        "    .label { font-size: 14px; fill: #455a64; font-weight: bold; }\n",
        "    .header { font-size: 14px; fill: #37474f; font-weight: bold; }\n",
        "    .content { font-size: 12px; fill: #455a64; }\n",
        "    .code { font-family: monospace; font-size: 12px; fill: #01579b; font-weight: bold; }\n",
        "    .binary { font-family: monospace; font-size: 12px; fill: #bf360c; }\n",
        "    .highlight { font-weight: bold; }\n",
        "    .comment { font-size: 11px; fill: #757575; font-style: italic; }\n",
        "  </style>\n",
        "\n",
        "  <!-- Arrow marker definition -->\n",
        "  <defs>\n",
        "    <marker id=\"arrowhead\" markerWidth=\"10\" markerHeight=\"7\" refX=\"9\" refY=\"3.5\" orient=\"auto\">\n",
        "      <polygon points=\"0 0, 10 3.5, 0 7\" fill=\"#607d8b\"/>\n",
        "    </marker>\n",
        "    <linearGradient id=\"text-gradient\" x1=\"0%\" y1=\"0%\" x2=\"100%\" y2=\"0%\">\n",
        "      <stop offset=\"0%\" style=\"stop-color:#bbdefb;stop-opacity:0.5\" />\n",
        "      <stop offset=\"100%\" style=\"stop-color:#bbdefb;stop-opacity:0.8\" />\n",
        "    </linearGradient>\n",
        "    <linearGradient id=\"binary-gradient\" x1=\"0%\" y1=\"0%\" x2=\"100%\" y2=\"0%\">\n",
        "      <stop offset=\"0%\" style=\"stop-color:#ffccbc;stop-opacity:0.5\" />\n",
        "      <stop offset=\"100%\" style=\"stop-color:#ffccbc;stop-opacity:0.8\" />\n",
        "    </linearGradient>\n",
        "  </defs>\n",
        "\n",
        "  <!-- Title -->\n",
        "  <text x=\"300\" y=\"30\" class=\"text title\" text-anchor=\"middle\">Text vs Binary File Modes</text>\n",
        "  <text x=\"300\" y=\"55\" class=\"text subtitle\" text-anchor=\"middle\">How Python interprets file content differently</text>\n",
        "\n",
        "  <!-- File representation -->\n",
        "  <rect x=\"250\" y=\"80\" width=\"100\" height=\"130\" class=\"box file\" />\n",
        "  <text x=\"300\" y=\"105\" class=\"text label\" text-anchor=\"middle\">File on Disk</text>\n",
        "\n",
        "  <!-- File content representation -->\n",
        "  <text x=\"300\" y=\"130\" class=\"text content\" text-anchor=\"middle\">Raw bytes stored</text>\n",
        "  <text x=\"300\" y=\"150\" class=\"text content\" text-anchor=\"middle\">on the disk</text>\n",
        "  <text x=\"300\" y=\"180\" class=\"text binary\" text-anchor=\"middle\">01001000 01100101</text>\n",
        "  <text x=\"300\" y=\"195\" class=\"text binary\" text-anchor=\"middle\">01101100 01101100</text>\n",
        "\n",
        "  <!-- Text Mode Side -->\n",
        "  <rect x=\"80\" y=\"280\" width=\"200\" height=\"130\" class=\"box text-mode\" />\n",
        "  <text x=\"180\" y=\"305\" class=\"text header\" text-anchor=\"middle\">Text Mode ('r', 'w', 'a')</text>\n",
        "\n",
        "  <rect x=\"90\" y=\"320\" width=\"180\" height=\"80\" fill=\"url(#text-gradient)\" rx=\"3\" ry=\"3\" />\n",
        "  <text x=\"180\" y=\"340\" class=\"text content\" text-anchor=\"middle\">Interprets bytes as text</text>\n",
        "  <text x=\"180\" y=\"360\" class=\"text content\" text-anchor=\"middle\">Handles encodings (UTF-8)</text>\n",
        "  <text x=\"180\" y=\"380\" class=\"text content\" text-anchor=\"middle\">Translates line endings</text>\n",
        "\n",
        "  <!-- Binary Mode Side -->\n",
        "  <rect x=\"320\" y=\"280\" width=\"200\" height=\"130\" class=\"box binary-mode\" />\n",
        "  <text x=\"420\" y=\"305\" class=\"text header\" text-anchor=\"middle\">Binary Mode ('rb', 'wb', 'ab')</text>\n",
        "\n",
        "  <rect x=\"330\" y=\"320\" width=\"180\" height=\"80\" fill=\"url(#binary-gradient)\" rx=\"3\" ry=\"3\" />\n",
        "  <text x=\"420\" y=\"340\" class=\"text content\" text-anchor=\"middle\">Raw bytes, no interpretation</text>\n",
        "  <text x=\"420\" y=\"360\" class=\"text content\" text-anchor=\"middle\">No encoding/decoding</text>\n",
        "  <text x=\"420\" y=\"380\" class=\"text content\" text-anchor=\"middle\">No line ending translation</text>\n",
        "\n",
        "  <!-- Arrows from file to modes -->\n",
        "  <path d=\"M 280 210 L 180 280\" class=\"arrow text-arrow\" />\n",
        "  <path d=\"M 320 210 L 420 280\" class=\"arrow binary-arrow\" />\n",
        "\n",
        "  <!-- Code examples -->\n",
        "  <text x=\"180\" y=\"425\" class=\"text code\" text-anchor=\"middle\">open('file.txt', 'r')</text>\n",
        "  <text x=\"180\" y=\"440\" class=\"text comment\" text-anchor=\"middle\">Returns string objects</text>\n",
        "\n",
        "  <text x=\"420\" y=\"425\" class=\"text code\" text-anchor=\"middle\">open('file.jpg', 'rb')</text>\n",
        "  <text x=\"420\" y=\"440\" class=\"text comment\" text-anchor=\"middle\">Returns bytes objects</text>\n",
        "</svg>"
      ],
      "metadata": {
        "colab": {
          "base_uri": "https://localhost:8080/",
          "height": 1000
        },
        "cellView": "form",
        "id": "vqKpr1GDNI6n",
        "outputId": "fb3249dc-9cb4-45d1-c3ca-79941b0f5116"
      },
      "execution_count": null,
      "outputs": [
        {
          "output_type": "display_data",
          "data": {
            "text/plain": [
              "<IPython.core.display.HTML object>"
            ],
            "text/html": [
              "<svg viewBox=\"0 0 600 440\" xmlns=\"http://www.w3.org/2000/svg\">\n",
              "  <style>\n",
              "    .box { stroke-width: 2; }\n",
              "    .file { fill: #ffffff; stroke: #78909c; rx: 5; ry: 5; }\n",
              "    .text-mode { fill: #e3f2fd; stroke: #1976d2; }\n",
              "    .binary-mode { fill: #fbe9e7; stroke: #d84315; }\n",
              "    .arrow { stroke-width: 2; fill: none; marker-end: url(#arrowhead); }\n",
              "    .text-arrow { stroke: #1976d2; }\n",
              "    .binary-arrow { stroke: #d84315; }\n",
              "    .text { font-family: Arial, sans-serif; }\n",
              "    .title { font-size: 20px; font-weight: bold; fill: #37474f; }\n",
              "    .subtitle { font-size: 16px; fill: #546e7a; }\n",
              "    .label { font-size: 14px; fill: #455a64; font-weight: bold; }\n",
              "    .header { font-size: 14px; fill: #37474f; font-weight: bold; }\n",
              "    .content { font-size: 12px; fill: #455a64; }\n",
              "    .code { font-family: monospace; font-size: 12px; fill: #01579b; font-weight: bold; }\n",
              "    .binary { font-family: monospace; font-size: 12px; fill: #bf360c; }\n",
              "    .highlight { font-weight: bold; }\n",
              "    .comment { font-size: 11px; fill: #757575; font-style: italic; }\n",
              "  </style>\n",
              "\n",
              "  <!-- Arrow marker definition -->\n",
              "  <defs>\n",
              "    <marker id=\"arrowhead\" markerWidth=\"10\" markerHeight=\"7\" refX=\"9\" refY=\"3.5\" orient=\"auto\">\n",
              "      <polygon points=\"0 0, 10 3.5, 0 7\" fill=\"#607d8b\"/>\n",
              "    </marker>\n",
              "    <linearGradient id=\"text-gradient\" x1=\"0%\" y1=\"0%\" x2=\"100%\" y2=\"0%\">\n",
              "      <stop offset=\"0%\" style=\"stop-color:#bbdefb;stop-opacity:0.5\" />\n",
              "      <stop offset=\"100%\" style=\"stop-color:#bbdefb;stop-opacity:0.8\" />\n",
              "    </linearGradient>\n",
              "    <linearGradient id=\"binary-gradient\" x1=\"0%\" y1=\"0%\" x2=\"100%\" y2=\"0%\">\n",
              "      <stop offset=\"0%\" style=\"stop-color:#ffccbc;stop-opacity:0.5\" />\n",
              "      <stop offset=\"100%\" style=\"stop-color:#ffccbc;stop-opacity:0.8\" />\n",
              "    </linearGradient>\n",
              "  </defs>\n",
              "\n",
              "  <!-- Title -->\n",
              "  <text x=\"300\" y=\"30\" class=\"text title\" text-anchor=\"middle\">Text vs Binary File Modes</text>\n",
              "  <text x=\"300\" y=\"55\" class=\"text subtitle\" text-anchor=\"middle\">How Python interprets file content differently</text>\n",
              "\n",
              "  <!-- File representation -->\n",
              "  <rect x=\"250\" y=\"80\" width=\"100\" height=\"130\" class=\"box file\" />\n",
              "  <text x=\"300\" y=\"105\" class=\"text label\" text-anchor=\"middle\">File on Disk</text>\n",
              "  \n",
              "  <!-- File content representation -->\n",
              "  <text x=\"300\" y=\"130\" class=\"text content\" text-anchor=\"middle\">Raw bytes stored</text>\n",
              "  <text x=\"300\" y=\"150\" class=\"text content\" text-anchor=\"middle\">on the disk</text>\n",
              "  <text x=\"300\" y=\"180\" class=\"text binary\" text-anchor=\"middle\">01001000 01100101</text>\n",
              "  <text x=\"300\" y=\"195\" class=\"text binary\" text-anchor=\"middle\">01101100 01101100</text>\n",
              "\n",
              "  <!-- Text Mode Side -->\n",
              "  <rect x=\"80\" y=\"280\" width=\"200\" height=\"130\" class=\"box text-mode\" />\n",
              "  <text x=\"180\" y=\"305\" class=\"text header\" text-anchor=\"middle\">Text Mode ('r', 'w', 'a')</text>\n",
              "  \n",
              "  <rect x=\"90\" y=\"320\" width=\"180\" height=\"80\" fill=\"url(#text-gradient)\" rx=\"3\" ry=\"3\" />\n",
              "  <text x=\"180\" y=\"340\" class=\"text content\" text-anchor=\"middle\">Interprets bytes as text</text>\n",
              "  <text x=\"180\" y=\"360\" class=\"text content\" text-anchor=\"middle\">Handles encodings (UTF-8)</text>\n",
              "  <text x=\"180\" y=\"380\" class=\"text content\" text-anchor=\"middle\">Translates line endings</text>\n",
              "  \n",
              "  <!-- Binary Mode Side -->\n",
              "  <rect x=\"320\" y=\"280\" width=\"200\" height=\"130\" class=\"box binary-mode\" />\n",
              "  <text x=\"420\" y=\"305\" class=\"text header\" text-anchor=\"middle\">Binary Mode ('rb', 'wb', 'ab')</text>\n",
              "  \n",
              "  <rect x=\"330\" y=\"320\" width=\"180\" height=\"80\" fill=\"url(#binary-gradient)\" rx=\"3\" ry=\"3\" />\n",
              "  <text x=\"420\" y=\"340\" class=\"text content\" text-anchor=\"middle\">Raw bytes, no interpretation</text>\n",
              "  <text x=\"420\" y=\"360\" class=\"text content\" text-anchor=\"middle\">No encoding/decoding</text>\n",
              "  <text x=\"420\" y=\"380\" class=\"text content\" text-anchor=\"middle\">No line ending translation</text>\n",
              "\n",
              "  <!-- Arrows from file to modes -->\n",
              "  <path d=\"M 280 210 L 180 280\" class=\"arrow text-arrow\" />\n",
              "  <path d=\"M 320 210 L 420 280\" class=\"arrow binary-arrow\" />\n",
              "\n",
              "  <!-- Code examples -->\n",
              "  <text x=\"180\" y=\"425\" class=\"text code\" text-anchor=\"middle\">open('file.txt', 'r')</text>\n",
              "  <text x=\"180\" y=\"440\" class=\"text comment\" text-anchor=\"middle\">Returns string objects</text>\n",
              "  \n",
              "  <text x=\"420\" y=\"425\" class=\"text code\" text-anchor=\"middle\">open('file.jpg', 'rb')</text>\n",
              "  <text x=\"420\" y=\"440\" class=\"text comment\" text-anchor=\"middle\">Returns bytes objects</text>\n",
              "</svg>\n"
            ]
          },
          "metadata": {}
        }
      ]
    },
    {
      "cell_type": "markdown",
      "source": [
        "# Introduction to Python File Operations\n",
        "\n",
        "Now that we understand the theoretical concepts of operating systems, streams, handles, and file modes, let's start putting this knowledge into practice with Python. Python makes working with files straightforward through a set of built-in functions and methods that handle all the complex interactions with the operating system for us.\n",
        "\n",
        "File operations are an essential part of most real-world programs. They allow your applications to:\n",
        "* Store data that persists even after your program ends\n",
        "* Read configuration settings to customize behavior\n",
        "* Process large datasets from external sources\n",
        "* Log events and errors for later review\n",
        "* Save user information and preferences\n",
        "\n",
        "The workflow for file operations in Python follows a consistent three-step pattern that helps ensure files are properly handled:\n",
        "\n",
        "* First, you **open** the file to establish a connection between your program and the file on disk. This gives you a file object (or handle) that you'll use for subsequent operations.\n",
        "* Next, you perform **read** or **write** operations to access or modify the file's contents through the file object.\n",
        "* Finally, you **close** the file to free up system resources and ensure all data is properly saved to disk.\n",
        "\n",
        "Python provides several built-in functions for file I/O operations that we'll explore in the following sections. These functions are designed to be simple to use while still providing the flexibility needed for various file handling tasks.\n",
        "\n",
        "```python\n",
        "# Basic file operation pattern in Python\n",
        "file = open('example.txt', 'r')  # Open the file\n",
        "content = file.read()           # Read the file contents\n",
        "file.close()                    # Close the file\n",
        "```\n",
        "\n",
        "A more modern and recommended approach is to use Python's **context manager** with the `with` statement. This automatically closes the file when you're done with it, even if errors occur.\n",
        "\n",
        "```python\n",
        "# Using a context manager (recommended approach)\n",
        "with open('example.txt', 'r') as file:\n",
        "    content = file.read()\n",
        "    # File is automatically closed when the block ends\n",
        "```\n",
        "\n",
        "When working with files in Jupyter notebooks, we can also interact with the operating system directly using special commands. There are two main ways to run system commands:\n",
        "\n",
        "* The **magic command** `%%bash` runs an entire cell as a bash script (in Linux/Mac environments).\n",
        "* The **exclamation mark** `!` prefix runs a single system command."
      ],
      "metadata": {
        "id": "1bHwgY2tDMlY"
      }
    },
    {
      "cell_type": "code",
      "source": [
        "# Running a system command to list files in the current directory\n",
        "!ls -la"
      ],
      "metadata": {
        "colab": {
          "base_uri": "https://localhost:8080/"
        },
        "id": "LyR4E1p2DNT1",
        "outputId": "f82dbd39-9edf-4292-88ce-2729a5b4fd12"
      },
      "execution_count": null,
      "outputs": [
        {
          "output_type": "stream",
          "name": "stdout",
          "text": [
            "total 24\n",
            "drwxr-xr-x 1 root root 4096 May  1 13:31 .\n",
            "drwxr-xr-x 1 root root 4096 May  1 13:27 ..\n",
            "-rw-r--r-- 1 root root    5 May  1 13:31 binary_example.bin\n",
            "drwxr-xr-x 4 root root 4096 Apr 29 13:36 .config\n",
            "-rw-r--r-- 1 root root   13 May  1 13:31 greeting.txt\n",
            "drwxr-xr-x 1 root root 4096 Apr 29 13:36 sample_data\n"
          ]
        }
      ]
    },
    {
      "cell_type": "code",
      "source": [
        "%%bash\n",
        "# Or using a magic command for multiple commands\n",
        "echo \"Current directory contents:\"\n",
        "ls -la"
      ],
      "metadata": {
        "colab": {
          "base_uri": "https://localhost:8080/"
        },
        "id": "y5Lxqj-jDPtH",
        "outputId": "19ae8809-cb85-42b0-831f-598fc3f13975"
      },
      "execution_count": null,
      "outputs": [
        {
          "output_type": "stream",
          "name": "stdout",
          "text": [
            "Current directory contents:\n",
            "total 24\n",
            "drwxr-xr-x 1 root root 4096 May  1 13:31 .\n",
            "drwxr-xr-x 1 root root 4096 May  1 13:27 ..\n",
            "-rw-r--r-- 1 root root    5 May  1 13:31 binary_example.bin\n",
            "drwxr-xr-x 4 root root 4096 Apr 29 13:36 .config\n",
            "-rw-r--r-- 1 root root   13 May  1 13:31 greeting.txt\n",
            "drwxr-xr-x 1 root root 4096 Apr 29 13:36 sample_data\n"
          ]
        }
      ]
    },
    {
      "cell_type": "markdown",
      "source": [
        "In the following sections, we'll explore specific file operations in more detail, starting with how to open files properly."
      ],
      "metadata": {
        "id": "KL0XlncnDWc9"
      }
    },
    {
      "cell_type": "markdown",
      "source": [
        "# The open() Function - Your Gateway to Files\n",
        "\n",
        "The `open()` function is the starting point for all file operations in Python. This essential built-in function creates a connection between your program and a file on your computer's storage, returning a file object that you can use to read from or write to the file. Understanding how to use `open()` correctly is fundamental to working with files in Python.\n",
        "\n",
        "The `open()` function takes several parameters, but the two most important ones are the filename and the mode.\n",
        "\n",
        "* The **filename** parameter specifies which file you want to work with, including its path if it's not in the current directory.\n",
        "* The **mode** parameter tells Python how you intend to use the file (reading, writing, appending, etc.).\n",
        "\n",
        "Here's the basic syntax of the `open()` function:\n",
        "\n",
        "```python\n",
        "file_object = open(filename, mode='r', encoding=None, buffering=-1)\n",
        "```\n",
        "\n",
        "The mode parameter accepts several values that control how the file is opened. These are the most commonly used modes:\n",
        "\n",
        "| Mode | Description |\n",
        "|------|-------------|\n",
        "| `'r'` | Read mode (default) - Opens file for reading |\n",
        "| `'w'` | Write mode - Creates a new file or overwrites existing file |\n",
        "| `'a'` | Append mode - Opens file for writing, appending to the end |\n",
        "| `'x'` | Exclusive creation - Creates a new file, fails if file exists |\n",
        "| `'b'` | Binary mode - Opens file in binary mode (add to other modes) |\n",
        "| `'t'` | Text mode - Opens file in text mode (default) |\n",
        "| `'+'` | Update mode - Opens file for both reading and writing |\n",
        "\n",
        "For text files, you can also specify the character encoding using the `encoding` parameter. UTF-8 is the default in most Python installations and is recommended for most text files.\n",
        "\n",
        "```python\n",
        "# Opening a text file with UTF-8 encoding\n",
        "file = open('data.txt', 'r', encoding='utf-8')\n",
        "```"
      ],
      "metadata": {
        "id": "tNiFLTMcDpRL"
      }
    },
    {
      "cell_type": "markdown",
      "source": [
        "When opening files, it's important to use error handling to gracefully handle situations where the file might not exist or can't be accessed. Python provides `try-except` blocks for this purpose.\n"
      ],
      "metadata": {
        "id": "DWWG4DxdDrC7"
      }
    },
    {
      "cell_type": "code",
      "source": [
        "try:\n",
        "    file = open('nonexistent_file.txt', 'r')\n",
        "    # Work with the file\n",
        "except FileNotFoundError:\n",
        "    print(\"The file doesn't exist!\")\n",
        "finally:\n",
        "    # The finally block ensures the file is closed even if an error occurs\n",
        "    if 'file' in locals() and not file.closed:\n",
        "        file.close()"
      ],
      "metadata": {
        "colab": {
          "base_uri": "https://localhost:8080/"
        },
        "id": "tn0qsQvADrlY",
        "outputId": "5c2adfdc-4b6f-468f-8e65-1600bb14e0d1"
      },
      "execution_count": null,
      "outputs": [
        {
          "output_type": "stream",
          "name": "stdout",
          "text": [
            "The file doesn't exist!\n"
          ]
        }
      ]
    },
    {
      "cell_type": "markdown",
      "source": [
        "As mentioned in the previous section, using a context manager with the `with` statement is generally preferred over manual opening and closing:\n",
        "\n",
        "```python\n",
        "# Recommended approach using context manager\n",
        "with open('example.txt', 'r') as file:\n",
        "    content = file.read()\n",
        "    # The file is automatically closed when exiting the with block\n",
        "```\n",
        "\n",
        "Once a file is successfully opened, you can use various methods to read from or write to it, which we'll explore in the following sections.\n",
        "\n"
      ],
      "metadata": {
        "id": "mEknD5afDtvr"
      }
    },
    {
      "cell_type": "markdown",
      "source": [
        "# Writing to Files - Creating and Modifying Content\n",
        "\n",
        "Now that we understand the basic concepts of files, streams, and I/O modes, it's time to put this knowledge into practice. We'll start with writing files, since this allows us to create sample data that we can use in our later reading examples. Writing to files is one of the most common operations in programming, enabling your programs to save information persistently.\n",
        "\n",
        "After opening a file with the `open()` function, Python provides the `.write()` method to add content to files. This method takes a string argument and writes it directly to the file at the current cursor position. The operating system manages the actual writing of bytes to the physical storage medium.\n",
        "\n",
        "When you open a file using **write mode** (`'w'`), Python creates a new file if it doesn't exist, or completely overwrites an existing file. This is important to remember because any previous content in the file will be lost. In contrast, **append mode** (`'a'`) adds new content to the end of the file without removing existing content.\n",
        "\n",
        "Let's create a file with some facts about Linux that we'll use in our subsequent examples:"
      ],
      "metadata": {
        "id": "jrVq8puPGh_e"
      }
    },
    {
      "cell_type": "code",
      "source": [
        "# Writing to a file\n",
        "with open('linux_facts.txt', 'w') as file:\n",
        "    file.write(\"Linux was created by Linus Torvalds in 1991 while he was a student.\\n\")\n",
        "    file.write(\"The mascot of Linux is a penguin named Tux.\\n\")\n",
        "    file.write(\"Over 97% of the world's supercomputers run on Linux.\\n\")\n",
        "    file.write(\"Android, which runs on most smartphones, is based on the Linux kernel.\\n\")\n",
        "    file.write(\"Linux is open source, meaning anyone can view, modify, and distribute its code.\\n\")"
      ],
      "metadata": {
        "id": "74DEtOgJGmxz"
      },
      "execution_count": null,
      "outputs": []
    },
    {
      "cell_type": "markdown",
      "source": [
        "Now we can check if our file was created successfully using a shell command in Jupyter. The `!` prefix allows us to run commands as if we were in a terminal:\n"
      ],
      "metadata": {
        "id": "gccqWYHRGqkK"
      }
    },
    {
      "cell_type": "code",
      "source": [
        "# View the contents of the file using a shell command\n",
        "!cat linux_facts.txt"
      ],
      "metadata": {
        "colab": {
          "base_uri": "https://localhost:8080/"
        },
        "id": "S8lxBMmlGsXY",
        "outputId": "ebab514f-06a0-4e92-b930-40c6a25f0150"
      },
      "execution_count": null,
      "outputs": [
        {
          "output_type": "stream",
          "name": "stdout",
          "text": [
            "Linux was created by Linus Torvalds in 1991 while he was a student.\n",
            "The mascot of Linux is a penguin named Tux.\n",
            "Over 97% of the world's supercomputers run on Linux.\n",
            "Android, which runs on most smartphones, is based on the Linux kernel.\n",
            "Linux is open source, meaning anyone can view, modify, and distribute its code.\n"
          ]
        }
      ]
    },
    {
      "cell_type": "markdown",
      "source": [
        "The `.write()` method doesn't automatically add newline characters (`\\n`), so we need to include them explicitly when we want text on separate lines. If you forget to add newlines, all your text will run together on a single line.\n",
        "\n",
        "For writing multiple lines at once, Python also provides the `.writelines()` method. This method takes a list of strings and writes them all to the file:"
      ],
      "metadata": {
        "id": "RGvDhpoIGiMn"
      }
    },
    {
      "cell_type": "code",
      "source": [
        "# Writing multiple lines at once\n",
        "with open('more_facts.txt', 'w') as file:\n",
        "    lines = [\n",
        "        \"Linux file systems are case-sensitive.\\n\",\n",
        "        \"The Linux kernel is written in C programming language.\\n\",\n",
        "        \"Many web servers run on Linux.\\n\",\n",
        "        \"Linux is a multiuser operating system.\\n\"\n",
        "    ]\n",
        "    file.writelines(lines)"
      ],
      "metadata": {
        "id": "E5FZ_QP1Gy4Y"
      },
      "execution_count": null,
      "outputs": []
    },
    {
      "cell_type": "markdown",
      "source": [
        "Remember that `.writelines()` also doesn't add newline characters automatically, so we still need to include them in our strings if we want line breaks.\n",
        "\n",
        "When working with file writing, it's good practice to use the `with` statement as we've done in these examples. This ensures that the file is properly closed even if an error occurs during the writing process."
      ],
      "metadata": {
        "id": "rwGDYl3iG6La"
      }
    },
    {
      "cell_type": "code",
      "source": [
        "# View the new file\n",
        "!cat more_facts.txt"
      ],
      "metadata": {
        "colab": {
          "base_uri": "https://localhost:8080/"
        },
        "id": "qIv89C5uG3JD",
        "outputId": "663eef48-a003-46b5-e099-4a3a839cdbc5"
      },
      "execution_count": null,
      "outputs": [
        {
          "output_type": "stream",
          "name": "stdout",
          "text": [
            "Linux file systems are case-sensitive.\n",
            "The Linux kernel is written in C programming language.\n",
            "Many web servers run on Linux.\n",
            "Linux is a multiuser operating system.\n"
          ]
        }
      ]
    },
    {
      "cell_type": "markdown",
      "source": [
        "# Reading Files in Python - read() and readline()\n",
        "\n",
        "Once you've created files, you'll naturally need to read them back. Python provides several methods to access file contents, giving you flexibility in how you retrieve and process the data. These methods allow you to read entire files at once or process them line by line, depending on your needs.\n",
        "\n",
        "The `.read()` method is the simplest way to read file contents. When called without arguments, it reads the entire file from the current position to the end and returns its contents as a single string (in text mode) or bytes object (in binary mode)."
      ],
      "metadata": {
        "id": "BRAtOqRmHFZr"
      }
    },
    {
      "cell_type": "code",
      "source": [
        "# Reading an entire file at once\n",
        "with open('linux_facts.txt', 'r') as file:\n",
        "    content = file.read()\n",
        "    print(\"--- Entire file contents: ---\")\n",
        "    print(content)\n",
        "    print(\"--- End of file contents ---\")"
      ],
      "metadata": {
        "colab": {
          "base_uri": "https://localhost:8080/"
        },
        "id": "YEh_5KpOHJ6A",
        "outputId": "8afedd01-8ad1-44f5-fdc4-eea6f3e63758"
      },
      "execution_count": null,
      "outputs": [
        {
          "output_type": "stream",
          "name": "stdout",
          "text": [
            "--- Entire file contents: ---\n",
            "Linux was created by Linus Torvalds in 1991 while he was a student.\n",
            "The mascot of Linux is a penguin named Tux.\n",
            "Over 97% of the world's supercomputers run on Linux.\n",
            "Android, which runs on most smartphones, is based on the Linux kernel.\n",
            "Linux is open source, meaning anyone can view, modify, and distribute its code.\n",
            "\n",
            "--- End of file contents ---\n"
          ]
        }
      ]
    },
    {
      "cell_type": "markdown",
      "source": [
        "If you're working with large files, reading the entire file into memory might not be efficient. In such cases, you can pass a size parameter to `.read()` to specify the maximum number of characters or bytes to read."
      ],
      "metadata": {
        "id": "aLwe05WTHMYn"
      }
    },
    {
      "cell_type": "code",
      "source": [
        "# Reading a file in chunks\n",
        "with open('linux_facts.txt', 'r') as file:\n",
        "    print(\"--- Reading in chunks of 30 characters: ---\")\n",
        "    chunk = file.read(30)  # Read 30 characters\n",
        "    chunk_number = 1\n",
        "\n",
        "    while chunk:  # Loop until chunk is empty (end of file)\n",
        "        print(f\"Chunk {chunk_number}: {chunk!r}\")  # !r shows string representation with quotes\n",
        "        chunk = file.read(30)  # Read the next chunk\n",
        "        chunk_number += 1"
      ],
      "metadata": {
        "colab": {
          "base_uri": "https://localhost:8080/"
        },
        "id": "-FJKmyn6HO7E",
        "outputId": "9fdd1976-a4e6-4f02-df1d-9e98335b29b0"
      },
      "execution_count": null,
      "outputs": [
        {
          "output_type": "stream",
          "name": "stdout",
          "text": [
            "--- Reading in chunks of 30 characters: ---\n",
            "Chunk 1: 'Linux was created by Linus Tor'\n",
            "Chunk 2: 'valds in 1991 while he was a s'\n",
            "Chunk 3: 'tudent.\\nThe mascot of Linux is'\n",
            "Chunk 4: ' a penguin named Tux.\\nOver 97%'\n",
            "Chunk 5: \" of the world's supercomputers\"\n",
            "Chunk 6: ' run on Linux.\\nAndroid, which '\n",
            "Chunk 7: 'runs on most smartphones, is b'\n",
            "Chunk 8: 'ased on the Linux kernel.\\nLinu'\n",
            "Chunk 9: 'x is open source, meaning anyo'\n",
            "Chunk 10: 'ne can view, modify, and distr'\n",
            "Chunk 11: 'ibute its code.\\n'\n"
          ]
        }
      ]
    },
    {
      "cell_type": "markdown",
      "source": [
        "The `.readline()` method reads a single line from the file, including the newline character (`\\n`) at the end. This method is useful when you need to process a file line by line."
      ],
      "metadata": {
        "id": "L19iBn2eHU0A"
      }
    },
    {
      "cell_type": "code",
      "source": [
        "# Reading a file line by line with readline()\n",
        "with open('linux_facts.txt', 'r') as file:\n",
        "    print(\"--- Reading line by line: ---\")\n",
        "    line = file.readline()\n",
        "    line_number = 1\n",
        "\n",
        "    while line:  # Loop until line is empty (end of file)\n",
        "        print(f\"Line {line_number}: {line.strip()}\")  # strip() removes the newline character\n",
        "        line = file.readline()\n",
        "        line_number += 1"
      ],
      "metadata": {
        "colab": {
          "base_uri": "https://localhost:8080/"
        },
        "id": "xp5NFwvGHWvk",
        "outputId": "b892e8b1-937b-423d-d1ef-d73f722adbd0"
      },
      "execution_count": null,
      "outputs": [
        {
          "output_type": "stream",
          "name": "stdout",
          "text": [
            "--- Reading line by line: ---\n",
            "Line 1: Linux was created by Linus Torvalds in 1991 while he was a student.\n",
            "Line 2: The mascot of Linux is a penguin named Tux.\n",
            "Line 3: Over 97% of the world's supercomputers run on Linux.\n",
            "Line 4: Android, which runs on most smartphones, is based on the Linux kernel.\n",
            "Line 5: Linux is open source, meaning anyone can view, modify, and distribute its code.\n"
          ]
        }
      ]
    },
    {
      "cell_type": "markdown",
      "source": [
        "### THe Pythonic Way: Read Files by Iterating Over File Objects\n",
        "A more elegant way to read files line by line is to iterate directly over the file object. This approach is more Pythonic and generally preferred:"
      ],
      "metadata": {
        "id": "JzoApgY3HZy5"
      }
    },
    {
      "cell_type": "code",
      "source": [
        "# Iterating over a file line by line (preferred method)\n",
        "with open('linux_facts.txt', 'r') as file:\n",
        "    print(\"--- Reading line by line with iteration: ---\")\n",
        "    for line_number, line in enumerate(file, 1):\n",
        "        print(f\"Line {line_number}: {line.strip()}\")"
      ],
      "metadata": {
        "colab": {
          "base_uri": "https://localhost:8080/"
        },
        "id": "Oo_XEBspHcIB",
        "outputId": "c23c7d48-e1d0-44fa-c105-ee217c2aea1e"
      },
      "execution_count": null,
      "outputs": [
        {
          "output_type": "stream",
          "name": "stdout",
          "text": [
            "--- Reading line by line with iteration: ---\n",
            "Line 1: Linux was created by Linus Torvalds in 1991 while he was a student.\n",
            "Line 2: The mascot of Linux is a penguin named Tux.\n",
            "Line 3: Over 97% of the world's supercomputers run on Linux.\n",
            "Line 4: Android, which runs on most smartphones, is based on the Linux kernel.\n",
            "Line 5: Linux is open source, meaning anyone can view, modify, and distribute its code.\n"
          ]
        }
      ]
    },
    {
      "cell_type": "markdown",
      "source": [
        "When reading files, it's important to remember that the file cursor keeps track of your position. After reading the entire file, the cursor is at the end, so attempting to read more will return an empty string. If you need to read the file again, you can use the `.seek()` method to move the cursor back to the beginning:"
      ],
      "metadata": {
        "id": "FM9HMef0HeS_"
      }
    },
    {
      "cell_type": "code",
      "source": [
        "with open('linux_facts.txt', 'r') as file:\n",
        "    # Read the entire file\n",
        "    content = file.read()\n",
        "    print(\"--- After reading the file: ---\")\n",
        "    print(f\"Length of content: {len(content)} characters\")\n",
        "\n",
        "    # Try to read more (should be empty)\n",
        "    more_content = file.read()\n",
        "    print(f\"Length of more content: {len(more_content)} characters\")\n",
        "\n",
        "    # Move back to the beginning of the file\n",
        "    file.seek(0)\n",
        "\n",
        "    # Now we can read it again\n",
        "    first_line = file.readline()\n",
        "    print(\"--- After seeking to the beginning: ---\")\n",
        "    print(f\"First line: {first_line.strip()}\")\n"
      ],
      "metadata": {
        "colab": {
          "base_uri": "https://localhost:8080/"
        },
        "id": "Bm0g_pmgHhbm",
        "outputId": "4b579948-4d71-4980-cb17-ebd23091888e"
      },
      "execution_count": null,
      "outputs": [
        {
          "output_type": "stream",
          "name": "stdout",
          "text": [
            "--- After reading the file: ---\n",
            "Length of content: 316 characters\n",
            "Length of more content: 0 characters\n",
            "--- After seeking to the beginning: ---\n",
            "First line: Linux was created by Linus Torvalds in 1991 while he was a student.\n"
          ]
        }
      ]
    },
    {
      "cell_type": "markdown",
      "source": [
        "These reading methods form the foundation of file processing in Python, allowing you to work with file contents in ways that best suit your program's needs and the size of the files you're working with."
      ],
      "metadata": {
        "id": "puOJPdxIHl8c"
      }
    },
    {
      "cell_type": "markdown",
      "source": [
        "# Working with Multiple Lines - The readlines() Function\n",
        "\n",
        "After learning how to write files and read them line by line, let's explore how to efficiently work with multiple lines at once. The `.readlines()` method provides a convenient way to read all lines from a file into a list, allowing you to process the entire file content in memory. In some cases, this can be preferable to the \"Pythonic way\" (of iterating directly over the file object).\n",
        "\n",
        "When you call `.readlines()` on a file object, Python reads all lines from the current position to the end of the file and returns them as a list of strings. Each string in the list represents one line from the file, including the newline character at the end of each line.\n",
        "\n",
        "Let's read the Linux facts file we created earlier using the `.readlines()` method:\n"
      ],
      "metadata": {
        "id": "j-8FcM3QHy_O"
      }
    },
    {
      "cell_type": "code",
      "source": [
        "# Reading all lines into a list\n",
        "with open('linux_facts.txt', 'r') as file:\n",
        "    lines = file.readlines()\n",
        "\n",
        "# Print the list of lines\n",
        "print(lines)\n",
        "\n",
        "# Print the number of lines\n",
        "print(f\"The file has {len(lines)} lines.\")"
      ],
      "metadata": {
        "colab": {
          "base_uri": "https://localhost:8080/"
        },
        "id": "2cxdBAXdHXI6",
        "outputId": "0624d82f-d309-49bd-8834-f3f52380063e"
      },
      "execution_count": null,
      "outputs": [
        {
          "output_type": "stream",
          "name": "stdout",
          "text": [
            "['Linux was created by Linus Torvalds in 1991 while he was a student.\\n', 'The mascot of Linux is a penguin named Tux.\\n', \"Over 97% of the world's supercomputers run on Linux.\\n\", 'Android, which runs on most smartphones, is based on the Linux kernel.\\n', 'Linux is open source, meaning anyone can view, modify, and distribute its code.\\n']\n",
            "The file has 5 lines.\n"
          ]
        }
      ]
    },
    {
      "cell_type": "markdown",
      "source": [
        "The `.readlines()` method is particularly useful when you need to:\n",
        "\n",
        "* Count the number of lines in a file\n",
        "* Access specific lines by their index\n",
        "* Modify lines and write them back to a file\n",
        "* Process all lines in a non-sequential order\n",
        "\n",
        "For large files, be aware that `.readlines()` loads the entire file into memory at once. This can be inefficient or even cause your program to crash if the file is very large. In such cases, it's better to iterate through the file line by line as we saw in the previous section.\n",
        "\n",
        "Let's compare different methods for reading files by measuring how many characters we process:\n",
        "\n",
        "| Method | Use Case | Memory Usage | Speed |\n",
        "|--------|----------|-------------|-------|\n",
        "| `read()` | Small files, need entire content at once | High (entire file) | Fast |\n",
        "| `readline()` | Line-by-line processing | Low (one line at a time) | Medium |\n",
        "| `readlines()` | Need all lines as a list | High (entire file) | Fast |\n",
        "| File iteration | Line-by-line processing | Low (one line at a time) | Fast |\n",
        "\n"
      ],
      "metadata": {
        "id": "4vYzNW9wIRu5"
      }
    },
    {
      "cell_type": "markdown",
      "source": [
        "\n",
        "In practice, the most Pythonic way to process files line by line is still to iterate directly over the file object, but `.readlines()` is valuable when you specifically need a list of all lines, such as when you need to modify the lines and write them back to a file."
      ],
      "metadata": {
        "id": "LtcL0Z0xISN2"
      }
    },
    {
      "cell_type": "markdown",
      "source": [
        "# Handling Errors - Understanding the errno Variable\n",
        "\n",
        "When working with files, many things can go wrong: files might not exist, you might not have permission to access them, or the disk could be full when trying to write. Robust programs need to handle these errors gracefully. Python provides a comprehensive error-handling mechanism through exceptions and the **errno** module, which helps identify specific error types.\n",
        "\n",
        "The `errno` module in Python provides symbolic names for the error codes that the operating system sets when various errors occur. These error codes are integer values, but using their symbolic names makes your code more readable and maintainable.\n",
        "\n",
        "Let's look at some common file operations that might fail and how to handle them using try-except blocks and the errno module:"
      ],
      "metadata": {
        "id": "5An9ByLzI8S8"
      }
    },
    {
      "cell_type": "code",
      "source": [
        "import errno\n",
        "import os\n",
        "\n",
        "# First, let's try to open a file that doesn't exist\n",
        "try:\n",
        "    with open('nonexistent_file.txt', 'r') as file:\n",
        "        content = file.read()\n",
        "except FileNotFoundError as e:\n",
        "    print(f\"Error occurred: {e}\")\n",
        "    print(f\"Error number: {e.errno}\")\n",
        "    print(f\"Error name: {errno.errorcode[e.errno]}\")"
      ],
      "metadata": {
        "colab": {
          "base_uri": "https://localhost:8080/"
        },
        "id": "xlE3q2CoI9ek",
        "outputId": "febd581e-f96f-4606-b6a7-0009f8f3079b"
      },
      "execution_count": null,
      "outputs": [
        {
          "output_type": "stream",
          "name": "stdout",
          "text": [
            "Error occurred: [Errno 2] No such file or directory: 'nonexistent_file.txt'\n",
            "Error number: 2\n",
            "Error name: ENOENT\n"
          ]
        }
      ]
    },
    {
      "cell_type": "markdown",
      "source": [
        "Some common error types you might encounter when working with files include:\n",
        "\n",
        "* **FileNotFoundError**: Occurs when trying to open a file that doesn't exist in read mode\n",
        "* **PermissionError**: Occurs when you don't have permission to access a file\n",
        "* **IsADirectoryError**: Occurs when trying to open a directory as a file\n",
        "* **FileExistsError**: Occurs when trying to create a file that already exists with `'x'` mode\n",
        "\n",
        "You can create a more comprehensive error handler that deals with various file-related errors:\n"
      ],
      "metadata": {
        "id": "rYX0N8OJJHtb"
      }
    },
    {
      "cell_type": "code",
      "source": [
        "def safe_open_file(filename, mode):\n",
        "    try:\n",
        "        file = open(filename, mode)\n",
        "        return file\n",
        "    except FileNotFoundError:\n",
        "        print(f\"The file '{filename}' does not exist.\")\n",
        "    except PermissionError:\n",
        "        print(f\"You don't have permission to access '{filename}'.\")\n",
        "    except IsADirectoryError:\n",
        "        print(f\"'{filename}' is a directory, not a file.\")\n",
        "    except IOError as e:\n",
        "        if e.errno == errno.ENOSPC:\n",
        "            print(\"No space left on device.\")\n",
        "        elif e.errno == errno.EMFILE:\n",
        "            print(\"Too many open files.\")\n",
        "        else:\n",
        "            print(f\"I/O error({e.errno}): {e.strerror}\")\n",
        "    return None"
      ],
      "metadata": {
        "id": "95CcZzecJK8M"
      },
      "execution_count": null,
      "outputs": []
    },
    {
      "cell_type": "code",
      "source": [
        "# Test with a nonexistent file\n",
        "file = safe_open_file('nonexistent_file.txt', 'r')\n",
        "if file:\n",
        "    print(\"File opened successfully.\")\n",
        "    file.close()\n"
      ],
      "metadata": {
        "colab": {
          "base_uri": "https://localhost:8080/"
        },
        "id": "6hVhW7G6JNlB",
        "outputId": "6a35a90d-a366-44eb-a017-a33a0507fd71"
      },
      "execution_count": null,
      "outputs": [
        {
          "output_type": "stream",
          "name": "stdout",
          "text": [
            "The file 'nonexistent_file.txt' does not exist.\n"
          ]
        }
      ]
    },
    {
      "cell_type": "code",
      "source": [
        "# Test with a directory\n",
        "file = safe_open_file('.', 'r')  # Try to open the current directory as a file\n",
        "if file:\n",
        "    print(\"File opened successfully.\")\n",
        "    file.close()"
      ],
      "metadata": {
        "colab": {
          "base_uri": "https://localhost:8080/"
        },
        "id": "zlDkLx4cJQEC",
        "outputId": "ef3904d9-f0cc-4c25-ffcc-f5bf54fe4912"
      },
      "execution_count": null,
      "outputs": [
        {
          "output_type": "stream",
          "name": "stdout",
          "text": [
            "'.' is a directory, not a file.\n"
          ]
        }
      ]
    },
    {
      "cell_type": "markdown",
      "source": [
        "When working with file operations in Python, it's important to understand that errors are represented as exceptions, which are special objects that contain information about what went wrong. The `errno` attribute of these exceptions contains the error code from the operating system.\n",
        "\n",
        "| Common errno Values | Symbolic Name | Description |\n",
        "|--------------------|---------------|-------------|\n",
        "| 2 | ENOENT | No such file or directory |\n",
        "| 13 | EACCES | Permission denied |\n",
        "| 17 | EXIST | File exists |\n",
        "| 21 | EISDIR | Is a directory |\n",
        "| 28 | ENOSPC | No space left on device |\n",
        "\n",
        "The context manager pattern using `with` automatically handles many common errors for you, such as ensuring files are closed properly even if an exception occurs. This is why it's the recommended approach for file operations in Python:"
      ],
      "metadata": {
        "id": "8qUJjWHQJVdG"
      }
    },
    {
      "cell_type": "code",
      "source": [
        "try:\n",
        "    with open('linux_facts.txt', 'r') as file:\n",
        "        content = file.read()\n",
        "        print(f\"Successfully read {len(content)} characters.\")\n",
        "except FileNotFoundError:\n",
        "    print(\"File not found. Creating a new one...\")\n",
        "    with open('linux_facts.txt', 'w') as file:\n",
        "        file.write(\"This is a new file created when the original was not found.\\n\")"
      ],
      "metadata": {
        "colab": {
          "base_uri": "https://localhost:8080/"
        },
        "id": "Z3vsG977JXQQ",
        "outputId": "b82a1007-5d26-401d-c7e8-c8d68baf6626"
      },
      "execution_count": null,
      "outputs": [
        {
          "output_type": "stream",
          "name": "stdout",
          "text": [
            "Successfully read 316 characters.\n"
          ]
        }
      ]
    },
    {
      "cell_type": "markdown",
      "source": [
        "Understanding how to handle file errors properly will make your programs more robust and user-friendly, especially when dealing with user-provided filenames or operating in environments where file access might be restricted."
      ],
      "metadata": {
        "id": "vqxaYdp2JZjP"
      }
    },
    {
      "cell_type": "markdown",
      "source": [
        "# Safely Closing Files with close()\n",
        "\n",
        "Properly closing files after you're done with them is a critical aspect of file I/O operations. When you open a file, the operating system allocates resources to track the file and maintain its state. The `.close()` method releases these resources, ensuring your program doesn't waste memory or keep files locked unnecessarily. It also guarantees that any buffered data is written to disk.\n",
        "\n",
        "The `.close()` method is straightforward to use, but it's important to understand why and when you should use it."
      ],
      "metadata": {
        "id": "uzSieF6FJja7"
      }
    },
    {
      "cell_type": "code",
      "source": [
        "# Basic pattern for opening and closing a file\n",
        "file = open('linux_facts.txt', 'r')\n",
        "# Do something with the file\n",
        "content = file.read()\n",
        "# Close the file when done\n",
        "file.close()\n",
        "\n",
        "print(f\"File closed? {file.closed}\")  # Should print True"
      ],
      "metadata": {
        "colab": {
          "base_uri": "https://localhost:8080/"
        },
        "id": "YpEpS5SsJlLB",
        "outputId": "b54f0b16-ef99-4797-8b82-05398246a98c"
      },
      "execution_count": null,
      "outputs": [
        {
          "output_type": "stream",
          "name": "stdout",
          "text": [
            "File closed? True\n"
          ]
        }
      ]
    },
    {
      "cell_type": "markdown",
      "source": [
        "Failing to close files can lead to several problems:\n",
        "\n",
        "* **Resource leaks**: Each open file consumes operating system resources that aren't freed until the file is closed.\n",
        "* **Data loss**: Buffered data that hasn't been written to disk might be lost if the program exits without closing the file.\n",
        "* **File locking**: On some systems, other programs might be prevented from accessing a file while it's open.\n",
        "\n",
        "However, manually calling `.close()` has a potential problem: if an exception occurs between opening the file and closing it, the `.close()` method might never be executed. To address this issue, you should use a `try-finally` block:\n"
      ],
      "metadata": {
        "id": "-B-N-sWiJnfs"
      }
    },
    {
      "cell_type": "code",
      "source": [
        "file = None\n",
        "try:\n",
        "    file = open('linux_facts.txt', 'r')\n",
        "    content = file.read()\n",
        "    # Code that might raise an exception\n",
        "    print(f\"File content length: {len(content)}\")\n",
        "finally:\n",
        "    # This block always executes, even if an exception occurred\n",
        "    if file is not None and not file.closed:\n",
        "        file.close()\n",
        "        print(\"File closed in finally block\")"
      ],
      "metadata": {
        "colab": {
          "base_uri": "https://localhost:8080/"
        },
        "id": "mUzjRQpPJrv_",
        "outputId": "ffecd327-8d64-480f-888a-bd2710939abd"
      },
      "execution_count": null,
      "outputs": [
        {
          "output_type": "stream",
          "name": "stdout",
          "text": [
            "File content length: 316\n",
            "File closed in finally block\n"
          ]
        }
      ]
    },
    {
      "cell_type": "markdown",
      "source": [
        "A much cleaner and more recommended approach is to use Python's context manager with the `with` statement. The context manager automatically closes the file when execution leaves the indented block, even if an exception occurs:"
      ],
      "metadata": {
        "id": "k1RrVrasJuHv"
      }
    },
    {
      "cell_type": "code",
      "source": [
        "# Recommended approach using context manager\n",
        "with open('linux_facts.txt', 'r') as file:\n",
        "    content = file.read()\n",
        "    print(f\"Inside 'with' block - File closed? {file.closed}\")  # Should print False\n",
        "\n",
        "# The file is automatically closed when the block ends\n",
        "print(f\"Outside 'with' block - File closed? {file.closed}\")  # Should print True"
      ],
      "metadata": {
        "colab": {
          "base_uri": "https://localhost:8080/"
        },
        "id": "3QKFnh9UJwzc",
        "outputId": "8b7da193-713a-41da-a24a-53c06f5bcc79"
      },
      "execution_count": null,
      "outputs": [
        {
          "output_type": "stream",
          "name": "stdout",
          "text": [
            "Inside 'with' block - File closed? False\n",
            "Outside 'with' block - File closed? True\n"
          ]
        }
      ]
    },
    {
      "cell_type": "markdown",
      "source": [
        "The `with` statement ensures proper resource management by:\n",
        "\n",
        "1. Opening the file and assigning it to the variable after `as`\n",
        "2. Executing the indented block of code\n",
        "3. Automatically calling `.close()` when execution leaves the block, even if an exception occurs\n",
        "\n",
        "This is why the `with` statement is considered a best practice for file operations in Python. It simplifies your code and makes it more robust by ensuring files are always properly closed.\n",
        "\n",
        "If you need to work with multiple files simultaneously, you can open them in a single `with` statement:"
      ],
      "metadata": {
        "id": "BehEYvGiJ0QJ"
      }
    },
    {
      "cell_type": "code",
      "source": [
        "# Working with multiple files\n",
        "with open('linux_facts.txt', 'r') as input_file, open('output.txt', 'w') as output_file:\n",
        "    content = input_file.read()\n",
        "    output_file.write(\"--- Copy of linux_facts.txt ---\\n\")\n",
        "    output_file.write(content)\n",
        "\n",
        "# Both files are automatically closed when the block ends"
      ],
      "metadata": {
        "id": "EoI-6ZowJ3ar"
      },
      "execution_count": null,
      "outputs": []
    },
    {
      "cell_type": "markdown",
      "source": [
        "\n",
        "Always remember that properly closing files is a fundamental aspect of good programming practice, especially in systems programming where resource management is crucial."
      ],
      "metadata": {
        "id": "90PWx0dbJ5NU"
      }
    },
    {
      "cell_type": "code",
      "source": [
        "# @title\n",
        "%%html\n",
        "<svg viewBox=\"0 0 700 420\" xmlns=\"http://www.w3.org/2000/svg\">\n",
        "  <style>\n",
        "    .box { stroke-width: 2; }\n",
        "    .step { fill: #e8eaf6; stroke: #3f51b5; rx: 15; ry: 15; }\n",
        "    .code-box { fill: #f5f5f5; stroke: #9e9e9e; rx: 5; ry: 5; }\n",
        "    .arrow { stroke: #5c6bc0; stroke-width: 2; fill: none; marker-end: url(#arrowhead); }\n",
        "    .text { font-family: Arial, sans-serif; }\n",
        "    .title { font-size: 20px; font-weight: bold; fill: #303f9f; }\n",
        "    .subtitle { font-size: 16px; fill: #5c6bc0; }\n",
        "    .step-title { font-size: 16px; font-weight: bold; fill: #283593; }\n",
        "    .step-number { font-size: 20px; font-weight: bold; fill: #ffffff; }\n",
        "    .step-circle { fill: #3f51b5; }\n",
        "    .content { font-size: 13px; fill: #455a64; }\n",
        "    .code { font-family: monospace; font-size: 13px; fill: #37474f; }\n",
        "    .highlight { font-weight: bold; fill: #d81b60; }\n",
        "    .comment { font-size: 12px; fill: #1b5e20; font-style: italic; }\n",
        "    .with-block { fill: #e1f5fe; stroke: #0288d1; stroke-width: 1; stroke-dasharray: 4 2; }\n",
        "    .with-title { font-size: 14px; fill: #0277bd; font-weight: bold; }\n",
        "    .with-code { font-family: monospace; font-size: 12px; fill: #01579b; }\n",
        "    .with-comment { font-size: 11px; fill: #004d40; font-style: italic; }\n",
        "  </style>\n",
        "\n",
        "  <!-- Arrow marker definition -->\n",
        "  <defs>\n",
        "    <marker id=\"arrowhead\" markerWidth=\"10\" markerHeight=\"7\" refX=\"9\" refY=\"3.5\" orient=\"auto\">\n",
        "      <polygon points=\"0 0, 10 3.5, 0 7\" fill=\"#5c6bc0\"/>\n",
        "    </marker>\n",
        "  </defs>\n",
        "\n",
        "  <!-- Title -->\n",
        "  <text x=\"350\" y=\"30\" class=\"text title\" text-anchor=\"middle\">Python File Operations Workflow</text>\n",
        "  <text x=\"350\" y=\"55\" class=\"text subtitle\" text-anchor=\"middle\">The 3-step pattern: Open, Process, Close</text>\n",
        "\n",
        "  <!-- Step 1: Open -->\n",
        "  <rect x=\"200\" y=\"80\" width=\"400\" height=\"90\" class=\"box step\" />\n",
        "  <circle cx=\"220\" cy=\"100\" r=\"15\" class=\"step-circle\" />\n",
        "  <text x=\"220\" y=\"105\" class=\"text step-number\" text-anchor=\"middle\">1</text>\n",
        "  <text x=\"400\" y=\"100\" class=\"text step-title\" text-anchor=\"middle\">OPEN the file</text>\n",
        "\n",
        "  <rect x=\"240\" y=\"115\" width=\"320\" height=\"45\" class=\"box code-box\" />\n",
        "  <text x=\"250\" y=\"135\" class=\"text code\">file = <tspan class=\"highlight\">open</tspan>('example.txt', 'r')</text>\n",
        "  <text x=\"250\" y=\"155\" class=\"text comment\"># Creates a file object/handle to work with</text>\n",
        "\n",
        "  <!-- Step 2: Process -->\n",
        "  <rect x=\"200\" y=\"190\" width=\"400\" height=\"110\" class=\"box step\" />\n",
        "  <circle cx=\"220\" cy=\"210\" r=\"15\" class=\"step-circle\" />\n",
        "  <text x=\"220\" y=\"215\" class=\"text step-number\" text-anchor=\"middle\">2</text>\n",
        "  <text x=\"400\" y=\"210\" class=\"text step-title\" text-anchor=\"middle\">PROCESS the file (read or write)</text>\n",
        "\n",
        "  <rect x=\"240\" y=\"225\" width=\"320\" height=\"65\" class=\"box code-box\" />\n",
        "  <text x=\"250\" y=\"245\" class=\"text code\"># Reading example</text>\n",
        "  <text x=\"250\" y=\"265\" class=\"text code\">content = file.<tspan class=\"highlight\">read</tspan>()</text>\n",
        "  <text x=\"250\" y=\"285\" class=\"text code\"># Writing example</text>\n",
        "  <text x=\"250\" y=\"305\" class=\"text code\">file.<tspan class=\"highlight\">write</tspan>(\"Hello, World!\")</text>\n",
        "\n",
        "  <!-- Step 3: Close -->\n",
        "  <rect x=\"200\" y=\"320\" width=\"400\" height=\"60\" class=\"box step\" />\n",
        "  <circle cx=\"220\" cy=\"340\" r=\"15\" class=\"step-circle\" />\n",
        "  <text x=\"220\" y=\"345\" class=\"text step-number\" text-anchor=\"middle\">3</text>\n",
        "  <text x=\"400\" y=\"340\" class=\"text step-title\" text-anchor=\"middle\">CLOSE the file</text>\n",
        "\n",
        "  <rect x=\"240\" y=\"355\" width=\"320\" height=\"25\" class=\"box code-box\" />\n",
        "  <text x=\"250\" y=\"372\" class=\"text code\">file.<tspan class=\"highlight\">close</tspan>()</text>\n",
        "\n",
        "  <!-- Arrows connecting steps -->\n",
        "  <path d=\"M 400 170 L 400 190\" class=\"arrow\" />\n",
        "  <path d=\"M 400 300 L 400 320\" class=\"arrow\" />\n",
        "\n",
        "  <!-- With statement alternative (expanded and clearer) -->\n",
        "  <rect x=\"50\" y=\"130\" width=\"120\" height=\"200\" class=\"with-block\" />\n",
        "  <text x=\"110\" y=\"115\" class=\"with-title\" text-anchor=\"middle\">Recommended Alternative:</text>\n",
        "  <text x=\"110\" y=\"150\" class=\"with-title\" text-anchor=\"middle\">Using with statement</text>\n",
        "\n",
        "  <rect x=\"60\" y=\"160\" width=\"100\" height=\"100\" class=\"box code-box\" />\n",
        "  <text x=\"65\" y=\"180\" class=\"with-code\">with open('file.txt',</text>\n",
        "  <text x=\"85\" y=\"195\" class=\"with-code\">'r') as file:</text>\n",
        "  <text x=\"80\" y=\"220\" class=\"with-code\">content = </text>\n",
        "  <text x=\"80\" y=\"235\" class=\"with-code\">  file.read()</text>\n",
        "  <text x=\"80\" y=\"250\" class=\"with-code\"># Process data</text>\n",
        "\n",
        "  <text x=\"110\" y=\"280\" class=\"with-comment\" text-anchor=\"middle\">File is automatically</text>\n",
        "  <text x=\"110\" y=\"295\" class=\"with-comment\" text-anchor=\"middle\">closed when the</text>\n",
        "  <text x=\"110\" y=\"310\" class=\"with-comment\" text-anchor=\"middle\">with block ends</text>\n",
        "\n",
        "  <!-- Arrow connecting to main flow -->\n",
        "  <path d=\"M 170 200 L 200 200\" class=\"arrow\" />\n",
        "</svg>"
      ],
      "metadata": {
        "colab": {
          "base_uri": "https://localhost:8080/",
          "height": 870
        },
        "cellView": "form",
        "id": "-_JkN9X3N9AV",
        "outputId": "a2800660-7cd4-48cf-b939-3b9a4143c0a5"
      },
      "execution_count": null,
      "outputs": [
        {
          "output_type": "display_data",
          "data": {
            "text/plain": [
              "<IPython.core.display.HTML object>"
            ],
            "text/html": [
              "<svg viewBox=\"0 0 700 420\" xmlns=\"http://www.w3.org/2000/svg\">\n",
              "  <style>\n",
              "    .box { stroke-width: 2; }\n",
              "    .step { fill: #e8eaf6; stroke: #3f51b5; rx: 15; ry: 15; }\n",
              "    .code-box { fill: #f5f5f5; stroke: #9e9e9e; rx: 5; ry: 5; }\n",
              "    .arrow { stroke: #5c6bc0; stroke-width: 2; fill: none; marker-end: url(#arrowhead); }\n",
              "    .text { font-family: Arial, sans-serif; }\n",
              "    .title { font-size: 20px; font-weight: bold; fill: #303f9f; }\n",
              "    .subtitle { font-size: 16px; fill: #5c6bc0; }\n",
              "    .step-title { font-size: 16px; font-weight: bold; fill: #283593; }\n",
              "    .step-number { font-size: 20px; font-weight: bold; fill: #ffffff; }\n",
              "    .step-circle { fill: #3f51b5; }\n",
              "    .content { font-size: 13px; fill: #455a64; }\n",
              "    .code { font-family: monospace; font-size: 13px; fill: #37474f; }\n",
              "    .highlight { font-weight: bold; fill: #d81b60; }\n",
              "    .comment { font-size: 12px; fill: #1b5e20; font-style: italic; }\n",
              "    .with-block { fill: #e1f5fe; stroke: #0288d1; stroke-width: 1; stroke-dasharray: 4 2; }\n",
              "    .with-title { font-size: 14px; fill: #0277bd; font-weight: bold; }\n",
              "    .with-code { font-family: monospace; font-size: 12px; fill: #01579b; }\n",
              "    .with-comment { font-size: 11px; fill: #004d40; font-style: italic; }\n",
              "  </style>\n",
              "\n",
              "  <!-- Arrow marker definition -->\n",
              "  <defs>\n",
              "    <marker id=\"arrowhead\" markerWidth=\"10\" markerHeight=\"7\" refX=\"9\" refY=\"3.5\" orient=\"auto\">\n",
              "      <polygon points=\"0 0, 10 3.5, 0 7\" fill=\"#5c6bc0\"/>\n",
              "    </marker>\n",
              "  </defs>\n",
              "\n",
              "  <!-- Title -->\n",
              "  <text x=\"350\" y=\"30\" class=\"text title\" text-anchor=\"middle\">Python File Operations Workflow</text>\n",
              "  <text x=\"350\" y=\"55\" class=\"text subtitle\" text-anchor=\"middle\">The 3-step pattern: Open, Process, Close</text>\n",
              "\n",
              "  <!-- Step 1: Open -->\n",
              "  <rect x=\"200\" y=\"80\" width=\"400\" height=\"90\" class=\"box step\" />\n",
              "  <circle cx=\"220\" cy=\"100\" r=\"15\" class=\"step-circle\" />\n",
              "  <text x=\"220\" y=\"105\" class=\"text step-number\" text-anchor=\"middle\">1</text>\n",
              "  <text x=\"400\" y=\"100\" class=\"text step-title\" text-anchor=\"middle\">OPEN the file</text>\n",
              "  \n",
              "  <rect x=\"240\" y=\"115\" width=\"320\" height=\"45\" class=\"box code-box\" />\n",
              "  <text x=\"250\" y=\"135\" class=\"text code\">file = <tspan class=\"highlight\">open</tspan>('example.txt', 'r')</text>\n",
              "  <text x=\"250\" y=\"155\" class=\"text comment\"># Creates a file object/handle to work with</text>\n",
              "\n",
              "  <!-- Step 2: Process -->\n",
              "  <rect x=\"200\" y=\"190\" width=\"400\" height=\"110\" class=\"box step\" />\n",
              "  <circle cx=\"220\" cy=\"210\" r=\"15\" class=\"step-circle\" />\n",
              "  <text x=\"220\" y=\"215\" class=\"text step-number\" text-anchor=\"middle\">2</text>\n",
              "  <text x=\"400\" y=\"210\" class=\"text step-title\" text-anchor=\"middle\">PROCESS the file (read or write)</text>\n",
              "  \n",
              "  <rect x=\"240\" y=\"225\" width=\"320\" height=\"65\" class=\"box code-box\" />\n",
              "  <text x=\"250\" y=\"245\" class=\"text code\"># Reading example</text>\n",
              "  <text x=\"250\" y=\"265\" class=\"text code\">content = file.<tspan class=\"highlight\">read</tspan>()</text>\n",
              "  <text x=\"250\" y=\"285\" class=\"text code\"># Writing example</text>\n",
              "  <text x=\"250\" y=\"305\" class=\"text code\">file.<tspan class=\"highlight\">write</tspan>(\"Hello, World!\")</text>\n",
              "\n",
              "  <!-- Step 3: Close -->\n",
              "  <rect x=\"200\" y=\"320\" width=\"400\" height=\"60\" class=\"box step\" />\n",
              "  <circle cx=\"220\" cy=\"340\" r=\"15\" class=\"step-circle\" />\n",
              "  <text x=\"220\" y=\"345\" class=\"text step-number\" text-anchor=\"middle\">3</text>\n",
              "  <text x=\"400\" y=\"340\" class=\"text step-title\" text-anchor=\"middle\">CLOSE the file</text>\n",
              "  \n",
              "  <rect x=\"240\" y=\"355\" width=\"320\" height=\"25\" class=\"box code-box\" />\n",
              "  <text x=\"250\" y=\"372\" class=\"text code\">file.<tspan class=\"highlight\">close</tspan>()</text>\n",
              "\n",
              "  <!-- Arrows connecting steps -->\n",
              "  <path d=\"M 400 170 L 400 190\" class=\"arrow\" />\n",
              "  <path d=\"M 400 300 L 400 320\" class=\"arrow\" />\n",
              "\n",
              "  <!-- With statement alternative (expanded and clearer) -->\n",
              "  <rect x=\"50\" y=\"130\" width=\"120\" height=\"200\" class=\"with-block\" />\n",
              "  <text x=\"110\" y=\"115\" class=\"with-title\" text-anchor=\"middle\">Recommended Alternative:</text>\n",
              "  <text x=\"110\" y=\"150\" class=\"with-title\" text-anchor=\"middle\">Using with statement</text>\n",
              "  \n",
              "  <rect x=\"60\" y=\"160\" width=\"100\" height=\"100\" class=\"box code-box\" />\n",
              "  <text x=\"65\" y=\"180\" class=\"with-code\">with open('file.txt',</text>\n",
              "  <text x=\"85\" y=\"195\" class=\"with-code\">'r') as file:</text>\n",
              "  <text x=\"80\" y=\"220\" class=\"with-code\">content = </text>\n",
              "  <text x=\"80\" y=\"235\" class=\"with-code\">  file.read()</text>\n",
              "  <text x=\"80\" y=\"250\" class=\"with-code\"># Process data</text>\n",
              "  \n",
              "  <text x=\"110\" y=\"280\" class=\"with-comment\" text-anchor=\"middle\">File is automatically</text>\n",
              "  <text x=\"110\" y=\"295\" class=\"with-comment\" text-anchor=\"middle\">closed when the</text>\n",
              "  <text x=\"110\" y=\"310\" class=\"with-comment\" text-anchor=\"middle\">with block ends</text>\n",
              "  \n",
              "  <!-- Arrow connecting to main flow -->\n",
              "  <path d=\"M 170 200 L 200 200\" class=\"arrow\" />\n",
              "</svg>\n"
            ]
          },
          "metadata": {}
        }
      ]
    },
    {
      "cell_type": "markdown",
      "source": [
        "# Binary Data - Working with bytearrays as I/O Buffers\n",
        "\n",
        "## What Is Binary Data?\n",
        "\n",
        "Before diving into code, let's understand what binary data actually is. All data on a computer is ultimately stored as a series of 0s and 1s (bits). When we talk about **binary data**, we're referring to files where these bits represent raw information rather than text characters.\n",
        "\n",
        "Think of it this way: when you open a text file in Notepad or TextEdit, you see readable words and sentences. That's because text files use specific codes (like ASCII or UTF-8) where certain patterns of bits represent letters, numbers, and symbols. However, if you tried to open an image file or a music file in a text editor, you'd see a jumble of strange characters. That's because these files aren't meant to be interpreted as text—they're binary files.\n",
        "\n",
        "Examples of binary files include:\n",
        "* Images (JPG, PNG, GIF)\n",
        "* Audio files (MP3, WAV)\n",
        "* Video files (MP4, MOV)\n",
        "* Executable programs (.exe, .app)\n",
        "* Database files\n",
        "* Compressed files (ZIP, RAR)\n",
        "\n",
        "## How Binary Data Works\n",
        "\n",
        "In text files, each character typically takes up one byte (8 bits) or more. For example, the letter 'A' is represented by the byte `01000001` in ASCII encoding.\n",
        "\n",
        "Binary data, however, could represent anything:\n",
        "* In an image file, bytes might represent color values for pixels\n",
        "* In an audio file, bytes might represent sound wave amplitudes\n",
        "* In an executable file, bytes might represent computer instructions\n",
        "\n",
        "## Working with Binary Data in Python\n",
        "\n",
        "Python provides several types for handling binary data:\n",
        "* `bytes`: An immutable sequence of bytes (integers from 0 to 255)\n",
        "* `bytearray`: A mutable sequence of bytes that can be modified\n",
        "* `memoryview`: A view of a buffer that allows access without copying data\n",
        "\n",
        "To work with binary files, you need to open them using binary mode by adding `'b'` to the mode string:"
      ],
      "metadata": {
        "id": "S4RaqryWKMQb"
      }
    },
    {
      "cell_type": "code",
      "source": [
        "# Creating a simple binary file with bytes\n",
        "with open('binary_sample.bin', 'wb') as file:  # 'wb' is write binary mode\n",
        "    # Write some bytes to the file\n",
        "    file.write(bytes([65, 66, 67, 68, 69]))  # ASCII values for 'ABCDE'\n",
        "\n",
        "# Let's see what this looks like\n",
        "print(\"Binary file contents (hex representation):\")\n",
        "!hexdump -C binary_sample.bin"
      ],
      "metadata": {
        "colab": {
          "base_uri": "https://localhost:8080/"
        },
        "id": "hSPhUq_cKOyq",
        "outputId": "bc8f67d7-2c2d-42c4-cb14-f6ac3be3b8c5"
      },
      "execution_count": null,
      "outputs": [
        {
          "output_type": "stream",
          "name": "stdout",
          "text": [
            "Binary file contents (hex representation):\n",
            "00000000  41 42 43 44 45                                    |ABCDE|\n",
            "00000005\n"
          ]
        }
      ]
    },
    {
      "cell_type": "code",
      "source": [
        "# @title\n",
        "%%html\n",
        "<svg viewBox=\"0 0 600 450\" xmlns=\"http://www.w3.org/2000/svg\">\n",
        "  <style>\n",
        "    .box { stroke-width: 2; }\n",
        "    .file { fill: #ffffff; stroke: #90a4ae; rx: 5; ry: 5; }\n",
        "    .text-file { fill: #e8f5e9; stroke: #4caf50; }\n",
        "    .binary-file { fill: #fff3e0; stroke: #ff9800; }\n",
        "    .text-cell { fill: #c8e6c9; stroke: #2e7d32; stroke-width: 1; }\n",
        "    .binary-cell { fill: #ffe0b2; stroke: #e65100; stroke-width: 1; }\n",
        "    .text { font-family: Arial, sans-serif; }\n",
        "    .title { font-size: 20px; font-weight: bold; fill: #37474f; }\n",
        "    .subtitle { font-size: 16px; fill: #546e7a; }\n",
        "    .section-title { font-size: 18px; font-weight: bold; }\n",
        "    .text-title { fill: #2e7d32; }\n",
        "    .binary-title { fill: #e65100; }\n",
        "    .label { font-size: 14px; fill: #455a64; font-weight: bold; }\n",
        "    .file-content { font-family: monospace; font-size: 14px; }\n",
        "    .text-content { fill: #1b5e20; }\n",
        "    .binary-content { fill: #bf360c; }\n",
        "    .explanation { font-size: 13px; fill: #455a64; }\n",
        "    .icon { fill: none; stroke-width: 2; }\n",
        "    .text-icon { stroke: #2e7d32; }\n",
        "    .binary-icon { stroke: #e65100; }\n",
        "  </style>\n",
        "\n",
        "  <!-- Title -->\n",
        "  <text x=\"300\" y=\"30\" class=\"text title\" text-anchor=\"middle\">Text vs Binary Files</text>\n",
        "  <text x=\"300\" y=\"55\" class=\"text subtitle\" text-anchor=\"middle\">How computers store different types of data</text>\n",
        "\n",
        "  <!-- Text File Side -->\n",
        "  <text x=\"150\" y=\"90\" class=\"text section-title text-title\" text-anchor=\"middle\">Text File</text>\n",
        "  <rect x=\"50\" y=\"100\" width=\"200\" height=\"140\" class=\"box file text-file\" />\n",
        "\n",
        "  <!-- Text file icon -->\n",
        "  <path d=\"M 80 120 L 100 120 M 80 130 L 110 130 M 80 140 L 105 140\" class=\"icon text-icon\" />\n",
        "\n",
        "  <!-- Text file content -->\n",
        "  <text x=\"150\" y=\"120\" class=\"text label\" text-anchor=\"middle\">example.txt</text>\n",
        "  <foreignObject x=\"60\" y=\"145\" width=\"180\" height=\"80\">\n",
        "    <div xmlns=\"http://www.w3.org/1999/xhtml\" style=\"font-family: monospace; font-size: 14px; color: #1b5e20;\">\n",
        "      Hello, World!<br/>\n",
        "      This is a text file.<br/>\n",
        "      It contains readable<br/>\n",
        "      characters.\n",
        "    </div>\n",
        "  </foreignObject>\n",
        "\n",
        "  <!-- Text file byte representation -->\n",
        "  <text x=\"150\" y=\"255\" class=\"text explanation\" text-anchor=\"middle\">Byte representation (ASCII/UTF-8)</text>\n",
        "\n",
        "  <!-- First row of bytes -->\n",
        "  <rect x=\"50\" y=\"265\" width=\"30\" height=\"30\" class=\"text-cell\" />\n",
        "  <text x=\"65\" y=\"285\" class=\"text file-content text-content\" text-anchor=\"middle\">H</text>\n",
        "\n",
        "  <rect x=\"80\" y=\"265\" width=\"30\" height=\"30\" class=\"text-cell\" />\n",
        "  <text x=\"95\" y=\"285\" class=\"text file-content text-content\" text-anchor=\"middle\">e</text>\n",
        "\n",
        "  <rect x=\"110\" y=\"265\" width=\"30\" height=\"30\" class=\"text-cell\" />\n",
        "  <text x=\"125\" y=\"285\" class=\"text file-content text-content\" text-anchor=\"middle\">l</text>\n",
        "\n",
        "  <rect x=\"140\" y=\"265\" width=\"30\" height=\"30\" class=\"text-cell\" />\n",
        "  <text x=\"155\" y=\"285\" class=\"text file-content text-content\" text-anchor=\"middle\">l</text>\n",
        "\n",
        "  <rect x=\"170\" y=\"265\" width=\"30\" height=\"30\" class=\"text-cell\" />\n",
        "  <text x=\"185\" y=\"285\" class=\"text file-content text-content\" text-anchor=\"middle\">o</text>\n",
        "\n",
        "  <rect x=\"200\" y=\"265\" width=\"30\" height=\"30\" class=\"text-cell\" />\n",
        "  <text x=\"215\" y=\"285\" class=\"text file-content text-content\" text-anchor=\"middle\">,</text>\n",
        "\n",
        "  <rect x=\"230\" y=\"265\" width=\"30\" height=\"30\" class=\"text-cell\" />\n",
        "  <text x=\"245\" y=\"285\" class=\"text file-content text-content\" text-anchor=\"middle\"> </text>\n",
        "\n",
        "  <!-- Second row showing hex codes -->\n",
        "  <rect x=\"50\" y=\"295\" width=\"30\" height=\"30\" class=\"text-cell\" />\n",
        "  <text x=\"65\" y=\"315\" class=\"text file-content text-content\" text-anchor=\"middle\">48</text>\n",
        "\n",
        "  <rect x=\"80\" y=\"295\" width=\"30\" height=\"30\" class=\"text-cell\" />\n",
        "  <text x=\"95\" y=\"315\" class=\"text file-content text-content\" text-anchor=\"middle\">65</text>\n",
        "\n",
        "  <rect x=\"110\" y=\"295\" width=\"30\" height=\"30\" class=\"text-cell\" />\n",
        "  <text x=\"125\" y=\"315\" class=\"text file-content text-content\" text-anchor=\"middle\">6C</text>\n",
        "\n",
        "  <rect x=\"140\" y=\"295\" width=\"30\" height=\"30\" class=\"text-cell\" />\n",
        "  <text x=\"155\" y=\"315\" class=\"text file-content text-content\" text-anchor=\"middle\">6C</text>\n",
        "\n",
        "  <rect x=\"170\" y=\"295\" width=\"30\" height=\"30\" class=\"text-cell\" />\n",
        "  <text x=\"185\" y=\"315\" class=\"text file-content text-content\" text-anchor=\"middle\">6F</text>\n",
        "\n",
        "  <rect x=\"200\" y=\"295\" width=\"30\" height=\"30\" class=\"text-cell\" />\n",
        "  <text x=\"215\" y=\"315\" class=\"text file-content text-content\" text-anchor=\"middle\">2C</text>\n",
        "\n",
        "  <rect x=\"230\" y=\"295\" width=\"30\" height=\"30\" class=\"text-cell\" />\n",
        "  <text x=\"245\" y=\"315\" class=\"text file-content text-content\" text-anchor=\"middle\">20</text>\n",
        "\n",
        "  <!-- Text file key points -->\n",
        "  <foreignObject x=\"50\" y=\"335\" width=\"200\" height=\"100\">\n",
        "    <div xmlns=\"http://www.w3.org/1999/xhtml\" style=\"font-family: Arial, sans-serif; font-size: 13px; color: #455a64;\">\n",
        "      • Characters map to specific byte values<br/>\n",
        "      • Easily readable by humans<br/>\n",
        "      • Line endings vary by OS<br/>\n",
        "      • Encoded using standards like UTF-8<br/>\n",
        "      • Common for: code, logs, configs\n",
        "    </div>\n",
        "  </foreignObject>\n",
        "\n",
        "  <!-- Binary File Side -->\n",
        "  <text x=\"450\" y=\"90\" class=\"text section-title binary-title\" text-anchor=\"middle\">Binary File</text>\n",
        "  <rect x=\"350\" y=\"100\" width=\"200\" height=\"140\" class=\"box file binary-file\" />\n",
        "\n",
        "  <!-- Binary file icon -->\n",
        "  <rect x=\"380\" y=\"120\" width=\"20\" height=\"20\" fill=\"none\" stroke=\"#e65100\" stroke-width=\"2\" />\n",
        "  <path d=\"M 385 125 L 395 125 M 385 130 L 395 130 M 385 135 L 395 135\" class=\"icon binary-icon\" />\n",
        "\n",
        "  <!-- Binary file content representation (image) -->\n",
        "  <text x=\"450\" y=\"120\" class=\"text label\" text-anchor=\"middle\">image.jpg</text>\n",
        "\n",
        "  <!-- Simple image representation -->\n",
        "  <rect x=\"380\" y=\"145\" width=\"140\" height=\"80\" fill=\"#f5f5f5\" stroke=\"#9e9e9e\" />\n",
        "  <circle cx=\"410\" cy=\"165\" r=\"15\" fill=\"#ffca28\" stroke=\"#f57f17\" stroke-width=\"1\" />\n",
        "  <path d=\"M 380 225 L 520 225\" stroke=\"#4caf50\" stroke-width=\"5\" />\n",
        "  <path d=\"M 440 170 C 460 150, 480 180, 500 160\" stroke=\"#2196f3\" stroke-width=\"2\" fill=\"none\" />\n",
        "\n",
        "  <!-- Binary file byte representation -->\n",
        "  <text x=\"450\" y=\"255\" class=\"text explanation\" text-anchor=\"middle\">Byte representation (raw binary)</text>\n",
        "\n",
        "  <!-- First row of bytes -->\n",
        "  <rect x=\"350\" y=\"265\" width=\"30\" height=\"30\" class=\"binary-cell\" />\n",
        "  <text x=\"365\" y=\"285\" class=\"text file-content binary-content\" text-anchor=\"middle\">FF</text>\n",
        "\n",
        "  <rect x=\"380\" y=\"265\" width=\"30\" height=\"30\" class=\"binary-cell\" />\n",
        "  <text x=\"395\" y=\"285\" class=\"text file-content binary-content\" text-anchor=\"middle\">D8</text>\n",
        "\n",
        "  <rect x=\"410\" y=\"265\" width=\"30\" height=\"30\" class=\"binary-cell\" />\n",
        "  <text x=\"425\" y=\"285\" class=\"text file-content binary-content\" text-anchor=\"middle\">FF</text>\n",
        "\n",
        "  <rect x=\"440\" y=\"265\" width=\"30\" height=\"30\" class=\"binary-cell\" />\n",
        "  <text x=\"455\" y=\"285\" class=\"text file-content binary-content\" text-anchor=\"middle\">E0</text>\n",
        "\n",
        "  <rect x=\"470\" y=\"265\" width=\"30\" height=\"30\" class=\"binary-cell\" />\n",
        "  <text x=\"485\" y=\"285\" class=\"text file-content binary-content\" text-anchor=\"middle\">00</text>\n",
        "\n",
        "  <rect x=\"500\" y=\"265\" width=\"30\" height=\"30\" class=\"binary-cell\" />\n",
        "  <text x=\"515\" y=\"285\" class=\"text file-content binary-content\" text-anchor=\"middle\">10</text>\n",
        "\n",
        "  <rect x=\"530\" y=\"265\" width=\"30\" height=\"30\" class=\"binary-cell\" />\n",
        "  <text x=\"545\" y=\"285\" class=\"text file-content binary-content\" text-anchor=\"middle\">4A</text>\n",
        "\n",
        "  <!-- Second row showing more binary data -->\n",
        "  <rect x=\"350\" y=\"295\" width=\"30\" height=\"30\" class=\"binary-cell\" />\n",
        "  <text x=\"365\" y=\"315\" class=\"text file-content binary-content\" text-anchor=\"middle\">46</text>\n",
        "\n",
        "  <rect x=\"380\" y=\"295\" width=\"30\" height=\"30\" class=\"binary-cell\" />\n",
        "  <text x=\"395\" y=\"315\" class=\"text file-content binary-content\" text-anchor=\"middle\">49</text>\n",
        "\n",
        "  <rect x=\"410\" y=\"295\" width=\"30\" height=\"30\" class=\"binary-cell\" />\n",
        "  <text x=\"425\" y=\"315\" class=\"text file-content binary-content\" text-anchor=\"middle\">46</text>\n",
        "\n",
        "  <rect x=\"440\" y=\"295\" width=\"30\" height=\"30\" class=\"binary-cell\" />\n",
        "  <text x=\"455\" y=\"315\" class=\"text file-content binary-content\" text-anchor=\"middle\">00</text>\n",
        "\n",
        "  <rect x=\"470\" y=\"295\" width=\"30\" height=\"30\" class=\"binary-cell\" />\n",
        "  <text x=\"485\" y=\"315\" class=\"text file-content binary-content\" text-anchor=\"middle\">01</text>\n",
        "\n",
        "  <rect x=\"500\" y=\"295\" width=\"30\" height=\"30\" class=\"binary-cell\" />\n",
        "  <text x=\"515\" y=\"315\" class=\"text file-content binary-content\" text-anchor=\"middle\">01</text>\n",
        "\n",
        "  <rect x=\"530\" y=\"295\" width=\"30\" height=\"30\" class=\"binary-cell\" />\n",
        "  <text x=\"545\" y=\"315\" class=\"text file-content binary-content\" text-anchor=\"middle\">00</text>\n",
        "\n",
        "  <!-- Binary file key points -->\n",
        "  <foreignObject x=\"350\" y=\"335\" width=\"200\" height=\"100\">\n",
        "    <div xmlns=\"http://www.w3.org/1999/xhtml\" style=\"font-family: Arial, sans-serif; font-size: 13px; color: #455a64;\">\n",
        "      • Raw bytes with specific meaning<br/>\n",
        "      • Not readable as text<br/>\n",
        "      • No line ending translations<br/>\n",
        "      • Exact byte-for-byte precision<br/>\n",
        "      • Common for: images, audio, executables\n",
        "    </div>\n",
        "  </foreignObject>\n",
        "</svg>"
      ],
      "metadata": {
        "cellView": "form",
        "colab": {
          "base_uri": "https://localhost:8080/",
          "height": 1000
        },
        "id": "shHSUNhzNUCf",
        "outputId": "0e315bff-1c21-4057-c8e5-ecedf4ba216e"
      },
      "execution_count": null,
      "outputs": [
        {
          "output_type": "display_data",
          "data": {
            "text/plain": [
              "<IPython.core.display.HTML object>"
            ],
            "text/html": [
              "<svg viewBox=\"0 0 600 450\" xmlns=\"http://www.w3.org/2000/svg\">\n",
              "  <style>\n",
              "    .box { stroke-width: 2; }\n",
              "    .file { fill: #ffffff; stroke: #90a4ae; rx: 5; ry: 5; }\n",
              "    .text-file { fill: #e8f5e9; stroke: #4caf50; }\n",
              "    .binary-file { fill: #fff3e0; stroke: #ff9800; }\n",
              "    .text-cell { fill: #c8e6c9; stroke: #2e7d32; stroke-width: 1; }\n",
              "    .binary-cell { fill: #ffe0b2; stroke: #e65100; stroke-width: 1; }\n",
              "    .text { font-family: Arial, sans-serif; }\n",
              "    .title { font-size: 20px; font-weight: bold; fill: #37474f; }\n",
              "    .subtitle { font-size: 16px; fill: #546e7a; }\n",
              "    .section-title { font-size: 18px; font-weight: bold; }\n",
              "    .text-title { fill: #2e7d32; }\n",
              "    .binary-title { fill: #e65100; }\n",
              "    .label { font-size: 14px; fill: #455a64; font-weight: bold; }\n",
              "    .file-content { font-family: monospace; font-size: 14px; }\n",
              "    .text-content { fill: #1b5e20; }\n",
              "    .binary-content { fill: #bf360c; }\n",
              "    .explanation { font-size: 13px; fill: #455a64; }\n",
              "    .icon { fill: none; stroke-width: 2; }\n",
              "    .text-icon { stroke: #2e7d32; }\n",
              "    .binary-icon { stroke: #e65100; }\n",
              "  </style>\n",
              "\n",
              "  <!-- Title -->\n",
              "  <text x=\"300\" y=\"30\" class=\"text title\" text-anchor=\"middle\">Text vs Binary Files</text>\n",
              "  <text x=\"300\" y=\"55\" class=\"text subtitle\" text-anchor=\"middle\">How computers store different types of data</text>\n",
              "\n",
              "  <!-- Text File Side -->\n",
              "  <text x=\"150\" y=\"90\" class=\"text section-title text-title\" text-anchor=\"middle\">Text File</text>\n",
              "  <rect x=\"50\" y=\"100\" width=\"200\" height=\"140\" class=\"box file text-file\" />\n",
              "  \n",
              "  <!-- Text file icon -->\n",
              "  <path d=\"M 80 120 L 100 120 M 80 130 L 110 130 M 80 140 L 105 140\" class=\"icon text-icon\" />\n",
              "  \n",
              "  <!-- Text file content -->\n",
              "  <text x=\"150\" y=\"120\" class=\"text label\" text-anchor=\"middle\">example.txt</text>\n",
              "  <foreignObject x=\"60\" y=\"145\" width=\"180\" height=\"80\">\n",
              "    <div xmlns=\"http://www.w3.org/1999/xhtml\" style=\"font-family: monospace; font-size: 14px; color: #1b5e20;\">\n",
              "      Hello, World!<br/>\n",
              "      This is a text file.<br/>\n",
              "      It contains readable<br/>\n",
              "      characters.\n",
              "    </div>\n",
              "  </foreignObject>\n",
              "  \n",
              "  <!-- Text file byte representation -->\n",
              "  <text x=\"150\" y=\"255\" class=\"text explanation\" text-anchor=\"middle\">Byte representation (ASCII/UTF-8)</text>\n",
              "  \n",
              "  <!-- First row of bytes -->\n",
              "  <rect x=\"50\" y=\"265\" width=\"30\" height=\"30\" class=\"text-cell\" />\n",
              "  <text x=\"65\" y=\"285\" class=\"text file-content text-content\" text-anchor=\"middle\">H</text>\n",
              "  \n",
              "  <rect x=\"80\" y=\"265\" width=\"30\" height=\"30\" class=\"text-cell\" />\n",
              "  <text x=\"95\" y=\"285\" class=\"text file-content text-content\" text-anchor=\"middle\">e</text>\n",
              "  \n",
              "  <rect x=\"110\" y=\"265\" width=\"30\" height=\"30\" class=\"text-cell\" />\n",
              "  <text x=\"125\" y=\"285\" class=\"text file-content text-content\" text-anchor=\"middle\">l</text>\n",
              "  \n",
              "  <rect x=\"140\" y=\"265\" width=\"30\" height=\"30\" class=\"text-cell\" />\n",
              "  <text x=\"155\" y=\"285\" class=\"text file-content text-content\" text-anchor=\"middle\">l</text>\n",
              "  \n",
              "  <rect x=\"170\" y=\"265\" width=\"30\" height=\"30\" class=\"text-cell\" />\n",
              "  <text x=\"185\" y=\"285\" class=\"text file-content text-content\" text-anchor=\"middle\">o</text>\n",
              "  \n",
              "  <rect x=\"200\" y=\"265\" width=\"30\" height=\"30\" class=\"text-cell\" />\n",
              "  <text x=\"215\" y=\"285\" class=\"text file-content text-content\" text-anchor=\"middle\">,</text>\n",
              "  \n",
              "  <rect x=\"230\" y=\"265\" width=\"30\" height=\"30\" class=\"text-cell\" />\n",
              "  <text x=\"245\" y=\"285\" class=\"text file-content text-content\" text-anchor=\"middle\"> </text>\n",
              "  \n",
              "  <!-- Second row showing hex codes -->\n",
              "  <rect x=\"50\" y=\"295\" width=\"30\" height=\"30\" class=\"text-cell\" />\n",
              "  <text x=\"65\" y=\"315\" class=\"text file-content text-content\" text-anchor=\"middle\">48</text>\n",
              "  \n",
              "  <rect x=\"80\" y=\"295\" width=\"30\" height=\"30\" class=\"text-cell\" />\n",
              "  <text x=\"95\" y=\"315\" class=\"text file-content text-content\" text-anchor=\"middle\">65</text>\n",
              "  \n",
              "  <rect x=\"110\" y=\"295\" width=\"30\" height=\"30\" class=\"text-cell\" />\n",
              "  <text x=\"125\" y=\"315\" class=\"text file-content text-content\" text-anchor=\"middle\">6C</text>\n",
              "  \n",
              "  <rect x=\"140\" y=\"295\" width=\"30\" height=\"30\" class=\"text-cell\" />\n",
              "  <text x=\"155\" y=\"315\" class=\"text file-content text-content\" text-anchor=\"middle\">6C</text>\n",
              "  \n",
              "  <rect x=\"170\" y=\"295\" width=\"30\" height=\"30\" class=\"text-cell\" />\n",
              "  <text x=\"185\" y=\"315\" class=\"text file-content text-content\" text-anchor=\"middle\">6F</text>\n",
              "  \n",
              "  <rect x=\"200\" y=\"295\" width=\"30\" height=\"30\" class=\"text-cell\" />\n",
              "  <text x=\"215\" y=\"315\" class=\"text file-content text-content\" text-anchor=\"middle\">2C</text>\n",
              "  \n",
              "  <rect x=\"230\" y=\"295\" width=\"30\" height=\"30\" class=\"text-cell\" />\n",
              "  <text x=\"245\" y=\"315\" class=\"text file-content text-content\" text-anchor=\"middle\">20</text>\n",
              "  \n",
              "  <!-- Text file key points -->\n",
              "  <foreignObject x=\"50\" y=\"335\" width=\"200\" height=\"100\">\n",
              "    <div xmlns=\"http://www.w3.org/1999/xhtml\" style=\"font-family: Arial, sans-serif; font-size: 13px; color: #455a64;\">\n",
              "      • Characters map to specific byte values<br/>\n",
              "      • Easily readable by humans<br/>\n",
              "      • Line endings vary by OS<br/>\n",
              "      • Encoded using standards like UTF-8<br/>\n",
              "      • Common for: code, logs, configs\n",
              "    </div>\n",
              "  </foreignObject>\n",
              "\n",
              "  <!-- Binary File Side -->\n",
              "  <text x=\"450\" y=\"90\" class=\"text section-title binary-title\" text-anchor=\"middle\">Binary File</text>\n",
              "  <rect x=\"350\" y=\"100\" width=\"200\" height=\"140\" class=\"box file binary-file\" />\n",
              "  \n",
              "  <!-- Binary file icon -->\n",
              "  <rect x=\"380\" y=\"120\" width=\"20\" height=\"20\" fill=\"none\" stroke=\"#e65100\" stroke-width=\"2\" />\n",
              "  <path d=\"M 385 125 L 395 125 M 385 130 L 395 130 M 385 135 L 395 135\" class=\"icon binary-icon\" />\n",
              "  \n",
              "  <!-- Binary file content representation (image) -->\n",
              "  <text x=\"450\" y=\"120\" class=\"text label\" text-anchor=\"middle\">image.jpg</text>\n",
              "  \n",
              "  <!-- Simple image representation -->\n",
              "  <rect x=\"380\" y=\"145\" width=\"140\" height=\"80\" fill=\"#f5f5f5\" stroke=\"#9e9e9e\" />\n",
              "  <circle cx=\"410\" cy=\"165\" r=\"15\" fill=\"#ffca28\" stroke=\"#f57f17\" stroke-width=\"1\" />\n",
              "  <path d=\"M 380 225 L 520 225\" stroke=\"#4caf50\" stroke-width=\"5\" />\n",
              "  <path d=\"M 440 170 C 460 150, 480 180, 500 160\" stroke=\"#2196f3\" stroke-width=\"2\" fill=\"none\" />\n",
              "  \n",
              "  <!-- Binary file byte representation -->\n",
              "  <text x=\"450\" y=\"255\" class=\"text explanation\" text-anchor=\"middle\">Byte representation (raw binary)</text>\n",
              "  \n",
              "  <!-- First row of bytes -->\n",
              "  <rect x=\"350\" y=\"265\" width=\"30\" height=\"30\" class=\"binary-cell\" />\n",
              "  <text x=\"365\" y=\"285\" class=\"text file-content binary-content\" text-anchor=\"middle\">FF</text>\n",
              "  \n",
              "  <rect x=\"380\" y=\"265\" width=\"30\" height=\"30\" class=\"binary-cell\" />\n",
              "  <text x=\"395\" y=\"285\" class=\"text file-content binary-content\" text-anchor=\"middle\">D8</text>\n",
              "  \n",
              "  <rect x=\"410\" y=\"265\" width=\"30\" height=\"30\" class=\"binary-cell\" />\n",
              "  <text x=\"425\" y=\"285\" class=\"text file-content binary-content\" text-anchor=\"middle\">FF</text>\n",
              "  \n",
              "  <rect x=\"440\" y=\"265\" width=\"30\" height=\"30\" class=\"binary-cell\" />\n",
              "  <text x=\"455\" y=\"285\" class=\"text file-content binary-content\" text-anchor=\"middle\">E0</text>\n",
              "  \n",
              "  <rect x=\"470\" y=\"265\" width=\"30\" height=\"30\" class=\"binary-cell\" />\n",
              "  <text x=\"485\" y=\"285\" class=\"text file-content binary-content\" text-anchor=\"middle\">00</text>\n",
              "  \n",
              "  <rect x=\"500\" y=\"265\" width=\"30\" height=\"30\" class=\"binary-cell\" />\n",
              "  <text x=\"515\" y=\"285\" class=\"text file-content binary-content\" text-anchor=\"middle\">10</text>\n",
              "  \n",
              "  <rect x=\"530\" y=\"265\" width=\"30\" height=\"30\" class=\"binary-cell\" />\n",
              "  <text x=\"545\" y=\"285\" class=\"text file-content binary-content\" text-anchor=\"middle\">4A</text>\n",
              "  \n",
              "  <!-- Second row showing more binary data -->\n",
              "  <rect x=\"350\" y=\"295\" width=\"30\" height=\"30\" class=\"binary-cell\" />\n",
              "  <text x=\"365\" y=\"315\" class=\"text file-content binary-content\" text-anchor=\"middle\">46</text>\n",
              "  \n",
              "  <rect x=\"380\" y=\"295\" width=\"30\" height=\"30\" class=\"binary-cell\" />\n",
              "  <text x=\"395\" y=\"315\" class=\"text file-content binary-content\" text-anchor=\"middle\">49</text>\n",
              "  \n",
              "  <rect x=\"410\" y=\"295\" width=\"30\" height=\"30\" class=\"binary-cell\" />\n",
              "  <text x=\"425\" y=\"315\" class=\"text file-content binary-content\" text-anchor=\"middle\">46</text>\n",
              "  \n",
              "  <rect x=\"440\" y=\"295\" width=\"30\" height=\"30\" class=\"binary-cell\" />\n",
              "  <text x=\"455\" y=\"315\" class=\"text file-content binary-content\" text-anchor=\"middle\">00</text>\n",
              "  \n",
              "  <rect x=\"470\" y=\"295\" width=\"30\" height=\"30\" class=\"binary-cell\" />\n",
              "  <text x=\"485\" y=\"315\" class=\"text file-content binary-content\" text-anchor=\"middle\">01</text>\n",
              "  \n",
              "  <rect x=\"500\" y=\"295\" width=\"30\" height=\"30\" class=\"binary-cell\" />\n",
              "  <text x=\"515\" y=\"315\" class=\"text file-content binary-content\" text-anchor=\"middle\">01</text>\n",
              "  \n",
              "  <rect x=\"530\" y=\"295\" width=\"30\" height=\"30\" class=\"binary-cell\" />\n",
              "  <text x=\"545\" y=\"315\" class=\"text file-content binary-content\" text-anchor=\"middle\">00</text>\n",
              "  \n",
              "  <!-- Binary file key points -->\n",
              "  <foreignObject x=\"350\" y=\"335\" width=\"200\" height=\"100\">\n",
              "    <div xmlns=\"http://www.w3.org/1999/xhtml\" style=\"font-family: Arial, sans-serif; font-size: 13px; color: #455a64;\">\n",
              "      • Raw bytes with specific meaning<br/>\n",
              "      • Not readable as text<br/>\n",
              "      • No line ending translations<br/>\n",
              "      • Exact byte-for-byte precision<br/>\n",
              "      • Common for: images, audio, executables\n",
              "    </div>\n",
              "  </foreignObject>\n",
              "</svg>\n"
            ]
          },
          "metadata": {}
        }
      ]
    },
    {
      "cell_type": "markdown",
      "source": [
        "In the code above:\n",
        "* We open a file in `'wb'` mode (write binary)\n",
        "* `bytes([65, 66, 67, 68, 69])` creates an immutable bytes object containing 5 bytes\n",
        "* These bytes happen to correspond to ASCII characters 'ABCDE', but in binary files, bytes often don't represent text\n",
        "\n",
        "The `hexdump` command shows the raw bytes in hexadecimal format, which is a convenient way to view binary data.\n",
        "\n",
        "## Understanding bytearrays as Buffers\n",
        "\n",
        "A **buffer** in computing is a region of memory used to temporarily store data while it's being moved from one place to another. Think of it like a bucket that you use to carry water from a well to your house—you don't carry one drop at a time.\n",
        "\n",
        "A **bytearray** in Python is perfect for use as a buffer because:\n",
        "1. It's mutable, so you can change its contents\n",
        "2. It's a collection of bytes, which is exactly what binary files consist of\n",
        "3. It has a fixed size, making memory management predictable\n",
        "\n",
        "Here's how to use a bytearray as a buffer for reading binary data:"
      ],
      "metadata": {
        "id": "QOEUbiJIKWj5"
      }
    },
    {
      "cell_type": "code",
      "source": [
        "# Reading binary data into a bytearray buffer\n",
        "buffer = bytearray(10)  # Create a 10-byte buffer filled with zeros\n",
        "\n",
        "# Let's look at the initial buffer\n",
        "print(\"Initial buffer (empty):\")\n",
        "print(f\"Buffer content: {buffer}\")\n",
        "print(f\"Buffer in hexadecimal: {buffer.hex()}\")\n",
        "\n",
        "# Now read some data into the buffer\n",
        "with open('binary_sample.bin', 'rb') as file:  # 'rb' is read binary mode\n",
        "    # The readinto() method reads directly into our buffer\n",
        "    bytes_read = file.readinto(buffer)\n",
        "\n",
        "    print(f\"\\nAfter reading, we got {bytes_read} bytes into the buffer\")\n",
        "    print(f\"Buffer content now: {buffer}\")\n",
        "    print(f\"As characters (where possible): {buffer[:bytes_read].decode('ascii')}\")\n",
        "    print(f\"In hexadecimal: {buffer.hex()}\")"
      ],
      "metadata": {
        "colab": {
          "base_uri": "https://localhost:8080/"
        },
        "id": "xSTf5VcZKaPk",
        "outputId": "0a31e61a-0bf3-4a09-eb9e-34db7796638e"
      },
      "execution_count": null,
      "outputs": [
        {
          "output_type": "stream",
          "name": "stdout",
          "text": [
            "Initial buffer (empty):\n",
            "Buffer content: bytearray(b'\\x00\\x00\\x00\\x00\\x00\\x00\\x00\\x00\\x00\\x00')\n",
            "Buffer in hexadecimal: 00000000000000000000\n",
            "\n",
            "After reading, we got 5 bytes into the buffer\n",
            "Buffer content now: bytearray(b'ABCDE\\x00\\x00\\x00\\x00\\x00')\n",
            "As characters (where possible): ABCDE\n",
            "In hexadecimal: 41424344450000000000\n"
          ]
        }
      ]
    },
    {
      "cell_type": "markdown",
      "source": [
        "In this example:\n",
        "* We create a 10-byte buffer initialized with zeros\n",
        "* `file.readinto(buffer)` reads from the file directly into our buffer\n",
        "* It returns the number of bytes actually read\n",
        "* We then display the buffer contents in different formats\n",
        "\n",
        "The advantage of using a bytearray buffer becomes clearer when working with larger files or when you need to process data in small chunks."
      ],
      "metadata": {
        "id": "dIwAk2RZKd2V"
      }
    },
    {
      "cell_type": "markdown",
      "source": [
        "# Conclusion - File Operations in the Real World\n",
        "\n",
        "Throughout this chapter, we've explored the essential concepts of operating systems and file operations in Python. These skills form a crucial foundation for many aspects of programming, from simple data storage to complex system interactions. Let's recap what we've learned and see how these concepts apply in real-world programming.\n",
        "\n",
        "## Key Concepts We've Covered\n",
        "\n",
        "### Operating System Fundamentals\n",
        "We started by understanding what an operating system is and how it manages computer resources. Linux served as our example OS, showing how files are organized in a hierarchical structure and how the OS handles the communication between software and hardware.\n",
        "\n",
        "### Input/Output Basics\n",
        "We learned about **streams** as sequences of data flowing between sources and destinations, **file handles** as references to open files, and the different **I/O modes** (read, write, append) for accessing files. We also explored the difference between **text mode** and **binary mode** when working with files.\n",
        "\n",
        "### Python File Operations\n",
        "We practiced several essential file operations:\n",
        "* Opening files with the `open()` function\n",
        "* Reading file contents with methods like `.read()`, `.readline()`, and `.readlines()`\n",
        "* Writing data to files with `.write()` and `.writelines()`\n",
        "* Properly closing files with `.close()` or, preferably, the `with` statement\n",
        "* Handling errors with try-except blocks and the `errno` module\n",
        "* Working with binary data using bytearrays as buffers\n",
        "\n",
        "## Why These Skills Matter\n",
        "\n",
        "Understanding file operations isn't just an academic exercise—it's fundamental to many real-world applications:\n",
        "\n",
        "1. **Data Analysis**: Scientists and analysts constantly read data files, process information, and write results to new files.\n",
        "\n",
        "2. **Web Development**: Web servers read file content to serve web pages and write to log files to track activity.\n",
        "\n",
        "3. **App Development**: Mobile and desktop apps store user preferences, save game states, or cache information in files.\n",
        "\n",
        "4. **System Administration**: Scripts that automate tasks often need to read configuration files and write outputs.\n",
        "\n",
        "5. **Databases**: Even sophisticated database systems ultimately store information in files.\n",
        "\n",
        "## Beyond the Basics\n",
        "\n",
        "As you continue your programming journey, you'll encounter more advanced file-related concepts:\n",
        "\n",
        "* **Serialization**: Converting complex data structures to formats that can be stored in files (using libraries like `json` or `pickle`)\n",
        "* **Compressed Files**: Reading and writing to compressed formats like ZIP or GZIP\n",
        "* **Memory-Mapped Files**: Accessing file content directly in memory for high-performance operations\n",
        "* **Database Interfaces**: Using libraries that abstract away file operations behind database queries\n",
        "* **Network File Systems**: Working with files stored on remote servers\n",
        "\n",
        "## Best Practices to Remember\n",
        "\n",
        "As you write your own programs, keep these best practices in mind:\n",
        "\n",
        "* Always use the `with` statement when opening files to ensure they're properly closed\n",
        "* Handle potential errors with try-except blocks, especially when the file might not exist\n",
        "* Choose the appropriate mode (text vs. binary) based on the file's content\n",
        "* When working with large files, process them in chunks rather than loading everything into memory\n",
        "* Document your file operations clearly, especially when creating or modifying binary files\n",
        "* Validate file paths before attempting operations, especially when paths come from user input\n",
        "\n",
        "## Final Thoughts\n",
        "\n",
        "File operations are among the most practical skills you'll learn in programming. They connect your code to the persistent storage that makes programs useful in the real world. Whether you're building a simple text editor, a data analysis pipeline, or a complex web application, the ability to read, write, and manipulate files will be an essential part of your toolkit.\n",
        "\n",
        "As you practice these skills, try creating small projects that involve file operations—perhaps a personal journal program, a simple database, or a tool that analyzes your favorite text files. The more you apply these concepts, the more comfortable you'll become with them, and the more powerful your programs will be."
      ],
      "metadata": {
        "id": "hiaLcZT5OLK7"
      }
    },
    {
      "cell_type": "markdown",
      "source": [
        "# Mini-Project: Create a Basic Quiz App\n",
        "\n",
        "In this mini-project, you'll create a quiz application that demonstrates your understanding of file operations in Python. The application will consist of two parts:\n",
        "1. A quiz data file containing questions and answers\n",
        "2. A Python program that reads the quiz data and presents it to the user\n",
        "\n",
        "## Learning Objectives\n",
        "- Apply file writing operations to create structured data files\n",
        "- Use file reading operations to access and process stored data\n",
        "- Implement basic error handling for file operations\n",
        "- Create an interactive program that manages user input and output\n",
        "\n",
        "## Part 1: Creating the Quiz Data File\n",
        "\n",
        "### Instructions\n",
        "1. First, create a quiz data file using the `%%writefile` magic command in a Jupyter Notebook\n",
        "2. Choose a theme for your quiz (e.g., Computer Science, History, Sports, Entertainment, whatever you want)\n",
        "3. Structure your data file in the following format:\n",
        "   ```\n",
        "   Question 1\n",
        "   Option A\n",
        "   Option B\n",
        "   Option C\n",
        "   Option D\n",
        "   Correct Answer (A, B, C, or D)\n",
        "   \n",
        "   Question 2\n",
        "   Option A\n",
        "   Option B\n",
        "   Option C\n",
        "   Option D\n",
        "   Correct Answer (A, B, C, or D)\n",
        "   ```\n",
        "4. Create at least 5 questions following this format\n",
        "\n",
        "### Example\n",
        "Here's how you would create a simple quiz data file:\n",
        "\n",
        "```python\n",
        "%%writefile cs_quiz.txt\n",
        "What does OS stand for?\n",
        "A) Operating System\n",
        "B) Output System\n",
        "C) Order Status\n",
        "D) Open Software\n",
        "A\n",
        "\n",
        "Which of these is not an operating system?\n",
        "A) Windows\n",
        "B) macOS\n",
        "C) Python\n",
        "D) Linux\n",
        "C\n",
        "```\n",
        "\n",
        "## Part 2: Building the Quiz Application\n",
        "\n",
        "### Instructions\n",
        "Now that you've created your quiz data file, write a Python program that:\n",
        "\n",
        "1. Opens and reads the quiz data file\n",
        "2. Parses the questions, options, and answers\n",
        "3. Presents each question to the user one at a time\n",
        "4. Accepts user input for their answer\n",
        "5. Keeps track of the user's score\n",
        "6. Displays the final score when the quiz is complete\n",
        "\n",
        "### Planning Your Solution\n",
        "Before diving into coding, think about these questions:\n",
        "\n",
        "- How will you read the file line by line?\n",
        "- How can you organize the data into questions, options, and answers?\n",
        "- What happens if the file is not found or has incorrect formatting?\n",
        "- How will you handle user input and scoring?\n",
        "\n",
        "### Implementation Steps\n",
        "Follow these steps to build your quiz application:\n",
        "\n",
        "1. **Open the quiz file**\n",
        "   - Use appropriate error handling in case the file doesn't exist\n",
        "   \n",
        "2. **Read and parse the quiz data**\n",
        "   - Read the file line by line\n",
        "   - Organize the data into a suitable structure (like lists or dictionaries)\n",
        "   \n",
        "3. **Present the quiz**\n",
        "   - Display each question with its options\n",
        "   - Allow the user to input their answer\n",
        "   - Compare with the correct answer\n",
        "   - Keep track of the score\n",
        "   \n",
        "4. **Show results**\n",
        "   - After all questions have been answered, display the final score\n",
        "   - Show a message based on their performance\n",
        "\n",
        "5. **Close the file**\n",
        "   - Make sure the file is properly closed when done\n",
        "\n",
        "## Testing Your Application\n",
        "Once you've built your quiz app, test it thoroughly:\n",
        "- Does it handle correct and incorrect answers properly?\n",
        "- What happens if you enter invalid inputs?\n",
        "- Does the scoring system work as expected?\n",
        "\n",
        "## Enhancement Ideas\n",
        "After completing the basic quiz app, consider adding these enhancements:\n",
        "\n",
        "1. **Randomize questions**: Present questions in a random order each time\n",
        "2. **Timer**: Add a time limit for each question\n",
        "3. **Multiple quiz files**: Allow the user to select from different quiz topics\n",
        "4. **Save scores**: Write user scores to a separate file\n",
        "5. **Difficulty levels**: Create easy, medium, and hard questions\n",
        "6. **Hints**: Add an option to get a hint (with a score penalty)\n",
        "7. **User accounts**: Allow different users to take the quiz and track their scores"
      ],
      "metadata": {
        "id": "mxz3X3KIL7Ov"
      }
    },
    {
      "cell_type": "code",
      "source": [
        "%%writefile quiz_questions.dat\n",
        "Put your quiz data here!"
      ],
      "metadata": {
        "id": "sKbd6iAiNAMS"
      },
      "execution_count": null,
      "outputs": []
    },
    {
      "cell_type": "code",
      "source": [
        "# Now, write a python quiz game that uses this"
      ],
      "metadata": {
        "id": "4jEACtaFNNYu"
      },
      "execution_count": null,
      "outputs": []
    }
  ]
}