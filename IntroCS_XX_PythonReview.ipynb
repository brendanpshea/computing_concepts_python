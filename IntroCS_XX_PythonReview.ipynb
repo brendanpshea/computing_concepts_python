{
  "nbformat": 4,
  "nbformat_minor": 0,
  "metadata": {
    "colab": {
      "provenance": [],
      "authorship_tag": "ABX9TyNHqaIJnANADz1nY32RDuYc",
      "include_colab_link": true
    },
    "kernelspec": {
      "name": "python3",
      "display_name": "Python 3"
    },
    "language_info": {
      "name": "python"
    }
  },
  "cells": [
    {
      "cell_type": "markdown",
      "metadata": {
        "id": "view-in-github",
        "colab_type": "text"
      },
      "source": [
        "<a href=\"https://colab.research.google.com/github/brendanpshea/computing_concepts_python/blob/main/IntroCS_XX_PythonReview.ipynb\" target=\"_parent\"><img src=\"https://colab.research.google.com/assets/colab-badge.svg\" alt=\"Open In Colab\"/></a>"
      ]
    },
    {
      "cell_type": "markdown",
      "source": [
        "# A Brief Review of Python (with Batman and Friends)"
      ],
      "metadata": {
        "id": "xkAzmnz62twr"
      }
    },
    {
      "cell_type": "markdown",
      "source": [
        "#### What is Python?\n",
        "\n",
        "Python is an interpreted, high-level programming language. It emphasizes readability and allows for the efficient design of both small-scale scripts and large-scale applications. Created by Guido van Rossum and first released in 1991, Python is Turing complete, which means it can theoretically perform any computation that can be algorithmically described.\n",
        "\n",
        "#### What are its Uses?\n",
        "\n",
        "1. Python has become a cornerstone in the field of **data science** due to its powerful libraries like Pandas and NumPy. Pandas provides data structures for efficiently storing large datasets and time series, while NumPy offers numerical operations to manipulate the data. Data visualization libraries like Matplotlib and Seaborn integrate seamlessly with these data structures, making Python a comprehensive solution for data analysis.\n",
        "\n",
        "2.  Frameworks such as Django and Flask have made Python a popular choice for **web development**. Django provides a high-level framework that encourages rapid development and clean, pragmatic design. It comes with an Object-Relational Mapping (ORM) layer for database operations. Flask, on the other hand, offers more flexibility and is more suited for microservices architecture.\n",
        "\n",
        "3.  Python's ecosystem includes robust libraries for **machine learning** and **artificial intelligence**, such as TensorFlow and PyTorch. TensorFlow, developed by Google, is optimized for neural network training and inference. PyTorch, developed by Facebook, offers dynamic computation graphs, making it particularly useful for research and experimentation.\n",
        "\n",
        "4.  Python excels in **automating repetitive tasks** and **scripting**. Its standard library comes with modules for file manipulation, regular expressions, and networking among others. The language's simplicity and readability make it ideal for quick scripting solutions, from file renaming scripts to complex task automation.\n",
        "\n",
        "5.  Python is widely used in **cybersecurity** for tasks like penetration testing, network scanning, and forensic analysis. Libraries such as Scapy and PyCrypto provide low-level access to network packets and cryptographic algorithms, respectively. Its ability to create powerful cybersecurity tools with relatively few lines of code makes Python a preferred choice in this domain.\n",
        "\n",
        "Each of these uses leverages Python's strengths---its extensive libraries, readability, and community support---to provide efficient and effective solutions across a range of applications."
      ],
      "metadata": {
        "id": "BjCeqocB1Svi"
      }
    },
    {
      "cell_type": "markdown",
      "source": [
        "## Introduction to the Case Study: Meet the Characters of Gotham City\n",
        "\n",
        "In the sprawling, often shadowy landscape of Gotham City, a cast of characters emerges---each with their own unique set of skills, motivations, and roles to play. These characters serve as the dramatis personae for our case study, providing relatable analogies for complex computer science concepts.\n",
        "\n",
        "1.  *Batman--*Also known as Bruce Wayne, Batman is a vigilante hero dedicated to fighting crime and upholding justice. Armed with an array of gadgets and unparalleled combat skills, he serves as the embodiment of strategic planning and execution---akin to a well-designed algorithm in action.\n",
        "\n",
        "2. *Oracle--*Formerly known as Batgirl and real name Barbara Gordon, Oracle is the tech-savvy daughter of Gotham's police commissioner. Paralyzed from the waist down, she has transitioned into an information broker and hacker extraordinaire, coordinating Batman's missions. She represents the power of information processing and data management, much like a computer's central processing unit (CPU).\n",
        "\n",
        "3.  *Robin--* The sidekick to Batman (and leader of the \"Teen Titans\"), Robin is often portrayed as a younger, less experienced crime-fighter. There have been several Robins over the years, each bringing their own skills to the table. Robin symbolizes the modular nature of algorithms, where different components can be swapped in and out to achieve the desired outcome.\n",
        "\n",
        "4.  *Alfred--* Alfred Pennyworth is Batman's loyal butler and confidant, responsible for maintaining the Batcave and providing logistical support. He represents the background processes that optimize and maintain a system, much like garbage collection or memory management in a computer.\n",
        "\n",
        "5.  *The Joker--* Batman's arch-nemesis, the Joker is a criminal mastermind whose actions are often chaotic and unpredictable. He serves as a reminder of the challenges and complexities that can arise in both crime-fighting and computational tasks, representing the \"problems\" that algorithms aim to solve.\n",
        "\n",
        "By drawing parallels between these characters and key computer science concepts, this case study aims to provide a more intuitive understanding of topics like algorithms, data management, and computational efficiency. Just as each character has a role to play in the intricate tapestry of Gotham City, so too do various algorithms and data structures contribute to the complexity and functionality of computer programs."
      ],
      "metadata": {
        "id": "VanJi0GihdQl"
      }
    },
    {
      "cell_type": "markdown",
      "source": [
        "## Algorithms, Python, and the Essence of Computer Science\n",
        "\n",
        "At the core of computer science lies the concept of an **algorithm**---a well-defined sequence of steps or set of rules designed to perform a specific task or solve a particular problem. Algorithms are the building blocks of any computational process, serving as the blueprint for the execution of tasks. They are to computer science what tactics are to Batman and his team: essential frameworks for action.\n",
        "\n",
        "Python serves as a versatile medium for expressing these algorithms. Its syntax is clean and its constructs are high-level, allowing for the clear articulation of computational logic. Python is to algorithms what Oracle's communication systems are to Batman's operations: a means of translating strategy into actionable steps. It provides a wide array of built-in functions, libraries, and frameworks that make it easier to implement complex algorithms, thereby serving as a powerful tool for problem-solving.\n",
        "\n",
        "The study of algorithms and their implementation is central to computer science for several reasons:\n",
        "\n",
        "1.  Understanding the most **efficient** algorithm for a task can significantly reduce computational time and resources, much like how Batman chooses the most effective gadget for a mission.\n",
        "\n",
        "2.  Algorithms can be **optimized** for various constraints such as time, space, or computational complexity. This is akin to how Oracle might optimize data retrieval methods based on the urgency of a situation.\n",
        "\n",
        "3.  Algorithms allow for the **abstraction** of complex tasks into manageable steps, enabling modular and more understandable code. This mirrors how Batman's team breaks down a complex mission into individual responsibilities for each member.\n",
        "\n",
        "4.  Once an algorithm is defined, it can be implemented in any programming language, making it **universally applicable**. This is similar to how a tactical plan can be adapted to different missions.\n",
        "\n",
        "5.  The development of new algorithms can lead to **innovations** in computational science, data analysis, artificial intelligence, and many other fields. Just as Batman's tactics evolve to meet new challenges, so too does the field of computer science through innovative algorithms.\n",
        "\n",
        "Understanding the nature of algorithms, the role of Python in expressing them, and their centrality to computer science provides a foundational framework for diving into more specific topics like searching and sorting. Just as Batman and his allies rely on well-planned strategies and efficient communication to succeed, so too does effective programming rely on well-designed algorithms and their efficient implementation."
      ],
      "metadata": {
        "id": "X9PIpBdYgnBe"
      }
    },
    {
      "cell_type": "markdown",
      "source": [
        "## Datatypes and Variables\n",
        "In Python, datatypes are the classification or categorization of data items. They signify the type of value that tells what operations can be performed on a particular data. Python has several built-in datatypes, which can be grouped into the following categories:\n",
        "\n",
        "1.  Numeric Types include integers (`int`), floating-point numbers (`float`), and complex numbers (`complex`).\n",
        "\n",
        "    -   Example: `batmanAge = 32` (integer), `batmanHeight = 6.2` (float)\n",
        "2.  Sequence Types are lists (`list`), tuples (`tuple`), and range (`range`).\n",
        "\n",
        "    -   Example: `batmanGadgets = [\"Batarang\", \"Grappling Hook\"]` (list)\n",
        "3.  Text Type: This is simply string (`str`).\n",
        "\n",
        "    -   Example: `batmanAlias = \"Bruce Wayne\"` (string)\n",
        "4.  Dictionaries (`dict`) map keys to values.\n",
        "\n",
        "    -   Example: `batmanProfile = {\"alias\": \"Bruce Wayne\", \"occupation\": \"Businessman\"}` (dictionary)\n",
        "5.  Boolean Type are either true or false (`bool`).\n",
        "\n",
        "    -   Example: `isBatmanHuman = True` (boolean)\n",
        "\n",
        "#### How Do I Declare Variables?\n",
        "\n",
        "In Python, variables are declared by assigning a value to a name using the assignment operator `=`. Unlike some languages like C++ or Java, Python does not require you to declare the datatype of the variable explicitly. The interpreter determines the datatype dynamically."
      ],
      "metadata": {
        "id": "M5VGsaOx1uK6"
      }
    },
    {
      "cell_type": "code",
      "source": [
        "# Numeric Types\n",
        "batmanAge = 32  # Integer\n",
        "batmanHeight = 6.2  # Float\n",
        "\n",
        "# Sequence Types\n",
        "batmanGadgets = [\"Batarang\", \"Grappling Hook\"]  # List\n",
        "oracleSkills = (\"Hacking\", \"Information Gathering\")  # Tuple\n",
        "\n",
        "# Text Type\n",
        "alfredRole = \"Butler\"  # String\n",
        "\n",
        "# Mapping Type\n",
        "catwomanProfile = {\"real_name\": \"Selina Kyle\", \"occupation\": \"Thief\"}  # Dictionary\n",
        "\n",
        "# Boolean Type\n",
        "isOracleGenius = True  # Boolean"
      ],
      "metadata": {
        "id": "AvcQ36wG1new"
      },
      "execution_count": null,
      "outputs": []
    },
    {
      "cell_type": "markdown",
      "source": [
        "#### How to Print Variables to Screen with `print()` and f-strings\n",
        "\n",
        "In Python, the `print()` function is used to output text or variables to the console. The function can take multiple arguments and can also format output in various ways. One of the most convenient methods for string formatting is using f-strings, introduced in Python 3.6.\n",
        "\n",
        "Here's how you can print variables using `print()` and f-strings:"
      ],
      "metadata": {
        "id": "pvwumBJE2LJj"
      }
    },
    {
      "cell_type": "code",
      "source": [
        "# Declare variables\n",
        "batmanAlias = \"Bruce Wayne\"\n",
        "riddlerQuestion = \"What belongs to you, but other people use it more than you do?\"\n",
        "riddleAnswer = \"Your name\"\n",
        "\n",
        "# Using print() to display a single variable\n",
        "print(batmanAlias)  # Output: Bruce Wayne\n",
        "\n",
        "# Using print() to display multiple variables\n",
        "print(\"Riddler's Question:\", riddlerQuestion)\n",
        "\n",
        "# Using f-strings for formatted output\n",
        "print(f\"The answer to Riddler's question '{riddlerQuestion}' is {riddleAnswer}.\")\n",
        "\n",
        "# Combining text and variables in f-strings\n",
        "print(f\"{batmanAlias}, also known as Batman, solved the riddle: {riddleAnswer}.\")"
      ],
      "metadata": {
        "colab": {
          "base_uri": "https://localhost:8080/"
        },
        "id": "88Jha1yS2PLe",
        "outputId": "9ca3d4eb-50b1-4aae-c0d6-f84509dc3f3d"
      },
      "execution_count": null,
      "outputs": [
        {
          "output_type": "stream",
          "name": "stdout",
          "text": [
            "Bruce Wayne\n",
            "Riddler's Question: What belongs to you, but other people use it more than you do?\n",
            "The answer to Riddler's question 'What belongs to you, but other people use it more than you do?' is Your name.\n",
            "Bruce Wayne, also known as Batman, solved the riddle: Your name.\n"
          ]
        }
      ]
    },
    {
      "cell_type": "markdown",
      "source": [
        "In the above examples:\n",
        "\n",
        "-   The `print()` function is used to display the value of the variable `batmanAlias`.\n",
        "\n",
        "-   Multiple variables are printed by separating them with a comma inside the `print()` function.\n",
        "\n",
        "-   f-strings are used for formatted output. Inside an f-string, expressions enclosed between curly braces `{}` can be used to embed variables directly into the string. The expressions are evaluated at runtime.\n",
        "\n",
        "This allows for a more readable and concise way to format and print variables in Python."
      ],
      "metadata": {
        "id": "ztFaMaW02hEe"
      }
    },
    {
      "cell_type": "markdown",
      "source": [
        "#### How to Get Input and Cast It to the Correct Data Type\n",
        "\n",
        "In Python, the `input()` function is used to read a line from the standard input (usually the keyboard) and returns it as a string. To convert this string into the desired data type, you can use type casting functions like `int()`, `float()`, and `bool()`.\n",
        "\n",
        "Here's how you can get input and cast it to the correct data type, using a hypothetical scenario where Batman needs to input some information:"
      ],
      "metadata": {
        "id": "dNGfwhng3U6C"
      }
    },
    {
      "cell_type": "code",
      "source": [
        "# Get input as string and store it in a variable\n",
        "jokerAlias = input(\"Enter Joker's alias: \")  # Input will be read as a string\n",
        "\n",
        "# Get numerical input and cast it to integer\n",
        "jokerCrimes = int(input(\"Enter the number of crimes Joker has committed: \"))  # Input will be cast to an integer\n",
        "\n",
        "# Get numerical input and cast it to float\n",
        "jokerHeight = float(input(\"Enter Joker's height in meters: \"))  # Input will be cast to a float\n",
        "\n",
        "# Get boolean input and cast it to boolean\n",
        "isJokerInsane = bool(int(input(\"Is Joker insane? Enter 1 for True and 0 for False: \")))  # Input will be cast to a boolean\n",
        "\n",
        "# Display the collected information using f-strings\n",
        "print(f\"Joker's alias is {jokerAlias}. He has committed {jokerCrimes} crimes and is {jokerHeight} meters tall. Is he insane? {isJokerInsane}.\")\n"
      ],
      "metadata": {
        "colab": {
          "base_uri": "https://localhost:8080/"
        },
        "id": "0VbfuEdo3ZSp",
        "outputId": "06f96669-bf5d-40b8-8e81-8fb8b2253251"
      },
      "execution_count": null,
      "outputs": [
        {
          "output_type": "stream",
          "name": "stdout",
          "text": [
            "Enter Joker's alias: Joker\n",
            "Enter the number of crimes Joker has committed: 6\n",
            "Enter Joker's height in meters: 4.3\n",
            "Is Joker insane? Enter 1 for True and 0 for False: 1\n",
            "Joker's alias is Joker. He has committed 6 crimes and is 4.3 meters tall. Is he insane? True.\n"
          ]
        }
      ]
    },
    {
      "cell_type": "markdown",
      "source": [
        "In this example:\n",
        "\n",
        "-   `input(\"Enter Joker's alias: \")` captures the alias of the Joker as a string. No type casting is required as the alias is already textual information.\n",
        "\n",
        "-   `int(input(\"Enter the number of crimes Joker has committed: \"))` captures the input as a string and then casts it to an integer using the `int()` function.\n",
        "\n",
        "-   `float(input(\"Enter Joker's height in meters: \"))` captures the input as a string and then casts it to a float using the `float()` function.\n",
        "\n",
        "-   `bool(int(input(\"Is Joker insane? Enter 1 for True and 0 for False: \")))` captures the input as a string, casts it to an integer using `int()`, and then further casts it to a boolean using `bool()`.\n",
        "\n",
        "The `print()` function with f-strings is then used to display the collected information, confirming that the inputs have been cast to their appropriate data types."
      ],
      "metadata": {
        "id": "FZPwTOwC3qbA"
      }
    },
    {
      "cell_type": "markdown",
      "source": [
        "#### How to Declare and Use Simple Functions in Python\n",
        "\n",
        "In Python, a function is a reusable block of code that performs a specific task. Functions are declared using the `def` keyword, followed by the function name and parentheses `()`. The code block within the function is indented.\n",
        "\n",
        "\n",
        "```python\n",
        "def function_name(parameters):\n",
        "    # function body\n",
        "    return result\n",
        "```"
      ],
      "metadata": {
        "id": "hdqjLM4D58qk"
      }
    },
    {
      "cell_type": "markdown",
      "source": [
        "For example, let's say Barbara Gordon, also known as Oracle, wants a simple function to calculate her age based on her birth year."
      ],
      "metadata": {
        "id": "SS-D8KB_6I-l"
      }
    },
    {
      "cell_type": "code",
      "source": [
        "def calculate_age(birth_year):\n",
        "    current_year = 2023  # Assuming the current year is 2023\n",
        "    age = current_year - birth_year\n",
        "    return age\n",
        "\n",
        "# Usage\n",
        "oracle_age = calculate_age(1985)\n",
        "print(f\"Oracle's age is {oracle_age}.\")"
      ],
      "metadata": {
        "colab": {
          "base_uri": "https://localhost:8080/"
        },
        "id": "vPaRZPxV6Exa",
        "outputId": "d7e858ed-c8d1-49d9-9470-cdca29f63305"
      },
      "execution_count": null,
      "outputs": [
        {
          "output_type": "stream",
          "name": "stdout",
          "text": [
            "Oracle's age is 38.\n"
          ]
        }
      ]
    },
    {
      "cell_type": "markdown",
      "source": [
        "#### Built-in String Methods\n",
        "\n",
        "Python provides a variety of built-in string methods that can be directly invoked on string objects. For instance, Oracle might frequently use `.upper()` to convert text to uppercase or `.replace()` to replace substrings."
      ],
      "metadata": {
        "id": "YhznR0B_6ZQK"
      }
    },
    {
      "cell_type": "code",
      "source": [
        "message = \"gotham city\"\n",
        "\n",
        "# Basic String Methods\n",
        "print(f\"Original Message: {message}\")\n",
        "print(f\"Uppercase: {message.upper()}\")\n",
        "print(f\"Capitalized: {message.capitalize()}\")\n",
        "print(f\"Replaced 'city' with 'metropolis': {message.replace('city', 'metropolis')}\")\n",
        "\n",
        "# Combining Methods\n",
        "print(f\"Chained Methods (Uppercase + Replace): {message.upper().replace('CITY', 'METROPOLIS')}\")\n",
        "\n",
        "# Finding Substrings\n",
        "print(f\"Position of 'city' in message: {message.find('city')}\")\n"
      ],
      "metadata": {
        "colab": {
          "base_uri": "https://localhost:8080/"
        },
        "id": "S0Ebzyit4dQI",
        "outputId": "38338b70-736b-4d64-def1-229b0de7323d"
      },
      "execution_count": null,
      "outputs": [
        {
          "output_type": "stream",
          "name": "stdout",
          "text": [
            "Original Message: gotham city\n",
            "Uppercase: GOTHAM CITY\n",
            "Capitalized: Gotham city\n",
            "Replaced 'city' with 'metropolis': gotham metropolis\n",
            "Chained Methods (Uppercase + Replace): GOTHAM METROPOLIS\n",
            "Position of 'city' in message: 7\n"
          ]
        }
      ]
    },
    {
      "cell_type": "markdown",
      "source": [
        "## Mathematical Operations with Python's Math Library\n",
        "Given Oracle's penchant for data analysis and cryptography, mathematical operations are indispensable. Python's math library offers a wide range of mathematical functions. Here are five examples:"
      ],
      "metadata": {
        "id": "vd3PBzcR8FWn"
      }
    },
    {
      "cell_type": "code",
      "source": [
        "import math\n",
        "\n",
        "# Basic Operations\n",
        "print(f\"Square root of 16: {math.sqrt(16)}\")\n",
        "print(f\"15.2 rounded up: {math.ceil(15.2)}\")\n",
        "\n",
        "# Trigonometry\n",
        "print(f\"Sine of pi/2: {math.sin(math.pi / 2)}\")\n",
        "\n",
        "# Logarithms and Exponentiation\n",
        "print(f\"Log base 10 of 100: {math.log(100, 10)}\")\n",
        "\n",
        "# Combining Functions\n",
        "print(f\"Hypotenuse calculated from sides 4 and 3: {math.sqrt(math.pow(4, 2) + math.pow(3, 2))}\")\n"
      ],
      "metadata": {
        "colab": {
          "base_uri": "https://localhost:8080/"
        },
        "id": "3MnHxbJp8G0L",
        "outputId": "47e68091-b097-44a9-b224-5dae521cdf1e"
      },
      "execution_count": null,
      "outputs": [
        {
          "output_type": "stream",
          "name": "stdout",
          "text": [
            "Square root of 16: 4.0\n",
            "15.2 rounded up: 16\n",
            "Sine of pi/2: 1.0\n",
            "Log base 10 of 100: 2.0\n",
            "Hypotenuse calculated from sides 4 and 3: 5.0\n"
          ]
        }
      ]
    },
    {
      "cell_type": "markdown",
      "source": [
        "## Generating Random Numbers with Python's Random Library\n",
        "In the realms of cryptography and data sampling, the generation of random numbers is crucial. Python's random library serves this purpose well. Here are five examples:"
      ],
      "metadata": {
        "id": "a4l8SmrD8TrE"
      }
    },
    {
      "cell_type": "code",
      "source": [
        "import random\n",
        "\n",
        "# Basic Random Numbers\n",
        "print(f\"Random integer between 1 and 10: {random.randint(1, 10)}\")\n",
        "print(f\"Random float between 1.0 and 10.0: {random.uniform(1.0, 10.0)}\")\n",
        "\n",
        "# Random Choice from a List\n",
        "heroes = [\"Raven\", \"Superman\", \"Wonder Woman\"]\n",
        "print(f\"Random hero from list: {random.choice(heroes)}\")\n",
        "\n",
        "# Shuffling a List\n",
        "random.shuffle(heroes)\n",
        "print(f\"Shuffled list of heroes: {heroes}\")\n",
        "\n",
        "# Combining Methods\n",
        "print(f\"Random float between sqrt(2) and 3^2: {random.uniform(math.sqrt(2), math.pow(3, 2))}\")"
      ],
      "metadata": {
        "colab": {
          "base_uri": "https://localhost:8080/"
        },
        "id": "RfVsjoRW8VVF",
        "outputId": "3bef7e29-c72e-4358-bcee-926f2836c3ff"
      },
      "execution_count": null,
      "outputs": [
        {
          "output_type": "stream",
          "name": "stdout",
          "text": [
            "Random integer between 1 and 10: 1\n",
            "Random float between 1.0 and 10.0: 5.960407438965776\n",
            "Random hero from list: Superman\n",
            "Shuffled list of heroes: ['Wonder Woman', 'Raven', 'Superman']\n",
            "Random float between sqrt(2) and 3^2: 3.694089829756452\n"
          ]
        }
      ]
    },
    {
      "cell_type": "markdown",
      "source": [
        "## Conditionals and Booleans: Decision-Making with Robin and the Teen Titans\n",
        "In the realm of programming, conditionals and booleans are indispensable for decision-making. They enable the evaluation of conditions, leading to the execution of specific code blocks depending on the truth value of these conditions. For Robin and the Teen Titans, making quick, informed decisions is crucial in their crime-fighting activities. Let's delve into Python's handling of conditionals and booleans through scenarios that could very well be faced by Robin and his team.\n",
        "\n",
        "### Basic if Statement: Is the Team at Full Strength?\n",
        "Robin needs to know if the team is at full strength based on the number of available members."
      ],
      "metadata": {
        "id": "or4LMsVE9ZXa"
      }
    },
    {
      "cell_type": "code",
      "source": [
        "team_members = 5  # Total team members are 5 when at full strength\n",
        "\n",
        "if team_members == 5:\n",
        "    print(\"The team is at full strength. Time for a mission.\")\n",
        "else:\n",
        "    print(\"The team is not at full strength. Proceed with caution.\")\n"
      ],
      "metadata": {
        "colab": {
          "base_uri": "https://localhost:8080/"
        },
        "id": "lHqTxO6G9dp6",
        "outputId": "da5ce421-db73-4340-f230-37b0b8d85e45"
      },
      "execution_count": null,
      "outputs": [
        {
          "output_type": "stream",
          "name": "stdout",
          "text": [
            "The team is at full strength. Time for a mission.\n"
          ]
        }
      ]
    },
    {
      "cell_type": "markdown",
      "source": [
        "##### `elif` Statement: Threat Level Assessment\n",
        "\n",
        "The Teen Titans need to assess the threat level of an incoming danger. The threat level is categorized as 'Low', 'Medium', or 'High'.\n"
      ],
      "metadata": {
        "id": "faVoFlew9k2N"
      }
    },
    {
      "cell_type": "code",
      "source": [
        "threat_level = \"High\"\n",
        "\n",
        "if threat_level == \"Low\":\n",
        "    print(\"Robin: Titans, this should be easy!\")\n",
        "elif threat_level == \"Medium\":\n",
        "    print(\"Robin: Titans, stay alert!\")\n",
        "else:\n",
        "    print(\"Robin: Titans, this is serious. Full power!\")\n"
      ],
      "metadata": {
        "colab": {
          "base_uri": "https://localhost:8080/"
        },
        "id": "LK86s4UV9lg-",
        "outputId": "36f055d8-9d4f-4450-e5f1-6702577b1440"
      },
      "execution_count": null,
      "outputs": [
        {
          "output_type": "stream",
          "name": "stdout",
          "text": [
            "Robin: Titans, this is serious. Full power!\n"
          ]
        }
      ]
    },
    {
      "cell_type": "markdown",
      "source": [
        "##### Nested `if` Statements: Mission Assignment Based on Skills\n",
        "\n",
        "Each member of the Teen Titans has a unique skill set. Robin wants to assign a mission based on who has the required skills."
      ],
      "metadata": {
        "id": "ivT_NNc_9plr"
      }
    },
    {
      "cell_type": "code",
      "source": [
        "mission_type = \"Magic\"\n",
        "cyborg_skills = [\"Tech\", \"Strength\"]\n",
        "raven_skills = [\"Magic\", \"Telekinesis\"]\n",
        "\n",
        "if mission_type in cyborg_skills:\n",
        "    print(\"Cyborg, this mission is yours.\")\n",
        "elif mission_type in raven_skills:\n",
        "    print(\"Raven, you're up.\")\n",
        "else:\n",
        "    print(\"No suitable member for this mission.\")"
      ],
      "metadata": {
        "colab": {
          "base_uri": "https://localhost:8080/"
        },
        "id": "R8Gv3DG22h_X",
        "outputId": "7692f544-a041-4abe-b646-7e473e150765"
      },
      "execution_count": null,
      "outputs": [
        {
          "output_type": "stream",
          "name": "stdout",
          "text": [
            "Raven, you're up.\n"
          ]
        }
      ]
    },
    {
      "cell_type": "markdown",
      "source": [
        "##### Combining Booleans: Is the Mission Doable?\n",
        "\n",
        "Sometimes, the Titans need to decide based on multiple conditions, such as the threat level and the team's strength."
      ],
      "metadata": {
        "id": "N3hzefI893Ck"
      }
    },
    {
      "cell_type": "code",
      "source": [
        "threat_level = \"High\"\n",
        "team_strength = 4  # 1 less than full strength\n",
        "\n",
        "if threat_level == \"High\" and team_strength < 5:\n",
        "    print(\"Robin: This is a high-threat mission and we're not at full strength. Be extra cautious.\")\n",
        "elif threat_level == \"Low\" or team_strength == 5:\n",
        "    print(\"Robin: We can handle this.\")\n",
        "else:\n",
        "    print(\"Robin: Proceed with standard protocols.\")\n"
      ],
      "metadata": {
        "colab": {
          "base_uri": "https://localhost:8080/"
        },
        "id": "bOIer9VA98hh",
        "outputId": "50c6a29f-912f-437c-d5ff-6121ed7cf588"
      },
      "execution_count": null,
      "outputs": [
        {
          "output_type": "stream",
          "name": "stdout",
          "text": [
            "Robin: This is a high-threat mission and we're not at full strength. Be extra cautious.\n"
          ]
        }
      ]
    },
    {
      "cell_type": "markdown",
      "source": [
        "By understanding how to use conditionals and booleans, especially those resulting from relational tests like ==, <, or in, Robin and the Teen Titans can make more nuanced decisions. These constructs offer a robust framework for evaluating conditions and determining the team's course of action."
      ],
      "metadata": {
        "id": "HQQfS1C2-Dwc"
      }
    },
    {
      "cell_type": "markdown",
      "source": [
        "## Introduction to Loops in Python\n",
        "\n",
        "In the programming lexicon, loops are constructs that facilitate the execution of a block of code multiple times, contingent upon certain conditions. They serve as the workhorses of automation, enabling programmers to handle repetitive tasks efficiently. For our hypothetical superheroes, who often find themselves in situations requiring repetitive actions---be it battling an army of clones or disarming a series of traps---loops can serve as a metaphorical framework for understanding their challenges.\n",
        "\n",
        "Two primary types of loops exist in Python: `while` loops and `for` loops.\n",
        "\n",
        "### `while` Loops: The Endurance Test\n",
        "\n",
        "The `while` loop continues execution as long as a specified condition evaluates to `True`. The syntax is straightforward:\n",
        "\n",
        "```python\n",
        "while condition:\n",
        "    # code to execute\n",
        "```\n",
        "\n",
        "The loop will keep executing the indented code block as long as `condition` remains true. It's crucial to include an exit condition to prevent infinite loops.\n",
        "\n",
        "### `for` Loops: The Precision Strike\n",
        "\n",
        "The `for` loop is used for iterating over a sequence (list, tuple, dictionary, set, or string). It's like a precision strike where each target must be dealt with individually. The syntax is equally simple:\n",
        "\n",
        "```python\n",
        "for variable in sequence:\n",
        "    # code to execute\n",
        "```\n",
        "\n",
        "Here, `variable` takes the value of each element in `sequence` one by one, and the indented code block is executed for each value.\n",
        "\n",
        "### When to Use Which Loop?\n",
        "\n",
        "-   Use `while` loops when the number of iterations is unknown or based on a dynamic condition. For example, when the heroes don't know how many enemies they have to defeat.\n",
        "\n",
        "-   Use `for` loops when the number of iterations is known or predefined. For instance, when the heroes know they have to disarm five bombs.\n",
        "\n",
        "Understanding the syntax and appropriate use-cases for `while` and `for` loops equips you with a powerful tool for automating repetitive tasks.  Armed with this knowledge, let's delve into specific scenarios involving battles with some appropriatey named villains."
      ],
      "metadata": {
        "id": "k0PjStinbGUa"
      }
    },
    {
      "cell_type": "markdown",
      "source": [
        "### `while` Loop: Defeating Dr. InfiniteLoop\n",
        "\n",
        "Dr. InfiniteLoop has unleashed an endless army of robots. Our heroes need to keep fighting until their energy reserves are depleted."
      ],
      "metadata": {
        "id": "pvMgHhGuYQsz"
      }
    },
    {
      "cell_type": "code",
      "source": [
        "energy_level = 100  # Initial energy level of the Titans\n",
        "\n",
        "while energy_level > 0:\n",
        "    print(f\"Defeating robots. Energy level: {energy_level}%\")\n",
        "    energy_level -= 10  # Energy decreases by 10% with each iteration\n",
        "print(\"Energy depleted. Titans, retreat!\")\n"
      ],
      "metadata": {
        "id": "4Qeu31UT-KJZ",
        "colab": {
          "base_uri": "https://localhost:8080/"
        },
        "outputId": "402b0fa6-865c-4658-ce57-a86f16789807"
      },
      "execution_count": 1,
      "outputs": [
        {
          "output_type": "stream",
          "name": "stdout",
          "text": [
            "Defeating robots. Energy level: 100%\n",
            "Defeating robots. Energy level: 90%\n",
            "Defeating robots. Energy level: 80%\n",
            "Defeating robots. Energy level: 70%\n",
            "Defeating robots. Energy level: 60%\n",
            "Defeating robots. Energy level: 50%\n",
            "Defeating robots. Energy level: 40%\n",
            "Defeating robots. Energy level: 30%\n",
            "Defeating robots. Energy level: 20%\n",
            "Defeating robots. Energy level: 10%\n",
            "Energy depleted. Titans, retreat!\n"
          ]
        }
      ]
    },
    {
      "cell_type": "markdown",
      "source": [
        "### `for` Loop: Thwarting the Plans of The Enumerator\n",
        "\n",
        "The Enumerator has planted bombs at multiple locations. We need to defuse them one by one."
      ],
      "metadata": {
        "id": "eiGzDTplYk5f"
      }
    },
    {
      "cell_type": "code",
      "source": [
        "bomb_locations = [\"City Hall\", \"Metro Station\", \"Museum\"]\n",
        "\n",
        "# Here, we use a for loop to iterate through a list\n",
        "for location in bomb_locations:\n",
        "    print(f\"Defusing bomb at {location}.\")\n",
        "print(\"All bombs defused. The Enumerator is defeated!\")"
      ],
      "metadata": {
        "colab": {
          "base_uri": "https://localhost:8080/"
        },
        "id": "XV1Wp8s-YnAZ",
        "outputId": "0d1e1bfb-4c17-41aa-caed-ff4269a016d8"
      },
      "execution_count": 2,
      "outputs": [
        {
          "output_type": "stream",
          "name": "stdout",
          "text": [
            "Defusing bomb at City Hall.\n",
            "Defusing bomb at Metro Station.\n",
            "Defusing bomb at Museum.\n",
            "All bombs defused. The Enumerator is defeated!\n"
          ]
        }
      ]
    },
    {
      "cell_type": "markdown",
      "source": [
        "### Nested `for` Loop: Battle Against The Combinatrix\n",
        "\n",
        "The Combinatrix has created multiple barriers, each with several locks. We need to break all the locks on each barrier."
      ],
      "metadata": {
        "id": "xgFx9hMKY3Ma"
      }
    },
    {
      "cell_type": "code",
      "source": [
        "barriers = [\"Fire Barrier\", \"Ice Barrier\"]\n",
        "locks_per_barrier = 3\n",
        "\n",
        "# The outer loop involves iterating through a list\n",
        "for barrier in barriers:\n",
        "    print(f\"Breaking {barrier}.\")\n",
        "\n",
        "    # The inner loops using \"range\" repeat the appropriate number of times\n",
        "    for lock in range(locks_per_barrier):\n",
        "        print(f\"  Breaking lock {lock + 1}.\") # Python starts counting at 0, so add 1\n",
        "print(\"All barriers destroyed. The Combinatrix is defeated!\")"
      ],
      "metadata": {
        "colab": {
          "base_uri": "https://localhost:8080/"
        },
        "id": "T73UEr2lY8OR",
        "outputId": "c6f0a3a2-c694-4979-a751-649d5c07e396"
      },
      "execution_count": 5,
      "outputs": [
        {
          "output_type": "stream",
          "name": "stdout",
          "text": [
            "Breaking Fire Barrier.\n",
            "  Breaking lock 0.\n",
            "  Breaking lock 1.\n",
            "  Breaking lock 2.\n",
            "Breaking Ice Barrier.\n",
            "  Breaking lock 0.\n",
            "  Breaking lock 1.\n",
            "  Breaking lock 2.\n",
            "All barriers destroyed. The Combinatrix is defeated!\n"
          ]
        }
      ]
    },
    {
      "cell_type": "markdown",
      "source": [
        "### `for` Loop with `enumerate`: Capturing The Sequencer\n",
        "\n",
        "The Sequencer has set up a series of traps. We need to know the order in which to disarm them."
      ],
      "metadata": {
        "id": "aF5ZDVZKaT0b"
      }
    },
    {
      "cell_type": "code",
      "source": [
        "traps = [\"Spike Trap\", \"Gas Trap\", \"Net Trap\"]\n",
        "\n",
        "# enumerate gives us TWO values--the index number and the actual value\n",
        "for index, trap in enumerate(traps):\n",
        "    print(f\"Disarming trap {index + 1}: {trap}.\")\n",
        "print(\"All traps disarmed. The Sequencer is captured!\")\n"
      ],
      "metadata": {
        "colab": {
          "base_uri": "https://localhost:8080/"
        },
        "id": "Oqsr-rIiZLlj",
        "outputId": "2cdd5f05-8d1e-4042-f29d-21ab0da7d643"
      },
      "execution_count": 6,
      "outputs": [
        {
          "output_type": "stream",
          "name": "stdout",
          "text": [
            "Disarming trap 1: Spike Trap.\n",
            "Disarming trap 2: Gas Trap.\n",
            "Disarming trap 3: Net Trap.\n",
            "All traps disarmed. The Sequencer is captured!\n"
          ]
        }
      ]
    },
    {
      "cell_type": "markdown",
      "source": [
        "## Big Idea: Abstraction in Python Programs\n",
        "\n",
        "In both programming and the real world, abstraction serves as a mechanism to hide complexity while exposing only the essential features. It allows us to manage and understand intricate systems by breaking them down into simpler, more manageable components. For Batman and his allies, abstraction is a tactical approach to problem-solving---whether it's Batman using his utility belt without needing to know how each gadget was engineered, or Oracle coordinating a mission by breaking it down into tasks for each team member.\n",
        "\n",
        "### Functions: The Utility Belt of Abstraction\n",
        "\n",
        "Functions in Python serve as the most straightforward form of abstraction. They encapsulate specific tasks into reusable blocks of code. Just as Batman doesn't need to know the inner workings of every gadget in his utility belt, a programmer using a function doesn't need to understand its internal code to benefit from its functionality."
      ],
      "metadata": {
        "id": "cgtcEu6dbGjn"
      }
    },
    {
      "cell_type": "code",
      "source": [
        "# Function to analyze a piece of text for Oracle\n",
        "def text_analysis(text):\n",
        "    word_count = len(text.split())\n",
        "    unique_words = len(set(text.split()))\n",
        "    return word_count, unique_words\n",
        "\n",
        "# Oracle can use this function repeatedy without repeating code\n",
        "# SHe can even allow others to use it, who don't need to know anything about it!\n",
        "word_count, unique_words = text_analysis(\"Oracle is the eyes and ears of Batman.\")\n",
        "print(f\"Word Count: {word_count}, Unique Words: {unique_words}\")\n"
      ],
      "metadata": {
        "id": "M-7dVc02c3Vj",
        "outputId": "a2773332-dbb9-4148-dffa-24dbeffaaad8",
        "colab": {
          "base_uri": "https://localhost:8080/"
        }
      },
      "execution_count": 7,
      "outputs": [
        {
          "output_type": "stream",
          "name": "stdout",
          "text": [
            "Word Count: 8, Unique Words: 8\n"
          ]
        }
      ]
    },
    {
      "cell_type": "markdown",
      "source": [
        "### Conditionals: Tactical Decision-Making\n",
        "\n",
        "Conditionals in Python, like `if`, `elif`, and `else`, serve as decision-making tools that abstract away the complexity of evaluating multiple conditions. For instance, Batman might use a conditional thought process to decide which gadget to use based on the situation at hand."
      ],
      "metadata": {
        "id": "nA9oKPuHdGW2"
      }
    },
    {
      "cell_type": "code",
      "source": [
        "# Batman deciding which gadget to use\n",
        "threat_level = \"High\"\n",
        "\n",
        "if threat_level == \"Low\":\n",
        "    gadget = \"Smoke Pellets\"\n",
        "elif threat_level == \"Medium\":\n",
        "    gadget = \"Batarang\"\n",
        "else:\n",
        "    gadget = \"Explosive Gel\"\n",
        "\n",
        "print(f\"Batman will use {gadget}.\")\n"
      ],
      "metadata": {
        "id": "sukxBdPhdOft"
      },
      "execution_count": null,
      "outputs": []
    },
    {
      "cell_type": "markdown",
      "source": [
        "### Loops: Automating Repetitive Tasks\n",
        "\n",
        "Loops, such as `while` and `for`, abstract the repetitive nature of tasks, allowing for efficient execution. Alfred, for example, might use a loop to automate the inventory management of Batman's utility belt."
      ],
      "metadata": {
        "id": "XaHJ8dLOdSpt"
      }
    },
    {
      "cell_type": "code",
      "source": [
        "# Alfred managing the utility belt inventory\n",
        "gadgets = [\"Batarang\", \"Smoke Pellets\", \"Explosive Gel\"]\n",
        "inventory = {}\n",
        "\n",
        "for gadget in gadgets:\n",
        "    inventory[gadget] = 5  # Initial stock of each gadget\n",
        "\n",
        "print(\"Utility belt inventory managed by Alfred:\", inventory)"
      ],
      "metadata": {
        "id": "NzVRMXxYdWM6",
        "outputId": "5c3b8be8-aa78-494a-b07d-f2554568097b",
        "colab": {
          "base_uri": "https://localhost:8080/"
        }
      },
      "execution_count": 8,
      "outputs": [
        {
          "output_type": "stream",
          "name": "stdout",
          "text": [
            "Utility belt inventory managed by Alfred: {'Batarang': 5, 'Smoke Pellets': 5, 'Explosive Gel': 5}\n"
          ]
        }
      ]
    },
    {
      "cell_type": "markdown",
      "source": [
        "Abstraction, as demonstrated through functions, conditionals, and loops, allows Batman and his allies to focus on the bigger picture—be it solving crimes or saving Gotham—without getting bogged down by the underlying complexities. In programming, abstraction serves a similar purpose, enabling us to write cleaner, more modular, and more understandable code."
      ],
      "metadata": {
        "id": "jHkbngBHdfOw"
      }
    },
    {
      "cell_type": "markdown",
      "source": [
        "## Big Idea: Searching\n",
        "\n",
        "Searching is a fundamental operation, both in the realm of computer science and in the tactical operations of Batman and his allies. Whether it's Oracle searching through databases to find crucial information or Batman scanning Gotham's skyline for signs of trouble, the efficiency of the search process is paramount. In programming, two classic algorithms for searching are Linear Search and Binary Search, each with its own time complexity, often expressed using Big O Notation.\n",
        "\n",
        "### Linear Search: The Street-Level Investigation\n",
        "\n",
        "Linear search is the most straightforward searching algorithm. It involves scanning each element in a list one by one until the target is found. This is akin to Batman patrolling the streets of Gotham, checking each alley and corner for criminal activity."
      ],
      "metadata": {
        "id": "3ndYMeQLd8ot"
      }
    },
    {
      "cell_type": "code",
      "source": [
        "# Function for linear search\n",
        "def linear_search(arr, target):\n",
        "    for i, item in enumerate(arr):\n",
        "        if item == target:\n",
        "            return i\n",
        "    return -1\n",
        "\n",
        "# Example with Batman searching for a suspect\n",
        "suspects = [\"Joker\", \"Two-Face\", \"Penguin\"]\n",
        "result = linear_search(suspects, \"Joker\")\n",
        "print(f\"Suspect found at index {result}.\")\n"
      ],
      "metadata": {
        "id": "rIA6OwwWdOpM"
      },
      "execution_count": null,
      "outputs": []
    },
    {
      "cell_type": "markdown",
      "source": [
        "The time complexity for linear search is $O(n)$, where n is the number of elements in the list. In the worst-case scenario, every element must be checked.\n",
        "\n",
        "### Binary Search: The High-Tech Scan\n",
        "\n",
        "Binary search is a more efficient algorithm but requires that the list be sorted. It repeatedly divides the list in half until the target is found, much like how Oracle might use advanced algorithms to narrow down a search field."
      ],
      "metadata": {
        "id": "eKA2V1VceAr2"
      }
    },
    {
      "cell_type": "code",
      "source": [
        "# Function for binary search\n",
        "def binary_search(arr, target):\n",
        "    low, high = 0, len(arr) - 1\n",
        "    while low <= high:\n",
        "        mid = (low + high) // 2\n",
        "        if arr[mid] == target:\n",
        "            return mid\n",
        "        elif arr[mid] < target:\n",
        "            low = mid + 1\n",
        "        else:\n",
        "            high = mid - 1\n",
        "    return -1\n",
        "\n",
        "# Example with Oracle searching for a code\n",
        "codes = [101, 102, 103, 104, 105]\n",
        "result = binary_search(codes, 104)\n",
        "print(f\"Code found at index {result}.\")\n"
      ],
      "metadata": {
        "id": "ShYNeSSjeQnA"
      },
      "execution_count": null,
      "outputs": []
    },
    {
      "cell_type": "markdown",
      "source": [
        "The time complexity for binary search is $O(log_n)$, making it significantly faster for large lists. However, it requires that the list be sorted ahead of time.\n",
        "\n",
        "### Big O Notation: The Efficiency Metric\n",
        "\n",
        "Big O Notation provides a high-level understanding of the time complexity of an algorithm, abstracting away the lower-level operations and constants. It gives us a way to talk about how the runtime of an algorithm grows as the size of the input increases.\n",
        "\n",
        "-   $O(n)$: Linear time complexity, as seen in linear search.\n",
        "-   $O(log_n)$: Logarithmic time complexity, as seen in binary search.\n",
        "\n",
        "Understanding the mechanics of searching algorithms and their efficiencies allows Batman and his allies to choose the most effective strategy for their operations. Similarly, knowing when to use linear or binary search, and understanding their time complexities, can significantly impact the efficiency of a Python program."
      ],
      "metadata": {
        "id": "gMTjLIYFeS8p"
      }
    },
    {
      "cell_type": "markdown",
      "source": [
        "## Big Ideas: Sorting\n",
        "\n",
        "Sorting is a foundational concept in computer science, akin to organizing a toolkit for immediate and effective use. For Batman and his team, sorting could be likened to arranging gadgets in the utility belt for quick access or Oracle categorizing data for efficient retrieval. Two classic sorting algorithms often discussed are Bubble Sort and Quick Sort, each with its own time complexity, commonly expressed in Big O Notation.\n",
        "\n",
        "### Bubble Sort: The Basic Organization\n",
        "\n",
        "Bubble Sort is one of the simplest sorting algorithms. It repeatedly steps through the list, compares adjacent elements, and swaps them if they are in the wrong order. This is similar to how Alfred might organize Batman's utility belt, carefully placing each gadget in its designated slot."
      ],
      "metadata": {
        "id": "LUXWjbz3ePKA"
      }
    },
    {
      "cell_type": "code",
      "source": [
        "# Function for bubble sort\n",
        "def bubble_sort(arr):\n",
        "    n = len(arr)\n",
        "    for i in range(n):\n",
        "        for j in range(0, n-i-1):\n",
        "            if arr[j] > arr[j+1]:\n",
        "                arr[j], arr[j+1] = arr[j+1], arr[j]\n",
        "\n",
        "# Example with Alfred sorting the utility belt\n",
        "gadgets = [3, 1, 4, 1, 5, 9, 2, 6, 5]\n",
        "bubble_sort(gadgets)\n",
        "print(f\"Utility belt sorted by Alfred: {gadgets}\")\n"
      ],
      "metadata": {
        "id": "NGOho-VwfJOK",
        "outputId": "5a206aa4-43de-4fd5-d421-b54bdc0f21af",
        "colab": {
          "base_uri": "https://localhost:8080/"
        }
      },
      "execution_count": 9,
      "outputs": [
        {
          "output_type": "stream",
          "name": "stdout",
          "text": [
            "Utility belt sorted by Alfred: [1, 1, 2, 3, 4, 5, 5, 6, 9]\n"
          ]
        }
      ]
    },
    {
      "cell_type": "markdown",
      "source": [
        "### Quick Sort: The Strategic Arrangement\n",
        "Quick Sort is a more advanced sorting algorithm that employs a divide-and-conquer strategy. It partitions the array into smaller arrays around a \"pivot\" element, then sorts each smaller array. This is akin to how Oracle might categorize large datasets into smaller, more manageable chunks for quick access."
      ],
      "metadata": {
        "id": "9hXC__GEfNLp"
      }
    },
    {
      "cell_type": "code",
      "source": [
        "# Function for quick sort\n",
        "def quick_sort(arr):\n",
        "    if len(arr) <= 1:\n",
        "        return arr\n",
        "    pivot = arr[len(arr) // 2]\n",
        "    left = [x for x in arr if x < pivot]\n",
        "    middle = [x for x in arr if x == pivot]\n",
        "    right = [x for x in arr if x > pivot]\n",
        "    return quick_sort(left) + middle + quick_sort(right)\n",
        "\n",
        "# Example with Oracle sorting data\n",
        "data = [3, 6, 8, 10, 1, 2, 1]\n",
        "sorted_data = quick_sort(data)\n",
        "print(f\"Data sorted by Oracle: {sorted_data}\")\n"
      ],
      "metadata": {
        "id": "_bg3pyv6fSON",
        "outputId": "a21a05c0-e173-4dd7-a0d0-ebdab6d47f7d",
        "colab": {
          "base_uri": "https://localhost:8080/"
        }
      },
      "execution_count": 10,
      "outputs": [
        {
          "output_type": "stream",
          "name": "stdout",
          "text": [
            "Data sorted by Oracle: [1, 1, 2, 3, 6, 8, 10]\n"
          ]
        }
      ]
    },
    {
      "cell_type": "markdown",
      "source": [
        "### Big O Notation: Measuring Efficiency\n",
        "\n",
        "Big O Notation serves as a metric for evaluating the efficiency of algorithms, particularly their time complexity. It abstracts away the lower-level operations to provide a high-level understanding of how an algorithm performs as the size of the input grows.\n",
        "\n",
        "-  $O(n^2)$: Quadratic time complexity, as seen in Bubble Sort.\n",
        "-  $O(n \\times log_n)$: Log-linear time complexity, as seen in Quick Sort.\n",
        "\n",
        "Understanding sorting algorithms and their efficiencies enables Batman and his allies to optimize their strategies and resources. Similarly, choosing the right sorting algorithm can significantly impact the performance and efficiency of a Python program."
      ],
      "metadata": {
        "id": "XhazHXowfjZM"
      }
    },
    {
      "cell_type": "markdown",
      "source": [],
      "metadata": {
        "id": "z3IK8wMYfjh7"
      }
    }
  ]
}