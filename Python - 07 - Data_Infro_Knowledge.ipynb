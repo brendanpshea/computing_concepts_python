{
  "nbformat": 4,
  "nbformat_minor": 0,
  "metadata": {
    "colab": {
      "provenance": [],
      "authorship_tag": "ABX9TyMODSSS4Hhmz/JVOFAUOAqe",
      "include_colab_link": true
    },
    "kernelspec": {
      "name": "python3",
      "display_name": "Python 3"
    },
    "language_info": {
      "name": "python"
    }
  },
  "cells": [
    {
      "cell_type": "markdown",
      "metadata": {
        "id": "view-in-github",
        "colab_type": "text"
      },
      "source": [
        "<a href=\"https://colab.research.google.com/github/brendanpshea/intro_cs/blob/main/Python%20-%2007%20-%20Data_Infro_Knowledge.ipynb\" target=\"_parent\"><img src=\"https://colab.research.google.com/assets/colab-badge.svg\" alt=\"Open In Colab\"/></a>"
      ]
    },
    {
      "cell_type": "markdown",
      "source": [
        "# Data, Information, and Knowledge\n",
        "## Brendan Shea, PhD (Brendan.Shea@rctc.edu)\n",
        "\n",
        "Data, information, and knowledge are fundamental concepts in computer science that describe the transformation of raw facts into useful insights. Let's examine each concept in more detail:\n",
        "\n",
        "\n",
        "* **Data** refers to raw, unprocessed facts and figures that are typically collected, stored, and processed by computers. Data can come in various forms such as numbers, text, images, and audio. For example, a collection of temperatures in a city over several days is data.\n",
        "\n",
        "* **Information** is data that has been processed, organized, or structured in a meaningful way. It is easier to understand and interpret than raw data. For instance, if we take the temperature data mentioned earlier and calculate the average temperature over a week, we have turned the data into information.\n",
        "\n",
        "* **Knowledge**  is the understanding and interpretation of information, often gained through experience or learning. When we draw conclusions or make decisions based on information, we are applying knowledge. Continuing with the temperature example, using the average temperature information to predict suitable clothing for the weather demonstrates the application of knowledge.\n",
        "\n",
        "## How can computers help us transform data into knowledge?\n",
        "Computers play a crucial role in transforming data into knowledge through several stages:\n",
        "\n",
        "*Data Collection*. Computers can collect data from various sources, such as sensors, user input, or the internet. For example, a weather station collects temperature data from sensors, while an online survey collects user responses.\n",
        "\n",
        "*Data Storage*. Data can be stored in various formats, such as flat files (CSV, TXT), relational databases (SQL), or semi-structured files (JSON, XML). Choosing the right storage format depends on the data's structure and the intended use.\n",
        "\n",
        "*Data Processing*. Computers can process data using algorithms to extract meaningful information. For example, they can sort, filter, and aggregate data to generate insights. In our temperature example, calculating the average temperature is a data processing step.\n",
        "\n",
        "*Data Visualization*.  Visualizations, such as graphs, charts, or maps, can help users understand information more easily. Computers can generate visualizations to help us identify patterns or trends in the data. For instance, a line chart can show temperature fluctuations over time.\n",
        "\n",
        "*Knowledge Acquisition*. By interacting with processed information and visualizations, users can gain knowledge and make informed decisions. For example, analyzing temperature trends can help users decide the best time to visit a particular location.\n",
        "\n",
        "## Examples\n",
        "### Example 1: Exam Scores\n",
        "\n",
        "Data: Individual exam scores of a group of students\n",
        "\n",
        "Information: The average exam score and the distribution of scores (e.g., number of students in each grade range)\n",
        "\n",
        "Knowledge: Identifying which students may need extra help based on their exam performance\n",
        "\n",
        "### Example 2: Social Media Analytics\n",
        "\n",
        "Data: Timestamps, likes, comments, and shares of social media posts\n",
        "\n",
        "Information: Engagement metrics such as average likes, comments, and shares per post\n",
        "\n",
        "Knowledge: Determining the optimal time to post for maximum engagement based on historical data\n",
        "\n",
        "### Example 3: Sales Data\n",
        "\n",
        "Data: Product IDs, quantities, prices, and timestamps of individual sales transactions\n",
        "\n",
        "Information: Total revenue, best-selling products, and seasonal trends\n",
        "\n",
        "Knowledge: Planning marketing campaigns and inventory management based on sales insights"
      ],
      "metadata": {
        "id": "pAGgkiM3iNXm"
      }
    },
    {
      "cell_type": "markdown",
      "source": [
        "# Brief Introduction to Python and Jupyter\n",
        "This lesson is deliver using Python (a programming language) using Juypter Notebooks (a way of interacting with Python). These notebooks are hosted on Google Colab (which provides a free environment). In this section, we will provide a brief introduction to Python and Jupyter Notebooks, with a focus on using Google Colab as the platform. This will help you get started with Python programming and data analysis without the need for any local installation. If you already know about these thigns, you can skip ahead!\n",
        "\n",
        "## Python\n",
        "\n",
        "Python is a versatile, high-level programming language that is widely used in various fields, including data analysis, web development, artificial intelligence, and more. It is known for its readability and simplicity, making it an excellent choice for beginners. Python has a vast ecosystem of libraries and frameworks, which makes it even more powerful and efficient for different tasks.\n",
        "\n",
        "## Jupyter Notebook\n",
        "\n",
        "Jupyter Notebook is an open-source web application that allows you to create, share, and run interactive documents containing live code, equations, visualizations, and narrative text. It supports multiple programming languages, with Python being the most popular. Jupyter Notebooks are commonly used for data analysis, scientific computing, and machine learning.\n",
        "\n",
        "## Google Colab\n",
        "\n",
        "Google Colab is a cloud-based platform that provides a Jupyter Notebook environment without any setup or installation required. It allows you to write and execute Python code in your browser, making it an excellent choice for learning and collaboration. Colab also offers free access to GPUs (Graphics Processing Units) and TPUs (Tensor Processing Units), which can significantly speed up computations for machine learning tasks.\n",
        "\n",
        "To get started with Google Colab, follow these steps:\n",
        "\n",
        "1. Sign in to your Google account, or create one if you don't have one already.\n",
        "Go to the Google Colab website: https://colab.research.google.com\n",
        "\n",
        "2. Click on \"File\" in the top left corner and then select \"New notebook\" to create a new Jupyter Notebook. (Or, if you've already loaded this notebook using colab, you can simply \"Connect\" to the Google servers to run the code).\n",
        "\n",
        "3, You are now ready to start writing Python code in your new notebook! To execute a code cell, press Shift + Enter.\n",
        "\n",
        "Here's a simple example to get you started:\n",
        "\n"
      ],
      "metadata": {
        "id": "isHd60yHjhr3"
      }
    },
    {
      "cell_type": "code",
      "source": [
        "# This is a Python comment. The next line is code!\n",
        "print(\"Hello, world!\")"
      ],
      "metadata": {
        "id": "Vi99oqYyj3QF"
      },
      "execution_count": null,
      "outputs": []
    },
    {
      "cell_type": "markdown",
      "source": [
        "# Strategy 1: Flat Files\n",
        "**Flat files** are a simple and widely used method of storing data. They consist of plain text files, where data is organized into rows and columns using delimiters such as commas, tabs, or spaces. The most common type of flat file is the Comma-Separated Values (CSV) file.\n",
        "\n",
        "## Comma-Separated Values (CSV)\n",
        "\n",
        "CSV files store data in a plain text format, with each line representing a record (row) and individual fields (columns) separated by commas. They are easy to create, read, and write using various tools, including text editors, spreadsheets, and programming languages like Python.\n",
        "\n",
        "Example of a CSV file:\n",
        "\n",
        "\n",
        "```\n",
        "id,name,style,abv\n",
        "1,Pliny the Elder,Double IPA,8.0\n",
        "2,Heady Topper,Double IPA,8.0\n",
        "3,Two Hearted Ale,American IPA,7.0\n",
        "\n",
        "```\n",
        "\n",
        "\n",
        "## Common Use Cases, Advantages, and Disadvantages\n",
        "\n",
        "### Use Cases:\n",
        "\n",
        "1. Storing and exchanging small to medium-sized datasets: Flat files, such as CSV, are suitable for storing and sharing datasets that aren't overly large or complex. They are easy to create, read, and write, making them a popular choice for exchanging data between different users or systems.\n",
        "\n",
        "2. Sharing data between different software applications or programming languages: Since flat files are essentially plain text files, they can be easily read and written by various software applications (e.g., Excel, R, SAS) and programming languages (e.g., Python, Java, JavaScript). This makes flat files an ideal choice for sharing data between diverse systems and platforms.\n",
        "\n",
        "3. Importing and exporting data to and from databases: Flat files can serve as an intermediate format when transferring data between databases and other applications. For instance, you can export data from a database to a CSV file, manipulate the data using a spreadsheet application, and then import the modified data back into the database.\n",
        "\n",
        "### Advantages:\n",
        "\n",
        "1. Human-readable and easy to understand: Flat files store data in a plain text format that is easily understandable by humans. This allows users to quickly inspect and validate the data, making it a convenient choice for data storage and sharing.\n",
        "\n",
        "2. Simple to create and edit using various tools: Creating and editing flat files is straightforward, as they can be opened and modified using a wide range of tools, from basic text editors to advanced spreadsheet applications. This versatility makes flat files accessible to users with varying levels of technical expertise.\n",
        "\n",
        "3. Wide support across different platforms and software: Flat files, especially CSV files, enjoy widespread support across different operating systems, software applications, and programming languages. This broad compatibility ensures that flat files can be easily used in diverse environments without requiring additional software or libraries.\n",
        "\n",
        "### Disadvantages:\n",
        "\n",
        "1. Limited support for complex data structures and relationships: Flat files are not well-suited for representing complex data structures, such as hierarchical or relational data. They lack features like data typing, constraints, and relationships, which are essential for maintaining data integrity and consistency in more complex datasets.\n",
        "\n",
        "2. Inefficient for large datasets due to lack of compression and indexing: Flat files can become unwieldy and slow to process when dealing with large datasets. They do not support compression or indexing, which can significantly increase the time required for reading, writing, and searching data. This makes them less suitable for big data or high-performance applications.\n",
        "\n",
        "3. No standardized way to represent missing or special values: Flat files do not have a consistent, standardized method for representing missing or special values (e.g., null, NaN). This can lead to ambiguity and confusion when interpreting the data, particularly when sharing files between different systems or users. Users must often rely on ad hoc conventions or metadata to convey information about missing or special values.\n",
        "\n",
        "## Example: Craft Beer Data\n",
        "In this example, we will use Python and Google Colab to read a CSV file containing information on 25 craft beers. We will use the pandas library, which is a powerful data manipulation and analysis tool. You can begin by \"running\" the following cell, which will save the craft beer as a CSV file and then load it into a Pandas **data frame.**\n"
      ],
      "metadata": {
        "id": "jSODBhMkk9sA"
      }
    },
    {
      "cell_type": "code",
      "execution_count": null,
      "metadata": {
        "id": "kt-w343XiMps"
      },
      "outputs": [],
      "source": [
        "# Please run this cell. Don't alter it!\n",
        "import pandas as pd # import pandas libary\n",
        "\n",
        "# Save beer data to disk\n",
        "csv_data = \"\"\"id,name,brewery,style,abv,ibu,state_country,calories\n",
        "2,Heady Topper,The Alchemist,IPA,8.0,120,VT,240\n",
        "3,Two Hearted Ale,Bell's Brewery,IPA,7.0,55,MI,210\n",
        "4,Zombie Dust,3 Floyds Brewing Co.,IPA,6.2,50,IN,186\n",
        "5,Sip of Sunshine,Lawson's Finest Liquids,IPA,8.0,65,VT,240\n",
        "6,Old Rasputin,North Coast Brewing Co.,Stout,9.0,75,CA,270\n",
        "7,Speedway Stout,AleSmith Brewing Company,Stout,12.0,70,CA,360\n",
        "8,The Abyss,Deschutes Brewery,Stout,11.0,86,OR,330\n",
        "9,Péché Mortel,Brasserie Dieu du Ciel!,Stout,9.5,85,Canada,285\n",
        "10,Founders Breakfast Stout,Founders Brewing Company,Stout,8.3,60,MI,249\n",
        "11,Weihenstephaner Hefeweissbier,Bayerische Staatsbrauerei Weihenstephan,Wheat Beer,5.4,14,Germany,162\n",
        "12,Allagash White,Allagash Brewing Company,Wheat Beer,5.2,13,ME,156\n",
        "13,Blanche de Chambly,Unibroue,Wheat Beer,5.0,10,Canada,150\n",
        "14,Gumballhead,3 Floyds Brewing Co.,Wheat Beer,5.6,35,IN,168\n",
        "15,Aventinus,Schneider Weisse G. Schneider & Sohn,Wheat Beer,8.2,16,Germany,246\n",
        "16,Anchor Steam Beer,Anchor Brewing Company,Lager,4.9,33,CA,147\n",
        "17,Samuel Adams Boston Lager,Boston Beer Company (Samuel Adams),Lager,5.0,30,MA,150\n",
        "18,Sierra Nevada Pale Lager,Sierra Nevada Brewing Co.,Lager,5.6,38,CA,168\n",
        "19,Brooklyn Lager,Brooklyn Brewery,Lager,5.2,33,NY,156\n",
        "20,Red Stripe,Jamaica Breweries,Lager,4.7,17,Jamaica,141\n",
        "21,Surly Furious,Surly Brewing Company,IPA,6.6,99,MN,198\n",
        "22,Toppling Goliath PseudoSue,Toppling Goliath Brewery,IPA,6.8,50,IA,204\n",
        "23,Summit Extra Pale Ale,Summit Brewing Company,IPA,5.2,45,MN,156\n",
        "24,New Glarus Moon Man,New Glarus Brewing Company,IPA,5.0,28,WI,150\n",
        "25,Todd the Axe Man,Surly Brewing Company,IPA,7.2,65,MN,216\n",
        "26,Darkness,Surly Brewing Company,Stout,12.0,85,MN,360\n",
        "27,New Glarus Coffee Stout,New Glarus Brewing Company,Stout,5.7,34,WI,171\n",
        "28,Barrel-Aged Silhouette,Lift Bridge Brewery,Stout,10.0,50,MN,300\n",
        "29,War & Peace,Fulton Beer,Stout,9.5,85,MN,285\n",
        "30,CocO Stout,West O Beer,Stout,6.0,28,IA,180\n",
        "31,Spotted Cow,New Glarus Brewing Company,Wheat Beer,4.8,18,WI,144\n",
        "32,Boulevard Wheat,Boulevard Brewing Co.,Wheat Beer,4.4,14,MO,132\n",
        "33,Alluvial Hefeweizen,Alluvial Brewing Company,Wheat Beer,5.1,12,IA,153\n",
        "34,Two Women Lager,New Glarus Brewing Company,Wheat Beer,5.0,10,WI,150\n",
        "35,Haywire Hefeweizen,Third Street Brewhouse,Wheat Beer,4.5,15,MN,135\n",
        "36,Grain Belt Premium,August Schell Brewing Company,Lager,4.6,12,MN,138\n",
        "37,New Glarus Two Women,New Glarus Brewing Company,Lager,5.0,34,WI,150\n",
        "38,Hell,Surly Brewing Company,Lager,4.5,20,MN,135\n",
        "39,Iowa Gold,Exile Brewing Co.,Lager,4.8,15,IA,144\n",
        "40,Staghorn Octoberfest,New Glarus Brewing Company,Lager,6.2,25,WI,186\n",
        "\n",
        "\"\"\"\n",
        "\n",
        "with open(\"craft_beers.csv\", \"w\") as file:\n",
        "    file.write(csv_data)\n",
        "\n",
        "beer_data = pd.read_csv('craft_beers.csv', index_col = 0)"
      ]
    },
    {
      "cell_type": "markdown",
      "source": [
        "Now, we can use the pandas library to explore this data."
      ],
      "metadata": {
        "id": "tDw1C4eCnDLs"
      }
    },
    {
      "cell_type": "code",
      "source": [
        "# Display the first 5 rows of the DataFrame\n",
        "beer_data.head()\n",
        "\n",
        "# Calculate the average alcohol by volume (ABV) of the beers\n",
        "average_abv = beer_data['abv'].mean()\n",
        "print(\"Average ABV:\", average_abv)\n",
        "\n",
        "# Filter beers with ABV greater than 7%\n",
        "strong_beers = beer_data[beer_data['abv'] > 7]\n",
        "print(\"Strong Beers:\")\n",
        "print(strong_beers)\n"
      ],
      "metadata": {
        "colab": {
          "base_uri": "https://localhost:8080/"
        },
        "id": "NPsJjvXjm6ku",
        "outputId": "668107dd-e50f-4e36-dc9b-8c16a7b25d3b"
      },
      "execution_count": null,
      "outputs": [
        {
          "output_type": "stream",
          "name": "stdout",
          "text": [
            "Average ABV: 6.582051282051282\n",
            "Strong Beers:\n",
            "                        name                               brewery  \\\n",
            "id                                                                   \n",
            "2               Heady Topper                         The Alchemist   \n",
            "5            Sip of Sunshine               Lawson's Finest Liquids   \n",
            "6               Old Rasputin               North Coast Brewing Co.   \n",
            "7             Speedway Stout              AleSmith Brewing Company   \n",
            "8                  The Abyss                     Deschutes Brewery   \n",
            "9               Péché Mortel               Brasserie Dieu du Ciel!   \n",
            "10  Founders Breakfast Stout              Founders Brewing Company   \n",
            "15                 Aventinus  Schneider Weisse G. Schneider & Sohn   \n",
            "25          Todd the Axe Man                 Surly Brewing Company   \n",
            "26                  Darkness                 Surly Brewing Company   \n",
            "28    Barrel-Aged Silhouette                   Lift Bridge Brewery   \n",
            "29               War & Peace                           Fulton Beer   \n",
            "\n",
            "         style   abv  ibu state_country  calories  \n",
            "id                                                 \n",
            "2          IPA   8.0  120            VT       240  \n",
            "5          IPA   8.0   65            VT       240  \n",
            "6        Stout   9.0   75            CA       270  \n",
            "7        Stout  12.0   70            CA       360  \n",
            "8        Stout  11.0   86            OR       330  \n",
            "9        Stout   9.5   85        Canada       285  \n",
            "10       Stout   8.3   60            MI       249  \n",
            "15  Wheat Beer   8.2   16       Germany       246  \n",
            "25         IPA   7.2   65            MN       216  \n",
            "26       Stout  12.0   85            MN       360  \n",
            "28       Stout  10.0   50            MN       300  \n",
            "29       Stout   9.5   85            MN       285  \n"
          ]
        }
      ]
    },
    {
      "cell_type": "markdown",
      "source": [
        "## You Try It\n",
        "\n",
        "### Exercise 1: Displaying the \"Head\" of the Data\n",
        "\n",
        "First, let's display the first 10 rows of the beer_data DataFrame using the head() function. This will help you become familiar with the dataset. For example, here is code to display the first 5 rows. "
      ],
      "metadata": {
        "id": "PcGtVJasneK5"
      }
    },
    {
      "cell_type": "code",
      "source": [
        "# Sample\n",
        "beer_data.head(5)"
      ],
      "metadata": {
        "colab": {
          "base_uri": "https://localhost:8080/",
          "height": 237
        },
        "id": "Aa7IuFz1oYvm",
        "outputId": "c0cf34d2-c6e9-460d-c524-9a554b90e159"
      },
      "execution_count": null,
      "outputs": [
        {
          "output_type": "execute_result",
          "data": {
            "text/plain": [
              "               name                  brewery  style  abv  ibu state_country  \\\n",
              "id                                                                            \n",
              "2      Heady Topper            The Alchemist    IPA  8.0  120            VT   \n",
              "3   Two Hearted Ale           Bell's Brewery    IPA  7.0   55            MI   \n",
              "4       Zombie Dust     3 Floyds Brewing Co.    IPA  6.2   50            IN   \n",
              "5   Sip of Sunshine  Lawson's Finest Liquids    IPA  8.0   65            VT   \n",
              "6      Old Rasputin  North Coast Brewing Co.  Stout  9.0   75            CA   \n",
              "\n",
              "    calories  \n",
              "id            \n",
              "2        240  \n",
              "3        210  \n",
              "4        186  \n",
              "5        240  \n",
              "6        270  "
            ],
            "text/html": [
              "\n",
              "  <div id=\"df-069fc69d-6616-4e79-bb4c-cabddd311727\">\n",
              "    <div class=\"colab-df-container\">\n",
              "      <div>\n",
              "<style scoped>\n",
              "    .dataframe tbody tr th:only-of-type {\n",
              "        vertical-align: middle;\n",
              "    }\n",
              "\n",
              "    .dataframe tbody tr th {\n",
              "        vertical-align: top;\n",
              "    }\n",
              "\n",
              "    .dataframe thead th {\n",
              "        text-align: right;\n",
              "    }\n",
              "</style>\n",
              "<table border=\"1\" class=\"dataframe\">\n",
              "  <thead>\n",
              "    <tr style=\"text-align: right;\">\n",
              "      <th></th>\n",
              "      <th>name</th>\n",
              "      <th>brewery</th>\n",
              "      <th>style</th>\n",
              "      <th>abv</th>\n",
              "      <th>ibu</th>\n",
              "      <th>state_country</th>\n",
              "      <th>calories</th>\n",
              "    </tr>\n",
              "    <tr>\n",
              "      <th>id</th>\n",
              "      <th></th>\n",
              "      <th></th>\n",
              "      <th></th>\n",
              "      <th></th>\n",
              "      <th></th>\n",
              "      <th></th>\n",
              "      <th></th>\n",
              "    </tr>\n",
              "  </thead>\n",
              "  <tbody>\n",
              "    <tr>\n",
              "      <th>2</th>\n",
              "      <td>Heady Topper</td>\n",
              "      <td>The Alchemist</td>\n",
              "      <td>IPA</td>\n",
              "      <td>8.0</td>\n",
              "      <td>120</td>\n",
              "      <td>VT</td>\n",
              "      <td>240</td>\n",
              "    </tr>\n",
              "    <tr>\n",
              "      <th>3</th>\n",
              "      <td>Two Hearted Ale</td>\n",
              "      <td>Bell's Brewery</td>\n",
              "      <td>IPA</td>\n",
              "      <td>7.0</td>\n",
              "      <td>55</td>\n",
              "      <td>MI</td>\n",
              "      <td>210</td>\n",
              "    </tr>\n",
              "    <tr>\n",
              "      <th>4</th>\n",
              "      <td>Zombie Dust</td>\n",
              "      <td>3 Floyds Brewing Co.</td>\n",
              "      <td>IPA</td>\n",
              "      <td>6.2</td>\n",
              "      <td>50</td>\n",
              "      <td>IN</td>\n",
              "      <td>186</td>\n",
              "    </tr>\n",
              "    <tr>\n",
              "      <th>5</th>\n",
              "      <td>Sip of Sunshine</td>\n",
              "      <td>Lawson's Finest Liquids</td>\n",
              "      <td>IPA</td>\n",
              "      <td>8.0</td>\n",
              "      <td>65</td>\n",
              "      <td>VT</td>\n",
              "      <td>240</td>\n",
              "    </tr>\n",
              "    <tr>\n",
              "      <th>6</th>\n",
              "      <td>Old Rasputin</td>\n",
              "      <td>North Coast Brewing Co.</td>\n",
              "      <td>Stout</td>\n",
              "      <td>9.0</td>\n",
              "      <td>75</td>\n",
              "      <td>CA</td>\n",
              "      <td>270</td>\n",
              "    </tr>\n",
              "  </tbody>\n",
              "</table>\n",
              "</div>\n",
              "      <button class=\"colab-df-convert\" onclick=\"convertToInteractive('df-069fc69d-6616-4e79-bb4c-cabddd311727')\"\n",
              "              title=\"Convert this dataframe to an interactive table.\"\n",
              "              style=\"display:none;\">\n",
              "        \n",
              "  <svg xmlns=\"http://www.w3.org/2000/svg\" height=\"24px\"viewBox=\"0 0 24 24\"\n",
              "       width=\"24px\">\n",
              "    <path d=\"M0 0h24v24H0V0z\" fill=\"none\"/>\n",
              "    <path d=\"M18.56 5.44l.94 2.06.94-2.06 2.06-.94-2.06-.94-.94-2.06-.94 2.06-2.06.94zm-11 1L8.5 8.5l.94-2.06 2.06-.94-2.06-.94L8.5 2.5l-.94 2.06-2.06.94zm10 10l.94 2.06.94-2.06 2.06-.94-2.06-.94-.94-2.06-.94 2.06-2.06.94z\"/><path d=\"M17.41 7.96l-1.37-1.37c-.4-.4-.92-.59-1.43-.59-.52 0-1.04.2-1.43.59L10.3 9.45l-7.72 7.72c-.78.78-.78 2.05 0 2.83L4 21.41c.39.39.9.59 1.41.59.51 0 1.02-.2 1.41-.59l7.78-7.78 2.81-2.81c.8-.78.8-2.07 0-2.86zM5.41 20L4 18.59l7.72-7.72 1.47 1.35L5.41 20z\"/>\n",
              "  </svg>\n",
              "      </button>\n",
              "      \n",
              "  <style>\n",
              "    .colab-df-container {\n",
              "      display:flex;\n",
              "      flex-wrap:wrap;\n",
              "      gap: 12px;\n",
              "    }\n",
              "\n",
              "    .colab-df-convert {\n",
              "      background-color: #E8F0FE;\n",
              "      border: none;\n",
              "      border-radius: 50%;\n",
              "      cursor: pointer;\n",
              "      display: none;\n",
              "      fill: #1967D2;\n",
              "      height: 32px;\n",
              "      padding: 0 0 0 0;\n",
              "      width: 32px;\n",
              "    }\n",
              "\n",
              "    .colab-df-convert:hover {\n",
              "      background-color: #E2EBFA;\n",
              "      box-shadow: 0px 1px 2px rgba(60, 64, 67, 0.3), 0px 1px 3px 1px rgba(60, 64, 67, 0.15);\n",
              "      fill: #174EA6;\n",
              "    }\n",
              "\n",
              "    [theme=dark] .colab-df-convert {\n",
              "      background-color: #3B4455;\n",
              "      fill: #D2E3FC;\n",
              "    }\n",
              "\n",
              "    [theme=dark] .colab-df-convert:hover {\n",
              "      background-color: #434B5C;\n",
              "      box-shadow: 0px 1px 3px 1px rgba(0, 0, 0, 0.15);\n",
              "      filter: drop-shadow(0px 1px 2px rgba(0, 0, 0, 0.3));\n",
              "      fill: #FFFFFF;\n",
              "    }\n",
              "  </style>\n",
              "\n",
              "      <script>\n",
              "        const buttonEl =\n",
              "          document.querySelector('#df-069fc69d-6616-4e79-bb4c-cabddd311727 button.colab-df-convert');\n",
              "        buttonEl.style.display =\n",
              "          google.colab.kernel.accessAllowed ? 'block' : 'none';\n",
              "\n",
              "        async function convertToInteractive(key) {\n",
              "          const element = document.querySelector('#df-069fc69d-6616-4e79-bb4c-cabddd311727');\n",
              "          const dataTable =\n",
              "            await google.colab.kernel.invokeFunction('convertToInteractive',\n",
              "                                                     [key], {});\n",
              "          if (!dataTable) return;\n",
              "\n",
              "          const docLinkHtml = 'Like what you see? Visit the ' +\n",
              "            '<a target=\"_blank\" href=https://colab.research.google.com/notebooks/data_table.ipynb>data table notebook</a>'\n",
              "            + ' to learn more about interactive tables.';\n",
              "          element.innerHTML = '';\n",
              "          dataTable['output_type'] = 'display_data';\n",
              "          await google.colab.output.renderOutput(dataTable, element);\n",
              "          const docLink = document.createElement('div');\n",
              "          docLink.innerHTML = docLinkHtml;\n",
              "          element.appendChild(docLink);\n",
              "        }\n",
              "      </script>\n",
              "    </div>\n",
              "  </div>\n",
              "  "
            ]
          },
          "metadata": {},
          "execution_count": 25
        }
      ]
    },
    {
      "cell_type": "code",
      "source": [
        "# Your code -- display the first 10 rows"
      ],
      "metadata": {
        "id": "ggwI6YZkoaZ8"
      },
      "execution_count": null,
      "outputs": []
    },
    {
      "cell_type": "markdown",
      "source": [
        "### Exercise 2: Calculating Averages\n",
        "Next, let's calculate the average ABV (alcohol by volume) and IBU (bitterness) of all craft beers in the dataset using the mean() function. "
      ],
      "metadata": {
        "id": "_iQCAE1doo7z"
      }
    },
    {
      "cell_type": "code",
      "source": [
        "# Calculate the average ABV of all craft beers\n",
        "average_abv = beer_data['abv'].mean()\n",
        "print(\"Average ABV:\", average_abv)"
      ],
      "metadata": {
        "colab": {
          "base_uri": "https://localhost:8080/"
        },
        "id": "IUhowIK_ono8",
        "outputId": "457d7594-5cd5-4330-86a3-9787325dbd0b"
      },
      "execution_count": null,
      "outputs": [
        {
          "output_type": "stream",
          "name": "stdout",
          "text": [
            "Average ABV: 6.582051282051282\n"
          ]
        }
      ]
    },
    {
      "cell_type": "code",
      "source": [
        "# Your code -- calculate average IBV\n"
      ],
      "metadata": {
        "id": "zoN2VPoxpEDb"
      },
      "execution_count": null,
      "outputs": []
    },
    {
      "cell_type": "code",
      "source": [
        "# Your code -- try using df.max() or df.min() to calculate maximum and minimum!"
      ],
      "metadata": {
        "id": "KmppBRli8mwn"
      },
      "execution_count": null,
      "outputs": []
    },
    {
      "cell_type": "markdown",
      "source": [
        "### Exercise 3: Filtering by Value\n",
        "Let's \"filter\" the DataFrame to show only craft beers that have certain characteristics. For example, here's how I could filter beers that have the style \"IPA.\""
      ],
      "metadata": {
        "id": "gC7wQkbHpHhg"
      }
    },
    {
      "cell_type": "code",
      "source": [
        "# Filter the DataFrame for Double IPA beers\n",
        "ipa_beers = beer_data[beer_data['style'] == 'IPA']\n",
        "ipa_beers\n"
      ],
      "metadata": {
        "colab": {
          "base_uri": "https://localhost:8080/",
          "height": 363
        },
        "id": "jZA9MhzgpGxZ",
        "outputId": "b10a86d2-8fa8-4d93-c3e3-742ebcb5380c"
      },
      "execution_count": null,
      "outputs": [
        {
          "output_type": "execute_result",
          "data": {
            "text/plain": [
              "                          name                     brewery style  abv  ibu  \\\n",
              "id                                                                           \n",
              "2                 Heady Topper               The Alchemist   IPA  8.0  120   \n",
              "3              Two Hearted Ale              Bell's Brewery   IPA  7.0   55   \n",
              "4                  Zombie Dust        3 Floyds Brewing Co.   IPA  6.2   50   \n",
              "5              Sip of Sunshine     Lawson's Finest Liquids   IPA  8.0   65   \n",
              "21               Surly Furious       Surly Brewing Company   IPA  6.6   99   \n",
              "22  Toppling Goliath PseudoSue    Toppling Goliath Brewery   IPA  6.8   50   \n",
              "23       Summit Extra Pale Ale      Summit Brewing Company   IPA  5.2   45   \n",
              "24         New Glarus Moon Man  New Glarus Brewing Company   IPA  5.0   28   \n",
              "25            Todd the Axe Man       Surly Brewing Company   IPA  7.2   65   \n",
              "\n",
              "   state_country  calories  \n",
              "id                          \n",
              "2             VT       240  \n",
              "3             MI       210  \n",
              "4             IN       186  \n",
              "5             VT       240  \n",
              "21            MN       198  \n",
              "22            IA       204  \n",
              "23            MN       156  \n",
              "24            WI       150  \n",
              "25            MN       216  "
            ],
            "text/html": [
              "\n",
              "  <div id=\"df-a0bb45ba-0539-489c-b8d8-4d55275bd5eb\">\n",
              "    <div class=\"colab-df-container\">\n",
              "      <div>\n",
              "<style scoped>\n",
              "    .dataframe tbody tr th:only-of-type {\n",
              "        vertical-align: middle;\n",
              "    }\n",
              "\n",
              "    .dataframe tbody tr th {\n",
              "        vertical-align: top;\n",
              "    }\n",
              "\n",
              "    .dataframe thead th {\n",
              "        text-align: right;\n",
              "    }\n",
              "</style>\n",
              "<table border=\"1\" class=\"dataframe\">\n",
              "  <thead>\n",
              "    <tr style=\"text-align: right;\">\n",
              "      <th></th>\n",
              "      <th>name</th>\n",
              "      <th>brewery</th>\n",
              "      <th>style</th>\n",
              "      <th>abv</th>\n",
              "      <th>ibu</th>\n",
              "      <th>state_country</th>\n",
              "      <th>calories</th>\n",
              "    </tr>\n",
              "    <tr>\n",
              "      <th>id</th>\n",
              "      <th></th>\n",
              "      <th></th>\n",
              "      <th></th>\n",
              "      <th></th>\n",
              "      <th></th>\n",
              "      <th></th>\n",
              "      <th></th>\n",
              "    </tr>\n",
              "  </thead>\n",
              "  <tbody>\n",
              "    <tr>\n",
              "      <th>2</th>\n",
              "      <td>Heady Topper</td>\n",
              "      <td>The Alchemist</td>\n",
              "      <td>IPA</td>\n",
              "      <td>8.0</td>\n",
              "      <td>120</td>\n",
              "      <td>VT</td>\n",
              "      <td>240</td>\n",
              "    </tr>\n",
              "    <tr>\n",
              "      <th>3</th>\n",
              "      <td>Two Hearted Ale</td>\n",
              "      <td>Bell's Brewery</td>\n",
              "      <td>IPA</td>\n",
              "      <td>7.0</td>\n",
              "      <td>55</td>\n",
              "      <td>MI</td>\n",
              "      <td>210</td>\n",
              "    </tr>\n",
              "    <tr>\n",
              "      <th>4</th>\n",
              "      <td>Zombie Dust</td>\n",
              "      <td>3 Floyds Brewing Co.</td>\n",
              "      <td>IPA</td>\n",
              "      <td>6.2</td>\n",
              "      <td>50</td>\n",
              "      <td>IN</td>\n",
              "      <td>186</td>\n",
              "    </tr>\n",
              "    <tr>\n",
              "      <th>5</th>\n",
              "      <td>Sip of Sunshine</td>\n",
              "      <td>Lawson's Finest Liquids</td>\n",
              "      <td>IPA</td>\n",
              "      <td>8.0</td>\n",
              "      <td>65</td>\n",
              "      <td>VT</td>\n",
              "      <td>240</td>\n",
              "    </tr>\n",
              "    <tr>\n",
              "      <th>21</th>\n",
              "      <td>Surly Furious</td>\n",
              "      <td>Surly Brewing Company</td>\n",
              "      <td>IPA</td>\n",
              "      <td>6.6</td>\n",
              "      <td>99</td>\n",
              "      <td>MN</td>\n",
              "      <td>198</td>\n",
              "    </tr>\n",
              "    <tr>\n",
              "      <th>22</th>\n",
              "      <td>Toppling Goliath PseudoSue</td>\n",
              "      <td>Toppling Goliath Brewery</td>\n",
              "      <td>IPA</td>\n",
              "      <td>6.8</td>\n",
              "      <td>50</td>\n",
              "      <td>IA</td>\n",
              "      <td>204</td>\n",
              "    </tr>\n",
              "    <tr>\n",
              "      <th>23</th>\n",
              "      <td>Summit Extra Pale Ale</td>\n",
              "      <td>Summit Brewing Company</td>\n",
              "      <td>IPA</td>\n",
              "      <td>5.2</td>\n",
              "      <td>45</td>\n",
              "      <td>MN</td>\n",
              "      <td>156</td>\n",
              "    </tr>\n",
              "    <tr>\n",
              "      <th>24</th>\n",
              "      <td>New Glarus Moon Man</td>\n",
              "      <td>New Glarus Brewing Company</td>\n",
              "      <td>IPA</td>\n",
              "      <td>5.0</td>\n",
              "      <td>28</td>\n",
              "      <td>WI</td>\n",
              "      <td>150</td>\n",
              "    </tr>\n",
              "    <tr>\n",
              "      <th>25</th>\n",
              "      <td>Todd the Axe Man</td>\n",
              "      <td>Surly Brewing Company</td>\n",
              "      <td>IPA</td>\n",
              "      <td>7.2</td>\n",
              "      <td>65</td>\n",
              "      <td>MN</td>\n",
              "      <td>216</td>\n",
              "    </tr>\n",
              "  </tbody>\n",
              "</table>\n",
              "</div>\n",
              "      <button class=\"colab-df-convert\" onclick=\"convertToInteractive('df-a0bb45ba-0539-489c-b8d8-4d55275bd5eb')\"\n",
              "              title=\"Convert this dataframe to an interactive table.\"\n",
              "              style=\"display:none;\">\n",
              "        \n",
              "  <svg xmlns=\"http://www.w3.org/2000/svg\" height=\"24px\"viewBox=\"0 0 24 24\"\n",
              "       width=\"24px\">\n",
              "    <path d=\"M0 0h24v24H0V0z\" fill=\"none\"/>\n",
              "    <path d=\"M18.56 5.44l.94 2.06.94-2.06 2.06-.94-2.06-.94-.94-2.06-.94 2.06-2.06.94zm-11 1L8.5 8.5l.94-2.06 2.06-.94-2.06-.94L8.5 2.5l-.94 2.06-2.06.94zm10 10l.94 2.06.94-2.06 2.06-.94-2.06-.94-.94-2.06-.94 2.06-2.06.94z\"/><path d=\"M17.41 7.96l-1.37-1.37c-.4-.4-.92-.59-1.43-.59-.52 0-1.04.2-1.43.59L10.3 9.45l-7.72 7.72c-.78.78-.78 2.05 0 2.83L4 21.41c.39.39.9.59 1.41.59.51 0 1.02-.2 1.41-.59l7.78-7.78 2.81-2.81c.8-.78.8-2.07 0-2.86zM5.41 20L4 18.59l7.72-7.72 1.47 1.35L5.41 20z\"/>\n",
              "  </svg>\n",
              "      </button>\n",
              "      \n",
              "  <style>\n",
              "    .colab-df-container {\n",
              "      display:flex;\n",
              "      flex-wrap:wrap;\n",
              "      gap: 12px;\n",
              "    }\n",
              "\n",
              "    .colab-df-convert {\n",
              "      background-color: #E8F0FE;\n",
              "      border: none;\n",
              "      border-radius: 50%;\n",
              "      cursor: pointer;\n",
              "      display: none;\n",
              "      fill: #1967D2;\n",
              "      height: 32px;\n",
              "      padding: 0 0 0 0;\n",
              "      width: 32px;\n",
              "    }\n",
              "\n",
              "    .colab-df-convert:hover {\n",
              "      background-color: #E2EBFA;\n",
              "      box-shadow: 0px 1px 2px rgba(60, 64, 67, 0.3), 0px 1px 3px 1px rgba(60, 64, 67, 0.15);\n",
              "      fill: #174EA6;\n",
              "    }\n",
              "\n",
              "    [theme=dark] .colab-df-convert {\n",
              "      background-color: #3B4455;\n",
              "      fill: #D2E3FC;\n",
              "    }\n",
              "\n",
              "    [theme=dark] .colab-df-convert:hover {\n",
              "      background-color: #434B5C;\n",
              "      box-shadow: 0px 1px 3px 1px rgba(0, 0, 0, 0.15);\n",
              "      filter: drop-shadow(0px 1px 2px rgba(0, 0, 0, 0.3));\n",
              "      fill: #FFFFFF;\n",
              "    }\n",
              "  </style>\n",
              "\n",
              "      <script>\n",
              "        const buttonEl =\n",
              "          document.querySelector('#df-a0bb45ba-0539-489c-b8d8-4d55275bd5eb button.colab-df-convert');\n",
              "        buttonEl.style.display =\n",
              "          google.colab.kernel.accessAllowed ? 'block' : 'none';\n",
              "\n",
              "        async function convertToInteractive(key) {\n",
              "          const element = document.querySelector('#df-a0bb45ba-0539-489c-b8d8-4d55275bd5eb');\n",
              "          const dataTable =\n",
              "            await google.colab.kernel.invokeFunction('convertToInteractive',\n",
              "                                                     [key], {});\n",
              "          if (!dataTable) return;\n",
              "\n",
              "          const docLinkHtml = 'Like what you see? Visit the ' +\n",
              "            '<a target=\"_blank\" href=https://colab.research.google.com/notebooks/data_table.ipynb>data table notebook</a>'\n",
              "            + ' to learn more about interactive tables.';\n",
              "          element.innerHTML = '';\n",
              "          dataTable['output_type'] = 'display_data';\n",
              "          await google.colab.output.renderOutput(dataTable, element);\n",
              "          const docLink = document.createElement('div');\n",
              "          docLink.innerHTML = docLinkHtml;\n",
              "          element.appendChild(docLink);\n",
              "        }\n",
              "      </script>\n",
              "    </div>\n",
              "  </div>\n",
              "  "
            ]
          },
          "metadata": {},
          "execution_count": 27
        }
      ]
    },
    {
      "cell_type": "code",
      "source": [
        "# Your code -- find beers with an ABV of over 6.0.\n"
      ],
      "metadata": {
        "id": "TY2nU_-kqAtl"
      },
      "execution_count": null,
      "outputs": []
    },
    {
      "cell_type": "code",
      "source": [
        "# Your code -- find beers with an ibu of < 30\n"
      ],
      "metadata": {
        "id": "nEiLe17eqzlz"
      },
      "execution_count": null,
      "outputs": []
    },
    {
      "cell_type": "code",
      "source": [
        "# CHALLENGE -- can you figure how to combine conditions? For example, ABV between 4 and 7"
      ],
      "metadata": {
        "id": "YOCu1Gtt8tV5"
      },
      "execution_count": null,
      "outputs": []
    },
    {
      "cell_type": "markdown",
      "source": [
        "### Exercise 4: Make a visualization\n",
        "Pandas provides lots of great ways to visualize date, including:\n",
        "\n",
        "* `df[column].hist()` for single numerical variables\n",
        "* `df.plot.scatter(x=column1, y=column2)` for relationships between two numerical variables\n",
        "* `df.groupby(column).boxplot(column)` for showing relationships between categorical and numerical data"
      ],
      "metadata": {
        "id": "Y6N78T79rM0K"
      }
    },
    {
      "cell_type": "code",
      "source": [
        "# Example: histogram\n",
        "beer_data['abv'].hist()\n"
      ],
      "metadata": {
        "colab": {
          "base_uri": "https://localhost:8080/",
          "height": 283
        },
        "id": "lIDHea6rq4gc",
        "outputId": "a8370028-b60e-45c7-ae14-b1e2df1b5cd6"
      },
      "execution_count": null,
      "outputs": [
        {
          "output_type": "execute_result",
          "data": {
            "text/plain": [
              "<Axes: >"
            ]
          },
          "metadata": {},
          "execution_count": 28
        },
        {
          "output_type": "display_data",
          "data": {
            "text/plain": [
              "<Figure size 432x288 with 1 Axes>"
            ],
            "image/png": "[encoded data removed]"
          },
          "metadata": {
            "needs_background": "light"
          }
        }
      ]
    },
    {
      "cell_type": "code",
      "source": [
        "# Example: scatter plot\n",
        "beer_data.plot.scatter(x=\"abv\", y=\"ibu\")"
      ],
      "metadata": {
        "colab": {
          "base_uri": "https://localhost:8080/",
          "height": 334
        },
        "id": "H185rK3CrK4H",
        "outputId": "032a3218-f061-4f28-909c-ec57e939fab2"
      },
      "execution_count": null,
      "outputs": [
        {
          "output_type": "stream",
          "name": "stderr",
          "text": [
            "/usr/local/lib/python3.9/dist-packages/pandas/plotting/_matplotlib/core.py:1114: UserWarning: No data for colormapping provided via 'c'. Parameters 'cmap' will be ignored\n",
            "  scatter = ax.scatter(\n"
          ]
        },
        {
          "output_type": "execute_result",
          "data": {
            "text/plain": [
              "<Axes: xlabel='abv', ylabel='ibu'>"
            ]
          },
          "metadata": {},
          "execution_count": 29
        },
        {
          "output_type": "display_data",
          "data": {
            "text/plain": [
              "<Figure size 432x288 with 1 Axes>"
            ],
            "image/png": "[encoded data removed]"
          },
          "metadata": {
            "needs_background": "light"
          }
        }
      ]
    },
    {
      "cell_type": "code",
      "source": [
        "# Create a grouped boxplot for ABV by style using pandas\n",
        "beer_data.boxplot(column='abv', by='style')\n",
        "\n"
      ],
      "metadata": {
        "colab": {
          "base_uri": "https://localhost:8080/",
          "height": 319
        },
        "id": "tofBAq7MrC5f",
        "outputId": "35127c87-2528-420e-f027-2c464681225a"
      },
      "execution_count": null,
      "outputs": [
        {
          "output_type": "execute_result",
          "data": {
            "text/plain": [
              "<Axes: title={'center': 'abv'}, xlabel='style'>"
            ]
          },
          "metadata": {},
          "execution_count": 39
        },
        {
          "output_type": "display_data",
          "data": {
            "text/plain": [
              "<Figure size 432x288 with 1 Axes>"
            ],
            "image/png": "[encoded data removed]"
          },
          "metadata": {
            "needs_background": "light"
          }
        }
      ]
    },
    {
      "cell_type": "code",
      "source": [
        "# Your code -- Create a figure of your choice!"
      ],
      "metadata": {
        "id": "wIPxMAMewhK-"
      },
      "execution_count": null,
      "outputs": []
    },
    {
      "cell_type": "markdown",
      "source": [
        "# Strategy 2: Relational Databases\n",
        "\n",
        "## What are relational databases?\n",
        "\n",
        "Relational databases are a type of database management system that organizes data into tables. Each table consists of rows (records) and columns (fields) and represents an entity in the system, such as a craft beer or a brewery. Tables can be related to one another through unique keys, enabling you to establish connections between the data stored in different tables.\n",
        "\n",
        "The relational model was introduced by Edgar F. Codd in 1970 and has since become the predominant model for managing structured data. Relational databases are built upon principles of set theory and relational algebra, providing a solid foundation for querying and manipulating data.\n",
        "\n",
        "In contrast to flat files (e.g., CSV), relational databases provide a more powerful and flexible way to organize, query, and maintain data. While flat files store data in a simple row-and-column format, relational databases use multiple tables to represent complex relationships between entities. This allows for efficient storage and retrieval of data, as well as the ability to perform sophisticated queries using SQL (Structured Query Language).\n",
        "\n",
        "Some popular relational database management systems (RDBMS) include MySQL, PostgreSQL, SQLite, Microsoft SQL Server, and Oracle.\n",
        "\n",
        "## Common Use Cases, Advantages, and Disadvantages\n",
        "\n",
        "### Use Cases:\n",
        "\n",
        "1. Managing structured data, such as inventory, customer information, or financial transactions, where relationships between entities are crucial\n",
        "2. Applications requiring complex queries, data analysis, or reporting\n",
        "Handling data with many-to-many or one-to-many relationships, which are difficult to represent in flat files\n",
        "3. Ensuring data integrity and consistency through transactions, constraints, and normalization, which is not easily achievable with flat files\n",
        "\n",
        "### Advantages:\n",
        "\n",
        "1. Robust query capabilities with SQL (Structured Query Language), allowing for powerful and flexible data retrieval and manipulation\n",
        "2. Data integrity through constraints, transactions, and normalization, which helps maintain consistency and avoid data redundancy\n",
        "3. Scalable and efficient handling of large datasets, as relational databases are designed for optimized storage and querying\n",
        "4. Widely adopted and supported across various platforms and programming languages, making it easier to integrate with different tools and technologies\n",
        "\n",
        "\n",
        "### Disadvantages:\n",
        "\n",
        "1. Can be more complex to set up and maintain compared to flat files, due to the need for designing a suitable database schema and managing the database server\n",
        "2. Less flexible in handling unstructured or semi-structured data, as relational databases are optimized for structured data with well-defined relationships\n",
        "3. May require a dedicated server or significant resources for large-scale deployments, whereas flat files can be easily stored and shared using simple file systems\n",
        "4. Can be overkill for small projects or simple data storage needs, where the overhead of a relational database may outweigh its benefits\n",
        "\n",
        "In the next subsections, we will explore SQL, a powerful query language used to interact with relational databases, and work through an SQLite example to understand how to create a table, insert data, retrieve data, and update or delete data within a relational database.\n",
        "\n",
        "## A Short Guide to SQL for Absolute Beginners\n",
        "\n",
        "Structured Query Language (SQL) is the standard language for managing and querying relational databases. SQL allows you to perform various operations, such as creating and modifying tables, inserting and updating data, and retrieving information based on specific conditions.\n",
        "\n",
        "This short guide will provide an overview of basic CRUD (Create, Read, Update, Delete) operations in SQL for absolute beginners.\n",
        "\n",
        "### CREATE: Creating Tables\n",
        "To create a new table, use the CREATE TABLE command followed by the table name and a list of columns with their respective data types and constraints.\n",
        "\n",
        "\n",
        "\n",
        "\n",
        "```\n",
        "CREATE TABLE table_name (\n",
        "    column1 datatype constraint,\n",
        "    column2 datatype constraint,\n",
        "    ...\n",
        ");\n",
        "```\n",
        "\n",
        "For example, to create a simple users table:\n",
        "\n",
        "```\n",
        "CREATE TABLE users (\n",
        "    id INTEGER PRIMARY KEY,\n",
        "    name TEXT NOT NULL,\n",
        "    email TEXT UNIQUE NOT NULL\n",
        ");\n",
        "```\n",
        "\n",
        "### INSERT: Adding Data\n",
        "To insert data into a table, use the INSERT INTO command followed by the table name, a list of column names (optional), and the VALUES keyword with a list of values for each column.\n",
        "\n",
        "```\n",
        "INSERT INTO table_name (column1, column2, ...)\n",
        "VALUES (value1, value2, ...);\n",
        "```\n",
        "For example, to insert a new user into the users table:\n",
        "\n",
        "```\n",
        "INSERT INTO users (id, name, email)\n",
        "VALUES (1, 'John Doe', 'john.doe@example.com');\n",
        "```\n",
        "\n",
        "### SELECT: Querying Data\n",
        "To retrieve data from a table, use the SELECT command followed by a list of columns (or * for all columns), the FROM keyword, and the table name. You can also add a WHERE clause to filter rows based on specific conditions, and use JOIN clauses to combine data from multiple tables.\n",
        "\n",
        "```\n",
        "SELECT column1, column2, ...\n",
        "FROM table_name\n",
        "WHERE condition;\n",
        "```\n",
        "\n",
        "For example, to select all users with an email containing 'example.com':\n",
        "```\n",
        "SELECT * FROM users\n",
        "WHERE email LIKE '%example.com%';\n",
        "```\n",
        "\n",
        "### UPDATE: Modifying Data\n",
        "To update data in a table, use the UPDATE command followed by the table name, the SET keyword with a list of columns and their new values, and a WHERE clause to specify the rows to update.\n",
        "\n",
        "```\n",
        "UPDATE table_name\n",
        "SET column1 = value1, column2 = value2, ...\n",
        "WHERE condition;\n",
        "```\n",
        "\n",
        "For example, to update the name of a user with id = 1:\n",
        "\n",
        "```\n",
        "UPDATE users\n",
        "SET name = 'Jane Doe'\n",
        "WHERE id = 1;\n",
        "```\n",
        "\n",
        "### DELETE: Removing Data\n",
        "To delete data from a table, use the DELETE FROM command followed by the table name and a WHERE clause to specify the rows to delete.\n",
        "\n",
        "```\n",
        "DELETE FROM table_name\n",
        "WHERE condition;\n",
        "```\n",
        "\n",
        "For example, to delete a user with id = 1:\n",
        "\n",
        "```\n",
        "DELETE FROM users\n",
        "WHERE id = 1;\n",
        "```\n",
        "\n",
        "These basic CRUD operations form the foundation of SQL and allow you to manage and query data in relational databases. As you become more familiar with SQL, you can explore more advanced features, such as aggregate functions, subqueries, and transactions, to further enhance your database capabilities.\n",
        "\n",
        "## SQLite\n",
        "SQLite is a lightweight, serverless, self-contained relational database management system (RDBMS) that is widely used for its simplicity and ease of use. It is an excellent choice for small-scale projects, development, and testing, as it stores the entire database in a single file and does not require a dedicated server or complex setup. SQLite is also well-supported by Python and can be easily accessed using Jupyter notebooks.\n",
        "\n",
        "In this example, we will use SQLite to create a two-table database about breweries and the beer they make. We will walk through the process of creating the tables, inserting data, and querying the database using SQL commands.\n",
        "\n",
        "First, let's load the SQL extension and set up a connection to the SQLite database:"
      ],
      "metadata": {
        "id": "V3KfW8fL0bNG"
      }
    },
    {
      "cell_type": "code",
      "source": [
        "# Connect to SQLite\n",
        "%load_ext sql\n",
        "%sql sqlite://"
      ],
      "metadata": {
        "colab": {
          "base_uri": "https://localhost:8080/",
          "height": 36
        },
        "id": "JgcmDlJr1uwC",
        "outputId": "0c956cf0-9bfb-4570-89e0-fa4ab701c593"
      },
      "execution_count": null,
      "outputs": [
        {
          "output_type": "execute_result",
          "data": {
            "text/plain": [
              "'Connected: @None'"
            ],
            "application/vnd.google.colaboratory.intrinsic+json": {
              "type": "string"
            }
          },
          "metadata": {},
          "execution_count": 41
        }
      ]
    },
    {
      "cell_type": "markdown",
      "source": [
        "### Creating the tables\n",
        "\n",
        "We will create two tables: breweries and beers. The breweries table will contain information about each brewery, and the beers table will contain information about each beer. Each beer will have a foreign key referencing the brewery that produces it."
      ],
      "metadata": {
        "id": "0D2MVtUH2mP-"
      }
    },
    {
      "cell_type": "code",
      "source": [
        "%%sql\n",
        "-- Create the breweries table\n",
        "CREATE TABLE breweries ( \n",
        "    id INTEGER PRIMARY KEY, -- a primary key is a unique identifier for each row\n",
        "    name TEXT NOT NULL, -- not null means that the column cannot be empty\n",
        "    city TEXT,\n",
        "    state TEXT\n",
        ");"
      ],
      "metadata": {
        "colab": {
          "base_uri": "https://localhost:8080/"
        },
        "id": "MB7qsczo0aUk",
        "outputId": "0a4a7217-09db-493f-cd3a-a7f219f96a3c"
      },
      "execution_count": null,
      "outputs": [
        {
          "output_type": "stream",
          "name": "stdout",
          "text": [
            " * sqlite://\n",
            "Done.\n"
          ]
        },
        {
          "output_type": "execute_result",
          "data": {
            "text/plain": [
              "[]"
            ]
          },
          "metadata": {},
          "execution_count": 42
        }
      ]
    },
    {
      "cell_type": "code",
      "source": [
        "%%sql\n",
        "-- Create the beers table\n",
        "CREATE TABLE beers (\n",
        "    id INTEGER PRIMARY KEY, -- a primary key is a unique identifier for each row\n",
        "    name TEXT NOT NULL,\n",
        "    style TEXT,\n",
        "    abv REAL, -- a real number is a floating point number\n",
        "    ibu INTEGER,\n",
        "    brewery_id INTEGER,\n",
        "    -- a foreign key is a reference to another table\n",
        "    FOREIGN KEY (brewery_id) REFERENCES breweries (id)\n",
        ");\n"
      ],
      "metadata": {
        "colab": {
          "base_uri": "https://localhost:8080/"
        },
        "id": "sBHrWeWm2S4P",
        "outputId": "ad286e50-9b57-4c74-af20-5e16161e25f2"
      },
      "execution_count": null,
      "outputs": [
        {
          "output_type": "stream",
          "name": "stdout",
          "text": [
            " * sqlite://\n",
            "Done.\n"
          ]
        },
        {
          "output_type": "execute_result",
          "data": {
            "text/plain": [
              "[]"
            ]
          },
          "metadata": {},
          "execution_count": 43
        }
      ]
    },
    {
      "cell_type": "markdown",
      "source": [
        "## Inserting Data into the Tables\n",
        "\n",
        "Now that we have created the breweries and beers tables, let's insert some sample data into them. We will insert the brewery information first and then insert the beer information, referencing the corresponding brewery's ID."
      ],
      "metadata": {
        "id": "uM9RVjUR3Spz"
      }
    },
    {
      "cell_type": "code",
      "source": [
        "%%sql\n",
        "-- Insert sample data into the breweries table\n",
        "INSERT INTO breweries (id, name, city, state)\n",
        "VALUES (1, 'Schell Brewery', 'New Ulm', 'MN'),\n",
        "       (2, 'Forager Brewery', 'Rochester', 'MN'),\n",
        "       (3, 'Surly Brewing', 'Minneapolis', 'MN');\n"
      ],
      "metadata": {
        "colab": {
          "base_uri": "https://localhost:8080/"
        },
        "id": "oU9ICUNa3UlT",
        "outputId": "c0d14338-c093-40e9-b63e-aa9a2b089305"
      },
      "execution_count": null,
      "outputs": [
        {
          "output_type": "stream",
          "name": "stdout",
          "text": [
            " * sqlite://\n",
            "Done.\n"
          ]
        },
        {
          "output_type": "execute_result",
          "data": {
            "text/plain": [
              "[]"
            ]
          },
          "metadata": {},
          "execution_count": 44
        }
      ]
    },
    {
      "cell_type": "code",
      "source": [
        "%%sql\n",
        "-- Insert sample data into the beers table\n",
        "INSERT INTO beers (id, name, style, abv, ibu, brewery_id)\n",
        "VALUES (1, 'Schell Firebrick', 'Vienna Lager', 5.0, 20, 1),\n",
        "       (2, 'Schell Deer Brand', 'American Adjunct Lager', 4.8, 15, 1),\n",
        "       (3, 'Forager Humble Bumble', 'Brown Ale', 5.5, 25, 2),\n",
        "       (4, 'Forager Pudding Goggles', 'Imperial Stout', 9.0, 50, 2),\n",
        "       (5, 'Surly Furious', 'IPA', 6.7, 100, 3),\n",
        "       (6, 'Surly Bender', 'American Brown Ale', 5.1, 45, 3),\n",
        "       (7, 'Schell Noble Star', 'Berliner Weisse', 3.9, 5, 1),\n",
        "       (8, 'Forager Sherpa', 'IPA', 6.8, 75, 2),\n",
        "       (9, 'Surly Coffee Bender', 'American Brown Ale', 5.1, 45, 3),\n",
        "       (10, 'Surly Hell', 'German Helles Lager', 4.5, 20, 3);\n"
      ],
      "metadata": {
        "colab": {
          "base_uri": "https://localhost:8080/"
        },
        "id": "vEm80_yt4N7Q",
        "outputId": "967687ac-68c6-493c-88c1-e106392231e6"
      },
      "execution_count": null,
      "outputs": [
        {
          "output_type": "stream",
          "name": "stdout",
          "text": [
            " * sqlite://\n",
            "Done.\n"
          ]
        },
        {
          "output_type": "execute_result",
          "data": {
            "text/plain": [
              "[]"
            ]
          },
          "metadata": {},
          "execution_count": 45
        }
      ]
    },
    {
      "cell_type": "markdown",
      "source": [
        "## Querying the Database\n",
        "\n",
        "With the data inserted into our tables, we can now query the database using SQL commands. In this section, we will demonstrate some common queries such as selecting all rows from a table, filtering rows based on a condition, and joining tables to retrieve combined data.\n"
      ],
      "metadata": {
        "id": "dcHrDdnk4RkX"
      }
    },
    {
      "cell_type": "code",
      "source": [
        "%%sql\n",
        "-- Select all rows from the breweries table\n",
        "SELECT * FROM breweries;"
      ],
      "metadata": {
        "colab": {
          "base_uri": "https://localhost:8080/",
          "height": 137
        },
        "id": "7uwX8-dD4WVw",
        "outputId": "2d3d818f-41e4-4fca-e701-844c19b852a4"
      },
      "execution_count": null,
      "outputs": [
        {
          "output_type": "stream",
          "name": "stdout",
          "text": [
            " * sqlite://\n",
            "Done.\n"
          ]
        },
        {
          "output_type": "execute_result",
          "data": {
            "text/plain": [
              "[(1, 'Schell Brewery', 'New Ulm', 'MN'),\n",
              " (2, 'Forager Brewery', 'Rochester', 'MN'),\n",
              " (3, 'Surly Brewing', 'Minneapolis', 'MN')]"
            ],
            "text/html": [
              "<table>\n",
              "    <thead>\n",
              "        <tr>\n",
              "            <th>id</th>\n",
              "            <th>name</th>\n",
              "            <th>city</th>\n",
              "            <th>state</th>\n",
              "        </tr>\n",
              "    </thead>\n",
              "    <tbody>\n",
              "        <tr>\n",
              "            <td>1</td>\n",
              "            <td>Schell Brewery</td>\n",
              "            <td>New Ulm</td>\n",
              "            <td>MN</td>\n",
              "        </tr>\n",
              "        <tr>\n",
              "            <td>2</td>\n",
              "            <td>Forager Brewery</td>\n",
              "            <td>Rochester</td>\n",
              "            <td>MN</td>\n",
              "        </tr>\n",
              "        <tr>\n",
              "            <td>3</td>\n",
              "            <td>Surly Brewing</td>\n",
              "            <td>Minneapolis</td>\n",
              "            <td>MN</td>\n",
              "        </tr>\n",
              "    </tbody>\n",
              "</table>"
            ]
          },
          "metadata": {},
          "execution_count": 46
        }
      ]
    },
    {
      "cell_type": "code",
      "source": [
        "%%sql\n",
        "-- Select all beers with an ABV greater than 6.0\n",
        "SELECT * FROM beers\n",
        "  WHERE abv > 6.0;"
      ],
      "metadata": {
        "colab": {
          "base_uri": "https://localhost:8080/",
          "height": 137
        },
        "id": "QboRyvLh4X-n",
        "outputId": "7a8c917d-249e-4886-e72b-9756aec83178"
      },
      "execution_count": null,
      "outputs": [
        {
          "output_type": "stream",
          "name": "stdout",
          "text": [
            " * sqlite://\n",
            "Done.\n"
          ]
        },
        {
          "output_type": "execute_result",
          "data": {
            "text/plain": [
              "[(4, 'Forager Pudding Goggles', 'Imperial Stout', 9.0, 50, 2),\n",
              " (5, 'Surly Furious', 'IPA', 6.7, 100, 3),\n",
              " (8, 'Forager Sherpa', 'IPA', 6.8, 75, 2)]"
            ],
            "text/html": [
              "<table>\n",
              "    <thead>\n",
              "        <tr>\n",
              "            <th>id</th>\n",
              "            <th>name</th>\n",
              "            <th>style</th>\n",
              "            <th>abv</th>\n",
              "            <th>ibu</th>\n",
              "            <th>brewery_id</th>\n",
              "        </tr>\n",
              "    </thead>\n",
              "    <tbody>\n",
              "        <tr>\n",
              "            <td>4</td>\n",
              "            <td>Forager Pudding Goggles</td>\n",
              "            <td>Imperial Stout</td>\n",
              "            <td>9.0</td>\n",
              "            <td>50</td>\n",
              "            <td>2</td>\n",
              "        </tr>\n",
              "        <tr>\n",
              "            <td>5</td>\n",
              "            <td>Surly Furious</td>\n",
              "            <td>IPA</td>\n",
              "            <td>6.7</td>\n",
              "            <td>100</td>\n",
              "            <td>3</td>\n",
              "        </tr>\n",
              "        <tr>\n",
              "            <td>8</td>\n",
              "            <td>Forager Sherpa</td>\n",
              "            <td>IPA</td>\n",
              "            <td>6.8</td>\n",
              "            <td>75</td>\n",
              "            <td>2</td>\n",
              "        </tr>\n",
              "    </tbody>\n",
              "</table>"
            ]
          },
          "metadata": {},
          "execution_count": 47
        }
      ]
    },
    {
      "cell_type": "code",
      "source": [
        "%%sql\n",
        "-- Join the beers and breweries tables to retrieve the brewery information for each beer\n",
        "SELECT beers.name, style, abv, ibu, breweries.name, city, state\n",
        "  FROM beers\n",
        "  JOIN breweries ON beers.brewery_id = breweries.id;"
      ],
      "metadata": {
        "colab": {
          "base_uri": "https://localhost:8080/",
          "height": 280
        },
        "id": "aLzEuWS34llb",
        "outputId": "c719ed96-ff49-488e-8437-405abae76bcf"
      },
      "execution_count": null,
      "outputs": [
        {
          "output_type": "stream",
          "name": "stdout",
          "text": [
            " * sqlite://\n",
            "Done.\n"
          ]
        },
        {
          "output_type": "execute_result",
          "data": {
            "text/plain": [
              "[('Schell Firebrick', 'Vienna Lager', 5.0, 20, 'Schell Brewery', 'New Ulm', 'MN'),\n",
              " ('Schell Deer Brand', 'American Adjunct Lager', 4.8, 15, 'Schell Brewery', 'New Ulm', 'MN'),\n",
              " ('Forager Humble Bumble', 'Brown Ale', 5.5, 25, 'Forager Brewery', 'Rochester', 'MN'),\n",
              " ('Forager Pudding Goggles', 'Imperial Stout', 9.0, 50, 'Forager Brewery', 'Rochester', 'MN'),\n",
              " ('Surly Furious', 'IPA', 6.7, 100, 'Surly Brewing', 'Minneapolis', 'MN'),\n",
              " ('Surly Bender', 'American Brown Ale', 5.1, 45, 'Surly Brewing', 'Minneapolis', 'MN'),\n",
              " ('Schell Noble Star', 'Berliner Weisse', 3.9, 5, 'Schell Brewery', 'New Ulm', 'MN'),\n",
              " ('Forager Sherpa', 'IPA', 6.8, 75, 'Forager Brewery', 'Rochester', 'MN'),\n",
              " ('Surly Coffee Bender', 'American Brown Ale', 5.1, 45, 'Surly Brewing', 'Minneapolis', 'MN'),\n",
              " ('Surly Hell', 'German Helles Lager', 4.5, 20, 'Surly Brewing', 'Minneapolis', 'MN')]"
            ],
            "text/html": [
              "<table>\n",
              "    <thead>\n",
              "        <tr>\n",
              "            <th>name</th>\n",
              "            <th>style</th>\n",
              "            <th>abv</th>\n",
              "            <th>ibu</th>\n",
              "            <th>name_1</th>\n",
              "            <th>city</th>\n",
              "            <th>state</th>\n",
              "        </tr>\n",
              "    </thead>\n",
              "    <tbody>\n",
              "        <tr>\n",
              "            <td>Schell Firebrick</td>\n",
              "            <td>Vienna Lager</td>\n",
              "            <td>5.0</td>\n",
              "            <td>20</td>\n",
              "            <td>Schell Brewery</td>\n",
              "            <td>New Ulm</td>\n",
              "            <td>MN</td>\n",
              "        </tr>\n",
              "        <tr>\n",
              "            <td>Schell Deer Brand</td>\n",
              "            <td>American Adjunct Lager</td>\n",
              "            <td>4.8</td>\n",
              "            <td>15</td>\n",
              "            <td>Schell Brewery</td>\n",
              "            <td>New Ulm</td>\n",
              "            <td>MN</td>\n",
              "        </tr>\n",
              "        <tr>\n",
              "            <td>Forager Humble Bumble</td>\n",
              "            <td>Brown Ale</td>\n",
              "            <td>5.5</td>\n",
              "            <td>25</td>\n",
              "            <td>Forager Brewery</td>\n",
              "            <td>Rochester</td>\n",
              "            <td>MN</td>\n",
              "        </tr>\n",
              "        <tr>\n",
              "            <td>Forager Pudding Goggles</td>\n",
              "            <td>Imperial Stout</td>\n",
              "            <td>9.0</td>\n",
              "            <td>50</td>\n",
              "            <td>Forager Brewery</td>\n",
              "            <td>Rochester</td>\n",
              "            <td>MN</td>\n",
              "        </tr>\n",
              "        <tr>\n",
              "            <td>Surly Furious</td>\n",
              "            <td>IPA</td>\n",
              "            <td>6.7</td>\n",
              "            <td>100</td>\n",
              "            <td>Surly Brewing</td>\n",
              "            <td>Minneapolis</td>\n",
              "            <td>MN</td>\n",
              "        </tr>\n",
              "        <tr>\n",
              "            <td>Surly Bender</td>\n",
              "            <td>American Brown Ale</td>\n",
              "            <td>5.1</td>\n",
              "            <td>45</td>\n",
              "            <td>Surly Brewing</td>\n",
              "            <td>Minneapolis</td>\n",
              "            <td>MN</td>\n",
              "        </tr>\n",
              "        <tr>\n",
              "            <td>Schell Noble Star</td>\n",
              "            <td>Berliner Weisse</td>\n",
              "            <td>3.9</td>\n",
              "            <td>5</td>\n",
              "            <td>Schell Brewery</td>\n",
              "            <td>New Ulm</td>\n",
              "            <td>MN</td>\n",
              "        </tr>\n",
              "        <tr>\n",
              "            <td>Forager Sherpa</td>\n",
              "            <td>IPA</td>\n",
              "            <td>6.8</td>\n",
              "            <td>75</td>\n",
              "            <td>Forager Brewery</td>\n",
              "            <td>Rochester</td>\n",
              "            <td>MN</td>\n",
              "        </tr>\n",
              "        <tr>\n",
              "            <td>Surly Coffee Bender</td>\n",
              "            <td>American Brown Ale</td>\n",
              "            <td>5.1</td>\n",
              "            <td>45</td>\n",
              "            <td>Surly Brewing</td>\n",
              "            <td>Minneapolis</td>\n",
              "            <td>MN</td>\n",
              "        </tr>\n",
              "        <tr>\n",
              "            <td>Surly Hell</td>\n",
              "            <td>German Helles Lager</td>\n",
              "            <td>4.5</td>\n",
              "            <td>20</td>\n",
              "            <td>Surly Brewing</td>\n",
              "            <td>Minneapolis</td>\n",
              "            <td>MN</td>\n",
              "        </tr>\n",
              "    </tbody>\n",
              "</table>"
            ]
          },
          "metadata": {},
          "execution_count": 52
        }
      ]
    },
    {
      "cell_type": "markdown",
      "source": [
        "## You Try It"
      ],
      "metadata": {
        "id": "5kh8X-fs7g9c"
      }
    },
    {
      "cell_type": "code",
      "source": [
        "# Exercise 1\n",
        "# List all breweries\n",
        "# Hint: Use the SELECT command to retrieve all rows from the breweries table.\n",
        "%%sql\n",
        "-- your code here"
      ],
      "metadata": {
        "colab": {
          "base_uri": "https://localhost:8080/"
        },
        "id": "172We8097jwC",
        "outputId": "5a5ca208-73de-4db3-d099-9d393c1cff20"
      },
      "execution_count": null,
      "outputs": [
        {
          "output_type": "stream",
          "name": "stdout",
          "text": [
            " * sqlite://\n",
            "0 rows affected.\n"
          ]
        },
        {
          "output_type": "execute_result",
          "data": {
            "text/plain": [
              "[]"
            ]
          },
          "metadata": {},
          "execution_count": 53
        }
      ]
    },
    {
      "cell_type": "code",
      "source": [
        "# Exercise 2\n",
        "# List all beers with an ABV greater than 6.0\n",
        "# Hint: Use the SELECT command with a WHERE clause to filter rows based on a condition.\n",
        "\n",
        "%%sql\n",
        "-- your code here"
      ],
      "metadata": {
        "id": "owBdD0qe7rqi"
      },
      "execution_count": null,
      "outputs": []
    },
    {
      "cell_type": "code",
      "source": [
        "# Exercise 3\n",
        "# Add a new brewery to the breweries table\n",
        "# Hint: Use the INSERT INTO command to insert a new row with the given values.\n",
        "\n",
        "%%sql\n",
        "-- your code here"
      ],
      "metadata": {
        "id": "oIo7Ry2P8PsI"
      },
      "execution_count": null,
      "outputs": []
    },
    {
      "cell_type": "code",
      "source": [
        "# Exercise 4\n",
        "# Update the city of a brewery\n",
        "# Hint: Use the UPDATE command with a WHERE clause to update a specific row.\n",
        "\n",
        "%%sql\n",
        "-- your code here"
      ],
      "metadata": {
        "id": "w3Kl4HfJ8UCH"
      },
      "execution_count": null,
      "outputs": []
    },
    {
      "cell_type": "markdown",
      "source": [
        "# Strategy 3 - Dictionaries and JSON\n",
        "\n",
        "In this section, we'll explore another method for storing and handling data: dictionaries. A dictionary is a built-in data structure in Python that allows you to store data as key-value pairs. Dictionaries are versatile and widely used for various applications. Later in this section, we'll also introduce JSON (JavaScript Object Notation), a lightweight data interchange format that is structurally similar to dictionaries and commonly used for data exchange between systems.\n",
        "\n",
        "When comparing dictionaries to flat files (CSV) and relational databases, there are some key differences to consider:\n",
        "\n",
        "* Data Structure: Dictionaries can represent more complex data structures, such as nested lists and dictionaries, compared to CSV files, which are limited to tabular data. Relational databases, on the other hand, can model complex relationships between data, but they require more setup and maintenance.\n",
        "\n",
        "* Readability: Dictionaries are human-readable, similar to CSV files. However, dictionaries have a more structured format, which can make them easier to understand at a glance compared to CSV files. Relational databases are not as easily readable, as they require SQL queries to access and manipulate the data.\n",
        "\n",
        "* Interoperability: Dictionaries, being a Python data structure, are not as universally supported as JSON or CSV files. However, dictionaries can be easily converted to JSON format, which can be consumed and generated by various programming languages, making it an ideal choice for data exchange between different systems.\n",
        "\n",
        "* Efficiency: Dictionaries are less efficient for large datasets compared to relational databases, which are optimized for storing, indexing, and querying vast amounts of data. CSV files can also become inefficient for large datasets due to the lack of compression and indexing.\n",
        "\n",
        "In this section, we'll explore how to work with dictionaries in Python and discuss their common use cases, advantages, and disadvantages. This will help you choose the most suitable data storage and manipulation strategy based on your specific needs and requirements.\n",
        "\n",
        "## Working with Python Dictionaries\n",
        "\n",
        "A Python dictionary is a built-in data structure that stores key-value pairs, where each key is mapped to a corresponding value. Dictionaries are mutable, unordered, and cannot have duplicate keys. They are often used for tasks such as data organization, configuration storage, and representation of relationships between data elements.\n",
        "\n",
        "Here's an example of a Python dictionary representing a beer:"
      ],
      "metadata": {
        "id": "nzEJs7_o-yzA"
      }
    },
    {
      "cell_type": "code",
      "source": [
        "beer = {\n",
        "    'name': 'Hoppy IPA',\n",
        "    'style': 'IPA',\n",
        "    'abv': 6.5,\n",
        "    'ibu': 70,\n",
        "    'brewery': 'Craft Brewery Co.',\n",
        "    'state': 'CA'\n",
        "}\n"
      ],
      "metadata": {
        "id": "pMa1_5-d8fMu"
      },
      "execution_count": null,
      "outputs": []
    },
    {
      "cell_type": "markdown",
      "source": [
        "You can access, add, update, or remove elements in a dictionary using the following operations:\n",
        "\n",
        "-   Access a value by key: `beer['name']` (returns `'Hoppy IPA'`)\n",
        "-   Add a new key-value pair: `beer['calories'] = 210`\n",
        "-   Update a value: `beer['style'] = 'Double IPA'`\n",
        "-   Remove a key-value pair: `del beer['ibu']`\n",
        "\n",
        "Compared to flat files (CSV) and relational databases, dictionaries offer a more flexible way to represent complex data structures. For instance, you can easily store nested data, like a list of beers produced by a brewery:"
      ],
      "metadata": {
        "id": "OwgX_y6l_T7d"
      }
    },
    {
      "cell_type": "code",
      "source": [
        "brewery = {\n",
        "    'name': 'Craft Brewery Co.',\n",
        "    'state': 'CA',\n",
        "    'beers': [\n",
        "        {'name': 'Hoppy IPA', 'style': 'IPA', 'abv': 6.5, 'ibu': 70},\n",
        "        {'name': 'Smooth Stout', 'style': 'Stout', 'abv': 5.0, 'ibu': 40},\n",
        "        {'name': 'Crisp Lager', 'style': 'Lager', 'abv': 4.5, 'ibu': 25}\n",
        "    ]\n",
        "}\n"
      ],
      "metadata": {
        "id": "47Rp3CFO_Ta3"
      },
      "execution_count": null,
      "outputs": []
    },
    {
      "cell_type": "markdown",
      "source": [
        "However, dictionaries alone are not well-suited for data exchange between different systems, as they are a Python-specific data structure. To overcome this limitation, we can use JSON, a lightweight data interchange format that is structurally similar to dictionaries and widely supported across various programming languages.\n",
        "\n",
        "In the next section, we'll discuss common use cases, advantages, and disadvantages of using dictionaries and JSON, and how to work with JSON data in Python."
      ],
      "metadata": {
        "id": "9qlIb4NH_W_V"
      }
    },
    {
      "cell_type": "markdown",
      "source": [
        "### Common Use Cases, Advantages, and Disadvantages of Dictionaries and JSON\n",
        "\n",
        "Dictionaries and JSON are versatile tools for storing and manipulating data. In this section, we'll cover their common use cases, advantages, and disadvantages compared to flat files and relational databases. We'll also discuss JSON's relationship to NoSQL databases and why JSON is considered \"dictionary-like.\"\n",
        "\n",
        "## What is JSON and its Relationship to Dictionaries\n",
        "\n",
        "JSON (JavaScript Object Notation) is a lightweight data interchange format that is easy for humans to read and write, and easy for machines to parse and generate. JSON is a text format that is completely language-independent but uses conventions that are familiar to programmers of the C family of languages, including C, C++, C#, Java, JavaScript, Perl, Python, and many others.\n",
        "\n",
        "JSON is \"dictionary-like\" because its structure closely resembles a Python dictionary. In JSON, data is represented as key-value pairs, similar to dictionaries, enclosed in curly braces (`{}`). Keys must be strings, while values can be strings, numbers, booleans, null, objects (similar to dictionaries), or arrays (similar to lists).\n",
        "\n",
        "For example, a JSON representation of a beer:\n",
        "\n",
        "```\n",
        "\n",
        "`{\n",
        "    \"name\": \"Hoppy IPA\",\n",
        "    \"style\": \"IPA\",\n",
        "    \"abv\": 6.5,\n",
        "    \"ibu\": 70,\n",
        "    \"brewery\": \"Craft Brewery Co.\",\n",
        "    \"state\": \"CA\"\n",
        "}`\n",
        "```\n",
        "\n",
        "## JSON's Relationship to NoSQL Databases\n",
        "\n",
        "NoSQL (Not only SQL) databases are non-relational databases that can store and retrieve data in formats other than tables. JSON is often used as a data storage format in NoSQL databases, such as MongoDB and Couchbase, because of its flexibility and scalability. These databases can efficiently store and query JSON documents, making them suitable for handling large-scale, unstructured, or semi-structured data.\n",
        "\n",
        "### Use Cases\n",
        "\n",
        "1.  Configuration Storage: Dictionaries are a popular choice for storing configuration settings for applications, while JSON files are used for sharing configuration data between different systems or platforms.\n",
        "\n",
        "2.  Data Organization: Dictionaries can be used to organize and structure data in a more readable and accessible format. JSON is frequently used for exchanging structured data between APIs and web applications.\n",
        "\n",
        "3.  Serialization: Dictionaries can be serialized into JSON format, making it easy to save and load data in a human-readable format.\n",
        "\n",
        "4.  NoSQL Databases: JSON is a common data format used in NoSQL databases for storing and querying complex, unstructured, or semi-structured data.\n",
        "\n",
        "### Advantages\n",
        "\n",
        "1.  Human-Readable: Both dictionaries and JSON are human-readable, making it easy to understand and edit the data.\n",
        "\n",
        "2.  Flexible Data Structure: Dictionaries can represent complex data structures, such as nested lists and dictionaries, which are not possible with CSV files. JSON shares this flexibility, enabling the exchange of complex data between systems.\n",
        "\n",
        "3.  Language-Independent: While dictionaries are specific to Python, JSON is a language-independent data format that can be used with various programming languages.\n",
        "\n",
        "4.  Easy to Use: Dictionaries are simple to create, modify, and access in Python. JSON data can also be easily loaded and dumped using Python's built-in `json` module.\n",
        "\n",
        "### Disadvantages\n",
        "\n",
        "1.  Limited Scalability: Dictionaries and JSON are not as efficient as relational databases for storing and querying large datasets.\n",
        "\n",
        "2.  Lack of Standardized Data Types: Unlike relational databases, dictionaries and JSON do not have a standardized way to represent different data types, such as dates, times, or currencies.\n",
        "\n",
        "3.  No Built-in Validation: Dictionaries and JSON do not provide built-in validation, unlike relational databases, which can enforce data integrity through constraints and relationships.\n",
        "\n",
        "1.  Performance: Relational databases are optimized for performance, allowing for efficient data retrieval and manipulation. In contrast, JSON-based systems may experience performance degradation when dealing with large datasets or complex queries.\n",
        "\n",
        "2.  Security: Relational databases often include built-in security features, such as authentication and access control. JSON-based systems and NoSQL databases may require additional security measures to protect data.\n",
        "\n",
        "3.  Data Integrity: Relational databases use constraints, relationships, and transactions to ensure data integrity. JSON and dictionaries lack these features, which can lead to potential issues with data consistency and integrity.\n",
        "\n",
        "For example, consider an e-commerce application with a relational database that stores information about customers, orders, and products. Using foreign key constraints and transactions, the application can ensure that an order is linked to a valid customer and product, and that inventory levels are accurately maintained. With JSON-based systems or dictionaries, implementing such constraints and transactions may be more difficult, leading to potential data inconsistencies.\n",
        "\n",
        "In summary, dictionaries and JSON offer a flexible and human-readable way to store and exchange data. They can be particularly useful for specific scenarios, such as configuration storage or data exchange between systems. However, for applications requiring large-scale data storage, complex querying, and strict data integrity, relational databases remain the more appropriate choice."
      ],
      "metadata": {
        "id": "Hr2DW9swA67A"
      }
    },
    {
      "cell_type": "markdown",
      "source": [
        "## You Try It\n",
        "In this exercise, we will practice working with dictionaries in Python. Before diving into the problems, let's first review some basic dictionary operations and syntax.\n",
        "\n",
        "### Dictionary Operations and Syntax\n",
        "\n",
        "1.  Create a dictionary: Use curly braces `{}` to create a dictionary, with keys and values separated by colons. For example, `my_dict = {'key1': 'value1', 'key2': 'value2'}`.\n",
        "\n",
        "2.  Access a value: Use the key inside square brackets to access a value, e.g., `my_dict['key1']` returns `'value1'`.\n",
        "\n",
        "3.  Add a key-value pair: Assign a value to a new key, e.g., `my_dict['key3'] = 'value3'`.\n",
        "\n",
        "4.  Update a value: Assign a new value to an existing key, e.g., `my_dict['key1'] = 'new_value1'`.\n",
        "\n",
        "5.  Check if a key exists: Use the `in` keyword, e.g., `'key1' in my_dict` returns `True`.\n",
        "\n",
        "6.  Remove a key-value pair: Use the `del` keyword, e.g., `del my_dict['key1']`.\n",
        "\n",
        "7.  Iterate over a dictionary: Use a `for` loop, e.g., `for key, value in my_dict.items():`.\n",
        "\n",
        "Now, let's move on to the exercises. Remember to use the syntax and operations explained above to solve the problems.\n",
        "\n",
        "### Exercise 1: Create a Dictionary\n",
        "\n",
        "Create a dictionary called `beer` with the following key-value pairs:\n",
        "\n",
        "-   'name': 'Hoppy IPA'\n",
        "-   'style': 'IPA'\n",
        "-   'abv': 6.5\n",
        "-   'ibu': 70\n",
        "\n",
        "### Exercise 2: Access and Update Values\n",
        "\n",
        "Using the `beer` dictionary created in Exercise 1, perform the following tasks:\n",
        "\n",
        "1.  Print the value associated with the key 'name'.\n",
        "2.  Update the value of 'abv' to 7.0.\n",
        "3.  Print the updated 'abv' value.\n",
        "\n",
        "### Exercise 3: Add a Key-Value Pair\n",
        "\n",
        "Add a new key-value pair to the `beer` dictionary:\n",
        "\n",
        "-   'brewery': 'Craft Brewery Co.'\n",
        "\n",
        "After adding the new key-value pair, print the entire dictionary.\n",
        "\n",
        "### Exercise 4: Check for a Key\n",
        "\n",
        "Write a conditional statement that checks if the key 'ibu' exists in the `beer` dictionary. If it exists, print the value. Otherwise, print 'IBU not found'.\n",
        "\n",
        "### Exercise 5: Iterate Over a Dictionary\n",
        "\n",
        "Using a `for` loop, iterate over the `beer` dictionary and print the keys and their corresponding values in the following format:\n",
        "\n"
      ],
      "metadata": {
        "id": "XHhmRDD-B-60"
      }
    },
    {
      "cell_type": "code",
      "source": [
        "# Exercise 1 code"
      ],
      "metadata": {
        "id": "J6gJaQQpA6iI"
      },
      "execution_count": null,
      "outputs": []
    },
    {
      "cell_type": "code",
      "source": [
        "# Exercise 2 code"
      ],
      "metadata": {
        "id": "UGFe12DE_Zdr"
      },
      "execution_count": null,
      "outputs": []
    },
    {
      "cell_type": "code",
      "source": [
        "# Exercise 3 code"
      ],
      "metadata": {
        "id": "OehK3Z2aCHMe"
      },
      "execution_count": null,
      "outputs": []
    },
    {
      "cell_type": "code",
      "source": [
        "# Exercise 4 code"
      ],
      "metadata": {
        "id": "KriY9qsbCI-8"
      },
      "execution_count": null,
      "outputs": []
    },
    {
      "cell_type": "code",
      "source": [
        "# Exercise 5 code"
      ],
      "metadata": {
        "id": "rIxwQR5mCKUM"
      },
      "execution_count": null,
      "outputs": []
    },
    {
      "cell_type": "markdown",
      "source": [
        "# Summary: Turning Data Into Knowledge\n",
        "In this lesson, we've reviewed three common ways of storing data. The utimate goal of storing data (in all three cases) is to help us obtain knowledge. However, each method has its own set of use cases, strengths, and weaknesses.\n",
        "\n",
        "\n",
        "**Flat Files (CSV/Data Frame):** Flat files, such as CSVs, are great for small to medium-sized datasets that have a tabular structure. They are human-readable, easy to create and edit, and widely supported across platforms and software. However, they have limited support for complex data structures and relationships, and can be inefficient for large datasets due to a lack of compression and indexing. Remember that flat files are best suited for simpler datasets and applications that don't require advanced querying or strict data integrity.\n",
        "\n",
        "**Relational Databases:** Relational databases are designed for large and complex datasets, providing robust data integrity through constraints and relationships, as well as optimized performance. They use standardized data types and SQL for querying, making them a popular choice for many applications. Keep in mind that relational databases can be more complex to set up and manage, but they offer the scalability, security, and data integrity needed for more demanding applications.\n",
        "\n",
        "**Dictionaries/JSON (incl. NoSQL):**  Dictionaries and JSON, including NoSQL databases like MongoDB, provide a flexible and language-independent way to store and exchange data. They are ideal for configuration storage, API data, and semi-structured data that doesn't fit neatly into a tabular format. NoSQL databases offer schema-less design and high scalability for simple queries. However, they may lack built-in validation and be less efficient for complex queries compared to relational databases. Remember that dictionaries and JSON are best suited for applications that require flexibility and can tolerate some trade-offs in data integrity and query performance.\n",
        "\n",
        "\n",
        "\n",
        "| Aspect | Flat Files (CSV/Data Frame) | Relational Databases | Dictionaries/JSON (incl. NoSQL) |\n",
        "| --- | --- | --- | --- |\n",
        "| Structure | Tabular data | Tables with relationships | Key-value pairs, documents |\n",
        "| Data Storage | Text files (CSV) | Database management system | In-memory, JSON files, NoSQL DBs |\n",
        "| Use Cases | Small to medium-sized datasets | Large and complex datasets | Configuration, API data, semi-structured data |\n",
        "| Advantages | Human-readable | Data integrity, performance | Flexible data structure, language-independent, schema-less |\n",
        "| Disadvantages | Limited complex data support | More complex to set up | Limited scalability for complex queries, no built-in validation |\n",
        "| Query Language | N/A (Python/Pandas) | SQL | N/A (Python), NoSQL query languages |\n",
        "| Data Types | Limited standardization | Standardized data types | Limited standardization |\n",
        "| Data Integrity | None | Constraints, relationships | None |\n",
        "| Performance | Inefficient for large datasets | Optimized for performance | Inefficient for complex queries |\n",
        "| Scalability | Limited | High | High for simple queries |\n",
        "| Security | None | Built-in features | Requires additional measures |\n"
      ],
      "metadata": {
        "id": "iuknI3gbDshr"
      }
    },
    {
      "cell_type": "code",
      "source": [],
      "metadata": {
        "id": "cZUxt6q_EWJD"
      },
      "execution_count": null,
      "outputs": []
    }
  ]
}