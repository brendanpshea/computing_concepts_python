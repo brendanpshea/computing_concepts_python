{
  "nbformat": 4,
  "nbformat_minor": 0,
  "metadata": {
    "colab": {
      "provenance": [],
      "authorship_tag": "ABX9TyPoIXpReOtksLg21yF4QPwO",
      "include_colab_link": true
    },
    "kernelspec": {
      "name": "python3",
      "display_name": "Python 3"
    },
    "language_info": {
      "name": "python"
    }
  },
  "cells": [
    {
      "cell_type": "markdown",
      "metadata": {
        "id": "view-in-github",
        "colab_type": "text"
      },
      "source": [
        "<a href=\"https://colab.research.google.com/github/brendanpshea/intro_cs/blob/main/Python_05_Binary.ipynb\" target=\"_parent\"><img src=\"https://colab.research.google.com/assets/colab-badge.svg\" alt=\"Open In Colab\"/></a>"
      ]
    },
    {
      "cell_type": "markdown",
      "source": [
        "# The Logic of Zeroes and Ones\n",
        "## Brendan Shea, PhD (Brendan.Shea@rctc.edu) \n",
        "\n",
        "In this lesson,  we will explore the fascinating world of binary, logic, and data representation. As computer science students, it is essential to understand these fundamental concepts as they form the backbone of computer systems and programming languages. In this chapter, we aim to:\n",
        "\n",
        "1. Explain the binary numbering system and its significance in computer science.\n",
        "Demonstrate how binary is used in various aspects of computer systems, including machine language, programming languages, and computer architecture.\n",
        "\n",
        "2. Explore the representation of different data types in binary, such as integers, floats, and characters.\n",
        "\n",
        "3. Discuss binary arithmetic and its application in computer operations.\n",
        "Introduce truth tables and logical operators, along with their relevance in programming.\n",
        "\n",
        "4. Describe how images and sounds are represented in binary through pixels and waveforms, respectively.\n",
        "\n",
        "Binary, logic, and data representation are foundational concepts in computer science that enable us to communicate with and manipulate computers. Understanding these principles will not only help you become a better programmer but also enable you to design efficient and effective solutions for complex problems. By grasping the fundamental elements of how computers process and represent data, you can develop a deeper appreciation for the inner workings of hardware and software and unlock the potential to create innovative and powerful applications."
      ],
      "metadata": {
        "id": "V29qHverJhRS"
      }
    },
    {
      "cell_type": "markdown",
      "source": [
        "# What is Binary?\n",
        "\n",
        "\n",
        "### Definition of Binary\n",
        "\n",
        "Binary, also known as the base-2 numeral system, is a numbering system that uses only two digits: 0 and 1. It serves as the foundation of digital electronics and computer systems. In contrast to the decimal system (base-10) we use in everyday life, which has ten digits (0 through 9), binary relies solely on these two digits to represent all possible values.\n",
        "\n",
        "### Comparison of Binary and Decimal Numbering Systems\n",
        "\n",
        "The decimal numbering system is based on powers of 10, while the binary system is based on powers of 2. To understand the difference, let's compare the way numbers are represented in both systems.\n",
        "\n",
        "In the decimal system, each digit's position represents a power of 10. For example, the number 1234 can be represented as:\n",
        "\n",
        "`(1 × 10^3) + (2 × 10^2) + (3 × 10^1) + (4 × 10^0) = 1000 + 200 + 30 + 4 = 1234`\n",
        "\n",
        "In the binary system, each digit's position represents a power of 2. For example, the binary number 1101 can be represented as:\n",
        "\n",
        "`(1 × 2^3) + (1 × 2^2) + (0 × 2^1) + (1 × 2^0) = 8 + 4 + 0 + 1 = 13`\n",
        "\n",
        "As you can see, the binary system uses the same positional notation principles as the decimal system, but with a base of 2 instead of 10.\n",
        "\n",
        "### How Binary is Represented (Bits and Bytes)\n",
        "\n",
        "In computer systems, binary is represented using bits and bytes. A bit (short for \"binary digit\") is the smallest unit of data in a computer and can have a value of either 0 or 1. A byte, on the other hand, is a group of 8 bits. Bytes are used as a standard unit for data storage and communication, as they can represent 256 distinct values (2^8), which is sufficient for various encoding schemes, such as ASCII for characters.\n",
        "\n",
        "### Why Computers Use Binary\n",
        "\n",
        "Computers use binary for several reasons:\n",
        "\n",
        "1.  Simplicity: Binary systems are relatively simple to design and implement in electronic circuits, as there are only two possible states: on (1) and off (0). This simplicity reduces the complexity and cost of computer hardware.\n",
        "\n",
        "2.  Reliability: Binary systems are less prone to errors caused by electrical noise and interference, as they only need to distinguish between two voltage levels.\n",
        "\n",
        "3.  Efficiency: Binary representation allows for efficient data storage and processing, as a small number of bits can represent a wide range of values.\n",
        "\n",
        "Overall, the binary system provides a practical and efficient means for computers to process, store, and transmit information."
      ],
      "metadata": {
        "id": "FgxvCdeHJ_HE"
      }
    },
    {
      "cell_type": "markdown",
      "source": [
        "# How Binary is Used in Computers\n",
        "\n",
        "\n",
        "### Explanation of Machine Language\n",
        "\n",
        "Machine language, also known as machine code or binary code, is the lowest-level programming language understood by computers. It consists of binary instructions that are executed directly by a computer's central processing unit (CPU). Each instruction in machine language corresponds to a specific operation, such as addition, subtraction, or data movement.\n",
        "\n",
        "Machine language instructions are composed of binary sequences that represent both the operation to be performed and the data on which the operation will act. Since machine language is specific to a computer's hardware architecture, it is not portable across different types of computers.\n",
        "\n",
        "### How Binary is Used in Programming Languages\n",
        "\n",
        "Higher-level programming languages, such as Python, Java, and C++, use human-readable syntax and constructs to write code. These languages are then translated into machine language by compilers or interpreters, allowing the computer to execute the instructions.\n",
        "\n",
        "Binary plays a crucial role in this translation process, as each programming language construct is eventually converted into a series of binary instructions that the CPU can understand and execute. For example, variables are stored in memory as binary values, and operators (such as addition or comparison) are translated into binary instructions that manipulate those values.\n",
        "\n",
        "### The Importance of Binary in Computer Architecture\n",
        "\n",
        "Binary is deeply ingrained in the design and function of computer hardware. Various components of a computer, such as the CPU, memory, and input/output devices, rely on binary to perform their tasks.\n",
        "\n",
        "1.  CPU: The CPU interprets and executes binary instructions, which control its various components, such as the arithmetic logic unit (ALU) and registers.\n",
        "\n",
        "2.  Memory: Computer memory, including both primary (RAM) and secondary (hard drives, SSDs) storage, holds data in binary format. This allows for efficient storage and retrieval of information.\n",
        "\n",
        "3.  Input/Output Devices: Devices like keyboards, mice, and displays use binary signals to communicate with the computer. For example, when you press a key on your keyboard, a binary code representing the specific key is sent to the computer.\n"
      ],
      "metadata": {
        "id": "wgHsd4VzKSyW"
      }
    },
    {
      "cell_type": "markdown",
      "source": [
        "# Binary and Data Types\n",
        "In programming languages, data types are used to categorize and manage different kinds of data. Some common data types include:\n",
        "\n",
        "1. Integers: Whole numbers, such as -2, 0, and 42.\n",
        "2. Floats: Real numbers with a decimal point, such as 3.14 or -0.75.\n",
        "3. Characters: Individual symbols, such as letters, digits, or punctuation marks (e.g., 'A', '7', '!').\n",
        "Each data type has a specific binary representation that determines how the data is stored and processed in memory.\n",
        "\n",
        "## How Data Types are Represented in Binary\n",
        "Different data types have distinct binary representations, which dictate how they are stored and manipulated within a computer system. Here are some examples of how common data types are represented in binary:\n",
        "\n",
        "### Integers: Two's Complement\n",
        "\n",
        "Two's complement is a widely used method for representing signed integers in binary. In two's complement, positive numbers are represented as their binary equivalent, while negative numbers are represented as the two's complement of the absolute value of the number.\n",
        "\n",
        "To find the two's complement of a binary number:\n",
        "\n",
        "1.  Invert all the bits (change 0s to 1s and 1s to 0s).\n",
        "2.  Add 1 to the result.\n",
        "\n",
        "For example, to represent the signed integer `-5` in 8-bit two's complement:\n",
        "\n",
        "1.  Convert the absolute value of `-5` to binary: `00000101`.\n",
        "2.  Invert all bits: `11111010`.\n",
        "3.  Add 1 to the result: `11111011`.\n",
        "\n",
        "So, the 8-bit two's complement representation of `-5` is `11111011`.\n",
        "\n",
        "### Floats: IEEE 754\n",
        "\n",
        "IEEE 754 is a standard for representing floating-point numbers in binary. This standard uses a scientific notation-like format, encoding the number's sign, exponent, and mantissa (or significand). The most common formats are single-precision (32 bits) and double-precision (64 bits).\n",
        "\n",
        "For single-precision floating-point numbers:\n",
        "\n",
        "1.  The first bit represents the sign (0 for positive, 1 for negative).\n",
        "2.  The next 8 bits represent the exponent in a biased form, where the bias is 127.\n",
        "3.  The remaining 23 bits represent the mantissa (or significand) with an implicit leading 1.\n",
        "\n",
        "For example, to represent the floating-point number `3.14` in single-precision IEEE 754:\n",
        "\n",
        "1.  Convert the decimal number to binary: `11.00100011...`.\n",
        "2.  Normalize the binary number: `1.100100011... x 2^1`.\n",
        "3.  Calculate the biased exponent (1 + 127) = 128, which is `10000000` in binary.\n",
        "4.  Extract the mantissa (ignoring the implicit leading 1): `100100011...` (truncate or round to 23 bits).\n",
        "\n",
        "So, the 32-bit IEEE 754 representation of `3.14` is `0 10000000 10010001111010111000011`.\n",
        "\n",
        "### Text: ASCII and Unicode\n",
        "\n",
        "ASCII (American Standard Code for Information Interchange) is a widely used character encoding scheme that assigns unique binary codes to 128 characters, including uppercase and lowercase English letters, digits, punctuation marks, and control characters.\n",
        "\n",
        "In **ASCII**, each character is represented by a 7-bit binary code, although it is commonly stored in an 8-bit format (with the leading bit set to 0). For example, the character 'A' is represented in ASCII as `01000001`.\n",
        "\n",
        "**Unicode** is an extension of ASCII that provides a unique code for every character in virtually all written languages. It was developed to overcome the limitations of ASCII, which can only represent a small subset of characters. Unicode can represent over a million distinct characters using a combination of encoding forms, such as UTF-8, UTF-16, and UTF-32.\n",
        "\n",
        "**UTF-8** is the most widely used Unicode encoding form. It uses variable-length encoding, where characters can be represented by 1 to 4 bytes. UTF-8 is backward compatible with ASCII, meaning that ASCII characters are represented by the same binary codes in UTF-8.\n",
        "\n",
        "For example, the character 'A' is represented in UTF-8 as `01000001` (the same as in ASCII), while the character '€' is represented in UTF-8 as 11100010 10000010 10101100."
      ],
      "metadata": {
        "id": "RGBe8X0qLlp7"
      }
    },
    {
      "cell_type": "markdown",
      "source": [
        "# Playing With Bytes\n",
        "\n",
        "Here's a Python function that interprets a given byte in three different ways: as a two's complement signed integer, as a UTF-8 encoded character, and as the start of a single-precision floating-point number's mantissa. Note that interpreting a single byte as a floating-point number is not standard practice, but for the sake of the exercise, we'll assume the exponent is 0 and the sign is positive:"
      ],
      "metadata": {
        "id": "3l8APu6LNNqN"
      }
    },
    {
      "cell_type": "code",
      "execution_count": null,
      "metadata": {
        "id": "Ok-kCmamJg52"
      },
      "outputs": [],
      "source": [
        "def byte_me(my_byte):\n",
        "    # Interpret byte as a two's complement signed integer\n",
        "    if my_byte & 0b10000000:  # Check if the most significant bit is set (negative number)\n",
        "        twos_complement_value = my_byte - 256  # Subtract 256 to get the negative value\n",
        "    else:\n",
        "        twos_complement_value = my_byte\n",
        "\n",
        "    # Interpret byte as a UTF-8 encoded character\n",
        "    try:\n",
        "        utf8_char = my_byte.to_bytes(1, byteorder='big').decode('utf-8')\n",
        "    except UnicodeDecodeError:\n",
        "        utf8_char = \"Invalid UTF-8 character\"\n",
        "\n",
        "    # Interpret byte as the start of a single-precision floating-point number's mantissa\n",
        "    # Assume a biased exponent of 127 (unbiased exponent of 0) and a positive sign\n",
        "    mantissa = 1 + my_byte / (2**23)  # Add the implicit leading 1 to the mantissa\n",
        "    float_value = mantissa * (2**0)  # Multiply by 2 raised to the unbiased exponent\n",
        "\n",
        "    print(\"Two's Complement Value:\", twos_complement_value)\n",
        "    print(\"UTF-8 Character:\", utf8_char)\n",
        "    print(\"Floating-point Value (start of mantissa):\", float_value)\n",
        "\n",
        "\n",
        "# Test byte: 'A' (uppercase letter A)\n",
        "my_byte = 0b01000001\n",
        "print(\"Test byte:\", format(my_byte, '08b'))\n",
        "byte_me(my_byte)\n",
        "print(\"\\n\")\n",
        "\n",
        "# Test byte: reverse of 'A' (uppercase letter A)\n",
        "my_byte = 0b10111111\n",
        "print(\"Test byte:\", format(my_byte, '08b'))\n",
        "byte_me(my_byte)\n",
        "print(\"\\n\")\n",
        "\n",
        "# Test byte: 'a' (lowercase letter a)\n",
        "my_byte = 0b01100001\n",
        "print(\"Test byte:\", format(my_byte, '08b'))\n",
        "byte_me(my_byte)\n",
        "print(\"\\n\")\n",
        "\n",
        "# Test byte: '0' (digit 0)\n",
        "my_byte = 0b00110000\n",
        "print(\"Test byte:\", format(my_byte, '08b'))\n",
        "byte_me(my_byte)\n",
        "print(\"\\n\")\n",
        "\n",
        "# Test byte: max value\n",
        "my_byte = 0b11111111\n",
        "print(\"Test byte:\", format(my_byte, '08b'))\n",
        "byte_me(my_byte)\n",
        "print(\"\\n\")\n",
        "\n",
        "# Test byte: min value\n",
        "my_byte = 0b00000000\n",
        "print(\"Test byte:\", format(my_byte, '08b'))\n",
        "byte_me(my_byte)\n",
        "print(\"\\n\")\n"
      ]
    },
    {
      "cell_type": "markdown",
      "source": [
        "## Exercises\n",
        "\n",
        "Using the test code above as an example, try to determine the following:\n",
        "1. Which binary number corresponds to the letter \"C\"\n",
        "2. Which binary number correpsonds to the letter \"c\"\n",
        "3. Which binary number corresponds to the number 2?\n",
        "4. Which binary number corresponds to the number -2?\n",
        "5. Which binary number corresponds to the character \"-\"?\n",
        "6. WHich binary number corresponds to the character \"2\"? \n",
        "\n",
        "Note: Searching for an ASCII table will help for the questions about characters! For numbers, try looking up \"twos-complement\"."
      ],
      "metadata": {
        "id": "2oHk5BFbuIp2"
      }
    },
    {
      "cell_type": "code",
      "source": [
        "# SAMPLE -- you'll need to alter \"my_byte\"\n",
        "# Test byte: min value\n",
        "my_byte = 0b00000000\n",
        "print(\"Test byte:\", format(my_byte, '08b'))\n",
        "byte_me(my_byte)\n",
        "print(\"\\n\")"
      ],
      "metadata": {
        "id": "jNw_vNXLui5j"
      },
      "execution_count": null,
      "outputs": []
    },
    {
      "cell_type": "code",
      "source": [
        "# Exercise 1"
      ],
      "metadata": {
        "id": "dBQHRZ8Kuk30"
      },
      "execution_count": null,
      "outputs": []
    },
    {
      "cell_type": "code",
      "source": [
        "# Exercise 2"
      ],
      "metadata": {
        "id": "myzLzZdiuzxK"
      },
      "execution_count": null,
      "outputs": []
    },
    {
      "cell_type": "code",
      "source": [
        "# Exercise 3"
      ],
      "metadata": {
        "id": "o8nVsbmOu1By"
      },
      "execution_count": null,
      "outputs": []
    },
    {
      "cell_type": "code",
      "source": [
        "# Exercise 4"
      ],
      "metadata": {
        "id": "bJ1dY4uZu2jT"
      },
      "execution_count": null,
      "outputs": []
    },
    {
      "cell_type": "code",
      "source": [
        "# Exercise 5"
      ],
      "metadata": {
        "id": "hWIqZxDZw2Jo"
      },
      "execution_count": null,
      "outputs": []
    },
    {
      "cell_type": "code",
      "source": [
        "# Exercise 6"
      ],
      "metadata": {
        "id": "0w1s8lhbw4LA"
      },
      "execution_count": null,
      "outputs": []
    },
    {
      "cell_type": "markdown",
      "source": [
        "# Logical Operators and Truth Tables\n",
        "Logical operators, also known as Boolean operators, are a fundamental concept in computer science and programming. They allow us to perform operations on Boolean values (True or False) and make decisions based on certain conditions. There are three primary logical operators:\n",
        "\n",
        "1.  AND (represented as `&&` or `and` in many programming languages)\n",
        "2.  OR (represented as `||`, `|', or `or` in many programming languages)\n",
        "3.  NOT (represented as `!`, `~', or `not` in many programming languages)\n",
        "\n",
        "Truth tables are used to show all possible combinations of input values and their corresponding output values for a given logical operator. Let's consider two input variables, A and B, and examine the truth tables for each of the three logical operators:\n",
        "\n",
        "AND Operator: The output is True only when both input values A and B are True.\n",
        "\n",
        "| A | B | A AND B |\n",
        "| --- | --- | --- |\n",
        "| True | True | True |\n",
        "| True | False | False |\n",
        "| False | True | False |\n",
        "| False | False | False |\n",
        "\n",
        "OR Operator: The output is True when at least one of the input values A or B is True.\n",
        "\n",
        "| A | B | A OR B |\n",
        "| --- | --- | --- |\n",
        "| True | True | True |\n",
        "| True | False | True |\n",
        "| False | True | True |\n",
        "| False | False | False |\n",
        "\n",
        "NOT Operator: The output is the negation of the input value. Since this operator works on a single input value, the truth table will only show the input and output values for A.\n",
        "\n",
        "| A | NOT A |\n",
        "| --- | --- |\n",
        "| True | False |\n",
        "| False | True |\n",
        "\n",
        "## Truth Tables Using Sympy\n",
        "Sympy is a Python library for symbolic mathematics, which includes support for logical expressions. Here's a table with sample logical expressions in Sympy, showcasing how logical operators can be used to compose more complex sentences. \n",
        "\n",
        "| Expression in English | Sympy Expression | Explanation |\n",
        "| --- | --- | --- |\n",
        "| A and B | A & B | Logical AND: True if both A and B are true, else False |\n",
        "| A or B | A | B | Logical OR: True if either A or B is true, else False |\n",
        "| not A | ~A | Logical NOT: True if A is false, else False |\n",
        "| A and (B or C) | A & (B \\| C) | True if A is true and either B or C is true, else False |\n",
        "| (A and B) or (C and D) | (A & B) \\| (C & D) | True if both A and B are true or both C and D are true, else False |\n",
        "| A implies B | A >> B | Logical implication: True if A is false or B is true, else False |\n",
        "| A is equivalent to B | A.equivalent(B) or A == B | Logical equivalence: True if A and B have the same truth value |\n",
        "\n",
        "Here's a Python program that generates a truth table for a given logical expression using the sympy library. **You should try experimenting with changing the value of the logical expression at the end, to see how truth tables work.**"
      ],
      "metadata": {
        "id": "xp6M59O-crAD"
      }
    },
    {
      "cell_type": "code",
      "source": [
        "# Function for making truth tables - do not edit\n",
        "\n",
        "import pandas as pd\n",
        "from sympy import symbols\n",
        "from sympy.logic import simplify_logic\n",
        "from itertools import product\n",
        "\n",
        "def generate_truth_table(expression, variables):\n",
        "    simplified_expr = simplify_logic(expression)\n",
        "\n",
        "    # Generate truth table\n",
        "    table_data = []\n",
        "    for values in product([True, False], repeat=len(variables)):\n",
        "        variables_values = dict(zip(variables, values))\n",
        "        result = simplified_expr.subs(variables_values)\n",
        "        row_data = list(values) + [result]\n",
        "        table_data.append(row_data)\n",
        "\n",
        "    # Create a pandas DataFrame with the truth table data\n",
        "    column_names = [str(v) for v in variables] + [str(expression)]\n",
        "    table_df = pd.DataFrame(table_data, columns=column_names)\n",
        "\n",
        "    # Display truth table\n",
        "    display(table_df)"
      ],
      "metadata": {
        "id": "aVhGV_HIgLsx"
      },
      "execution_count": null,
      "outputs": []
    },
    {
      "cell_type": "code",
      "source": [
        "# Make your own truth table\n",
        "\n",
        "# Define variables you'll be using -- you can change this\n",
        "A, B, C = symbols('A B C')\n",
        "\n",
        "# Define a logical expression using these variables -- Try changing this!\n",
        "expr = (A & B) | (C & ~B)\n",
        "\n",
        "# Generate the truth table\n",
        "generate_truth_table(expr, [A, B, C])"
      ],
      "metadata": {
        "id": "Vq4BJZMckycU"
      },
      "execution_count": null,
      "outputs": []
    },
    {
      "cell_type": "markdown",
      "source": [
        "# Truth Table Exercises\n",
        "A tautology is a logical expression that is always true, a contradiction is a logical expression that is always false, and a contingent statement is a logical expression that is neither a tautology nor a contradiction and its truth value depends on the truth values of its variables.\n",
        "\n",
        "1. Generate the truth table for the logical expression `A | ~A` using the generate_truth_table() function. Is this a tautology, contradiction, or contingent statement? Why?\n",
        "\n",
        "2. Generate the truth table for the logical expression `A & ~A` using the generate_truth_table() function. Is this a tautology, contradiction, or contingent statement? Why?\n",
        "\n",
        "3. Generate the truth table for the logical expression `A | B` using the generate_truth_table() function. Is this a tautology, contradiction, or contingent statement? Why?\n",
        "\n",
        "4. Generate the truth table for the logical expression `(A & B) | (~A & ~B)` using the generate_truth_table() function. Is this a tautology, contradiction, or contingent statement? Why?\n",
        "\n",
        "5. Generate the truth table for the logical expression `(A & B) & (~A | C)` using the generate_truth_table() function. Is this a tautology, contradiction, or contingent statement? Why?\n",
        "\n",
        "6. Generate the truth table for the logical expression `(A | B) & (A | ~C)` using the generate_truth_table() function. Is this a tautology, contradiction, or contingent statement? Why?\n"
      ],
      "metadata": {
        "id": "-8qrfPVUtKom"
      }
    },
    {
      "cell_type": "code",
      "source": [
        "# Exercise 1\n",
        "# Here is a sample code block. You can edit it to fit this problem. \n",
        "\n",
        "# Define variables you'll be using\n",
        "A, B, C = symbols('A B C')\n",
        "\n",
        "# Define a logical expression using these variables. \n",
        "# In general, you only need to edit this line\n",
        "expr = (A | ~A)\n",
        "\n",
        "# Generate the truth table with your chosen variables \n",
        "generate_truth_table(expr, [A, B, C])"
      ],
      "metadata": {
        "id": "v1ZjhD3ttJ8M"
      },
      "execution_count": null,
      "outputs": []
    },
    {
      "cell_type": "code",
      "source": [
        "# Exercise 2"
      ],
      "metadata": {
        "id": "7Qs7HeXLt2Ax"
      },
      "execution_count": null,
      "outputs": []
    },
    {
      "cell_type": "code",
      "source": [
        "# Exercise 3"
      ],
      "metadata": {
        "id": "JUcG7_ilt2In"
      },
      "execution_count": null,
      "outputs": []
    },
    {
      "cell_type": "code",
      "source": [
        "# Exercise 4"
      ],
      "metadata": {
        "id": "2DyWnw03t2P4"
      },
      "execution_count": null,
      "outputs": []
    },
    {
      "cell_type": "code",
      "source": [
        "# Exercise 5"
      ],
      "metadata": {
        "id": "rtMSObnot2W6"
      },
      "execution_count": null,
      "outputs": []
    },
    {
      "cell_type": "code",
      "source": [
        "# Exercise 6"
      ],
      "metadata": {
        "id": "dwoAqehot2eK"
      },
      "execution_count": null,
      "outputs": []
    },
    {
      "cell_type": "markdown",
      "source": [
        "# Binary + Logic = The Digital Computer\n",
        "Binary bits and logical operators are at the heart of everything a computer does because they serve as the fundamental building blocks for data representation and processing within a computer system. Let's examine how these elements work together, focusing on the main concepts of logic gates and the Arithmetic Logic Unit (ALU).\n",
        "\n",
        "1. Binary bits: At the most basic level, computers use the binary number system, which consists of two digits, 0 and 1. These binary digits, or bits, are the smallest unit of data in a computer and are used to represent all kinds of information, from simple text to complex multimedia content. Binary bits are used because digital electronics are built with transistors that have two stable states, on and off, which correspond to 1 and 0, respectively. By using combinations of bits, computers can represent and manipulate more complex data structures.\n",
        "\n",
        "2. Logical operators: Logical operators are basic operations that act on binary values (bits) and return a binary result. They form the basis of Boolean algebra, a mathematical system that underlies digital logic in computers. The most common logical operators are AND, OR, NOT, NAND, NOR, XOR, and XNOR. These operators can be combined to create complex logical expressions, which are then used to evaluate and manipulate binary data.\n",
        "\n",
        "3. Logic gates: Logic gates are the fundamental building blocks of digital circuits, and they perform basic logical operations on binary data. Each logic gate implements a specific logical operator, such as AND, OR, or NOT, by processing input signals and producing a binary output based on the input values. By combining multiple logic gates in various configurations, we can create complex digital circuits that can execute a wide range of tasks, from simple arithmetic operations to advanced data processing.\n",
        "\n",
        "4. Arithmetic Logic Unit (ALU): The ALU is a critical component of a computer's Central Processing Unit (CPU), which is responsible for executing instructions and processing data. The ALU combines multiple logic gates and performs arithmetic and logical operations on binary data. It can execute operations such as addition, subtraction, multiplication, and division, as well as logical operations like AND, OR, and XOR. The ALU receives binary inputs, processes them according to the instruction it receives, and outputs the result.\n",
        "\n",
        "In the end, binary bits and logical operators are at the heart of everything a computer does because they form the basis for data representation and processing within digital systems. Logic gates, which implement logical operators, enable the creation of complex digital circuits that can perform a wide array of tasks. The ALU, which combines numerous logic gates, is a crucial component of the CPU, allowing it to execute instructions and manipulate data. Together, these elements enable computers to perform the complex operations that underlie modern computing.\n",
        "\n",
        "## Example: Full Adder \n",
        "\n",
        "Below, you can find a demonstration of one simple operation--addition--works ot the binary level. This script defines a full_adder function that takes two integer inputs, a and b, which represent the two bytes we want to add. The function iterates through each bit of the input bytes, performing the full adder operation, and accumulates the result in the result variable.\n",
        "\n",
        "For each bit position, the script:\n",
        "\n",
        "1. Extracts the bits at the current position for both a and b\n",
        "2. Computes the sum of the bits and the carry\n",
        "3. Updates the carry for the next bit position\n",
        "4. Updates the result with the new sum bit"
      ],
      "metadata": {
        "id": "FlzmQS-pi_VE"
      }
    },
    {
      "cell_type": "code",
      "source": [
        "def full_adder(a, b):\n",
        "    # a and b are 8-bit integers\n",
        "    result = 0 \n",
        "    carry = 0 \n",
        "\n",
        "    print(\"Initial State:\")\n",
        "    print(f\"Input A (binary): {a:08b}\") \n",
        "    print(f\"Input B (binary): {b:08b}\")\n",
        "    print(f\"Carry: {carry}\")\n",
        "\n",
        "    for i in range(8):\n",
        "        # Shift a to the right by i bits and then AND it with 1\n",
        "        # This will give us the i-th bit of a\n",
        "        bit_a = (a >> i) & 1 \n",
        "        # Do the same for b\n",
        "        bit_b = (b >> i) & 1\n",
        "\n",
        "        print(f\"\\nBit Position: {i}\")\n",
        "        print(f\"Bit A: {bit_a}\")\n",
        "        print(f\"Bit B: {bit_b}\")\n",
        "        print(f\"Current Carry: {carry}\")\n",
        "\n",
        "        # here, ^ is the XOR operator, and & is the AND operator\n",
        "        # We are using the XOR operator to add the bits together\n",
        "        # We are using the AND operator to check if both bits are 1\n",
        "        # If both bits are 1, then we need to set the carry to 1\n",
        "        # Otherwise, we can set the carry to 0\n",
        "        sum = bit_a ^ bit_b ^ carry\n",
        "        carry = (bit_a & bit_b) | (carry & (bit_a ^ bit_b))\n",
        "\n",
        "        print(f\"Sum: {sum}\")\n",
        "        print(f\"New Carry: {carry}\")\n",
        "        \n",
        "\n",
        "        # Here, we are using the OR operator to set the i-th bit of the result\n",
        "        # This works because the OR operator will set the i-th bit to 1 if either\n",
        "        # the i-th bit of the result or the i-th bit of sum is 1\n",
        "        result |= (sum << i)\n",
        "\n",
        "        print(f\"Partial Result: {result:08b}\")\n",
        "\n",
        "    print(\"\\nFinal Result:\")\n",
        "    print(f\"Sum: {result:08b}\")\n",
        "\n",
        "    return result\n",
        "\n",
        "def full_adder_client():\n",
        "    def get_input(prompt):\n",
        "        while True:\n",
        "            try:\n",
        "                value = int(input(prompt))\n",
        "                if 0 <= value <= 255:\n",
        "                    return value\n",
        "                else:\n",
        "                    print(\"Invalid input. Please enter a number between 0 and 255.\")\n",
        "            except ValueError:\n",
        "                print(\"Invalid input. Please enter a number between 0 and 255.\")\n",
        "\n",
        "    print(\"Welcome to the Full Adder for Two Bytes!\")\n",
        "    print(\"Please enter two decimal numbers between 0 and 127.\")\n",
        "    \n",
        "    a = get_input(\"Enter the first integer (e.g., 56): \")\n",
        "    b = get_input(\"Enter the second integer (e.g., 32): \")\n",
        "\n",
        "    sum = full_adder(a, b)\n",
        "    print(f\"Decimal Sum: {sum}\")\n",
        "\n",
        "# To run the client function\n",
        "full_adder_client()\n"
      ],
      "metadata": {
        "id": "pceGD_hTnn-a"
      },
      "execution_count": null,
      "outputs": []
    },
    {
      "cell_type": "markdown",
      "source": [
        "# Exercise: Be a Bouncer\n",
        "The \"Mended Drum\" is a tavern in Discworld. It has a complex set of conditions for admitting customers:\n",
        "\n",
        "1. Admit if the person is a wizard or a witch.\n",
        "2. Admit if the person is a cop and their favorite food is not 'sausage-inna-bun'.\n",
        "3. Admit if the person is an assassin and they have bathed within the last 3 days.\n",
        "4. Admit if the person is a thief and their income percentile is greater than 75.\n",
        "5. Admit if the person has bathed within the last day and their income percentile is between 70 and 90 (inclusive).\n",
        "6. Admit if the person's profession is 'other', their favorite food is not 'roast-beef', and they have bathed within the last 3 days.\n",
        "7. Don't admit anyone else.\n",
        "\n",
        "I've provided you starter code that will query the user about their characteristics. It is YOUR job to take these conditions, and implement a function called should_admit() that takes the user inputs as arguments (profession, food, days_since_bathed, and income_percentile) and returns True if the person should be admitted based on the conditions above, and False otherwise."
      ],
      "metadata": {
        "id": "IUsR3s--9X57"
      }
    },
    {
      "cell_type": "code",
      "source": [
        "# Starter code - DO NOT EDIT\n",
        "\n",
        "# Define the professions\n",
        "PROFESSIONS = ['wizard', 'witch', 'assassin', 'cop', 'thief', 'other']\n",
        "\n",
        "# Define favorite foods\n",
        "FOODS = ['sausage-inna-bun', 'scumble', 'roast-beef', 'rat-onna-stick', 'other']\n",
        "\n",
        "# Define a function to get user inputs\n",
        "def get_user_inputs():\n",
        "    # Ask the user for their profession\n",
        "    print(\"Select your profession from the following list:\")\n",
        "    for i, profession in enumerate(PROFESSIONS):\n",
        "        print(f\"{i+1}. {profession}\")\n",
        "    profession_num = int(input()) - 1\n",
        "    profession = PROFESSIONS[profession_num]\n",
        "\n",
        "    # Ask the user for their favorite food\n",
        "    print(\"Select your favorite food from the following list:\")\n",
        "    for i, food in enumerate(FOODS):\n",
        "        print(f\"{i+1}. {food}\")\n",
        "    food_num = int(input()) - 1\n",
        "    food = FOODS[food_num]\n",
        "\n",
        "    # Ask the user for the number of days since they bathed\n",
        "    days_since_bathed = int(input(\"How many days has it been since you last bathed? \"))\n",
        "\n",
        "    # Ask the user for their income percentile\n",
        "    income_percentile = int(input(\"What is your income percentile (from 0.0 to 100.0)? \"))\n",
        "\n",
        "    # Return the user inputs as a tuple\n",
        "    return profession, food, days_since_bathed, income_percentile\n",
        "\n"
      ],
      "metadata": {
        "id": "dk2h3h0x80jP"
      },
      "execution_count": null,
      "outputs": []
    },
    {
      "cell_type": "code",
      "source": [
        "def should_admit(profession, food, days_since_bathed, income_percentile):\n",
        "  \n",
        "  # Your code here\n",
        "\n",
        "  return False # You'll need to change this!\n",
        "\n",
        "profession, food, days_since_bathed, income_percentile = get_user_inputs()\n",
        "if should_admit(profession, food, days_since_bathed, income_percentile):\n",
        "  print(\"Admit\")\n",
        "else:\n",
        "  print(\"No way!\")\n"
      ],
      "metadata": {
        "id": "ZhSXxMLy_NTW"
      },
      "execution_count": null,
      "outputs": []
    },
    {
      "cell_type": "markdown",
      "source": [
        "# Test my code\n",
        "The following can be used to partially test your code."
      ],
      "metadata": {
        "id": "re27t1KPHUze"
      }
    },
    {
      "cell_type": "code",
      "source": [
        "def test_should_admit():\n",
        "    test_cases = [\n",
        "        (('wizard', 'sausage-inna-bun', 5, 40), True), # Test 1: Condition 1\n",
        "        (('cop', 'roast-beef', 4, 60), True),          # Test 2: Condition 2\n",
        "        (('assassin', 'scumble', 2, 80), True),        # Test 3: Condition 3\n",
        "        (('thief', 'rat-onna-stick', 7, 80), True),    # Test 4: Condition 4\n",
        "        (('other', 'scumble', 1, 50), False),          # Test 5: Fail all conditions\n",
        "        (('assassin', 'other', 50, 50), False),          # Test 6: Fail all conditions\n",
        "    ]\n",
        "\n",
        "    for i, (test_input, expected) in enumerate(test_cases, start=1):\n",
        "        result = should_admit(*test_input)\n",
        "        if result == expected:\n",
        "            print(f\"Test {i} passed.\")\n",
        "        else:\n",
        "            print(f\"Test {i} failed. Input: {test_input}, Expected: {expected}, Got: {result}\")\n",
        "\n",
        "# Run the tests\n",
        "test_should_admit()\n"
      ],
      "metadata": {
        "id": "2DMTCvayVzxn"
      },
      "execution_count": null,
      "outputs": []
    },
    {
      "cell_type": "code",
      "source": [],
      "metadata": {
        "id": "OZQ1qB04_a-t"
      },
      "execution_count": null,
      "outputs": []
    }
  ]
}