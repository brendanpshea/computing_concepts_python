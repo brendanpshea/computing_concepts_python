{
  "nbformat": 4,
  "nbformat_minor": 0,
  "metadata": {
    "colab": {
      "provenance": [],
      "authorship_tag": "ABX9TyOw/FcuPBFj1p/OAUq55g+G",
      "include_colab_link": true
    },
    "kernelspec": {
      "name": "python3",
      "display_name": "Python 3"
    },
    "language_info": {
      "name": "python"
    }
  },
  "cells": [
    {
      "cell_type": "markdown",
      "metadata": {
        "id": "view-in-github",
        "colab_type": "text"
      },
      "source": [
        "<a href=\"https://colab.research.google.com/github/brendanpshea/intro_cs/blob/main/Python_06_Cybersecurity.ipynb\" target=\"_parent\"><img src=\"https://colab.research.google.com/assets/colab-badge.svg\" alt=\"Open In Colab\"/></a>"
      ]
    },
    {
      "cell_type": "markdown",
      "source": [
        "# Cybersecurity\n",
        "### Brendan Shea, PhD (Brendan.Shea@rctc.edu) \n",
        "Welcome to the exciting world of cybersecurity! In today's digital age, cybersecurity is more important than ever, as our daily lives become increasingly interconnected and reliant on technology. From online banking to social media, we rely on the internet for a multitude of tasks, making the need to protect our digital assets and personal information a top priority. In this lsson, we will delve into the fascinating world of cybersecurity, providing an engaging mix of concepts, real-world examples, and simple Python examples where applicable, all with the aim of introducing novice college-students to this crucial field.\n",
        "\n",
        "#### What is Cybersecurity?\n",
        "\n",
        "At its core, cybersecurity is the practice of protecting computer systems, networks, and data from theft, damage, or unauthorized access. It encompasses a range of technologies, processes, and practices designed to safeguard digital information and infrastructure from cyber threats. Understanding the basic concepts of cybersecurity, such as Confidentiality, Integrity, and Availability (often referred to as the CIA triad), is essential to building a strong foundation in the field.\n",
        "\n",
        "-   **Confidentiality** ensures that sensitive information is only accessible to authorized individuals.\n",
        "-   **Integrity** guarantees the accuracy and reliability of data by preventing unauthorized modifications.\n",
        "-   **Availability** ensures that information and systems are accessible to authorized users when needed.\n",
        "\n",
        "By exploring the intricacies of cybersecurity, you'll gain a newfound appreciation for the critical role it plays in our modern world. Moreover, you'll learn about the ever-evolving landscape of cybercrime, the various actors involved, and the motivations driving them. Additionally, you'll be introduced to cryptography, the art of securing communication through encryption, and its role in protecting sensitive data.\n",
        "\n",
        "The chapter will also discuss computer viruses, their prevention, and digital forensics, which deals with the investigation of cybercrimes and the collection of digital evidence. Finally, we'll introduce you to various tools and techniques used in cybersecurity, designed specifically for beginners, to help you start your journey towards becoming a cybersecurity expert.\n",
        "\n",
        "So, buckle up and get ready for an informative, engaging, and eye-opening exploration into the world of cybersecurity!"
      ],
      "metadata": {
        "id": "TwtKk4tZ_Z7q"
      }
    },
    {
      "cell_type": "markdown",
      "source": [
        "### What is Cybercrime?\n",
        "\n",
        "Cybercrime refers to criminal activities that involve the use of computers, digital devices, or the internet to commit illegal activities or cause harm to individuals, organizations, or even entire nations. As technology advances and our world becomes more connected, cybercrime has emerged as a significant threat, affecting millions of people and causing substantial financial losses.\n",
        "\n",
        "#### Different Types\n",
        "\n",
        "Cybercrimes come in various forms and can target individuals, businesses, or government institutions. Some common types of cybercrimes include:\n",
        "\n",
        "1.  Hacking: Gaining unauthorized access to computer systems or networks to steal, modify, or delete data, disrupt operations, or cause other damage.\n",
        "2.  Identity theft: Stealing someone's personal information, such as their Social Security number, credit card details, or online account credentials, to commit fraud or other illegal activities.\n",
        "3.  Phishing: Deceiving individuals into revealing sensitive information or downloading malware by posing as a trustworthy entity through emails, websites, or social media.\n",
        "4.  Ransomware: Encrypting a victim's files or locking their computer and demanding payment in exchange for the decryption key or access to the system.\n",
        "5.  Distributed Denial of Service (DDoS) attacks: Overwhelming a target's online services or network with excessive traffic, rendering them unavailable to legitimate users.\n",
        "6.  Espionage: Gaining unauthorized access to confidential or proprietary information for political, military, or economic advantage.\n",
        "\n",
        "#### Recent Examples\n",
        "\n",
        "Here are a few notable examples of recent cybercrimes that demonstrate the diverse nature and impact of these attacks:\n",
        "\n",
        "1.  WannaCry Ransomware: In 2017, the WannaCry ransomware attack affected over 200,000 computers in 150 countries, crippling hospitals, businesses, and government agencies. The attack exploited a vulnerability in Windows operating systems and demanded a Bitcoin ransom to unlock the encrypted files.\n",
        "2.  SolarWinds Supply Chain Attack: In 2020, a sophisticated supply chain attack targeted SolarWinds, a company that provides network monitoring and management software. The attackers compromised the company's software update mechanism to deliver a malicious backdoor to thousands of organizations, including several US government agencies, allowing them to steal sensitive data and conduct espionage.\n",
        "3.  Twitter Bitcoin Scam: In July 2020, high-profile Twitter accounts, including those of Elon Musk, Bill Gates, and Barack Obama, were compromised in a coordinated social engineering attack. The attackers used the accounts to promote a Bitcoin scam, deceiving people into sending them cryptocurrency with the promise of doubling their investments.\n",
        "\n",
        "These examples demonstrate the widespread and potentially devastating impact of cybercrime on individuals, businesses, and governments worldwide. Understanding the nature of these threats and the importance of cybersecurity is essential in mitigating risks and protecting our digital lives."
      ],
      "metadata": {
        "id": "dTIRp1h7_3Vn"
      }
    },
    {
      "cell_type": "markdown",
      "source": [
        "### Who commits cybercrimes?\n",
        "\n",
        "Cybercrimes are committed by a diverse range of actors with varying motivations and objectives. Understanding who these actors are and what drives them can help in identifying and countering threats more effectively. Here are some common types of cybercriminals:\n",
        "\n",
        "#### Actors and their motivations\n",
        "\n",
        "1.  Individual hackers: These are typically lone individuals who engage in cybercrime for personal gain, curiosity, or the challenge of breaking into secure systems. Their motivations may include financial rewards, a desire for recognition or fame, or simply the thrill of hacking.\n",
        "\n",
        "2.  Cybercriminal organizations: Organized crime groups have embraced cybercrime as a lucrative and relatively low-risk source of income. These groups are often involved in activities such as identity theft, financial fraud, ransomware attacks, and the sale of stolen data or exploits on the dark web.\n",
        "\n",
        "3.  Hacktivists: Hacktivists are individuals or groups that engage in cybercrime to promote a particular political or social cause. They often target organizations or governments that they perceive as unjust, using tactics such as DDoS attacks, website defacement, or data leaks to make a statement or disrupt their targets' operations.\n",
        "\n",
        "4.  State-sponsored actors: Some cyberattacks are backed by nation-states, often as part of espionage or information warfare efforts. State-sponsored actors are typically well-funded and highly skilled, using advanced techniques and tools to infiltrate systems, steal sensitive data, disrupt critical infrastructure, or spread disinformation.\n",
        "\n",
        "5.  Insiders: Insiders are individuals with legitimate access to an organization's systems or data who use their access to commit cybercrimes. This may include employees, contractors, or business partners who engage in activities such as data theft, sabotage, or espionage for financial gain, revenge, or other motivations.\n",
        "\n",
        "By recognizing the different types of cybercriminals and their motivations, we can better understand the threats we face and develop more effective strategies to protect our digital assets and information.\n",
        "\n",
        "### Examples of \"Cybercriminals\"\n",
        "Here are some examples of the various types of cybercriminals, including well-known individuals, hacktivist groups, and state-sponsored actors:\n",
        "\n",
        "1.  Individual hackers: Kevin Mitnick is one of the most famous hackers in history. In the 1990s, Mitnick was a notorious computer hacker who managed to break into the systems of numerous high-profile companies. He was eventually arrested and served five years in prison. Since then, Mitnick has become a respected cybersecurity consultant and author, using his skills to help organizations protect themselves from cyber threats.\n",
        "\n",
        "2.  Cybercriminal organizations: The Carbanak group is a notorious cybercriminal organization responsible for stealing more than $1 billion from banks worldwide. The group's sophisticated attacks targeted over 100 financial institutions in 30 countries, using malware to infiltrate banks' networks and compromise their systems to transfer money or manipulate ATM machines.\n",
        "\n",
        "3.  Hacktivists: Anonymous is a loosely organized collective of hacktivists known for launching high-profile cyberattacks against governments, corporations, and other organizations they perceive as corrupt or unjust. Some of their notable operations include attacks on the Church of Scientology, the Westboro Baptist Church, and various government websites.\n",
        "\n",
        "4.  State-sponsored actors:\n",
        "\n",
        "    -   Russian government groups: APT28 (also known as Fancy Bear) and APT29 (also known as Cozy Bear) are alleged to be Russian state-sponsored cyber espionage groups. They have been linked to various high-profile cyberattacks, including the 2016 Democratic National Committee (DNC) hack and the SolarWinds supply chain attack.\n",
        "    -   Chinese government groups: APT10 (also known as Stone Panda) is a Chinese state-sponsored cyber espionage group that has targeted various industries, including aerospace, defense, and telecommunications. They are known for their extensive cyber espionage campaigns and the theft of intellectual property.\n",
        "    -   Israeli government groups: Unit 8200 is a secretive Israeli intelligence agency responsible for signals intelligence and code decryption. While not officially confirmed, they are believed to have played a role in the development of the Stuxnet worm, a sophisticated piece of malware designed to target Iran's nuclear program.\n",
        "\n",
        "By examining these examples, we gain insight into the diverse range of actors involved in cybercrime and the different motivations and objectives that drive them. This understanding is critical in developing effective strategies to counteract and mitigate the threats they pose."
      ],
      "metadata": {
        "id": "nM9fLyKUATfe"
      }
    },
    {
      "cell_type": "markdown",
      "source": [
        "## Case Study: The Cryptocurrency-Ransomware Nexus\n",
        "\n",
        "In a world where the digital landscape continuously evolves, educational institutions have become increasingly reliant on technology. However, this reliance has also exposed them to a myriad of cyber threats, particularly ransomware attacks. As cryptocurrencies gain prominence and become integrated into mainstream financial systems, the frequency and impact of these attacks have rapidly escalated. This in-depth, long-form case study explores the intricate relationship between cryptocurrencies and the rise of ransomware, delving into the vulnerability of educational institutions and the far-reaching consequences of these malicious attacks.\n",
        "\n",
        "### Ransomware: A Digital Extortion Tool\n",
        "\n",
        "Ransomware is a type of malicious software, or malware, that encrypts a victim's data, rendering it inaccessible. The attackers behind the ransomware demand a ransom payment, typically in the form of cryptocurrency, in exchange for the decryption key required to unlock the encrypted files.\n",
        "\n",
        "Ransomware can be classified into two primary categories:\n",
        "\n",
        "1.  Crypto-ransomware: This type of ransomware encrypts a victim's files and data, making them inaccessible without the decryption key. Examples of crypto-ransomware include WannaCry, Ryuk, and Locky.\n",
        "\n",
        "2.  Locker-ransomware: Locker-ransomware locks a victim out of their device, preventing access to the operating system and applications. While the files are not encrypted, the victim cannot use their device until the ransom is paid. Examples of locker-ransomware include Reveton and WinLock.\n",
        "\n",
        "The proliferation of ransomware can be attributed to various factors, including the ease of deployment, the potential for lucrative profits, and the availability of ransomware-as-a-service (RaaS) platforms, which enable even inexperienced cybercriminals to launch ransomware attacks.\n",
        "\n",
        "### Cryptocurrency: A Decentralized Digital Currency\n",
        "\n",
        "Cryptocurrency is a digital or virtual form of currency that relies on cryptography for security and verification. It is decentralized, meaning it is not controlled by any single authority, such as a central bank or government. Instead, cryptocurrencies use distributed ledger technology, typically blockchain, to record and verify transactions.\n",
        "\n",
        "Some well-known cryptocurrencies include:\n",
        "\n",
        "-   Bitcoin: Launched in 2009, Bitcoin is the first and most widely recognized cryptocurrency. It uses a proof-of-work consensus algorithm and has a capped supply of 21 million coins.\n",
        "\n",
        "-   Ethereum: Launched in 2015, Ethereum is not only a cryptocurrency but also a platform that enables the development of decentralized applications (dApps) using smart contracts. Its native cryptocurrency is called Ether (ETH).\n",
        "\n",
        "-   Litecoin: Launched in 2011 as a \"lighter\" alternative to Bitcoin, Litecoin features faster transaction confirmation times and a higher maximum supply of 84 million coins.\n",
        "\n",
        "Key characteristics of cryptocurrencies include:\n",
        "\n",
        "1.  Decentralization: Cryptocurrencies are decentralized and not governed by a central authority, making them less susceptible to manipulation and interference from governments or financial institutions.\n",
        "\n",
        "2.  Anonymity: Many cryptocurrencies offer a degree of anonymity, as transactions are associated with unique public addresses rather than personal information, making it difficult to trace transactions back to specific individuals.\n",
        "\n",
        "3.  Transparency: Transactions on a cryptocurrency network are publicly visible and recorded on a distributed ledger, promoting transparency and reducing the likelihood of fraudulent activity.\n",
        "\n",
        "4.  Limited supply: Many cryptocurrencies have a capped supply, which can help maintain their value and reduce inflationary pressure.\n",
        "\n",
        "The decentralized, anonymous, and transparent nature of cryptocurrencies has made them an attractive option for various legitimate and illicit activities, including ransomware attacks. Understanding the fundamentals of ransomware and cryptocurrency is essential for comprehending their intertwined relationship and the challenges they pose to individuals, businesses, and educational institutions.\n",
        "\n",
        "### The Ransomware-Cryptocurrency Connection: A Dangerous Liaison\n",
        "\n",
        "Ransomware is a type of malicious software designed to encrypt a victim's data, rendering it inaccessible until the victim pays a ransom to obtain the decryption key. The emergence of cryptocurrencies, such as Bitcoin, Ethereum, and Litecoin, has provided an attractive means for cybercriminals to extort funds from their victims. The features that make cryptocurrencies particularly appealing to criminals include:\n",
        "\n",
        "-   Anonymity: Cryptocurrency transactions are pseudonymous, with parties identified by their unique public keys instead of personal information. This makes it difficult for law enforcement agencies to trace the individuals involved in illicit activities.\n",
        "\n",
        "-   Decentralization: Unlike traditional currencies, cryptocurrencies are not governed by a central authority, such as a bank or government. Transactions occur on a decentralized network of computers, making it challenging for law enforcement agencies to freeze or seize funds involved in criminal activities.\n",
        "\n",
        "-   Irreversible transactions: Once a cryptocurrency transaction is confirmed, it cannot be reversed. This ensures that criminals receive payment without the risk of chargebacks, providing them with a secure and reliable means to extort funds from their victims.\n",
        "\n",
        "### Ransomware Attacks on Educational Institutions: A Growing Epidemic\n",
        "\n",
        "Educational institutions, encompassing K-12 schools, colleges, and universities, have become prime targets for ransomware attackers. This can be attributed to a combination of factors that make these institutions particularly vulnerable:\n",
        "\n",
        "-   Sensitive data: Educational institutions possess vast amounts of sensitive data, including student and staff records, research materials, intellectual property, and financial information. The loss or compromise of this data can have far-reaching consequences, making institutions more likely to pay ransoms to recover it.\n",
        "\n",
        "-   Limited cybersecurity resources: Many educational institutions lack the necessary funds and expertise to maintain robust cybersecurity defenses. This leaves them exposed to cyber threats and potentially unable to detect, prevent, or respond to ransomware attacks effectively.\n",
        "\n",
        "-   High dependency on IT systems: The day-to-day functioning of schools, colleges, and universities is heavily reliant on IT systems. These systems are used for various purposes, such as administrative tasks, teaching, research, and communication. Ransomware attacks that disrupt or compromise these systems can have a devastating impact on the institution's operations, making it more likely that they will pay a ransom to restore functionality.\n",
        "\n"
      ],
      "metadata": {
        "id": "rQ2oJKYQ_p9h"
      }
    },
    {
      "cell_type": "markdown",
      "source": [
        "### Notable Cases: A Disturbing Trend\n",
        "\n",
        "In recent years, there has been a spate of high-profile ransomware attacks targeting educational institutions. These attacks underscore the severity of the problem and the far-reaching impact of ransomware on these institutions:\n",
        "\n",
        "-   The Los Angeles Valley College Attack (2017): In January 2017, Los Angeles Valley College fell victim to a ransomware attack that encrypted its computer systems, crippling its operations. The attackers demanded a $28,000 ransom in Bitcoin. The college ultimately decided to pay the ransom, citing the potential costs of not regaining access to their data and systems as significantly higher.\n",
        "\n",
        "-   The Monroe College Attack (2019): In July 2019, New York-based Monroe College was targeted by a ransomware attack that encrypted its data and disrupted a range of services, including email, learning management systems, and the college website. The attackers demanded a staggering $2 million ransom in Bitcoin for the decryption key. Although the college never disclosed whether it paid the ransom, it did work to restore its systems from backups and implement additional security measures.\n",
        "\n",
        "\n",
        "-   The University of California, San Francisco Attack (2020): In June 2020, the University of California, San Francisco (UCSF) was hit by a NetWalker ransomware attack, resulting in the encryption of crucial research data, including projects related to the fight against COVID-19. The university opted to negotiate with the attackers and ultimately paid a ransom of $1.14 million in Bitcoin to regain access to their data.\n",
        "\n",
        "These incidents highlight the significant impact ransomware attacks can have on educational institutions, both in terms of financial losses and operational disruptions. As ransomware continues to evolve and grow more sophisticated, educational institutions must recognize the gravity of this threat and prioritize their cybersecurity defenses.\n",
        "\n",
        "### Tackling the Ransomware Menace: Mitigation Strategies for Educational Institutions\n",
        "\n",
        "To protect themselves against ransomware attacks and minimize the potential damage, educational institutions must adopt a multi-layered approach to cybersecurity. The following strategies can help institutions better defend against ransomware threats:\n",
        "\n",
        "1.  Strengthening cybersecurity awareness: Raising awareness about cybersecurity threats and best practices among students, faculty, and staff is crucial. Regular training sessions and educational programs can help individuals recognize and avoid potential threats, such as phishing emails and malicious links.\n",
        "\n",
        "2.  Implementing robust security measures: Educational institutions should invest in strong security measures, including firewalls, intrusion detection systems, and anti-malware software. Regularly patching and updating software and hardware can also help close potential vulnerabilities that ransomware attackers may exploit.\n",
        "\n",
        "3.  Adopting the principle of least privilege: Limiting user access to only the resources and systems necessary for their job functions can help minimize the potential damage of a ransomware attack. In case of a breach, this limits the attacker's ability to move laterally within the network and compromise additional systems.\n",
        "\n",
        "4.  Establishing a comprehensive backup strategy: Regularly backing up critical data and systems is essential to ensure that institutions can quickly recover from a ransomware attack. Backups should be stored offline or in a secure, remote location to prevent them from being encrypted or compromised during an attack.\n",
        "\n",
        "5.  Developing a ransomware response plan: Educational institutions should have a well-defined ransomware response plan in place. This plan should outline the steps to be taken in the event of an attack, including identifying the affected systems, containing the threat, eradicating the ransomware, and restoring the affected data and systems from backups.\n",
        "\n",
        "By understanding the complexities of the cryptocurrency-ransomware relationship and the unique vulnerabilities of educational institutions, it becomes evident that proactive measures are essential to prevent and mitigate the impact of ransomware attacks. A multi-layered approach to cybersecurity, combined with a commitment to ongoing education and awareness, can help safeguard these institutions against the ever-evolving landscape of cyber threats."
      ],
      "metadata": {
        "id": "ITGlUK6SCVyb"
      }
    },
    {
      "cell_type": "markdown",
      "source": [
        "### Ethical Concerns About Cryptocurrency\n",
        "\n",
        "This case study shows one way in which the increasing use of cryptocurrencies, raise several ethical concerns. This section will explore various ethical issues associated with cryptocurrencies, including their use in criminal activities, environmental impacts, lack of consumer protections, their role as speculative assets, and their potential to cause instability in financial systems.\n",
        "\n",
        "#### Use in Criminal Activities\n",
        "\n",
        "Cryptocurrencies have been increasingly tied to various criminal activities due to their pseudonymous nature and decentralized infrastructure. While the case study focuses on ransomware attacks, cryptocurrencies have also been linked to other illicit activities, such as money laundering, drug trafficking, and financing terrorism. The anonymous nature of cryptocurrencies makes it difficult for law enforcement agencies to trace and apprehend criminals, raising ethical questions about their use and regulation.\n",
        "\n",
        "#### Environmental Impacts\n",
        "\n",
        "Cryptocurrencies, particularly those using proof-of-work consensus algorithms like Bitcoin, have significant environmental impacts due to the energy-intensive mining process. The mining process requires vast amounts of computational power, leading to high electricity consumption and increased carbon emissions. This has raised concerns about the long-term environmental sustainability of cryptocurrencies and their potential contribution to climate change.\n",
        "\n",
        "#### Lack of Consumer Protections\n",
        "\n",
        "Traditional financial systems offer various consumer protections, such as deposit insurance and chargeback rights. However, cryptocurrencies generally lack these protections, leaving users exposed to potential losses and fraud. Additionally, the complex and technical nature of cryptocurrencies can be challenging for average consumers to understand, further increasing the risk of financial loss and exploitation.\n",
        "\n",
        "#### Speculative and Risky Assets\n",
        "\n",
        "Cryptocurrencies have often been described as highly speculative assets, with their value frequently subject to extreme price fluctuations. This volatility has attracted many low-information investors, lured by the promise of quick and substantial returns. However, this also exposes these investors to significant risks, as they may not fully understand the complexities and potential pitfalls associated with cryptocurrencies.\n",
        "\n",
        "#### Potential Instability in Financial Systems\n",
        "The growing popularity of cryptocurrencies has led to concerns about their potential impact on the stability of traditional financial systems. As more people invest in and use cryptocurrencies, there is a risk that it could undermine the stability of fiat currencies and central banks' ability to manage monetary policy effectively. Additionally, the lack of regulation and oversight in the cryptocurrency market raises concerns about potential systemic risks and the possibility of financial crises."
      ],
      "metadata": {
        "id": "aTsS3pbgFjXj"
      }
    },
    {
      "cell_type": "markdown",
      "source": [
        "### Discussion Questions: Ransomeware and Cryptocurrency\n",
        "1. How has the rise of cryptocurrencies contributed to the increase in ransomware attacks, particularly against educational institutions?\n",
        "\n",
        "2. What factors make educational institutions particularly vulnerable to ransomware attacks? How can these vulnerabilities be addressed?\n",
        "\n",
        "3. What are some best practices for educational institutions to adopt in order to strengthen their cybersecurity defenses and protect against ransomware threats? How can these institutions balance the need for robust security measures with the potential costs and resource constraints?\n",
        "\n",
        "4. Should educational institutions consider paying ransoms in the event of a ransomware attack? What are the potential consequences and ethical implications of such decisions?\n",
        "\n",
        "5. What ethical/social concerns does cryptocurreny raise? What do you think should be done in response to these?"
      ],
      "metadata": {
        "id": "m85jeflGGEMl"
      }
    },
    {
      "cell_type": "markdown",
      "source": [
        "## Your Answers: Ransomware and Cryptocurrency\n",
        "1.\n",
        "\n",
        "2.\n",
        "\n",
        "3.\n",
        "\n",
        "4.\n",
        "\n",
        "5."
      ],
      "metadata": {
        "id": "JLcLeWiy0ba2"
      }
    },
    {
      "cell_type": "markdown",
      "source": [
        "## What is Cryptography?\n",
        "\n",
        "Cryptography is the practice of securing communications and data by converting information into a code or cipher, rendering it unreadable to unauthorized parties. It plays a crucial role in cybersecurity by ensuring the confidentiality, integrity, and authenticity of data transmitted and stored in digital systems. The primary function of cryptography is to protect sensitive information from unauthorized access and tampering, which is vital for maintaining privacy, ensuring secure transactions, and preserving trust in digital systems.\n",
        "\n",
        "Symmetric and asymmetric encryption are two main categories of cryptographic algorithms used to protect data:\n",
        "\n",
        "1.  **Symmetric encryption:** Symmetric encryption uses the same key for both encryption and decryption, making it faster and more efficient for encrypting large amounts of data. Examples of symmetric encryption algorithms include Advanced Encryption Standard (AES), Data Encryption Standard (DES), and Triple DES (3DES).\n",
        "\n",
        "2.  **Asymmetric encryption:** Asymmetric encryption, also known as public key cryptography, uses a pair of keys: a public key for encryption and a private key for decryption. This approach allows secure communication between parties who have never met before, as only the intended recipient's private key can decrypt the data encrypted with their public key. Examples of asymmetric encryption algorithms include RSA, ElGamal, and Elliptic Curve Cryptography (ECC).\n",
        "\n",
        "\n",
        "\n"
      ],
      "metadata": {
        "id": "a-E0jSBgAuFG"
      }
    },
    {
      "cell_type": "markdown",
      "source": [
        "## Symmetric Encryption: From Caesar Cipher to Modern Algorithms\n",
        "\n",
        "Symmetric encryption uses the same key for both encryption and decryption. Let's start by exploring the Caesar Cipher, one of the earliest and simplest forms of symmetric encryption, and see how to create and decrypt it using Python. Then, we'll briefly discuss modern symmetric encryption algorithms.\n",
        "\n",
        "#### Caesar Cipher\n",
        "\n",
        "The Caesar Cipher is a substitution cipher that shifts the letters in the alphabet by a fixed number of positions. For example, with a shift of 3, 'A' would be replaced with 'D', 'B' would become 'E', and so on. To decrypt the message, the recipient simply shifts the letters back by the same number of positions.\n",
        "\n",
        "Here's how to implement the Caesar Cipher in Python:"
      ],
      "metadata": {
        "id": "niTf9IclBCnA"
      }
    },
    {
      "cell_type": "code",
      "execution_count": null,
      "metadata": {
        "colab": {
          "base_uri": "https://localhost:8080/"
        },
        "id": "8f-rgIFR_SGj",
        "outputId": "326676f9-10ed-4995-967a-ec30246b3d93"
      },
      "outputs": [
        {
          "output_type": "stream",
          "name": "stdout",
          "text": [
            "Enter plaintext: Encryption is excellent! Everyone needs privacy.\n",
            "Encrypted message: Hqfubswlrq lv hafhoohqw! Hyhubrqh qhhgv sulydfb.\n",
            "Decrypted message: Encryption is excellent! Everyone needs privacy.\n"
          ]
        }
      ],
      "source": [
        "def caesar_encrypt(text, shift):\n",
        "    # Begin with an empty string\n",
        "    encrypted = \"\"\n",
        "    # Loop through each character in the text\n",
        "    for char in text:\n",
        "        # Check if the character is a letter\n",
        "        if char.isalpha():\n",
        "            # Shift the character by the shift amount, ord() returns the unicode code point for the character\n",
        "            shifted = ord(char) + shift\n",
        "            # Check if the character is lowercase\n",
        "            if char.islower():\n",
        "                # Lowercase 'a' is 97, 'z' is 122, so we need to wrap around if the shifted character is outside of that range\n",
        "                encrypted += chr((shifted - ord('a')) % 26 + ord('a'))\n",
        "            else:\n",
        "                # Uppercase 'A' is 65, 'Z' is 90, so we need to wrap around if the shifted character is outside of that range\n",
        "                encrypted += chr((shifted - ord('A')) % 26 + ord('A'))\n",
        "        else:\n",
        "            # If the character is not a letter, just add it to the encrypted string\n",
        "            encrypted += char\n",
        "    return encrypted\n",
        "\n",
        "def caesar_decrypt(text, shift):\n",
        "    return caesar_encrypt(text, -shift)\n",
        "\n",
        "# Example\n",
        "plaintext = input(\"Enter plaintext: \")\n",
        "shift = 3\n",
        "encrypted = caesar_encrypt(plaintext, shift)\n",
        "decrypted = caesar_decrypt(encrypted, shift)\n",
        "\n",
        "print(f\"Encrypted message: {encrypted}\")\n",
        "print(f\"Decrypted message: {decrypted}\")"
      ]
    },
    {
      "cell_type": "markdown",
      "source": [
        "### Breaking Caesar Cipher with Frequency Analysis\n",
        "While Caesar Cipher worked well enough back in Caesar's day, it is no match for modern computers. To see why this is the case, we'll consider how to crack it using \"frequency analysis.\" \n",
        "\n",
        "**Frequency analysis** is a technique used to break substitution ciphers, like the Caesar Cipher, by analyzing the frequency of letters in the encrypted text. The method exploits the fact that, in any given language, certain letters appear more frequently than others. By comparing the frequency distribution of the encrypted text with the expected distribution of the language, an attacker can determine the most likely shift value and decrypt the message.  Let's demonstrate how to break the Caesar Cipher using frequency analysis in Python:\n",
        "\n",
        "\n"
      ],
      "metadata": {
        "id": "gqdjnu2OBrO3"
      }
    },
    {
      "cell_type": "code",
      "source": [
        "from collections import Counter\n",
        "\n",
        "def frequency_analysis(text):\n",
        "    # Count the frequency of each letter in the text\n",
        "    freq = Counter(char.lower() for char in text if char.isalpha())\n",
        "    # the dictionary contains the frequency of each letter in the text\n",
        "    return dict(freq)\n",
        "\n",
        "def find_most_common(text):\n",
        "    # Find the most common letter in the text\n",
        "    freq = frequency_analysis(text)\n",
        "    # Return the letter with the highest frequency\n",
        "    return max(freq, key=freq.get)\n",
        "\n",
        "def break_caesar_cipher(text):\n",
        "    # Find the most common letter in the text\n",
        "    most_common = find_most_common(text)\n",
        "    # Find the shift needed to decrypt the text\n",
        "    shift = ord(most_common) - ord('e')  # Assuming 'e' is the most common letter in English\n",
        "    # Decrypt the text\n",
        "    return caesar_decrypt(text, shift)\n",
        "\n",
        "# Example\n",
        "encrypted = input(\"What message would you like me to crack? \")\n",
        "decrypted = break_caesar_cipher(encrypted)\n",
        "print(f\"Decrypted message: {decrypted}\")"
      ],
      "metadata": {
        "colab": {
          "base_uri": "https://localhost:8080/"
        },
        "id": "_f6Xy3eJB3aV",
        "outputId": "9e12e38d-09e3-4a6c-b03d-862f8c795ca3"
      },
      "execution_count": null,
      "outputs": [
        {
          "output_type": "stream",
          "name": "stdout",
          "text": [
            "What message would you like me to crack? Hqfubswlrq lv hafhoohqw! Hyhubrqh qhhgv sulydfb.\n",
            "Decrypted message: Encryption is excellent! Everyone needs privacy.\n"
          ]
        }
      ]
    },
    {
      "cell_type": "markdown",
      "source": [
        "While frequency analysis is effective against simple substitution ciphers like the Caesar Cipher, it is not effective against modern symmetric encryption algorithms, which use more complex operations and larger key sizes to provide strong security.\n",
        "\n",
        "### The \"Big Ideas\" Behind AES\n",
        "\n",
        "The **Advanced Encryption Standard (AES)** is a widely-used symmetric encryption algorithm that provides strong security and high performance. Here are some of the key concepts and techniques that make AES secure and efficient:\n",
        "\n",
        "1.  **Block cipher:** AES is a block cipher, which means it encrypts data in fixed-size blocks (128 bits) rather than individual characters. This allows AES to apply multiple rounds of complex transformations to the data, making it more resistant to attacks.\n",
        "\n",
        "2.  **Substitution-Permutation Network (SPN)**: AES uses a combination of substitution (replacing bytes with other bytes) and permutation (shuffling bytes) operations, which together provide strong confusion and diffusion properties. This ensures that even small changes in the plaintext or key result in significant changes in the ciphertext, making it difficult for an attacker to uncover any patterns or relationships.\n",
        "\n",
        "3.  **Key expansion:** AES uses a key expansion process to generate a series of round keys from the initial key. These round keys are used in each round of the encryption and decryption process. The key expansion adds an extra layer of security, as an attacker would need to recover all round keys to break the encryption.\n",
        "\n",
        "4.  **Multiple rounds:** AES applies a series of encryption rounds (10, 12, or 14, depending on the key size) to the data, with each round consisting of several operations, such as SubBytes, ShiftRows, MixColumns, and AddRoundKey. These operations are designed to provide a high level of security while maintaining efficiency and performance.\n",
        "\n",
        "5.  **Brute-force resistance:** AES supports key sizes of 128, 192, or 256 bits, providing a large enough keyspace to resist brute-force attacks using current technology. This ensures that AES remains secure even as computational power continues to increase.\n",
        "\n",
        "These \"big ideas\" behind AES contribute to its strong security and widespread adoption for protecting sensitive data in various applications, including secure communications, financial transactions, and government systems."
      ],
      "metadata": {
        "id": "1PpLXreTBwdI"
      }
    },
    {
      "cell_type": "markdown",
      "source": [
        "# RSA and Public Key Cryptography\n",
        "Public key cryptography, also known as asymmetric cryptography, is a cryptographic method that uses two separate keys for encryption and decryption. **RSA (Rivest–Shamir–Adleman)**  is one of the most widely-used public key cryptosystems. Let's break it down step by step to help you understand the big ideas behind it.\n",
        "\n",
        "\n",
        "### Step 1: Key generation: \n",
        "\n",
        "The first step in RSA is generating a pair of keys - one public and one private. The public key is used for encryption, and the private key is used for decryption. Here's a high-level overview of the key generation process:\n",
        "\n",
        "1. Choose two distinct large prime numbers, usually denoted as p and q.   \n",
        "2. Compute n = p * q. n is used as the modulus for both public and private keys. \n",
        "3. Calculate **Euler's totient function** (ϕ(n)) for n, which is given by ϕ(n) = (p-1)*(q-1). \n",
        "4. Choose an integer e such that 1 < e < ϕ(n) and e is co-prime to ϕ(n). This number e is the **public key exponent.** \n",
        "5. Compute the modular multiplicative inverse of e (mod ϕ(n)), denoted as d. In other words, find a number d such that (e*d) % ϕ(n) = 1. d is the ***private key exponent.**\n",
        "\n",
        "Now, the public key consists of (n, e), and the private key consists of (n, d).\n",
        "\n",
        "### Step 2: Encryption\n",
        "To encrypt a message M, the sender converts the message into an integer m using an agreed-upon reversible protocol known as padding. Then, the sender computes the ciphertext c using the recipient's public key (n, e) as follows:\n",
        "\n",
        "    c = m^e (mod n)\n",
        "\n",
        "The ciphertext c can now be sent to the recipient.\n",
        "\n",
        "\n",
        "### Step 3: Decryption\n",
        "Upon receiving the ciphertext c, the recipient can decrypt it using their private key (n, d) by calculating:\n",
        "\n",
        "    m = c^d (mod n)\n",
        "\n",
        "The original message M can then be retrieved by reversing the padding process.\n",
        "\n",
        "## Big Ideas: RSA\n",
        "\n",
        "The \"big ideas\" behind RSA and public key cryptography are:\n",
        "\n",
        "1.  Asymmetric keys: The use of separate keys for encryption and decryption provides enhanced security. It allows for public distribution of the encryption key, while the decryption key remains private.\n",
        "\n",
        "2.  Prime numbers: The security of RSA is based on the difficulty of factoring large composite numbers. The product of two large prime numbers (p and q) is used to create the public and private keys, making it computationally infeasible to derive the private key from the public key.\n",
        "\n",
        "3.  Modular arithmetic: The use of modular arithmetic in encryption and decryption ensures that the process is reversible, allowing for secure communication between sender and recipient.\n",
        "\n",
        "4.  One-way functions: RSA relies on the difficulty of certain mathematical problems, such as the modular exponentiation and the modular multiplicative inverse, to ensure security. These problems are easy to perform in one direction (encryption) but are difficult to reverse (decryption) without the private key."
      ],
      "metadata": {
        "id": "QJkZW8zDE2Vr"
      }
    },
    {
      "cell_type": "markdown",
      "source": [
        "## Summary: Symmetric and Asymmetric Encryption\n",
        "Symmetric and asymmetric encryption are both cryptographic techniques used to protect data, but they have different mechanisms, use cases, strengths, and weaknesses.\n",
        "\n",
        "Similarities:\n",
        "\n",
        "1.  Both are used to ensure confidentiality and protect data from unauthorized access.\n",
        "2.  Both rely on keys for encryption and decryption.\n",
        "3.  Both can be strengthened by increasing the key size, which increases the number of possible combinations and makes it harder to break the encryption.\n",
        "\n",
        "Differences:\n",
        "\n",
        "1.  Key management: In symmetric encryption, a single secret key is used for both encryption and decryption. Asymmetric encryption uses a public-private key pair, where the public key is used for encryption and the private key for decryption.\n",
        "2.  Use cases: Symmetric encryption is typically used for bulk data encryption, as it's faster and more efficient. Asymmetric encryption is often used for secure key exchange, digital signatures, and establishing secure communication channels.\n",
        "3.  Speed: Symmetric encryption is generally faster than asymmetric encryption due to simpler algorithms and less computational overhead.\n",
        "4.  Key distribution: Symmetric encryption requires a secure method for key exchange, as the same key must be shared between the sender and receiver. Asymmetric encryption doesn't have this issue, as the public key can be freely shared without compromising security.\n",
        "\n",
        "Strengths:\n",
        "\n",
        "-   Symmetric encryption: Speed, efficiency, and strong security for bulk data encryption.\n",
        "-   Asymmetric encryption: Secure key exchange, digital signatures, and no need for a secure method to share public keys.\n",
        "\n",
        "Weaknesses:\n",
        "\n",
        "-   Symmetric encryption: Requires a secure method for key exchange, which can be a challenge.\n",
        "-   Asymmetric encryption: Slower and less efficient for bulk data encryption due to computational complexity.\n",
        "\n",
        "In summary, symmetric encryption is typically used for encrypting large amounts of data, while asymmetric encryption is employed for secure key exchange and establishing secure communication channels. Increasing key size enhances security in both cases, but symmetric encryption is faster and more efficient, while asymmetric encryption provides greater flexibility in key distribution."
      ],
      "metadata": {
        "id": "pwrxYnnwO8Qv"
      }
    },
    {
      "cell_type": "markdown",
      "source": [
        "## Hashing and Its Role in Encryption\n",
        "\n",
        "Hashing is the process of converting input data into a fixed-size output, called a hash or a digest, using a mathematical algorithm. Hash functions have various applications in computer science and cybersecurity, such as verifying data integrity, storing passwords, and authenticating messages. Although hashing is not encryption, it plays a crucial role in ensuring the security and reliability of encrypted data.\n",
        "\n",
        "#### A Simple Hashing Algorithm\n",
        "\n",
        "Let's start with a simple hashing algorithm called the \"Modulo-N Hash.\" This algorithm computes the sum of the Unicode values of each character in the input and then takes the remainder when divided by N (where N is a predefined constant).\n",
        "\n",
        "Here's how to implement the Modulo-N Hash in Python:"
      ],
      "metadata": {
        "id": "zMJH-j5_BxMd"
      }
    },
    {
      "cell_type": "code",
      "source": [
        "def modulo_n_hash(input_str, n):\n",
        "\n",
        "    sum = 0 # hash starts at 0\n",
        "    for char in input_str:\n",
        "      sum += ord(char) # Add numeric value of char\n",
        "      print(f\"Current char: {char} \\t value: {ord(char)}, \\t sum: {sum} \\t mod_sum: {sum % n}\")\n",
        "    hash_value = sum % n\n",
        "    return hash_value\n",
        "\n",
        "# Example\n",
        "input_str = input(\"What string would you like me to hash? \")\n",
        "n = int(input(\"What modulus would you like to use? \"))\n",
        "hash_value = modulo_n_hash(input_str, n)\n",
        "print(f\"\\nHash value: {hash_value}\")"
      ],
      "metadata": {
        "colab": {
          "base_uri": "https://localhost:8080/"
        },
        "id": "hm3Hn4aICxdn",
        "outputId": "d5276589-9baa-4238-e93b-8d3f7a677c97"
      },
      "execution_count": null,
      "outputs": [
        {
          "output_type": "stream",
          "name": "stdout",
          "text": [
            "What string would you like me to hash? Sonic\n",
            "What modulus would you like to use? 1000\n",
            "Current char: S \t value: 83, \t sum: 83 \t mod_sum: 83\n",
            "Current char: o \t value: 111, \t sum: 194 \t mod_sum: 194\n",
            "Current char: n \t value: 110, \t sum: 304 \t mod_sum: 304\n",
            "Current char: i \t value: 105, \t sum: 409 \t mod_sum: 409\n",
            "Current char: c \t value: 99, \t sum: 508 \t mod_sum: 508\n",
            "\n",
            "Hash value: 508\n"
          ]
        }
      ]
    },
    {
      "cell_type": "markdown",
      "source": [
        "While the Modulo-N Hash is simple and easy to understand, it is not suitable for security purposes due to its weak collision resistance and lack of other desirable properties of cryptographic hash functions.\n",
        "\n",
        "#### Modern Hashing Algorithms\n",
        "\n",
        "Modern hashing algorithms, also known as cryptographic hash functions, are designed to be fast, deterministic, and provide strong security properties, such as:\n",
        "\n",
        "1.  Preimage resistance: Given a hash value, it should be computationally infeasible to find the original input.\n",
        "2.  Second preimage resistance: Given an input, it should be computationally infeasible to find a different input that produces the same hash value.\n",
        "3.  Collision resistance: It should be computationally infeasible to find two different inputs that produce the same hash value.\n",
        "\n",
        "Some widely-used modern hashing algorithms include:\n",
        "\n",
        "1.  **Secure Hash Algorithm (SHA)**: The SHA family of hash functions includes SHA-1, SHA-2, and SHA-3. While SHA-1 is considered insecure due to discovered vulnerabilities, SHA-2 and SHA-3 are currently considered secure and are widely used for various security purposes.\n",
        "2.  Message Digest Algorithm (MD): The MD family, which includes MD5, was once popular for data integrity verification and password storage. However, due to discovered vulnerabilities and collisions, MD5 is no longer considered secure and should not be used for new applications.\n",
        "\n",
        "In the context of encryption, hashing can be used to ensure data integrity by creating a \"digest\" of the original data. This digest can be transmitted alongside the encrypted data and later used to verify that the decrypted data has not been tampered with or corrupted. Hashing can also be combined with encryption in various cryptographic protocols, such as digital signatures and message authentication codes (MACs), to provide both confidentiality and integrity."
      ],
      "metadata": {
        "id": "TMQJ5UcEC9Ei"
      }
    },
    {
      "cell_type": "markdown",
      "source": [
        "# HTTPS and Secure Websites\n",
        "HTTPS (Hypertext Transfer Protocol Secure) is a secure version of HTTP, which is the protocol used for transmitting data between a web browser and a web server. HTTPS ensures that the data exchanged between a browser and a server is encrypted, preventing unauthorized access or tampering. This is particularly important when sensitive information, like passwords or credit card details, is being transmitted.\n",
        "\n",
        "The security of HTTPS is based on a combination of symmetric and asymmetric encryption. Let's break down the key concepts and steps involved:\n",
        "\n",
        "1.  Asymmetric encryption (public key cryptography): As we discussed earlier, asymmetric encryption uses a pair of keys: a public key for encryption and a private key for decryption. In the context of HTTPS, a web server has a public-private key pair. The public key is shared with users (browsers), while the private key is securely stored on the server.\n",
        "\n",
        "2.  SSL/TLS certificates: **SSL (Secure Sockets Layer)** and its successor, **TLS (Transport Layer Security)**, are cryptographic protocols that provide secure communication over a computer network. When you connect to a website using HTTPS, the server presents an SSL/TLS certificate containing its public key and information about the website's identity. This certificate is issued and digitally signed by a trusted third-party called a Certificate Authority (CA), which helps the browser verify the server's authenticity.\n",
        "\n",
        "3.  Key exchange: Once the browser has verified the server's certificate, it generates a unique secret key for symmetric encryption. This key is encrypted using the server's public key and sent back to the server. The server then decrypts this message using its private key to obtain the symmetric key. Both the browser and server now have a shared secret key, which is used for the remainder of the session.\n",
        "\n",
        "4.  Symmetric encryption: Unlike asymmetric encryption, symmetric encryption uses a single key for both encryption and decryption. With the shared secret key established, the browser and server can securely communicate by encrypting and decrypting messages using this key. Symmetric encryption is computationally faster than asymmetric encryption, making it suitable for encrypting large amounts of data exchanged during an HTTPS session.\n",
        "\n",
        "5.  Secure communication: With the symmetric key in place, all data transmitted between the browser and server is encrypted. This ensures confidentiality, integrity, and authenticity of the data, as third parties cannot read or tamper with it.\n",
        "\n",
        "In summary, HTTPS and web security rely on a combination of symmetric and asymmetric encryption:\n",
        "\n",
        "-   Asymmetric encryption is used to establish a secure connection, verify server authenticity, and exchange a symmetric key between the browser and server.\n",
        "-   Symmetric encryption is used to encrypt and decrypt data exchanged between the browser and server, ensuring secure communication during the HTTPS session."
      ],
      "metadata": {
        "id": "NE3sNdFHHB59"
      }
    },
    {
      "cell_type": "markdown",
      "source": [
        "# What is a Virus?\n",
        "A computer virus is a type of malicious software (malware) that, when executed, replicates itself by modifying other computer programs and inserting its own code. Viruses can cause a wide range of issues, such as data corruption, system crashes, and unauthorized access to sensitive information. In this section, we will explore the concept of computer viruses, their functioning, and practical examples to help you better understand and identify them.\n",
        "\n",
        "## Virus Structure and Lifecycle\n",
        "**Infection mechanism:** A virus typically attaches itself to a host program or file. When the host program is executed, the virus is also executed, allowing it to infect other programs or files.\n",
        "\n",
        "**Payload:** The payload is the part of the virus that performs the malicious actions, such as corrupting files, stealing data, or causing system crashes.\n",
        "\n",
        "**Replication:** Once a virus is executed, it attempts to replicate itself and infect other files or programs on the system.\n",
        "\n",
        "**Activation:** The virus payload is often triggered by a specific condition, such as a specific date, user action, or system event.\n",
        "\n",
        "## Pseudocode Example\n",
        "\n",
        "\n",
        "```\n",
        "function infect_files():\n",
        "    for file in list_files():\n",
        "        if not is_infected(file):\n",
        "            inject_virus_code(file)\n",
        "\n",
        "function execute_payload():\n",
        "    delete_files()\n",
        "    display_message(\"Your files have been deleted!\")\n",
        "\n",
        "function virus():\n",
        "    if trigger_condition_met():\n",
        "        execute_payload()\n",
        "    infect_files()\n",
        "\n",
        "if executed_as_part_of_host_program():\n",
        "    virus()\n",
        "\n",
        "```\n",
        "This pseudocode outlines a simple virus that infects uninfected files and, when the trigger condition is met, deletes files and displays a message.\n",
        "\n",
        "## Types of Viruses\n",
        "\n",
        "**Boot sector viruses:** These viruses infect the boot sector of a computer's hard drive or removable media. They are executed when the system boots up, allowing them to take control before the operating system loads.\n",
        "\n",
        "Example: The Stoned virus is a classic boot sector virus that was widespread in the 1980s and 1990s. It infected the boot sector of floppy disks and displayed a message, \"Your PC is now Stoned!\"\n",
        "\n",
        "**File infector viruses** These viruses attach themselves to executable files (.exe or .com) and are executed when the host file is run.\n",
        "\n",
        "Example: The Cascade virus was a file infector virus that caused characters on the screen to \"fall\" like a waterfall when the infected file was executed.\n",
        "\n",
        "**Macro viruses:** Macro viruses target applications like Microsoft Word and Excel, using the application's macro scripting language to embed malicious code in documents.\n",
        "\n",
        "Example: The Melissa virus was a macro virus that spread through email attachments. When the infected Word document was opened, the virus sent itself to the first 50 contacts in the user's address book.\n",
        "\n",
        "## Virus Prevention and Mitigation\n",
        "**Antivirus software:** Use reputable antivirus software to scan your system for viruses and remove any detected threats.\n",
        "\n",
        "**Regular updates:** Keep your operating system, applications, and antivirus software up-to-date to patch known vulnerabilities and improve security.\n",
        "\n",
        "**Safe browsing habits:** Be cautious when downloading files or clicking on links from unknown sources, as they may contain viruses.\n",
        "\n",
        "**Email attachments:** Scan email attachments with your antivirus software before opening them, especially if they come from unknown senders.\n",
        "\n",
        "## Conclusion\n",
        "Understanding computer viruses and their functioning is essential for CS students, as it helps to build a solid foundation in cybersecurity. By learning how viruses work, you can better identify and prevent potential threats and develop secure software practices. Always employ safe browsing habits and use"
      ],
      "metadata": {
        "id": "o_a4js4d6BvX"
      }
    },
    {
      "cell_type": "markdown",
      "source": [
        "# Practical Cybersecurity Advice for New CS Students\n",
        "\n",
        "As a Computer Science (CS) student, you will be exposed to a plethora of new technologies, programming languages, and methodologies. It is important to ensure the safety and security of your digital assets and information, both as a student and as a responsible citizen. Understanding the \"why\" behind each security practice is crucial for effective implementation. This section will provide practical cybersecurity advice that can be applied in your daily life and shared with less tech-savvy friends and relatives.\n",
        "\n",
        "## Password Management\n",
        "**Strong passwords:**Create unique and strong passwords for each of your accounts to prevent unauthorized access. A mix of upper and lowercase letters, numbers, and special characters makes it more difficult for attackers to guess or crack your password through brute force.\n",
        "\n",
        "**Password managers:** Use a password manager to securely store and manage your passwords. This reduces the risk of forgetting or reusing passwords across multiple accounts, a common vulnerability exploited by attackers.\n",
        "\n",
        "**Multi-factor authentication (MFA)**. Enable MFA on your accounts whenever possible. MFA adds an additional layer of security by requiring a second form of identification, making it more difficult for attackers to gain access even if they have your password.\n",
        "\n",
        "## Device Security\n",
        "**Regular updates:** Keep your devices up-to-date by installing security patches and updates for your operating system, applications, and antivirus software. This ensures that known vulnerabilities are fixed, reducing the chances of exploitation.\n",
        "\n",
        "**Antivirus software:** Install reputable antivirus software on your devices to detect and remove malware. Malware can compromise your device's security, steal personal information, or damage your system.\n",
        "\n",
        "**Firewall:** Use a firewall to protect your devices from unauthorized access and to monitor incoming and outgoing traffic. Firewalls help to prevent intrusion attempts and block malicious connections.\n",
        "\n",
        "**Secure Wi-Fi:** Configure your home Wi-Fi with a strong password and enable WPA3 encryption to protect your network from unauthorized access. Public Wi-Fi networks can be insecure, so avoid using them for sensitive tasks or use a VPN to secure your connection.\n",
        "\n",
        "## Social Engineering Awareness\n",
        "**Phishing:** Be cautious of unsolicited emails and messages that ask for personal information or direct you to unfamiliar websites. Phishing attacks aim to deceive you into providing sensitive information or credentials, which can be used for identity theft or financial fraud.\n",
        "\n",
        "**Scams:** Be aware of common online scams, such as fake tech support calls or fraudulent job offers. Scammers exploit your trust to obtain personal information or money.\n",
        "\n",
        "## Data Protection\n",
        "**Backup:** Regularly backup your important data to an external hard drive or a cloud storage service. Backups help you recover your data in case of device failure, accidental deletion, or a ransomware attack.\n",
        "\n",
        "**Encryption:** Use encryption tools to protect sensitive data on your devices. Encryption renders your data unreadable without the correct decryption key, ensuring that unauthorized individuals cannot access it.\n",
        "\n",
        "**Privacy settings:** Review the privacy settings on your social media accounts and limit the amount of personal information you share online. This reduces the risk of identity theft and targeted attacks.\n",
        "\n",
        "## Responsible Citizenship\n",
        "**Education:** Share your knowledge of cybersecurity with your friends and family. Educate them about safe online practices to help them protect their digital assets and personal information.\n",
        "\n",
        "**Reporting:** If you encounter cybercrime, such as identity theft, online harassment, or fraud, report it to the appropriate authorities. Reporting helps combat cybercriminals and contributes to a safer digital environment for everyone."
      ],
      "metadata": {
        "id": "evwca8hS5D-y"
      }
    },
    {
      "cell_type": "markdown",
      "source": [
        "# Coding Exercises\n",
        "\n",
        "## Exercise 1: Hash Function - \"Chaos Emerald Hash\"\n",
        "\n",
        "Objective: Implement a simple hash function that converts input strings into fixed-length hash values between 0 and 999.\n",
        "\n",
        "Instructions:\n",
        "\n",
        "1.  Create a function named `chaos_emerald_hash` that takes a single argument, `input_string`.\n",
        "2.  Initialize a variable `hash_value` to 0.\n",
        "3.  For each character in `input_string`: a. Convert the character to its Unicode integer value using the `ord()` function. b. Add the integer value to `hash_value`.\n",
        "4.  Calculate the remainder of `hash_value` divided by 1000. This will be the final hash value.\n",
        "5.  Return the final hash value.\n",
        "\n"
      ],
      "metadata": {
        "id": "kVj7ah9j8GBL"
      }
    },
    {
      "cell_type": "code",
      "source": [
        "def chaos_emerald_hash(input_string):\n",
        "    # Your implementation here\n",
        "    return 0 # you'll replace this\n",
        "\n",
        "print(chaos_emerald_hash(\"Sonic\"))  # Should Output: 508`"
      ],
      "metadata": {
        "colab": {
          "base_uri": "https://localhost:8080/"
        },
        "id": "hWtYNT8z8Fg7",
        "outputId": "b339acbe-51f0-47a3-eb91-3b60e8828500"
      },
      "execution_count": null,
      "outputs": [
        {
          "output_type": "stream",
          "name": "stdout",
          "text": [
            "0\n"
          ]
        }
      ]
    },
    {
      "cell_type": "markdown",
      "source": [
        "## Exercise 2: Substitution Cipher - \"Tails' Scrambler\"\n",
        "\n",
        "Objective: Implement a substitution cipher that encrypts and decrypts text by replacing each letter with another letter in the alphabet.\n",
        "\n",
        "Instructions:\n",
        "\n",
        "1.  Create a function named `tails_scrambler` that takes two arguments: `input_text` and `encrypt`.\n",
        "2.  Create a string named `alphabet` containing all 26 lowercase English letters.\n",
        "3.  Create a string named `scrambled_alphabet` with the same letters but in a different order.\n",
        "4.  Initialize an empty string named `output_text`.\n",
        "5.  For each character in `input_text`: \n",
        "  1. If the character is in `alphabet`: \n",
        "    \n",
        "    - If `encrypt` is True, find the index of the character in `alphabet`, and append the character at the same index in `scrambled_alphabet` to `output_text`. \n",
        "    - If `encrypt` is False, find the index of the character in `scrambled_alphabet`, and append the character at the same index in `alphabet` to `output_text`.\n",
        "  2. If the character is not in `alphabet`, append it unchanged to `output_text`.\n",
        "6.  Return `output_text`."
      ],
      "metadata": {
        "id": "1Fx2HdDy9eKX"
      }
    },
    {
      "cell_type": "code",
      "source": [
        "def tails_scrambler(input_text, encrypt):\n",
        "    # Your implementation here\n",
        "    return 0 # You'll replace this\n",
        "\n",
        "message = input(\"What message do you want to scramble? \")\n",
        "encrypted = tails_scrambler(message, True)\n",
        "print(f\"Encrpyted--should be scrambled: {encrypted}\") # Sh\n",
        "decrypted = tails_scrambler(encrypted, False)\n",
        "print(f\"Decrypted--should be same as message: {decrypted}\") # Should be the same as the original message"
      ],
      "metadata": {
        "colab": {
          "base_uri": "https://localhost:8080/"
        },
        "id": "U8Gi86h79iv3",
        "outputId": "3dc15668-796f-4dfd-c088-3e80075afd04"
      },
      "execution_count": null,
      "outputs": [
        {
          "output_type": "stream",
          "name": "stdout",
          "text": [
            "What message do you want to scramble? Hello\n",
            "Encrpyted--should be scrambled: 0\n",
            "Decrypted--should be same as message: 0\n"
          ]
        }
      ]
    },
    {
      "cell_type": "code",
      "source": [],
      "metadata": {
        "id": "EDkN7BYDFPxY"
      },
      "execution_count": null,
      "outputs": []
    }
  ]
}