{
  "cells": [
    {
      "cell_type": "markdown",
      "metadata": {
        "id": "view-in-github",
        "colab_type": "text"
      },
      "source": [
        "<a href=\"https://colab.research.google.com/github/brendanpshea/computing_concepts_python/blob/main/IntroCS_08_CyberSecurity.ipynb\" target=\"_parent\"><img src=\"https://colab.research.google.com/assets/colab-badge.svg\" alt=\"Open In Colab\"/></a>"
      ]
    },
    {
      "cell_type": "markdown",
      "metadata": {
        "id": "P23kE6G833YH"
      },
      "source": [
        "# From Caesar's Cipher to AI - A Little History of Information Security\n",
        "### Brendan Shea, PhD\n",
        "\n",
        "The need to protect sensitive information has been a constant challenge. As communication methods and technologies have evolved, so too have the threats to the security of our data. In this chapter, we will explore the fascinating history of information security, from the early days of Julius Caesar's cipher to the cutting-edge techniques of artificial intelligence. More specifically, we'll consider how the CIA (Confidentiality, Ingretity, Availabilty) triad has served as a guiding framework throughout its evolution."
      ]
    },
    {
      "cell_type": "markdown",
      "metadata": {
        "id": "CXVLq9l04kRH"
      },
      "source": [
        "## The CIA Triad\n",
        "The **CIA triad** is a fundamental concept in information security that defines the three key principles of protecting data: Confidentiality, Integrity, and Availability. These principles form the foundation of information security and guide the development and implementation of security measures. While all three aspects are crucial, there is often a tension between them, as focusing too much on one principle can sometimes compromise the others.\n",
        "\n",
        "- **Confidentiality** ensures that data is accessible only to authorized parties. A simple example is your social media account. When you create a password for your account, you ensure that only you can access your private messages and posts. This is confidentiality in action. However, if you choose a very complex password that you can't remember, you might end up locking yourself out of your own account, which affects availability.\n",
        "- **Integrity** maintains the accuracy and consistency of data throughout its lifecycle. Imagine you're working on a school project with your classmates using a shared online document. You want to make sure that the content remains accurate and consistent, even as multiple people make changes. This is where version control and track changes come in handy, as they help maintain the integrity of the document. However, if you set very strict editing permissions to ensure integrity, it might make it harder for your classmates to contribute to the project, affecting availability.\n",
        "- **Availability** guarantees that data and systems are accessible and operational when needed by authorized users. A simple example is your school's online learning platform. You want to be able to access your course materials, submit assignments, and participate in discussions whenever you need to. The school ensures availability by having reliable servers and backup systems. However, if the school focuses too much on availability and grants access to everyone without proper authentication, it could compromise the confidentiality of sensitive information, such as grades or personal details.\n",
        "\n",
        "In practice, achieving a perfect balance among the three principles of the CIA triad can be challenging. Measures taken to strengthen one aspect may have unintended consequences on the others. For instance, if you use **two-factor authentication (2FA)** to enhance the confidentiality of your online banking account, it might take a bit longer to log in, slightly affecting availability.\n",
        "\n",
        "Information security professionals must carefully consider the specific needs and priorities of their organization and find the right balance among confidentiality, integrity, and availability. They do this by assessing risks, implementing various security measures, and regularly reviewing and adjusting their security strategy."
      ]
    },
    {
      "cell_type": "markdown",
      "metadata": {
        "id": "cwZSEo8cDxjg"
      },
      "source": [
        "## The Caesar Cipher\n",
        "Imagine you're Julius Caesar, the mighty ruler of the Roman Empire, and you need to send a confidential message to your generals on the battlefield. You know that your enemies are intercepting your communications, and you can't risk your battle plans falling into the wrong hands. What do you do? This is where the Caesar cipher comes into play.\n",
        "\n",
        "Julius Caesar's cipher, also known as the **Caesar cipher** or shift cipher, is one of the earliest known examples of encryption techniques. It contributed to the early development of confidentiality in information security by demonstrating the basic principle of substitution ciphers and highlighting the need for secure communication. How Caesar's cipher works:\n",
        "\n",
        "1.  Each letter in the original message (plaintext) is replaced by a letter a fixed number of positions down the alphabet.\n",
        "2.  For example, with a shift of 3, 'A' would become 'D', 'B' would become 'E', and so on.\n",
        "3.  The resulting encrypted message (ciphertext) would be gibberish to anyone who doesn't know the specific shift number used.\n",
        "4.  To decrypt the message, the recipient would need to know the shift number and apply it in reverse.\n",
        "\n",
        "Here's a simple Python code snippet that demonstrates the Caesar cipher:"
      ]
    },
    {
      "cell_type": "code",
      "execution_count": null,
      "metadata": {
        "id": "RC492CLmD2Eo"
      },
      "outputs": [],
      "source": [
        "def caesar_cipher(text, shift):\n",
        "    result = \"\"\n",
        "    for char in text:\n",
        "        # Check if the character is a letter\n",
        "        if char.isalpha():\n",
        "            # Determine the ASCII offset based on the case of the character\n",
        "            # ASCII offset for uppercase letters is 65 (A)\n",
        "            # ASCII offset for lowercase letters is 97 (a)\n",
        "            ascii_offset = 65 if char.isupper() else 97\n",
        "\n",
        "            # Apply the Caesar cipher shift to the character\n",
        "            # ord(char) converts the character to its ASCII code\n",
        "            # Subtracting the ASCII offset maps the character to the range [0, 25]\n",
        "            # Adding the shift and taking the modulo 26 applies the Caesar cipher shift\n",
        "            # Adding the ASCII offset back maps the result to the original ASCII range\n",
        "            # chr() converts the ASCII code back to a character\n",
        "            result += chr((ord(char) - ascii_offset + shift) % 26 + ascii_offset)\n",
        "        else:\n",
        "            # If the character is not a letter, add it to the result unchanged\n",
        "            result += char\n",
        "\n",
        "    return result"
      ]
    },
    {
      "cell_type": "code",
      "execution_count": null,
      "metadata": {
        "colab": {
          "base_uri": "https://localhost:8080/"
        },
        "id": "OPsKXwno7Csh",
        "outputId": "c4aeb0bb-1589-456d-8401-d4739d3b0c84"
      },
      "outputs": [
        {
          "name": "stdout",
          "output_type": "stream",
          "text": [
            "Original message: It was the best of times. It was the worst of times.\n",
            "Ciphertext: Lw zdv wkh ehvw ri wlphv. Lw zdv wkh zruvw ri wlphv.\n",
            "Decrpyted using same key: It was the best of times. It was the worst of times.\n"
          ]
        }
      ],
      "source": [
        "# Test code\n",
        "plaintext = \"It was the best of times. It was the worst of times.\"\n",
        "print(\"Original message:\",plaintext)\n",
        "\n",
        "shift = 3\n",
        "ciphertext = caesar_cipher(plaintext, shift)\n",
        "print(\"Ciphertext:\", ciphertext)\n",
        "\n",
        "# We can now decrypt using the same shift (but backwards)\n",
        "decrypted_text = caesar_cipher(ciphertext, -shift)\n",
        "print(\"Decrpyted using same key:\", decrypted_text)"
      ]
    },
    {
      "cell_type": "markdown",
      "metadata": {
        "id": "rjpeKm4vDzKN"
      },
      "source": [
        "Caesar's ciper was important for a number of reasons:\n",
        "\n",
        "1. The cipher was used by Julius Caesar (and the Roman military) to protect sensitive military and political correspondence, demonstrating the early recognition of the need for confidentiality in communication.\n",
        "2. Although the Caesar cipher is a simple substitution cipher and can be easily broken with modern techniques, it laid the foundation for more complex encryption methods that followed.\n",
        "3. The cipher introduced the concept of **symmetric encrpytion**, where the shift number acts as a secret key shared between the sender and the recipient. (In symmetric encryption, *both people share the same key--hence the \"symmetry*.\n",
        "4. It also highlighted the importance of keeping the encryption method and the key secret, as the security of the cipher relies on the secrecy of the shift number.\n",
        "\n",
        "Caesar's cipher also had some notable weaknesses, though, which we will explore in the next section."
      ]
    },
    {
      "cell_type": "markdown",
      "metadata": {
        "id": "VrxvtUy8Nmjy"
      },
      "source": [
        "## Cracking the Caesar Cipher: An Introduction to Encryption Attacks\n",
        "\n",
        "While Julius Caesar's cipher was a groundbreaking invention in its time, it is now considered a relatively weak form of encryption. In fact, cracking the Caesar cipher is often used as an educational exercise to introduce students to the basics of cryptanalysis, the study of breaking encryption systems. By understanding how the Caesar cipher can be cracked, we can gain valuable insights into the general ways in which encryption is attacked and the importance of using strong, modern encryption methods.\n",
        "\n",
        "- A **brute-force** attack involves trying every possible key or shift value until the correct one is found. In the case of the Caesar cipher, there are only 25 possible shift values (assuming the English alphabet). An attacker can easily try all 25 shifts and determine the correct one based on the readability of the decrypted text. This highlights the importance of using encryption methods with large key spaces to make brute-force attacks impractical.\n",
        "- **Frequency analysis** exploits the fact that certain letters and letter combinations appear more frequently in a given language. In English, for example, the letter 'e' is the most common, while 'z' is one of the least common. By analyzing the frequency distribution of the letters in the ciphertext and comparing it to the known frequency distribution of the language, an attacker can make educated guesses about the original plaintext. This technique is particularly effective against simple substitution ciphers like the Caesar cipher.\n",
        "- In a **known plaintext attack**, the attacker has access to both the plaintext and its corresponding ciphertext. This can happen when the same message is encrypted multiple times with the same key or when the attacker knows or can guess part of the plaintext. With the Caesar cipher, if an attacker knows that the word \"the\" appears in the plaintext, they can look for the corresponding shifted letters in the ciphertext and deduce the shift value. This emphasizes the importance of using unique keys for each message and avoiding the use of common or predictable phrases.\n",
        "- In a **ciphertext-only attack**, the attacker only has access to the encrypted message. While this may seem like a daunting task, the Caesar cipher is vulnerable to this type of attack due to its simplicity. An attacker can perform frequency analysis or try common shift values (like 1, 2, or 3) to crack the cipher. Modern encryption methods, like the Advanced Encryption Standard (AES), are designed to withstand ciphertext-only attacks by using complex mathematical algorithms and large key sizes.\n",
        "\n",
        "Here's a simple Python script that demonstrates a brute-force attack on the Caesar cipher:"
      ]
    },
    {
      "cell_type": "code",
      "execution_count": null,
      "metadata": {
        "colab": {
          "base_uri": "https://localhost:8080/"
        },
        "id": "J-ZGm3MaN8Wo",
        "outputId": "18fe81f5-8ea5-4e9b-f5c6-ee630af966db"
      },
      "outputs": [
        {
          "name": "stdout",
          "output_type": "stream",
          "text": [
            "Shift 0: Dwwdfn dw gdzq!\n",
            "Shift 1: Exxego ex hear!\n",
            "Shift 2: Fyyfhp fy ifbs!\n",
            "Shift 3: Gzzgiq gz jgct!\n",
            "Shift 4: Haahjr ha khdu!\n",
            "Shift 5: Ibbiks ib liev!\n",
            "Shift 6: Jccjlt jc mjfw!\n",
            "Shift 7: Kddkmu kd nkgx!\n",
            "Shift 8: Leelnv le olhy!\n",
            "Shift 9: Mffmow mf pmiz!\n",
            "Shift 10: Nggnpx ng qnja!\n",
            "Shift 11: Ohhoqy oh rokb!\n",
            "Shift 12: Piiprz pi splc!\n",
            "Shift 13: Qjjqsa qj tqmd!\n",
            "Shift 14: Rkkrtb rk urne!\n",
            "Shift 15: Sllsuc sl vsof!\n",
            "Shift 16: Tmmtvd tm wtpg!\n",
            "Shift 17: Unnuwe un xuqh!\n",
            "Shift 18: Voovxf vo yvri!\n",
            "Shift 19: Wppwyg wp zwsj!\n",
            "Shift 20: Xqqxzh xq axtk!\n",
            "Shift 21: Yrryai yr byul!\n",
            "Shift 22: Zsszbj zs czvm!\n",
            "Shift 23: Attack at dawn!\n",
            "Shift 24: Buubdl bu ebxo!\n",
            "Shift 25: Cvvcem cv fcyp!\n"
          ]
        }
      ],
      "source": [
        "ciphertext = \"Dwwdfn dw gdzq!\"\n",
        "for shift in range(26):\n",
        "    plaintext = caesar_cipher(ciphertext, shift)\n",
        "    print(f\"Shift {shift}: {plaintext}\")"
      ]
    },
    {
      "cell_type": "markdown",
      "metadata": {
        "id": "FjVSxrujOESK"
      },
      "source": [
        "If you look closely, you'll see that one of the 26 possible options yields the plaintext."
      ]
    },
    {
      "cell_type": "markdown",
      "metadata": {
        "id": "fJW76FKEPqeN"
      },
      "source": [
        "## From Caesar to the Telegraph: Early Threats to Information Security\n",
        "\n",
        "Having explored the groundbreaking Caesar cipher and the methods used to crack it, let's now delve into the broader landscape of information security threats in the era before the telegraph. While the Caesar cipher addressed confidentiality, the early threats to information security encompassed all aspects of the CIA triad: Confidentiality, Integrity, and Availability.\n",
        "\n",
        "- In ancient times, the primary threat to confidentiality was the **physical theft or tampering** of written documents. Sensitive information, such as military strategies and diplomatic correspondence, was vulnerable to unauthorized access by adversaries who could steal or intercept the documents. To mitigate this threat and ensure confidentiality, important documents were often sealed, and trusted messengers were employed to deliver them securely. This early form of confidentiality protection bears striking similarities to modern encryption techniques, such as the use of virtual private networks (VPNs) and secure sockets layer (SSL) certificates, which aim to protect sensitive data from unauthorized access as it traverses digital networks.\n",
        "\n",
        "- Integrity, the accuracy and consistency of information, was also at risk in the early days of information security. Adversaries could alter or forge documents to mislead or deceive the intended recipients. To counter this threat, measures such as unique seals, signatures, and other forms of authentication were used to verify the integrity of the documents and detect any tampering. In the digital age, ensuring data integrity remains a critical concern. Modern techniques, such as **digital signatures**, checksums, and blockchain technology, serve as the contemporary counterparts to the seals and signatures of ancient times. These methods help detect and prevent unauthorized modifications to digital assets, ensuring the trustworthiness and reliability of information.\n",
        "\n",
        "- Availability, the third pillar of the CIA triad, was threatened by factors such as the loss, destruction, or interception of documents. To ensure the availability of crucial information, multiple copies of important documents were often created and stored in secure locations. This **redundancy** helped prevent the total loss of information in case of accidents, disasters, or enemy action. In the modern digital landscape, availability is safeguarded through techniques such as data backup and recovery, distributed storage systems, and cloud computing. These approaches mirror the ancient practice of creating multiple copies and storing them securely, ensuring that critical information remains accessible even in the face of disruptions or attacks.\n",
        "\n",
        "As encryption methods like the Caesar cipher and other substitution ciphers were developed to protect confidentiality, a new threat emerged: cryptanalysis and code breaking. Adversaries would attempt to crack the codes and decipher the encrypted messages to gain access to sensitive information. This led to an ongoing race between code makers and code breakers, with each side constantly developing new techniques to outsmart the other."
      ]
    },
    {
      "cell_type": "markdown",
      "metadata": {
        "id": "lSVT1aQ6R5cm"
      },
      "source": [
        "## From the Telegraph to the Enigma: The Evolving Landscape of Information Security in the Pre-Computing Era\n",
        "\n",
        "The invention of the telegraph in the 1830s marked a significant milestone in the history of communication and information security. As electronic communication began to replace physical messengers, new threats emerged, necessitating the development of innovative security measures. This section explores the evolving landscape of information security from the advent of the telegraph to the famous Enigma machine, highlighting the interplay between technological advancements and the ongoing battle to protect sensitive information.\n",
        "\n",
        "The telegraph revolutionized long-distance communication, enabling messages to be transmitted rapidly across vast distances. However, this new technology also introduced vulnerabilities that could be exploited by adversaries. One of the primary threats was the interception of telegraph messages. Malicious actors could tap into telegraph lines, eavesdropping on confidential communications and compromising the confidentiality of sensitive information. In response, cryptographic techniques, such as the **Playfair cipher** and the **Vigenère cipher**, were developed to encrypt telegraph messages, making them unreadable to unauthorized parties.\n",
        "\n",
        "As the use of the telegraph expanded, so did the need for secure key exchange. In 1883, Auguste Kerckhoffs, a Dutch linguist and cryptographer, introduced **Kerckhoffs's principle**, which states that the security of a cryptographic system should depend on the secrecy of the key, not the secrecy of the algorithm. This principle laid the foundation for modern cryptography and emphasized the importance of robust key management practices. Kerckhoffs's work also highlighted the need for encryption algorithms to be thoroughly studied and tested to ensure their security against cryptanalytic attacks.\n",
        "\n",
        "The outbreak of World War I in 1914 brought about a new era of military communications and espionage. The widespread use of the telegraph and radio communication made the protection of sensitive military information a top priority. One notable figure during this period was Gilbert Vernam, an American engineer who invented the **Vernam cipher**, also known as the **one-time pad**. The one-time pad is a cryptographic system that uses a unique key for each message, providing unbreakable security if used correctly. Vernam's invention was a significant milestone in the development of secure communication, and variations of the one-time pad are still used in certain high-security applications today.\n",
        "\n",
        "The interwar period saw the rise of mechanical encryption devices, such as the **Enigma machine**. Invented by German engineer Arthur Scherbius in the early 1920s, the Enigma machine became infamous during World War II as the primary encryption device used by Nazi Germany. The Enigma machine employed a complex system of rotors and plugboards to encrypt messages, making it incredibly difficult to crack. The breaking of the Enigma code by Allied cryptographers, including Alan Turing and the team at Bletchley Park, played a crucial role in the outcome of the war and underscored the importance of cryptanalysis in the field of information security.\n",
        "\n",
        "The pre-computing era also witnessed the emergence of new threats, such as the **insider threat** and **social engineering**. In 1943, René Carmille, a French computer scientist and cryptologist, sabotaged the Vichy government's efforts to identify Jewish citizens by subtly altering the punch cards used in the census machines. Carmille's act of sabotage highlighted the potential for insiders to undermine the integrity and confidentiality of information systems. Social engineering techniques, such as impersonation and manipulation, were also used by spies and infiltrators to gather sensitive information, emphasizing the need for security awareness and training.\n",
        "\n",
        "As the world moved closer to the computing age, the lessons learned from the pre-computing era continued to shape the development of information security. The principles of cryptography, key management, and the importance of human factors in security laid the groundwork for the challenges that would arise with the advent of computer networks and the digital age. By understanding the historical context and the evolving nature of threats, information security professionals can better appreciate the significance of the tools and techniques developed during this period and their relevance to contemporary security practices."
      ]
    },
    {
      "cell_type": "markdown",
      "metadata": {
        "id": "OdeIhht9UA8p"
      },
      "source": [
        "### The Vigenère Cipher: A Milestone in Cryptographic History\n",
        "\n",
        "The Vigenère cipher, invented by Italian cryptographer Giovan Battista Bellaso in the 16th century and later misattributed to French diplomat Blaise de Vigenère, marked a significant advancement in the field of cryptography. This polyalphabetic substitution cipher addressed the weaknesses of simple substitution ciphers, such as the Caesar cipher, by using a keyword (rather than a single number) to encrypt the plaintext.\n",
        "\n",
        "The Vigenère cipher works as follows:\n",
        "\n",
        "1.  A keyword is chosen and repeated to match the length of the plaintext.\n",
        "2.  Each letter of the plaintext is shifted based on the corresponding letter of the keyword, using a tabula recta (Vigenère square). In essence, each letter of the keyword is used to create a unique\"Caeaser cipher\".\n",
        "3.  The resulting ciphertext is much more resistant to frequency analysis and brute force than simple substitution ciphers. This is, in large part, because of increased **key length**. A simple Caesar Cipher had only 26 possible keys, while there are 6^26 = 308,915,776 possible values for a 6-letter keyword (like \"SECRET\" or \"CIPHER\").\n",
        "\n",
        "Here's a Python implementation of the Vigenère cipher"
      ]
    },
    {
      "cell_type": "code",
      "execution_count": null,
      "metadata": {
        "id": "U0SdRMwKUK2v"
      },
      "outputs": [],
      "source": [
        "def vigenere_cipher(text, key, decrypt=False):\n",
        "    result = \"\"\n",
        "    key_length = len(key)\n",
        "    for i, char in enumerate(text):\n",
        "        # Check if the character is a letter\n",
        "        if char.isalpha():\n",
        "            # Calculate the shift based on the corresponding character in the key\n",
        "            # ord(key[i % key_length].upper()) converts the key character to its ASCII code (A-Z)\n",
        "            # Subtracting 65 maps the key character to the range [0, 25]\n",
        "            shift = ord(key[i % key_length].upper()) - 65\n",
        "\n",
        "            # If decrypting, negate the shift value\n",
        "            if decrypt:\n",
        "                shift = -shift\n",
        "\n",
        "            # Apply the Caesar cipher shift to the character using the calculated shift\n",
        "            result += caesar_cipher(char, shift)\n",
        "        else:\n",
        "            # If the character is not a letter, add it to the result unchanged\n",
        "            result += char\n",
        "\n",
        "    return result\n"
      ]
    },
    {
      "cell_type": "code",
      "execution_count": null,
      "metadata": {
        "colab": {
          "base_uri": "https://localhost:8080/"
        },
        "id": "1YenRzDB7H5g",
        "outputId": "e4f51974-d949-47f1-bd25-5d33b086070e"
      },
      "outputs": [
        {
          "name": "stdout",
          "output_type": "stream",
          "text": [
            "Original message:\n",
            "It was the best of times. It was the worst of times.\n",
            "\n",
            "Encrypted message:\n",
            "Ax nel xjv uwwv sy xkdil. Kk psw klx aqiwm sh xbeiu.\n",
            "\n",
            "Decrypted message:\n",
            "It was the best of times. It was the worst of times.\n"
          ]
        }
      ],
      "source": [
        "# Test code\n",
        "plaintext = \"It was the best of times. It was the worst of times.\"\n",
        "key = \"SECRET\"\n",
        "\n",
        "print(\"Original message:\")\n",
        "print(plaintext)\n",
        "\n",
        "ciphertext = vigenere_cipher(plaintext, key)\n",
        "print(\"\\nEncrypted message:\")\n",
        "print(ciphertext)\n",
        "\n",
        "decrypted_text = vigenere_cipher(ciphertext, key, decrypt=True)\n",
        "print(\"\\nDecrypted message:\")\n",
        "print(decrypted_text)"
      ]
    },
    {
      "cell_type": "markdown",
      "metadata": {
        "id": "CX2I4P0AUkEM"
      },
      "source": [
        "The Vigenère cipher was considered unbreakable for centuries, earning it the nickname \"le chiffre indéchiffrable\" (the indecipherable cipher). However, in the 19th century, British mathematician Charles Babbage and later, Prussian colonel Friedrich Kasiski, developed methods to crack the Vigenère cipher.\n",
        "\n",
        "The **Kasiski examination**, a method for breaking the Vigenère cipher, involves the following steps:\n",
        "\n",
        "1.  Find repeated sequences of characters (polygrams) in the ciphertext.\n",
        "2.  Calculate the distances between these repeated polygrams.\n",
        "3.  Determine the greatest common divisor (GCD) of these distances, which is likely the length of the keyword.\n",
        "4.  Divide the ciphertext into groups based on the keyword length and perform frequency analysis (see the section on Caesar above) on each group to determine the keyword.\n",
        "\n",
        "The cracking of the Vigenère cipher demonstrated that even complex encryption methods could be vulnerable to cryptanalysis. This realization led to the development of more sophisticated encryption techniques and the ongoing race between code makers and code breakers. The lessons learned from the Vigenère cipher continue to influence modern cryptography, emphasizing the importance of key management, algorithm design, and the constant need for innovation in the face of evolving threats."
      ]
    },
    {
      "cell_type": "markdown",
      "metadata": {
        "id": "f7_2qLHdBblq"
      },
      "source": [
        "## Discussion Questions\n",
        "1. How does the CIA triad help guide the development of information security measures? Can you think of real-life examples where one principle might be prioritized over the others?\n",
        "2. Imagine you are modern day president, and send a secret message to your generals. However, you cannot use computers. How would you encrypt your message? What are the potential weaknesses of this method?\n",
        "3. Why is it important to have a large key space in encryption methods? How does this relate to the vulnerability of the Caesar cipher to brute-force attacks?\n",
        "4. In what ways can frequency analysis be used to crack simple substitution ciphers like the Caesar cipher? How might you make a cipher more resistant to frequency analysis?\n",
        "5. Discuss the importance of using unique keys for each message and avoiding common or predictable phrases. What are some strategies for generating strong, unique keys?"
      ]
    },
    {
      "cell_type": "markdown",
      "metadata": {
        "id": "WV0TZQUQ2RcL"
      },
      "source": [
        "## The Emergence of Computer Networks: A New Era of Connectivity and Vulnerability\n",
        "\n",
        "In the 1960s, a quiet revolution began that would forever change the way we communicate and share information. The development of computer networks marked the dawn of a new era, one filled with the promise of unprecedented connectivity and the challenges of previously unknown vulnerabilities. As the world embraced the digital age, pioneers like Paul Baran and Donald Davies laid the foundation for modern computer networks with their groundbreaking work on packet switching.\n",
        "\n",
        "**Packet switching**, a method of transmitting data by breaking it into smaller units called packets, revolutionized data communication. Each packet, containing a portion of the data along with addressing and control information, could be routed independently through the network. This innovative approach to data transmission paved the way for the development of the Advanced Research Projects Agency Network (ARPANET) in 1969, one of the first operational packet-switching networks and a precursor to the Internet.\n",
        "\n",
        "As we discussed earlier, a common model for understanding networks is the four layer model:\n",
        "\n",
        "- The **Application Layer** This layer is closest to the end-user and includes protocols such as HTTP (web browsing), FTP (file transfer), and SMTP (email). It is responsible for providing services to applications and ensuring effective communication between them.\n",
        "- The **transport layer** ensures reliable data delivery between applications running on different computers. The most common protocols in this layer are TCP (Transmission Control Protocol) and UDP (User Datagram Protocol). TCP provides error-free, sequential transmission of data, while UDP offers faster but less reliable data transfer.\n",
        "- The **Internet layer** is responsible for addressing and routing packets across multiple networks. The Internet Protocol (IP) operates at this layer, providing logical addressing and enabling data to be sent from source to destination.\n",
        "- The **Network Access Layer** is the lowest layer in the TCP/IP model, the network access layer, encompasses the physical and data link protocols that govern the transmission of data over network media, such as Ethernet or Wi-Fi."
      ]
    },
    {
      "cell_type": "markdown",
      "metadata": {
        "id": "-B1NGKmY3YBi"
      },
      "source": [
        "### Threats to Networks\n",
        "As computer networks have evolved, so have the security threats that target them. Here are five common types of network security threats, along with historical examples that illustrate their impact:\n",
        "\n",
        "#### Unauthorized Access and Hacking\n",
        "Unauthorized access and hacking involve gaining access to a network or system without permission. Attackers may exploit vulnerabilities in software, hardware, or configurations to bypass security controls and gain unauthorized access. Once inside, they can steal sensitive data, install malware, or manipulate the system for their own purposes.\n",
        "- In 2010, the Stuxnet worm targeted industrial control systems, specifically those used in Iran's nuclear program. The worm exploited vulnerabilities in Windows and Siemens PLCs to gain unauthorized access to the systems and cause physical damage to centrifuges, setting back Iran's nuclear ambitions.\n",
        "- In 2017, the Equifax data breach exposed the personal information of nearly 150 million people due to a vulnerability in a web application. Hackers exploited this vulnerability to gain unauthorized access to Equifax's systems and steal sensitive data, including Social Security numbers and credit card information.\n",
        "\n",
        "### Malware and Viruses\n",
        "**Malware (malicious software)** and **viruses** are programs designed to harm, disrupt, or gain unauthorized access to a computer system. They can spread through email attachments, downloaded files, or compromised websites. Once installed, malware can steal data, encrypt files for ransom, or use the infected system to launch attacks on other networks.\n",
        "\n",
        "-  In 1988, the Morris Worm infected around 10% of the 60,000 computers connected to the early Internet. Created by Robert Tappan Morris, a graduate student at Cornell University, the worm exploited vulnerabilities in Unix systems and caused significant disruption, highlighting the need for improved network security.\n",
        "- In 2017, the WannaCry ransomware attack affected more than 200,000 computers across 150 countries. The malware exploited a vulnerability in the Windows operating system, encrypting files and demanding a ransom payment in Bitcoin. The attack caused significant disruption to businesses, hospitals, and government agencies worldwide.\n",
        "\n",
        "#### Denial of Service (DoS) Attacks\n",
        "DoS attacks aim to make a network or system unavailable to its intended users by overwhelming it with traffic or exploiting vulnerabilities that cause it to crash. **Distributed Denial of Service (DDoS)** attacks use multiple compromised systems to flood the target with traffic, making it even more difficult to defend against.\n",
        "\n",
        "-   In 2007, Estonia suffered a series of DDoS attacks that targeted government, media, and financial institutions. The attacks, which were attributed to Russian hackers, highlighted the potential for cyberattacks to disrupt critical infrastructure and national security.\n",
        "-  In 2016, the Mirai botnet, composed of hundreds of thousands of compromised IoT devices, launched massive DDoS attacks against the DNS provider Dyn. The attack disrupted major websites and services, including Twitter, Netflix, and Reddit, demonstrating the vulnerability of the Internet of Things (IoT) to malicious actors.\n",
        "\n",
        "#### Data Interception and Eavesdropping\n",
        "Data interception and eavesdropping involve the unauthorized monitoring, capturing, or stealing of data as it is transmitted over a network. Attackers can use techniques like packet sniffing, man-in-the-middle attacks, or compromising network infrastructure to intercept sensitive data, such as login credentials, financial information, or confidential communications.\n",
        "\n",
        "-   In 2013, the Edward Snowden revelations exposed the extent of global surveillance programs conducted by the U.S. National Security Agency (NSA) and other intelligence agencies. These programs involved the interception and collection of vast amounts of internet and telephone data, raising concerns about privacy and the security of online communications.\n",
        "-   In 2014, the Heartbleed vulnerability in the OpenSSL cryptographic library was discovered. The vulnerability allowed attackers to intercept and steal sensitive data, including encryption keys and login credentials, from affected servers. The widespread use of OpenSSL meant that the vulnerability affected a significant portion of the internet, leading to a global effort to patch and mitigate the risk.\n",
        "\n",
        "#### Social Engineering and Phishing\n",
        "**Social engineering** and **phishing** attacks exploit human psychology to trick individuals into revealing sensitive information or taking actions that compromise security. Phishing emails, for example, may appear to come from a legitimate source and lure the recipient into clicking on a malicious link or providing their login credentials.\n",
        "\n",
        "-   In 2016, the Democratic National Committee (DNC) suffered a high-profile data breach that was attributed to Russian hackers. The attackers used spear-phishing emails to trick DNC staff into revealing their login credentials, allowing the hackers to gain access to the organization's email servers and steal confidential information.\n",
        "-  In 2020, the Twitter accounts of high-profile individuals, including Barack Obama, Elon Musk, and Bill Gates, were compromised in a coordinated social engineering attack. The attackers used a combination of phishing and social engineering tactics to gain access to Twitter's internal tools, allowing them to post fraudulent tweets from the compromised accounts."
      ]
    },
    {
      "cell_type": "markdown",
      "metadata": {
        "id": "ScoAAMnN6Dwc"
      },
      "source": [
        "## Public Key Cryptography and the Internet: Securing Communication in the Digital Age\n",
        "\n",
        "As we have seen throughout the history of information security, the need for secure communication has been a constant challenge. From the early days of the Caesar cipher to the emergence of computer networks, protecting the confidentiality, integrity, and authenticity of information has been a critical concern. With the growth of the internet and the increasing reliance on digital communication, this challenge has become even more complex. In this section, we will explore how a combination of symmetric encryption, asymmetric encryption, and hashing forms the foundation of modern internet security.\n",
        "\n",
        "Imagine you want to send a sensitive message to a friend over the internet. You want to ensure that:\n",
        "\n",
        "1.  The message remains confidential and cannot be read by anyone else.\n",
        "2.  The message is not altered during transmission.\n",
        "3.  Your friend can be confident that the message came from you and not an imposter.\n",
        "\n",
        "These requirements correspond to the three core principles of information security: confidentiality, integrity, and authentication. However, achieving these goals on the internet, where data is transmitted over public networks and can be intercepted by malicious actors, is a significant challenge.\n",
        "\n",
        "### Symmetric Encryption\n",
        "Ensuring Confidentiality The first step in securing communication is to protect the confidentiality of the message. This is where symmetric encryption comes into play. In symmetric encryption, the sender and the receiver share a secret key that is used to both encrypt and decrypt the message.\n",
        "\n",
        "For example, let's say you and your friend agree on a secret key: \"SecretKey123\". You can use this key to encrypt your message before sending it over the internet. Even if someone intercepts the encrypted message, they will not be able to read its contents without the secret key. Your friend, who has the same secret key, can decrypt the message and read it.\n",
        "\n",
        "Symmetric encryption algorithms, such as **AES (Advanced Encryption Standard)**, are widely used for their efficiency and security. However, the main challenge with symmetric encryption is securely sharing the secret key between the sender and the receiver. If the key is intercepted during transmission or stolen, the entire communication is compromised.\n",
        "\n",
        "### Asymmetric Encryption\n",
        "Solving the Key Exchange Problem To address the key exchange problem, asymmetric encryption, also known as **public key cryptography**, was developed. In asymmetric encryption, each user has two keys: a public key that is freely shared and a private key that is kept secret.\n",
        "\n",
        "Let's say you want to send a message to your friend using asymmetric encryption. You would use your friend's public key to encrypt the message. Once encrypted, the message can only be decrypted using your friend's corresponding private key. This means that even if someone else obtains the public key, they cannot decrypt the message.\n",
        "\n",
        "The most widely used asymmetric encryption algorithm is **RSA (Rivest-Shamir-Adleman)**. RSA relies on the mathematical difficulty of factoring large numbers to ensure the security of the private key. However, by its very nature, it is not as \"strong\" as modern symmetric encryption, and could theoretically be broken quite easily by quantum computers.\n",
        "\n",
        "### Hashing and Digital Signatures\n",
        "Ensuring Integrity and Authentication While asymmetric encryption solves the key exchange problem and ensures confidentiality, it does not guarantee the integrity or authenticity of the message. This is where hashing and digital signatures come into play.\n",
        "\n",
        "A hash function is a one-way function that takes an input (such as a message) and produces a fixed-size output called a hash value or message digest. The key properties of a hash function are:\n",
        "\n",
        "1.  It is deterministic -- the same input always produces the same hash value.\n",
        "2.  It is infeasible to reverse -- given a hash value, it is computationally infeasible to find the original input.\n",
        "3.  It is collision-resistant --it is infeasible to find two different inputs that produce the same hash value.\n",
        "\n",
        "Examples of widely used hash functions include SHA-256 (Secure Hash Algorithm) and MD5 (Message Digest Algorithm 5). **Digital signatures** (for example, assuring us that people and websites are \"who they say they are\") leverage hash functions and asymmetric encryption to ensure the integrity and authenticity of a message.\n",
        "\n",
        "### Putting It All Together\n",
        "\n",
        "To secure communication on the internet, a combination of symmetric encryption, asymmetric encryption, and digital signatures is used. Here's a simplified example of how these techniques work together:\n",
        "\n",
        "1.  The sender and receiver use asymmetric encryption (e.g., RSA) to securely exchange a symmetric encryption key (e.g., an AES key).\n",
        "2.  The sender uses the symmetric key to encrypt the message, ensuring confidentiality.\n",
        "3.  The sender creates a digital signature of the message using their private key.\n",
        "4.  The encrypted message and the digital signature are sent to the receiver.\n",
        "5.  The receiver uses the symmetric key to decrypt the message.\n",
        "6.  The receiver verifies the digital signature using the sender's public key, ensuring integrity and authentication.\n",
        "\n",
        "This combination of techniques forms the basis for secure communication protocols like **HTTPS (HTTP Secure)** and SSL/TLS (Secure Sockets Layer/Transport Layer Security), which are used to protect sensitive information transmitted over the internet, such as login credentials, financial transactions, and personal data."
      ]
    },
    {
      "cell_type": "markdown",
      "metadata": {
        "id": "DrlDmjoL6u-K"
      },
      "source": [
        "### Example: Modulo Hash Algorithm:\n",
        "The Modulo Hash algorithm takes a string input and converts it into a fixed-size integer output (hash value) using the following steps:\n",
        "\n",
        "1. Initialize a hash value variable to 0.\n",
        "2. For each character in the input string:\n",
        "   1. Convert the character to its ASCII code.\n",
        "   2. Multiply the current hash value by a prime number (e.g., 31).\n",
        "   3. Add the ASCII code to the hash value.\n",
        "3. Take the modulo of the final hash value with a large prime number (e.g., 1,000,003) to ensure a fixed-size output.\n",
        "\n",
        "Here's a Python implementation of the Modulo Hash algorithm:"
      ]
    },
    {
      "cell_type": "code",
      "execution_count": null,
      "metadata": {
        "id": "Lq20Lb7m5I7e"
      },
      "outputs": [],
      "source": [
        "def modulo_hash(input_string):\n",
        "    hash_value = 0\n",
        "    prime_multiplier = 31\n",
        "    modulo_prime = 1000003\n",
        "\n",
        "    for char in input_string:\n",
        "        ascii_code = ord(char)\n",
        "        hash_value = (hash_value * prime_multiplier + ascii_code) % modulo_prime\n",
        "\n",
        "    return hash_value"
      ]
    },
    {
      "cell_type": "code",
      "execution_count": null,
      "metadata": {
        "colab": {
          "base_uri": "https://localhost:8080/"
        },
        "id": "A6kML1HJ7anQ",
        "outputId": "8508d2c8-98fe-4a27-ce65-0e75b2d2b141"
      },
      "outputs": [
        {
          "name": "stdout",
          "output_type": "stream",
          "text": [
            "Input: Cybersecurity\n",
            "Modulo Hash: 108041\n",
            "\n",
            "Input: Claude Shannon, an American mathematician, is known as the father of information theory.\n",
            "Modulo Hash: 594456\n",
            "\n",
            "Input: Whitfield Diffie and Martin Hellman invented the Diffie-Hellman key exchange, a method for securely exchanging cryptographic keys over a public channel.\n",
            "Modulo Hash: 614529\n",
            "\n",
            "Input: The CIA triad - Confidentiality, Integrity, and Availability - forms the foundation of information security principles.\n",
            "Modulo Hash: 813014\n",
            "\n",
            "Input: Bruce Schneier is a renowned cryptographer and computer security professional who has authored several books on cryptography and cybersecurity.\n",
            "Modulo Hash: 557862\n",
            "\n",
            "Input: Cryptography is the practice of securing communication and data using mathematical algorithms to encrypt and decrypt information, ensuring confidentiality, integrity, and authentication in the digital world.\n",
            "Modulo Hash: 486927\n",
            "\n",
            "Input: Cybersecurity\n",
            "Modulo Hash: 108041\n",
            "\n"
          ]
        }
      ],
      "source": [
        "## Test code\n",
        "test_cases = [\n",
        "    \"Cybersecurity\",\n",
        "    \"Claude Shannon, an American mathematician, is known as the father of information theory.\",\n",
        "    \"Whitfield Diffie and Martin Hellman invented the Diffie-Hellman key exchange, a method for securely exchanging cryptographic keys over a public channel.\",\n",
        "    \"The CIA triad - Confidentiality, Integrity, and Availability - forms the foundation of information security principles.\",\n",
        "    \"Bruce Schneier is a renowned cryptographer and computer security professional who has authored several books on cryptography and cybersecurity.\",\n",
        "    \"Cryptography is the practice of securing communication and data using mathematical algorithms to encrypt and decrypt information, ensuring confidentiality, integrity, and authentication in the digital world.\",\n",
        "    \"Cybersecurity\"\n",
        "    \"\"\n",
        "]\n",
        "\n",
        "for test_case in test_cases:\n",
        "    print(f\"Input: {test_case}\")\n",
        "    print(f\"Modulo Hash: {modulo_hash(test_case)}\")\n",
        "    print()"
      ]
    },
    {
      "cell_type": "markdown",
      "metadata": {
        "id": "1Y61Fn2e7Y3Q"
      },
      "source": [
        "As you can see, each input string produces a unique fixed-size integer output (hash value). The Modulo Hash algorithm achieves this by combining the ASCII codes of the characters in the input string using multiplication and addition, and then taking the modulo of the result with a large prime number.\n",
        "\n",
        "The key properties of the Modulo Hash algorithm are:\n",
        "\n",
        "1.  Deterministic -- The same input string always produces the same hash value.\n",
        "2.  Fixed-size output -- Regardless of the length of the input string, the hash value is always a fixed-size integer.\n",
        "3.  Uniformity -- The hash values are uniformly distributed across the range of possible outputs.\n",
        "\n",
        "However, it's important to note that the Modulo Hash algorithm, as presented here, is a simplified example and not suitable for cryptographic purposes. Cryptographic hash functions, such as SHA-256 and MD5, have additional properties like collision resistance and preimage resistance, which make them more secure for applications like digital signatures and password storage."
      ]
    },
    {
      "cell_type": "markdown",
      "metadata": {
        "id": "Kw06-4W3-Y6F"
      },
      "source": [
        "## Who Wants Your Data? How Can You Protect It?\n",
        "\n",
        "In today's digital age, our personal information has become a valuable commodity. From financial records and healthcare data to social media profiles and online behavior, the data we generate and store online is of great interest to a wide range of actors, both benign and malicious. In this section, we will explore the different types of threat actors who may be interested in your data and discuss practical methods you can use to protect your information from unauthorized access.\n",
        "\n",
        "Some common types of **threat actors** include:\n",
        "\n",
        "1. **Cybercriminals** are individuals or groups seek to exploit your personal information for financial gain. They may attempt to steal your credit card numbers, bank account details, or identity information to commit fraud, sell your data on the dark web, or extort money through ransomware attacks.\n",
        "\n",
        "2. **Hacktivists** are motivated by political or social causes, hacktivists target individuals, nations, or organizations to expose perceived wrongdoings, push their agenda, or disrupt operations. They may seek to access your data to embarrass or discredit you or to use your information to further their cause.\n",
        "\n",
        "3.  Governments and state-sponsored actors--**Advanced Persistent Threats**--may be interested in your data for espionage, surveillance, or strategic purposes. They may target individuals with access to sensitive information, such as government employees, journalists, or activists, to gather intelligence or influence political outcomes (such as the way you vote).\n",
        "\n",
        "4. While not necessarily malicious, advertisers and data brokers collect and analyze vast amounts of personal data to build detailed profiles of individuals for targeted advertising and marketing purposes. They may track your online behavior, purchases, and interests to personalize ads and content, sometimes at the expense of your privacy. Once they have this data, they may *themselves* be hacked, which will lead to your information being exposed.\n",
        "\n",
        "5. Employees, contractors, or business partners with legitimate access to your data may misuse their privileges for personal gain or malicious purposes. Such **insider threats** can be particularly challenging to detect and prevent, as they often have valid credentials and knowledge of an organization's systems and procedures.\n",
        "\n"
      ]
    },
    {
      "cell_type": "markdown",
      "metadata": {
        "id": "mRf54u_UAv_R"
      },
      "source": [
        "### Methods to Protect Your Data\n",
        "There is no single, foolproof method to protect your data. Instead, you need to use what cybersecurity professionals call **defense in depth**, which means using a series of protections, so that the breakdown of any single defense doesn't lead to catastrophe.\n",
        "\n",
        "1. Be mindful of the source of your hardware, software, and apps:\n",
        "\n",
        " - Purchase devices and components from reputable manufacturers and suppliers to reduce the risk of pre-installed malware or hardware-based vulnerabilities.\n",
        "\n",
        " - Download software and apps only from official app stores or trusted sources to minimize the chance of installing malicious or counterfeit programs.\n",
        "\n",
        " - Be cautious of free software or apps from unknown developers, as they may contain hidden malware or adware.\n",
        "\n",
        "2. Keep your software and operating systems up to date:\n",
        "\n",
        " - Enable automatic updates for your operating system, web browsers, and other critical software to ensure you have the latest security patches and bug fixes.\n",
        "\n",
        " - Regularly check for and install updates for all your apps and programs, as outdated software may contain known vulnerabilities that can be exploited by attackers.\n",
        "\n",
        "3. Use strong, unique passwords:\n",
        "\n",
        " - Create strong passwords that cannot easily be guessed or \"cracked\". A popular method is to use **four random words** that are easy for you to remember but difficult for others to guess. (Such passwords have high **information entropy**, meaning they are very difficult to guess or crack).\n",
        "\n",
        " - Use a different password for each online account to limit the impact of a single password breach. Consider using a password manager to generate and store complex passwords securely.\n",
        "\n",
        " - Avoid using easily guessable information, such as birthdays, pet names, or common words, in your passwords.\n",
        "\n",
        "4. Enable two-factor authentication (2FA):\n",
        "\n",
        " - Activate 2FA whenever possible, especially for sensitive accounts like email, banking, and social media. 2FA adds an extra layer of security by requiring a second form of verification, such as a code sent to your phone or generated by an app, in addition to your password.\n",
        "\n",
        " - Use hardware security keys or authenticator apps for 2FA instead of SMS-based verification, as SMS can be vulnerable to interception and SIM swapping attacks.\n",
        "\n",
        "5. Be cautious of phishing and social engineering attempts:\n",
        "\n",
        " - Be wary of unsolicited emails, messages, or phone calls asking for personal information or urging you to click on suspicious links or attachments.\n",
        "\n",
        " - Verify the identity of the sender and the legitimacy of the request before providing any sensitive information or taking any action.\n",
        "\n",
        " - Educate yourself and your family members about common phishing tactics and how to spot and avoid them.\n",
        "\n",
        "6. Encrypt your data and communications:\n",
        "\n",
        " - Use encryption tools to protect sensitive data stored on your devices, such as full-disk encryption for your computer or phone.\n",
        "\n",
        " - Encrypt your online communications using secure protocols like HTTPS, SSL/TLS, or VPNs, especially when using public Wi-Fi networks.\n",
        "\n",
        " - Consider using end-to-end encrypted messaging apps, like Signal or WhatsApp, for sensitive conversations.\n",
        "\n",
        "7. Regularly back up your data:\n",
        "\n",
        " - Create regular backups of your important files, documents, and media to protect against data loss due to hardware failure, malware, or ransomware attacks.\n",
        "\n",
        " - Store backups on external drives or in the cloud, and ensure they are encrypted and stored securely.\n",
        "\n",
        "By understanding the different types of threat actors and implementing these practical data protection methods, you can significantly reduce the risk of your personal information falling into the wrong hands. However, it's essential to remember that no single measure is foolproof, and a multi-layered approach to data security is always recommended. Stay informed about the latest security best practices, and remain vigilant in protecting your data in an ever-evolving digital landscape."
      ]
    },
    {
      "cell_type": "markdown",
      "source": [
        "## Review With Quizlet"
      ],
      "metadata": {
        "id": "rtnZTIuQ_OY1"
      }
    },
    {
      "cell_type": "code",
      "source": [
        "%%html\n",
        "<iframe src=\"https://quizlet.com/820923558/learn/embed?i=psvlh&x=1jj1\" height=\"500\" width=\"100%\" style=\"border:0\"></iframe>"
      ],
      "metadata": {
        "id": "IdYir2dW_QfU",
        "outputId": "4f55ca8f-13d4-40e1-d893-cb106bf5ce20",
        "colab": {
          "base_uri": "https://localhost:8080/",
          "height": 521
        }
      },
      "execution_count": 1,
      "outputs": [
        {
          "output_type": "display_data",
          "data": {
            "text/plain": [
              "<IPython.core.display.HTML object>"
            ],
            "text/html": [
              "<iframe src=\"https://quizlet.com/820923558/learn/embed?i=psvlh&x=1jj1\" height=\"500\" width=\"100%\" style=\"border:0\"></iframe>\n"
            ]
          },
          "metadata": {}
        }
      ]
    },
    {
      "cell_type": "markdown",
      "metadata": {
        "id": "2R8PmyaGHYp0"
      },
      "source": [
        "### Cyber Security Quiz (Experimental)"
      ]
    },
    {
      "cell_type": "code",
      "execution_count": null,
      "metadata": {
        "colab": {
          "base_uri": "https://localhost:8080/"
        },
        "id": "Tl-hFg4pE2Tf",
        "outputId": "4f4e6079-1181-4bec-bd34-cbf97e5cf107"
      },
      "outputs": [
        {
          "name": "stdout",
          "output_type": "stream",
          "text": [
            "\n",
            "Question 1 of 36:\n",
            "Cybercriminals often target individuals' personal information for identity theft and financial fraud. (True/False/Quit): Quit\n",
            "\n",
            "Quitting the quiz.\n",
            "No questions answered.\n"
          ]
        }
      ],
      "source": [
        "!wget https://github.com/brendanpshea/colab-utilities/raw/main/cs_quiz.py > /dev/null 2>&1\n",
        "from cs_quiz import cs_quiz\n",
        "cs_quiz(\"https://github.com/brendanpshea/computing_concepts_python/raw/main/quiz/ch8quiz.csv\")"
      ]
    },
    {
      "cell_type": "code",
      "execution_count": null,
      "metadata": {
        "id": "sztcqbH37X6o"
      },
      "outputs": [],
      "source": [
        "cs_quiz(\"https://github.com/brendanpshea/computing_concepts_python/blob/main/quiz/ch8quiz.csv\")"
      ]
    },
    {
      "cell_type": "markdown",
      "source": [
        "## Glossary\n",
        "\n",
        "| Term | Definition |\n",
        "| --- | --- |\n",
        "| *Fundamental Concepts* |  |\n",
        "| Information | Data that has meaning, context, or purpose. |\n",
        "| Information Security | The practice of protecting data from unauthorized access, use, disclosure, disruption, modification, or destruction. |\n",
        "| CIA Triad | A model that defines the three key principles of information security: Confidentiality, Integrity, and Availability. |\n",
        "| Confidentiality | The principle of ensuring that data is accessible only to authorized parties. |\n",
        "| Integrity | The principle of maintaining the accuracy and consistency of data throughout its lifecycle. |\n",
        "| Availability | The principle of ensuring that data and systems are accessible and operational when needed by authorized users. |\n",
        "| Redundancy (Planned) | The incorporation of additional components or systems to maintain functionality in case of failure or damage. |\n",
        "| Defense in Depth | A multi-layered approach to security that combines multiple defensive mechanisms to protect against various threats. |\n",
        "| *Cryptography* |  |\n",
        "| Key | A piece of information used to encrypt or decrypt data in a cryptographic algorithm. |\n",
        "| Symmetric Encryption | A type of encryption where the same key is used for both encrypting and decrypting data. |\n",
        "| Asymmetric Encryption | A type of encryption that uses two different keys: a public key for encryption and a private key for decryption. |\n",
        "| Caesar Cipher | A simple substitution cipher that shifts each letter in the plaintext by a fixed number of positions in the alphabet. |\n",
        "| Vigenère Cipher | A polyalphabetic substitution cipher that uses a keyword to encrypt the plaintext, providing more security than simple substitution ciphers. |\n",
        "| Kerckhoffs's principle | The concept that the security of a cryptographic system should depend on the secrecy of the key, not the secrecy of the algorithm. |\n",
        "| RSA | A widely-used asymmetric encryption algorithm named after its inventors: Rivest, Shamir, and Adleman. |\n",
        "| AES | The Advanced Encryption Standard, a symmetric encryption algorithm widely used for securing sensitive data. |\n",
        "| *Hashing and Digital Signatures* |  |\n",
        "| Hashing | The process of converting data of any size into a fixed-size output (hash value) using a mathematical algorithm. |\n",
        "| Digital Signature | A cryptographic technique that ensures the authenticity, integrity, and non-repudiation of digital communications. |\n",
        "| SHA | Secure Hash Algorithm, a family of cryptographic hash functions used for data integrity and digital signatures. |\n",
        "| *Attacks and Vulnerabilities* |  |\n",
        "| Brute Force Attack | An attack method that involves systematically trying all possible keys or passwords until the correct one is found. |\n",
        "| Frequency Analysis | A technique used to break simple substitution ciphers by analyzing the frequency of letters or symbols in the ciphertext. |\n",
        "| Known Plaintext Attack | An attack where the attacker has access to both the plaintext and its corresponding ciphertext, aiding in determining the encryption key. |\n",
        "| Malware | Software designed to harm, disrupt, or gain unauthorized access to a computer system. |\n",
        "| Virus | A type of malware that replicates itself by modifying other computer programs and spreading from one computer to another. |\n",
        "| Denial of Service | An attack that aims to make a system or network unavailable to its intended users by overwhelming it with traffic or requests. |\n",
        "| Phishing | A social engineering attack that attempts to trick individuals into revealing sensitive information or clicking on malicious links. |\n",
        "| Social Engineering | The psychological manipulation of people into performing actions or divulging confidential information. |\n",
        "| Advanced Persistent Threat | A sophisticated, prolonged cyberattack in which an intruder gains unauthorized access to a network and remains undetected for an extended period. |\n",
        "| *Best Practices and Solutions* |  |\n",
        "| Two-Factor Authentication (2FA) | An extra layer of security that requires a second form of verification, such as a code sent to a phone, in addition to a password. |\n",
        "| Four Random Words | A method for creating strong, memorable passphrases by combining four randomly chosen words. |\n",
        "| HTTPS | Hypertext Transfer Protocol Secure, a protocol for secure communication over the internet using SSL/TLS encryption. |\n",
        "| Information Entropy | A measure of the uncertainty or randomness in a piece of data, often used to assess the strength of passwords or encryption keys. |\n"
      ],
      "metadata": {
        "id": "O9EOhTVmxKyj"
      }
    },
    {
      "cell_type": "code",
      "source": [],
      "metadata": {
        "id": "VVgi1tHDxTr_"
      },
      "execution_count": null,
      "outputs": []
    }
  ],
  "metadata": {
    "colab": {
      "provenance": [],
      "authorship_tag": "ABX9TyM2E+raPnMJP8QabpXz4iIx",
      "include_colab_link": true
    },
    "kernelspec": {
      "display_name": "Python 3",
      "name": "python3"
    },
    "language_info": {
      "name": "python"
    }
  },
  "nbformat": 4,
  "nbformat_minor": 0
}