{
  "nbformat": 4,
  "nbformat_minor": 0,
  "metadata": {
    "colab": {
      "provenance": [],
      "authorship_tag": "ABX9TyO6IUp/awnKRUOKRNBsmiX+",
      "include_colab_link": true
    },
    "kernelspec": {
      "name": "python3",
      "display_name": "Python 3"
    },
    "language_info": {
      "name": "python"
    }
  },
  "cells": [
    {
      "cell_type": "markdown",
      "metadata": {
        "id": "view-in-github",
        "colab_type": "text"
      },
      "source": [
        "<a href=\"https://colab.research.google.com/github/brendanpshea/intro_cs/blob/main/IntroCS_08_CyberSecurity.ipynb\" target=\"_parent\"><img src=\"https://colab.research.google.com/assets/colab-badge.svg\" alt=\"Open In Colab\"/></a>"
      ]
    },
    {
      "cell_type": "markdown",
      "source": [
        "# Cybersecurity\n",
        "### Brendan Shea, PhD (Brendan.Shea@rctc.edu) \n",
        "![A snake detective](https://github.com/brendanpshea/intro_cs/raw/main/images/snake_detective.png)\n",
        "\n",
        "Welcome to the exciting world of cybersecurity! In today's digital age, cybersecurity is more important than ever, as our daily lives become increasingly interconnected and reliant on technology. From online banking to social media, we rely on the internet for a multitude of tasks, making the need to protect our digital assets and personal information a top priority. In this lsson, we will delve into the fascinating world of cybersecurity, providing an engaging mix of concepts, real-world examples, and simple Python examples where applicable.\n",
        "\n",
        "#### What is Cybersecurity?\n",
        "\n",
        "At its core, cybersecurity is the practice of protecting computer systems, networks, and data from theft, damage, or unauthorized access. It encompasses a range of technologies, processes, and practices designed to safeguard digital information and infrastructure from cyber threats. Understanding the basic concepts of cybersecurity, such as Confidentiality, Integrity, and Availability (often referred to as the **CIA triad**), is essential to building a strong foundation in the field.\n",
        "\n",
        "-   **Confidentiality** ensures that sensitive information is only accessible to authorized individuals.\n",
        "-   **Integrity** guarantees the accuracy and reliability of data by preventing unauthorized modifications.\n",
        "-   **Availability** ensures that information and systems are accessible to authorized users when needed.\n",
        "\n",
        "By exploring the intricacies of cybersecurity, you'll gain a newfound appreciation for the critical role it plays in our modern world. Moreover, you'll learn about the ever-evolving landscape of cybercrime, the various actors involved, and the motivations driving them. Additionally, you'll be introduced to cryptography, the art of securing communication through encryption, and its role in protecting sensitive data."
      ],
      "metadata": {
        "id": "d1lL4W7-hN9x"
      }
    },
    {
      "cell_type": "markdown",
      "source": [
        "## Cybersecurity Threats and How They Work\n",
        "\n",
        "The digital world is rife with various types of cybersecurity threats, each with unique mechanisms and potential impacts. They can range from harmful software infiltrating your systems, deceptive emails tricking you into revealing sensitive information, to malicious software that locks you out of your data until a ransom is paid. Let's explore these threats in detail to understand how they work.\n",
        "\n",
        "### Malware\n",
        "\n",
        "Malware, short for \"malicious software,\" includes several types of harmful software such as viruses, worms, Trojans, and ransomware. The common thread among these various forms is their intent: to harm your computer, network, or data.\n",
        "\n",
        "-   *Viruses* are a type of malware that attach themselves to clean files and spread throughout a computer system, infecting files with malicious code.\n",
        "\n",
        "-   *Worms* are similar to viruses in their ability to self-replicate, but they typically spread without human intervention or any host program.\n",
        "\n",
        "-   *Trojans* disguise themselves as legitimate software and trick users into downloading and installing them. Once on a user's system, they can execute malicious activities.\n",
        "\n",
        "How does malware typically infiltrate a system? It often arrives through email attachments or software downloads. For example, you might receive an email that seems to come from a known contact with an attachment. When you open the attachment, the malware is installed on your computer.\n",
        "\n",
        "### Phishing\n",
        "\n",
        "Phishing is a form of social engineering attack often used to steal user data, including login credentials and credit card numbers. It occurs when an attacker, posing as a trusted entity, tricks the victim into opening an email, instant message, or text message.   The recipient is then tricked into clicking a malicious link, which can lead to the installation of malware, the freezing of the system as part of a ransomware attack, or the revealing of sensitive information.\n",
        "\n",
        "An example of a phishing attack might be an email that appears to be from your bank. It may look exactly like the type of message your bank would send, complete with official-looking logos and language. The email might warn you of a security alert and ask you to log in to your account via a link in the email. However, if you click on the link, you'll be taken to a fake website designed to look like your bank's website where your information would be collected by the attackers.\n",
        "\n",
        "### Ransomware\n",
        "\n",
        "Ransomware is a type of malicious software designed to block access to a computer system or files until a sum of money (a ransom) is paid. This is often done by encrypting files on the target's system, making them inaccessible, and demanding a ransom to decrypt them.\n",
        "\n",
        "Here's how a typical ransomware attack works: an unsuspecting user clicks on a malicious link, either in an email or on a website, that downloads the ransomware onto their computer. The ransomware then encrypts the user's files. When the user tries to access the files, they find them locked and receive a message demanding payment to unlock the files.\n",
        "\n",
        "An infamous example is the WannaCry attack that struck in May 2017. It took advantage of a vulnerability in many versions of Windows to automatically spread across networks, encrypting files and demanding a ransom in Bitcoin to unlock them. The attack affected over 200,000 computers in 150 countries and caused significant disruption, particularly in the healthcare sector.\n",
        "\n",
        "### SQL Injection\n",
        "\n",
        "SQL (Structured Query Language) injection is a coding technique that attackers use to insert malicious SQL statements into a web application's database query. The attacker can exploit vulnerabilities in a web application's software to manipulate its database, which often contains sensitive user information.\n",
        "\n",
        "Imagine a website with a login form asking for a username and password. The backend code might contain an SQL query that looks like this: SELECT * FROM Users WHERE Username='INPUT_USERNAME' AND Password='INPUT_PASSWORD'.  Now, suppose an attacker enters ' OR '1'='1 in both the username and password fields. The SQL query becomes: SELECT * FROM Users WHERE Username='' OR '1'='1' AND Password='' OR '1'='1'. Since '1'='1' is always true, the result of this query is that the attacker is granted access even without a valid username or password.\n",
        "\n",
        "### Distributed Denial-of-Service (DDoS)\n",
        "\n",
        "In a Distributed Denial-of-Service attack, an attacker overwhelms a network, server, or website with traffic, causing it to be slow for legitimate users or even go offline completely. This is usually done using a botnet, a network of private computers infected with malicious software and controlled as a group without the owners' knowledge.\n",
        "\n",
        "Imagine a highway filled with cars trying to reach a single destination. Now, imagine a malicious actor sends a fleet of trucks to clog up all lanes, blocking any other cars from reaching the destination. In a DDoS attack, the highway is your network, and the trucks are the flood of illegitimate requests preventing the real users (cars) from accessing your service or website (the destination).\n",
        "\n",
        "### Cross-Site Scripting (XSS)\n",
        "\n",
        "Cross-Site Scripting attacks occur when an attacker uses a web application to send malicious code, generally in the form of a browser side script, to a different end user. Flaws that allow these attacks to succeed are quite widespread and occur anywhere a web application uses input from a user within the output it generates without validating or encoding it.\n",
        "\n",
        "For instance, let's say there's a website that allows users to post comments and it doesn't properly validate or escape input. An attacker could post a comment with a script in it that steals users' cookies. When another user views that comment, the script runs in their browser, sending their cookies to the attacker. With those cookies, the attacker could impersonate the user.\n",
        "\n",
        "These attacks illustrate the variety and sophistication of threats that can challenge even well-secured systems. Understanding them is a crucial step in building a robust defense."
      ],
      "metadata": {
        "id": "C4OTSVrJi5KW"
      }
    },
    {
      "cell_type": "markdown",
      "source": [
        "## How Cyberattacks Occur\n",
        "Cyber attacks can occur in various ways, and it's important to understand that they often rely on both technological and human vulnerabilities. Here are some of the most common methods used in cyber attacks:\n",
        "\n",
        "- **Software Vulnerabilities:** Software vulnerabilities are flaws or weaknesses in a software program that hackers can exploit to infiltrate a system. These can exist in the operating system, in an application, or in the network protocols that your computer uses to communicate. For instance, a hacker might find a vulnerability that allows them to overflow a buffer with too much data, causing the system to crash or execute malicious code. These types of vulnerabilities are often targeted by malware like worms and ransomware.\n",
        "\n",
        "- **Social Engineering:** This method targets the human element of cybersecurity. In a social engineering attack, hackers manipulate individuals into divulging sensitive information that can be used to access systems and networks.  Phishing is one of the most common types of social engineering attacks. For example, a hacker might send an email posing as a reputable organization to trick the recipient into providing their login credentials.\n",
        "\n",
        "- **Weak and Stolen Credentials:** Weak or stolen user credentials (usernames and passwords) are another common entry point for hackers. Using various techniques, such as brute force attacks, password cracking algorithms, or information gathered through social engineering, hackers can often gain access to systems. Once inside, they can move laterally through a network, escalate privileges, and access sensitive data.\n",
        "\n",
        "- **Insider Threats:** Sometimes, the threat comes from within the organization. An unhappy employee, a negligent coworker, or a malicious insider can cause substantial damage. They may misuse their access privileges to steal information, sabotage systems, or facilitate access for an external attacker.\n",
        "\n",
        "- **Advanced Persistent Threats (APTs):** In an APT attack, an unauthorized user gains access to a network and stays there undetected for a long period of time. The intention of an APT attack is usually to monitor network activity and steal data rather than to cause damage to the network or organization. APT attacks are complex and require a high degree of protection.\n",
        "\n",
        "Remember, cyber attackers often combine these methods in their attacks. For instance, a phishing email (social engineering) might contain a link to a website that exploits a software vulnerability to install malware on the victim's computer. The complexity and diversity of these attacks underline the importance of comprehensive cybersecurity strategies that address both human and technological factors."
      ],
      "metadata": {
        "id": "AfBaNh8Mj5w-"
      }
    },
    {
      "cell_type": "markdown",
      "source": [
        "## Principles of Secure Coding\n",
        "Secure coding is the practice of writing programs that are resistant to intrusion and misuse. By adhering to secure coding principles, programmers can protect systems from threats and vulnerabilities. Here are several key principles of secure coding:\n",
        "\n",
        "### Input Validation:\n",
        "\n",
        "Input validation is the process of ensuring an application's input data is correct, meaningful, and secure before it's used. This process helps to prevent improperly formed data from entering an information system.  For instance, if a program expects an input to be a number, input validation will check that the user indeed entered a number."
      ],
      "metadata": {
        "id": "BcgRfe-DlD8F"
      }
    },
    {
      "cell_type": "code",
      "source": [
        "def validate(input):\n",
        "    if not input.isdigit():\n",
        "        print(\"Invalid input. Please enter a number.\")\n",
        "    else:\n",
        "        print(\"Valid input.\")\n",
        "\n",
        "my_input = input(\"Please enter a number: \")\n",
        "validate(my_input)\n"
      ],
      "metadata": {
        "colab": {
          "base_uri": "https://localhost:8080/"
        },
        "id": "LTBGxxU6lON9",
        "outputId": "d4a3873b-4fb3-428a-db8a-f4f094c63710"
      },
      "execution_count": null,
      "outputs": [
        {
          "output_type": "stream",
          "name": "stdout",
          "text": [
            "Please enter a number: 32sd\n",
            "Invalid input. Please enter a number.\n"
          ]
        }
      ]
    },
    {
      "cell_type": "markdown",
      "source": [
        "### Least Privilege:\n",
        "\n",
        "The principle of least privilege advises that code should operate with the least amount of privilege necessary to complete its function. This minimizes the permissions an attacker could gain if they manage to exploit the software. For example, a Python script running as a system administrator would have unrestricted access to the system. If compromised, it could wreak havoc. But if the script runs as a lower-privilege user, any exploit's potential for damage is significantly reduced.\n",
        "\n",
        "### Defense in Depth:\n",
        "\n",
        "Defense in depth is a strategy that uses multiple layers of defense to guard against security failures in other areas. Just like a medieval castle doesn't rely on a single wall for protection, software shouldn't depend on a single security measure.  In Python, one layer could be input validation, ensuring only valid data is accepted. Another layer might be using parameterized queries or prepared statements to prevent SQL Injection attacks.\n",
        "\n",
        "### Fail Securely: \n",
        "\n",
        "When a function fails, it should handle the failure in a way that won't allow an exploit. This can involve shutting down the process, logging out the user, or other actions that limit access. For example, let's say we have a Python script that requires a user to enter a password to access a resource. If the password check fails, the process should end immediately and securely, not providing any unintended access or information to the user.\n",
        "\n",
        "```\n",
        "\n",
        "def access_resource(password):\n",
        "    if not check_password(password):\n",
        "        print(\"Access denied.\")\n",
        "        return  # End the process immediately\n",
        "    # Access the resource\n",
        "```\n",
        "\n",
        "### Don't Trust Security Through Obscurity:\n",
        "\n",
        "Security through obscurity is the belief that a system of any sort can be secure so long as nobody outside of its implementation group is allowed to find out anything about its internal mechanisms. Relying on secrecy of design or implementation to provide security is not a good idea. Any system should be secure even if the attacker knows everything about how it works.\n"
      ],
      "metadata": {
        "id": "mD2K4LW0mPjq"
      }
    },
    {
      "cell_type": "markdown",
      "source": [
        "## Excellent Encryption\n",
        "Encryption is one of the fundamental building blocks in the field of cybersecurity. It plays a crucial role in protecting data in transit and at rest, and is used in a multitude of applications, from secure communications and transactions to password protection and identity verification.\n",
        "\n",
        "Technically, **encryption** is a method of converting plain text or data into a code (cipher text) to prevent unauthorized access. The process uses an algorithm (or cipher) and a key to transform the original data into a format that can only be read or processed after it's been decrypted.\n",
        "\n",
        "### Types of Encryption:\n",
        "\n",
        "There are two primary types of encryption: symmetric encryption and asymmetric encryption.\n",
        "\n",
        "-  **Symmetric Encryption:** This is the simplest kind of encryption that involves only one secret key to cipher and decipher information. Symmetric encryption is an old and widely-used technique. The sender and receiver share the same key. If someone can access the key, they can decrypt all the data encrypted with that key. Examples include the Advanced Encryption Standard (AES) and the Data Encryption Standard (DES).\n",
        "\n",
        "- **Asymmetric Encryption:** Also known as public key encryption, it involves two keys: a public key, which is used for encryption, and a private key, used for decryption. The public key is freely available and used to encrypt the message, while the private key is kept secret by the owner and used to decrypt the message. RSA and Elliptic Curve Cryptography (ECC) are examples of asymmetric encryption.\n",
        "\n",
        "### The Role of Encryption in Cybersecurity:\n",
        "\n",
        "Encryption is critical in cybersecurity for several reasons:\n",
        "\n",
        "1.  Data Protection: Encryption protects data that is stored on our devices and servers (data at rest), as well as data that is being transmitted across networks (data in transit). By encrypting this data, it remains confidential even if an unauthorized party manages to access it.\n",
        "\n",
        "2.  Authentication: Digital signatures (a concept built on public key encryption) are used to verify the authenticity of a message or software. A digital signature provides assurance that the message/software has come from a specific sender and has not been tampered with.\n",
        "\n",
        "3.  Integrity: Encryption can ensure that data hasn't been tampered with during transmission. Certain cryptographic algorithms can provide a hash, a unique digital fingerprint of the data. Any changes, no matter how small, result in a drastically different hash.\n",
        "\n",
        "4.  Secure Communications: Encryption allows secure communication channels, like HTTPS and VPNs, that protect data being transmitted over public networks. It enables secure communication between web servers and browsers, and private communication over public networks.\n",
        "\n",
        "5.  Preserving Privacy: With encryption, sensitive information like credit card numbers, personal information, and login credentials can be protected from cybercriminals.\n",
        "\n",
        "While encryption is a powerful tool for protecting your data, it's only one piece of a comprehensive cybersecurity strategy. It's also essential to keep your encryption software up-to-date and protect your encryption keys from unauthorized access."
      ],
      "metadata": {
        "id": "vmkThAUioykH"
      }
    },
    {
      "cell_type": "markdown",
      "source": [
        "## The Caesar Cipher: A Case Study\n",
        "One of the earliest and simplest methods of encryption is the Caesar Cipher, named after Julius Caesar, who reportedly used it for his private correspondence. It's a type of substitution cipher where each letter in the plaintext (the original message) is shifted a certain number of places down or up the alphabet. \n",
        "\n",
        "For example, with a shift of 1, A would be replaced by B, B would become C, and so on. The key in a Caesar cipher is the number of positions each letter has been shifted. In our example, the key is 1.\n",
        "\n",
        "Here's a simple Python function that implements a Caesar cipher:"
      ],
      "metadata": {
        "id": "f5iTuN4uHghe"
      }
    },
    {
      "cell_type": "code",
      "source": [
        "def caesar_encrypt(text, shift):\n",
        "    # Begin with an empty string\n",
        "    encrypted = \"\"\n",
        "    # Loop through each character in the text\n",
        "    for char in text:\n",
        "        # Check if the character is a letter\n",
        "        if char.isalpha():\n",
        "            # Shift the character by the shift amount, ord() returns the unicode code point for the character\n",
        "            shifted = ord(char) + shift\n",
        "            # Check if the character is lowercase\n",
        "            if char.islower():\n",
        "                # Lowercase 'a' is 97, 'z' is 122, so we need to wrap around if the shifted character is outside of that range\n",
        "                encrypted += chr((shifted - ord('a')) % 26 + ord('a'))\n",
        "            else:\n",
        "                # Uppercase 'A' is 65, 'Z' is 90, so we need to wrap around if the shifted character is outside of that range\n",
        "                encrypted += chr((shifted - ord('A')) % 26 + ord('A'))\n",
        "        else:\n",
        "            # If the character is not a letter, just add it to the encrypted string\n",
        "            encrypted += char\n",
        "    return encrypted\n",
        "\n",
        "def caesar_decrypt(text, shift):\n",
        "    return caesar_encrypt(text, -shift)\n",
        "\n",
        "\n",
        "# Example\n",
        "plaintext = input(\"Enter plaintext: \")\n",
        "shift = 3\n",
        "encrypted = caesar_encrypt(plaintext, shift)\n",
        "decrypted = caesar_decrypt(encrypted, shift)\n",
        "\n",
        "print(f\"Encrypted message: {encrypted}\")\n",
        "print(f\"Decrypted message: {decrypted}\")"
      ],
      "metadata": {
        "id": "qprN1jtOox9b",
        "colab": {
          "base_uri": "https://localhost:8080/"
        },
        "outputId": "acbf0168-6e98-4d3e-ff0b-398fa229fe16"
      },
      "execution_count": 7,
      "outputs": [
        {
          "output_type": "stream",
          "name": "stdout",
          "text": [
            "Enter plaintext: Encryption is excellent. Everyone needs privacy!\n",
            "Encrypted message: Hqfubswlrq lv hafhoohqw. Hyhubrqh qhhgv sulydfb!\n",
            "Decrypted message: Encryption is excellent. Everyone needs privacy!\n"
          ]
        }
      ]
    },
    {
      "cell_type": "markdown",
      "source": [
        "### Breaking the Caesar Cipher\n",
        "\n",
        "Despite its historical significance, the Caesar cipher is extremely easy to break, even without knowing the key. One common method is frequency analysis.\n",
        "\n",
        "**Frequency analysis** is based on the fact that in any given language, certain letters and combinations of letters occur with predictable frequency. For example, in English, 'E' is the most common letter, followed by 'T' and 'A'. By analyzing the frequencies of letters in the encrypted message, we can make educated guesses about what each letter represents.\n",
        "\n",
        "Here's a simple Python program that uses frequency analysis to decrypt a message encrypted with a Caesar cipher. In this example, we use only the letter 'e', but this is often enough to break this cipher."
      ],
      "metadata": {
        "id": "BQ4XM8yHIcfa"
      }
    },
    {
      "cell_type": "code",
      "source": [
        "from collections import Counter\n",
        "\n",
        "def frequency_analysis(text):\n",
        "    # Count the frequency of each letter in the text\n",
        "    freq = Counter(char.lower() for char in text if char.isalpha())\n",
        "    # the dictionary contains the frequency of each letter in the text\n",
        "    return dict(freq)\n",
        "\n",
        "def find_most_common(text):\n",
        "    # Find the most common letter in the text\n",
        "    freq = frequency_analysis(text)\n",
        "    # Return the letter with the highest frequency\n",
        "    return max(freq, key=freq.get)\n",
        "\n",
        "def break_caesar_cipher(text):\n",
        "    # Find the most common letter in the text\n",
        "    most_common = find_most_common(text)\n",
        "    # Find the shift needed to decrypt the text\n",
        "    shift = ord(most_common) - ord('e')  # Assuming 'e' is the most common letter in English\n",
        "    # Decrypt the text\n",
        "    return caesar_decrypt(text, shift)\n",
        "\n",
        "# Example\n",
        "encrypted = input(\"What message would you like me to crack? \")\n",
        "decrypted = break_caesar_cipher(encrypted)\n",
        "print(f\"Decrypted message: {decrypted}\")\n"
      ],
      "metadata": {
        "colab": {
          "base_uri": "https://localhost:8080/"
        },
        "id": "sSvT_RcZIipw",
        "outputId": "ead10b0c-eef5-4912-ec40-efdc1f29e00e"
      },
      "execution_count": 8,
      "outputs": [
        {
          "output_type": "stream",
          "name": "stdout",
          "text": [
            "What message would you like me to crack? Hqfubswlrq lv hafhoohqw. Hyhubrqh qhhgv sulydfb!\n",
            "Decrypted message: Encryption is excellent. Everyone needs privacy!\n"
          ]
        }
      ]
    },
    {
      "cell_type": "markdown",
      "source": [
        "### Conquering Caesar: Modern Encryption Methods\n",
        "Modern encryption methods are much stronger than Caesar cipher. However, the technology to \"crack\" such methods is also continually improving, which mean we must continually update encryption.  Some of the most important encryption standards/methods include the following.\n",
        "\n",
        "\n",
        "| Standard | Description | Logic Behind It | Use Cases |\n",
        "| --- | --- | --- | --- |\n",
        "| RSA (Rivest-Shamir-Adleman) | An asymmetric cryptographic algorithm that uses two keys: a public key for encryption, and a private key for decryption. | RSA's security comes from the computational difficulty of factoring large prime numbers. A message encrypted with the public key can only be decrypted with the private key. | Secure emails, SSL/TLS for web traffic, VPNs, digital signatures. |\n",
        "| AES (Advanced Encryption Standard) | A symmetric encryption algorithm that uses the same key for both encryption and decryption. | AES operates on blocks of data and performs multiple rounds of transformation for encryption. It's considered secure due to its large key sizes (128, 192, and 256 bits) and the computational impracticality of trying all possible keys (brute force attack). | Encrypting data at rest (e.g., files, databases), secure file transfer, wireless security (WPA2). |\n",
        "| SHA (Secure Hash Algorithm) | A family of cryptographic hash functions. It takes an input and produces a fixed-size string of bytes, typically a message digest. | The logic is to ensure data integrity. The same input will always produce the same hash output. Any small change in input produces a drastic change in output (avalanche effect). It is computationally infeasible to generate the original input value from its hash, or to find two different inputs that produce the same hash (collision resistance). | Confirming data integrity, storing passwords securely, digital signatures. |\n",
        "| HTTPS (Hyper Text Transfer Protocol Secure) | The secure version of HTTP. Data transferred is encrypted using Transport Layer Security (TLS) or, formerly, its predecessor, Secure Sockets Layer (SSL). | HTTPS uses SSL/TLS protocols to provide secure communication over a network. The SSL/TLS handshake process securely exchanges encryption keys between the client and server, allowing for encrypted communication. | Secure web browsing, e-commerce transactions, internet banking. |\n",
        "| SSL/TLS (Secure Sockets Layer / Transport Layer Security) | Protocols for establishing secure communication between a client and server. | The logic is to provide secure communication over a network. It involves a handshake process where the client and server agree on various parameters to establish a secure connection, and then symmetric encryption is used to secure the communication. | Secure web browsing (HTTPS), email (SMTPS, IMAPS), VPNs. |"
      ],
      "metadata": {
        "id": "FX-PRfZZLlKg"
      }
    },
    {
      "cell_type": "markdown",
      "source": [
        "### Table: Code to Remember (Caesar)\n",
        "\n",
        "| Description | Python Code |\n",
        "| --- | --- |\n",
        "| Declare a `caesar_encrypt` function with parameters `text` and `shift` | `def caesar_encrypt(text, shift):` |\n",
        "| Initialize an empty string `encrypted`, loop through each character in `text` | `encrypted = \"\"; for char in text:` |\n",
        "| If the character is a letter, compute its unicode code point shifted by `shift` | `if char.isalpha():; shifted = ord(char) + shift` |\n",
        "| If the character is lowercase, shift within lowercase ASCII range ('a' to 'z') and add to `encrypted` | `if char.islower():; encrypted += chr((shifted - ord('a')) % 26 + ord('a'))` |\n",
        "| If the character is uppercase, shift within uppercase ASCII range ('A' to 'Z') and add to `encrypted` | `if char.isupper():; encrypted += chr((shifted - ord('A')) % 26 + ord('A'))` |\n",
        "| Declare `frequency_analysis` function with parameter `text`, return a dictionary of frequency counts of each letter in `text` | `def frequency_analysis(text):; freq = Counter(char.lower() for char in text if char.isalpha()); return dict(freq)` |\n",
        "| Declare `break_caesar_cipher` function with parameter `text`, find most common letter in `text`, determine shift, and decrypt `text` | `def break_caesar_cipher(text):; most_common = find_most_common(text); shift = ord(most_common) - ord('e'); return caesar_decrypt(text, shift)` |"
      ],
      "metadata": {
        "id": "ERDsEVwuWOwr"
      }
    },
    {
      "cell_type": "markdown",
      "source": [
        "### Discussion Questions: Caesar Cipher\n",
        "1. Role of Encryption: Discuss why Julius Caesar might have chosen to use a cipher for his personal correspondence. In what situations today might you want to use encryption?\n",
        "\n",
        "2. Understanding the Code: Walk through the provided Python functions caesar_encrypt and caesar_decrypt. How do they implement the Caesar cipher, and how do they handle different cases such as uppercase and lowercase letters and non-letter characters?\n",
        "\n",
        "3. Weaknesses of the Caesar Cipher: Why is the Caesar cipher considered a weak form of encryption by today's standards? Can you think of any ways to make it more secure?\n",
        "\n",
        "4. Frequency Analysis: The case study shows how to use frequency analysis to crack a Caesar cipher. Why does this method work? What characteristics of the English language does it take advantage of? Could this method work for other languages or ciphers?\n",
        "\n",
        "5. Ethical Considerations: The Caesar cipher can be broken with frequency analysis. What are the ethical considerations when it comes to breaking ciphers or cracking codes? When, if ever, might it be justified?"
      ],
      "metadata": {
        "id": "qPqFrDITL9oh"
      }
    },
    {
      "cell_type": "markdown",
      "source": [
        "## Answers: Caesar Cipher\n",
        "1.\n",
        "\n",
        "2.\n",
        "\n",
        "3.\n",
        "\n",
        "4.\n",
        "\n",
        "5."
      ],
      "metadata": {
        "id": "Uh8UqQD8S8zk"
      }
    },
    {
      "cell_type": "markdown",
      "source": [
        "## Securing Networks\n",
        "To understand how to protect a network, we first need to revisit the structure of a network itself, often conceptualized as the four-layer TCP/IP network model:\n",
        "\n",
        "1.  Network Interface Layer: This is the lowest layer, and it's responsible for transferring data between a device and the network. It includes protocols for interacting with the physical network, such as Ethernet for wired connections or Wi-Fi for wireless ones.\n",
        "\n",
        "2.  Internet Layer: This layer handles routing data across networks using the Internet Protocol (IP). Each device on a network has an IP address, and this layer helps get data from the source IP address to the destination IP address.\n",
        "\n",
        "3.  Transport Layer: This layer provides reliable data transfer between devices. It uses protocols like TCP (Transmission Control Protocol) or UDP (User Datagram Protocol), each with different trade-offs between reliability and efficiency.\n",
        "\n",
        "4.  Application Layer: The highest layer is where actual user applications (like your web browser or email client) operate. Protocols at this layer include HTTP for web browsing and SMTP for email.\n",
        "\n",
        "Data is sent across the network in units called packets, which include both the data being sent and information about where it's going and how it should get there.\n",
        "\n",
        "Now, let's look at how each of these layers can be protected from cyber threats.\n",
        "\n",
        "1. **Firewalls** (Network Interface Layer):  A firewall is like a security guard, checking the credentials (in this case, IP addresses and ports) of network traffic. It operates mainly at the Network Interface Layer. It filters traffic based on a set of pre-established rules. For example, it might block traffic from certain IP addresses known to be associated with malicious activity, or it could block traffic to certain ports that don't need to be open.\n",
        "\n",
        "    Consider a small business with a network of computers. They might set up a firewall that only allows web traffic (which generally uses ports 80 for HTTP and 443 for HTTPS) and blocks all other ports, significantly reducing the opportunities for an attacker to get in.\n",
        "\n",
        "2. **Intrusion Detection Systems** (IDS) (Transport Layer):  An Intrusion Detection System (IDS) monitors network traffic for suspicious activity. Operating at the Transport Layer, it analyzes patterns within individual communication sessions, which are managed by protocols such as TCP or UDP.\n",
        "\n",
        "    For instance, suppose a company uses an IDS, and an attacker tries to flood their server with a large amount of traffic in a short time (a type of attack known as a Denial of Service attack). The IDS could detect the anomalous spike in traffic and alert the network administrators, who could then take action to mitigate the attack.\n",
        "\n",
        "3. **Network Segmentation** (Internet Layer):  Network segmentation, operating at the Internet Layer, involves dividing a larger network into smaller, isolated networks or segments. By doing so, even if an attacker gains access to one part of the network, they won't have access to the whole thing.\n",
        "\n",
        "    Imagine a university network, which might include segments for the administration, the faculty, and the students. If an attacker were able to infiltrate the student network, network segmentation would help ensure they couldn't reach sensitive data in the administration segment.\n",
        "\n",
        "4. **Virtual Private Networks (VPN)** (Application Layer):  A Virtual Private Network (VPN) creates a secure connection between a user and the network. It works at the Application Layer by encrypting data before it is sent across the network. This means that even if an attacker can intercept the data (often referred to as a \"man-in-the-middle\" attack), they won't be able to read it.\n",
        "\n",
        "    Consider an employee who needs to access company files while traveling. Using a public Wi-Fi network could expose their data to potential eavesdroppers. However, if they connect to the company's network through a VPN, their data will be encrypted before it leaves their laptop, preventing anyone on the public Wi-Fi network from being able to read it.\n",
        "\n",
        "By understanding and implementing these different types of network protections at the appropriate levels of the TCP/IP model, we can significantly improve the security of our networks against cyber threats. It's important to remember that no single measure can fully secure a network; effective cybersecurity requires a multi-layered approach, where each protection covers potential gaps left by the others."
      ],
      "metadata": {
        "id": "5kb4fwBvQAPN"
      }
    },
    {
      "cell_type": "markdown",
      "source": [
        "## Cybersecurity Frameworks\n",
        "\n",
        "A cybersecurity **framework** is a series of guidelines for how an organization should manage and mitigate its cybersecurity risk. It provides a structured process for identifying potential threats, protecting against them, detecting when an incident occurs, responding effectively, and recovering afterward. A well-implemented cybersecurity framework can help an organization protect its sensitive data, maintain customer trust, comply with legal and regulatory requirements, and continue operations even under adverse conditions.\n",
        "\n",
        "One important fraemwork is the **NIST Cybersecurity Framework**. This  set of guidelines is maintained by the National Institute of Standards and Technology, a US government agency. The framework was created to help organizations manage their cybersecurity risks. You can think of it like a roadmap that leads an organization from a state of being vulnerable to cyber threats to a place of resilience and readiness.\n",
        "\n",
        "The NIST Framework has five core functions: Identify, Protect, Detect, Respond, and Recover. Let's take a closer look at each function with some real-world examples:\n",
        "\n",
        "1. **Identify:** This is the starting point. The goal here is to understand what an organization needs to protect. For instance, imagine a company that develops video games. They might identify their game source code, player data, and internal communication systems as assets that need protection. They'll also look at potential risks, like hackers trying to steal their code or disrupt their games.\n",
        "\n",
        "2. **Protect:** Once the organization knows what it needs to protect, the next step is to put safeguards in place. Going back to our game company, they might protect their source code by storing it on secure servers, limiting who has access to it, and using encryption to keep it safe. They could protect player data by implementing strong authentication measures and encrypting sensitive information like passwords.\n",
        "\n",
        "3. **Detect:** Even with the best protections in place, there's always a chance that a cyber attack could happen. That's why the organization needs ways to detect potential threats. Our game company might use systems that monitor network traffic for signs of suspicious activity, like a sudden surge in traffic (which could indicate a denial-of-service attack) or repeated failed login attempts (which could suggest someone is trying to guess a password).\n",
        "\n",
        "4. **Respond:** If a cyber attack does happen, the organization needs to be ready to respond effectively. The response will depend on the nature of the attack. If the game company detects that someone is trying to break into a server, they might respond by blocking the IP address that the attempts are coming from. If they find out that some player data has been leaked, they might respond by notifying the affected players, resetting passwords, and investigating how the leak happened.\n",
        "\n",
        "5. **Recover:** After a cyber attack, the final step is recovery. The organization needs to restore any services that were disrupted, fix any vulnerabilities that were exploited, and take steps to prevent similar attacks in the future. For our game company, recovery might involve repairing and strengthening their server defenses, assessing any damage to their game code or player trust, and learning from the experience to improve their future cybersecurity practices.\n",
        "\n",
        "By following the NIST Cybersecurity Framework, organizations have a comprehensive strategy to manage their cybersecurity risk. It provides a structured, systematic approach that helps them anticipate, prevent, and respond to cyber threats."
      ],
      "metadata": {
        "id": "W4YmbKHJSClP"
      }
    },
    {
      "cell_type": "markdown",
      "source": [
        "Just as we need good hygiene habits to keep our bodies healthy, we need good cybersecurity hygiene to keep our digital information safe. Here are some key habits everyone should practice to protect their personal cybersecurity:\n",
        "\n",
        "1. Strong Passwords: This is one of the basics of good cybersecurity hygiene. A strong password should be unique and complex. It should be at least 12 characters long and include a mix of uppercase and lowercase letters, numbers, and special characters. For instance, instead of \"mydogfluffy,\" which is easily guessable, you could use something like \"mydogFluffylikestoeatpeanutbutterat5AM!\" It's a good practice to avoid using obvious personal information, like your name, birthday, or common words.\n",
        "\n",
        "2. Password Management: Remembering dozens of complex passwords can be a challenge. That's why many people use a password manager. This is a secure application that stores all your passwords in an encrypted format. It can also generate random, strong passwords for you. Most importantly, you only need to remember one strong password to unlock your password manager.\n",
        "\n",
        "3. Two-Factor Authentication (2FA): This is an extra layer of security used when logging into accounts. In addition to your password (something you know), it involves a second factor, often something you have (like a code sent to your phone) or something you are (like a fingerprint). This way, even if someone else gets your password, they can't access your account without the second factor.\n",
        "\n",
        "4. Recognizing Phishing Attempts: Phishing is a common type of cyber attack where hackers try to trick you into revealing sensitive information, like your password or credit card number. They often do this by pretending to be a trusted organization, like your bank or email provider. Always be suspicious of unexpected emails or messages that ask for your personal information. Check the email address of the sender and look for signs of fraud, like poor spelling and grammar or a generic greeting.\n",
        "\n",
        "5. Safe Web Browsing: Be careful about the websites you visit and the links you click on. Always look for \"https\" in the URL, which means the site encrypts your information. Be wary of downloading anything from an untrusted source, as it could contain malware. Also, consider using a virtual private network (VPN) when using public Wi-Fi to encrypt your online activity and protect your data from potential eavesdroppers.\n",
        "\n",
        "By following these practices, you can greatly reduce your risk of falling victim to cyber threats. Just like washing your hands or brushing your teeth, these should be part of your daily routine. Good cybersecurity hygiene is a crucial skill in the digital age, helping to protect your personal information and digital assets."
      ],
      "metadata": {
        "id": "yQjuP-GpUDTs"
      }
    },
    {
      "cell_type": "markdown",
      "source": [
        "## Case Study: 10 Events that Made Cybersecurity\n",
        "Cybersecurity is a rapidly evolving field, with its progression largely shaped by landmark events that punctuated the timeline of computer and internet technology. To truly understand the development and modern landscape of cybersecurity, one must revisit some of the most significant incidents that have occurred in recent history. Each event, like a flare in the dark, illuminating a new facet of the field, challenged established security practices and spurred the development of improved technologies, methodologies, and policies to combat emerging threats.\n",
        "\n",
        "Let's journey back through time, exploring the events that have indelibly shaped modern cybersecurity, from the emergence of the first computer viruses to the dawn of AI-powered cyber threats.\n",
        "\n",
        "### Brain (1986)\n",
        "\n",
        "Our journey begins with the \"Brain\" boot sector virus, considered the first PC virus in the wild. Created by two Pakistani brothers, Basit and Amjad Farooq Alvi, Brain was not intended to be malicious. Rather, it was designed as a copyright enforcement mechanism for their medical software. The virus, which spread through floppy disks, replaced the boot sector of the disk with a copy of the virus and flagged the actual boot sector as bad.\n",
        "\n",
        "While Brain was relatively benign, it opened the Pandora's box of what was possible with self-replicating code. This necessitated the development of the first antivirus software, and security experts began to consider the potential ramifications of malicious self-replicating software.\n",
        "\n",
        "### Morris Worm (1988)\n",
        "\n",
        "Our next stop is the infamous Morris Worm, widely regarded as the first worm to spread across the internet. Created by Robert Tappan Morris, a graduate student at Cornell University, the worm was intended to measure the size of the internet. However, due to a coding error, it replicated excessively, causing significant slowdowns and crashes, thereby affecting approximately 6,000 computers, which was a substantial portion of the internet at the time.\n",
        "\n",
        "The Morris Worm was a wakeup call for the cybersecurity world. It demonstrated the devastating potential of network-based attacks and the vulnerability of the internet. This event led to the formation of the Computer Emergency Response Team (CERT) by DARPA, marking the birth of organized, coordinated responses to cybersecurity incidents.\n",
        "\n",
        "### ILOVEYOU (2000)\n",
        "\n",
        "At the turn of the millennium, a destructive worm disguised as a love confession wreaked havoc on computers worldwide. The ILOVEYOU worm, created by two Filipino programmers, spread via email with the subject line \"ILOVEYOU\" and an attachment \"LOVE-LETTER-FOR-YOU.txt.vbs\". The worm overwrote image files and sent copies of itself to all of the infected user's email contacts.\n",
        "\n",
        "This attack exploited both technological and human vulnerabilities, demonstrating the effectiveness of social engineering. It exposed weaknesses in email systems and the susceptibility of users to phishing attacks. The ILOVEYOU worm led to a heightened awareness of email security, inspiring improvements in email clients and servers to prevent such large-scale infections in the future, and a greater emphasis on user education to recognize and avoid such threats."
      ],
      "metadata": {
        "id": "Coz5qNVCydgM"
      }
    },
    {
      "cell_type": "markdown",
      "source": [
        "### MyDoom (2004)\n",
        "\n",
        "As we journey deeper into the 2000s, we encounter MyDoom. This infamous worm still holds the dubious honor of being one of the fastest-spreading email-based worms in history. MyDoom spread via email, using an infected user's contact list to propagate itself. But unlike previous worms, it also had a secondary payload: it installed a backdoor into the victim's system, which could be exploited later for remote control of the machine.\n",
        "\n",
        "MyDoom demonstrated the concept of multi-staged attacks: an initial breach, followed by the installation of a secondary payload that could be exploited at will. This marked a significant shift in the sophistication and potential harm of malware, prompting the cybersecurity industry to develop more advanced detection and remediation strategies, and pay greater attention to the removal of threats, not just their detection.\n",
        "\n",
        "### Stuxnet (2010)\n",
        "\n",
        "Stuxnet, a malicious computer worm discovered in 2010, marked a new era in cyber warfare. Unlike previous malware that primarily targeted consumer systems for monetary gain, Stuxnet was a state-sponsored weapon specifically designed to sabotage Iran's nuclear program. It achieved this by targeting programmable logic controllers (PLCs) used in industrial control systems. Stuxnet wasn't merely an infection; it was a precision-guided cyber-missile.\n",
        "\n",
        "The implications of Stuxnet were far-reaching. It revealed the vulnerability of critical infrastructure to cyberattacks and highlighted the potential for cyber warfare between nations. This led to a shift in global cybersecurity strategies, with increased focus on securing critical infrastructure and a realization of the necessity for international cooperation in cybersecurity."
      ],
      "metadata": {
        "id": "5oARumeDy27N"
      }
    },
    {
      "cell_type": "markdown",
      "source": [
        "### Ukraine Power Grid Attack (2015)\n",
        "\n",
        "The 2015 Ukraine power grid attack represents one of the first confirmed cases of a cyber attack leading to a significant disruption of critical infrastructure. On December 23, 2015, parts of Ukraine experienced a power outage after a cyber attack successfully compromised information systems of three energy distribution companies. Approximately 230,000 people were left without electricity for several hours.\n",
        "\n",
        "The attackers used a spear-phishing email to gain access to the power companies' networks. After exploring the networks and learning how to manually control the breakers, they then launched a synchronized attack, opening circuit breakers at 30 substations and causing a widespread power outage.\n",
        "\n",
        "Simultaneously, the attackers also conducted a telephone denial-of-service attack against the power companies' call centers, flooding them with fake calls to prevent customers from reporting the outage. The attackers had also made use of the KillDisk malware to wipe critical systems and delay the recovery process.\n",
        "\n",
        "The Ukraine power grid attack was a wakeup call to the world on the vulnerability of critical infrastructure to cyber attacks. It showed how a well-coordinated cyber attack could lead to physical consequences, disrupting essential services and causing significant economic and social impact. The event led to an increased focus on securing industrial control systems and critical infrastructure against cyber threats, which is still a significant concern today."
      ],
      "metadata": {
        "id": "g-jYqxnfzLUf"
      }
    },
    {
      "cell_type": "markdown",
      "source": [
        "### WannaCry (2017)\n",
        "\n",
        "Our next stop, the WannaCry ransomware attack of 2017, stands as one of the most widespread and damaging cyberattacks in history. WannaCry utilized a vulnerability in Microsoft's Server Message Block (SMB) protocol, which was first exposed by the leaked EternalBlue exploit allegedly developed by the U.S. National Security Agency (NSA).\n",
        "\n",
        "The WannaCry attack caused chaos globally, affecting hundreds of thousands of computers across various sectors, including healthcare, where the UK’s National Health Service was severely impacted. This ransomware attack underscored the global interconnectivity of cybersecurity, the risk of stockpiling cyber weapons, and the importance of regular system updates. It led to an increased emphasis on patch management within IT security practices and sparked ongoing discussions about the role of government agencies in cybersecurity."
      ],
      "metadata": {
        "id": "umt-2rjXzWck"
      }
    },
    {
      "cell_type": "markdown",
      "source": [
        "### Equifax Breach (2017)\n",
        "\n",
        "The Equifax breach is a seminal moment in the history of cybersecurity, highlighting the severe consequences of inadequate security measures in an era of big data. Equifax, one of the three largest consumer credit reporting agencies in the United States, announced in 2017 that a massive breach had exposed the personal data, including Social Security numbers and driver's license numbers, of nearly 147 million people.\n",
        "\n",
        "The breach was the result of the company's failure to patch a known vulnerability in the Apache Struts web-application software, a popular framework for creating Java-based web applications. Attackers exploited the vulnerability to gain access to Equifax's network, where they roamed undetected for a staggering 76 days.\n",
        "\n",
        "The consequences of the Equifax breach were vast and far-reaching. Besides the immediate impact on the individuals whose data was exposed, the breach led to regulatory fines, lawsuits, a Congressional investigation, and the departure of several high-ranking executives within Equifax, including the CEO.\n",
        "\n",
        "More importantly, the Equifax breach served as a wake-up call to corporations worldwide, emphasizing the need for robust cybersecurity practices, particularly for companies handling sensitive personal data. It underscored the importance of timely patch management, proactive security measures, and the need for greater regulatory oversight in data security and privacy.\n",
        "\n",
        "In a broader sense, the Equifax breach pushed the discussion of personal data security into the public spotlight. It has led to increased calls for improved data privacy laws and practices, and it has contributed to growing public concern about the security and privacy of personal data in the digital age. The role of corporations in safeguarding this data, especially in sectors such as finance and healthcare where sensitive information is often stored, has been a topic of increasing importance since the breach."
      ],
      "metadata": {
        "id": "CHfO_qhUzYkJ"
      }
    },
    {
      "cell_type": "markdown",
      "source": [
        "### Pegasus Spyware (2016 - Present)\n",
        "\n",
        "The Pegasus spyware, developed by the Israeli cybersecurity firm NSO Group, represents a new generation of threats in the cybersecurity landscape. First discovered in 2016, Pegasus is a highly sophisticated piece of spyware that can be covertly installed on a victim's mobile phone, turning it into a surveillance device. The software is capable of remotely activating a phone's camera and microphone, reading emails and text messages, and tracking the user's location.\n",
        "\n",
        "What sets Pegasus apart is its unprecedented level of sophistication and its intended use. While malware is often associated with cybercriminals seeking financial gain, Pegasus is marketed to governments and law enforcement agencies as a tool for tracking criminals and terrorists. However, investigations have revealed that the spyware has been used to target journalists, human rights activists, and political dissidents.\n",
        "\n",
        "The emergence of Pegasus highlights the increasing complexity and sophistication of cybersecurity threats, particularly those aimed at individuals. The tools and tactics previously associated with nation-state actors are now being deployed in the private sector, making the lines between cybercrime, cyber warfare, and cyber surveillance increasingly blurry."
      ],
      "metadata": {
        "id": "xkNAG3z5zety"
      }
    },
    {
      "cell_type": "markdown",
      "source": [
        "### AI-generated propaganda (2020-present)\n",
        "\n",
        "As we approach the present, we encounter a new kind of cybersecurity threat: the use of artificial intelligence (AI) in cyberattacks. While AI has a wide array of applications in cybersecurity, largely positive, it has also been harnessed for malicious purposes. One such instance is the creation and dissemination of AI-generated propaganda by nation-states, particularly Russia and China.\n",
        "\n",
        "These AI systems can generate realistic, persuasive content and disinformation campaigns, leading to widespread social unrest and divisiveness. This marks an evolution of cyber threats from the digital realm into influencing real-world events and people's perceptions. It has led to a renewed focus on the role of technology companies in content moderation, and the development of AI tools and techniques to detect and combat such AI-generated propaganda."
      ],
      "metadata": {
        "id": "zy-v_IlXzsgs"
      }
    },
    {
      "cell_type": "markdown",
      "source": [
        "## Discussion Questions\n",
        "1. What similarities and differences can you observe in the nature of cyber threats from the 1980s to the present?\n",
        "\n",
        "2. Discuss the evolution of malware from simple computer viruses like Brain to sophisticated spyware like Pegasus. How has their purpose and impact changed over time?\n",
        "\n",
        "3. In the case of the Stuxnet and Ukraine Power Grid attacks, physical systems were targeted. Discuss the risks that cyber threats pose to critical infrastructure and physical systems.\n",
        "\n",
        "4. Discuss the role of Artificial Intelligence (AI) in cybersecurity, both as a tool for attackers and for defense. How does the possibility of AI-generated propaganda event highlight new challenges in this domain?\n",
        "\n",
        "5. The Pegasus spyware represents a shift in the targeted use of malware, and has been used to target individual journalists, political dissedents, and ohters. Discuss the ethical implications of such targeted cyber attacks."
      ],
      "metadata": {
        "id": "4P4hb7_E0LBT"
      }
    },
    {
      "cell_type": "code",
      "source": [],
      "metadata": {
        "id": "PrnuzcawMGmc"
      },
      "execution_count": null,
      "outputs": []
    },
    {
      "cell_type": "markdown",
      "source": [
        "## Glossary\n",
        "\n",
        "| Term | Definition |\n",
        "| --- | --- |\n",
        "| Cybersecurity | The practice of protecting computers, servers, mobile devices, electronic systems, networks, and data from digital attacks, damage, or unauthorized access. |\n",
        "| CIA Triad | A model designed to guide policies for information security within an organization. Stands for Confidentiality, Integrity, and Availability. |\n",
        "| Virus | A type of malicious software program (\"malware\") that, when executed, replicates by inserting copies of itself (possibly modified) into other computer programs, data files, or the boot sector of the hard drive. |\n",
        "| Worm | A standalone malware that replicates itself in order to spread to other computers. It usually does not alter files but resides in active memory and duplicates itself. |\n",
        "| Trojan | Malware that appears to perform a desirable function but in fact enables unauthorized access to the user's computer system. |\n",
        "| Phishing | The fraudulent attempt to obtain sensitive information such as usernames, passwords, and credit card details by disguising oneself as a trustworthy entity in an electronic communication, typically via email scams. |\n",
        "| Ransomware | A type of malicious software designed to block access to a computer system until a sum of money is paid. |\n",
        "| DoS | Short for Denial of Service, it refers to a type of cyber attack that aims to make a machine or network resource unavailable by overwhelming it with traffic from multiple sources. |\n",
        "| Least Privilege | The principle of allowing users or programs the minimal levels of access necessary to complete their functions.  |\n",
        "| Defense in Depth | A strategy involving multiple layers of defense to resist attacks on the system's security. This can include physical, technical, and administrative controls. |\n",
        "| Fail Securely | The design principle where, in case of system failure, the system prevents access rather than permitting access.  |\n",
        "| Security Through Obscurity | A controversial principle that proposes that a system or data can be secure so long as nobody outside of its implementation group is allowed to find out anything about its internal mechanisms.  |\n",
        "| Symmetric Encryption | A type of encryption where the same key is used for encryption and decryption. |\n",
        "| Asymmetric Encryption | An encryption system in which two mathematically related, but not identical, keys are used - a public key to encrypt the message and a corresponding private key to decrypt it. |\n",
        "| Caesar Cipher | A substitution cipher that shifts letters in the plaintext a fixed number of positions down or up the alphabet. Named after Julius Caesar. |\n",
        "| Frequency Analysis | Cryptanalysis technique studying the frequency of letters in a ciphertext. Often used to break simple substitution ciphers like the Caesar Cipher. |\n",
        "| Firewall | A network security system controlling incoming and outgoing network traffic based on predetermined security rules, creating a barrier between a trusted internal network and untrusted external network. |\n",
        "| VPN | Virtual Private Network, extends a private network across a public network, allowing secure data transfer as if the devices were directly connected to the private network. |\n",
        "| NIST Cybersecurity Framework | A set of standards, guidelines, and best practices for managing cybersecurity risks. (1) Identify, (2) Protect, (3) Detect, (4) Respond, (5) Recover |\n",
        "| Two-Factor Authentication | An additional layer of security requiring a username, password, and a piece of information unique to the user, providing an extra level of verification. |\n",
        "| Brain Virus | The first computer virus for MS-DOS, a boot sector virus released in 1986. |\n",
        "| Morris Worm | One of the first computer worms distributed via the Internet, created by Robert Tappan Morris in 1988, causing significant damage and monetary loss. |\n",
        "| ILOVEYOU | A computer worm that attacked millions of Windows computers in May 2000 through an email message attachment labeled \"ILOVEYOU\". |\n",
        "| myDoom | A fast-spreading email worm affecting Windows, first sighted in January 2004. |\n",
        "| Stuxnet | A malicious computer worm uncovered in 2010, targeting SCADA systems, notably causing substantial damage to Iran's nuclear program. |\n",
        "| WannCry | A ransomware attack in May 2017 that encrypted data on computers running the Microsoft Windows OS, demanding ransom payments in Bitcoin. It affected over 200,000 computers in 150 countries. |\n",
        "| Equifax breach | A cyber-security breach at the American credit bureau Equifax in 2017, leading to the theft of personal data for approximately 147 million people. |\n",
        "| Pegasus | Spyware installable on certain iOS and Android versions, discovered in 2016. Capable of reading text messages, tracking calls, collecting passwords, tracking location, and accessing the target device's microphone and camera. |"
      ],
      "metadata": {
        "id": "Ffdc7xncOnRi"
      }
    },
    {
      "cell_type": "code",
      "source": [],
      "metadata": {
        "id": "hVA5Qt29OqIB"
      },
      "execution_count": null,
      "outputs": []
    }
  ]
}
