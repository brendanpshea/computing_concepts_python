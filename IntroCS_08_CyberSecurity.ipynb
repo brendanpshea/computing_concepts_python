{
  "nbformat": 4,
  "nbformat_minor": 0,
  "metadata": {
    "colab": {
      "provenance": [],
      "authorship_tag": "ABX9TyM/HgSOSPHDbVcoMvztwaXm",
      "include_colab_link": true
    },
    "kernelspec": {
      "name": "python3",
      "display_name": "Python 3"
    },
    "language_info": {
      "name": "python"
    }
  },
  "cells": [
    {
      "cell_type": "markdown",
      "metadata": {
        "id": "view-in-github",
        "colab_type": "text"
      },
      "source": [
        "<a href=\"https://colab.research.google.com/github/brendanpshea/computing_concepts_python/blob/main/IntroCS_08_CyberSecurity.ipynb\" target=\"_parent\"><img src=\"https://colab.research.google.com/assets/colab-badge.svg\" alt=\"Open In Colab\"/></a>"
      ]
    },
    {
      "cell_type": "markdown",
      "source": [
        "# Cybersecurity\n",
        "### Brendan Shea, PhD (Brendan.Shea@rctc.edu)\n",
        "\n",
        "\n",
        "Welcome to the exciting world of cybersecurity! In today's digital age, cybersecurity is more important than ever, as our daily lives become increasingly interconnected and reliant on technology. From online banking to social media, we rely on the internet for a multitude of tasks, making the need to protect our digital assets and personal information a top priority. In this lsson, we will delve into the fascinating world of cybersecurity, providing an engaging mix of concepts, real-world examples, and simple Python examples where applicable.\n",
        "\n",
        "#### What is Cybersecurity?\n",
        "\n",
        "At its core, cybersecurity is the practice of protecting computer systems, networks, and data from theft, damage, or unauthorized access. It encompasses a range of technologies, processes, and practices designed to safeguard digital information and infrastructure from cyber threats. Understanding the basic concepts of cybersecurity, such as Confidentiality, Integrity, and Availability (often referred to as the **CIA triad**), is essential to building a strong foundation in the field.\n",
        "\n",
        "-   **Confidentiality** ensures that sensitive information is only accessible to authorized individuals.\n",
        "-   **Integrity** guarantees the accuracy and reliability of data by preventing unauthorized modifications.\n",
        "-   **Availability** ensures that information and systems are accessible to authorized users when needed.\n",
        "\n",
        "By exploring the intricacies of cybersecurity, you'll gain a newfound appreciation for the critical role it plays in our modern world. Moreover, you'll learn about the ever-evolving landscape of cybercrime, the various actors involved, and the motivations driving them. Additionally, you'll be introduced to cryptography, the art of securing communication through encryption, and its role in protecting sensitive data."
      ],
      "metadata": {
        "id": "d1lL4W7-hN9x"
      }
    },
    {
      "cell_type": "markdown",
      "source": [
        "## Cybersecurity Threats and How They Work\n",
        "\n",
        "The digital world is rife with various types of cybersecurity threats, each with unique mechanisms and potential impacts. They can range from harmful software infiltrating your systems, deceptive emails tricking you into revealing sensitive information, to malicious software that locks you out of your data until a ransom is paid. Let's explore these threats in detail to understand how they work.\n",
        "\n",
        "### Malware\n",
        "\n",
        "Malware, short for \"malicious software,\" includes several types of harmful software such as viruses, worms, Trojans, and ransomware. The common thread among these various forms is their intent: to harm your computer, network, or data.\n",
        "\n",
        "-   *Viruses* are a type of malware that attach themselves to clean files and spread throughout a computer system, infecting files with malicious code.\n",
        "\n",
        "-   *Worms* are similar to viruses in their ability to self-replicate, but they typically spread without human intervention or any host program.\n",
        "\n",
        "-   *Trojans* disguise themselves as legitimate software and trick users into downloading and installing them. Once on a user's system, they can execute malicious activities.\n",
        "\n",
        "How does malware typically infiltrate a system? It often arrives through email attachments or software downloads. For example, you might receive an email that seems to come from a known contact with an attachment. When you open the attachment, the malware is installed on your computer.\n",
        "\n",
        "### Phishing\n",
        "\n",
        "Phishing is a form of social engineering attack often used to steal user data, including login credentials and credit card numbers. It occurs when an attacker, posing as a trusted entity, tricks the victim into opening an email, instant message, or text message.   The recipient is then tricked into clicking a malicious link, which can lead to the installation of malware, the freezing of the system as part of a ransomware attack, or the revealing of sensitive information.\n",
        "\n",
        "An example of a phishing attack might be an email that appears to be from your bank. It may look exactly like the type of message your bank would send, complete with official-looking logos and language. The email might warn you of a security alert and ask you to log in to your account via a link in the email. However, if you click on the link, you'll be taken to a fake website designed to look like your bank's website where your information would be collected by the attackers.\n",
        "\n",
        "### Ransomware\n",
        "\n",
        "Ransomware is a type of malicious software designed to block access to a computer system or files until a sum of money (a ransom) is paid. This is often done by encrypting files on the target's system, making them inaccessible, and demanding a ransom to decrypt them.\n",
        "\n",
        "Here's how a typical ransomware attack works: an unsuspecting user clicks on a malicious link, either in an email or on a website, that downloads the ransomware onto their computer. The ransomware then encrypts the user's files. When the user tries to access the files, they find them locked and receive a message demanding payment to unlock the files.\n",
        "\n",
        "An infamous example is the WannaCry attack that struck in May 2017. It took advantage of a vulnerability in many versions of Windows to automatically spread across networks, encrypting files and demanding a ransom in Bitcoin to unlock them. The attack affected over 200,000 computers in 150 countries and caused significant disruption, particularly in the healthcare sector."
      ],
      "metadata": {
        "id": "C4OTSVrJi5KW"
      }
    },
    {
      "cell_type": "markdown",
      "source": [
        "\n",
        "### SQL Injection\n",
        "\n",
        "SQL (Structured Query Language) injection is a coding technique that attackers use to insert malicious SQL statements into a web application's database query. The attacker can exploit vulnerabilities in a web application's software to manipulate its database, which often contains sensitive user information.\n",
        "\n",
        "Imagine a website with a login form asking for a username and password. The backend code might contain an SQL query that looks like this:\n",
        "```sql\n",
        "SELECT *\n",
        "  FROM Users\n",
        "  WHERE Username='INPUT_USERNAME'\n",
        "    AND Password='INPUT_PASSWORD'.\n",
        "```\n",
        "Now, suppose an attacker enters\n",
        "```\n",
        "  ' OR '1'='1\n",
        "```\n",
        "  \n",
        "in both the username and password fields. The SQL query becomes:\n",
        "\n",
        "```sql\n",
        "SELECT *\n",
        "  FROM Users\n",
        "  WHERE Username='' OR '1'='1'\n",
        "    AND Password='' OR '1'='1'.\n",
        " ```\n",
        "  \n",
        "Since '1'='1' is always true, the result of this query is that the attacker is granted access even without a valid username or password.\n",
        "\n",
        "### Distributed Denial-of-Service (DDoS)\n",
        "\n",
        "In a Distributed Denial-of-Service attack, an attacker overwhelms a network, server, or website with traffic, causing it to be slow for legitimate users or even go offline completely. This is usually done using a botnet, a network of private computers infected with malicious software and controlled as a group without the owners' knowledge.\n",
        "\n",
        "Imagine a highway filled with cars trying to reach a single destination. Now, imagine a malicious actor sends a fleet of trucks to clog up all lanes, blocking any other cars from reaching the destination. In a DDoS attack, the highway is your network, and the trucks are the flood of illegitimate requests preventing the real users (cars) from accessing your service or website (the destination).\n",
        "\n",
        "### Cross-Site Scripting (XSS)\n",
        "\n",
        "Cross-Site Scripting attacks occur when an attacker uses a web application to send malicious code, generally in the form of a browser side script, to a different end user. Flaws that allow these attacks to succeed are quite widespread and occur anywhere a web application uses input from a user within the output it generates without validating or encoding it.\n",
        "\n",
        "For instance, let's say there's a website that allows users to post comments and it doesn't properly validate or escape input. An attacker could post a comment with a script in it that steals users' cookies. When another user views that comment, the script runs in their browser, sending their cookies to the attacker. With those cookies, the attacker could impersonate the user.\n",
        "\n",
        "These attacks illustrate the variety and sophistication of threats that can challenge even well-secured systems. Understanding them is a crucial step in building a robust defense."
      ],
      "metadata": {
        "id": "j19pm8jX-QNH"
      }
    },
    {
      "cell_type": "markdown",
      "source": [
        "## Types of Threat Actors\n",
        "In the realm of cybersecurity, the term **threat actor** refers to an entity—be it an individual, a group, or an organization—that poses a potential risk to the security of a system. Understanding the types of threat actors can illuminate the various motives, resources, and tactics at play in cybersecurity breaches.\n",
        "\n",
        "**Internal Actors** are individuals within an organization who have legitimate access to its systems. These actors may either be negligent or malicious. In the case of negligence, an employee might leave a laptop containing sensitive information unattended at a coffee shop. The risk here isn't just the loss of the device, but the potential for the data to be exploited. On the malicious side, consider an employee who has grown discontented with the company and decides to sell confidential data to competitors. Internal threats are particularly tricky because they exploit the trust and access granted to them, making their actions harder to anticipate and detect.\n",
        "\n",
        "**Hacktivists** are driven by ideological motives rather than financial gain. These are individuals or groups that use cyberattacks to promote a political agenda or social change. Take the example of Anonymous, a loosely affiliated group that has hacked websites to protest against issues such as censorship or animal cruelty. The attacks often involve defacing websites or leaking sensitive information to embarrass the target. What distinguishes hacktivists is their willingness to openly defy laws and norms to promote a cause they deeply care about.\n",
        "\n",
        "**Organized Crime Groups** operate with a clear financial motive. These groups are well-coordinated and often employ experts in various fields of cybersecurity to accomplish their objectives. One common tactic is ransomware, where the group encrypts an organization's data and demands payment for its release. Another example would be carding schemes, where stolen credit card information is sold on the dark web. These groups are motivated by profit and will generally target entities that offer the highest potential financial gain with the least risk of being caught.\n",
        "\n",
        "**Nation-State Actors** (or **Advanced Persistent Threats**) are perhaps the most sophisticated of all. These are individuals or groups backed by a country's resources and political agenda. They target other nations' infrastructures, government secrets, or commercial intellectual property. A famous example is the alleged Russian interference in the 2016 U.S. Presidential elections. The intent was not just to steal information, but to sway public opinion and affect the outcome of a critical democratic process. These actors are equipped with advanced tools and operate under the veil of state secrecy, making them exceedingly difficult to trace and counteract.\n",
        "\n",
        "**Script Kiddies** are the novices of the hacking world. These individuals lack the expertise to develop their own hacking tools, so they use pre-made software to launch attacks. Despite their limited skills, they can still cause considerable damage. For instance, a script kiddie might use a readily available program to create a denial-of-service attack, overwhelming a school's computer network and disrupting its operations for a period. The motivation is often not financial or ideological, but rather a search for thrills or notoriety.\n",
        "\n",
        "Understanding these diverse actors is critical for shaping effective cybersecurity strategies. Each comes with its own set of tactics, motivations, and levels of sophistication, requiring a nuanced approach to defense and mitigation."
      ],
      "metadata": {
        "id": "AfBaNh8Mj5w-"
      }
    },
    {
      "cell_type": "markdown",
      "source": [
        "## Principles of Secure Coding\n",
        "Secure coding is the practice of writing programs that are resistant to intrusion and misuse. By adhering to secure coding principles, programmers can protect systems from threats and vulnerabilities. Here are several key principles of secure coding:\n",
        "\n",
        "### Input Validation:\n",
        "\n",
        "Input validation is the process of ensuring an application's input data is correct, meaningful, and secure before it's used. This process helps to prevent improperly formed data from entering an information system.  For instance, if a program expects an input to be a number, input validation will check that the user indeed entered a number."
      ],
      "metadata": {
        "id": "BcgRfe-DlD8F"
      }
    },
    {
      "cell_type": "code",
      "source": [
        "def validate(input):\n",
        "    if not input.isdigit():\n",
        "        print(\"Invalid input. Please enter a number.\")\n",
        "    else:\n",
        "        print(\"Valid input.\")\n",
        "\n",
        "my_input = input(\"Please enter a number: \")\n",
        "validate(my_input)\n"
      ],
      "metadata": {
        "colab": {
          "base_uri": "https://localhost:8080/"
        },
        "id": "LTBGxxU6lON9",
        "outputId": "d4a3873b-4fb3-428a-db8a-f4f094c63710"
      },
      "execution_count": null,
      "outputs": [
        {
          "output_type": "stream",
          "name": "stdout",
          "text": [
            "Please enter a number: 32sd\n",
            "Invalid input. Please enter a number.\n"
          ]
        }
      ]
    },
    {
      "cell_type": "markdown",
      "source": [
        "### Least Privilege:\n",
        "\n",
        "The principle of least privilege advises that code should operate with the least amount of privilege necessary to complete its function. This minimizes the permissions an attacker could gain if they manage to exploit the software. For example, a Python script running as a system administrator would have unrestricted access to the system. If compromised, it could wreak havoc. But if the script runs as a lower-privilege user, any exploit's potential for damage is significantly reduced.\n",
        "\n",
        "### Defense in Depth:\n",
        "\n",
        "Defense in depth is a strategy that uses multiple layers of defense to guard against security failures in other areas. Just like a medieval castle doesn't rely on a single wall for protection, software shouldn't depend on a single security measure.  In Python, one layer could be input validation, ensuring only valid data is accepted. Another layer might be using parameterized queries or prepared statements to prevent SQL Injection attacks.\n",
        "\n",
        "### Fail Securely:\n",
        "\n",
        "When a function fails, it should handle the failure in a way that won't allow an exploit. This can involve shutting down the process, logging out the user, or other actions that limit access. For example, let's say we have a Python script that requires a user to enter a password to access a resource. If the password check fails, the process should end immediately and securely, not providing any unintended access or information to the user.\n",
        "\n",
        "```python\n",
        "\n",
        "def access_resource(password):\n",
        "    if not check_password(password):\n",
        "        print(\"Access denied.\")\n",
        "        return  # End the process immediately\n",
        "    # Access the resource\n",
        "```\n",
        "\n",
        "### Don't Trust Security Through Obscurity:\n",
        "\n",
        "Security through obscurity is the belief that a system of any sort can be secure so long as nobody outside of its implementation group is allowed to find out anything about its internal mechanisms. Relying on secrecy of design or implementation to provide security is not a good idea. Any system should be secure even if the attacker knows everything about how it works.\n"
      ],
      "metadata": {
        "id": "mD2K4LW0mPjq"
      }
    },
    {
      "cell_type": "markdown",
      "source": [
        "## Excellent Encryption\n",
        "Encryption is one of the fundamental building blocks in the field of cybersecurity. It plays a crucial role in protecting data in transit and at rest, and is used in a multitude of applications, from secure communications and transactions to password protection and identity verification.\n",
        "\n",
        "Technically, **encryption** is a method of converting plain text or data into a code (cipher text) to prevent unauthorized access. The process uses an algorithm (or cipher) and a key to transform the original data into a format that can only be read or processed after it's been decrypted.\n",
        "\n",
        "There are two primary types of encryption: symmetric encryption and asymmetric encryption. We'll discuss each of these in turn."
      ],
      "metadata": {
        "id": "vmkThAUioykH"
      }
    },
    {
      "cell_type": "markdown",
      "source": [
        "### Symmetric Encrpytion\n",
        "**Symmetric Encryption** is a method of cryptography where the same key is used for both encryption and decryption. The term \"symmetric\" captures the essence of this approach: balance and uniformity in the way the data is secured and accessed. In this model, the key serves as a shared secret between the sender and receiver.\n",
        "\n",
        "Imagine you're sending a confidential letter through a courier. You place the letter in a box and lock it with a padlock. You then send the key for that padlock separately to the receiver. Upon receiving both the box and the key, the receiver unlocks the padlock to read the letter. Here, the padlock is akin to the encryption algorithm, and the key you used to lock and unlock the box is the symmetric key. The key must be securely shared and kept confidential between both parties, as anyone with access to it can unlock the box---or in our digital analogy, decrypt the data.\n",
        "\n",
        "One of the major strengths of symmetric encryption is its speed and computational efficiency. Because it uses a single key, the algorithms can be much faster and require less computational power. This makes it ideal for encrypting large volumes of data. For example, streaming services often use symmetric encryption to securely deliver video content to viewers. The data packets are encrypted with a key, and the same key is used by your device to decrypt and display the video.\n",
        "\n",
        "However, symmetric encryption has a significant drawback: the problem of key distribution. Both the sender and receiver need access to the same key, and transferring this key securely is a challenge. If someone intercepts the key during its transfer, the security of the encrypted data is compromised. This is akin to someone intercepting the key to your padlocked box before it reaches its intended recipient.\n",
        "\n",
        "To mitigate this risk, symmetric encryption is often used in conjunction with asymmetric encryption, which involves a pair of keys: one public and one private. The symmetric key is securely exchanged using asymmetric encryption, and once both parties have the symmetric key, they switch to using the more efficient symmetric encryption for the actual data transfer."
      ],
      "metadata": {
        "id": "0gcdOMcpK7Hi"
      }
    },
    {
      "cell_type": "markdown",
      "source": [
        "### Asymmetric Encryption\n",
        "Asymmetric Encryption, also known as Public-Key Cryptography, employs two different but mathematically linked keys: a public key and a private key. Unlike symmetric encryption, where one key serves both to encrypt and decrypt, asymmetric encryption uses the public key for encryption and the private key for decryption. This duality solves some of the limitations of symmetric encryption, most notably the problem of secure key distribution.\n",
        "\n",
        "Picture a mailbox on the street: anyone can place a letter inside it (public key), but only the person with the correct key can open it to retrieve the letters (private key). In the digital realm, the public key is openly shared and used by anyone to encrypt messages or verify digital signatures. However, the private key remains confidential and is used to decrypt messages or create digital signatures.\n",
        "\n",
        "One of the most common applications of asymmetric encryption is in secure communications over the internet. When you visit a secure website (indicated by HTTPS in the URL), your browser and the server perform a handshake using asymmetric encryption. Initially, the server sends over its public key, which your browser uses to encrypt a symmetric key. This encrypted symmetric key is sent back to the server, which uses its private key to decrypt it. Now both parties have a symmetric key, which they use for the rest of the session to encrypt and decrypt data rapidly.\n",
        "\n",
        "Another important application is digital signatures, which provide a method for verifying the integrity and origin of a message or document. When you sign a digital document, a hash of the document is created and then encrypted with your private key. The recipient, using your public key, can decrypt the hash and compare it with the hash of the received document. If they match, the document is both authentic and unchanged.\n",
        "\n",
        "Asymmetric encryption also enables secure key exchange, often in tandem with symmetric encryption. In this hybrid approach, asymmetric encryption safely delivers a symmetric key between two parties. Once received, the more computationally efficient symmetric encryption takes over for the actual data transmission. This is exemplified in protocols like SSL/TLS, which secure web traffic.\n",
        "\n",
        "However, it's worth noting that asymmetric encryption is computationally more intensive than symmetric encryption. Encrypting large volumes of data solely with asymmetric encryption would be impractical due to the time and computational resources required.\n"
      ],
      "metadata": {
        "id": "pnarVjCfLe8r"
      }
    },
    {
      "cell_type": "markdown",
      "source": [
        "## The Caesar Cipher: A Case Study\n",
        "One of the earliest and simplest methods of encryption is the Caesar Cipher, named after Julius Caesar, who reportedly used it for his private correspondence. It's a type of substitution cipher where each letter in the plaintext (the original message) is shifted a certain number of places down or up the alphabet.\n",
        "\n",
        "For example, with a shift of 1, A would be replaced by B, B would become C, and so on. The key in a Caesar cipher is the number of positions each letter has been shifted. In our example, the key is 1.\n",
        "\n",
        "Here's a simple Python function that implements a Caesar cipher:"
      ],
      "metadata": {
        "id": "f5iTuN4uHghe"
      }
    },
    {
      "cell_type": "code",
      "source": [
        "def caesar_encrypt(text, shift):\n",
        "    # Begin with an empty string\n",
        "    encrypted = \"\"\n",
        "    # Loop through each character in the text\n",
        "    for char in text:\n",
        "        # Check if the character is a letter\n",
        "        if char.isalpha():\n",
        "            # Shift the character by the shift amount, ord() returns the unicode code point for the character\n",
        "            shifted = ord(char) + shift\n",
        "            # Check if the character is lowercase\n",
        "            if char.islower():\n",
        "                # Lowercase 'a' is 97, 'z' is 122, so we need to wrap around if the shifted character is outside of that range\n",
        "                encrypted += chr((shifted - ord('a')) % 26 + ord('a'))\n",
        "            else:\n",
        "                # Uppercase 'A' is 65, 'Z' is 90, so we need to wrap around if the shifted character is outside of that range\n",
        "                encrypted += chr((shifted - ord('A')) % 26 + ord('A'))\n",
        "        else:\n",
        "            # If the character is not a letter, just add it to the encrypted string\n",
        "            encrypted += char\n",
        "    return encrypted\n",
        "\n",
        "def caesar_decrypt(text, shift):\n",
        "    return caesar_encrypt(text, -shift)\n",
        "\n",
        "\n",
        "# Example\n",
        "plaintext = input(\"Enter plaintext: \")\n",
        "shift = 3\n",
        "encrypted = caesar_encrypt(plaintext, shift)\n",
        "decrypted = caesar_decrypt(encrypted, shift)\n",
        "\n",
        "print(f\"Encrypted message: {encrypted}\")\n",
        "print(f\"Decrypted message: {decrypted}\")"
      ],
      "metadata": {
        "id": "qprN1jtOox9b",
        "colab": {
          "base_uri": "https://localhost:8080/"
        },
        "outputId": "acbf0168-6e98-4d3e-ff0b-398fa229fe16"
      },
      "execution_count": null,
      "outputs": [
        {
          "output_type": "stream",
          "name": "stdout",
          "text": [
            "Enter plaintext: Encryption is excellent. Everyone needs privacy!\n",
            "Encrypted message: Hqfubswlrq lv hafhoohqw. Hyhubrqh qhhgv sulydfb!\n",
            "Decrypted message: Encryption is excellent. Everyone needs privacy!\n"
          ]
        }
      ]
    },
    {
      "cell_type": "markdown",
      "source": [
        "### Breaking the Caesar Cipher\n",
        "\n",
        "Despite its historical significance, the Caesar cipher is extremely easy to break, even without knowing the key. One common method is frequency analysis.\n",
        "\n",
        "**Frequency analysis** is based on the fact that in any given language, certain letters and combinations of letters occur with predictable frequency. For example, in English, 'E' is the most common letter, followed by 'T' and 'A'. By analyzing the frequencies of letters in the encrypted message, we can make educated guesses about what each letter represents.\n",
        "\n",
        "Here's a simple Python program that uses frequency analysis to decrypt a message encrypted with a Caesar cipher. In this example, we use only the letter 'e', but this is often enough to break this cipher."
      ],
      "metadata": {
        "id": "BQ4XM8yHIcfa"
      }
    },
    {
      "cell_type": "code",
      "source": [
        "from collections import Counter\n",
        "\n",
        "def frequency_analysis(text):\n",
        "    # Count the frequency of each letter in the text\n",
        "    freq = Counter(char.lower() for char in text if char.isalpha())\n",
        "    # the dictionary contains the frequency of each letter in the text\n",
        "    return dict(freq)\n",
        "\n",
        "def find_most_common(text):\n",
        "    # Find the most common letter in the text\n",
        "    freq = frequency_analysis(text)\n",
        "    # Return the letter with the highest frequency\n",
        "    return max(freq, key=freq.get)\n",
        "\n",
        "def break_caesar_cipher(text):\n",
        "    # Find the most common letter in the text\n",
        "    most_common = find_most_common(text)\n",
        "    # Find the shift needed to decrypt the text\n",
        "    shift = ord(most_common) - ord('e')  # Assuming 'e' is the most common letter in English\n",
        "    # Decrypt the text\n",
        "    return caesar_decrypt(text, shift)\n",
        "\n",
        "# Example\n",
        "encrypted = input(\"What message would you like me to crack? \")\n",
        "decrypted = break_caesar_cipher(encrypted)\n",
        "print(f\"Decrypted message: {decrypted}\")\n"
      ],
      "metadata": {
        "colab": {
          "base_uri": "https://localhost:8080/"
        },
        "id": "sSvT_RcZIipw",
        "outputId": "ead10b0c-eef5-4912-ec40-efdc1f29e00e"
      },
      "execution_count": null,
      "outputs": [
        {
          "output_type": "stream",
          "name": "stdout",
          "text": [
            "What message would you like me to crack? Hqfubswlrq lv hafhoohqw. Hyhubrqh qhhgv sulydfb!\n",
            "Decrypted message: Encryption is excellent. Everyone needs privacy!\n"
          ]
        }
      ]
    },
    {
      "cell_type": "markdown",
      "source": [
        "## Exercise: Coding Caesar\n",
        "**Objective:** Extend the `caesar_encrypt` function to shift numbers as well.\n",
        "\n",
        "**Description:** Currently, the Caesar cipher only shifts alphabetic characters. Your task is to enhance the algorithm to shift numeric characters (0-9) in a circular fashion.\n",
        "\n",
        "Hint: Numeric '0' is 48 and '9' is 57 in Unicode.\n",
        "\n",
        "Code:"
      ],
      "metadata": {
        "id": "d2MjXMG3_ukM"
      }
    },
    {
      "cell_type": "code",
      "source": [
        "def caesar_number(text, shift):\n",
        "    encrypted = \"\"\n",
        "    for char in text:\n",
        "        if char.isalpha():\n",
        "            shifted = ord(char) + shift\n",
        "            if char.islower():\n",
        "                encrypted += chr((shifted - ord('a')) % 26 + ord('a'))\n",
        "            else:\n",
        "                encrypted += chr((shifted - ord('A')) % 26 + ord('A'))\n",
        "        elif char.isdigit():\n",
        "            # TODO: Add logic here to shift numeric characters\n",
        "            pass\n",
        "        else:\n",
        "            encrypted += char\n",
        "    return encrypted\n",
        "\n",
        "def caesar_num_decrypt(text, shift):\n",
        "    return caesar_encrypt(text, -shift)\n",
        "\n",
        "\n",
        "# Test code\n",
        "plaintext = input(\"Enter plaintext: \")\n",
        "shift = 3\n",
        "encrypted = caesar_num(plaintext, shift)\n",
        "decrypted = caesar_num_decrypt(encrypted, shift)\n",
        "\n",
        "print(f\"Encrypted message: {encrypted}\")\n",
        "print(f\"Decrypted message: {decrypted}\")"
      ],
      "metadata": {
        "id": "z8ZhJrAW_-DM"
      },
      "execution_count": null,
      "outputs": []
    },
    {
      "cell_type": "markdown",
      "source": [
        "## Conquering Caesar: Modern Encryption Methods\n",
        "Modern encryption methods are much stronger than Caesar cipher. However, the technology to \"crack\" such methods is also continually improving, which mean we must continually update encryption.  Some of the most important encryption standards/methods include the following.\n",
        "\n",
        "\n",
        "### Advanced Encryption Standard (AES)\n",
        "The **Advanced Encryption Standard (AES)** is a symmetric block cipher that is used to encrypt and decrypt data. It is the most widely used encryption standard in the world, and is used by governments, businesses, and individuals to protect sensitive data.\n",
        "\n",
        "AES works by dividing the data to be encrypted into blocks of 128 bits. Each block is then encrypted using a series of mathematical operations, which are performed using a key. The key is a secret value that is shared between the sender and receiver of the encrypted data.\n",
        "\n",
        "The number of rounds of encryption that are performed depends on the length of the key. For a 128-bit key, 10 rounds of encryption are performed. For a 192-bit key, 12 rounds of encryption are performed. And for a 256-bit key, 14 rounds of encryption are performed.  The strength of AES encryption depends on the length of the key. A 128-bit key is considered to be very strong, and is resistant to brute-force attacks. A 192-bit key is even stronger, and is resistant to even more powerful attacks. And a 256-bit key is considered to be unbreakable, and is resistant to all known attacks (including those by any quantum computers we are likely to build soon).\n",
        "\n",
        "AES is a very secure encryption standard, and is considered to be one of the best available. It is used by governments, businesses, and individuals to protect sensitive data. AES is also used in a variety of applications, including:\n",
        "\n",
        "-   Secure communications: AES is used to encrypt data that is sent over the internet, email, and other networks.\n",
        "-   Data storage: AES is used to encrypt data that is stored on computers, hard drives, and other storage devices.\n",
        "-   Virtual private networks (VPNs): AES is used to encrypt data that is sent between a user's device and a remote server over a VPN connection.\n",
        "-   Secure storage of passwords: AES is used to encrypt passwords that are stored on computers and other devices.\n",
        "-   File and disk encryption: AES is used to encrypt files and folders on computers, external storage devices, and cloud storage.\n",
        "\n",
        "AES is a very important encryption standard, and is used to protect sensitive data all over the world. It is a very secure and versatile encryption standard, and is considered to be one of the best available.\n",
        "\n",
        "### RSA\n",
        "RSA is a symmetric public-key cryptography algorithm that is used for secure data transmission. It is named after its inventors, Ron Rivest, Adi Shamir, and Leonard Adleman. RSA is a widely used algorithm for secure data transmission. It is used in a variety of applications, especially we need to find a way to securely exchange \"keys\" that we can then use for symmeteric encryption (such as AES).\n",
        "\n",
        "In RSA cryptography, there are two mathematically related keys: a public key and a private key. The public key can be shared with anyone, while the private key must be kept secret.  To encrypt a message, the sender uses the recipient's public key to generate a ciphertext. The ciphertext can only be decrypted using the recipient's private key.\n",
        "\n",
        "This system provides two important security properties:\n",
        "\n",
        "- Confidentiality: Only the recipient can decrypt the ciphertext, so the message remains confidential from unauthorized third parties.\n",
        "- Authentication: The recipient can verify that the message was sent by the sender, and not by an imposter.\n",
        "\n",
        "RSA is a secure algorithm, but it is not unbreakable. In 1994, Peter Shor developed a quantum algorithm that could be used to break RSA encryption. However, quantum computers are not yet powerful enough to break RSA encryption in a practical sense. This is an important distinction between AES (where a long key is sufficient to resist quantum decryption) and RSA. Finding an efficient, quantum-proof sucessor to RSA is currently a major focus of research.\n",
        "\n",
        "### HTTPS\n",
        "**HTTPS (Hypertext Transfer Protocol Secure)** is a secure version of the HTTP (Hypertext Transfer Protocol) protocol. It uses **TLS (Transport Layer Security)** or (very rarely) the outdated **SSL (Secure Sockets Layer)** to encrypt data sent between a client and server. This makes it much more difficult for third parties to intercept and read sensitive information, such as passwords, credit card numbers, and personal identifiable information.\n",
        "\n",
        "HTTPS uses both AES and RSA to encrypt data. AES is used to encrypt the actual data being sent, while RSA is used to exchange the keys that are used to encrypt the data. This provides a high level of security for data that is being transmitted over HTTPS.\n",
        "\n",
        "Here is a simplified overview of how HTTPS works:\n",
        "\n",
        "1.  The client sends a request to the server.\n",
        "2.  The server sends its public key (for RSA encryption) to the client.\n",
        "3.  The client encrypts (using RSA) a random symmetric key (for later use with AES) with the server's public key.\n",
        "4.  The client sends the encrypted symmetric key to the server.\n",
        "5.  The server decrypts the symmetric key with its private key.\n",
        "6.  The client and server use the (AES) symmetric key to encrypt and decrypt all subsequent data that is sent between them.\n",
        "\n",
        "HTTPS is a widely used protocol that is supported by most web browsers and servers. It is the preferred way to transmit sensitive information over the internet. HTTPS is much more secure than HTTP, and should be used whenever possible. Among other things, it helps keep people from intercepting or changing your data, and can provide you with assurance that the website you are visiting is \"legitimate.\""
      ],
      "metadata": {
        "id": "FX-PRfZZLlKg"
      }
    },
    {
      "cell_type": "markdown",
      "source": [
        "## Hashing\n",
        "Closely related to encryption, **Hashing** is a process that converts an input, often a string of text, into a fixed-length string of characters. It serves as a **one-way function**, meaning you can easily produce a hash from a given input, but reversing the process to recover the original input is computationally difficult. The beauty of hashing lies in its sensitivity: even a minor alteration in the input generates a dramatically different hash.\n",
        "\n",
        " The most comonly used hashing algorithms in modern computing are part of the **SHA (Secure Hash Algorithm)** family. This group of cryptographic hash functions that are designed to produce a unique 160-bit (20-byte) value, known as a message digest, for any given input of data, regardless of its size or content.\n",
        "\n",
        "In cybersecurity, hashing plays a pivotal role in ensuring data integrity and confidentiality. One common application is in password storage. Rather than storing the actual passwords, systems keep their hash values. When you attempt to log in, the system hashes the password you enter and compares it with the stored hash. This way, even if an attacker gains access to the database, they only find indecipherable hashes instead of actual passwords. For example, your password might be \"BlueSky123,\" but the database stores something like \"a8d9bh28z6x8.\" Even if the database is compromised, the password remains secure.\n",
        "\n",
        "Hashing is also integral to data verification. Consider file transfers or software downloads; how do you ensure that the file hasn't been tampered with during transit? The sender can produce a hash of the original file and send it along with the file itself. The recipient then hashes the received file and compares it to the received hash. If the hashes match, the file is intact. A practical example is downloading a software update; the hash confirms you're installing the genuine software, not a malicious version.\n",
        "\n",
        "Another application is in **digital signatures**, which validate the authenticity of a message or document. When you digitally sign a document, a hash of the document is created and encrypted using your private key. The recipient can then decrypt it using your public key, recreate the hash of the document they received, and compare the two. If they match, not only is the document verified as coming from you, but it also confirms that it has not been altered in transit.\n",
        "\n",
        "In blockchain technology, hashing secures the chain of transactions. Each block contains a hash of the previous block, creating an immutable chain. Any attempt to alter a transaction would change its hash, and subsequently, every hash of each block that follows. This makes tampering evident and maintains the integrity of the entire transaction history.\n"
      ],
      "metadata": {
        "id": "uETmKH8dKZQo"
      }
    },
    {
      "cell_type": "markdown",
      "source": [
        "### Petey the Python Detective: The Case of the Mysterious Hash (Exercise)\n",
        "\n",
        "Petey the Python Detective, known for his sharp wit and analytical prowess, has been receiving encrypted notes from informants about the whereabouts of the elusive \"Null Byte.\" To ensure the integrity of these messages, Petey decides to employ a technique called hashing. Hashing is a method where a piece of data, like a message, is transformed into a fixed-size value, which represents the original data. This fixed-size value is called a hash. If even a single character in the original message changes, the hash will look entirely different.\n",
        "\n",
        "### Petey's Simple Hashing Algorithm:\n",
        "\n",
        "1.  Initialize the Hash Value: Start with a hash value of zero.\n",
        "\n",
        "2.  Process Each Character: For each character in the message:\n",
        "\n",
        "    -   Convert the character into its Unicode code point using a function (in most programming languages, there's a function like `ord()` for this purpose). This gives you a unique number for almost every character you can type.\n",
        "    -   Add this number to the hash value. This accumulates the values of all the characters in the message.\n",
        "3.  Finalize the Hash: To ensure the hash is of a fixed size, take the accumulated value and get the remainder when divided by a large prime number (like 1,009). The remainder ensures that the hash value stays within a fixed range, regardless of how long the original message is.\n",
        "\n",
        "### Conceptual Illustration:\n",
        "\n",
        "Imagine the message is \"ABC\". The Unicode code points for these characters are 65, 66, and 67, respectively.\n",
        "\n",
        "The hash value starts at 0. After processing the message:\n",
        "\n",
        "-   For 'A': 0 + 65 = 65\n",
        "-   For 'B': 65 + 66 = 131\n",
        "-   For 'C': 131 + 67 = 198\n",
        "\n",
        "Now, to finalize the hash, we'd get the remainder of 198 divided by 1,009 (a prime number). Since 198 is less than 1,009, the hash value remains 198.\n",
        "\n",
        "### Rationale Behind the Algorithm:\n",
        "\n",
        "This hashing technique is simple and effective for beginners. By accumulating the Unicode values, the hash represents all characters in the original message. Using a prime number for the modulo operation ensures a good distribution of hash values, reducing the chances of different messages having the same hash (known as a collision). However, it's worth noting that while this method is illustrative and good for understanding the basics of hashing, it isn't suitable for cryptographic or security-sensitive applications."
      ],
      "metadata": {
        "id": "yfLix-TkGdG2"
      }
    },
    {
      "cell_type": "markdown",
      "source": [
        "### Objective:\n",
        "\n",
        "Implement a simple hash function called `peteys_hash` that takes in a message (string) and returns a fixed-size hash value.\n",
        "\n",
        "### Function Definition:"
      ],
      "metadata": {
        "id": "tZsbvleGGtJE"
      }
    },
    {
      "cell_type": "code",
      "source": [
        "def peteys_hash(message: str) -> int:\n",
        "    \"\"\"\n",
        "    Generates a hash value for the given message.\n",
        "\n",
        "    Parameters:\n",
        "    - message (str): The message to hash.\n",
        "\n",
        "    Returns:\n",
        "    - int: The hash value.\n",
        "    \"\"\"\n",
        "    # TODO: Implement the hash function body here\n",
        "    return None # You'll need to replace this!\n",
        "\n"
      ],
      "metadata": {
        "id": "f_rZBtXLGshL"
      },
      "execution_count": null,
      "outputs": []
    },
    {
      "cell_type": "code",
      "source": [
        "# Test cases for Petey's hash function\n",
        "test_messages = [\"Meet me at midnight\", \"The eagle has landed\", \"Null Byte is near\"]\n",
        "\n",
        "for msg in test_messages:\n",
        "    print(f\"Message: {msg}\")\n",
        "    print(f\"Hash: {peteys_hash(msg)}\\n\")\n"
      ],
      "metadata": {
        "id": "0aVRG-p9Gz-5"
      },
      "execution_count": null,
      "outputs": []
    },
    {
      "cell_type": "markdown",
      "source": [
        "## Securing Networks\n",
        "To understand how to protect a network, we first need to revisit the structure of a network itself, often conceptualized as the four-layer TCP/IP network model:\n",
        "\n",
        "1.  Network Interface Layer: This is the lowest layer, and it's responsible for transferring data between a device and the network. It includes protocols for interacting with the physical network, such as Ethernet for wired connections or Wi-Fi for wireless ones.\n",
        "\n",
        "2.  Internet Layer: This layer handles routing data across networks using the Internet Protocol (IP). Each device on a network has an IP address, and this layer helps get data from the source IP address to the destination IP address.\n",
        "\n",
        "3.  Transport Layer: This layer provides reliable data transfer between devices. It uses protocols like TCP (Transmission Control Protocol) or UDP (User Datagram Protocol), each with different trade-offs between reliability and efficiency.\n",
        "\n",
        "4.  Application Layer: The highest layer is where actual user applications (like your web browser or email client) operate. Protocols at this layer include HTTP for web browsing and SMTP for email.\n",
        "\n",
        "Data is sent across the network in units called packets, which include both the data being sent and information about where it's going and how it should get there.\n",
        "\n"
      ],
      "metadata": {
        "id": "5kb4fwBvQAPN"
      }
    },
    {
      "cell_type": "markdown",
      "source": [
        "### A Few Things About Firewalls\n",
        "Perhaps the most central technology in network security is the **firewall.** In essence, a firewall is to a computer network what a security checkpoint is to a government building. It checks credentials, inspects content, and decides who gets in and who stays out based on a pre-configured set of rules. More formally, a firewall decides which data transfers are \"allowed\" and which are ot.\n",
        "\n",
        "Firewalls manifest primarily in two forms: hardware firewalls and software firewalls. A **hardware firewall** is a standalone device that acts as a gatekeeper between your network and the Internet at large. It's akin to a fortress wall: the first line of defense that an intruder encounters. A **software firewal**l, conversely, is installed on individual computers within a network. This is comparable to security personnel stationed at various points inside a building, each responsible for a specific area. Some networks employ both types, creating a layered defense strategy known as **defense in depth**.\n",
        "\n",
        "At the Network Interface Layer, the most foundational layer, basic firewalls can engage in **MAC filtering**. This is akin to a bouncer at a club checking IDs at the door. Each network card has a unique Media Access Control (MAC) address, and the firewall can either allow or disallow these addresses, thus permitting or restricting devices from even connecting to the network.\n",
        "\n",
        "Moving up, we reach the Internet Layer, where the primary concern is routing packets of data to their correct destinations. Here, basic firewalls commonly employ **IP filtering**. This technique evaluates the source and destination IP addresses contained in each packet's header. Think of this as an advanced postal sorting system that scans the return address and destination of each parcel to decide if it should be forwarded, returned, or discarded.\n",
        "\n",
        "The Transport Layer is concerned with end-to-end communication and data integrity. More technologically advanced firewalls operating at this level often utiliz**port filtering** and **stateful inspection**. Port filtering is like checking the label on a package to see which department it's intended for; certain departments may only accept packages at particular times or from certain senders. Stateful inspection is more dynamic; it monitors the state of active connections and makes real-time decisions. This is analogous to a security system that not only checks credentials but also monitors behavior within the premises to detect any suspicious activity.\n",
        "\n",
        "Finally, at the Application Layer, some firewalls can inspect the actual content of the data packets. This is where **Deep Packet Inspection (DPI)** or application-level gateways come into play. In our post office analogy, this would be equivalent to actually opening and inspecting the content of parcels and letters to ensure they meet all regulations."
      ],
      "metadata": {
        "id": "4D0zTucW4Tdr"
      }
    },
    {
      "cell_type": "markdown",
      "source": [
        "### Other Network Security Technologies\n",
        "In the quest for robust network security, firewalls are but one component in a complex architecture of defense mechanisms. Several other technologies and concepts play critical roles in safeguarding a network, and their functionalities often map to specific layers of the four-layer network model.\n",
        "\n",
        "**Virtual Private Networks (VPNs)** operate predominantly at the Transport and Application Layers. A VPN encrypts data traffic, effectively creating a secure tunnel through which information can pass. Imagine a diplomatic pouch in international law: its contents are inviolable, and it moves securely between locations. VPNs ensure that even if data packets are intercepted, deciphering their contents becomes a formidable challenge.\n",
        "\n",
        "**Intrusion Detection Systems (IDS)** and **Intrusion Prevention Systems (IPS)** primarily work at the Internet and Transport Layers. These systems act like vigilant security cameras combined with alarm systems. They continuously monitor network traffic for suspicious patterns or anomalies. An IDS alerts administrators about a possible intrusion, while an IPS takes immediate action to block or redirect the malicious traffic. They are often incorporated into more advanced \"firewalls.\"\n",
        "\n",
        "**Antivirus Software** chiefly functions at the Application Layer. It scans files and programs to detect malicious code or unauthorized activities. This is akin to a specialized biosecurity scanner that detects hazardous substances on items entering a controlled environment. Antivirus software ensures that the data circulating within the network is clean and trustworthy.\n",
        "\n",
        "**Secure Sockets Layer (SSL)** and its successor, **Transport Layer Security (TLS)**, operate at the Transport Layer. These protocols encrypt the data packets during transmission, guaranteeing the confidentiality and integrity of the information. Think of this as sending a letter in a sealed envelope with a wax seal; the recipient can be confident that the message has not been tampered with during its journey.\n",
        "\n",
        "**Multi-Factor Authentication (MFA)** is a security measure that usually interacts with the Application Layer. MFA requires users to provide multiple forms of identification before gaining access to the network. It's similar to a high-security facility that requires an ID card, a fingerprint, and a passcode for entry. This multi-tiered approach significantly reduces the risk of unauthorized access.\n",
        "\n",
        "Data Loss Prevention (DLP) software operates mainly at the Application and Transport Layers. DLP monitors and controls the transfer of sensitive data, preventing unauthorized leakage. Imagine a customs officer inspecting exports to ensure no contraband leaves the country; DLP serves a similar purpose for data exiting the network.\n",
        "\n",
        "In summary, network security is not a solitary endeavor but a collaborative effort involving various technologies, each with specific roles across the four-layer network model. Like the multiple rings of a fortified citadel, these technologies work in concert to provide a comprehensive shield against a wide range of cyber threats."
      ],
      "metadata": {
        "id": "6RCf1BFr5-7S"
      }
    },
    {
      "cell_type": "markdown",
      "source": [
        "## What Makes a Good Password?\n",
        "In the digital age, a password acts as the first line of defense in protecting your personal information. Think of it as the key to your home; if it's too simple, you're practically inviting burglars in. The problem with simple passwords, like \"password123\" or your birthdate, is that they are shockingly easy for a computer to guess. A skilled hacker can use a technique called **brute-force attack** to try out every possible combination of characters. For simple passwords, this process can take mere seconds.\n",
        "\n",
        "In the language of computer science, simple passwords have low **entropy**, which is a measure of unpredictability (or \"degree of chaos\"). The higher the entropy, the harder the password is to crack. This is why you often see password policies demanding a certain length and a mix of characters, numbers, and symbols. These requirements aim to increase the entropy, making the password more resistant to attacks. Think of it like a game of dice. If you're rolling a single six-sided die, there are only six possible outcomes. But if you're rolling four dice of different types---one four-sided, one eight-sided, one twelve-sided, and one twenty-sided---the number of possible outcomes skyrockets. More outcomes mean more entropy, and thus, a more secure \"game.\"\n",
        "\n",
        "One powerful strategy for creating a strong password is to use **Four Random Words**. This might sound counterintuitive---how can random words be safer than a jumble of numbers, letters, and symbols? The magic lies in the length and randomness. Four unrelated words, like \"CupcakeGiraffeLaptopSky,\" create a long password that's also easy to remember. When you pick four random words, you're essentially increasing the pool of possible outcomes (and thus, increasing entropy). English has about 170,000 words in current use. So, picking one word at random is like rolling a 170,000-sided die. Now imagine rolling that die four times. The level of unpredictability, or entropy, in this password is substantial. Yet, it's a kind of chaos that's easy for you to make sense of, making the password both secure and memorable.\n",
        "\n",
        "Another idea to fortify your password is to employ a **passphrase**. This is a longer version of a password, usually a sentence or a line from a book. The idea is to create something that has personal meaning to you but would appear random to anyone else. \"TheQuickBrownFoxJumpsOverTheLazyDog\" is an example. Passphrases combine length with complexity, making them doubly hard to crack. Imagine trying to pick a lock that not only has more pins but each pin has to be turned to an exact, seemingly random angle. That's the essence of a passphrase.\n",
        "\n",
        "In both methods, the key to security is a blend of length and unpredictability. While Four Random Words offers the benefit of ease of recall, a passphrase may be even more secure, albeit at the cost of being slightly more difficult to remember. Whichever method you choose, you're making a significant stride in keeping your digital home safe and sound.\n",
        "\n"
      ],
      "metadata": {
        "id": "AOQ5pjNE8liM"
      }
    },
    {
      "cell_type": "markdown",
      "source": [
        "## Cybersecurity Frameworks\n",
        "\n",
        "A cybersecurity **framework** is a series of guidelines for how an organization should manage and mitigate its cybersecurity risk. It provides a structured process for identifying potential threats, protecting against them, detecting when an incident occurs, responding effectively, and recovering afterward. A well-implemented cybersecurity framework can help an organization protect its sensitive data, maintain customer trust, comply with legal and regulatory requirements, and continue operations even under adverse conditions.\n",
        "\n",
        "One important fraemwork is the **NIST Cybersecurity Framework**. This  set of guidelines is maintained by the National Institute of Standards and Technology, a US government agency. The framework was created to help organizations manage their cybersecurity risks. You can think of it like a roadmap that leads an organization from a state of being vulnerable to cyber threats to a place of resilience and readiness.\n",
        "\n",
        "The NIST Framework has five core functions: Identify, Protect, Detect, Respond, and Recover. Let's take a closer look at each function with some real-world examples:\n",
        "\n",
        "1. **Identify:** This is the starting point. The goal here is to understand what an organization needs to protect. For instance, imagine a company that develops video games. They might identify their game source code, player data, and internal communication systems as assets that need protection. They'll also look at potential risks, like hackers trying to steal their code or disrupt their games.\n",
        "\n",
        "2. **Protect:** Once the organization knows what it needs to protect, the next step is to put safeguards in place. Going back to our game company, they might protect their source code by storing it on secure servers, limiting who has access to it, and using encryption to keep it safe. They could protect player data by implementing strong authentication measures and encrypting sensitive information like passwords.\n",
        "\n",
        "3. **Detect:** Even with the best protections in place, there's always a chance that a cyber attack could happen. That's why the organization needs ways to detect potential threats. Our game company might use systems that monitor network traffic for signs of suspicious activity, like a sudden surge in traffic (which could indicate a denial-of-service attack) or repeated failed login attempts (which could suggest someone is trying to guess a password).\n",
        "\n",
        "4. **Respond:** If a cyber attack does happen, the organization needs to be ready to respond effectively. The response will depend on the nature of the attack. If the game company detects that someone is trying to break into a server, they might respond by blocking the IP address that the attempts are coming from. If they find out that some player data has been leaked, they might respond by notifying the affected players, resetting passwords, and investigating how the leak happened.\n",
        "\n",
        "5. **Recover:** After a cyber attack, the final step is recovery. The organization needs to restore any services that were disrupted, fix any vulnerabilities that were exploited, and take steps to prevent similar attacks in the future. For our game company, recovery might involve repairing and strengthening their server defenses, assessing any damage to their game code or player trust, and learning from the experience to improve their future cybersecurity practices.\n",
        "\n",
        "By following the NIST Cybersecurity Framework, organizations have a comprehensive strategy to manage their cybersecurity risk. It provides a structured, systematic approach that helps them anticipate, prevent, and respond to cyber threats."
      ],
      "metadata": {
        "id": "W4YmbKHJSClP"
      }
    },
    {
      "cell_type": "markdown",
      "source": [
        "## Case Study: 10 Events that Made Cybersecurity\n",
        "Cybersecurity is a rapidly evolving field, with its progression largely shaped by landmark events that punctuated the timeline of computer and internet technology. To truly understand the development and modern landscape of cybersecurity, one must revisit some of the most significant incidents that have occurred in recent history. Each event, like a flare in the dark, illuminating a new facet of the field, challenged established security practices and spurred the development of improved technologies, methodologies, and policies to combat emerging threats.\n",
        "\n",
        "Let's journey back through time, exploring the events that have indelibly shaped modern cybersecurity, from the emergence of the first computer viruses to the dawn of AI-powered cyber threats.\n",
        "\n",
        "### Brain (1986)\n",
        "\n",
        "Our journey begins with the \"Brain\" boot sector virus, considered the first PC virus in the wild. Created by two Pakistani brothers, Basit and Amjad Farooq Alvi, Brain was not intended to be malicious. Rather, it was designed as a copyright enforcement mechanism for their medical software. The virus, which spread through floppy disks, replaced the boot sector of the disk with a copy of the virus and flagged the actual boot sector as bad.\n",
        "\n",
        "While Brain was relatively benign, it opened the Pandora's box of what was possible with self-replicating code. This necessitated the development of the first antivirus software, and security experts began to consider the potential ramifications of malicious self-replicating software.\n",
        "\n",
        "### Morris Worm (1988)\n",
        "\n",
        "Our next stop is the infamous Morris Worm, widely regarded as the first worm to spread across the internet. Created by Robert Tappan Morris, a graduate student at Cornell University, the worm was intended to measure the size of the internet. However, due to a coding error, it replicated excessively, causing significant slowdowns and crashes, thereby affecting approximately 6,000 computers, which was a substantial portion of the internet at the time.\n",
        "\n",
        "The Morris Worm was a wakeup call for the cybersecurity world. It demonstrated the devastating potential of network-based attacks and the vulnerability of the internet. This event led to the formation of the Computer Emergency Response Team (CERT) by DARPA, marking the birth of organized, coordinated responses to cybersecurity incidents.\n",
        "\n",
        "### ILOVEYOU (2000)\n",
        "\n",
        "At the turn of the millennium, a destructive worm disguised as a love confession wreaked havoc on computers worldwide. The ILOVEYOU worm, created by two Filipino programmers, spread via email with the subject line \"ILOVEYOU\" and an attachment \"LOVE-LETTER-FOR-YOU.txt.vbs\". The worm overwrote image files and sent copies of itself to all of the infected user's email contacts.\n",
        "\n",
        "This attack exploited both technological and human vulnerabilities, demonstrating the effectiveness of social engineering. It exposed weaknesses in email systems and the susceptibility of users to phishing attacks. The ILOVEYOU worm led to a heightened awareness of email security, inspiring improvements in email clients and servers to prevent such large-scale infections in the future, and a greater emphasis on user education to recognize and avoid such threats."
      ],
      "metadata": {
        "id": "Coz5qNVCydgM"
      }
    },
    {
      "cell_type": "markdown",
      "source": [
        "### MyDoom (2004)\n",
        "\n",
        "As we journey deeper into the 2000s, we encounter MyDoom. This infamous worm still holds the dubious honor of being one of the fastest-spreading email-based worms in history. MyDoom spread via email, using an infected user's contact list to propagate itself. But unlike previous worms, it also had a secondary payload: it installed a backdoor into the victim's system, which could be exploited later for remote control of the machine.\n",
        "\n",
        "MyDoom demonstrated the concept of multi-staged attacks: an initial breach, followed by the installation of a secondary payload that could be exploited at will. This marked a significant shift in the sophistication and potential harm of malware, prompting the cybersecurity industry to develop more advanced detection and remediation strategies, and pay greater attention to the removal of threats, not just their detection.\n",
        "\n",
        "### Stuxnet (2010)\n",
        "\n",
        "Stuxnet, a malicious computer worm discovered in 2010, marked a new era in cyber warfare. Unlike previous malware that primarily targeted consumer systems for monetary gain, Stuxnet was a state-sponsored weapon specifically designed to sabotage Iran's nuclear program. It achieved this by targeting programmable logic controllers (PLCs) used in industrial control systems. Stuxnet wasn't merely an infection; it was a precision-guided cyber-missile.\n",
        "\n",
        "The implications of Stuxnet were far-reaching. It revealed the vulnerability of critical infrastructure to cyberattacks and highlighted the potential for cyber warfare between nations. This led to a shift in global cybersecurity strategies, with increased focus on securing critical infrastructure and a realization of the necessity for international cooperation in cybersecurity."
      ],
      "metadata": {
        "id": "5oARumeDy27N"
      }
    },
    {
      "cell_type": "markdown",
      "source": [
        "### Ukraine Power Grid Attack (2015)\n",
        "\n",
        "The 2015 Ukraine power grid attack represents one of the first confirmed cases of a cyber attack leading to a significant disruption of critical infrastructure. On December 23, 2015, parts of Ukraine experienced a power outage after a cyber attack successfully compromised information systems of three energy distribution companies. Approximately 230,000 people were left without electricity for several hours.\n",
        "\n",
        "The attackers used a spear-phishing email to gain access to the power companies' networks. After exploring the networks and learning how to manually control the breakers, they then launched a synchronized attack, opening circuit breakers at 30 substations and causing a widespread power outage.\n",
        "\n",
        "Simultaneously, the attackers also conducted a telephone denial-of-service attack against the power companies' call centers, flooding them with fake calls to prevent customers from reporting the outage. The attackers had also made use of the KillDisk malware to wipe critical systems and delay the recovery process.\n",
        "\n",
        "The Ukraine power grid attack was a wakeup call to the world on the vulnerability of critical infrastructure to cyber attacks. It showed how a well-coordinated cyber attack could lead to physical consequences, disrupting essential services and causing significant economic and social impact. The event led to an increased focus on securing industrial control systems and critical infrastructure against cyber threats, which is still a significant concern today."
      ],
      "metadata": {
        "id": "g-jYqxnfzLUf"
      }
    },
    {
      "cell_type": "markdown",
      "source": [
        "### WannaCry (2017)\n",
        "\n",
        "Our next stop, the WannaCry ransomware attack of 2017, stands as one of the most widespread and damaging cyberattacks in history. WannaCry utilized a vulnerability in Microsoft's Server Message Block (SMB) protocol, which was first exposed by the leaked EternalBlue exploit allegedly developed by the U.S. National Security Agency (NSA).\n",
        "\n",
        "The WannaCry attack caused chaos globally, affecting hundreds of thousands of computers across various sectors, including healthcare, where the UK’s National Health Service was severely impacted. This ransomware attack underscored the global interconnectivity of cybersecurity, the risk of stockpiling cyber weapons, and the importance of regular system updates. It led to an increased emphasis on patch management within IT security practices and sparked ongoing discussions about the role of government agencies in cybersecurity."
      ],
      "metadata": {
        "id": "umt-2rjXzWck"
      }
    },
    {
      "cell_type": "markdown",
      "source": [
        "### Equifax Breach (2017)\n",
        "\n",
        "The Equifax breach is a seminal moment in the history of cybersecurity, highlighting the severe consequences of inadequate security measures in an era of big data. Equifax, one of the three largest consumer credit reporting agencies in the United States, announced in 2017 that a massive breach had exposed the personal data, including Social Security numbers and driver's license numbers, of nearly 147 million people.\n",
        "\n",
        "The breach was the result of the company's failure to patch a known vulnerability in the Apache Struts web-application software, a popular framework for creating Java-based web applications. Attackers exploited the vulnerability to gain access to Equifax's network, where they roamed undetected for a staggering 76 days.\n",
        "\n",
        "The consequences of the Equifax breach were vast and far-reaching. Besides the immediate impact on the individuals whose data was exposed, the breach led to regulatory fines, lawsuits, a Congressional investigation, and the departure of several high-ranking executives within Equifax, including the CEO.\n",
        "\n",
        "More importantly, the Equifax breach served as a wake-up call to corporations worldwide, emphasizing the need for robust cybersecurity practices, particularly for companies handling sensitive personal data. It underscored the importance of timely patch management, proactive security measures, and the need for greater regulatory oversight in data security and privacy.\n",
        "\n",
        "In a broader sense, the Equifax breach pushed the discussion of personal data security into the public spotlight. It has led to increased calls for improved data privacy laws and practices, and it has contributed to growing public concern about the security and privacy of personal data in the digital age. The role of corporations in safeguarding this data, especially in sectors such as finance and healthcare where sensitive information is often stored, has been a topic of increasing importance since the breach."
      ],
      "metadata": {
        "id": "CHfO_qhUzYkJ"
      }
    },
    {
      "cell_type": "markdown",
      "source": [
        "### Pegasus Spyware (2016 - Present)\n",
        "\n",
        "The Pegasus spyware, developed by the Israeli cybersecurity firm NSO Group, represents a new generation of threats in the cybersecurity landscape. First discovered in 2016, Pegasus is a highly sophisticated piece of spyware that can be covertly installed on a victim's mobile phone, turning it into a surveillance device. The software is capable of remotely activating a phone's camera and microphone, reading emails and text messages, and tracking the user's location.\n",
        "\n",
        "What sets Pegasus apart is its unprecedented level of sophistication and its intended use. While malware is often associated with cybercriminals seeking financial gain, Pegasus is marketed to governments and law enforcement agencies as a tool for tracking criminals and terrorists. However, investigations have revealed that the spyware has been used to target journalists, human rights activists, and political dissidents in places such as Saudi Arabia, Mexico, and many other places.\n",
        "\n",
        "The emergence of Pegasus highlights the increasing complexity and sophistication of cybersecurity threats, particularly those aimed at individuals. The tools and tactics previously associated with nation-state actors are now being deployed in the private sector, making the lines between cybercrime, cyber warfare, and cyber surveillance increasingly blurry."
      ],
      "metadata": {
        "id": "xkNAG3z5zety"
      }
    },
    {
      "cell_type": "markdown",
      "source": [
        "### AI-generated propaganda (2020-present)\n",
        "\n",
        "As we approach the present, we encounter a new kind of cybersecurity threat: the use of artificial intelligence (AI) in cyberattacks. While AI has a wide array of applications in cybersecurity, largely positive, it has also been harnessed for malicious purposes. One such instance is the creation and dissemination of AI-generated propaganda by nation-states, particularly Russia and China.\n",
        "\n",
        "These AI systems can generate realistic, persuasive content and disinformation campaigns, leading to widespread social unrest and divisiveness. This marks an evolution of cyber threats from the digital realm into influencing real-world events and people's perceptions. It has led to a renewed focus on the role of technology companies in content moderation, and the development of AI tools and techniques to detect and combat such AI-generated propaganda."
      ],
      "metadata": {
        "id": "zy-v_IlXzsgs"
      }
    },
    {
      "cell_type": "markdown",
      "source": [
        "## Discussion Questions\n",
        "1. What similarities and differences can you observe in the nature of cyber threats from the 1980s to the present?\n",
        "\n",
        "2. In the case of the Stuxnet and Ukraine Power Grid attacks, physical systems were targeted. Discuss the risks that cyber threats pose to critical infrastructure and physical systems.\n",
        "\n",
        "3. Discuss the role of Artificial Intelligence (AI) in cybersecurity, both as a tool for attackers and for defense. How does the possibility of AI-generated propaganda event highlight new challenges in this domain?\n",
        "\n",
        "4. The Pegasus spyware represents a shift in the targeted use of malware, and has been used to target individual journalists, political dissedents, and ohters. Discuss the ethical implications of such targeted cyber attacks."
      ],
      "metadata": {
        "id": "4P4hb7_E0LBT"
      }
    },
    {
      "cell_type": "markdown",
      "source": [
        "## Answers\n",
        "1.\n",
        "\n",
        "2.\n",
        "\n",
        "3.\n",
        "\n",
        "4."
      ],
      "metadata": {
        "id": "vdn4PDcZAoNg"
      }
    },
    {
      "cell_type": "markdown",
      "source": [
        "## Review With Quizlet\n",
        "Run the following cell to launch the quizlet review for this chapter."
      ],
      "metadata": {
        "id": "YPDD0TIMA3pE"
      }
    },
    {
      "cell_type": "code",
      "source": [
        "%%html\n",
        "<iframe src=\"https://quizlet.com/820923558/learn/embed?i=psvlh&x=1jj1\" height=\"600\" width=\"100%\" style=\"border:0\"></iframe>"
      ],
      "metadata": {
        "colab": {
          "base_uri": "https://localhost:8080/",
          "height": 622
        },
        "id": "o1xF02NmBN_6",
        "outputId": "31097326-4897-4afb-8e81-013a2efcb66f"
      },
      "execution_count": null,
      "outputs": [
        {
          "output_type": "display_data",
          "data": {
            "text/plain": [
              "<IPython.core.display.HTML object>"
            ],
            "text/html": [
              "<iframe src=\"https://quizlet.com/820923558/learn/embed?i=psvlh&x=1jj1\" height=\"600\" width=\"100%\" style=\"border:0\"></iframe>\n"
            ]
          },
          "metadata": {}
        }
      ]
    },
    {
      "cell_type": "markdown",
      "source": [
        "## Glossary\n",
        "\n",
        "| Term | Definition |\n",
        "| --- | --- |\n",
        "| CIA Triad | A framework used to guide policies for information security within an organization. It stands for Confidentiality, Integrity, and Availability. |\n",
        "| Confidentiality | Ensures that sensitive information is accessed only by authorized personnel and is protected from unauthorized disclosure. |\n",
        "| Integrity | The property that data is not altered or tampered with in an unauthorized manner. |\n",
        "| Availability | Ensures that information and resources are accessible by authorized users when needed. |\n",
        "| Viruses | Malicious software programs that, when executed, replicate by inserting copies of themselves into other computer programs, data files, or boot sectors of a hard drive. |\n",
        "| Worms | Independent software programs that propagate from machine to machine across networks, consuming resources and potentially carrying payloads that perform malicious activities. |\n",
        "| Trojans | Software that appears to perform a legitimate function but secretly performs unauthorized functions to compromise the host system. |\n",
        "| Phishing | A form of online scam where attackers send seemingly legitimate but fraudulent communications (often email) to trick recipients into disclosing sensitive information like passwords and credit card numbers. |\n",
        "| Ransomware | A type of malware that encrypts files on a victim's computer or network, demanding a ransom for the restoration of the data. |\n",
        "| SQL Injection | A code injection technique that exploits a vulnerability in an application's software by manipulating SQL queries, allowing attackers to execute arbitrary SQL code and manipulate a database. |\n",
        "| DDoS | Stands for Distributed Denial of Service; a cyber-attack that floods a system, service, or network with excessive traffic to overwhelm it and make it unavailable for its intended users. |\n",
        "| Cross-site Scripting | A type of security vulnerability that enables attackers to inject client-side scripts into web pages viewed by other users, thereby bypassing access controls and gaining access to unauthorized data. |\n",
        "| Threat Actor | An individual, group, organization, or government that conducts or has the intent to conduct harmful actions against data, networks, or systems. Typically categorized based on their capabilities, intent, and resources. |\n",
        "| Internal Actor | Individuals within an organization who have the potential to abuse their authorized access to data or resources for malicious purposes. |\n",
        "| Hacktivist | An individual or group who uses hacking techniques for political or social objectives, often using methods like DDoS attacks or data breaches to further their cause. |\n",
        "| Organized Crime | Groups or operations that engage in illegal activities on a large scale, often using sophisticated methods and tools. In the cyber context, this can include activities like fraud, data theft, and ransomware campaigns. |\n",
        "| Advanced Persistent Threats (APTs) | Highly organized and well-funded entities, often sponsored by nation-states, that engage in prolonged cyber-espionage or cyber-attacks, typically with a specific objective. |\n",
        "| Script Kiddies | Inexperienced individuals who use pre-written hacking tools and scripts to conduct attacks, often without understanding the underlying technology. |\n",
        "| Input Validation | The practice of verifying and sanitizing user-supplied data before it is processed by an application, to prevent things like SQL injection or cross-site scripting. |\n",
        "| Least Privilege | A security principle that restricts access rights and permissions for users to the minimum necessary to complete their job functions. |\n",
        "| Defense in Depth | A multi-layered security approach that uses a variety of defenses across multiple points to protect against cyber threats, with the idea that if one layer is breached, others will still provide protection. |\n",
        "| Encryption | The process of converting plaintext data into a scrambled ciphertext, making it unreadable without the appropriate key or algorithm to decrypt it. |\n",
        "| Cipher | An algorithm for performing encryption or decryption on a set of data. |\n",
        "| Key | A piece of information used in the encryption and decryption process, usually a string of characters or a file. |\n",
        "| Symmetric Encryption | A type of encryption where the same key is used for both encryption and decryption processes. |\n",
        "| Caesar Cipher | A substitution cipher where each letter in the plaintext is shifted down the alphabet by a set number of positions. |\n",
        "| Frequency Analysis | A method used in cryptography to break ciphers by studying the frequency of letters or groups of letters in a ciphertext, often used to crack simple substitution ciphers like the Caesar Cipher. |\n",
        "| Asymmetric Encryption | A type of encryption where different keys are used for the encryption and decryption processes; a public key is used to encrypt, and a corresponding private key is used to decrypt. |\n",
        "| Hashing | The process of converting input data (often text) into a fixed-length string of characters, usually a digest that represents the data. Primarily used for data verification and password storage. |\n",
        "| Digital Signature | A cryptographic technique used to verify the authenticity and integrity of a message, software, or digital document by using asymmetric encryption. |\n",
        "| Firewall | Hardware or software that filters incoming and outgoing network traffic based on an organization's established set of security rules, acting as a barrier between a trusted and an untrusted network. |\n",
        "| Virtual Private Network (VPN) | A technology that enables secure and encrypted connections over less secure networks, such as the internet, effectively extending a private network across a public one. |\n",
        "| Multifactor Authentication (MFA) | An authentication method that requires the user to provide two or more verification factors to gain access to a resource, such as something they know (password), something they have (security token), or something they are (biometric verification). |\n",
        "| Brute Force Attack | A cyber attack that involves systematically checking all possible combinations to guess a password or cryptographic key. |\n",
        "| Entropy (password) | A measure of unpredictability or randomness in a password, often used to evaluate its strength. Higher entropy usually means the password is harder to crack. |\n",
        "| Four Random Words | A type of passphrase that consists of a sequence of four (or more) unrelated words, intended to be easier for humans to remember but difficult for machines to guess. |\n",
        "| Passphrase | A sequence of words or other text used to control access to a computer system, program, or data. Generally longer and more secure than a password. |\n",
        "| NIST Cybersecurity Framework | A set of voluntary guidelines and best practices developed by the National Institute of Standards and Technology to help organizations manage and reduce cybersecurity risk. |\n",
        "| AES | Stands for Advanced Encryption Standard, a symmetric encryption algorithm that was established by the U.S. National Institute of Standards and Technology (NIST) in 2001. |\n",
        "| RSA | An asymmetric cryptographic algorithm named after its inventors Ron Rivest, Adi Shamir, and Leonard Adleman. It uses a pair of public and private keys for encryption and decryption. |\n",
        "| SHA | Stands for Secure Hash Algorithm, a family of cryptographic hash functions published by the National Institute of Standards and Technology. |\n",
        "| HTTPS | An extension of HTTP (Hyper Text Transfer Protocol) that is used for secure communication over a computer network, widely used on the Internet. It encrypts the data packets that are sent between the user's browser and the server using SSL/TLS. |\n",
        "| SSL | Stands for Secure Sockets Layer, a cryptographic protocol designed to provide secure communication over a computer network. Predates and has largely been replaced by TLS. |\n",
        "| TLS | Stands for Transport Layer Security, a cryptographic protocol that provides secure communication over a computer network. An updated, more secure version of SSL. |"
      ],
      "metadata": {
        "id": "Ffdc7xncOnRi"
      }
    },
    {
      "cell_type": "code",
      "source": [],
      "metadata": {
        "id": "hVA5Qt29OqIB"
      },
      "execution_count": null,
      "outputs": []
    }
  ]
}