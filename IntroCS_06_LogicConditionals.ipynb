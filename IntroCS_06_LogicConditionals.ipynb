{
  "nbformat": 4,
  "nbformat_minor": 0,
  "metadata": {
    "colab": {
      "provenance": [],
      "authorship_tag": "ABX9TyNW/8K5fPTmJWbhBM+sdH1E",
      "include_colab_link": true
    },
    "kernelspec": {
      "name": "python3",
      "display_name": "Python 3"
    },
    "language_info": {
      "name": "python"
    },
    "widgets": {
      "application/vnd.jupyter.widget-state+json": {
        "66ef1f59d6d249878685a106d796bc9b": {
          "model_module": "@jupyter-widgets/controls",
          "model_name": "TabModel",
          "model_module_version": "1.5.0",
          "state": {
            "_dom_classes": [],
            "_model_module": "@jupyter-widgets/controls",
            "_model_module_version": "1.5.0",
            "_model_name": "TabModel",
            "_titles": {
              "0": "Directions",
              "1": "Problem",
              "2": "Test Results",
              "3": "Program Output"
            },
            "_view_count": null,
            "_view_module": "@jupyter-widgets/controls",
            "_view_module_version": "1.5.0",
            "_view_name": "TabView",
            "box_style": "",
            "children": [
              "IPY_MODEL_7d15628657f64107aa0c3871ca224a82",
              "IPY_MODEL_20a1ee0cd3d74a0085efbdf73bc54352",
              "IPY_MODEL_a9ff4081ca284ed1bd163fe733c32e62",
              "IPY_MODEL_7c24824b79584a669115e4cbc2cb54ae"
            ],
            "layout": "IPY_MODEL_dcffda9164a84a6a90fba3411bc0272a",
            "selected_index": 1
          }
        },
        "7d15628657f64107aa0c3871ca224a82": {
          "model_module": "@jupyter-widgets/output",
          "model_name": "OutputModel",
          "model_module_version": "1.0.0",
          "state": {
            "_dom_classes": [],
            "_model_module": "@jupyter-widgets/output",
            "_model_module_version": "1.0.0",
            "_model_name": "OutputModel",
            "_view_count": null,
            "_view_module": "@jupyter-widgets/output",
            "_view_module_version": "1.0.0",
            "_view_name": "OutputView",
            "layout": "IPY_MODEL_9dbc213cb3194720baf2669ef2587582",
            "msg_id": "",
            "outputs": [
              {
                "output_type": "display_data",
                "data": {
                  "text/plain": "HTML(value='\\n<h2>Welcome to the Python Practice Tool</h2>\\n<p>This tool allows you to practice writing Python…",
                  "application/vnd.jupyter.widget-view+json": {
                    "version_major": 2,
                    "version_minor": 0,
                    "model_id": "7c3e275cdee84ac0bb26979fad21ad00"
                  }
                },
                "metadata": {}
              }
            ]
          }
        },
        "20a1ee0cd3d74a0085efbdf73bc54352": {
          "model_module": "@jupyter-widgets/controls",
          "model_name": "VBoxModel",
          "model_module_version": "1.5.0",
          "state": {
            "_dom_classes": [],
            "_model_module": "@jupyter-widgets/controls",
            "_model_module_version": "1.5.0",
            "_model_name": "VBoxModel",
            "_view_count": null,
            "_view_module": "@jupyter-widgets/controls",
            "_view_module_version": "1.5.0",
            "_view_name": "VBoxView",
            "box_style": "",
            "children": [
              "IPY_MODEL_b38a22dc44384488aac53d6f335aed3a",
              "IPY_MODEL_903e46349ef1495d9e96858fe675406b",
              "IPY_MODEL_15e0850e4dbd42c59045b387b57f936f",
              "IPY_MODEL_626d9afd67a446f1805d28a83c7dc929",
              "IPY_MODEL_fadfcf365611400cba00df5552e9c275"
            ],
            "layout": "IPY_MODEL_267beeeedf46471ca10d7dfde6ff4d22"
          }
        },
        "a9ff4081ca284ed1bd163fe733c32e62": {
          "model_module": "@jupyter-widgets/output",
          "model_name": "OutputModel",
          "model_module_version": "1.0.0",
          "state": {
            "_dom_classes": [],
            "_model_module": "@jupyter-widgets/output",
            "_model_module_version": "1.0.0",
            "_model_name": "OutputModel",
            "_view_count": null,
            "_view_module": "@jupyter-widgets/output",
            "_view_module_version": "1.0.0",
            "_view_name": "OutputView",
            "layout": "IPY_MODEL_fd3ebd6119834711ae3f270e2818f075",
            "msg_id": "",
            "outputs": []
          }
        },
        "7c24824b79584a669115e4cbc2cb54ae": {
          "model_module": "@jupyter-widgets/output",
          "model_name": "OutputModel",
          "model_module_version": "1.0.0",
          "state": {
            "_dom_classes": [],
            "_model_module": "@jupyter-widgets/output",
            "_model_module_version": "1.0.0",
            "_model_name": "OutputModel",
            "_view_count": null,
            "_view_module": "@jupyter-widgets/output",
            "_view_module_version": "1.0.0",
            "_view_name": "OutputView",
            "layout": "IPY_MODEL_05e3393232474771a9ac03fb83618657",
            "msg_id": "",
            "outputs": []
          }
        },
        "dcffda9164a84a6a90fba3411bc0272a": {
          "model_module": "@jupyter-widgets/base",
          "model_name": "LayoutModel",
          "model_module_version": "1.2.0",
          "state": {
            "_model_module": "@jupyter-widgets/base",
            "_model_module_version": "1.2.0",
            "_model_name": "LayoutModel",
            "_view_count": null,
            "_view_module": "@jupyter-widgets/base",
            "_view_module_version": "1.2.0",
            "_view_name": "LayoutView",
            "align_content": null,
            "align_items": null,
            "align_self": null,
            "border": null,
            "bottom": null,
            "display": null,
            "flex": null,
            "flex_flow": null,
            "grid_area": null,
            "grid_auto_columns": null,
            "grid_auto_flow": null,
            "grid_auto_rows": null,
            "grid_column": null,
            "grid_gap": null,
            "grid_row": null,
            "grid_template_areas": null,
            "grid_template_columns": null,
            "grid_template_rows": null,
            "height": null,
            "justify_content": null,
            "justify_items": null,
            "left": null,
            "margin": null,
            "max_height": null,
            "max_width": null,
            "min_height": null,
            "min_width": null,
            "object_fit": null,
            "object_position": null,
            "order": null,
            "overflow": null,
            "overflow_x": null,
            "overflow_y": null,
            "padding": null,
            "right": null,
            "top": null,
            "visibility": null,
            "width": null
          }
        },
        "b38a22dc44384488aac53d6f335aed3a": {
          "model_module": "@jupyter-widgets/controls",
          "model_name": "IntProgressModel",
          "model_module_version": "1.5.0",
          "state": {
            "_dom_classes": [],
            "_model_module": "@jupyter-widgets/controls",
            "_model_module_version": "1.5.0",
            "_model_name": "IntProgressModel",
            "_view_count": null,
            "_view_module": "@jupyter-widgets/controls",
            "_view_module_version": "1.5.0",
            "_view_name": "ProgressView",
            "bar_style": "info",
            "description": "Progress:",
            "description_tooltip": null,
            "layout": "IPY_MODEL_da8130d335424c958634720b3f6e6281",
            "max": 48,
            "min": 0,
            "orientation": "horizontal",
            "style": "IPY_MODEL_2011bea60814449e8f891ccc585049a5",
            "value": 0
          }
        },
        "903e46349ef1495d9e96858fe675406b": {
          "model_module": "@jupyter-widgets/controls",
          "model_name": "HTMLModel",
          "model_module_version": "1.5.0",
          "state": {
            "_dom_classes": [],
            "_model_module": "@jupyter-widgets/controls",
            "_model_module_version": "1.5.0",
            "_model_name": "HTMLModel",
            "_view_count": null,
            "_view_module": "@jupyter-widgets/controls",
            "_view_module_version": "1.5.0",
            "_view_name": "HTMLView",
            "description": "",
            "description_tooltip": null,
            "layout": "IPY_MODEL_eedfbe62f4184614adb8d5b238adf752",
            "placeholder": "​",
            "style": "IPY_MODEL_832ecdec2b644882b6b057d942510d4e",
            "value": "<h3>Question 1 of 48</h3><p>Write a function <b>is_mario_brother(name)</b> to: Return True if 'name' is 'Mario' or 'Luigi', else return False..</p><h4>Sample Runs:</h4><div style=\"overflow-x: auto;\"><style type=\"text/css\">\n#T_82807 th {\n  font-weight: bold;\n  text-align: left;\n  border: 1px solid black;\n  padding: 8px;\n}\n#T_82807 td {\n  text-align: left;\n  border: 1px solid black;\n  padding: 8px;\n}\n#T_82807 table {\n  border-collapse: collapse;\n  width: 100%;\n}\n#T_82807_row0_col0, #T_82807_row0_col1, #T_82807_row1_col0, #T_82807_row1_col1, #T_82807_row2_col0, #T_82807_row2_col1 {\n  text-align: left;\n  white-space: pre-wrap;\n  border: 1px solid black;\n  padding: 8px;\n}\n</style>\n<table id=\"T_82807\">\n  <thead>\n    <tr>\n      <th class=\"blank level0\" >&nbsp;</th>\n      <th id=\"T_82807_level0_col0\" class=\"col_heading level0 col0\" >Input</th>\n      <th id=\"T_82807_level0_col1\" class=\"col_heading level0 col1\" >Output</th>\n    </tr>\n  </thead>\n  <tbody>\n    <tr>\n      <th id=\"T_82807_level0_row0\" class=\"row_heading level0 row0\" >0</th>\n      <td id=\"T_82807_row0_col0\" class=\"data row0 col0\" >is_mario_brother('Bowser')</td>\n      <td id=\"T_82807_row0_col1\" class=\"data row0 col1\" >False</td>\n    </tr>\n    <tr>\n      <th id=\"T_82807_level0_row1\" class=\"row_heading level0 row1\" >1</th>\n      <td id=\"T_82807_row1_col0\" class=\"data row1 col0\" >is_mario_brother('Peach')</td>\n      <td id=\"T_82807_row1_col1\" class=\"data row1 col1\" >False</td>\n    </tr>\n    <tr>\n      <th id=\"T_82807_level0_row2\" class=\"row_heading level0 row2\" >2</th>\n      <td id=\"T_82807_row2_col0\" class=\"data row2 col0\" >is_mario_brother('Luigi')</td>\n      <td id=\"T_82807_row2_col1\" class=\"data row2 col1\" >True</td>\n    </tr>\n  </tbody>\n</table>\n</div>"
          }
        },
        "15e0850e4dbd42c59045b387b57f936f": {
          "model_module": "@jupyter-widgets/controls",
          "model_name": "TextareaModel",
          "model_module_version": "1.5.0",
          "state": {
            "_dom_classes": [],
            "_model_module": "@jupyter-widgets/controls",
            "_model_module_version": "1.5.0",
            "_model_name": "TextareaModel",
            "_view_count": null,
            "_view_module": "@jupyter-widgets/controls",
            "_view_module_version": "1.5.0",
            "_view_name": "TextareaView",
            "continuous_update": true,
            "description": "",
            "description_tooltip": null,
            "disabled": false,
            "layout": "IPY_MODEL_da015b39611d48a38ebd77aadff11bec",
            "placeholder": "Type your code here",
            "rows": null,
            "style": "IPY_MODEL_ad9d4a3f8fd4494f89551b889d8ca915",
            "value": "def is_mario_brother(name):\n    pass"
          }
        },
        "626d9afd67a446f1805d28a83c7dc929": {
          "model_module": "@jupyter-widgets/controls",
          "model_name": "HBoxModel",
          "model_module_version": "1.5.0",
          "state": {
            "_dom_classes": [],
            "_model_module": "@jupyter-widgets/controls",
            "_model_module_version": "1.5.0",
            "_model_name": "HBoxModel",
            "_view_count": null,
            "_view_module": "@jupyter-widgets/controls",
            "_view_module_version": "1.5.0",
            "_view_name": "HBoxView",
            "box_style": "",
            "children": [
              "IPY_MODEL_70917750bc974262b77591f53820756a",
              "IPY_MODEL_a101893081714de3850aeb4ec01636c3",
              "IPY_MODEL_9eded6660d01430ab48d295a579a9e07",
              "IPY_MODEL_8c08ffb0cfd94a1db6e2b338d24364ed",
              "IPY_MODEL_0244fd7d338d4e1abb108ab7c6a5523a"
            ],
            "layout": "IPY_MODEL_7f9a9903a14c4b64bf336cdcf9bb2a58"
          }
        },
        "fadfcf365611400cba00df5552e9c275": {
          "model_module": "@jupyter-widgets/output",
          "model_name": "OutputModel",
          "model_module_version": "1.0.0",
          "state": {
            "_dom_classes": [],
            "_model_module": "@jupyter-widgets/output",
            "_model_module_version": "1.0.0",
            "_model_name": "OutputModel",
            "_view_count": null,
            "_view_module": "@jupyter-widgets/output",
            "_view_module_version": "1.0.0",
            "_view_name": "OutputView",
            "layout": "IPY_MODEL_fcdbf5140f2b42e1a44ec359a97f1b5f",
            "msg_id": "",
            "outputs": []
          }
        },
        "267beeeedf46471ca10d7dfde6ff4d22": {
          "model_module": "@jupyter-widgets/base",
          "model_name": "LayoutModel",
          "model_module_version": "1.2.0",
          "state": {
            "_model_module": "@jupyter-widgets/base",
            "_model_module_version": "1.2.0",
            "_model_name": "LayoutModel",
            "_view_count": null,
            "_view_module": "@jupyter-widgets/base",
            "_view_module_version": "1.2.0",
            "_view_name": "LayoutView",
            "align_content": null,
            "align_items": null,
            "align_self": null,
            "border": null,
            "bottom": null,
            "display": null,
            "flex": null,
            "flex_flow": null,
            "grid_area": null,
            "grid_auto_columns": null,
            "grid_auto_flow": null,
            "grid_auto_rows": null,
            "grid_column": null,
            "grid_gap": null,
            "grid_row": null,
            "grid_template_areas": null,
            "grid_template_columns": null,
            "grid_template_rows": null,
            "height": null,
            "justify_content": null,
            "justify_items": null,
            "left": null,
            "margin": null,
            "max_height": null,
            "max_width": null,
            "min_height": null,
            "min_width": null,
            "object_fit": null,
            "object_position": null,
            "order": null,
            "overflow": null,
            "overflow_x": null,
            "overflow_y": null,
            "padding": null,
            "right": null,
            "top": null,
            "visibility": null,
            "width": null
          }
        },
        "da8130d335424c958634720b3f6e6281": {
          "model_module": "@jupyter-widgets/base",
          "model_name": "LayoutModel",
          "model_module_version": "1.2.0",
          "state": {
            "_model_module": "@jupyter-widgets/base",
            "_model_module_version": "1.2.0",
            "_model_name": "LayoutModel",
            "_view_count": null,
            "_view_module": "@jupyter-widgets/base",
            "_view_module_version": "1.2.0",
            "_view_name": "LayoutView",
            "align_content": null,
            "align_items": null,
            "align_self": null,
            "border": null,
            "bottom": null,
            "display": null,
            "flex": null,
            "flex_flow": null,
            "grid_area": null,
            "grid_auto_columns": null,
            "grid_auto_flow": null,
            "grid_auto_rows": null,
            "grid_column": null,
            "grid_gap": null,
            "grid_row": null,
            "grid_template_areas": null,
            "grid_template_columns": null,
            "grid_template_rows": null,
            "height": null,
            "justify_content": null,
            "justify_items": null,
            "left": null,
            "margin": null,
            "max_height": null,
            "max_width": null,
            "min_height": null,
            "min_width": null,
            "object_fit": null,
            "object_position": null,
            "order": null,
            "overflow": null,
            "overflow_x": null,
            "overflow_y": null,
            "padding": null,
            "right": null,
            "top": null,
            "visibility": null,
            "width": "100%"
          }
        },
        "2011bea60814449e8f891ccc585049a5": {
          "model_module": "@jupyter-widgets/controls",
          "model_name": "ProgressStyleModel",
          "model_module_version": "1.5.0",
          "state": {
            "_model_module": "@jupyter-widgets/controls",
            "_model_module_version": "1.5.0",
            "_model_name": "ProgressStyleModel",
            "_view_count": null,
            "_view_module": "@jupyter-widgets/base",
            "_view_module_version": "1.2.0",
            "_view_name": "StyleView",
            "bar_color": null,
            "description_width": ""
          }
        },
        "eedfbe62f4184614adb8d5b238adf752": {
          "model_module": "@jupyter-widgets/base",
          "model_name": "LayoutModel",
          "model_module_version": "1.2.0",
          "state": {
            "_model_module": "@jupyter-widgets/base",
            "_model_module_version": "1.2.0",
            "_model_name": "LayoutModel",
            "_view_count": null,
            "_view_module": "@jupyter-widgets/base",
            "_view_module_version": "1.2.0",
            "_view_name": "LayoutView",
            "align_content": null,
            "align_items": null,
            "align_self": null,
            "border": null,
            "bottom": null,
            "display": null,
            "flex": null,
            "flex_flow": null,
            "grid_area": null,
            "grid_auto_columns": null,
            "grid_auto_flow": null,
            "grid_auto_rows": null,
            "grid_column": null,
            "grid_gap": null,
            "grid_row": null,
            "grid_template_areas": null,
            "grid_template_columns": null,
            "grid_template_rows": null,
            "height": null,
            "justify_content": null,
            "justify_items": null,
            "left": null,
            "margin": null,
            "max_height": null,
            "max_width": null,
            "min_height": null,
            "min_width": null,
            "object_fit": null,
            "object_position": null,
            "order": null,
            "overflow": null,
            "overflow_x": null,
            "overflow_y": null,
            "padding": null,
            "right": null,
            "top": null,
            "visibility": null,
            "width": null
          }
        },
        "832ecdec2b644882b6b057d942510d4e": {
          "model_module": "@jupyter-widgets/controls",
          "model_name": "DescriptionStyleModel",
          "model_module_version": "1.5.0",
          "state": {
            "_model_module": "@jupyter-widgets/controls",
            "_model_module_version": "1.5.0",
            "_model_name": "DescriptionStyleModel",
            "_view_count": null,
            "_view_module": "@jupyter-widgets/base",
            "_view_module_version": "1.2.0",
            "_view_name": "StyleView",
            "description_width": ""
          }
        },
        "da015b39611d48a38ebd77aadff11bec": {
          "model_module": "@jupyter-widgets/base",
          "model_name": "LayoutModel",
          "model_module_version": "1.2.0",
          "state": {
            "_model_module": "@jupyter-widgets/base",
            "_model_module_version": "1.2.0",
            "_model_name": "LayoutModel",
            "_view_count": null,
            "_view_module": "@jupyter-widgets/base",
            "_view_module_version": "1.2.0",
            "_view_name": "LayoutView",
            "align_content": null,
            "align_items": null,
            "align_self": null,
            "border": null,
            "bottom": null,
            "display": null,
            "flex": null,
            "flex_flow": null,
            "grid_area": null,
            "grid_auto_columns": null,
            "grid_auto_flow": null,
            "grid_auto_rows": null,
            "grid_column": null,
            "grid_gap": null,
            "grid_row": null,
            "grid_template_areas": null,
            "grid_template_columns": null,
            "grid_template_rows": null,
            "height": "200px",
            "justify_content": null,
            "justify_items": null,
            "left": null,
            "margin": null,
            "max_height": null,
            "max_width": null,
            "min_height": null,
            "min_width": null,
            "object_fit": null,
            "object_position": null,
            "order": null,
            "overflow": null,
            "overflow_x": null,
            "overflow_y": null,
            "padding": null,
            "right": null,
            "top": null,
            "visibility": null,
            "width": "100%"
          }
        },
        "ad9d4a3f8fd4494f89551b889d8ca915": {
          "model_module": "@jupyter-widgets/controls",
          "model_name": "DescriptionStyleModel",
          "model_module_version": "1.5.0",
          "state": {
            "_model_module": "@jupyter-widgets/controls",
            "_model_module_version": "1.5.0",
            "_model_name": "DescriptionStyleModel",
            "_view_count": null,
            "_view_module": "@jupyter-widgets/base",
            "_view_module_version": "1.2.0",
            "_view_name": "StyleView",
            "description_width": ""
          }
        },
        "70917750bc974262b77591f53820756a": {
          "model_module": "@jupyter-widgets/controls",
          "model_name": "ButtonModel",
          "model_module_version": "1.5.0",
          "state": {
            "_dom_classes": [],
            "_model_module": "@jupyter-widgets/controls",
            "_model_module_version": "1.5.0",
            "_model_name": "ButtonModel",
            "_view_count": null,
            "_view_module": "@jupyter-widgets/controls",
            "_view_module_version": "1.5.0",
            "_view_name": "ButtonView",
            "button_style": "success",
            "description": "Run",
            "disabled": false,
            "icon": "check",
            "layout": "IPY_MODEL_d796dd5696dc4775910313cad899988c",
            "style": "IPY_MODEL_b7a3262c7e454f6580d4445666183997",
            "tooltip": "Run your code"
          }
        },
        "a101893081714de3850aeb4ec01636c3": {
          "model_module": "@jupyter-widgets/controls",
          "model_name": "ButtonModel",
          "model_module_version": "1.5.0",
          "state": {
            "_dom_classes": [],
            "_model_module": "@jupyter-widgets/controls",
            "_model_module_version": "1.5.0",
            "_model_name": "ButtonModel",
            "_view_count": null,
            "_view_module": "@jupyter-widgets/controls",
            "_view_module_version": "1.5.0",
            "_view_name": "ButtonView",
            "button_style": "warning",
            "description": "Retry",
            "disabled": false,
            "icon": "refresh",
            "layout": "IPY_MODEL_b132484214d245baa9605784fd161c01",
            "style": "IPY_MODEL_b1e579ac782c447384288a22677fd4de",
            "tooltip": "Reset your code"
          }
        },
        "9eded6660d01430ab48d295a579a9e07": {
          "model_module": "@jupyter-widgets/controls",
          "model_name": "ButtonModel",
          "model_module_version": "1.5.0",
          "state": {
            "_dom_classes": [],
            "_model_module": "@jupyter-widgets/controls",
            "_model_module_version": "1.5.0",
            "_model_name": "ButtonModel",
            "_view_count": null,
            "_view_module": "@jupyter-widgets/controls",
            "_view_module_version": "1.5.0",
            "_view_name": "ButtonView",
            "button_style": "info",
            "description": "Next",
            "disabled": true,
            "icon": "arrow-right",
            "layout": "IPY_MODEL_96ca39e16d344f75b7c9ab7efeaa9656",
            "style": "IPY_MODEL_cf0ecc7fd2a4417e89154a720c26c572",
            "tooltip": "Next question"
          }
        },
        "8c08ffb0cfd94a1db6e2b338d24364ed": {
          "model_module": "@jupyter-widgets/controls",
          "model_name": "ButtonModel",
          "model_module_version": "1.5.0",
          "state": {
            "_dom_classes": [],
            "_model_module": "@jupyter-widgets/controls",
            "_model_module_version": "1.5.0",
            "_model_name": "ButtonModel",
            "_view_count": null,
            "_view_module": "@jupyter-widgets/controls",
            "_view_module_version": "1.5.0",
            "_view_name": "ButtonView",
            "button_style": "primary",
            "description": "Show Hint",
            "disabled": false,
            "icon": "lightbulb-o",
            "layout": "IPY_MODEL_d4770aa834a7412b96653c0bf0605f38",
            "style": "IPY_MODEL_9f8b450488774a1c8b64538e379e5849",
            "tooltip": "Show a hint"
          }
        },
        "0244fd7d338d4e1abb108ab7c6a5523a": {
          "model_module": "@jupyter-widgets/controls",
          "model_name": "DropdownModel",
          "model_module_version": "1.5.0",
          "state": {
            "_dom_classes": [],
            "_model_module": "@jupyter-widgets/controls",
            "_model_module_version": "1.5.0",
            "_model_name": "DropdownModel",
            "_options_labels": [
              "Problem 1",
              "Problem 2",
              "Problem 3",
              "Problem 4",
              "Problem 5",
              "Problem 6",
              "Problem 7",
              "Problem 8",
              "Problem 9",
              "Problem 10",
              "Problem 11",
              "Problem 12",
              "Problem 13",
              "Problem 14",
              "Problem 15",
              "Problem 16",
              "Problem 17",
              "Problem 18",
              "Problem 19",
              "Problem 20",
              "Problem 21",
              "Problem 22",
              "Problem 23",
              "Problem 24",
              "Problem 25",
              "Problem 26",
              "Problem 27",
              "Problem 28",
              "Problem 29",
              "Problem 30",
              "Problem 31",
              "Problem 32",
              "Problem 33",
              "Problem 34",
              "Problem 35",
              "Problem 36",
              "Problem 37",
              "Problem 38",
              "Problem 39",
              "Problem 40",
              "Problem 41",
              "Problem 42",
              "Problem 43",
              "Problem 44",
              "Problem 45",
              "Problem 46",
              "Problem 47",
              "Problem 48"
            ],
            "_view_count": null,
            "_view_module": "@jupyter-widgets/controls",
            "_view_module_version": "1.5.0",
            "_view_name": "DropdownView",
            "description": "Skip to:",
            "description_tooltip": null,
            "disabled": false,
            "index": 0,
            "layout": "IPY_MODEL_f05e792a5f2b4b7d81c3da9c4d2eb205",
            "style": "IPY_MODEL_32a9d7a9148b4580b731b3c9adc15c18"
          }
        },
        "7f9a9903a14c4b64bf336cdcf9bb2a58": {
          "model_module": "@jupyter-widgets/base",
          "model_name": "LayoutModel",
          "model_module_version": "1.2.0",
          "state": {
            "_model_module": "@jupyter-widgets/base",
            "_model_module_version": "1.2.0",
            "_model_name": "LayoutModel",
            "_view_count": null,
            "_view_module": "@jupyter-widgets/base",
            "_view_module_version": "1.2.0",
            "_view_name": "LayoutView",
            "align_content": null,
            "align_items": null,
            "align_self": null,
            "border": null,
            "bottom": null,
            "display": null,
            "flex": null,
            "flex_flow": null,
            "grid_area": null,
            "grid_auto_columns": null,
            "grid_auto_flow": null,
            "grid_auto_rows": null,
            "grid_column": null,
            "grid_gap": null,
            "grid_row": null,
            "grid_template_areas": null,
            "grid_template_columns": null,
            "grid_template_rows": null,
            "height": null,
            "justify_content": null,
            "justify_items": null,
            "left": null,
            "margin": null,
            "max_height": null,
            "max_width": null,
            "min_height": null,
            "min_width": null,
            "object_fit": null,
            "object_position": null,
            "order": null,
            "overflow": null,
            "overflow_x": null,
            "overflow_y": null,
            "padding": null,
            "right": null,
            "top": null,
            "visibility": null,
            "width": null
          }
        },
        "d796dd5696dc4775910313cad899988c": {
          "model_module": "@jupyter-widgets/base",
          "model_name": "LayoutModel",
          "model_module_version": "1.2.0",
          "state": {
            "_model_module": "@jupyter-widgets/base",
            "_model_module_version": "1.2.0",
            "_model_name": "LayoutModel",
            "_view_count": null,
            "_view_module": "@jupyter-widgets/base",
            "_view_module_version": "1.2.0",
            "_view_name": "LayoutView",
            "align_content": null,
            "align_items": null,
            "align_self": null,
            "border": null,
            "bottom": null,
            "display": null,
            "flex": null,
            "flex_flow": null,
            "grid_area": null,
            "grid_auto_columns": null,
            "grid_auto_flow": null,
            "grid_auto_rows": null,
            "grid_column": null,
            "grid_gap": null,
            "grid_row": null,
            "grid_template_areas": null,
            "grid_template_columns": null,
            "grid_template_rows": null,
            "height": null,
            "justify_content": null,
            "justify_items": null,
            "left": null,
            "margin": null,
            "max_height": null,
            "max_width": null,
            "min_height": null,
            "min_width": null,
            "object_fit": null,
            "object_position": null,
            "order": null,
            "overflow": null,
            "overflow_x": null,
            "overflow_y": null,
            "padding": null,
            "right": null,
            "top": null,
            "visibility": null,
            "width": null
          }
        },
        "b7a3262c7e454f6580d4445666183997": {
          "model_module": "@jupyter-widgets/controls",
          "model_name": "ButtonStyleModel",
          "model_module_version": "1.5.0",
          "state": {
            "_model_module": "@jupyter-widgets/controls",
            "_model_module_version": "1.5.0",
            "_model_name": "ButtonStyleModel",
            "_view_count": null,
            "_view_module": "@jupyter-widgets/base",
            "_view_module_version": "1.2.0",
            "_view_name": "StyleView",
            "button_color": null,
            "font_weight": ""
          }
        },
        "b132484214d245baa9605784fd161c01": {
          "model_module": "@jupyter-widgets/base",
          "model_name": "LayoutModel",
          "model_module_version": "1.2.0",
          "state": {
            "_model_module": "@jupyter-widgets/base",
            "_model_module_version": "1.2.0",
            "_model_name": "LayoutModel",
            "_view_count": null,
            "_view_module": "@jupyter-widgets/base",
            "_view_module_version": "1.2.0",
            "_view_name": "LayoutView",
            "align_content": null,
            "align_items": null,
            "align_self": null,
            "border": null,
            "bottom": null,
            "display": null,
            "flex": null,
            "flex_flow": null,
            "grid_area": null,
            "grid_auto_columns": null,
            "grid_auto_flow": null,
            "grid_auto_rows": null,
            "grid_column": null,
            "grid_gap": null,
            "grid_row": null,
            "grid_template_areas": null,
            "grid_template_columns": null,
            "grid_template_rows": null,
            "height": null,
            "justify_content": null,
            "justify_items": null,
            "left": null,
            "margin": null,
            "max_height": null,
            "max_width": null,
            "min_height": null,
            "min_width": null,
            "object_fit": null,
            "object_position": null,
            "order": null,
            "overflow": null,
            "overflow_x": null,
            "overflow_y": null,
            "padding": null,
            "right": null,
            "top": null,
            "visibility": null,
            "width": null
          }
        },
        "b1e579ac782c447384288a22677fd4de": {
          "model_module": "@jupyter-widgets/controls",
          "model_name": "ButtonStyleModel",
          "model_module_version": "1.5.0",
          "state": {
            "_model_module": "@jupyter-widgets/controls",
            "_model_module_version": "1.5.0",
            "_model_name": "ButtonStyleModel",
            "_view_count": null,
            "_view_module": "@jupyter-widgets/base",
            "_view_module_version": "1.2.0",
            "_view_name": "StyleView",
            "button_color": null,
            "font_weight": ""
          }
        },
        "96ca39e16d344f75b7c9ab7efeaa9656": {
          "model_module": "@jupyter-widgets/base",
          "model_name": "LayoutModel",
          "model_module_version": "1.2.0",
          "state": {
            "_model_module": "@jupyter-widgets/base",
            "_model_module_version": "1.2.0",
            "_model_name": "LayoutModel",
            "_view_count": null,
            "_view_module": "@jupyter-widgets/base",
            "_view_module_version": "1.2.0",
            "_view_name": "LayoutView",
            "align_content": null,
            "align_items": null,
            "align_self": null,
            "border": null,
            "bottom": null,
            "display": null,
            "flex": null,
            "flex_flow": null,
            "grid_area": null,
            "grid_auto_columns": null,
            "grid_auto_flow": null,
            "grid_auto_rows": null,
            "grid_column": null,
            "grid_gap": null,
            "grid_row": null,
            "grid_template_areas": null,
            "grid_template_columns": null,
            "grid_template_rows": null,
            "height": null,
            "justify_content": null,
            "justify_items": null,
            "left": null,
            "margin": null,
            "max_height": null,
            "max_width": null,
            "min_height": null,
            "min_width": null,
            "object_fit": null,
            "object_position": null,
            "order": null,
            "overflow": null,
            "overflow_x": null,
            "overflow_y": null,
            "padding": null,
            "right": null,
            "top": null,
            "visibility": null,
            "width": null
          }
        },
        "cf0ecc7fd2a4417e89154a720c26c572": {
          "model_module": "@jupyter-widgets/controls",
          "model_name": "ButtonStyleModel",
          "model_module_version": "1.5.0",
          "state": {
            "_model_module": "@jupyter-widgets/controls",
            "_model_module_version": "1.5.0",
            "_model_name": "ButtonStyleModel",
            "_view_count": null,
            "_view_module": "@jupyter-widgets/base",
            "_view_module_version": "1.2.0",
            "_view_name": "StyleView",
            "button_color": null,
            "font_weight": ""
          }
        },
        "d4770aa834a7412b96653c0bf0605f38": {
          "model_module": "@jupyter-widgets/base",
          "model_name": "LayoutModel",
          "model_module_version": "1.2.0",
          "state": {
            "_model_module": "@jupyter-widgets/base",
            "_model_module_version": "1.2.0",
            "_model_name": "LayoutModel",
            "_view_count": null,
            "_view_module": "@jupyter-widgets/base",
            "_view_module_version": "1.2.0",
            "_view_name": "LayoutView",
            "align_content": null,
            "align_items": null,
            "align_self": null,
            "border": null,
            "bottom": null,
            "display": null,
            "flex": null,
            "flex_flow": null,
            "grid_area": null,
            "grid_auto_columns": null,
            "grid_auto_flow": null,
            "grid_auto_rows": null,
            "grid_column": null,
            "grid_gap": null,
            "grid_row": null,
            "grid_template_areas": null,
            "grid_template_columns": null,
            "grid_template_rows": null,
            "height": null,
            "justify_content": null,
            "justify_items": null,
            "left": null,
            "margin": null,
            "max_height": null,
            "max_width": null,
            "min_height": null,
            "min_width": null,
            "object_fit": null,
            "object_position": null,
            "order": null,
            "overflow": null,
            "overflow_x": null,
            "overflow_y": null,
            "padding": null,
            "right": null,
            "top": null,
            "visibility": null,
            "width": null
          }
        },
        "9f8b450488774a1c8b64538e379e5849": {
          "model_module": "@jupyter-widgets/controls",
          "model_name": "ButtonStyleModel",
          "model_module_version": "1.5.0",
          "state": {
            "_model_module": "@jupyter-widgets/controls",
            "_model_module_version": "1.5.0",
            "_model_name": "ButtonStyleModel",
            "_view_count": null,
            "_view_module": "@jupyter-widgets/base",
            "_view_module_version": "1.2.0",
            "_view_name": "StyleView",
            "button_color": null,
            "font_weight": ""
          }
        },
        "f05e792a5f2b4b7d81c3da9c4d2eb205": {
          "model_module": "@jupyter-widgets/base",
          "model_name": "LayoutModel",
          "model_module_version": "1.2.0",
          "state": {
            "_model_module": "@jupyter-widgets/base",
            "_model_module_version": "1.2.0",
            "_model_name": "LayoutModel",
            "_view_count": null,
            "_view_module": "@jupyter-widgets/base",
            "_view_module_version": "1.2.0",
            "_view_name": "LayoutView",
            "align_content": null,
            "align_items": null,
            "align_self": null,
            "border": null,
            "bottom": null,
            "display": null,
            "flex": null,
            "flex_flow": null,
            "grid_area": null,
            "grid_auto_columns": null,
            "grid_auto_flow": null,
            "grid_auto_rows": null,
            "grid_column": null,
            "grid_gap": null,
            "grid_row": null,
            "grid_template_areas": null,
            "grid_template_columns": null,
            "grid_template_rows": null,
            "height": null,
            "justify_content": null,
            "justify_items": null,
            "left": null,
            "margin": null,
            "max_height": null,
            "max_width": null,
            "min_height": null,
            "min_width": null,
            "object_fit": null,
            "object_position": null,
            "order": null,
            "overflow": null,
            "overflow_x": null,
            "overflow_y": null,
            "padding": null,
            "right": null,
            "top": null,
            "visibility": null,
            "width": "200px"
          }
        },
        "32a9d7a9148b4580b731b3c9adc15c18": {
          "model_module": "@jupyter-widgets/controls",
          "model_name": "DescriptionStyleModel",
          "model_module_version": "1.5.0",
          "state": {
            "_model_module": "@jupyter-widgets/controls",
            "_model_module_version": "1.5.0",
            "_model_name": "DescriptionStyleModel",
            "_view_count": null,
            "_view_module": "@jupyter-widgets/base",
            "_view_module_version": "1.2.0",
            "_view_name": "StyleView",
            "description_width": ""
          }
        },
        "7c3e275cdee84ac0bb26979fad21ad00": {
          "model_module": "@jupyter-widgets/controls",
          "model_name": "HTMLModel",
          "model_module_version": "1.5.0",
          "state": {
            "_dom_classes": [],
            "_model_module": "@jupyter-widgets/controls",
            "_model_module_version": "1.5.0",
            "_model_name": "HTMLModel",
            "_view_count": null,
            "_view_module": "@jupyter-widgets/controls",
            "_view_module_version": "1.5.0",
            "_view_name": "HTMLView",
            "description": "",
            "description_tooltip": null,
            "layout": "IPY_MODEL_43253402cab34845939ac41cf39ff828",
            "placeholder": "​",
            "style": "IPY_MODEL_42298db5247c444f82ed95141cef4839",
            "value": "\n<h2>Welcome to the Python Practice Tool</h2>\n<p>This tool allows you to practice writing Python functions.</p>\n<p><strong>Instructions:</strong></p>\n<ul>\n<li>Read the problem description in the <strong>Problem</strong> tab.</li>\n<li>Write your function in the code area provided.</li>\n<li>Click <strong>Run</strong> to test your code.</li>\n<li>Click <strong>Retry</strong> to reset your code.</li>\n<li>Click <strong>Next</strong> to proceed after passing all tests.</li>\n<li>Use <strong>Show Hint</strong> if you need assistance.</li>\n<li>Select a problem from <strong>Skip to</strong> to navigate directly.</li>\n</ul>\n<p><strong>Python Function Basics:</strong></p>\n<ul>\n<li>Define functions using <code>def</code>.</li>\n<li>Specify parameters in parentheses.</li>\n<li>Indent the function body.</li>\n<li>Use <code>return</code> to output a value.</li>\n</ul>\n"
          }
        },
        "9dbc213cb3194720baf2669ef2587582": {
          "model_module": "@jupyter-widgets/base",
          "model_name": "LayoutModel",
          "model_module_version": "1.2.0",
          "state": {
            "_model_module": "@jupyter-widgets/base",
            "_model_module_version": "1.2.0",
            "_model_name": "LayoutModel",
            "_view_count": null,
            "_view_module": "@jupyter-widgets/base",
            "_view_module_version": "1.2.0",
            "_view_name": "LayoutView",
            "align_content": null,
            "align_items": null,
            "align_self": null,
            "border": null,
            "bottom": null,
            "display": null,
            "flex": null,
            "flex_flow": null,
            "grid_area": null,
            "grid_auto_columns": null,
            "grid_auto_flow": null,
            "grid_auto_rows": null,
            "grid_column": null,
            "grid_gap": null,
            "grid_row": null,
            "grid_template_areas": null,
            "grid_template_columns": null,
            "grid_template_rows": null,
            "height": null,
            "justify_content": null,
            "justify_items": null,
            "left": null,
            "margin": null,
            "max_height": null,
            "max_width": null,
            "min_height": null,
            "min_width": null,
            "object_fit": null,
            "object_position": null,
            "order": null,
            "overflow": null,
            "overflow_x": null,
            "overflow_y": null,
            "padding": null,
            "right": null,
            "top": null,
            "visibility": null,
            "width": null
          }
        },
        "fd3ebd6119834711ae3f270e2818f075": {
          "model_module": "@jupyter-widgets/base",
          "model_name": "LayoutModel",
          "model_module_version": "1.2.0",
          "state": {
            "_model_module": "@jupyter-widgets/base",
            "_model_module_version": "1.2.0",
            "_model_name": "LayoutModel",
            "_view_count": null,
            "_view_module": "@jupyter-widgets/base",
            "_view_module_version": "1.2.0",
            "_view_name": "LayoutView",
            "align_content": null,
            "align_items": null,
            "align_self": null,
            "border": null,
            "bottom": null,
            "display": null,
            "flex": null,
            "flex_flow": null,
            "grid_area": null,
            "grid_auto_columns": null,
            "grid_auto_flow": null,
            "grid_auto_rows": null,
            "grid_column": null,
            "grid_gap": null,
            "grid_row": null,
            "grid_template_areas": null,
            "grid_template_columns": null,
            "grid_template_rows": null,
            "height": null,
            "justify_content": null,
            "justify_items": null,
            "left": null,
            "margin": null,
            "max_height": null,
            "max_width": null,
            "min_height": null,
            "min_width": null,
            "object_fit": null,
            "object_position": null,
            "order": null,
            "overflow": null,
            "overflow_x": null,
            "overflow_y": null,
            "padding": null,
            "right": null,
            "top": null,
            "visibility": null,
            "width": null
          }
        },
        "05e3393232474771a9ac03fb83618657": {
          "model_module": "@jupyter-widgets/base",
          "model_name": "LayoutModel",
          "model_module_version": "1.2.0",
          "state": {
            "_model_module": "@jupyter-widgets/base",
            "_model_module_version": "1.2.0",
            "_model_name": "LayoutModel",
            "_view_count": null,
            "_view_module": "@jupyter-widgets/base",
            "_view_module_version": "1.2.0",
            "_view_name": "LayoutView",
            "align_content": null,
            "align_items": null,
            "align_self": null,
            "border": null,
            "bottom": null,
            "display": null,
            "flex": null,
            "flex_flow": null,
            "grid_area": null,
            "grid_auto_columns": null,
            "grid_auto_flow": null,
            "grid_auto_rows": null,
            "grid_column": null,
            "grid_gap": null,
            "grid_row": null,
            "grid_template_areas": null,
            "grid_template_columns": null,
            "grid_template_rows": null,
            "height": null,
            "justify_content": null,
            "justify_items": null,
            "left": null,
            "margin": null,
            "max_height": null,
            "max_width": null,
            "min_height": null,
            "min_width": null,
            "object_fit": null,
            "object_position": null,
            "order": null,
            "overflow": null,
            "overflow_x": null,
            "overflow_y": null,
            "padding": null,
            "right": null,
            "top": null,
            "visibility": null,
            "width": null
          }
        },
        "fcdbf5140f2b42e1a44ec359a97f1b5f": {
          "model_module": "@jupyter-widgets/base",
          "model_name": "LayoutModel",
          "model_module_version": "1.2.0",
          "state": {
            "_model_module": "@jupyter-widgets/base",
            "_model_module_version": "1.2.0",
            "_model_name": "LayoutModel",
            "_view_count": null,
            "_view_module": "@jupyter-widgets/base",
            "_view_module_version": "1.2.0",
            "_view_name": "LayoutView",
            "align_content": null,
            "align_items": null,
            "align_self": null,
            "border": null,
            "bottom": null,
            "display": null,
            "flex": null,
            "flex_flow": null,
            "grid_area": null,
            "grid_auto_columns": null,
            "grid_auto_flow": null,
            "grid_auto_rows": null,
            "grid_column": null,
            "grid_gap": null,
            "grid_row": null,
            "grid_template_areas": null,
            "grid_template_columns": null,
            "grid_template_rows": null,
            "height": null,
            "justify_content": null,
            "justify_items": null,
            "left": null,
            "margin": null,
            "max_height": null,
            "max_width": null,
            "min_height": null,
            "min_width": null,
            "object_fit": null,
            "object_position": null,
            "order": null,
            "overflow": null,
            "overflow_x": null,
            "overflow_y": null,
            "padding": null,
            "right": null,
            "top": null,
            "visibility": null,
            "width": null
          }
        },
        "43253402cab34845939ac41cf39ff828": {
          "model_module": "@jupyter-widgets/base",
          "model_name": "LayoutModel",
          "model_module_version": "1.2.0",
          "state": {
            "_model_module": "@jupyter-widgets/base",
            "_model_module_version": "1.2.0",
            "_model_name": "LayoutModel",
            "_view_count": null,
            "_view_module": "@jupyter-widgets/base",
            "_view_module_version": "1.2.0",
            "_view_name": "LayoutView",
            "align_content": null,
            "align_items": null,
            "align_self": null,
            "border": null,
            "bottom": null,
            "display": null,
            "flex": null,
            "flex_flow": null,
            "grid_area": null,
            "grid_auto_columns": null,
            "grid_auto_flow": null,
            "grid_auto_rows": null,
            "grid_column": null,
            "grid_gap": null,
            "grid_row": null,
            "grid_template_areas": null,
            "grid_template_columns": null,
            "grid_template_rows": null,
            "height": null,
            "justify_content": null,
            "justify_items": null,
            "left": null,
            "margin": null,
            "max_height": null,
            "max_width": null,
            "min_height": null,
            "min_width": null,
            "object_fit": null,
            "object_position": null,
            "order": null,
            "overflow": null,
            "overflow_x": null,
            "overflow_y": null,
            "padding": null,
            "right": null,
            "top": null,
            "visibility": null,
            "width": null
          }
        },
        "42298db5247c444f82ed95141cef4839": {
          "model_module": "@jupyter-widgets/controls",
          "model_name": "DescriptionStyleModel",
          "model_module_version": "1.5.0",
          "state": {
            "_model_module": "@jupyter-widgets/controls",
            "_model_module_version": "1.5.0",
            "_model_name": "DescriptionStyleModel",
            "_view_count": null,
            "_view_module": "@jupyter-widgets/base",
            "_view_module_version": "1.2.0",
            "_view_name": "StyleView",
            "description_width": ""
          }
        },
        "c74863c5b1a64190ac06092c233b8a27": {
          "model_module": "@jupyter-widgets/controls",
          "model_name": "CheckboxModel",
          "model_module_version": "1.5.0",
          "state": {
            "_dom_classes": [],
            "_model_module": "@jupyter-widgets/controls",
            "_model_module_version": "1.5.0",
            "_model_name": "CheckboxModel",
            "_view_count": null,
            "_view_module": "@jupyter-widgets/controls",
            "_view_module_version": "1.5.0",
            "_view_name": "CheckboxView",
            "description": "Shiva is a Knight",
            "description_tooltip": null,
            "disabled": false,
            "indent": true,
            "layout": "IPY_MODEL_1a39e6c06e1a4377bf242de16f08e8ef",
            "style": "IPY_MODEL_3aeb9e59e2174cfbb7195b61886a9f2d",
            "value": false
          }
        },
        "1a39e6c06e1a4377bf242de16f08e8ef": {
          "model_module": "@jupyter-widgets/base",
          "model_name": "LayoutModel",
          "model_module_version": "1.2.0",
          "state": {
            "_model_module": "@jupyter-widgets/base",
            "_model_module_version": "1.2.0",
            "_model_name": "LayoutModel",
            "_view_count": null,
            "_view_module": "@jupyter-widgets/base",
            "_view_module_version": "1.2.0",
            "_view_name": "LayoutView",
            "align_content": null,
            "align_items": null,
            "align_self": null,
            "border": null,
            "bottom": null,
            "display": null,
            "flex": null,
            "flex_flow": null,
            "grid_area": null,
            "grid_auto_columns": null,
            "grid_auto_flow": null,
            "grid_auto_rows": null,
            "grid_column": null,
            "grid_gap": null,
            "grid_row": null,
            "grid_template_areas": null,
            "grid_template_columns": null,
            "grid_template_rows": null,
            "height": null,
            "justify_content": null,
            "justify_items": null,
            "left": null,
            "margin": null,
            "max_height": null,
            "max_width": null,
            "min_height": null,
            "min_width": null,
            "object_fit": null,
            "object_position": null,
            "order": null,
            "overflow": null,
            "overflow_x": null,
            "overflow_y": null,
            "padding": null,
            "right": null,
            "top": null,
            "visibility": null,
            "width": null
          }
        },
        "3aeb9e59e2174cfbb7195b61886a9f2d": {
          "model_module": "@jupyter-widgets/controls",
          "model_name": "DescriptionStyleModel",
          "model_module_version": "1.5.0",
          "state": {
            "_model_module": "@jupyter-widgets/controls",
            "_model_module_version": "1.5.0",
            "_model_name": "DescriptionStyleModel",
            "_view_count": null,
            "_view_module": "@jupyter-widgets/base",
            "_view_module_version": "1.2.0",
            "_view_name": "StyleView",
            "description_width": ""
          }
        },
        "372439691e474cf194ecf08725cb7c65": {
          "model_module": "@jupyter-widgets/controls",
          "model_name": "CheckboxModel",
          "model_module_version": "1.5.0",
          "state": {
            "_dom_classes": [],
            "_model_module": "@jupyter-widgets/controls",
            "_model_module_version": "1.5.0",
            "_model_name": "CheckboxModel",
            "_view_count": null,
            "_view_module": "@jupyter-widgets/controls",
            "_view_module_version": "1.5.0",
            "_view_name": "CheckboxView",
            "description": "Shiva is a Knave",
            "description_tooltip": null,
            "disabled": false,
            "indent": true,
            "layout": "IPY_MODEL_a0bbabfc8a3a420b90056a859db781c0",
            "style": "IPY_MODEL_8591fe2bacca43f7b225896943a2d3e4",
            "value": false
          }
        },
        "a0bbabfc8a3a420b90056a859db781c0": {
          "model_module": "@jupyter-widgets/base",
          "model_name": "LayoutModel",
          "model_module_version": "1.2.0",
          "state": {
            "_model_module": "@jupyter-widgets/base",
            "_model_module_version": "1.2.0",
            "_model_name": "LayoutModel",
            "_view_count": null,
            "_view_module": "@jupyter-widgets/base",
            "_view_module_version": "1.2.0",
            "_view_name": "LayoutView",
            "align_content": null,
            "align_items": null,
            "align_self": null,
            "border": null,
            "bottom": null,
            "display": null,
            "flex": null,
            "flex_flow": null,
            "grid_area": null,
            "grid_auto_columns": null,
            "grid_auto_flow": null,
            "grid_auto_rows": null,
            "grid_column": null,
            "grid_gap": null,
            "grid_row": null,
            "grid_template_areas": null,
            "grid_template_columns": null,
            "grid_template_rows": null,
            "height": null,
            "justify_content": null,
            "justify_items": null,
            "left": null,
            "margin": null,
            "max_height": null,
            "max_width": null,
            "min_height": null,
            "min_width": null,
            "object_fit": null,
            "object_position": null,
            "order": null,
            "overflow": null,
            "overflow_x": null,
            "overflow_y": null,
            "padding": null,
            "right": null,
            "top": null,
            "visibility": null,
            "width": null
          }
        },
        "8591fe2bacca43f7b225896943a2d3e4": {
          "model_module": "@jupyter-widgets/controls",
          "model_name": "DescriptionStyleModel",
          "model_module_version": "1.5.0",
          "state": {
            "_model_module": "@jupyter-widgets/controls",
            "_model_module_version": "1.5.0",
            "_model_name": "DescriptionStyleModel",
            "_view_count": null,
            "_view_module": "@jupyter-widgets/base",
            "_view_module_version": "1.2.0",
            "_view_name": "StyleView",
            "description_width": ""
          }
        },
        "b1a9618af0c8473fbf7235b635f0adea": {
          "model_module": "@jupyter-widgets/controls",
          "model_name": "CheckboxModel",
          "model_module_version": "1.5.0",
          "state": {
            "_dom_classes": [],
            "_model_module": "@jupyter-widgets/controls",
            "_model_module_version": "1.5.0",
            "_model_name": "CheckboxModel",
            "_view_count": null,
            "_view_module": "@jupyter-widgets/controls",
            "_view_module_version": "1.5.0",
            "_view_name": "CheckboxView",
            "description": "Hades is a Knight",
            "description_tooltip": null,
            "disabled": false,
            "indent": true,
            "layout": "IPY_MODEL_eb17629e74914b8f8e7ec7cebc25d357",
            "style": "IPY_MODEL_3ba4702381e44fa4b1b221fd89b55cc6",
            "value": false
          }
        },
        "eb17629e74914b8f8e7ec7cebc25d357": {
          "model_module": "@jupyter-widgets/base",
          "model_name": "LayoutModel",
          "model_module_version": "1.2.0",
          "state": {
            "_model_module": "@jupyter-widgets/base",
            "_model_module_version": "1.2.0",
            "_model_name": "LayoutModel",
            "_view_count": null,
            "_view_module": "@jupyter-widgets/base",
            "_view_module_version": "1.2.0",
            "_view_name": "LayoutView",
            "align_content": null,
            "align_items": null,
            "align_self": null,
            "border": null,
            "bottom": null,
            "display": null,
            "flex": null,
            "flex_flow": null,
            "grid_area": null,
            "grid_auto_columns": null,
            "grid_auto_flow": null,
            "grid_auto_rows": null,
            "grid_column": null,
            "grid_gap": null,
            "grid_row": null,
            "grid_template_areas": null,
            "grid_template_columns": null,
            "grid_template_rows": null,
            "height": null,
            "justify_content": null,
            "justify_items": null,
            "left": null,
            "margin": null,
            "max_height": null,
            "max_width": null,
            "min_height": null,
            "min_width": null,
            "object_fit": null,
            "object_position": null,
            "order": null,
            "overflow": null,
            "overflow_x": null,
            "overflow_y": null,
            "padding": null,
            "right": null,
            "top": null,
            "visibility": null,
            "width": null
          }
        },
        "3ba4702381e44fa4b1b221fd89b55cc6": {
          "model_module": "@jupyter-widgets/controls",
          "model_name": "DescriptionStyleModel",
          "model_module_version": "1.5.0",
          "state": {
            "_model_module": "@jupyter-widgets/controls",
            "_model_module_version": "1.5.0",
            "_model_name": "DescriptionStyleModel",
            "_view_count": null,
            "_view_module": "@jupyter-widgets/base",
            "_view_module_version": "1.2.0",
            "_view_name": "StyleView",
            "description_width": ""
          }
        },
        "fcb7b262207347e78c10b0703862df5c": {
          "model_module": "@jupyter-widgets/controls",
          "model_name": "CheckboxModel",
          "model_module_version": "1.5.0",
          "state": {
            "_dom_classes": [],
            "_model_module": "@jupyter-widgets/controls",
            "_model_module_version": "1.5.0",
            "_model_name": "CheckboxModel",
            "_view_count": null,
            "_view_module": "@jupyter-widgets/controls",
            "_view_module_version": "1.5.0",
            "_view_name": "CheckboxView",
            "description": "Hades is a Knave",
            "description_tooltip": null,
            "disabled": false,
            "indent": true,
            "layout": "IPY_MODEL_f6c4e45c9af54124b8b7538f439648ca",
            "style": "IPY_MODEL_8320dd53005b4bbf8126617af03cb97c",
            "value": false
          }
        },
        "f6c4e45c9af54124b8b7538f439648ca": {
          "model_module": "@jupyter-widgets/base",
          "model_name": "LayoutModel",
          "model_module_version": "1.2.0",
          "state": {
            "_model_module": "@jupyter-widgets/base",
            "_model_module_version": "1.2.0",
            "_model_name": "LayoutModel",
            "_view_count": null,
            "_view_module": "@jupyter-widgets/base",
            "_view_module_version": "1.2.0",
            "_view_name": "LayoutView",
            "align_content": null,
            "align_items": null,
            "align_self": null,
            "border": null,
            "bottom": null,
            "display": null,
            "flex": null,
            "flex_flow": null,
            "grid_area": null,
            "grid_auto_columns": null,
            "grid_auto_flow": null,
            "grid_auto_rows": null,
            "grid_column": null,
            "grid_gap": null,
            "grid_row": null,
            "grid_template_areas": null,
            "grid_template_columns": null,
            "grid_template_rows": null,
            "height": null,
            "justify_content": null,
            "justify_items": null,
            "left": null,
            "margin": null,
            "max_height": null,
            "max_width": null,
            "min_height": null,
            "min_width": null,
            "object_fit": null,
            "object_position": null,
            "order": null,
            "overflow": null,
            "overflow_x": null,
            "overflow_y": null,
            "padding": null,
            "right": null,
            "top": null,
            "visibility": null,
            "width": null
          }
        },
        "8320dd53005b4bbf8126617af03cb97c": {
          "model_module": "@jupyter-widgets/controls",
          "model_name": "DescriptionStyleModel",
          "model_module_version": "1.5.0",
          "state": {
            "_model_module": "@jupyter-widgets/controls",
            "_model_module_version": "1.5.0",
            "_model_name": "DescriptionStyleModel",
            "_view_count": null,
            "_view_module": "@jupyter-widgets/base",
            "_view_module_version": "1.2.0",
            "_view_name": "StyleView",
            "description_width": ""
          }
        },
        "c72be5f433824f729184f870db02ab58": {
          "model_module": "@jupyter-widgets/controls",
          "model_name": "CheckboxModel",
          "model_module_version": "1.5.0",
          "state": {
            "_dom_classes": [],
            "_model_module": "@jupyter-widgets/controls",
            "_model_module_version": "1.5.0",
            "_model_name": "CheckboxModel",
            "_view_count": null,
            "_view_module": "@jupyter-widgets/controls",
            "_view_module_version": "1.5.0",
            "_view_name": "CheckboxView",
            "description": "Hercules is a Knight",
            "description_tooltip": null,
            "disabled": false,
            "indent": true,
            "layout": "IPY_MODEL_1f44b4b756374fb3b089130ff26e94a6",
            "style": "IPY_MODEL_b3ec99f5abb74884aae7c5257e555013",
            "value": false
          }
        },
        "1f44b4b756374fb3b089130ff26e94a6": {
          "model_module": "@jupyter-widgets/base",
          "model_name": "LayoutModel",
          "model_module_version": "1.2.0",
          "state": {
            "_model_module": "@jupyter-widgets/base",
            "_model_module_version": "1.2.0",
            "_model_name": "LayoutModel",
            "_view_count": null,
            "_view_module": "@jupyter-widgets/base",
            "_view_module_version": "1.2.0",
            "_view_name": "LayoutView",
            "align_content": null,
            "align_items": null,
            "align_self": null,
            "border": null,
            "bottom": null,
            "display": null,
            "flex": null,
            "flex_flow": null,
            "grid_area": null,
            "grid_auto_columns": null,
            "grid_auto_flow": null,
            "grid_auto_rows": null,
            "grid_column": null,
            "grid_gap": null,
            "grid_row": null,
            "grid_template_areas": null,
            "grid_template_columns": null,
            "grid_template_rows": null,
            "height": null,
            "justify_content": null,
            "justify_items": null,
            "left": null,
            "margin": null,
            "max_height": null,
            "max_width": null,
            "min_height": null,
            "min_width": null,
            "object_fit": null,
            "object_position": null,
            "order": null,
            "overflow": null,
            "overflow_x": null,
            "overflow_y": null,
            "padding": null,
            "right": null,
            "top": null,
            "visibility": null,
            "width": null
          }
        },
        "b3ec99f5abb74884aae7c5257e555013": {
          "model_module": "@jupyter-widgets/controls",
          "model_name": "DescriptionStyleModel",
          "model_module_version": "1.5.0",
          "state": {
            "_model_module": "@jupyter-widgets/controls",
            "_model_module_version": "1.5.0",
            "_model_name": "DescriptionStyleModel",
            "_view_count": null,
            "_view_module": "@jupyter-widgets/base",
            "_view_module_version": "1.2.0",
            "_view_name": "StyleView",
            "description_width": ""
          }
        },
        "4203f4e29e2948e8ac00329dad7bf0b4": {
          "model_module": "@jupyter-widgets/controls",
          "model_name": "CheckboxModel",
          "model_module_version": "1.5.0",
          "state": {
            "_dom_classes": [],
            "_model_module": "@jupyter-widgets/controls",
            "_model_module_version": "1.5.0",
            "_model_name": "CheckboxModel",
            "_view_count": null,
            "_view_module": "@jupyter-widgets/controls",
            "_view_module_version": "1.5.0",
            "_view_name": "CheckboxView",
            "description": "Hercules is a Knave",
            "description_tooltip": null,
            "disabled": false,
            "indent": true,
            "layout": "IPY_MODEL_93a405d5656b4fb1b7efd34be5794411",
            "style": "IPY_MODEL_694cfafda1344337a613ae2c3a6deca1",
            "value": false
          }
        },
        "93a405d5656b4fb1b7efd34be5794411": {
          "model_module": "@jupyter-widgets/base",
          "model_name": "LayoutModel",
          "model_module_version": "1.2.0",
          "state": {
            "_model_module": "@jupyter-widgets/base",
            "_model_module_version": "1.2.0",
            "_model_name": "LayoutModel",
            "_view_count": null,
            "_view_module": "@jupyter-widgets/base",
            "_view_module_version": "1.2.0",
            "_view_name": "LayoutView",
            "align_content": null,
            "align_items": null,
            "align_self": null,
            "border": null,
            "bottom": null,
            "display": null,
            "flex": null,
            "flex_flow": null,
            "grid_area": null,
            "grid_auto_columns": null,
            "grid_auto_flow": null,
            "grid_auto_rows": null,
            "grid_column": null,
            "grid_gap": null,
            "grid_row": null,
            "grid_template_areas": null,
            "grid_template_columns": null,
            "grid_template_rows": null,
            "height": null,
            "justify_content": null,
            "justify_items": null,
            "left": null,
            "margin": null,
            "max_height": null,
            "max_width": null,
            "min_height": null,
            "min_width": null,
            "object_fit": null,
            "object_position": null,
            "order": null,
            "overflow": null,
            "overflow_x": null,
            "overflow_y": null,
            "padding": null,
            "right": null,
            "top": null,
            "visibility": null,
            "width": null
          }
        },
        "694cfafda1344337a613ae2c3a6deca1": {
          "model_module": "@jupyter-widgets/controls",
          "model_name": "DescriptionStyleModel",
          "model_module_version": "1.5.0",
          "state": {
            "_model_module": "@jupyter-widgets/controls",
            "_model_module_version": "1.5.0",
            "_model_name": "DescriptionStyleModel",
            "_view_count": null,
            "_view_module": "@jupyter-widgets/base",
            "_view_module_version": "1.2.0",
            "_view_name": "StyleView",
            "description_width": ""
          }
        },
        "aabca83bbc574360bc383197171aa131": {
          "model_module": "@jupyter-widgets/controls",
          "model_name": "ButtonModel",
          "model_module_version": "1.5.0",
          "state": {
            "_dom_classes": [],
            "_model_module": "@jupyter-widgets/controls",
            "_model_module_version": "1.5.0",
            "_model_name": "ButtonModel",
            "_view_count": null,
            "_view_module": "@jupyter-widgets/controls",
            "_view_module_version": "1.5.0",
            "_view_name": "ButtonView",
            "button_style": "",
            "description": "Submit",
            "disabled": false,
            "icon": "",
            "layout": "IPY_MODEL_ed14d94462814d5c954ab22fc41d886f",
            "style": "IPY_MODEL_d592236093404615b0675e69e566e3dd",
            "tooltip": ""
          }
        },
        "ed14d94462814d5c954ab22fc41d886f": {
          "model_module": "@jupyter-widgets/base",
          "model_name": "LayoutModel",
          "model_module_version": "1.2.0",
          "state": {
            "_model_module": "@jupyter-widgets/base",
            "_model_module_version": "1.2.0",
            "_model_name": "LayoutModel",
            "_view_count": null,
            "_view_module": "@jupyter-widgets/base",
            "_view_module_version": "1.2.0",
            "_view_name": "LayoutView",
            "align_content": null,
            "align_items": null,
            "align_self": null,
            "border": null,
            "bottom": null,
            "display": null,
            "flex": null,
            "flex_flow": null,
            "grid_area": null,
            "grid_auto_columns": null,
            "grid_auto_flow": null,
            "grid_auto_rows": null,
            "grid_column": null,
            "grid_gap": null,
            "grid_row": null,
            "grid_template_areas": null,
            "grid_template_columns": null,
            "grid_template_rows": null,
            "height": null,
            "justify_content": null,
            "justify_items": null,
            "left": null,
            "margin": null,
            "max_height": null,
            "max_width": null,
            "min_height": null,
            "min_width": null,
            "object_fit": null,
            "object_position": null,
            "order": null,
            "overflow": null,
            "overflow_x": null,
            "overflow_y": null,
            "padding": null,
            "right": null,
            "top": null,
            "visibility": null,
            "width": null
          }
        },
        "d592236093404615b0675e69e566e3dd": {
          "model_module": "@jupyter-widgets/controls",
          "model_name": "ButtonStyleModel",
          "model_module_version": "1.5.0",
          "state": {
            "_model_module": "@jupyter-widgets/controls",
            "_model_module_version": "1.5.0",
            "_model_name": "ButtonStyleModel",
            "_view_count": null,
            "_view_module": "@jupyter-widgets/base",
            "_view_module_version": "1.2.0",
            "_view_name": "StyleView",
            "button_color": null,
            "font_weight": ""
          }
        }
      }
    }
  },
  "cells": [
    {
      "cell_type": "markdown",
      "metadata": {
        "id": "view-in-github",
        "colab_type": "text"
      },
      "source": [
        "<a href=\"https://colab.research.google.com/github/brendanpshea/computing_concepts_python/blob/main/IntroCS_06_LogicConditionals.ipynb\" target=\"_parent\"><img src=\"https://colab.research.google.com/assets/colab-badge.svg\" alt=\"Open In Colab\"/></a>"
      ]
    },
    {
      "cell_type": "markdown",
      "source": [
        "# Boolean Logic and Conditionals in a Galaxy Far, Far Away\n",
        "### Computing Concepts With Python | Brendan Shea, PhD\n",
        "\n",
        "In a galaxy far, far away, decision-making is crucial for survival. Whether you're a Jedi deciding whether to confront a Sith Lord, or a droid determining the optimal path to evade Stormtroopers, the principles of **boolean logic** are essential. In this chapter, we will explore the fundamentals of boolean logic and conditionals, using examples from the Star Wars universe to illustrate these concepts."
      ],
      "metadata": {
        "id": "hUGOxAt3UoSO"
      }
    },
    {
      "cell_type": "markdown",
      "source": [
        "## Brendan's Lecture"
      ],
      "metadata": {
        "id": "5q62hifbLlCw"
      }
    },
    {
      "cell_type": "code",
      "source": [
        "from IPython.display import YouTubeVideo\n",
        "YouTubeVideo('N5gYQemtWoE', width=1000, height=600)"
      ],
      "metadata": {
        "colab": {
          "base_uri": "https://localhost:8080/",
          "height": 621
        },
        "id": "pwmJ9LuvLneq",
        "outputId": "a338e389-5451-46d2-af1e-52e2a94d919c"
      },
      "execution_count": null,
      "outputs": [
        {
          "output_type": "execute_result",
          "data": {
            "text/plain": [
              "<IPython.lib.display.YouTubeVideo at 0x7c7c105ef700>"
            ],
            "text/html": [
              "\n",
              "        <iframe\n",
              "            width=\"1000\"\n",
              "            height=\"600\"\n",
              "            src=\"https://www.youtube.com/embed/N5gYQemtWoE\"\n",
              "            frameborder=\"0\"\n",
              "            allowfullscreen\n",
              "            \n",
              "        ></iframe>\n",
              "        "
            ],
            "image/jpeg": "[encoded data removed]"
          },
          "metadata": {},
          "execution_count": 1
        }
      ]
    },
    {
      "cell_type": "markdown",
      "source": [
        "## What is Boolean Logic?\n",
        "\n",
        "Boolean logic, named after the mathematician George Boole, is a form of algebra in which all values are reduced to either **True** or **False**. This binary system is the foundation of computer logic and programming. In the Star Wars universe, think of boolean logic as the Force guiding decisions---it's either light or dark, no in-between.\n",
        "\n",
        "Consider the Jedi Council's decision-making process. When deciding whether to train a new Jedi, they might use boolean logic to determine the candidate's potential. For instance:\n",
        "\n",
        "-   **True** if the candidate has a strong connection to the Force.\n",
        "-   **False** if the candidate shows tendencies toward the dark side.\n",
        "\n",
        "By reducing these decisions to boolean values, the Jedi can make clear, binary choices.\n",
        "\n",
        "### What are the Basic Boolean Operators?\n",
        "\n",
        "Boolean operators are used to manipulate boolean values and combine multiple conditions. The three fundamental boolean operators are **AND**, **OR**, and **NOT**.\n",
        "\n",
        "-   **AND**: This operator returns **True** if both operands are true. In Star Wars terms, consider the criteria for being a Jedi Knight:\n",
        "\n",
        "    -   **True** if the individual is strong with the Force **AND** has completed their training.\n",
        "    -   Example: `is_strong_with_force AND has_completed_training`\n",
        "-   **OR**: This operator returns **True** if at least one of the operands is true. Imagine a droid deciding whether to alert the Rebels:\n",
        "\n",
        "    -   **True** if the Death Star is operational **OR** the Imperial fleet is approaching.\n",
        "    -   Example: `is_death_star_operational OR is_imperial_fleet_approaching`\n",
        "-   **NOT**: This operator inverts the value of the operand. It returns **True** if the operand is false and vice versa. Think of the Sith's perspective on a Jedi:\n",
        "\n",
        "    -   **True** if the individual is **NOT** a Sith.\n",
        "    -   Example: `NOT is_sith`\n",
        "\n",
        "### How are Boolean Values Represented in Programming?\n",
        "\n",
        "In programming, boolean values are represented by the keywords **True** and **False**. These values are used to control the flow of the program, making decisions based on conditions.\n",
        "\n",
        "In Python, for example, we can represent boolean values as follows:\n",
        "\n",
        "```python\n",
        "is_jedi = True\n",
        "is_sith = False\n",
        "```\n",
        "\n",
        "Let's explore a practical example in the Star Wars universe. Suppose we want to check if Luke Skywalker is eligible to train as a Jedi Knight. We'll use boolean values and operators to evaluate his status."
      ],
      "metadata": {
        "id": "0E7mxzxjLjZB"
      }
    },
    {
      "cell_type": "code",
      "source": [
        "# Define the conditions\n",
        "is_strong_with_force = True\n",
        "has_completed_training = False\n",
        "\n",
        "# Use the AND operator to check eligibility\n",
        "is_eligible_for_training = is_strong_with_force and has_completed_training\n",
        "\n",
        "print(is_eligible_for_training)"
      ],
      "metadata": {
        "colab": {
          "base_uri": "https://localhost:8080/"
        },
        "id": "6gvHjZFiUpZq",
        "outputId": "150cfc84-6f45-435d-b21d-4e575f4c04e6"
      },
      "execution_count": null,
      "outputs": [
        {
          "output_type": "stream",
          "name": "stdout",
          "text": [
            "False\n"
          ]
        }
      ]
    },
    {
      "cell_type": "markdown",
      "source": [
        "In this example, although Luke is strong with the Force, he hasn't completed his training, so the combined condition returns **False**."
      ],
      "metadata": {
        "id": "R2D6u8bkUu5t"
      }
    },
    {
      "cell_type": "markdown",
      "source": [
        "### What is the AND Operator and How Does it Function?\n",
        "\n",
        "Before we dive into the AND operator, let's understand what a **truth table** is. A truth table is a mathematical table used to determine the result of all possible combinations of inputs in a boolean expression. It systematically lists all possible values of the inputs and the corresponding output of the boolean expression.\n",
        "\n",
        "The **AND** operator is used to combine two conditions and returns **True** only if both conditions are true. This is akin to ensuring both criteria in a decision are met.\n",
        "\n",
        "Here's a truth table for the AND operator:\n",
        "\n",
        "| Condition A | Condition B | A AND B |\n",
        "| --- | --- | --- |\n",
        "| True | True | True |\n",
        "| True | False | False |\n",
        "| False | True | False |\n",
        "| False | False | False |\n",
        "\n",
        "In the Star Wars universe, let's determine if a character can join the Jedi Council. The character must be both strong with the Force and have demonstrated exceptional wisdom:"
      ],
      "metadata": {
        "id": "RHZpzTJeVwF7"
      }
    },
    {
      "cell_type": "code",
      "source": [
        "# Define the conditions\n",
        "is_strong_with_force = True\n",
        "has_exceptional_wisdom = True\n",
        "\n",
        "# Use the AND operator to check eligibility\n",
        "can_join_jedi_council = is_strong_with_force and has_exceptional_wisdom\n",
        "\n",
        "print(can_join_jedi_council)"
      ],
      "metadata": {
        "id": "pHqpsoFvVx27"
      },
      "execution_count": null,
      "outputs": []
    },
    {
      "cell_type": "markdown",
      "source": [
        "### How Does the OR Operator Work in Boolean Logic?\n",
        "\n",
        "The **OR** operator combines two conditions and returns **True** if at least one of the conditions is true. This is useful when either criterion being met is sufficient.\n",
        "\n",
        "Here's a truth table for the OR operator:\n",
        "\n",
        "| Condition A | Condition B | A OR B |\n",
        "| --- | --- | --- |\n",
        "| True | True | True |\n",
        "| True | False | True |\n",
        "| False | True | True |\n",
        "| False | False | False |\n",
        "\n",
        "Imagine a Rebel pilot deciding whether to engage in battle. The pilot might engage if the enemy is either the Death Star or a fleet of Star Destroyers:"
      ],
      "metadata": {
        "id": "LI9Wo2aJX-uK"
      }
    },
    {
      "cell_type": "code",
      "source": [
        "# Define the conditions\n",
        "is_death_star_present = False\n",
        "is_star_destroyer_fleet_present = True\n",
        "\n",
        "# Use the OR operator to decide on engagement\n",
        "engage_in_battle = is_death_star_present or is_star_destroyer_fleet_present\n",
        "\n",
        "print(engage_in_battle)  # Output: True"
      ],
      "metadata": {
        "colab": {
          "base_uri": "https://localhost:8080/"
        },
        "id": "-Fy8qZA5Y1mW",
        "outputId": "c49f74d7-4693-43bf-9938-096eae4a4268"
      },
      "execution_count": null,
      "outputs": [
        {
          "output_type": "stream",
          "name": "stdout",
          "text": [
            "True\n"
          ]
        }
      ]
    },
    {
      "cell_type": "markdown",
      "source": [
        "Here, the presence of a fleet of Star Destroyers is enough to engage in battle, resulting in **True**.\n",
        "\n",
        "### What is the Purpose of the NOT Operator in Boolean Logic?\n",
        "\n",
        "The **NOT** operator is used to invert the value of a boolean expression. It turns **True** into **False** and **False** into **True**. This is particularly useful for checking conditions that should not be met.\n",
        "\n",
        "Here's a truth table for the NOT operator:\n",
        "\n",
        "| Condition A | NOT A |\n",
        "| --- | --- |\n",
        "| True | False |\n",
        "| False | True |\n",
        "\n",
        "Consider a Sith Lord identifying individuals who are not part of the Sith Order:"
      ],
      "metadata": {
        "id": "Bj3Fs8YWY56W"
      }
    },
    {
      "cell_type": "code",
      "source": [
        "# Define the condition\n",
        "is_sith = False\n",
        "\n",
        "# Use the NOT operator to invert the condition\n",
        "is_not_sith = not is_sith\n",
        "\n",
        "print(is_not_sith)"
      ],
      "metadata": {
        "colab": {
          "base_uri": "https://localhost:8080/"
        },
        "id": "lhPlwqppZEHP",
        "outputId": "1a6e40c1-7811-4954-8e03-3670c1a36957"
      },
      "execution_count": null,
      "outputs": [
        {
          "output_type": "stream",
          "name": "stdout",
          "text": [
            "True\n"
          ]
        }
      ]
    },
    {
      "cell_type": "markdown",
      "source": [
        "In this example, the condition `is_sith` is **False**, so applying the **NOT** operator results in **True**."
      ],
      "metadata": {
        "id": "g1ekKRUjZHsW"
      }
    },
    {
      "cell_type": "markdown",
      "source": [
        "### What is the IN Operator and How is it Used in Boolean Logic?\n",
        "\n",
        "The **IN** operator checks if a value exists within a collection, such as a list, and returns **True** if it does. This is useful for membership tests.\n",
        "\n",
        "Imagine a scenario where we need to check if a character is part of the Rebel Alliance:"
      ],
      "metadata": {
        "id": "wj41PhcRZO2I"
      }
    },
    {
      "cell_type": "code",
      "source": [
        "# Define the list of Rebel Alliance members\n",
        "rebel_alliance = ['Luke', 'Leia', 'Han', 'Chewbacca']\n",
        "\n",
        "# Check if a character is in the Rebel Alliance\n",
        "character = 'Luke'\n",
        "is_rebel = character in rebel_alliance\n",
        "print(is_rebel)"
      ],
      "metadata": {
        "colab": {
          "base_uri": "https://localhost:8080/"
        },
        "id": "xAmI9dy8ZVbi",
        "outputId": "eecc72b9-fd25-4ef1-eb8b-887f25bce906"
      },
      "execution_count": null,
      "outputs": [
        {
          "output_type": "stream",
          "name": "stdout",
          "text": [
            "True\n"
          ]
        }
      ]
    },
    {
      "cell_type": "markdown",
      "source": [
        "Here, the character 'Luke' is in the list of Rebel Alliance members, so the result is True. If we check for a different character:"
      ],
      "metadata": {
        "id": "edPoO4CkZe88"
      }
    },
    {
      "cell_type": "code",
      "source": [
        "'Vader' in rebel_alliance"
      ],
      "metadata": {
        "colab": {
          "base_uri": "https://localhost:8080/"
        },
        "id": "Mely0sF7ZiyL",
        "outputId": "3ae8109c-a053-4ace-8390-5588452d1c4a"
      },
      "execution_count": null,
      "outputs": [
        {
          "output_type": "execute_result",
          "data": {
            "text/plain": [
              "False"
            ]
          },
          "metadata": {},
          "execution_count": 7
        }
      ]
    },
    {
      "cell_type": "markdown",
      "source": [
        "### What is the NAND Operator and How Does it Function?\n",
        "\n",
        "The **NAND** (Not AND) operator is a fundamental boolean operator in computing. It's particularly important because it's considered functionally complete, meaning any other logical operation can be constructed using only NAND gates.\n",
        "\n",
        "The NAND operator returns **False** only if both inputs are **True**. In all other cases, it returns **True**.\n",
        "\n",
        "Here's a truth table for the NAND operator:\n",
        "\n",
        "| Condition A | Condition B | A NAND B |\n",
        "| --- | --- | --- |\n",
        "| True | True | False |\n",
        "| True | False | True |\n",
        "| False | True | True |\n",
        "| False | False | True |\n",
        "\n",
        "Let's consider an example in the Star Wars universe. Imagine a security system for the Death Star that only deactivates when both the correct access code is entered AND a valid biometric scan is provided. The alarm will sound (represented by True) unless both conditions are met:"
      ],
      "metadata": {
        "id": "zVduX-Sy_HZl"
      }
    },
    {
      "cell_type": "code",
      "source": [
        "# Define the conditions\n",
        "correct_access_code = True\n",
        "valid_biometric_scan = False\n",
        "\n",
        "# Use the NAND operator to check if the alarm should sound\n",
        "alarm_sounds = not (correct_access_code and valid_biometric_scan)\n",
        "\n",
        "print(alarm_sounds)"
      ],
      "metadata": {
        "colab": {
          "base_uri": "https://localhost:8080/"
        },
        "id": "V_crzSW4_IBW",
        "outputId": "6a282322-68cc-48b3-96d8-8860b6aa2970"
      },
      "execution_count": null,
      "outputs": [
        {
          "output_type": "stream",
          "name": "stdout",
          "text": [
            "True\n"
          ]
        }
      ]
    },
    {
      "cell_type": "markdown",
      "source": [
        "In this case, even though the correct access code was provided, the biometric scan was invalid, so the alarm sounds (True).\n",
        "\n",
        "### How Does the XOR Operator Work in Boolean Logic?\n",
        "\n",
        "The **XOR** (Exclusive OR) operator is another important boolean operator in computing. It returns **True** if the inputs are different, and **False** if they are the same.\n",
        "\n",
        "Here's a truth table for the XOR operator:\n",
        "\n",
        "| Condition A | Condition B | A XOR B |\n",
        "| --- | --- | --- |\n",
        "| True | True | False |\n",
        "| True | False | True |\n",
        "| False | True | True |\n",
        "| False | False | False |\n",
        "\n",
        "XOR is often used in various computing applications, including cryptography and error detection.\n",
        "\n",
        "Let's use a Star Wars example to illustrate XOR. Imagine a smuggler's ship that can only enter hyperspace if exactly one of two specific components is active (but not both, as that would overload the system):"
      ],
      "metadata": {
        "id": "l0gY9WTG_Lpg"
      }
    },
    {
      "cell_type": "code",
      "source": [
        "# Define the conditions\n",
        "hyperdrive_motivator_active = True\n",
        "flux_capacitor_active = False\n",
        "\n",
        "# Use the XOR operator to check if hyperspace entry is possible\n",
        "can_enter_hyperspace = hyperdrive_motivator_active ^ flux_capacitor_active\n",
        "\n",
        "print(can_enter_hyperspace)"
      ],
      "metadata": {
        "colab": {
          "base_uri": "https://localhost:8080/"
        },
        "id": "eh1PMINB_Xfm",
        "outputId": "20cd5748-aecb-420b-911c-1ff162c9920a"
      },
      "execution_count": null,
      "outputs": [
        {
          "output_type": "stream",
          "name": "stdout",
          "text": [
            "True\n"
          ]
        }
      ]
    },
    {
      "cell_type": "markdown",
      "source": [
        "In this scenario, the ship can enter hyperspace because exactly one of the components is active.\n",
        "\n",
        "### What is the NOR Operator and How is it Used in Boolean Logic?\n",
        "\n",
        "The **NOR** (Not OR) operator is another functionally complete operator, meaning all other logical operations can be constructed using only NOR gates.\n",
        "\n",
        "\n",
        "The NOR operator returns **True** only if both inputs are **False**. In all other cases, it returns **False**.\n",
        "\n",
        "Here's a truth table for the NOR operator:\n",
        "\n",
        "| Condition A | Condition B | A NOR B |\n",
        "| --- | --- | --- |\n",
        "| True | True | False |\n",
        "| True | False | False |\n",
        "| False | True | False |\n",
        "| False | False | True |\n",
        "\n",
        "Let's use another Star Wars example. Imagine a Jedi training exercise where a padawan fails only if they show no fear AND no anger:"
      ],
      "metadata": {
        "id": "kw2efjSz_b7E"
      }
    },
    {
      "cell_type": "code",
      "source": [
        "# Define the conditions\n",
        "shows_fear = False\n",
        "shows_anger = False\n",
        "\n",
        "# Use the NOR operator to check if the padawan fails\n",
        "padawan_fails = not (shows_fear or shows_anger)\n",
        "\n",
        "print(padawan_fails)"
      ],
      "metadata": {
        "colab": {
          "base_uri": "https://localhost:8080/"
        },
        "id": "anUK_QS-_qxq",
        "outputId": "aedda4ef-8575-40a3-a156-a309a13eb3ea"
      },
      "execution_count": null,
      "outputs": [
        {
          "output_type": "stream",
          "name": "stdout",
          "text": [
            "True\n"
          ]
        }
      ]
    },
    {
      "cell_type": "markdown",
      "source": [
        "In this case, the padawan shows neither fear nor anger, so they fail the exercise (True).\n"
      ],
      "metadata": {
        "id": "SFCzXxCp_vN6"
      }
    },
    {
      "cell_type": "markdown",
      "source": [
        "## How to Build a Droid (With Boolean Logic)\n",
        "\n",
        "### Refresher: Transistors and Bits\n",
        "\n",
        "Before we dive into building our droid, let's quickly recap what we know about transistors and bits:\n",
        "\n",
        "- **Transistors** are the fundamental building blocks of modern electronics. They act as switches, controlling the flow of electricity.\n",
        "- **Bits** are the smallest unit of data in computing, representing either a 0 (off) or 1 (on) state.\n",
        "\n",
        "In our droid, transistors will physically represent these bits, forming the foundation of its \"brain.\"\n",
        "\n",
        "### Introducing Logic Gates\n",
        "\n",
        "Now, let's introduce the concept of a **logic gate**. A logic gate is a fundamental building block of digital circuits, implementing a boolean function. It takes one or more input signals and produces a single output signal.\n",
        "\n",
        "The basic logic gates we've discussed earlier (AND, OR, NOT, NAND, XOR, NOR) are all implemented using arrangements of transistors. For example, an AND gate might be constructed like this:\n",
        "\n",
        "```\n",
        "   A -----|\n",
        "          |--[AND]--- Output\n",
        "   B -----|\n",
        "```\n",
        "\n",
        "In our droid, these logic gates will be the next level of abstraction above individual transistors.\n",
        "\n",
        "### Composing Logic Gates for Complex Instructions\n",
        "\n",
        "Just as we can create complex boolean expressions by combining simple operators, we can create complex digital circuits by combining logic gates. These combinations form the basis of the droid's processor and its instruction set.\n",
        "\n",
        "For example, let's create a simple circuit that could be part of a droid's decision-making process:\n",
        "\n",
        "```\n",
        "   Enemy Detected --|\n",
        "                    |--[AND]--|\n",
        "   Weapons Ready ---|         |\n",
        "                              |--[OR]--- Attack\n",
        "   Defend Order ----------------|\n",
        "```\n",
        "\n",
        "This circuit would tell the droid to attack if it detects an enemy AND its weapons are ready, OR if it receives a direct defend order.\n",
        "\n",
        "As we combine more and more logic gates, we can create increasingly complex instructions. These might include:\n",
        "\n",
        "1. Arithmetic operations (addition, subtraction, etc.)\n",
        "2. Memory operations (read, write)\n",
        "3. Control flow (if-then-else structures)\n",
        "\n",
        "The full set of instructions a processor can perform is called its **instruction set architecture (ISA)**. Different droids might have different ISAs based on their intended functions.\n"
      ],
      "metadata": {
        "id": "vjvfrwl6BD8X"
      }
    },
    {
      "cell_type": "markdown",
      "source": [
        "### Understanding Processor Performance: Focus on Instruction Sets\n",
        "\n",
        "Now that we understand how processors work at a fundamental level, let's focus on why different processors (or different droids) might be better at some tasks than others, specifically in terms of their instruction sets:\n",
        "\n",
        "1. The **Instruction Set Architecture (ISA)** is the full set of instructions a processor can perform. Different droids might have different ISAs based on their intended functions.\n",
        "\n",
        "2. Some droids might have a larger instruction set, allowing for more diverse operations, while others might have a smaller, more specialized set.\n",
        "\n",
        "3.  The specific instructions in a droid's ISA can greatly affect its capabilities:\n",
        "   - A protocol droid like C-3PO might have a rich set of instructions for language processing and cultural protocols.\n",
        "   - An astromech droid like R2-D2 would likely have advanced instructions for spacecraft systems interfacing and data analysis.\n",
        "   - A battle droid might emphasize instructions for targeting systems and tactical analysis.\n",
        "\n",
        "4. Some droids might have more complex instructions that can perform multiple operations in a single step, while others might use simpler instructions but execute them very quickly.\n",
        "\n",
        "5. Certain droids might have unique instructions designed for their specific roles:\n",
        "   - A medical droid could have instructions optimized for diagnosing illnesses or performing surgical procedures.\n",
        "   - A pilot droid might have instructions specifically for flight calculations and navigation.\n",
        "\n",
        "For example, let's compare two hypothetical droid processors:\n",
        "\n",
        "```\n",
        "Protocol Droid Processor:\n",
        "- Large instruction set (1000+ instructions)\n",
        "- Emphasis on language processing instructions\n",
        "- Complex instructions for cultural analysis\n",
        "- Specialized instructions for etiquette protocols\n",
        "\n",
        "Astromech Droid Processor:\n",
        "- Medium-sized instruction set (500-1000 instructions)\n",
        "- Emphasis on mathematical and data analysis instructions\n",
        "- Specialized instructions for starship systems interfacing\n",
        "- Complex instructions for navigation and repair procedures\n",
        "```\n",
        "\n",
        "These differences in instruction sets would make each droid excel at its intended tasks. The protocol droid would be much better at language translation and diplomatic interactions, while the astromech droid would outperform in spacecraft maintenance and navigation calculations.\n"
      ],
      "metadata": {
        "id": "1aiulzkxBL2Z"
      }
    },
    {
      "cell_type": "markdown",
      "source": [
        "### Connecting Droid Processors to Real-World Computer Processors\n",
        "\n",
        "The concepts we've explored with droid processors have direct parallels in real-world computer processors. Let's look at some examples:\n",
        "\n",
        "1. **CISC vs. RISC Architecture**\n",
        "   - Complex Instruction Set Computing (CISC) is similar to our protocol droid example. Real-world example: Intel x86 processors.\n",
        "     - Large instruction set with complex instructions\n",
        "     - Good for varied, complex tasks like those in personal computers\n",
        "   - Reduced Instruction Set Computing (RISC) is more like our astromech droid. Real-world example: ARM processors.\n",
        "     - Smaller set of simpler instructions\n",
        "     - Efficient for specific tasks, often used in mobile devices and embedded systems\n",
        "\n",
        "2. **Specialized Processors**\n",
        "   - Just as we have specialized droids, we have specialized real-world processors:\n",
        "     - Graphics Processing Units (GPUs): Like a droid specialized for visual processing. Example: NVIDIA GeForce series.\n",
        "     - Tensor Processing Units (TPUs): Similar to a droid optimized for droid-to-droid communication. Google's TPUs are designed specifically for neural network machine learning.\n",
        "\n",
        "3. **Instruction Set Extensions**\n",
        "   - Real processors often have extensions for specific tasks, just like specialized droid instructions:\n",
        "     - SSE (Streaming SIMD Extensions) in x86 processors: Optimized for multimedia and 3D processing.\n",
        "     - Neon in ARM processors: Enhances performance for multimedia and signal processing.\n",
        "\n",
        "4. **General-Purpose vs. Application-Specific Processors**\n",
        "   - General-purpose processors (like those in PCs) are similar to protocol droids, adaptable to many tasks.\n",
        "   - Application-specific processors (like those in smart home devices) are more like specialized droids built for specific functions.\n",
        "\n",
        "5. **Processor Families**\n",
        "   - Just as there are different series of droids (R-series, BB-series), there are families of real-world processors:\n",
        "     - Intel Core series (i3, i5, i7, i9): Each optimized for different levels of performance and power consumption.\n",
        "     - ARM Cortex series: Different versions for various applications, from small embedded systems to high-performance computing.\n",
        "\n",
        "Understanding these parallels helps us see how the principles of boolean logic and processor design apply both in our imaginary world of droids and in the computers we use every day. Whether it's a protocol droid translating languages or your smartphone processing a voice command, the fundamental concepts remain the same!\n",
        "\n"
      ],
      "metadata": {
        "id": "9QbgqNgJBULk"
      }
    },
    {
      "cell_type": "markdown",
      "source": [
        "## Game: Knights and Knaves\n",
        "**Knights and Knaves puzzles** (originally invented by Raymond Smullyan) consist of a seemingly simple task: determining \"knights\" (people who always tell the truth) from \"knaves\" (people who always lie). However, they can be used to teach complex ideas in boolean logic.\n",
        "\n",
        "I've created a game that allows to test your ability on some of the (relatively) simpler sorts of puzzles in Smullyan's books."
      ],
      "metadata": {
        "id": "-hUzgSeMVc2G"
      }
    },
    {
      "cell_type": "code",
      "source": [
        "!wget \"https://github.com/brendanpshea/computing_concepts_python/raw/main/knights_knaves/knights_knaves.py\" -q -nc\n",
        "from knights_knaves import play_game\n",
        "play_game()"
      ],
      "metadata": {
        "id": "X_tkMsWfYe3C",
        "outputId": "f8b9f6fc-b325-4a49-dcdc-28ea141a549a",
        "colab": {
          "base_uri": "https://localhost:8080/",
          "height": 422,
          "referenced_widgets": [
            "c74863c5b1a64190ac06092c233b8a27",
            "1a39e6c06e1a4377bf242de16f08e8ef",
            "3aeb9e59e2174cfbb7195b61886a9f2d",
            "372439691e474cf194ecf08725cb7c65",
            "a0bbabfc8a3a420b90056a859db781c0",
            "8591fe2bacca43f7b225896943a2d3e4",
            "b1a9618af0c8473fbf7235b635f0adea",
            "eb17629e74914b8f8e7ec7cebc25d357",
            "3ba4702381e44fa4b1b221fd89b55cc6",
            "fcb7b262207347e78c10b0703862df5c",
            "f6c4e45c9af54124b8b7538f439648ca",
            "8320dd53005b4bbf8126617af03cb97c",
            "c72be5f433824f729184f870db02ab58",
            "1f44b4b756374fb3b089130ff26e94a6",
            "b3ec99f5abb74884aae7c5257e555013",
            "4203f4e29e2948e8ac00329dad7bf0b4",
            "93a405d5656b4fb1b7efd34be5794411",
            "694cfafda1344337a613ae2c3a6deca1",
            "aabca83bbc574360bc383197171aa131",
            "ed14d94462814d5c954ab22fc41d886f",
            "d592236093404615b0675e69e566e3dd"
          ]
        }
      },
      "execution_count": 1,
      "outputs": [
        {
          "output_type": "stream",
          "name": "stdout",
          "text": [
            "\n",
            "Current Level: Easy\n",
            "You are on an island with only knights (who always tell the truth) and knaves (who always lie). Can you tell which is which?\n",
            "\n",
            "You have met a group of 3 islanders. Their names are Shiva, Hades, and Hercules.\n",
            "\n",
            "Hades says: \"Shiva always tells the truth.\"\n",
            "Shiva says: \"Hercules is my type.\"\n",
            "Hercules says: \"Hades tells the truth.\"\n",
            "\n",
            "Who do you think are Knights and Knaves?\n"
          ]
        },
        {
          "output_type": "display_data",
          "data": {
            "text/plain": [
              "Checkbox(value=False, description='Shiva is a Knight')"
            ],
            "application/vnd.jupyter.widget-view+json": {
              "version_major": 2,
              "version_minor": 0,
              "model_id": "c74863c5b1a64190ac06092c233b8a27"
            }
          },
          "metadata": {}
        },
        {
          "output_type": "display_data",
          "data": {
            "text/plain": [
              "Checkbox(value=False, description='Shiva is a Knave')"
            ],
            "application/vnd.jupyter.widget-view+json": {
              "version_major": 2,
              "version_minor": 0,
              "model_id": "372439691e474cf194ecf08725cb7c65"
            }
          },
          "metadata": {}
        },
        {
          "output_type": "display_data",
          "data": {
            "text/plain": [
              "Checkbox(value=False, description='Hades is a Knight')"
            ],
            "application/vnd.jupyter.widget-view+json": {
              "version_major": 2,
              "version_minor": 0,
              "model_id": "b1a9618af0c8473fbf7235b635f0adea"
            }
          },
          "metadata": {}
        },
        {
          "output_type": "display_data",
          "data": {
            "text/plain": [
              "Checkbox(value=False, description='Hades is a Knave')"
            ],
            "application/vnd.jupyter.widget-view+json": {
              "version_major": 2,
              "version_minor": 0,
              "model_id": "fcb7b262207347e78c10b0703862df5c"
            }
          },
          "metadata": {}
        },
        {
          "output_type": "display_data",
          "data": {
            "text/plain": [
              "Checkbox(value=False, description='Hercules is a Knight')"
            ],
            "application/vnd.jupyter.widget-view+json": {
              "version_major": 2,
              "version_minor": 0,
              "model_id": "c72be5f433824f729184f870db02ab58"
            }
          },
          "metadata": {}
        },
        {
          "output_type": "display_data",
          "data": {
            "text/plain": [
              "Checkbox(value=False, description='Hercules is a Knave')"
            ],
            "application/vnd.jupyter.widget-view+json": {
              "version_major": 2,
              "version_minor": 0,
              "model_id": "4203f4e29e2948e8ac00329dad7bf0b4"
            }
          },
          "metadata": {}
        },
        {
          "output_type": "display_data",
          "data": {
            "text/plain": [
              "Button(description='Submit', style=ButtonStyle())"
            ],
            "application/vnd.jupyter.widget-view+json": {
              "version_major": 2,
              "version_minor": 0,
              "model_id": "aabca83bbc574360bc383197171aa131"
            }
          },
          "metadata": {}
        }
      ]
    },
    {
      "cell_type": "markdown",
      "source": [
        "## How Do Conditionals Work in Programming?\n",
        "\n",
        "Conditionals in programming allow us to execute certain pieces of code based on whether specific conditions are true or false. This is akin to how characters in Star Wars make decisions based on their circumstances. For example, a droid like R2-D2 might decide to lock a door if it detects Stormtroopers approaching.\n",
        "\n",
        "The basic structure of conditionals in Python uses the `if`, `elif`, and `else` statements. Here's how they work:\n",
        "\n",
        "### What is an If Statement and How is it Used?\n",
        "\n",
        "An **if statement** is used to test a condition. If the condition is true, the block of code indented under the if statement is executed. This is like a Jedi deciding to train if they sense the Force is strong within them.\n",
        "\n",
        "Here's a simple example in Python:"
      ],
      "metadata": {
        "id": "dW_mUeeLZ2KV"
      }
    },
    {
      "cell_type": "code",
      "source": [
        "# Define the condition\n",
        "is_jedi = True\n",
        "\n",
        "# Use the if statement to check the condition\n",
        "if is_jedi:\n",
        "    print('Train in the ways of the Force.')"
      ],
      "metadata": {
        "colab": {
          "base_uri": "https://localhost:8080/"
        },
        "id": "JKKXavjsZ3lf",
        "outputId": "6ef959a5-81db-46bd-c36a-51953435c98e"
      },
      "execution_count": null,
      "outputs": [
        {
          "output_type": "stream",
          "name": "stdout",
          "text": [
            "Train in the ways of the Force.\n"
          ]
        }
      ]
    },
    {
      "cell_type": "markdown",
      "source": [
        "Since `is_jedi` is **True**, the message \"Train in the ways of the Force.\" is printed.\n",
        "\n",
        "### What is an Else Statement and How is it Used?\n",
        "\n",
        "An **else statement** is used to execute a block of code if the preceding **if** condition is false. This provides an alternative path of execution, similar to a character deciding on a different course of action if the first option is not viable.\n",
        "\n",
        "Consider an example where we decide what to do if a character is not a Jedi:"
      ],
      "metadata": {
        "id": "-425E-skZ6Rd"
      }
    },
    {
      "cell_type": "code",
      "source": [
        "is_jedi = False\n",
        "\n",
        "# Use the if and else statements to check the condition\n",
        "if is_jedi:\n",
        "    print('Train in the ways of the Force.')\n",
        "else:\n",
        "    print('Live a normal life.')"
      ],
      "metadata": {
        "colab": {
          "base_uri": "https://localhost:8080/"
        },
        "id": "h8Lz6w9raBfI",
        "outputId": "b86e952f-9723-4539-900e-a5ab34c04d04"
      },
      "execution_count": null,
      "outputs": [
        {
          "output_type": "stream",
          "name": "stdout",
          "text": [
            "Live a normal life.\n"
          ]
        }
      ]
    },
    {
      "cell_type": "markdown",
      "source": [
        "Since `is_jedi` is **False**, the message \"Live a normal life.\" is printed.\n",
        "\n",
        "### How Do Elif Statements Extend the Functionality of If Statements?\n",
        "\n",
        "The **elif** statement, short for \"else if,\" allows us to check multiple conditions in sequence. This is useful when there are several potential paths of execution. Think of it as evaluating multiple possibilities before deciding on a course of action, much like a Jedi considering different strategies.\n",
        "\n",
        "Imagine deciding the role of a character in the Rebel Alliance:"
      ],
      "metadata": {
        "id": "FiQJRDz6aECi"
      }
    },
    {
      "cell_type": "code",
      "source": [
        "character = 'Han'\n",
        "\n",
        "if character == 'Jedi':\n",
        "    print('Train in the ways of the Force.')\n",
        "elif character == 'Pilot':\n",
        "    print('Fly the Millennium Falcon.')\n",
        "elif character == 'General':\n",
        "    print('Lead the Rebel forces.')\n",
        "else:\n",
        "    print('Join the support crew.')"
      ],
      "metadata": {
        "colab": {
          "base_uri": "https://localhost:8080/"
        },
        "id": "FNSdRWYhaKnz",
        "outputId": "98d25d69-c878-4972-e726-3ad008c50e87"
      },
      "execution_count": null,
      "outputs": [
        {
          "output_type": "stream",
          "name": "stdout",
          "text": [
            "Join the support crew.\n"
          ]
        }
      ]
    },
    {
      "cell_type": "markdown",
      "source": [
        "In this example:\n",
        "\n",
        "-   If the character is a Jedi, the program prints \"Train in the ways of the Force.\"\n",
        "-   If the character is a Pilot, it prints \"Fly the Millennium Falcon.\"\n",
        "-   If the character is a General, it prints \"Lead the Rebel forces.\"\n",
        "-   If none of these conditions are true, it prints \"Join the support crew.\"\n",
        "\n",
        "#### Complex Conditions with Numerical Comparisons, IN, and Boolean Combinations\n",
        "\n",
        "As we become more proficient with conditionals, we can use more complex conditions, including numerical comparisons, the **IN** operator, and boolean combinations.\n",
        "\n",
        "##### Numerical Comparisons\n",
        "\n",
        "Let's decide the training level of a Jedi based on their age:"
      ],
      "metadata": {
        "id": "w-IejSK6aPbE"
      }
    },
    {
      "cell_type": "code",
      "source": [
        "age = 25\n",
        "\n",
        "if age < 13:\n",
        "    print('Youngling training.')\n",
        "elif age < 18:\n",
        "    print('Padawan training.')\n",
        "elif age < 30:\n",
        "    print('Knight training.')\n",
        "else:\n",
        "    print('Master training.')"
      ],
      "metadata": {
        "colab": {
          "base_uri": "https://localhost:8080/"
        },
        "id": "-hZTN8MAaXbL",
        "outputId": "181cea7d-cffe-4d39-883f-f52adef0500f"
      },
      "execution_count": null,
      "outputs": [
        {
          "output_type": "stream",
          "name": "stdout",
          "text": [
            "Knight training.\n"
          ]
        }
      ]
    },
    {
      "cell_type": "markdown",
      "source": [
        "Here, the program checks the age and assigns the appropriate training level based on the numerical comparisons.\n",
        "\n",
        "#### Using the IN Operator\n",
        "\n",
        "We can also use the **IN** operator to check for membership in a list. Imagine checking if a character is part of the Rebel Alliance:"
      ],
      "metadata": {
        "id": "EMr0g2_0acyi"
      }
    },
    {
      "cell_type": "code",
      "source": [
        "rebel_alliance = ['Luke', 'Leia', 'Han', 'Chewbacca']\n",
        "character = 'Luke'\n",
        "\n",
        "if character in rebel_alliance:\n",
        "    print(f'{character} is a member of the Rebel Alliance.')\n",
        "else:\n",
        "    print(f'{character} is not a member of the Rebel Alliance.')"
      ],
      "metadata": {
        "colab": {
          "base_uri": "https://localhost:8080/"
        },
        "id": "gQlsLO3aaiuG",
        "outputId": "f7305183-54da-444d-8727-9e5bce817f6b"
      },
      "execution_count": null,
      "outputs": [
        {
          "output_type": "stream",
          "name": "stdout",
          "text": [
            "Luke is a member of the Rebel Alliance.\n"
          ]
        }
      ]
    },
    {
      "cell_type": "markdown",
      "source": [
        "Since 'Luke' is in the list `rebel_alliance`, the message \"Luke is a member of the Rebel Alliance.\" is printed.\n",
        "\n",
        "### Boolean Combinations\n",
        "\n",
        "We can combine multiple conditions using boolean operators to form complex conditions. Let's check if a character is eligible for a special mission based on multiple criteria:"
      ],
      "metadata": {
        "id": "13tXRKVsam6G"
      }
    },
    {
      "cell_type": "code",
      "source": [
        "is_jedi = True\n",
        "has_lightsaber = True\n",
        "is_on_mission = False\n",
        "\n",
        "if is_jedi and has_lightsaber and not is_on_mission:\n",
        "    print('Eligible for the special mission.')\n",
        "else:\n",
        "    print('Not eligible for the special mission.')"
      ],
      "metadata": {
        "colab": {
          "base_uri": "https://localhost:8080/"
        },
        "id": "d7GA869gasZf",
        "outputId": "6b3d1789-3cfb-442b-cb22-ec6d3de80785"
      },
      "execution_count": null,
      "outputs": [
        {
          "output_type": "stream",
          "name": "stdout",
          "text": [
            "Eligible for the special mission.\n"
          ]
        }
      ]
    },
    {
      "cell_type": "markdown",
      "source": [
        "Here, the character must be a Jedi, have a lightsaber, and not currently be on a mission to be eligible. Since all conditions are met, the message \"Eligible for the special mission.\" is printed."
      ],
      "metadata": {
        "id": "Y_JKg_Nlauve"
      }
    },
    {
      "cell_type": "markdown",
      "source": [
        "### What is Nesting in the Context of Conditionals?\n",
        "\n",
        "Nesting involves placing one conditional statement inside another. This allows us to check for multiple levels of conditions, similar to a multi-tiered decision-making process used by the Jedi Council.\n",
        "\n",
        "Consider a scenario where we need to make decisions based on the type of character and their specific traits:"
      ],
      "metadata": {
        "id": "6Bsh6KUja49d"
      }
    },
    {
      "cell_type": "code",
      "source": [
        "character = 'Jedi'\n",
        "has_lightsaber = True\n",
        "\n",
        "if character == 'Jedi':\n",
        "    if has_lightsaber:\n",
        "        print('Practice with your lightsaber.')\n",
        "    else:\n",
        "        print('Construct your lightsaber.')\n",
        "elif character == 'Sith':\n",
        "    if has_lightsaber:\n",
        "        print('Wield your lightsaber with anger.')\n",
        "    else:\n",
        "        print('Find a red kyber crystal.')\n",
        "else:\n",
        "    print('Live a normal life.')"
      ],
      "metadata": {
        "colab": {
          "base_uri": "https://localhost:8080/"
        },
        "id": "YZBxfkK5a7T8",
        "outputId": "7055873f-59f0-4b7a-fb73-0ce17bcf9e82"
      },
      "execution_count": null,
      "outputs": [
        {
          "output_type": "stream",
          "name": "stdout",
          "text": [
            "Practice with your lightsaber.\n"
          ]
        }
      ]
    },
    {
      "cell_type": "markdown",
      "source": [
        "Here, the outer if statement checks if the character is a Jedi. Within this block, another if statement checks if the Jedi has a lightsaber. This allows for more specific actions based on nested conditions."
      ],
      "metadata": {
        "id": "A5NBSisia_gu"
      }
    },
    {
      "cell_type": "markdown",
      "source": [
        "### Embedding Conditionals Within Functions\n",
        "We can also embed conditionals within funtions to create dynamic programs:"
      ],
      "metadata": {
        "id": "nCX6xgsATH7x"
      }
    },
    {
      "cell_type": "code",
      "source": [
        "def check_age(age):\n",
        "    if age < 13:\n",
        "        return 'Youngling training.'\n",
        "    elif age < 18:\n",
        "        return 'Padawan training.'\n",
        "    elif age < 30:\n",
        "        return 'Knight training.'\n",
        "    else:\n",
        "        return 'Master training.'\n",
        "\n",
        "# different arguments, different results\n",
        "print(check_age(10))\n",
        "print(check_age(20))\n",
        "print(check_age(35))"
      ],
      "metadata": {
        "colab": {
          "base_uri": "https://localhost:8080/"
        },
        "id": "Fb65ed-UTZjt",
        "outputId": "bd0fa403-dd73-4143-bb12-64e2d7ea25ea"
      },
      "execution_count": null,
      "outputs": [
        {
          "output_type": "stream",
          "name": "stdout",
          "text": [
            "Youngling training.\n",
            "Knight training.\n",
            "Master training.\n"
          ]
        }
      ]
    },
    {
      "cell_type": "markdown",
      "source": [
        "## You Try It: Conditionals\n",
        "1. Create a program that determines if a character is eligible for Jedi training. Use boolean variables for is_force_sensitive and is_of_age. Print whether the character is eligible for training (they need both)."
      ],
      "metadata": {
        "id": "IJGzpbOZMdet"
      }
    },
    {
      "cell_type": "code",
      "source": [
        "is_force_sensitive = True\n",
        "is_of_age = False\n",
        "\n",
        "# Write your code here\n"
      ],
      "metadata": {
        "id": "C7vRlkNiMuYF"
      },
      "execution_count": null,
      "outputs": []
    },
    {
      "cell_type": "markdown",
      "source": [
        "2. Write a program that assigns a lightsaber color based on a Jedi's path. Use an if-elif-else structure to assign 'blue' for 'guardian', 'green' for 'consular', 'purple' for 'both', and 'yellow' for any other path.\n",
        "Starter code:"
      ],
      "metadata": {
        "id": "H3uWktVqMyK7"
      }
    },
    {
      "cell_type": "code",
      "source": [
        "jedi_path = \"guardian\"\n",
        "\n",
        "# Your code here"
      ],
      "metadata": {
        "id": "cLjgKJXjM13p"
      },
      "execution_count": null,
      "outputs": []
    },
    {
      "cell_type": "markdown",
      "source": [
        "3.  Write a program that assigns a mission type based on a character's skills and equipment. Use nested conditionals to check if the character is a pilot (True/False) and has a ship (True/False). Assign \"Space Mission\" if both are True, \"Ground Mission\" if only pilot is False, and \"Support Role\" otherwise."
      ],
      "metadata": {
        "id": "Wh-BaxGVM5pl"
      }
    },
    {
      "cell_type": "code",
      "source": [
        "is_pilot = True\n",
        "has_ship = False\n",
        "\n",
        "# Your code here"
      ],
      "metadata": {
        "id": "rfOOCrGuNGhz"
      },
      "execution_count": null,
      "outputs": []
    },
    {
      "cell_type": "markdown",
      "source": [
        "4. Write a program that determines if a motion passes in the Galactic Senate. It should pass if more than 50% vote in favor, or if exactly 50% vote in favor and the Supreme Chancellor supports it. Use appropriate operators and conditionals.\n"
      ],
      "metadata": {
        "id": "vlbKzkijNTk1"
      }
    },
    {
      "cell_type": "code",
      "source": [
        "total_votes = 100\n",
        "votes_in_favor = 50\n",
        "chancellor_support = True\n",
        "\n",
        "# Your code here"
      ],
      "metadata": {
        "id": "lNHIwNnqNVDQ"
      },
      "execution_count": null,
      "outputs": []
    },
    {
      "cell_type": "markdown",
      "source": [
        "## Introducing NumPy: The Lightsaber of Python Programming\n",
        "\n",
        "\n",
        "Imagine you're building a huge LEGO Star Wars spaceship. Instead of creating every single part from scratch, you have pre-made kits for engines, weapons, and control systems. These kits save you time and effort, and they're designed to work perfectly with your other LEGO pieces.\n",
        "\n",
        "In Python, a library is like one of these specialized LEGO kits. It's a collection of pre-written code that you can use in your programs. Libraries save you time and give you access to powerful tools created by other programmers.\n",
        "\n",
        "### Introducing NumPy and Vectors\n",
        "\n",
        "NumPy is a popular Python library used for working with numbers, especially large sets of numbers. It's like having a super-calculator built into Python.\n",
        "\n",
        "In NumPy, we often work with \"vectors\". In programming, a vector is simply a list of numbers. For example:\n"
      ],
      "metadata": {
        "id": "0ryMJBb-GkOu"
      }
    },
    {
      "cell_type": "code",
      "source": [
        "# This is a Python list, similar to a vector\n",
        "rebel_ship_speeds = [75, 80, 62, 95, 88]\n",
        "print(rebel_ship_speeds)"
      ],
      "metadata": {
        "colab": {
          "base_uri": "https://localhost:8080/"
        },
        "id": "ZLOqBcZMGqKR",
        "outputId": "df1364db-8755-4ed2-b35c-4fa3cac0a9e5"
      },
      "execution_count": null,
      "outputs": [
        {
          "output_type": "stream",
          "name": "stdout",
          "text": [
            "[75, 80, 62, 95, 88]\n"
          ]
        }
      ]
    },
    {
      "cell_type": "markdown",
      "source": [
        "### Vectorized Operations: The Force Awakens\n",
        "\n",
        "Now, here's where NumPy's power really shines. Imagine we need to increase the speed of all ships by 10 units. In regular Python, we might do:"
      ],
      "metadata": {
        "id": "jtZL2jK1GufD"
      }
    },
    {
      "cell_type": "code",
      "source": [
        "faster_speeds = []\n",
        "for speed in rebel_ship_speeds:\n",
        "    faster_speeds.append(speed + 10)\n",
        "print(faster_speeds)"
      ],
      "metadata": {
        "colab": {
          "base_uri": "https://localhost:8080/"
        },
        "id": "28-x4REtGxJp",
        "outputId": "a3bc04ad-4aa7-45f9-dd07-e4069338363e"
      },
      "execution_count": null,
      "outputs": [
        {
          "output_type": "stream",
          "name": "stdout",
          "text": [
            "[85, 90, 72, 105, 98]\n"
          ]
        }
      ]
    },
    {
      "cell_type": "markdown",
      "source": [
        "But with NumPy, we can do this in one line:"
      ],
      "metadata": {
        "id": "nLzee7L8G2wL"
      }
    },
    {
      "cell_type": "code",
      "source": [
        "import numpy as np\n",
        "\n",
        "rebel_ships = np.array([75, 80, 62, 95, 88])\n",
        "faster_ships = rebel_ships + 10"
      ],
      "metadata": {
        "id": "zRtQM29uG42T"
      },
      "execution_count": null,
      "outputs": []
    },
    {
      "cell_type": "markdown",
      "source": [
        "This is called a \"vectorized operation\". Instead of dealing with each number one by one, NumPy applies the operation to the entire vector at once.\n",
        "\n",
        "It's like using the Force to lift all the ships simultaneously instead of one at a time!\n",
        "\n",
        "Let's try a few more examples:"
      ],
      "metadata": {
        "id": "7E9GWSKWG274"
      }
    },
    {
      "cell_type": "code",
      "source": [
        "# Double the speed of all ships\n",
        "double_speed = rebel_ships * 2\n",
        "print(double_speed)"
      ],
      "metadata": {
        "colab": {
          "base_uri": "https://localhost:8080/"
        },
        "id": "2oM9ZgMnHC9s",
        "outputId": "9483ad41-7449-47c5-cc53-39b36c11b7f7"
      },
      "execution_count": null,
      "outputs": [
        {
          "output_type": "stream",
          "name": "stdout",
          "text": [
            "[150 160 124 190 176]\n"
          ]
        }
      ]
    },
    {
      "cell_type": "code",
      "source": [
        "# Find out which ships are faster than 70\n",
        "fast_ships = rebel_ships > 70  # This gives us a vector of True/False values\n",
        "print(fast_ships)"
      ],
      "metadata": {
        "colab": {
          "base_uri": "https://localhost:8080/"
        },
        "id": "sr6LETwNHKKN",
        "outputId": "8a94d7f0-92f1-4a11-d35f-c7f534d47546"
      },
      "execution_count": null,
      "outputs": [
        {
          "output_type": "stream",
          "name": "stdout",
          "text": [
            "[ True  True False  True  True]\n"
          ]
        }
      ]
    },
    {
      "cell_type": "code",
      "source": [
        "# Calculate the square root of each speed\n",
        "speed_sqrt = np.sqrt(rebel_ships)\n",
        "print(speed_sqrt)"
      ],
      "metadata": {
        "colab": {
          "base_uri": "https://localhost:8080/"
        },
        "id": "HDEUe_nbHNvU",
        "outputId": "c19a1d8b-8cd2-44c1-80b4-7a5418c07eb9"
      },
      "execution_count": null,
      "outputs": [
        {
          "output_type": "stream",
          "name": "stdout",
          "text": [
            "[8.66025404 8.94427191 7.87400787 9.74679434 9.38083152]\n"
          ]
        }
      ]
    },
    {
      "cell_type": "markdown",
      "source": [
        "### Why Use NumPy and Vectorized Operations?\n",
        "\n",
        "1. Vectorized operations can be MUCH faster than loops (hundreds of times faster!), especially for large amounts of data.\n",
        "\n",
        "2.  As you saw, we can often replace several lines of code with a single line.\n",
        "\n",
        "3. Vectorized operations make our code easier to read and understand.\n",
        "\n",
        "4. NumPy provides many powerful functions for working with numbers and data.\n",
        "\n",
        "Imagine you're commanding a fleet of starships. Would you rather give orders to each ship individually, or command the entire fleet at once? That's the power of vectorized operations!"
      ],
      "metadata": {
        "id": "CZF4Q1ZEHGJU"
      }
    },
    {
      "cell_type": "markdown",
      "source": [
        "##  More Useful NumPy Functions\n",
        "\n",
        "Now that we understand the basics of NumPy and vectorized operations, let's explore some more useful functions that NumPy provides. These functions can help us analyze and manipulate our data in interesting ways.\n",
        "\n",
        "Sometimes, we need to create arrays with specific patterns. NumPy has functions to make this easy.\n",
        "\n",
        "#### Idea: Creating a range of numbers\n",
        "\n",
        "Imagine you're numbering a fleet of starships from 1 to 10. Instead of typing out all the numbers, we can use NumPy to create this range for us.\n"
      ],
      "metadata": {
        "id": "_ya4Nl_QHsGv"
      }
    },
    {
      "cell_type": "code",
      "source": [
        "ship_numbers = np.arange(1, 11)  # Creates an array from 1 to 10\n",
        "print(ship_numbers)"
      ],
      "metadata": {
        "colab": {
          "base_uri": "https://localhost:8080/"
        },
        "id": "7ppnobU4Ht9A",
        "outputId": "fb1824fd-8d64-49bb-9870-8721e554f4c5"
      },
      "execution_count": null,
      "outputs": [
        {
          "output_type": "stream",
          "name": "stdout",
          "text": [
            "[ 1  2  3  4  5  6  7  8  9 10]\n"
          ]
        }
      ]
    },
    {
      "cell_type": "markdown",
      "source": [
        "#### Idea: Creating arrays filled with a specific value\n",
        "\n",
        "What if we need to initialize the shield strength of 5 ships, all starting at full power (\"Full Power\")?"
      ],
      "metadata": {
        "id": "1_sCZn0aHx_h"
      }
    },
    {
      "cell_type": "code",
      "source": [
        "shield_strength = np.full(5, \"Full Power\")\n",
        "print(shield_strength)"
      ],
      "metadata": {
        "colab": {
          "base_uri": "https://localhost:8080/"
        },
        "id": "_KVJYzODHzvS",
        "outputId": "64ecad1a-15f0-4d62-dcd5-bbd77a64b429"
      },
      "execution_count": null,
      "outputs": [
        {
          "output_type": "stream",
          "name": "stdout",
          "text": [
            "['Full Power' 'Full Power' 'Full Power' 'Full Power' 'Full Power']\n"
          ]
        }
      ]
    },
    {
      "cell_type": "markdown",
      "source": [
        "### Basic Statistics\n",
        "\n",
        "NumPy can quickly calculate basic statistics on our data, which is super helpful for understanding our fleet's performance.\n",
        "\n",
        "####  Finding the average\n",
        "\n",
        "Let's say we have recorded the speeds of several ships during a race. We want to know the average speed.\n"
      ],
      "metadata": {
        "id": "bLaY6F01IEuv"
      }
    },
    {
      "cell_type": "code",
      "source": [
        "race_speeds = np.array([75, 82, 68, 95, 78, 88])\n",
        "average_speed = np.mean(race_speeds)\n",
        "print(f\"The average speed was: {average_speed}\")"
      ],
      "metadata": {
        "colab": {
          "base_uri": "https://localhost:8080/"
        },
        "id": "_c9bf2mgIHAy",
        "outputId": "cc78313d-d149-43c1-d94c-ba6135138b31"
      },
      "execution_count": null,
      "outputs": [
        {
          "output_type": "stream",
          "name": "stdout",
          "text": [
            "The average speed was: 81.0\n"
          ]
        }
      ]
    },
    {
      "cell_type": "markdown",
      "source": [
        "#### Finding the highest and lowest values\n",
        "\n",
        "We might want to know the fastest and slowest ships in our fleet."
      ],
      "metadata": {
        "id": "1l9j_9BqILT1"
      }
    },
    {
      "cell_type": "code",
      "source": [
        "fastest_speed = np.max(race_speeds)\n",
        "slowest_speed = np.min(race_speeds)\n",
        "print(f\"Fastest speed: {fastest_speed}, Slowest speed: {slowest_speed}\")"
      ],
      "metadata": {
        "colab": {
          "base_uri": "https://localhost:8080/"
        },
        "id": "n_scVWdeINhh",
        "outputId": "4d32d96b-23bd-48cf-9ad4-1993d03ea1b2"
      },
      "execution_count": null,
      "outputs": [
        {
          "output_type": "stream",
          "name": "stdout",
          "text": [
            "Fastest speed: 95, Slowest speed: 68\n"
          ]
        }
      ]
    },
    {
      "cell_type": "markdown",
      "source": [
        "### Finding elements that meet a condition\n",
        "\n",
        "Let's say we want to know which ships in our fleet are fast enough for a special mission (speed > 80).\n"
      ],
      "metadata": {
        "id": "W2o8mAIDIYeJ"
      }
    },
    {
      "cell_type": "code",
      "source": [
        "fleet_speeds = np.array([75, 82, 68, 95, 78, 88, 72, 91])\n",
        "fast_ships = fleet_speeds[fleet_speeds > 80]\n",
        "print(f\"Speeds of ships fast enough for the mission: {fast_ships}\")"
      ],
      "metadata": {
        "colab": {
          "base_uri": "https://localhost:8080/"
        },
        "id": "k0CxBB4iIaWF",
        "outputId": "ec778b78-beaf-4bee-a50b-fbf47eef4bb0"
      },
      "execution_count": null,
      "outputs": [
        {
          "output_type": "stream",
          "name": "stdout",
          "text": [
            "Speeds of ships fast enough for the mission: [82 95 88 91]\n"
          ]
        }
      ]
    },
    {
      "cell_type": "markdown",
      "source": [
        "### NumPy Operations with Text Data\n",
        "\n",
        "While NumPy is primarily used for numerical computations, it can also handle text data. Let's explore some operations using Star Wars themed examples.\n",
        "\n",
        "First, let's create an array of Star Wars character names:\n"
      ],
      "metadata": {
        "id": "L9dMyAflJkUn"
      }
    },
    {
      "cell_type": "code",
      "source": [
        "characters = np.array(['Luke', 'Leia', 'Han', 'Chewie', 'Vader'])\n",
        "print(characters)"
      ],
      "metadata": {
        "colab": {
          "base_uri": "https://localhost:8080/"
        },
        "id": "Ae-SFK5_Jk3R",
        "outputId": "d9f6e174-186c-4c82-a3ad-a369354e458e"
      },
      "execution_count": null,
      "outputs": [
        {
          "output_type": "stream",
          "name": "stdout",
          "text": [
            "['Luke' 'Leia' 'Han' 'Chewie' 'Vader']\n"
          ]
        }
      ]
    },
    {
      "cell_type": "markdown",
      "source": [
        "NumPy provides vectorized string operations. For example, we can make all names uppercase:"
      ],
      "metadata": {
        "id": "b24nV7-lJsEG"
      }
    },
    {
      "cell_type": "code",
      "source": [
        "uppercase_names = np.char.upper(characters)\n",
        "print(uppercase_names)"
      ],
      "metadata": {
        "colab": {
          "base_uri": "https://localhost:8080/"
        },
        "id": "8BIz5-dtJslz",
        "outputId": "d7ed14f2-870c-461e-d9b0-ace1fa22afd1"
      },
      "execution_count": null,
      "outputs": [
        {
          "output_type": "stream",
          "name": "stdout",
          "text": [
            "['LUKE' 'LEIA' 'HAN' 'CHEWIE' 'VADER']\n"
          ]
        }
      ]
    },
    {
      "cell_type": "markdown",
      "source": [
        "We can create **boolean masks** based on string conditions:"
      ],
      "metadata": {
        "id": "tj4Eg6TtJvFR"
      }
    },
    {
      "cell_type": "code",
      "source": [
        "# Find names that start with 'L'\n",
        "l_names = np.char.startswith(characters, 'L')\n",
        "print(characters[l_names])"
      ],
      "metadata": {
        "colab": {
          "base_uri": "https://localhost:8080/"
        },
        "id": "bV2MuabFJ452",
        "outputId": "26367251-7e00-4e01-bd4e-fca62f248cfd"
      },
      "execution_count": null,
      "outputs": [
        {
          "output_type": "stream",
          "name": "stdout",
          "text": [
            "['Luke' 'Leia']\n"
          ]
        }
      ]
    },
    {
      "cell_type": "markdown",
      "source": [
        "### Summary of Important NumPy Operations\n",
        "\n",
        "Here's a table summarizing some of the most important NumPy operations we've covered, along with a few additional ones:\n",
        "\n",
        "| Operation | NumPy Function | Description | Example |\n",
        "|-----------|----------------|-------------|---------|\n",
        "| Create array | `np.array()` | Create a NumPy array | `np.array([1, 2, 3])` |\n",
        "| Create range | `np.arange()` | Create array with a range of numbers | `np.arange(1, 11)` |\n",
        "| Create filled array | `np.full()` | Create array filled with specific value | `np.full(5, 100)` |\n",
        "| Mean | `np.mean()` | Calculate average of array | `np.mean([1, 2, 3])` |\n",
        "| Max | `np.max()` | Find maximum value in array | `np.max([1, 2, 3])` |\n",
        "| Min | `np.min()` | Find minimum value in array | `np.min([1, 2, 3])` |\n",
        "| Reshape | `array.reshape()` | Change shape of array | `array.reshape(2, 3)` |\n",
        "| Indexing | `array[condition]` | Select elements based on condition | `array[array > 5]` |\n",
        "| Concatenate | `np.concatenate()` | Join arrays | `np.concatenate((arr1, arr2))` |\n",
        "| Element-wise operations | `+, -, *, /` | Perform operation on each element | `array1 + array2` |\n",
        "| Sum | `np.sum()` | Sum of array elements | `np.sum([1, 2, 3])` |\n",
        "| Standard Deviation | `np.std()` | Calculate standard deviation | `np.std([1, 2, 3])` |\n",
        "| Unique values | `np.unique()` | Find unique values in array | `np.unique([1, 2, 2, 3])` |\n",
        "| Sort | `np.sort()` | Sort array | `np.sort([3, 1, 2])` |\n",
        "| Transpose | `array.T` | Transpose array | `array.T` |\n",
        "\n",
        "These operations form the foundation of data manipulation with NumPy. As you become more comfortable with these, you'll find that complex data operations become much simpler and more efficient.\n"
      ],
      "metadata": {
        "id": "h4k6PW_FKkCw"
      }
    },
    {
      "cell_type": "markdown",
      "source": [
        "## Lab: Practice Python Conditionals and Numpy\n",
        "This lab focuses mostly on using conditionals. Some of the later problems will allow you to practice numpy."
      ],
      "metadata": {
        "id": "kLqnaNsKEkA6"
      }
    },
    {
      "cell_type": "code",
      "source": [
        "!wget https://github.com/brendanpshea/computing_concepts_python/raw/main/python_code_quiz/pyquiz.py -q -nc\n",
        "from pyquiz import *\n",
        "practice_tool = PracticeTool(json_url='https://github.com/brendanpshea/computing_concepts_python/raw/main/python_code_quiz/mario_conditionals.json')"
      ],
      "metadata": {
        "id": "pC__0FFNEp3k",
        "outputId": "b7f6b76e-5245-4f56-9520-9c75ad9c9978",
        "colab": {
          "base_uri": "https://localhost:8080/",
          "height": 685,
          "referenced_widgets": [
            "66ef1f59d6d249878685a106d796bc9b",
            "7d15628657f64107aa0c3871ca224a82",
            "20a1ee0cd3d74a0085efbdf73bc54352",
            "a9ff4081ca284ed1bd163fe733c32e62",
            "7c24824b79584a669115e4cbc2cb54ae",
            "dcffda9164a84a6a90fba3411bc0272a",
            "b38a22dc44384488aac53d6f335aed3a",
            "903e46349ef1495d9e96858fe675406b",
            "15e0850e4dbd42c59045b387b57f936f",
            "626d9afd67a446f1805d28a83c7dc929",
            "fadfcf365611400cba00df5552e9c275",
            "267beeeedf46471ca10d7dfde6ff4d22",
            "da8130d335424c958634720b3f6e6281",
            "2011bea60814449e8f891ccc585049a5",
            "eedfbe62f4184614adb8d5b238adf752",
            "832ecdec2b644882b6b057d942510d4e",
            "da015b39611d48a38ebd77aadff11bec",
            "ad9d4a3f8fd4494f89551b889d8ca915",
            "70917750bc974262b77591f53820756a",
            "a101893081714de3850aeb4ec01636c3",
            "9eded6660d01430ab48d295a579a9e07",
            "8c08ffb0cfd94a1db6e2b338d24364ed",
            "0244fd7d338d4e1abb108ab7c6a5523a",
            "7f9a9903a14c4b64bf336cdcf9bb2a58",
            "d796dd5696dc4775910313cad899988c",
            "b7a3262c7e454f6580d4445666183997",
            "b132484214d245baa9605784fd161c01",
            "b1e579ac782c447384288a22677fd4de",
            "96ca39e16d344f75b7c9ab7efeaa9656",
            "cf0ecc7fd2a4417e89154a720c26c572",
            "d4770aa834a7412b96653c0bf0605f38",
            "9f8b450488774a1c8b64538e379e5849",
            "f05e792a5f2b4b7d81c3da9c4d2eb205",
            "32a9d7a9148b4580b731b3c9adc15c18",
            "7c3e275cdee84ac0bb26979fad21ad00",
            "9dbc213cb3194720baf2669ef2587582",
            "fd3ebd6119834711ae3f270e2818f075",
            "05e3393232474771a9ac03fb83618657",
            "fcdbf5140f2b42e1a44ec359a97f1b5f",
            "43253402cab34845939ac41cf39ff828",
            "42298db5247c444f82ed95141cef4839"
          ]
        }
      },
      "execution_count": null,
      "outputs": [
        {
          "output_type": "display_data",
          "data": {
            "text/plain": [
              "Tab(children=(Output(), VBox(children=(IntProgress(value=0, bar_style='info', description='Progress:', layout=…"
            ],
            "application/vnd.jupyter.widget-view+json": {
              "version_major": 2,
              "version_minor": 0,
              "model_id": "66ef1f59d6d249878685a106d796bc9b"
            }
          },
          "metadata": {}
        }
      ]
    },
    {
      "cell_type": "markdown",
      "source": [
        "## Review With Quizlet"
      ],
      "metadata": {
        "id": "XJ3P1GaDEhva"
      }
    },
    {
      "cell_type": "code",
      "source": [
        "%%html\n",
        "<iframe src=\"https://quizlet.com/929263984/learn/embed?i=psvlh&x=1jj1\" height=\"600\" width=\"100%\" style=\"border:0\"></iframe>"
      ],
      "metadata": {
        "id": "Kfx-FCSdlCiG"
      },
      "execution_count": null,
      "outputs": []
    },
    {
      "cell_type": "markdown",
      "source": [
        "### Glossary\n",
        "| Term | Definition |\n",
        "|------|------------|\n",
        "| ! | Logical NOT operator. Inverts the boolean value of its operand. |\n",
        "| & | Bitwise AND operator. Performs AND operation on each pair of bits. |\n",
        "| \\| | Bitwise OR operator. Performs OR operation on each pair of bits. |\n",
        "| AND | Logical operator that returns True only if both operands are True. |\n",
        "| Boolean logic | System of logical thought using true/false values and operations. |\n",
        "| CISC | Complex Instruction Set Computing. Architecture with many complex instructions. |\n",
        "| Conditional statement | Programming construct that performs different computations depending on whether a condition evaluates to True or False. |\n",
        "| elif (condition): | Used in multi-branch conditional statements. Checks this condition if previous conditions were False. |\n",
        "| else: | Final clause in a conditional statement. Executes if all preceding conditions were False. |\n",
        "| False | Boolean value representing logical falsity or the number 0. |\n",
        "| GPU | Graphics Processing Unit. Specialized processor designed to accelerate graphics rendering. |\n",
        "| if (condition): | Begins a conditional statement. The following code block executes if the condition is True. |\n",
        "| in | Membership operator. Returns True if a value is found in the specified sequence. |\n",
        "| Import | Statement used to include external modules or specific functions from a module in a Python script. |\n",
        "| Instruction set architecture | Set of all instructions that a processor can execute, defining its capabilities. |\n",
        "| Library | Collection of pre-written code, subprograms, classes, or functions that can be used in software development. |\n",
        "| Logic gate | Fundamental building block of digital circuits, implementing a Boolean function. |\n",
        "| my_np_array * num | Element-wise multiplication of each item in the NumPy array by the scalar num. |\n",
        "| my_np_array + num | Element-wise addition of the scalar num to each item in the NumPy array. |\n",
        "| my_np_array = np.array([1,2,3]) | Creates a new NumPy array with the values [1, 2, 3]. |\n",
        "| my_np_array > num | Element-wise comparison, returns a boolean array where each element is True if the corresponding array element is greater than num. |\n",
        "| my_np_array[my_np_array > num] | Boolean indexing in NumPy, returns a new array with elements where the condition is True. |\n",
        "| NAND | Logical operation that is the negation of AND. True if at least one input is False. |\n",
        "| Nested conditional | A conditional statement that contains another conditional statement within its code block. |\n",
        "| NOR | Logical operation that is the negation of OR. True only if both inputs are False. |\n",
        "| NOT | Logical operation that inverts the truth value of its operand. |\n",
        "| np.random.rand(num) | NumPy function that generates an array of num random samples from a uniform distribution over [0, 1). |\n",
        "| numpy | Fundamental package for scientific computing in Python, often imported as np. |\n",
        "| OR | Logical operator that returns True if at least one of its operands is True. |\n",
        "| RISC | Reduced Instruction Set Computing. Architecture with a smaller set of simpler instructions. |\n",
        "| TPU | Tensor Processing Unit. Custom-developed ASIC for neural network machine learning. |\n",
        "| True | Boolean value representing logical truth or the number 1. |\n",
        "| Truth table | Table showing the output values of a logical expression for every possible combination of input values. |\n",
        "| XOR | Exclusive OR. Logical operation that is True if the inputs differ (one is True, the other is False). |\n",
        "\n"
      ],
      "metadata": {
        "id": "h5iAVY5jCwzk"
      }
    },
    {
      "cell_type": "code",
      "source": [],
      "metadata": {
        "id": "jH0eEMU1zHm7"
      },
      "execution_count": null,
      "outputs": []
    }
  ]
}