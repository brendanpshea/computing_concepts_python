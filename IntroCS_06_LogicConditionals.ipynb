{
  "nbformat": 4,
  "nbformat_minor": 0,
  "metadata": {
    "colab": {
      "provenance": [],
      "authorship_tag": "ABX9TyPH1mxPGsacY4eXB6WgFNGt",
      "include_colab_link": true
    },
    "kernelspec": {
      "name": "python3",
      "display_name": "Python 3"
    },
    "language_info": {
      "name": "python"
    }
  },
  "cells": [
    {
      "cell_type": "markdown",
      "metadata": {
        "id": "view-in-github",
        "colab_type": "text"
      },
      "source": [
        "<a href=\"https://colab.research.google.com/github/brendanpshea/computing_concepts_python/blob/main/IntroCS_06_LogicConditionals.ipynb\" target=\"_parent\"><img src=\"https://colab.research.google.com/assets/colab-badge.svg\" alt=\"Open In Colab\"/></a>"
      ]
    },
    {
      "cell_type": "markdown",
      "source": [
        "# Boolean Logic and Conditionals in a Galaxy Far, Far Away\n",
        "\n",
        "In a galaxy far, far away, decision-making is crucial for survival. Whether you're a Jedi deciding whether to confront a Sith Lord, or a droid determining the optimal path to evade Stormtroopers, the principles of **boolean logic** are essential. In this chapter, we will explore the fundamentals of boolean logic and conditionals, using examples from the Star Wars universe to illustrate these concepts.\n",
        "\n",
        "## What is Boolean Logic?\n",
        "\n",
        "Boolean logic, named after the mathematician George Boole, is a form of algebra in which all values are reduced to either **True** or **False**. This binary system is the foundation of computer logic and programming. In the Star Wars universe, think of boolean logic as the Force guiding decisions---it's either light or dark, no in-between.\n",
        "\n",
        "Consider the Jedi Council's decision-making process. When deciding whether to train a new Jedi, they might use boolean logic to determine the candidate's potential. For instance:\n",
        "\n",
        "-   **True** if the candidate has a strong connection to the Force.\n",
        "-   **False** if the candidate shows tendencies toward the dark side.\n",
        "\n",
        "By reducing these decisions to boolean values, the Jedi can make clear, binary choices.\n",
        "\n",
        "### What are the Basic Boolean Operators?\n",
        "\n",
        "Boolean operators are used to manipulate boolean values and combine multiple conditions. The three fundamental boolean operators are **AND**, **OR**, and **NOT**.\n",
        "\n",
        "-   **AND**: This operator returns **True** if both operands are true. In Star Wars terms, consider the criteria for being a Jedi Knight:\n",
        "\n",
        "    -   **True** if the individual is strong with the Force **AND** has completed their training.\n",
        "    -   Example: `is_strong_with_force AND has_completed_training`\n",
        "-   **OR**: This operator returns **True** if at least one of the operands is true. Imagine a droid deciding whether to alert the Rebels:\n",
        "\n",
        "    -   **True** if the Death Star is operational **OR** the Imperial fleet is approaching.\n",
        "    -   Example: `is_death_star_operational OR is_imperial_fleet_approaching`\n",
        "-   **NOT**: This operator inverts the value of the operand. It returns **True** if the operand is false and vice versa. Think of the Sith's perspective on a Jedi:\n",
        "\n",
        "    -   **True** if the individual is **NOT** a Sith.\n",
        "    -   Example: `NOT is_sith`\n",
        "\n",
        "### How are Boolean Values Represented in Programming?\n",
        "\n",
        "In programming, boolean values are represented by the keywords **True** and **False**. These values are used to control the flow of the program, making decisions based on conditions.\n",
        "\n",
        "In Python, for example, we can represent boolean values as follows:\n",
        "\n",
        "```python\n",
        "is_jedi = True\n",
        "is_sith = False\n",
        "```\n",
        "\n",
        "Let's explore a practical example in the Star Wars universe. Suppose we want to check if Luke Skywalker is eligible to train as a Jedi Knight. We'll use boolean values and operators to evaluate his status."
      ],
      "metadata": {
        "id": "hUGOxAt3UoSO"
      }
    },
    {
      "cell_type": "code",
      "source": [
        "# Define the conditions\n",
        "is_strong_with_force = True\n",
        "has_completed_training = False\n",
        "\n",
        "# Use the AND operator to check eligibility\n",
        "is_eligible_for_training = is_strong_with_force and has_completed_training\n",
        "\n",
        "print(is_eligible_for_training)"
      ],
      "metadata": {
        "colab": {
          "base_uri": "https://localhost:8080/"
        },
        "id": "6gvHjZFiUpZq",
        "outputId": "150cfc84-6f45-435d-b21d-4e575f4c04e6"
      },
      "execution_count": 1,
      "outputs": [
        {
          "output_type": "stream",
          "name": "stdout",
          "text": [
            "False\n"
          ]
        }
      ]
    },
    {
      "cell_type": "markdown",
      "source": [
        "In this example, although Luke is strong with the Force, he hasn't completed his training, so the combined condition returns **False**."
      ],
      "metadata": {
        "id": "R2D6u8bkUu5t"
      }
    },
    {
      "cell_type": "markdown",
      "source": [
        "### What is the AND Operator and How Does it Function?\n",
        "\n",
        "Before we dive into the AND operator, let's understand what a **truth table** is. A truth table is a mathematical table used to determine the result of all possible combinations of inputs in a boolean expression. It systematically lists all possible values of the inputs and the corresponding output of the boolean expression.\n",
        "\n",
        "The **AND** operator is used to combine two conditions and returns **True** only if both conditions are true. This is akin to ensuring both criteria in a decision are met.\n",
        "\n",
        "Here's a truth table for the AND operator:\n",
        "\n",
        "| Condition A | Condition B | A AND B |\n",
        "| --- | --- | --- |\n",
        "| True | True | True |\n",
        "| True | False | False |\n",
        "| False | True | False |\n",
        "| False | False | False |\n",
        "\n",
        "In the Star Wars universe, let's determine if a character can join the Jedi Council. The character must be both strong with the Force and have demonstrated exceptional wisdom:"
      ],
      "metadata": {
        "id": "RHZpzTJeVwF7"
      }
    },
    {
      "cell_type": "code",
      "source": [
        "# Define the conditions\n",
        "is_strong_with_force = True\n",
        "has_exceptional_wisdom = True\n",
        "\n",
        "# Use the AND operator to check eligibility\n",
        "can_join_jedi_council = is_strong_with_force and has_exceptional_wisdom\n",
        "\n",
        "print(can_join_jedi_council)"
      ],
      "metadata": {
        "id": "pHqpsoFvVx27"
      },
      "execution_count": null,
      "outputs": []
    },
    {
      "cell_type": "markdown",
      "source": [
        "### How Does the OR Operator Work in Boolean Logic?\n",
        "\n",
        "The **OR** operator combines two conditions and returns **True** if at least one of the conditions is true. This is useful when either criterion being met is sufficient.\n",
        "\n",
        "Here's a truth table for the OR operator:\n",
        "\n",
        "| Condition A | Condition B | A OR B |\n",
        "| --- | --- | --- |\n",
        "| True | True | True |\n",
        "| True | False | True |\n",
        "| False | True | True |\n",
        "| False | False | False |\n",
        "\n",
        "Imagine a Rebel pilot deciding whether to engage in battle. The pilot might engage if the enemy is either the Death Star or a fleet of Star Destroyers:"
      ],
      "metadata": {
        "id": "LI9Wo2aJX-uK"
      }
    },
    {
      "cell_type": "code",
      "source": [
        "# Define the conditions\n",
        "is_death_star_present = False\n",
        "is_star_destroyer_fleet_present = True\n",
        "\n",
        "# Use the OR operator to decide on engagement\n",
        "engage_in_battle = is_death_star_present or is_star_destroyer_fleet_present\n",
        "\n",
        "print(engage_in_battle)  # Output: True"
      ],
      "metadata": {
        "colab": {
          "base_uri": "https://localhost:8080/"
        },
        "id": "-Fy8qZA5Y1mW",
        "outputId": "c49f74d7-4693-43bf-9938-096eae4a4268"
      },
      "execution_count": 2,
      "outputs": [
        {
          "output_type": "stream",
          "name": "stdout",
          "text": [
            "True\n"
          ]
        }
      ]
    },
    {
      "cell_type": "markdown",
      "source": [
        "Here, the presence of a fleet of Star Destroyers is enough to engage in battle, resulting in **True**.\n",
        "\n",
        "### What is the Purpose of the NOT Operator in Boolean Logic?\n",
        "\n",
        "The **NOT** operator is used to invert the value of a boolean expression. It turns **True** into **False** and **False** into **True**. This is particularly useful for checking conditions that should not be met.\n",
        "\n",
        "Here's a truth table for the NOT operator:\n",
        "\n",
        "| Condition A | NOT A |\n",
        "| --- | --- |\n",
        "| True | False |\n",
        "| False | True |\n",
        "\n",
        "Consider a Sith Lord identifying individuals who are not part of the Sith Order:"
      ],
      "metadata": {
        "id": "Bj3Fs8YWY56W"
      }
    },
    {
      "cell_type": "code",
      "source": [
        "# Define the condition\n",
        "is_sith = False\n",
        "\n",
        "# Use the NOT operator to invert the condition\n",
        "is_not_sith = not is_sith\n",
        "\n",
        "print(is_not_sith)"
      ],
      "metadata": {
        "colab": {
          "base_uri": "https://localhost:8080/"
        },
        "id": "lhPlwqppZEHP",
        "outputId": "1a6e40c1-7811-4954-8e03-3670c1a36957"
      },
      "execution_count": 3,
      "outputs": [
        {
          "output_type": "stream",
          "name": "stdout",
          "text": [
            "True\n"
          ]
        }
      ]
    },
    {
      "cell_type": "markdown",
      "source": [
        "In this example, the condition `is_sith` is **False**, so applying the **NOT** operator results in **True**."
      ],
      "metadata": {
        "id": "g1ekKRUjZHsW"
      }
    },
    {
      "cell_type": "markdown",
      "source": [
        "### What is the IN Operator and How is it Used in Boolean Logic?\n",
        "\n",
        "The **IN** operator checks if a value exists within a collection, such as a list, and returns **True** if it does. This is useful for membership tests.\n",
        "\n",
        "Imagine a scenario where we need to check if a character is part of the Rebel Alliance:"
      ],
      "metadata": {
        "id": "wj41PhcRZO2I"
      }
    },
    {
      "cell_type": "code",
      "source": [
        "# Define the list of Rebel Alliance members\n",
        "rebel_alliance = ['Luke', 'Leia', 'Han', 'Chewbacca']\n",
        "\n",
        "# Check if a character is in the Rebel Alliance\n",
        "character = 'Luke'\n",
        "is_rebel = character in rebel_alliance\n",
        "print(is_rebel)"
      ],
      "metadata": {
        "colab": {
          "base_uri": "https://localhost:8080/"
        },
        "id": "xAmI9dy8ZVbi",
        "outputId": "eecc72b9-fd25-4ef1-eb8b-887f25bce906"
      },
      "execution_count": 6,
      "outputs": [
        {
          "output_type": "stream",
          "name": "stdout",
          "text": [
            "True\n"
          ]
        }
      ]
    },
    {
      "cell_type": "markdown",
      "source": [
        "Here, the character 'Luke' is in the list of Rebel Alliance members, so the result is True. If we check for a different character:"
      ],
      "metadata": {
        "id": "edPoO4CkZe88"
      }
    },
    {
      "cell_type": "code",
      "source": [
        "'Vader' in rebel_alliance"
      ],
      "metadata": {
        "colab": {
          "base_uri": "https://localhost:8080/"
        },
        "id": "Mely0sF7ZiyL",
        "outputId": "3ae8109c-a053-4ace-8390-5588452d1c4a"
      },
      "execution_count": 7,
      "outputs": [
        {
          "output_type": "execute_result",
          "data": {
            "text/plain": [
              "False"
            ]
          },
          "metadata": {},
          "execution_count": 7
        }
      ]
    },
    {
      "cell_type": "markdown",
      "source": [
        "## How Do Conditionals Work in Programming?\n",
        "\n",
        "Conditionals in programming allow us to execute certain pieces of code based on whether specific conditions are true or false. This is akin to how characters in Star Wars make decisions based on their circumstances. For example, a droid like R2-D2 might decide to lock a door if it detects Stormtroopers approaching.\n",
        "\n",
        "The basic structure of conditionals in Python uses the `if`, `elif`, and `else` statements. Here's how they work:\n",
        "\n",
        "### What is an If Statement and How is it Used?\n",
        "\n",
        "An **if statement** is used to test a condition. If the condition is true, the block of code indented under the if statement is executed. This is like a Jedi deciding to train if they sense the Force is strong within them.\n",
        "\n",
        "Here's a simple example in Python:"
      ],
      "metadata": {
        "id": "dW_mUeeLZ2KV"
      }
    },
    {
      "cell_type": "code",
      "source": [
        "# Define the condition\n",
        "is_jedi = True\n",
        "\n",
        "# Use the if statement to check the condition\n",
        "if is_jedi:\n",
        "    print('Train in the ways of the Force.')"
      ],
      "metadata": {
        "colab": {
          "base_uri": "https://localhost:8080/"
        },
        "id": "JKKXavjsZ3lf",
        "outputId": "6ef959a5-81db-46bd-c36a-51953435c98e"
      },
      "execution_count": 8,
      "outputs": [
        {
          "output_type": "stream",
          "name": "stdout",
          "text": [
            "Train in the ways of the Force.\n"
          ]
        }
      ]
    },
    {
      "cell_type": "markdown",
      "source": [
        "Since `is_jedi` is **True**, the message \"Train in the ways of the Force.\" is printed.\n",
        "\n",
        "### What is an Else Statement and How is it Used?\n",
        "\n",
        "An **else statement** is used to execute a block of code if the preceding **if** condition is false. This provides an alternative path of execution, similar to a character deciding on a different course of action if the first option is not viable.\n",
        "\n",
        "Consider an example where we decide what to do if a character is not a Jedi:"
      ],
      "metadata": {
        "id": "-425E-skZ6Rd"
      }
    },
    {
      "cell_type": "code",
      "source": [
        "is_jedi = False\n",
        "\n",
        "# Use the if and else statements to check the condition\n",
        "if is_jedi:\n",
        "    print('Train in the ways of the Force.')\n",
        "else:\n",
        "    print('Live a normal life.')"
      ],
      "metadata": {
        "colab": {
          "base_uri": "https://localhost:8080/"
        },
        "id": "h8Lz6w9raBfI",
        "outputId": "b86e952f-9723-4539-900e-a5ab34c04d04"
      },
      "execution_count": 9,
      "outputs": [
        {
          "output_type": "stream",
          "name": "stdout",
          "text": [
            "Live a normal life.\n"
          ]
        }
      ]
    },
    {
      "cell_type": "markdown",
      "source": [
        "Since `is_jedi` is **False**, the message \"Live a normal life.\" is printed.\n",
        "\n",
        "### How Do Elif Statements Extend the Functionality of If Statements?\n",
        "\n",
        "The **elif** statement, short for \"else if,\" allows us to check multiple conditions in sequence. This is useful when there are several potential paths of execution. Think of it as evaluating multiple possibilities before deciding on a course of action, much like a Jedi considering different strategies.\n",
        "\n",
        "Imagine deciding the role of a character in the Rebel Alliance:"
      ],
      "metadata": {
        "id": "FiQJRDz6aECi"
      }
    },
    {
      "cell_type": "code",
      "source": [
        "character = 'Han'\n",
        "\n",
        "if character == 'Jedi':\n",
        "    print('Train in the ways of the Force.')\n",
        "elif character == 'Pilot':\n",
        "    print('Fly the Millennium Falcon.')\n",
        "elif character == 'General':\n",
        "    print('Lead the Rebel forces.')\n",
        "else:\n",
        "    print('Join the support crew.')"
      ],
      "metadata": {
        "colab": {
          "base_uri": "https://localhost:8080/"
        },
        "id": "FNSdRWYhaKnz",
        "outputId": "98d25d69-c878-4972-e726-3ad008c50e87"
      },
      "execution_count": 10,
      "outputs": [
        {
          "output_type": "stream",
          "name": "stdout",
          "text": [
            "Join the support crew.\n"
          ]
        }
      ]
    },
    {
      "cell_type": "markdown",
      "source": [
        "In this example:\n",
        "\n",
        "-   If the character is a Jedi, the program prints \"Train in the ways of the Force.\"\n",
        "-   If the character is a Pilot, it prints \"Fly the Millennium Falcon.\"\n",
        "-   If the character is a General, it prints \"Lead the Rebel forces.\"\n",
        "-   If none of these conditions are true, it prints \"Join the support crew.\"\n",
        "\n",
        "#### Complex Conditions with Numerical Comparisons, IN, and Boolean Combinations\n",
        "\n",
        "As we become more proficient with conditionals, we can use more complex conditions, including numerical comparisons, the **IN** operator, and boolean combinations.\n",
        "\n",
        "##### Numerical Comparisons\n",
        "\n",
        "Let's decide the training level of a Jedi based on their age:"
      ],
      "metadata": {
        "id": "w-IejSK6aPbE"
      }
    },
    {
      "cell_type": "code",
      "source": [
        "age = 25\n",
        "\n",
        "if age < 13:\n",
        "    print('Youngling training.')\n",
        "elif age < 18:\n",
        "    print('Padawan training.')\n",
        "elif age < 30:\n",
        "    print('Knight training.')\n",
        "else:\n",
        "    print('Master training.')"
      ],
      "metadata": {
        "colab": {
          "base_uri": "https://localhost:8080/"
        },
        "id": "-hZTN8MAaXbL",
        "outputId": "181cea7d-cffe-4d39-883f-f52adef0500f"
      },
      "execution_count": 11,
      "outputs": [
        {
          "output_type": "stream",
          "name": "stdout",
          "text": [
            "Knight training.\n"
          ]
        }
      ]
    },
    {
      "cell_type": "markdown",
      "source": [
        "Here, the program checks the age and assigns the appropriate training level based on the numerical comparisons.\n",
        "\n",
        "#### Using the IN Operator\n",
        "\n",
        "We can also use the **IN** operator to check for membership in a list. Imagine checking if a character is part of the Rebel Alliance:"
      ],
      "metadata": {
        "id": "EMr0g2_0acyi"
      }
    },
    {
      "cell_type": "code",
      "source": [
        "rebel_alliance = ['Luke', 'Leia', 'Han', 'Chewbacca']\n",
        "character = 'Luke'\n",
        "\n",
        "if character in rebel_alliance:\n",
        "    print(f'{character} is a member of the Rebel Alliance.')\n",
        "else:\n",
        "    print(f'{character} is not a member of the Rebel Alliance.')"
      ],
      "metadata": {
        "colab": {
          "base_uri": "https://localhost:8080/"
        },
        "id": "gQlsLO3aaiuG",
        "outputId": "f7305183-54da-444d-8727-9e5bce817f6b"
      },
      "execution_count": 12,
      "outputs": [
        {
          "output_type": "stream",
          "name": "stdout",
          "text": [
            "Luke is a member of the Rebel Alliance.\n"
          ]
        }
      ]
    },
    {
      "cell_type": "markdown",
      "source": [
        "Since 'Luke' is in the list `rebel_alliance`, the message \"Luke is a member of the Rebel Alliance.\" is printed.\n",
        "\n",
        "### Boolean Combinations\n",
        "\n",
        "We can combine multiple conditions using boolean operators to form complex conditions. Let's check if a character is eligible for a special mission based on multiple criteria:"
      ],
      "metadata": {
        "id": "13tXRKVsam6G"
      }
    },
    {
      "cell_type": "code",
      "source": [
        "is_jedi = True\n",
        "has_lightsaber = True\n",
        "is_on_mission = False\n",
        "\n",
        "if is_jedi and has_lightsaber and not is_on_mission:\n",
        "    print('Eligible for the special mission.')\n",
        "else:\n",
        "    print('Not eligible for the special mission.')"
      ],
      "metadata": {
        "colab": {
          "base_uri": "https://localhost:8080/"
        },
        "id": "d7GA869gasZf",
        "outputId": "6b3d1789-3cfb-442b-cb22-ec6d3de80785"
      },
      "execution_count": 13,
      "outputs": [
        {
          "output_type": "stream",
          "name": "stdout",
          "text": [
            "Eligible for the special mission.\n"
          ]
        }
      ]
    },
    {
      "cell_type": "markdown",
      "source": [
        "Here, the character must be a Jedi, have a lightsaber, and not currently be on a mission to be eligible. Since all conditions are met, the message \"Eligible for the special mission.\" is printed."
      ],
      "metadata": {
        "id": "Y_JKg_Nlauve"
      }
    },
    {
      "cell_type": "markdown",
      "source": [
        "### What is Nesting in the Context of Conditionals?\n",
        "\n",
        "Nesting involves placing one conditional statement inside another. This allows us to check for multiple levels of conditions, similar to a multi-tiered decision-making process used by the Jedi Council.\n",
        "\n",
        "Consider a scenario where we need to make decisions based on the type of character and their specific traits:"
      ],
      "metadata": {
        "id": "6Bsh6KUja49d"
      }
    },
    {
      "cell_type": "code",
      "source": [
        "character = 'Jedi'\n",
        "has_lightsaber = True\n",
        "\n",
        "if character == 'Jedi':\n",
        "    if has_lightsaber:\n",
        "        print('Practice with your lightsaber.')\n",
        "    else:\n",
        "        print('Construct your lightsaber.')\n",
        "elif character == 'Sith':\n",
        "    if has_lightsaber:\n",
        "        print('Wield your lightsaber with anger.')\n",
        "    else:\n",
        "        print('Find a red kyber crystal.')\n",
        "else:\n",
        "    print('Live a normal life.')"
      ],
      "metadata": {
        "colab": {
          "base_uri": "https://localhost:8080/"
        },
        "id": "YZBxfkK5a7T8",
        "outputId": "7055873f-59f0-4b7a-fb73-0ce17bcf9e82"
      },
      "execution_count": 14,
      "outputs": [
        {
          "output_type": "stream",
          "name": "stdout",
          "text": [
            "Practice with your lightsaber.\n"
          ]
        }
      ]
    },
    {
      "cell_type": "markdown",
      "source": [
        "Here, the outer if statement checks if the character is a Jedi. Within this block, another if statement checks if the Jedi has a lightsaber. This allows for more specific actions based on nested conditions."
      ],
      "metadata": {
        "id": "A5NBSisia_gu"
      }
    },
    {
      "cell_type": "markdown",
      "source": [
        "## What are Libraries in Programming and Why are They Useful?\n",
        "\n",
        "Libraries in programming are collections of pre-written code that can be imported and used to perform various tasks, saving time and effort. They are like the Jedi Holocrons---repositories of knowledge that can be tapped into when needed.\n",
        "\n",
        "For example, the **numpy** library in Python provides powerful tools for working with arrays and performing mathematical operations. By using numpy, we can handle large sets of data and perform complex boolean operations efficiently.\n",
        "\n",
        "#### 14\\. What is Numpy and How Can It Be Used for Boolean Logic?\n",
        "\n",
        "**Numpy** is a popular Python library used for numerical computations. It allows us to create arrays and perform operations on them efficiently. In the context of boolean logic, numpy can be used to perform element-wise comparisons and boolean indexing without the need for loops.\n",
        "\n",
        "Let's start with the basics.\n",
        "\n",
        "### Importing Numpy\n",
        "\n",
        "To use numpy in your Python program, you first need to import it. The convention is to import numpy with the alias `np`:\n",
        "\n",
        "```python\n",
        "import numpy as np\n",
        "```\n",
        "\n",
        "This import statement gives us access to all the functions and features provided by numpy.\n",
        "\n",
        "### Creating Numpy Arrays\n",
        "\n",
        "Numpy arrays are similar to Python lists but provide more functionality and better performance for numerical operations. Let's create a simple numpy array:"
      ],
      "metadata": {
        "id": "hqgVhBvDbGlZ"
      }
    },
    {
      "cell_type": "code",
      "source": [
        "import numpy as np\n",
        "\n",
        "# Create a numpy array of Star Wars character names\n",
        "characters = np.array(['Luke', 'Leia', 'Han', 'Chewbacca', 'Vader'])\n",
        "\n",
        "print(characters)"
      ],
      "metadata": {
        "colab": {
          "base_uri": "https://localhost:8080/"
        },
        "id": "7zwuVIAEb9tu",
        "outputId": "81c04698-45cf-41ce-d080-8e4afa37fcda"
      },
      "execution_count": 15,
      "outputs": [
        {
          "output_type": "stream",
          "name": "stdout",
          "text": [
            "['Luke' 'Leia' 'Han' 'Chewbacca' 'Vader']\n"
          ]
        }
      ]
    },
    {
      "cell_type": "markdown",
      "source": [
        "This code creates a numpy array containing the names of some Star Wars characters. Numpy arrays can also hold numerical data:"
      ],
      "metadata": {
        "id": "tYpK_JVlcAh1"
      }
    },
    {
      "cell_type": "code",
      "source": [
        "# Create a numpy array of their strengths with the Force (on a scale of 1 to 10)\n",
        "force_strength = np.array([9, 7, 3, 2, 10])\n",
        "\n",
        "print(force_strength)"
      ],
      "metadata": {
        "colab": {
          "base_uri": "https://localhost:8080/"
        },
        "id": "Rrs7zHyrcFMp",
        "outputId": "a263f0d5-d22e-4829-979a-45104912fd83"
      },
      "execution_count": 16,
      "outputs": [
        {
          "output_type": "stream",
          "name": "stdout",
          "text": [
            "[ 9  7  3  2 10]\n"
          ]
        }
      ]
    },
    {
      "cell_type": "markdown",
      "source": [
        "### Basic Operations with Numpy Arrays\n",
        "\n",
        "Numpy allows us to perform operations on arrays efficiently. For example, we can perform element-wise arithmetic operations:"
      ],
      "metadata": {
        "id": "YRhuTEpMcK7C"
      }
    },
    {
      "cell_type": "code",
      "source": [
        "# Increase each character's Force strength by 1\n",
        "new_force_strength = force_strength + 1\n",
        "\n",
        "print(new_force_strength)"
      ],
      "metadata": {
        "colab": {
          "base_uri": "https://localhost:8080/"
        },
        "id": "EYp19UHPcRcG",
        "outputId": "7cbeb6b8-b2c0-4bcb-b298-2f447fb433df"
      },
      "execution_count": 17,
      "outputs": [
        {
          "output_type": "stream",
          "name": "stdout",
          "text": [
            "[10  8  4  3 11]\n"
          ]
        }
      ]
    },
    {
      "cell_type": "markdown",
      "source": [
        "We can also perform more complex operations, such as calculating the average Force strength:"
      ],
      "metadata": {
        "id": "mzzf7ZSCcV48"
      }
    },
    {
      "cell_type": "code",
      "source": [
        "# Calculate the average Force strength\n",
        "average_strength = np.mean(force_strength)\n",
        "\n",
        "print(average_strength)"
      ],
      "metadata": {
        "colab": {
          "base_uri": "https://localhost:8080/"
        },
        "id": "RvQCdHfecZ-V",
        "outputId": "13ec212d-575a-4035-d565-f54c5736500b"
      },
      "execution_count": 18,
      "outputs": [
        {
          "output_type": "stream",
          "name": "stdout",
          "text": [
            "6.2\n"
          ]
        }
      ]
    },
    {
      "cell_type": "markdown",
      "source": [
        "### Using Boolean Indexing with Numpy Arrays\n",
        "\n",
        "Boolean indexing allows us to filter numpy arrays based on conditions, providing a powerful way to manipulate data without using loops. This is like having a Jedi filter through a list of potential padawans based on their affinity with the Force.\n",
        "\n",
        "Let's find characters with a Force strength greater than 5:"
      ],
      "metadata": {
        "id": "vvYYJHT3cnJI"
      }
    },
    {
      "cell_type": "code",
      "source": [
        "# Create a boolean array to check Force strength greater than 5\n",
        "strong_with_force = force_strength > 5\n",
        "\n",
        "print(strong_with_force)"
      ],
      "metadata": {
        "colab": {
          "base_uri": "https://localhost:8080/"
        },
        "id": "2Hx2854Ecn57",
        "outputId": "fded3d50-5204-41d5-bc2e-d5e834c50d37"
      },
      "execution_count": 19,
      "outputs": [
        {
          "output_type": "stream",
          "name": "stdout",
          "text": [
            "[ True  True False False  True]\n"
          ]
        }
      ]
    },
    {
      "cell_type": "code",
      "source": [
        "# Use boolean indexing to get names of characters strong with the Force\n",
        "strong_characters = characters[strong_with_force]\n",
        "\n",
        "print(strong_characters)"
      ],
      "metadata": {
        "colab": {
          "base_uri": "https://localhost:8080/"
        },
        "id": "Vz8RK71sbQOV",
        "outputId": "bc2ad68a-d96a-43d5-f2ac-50f53a46ddaf"
      },
      "execution_count": 20,
      "outputs": [
        {
          "output_type": "stream",
          "name": "stdout",
          "text": [
            "['Luke' 'Leia' 'Vader']\n"
          ]
        }
      ]
    },
    {
      "cell_type": "markdown",
      "source": [
        "In this example, the condition `force_strength > 5` creates a boolean array `strong_with_force`. Using this array, we filter the names of characters who are strong with the Force.\n",
        "\n",
        "### Combining Conditions with Numpy\n",
        "\n",
        "We can also combine multiple conditions using boolean operators. For instance, we can find characters who are either strong with the Force or part of the Rebel Alliance:"
      ],
      "metadata": {
        "id": "Rwc2uaqJc7th"
      }
    },
    {
      "cell_type": "code",
      "source": [
        "# Create an array indicating if they are part of the Rebel Alliance\n",
        "is_rebel = np.array([True, True, True, True, False])\n",
        "\n",
        "# Identify characters strong with the Force or part of the Rebel Alliance\n",
        "strong_or_rebel = (force_strength > 5) | is_rebel\n",
        "\n",
        "# Use boolean indexing to get names of these characters\n",
        "selected_characters = characters[strong_or_rebel]\n",
        "\n",
        "print(selected_characters)"
      ],
      "metadata": {
        "colab": {
          "base_uri": "https://localhost:8080/"
        },
        "id": "t35ojo4Dc8nX",
        "outputId": "a8334709-c49a-41e3-f80a-d3ee530c6bda"
      },
      "execution_count": 21,
      "outputs": [
        {
          "output_type": "stream",
          "name": "stdout",
          "text": [
            "['Luke' 'Leia' 'Han' 'Chewbacca' 'Vader']\n"
          ]
        }
      ]
    },
    {
      "cell_type": "markdown",
      "source": [
        "In this example, the condition `(force_strength > 5) | is_rebel` combines two boolean arrays using the `|` (OR) operator. The resulting array is used to filter the names of characters who meet either condition."
      ],
      "metadata": {
        "id": "6UnCIysGdElh"
      }
    },
    {
      "cell_type": "markdown",
      "source": [
        "### Table: Working With Numpy\n",
        "\n",
        "| **Code** | **Description** |\n",
        "| --- | --- |\n",
        "| `import numpy as np` | Import the numpy library to access its functions and features. |\n",
        "| `my_np_array = np.array([1, 2, 3])` | Create a numpy array from a list. This array can now be used for numerical operations. |\n",
        "| `my_np_array + 1` | Add a scalar to each element of the array. This operation increases each element in `my_np_array` by 1. |\n",
        "| `my_np_array * 2` | Multiply each element of the array by a scalar. This operation doubles each element in `my_np_array`. |\n",
        "| `my_np_array > 2` | Create a boolean array by comparing each element to a value. |\n",
        "| `my_np_array == 2` | Create a boolean array by checking equality of each element to a value. |\n",
        "| `(my_np_array > 1) & (my_np_array < 3)` | Combine conditions using the AND (`&`) operator to produce a boolean array. |\n",
        "| `(my_np_array < 2) \\| (my_np_array > 2)` | Combine conditions using the OR (`&`) operator to produce a boolean array.\n",
        "| `my_np_array[my_np_array > 2]` | Filter elements based on a condition. This returns a new array containing elements greater than 2. |\n",
        "| `np.mean(my_np_array)` | Calculate the mean (average) of the array elements. |\n",
        "| `np.median(my_np_array)` | Calculate the median of the array elements. The median is the middle value when the elements are sorted. |\n",
        "| `np.sum(my_np_array)` | Calculate the sum of the array elements. This adds up all the elements in `my_np_array`. |\n",
        "| `np.max(my_np_array)` | Find the maximum value in the array. This returns the largest element in `my_np_array`. |\n",
        "| `np.min(my_np_array)` | Find the minimum value in the array. This returns the smallest element in `my_np_array`. |\n",
        "| `np.std(my_np_array)` | Calculate the standard deviation of the array elements. This measures the amount of variation in `my_np_array`. |\n",
        "| `my_np_array.reshape(3, 1)` | Reshape an array to a different dimension. This changes `my_np_array` to a 3x1 array without altering its data. |\n",
        "| `arr2d.flatten()` | Flatten a multi-dimensional array to a 1D array. This converts `arr2d` into a single-dimensional array. |\n",
        "| `arr2d.T` | Transpose a 2D array. This flips `arr2d` over its diagonal, swapping its rows and columns. |\n",
        "| `np.random.rand(3)` | Create an array of random numbers between 0 and 1. This generates a 1D array with 3 random float numbers. |"
      ],
      "metadata": {
        "id": "ehIkYXsXezOH"
      }
    },
    {
      "cell_type": "markdown",
      "source": [
        "#### What are Some Common Errors to Avoid When Using Boolean Logic and Conditionals?\n",
        "\n",
        "When working with boolean logic and conditionals, there are several common errors to watch out for:\n",
        "\n",
        "-   **Misusing Operators**. Confusing `and` with `or`, or `==` with `=` can lead to logical errors. Ensure you're using the correct operator for the intended comparison.\n",
        "-   **Improper Indentation**. In Python, the indentation level indicates the block of code that belongs to a conditional. Incorrect indentation can cause unexpected behavior.\n",
        "-   **Incorrect Boolean Expressions**. Ensure your boolean expressions are logical and syntactically correct. For example, `if x = 5` is incorrect and should be `if x == 5`.\n",
        "-   **Not Using Parentheses for Complex Conditions*.: When combining multiple conditions, use parentheses to ensure the correct order of evaluation. For example, `if (a and b) or c` is different from `if a and (b or c)`.\n",
        "\n",
        "Consider an example with a common error:\n"
      ],
      "metadata": {
        "id": "b9HHFBU4ezXk"
      }
    },
    {
      "cell_type": "code",
      "source": [
        "# Incorrect use of = instead of ==\n",
        "character = 'Jedi'\n",
        "\n",
        "if character = 'Jedi':  # This will cause a syntax error\n",
        "    print('Train in the ways of the Force.')"
      ],
      "metadata": {
        "colab": {
          "base_uri": "https://localhost:8080/",
          "height": 110
        },
        "id": "mPHaKrc3fRvu",
        "outputId": "3804d39a-0671-4f14-b176-769181ec183c"
      },
      "execution_count": 22,
      "outputs": [
        {
          "output_type": "error",
          "ename": "SyntaxError",
          "evalue": "invalid syntax. Maybe you meant '==' or ':=' instead of '='? (<ipython-input-22-fd374d436154>, line 4)",
          "traceback": [
            "\u001b[0;36m  File \u001b[0;32m\"<ipython-input-22-fd374d436154>\"\u001b[0;36m, line \u001b[0;32m4\u001b[0m\n\u001b[0;31m    if character = 'Jedi':  # This will cause a syntax error\u001b[0m\n\u001b[0m       ^\u001b[0m\n\u001b[0;31mSyntaxError\u001b[0m\u001b[0;31m:\u001b[0m invalid syntax. Maybe you meant '==' or ':=' instead of '='?\n"
          ]
        }
      ]
    },
    {
      "cell_type": "markdown",
      "source": [
        "Correcting the error:"
      ],
      "metadata": {
        "id": "pN9KXx0ufUYi"
      }
    },
    {
      "cell_type": "code",
      "source": [
        "character = 'Jedi'\n",
        "\n",
        "if character == 'Jedi':\n",
        "    print('Train in the ways of the Force.')"
      ],
      "metadata": {
        "colab": {
          "base_uri": "https://localhost:8080/"
        },
        "id": "BH5vsZ5ffYvf",
        "outputId": "592269a7-42bc-41c5-8751-a964b093447f"
      },
      "execution_count": 23,
      "outputs": [
        {
          "output_type": "stream",
          "name": "stdout",
          "text": [
            "Train in the ways of the Force.\n"
          ]
        }
      ]
    },
    {
      "cell_type": "markdown",
      "source": [
        "### How Can We Debug Issues Related to Boolean Logic and Conditionals?\n",
        "\n",
        "Debugging boolean logic and conditionals can be challenging, but several strategies can help:\n",
        "\n",
        "-   Insert print statements to display the values of variables and the results of boolean expressions. This can help identify where the logic is going wrong.\n",
        "-   Utilize debugging tools available in your development environment to step through the code and examine the state of variables at each step.\n",
        "-   Break down complex boolean expressions into simpler parts and test each part individually. This can help isolate the issue.\n",
        "-    Carefully review the logic of your conditions to ensure they are logically sound and correctly implemented.\n",
        "\n",
        "Consider an example where we debug a complex condition:"
      ],
      "metadata": {
        "id": "UJOudQ9pfnZ0"
      }
    },
    {
      "cell_type": "code",
      "source": [
        "# Define conditions\n",
        "is_jedi = True\n",
        "has_lightsaber = False\n",
        "is_on_mission = True\n",
        "\n",
        "# Complex condition with print statements for debugging\n",
        "if is_jedi and (has_lightsaber or is_on_mission):\n",
        "    print('Ready for action.')\n",
        "else:\n",
        "    print('Not ready.')\n",
        "\n",
        "# Adding print statements to debug\n",
        "print(f'is_jedi: {is_jedi}')\n",
        "print(f'has_lightsaber: {has_lightsaber}')\n",
        "print(f'is_on_mission: {is_on_mission}')\n",
        "print(f'Condition: {is_jedi and (has_lightsaber or is_on_mission)}')\n"
      ],
      "metadata": {
        "colab": {
          "base_uri": "https://localhost:8080/"
        },
        "id": "5a6OK7IPfs0r",
        "outputId": "813bdf0f-5ea3-4b1f-f1fc-bf8da87737ee"
      },
      "execution_count": 24,
      "outputs": [
        {
          "output_type": "stream",
          "name": "stdout",
          "text": [
            "Ready for action.\n",
            "is_jedi: True\n",
            "has_lightsaber: False\n",
            "is_on_mission: True\n",
            "Condition: True\n"
          ]
        }
      ]
    },
    {
      "cell_type": "markdown",
      "source": [
        "By adding print statements, we can see the values of the variables and the result of the condition, helping us understand why the code behaves as it does."
      ],
      "metadata": {
        "id": "a1qUIuk9fwwr"
      }
    },
    {
      "cell_type": "markdown",
      "source": [
        "## Exercises"
      ],
      "metadata": {
        "id": "wqZwsRK9iRGh"
      }
    },
    {
      "cell_type": "code",
      "source": [
        "def is_force_sensitive(character):\n",
        "    \"\"\"\n",
        "    Determine if a character is sensitive to the Force.\n",
        "\n",
        "    Parameters:\n",
        "    character (str): The name of the character.\n",
        "\n",
        "    Returns:\n",
        "    bool: True if the character is known to be sensitive to the Force, False otherwise.\n",
        "\n",
        "    Known Force-sensitive characters: 'Luke', 'Leia', 'Yoda', 'Anakin'\n",
        "\n",
        "    Examples:\n",
        "    is_force_sensitive('Luke') -> True\n",
        "    is_force_sensitive('Han') -> False\n",
        "    is_force_sensitive('Leia') -> True\n",
        "    \"\"\"\n",
        "    # Complete the function here\n",
        "\n",
        "# Test cases\n",
        "assert is_force_sensitive('Luke') == True\n",
        "assert is_force_sensitive('Han') == False\n",
        "assert is_force_sensitive('Leia') == True\n",
        "\n",
        "print(\"All tests passed\")"
      ],
      "metadata": {
        "id": "Tcs1znV3iSR0"
      },
      "execution_count": null,
      "outputs": []
    },
    {
      "cell_type": "code",
      "source": [
        "def get_droid_type(serial_number):\n",
        "    \"\"\"\n",
        "    Determine the type of droid based on its serial number.\n",
        "\n",
        "    Parameters:\n",
        "    serial_number (str): The serial number of the droid.\n",
        "\n",
        "    Returns:\n",
        "    str: The type of droid ('Astromech', 'Protocol', 'Battle').\n",
        "\n",
        "    Known droids and their types:\n",
        "    - 'R2-D2' -> 'Astromech'\n",
        "    - 'C-3PO' -> 'Protocol'\n",
        "    - 'BX-Commando' -> 'Battle'\n",
        "\n",
        "    Examples:\n",
        "    get_droid_type('R2-D2') -> 'Astromech'\n",
        "    get_droid_type('C-3PO') -> 'Protocol'\n",
        "    get_droid_type('BX-Commando') -> 'Battle'\n",
        "    \"\"\"\n",
        "    # Complete the function here\n",
        "\n",
        "# Test cases\n",
        "assert get_droid_type('R2-D2') == 'Astromech'\n",
        "assert get_droid_type('C-3PO') == 'Protocol'\n",
        "assert get_droid_type('BX-Commando') == 'Battle'\n",
        "\n",
        "print(\"All tests passed\")"
      ],
      "metadata": {
        "id": "ZKpQYAqqiTau"
      },
      "execution_count": null,
      "outputs": []
    },
    {
      "cell_type": "markdown",
      "source": [],
      "metadata": {
        "id": "xa0udaNhicC8"
      }
    },
    {
      "cell_type": "code",
      "source": [
        "def is_sith_lord(character):\n",
        "    \"\"\"\n",
        "    Check if a character is a Sith Lord.\n",
        "\n",
        "    Parameters:\n",
        "    character (str): The name of the character.\n",
        "\n",
        "    Returns:\n",
        "    bool: True if the character is a Sith Lord, False otherwise.\n",
        "\n",
        "    Known Sith Lords: 'Vader', 'Palpatine', 'Maul', 'Dooku'\n",
        "\n",
        "    Examples:\n",
        "    is_sith_lord('Vader') -> True\n",
        "    is_sith_lord('Palpatine') -> True\n",
        "    is_sith_lord('Luke') -> False\n",
        "    \"\"\"\n",
        "    # Complete the function here\n",
        "\n",
        "# Test cases\n",
        "assert is_sith_lord('Vader') == True\n",
        "assert is_sith_lord('Palpatine') == True\n",
        "assert is_sith_lord('Luke') == False\n",
        "\n",
        "print(\"All tests passed\")"
      ],
      "metadata": {
        "id": "AJBTvWwliXo4"
      },
      "execution_count": null,
      "outputs": []
    },
    {
      "cell_type": "code",
      "source": [
        "def mission_eligibility(is_jedi, has_lightsaber, is_on_mission):\n",
        "    \"\"\"\n",
        "    Determine if a character is eligible for a special mission.\n",
        "\n",
        "    Parameters:\n",
        "    is_jedi (bool): Whether the character is a Jedi.\n",
        "    has_lightsaber (bool): Whether the character has a lightsaber.\n",
        "    is_on_mission (bool): Whether the character is already on a mission.\n",
        "\n",
        "    Returns:\n",
        "    bool: True if the character is eligible for the mission, False otherwise.\n",
        "\n",
        "    Eligibility criteria:\n",
        "    - The character must be a Jedi.\n",
        "    - The character must have a lightsaber.\n",
        "    - The character must not be currently on another mission.\n",
        "\n",
        "    Examples:\n",
        "    mission_eligibility(True, True, False) -> True\n",
        "    mission_eligibility(True, False, False) -> False\n",
        "    mission_eligibility(False, True, False) -> False\n",
        "    \"\"\"\n",
        "    # Complete the function here\n",
        "\n",
        "# Test cases\n",
        "assert mission_eligibility(True, True, False) == True\n",
        "assert mission_eligibility(True, False, False) == False\n",
        "assert mission_eligibility(False, True, False) == False\n",
        "\n",
        "print(\"All tests passed\")"
      ],
      "metadata": {
        "id": "kNImD_k7ip9c"
      },
      "execution_count": null,
      "outputs": []
    },
    {
      "cell_type": "code",
      "source": [
        "def create_jedi_array(names):\n",
        "    \"\"\"\n",
        "    Create a numpy array from a list of Jedi names.\n",
        "\n",
        "    Parameters:\n",
        "    names (list): A list of Jedi names.\n",
        "\n",
        "    Returns:\n",
        "    numpy.ndarray: A numpy array created from the names.\n",
        "\n",
        "    Known Jedi: 'Luke', 'Leia', 'Yoda', 'Anakin'\n",
        "\n",
        "    Examples:\n",
        "    create_jedi_array(['Luke', 'Leia']) -> np.array(['Luke', 'Leia'])\n",
        "    create_jedi_array(['Yoda', 'Anakin']) -> np.array(['Yoda', 'Anakin'])\n",
        "    \"\"\"\n",
        "    # Complete the function here\n",
        "\n",
        "# Test cases\n",
        "import numpy as np\n",
        "assert np.array_equal(create_jedi_array(['Luke', 'Leia']), np.array(['Luke', 'Leia']))\n",
        "assert np.array_equal(create_jedi_array(['Yoda', 'Anakin']), np.array(['Yoda', 'Anakin']))\n",
        "assert np.array_equal(create_jedi_array(['Obi-Wan', 'Mace Windu']), np.array(['Obi-Wan', 'Mace Windu']))\n",
        "\n",
        "print(\"All tests passed\")"
      ],
      "metadata": {
        "id": "qkK-logeizHY"
      },
      "execution_count": null,
      "outputs": []
    },
    {
      "cell_type": "code",
      "source": [
        "def adjust_force_levels(levels, multiplier, addition):\n",
        "    \"\"\"\n",
        "    Adjust the Force levels of Jedi by multiplying and then adding a value.\n",
        "\n",
        "    Parameters:\n",
        "    levels (numpy.ndarray): An array of Force levels.\n",
        "    multiplier (int or float): The value to multiply each level by.\n",
        "    addition (int or float): The value to add to each level after multiplication.\n",
        "\n",
        "    Returns:\n",
        "    numpy.ndarray: A new array with adjusted Force levels.\n",
        "\n",
        "    Examples:\n",
        "    adjust_force_levels(np.array([100, 200, 300]), 1.1, 50) -> np.array([160, 270, 380])\n",
        "    adjust_force_levels(np.array([50, 150, 250]), 1.2, 25) -> np.array([85, 205, 325])\n",
        "    \"\"\"\n",
        "    # Complete the function here\n",
        "\n",
        "# Test cases\n",
        "import numpy as np\n",
        "assert np.array_equal(adjust_force_levels(np.array([100, 200, 300]), 1.1, 50), np.array([160, 270, 380]))\n",
        "assert np.array_equal(adjust_force_levels(np.array([50, 150, 250]), 1.2, 25), np.array([85, 205, 325]))\n",
        "assert np.array_equal(adjust_force_levels(np.array([75, 125, 175]), 1.5, 10), np.array([122.5, 197.5, 272.5]))\n"
      ],
      "metadata": {
        "id": "j_63eoYSi-L7"
      },
      "execution_count": null,
      "outputs": []
    },
    {
      "cell_type": "code",
      "source": [
        "def find_high_force_jedi(levels, threshold):\n",
        "    \"\"\"\n",
        "    Find the Jedi with Force levels greater than a given threshold.\n",
        "\n",
        "    Parameters:\n",
        "    levels (numpy.ndarray): An array of Jedi Force levels.\n",
        "    threshold (int or float): The threshold value for high Force levels.\n",
        "\n",
        "    Returns:\n",
        "    numpy.ndarray: An array of Jedi Force levels greater than the threshold.\n",
        "\n",
        "    Examples:\n",
        "    find_high_force_jedi(np.array([100, 200, 300]), 150) -> np.array([200, 300])\n",
        "    find_high_force_jedi(np.array([50, 150, 250]), 100) -> np.array([150, 250])\n",
        "    \"\"\"\n",
        "    # Complete the function here\n",
        "\n",
        "# Test cases\n",
        "import numpy as np\n",
        "assert np.array_equal(find_high_force_jedi(np.array([100, 200, 300]), 150), np.array([200, 300]))\n",
        "assert np.array_equal(find_high_force_jedi(np.array([50, 150, 250]), 100), np.array([150, 250]))\n",
        "assert np.array_equal(find_high_force_jedi(np.array([75, 125, 175]), 120), np.array([125, 175]))"
      ],
      "metadata": {
        "id": "2BEm3Y7ujEzl"
      },
      "execution_count": null,
      "outputs": []
    }
  ]
}