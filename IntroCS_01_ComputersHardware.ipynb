{
  "nbformat": 4,
  "nbformat_minor": 0,
  "metadata": {
    "colab": {
      "provenance": [],
      "authorship_tag": "ABX9TyN5n0xuUPxM+wZ7iBv2bemj",
      "include_colab_link": true
    },
    "kernelspec": {
      "name": "python3",
      "display_name": "Python 3"
    },
    "language_info": {
      "name": "python"
    },
    "widgets": {
      "application/vnd.jupyter.widget-state+json": {
        "6da6d09b091c4e52b74fc3138d7ccc43": {
          "model_module": "@jupyter-widgets/controls",
          "model_name": "HBoxModel",
          "model_module_version": "1.5.0",
          "state": {
            "_dom_classes": [],
            "_model_module": "@jupyter-widgets/controls",
            "_model_module_version": "1.5.0",
            "_model_name": "HBoxModel",
            "_view_count": null,
            "_view_module": "@jupyter-widgets/controls",
            "_view_module_version": "1.5.0",
            "_view_name": "HBoxView",
            "box_style": "",
            "children": [
              "IPY_MODEL_bbdb003459ab4e5cb435189f901674f3",
              "IPY_MODEL_9deb7699413d49ee977951abef6cd757",
              "IPY_MODEL_1f043f48bee44451a3371007182ec8ff"
            ],
            "layout": "IPY_MODEL_2abed21464e549088207a8ec81285d96"
          }
        },
        "bbdb003459ab4e5cb435189f901674f3": {
          "model_module": "@jupyter-widgets/controls",
          "model_name": "ButtonModel",
          "model_module_version": "1.5.0",
          "state": {
            "_dom_classes": [],
            "_model_module": "@jupyter-widgets/controls",
            "_model_module_version": "1.5.0",
            "_model_name": "ButtonModel",
            "_view_count": null,
            "_view_module": "@jupyter-widgets/controls",
            "_view_module_version": "1.5.0",
            "_view_name": "ButtonView",
            "button_style": "",
            "description": "True",
            "disabled": false,
            "icon": "",
            "layout": "IPY_MODEL_5fc562fc5fd1445dbf63a6b6cc58113d",
            "style": "IPY_MODEL_2508fb26d7834822a4e23b647311e9e5",
            "tooltip": ""
          }
        },
        "9deb7699413d49ee977951abef6cd757": {
          "model_module": "@jupyter-widgets/controls",
          "model_name": "ButtonModel",
          "model_module_version": "1.5.0",
          "state": {
            "_dom_classes": [],
            "_model_module": "@jupyter-widgets/controls",
            "_model_module_version": "1.5.0",
            "_model_name": "ButtonModel",
            "_view_count": null,
            "_view_module": "@jupyter-widgets/controls",
            "_view_module_version": "1.5.0",
            "_view_name": "ButtonView",
            "button_style": "",
            "description": "False",
            "disabled": false,
            "icon": "",
            "layout": "IPY_MODEL_7ed6a19568294d429c117fc3e3105016",
            "style": "IPY_MODEL_1b6d52877cb8466ead9d254de44a6c50",
            "tooltip": ""
          }
        },
        "1f043f48bee44451a3371007182ec8ff": {
          "model_module": "@jupyter-widgets/controls",
          "model_name": "ButtonModel",
          "model_module_version": "1.5.0",
          "state": {
            "_dom_classes": [],
            "_model_module": "@jupyter-widgets/controls",
            "_model_module_version": "1.5.0",
            "_model_name": "ButtonModel",
            "_view_count": null,
            "_view_module": "@jupyter-widgets/controls",
            "_view_module_version": "1.5.0",
            "_view_name": "ButtonView",
            "button_style": "",
            "description": "Quit",
            "disabled": false,
            "icon": "",
            "layout": "IPY_MODEL_86935070e15545d98363bbeeff09cc53",
            "style": "IPY_MODEL_8da2b7d9d29545aa840cd5dbd6d85378",
            "tooltip": ""
          }
        },
        "2abed21464e549088207a8ec81285d96": {
          "model_module": "@jupyter-widgets/base",
          "model_name": "LayoutModel",
          "model_module_version": "1.2.0",
          "state": {
            "_model_module": "@jupyter-widgets/base",
            "_model_module_version": "1.2.0",
            "_model_name": "LayoutModel",
            "_view_count": null,
            "_view_module": "@jupyter-widgets/base",
            "_view_module_version": "1.2.0",
            "_view_name": "LayoutView",
            "align_content": null,
            "align_items": null,
            "align_self": null,
            "border": null,
            "bottom": null,
            "display": null,
            "flex": null,
            "flex_flow": null,
            "grid_area": null,
            "grid_auto_columns": null,
            "grid_auto_flow": null,
            "grid_auto_rows": null,
            "grid_column": null,
            "grid_gap": null,
            "grid_row": null,
            "grid_template_areas": null,
            "grid_template_columns": null,
            "grid_template_rows": null,
            "height": null,
            "justify_content": null,
            "justify_items": null,
            "left": null,
            "margin": null,
            "max_height": null,
            "max_width": null,
            "min_height": null,
            "min_width": null,
            "object_fit": null,
            "object_position": null,
            "order": null,
            "overflow": null,
            "overflow_x": null,
            "overflow_y": null,
            "padding": null,
            "right": null,
            "top": null,
            "visibility": null,
            "width": null
          }
        },
        "5fc562fc5fd1445dbf63a6b6cc58113d": {
          "model_module": "@jupyter-widgets/base",
          "model_name": "LayoutModel",
          "model_module_version": "1.2.0",
          "state": {
            "_model_module": "@jupyter-widgets/base",
            "_model_module_version": "1.2.0",
            "_model_name": "LayoutModel",
            "_view_count": null,
            "_view_module": "@jupyter-widgets/base",
            "_view_module_version": "1.2.0",
            "_view_name": "LayoutView",
            "align_content": null,
            "align_items": null,
            "align_self": null,
            "border": null,
            "bottom": null,
            "display": null,
            "flex": null,
            "flex_flow": null,
            "grid_area": null,
            "grid_auto_columns": null,
            "grid_auto_flow": null,
            "grid_auto_rows": null,
            "grid_column": null,
            "grid_gap": null,
            "grid_row": null,
            "grid_template_areas": null,
            "grid_template_columns": null,
            "grid_template_rows": null,
            "height": null,
            "justify_content": null,
            "justify_items": null,
            "left": null,
            "margin": null,
            "max_height": null,
            "max_width": null,
            "min_height": null,
            "min_width": null,
            "object_fit": null,
            "object_position": null,
            "order": null,
            "overflow": null,
            "overflow_x": null,
            "overflow_y": null,
            "padding": null,
            "right": null,
            "top": null,
            "visibility": null,
            "width": null
          }
        },
        "2508fb26d7834822a4e23b647311e9e5": {
          "model_module": "@jupyter-widgets/controls",
          "model_name": "ButtonStyleModel",
          "model_module_version": "1.5.0",
          "state": {
            "_model_module": "@jupyter-widgets/controls",
            "_model_module_version": "1.5.0",
            "_model_name": "ButtonStyleModel",
            "_view_count": null,
            "_view_module": "@jupyter-widgets/base",
            "_view_module_version": "1.2.0",
            "_view_name": "StyleView",
            "button_color": null,
            "font_weight": ""
          }
        },
        "7ed6a19568294d429c117fc3e3105016": {
          "model_module": "@jupyter-widgets/base",
          "model_name": "LayoutModel",
          "model_module_version": "1.2.0",
          "state": {
            "_model_module": "@jupyter-widgets/base",
            "_model_module_version": "1.2.0",
            "_model_name": "LayoutModel",
            "_view_count": null,
            "_view_module": "@jupyter-widgets/base",
            "_view_module_version": "1.2.0",
            "_view_name": "LayoutView",
            "align_content": null,
            "align_items": null,
            "align_self": null,
            "border": null,
            "bottom": null,
            "display": null,
            "flex": null,
            "flex_flow": null,
            "grid_area": null,
            "grid_auto_columns": null,
            "grid_auto_flow": null,
            "grid_auto_rows": null,
            "grid_column": null,
            "grid_gap": null,
            "grid_row": null,
            "grid_template_areas": null,
            "grid_template_columns": null,
            "grid_template_rows": null,
            "height": null,
            "justify_content": null,
            "justify_items": null,
            "left": null,
            "margin": null,
            "max_height": null,
            "max_width": null,
            "min_height": null,
            "min_width": null,
            "object_fit": null,
            "object_position": null,
            "order": null,
            "overflow": null,
            "overflow_x": null,
            "overflow_y": null,
            "padding": null,
            "right": null,
            "top": null,
            "visibility": null,
            "width": null
          }
        },
        "1b6d52877cb8466ead9d254de44a6c50": {
          "model_module": "@jupyter-widgets/controls",
          "model_name": "ButtonStyleModel",
          "model_module_version": "1.5.0",
          "state": {
            "_model_module": "@jupyter-widgets/controls",
            "_model_module_version": "1.5.0",
            "_model_name": "ButtonStyleModel",
            "_view_count": null,
            "_view_module": "@jupyter-widgets/base",
            "_view_module_version": "1.2.0",
            "_view_name": "StyleView",
            "button_color": null,
            "font_weight": ""
          }
        },
        "86935070e15545d98363bbeeff09cc53": {
          "model_module": "@jupyter-widgets/base",
          "model_name": "LayoutModel",
          "model_module_version": "1.2.0",
          "state": {
            "_model_module": "@jupyter-widgets/base",
            "_model_module_version": "1.2.0",
            "_model_name": "LayoutModel",
            "_view_count": null,
            "_view_module": "@jupyter-widgets/base",
            "_view_module_version": "1.2.0",
            "_view_name": "LayoutView",
            "align_content": null,
            "align_items": null,
            "align_self": null,
            "border": null,
            "bottom": null,
            "display": null,
            "flex": null,
            "flex_flow": null,
            "grid_area": null,
            "grid_auto_columns": null,
            "grid_auto_flow": null,
            "grid_auto_rows": null,
            "grid_column": null,
            "grid_gap": null,
            "grid_row": null,
            "grid_template_areas": null,
            "grid_template_columns": null,
            "grid_template_rows": null,
            "height": null,
            "justify_content": null,
            "justify_items": null,
            "left": null,
            "margin": null,
            "max_height": null,
            "max_width": null,
            "min_height": null,
            "min_width": null,
            "object_fit": null,
            "object_position": null,
            "order": null,
            "overflow": null,
            "overflow_x": null,
            "overflow_y": null,
            "padding": null,
            "right": null,
            "top": null,
            "visibility": null,
            "width": null
          }
        },
        "8da2b7d9d29545aa840cd5dbd6d85378": {
          "model_module": "@jupyter-widgets/controls",
          "model_name": "ButtonStyleModel",
          "model_module_version": "1.5.0",
          "state": {
            "_model_module": "@jupyter-widgets/controls",
            "_model_module_version": "1.5.0",
            "_model_name": "ButtonStyleModel",
            "_view_count": null,
            "_view_module": "@jupyter-widgets/base",
            "_view_module_version": "1.2.0",
            "_view_name": "StyleView",
            "button_color": null,
            "font_weight": ""
          }
        }
      }
    }
  },
  "cells": [
    {
      "cell_type": "markdown",
      "metadata": {
        "id": "view-in-github",
        "colab_type": "text"
      },
      "source": [
        "<a href=\"https://colab.research.google.com/github/brendanpshea/computing_concepts_python/blob/main/IntroCS_01_ComputersHardware.ipynb\" target=\"_parent\"><img src=\"https://colab.research.google.com/assets/colab-badge.svg\" alt=\"Open In Colab\"/></a>"
      ]
    },
    {
      "cell_type": "markdown",
      "source": [
        "# Computers and Hardware\n",
        "### Intro to Computer Science | Brendan Shea, PhD (Brendan.Shea@rctc.edu)\n",
        "\n",
        "Welcome to the study of computer science! I'm excited you'll be joining us. These lecture notes are the \"textbook\" for the class, and should contain everything you need for homework and exams. They are always a work in progress, so please let me know if you notice any errors! - Brendan\n",
        "\n",
        "In this chapter, you'll learn to:\n",
        "\n",
        "1.  Define what a computer is and explain the concept of an algorithm as a precise sequence of steps to solve a problem.\n",
        "2.  Understand and convert between the binary, octal, and hexadecimal number systems used in computing.\n",
        "3.  Identify the key components of a computer based on the von Neumann architecture, including the CPU, main memory, and input/output systems.\n",
        "4.  Explain how the CPU executes instructions using the fetch-decode-execute cycle and how this enables computers to run complex software.\n",
        "5.  Differentiate between volatile memory like RAM and non-volatile storage like hard drives and SSDs, and describe how they work together when running programs.\n",
        "6.  Trace the evolution of operating systems over time and explain the key roles of an OS, including resource management, providing user interfaces, and enabling software applications."
      ],
      "metadata": {
        "id": "iSdkrH9S_T2E"
      }
    },
    {
      "cell_type": "markdown",
      "source": [
        "## Introductory Lecture\n",
        "For each chapter, I've prepared an introductory lecture highlighting some of the main points we'll be covering. You can \"run\" the cell to launch the lecture."
      ],
      "metadata": {
        "id": "jU3H5sKTus5i"
      }
    },
    {
      "cell_type": "code",
      "source": [
        "from IPython.display import YouTubeVideo\n",
        "YouTubeVideo('aUoxeBLi0GU', width=800, height=500)"
      ],
      "metadata": {
        "id": "0wkBNwmru8vT",
        "outputId": "8a4d08e4-4932-4824-9f8c-9e4740e76b62",
        "colab": {
          "base_uri": "https://localhost:8080/",
          "height": 522
        }
      },
      "execution_count": null,
      "outputs": [
        {
          "output_type": "execute_result",
          "data": {
            "text/plain": [
              "<IPython.lib.display.YouTubeVideo at 0x7b7e2123eec0>"
            ],
            "text/html": [
              "\n",
              "        <iframe\n",
              "            width=\"800\"\n",
              "            height=\"500\"\n",
              "            src=\"https://www.youtube.com/embed/aUoxeBLi0GU\"\n",
              "            frameborder=\"0\"\n",
              "            allowfullscreen\n",
              "            \n",
              "        ></iframe>\n",
              "        "
            ],
            "image/jpeg": "[encoded data removed]"
          },
          "metadata": {},
          "execution_count": 3
        }
      ]
    },
    {
      "cell_type": "markdown",
      "source": [
        "### BrendyBot is Here to Answer Your Questions\n",
        "![image.png](https://github.com/brendanpshea/colab-utilities/raw/main/brendy_bot_pic.png)\n",
        "\n",
        "If you have questions about the content of this chapter, you can try out \"BrendyBot\", an AI chat bot I've trained on the lecture notes for this class (note that BrendyBot is stil experimental, and can definitley make mistakes!).\n",
        "\n",
        "https://poe.com/BrendyBot"
      ],
      "metadata": {
        "id": "G6niMvZs4yLQ"
      }
    },
    {
      "cell_type": "markdown",
      "source": [
        "## What is a Computer?\n",
        "\n",
        "When you hear the word \"computer,\" what comes to mind? Perhaps you think of the laptop you use for schoolwork, the smartphone you use to chat with friends, or the gaming console you play video games on. But the concept of a computer is actually much broader than just these modern electronic devices. At its most fundamental level, a **computer** is a device that can execute algorithms to process information or perform tasks.\n",
        "\n",
        "An **algorithm** is a precise, step-by-step procedure for solving a problem or accomplishing a task. It's a bit like a recipe: a set of instructions that can be followed to achieve a desired result. Computers, in the broadest sense, are devices that can execute these algorithmic recipes.\n",
        "\n",
        "To help illustrate this idea, let's journey through history and look at three very different examples of computers: the analog computer, the human computer, and the digital computer.\n",
        "\n",
        "- **An analog computer.** Did you know that a slide rule is actually a type of computer? This simple mechanical device, common before electronic calculators, allows the user to perform mathematical operations by sliding numbered scales against each other. The slide rule executes a simple algorithm to add and subtract logarithms, which correspond to multiplying and dividing numbers. Analog computers represent data in continuous physical quantities and perform calculations using mechanical parts.\n",
        "- **A human computer.** Believe it or not, the term \"computer\" used to refer to a person who performed numerical calculations, often using mechanical calculators. Teams of human computers contributed to major projects like breaking Nazi codes (during WWII) and planning the NASA space missions before electronic computers were powerful enough. The human computer executes algorithms using their brain, pencil and paper.\n",
        "- **A digital computer.** This is what we most often think of as a computer today - an electronic device that represents data as discrete binary values (1s and 0s) and performs calculations using tiny switching devices called transistors. Your laptop, phone, gaming console, even your microwave oven are all digital computers. They execute complex algorithms, coded as software, to perform all sorts of information processing tasks.\n",
        "\n",
        "So: a computer is a device (mechanical, biological, or electronic) that executes algorithms (precise step-by-step procedures) to process information (which can be numbers, text, images, etc.). Computer science is the study of algorithms and information processing, especially as implemented in digital computers."
      ],
      "metadata": {
        "id": "Kf3Qefw-JWaM"
      }
    },
    {
      "cell_type": "markdown",
      "source": [
        "### What is Computer Science?\n",
        "\n",
        "Now that we understand what a computer is, let's dive into the field that studies them: computer science. **Computer science** is the study of algorithms and information processing, especially as implemented in digital computers.\n",
        "\n",
        "But what does that really mean? What does the field of computer science actually encompass? As it turns out, computer science is an exceptionally broad and diverse field. Most areas of modern computer science can be seen as studying particular types of algorithms:\n",
        "\n",
        "-   Artificial intelligence algorithms enable computers to reason, learn, and act autonomously\n",
        "-   Cryptography algorithms secure data through encoding and decoding\n",
        "-   Computer graphics algorithms generate visual images, animations and effects\n",
        "-   Programming language theory studies the design of the languages used to express algorithms\n",
        "-   Software engineering is the science of designing, implementing and maintaining large software systems\n",
        "-   Networking algorithms enable communication and coordination between multiple computers\n",
        "-   Databases organize large amounts of information and provide efficient algorithms for accessing it\n",
        "-   Computer architecture studies the design of computer hardware to efficiently run software\n",
        "-   Theoretical computer science searches for fundamental limits on what algorithms can accomplish\n",
        "\n",
        "This wide range encompasses everything from mathematical research to engineering to user interface design. But at their core, they all involve understanding and developing information processing algorithms."
      ],
      "metadata": {
        "id": "t1v9BkFycrz0"
      }
    },
    {
      "cell_type": "markdown",
      "source": [
        "### The Methods of Computer Science\n",
        "\n",
        "So computer science is the study of algorithms - but how does it actually study them? What are the methods and approaches that computer scientists use?\n",
        "\n",
        "As it turns out, computer science is a highly interdisciplinary field that draws upon ideas and methods from many other areas of study. In particular, it has close ties to mathematics, engineering, philosophy, and cognitive science.\n",
        "\n",
        "-   From mathematics, it inherits a focus on abstract structures and provable properties of algorithms. Many pioneering computer scientists started as mathematicians.\n",
        "-   From engineering, it takes a pragmatic emphasis on building working systems and measuring their performance. Electrical engineering is particularly closely tied to computer hardware design.\n",
        "-   From philosophy and cognitive science, it takes a fascination with intelligence, knowledge, meaning, and information. Some computer scientists view the human mind as an information processing system.\n",
        "-   And like the natural sciences, it relies on careful observation, hypothesis formation, and experimentation to understand complex phenomena - in this case, the behaviors of algorithms and software systems.\n",
        "\n",
        "So while computer science has its own unique concepts and methods, it also combines ideas and approaches from many older disciplines. This synthesis of logic and practicality, theory and experiment, is part of what makes computer science so exciting and powerful. It's a young field compared to physics, biology or chemistry, but it's already reshaped our world, and its potential is limitless."
      ],
      "metadata": {
        "id": "4XTL1aHHc-tt"
      }
    },
    {
      "cell_type": "code",
      "source": [
        "# Computer Science - the Study of Algoriths\n",
        "import base64\n",
        "from IPython.display import Image, display\n",
        "import matplotlib.pyplot as plt\n",
        "\n",
        "def mm(graph):\n",
        "    graphbytes = graph.encode(\"utf8\")\n",
        "    base64_bytes = base64.urlsafe_b64encode(graphbytes)\n",
        "    base64_string = base64_bytes.decode(\"ascii\")\n",
        "    display(Image(url=\"https://mermaid.ink/img/\" + base64_string))\n",
        "\n",
        "\n",
        "mm(\"\"\"\n",
        "graph LR\n",
        "    A[Computer Science -- The Study of Algorithms]\n",
        "    B[Hardware Design]\n",
        "    C[Programming]\n",
        "    D[Theoretical Computer Science]\n",
        "    E[Applied Computer Science]\n",
        "\n",
        "    A --> B\n",
        "    A --> C\n",
        "    A --> D\n",
        "    A --> E\n",
        "\n",
        "    B --> B1[How algorithms are implemented in circuits]\n",
        "    B --> B2[Designing efficient hardware for algorithms]\n",
        "\n",
        "    C --> C1[Writing code to implement algorithms]\n",
        "    C --> C2[Analyzing program efficiency]\n",
        "\n",
        "    D --> D1[Mathematical analysis of algorithms]\n",
        "    D --> D2[Computational complexity]\n",
        "\n",
        "    E --> E1[Artificial Intelligence]\n",
        "    E --> E2[Data Science]\n",
        "    E --> E3[Software Engineering]\n",
        "    E --> E4[Cybersecurity]\n",
        "    E --> E5[Bioinformatics]\n",
        "\n",
        "    style A fill:#f9f,stroke:#333,stroke-width:4px\n",
        "    style B fill:#bbf,stroke:#333,stroke-width:2px\n",
        "    style C fill:#bfb,stroke:#333,stroke-width:2px\n",
        "    style D fill:#fbf,stroke:#333,stroke-width:2px\n",
        "    style E fill:#ffb,stroke:#333,stroke-width:2px\n",
        "\"\"\")"
      ],
      "metadata": {
        "colab": {
          "base_uri": "https://localhost:8080/",
          "height": 911
        },
        "id": "FIUwZWiKVVZO",
        "outputId": "3bc7213e-1c37-438f-980e-d475b293b9b7"
      },
      "execution_count": 2,
      "outputs": [
        {
          "output_type": "display_data",
          "data": {
            "text/html": [
              "<img src=\"https://mermaid.ink/img/CmdyYXBoIExSCiAgICBBW0NvbXB1dGVyIFNjaWVuY2UgLS0gVGhlIFN0dWR5IG9mIEFsZ29yaXRobXNdCiAgICBCW0hhcmR3YXJlIERlc2lnbl0KICAgIENbUHJvZ3JhbW1pbmddCiAgICBEW1RoZW9yZXRpY2FsIENvbXB1dGVyIFNjaWVuY2VdCiAgICBFW0FwcGxpZWQgQ29tcHV0ZXIgU2NpZW5jZV0KCiAgICBBIC0tPiBCCiAgICBBIC0tPiBDCiAgICBBIC0tPiBECiAgICBBIC0tPiBFCgogICAgQiAtLT4gQjFbSG93IGFsZ29yaXRobXMgYXJlIGltcGxlbWVudGVkIGluIGNpcmN1aXRzXQogICAgQiAtLT4gQjJbRGVzaWduaW5nIGVmZmljaWVudCBoYXJkd2FyZSBmb3IgYWxnb3JpdGhtc10KCiAgICBDIC0tPiBDMVtXcml0aW5nIGNvZGUgdG8gaW1wbGVtZW50IGFsZ29yaXRobXNdCiAgICBDIC0tPiBDMltBbmFseXppbmcgcHJvZ3JhbSBlZmZpY2llbmN5XQoKICAgIEQgLS0-IEQxW01hdGhlbWF0aWNhbCBhbmFseXNpcyBvZiBhbGdvcml0aG1zXQogICAgRCAtLT4gRDJbQ29tcHV0YXRpb25hbCBjb21wbGV4aXR5XQoKICAgIEUgLS0-IEUxW0FydGlmaWNpYWwgSW50ZWxsaWdlbmNlXQogICAgRSAtLT4gRTJbRGF0YSBTY2llbmNlXQogICAgRSAtLT4gRTNbU29mdHdhcmUgRW5naW5lZXJpbmddCiAgICBFIC0tPiBFNFtDeWJlcnNlY3VyaXR5XQogICAgRSAtLT4gRTVbQmlvaW5mb3JtYXRpY3NdCgogICAgc3R5bGUgQSBmaWxsOiNmOWYsc3Ryb2tlOiMzMzMsc3Ryb2tlLXdpZHRoOjRweAogICAgc3R5bGUgQiBmaWxsOiNiYmYsc3Ryb2tlOiMzMzMsc3Ryb2tlLXdpZHRoOjJweAogICAgc3R5bGUgQyBmaWxsOiNiZmIsc3Ryb2tlOiMzMzMsc3Ryb2tlLXdpZHRoOjJweAogICAgc3R5bGUgRCBmaWxsOiNmYmYsc3Ryb2tlOiMzMzMsc3Ryb2tlLXdpZHRoOjJweAogICAgc3R5bGUgRSBmaWxsOiNmZmIsc3Ryb2tlOiMzMzMsc3Ryb2tlLXdpZHRoOjJweAo=\"/>"
            ],
            "text/plain": [
              "<IPython.core.display.Image object>"
            ]
          },
          "metadata": {}
        }
      ]
    },
    {
      "cell_type": "markdown",
      "source": [
        "## How Can I Speak Binary--the Language of Computers?\n",
        "**Binary**, also known as the binary number system, is a method of representing numbers using only two symbols: 0 and 1. The system is base-2, unlike our commonly used decimal system which is base-10.   In the context of computers, binary is essential because it provides a way to represent different types of data in a form that computers can process.  Here's why:\n",
        "\n",
        "1.  Computers, at their lowest level, are electronic devices made up of billions of tiny components called **transistors,** which have two states: on and off. Binary's two symbols, 0 and 1, naturally correspond to these two states. Thus, binary allows computers to physically represent and manipulate data.\n",
        "\n",
        "2.  It is *more efficient* to design electronic and digital systems that only need to distinguish between two states.\n",
        "\n",
        "3.  Binary also plays a crucial role in *error detection and correction* techniques, helping to maintain data integrity in digital storage and transmission.\n",
        "\n",
        "When you type on your keyboard, click your mouse, or touch your screen, your actions are converted into binary data that the computer can understand. Likewise, the results of computations and the data to be displayed on your screen are stored and transmitted in binary form.  For example, in ASCII, a standard character encoding widely used in computers, the letter 'A' is represented as the binary number 01000001. A JPEG image, an MP3 audio file, or a .docx Word document on your computer - they're all ultimately stored as binary data.\n",
        "\n",
        "Therefore, understanding binary is crucial to understanding how computers work at a fundamental level. All the complex operations that a computer performs, whether it's running an application, browsing the internet, or displaying a video, are ultimately broken down into binary operations that the hardware can execute.\n",
        "\n",
        "Additionally, binary is also essential in certain areas of computer science and information technology, such as networking, where data is transmitted in binary form, or in programming, especially when working close to the hardware level. This could be in fields like embedded systems programming, where understanding binary can often be crucial."
      ],
      "metadata": {
        "id": "D2jLxBuIMUXB"
      }
    },
    {
      "cell_type": "markdown",
      "source": [
        "## How Can I Translate to and From Binary?\n",
        "### Translating Decimal to Binary:\n",
        "\n",
        "To convert a decimal number to binary, you can use the method of successive division by 2. Here are the steps:\n",
        "\n",
        "1.  Divide the decimal number by 2.\n",
        "2.  Record the remainder.\n",
        "3.  Divide the quotient of the previous division by 2.\n",
        "4.  Repeat the process until the quotient is zero.\n",
        "\n",
        "The binary equivalent is obtained by reading the remainders in reverse order (from bottom to top).\n",
        "\n",
        "Example 1: Convert the decimal number 10 to binary.\n",
        "\n",
        "```\n",
        "10 / 2 = 5 Remainder 0 (least significant bit)\n",
        " 5 / 2 = 2 Remainder 1\n",
        " 2 / 2 = 1 Remainder 0\n",
        " 1 / 2 = 0 Remainder 1 (most significant bit)\n",
        "```\n",
        "\n",
        "So, 10 in decimal is 1010 in binary.\n",
        "\n",
        "Example 2: Convert the decimal number 7 to binary.\n",
        "\n",
        "```\n",
        "7 / 2 = 3 Remainder 1 (least significant bit)\n",
        "3 / 2 = 1 Remainder 1\n",
        "1 / 2 = 0 Remainder 1 (most significant bit)\n",
        "```\n",
        "\n",
        "So, 7 in decimal is 111 in binary.\n",
        "\n",
        "### Translating Binary to Decimal:\n",
        "\n",
        "To convert a binary number to decimal, we multiply each bit by 2 raised to the power of its position number, starting from 0 from the rightmost bit (least significant bit), and sum them up.\n",
        "\n",
        "Example 1: Convert the binary number 1101 to decimal.\n",
        "\n",
        "```\n",
        "1*(2^3) + 1*(2^2) + 0*(2^1) + 1*(2^0) = 8 + 4 + 0 + 1 = 13\n",
        "```\n",
        "\n",
        "So, 1101 in binary is 13 in decimal.\n",
        "\n",
        "Example 2: Convert the binary number 1001 to decimal.\n",
        "\n",
        "```\n",
        "1*(2^3) + 0*(2^2) + 0*(2^1) + 1*(2^0) = 8 + 0 + 0 + 1 = 9\n",
        "```\n",
        "\n",
        "So, 1001 in binary is 9 in decimal.\n",
        "\n",
        "Remember, in binary, each digit's place value doubles, as opposed to the decimal system where each place value increases by tenfold. Understanding the translation between these number systems is essential when studying computer science or working in related fields."
      ],
      "metadata": {
        "id": "Ng5EeWr0Nz2P"
      }
    },
    {
      "cell_type": "markdown",
      "source": [
        "## More Numbering Systems !?! Octal and Hexidecimal\n",
        "For all of its theoretical virtues, binary is difficult for humans to write down and understand (with so many 1s and 0s, we make mistakes!). For this reason, computer scientists often express numbers as *octal* or *hexidecimal* numbers:\n",
        "\n",
        "- **Octal (Base-8):** The octal number system uses digits from 0-7. It's sometimes used in computer science because it's relatively straightforward to convert between octal and binary. Every octal digit corresponds exactly to three binary digits. While less commonly used today, it's still seen in certain systems like Unix-style file permissions.\n",
        "\n",
        "- **Hexadecimal (Base-16):** The hexadecimal system uses 16 distinct symbols to represent numbers. The symbols 0-9 represent the values 0-9, and the letters A-F (or a-f) represent the values 10-15. Hexadecimal is commonly used in programming and for memory addressing because it's very compact and easy to convert to and from binary. Each hexadecimal digit represents exactly four binary digits, which makes translation between the two systems simple.\n",
        "\n",
        "\n",
        "| Decimal | Binary | Octal | Hexadecimal |\n",
        "| --- | --- | --- | --- |\n",
        "| 0 | 0000 | 0 | 0 |\n",
        "| 1 | 0001 | 1 | 1 |\n",
        "| 2 | 0010 | 2 | 2 |\n",
        "| 3 | 0011 | 3 | 3 |\n",
        "| 4 | 0100 | 4 | 4 |\n",
        "| 5 | 0101 | 5 | 5 |\n",
        "| 6 | 0110 | 6 | 6 |\n",
        "| 7 | 0111 | 7 | 7 |\n",
        "| 8 | 1000 | 10 | 8 |\n",
        "| 9 | 1001 | 11 | 9 |\n",
        "| 10 | 1010 | 12 | A |\n",
        "| 11 | 1011 | 13 | B |\n",
        "| 12 | 1100 | 14 | C |\n",
        "| 13 | 1101 | 15 | D |\n",
        "| 14 | 1110 | 16 | E |\n",
        "| 15 | 1111 | 17 | F |\n",
        "| 16 | 10000 | 20 | 10 |\n",
        "\n",
        "If you inspect this table, you'll notice that (1) hexidecimal never goes \"beyond\" the digit 7, and (2) hexidecimal using letters A-F to represent digits \"beyond\" 0-9."
      ],
      "metadata": {
        "id": "3llJbfOWPc7q"
      }
    },
    {
      "cell_type": "markdown",
      "source": [
        "## What's in a Word?\n",
        "In computing, data is often grouped into bytes and words. A **byte** typically consists of 8 bits, and a word is a fixed-sized group of bytes processed as a unit. The size of a **word** can vary depending on the computer architecture, commonly being 16, 32, or 64 bits.\n",
        "\n",
        "Bytes and words are fundamental units for organizing and processing data in a computer. A byte, being 8 bits, can represent 256 different values (2^8), which is enough to include all the letters in the English alphabet (both uppercase and lowercase), digits, and various symbols. This makes a byte the standard unit for encoding a single character of text in most computer systems.\n",
        "\n",
        "Words, on the other hand, represent the natural unit of data used by a particular processor design. A processor with a 32-bit word size, for instance, processes 32 bits of data at a time. This means it can efficiently handle larger chunks of data compared to a processor that uses 16-bit words. The word size influences the speed of processing and the amount of memory a processor can address.\n",
        "\n",
        "Other common terms you might here are:\n",
        "\n",
        "1. **Kilobyte** for 1,024 bytes\n",
        "2. **Megabyte** for 1,024 megabytes\n",
        "3. **Gigabyte** for 1,024 megabytes\n",
        "4. **Terabyte** for 1,024 gigabyes\n"
      ],
      "metadata": {
        "id": "mudKZa64_Be_"
      }
    },
    {
      "cell_type": "markdown",
      "source": [
        "## A Simple Game for Number Translation\n",
        "Below, you'll find a simple \"Python\" program game that will allow you to practice translating between different number systems. For now, you don't need to worry about how the Python code \"works\" (we'll be learning that later this semester...)"
      ],
      "metadata": {
        "id": "Qix7ab65ROFQ"
      }
    },
    {
      "cell_type": "code",
      "source": [
        "!wget https://github.com/brendanpshea/colab-utilities/raw/main/number_convert_game.py -q -nc\n",
        "from number_convert_game import *\n",
        "number_convert_game()"
      ],
      "metadata": {
        "colab": {
          "base_uri": "https://localhost:8080/",
          "height": 182
        },
        "id": "DDZrETGbDxgB",
        "outputId": "63e52425-4267-43aa-fc39-edb01626ef4b"
      },
      "execution_count": null,
      "outputs": [
        {
          "output_type": "display_data",
          "data": {
            "text/plain": [
              "<IPython.core.display.HTML object>"
            ],
            "text/html": [
              "\n",
              "    <html>\n",
              "    <head>\n",
              "        <title>Number Conversion Game</title>\n",
              "        <style>\n",
              "            body {\n",
              "                font-family: Arial, sans-serif;\n",
              "                background-color: black;\n",
              "                color: white;\n",
              "            }\n",
              "            .correct { color: green; }\n",
              "            .incorrect { color: red; }\n",
              "        </style>\n",
              "    </head>\n",
              "    <body>\n",
              "        <h1>Welcome to the Number Conversion Game!</h1>\n",
              "        <p>Convert the numbers as requested. Type your answers and hit enter. See if you can get 10 right!</p>\n",
              "    "
            ]
          },
          "metadata": {}
        },
        {
          "output_type": "display_data",
          "data": {
            "text/plain": [
              "<IPython.core.display.HTML object>"
            ],
            "text/html": [
              "Convert <span style='color: green;'>1101</span> from binary to hexadecimal, or type quit to quit: "
            ]
          },
          "metadata": {}
        },
        {
          "name": "stdout",
          "output_type": "stream",
          "text": [
            "quit\n"
          ]
        },
        {
          "output_type": "display_data",
          "data": {
            "text/plain": [
              "<IPython.core.display.HTML object>"
            ],
            "text/html": [
              "<h2>Congratulations! You got 0 correct answers.</h2></body></html>"
            ]
          },
          "metadata": {}
        }
      ]
    },
    {
      "cell_type": "markdown",
      "source": [
        "## What are the Components of Computers?\n",
        "Modern computers are examples of **von Neumann architecture**, also known as a **stored-program computers** This architecture was first described by the mathematician and physicist John von Neumann in 1945. It's characterized by the idea that a computer's program (the instructions for the computer) and the data it processes can be stored in the computer's memory. This was a revolutionary idea because it meant that a computer could be reprogrammed without changing its physical wiring.\n",
        "\n",
        "The von Neumann architecture mainly consists of three components: the Central Processing Unit (CPU), Main Memory, and Input/Output (I/O) systems."
      ],
      "metadata": {
        "id": "sV9dkLdtTFh9"
      }
    },
    {
      "cell_type": "code",
      "source": [
        "## The Von Neumann Computer\n",
        "mm(\"\"\"\n",
        "classDiagram\n",
        "    class VonNeumannComputer {\n",
        "        <<Core structure of the computer>>\n",
        "        -MemoryUnit memory\n",
        "        -ControlUnit controlUnit\n",
        "        -ArithmeticLogicUnit alu\n",
        "        -InputDevice[] inputDevices\n",
        "        -OutputDevice[] outputDevices\n",
        "        +executeProgram()\n",
        "        +loadProgram()\n",
        "    }\n",
        "\n",
        "    class MemoryUnit {\n",
        "        <<Stores data and instructions>>\n",
        "        -int[] data\n",
        "        -int[] instructions\n",
        "        +read(address)\n",
        "        +write(address, value)\n",
        "    }\n",
        "\n",
        "    class ControlUnit {\n",
        "        <<Manages program execution>>\n",
        "        -int programCounter\n",
        "        -int instructionRegister\n",
        "        +fetchInstruction()\n",
        "        +decodeInstruction()\n",
        "        +executeInstruction()\n",
        "    }\n",
        "\n",
        "    class ArithmeticLogicUnit {\n",
        "        <<Performs calculations and logical operations>>\n",
        "        -int accumulator\n",
        "        +add(a, b)\n",
        "        +subtract(a, b)\n",
        "        +multiply(a, b)\n",
        "        +divide(a, b)\n",
        "        +and(a, b)\n",
        "        +or(a, b)\n",
        "        +not(a)\n",
        "    }\n",
        "\n",
        "    class InputDevice {\n",
        "        <<Handles input from external sources>>\n",
        "        +readInput()\n",
        "    }\n",
        "\n",
        "    class OutputDevice {\n",
        "        <<Manages output to external devices>>\n",
        "        +writeOutput(data)\n",
        "    }\n",
        "\n",
        "    VonNeumannComputer \"1\" *-- \"1\" MemoryUnit\n",
        "    VonNeumannComputer \"1\" *-- \"1\" ControlUnit\n",
        "    VonNeumannComputer \"1\" *-- \"1\" ArithmeticLogicUnit\n",
        "    VonNeumannComputer \"1\" *-- \"1..*\" InputDevice\n",
        "    VonNeumannComputer \"1\" *-- \"1..*\" OutputDevice\n",
        "    ControlUnit \"1\" --> \"1\" MemoryUnit : reads/writes\n",
        "    ControlUnit \"1\" --> \"1\" ArithmeticLogicUnit : controls\n",
        "\n",
        "\"\"\")"
      ],
      "metadata": {
        "colab": {
          "base_uri": "https://localhost:8080/",
          "height": 859
        },
        "id": "hUv-IcaUWVo1",
        "outputId": "44b24c1a-5c6f-4724-fa7c-1fda7431dfc2"
      },
      "execution_count": 4,
      "outputs": [
        {
          "output_type": "display_data",
          "data": {
            "text/html": [
              "<img src=\"https://mermaid.ink/img/CmNsYXNzRGlhZ3JhbQogICAgY2xhc3MgVm9uTmV1bWFubkNvbXB1dGVyIHsKICAgICAgICA8PENvcmUgc3RydWN0dXJlIG9mIHRoZSBjb21wdXRlcj4-CiAgICAgICAgLU1lbW9yeVVuaXQgbWVtb3J5CiAgICAgICAgLUNvbnRyb2xVbml0IGNvbnRyb2xVbml0CiAgICAgICAgLUFyaXRobWV0aWNMb2dpY1VuaXQgYWx1CiAgICAgICAgLUlucHV0RGV2aWNlW10gaW5wdXREZXZpY2VzCiAgICAgICAgLU91dHB1dERldmljZVtdIG91dHB1dERldmljZXMKICAgICAgICArZXhlY3V0ZVByb2dyYW0oKQogICAgICAgICtsb2FkUHJvZ3JhbSgpCiAgICB9CgogICAgY2xhc3MgTWVtb3J5VW5pdCB7CiAgICAgICAgPDxTdG9yZXMgZGF0YSBhbmQgaW5zdHJ1Y3Rpb25zPj4KICAgICAgICAtaW50W10gZGF0YQogICAgICAgIC1pbnRbXSBpbnN0cnVjdGlvbnMKICAgICAgICArcmVhZChhZGRyZXNzKQogICAgICAgICt3cml0ZShhZGRyZXNzLCB2YWx1ZSkKICAgIH0KCiAgICBjbGFzcyBDb250cm9sVW5pdCB7CiAgICAgICAgPDxNYW5hZ2VzIHByb2dyYW0gZXhlY3V0aW9uPj4KICAgICAgICAtaW50IHByb2dyYW1Db3VudGVyCiAgICAgICAgLWludCBpbnN0cnVjdGlvblJlZ2lzdGVyCiAgICAgICAgK2ZldGNoSW5zdHJ1Y3Rpb24oKQogICAgICAgICtkZWNvZGVJbnN0cnVjdGlvbigpCiAgICAgICAgK2V4ZWN1dGVJbnN0cnVjdGlvbigpCiAgICB9CgogICAgY2xhc3MgQXJpdGhtZXRpY0xvZ2ljVW5pdCB7CiAgICAgICAgPDxQZXJmb3JtcyBjYWxjdWxhdGlvbnMgYW5kIGxvZ2ljYWwgb3BlcmF0aW9ucz4-CiAgICAgICAgLWludCBhY2N1bXVsYXRvcgogICAgICAgICthZGQoYSwgYikKICAgICAgICArc3VidHJhY3QoYSwgYikKICAgICAgICArbXVsdGlwbHkoYSwgYikKICAgICAgICArZGl2aWRlKGEsIGIpCiAgICAgICAgK2FuZChhLCBiKQogICAgICAgICtvcihhLCBiKQogICAgICAgICtub3QoYSkKICAgIH0KCiAgICBjbGFzcyBJbnB1dERldmljZSB7CiAgICAgICAgPDxIYW5kbGVzIGlucHV0IGZyb20gZXh0ZXJuYWwgc291cmNlcz4-CiAgICAgICAgK3JlYWRJbnB1dCgpCiAgICB9CgogICAgY2xhc3MgT3V0cHV0RGV2aWNlIHsKICAgICAgICA8PE1hbmFnZXMgb3V0cHV0IHRvIGV4dGVybmFsIGRldmljZXM-PgogICAgICAgICt3cml0ZU91dHB1dChkYXRhKQogICAgfQoKICAgIFZvbk5ldW1hbm5Db21wdXRlciAiMSIgKi0tICIxIiBNZW1vcnlVbml0CiAgICBWb25OZXVtYW5uQ29tcHV0ZXIgIjEiICotLSAiMSIgQ29udHJvbFVuaXQKICAgIFZvbk5ldW1hbm5Db21wdXRlciAiMSIgKi0tICIxIiBBcml0aG1ldGljTG9naWNVbml0CiAgICBWb25OZXVtYW5uQ29tcHV0ZXIgIjEiICotLSAiMS4uKiIgSW5wdXREZXZpY2UKICAgIFZvbk5ldW1hbm5Db21wdXRlciAiMSIgKi0tICIxLi4qIiBPdXRwdXREZXZpY2UKICAgIENvbnRyb2xVbml0ICIxIiAtLT4gIjEiIE1lbW9yeVVuaXQgOiByZWFkcy93cml0ZXMKICAgIENvbnRyb2xVbml0ICIxIiAtLT4gIjEiIEFyaXRobWV0aWNMb2dpY1VuaXQgOiBjb250cm9scwoK\"/>"
            ],
            "text/plain": [
              "<IPython.core.display.Image object>"
            ]
          },
          "metadata": {}
        }
      ]
    },
    {
      "cell_type": "markdown",
      "source": [
        "\n",
        "### CPU\n",
        "The **CPU (Central Processing Unit)**is the core of a computer's functionality, often likened to the brain of the computer. It consists of two key parts: the **Arithmetic Logic Unit (ALU)** and the **Control Unit.**\n",
        "\n",
        "- The ALU is responsible for performing all arithmetic and logical operations. This includes basic calculations like addition and subtraction, as well as more complex operations like comparisons. In the early days of computing, ALUs were relatively simple and could perform a limited range of operations. Over time, they have become incredibly sophisticated, capable of handling complex mathematical functions essential for graphics processing, scientific simulations, and more.\n",
        "\n",
        "- The Control Unit acts as a conductor, directing the flow of data within the CPU, and between the CPU and other components of the computer. It interprets the instructions from the memory and tells the ALU what operation to perform. The evolution of control units has been marked by a transition from simple, manual switches to sophisticated, microprogrammed units that can handle millions of instructions per second.\n",
        "\n",
        "| Year Range | CPU Characteristics | Notable Developments |\n",
        "| --- | --- | --- |\n",
        "| 1940s - 1950s | Vacuum tubes, very large, slow processing speed | First generation, speeds measured in milliseconds |\n",
        "| 1960s | Transistors, smaller size, increased reliability | Second generation, speeds improved to microseconds |\n",
        "| 1970s | Integrated circuits, microprocessors | Third generation, speeds in nanoseconds, first CPUs in MHz range |\n",
        "| 1980s | Increased miniaturization, rise of personal computers | Fourth generation, up to 33 MHz (Intel 80386) |\n",
        "| 1990s | Higher clock speeds, introduction of multi-core processors | Speeds reached several hundred MHz to GHz |\n",
        "| 2000s - Present | Multi-core, hyper-threading, energy efficiency | Multi-GHz processors, multi-core for parallel processing |\n",
        "\n",
        "\n",
        "The evolution of Central Processing Units (CPUs) over the decades mirrors the broader narrative of technological advancement, characterized by miniaturization, increased efficiency, and a relentless pursuit of speed. This journey, from the bulky vacuum tubes of the 1940s to the sleek multi-core processors of the 21st century, is a testament to human ingenuity and the inexorable march of progress.\n",
        "\n",
        "In the 1940s and 1950s, the nascent field of computing was dominated by the first generation of CPUs. These behemoths were built with vacuum tubes, occupying entire rooms and generating substantial heat. Their processing speed was modest, operating in the realm of milliseconds. This era was marked by pioneering efforts, laying the groundwork for all subsequent developments in computing.\n",
        "\n",
        "The 1960s heralded the second generation of CPUs, characterized by the transition to transistors. This shift marked a significant leap in terms of size, reliability, and processing speed. Transistors, being smaller and more reliable than vacuum tubes, allowed for the construction of more compact and efficient computers. Processing speeds in this era improved to microseconds, a notable enhancement from the previous generation.\n",
        "\n",
        "The 1970s saw the advent of the third generation of CPUs, with the introduction of integrated circuits and microprocessors. This period was defined by the integration of numerous transistors into single silicon chips, known as integrated circuits. The birth of the **microprocessor**, a complete CPU on a single chip, was a landmark development. Processing speeds reached nanoseconds, and for the first time, CPUs operated in the MHz range.\n",
        "\n",
        "In the 1980s, the fourth generation of CPUs emerged, characterized by further miniaturization and the rise of personal computers. This era saw CPUs reaching up to 33 MHz, as exemplified by the Intel 80386. The increased miniaturization allowed for the proliferation of personal computers, making computing accessible to the masses and not just limited to large organizations.\n",
        "\n",
        "The 1990s were marked by a significant increase in clock speeds and the introduction of **multi-core processors**. CPU speeds escalated from several hundred MHz to GHz, a testament to the rapid advancements in semiconductor technology. The introduction of multi-core processors, where multiple processor cores are integrated on a single chip, marked a paradigm shift in CPU design, enhancing the ability to perform parallel processing and multitasking.\n",
        "\n",
        "From the 2000s to the present, CPUs have continued to evolve, with a focus on multi-core designs, hyper-threading, and energy efficiency. Modern processors operate at multi-GHz speeds and are equipped with multiple cores, enabling efficient parallel processing. The emphasis on energy efficiency reflects a growing awareness of environmental concerns and the need for sustainable technological practices."
      ],
      "metadata": {
        "id": "ePP3ETmjsgIS"
      }
    },
    {
      "cell_type": "markdown",
      "source": [
        "### Main Memory\n",
        "**Main memory**, often referred to as **RAM (Random Access Memory)**, is where the computer stores data and programs while they are being used. In the context of von Neumann architecture, RAM is crucial because it holds both the instructions for the CPU and the data those instructions work with. Early computers used magnetic drums as memory, which were slow and had limited capacity. Modern RAM is exponentially faster and can store a vast amount of data, allowing for the multitasking and complex operations we see in current computers.\n",
        "\n",
        "\n",
        "| Year Range | Memory Type | Notable Developments |\n",
        "| --- | --- | --- |\n",
        "| 1940s - 1950s | Magnetic drums, delay line memory | Few KB capacity, used in early computers |\n",
        "| 1960s | Magnetic core memory | Tens of KB capacity, became standard |\n",
        "| 1970s | Semiconductor memory | Introduction of RAM, DRAM, capacities reaching hundreds of KB to MB |\n",
        "| 1980s | Increased capacity and speed of RAM | MB range, faster access times |\n",
        "| 1990s | SDRAM (Synchronous DRAM) | Capacities in the low GB range, higher bandwidth |\n",
        "| 2000s - Present | DDR SDRAM (Double Data Rate) | Capacities now in tens to hundreds of GB, faster speeds, lower power |\n",
        "\n",
        "The evolution of computer memory over the decades is a narrative of relentless pursuit of higher capacity, speed, and efficiency. This journey, from the primitive magnetic drums of the 1940s to the sophisticated DDR SDRAM of the 21st century, mirrors the broader trajectory of computing technology.\n",
        "\n",
        "In the 1940s and 1950s, the earliest computers relied on magnetic drums and delay line memory for storage. These memory types were characterized by their limited capacity, often only a few kilobytes. Magnetic drums, which stored data on the surface of a rotating cylinder, and delay line memory, which used sound waves in a medium such as mercury, were foundational in the development of computer memory but were limited in speed and capacity.\n",
        "\n",
        "The 1960s marked the era of magnetic core memory, a significant advancement in memory technology. Magnetic core memory used tiny magnetic rings, threaded with wires, to store data. This technology allowed for memory capacities in the tens of kilobytes, a considerable improvement over its predecessors. Magnetic core memory became the standard for its time, known for its reliability and relatively high speed.\n",
        "\n",
        "The 1970s witnessed a revolutionary change with the introduction of semiconductor memory. This period saw the advent of Random Access Memory (RAM) and Dynamic RAM (DRAM), which used semiconductor-based transistors to store data. Memory capacities leaped from hundreds of kilobytes to megabytes. The semiconductor memory was faster, smaller, and more energy-efficient than magnetic core memory, marking a significant technological leap.\n",
        "\n",
        "In the 1980s, there was a continued increase in the capacity and speed of RAM. Memory capacities reached the megabyte (MB) range, with significantly faster access times. This improvement in memory technology was crucial in supporting the increasing complexity of software and the growing demand for more efficient data processing.\n",
        "\n",
        "The 1990s introduced SDRAM (Synchronous DRAM), which synchronized with the computer's system bus. This alignment allowed for higher bandwidth and more efficient data handling. Memory capacities expanded into the low gigabyte (GB) range during this period. SDRAM was a key development in memory technology, enabling faster and more reliable computing.\n",
        "\n",
        "From the 2000s to the present, the dominant memory technology has been DDR SDRAM (Double Data Rate Synchronous DRAM). DDR memory transfers data on both the rising and falling edges of the clock signal, effectively doubling the data rate. Modern DDR SDRAM offers capacities ranging from tens to hundreds of gigabytes, with faster speeds and lower power consumption. This advancement in memory technology has been instrumental in supporting the exponential growth in data processing and storage needs of contemporary computing applications.\n"
      ],
      "metadata": {
        "id": "otJ2xIKfbc0H"
      }
    },
    {
      "cell_type": "markdown",
      "source": [
        "### Input/Output\n",
        "**Input/Output (I/O) Systems** are the conduits for data to enter and leave the computer. They have evolved significantly since 1945.\n",
        "\n",
        "-   Initially, input was done through punch cards and similar rudimentary devices. Today, we have a plethora of input devices like keyboards, mice, touchscreens, and voice recognition systems, allowing for more natural and varied ways of interacting with computers.\n",
        "\n",
        "-   Output devices have evolved from simple lights and printouts to sophisticated monitors capable of displaying millions of colors, and speakers that produce high-fidelity sound.\n",
        "\n",
        "-   While not always included in the classic von Neumann model, **long-term storage** is a crucial aspect of modern computing. Early computers had no permanent storage and relied on external media like punch cards. Now, we have hard drives, solid-state drives, and cloud storage, which allow us to store vast amounts of data permanently and access it rapidly.\n",
        "\n",
        "| Year Range | I/O and Storage Type | Notable Developments |\n",
        "| --- | --- | --- |\n",
        "| 1940s - 1950s | Punch cards, Magnetic tape, Basic Monitors | Basic I/O methods, storage in KB range, rudimentary visual output |\n",
        "| 1960s | Magnetic disks, Keyboards | Introduction of HDDs, storage in MB range, standardization of keyboards |\n",
        "| 1970s | Floppy disks, CRT Monitors | Portable storage, capacities in low MB range, widespread use of CRT monitors |\n",
        "| 1980s | Optical storage (CDs), GUI, Mouse | Up to 700 MB per CD, Graphical User Interfaces (GUIs), introduction of mouse |\n",
        "| 1990s | USB, Flash drives, LCD Monitors, Touchscreens | Flash drives in MB to low GB range, USB 1.0/2.0, transition to LCD monitors, early touchscreens |\n",
        "| 2000s - Present | SSDs, Cloud storage, Advanced Touchscreens | SSDs in GB to TB range, high-speed data access, cloud storage, sophisticated touchscreens |\n",
        "\n",
        "\n",
        "The 1940s and 1950s marked the dawn of computing, with punch cards and magnetic tape serving as primary storage and I/O methods. These were complemented by basic monitors, which provided rudimentary visual output. This era laid the foundation for future developments in computing interfaces.\n",
        "\n",
        "In the 1960s, the introduction of **magnetic hard disk drives (HDDs)** revolutionized storage, offering capacities in the MB range. This decade also saw the standardization of keyboards, which became an essential input device for computers, allowing for more efficient data entry and interaction.\n",
        "\n",
        "The 1970s witnessed the advent of floppy disks, offering portable storage in the low MB range. This era also saw the widespread adoption of Cathode Ray Tube (CRT) monitors, which became the standard for visual output, offering better display quality and larger screen sizes.\n",
        "\n",
        "The 1980s were characterized by the introduction of optical storage media like CDs, significantly increasing storage capacity. This period also marked the rise of **Graphical User Interfaces (GUIs)** and the introduction of the mouse as an input device, revolutionizing the way users interacted with computers.\n",
        "\n",
        "In the 1990s, the development of USB and flash drives provided portable, high-capacity storage solutions. This decade also saw a transition to Liquid Crystal Display (LCD) monitors, offering clearer and more energy-efficient displays. Additionally, the 1990s introduced early touchscreens, adding a new dimension to user interaction.\n",
        "\n",
        "From the 2000s to the present, **Solid State Drives (SSDs)** and cloud storage have dominated storage technology, offering high-speed access and massive capacities. In terms of I/O, this era has seen the refinement of touchscreen technology, making it more responsive and versatile. These advancements have significantly enhanced the user experience, making computing more intuitive and accessible."
      ],
      "metadata": {
        "id": "cjlRhdeJcMXK"
      }
    },
    {
      "cell_type": "markdown",
      "source": [
        "### Memory Hierarchy\n",
        "\n",
        "The **memory hierarchy** is a structure that uses multiple levels of memory storage to manage data efficiently and ensure that the computer can process information as quickly as possible. This hierarchy ranges from the smallest, fastest storage locations, to the largest, slowest ones. Understanding the memory hierarchy is crucial to grasping how computers handle and prioritize data.\n",
        "\n",
        "#### Registers\n",
        "\n",
        "**Registers** are the smallest and fastest type of memory. They are located directly inside the **CPU** and are used to hold the data that the CPU is currently processing. Because they are within the CPU, accessing registers is almost instantaneous. Registers typically hold instructions, addresses, or immediate data needed during computation.\n",
        "\n",
        "There are different types of registers, including:\n",
        "\n",
        "-   **Data registers:** Store intermediate results of calculations.\n",
        "-   **Address registers:** Hold memory addresses.\n",
        "-   **Status registers:** Keep track of the CPU's state and operation.\n",
        "\n",
        "#### Cache Memory\n",
        "\n",
        "**Cache memory** is a small, fast type of volatile computer memory that provides high-speed data access to the CPU and improves the efficiency of processing by storing frequently accessed or recently accessed data. Caches are typically divided into levels:\n",
        "\n",
        "-   **L1 Cache:** The first level of cache, located inside the CPU, is extremely fast but small in size.\n",
        "-   **L2 Cache:** The second level of cache, slightly larger and slower than L1, is still within or very close to the CPU.\n",
        "-   **L3 Cache:** The third level, larger and slower than L2, is shared among multiple CPU cores in many modern processors.\n",
        "\n",
        "Caches operate on the principle of **locality of reference**, which suggests that programs tend to access the same data or instructions repeatedly. By keeping this frequently accessed data close to the CPU, caches significantly reduce the time it takes to retrieve information compared to accessing the main memory.\n",
        "\n",
        "#### Main Memory (RAM)\n",
        "\n",
        "**Main memory**, as discussed, is where the computer stores data and programs while they are in use. It is much larger than cache memory but slower. Main memory provides a space for running applications and currently used data, bridging the gap between the fast cache and the slower secondary storage. RAM, like registers and caches, is **volatile**, meaning that it preserves data only when the power is on.\n",
        "\n",
        "#### Secondary Storage\n",
        "\n",
        "**Secondary storage** refers to non-volatile memory types used to store data permanently. Unlike RAM, data in secondary storage is not lost when the computer is turned off (**non-volatile). This includes:\n",
        "\n",
        "-   **Hard Disk Drives (HDDs):** Mechanical drives that use magnetic storage to hold data.\n",
        "-   **Solid State Drives (SSDs):** Faster than HDDs, SSDs use flash memory to store data without moving parts.\n",
        "-   **Optical Discs:** CDs, DVDs, and Blu-ray discs that use lasers to read and write data.\n",
        "-   **External Storage Devices:** USB flash drives and external hard drives.\n",
        "\n",
        "Secondary storage is essential for holding the operating system, software applications, and user data over the long term. Although significantly slower than RAM, it offers much greater storage capacity.\n",
        "\n",
        "#### Tertiary Storage\n",
        "\n",
        "**Tertiary storage** is an additional layer of storage primarily used for archiving and backup purposes. Examples include tape drives and remote cloud storage. These storage options are typically the slowest and have the longest access times but provide vast amounts of storage space at a lower cost. Tertiary storage is often used for data that is not frequently accessed but must be preserved for long-term use or regulatory compliance.\n",
        "\n",
        "#### The Memory Hierarchy in Practice\n",
        "\n",
        "The memory hierarchy works by leveraging the speed and cost differences between various types of memory. Data and instructions that the CPU needs immediately are stored in the fastest memory types, like registers and caches. Data that is used less frequently resides in slower, larger memory types like main memory and secondary storage.\n",
        "\n",
        "In practice, this means that:\n",
        "\n",
        "1.  **Registers** and **L1 cache** provide the quickest access to the most critical data.\n",
        "2.  **L2 and L3 caches** serve as intermediary buffers, reducing the need to access the slower main memory.\n",
        "3.  **Main memory (RAM)** holds the bulk of data and programs in active use.\n",
        "4.  **Secondary storage** preserves data long-term and provides large capacity at a lower cost.\n",
        "5.  **Tertiary storage** ensures that rarely used or archival data is stored cost-effectively.\n",
        "\n",
        "By efficiently managing where data is stored, the memory hierarchy helps maintain a balance between speed, cost, and capacity, ensuring that the computer can perform efficiently across a wide range of tasks.\n",
        "\n",
        "4o"
      ],
      "metadata": {
        "id": "FPIIdJPD9r5t"
      }
    },
    {
      "cell_type": "markdown",
      "source": [
        "## How Do Computers \"Think\"? CPUs and Fetch-Decode-Execute\n",
        "The central processing unit (CPU), often referred to as the \"brain\" of the computer, is where most calculations take place. It's responsible for executing the instructions of a computer program. The fundamental operation of most CPUs, regardless of the physical form they take, is to execute a sequence of stored instructions called a program. This process is completed using a cycle known as the fetch-decode-execute cycle, and it's the cornerstone of how CPUs work.\n",
        "\n",
        "Let's break this down into simpler terms:\n",
        "\n",
        "1.  **Fetch.** This is the first step of the cycle. Here, the CPU fetches the instruction from its memory. Every instruction is stored in a specific numbered location in memory, and the CPU keeps track of these numbers using a special counter called the Program Counter (PC). The PC gives the CPU the address of the next instruction to fetch. After fetching an instruction, the PC automatically increments to point to the next instruction.\n",
        "\n",
        "2.  **Decode.** After fetching the instruction, the CPU needs to understand what that instruction means. That's what happens in this step. The instruction is broken down or 'decoded' into a command that the CPU can understand. The Control Unit (CU) is responsible for this. The CU is essentially the \"manager\" of the CPU, coordinating and controlling the actions of the other hardware components.\n",
        "\n",
        "3.  **Execute.** Once the CPU understands the instruction, it's time to carry it out. This might mean performing some sort of computation, like addition or subtraction, or it might involve a different sort of operation, like moving data from one memory location to another. The Arithmetic Logic Unit (ALU) comes into play here. The ALU is where the CPU performs operations like addition, subtraction, multiplication, and division. It can also perform logical operations, such as AND, OR and NOT operations.\n",
        "\n",
        "For example, let's say we have an instruction in memory that tells the CPU to add two numbers together. The CPU fetches this instruction from memory, which means it reads the instruction from the location given by the PC.   Next, it decodes the instruction, breaking it down to understand that it's being asked to perform an addition operation. It also identifies the numbers that are to be added. Finally, the CPU executes the instruction, adding the numbers together in the ALU. The result is then stored in a register or memory for later use.\n",
        "\n",
        "This fetch-decode-execute cycle is the basis of all operations performed by a CPU, whether simple or complex. By fetching, decoding, and executing instructions, the CPU is able to run all the software on a computer, from the operating system to video games and web browsers."
      ],
      "metadata": {
        "id": "AAdkMiqqX41j"
      }
    },
    {
      "cell_type": "code",
      "source": [
        "# The fetch-decode-execute cycle\n",
        "mm(\"\"\"\n",
        "graph TD\n",
        "    subgraph VM[Von Neumann Model]\n",
        "        MU[Memory Unit]\n",
        "        CU[Control Unit]\n",
        "        ALU[Arithmetic Logic Unit]\n",
        "    end\n",
        "\n",
        "    F[Fetch]\n",
        "    D[Decode]\n",
        "    E[Execute]\n",
        "\n",
        "    F -->|1| D\n",
        "    D -->|2| E\n",
        "    E -->|3| F\n",
        "\n",
        "    F ---|Fetch instruction| MU\n",
        "    D ---|Interpret instruction| CU\n",
        "    E ---|Perform operation| ALU\n",
        "\n",
        "    CU ---|Controls| F\n",
        "    CU ---|Controls| D\n",
        "    CU ---|Controls| E\n",
        "\n",
        "    classDef vmComponent fill:#f9f,stroke:#333,stroke-width:2px;\n",
        "    classDef cycleStage fill:#bfe,stroke:#333,stroke-width:2px;\n",
        "\n",
        "    class MU,CU,ALU vmComponent;\n",
        "    class F,D,E cycleStage;\n",
        "\"\"\")"
      ],
      "metadata": {
        "colab": {
          "base_uri": "https://localhost:8080/",
          "height": 533
        },
        "id": "H_P5EYNLXLwA",
        "outputId": "c5a5be87-945e-4e5b-ea99-36d0a6ade417"
      },
      "execution_count": 7,
      "outputs": [
        {
          "output_type": "display_data",
          "data": {
            "text/html": [
              "<img src=\"https://mermaid.ink/img/CmdyYXBoIFRECiAgICBzdWJncmFwaCBWTVtWb24gTmV1bWFubiBNb2RlbF0KICAgICAgICBNVVtNZW1vcnkgVW5pdF0KICAgICAgICBDVVtDb250cm9sIFVuaXRdCiAgICAgICAgQUxVW0FyaXRobWV0aWMgTG9naWMgVW5pdF0KICAgIGVuZAoKICAgIEZbRmV0Y2hdCiAgICBEW0RlY29kZV0KICAgIEVbRXhlY3V0ZV0KCiAgICBGIC0tPnwxfCBECiAgICBEIC0tPnwyfCBFCiAgICBFIC0tPnwzfCBGCgogICAgRiAtLS18RmV0Y2ggaW5zdHJ1Y3Rpb258IE1VCiAgICBEIC0tLXxJbnRlcnByZXQgaW5zdHJ1Y3Rpb258IENVCiAgICBFIC0tLXxQZXJmb3JtIG9wZXJhdGlvbnwgQUxVCgogICAgQ1UgLS0tfENvbnRyb2xzfCBGCiAgICBDVSAtLS18Q29udHJvbHN8IEQKICAgIENVIC0tLXxDb250cm9sc3wgRQoKICAgIGNsYXNzRGVmIHZtQ29tcG9uZW50IGZpbGw6I2Y5ZixzdHJva2U6IzMzMyxzdHJva2Utd2lkdGg6MnB4OwogICAgY2xhc3NEZWYgY3ljbGVTdGFnZSBmaWxsOiNiZmUsc3Ryb2tlOiMzMzMsc3Ryb2tlLXdpZHRoOjJweDsKCiAgICBjbGFzcyBNVSxDVSxBTFUgdm1Db21wb25lbnQ7CiAgICBjbGFzcyBGLEQsRSBjeWNsZVN0YWdlOwo=\"/>"
            ],
            "text/plain": [
              "<IPython.core.display.Image object>"
            ]
          },
          "metadata": {}
        }
      ]
    },
    {
      "cell_type": "markdown",
      "source": [
        "### Operating Systems\n",
        "\n",
        "An **Operating System (OS)** is the fundamental software that manages a computer's hardware and provides a platform for applications. It acts as an intermediary between the user and the computer hardware, managing resources and facilitating user interaction. The OS consists of several key components: the Kernel, User Interface (UI), and System Utilities.\n",
        "\n",
        "The **Kernel** is the core of the OS, responsible for managing the system's resources, such as the CPU, memory, and I/O devices. It handles tasks like memory allocation, process scheduling, and device control. In the early days, kernels were simple and had limited functionality. Over time, they have evolved to become more efficient and robust, capable of managing complex, multi-user, and multi-tasking environments.\n",
        "\n",
        "The User Interface allows users to interact with the computer. Initially, this was done through **command-line interfaces (CLI)**, where users typed commands. With technological advancements, **Graphical User Interfaces (GUIs)** became prevalent, offering a more intuitive and user-friendly way to interact with computers through visual elements like windows, icons, and menus.\n",
        "\n",
        "**System Utilities** are programs that provide additional functionality to the OS, such as file management, system monitoring, and security. These utilities have evolved to offer more sophisticated and user-friendly tools, enhancing the overall user experience and system performance.\n",
        "\n",
        "| Year Range | Operating System Characteristics | Notable Developments |\n",
        "| --- | --- | --- |\n",
        "| 1940s - 1950s | Batch processing, limited user interaction | Early OS designs, focused on efficient resource utilization |\n",
        "| 1960s | Multi-programming, time-sharing | Introduction of time-sharing systems, allowing multiple users simultaneously |\n",
        "| 1970s | Personal computer OS, GUI introduction | Development of OS for personal computers, early GUIs (e.g., Xerox PARC's Alto) |\n",
        "| 1980s | Widespread adoption of GUIs, network support | Microsoft Windows and Apple Macintosh popularize GUIs, introduction of networking capabilities |\n",
        "| 1990s | Internet integration, enhanced UI and multitasking | OSes integrate internet capabilities, improved multitasking, user-friendly interfaces (e.g., Windows 95) |\n",
        "| 2000s - Present | Mobile OS, cloud integration, security focus | Emergence of mobile operating systems (iOS, Android), cloud computing integration, enhanced security features |\n",
        "\n",
        "The evolution of Operating Systems over the decades is a narrative of continuous adaptation and innovation, paralleling the advancements in hardware technology. In the 1940s and 1950s, the concept of an operating system was rudimentary, with early computers using batch processing systems where jobs were executed one after another without direct user interaction.\n",
        "\n",
        "The 1960s introduced multi-programming and time-sharing systems, which allowed multiple users to interact with the computer simultaneously. This era marked a significant shift towards more interactive and efficient use of computing resources.\n",
        "\n",
        "In the 1970s, with the advent of personal computers, operating systems became more user-centric. This period saw the development of OS specifically designed for personal computers, with early versions of graphical user interfaces making their debut, as seen in systems like Xerox PARC's Alto.\n",
        "\n",
        "The 1980s were characterized by the widespread adoption of graphical user interfaces, making computers more accessible to the general public. This era also saw the introduction of networking capabilities in operating systems, allowing computers to connect and communicate with each other.\n",
        "\n",
        "The 1990s witnessed the integration of internet capabilities into operating systems, a significant milestone that transformed how computers were used. This decade also saw improvements in multitasking capabilities and more user-friendly interfaces, as exemplified by Windows 95.\n",
        "\n",
        "From the 2000s to the present, the focus has shifted to mobile operating systems, cloud computing integration, and enhanced security features. Mobile OS like iOS and Android have become ubiquitous, reflecting the shift towards mobile computing. Cloud integration has enabled seamless access to data and applications across multiple devices, while security has become a paramount concern in the face of increasing cyber threats."
      ],
      "metadata": {
        "id": "FSuNR0t3rnwh"
      }
    },
    {
      "cell_type": "markdown",
      "source": [
        "## How Can Computers Communicate? The Mysteries of Input and Output\n",
        "Input and output (often referred to as I/O) are fundamental concepts in computer science. They refer to how a computer receives information (input) and then transmits it (output).  Input could come from a variety of sources, like a keyboard, mouse, microphone, or a different computer, while output could be sent to a screen, speaker, printer, or elsewhere.\n",
        "\n",
        "Let's start with an example of **input.** When you press a key on your keyboard, you're providing input to your computer. The keyboard sends a signal to the computer that a key was pressed and identifies which one. This data is then processed by the computer, maybe resulting in a character appearing on your screen, which is an output.\n",
        "\n",
        "For **output**, consider what happens when you click \"print\" in a word processor. The program sends the text data and formatting instructions (the input) to the computer's printer driver. The printer driver then translates this into a language that the printer can understand (the output), and sends this data to the printer. The printer prints your document based on this data, which is another form of output.\n",
        "\n",
        "### Interrupts and Polling\n",
        "\n",
        "Input and output can occur in several ways, two of the most common are through interrupts and polling.\n",
        "\n",
        "**Interrupts** are signals sent to the CPU that an event occurred that needs immediate attention. When the CPU receives an interrupt, it suspends its current operations, saves its state, and begins executing the interrupt handler, a routine that is specifically set up to deal with the particular interrupt. Once the interrupt handler finishes, the CPU resumes its previous tasks.\n",
        "\n",
        "For instance, when you move your mouse, the mouse sends an interrupt signal to the CPU. The CPU then interrupts what it was doing to execute the interrupt handler for the mouse input, which might result in moving the cursor on your screen. This happens so quickly that it appears seamless to the user.\n",
        "\n",
        "**Polling** is another method for handling input and output. Instead of waiting for an interrupt signal, the CPU (or another device) continuously checks (or polls) the status of a device to see if it needs servicing - i.e., if there's any new data or if it's ready to receive data.\n",
        "\n",
        "For example, a program might continuously poll a network port to see if there's any new data to read. Once it detects new data, it reads it and processes it. Unlike interrupts, polling is often used when the timing of the input or output operation is not as critical, as polling can use more CPU resources since it's continuously checking the status of a device.\n"
      ],
      "metadata": {
        "id": "JQwY5aRLamCZ"
      }
    },
    {
      "cell_type": "code",
      "source": [
        "## How Computers Handle Interrupt\n",
        "mm(\"\"\"\n",
        "graph TD\n",
        "    subgraph CPU[Central Processing Unit]\n",
        "        NE[Normal Execution]\n",
        "        ISR[Interrupt Service Routine]\n",
        "    end\n",
        "\n",
        "    subgraph INT[Interrupt Sources]\n",
        "        HW[Hardware Interrupts]\n",
        "        SW[Software Interrupts]\n",
        "        EXT[External Interrupts]\n",
        "    end\n",
        "\n",
        "    subgraph EX[Examples]\n",
        "        KP[Keyboard Press]\n",
        "        TO[Timer Overflow]\n",
        "        DE[Division by Zero]\n",
        "        SY[System Call]\n",
        "        PB[Power Button]\n",
        "    end\n",
        "\n",
        "    NE -->|Interrupt Occurs| ISR\n",
        "    ISR -->|Return from Interrupt| NE\n",
        "\n",
        "    HW --> ISR\n",
        "    SW --> ISR\n",
        "    EXT --> ISR\n",
        "\n",
        "    KP --> HW\n",
        "    TO --> HW\n",
        "    DE --> SW\n",
        "    SY --> SW\n",
        "    PB --> EXT\n",
        "\n",
        "    classDef cpuComp fill:#f9f,stroke:#333,stroke-width:2px;\n",
        "    classDef intType fill:#bfe,stroke:#333,stroke-width:2px;\n",
        "    classDef example fill:#fdb,stroke:#333,stroke-width:2px;\n",
        "\n",
        "    class NE,ISR cpuComp;\n",
        "    class HW,SW,EXT intType;\n",
        "    class KP,TO,DE,SY,PB example;\n",
        "\"\"\")"
      ],
      "metadata": {
        "id": "5TPOR-AZZD5A",
        "outputId": "0f563ee6-a406-44a8-f009-0693ac39e644",
        "colab": {
          "base_uri": "https://localhost:8080/",
          "height": 492
        }
      },
      "execution_count": 10,
      "outputs": [
        {
          "output_type": "display_data",
          "data": {
            "text/html": [
              "<img src=\"https://mermaid.ink/img/CmdyYXBoIFRECiAgICBzdWJncmFwaCBDUFVbQ2VudHJhbCBQcm9jZXNzaW5nIFVuaXRdCiAgICAgICAgTkVbTm9ybWFsIEV4ZWN1dGlvbl0KICAgICAgICBJU1JbSW50ZXJydXB0IFNlcnZpY2UgUm91dGluZV0KICAgIGVuZAoKICAgIHN1YmdyYXBoIElOVFtJbnRlcnJ1cHQgU291cmNlc10KICAgICAgICBIV1tIYXJkd2FyZSBJbnRlcnJ1cHRzXQogICAgICAgIFNXW1NvZnR3YXJlIEludGVycnVwdHNdCiAgICAgICAgRVhUW0V4dGVybmFsIEludGVycnVwdHNdCiAgICBlbmQKCiAgICBzdWJncmFwaCBFWFtFeGFtcGxlc10KICAgICAgICBLUFtLZXlib2FyZCBQcmVzc10KICAgICAgICBUT1tUaW1lciBPdmVyZmxvd10KICAgICAgICBERVtEaXZpc2lvbiBieSBaZXJvXQogICAgICAgIFNZW1N5c3RlbSBDYWxsXQogICAgICAgIFBCW1Bvd2VyIEJ1dHRvbl0KICAgIGVuZAoKICAgIE5FIC0tPnxJbnRlcnJ1cHQgT2NjdXJzfCBJU1IKICAgIElTUiAtLT58UmV0dXJuIGZyb20gSW50ZXJydXB0fCBORQoKICAgIEhXIC0tPiBJU1IKICAgIFNXIC0tPiBJU1IKICAgIEVYVCAtLT4gSVNSCgogICAgS1AgLS0-IEhXCiAgICBUTyAtLT4gSFcKICAgIERFIC0tPiBTVwogICAgU1kgLS0-IFNXCiAgICBQQiAtLT4gRVhUCgogICAgY2xhc3NEZWYgY3B1Q29tcCBmaWxsOiNmOWYsc3Ryb2tlOiMzMzMsc3Ryb2tlLXdpZHRoOjJweDsKICAgIGNsYXNzRGVmIGludFR5cGUgZmlsbDojYmZlLHN0cm9rZTojMzMzLHN0cm9rZS13aWR0aDoycHg7CiAgICBjbGFzc0RlZiBleGFtcGxlIGZpbGw6I2ZkYixzdHJva2U6IzMzMyxzdHJva2Utd2lkdGg6MnB4OwoKICAgIGNsYXNzIE5FLElTUiBjcHVDb21wOwogICAgY2xhc3MgSFcsU1csRVhUIGludFR5cGU7CiAgICBjbGFzcyBLUCxUTyxERSxTWSxQQiBleGFtcGxlOwo=\"/>"
            ],
            "text/plain": [
              "<IPython.core.display.Image object>"
            ]
          },
          "metadata": {}
        }
      ]
    },
    {
      "cell_type": "markdown",
      "source": [
        "## Table: History of Computers\n",
        "| **Decade** | **Representative Computer** | **CPU** | **Main Memory** | **Input** | **Output** |\n",
        "| --- | --- | --- | --- | --- | --- |\n",
        "| **1940s** | ENIAC | Vacuum tubes | 20,000 decimal digits (approx. 80 KB) | Plugboards, punched cards | Lights, punched cards |\n",
        "| **1950s** | IBM 701 | Vacuum tubes | 2,048 words (approx. 12 KB) | Punched cards, magnetic tape | Punched cards, magnetic tape |\n",
        "| **1960s** | IBM System/360 | Transistors | 8 KB to 8 MB | Punched cards, keyboards | Line printers, magnetic tape |\n",
        "| **1970s** | Apple I | MOS 6502 (1 MHz) | 4 KB to 64 KB | Keyboard | TV screen |\n",
        "| **1980s** | IBM Personal Computer (PC) | Intel 8088 (4.77 MHz) | 16 KB to 640 KB | Keyboard, floppy disks | CRT monitor, dot matrix printer |\n",
        "| **1990s** | Pentium PC | Intel Pentium (60-300 MHz) | 4 MB to 128 MB | Keyboard, mouse, CD-ROM | CRT monitor, inkjet printer |\n",
        "| **2000s** | Apple MacBook (2006) | Intel Core Duo (1.83 GHz) | 512 MB to 2 GB | Keyboard, touchpad, USB, optical drive | LCD display, inkjet/laser printer |\n",
        "| **2010s** | Dell XPS 13 | Intel Core i7 (2.5 GHz to 4 GHz) | 4 GB to 16 GB | Keyboard, touchpad, USB, webcam | LCD display, external monitors, laser printer |\n",
        "| **2020s** | Apple MacBook Air (M1, 2020) | Apple M1 (8-core, up to 3.2 GHz) | 8 GB to 16 GB | Keyboard, touchpad, FaceTime camera, USB-C | Retina display, external monitors, laser printer |"
      ],
      "metadata": {
        "id": "DYVImIl5aztB"
      }
    },
    {
      "cell_type": "markdown",
      "source": [
        "## What Computer am I Running?\n",
        "These lecture notes are written as a **Jupyter** notebook, which combines **Python** and **Linux** commands with text cells. You are likely running this on **Google Colab** which is a cloud-based environment provided by Google. Here, we're going to write a simple Python function to find out more about the \"virtual machine\" that Google has provided us with.\n"
      ],
      "metadata": {
        "id": "WEdU9gUaroSW"
      }
    },
    {
      "cell_type": "code",
      "source": [
        "# CPU Information\n",
        "print(\"\\nGetting CPU Information...\")\n",
        "!echo -e \"CPU Model:\\n$(lscpu | grep 'Model name')\"\n",
        "!echo -e \"\\nNumber of CPUs:\\n$(lscpu | grep 'CPU(s):')\"\n",
        "\n",
        "# Memory Information\n",
        "print(\"\\n\\nGetting Memory Information...\")\n",
        "!free -h\n",
        "\n",
        "# Disk Information\n",
        "print(\"\\n\\nGetting Disk Information...\")\n",
        "!df -h --output=source,fstype,size,used,avail\n",
        "!echo -e \"\\nStorage Type:\\n$(lsblk -d -o name,rota)\"\n",
        "\n",
        "# Linux version\n",
        "print(\"\\n\\nGetting Linux Version Information...\")\n",
        "!uname -a\n",
        "!lsb_release -a\n",
        "\n"
      ],
      "metadata": {
        "colab": {
          "base_uri": "https://localhost:8080/"
        },
        "id": "gGkKmzs5rnv8",
        "outputId": "79e811db-6d6a-4ce9-ab5a-c8e1c520309e"
      },
      "execution_count": 8,
      "outputs": [
        {
          "output_type": "stream",
          "name": "stdout",
          "text": [
            "\n",
            "Getting CPU Information...\n",
            "CPU Model:\n",
            "Model name:                           Intel(R) Xeon(R) CPU @ 2.20GHz\n",
            "\n",
            "Number of CPUs:\n",
            "CPU(s):                               2\n",
            "NUMA node0 CPU(s):                    0,1\n",
            "\n",
            "\n",
            "Getting Memory Information...\n",
            "               total        used        free      shared  buff/cache   available\n",
            "Mem:            12Gi       913Mi       8.2Gi       2.0Mi       3.6Gi        11Gi\n",
            "Swap:             0B          0B          0B\n",
            "\n",
            "\n",
            "Getting Disk Information...\n",
            "Filesystem     Type     Size  Used Avail\n",
            "overlay        overlay  108G   33G   75G\n",
            "tmpfs          tmpfs     64M     0   64M\n",
            "shm            tmpfs    5.8G     0  5.8G\n",
            "/dev/root      ext2     2.0G  1.2G  820M\n",
            "tmpfs          tmpfs    6.4G  936K  6.4G\n",
            "/dev/sda1      ext4      70G   53G   18G\n",
            "tmpfs          tmpfs    6.4G     0  6.4G\n",
            "tmpfs          tmpfs    6.4G     0  6.4G\n",
            "tmpfs          tmpfs    6.4G     0  6.4G\n",
            "\n",
            "Storage Type:\n",
            "NAME  ROTA\n",
            "loop0    0\n",
            "sda      0\n",
            "\n",
            "\n",
            "Getting Linux Version Information...\n",
            "Linux 08b688853e09 6.1.85+ #1 SMP PREEMPT_DYNAMIC Thu Jun 27 21:05:47 UTC 2024 x86_64 x86_64 x86_64 GNU/Linux\n",
            "No LSB modules are available.\n",
            "Distributor ID:\tUbuntu\n",
            "Description:\tUbuntu 22.04.3 LTS\n",
            "Release:\t22.04\n",
            "Codename:\tjammy\n"
          ]
        }
      ]
    },
    {
      "cell_type": "markdown",
      "source": [
        "## You Try It\n",
        "\n",
        "1.  When you run a program on your computer, what is happening at the CPU level? Explain the fetch-decode-execute cycle.\n",
        "\n",
        "2.  Why is your computer's hard drive or SSD larger than its RAM? How do these two types of storage work together to run a program?\n",
        "\n",
        "3. What kind of computer hardware and software are you currently using (for example: CPU, RAM, SSD, Operating System)? How did you go about finding this out?\n",
        "\n",
        "\n",
        "\n"
      ],
      "metadata": {
        "id": "7oHiQ2wi8MxM"
      }
    },
    {
      "cell_type": "markdown",
      "source": [
        "## True/False Quiz\n",
        "You can \"run\" the following cell to launch a true-false quiz."
      ],
      "metadata": {
        "id": "V1BnY03mLZT9"
      }
    },
    {
      "cell_type": "code",
      "source": [
        "# Quiz\n",
        "!wget \"https://github.com/brendanpshea/colab-utilities/raw/main/quiz_tf.py\" -q -nc\n",
        "from quiz_tf import run_quiz_url\n",
        "run_quiz_url(\"https://github.com/brendanpshea/computing_concepts_python/raw/main/quiz/quiz_1.csv\")"
      ],
      "metadata": {
        "colab": {
          "base_uri": "https://localhost:8080/",
          "height": 256,
          "referenced_widgets": [
            "6da6d09b091c4e52b74fc3138d7ccc43",
            "bbdb003459ab4e5cb435189f901674f3",
            "9deb7699413d49ee977951abef6cd757",
            "1f043f48bee44451a3371007182ec8ff",
            "2abed21464e549088207a8ec81285d96",
            "5fc562fc5fd1445dbf63a6b6cc58113d",
            "2508fb26d7834822a4e23b647311e9e5",
            "7ed6a19568294d429c117fc3e3105016",
            "1b6d52877cb8466ead9d254de44a6c50",
            "86935070e15545d98363bbeeff09cc53",
            "8da2b7d9d29545aa840cd5dbd6d85378"
          ]
        },
        "id": "-0Dl6gCALgs-",
        "outputId": "7891625d-cb6a-4a62-9eab-7bd1a243c9da"
      },
      "execution_count": null,
      "outputs": [
        {
          "output_type": "display_data",
          "data": {
            "text/plain": [
              "<IPython.core.display.HTML object>"
            ],
            "text/html": [
              "<h3>Question 1 of 59:</h3>"
            ]
          },
          "metadata": {}
        },
        {
          "output_type": "display_data",
          "data": {
            "text/plain": [
              "<IPython.core.display.HTML object>"
            ],
            "text/html": [
              "<p>The fetch-decode-execute cycle is the fundamental process by which a CPU stores data in memory.</p>"
            ]
          },
          "metadata": {}
        },
        {
          "output_type": "display_data",
          "data": {
            "text/plain": [
              "HBox(children=(Button(description='True', style=ButtonStyle()), Button(description='False', style=ButtonStyle(…"
            ],
            "application/vnd.jupyter.widget-view+json": {
              "version_major": 2,
              "version_minor": 0,
              "model_id": "6da6d09b091c4e52b74fc3138d7ccc43"
            }
          },
          "metadata": {}
        },
        {
          "output_type": "display_data",
          "data": {
            "text/plain": [
              "<IPython.core.display.HTML object>"
            ],
            "text/html": [
              "<p>Quiz aborted.</p>"
            ]
          },
          "metadata": {}
        },
        {
          "output_type": "display_data",
          "data": {
            "text/plain": [
              "<IPython.core.display.HTML object>"
            ],
            "text/html": [
              "\n",
              "    <h3>Quiz Summary:</h3>\n",
              "    <ul>\n",
              "        <li>Questions Answered: 0/59</li>\n",
              "        <li>Correct Answers: 0</li>\n",
              "        <li>Incorrect Answers: 0</li>\n",
              "        <li>Percentage: 0.00%</li>\n",
              "    </ul>\n",
              "    "
            ]
          },
          "metadata": {}
        }
      ]
    },
    {
      "cell_type": "markdown",
      "source": [
        "## Review with Quizlet\n",
        "\n",
        "I've created a \"Quizlet\" deck to go along with this chapter (based on the glossary below). I encourage you to work your way through it until you \"master\" this activity. To launch the deck, you simply \"run\" the cell below."
      ],
      "metadata": {
        "id": "bFmhR8w63Yfw"
      }
    },
    {
      "cell_type": "code",
      "source": [
        "%%html\n",
        "<iframe src=\"https://quizlet.com/817056246/learn/embed?i=psvlh&x=1jj1\" height=\"600\" width=\"100%\" style=\"border:0\"></iframe>"
      ],
      "metadata": {
        "id": "Pd4gz-7e37iI",
        "outputId": "169266ee-8af7-4db7-8cef-dcffa12be3e5",
        "colab": {
          "base_uri": "https://localhost:8080/",
          "height": 621
        }
      },
      "execution_count": null,
      "outputs": [
        {
          "output_type": "display_data",
          "data": {
            "text/plain": [
              "<IPython.core.display.HTML object>"
            ],
            "text/html": [
              "<iframe src=\"https://quizlet.com/817056246/learn/embed?i=psvlh&x=1jj1\" height=\"600\" width=\"100%\" style=\"border:0\"></iframe>\n"
            ]
          },
          "metadata": {}
        }
      ]
    },
    {
      "cell_type": "markdown",
      "source": [
        "## Glossary\n",
        "| **Term** | **Definition** |\n",
        "| --- | --- |\n",
        "| **Algorithm** | A step-by-step procedure for solving a problem or performing a task, often used in computer programming and mathematics. |\n",
        "| **Analog computer** | A type of computer that processes data represented by continuous physical quantities, such as voltage or mechanical movement. |\n",
        "| **Arithmetic Logic Unit (ALU)** | A component of the CPU that performs arithmetic and logical operations on the data. |\n",
        "| **Binary** | A numbering system that uses only two digits, 0 and 1, which are used internally by almost all modern computers and computer-based devices. |\n",
        "| **Byte** | A unit of digital information that consists of 8 bits, typically representing a single character of text. |\n",
        "| **Cache Memory** | A small, fast type of volatile computer memory that provides high-speed data access to the CPU, storing frequently or recently accessed data. |\n",
        "| **Central Processing Unit (CPU)** | The primary component of a computer that performs most of the processing inside a computer. It executes instructions from programs. |\n",
        "| **Computer Science** | The study of computers and computational systems, including their theory, design, development, and application. |\n",
        "| **Control Unit** | The part of the CPU that directs its operation by fetching instructions from memory, decoding them, and then executing them. |\n",
        "| **Decimal** | A base-10 numbering system that uses ten digits (0-9) and is the standard system for denoting integer and non-integer numbers. |\n",
        "| **Decode** | The process of interpreting or translating a coded message or instruction back into a readable format. In computing, it involves converting machine code into executable instructions. |\n",
        "| **Digital Computer** | A computer that processes data in binary form, using discrete values (0s and 1s) to perform calculations and store data. |\n",
        "| **Execute** | The process of running a program or a single instruction by a computer's CPU. |\n",
        "| **Fetch** | The process of retrieving an instruction or data from memory for use by the CPU. |\n",
        "| **Gigabyte** | A unit of digital information storage equal to approximately one billion bytes (1,073,741,824 bytes). |\n",
        "| **Hexadecimal** | A base-16 numbering system that uses sixteen symbols (0-9 and A-F) to represent values. Commonly used in computing as a more human-friendly representation of binary-coded values. |\n",
        "| **Interrupts** | Signals that indicate an event needing immediate attention from the CPU, temporarily halting the current instructions to address the event. |\n",
        "| **Kernel** | The core part of an operating system, managing system resources and communication between hardware and software. |\n",
        "| **Kilobyte** | A unit of digital information storage equal to approximately one thousand bytes (1,024 bytes). |\n",
        "| **Linux** | An open-source operating system based on the Unix architecture, widely used for servers, desktops, and embedded systems. |\n",
        "| **Main memory** | Also known as RAM (Random Access Memory), it stores data and programs that are currently in use by the computer. |\n",
        "| **Megabyte** | A unit of digital information storage equal to approximately one million bytes (1,048,576 bytes). |\n",
        "| **Memory Hierarchy** | An organization of different types of memory in a system, arranged by speed and cost, to optimize data processing efficiency. |\n",
        "| **Microprocessor** | An integrated circuit that contains the functions of a CPU on a single chip. |\n",
        "| **Multi-core processor** | A CPU with two or more independent cores that can run multiple instructions simultaneously, improving performance. |\n",
        "| **Non-volatile memory** | Memory that retains stored data even when the power is turned off, such as flash memory and hard drives. |\n",
        "| **Octal** | A base-8 numbering system that uses eight digits (0-7), often used in computing as a more compact representation of binary numbers. |\n",
        "| **Operating System** | Software that manages computer hardware and software resources, providing common services for computer programs. |\n",
        "| **Polling** | The process where a computer repeatedly checks the status of an input device to see if it needs attention. |\n",
        "| **Random Access Memory** | A type of volatile memory that allows data to be read or written in almost the same amount of time irrespective of the physical location of data inside the memory. |\n",
        "| **Registers** | Small, fast storage locations within the CPU that hold data and instructions temporarily during processing. |\n",
        "| **Stored program computer** | A computer that stores program instructions in memory and executes them sequentially, following the instructions. |\n",
        "| **Transistors** | Semiconductor devices used to amplify or switch electronic signals, forming the fundamental building blocks of modern electronic devices. |\n",
        "| **Volatile Memory** | Memory that requires power to maintain the stored information, such as RAM. When the power is turned off, the data is lost. |\n",
        "| **Von Neumann architecture** | A computer design model that uses a single storage structure to hold both instructions and data, allowing them to be processed sequentially by the CPU. |\n",
        "| **Word** | The standard unit of data used by a particular processor design, typically representing the number of bits processed by the CPU in one operation |"
      ],
      "metadata": {
        "id": "Jd6uicvxCcKE"
      }
    },
    {
      "cell_type": "code",
      "source": [],
      "metadata": {
        "id": "ledO4nq1OoPT"
      },
      "execution_count": null,
      "outputs": []
    }
  ]
}