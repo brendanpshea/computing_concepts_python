{
  "nbformat": 4,
  "nbformat_minor": 0,
  "metadata": {
    "colab": {
      "provenance": [],
      "authorship_tag": "ABX9TyOW9TT6pATeTIB4ViZPYZ/9",
      "include_colab_link": true
    },
    "kernelspec": {
      "name": "python3",
      "display_name": "Python 3"
    },
    "language_info": {
      "name": "python"
    }
  },
  "cells": [
    {
      "cell_type": "markdown",
      "metadata": {
        "id": "view-in-github",
        "colab_type": "text"
      },
      "source": [
        "<a href=\"https://colab.research.google.com/github/brendanpshea/computing_concepts_python/blob/main/IntroCS_01_ComputersHardware.ipynb\" target=\"_parent\"><img src=\"https://colab.research.google.com/assets/colab-badge.svg\" alt=\"Open In Colab\"/></a>"
      ]
    },
    {
      "cell_type": "markdown",
      "source": [
        "# Computers and Hardware\n",
        "### Intro to Computer Science | Brendan Shea, PhD (Brendan.Shea@rctc.edu)\n",
        "\n",
        "Welcome to the study of computer science! I'm excited you'll be joining us. These lecture notes are the \"textbook\" for the class, and should contain everything you need for homework and exams. They are always a work in progress, so please let me know if you notice any errors! - Brendan"
      ],
      "metadata": {
        "id": "iSdkrH9S_T2E"
      }
    },
    {
      "cell_type": "markdown",
      "source": [
        "## Introductory Lecture\n",
        "For each chapter, I've prepared an introductory lecture highlighting some of the main points we'll be covering. You can \"run\" the cell to launch the lecture."
      ],
      "metadata": {
        "id": "jU3H5sKTus5i"
      }
    },
    {
      "cell_type": "code",
      "source": [
        "from IPython.display import YouTubeVideo\n",
        "YouTubeVideo('aUoxeBLi0GU', width=800, height=500)"
      ],
      "metadata": {
        "id": "0wkBNwmru8vT",
        "outputId": "8a4d08e4-4932-4824-9f8c-9e4740e76b62",
        "colab": {
          "base_uri": "https://localhost:8080/",
          "height": 522
        }
      },
      "execution_count": null,
      "outputs": [
        {
          "output_type": "execute_result",
          "data": {
            "text/plain": [
              "<IPython.lib.display.YouTubeVideo at 0x7b7e2123eec0>"
            ],
            "text/html": [
              "\n",
              "        <iframe\n",
              "            width=\"800\"\n",
              "            height=\"500\"\n",
              "            src=\"https://www.youtube.com/embed/aUoxeBLi0GU\"\n",
              "            frameborder=\"0\"\n",
              "            allowfullscreen\n",
              "            \n",
              "        ></iframe>\n",
              "        "
            ],
            "image/jpeg": "[encoded data removed]"
          },
          "metadata": {},
          "execution_count": 3
        }
      ]
    },
    {
      "cell_type": "markdown",
      "source": [
        "\n",
        "## What is a Computer?\n",
        "At its most fundamental level, a **computer** is a device that can perform computations. More specifically, it can execute well-defined instructions (or **algorithms**) to manipulate, store, and retrieve data. It's crucial to understand that the term 'computer' applies to much more than the desktop or laptop device you might immediately imagine. In fact, computers come in a vast array of forms and sizes, and they're integrated into many aspects of modern life. Here are a few examples:\n",
        "\n",
        "1.  *Personal Computer (PC)--*This is the most common type of computer, which is used by individuals for a range of personal and professional tasks. It is versatile and can be used to write documents, browse the internet, play games, and do much more. Examples include desktop computers and laptops.\n",
        "\n",
        "2.  *Supercomputers--* These are extremely powerful computers used for complex tasks like climate modeling, physical simulations, and cryptanalysis. They are often used by scientific institutions and government agencies. The Summit supercomputer at Oak Ridge National Laboratory in the USA is an example.\n",
        "\n",
        "3.  *Smartphones--* Your smartphone is a powerful computer. It has a CPU, memory, storage, and runs an operating system --- all the key components of a computer. It performs computations every second, from rendering your screen display to running your apps, processing your inputs, and managing communications over wireless networks.\n",
        "\n",
        "4.  *Modern Cars--* Cars, especially those made recently, have several computers. They compute everything from engine timings, cruise control, GPS, music playback, to advanced driving assist features like autopilot.\n",
        "\n",
        "5.  *Game Consoles--* Devices like the PlayStation, Xbox, or Nintendo Switch are specialized computers designed to render graphics and compute game logic. They contain custom CPUs, GPUs, memory, and storage to optimize performance for gaming.\n",
        "\n",
        "All of the exampoles above are examples of \"von Neumann\" machines (more on this later!) that operate under the control of instructions stored in their own memory unit and can accept inputted data, process it arithmetically and logically, produce results, and store the results for future use.\n"
      ],
      "metadata": {
        "id": "Kf3Qefw-JWaM"
      }
    },
    {
      "cell_type": "markdown",
      "source": [
        "### What is Computer Science?\n",
        "Computer Science is fundamentally the study of algorithms. It's about developing methods to process, interpret, and manipulate data through computational systems. In this field, the focus is more on software and the principles behind it, rather than the hardware.\n",
        "\n",
        "1.  *Programming*---This is the process of translating algorithms into a language that computers can understand. It's like writing a detailed recipe for the computer to follow. Programming languages like Python, Java, C++, and JavaScript are the tools we use to write these instructions. They allow us to create everything from websites to video games.\n",
        "\n",
        "2.  *Algorithms and Data Structures*---Algorithms are step-by-step methods for solving problems, and data structures are ways to store and organize data. This area of computer science is about creating efficient and effective algorithms and choosing the right data structures to solve various computational problems.\n",
        "\n",
        "3.  *Computer Architecture*---This involves understanding how computers are built and how their components work together. It's important because the design of a computer affects how well our algorithms run. This area covers everything from the design of the CPU to how memory is organized.\n",
        "\n",
        "4.  *Operating Systems*---An operating system is the software that manages all the other software and hardware on a computer. Studying operating systems helps us understand how they allocate resources, manage files, and handle input/output operations, which is crucial for running our algorithms efficiently.\n",
        "\n",
        "5.  *Artificial Intelligence (AI)*---AI is about creating machines that can perform tasks that typically require human intelligence. This includes learning from data (machine learning), recognizing patterns (neural networks), and understanding human language (natural language processing). It's a rapidly growing area in computer science, driven by increasingly powerful algorithms.\n",
        "\n",
        "6.  *Networking*---This is the study of how computers communicate with each other. It covers everything from the basics of sending and receiving data over the internet to the complex protocols that keep this data secure and fast.\n",
        "\n",
        "7.  *Databases*---As we generate more data, we need efficient ways to store, retrieve, and manipulate it. Databases are systems for managing data, and computer science covers how to design them, how to retrieve data using languages like SQL, and how to ensure the data is stored efficiently.\n",
        "\n",
        "Each of these areas represents a different aspect of working with algorithms, from creating them (programming) to applying them in various contexts like AI or networking. The beauty of computer science lies in its diversity and its power to solve a wide range of problems."
      ],
      "metadata": {
        "id": "kwNiV0mzKXrt"
      }
    },
    {
      "cell_type": "markdown",
      "source": [
        "## Why Study Computer Science?\n",
        "The knowledge of computer science is immensely powerful, bringing with it a wide range of benefits and opportunities. Let's explore why learning computer science is worth your time and effort.\n",
        "\n",
        "In our modern digital age, technology influences nearly every aspect of our lives. From the smartphones we use to stay connected, the websites and applications we use for work or leisure, to the innovative technologies like artificial intelligence that are shaping our future --- all of these are products of computer science. By studying computer science, you become a creator in this digital world, not just a consumer. You gain the ability to build your own applications, solve unique problems, and even shape technology's future.\n",
        "\n",
        "For example, consider the world of mobile apps. With knowledge of computer science, you could create your own smartphone app to fill a gap in the market, or just for fun. You could design a game, create a productivity tool, or invent a new way for people to socialize digitally.\n",
        "\n",
        "In the realm of practical problem-solving, computer science is also invaluable. Businesses, governments, and organizations worldwide are heavily reliant on data to make informed decisions. With the skills learned in computer science, such as programming, data analysis, machine learning, you could make sense of complex data, unearth trends, and provide valuable insights that guide an organization's decisions.  For instance, you could apply machine learning to vast datasets to predict customer behavior, helping a business better target its marketing efforts. Or you could analyze health data to identify patterns and trends, aiding in medical research or public health policy.\n",
        "\n",
        "Furthermore, computer science drives many of the groundbreaking advancements we see today. Fields like artificial intelligence, quantum computing, and bioinformatics are heavily based on computer science. By diving into computer science, you could be part of the next big technological leap forward.  Imagine working on AI systems that could revolutionize healthcare, making accurate diagnoses faster than ever before. Or you could contribute to the development of quantum algorithms, which might solve problems beyond the reach of current computers.\n",
        "\n",
        "Finally, let's not forget the practical career benefits. Computer science skills are in high demand and are among the most highly paid in the world. Whether in tech companies, finance, healthcare, or virtually any other sector, there's a strong demand for individuals with computer science skills. By learning computer science, you're not just gaining knowledge, you're opening a door to a wide array of career opportunities.\n",
        "\n",
        "So, in a nutshell, studying computer science equips you with versatile skills that you can use to create, innovate, solve complex problems, and even shape the future. It's an exciting field with countless opportunities, so why not dive in and see where it can take you?"
      ],
      "metadata": {
        "id": "B5xQzBM8Lzo7"
      }
    },
    {
      "cell_type": "markdown",
      "source": [
        "## How Can I Speak Binary--the Language of Computers?\n",
        "**Binary**, also known as the binary number system, is a method of representing numbers using only two symbols: 0 and 1. The system is base-2, unlike our commonly used decimal system which is base-10.   In the context of computers, binary is essential because it provides a way to represent different types of data in a form that computers can process.  Here's why:\n",
        "\n",
        "1.  Computers, at their lowest level, are electronic devices made up of billions of tiny components called **transistors,** which have two states: on and off. Binary's two symbols, 0 and 1, naturally correspond to these two states. Thus, binary allows computers to physically represent and manipulate data.\n",
        "\n",
        "2.  It is *more efficient* to design electronic and digital systems that only need to distinguish between two states.\n",
        "\n",
        "3.  Binary also plays a crucial role in *error detection and correction* techniques, helping to maintain data integrity in digital storage and transmission.\n",
        "\n",
        "When you type on your keyboard, click your mouse, or touch your screen, your actions are converted into binary data that the computer can understand. Likewise, the results of computations and the data to be displayed on your screen are stored and transmitted in binary form.  For example, in ASCII, a standard character encoding widely used in computers, the letter 'A' is represented as the binary number 01000001. A JPEG image, an MP3 audio file, or a .docx Word document on your computer - they're all ultimately stored as binary data.\n",
        "\n",
        "Therefore, understanding binary is crucial to understanding how computers work at a fundamental level. All the complex operations that a computer performs, whether it's running an application, browsing the internet, or displaying a video, are ultimately broken down into binary operations that the hardware can execute.\n",
        "\n",
        "Additionally, binary is also essential in certain areas of computer science and information technology, such as networking, where data is transmitted in binary form, or in programming, especially when working close to the hardware level. This could be in fields like embedded systems programming, where understanding binary can often be crucial."
      ],
      "metadata": {
        "id": "D2jLxBuIMUXB"
      }
    },
    {
      "cell_type": "markdown",
      "source": [
        "## How Can I Translate to and From Binary?\n",
        "### Translating Decimal to Binary:\n",
        "\n",
        "To convert a decimal number to binary, you can use the method of successive division by 2. Here are the steps:\n",
        "\n",
        "1.  Divide the decimal number by 2.\n",
        "2.  Record the remainder.\n",
        "3.  Divide the quotient of the previous division by 2.\n",
        "4.  Repeat the process until the quotient is zero.\n",
        "\n",
        "The binary equivalent is obtained by reading the remainders in reverse order (from bottom to top).\n",
        "\n",
        "Example 1: Convert the decimal number 10 to binary.\n",
        "\n",
        "```\n",
        "10 / 2 = 5 Remainder 0 (least significant bit)\n",
        " 5 / 2 = 2 Remainder 1\n",
        " 2 / 2 = 1 Remainder 0\n",
        " 1 / 2 = 0 Remainder 1 (most significant bit)\n",
        "```\n",
        "\n",
        "So, 10 in decimal is 1010 in binary.\n",
        "\n",
        "Example 2: Convert the decimal number 7 to binary.\n",
        "\n",
        "```\n",
        "7 / 2 = 3 Remainder 1 (least significant bit)\n",
        "3 / 2 = 1 Remainder 1\n",
        "1 / 2 = 0 Remainder 1 (most significant bit)\n",
        "```\n",
        "\n",
        "So, 7 in decimal is 111 in binary.\n",
        "\n",
        "### Translating Binary to Decimal:\n",
        "\n",
        "To convert a binary number to decimal, we multiply each bit by 2 raised to the power of its position number, starting from 0 from the rightmost bit (least significant bit), and sum them up.\n",
        "\n",
        "Example 1: Convert the binary number 1101 to decimal.\n",
        "\n",
        "```\n",
        "1*(2^3) + 1*(2^2) + 0*(2^1) + 1*(2^0) = 8 + 4 + 0 + 1 = 13\n",
        "```\n",
        "\n",
        "So, 1101 in binary is 13 in decimal.\n",
        "\n",
        "Example 2: Convert the binary number 1001 to decimal.\n",
        "\n",
        "```\n",
        "1*(2^3) + 0*(2^2) + 0*(2^1) + 1*(2^0) = 8 + 0 + 0 + 1 = 9\n",
        "```\n",
        "\n",
        "So, 1001 in binary is 9 in decimal.\n",
        "\n",
        "Remember, in binary, each digit's place value doubles, as opposed to the decimal system where each place value increases by tenfold. Understanding the translation between these number systems is essential when studying computer science or working in related fields."
      ],
      "metadata": {
        "id": "Ng5EeWr0Nz2P"
      }
    },
    {
      "cell_type": "markdown",
      "source": [
        "## More Numbering Systems !?! Octal and Hexidecimal\n",
        "For all of its theoretical virtues, binary is difficult for humans to write down and understand (with so many 1s and 0s, we make mistakes!). For this reason, computer scientists often express numbers as *octal* or *hexidecimal* numbers:\n",
        "\n",
        "- **Octal (Base-8):** The octal number system uses digits from 0-7. It's sometimes used in computer science because it's relatively straightforward to convert between octal and binary. Every octal digit corresponds exactly to three binary digits. While less commonly used today, it's still seen in certain systems like Unix-style file permissions.\n",
        "\n",
        "- **Hexadecimal (Base-16):** The hexadecimal system uses 16 distinct symbols to represent numbers. The symbols 0-9 represent the values 0-9, and the letters A-F (or a-f) represent the values 10-15. Hexadecimal is commonly used in programming and for memory addressing because it's very compact and easy to convert to and from binary. Each hexadecimal digit represents exactly four binary digits, which makes translation between the two systems simple.\n",
        "\n",
        "\n",
        "| Decimal | Binary | Octal | Hexadecimal |\n",
        "| --- | --- | --- | --- |\n",
        "| 0 | 0000 | 0 | 0 |\n",
        "| 1 | 0001 | 1 | 1 |\n",
        "| 2 | 0010 | 2 | 2 |\n",
        "| 3 | 0011 | 3 | 3 |\n",
        "| 4 | 0100 | 4 | 4 |\n",
        "| 5 | 0101 | 5 | 5 |\n",
        "| 6 | 0110 | 6 | 6 |\n",
        "| 7 | 0111 | 7 | 7 |\n",
        "| 8 | 1000 | 10 | 8 |\n",
        "| 9 | 1001 | 11 | 9 |\n",
        "| 10 | 1010 | 12 | A |\n",
        "| 11 | 1011 | 13 | B |\n",
        "| 12 | 1100 | 14 | C |\n",
        "| 13 | 1101 | 15 | D |\n",
        "| 14 | 1110 | 16 | E |\n",
        "| 15 | 1111 | 17 | F |\n",
        "| 16 | 10000 | 20 | 10 |\n",
        "\n",
        "If you inspect this table, you'll notice that (1) hexidecimal never goes \"beyond\" the digit 7, and (2) hexidecimal using letters A-F to represent digits \"beyond\" 0-9."
      ],
      "metadata": {
        "id": "3llJbfOWPc7q"
      }
    },
    {
      "cell_type": "markdown",
      "source": [
        "## A Simple Program\n",
        "Below, you'll find a simple \"Python\" program that will (1) ask the user to input an integer, and (2) print out the binary, octal, and hexidecimal equivalents. You can hit the \"play\" button (or Ctrl-Enter) to run the \"code\" cells below. Don't worry if you don't understand how this works yet (we'll be learning about this throughout the semester!)."
      ],
      "metadata": {
        "id": "Qix7ab65ROFQ"
      }
    },
    {
      "cell_type": "code",
      "source": [
        "# Run this cell to define a \"function\".\n",
        "# It won't do anything until we \"call\" it below\n",
        "\n",
        "def convert_to_other_bases(number):\n",
        "  \"\"\"Converts a number to binary, octal, and hexadecimal.\n",
        "\n",
        "  Args:\n",
        "    number: The number to convert.\n",
        "\n",
        "  Returns:\n",
        "    A tuple of the number in binary, octal, and hexadecimal.\n",
        "  \"\"\"\n",
        "\n",
        "  binary = bin(number)[2:]\n",
        "  octal = oct(number)[2:]\n",
        "  hexadecimal = hex(number)[2:]\n",
        "\n",
        "  return binary, octal, hexadecimal"
      ],
      "metadata": {
        "id": "dIi0H3I5Ly5K"
      },
      "execution_count": null,
      "outputs": []
    },
    {
      "cell_type": "code",
      "execution_count": null,
      "metadata": {
        "colab": {
          "base_uri": "https://localhost:8080/"
        },
        "id": "wZsAjLkHJQhO",
        "outputId": "b20e6987-a8fd-4add-d5de-e8e7ef44873f"
      },
      "outputs": [
        {
          "output_type": "stream",
          "name": "stdout",
          "text": [
            "Enter a number: 521\n",
            "The number 521 is: \n",
            "In binary: 1000001001 \n",
            "In octal: 1011 \n",
            "In hexadecimal: 209\n"
          ]
        }
      ],
      "source": [
        "# Once we've defined the function, we can use it!\n",
        "number = int(input(\"Enter a number: \"))\n",
        "\n",
        "binary, octal, hexadecimal = convert_to_other_bases(number)\n",
        "\n",
        "print(\"The number {} is: \\n\"\n",
        "        \"In binary: {} \\n\"\n",
        "        \"In octal: {} \\n\"\n",
        "        \"In hexadecimal: {}\".format(number, binary, octal, hexadecimal))"
      ]
    },
    {
      "cell_type": "markdown",
      "source": [
        "### Questions: Computer Basics\n",
        "\n",
        "Please answer the following questions.\n",
        "\n",
        "1.  What motivated you to study computer science? Name a problem or challenge that you hope to address with your knowledge of computer science.\n",
        "\n",
        "2.  What does it mean for a computer to use binary? Why do you think computers use binary instead of decimal? (And why do humans use decimal?)\n",
        "\n",
        "3.  List three different types of computers you interact with on a daily basis. For each, identify the input and output devices and describe their functions. How are they similar to one another? Different from one another?\n"
      ],
      "metadata": {
        "id": "Y0Y5RcWcH2UZ"
      }
    },
    {
      "cell_type": "markdown",
      "source": [
        "## Answrs: Computer Basics\n",
        "\n",
        "1.\n",
        "\n",
        "2.\n",
        "\n",
        "3."
      ],
      "metadata": {
        "id": "feyeZ6i8H7cY"
      }
    },
    {
      "cell_type": "markdown",
      "source": [
        "## What are the Components of Computers?\n",
        "Modern computers are examples of **von Neumann architecture**, also known as a **stored-program computers** This architecture was first described by the mathematician and physicist John von Neumann in 1945. It's characterized by the idea that a computer's program (the instructions for the computer) and the data it processes can be stored in the computer's memory. This was a revolutionary idea because it meant that a computer could be reprogrammed without changing its physical wiring.\n",
        "\n",
        "The von Neumann architecture mainly consists of three components: the Central Processing Unit (CPU), Main Memory, and Input/Output (I/O) systems.\n",
        "\n",
        "### CPU\n",
        "The **CPU (Central Processing Unit)**is the core of a computer's functionality, often likened to the brain of the computer. It consists of two key parts: the **Arithmetic Logic Unit (ALU)** and the **Control Unit.**\n",
        "\n",
        "- The ALU is responsible for performing all arithmetic and logical operations. This includes basic calculations like addition and subtraction, as well as more complex operations like comparisons. In the early days of computing, ALUs were relatively simple and could perform a limited range of operations. Over time, they have become incredibly sophisticated, capable of handling complex mathematical functions essential for graphics processing, scientific simulations, and more.\n",
        "\n",
        "- The Control Unit acts as a conductor, directing the flow of data within the CPU, and between the CPU and other components of the computer. It interprets the instructions from the memory and tells the ALU what operation to perform. The evolution of control units has been marked by a transition from simple, manual switches to sophisticated, microprogrammed units that can handle millions of instructions per second.\n",
        "\n",
        "| Year Range | CPU Characteristics | Notable Developments |\n",
        "| --- | --- | --- |\n",
        "| 1940s - 1950s | Vacuum tubes, very large, slow processing speed | First generation, speeds measured in milliseconds |\n",
        "| 1960s | Transistors, smaller size, increased reliability | Second generation, speeds improved to microseconds |\n",
        "| 1970s | Integrated circuits, microprocessors | Third generation, speeds in nanoseconds, first CPUs in MHz range |\n",
        "| 1980s | Increased miniaturization, rise of personal computers | Fourth generation, up to 33 MHz (Intel 80386) |\n",
        "| 1990s | Higher clock speeds, introduction of multi-core processors | Speeds reached several hundred MHz to GHz |\n",
        "| 2000s - Present | Multi-core, hyper-threading, energy efficiency | Multi-GHz processors, multi-core for parallel processing |\n",
        "\n",
        "\n",
        "The evolution of Central Processing Units (CPUs) over the decades mirrors the broader narrative of technological advancement, characterized by miniaturization, increased efficiency, and a relentless pursuit of speed. This journey, from the bulky vacuum tubes of the 1940s to the sleek multi-core processors of the 21st century, is a testament to human ingenuity and the inexorable march of progress.\n",
        "\n",
        "In the 1940s and 1950s, the nascent field of computing was dominated by the first generation of CPUs. These behemoths were built with vacuum tubes, occupying entire rooms and generating substantial heat. Their processing speed was modest, operating in the realm of milliseconds. This era was marked by pioneering efforts, laying the groundwork for all subsequent developments in computing.\n",
        "\n",
        "The 1960s heralded the second generation of CPUs, characterized by the transition to transistors. This shift marked a significant leap in terms of size, reliability, and processing speed. Transistors, being smaller and more reliable than vacuum tubes, allowed for the construction of more compact and efficient computers. Processing speeds in this era improved to microseconds, a notable enhancement from the previous generation.\n",
        "\n",
        "The 1970s saw the advent of the third generation of CPUs, with the introduction of integrated circuits and microprocessors. This period was defined by the integration of numerous transistors into single silicon chips, known as integrated circuits. The birth of the microprocessor, a complete CPU on a single chip, was a landmark development. Processing speeds reached nanoseconds, and for the first time, CPUs operated in the MHz range.\n",
        "\n",
        "In the 1980s, the fourth generation of CPUs emerged, characterized by further miniaturization and the rise of personal computers. This era saw CPUs reaching up to 33 MHz, as exemplified by the Intel 80386. The increased miniaturization allowed for the proliferation of personal computers, making computing accessible to the masses and not just limited to large organizations.\n",
        "\n",
        "The 1990s were marked by a significant increase in clock speeds and the introduction of multi-core processors. CPU speeds escalated from several hundred MHz to GHz, a testament to the rapid advancements in semiconductor technology. The introduction of multi-core processors, where multiple processor cores are integrated on a single chip, marked a paradigm shift in CPU design, enhancing the ability to perform parallel processing and multitasking.\n",
        "\n",
        "From the 2000s to the present, CPUs have continued to evolve, with a focus on multi-core designs, hyper-threading, and energy efficiency. Modern processors operate at multi-GHz speeds and are equipped with multiple cores, enabling efficient parallel processing. The emphasis on energy efficiency reflects a growing awareness of environmental concerns and the need for sustainable technological practices."
      ],
      "metadata": {
        "id": "sV9dkLdtTFh9"
      }
    },
    {
      "cell_type": "markdown",
      "source": [
        "### Main Memory\n",
        "**Main memory**, often referred to as **RAM (Random Access Memory)**, is where the computer stores data and programs while they are being used. In the context of von Neumann architecture, RAM is crucial because it holds both the instructions for the CPU and the data those instructions work with. Early computers used magnetic drums as memory, which were slow and had limited capacity. Modern RAM is exponentially faster and can store a vast amount of data, allowing for the multitasking and complex operations we see in current computers.\n",
        "\n",
        "\n",
        "| Year Range | Memory Type | Notable Developments |\n",
        "| --- | --- | --- |\n",
        "| 1940s - 1950s | Magnetic drums, delay line memory | Few KB capacity, used in early computers |\n",
        "| 1960s | Magnetic core memory | Tens of KB capacity, became standard |\n",
        "| 1970s | Semiconductor memory | Introduction of RAM, DRAM, capacities reaching hundreds of KB to MB |\n",
        "| 1980s | Increased capacity and speed of RAM | MB range, faster access times |\n",
        "| 1990s | SDRAM (Synchronous DRAM) | Capacities in the low GB range, higher bandwidth |\n",
        "| 2000s - Present | DDR SDRAM (Double Data Rate) | Capacities now in tens to hundreds of GB, faster speeds, lower power |\n",
        "\n",
        "The evolution of computer memory over the decades is a narrative of relentless pursuit of higher capacity, speed, and efficiency. This journey, from the primitive magnetic drums of the 1940s to the sophisticated DDR SDRAM of the 21st century, mirrors the broader trajectory of computing technology.\n",
        "\n",
        "In the 1940s and 1950s, the earliest computers relied on magnetic drums and delay line memory for storage. These memory types were characterized by their limited capacity, often only a few kilobytes. Magnetic drums, which stored data on the surface of a rotating cylinder, and delay line memory, which used sound waves in a medium such as mercury, were foundational in the development of computer memory but were limited in speed and capacity.\n",
        "\n",
        "The 1960s marked the era of magnetic core memory, a significant advancement in memory technology. Magnetic core memory used tiny magnetic rings, threaded with wires, to store data. This technology allowed for memory capacities in the tens of kilobytes, a considerable improvement over its predecessors. Magnetic core memory became the standard for its time, known for its reliability and relatively high speed.\n",
        "\n",
        "The 1970s witnessed a revolutionary change with the introduction of semiconductor memory. This period saw the advent of Random Access Memory (RAM) and Dynamic RAM (DRAM), which used semiconductor-based transistors to store data. Memory capacities leaped from hundreds of kilobytes to megabytes. The semiconductor memory was faster, smaller, and more energy-efficient than magnetic core memory, marking a significant technological leap.\n",
        "\n",
        "In the 1980s, there was a continued increase in the capacity and speed of RAM. Memory capacities reached the megabyte (MB) range, with significantly faster access times. This improvement in memory technology was crucial in supporting the increasing complexity of software and the growing demand for more efficient data processing.\n",
        "\n",
        "The 1990s introduced SDRAM (Synchronous DRAM), which synchronized with the computer's system bus. This alignment allowed for higher bandwidth and more efficient data handling. Memory capacities expanded into the low gigabyte (GB) range during this period. SDRAM was a key development in memory technology, enabling faster and more reliable computing.\n",
        "\n",
        "From the 2000s to the present, the dominant memory technology has been DDR SDRAM (Double Data Rate Synchronous DRAM). DDR memory transfers data on both the rising and falling edges of the clock signal, effectively doubling the data rate. Modern DDR SDRAM offers capacities ranging from tens to hundreds of gigabytes, with faster speeds and lower power consumption. This advancement in memory technology has been instrumental in supporting the exponential growth in data processing and storage needs of contemporary computing applications.\n"
      ],
      "metadata": {
        "id": "otJ2xIKfbc0H"
      }
    },
    {
      "cell_type": "markdown",
      "source": [
        "### Input/Output\n",
        "**Input/Output (I/O) Systems** are the conduits for data to enter and leave the computer. They have evolved significantly since 1945.\n",
        "\n",
        "-   Initially, input was done through punch cards and similar rudimentary devices. Today, we have a plethora of input devices like keyboards, mice, touchscreens, and voice recognition systems, allowing for more natural and varied ways of interacting with computers.\n",
        "\n",
        "-   Output devices have evolved from simple lights and printouts to sophisticated monitors capable of displaying millions of colors, and speakers that produce high-fidelity sound.\n",
        "\n",
        "-   While not always included in the classic von Neumann model, **long-term storage** is a crucial aspect of modern computing. Early computers had no permanent storage and relied on external media like punch cards. Now, we have hard drives, solid-state drives, and cloud storage, which allow us to store vast amounts of data permanently and access it rapidly.\n",
        "\n",
        "| Year Range | I/O and Storage Type | Notable Developments |\n",
        "| --- | --- | --- |\n",
        "| 1940s - 1950s | Punch cards, Magnetic tape, Basic Monitors | Basic I/O methods, storage in KB range, rudimentary visual output |\n",
        "| 1960s | Magnetic disks, Keyboards | Introduction of HDDs, storage in MB range, standardization of keyboards |\n",
        "| 1970s | Floppy disks, CRT Monitors | Portable storage, capacities in low MB range, widespread use of CRT monitors |\n",
        "| 1980s | Optical storage (CDs), GUI, Mouse | Up to 700 MB per CD, Graphical User Interfaces (GUIs), introduction of mouse |\n",
        "| 1990s | USB, Flash drives, LCD Monitors, Touchscreens | Flash drives in MB to low GB range, USB 1.0/2.0, transition to LCD monitors, early touchscreens |\n",
        "| 2000s - Present | SSDs, Cloud storage, Advanced Touchscreens | SSDs in GB to TB range, high-speed data access, cloud storage, sophisticated touchscreens |\n",
        "\n",
        "\n",
        "The 1940s and 1950s marked the dawn of computing, with punch cards and magnetic tape serving as primary storage and I/O methods. These were complemented by basic monitors, which provided rudimentary visual output. This era laid the foundation for future developments in computing interfaces.\n",
        "\n",
        "In the 1960s, the introduction of **magnetic hard disk drives (HDDs)** revolutionized storage, offering capacities in the MB range. This decade also saw the standardization of keyboards, which became an essential input device for computers, allowing for more efficient data entry and interaction.\n",
        "\n",
        "The 1970s witnessed the advent of floppy disks, offering portable storage in the low MB range. This era also saw the widespread adoption of Cathode Ray Tube (CRT) monitors, which became the standard for visual output, offering better display quality and larger screen sizes.\n",
        "\n",
        "The 1980s were characterized by the introduction of optical storage media like CDs, significantly increasing storage capacity. This period also marked the rise of **Graphical User Interfaces (GUIs)** and the introduction of the mouse as an input device, revolutionizing the way users interacted with computers.\n",
        "\n",
        "In the 1990s, the development of USB and flash drives provided portable, high-capacity storage solutions. This decade also saw a transition to Liquid Crystal Display (LCD) monitors, offering clearer and more energy-efficient displays. Additionally, the 1990s introduced early touchscreens, adding a new dimension to user interaction.\n",
        "\n",
        "From the 2000s to the present, **Solid State Drives (SSDs)** and cloud storage have dominated storage technology, offering high-speed access and massive capacities. In terms of I/O, this era has seen the refinement of touchscreen technology, making it more responsive and versatile. These advancements have significantly enhanced the user experience, making computing more intuitive and accessible."
      ],
      "metadata": {
        "id": "cjlRhdeJcMXK"
      }
    },
    {
      "cell_type": "markdown",
      "source": [
        "## How Do Computers \"Think\"? CPUs and Fetch-Decode-Execute\n",
        "The central processing unit (CPU), often referred to as the \"brain\" of the computer, is where most calculations take place. It's responsible for executing the instructions of a computer program. The fundamental operation of most CPUs, regardless of the physical form they take, is to execute a sequence of stored instructions called a program. This process is completed using a cycle known as the fetch-decode-execute cycle, and it's the cornerstone of how CPUs work.\n",
        "\n",
        "Let's break this down into simpler terms:\n",
        "\n",
        "1.  **Fetch.** This is the first step of the cycle. Here, the CPU fetches the instruction from its memory. Every instruction is stored in a specific numbered location in memory, and the CPU keeps track of these numbers using a special counter called the Program Counter (PC). The PC gives the CPU the address of the next instruction to fetch. After fetching an instruction, the PC automatically increments to point to the next instruction.\n",
        "\n",
        "2.  **Decode.** After fetching the instruction, the CPU needs to understand what that instruction means. That's what happens in this step. The instruction is broken down or 'decoded' into a command that the CPU can understand. The Control Unit (CU) is responsible for this. The CU is essentially the \"manager\" of the CPU, coordinating and controlling the actions of the other hardware components.\n",
        "\n",
        "3.  **Execute.** Once the CPU understands the instruction, it's time to carry it out. This might mean performing some sort of computation, like addition or subtraction, or it might involve a different sort of operation, like moving data from one memory location to another. The Arithmetic Logic Unit (ALU) comes into play here. The ALU is where the CPU performs operations like addition, subtraction, multiplication, and division. It can also perform logical operations, such as AND, OR and NOT operations.\n",
        "\n",
        "For example, let's say we have an instruction in memory that tells the CPU to add two numbers together. The CPU fetches this instruction from memory, which means it reads the instruction from the location given by the PC.   Next, it decodes the instruction, breaking it down to understand that it's being asked to perform an addition operation. It also identifies the numbers that are to be added. Finally, the CPU executes the instruction, adding the numbers together in the ALU. The result is then stored in a register or memory for later use.\n",
        "\n",
        "This fetch-decode-execute cycle is the basis of all operations performed by a CPU, whether simple or complex. By fetching, decoding, and executing instructions, the CPU is able to run all the software on a computer, from the operating system to video games and web browsers."
      ],
      "metadata": {
        "id": "AAdkMiqqX41j"
      }
    },
    {
      "cell_type": "markdown",
      "source": [
        "![image.png](data:image/png;base64,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)"
      ],
      "metadata": {
        "id": "NruiRwZ3hDhR"
      }
    },
    {
      "cell_type": "markdown",
      "source": [
        "### Operating Systems\n",
        "\n",
        "An **Operating System (OS)** is the fundamental software that manages a computer's hardware and provides a platform for applications. It acts as an intermediary between the user and the computer hardware, managing resources and facilitating user interaction. The OS consists of several key components: the Kernel, User Interface (UI), and System Utilities.\n",
        "\n",
        "The **Kernel** is the core of the OS, responsible for managing the system's resources, such as the CPU, memory, and I/O devices. It handles tasks like memory allocation, process scheduling, and device control. In the early days, kernels were simple and had limited functionality. Over time, they have evolved to become more efficient and robust, capable of managing complex, multi-user, and multi-tasking environments.\n",
        "\n",
        "The User Interface allows users to interact with the computer. Initially, this was done through **command-line interfaces (CLI)**, where users typed commands. With technological advancements, **Graphical User Interfaces (GUIs)** became prevalent, offering a more intuitive and user-friendly way to interact with computers through visual elements like windows, icons, and menus.\n",
        "\n",
        "**System Utilities** are programs that provide additional functionality to the OS, such as file management, system monitoring, and security. These utilities have evolved to offer more sophisticated and user-friendly tools, enhancing the overall user experience and system performance.\n",
        "\n",
        "| Year Range | Operating System Characteristics | Notable Developments |\n",
        "| --- | --- | --- |\n",
        "| 1940s - 1950s | Batch processing, limited user interaction | Early OS designs, focused on efficient resource utilization |\n",
        "| 1960s | Multi-programming, time-sharing | Introduction of time-sharing systems, allowing multiple users simultaneously |\n",
        "| 1970s | Personal computer OS, GUI introduction | Development of OS for personal computers, early GUIs (e.g., Xerox PARC's Alto) |\n",
        "| 1980s | Widespread adoption of GUIs, network support | Microsoft Windows and Apple Macintosh popularize GUIs, introduction of networking capabilities |\n",
        "| 1990s | Internet integration, enhanced UI and multitasking | OSes integrate internet capabilities, improved multitasking, user-friendly interfaces (e.g., Windows 95) |\n",
        "| 2000s - Present | Mobile OS, cloud integration, security focus | Emergence of mobile operating systems (iOS, Android), cloud computing integration, enhanced security features |\n",
        "\n",
        "The evolution of Operating Systems over the decades is a narrative of continuous adaptation and innovation, paralleling the advancements in hardware technology. In the 1940s and 1950s, the concept of an operating system was rudimentary, with early computers using batch processing systems where jobs were executed one after another without direct user interaction.\n",
        "\n",
        "The 1960s introduced multi-programming and time-sharing systems, which allowed multiple users to interact with the computer simultaneously. This era marked a significant shift towards more interactive and efficient use of computing resources.\n",
        "\n",
        "In the 1970s, with the advent of personal computers, operating systems became more user-centric. This period saw the development of OS specifically designed for personal computers, with early versions of graphical user interfaces making their debut, as seen in systems like Xerox PARC's Alto.\n",
        "\n",
        "The 1980s were characterized by the widespread adoption of graphical user interfaces, making computers more accessible to the general public. This era also saw the introduction of networking capabilities in operating systems, allowing computers to connect and communicate with each other.\n",
        "\n",
        "The 1990s witnessed the integration of internet capabilities into operating systems, a significant milestone that transformed how computers were used. This decade also saw improvements in multitasking capabilities and more user-friendly interfaces, as exemplified by Windows 95.\n",
        "\n",
        "From the 2000s to the present, the focus has shifted to mobile operating systems, cloud computing integration, and enhanced security features. Mobile OS like iOS and Android have become ubiquitous, reflecting the shift towards mobile computing. Cloud integration has enabled seamless access to data and applications across multiple devices, while security has become a paramount concern in the face of increasing cyber threats."
      ],
      "metadata": {
        "id": "FSuNR0t3rnwh"
      }
    },
    {
      "cell_type": "markdown",
      "source": [
        "## How Can Computers Communicate? The Mysteries of Input and Output\n",
        "Input and output (often referred to as I/O) are fundamental concepts in computer science. They refer to how a computer receives information (input) and then transmits it (output).  Input could come from a variety of sources, like a keyboard, mouse, microphone, or a different computer, while output could be sent to a screen, speaker, printer, or elsewhere.\n",
        "\n",
        "Let's start with an example of **input.** When you press a key on your keyboard, you're providing input to your computer. The keyboard sends a signal to the computer that a key was pressed and identifies which one. This data is then processed by the computer, maybe resulting in a character appearing on your screen, which is an output.\n",
        "\n",
        "For **output**, consider what happens when you click \"print\" in a word processor. The program sends the text data and formatting instructions (the input) to the computer's printer driver. The printer driver then translates this into a language that the printer can understand (the output), and sends this data to the printer. The printer prints your document based on this data, which is another form of output.\n",
        "\n",
        "### Interrupts and Polling\n",
        "\n",
        "Input and output can occur in several ways, two of the most common are through interrupts and polling.\n",
        "\n",
        "**Interrupts** are signals sent to the CPU that an event occurred that needs immediate attention. When the CPU receives an interrupt, it suspends its current operations, saves its state, and begins executing the interrupt handler, a routine that is specifically set up to deal with the particular interrupt. Once the interrupt handler finishes, the CPU resumes its previous tasks.\n",
        "\n",
        "For instance, when you move your mouse, the mouse sends an interrupt signal to the CPU. The CPU then interrupts what it was doing to execute the interrupt handler for the mouse input, which might result in moving the cursor on your screen. This happens so quickly that it appears seamless to the user.\n",
        "\n",
        "**Polling** is another method for handling input and output. Instead of waiting for an interrupt signal, the CPU (or another device) continuously checks (or polls) the status of a device to see if it needs servicing - i.e., if there's any new data or if it's ready to receive data.\n",
        "\n",
        "For example, a program might continuously poll a network port to see if there's any new data to read. Once it detects new data, it reads it and processes it. Unlike interrupts, polling is often used when the timing of the input or output operation is not as critical, as polling can use more CPU resources since it's continuously checking the status of a device.\n"
      ],
      "metadata": {
        "id": "JQwY5aRLamCZ"
      }
    },
    {
      "cell_type": "markdown",
      "source": [
        "## What Computer am I Running?\n",
        "These lecture notes are written as a **Jupyter** notebook, which combines **Python** and **Linux** commands with text cells. You are likely running this on **Google Colab** which is a cloud-based environment provided by Google. Here, we're going to write a simple Python function to find out more about the \"virtual machine\" that Google has provided us with.\n"
      ],
      "metadata": {
        "id": "WEdU9gUaroSW"
      }
    },
    {
      "cell_type": "code",
      "source": [
        "# CPU Information\n",
        "print(\"\\nGetting CPU Information...\")\n",
        "!echo -e \"CPU Model:\\n$(lscpu | grep 'Model name')\"\n",
        "!echo -e \"\\nNumber of CPUs:\\n$(lscpu | grep 'CPU(s):')\"\n",
        "\n",
        "# Memory Information\n",
        "print(\"\\n\\nGetting Memory Information...\")\n",
        "!free -h\n",
        "\n",
        "# Disk Information\n",
        "print(\"\\n\\nGetting Disk Information...\")\n",
        "!df -h --output=source,fstype,size,used,avail\n",
        "!echo -e \"\\nStorage Type:\\n$(lsblk -d -o name,rota)\"\n",
        "\n",
        "# Linux version\n",
        "print(\"\\n\\nGetting Linux Version Information...\")\n",
        "!uname -a\n",
        "!lsb_release -a\n",
        "\n"
      ],
      "metadata": {
        "colab": {
          "base_uri": "https://localhost:8080/"
        },
        "id": "gGkKmzs5rnv8",
        "outputId": "c47e9454-9baf-4159-d1d7-676e0664e717"
      },
      "execution_count": null,
      "outputs": [
        {
          "output_type": "stream",
          "name": "stdout",
          "text": [
            "\n",
            "Getting CPU Information...\n",
            "CPU Model:\n",
            "Model name:                      Intel(R) Xeon(R) CPU @ 2.20GHz\n",
            "\n",
            "Number of CPUs:\n",
            "CPU(s):                          2\n",
            "NUMA node0 CPU(s):               0,1\n",
            "\n",
            "\n",
            "Getting Memory Information...\n",
            "              total        used        free      shared  buff/cache   available\n",
            "Mem:           12Gi       641Mi       8.8Gi       1.0Mi       3.3Gi        11Gi\n",
            "Swap:            0B          0B          0B\n",
            "\n",
            "\n",
            "Getting Disk Information...\n",
            "Filesystem     Type     Size  Used Avail\n",
            "overlay        overlay  108G   24G   85G\n",
            "tmpfs          tmpfs     64M     0   64M\n",
            "shm            tmpfs    5.8G     0  5.8G\n",
            "/dev/root      ext2     2.0G 1005M  952M\n",
            "tmpfs          tmpfs    6.4G  368K  6.4G\n",
            "/dev/sda1      ext4      68G   40G   29G\n",
            "tmpfs          tmpfs    6.4G     0  6.4G\n",
            "tmpfs          tmpfs    6.4G     0  6.4G\n",
            "tmpfs          tmpfs    6.4G     0  6.4G\n",
            "\n",
            "Storage Type:\n",
            "NAME  ROTA\n",
            "loop0    0\n",
            "sda      0\n",
            "\n",
            "\n",
            "Getting Linux Version Information...\n",
            "Linux 196509e210cf 5.15.107+ #1 SMP Sat Apr 29 09:15:28 UTC 2023 x86_64 x86_64 x86_64 GNU/Linux\n",
            "No LSB modules are available.\n",
            "Distributor ID:\tUbuntu\n",
            "Description:\tUbuntu 20.04.5 LTS\n",
            "Release:\t20.04\n",
            "Codename:\tfocal\n"
          ]
        }
      ]
    },
    {
      "cell_type": "markdown",
      "source": [
        "## How a Computer Works: Three Case Studies\n",
        "To get a more concrete sense of how a computer \"works,\" we're going to take a closer look at three very different types of computers."
      ],
      "metadata": {
        "id": "tlq5kOhL5oK1"
      }
    },
    {
      "cell_type": "markdown",
      "source": [
        "### Case 1: Playing DuoLingo on a Smartphone\n",
        "First, let's consider a user who wants to play DuoLingo (a language learning applicaiton) on their smartphone.\n",
        "\n",
        "1.  Start-Up: When you first turn on your smartphone, the processor (CPU) executes the startup routine stored in the Read-Only Memory (ROM). The operating system, such as Android or iOS, is loaded into the Random Access Memory (RAM) from the internal storage (SSD or flash memory).\n",
        "\n",
        "2.  App Launch: When you tap the Duolingo icon on your screen, the CPU receives an interrupt signal from the touch screen controller. This interrupt is a prompt for the CPU to stop its current process and respond to this new task. The CPU fetches the binary code of the Duolingo app from the internal storage into RAM.\n",
        "\n",
        "3.  CPU and RAM Interaction: As you interact with Duolingo, the CPU fetches, decodes, and executes instructions stored in RAM. These instructions might include processing your input, loading new data, and generating the app's output.\n",
        "\n",
        "4.  Input Processing: Let's say you're doing a French lesson and you tap on an answer option. The capacitive touch screen senses this touch and sends an electronic signal to the CPU via an I/O controller. The CPU interrupts its current task, fetches the data associated with your touch (the specific location on the screen you tapped), and processes it.\n",
        "\n",
        "5.  App Processing: Once the CPU knows which answer you've selected, it processes this information in conjunction with the Duolingo app's instructions in RAM. For instance, it might compare your selected answer to the correct one, decide if it's right or wrong, and then generate the appropriate response.\n",
        "\n",
        "6.  Graphics and Sound Output: The CPU sends signals to output devices to create a response to your input. For example, it might send a signal to the graphics processing unit (GPU) to display a checkmark (indicating a correct answer) or a cross (for an incorrect answer) on the screen. It could also send a signal to the sound controller to play a sound corresponding to a correct or incorrect answer.\n",
        "\n",
        "7.  Network Communication: If you're connected to the internet, your progress will be uploaded to Duolingo's servers. The CPU sends this data to the network card (an I/O device), which converts it into a format suitable for transmission over a network and sends it to Duolingo's servers.\n",
        "\n",
        "8.  App Closure and Data Storage: When you close the Duolingo app, the CPU oversees the process of saving your progress to the phone's internal storage. This allows you to return to your lesson where you left off the next time you open the app.\n",
        "\n",
        "So, using an app like Duolingo on a smartphone involves numerous components of the device, including the CPU, RAM, internal storage, I/O controllers and devices (like the touch screen and network card), and output devices (like the screen and speakers). Each of these components plays a critical role in ensuring that you can interact with the app smoothly and effectively."
      ],
      "metadata": {
        "id": "Jf6ypmGr53xV"
      }
    },
    {
      "cell_type": "markdown",
      "source": [
        "### Case 2: Playing Mario Kart on the Switch\n",
        "Now, let's see how the different components of a Nintendo Switch work together when playing a game like Mario Kart:\n",
        "\n",
        "1.  Console Boot-Up: When you power on your Nintendo Switch, the Central Processing Unit (CPU), or the \"brain\" of the Switch, fetches the startup instructions from the internal storage (flash memory) and executes them. This process loads the operating system into the Random Access Memory (RAM), bringing the system to life.\n",
        "\n",
        "2.  Game Launch: When you select Mario Kart from the menu, the CPU fetches the game data from the cartridge or the internal/external storage (if digitally downloaded) and loads it into RAM.\n",
        "\n",
        "3.  Input Processing: As you press buttons or tilt the Joy-Con controllers, their built-in sensors detect these actions and generate electronic signals. These signals are sent to the CPU, which interrupts its current task to process this new data. For example, if you press the \"A\" button to accelerate your kart, the Joy-Con sends a specific signal to the CPU. The CPU then interprets this signal based on the context provided by the game code, understanding it as a command to increase your kart's speed.\n",
        "\n",
        "4.  Game Processing: The CPU continuously fetches, decodes, and executes instructions from the game code stored in RAM. It manages all aspects of the game, including physics, AI of non-player characters, and game rules. For instance, if you collect a power-up, the CPU processes this event and determines the new abilities of your kart.\n",
        "\n",
        "5.  Graphics and Sound: The CPU works closely with the Graphics Processing Unit (GPU) to render the game world in real time. It calculates what should be displayed based on the game state and your actions, and the GPU translates these calculations into visual output on the screen. For sound, the CPU processes audio instructions (like the sounds of karts, power-ups, and background music) and sends them to the audio hardware.\n",
        "\n",
        "6.  Networking: If you're playing online, the CPU communicates with the Switch's networking hardware to send and receive data. For example, it sends data about your kart's position and actions to the game server, and receives data about other players.\n",
        "\n",
        "7.  Data Storage: If you finish a race or achieve a new high score, the CPU will save this data to the internal storage. This allows your progress to be retained even when the console is turned off.\n",
        "\n",
        "Just as with DuoLingo, playing a game like Mario Kart on a Nintendo Switch involves the integrated work of many different components. The CPU, as the control center, is especially crucial, as it manages both the input from the player and the output of the game, as well as communication with game servers when playing online."
      ],
      "metadata": {
        "id": "iwYhT1EE6p91"
      }
    },
    {
      "cell_type": "markdown",
      "source": [
        "### Case 3: Driving a Tesla\n",
        "Finally, let's discuss how the various components of a Tesla work together when you drive the car:\n",
        "\n",
        "1.  Start-Up: When you approach your Tesla with the key fob or your smartphone (with the Tesla app installed), the car's sensors detect the key's proximity and automatically unlock the vehicle. The car's onboard computer, often referred to as the \"Vehicle Control Unit\" (VCU), boots up, loading the car's operating system into memory, much like a computer.\n",
        "\n",
        "2.  Input Processing: As you interact with the car, your inputs are processed by the VCU. For example, when you press the accelerator, a sensor in the pedal converts the mechanical action into an electrical signal, which is sent to the VCU. The VCU interprets this signal as a command to increase the car's speed.\n",
        "\n",
        "3.  Motor and Battery Management: The VCU sends instructions to the motor controller, which regulates the electric current from the battery to the motor, controlling the torque produced by the motor and thus the car's speed. The VCU also continuously monitors the battery's state to ensure efficient energy use.\n",
        "\n",
        "4.  Display and Sound: The VCU sends data to the car's display to provide real-time feedback about the vehicle, such as speed, battery level, and navigation instructions. The VCU also controls the car's sound system, playing music, navigation voice prompts, or system alerts as necessary.\n",
        "\n",
        "5.  Sensor Data Processing: Modern Teslas are equipped with numerous sensors, including cameras, radar, ultrasonic sensors, and accelerometers. These sensors constantly send data to the VCU. For example, if you're using Autopilot, the VCU uses this sensor data to create a detailed model of the car's surroundings and make driving decisions.\n",
        "\n",
        "6.  Networking: Teslas are connected vehicles, regularly communicating with Tesla's servers for software updates, sending performance data, and receiving information like traffic conditions or supercharger availability. The VCU manages these data transmissions.\n",
        "\n",
        "7.  Climate Control: The VCU also controls the car's climate system, adjusting the heating, cooling, and ventilation as per the user's settings.\n",
        "\n",
        "8.  Data Storage: The VCU stores various data, like your personal settings, trip information, and event data, in the car's internal storage. This data is retained even when the car is turned off and can be used to resume settings when the car is turned on again.\n",
        "\n",
        "Similar to the first two cases, driving a Tesla involves a complex interplay of various systems managed by the VCU, akin to the CPU in a computer. From processing user inputs to managing the electric motor and battery, from processing sensor data for automated driving to controlling the car's display and sound system, the VCU plays a critical role in delivering a smooth and safe driving experience."
      ],
      "metadata": {
        "id": "O44GcvxQ7SJf"
      }
    },
    {
      "cell_type": "markdown",
      "source": [
        "## Questions\n",
        "Please answer the following questions in 2-3 sentences each.\n",
        "\n",
        "1.  When you run a program on your computer, what is happening at the CPU level? Explain the fetch-decode-execute cycle.\n",
        "\n",
        "2.  Why is your computer's hard drive or SSD larger than its RAM? How do these two types of storage work together to run a program?\n",
        "\n",
        "3.  How do input/output devices communicate with the CPU? Explain the concepts of interrupts and polling in your own words.\n",
        "\n",
        "4.  What role does an operating system play on a computer? How does it interact with the hardware and the applications? What kind(s) of operating systems do you regularly use?\n",
        "\n",
        "5. What kind of computer hardware and software are you currently using (for example: CPU, RAM, SSD, Operating System)? How did you go about finding this out?\n",
        "\n",
        "\n",
        "\n"
      ],
      "metadata": {
        "id": "7oHiQ2wi8MxM"
      }
    },
    {
      "cell_type": "markdown",
      "source": [
        "## Answers\n",
        "You put your answers here. In order to SAVE your work,  you will need to \"save\" your own copy of the notebook (go to \"File: Save a Copy in Drive\").\n",
        "\n",
        "1.\n",
        "\n",
        "2.\n",
        "\n",
        "3.\n",
        "\n",
        "4.\n",
        "\n",
        "5."
      ],
      "metadata": {
        "id": "TrBEuuaz8ZsE"
      }
    },
    {
      "cell_type": "markdown",
      "source": [
        "## Review with Quizlet\n",
        "\n",
        "I've created a \"Quizlet\" deck to go along with this chapter (based on the glossary below). I encourage you to work your way through it until you \"master\" this activity. To launch the deck, you simply \"run\" the cell below."
      ],
      "metadata": {
        "id": "bFmhR8w63Yfw"
      }
    },
    {
      "cell_type": "code",
      "source": [
        "%%html\n",
        "<iframe src=\"https://quizlet.com/817056246/learn/embed?i=psvlh&x=1jj1\" height=\"600\" width=\"100%\" style=\"border:0\"></iframe>"
      ],
      "metadata": {
        "id": "Pd4gz-7e37iI",
        "outputId": "5ce34621-a8a0-49d2-c0f8-4698c344c2f5",
        "colab": {
          "base_uri": "https://localhost:8080/",
          "height": 621
        }
      },
      "execution_count": null,
      "outputs": [
        {
          "output_type": "display_data",
          "data": {
            "text/plain": [
              "<IPython.core.display.HTML object>"
            ],
            "text/html": [
              "<iframe src=\"https://quizlet.com/817056246/learn/embed?i=psvlh&x=1jj1\" height=\"600\" width=\"100%\" style=\"border:0\"></iframe>\n"
            ]
          },
          "metadata": {}
        }
      ]
    },
    {
      "cell_type": "markdown",
      "source": [
        "## Glossary\n",
        "| Term | Definition |\n",
        "| --- | --- |\n",
        "| Computer | A device capable of performing calculations and tasks according to a set of instructions, typically including hardware and software components. |\n",
        "| Computer Science | A field of study that encompasses the theory, design, development, and application of information systems and computing technologies. |\n",
        "| Binary | A base-2 number system used by digital devices, consisting of only two digits: 0 and 1. |\n",
        "| Transistors | Semiconductor devices used to amplify or switch electronic signals and electrical power, acting as the basic building blocks of electronic devices. |\n",
        "| Binary-to-Decimal (Algorithm) | Add together each bit multiplied by two raised to the power of its position, starting from 0 on the right. |\n",
        "| Decimal-to-Binary (Algorithm) | Divide the decimal number by 2, recording the remainder. Repeat using the quotient until it is 0. The binary result is the recorded remainders, in reverse order. |\n",
        "| Octal | A base-8 number system, using digits from 0 to 7. |\n",
        "| Hexadecimal | A base-16 number system, utilizing digits from 0 to 9 and letters from A to F, often used in computing for compact representation of binary numbers. |\n",
        "| Central Processing Unit (CPU) | The primary component of a computer that performs most of the processing, divided into the Control Unit and the Arithmetic Logic Unit. |\n",
        "| Control Unit | The part of the CPU that directs operations, interpreting and executing instructions from memory. |\n",
        "| Arithmetic Logic Unit (ALU) | A component of the CPU responsible for performing arithmetic and logical operations. |\n",
        "| Fetch | The initial step in the CPU operation cycle where an instruction is retrieved from memory. |\n",
        "| Decode | The step in the CPU operation cycle where the fetched instruction is translated into a series of actions. |\n",
        "| Execute | The final step in the CPU operation cycle where the actions resulting from the decoded instruction are carried out. |\n",
        "| Random Access Memory (RAM) | A type of computer memory that can be read from and written to, often used for primary storage in computers due to its high speed. |\n",
        "| Read Only Memory (ROM) | Non-volatile memory used in computers and other electronic devices that stores data that is permanently written during manufacturing and cannot be modified thereafter. |\n",
        "| Volatile memory | Memory that requires power to maintain stored information, losing its contents when the power is turned off; includes types such as RAM. |\n",
        "| Non-volatile memory | Storage that retains data even when power is lost, such as SSDs, HDDs, and flash memory. |\n",
        "| Hard Disk Drive (HDD) | A data storage device using magnetic storage to store and retrieve digital information, characterized by rotating rigid platters on a motor-driven spindle. |\n",
        "| Solid State Drive (SSD) | A type of non-volatile storage media that stores data on solid-state flash memory, offering faster read/write speeds compared to HDDs. |\n",
        "| Motherboard | The main circuit board in a computer that interconnects the CPU, memory, storage devices, and input/output devices, serving as the central hub for data transfer. |\n",
        "| Operating System | Software that manages hardware resources, provides services for software applications, and acts as an interface between the user and the hardware. |\n",
        "| Linux | An open-source operating system based on the Unix operating system, known for its stability, efficiency, and extensive customization options. |\n",
        "| Ubuntu | A popular distribution of the Linux operating system, known for its user-friendly interface and strong support community. |\n",
        "| Input | Data or signals received by the computer for processing, or devices that facilitate the transfer of these data or signals, such as a keyboard or mouse. |\n",
        "| Output | The results produced by the computer after data processing, or devices that display or deliver these results, such as monitors or printers. |\n",
        "| Interrupt | A signal to the processor indicating an event needing immediate attention, temporarily stopping the execution of the current process. |\n",
        "| Polling | A method whereby the computer regularly checks the status of an input/output device to see if it's ready for data transfer. |"
      ],
      "metadata": {
        "id": "Jd6uicvxCcKE"
      }
    }
  ]
}