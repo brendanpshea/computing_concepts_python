{
  "nbformat": 4,
  "nbformat_minor": 0,
  "metadata": {
    "colab": {
      "provenance": [],
      "authorship_tag": "ABX9TyOdUBiRq/Y2WaTKpxYvqsZ6",
      "include_colab_link": true
    },
    "kernelspec": {
      "name": "python3",
      "display_name": "Python 3"
    },
    "language_info": {
      "name": "python"
    }
  },
  "cells": [
    {
      "cell_type": "markdown",
      "metadata": {
        "id": "view-in-github",
        "colab_type": "text"
      },
      "source": [
        "<a href=\"https://colab.research.google.com/github/brendanpshea/computing_concepts_python/blob/main/IntroCS_06_Conditionals.ipynb\" target=\"_parent\"><img src=\"https://colab.research.google.com/assets/colab-badge.svg\" alt=\"Open In Colab\"/></a>"
      ]
    },
    {
      "cell_type": "markdown",
      "source": [
        "# Conditionals and Levels of Abstraction\n",
        "### Computing Concepts with Python | Brendan Shea, PhD\n",
        "In this lesson, we'll be exploring how conditionals can be used to control \"program flow.\" First, though, we're going to explore an \"abstract\" idea about how computers work.\n",
        "\n",
        "More specifically, you'll learn to do the following:\n",
        "\n",
        "1.  Use conditional statements (if, elif, else) in Python to make decisions based on whether certain conditions are true or false.\n",
        "2.  Apply boolean operators (and, or, not) to create more complex conditional expressions.\n",
        "3.  Write concise conditional expressions using Python's ternary operator.\n",
        "4.  Understand the concept of abstraction and how it is used to manage complexity in computer systems and programming.\n",
        "5.  Compare the different levels of abstraction in programming languages like C, Java, and Python, and understand the tradeoffs between low-level control and high-level ease of use.\n",
        "6.  Explain the step-by-step process of how a computer executes Python code, from parsing and tokenization to bytecode compilation and execution."
      ],
      "metadata": {
        "id": "gDlKUszAZ3F-"
      }
    },
    {
      "cell_type": "markdown",
      "source": [
        "## Brendan's Lecture\n",
        "Click below to launch my lecture."
      ],
      "metadata": {
        "id": "TfruqM53msh8"
      }
    },
    {
      "cell_type": "code",
      "source": [
        "##Click here to launch my lecture\n",
        "from IPython.display import YouTubeVideo\n",
        "YouTubeVideo('3pw8LpW1soI', width=800, height=500)"
      ],
      "metadata": {
        "id": "BypG3bGFmrza"
      },
      "execution_count": null,
      "outputs": []
    },
    {
      "cell_type": "markdown",
      "source": [
        "## Making it Abstract\n",
        "**Abstraction** is a fundamental concept in computer science that allows us to simplify complex systems by focusing on the essential features of a problem or a concept while ignoring the low-level details. This process of simplification is crucial for managing complexity, making it easier to understand, design, and maintain software and hardware systems. To better understand abstraction, let's explore what it means and how it works in different domains.\n",
        "\n",
        "In everyday life, we constantly use abstraction without even realizing it. When we read a map, we see a simplified representation of a geographic area, showing only the essential information needed to navigate. The map doesn't need to show every detail of the landscape; it highlights the critical elements, like roads and landmarks, at a level of abstraction that is useful for our purpose.\n",
        "\n",
        "Similarly, in computer science, we use different levels of abstraction to focus on what is relevant and ignore unnecessary details. Levels of abstraction can range from high-level, where many details are hidden, to low-level, where more specifics are exposed.\n",
        "\n",
        "- For example, consider the process of designing a computer game. At a high level of abstraction, we might think about the game's story, characters, and objectives. As we move to a lower level of abstraction, we'll consider the game's mechanics, such as character movement, physics, and collision detection. At an even lower level, we'll work with code, algorithms, and data structures that make these mechanics possible.\n",
        "\n",
        "- Another example is computer hardware. At a high level of abstraction, we interact with computers using input devices like keyboards and output devices like monitors. At a lower level of abstraction, we can consider the computer's components, such as the processor, memory, and storage. At the lowest level, we have the electronic circuits and binary code that make up the foundation of the hardware.\n",
        "\n",
        "Different levels of abstraction are useful for different purposes. High-level abstractions allow us to understand the big picture and reason about the overall structure and design of a system. They help us to communicate ideas, collaborate, and create shared mental models. Low-level abstractions, on the other hand, enable us to deal with the specifics and intricacies of a system, ensuring that it functions correctly and efficiently.\n",
        "\n",
        "In this case study, we'll explore the importance of abstraction in programming languages, software development approaches, data representation, and real-world examples, showing how different levels of abstraction can help us build, understand, and maintain complex computer systems."
      ],
      "metadata": {
        "id": "cFeWCMBUdVoX"
      }
    },
    {
      "cell_type": "markdown",
      "source": [
        "\n",
        "## Abstraction in programming languages\n",
        "\n",
        "Programming languages are tools we use to instruct computers. They range from low-level languages, which are closer to hardware, to high-level languages that abstract many details away. Let's compare three popular programming languages: C, Java, and Python.\n",
        "\n",
        "1.  **C** is a low-level language, giving programmers more control over hardware. For example, memory management is manual, making it more challenging but also more flexible.\n",
        "2.  **Java** is an object-oriented language that abstracts memory management through garbage collection, making it easier to use while still offering good performance.\n",
        "3.  **Python** is a high-level language, with a focus on simplicity and readability. It abstracts away many low-level details, allowing developers to write code more quickly and with fewer lines.\n",
        "As languages become more abstract, they often become easier to learn and use, but may sacrifice some performance.\n"
      ],
      "metadata": {
        "id": "jgMXjBkXQrFi"
      }
    },
    {
      "cell_type": "markdown",
      "source": [
        "### C: Low-Level Abstraction\n",
        "\n",
        "In C, you're closer to the machine, dealing with memory management and more verbose syntax. Let's call our C program \"Chronos,\" after the Greek god of time."
      ],
      "metadata": {
        "id": "RN33KwcgQsWe"
      }
    },
    {
      "cell_type": "code",
      "source": [
        "%%writefile chronos.c\n",
        "#include <stdio.h>\n",
        "\n",
        "int isLeapYear(int year) {\n",
        "    if ((year % 4 == 0 && year % 100 != 0) || (year % 400 == 0)) {\n",
        "        return 1;\n",
        "    }\n",
        "    return 0;\n",
        "}\n",
        "\n",
        "int main() {\n",
        "    int year;\n",
        "    printf(\"Enter the year you were born: \");\n",
        "    scanf(\"%d\", &year);\n",
        "\n",
        "    if (isLeapYear(year)) {\n",
        "        printf(\"You were born in a leap year.\\n\");\n",
        "    } else {\n",
        "        printf(\"You were not born in a leap year.\\n\");\n",
        "    }\n",
        "    return 0;\n",
        "}\n"
      ],
      "metadata": {
        "colab": {
          "base_uri": "https://localhost:8080/"
        },
        "id": "clIlef0iQwez",
        "outputId": "84135762-f95d-4512-fa62-a2cc054484ea"
      },
      "execution_count": null,
      "outputs": [
        {
          "output_type": "stream",
          "name": "stdout",
          "text": [
            "Writing chronos.c\n"
          ]
        }
      ]
    },
    {
      "cell_type": "code",
      "source": [
        "!make chronos # compile to binary"
      ],
      "metadata": {
        "colab": {
          "base_uri": "https://localhost:8080/"
        },
        "id": "B49c4PLgQ6b7",
        "outputId": "dbe0cab4-b027-492f-c576-6028a69159ef"
      },
      "execution_count": null,
      "outputs": [
        {
          "output_type": "stream",
          "name": "stdout",
          "text": [
            "cc     chronos.c   -o chronos\n"
          ]
        }
      ]
    },
    {
      "cell_type": "code",
      "source": [
        "!./chronos # run the executable"
      ],
      "metadata": {
        "colab": {
          "base_uri": "https://localhost:8080/"
        },
        "id": "wE4Z1jEjRAZa",
        "outputId": "ac624e00-c061-4e21-dcde-8819e529f255"
      },
      "execution_count": null,
      "outputs": [
        {
          "output_type": "stream",
          "name": "stdout",
          "text": [
            "Enter the year you were born: 1647\n",
            "You were not born in a leap year.\n"
          ]
        }
      ]
    },
    {
      "cell_type": "markdown",
      "source": [
        "In C, the function `scanf` reads an integer from standard input and stores it in the memory location of the variable `year`. The ampersand (`&`) is the address-of operator, which returns the *memory address* of its operand. This is a direct manipulation of memory, a task often abstracted away in higher-level languages.\n",
        "\n",
        "1. In C, YOU are responsible for allocating and deallocating memory. This is manual and error-prone but offers more control. It can lead to things such as \"buffer overflow errors.\" In contrast, languages like Java have garbage collectors, and Python manages memory automatically.\n",
        "\n",
        "2. The format specifier `%d` explicitly states that you expect an integer. In Python or Java, type handling is often more flexible, reducing the need for such explicit declarations.\n",
        "\n",
        "3.  If `scanf` fails, it returns an *error code* you must manually check. High-level languages often have more sophisticated error-handling mechanisms, like exceptions.\n",
        "\n",
        "4.   C allows for more direct interaction with hardware, which is why it's commonly used in system programming. High-level languages are generally further removed from hardware for the sake of portability and ease of use.\n",
        "\n",
        "C has remained the language of choice for low-level system programming for over 40 years. It is also the direct ancestor of languages like C+, C#, Java, and Python. However, these languages abstract away some of the \"messy details\" that C programmers are forced to deal with."
      ],
      "metadata": {
        "id": "aHbDILlC7mdI"
      }
    },
    {
      "cell_type": "code",
      "source": [],
      "metadata": {
        "id": "3Qv9BBqGZznf"
      },
      "execution_count": null,
      "outputs": []
    },
    {
      "cell_type": "markdown",
      "source": [
        "### Java: Intermediate-Level Abstraction\n",
        "\n",
        "Java offers a balance between low-level control and high-level abstraction. We'll name our Java program \"Julian,\" after the Julian calendar which was a precursor to the Gregorian calendar."
      ],
      "metadata": {
        "id": "BgMBy1arRIi2"
      }
    },
    {
      "cell_type": "code",
      "source": [
        "%%writefile Julian.java\n",
        "import java.util.Scanner;\n",
        "\n",
        "public class Julian {\n",
        "    public static boolean isLeapYear(int year) {\n",
        "        return (year % 4 == 0 && year % 100 != 0) || (year % 400 == 0);\n",
        "    }\n",
        "\n",
        "    public static void main(String[] args) {\n",
        "        Scanner scanner = new Scanner(System.in);\n",
        "        System.out.print(\"Enter the year you were born: \");\n",
        "        int year = scanner.nextInt();\n",
        "\n",
        "        if (isLeapYear(year)) {\n",
        "            System.out.println(\"You were born in a leap year.\");\n",
        "        } else {\n",
        "            System.out.println(\"You were not born in a leap year.\");\n",
        "        }\n",
        "    }\n",
        "}\n"
      ],
      "metadata": {
        "colab": {
          "base_uri": "https://localhost:8080/"
        },
        "id": "6S7TBuplRMwT",
        "outputId": "e1a64668-c214-426f-a189-e427bb95448e"
      },
      "execution_count": null,
      "outputs": [
        {
          "output_type": "stream",
          "name": "stdout",
          "text": [
            "Writing Julian.java\n"
          ]
        }
      ]
    },
    {
      "cell_type": "code",
      "source": [
        "!javac Julian.java # Compile to bytecode"
      ],
      "metadata": {
        "id": "26Iy4BPIRXuQ"
      },
      "execution_count": null,
      "outputs": []
    },
    {
      "cell_type": "code",
      "source": [
        "!java Julian # Run with Java Virtual Machine"
      ],
      "metadata": {
        "colab": {
          "base_uri": "https://localhost:8080/"
        },
        "id": "V9XBiGOVRfGt",
        "outputId": "b60e1c5f-9433-4e03-e0ea-6ba42ef6257b"
      },
      "execution_count": null,
      "outputs": [
        {
          "output_type": "stream",
          "name": "stdout",
          "text": [
            "Enter the year you were born: 1647\n",
            "You were not born in a leap year.\n"
          ]
        }
      ]
    },
    {
      "cell_type": "markdown",
      "source": [
        "Java \"abstracts away\" many of the details we see in the C program. For example:\n",
        "1.  *Memory Management.* In the C program, managing memory and dealing with input requires understanding pointers and manually handling memory (for example, using `&` in `scanf`). Java abstracts this away. You don't see any manual memory management in the \"Julian\" program because Java handles memory allocation and garbage collection automatically. This means less chance for errors like memory leaks, making programming in Java safer for beginners.\n",
        "\n",
        "2.  *Input Handling.* The Java program uses a `Scanner` object to read input. This is much simpler than C's `scanf` function. In C, you have to specify the type of input you expect (`%d` for integers) and use pointers to store the value in a variable. In Java, you just create a `Scanner` and call a method like `nextInt()`. This hides the complexity of parsing the input string and converting it to an integer, making the code cleaner and easier to understand.\n",
        "\n",
        "3.  *Boolean Expressions.* Both programs have a function/method to determine if a year is a leap year. In C, the `isLeapYear` function returns `1` for true and `0` for false, because C does not have a native boolean type (until C99, which introduced `_Bool`). In Java, the `isLeapYear` method returns a `boolean` value (`true` or `false`), which is more intuitive and straightforward.\n",
        "\n",
        "4.  *Error Handling.* Error handling in Java is more sophisticated compared to C. While the simple \"Julian\" program doesn't demonstrate complex error handling, Java's exception mechanism allows programs to catch and handle errors in a structured way. C relies on return codes and manual checks to handle errors, which can be less intuitive and more prone to oversight."
      ],
      "metadata": {
        "id": "L3tXHJjIsySD"
      }
    },
    {
      "cell_type": "markdown",
      "source": [
        "## Python: High-Level Abstraction\n",
        "Python allows for more abstraction and is more user-friendly. We'll name our Python program \"Gregor,\" after the Gregorian calendar which is the calendar most of the world uses today."
      ],
      "metadata": {
        "id": "cpqaLQaMRnWO"
      }
    },
    {
      "cell_type": "code",
      "source": [
        "def is_leap_year(year):\n",
        "    return (year % 4 == 0 and year % 100 != 0) or (year % 400 == 0)\n",
        "\n",
        "year = int(input(\"Enter the year you were born: \"))\n",
        "\n",
        "if is_leap_year(year):\n",
        "    print(\"You were born in a leap year.\")\n",
        "else:\n",
        "    print(\"You were not born in a leap year.\")\n"
      ],
      "metadata": {
        "id": "g5UEpyqKXHDe",
        "outputId": "1e3d9b4d-fad7-491a-df14-e2cd579f2692",
        "colab": {
          "base_uri": "https://localhost:8080/"
        }
      },
      "execution_count": null,
      "outputs": [
        {
          "output_type": "stream",
          "name": "stdout",
          "text": [
            "Enter the year you were born: 1647\n",
            "You were not born in a leap year.\n"
          ]
        }
      ]
    },
    {
      "cell_type": "markdown",
      "source": [
        "Python represents the \"highest\" level of abstraction. Here are some main features:\n",
        "1.  Python uses the `input()` function to read user input, which directly returns the input as a string. This is simpler than Java's `Scanner` object or C's `scanf` function because it doesn't require initializing objects or dealing with memory addresses. To convert the input to an integer, you wrap the `input()` call with `int()`, a straightforward and easy-to-understand method.\n",
        "\n",
        "2.  Like Java, Python automatically manages memory for you. There's no need to allocate or deallocate memory manually, and you don't have to worry about memory leaks or buffer overflows. This allows you to concentrate on the logic of your program without getting bogged down by the underlying details of memory management.\n",
        "\n",
        "3.  Python's boolean expressions are clear and readable. The function `is_leap_year` uses simple `and`, `or`, and `not` operators, making the code easy to read and understand, even for beginners. There's no need to return specific integer values to represent true or false; Python has built-in `True` and `False` boolean types that make conditions and return values straightforward.\n",
        "\n",
        "4.  Python's syntax is designed to be readable and clean. The lack of semicolons and braces reduces clutter, making the code look closer to natural language. This simplicity helps beginners understand what the code does without getting overwhelmed by syntactic details.\n",
        "\n",
        "Comparing programming languages to cars, if C is like a manual transmission car where you control nearly everything, and Java is like an automatic transmission car with some automated features, then Python is like a self-driving car. In Python, you just tell the program what you want (e.g., \"go to the supermarket\"), and it takes care of the details for you (e.g., selecting the route, driving the car, obeying traffic laws). You don't need to know how the engine works or how to navigate there; you just enjoy the ride. This high level of abstraction makes Python an excellent choice for beginners and for tasks where development speed is crucial."
      ],
      "metadata": {
        "id": "ogCsokwTuctw"
      }
    },
    {
      "cell_type": "markdown",
      "source": [
        "| Feature | C | Java | Python |\n",
        "| --- | --- | --- | --- |\n",
        "| First Released | 1972 (\"ancestor\" of Java/Python) | 1995 | 1991 |\n",
        "| Paradigm | Procedural | Object-Oriented | Multi-paradigm |\n",
        "| Memory Management | Manual | Automatic (GC) | Automatic (GC) |\n",
        "| Variable Typing | Static | Static | Dynamic |\n",
        "| Compilation | Compiled | Compiled to Bytecode | Interpreted |\n",
        "| Platform Independence | Not platform independent | Platform independent | Platform independent |\n",
        "| Popular for | System programming, embedded systems | Enterprise-scale applications, Android apps | Data analysis, machine learning, web development |\n",
        "| Syntactic Sugar | Less syntactic sugar | More syntactic sugar | High level of syntactic sugar |\n",
        "| Learning Curve | Steep | Moderate | Gentle |"
      ],
      "metadata": {
        "id": "5FlzdWspY5Br"
      }
    },
    {
      "cell_type": "markdown",
      "source": [
        "### Abstraction in software development approaches\n",
        "\n",
        "A second type of abstraction concerns the choice of a **programming paradigm**, which is a high-level plan on how software is written. These paradigms offer different approaches to solve problems and structure code. Here, we'll take a brief look at how three fundamental paradigms---procedural, object-oriented, and functional--might approach the problem of \"build a pizza-making robot).\n",
        "\n",
        "**Procedural programming** is like giving a step-by-step recipe to our pizza-making robot. It focuses on a sequence of actions or steps that lead to a desired outcome. This paradigm is all about writing a list of instructions that the computer follows in order.\n",
        "\n",
        "Example:\n",
        "\n",
        "1.  The robot starts by collecting all necessary ingredients for the pizza.\n",
        "2.  Next, it prepares the dough by mixing flour, water, yeast, and salt.\n",
        "3.  The robot then spreads sauce, cheese, and other toppings over the dough.\n",
        "4.  Finally, it bakes the pizza in the oven at a specified temperature for a set time.\n",
        "\n",
        "In procedural programming, these steps would be coded as a series of functions, such as `gatherIngredients()`, `prepareDough()`, `addToppings()`, and `bakePizza()`, executed in a specific order to make the pizza.\n",
        "\n",
        "**Object-oriented programming** introduces the concept of organizing code into \"objects,\" each representing a different part of the pizza-making robot. These objects can have their own properties (attributes) and behaviors (methods). This paradigm focuses on creating models based on real-world entities, making it easier to understand and manage complex systems.\n",
        "\n",
        "Example:\n",
        "\n",
        "-   Robot as an object with properties like `name` and methods such as `makePizza()`.\n",
        "-   Dough, Sauce, and Toppings as objects, each with their own properties, like `quantity` or `type`, and methods like `prepare()` or `apply()`.\n",
        "\n",
        "In OOP, the pizza-making process involves interacting objects. The `Robot` object uses methods from the `Dough`, `Sauce`, and `Toppings` objects to assemble and bake the pizza, encapsulating the behavior within each object.\n",
        "\n",
        "**Functional programming** is like teaching our robot to think in terms of mathematical functions. It emphasizes the use of pure functions---functions where the output only depends on the input, without side effects (like altering global state). This paradigm values immutability (data not being changed) and higher-order functions (functions that take other functions as arguments or return them).\n",
        "\n",
        "Example:\n",
        "\n",
        "Imagine a function `createPizza(dough, sauce, toppings)` that returns a new `Pizza` object. Each step in the pizza-making process is a function that transforms data:\n",
        "\n",
        "-   prepareDough() takes ingredients and returns dough.\n",
        "-   applySauce() takes dough and sauce, returning sauced dough.\n",
        "-   addToppings() takes sauced dough and toppings, returning an uncooked pizza.\n",
        "-   bakePizza() takes an uncooked pizza, returning a cooked pizza.\n",
        "\n",
        "Functional programming treats the pizza-making process as a series of data transformations, focusing on the flow of data through functions."
      ],
      "metadata": {
        "id": "FHybHP47Qhjo"
      }
    },
    {
      "cell_type": "markdown",
      "source": [
        "\n",
        "## Abstraction in data representation\n",
        "To solve problems, we need to represent data in a way that computers can understand. Abstraction helps us create simpler, more flexible data structures. This holds both for \"primitive\" data types (like ints or floats) and for more \"abstract\" data types (such as lists).\n",
        "\n",
        "1. Integers in Python are an example of abstraction. You don't need to worry about how Python stores these numbers or performs arithmetic operations with them. You just know that you can perform operations like addition, subtraction, multiplication, etc., and Python will handle the rest. The complexity of how these operations are performed is abstracted away.\n",
        "\n",
        "2. Similar to integers, floating point numbers in Python are also an abstraction. You can perform arithmetic operations on them, and Python takes care of the implementation details. This includes handling the decimal point and the fractional part of the number.\n",
        "\n",
        "3. Strings in Python are a sequence of characters. The abstraction here is that you don't need to worry about how Python stores and manipulates these sequences. You can use various string methods like upper(), lower(), split(), etc., without needing to understand their internal workings.\n",
        "\n",
        "4. Python lists are a form of abstraction. When you use a list, you don't need to worry about how it's implemented in the background. You just know that it's an ordered collection of items that you can manipulate with methods like append(), insert(), remove(), etc. The details of how these methods work internally are abstracted away, so you can focus on what you want to do with the list, not how to do it.\n"
      ],
      "metadata": {
        "id": "F2OUkiRvwSXO"
      }
    },
    {
      "cell_type": "markdown",
      "source": [
        "\n",
        "## Real-world examples of abstraction\n",
        "Abstraction is found in many real-world computer systems, making them easier to use and understand.\n",
        "\n",
        "\n",
        "1. The **Graphical User Interfaces (GUIs)** of modern operating systems are an example of abstraction. They provide a visual way for users to interact with the computer, hiding the complex underlying operations. For example, when you double-click on a file, the operating system executes a series of complex operations to open that file. However, you don't need to understand these operations to use the computer effectively. The GUI abstracts these details away, making the computer more user-friendly.\n",
        "\n",
        "2. File systems in modern operating systems are another example of abstraction. They provide a hierarchical structure for storing and retrieving files. When you save a file, the operating system handles the details of where and how to store the data. When you open a file, the operating system retrieves the data and presents it to you. You don't need to understand the specifics of how data is stored and retrieved to use a computer effectively.\n",
        "\n",
        "3. At a higher level, desktop, web, and mobile apps are another example of abstraction. They provide a user-friendly interface for interacting with complex systems and services. For example, when you use a social media app, you don't need to understand the complex operations that the app performs to fetch and display posts, messages, etc. The app abstracts these details away, allowing you to focus on using the service."
      ],
      "metadata": {
        "id": "xr1mHSdNPzey"
      }
    },
    {
      "cell_type": "markdown",
      "source": [
        "## Graphic: Types of Abstraction"
      ],
      "metadata": {
        "id": "rbyFiQGOSE2_"
      }
    },
    {
      "cell_type": "markdown",
      "source": [
        "![image.png](data:image/png;base64,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)"
      ],
      "metadata": {
        "id": "doqDESsVSaTu"
      }
    },
    {
      "cell_type": "markdown",
      "source": [
        "\n",
        "## Table: Levels of Abstraction\n",
        "\n",
        "| Level | Description and Usage |\n",
        "| --- | --- |\n",
        "| Quantum Level | - Deals with particles/waves of quantum mechanics.<br>- Critical for quantum computing, solving large-scale simulations, cryptography, and optimization. |\n",
        "| Physical Level (Transistors) | - Focuses on electrical properties of components.<br>- Used in building digital circuits, microprocessors, and memory chips. |\n",
        "| Logic Gates and Circuits | - Abstracts individual transistors, emphasizing boolean operations.<br>- Enables development of computer hardware for processing binary data. |\n",
        "| Microarchitecture (von Neumann model) | - Blueprint for computer design, including CPU, memory, and I/O.<br>- Allows storage and execution of instructions and data processing. |\n",
        "| Machine Language | - Low-level programming executed by hardware.<br>- Optimized for performance and hardware interfacing. |\n",
        "| Assembly Language | - Human-readable version of machine language.<br>- Useful for low-level routines and optimizing performance-critical sections. |\n",
        "| High-Level Programming Languages | - Abstracts details of assembly/machine language, focusing on logic.<br>- Ideal for writing complex software, offering faster development. |\n",
        "| Libraries and Frameworks | - Provides pre-built, reusable components.<br>- Streamlines development and improves productivity with ready-made solutions. |\n",
        "| End-User Programs | - Highest abstraction, enabling user interaction without hardware knowledge.<br>- Allows users to perform tasks and access information seamlessly. |"
      ],
      "metadata": {
        "id": "EI46RF09QkCL"
      }
    },
    {
      "cell_type": "markdown",
      "source": [
        "## Discussion Questions: Making it Abstract\n",
        "\n",
        "1. Think about your favorite video game. How do you imagine the game's designers used different levels of abstraction in creating the story, characters, mechanics, and underlying code? If you were to design a game, what would be your focus at each level of abstraction?\n",
        "\n",
        "3. In object-oriented programming, real-world entities are represented as objects. Choose an object from your daily life, such as a bicycle or a smartphone. How would you abstract its characteristics and functions into a computer program?\n",
        "\n",
        "3. Refer to the table of Levels of Abstraction, ranging from Quantum Level to End-User Programs. Identify a level that interests you the most, and explore how abstraction at that level influences technology you use or a future career you might be interested in."
      ],
      "metadata": {
        "id": "8fE6RudHkYmW"
      }
    },
    {
      "cell_type": "markdown",
      "source": [
        "## Answers: Make it Abtract\n",
        "Please write your answers to the above question in the space below:\n",
        "\n",
        "1.\n",
        "\n",
        "2.\n",
        "\n",
        "3.\n"
      ],
      "metadata": {
        "id": "m4Abmr4eb8fG"
      }
    },
    {
      "cell_type": "markdown",
      "source": [
        "## Conditionals\n",
        "Conditionals are a fundamental programming concept used to make decisions in code based on whether a certain condition is true or false. In Python, you use the if, elif (short for \"else if\"), and else keywords to create conditional statements.\n",
        "\n",
        "### if:\n",
        "The `if` keyword is used to test a condition. If the condition is true, the code inside the if block will be executed. If the condition is false, the code inside the if block will be skipped. In the following example, if the weather variable is equal to \"sunny\", the print statement will be executed.\n",
        "\n",
        "\n",
        "\n"
      ],
      "metadata": {
        "id": "Timc2mz9eUP1"
      }
    },
    {
      "cell_type": "code",
      "source": [
        "weather = \"sunny\"\n",
        "if weather == \"sunny\":\n",
        "    print(\"It is a truth universally acknowledged that\"\n",
        "    \" a sunny day is perfect for a walk in the countryside.\")"
      ],
      "metadata": {
        "id": "UolKlBfxey7v",
        "colab": {
          "base_uri": "https://localhost:8080/"
        },
        "outputId": "38655d07-ab7c-43ab-ed47-484da0270852"
      },
      "execution_count": null,
      "outputs": [
        {
          "output_type": "stream",
          "name": "stdout",
          "text": [
            "It is a truth universally acknowledged that a sunny day is perfect for a walk in the countryside.\n"
          ]
        }
      ]
    },
    {
      "cell_type": "markdown",
      "source": [
        "### elif:\n",
        "The `elif` keyword is used to test another condition if the previous condition(s) was/were false. You can use multiple elif blocks to test several conditions in sequence.\n",
        "\n",
        "In this example, if book_sales is greater than 10,000, the first print statement will be executed. If not, the code will continue to the elif block and check if book_sales is greater than 5,000. If it is, the second print statement will be executed.\n",
        "\n"
      ],
      "metadata": {
        "id": "C0ZLkHwR519M"
      }
    },
    {
      "cell_type": "code",
      "source": [
        "book_sales = 5001\n",
        "\n",
        "if book_sales > 10000:\n",
        "    print(\"Pride and Prejudice is selling exceptionally well!\")\n",
        "elif book_sales > 5000:\n",
        "    print(\"Pride and Prejudice is selling quite well.\")\n",
        "else:\n",
        "    print(\"Pride and Prejudice sales could be better.\")"
      ],
      "metadata": {
        "id": "OlSybKsjeTcY",
        "colab": {
          "base_uri": "https://localhost:8080/"
        },
        "outputId": "7dd18e5e-44af-4ea2-93c6-1eda6b04c316"
      },
      "execution_count": null,
      "outputs": [
        {
          "output_type": "stream",
          "name": "stdout",
          "text": [
            "Pride and Prejudice is selling quite well.\n"
          ]
        }
      ]
    },
    {
      "cell_type": "markdown",
      "source": [
        "### else:\n",
        "The `else` keyword is used to define a block of code that will be executed if none of the previous conditions were true.In the example below, if character is equal to \"Elizabeth Bennet\", the first print statement will be executed. If not, the code will continue to the else block and execute the second print statement."
      ],
      "metadata": {
        "id": "bhHsrrWH53nK"
      }
    },
    {
      "cell_type": "code",
      "source": [
        "character = \"Mr. Darcy\"\n",
        "\n",
        "if character == \"Elizabeth Bennet\":\n",
        "    print(\"She is the protagonist of Pride and Prejudice.\")\n",
        "else:\n",
        "    print(f\"{character} is not the protagonist, but still an important character.\")"
      ],
      "metadata": {
        "id": "X5Mc_cVJc9CZ",
        "colab": {
          "base_uri": "https://localhost:8080/"
        },
        "outputId": "f48e9097-0752-48ea-ac4f-c3a1fa363722"
      },
      "execution_count": null,
      "outputs": [
        {
          "output_type": "stream",
          "name": "stdout",
          "text": [
            "Mr. Darcy is not the protagonist, but still an important character.\n"
          ]
        }
      ]
    },
    {
      "cell_type": "markdown",
      "source": [
        "# Example: A Simple Movie Recommendation App\n",
        "Let's create a simple movie recommendation app that asks the user for their favorite Jane Austen novel and then, depending on the result, gives the user a movie recommendation. The pseudocode is as follows:\n",
        "\n",
        "1. Create a list of Jane Austen novels and a corresponding list of movie recommendations.\n",
        "2. Ask the user for their favorite Jane Austen novel.\n",
        "3. IF the user's favorite novel is in our list of novels:  \n",
        " 1. Find the index of the user's favorite novel in our list of novels.\n",
        " 2. Use this index to recommend the corresponding movie from our list of recommendations.\n",
        "4. ELSE: Provide a generic recommendation.\n",
        "5. Print the movie recommendation."
      ],
      "metadata": {
        "id": "y6tjKMhWfwct"
      }
    },
    {
      "cell_type": "code",
      "source": [
        "# A list of Jane Austen novels\n",
        "novels = [\"Pride and Prejudice\", \"Sense and Sensibility\", \"Emma\", \"Persuasion\",\n",
        "          \"Mansfield Park\", \"Northanger Abbey\"]\n",
        "\n",
        "# A corresponding list of non-science fiction movie recommendations\n",
        "recommendations = [\"Pride and Predujice (BBC)\", \"Little Women (2019)\",\n",
        "                   \"Clueless\", \"The Age of Innocence\", \"Never Let Me Go\", \"Gosford Park\"]\n",
        "\n",
        "# Ask the user for their favorite Jane Austen novel\n",
        "favorite_novel = input(\"What is your favorite Jane Austen novel? \")\n",
        "\n",
        "# Check if the user's favorite novel is in our list of novels\n",
        "if favorite_novel in novels:\n",
        "    # Find the index of the user's favorite novel in our list of novels\n",
        "    index = novels.index(favorite_novel)\n",
        "\n",
        "    # Use this index to recommend the corresponding movie\n",
        "    print(f\"Based on your love for {favorite_novel}, I recommend the movie {recommendations[index]}.\")\n",
        "\n",
        "# If the user's favorite novel is not in our list, provide a generic recommendation\n",
        "else:\n",
        "    print(\"I'm sorry, I don't recognize that novel. I recommend 'Clueless' as a great movie.\")\n"
      ],
      "metadata": {
        "id": "t85RU7xzU9xG"
      },
      "execution_count": null,
      "outputs": []
    },
    {
      "cell_type": "markdown",
      "source": [
        "Here's we do:\n",
        "\n",
        "1.  The first step is to create two lists, one for Jane Austen novels and one for corresponding movie recommendations. These lists are created using the `[]` brackets and separated by commas.\n",
        "2.  The second step is to ask the user for their favorite Jane Austen novel using the `input` function. This function displays a prompt to the user and waits for them to enter a value.\n",
        "3.  The third step is to check if the user's favorite novel is in our list of novels using the `in` keyword. This keyword checks if a value is present in a list.\n",
        "4.  If the user's favorite novel is in our list, we use the `index` method to find the index of this novel in our list of novels. This method returns the index of the first occurrence of a value in a list.\n",
        "5.  We then use this index to recommend the corresponding movie from our list of recommendations. We print this recommendation using the `print` function.\n",
        "6.  If the user's favorite novel is not in our list, we provide a generic recommendation using the `print` function.\n",
        "7.  The final step is to print the movie recommendation using the `print` function. This function prints a value to the console."
      ],
      "metadata": {
        "id": "Oy3tHgl6VZJ5"
      }
    },
    {
      "cell_type": "markdown",
      "source": [
        "## Exercise\n",
        "Adapt the following code to create your OWN recommendation algorithm based on YOUR favorite author (or movie director, musician, etc.). To do this, you'll need to (1) change the two lists and (2) change the text of the input and print statements."
      ],
      "metadata": {
        "id": "-esxufOxWYWH"
      }
    },
    {
      "cell_type": "code",
      "source": [
        "# You can copy the above code here and make your changes."
      ],
      "metadata": {
        "id": "S3Vov0kRWX97"
      },
      "execution_count": null,
      "outputs": []
    },
    {
      "cell_type": "markdown",
      "source": [
        "# Boolean Operators\n",
        "Boolean operators are logical operators that work with boolean values (True or False) to perform logical operations. The three main boolean operators in Python are and, or, and not.\n",
        "\n",
        "### `and`\n",
        "The `and` operator returns True if both conditions are true, and False otherwise. In the code block below, the user is eligible for a loan only if their age is greater than or equal to 18 and their income is greater than or equal to 40,000.\n"
      ],
      "metadata": {
        "id": "oGuFGosphJU3"
      }
    },
    {
      "cell_type": "code",
      "source": [
        "age = 25\n",
        "income = 50000\n",
        "\n",
        "if age >= 18 and income >= 40000:\n",
        "    print(\"Eligible for a loan.\")\n",
        "else:\n",
        "    print(\"Not eligible for a loan.\")"
      ],
      "metadata": {
        "id": "MjR30aUuhf5Z",
        "colab": {
          "base_uri": "https://localhost:8080/"
        },
        "outputId": "fbfedae4-8753-4774-ca1c-29de785024ee"
      },
      "execution_count": null,
      "outputs": [
        {
          "output_type": "stream",
          "name": "stdout",
          "text": [
            "Eligible for a loan.\n"
          ]
        }
      ]
    },
    {
      "cell_type": "markdown",
      "source": [
        "\n",
        "### `or`\n",
        "The `or` operator returns True if at least one of the conditions is true, and False otherwise. In this example, it's a nice day for a walk if the weather is either sunny or partly cloudy.\n",
        "\n"
      ],
      "metadata": {
        "id": "46XEH_Iu6ji6"
      }
    },
    {
      "cell_type": "code",
      "source": [
        "weather = \"cloudy\"\n",
        "\n",
        "if weather == \"sunny\" or weather == \"partly cloudy\":\n",
        "    print(\"It's a nice day for a walk.\")\n",
        "else:\n",
        "    print(\"It's not a great day for a walk.\")"
      ],
      "metadata": {
        "id": "Xz44FtBVhgCC",
        "colab": {
          "base_uri": "https://localhost:8080/"
        },
        "outputId": "1da8fac5-5bc6-4eb4-93ae-5eec87512951"
      },
      "execution_count": null,
      "outputs": [
        {
          "output_type": "stream",
          "name": "stdout",
          "text": [
            "It's not a great day for a walk.\n"
          ]
        }
      ]
    },
    {
      "cell_type": "markdown",
      "source": [
        "### `not`\n",
        "\n",
        "The not operator reverses the truth value of the condition it's applied to. If the condition is True, it becomes False, and vice versa. In this example, the user is allowed access if their account is not banned.\n",
        "\n",
        "\n"
      ],
      "metadata": {
        "id": "vwzzeMBC6lFQ"
      }
    },
    {
      "cell_type": "code",
      "source": [
        "username = \"jane_austen\"\n",
        "is_banned = False\n",
        "\n",
        "if not is_banned:\n",
        "    print(f\"Welcome, {username}!\")\n",
        "else:\n",
        "    print(f\"Sorry, {username}. Your account is banned.\")"
      ],
      "metadata": {
        "id": "9jDtXw9Fho3f",
        "colab": {
          "base_uri": "https://localhost:8080/"
        },
        "outputId": "de8551b9-0676-4cff-dd7e-3bc117184684"
      },
      "execution_count": null,
      "outputs": [
        {
          "output_type": "stream",
          "name": "stdout",
          "text": [
            "Welcome, jane_austen!\n"
          ]
        }
      ]
    },
    {
      "cell_type": "markdown",
      "source": [
        "\n",
        "### Combining Boolean Operators\n",
        "You can use boolean operators with conditionals to create more complex conditions and control the flow of your program based on multiple criteria. You can even combine multiple boolean operators in a single condition using parentheses to group them and control the order of evaluation.\n",
        "\n",
        "In this example, the user is eligible for a discounted membership if they are 18 or older and a student, or if they have a scholarship:"
      ],
      "metadata": {
        "id": "w_7aIZej6mV4"
      }
    },
    {
      "cell_type": "code",
      "source": [
        "age = 25\n",
        "is_student = True\n",
        "has_scholarship = False\n",
        "\n",
        "if (age >= 18 and is_student) or has_scholarship:\n",
        "    print(\"Eligible for a discounted membership.\")\n",
        "else:\n",
        "    print(\"Not eligible for a discounted membership.\")"
      ],
      "metadata": {
        "id": "2rQOs5alhtAz",
        "colab": {
          "base_uri": "https://localhost:8080/"
        },
        "outputId": "3a4f529b-542c-40e7-a7c9-4efd226320bd"
      },
      "execution_count": null,
      "outputs": [
        {
          "output_type": "stream",
          "name": "stdout",
          "text": [
            "Eligible for a discounted membership.\n"
          ]
        }
      ]
    },
    {
      "cell_type": "markdown",
      "source": [
        "## Writing \"Pythonically\" With Ternary Expressions\n",
        "In Python, you can use the **ternary conditional expression** or \"conditional expression\" to create concise one-liners for `if-else` statements. This allows you to write `if` and `else` statements within a single line, making your code shorter and sometimes easier to read.\n",
        "\n",
        "The syntax for the ternary conditional expression is as follows:\n",
        "\n",
        "`value_if_true if condition else value_if_false`\n",
        "\n",
        "Here's how it works:\n",
        "\n",
        "1.  The `condition` is evaluated first.\n",
        "2.  If the `condition` is `True`, the expression evaluates to `value_if_true`.\n",
        "3.  If the `condition` is `False`, the expression evaluates to `value_if_false`.\n",
        "\n",
        "You can also chain multiple ternary conditional expressions together by nesting them. This is useful when you have multiple conditions to check. For example:\n",
        "\n",
        "\n",
        "`value_if_true_1 if condition_1 else value_if_true_2 if condition_2 else value_if_false`\n",
        "\n",
        "In this case, the expression is evaluated as follows:\n",
        "\n",
        "1.  `condition_1` is evaluated first.\n",
        "2.  If `condition_1` is `True`, the expression evaluates to `value_if_true_1`.\n",
        "3.  If `condition_1` is `False`, then `condition_2` is evaluated.\n",
        "4.  If `condition_2` is `True`, the expression evaluates to `value_if_true_2`.\n",
        "5.  If `condition_2` is `False`, the expression evaluates to `value_if_false`.\n",
        "\n",
        "Remember that while using ternary conditional expressions can make your code more concise, it can also make it harder to read when used excessively or with complex conditions. It's important to strike a balance between readability and conciseness when using this feature.\n",
        "\n",
        "| Code | Description |\n",
        "| --- | --- |\n",
        "| `def f(a): return \"positive\" if a > 0 else \"negative\" if a < 0 else \"zero\"` | Python function f(a) that returns \"positive\", \"negative\", or \"zero\" for a number a. |\n",
        "| `def f(a): return \"even\" if a % 2 == 0 else \"odd\"` | Python function f(a) that returns \"even\" or \"odd\" for a number a. |\n",
        "| `def f(a, b, c): return a if a >= b and a >= c else b if b >= c else c` | Python function f(a, b, c) that returns the largest of three numbers a, b, and c. |\n",
        "| `def f(a, b): return a if a <= b else b` | Python function f(a,b) that returns the smallest of two numbers a and b. |\n",
        "| `def f(a): return \"A\" if a >= 90 else \"B\" if a >= 80 else \"C\" if a >= 70 else \"D\" if a >= 60 else \"F\"` | Python function f(a) that returns the grade based on a score a (0-100). |\n",
        "| `def f(a): print(\"FizzBuzz\" if a % 15 == 0 else \"Fizz\" if a % 3 == 0 else \"Buzz\" if a % 5 == 0 else a)` | Python function f(a) that prints \"Fizz\" if a is divisible by 3, \"Buzz\" if divisible by 5, \"FizzBuzz\" if divisible by both, else the number a. |"
      ],
      "metadata": {
        "id": "mtvuOGEx_ukn"
      }
    },
    {
      "cell_type": "markdown",
      "source": [
        "# Modulus This!\n",
        "In Python, the modulus operator is represented by the percentage symbol (%). It is used to find the remainder of a division operation between two numbers. The modulus operator can be very useful in various programming scenarios, such as determining if a number is even or odd, cycling through a list, or performing arithmetic with clock or calendar values. Here are some examples of ways you could use the modulus operator:\n"
      ],
      "metadata": {
        "id": "KGxyxBKD-SYS"
      }
    },
    {
      "cell_type": "code",
      "source": [
        "# Check if a number is even or odd\n",
        "num = 7\n",
        "\n",
        "if num % 2 == 0:\n",
        "    print(\"The number is even.\")\n",
        "else:\n",
        "    print(\"The number is odd.\")"
      ],
      "metadata": {
        "id": "hhK2GxZU_C0u",
        "colab": {
          "base_uri": "https://localhost:8080/"
        },
        "outputId": "0c12a87d-9aeb-447c-e5c5-bf06abd8db88"
      },
      "execution_count": null,
      "outputs": [
        {
          "output_type": "stream",
          "name": "stdout",
          "text": [
            "The number is odd.\n"
          ]
        }
      ]
    },
    {
      "cell_type": "code",
      "source": [
        "# Cycle through a list and repeat\n",
        "colors = [\"red\", \"green\", \"blue\", \"yellow\"]\n",
        "num_colors = len(colors)\n",
        "\n",
        "for i in range(10):\n",
        "    print(colors[i % num_colors])"
      ],
      "metadata": {
        "id": "W_DPZCkB_J2h",
        "colab": {
          "base_uri": "https://localhost:8080/"
        },
        "outputId": "fdce8d6e-d4c0-4f35-d325-a14a03dcac97"
      },
      "execution_count": null,
      "outputs": [
        {
          "output_type": "stream",
          "name": "stdout",
          "text": [
            "red\n",
            "green\n",
            "blue\n",
            "yellow\n",
            "red\n",
            "green\n",
            "blue\n",
            "yellow\n",
            "red\n",
            "green\n"
          ]
        }
      ]
    },
    {
      "cell_type": "code",
      "source": [
        "# Performing arithmetic with clock values:\n",
        "# A little tricky!\n",
        "current_hour = 10\n",
        "hours_to_add = 5\n",
        "\n",
        "new_hour_24 = (current_hour + hours_to_add) % 24\n",
        "new_hour_12 = new_hour_24 if new_hour_24 != 0 and new_hour_24 <= 12 else new_hour_24 - 12\n",
        "\n",
        "print(\"The new hour is:\", new_hour_12)"
      ],
      "metadata": {
        "id": "B0WwscC7_KCJ"
      },
      "execution_count": null,
      "outputs": []
    },
    {
      "cell_type": "code",
      "source": [
        "# Find greatest common denominator or least common multiplier\n",
        "def gcd(a, b):\n",
        "    while b:\n",
        "        a, b = b, a % b\n",
        "    return a\n",
        "\n",
        "def lcm(a, b):\n",
        "    return a * b // gcd(a, b)\n",
        "\n",
        "num1 = 4\n",
        "num2 = 6\n",
        "print(\"LCM of\", num1, \"and\", num2, \"is:\", lcm(num1, num2))"
      ],
      "metadata": {
        "id": "EYfPDqlb_ToU"
      },
      "execution_count": null,
      "outputs": []
    },
    {
      "cell_type": "markdown",
      "source": [
        "## Working With Libraries\n",
        "A **library** is a collection of reusable code, functions, and modules that can be imported into your own programs to perform common tasks or operations. Libraries can save time and effort by providing pre-built functionality, enabling programmers to focus on their specific problem rather than having to reinvent the wheel. They can also help improve the readability and maintainability of your code by abstracting away complex or repetitive tasks.\n",
        "\n",
        "In the context of programming, a library is usually a set of pre-written code that has been organized and packaged together so that it can be easily used by others. Libraries often focus on a particular domain or area of functionality, such as math, random numbers, file I/O, or web scraping.\n",
        "\n",
        "Now, let's discuss how to import libraries and use them in Python code, along with how to get help on using different functions:\n",
        "\n",
        "### Import the library:\n",
        "At the beginning of your Python script or notebook, you'll need to import the library using the `import` keyword followed by the library name. For example, to import the `math` library, you would write `import math`. To import the `random` library, you would write `import random`"
      ],
      "metadata": {
        "id": "Z0RNK7339DKO"
      }
    },
    {
      "cell_type": "code",
      "source": [
        "import math, random # Let's import these libaries for real!"
      ],
      "metadata": {
        "id": "a-j4w9RS9WHr"
      },
      "execution_count": null,
      "outputs": []
    },
    {
      "cell_type": "markdown",
      "source": [
        "### Use functions from the library:\n",
        "After importing the library, you can access its functions by using the library name followed by a dot (.) and the function name. For example, to use the `sqrt` function from the `math` library, you would write:"
      ],
      "metadata": {
        "id": "4STUI9le9eDr"
      }
    },
    {
      "cell_type": "code",
      "source": [
        "# This cell won't work if you've haven't imported math\n",
        "square_root = math.sqrt(16)\n",
        "print(square_root)"
      ],
      "metadata": {
        "colab": {
          "base_uri": "https://localhost:8080/"
        },
        "id": "salPoL4a9dUb",
        "outputId": "597c7beb-2973-4474-8757-90c8d65e9a31"
      },
      "execution_count": null,
      "outputs": [
        {
          "output_type": "stream",
          "name": "stdout",
          "text": [
            "4.0\n"
          ]
        }
      ]
    },
    {
      "cell_type": "markdown",
      "source": [
        "To generate a random integer between 1 and 10 using the random library, you would write:"
      ],
      "metadata": {
        "id": "q13PbBtU91_x"
      }
    },
    {
      "cell_type": "code",
      "source": [
        "# This cell won't work if you've haven't imported random\n",
        "random_number = random.randint(1, 10)\n",
        "print(random_number)"
      ],
      "metadata": {
        "id": "XMF0oZyk93Ch"
      },
      "execution_count": null,
      "outputs": []
    },
    {
      "cell_type": "markdown",
      "source": [
        "## Getting Help\n",
        "Get help on using functions: If you're not sure how to use a particular function or want to learn more about it, you can use the built-in help() function. Simply pass the function name, including the library name, as an argument to help(). For example:"
      ],
      "metadata": {
        "id": "sXM8pMxo-BR3"
      }
    },
    {
      "cell_type": "code",
      "source": [
        "help(math.sqrt)"
      ],
      "metadata": {
        "colab": {
          "base_uri": "https://localhost:8080/"
        },
        "id": "7KPJtoEg-GEv",
        "outputId": "19fa2e1a-1b6c-4325-cfda-8386a5756894"
      },
      "execution_count": null,
      "outputs": [
        {
          "output_type": "stream",
          "name": "stdout",
          "text": [
            "Help on built-in function sqrt in module math:\n",
            "\n",
            "sqrt(x, /)\n",
            "    Return the square root of x.\n",
            "\n"
          ]
        }
      ]
    },
    {
      "cell_type": "code",
      "source": [
        "help(random.randint)"
      ],
      "metadata": {
        "colab": {
          "base_uri": "https://localhost:8080/"
        },
        "id": "n6H6ybql-JJf",
        "outputId": "7ed88901-2e8e-4c0a-b1f0-a24fcb63ad6d"
      },
      "execution_count": null,
      "outputs": [
        {
          "output_type": "stream",
          "name": "stdout",
          "text": [
            "Help on method randint in module random:\n",
            "\n",
            "randint(a, b) method of random.Random instance\n",
            "    Return random integer in range [a, b], including both end points.\n",
            "\n"
          ]
        }
      ]
    },
    {
      "cell_type": "markdown",
      "source": [
        "### Table: Fun With Libaries\n",
        "\n",
        "To give you a sense of what you can \"do\" with Python libraries, here's a list of some common task you can do with popular libaries like `math`, `random`, `date-time`, `os` and `matplotlib`.\n",
        "\n",
        "| Code| Description|\n",
        "| --- | --- |\n",
        "| `import math; math.sqrt(x)` | Python code to get the square root of x |\n",
        "| `import random; random.randint(1, 10)` | Python code to generate a random number from 1 to 10 |\n",
        "| `import random; random.choice(list)` | Python code to choose a random element from a list |\n",
        "| `import random; random.shuffle(list)` | Python code to shuffle the elements of a list |\n",
        "| `import math; math.sin(x)` | Python code to calculate the sin of x |\n",
        "| `import requests; response = requests.get(url); response.content` | Python code to fetch content from a web page |\n",
        "| `import os; os.getcwd()` | Python code to get the current working directory |\n",
        "| `from IPython.display import Image; Image(filename='image.png')` | Python code to display an image in a Jupyter notebook |\n",
        "| `help(math.sqrt)` | Python code to fetch help on how math.sqrt works |"
      ],
      "metadata": {
        "id": "KRpmviBP-uIi"
      }
    },
    {
      "cell_type": "markdown",
      "source": [
        "## Exercises\n",
        "\n",
        "### Exercise 1: Force Sensitivity\n",
        "\n",
        "-   Objective: Write a function `force_sensitivity()` that determines if a person is Force sensitive or not.\n",
        "-   Description: Ask the user to input their midi-chlorian count (a positive integer). If their midi-chlorian count is greater than or equal to 10000, print \"The Force is strong with this one.\" Otherwise, print \"This person is not Force sensitive.\"\n",
        "-   Hint: Use the modulus operator to check if the midi-chlorian count is a positive integer.\n",
        "-   Sample Function Call: `force_sensitivity()`\n",
        "-   Sample Output:\n",
        "\n",
        "```\n",
        "Enter your midi-chlorian count: 12000\n",
        "The Force is strong with this one.\n",
        "\n",
        "```\n"
      ],
      "metadata": {
        "id": "up0cMFehFRFk"
      }
    },
    {
      "cell_type": "code",
      "source": [],
      "metadata": {
        "id": "2gnvtRfFQ77b"
      },
      "execution_count": null,
      "outputs": []
    },
    {
      "cell_type": "markdown",
      "source": [
        "\n",
        "### Exercise 2: Lightsaber Color\n",
        "\n",
        "-   Objective: Write a function `lightsaber_color()` that determines the color of a person's lightsaber based on their personality.\n",
        "\n",
        "-   Description: Ask the user to input their personality type: \"calm\", \"passionate\", or \"wise\". If the user is \"calm\", print \"Blue\". If the user is \"passionate\", print \"Red\". If the user is \"wise\", print \"Green\". If the user inputs anything else, print \"Invalid personality type\".\n",
        "\n",
        "-   Hint: Use conditional statements to check the user's input.\n",
        "\n",
        "-   Sample Function Call: `lightsaber_color()`\n",
        "\n",
        "-   Sample Output:\n",
        "```\n",
        "Enter your personality type: calm\n",
        "Blue\n",
        "```\n",
        "\n"
      ],
      "metadata": {
        "id": "IzgX4oV7Q8GT"
      }
    },
    {
      "cell_type": "code",
      "source": [],
      "metadata": {
        "id": "SDUuHrYYQ-si"
      },
      "execution_count": null,
      "outputs": []
    },
    {
      "cell_type": "markdown",
      "source": [
        "\n",
        "### Exercise 3: Hyperspace Travel\n",
        "\n",
        "-   Objective: Write a function `hyperspace_travel()` that calculates the time it takes to travel through hyperspace.\n",
        "\n",
        "-   Description: Ask the user to input the distance in light years (a positive float). Calculate the time it takes to travel that distance using the formula `time = distance / speed_of_light`. Print the time in seconds.\n",
        "\n",
        "-   Hint: Use the `input()` function to get user input. To get the speed of light you'll need to `from scipy import constants` to import PART of the scipy library. (You can put this at the very top of the code cell). Then, you can use `constants.speed_of_light`\n",
        "\n",
        "-   Sample Function Call: `hyperspace_travel()`\n",
        "\n",
        "-   Sample Output:\n",
        "\n",
        "```\n",
        "Enter the distance in light years: 10.5\n",
        "Time to travel through hyperspace: 3.12683152e+16 seconds.\n",
        "\n",
        "```\n"
      ],
      "metadata": {
        "id": "br1onbC2Q-3z"
      }
    },
    {
      "cell_type": "code",
      "source": [],
      "metadata": {
        "id": "Hy4iLNEsRA-i"
      },
      "execution_count": null,
      "outputs": []
    },
    {
      "cell_type": "markdown",
      "source": [
        "\n",
        "### Exercise 4: Blaster Training\n",
        "\n",
        "-   Objective: Write a function `blaster_training()` that helps someone train their blaster accuracy.\n",
        "\n",
        "-   Description: Ask the user to input the number of shots fired (a positive integer) and the number of hits (a positive integer). Calculate the accuracy percentage using the formula `accuracy = (hits / shots) * 100`. If the accuracy is greater than or equal to 75%, print \"Great job, you're a sharpshooter!\" Otherwise, print \"Keep practicing, your accuracy needs improvement.\"\n",
        "\n",
        "-   Hint: Use the `input()` function to get user input and check to make sure both shots and are non-negative (return an error message otherwise).\n",
        "\n",
        "-   Sample Function Call: `blaster_training()`\n",
        "\n",
        "-   Sample Output:\n",
        "\n",
        "```\n",
        "Enter the number of shots fired: 20\n",
        "Enter the number of hits: 15\n",
        "Accuracy: 75.0%\n",
        "Great job, you're a sharpshooter!\n",
        "\n",
        "```\n",
        "\n"
      ],
      "metadata": {
        "id": "VEU_dgOuRBIT"
      }
    },
    {
      "cell_type": "code",
      "source": [],
      "metadata": {
        "id": "QbKxidyqREWb"
      },
      "execution_count": null,
      "outputs": []
    },
    {
      "cell_type": "markdown",
      "source": [
        "\n",
        "### Exercise 5: Jedi or Sith\n",
        "\n",
        "- Objective: Write a function `jedi_or_sith()` that determines whether someone is more likely to be a Jedi or Sith.\n",
        "- Description: Ask the user to input their alignment: \"light\" or \"dark\". Based on the alignment, return \"Jedi\" for \"light\" and \"Sith\" for \"dark\". For any other input, return \"Unknown\".\n",
        "- Hint: Use conditional statements to check the user's input.\n",
        "- Sample Function Call: `jedi_or_sith()`\n",
        "- Sample Output:\n",
        "\n",
        "```\n",
        "Enter your alignment: light\n",
        "Jedi\n",
        "```\n"
      ],
      "metadata": {
        "id": "FWcz1ti1REfG"
      }
    },
    {
      "cell_type": "code",
      "source": [],
      "metadata": {
        "id": "Jim81WhtRGkj"
      },
      "execution_count": null,
      "outputs": []
    },
    {
      "cell_type": "markdown",
      "source": [
        "\n",
        "### Exercise 6: Jedi Council Meeting\n",
        "\n",
        "-   Objective: Write a function `jedi_council_meeting()` that determines if a Jedi is allowed to attend a council meeting based on their highest achieved rank and lightsaber skills.\n",
        "\n",
        "-   Description: Ask the user to input their highest achieved Jedi rank (e.g., \"Padawan\", \"Knight\", \"Master\"). Then, ask the user to input the number of lightsaber forms they know (an integer). A Jedi is allowed to attend the meeting if their highest achieved rank is either \"Knight\" or \"Master\" and they know at least 5 lightsaber forms. Print \"Allowed to attend\" or \"Not allowed to attend\" based on these conditions.\n",
        "\n",
        "-   Hint: Use a single string variable to store the highest rank. Use conditional statements to evaluate whether the conditions for attending the meeting are met.\n",
        "\n",
        "-   Sample Function Call: `jedi_council_meeting()`\n",
        "\n",
        "-   Sample Output:\n",
        "\n",
        "```\n",
        "\n",
        "    `Enter your highest achieved Jedi rank: Knight\n",
        "    Enter the number of lightsaber forms you know: 6\n",
        "    Not allowed to attend\n",
        "\n",
        "    Enter your highest achieved Jedi rank: Knight\n",
        "    Enter the number of lightsaber forms you know: 7\n",
        "    Allowed to attend\n",
        "\n",
        "```\n"
      ],
      "metadata": {
        "id": "t-R2EthJRGt9"
      }
    },
    {
      "cell_type": "code",
      "source": [],
      "metadata": {
        "id": "BdYQd5CrRJuz"
      },
      "execution_count": null,
      "outputs": []
    },
    {
      "cell_type": "markdown",
      "source": [
        "\n",
        "### Exercise 7: Droid Language Translator (Bonus - Optional)\n",
        "\n",
        "- Objective: Write a function `droid_translator()` that translates a phrase into \"droid language\".\n",
        "- Description: Ask the user to input a phrase. Return the phrase where every vowel is replaced with \"beep\" and every consonant is replaced with \"boop\".\n",
        "- Hint: Use string methods to iterate through the phrase and conditional statements to check if a letter is a vowel or consonant.\n",
        "- Sample Function Call: `droid_translator()`\n",
        "- Sample Output:\n",
        "```\n",
        "Enter a phrase: Hello\n",
        "boopbeepboopboopbeep\n",
        "```"
      ],
      "metadata": {
        "id": "JdhgyGElRJ3C"
      }
    },
    {
      "cell_type": "code",
      "source": [],
      "metadata": {
        "id": "vgPXolY-RKxK"
      },
      "execution_count": null,
      "outputs": []
    },
    {
      "cell_type": "markdown",
      "source": [
        "## Case Study: How Do Computers \"Run\" Programs?\n",
        "When you hit \"run\" on a Jupyter cell, a series of steps take place behind the scenes to execute the code in the cell. Let's break down the process into simpler steps, so it's easier to understand how the computer interprets Python code.\n",
        "\n",
        "1. **Code in the cell.** First, you write the Python code in a Jupyter Notebook cell. The code might include variables, functions, loops, or other programming constructs.\n",
        "Example:\n",
        "\n",
        "```python\n",
        "x = 5\n",
        "y = 7\n",
        "result = x + y\n",
        "print(result)\n",
        "\n",
        "```\n",
        "\n",
        "2. **Running the cell.** When you hit \"run\" (or press Shift + Enter), Jupyter sends the code in the cell to the Python interpreter, which is a special program that understands and processes Python code.\n",
        "\n",
        "3. **Parsing and tokenizing.** The Python interpreter starts by reading the code and breaking it down into smaller pieces called tokens. Tokens are the basic building blocks of the code, like keywords (e.g., print, if, while), variable names, operators, and literals (e.g., numbers or strings). This process is called tokenization.\n",
        "\n",
        "4. **Parsing.** After tokenization, the interpreter checks the syntax of the code to make sure it follows Python's rules. If there are any syntax errors, the interpreter raises an exception, and you'll see an error message in the output. If the syntax is correct, the interpreter moves on to the next step.\n",
        "\n",
        "5. **Compilation.** The Python interpreter then compiles the parsed code into an intermediate format called bytecode. Bytecode is a lower-level representation of your code that's easier for the computer to understand and execute.\n",
        "\n",
        "6. **Execution.** Finally, the Python interpreter executes the bytecode. It processes each instruction in the bytecode one by one and performs the corresponding operations. For example, it might store values in memory, perform calculations, or call functions.\n",
        "\n",
        "In our example, the interpreter would:\n",
        "\n",
        "* Store the value 5 in the variable x.\n",
        "* Store the value 7 in the variable y.\n",
        "* Add the values of x and y, and store the result (12) in the variable result.\n",
        "* Call the print() function to display the value of result.\n",
        "* Output: Once the code has been executed, any output generated by the code (e.g., from print() statements) will be displayed in the Jupyter Notebook cell output area.\n",
        "\n",
        "So, when you hit \"run\" on a Jupyter cell, the computer goes through several steps to interpret and execute your Python code. It reads and checks the code, compiles it into bytecode, and then executes the bytecode step by step to perform the operations you've written in your code. Finally, it displays the output in the Notebook."
      ],
      "metadata": {
        "id": "jIMT2-p_mjb9"
      }
    },
    {
      "cell_type": "markdown",
      "source": [
        "## Review with Quizlet\n",
        "Run the following cell to launch the quizlet review for this chapter."
      ],
      "metadata": {
        "id": "L1Uj5RXxSAHi"
      }
    },
    {
      "cell_type": "code",
      "source": [
        "%%html\n",
        "<iframe src=\"https://quizlet.com/820948652/learn/embed?i=psvlh&x=1jj1\" height=\"600\" width=\"100%\" style=\"border:0\"></iframe>"
      ],
      "metadata": {
        "id": "lALZCKp-SGwk",
        "outputId": "c85ecd01-1482-4946-8e1e-4b990ad71b37",
        "colab": {
          "base_uri": "https://localhost:8080/",
          "height": 622
        }
      },
      "execution_count": null,
      "outputs": [
        {
          "output_type": "display_data",
          "data": {
            "text/plain": [
              "<IPython.core.display.HTML object>"
            ],
            "text/html": [
              "<iframe src=\"https://quizlet.com/820948652/learn/embed?i=psvlh&x=1jj1\" height=\"600\" width=\"100%\" style=\"border:0\"></iframe>\n"
            ]
          },
          "metadata": {}
        }
      ]
    },
    {
      "cell_type": "markdown",
      "source": [
        "## Glossary\n",
        "\n",
        "| Term | Definition |\n",
        "| --- | --- |\n",
        "| Parsing | The analysis of a string of symbols (code or text) to understand its syntactical structure according to formal grammar rules. |\n",
        "| Tokenization | The process of breaking a string sequence into individual pieces, or \"tokens,\" for easier processing or analysis. |\n",
        "| Bytecode | An intermediate, lower-level form of code designed for efficient execution by a software interpreter, like Python's virtual machine. |\n",
        "| Abstraction | A strategy that hides complex details behind a simplified model, exposing only necessary features to manage complexity. |\n",
        "| Procedural programming | A programming paradigm relying on procedure calls which contain a series of computational steps to be executed. |\n",
        "| Object-oriented programming | A paradigm based on \"objects\" containing data (fields) and code (procedures), enabling data modeling around real world concepts. |\n",
        "| Functional programming | A programming paradigm where programs are constructed by applying and composing functions, emphasizing immutability and lack of side effects. |\n",
        "| Python vs C | Python is an interpreted language with dynamic typing emphasizing ease of use. C is a compiled language with static typing emphasizing speed and low-level control|\n",
        "| Python vs Java | Python is an interpreted language with dynamic typing, ease of use of use, and permits many programming paradigms. Java is a hybrid compiled-interpreted language with static tying that is tied to the object-oriented paradigm.|\n",
        "| Primitive data type | Basic, built-in types of data in a programming language, like integers, booleans, and floating point numbers in Python. |\n",
        "| Abstract data type | A high-level data type that defines behavior but not implementation. Implementations are provided by concrete data types. |\n",
        "| API | Set of rules and protocols for building and interacting with software applications, enabling different software systems to communicate. |\n",
        "| Library | A collection of precompiled routines or classes that a program can use, typically brought into a Python program using the `import` statement. |\n",
        "| Conditionals | Statements in programming like the `if` statement in Python, that perform different computations or actions depending on whether a condition evaluates to true or false. |\n",
        "| Ternary Expression | A condensed version of the Python \"if-else\" conditional statement. Syntax: `x if condition else y`. |\n",
        "| Boolean operator | A symbol that represents logical operations in programming, such as AND, OR, and NOT, operating on boolean values (true and false). |"
      ],
      "metadata": {
        "id": "_hEUVQEzUrIG"
      }
    },
    {
      "cell_type": "code",
      "source": [],
      "metadata": {
        "id": "60_sQiOVU3-X"
      },
      "execution_count": null,
      "outputs": []
    }
  ]
}