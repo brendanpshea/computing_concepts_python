{
  "nbformat": 4,
  "nbformat_minor": 0,
  "metadata": {
    "colab": {
      "provenance": [],
      "authorship_tag": "ABX9TyOUjkZw8hVBTszOhSJKIQzR",
      "include_colab_link": true
    },
    "kernelspec": {
      "name": "python3",
      "display_name": "Python 3"
    },
    "language_info": {
      "name": "python"
    },
    "widgets": {
      "application/vnd.jupyter.widget-state+json": {
        "d19b14263f12465eb7e28dbfbdd959a9": {
          "model_module": "@jupyter-widgets/controls",
          "model_name": "VBoxModel",
          "model_module_version": "1.5.0",
          "state": {
            "_dom_classes": [],
            "_model_module": "@jupyter-widgets/controls",
            "_model_module_version": "1.5.0",
            "_model_name": "VBoxModel",
            "_view_count": null,
            "_view_module": "@jupyter-widgets/controls",
            "_view_module_version": "1.5.0",
            "_view_name": "VBoxView",
            "box_style": "",
            "children": [
              "IPY_MODEL_be6d5509089240e39ec73e11f08a2d3a",
              "IPY_MODEL_9d3886f2a32d4902add0a49e45ffcbe6",
              "IPY_MODEL_d89ea14e3f754c7eaf0df44bd8cd8d9b"
            ],
            "layout": "IPY_MODEL_3a7cbd44885b4f5e8423eda789e3422a"
          }
        },
        "be6d5509089240e39ec73e11f08a2d3a": {
          "model_module": "@jupyter-widgets/controls",
          "model_name": "IntProgressModel",
          "model_module_version": "1.5.0",
          "state": {
            "_dom_classes": [],
            "_model_module": "@jupyter-widgets/controls",
            "_model_module_version": "1.5.0",
            "_model_name": "IntProgressModel",
            "_view_count": null,
            "_view_module": "@jupyter-widgets/controls",
            "_view_module_version": "1.5.0",
            "_view_name": "ProgressView",
            "bar_style": "",
            "description": "Progress:",
            "description_tooltip": null,
            "layout": "IPY_MODEL_29ea9ac6c989400a85b6bbea0e55f445",
            "max": 45,
            "min": 0,
            "orientation": "horizontal",
            "style": "IPY_MODEL_b18c23f0a6a64f00b9f058e14ec0a37b",
            "value": 1
          }
        },
        "9d3886f2a32d4902add0a49e45ffcbe6": {
          "model_module": "@jupyter-widgets/controls",
          "model_name": "HTMLModel",
          "model_module_version": "1.5.0",
          "state": {
            "_dom_classes": [],
            "_model_module": "@jupyter-widgets/controls",
            "_model_module_version": "1.5.0",
            "_model_name": "HTMLModel",
            "_view_count": null,
            "_view_module": "@jupyter-widgets/controls",
            "_view_module_version": "1.5.0",
            "_view_name": "HTMLView",
            "description": "",
            "description_tooltip": null,
            "layout": "IPY_MODEL_28c51049099b4eec8ccfb3a6298aa0f0",
            "placeholder": "​",
            "style": "IPY_MODEL_6f22754ca39640d087b02d284f91351a",
            "value": "<h3>Question 1 of 45:</h3><p>Show all books in the table.</p><h3>Database Schema:</h3><ul><li><b>Authors</b> (AuthorID INTEGER, FirstName VARCHAR(50), LastName VARCHAR(50), BirthYear INTEGER, DeathYear INTEGER, Nationality VARCHAR(50))</li><li><b>Books</b> (BookID INTEGER, Title VARCHAR(100), AuthorID INTEGER, PublicationYear INTEGER, Genre VARCHAR(50), PageCount INTEGER)</li></ul>"
          }
        },
        "d89ea14e3f754c7eaf0df44bd8cd8d9b": {
          "model_module": "@jupyter-widgets/controls",
          "model_name": "TabModel",
          "model_module_version": "1.5.0",
          "state": {
            "_dom_classes": [],
            "_model_module": "@jupyter-widgets/controls",
            "_model_module_version": "1.5.0",
            "_model_name": "TabModel",
            "_titles": {
              "0": "Query",
              "1": "Results"
            },
            "_view_count": null,
            "_view_module": "@jupyter-widgets/controls",
            "_view_module_version": "1.5.0",
            "_view_name": "TabView",
            "box_style": "",
            "children": [
              "IPY_MODEL_26b5aa59b3a64c7b9ebba8b30b2e884e",
              "IPY_MODEL_fd171d112cce451aa2db765be17f6fc9"
            ],
            "layout": "IPY_MODEL_4499db6d7c934adb8a67084dba389ae2",
            "selected_index": 0
          }
        },
        "3a7cbd44885b4f5e8423eda789e3422a": {
          "model_module": "@jupyter-widgets/base",
          "model_name": "LayoutModel",
          "model_module_version": "1.2.0",
          "state": {
            "_model_module": "@jupyter-widgets/base",
            "_model_module_version": "1.2.0",
            "_model_name": "LayoutModel",
            "_view_count": null,
            "_view_module": "@jupyter-widgets/base",
            "_view_module_version": "1.2.0",
            "_view_name": "LayoutView",
            "align_content": null,
            "align_items": null,
            "align_self": null,
            "border": null,
            "bottom": null,
            "display": null,
            "flex": null,
            "flex_flow": null,
            "grid_area": null,
            "grid_auto_columns": null,
            "grid_auto_flow": null,
            "grid_auto_rows": null,
            "grid_column": null,
            "grid_gap": null,
            "grid_row": null,
            "grid_template_areas": null,
            "grid_template_columns": null,
            "grid_template_rows": null,
            "height": null,
            "justify_content": null,
            "justify_items": null,
            "left": null,
            "margin": null,
            "max_height": null,
            "max_width": null,
            "min_height": null,
            "min_width": null,
            "object_fit": null,
            "object_position": null,
            "order": null,
            "overflow": null,
            "overflow_x": null,
            "overflow_y": null,
            "padding": null,
            "right": null,
            "top": null,
            "visibility": null,
            "width": null
          }
        },
        "29ea9ac6c989400a85b6bbea0e55f445": {
          "model_module": "@jupyter-widgets/base",
          "model_name": "LayoutModel",
          "model_module_version": "1.2.0",
          "state": {
            "_model_module": "@jupyter-widgets/base",
            "_model_module_version": "1.2.0",
            "_model_name": "LayoutModel",
            "_view_count": null,
            "_view_module": "@jupyter-widgets/base",
            "_view_module_version": "1.2.0",
            "_view_name": "LayoutView",
            "align_content": null,
            "align_items": null,
            "align_self": null,
            "border": null,
            "bottom": null,
            "display": null,
            "flex": null,
            "flex_flow": null,
            "grid_area": null,
            "grid_auto_columns": null,
            "grid_auto_flow": null,
            "grid_auto_rows": null,
            "grid_column": null,
            "grid_gap": null,
            "grid_row": null,
            "grid_template_areas": null,
            "grid_template_columns": null,
            "grid_template_rows": null,
            "height": null,
            "justify_content": null,
            "justify_items": null,
            "left": null,
            "margin": null,
            "max_height": null,
            "max_width": null,
            "min_height": null,
            "min_width": null,
            "object_fit": null,
            "object_position": null,
            "order": null,
            "overflow": null,
            "overflow_x": null,
            "overflow_y": null,
            "padding": null,
            "right": null,
            "top": null,
            "visibility": null,
            "width": null
          }
        },
        "b18c23f0a6a64f00b9f058e14ec0a37b": {
          "model_module": "@jupyter-widgets/controls",
          "model_name": "ProgressStyleModel",
          "model_module_version": "1.5.0",
          "state": {
            "_model_module": "@jupyter-widgets/controls",
            "_model_module_version": "1.5.0",
            "_model_name": "ProgressStyleModel",
            "_view_count": null,
            "_view_module": "@jupyter-widgets/base",
            "_view_module_version": "1.2.0",
            "_view_name": "StyleView",
            "bar_color": null,
            "description_width": ""
          }
        },
        "28c51049099b4eec8ccfb3a6298aa0f0": {
          "model_module": "@jupyter-widgets/base",
          "model_name": "LayoutModel",
          "model_module_version": "1.2.0",
          "state": {
            "_model_module": "@jupyter-widgets/base",
            "_model_module_version": "1.2.0",
            "_model_name": "LayoutModel",
            "_view_count": null,
            "_view_module": "@jupyter-widgets/base",
            "_view_module_version": "1.2.0",
            "_view_name": "LayoutView",
            "align_content": null,
            "align_items": null,
            "align_self": null,
            "border": null,
            "bottom": null,
            "display": null,
            "flex": null,
            "flex_flow": null,
            "grid_area": null,
            "grid_auto_columns": null,
            "grid_auto_flow": null,
            "grid_auto_rows": null,
            "grid_column": null,
            "grid_gap": null,
            "grid_row": null,
            "grid_template_areas": null,
            "grid_template_columns": null,
            "grid_template_rows": null,
            "height": null,
            "justify_content": null,
            "justify_items": null,
            "left": null,
            "margin": null,
            "max_height": null,
            "max_width": null,
            "min_height": null,
            "min_width": null,
            "object_fit": null,
            "object_position": null,
            "order": null,
            "overflow": null,
            "overflow_x": null,
            "overflow_y": null,
            "padding": null,
            "right": null,
            "top": null,
            "visibility": null,
            "width": null
          }
        },
        "6f22754ca39640d087b02d284f91351a": {
          "model_module": "@jupyter-widgets/controls",
          "model_name": "DescriptionStyleModel",
          "model_module_version": "1.5.0",
          "state": {
            "_model_module": "@jupyter-widgets/controls",
            "_model_module_version": "1.5.0",
            "_model_name": "DescriptionStyleModel",
            "_view_count": null,
            "_view_module": "@jupyter-widgets/base",
            "_view_module_version": "1.2.0",
            "_view_name": "StyleView",
            "description_width": ""
          }
        },
        "26b5aa59b3a64c7b9ebba8b30b2e884e": {
          "model_module": "@jupyter-widgets/controls",
          "model_name": "VBoxModel",
          "model_module_version": "1.5.0",
          "state": {
            "_dom_classes": [],
            "_model_module": "@jupyter-widgets/controls",
            "_model_module_version": "1.5.0",
            "_model_name": "VBoxModel",
            "_view_count": null,
            "_view_module": "@jupyter-widgets/controls",
            "_view_module_version": "1.5.0",
            "_view_name": "VBoxView",
            "box_style": "",
            "children": [
              "IPY_MODEL_9ab4f81f70ce43f6908802ba02565da0",
              "IPY_MODEL_907425e6e2e14c53a5df227722065c21",
              "IPY_MODEL_c8fb2f99f868422089dc7eca1b87da94"
            ],
            "layout": "IPY_MODEL_ee99120cf7f44f798b2359a742f9a09a"
          }
        },
        "fd171d112cce451aa2db765be17f6fc9": {
          "model_module": "@jupyter-widgets/controls",
          "model_name": "VBoxModel",
          "model_module_version": "1.5.0",
          "state": {
            "_dom_classes": [],
            "_model_module": "@jupyter-widgets/controls",
            "_model_module_version": "1.5.0",
            "_model_name": "VBoxModel",
            "_view_count": null,
            "_view_module": "@jupyter-widgets/controls",
            "_view_module_version": "1.5.0",
            "_view_name": "VBoxView",
            "box_style": "",
            "children": [
              "IPY_MODEL_949017c608c14b4f93002aea0893865c",
              "IPY_MODEL_6dbb86616ca24daeb4afc35bc70db952"
            ],
            "layout": "IPY_MODEL_ae4a7bb64e034c68a3320462c9be29e9"
          }
        },
        "4499db6d7c934adb8a67084dba389ae2": {
          "model_module": "@jupyter-widgets/base",
          "model_name": "LayoutModel",
          "model_module_version": "1.2.0",
          "state": {
            "_model_module": "@jupyter-widgets/base",
            "_model_module_version": "1.2.0",
            "_model_name": "LayoutModel",
            "_view_count": null,
            "_view_module": "@jupyter-widgets/base",
            "_view_module_version": "1.2.0",
            "_view_name": "LayoutView",
            "align_content": null,
            "align_items": null,
            "align_self": null,
            "border": null,
            "bottom": null,
            "display": null,
            "flex": null,
            "flex_flow": null,
            "grid_area": null,
            "grid_auto_columns": null,
            "grid_auto_flow": null,
            "grid_auto_rows": null,
            "grid_column": null,
            "grid_gap": null,
            "grid_row": null,
            "grid_template_areas": null,
            "grid_template_columns": null,
            "grid_template_rows": null,
            "height": null,
            "justify_content": null,
            "justify_items": null,
            "left": null,
            "margin": null,
            "max_height": null,
            "max_width": null,
            "min_height": null,
            "min_width": null,
            "object_fit": null,
            "object_position": null,
            "order": null,
            "overflow": null,
            "overflow_x": null,
            "overflow_y": null,
            "padding": null,
            "right": null,
            "top": null,
            "visibility": null,
            "width": null
          }
        },
        "9ab4f81f70ce43f6908802ba02565da0": {
          "model_module": "@jupyter-widgets/controls",
          "model_name": "TextareaModel",
          "model_module_version": "1.5.0",
          "state": {
            "_dom_classes": [],
            "_model_module": "@jupyter-widgets/controls",
            "_model_module_version": "1.5.0",
            "_model_name": "TextareaModel",
            "_view_count": null,
            "_view_module": "@jupyter-widgets/controls",
            "_view_module_version": "1.5.0",
            "_view_name": "TextareaView",
            "continuous_update": true,
            "description": "",
            "description_tooltip": null,
            "disabled": false,
            "layout": "IPY_MODEL_b474d9966b25440fa5c691103120d08c",
            "placeholder": "Type your SQL query here...",
            "rows": null,
            "style": "IPY_MODEL_aaff2c737e8f4eae98434259553f71fa",
            "value": ""
          }
        },
        "907425e6e2e14c53a5df227722065c21": {
          "model_module": "@jupyter-widgets/controls",
          "model_name": "HBoxModel",
          "model_module_version": "1.5.0",
          "state": {
            "_dom_classes": [],
            "_model_module": "@jupyter-widgets/controls",
            "_model_module_version": "1.5.0",
            "_model_name": "HBoxModel",
            "_view_count": null,
            "_view_module": "@jupyter-widgets/controls",
            "_view_module_version": "1.5.0",
            "_view_name": "HBoxView",
            "box_style": "",
            "children": [
              "IPY_MODEL_f24edeeb990443e6a7721d3b7c76abac",
              "IPY_MODEL_32cdf7c432c84131b753deb7ac2f5d90",
              "IPY_MODEL_59760de2587d44a4a058d96de7e0bdfb"
            ],
            "layout": "IPY_MODEL_df8e66379377482a9e3d9797cc1103aa"
          }
        },
        "c8fb2f99f868422089dc7eca1b87da94": {
          "model_module": "@jupyter-widgets/controls",
          "model_name": "HBoxModel",
          "model_module_version": "1.5.0",
          "state": {
            "_dom_classes": [],
            "_model_module": "@jupyter-widgets/controls",
            "_model_module_version": "1.5.0",
            "_model_name": "HBoxModel",
            "_view_count": null,
            "_view_module": "@jupyter-widgets/controls",
            "_view_module_version": "1.5.0",
            "_view_name": "HBoxView",
            "box_style": "",
            "children": [
              "IPY_MODEL_b16512d5fd724c13b4fec0f472b06599",
              "IPY_MODEL_98f396a707b446248bc33c4928c5a7df",
              "IPY_MODEL_b03018266b494fc98f652ce2ab766187"
            ],
            "layout": "IPY_MODEL_8d46d08322984c108747585adc3aa777"
          }
        },
        "ee99120cf7f44f798b2359a742f9a09a": {
          "model_module": "@jupyter-widgets/base",
          "model_name": "LayoutModel",
          "model_module_version": "1.2.0",
          "state": {
            "_model_module": "@jupyter-widgets/base",
            "_model_module_version": "1.2.0",
            "_model_name": "LayoutModel",
            "_view_count": null,
            "_view_module": "@jupyter-widgets/base",
            "_view_module_version": "1.2.0",
            "_view_name": "LayoutView",
            "align_content": null,
            "align_items": null,
            "align_self": null,
            "border": null,
            "bottom": null,
            "display": null,
            "flex": null,
            "flex_flow": null,
            "grid_area": null,
            "grid_auto_columns": null,
            "grid_auto_flow": null,
            "grid_auto_rows": null,
            "grid_column": null,
            "grid_gap": null,
            "grid_row": null,
            "grid_template_areas": null,
            "grid_template_columns": null,
            "grid_template_rows": null,
            "height": null,
            "justify_content": null,
            "justify_items": null,
            "left": null,
            "margin": null,
            "max_height": null,
            "max_width": null,
            "min_height": null,
            "min_width": null,
            "object_fit": null,
            "object_position": null,
            "order": null,
            "overflow": null,
            "overflow_x": null,
            "overflow_y": null,
            "padding": null,
            "right": null,
            "top": null,
            "visibility": null,
            "width": null
          }
        },
        "949017c608c14b4f93002aea0893865c": {
          "model_module": "@jupyter-widgets/controls",
          "model_name": "HTMLModel",
          "model_module_version": "1.5.0",
          "state": {
            "_dom_classes": [],
            "_model_module": "@jupyter-widgets/controls",
            "_model_module_version": "1.5.0",
            "_model_name": "HTMLModel",
            "_view_count": null,
            "_view_module": "@jupyter-widgets/controls",
            "_view_module_version": "1.5.0",
            "_view_name": "HTMLView",
            "description": "",
            "description_tooltip": null,
            "layout": "IPY_MODEL_a442ff64f2584edfa7b94476b64a8fad",
            "placeholder": "​",
            "style": "IPY_MODEL_ceae041993d9497986522118cf2c772d",
            "value": ""
          }
        },
        "6dbb86616ca24daeb4afc35bc70db952": {
          "model_module": "@jupyter-widgets/controls",
          "model_name": "HBoxModel",
          "model_module_version": "1.5.0",
          "state": {
            "_dom_classes": [],
            "_model_module": "@jupyter-widgets/controls",
            "_model_module_version": "1.5.0",
            "_model_name": "HBoxModel",
            "_view_count": null,
            "_view_module": "@jupyter-widgets/controls",
            "_view_module_version": "1.5.0",
            "_view_name": "HBoxView",
            "box_style": "",
            "children": [
              "IPY_MODEL_aecf39a71cc342929e584ccc1edf40cb",
              "IPY_MODEL_4542f373812648ec8a834816f7d59f3b"
            ],
            "layout": "IPY_MODEL_aae956eb1eb14d48a75a279f33c56c5b"
          }
        },
        "ae4a7bb64e034c68a3320462c9be29e9": {
          "model_module": "@jupyter-widgets/base",
          "model_name": "LayoutModel",
          "model_module_version": "1.2.0",
          "state": {
            "_model_module": "@jupyter-widgets/base",
            "_model_module_version": "1.2.0",
            "_model_name": "LayoutModel",
            "_view_count": null,
            "_view_module": "@jupyter-widgets/base",
            "_view_module_version": "1.2.0",
            "_view_name": "LayoutView",
            "align_content": null,
            "align_items": null,
            "align_self": null,
            "border": null,
            "bottom": null,
            "display": null,
            "flex": null,
            "flex_flow": null,
            "grid_area": null,
            "grid_auto_columns": null,
            "grid_auto_flow": null,
            "grid_auto_rows": null,
            "grid_column": null,
            "grid_gap": null,
            "grid_row": null,
            "grid_template_areas": null,
            "grid_template_columns": null,
            "grid_template_rows": null,
            "height": null,
            "justify_content": null,
            "justify_items": null,
            "left": null,
            "margin": null,
            "max_height": null,
            "max_width": null,
            "min_height": null,
            "min_width": null,
            "object_fit": null,
            "object_position": null,
            "order": null,
            "overflow": null,
            "overflow_x": null,
            "overflow_y": null,
            "padding": null,
            "right": null,
            "top": null,
            "visibility": null,
            "width": null
          }
        },
        "b474d9966b25440fa5c691103120d08c": {
          "model_module": "@jupyter-widgets/base",
          "model_name": "LayoutModel",
          "model_module_version": "1.2.0",
          "state": {
            "_model_module": "@jupyter-widgets/base",
            "_model_module_version": "1.2.0",
            "_model_name": "LayoutModel",
            "_view_count": null,
            "_view_module": "@jupyter-widgets/base",
            "_view_module_version": "1.2.0",
            "_view_name": "LayoutView",
            "align_content": null,
            "align_items": null,
            "align_self": null,
            "border": null,
            "bottom": null,
            "display": null,
            "flex": null,
            "flex_flow": null,
            "grid_area": null,
            "grid_auto_columns": null,
            "grid_auto_flow": null,
            "grid_auto_rows": null,
            "grid_column": null,
            "grid_gap": null,
            "grid_row": null,
            "grid_template_areas": null,
            "grid_template_columns": null,
            "grid_template_rows": null,
            "height": "150px",
            "justify_content": null,
            "justify_items": null,
            "left": null,
            "margin": null,
            "max_height": null,
            "max_width": null,
            "min_height": null,
            "min_width": null,
            "object_fit": null,
            "object_position": null,
            "order": null,
            "overflow": null,
            "overflow_x": null,
            "overflow_y": null,
            "padding": null,
            "right": null,
            "top": null,
            "visibility": null,
            "width": "100%"
          }
        },
        "aaff2c737e8f4eae98434259553f71fa": {
          "model_module": "@jupyter-widgets/controls",
          "model_name": "DescriptionStyleModel",
          "model_module_version": "1.5.0",
          "state": {
            "_model_module": "@jupyter-widgets/controls",
            "_model_module_version": "1.5.0",
            "_model_name": "DescriptionStyleModel",
            "_view_count": null,
            "_view_module": "@jupyter-widgets/base",
            "_view_module_version": "1.2.0",
            "_view_name": "StyleView",
            "description_width": ""
          }
        },
        "f24edeeb990443e6a7721d3b7c76abac": {
          "model_module": "@jupyter-widgets/controls",
          "model_name": "ButtonModel",
          "model_module_version": "1.5.0",
          "state": {
            "_dom_classes": [],
            "_model_module": "@jupyter-widgets/controls",
            "_model_module_version": "1.5.0",
            "_model_name": "ButtonModel",
            "_view_count": null,
            "_view_module": "@jupyter-widgets/controls",
            "_view_module_version": "1.5.0",
            "_view_name": "ButtonView",
            "button_style": "success",
            "description": "Submit",
            "disabled": false,
            "icon": "",
            "layout": "IPY_MODEL_ca0ee8d505ff4cefbc55550d811d452a",
            "style": "IPY_MODEL_5ade94dfee7a4970ba995475badfd790",
            "tooltip": ""
          }
        },
        "32cdf7c432c84131b753deb7ac2f5d90": {
          "model_module": "@jupyter-widgets/controls",
          "model_name": "ButtonModel",
          "model_module_version": "1.5.0",
          "state": {
            "_dom_classes": [],
            "_model_module": "@jupyter-widgets/controls",
            "_model_module_version": "1.5.0",
            "_model_name": "ButtonModel",
            "_view_count": null,
            "_view_module": "@jupyter-widgets/controls",
            "_view_module_version": "1.5.0",
            "_view_name": "ButtonView",
            "button_style": "warning",
            "description": "Clear",
            "disabled": false,
            "icon": "",
            "layout": "IPY_MODEL_65e3ad12a10f4e2999938c4fb384e78f",
            "style": "IPY_MODEL_63f5fba8455b40edae11f8202b5fd7e7",
            "tooltip": ""
          }
        },
        "59760de2587d44a4a058d96de7e0bdfb": {
          "model_module": "@jupyter-widgets/controls",
          "model_name": "ButtonModel",
          "model_module_version": "1.5.0",
          "state": {
            "_dom_classes": [],
            "_model_module": "@jupyter-widgets/controls",
            "_model_module_version": "1.5.0",
            "_model_name": "ButtonModel",
            "_view_count": null,
            "_view_module": "@jupyter-widgets/controls",
            "_view_module_version": "1.5.0",
            "_view_name": "ButtonView",
            "button_style": "info",
            "description": "Hint",
            "disabled": false,
            "icon": "",
            "layout": "IPY_MODEL_150f12803f8844bda5e538ad1256639a",
            "style": "IPY_MODEL_d04c1bab99e74fb98cf897d602564450",
            "tooltip": ""
          }
        },
        "df8e66379377482a9e3d9797cc1103aa": {
          "model_module": "@jupyter-widgets/base",
          "model_name": "LayoutModel",
          "model_module_version": "1.2.0",
          "state": {
            "_model_module": "@jupyter-widgets/base",
            "_model_module_version": "1.2.0",
            "_model_name": "LayoutModel",
            "_view_count": null,
            "_view_module": "@jupyter-widgets/base",
            "_view_module_version": "1.2.0",
            "_view_name": "LayoutView",
            "align_content": null,
            "align_items": null,
            "align_self": null,
            "border": null,
            "bottom": null,
            "display": null,
            "flex": null,
            "flex_flow": null,
            "grid_area": null,
            "grid_auto_columns": null,
            "grid_auto_flow": null,
            "grid_auto_rows": null,
            "grid_column": null,
            "grid_gap": null,
            "grid_row": null,
            "grid_template_areas": null,
            "grid_template_columns": null,
            "grid_template_rows": null,
            "height": null,
            "justify_content": null,
            "justify_items": null,
            "left": null,
            "margin": null,
            "max_height": null,
            "max_width": null,
            "min_height": null,
            "min_width": null,
            "object_fit": null,
            "object_position": null,
            "order": null,
            "overflow": null,
            "overflow_x": null,
            "overflow_y": null,
            "padding": null,
            "right": null,
            "top": null,
            "visibility": null,
            "width": null
          }
        },
        "b16512d5fd724c13b4fec0f472b06599": {
          "model_module": "@jupyter-widgets/controls",
          "model_name": "LabelModel",
          "model_module_version": "1.5.0",
          "state": {
            "_dom_classes": [],
            "_model_module": "@jupyter-widgets/controls",
            "_model_module_version": "1.5.0",
            "_model_name": "LabelModel",
            "_view_count": null,
            "_view_module": "@jupyter-widgets/controls",
            "_view_module_version": "1.5.0",
            "_view_name": "LabelView",
            "description": "",
            "description_tooltip": null,
            "layout": "IPY_MODEL_711d43e525b04249a534fd07d820b2cb",
            "placeholder": "​",
            "style": "IPY_MODEL_b1e15180adab44ef83d5cdd0f444cd2b",
            "value": "Go to question:"
          }
        },
        "98f396a707b446248bc33c4928c5a7df": {
          "model_module": "@jupyter-widgets/controls",
          "model_name": "IntTextModel",
          "model_module_version": "1.5.0",
          "state": {
            "_dom_classes": [],
            "_model_module": "@jupyter-widgets/controls",
            "_model_module_version": "1.5.0",
            "_model_name": "IntTextModel",
            "_view_count": null,
            "_view_module": "@jupyter-widgets/controls",
            "_view_module_version": "1.5.0",
            "_view_name": "IntTextView",
            "continuous_update": false,
            "description": "",
            "description_tooltip": null,
            "disabled": false,
            "layout": "IPY_MODEL_85167ef8749649d4858a4d5f7ea821ce",
            "step": 1,
            "style": "IPY_MODEL_afd085e6dcff499784a98954f7752b7d",
            "value": 1
          }
        },
        "b03018266b494fc98f652ce2ab766187": {
          "model_module": "@jupyter-widgets/controls",
          "model_name": "ButtonModel",
          "model_module_version": "1.5.0",
          "state": {
            "_dom_classes": [],
            "_model_module": "@jupyter-widgets/controls",
            "_model_module_version": "1.5.0",
            "_model_name": "ButtonModel",
            "_view_count": null,
            "_view_module": "@jupyter-widgets/controls",
            "_view_module_version": "1.5.0",
            "_view_name": "ButtonView",
            "button_style": "info",
            "description": "Skip to",
            "disabled": false,
            "icon": "",
            "layout": "IPY_MODEL_e33a5d03864e46adb8e41ff0b7d694ab",
            "style": "IPY_MODEL_d197abd0017e4e10883963b33accc28c",
            "tooltip": ""
          }
        },
        "8d46d08322984c108747585adc3aa777": {
          "model_module": "@jupyter-widgets/base",
          "model_name": "LayoutModel",
          "model_module_version": "1.2.0",
          "state": {
            "_model_module": "@jupyter-widgets/base",
            "_model_module_version": "1.2.0",
            "_model_name": "LayoutModel",
            "_view_count": null,
            "_view_module": "@jupyter-widgets/base",
            "_view_module_version": "1.2.0",
            "_view_name": "LayoutView",
            "align_content": null,
            "align_items": null,
            "align_self": null,
            "border": null,
            "bottom": null,
            "display": null,
            "flex": null,
            "flex_flow": null,
            "grid_area": null,
            "grid_auto_columns": null,
            "grid_auto_flow": null,
            "grid_auto_rows": null,
            "grid_column": null,
            "grid_gap": null,
            "grid_row": null,
            "grid_template_areas": null,
            "grid_template_columns": null,
            "grid_template_rows": null,
            "height": null,
            "justify_content": null,
            "justify_items": null,
            "left": null,
            "margin": null,
            "max_height": null,
            "max_width": null,
            "min_height": null,
            "min_width": null,
            "object_fit": null,
            "object_position": null,
            "order": null,
            "overflow": null,
            "overflow_x": null,
            "overflow_y": null,
            "padding": null,
            "right": null,
            "top": null,
            "visibility": null,
            "width": null
          }
        },
        "a442ff64f2584edfa7b94476b64a8fad": {
          "model_module": "@jupyter-widgets/base",
          "model_name": "LayoutModel",
          "model_module_version": "1.2.0",
          "state": {
            "_model_module": "@jupyter-widgets/base",
            "_model_module_version": "1.2.0",
            "_model_name": "LayoutModel",
            "_view_count": null,
            "_view_module": "@jupyter-widgets/base",
            "_view_module_version": "1.2.0",
            "_view_name": "LayoutView",
            "align_content": null,
            "align_items": null,
            "align_self": null,
            "border": null,
            "bottom": null,
            "display": null,
            "flex": null,
            "flex_flow": null,
            "grid_area": null,
            "grid_auto_columns": null,
            "grid_auto_flow": null,
            "grid_auto_rows": null,
            "grid_column": null,
            "grid_gap": null,
            "grid_row": null,
            "grid_template_areas": null,
            "grid_template_columns": null,
            "grid_template_rows": null,
            "height": null,
            "justify_content": null,
            "justify_items": null,
            "left": null,
            "margin": null,
            "max_height": null,
            "max_width": null,
            "min_height": null,
            "min_width": null,
            "object_fit": null,
            "object_position": null,
            "order": null,
            "overflow": null,
            "overflow_x": null,
            "overflow_y": null,
            "padding": null,
            "right": null,
            "top": null,
            "visibility": null,
            "width": null
          }
        },
        "ceae041993d9497986522118cf2c772d": {
          "model_module": "@jupyter-widgets/controls",
          "model_name": "DescriptionStyleModel",
          "model_module_version": "1.5.0",
          "state": {
            "_model_module": "@jupyter-widgets/controls",
            "_model_module_version": "1.5.0",
            "_model_name": "DescriptionStyleModel",
            "_view_count": null,
            "_view_module": "@jupyter-widgets/base",
            "_view_module_version": "1.2.0",
            "_view_name": "StyleView",
            "description_width": ""
          }
        },
        "aecf39a71cc342929e584ccc1edf40cb": {
          "model_module": "@jupyter-widgets/controls",
          "model_name": "ButtonModel",
          "model_module_version": "1.5.0",
          "state": {
            "_dom_classes": [],
            "_model_module": "@jupyter-widgets/controls",
            "_model_module_version": "1.5.0",
            "_model_name": "ButtonModel",
            "_view_count": null,
            "_view_module": "@jupyter-widgets/controls",
            "_view_module_version": "1.5.0",
            "_view_name": "ButtonView",
            "button_style": "warning",
            "description": "Try Again",
            "disabled": false,
            "icon": "",
            "layout": "IPY_MODEL_c13b16cf06cb470da84aa38aac7a844f",
            "style": "IPY_MODEL_5bf6e79790524ef89d89c7b2c0443aef",
            "tooltip": ""
          }
        },
        "4542f373812648ec8a834816f7d59f3b": {
          "model_module": "@jupyter-widgets/controls",
          "model_name": "ButtonModel",
          "model_module_version": "1.5.0",
          "state": {
            "_dom_classes": [],
            "_model_module": "@jupyter-widgets/controls",
            "_model_module_version": "1.5.0",
            "_model_name": "ButtonModel",
            "_view_count": null,
            "_view_module": "@jupyter-widgets/controls",
            "_view_module_version": "1.5.0",
            "_view_name": "ButtonView",
            "button_style": "info",
            "description": "Next Question",
            "disabled": false,
            "icon": "",
            "layout": "IPY_MODEL_c8024bf4e32d4ea8828b39ff3c0540f5",
            "style": "IPY_MODEL_b0401d3c6c9140668221944c7f8098bc",
            "tooltip": ""
          }
        },
        "aae956eb1eb14d48a75a279f33c56c5b": {
          "model_module": "@jupyter-widgets/base",
          "model_name": "LayoutModel",
          "model_module_version": "1.2.0",
          "state": {
            "_model_module": "@jupyter-widgets/base",
            "_model_module_version": "1.2.0",
            "_model_name": "LayoutModel",
            "_view_count": null,
            "_view_module": "@jupyter-widgets/base",
            "_view_module_version": "1.2.0",
            "_view_name": "LayoutView",
            "align_content": null,
            "align_items": null,
            "align_self": null,
            "border": null,
            "bottom": null,
            "display": null,
            "flex": null,
            "flex_flow": null,
            "grid_area": null,
            "grid_auto_columns": null,
            "grid_auto_flow": null,
            "grid_auto_rows": null,
            "grid_column": null,
            "grid_gap": null,
            "grid_row": null,
            "grid_template_areas": null,
            "grid_template_columns": null,
            "grid_template_rows": null,
            "height": null,
            "justify_content": null,
            "justify_items": null,
            "left": null,
            "margin": null,
            "max_height": null,
            "max_width": null,
            "min_height": null,
            "min_width": null,
            "object_fit": null,
            "object_position": null,
            "order": null,
            "overflow": null,
            "overflow_x": null,
            "overflow_y": null,
            "padding": null,
            "right": null,
            "top": null,
            "visibility": null,
            "width": null
          }
        },
        "ca0ee8d505ff4cefbc55550d811d452a": {
          "model_module": "@jupyter-widgets/base",
          "model_name": "LayoutModel",
          "model_module_version": "1.2.0",
          "state": {
            "_model_module": "@jupyter-widgets/base",
            "_model_module_version": "1.2.0",
            "_model_name": "LayoutModel",
            "_view_count": null,
            "_view_module": "@jupyter-widgets/base",
            "_view_module_version": "1.2.0",
            "_view_name": "LayoutView",
            "align_content": null,
            "align_items": null,
            "align_self": null,
            "border": null,
            "bottom": null,
            "display": null,
            "flex": null,
            "flex_flow": null,
            "grid_area": null,
            "grid_auto_columns": null,
            "grid_auto_flow": null,
            "grid_auto_rows": null,
            "grid_column": null,
            "grid_gap": null,
            "grid_row": null,
            "grid_template_areas": null,
            "grid_template_columns": null,
            "grid_template_rows": null,
            "height": null,
            "justify_content": null,
            "justify_items": null,
            "left": null,
            "margin": null,
            "max_height": null,
            "max_width": null,
            "min_height": null,
            "min_width": null,
            "object_fit": null,
            "object_position": null,
            "order": null,
            "overflow": null,
            "overflow_x": null,
            "overflow_y": null,
            "padding": null,
            "right": null,
            "top": null,
            "visibility": null,
            "width": null
          }
        },
        "5ade94dfee7a4970ba995475badfd790": {
          "model_module": "@jupyter-widgets/controls",
          "model_name": "ButtonStyleModel",
          "model_module_version": "1.5.0",
          "state": {
            "_model_module": "@jupyter-widgets/controls",
            "_model_module_version": "1.5.0",
            "_model_name": "ButtonStyleModel",
            "_view_count": null,
            "_view_module": "@jupyter-widgets/base",
            "_view_module_version": "1.2.0",
            "_view_name": "StyleView",
            "button_color": null,
            "font_weight": ""
          }
        },
        "65e3ad12a10f4e2999938c4fb384e78f": {
          "model_module": "@jupyter-widgets/base",
          "model_name": "LayoutModel",
          "model_module_version": "1.2.0",
          "state": {
            "_model_module": "@jupyter-widgets/base",
            "_model_module_version": "1.2.0",
            "_model_name": "LayoutModel",
            "_view_count": null,
            "_view_module": "@jupyter-widgets/base",
            "_view_module_version": "1.2.0",
            "_view_name": "LayoutView",
            "align_content": null,
            "align_items": null,
            "align_self": null,
            "border": null,
            "bottom": null,
            "display": null,
            "flex": null,
            "flex_flow": null,
            "grid_area": null,
            "grid_auto_columns": null,
            "grid_auto_flow": null,
            "grid_auto_rows": null,
            "grid_column": null,
            "grid_gap": null,
            "grid_row": null,
            "grid_template_areas": null,
            "grid_template_columns": null,
            "grid_template_rows": null,
            "height": null,
            "justify_content": null,
            "justify_items": null,
            "left": null,
            "margin": null,
            "max_height": null,
            "max_width": null,
            "min_height": null,
            "min_width": null,
            "object_fit": null,
            "object_position": null,
            "order": null,
            "overflow": null,
            "overflow_x": null,
            "overflow_y": null,
            "padding": null,
            "right": null,
            "top": null,
            "visibility": null,
            "width": null
          }
        },
        "63f5fba8455b40edae11f8202b5fd7e7": {
          "model_module": "@jupyter-widgets/controls",
          "model_name": "ButtonStyleModel",
          "model_module_version": "1.5.0",
          "state": {
            "_model_module": "@jupyter-widgets/controls",
            "_model_module_version": "1.5.0",
            "_model_name": "ButtonStyleModel",
            "_view_count": null,
            "_view_module": "@jupyter-widgets/base",
            "_view_module_version": "1.2.0",
            "_view_name": "StyleView",
            "button_color": null,
            "font_weight": ""
          }
        },
        "150f12803f8844bda5e538ad1256639a": {
          "model_module": "@jupyter-widgets/base",
          "model_name": "LayoutModel",
          "model_module_version": "1.2.0",
          "state": {
            "_model_module": "@jupyter-widgets/base",
            "_model_module_version": "1.2.0",
            "_model_name": "LayoutModel",
            "_view_count": null,
            "_view_module": "@jupyter-widgets/base",
            "_view_module_version": "1.2.0",
            "_view_name": "LayoutView",
            "align_content": null,
            "align_items": null,
            "align_self": null,
            "border": null,
            "bottom": null,
            "display": null,
            "flex": null,
            "flex_flow": null,
            "grid_area": null,
            "grid_auto_columns": null,
            "grid_auto_flow": null,
            "grid_auto_rows": null,
            "grid_column": null,
            "grid_gap": null,
            "grid_row": null,
            "grid_template_areas": null,
            "grid_template_columns": null,
            "grid_template_rows": null,
            "height": null,
            "justify_content": null,
            "justify_items": null,
            "left": null,
            "margin": null,
            "max_height": null,
            "max_width": null,
            "min_height": null,
            "min_width": null,
            "object_fit": null,
            "object_position": null,
            "order": null,
            "overflow": null,
            "overflow_x": null,
            "overflow_y": null,
            "padding": null,
            "right": null,
            "top": null,
            "visibility": null,
            "width": null
          }
        },
        "d04c1bab99e74fb98cf897d602564450": {
          "model_module": "@jupyter-widgets/controls",
          "model_name": "ButtonStyleModel",
          "model_module_version": "1.5.0",
          "state": {
            "_model_module": "@jupyter-widgets/controls",
            "_model_module_version": "1.5.0",
            "_model_name": "ButtonStyleModel",
            "_view_count": null,
            "_view_module": "@jupyter-widgets/base",
            "_view_module_version": "1.2.0",
            "_view_name": "StyleView",
            "button_color": null,
            "font_weight": ""
          }
        },
        "711d43e525b04249a534fd07d820b2cb": {
          "model_module": "@jupyter-widgets/base",
          "model_name": "LayoutModel",
          "model_module_version": "1.2.0",
          "state": {
            "_model_module": "@jupyter-widgets/base",
            "_model_module_version": "1.2.0",
            "_model_name": "LayoutModel",
            "_view_count": null,
            "_view_module": "@jupyter-widgets/base",
            "_view_module_version": "1.2.0",
            "_view_name": "LayoutView",
            "align_content": null,
            "align_items": null,
            "align_self": null,
            "border": null,
            "bottom": null,
            "display": null,
            "flex": null,
            "flex_flow": null,
            "grid_area": null,
            "grid_auto_columns": null,
            "grid_auto_flow": null,
            "grid_auto_rows": null,
            "grid_column": null,
            "grid_gap": null,
            "grid_row": null,
            "grid_template_areas": null,
            "grid_template_columns": null,
            "grid_template_rows": null,
            "height": null,
            "justify_content": null,
            "justify_items": null,
            "left": null,
            "margin": null,
            "max_height": null,
            "max_width": null,
            "min_height": null,
            "min_width": null,
            "object_fit": null,
            "object_position": null,
            "order": null,
            "overflow": null,
            "overflow_x": null,
            "overflow_y": null,
            "padding": null,
            "right": null,
            "top": null,
            "visibility": null,
            "width": null
          }
        },
        "b1e15180adab44ef83d5cdd0f444cd2b": {
          "model_module": "@jupyter-widgets/controls",
          "model_name": "DescriptionStyleModel",
          "model_module_version": "1.5.0",
          "state": {
            "_model_module": "@jupyter-widgets/controls",
            "_model_module_version": "1.5.0",
            "_model_name": "DescriptionStyleModel",
            "_view_count": null,
            "_view_module": "@jupyter-widgets/base",
            "_view_module_version": "1.2.0",
            "_view_name": "StyleView",
            "description_width": ""
          }
        },
        "85167ef8749649d4858a4d5f7ea821ce": {
          "model_module": "@jupyter-widgets/base",
          "model_name": "LayoutModel",
          "model_module_version": "1.2.0",
          "state": {
            "_model_module": "@jupyter-widgets/base",
            "_model_module_version": "1.2.0",
            "_model_name": "LayoutModel",
            "_view_count": null,
            "_view_module": "@jupyter-widgets/base",
            "_view_module_version": "1.2.0",
            "_view_name": "LayoutView",
            "align_content": null,
            "align_items": null,
            "align_self": null,
            "border": null,
            "bottom": null,
            "display": null,
            "flex": null,
            "flex_flow": null,
            "grid_area": null,
            "grid_auto_columns": null,
            "grid_auto_flow": null,
            "grid_auto_rows": null,
            "grid_column": null,
            "grid_gap": null,
            "grid_row": null,
            "grid_template_areas": null,
            "grid_template_columns": null,
            "grid_template_rows": null,
            "height": null,
            "justify_content": null,
            "justify_items": null,
            "left": null,
            "margin": null,
            "max_height": null,
            "max_width": null,
            "min_height": null,
            "min_width": null,
            "object_fit": null,
            "object_position": null,
            "order": null,
            "overflow": null,
            "overflow_x": null,
            "overflow_y": null,
            "padding": null,
            "right": null,
            "top": null,
            "visibility": null,
            "width": "60px"
          }
        },
        "afd085e6dcff499784a98954f7752b7d": {
          "model_module": "@jupyter-widgets/controls",
          "model_name": "DescriptionStyleModel",
          "model_module_version": "1.5.0",
          "state": {
            "_model_module": "@jupyter-widgets/controls",
            "_model_module_version": "1.5.0",
            "_model_name": "DescriptionStyleModel",
            "_view_count": null,
            "_view_module": "@jupyter-widgets/base",
            "_view_module_version": "1.2.0",
            "_view_name": "StyleView",
            "description_width": ""
          }
        },
        "e33a5d03864e46adb8e41ff0b7d694ab": {
          "model_module": "@jupyter-widgets/base",
          "model_name": "LayoutModel",
          "model_module_version": "1.2.0",
          "state": {
            "_model_module": "@jupyter-widgets/base",
            "_model_module_version": "1.2.0",
            "_model_name": "LayoutModel",
            "_view_count": null,
            "_view_module": "@jupyter-widgets/base",
            "_view_module_version": "1.2.0",
            "_view_name": "LayoutView",
            "align_content": null,
            "align_items": null,
            "align_self": null,
            "border": null,
            "bottom": null,
            "display": null,
            "flex": null,
            "flex_flow": null,
            "grid_area": null,
            "grid_auto_columns": null,
            "grid_auto_flow": null,
            "grid_auto_rows": null,
            "grid_column": null,
            "grid_gap": null,
            "grid_row": null,
            "grid_template_areas": null,
            "grid_template_columns": null,
            "grid_template_rows": null,
            "height": null,
            "justify_content": null,
            "justify_items": null,
            "left": null,
            "margin": null,
            "max_height": null,
            "max_width": null,
            "min_height": null,
            "min_width": null,
            "object_fit": null,
            "object_position": null,
            "order": null,
            "overflow": null,
            "overflow_x": null,
            "overflow_y": null,
            "padding": null,
            "right": null,
            "top": null,
            "visibility": null,
            "width": null
          }
        },
        "d197abd0017e4e10883963b33accc28c": {
          "model_module": "@jupyter-widgets/controls",
          "model_name": "ButtonStyleModel",
          "model_module_version": "1.5.0",
          "state": {
            "_model_module": "@jupyter-widgets/controls",
            "_model_module_version": "1.5.0",
            "_model_name": "ButtonStyleModel",
            "_view_count": null,
            "_view_module": "@jupyter-widgets/base",
            "_view_module_version": "1.2.0",
            "_view_name": "StyleView",
            "button_color": null,
            "font_weight": ""
          }
        },
        "c13b16cf06cb470da84aa38aac7a844f": {
          "model_module": "@jupyter-widgets/base",
          "model_name": "LayoutModel",
          "model_module_version": "1.2.0",
          "state": {
            "_model_module": "@jupyter-widgets/base",
            "_model_module_version": "1.2.0",
            "_model_name": "LayoutModel",
            "_view_count": null,
            "_view_module": "@jupyter-widgets/base",
            "_view_module_version": "1.2.0",
            "_view_name": "LayoutView",
            "align_content": null,
            "align_items": null,
            "align_self": null,
            "border": null,
            "bottom": null,
            "display": null,
            "flex": null,
            "flex_flow": null,
            "grid_area": null,
            "grid_auto_columns": null,
            "grid_auto_flow": null,
            "grid_auto_rows": null,
            "grid_column": null,
            "grid_gap": null,
            "grid_row": null,
            "grid_template_areas": null,
            "grid_template_columns": null,
            "grid_template_rows": null,
            "height": null,
            "justify_content": null,
            "justify_items": null,
            "left": null,
            "margin": null,
            "max_height": null,
            "max_width": null,
            "min_height": null,
            "min_width": null,
            "object_fit": null,
            "object_position": null,
            "order": null,
            "overflow": null,
            "overflow_x": null,
            "overflow_y": null,
            "padding": null,
            "right": null,
            "top": null,
            "visibility": null,
            "width": null
          }
        },
        "5bf6e79790524ef89d89c7b2c0443aef": {
          "model_module": "@jupyter-widgets/controls",
          "model_name": "ButtonStyleModel",
          "model_module_version": "1.5.0",
          "state": {
            "_model_module": "@jupyter-widgets/controls",
            "_model_module_version": "1.5.0",
            "_model_name": "ButtonStyleModel",
            "_view_count": null,
            "_view_module": "@jupyter-widgets/base",
            "_view_module_version": "1.2.0",
            "_view_name": "StyleView",
            "button_color": null,
            "font_weight": ""
          }
        },
        "c8024bf4e32d4ea8828b39ff3c0540f5": {
          "model_module": "@jupyter-widgets/base",
          "model_name": "LayoutModel",
          "model_module_version": "1.2.0",
          "state": {
            "_model_module": "@jupyter-widgets/base",
            "_model_module_version": "1.2.0",
            "_model_name": "LayoutModel",
            "_view_count": null,
            "_view_module": "@jupyter-widgets/base",
            "_view_module_version": "1.2.0",
            "_view_name": "LayoutView",
            "align_content": null,
            "align_items": null,
            "align_self": null,
            "border": null,
            "bottom": null,
            "display": null,
            "flex": null,
            "flex_flow": null,
            "grid_area": null,
            "grid_auto_columns": null,
            "grid_auto_flow": null,
            "grid_auto_rows": null,
            "grid_column": null,
            "grid_gap": null,
            "grid_row": null,
            "grid_template_areas": null,
            "grid_template_columns": null,
            "grid_template_rows": null,
            "height": null,
            "justify_content": null,
            "justify_items": null,
            "left": null,
            "margin": null,
            "max_height": null,
            "max_width": null,
            "min_height": null,
            "min_width": null,
            "object_fit": null,
            "object_position": null,
            "order": null,
            "overflow": null,
            "overflow_x": null,
            "overflow_y": null,
            "padding": null,
            "right": null,
            "top": null,
            "visibility": null,
            "width": null
          }
        },
        "b0401d3c6c9140668221944c7f8098bc": {
          "model_module": "@jupyter-widgets/controls",
          "model_name": "ButtonStyleModel",
          "model_module_version": "1.5.0",
          "state": {
            "_model_module": "@jupyter-widgets/controls",
            "_model_module_version": "1.5.0",
            "_model_name": "ButtonStyleModel",
            "_view_count": null,
            "_view_module": "@jupyter-widgets/base",
            "_view_module_version": "1.2.0",
            "_view_name": "StyleView",
            "button_color": null,
            "font_weight": ""
          }
        }
      }
    }
  },
  "cells": [
        {
      "cell_type": "markdown",
      "source": [
        "# Databases Unlocking the Power of Data\n",
        "\n",
        "In today's digital age, we are surrounded by an ever-growing ocean of data. From the books we read to the purchases we make, from scientific research to social media interactions, data is being generated at an unprecedented rate. But raw data alone is of little use. The real power lies in our ability to organize, structure, and extract meaningful insights from this vast sea of information. This is where databases come into play.\n",
        "\n",
        "**Databases** are sophisticated systems designed to store, manage, and retrieve large amounts of structured data efficiently. They serve as the backbone of countless applications and services we use daily, from e-commerce platforms to social networks, from healthcare systems to financial institutions.\n",
        "\n",
        "But why are databases so crucial? Consider these key points:\n",
        "\n",
        "1. **Organization**: Databases provide a structured way to store data, making it easy to find and use when needed.\n",
        "2. **Efficiency**: They allow for quick retrieval and updating of information, even when dealing with millions of records.\n",
        "3. **Data Integrity**: Databases help maintain the accuracy and consistency of data through various mechanisms.\n",
        "4. **Security**: They offer robust security features to protect sensitive information.\n",
        "5. **Scalability**: Databases can grow and adapt as data needs evolve.\n",
        "\n",
        "In this chapter, we'll embark on a journey to understand the fundamentals of databases, with a focus on **relational databases** and the popular query language **SQL** (Structured Query Language). We'll use **SQLite**, a lightweight yet powerful database engine, to illustrate key concepts and provide hands-on examples.\n",
        "\n",
        "By the end of this chapter, you'll have a solid grasp of:\n",
        "- The problem databases solve\n",
        "- What makes a database different from a simple file\n",
        "- The concept of relational databases\n",
        "- Basic SQL commands for querying and manipulating data\n",
        "- More advanced database operations like joins and aggregations\n",
        "- Alternative database models for different types of data and use cases\n",
        "\n",
        "Whether you're a budding developer, a data enthusiast, or simply curious about the technology that powers much of our digital world, understanding databases is an invaluable skill. So, let's dive in and unlock the power of structured data!"
      ],
      "metadata": {
        "id": "qX0Evg-0fDAL"
      }
    },
    {
      "cell_type": "markdown",
      "source": [
        "## The Problem: How to Turn \"Raw\" Data Into \"Structured\" Information and \"Usable\" Knowledge?\n",
        "\n",
        "In our digital age, we find ourselves inundated with an ever-expanding ocean of data. Every interaction in the digital realm, from online purchases to social media posts, generates information, contributing to a vast universe of raw data. This abundance presents a significant challenge: how do we transform this raw, unprocessed information into something meaningful and actionable? This is the fundamental problem that databases and data management systems aim to solve.\n",
        "\n",
        "**Raw data**, in its unprocessed form, is like an unsorted pile of documents or a jumble of numbers and text. It might include customer purchase histories, temperature readings from weather stations across the globe, or millions of social media posts. While this data undoubtedly contains valuable insights, it's extremely difficult to extract meaningful information or patterns from it in this state. The sheer volume and lack of organization make it impractical for humans or even computers to analyze effectively.\n",
        "\n",
        "The journey from raw data to usable knowledge involves three key stages:\n",
        "\n",
        "1. **Raw Data**: Unprocessed, unorganized information\n",
        "2. **Structured Information**: Data organized into a logical framework\n",
        "3. **Usable Knowledge**: Actionable insights derived from analysis\n",
        "\n",
        "The first step in making sense of this data deluge is to transform raw data into **structured information**. This process involves organizing the data into a logical framework, categorizing similar elements, establishing relationships between different data points, and ensuring consistency in how the data is formatted and represented. It's akin to taking that pile of unsorted documents and filing them into a well-organized system where each piece of information has its proper place and is easily retrievable.\n",
        "\n",
        "This is where databases come into play. A database provides a structured environment for storing and organizing data. It offers a framework for defining how different pieces of data relate to each other, ensures consistency in data formats, and provides efficient methods for storing and retrieving information. By imposing structure on raw data, databases make it possible to ask specific questions and get meaningful answers quickly, even when dealing with vast amounts of information.\n",
        "\n",
        "However, having structured information is just the beginning. The ultimate goal is to derive **usable knowledge** from this structured data. This involves analyzing the data to uncover patterns, trends, and insights that can inform decision-making and strategy. It might involve applying statistical methods, using machine learning algorithms, or employing other analytical techniques to extract meaningful conclusions from the data.\n",
        "\n",
        "To illustrate the differences between these stages, consider the following table:\n",
        "\n",
        "| Stage | Characteristic | Example |\n",
        "|-------|----------------|---------|\n",
        "| Raw Data | Unorganized, difficult to analyze | A text file containing thousands of customer reviews |\n",
        "| Structured Information | Organized, queryable | A database table with reviews categorized by product, date, and rating |\n",
        "| Usable Knowledge | Actionable insights | A report showing trends in customer satisfaction over time |\n",
        "\n",
        "Databases play a crucial role in this transformation process. They not only provide the means to structure and organize data but also offer powerful query capabilities that allow us to retrieve specific information quickly and efficiently. They maintain data integrity, ensuring that the information remains consistent and accurate over time. They allow for efficient updates and modifications, making it possible to keep large datasets current. Perhaps most importantly, they facilitate the creation of relationships between different data elements, allowing us to understand how various pieces of information connect and interact.\n",
        "\n",
        "By solving the problem of how to turn raw data into structured information, databases lay the foundation for deriving usable knowledge. They act as a bridge between the chaotic world of raw data and the ordered realm of actionable insights. In the sections that follow, we'll delve deeper into how databases accomplish this feat, with a particular focus on relational databases and SQL (Structured Query Language) as powerful tools for data management and analysis.\n",
        "\n",
        "As we explore these concepts, we'll see how databases not only solve the immediate problem of data organization but also open up new possibilities for data analysis, business intelligence, and decision-making. In a world where data is often described as the new oil, understanding how to refine this raw resource into usable knowledge is an increasingly critical skill across virtually every field and industry."
      ],
      "metadata": {
        "id": "k_r2zB5yfHeM"
      }
    },
    {
      "cell_type": "markdown",
      "source": [
        "## What is a Database? How does it differ from a \"Flat File\"?\n",
        "\n",
        "To understand the power and utility of databases, it's helpful to contrast them with a simpler method of data storage: the flat file. This comparison illuminates why databases have become the backbone of modern information systems and why they're essential for managing complex, large-scale data.\n",
        "\n",
        "A **database** is a structured collection of data organized for efficient storage, retrieval, and manipulation. It's designed to manage large amounts of information and typically consists of multiple interconnected tables. Databases use sophisticated software called a Database Management System (DBMS) to interact with users, applications, and the data itself. This system allows for complex queries, multi-user access, and ensures data integrity and security.\n",
        "\n",
        "On the other hand, a **flat file** is a simple file containing a list of data with no structured relationships between the elements. Think of it as a single table where each line represents a record and each record contains fields separated by delimiters like commas or tabs. A common example of a flat file is a CSV (Comma-Separated Values) file.\n",
        "\n",
        "To illustrate the differences, let's consider a table comparing key aspects of databases and flat files:\n",
        "\n",
        "| Aspect | Database | Flat File |\n",
        "|--------|----------|-----------|\n",
        "| Structure | Multiple interconnected tables | Single table |\n",
        "| Data Relationships | Can represent complex relationships | No inherent relationships |\n",
        "| Querying | Powerful query languages (e.g., SQL) | Limited to basic search and filter |\n",
        "| Multi-user Access | Supports concurrent access with locking mechanisms | Limited to single-user or basic file locking |\n",
        "| Data Integrity | Enforces data types, constraints, and relationships | No built-in integrity checks |\n",
        "| Scalability | Can handle large amounts of data efficiently | Performance degrades with large datasets |\n",
        "| Security | Granular access control and encryption | Basic file system permissions only |\n",
        "| Backup and Recovery | Sophisticated backup and point-in-time recovery | Manual file copy for backup |\n",
        "\n",
        "While flat files have their place – they're simple, portable, and human-readable – they fall short when dealing with complex or large-scale data needs. Here are some key advantages of databases over flat files:\n",
        "\n",
        "1. **Data Integrity**: Databases can enforce rules about data types, relationships, and constraints, ensuring the data remains consistent and accurate.\n",
        "2. **Efficient Querying**: With a database, you can quickly retrieve specific information based on complex criteria, something that would be time-consuming with a flat file.\n",
        "3. **Data Relationships**: Databases can represent and maintain relationships between different types of data, allowing for a more accurate model of real-world scenarios.\n",
        "4. **Concurrent Access**: Multiple users or applications can access and modify the data simultaneously without conflicts.\n",
        "5. **Scalability**: Databases are designed to handle large amounts of data efficiently, maintaining performance as the dataset grows.\n",
        "\n",
        "Consider a scenario where we're managing a bookstore's inventory. In a flat file system, we might have one large file containing all the information about books, authors, and inventory levels. Every time we need to update a book's details or check its stock, we'd need to search through the entire file. If multiple staff members try to update the file simultaneously, we risk data corruption or conflicts.\n",
        "\n",
        "In contrast, a database solution would organize this information into separate tables for books, authors, and inventory. We could easily query for all books by a specific author, check which books are low in stock, or update a book's details without affecting other records. The database would handle relationships between these tables, ensuring that if an author's name is updated, it's reflected correctly for all of their books.\n",
        "\n",
        "As we delve deeper into database concepts in the following sections, we'll explore how these advantages are implemented and how they contribute to solving complex data management challenges. Understanding the distinction between databases and flat files is crucial for appreciating the sophisticated tools and techniques that databases provide for turning raw data into structured, actionable information."
      ],
      "metadata": {
        "id": "DeGPDqEKfNQ8"
      }
    },
    {
      "cell_type": "markdown",
      "source": [
        "## What is a \"Relational\" Database?\n",
        "\n",
        "In the world of databases, the relational model has emerged as one of the most powerful and widely used paradigms. A **relational database** is a type of database that organizes data into one or more tables (or \"relations\") of columns and rows, with a unique **primary key** identifying each row. Developed by E.F. Codd in 1970, this model revolutionized the way we think about and interact with data.\n",
        "\n",
        "The fundamental idea behind a relational database is to represent data as a collection of related **tables**. Each table consists of **rows** (also called records or tuples) and **columns** (also called fields or attributes). The \"relational\" aspect comes from the ability to establish relationships between these tables based on common data points.\n",
        "\n",
        "To understand the power of this model, let's consider a simple example of a bookstore database. We might have three main tables: Books, Authors, and Orders. Each of these tables would contain relevant information:\n",
        "\n",
        "1. Books table: BookID (PK), Title, ISBN, PublicationYear, Price, AuthorID (FK)\n",
        "2. Authors table: AuthorID (PK), FirstName, LastName, BirthYear\n",
        "\n",
        "In this structure, the Books and Authors tables are related through through their keys. This is because the Books table has a **foreign key** (Books.AuthorID) that links it to the primary key of the Authors table (Authors.AuthorID). It's important to note that the primary and foreign keys don't have to have the same \"name\" (as they do here).\n",
        "\n",
        "Here's a table illustrating some key concepts in relational databases:\n",
        "\n",
        "| Concept | Description | Example |\n",
        "|---------|-------------|---------|\n",
        "| Table | A collection of related data entries consisting of columns and rows | Books table |\n",
        "| Column (Field) | A category of data in a table | Title in Books table |\n",
        "| Row (Record) | A single entry in a table | A specific book entry |\n",
        "| Primary Key | A unique identifier for each row in a table | BookID in Books table |\n",
        "| Foreign Key | A field in one table that connects to the primary key in another table | AuthorID in Books table |\n",
        "| Relationship | A logical connection between different tables | Books-Authors relationship |\n",
        "\n",
        "The relational model offers several significant advantages:\n",
        "\n",
        "1. **Data Integrity**: By organizing data into separate tables and establishing relationships between them, we can avoid data duplication and ensure consistency.\n",
        "\n",
        "2. **Flexibility**: As data needs change, we can add new tables or modify existing ones without overhauling the entire database structure.\n",
        "\n",
        "3. **Powerful Querying**: Relational databases use SQL (Structured Query Language), which allows for complex queries across multiple tables.\n",
        "\n",
        "4. **Data Independence**: The physical storage of the data is separate from its logical structure, allowing for changes to one without affecting the other.\n",
        "\n",
        "5. **Scalability**: Relational databases can handle large amounts of data and complex relationships efficiently.\n",
        "\n",
        "One of the key strengths of the relational model is its ability to represent complex relationships between different entities. In our bookstore example, we can easily answer questions like \"Which authors have books that have been ordered more than 100 times?\" or \"What is the average price of books for each author?\" These queries would involve joining multiple tables and performing calculations, something that relational databases excel at.\n",
        "\n",
        "It's worth noting that while relational databases are incredibly versatile and powerful, they're not the only database model available. In recent years, other models like document databases, graph databases, and key-value stores have gained popularity for specific use cases. However, the relational model remains the foundation of many information systems due to its robust structure, powerful querying capabilities, and ability to maintain data integrity.\n",
        "\n",
        "As we delve deeper into SQL and database operations in the following sections, we'll see how the relational model translates into practical data management and analysis tasks. Understanding the concept of relational databases is crucial for effectively designing, querying, and maintaining complex data systems."
      ],
      "metadata": {
        "id": "kFfZVenQfQP7"
      }
    },
    {
      "cell_type": "markdown",
      "source": [
        "## Sample Database: Books and Authors\n",
        "\n",
        "To illustrate the concepts we'll be exploring throughout this chapter, we'll use a sample database centered around books and authors. This database will serve as a practical example to demonstrate various SQL queries and database operations. Our sample database will focus on five renowned authors: William Shakespeare, Jane Austen, James Joyce, Toni Morrison, and Salman Rushdie.\n",
        "\n",
        "Let's begin by describing the structure of our database and provide the SQL code to create it. It will consist of two main tables: `Authors` and `Books`. These tables will be related to each other, demonstrating the power of relational databases.\n",
        "\n",
        "Here's the SQL code to create these tables :\n"
      ],
      "metadata": {
        "id": "BmVNvTnIffwy"
      }
    },
    {
      "cell_type": "code",
      "execution_count": 5,
      "metadata": {
        "id": "ycQxGi4Je--K"
      },
      "outputs": [],
      "source": [
        "%reload_ext sql\n",
        "%sql sqlite:///simple_books.db"
      ]
    },
    {
      "cell_type": "code",
      "source": [
        "%%sql\n",
        "DROP TABLE IF EXISTS Authors;\n",
        "DROP TABLE IF EXISTS Books;\n",
        "\n",
        "CREATE TABLE Authors (\n",
        "    AuthorID INTEGER PRIMARY KEY,\n",
        "    FirstName VARCHAR(50) NOT NULL,\n",
        "    LastName VARCHAR(50) NOT NULL,\n",
        "    BirthYear INTEGER,\n",
        "    DeathYear INTEGER,\n",
        "    Nationality VARCHAR(50)\n",
        ");\n",
        "\n",
        "CREATE TABLE Books (\n",
        "    BookID INTEGER PRIMARY KEY,\n",
        "    Title VARCHAR(100) NOT NULL,\n",
        "    AuthorID INTEGER,\n",
        "    PublicationYear INTEGER,\n",
        "    Genre VARCHAR(50),\n",
        "    PageCount INTEGER,\n",
        "    FOREIGN KEY (AuthorID) REFERENCES Authors(AuthorID)\n",
        ");"
      ],
      "metadata": {
        "colab": {
          "base_uri": "https://localhost:8080/"
        },
        "id": "OfwMr2gWfyab",
        "outputId": "fd45c8b7-6682-4b79-dafd-355dfcb3aa43"
      },
      "execution_count": 6,
      "outputs": [
        {
          "output_type": "stream",
          "name": "stdout",
          "text": [
            "   sqlite://\n",
            " * sqlite:///simple_books.db\n",
            "Done.\n",
            "Done.\n",
            "Done.\n",
            "Done.\n"
          ]
        },
        {
          "output_type": "execute_result",
          "data": {
            "text/plain": [
              "[]"
            ]
          },
          "metadata": {},
          "execution_count": 6
        }
      ]
    },
    {
      "cell_type": "markdown",
      "source": [
        "Let's break down the SQL code for creating our Authors and Books tables:\n",
        "\n",
        "1. DROP TABLE IF EXISTS\n",
        "   This command deletes a table if it already exists. It's often used to ensure a clean slate before creating new tables.\n",
        "\n",
        "2. CREATE TABLE\n",
        "   This is the main command to create a new table in SQL.\n",
        "\n",
        "3. Data Types:\n",
        "   - INTEGER: For whole numbers (e.g., AuthorID, BirthYear)\n",
        "   - VARCHAR(n): For text, where n is the maximum number of characters (e.g., FirstName VARCHAR(50))\n",
        "   - NOT NULL: Ensures that a column cannot have a null (empty) value\n",
        "\n",
        "4. PRIMARY KEY\n",
        "   This defines a unique identifier for each row in the table. For example, AuthorID is the primary key in the Authors table.\n",
        "\n",
        "5. FOREIGN KEY\n",
        "   This creates a link between two tables. In our Books table, AuthorID is a foreign key that references the AuthorID in the Authors table.\n",
        "\n",
        "6. REFERENCES\n",
        "   Used with FOREIGN KEY to specify which table and column are being referenced."
      ],
      "metadata": {
        "id": "DhyImR7ToBIj"
      }
    },
    {
      "cell_type": "markdown",
      "source": [
        "Now, let's populate these tables with some sample data. Here's the SQL code to insert the data:"
      ],
      "metadata": {
        "id": "0l7Nte7Wf5Bx"
      }
    },
    {
      "cell_type": "code",
      "source": [
        "%%sql\n",
        "DELETE FROM Authors;\n",
        "DELETE FROM Books;\n",
        "\n",
        "INSERT INTO Authors (AuthorID, FirstName, LastName, BirthYear, DeathYear, Nationality)\n",
        "VALUES\n",
        "    (1, 'William', 'Shakespeare', 1564, 1616, 'English'),\n",
        "    (2, 'Jane', 'Austen', 1775, 1817, 'English'),\n",
        "    (3, 'James', 'Joyce', 1882, 1941, 'Irish'),\n",
        "    (4, 'Toni', 'Morrison', 1931, 2019, 'American'),\n",
        "    (5, 'Salman', 'Rushdie', 1947, NULL, 'British Indian'),\n",
        "    (6, 'George', 'Orwell', 1903, 1950, 'British');\n",
        "\n",
        "INSERT INTO Books (BookID, Title, AuthorID, PublicationYear, Genre, PageCount)\n",
        "VALUES\n",
        "    (1, 'Hamlet', 1, 1603, 'Tragedy', 342),\n",
        "    (2, 'Romeo and Juliet', 1, 1597, 'Tragedy', 283),\n",
        "    (3, 'Macbeth', 1, 1606, 'Tragedy', 305),\n",
        "    (4, 'Pride and Prejudice', 2, 1813, 'Romance', 432),\n",
        "    (5, 'Sense and Sensibility', 2, 1811, 'Romance', 384),\n",
        "    (6, 'Emma', 2, 1815, 'Romance', 474),\n",
        "    (7, 'Ulysses', 3, 1922, 'Modernist', 730),\n",
        "    (8, 'Dubliners', 3, 1914, 'Short Story', 152),\n",
        "    (9, 'A Portrait of the Artist as a Young Man', 3, 1916, 'Modernist', 299),\n",
        "    (10, 'Beloved', 4, 1987, 'Historical Fiction', 324),\n",
        "    (11, 'Song of Solomon', 4, 1977, 'Fiction', 337),\n",
        "    (12, 'The Bluest Eye', 4, 1970, 'Fiction', 216),\n",
        "    (13, 'Midnight''s Children', 5, 1981, 'Magical Realism', 536),\n",
        "    (14, 'The Satanic Verses', 5, 1988, 'Magical Realism', 547),\n",
        "    (15, 'The Moor''s Last Sigh', 5, 1995, 'Fiction', 434);"
      ],
      "metadata": {
        "colab": {
          "base_uri": "https://localhost:8080/"
        },
        "id": "kHgvhCrif7Ca",
        "outputId": "177d2bc4-716d-4121-8008-fc3e90043742"
      },
      "execution_count": null,
      "outputs": [
        {
          "output_type": "stream",
          "name": "stdout",
          "text": [
            " * sqlite://\n",
            "6 rows affected.\n",
            "15 rows affected.\n"
          ]
        },
        {
          "output_type": "execute_result",
          "data": {
            "text/plain": [
              "[]"
            ]
          },
          "metadata": {},
          "execution_count": 3
        }
      ]
    },
    {
      "cell_type": "markdown",
      "source": [
        "This SQL code populates our Authors and Books tables with data. Here are the key points:\n",
        "\n",
        "1. DELETE FROM: Clears existing data from the tables before inserting new records.\n",
        "\n",
        "2. INSERT INTO: The command used to add new rows to a table.\n",
        "\n",
        "3. VALUES: Specifies the data to be inserted. Each parenthesis () contains values for one row.\n",
        "\n",
        "4. Data Types:\n",
        "   - Strings (like names and titles) are in single quotes ''\n",
        "   - Numbers (like years and page counts) are without quotes\n",
        "   - NULL is used for unknown values (like Rushdie's DeathYear)\n",
        "\n",
        "5. Foreign Key: The AuthorID in the Books table corresponds to the AuthorID in the Authors table, linking books to their authors.\n",
        "\n",
        "6. Multiple Inserts: Multiple rows are inserted in a single statement, separated by commas.\n",
        "\n",
        "This sample database, while simplified, provides us with enough complexity to demonstrate various SQL queries and database operations. It allows us to explore relationships between authors and their works, as well as to perform analyses based on publication years, genres, nationalities, and now page counts.\n",
        "\n",
        "Some questions we might explore with this database include:\n",
        "\n",
        "1. Which author has written the most books in our database?\n",
        "2. What is the average page count for each author's books?\n",
        "3. How many books were published in each century?\n",
        "4. Which genres are represented in our database, and how many books are in each genre?\n",
        "5. Who is the oldest and youngest author in our database?\n",
        "\n",
        "As we progress through the subsequent sections on SQL and database operations, we'll use this sample database to provide concrete examples. This will help illustrate how to construct queries, join tables, perform aggregations, and extract meaningful insights from our data.\n",
        "\n",
        "By working with this books and authors database, we'll gain practical experience in database manipulation and analysis, skills that can be applied to a wide range of real-world data management scenarios. Whether you're interested in literary analysis, managing a bookstore inventory, or simply learning about database operations, this sample database will serve as a valuable learning tool throughout the rest of this chapter."
      ],
      "metadata": {
        "id": "tHvrv2-UgFb5"
      }
    },
    {
      "cell_type": "markdown",
      "source": [
        "## What is SQL?\n",
        "\n",
        "**SQL**, which stands for Structured Query Language, is the standard language for interacting with relational databases. Developed in the 1970s by IBM, SQL has become the de facto standard for managing and querying relational databases across various platforms and systems.\n",
        "\n",
        "SQL is designed to be both powerful and relatively easy to learn, allowing users to perform complex data operations with concise, readable commands. It's used for a wide range of database operations, including:\n",
        "\n",
        "1. Querying data\n",
        "2. Inserting, updating, and deleting records\n",
        "3. Creating, modifying, and deleting database structures\n",
        "4. Setting permissions on database objects\n",
        "\n",
        "One of SQL's key strengths is its declarative nature. When using SQL, you specify what data you want to retrieve or manipulate, not how to do it. The database management system figures out the most efficient way to execute your request. This abstraction makes SQL both powerful and accessible to users who might not be expert programmers.\n",
        "\n",
        "SQL commands can be broadly categorized into several types:\n",
        "\n",
        "| Category | Purpose | Examples |\n",
        "|----------|---------|----------|\n",
        "| Data Query Language (DQL) | Retrieving data | SELECT |\n",
        "| Data Manipulation Language (DML) | Modifying data | INSERT, UPDATE, DELETE |\n",
        "| Data Definition Language (DDL) | Defining database structures | CREATE, ALTER, DROP |\n",
        "| Data Control Language (DCL) | Managing access and permissions | GRANT, REVOKE |\n",
        "| Transaction Control Language (TCL) | Managing transactions | COMMIT, ROLLBACK |\n",
        "\n",
        "While SQL is standardized (the latest standard being SQL:2016 as of my last update), different database systems may have slight variations or extensions to the standard. However, the core concepts and most common commands are consistent across platforms, making SQL skills highly transferable.\n",
        "\n",
        "Let's look at a simple SQL query using our Books and Authors database:"
      ],
      "metadata": {
        "id": "rgM-kkb2gfSx"
      }
    },
    {
      "cell_type": "code",
      "source": [
        "%%sql\n",
        "SELECT Title, FirstName, LastName\n",
        "FROM Books\n",
        "JOIN Authors ON Books.AuthorID = Authors.AuthorID\n",
        "WHERE PublicationYear > 1900\n",
        "ORDER BY PublicationYear;"
      ],
      "metadata": {
        "colab": {
          "base_uri": "https://localhost:8080/",
          "height": 267
        },
        "id": "emQ_2iBxgh45",
        "outputId": "2d4b5123-0f0f-48fe-9217-c3bdca7372f0"
      },
      "execution_count": null,
      "outputs": [
        {
          "output_type": "stream",
          "name": "stdout",
          "text": [
            " * sqlite://\n",
            "Done.\n"
          ]
        },
        {
          "output_type": "execute_result",
          "data": {
            "text/plain": [
              "[('Dubliners', 'James', 'Joyce'),\n",
              " ('A Portrait of the Artist as a Young Man', 'James', 'Joyce'),\n",
              " ('Ulysses', 'James', 'Joyce'),\n",
              " ('The Bluest Eye', 'Toni', 'Morrison'),\n",
              " ('Song of Solomon', 'Toni', 'Morrison'),\n",
              " (\"Midnight's Children\", 'Salman', 'Rushdie'),\n",
              " ('Beloved', 'Toni', 'Morrison'),\n",
              " ('The Satanic Verses', 'Salman', 'Rushdie'),\n",
              " (\"The Moor's Last Sigh\", 'Salman', 'Rushdie')]"
            ],
            "text/html": [
              "<table>\n",
              "    <thead>\n",
              "        <tr>\n",
              "            <th>Title</th>\n",
              "            <th>FirstName</th>\n",
              "            <th>LastName</th>\n",
              "        </tr>\n",
              "    </thead>\n",
              "    <tbody>\n",
              "        <tr>\n",
              "            <td>Dubliners</td>\n",
              "            <td>James</td>\n",
              "            <td>Joyce</td>\n",
              "        </tr>\n",
              "        <tr>\n",
              "            <td>A Portrait of the Artist as a Young Man</td>\n",
              "            <td>James</td>\n",
              "            <td>Joyce</td>\n",
              "        </tr>\n",
              "        <tr>\n",
              "            <td>Ulysses</td>\n",
              "            <td>James</td>\n",
              "            <td>Joyce</td>\n",
              "        </tr>\n",
              "        <tr>\n",
              "            <td>The Bluest Eye</td>\n",
              "            <td>Toni</td>\n",
              "            <td>Morrison</td>\n",
              "        </tr>\n",
              "        <tr>\n",
              "            <td>Song of Solomon</td>\n",
              "            <td>Toni</td>\n",
              "            <td>Morrison</td>\n",
              "        </tr>\n",
              "        <tr>\n",
              "            <td>Midnight&#x27;s Children</td>\n",
              "            <td>Salman</td>\n",
              "            <td>Rushdie</td>\n",
              "        </tr>\n",
              "        <tr>\n",
              "            <td>Beloved</td>\n",
              "            <td>Toni</td>\n",
              "            <td>Morrison</td>\n",
              "        </tr>\n",
              "        <tr>\n",
              "            <td>The Satanic Verses</td>\n",
              "            <td>Salman</td>\n",
              "            <td>Rushdie</td>\n",
              "        </tr>\n",
              "        <tr>\n",
              "            <td>The Moor&#x27;s Last Sigh</td>\n",
              "            <td>Salman</td>\n",
              "            <td>Rushdie</td>\n",
              "        </tr>\n",
              "    </tbody>\n",
              "</table>"
            ]
          },
          "metadata": {},
          "execution_count": 4
        }
      ]
    },
    {
      "cell_type": "markdown",
      "source": [
        "This query demonstrates several key SQL features:\n",
        "- The SELECT statement specifies which columns we want to retrieve.\n",
        "- The FROM clause indicates which table(s) we're querying.\n",
        "- The JOIN clause combines data from two tables based on a related column.\n",
        "- The WHERE clause filters the results based on a condition.\n",
        "- The ORDER BY clause sorts the results.\n",
        "\n",
        "As we delve deeper into SQL in the following sections, we'll explore these and many other SQL features in detail. We'll learn how to write increasingly complex queries, manipulate data, and extract meaningful insights from our database.\n",
        "\n",
        "Understanding SQL is crucial for anyone working with databases, whether you're a data analyst, a software developer, or a business intelligence specialist. It provides a powerful tool for accessing and manipulating data, enabling you to answer complex questions and derive valuable insights from your data.\n",
        "\n",
        "In the upcoming sections, we'll explore various SQL commands and concepts, starting with the fundamental SELECT statement and building up to more complex operations like joins, aggregations, and subqueries. By the end of this chapter, you'll have a solid foundation in SQL and be well-equipped to work with relational databases effectively."
      ],
      "metadata": {
        "id": "T7Z4uEHZgmJt"
      }
    },
    {
      "cell_type": "markdown",
      "source": [
        "## SQL: SELECT and FROM\n",
        "\n",
        "The SELECT statement is the workhorse of SQL, used to retrieve data from one or more tables in a database. It's often the first SQL command that newcomers learn, and it's used extensively in data analysis and reporting. The FROM clause is an integral part of the SELECT statement, specifying the table(s) from which to retrieve the data.\n",
        "\n",
        "Let's break down the basic structure of a SELECT statement:\n",
        "\n",
        "```sql\n",
        "SELECT column1, column2, ...\n",
        "FROM table_name;\n",
        "```\n",
        "\n",
        "Here's what each part does:\n",
        "\n",
        "- SELECT: Specifies which columns you want to retrieve from the database.\n",
        "- FROM: Indicates the table from which to retrieve the data.\n",
        "\n",
        "While this structure is simple, it's incredibly powerful and flexible. Let's explore some variations and advanced uses of SELECT and FROM using our Books and Authors database.\n",
        "\n",
        "1. Selecting All Columns\n",
        "\n",
        "To retrieve all columns from a table, you can use the asterisk (*) wildcard:\n"
      ],
      "metadata": {
        "id": "vL8mK--rgqMV"
      }
    },
    {
      "cell_type": "code",
      "source": [
        "%%sql\n",
        "SELECT *\n",
        "FROM Books;"
      ],
      "metadata": {
        "colab": {
          "base_uri": "https://localhost:8080/",
          "height": 394
        },
        "id": "00fU5OHGgyEV",
        "outputId": "f375d1b3-c918-4244-9e39-856f6233e133"
      },
      "execution_count": null,
      "outputs": [
        {
          "output_type": "stream",
          "name": "stdout",
          "text": [
            " * sqlite://\n",
            "Done.\n"
          ]
        },
        {
          "output_type": "execute_result",
          "data": {
            "text/plain": [
              "[(1, 'Hamlet', 1, 1603, 'Tragedy', 342),\n",
              " (2, 'Romeo and Juliet', 1, 1597, 'Tragedy', 283),\n",
              " (3, 'Macbeth', 1, 1606, 'Tragedy', 305),\n",
              " (4, 'Pride and Prejudice', 2, 1813, 'Romance', 432),\n",
              " (5, 'Sense and Sensibility', 2, 1811, 'Romance', 384),\n",
              " (6, 'Emma', 2, 1815, 'Romance', 474),\n",
              " (7, 'Ulysses', 3, 1922, 'Modernist', 730),\n",
              " (8, 'Dubliners', 3, 1914, 'Short Story', 152),\n",
              " (9, 'A Portrait of the Artist as a Young Man', 3, 1916, 'Modernist', 299),\n",
              " (10, 'Beloved', 4, 1987, 'Historical Fiction', 324),\n",
              " (11, 'Song of Solomon', 4, 1977, 'Fiction', 337),\n",
              " (12, 'The Bluest Eye', 4, 1970, 'Fiction', 216),\n",
              " (13, \"Midnight's Children\", 5, 1981, 'Magical Realism', 536),\n",
              " (14, 'The Satanic Verses', 5, 1988, 'Magical Realism', 547),\n",
              " (15, \"The Moor's Last Sigh\", 5, 1995, 'Fiction', 434)]"
            ],
            "text/html": [
              "<table>\n",
              "    <thead>\n",
              "        <tr>\n",
              "            <th>BookID</th>\n",
              "            <th>Title</th>\n",
              "            <th>AuthorID</th>\n",
              "            <th>PublicationYear</th>\n",
              "            <th>Genre</th>\n",
              "            <th>PageCount</th>\n",
              "        </tr>\n",
              "    </thead>\n",
              "    <tbody>\n",
              "        <tr>\n",
              "            <td>1</td>\n",
              "            <td>Hamlet</td>\n",
              "            <td>1</td>\n",
              "            <td>1603</td>\n",
              "            <td>Tragedy</td>\n",
              "            <td>342</td>\n",
              "        </tr>\n",
              "        <tr>\n",
              "            <td>2</td>\n",
              "            <td>Romeo and Juliet</td>\n",
              "            <td>1</td>\n",
              "            <td>1597</td>\n",
              "            <td>Tragedy</td>\n",
              "            <td>283</td>\n",
              "        </tr>\n",
              "        <tr>\n",
              "            <td>3</td>\n",
              "            <td>Macbeth</td>\n",
              "            <td>1</td>\n",
              "            <td>1606</td>\n",
              "            <td>Tragedy</td>\n",
              "            <td>305</td>\n",
              "        </tr>\n",
              "        <tr>\n",
              "            <td>4</td>\n",
              "            <td>Pride and Prejudice</td>\n",
              "            <td>2</td>\n",
              "            <td>1813</td>\n",
              "            <td>Romance</td>\n",
              "            <td>432</td>\n",
              "        </tr>\n",
              "        <tr>\n",
              "            <td>5</td>\n",
              "            <td>Sense and Sensibility</td>\n",
              "            <td>2</td>\n",
              "            <td>1811</td>\n",
              "            <td>Romance</td>\n",
              "            <td>384</td>\n",
              "        </tr>\n",
              "        <tr>\n",
              "            <td>6</td>\n",
              "            <td>Emma</td>\n",
              "            <td>2</td>\n",
              "            <td>1815</td>\n",
              "            <td>Romance</td>\n",
              "            <td>474</td>\n",
              "        </tr>\n",
              "        <tr>\n",
              "            <td>7</td>\n",
              "            <td>Ulysses</td>\n",
              "            <td>3</td>\n",
              "            <td>1922</td>\n",
              "            <td>Modernist</td>\n",
              "            <td>730</td>\n",
              "        </tr>\n",
              "        <tr>\n",
              "            <td>8</td>\n",
              "            <td>Dubliners</td>\n",
              "            <td>3</td>\n",
              "            <td>1914</td>\n",
              "            <td>Short Story</td>\n",
              "            <td>152</td>\n",
              "        </tr>\n",
              "        <tr>\n",
              "            <td>9</td>\n",
              "            <td>A Portrait of the Artist as a Young Man</td>\n",
              "            <td>3</td>\n",
              "            <td>1916</td>\n",
              "            <td>Modernist</td>\n",
              "            <td>299</td>\n",
              "        </tr>\n",
              "        <tr>\n",
              "            <td>10</td>\n",
              "            <td>Beloved</td>\n",
              "            <td>4</td>\n",
              "            <td>1987</td>\n",
              "            <td>Historical Fiction</td>\n",
              "            <td>324</td>\n",
              "        </tr>\n",
              "        <tr>\n",
              "            <td>11</td>\n",
              "            <td>Song of Solomon</td>\n",
              "            <td>4</td>\n",
              "            <td>1977</td>\n",
              "            <td>Fiction</td>\n",
              "            <td>337</td>\n",
              "        </tr>\n",
              "        <tr>\n",
              "            <td>12</td>\n",
              "            <td>The Bluest Eye</td>\n",
              "            <td>4</td>\n",
              "            <td>1970</td>\n",
              "            <td>Fiction</td>\n",
              "            <td>216</td>\n",
              "        </tr>\n",
              "        <tr>\n",
              "            <td>13</td>\n",
              "            <td>Midnight&#x27;s Children</td>\n",
              "            <td>5</td>\n",
              "            <td>1981</td>\n",
              "            <td>Magical Realism</td>\n",
              "            <td>536</td>\n",
              "        </tr>\n",
              "        <tr>\n",
              "            <td>14</td>\n",
              "            <td>The Satanic Verses</td>\n",
              "            <td>5</td>\n",
              "            <td>1988</td>\n",
              "            <td>Magical Realism</td>\n",
              "            <td>547</td>\n",
              "        </tr>\n",
              "        <tr>\n",
              "            <td>15</td>\n",
              "            <td>The Moor&#x27;s Last Sigh</td>\n",
              "            <td>5</td>\n",
              "            <td>1995</td>\n",
              "            <td>Fiction</td>\n",
              "            <td>434</td>\n",
              "        </tr>\n",
              "    </tbody>\n",
              "</table>"
            ]
          },
          "metadata": {},
          "execution_count": 5
        }
      ]
    },
    {
      "cell_type": "markdown",
      "source": [
        "This query will return all columns and all rows from the Books table. While convenient for exploration, it's generally better to explicitly list the columns you need in production code for clarity and efficiency.\n",
        "\n",
        "2. Selecting Specific Columns\n",
        "\n",
        "You can specify exactly which columns you want to retrieve:"
      ],
      "metadata": {
        "id": "Z-R7Qv4xg1P5"
      }
    },
    {
      "cell_type": "code",
      "source": [
        "%%sql\n",
        "SELECT Title, PublicationYear\n",
        "FROM Books;"
      ],
      "metadata": {
        "colab": {
          "base_uri": "https://localhost:8080/",
          "height": 394
        },
        "id": "JsqyNsd7g5mq",
        "outputId": "b8cf6e63-a080-42d1-e8fa-c4c21947c399"
      },
      "execution_count": null,
      "outputs": [
        {
          "output_type": "stream",
          "name": "stdout",
          "text": [
            " * sqlite://\n",
            "Done.\n"
          ]
        },
        {
          "output_type": "execute_result",
          "data": {
            "text/plain": [
              "[('Hamlet', 1603),\n",
              " ('Romeo and Juliet', 1597),\n",
              " ('Macbeth', 1606),\n",
              " ('Pride and Prejudice', 1813),\n",
              " ('Sense and Sensibility', 1811),\n",
              " ('Emma', 1815),\n",
              " ('Ulysses', 1922),\n",
              " ('Dubliners', 1914),\n",
              " ('A Portrait of the Artist as a Young Man', 1916),\n",
              " ('Beloved', 1987),\n",
              " ('Song of Solomon', 1977),\n",
              " ('The Bluest Eye', 1970),\n",
              " (\"Midnight's Children\", 1981),\n",
              " ('The Satanic Verses', 1988),\n",
              " (\"The Moor's Last Sigh\", 1995)]"
            ],
            "text/html": [
              "<table>\n",
              "    <thead>\n",
              "        <tr>\n",
              "            <th>Title</th>\n",
              "            <th>PublicationYear</th>\n",
              "        </tr>\n",
              "    </thead>\n",
              "    <tbody>\n",
              "        <tr>\n",
              "            <td>Hamlet</td>\n",
              "            <td>1603</td>\n",
              "        </tr>\n",
              "        <tr>\n",
              "            <td>Romeo and Juliet</td>\n",
              "            <td>1597</td>\n",
              "        </tr>\n",
              "        <tr>\n",
              "            <td>Macbeth</td>\n",
              "            <td>1606</td>\n",
              "        </tr>\n",
              "        <tr>\n",
              "            <td>Pride and Prejudice</td>\n",
              "            <td>1813</td>\n",
              "        </tr>\n",
              "        <tr>\n",
              "            <td>Sense and Sensibility</td>\n",
              "            <td>1811</td>\n",
              "        </tr>\n",
              "        <tr>\n",
              "            <td>Emma</td>\n",
              "            <td>1815</td>\n",
              "        </tr>\n",
              "        <tr>\n",
              "            <td>Ulysses</td>\n",
              "            <td>1922</td>\n",
              "        </tr>\n",
              "        <tr>\n",
              "            <td>Dubliners</td>\n",
              "            <td>1914</td>\n",
              "        </tr>\n",
              "        <tr>\n",
              "            <td>A Portrait of the Artist as a Young Man</td>\n",
              "            <td>1916</td>\n",
              "        </tr>\n",
              "        <tr>\n",
              "            <td>Beloved</td>\n",
              "            <td>1987</td>\n",
              "        </tr>\n",
              "        <tr>\n",
              "            <td>Song of Solomon</td>\n",
              "            <td>1977</td>\n",
              "        </tr>\n",
              "        <tr>\n",
              "            <td>The Bluest Eye</td>\n",
              "            <td>1970</td>\n",
              "        </tr>\n",
              "        <tr>\n",
              "            <td>Midnight&#x27;s Children</td>\n",
              "            <td>1981</td>\n",
              "        </tr>\n",
              "        <tr>\n",
              "            <td>The Satanic Verses</td>\n",
              "            <td>1988</td>\n",
              "        </tr>\n",
              "        <tr>\n",
              "            <td>The Moor&#x27;s Last Sigh</td>\n",
              "            <td>1995</td>\n",
              "        </tr>\n",
              "    </tbody>\n",
              "</table>"
            ]
          },
          "metadata": {},
          "execution_count": 6
        }
      ]
    },
    {
      "cell_type": "markdown",
      "source": [
        "This query will return only the Title and PublicationYear for all books in the database.\n",
        "\n",
        "3. Aliasing Columns\n",
        "\n",
        "You can give columns alternative names in the query results using aliases:\n"
      ],
      "metadata": {
        "id": "msKxPup6g8YR"
      }
    },
    {
      "cell_type": "code",
      "source": [
        "%%sql\n",
        "SELECT Title AS BookTitle, PublicationYear AS YearPublished\n",
        "FROM Books;"
      ],
      "metadata": {
        "colab": {
          "base_uri": "https://localhost:8080/",
          "height": 394
        },
        "id": "a7_gNXT0g-kx",
        "outputId": "101c7d9f-cc0f-4e26-a2cc-ff91a83047c2"
      },
      "execution_count": null,
      "outputs": [
        {
          "output_type": "stream",
          "name": "stdout",
          "text": [
            " * sqlite://\n",
            "Done.\n"
          ]
        },
        {
          "output_type": "execute_result",
          "data": {
            "text/plain": [
              "[('Hamlet', 1603),\n",
              " ('Romeo and Juliet', 1597),\n",
              " ('Macbeth', 1606),\n",
              " ('Pride and Prejudice', 1813),\n",
              " ('Sense and Sensibility', 1811),\n",
              " ('Emma', 1815),\n",
              " ('Ulysses', 1922),\n",
              " ('Dubliners', 1914),\n",
              " ('A Portrait of the Artist as a Young Man', 1916),\n",
              " ('Beloved', 1987),\n",
              " ('Song of Solomon', 1977),\n",
              " ('The Bluest Eye', 1970),\n",
              " (\"Midnight's Children\", 1981),\n",
              " ('The Satanic Verses', 1988),\n",
              " (\"The Moor's Last Sigh\", 1995)]"
            ],
            "text/html": [
              "<table>\n",
              "    <thead>\n",
              "        <tr>\n",
              "            <th>BookTitle</th>\n",
              "            <th>YearPublished</th>\n",
              "        </tr>\n",
              "    </thead>\n",
              "    <tbody>\n",
              "        <tr>\n",
              "            <td>Hamlet</td>\n",
              "            <td>1603</td>\n",
              "        </tr>\n",
              "        <tr>\n",
              "            <td>Romeo and Juliet</td>\n",
              "            <td>1597</td>\n",
              "        </tr>\n",
              "        <tr>\n",
              "            <td>Macbeth</td>\n",
              "            <td>1606</td>\n",
              "        </tr>\n",
              "        <tr>\n",
              "            <td>Pride and Prejudice</td>\n",
              "            <td>1813</td>\n",
              "        </tr>\n",
              "        <tr>\n",
              "            <td>Sense and Sensibility</td>\n",
              "            <td>1811</td>\n",
              "        </tr>\n",
              "        <tr>\n",
              "            <td>Emma</td>\n",
              "            <td>1815</td>\n",
              "        </tr>\n",
              "        <tr>\n",
              "            <td>Ulysses</td>\n",
              "            <td>1922</td>\n",
              "        </tr>\n",
              "        <tr>\n",
              "            <td>Dubliners</td>\n",
              "            <td>1914</td>\n",
              "        </tr>\n",
              "        <tr>\n",
              "            <td>A Portrait of the Artist as a Young Man</td>\n",
              "            <td>1916</td>\n",
              "        </tr>\n",
              "        <tr>\n",
              "            <td>Beloved</td>\n",
              "            <td>1987</td>\n",
              "        </tr>\n",
              "        <tr>\n",
              "            <td>Song of Solomon</td>\n",
              "            <td>1977</td>\n",
              "        </tr>\n",
              "        <tr>\n",
              "            <td>The Bluest Eye</td>\n",
              "            <td>1970</td>\n",
              "        </tr>\n",
              "        <tr>\n",
              "            <td>Midnight&#x27;s Children</td>\n",
              "            <td>1981</td>\n",
              "        </tr>\n",
              "        <tr>\n",
              "            <td>The Satanic Verses</td>\n",
              "            <td>1988</td>\n",
              "        </tr>\n",
              "        <tr>\n",
              "            <td>The Moor&#x27;s Last Sigh</td>\n",
              "            <td>1995</td>\n",
              "        </tr>\n",
              "    </tbody>\n",
              "</table>"
            ]
          },
          "metadata": {},
          "execution_count": 7
        }
      ]
    },
    {
      "cell_type": "markdown",
      "source": [
        "## Selecting Distinct Values\n",
        "\n",
        "The DISTINCT keyword allows you to remove duplicate values from your query results:"
      ],
      "metadata": {
        "id": "utD0FZyOhDcR"
      }
    },
    {
      "cell_type": "code",
      "source": [
        "%%sql\n",
        "SELECT DISTINCT Genre\n",
        "FROM Books;"
      ],
      "metadata": {
        "colab": {
          "base_uri": "https://localhost:8080/",
          "height": 225
        },
        "id": "TeVbxtOdhIcB",
        "outputId": "409b8d2c-6f8c-4f77-ba76-cba7817eff16"
      },
      "execution_count": null,
      "outputs": [
        {
          "output_type": "stream",
          "name": "stdout",
          "text": [
            " * sqlite://\n",
            "Done.\n"
          ]
        },
        {
          "output_type": "execute_result",
          "data": {
            "text/plain": [
              "[('Tragedy',),\n",
              " ('Romance',),\n",
              " ('Modernist',),\n",
              " ('Short Story',),\n",
              " ('Historical Fiction',),\n",
              " ('Fiction',),\n",
              " ('Magical Realism',)]"
            ],
            "text/html": [
              "<table>\n",
              "    <thead>\n",
              "        <tr>\n",
              "            <th>Genre</th>\n",
              "        </tr>\n",
              "    </thead>\n",
              "    <tbody>\n",
              "        <tr>\n",
              "            <td>Tragedy</td>\n",
              "        </tr>\n",
              "        <tr>\n",
              "            <td>Romance</td>\n",
              "        </tr>\n",
              "        <tr>\n",
              "            <td>Modernist</td>\n",
              "        </tr>\n",
              "        <tr>\n",
              "            <td>Short Story</td>\n",
              "        </tr>\n",
              "        <tr>\n",
              "            <td>Historical Fiction</td>\n",
              "        </tr>\n",
              "        <tr>\n",
              "            <td>Fiction</td>\n",
              "        </tr>\n",
              "        <tr>\n",
              "            <td>Magical Realism</td>\n",
              "        </tr>\n",
              "    </tbody>\n",
              "</table>"
            ]
          },
          "metadata": {},
          "execution_count": 8
        }
      ]
    },
    {
      "cell_type": "markdown",
      "source": [
        "This query will return a list of unique genres in our Books table. See the difference with this:"
      ],
      "metadata": {
        "id": "8cWfc48DhLPR"
      }
    },
    {
      "cell_type": "code",
      "source": [
        "%%sql\n",
        "SELECT Genre\n",
        "FROM Books;"
      ],
      "metadata": {
        "colab": {
          "base_uri": "https://localhost:8080/",
          "height": 394
        },
        "id": "O9t7VwGchOcJ",
        "outputId": "fee4359f-8f1a-47d0-930b-978dbfe531e3"
      },
      "execution_count": null,
      "outputs": [
        {
          "output_type": "stream",
          "name": "stdout",
          "text": [
            " * sqlite://\n",
            "Done.\n"
          ]
        },
        {
          "output_type": "execute_result",
          "data": {
            "text/plain": [
              "[('Tragedy',),\n",
              " ('Tragedy',),\n",
              " ('Tragedy',),\n",
              " ('Romance',),\n",
              " ('Romance',),\n",
              " ('Romance',),\n",
              " ('Modernist',),\n",
              " ('Short Story',),\n",
              " ('Modernist',),\n",
              " ('Historical Fiction',),\n",
              " ('Fiction',),\n",
              " ('Fiction',),\n",
              " ('Magical Realism',),\n",
              " ('Magical Realism',),\n",
              " ('Fiction',)]"
            ],
            "text/html": [
              "<table>\n",
              "    <thead>\n",
              "        <tr>\n",
              "            <th>Genre</th>\n",
              "        </tr>\n",
              "    </thead>\n",
              "    <tbody>\n",
              "        <tr>\n",
              "            <td>Tragedy</td>\n",
              "        </tr>\n",
              "        <tr>\n",
              "            <td>Tragedy</td>\n",
              "        </tr>\n",
              "        <tr>\n",
              "            <td>Tragedy</td>\n",
              "        </tr>\n",
              "        <tr>\n",
              "            <td>Romance</td>\n",
              "        </tr>\n",
              "        <tr>\n",
              "            <td>Romance</td>\n",
              "        </tr>\n",
              "        <tr>\n",
              "            <td>Romance</td>\n",
              "        </tr>\n",
              "        <tr>\n",
              "            <td>Modernist</td>\n",
              "        </tr>\n",
              "        <tr>\n",
              "            <td>Short Story</td>\n",
              "        </tr>\n",
              "        <tr>\n",
              "            <td>Modernist</td>\n",
              "        </tr>\n",
              "        <tr>\n",
              "            <td>Historical Fiction</td>\n",
              "        </tr>\n",
              "        <tr>\n",
              "            <td>Fiction</td>\n",
              "        </tr>\n",
              "        <tr>\n",
              "            <td>Fiction</td>\n",
              "        </tr>\n",
              "        <tr>\n",
              "            <td>Magical Realism</td>\n",
              "        </tr>\n",
              "        <tr>\n",
              "            <td>Magical Realism</td>\n",
              "        </tr>\n",
              "        <tr>\n",
              "            <td>Fiction</td>\n",
              "        </tr>\n",
              "    </tbody>\n",
              "</table>"
            ]
          },
          "metadata": {},
          "execution_count": 9
        }
      ]
    },
    {
      "cell_type": "markdown",
      "source": [
        "5. Performing Calculations\n",
        "\n",
        "You can perform calculations or apply functions to columns in your SELECT statement:\n"
      ],
      "metadata": {
        "id": "Jai1SM0uhQcD"
      }
    },
    {
      "cell_type": "code",
      "source": [
        "%%sql\n",
        "SELECT Title, PublicationYear, PageCount,\n",
        "       PageCount / 100.0 AS ApproximateWordCountInThousands\n",
        "FROM Books;"
      ],
      "metadata": {
        "colab": {
          "base_uri": "https://localhost:8080/",
          "height": 394
        },
        "id": "zd_THElGhURj",
        "outputId": "041dc819-2716-43a2-e71e-62923ce31d7b"
      },
      "execution_count": null,
      "outputs": [
        {
          "output_type": "stream",
          "name": "stdout",
          "text": [
            " * sqlite://\n",
            "Done.\n"
          ]
        },
        {
          "output_type": "execute_result",
          "data": {
            "text/plain": [
              "[('Hamlet', 1603, 342, 3.42),\n",
              " ('Romeo and Juliet', 1597, 283, 2.83),\n",
              " ('Macbeth', 1606, 305, 3.05),\n",
              " ('Pride and Prejudice', 1813, 432, 4.32),\n",
              " ('Sense and Sensibility', 1811, 384, 3.84),\n",
              " ('Emma', 1815, 474, 4.74),\n",
              " ('Ulysses', 1922, 730, 7.3),\n",
              " ('Dubliners', 1914, 152, 1.52),\n",
              " ('A Portrait of the Artist as a Young Man', 1916, 299, 2.99),\n",
              " ('Beloved', 1987, 324, 3.24),\n",
              " ('Song of Solomon', 1977, 337, 3.37),\n",
              " ('The Bluest Eye', 1970, 216, 2.16),\n",
              " (\"Midnight's Children\", 1981, 536, 5.36),\n",
              " ('The Satanic Verses', 1988, 547, 5.47),\n",
              " (\"The Moor's Last Sigh\", 1995, 434, 4.34)]"
            ],
            "text/html": [
              "<table>\n",
              "    <thead>\n",
              "        <tr>\n",
              "            <th>Title</th>\n",
              "            <th>PublicationYear</th>\n",
              "            <th>PageCount</th>\n",
              "            <th>ApproximateWordCountInThousands</th>\n",
              "        </tr>\n",
              "    </thead>\n",
              "    <tbody>\n",
              "        <tr>\n",
              "            <td>Hamlet</td>\n",
              "            <td>1603</td>\n",
              "            <td>342</td>\n",
              "            <td>3.42</td>\n",
              "        </tr>\n",
              "        <tr>\n",
              "            <td>Romeo and Juliet</td>\n",
              "            <td>1597</td>\n",
              "            <td>283</td>\n",
              "            <td>2.83</td>\n",
              "        </tr>\n",
              "        <tr>\n",
              "            <td>Macbeth</td>\n",
              "            <td>1606</td>\n",
              "            <td>305</td>\n",
              "            <td>3.05</td>\n",
              "        </tr>\n",
              "        <tr>\n",
              "            <td>Pride and Prejudice</td>\n",
              "            <td>1813</td>\n",
              "            <td>432</td>\n",
              "            <td>4.32</td>\n",
              "        </tr>\n",
              "        <tr>\n",
              "            <td>Sense and Sensibility</td>\n",
              "            <td>1811</td>\n",
              "            <td>384</td>\n",
              "            <td>3.84</td>\n",
              "        </tr>\n",
              "        <tr>\n",
              "            <td>Emma</td>\n",
              "            <td>1815</td>\n",
              "            <td>474</td>\n",
              "            <td>4.74</td>\n",
              "        </tr>\n",
              "        <tr>\n",
              "            <td>Ulysses</td>\n",
              "            <td>1922</td>\n",
              "            <td>730</td>\n",
              "            <td>7.3</td>\n",
              "        </tr>\n",
              "        <tr>\n",
              "            <td>Dubliners</td>\n",
              "            <td>1914</td>\n",
              "            <td>152</td>\n",
              "            <td>1.52</td>\n",
              "        </tr>\n",
              "        <tr>\n",
              "            <td>A Portrait of the Artist as a Young Man</td>\n",
              "            <td>1916</td>\n",
              "            <td>299</td>\n",
              "            <td>2.99</td>\n",
              "        </tr>\n",
              "        <tr>\n",
              "            <td>Beloved</td>\n",
              "            <td>1987</td>\n",
              "            <td>324</td>\n",
              "            <td>3.24</td>\n",
              "        </tr>\n",
              "        <tr>\n",
              "            <td>Song of Solomon</td>\n",
              "            <td>1977</td>\n",
              "            <td>337</td>\n",
              "            <td>3.37</td>\n",
              "        </tr>\n",
              "        <tr>\n",
              "            <td>The Bluest Eye</td>\n",
              "            <td>1970</td>\n",
              "            <td>216</td>\n",
              "            <td>2.16</td>\n",
              "        </tr>\n",
              "        <tr>\n",
              "            <td>Midnight&#x27;s Children</td>\n",
              "            <td>1981</td>\n",
              "            <td>536</td>\n",
              "            <td>5.36</td>\n",
              "        </tr>\n",
              "        <tr>\n",
              "            <td>The Satanic Verses</td>\n",
              "            <td>1988</td>\n",
              "            <td>547</td>\n",
              "            <td>5.47</td>\n",
              "        </tr>\n",
              "        <tr>\n",
              "            <td>The Moor&#x27;s Last Sigh</td>\n",
              "            <td>1995</td>\n",
              "            <td>434</td>\n",
              "            <td>4.34</td>\n",
              "        </tr>\n",
              "    </tbody>\n",
              "</table>"
            ]
          },
          "metadata": {},
          "execution_count": 10
        }
      ]
    },
    {
      "cell_type": "markdown",
      "source": [
        "This query estimates the word count for each book based on its page count.\n",
        "\n"
      ],
      "metadata": {
        "id": "SCY8H7c7hbfT"
      }
    },
    {
      "cell_type": "markdown",
      "source": [
        "## SQL: the WHERE clause\n",
        "\n",
        "The WHERE clause is a powerful feature in SQL that allows you to filter the results of your query based on specified conditions. It's used to extract only those records that fulfill a specified criterion, making it an essential tool for data analysis and reporting.\n",
        "\n",
        "The basic syntax of a SELECT statement with a WHERE clause is as follows:\n",
        "\n",
        "```sql\n",
        "SELECT column1, column2, ...\n",
        "FROM table_name\n",
        "WHERE condition;\n",
        "```\n",
        "\n",
        "The WHERE clause comes after the FROM clause in your SQL statement. It specifies a condition that must be true for a row to be included in the result set. Let's explore some of the most common operators used in WHERE clauses, using our Books and Authors database:\n",
        "\n",
        "### Comparison Operators (<, >, =)\n",
        "\n",
        "These operators allow you to compare values. They're fundamental to data filtering and are often the first type of WHERE clause that new SQL users learn.\n"
      ],
      "metadata": {
        "id": "ah9BhRFshgAA"
      }
    },
    {
      "cell_type": "code",
      "source": [
        "%%sql\n",
        "SELECT Title, PublicationYear\n",
        "FROM Books\n",
        "WHERE PublicationYear > 1900;"
      ],
      "metadata": {
        "colab": {
          "base_uri": "https://localhost:8080/",
          "height": 267
        },
        "id": "L20kaLTHitpv",
        "outputId": "aea5082a-69de-46ca-a99a-8ebef9e962a9"
      },
      "execution_count": null,
      "outputs": [
        {
          "output_type": "stream",
          "name": "stdout",
          "text": [
            " * sqlite://\n",
            "Done.\n"
          ]
        },
        {
          "output_type": "execute_result",
          "data": {
            "text/plain": [
              "[('Ulysses', 1922),\n",
              " ('Dubliners', 1914),\n",
              " ('A Portrait of the Artist as a Young Man', 1916),\n",
              " ('Beloved', 1987),\n",
              " ('Song of Solomon', 1977),\n",
              " ('The Bluest Eye', 1970),\n",
              " (\"Midnight's Children\", 1981),\n",
              " ('The Satanic Verses', 1988),\n",
              " (\"The Moor's Last Sigh\", 1995)]"
            ],
            "text/html": [
              "<table>\n",
              "    <thead>\n",
              "        <tr>\n",
              "            <th>Title</th>\n",
              "            <th>PublicationYear</th>\n",
              "        </tr>\n",
              "    </thead>\n",
              "    <tbody>\n",
              "        <tr>\n",
              "            <td>Ulysses</td>\n",
              "            <td>1922</td>\n",
              "        </tr>\n",
              "        <tr>\n",
              "            <td>Dubliners</td>\n",
              "            <td>1914</td>\n",
              "        </tr>\n",
              "        <tr>\n",
              "            <td>A Portrait of the Artist as a Young Man</td>\n",
              "            <td>1916</td>\n",
              "        </tr>\n",
              "        <tr>\n",
              "            <td>Beloved</td>\n",
              "            <td>1987</td>\n",
              "        </tr>\n",
              "        <tr>\n",
              "            <td>Song of Solomon</td>\n",
              "            <td>1977</td>\n",
              "        </tr>\n",
              "        <tr>\n",
              "            <td>The Bluest Eye</td>\n",
              "            <td>1970</td>\n",
              "        </tr>\n",
              "        <tr>\n",
              "            <td>Midnight&#x27;s Children</td>\n",
              "            <td>1981</td>\n",
              "        </tr>\n",
              "        <tr>\n",
              "            <td>The Satanic Verses</td>\n",
              "            <td>1988</td>\n",
              "        </tr>\n",
              "        <tr>\n",
              "            <td>The Moor&#x27;s Last Sigh</td>\n",
              "            <td>1995</td>\n",
              "        </tr>\n",
              "    </tbody>\n",
              "</table>"
            ]
          },
          "metadata": {},
          "execution_count": 12
        }
      ]
    },
    {
      "cell_type": "markdown",
      "source": [
        "This query retrieves all books published after 1900. The '>' operator checks if the PublicationYear is greater than 1900. You could also use '<' for less than, '=' for equal to, '>=' for greater than or equal to, and '<=' for less than or equal to.\n",
        "\n",
        "For example, to find all books by Shakespeare (whom we know has an AuthorID of 1):"
      ],
      "metadata": {
        "id": "hOJifEc4ixRn"
      }
    },
    {
      "cell_type": "code",
      "source": [
        "%%sql\n",
        "SELECT Title\n",
        "FROM Books\n",
        "WHERE AuthorID = 1;"
      ],
      "metadata": {
        "colab": {
          "base_uri": "https://localhost:8080/",
          "height": 140
        },
        "id": "uNToSYJZi0J_",
        "outputId": "0903ced5-c8a6-49de-ff5d-b3659ea809f9"
      },
      "execution_count": null,
      "outputs": [
        {
          "output_type": "stream",
          "name": "stdout",
          "text": [
            " * sqlite://\n",
            "Done.\n"
          ]
        },
        {
          "output_type": "execute_result",
          "data": {
            "text/plain": [
              "[('Hamlet',), ('Romeo and Juliet',), ('Macbeth',)]"
            ],
            "text/html": [
              "<table>\n",
              "    <thead>\n",
              "        <tr>\n",
              "            <th>Title</th>\n",
              "        </tr>\n",
              "    </thead>\n",
              "    <tbody>\n",
              "        <tr>\n",
              "            <td>Hamlet</td>\n",
              "        </tr>\n",
              "        <tr>\n",
              "            <td>Romeo and Juliet</td>\n",
              "        </tr>\n",
              "        <tr>\n",
              "            <td>Macbeth</td>\n",
              "        </tr>\n",
              "    </tbody>\n",
              "</table>"
            ]
          },
          "metadata": {},
          "execution_count": 13
        }
      ]
    },
    {
      "cell_type": "markdown",
      "source": [
        "### LIKE Operator\n",
        "\n",
        "The LIKE operator is used for pattern matching with wildcard characters. This is particularly useful when you're searching for partial matches in text fields."
      ],
      "metadata": {
        "id": "MPFrRc95i4uG"
      }
    },
    {
      "cell_type": "code",
      "source": [
        "%%sql\n",
        "SELECT Title\n",
        "FROM Books\n",
        "WHERE Title LIKE 'The%';"
      ],
      "metadata": {
        "colab": {
          "base_uri": "https://localhost:8080/",
          "height": 140
        },
        "id": "SnfK1zlSi30W",
        "outputId": "64a15132-4729-4ea2-8feb-cf6226342839"
      },
      "execution_count": null,
      "outputs": [
        {
          "output_type": "stream",
          "name": "stdout",
          "text": [
            " * sqlite://\n",
            "Done.\n"
          ]
        },
        {
          "output_type": "execute_result",
          "data": {
            "text/plain": [
              "[('The Bluest Eye',), ('The Satanic Verses',), (\"The Moor's Last Sigh\",)]"
            ],
            "text/html": [
              "<table>\n",
              "    <thead>\n",
              "        <tr>\n",
              "            <th>Title</th>\n",
              "        </tr>\n",
              "    </thead>\n",
              "    <tbody>\n",
              "        <tr>\n",
              "            <td>The Bluest Eye</td>\n",
              "        </tr>\n",
              "        <tr>\n",
              "            <td>The Satanic Verses</td>\n",
              "        </tr>\n",
              "        <tr>\n",
              "            <td>The Moor&#x27;s Last Sigh</td>\n",
              "        </tr>\n",
              "    </tbody>\n",
              "</table>"
            ]
          },
          "metadata": {},
          "execution_count": 14
        }
      ]
    },
    {
      "cell_type": "markdown",
      "source": [
        "This query finds all books whose titles start with \"The\". The '%' wildcard represents any number of characters. So 'The%' would match \"The Great Gatsby\", \"The Catcher in the Rye\", etc.\n",
        "\n",
        "You can also use '_' as a wildcard for a single character. For example:"
      ],
      "metadata": {
        "id": "3tJtprNii9qG"
      }
    },
    {
      "cell_type": "code",
      "source": [
        "%%sql\n",
        "SELECT Title\n",
        "FROM Books\n",
        "WHERE Title LIKE 'H____t';"
      ],
      "metadata": {
        "colab": {
          "base_uri": "https://localhost:8080/",
          "height": 98
        },
        "id": "P0Z5v3WDi_82",
        "outputId": "c70265de-1f9f-4613-9fbd-0ec0de68fa87"
      },
      "execution_count": null,
      "outputs": [
        {
          "output_type": "stream",
          "name": "stdout",
          "text": [
            " * sqlite://\n",
            "Done.\n"
          ]
        },
        {
          "output_type": "execute_result",
          "data": {
            "text/plain": [
              "[('Hamlet',)]"
            ],
            "text/html": [
              "<table>\n",
              "    <thead>\n",
              "        <tr>\n",
              "            <th>Title</th>\n",
              "        </tr>\n",
              "    </thead>\n",
              "    <tbody>\n",
              "        <tr>\n",
              "            <td>Hamlet</td>\n",
              "        </tr>\n",
              "    </tbody>\n",
              "</table>"
            ]
          },
          "metadata": {},
          "execution_count": 15
        }
      ]
    },
    {
      "cell_type": "markdown",
      "source": [
        "This would match \"Hamlet\".\n",
        "\n",
        "### BETWEEN Operator\n",
        "\n",
        "BETWEEN is used to select values within a given range. It's inclusive, meaning it includes the boundary values."
      ],
      "metadata": {
        "id": "vue_rcppjBe_"
      }
    },
    {
      "cell_type": "code",
      "source": [
        "%%sql\n",
        "SELECT Title, PageCount\n",
        "FROM Books\n",
        "WHERE PageCount BETWEEN 300 AND 400;"
      ],
      "metadata": {
        "colab": {
          "base_uri": "https://localhost:8080/",
          "height": 182
        },
        "id": "r585jZjJjEwl",
        "outputId": "70839499-1b25-420e-96c0-eb0e78e037b4"
      },
      "execution_count": null,
      "outputs": [
        {
          "output_type": "stream",
          "name": "stdout",
          "text": [
            " * sqlite://\n",
            "Done.\n"
          ]
        },
        {
          "output_type": "execute_result",
          "data": {
            "text/plain": [
              "[('Hamlet', 342),\n",
              " ('Macbeth', 305),\n",
              " ('Sense and Sensibility', 384),\n",
              " ('Beloved', 324),\n",
              " ('Song of Solomon', 337)]"
            ],
            "text/html": [
              "<table>\n",
              "    <thead>\n",
              "        <tr>\n",
              "            <th>Title</th>\n",
              "            <th>PageCount</th>\n",
              "        </tr>\n",
              "    </thead>\n",
              "    <tbody>\n",
              "        <tr>\n",
              "            <td>Hamlet</td>\n",
              "            <td>342</td>\n",
              "        </tr>\n",
              "        <tr>\n",
              "            <td>Macbeth</td>\n",
              "            <td>305</td>\n",
              "        </tr>\n",
              "        <tr>\n",
              "            <td>Sense and Sensibility</td>\n",
              "            <td>384</td>\n",
              "        </tr>\n",
              "        <tr>\n",
              "            <td>Beloved</td>\n",
              "            <td>324</td>\n",
              "        </tr>\n",
              "        <tr>\n",
              "            <td>Song of Solomon</td>\n",
              "            <td>337</td>\n",
              "        </tr>\n",
              "    </tbody>\n",
              "</table>"
            ]
          },
          "metadata": {},
          "execution_count": 16
        }
      ]
    },
    {
      "cell_type": "markdown",
      "source": [
        "This retrieves books with 300 to 400 pages, including books with exactly 300 or 400 pages.\n",
        "\n",
        "#### IN Operator\n",
        "\n",
        "The IN operator allows you to specify multiple values in a WHERE clause. It's a shorthand for multiple OR conditions."
      ],
      "metadata": {
        "id": "jFw7-E8NjIIm"
      }
    },
    {
      "cell_type": "code",
      "source": [
        "%%sql\n",
        "SELECT Title, Genre\n",
        "FROM Books\n",
        "WHERE Genre IN ('Fiction', 'Romance', 'Tragedy');"
      ],
      "metadata": {
        "colab": {
          "base_uri": "https://localhost:8080/",
          "height": 267
        },
        "id": "2QwDxqUfjSfu",
        "outputId": "76aa9212-b2b6-45b0-b7a5-1dde6bb0f5cc"
      },
      "execution_count": null,
      "outputs": [
        {
          "output_type": "stream",
          "name": "stdout",
          "text": [
            " * sqlite://\n",
            "Done.\n"
          ]
        },
        {
          "output_type": "execute_result",
          "data": {
            "text/plain": [
              "[('Hamlet', 'Tragedy'),\n",
              " ('Romeo and Juliet', 'Tragedy'),\n",
              " ('Macbeth', 'Tragedy'),\n",
              " ('Pride and Prejudice', 'Romance'),\n",
              " ('Sense and Sensibility', 'Romance'),\n",
              " ('Emma', 'Romance'),\n",
              " ('Song of Solomon', 'Fiction'),\n",
              " ('The Bluest Eye', 'Fiction'),\n",
              " (\"The Moor's Last Sigh\", 'Fiction')]"
            ],
            "text/html": [
              "<table>\n",
              "    <thead>\n",
              "        <tr>\n",
              "            <th>Title</th>\n",
              "            <th>Genre</th>\n",
              "        </tr>\n",
              "    </thead>\n",
              "    <tbody>\n",
              "        <tr>\n",
              "            <td>Hamlet</td>\n",
              "            <td>Tragedy</td>\n",
              "        </tr>\n",
              "        <tr>\n",
              "            <td>Romeo and Juliet</td>\n",
              "            <td>Tragedy</td>\n",
              "        </tr>\n",
              "        <tr>\n",
              "            <td>Macbeth</td>\n",
              "            <td>Tragedy</td>\n",
              "        </tr>\n",
              "        <tr>\n",
              "            <td>Pride and Prejudice</td>\n",
              "            <td>Romance</td>\n",
              "        </tr>\n",
              "        <tr>\n",
              "            <td>Sense and Sensibility</td>\n",
              "            <td>Romance</td>\n",
              "        </tr>\n",
              "        <tr>\n",
              "            <td>Emma</td>\n",
              "            <td>Romance</td>\n",
              "        </tr>\n",
              "        <tr>\n",
              "            <td>Song of Solomon</td>\n",
              "            <td>Fiction</td>\n",
              "        </tr>\n",
              "        <tr>\n",
              "            <td>The Bluest Eye</td>\n",
              "            <td>Fiction</td>\n",
              "        </tr>\n",
              "        <tr>\n",
              "            <td>The Moor&#x27;s Last Sigh</td>\n",
              "            <td>Fiction</td>\n",
              "        </tr>\n",
              "    </tbody>\n",
              "</table>"
            ]
          },
          "metadata": {},
          "execution_count": 17
        }
      ]
    },
    {
      "cell_type": "markdown",
      "source": [
        "This query selects books in the specified genres. It's equivalent to:"
      ],
      "metadata": {
        "id": "7tDtNpN5jVsM"
      }
    },
    {
      "cell_type": "code",
      "source": [
        "%%sql\n",
        "SELECT Title, Genre\n",
        "FROM Books\n",
        "WHERE Genre = 'Fiction' OR Genre = 'Romance' OR Genre = 'Tragedy';"
      ],
      "metadata": {
        "colab": {
          "base_uri": "https://localhost:8080/",
          "height": 267
        },
        "id": "t2svUvBoja8d",
        "outputId": "0e68e854-8363-4cb9-8e6e-5131d1b5ae6e"
      },
      "execution_count": null,
      "outputs": [
        {
          "output_type": "stream",
          "name": "stdout",
          "text": [
            " * sqlite://\n",
            "Done.\n"
          ]
        },
        {
          "output_type": "execute_result",
          "data": {
            "text/plain": [
              "[('Hamlet', 'Tragedy'),\n",
              " ('Romeo and Juliet', 'Tragedy'),\n",
              " ('Macbeth', 'Tragedy'),\n",
              " ('Pride and Prejudice', 'Romance'),\n",
              " ('Sense and Sensibility', 'Romance'),\n",
              " ('Emma', 'Romance'),\n",
              " ('Song of Solomon', 'Fiction'),\n",
              " ('The Bluest Eye', 'Fiction'),\n",
              " (\"The Moor's Last Sigh\", 'Fiction')]"
            ],
            "text/html": [
              "<table>\n",
              "    <thead>\n",
              "        <tr>\n",
              "            <th>Title</th>\n",
              "            <th>Genre</th>\n",
              "        </tr>\n",
              "    </thead>\n",
              "    <tbody>\n",
              "        <tr>\n",
              "            <td>Hamlet</td>\n",
              "            <td>Tragedy</td>\n",
              "        </tr>\n",
              "        <tr>\n",
              "            <td>Romeo and Juliet</td>\n",
              "            <td>Tragedy</td>\n",
              "        </tr>\n",
              "        <tr>\n",
              "            <td>Macbeth</td>\n",
              "            <td>Tragedy</td>\n",
              "        </tr>\n",
              "        <tr>\n",
              "            <td>Pride and Prejudice</td>\n",
              "            <td>Romance</td>\n",
              "        </tr>\n",
              "        <tr>\n",
              "            <td>Sense and Sensibility</td>\n",
              "            <td>Romance</td>\n",
              "        </tr>\n",
              "        <tr>\n",
              "            <td>Emma</td>\n",
              "            <td>Romance</td>\n",
              "        </tr>\n",
              "        <tr>\n",
              "            <td>Song of Solomon</td>\n",
              "            <td>Fiction</td>\n",
              "        </tr>\n",
              "        <tr>\n",
              "            <td>The Bluest Eye</td>\n",
              "            <td>Fiction</td>\n",
              "        </tr>\n",
              "        <tr>\n",
              "            <td>The Moor&#x27;s Last Sigh</td>\n",
              "            <td>Fiction</td>\n",
              "        </tr>\n",
              "    </tbody>\n",
              "</table>"
            ]
          },
          "metadata": {},
          "execution_count": 18
        }
      ]
    },
    {
      "cell_type": "markdown",
      "source": [
        "But the IN operator is more concise and often more readable.\n",
        "\n",
        "### Logical Operators (AND, OR, NOT)\n",
        "\n",
        "These operators allow you to combine multiple conditions:"
      ],
      "metadata": {
        "id": "IM0jLl90jckM"
      }
    },
    {
      "cell_type": "code",
      "source": [
        "%%sql\n",
        "SELECT Title, PublicationYear\n",
        "FROM Books\n",
        "WHERE PublicationYear < 1800 AND Genre = 'Tragedy';"
      ],
      "metadata": {
        "colab": {
          "base_uri": "https://localhost:8080/",
          "height": 140
        },
        "id": "ApV3tYnhjhPL",
        "outputId": "5db5ea43-6c99-44c6-f947-242750b433b8"
      },
      "execution_count": null,
      "outputs": [
        {
          "output_type": "stream",
          "name": "stdout",
          "text": [
            " * sqlite://\n",
            "Done.\n"
          ]
        },
        {
          "output_type": "execute_result",
          "data": {
            "text/plain": [
              "[('Hamlet', 1603), ('Romeo and Juliet', 1597), ('Macbeth', 1606)]"
            ],
            "text/html": [
              "<table>\n",
              "    <thead>\n",
              "        <tr>\n",
              "            <th>Title</th>\n",
              "            <th>PublicationYear</th>\n",
              "        </tr>\n",
              "    </thead>\n",
              "    <tbody>\n",
              "        <tr>\n",
              "            <td>Hamlet</td>\n",
              "            <td>1603</td>\n",
              "        </tr>\n",
              "        <tr>\n",
              "            <td>Romeo and Juliet</td>\n",
              "            <td>1597</td>\n",
              "        </tr>\n",
              "        <tr>\n",
              "            <td>Macbeth</td>\n",
              "            <td>1606</td>\n",
              "        </tr>\n",
              "    </tbody>\n",
              "</table>"
            ]
          },
          "metadata": {},
          "execution_count": 19
        }
      ]
    },
    {
      "cell_type": "markdown",
      "source": [
        "This finds tragic plays published before 1800. The AND operator means both conditions must be true.\n",
        "\n",
        "You can use OR if you want rows where either condition is true:"
      ],
      "metadata": {
        "id": "lByjdAWPjja9"
      }
    },
    {
      "cell_type": "code",
      "source": [
        "%%sql\n",
        "SELECT Title, Genre\n",
        "FROM Books\n",
        "WHERE Genre = 'Romance' OR PageCount > 400;"
      ],
      "metadata": {
        "colab": {
          "base_uri": "https://localhost:8080/",
          "height": 225
        },
        "id": "T_y4fmOGjmRW",
        "outputId": "9d43553d-137b-4e63-e07f-6118335f2801"
      },
      "execution_count": null,
      "outputs": [
        {
          "output_type": "stream",
          "name": "stdout",
          "text": [
            " * sqlite://\n",
            "Done.\n"
          ]
        },
        {
          "output_type": "execute_result",
          "data": {
            "text/plain": [
              "[('Pride and Prejudice', 'Romance'),\n",
              " ('Sense and Sensibility', 'Romance'),\n",
              " ('Emma', 'Romance'),\n",
              " ('Ulysses', 'Modernist'),\n",
              " (\"Midnight's Children\", 'Magical Realism'),\n",
              " ('The Satanic Verses', 'Magical Realism'),\n",
              " (\"The Moor's Last Sigh\", 'Fiction')]"
            ],
            "text/html": [
              "<table>\n",
              "    <thead>\n",
              "        <tr>\n",
              "            <th>Title</th>\n",
              "            <th>Genre</th>\n",
              "        </tr>\n",
              "    </thead>\n",
              "    <tbody>\n",
              "        <tr>\n",
              "            <td>Pride and Prejudice</td>\n",
              "            <td>Romance</td>\n",
              "        </tr>\n",
              "        <tr>\n",
              "            <td>Sense and Sensibility</td>\n",
              "            <td>Romance</td>\n",
              "        </tr>\n",
              "        <tr>\n",
              "            <td>Emma</td>\n",
              "            <td>Romance</td>\n",
              "        </tr>\n",
              "        <tr>\n",
              "            <td>Ulysses</td>\n",
              "            <td>Modernist</td>\n",
              "        </tr>\n",
              "        <tr>\n",
              "            <td>Midnight&#x27;s Children</td>\n",
              "            <td>Magical Realism</td>\n",
              "        </tr>\n",
              "        <tr>\n",
              "            <td>The Satanic Verses</td>\n",
              "            <td>Magical Realism</td>\n",
              "        </tr>\n",
              "        <tr>\n",
              "            <td>The Moor&#x27;s Last Sigh</td>\n",
              "            <td>Fiction</td>\n",
              "        </tr>\n",
              "    </tbody>\n",
              "</table>"
            ]
          },
          "metadata": {},
          "execution_count": 20
        }
      ]
    },
    {
      "cell_type": "markdown",
      "source": [
        "This finds books that are either romances or longer than 400 pages.\n",
        "\n",
        "The NOT operator negates a condition:"
      ],
      "metadata": {
        "id": "NQ2io9XNjpZd"
      }
    },
    {
      "cell_type": "code",
      "source": [
        "%%sql\n",
        "SELECT Title, Genre\n",
        "FROM Books\n",
        "WHERE NOT Genre = 'Romance';"
      ],
      "metadata": {
        "colab": {
          "base_uri": "https://localhost:8080/",
          "height": 330
        },
        "id": "vvSIW_Hrjqym",
        "outputId": "1bb1c36a-7958-4b9a-bb7b-57abf138a83e"
      },
      "execution_count": null,
      "outputs": [
        {
          "output_type": "stream",
          "name": "stdout",
          "text": [
            " * sqlite://\n",
            "Done.\n"
          ]
        },
        {
          "output_type": "execute_result",
          "data": {
            "text/plain": [
              "[('Hamlet', 'Tragedy'),\n",
              " ('Romeo and Juliet', 'Tragedy'),\n",
              " ('Macbeth', 'Tragedy'),\n",
              " ('Ulysses', 'Modernist'),\n",
              " ('Dubliners', 'Short Story'),\n",
              " ('A Portrait of the Artist as a Young Man', 'Modernist'),\n",
              " ('Beloved', 'Historical Fiction'),\n",
              " ('Song of Solomon', 'Fiction'),\n",
              " ('The Bluest Eye', 'Fiction'),\n",
              " (\"Midnight's Children\", 'Magical Realism'),\n",
              " ('The Satanic Verses', 'Magical Realism'),\n",
              " (\"The Moor's Last Sigh\", 'Fiction')]"
            ],
            "text/html": [
              "<table>\n",
              "    <thead>\n",
              "        <tr>\n",
              "            <th>Title</th>\n",
              "            <th>Genre</th>\n",
              "        </tr>\n",
              "    </thead>\n",
              "    <tbody>\n",
              "        <tr>\n",
              "            <td>Hamlet</td>\n",
              "            <td>Tragedy</td>\n",
              "        </tr>\n",
              "        <tr>\n",
              "            <td>Romeo and Juliet</td>\n",
              "            <td>Tragedy</td>\n",
              "        </tr>\n",
              "        <tr>\n",
              "            <td>Macbeth</td>\n",
              "            <td>Tragedy</td>\n",
              "        </tr>\n",
              "        <tr>\n",
              "            <td>Ulysses</td>\n",
              "            <td>Modernist</td>\n",
              "        </tr>\n",
              "        <tr>\n",
              "            <td>Dubliners</td>\n",
              "            <td>Short Story</td>\n",
              "        </tr>\n",
              "        <tr>\n",
              "            <td>A Portrait of the Artist as a Young Man</td>\n",
              "            <td>Modernist</td>\n",
              "        </tr>\n",
              "        <tr>\n",
              "            <td>Beloved</td>\n",
              "            <td>Historical Fiction</td>\n",
              "        </tr>\n",
              "        <tr>\n",
              "            <td>Song of Solomon</td>\n",
              "            <td>Fiction</td>\n",
              "        </tr>\n",
              "        <tr>\n",
              "            <td>The Bluest Eye</td>\n",
              "            <td>Fiction</td>\n",
              "        </tr>\n",
              "        <tr>\n",
              "            <td>Midnight&#x27;s Children</td>\n",
              "            <td>Magical Realism</td>\n",
              "        </tr>\n",
              "        <tr>\n",
              "            <td>The Satanic Verses</td>\n",
              "            <td>Magical Realism</td>\n",
              "        </tr>\n",
              "        <tr>\n",
              "            <td>The Moor&#x27;s Last Sigh</td>\n",
              "            <td>Fiction</td>\n",
              "        </tr>\n",
              "    </tbody>\n",
              "</table>"
            ]
          },
          "metadata": {},
          "execution_count": 21
        }
      ]
    },
    {
      "cell_type": "markdown",
      "source": [
        "This finds all books that are not romances.\n",
        "\n",
        "Here's a table summarizing these WHERE clause operators:\n",
        "\n",
        "| Operator | Purpose | Example |\n",
        "|----------|---------|---------|\n",
        "| =, <, >, <=, >= | Comparison | WHERE PageCount > 300 |\n",
        "| LIKE | Pattern matching | WHERE Title LIKE 'The%' |\n",
        "| BETWEEN | Range selection | WHERE PublicationYear BETWEEN 1800 AND 1900 |\n",
        "| IN | Multiple possible values | WHERE Genre IN ('Fiction', 'Romance') |\n",
        "| AND | Both conditions true | WHERE PublicationYear < 1800 AND Genre = 'Tragedy' |\n",
        "| OR | Either condition true | WHERE Genre = 'Fiction' OR PageCount > 400 |\n",
        "| NOT | Negation | WHERE NOT Genre = 'Romance' |\n",
        "\n",
        "The WHERE clause is a fundamental part of SQL that allows you to precisely control which data is returned by your queries. By mastering the use of the WHERE clause, you'll be able to efficiently extract exactly the information you need from your database, no matter how large or complex it may be."
      ],
      "metadata": {
        "id": "4kLyGwM8jsZd"
      }
    },
    {
      "cell_type": "markdown",
      "source": [
        "## SQL: ORDER BY and LIMIT\n",
        "\n",
        "After selecting and filtering data with SELECT, FROM, and WHERE clauses, you often want to sort the results or limit the number of rows returned. This is where the ORDER BY and LIMIT clauses come in handy.\n",
        "\n",
        "### ORDER BY Clause\n",
        "\n",
        "The ORDER BY clause is used to sort the result set in ascending or descending order. The basic syntax is:\n",
        "\n",
        "```sql\n",
        "SELECT column1, column2, ...\n",
        "FROM table_name\n",
        "ORDER BY column1 [ASC|DESC], column2 [ASC|DESC], ...;\n",
        "```\n",
        "\n",
        "Here's how it works:\n",
        "\n",
        "1. By default, ORDER BY sorts in ascending order (ASC).\n",
        "2. You can specify DESC for descending order.\n",
        "3. You can sort by multiple columns; the second column will be used to break ties in the first column, and so on.\n",
        "\n",
        "Let's look at some examples using our Books table:"
      ],
      "metadata": {
        "id": "aSY1Vu1fj3d9"
      }
    },
    {
      "cell_type": "code",
      "source": [
        "%%sql\n",
        "SELECT Title, PublicationYear\n",
        "FROM Books\n",
        "ORDER BY PublicationYear;"
      ],
      "metadata": {
        "colab": {
          "base_uri": "https://localhost:8080/",
          "height": 394
        },
        "id": "k6gYqeuxj4GF",
        "outputId": "b7e1d973-c459-4dfe-8fd3-0deda32a0ca8"
      },
      "execution_count": null,
      "outputs": [
        {
          "output_type": "stream",
          "name": "stdout",
          "text": [
            " * sqlite://\n",
            "Done.\n"
          ]
        },
        {
          "output_type": "execute_result",
          "data": {
            "text/plain": [
              "[('Romeo and Juliet', 1597),\n",
              " ('Hamlet', 1603),\n",
              " ('Macbeth', 1606),\n",
              " ('Sense and Sensibility', 1811),\n",
              " ('Pride and Prejudice', 1813),\n",
              " ('Emma', 1815),\n",
              " ('Dubliners', 1914),\n",
              " ('A Portrait of the Artist as a Young Man', 1916),\n",
              " ('Ulysses', 1922),\n",
              " ('The Bluest Eye', 1970),\n",
              " ('Song of Solomon', 1977),\n",
              " (\"Midnight's Children\", 1981),\n",
              " ('Beloved', 1987),\n",
              " ('The Satanic Verses', 1988),\n",
              " (\"The Moor's Last Sigh\", 1995)]"
            ],
            "text/html": [
              "<table>\n",
              "    <thead>\n",
              "        <tr>\n",
              "            <th>Title</th>\n",
              "            <th>PublicationYear</th>\n",
              "        </tr>\n",
              "    </thead>\n",
              "    <tbody>\n",
              "        <tr>\n",
              "            <td>Romeo and Juliet</td>\n",
              "            <td>1597</td>\n",
              "        </tr>\n",
              "        <tr>\n",
              "            <td>Hamlet</td>\n",
              "            <td>1603</td>\n",
              "        </tr>\n",
              "        <tr>\n",
              "            <td>Macbeth</td>\n",
              "            <td>1606</td>\n",
              "        </tr>\n",
              "        <tr>\n",
              "            <td>Sense and Sensibility</td>\n",
              "            <td>1811</td>\n",
              "        </tr>\n",
              "        <tr>\n",
              "            <td>Pride and Prejudice</td>\n",
              "            <td>1813</td>\n",
              "        </tr>\n",
              "        <tr>\n",
              "            <td>Emma</td>\n",
              "            <td>1815</td>\n",
              "        </tr>\n",
              "        <tr>\n",
              "            <td>Dubliners</td>\n",
              "            <td>1914</td>\n",
              "        </tr>\n",
              "        <tr>\n",
              "            <td>A Portrait of the Artist as a Young Man</td>\n",
              "            <td>1916</td>\n",
              "        </tr>\n",
              "        <tr>\n",
              "            <td>Ulysses</td>\n",
              "            <td>1922</td>\n",
              "        </tr>\n",
              "        <tr>\n",
              "            <td>The Bluest Eye</td>\n",
              "            <td>1970</td>\n",
              "        </tr>\n",
              "        <tr>\n",
              "            <td>Song of Solomon</td>\n",
              "            <td>1977</td>\n",
              "        </tr>\n",
              "        <tr>\n",
              "            <td>Midnight&#x27;s Children</td>\n",
              "            <td>1981</td>\n",
              "        </tr>\n",
              "        <tr>\n",
              "            <td>Beloved</td>\n",
              "            <td>1987</td>\n",
              "        </tr>\n",
              "        <tr>\n",
              "            <td>The Satanic Verses</td>\n",
              "            <td>1988</td>\n",
              "        </tr>\n",
              "        <tr>\n",
              "            <td>The Moor&#x27;s Last Sigh</td>\n",
              "            <td>1995</td>\n",
              "        </tr>\n",
              "    </tbody>\n",
              "</table>"
            ]
          },
          "metadata": {},
          "execution_count": 22
        }
      ]
    },
    {
      "cell_type": "markdown",
      "source": [
        "This query retrieves all book titles and their publication years, sorted from earliest to latest."
      ],
      "metadata": {
        "id": "J8PwTZvgj63O"
      }
    },
    {
      "cell_type": "code",
      "source": [
        "%%sql\n",
        "SELECT Title, PageCount\n",
        "FROM Books\n",
        "ORDER BY PageCount DESC;"
      ],
      "metadata": {
        "colab": {
          "base_uri": "https://localhost:8080/",
          "height": 394
        },
        "id": "ST2ViA3hj92l",
        "outputId": "d0bc20f3-fb47-47bf-937e-b0e56993b5b2"
      },
      "execution_count": null,
      "outputs": [
        {
          "output_type": "stream",
          "name": "stdout",
          "text": [
            " * sqlite://\n",
            "Done.\n"
          ]
        },
        {
          "output_type": "execute_result",
          "data": {
            "text/plain": [
              "[('Ulysses', 730),\n",
              " ('The Satanic Verses', 547),\n",
              " (\"Midnight's Children\", 536),\n",
              " ('Emma', 474),\n",
              " (\"The Moor's Last Sigh\", 434),\n",
              " ('Pride and Prejudice', 432),\n",
              " ('Sense and Sensibility', 384),\n",
              " ('Hamlet', 342),\n",
              " ('Song of Solomon', 337),\n",
              " ('Beloved', 324),\n",
              " ('Macbeth', 305),\n",
              " ('A Portrait of the Artist as a Young Man', 299),\n",
              " ('Romeo and Juliet', 283),\n",
              " ('The Bluest Eye', 216),\n",
              " ('Dubliners', 152)]"
            ],
            "text/html": [
              "<table>\n",
              "    <thead>\n",
              "        <tr>\n",
              "            <th>Title</th>\n",
              "            <th>PageCount</th>\n",
              "        </tr>\n",
              "    </thead>\n",
              "    <tbody>\n",
              "        <tr>\n",
              "            <td>Ulysses</td>\n",
              "            <td>730</td>\n",
              "        </tr>\n",
              "        <tr>\n",
              "            <td>The Satanic Verses</td>\n",
              "            <td>547</td>\n",
              "        </tr>\n",
              "        <tr>\n",
              "            <td>Midnight&#x27;s Children</td>\n",
              "            <td>536</td>\n",
              "        </tr>\n",
              "        <tr>\n",
              "            <td>Emma</td>\n",
              "            <td>474</td>\n",
              "        </tr>\n",
              "        <tr>\n",
              "            <td>The Moor&#x27;s Last Sigh</td>\n",
              "            <td>434</td>\n",
              "        </tr>\n",
              "        <tr>\n",
              "            <td>Pride and Prejudice</td>\n",
              "            <td>432</td>\n",
              "        </tr>\n",
              "        <tr>\n",
              "            <td>Sense and Sensibility</td>\n",
              "            <td>384</td>\n",
              "        </tr>\n",
              "        <tr>\n",
              "            <td>Hamlet</td>\n",
              "            <td>342</td>\n",
              "        </tr>\n",
              "        <tr>\n",
              "            <td>Song of Solomon</td>\n",
              "            <td>337</td>\n",
              "        </tr>\n",
              "        <tr>\n",
              "            <td>Beloved</td>\n",
              "            <td>324</td>\n",
              "        </tr>\n",
              "        <tr>\n",
              "            <td>Macbeth</td>\n",
              "            <td>305</td>\n",
              "        </tr>\n",
              "        <tr>\n",
              "            <td>A Portrait of the Artist as a Young Man</td>\n",
              "            <td>299</td>\n",
              "        </tr>\n",
              "        <tr>\n",
              "            <td>Romeo and Juliet</td>\n",
              "            <td>283</td>\n",
              "        </tr>\n",
              "        <tr>\n",
              "            <td>The Bluest Eye</td>\n",
              "            <td>216</td>\n",
              "        </tr>\n",
              "        <tr>\n",
              "            <td>Dubliners</td>\n",
              "            <td>152</td>\n",
              "        </tr>\n",
              "    </tbody>\n",
              "</table>"
            ]
          },
          "metadata": {},
          "execution_count": 23
        }
      ]
    },
    {
      "cell_type": "markdown",
      "source": [
        "his query lists books from longest to shortest.\n",
        "\n",
        "You can also sort by multiple columns:"
      ],
      "metadata": {
        "id": "Lvwe94yakBaT"
      }
    },
    {
      "cell_type": "code",
      "source": [
        "%%sql\n",
        "SELECT Title, AuthorID, PublicationYear\n",
        "FROM Books\n",
        "ORDER BY AuthorID ASC, PublicationYear DESC;"
      ],
      "metadata": {
        "colab": {
          "base_uri": "https://localhost:8080/",
          "height": 394
        },
        "id": "Dj1sCY4ykDlk",
        "outputId": "4fcd86fb-c398-48d2-f0ef-4c9d10ca7fb0"
      },
      "execution_count": null,
      "outputs": [
        {
          "output_type": "stream",
          "name": "stdout",
          "text": [
            " * sqlite://\n",
            "Done.\n"
          ]
        },
        {
          "output_type": "execute_result",
          "data": {
            "text/plain": [
              "[('Macbeth', 1, 1606),\n",
              " ('Hamlet', 1, 1603),\n",
              " ('Romeo and Juliet', 1, 1597),\n",
              " ('Emma', 2, 1815),\n",
              " ('Pride and Prejudice', 2, 1813),\n",
              " ('Sense and Sensibility', 2, 1811),\n",
              " ('Ulysses', 3, 1922),\n",
              " ('A Portrait of the Artist as a Young Man', 3, 1916),\n",
              " ('Dubliners', 3, 1914),\n",
              " ('Beloved', 4, 1987),\n",
              " ('Song of Solomon', 4, 1977),\n",
              " ('The Bluest Eye', 4, 1970),\n",
              " (\"The Moor's Last Sigh\", 5, 1995),\n",
              " ('The Satanic Verses', 5, 1988),\n",
              " (\"Midnight's Children\", 5, 1981)]"
            ],
            "text/html": [
              "<table>\n",
              "    <thead>\n",
              "        <tr>\n",
              "            <th>Title</th>\n",
              "            <th>AuthorID</th>\n",
              "            <th>PublicationYear</th>\n",
              "        </tr>\n",
              "    </thead>\n",
              "    <tbody>\n",
              "        <tr>\n",
              "            <td>Macbeth</td>\n",
              "            <td>1</td>\n",
              "            <td>1606</td>\n",
              "        </tr>\n",
              "        <tr>\n",
              "            <td>Hamlet</td>\n",
              "            <td>1</td>\n",
              "            <td>1603</td>\n",
              "        </tr>\n",
              "        <tr>\n",
              "            <td>Romeo and Juliet</td>\n",
              "            <td>1</td>\n",
              "            <td>1597</td>\n",
              "        </tr>\n",
              "        <tr>\n",
              "            <td>Emma</td>\n",
              "            <td>2</td>\n",
              "            <td>1815</td>\n",
              "        </tr>\n",
              "        <tr>\n",
              "            <td>Pride and Prejudice</td>\n",
              "            <td>2</td>\n",
              "            <td>1813</td>\n",
              "        </tr>\n",
              "        <tr>\n",
              "            <td>Sense and Sensibility</td>\n",
              "            <td>2</td>\n",
              "            <td>1811</td>\n",
              "        </tr>\n",
              "        <tr>\n",
              "            <td>Ulysses</td>\n",
              "            <td>3</td>\n",
              "            <td>1922</td>\n",
              "        </tr>\n",
              "        <tr>\n",
              "            <td>A Portrait of the Artist as a Young Man</td>\n",
              "            <td>3</td>\n",
              "            <td>1916</td>\n",
              "        </tr>\n",
              "        <tr>\n",
              "            <td>Dubliners</td>\n",
              "            <td>3</td>\n",
              "            <td>1914</td>\n",
              "        </tr>\n",
              "        <tr>\n",
              "            <td>Beloved</td>\n",
              "            <td>4</td>\n",
              "            <td>1987</td>\n",
              "        </tr>\n",
              "        <tr>\n",
              "            <td>Song of Solomon</td>\n",
              "            <td>4</td>\n",
              "            <td>1977</td>\n",
              "        </tr>\n",
              "        <tr>\n",
              "            <td>The Bluest Eye</td>\n",
              "            <td>4</td>\n",
              "            <td>1970</td>\n",
              "        </tr>\n",
              "        <tr>\n",
              "            <td>The Moor&#x27;s Last Sigh</td>\n",
              "            <td>5</td>\n",
              "            <td>1995</td>\n",
              "        </tr>\n",
              "        <tr>\n",
              "            <td>The Satanic Verses</td>\n",
              "            <td>5</td>\n",
              "            <td>1988</td>\n",
              "        </tr>\n",
              "        <tr>\n",
              "            <td>Midnight&#x27;s Children</td>\n",
              "            <td>5</td>\n",
              "            <td>1981</td>\n",
              "        </tr>\n",
              "    </tbody>\n",
              "</table>"
            ]
          },
          "metadata": {},
          "execution_count": 24
        }
      ]
    },
    {
      "cell_type": "markdown",
      "source": [
        "This query sorts books first by AuthorID in ascending order, then by PublicationYear in descending order for each author.\n",
        "\n",
        "## LIMIT Clause\n",
        "\n",
        "The LIMIT clause is used to specify the maximum number of rows the result set should return. This is particularly useful when you're dealing with large datasets and only need to see a few rows. The basic syntax is:\n",
        "\n",
        "```sql\n",
        "SELECT column1, column2, ...\n",
        "FROM table_name\n",
        "LIMIT number_of_rows;\n",
        "```\n",
        "\n",
        "Here are some examples:\n"
      ],
      "metadata": {
        "id": "EaI1muCkkGKj"
      }
    },
    {
      "cell_type": "code",
      "source": [
        "%%sql\n",
        "SELECT Title, PublicationYear\n",
        "FROM Books\n",
        "ORDER BY PublicationYear DESC\n",
        "LIMIT 5;"
      ],
      "metadata": {
        "colab": {
          "base_uri": "https://localhost:8080/",
          "height": 182
        },
        "id": "GY_5OPzlkLW7",
        "outputId": "e7a08b91-8884-4fcb-8727-0fcd4d3e9bea"
      },
      "execution_count": null,
      "outputs": [
        {
          "output_type": "stream",
          "name": "stdout",
          "text": [
            " * sqlite://\n",
            "Done.\n"
          ]
        },
        {
          "output_type": "execute_result",
          "data": {
            "text/plain": [
              "[(\"The Moor's Last Sigh\", 1995),\n",
              " ('The Satanic Verses', 1988),\n",
              " ('Beloved', 1987),\n",
              " (\"Midnight's Children\", 1981),\n",
              " ('Song of Solomon', 1977)]"
            ],
            "text/html": [
              "<table>\n",
              "    <thead>\n",
              "        <tr>\n",
              "            <th>Title</th>\n",
              "            <th>PublicationYear</th>\n",
              "        </tr>\n",
              "    </thead>\n",
              "    <tbody>\n",
              "        <tr>\n",
              "            <td>The Moor&#x27;s Last Sigh</td>\n",
              "            <td>1995</td>\n",
              "        </tr>\n",
              "        <tr>\n",
              "            <td>The Satanic Verses</td>\n",
              "            <td>1988</td>\n",
              "        </tr>\n",
              "        <tr>\n",
              "            <td>Beloved</td>\n",
              "            <td>1987</td>\n",
              "        </tr>\n",
              "        <tr>\n",
              "            <td>Midnight&#x27;s Children</td>\n",
              "            <td>1981</td>\n",
              "        </tr>\n",
              "        <tr>\n",
              "            <td>Song of Solomon</td>\n",
              "            <td>1977</td>\n",
              "        </tr>\n",
              "    </tbody>\n",
              "</table>"
            ]
          },
          "metadata": {},
          "execution_count": 25
        }
      ]
    },
    {
      "cell_type": "markdown",
      "source": [
        "This query retrieves the titles and publication years of the 5 most recently published books.\n"
      ],
      "metadata": {
        "id": "K8dB8DmfkNNT"
      }
    },
    {
      "cell_type": "code",
      "source": [
        "%%sql\n",
        "SELECT Title, PageCount\n",
        "FROM Books\n",
        "ORDER BY PageCount DESC\n",
        "LIMIT 3;"
      ],
      "metadata": {
        "id": "KNXEaPrzkVfx"
      },
      "execution_count": null,
      "outputs": []
    },
    {
      "cell_type": "markdown",
      "source": [
        "This query finds the titles and page counts of the 3 longest books in the database.\n",
        "\n",
        "It's important to note that LIMIT is typically used in conjunction with ORDER BY. Without ORDER BY, the database will return an arbitrary set of rows, which may not be what you want.\n",
        "\n",
        "Here's a table summarizing these clauses:\n",
        "\n",
        "| Clause | Purpose | Example |\n",
        "|--------|---------|---------|\n",
        "| ORDER BY | Sort results | ORDER BY PublicationYear DESC |\n",
        "| LIMIT | Restrict number of rows returned | LIMIT 5 |\n",
        "\n",
        "Remember:\n",
        "1. ORDER BY goes after WHERE (if present) in your SQL statement.\n",
        "2. LIMIT is typically the last clause in your SQL statement.\n",
        "3. Not all database systems support LIMIT. Some use TOP or ROWNUM instead.\n",
        "\n",
        "Using ORDER BY and LIMIT together allows you to create queries that answer questions like \"Who are our top 10 bestselling authors?\" or \"What are the 5 shortest books in our database?\" These clauses are essential tools for data analysis and reporting."
      ],
      "metadata": {
        "id": "tAl4pj6QkXEh"
      }
    },
    {
      "cell_type": "markdown",
      "source": [
        "## SQL: Aggregate Functions\n",
        "\n",
        "Aggregate functions in SQL are used to perform calculations on a set of values and return a single result. These functions are powerful tools for data analysis, allowing you to summarize information across multiple rows. Let's explore some of the most commonly used aggregate functions.\n",
        "\n",
        "The basic syntax for using an aggregate function is:\n",
        "\n",
        "```sql\n",
        "SELECT aggregate_function(column_name)\n",
        "FROM table_name;\n",
        "```\n",
        "\n",
        "Here are the five most common aggregate functions:\n",
        "\n",
        "1. COUNT(): Counts the number of rows that match the specified criteria.\n",
        "2. SUM(): Calculates the sum of a set of values.\n",
        "3. AVG(): Calculates the average of a set of values.\n",
        "4. MAX(): Returns the maximum value in a set of values.\n",
        "5. MIN(): Returns the minimum value in a set of values.\n",
        "\n",
        "Let's look at examples of each using our Books database:\n",
        "\n",
        "1. COUNT()"
      ],
      "metadata": {
        "id": "6syy9b_YkiyC"
      }
    },
    {
      "cell_type": "code",
      "source": [
        "%%sql\n",
        "SELECT COUNT(*) AS TotalBooks\n",
        "FROM Books;"
      ],
      "metadata": {
        "colab": {
          "base_uri": "https://localhost:8080/",
          "height": 98
        },
        "id": "V01xrTjdkYqD",
        "outputId": "3fa40333-0861-4fc1-c937-f3bd6a90afd2"
      },
      "execution_count": null,
      "outputs": [
        {
          "output_type": "stream",
          "name": "stdout",
          "text": [
            " * sqlite://\n",
            "Done.\n"
          ]
        },
        {
          "output_type": "execute_result",
          "data": {
            "text/plain": [
              "[(15,)]"
            ],
            "text/html": [
              "<table>\n",
              "    <thead>\n",
              "        <tr>\n",
              "            <th>TotalBooks</th>\n",
              "        </tr>\n",
              "    </thead>\n",
              "    <tbody>\n",
              "        <tr>\n",
              "            <td>15</td>\n",
              "        </tr>\n",
              "    </tbody>\n",
              "</table>"
            ]
          },
          "metadata": {},
          "execution_count": 26
        }
      ]
    },
    {
      "cell_type": "markdown",
      "source": [
        "   This query returns the total number of books in our database.\n",
        "\n",
        "2. SUM()"
      ],
      "metadata": {
        "id": "6G581SPzktSi"
      }
    },
    {
      "cell_type": "code",
      "source": [
        "%%sql\n",
        "SELECT SUM(PageCount) AS TotalPages\n",
        "FROM Books;"
      ],
      "metadata": {
        "colab": {
          "base_uri": "https://localhost:8080/",
          "height": 98
        },
        "id": "tsKTaryfkuhK",
        "outputId": "2ea260d5-9996-48ff-e2e8-f07415a7548b"
      },
      "execution_count": null,
      "outputs": [
        {
          "output_type": "stream",
          "name": "stdout",
          "text": [
            " * sqlite://\n",
            "Done.\n"
          ]
        },
        {
          "output_type": "execute_result",
          "data": {
            "text/plain": [
              "[(5795,)]"
            ],
            "text/html": [
              "<table>\n",
              "    <thead>\n",
              "        <tr>\n",
              "            <th>TotalPages</th>\n",
              "        </tr>\n",
              "    </thead>\n",
              "    <tbody>\n",
              "        <tr>\n",
              "            <td>5795</td>\n",
              "        </tr>\n",
              "    </tbody>\n",
              "</table>"
            ]
          },
          "metadata": {},
          "execution_count": 27
        }
      ]
    },
    {
      "cell_type": "markdown",
      "source": [
        "This calculates the total number of pages across all books.\n",
        "\n",
        "3. AVG()"
      ],
      "metadata": {
        "id": "7A1Km4Sgkyzj"
      }
    },
    {
      "cell_type": "code",
      "source": [
        "%%sql\n",
        "SELECT AVG(PageCount) AS AverageBookLength\n",
        "FROM Books;"
      ],
      "metadata": {
        "colab": {
          "base_uri": "https://localhost:8080/",
          "height": 98
        },
        "id": "CWQ9ThTjk4Si",
        "outputId": "ca2290fe-1d6c-4f1b-e752-f5f3fbcb79f9"
      },
      "execution_count": null,
      "outputs": [
        {
          "output_type": "stream",
          "name": "stdout",
          "text": [
            " * sqlite://\n",
            "Done.\n"
          ]
        },
        {
          "output_type": "execute_result",
          "data": {
            "text/plain": [
              "[(386.3333333333333,)]"
            ],
            "text/html": [
              "<table>\n",
              "    <thead>\n",
              "        <tr>\n",
              "            <th>AverageBookLength</th>\n",
              "        </tr>\n",
              "    </thead>\n",
              "    <tbody>\n",
              "        <tr>\n",
              "            <td>386.3333333333333</td>\n",
              "        </tr>\n",
              "    </tbody>\n",
              "</table>"
            ]
          },
          "metadata": {},
          "execution_count": 28
        }
      ]
    },
    {
      "cell_type": "markdown",
      "source": [
        "This gives us the average number of pages per book.\n",
        "\n",
        "4. MAX() and MIN()"
      ],
      "metadata": {
        "id": "EJwYvR6ak9hX"
      }
    },
    {
      "cell_type": "code",
      "source": [
        "%%sql\n",
        "SELECT MAX(PageCount) AS LongestBook,\n",
        "MIN(PageCount) AS ShortestBook\n",
        "FROM Books;"
      ],
      "metadata": {
        "colab": {
          "base_uri": "https://localhost:8080/",
          "height": 98
        },
        "id": "Bwz_tcbwk-pg",
        "outputId": "9683e92a-521a-4b61-9b3c-e741b5a3711a"
      },
      "execution_count": null,
      "outputs": [
        {
          "output_type": "stream",
          "name": "stdout",
          "text": [
            " * sqlite://\n",
            "Done.\n"
          ]
        },
        {
          "output_type": "execute_result",
          "data": {
            "text/plain": [
              "[(730, 152)]"
            ],
            "text/html": [
              "<table>\n",
              "    <thead>\n",
              "        <tr>\n",
              "            <th>LongestBook</th>\n",
              "            <th>ShortestBook</th>\n",
              "        </tr>\n",
              "    </thead>\n",
              "    <tbody>\n",
              "        <tr>\n",
              "            <td>730</td>\n",
              "            <td>152</td>\n",
              "        </tr>\n",
              "    </tbody>\n",
              "</table>"
            ]
          },
          "metadata": {},
          "execution_count": 29
        }
      ]
    },
    {
      "cell_type": "markdown",
      "source": [
        "This finds the longest and shortest books.\n",
        "\n",
        "Aggregate functions become even more powerful when combined with other SQL clauses. For example:"
      ],
      "metadata": {
        "id": "ZkeRF6yJlK-n"
      }
    },
    {
      "cell_type": "code",
      "source": [
        "%%sql\n",
        "SELECT AuthorID, COUNT(*) AS BookCount\n",
        "FROM Books\n",
        "GROUP BY AuthorID;"
      ],
      "metadata": {
        "colab": {
          "base_uri": "https://localhost:8080/",
          "height": 182
        },
        "id": "ahlOMT69lZIe",
        "outputId": "8cf013b7-0b94-4a45-e093-6010f33bfff1"
      },
      "execution_count": null,
      "outputs": [
        {
          "output_type": "stream",
          "name": "stdout",
          "text": [
            " * sqlite://\n",
            "Done.\n"
          ]
        },
        {
          "output_type": "execute_result",
          "data": {
            "text/plain": [
              "[(1, 3), (2, 3), (3, 3), (4, 3), (5, 3)]"
            ],
            "text/html": [
              "<table>\n",
              "    <thead>\n",
              "        <tr>\n",
              "            <th>AuthorID</th>\n",
              "            <th>BookCount</th>\n",
              "        </tr>\n",
              "    </thead>\n",
              "    <tbody>\n",
              "        <tr>\n",
              "            <td>1</td>\n",
              "            <td>3</td>\n",
              "        </tr>\n",
              "        <tr>\n",
              "            <td>2</td>\n",
              "            <td>3</td>\n",
              "        </tr>\n",
              "        <tr>\n",
              "            <td>3</td>\n",
              "            <td>3</td>\n",
              "        </tr>\n",
              "        <tr>\n",
              "            <td>4</td>\n",
              "            <td>3</td>\n",
              "        </tr>\n",
              "        <tr>\n",
              "            <td>5</td>\n",
              "            <td>3</td>\n",
              "        </tr>\n",
              "    </tbody>\n",
              "</table>"
            ]
          },
          "metadata": {},
          "execution_count": 30
        }
      ]
    },
    {
      "cell_type": "markdown",
      "source": [
        "This query counts the number of books written by each author. We'll find out more about GROUP BY in the next section."
      ],
      "metadata": {
        "id": "rNjAvcaElbcG"
      }
    },
    {
      "cell_type": "markdown",
      "source": [
        "Here's a table summarizing these aggregate functions:\n",
        "\n",
        "| Function | Purpose | Example |\n",
        "|----------|---------|---------|\n",
        "| COUNT() | Count rows | COUNT(*) AS TotalBooks |\n",
        "| SUM() | Sum values | SUM(PageCount) AS TotalPages |\n",
        "| AVG() | Calculate average | AVG(PageCount) AS AverageBookLength |\n",
        "| MAX() | Find maximum value | MAX(PublicationYear) AS MostRecentBook |\n",
        "| MIN() | Find minimum value | MIN(PublicationYear) AS OldestBook |\n",
        "\n",
        "It's important to note a few key points about aggregate functions:\n",
        "\n",
        "1. They ignore NULL values (except COUNT(*), which includes all rows).\n",
        "2. When used with GROUP BY, they perform the calculation for each group.\n",
        "3. They can be used in the HAVING clause to filter groups based on aggregate values.\n",
        "\n",
        "Aggregate functions are essential tools for data analysis in SQL. They allow you to summarize large amounts of data quickly and efficiently, providing valuable insights into your dataset."
      ],
      "metadata": {
        "id": "_HJcFHItlU1P"
      }
    },
    {
      "cell_type": "markdown",
      "source": [
        "## SQL: GROUP BY and HAVING\n",
        "\n",
        "The GROUP BY and HAVING clauses are powerful features in SQL that work hand in hand with aggregate functions. They allow you to group rows that have the same values in specified columns and filter these groups based on aggregate conditions.\n",
        "\n",
        "### GROUP BY Clause\n",
        "\n",
        "The GROUP BY clause is used to arrange identical data into groups. The basic syntax is:\n",
        "\n",
        "```sql\n",
        "SELECT column1, aggregate_function(column2)\n",
        "FROM table_name\n",
        "GROUP BY column1;\n",
        "```\n",
        "\n",
        "Here's an example using our Books database:\n"
      ],
      "metadata": {
        "id": "qEOylsnkmEUE"
      }
    },
    {
      "cell_type": "code",
      "source": [
        "%%sql\n",
        "SELECT AuthorID, COUNT(*) AS BookCount\n",
        "FROM Books\n",
        "GROUP BY AuthorID;"
      ],
      "metadata": {
        "colab": {
          "base_uri": "https://localhost:8080/",
          "height": 182
        },
        "id": "tnH64uqzmFwN",
        "outputId": "6208b0bb-31b2-41e6-e505-598e6be5d681"
      },
      "execution_count": null,
      "outputs": [
        {
          "output_type": "stream",
          "name": "stdout",
          "text": [
            " * sqlite://\n",
            "Done.\n"
          ]
        },
        {
          "output_type": "execute_result",
          "data": {
            "text/plain": [
              "[(1, 3), (2, 3), (3, 3), (4, 3), (5, 3)]"
            ],
            "text/html": [
              "<table>\n",
              "    <thead>\n",
              "        <tr>\n",
              "            <th>AuthorID</th>\n",
              "            <th>BookCount</th>\n",
              "        </tr>\n",
              "    </thead>\n",
              "    <tbody>\n",
              "        <tr>\n",
              "            <td>1</td>\n",
              "            <td>3</td>\n",
              "        </tr>\n",
              "        <tr>\n",
              "            <td>2</td>\n",
              "            <td>3</td>\n",
              "        </tr>\n",
              "        <tr>\n",
              "            <td>3</td>\n",
              "            <td>3</td>\n",
              "        </tr>\n",
              "        <tr>\n",
              "            <td>4</td>\n",
              "            <td>3</td>\n",
              "        </tr>\n",
              "        <tr>\n",
              "            <td>5</td>\n",
              "            <td>3</td>\n",
              "        </tr>\n",
              "    </tbody>\n",
              "</table>"
            ]
          },
          "metadata": {},
          "execution_count": 31
        }
      ]
    },
    {
      "cell_type": "markdown",
      "source": [
        "This query groups the books by AuthorID and counts how many books each author has written.\n",
        "\n",
        "You can group by multiple columns as well:\n"
      ],
      "metadata": {
        "id": "gQgSKZbpmLCs"
      }
    },
    {
      "cell_type": "code",
      "source": [
        "%%sql\n",
        "SELECT AuthorID, Genre, COUNT(*) AS BookCount\n",
        "FROM Books\n",
        "GROUP BY AuthorID, Genre;"
      ],
      "metadata": {
        "colab": {
          "base_uri": "https://localhost:8080/",
          "height": 246
        },
        "id": "kENDD-_XmOfc",
        "outputId": "0252ef6d-5347-4bff-c7a3-7c8a97d92291"
      },
      "execution_count": null,
      "outputs": [
        {
          "output_type": "stream",
          "name": "stdout",
          "text": [
            " * sqlite://\n",
            "Done.\n"
          ]
        },
        {
          "output_type": "execute_result",
          "data": {
            "text/plain": [
              "[(1, 'Tragedy', 3),\n",
              " (2, 'Romance', 3),\n",
              " (3, 'Modernist', 2),\n",
              " (3, 'Short Story', 1),\n",
              " (4, 'Fiction', 2),\n",
              " (4, 'Historical Fiction', 1),\n",
              " (5, 'Fiction', 1),\n",
              " (5, 'Magical Realism', 2)]"
            ],
            "text/html": [
              "<table>\n",
              "    <thead>\n",
              "        <tr>\n",
              "            <th>AuthorID</th>\n",
              "            <th>Genre</th>\n",
              "            <th>BookCount</th>\n",
              "        </tr>\n",
              "    </thead>\n",
              "    <tbody>\n",
              "        <tr>\n",
              "            <td>1</td>\n",
              "            <td>Tragedy</td>\n",
              "            <td>3</td>\n",
              "        </tr>\n",
              "        <tr>\n",
              "            <td>2</td>\n",
              "            <td>Romance</td>\n",
              "            <td>3</td>\n",
              "        </tr>\n",
              "        <tr>\n",
              "            <td>3</td>\n",
              "            <td>Modernist</td>\n",
              "            <td>2</td>\n",
              "        </tr>\n",
              "        <tr>\n",
              "            <td>3</td>\n",
              "            <td>Short Story</td>\n",
              "            <td>1</td>\n",
              "        </tr>\n",
              "        <tr>\n",
              "            <td>4</td>\n",
              "            <td>Fiction</td>\n",
              "            <td>2</td>\n",
              "        </tr>\n",
              "        <tr>\n",
              "            <td>4</td>\n",
              "            <td>Historical Fiction</td>\n",
              "            <td>1</td>\n",
              "        </tr>\n",
              "        <tr>\n",
              "            <td>5</td>\n",
              "            <td>Fiction</td>\n",
              "            <td>1</td>\n",
              "        </tr>\n",
              "        <tr>\n",
              "            <td>5</td>\n",
              "            <td>Magical Realism</td>\n",
              "            <td>2</td>\n",
              "        </tr>\n",
              "    </tbody>\n",
              "</table>"
            ]
          },
          "metadata": {},
          "execution_count": 32
        }
      ]
    },
    {
      "cell_type": "markdown",
      "source": [
        "This groups books by both AuthorID and Genre, showing how many books each author has written in each genre.\n",
        "\n",
        "### HAVING Clause\n",
        "\n",
        "The HAVING clause is used to filter groups based on aggregate conditions. It's similar to the WHERE clause, but it operates on groups rather than individual rows. The basic syntax is:\n",
        "\n",
        "```sql\n",
        "SELECT column1, aggregate_function(column2)\n",
        "FROM table_name\n",
        "GROUP BY column1\n",
        "HAVING condition;\n",
        "```\n",
        "\n",
        "Here's an example:"
      ],
      "metadata": {
        "id": "P4ApQ9VkmQdM"
      }
    },
    {
      "cell_type": "code",
      "source": [
        "%%sql\n",
        "SELECT AuthorID, AVG(PageCount) AS AvgPageCount\n",
        "FROM Books\n",
        "GROUP BY AuthorID\n",
        "HAVING AVG(PageCount) > 300;"
      ],
      "metadata": {
        "colab": {
          "base_uri": "https://localhost:8080/",
          "height": 161
        },
        "id": "cjRkBbC-mVeR",
        "outputId": "289f9726-c72b-4456-c6d7-3a4834ed1360"
      },
      "execution_count": null,
      "outputs": [
        {
          "output_type": "stream",
          "name": "stdout",
          "text": [
            " * sqlite://\n",
            "Done.\n"
          ]
        },
        {
          "output_type": "execute_result",
          "data": {
            "text/plain": [
              "[(1, 310.0), (2, 430.0), (3, 393.6666666666667), (5, 505.6666666666667)]"
            ],
            "text/html": [
              "<table>\n",
              "    <thead>\n",
              "        <tr>\n",
              "            <th>AuthorID</th>\n",
              "            <th>AvgPageCount</th>\n",
              "        </tr>\n",
              "    </thead>\n",
              "    <tbody>\n",
              "        <tr>\n",
              "            <td>1</td>\n",
              "            <td>310.0</td>\n",
              "        </tr>\n",
              "        <tr>\n",
              "            <td>2</td>\n",
              "            <td>430.0</td>\n",
              "        </tr>\n",
              "        <tr>\n",
              "            <td>3</td>\n",
              "            <td>393.6666666666667</td>\n",
              "        </tr>\n",
              "        <tr>\n",
              "            <td>5</td>\n",
              "            <td>505.6666666666667</td>\n",
              "        </tr>\n",
              "    </tbody>\n",
              "</table>"
            ]
          },
          "metadata": {},
          "execution_count": 33
        }
      ]
    },
    {
      "cell_type": "markdown",
      "source": [
        "This query groups books by AuthorID, calculates the average page count for each author, and then only shows authors whose average book length is over 300 pages.\n",
        "\n",
        "You can use WHERE and HAVING in the same query:"
      ],
      "metadata": {
        "id": "ROkMqIhwmXLZ"
      }
    },
    {
      "cell_type": "code",
      "source": [
        "%%sql\n",
        "SELECT AuthorID, COUNT(*) AS BookCount\n",
        "FROM Books\n",
        "WHERE PublicationYear > 1900\n",
        "GROUP BY AuthorID\n",
        "HAVING COUNT(*) > 1;"
      ],
      "metadata": {
        "colab": {
          "base_uri": "https://localhost:8080/",
          "height": 140
        },
        "id": "7VHLocI8mZSx",
        "outputId": "f07ea3d9-3246-4d5f-a0a2-8c3f1c6aeb26"
      },
      "execution_count": null,
      "outputs": [
        {
          "output_type": "stream",
          "name": "stdout",
          "text": [
            " * sqlite://\n",
            "Done.\n"
          ]
        },
        {
          "output_type": "execute_result",
          "data": {
            "text/plain": [
              "[(3, 3), (4, 3), (5, 3)]"
            ],
            "text/html": [
              "<table>\n",
              "    <thead>\n",
              "        <tr>\n",
              "            <th>AuthorID</th>\n",
              "            <th>BookCount</th>\n",
              "        </tr>\n",
              "    </thead>\n",
              "    <tbody>\n",
              "        <tr>\n",
              "            <td>3</td>\n",
              "            <td>3</td>\n",
              "        </tr>\n",
              "        <tr>\n",
              "            <td>4</td>\n",
              "            <td>3</td>\n",
              "        </tr>\n",
              "        <tr>\n",
              "            <td>5</td>\n",
              "            <td>3</td>\n",
              "        </tr>\n",
              "    </tbody>\n",
              "</table>"
            ]
          },
          "metadata": {},
          "execution_count": 34
        }
      ]
    },
    {
      "cell_type": "markdown",
      "source": [
        "This query:\n",
        "1. Filters for books published after 1900 (WHERE clause)\n",
        "2. Groups the remaining books by AuthorID\n",
        "3. Counts the books for each author\n",
        "4. Only shows authors who have written more than one book (HAVING clause)\n",
        "\n",
        "Here's a table summarizing the key differences between WHERE and HAVING:\n",
        "\n",
        "| Aspect | WHERE | HAVING |\n",
        "|--------|-------|--------|\n",
        "| Operates on | Individual rows | Groups |\n",
        "| Used with | Any columns | Aggregate functions |\n",
        "| Comes before | GROUP BY | After GROUP BY |\n",
        "\n",
        "Remember these key points:\n",
        "1. GROUP BY comes after WHERE and before ORDER BY in a SQL statement.\n",
        "2. HAVING comes after GROUP BY.\n",
        "3. You can only use column names in the SELECT list and GROUP BY clause that are not part of an aggregate function.\n",
        "4. HAVING is used to filter groups, while WHERE is used to filter individual rows.\n",
        "\n",
        "GROUP BY and HAVING are essential for data analysis tasks that involve categorizing data and performing calculations on these categories. They allow you to answer questions like \"Which authors have written more than 5 books?\" or \"What is the average page count for each genre, considering only genres with more than 3 books?\""
      ],
      "metadata": {
        "id": "NMyISh0fmdaT"
      }
    },
    {
      "cell_type": "markdown",
      "source": [
        "## SQL: Introducing JOINs\n",
        "\n",
        "In the world of relational databases, data is often distributed across multiple tables to minimize redundancy and maintain data integrity. This design principle, known as normalization, is a cornerstone of efficient database management. However, it presents a challenge: How do we bring this distributed data back together when we need to analyze it as a whole? This is where JOINs come into play.\n",
        "\n",
        "JOINs are a fundamental feature of SQL that allow us to combine rows from two or more tables based on a related column between them. They are the glue that holds the relational database model together, enabling us to structure our data efficiently while still being able to retrieve and analyze it holistically.\n",
        "\n",
        "The importance of JOINs in relational databases cannot be overstated. They allow us to:\n",
        "\n",
        "1. Maintain data integrity by storing information in separate, specialized tables.\n",
        "2. Reduce data redundancy, saving storage space and minimizing update anomalies.\n",
        "3. Retrieve complex, multi-dimensional data with a single query.\n",
        "4. Establish and navigate relationships between different entities in our data model.\n",
        "\n",
        "Consider our Books and Authors database. We've stored information about books and authors in separate tables to avoid repeating author information for each book. But what if we want to see a list of books with their corresponding author names? This is where JOINs become essential.\n",
        "\n",
        "The most commonly used type of JOIN is the INNER JOIN. Let's explore it in detail:\n",
        "\n",
        "### INNER JOIN\n",
        "\n",
        "An INNER JOIN (often just called a JOIN) returns only the rows where there is a match in both tables. The basic syntax is:\n",
        "\n",
        "```sql\n",
        "SELECT columns\n",
        "FROM table1\n",
        "(INNER) JOIN table2 ON table1.column = table2.column;\n",
        "```\n",
        "\n",
        "Here's an example using our Books and Authors tables:"
      ],
      "metadata": {
        "id": "ZLeW5BGemi_3"
      }
    },
    {
      "cell_type": "code",
      "source": [
        "%%sql\n",
        "SELECT Books.Title, Authors.FirstName, Authors.LastName\n",
        "FROM Books\n",
        "JOIN Authors ON Books.AuthorID = Authors.AuthorID;"
      ],
      "metadata": {
        "colab": {
          "base_uri": "https://localhost:8080/",
          "height": 394
        },
        "id": "NDMcAEfBmwNq",
        "outputId": "633275d8-7dfe-4740-f22d-91a939c9e0e5"
      },
      "execution_count": null,
      "outputs": [
        {
          "output_type": "stream",
          "name": "stdout",
          "text": [
            " * sqlite://\n",
            "Done.\n"
          ]
        },
        {
          "output_type": "execute_result",
          "data": {
            "text/plain": [
              "[('Hamlet', 'William', 'Shakespeare'),\n",
              " ('Romeo and Juliet', 'William', 'Shakespeare'),\n",
              " ('Macbeth', 'William', 'Shakespeare'),\n",
              " ('Pride and Prejudice', 'Jane', 'Austen'),\n",
              " ('Sense and Sensibility', 'Jane', 'Austen'),\n",
              " ('Emma', 'Jane', 'Austen'),\n",
              " ('Ulysses', 'James', 'Joyce'),\n",
              " ('Dubliners', 'James', 'Joyce'),\n",
              " ('A Portrait of the Artist as a Young Man', 'James', 'Joyce'),\n",
              " ('Beloved', 'Toni', 'Morrison'),\n",
              " ('Song of Solomon', 'Toni', 'Morrison'),\n",
              " ('The Bluest Eye', 'Toni', 'Morrison'),\n",
              " (\"Midnight's Children\", 'Salman', 'Rushdie'),\n",
              " ('The Satanic Verses', 'Salman', 'Rushdie'),\n",
              " (\"The Moor's Last Sigh\", 'Salman', 'Rushdie')]"
            ],
            "text/html": [
              "<table>\n",
              "    <thead>\n",
              "        <tr>\n",
              "            <th>Title</th>\n",
              "            <th>FirstName</th>\n",
              "            <th>LastName</th>\n",
              "        </tr>\n",
              "    </thead>\n",
              "    <tbody>\n",
              "        <tr>\n",
              "            <td>Hamlet</td>\n",
              "            <td>William</td>\n",
              "            <td>Shakespeare</td>\n",
              "        </tr>\n",
              "        <tr>\n",
              "            <td>Romeo and Juliet</td>\n",
              "            <td>William</td>\n",
              "            <td>Shakespeare</td>\n",
              "        </tr>\n",
              "        <tr>\n",
              "            <td>Macbeth</td>\n",
              "            <td>William</td>\n",
              "            <td>Shakespeare</td>\n",
              "        </tr>\n",
              "        <tr>\n",
              "            <td>Pride and Prejudice</td>\n",
              "            <td>Jane</td>\n",
              "            <td>Austen</td>\n",
              "        </tr>\n",
              "        <tr>\n",
              "            <td>Sense and Sensibility</td>\n",
              "            <td>Jane</td>\n",
              "            <td>Austen</td>\n",
              "        </tr>\n",
              "        <tr>\n",
              "            <td>Emma</td>\n",
              "            <td>Jane</td>\n",
              "            <td>Austen</td>\n",
              "        </tr>\n",
              "        <tr>\n",
              "            <td>Ulysses</td>\n",
              "            <td>James</td>\n",
              "            <td>Joyce</td>\n",
              "        </tr>\n",
              "        <tr>\n",
              "            <td>Dubliners</td>\n",
              "            <td>James</td>\n",
              "            <td>Joyce</td>\n",
              "        </tr>\n",
              "        <tr>\n",
              "            <td>A Portrait of the Artist as a Young Man</td>\n",
              "            <td>James</td>\n",
              "            <td>Joyce</td>\n",
              "        </tr>\n",
              "        <tr>\n",
              "            <td>Beloved</td>\n",
              "            <td>Toni</td>\n",
              "            <td>Morrison</td>\n",
              "        </tr>\n",
              "        <tr>\n",
              "            <td>Song of Solomon</td>\n",
              "            <td>Toni</td>\n",
              "            <td>Morrison</td>\n",
              "        </tr>\n",
              "        <tr>\n",
              "            <td>The Bluest Eye</td>\n",
              "            <td>Toni</td>\n",
              "            <td>Morrison</td>\n",
              "        </tr>\n",
              "        <tr>\n",
              "            <td>Midnight&#x27;s Children</td>\n",
              "            <td>Salman</td>\n",
              "            <td>Rushdie</td>\n",
              "        </tr>\n",
              "        <tr>\n",
              "            <td>The Satanic Verses</td>\n",
              "            <td>Salman</td>\n",
              "            <td>Rushdie</td>\n",
              "        </tr>\n",
              "        <tr>\n",
              "            <td>The Moor&#x27;s Last Sigh</td>\n",
              "            <td>Salman</td>\n",
              "            <td>Rushdie</td>\n",
              "        </tr>\n",
              "    </tbody>\n",
              "</table>"
            ]
          },
          "metadata": {},
          "execution_count": 35
        }
      ]
    },
    {
      "cell_type": "markdown",
      "source": [
        "This will return a list of all books along with their authors' names. It combines data from the Books and Authors tables based on the matching AuthorID.\n",
        "\n",
        "It's important to note that INNER JOIN only returns rows where there's a match in both tables. If there's a book without an author or an author without a book, those rows won't appear in the result.\n",
        "\n",
        "You can add additional conditions to your JOIN:"
      ],
      "metadata": {
        "id": "hTYAPi5Em0FC"
      }
    },
    {
      "cell_type": "code",
      "source": [
        "%%sql\n",
        "SELECT Books.Title, Authors.FirstName, Authors.LastName\n",
        "FROM Books\n",
        "INNER JOIN Authors ON Books.AuthorID = Authors.AuthorID\n",
        "WHERE Books.PublicationYear > 1900;"
      ],
      "metadata": {
        "colab": {
          "base_uri": "https://localhost:8080/",
          "height": 267
        },
        "id": "SZVgZ_7-m5e6",
        "outputId": "232d9d95-e00b-48fb-a201-48cc3fdadafc"
      },
      "execution_count": null,
      "outputs": [
        {
          "output_type": "stream",
          "name": "stdout",
          "text": [
            " * sqlite://\n",
            "Done.\n"
          ]
        },
        {
          "output_type": "execute_result",
          "data": {
            "text/plain": [
              "[('Ulysses', 'James', 'Joyce'),\n",
              " ('Dubliners', 'James', 'Joyce'),\n",
              " ('A Portrait of the Artist as a Young Man', 'James', 'Joyce'),\n",
              " ('Beloved', 'Toni', 'Morrison'),\n",
              " ('Song of Solomon', 'Toni', 'Morrison'),\n",
              " ('The Bluest Eye', 'Toni', 'Morrison'),\n",
              " (\"Midnight's Children\", 'Salman', 'Rushdie'),\n",
              " ('The Satanic Verses', 'Salman', 'Rushdie'),\n",
              " (\"The Moor's Last Sigh\", 'Salman', 'Rushdie')]"
            ],
            "text/html": [
              "<table>\n",
              "    <thead>\n",
              "        <tr>\n",
              "            <th>Title</th>\n",
              "            <th>FirstName</th>\n",
              "            <th>LastName</th>\n",
              "        </tr>\n",
              "    </thead>\n",
              "    <tbody>\n",
              "        <tr>\n",
              "            <td>Ulysses</td>\n",
              "            <td>James</td>\n",
              "            <td>Joyce</td>\n",
              "        </tr>\n",
              "        <tr>\n",
              "            <td>Dubliners</td>\n",
              "            <td>James</td>\n",
              "            <td>Joyce</td>\n",
              "        </tr>\n",
              "        <tr>\n",
              "            <td>A Portrait of the Artist as a Young Man</td>\n",
              "            <td>James</td>\n",
              "            <td>Joyce</td>\n",
              "        </tr>\n",
              "        <tr>\n",
              "            <td>Beloved</td>\n",
              "            <td>Toni</td>\n",
              "            <td>Morrison</td>\n",
              "        </tr>\n",
              "        <tr>\n",
              "            <td>Song of Solomon</td>\n",
              "            <td>Toni</td>\n",
              "            <td>Morrison</td>\n",
              "        </tr>\n",
              "        <tr>\n",
              "            <td>The Bluest Eye</td>\n",
              "            <td>Toni</td>\n",
              "            <td>Morrison</td>\n",
              "        </tr>\n",
              "        <tr>\n",
              "            <td>Midnight&#x27;s Children</td>\n",
              "            <td>Salman</td>\n",
              "            <td>Rushdie</td>\n",
              "        </tr>\n",
              "        <tr>\n",
              "            <td>The Satanic Verses</td>\n",
              "            <td>Salman</td>\n",
              "            <td>Rushdie</td>\n",
              "        </tr>\n",
              "        <tr>\n",
              "            <td>The Moor&#x27;s Last Sigh</td>\n",
              "            <td>Salman</td>\n",
              "            <td>Rushdie</td>\n",
              "        </tr>\n",
              "    </tbody>\n",
              "</table>"
            ]
          },
          "metadata": {},
          "execution_count": 36
        }
      ]
    },
    {
      "cell_type": "markdown",
      "source": [
        "This query will only return books published after 1900 along with their authors.\n",
        "\n",
        "While INNER JOIN is powerful, there are situations where you might want to see all rows from one table, even if there's no match in the other table. This is where other types of JOINs, like LEFT JOIN, come in.\n",
        "\n",
        "### Introducing LEFT JOIN\n",
        "\n",
        "A LEFT JOIN returns all rows from the left table (the first table mentioned in the query), and the matched rows from the right table. If there's no match, the result is NULL on the right side.\n",
        "\n",
        "Here's a basic example:"
      ],
      "metadata": {
        "id": "alXQJaFkm8Ty"
      }
    },
    {
      "cell_type": "code",
      "source": [
        "%%sql\n",
        "SELECT Authors.FirstName, Authors.LastName, Books.Title\n",
        "FROM Authors\n",
        "LEFT JOIN Books ON Authors.AuthorID = Books.AuthorID;"
      ],
      "metadata": {
        "colab": {
          "base_uri": "https://localhost:8080/",
          "height": 415
        },
        "id": "sL1cPI4gnBtC",
        "outputId": "b69bdb49-8760-4a39-e941-fbd17f4cea22"
      },
      "execution_count": null,
      "outputs": [
        {
          "output_type": "stream",
          "name": "stdout",
          "text": [
            " * sqlite://\n",
            "Done.\n"
          ]
        },
        {
          "output_type": "execute_result",
          "data": {
            "text/plain": [
              "[('William', 'Shakespeare', 'Hamlet'),\n",
              " ('William', 'Shakespeare', 'Macbeth'),\n",
              " ('William', 'Shakespeare', 'Romeo and Juliet'),\n",
              " ('Jane', 'Austen', 'Emma'),\n",
              " ('Jane', 'Austen', 'Pride and Prejudice'),\n",
              " ('Jane', 'Austen', 'Sense and Sensibility'),\n",
              " ('James', 'Joyce', 'A Portrait of the Artist as a Young Man'),\n",
              " ('James', 'Joyce', 'Dubliners'),\n",
              " ('James', 'Joyce', 'Ulysses'),\n",
              " ('Toni', 'Morrison', 'Beloved'),\n",
              " ('Toni', 'Morrison', 'Song of Solomon'),\n",
              " ('Toni', 'Morrison', 'The Bluest Eye'),\n",
              " ('Salman', 'Rushdie', \"Midnight's Children\"),\n",
              " ('Salman', 'Rushdie', \"The Moor's Last Sigh\"),\n",
              " ('Salman', 'Rushdie', 'The Satanic Verses'),\n",
              " ('George', 'Orwell', None)]"
            ],
            "text/html": [
              "<table>\n",
              "    <thead>\n",
              "        <tr>\n",
              "            <th>FirstName</th>\n",
              "            <th>LastName</th>\n",
              "            <th>Title</th>\n",
              "        </tr>\n",
              "    </thead>\n",
              "    <tbody>\n",
              "        <tr>\n",
              "            <td>William</td>\n",
              "            <td>Shakespeare</td>\n",
              "            <td>Hamlet</td>\n",
              "        </tr>\n",
              "        <tr>\n",
              "            <td>William</td>\n",
              "            <td>Shakespeare</td>\n",
              "            <td>Macbeth</td>\n",
              "        </tr>\n",
              "        <tr>\n",
              "            <td>William</td>\n",
              "            <td>Shakespeare</td>\n",
              "            <td>Romeo and Juliet</td>\n",
              "        </tr>\n",
              "        <tr>\n",
              "            <td>Jane</td>\n",
              "            <td>Austen</td>\n",
              "            <td>Emma</td>\n",
              "        </tr>\n",
              "        <tr>\n",
              "            <td>Jane</td>\n",
              "            <td>Austen</td>\n",
              "            <td>Pride and Prejudice</td>\n",
              "        </tr>\n",
              "        <tr>\n",
              "            <td>Jane</td>\n",
              "            <td>Austen</td>\n",
              "            <td>Sense and Sensibility</td>\n",
              "        </tr>\n",
              "        <tr>\n",
              "            <td>James</td>\n",
              "            <td>Joyce</td>\n",
              "            <td>A Portrait of the Artist as a Young Man</td>\n",
              "        </tr>\n",
              "        <tr>\n",
              "            <td>James</td>\n",
              "            <td>Joyce</td>\n",
              "            <td>Dubliners</td>\n",
              "        </tr>\n",
              "        <tr>\n",
              "            <td>James</td>\n",
              "            <td>Joyce</td>\n",
              "            <td>Ulysses</td>\n",
              "        </tr>\n",
              "        <tr>\n",
              "            <td>Toni</td>\n",
              "            <td>Morrison</td>\n",
              "            <td>Beloved</td>\n",
              "        </tr>\n",
              "        <tr>\n",
              "            <td>Toni</td>\n",
              "            <td>Morrison</td>\n",
              "            <td>Song of Solomon</td>\n",
              "        </tr>\n",
              "        <tr>\n",
              "            <td>Toni</td>\n",
              "            <td>Morrison</td>\n",
              "            <td>The Bluest Eye</td>\n",
              "        </tr>\n",
              "        <tr>\n",
              "            <td>Salman</td>\n",
              "            <td>Rushdie</td>\n",
              "            <td>Midnight&#x27;s Children</td>\n",
              "        </tr>\n",
              "        <tr>\n",
              "            <td>Salman</td>\n",
              "            <td>Rushdie</td>\n",
              "            <td>The Moor&#x27;s Last Sigh</td>\n",
              "        </tr>\n",
              "        <tr>\n",
              "            <td>Salman</td>\n",
              "            <td>Rushdie</td>\n",
              "            <td>The Satanic Verses</td>\n",
              "        </tr>\n",
              "        <tr>\n",
              "            <td>George</td>\n",
              "            <td>Orwell</td>\n",
              "            <td>None</td>\n",
              "        </tr>\n",
              "    </tbody>\n",
              "</table>"
            ]
          },
          "metadata": {},
          "execution_count": 37
        }
      ]
    },
    {
      "cell_type": "markdown",
      "source": [
        "This query will list all authors, even if they don't have any books in the Books table. For authors (like George Orwell) without books, the Title will be NULL.\n",
        "\n",
        "LEFT JOIN is particularly useful when you want to see all records from one table, regardless of whether they have corresponding entries in another table.\n",
        "\n",
        "Understanding different types of JOINs and when to use them is crucial for effectively working with relational databases. As you become more comfortable with INNER JOIN and LEFT JOIN, you'll be well-prepared to explore other types of JOINs and more complex database operations."
      ],
      "metadata": {
        "id": "m66tcdXDnFRw"
      }
    },
    {
      "cell_type": "markdown",
      "source": [
        "## Lab: Practice Your SQL"
      ],
      "metadata": {
        "id": "0m8iK1ehI7qD"
      }
    },
    {
      "cell_type": "code",
      "source": [
        "!wget https://github.com/brendanpshea/colab-utilities/raw/main/sql_select_quiz.py -q -nc\n",
        "from sql_select_quiz import *\n",
        "sql_select_quiz_url(\"https://github.com/brendanpshea/computing_concepts_python/raw/main/sql_select_quiz/simple_books.db\",\"https://github.com/brendanpshea/database_sql/raw/main/quiz/sql_book_quiz.json\")"
      ],
      "metadata": {
        "id": "3_6DgoqqLoQl",
        "outputId": "d2ef347a-2587-4f58-e7b2-b7a7c80e1697",
        "colab": {
          "base_uri": "https://localhost:8080/",
          "height": 536,
          "referenced_widgets": [
            "d19b14263f12465eb7e28dbfbdd959a9",
            "be6d5509089240e39ec73e11f08a2d3a",
            "9d3886f2a32d4902add0a49e45ffcbe6",
            "d89ea14e3f754c7eaf0df44bd8cd8d9b",
            "3a7cbd44885b4f5e8423eda789e3422a",
            "29ea9ac6c989400a85b6bbea0e55f445",
            "b18c23f0a6a64f00b9f058e14ec0a37b",
            "28c51049099b4eec8ccfb3a6298aa0f0",
            "6f22754ca39640d087b02d284f91351a",
            "26b5aa59b3a64c7b9ebba8b30b2e884e",
            "fd171d112cce451aa2db765be17f6fc9",
            "4499db6d7c934adb8a67084dba389ae2",
            "9ab4f81f70ce43f6908802ba02565da0",
            "907425e6e2e14c53a5df227722065c21",
            "c8fb2f99f868422089dc7eca1b87da94",
            "ee99120cf7f44f798b2359a742f9a09a",
            "949017c608c14b4f93002aea0893865c",
            "6dbb86616ca24daeb4afc35bc70db952",
            "ae4a7bb64e034c68a3320462c9be29e9",
            "b474d9966b25440fa5c691103120d08c",
            "aaff2c737e8f4eae98434259553f71fa",
            "f24edeeb990443e6a7721d3b7c76abac",
            "32cdf7c432c84131b753deb7ac2f5d90",
            "59760de2587d44a4a058d96de7e0bdfb",
            "df8e66379377482a9e3d9797cc1103aa",
            "b16512d5fd724c13b4fec0f472b06599",
            "98f396a707b446248bc33c4928c5a7df",
            "b03018266b494fc98f652ce2ab766187",
            "8d46d08322984c108747585adc3aa777",
            "a442ff64f2584edfa7b94476b64a8fad",
            "ceae041993d9497986522118cf2c772d",
            "aecf39a71cc342929e584ccc1edf40cb",
            "4542f373812648ec8a834816f7d59f3b",
            "aae956eb1eb14d48a75a279f33c56c5b",
            "ca0ee8d505ff4cefbc55550d811d452a",
            "5ade94dfee7a4970ba995475badfd790",
            "65e3ad12a10f4e2999938c4fb384e78f",
            "63f5fba8455b40edae11f8202b5fd7e7",
            "150f12803f8844bda5e538ad1256639a",
            "d04c1bab99e74fb98cf897d602564450",
            "711d43e525b04249a534fd07d820b2cb",
            "b1e15180adab44ef83d5cdd0f444cd2b",
            "85167ef8749649d4858a4d5f7ea821ce",
            "afd085e6dcff499784a98954f7752b7d",
            "e33a5d03864e46adb8e41ff0b7d694ab",
            "d197abd0017e4e10883963b33accc28c",
            "c13b16cf06cb470da84aa38aac7a844f",
            "5bf6e79790524ef89d89c7b2c0443aef",
            "c8024bf4e32d4ea8828b39ff3c0540f5",
            "b0401d3c6c9140668221944c7f8098bc"
          ]
        }
      },
      "execution_count": 8,
      "outputs": [
        {
          "output_type": "display_data",
          "data": {
            "text/plain": [
              "VBox(children=(IntProgress(value=0, description='Progress:', max=1), HTML(value='<h3>Question 1 of 45:</h3><p>…"
            ],
            "application/vnd.jupyter.widget-view+json": {
              "version_major": 2,
              "version_minor": 0,
              "model_id": "d19b14263f12465eb7e28dbfbdd959a9"
            }
          },
          "metadata": {}
        }
      ]
    }
  ]
}
