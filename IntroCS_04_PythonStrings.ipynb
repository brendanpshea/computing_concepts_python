{
  "nbformat": 4,
  "nbformat_minor": 0,
  "metadata": {
    "colab": {
      "provenance": [],
      "authorship_tag": "ABX9TyPTASQqsbKGdIKrXcQl0syd",
      "include_colab_link": true
    },
    "kernelspec": {
      "name": "python3",
      "display_name": "Python 3"
    },
    "language_info": {
      "name": "python"
    }
  },
  "cells": [
    {
      "cell_type": "markdown",
      "metadata": {
        "id": "view-in-github",
        "colab_type": "text"
      },
      "source": [
        "<a href=\"https://colab.research.google.com/github/brendanpshea/computing_concepts_python/blob/main/IntroCS_04_PythonStrings.ipynb\" target=\"_parent\"><img src=\"https://colab.research.google.com/assets/colab-badge.svg\" alt=\"Open In Colab\"/></a>"
      ]
    },
    {
      "cell_type": "markdown",
      "source": [
        "# Intro to Python: Strings, Variables, Print, Input\n",
        "### Computing Concepts With Python | BRendan Shea, PhD.\n",
        "\n",
        "Welcome to the fascinating world of Python programming! In this chapter, we'll embark on an exciting journey that bridges the gap between natural and formal languages, exploring how we can instruct computers using Python. We'll dive into the fundamental concepts of programming, from understanding what a bug is to crafting dynamic web content. Along the way, we'll inject a dose of British humor, inspired by Monty Python, to keep our learning adventure both informative and entertaining. Whether you're debugging a stubborn error or generating HTML with Python, you'll discover how programming is not just about writing code, but about developing a new way of thinking. So, prepare your best silly walk, grab your coconuts, and let's venture into the absurdly logical world of Python programming!\n",
        "\n",
        "Learning Outcomes:\n",
        "1. Differentiate between natural languages and formal programming languages\n",
        "2. Understand and use basic Python syntax for variables, printing, and user input\n",
        "3. Manipulate strings using various operations and methods\n",
        "4. Implement type casting to convert between different data types\n",
        "5. Utilize escape characters for special string formatting\n",
        "6. Write and understand the importance of comments and pseudocode in programming\n",
        "7. Identify and classify different types of programming errors (syntax and semantic)\n",
        "8. Apply basic debugging techniques to find and fix errors in code\n",
        "9. Create and work with multi-line strings and f-strings\n",
        "10. Generate HTML content dynamically using Python\n",
        "\n",
        "Keywords:\n",
        "formal languages, natural languages, variables, input(), print(), string operations, type casting, escape characters, comments, pseudocode, debugging, syntax errors, semantic errors, f-strings, HTML generation, Python-HTML integratio"
      ],
      "metadata": {
        "id": "hDx_trjORfuD"
      }
    },
    {
      "cell_type": "markdown",
      "source": [
        "## Introduction to Computer Programming\n",
        "\n",
        "**Computer programming** is the art of writing instructions that a computer can understand and execute. These instructions, known as **code**, are written in a **programming language**—a formal language designed to communicate with machines. Just like learning the movements in a martial arts dojo, mastering code allows you to instruct computers to perform complex maneuvers.\n",
        "\n",
        "Computers are integral to modern life, controlling everything from smartphones to space exploration. However, they cannot think for themselves; they require explicit instructions to function. This is where programming comes in:\n",
        "\n",
        "- **Automation**: Replace repetitive tasks with automated solutions.\n",
        "- **Problem-Solving**: Tackle complex challenges by breaking them down into manageable steps.\n",
        "- **Innovation**: Create new applications, games, and tools that can change the world.\n",
        "\n",
        "\n",
        "At the heart of programming lies the concept of **algorithms**—step-by-step procedures for calculations and data processing. Writing efficient algorithms is like planning the perfect strategy in a Snake Club tournament: every move counts.\n",
        "\n",
        "Consider the following code block that illustrates a simple algorithm in Python:"
      ],
      "metadata": {
        "id": "F1GG4DBFyO5D"
      }
    },
    {
      "cell_type": "code",
      "source": [
        "# This code calculates the sum of the first ten natural numbers\n",
        "total = 0\n",
        "for number in range(1, 11):\n",
        "    total += number\n",
        "print(\"The total is:\", total)"
      ],
      "metadata": {
        "colab": {
          "base_uri": "https://localhost:8080/"
        },
        "id": "x4TnH79Zyezn",
        "outputId": "ab2ec918-27c9-40b4-cda3-a294eff22dd8"
      },
      "execution_count": null,
      "outputs": [
        {
          "output_type": "stream",
          "name": "stdout",
          "text": [
            "The total is: 55\n"
          ]
        }
      ]
    },
    {
      "cell_type": "markdown",
      "source": [
        "In this snippet, we:\n",
        "\n",
        "1. Initialize a variable `total` to store the sum.\n",
        "2. Use a **loop** to iterate through numbers 1 to 10.\n",
        "3. Accumulate the sum in `total`.\n",
        "4. **Print** the result to the screen.\n",
        "\n",
        "## The Programming Mindset\n",
        "\n",
        "Learning to program is not just about writing code; it's about developing a new way of thinking. Here are some key principles:\n",
        "\n",
        "- **Attention to Detail**: Computers follow instructions exactly as written, so precision is crucial.\n",
        "- **Logical Thinking**: Break down problems logically to find effective solutions.\n",
        "- **Continuous Learning**: The tech world evolves rapidly; stay curious and keep learning.\n",
        "\n",
        "In the Snake Club, every challenge is an opportunity to grow stronger. Similarly, programming offers endless possibilities to expand your skills. As we delve deeper, you'll learn to:\n",
        "\n",
        "- Write your first Python program.\n",
        "- Work with different **data types** like strings and numbers.\n",
        "- Interact with users through input and output.\n",
        "- Debug your code to squash any pesky bugs.\n",
        "\n",
        "Get ready to charm the digital serpents and make them dance to your code!"
      ],
      "metadata": {
        "id": "BdIaAs6IyhSV"
      }
    },
    {
      "cell_type": "markdown",
      "source": [
        "## Why Formal Languages are Different from Natural Languages\n",
        "\n",
        "In the Snake Club, precision and discipline are key to mastering any technique. The same is true when we speak to computers. Computers don’t understand the nuances and flexibility of human languages. Instead, they require us to communicate with them using **formal languages**—structured, unambiguous languages specifically designed for giving instructions to machines.\n",
        "\n",
        "### What is a Formal Language?\n",
        "\n",
        "A **formal language** is a language with a strict syntax and clear rules that determine how statements are formed. In programming, these languages ensure that computers can interpret and execute instructions without confusion. Think of it like the precise movements in a snake fight—you can’t be vague or imprecise, or you’ll make a mistake. Every move matters.\n",
        "\n",
        "Formal languages are the foundation of computer programming. Python, which we will use in this course, is one example. Others include Java, C++, and JavaScript. Each of these languages has its own **syntax**—the set of rules that defines how we structure commands. If you break these rules, your program won’t run correctly, or at all.\n",
        "\n",
        "Let’s consider the following comparison between natural languages and formal languages:\n",
        "\n",
        "| Feature               | Natural Languages (e.g., English)   | Formal Languages (e.g., Python)  |\n",
        "|-----------------------|-------------------------------------|----------------------------------|\n",
        "| **Ambiguity**          | Often ambiguous (e.g., \"run\" can mean many things) | No ambiguity; every statement has a clear, singular meaning |\n",
        "| **Context Sensitivity**| Relies heavily on context for understanding | Context-free; each instruction stands alone and must follow strict rules |\n",
        "| **Flexibility**        | Flexible; grammar rules can be broken or bent | Inflexible; every error in syntax results in failure |\n",
        "\n",
        "### The Rigidity of Formal Languages\n",
        "\n",
        "In a natural language like English, it’s possible to say things in many different ways and still be understood. You could say, \"Let's get going,\" \"We should start,\" or even \"It’s time to move,\" and the meaning is the same. A human listener understands the intent behind your words, even if your phrasing changes or isn’t grammatically perfect.\n",
        "\n",
        "With a formal language like Python, this isn’t possible. Computers cannot guess your intentions—they only understand the exact instructions you give them. For example, look at these two Python statements:\n",
        "\n",
        "```python\n",
        "print(\"Hello, Snake Club!\")\n",
        "print(\"Hello, snake club\")\n",
        "```\n",
        "\n",
        "Although they look nearly identical to a human reader, Python treats them differently. The first will print \"Hello, Snake Club!\" with capitalization, while the second prints \"Hello, snake club\" with all lowercase. This level of exactness is why programming requires a clear understanding of the formal language you're working with.\n",
        "\n",
        "### Syntax and Semantics\n",
        "\n",
        "In any formal language, **syntax** refers to the structure or format of your commands. It’s the grammar of the programming language—just like how English requires sentences to have a subject and a verb, Python has its own syntax rules. For example, Python requires statements like `print` to be followed by parentheses:\n",
        "\n",
        "```python\n",
        "print(\"This is correct.\")\n",
        "print \"This will cause an error!\"  # Syntax error because parentheses are missing\n",
        "```\n",
        "\n",
        "**Semantics**, on the other hand, refers to the meaning behind those instructions. Even if a program has correct syntax, it still may not do what you expect if the meaning is incorrect. For instance, if you meant to add two numbers but accidentally multiplied them instead, the syntax might be fine, but the program will produce the wrong result.\n",
        "\n",
        "### Understanding the Rules\n",
        "\n",
        "To master programming, you need to respect the rules of the formal language. This requires:\n",
        "\n",
        "1. **Precision**: Every character in your code matters, from parentheses to quotation marks.\n",
        "2. **Consistency**: You must follow the language’s rules every time, with no room for creative interpretation.\n",
        "3. **Clarity**: The clearer and more logical your code is, the easier it will be to understand and debug later.\n",
        "\n",
        "In the world of the Snake Club, understanding how formal languages work is like learning the core moves of a technique. Once you’ve mastered the basics, you can begin to combine them in more complex ways.\n",
        "\n",
        "---\n",
        "\n",
        "Now that we’ve introduced the distinction between natural and formal languages, we’ve set the stage for writing your first Python program."
      ],
      "metadata": {
        "id": "i9ib6LeFyoad"
      }
    },
    {
      "cell_type": "markdown",
      "source": [
        "## Your First Python Program (print)\n",
        "\n",
        "Now that we’ve discussed the importance of formal languages, it’s time to step into the dojo and write our first line of Python code. Every journey begins with a single step, and in programming, that step is often a simple **print** statement.\n",
        "\n",
        "### The `print()` Function\n",
        "\n",
        "In Python, the **`print()` function** is used to display messages or output information on the screen. Think of it as a way to make your computer speak. Whether you want to show text, numbers, or results of calculations, the `print()` function is your go-to tool.\n",
        "\n",
        "Let’s write your very first Python program to make the computer display a message. In the Snake Club, we might want to print something motivating, like a club chant.\n",
        "\n",
        "Here’s the code:\n"
      ],
      "metadata": {
        "id": "znQ-UpTiy1G4"
      }
    },
    {
      "cell_type": "code",
      "source": [
        "print(\"Welcome to the Snake Club!\")"
      ],
      "metadata": {
        "colab": {
          "base_uri": "https://localhost:8080/"
        },
        "id": "ZF3sAzlDzSTz",
        "outputId": "03b98f65-6aa1-4cba-aedf-43665d288b82"
      },
      "execution_count": null,
      "outputs": [
        {
          "output_type": "stream",
          "name": "stdout",
          "text": [
            "Welcome to the Snake Club!\n"
          ]
        }
      ]
    },
    {
      "cell_type": "markdown",
      "source": [
        "This is what’s happening in this one line of code:\n",
        "\n",
        "- **`print`** is a Python function used to output text.\n",
        "- The text we want to display, **\"Welcome to the Snake Club!\"**, is enclosed in **quotation marks**. This is known as a **string**, a data type used for representing text.\n",
        "- The **parentheses** `()` indicate that we're calling the function and passing an argument (the text to display) into it.\n",
        "\n",
        "We can also use the `,` to separate multiple values.\n",
        "\n"
      ],
      "metadata": {
        "id": "UCjYgV4UzTGa"
      }
    },
    {
      "cell_type": "code",
      "source": [
        "print(\"Your snake club id is\", 32)"
      ],
      "metadata": {
        "colab": {
          "base_uri": "https://localhost:8080/"
        },
        "id": "bga2RfpyztwS",
        "outputId": "cc9f7cdd-184f-472d-ce81-26da205b65dd"
      },
      "execution_count": null,
      "outputs": [
        {
          "output_type": "stream",
          "name": "stdout",
          "text": [
            "Your snake club id is 32\n"
          ]
        }
      ]
    },
    {
      "cell_type": "markdown",
      "source": [
        "### Practice Time\n",
        "\n",
        "It’s time to practice. Let’s make the computer print some personalized Snake Club messages:\n",
        "\n",
        "1. Print your favorite slogan or a motivational quote for the club.\n"
      ],
      "metadata": {
        "id": "g5doKm5Nzc5q"
      }
    },
    {
      "cell_type": "code",
      "source": [],
      "metadata": {
        "id": "Rt9WVaKCzdte"
      },
      "execution_count": null,
      "outputs": []
    },
    {
      "cell_type": "markdown",
      "source": [
        "2. Print a combination of your favorite number and a string message."
      ],
      "metadata": {
        "id": "MdjOhLGSzeH4"
      }
    },
    {
      "cell_type": "code",
      "source": [],
      "metadata": {
        "id": "ot69ghxY0LPH"
      },
      "execution_count": null,
      "outputs": []
    },
    {
      "cell_type": "markdown",
      "source": [
        "### A Closer Look: Strings and Quotes\n",
        "\n",
        "When working with text in Python, you use either **single quotes** (`'`) or **double quotes** (`\"`). Both work the same way, but it's important to be consistent in your program:\n",
        "\n",
        "```python\n",
        "print('Snake Club Forever!')\n",
        "print(\"Stay sharp!\")\n",
        "```\n",
        "\n",
        "Both lines will work correctly and print their respective messages. The only rule is that the opening and closing quotes must match. If they don’t, Python will give you a **syntax error**.\n"
      ],
      "metadata": {
        "id": "sfaNKuuNz8cM"
      }
    },
    {
      "cell_type": "markdown",
      "source": [
        "##  Variables\n",
        "\n",
        "Now that you've written your first Python program and printed messages to the screen, it's time to introduce one of the most important concepts in programming: **variables**. Think of variables as special containers that store information for you to use later, just like how a Snake Club member might stash away gear for their next big battle.\n",
        "\n",
        "### What is a Variable?\n",
        "\n",
        "A **variable** in Python is a way of labeling and storing data that you can refer to, modify, or use in your program. Each variable has a **name** and a **value**. The name is like a signpost that tells Python where to find the value stored in that variable. This value could be anything from a simple number to a word or a more complex data type.\n",
        "\n",
        "Imagine you're keeping track of Snake Club stats. You could use variables to store the number of members in the club, the name of the club leader, or whether you're currently in the middle of a training session.\n",
        "\n",
        "Here’s how you create a variable:\n"
      ],
      "metadata": {
        "id": "RTaxPvRn0Q_h"
      }
    },
    {
      "cell_type": "code",
      "source": [
        "club_name = \"Snake Club\"\n",
        "members = 25\n",
        "is_training_active = True\n",
        "\n",
        "print(club_name)\n",
        "print(members)\n",
        "print(is_training_active)"
      ],
      "metadata": {
        "colab": {
          "base_uri": "https://localhost:8080/"
        },
        "id": "moWieu8L0Rhl",
        "outputId": "7c7a0b0d-ea57-4009-d579-dc200d444575"
      },
      "execution_count": null,
      "outputs": [
        {
          "output_type": "stream",
          "name": "stdout",
          "text": [
            "Snake Club\n",
            "25\n",
            "True\n"
          ]
        }
      ]
    },
    {
      "cell_type": "markdown",
      "source": [
        "In this example:\n",
        "- **`club_name`** is a variable that stores the string `\"Snake Club\"`.\n",
        "- **`members`** is a variable that stores the integer `25`.\n",
        "- **`is_training_active`** is a variable that stores the Boolean value `True`.\n",
        "\n",
        "### Variable Naming Rules\n",
        "\n",
        "Before we start using variables, it’s important to know that Python has a few rules about how you can name them:\n",
        "\n",
        "1. **Letters, numbers, and underscores**: Variable names can contain letters, numbers, and underscores, but they must **start with a letter or an underscore**. For example, `club_name` is a valid variable name, but `1st_place` is not.\n",
        "2. **No spaces**: Variable names can’t contain spaces. Use underscores (`_`) to separate words, as in `is_training_active`.\n",
        "3. **Case sensitivity**: Python treats uppercase and lowercase letters as different. So, `ClubLeader` and `clubleader` would be considered two distinct variables.\n",
        "4. **Reserved words**: You cannot use Python’s reserved keywords (like `print`, `if`, or `while`) as variable names.\n",
        "\n",
        "### Assigning Values to Variables\n",
        "\n",
        "In Python, assigning a value to a variable is done with the **assignment operator** (`=`). This operator does not mean \"equals\" in the mathematical sense; instead, it means \"store the value on the right-hand side into the variable on the left-hand side.\"\n"
      ],
      "metadata": {
        "id": "jd9MNJwg0a-W"
      }
    },
    {
      "cell_type": "code",
      "source": [
        "leader_name = \"Kai\"\n",
        "current_level = 10\n",
        "\n",
        "print(\"Leader:\", leader_name)\n",
        "print(\"Level:\", current_level)"
      ],
      "metadata": {
        "colab": {
          "base_uri": "https://localhost:8080/"
        },
        "id": "tIwy4zz20dBR",
        "outputId": "93cd4a27-ed1b-4f09-ce57-1728c540e90c"
      },
      "execution_count": null,
      "outputs": [
        {
          "output_type": "stream",
          "name": "stdout",
          "text": [
            "Leader: Kai\n",
            "Level: 10\n"
          ]
        }
      ]
    },
    {
      "cell_type": "markdown",
      "source": [
        "### Basic Data Types in Python\n",
        "\n",
        "In Python, variables can hold different kinds of data. These are the **data types** we’ll work with initially:\n",
        "\n",
        "- **String** (`str`): Used to store sequences of characters (e.g., words, sentences). Strings are always enclosed in either single or double quotes. Example: `\"Snake Club\"` is a string.\n",
        "  \n",
        "  ```python\n",
        "  motto = \"Strike fast, strike hard!\"\n",
        "  ```\n",
        "\n",
        "- **Integer** (`int`): Used to store whole numbers. Example: `25` is an integer.\n",
        "  \n",
        "  ```python\n",
        "  total_snakes = 100\n",
        "  ```\n",
        "\n",
        "- **Float** (`float`): Used to store decimal numbers (numbers with a fractional part). Example: `3.14` is a float.\n",
        "  \n",
        "  ```python\n",
        "  average_strike_speed = 2.56\n",
        "  ```\n",
        "\n",
        "- **Boolean** (`bool`): Used to store either `True` or `False`. Booleans are often used to track whether a condition is true or false.\n",
        "  \n",
        "  ```python\n",
        "  is_training_active = True\n",
        "  ```\n",
        "\n",
        "### Practice Time\n",
        "\n",
        "Now, it’s your turn to create variables for Snake Club. Try assigning the following values to variables in Python:\n",
        "\n",
        "1. A variable to store the name of the club's rival:\n"
      ],
      "metadata": {
        "id": "jh8jJCsw0sAY"
      }
    },
    {
      "cell_type": "code",
      "source": [],
      "metadata": {
        "id": "8Efnt5eX0twG"
      },
      "execution_count": null,
      "outputs": []
    },
    {
      "cell_type": "markdown",
      "source": [
        "2. A variable to track the number of wins the club has:"
      ],
      "metadata": {
        "id": "aHonvXhw0sMi"
      }
    },
    {
      "cell_type": "code",
      "source": [],
      "metadata": {
        "id": "u1e0z38_zgBQ"
      },
      "execution_count": null,
      "outputs": []
    },
    {
      "cell_type": "markdown",
      "source": [
        "3. A Boolean variable that checks if training is complete:\n"
      ],
      "metadata": {
        "id": "dkovR12K0xgv"
      }
    },
    {
      "cell_type": "code",
      "source": [],
      "metadata": {
        "id": "L3Ulzs_G01VS"
      },
      "execution_count": null,
      "outputs": []
    },
    {
      "cell_type": "markdown",
      "source": [
        "### Using Variables in the `print()` Function\n",
        "\n",
        "You can also use variables in combination with the `print()` function to display dynamic information:\n"
      ],
      "metadata": {
        "id": "Ljvl7uRh015X"
      }
    },
    {
      "cell_type": "code",
      "source": [
        "leader_name = \"Kai\"\n",
        "print(\"The leader of Snake Club is\", leader_name)"
      ],
      "metadata": {
        "colab": {
          "base_uri": "https://localhost:8080/"
        },
        "id": "Z8ITVD3o033v",
        "outputId": "bdb1ff42-aec1-4b7f-dcf9-a0df91070b89"
      },
      "execution_count": null,
      "outputs": [
        {
          "output_type": "stream",
          "name": "stdout",
          "text": [
            "The leader of Snake Club is Kai\n"
          ]
        }
      ]
    },
    {
      "cell_type": "markdown",
      "source": [
        "\n",
        "As you can see, the variable `leader_name` was replaced by its value (`\"Kai\"`) in the printed message."
      ],
      "metadata": {
        "id": "8V5FH1xR06hh"
      }
    },
    {
      "cell_type": "markdown",
      "source": [
        "---\n",
        "\n",
        "With variables, you’ve unlocked one of the key tools of programming. In the next section, we’ll expand on this by having more fun with the `print()` function, exploring different ways to format your output using parameters and **f-strings**."
      ],
      "metadata": {
        "id": "1U4-loUm08l3"
      }
    },
    {
      "cell_type": "markdown",
      "source": [
        "## More Fun with `print()` – Parameters, Arguments, and F-strings\n",
        "\n",
        "Now that you’re familiar with the basics of using the `print()` function and variables, it’s time to level up! In this section, we’ll explore different ways to control and format the output of your Python programs. After all, part of being in the Snake Club is not just getting the job done but doing it with style.\n",
        "\n",
        "### Controlling `print()`: Parameters and Arguments\n",
        "\n",
        "When we use the `print()` function, we can pass **arguments** to it—these are the values that we want the function to print. Python allows us to pass more than one argument at a time, separating them with commas. Each argument can be a string, a variable, or even a combination of both.\n",
        "\n",
        "For example:"
      ],
      "metadata": {
        "id": "OS0Gl1TH1H3V"
      }
    },
    {
      "cell_type": "code",
      "source": [
        "club_name = \"Snake Club\"\n",
        "leader_name = \"Kai\"\n",
        "print(\"Welcome to\", club_name, \"- led by\", leader_name)"
      ],
      "metadata": {
        "colab": {
          "base_uri": "https://localhost:8080/"
        },
        "id": "oNmaehzf1Jza",
        "outputId": "43ec24aa-0b6d-48b0-81df-cf5753963d6c"
      },
      "execution_count": null,
      "outputs": [
        {
          "output_type": "stream",
          "name": "stdout",
          "text": [
            "Welcome to Snake Club - led by Kai\n"
          ]
        }
      ]
    },
    {
      "cell_type": "markdown",
      "source": [
        "Here, `\"Welcome to\"`, `club_name`, `\"- led by\"`, and `leader_name` are all arguments to the `print()` function. Python takes care of joining them together with spaces in between.\n",
        "\n",
        "### Using the `sep` Parameter\n",
        "\n",
        "By default, Python adds a space between the arguments you provide to `print()`. However, you can change this behavior using the `sep` (separator) parameter. This allows you to specify what should be inserted between the printed arguments.\n",
        "\n",
        "Let’s say you want to separate the arguments with a dash instead of a space:"
      ],
      "metadata": {
        "id": "yG5qhDw11NWl"
      }
    },
    {
      "cell_type": "code",
      "source": [
        "print(\"Strike\", \"hard\", \"strike\", \"fast\", sep=\"-\")"
      ],
      "metadata": {
        "colab": {
          "base_uri": "https://localhost:8080/"
        },
        "id": "0KHg9z7c1Ppp",
        "outputId": "93f5412c-43d0-4448-f62a-ce85214f30f1"
      },
      "execution_count": null,
      "outputs": [
        {
          "output_type": "stream",
          "name": "stdout",
          "text": [
            "Strike-hard-strike-fast\n"
          ]
        }
      ]
    },
    {
      "cell_type": "markdown",
      "source": [
        "### Using the `end` Parameter\n",
        "\n",
        "Normally, when Python prints something, it automatically moves to the next line after the output. However, using the `end` parameter, you can control what happens at the end of the `print()` statement. You can change the ending to anything you want, such as a space, a period, or even nothing at all.\n",
        "\n",
        "Example:"
      ],
      "metadata": {
        "id": "MUfcX7yF1SuF"
      }
    },
    {
      "cell_type": "code",
      "source": [
        "print(\"Strike\", end=\" \")\n",
        "print(\"hard!\")"
      ],
      "metadata": {
        "colab": {
          "base_uri": "https://localhost:8080/"
        },
        "id": "AiPyEqzy1UxB",
        "outputId": "3f13cdf6-3e39-4d11-dc02-31329c0035df"
      },
      "execution_count": null,
      "outputs": [
        {
          "output_type": "stream",
          "name": "stdout",
          "text": [
            "Strike hard!\n"
          ]
        }
      ]
    },
    {
      "cell_type": "markdown",
      "source": [
        "Notice that both `print()` statements appear on the same line because we replaced the default newline (`\\n`) with a space."
      ],
      "metadata": {
        "id": "MDC_HgLg1Z2o"
      }
    },
    {
      "cell_type": "markdown",
      "source": [
        "## F-strings: Formatting Strings in Python\n",
        "\n",
        "Introducing **f-strings** (formatted string literals)—one of the most powerful and efficient ways to format your output in Python. With f-strings, you can easily insert the value of a variable into a string by including it inside curly braces `{}`. It’s like a shortcut for combining text and variables into a clean, readable format.\n",
        "\n",
        "Here’s an example:\n"
      ],
      "metadata": {
        "id": "EanWggPW1cZ5"
      }
    },
    {
      "cell_type": "code",
      "source": [
        "leader_name = \"Kai\"\n",
        "members = 25\n",
        "print(f\"Our leader is {leader_name} and we have {members} members in the Snake Club.\")"
      ],
      "metadata": {
        "colab": {
          "base_uri": "https://localhost:8080/"
        },
        "id": "6GvcYrlP1fES",
        "outputId": "43c70e73-3048-4843-e390-56236f8df121"
      },
      "execution_count": null,
      "outputs": [
        {
          "output_type": "stream",
          "name": "stdout",
          "text": [
            "Our leader is Kai and we have 25 members in the Snake Club.\n"
          ]
        }
      ]
    },
    {
      "cell_type": "markdown",
      "source": [
        "\n",
        "Notice how the variables `leader_name` and `members` are placed directly inside the string. Python automatically replaces the curly braces with the actual values of the variables when it prints the message. The `f` before the string lets Python know this is an f-string.\n",
        "\n",
        "### Formatting Numbers with F-strings\n",
        "\n",
        "You can also format numbers inside f-strings. For example, if you want to print a floating-point number with only two decimal places:"
      ],
      "metadata": {
        "id": "DPLVCKu61iyg"
      }
    },
    {
      "cell_type": "code",
      "source": [
        "average_speed = 2.56789\n",
        "print(f\"The average strike speed is {average_speed:.2f} seconds.\")"
      ],
      "metadata": {
        "colab": {
          "base_uri": "https://localhost:8080/"
        },
        "id": "CMW9amxK1kbt",
        "outputId": "e3a4c03a-76b3-482b-f4f3-5482370babb6"
      },
      "execution_count": null,
      "outputs": [
        {
          "output_type": "stream",
          "name": "stdout",
          "text": [
            "The average strike speed is 2.57 seconds.\n"
          ]
        }
      ]
    },
    {
      "cell_type": "markdown",
      "source": [
        "The `.2f` inside the curly braces tells Python to format the number to two decimal places.\n",
        "\n",
        "### Combining F-strings with Other Variables\n",
        "\n",
        "F-strings can be used with any data type—strings, integers, floats, or Booleans. Let’s say we want to announce the club’s current status, using all the data types we’ve covered so far:"
      ],
      "metadata": {
        "id": "C14w2TGz1pJW"
      }
    },
    {
      "cell_type": "code",
      "source": [
        "club_name = \"Snake Club\"\n",
        "members = 25\n",
        "leader_name = \"Kai\"\n",
        "is_training_active = True\n",
        "\n",
        "print(f\"Welcome to {club_name}! We have {members} members, led by {leader_name}. Training is currently active: {is_training_active}.\")"
      ],
      "metadata": {
        "colab": {
          "base_uri": "https://localhost:8080/"
        },
        "id": "emqGOj_U1sU5",
        "outputId": "39f7e6c1-c67a-4ce4-8a8b-fdf42d331f45"
      },
      "execution_count": null,
      "outputs": [
        {
          "output_type": "stream",
          "name": "stdout",
          "text": [
            "Welcome to Snake Club! We have 25 members, led by Kai. Training is currently active: True.\n"
          ]
        }
      ]
    },
    {
      "cell_type": "markdown",
      "source": [
        "As you can see, f-strings offer a concise and readable way to format text while embedding variables directly into the string.\n",
        "\n",
        "### Practice Time\n",
        "\n",
        "Now it’s your turn to experiment with the `print()` function and f-strings. Try the following challenges:\n",
        "\n",
        "1. Print the following sentence using variables and f-strings: “The leader of Snake Club is [leader’s name], and we have [number of members] members.”\n"
      ],
      "metadata": {
        "id": "9LuzCvTO1vbr"
      }
    },
    {
      "cell_type": "code",
      "source": [],
      "metadata": {
        "id": "pxEdLCnN2Lpe"
      },
      "execution_count": null,
      "outputs": []
    },
    {
      "cell_type": "markdown",
      "source": [
        "2. Use the `sep` and `end` parameters to print: “Snake - Club - Rocks!” all on one line with dashes between the words.\n"
      ],
      "metadata": {
        "id": "chSnLLDB2L6j"
      }
    },
    {
      "cell_type": "code",
      "source": [],
      "metadata": {
        "id": "pNKoT2R22Pkb"
      },
      "execution_count": null,
      "outputs": []
    },
    {
      "cell_type": "markdown",
      "source": [
        "3. Print the average strike speed (a floating point number) with only two decimal places.\n"
      ],
      "metadata": {
        "id": "2IfpeqPT2PzP"
      }
    },
    {
      "cell_type": "code",
      "source": [],
      "metadata": {
        "id": "78YCCeFA2V5q"
      },
      "execution_count": null,
      "outputs": []
    },
    {
      "cell_type": "markdown",
      "source": [
        "---\n",
        "\n",
        "With `print()` mastered, and f-strings at your disposal, you’ve now learned how to control the output of your Python programs with flair. Next, we’ll introduce another essential feature of Python: **getting input from users**. In Snake Club, interaction is key!"
      ],
      "metadata": {
        "id": "IFvVZ6qZ2bRV"
      }
    },
    {
      "cell_type": "markdown",
      "source": [
        "## Getting Input from Users\n",
        "\n",
        "In any Python program, interaction with the user is critical. Just like in the Snake Club, where teamwork and communication matter, your program will often need to ask the user for information and act based on their responses. In Python, we achieve this using the **`input()` function**.\n",
        "\n",
        "The **`input()` function** allows your program to pause and wait for the user to type something. Once the user provides input and presses Enter, that input is stored as a **string** and can be used in your program. It's like handing over control to the user for a moment before the next move.\n",
        "\n",
        "### How it Works\n",
        "\n",
        "Let’s start with a simple example:"
      ],
      "metadata": {
        "id": "zEql1JGf2b8p"
      }
    },
    {
      "cell_type": "code",
      "source": [
        "name = input(\"Enter your name: \")\n",
        "print(\"Welcome to the Snake Club,\", name)"
      ],
      "metadata": {
        "colab": {
          "base_uri": "https://localhost:8080/"
        },
        "id": "OoXMkNUH2pHM",
        "outputId": "aa53c795-b7a7-4330-c841-49b57f4ad857"
      },
      "execution_count": null,
      "outputs": [
        {
          "output_type": "stream",
          "name": "stdout",
          "text": [
            "Enter your name: Brendan\n",
            "Welcome to the Snake Club, Brendan\n"
          ]
        }
      ]
    },
    {
      "cell_type": "markdown",
      "source": [
        "Here’s a breakdown of what’s happening:\n",
        "\n",
        "- **`input()`** displays a prompt (in this case, `\"Enter your name: \"`), waits for the user to type something, and then stores that value in the variable `name`.\n",
        "- After the user enters their name, the `print()` function uses that value to greet them.\n",
        "\n",
        "This shows how the user can directly interact with your program, providing dynamic responses rather than hardcoded values.\n",
        "\n",
        "### Storing User Input\n",
        "\n",
        "It’s important to remember that everything entered using `input()` is stored as a **string**, even if the user types a number. Let’s see an example:\n"
      ],
      "metadata": {
        "id": "3j6lWvEn2v2g"
      }
    },
    {
      "cell_type": "code",
      "source": [
        "age = input(\"Enter your age: \")\n",
        "print(\"You are\", age, \"years old\")\n",
        "print(type(age))"
      ],
      "metadata": {
        "colab": {
          "base_uri": "https://localhost:8080/"
        },
        "id": "eLJqJ6jR2yhr",
        "outputId": "f18f385e-533b-45a4-fab9-a24c281ab852"
      },
      "execution_count": null,
      "outputs": [
        {
          "output_type": "stream",
          "name": "stdout",
          "text": [
            "Enter your age: 15\n",
            "You are 15 years old\n",
            "<class 'str'>\n"
          ]
        }
      ]
    },
    {
      "cell_type": "markdown",
      "source": [
        "Even if the user enters a number like `15`, Python will treat it as the string `\"15\"`. This distinction becomes important when you need to perform operations with numbers, such as calculations. But don’t worry, we’ll get to that soon when we talk about **casting**.\n",
        "\n",
        "### Combining Input and Variables\n",
        "\n",
        "You can also use f-strings to combine user input with variables in a more elegant way. Let’s ask for the user’s favorite snake and combine it with their name in a single sentence:\n"
      ],
      "metadata": {
        "id": "b12nIjCB21tO"
      }
    },
    {
      "cell_type": "code",
      "source": [
        "name = input(\"Enter your name: \")\n",
        "favorite_snake = input(\"What’s your favorite snake? \")\n",
        "print(f\"Welcome to the Snake Club, {name}! Your favorite snake is {favorite_snake}.\")"
      ],
      "metadata": {
        "id": "A81k1_P223q1"
      },
      "execution_count": null,
      "outputs": []
    },
    {
      "cell_type": "markdown",
      "source": [
        "### Practice Time\n",
        "\n",
        "Let’s practice getting input from users. Here are some challenges for you to try:\n",
        "\n",
        "1. Ask the user for their **favorite Snake Club move** and then print it back in a sentence."
      ],
      "metadata": {
        "id": "_Mf8DhoS264W"
      }
    },
    {
      "cell_type": "code",
      "source": [],
      "metadata": {
        "id": "q3lUwFmC2-RN"
      },
      "execution_count": null,
      "outputs": []
    },
    {
      "cell_type": "markdown",
      "source": [
        "2. Ask the user for their **club rank** and **how many battles** they’ve won, and then display both values in a single message.\n"
      ],
      "metadata": {
        "id": "FhCnRFoU3AUI"
      }
    },
    {
      "cell_type": "code",
      "source": [],
      "metadata": {
        "id": "tjKThP_Z01iP"
      },
      "execution_count": null,
      "outputs": []
    },
    {
      "cell_type": "markdown",
      "source": [
        "### Handling Numeric Input\n",
        "\n",
        "As mentioned earlier, the `input()` function always returns a string, even if the user enters a number. This can lead to problems if you try to perform arithmetic with what Python thinks is text. For example, consider this code:\n"
      ],
      "metadata": {
        "id": "Ogf17Ger3Hy_"
      }
    },
    {
      "cell_type": "code",
      "source": [
        "age = input(\"Enter your age: \")\n",
        "next_year_age = age + 1  # This will cause an error!"
      ],
      "metadata": {
        "colab": {
          "base_uri": "https://localhost:8080/",
          "height": 183
        },
        "id": "4IHQTLV10vFS",
        "outputId": "b8d87e88-4c41-4044-ee67-b2620a6a3744"
      },
      "execution_count": null,
      "outputs": [
        {
          "name": "stdout",
          "output_type": "stream",
          "text": [
            "Enter your age: 29\n"
          ]
        },
        {
          "output_type": "error",
          "ename": "TypeError",
          "evalue": "can only concatenate str (not \"int\") to str",
          "traceback": [
            "\u001b[0;31m---------------------------------------------------------------------------\u001b[0m",
            "\u001b[0;31mTypeError\u001b[0m                                 Traceback (most recent call last)",
            "\u001b[0;32m<ipython-input-2-783b434774ae>\u001b[0m in \u001b[0;36m<cell line: 2>\u001b[0;34m()\u001b[0m\n\u001b[1;32m      1\u001b[0m \u001b[0mage\u001b[0m \u001b[0;34m=\u001b[0m \u001b[0minput\u001b[0m\u001b[0;34m(\u001b[0m\u001b[0;34m\"Enter your age: \"\u001b[0m\u001b[0;34m)\u001b[0m\u001b[0;34m\u001b[0m\u001b[0;34m\u001b[0m\u001b[0m\n\u001b[0;32m----> 2\u001b[0;31m \u001b[0mnext_year_age\u001b[0m \u001b[0;34m=\u001b[0m \u001b[0mage\u001b[0m \u001b[0;34m+\u001b[0m \u001b[0;36m1\u001b[0m  \u001b[0;31m# This will cause an error!\u001b[0m\u001b[0;34m\u001b[0m\u001b[0;34m\u001b[0m\u001b[0m\n\u001b[0m",
            "\u001b[0;31mTypeError\u001b[0m: can only concatenate str (not \"int\") to str"
          ]
        }
      ]
    },
    {
      "cell_type": "markdown",
      "source": [
        "\n",
        "This code will raise an error because Python doesn’t know how to add a string and a number. You can’t add `\"15\"` and `1` in Python because one is text, and the other is a number.\n",
        "\n",
        "The solution? You need to **convert** the input into the correct data type, which brings us to our next section on **casting** and **data types**.\n",
        "\n",
        "---\n",
        "\n",
        "With the `input()` function, you've added interactivity to your Python programs, letting users provide information that you can use in your code. In the next section, we’ll learn how to convert the data you receive from users into different types, such as numbers, so you can perform calculations and more complex operations."
      ],
      "metadata": {
        "id": "8mGaz7W30q3Z"
      }
    },
    {
      "cell_type": "markdown",
      "source": [
        "## Casting and Data Types\n",
        "\n",
        "As you've learned, when we use the `input()` function, Python treats everything the user enters as a **string**. But what if you need to perform mathematical operations or handle data that isn't text? This is where **casting** comes in. Casting allows you to convert one data type into another, so you can work with data in the form you need.\n",
        "\n",
        "### Understanding Data Types\n",
        "\n",
        "In Python, different kinds of data are stored in different **data types**. We’ve already introduced a few, but let's review them more formally:\n",
        "\n",
        "- **String** (`str`): A sequence of characters, used for text. It’s always enclosed in quotes (either single `'` or double `\"`).\n",
        "  \n",
        "  Example: `\"Snake Club\"`\n",
        "\n",
        "- **Integer** (`int`): A whole number without a decimal point. Integers are used for counting or other operations involving whole numbers.\n",
        "  \n",
        "  Example: `25`\n",
        "\n",
        "- **Float** (`float`): A number that includes a decimal point, used for more precise values, like measurements or calculations with fractions.\n",
        "  \n",
        "  Example: `3.14`\n",
        "\n",
        "- **Boolean** (`bool`): A data type that can only have two values: `True` or `False`. Booleans are commonly used in conditions and decision-making.\n",
        "  \n",
        "  Example: `is_training_active = True`\n",
        "\n",
        "Each of these data types plays a different role in programming. If you want to perform calculations, you'll typically use `int` or `float`. If you're working with text, you'll use `str`. And if you need to check for conditions, `bool` is your go-to.\n",
        "\n",
        "### Casting: Converting Between Data Types\n",
        "\n",
        "Casting is the process of converting a value from one data type to another. In Python, you can use built-in functions like `int()`, `float()`, `str()`, and `bool()` to perform these conversions.\n",
        "\n",
        "### Converting Strings to Integers\n",
        "\n",
        "If you’re asking the user to enter a number, their input will be stored as a string by default. To perform mathematical operations, you need to **cast** it into an integer using `int()`.\n",
        "\n",
        "Example:"
      ],
      "metadata": {
        "id": "Ot-LSIjT1TwU"
      }
    },
    {
      "cell_type": "code",
      "source": [
        "age = int(input(\"Enter your age: \"))\n",
        "next_year_age = age + 1\n",
        "print(f\"Next year, you will be {next_year_age} years old.\")"
      ],
      "metadata": {
        "colab": {
          "base_uri": "https://localhost:8080/"
        },
        "id": "B7AYQiNy1Vs1",
        "outputId": "49ad77a6-709f-4e96-92e0-54cb5e663d47"
      },
      "execution_count": null,
      "outputs": [
        {
          "output_type": "stream",
          "name": "stdout",
          "text": [
            "Enter your age: 76\n",
            "Next year, you will be 77 years old.\n"
          ]
        }
      ]
    },
    {
      "cell_type": "markdown",
      "source": [
        "Here, the `input()` function collects the user’s age as a string, and the `int()` function converts it to an integer so that Python can add `1` to it.\n",
        "\n",
        "### Converting Strings to Floats\n",
        "\n",
        "For decimal numbers, you can use the `float()` function to cast the input. For example, if the user is entering a time or a measurement:"
      ],
      "metadata": {
        "id": "BiyKB9YG1Xap"
      }
    },
    {
      "cell_type": "code",
      "source": [
        "strike_speed = float(input(\"Enter your strike speed (seconds): \"))\n",
        "print(f\"Your strike speed is {strike_speed} seconds.\")"
      ],
      "metadata": {
        "colab": {
          "base_uri": "https://localhost:8080/"
        },
        "id": "Qzep_Uet1ZZp",
        "outputId": "71c0aec4-df4e-4994-a098-d6ad43155337"
      },
      "execution_count": null,
      "outputs": [
        {
          "output_type": "stream",
          "name": "stdout",
          "text": [
            "Enter your strike speed (seconds): .843\n",
            "Your strike speed is 0.843 seconds.\n"
          ]
        }
      ]
    },
    {
      "cell_type": "markdown",
      "source": [
        "This allows Python to handle the number as a **floating-point** value (a decimal), so it can be used in more precise calculations.\n",
        "\n",
        "### Converting Integers or Floats to Strings\n",
        "\n",
        "There are times when you may want to convert a number into a string to combine it with text. In this case, you use `str()`:"
      ],
      "metadata": {
        "id": "38Vi6KQK1d95"
      }
    },
    {
      "cell_type": "code",
      "source": [
        "members = 25\n",
        "message = \"The Snake Club has \" + str(members) + \" members.\"\n",
        "print(message)"
      ],
      "metadata": {
        "colab": {
          "base_uri": "https://localhost:8080/"
        },
        "id": "Tuybmdf41f7v",
        "outputId": "3cab3aba-cf46-4085-d31d-962ccc71d649"
      },
      "execution_count": null,
      "outputs": [
        {
          "output_type": "stream",
          "name": "stdout",
          "text": [
            "The Snake Club has 25 members.\n"
          ]
        }
      ]
    },
    {
      "cell_type": "markdown",
      "source": [
        "Without `str()`, Python would throw an error because you can’t combine a string (`\"The Snake Club has\"`) with an integer (`25`) directly. The `str()` function converts the number into text so the message can be printed.\n",
        "\n",
        "### Practice Time: Casting\n",
        "\n",
        "Let's practice casting by converting between data types. Try these challenges:\n",
        "\n",
        "1. Ask the user to enter their **training hours** (as a decimal number) and calculate how many hours they’ll have after training for another 1.5 hours."
      ],
      "metadata": {
        "id": "dUbagl9X1jmD"
      }
    },
    {
      "cell_type": "code",
      "source": [],
      "metadata": {
        "id": "_pYHNqB81ktz"
      },
      "execution_count": null,
      "outputs": []
    },
    {
      "cell_type": "markdown",
      "source": [
        "2. Ask the user for their **Snake Club rank (as a number)**, and then display it in a string."
      ],
      "metadata": {
        "id": "_Nr99ttb1lHz"
      }
    },
    {
      "cell_type": "code",
      "source": [],
      "metadata": {
        "id": "yGlvr5WK1nzU"
      },
      "execution_count": null,
      "outputs": []
    },
    {
      "cell_type": "markdown",
      "source": [
        "\n",
        "---\n",
        "\n",
        "With casting, you've now unlocked the ability to convert data into the form you need to work with it, whether that's performing calculations, combining text, or checking conditions. In the next section, we’ll explore how to use **comments** and **pseudocode** to make your programs easier to plan and understand."
      ],
      "metadata": {
        "id": "BPQ0nXdo1x6z"
      }
    },
    {
      "cell_type": "markdown",
      "source": [
        "## Understanding Bugs and Debugging in Python\n",
        "\n",
        "In the world of programming, just as in the Snake Club, not everything goes according to plan. Sometimes, your code might not work as expected. These unexpected issues in your program are called \"bugs.\" Let's explore what bugs are, the different types you might encounter, and how to start tackling them.\n",
        "\n",
        "A **bug** is an error or flaw in your program that causes it to behave in unintended ways. The term \"bug\" has been used in engineering for over a century, but it became popular in computer science after a moth was found trapped in a relay of the Harvard Mark II computer in 1947.\n",
        "\n",
        "### Types of Errors\n",
        "In programming, you can encounter two types of errors:\n",
        "\n",
        "- **Syntax Errors** occur when you violate the rules of the Python language. It's like using incorrect grammar when speaking.\n",
        "- **Semantic Errors** happen when your code is syntactically correct but doesn't do what you intended. There are two main types of semantic errors:\n",
        "  - Those that cause the program to crash or raise an exception.\n",
        "  - Those that allow the program to run but produce incorrect output.\n",
        "\n",
        "Let's look at examples of each:\n",
        "\n",
        "Syntax Error:"
      ],
      "metadata": {
        "id": "0ZO5QL9VOmFQ"
      }
    },
    {
      "cell_type": "code",
      "source": [
        "print(\"Welcome to Snake Club\""
      ],
      "metadata": {
        "id": "ESU_byTJO5kn"
      },
      "execution_count": null,
      "outputs": []
    },
    {
      "cell_type": "markdown",
      "source": [
        "This will cause an error because the parenthesis is not closed.\n",
        "\n",
        "Semantic Error (causing a crash):"
      ],
      "metadata": {
        "id": "rY63r88hO8ED"
      }
    },
    {
      "cell_type": "code",
      "source": [
        "total_snakes = 5\n",
        "average_snakes = total_snakes / 0"
      ],
      "metadata": {
        "id": "HDP7gL9mPBch"
      },
      "execution_count": null,
      "outputs": []
    },
    {
      "cell_type": "markdown",
      "source": [
        "This code is syntactically correct, but it will cause an error because division by zero is undefined.\n",
        "\n",
        "Semantic Error (producing incorrect output):"
      ],
      "metadata": {
        "id": "XjDCZNEpPDi5"
      }
    },
    {
      "cell_type": "code",
      "source": [
        "def calculate_area(length, width):\n",
        "    return length + width  # This should be multiplication, not addition\n",
        "\n",
        "rectangle_area = calculate_area(5, 3)\n",
        "print(f\"The area of the rectangle is: {rectangle_area}\")"
      ],
      "metadata": {
        "id": "IixWWqZzPGrB"
      },
      "execution_count": null,
      "outputs": []
    },
    {
      "cell_type": "markdown",
      "source": [
        "This code will run without any error messages, but it will output an incorrect area (8 instead of 15). The bug is in the calculation itself, where addition is used instead of multiplication."
      ],
      "metadata": {
        "id": "c2uH6zFXPKbj"
      }
    },
    {
      "cell_type": "markdown",
      "source": [
        "## Debugging: Finding and Fixing Bugs\n",
        "\n",
        "Debugging is the process of identifying and correcting bugs in your code. It's a crucial skill for any programmer. While there are advanced debugging tools available, we'll focus on two simple but powerful techniques:\n",
        "\n",
        "1. Using print() statements: You can use print() to display the values of variables at different points in your code. This helps you understand what's happening as your program runs.\n",
        "\n",
        "2. Using type(): This function tells you the data type of a variable, which can be useful when you're not sure what kind of data you're working with.\n",
        "\n",
        "Here's an example of using these techniques:\n"
      ],
      "metadata": {
        "id": "FmL2zJWCPQr-"
      }
    },
    {
      "cell_type": "code",
      "source": [
        "age = input(\"Enter your age: \")\n",
        "print(\"Age entered:\", age)\n",
        "print(\"Type of age:\", type(age))\n",
        "\n",
        "next_year_age = age + 1\n",
        "print(\"Next year you will be:\", next_year_age)"
      ],
      "metadata": {
        "colab": {
          "base_uri": "https://localhost:8080/",
          "height": 245
        },
        "id": "Y1VIdm-QPRUa",
        "outputId": "6fa36458-790b-4199-c231-4b09dcb799d4"
      },
      "execution_count": null,
      "outputs": [
        {
          "output_type": "stream",
          "name": "stdout",
          "text": [
            "Enter your age: 50\n",
            "Age entered: 50\n",
            "Type of age: <class 'str'>\n"
          ]
        },
        {
          "output_type": "error",
          "ename": "TypeError",
          "evalue": "can only concatenate str (not \"int\") to str",
          "traceback": [
            "\u001b[0;31m---------------------------------------------------------------------------\u001b[0m",
            "\u001b[0;31mTypeError\u001b[0m                                 Traceback (most recent call last)",
            "\u001b[0;32m<ipython-input-2-6b9a4c4b4997>\u001b[0m in \u001b[0;36m<cell line: 5>\u001b[0;34m()\u001b[0m\n\u001b[1;32m      3\u001b[0m \u001b[0mprint\u001b[0m\u001b[0;34m(\u001b[0m\u001b[0;34m\"Type of age:\"\u001b[0m\u001b[0;34m,\u001b[0m \u001b[0mtype\u001b[0m\u001b[0;34m(\u001b[0m\u001b[0mage\u001b[0m\u001b[0;34m)\u001b[0m\u001b[0;34m)\u001b[0m\u001b[0;34m\u001b[0m\u001b[0;34m\u001b[0m\u001b[0m\n\u001b[1;32m      4\u001b[0m \u001b[0;34m\u001b[0m\u001b[0m\n\u001b[0;32m----> 5\u001b[0;31m \u001b[0mnext_year_age\u001b[0m \u001b[0;34m=\u001b[0m \u001b[0mage\u001b[0m \u001b[0;34m+\u001b[0m \u001b[0;36m1\u001b[0m\u001b[0;34m\u001b[0m\u001b[0;34m\u001b[0m\u001b[0m\n\u001b[0m\u001b[1;32m      6\u001b[0m \u001b[0mprint\u001b[0m\u001b[0;34m(\u001b[0m\u001b[0;34m\"Next year you will be:\"\u001b[0m\u001b[0;34m,\u001b[0m \u001b[0mnext_year_age\u001b[0m\u001b[0;34m)\u001b[0m\u001b[0;34m\u001b[0m\u001b[0;34m\u001b[0m\u001b[0m\n",
            "\u001b[0;31mTypeError\u001b[0m: can only concatenate str (not \"int\") to str"
          ]
        }
      ]
    },
    {
      "cell_type": "markdown",
      "source": [
        "When you run this code, you'll get an error. But the print statements will help you understand why--\"age\" is being stored as a string (and not a number)."
      ],
      "metadata": {
        "id": "Aci-YZKbPYao"
      }
    },
    {
      "cell_type": "markdown",
      "source": [
        "## Escape Characters in Python\n",
        "\n",
        "When working with **strings** in Python, you'll often need to include special characters that can't be typed directly into the string, such as quotes, newlines, or tabs. This is where **escape characters** come in. Just as a Snake Club member might use a sneaky maneuver to escape a tricky situation, escape characters allow you to insert these special characters into your strings without causing errors.\n",
        "\n",
        "An **escape character** in Python is a backslash (`\\`) followed by another character. This combination tells Python to treat the sequence in a special way. For example, you might want to include a quotation mark inside a string that’s already enclosed in quotation marks, or add a new line in the middle of your string.\n",
        "\n",
        "Let’s explore some common escape characters.\n",
        "\n",
        "### Common Escape Characters\n",
        "\n",
        "Here are the most frequently used escape characters in Python:\n",
        "\n",
        "| Escape Character | Meaning                         | Example                          |\n",
        "|------------------|---------------------------------|----------------------------------|\n",
        "| `\\'`             | Single quote                    | `'It\\'s time for Snake Club!'`   |\n",
        "| `\\\"`             | Double quote                    | `\"He said, \\\"Hello!\\\"\"`          |\n",
        "| `\\\\`             | Backslash                       | `'This is a backslash: \\\\ '`     |\n",
        "| `\\n`             | Newline                         | `'Line 1\\nLine 2'`               |\n",
        "| `\\t`             | Tab (horizontal tab)            | `'Name:\\tKai'`                   |\n",
        "\n",
        "\n",
        "\n",
        "Let’s go over some examples of how to use these escape characters in Python strings.\n",
        "\n",
        "#### Including Quotes in Strings\n",
        "\n",
        "If you want to include a **single quote** inside a string enclosed by single quotes, you can escape the quote with a backslash:"
      ],
      "metadata": {
        "id": "tAH8Gn2m2gZB"
      }
    },
    {
      "cell_type": "code",
      "source": [
        "quote = 'It\\'s time for Snake Club!'\n",
        "print(quote)"
      ],
      "metadata": {
        "colab": {
          "base_uri": "https://localhost:8080/"
        },
        "id": "nsPvi_k02kfV",
        "outputId": "74617a51-3e8a-4789-9c5b-1d00cbe716e3"
      },
      "execution_count": null,
      "outputs": [
        {
          "output_type": "stream",
          "name": "stdout",
          "text": [
            "It's time for Snake Club!\n"
          ]
        }
      ]
    },
    {
      "cell_type": "markdown",
      "source": [
        "Similarly, you can escape **double quotes** inside strings enclosed by double quotes:"
      ],
      "metadata": {
        "id": "3eBlSF7c2nZQ"
      }
    },
    {
      "cell_type": "code",
      "source": [
        "dialogue = \"He said, \\\"Welcome to Snake Club!\\\"\"\n",
        "print(dialogue)"
      ],
      "metadata": {
        "colab": {
          "base_uri": "https://localhost:8080/"
        },
        "id": "PjO1tnvD2onr",
        "outputId": "93fed71c-47da-4d72-ea9c-477215cb559c"
      },
      "execution_count": null,
      "outputs": [
        {
          "output_type": "stream",
          "name": "stdout",
          "text": [
            "He said, \"Welcome to Snake Club!\"\n"
          ]
        }
      ]
    },
    {
      "cell_type": "markdown",
      "source": [
        "#### Newlines (`\\n`) and Tabs (`\\t`)\n",
        "\n",
        "You can add new lines or tabs to your string using `\\n` and `\\t`. These are particularly useful for formatting your output.\n",
        "\n",
        "For example, let’s print a message that includes a new line:"
      ],
      "metadata": {
        "id": "uDTMl0sB2qge"
      }
    },
    {
      "cell_type": "code",
      "source": [
        "message = \"Welcome to the Snake Club!\\nGet ready for training.\"\n",
        "print(message)"
      ],
      "metadata": {
        "colab": {
          "base_uri": "https://localhost:8080/"
        },
        "id": "QxvrT9qR2scN",
        "outputId": "510757db-c7eb-4ab6-e0f9-6820784e7344"
      },
      "execution_count": null,
      "outputs": [
        {
          "output_type": "stream",
          "name": "stdout",
          "text": [
            "Welcome to the Snake Club!\n",
            "Get ready for training.\n"
          ]
        }
      ]
    },
    {
      "cell_type": "markdown",
      "source": [
        "Or, let’s format text with a **tab** to create a neatly aligned output:"
      ],
      "metadata": {
        "id": "zb95t6zo2uy7"
      }
    },
    {
      "cell_type": "code",
      "source": [
        "stats = \"Name:\\tKai\\nRank:\\tMaster\\nWins:\\t50\"\n",
        "print(stats)"
      ],
      "metadata": {
        "colab": {
          "base_uri": "https://localhost:8080/"
        },
        "id": "PHmSd6lg2v9F",
        "outputId": "b80edaa9-cf41-4c12-a559-7a85aa82d02d"
      },
      "execution_count": null,
      "outputs": [
        {
          "output_type": "stream",
          "name": "stdout",
          "text": [
            "Name:\tKai\n",
            "Rank:\tMaster\n",
            "Wins:\t50\n"
          ]
        }
      ]
    },
    {
      "cell_type": "markdown",
      "source": [
        "In this case, the tab (`\\t`) ensures that each value is aligned properly under the label.\n",
        "\n",
        "### Using Backslashes (`\\\\`)\n",
        "\n",
        "If you need to include an actual backslash in your string, you can escape it by using double backslashes (`\\\\`):"
      ],
      "metadata": {
        "id": "diNFf5ot2znX"
      }
    },
    {
      "cell_type": "code",
      "source": [
        "path = \"C:\\\\Users\\\\Kai\\\\Documents\"\n",
        "print(path)"
      ],
      "metadata": {
        "colab": {
          "base_uri": "https://localhost:8080/"
        },
        "id": "9VC9-2V020z8",
        "outputId": "4066360e-42bc-432c-cebd-9c3e6f603c63"
      },
      "execution_count": null,
      "outputs": [
        {
          "output_type": "stream",
          "name": "stdout",
          "text": [
            "C:\\Users\\Kai\\Documents\n"
          ]
        }
      ]
    },
    {
      "cell_type": "markdown",
      "source": [
        "Without the double backslash, Python would treat the single backslash as an escape character, which could cause errors.\n",
        "\n",
        "### Practice Time: Escape Characters\n",
        "\n",
        "Try using escape characters in the following exercises:\n",
        "\n",
        "1. Write a string that includes both single and double quotes:"
      ],
      "metadata": {
        "id": "NAEK8XSV23UE"
      }
    },
    {
      "cell_type": "code",
      "source": [],
      "metadata": {
        "id": "9olVHbzM237-"
      },
      "execution_count": null,
      "outputs": []
    },
    {
      "cell_type": "markdown",
      "source": [
        "2. Write a string that includes both a newline and a tab."
      ],
      "metadata": {
        "id": "yLApcHbV24OD"
      }
    },
    {
      "cell_type": "code",
      "source": [],
      "metadata": {
        "id": "9uC3Oc1B3AlZ"
      },
      "execution_count": null,
      "outputs": []
    },
    {
      "cell_type": "markdown",
      "source": [
        "3. Print a file path using backslashes:"
      ],
      "metadata": {
        "id": "fXPv3lF83Ax_"
      }
    },
    {
      "cell_type": "code",
      "source": [],
      "metadata": {
        "id": "CqYImQyc3CMh"
      },
      "execution_count": null,
      "outputs": []
    },
    {
      "cell_type": "markdown",
      "source": [
        "### Multiline Strings with Triple Quotes\n",
        "\n",
        "While escape characters are useful for inserting newlines or special symbols, sometimes you might want to include large blocks of text without worrying about escape characters. In this case, Python provides **triple quotes** (`'''` or `\"\"\"`) for **multiline strings**."
      ],
      "metadata": {
        "id": "Moic0YfC3Foo"
      }
    },
    {
      "cell_type": "code",
      "source": [
        "long_message = '''Welcome to the Snake Club!\n",
        "Remember:\n",
        "    - Strike first.\n",
        "    - Strike hard.\n",
        "    - No mercy.'''\n",
        "print(long_message)"
      ],
      "metadata": {
        "colab": {
          "base_uri": "https://localhost:8080/"
        },
        "id": "1A8NUT_z3IWj",
        "outputId": "abd0c7a8-771b-4830-ef67-73783d0e7f78"
      },
      "execution_count": null,
      "outputs": [
        {
          "output_type": "stream",
          "name": "stdout",
          "text": [
            "Welcome to the Snake Club!\n",
            "Remember:\n",
            "    - Strike first.\n",
            "    - Strike hard.\n",
            "    - No mercy.\n"
          ]
        }
      ]
    },
    {
      "cell_type": "markdown",
      "source": [
        "Using triple quotes, Python preserves the formatting inside the string, including new lines and indentation, without requiring escape characters like `\\n` or `\\t`.\n",
        "\n",
        "---\n",
        "\n",
        "Escape characters are a powerful tool for controlling how your strings are formatted and displayed. Whether you're working with quotes, new lines, or backslashes, mastering escape characters will allow you to write cleaner, more flexible Python code."
      ],
      "metadata": {
        "id": "uC-3ruwk3MGz"
      }
    },
    {
      "cell_type": "markdown",
      "source": [
        "## Comments and Pseudocode\n",
        "\n",
        "As you continue your Python journey in the Snake Club, you'll encounter more complex programs that require planning and careful thought. Writing code is only one part of programming; understanding and explaining your code is equally important. This is where **comments** and **pseudocode** come into play.\n",
        "\n",
        "### What are Comments?\n",
        "\n",
        "**Comments** are lines of text within your code that Python ignores when the program runs. They are used to explain what the code does, making it easier for both you and others to understand your work. Just as a Snake Club member might annotate their training manual, comments serve as notes to yourself and others about how your program operates.\n",
        "\n",
        "In Python, comments are written by placing a `#` symbol at the beginning of the line. Anything after the `#` on that line is considered a comment and will not affect how the code runs."
      ],
      "metadata": {
        "id": "BEZd1CRF3fmm"
      }
    },
    {
      "cell_type": "code",
      "source": [
        "# This is a comment explaining the code below\n",
        "print(\"Strike fast, strike hard!\")"
      ],
      "metadata": {
        "colab": {
          "base_uri": "https://localhost:8080/"
        },
        "id": "IWpiUhcl3g3f",
        "outputId": "5d1f8fca-71c5-4f13-d994-fd26a21298ee"
      },
      "execution_count": null,
      "outputs": [
        {
          "output_type": "stream",
          "name": "stdout",
          "text": [
            "Strike fast, strike hard!\n"
          ]
        }
      ]
    },
    {
      "cell_type": "markdown",
      "source": [
        "Here, the comment describes what the `print()` function is doing. While the comment is ignored by Python, it helps a future reader (or yourself) understand the purpose of the code.\n",
        "\n",
        "### Why Use Comments?\n",
        "\n",
        "Comments are helpful for a number of reasons:\n",
        "\n",
        "1. **Clarifying complex logic**: When your code gets more complex, comments can explain the reasoning behind certain decisions.\n",
        "2. **Collaboration**: If you’re working with other programmers (or even looking at your own code after a few weeks), comments make it easier to understand what’s happening.\n",
        "3. **Documentation**: Comments serve as a form of in-code documentation, giving context for the variables, functions, or algorithms you're using.\n",
        "\n",
        "While it’s important to add comments, they should be meaningful and concise. Adding too many comments or commenting on things that are obvious can clutter your code.\n",
        "\n",
        "Here’s an example where comments are useful for clarifying logic"
      ],
      "metadata": {
        "id": "UVj93EQ83hgo"
      }
    },
    {
      "cell_type": "code",
      "source": [
        "# Check if the user's score is greater than 50 to determine if they pass\n",
        "score = 55\n",
        "if score > 50:\n",
        "    print(\"You passed!\")\n",
        "else:\n",
        "    print(\"Try again.\")"
      ],
      "metadata": {
        "colab": {
          "base_uri": "https://localhost:8080/"
        },
        "id": "C0h8V_e63kp2",
        "outputId": "300b07c5-7f13-4293-cd79-7c2634470e42"
      },
      "execution_count": null,
      "outputs": [
        {
          "output_type": "stream",
          "name": "stdout",
          "text": [
            "You passed!\n"
          ]
        }
      ]
    },
    {
      "cell_type": "markdown",
      "source": [
        "### Practice Time: Adding Comments\n",
        "\n",
        "In the following code block, write three different python statements. Then, add a comment explaining each one."
      ],
      "metadata": {
        "id": "CsR1PjP43ojx"
      }
    },
    {
      "cell_type": "code",
      "source": [],
      "metadata": {
        "id": "Dl0KU3sy3oBZ"
      },
      "execution_count": null,
      "outputs": []
    },
    {
      "cell_type": "markdown",
      "source": [
        "### Multi-line Comments\n",
        "\n",
        "Sometimes you might need to add longer explanations to your code. In Python, multi-line comments are created by adding a `#` symbol at the start of each line you want to comment out:\n",
        "\n",
        "```python\n",
        "# This is a multi-line comment\n",
        "# that explains the purpose of this code block\n",
        "# and describes the logic behind it.\n",
        "```\n",
        "\n",
        "Alternatively, you can use a multi-line string (`\"\"\"` or `'''`), although this is technically a string and not a comment. Python will ignore it unless you assign it to a variable:\n",
        "\n",
        "```python\n",
        "\"\"\"\n",
        "This is a multi-line string that can act like a comment.\n",
        "It’s often used at the start of a function or program to describe what it does.\n",
        "\"\"\"\n",
        "```"
      ],
      "metadata": {
        "id": "UKxqkp6D36lX"
      }
    },
    {
      "cell_type": "markdown",
      "source": [
        "## Working with Strings in Python\n",
        "\n",
        "Python provides several ways to manipulate and work with strings. Let’s explore some of the most common operations.\n",
        "\n",
        "### String Concatenation\n",
        "\n",
        "**Concatenation** is the process of joining two or more strings together. In Python, you can concatenate strings using the `+` operator."
      ],
      "metadata": {
        "id": "DCAZxa3N4OBf"
      }
    },
    {
      "cell_type": "code",
      "source": [
        "part1 = \"Strike\"\n",
        "part2 = \" hard\"\n",
        "full_message = part1 + part2\n",
        "print(full_message)"
      ],
      "metadata": {
        "colab": {
          "base_uri": "https://localhost:8080/"
        },
        "id": "4hWdD-K_4Oj4",
        "outputId": "4070997e-731d-4c8c-c6ee-f816f38d1bbb"
      },
      "execution_count": null,
      "outputs": [
        {
          "output_type": "stream",
          "name": "stdout",
          "text": [
            "Strike hard\n"
          ]
        }
      ]
    },
    {
      "cell_type": "markdown",
      "source": [
        "### String Repetition\n",
        "\n",
        "You can repeat a string multiple times using the `*` operator:"
      ],
      "metadata": {
        "id": "DxDzuyIC4SMX"
      }
    },
    {
      "cell_type": "code",
      "source": [
        "chant = \"Snake Club! \" * 3\n",
        "print(chant)"
      ],
      "metadata": {
        "colab": {
          "base_uri": "https://localhost:8080/"
        },
        "id": "yC4UH9Ww4Tjv",
        "outputId": "8e956ee5-138e-4e9c-93a7-5df157e16b57"
      },
      "execution_count": null,
      "outputs": [
        {
          "output_type": "stream",
          "name": "stdout",
          "text": [
            "Snake Club! Snake Club! Snake Club! \n"
          ]
        }
      ]
    },
    {
      "cell_type": "markdown",
      "source": [
        "### Accessing Characters in a String\n",
        "\n",
        "Each character in a string has a position, called an **index**, starting from 0 for the first character. You can access individual characters in a string using square brackets and the index number.\n",
        "\n",
        "Example:"
      ],
      "metadata": {
        "id": "Ubz5UMF_4UKF"
      }
    },
    {
      "cell_type": "code",
      "source": [
        "name = \"Kai\"\n",
        "print(name[0])  # Outputs: K\n",
        "print(name[1])  # Outputs: a\n",
        "print(name[2])  # Outputs: i"
      ],
      "metadata": {
        "colab": {
          "base_uri": "https://localhost:8080/"
        },
        "id": "2kl8xFYa4WKk",
        "outputId": "a0e80d92-fe33-447a-ac39-573e2de44798"
      },
      "execution_count": null,
      "outputs": [
        {
          "output_type": "stream",
          "name": "stdout",
          "text": [
            "K\n",
            "a\n",
            "i\n"
          ]
        }
      ]
    },
    {
      "cell_type": "markdown",
      "source": [
        "### Slicing Strings\n",
        "\n",
        "**Slicing** allows you to extract a portion of a string by specifying a starting index and an optional ending index.\n",
        "\n",
        "Example:"
      ],
      "metadata": {
        "id": "BPPV8OMo4XsL"
      }
    },
    {
      "cell_type": "code",
      "source": [
        "motto = \"Strike fast, strike hard!\"\n",
        "print(motto[7:11])  # Outputs: fast"
      ],
      "metadata": {
        "colab": {
          "base_uri": "https://localhost:8080/"
        },
        "id": "ZWiQuHg34Y0t",
        "outputId": "2a694d17-da80-4084-d6bf-67950b569d94"
      },
      "execution_count": null,
      "outputs": [
        {
          "output_type": "stream",
          "name": "stdout",
          "text": [
            "fast\n"
          ]
        }
      ]
    },
    {
      "cell_type": "markdown",
      "source": [
        "In this case, we start at index 7 (the first character of \"fast\") and stop just before index 11.\n",
        "\n",
        "### String Length\n",
        "\n",
        "You can find the length of a string (the number of characters it contains) using the built-in `len()` function."
      ],
      "metadata": {
        "id": "9BKcc4dn4bF1"
      }
    },
    {
      "cell_type": "code",
      "source": [
        "motto = \"Strike fast, strike hard!\"\n",
        "length = len(motto)\n",
        "print(f\"The motto is {length} characters long.\")"
      ],
      "metadata": {
        "colab": {
          "base_uri": "https://localhost:8080/"
        },
        "id": "67lOiJJk4czs",
        "outputId": "4cd97e13-0f56-417f-8f57-44878e654071"
      },
      "execution_count": null,
      "outputs": [
        {
          "output_type": "stream",
          "name": "stdout",
          "text": [
            "The motto is 25 characters long.\n"
          ]
        }
      ]
    },
    {
      "cell_type": "markdown",
      "source": [
        "### String Methods\n",
        "\n",
        "Python provides many built-in **methods** for working with strings. Here are a few useful ones:\n",
        "\n",
        "1. **`lower()`** and **`upper()`**: Convert the string to all lowercase or uppercase letters."
      ],
      "metadata": {
        "id": "FbGna4wM4fMH"
      }
    },
    {
      "cell_type": "code",
      "source": [
        "   motto = \"Strike fast, strike hard!\"\n",
        "   print(motto.upper())\n",
        "   print(motto.lower())"
      ],
      "metadata": {
        "colab": {
          "base_uri": "https://localhost:8080/"
        },
        "id": "FuqWEQKt4kUQ",
        "outputId": "6bd5c5bd-6bcc-496e-8ad1-0ef8ec3a69e8"
      },
      "execution_count": null,
      "outputs": [
        {
          "output_type": "stream",
          "name": "stdout",
          "text": [
            "STRIKE FAST, STRIKE HARD!\n",
            "strike fast, strike hard!\n"
          ]
        }
      ]
    },
    {
      "cell_type": "markdown",
      "source": [
        "2. **`strip()`**: Remove whitespace from the beginning and end of a string."
      ],
      "metadata": {
        "id": "jGwEt7L94n1M"
      }
    },
    {
      "cell_type": "code",
      "source": [
        "name = \"   Kai   \"\n",
        "print(name.strip())  # Outputs: \"Kai\""
      ],
      "metadata": {
        "colab": {
          "base_uri": "https://localhost:8080/"
        },
        "id": "eYHIvijf4plY",
        "outputId": "8e4767c7-235b-407e-e5c2-634e9e9f6c9b"
      },
      "execution_count": null,
      "outputs": [
        {
          "output_type": "stream",
          "name": "stdout",
          "text": [
            "Kai\n"
          ]
        }
      ]
    },
    {
      "cell_type": "markdown",
      "source": [
        "3. **`replace()`**: Replace part of a string with another string."
      ],
      "metadata": {
        "id": "69RMxVsc4wNi"
      }
    },
    {
      "cell_type": "code",
      "source": [
        "motto = \"Strike fast, strike hard!\"\n",
        "new_motto = motto.replace(\"hard\", \"smart\")\n",
        "print(new_motto)  #"
      ],
      "metadata": {
        "colab": {
          "base_uri": "https://localhost:8080/"
        },
        "id": "tAia8Xhz4yWY",
        "outputId": "8b731eeb-2d59-4b79-da55-3bbb6143dd49"
      },
      "execution_count": null,
      "outputs": [
        {
          "output_type": "stream",
          "name": "stdout",
          "text": [
            "Strike fast, strike smart!\n"
          ]
        }
      ]
    },
    {
      "cell_type": "markdown",
      "source": [
        "4. **`split()`**: Split a string into a list of words or phrases based on a delimiter (default is a space)."
      ],
      "metadata": {
        "id": "LBb7wx4g43-a"
      }
    },
    {
      "cell_type": "code",
      "source": [
        "motto = \"Strike fast, strike hard!\"\n",
        "words = motto.split()\n",
        "print(words)"
      ],
      "metadata": {
        "colab": {
          "base_uri": "https://localhost:8080/"
        },
        "id": "1znnYWNO44p8",
        "outputId": "3f098e27-aac7-4d97-ad6f-59d4a6fd8c44"
      },
      "execution_count": null,
      "outputs": [
        {
          "output_type": "stream",
          "name": "stdout",
          "text": [
            "['Strike', 'fast,', 'strike', 'hard!']\n"
          ]
        }
      ]
    },
    {
      "cell_type": "markdown",
      "source": [
        "5. **`join()`**: Join a list of strings into a single string."
      ],
      "metadata": {
        "id": "4OfITmQn4_A9"
      }
    },
    {
      "cell_type": "code",
      "source": [
        "words = ['Strike', 'fast,', 'strike', 'hard!']\n",
        "motto = \" \".join(words)\n",
        "print(motto)  # Outputs: Strike fast, strike hard!"
      ],
      "metadata": {
        "colab": {
          "base_uri": "https://localhost:8080/"
        },
        "id": "cPzo3u0B5Bcm",
        "outputId": "c3c29563-2a4e-4a61-b7aa-f412b08ff0f7"
      },
      "execution_count": null,
      "outputs": [
        {
          "output_type": "stream",
          "name": "stdout",
          "text": [
            "Strike fast, strike hard!\n"
          ]
        }
      ]
    },
    {
      "cell_type": "markdown",
      "source": [
        "### Practice Time: Strings\n",
        "\n",
        "Try the following string challenges:\n",
        "\n",
        "1. Create a variable called `club_name` and set it to a club name of your choice. Now, print the name in all uppercase letters."
      ],
      "metadata": {
        "id": "88uHFGCn5FUr"
      }
    },
    {
      "cell_type": "code",
      "source": [],
      "metadata": {
        "id": "lpbCaaY35Klu"
      },
      "execution_count": null,
      "outputs": []
    },
    {
      "cell_type": "markdown",
      "source": [
        "2. Create a string that repeats your club name five times and print it."
      ],
      "metadata": {
        "id": "d5knKsNv5Kyl"
      }
    },
    {
      "cell_type": "code",
      "source": [],
      "metadata": {
        "id": "cdgeodQZ5PTC"
      },
      "execution_count": null,
      "outputs": []
    },
    {
      "cell_type": "markdown",
      "source": [
        "3. Take the phrase \"and now its time for something completely different\" and repeat it five times."
      ],
      "metadata": {
        "id": "1xGTRWLe5PjY"
      }
    },
    {
      "cell_type": "markdown",
      "source": [
        "---\n",
        "\n",
        "You now have the tools to work with strings effectively in Python. Whether you’re manipulating text or interacting with user input, string operations are essential for creating flexible and dynamic programs. ---\n",
        "\n",
        "You now have the tools to work with strings effectively in Python. Whether you’re manipulating text or interacting with user input, string operations are essential for creating flexible and dynamic programs."
      ],
      "metadata": {
        "id": "W2LdefDD5X57"
      }
    },
    {
      "cell_type": "markdown",
      "source": [
        "## Python and HTML Integration: A Monty Python Adventure\n",
        "\n",
        "While we've been having fun with \"Snake Club\", it's worth noting that the Python programming langauge was NOT named after a snake! Instead, it was named after the classic British comedy show \"Monty Python.\" With that in mind, we're embarking on a quest more perilous than facing the Killer Rabbit of Caerbannog - we're going to combine the mystical powers of Python with the ancient scrolls of HTML. Just as the Knights of the Round Table sought the Holy Grail, we seek the perfect union of code and web content!\n",
        "\n",
        "\n",
        "As you've learned **HTML (HyperText Markup Language)** is the sacred text used to create web pages, much like the Book of Armaments guides the use of the Holy Hand Grenade. It describes the structure of a web page using a series of elements, telling the browser how to display content - rather like how you might instruct a knight on the proper way to silly walk.\n",
        "\n",
        "Previously, we've been using Python to count to three (no more, no less). Now, we're going to use Python to generate HTML content dynamically. This is a powerful technique, much like using a shrubbery to create a effective knight barrier. (And in fact, this is a common real-world use of Python.)\n",
        "\n",
        "## Setting Up: Fetching the Holy Grail (of Web Display)\n",
        "\n",
        "Before we begin our quest, we need to import some special functions, much like gathering the Knights of the Round Table. Add this code to a new cell in your Colab noteboo"
      ],
      "metadata": {
        "id": "FVtDHsCs7fEv"
      }
    },
    {
      "cell_type": "code",
      "source": [
        "from IPython.display import display, HTML"
      ],
      "metadata": {
        "id": "yrVwgm4k7gbB"
      },
      "execution_count": null,
      "outputs": []
    },
    {
      "cell_type": "markdown",
      "source": [
        "The `display` function is our trusty steed, carrying various types of content, while the `HTML` function is our squire, specifically helping us with HTML content.\n",
        "\n",
        "### Creating HTML Strings in Python: Inscribing the Sacred Texts\n",
        "\n",
        "In Python, we can create HTML content as strings, much like the lines of a Monty Python sketch. Let's start with a simple example:"
      ],
      "metadata": {
        "id": "SQPncZM57iYl"
      }
    },
    {
      "cell_type": "code",
      "source": [
        "html_content = \"<h1>Welcome to the Ministry of Silly Walks Python Coding Society!</h1>\"\n",
        "display(HTML(html_content))"
      ],
      "metadata": {
        "colab": {
          "base_uri": "https://localhost:8080/",
          "height": 74
        },
        "id": "fdMNadmZ7ld_",
        "outputId": "028877ef-4981-46bd-9a4f-d0a80dd8f11c"
      },
      "execution_count": null,
      "outputs": [
        {
          "output_type": "display_data",
          "data": {
            "text/plain": [
              "<IPython.core.display.HTML object>"
            ],
            "text/html": [
              "<h1>Welcome to the Ministry of Silly Walks Python Coding Society!</h1>"
            ]
          },
          "metadata": {}
        }
      ]
    },
    {
      "cell_type": "markdown",
      "source": [
        "When you run this cell, you'll see our grand welcome displayed as a large heading. The `<h1>` tags in HTML define a top-level heading, much like the crown of King Arthur himself.\n",
        "\n",
        "## Combining Python Variables with HTML: The Knights Who Say \"Ni!\"\n",
        "\n",
        "Now, let's make our HTML more dynamic by incorporating Python variables, just as the Knights Who Say \"Ni!\" might demand a shrubbery:"
      ],
      "metadata": {
        "id": "qgpY6G8o7ngx"
      }
    },
    {
      "cell_type": "code",
      "source": [
        "society_name = \"Ministry of Silly Walks Python Coding Society\"\n",
        "member_count = 42  # It's always 42\n",
        "\n",
        "html_content = f\"\"\"\n",
        "<h1>Welcome to the {society_name}!</h1>\n",
        "<p>We currently have {member_count} members (it's always {member_count}).</p>\n",
        "\"\"\"\n",
        "\n",
        "display(HTML(html_content))"
      ],
      "metadata": {
        "colab": {
          "base_uri": "https://localhost:8080/",
          "height": 100
        },
        "id": "WTiGaMCB7qAe",
        "outputId": "08269260-42bc-4d0e-801c-614c199b55f2"
      },
      "execution_count": null,
      "outputs": [
        {
          "output_type": "display_data",
          "data": {
            "text/plain": [
              "<IPython.core.display.HTML object>"
            ],
            "text/html": [
              "\n",
              "<h1>Welcome to the Ministry of Silly Walks Python Coding Society!</h1>\n",
              "<p>We currently have 42 members (it's always 42).</p>\n"
            ]
          },
          "metadata": {}
        }
      ]
    },
    {
      "cell_type": "markdown",
      "source": [
        "Here, we're using an f-string (remember those? They're as magical as a swallow carrying a coconut) to insert our Python variables directly into our HTML string.\n",
        "\n",
        "## HTML Templates: The Holy Grail of Reusability\n",
        "\n",
        "For more complex HTML structures, it's often helpful to create a template, much like the recurring jokes in a Monty Python sketch. Here's an example:"
      ],
      "metadata": {
        "id": "mwcRdgZH7seT"
      }
    },
    {
      "cell_type": "code",
      "source": [
        "html_template = \"\"\"\n",
        "<html>\n",
        "  <head>\n",
        "    <title>{title}</title>\n",
        "    <style>\n",
        "      body {{ font-family: \"Comic Sans MS\", cursive, sans-serif; }}\n",
        "      .highlight {{ background-color: #FFD700; }}  /* Knight's armor gold */\n",
        "    </style>\n",
        "  </head>\n",
        "  <body>\n",
        "    <h1>{heading}</h1>\n",
        "    <p>{content}</p>\n",
        "  </body>\n",
        "</html>\n",
        "\"\"\"\n",
        "\n",
        "# Fill the template\n",
        "title = \"Ministry of Silly Walks Python Coding Society\"\n",
        "heading = \"Welcome, brave Python knight!\"\n",
        "content = \"Remember: always look on the bright side of code.\"\n",
        "\n",
        "filled_html = html_template.format(title=title, heading=heading, content=content)\n",
        "\n",
        "display(HTML(filled_html))"
      ],
      "metadata": {
        "colab": {
          "base_uri": "https://localhost:8080/",
          "height": 100
        },
        "id": "8Giagtpt7t5M",
        "outputId": "b40e1070-f851-4c05-e269-f8edc556b029"
      },
      "execution_count": null,
      "outputs": [
        {
          "output_type": "display_data",
          "data": {
            "text/plain": [
              "<IPython.core.display.HTML object>"
            ],
            "text/html": [
              "\n",
              "<html>\n",
              "  <head>\n",
              "    <title>Ministry of Silly Walks Python Coding Society</title>\n",
              "    <style>\n",
              "      body { font-family: \"Comic Sans MS\", cursive, sans-serif; }\n",
              "      .highlight { background-color: #FFD700; }  /* Knight's armor gold */\n",
              "    </style>\n",
              "  </head>\n",
              "  <body>\n",
              "    <h1>Welcome, brave Python knight!</h1>\n",
              "    <p>Remember: always look on the bright side of code.</p>\n",
              "  </body>\n",
              "</html>\n"
            ]
          },
          "metadata": {}
        }
      ]
    },
    {
      "cell_type": "markdown",
      "source": [
        "In this example, we create an HTML template with placeholders, much like leaving space in a sketch for spontaneous silly walks. In python, we can use:\n",
        "\n",
        "```python\n",
        "my_string.format(placeholder1 = value1,\n",
        "                  placeholder2 = value2, ...)\n",
        "```\n",
        "to take a string `my_string` and replace the material inside `{}` with text.\n",
        "\n",
        "## Using Python String Operations in HTML: Silly Walks Generator\n",
        "\n",
        "Remember all those string operations we learned? We can use them to manipulate our HTML content too, creating a veritable silly walk of text! Let's see an example:"
      ],
      "metadata": {
        "id": "7BKrm-Qn73H3"
      }
    },
    {
      "cell_type": "code",
      "source": [
        "name = input(\"What is your name, brave knight? \")\n",
        "quest = input(\"What is your quest? \")\n",
        "\n",
        "html_content = f\"\"\"\n",
        "<h1>Welcome, Sir {name.upper()}!</h1>\n",
        "<p>Your quest is to <span class=\"highlight\">{quest.title()}</span>.</p>\n",
        "<p>This noble quest has {len(quest)} characters (much like a Monty Python cast).</p>\n",
        "\"\"\"\n",
        "\n",
        "display(HTML(html_content))"
      ],
      "metadata": {
        "colab": {
          "base_uri": "https://localhost:8080/",
          "height": 160
        },
        "id": "v5SvxQLH75oJ",
        "outputId": "d5dccd8f-e814-41ee-d3c4-d57a6221d7fe"
      },
      "execution_count": null,
      "outputs": [
        {
          "name": "stdout",
          "output_type": "stream",
          "text": [
            "What is your name, brave knight? Brendy\n",
            "What is your quest? Oles\n"
          ]
        },
        {
          "output_type": "display_data",
          "data": {
            "text/plain": [
              "<IPython.core.display.HTML object>"
            ],
            "text/html": [
              "\n",
              "<h1>Welcome, Sir BRENDY!</h1>\n",
              "<p>Your quest is to <span class=\"highlight\">Oles</span>.</p>\n",
              "<p>This noble quest has 4 characters (much like a Monty Python cast).</p>\n"
            ]
          },
          "metadata": {}
        }
      ]
    },
    {
      "cell_type": "markdown",
      "source": [
        "In this example, we use various string operations to manipulate our input, much like the many ways to silly walk."
      ],
      "metadata": {
        "id": "uY57kWs88HUe"
      }
    },
    {
      "cell_type": "markdown",
      "source": [
        "## Practice Time: Your Comedic Coding Adventure\n",
        "\n",
        "Now it's your turn to combine Python and HTML to create something uniquely funny! Choose your favorite comedy (Monty Python or otherwise) and let's get coding. Remember, laughter is the best medicine, except for actual medicine in coding – that would be using Stack Overflow.\n",
        "\n",
        "1. Create a Python script that asks the user for three pieces of information related to your chosen comedy. For example, if you're a fan of \"The Office\", you might ask for their name, their favorite character, and their best sales technique. Then, generate an HTML page that displays this information in a formatted list.\n",
        "\n",
        "   Here's a template to get you started:"
      ],
      "metadata": {
        "id": "JsF2K1Tu9S6h"
      }
    },
    {
      "cell_type": "code",
      "source": [
        "   # Get user input\n",
        "name = input(\"What is your name? \")\n",
        "# Add two more input statements here\n",
        "# Create HTML content\n",
        "\n",
        "html_content = f\"\"\"\n",
        "<h1>Welcome, {name}!</h1>\n",
        "<ul>\n",
        "    <li>Your name: {name}</li>\n",
        "    <!-- Add two more list items here -->\n",
        "</ul>\n",
        "\"\"\"\n",
        "# Display the HTML\n",
        "display(HTML(html_content))"
      ],
      "metadata": {
        "colab": {
          "base_uri": "https://localhost:8080/",
          "height": 118
        },
        "id": "LfaDf66b8Y4F",
        "outputId": "6ec5ba0f-83b9-480b-f179-c68c772a7aa7"
      },
      "execution_count": null,
      "outputs": [
        {
          "name": "stdout",
          "output_type": "stream",
          "text": [
            "What is your name? Brendan\n"
          ]
        },
        {
          "output_type": "display_data",
          "data": {
            "text/plain": [
              "<IPython.core.display.HTML object>"
            ],
            "text/html": [
              "\n",
              "<h1>Welcome, Brendan!</h1>\n",
              "<ul>\n",
              " <li>Your name: Brendan</li>\n",
              " <!-- Add two more list items here -->\n",
              "</ul>\n"
            ]
          },
          "metadata": {}
        }
      ]
    },
    {
      "cell_type": "markdown",
      "source": [
        "2. Create an HTML table that displays information about 5 elements from your chosen comedy. For example, for \"The Office\", you might list 5 characters and their job titles. Use Python string operations to manipulate the text (e.g., make the names all uppercase) before displaying them.\n",
        "\n",
        "Here's a starting point for creating an HTML table:\n"
      ],
      "metadata": {
        "id": "O7Jqqxl298fK"
      }
    },
    {
      "cell_type": "code",
      "source": [
        "table_html = \"<table border='1'>\"\n",
        "table_html += \"<tr><th>Character</th><th>Job Title</th></tr>\"\n",
        "# Add your rows here\n",
        "table_html += \"</table>\"\n",
        "\n",
        "display(HTML(table_html))"
      ],
      "metadata": {
        "colab": {
          "base_uri": "https://localhost:8080/",
          "height": 44
        },
        "id": "YnXm8KrS-sEx",
        "outputId": "d790fad9-3868-44cb-dafb-0f11c5284a48"
      },
      "execution_count": null,
      "outputs": [
        {
          "output_type": "display_data",
          "data": {
            "text/plain": [
              "<IPython.core.display.HTML object>"
            ],
            "text/html": [
              "<table border='1'><tr><th>Character</th><th>Job Title</th></tr></table>"
            ]
          },
          "metadata": {}
        }
      ]
    },
    {
      "cell_type": "markdown",
      "source": [
        "## Python Mad Libs Lab: 7 Steps to Customize Your Template\n",
        "Below, you'll find \"starter code\" for a simple \"mad libs\" style game.\n",
        "In this lab, you'll modify the Monty Python-style Mad Libs template we've created. Follow these 7 steps to personalize your template and practice your Python and HTML skills.\n",
        "\n",
        "1. Run the template code WITHOUT making any changes, and observe the results. Now, try running it, and giving wrong/unexpected answers (for example, giving it a string where it expects an integer).\n",
        "\n",
        "2. Add a new input variable called 'favorite_color'. Use the input() function to ask the user for their favorite color. Remember to choose an appropriate variable name.\n",
        "\n",
        "3. Modify the HTML template to use the new 'favorite_color' variable as the background color for the body. Look for the CSS section in the HTML string and find where the background-color is set.\n",
        "\n",
        "4. Change the 'python_length' input to ask for the snake's age instead. Modify the existing input line to ask for age in years. Consider what data type would be appropriate for age.\n",
        "\n",
        "5. Update the HTML template to use the snake's age instead of its length. Find where 'python_length' was used in the story and replace it with an appropriate sentence using the snake's age.\n",
        "\n",
        "6. Add a footer to your HTML. At the end of the body section, add a new paragraph with a silly copyright notice. Use the 'snake_name' and 'noun' variables in your copyright text.\n",
        "\n",
        "7. Add a new input for the title of the story. Create a new input variable for the story title, then use this to replace the existing h1 heading in your HTML template.\n",
        "\n",
        "Remember to test your code after each change. If you're stuck, try to think about what we've learned about string formatting and HTML structure. Don't be afraid to experiment – that's how we learn!\n",
        "\n",
        "Bonus Challenge: If you're feeling adventurous, try adding an img tag to your HTML to display a silly image related to your story."
      ],
      "metadata": {
        "id": "2MtKf0C4-y3W"
      }
    },
    {
      "cell_type": "code",
      "source": [
        "from IPython.display import display, HTML\n",
        "\n",
        "# Get inputs from the user\n",
        "snake_name = input(\"Enter a ridiculous name for a snake: \")\n",
        "adjective = input(\"Enter an absurd adjective: \")\n",
        "noun = input(\"Enter a nonsensical noun: \")\n",
        "number_of_knights = int(input(\"Enter a number of knights (integer): \"))\n",
        "python_length = float(input(\"Enter the length of a python (in meters, use a decimal): \"))\n",
        "\n",
        "html_template = \"\"\"\n",
        "<html>\n",
        "  <head>\n",
        "    <title>The Ministry of Silly Snakes Presents: A Pythonesque Adventure</title>\n",
        "    <style>\n",
        "      body {{\n",
        "        font-family: \"Courier New\", monospace;\n",
        "        background-color: #FDF5E6;\n",
        "        padding: 20px;\n",
        "        color: #8B4513;\n",
        "      }}\n",
        "      .highlight {{\n",
        "        background-color: #FF69B4;\n",
        "        padding: 2px 5px;\n",
        "        border-radius: 3px;\n",
        "      }}\n",
        "      h1 {{ color: #4B0082; text-align: center; }}\n",
        "    </style>\n",
        "  </head>\n",
        "  <body>\n",
        "    <h1>🐍 The Ministry of Silly Snakes Presents 🐍</h1>\n",
        "    <h2>A Completely Serious Document About {snake_name} the Python</h2>\n",
        "\n",
        "    <p>In a land where {noun}s grow on trees, there lived a python named {snake_name}.\n",
        "    This wasn't your ordinary python, oh no. This python was <span class=\"highlight\">{python_length:.2f}</span> meters long\n",
        "    and had a peculiarly {adjective} tail.</p>\n",
        "\n",
        "    <p>One day, while slithering through the Forest of Silly Walks, {snake_name} encountered\n",
        "    {number_of_knights} knights who say \"Ni!\". The knights were on a quest to find the\n",
        "    holy {noun}, but had gotten rather lost.</p>\n",
        "\n",
        "    <p>{snake_name}, being a <span class=\"highlight\">{adjective}</span> and helpful snake,\n",
        "    offered to assist. Little did they know, this would lead to a series of increasingly\n",
        "    absurd events, involving:</p>\n",
        "\n",
        "    <ul>\n",
        "      <li>A {noun} that could only move backwards</li>\n",
        "      <li>{number_of_knights} knights attempting to use a {noun} as a horse</li>\n",
        "      <li>A {adjective} grail (that was actually a coconut)</li>\n",
        "    </ul>\n",
        "\n",
        "    <p>In the end, {snake_name} looked directly at an unseen audience and proclaimed,\n",
        "    \"I didn't expect some kind of Spanish Inquisition!\"</p>\n",
        "  </body>\n",
        "</html>\n",
        "\"\"\"\n",
        "\n",
        "# Fill the template\n",
        "filled_html = html_template.format(\n",
        "    snake_name=snake_name,\n",
        "    adjective=adjective,\n",
        "    noun=noun,\n",
        "    number_of_knights=number_of_knights,\n",
        "    python_length=python_length\n",
        ")\n",
        "\n",
        "# Display the filled template\n",
        "display(HTML(filled_html))"
      ],
      "metadata": {
        "id": "_l2Z9NB3-7Mw",
        "colab": {
          "base_uri": "https://localhost:8080/",
          "height": 420
        },
        "outputId": "77908cf3-0d78-45ad-cb84-617449c77077"
      },
      "execution_count": null,
      "outputs": [
        {
          "name": "stdout",
          "output_type": "stream",
          "text": [
            "Enter a ridiculous name for a snake: Petey\n",
            "Enter an absurd adjective: Hot\n",
            "Enter a nonsensical noun: hoogod\n",
            "Enter a number of knights (integer): 10\n",
            "Enter the length of a python (in meters, use a decimal): 3.34\n"
          ]
        },
        {
          "output_type": "display_data",
          "data": {
            "text/plain": [
              "<IPython.core.display.HTML object>"
            ],
            "text/html": [
              "\n",
              "<html>\n",
              "  <head>\n",
              "    <title>The Ministry of Silly Snakes Presents: A Pythonesque Adventure</title>\n",
              "    <style>\n",
              "      body {\n",
              "        font-family: \"Courier New\", monospace;\n",
              "        background-color: #FDF5E6;\n",
              "        padding: 20px;\n",
              "        color: #8B4513;\n",
              "      }\n",
              "      .highlight {\n",
              "        background-color: #FF69B4;\n",
              "        padding: 2px 5px;\n",
              "        border-radius: 3px;\n",
              "      }\n",
              "      h1 { color: #4B0082; text-align: center; }\n",
              "    </style>\n",
              "  </head>\n",
              "  <body>\n",
              "    <h1>🐍 The Ministry of Silly Snakes Presents 🐍</h1>\n",
              "    <h2>A Completely Serious Document About Petey the Python</h2>\n",
              "    \n",
              "    <p>In a land where hoogods grow on trees, there lived a python named Petey. \n",
              "    This wasn't your ordinary python, oh no. This python was <span class=\"highlight\">3.34</span> meters long \n",
              "    and had a peculiarly Hot tail.</p>\n",
              "    \n",
              "    <p>One day, while slithering through the Forest of Silly Walks, Petey encountered \n",
              "    10 knights who say \"Ni!\". The knights were on a quest to find the \n",
              "    holy hoogod, but had gotten rather lost.</p>\n",
              "    \n",
              "    <p>Petey, being a <span class=\"highlight\">Hot</span> and helpful snake, \n",
              "    offered to assist. Little did they know, this would lead to a series of increasingly \n",
              "    absurd events, involving:</p>\n",
              "    \n",
              "    <ul>\n",
              "      <li>A hoogod that could only move backwards</li>\n",
              "      <li>10 knights attempting to use a hoogod as a horse</li>\n",
              "      <li>A Hot grail (that was actually a coconut)</li>\n",
              "    </ul>\n",
              "    \n",
              "    <p>In the end, Petey looked directly at an unseen audience and proclaimed, \n",
              "    \"I didn't expect some kind of Spanish Inquisition!\"</p>\n",
              "  </body>\n",
              "</html>\n"
            ]
          },
          "metadata": {}
        }
      ]
    },
    {
      "cell_type": "markdown",
      "source": [
        "Remember, in comedy and coding, timing is everything – and by timing, we mean how long it takes your code to run. Don't be afraid to experiment and try new things. If you get stuck, remember: in coding, as in comedy, it's okay to steal jokes (we call it \"borrowing code snippets\"). Keep practicing, and soon you'll be coding with a laugh track in the background!"
      ],
      "metadata": {
        "id": "mWBXkNjP-B54"
      }
    },
    {
      "cell_type": "markdown",
      "source": [
        "## Key Points\n",
        "1. Programming languages are formal languages with strict rules, unlike flexible natural languages.\n",
        "2. Python uses indentation to define code blocks and structure.\n",
        "3. Variables store data, while functions like input() and print() handle user interaction and output.\n",
        "4. Strings can be manipulated using various methods and operations.\n",
        "5. Type casting functions (int(), float(), str()) convert between data types.\n",
        "6. Escape characters allow special formatting within strings.\n",
        "7. Comments and pseudocode improve code readability and planning.\n",
        "8. Debugging involves identifying and fixing syntax and semantic errors.\n",
        "9. F-strings provide an efficient way to embed variables within strings.\n",
        "10. Python can generate HTML content dynamically for web applications.\n",
        "11. Combining Python with HTML allows for creating interactive web content.\n",
        "12. Programming involves developing a logical, problem-solving mindset.\n",
        "13. Practice and experimentation are key to improving programming skills.\n",
        "14. Understanding data types and their appropriate use is crucial in programming.\n",
        "15. Error messages provide valuable information for debugging and should be read carefully."
      ],
      "metadata": {
        "id": "2mDNsExqR2HA"
      }
    },
    {
      "cell_type": "markdown",
      "source": [
        "## Review With Quizlet"
      ],
      "metadata": {
        "id": "x-e4mmI4Q0DV"
      }
    },
    {
      "cell_type": "code",
      "source": [
        "%%html\n",
        "<iframe src=\"https://quizlet.com/818668457/learn/embed?i=psvlh&x=1jj1\" height=\"500\" width=\"100%\" style=\"border:0\"></iframe>"
      ],
      "metadata": {
        "id": "-V5OoBzm-BdB"
      },
      "execution_count": null,
      "outputs": []
    },
    {
      "cell_type": "markdown",
      "source": [
        "## Glossary\n",
        "| Term | Definition |\n",
        "|------|------------|\n",
        "| Ambiguity | The quality of being open to more than one interpretation. |\n",
        "| Argument | A value that is passed to a function when it is called. |\n",
        "| Bug | An error, flaw, or fault in a computer program that causes it to produce an incorrect or unexpected result. |\n",
        "| Comment | Text in a program's code that is ignored by the compiler or interpreter, used to explain the code to humans. |\n",
        "| Context-sensitivity | The property of a language where the meaning of an element depends on its surrounding context. |\n",
        "| Debugging | The process of finding and fixing bugs in a computer program. |\n",
        "| Formal language | A language with strict rules for its syntax and semantics, designed for specific purposes like programming. |\n",
        "| Function | A reusable block of code that performs a specific task. |\n",
        "| Natural language | A language that has evolved naturally for human communication, like English or Spanish. |\n",
        "| Parameter | A variable in a function definition that acts as a placeholder for an argument. |\n",
        "| Python | A high-level, interpreted programming language known for its readability and versatility. |\n",
        "| Semantic error | An error in a program that makes it do something other than what the programmer intended. |\n",
        "| Semantics | The meaning of a program or its components. |\n",
        "| Syntax | The set of rules that define how to write correctly structured code in a programming language. |\n",
        "| Syntax error | An error in a program that occurs when the code violates the grammatical rules of the programming language. |\n",
        "| Variable | A named storage location in a program that holds a value. |"
      ],
      "metadata": {
        "id": "Y07W7Ex1P9N7"
      }
    },
    {
      "cell_type": "markdown",
      "source": [
        "## Table: Basic Python\n",
        "\n",
        "| Concept/Function | Description |\n",
        "|------------------|-------------|\n",
        "| `variable = value` | Assigns a value to a variable |\n",
        "| `# This is a comment` | Creates a single-line comment |\n",
        "| `\"\"\"This is a multi-line comment\"\"\"` | Creates a multi-line comment |\n",
        "| `print(value)` | Displays the specified value on the screen |\n",
        "| `print(value1, value2, ...)` | Displays multiple values, separated by spaces |\n",
        "| `print(value, end='')` | Displays the value without moving to a new line |\n",
        "| `input(prompt)` | Displays the prompt and waits for user input |\n",
        "| `len(object)` | Returns the number of items in an object |\n",
        "| `int(x)` | Converts x to an integer |\n",
        "| `float(x)` | Converts x to a floating-point number |\n",
        "| `str(x)` | Converts x to a string |\n",
        "| `string + string` | Concatenates two strings |\n",
        "| `string * n` | Repeats the string n times |\n",
        "| `string[index]` | Accesses the character at the specified index in the string |\n",
        "| `string[start:end]` | Slices the string from start index to end index (exclusive) |\n",
        "| `string.upper()` | Returns a copy of the string in uppercase |\n",
        "| `string.lower()` | Returns a copy of the string in lowercase |\n",
        "| `string.title()` | Returns a copy of the string with words capitalized |\n",
        "| `string.strip()` | Returns a copy of the string with leading and trailing whitespace removed |\n",
        "| `string.replace(old, new)` | Returns a copy of the string with all occurrences of 'old' replaced by 'new' |\n",
        "| `string.split(\",\")` | Splits the string into a list of substrings based on the seperator \",\" |\n",
        "| `\",\".join(iterable)` | Joins the elements of an iterable into a string using the separator \",\"|\n",
        "| `f\"{variable}\"` | Creates an f-string, allowing embedded expressions inside string literals |\n",
        "| `\"{}\".format(value)` | Formats the string with the specified value |\n",
        "| `\\n` | Escape character for newline |\n",
        "| `\\t` | Escape character for tab |\n",
        "| `\\'` | Escape character for single quote |\n",
        "| `\\\"` | Escape character for double quote |\n",
        "| `\\\\` | Escape character for backslash |\n",
        "| `if condition:` | Starts an if statement for conditional execution |\n",
        "| `elif condition:` | Adds an else if condition to an if statement |\n",
        "| `else:` | Adds an else clause to an if statement |\n",
        "| `type(x)` | Gets the data type of variable `x` |"
      ],
      "metadata": {
        "id": "9muawmktAOOz"
      }
    },
    {
      "cell_type": "code",
      "source": [],
      "metadata": {
        "id": "0PxBcSXlAQ-Z"
      },
      "execution_count": null,
      "outputs": []
    }
  ]
}