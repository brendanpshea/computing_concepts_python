{
  "nbformat": 4,
  "nbformat_minor": 0,
  "metadata": {
    "colab": {
      "provenance": [],
      "authorship_tag": "ABX9TyNFD5DyRj0PccnMEhWD9TSe",
      "include_colab_link": true
    },
    "kernelspec": {
      "name": "python3",
      "display_name": "Python 3"
    },
    "language_info": {
      "name": "python"
    }
  },
  "cells": [
    {
      "cell_type": "markdown",
      "metadata": {
        "id": "view-in-github",
        "colab_type": "text"
      },
      "source": [
        "<a href=\"https://colab.research.google.com/github/brendanpshea/intro_cs/blob/main/IntroCS_09_SoftwareEngineering.ipynb\" target=\"_parent\"><img src=\"https://colab.research.google.com/assets/colab-badge.svg\" alt=\"Open In Colab\"/></a>"
      ]
    },
    {
      "cell_type": "markdown",
      "source": [
        "# Foundations of Software Engineering\n",
        "### Intro to CS | Brendan Shea, PhD\n",
        "\n",
        "Welcome to an exciting journey into the world of Software Engineering! As budding computer scientists, you have already dipped your toes into Python programming and SQL database management. Now, it's time to delve deeper and see how these individual skills fit into the broader landscape of software development. This chapter aims to provide you with a solid foundation in Software Engineering, a discipline that is at the heart of creating and maintaining quality software.  Software Engineering is not just about writing code; it's about systematically designing, developing, and testing software systems. It's about ensuring that the applications you create are reliable, efficient, and meet the needs of users. Just as architects draft blueprints long before any bricks are laid, software engineers plan and design software structures before writing any code.\n",
        "\n",
        "In this chapter, we will explore the Software Development Life Cycle (SDLC), the process that all software engineers follow to ensure software is developed in a controlled and structured manner. Understanding this process will equip you with a clear roadmap for software development, from the initial concept to the final product.  \n",
        "\n",
        "We will delve into the fascinating world of software development methodologies. Each methodology is like a unique path to the summit of a mountain. Some prefer the structured, linear approach of Waterfall, while others prefer the flexibility and collaboration of Agile methodologies like Scrum and Kanban. You'll get to weigh their pros and cons and understand when to apply each.\n",
        "\n",
        "Version control, though often overlooked, is a lifesaver in the world of software development. It is the time machine that allows developers to travel back and forth in their code history, collaborate without conflicts, and maintain sanity in complex projects. Here, you'll learn about Git, the de facto standard for version control.\n",
        "\n",
        "We'll then venture into the critical yet often misunderstood realm of software testing. Testing is like a safety net, catching bugs and discrepancies before they reach the end user. Understanding its importance and knowing how to implement it effectively can make or break a software system.\n",
        "\n",
        "Good design goes beyond aesthetic. In software, good design optimizes efficiency and maintainability. Through principles like modularity and encapsulation, we'll explore how to design elegant and robust software. Finally, we'll talk about refactoring, the art of improving code without changing its functionality, and the importance of documentation, the silent guide in the life of a software engineer. \n",
        "\n",
        "To goal of this chapter isn't so much a specific set of key, but to introduce a \"mindset\". Software engineering requires embracing a systematic approach, cherishing quality, and striving for continuous improvement. This chapter will give you a glimpse into how this might work, which is not just about building software but also about problem-solving, creativity, and above all, transforming ideas into reality.\n"
      ],
      "metadata": {
        "id": "k7UVnMk9N01s"
      }
    },
    {
      "cell_type": "markdown",
      "source": [
        "## Software Development Life Cycle (SDLC)\n",
        "\n",
        "The **Software Development Life Cycle (SDLC)** is a structured process used by software engineers to develop and maintain high-quality software. Think of it as a roadmap that guides you from the initial idea to a fully functional software product. Each stage in the SDLC serves a specific purpose and builds on the work accomplished in the previous stages. Let's explore each of these stages and why they're important:\n",
        "\n",
        "1.  **Requirements Gathering:** This is the stage where you work with clients or users to understand what they need from the software. This might involve interviews, surveys, or observations. It's crucial to gather all necessary requirements in this stage to set the direction for the rest of the SDLC. This stage answers the question, \"What should the software do?\" For example, if you're building a library management system, some requirements might include tracking borrowed books, managing due dates, and handling user accounts.\n",
        "\n",
        "2.  **System Design:** Once you have a list of requirements, the next step is to design how the software will fulfill these requirements. This involves architectural plans and design specifications. You'll decide on things like programming languages, database structures, and user interface layouts. For our library management system, this might involve deciding to use Python for backend logic, SQL for database management, and designing a user-friendly interface for librarians and library-goers.\n",
        "\n",
        "3.  **Implementation** or **Coding:** This is where you turn the design into a functioning software system. You'll write code to implement all the features laid out in the design. It's important that the code is written in a clear and efficient manner. In our library system example, this is where you'd write the Python code to handle borrowing and returning books, and create the SQL database to store all the relevant information.\n",
        "\n",
        "4.  **Testing:** After the code is written, it's time to test it. This stage involves checking the software for errors or bugs, and verifying that it meets all the defined requirements. Tests might be performed at different levels, from individual components (unit tests) to the system as a whole (system tests). For the library system, you might test whether the 'borrow' feature correctly updates the database and whether the 'return' feature properly manages late returns.\n",
        "\n",
        "5.  **Deployment:** Once the software has been tested and any discovered issues have been addressed, it's time for deployment. This means making the software available for use. In our library example, deployment might involve installing the system on the library's servers and computers.\n",
        "\n",
        "6.  **Maintenance:** After deployment, the software will need ongoing maintenance. This stage includes fixing any issues that come up after deployment, making improvements, and adding new features as necessary. For the library system, maintenance could include adding a new feature to manage eBooks or improving the user interface based on user feedback.\n",
        "\n",
        "The SDLC is important because it provides a structured approach to software development, which can increase efficiency and quality of work. It ensures that nothing is overlooked and that each stage is completed in the correct order. For beginners, it's crucial to grasp this fundamental concept, as understanding the SDLC can help you become a better, more organized software developer."
      ],
      "metadata": {
        "id": "-_TLZAjwOrzC"
      }
    },
    {
      "cell_type": "markdown",
      "source": [
        "## Software Development Methodologies\n",
        "\n",
        "### Waterfall Model:\n",
        "\n",
        "The Waterfall model, introduced in the 1970s, is one of the earliest software development methodologies. It is sequential and linear, marking a significant contrast to more modern, iterative methodologies that would come later. Each phase---requirements gathering, design, implementation, verification, and maintenance---occurs in a rigid sequence with little room for revisiting or overlapping stages. This structure provides a straightforward and easy-to-follow approach, with each stage producing clear deliverables and providing a foundation for the next.\n",
        "\n",
        "For example, consider a team building an online banking application:\n",
        "\n",
        "| Week | Activity |\n",
        "| --- | --- |\n",
        "| 1-2 | Gather requirements: account management, transfers, bill payments |\n",
        "| 3-4 | Design the application's architecture |\n",
        "| 5-8 | Write the application code |\n",
        "| 9 | Verify the application: perform testing |\n",
        "| 10 | Deploy the application: launch for users |\n",
        "| 11 onwards | Maintenance: fix bugs, update based on user feedback |\n",
        "\n",
        "-   Pro: The Waterfall model's straightforward linearity makes it easy to understand and manage.\n",
        "-   Con: Its rigid structure lacks flexibility. Changes are hard to implement once a phase is complete.\n",
        "\n",
        "### Agile Methodology:\n",
        "\n",
        "In stark contrast to the Waterfall model, Agile emerged in the early 2000s as an iterative and incremental approach that promotes flexibility and customer interaction. Agile focuses on producing smaller, usable pieces of software, or \"increments,\" which are continuously tested and improved. This allows for regular feedback and adjustments, placing an emphasis on customer satisfaction that the Waterfall model often lacks. Agile's flexible nature means it can adapt better to changes, but it also demands high levels of engagement from both the development team and the customer.\n",
        "\n",
        "A team creating an eCommerce website might use the following Agile-based schedule:\n",
        "\n",
        "| Sprint | Deliverables |\n",
        "| --- | --- |\n",
        "| 1 | A functional website with basic features: browsing items and placing orders |\n",
        "| 2 | Added feature: product recommendations |\n",
        "| 3 | Added feature: user reviews |\n",
        "| ... | ... |\n",
        "\n",
        "-   Pro: Agile's iterative approach allows for continuous feedback and improvements, thus increasing customer satisfaction.\n",
        "-   Con: Agile requires a high level of customer and team engagement, which can be challenging to maintain.\n",
        "\n",
        "### Scrum:\n",
        "\n",
        "Scrum, developed in the 1990s, is a specific subset of Agile that adds structure to the iteration process by organizing work into time-boxed \"sprints,\" typically lasting two to four weeks. This provides a balance between the flexibility of Agile and the structure of Waterfall, with the team committing to specific goals for each sprint. Scrum includes specific roles (like the Scrum Master and Product Owner) and ceremonies (like the daily Scrum meeting and sprint retrospective), which provide additional structure.\n",
        "\n",
        "A team designing a mobile game might follow this Scrum-based pattern:\n",
        "\n",
        "| Sprint | Goal | Daily Scrum Focus |\n",
        "| --- | --- | --- |\n",
        "| 1 | Create basic game mechanics | Day 1: Plan character controls, Day 2: Code character controls, Day 3: Test character controls, ... |\n",
        "| 2 | Add first level | Day 1: Design level, Day 2: Code level, Day 3: Test level, ... |\n",
        "| 3 | Add enemy AI | Day 1: Plan enemy AI, Day 2: Code enemy AI, Day 3: Test enemy AI, ... |\n",
        "| ... | ... | ... |\n",
        "\n",
        "-   Pro: Scrum promotes team communication and efficient work management.\n",
        "-   Con: It can be less predictable than other methodologies because it's highly dependent on the team's ability to self-organize."
      ],
      "metadata": {
        "id": "LqkUk9mdRyFq"
      }
    },
    {
      "cell_type": "markdown",
      "source": [
        "### DevOps\n",
        "Imagine a restaurant kitchen where the chefs never talk to the servers. The chefs keep making dishes without knowing what the customers think about their food, while the servers have to deal with unhappy customers because they can't give feedback to the chefs. This scenario is similar to the traditional separation between development and operations teams in software development, and it's what DevOps aims to fix.\n",
        "\n",
        "**DevOps** is like a culture or a way of thinking, rather than a strict step-by-step plan. Born in the late 2000s, it encourages the people who create software (developers, or \"Dev\") and the people who put it to use (operations, or \"Ops\") to work closely together, rather than in separate silos.\n",
        "\n",
        "Here's a simple way to think about it: Let's say you and your friends are creating a blog site. The developers are the ones who write the code to make the site work. The operations folks make sure that the site is available on the internet, can handle the traffic, and is easy to use. In the DevOps culture, everyone works together throughout the whole process.\n",
        "\n",
        "To make all this cooperation smoother, DevOps encourages a lot of automation - tools that can automatically handle tasks like testing new features, or getting the software ready for users to try. This can help speed things up and make sure that nothing important gets skipped.\n",
        "\n",
        "Imagine the process of creating your blog site in the DevOps way:\n",
        "\n",
        "1.  Your friends write some code to add a new feature (like a comment section).\n",
        "2.  They use an automated tool to check the new feature works as expected.\n",
        "3.  If the tests pass, another tool gets everything ready and adds the new feature to your live site.\n",
        "4.  Everyone keeps an eye on how the site is doing, ready to fix any issues or make improvements.\n",
        "\n",
        "-   Pro: DevOps helps everyone work together more smoothly, which can mean faster updates and fewer problems.\n",
        "-   Con: Changing to a DevOps way of working can take some getting used to, especially if people are used to doing things a certain way.\n",
        "\n",
        "So, DevOps is all about teamwork and automation - but remember, it's not a magic solution. Every team and project is different, so what works best will depend on things like the size of your team, what you're trying to achieve, and the way your team likes to work."
      ],
      "metadata": {
        "id": "TUV4DTYMgiGn"
      }
    },
    {
      "cell_type": "markdown",
      "source": [
        "## Object-Oriented Design in Python\n",
        "Imagine that you're a novelist writing a story. Instead of describing each character every time they appear in your story, you create a detailed profile for each character---describing their appearance, personality, and behaviors---and refer to it whenever you need it. This makes your writing process easier and less error-prone. In a similar vein, object-oriented programming (OOP) is a way of organizing your code so that it's easier to work with, more flexible, and less likely to have errors.\n",
        "\n",
        "OOP is like a toolbox that holds multiple tools for creating software. These tools are the fundamental principles of OOP, and they include:\n",
        "\n",
        "### Classes and Objects:\n",
        "\n",
        "In OOP, a class is like a blueprint or a template for creating objects. An object, on the other hand, is an instance of a class. It's like building a house (object) based on a blueprint (class). For example, if you have a class called `Dog`, you can create an object `fido` that is an instance of `Dog`.\n",
        "\n",
        "Here's how it looks in Python:\n"
      ],
      "metadata": {
        "id": "BM-u_ijagy7Z"
      }
    },
    {
      "cell_type": "code",
      "source": [
        "class Dog:\n",
        "    def __init__(self, name, breed):\n",
        "        self.name = name\n",
        "        self.breed = breed\n",
        "\n",
        "    def bark(self):\n",
        "        return \"Woof!\"\n",
        "\n",
        "# Creating an object of Dog class\n",
        "fido = Dog(\"Fido\", \"Labrador\")\n",
        "print(fido.name)  # prints: Fido\n",
        "print(fido.bark())  # prints: Woof!\n"
      ],
      "metadata": {
        "colab": {
          "base_uri": "https://localhost:8080/"
        },
        "id": "KtSDXGzLN9i3",
        "outputId": "261cb9bf-91ea-43a3-b9f2-a47b83200bf5"
      },
      "execution_count": 1,
      "outputs": [
        {
          "output_type": "stream",
          "name": "stdout",
          "text": [
            "Fido\n",
            "Woof!\n"
          ]
        }
      ]
    },
    {
      "cell_type": "markdown",
      "source": [
        "### Inheritance:\n",
        "\n",
        "Inheritance allows you to create a new class that takes on the attributes and methods of an existing class. This is great for reducing code duplication. For example, if you have a `Dog` class and you want to create a `Bulldog` class, you can have `Bulldog` inherit from `Dog` and then add any bulldog-specific attributes or methods."
      ],
      "metadata": {
        "id": "lkKZtldAhOCQ"
      }
    },
    {
      "cell_type": "code",
      "source": [
        "class Bulldog(Dog):\n",
        "    def snore(self):\n",
        "        return \"Zzz...\"\n",
        "\n",
        "# Creating an object of Bulldog class\n",
        "bruno = Bulldog(\"Bruno\", \"Bulldog\")\n",
        "print(bruno.name)  # prints: Bruno\n",
        "print(bruno.bark())  # prints: Woof!\n",
        "print(bruno.snore())  # prints: Zzz...\n"
      ],
      "metadata": {
        "colab": {
          "base_uri": "https://localhost:8080/"
        },
        "id": "qStzwcOrhREL",
        "outputId": "2108ce9a-a65e-4453-8ff5-129db194afa7"
      },
      "execution_count": 2,
      "outputs": [
        {
          "output_type": "stream",
          "name": "stdout",
          "text": [
            "Bruno\n",
            "Woof!\n",
            "Zzz...\n"
          ]
        }
      ]
    },
    {
      "cell_type": "markdown",
      "source": [
        "### Polymorphism:\n",
        "\n",
        "**Polymorphism** is a fancy word that means \"many shapes.\" It's the idea that a single method or operator can behave differently depending on its context. For example, you might have a make_sound() method for a Dog class and a Cat class, but the actual sound produced will be different for each.\n",
        "\n",
        "### Abstraction:\n",
        "\n",
        "**Abstraction** is all about hiding complexity. It's like a car: you don't need to know how the engine works to drive it. In OOP, you can create classes and methods that hide their internal complexity and provide an easy-to-use interface. So long as you know how to \"interact\" with object, you don't need to know/care about how the object is \"put together\" on the isdie.\n",
        "\n",
        "### Encapsulation:\n",
        "\n",
        "**Encapsulation** is the practice of keeping the data (attributes) and the code that manipulates the data (methods) together in the same class. This provides a way to protect your data from being modified directly. So, for example, we don't want to give external programs the ability to see or modify the \"internal variables\" of an object.\n",
        "\n",
        "In Python, this can be achieved by using private variables, denoted by a double underscore __ prefix, and accessor methods (**getters** that allow external programs to retrieve value and **setters** that alllow external programs to set a value)."
      ],
      "metadata": {
        "id": "_mrVLuaskqXn"
      }
    },
    {
      "cell_type": "code",
      "source": [
        "class Dog:\n",
        "    def __init__(self, name, breed):\n",
        "        self.__name = name\n",
        "        self.__breed = breed\n",
        "\n",
        "    # Getter method\n",
        "    def get_name(self):\n",
        "        return self.__name\n",
        "\n",
        "    # Setter method\n",
        "    def set_name(self, name):\n",
        "      self.__name = name\n",
        "\n",
        "\n",
        "snoopy = Dog(\"Snoopy\",\"Beagle\") # Create a new dog\n",
        "print(snoopy.get_name()) # Get the dog's name\n",
        "snoopy.set_name(\"The Red Baron\") # Change the dog's name\n",
        "print(snoopy.get_name()) # Get the dog's name"
      ],
      "metadata": {
        "colab": {
          "base_uri": "https://localhost:8080/"
        },
        "id": "c9nkEkAPllqX",
        "outputId": "70805a0c-f14f-4468-d9fd-be93766f3639"
      },
      "execution_count": 4,
      "outputs": [
        {
          "output_type": "stream",
          "name": "stdout",
          "text": [
            "Snoopy\n",
            "The Red Baron\n"
          ]
        }
      ]
    },
    {
      "cell_type": "markdown",
      "source": [
        "### Table: Object-Oriented Programming\n",
        "| Operation | Python Code |\n",
        "| --- | --- |\n",
        "| Create a class named `MyClass` | `class MyClass:` |\n",
        "| Initialize a class with a constructor (Here, `__init__` is the constructor and `self` refers to the instance of the class) | `def __init__(self):` |\n",
        "| Define a method `my_method` within `MyClass` | `def my_method(self):` |\n",
        "| Create an attribute `my_attribute` for the class `MyClass` inside the constructor | `self.my_attribute = \"some value\"` |\n",
        "| Create an instance `my_instance` of the class `MyClass` | `my_instance = MyClass()` |\n",
        "| Access the attribute `my_attribute` of the instance `my_instance` | `my_instance.my_attribute` |\n",
        "| Call the method `my_method` of the instance `my_instance` | `my_instance.my_method()` |\n",
        "| Define a class `MySubClass` that inherits from `MyClass` | `class MySubClass(MyClass):` |\n",
        "| Override the method `my_method` in `MySubClass` | `def my_method(self):` |\n",
        "| Create an instance `my_sub_instance` of the subclass `MySubClass` | `my_sub_instance = MySubClass()` |"
      ],
      "metadata": {
        "id": "sFSZ2xjkrHyQ"
      }
    },
    {
      "cell_type": "markdown",
      "source": [
        "## Case Study: A Game With Donkey Kong\n",
        "Here is a basic object-oriented Python program for playing \"Throw Banana Peel, Fire Punch, Ground Slam\" with Donkey Kong. (It's just like Rock-Paper-Scissors, but with different actions)."
      ],
      "metadata": {
        "id": "KR4igL_2n1RH"
      }
    },
    {
      "cell_type": "code",
      "source": [
        "import random\n",
        "\n",
        "class Game:\n",
        "    def __init__(self):\n",
        "        # Here are the three \"moves\" available in the game.\n",
        "        self.choices = ['Throw Banana Peel', 'Fire Punch', 'Ground Slam']\n",
        "        # The scores are initially set to zero.\n",
        "        self.user_score = 0\n",
        "        self.dk_score = 0\n",
        "\n",
        "    def get_user_choice(self):\n",
        "        # Print the available choices for the user.\n",
        "        print(\"\\nYour options are:\")\n",
        "        for idx, choice in enumerate(self.choices, start=1):\n",
        "            print(f\"{idx}. {choice}\")\n",
        "        # Get the user's choice and convert it to an index for self.choices\n",
        "        user_choice = int(input(\"Enter your choice: \")) - 1\n",
        "        return self.choices[user_choice]\n",
        "\n",
        "    def get_dk_choice(self):\n",
        "        # Randomly select a choice for Donkey Kong from the available choices.\n",
        "        return random.choice(self.choices)\n",
        "\n",
        "    def determine_winner(self, user_choice, dk_choice):\n",
        "        # If both choices are the same, it's a draw.\n",
        "        if user_choice == dk_choice:\n",
        "            return \"Draw\"\n",
        "        # Check the conditions for the user to win.\n",
        "        elif (user_choice == 'Throw Banana Peel' and dk_choice == 'Ground Slam') or \\\n",
        "             (user_choice == 'Fire Punch' and dk_choice == 'Throw Banana Peel') or \\\n",
        "             (user_choice == 'Ground Slam' and dk_choice == 'Fire Punch'):\n",
        "            # Increase the user's score by 1.\n",
        "            self.user_score += 1\n",
        "            return \"User wins\"\n",
        "        else:\n",
        "            # If the user didn't win and it's not a draw, then Donkey Kong wins.\n",
        "            # Increase Donkey Kong's score by 1.\n",
        "            self.dk_score += 1\n",
        "            return \"Donkey Kong wins\"\n",
        "\n",
        "    def display_score(self):\n",
        "        # Print the current scores.\n",
        "        print(f\"\\nCurrent Score:\")\n",
        "        print(f\"User: {self.user_score}\")\n",
        "        print(f\"Donkey Kong: {self.dk_score}\")\n",
        "\n",
        "    def play(self):\n",
        "        # Main game loop.\n",
        "        while True:\n",
        "            # Get the user's and Donkey Kong's choices.\n",
        "            user_choice = self.get_user_choice()\n",
        "            dk_choice = self.get_dk_choice()\n",
        "            # Print the choices.\n",
        "            print(f\"\\nYou chose {user_choice}\")\n",
        "            print(f\"Donkey Kong chose {dk_choice}\")\n",
        "            # Determine the winner and print the result.\n",
        "            result = self.determine_winner(user_choice, dk_choice)\n",
        "            print(result)\n",
        "            # Display the current scores.\n",
        "            self.display_score()\n",
        "            # Ask if the user wants to play again.\n",
        "            play_again = input(\"\\nWould you like to play again? (Y/N): \")\n",
        "            if play_again.lower() != 'y':\n",
        "                # If the user doesn't want to play again, break the loop.\n",
        "                break\n",
        "\n",
        "# Create a new game instance.\n",
        "game = Game()\n",
        "# Start the game.\n",
        "game.play()\n",
        "\n"
      ],
      "metadata": {
        "colab": {
          "base_uri": "https://localhost:8080/"
        },
        "id": "tkUsJ9ewoHKP",
        "outputId": "3bc6ec0d-1b30-47ef-e69b-edfb8b125610"
      },
      "execution_count": 5,
      "outputs": [
        {
          "name": "stdout",
          "output_type": "stream",
          "text": [
            "\n",
            "Your options are:\n",
            "1. Throw Banana Peel\n",
            "2. Fire Punch\n",
            "3. Ground Slam\n",
            "Enter your choice: 1\n",
            "\n",
            "You chose Throw Banana Peel\n",
            "Donkey Kong chose Ground Slam\n",
            "User wins\n",
            "\n",
            "Current Score:\n",
            "User: 1\n",
            "Donkey Kong: 0\n",
            "\n",
            "Would you like to play again? (Y/N): n\n"
          ]
        }
      ]
    },
    {
      "cell_type": "markdown",
      "source": [
        "In this program, we have a `Game` class that represents the game of \"Throw Banana Peel, Fire Punch, Ground Slam\". This class contains the following methods:\n",
        "\n",
        "-   `__init__()`: Initializes the game with the three choices and sets the initial score for both the user and Donkey Kong to 0.\n",
        "-   `get_user_choice()`: Displays the choices to the user and gets the user's choice.\n",
        "-   `get_dk_choice()`: Randomly selects a choice for Donkey Kong.\n",
        "-   `determine_winner()`: Determines the winner of the round based on the choices made.\n",
        "-   `display_score()`: Displays the current scores.\n",
        "-   `play()`: Controls the flow of the game, calling the other methods as needed and repeatedly asking the user if they would like to play again until they choose not to.\n",
        "\n",
        "When you run this program, it will continually prompt you to play a new round of \"Throw Banana Peel, Fire Punch, Ground Slam\" against Donkey Kong until you choose not to continue."
      ],
      "metadata": {
        "id": "wmuvCplOpZXH"
      }
    },
    {
      "cell_type": "markdown",
      "source": [
        "### Discussion Questions: Donkey Kong\n",
        "1.  What is the role of the `__init__` method in the `Game` class? How does it help set up a new game? What happens if we create a new object of this class without any arguments?\n",
        "\n",
        "2.  How does the program use the principles of encapsulation and abstraction? Can you identify any methods in the `Game` class that hide certain details from the user?\n",
        "\n",
        "3.  Can you explain the concept of a \"method\" in OOP and provide examples from this program? How do methods work in conjunction with the object's attributes?\n",
        "\n",
        "4.  Suppose we wanted to extend the game to have a new action, such as \"Kong Roar\". How would you modify the `Game` class to incorporate this new feature? What methods would need to be modified and why?\n",
        "\n",
        "5.  How would you modify this program to have multiple players instead of just one? What new attributes and methods might be necessary? How would this change demonstrate the principle of inheritance in OOP?"
      ],
      "metadata": {
        "id": "NAiNGpVyp_jc"
      }
    },
    {
      "cell_type": "markdown",
      "source": [
        "### My Answers: Donkey Kong\n",
        "1.\n",
        "\n",
        "2.\n",
        "\n",
        "3.\n",
        "\n",
        "4.\n",
        "\n",
        "5."
      ],
      "metadata": {
        "id": "t3OcBbefqJy-"
      }
    },
    {
      "cell_type": "markdown",
      "source": [
        "## Three Principles for Software Design\n",
        "Developing softwarecan be a complex task. There are many different aspects to consider, from the architecture and data structures, to the user interface and performance. However, by adhering to some key principles of good software design, we can build a program that is not only functional, but also easy to understand, maintain, and extend.\n",
        "\n",
        "Imagine we're designing a video game based on Donkey Kong (much more complex than the one above). The player navigates through different levels, interacting with other characters, and overcoming obstacles to collect bananas. Given the complexity of such a game, it's essential to follow good software design principles. Let's explore these principles and see how they could apply to our Donkey Kong game:\n",
        "\n",
        "## Modularity:\n",
        "\n",
        "Modularity refers to dividing a program into smaller, separate parts or modules. This allows each part to be developed and tested independently, simplifying the overall development process.\n",
        "\n",
        "For example, in our Donkey Kong game:\n",
        "\n",
        "-   We could have separate modules for each character (e.g., Player, Donkey Kong, and other NPCs). Each character module could handle its own behavior and interactions.\n",
        "\n",
        "-   The game's levels could be designed as individual modules. This would allow us to design, build, and test each level separately, making the process more manageable.\n",
        "\n",
        "-   We could also have separate modules for different subsystems of the game, like the physics engine, graphics rendering, and user input handling. This separation can make it easier to modify or upgrade specific parts of the game without affecting others.\n",
        "\n",
        "### Encapsulation:\n",
        "\n",
        "Encapsulation involves hiding the internal details of a part of a program, and providing a clear interface for other parts to interact with it. This helps maintain the integrity of data and methods within the encapsulated module.\n",
        "\n",
        "In our Donkey Kong game, this could be applied in the following ways:\n",
        "\n",
        "-   Each character's internal state (e.g., health, position, inventory) could be encapsulated within that character's module. Other modules could interact with the character through methods like `move()`, `jump()`, or `collectBanana()`, without directly accessing the character's internal data.\n",
        "\n",
        "-   The game's physics engine could be encapsulated into a module that provides methods for detecting collisions, applying gravity, and other physics-related tasks. The rest of the game would interact with this physics engine through its public methods, without needing to know how these methods are implemented.\n",
        "\n",
        "-   Similarly, the graphics rendering could be encapsulated into its own module, with methods for drawing characters, levels, and animations. The details of how these graphics are drawn would be hidden from the rest of the game.\n",
        "\n",
        "### DRY (Don't Repeat Yourself):\n",
        "\n",
        "The DRY principle is about avoiding duplicated code. If a piece of code is repeated in multiple places, it should usually be replaced with a shared function or class.\n",
        "\n",
        "For our Donkey Kong game:\n",
        "\n",
        "-   If multiple characters have similar behaviors, we shouldn't repeat the code for these behaviors in each character's module. Instead, we could define a base `Character` class with shared behaviors, and derive each specific character from this base class.\n",
        "\n",
        "-   If we have multiple levels with similar elements (like platforms, ladders, or obstacles), we shouldn't duplicate the code for these elements in each level's module. Instead, we could define shared classes or functions for these elements.\n",
        "\n",
        "-   The same principle applies to other parts of the game. For instance, if we have similar code for handling different types of user input (like keyboard, mouse, or gamepad), we could replace this with a shared input handling function.\n",
        "\n",
        "Each of these principles, when correctly applied, can make a significant difference in the development and maintenance of a game like Donkey Kong."
      ],
      "metadata": {
        "id": "tEdHKCSjsKIz"
      }
    },
    {
      "cell_type": "markdown",
      "source": [
        "## Software Testing\n",
        "\n",
        "Software testing is a crucial part of the development process that involves executing a program or system with the intent of finding errors or verifying that it behaves as expected under a variety of conditions. For a video game like our Donkey Kong-themed game, testing ensures that the game runs smoothly, offers a great player experience, and doesn't crash or behave unexpectedly.\n",
        "\n",
        "There are several types of testing that can be particularly relevant for the development of a game like Donkey Kong:\n",
        "\n",
        "### Unit Testing:\n",
        "\n",
        "**Unit testing** involves testing individual components of the software in isolation to ensure that they work as intended. For our game, this could include testing individual functions or methods, such as the `move()` method for a character or the collision detection function in the physics engine. For instance:\n",
        "\n",
        "-   We might write a unit test to check that the `move()` method correctly updates a character's position.\n",
        "-   We could have a unit test for the collision detection function, to verify that it correctly identifies when two game objects are in contact.\n",
        "-   We might test the character's `collectBanana()` method, to ensure that it correctly adds to the player's banana count and removes the collected banana from the game level.\n",
        "\n",
        "### Integration Testing:\n",
        "\n",
        "**Integration testing** is about ensuring that different components of the software work correctly when they're used together. In the context of our game, this could include testing how different modules interact, such as the interaction between the player module and the game level module:\n",
        "\n",
        "-   We could test that the game correctly tracks the player's position as they move through a level, and that it correctly identifies when the player interacts with objects in the level (like collecting a banana or encountering Donkey Kong).\n",
        "-   We might test how the game handles transitions between levels, to ensure that it correctly loads the new level and maintains the player's state (like their banana count).\n",
        "-   We might also test the interaction between the physics engine and the graphics rendering module, to ensure that game objects are displayed in the correct positions and update correctly in response to physics simulations.\n",
        "\n",
        "### System Testing:\n",
        "\n",
        "**System testing** involves testing the software as a whole, to check that it meets the specified requirements. For our Donkey Kong game, this could involve testing the overall game play, the user interface, and the game performance:\n",
        "\n",
        "-   We might play through the entire game to check that it can be completed, that the difficulty progresses appropriately, and that there are no game-breaking bugs.\n",
        "-   We could test the user interface, to ensure that it correctly displays the game state (like the player's banana count), and that it correctly responds to user inputs.\n",
        "-   We might also test the game under a variety of system conditions, like different hardware configurations or network conditions, to ensure that it performs well for all players.\n",
        "\n",
        "Remember, testing is a continuous process throughout the development lifecycle. As new features are added or existing features are modified, it's essential to repeat the relevant tests to ensure that nothing has been broken. Automated testing tools can be invaluable for this, as they allow you to quickly and easily rerun your tests as often as needed."
      ],
      "metadata": {
        "id": "OHPp-vMQ7DJb"
      }
    },
    {
      "cell_type": "code",
      "source": [],
      "metadata": {
        "id": "kFgxPkFBpeVk"
      },
      "execution_count": null,
      "outputs": []
    }
  ]
}