{
  "nbformat": 4,
  "nbformat_minor": 0,
  "metadata": {
    "colab": {
      "provenance": [],
      "authorship_tag": "ABX9TyMVXfi6xI1NgwaySgINhTs/",
      "include_colab_link": true
    },
    "kernelspec": {
      "name": "python3",
      "display_name": "Python 3"
    },
    "language_info": {
      "name": "python"
    }
  },
  "cells": [
    {
      "cell_type": "markdown",
      "metadata": {
        "id": "view-in-github",
        "colab_type": "text"
      },
      "source": [
        "<a href=\"https://colab.research.google.com/github/brendanpshea/intro_cs/blob/main/Python_02_IntsFloatsFunctions.ipynb\" target=\"_parent\"><img src=\"https://colab.research.google.com/assets/colab-badge.svg\" alt=\"Open In Colab\"/></a>"
      ]
    },
    {
      "cell_type": "markdown",
      "source": [
        "# Python: Integers, Floats, and Functions\n",
        "## Brendan Shea, PhD (Brendan.Shea@rctc.edu)\n",
        "\n",
        "*ACKNOWLEDGMENTS: These notes are based on Harvard's \"Introduction to Programming With Python\" (with substantial changes). Any mistakes are my own!*\n",
        "\n",
        "An integer is a whole number, which means it doesn't have any decimal places. Integers can be positive, negative, or zero. In Python, integers are one of the basic data types that you can use to represent and work with numbers.\n",
        "\n",
        "Here are some examples of integers:\n",
        "```\n",
        "0\n",
        "42\n",
        "-7\n",
        "1234\n",
        "```\n",
        "\n",
        "You can use integers to perform arithmetic operations like addition, subtraction, multiplication, and division. Python also provides some additional operations that are specifically designed to work with integers, like floor division and modulus.\n",
        "\n",
        "Here's a simple example using integers in Python:\n",
        "\n",
        "```\n",
        "# Assign two integers to variables\n",
        "num1 = 5\n",
        "num2 = 3\n",
        "\n",
        "# Perform arithmetic operations\n",
        "addition = num1 + num2\n",
        "subtraction = num1 - num2\n",
        "multiplication = num1 * num2\n",
        "\n",
        "# Print the results\n",
        "print(f\"{num1} + {num2} = {addition}\")\n",
        "print(f\"{num1} - {num2} = {subtraction}\")\n",
        "print(f\"{num1} * {num2} = {multiplication}\")\n",
        "```\n",
        "The output will be\n",
        "```\n",
        "5 + 3 = 8\n",
        "5 - 3 = 2\n",
        "5 * 3 = 15\n",
        "```\n",
        "In this example, we assigned two integers (5 and 3) to variables num1 and num2. We then performed some basic arithmetic operations (addition, subtraction, and multiplication) and printed the results using f-strings.\n",
        "\n",
        "Remember, integers are whole numbers without any decimal places. If you want to work with numbers that have decimal places, you'll need to use another data type called \"float\", which we'll talk about later."
      ],
      "metadata": {
        "id": "8pjlMlaDgkdq"
      }
    },
    {
      "cell_type": "code",
      "source": [
        "# Feel free to see what happens if you change these!\n",
        "# Assign two integers to variables\n",
        "num1 = 5\n",
        "num2 = 3\n",
        "\n",
        "# Perform arithmetic operations\n",
        "addition = num1 + num2\n",
        "subtraction = num1 - num2\n",
        "multiplication = num1 * num2\n",
        "\n",
        "# Print the results\n",
        "print(f\"{num1} + {num2} = {addition}\")\n",
        "print(f\"{num1} - {num2} = {subtraction}\")\n",
        "print(f\"{num1} * {num2} = {multiplication}\")"
      ],
      "metadata": {
        "id": "48IyukJzg7-x"
      },
      "execution_count": null,
      "outputs": []
    },
    {
      "cell_type": "markdown",
      "source": [
        "# Casting from String to Int\n",
        "To get integer input from a user, you can use the input() function to read a string from the user and then \"cast\" the string to an integer using the int() function. Casting means converting a variable of one data type to another data type. In this case, we're converting a string to an integer.\n",
        "\n",
        "Here's an example of how to get integer input from a user:\n",
        "\n",
        "```\n",
        "# Get input from the user as a string\n",
        "user_input = input(\"Please enter a whole number: \")\n",
        "\n",
        "# Cast the input string to an integer\n",
        "number = int(user_input)\n",
        "\n",
        "# Perform some operation, like doubling the number\n",
        "doubled_number = number * 2\n",
        "\n",
        "# Print the result\n",
        "print(f\"The doubled number is: {doubled_number}\")\n",
        "\n",
        "```\n",
        "\n",
        "In this example, we first use the input() function to get a string from the user. We then cast the string to an integer using the int() function. Finally, we perform an operation on the integer (in this case, doubling it) and print the result.\n",
        "\n",
        "**Casting** is a way to convert a variable from one data type to another. In Python, you can cast a variable using functions like int(), float(), and str(), which convert the variable to an integer, a floating-point number, or a string, respectively. Keep in mind that not all values can be cast to all data types. For example, trying to cast a non-numeric string to an integer will raise a ValueError."
      ],
      "metadata": {
        "id": "CZ4QKIgChBxw"
      }
    },
    {
      "cell_type": "code",
      "source": [
        "# Get input from the user as a string\n",
        "user_input = input(\"Please enter a whole number: \")\n",
        "\n",
        "# Cast the input string to an integer\n",
        "number = int(user_input)\n",
        "\n",
        "# Perform some operation, like doubling the number\n",
        "doubled_number = number * 2\n",
        "\n",
        "# Print the result\n",
        "print(f\"The doubled number is: {doubled_number}\")"
      ],
      "metadata": {
        "id": "e1c7C21phRIp"
      },
      "execution_count": null,
      "outputs": []
    },
    {
      "cell_type": "markdown",
      "source": [
        "# Floating Point Numbers\n",
        "A floating-point number, often called a \"float\", is a number that has a decimal point. Floats can represent real numbers, which include both whole numbers and numbers with fractional parts. In Python, floats are one of the basic data types you can use to represent and work with numbers that have decimal places.\n",
        "\n",
        "Here are some examples of floating-point numbers:\n",
        "\n",
        "* 3.14\n",
        "* 0.001\n",
        "* -2.5\n",
        "* 42.0 (even though it looks like a whole number, the \".0\" makes it a float)\n",
        "You can use floats to perform arithmetic operations like addition, subtraction, multiplication, and division. Floats can provide more precise results when working with numbers that have fractional parts, as opposed to integers, which are limited to whole numbers.\n",
        "\n",
        "Here's a simple example using floating-point numbers in Python:\n",
        "\n",
        "```\n",
        "# Assign two floats to variables\n",
        "num1 = 5.5\n",
        "num2 = 2.0\n",
        "\n",
        "# Perform arithmetic operations\n",
        "addition = num1 + num2\n",
        "subtraction = num1 - num2\n",
        "multiplication = num1 * num2\n",
        "division = num1 / num2\n",
        "\n",
        "# Print the results\n",
        "print(f\"{num1} + {num2} = {addition}\")\n",
        "print(f\"{num1} - {num2} = {subtraction}\")\n",
        "print(f\"{num1} * {num2} = {multiplication}\")\n",
        "print(f\"{num1} / {num2} = {division}\")\n",
        "\n",
        "```\n",
        "Output:\n",
        "```\n",
        "5.5 + 2.0 = 7.5\n",
        "5.5 - 2.0 = 3.5\n",
        "5.5 * 2.0 = 11.0\n",
        "5.5 / 2.0 = 2.75\n",
        "```\n",
        "\n",
        "In this example, we assigned two floating-point numbers (5.5 and 2.0) to variables num1 and num2. We then performed some basic arithmetic operations (addition, subtraction, multiplication, and division) and printed the results using f-strings.\n",
        "\n",
        "It's important to note that floating-point numbers have limitations when it comes to representing numbers precisely. Due to the way they are stored internally, some numbers can't be represented exactly, which can lead to small rounding errors when performing calculations. This is usually not a problem for most applications, but it's something to be aware of when working with floats.\n",
        "\n",
        "## Casting to Float\n",
        " To get a floating-point number from a user, you can use the input() function to read a string from the user, and then \"cast\" the string to a float using the float() function. Here's an example of how to get a floating-point number from a user:\n",
        "\n",
        "```\n",
        "# Get input from the user as a string\n",
        "user_input = input(\"Please enter a number with a decimal point: \")\n",
        "\n",
        "# Cast the input string to a float\n",
        "number = float(user_input)\n",
        "\n",
        "# Perform some operation, like squaring the number\n",
        "squared_number = number ** 2\n",
        "\n",
        "# Print the result\n",
        "print(f\"The squared number is: {squared_number}\")\n",
        "```\n",
        "\n",
        "In this example, we first use the input() function to get a string from the user. We then cast the string to a floating-point number using the float() function. Finally, we perform an operation on the float (in this case, squaring it) and print the result.\n",
        "\n",
        "Remember to use the float() function to cast the user's input to a floating-point number, as the input() function always returns a string. If you don't do this, you'll run into errors when trying to perform arithmetic operations with the input."
      ],
      "metadata": {
        "id": "75P50ZiJi0BV"
      }
    },
    {
      "cell_type": "code",
      "source": [
        "# Assign two floats to variables\n",
        "num1 = 5.5\n",
        "num2 = 2.0\n",
        "\n",
        "# Perform arithmetic operations\n",
        "addition = num1 + num2\n",
        "subtraction = num1 - num2\n",
        "multiplication = num1 * num2\n",
        "division = num1 / num2\n",
        "\n",
        "# Print the results\n",
        "print(f\"{num1} + {num2} = {addition}\")\n",
        "print(f\"{num1} - {num2} = {subtraction}\")\n",
        "print(f\"{num1} * {num2} = {multiplication}\")\n",
        "print(f\"{num1} / {num2} = {division}\")"
      ],
      "metadata": {
        "id": "_O2J7zlpjHaW"
      },
      "execution_count": null,
      "outputs": []
    },
    {
      "cell_type": "code",
      "source": [
        "# Get input from the user as a string\n",
        "user_input = input(\"Please enter a number with a decimal point: \")\n",
        "\n",
        "# Cast the input string to a float\n",
        "number = float(user_input)\n",
        "\n",
        "# Perform some operation, like squaring the number\n",
        "squared_number = number ** 2\n",
        "\n",
        "# Print the result\n",
        "print(f\"The squared number is: {squared_number}\")"
      ],
      "metadata": {
        "id": "B6mEtMLJja48"
      },
      "execution_count": null,
      "outputs": []
    },
    {
      "cell_type": "markdown",
      "source": [
        "## Data Types Matter!\n",
        "Here are some examples of errors that might occur if you don't use the right data type in your Python code:\n",
        "\n",
        "TypeError: This error occurs when you try to perform an operation with incompatible data types.\n",
        "\n",
        "Example:\n",
        "```\n",
        "num = 5\n",
        "text = \"Hello\"\n",
        "result = num + text  # Raises a TypeError\n",
        "```\n",
        "\n",
        "In this example, we're trying to add a number (integer) and a string, which is not allowed in Python. This will raise a TypeError with the message \"unsupported operand type(s) for +: 'int' and 'str'\".\n",
        "\n",
        "ValueError: This error occurs when you try to cast a value to a different data type, but the value is not compatible with the target data type.\n",
        "\n",
        "Example:\n",
        "```\n",
        "user_input = \"3.14\"\n",
        "number = int(user_input)  # Raises a ValueError\n",
        "```\n",
        "\n",
        "In this example, we're trying to cast a string containing a floating-point number (\"3.14\") to an integer using the int() function. This is not allowed and will raise a ValueError with the message \"invalid literal for int() with base 10: '3.14'\". To fix this, you can first cast the string to a float using the float() function and then cast the float to an integer.\n",
        "\n",
        "Arithmetic errors with floats: Using floating-point numbers can sometimes lead to unexpected results due to the way they are represented internally. This can cause issues if you expect exact results when performing arithmetic operations with floats.\n",
        "\n",
        "Example:\n",
        "```\n",
        "result = 0.1 + 0.2\n",
        "print(result)  # Prints 0.30000000000000004, not 0.3\n",
        "```\n",
        "\n",
        "In this example, the result of adding 0.1 and 0.2 is not exactly 0.3 due to the internal representation of floating-point numbers. This can be a source of confusion and can lead to errors in your code if you're not careful when working with floats.\n",
        "\n",
        "Always make sure you're using the appropriate data types for your variables and operations. If you need to convert between data types, use casting functions like int(), float(), and str() to ensure you have the correct data type for your calculations and other operations."
      ],
      "metadata": {
        "id": "JQ15Pfv4hocH"
      }
    },
    {
      "cell_type": "code",
      "source": [
        "# Raises a TypeError\n",
        "num = 5\n",
        "text = \"Hello\"\n",
        "result = num + text  "
      ],
      "metadata": {
        "id": "939jn_Qth2T_"
      },
      "execution_count": null,
      "outputs": []
    },
    {
      "cell_type": "markdown",
      "source": [
        "#"
      ],
      "metadata": {
        "id": "q_SlAb4eqPMq"
      }
    },
    {
      "cell_type": "code",
      "source": [
        "# Raises a ValueError\n",
        "user_input = \"3.14\"\n",
        "number = int(user_input)  "
      ],
      "metadata": {
        "id": "H92P6850h6Bm"
      },
      "execution_count": null,
      "outputs": []
    },
    {
      "cell_type": "code",
      "source": [
        "# Floats are imprecise\n",
        "result = 0.1 + 0.2\n",
        "print(result) "
      ],
      "metadata": {
        "id": "zI7fUbo6h_h-"
      },
      "execution_count": null,
      "outputs": []
    },
    {
      "cell_type": "markdown",
      "source": [
        "# Arithmetic\n",
        "In Python, you can perform arithmetic operations using the standard arithmetic operators. Here's a quick overview of the basic arithmetic operators:\n",
        "\n",
        "**Addition (+):** Use the + operator to add two numbers.\n",
        "\n",
        "Example:\n",
        "\n",
        "```\n",
        "a = 5\n",
        "b = 3\n",
        "result = a + b  # result = 8\n",
        "```\n",
        "\n",
        "**Subtraction (-):** Use the - operator to subtract one number from another.\n",
        "\n",
        "```\n",
        "a = 10\n",
        "b = 4\n",
        "result = a - b  # result = 6\n",
        "```\n",
        "Multiplication (*): Use the * operator to multiply two numbers.\n",
        "\n",
        "```\n",
        "a = 7\n",
        "b = 3\n",
        "result = a * b  # result = 21\n",
        "```\n",
        "\n",
        "**Division (/):** Use the / operator to divide one number by another. The result will be a floating-point number.\n",
        "\n",
        "```\n",
        "a = 12\n",
        "b = 4\n",
        "result = a / b  # result = 3.0\n",
        "```\n",
        "\n",
        "**Floor Division (//):** Use the // operator to perform floor division, which gives the largest whole number less than or equal to the result of the division.\n",
        "\n",
        "```\n",
        "a = 11\n",
        "b = 4\n",
        "result = a // b  # result = 2\n",
        "```\n",
        "\n",
        "**Modulus (%):** Use the % operator to find the remainder of a division.\n",
        "\n",
        "```\n",
        "a = 15\n",
        "b = 4\n",
        "result = a % b  # result = 3\n",
        "```\n",
        "\n",
        "**Exponentiation (**):** Use the ** operator to raise one number to the power of another.\n",
        "\n",
        "```\n",
        "a = 2\n",
        "b = 3\n",
        "result = a ** b  # result = 8\n",
        "```\n",
        "These are the basic arithmetic operators in Python that you can use to perform calculations with numbers. You can also use parentheses to control the order of operations:\n",
        "\n",
        "```\n",
        "result = (3 + 4) * 2  # result = 14\n",
        "```\n",
        "In this example, the expression inside the parentheses is evaluated first (3 + 4 = 7), and then the result is multiplied by 2 (7 * 2 = 14).\n",
        "\n",
        "Below, I've provided a basic Python program that asks the user for two integers and then prints out the result of basic arithmetic operations on them using f-strings"
      ],
      "metadata": {
        "id": "tc0QE-SNgfRk"
      }
    },
    {
      "cell_type": "code",
      "source": [
        "# a basic Python program that asks the user for two integers and \n",
        "# then prints out the result of basic arithmetic operations on them using f-strings\n",
        "\n",
        "# Get input from the user\n",
        "num1 = int(input(\"Please enter the first integer: \"))\n",
        "num2 = int(input(\"Please enter the second integer: \"))\n",
        "\n",
        "# Perform basic arithmetic operations\n",
        "addition = num1 + num2\n",
        "subtraction = num1 - num2\n",
        "multiplication = num1 * num2\n",
        "division = num1 / num2\n",
        "floor_division = num1 // num2\n",
        "modulus = num1 % num2\n",
        "exponentiation = num1 ** num2\n",
        "\n",
        "# Print the results using f-strings\n",
        "print(f\"The sum of {num1} and {num2} is: {addition}\")\n",
        "print(f\"The difference between {num1} and {num2} is: {subtraction}\")\n",
        "print(f\"The product of {num1} and {num2} is: {multiplication}\")\n",
        "print(f\"The quotient of {num1} divided by {num2} is: {division}\")\n",
        "print(f\"The floor division of {num1} and {num2} is: {floor_division}\")\n",
        "print(f\"The remainder of {num1} divided by {num2} is: {modulus}\")\n",
        "print(f\"{num1} raised to the power of {num2} is: {exponentiation}\")"
      ],
      "metadata": {
        "id": "Gu_LZjbFgg_6"
      },
      "execution_count": null,
      "outputs": []
    },
    {
      "cell_type": "markdown",
      "source": [
        "# Defining Your Own Functions\n",
        "Defining your own functions in Python is a great way to organize your code and reuse parts of it. Functions are blocks of code that perform a specific task and can be called by name. To define a function, you use the def keyword, followed by the function name, parentheses, and a colon. The code inside the function is indented to indicate that it belongs to the function.\n",
        "\n",
        "Here's a simple example of defining and using a function in Python:\n",
        "\n",
        "```\n",
        "# Define a function called 'greet'\n",
        "def greet(name):\n",
        "    message = f\"Hello, {name}!\"\n",
        "    print(message)\n",
        "    \n",
        "# Call the function with the argument 'Alice'\n",
        "greet(\"Alice\")\n",
        "\n",
        "# Call the function with the argument 'Bob'\n",
        "greet(\"Bob\")\n",
        "\n",
        "```\n",
        "Output:\n",
        "\n",
        "```\n",
        "Hello, Alice!\n",
        "Hello, Bob!\n",
        "```\n",
        "\n",
        "In this example, we defined a function called greet that takes one parameter, name. The function creates a greeting message using an f-string and prints it. After defining the function, we called it twice with different arguments (\"Alice\" and \"Bob\") to demonstrate how it works.\n",
        "\n",
        "Here are some key points to remember when defining functions in Python:\n",
        "\n",
        "1. Use the def keyword to start defining a function.\n",
        "2. Choose a meaningful name for your function that describes what it does.\n",
        "3. Put parentheses after the function name, and include any parameters the function needs inside the parentheses.\n",
        "4. End the function definition with a colon.\n",
        "5. Indent the code inside the function by one level (usually 4 spaces) to indicate that it belongs to the function.\n",
        "6. To call the function, use its name followed by parentheses, and include any arguments the function needs inside the parentheses.\n",
        "\n",
        "Defining your own functions allows you to create reusable blocks of code that can be easily maintained and modified. It's an essential skill to learn when programming in Python or any other programming language."
      ],
      "metadata": {
        "id": "374nk-tGj_-h"
      }
    },
    {
      "cell_type": "code",
      "source": [
        "# Define a function called 'greet'\n",
        "def greet(name):\n",
        "    message = f\"Hello, {name}!\"\n",
        "    print(message)\n",
        "    \n",
        "# Call the function with the argument 'Alice'\n",
        "greet(\"Alice\")\n",
        "\n",
        "# Call the function with the argument 'Bob'\n",
        "greet(\"Bob\")"
      ],
      "metadata": {
        "id": "Gt9us4EcgjSz"
      },
      "execution_count": null,
      "outputs": []
    },
    {
      "cell_type": "markdown",
      "source": [
        "## What is a \"Return\" Value?\n",
        "When a function returns a value, it means that the function produces a result that can be used by other parts of your code. Functions in Python can return values using the return keyword, followed by the value or expression that you want the function to return. When the return statement is executed, the function ends, and the value is sent back to the part of the code that called the function.\n",
        "\n",
        "Returning a value allows you to use the result of a function in various ways, such as assigning it to a variable, using it in an expression, or passing it as an argument to another function.\n",
        "\n",
        "Here's a simple example of a function that returns a value:\n",
        "\n",
        "```\n",
        "# Define a function called 'add'\n",
        "def add(num1, num2):\n",
        "    result = num1 + num2\n",
        "    return result\n",
        "\n",
        "# Call the function and store the returned value in a variable\n",
        "sum_result = add(3, 4)\n",
        "\n",
        "# Print the result\n",
        "print(f\"3 + 4 = {sum_result}\")\n",
        "```\n",
        "\n",
        "Output:\n",
        "```\n",
        "3 + 4 = 7\n",
        "\n",
        "```\n",
        "In this example, we defined a function called add that takes two parameters, num1 and num2. The function adds the two numbers and returns the result using the return statement. We then called the function with the arguments 3 and 4 and stored the returned value in the variable sum_result. Finally, we printed the result.\n",
        "\n",
        "Remember that when a function returns a value, you can use that value in various ways in your code. If a function doesn't include a return statement, it implicitly returns None, which is a special value in Python that represents the absence of a value or a null result."
      ],
      "metadata": {
        "id": "8xiZR8G_kZ-5"
      }
    },
    {
      "cell_type": "code",
      "source": [
        "def add(num1, num2):\n",
        "    result = num1 + num2\n",
        "    return result\n",
        "\n",
        "# Call the function and store the returned value in a variable\n",
        "sum_result = add(3, 4)\n",
        "\n",
        "# Print the result\n",
        "print(f\"3 + 4 = {sum_result}\")"
      ],
      "metadata": {
        "id": "YnZGb5n_kj0J"
      },
      "execution_count": null,
      "outputs": []
    },
    {
      "cell_type": "markdown",
      "source": [
        "# Why Use Functions?\n",
        "Python functions provide a great way to organize your code. \n",
        "\n",
        "\n",
        "Function that returns a string:\n",
        "```\n",
        "def create_sentence(subject, verb, object):\n",
        "    return f\"{subject} {verb} {object}.\"\n",
        "\n",
        "sentence1 = create_sentence(\"The dog\", \"chased\", \"the cat\")\n",
        "sentence2 = create_sentence(\"I\", \"love\", \"Python\")\n",
        "print(sentence1)  # Output: The dog chased the cat.\n",
        "print(sentence2)  # Output: I love Python.\n",
        "```\n",
        "\n",
        "In this example, the create_sentence function takes three parameters (subject, verb, and object) and returns a string combining them into a sentence.\n",
        "\n",
        "Function that returns a float:\n",
        "```\n",
        "def calculate_area(radius):\n",
        "    import math\n",
        "    area = math.pi * (radius ** 2)\n",
        "    return area\n",
        "\n",
        "area1 = calculate_area(5)\n",
        "area2 = calculate_area(10)\n",
        "print(f\"Area of circle with radius 5: {area1:.2f}\")  # Output: Area of circle with radius 5: 78.54\n",
        "print(f\"Area of circle with radius 10: {area2:.2f}\")  # Output: Area of circle with radius 10: 314.16\n",
        "```\n",
        "\n",
        "In this example, the calculate_area function takes a single parameter (radius) and returns the area of a circle as a float. It uses the math.pi constant for the value of pi.\n",
        "\n",
        "Function that returns an integer:\n",
        "```\n",
        "def count_vowels(text):\n",
        "    vowels = \"aeiou\"\n",
        "    count = sum(1 for char in text.lower() if char in vowels)\n",
        "    return count\n",
        "\n",
        "count1 = count_vowels(\"Hello, World!\")\n",
        "count2 = count_vowels(\"Python Programming\")\n",
        "print(f\"Number of vowels in 'Hello, World!': {count1}\")  # Output: Number of vowels in 'Hello, World!': 3\n",
        "print(f\"Number of vowels in 'Python Programming': {count2}\")  # Output: Number of vowels in 'Python Programming': 6\n",
        "```\n",
        "\n",
        "In this example, the count_vowels function takes a string parameter (text) and returns the count of vowels (a, e, i, o, u) in the text as an integer. It uses a generator expression and the sum() function to count the vowels.\n"
      ],
      "metadata": {
        "id": "0YNskNQklLf2"
      }
    },
    {
      "cell_type": "code",
      "source": [
        "def create_sentence(subject, verb, object):\n",
        "    return f\"{subject} {verb} {object}.\"\n",
        "\n",
        "sentence1 = create_sentence(\"The dog\", \"chased\", \"the cat\")\n",
        "sentence2 = create_sentence(\"I\", \"love\", \"Python\")\n",
        "print(sentence1)\n",
        "print(sentence2) "
      ],
      "metadata": {
        "id": "v7rtz1kylzTm"
      },
      "execution_count": null,
      "outputs": []
    },
    {
      "cell_type": "code",
      "source": [
        "def calculate_area(radius):\n",
        "    import math\n",
        "    area = math.pi * (radius ** 2)\n",
        "    return area\n",
        "\n",
        "area1 = calculate_area(5)\n",
        "area2 = calculate_area(10)\n",
        "print(f\"Area of circle with radius 5: {area1:.2f}\") \n",
        "print(f\"Area of circle with radius 10: {area2:.2f}\")  "
      ],
      "metadata": {
        "id": "Yjpx6y79l3Gk"
      },
      "execution_count": null,
      "outputs": []
    },
    {
      "cell_type": "code",
      "source": [
        "def count_vowels(text):\n",
        "    vowels = \"aeiou\"\n",
        "    count = sum(1 for char in text.lower() if char in vowels)\n",
        "    return count\n",
        "count1 = count_vowels(\"Hello, World!\")\n",
        "count2 = count_vowels(\"Python Programming\")\n",
        "print(f\"Number of vowels in 'Hello, World!': {count1}\")  # Output: Number of vowels in 'Hello, World!': 3\n",
        "print(f\"Number of vowels in 'Python Programming': {count2}\")  # Output: Number of vowels in 'Python Programming': 6"
      ],
      "metadata": {
        "id": "tHjg1Oqzl6P0"
      },
      "execution_count": null,
      "outputs": []
    },
    {
      "cell_type": "markdown",
      "source": [
        "# Debugging\n",
        "Debugging is the process of finding and fixing errors or issues in your code. There are various techniques you can use to debug your code, ranging from simple print statements to more advanced debugging tools. Here are some common debugging methods:\n",
        "\n",
        "## Print statements:\n",
        "Using print statements is a simple and straightforward way to debug your code. You can insert print() statements at various points in your code to display the values of variables, the flow of execution, or any other relevant information. This can help you identify where things are going wrong or unexpected behavior is occurring.\n",
        "\n",
        "To use print statements effectively, make sure to provide clear and meaningful messages, so it's easy to understand what the output represents. For example:\n",
        "\n",
        "```\n",
        "def calculate_area(radius):\n",
        "    # What is wrong here?\n",
        "    print(f\"Input radius: {radius}\")\n",
        "    area = 3.14159 * (radius * 2)\n",
        "    print(f\"Calculated area: {area}\")\n",
        "    return area\n",
        "\n",
        "print(calculate_area(5))\n",
        "```\n",
        "\n",
        "By breaking your code into discrete functions and using Jupyter Notebook's cell structure, you can isolate specific parts of your code for debugging. This makes it easier to identify and fix issues, as you can focus on smaller, more manageable pieces.\n",
        "\n",
        "## Reading exception traces:\n",
        "When an error occurs in your code, Python will raise an exception and display a traceback, which provides detailed information about the error and the line of code where it occurred. Understanding how to read exception traces is essential for debugging your code.\n",
        "\n",
        "Here's an example of an exception trace:\n",
        "```\n",
        "def divide(a, b):\n",
        "    return a / b\n",
        "\n",
        "print(divide(5, 0))\n",
        "```\n",
        "\n",
        "Output:\n",
        "```\n",
        "ZeroDivisionError                         Traceback (most recent call last)\n",
        "<ipython-input-1-61497c1b1e8b> in <module>\n",
        "      2     return a / b\n",
        "      3 \n",
        "----> 4 print(divide(5, 0))\n",
        "      5 \n",
        "\n",
        "<ipython-input-1-61497c1b1e8b> in divide(a, b)\n",
        "      1 def divide(a, b):\n",
        "----> 2     return a / b\n",
        "      3 \n",
        "      4 print(divide(5, 0))\n",
        "      5 \n",
        "\n",
        "ZeroDivisionError: division by zero\n",
        "```\n",
        "\n",
        "In this example, we have a ZeroDivisionError because we tried to divide by zero. The traceback shows the line where the error occurred (----> 2) and the function that caused the error (divide). By examining the traceback, you can locate the problematic code and determine what needs to be fixed.\n",
        "\n",
        "## Rubber duck debugging:\n",
        "Rubber duck debugging is a method where you explain your code line by line to a rubber duck (or any other inanimate object) as if you're teaching it how the code works. The act of verbalizing your thought process and explaining the code out loud can help you discover issues or inconsistencies you didn't notice before.\n",
        "\n",
        "To use rubber duck debugging effectively, follow these steps:\n",
        "\n",
        "1. Place a rubber duck (or any object) on your desk or near your computer.\n",
        "2. Start at the beginning of your code and explain each line or block of code in detail.\n",
        "3. For each line, describe the purpose of the code, what it's doing, and the expected outcome.\n",
        "4. As you explain your code, pay close attention to any assumptions you're making or any parts that feel unclear or confusing.\n",
        "5. Breaking your code into discrete functions (and using Jupyter Notebook cells) can make rubber duck debugging more effective. By focusing on one function or cell at a time, you can dive deep into the logic of your code and identify issues more easily.\n",
        "\n",
        "Remember that different debugging techniques work better for different situations and personal preferences. Start with these three methods, and as you gain experience, you can explore other debugging techniques that suit your needs."
      ],
      "metadata": {
        "id": "96bdvtnMm_es"
      }
    },
    {
      "cell_type": "code",
      "source": [
        "def calculate_area(radius):\n",
        "    # What is wrong here?\n",
        "    print(f\"Input radius: {radius}\")\n",
        "    area = 3.14159 * (radius * 2)\n",
        "    print(f\"Calculated area: {area}\")\n",
        "    return area\n",
        "\n",
        "print(calculate_area(5))"
      ],
      "metadata": {
        "id": "lcT8VwV2pcfe"
      },
      "execution_count": null,
      "outputs": []
    },
    {
      "cell_type": "markdown",
      "source": [
        "# Exercises\n",
        "\n",
        "## Exercise 1: Making Faces\n",
        "Before there were emoji, there were emoticons, whereby text like :) was a happy face and text like :( was a sad face. Nowadays, programs tend to convert emoticons to emoji automatically!\n",
        "\n",
        "In the cell below, implement a function called make_face(my_string) that accepts a str as input and returns that same input with any :) converted to 🙂 (otherwise known as a slightly smiling face) and any :( converted to 🙁 (otherwise known as a slightly frowning face). All other text should be returned unchanged.\n",
        "\n",
        "Hints\n",
        "1. Recall that input returns a str, per http://docs.python.org/3/library/functions.html#input.\n",
        "Recall that a str comes with quite a few methods, per http://docs.python.org/3/library/stdtypes.html#string-methods.\n",
        "3. An emoji is actually just a character, so you can quote it like any str, a la \"😐\". And you can copy and paste the emoji from this page into your own code as needed.\n",
        "\n",
        "Sample:\n",
        "1. Hello :) -> Hello 🙂\n",
        "2. Nope 🙁. I can't go ->  Nope :(. I can't go \n",
        "3. :) :( :) -> 🙂 🙁 🙂"
      ],
      "metadata": {
        "id": "9UYeH_JqqQz2"
      }
    },
    {
      "cell_type": "code",
      "source": [
        "# Implement create_face. Make sure to test it\n",
        "def make_face(my_string):\n",
        "  # Your code here\n",
        "\n",
        "\n",
        "  # end code\n",
        "\n",
        "make_face(\"Hello :)\") # A test case"
      ],
      "metadata": {
        "id": "Aj4RQZfSqhG7"
      },
      "execution_count": null,
      "outputs": []
    },
    {
      "cell_type": "markdown",
      "source": [
        "## Exercise 2: Einstein\n",
        "Even if you haven’t studied physics (recently or ever!), you might have heard that \n",
        "$$e = mc^2$$\n",
        ", wherein $e$  represents energy (measured in Joules), $m$ represents mass (measured in kilograms), and $c$ represents the speed of light (measured approximately as 300000000 meters per second), per Albert Einstein et al. Essentially, the formula means that mass and energy are equivalent.\n",
        "\n",
        "In a function called einstein(), implement a program in Python that prompts the user for mass as an integer (in kilograms) and then outputs the equivalent number of Joules as an integer. Assume that the user will input an integer.\n",
        "\n",
        "Hints\n",
        "1. Recall that input returns a str, per docs.python.org/3/library/functions.html#input.\n",
        "2. Recall that int can convert a str to an int, per docs.python.org/3/library/functions.html#int.\n",
        "3. Recall that Python comes with several built-in functions, per docs.python.org/3/library/functions.html.\n",
        "\n",
        "How to test:\n",
        "* Type 1 and press Enter. Your program should output: 90000000000000000\n",
        "* Type 14 and press Enter. Your program should output: 1260000000000000000\n",
        "* Type 50 and press Enter. Your program should output 4500000000000000000"
      ],
      "metadata": {
        "id": "ZmxHgFAxs0pL"
      }
    },
    {
      "cell_type": "code",
      "source": [
        "def einstein():\n",
        "    # Your code here\n",
        "\n",
        "einstein() # Test Your code"
      ],
      "metadata": {
        "id": "j--FS-fkv2q8"
      },
      "execution_count": null,
      "outputs": []
    },
    {
      "cell_type": "markdown",
      "source": [
        "## Exercise 3: Tip Calculator\n",
        "And now for my Wizard tip calculator.\n",
        "\n",
        "— Morty Seinfeld\n",
        "\n",
        "In the United States, it’s customary to leave a tip for your server after dining in a restaurant, typically an amount equal to 15% or more of your meal’s cost. Not to worry, though, we’ve written a tip calculator for you, below!\n",
        "\n",
        "```\n",
        "def tip():\n",
        "    dollars = dollars_to_float(input(\"How much was the meal? \"))\n",
        "    percent = percent_to_float(input(\"What percentage would you like to tip? \"))\n",
        "    tip = dollars * percent\n",
        "    print(f\"Leave ${tip:.2f}\")\n",
        "\n",
        "\n",
        "def dollars_to_float(d):\n",
        "    # TODO\n",
        "\n",
        "\n",
        "def percent_to_float(p):\n",
        "    # TODO\n",
        "\n",
        "tip()\n",
        "```\n",
        "\n",
        "Well, we’ve written most of a tip calculator for you. Unfortunately, we didn’t have time to implement two functions:\n",
        "\n",
        "`dollars_to_float`, which should accept a str as input (formatted as \\$##.##, wherein each \\# is a decimal digit), remove the leading \\$, and return the amount as a float. For instance, given \\$50.00 as input, it should return 50.0.\n",
        "\n",
        "\n",
        "`percent_to_float`, which should accept a str as input (formatted as ##%, wherein each # is a decimal digit), remove the trailing %, and return the percentage as a float. For instance, given 15% as input, it should return 0.15.\n",
        "Assume that the user will input values in the expected formats."
      ],
      "metadata": {
        "id": "_EO9mfmUvwmL"
      }
    },
    {
      "cell_type": "code",
      "source": [
        "def tip():\n",
        "    dollars = dollars_to_float(input(\"How much was the meal? \"))\n",
        "    percent = percent_to_float(input(\"What percentage would you like to tip? \"))\n",
        "    tip = dollars * percent\n",
        "    print(f\"Leave ${tip:.2f}\")\n",
        "\n",
        "\n",
        "def dollars_to_float(d):\n",
        "    # TODO\n",
        "\n",
        "\n",
        "def percent_to_float(p):\n",
        "    # TODO\n",
        "\n",
        "tip() # Run the code"
      ],
      "metadata": {
        "id": "6tajI9ZawQvK"
      },
      "execution_count": null,
      "outputs": []
    },
    {
      "cell_type": "markdown",
      "source": [
        "# Test My Code (DO NOT CHANGE)\n",
        "You can run the code cell below to see how you have done!\n"
      ],
      "metadata": {
        "id": "Ew9QsgkZrgDV"
      }
    },
    {
      "cell_type": "code",
      "source": [
        "# Test make_face\n",
        "\n",
        "import unittest\n",
        "from unittest.mock import patch\n",
        "from io import StringIO\n",
        "from IPython.display import display\n",
        "\n",
        "def run_test(test_case, test_func, input_str, expected_output, test_name):\n",
        "    with patch('builtins.input', return_value=input_str):\n",
        "        result = test_func(input_str)\n",
        "        if result == expected_output:\n",
        "            display(f\"{test_name}: PASSED\")\n",
        "        else:\n",
        "            display(f\"{test_name}: FAILED - Expected '{expected_output}', but got '{result}'\")\n",
        "        test_case.assertEqual(result, expected_output)\n",
        "\n",
        "def run_test_no_args(test_case, test_func, input_str, expected_output, test_name):\n",
        "    with patch('sys.stdout', new_callable=StringIO) as mock_output, patch('builtins.input', return_value=input_str):\n",
        "        test_func()\n",
        "        result = mock_output.getvalue().strip()\n",
        "        if result == expected_output:\n",
        "            display(f\"{test_name}: PASSED\")\n",
        "        else:\n",
        "            display(f\"{test_name}: FAILED - Expected '{expected_output}', but got '{result}'\")\n",
        "        test_case.assertEqual(result, expected_output)\n",
        "\n",
        "class TestMakeFace(unittest.TestCase):\n",
        "    def test_make_face(self):\n",
        "        run_test(self, make_face, 'Hello :)', 'Hello 🙂', 'Happy Face Test')\n",
        "        run_test(self, make_face, 'I am sad :(', 'I am sad 🙁', 'Sad Face Test')\n",
        "        run_test(self, make_face, 'Mixed emotions :) :(', 'Mixed emotions 🙂 🙁', 'Mixed Emotions Test')\n",
        "\n",
        "\n",
        "class TestEinstein(unittest.TestCase):\n",
        "    def test_einstein(self):\n",
        "        run_test_no_args(self, einstein, '1', '90000000000000000', '1 kg Test')\n",
        "        run_test_no_args(self, einstein, '2', '180000000000000000', '2 kg Test')\n",
        "        run_test_no_args(self, einstein, '5', '450000000000000000', '5 kg Test')\n",
        "\n",
        "def run_test_float(test_case, test_func, input_str, expected_output, test_name, places=7):\n",
        "    result = test_func(input_str)\n",
        "    try:\n",
        "        test_case.assertAlmostEqual(result, expected_output, places=places)\n",
        "        display(f\"{test_name}: PASSED\")\n",
        "    except AssertionError as e:\n",
        "        display(f\"{test_name}: FAILED - {e}\")\n",
        "\n",
        "class TestHelperFunctions(unittest.TestCase):\n",
        "    def test_dollars_to_float(self):\n",
        "        run_test_float(self, dollars_to_float, '$25', 25.0, 'Dollars to Float Test')\n",
        "\n",
        "    def test_percent_to_float(self):\n",
        "        run_test_float(self, percent_to_float, '15', 0.15, 'Percent to Float Test')\n",
        "\n",
        "# Test the Tio Function\n",
        "def run_test_no_args(test_case, test_func, input_list, expected_output, test_name):\n",
        "    with patch('sys.stdout', new_callable=StringIO) as mock_output, patch('builtins.input', side_effect=input_list):\n",
        "        test_func()\n",
        "        result = mock_output.getvalue().strip()\n",
        "        if result == expected_output:\n",
        "            display(f\"{test_name}: PASSED\")\n",
        "        else:\n",
        "            display(f\"{test_name}: FAILED - Expected '{expected_output}', but got '{result}'\")\n",
        "        test_case.assertEqual(result, expected_output)\n",
        "\n",
        "class TestTip(unittest.TestCase):\n",
        "    def test_tip(self):\n",
        "        run_test_no_args(self, tip, ['$50', '20'], 'Leave $10.00', 'Tip Test')\n",
        "\n",
        "\n",
        "if __name__ == '__main__':\n",
        "    unittest.main(argv=['first-arg-is-ignored'], exit=False)\n",
        "   \n"
      ],
      "metadata": {
        "id": "8YnLevtWrmBA"
      },
      "execution_count": null,
      "outputs": []
    }
  ]
}