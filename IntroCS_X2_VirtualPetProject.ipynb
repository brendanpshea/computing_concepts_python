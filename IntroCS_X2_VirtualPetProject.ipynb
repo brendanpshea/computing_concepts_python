{
  "nbformat": 4,
  "nbformat_minor": 0,
  "metadata": {
    "colab": {
      "provenance": [],
      "authorship_tag": "ABX9TyMUbJ1/Vog4+gutvAM4F9Xz",
      "include_colab_link": true
    },
    "kernelspec": {
      "name": "python3",
      "display_name": "Python 3"
    },
    "language_info": {
      "name": "python"
    }
  },
  "cells": [
    {
      "cell_type": "markdown",
      "metadata": {
        "id": "view-in-github",
        "colab_type": "text"
      },
      "source": [
        "<a href=\"https://colab.research.google.com/github/brendanpshea/computing_concepts_python/blob/main/IntroCS_X2_VirtualPetProject.ipynb\" target=\"_parent\"><img src=\"https://colab.research.google.com/assets/colab-badge.svg\" alt=\"Open In Colab\"/></a>"
      ]
    },
    {
      "cell_type": "markdown",
      "source": [
        "# Sample Project for Software Enginnering: Designing a Virtual Pet Game in Python (Optional)\n",
        "Here are the specifications for a sample software project that you can try to develop. Some general hints:\n",
        "\n",
        "-   Start simple and gradually add complexity.\n",
        "-   Think about how real pets behave and how this can be translated into code.\n",
        "-   Regularly test your code as you develop.\n",
        "-   Keep your code organized and well-commented for easier debugging and understanding.\n",
        "-   Consider the user experience -- how will they interact with your pet?\n",
        "\n",
        "\n",
        "\n",
        "## Stage 1: Basic Functionality\n",
        "\n",
        "*Objective*: Create a rudimentary virtual pet with basic interactions.\n",
        "\n",
        "*Description*: In this stage, the goal is to create a simple virtual pet, akin to a digital Tamagotchi. It is based on the example provided in Chapter 10 (Software Engneering), but should have some slight enhancements. This pet will have basic attributes like hunger, happiness, and health. The user can perform simple actions like feeding the pet or playing with it to influence these attributes.\n",
        "\n",
        "*Key Python Concepts*:\n",
        "\n",
        "1.  Use a **class** to define the pet with attributes (hunger, happiness, health).\n",
        "2.  Implement **methods** for actions (feed, play).\n",
        "3.  Store pet's current state using **attributes** (variables internal to a class).\n",
        "4.  Use **if-elif--else** statements for state changes.\n",
        "\n",
        "Examples of how the program might work:\n",
        "\n",
        "1. The user starts the game and a message appears: \"Welcome! Meet your new virtual pet, Tammy!\"\n",
        "2. The user can view Tammy's current state: \"Hunger: 5/10, Happiness: 7/10, Health: 10/10.\"\n",
        "3. The user chooses to feed Tammy. The game updates: \"Tammy is eating... Hunger decreases to 3/10.\"\n",
        "4. The user decides to play with Tammy. The game responds: \"Tammy is playing happily! Happiness increases to 9/10.\""
      ],
      "metadata": {
        "id": "R2obbSUQSYh5"
      }
    },
    {
      "cell_type": "code",
      "source": [],
      "metadata": {
        "id": "LXts_r_dS0BE"
      },
      "execution_count": null,
      "outputs": []
    },
    {
      "cell_type": "code",
      "source": [],
      "metadata": {
        "id": "H5d51IVrS0H8"
      },
      "execution_count": null,
      "outputs": []
    },
    {
      "cell_type": "markdown",
      "source": [
        "## Stage 2: Intermediate Complexity\n",
        "\n",
        "*Objective*: Enhance the virtual pet with more attributes and randomized events.\n",
        "\n",
        "*Description*: Building on Stage 1, introduce more attributes like tiredness or cleanliness. Add random events that affect the pet's state, such as getting sick or finding food.\n",
        "\n",
        "*Key Python Concepts*:\n",
        "\n",
        "1. If creating different types of pets, use **inheritance** for shared attributes.\n",
        "2. Utilize the **random** library for random events.\n",
        "3. Use **lists** and **dictionaries* to tore possible events and outcomes.\n",
        "4. Implement **loops** for continuous checks or actions.\n",
        "\n",
        "Examples of how this might look:\n",
        "\n",
        "1. The game randomly announces before a user's next turn, \"Oh no! Dusty has rolled in the mud and is now dirty!\"\n",
        "2. The user chooses to clean Dusty. The game updates: \"Dusty is now clean! Happiness increases, but energy decreases.\"\n",
        "3. After a certain number of turns, the game indicates, \"Dusty is tired and falls asleep. Energy is being restored.\"\n"
      ],
      "metadata": {
        "id": "wyvu6l4IS5cz"
      }
    },
    {
      "cell_type": "code",
      "source": [],
      "metadata": {
        "id": "v8n1fnktS7V9"
      },
      "execution_count": null,
      "outputs": []
    },
    {
      "cell_type": "code",
      "source": [],
      "metadata": {
        "id": "LGP1JuuiS7Yk"
      },
      "execution_count": null,
      "outputs": []
    },
    {
      "cell_type": "code",
      "source": [],
      "metadata": {
        "id": "CEMd1FR5S7b1"
      },
      "execution_count": null,
      "outputs": []
    },
    {
      "cell_type": "markdown",
      "source": [
        "## Stage 3: Advanced Interactions and State Persistence\n",
        "\n",
        "*Objective*: Implement advanced features like saving/loading pet state and more complex interactions. (Note: The things here go beyond what we've covered in the class-you'll need to look them up).\n",
        "\n",
        "*Description*: Allow the pet's state to be saved to a file and loaded. Introduce complex interactions like training or learning, where the pet's behavior changes over time based on user actions.\n",
        "\n",
        "*Key Python Concepts*:\n",
        "\n",
        "1.  Research **File I/O** to save and load pet state from a file.\n",
        "2.  Use nested dictionaries or custom classes to represent evolving states.\n",
        "3.  Use the **time module** to simulate real-time effects or aging.\n",
        "\n",
        "This might look like the following:\n",
        "\n",
        "1. The user decides to train Evolvo. The game shows, \"Evolvo is learning new tricks! Intelligence increases.\"\n",
        "2. The user saves the game. The game confirms, \"Game saved! Evolvo's current state will be remembered.\"\n",
        "3. When the user returns, they load the game. The game restores Evolvo's last state."
      ],
      "metadata": {
        "id": "6NQHANRTS72d"
      }
    },
    {
      "cell_type": "code",
      "source": [],
      "metadata": {
        "id": "qFNuxKk7TAQ8"
      },
      "execution_count": null,
      "outputs": []
    },
    {
      "cell_type": "code",
      "source": [],
      "metadata": {
        "id": "QXWkCM9nU3-R"
      },
      "execution_count": null,
      "outputs": []
    },
    {
      "cell_type": "markdown",
      "source": [
        "## Stage 4: Unit Testing\n",
        "\n",
        "*Objective*: Write unit tests to ensure the game functions as expected.\n",
        "\n",
        "*Description*: Test your virtual pet game, covering various functionalities and scenarios. T\n",
        "\n",
        "*Key Python Concepts*:\n",
        "\n",
        "1.  Use Python's built-in unittest framework.\n",
        "2.  Write **test cases** for different functionalities and edge cases.\n",
        "3.  Use **assertions** to check for expected outcomes.\n",
        "\n"
      ],
      "metadata": {
        "id": "FABmIHkwU4mv"
      }
    },
    {
      "cell_type": "code",
      "source": [],
      "metadata": {
        "id": "IJyYa-aVU6EK"
      },
      "execution_count": null,
      "outputs": []
    },
    {
      "cell_type": "code",
      "source": [],
      "metadata": {
        "id": "DFSz0j6wU6N4"
      },
      "execution_count": null,
      "outputs": []
    }
  ]
}