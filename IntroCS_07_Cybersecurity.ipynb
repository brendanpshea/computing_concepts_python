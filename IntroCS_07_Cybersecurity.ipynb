{
  "nbformat": 4,
  "nbformat_minor": 0,
  "metadata": {
    "colab": {
      "provenance": [],
      "authorship_tag": "ABX9TyOPQ3dlG+yPRETpo3OOtBB7",
      "include_colab_link": true
    },
    "kernelspec": {
      "name": "python3",
      "display_name": "Python 3"
    },
    "language_info": {
      "name": "python"
    }
  },
  "cells": [
    {
      "cell_type": "markdown",
      "metadata": {
        "id": "view-in-github",
        "colab_type": "text"
      },
      "source": [
        "<a href=\"https://colab.research.google.com/github/brendanpshea/computing_concepts_python/blob/main/IntroCS_07_Cybersecurity.ipynb\" target=\"_parent\"><img src=\"https://colab.research.google.com/assets/colab-badge.svg\" alt=\"Open In Colab\"/></a>"
      ]
    },
    {
      "cell_type": "markdown",
      "source": [
        "# Introduction to Cybersecurity: Why Security Matters in Code\n",
        "### Brendan Shea, PhD\n",
        "\n",
        "Cybersecurity is the practice of protecting systems, networks, and programs from digital attacks. In today's interconnected world, nearly every aspect of our lives involves digital information that needs protection.\n",
        "\n",
        "As beginning programmers, understanding cybersecurity fundamentals will help you:\n",
        "\n",
        "* Write safer code that protects user data\n",
        "* Understand potential vulnerabilities in applications\n",
        "* Develop habits that prevent security breaches\n",
        "  * Validating user input\n",
        "  * Securing sensitive information\n",
        "  * Testing for common security flaws\n",
        "* Prepare for careers in an increasingly security-conscious industry\n",
        "\n",
        "**Cybersecurity** refers to the body of technologies, processes, and practices designed to protect networks, devices, programs, and data from attack, damage, or unauthorized access.\n",
        "\n",
        "**Malicious actors** are individuals or groups who attempt to exploit vulnerabilities in software and hardware for various purposes, including stealing data, causing disruption, or gaining unauthorized access to systems.\n",
        "\n",
        "Remember: Security isn't something added at the end of development—it should be considered from the very beginning of any project!"
      ],
      "metadata": {
        "id": "_TW7HMmjYRs8"
      }
    },
    {
      "cell_type": "markdown",
      "source": [
        "# Understanding Text in Python: Strings, Unicode, and ASCII\n",
        "\n",
        "Before we can work with cybersecurity concepts, we need to understand how computers store and process text. In Python, text is represented as **strings**, which are sequences of characters.\n",
        "\n",
        "Each character in a string is represented by a numeric code:\n",
        "\n",
        "* **ASCII** (American Standard Code for Information Interchange) is an older standard that uses 7 bits to represent 128 different characters\n",
        "  * Only includes English letters, numbers, and basic symbols\n",
        "  * Limited to characters used in English\n",
        "\n",
        "* **Unicode** is a modern standard that can represent virtually every character from all writing systems worldwide\n",
        "  * Includes characters from all languages, mathematical symbols, emojis, and more\n",
        "  * Python 3 uses Unicode for all strings by default\n",
        "\n",
        "* **UTF-8** (Unicode Transformation Format 8-bit) is the most common encoding for Unicode\n",
        "  * A variable-width encoding that uses between 1 and 4 bytes per character\n",
        "  * ASCII characters use just 1 byte (efficient for English text)\n",
        "  * Characters from other languages use 2-4 bytes\n",
        "  * This makes UTF-8 both compact and universal\n",
        "  * It's the dominant encoding for the web and most software"
      ],
      "metadata": {
        "id": "sbaSCElCYeXT"
      }
    },
    {
      "cell_type": "code",
      "source": [
        "# Let's examine how UTF-8 uses different numbers of bytes per character\n",
        "for char in \"ABCйあ😎\":\n",
        "    char_bytes = char.encode('utf-8')\n",
        "    print(f\"Character: {char}, UTF-8 bytes: {char_bytes}, Length: {len(char_bytes)} bytes\")\n"
      ],
      "metadata": {
        "colab": {
          "base_uri": "https://localhost:8080/"
        },
        "id": "GQ68VR-uYfJT",
        "outputId": "8ac33686-1227-4587-abc5-eb7619a6556d"
      },
      "execution_count": null,
      "outputs": [
        {
          "output_type": "stream",
          "name": "stdout",
          "text": [
            "Character: A, UTF-8 bytes: b'A', Length: 1 bytes\n",
            "Character: B, UTF-8 bytes: b'B', Length: 1 bytes\n",
            "Character: C, UTF-8 bytes: b'C', Length: 1 bytes\n",
            "Character: й, UTF-8 bytes: b'\\xd0\\xb9', Length: 2 bytes\n",
            "Character: あ, UTF-8 bytes: b'\\xe3\\x81\\x82', Length: 3 bytes\n",
            "Character: 😎, UTF-8 bytes: b'\\xf0\\x9f\\x98\\x8e', Length: 4 bytes\n"
          ]
        }
      ]
    },
    {
      "cell_type": "markdown",
      "source": [
        "Here's how characters map to their numeric values:\n",
        "\n",
        "| Character | ASCII Value | Unicode Value (decimal) |\n",
        "|-----------|-------------|-------------------------|\n",
        "| 'A'       | 65          | 65                      |\n",
        "| 'B'       | 66          | 66                      |\n",
        "| 'Z'       | 90          | 90                      |\n",
        "| 'a'       | 97          | 97                      |\n",
        "| 'z'       | 122         | 122                     |\n",
        "| '!'       | 33          | 33                      |\n",
        "| 'й' (Cyrillic) | N/A (not in ASCII) | 1081       |\n",
        "| '東' (Japanese) | N/A (not in ASCII) | 26481      |\n",
        "\n",
        "Let's explore working with character codes in Python:"
      ],
      "metadata": {
        "id": "qqqHPWtnZ0Sl"
      }
    },
    {
      "cell_type": "code",
      "source": [
        "# Working with character codes - Spy Communication System Basics\n",
        "\n",
        "# The ord() function gets the numeric value of a character\n",
        "print(\"Character to code conversion:\")\n",
        "print(f\"The code for 'A' is: {ord('A')}\")\n",
        "print(f\"The code for 'a' is: {ord('a')}\")\n",
        "print(f\"The code for '!' is: {ord('!')} \\n\")\n"
      ],
      "metadata": {
        "colab": {
          "base_uri": "https://localhost:8080/"
        },
        "id": "6ExRM8GAZ9zg",
        "outputId": "aeffc283-72cc-44bb-9dcd-dcfb095f8efc"
      },
      "execution_count": null,
      "outputs": [
        {
          "output_type": "stream",
          "name": "stdout",
          "text": [
            "Character to code conversion:\n",
            "The code for 'A' is: 65\n",
            "The code for 'a' is: 97\n",
            "The code for '!' is: 33 \n",
            "\n"
          ]
        }
      ]
    },
    {
      "cell_type": "code",
      "source": [
        "\n",
        "# The chr() function converts a numeric code back to a character\n",
        "print(\"Code to character conversion:\")\n",
        "print(f\"The character for code 77 is: {chr(77)}\")  # M\n",
        "print(f\"The character for code 105 is: {chr(105)}\")  # i\n",
        "print(f\"The character for code 54 is: {chr(54)} \\n\")  # 6\n"
      ],
      "metadata": {
        "colab": {
          "base_uri": "https://localhost:8080/"
        },
        "id": "t-BLW6nSaGII",
        "outputId": "712ca4d1-5765-4656-c0eb-a54d846c4626"
      },
      "execution_count": null,
      "outputs": [
        {
          "output_type": "stream",
          "name": "stdout",
          "text": [
            "Code to character conversion:\n",
            "The character for code 77 is: M\n",
            "The character for code 105 is: i\n",
            "The character for code 54 is: 6 \n",
            "\n"
          ]
        }
      ]
    },
    {
      "cell_type": "code",
      "source": [
        "# A spy might examine a message character by character\n",
        "secret_codename = \"Agent007\"\n",
        "print(f\"Examining codename: {secret_codename}\")\n",
        "for char in secret_codename:\n",
        "    print(f\"Character: {char}, Code: {ord(char)}\")"
      ],
      "metadata": {
        "colab": {
          "base_uri": "https://localhost:8080/"
        },
        "id": "_iHHF5BmaB5W",
        "outputId": "873d8aa7-aaa0-4f3a-ee5d-806da602f127"
      },
      "execution_count": null,
      "outputs": [
        {
          "output_type": "stream",
          "name": "stdout",
          "text": [
            "Examining codename: Agent007\n",
            "Character: A, Code: 65\n",
            "Character: g, Code: 103\n",
            "Character: e, Code: 101\n",
            "Character: n, Code: 110\n",
            "Character: t, Code: 116\n",
            "Character: 0, Code: 48\n",
            "Character: 0, Code: 48\n",
            "Character: 7, Code: 55\n"
          ]
        }
      ]
    },
    {
      "cell_type": "markdown",
      "source": [
        "# Essential String Methods for Cryptography\n",
        "\n",
        "Python's built-in string methods provide powerful tools for manipulating text, which will be essential for our cybersecurity work. Let's explore some key methods through examples:\n",
        "\n",
        "* **upper()** and **lower()**: Convert text to uppercase or lowercase\n",
        "  * Useful for normalizing text\n",
        "  * Example: `\"Secret\".upper()` returns `\"SECRET\"`\n",
        "\n",
        "* **join()**: Combines a list of strings with a specified separator\n",
        "  * Great for reassembling processed characters\n",
        "  * Example: `\"-\".join(['C', 'I', 'A'])` returns `\"C-I-A\"`\n",
        "\n",
        "* **split()**: Divides a string into a list based on a delimiter\n",
        "  * Helpful for breaking messages into processable chunks\n",
        "  * Example: `\"Operation Midnight\".split()` returns `['Operation', 'Midnight']`\n",
        "\n",
        "* **replace()**: Substitutes specified text with new text\n",
        "  * Essential for substitution operations\n",
        "  * Example: `\"Agent\".replace('A', '4')` returns `\"4gent\"`\n",
        "\n",
        "Let's explore these methods:"
      ],
      "metadata": {
        "id": "TFrhEADqavSJ"
      }
    },
    {
      "cell_type": "code",
      "source": [
        "# A classified message\n",
        "message = \"Meet Agent X at the Blue Parrot Cafe\"\n",
        "\n",
        "# 1. Converting case\n",
        "upper_message = message.upper()\n",
        "lower_message = message.lower()\n",
        "\n",
        "print(\"Original message:\", message)\n",
        "print(\"Uppercase:\", upper_message)\n",
        "print(\"Lowercase:\", lower_message)"
      ],
      "metadata": {
        "colab": {
          "base_uri": "https://localhost:8080/"
        },
        "id": "9z8VJC6ra7Sy",
        "outputId": "8e236953-8967-4abe-9907-66866478d436"
      },
      "execution_count": null,
      "outputs": [
        {
          "output_type": "stream",
          "name": "stdout",
          "text": [
            "Original message: Meet Agent X at the Blue Parrot Cafe\n",
            "Uppercase: MEET AGENT X AT THE BLUE PARROT CAFE\n",
            "Lowercase: meet agent x at the blue parrot cafe\n"
          ]
        }
      ]
    },
    {
      "cell_type": "code",
      "source": [
        "# 2. Splitting strings\n",
        "words = message.split()\n",
        "print(\"\\nSplit into words:\", words)\n",
        "print(\"Number of words:\", len(words))\n",
        "\n",
        "# Split by a specific character\n",
        "parts = message.split('a')\n",
        "print(\"Split by 'a':\", parts)"
      ],
      "metadata": {
        "colab": {
          "base_uri": "https://localhost:8080/"
        },
        "id": "mVF1BQk2bC-p",
        "outputId": "230a8ef3-2cc7-4aa4-9100-25d47e04423f"
      },
      "execution_count": null,
      "outputs": [
        {
          "output_type": "stream",
          "name": "stdout",
          "text": [
            "\n",
            "Split into words: ['Meet', 'Agent', 'X', 'at', 'the', 'Blue', 'Parrot', 'Cafe']\n",
            "Number of words: 8\n",
            "Split by 'a': ['Meet Agent X ', 't the Blue P', 'rrot C', 'fe']\n"
          ]
        }
      ]
    },
    {
      "cell_type": "code",
      "source": [
        "# 3. Joining strings\n",
        "code_name = ['S', 'P', 'E', 'C', 'T', 'R', 'E']\n",
        "joined_name = \"\".join(code_name)\n",
        "print(\"\\nJoined characters:\", joined_name)\n",
        "\n",
        "# Join with a separator\n",
        "dash_name = \"-\".join(code_name)\n",
        "print(\"Joined with dashes:\", dash_name)"
      ],
      "metadata": {
        "colab": {
          "base_uri": "https://localhost:8080/"
        },
        "id": "57SSgMCrbFKP",
        "outputId": "ad86a88b-9893-4bdf-fab4-ebfc98618cc2"
      },
      "execution_count": null,
      "outputs": [
        {
          "output_type": "stream",
          "name": "stdout",
          "text": [
            "\n",
            "Joined characters: SPECTRE\n",
            "Joined with dashes: S-P-E-C-T-R-E\n"
          ]
        }
      ]
    },
    {
      "cell_type": "code",
      "source": [
        "# 4. Replacing text\n",
        "redacted = message.replace(\"Agent X\", \"[REDACTED]\")\n",
        "print(\"\\nRedacted message:\", redacted)\n",
        "\n",
        "# Multiple replacements can be chained\n",
        "coded = message.replace('e', '3').replace('a', '4').replace('t', '7')\n",
        "print(\"Basic letter substitution:\", coded)"
      ],
      "metadata": {
        "colab": {
          "base_uri": "https://localhost:8080/"
        },
        "id": "9Zw0kSgfbJOx",
        "outputId": "5c099237-1ae4-41fe-9a1b-f0e88741aad7"
      },
      "execution_count": null,
      "outputs": [
        {
          "output_type": "stream",
          "name": "stdout",
          "text": [
            "\n",
            "Redacted message: Meet [REDACTED] at the Blue Parrot Cafe\n",
            "Basic letter substitution: M337 Ag3n7 X 47 7h3 Blu3 P4rro7 C4f3\n"
          ]
        }
      ]
    },
    {
      "cell_type": "markdown",
      "source": [
        "**String immutability** means that strings cannot be modified after creation - operations create new strings instead. This is why we need to capture the result when using these methods:\n"
      ],
      "metadata": {
        "id": "j6ZKxm8Gbi0k"
      }
    },
    {
      "cell_type": "code",
      "source": [
        "# Demonstrating string immutability\n",
        "codename = \"SKYFALL\"\n",
        "print(f\"Original codename: {codename}\")\n",
        "\n",
        "# This doesn't change codename!\n",
        "codename.replace('S', '$')\n",
        "print(f\"After replace without assignment: {codename}\")  # Still \"SKYFALL\""
      ],
      "metadata": {
        "colab": {
          "base_uri": "https://localhost:8080/"
        },
        "id": "RNmFDJBsbnxE",
        "outputId": "8661563e-323a-4a76-9922-1a03b2802928"
      },
      "execution_count": null,
      "outputs": [
        {
          "output_type": "stream",
          "name": "stdout",
          "text": [
            "Original codename: SKYFALL\n",
            "After replace without assignment: SKYFALL\n"
          ]
        }
      ]
    },
    {
      "cell_type": "code",
      "source": [
        "\n",
        "# This works because we create a new string and reassign\n",
        "codename = codename.replace('S', '$')\n",
        "print(f\"After replace with assignment: {codename}\")  # Now \"$KYFALL\""
      ],
      "metadata": {
        "colab": {
          "base_uri": "https://localhost:8080/"
        },
        "id": "wDPo9fSSbyHv",
        "outputId": "0e102b7d-1ffa-4822-acea-9d654d487d17"
      },
      "execution_count": null,
      "outputs": [
        {
          "output_type": "stream",
          "name": "stdout",
          "text": [
            "After replace with assignment: $KYFALL\n"
          ]
        }
      ]
    },
    {
      "cell_type": "markdown",
      "source": [
        "These string methods provide the building blocks for text manipulation that we'll use in more complex cryptographic operations later."
      ],
      "metadata": {
        "id": "DNiYZGXMb7pa"
      }
    },
    {
      "cell_type": "markdown",
      "source": [
        "# Math Operations in Python: The Building Blocks of Encryption\n",
        "\n",
        "Before we can design encryption algorithms, we need to understand the mathematical operations that make them work. Cryptography relies on several fundamental mathematical concepts that we'll explore in this section. These concepts might seem simple at first, but they form the cornerstone of even the most sophisticated encryption systems used today.\n",
        "\n",
        "## The Modulo Operation (%)\n",
        "\n",
        "The **modulo operation** is perhaps the most important mathematical concept in basic cryptography. It gives us the remainder after division between two numbers. This might sound simple, but it allows us to create \"wrapping\" behavior that's essential for many ciphers.\n",
        "\n",
        "When we write `a % b`, we're asking \"what's the remainder when a is divided by b?\" For example:"
      ],
      "metadata": {
        "id": "H2jTTVQtfGQ-"
      }
    },
    {
      "cell_type": "code",
      "source": [
        "# Basic modulo examples\n",
        "print(f\"5 % 3 = {5 % 3}\")\n",
        "print(f\"17 % 5 = {17 % 5}\")"
      ],
      "metadata": {
        "colab": {
          "base_uri": "https://localhost:8080/"
        },
        "id": "vkuXEmw3fJMF",
        "outputId": "009be5c5-b7ff-43a2-b23c-afb4d74abf5b"
      },
      "execution_count": null,
      "outputs": [
        {
          "output_type": "stream",
          "name": "stdout",
          "text": [
            "5 % 3 = 2\n",
            "17 % 5 = 2\n"
          ]
        }
      ]
    },
    {
      "cell_type": "markdown",
      "source": [
        "\n",
        "The modulo operation is similar to how a clock works. After we reach 12, we \"wrap around\" to 1 again. In mathematical terms, we're performing calculations in \"modulo 12\" on a clock.\n",
        "\n",
        "Imagine we're in a spy movie where agents need to schedule a meeting at a certain number of hours from now. If it's currently 9 o'clock and we need to meet 5 hours later, we'd calculate: (9 + 5) % 12 = 2 o'clock."
      ],
      "metadata": {
        "id": "b-0OhSxKfOFa"
      }
    },
    {
      "cell_type": "code",
      "source": [
        "# Clock arithmetic example\n",
        "current_hour = 9\n",
        "hours_to_add = 5\n",
        "meeting_time = (current_hour + hours_to_add) % 12\n",
        "# If result is 0, it means 12 o'clock\n",
        "meeting_time = 12 if meeting_time == 0 else meeting_time\n",
        "print(f\"Meeting time: {meeting_time} o'clock\")  # 2 o'clock"
      ],
      "metadata": {
        "colab": {
          "base_uri": "https://localhost:8080/"
        },
        "id": "2HUrpV92fQOw",
        "outputId": "3ac0caa1-c0ee-4952-8c51-0b6e3b579bb1"
      },
      "execution_count": null,
      "outputs": [
        {
          "output_type": "stream",
          "name": "stdout",
          "text": [
            "Meeting time: 2 o'clock\n"
          ]
        }
      ]
    },
    {
      "cell_type": "markdown",
      "source": [
        "This wrapping behavior is crucial for our encryption algorithms, especially when we need to shift letters and wrap around the alphabet. When we shift 'Z' forward, we need to wrap back to 'A', just like hours on a clock.\n",
        "\n",
        "## Integer Division (//)\n",
        "\n",
        "While regular division (/) gives us a decimal result, **integer division** (//) gives us only the whole number quotient, discarding any remainder. This is useful when we want to know how many complete units exist without caring about fractional parts.\n",
        "\n",
        "Integer division and modulo are complementary operations: division tells us how many times one number fits completely into another, while modulo tells us what's left over."
      ],
      "metadata": {
        "id": "looaFsopfTdX"
      }
    },
    {
      "cell_type": "markdown",
      "source": [
        "\n",
        "In cryptography, integer division is often used alongside modulo to break numbers into components. For instance, when working with large numbers in advanced encryption, we might need to split them into blocks of a certain size.\n",
        "\n",
        "## Prime Numbers in Cryptography\n",
        "\n",
        "**Prime numbers** are integers greater than 1 that are only divisible by 1 and themselves. Examples include 2, 3, 5, 7, 11, and 13. What makes prime numbers special for cryptography is how they behave when multiplied together.\n",
        "\n",
        "When two prime numbers are multiplied, the result can only be factored back into those original primes. This property becomes extremely important in advanced encryption like RSA, where security relies on the difficulty of factoring large numbers back into their prime components.\n",
        "\n",
        "While we won't implement advanced prime-based cryptography in this course, understanding the significance of primes provides insight into why modern encryption is secure. Even with the world's fastest computers, factoring very large numbers (300+ digits) into their prime components remains computationally infeasible.\n",
        "\n",
        "## Combining Operations for Character Transformations\n",
        "\n",
        "In cryptography, we often convert characters to their numeric codes, perform mathematical operations on those codes, and then convert back to characters. The operations we've discussed are perfect for this.\n",
        "\n",
        "Consider a simple transformation where we want to shift the letter 'A' forward by 3 positions to get 'D':\n",
        "\n",
        "1. Convert 'A' to its ASCII value: 65\n",
        "2. Add the shift value: 65 + 3 = 68\n",
        "3. Convert the result back to a character: chr(68) = 'D'\n",
        "\n",
        "But what if we shift 'Z' (ASCII 90) forward by 3? We'd get ASCII 93, which isn't a standard English letter. This is where modulo helps us wrap around the alphabet:\n",
        "\n",
        "1. Convert 'Z' to its position in the alphabet: 25 (where A=0, B=1, ..., Z=25)\n",
        "2. Add the shift: 25 + 3 = 28\n",
        "3. Apply modulo to wrap around: 28 % 26 = 2\n",
        "4. Convert position 2 back to a letter: 'C'\n",
        "\n",
        "This small example demonstrates how we'll combine these mathematical operations to create encryption algorithms in the coming sections.\n",
        "\n",
        "| Operation | Symbol | Example | Result | Use in Cryptography |\n",
        "|-----------|--------|---------|--------|---------------------|\n",
        "| Addition | `+` | `5 + 3` | `8` | Shifting characters forward |\n",
        "| Subtraction | `-` | `10 - 7` | `3` | Shifting characters backward |\n",
        "| Modulo | `%` | `17 % 5` | `2` | Wrapping around the alphabet |\n",
        "| Integer Division | `//` | `17 // 5` | `3` | Breaking numbers into blocks |\n",
        "| Exponentiation | `**` | `2 ** 3` | `8` | Used in advanced encryption |\n",
        "\n",
        "**Modular arithmetic** forms the mathematical foundation of many encryption techniques. By performing calculations within a fixed range and wrapping around when we exceed that range, we can create reversible transformations that are perfect for encoding and decoding messages.\n",
        "\n",
        "In the next sections, we'll apply these mathematical principles to implement our first encryption algorithm: the Caesar cipher. This ancient technique will demonstrate how these simple operations can be combined to create a basic encryption system."
      ],
      "metadata": {
        "id": "l6UGdSiuferK"
      }
    },
    {
      "cell_type": "code",
      "source": [
        "print(f\"7 / 2 = {7 / 2}\")\n",
        "print(f\"7 // 2 = {7 // 2}\")"
      ],
      "metadata": {
        "colab": {
          "base_uri": "https://localhost:8080/"
        },
        "id": "Mkk1n4DefVyb",
        "outputId": "67c2ed3a-f6a4-4e16-fe5d-1674dd6e19f3"
      },
      "execution_count": null,
      "outputs": [
        {
          "output_type": "stream",
          "name": "stdout",
          "text": [
            "7 / 2 = 3.5\n",
            "7 // 2 = 3\n"
          ]
        }
      ]
    },
    {
      "cell_type": "markdown",
      "source": [
        "# The Caesar Cipher: Your First Encryption Algorithm\n",
        "\n",
        "The **Caesar cipher** is one of the oldest and simplest encryption techniques, named after Julius Caesar who used it to protect military messages. Despite its simplicity, it introduces fundamental concepts of substitution ciphers.\n",
        "\n",
        "How the Caesar cipher works:\n",
        "\n",
        "* Each letter in the plaintext is shifted a fixed number of positions in the alphabet\n",
        "* The number of positions to shift is the **key**\n",
        "* For example, with a key of 3:\n",
        "  * 'A' becomes 'D' (shift 3 positions right)\n",
        "  * 'B' becomes 'E'\n",
        "  * 'Z' wraps around to 'C'\n",
        "\n",
        "The mathematical formula for the Caesar cipher is:\n",
        "\n",
        "* Encryption: `E(x) = (x + k) mod 26`\n",
        "* Decryption: `D(x) = (x - k) mod 26`\n",
        "\n",
        "Where `x` is the position of the original letter (0-25), `k` is the key (shift value), and the result is the position of the encrypted letter.\n",
        "\n",
        "Let's look at the key components of implementing a Caesar cipher:\n",
        "\n",
        "### Shifting Characters\n",
        "First, let's explore how we can \"shift\" characters:"
      ],
      "metadata": {
        "id": "408wauUsgDDW"
      }
    },
    {
      "cell_type": "code",
      "source": [
        "def shift_char(char, key):\n",
        "    \"\"\"Shift a single character by the key amount\"\"\"\n",
        "    # Only encrypt letters, leave other characters unchanged\n",
        "    if not char.isalpha():\n",
        "        return char\n",
        "\n",
        "    # Determine if character is uppercase or lowercase\n",
        "    is_upper = char.isupper()\n",
        "\n",
        "    # Convert to base position (0-25)\n",
        "    if is_upper:\n",
        "        base = ord('A')\n",
        "    else:\n",
        "        base = ord('a')\n",
        "\n",
        "    # Calculate position in 0-25 range\n",
        "    position = ord(char) - base\n",
        "\n",
        "    # Shift and wrap around if needed using modulo\n",
        "    new_position = (position + key) % 26\n",
        "\n",
        "    # Convert back to character\n",
        "    return chr(new_position + base)"
      ],
      "metadata": {
        "id": "lv0ItYbxi7sP"
      },
      "execution_count": null,
      "outputs": []
    },
    {
      "cell_type": "code",
      "source": [
        "# Test with a few characters\n",
        "print(\"Single character encryption (key = 3):\")\n",
        "print(f\"'A' → '{shift_char('A', 3)}'\")\n",
        "print(f\"'Z' → '{shift_char('Z', 3)}'\")\n",
        "print(f\"'a' → '{shift_char('a', 3)}'\")\n",
        "print(f\"'?' → '{shift_char('?', 3)}' (non-alphabetic)\")"
      ],
      "metadata": {
        "colab": {
          "base_uri": "https://localhost:8080/"
        },
        "id": "b_TiOEyJi9X_",
        "outputId": "7c2c7ee4-bde9-4620-baae-3c970d08be42"
      },
      "execution_count": null,
      "outputs": [
        {
          "output_type": "stream",
          "name": "stdout",
          "text": [
            "Single character encryption (key = 3):\n",
            "'A' → 'D'\n",
            "'Z' → 'C'\n",
            "'a' → 'd'\n",
            "'?' → '?' (non-alphabetic)\n"
          ]
        }
      ]
    },
    {
      "cell_type": "code",
      "source": [
        "# Test with different keys\n",
        "print(\"\\nShifting 'M' with different keys:\")\n",
        "for key in [1, 5, 13, 25]:\n",
        "    print(f\"Key {key}: '{shift_char('M', key)}'\")"
      ],
      "metadata": {
        "colab": {
          "base_uri": "https://localhost:8080/"
        },
        "id": "FTg7x1i-jBqs",
        "outputId": "f75b9a70-c734-465d-d59d-218334e80938"
      },
      "execution_count": null,
      "outputs": [
        {
          "output_type": "stream",
          "name": "stdout",
          "text": [
            "\n",
            "Shifting 'M' with different keys:\n",
            "Key 1: 'N'\n",
            "Key 5: 'R'\n",
            "Key 13: 'Z'\n",
            "Key 25: 'L'\n"
          ]
        }
      ]
    },
    {
      "cell_type": "markdown",
      "source": [
        "### The Caesar Cipher: Shifting Strings\n",
        "Now let's apply this character-shifting function to a string."
      ],
      "metadata": {
        "id": "pnh6_392jWz9"
      }
    },
    {
      "cell_type": "code",
      "source": [
        "# Encrypting a message one character at a time\n",
        "\n",
        "def caesar_cipher(text, key):\n",
        "    \"\"\"Apply the Caesar cipher to a string\"\"\"\n",
        "    result = \"\"\n",
        "\n",
        "    for char in text:\n",
        "        result += shift_char(char, key)\n",
        "\n",
        "    return result"
      ],
      "metadata": {
        "id": "BfN0LA9WjXYG"
      },
      "execution_count": null,
      "outputs": []
    },
    {
      "cell_type": "code",
      "source": [
        "# Try changing the message!\n",
        "message = \"Meet me at midnight\"\n",
        "key = 7\n",
        "\n",
        "encrypted = caesar_cipher(message, key)\n",
        "print(f\"\\nOriginal: {message}\")\n",
        "print(f\"Encrypted (key={key}): {encrypted}\")\n",
        "\n",
        "# We can use a negative key for decryption\n",
        "decrypted = caesar_cipher(encrypted, -key)\n",
        "print(f\"Decrypted: {decrypted}\")"
      ],
      "metadata": {
        "colab": {
          "base_uri": "https://localhost:8080/"
        },
        "id": "pzaQgnREjaja",
        "outputId": "010ae20f-f008-4356-fc43-4cb585b215c6"
      },
      "execution_count": null,
      "outputs": [
        {
          "output_type": "stream",
          "name": "stdout",
          "text": [
            "\n",
            "Original: Meet me at midnight\n",
            "Encrypted (key=7): Tlla tl ha tpkupnoa\n",
            "Decrypted: Meet me at midnight\n"
          ]
        }
      ]
    },
    {
      "cell_type": "markdown",
      "source": [
        "\n",
        "**Substitution cipher** is a method of encryption where units of plaintext are replaced with ciphertext according to a fixed system. The Caesar cipher is the simplest form of a substitution cipher.\n",
        "\n",
        "**Key space** refers to the total number of possible keys that can be used. For the Caesar cipher, the key space is very small (only 26 possible keys), making it easy to break.\n",
        "\n",
        "While the Caesar cipher is not secure for modern use, it demonstrates important encryption principles that all advanced encryption methods build upon. If you look at the code, you'll notice the pattern:\n",
        "1. Convert the text to a numeric form\n",
        "2. Apply a mathematical transformation (the shift)\n",
        "3. Convert back to text\n",
        "\n",
        "This pattern appears in virtually all encryption algorithms, just with increasingly complex transformations!"
      ],
      "metadata": {
        "id": "fxFrH62ijNgW"
      }
    },
    {
      "cell_type": "markdown",
      "source": [
        "# Breaking Caesar's Cipher: The Weakness of Simple Substitution\n",
        "\n",
        "While the Caesar cipher was useful in ancient times, it's extremely vulnerable to modern analysis. Understanding why it's weak helps illustrate the need for stronger encryption methods.\n",
        "\n",
        "The main weaknesses of the Caesar cipher include:\n",
        "\n",
        "* **Limited key space**: With only 26 possible shifts (keys 0-25), an attacker can try all possibilities quickly\n",
        "  * This is called a **brute force attack**\n",
        "  * A computer can test all 26 keys almost instantly\n",
        "\n",
        "* **Frequency analysis**: Letters in any language appear with predictable frequencies\n",
        "  * In English, 'E' is the most common letter, followed by 'T', 'A', 'O', etc.\n",
        "  * By analyzing the frequencies of letters in the ciphertext, the original message can often be deduced\n",
        "\n",
        "* **Pattern preservation**: The Caesar cipher preserves patterns in the text\n",
        "  * Double letters remain double letters (though different ones)\n",
        "  * Word lengths remain unchanged\n",
        "  * Common words like \"the\" and \"and\" create recognizable patterns\n",
        "\n",
        "| English Letter | Frequency % | Caesar Shift (key=3) |\n",
        "|----------------|-------------|----------------------|\n",
        "| E | 12.7% | H |\n",
        "| T | 9.1% | W |\n",
        "| A | 8.2% | D |\n",
        "| O | 7.5% | R |\n",
        "\n",
        "**Cryptanalysis** is the study of analyzing information systems to study the hidden aspects of the systems, including breaking encryption methods.\n",
        "\n",
        "**Frequency analysis** is a technique used to break substitution ciphers by examining the frequency of letters or groups of letters in the encrypted text.\n",
        "\n",
        "Breaking the Caesar cipher demonstrates why modern encryption needs to be much more complex. By understanding these vulnerabilities, we can develop better approaches to securing information. The next sections will introduce methods that address these weaknesses and provide stronger security."
      ],
      "metadata": {
        "id": "6e4yaWGz1b3t"
      }
    },
    {
      "cell_type": "markdown",
      "source": [
        "# Beyond Caesar: The Vigenère Cipher and Multi-character Keys\n",
        "\n",
        "The **Vigenère cipher** represents a significant advancement over the Caesar cipher by using multiple shift values instead of just one. This addresses the main weakness of the Caesar cipher by making frequency analysis much more difficult to apply.\n",
        "\n",
        "## How the Vigenère Cipher Works\n",
        "\n",
        "The core principle of the Vigenère cipher is using a keyword to determine multiple different shift values:\n",
        "\n",
        "* Instead of a single numeric key, use a keyword or phrase (like \"SPY\" or \"AGENT\")\n",
        "* Convert each letter of the keyword to a shift value (A=0, B=1, etc.)\n",
        "* Apply different shifts to different letters of the plaintext\n",
        "* Repeat the keyword as needed to match the length of the message\n",
        "\n",
        "For example, with the keyword \"KEY\", each letter corresponds to a different shift:\n",
        "* K = 10 (K is the 11th letter, so 10 when zero-indexed)\n",
        "* E = 4 (E is the 5th letter, so 4 when zero-indexed)\n",
        "* Y = 24 (Y is the 25th letter, so 24 when zero-indexed)\n",
        "\n",
        "When encrypting, we apply these shifts in sequence, repeating as needed.\n",
        "\n",
        "## Building Our Vigenère Cipher\n",
        "\n",
        "Let's build a Vigenère cipher implementation that reuses our previous functions. First, we need a function to convert a keyword into a sequence of shift values:\n"
      ],
      "metadata": {
        "id": "t5OJX3ycqPSL"
      }
    },
    {
      "cell_type": "code",
      "source": [
        "# Converting a keyword into shift values\n",
        "\n",
        "def keyword_to_shifts(keyword):\n",
        "    \"\"\"Convert a keyword to a list of shift values (A=0, B=1, etc.)\"\"\"\n",
        "    return [ord(char.upper()) - ord('A') for char in keyword if char.isalpha()]"
      ],
      "metadata": {
        "id": "lruZVLgYqXkc"
      },
      "execution_count": null,
      "outputs": []
    },
    {
      "cell_type": "code",
      "source": [
        "# Test with a few spy-themed keywords\n",
        "keywords = [\"BOND\", \"MISSION\", \"SPECTRE\"]\n",
        "\n",
        "for word in keywords:\n",
        "    shifts = keyword_to_shifts(word)\n",
        "    print(f\"Keyword: {word}\")\n",
        "    print(f\"Shift values: {shifts}\\n\")"
      ],
      "metadata": {
        "colab": {
          "base_uri": "https://localhost:8080/"
        },
        "id": "7UtXXr2-0Vvz",
        "outputId": "4c810c50-b487-4ccc-9ce9-8474e06283a3"
      },
      "execution_count": null,
      "outputs": [
        {
          "output_type": "stream",
          "name": "stdout",
          "text": [
            "Keyword: BOND\n",
            "Shift values: [1, 14, 13, 3]\n",
            "\n",
            "Keyword: MISSION\n",
            "Shift values: [12, 8, 18, 18, 8, 14, 13]\n",
            "\n",
            "Keyword: SPECTRE\n",
            "Shift values: [18, 15, 4, 2, 19, 17, 4]\n",
            "\n"
          ]
        }
      ]
    },
    {
      "cell_type": "markdown",
      "source": [
        "Now, we can combine this with our `shift_char()` function we defined for the Caesar Cipher to create the Vignere Cipher:"
      ],
      "metadata": {
        "id": "L1hqy5wQ0YJq"
      }
    },
    {
      "cell_type": "code",
      "source": [
        "def vigenere_cipher(text, keyword, mode='encrypt'):\n",
        "    \"\"\"\n",
        "    Encrypt or decrypt text using the Vigenère cipher\n",
        "\n",
        "    Parameters:\n",
        "    - text: The message to encrypt or decrypt\n",
        "    - keyword: The keyword to derive shift values from\n",
        "    - mode: 'encrypt' or 'decrypt'\n",
        "\n",
        "    Returns:\n",
        "    - The processed text\n",
        "    \"\"\"\n",
        "    # Convert keyword to shift values\n",
        "    shifts = keyword_to_shifts(keyword)\n",
        "\n",
        "    # If no valid shifts (empty keyword), return original text\n",
        "    if not shifts:\n",
        "        return text\n",
        "\n",
        "    # For decryption, use negative shifts\n",
        "    if mode == 'decrypt':\n",
        "        shifts = [-shift for shift in shifts]\n",
        "\n",
        "    result = \"\"\n",
        "    shift_index = 0\n",
        "\n",
        "    # Process each character\n",
        "    for char in text:\n",
        "        if char.isalpha():\n",
        "            # Get the current shift value\n",
        "            current_shift = shifts[shift_index % len(shifts)]\n",
        "\n",
        "            # Apply the shift\n",
        "            result += shift_char(char, current_shift)\n",
        "\n",
        "            # Move to the next shift value\n",
        "            shift_index += 1\n",
        "        else:\n",
        "            # Non-alphabetic characters remain unchanged\n",
        "            result += char\n",
        "\n",
        "    return result"
      ],
      "metadata": {
        "id": "4HNbjNwS05bQ"
      },
      "execution_count": null,
      "outputs": []
    },
    {
      "cell_type": "markdown",
      "source": [
        "Let's see a simple example of how this works:\n",
        "\n",
        "| Plaintext | P | Y | T | H | O | N |\n",
        "|-----------|---|---|---|---|---|---|\n",
        "| Keyword   | K | E | Y | K | E | Y |\n",
        "| Key Value | 10| 4 | 24| 10| 4 | 24|\n",
        "| Encrypted | Z | C | R | R | S | L |\n",
        "\n",
        "The cipher works by:\n",
        "1. Taking a letter from the plaintext (e.g., 'P')\n",
        "2. Taking the corresponding letter from the keyword (e.g., 'K')\n",
        "3. Converting the keyword letter to a shift value (K = 10)\n",
        "4. Applying that shift to the plaintext letter ('P' + 10 = 'Z')\n",
        "5. Moving to the next letter and the next shift value\n",
        "\n",
        "## Testing Our Vigenère Cipher\n",
        "\n",
        "Here's a simple test of our implementation:"
      ],
      "metadata": {
        "id": "vhgPMflz0jjt"
      }
    },
    {
      "cell_type": "code",
      "source": [
        "# Test the Vigenère cipher with a spy message\n",
        "message = \"Meet me at the usual place\"\n",
        "keyword = \"AGENT\"\n",
        "\n",
        "encrypted = vigenere_cipher(message, keyword, 'encrypt')\n",
        "print(f\"Original: {message}\")\n",
        "print(f\"Keyword: {keyword}\")\n",
        "print(f\"Encrypted: {encrypted}\")\n",
        "\n",
        "decrypted = vigenere_cipher(encrypted, keyword, 'decrypt')\n",
        "print(f\"Decrypted: {decrypted}\")"
      ],
      "metadata": {
        "colab": {
          "base_uri": "https://localhost:8080/"
        },
        "id": "g1atdzUY1H2x",
        "outputId": "6c22960b-e736-43cb-f59e-1661f35af481"
      },
      "execution_count": null,
      "outputs": [
        {
          "output_type": "stream",
          "name": "stdout",
          "text": [
            "Original: Meet me at the usual place\n",
            "Keyword: AGENT\n",
            "Encrypted: Mkig fe gx gae awhtl vpnve\n",
            "Decrypted: Meet me at the usual place\n"
          ]
        }
      ]
    },
    {
      "cell_type": "markdown",
      "source": [
        "## Security Advantages\n",
        "\n",
        "**Polyalphabetic cipher** is the technical term for a substitution cipher that uses multiple substitution alphabets, which is exactly what the Vigenère cipher does.\n",
        "\n",
        "The Vigenère cipher offers significant advantages over the Caesar cipher:\n",
        "\n",
        "1. **Multiple shift values** make simple frequency analysis ineffective\n",
        "2. **Keyword length** determines the complexity - longer keywords provide better security\n",
        "3. The same letter in the plaintext can be encrypted to **different letters** in the ciphertext\n",
        "\n",
        "While still vulnerable to more advanced cryptanalysis techniques, the Vigenère cipher represents an important step in the evolution of encryption methods and introduces the crucial concept of using variable keys rather than fixed ones."
      ],
      "metadata": {
        "id": "XzC8g1TB0jgL"
      }
    },
    {
      "cell_type": "markdown",
      "source": [
        "# Asymmetric Encryption: Public and Private Keys\n",
        "\n",
        "So far, we've studied symmetric encryption methods like the Caesar cipher and Vigenère cipher, where the same key is used for both encryption and decryption. Now let's explore **asymmetric encryption** (also called public-key cryptography), which uses different keys for encryption and decryption.\n",
        "\n",
        "Key principles of asymmetric encryption:\n",
        "\n",
        "* Uses a **key pair**: a public key and a private key\n",
        "* Messages encrypted with the public key can only be decrypted with the private key\n",
        "* The public key can be freely shared, while the private key must be kept secret\n",
        "* Solves the \"key exchange problem\" of symmetric encryption\n",
        "\n",
        "## How Asymmetric Encryption Works\n",
        "\n",
        "In asymmetric encryption, each person generates two mathematically related keys:\n",
        "\n",
        "* **Public key**: Shared openly with anyone who wants to send you encrypted messages\n",
        "* **Private key**: Kept secret and used to decrypt messages encrypted with your public key\n",
        "\n",
        "The fundamental property that makes this work is that it's computationally infeasible to derive the private key from the public key, even though they're mathematically related."
      ],
      "metadata": {
        "id": "UUa-RhUZ1x7x"
      }
    },
    {
      "cell_type": "code",
      "source": [
        "def generate_key_pair(first_prime, second_prime):\n",
        "    \"\"\"Return modulus (public key) and prime factors (private key).\"\"\"\n",
        "    modulus = first_prime * second_prime\n",
        "    private_primes = (first_prime, second_prime)\n",
        "    return modulus, private_primes\n",
        "\n",
        "def encrypt_message(plaintext, modulus):\n",
        "    \"\"\"**Encryption**: multiply each character’s code by the **modulus**.\"\"\"\n",
        "    return [ord(char) * modulus for char in plaintext]\n",
        "\n",
        "def decrypt_message(ciphertext, private_primes):\n",
        "    \"\"\"**Decryption**: recompute the **modulus** from your **private key** and divide.\"\"\"\n",
        "    first_prime, second_prime = private_primes\n",
        "    modulus = first_prime * second_prime\n",
        "    return ''.join(chr(value // modulus) for value in ciphertext)\n",
        "\n",
        "# === Demonstration ===\n",
        "# 1. Key generation\n",
        "modulus, private_primes = generate_key_pair(17, 23)\n",
        "print(\"Public key (modulus):\", modulus)\n",
        "print(\"Private key (primes):\", private_primes)\n",
        "\n",
        "# 2. Original message\n",
        "plaintext = \"For your eyes only\"\n",
        "print(\"Plaintext message:   \", plaintext)\n",
        "\n",
        "# 3. Encryption\n",
        "ciphertext = encrypt_message(plaintext, modulus)\n",
        "print(\"Ciphertext values:   \", ciphertext)\n",
        "\n",
        "# 4. Decryption\n",
        "recovered = decrypt_message(ciphertext, private_primes)\n",
        "print(\"Recovered message:   \", recovered)"
      ],
      "metadata": {
        "colab": {
          "base_uri": "https://localhost:8080/"
        },
        "id": "Bmz5Ta_h2G9B",
        "outputId": "98253d75-4e4f-42a3-f448-3a17d04df316"
      },
      "execution_count": null,
      "outputs": [
        {
          "output_type": "stream",
          "name": "stdout",
          "text": [
            "Public key (modulus): 391\n",
            "Private key (primes): (17, 23)\n",
            "Plaintext message:    For your eyes only\n",
            "Ciphertext values:    [27370, 43401, 44574, 12512, 47311, 43401, 45747, 44574, 12512, 39491, 47311, 39491, 44965, 12512, 43401, 43010, 42228, 47311]\n",
            "Recovered message:    For your eyes only\n"
          ]
        }
      ]
    },
    {
      "cell_type": "markdown",
      "source": [
        "> Note: The example above is a dramatic simplification to demonstrate the concept. Real asymmetric encryption algorithms like RSA use complex mathematics involving very large prime numbers.\n",
        "\n",
        "## Real-World Applications of Asymmetric Encryption\n",
        "\n",
        "Asymmetric encryption is used in many security systems:\n",
        "\n",
        "* **HTTPS**: Secures websites using TLS/SSL protocols\n",
        "* **SSH**: Secure remote access to servers\n",
        "* **Digital signatures**: Verifying the authenticity of messages or software\n",
        "* **Cryptocurrency**: Securing blockchain transactions\n",
        "* **Secure email**: Systems like PGP (Pretty Good Privacy)\n",
        "\n",
        "| Aspect | Symmetric Encryption | Asymmetric Encryption |\n",
        "|--------|----------------------|------------------------|\n",
        "| Keys | Same key used for encryption and decryption | Different keys for encryption and decryption |\n",
        "| Key exchange | Must securely share the key beforehand | Public key can be shared openly |\n",
        "| Speed | Fast, efficient for large data | Slower, typically used for small data or key exchange |\n",
        "| Example | Caesar cipher, AES | RSA, ECC |\n",
        "| Common uses | Bulk data encryption, file encryption | Key exchange, digital signatures, identity verification |\n",
        "\n",
        "**RSA** (Rivest–Shamir–Adleman) is one of the most widely used asymmetric encryption algorithms, based on the mathematical properties of large prime numbers.\n",
        "\n",
        "**Key exchange problem** refers to the challenge of securely sharing symmetric encryption keys between parties who want to communicate. Asymmetric encryption elegantly solves this problem.\n",
        "\n",
        "## Hybrid Encryption\n",
        "\n",
        "In practice, most modern cryptographic systems use a hybrid approach:\n",
        "\n",
        "1. Use asymmetric encryption to securely exchange a temporary symmetric key\n",
        "2. Use the symmetric key to encrypt the actual message data (faster for large amounts of data)\n",
        "3. Include a digital signature created with the sender's private key to verify authenticity\n",
        "\n",
        "This combines the security advantages of asymmetric encryption with the speed advantages of symmetric encryption.\n",
        "\n",
        "Asymmetric encryption represents a major advancement in cryptography that has enabled secure communication over insecure channels like the internet."
      ],
      "metadata": {
        "id": "BTBHhWtD3zpd"
      }
    },
    {
      "cell_type": "markdown",
      "source": [
        "# What is Hashing? One-Way Transformations\n",
        "\n",
        "## Understanding Hashing\n",
        "\n",
        "**Hashing** is a fundamental concept in cybersecurity that's quite different from encryption. While encryption is designed to be reversed (decrypted) with the right key, hashing is intentionally designed as a one-way process - you can convert input data into a hash, but you cannot convert the hash back to the original data.\n",
        "\n",
        "Think of hashing like cooking an egg. You can easily turn a raw egg into a fried egg, but you can't turn the fried egg back into a raw egg. The cooking process is one-way, just like hashing.\n",
        "\n",
        "## What Makes a Hash Function?\n",
        "\n",
        "A good hash function has several key characteristics:\n",
        "\n",
        "* **One-way transformation**: You can easily compute a hash from input data, but you cannot determine the original input from the hash\n",
        "* **Fixed output length**: Regardless of whether your input is a single letter or an entire novel, the output hash has the same length\n",
        "* **Deterministic**: The same input will always produce the same hash output\n",
        "* **Avalanche effect**: A small change in the input (even just one character) produces a completely different hash\n",
        "* **Collision resistance**: It should be very difficult to find two different inputs that produce the same hash\n",
        "\n",
        "## Everyday Examples of Hashing\n",
        "\n",
        "Hashing appears in many everyday scenarios:\n",
        "\n",
        "1. **Library card catalogs**: Books might be organized by taking the first few letters of the author's name and the title to create a unique identifier\n",
        "\n",
        "2. **Fingerprints**: Your fingerprint is essentially a \"hash\" of you - it's much smaller than your entire body but can uniquely identify you\n",
        "\n",
        "3. **Food processing**: When you grind meat, you cannot reconstruct the original cuts from the ground product\n",
        "\n",
        "## Digital Applications of Hashing\n",
        "\n",
        "In computing and cybersecurity, hashing serves several critical purposes:\n",
        "\n",
        "* **Password storage**: Websites store hashes of your passwords, not the actual passwords\n",
        "* **Data integrity**: Verify files haven't been tampered with by comparing their hashes\n",
        "* **Digital signatures**: Authenticate the sender of a message\n",
        "* **Data indexing**: Quickly find information in large databases\n",
        "\n",
        "## The Avalanche Effect\n",
        "\n",
        "One of the most important properties of hash functions is that a tiny change in the input causes a completely different output. Let's consider a simple example:\n",
        "\n",
        "* The hash of \"spy\" might be \"43a8f9\"\n",
        "* The hash of \"spz\" (just changing the last letter) might be \"91c2e7\"\n",
        "\n",
        "Notice how different the hashes are, despite only a single character difference in the input. This property makes hashing excellent for detecting even the smallest changes in data.\n",
        "\n",
        "## Collision Resistance\n",
        "\n",
        "While in theory many different inputs could produce the same hash (since there are infinite possible inputs but a finite number of possible hashes of a given length), good hash functions make finding such \"collisions\" extremely difficult.\n",
        "\n",
        "If you think of a hash function as mapping books to shelves in a library, a collision would be two different books assigned to the same shelf. Good hash functions spread books evenly across shelves, minimizing the chance of collisions.\n",
        "\n",
        "## Hashing vs. Encryption\n",
        "\n",
        "To understand the difference between hashing and encryption, consider this table:\n",
        "\n",
        "| Aspect | Hashing | Encryption |\n",
        "|--------|---------|------------|\n",
        "| Reversibility | One-way (cannot be reversed) | Two-way (can be decrypted) |\n",
        "| Purpose | Verification without revealing original data | Protecting data for later access |\n",
        "| Keys | No keys required (except for specialized variants) | Requires encryption/decryption keys |\n",
        "| Output | Fixed length regardless of input size | Output size related to input size |\n",
        "| Example use | Password storage | Secure messaging |\n",
        "\n",
        "## Basic Hashing Example\n",
        "\n",
        "Let's visualize a very basic hash function before we implement one. Imagine we have a simple rule:\n",
        "\n",
        "1. Convert each character to its numeric value\n",
        "2. Add all the values together\n",
        "3. Take the remainder when divided by 100\n",
        "\n",
        "Using this rule:\n",
        "* \"hello\" → (104 + 101 + 108 + 108 + 111) = 532 → 532 % 100 = 32\n",
        "* \"bye\" → (98 + 121 + 101) = 320 → 320 % 100 = 20\n",
        "\n",
        "This is a very basic hash, but it demonstrates the concept. Real hash functions are much more complex to provide better distribution and security properties.\n",
        "\n",
        "In the next section, we'll implement a simple hash function in Python to help visualize these principles."
      ],
      "metadata": {
        "id": "DpHcETTD4vVx"
      }
    },
    {
      "cell_type": "markdown",
      "source": [
        "# Building a Simple Hash Function: String to Number Transformation\n",
        "\n",
        "Now that we understand what hashing is conceptually, let's build a simple hash function in Python to see these principles in action. Our hash function will transform strings into fixed-length numeric values.\n",
        "\n",
        "## The Components of a Hash Function\n",
        "\n",
        "A hash function typically processes input data in chunks, gradually building up the final hash value. Let's examine the key components we'll need:\n",
        "\n",
        "1. **Initialization**: Start with an initial value\n",
        "2. **Character processing**: Process each character in the input string\n",
        "3. **Mixing operations**: Use mathematical operations to thoroughly mix the data\n",
        "4. **Modulo reduction**: Keep the hash value within a specified range\n",
        "\n",
        "## Implementing a Simple Hash Function\n",
        "\n",
        "Here's a basic implementation of a hash function that converts strings to numeric values:"
      ],
      "metadata": {
        "id": "QE164uaL43Uh"
      }
    },
    {
      "cell_type": "code",
      "source": [
        "def spy_hash(message, size=1000):\n",
        "    \"\"\"\n",
        "    A simple hash function for educational purposes\n",
        "\n",
        "    Parameters:\n",
        "    - message: The input string to hash\n",
        "    - size: The maximum hash value (modulus)\n",
        "\n",
        "    Returns:\n",
        "    - An integer hash between 0 and size-1\n",
        "    \"\"\"\n",
        "    # Start with a prime number as the initial hash value\n",
        "    hash_value = 17\n",
        "\n",
        "    # Process each character in the message\n",
        "    for char in message:\n",
        "        # Get ASCII value of the character\n",
        "        ascii_value = ord(char)\n",
        "\n",
        "        # Combine current hash with the character's ASCII value\n",
        "        # Multiply by another prime (31) to distribute values better\n",
        "        hash_value = (hash_value * 31 + ascii_value) % size\n",
        "\n",
        "    return hash_value\n"
      ],
      "metadata": {
        "id": "XylCezJu44CG"
      },
      "execution_count": null,
      "outputs": []
    },
    {
      "cell_type": "markdown",
      "source": [
        "Let's examine each component:\n",
        "\n",
        "1. We start with `17` (a prime number) as our initial hash value\n",
        "2. For each character, we get its ASCII value using `ord()`\n",
        "3. We multiply the current hash by `31` (a prime number commonly used in hash functions)\n",
        "4. We add the ASCII value of the current character\n",
        "5. We take the modulo with `size` to keep the hash within our desired range\n",
        "\n",
        "Notice how we multiply by 31 before adding the ASCII value. This ensures that the position of each character affects the final hash, not just its value. Prime numbers like 17 and 31 are commonly used in hash functions because they help ensure a good distribution of hash values.\n",
        "\n",
        "## Testing Our Hash Function\n",
        "\n",
        "Let's see how our function handles various inputs:"
      ],
      "metadata": {
        "id": "MNW1_kkP48zO"
      }
    },
    {
      "cell_type": "code",
      "source": [
        "# Test with agent codenames\n",
        "agent_codes = [\"Agent007\", \"SecretSquirrel\", \"BlackWidow\", \"WinterSoldier\"]\n",
        "print(\"Hash values:\")\n",
        "for code in agent_codes:\n",
        "    print(f\"'{code}': {spy_hash(code)}\")"
      ],
      "metadata": {
        "colab": {
          "base_uri": "https://localhost:8080/"
        },
        "id": "F9ATUI-y5APZ",
        "outputId": "f4ab8de1-0b78-406d-9c96-b5a9fc3a2ae5"
      },
      "execution_count": null,
      "outputs": [
        {
          "output_type": "stream",
          "name": "stdout",
          "text": [
            "Hash values:\n",
            "'Agent007': 843\n",
            "'SecretSquirrel': 386\n",
            "'BlackWidow': 916\n",
            "'WinterSoldier': 452\n"
          ]
        }
      ]
    },
    {
      "cell_type": "markdown",
      "source": [
        "## Demonstrating Hash Properties\n",
        "\n",
        "### 1. Deterministic Nature\n",
        "\n",
        "The same input always produces the same output:"
      ],
      "metadata": {
        "id": "2TrfSQgH5U-8"
      }
    },
    {
      "cell_type": "code",
      "source": [
        "message = \"TopSecret\"\n",
        "print(f\"\\nHash of '{message}': {spy_hash(message)}\")\n",
        "print(f\"Hash of '{message}' again: {spy_hash(message)}\")  # Same result"
      ],
      "metadata": {
        "colab": {
          "base_uri": "https://localhost:8080/"
        },
        "id": "nqCBACck5ZNR",
        "outputId": "f868af56-c5dc-42c0-85b1-f0a9dc96aa61"
      },
      "execution_count": null,
      "outputs": [
        {
          "output_type": "stream",
          "name": "stdout",
          "text": [
            "\n",
            "Hash of 'TopSecret': 308\n",
            "Hash of 'TopSecret' again: 308\n"
          ]
        }
      ]
    },
    {
      "cell_type": "markdown",
      "source": [
        "### 2. The Avalanche Effect\n",
        "\n",
        "Small changes in input produce significantly different hashes:"
      ],
      "metadata": {
        "id": "ZdwkAzKy5aWC"
      }
    },
    {
      "cell_type": "code",
      "source": [
        "message1 = \"Meet at the safe house\"\n",
        "message2 = \"Meet at the safe house.\"  # Added just a period\n",
        "\n",
        "print(f\"\\nAvalanche effect demonstration:\")\n",
        "print(f\"Hash of '{message1}': {spy_hash(message1)}\")\n",
        "print(f\"Hash of '{message2}': {spy_hash(message2)}\")  # Completely different"
      ],
      "metadata": {
        "colab": {
          "base_uri": "https://localhost:8080/"
        },
        "id": "ddi8Do5b5dNb",
        "outputId": "343e1e63-443a-4560-ffc9-c2335c53df4c"
      },
      "execution_count": null,
      "outputs": [
        {
          "output_type": "stream",
          "name": "stdout",
          "text": [
            "\n",
            "Avalanche effect demonstration:\n",
            "Hash of 'Meet at the safe house': 977\n",
            "Hash of 'Meet at the safe house.': 333\n"
          ]
        }
      ]
    },
    {
      "cell_type": "markdown",
      "source": [
        "### 3. Fixed Output Range\n",
        "\n",
        "Regardless of input length, the output remains within our specified range:"
      ],
      "metadata": {
        "id": "iaMO9aUZ5g3Q"
      }
    },
    {
      "cell_type": "code",
      "source": [
        "short_text = \"Hi\"\n",
        "long_text = \"This is a much longer message that contains detailed instructions for the covert operation scheduled for next Tuesday. The package will be delivered at exactly midnight near the old clock tower. Bring the usual verification codes and make sure you're not followed.\"\n",
        "\n",
        "print(f\"\\nFixed range demonstration:\")\n",
        "print(f\"Hash of short text: {spy_hash(short_text)}\")\n",
        "print(f\"Hash of long text: {spy_hash(long_text)}\")"
      ],
      "metadata": {
        "colab": {
          "base_uri": "https://localhost:8080/"
        },
        "id": "3kP1ZquX5jLV",
        "outputId": "a74c6937-67cd-461e-a4bc-d3c4e6e332e0"
      },
      "execution_count": null,
      "outputs": [
        {
          "output_type": "stream",
          "name": "stdout",
          "text": [
            "\n",
            "Fixed range demonstration:\n",
            "Hash of short text: 674\n",
            "Hash of long text: 40\n"
          ]
        }
      ]
    },
    {
      "cell_type": "markdown",
      "source": [
        "## Limitations of Simple Hash Functions\n",
        "\n",
        "While our hash functions demonstrate the basic principles, they have important limitations:\n",
        "\n",
        "1. **Poor distribution**: Hash values aren't evenly distributed\n",
        "2. **Weak avalanche effect**: Changes might not affect all output bits\n",
        "3. **Low collision resistance**: It's relatively easy to find inputs that hash to the same value\n",
        "4. **Security vulnerabilities**: Not resistant to cryptographic attacks\n",
        "\n",
        "For real security applications, always use established cryptographic hash functions from Python's `hashlib` module, which we'll explore later."
      ],
      "metadata": {
        "id": "qlVFBXIM5x2q"
      }
    },
    {
      "cell_type": "markdown",
      "source": [
        "# Practical Cybersecurity in Python: Protecting Sensitive Data\n",
        "\n",
        "In real-world applications, we need to protect two types of sensitive information:\n",
        "* **Passwords** - should be hashed (one-way transformation)\n",
        "* **Personal data** (like SSNs) - should be encrypted (reversible)\n",
        "\n",
        "Python makes both these tasks straightforward with its built-in libraries.\n",
        "\n",
        "## Hashing Passwords with SHA-256\n",
        "\n",
        "Passwords should never be stored as plain text. Instead, we use a hash function:"
      ],
      "metadata": {
        "id": "PDha4OFK7uh-"
      }
    },
    {
      "cell_type": "code",
      "source": [
        "import hashlib\n",
        "import os\n",
        "\n",
        "# Generate a random salt for security\n",
        "salt = os.urandom(16)  # 16 random bytes\n",
        "\n",
        "# Hash a password with the salt\n",
        "def hash_password(password):\n",
        "    # Convert password to bytes and combine with salt\n",
        "    salted_password = salt + password.encode()\n",
        "    # Create the hash\n",
        "    hash_object = hashlib.sha256(salted_password)\n",
        "    # Convert to hexadecimal string\n",
        "    password_hash = hash_object.hexdigest()\n",
        "    return password_hash\n",
        "\n",
        "# Example\n",
        "my_password = \"secret123\"\n",
        "hashed = hash_password(my_password)\n",
        "print(f\"Original: {my_password}\")\n",
        "print(f\"Hashed: {hashed}\")"
      ],
      "metadata": {
        "colab": {
          "base_uri": "https://localhost:8080/"
        },
        "id": "P3LmQcng7vUT",
        "outputId": "1d54e445-9d1c-4be4-e7a9-c5f52892169c"
      },
      "execution_count": null,
      "outputs": [
        {
          "output_type": "stream",
          "name": "stdout",
          "text": [
            "Original: secret123\n",
            "Hashed: b1849f65ae1d623a0d5c5359ab814a28394b7552b8bd06968ca590f064319be9\n"
          ]
        }
      ]
    },
    {
      "cell_type": "markdown",
      "source": [
        "This simple function:\n",
        "1. Adds random \"salt\" data to prevent identical passwords from having the same hash\n",
        "2. Uses SHA-256 (a secure hash algorithm) to create the hash\n",
        "3. Returns the hash as a hexadecimal string\n",
        "\n",
        "## Encrypting Sensitive Data\n",
        "\n",
        "For data we need to retrieve later (like SSNs), we use encryption instead of hashing:"
      ],
      "metadata": {
        "id": "ferU8dO77za9"
      }
    },
    {
      "cell_type": "code",
      "source": [
        "from cryptography.fernet import Fernet\n",
        "\n",
        "# Generate a secret key\n",
        "key = Fernet.generate_key()\n",
        "cipher = Fernet(key)\n",
        "\n",
        "# Encrypt data\n",
        "def encrypt_ssn(ssn):\n",
        "    encrypted = cipher.encrypt(ssn.encode())\n",
        "    return encrypted\n",
        "\n",
        "# Decrypt data\n",
        "def decrypt_ssn(encrypted_ssn):\n",
        "    decrypted = cipher.decrypt(encrypted_ssn)\n",
        "    return decrypted.decode()\n",
        "\n",
        "# Example\n",
        "my_ssn = \"123-45-6789\"\n",
        "encrypted_ssn = encrypt_ssn(my_ssn)\n",
        "print(f\"Original: {my_ssn}\")\n",
        "print(f\"Encrypted: {encrypted_ssn}\")\n",
        "print(f\"Decrypted: {decrypt_ssn(encrypted_ssn)}\")"
      ],
      "metadata": {
        "colab": {
          "base_uri": "https://localhost:8080/"
        },
        "id": "dN6SdYkb774m",
        "outputId": "845dae6e-750c-4cd5-b20b-55ef58112b88"
      },
      "execution_count": null,
      "outputs": [
        {
          "output_type": "stream",
          "name": "stdout",
          "text": [
            "Original: 123-45-6789\n",
            "Encrypted: b'gAAAAABoCjlK8EnhCBGkQ_JqqxO8zIOvPDTcFEDUDpl6oeGl9ROK17KEI_59auHtMl1c5g4O0zZEC8pKpPADHgF_UqfhGvkXoA=='\n",
            "Decrypted: 123-45-6789\n"
          ]
        }
      ]
    },
    {
      "cell_type": "markdown",
      "source": [
        "The `Fernet` class provides simple but secure encryption using AES-128.\n",
        "\n",
        "## Storing User Data Securely\n",
        "\n",
        "Now let's combine these techniques to store user information in a JSON file:"
      ],
      "metadata": {
        "id": "8CxdoIWW8DGE"
      }
    },
    {
      "cell_type": "code",
      "source": [
        "import json\n",
        "\n",
        "# Function to register a new user\n",
        "def register_user():\n",
        "    # Get user information\n",
        "    username = input(\"Enter username: \")\n",
        "    password = input(\"Enter password: \")\n",
        "    ssn = input(\"Enter SSN (xxx-xx-xxxx): \")\n",
        "\n",
        "    # Load existing users\n",
        "    users = {}\n",
        "    if os.path.exists(\"users.json\"):\n",
        "        with open(\"users.json\", \"r\") as f:\n",
        "            users = json.load(f)\n",
        "\n",
        "    # Check if username already exists\n",
        "    if username in users:\n",
        "        print(\"Username already exists!\")\n",
        "        return\n",
        "\n",
        "    # has the password using our function\n",
        "    password_hash = hash_password(password)\n",
        "\n",
        "    # Encrypt the SSN\n",
        "    encrypted_ssn = cipher.encrypt(ssn.encode()).decode()\n",
        "\n",
        "    # Store user data\n",
        "    users[username] = {\n",
        "        \"salt\": salt.hex(),\n",
        "        \"password_hash\": password_hash,\n",
        "        \"encrypted_ssn\": encrypted_ssn\n",
        "    }\n",
        "\n",
        "    # Save to file\n",
        "    with open(\"users.json\", \"w\") as f:\n",
        "        json.dump(users, f, indent=2)\n",
        "\n",
        "    print(f\"User {username} registered successfully!\")\n",
        "\n",
        "register_user()"
      ],
      "metadata": {
        "id": "-xZa5PmQ8BJt"
      },
      "execution_count": null,
      "outputs": []
    },
    {
      "cell_type": "markdown",
      "source": [],
      "metadata": {
        "id": "fMQG7oiF-Gkb"
      }
    },
    {
      "cell_type": "markdown",
      "source": [
        "If you run the above program, and enter a user, you should see that the resuling JSON file looks something like this:\n",
        "\n",
        "\n",
        "```javascript\n",
        "{\n",
        "  \"Smiley\": {    // Record for username \"Smiley\"\n",
        "    \"salt\": \"a6e8456a13fed9ec6727d9a4b3735373\",\n",
        "    \"password_hash\": \"c4d5473405fb87b5dd54dd8857a8700977d8445338163b13ec0fcba03baa26fd\",\n",
        "    \"encrypted_ssn\": \"gAAAAABoCjq1YHb_YJmAAuldH6YGBEwz7tbIXg_NJ7OYYiLL6HwQP4A2QK23HWThRXCIVdhRaO5hgvG_ftwmaT9pNeRUOVB_bQ==\"\n",
        "  }\n",
        "}\n",
        "\n",
        "\n",
        "```"
      ],
      "metadata": {
        "id": "GQT_i1289ZoZ"
      }
    },
    {
      "cell_type": "code",
      "source": [
        "# View the file\n",
        "!cat users.json"
      ],
      "metadata": {
        "colab": {
          "base_uri": "https://localhost:8080/"
        },
        "id": "yY26_Ekl9FC-",
        "outputId": "0fc994ce-f6ea-43f9-b437-d4dfddef48bb"
      },
      "execution_count": null,
      "outputs": [
        {
          "output_type": "stream",
          "name": "stdout",
          "text": [
            "{\n",
            "  \"Smiley\": {\n",
            "    \"salt\": \"a6e8456a13fed9ec6727d9a4b3735373\",\n",
            "    \"password_hash\": \"c4d5473405fb87b5dd54dd8857a8700977d8445338163b13ec0fcba03baa26fd\",\n",
            "    \"encrypted_ssn\": \"gAAAAABoCjq1YHb_YJmAAuldH6YGBEwz7tbIXg_NJ7OYYiLL6HwQP4A2QK23HWThRXCIVdhRaO5hgvG_ftwmaT9pNeRUOVB_bQ==\"\n",
            "  },\n",
            "  \"TacoCat\": {\n",
            "    \"salt\": \"0e2e11bb15bd325cffd25a743ad358e2\",\n",
            "    \"password_hash\": \"eb59ded1794558a91a4451cb3ea1bcded365d092f29855317393f324fdcba64b\",\n",
            "    \"encrypted_ssn\": \"gAAAAABoCjv6SwMzgif6Uw-Ak6ugB5x-5fG6-kHlB4H_1bfnE1ReHAVhqkohi5gfWouqWPsvDjy5p0kDIu5tHMHMwX8781T3bQ==\"\n",
            "  },\n",
            "  \"brendan\": {\n",
            "    \"salt\": \"0e2e11bb15bd325cffd25a743ad358e2\",\n",
            "    \"password_hash\": \"bb51b702f1cbdecdcddb48be87f91908fdf895b5182cf458ff757965481200e4\",\n",
            "    \"encrypted_ssn\": \"gAAAAABoCjxKWUocUM_ip_WqAkpV1vM04ArgHq2x1XIgf3N6RdZMLZJ60FeUSlR-Rop8ogRTzKpOe31jDKHqSbPLVTT5e5WQQg==\"\n",
            "  }\n",
            "}"
          ]
        }
      ]
    },
    {
      "cell_type": "markdown",
      "source": [
        "# Introduction to Cybersecurity: Comprehensive Chapter Summary\n",
        "\n",
        "## Core Concepts and Real-World Relevance\n",
        "\n",
        "Cybersecurity is the practice of protecting systems, networks, and programs from digital attacks. As our lives become increasingly digital, understanding these concepts isn't just academic—it's essential for personal privacy, professional development, and societal well-being. Whether you're developing a mobile app, managing personal finances online, or simply browsing the web, cybersecurity principles affect your daily interactions with technology.\n",
        "\n",
        "### Text Representation in Computing Systems\n",
        "\n",
        "Before diving into security methods, understanding how computers store and process text is fundamental:\n",
        "\n",
        "- **ASCII (American Standard Code for Information Interchange)**\n",
        "  - 7-bit encoding limited to 128 characters\n",
        "  - Covers only English letters, numbers, and basic symbols\n",
        "  - Historically important but limited in global applications\n",
        "\n",
        "- **Unicode**\n",
        "  - Modern standard capable of representing characters from all writing systems\n",
        "  - Includes letters from all languages, mathematical symbols, emojis, etc.\n",
        "  - The foundation of modern text processing systems\n",
        "\n",
        "- **UTF-8 (Unicode Transformation Format 8-bit)**\n",
        "  - Variable-width encoding using 1-4 bytes per character\n",
        "  - ASCII characters remain efficient (1 byte)\n",
        "  - Non-English characters use 2-4 bytes\n",
        "  - The dominant encoding for web content and software\n",
        "\n",
        "Understanding these encoding systems helps explain how text-based attacks like injection work and why proper character handling is critical for security.\n",
        "\n",
        "## Mathematical Foundations of Cryptography\n",
        "\n",
        "Cryptography relies on several key mathematical operations:\n",
        "\n",
        "- **Modulo Operation (%)**\n",
        "  - Provides the remainder after division between two numbers\n",
        "  - Creates \"wrapping\" behavior essential for cipher algorithms\n",
        "  - Similar to how a clock wraps from 12 back to 1\n",
        "  - Example: Shifting 'Z' forward in the alphabet wraps back to 'A'\n",
        "\n",
        "- **Prime Numbers**\n",
        "  - Numbers greater than 1 only divisible by 1 and themselves\n",
        "  - The building blocks of advanced encryption systems like RSA\n",
        "  - Security of modern encryption relies on the difficulty of factoring large numbers\n",
        "  - When two large primes are multiplied, finding those original primes is computationally difficult\n",
        "\n",
        "- **Integer Division (//)**\n",
        "  - Returns only the whole number quotient\n",
        "  - Often used alongside modulo in cryptographic algorithms\n",
        "  - Helps break numbers into components for processing\n",
        "\n",
        "## Encryption Methods: From Ancient to Modern\n",
        "\n",
        "### Caesar Cipher\n",
        "This ancient method demonstrates fundamental encryption concepts:\n",
        "- Each letter shifts a fixed number of positions in the alphabet\n",
        "- The shift amount is the \"key\"\n",
        "- Formula: E(x) = (x + k) mod 26 for encryption\n",
        "- Formula: D(x) = (x - k) mod 26 for decryption\n",
        "- Extremely vulnerable due to limited key space (only 26 possible keys)\n",
        "- Susceptible to frequency analysis attacks\n",
        "\n",
        "While no longer secure, the Caesar cipher introduces the critical pattern of:\n",
        "1. Convert text to numeric form\n",
        "2. Apply mathematical transformation\n",
        "3. Convert back to text\n",
        "\n",
        "This pattern appears in virtually all encryption algorithms, including modern ones.\n",
        "\n",
        "### Vigenère Cipher\n",
        "An advancement over Caesar cipher that introduces key concepts:\n",
        "- Uses a keyword to determine multiple shift values\n",
        "- Letters repeat based on keyword length\n",
        "- More resistant to frequency analysis\n",
        "- Introduces the concept of polyalphabetic substitution\n",
        "- Demonstrates the importance of key length in security\n",
        "- Historically significant for introducing variable keys\n",
        "\n",
        "### Asymmetric Encryption\n",
        "Modern encryption relies on public-key cryptography:\n",
        "- Uses mathematically related but different keys for encryption and decryption\n",
        "- Public key (freely shared) encrypts messages; private key (kept secret) decrypts them\n",
        "- Based on mathematical problems that are easy in one direction but difficult to reverse\n",
        "- Solves the \"key exchange problem\" of symmetric encryption\n",
        "- Enables secure communication between parties who have never met\n",
        "\n",
        "### Real-World Applications of Encryption Methods\n",
        "\n",
        "| Method | Historical Context | Modern Applications | Security Level |\n",
        "|--------|-------------------|---------------------|---------------|\n",
        "| Caesar Cipher | Used by Julius Caesar for military messages (~100 BC) | Educational purposes, simple puzzles | Very Low |\n",
        "| Vigenère Cipher | Developed in the 16th century, considered unbreakable for 300 years | Educational purposes, very simple applications | Low |\n",
        "| Symmetric Encryption (AES) | Standardized in 2001 | File encryption, database security, session encryption | High (with proper implementation) |\n",
        "| Asymmetric Encryption (RSA, ECC) | Developed in the 1970s | HTTPS, digital signatures, cryptocurrencies, secure messaging | High |\n",
        "| Hybrid Systems | Became standard in the 1990s | TLS/SSL, secure messaging apps, VPNs | High |\n",
        "\n",
        "## Beyond Encryption: Hashing and Data Protection\n",
        "\n",
        "### Hashing: One-Way Transformations\n",
        "Unlike encryption, hashing is intentionally designed to be irreversible:\n",
        "- Converts input of any size to a fixed-length output\n",
        "- Same input always produces the same hash (deterministic)\n",
        "- Small changes in input produce dramatically different hashes (avalanche effect)\n",
        "- Primary uses include password storage, data integrity verification, and digital signatures\n",
        "- Passwords should never be stored in plain text or encrypted—they should be hashed\n",
        "\n",
        "Key properties of effective hash functions:\n",
        "- One-way transformation (cannot derive input from output)\n",
        "- Fixed output length regardless of input size\n",
        "- Deterministic (same input always produces same output)\n",
        "- Collision resistance (difficult to find two inputs that produce the same hash)\n",
        "- Avalanche effect (small input changes cause large output changes)\n",
        "\n",
        "### Real-World Security Best Practices\n",
        "\n",
        "- **Password Security**\n",
        "  - Use hashing (not encryption) for password storage\n",
        "  - Always add random \"salt\" to prevent identical passwords from having the same hash\n",
        "  - Use established algorithms like SHA-256 with proper implementation\n",
        "  - Consider using specialized password hashing functions (bcrypt, Argon2)\n",
        "\n",
        "- **Data Protection**\n",
        "  - Use encryption (not hashing) for data that needs to be retrieved\n",
        "  - Properly manage encryption keys\n",
        "  - Use established libraries rather than creating custom solutions\n",
        "  - Consider the sensitivity of data when choosing protection methods\n",
        "\n",
        "- **System Design**\n",
        "  - Security should be considered from the beginning, not added later\n",
        "  - Apply \"defense in depth\" with multiple security layers\n",
        "  - Regularly update and patch systems\n",
        "  - Test for vulnerabilities continuously\n",
        "\n",
        "### Everyday Applications\n",
        "The principles you've learned apply to your daily digital life:\n",
        "- Creating strong, unique passwords\n",
        "- Recognizing phishing attempts\n",
        "- Evaluating the security of websites and applications\n",
        "- Protecting personal data\n",
        "- Making informed decisions about security trade-offs\n",
        "\n",
        "## Conclusion\n",
        "\n",
        "Understanding cybersecurity fundamentals helps you write safer code, identify vulnerabilities, and protect sensitive information. As technology continues to evolve, these principles will remain relevant while specific implementations change. The mathematical and conceptual foundations you've learned in this chapter will serve as building blocks for more advanced security topics and provide a framework for evaluating new security challenges throughout your career.\n",
        "\n",
        "Remember that security isn't something added at the end of development—it should be considered from the very beginning of any project. By incorporating these principles into your programming practice early, you'll develop habits that naturally lead to more secure and robust systems."
      ],
      "metadata": {
        "id": "wDIL8N7LBgbo"
      }
    },
    {
      "cell_type": "markdown",
      "source": [
        "## Python Practice\n",
        "Here are some Python practice problems related to the chapter's content:"
      ],
      "metadata": {
        "id": "QkHI3vPcidg5"
      }
    },
    {
      "cell_type": "code",
      "source": [
        "!wget https://github.com/brendanpshea/computing_concepts_python/raw/main/python_code_quiz/pyquiz.py -q -nc\n",
        "from pyquiz import PracticeTool\n",
        "practice_tool = PracticeTool(json_url='https://github.com/brendanpshea/computing_concepts_python/raw/main/python_code_quiz/python_07_cyber.json')"
      ],
      "metadata": {
        "id": "cKiWosluijGX"
      },
      "execution_count": null,
      "outputs": []
    },
    {
      "cell_type": "markdown",
      "source": [
        "## Practice With Quizlet"
      ],
      "metadata": {
        "id": "9xwVxHIMWByC"
      }
    },
    {
      "cell_type": "code",
      "source": [
        "%%html\n",
        "<iframe src=\"https://quizlet.com/1043033391/learn/embed?i=psvlh&x=1jj1\" height=\"700\" width=\"100%\" style=\"border:0\"></iframe>"
      ],
      "metadata": {
        "id": "bM42FKQ4WDri",
        "outputId": "6625f58c-8744-4f7f-804b-e1393b50cc18",
        "colab": {
          "base_uri": "https://localhost:8080/",
          "height": 721
        }
      },
      "execution_count": null,
      "outputs": [
        {
          "output_type": "display_data",
          "data": {
            "text/plain": [
              "<IPython.core.display.HTML object>"
            ],
            "text/html": [
              "<iframe src=\"https://quizlet.com/1043033391/learn/embed?i=psvlh&x=1jj1\" height=\"700\" width=\"100%\" style=\"border:0\"></iframe>\n"
            ]
          },
          "metadata": {}
        }
      ]
    },
    {
      "cell_type": "markdown",
      "source": [
        "## Glossary\n",
        "\n",
        "| Term | Definition |\n",
        "|------|------------|\n",
        "| Cybersecurity | The practice of protecting systems, networks, and programs from digital attacks, essential for personal privacy and professional development. |\n",
        "| ASCII | A 7-bit encoding system limited to 128 characters, covering only English letters, numbers, and basic symbols. |\n",
        "| Unicode | A modern standard capable of representing characters from all writing systems worldwide, including letters from all languages, mathematical symbols, and emojis. |\n",
        "| UTF-8 | A variable-width encoding that uses between 1-4 bytes per character, with ASCII characters using just 1 byte for efficiency. |\n",
        "| ord() | Python function that returns the numeric Unicode value of a given character. |\n",
        "| chr() | Python function that converts a numeric code back to a character. |\n",
        "| Modulo Operation (%) | Returns the remainder after division between two numbers, creating \"wrapping\" behavior essential for cipher algorithms. |\n",
        "| Integer Division (//) | Returns only the whole number quotient without the remainder, often used alongside modulo in cryptographic algorithms. |\n",
        "| Substitution Cipher | A method of encryption where units of plaintext are replaced with ciphertext according to a fixed system. |\n",
        "| Caesar Cipher | An ancient encryption method where each letter shifts a fixed number of positions in the alphabet, with the shift amount being the \"key\". |\n",
        "| Key Space | The total number of possible keys that can be used in an encryption system. |\n",
        "| Cryptanalysis | The study of analyzing information systems to examine hidden aspects, including breaking encryption methods. |\n",
        "| Frequency Analysis | A technique used to break substitution ciphers by examining the frequency of letters or groups of letters in encrypted text. |\n",
        "| Vigenère Cipher | A polyalphabetic substitution cipher that uses a keyword to determine multiple shift values, making it more resistant to frequency analysis. |\n",
        "| Polyalphabetic Cipher | A substitution cipher that uses multiple substitution alphabets, typically determined by a keyword. |\n",
        "| Asymmetric Encryption | Encryption system using different keys for encryption (public key) and decryption (private key). |\n",
        "| RSA | One of the most widely used asymmetric encryption algorithms, based on the mathematical properties of large prime numbers. |\n",
        "| Key Exchange Problem | The challenge of securely sharing symmetric encryption keys between parties who want to communicate. |\n",
        "| Hashing | A one-way transformation process that converts input of any size to a fixed-length output that cannot be reversed. |\n",
        "| Avalanche Effect | The property where a small change in input produces a dramatically different hash output. |\n",
        "| Collision Resistance | The property of a hash function that makes it difficult to find two different inputs that produce the same hash output. |\n",
        "| Salt | Random data added to a password before hashing to prevent identical passwords from producing the same hash value. |\n",
        "| SHA-256 | A secure hash algorithm that creates a 256-bit (32-byte) hash value, commonly used for password hashing. |\n",
        "| Fernet | A class in Python's cryptography library that provides simple but secure encryption using AES-128. |\n",
        "| Defense in Depth | A security approach that uses multiple layers of security controls throughout a system. |\n"
      ],
      "metadata": {
        "id": "XX53CPh5722F"
      }
    },
    {
      "cell_type": "code",
      "source": [],
      "metadata": {
        "id": "jckRjTVMVp_s"
      },
      "execution_count": null,
      "outputs": []
    }
  ]
}