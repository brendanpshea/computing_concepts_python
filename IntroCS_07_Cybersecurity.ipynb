{
  "nbformat": 4,
  "nbformat_minor": 0,
  "metadata": {
    "colab": {
      "provenance": [],
      "authorship_tag": "ABX9TyMBcMdJ5oU8/ko1XCrZJTJR",
      "include_colab_link": true
    },
    "kernelspec": {
      "name": "python3",
      "display_name": "Python 3"
    },
    "language_info": {
      "name": "python"
    }
  },
  "cells": [
    {
      "cell_type": "markdown",
      "metadata": {
        "id": "view-in-github",
        "colab_type": "text"
      },
      "source": [
        "<a href=\"https://colab.research.google.com/github/brendanpshea/computing_concepts_python/blob/main/IntroCS_07_Cybersecurity.ipynb\" target=\"_parent\"><img src=\"https://colab.research.google.com/assets/colab-badge.svg\" alt=\"Open In Colab\"/></a>"
      ]
    },
    {
      "cell_type": "markdown",
      "source": [
        "# Introduction to Cybersecurity: Why Security Matters in Code\n",
        "\n",
        "Cybersecurity is the practice of protecting systems, networks, and programs from digital attacks. In today's interconnected world, nearly every aspect of our lives involves digital information that needs protection.\n",
        "\n",
        "As beginning programmers, understanding cybersecurity fundamentals will help you:\n",
        "\n",
        "* Write safer code that protects user data\n",
        "* Understand potential vulnerabilities in applications\n",
        "* Develop habits that prevent security breaches\n",
        "  * Validating user input\n",
        "  * Securing sensitive information\n",
        "  * Testing for common security flaws\n",
        "* Prepare for careers in an increasingly security-conscious industry\n",
        "\n",
        "**Cybersecurity** refers to the body of technologies, processes, and practices designed to protect networks, devices, programs, and data from attack, damage, or unauthorized access.\n",
        "\n",
        "**Malicious actors** are individuals or groups who attempt to exploit vulnerabilities in software and hardware for various purposes, including stealing data, causing disruption, or gaining unauthorized access to systems.\n",
        "\n",
        "Remember: Security isn't something added at the end of development—it should be considered from the very beginning of any project!"
      ],
      "metadata": {
        "id": "_TW7HMmjYRs8"
      }
    },
    {
      "cell_type": "markdown",
      "source": [
        "# Understanding Text in Python: Strings, Unicode, and ASCII\n",
        "\n",
        "Before we can work with cybersecurity concepts, we need to understand how computers store and process text. In Python, text is represented as **strings**, which are sequences of characters.\n",
        "\n",
        "Each character in a string is represented by a numeric code:\n",
        "\n",
        "* **ASCII** (American Standard Code for Information Interchange) is an older standard that uses 7 bits to represent 128 different characters\n",
        "  * Only includes English letters, numbers, and basic symbols\n",
        "  * Limited to characters used in English\n",
        "\n",
        "* **Unicode** is a modern standard that can represent virtually every character from all writing systems worldwide\n",
        "  * Includes characters from all languages, mathematical symbols, emojis, and more\n",
        "  * Python 3 uses Unicode for all strings by default\n",
        "\n",
        "* **UTF-8** (Unicode Transformation Format 8-bit) is the most common encoding for Unicode\n",
        "  * A variable-width encoding that uses between 1 and 4 bytes per character\n",
        "  * ASCII characters use just 1 byte (efficient for English text)\n",
        "  * Characters from other languages use 2-4 bytes\n",
        "  * This makes UTF-8 both compact and universal\n",
        "  * It's the dominant encoding for the web and most software"
      ],
      "metadata": {
        "id": "sbaSCElCYeXT"
      }
    },
    {
      "cell_type": "code",
      "source": [
        "# Let's examine how UTF-8 uses different numbers of bytes per character\n",
        "for char in \"ABCйあ😎\":\n",
        "    char_bytes = char.encode('utf-8')\n",
        "    print(f\"Character: {char}, UTF-8 bytes: {char_bytes}, Length: {len(char_bytes)} bytes\")\n"
      ],
      "metadata": {
        "colab": {
          "base_uri": "https://localhost:8080/"
        },
        "id": "GQ68VR-uYfJT",
        "outputId": "a97154f6-258e-4f12-de15-2159970bfd94"
      },
      "execution_count": 3,
      "outputs": [
        {
          "output_type": "stream",
          "name": "stdout",
          "text": [
            "Character: A, UTF-8 bytes: b'A', Length: 1 bytes\n",
            "Character: B, UTF-8 bytes: b'B', Length: 1 bytes\n",
            "Character: C, UTF-8 bytes: b'C', Length: 1 bytes\n",
            "Character: й, UTF-8 bytes: b'\\xd0\\xb9', Length: 2 bytes\n",
            "Character: あ, UTF-8 bytes: b'\\xe3\\x81\\x82', Length: 3 bytes\n",
            "Character: 😎, UTF-8 bytes: b'\\xf0\\x9f\\x98\\x8e', Length: 4 bytes\n"
          ]
        }
      ]
    },
    {
      "cell_type": "markdown",
      "source": [
        "Here's how characters map to their numeric values:\n",
        "\n",
        "| Character | ASCII Value | Unicode Value (decimal) |\n",
        "|-----------|-------------|-------------------------|\n",
        "| 'A'       | 65          | 65                      |\n",
        "| 'B'       | 66          | 66                      |\n",
        "| 'Z'       | 90          | 90                      |\n",
        "| 'a'       | 97          | 97                      |\n",
        "| 'z'       | 122         | 122                     |\n",
        "| '!'       | 33          | 33                      |\n",
        "| 'й' (Cyrillic) | N/A (not in ASCII) | 1081       |\n",
        "| '東' (Japanese) | N/A (not in ASCII) | 26481      |\n",
        "\n",
        "Let's explore working with character codes in Python:"
      ],
      "metadata": {
        "id": "qqqHPWtnZ0Sl"
      }
    },
    {
      "cell_type": "code",
      "source": [
        "# Working with character codes - Spy Communication System Basics\n",
        "\n",
        "# The ord() function gets the numeric value of a character\n",
        "print(\"Character to code conversion:\")\n",
        "print(f\"The code for 'A' is: {ord('A')}\")\n",
        "print(f\"The code for 'a' is: {ord('a')}\")\n",
        "print(f\"The code for '!' is: {ord('!')} \\n\")\n"
      ],
      "metadata": {
        "colab": {
          "base_uri": "https://localhost:8080/"
        },
        "id": "6ExRM8GAZ9zg",
        "outputId": "7a1312f3-36cb-4359-8d2c-62883e3d8b83"
      },
      "execution_count": 6,
      "outputs": [
        {
          "output_type": "stream",
          "name": "stdout",
          "text": [
            "Character to code conversion:\n",
            "The code for 'A' is: 65\n",
            "The code for 'a' is: 97\n",
            "The code for '!' is: 33 \n",
            "\n"
          ]
        }
      ]
    },
    {
      "cell_type": "code",
      "source": [
        "\n",
        "# The chr() function converts a numeric code back to a character\n",
        "print(\"Code to character conversion:\")\n",
        "print(f\"The character for code 77 is: {chr(77)}\")  # M\n",
        "print(f\"The character for code 105 is: {chr(105)}\")  # i\n",
        "print(f\"The character for code 54 is: {chr(54)} \\n\")  # 6\n"
      ],
      "metadata": {
        "colab": {
          "base_uri": "https://localhost:8080/"
        },
        "id": "t-BLW6nSaGII",
        "outputId": "52a292d0-ca05-4600-87f6-2cbbe724d653"
      },
      "execution_count": 7,
      "outputs": [
        {
          "output_type": "stream",
          "name": "stdout",
          "text": [
            "Code to character conversion:\n",
            "The character for code 77 is: M\n",
            "The character for code 105 is: i\n",
            "The character for code 54 is: 6 \n",
            "\n"
          ]
        }
      ]
    },
    {
      "cell_type": "code",
      "source": [
        "# A spy might examine a message character by character\n",
        "secret_codename = \"Agent007\"\n",
        "print(f\"Examining codename: {secret_codename}\")\n",
        "for char in secret_codename:\n",
        "    print(f\"Character: {char}, Code: {ord(char)}\")"
      ],
      "metadata": {
        "colab": {
          "base_uri": "https://localhost:8080/"
        },
        "id": "_iHHF5BmaB5W",
        "outputId": "1eacc58f-d392-4dab-f238-eba12ccea878"
      },
      "execution_count": 5,
      "outputs": [
        {
          "output_type": "stream",
          "name": "stdout",
          "text": [
            "Examining codename: Agent007\n",
            "Character: A, Code: 65\n",
            "Character: g, Code: 103\n",
            "Character: e, Code: 101\n",
            "Character: n, Code: 110\n",
            "Character: t, Code: 116\n",
            "Character: 0, Code: 48\n",
            "Character: 0, Code: 48\n",
            "Character: 7, Code: 55\n"
          ]
        }
      ]
    },
    {
      "cell_type": "markdown",
      "source": [
        "# Essential String Methods for Cryptography\n",
        "\n",
        "Python's built-in string methods provide powerful tools for manipulating text, which will be essential for our cybersecurity work. Let's explore some key methods through examples:\n",
        "\n",
        "* **upper()** and **lower()**: Convert text to uppercase or lowercase\n",
        "  * Useful for normalizing text\n",
        "  * Example: `\"Secret\".upper()` returns `\"SECRET\"`\n",
        "\n",
        "* **join()**: Combines a list of strings with a specified separator\n",
        "  * Great for reassembling processed characters\n",
        "  * Example: `\"-\".join(['C', 'I', 'A'])` returns `\"C-I-A\"`\n",
        "\n",
        "* **split()**: Divides a string into a list based on a delimiter\n",
        "  * Helpful for breaking messages into processable chunks\n",
        "  * Example: `\"Operation Midnight\".split()` returns `['Operation', 'Midnight']`\n",
        "\n",
        "* **replace()**: Substitutes specified text with new text\n",
        "  * Essential for substitution operations\n",
        "  * Example: `\"Agent\".replace('A', '4')` returns `\"4gent\"`\n",
        "\n",
        "Let's explore these methods:"
      ],
      "metadata": {
        "id": "TFrhEADqavSJ"
      }
    },
    {
      "cell_type": "code",
      "source": [
        "# A classified message\n",
        "message = \"Meet Agent X at the Blue Parrot Cafe\"\n",
        "\n",
        "# 1. Converting case\n",
        "upper_message = message.upper()\n",
        "lower_message = message.lower()\n",
        "\n",
        "print(\"Original message:\", message)\n",
        "print(\"Uppercase:\", upper_message)\n",
        "print(\"Lowercase:\", lower_message)"
      ],
      "metadata": {
        "colab": {
          "base_uri": "https://localhost:8080/"
        },
        "id": "9z8VJC6ra7Sy",
        "outputId": "b8e5e234-11d2-474c-d20b-2cf5ee75292f"
      },
      "execution_count": 8,
      "outputs": [
        {
          "output_type": "stream",
          "name": "stdout",
          "text": [
            "Original message: Meet Agent X at the Blue Parrot Cafe\n",
            "Uppercase: MEET AGENT X AT THE BLUE PARROT CAFE\n",
            "Lowercase: meet agent x at the blue parrot cafe\n"
          ]
        }
      ]
    },
    {
      "cell_type": "code",
      "source": [
        "# 2. Splitting strings\n",
        "words = message.split()\n",
        "print(\"\\nSplit into words:\", words)\n",
        "print(\"Number of words:\", len(words))\n",
        "\n",
        "# Split by a specific character\n",
        "parts = message.split('a')\n",
        "print(\"Split by 'a':\", parts)"
      ],
      "metadata": {
        "colab": {
          "base_uri": "https://localhost:8080/"
        },
        "id": "mVF1BQk2bC-p",
        "outputId": "4f162bfa-88e9-4450-dc16-1ed7305c5c38"
      },
      "execution_count": 9,
      "outputs": [
        {
          "output_type": "stream",
          "name": "stdout",
          "text": [
            "\n",
            "Split into words: ['Meet', 'Agent', 'X', 'at', 'the', 'Blue', 'Parrot', 'Cafe']\n",
            "Number of words: 8\n",
            "Split by 'a': ['Meet Agent X ', 't the Blue P', 'rrot C', 'fe']\n"
          ]
        }
      ]
    },
    {
      "cell_type": "code",
      "source": [
        "# 3. Joining strings\n",
        "code_name = ['S', 'P', 'E', 'C', 'T', 'R', 'E']\n",
        "joined_name = \"\".join(code_name)\n",
        "print(\"\\nJoined characters:\", joined_name)\n",
        "\n",
        "# Join with a separator\n",
        "dash_name = \"-\".join(code_name)\n",
        "print(\"Joined with dashes:\", dash_name)"
      ],
      "metadata": {
        "colab": {
          "base_uri": "https://localhost:8080/"
        },
        "id": "57SSgMCrbFKP",
        "outputId": "05ce5d92-a9ed-45e1-a9ae-3cccbb78467c"
      },
      "execution_count": 10,
      "outputs": [
        {
          "output_type": "stream",
          "name": "stdout",
          "text": [
            "\n",
            "Joined characters: SPECTRE\n",
            "Joined with dashes: S-P-E-C-T-R-E\n"
          ]
        }
      ]
    },
    {
      "cell_type": "code",
      "source": [
        "# 4. Replacing text\n",
        "redacted = message.replace(\"Agent X\", \"[REDACTED]\")\n",
        "print(\"\\nRedacted message:\", redacted)\n",
        "\n",
        "# Multiple replacements can be chained\n",
        "coded = message.replace('e', '3').replace('a', '4').replace('t', '7')\n",
        "print(\"Basic letter substitution:\", coded)"
      ],
      "metadata": {
        "colab": {
          "base_uri": "https://localhost:8080/"
        },
        "id": "9Zw0kSgfbJOx",
        "outputId": "623fa07f-05e6-4615-a9e9-184d52dc115f"
      },
      "execution_count": 11,
      "outputs": [
        {
          "output_type": "stream",
          "name": "stdout",
          "text": [
            "\n",
            "Redacted message: Meet [REDACTED] at the Blue Parrot Cafe\n",
            "Basic letter substitution: M337 Ag3n7 X 47 7h3 Blu3 P4rro7 C4f3\n"
          ]
        }
      ]
    },
    {
      "cell_type": "markdown",
      "source": [
        "**String immutability** means that strings cannot be modified after creation - operations create new strings instead. This is why we need to capture the result when using these methods:\n"
      ],
      "metadata": {
        "id": "j6ZKxm8Gbi0k"
      }
    },
    {
      "cell_type": "code",
      "source": [
        "# Demonstrating string immutability\n",
        "codename = \"SKYFALL\"\n",
        "print(f\"Original codename: {codename}\")\n",
        "\n",
        "# This doesn't change codename!\n",
        "codename.replace('S', '$')\n",
        "print(f\"After replace without assignment: {codename}\")  # Still \"SKYFALL\""
      ],
      "metadata": {
        "colab": {
          "base_uri": "https://localhost:8080/"
        },
        "id": "RNmFDJBsbnxE",
        "outputId": "595452df-ab9a-4cba-9fd7-eb65d54897c6"
      },
      "execution_count": 14,
      "outputs": [
        {
          "output_type": "stream",
          "name": "stdout",
          "text": [
            "Original codename: SKYFALL\n",
            "After replace without assignment: SKYFALL\n"
          ]
        }
      ]
    },
    {
      "cell_type": "code",
      "source": [
        "\n",
        "# This works because we create a new string and reassign\n",
        "codename = codename.replace('S', '$')\n",
        "print(f\"After replace with assignment: {codename}\")  # Now \"$KYFALL\""
      ],
      "metadata": {
        "colab": {
          "base_uri": "https://localhost:8080/"
        },
        "id": "wDPo9fSSbyHv",
        "outputId": "04671c77-c106-4183-cfe5-dd23c4d06e8f"
      },
      "execution_count": 15,
      "outputs": [
        {
          "output_type": "stream",
          "name": "stdout",
          "text": [
            "After replace with assignment: $KYFALL\n"
          ]
        }
      ]
    },
    {
      "cell_type": "markdown",
      "source": [
        "These string methods provide the building blocks for text manipulation that we'll use in more complex cryptographic operations later."
      ],
      "metadata": {
        "id": "DNiYZGXMb7pa"
      }
    },
    {
      "cell_type": "markdown",
      "source": [
        "# Math Operations in Python: The Building Blocks of Encryption\n",
        "\n",
        "Before we can design encryption algorithms, we need to understand the mathematical operations that make them work. Cryptography relies on several fundamental mathematical concepts that we'll explore in this section. These concepts might seem simple at first, but they form the cornerstone of even the most sophisticated encryption systems used today.\n",
        "\n",
        "## The Modulo Operation (%)\n",
        "\n",
        "The **modulo operation** is perhaps the most important mathematical concept in basic cryptography. It gives us the remainder after division between two numbers. This might sound simple, but it allows us to create \"wrapping\" behavior that's essential for many ciphers.\n",
        "\n",
        "When we write `a % b`, we're asking \"what's the remainder when a is divided by b?\" For example:"
      ],
      "metadata": {
        "id": "H2jTTVQtfGQ-"
      }
    },
    {
      "cell_type": "code",
      "source": [
        "# Basic modulo examples\n",
        "print(f\"5 % 3 = {5 % 3}\")\n",
        "print(f\"17 % 5 = {17 % 5}\")"
      ],
      "metadata": {
        "colab": {
          "base_uri": "https://localhost:8080/"
        },
        "id": "vkuXEmw3fJMF",
        "outputId": "5a9c44d7-7f6c-4a42-9903-53ed002684e8"
      },
      "execution_count": 16,
      "outputs": [
        {
          "output_type": "stream",
          "name": "stdout",
          "text": [
            "5 % 3 = 2\n",
            "17 % 5 = 2\n"
          ]
        }
      ]
    },
    {
      "cell_type": "markdown",
      "source": [
        "\n",
        "The modulo operation is similar to how a clock works. After we reach 12, we \"wrap around\" to 1 again. In mathematical terms, we're performing calculations in \"modulo 12\" on a clock.\n",
        "\n",
        "Imagine we're in a spy movie where agents need to schedule a meeting at a certain number of hours from now. If it's currently 9 o'clock and we need to meet 5 hours later, we'd calculate: (9 + 5) % 12 = 2 o'clock."
      ],
      "metadata": {
        "id": "b-0OhSxKfOFa"
      }
    },
    {
      "cell_type": "code",
      "source": [
        "# Clock arithmetic example\n",
        "current_hour = 9\n",
        "hours_to_add = 5\n",
        "meeting_time = (current_hour + hours_to_add) % 12\n",
        "# If result is 0, it means 12 o'clock\n",
        "meeting_time = 12 if meeting_time == 0 else meeting_time\n",
        "print(f\"Meeting time: {meeting_time} o'clock\")  # 2 o'clock"
      ],
      "metadata": {
        "colab": {
          "base_uri": "https://localhost:8080/"
        },
        "id": "2HUrpV92fQOw",
        "outputId": "f3401a09-5631-4e11-8943-812b95793447"
      },
      "execution_count": 17,
      "outputs": [
        {
          "output_type": "stream",
          "name": "stdout",
          "text": [
            "Meeting time: 2 o'clock\n"
          ]
        }
      ]
    },
    {
      "cell_type": "markdown",
      "source": [
        "This wrapping behavior is crucial for our encryption algorithms, especially when we need to shift letters and wrap around the alphabet. When we shift 'Z' forward, we need to wrap back to 'A', just like hours on a clock.\n",
        "\n",
        "## Integer Division (//)\n",
        "\n",
        "While regular division (/) gives us a decimal result, **integer division** (//) gives us only the whole number quotient, discarding any remainder. This is useful when we want to know how many complete units exist without caring about fractional parts.\n",
        "\n",
        "Integer division and modulo are complementary operations: division tells us how many times one number fits completely into another, while modulo tells us what's left over."
      ],
      "metadata": {
        "id": "looaFsopfTdX"
      }
    },
    {
      "cell_type": "markdown",
      "source": [
        "\n",
        "In cryptography, integer division is often used alongside modulo to break numbers into components. For instance, when working with large numbers in advanced encryption, we might need to split them into blocks of a certain size.\n",
        "\n",
        "## Prime Numbers in Cryptography\n",
        "\n",
        "**Prime numbers** are integers greater than 1 that are only divisible by 1 and themselves. Examples include 2, 3, 5, 7, 11, and 13. What makes prime numbers special for cryptography is how they behave when multiplied together.\n",
        "\n",
        "When two prime numbers are multiplied, the result can only be factored back into those original primes. This property becomes extremely important in advanced encryption like RSA, where security relies on the difficulty of factoring large numbers back into their prime components.\n",
        "\n",
        "While we won't implement advanced prime-based cryptography in this course, understanding the significance of primes provides insight into why modern encryption is secure. Even with the world's fastest computers, factoring very large numbers (300+ digits) into their prime components remains computationally infeasible.\n",
        "\n",
        "## Combining Operations for Character Transformations\n",
        "\n",
        "In cryptography, we often convert characters to their numeric codes, perform mathematical operations on those codes, and then convert back to characters. The operations we've discussed are perfect for this.\n",
        "\n",
        "Consider a simple transformation where we want to shift the letter 'A' forward by 3 positions to get 'D':\n",
        "\n",
        "1. Convert 'A' to its ASCII value: 65\n",
        "2. Add the shift value: 65 + 3 = 68\n",
        "3. Convert the result back to a character: chr(68) = 'D'\n",
        "\n",
        "But what if we shift 'Z' (ASCII 90) forward by 3? We'd get ASCII 93, which isn't a standard English letter. This is where modulo helps us wrap around the alphabet:\n",
        "\n",
        "1. Convert 'Z' to its position in the alphabet: 25 (where A=0, B=1, ..., Z=25)\n",
        "2. Add the shift: 25 + 3 = 28\n",
        "3. Apply modulo to wrap around: 28 % 26 = 2\n",
        "4. Convert position 2 back to a letter: 'C'\n",
        "\n",
        "This small example demonstrates how we'll combine these mathematical operations to create encryption algorithms in the coming sections.\n",
        "\n",
        "| Operation | Symbol | Example | Result | Use in Cryptography |\n",
        "|-----------|--------|---------|--------|---------------------|\n",
        "| Addition | `+` | `5 + 3` | `8` | Shifting characters forward |\n",
        "| Subtraction | `-` | `10 - 7` | `3` | Shifting characters backward |\n",
        "| Modulo | `%` | `17 % 5` | `2` | Wrapping around the alphabet |\n",
        "| Integer Division | `//` | `17 // 5` | `3` | Breaking numbers into blocks |\n",
        "| Exponentiation | `**` | `2 ** 3` | `8` | Used in advanced encryption |\n",
        "\n",
        "**Modular arithmetic** forms the mathematical foundation of many encryption techniques. By performing calculations within a fixed range and wrapping around when we exceed that range, we can create reversible transformations that are perfect for encoding and decoding messages.\n",
        "\n",
        "In the next sections, we'll apply these mathematical principles to implement our first encryption algorithm: the Caesar cipher. This ancient technique will demonstrate how these simple operations can be combined to create a basic encryption system."
      ],
      "metadata": {
        "id": "l6UGdSiuferK"
      }
    },
    {
      "cell_type": "code",
      "source": [
        "print(f\"7 / 2 = {7 / 2}\")        print(f\"7 // 2 = {7 // 2}\")"
      ],
      "metadata": {
        "colab": {
          "base_uri": "https://localhost:8080/"
        },
        "id": "Mkk1n4DefVyb",
        "outputId": "5a7a852c-f6df-4ce2-ebbb-779a4675376e"
      },
      "execution_count": 18,
      "outputs": [
        {
          "output_type": "stream",
          "name": "stdout",
          "text": [
            "7 / 2 = 3.5\n",
            "7 // 2 = 3\n"
          ]
        }
      ]
    }
  ]
}