{
  "nbformat": 4,
  "nbformat_minor": 0,
  "metadata": {
    "colab": {
      "provenance": [],
      "authorship_tag": "ABX9TyNOsjLgF1dZYYQQgrD9S1Na",
      "include_colab_link": true
    },
    "kernelspec": {
      "name": "python3",
      "display_name": "Python 3"
    },
    "language_info": {
      "name": "python"
    },
    "widgets": {
      "application/vnd.jupyter.widget-state+json": {
        "3a2535f2471646778025c687c4f1de0a": {
          "model_module": "@jupyter-widgets/controls",
          "model_name": "HBoxModel",
          "model_module_version": "1.5.0",
          "state": {
            "_dom_classes": [],
            "_model_module": "@jupyter-widgets/controls",
            "_model_module_version": "1.5.0",
            "_model_name": "HBoxModel",
            "_view_count": null,
            "_view_module": "@jupyter-widgets/controls",
            "_view_module_version": "1.5.0",
            "_view_name": "HBoxView",
            "box_style": "",
            "children": [
              "IPY_MODEL_5e08761886fc4766bad84be43b5795da",
              "IPY_MODEL_ded74dc2a570418f93771dd590c3c436"
            ],
            "layout": "IPY_MODEL_e4ec5acd80534a1997c9a6cf45141afc"
          }
        },
        "5e08761886fc4766bad84be43b5795da": {
          "model_module": "@jupyter-widgets/controls",
          "model_name": "VBoxModel",
          "model_module_version": "1.5.0",
          "state": {
            "_dom_classes": [],
            "_model_module": "@jupyter-widgets/controls",
            "_model_module_version": "1.5.0",
            "_model_name": "VBoxModel",
            "_view_count": null,
            "_view_module": "@jupyter-widgets/controls",
            "_view_module_version": "1.5.0",
            "_view_name": "VBoxView",
            "box_style": "",
            "children": [
              "IPY_MODEL_4453968477ac415d864d9df1e3b8b2a5",
              "IPY_MODEL_3b4b06ea441b4dc486c9dd62e3d99bee",
              "IPY_MODEL_3d729eb0864144098509c6b991329c50",
              "IPY_MODEL_747898c8850d46258f3fdf8a1d550c8a",
              "IPY_MODEL_5cf6d83c91e14685a514fa52ab6a3c09"
            ],
            "layout": "IPY_MODEL_541712d6eab147908fe1a81b8592086c"
          }
        },
        "ded74dc2a570418f93771dd590c3c436": {
          "model_module": "@jupyter-widgets/controls",
          "model_name": "VBoxModel",
          "model_module_version": "1.5.0",
          "state": {
            "_dom_classes": [],
            "_model_module": "@jupyter-widgets/controls",
            "_model_module_version": "1.5.0",
            "_model_name": "VBoxModel",
            "_view_count": null,
            "_view_module": "@jupyter-widgets/controls",
            "_view_module_version": "1.5.0",
            "_view_name": "VBoxView",
            "box_style": "",
            "children": [
              "IPY_MODEL_8efbc44717e040ab97d8ac4f56dfe2ee",
              "IPY_MODEL_05a8efa48560440f9a0b17243f7b9e00",
              "IPY_MODEL_16f4c0aadc624cdc8c86bc21ffbb5b56",
              "IPY_MODEL_6b73b813d56e458ea299b764eb3c8fc9",
              "IPY_MODEL_347f41abd73642f599518f39115e0c2e",
              "IPY_MODEL_3c36425aec804528ae70e4b14b61e24b"
            ],
            "layout": "IPY_MODEL_662fcc8280644819bfaee2e2cb699b21"
          }
        },
        "e4ec5acd80534a1997c9a6cf45141afc": {
          "model_module": "@jupyter-widgets/base",
          "model_name": "LayoutModel",
          "model_module_version": "1.2.0",
          "state": {
            "_model_module": "@jupyter-widgets/base",
            "_model_module_version": "1.2.0",
            "_model_name": "LayoutModel",
            "_view_count": null,
            "_view_module": "@jupyter-widgets/base",
            "_view_module_version": "1.2.0",
            "_view_name": "LayoutView",
            "align_content": null,
            "align_items": null,
            "align_self": null,
            "border": null,
            "bottom": null,
            "display": null,
            "flex": null,
            "flex_flow": null,
            "grid_area": null,
            "grid_auto_columns": null,
            "grid_auto_flow": null,
            "grid_auto_rows": null,
            "grid_column": null,
            "grid_gap": null,
            "grid_row": null,
            "grid_template_areas": null,
            "grid_template_columns": null,
            "grid_template_rows": null,
            "height": null,
            "justify_content": null,
            "justify_items": null,
            "left": null,
            "margin": null,
            "max_height": null,
            "max_width": null,
            "min_height": null,
            "min_width": null,
            "object_fit": null,
            "object_position": null,
            "order": null,
            "overflow": null,
            "overflow_x": null,
            "overflow_y": null,
            "padding": null,
            "right": null,
            "top": null,
            "visibility": null,
            "width": "100%"
          }
        },
        "4453968477ac415d864d9df1e3b8b2a5": {
          "model_module": "@jupyter-widgets/controls",
          "model_name": "IntProgressModel",
          "model_module_version": "1.5.0",
          "state": {
            "_dom_classes": [],
            "_model_module": "@jupyter-widgets/controls",
            "_model_module_version": "1.5.0",
            "_model_name": "IntProgressModel",
            "_view_count": null,
            "_view_module": "@jupyter-widgets/controls",
            "_view_module_version": "1.5.0",
            "_view_name": "ProgressView",
            "bar_style": "",
            "description": "Progress:",
            "description_tooltip": null,
            "layout": "IPY_MODEL_844094a69c3840aab49539b064fabb3d",
            "max": 20,
            "min": 0,
            "orientation": "horizontal",
            "style": "IPY_MODEL_7b913f1cd9dc4fd180e1b3bf37bfead5",
            "value": 0
          }
        },
        "3b4b06ea441b4dc486c9dd62e3d99bee": {
          "model_module": "@jupyter-widgets/output",
          "model_name": "OutputModel",
          "model_module_version": "1.0.0",
          "state": {
            "_dom_classes": [],
            "_model_module": "@jupyter-widgets/output",
            "_model_module_version": "1.0.0",
            "_model_name": "OutputModel",
            "_view_count": null,
            "_view_module": "@jupyter-widgets/output",
            "_view_module_version": "1.0.0",
            "_view_name": "OutputView",
            "layout": "IPY_MODEL_b1ce8179123f436bb58c3b79b1523e9b",
            "msg_id": "",
            "outputs": [
              {
                "output_type": "display_data",
                "data": {
                  "text/plain": "<IPython.core.display.HTML object>",
                  "text/html": "<h3>Question 1/20</h3><p>Write a function that counts the number of characters in a string. Return the count as an integer.</p>"
                },
                "metadata": {}
              }
            ]
          }
        },
        "3d729eb0864144098509c6b991329c50": {
          "model_module": "@jupyter-widgets/controls",
          "model_name": "TextareaModel",
          "model_module_version": "1.5.0",
          "state": {
            "_dom_classes": [
              "code-input"
            ],
            "_model_module": "@jupyter-widgets/controls",
            "_model_module_version": "1.5.0",
            "_model_name": "TextareaModel",
            "_view_count": null,
            "_view_module": "@jupyter-widgets/controls",
            "_view_module_version": "1.5.0",
            "_view_name": "TextareaView",
            "continuous_update": true,
            "description": "",
            "description_tooltip": null,
            "disabled": false,
            "layout": "IPY_MODEL_25159c31c76d4160b42b61e25dcd0d6a",
            "placeholder": "​",
            "rows": null,
            "style": "IPY_MODEL_2957d355079d48499126f41dc269ca05",
            "value": "def count_characters(text):\n    pass"
          }
        },
        "747898c8850d46258f3fdf8a1d550c8a": {
          "model_module": "@jupyter-widgets/controls",
          "model_name": "HBoxModel",
          "model_module_version": "1.5.0",
          "state": {
            "_dom_classes": [],
            "_model_module": "@jupyter-widgets/controls",
            "_model_module_version": "1.5.0",
            "_model_name": "HBoxModel",
            "_view_count": null,
            "_view_module": "@jupyter-widgets/controls",
            "_view_module_version": "1.5.0",
            "_view_name": "HBoxView",
            "box_style": "",
            "children": [
              "IPY_MODEL_9f11b3900090474fb8fe3dcf92e08432",
              "IPY_MODEL_4ea9ddfde4e54b54b863cc44abff648e",
              "IPY_MODEL_718c377ac7384a1890ba910ec7859672",
              "IPY_MODEL_c30e5d59f8894e968e9d53b65a0cfd66",
              "IPY_MODEL_2b985b80c6fd4a4182abc905d4f2357c"
            ],
            "layout": "IPY_MODEL_1b538e2421de4f048865ec1e5956d6b7"
          }
        },
        "5cf6d83c91e14685a514fa52ab6a3c09": {
          "model_module": "@jupyter-widgets/output",
          "model_name": "OutputModel",
          "model_module_version": "1.0.0",
          "state": {
            "_dom_classes": [],
            "_model_module": "@jupyter-widgets/output",
            "_model_module_version": "1.0.0",
            "_model_name": "OutputModel",
            "_view_count": null,
            "_view_module": "@jupyter-widgets/output",
            "_view_module_version": "1.0.0",
            "_view_name": "OutputView",
            "layout": "IPY_MODEL_6e5cd5f8dded4bfeb7507b789451f5b5",
            "msg_id": "",
            "outputs": []
          }
        },
        "541712d6eab147908fe1a81b8592086c": {
          "model_module": "@jupyter-widgets/base",
          "model_name": "LayoutModel",
          "model_module_version": "1.2.0",
          "state": {
            "_model_module": "@jupyter-widgets/base",
            "_model_module_version": "1.2.0",
            "_model_name": "LayoutModel",
            "_view_count": null,
            "_view_module": "@jupyter-widgets/base",
            "_view_module_version": "1.2.0",
            "_view_name": "LayoutView",
            "align_content": null,
            "align_items": null,
            "align_self": null,
            "border": null,
            "bottom": null,
            "display": null,
            "flex": null,
            "flex_flow": null,
            "grid_area": null,
            "grid_auto_columns": null,
            "grid_auto_flow": null,
            "grid_auto_rows": null,
            "grid_column": null,
            "grid_gap": null,
            "grid_row": null,
            "grid_template_areas": null,
            "grid_template_columns": null,
            "grid_template_rows": null,
            "height": null,
            "justify_content": null,
            "justify_items": null,
            "left": null,
            "margin": null,
            "max_height": null,
            "max_width": null,
            "min_height": null,
            "min_width": null,
            "object_fit": null,
            "object_position": null,
            "order": null,
            "overflow": null,
            "overflow_x": null,
            "overflow_y": null,
            "padding": null,
            "right": null,
            "top": null,
            "visibility": null,
            "width": "50%"
          }
        },
        "8efbc44717e040ab97d8ac4f56dfe2ee": {
          "model_module": "@jupyter-widgets/controls",
          "model_name": "HTMLModel",
          "model_module_version": "1.5.0",
          "state": {
            "_dom_classes": [],
            "_model_module": "@jupyter-widgets/controls",
            "_model_module_version": "1.5.0",
            "_model_name": "HTMLModel",
            "_view_count": null,
            "_view_module": "@jupyter-widgets/controls",
            "_view_module_version": "1.5.0",
            "_view_name": "HTMLView",
            "description": "",
            "description_tooltip": null,
            "layout": "IPY_MODEL_c56ebc665d0e42769413ebb38a43fa20",
            "placeholder": "​",
            "style": "IPY_MODEL_922c4f915e67451595e3a42c5e6ef7e3",
            "value": "<h3>Sample Inputs and Outputs</h3>"
          }
        },
        "05a8efa48560440f9a0b17243f7b9e00": {
          "model_module": "@jupyter-widgets/output",
          "model_name": "OutputModel",
          "model_module_version": "1.0.0",
          "state": {
            "_dom_classes": [],
            "_model_module": "@jupyter-widgets/output",
            "_model_module_version": "1.0.0",
            "_model_name": "OutputModel",
            "_view_count": null,
            "_view_module": "@jupyter-widgets/output",
            "_view_module_version": "1.0.0",
            "_view_name": "OutputView",
            "layout": "IPY_MODEL_d588db8369344f06abfd5ab116275dc1",
            "msg_id": "",
            "outputs": [
              {
                "output_type": "display_data",
                "data": {
                  "text/plain": "<IPython.core.display.HTML object>",
                  "text/html": "<table border=\"1\" class=\"dataframe\">\n  <thead>\n    <tr style=\"text-align: right;\">\n      <th>Input</th>\n      <th>Output</th>\n    </tr>\n  </thead>\n  <tbody>\n    <tr>\n      <td>['The name is Bond, James Bond']</td>\n      <td>28</td>\n    </tr>\n    <tr>\n      <td>['Agent 007 has been compromised']</td>\n      <td>30</td>\n    </tr>\n    <tr>\n      <td>['Your mission, should you choose to accept it']</td>\n      <td>44</td>\n    </tr>\n  </tbody>\n</table>"
                },
                "metadata": {}
              }
            ]
          }
        },
        "16f4c0aadc624cdc8c86bc21ffbb5b56": {
          "model_module": "@jupyter-widgets/controls",
          "model_name": "HTMLModel",
          "model_module_version": "1.5.0",
          "state": {
            "_dom_classes": [],
            "_model_module": "@jupyter-widgets/controls",
            "_model_module_version": "1.5.0",
            "_model_name": "HTMLModel",
            "_view_count": null,
            "_view_module": "@jupyter-widgets/controls",
            "_view_module_version": "1.5.0",
            "_view_name": "HTMLView",
            "description": "",
            "description_tooltip": null,
            "layout": "IPY_MODEL_a988a85954cc4b0b931a58fd0dd60a07",
            "placeholder": "​",
            "style": "IPY_MODEL_d225a3eafdb143b2822383c93e84fde6",
            "value": "<h3>Results</h3>"
          }
        },
        "6b73b813d56e458ea299b764eb3c8fc9": {
          "model_module": "@jupyter-widgets/output",
          "model_name": "OutputModel",
          "model_module_version": "1.0.0",
          "state": {
            "_dom_classes": [],
            "_model_module": "@jupyter-widgets/output",
            "_model_module_version": "1.0.0",
            "_model_name": "OutputModel",
            "_view_count": null,
            "_view_module": "@jupyter-widgets/output",
            "_view_module_version": "1.0.0",
            "_view_name": "OutputView",
            "layout": "IPY_MODEL_02055de3c0444dc7af4d3e9948e06e8a",
            "msg_id": "",
            "outputs": []
          }
        },
        "347f41abd73642f599518f39115e0c2e": {
          "model_module": "@jupyter-widgets/controls",
          "model_name": "HTMLModel",
          "model_module_version": "1.5.0",
          "state": {
            "_dom_classes": [],
            "_model_module": "@jupyter-widgets/controls",
            "_model_module_version": "1.5.0",
            "_model_name": "HTMLModel",
            "_view_count": null,
            "_view_module": "@jupyter-widgets/controls",
            "_view_module_version": "1.5.0",
            "_view_name": "HTMLView",
            "description": "",
            "description_tooltip": null,
            "layout": "IPY_MODEL_a7fbec91cbc040479dc3b3104b662379",
            "placeholder": "​",
            "style": "IPY_MODEL_0edcf37aaa284538b2d85a202136b551",
            "value": "<h3>Output</h3>"
          }
        },
        "3c36425aec804528ae70e4b14b61e24b": {
          "model_module": "@jupyter-widgets/output",
          "model_name": "OutputModel",
          "model_module_version": "1.0.0",
          "state": {
            "_dom_classes": [],
            "_model_module": "@jupyter-widgets/output",
            "_model_module_version": "1.0.0",
            "_model_name": "OutputModel",
            "_view_count": null,
            "_view_module": "@jupyter-widgets/output",
            "_view_module_version": "1.0.0",
            "_view_name": "OutputView",
            "layout": "IPY_MODEL_9b0c92bde25943689fbee473a6deeb70",
            "msg_id": "",
            "outputs": []
          }
        },
        "662fcc8280644819bfaee2e2cb699b21": {
          "model_module": "@jupyter-widgets/base",
          "model_name": "LayoutModel",
          "model_module_version": "1.2.0",
          "state": {
            "_model_module": "@jupyter-widgets/base",
            "_model_module_version": "1.2.0",
            "_model_name": "LayoutModel",
            "_view_count": null,
            "_view_module": "@jupyter-widgets/base",
            "_view_module_version": "1.2.0",
            "_view_name": "LayoutView",
            "align_content": null,
            "align_items": null,
            "align_self": null,
            "border": null,
            "bottom": null,
            "display": null,
            "flex": null,
            "flex_flow": null,
            "grid_area": null,
            "grid_auto_columns": null,
            "grid_auto_flow": null,
            "grid_auto_rows": null,
            "grid_column": null,
            "grid_gap": null,
            "grid_row": null,
            "grid_template_areas": null,
            "grid_template_columns": null,
            "grid_template_rows": null,
            "height": null,
            "justify_content": null,
            "justify_items": null,
            "left": null,
            "margin": null,
            "max_height": null,
            "max_width": null,
            "min_height": null,
            "min_width": null,
            "object_fit": null,
            "object_position": null,
            "order": null,
            "overflow": null,
            "overflow_x": null,
            "overflow_y": null,
            "padding": null,
            "right": null,
            "top": null,
            "visibility": null,
            "width": "50%"
          }
        },
        "844094a69c3840aab49539b064fabb3d": {
          "model_module": "@jupyter-widgets/base",
          "model_name": "LayoutModel",
          "model_module_version": "1.2.0",
          "state": {
            "_model_module": "@jupyter-widgets/base",
            "_model_module_version": "1.2.0",
            "_model_name": "LayoutModel",
            "_view_count": null,
            "_view_module": "@jupyter-widgets/base",
            "_view_module_version": "1.2.0",
            "_view_name": "LayoutView",
            "align_content": null,
            "align_items": null,
            "align_self": null,
            "border": null,
            "bottom": null,
            "display": null,
            "flex": null,
            "flex_flow": null,
            "grid_area": null,
            "grid_auto_columns": null,
            "grid_auto_flow": null,
            "grid_auto_rows": null,
            "grid_column": null,
            "grid_gap": null,
            "grid_row": null,
            "grid_template_areas": null,
            "grid_template_columns": null,
            "grid_template_rows": null,
            "height": null,
            "justify_content": null,
            "justify_items": null,
            "left": null,
            "margin": null,
            "max_height": null,
            "max_width": null,
            "min_height": null,
            "min_width": null,
            "object_fit": null,
            "object_position": null,
            "order": null,
            "overflow": null,
            "overflow_x": null,
            "overflow_y": null,
            "padding": null,
            "right": null,
            "top": null,
            "visibility": null,
            "width": "100%"
          }
        },
        "7b913f1cd9dc4fd180e1b3bf37bfead5": {
          "model_module": "@jupyter-widgets/controls",
          "model_name": "ProgressStyleModel",
          "model_module_version": "1.5.0",
          "state": {
            "_model_module": "@jupyter-widgets/controls",
            "_model_module_version": "1.5.0",
            "_model_name": "ProgressStyleModel",
            "_view_count": null,
            "_view_module": "@jupyter-widgets/base",
            "_view_module_version": "1.2.0",
            "_view_name": "StyleView",
            "bar_color": null,
            "description_width": ""
          }
        },
        "25159c31c76d4160b42b61e25dcd0d6a": {
          "model_module": "@jupyter-widgets/base",
          "model_name": "LayoutModel",
          "model_module_version": "1.2.0",
          "state": {
            "_model_module": "@jupyter-widgets/base",
            "_model_module_version": "1.2.0",
            "_model_name": "LayoutModel",
            "_view_count": null,
            "_view_module": "@jupyter-widgets/base",
            "_view_module_version": "1.2.0",
            "_view_name": "LayoutView",
            "align_content": null,
            "align_items": null,
            "align_self": null,
            "border": null,
            "bottom": null,
            "display": null,
            "flex": null,
            "flex_flow": null,
            "grid_area": null,
            "grid_auto_columns": null,
            "grid_auto_flow": null,
            "grid_auto_rows": null,
            "grid_column": null,
            "grid_gap": null,
            "grid_row": null,
            "grid_template_areas": null,
            "grid_template_columns": null,
            "grid_template_rows": null,
            "height": "200px",
            "justify_content": null,
            "justify_items": null,
            "left": null,
            "margin": null,
            "max_height": null,
            "max_width": null,
            "min_height": null,
            "min_width": null,
            "object_fit": null,
            "object_position": null,
            "order": null,
            "overflow": null,
            "overflow_x": null,
            "overflow_y": null,
            "padding": null,
            "right": null,
            "top": null,
            "visibility": null,
            "width": "100%"
          }
        },
        "2957d355079d48499126f41dc269ca05": {
          "model_module": "@jupyter-widgets/controls",
          "model_name": "DescriptionStyleModel",
          "model_module_version": "1.5.0",
          "state": {
            "_model_module": "@jupyter-widgets/controls",
            "_model_module_version": "1.5.0",
            "_model_name": "DescriptionStyleModel",
            "_view_count": null,
            "_view_module": "@jupyter-widgets/base",
            "_view_module_version": "1.2.0",
            "_view_name": "StyleView",
            "description_width": ""
          }
        },
        "9f11b3900090474fb8fe3dcf92e08432": {
          "model_module": "@jupyter-widgets/controls",
          "model_name": "ButtonModel",
          "model_module_version": "1.5.0",
          "state": {
            "_dom_classes": [],
            "_model_module": "@jupyter-widgets/controls",
            "_model_module_version": "1.5.0",
            "_model_name": "ButtonModel",
            "_view_count": null,
            "_view_module": "@jupyter-widgets/controls",
            "_view_module_version": "1.5.0",
            "_view_name": "ButtonView",
            "button_style": "success",
            "description": "Run",
            "disabled": false,
            "icon": "check",
            "layout": "IPY_MODEL_986078624e564ab2b786030aabf71d6d",
            "style": "IPY_MODEL_ddd8ce03e75f4961a9592cf99ce0ed8b",
            "tooltip": ""
          }
        },
        "4ea9ddfde4e54b54b863cc44abff648e": {
          "model_module": "@jupyter-widgets/controls",
          "model_name": "ButtonModel",
          "model_module_version": "1.5.0",
          "state": {
            "_dom_classes": [],
            "_model_module": "@jupyter-widgets/controls",
            "_model_module_version": "1.5.0",
            "_model_name": "ButtonModel",
            "_view_count": null,
            "_view_module": "@jupyter-widgets/controls",
            "_view_module_version": "1.5.0",
            "_view_name": "ButtonView",
            "button_style": "warning",
            "description": "Retry",
            "disabled": false,
            "icon": "refresh",
            "layout": "IPY_MODEL_f2f2ba792f194f16b136493f6d4e7766",
            "style": "IPY_MODEL_6a6028aa97b24f2eae6e981d0a57a5fc",
            "tooltip": ""
          }
        },
        "718c377ac7384a1890ba910ec7859672": {
          "model_module": "@jupyter-widgets/controls",
          "model_name": "ButtonModel",
          "model_module_version": "1.5.0",
          "state": {
            "_dom_classes": [],
            "_model_module": "@jupyter-widgets/controls",
            "_model_module_version": "1.5.0",
            "_model_name": "ButtonModel",
            "_view_count": null,
            "_view_module": "@jupyter-widgets/controls",
            "_view_module_version": "1.5.0",
            "_view_name": "ButtonView",
            "button_style": "info",
            "description": "Next",
            "disabled": true,
            "icon": "arrow-right",
            "layout": "IPY_MODEL_01735181d38d4f2daf5d163048faf2ec",
            "style": "IPY_MODEL_c5c54aee4554459bb54b6d373098e3d3",
            "tooltip": ""
          }
        },
        "c30e5d59f8894e968e9d53b65a0cfd66": {
          "model_module": "@jupyter-widgets/controls",
          "model_name": "ButtonModel",
          "model_module_version": "1.5.0",
          "state": {
            "_dom_classes": [],
            "_model_module": "@jupyter-widgets/controls",
            "_model_module_version": "1.5.0",
            "_model_name": "ButtonModel",
            "_view_count": null,
            "_view_module": "@jupyter-widgets/controls",
            "_view_module_version": "1.5.0",
            "_view_name": "ButtonView",
            "button_style": "primary",
            "description": "Show Hint",
            "disabled": false,
            "icon": "lightbulb-o",
            "layout": "IPY_MODEL_8151fb30317e488a8294869338f5403e",
            "style": "IPY_MODEL_d30765cbbd3f4566947667a8dc154a1b",
            "tooltip": ""
          }
        },
        "2b985b80c6fd4a4182abc905d4f2357c": {
          "model_module": "@jupyter-widgets/controls",
          "model_name": "DropdownModel",
          "model_module_version": "1.5.0",
          "state": {
            "_dom_classes": [],
            "_model_module": "@jupyter-widgets/controls",
            "_model_module_version": "1.5.0",
            "_model_name": "DropdownModel",
            "_options_labels": [
              "Problem 1",
              "Problem 2",
              "Problem 3",
              "Problem 4",
              "Problem 5",
              "Problem 6",
              "Problem 7",
              "Problem 8",
              "Problem 9",
              "Problem 10",
              "Problem 11",
              "Problem 12",
              "Problem 13",
              "Problem 14",
              "Problem 15",
              "Problem 16",
              "Problem 17",
              "Problem 18",
              "Problem 19",
              "Problem 20"
            ],
            "_view_count": null,
            "_view_module": "@jupyter-widgets/controls",
            "_view_module_version": "1.5.0",
            "_view_name": "DropdownView",
            "description": "Skip to:",
            "description_tooltip": null,
            "disabled": false,
            "index": 0,
            "layout": "IPY_MODEL_95c58926bf1141d08e65360c91ff38ca",
            "style": "IPY_MODEL_adfcc0090db64d1794b6b08dd22fe832"
          }
        },
        "1b538e2421de4f048865ec1e5956d6b7": {
          "model_module": "@jupyter-widgets/base",
          "model_name": "LayoutModel",
          "model_module_version": "1.2.0",
          "state": {
            "_model_module": "@jupyter-widgets/base",
            "_model_module_version": "1.2.0",
            "_model_name": "LayoutModel",
            "_view_count": null,
            "_view_module": "@jupyter-widgets/base",
            "_view_module_version": "1.2.0",
            "_view_name": "LayoutView",
            "align_content": null,
            "align_items": null,
            "align_self": null,
            "border": null,
            "bottom": null,
            "display": null,
            "flex": null,
            "flex_flow": null,
            "grid_area": null,
            "grid_auto_columns": null,
            "grid_auto_flow": null,
            "grid_auto_rows": null,
            "grid_column": null,
            "grid_gap": null,
            "grid_row": null,
            "grid_template_areas": null,
            "grid_template_columns": null,
            "grid_template_rows": null,
            "height": null,
            "justify_content": null,
            "justify_items": null,
            "left": null,
            "margin": null,
            "max_height": null,
            "max_width": null,
            "min_height": null,
            "min_width": null,
            "object_fit": null,
            "object_position": null,
            "order": null,
            "overflow": null,
            "overflow_x": null,
            "overflow_y": null,
            "padding": null,
            "right": null,
            "top": null,
            "visibility": null,
            "width": null
          }
        },
        "c56ebc665d0e42769413ebb38a43fa20": {
          "model_module": "@jupyter-widgets/base",
          "model_name": "LayoutModel",
          "model_module_version": "1.2.0",
          "state": {
            "_model_module": "@jupyter-widgets/base",
            "_model_module_version": "1.2.0",
            "_model_name": "LayoutModel",
            "_view_count": null,
            "_view_module": "@jupyter-widgets/base",
            "_view_module_version": "1.2.0",
            "_view_name": "LayoutView",
            "align_content": null,
            "align_items": null,
            "align_self": null,
            "border": null,
            "bottom": null,
            "display": null,
            "flex": null,
            "flex_flow": null,
            "grid_area": null,
            "grid_auto_columns": null,
            "grid_auto_flow": null,
            "grid_auto_rows": null,
            "grid_column": null,
            "grid_gap": null,
            "grid_row": null,
            "grid_template_areas": null,
            "grid_template_columns": null,
            "grid_template_rows": null,
            "height": null,
            "justify_content": null,
            "justify_items": null,
            "left": null,
            "margin": null,
            "max_height": null,
            "max_width": null,
            "min_height": null,
            "min_width": null,
            "object_fit": null,
            "object_position": null,
            "order": null,
            "overflow": null,
            "overflow_x": null,
            "overflow_y": null,
            "padding": null,
            "right": null,
            "top": null,
            "visibility": null,
            "width": null
          }
        },
        "922c4f915e67451595e3a42c5e6ef7e3": {
          "model_module": "@jupyter-widgets/controls",
          "model_name": "DescriptionStyleModel",
          "model_module_version": "1.5.0",
          "state": {
            "_model_module": "@jupyter-widgets/controls",
            "_model_module_version": "1.5.0",
            "_model_name": "DescriptionStyleModel",
            "_view_count": null,
            "_view_module": "@jupyter-widgets/base",
            "_view_module_version": "1.2.0",
            "_view_name": "StyleView",
            "description_width": ""
          }
        },
        "a988a85954cc4b0b931a58fd0dd60a07": {
          "model_module": "@jupyter-widgets/base",
          "model_name": "LayoutModel",
          "model_module_version": "1.2.0",
          "state": {
            "_model_module": "@jupyter-widgets/base",
            "_model_module_version": "1.2.0",
            "_model_name": "LayoutModel",
            "_view_count": null,
            "_view_module": "@jupyter-widgets/base",
            "_view_module_version": "1.2.0",
            "_view_name": "LayoutView",
            "align_content": null,
            "align_items": null,
            "align_self": null,
            "border": null,
            "bottom": null,
            "display": null,
            "flex": null,
            "flex_flow": null,
            "grid_area": null,
            "grid_auto_columns": null,
            "grid_auto_flow": null,
            "grid_auto_rows": null,
            "grid_column": null,
            "grid_gap": null,
            "grid_row": null,
            "grid_template_areas": null,
            "grid_template_columns": null,
            "grid_template_rows": null,
            "height": null,
            "justify_content": null,
            "justify_items": null,
            "left": null,
            "margin": null,
            "max_height": null,
            "max_width": null,
            "min_height": null,
            "min_width": null,
            "object_fit": null,
            "object_position": null,
            "order": null,
            "overflow": null,
            "overflow_x": null,
            "overflow_y": null,
            "padding": null,
            "right": null,
            "top": null,
            "visibility": null,
            "width": null
          }
        },
        "d225a3eafdb143b2822383c93e84fde6": {
          "model_module": "@jupyter-widgets/controls",
          "model_name": "DescriptionStyleModel",
          "model_module_version": "1.5.0",
          "state": {
            "_model_module": "@jupyter-widgets/controls",
            "_model_module_version": "1.5.0",
            "_model_name": "DescriptionStyleModel",
            "_view_count": null,
            "_view_module": "@jupyter-widgets/base",
            "_view_module_version": "1.2.0",
            "_view_name": "StyleView",
            "description_width": ""
          }
        },
        "a7fbec91cbc040479dc3b3104b662379": {
          "model_module": "@jupyter-widgets/base",
          "model_name": "LayoutModel",
          "model_module_version": "1.2.0",
          "state": {
            "_model_module": "@jupyter-widgets/base",
            "_model_module_version": "1.2.0",
            "_model_name": "LayoutModel",
            "_view_count": null,
            "_view_module": "@jupyter-widgets/base",
            "_view_module_version": "1.2.0",
            "_view_name": "LayoutView",
            "align_content": null,
            "align_items": null,
            "align_self": null,
            "border": null,
            "bottom": null,
            "display": null,
            "flex": null,
            "flex_flow": null,
            "grid_area": null,
            "grid_auto_columns": null,
            "grid_auto_flow": null,
            "grid_auto_rows": null,
            "grid_column": null,
            "grid_gap": null,
            "grid_row": null,
            "grid_template_areas": null,
            "grid_template_columns": null,
            "grid_template_rows": null,
            "height": null,
            "justify_content": null,
            "justify_items": null,
            "left": null,
            "margin": null,
            "max_height": null,
            "max_width": null,
            "min_height": null,
            "min_width": null,
            "object_fit": null,
            "object_position": null,
            "order": null,
            "overflow": null,
            "overflow_x": null,
            "overflow_y": null,
            "padding": null,
            "right": null,
            "top": null,
            "visibility": null,
            "width": null
          }
        },
        "0edcf37aaa284538b2d85a202136b551": {
          "model_module": "@jupyter-widgets/controls",
          "model_name": "DescriptionStyleModel",
          "model_module_version": "1.5.0",
          "state": {
            "_model_module": "@jupyter-widgets/controls",
            "_model_module_version": "1.5.0",
            "_model_name": "DescriptionStyleModel",
            "_view_count": null,
            "_view_module": "@jupyter-widgets/base",
            "_view_module_version": "1.2.0",
            "_view_name": "StyleView",
            "description_width": ""
          }
        },
        "986078624e564ab2b786030aabf71d6d": {
          "model_module": "@jupyter-widgets/base",
          "model_name": "LayoutModel",
          "model_module_version": "1.2.0",
          "state": {
            "_model_module": "@jupyter-widgets/base",
            "_model_module_version": "1.2.0",
            "_model_name": "LayoutModel",
            "_view_count": null,
            "_view_module": "@jupyter-widgets/base",
            "_view_module_version": "1.2.0",
            "_view_name": "LayoutView",
            "align_content": null,
            "align_items": null,
            "align_self": null,
            "border": null,
            "bottom": null,
            "display": null,
            "flex": null,
            "flex_flow": null,
            "grid_area": null,
            "grid_auto_columns": null,
            "grid_auto_flow": null,
            "grid_auto_rows": null,
            "grid_column": null,
            "grid_gap": null,
            "grid_row": null,
            "grid_template_areas": null,
            "grid_template_columns": null,
            "grid_template_rows": null,
            "height": null,
            "justify_content": null,
            "justify_items": null,
            "left": null,
            "margin": null,
            "max_height": null,
            "max_width": null,
            "min_height": null,
            "min_width": null,
            "object_fit": null,
            "object_position": null,
            "order": null,
            "overflow": null,
            "overflow_x": null,
            "overflow_y": null,
            "padding": null,
            "right": null,
            "top": null,
            "visibility": null,
            "width": null
          }
        },
        "ddd8ce03e75f4961a9592cf99ce0ed8b": {
          "model_module": "@jupyter-widgets/controls",
          "model_name": "ButtonStyleModel",
          "model_module_version": "1.5.0",
          "state": {
            "_model_module": "@jupyter-widgets/controls",
            "_model_module_version": "1.5.0",
            "_model_name": "ButtonStyleModel",
            "_view_count": null,
            "_view_module": "@jupyter-widgets/base",
            "_view_module_version": "1.2.0",
            "_view_name": "StyleView",
            "button_color": null,
            "font_weight": ""
          }
        },
        "f2f2ba792f194f16b136493f6d4e7766": {
          "model_module": "@jupyter-widgets/base",
          "model_name": "LayoutModel",
          "model_module_version": "1.2.0",
          "state": {
            "_model_module": "@jupyter-widgets/base",
            "_model_module_version": "1.2.0",
            "_model_name": "LayoutModel",
            "_view_count": null,
            "_view_module": "@jupyter-widgets/base",
            "_view_module_version": "1.2.0",
            "_view_name": "LayoutView",
            "align_content": null,
            "align_items": null,
            "align_self": null,
            "border": null,
            "bottom": null,
            "display": null,
            "flex": null,
            "flex_flow": null,
            "grid_area": null,
            "grid_auto_columns": null,
            "grid_auto_flow": null,
            "grid_auto_rows": null,
            "grid_column": null,
            "grid_gap": null,
            "grid_row": null,
            "grid_template_areas": null,
            "grid_template_columns": null,
            "grid_template_rows": null,
            "height": null,
            "justify_content": null,
            "justify_items": null,
            "left": null,
            "margin": null,
            "max_height": null,
            "max_width": null,
            "min_height": null,
            "min_width": null,
            "object_fit": null,
            "object_position": null,
            "order": null,
            "overflow": null,
            "overflow_x": null,
            "overflow_y": null,
            "padding": null,
            "right": null,
            "top": null,
            "visibility": null,
            "width": null
          }
        },
        "6a6028aa97b24f2eae6e981d0a57a5fc": {
          "model_module": "@jupyter-widgets/controls",
          "model_name": "ButtonStyleModel",
          "model_module_version": "1.5.0",
          "state": {
            "_model_module": "@jupyter-widgets/controls",
            "_model_module_version": "1.5.0",
            "_model_name": "ButtonStyleModel",
            "_view_count": null,
            "_view_module": "@jupyter-widgets/base",
            "_view_module_version": "1.2.0",
            "_view_name": "StyleView",
            "button_color": null,
            "font_weight": ""
          }
        },
        "01735181d38d4f2daf5d163048faf2ec": {
          "model_module": "@jupyter-widgets/base",
          "model_name": "LayoutModel",
          "model_module_version": "1.2.0",
          "state": {
            "_model_module": "@jupyter-widgets/base",
            "_model_module_version": "1.2.0",
            "_model_name": "LayoutModel",
            "_view_count": null,
            "_view_module": "@jupyter-widgets/base",
            "_view_module_version": "1.2.0",
            "_view_name": "LayoutView",
            "align_content": null,
            "align_items": null,
            "align_self": null,
            "border": null,
            "bottom": null,
            "display": null,
            "flex": null,
            "flex_flow": null,
            "grid_area": null,
            "grid_auto_columns": null,
            "grid_auto_flow": null,
            "grid_auto_rows": null,
            "grid_column": null,
            "grid_gap": null,
            "grid_row": null,
            "grid_template_areas": null,
            "grid_template_columns": null,
            "grid_template_rows": null,
            "height": null,
            "justify_content": null,
            "justify_items": null,
            "left": null,
            "margin": null,
            "max_height": null,
            "max_width": null,
            "min_height": null,
            "min_width": null,
            "object_fit": null,
            "object_position": null,
            "order": null,
            "overflow": null,
            "overflow_x": null,
            "overflow_y": null,
            "padding": null,
            "right": null,
            "top": null,
            "visibility": null,
            "width": null
          }
        },
        "c5c54aee4554459bb54b6d373098e3d3": {
          "model_module": "@jupyter-widgets/controls",
          "model_name": "ButtonStyleModel",
          "model_module_version": "1.5.0",
          "state": {
            "_model_module": "@jupyter-widgets/controls",
            "_model_module_version": "1.5.0",
            "_model_name": "ButtonStyleModel",
            "_view_count": null,
            "_view_module": "@jupyter-widgets/base",
            "_view_module_version": "1.2.0",
            "_view_name": "StyleView",
            "button_color": null,
            "font_weight": ""
          }
        },
        "8151fb30317e488a8294869338f5403e": {
          "model_module": "@jupyter-widgets/base",
          "model_name": "LayoutModel",
          "model_module_version": "1.2.0",
          "state": {
            "_model_module": "@jupyter-widgets/base",
            "_model_module_version": "1.2.0",
            "_model_name": "LayoutModel",
            "_view_count": null,
            "_view_module": "@jupyter-widgets/base",
            "_view_module_version": "1.2.0",
            "_view_name": "LayoutView",
            "align_content": null,
            "align_items": null,
            "align_self": null,
            "border": null,
            "bottom": null,
            "display": null,
            "flex": null,
            "flex_flow": null,
            "grid_area": null,
            "grid_auto_columns": null,
            "grid_auto_flow": null,
            "grid_auto_rows": null,
            "grid_column": null,
            "grid_gap": null,
            "grid_row": null,
            "grid_template_areas": null,
            "grid_template_columns": null,
            "grid_template_rows": null,
            "height": null,
            "justify_content": null,
            "justify_items": null,
            "left": null,
            "margin": null,
            "max_height": null,
            "max_width": null,
            "min_height": null,
            "min_width": null,
            "object_fit": null,
            "object_position": null,
            "order": null,
            "overflow": null,
            "overflow_x": null,
            "overflow_y": null,
            "padding": null,
            "right": null,
            "top": null,
            "visibility": null,
            "width": null
          }
        },
        "d30765cbbd3f4566947667a8dc154a1b": {
          "model_module": "@jupyter-widgets/controls",
          "model_name": "ButtonStyleModel",
          "model_module_version": "1.5.0",
          "state": {
            "_model_module": "@jupyter-widgets/controls",
            "_model_module_version": "1.5.0",
            "_model_name": "ButtonStyleModel",
            "_view_count": null,
            "_view_module": "@jupyter-widgets/base",
            "_view_module_version": "1.2.0",
            "_view_name": "StyleView",
            "button_color": null,
            "font_weight": ""
          }
        },
        "95c58926bf1141d08e65360c91ff38ca": {
          "model_module": "@jupyter-widgets/base",
          "model_name": "LayoutModel",
          "model_module_version": "1.2.0",
          "state": {
            "_model_module": "@jupyter-widgets/base",
            "_model_module_version": "1.2.0",
            "_model_name": "LayoutModel",
            "_view_count": null,
            "_view_module": "@jupyter-widgets/base",
            "_view_module_version": "1.2.0",
            "_view_name": "LayoutView",
            "align_content": null,
            "align_items": null,
            "align_self": null,
            "border": null,
            "bottom": null,
            "display": null,
            "flex": null,
            "flex_flow": null,
            "grid_area": null,
            "grid_auto_columns": null,
            "grid_auto_flow": null,
            "grid_auto_rows": null,
            "grid_column": null,
            "grid_gap": null,
            "grid_row": null,
            "grid_template_areas": null,
            "grid_template_columns": null,
            "grid_template_rows": null,
            "height": null,
            "justify_content": null,
            "justify_items": null,
            "left": null,
            "margin": null,
            "max_height": null,
            "max_width": null,
            "min_height": null,
            "min_width": null,
            "object_fit": null,
            "object_position": null,
            "order": null,
            "overflow": null,
            "overflow_x": null,
            "overflow_y": null,
            "padding": null,
            "right": null,
            "top": null,
            "visibility": null,
            "width": "200px"
          }
        },
        "adfcc0090db64d1794b6b08dd22fe832": {
          "model_module": "@jupyter-widgets/controls",
          "model_name": "DescriptionStyleModel",
          "model_module_version": "1.5.0",
          "state": {
            "_model_module": "@jupyter-widgets/controls",
            "_model_module_version": "1.5.0",
            "_model_name": "DescriptionStyleModel",
            "_view_count": null,
            "_view_module": "@jupyter-widgets/base",
            "_view_module_version": "1.2.0",
            "_view_name": "StyleView",
            "description_width": ""
          }
        },
        "b1ce8179123f436bb58c3b79b1523e9b": {
          "model_module": "@jupyter-widgets/base",
          "model_name": "LayoutModel",
          "model_module_version": "1.2.0",
          "state": {
            "_model_module": "@jupyter-widgets/base",
            "_model_module_version": "1.2.0",
            "_model_name": "LayoutModel",
            "_view_count": null,
            "_view_module": "@jupyter-widgets/base",
            "_view_module_version": "1.2.0",
            "_view_name": "LayoutView",
            "align_content": null,
            "align_items": null,
            "align_self": null,
            "border": null,
            "bottom": null,
            "display": null,
            "flex": null,
            "flex_flow": null,
            "grid_area": null,
            "grid_auto_columns": null,
            "grid_auto_flow": null,
            "grid_auto_rows": null,
            "grid_column": null,
            "grid_gap": null,
            "grid_row": null,
            "grid_template_areas": null,
            "grid_template_columns": null,
            "grid_template_rows": null,
            "height": null,
            "justify_content": null,
            "justify_items": null,
            "left": null,
            "margin": null,
            "max_height": null,
            "max_width": null,
            "min_height": null,
            "min_width": null,
            "object_fit": null,
            "object_position": null,
            "order": null,
            "overflow": null,
            "overflow_x": null,
            "overflow_y": null,
            "padding": null,
            "right": null,
            "top": null,
            "visibility": null,
            "width": null
          }
        },
        "6e5cd5f8dded4bfeb7507b789451f5b5": {
          "model_module": "@jupyter-widgets/base",
          "model_name": "LayoutModel",
          "model_module_version": "1.2.0",
          "state": {
            "_model_module": "@jupyter-widgets/base",
            "_model_module_version": "1.2.0",
            "_model_name": "LayoutModel",
            "_view_count": null,
            "_view_module": "@jupyter-widgets/base",
            "_view_module_version": "1.2.0",
            "_view_name": "LayoutView",
            "align_content": null,
            "align_items": null,
            "align_self": null,
            "border": null,
            "bottom": null,
            "display": null,
            "flex": null,
            "flex_flow": null,
            "grid_area": null,
            "grid_auto_columns": null,
            "grid_auto_flow": null,
            "grid_auto_rows": null,
            "grid_column": null,
            "grid_gap": null,
            "grid_row": null,
            "grid_template_areas": null,
            "grid_template_columns": null,
            "grid_template_rows": null,
            "height": null,
            "justify_content": null,
            "justify_items": null,
            "left": null,
            "margin": null,
            "max_height": null,
            "max_width": null,
            "min_height": null,
            "min_width": null,
            "object_fit": null,
            "object_position": null,
            "order": null,
            "overflow": null,
            "overflow_x": null,
            "overflow_y": null,
            "padding": null,
            "right": null,
            "top": null,
            "visibility": null,
            "width": null
          }
        },
        "d588db8369344f06abfd5ab116275dc1": {
          "model_module": "@jupyter-widgets/base",
          "model_name": "LayoutModel",
          "model_module_version": "1.2.0",
          "state": {
            "_model_module": "@jupyter-widgets/base",
            "_model_module_version": "1.2.0",
            "_model_name": "LayoutModel",
            "_view_count": null,
            "_view_module": "@jupyter-widgets/base",
            "_view_module_version": "1.2.0",
            "_view_name": "LayoutView",
            "align_content": null,
            "align_items": null,
            "align_self": null,
            "border": null,
            "bottom": null,
            "display": null,
            "flex": null,
            "flex_flow": null,
            "grid_area": null,
            "grid_auto_columns": null,
            "grid_auto_flow": null,
            "grid_auto_rows": null,
            "grid_column": null,
            "grid_gap": null,
            "grid_row": null,
            "grid_template_areas": null,
            "grid_template_columns": null,
            "grid_template_rows": null,
            "height": null,
            "justify_content": null,
            "justify_items": null,
            "left": null,
            "margin": null,
            "max_height": null,
            "max_width": null,
            "min_height": null,
            "min_width": null,
            "object_fit": null,
            "object_position": null,
            "order": null,
            "overflow": null,
            "overflow_x": null,
            "overflow_y": null,
            "padding": null,
            "right": null,
            "top": null,
            "visibility": null,
            "width": null
          }
        },
        "02055de3c0444dc7af4d3e9948e06e8a": {
          "model_module": "@jupyter-widgets/base",
          "model_name": "LayoutModel",
          "model_module_version": "1.2.0",
          "state": {
            "_model_module": "@jupyter-widgets/base",
            "_model_module_version": "1.2.0",
            "_model_name": "LayoutModel",
            "_view_count": null,
            "_view_module": "@jupyter-widgets/base",
            "_view_module_version": "1.2.0",
            "_view_name": "LayoutView",
            "align_content": null,
            "align_items": null,
            "align_self": null,
            "border": null,
            "bottom": null,
            "display": null,
            "flex": null,
            "flex_flow": null,
            "grid_area": null,
            "grid_auto_columns": null,
            "grid_auto_flow": null,
            "grid_auto_rows": null,
            "grid_column": null,
            "grid_gap": null,
            "grid_row": null,
            "grid_template_areas": null,
            "grid_template_columns": null,
            "grid_template_rows": null,
            "height": null,
            "justify_content": null,
            "justify_items": null,
            "left": null,
            "margin": null,
            "max_height": null,
            "max_width": null,
            "min_height": null,
            "min_width": null,
            "object_fit": null,
            "object_position": null,
            "order": null,
            "overflow": null,
            "overflow_x": null,
            "overflow_y": null,
            "padding": null,
            "right": null,
            "top": null,
            "visibility": null,
            "width": null
          }
        },
        "9b0c92bde25943689fbee473a6deeb70": {
          "model_module": "@jupyter-widgets/base",
          "model_name": "LayoutModel",
          "model_module_version": "1.2.0",
          "state": {
            "_model_module": "@jupyter-widgets/base",
            "_model_module_version": "1.2.0",
            "_model_name": "LayoutModel",
            "_view_count": null,
            "_view_module": "@jupyter-widgets/base",
            "_view_module_version": "1.2.0",
            "_view_name": "LayoutView",
            "align_content": null,
            "align_items": null,
            "align_self": null,
            "border": null,
            "bottom": null,
            "display": null,
            "flex": null,
            "flex_flow": null,
            "grid_area": null,
            "grid_auto_columns": null,
            "grid_auto_flow": null,
            "grid_auto_rows": null,
            "grid_column": null,
            "grid_gap": null,
            "grid_row": null,
            "grid_template_areas": null,
            "grid_template_columns": null,
            "grid_template_rows": null,
            "height": null,
            "justify_content": null,
            "justify_items": null,
            "left": null,
            "margin": null,
            "max_height": null,
            "max_width": null,
            "min_height": null,
            "min_width": null,
            "object_fit": null,
            "object_position": null,
            "order": null,
            "overflow": null,
            "overflow_x": null,
            "overflow_y": null,
            "padding": null,
            "right": null,
            "top": null,
            "visibility": null,
            "width": null
          }
        }
      }
    }
  },
  "cells": [
    {
      "cell_type": "markdown",
      "metadata": {
        "id": "view-in-github",
        "colab_type": "text"
      },
      "source": [
        "<a href=\"https://colab.research.google.com/github/brendanpshea/computing_concepts_python/blob/main/IntroCS_07_Cybersecurity.ipynb\" target=\"_parent\"><img src=\"https://colab.research.google.com/assets/colab-badge.svg\" alt=\"Open In Colab\"/></a>"
      ]
    },
    {
      "cell_type": "markdown",
      "source": [
        "# Introduction to Cybersecurity: Why Security Matters in Code\n",
        "### Brendan Shea, PhD\n",
        "\n",
        "Cybersecurity is the practice of protecting systems, networks, and programs from digital attacks. In today's interconnected world, nearly every aspect of our lives involves digital information that needs protection.\n",
        "\n",
        "As beginning programmers, understanding cybersecurity fundamentals will help you:\n",
        "\n",
        "* Write safer code that protects user data\n",
        "* Understand potential vulnerabilities in applications\n",
        "* Develop habits that prevent security breaches\n",
        "  * Validating user input\n",
        "  * Securing sensitive information\n",
        "  * Testing for common security flaws\n",
        "* Prepare for careers in an increasingly security-conscious industry\n",
        "\n",
        "**Cybersecurity** refers to the body of technologies, processes, and practices designed to protect networks, devices, programs, and data from attack, damage, or unauthorized access.\n",
        "\n",
        "**Malicious actors** are individuals or groups who attempt to exploit vulnerabilities in software and hardware for various purposes, including stealing data, causing disruption, or gaining unauthorized access to systems.\n",
        "\n",
        "Remember: Security isn't something added at the end of development—it should be considered from the very beginning of any project!"
      ],
      "metadata": {
        "id": "_TW7HMmjYRs8"
      }
    },
    {
      "cell_type": "markdown",
      "source": [
        "# Understanding Text in Python: Strings, Unicode, and ASCII\n",
        "\n",
        "Before we can work with cybersecurity concepts, we need to understand how computers store and process text. In Python, text is represented as **strings**, which are sequences of characters.\n",
        "\n",
        "Each character in a string is represented by a numeric code:\n",
        "\n",
        "* **ASCII** (American Standard Code for Information Interchange) is an older standard that uses 7 bits to represent 128 different characters\n",
        "  * Only includes English letters, numbers, and basic symbols\n",
        "  * Limited to characters used in English\n",
        "\n",
        "* **Unicode** is a modern standard that can represent virtually every character from all writing systems worldwide\n",
        "  * Includes characters from all languages, mathematical symbols, emojis, and more\n",
        "  * Python 3 uses Unicode for all strings by default\n",
        "\n",
        "* **UTF-8** (Unicode Transformation Format 8-bit) is the most common encoding for Unicode\n",
        "  * A variable-width encoding that uses between 1 and 4 bytes per character\n",
        "  * ASCII characters use just 1 byte (efficient for English text)\n",
        "  * Characters from other languages use 2-4 bytes\n",
        "  * This makes UTF-8 both compact and universal\n",
        "  * It's the dominant encoding for the web and most software"
      ],
      "metadata": {
        "id": "sbaSCElCYeXT"
      }
    },
    {
      "cell_type": "code",
      "source": [
        "# Let's examine how UTF-8 uses different numbers of bytes per character\n",
        "for char in \"ABCйあ😎\":\n",
        "    char_bytes = char.encode('utf-8')\n",
        "    print(f\"Character: {char}, UTF-8 bytes: {char_bytes}, Length: {len(char_bytes)} bytes\")\n"
      ],
      "metadata": {
        "colab": {
          "base_uri": "https://localhost:8080/"
        },
        "id": "GQ68VR-uYfJT",
        "outputId": "4f358a47-d50c-4c8a-843a-639fc170d2c4"
      },
      "execution_count": 3,
      "outputs": [
        {
          "output_type": "stream",
          "name": "stdout",
          "text": [
            "Character: A, UTF-8 bytes: b'A', Length: 1 bytes\n",
            "Character: B, UTF-8 bytes: b'B', Length: 1 bytes\n",
            "Character: C, UTF-8 bytes: b'C', Length: 1 bytes\n",
            "Character: й, UTF-8 bytes: b'\\xd0\\xb9', Length: 2 bytes\n",
            "Character: あ, UTF-8 bytes: b'\\xe3\\x81\\x82', Length: 3 bytes\n",
            "Character: 😎, UTF-8 bytes: b'\\xf0\\x9f\\x98\\x8e', Length: 4 bytes\n"
          ]
        }
      ]
    },
    {
      "cell_type": "markdown",
      "source": [
        "Here's how characters map to their numeric values:\n",
        "\n",
        "| Character | ASCII Value | Unicode Value (decimal) |\n",
        "|-----------|-------------|-------------------------|\n",
        "| 'A'       | 65          | 65                      |\n",
        "| 'B'       | 66          | 66                      |\n",
        "| 'Z'       | 90          | 90                      |\n",
        "| 'a'       | 97          | 97                      |\n",
        "| 'z'       | 122         | 122                     |\n",
        "| '!'       | 33          | 33                      |\n",
        "| 'й' (Cyrillic) | N/A (not in ASCII) | 1081       |\n",
        "| '東' (Japanese) | N/A (not in ASCII) | 26481      |\n",
        "\n",
        "Let's explore working with character codes in Python:"
      ],
      "metadata": {
        "id": "qqqHPWtnZ0Sl"
      }
    },
    {
      "cell_type": "code",
      "source": [
        "# Working with character codes - Spy Communication System Basics\n",
        "\n",
        "# The ord() function gets the numeric value of a character\n",
        "print(\"Character to code conversion:\")\n",
        "print(f\"The code for 'A' is: {ord('A')}\")\n",
        "print(f\"The code for 'a' is: {ord('a')}\")\n",
        "print(f\"The code for '!' is: {ord('!')} \\n\")\n"
      ],
      "metadata": {
        "colab": {
          "base_uri": "https://localhost:8080/"
        },
        "id": "6ExRM8GAZ9zg",
        "outputId": "cfb260f0-03ab-42b1-8a4f-2bfcff8002e1"
      },
      "execution_count": 4,
      "outputs": [
        {
          "output_type": "stream",
          "name": "stdout",
          "text": [
            "Character to code conversion:\n",
            "The code for 'A' is: 65\n",
            "The code for 'a' is: 97\n",
            "The code for '!' is: 33 \n",
            "\n"
          ]
        }
      ]
    },
    {
      "cell_type": "code",
      "source": [
        "\n",
        "# The chr() function converts a numeric code back to a character\n",
        "print(\"Code to character conversion:\")\n",
        "print(f\"The character for code 77 is: {chr(77)}\")  # M\n",
        "print(f\"The character for code 105 is: {chr(105)}\")  # i\n",
        "print(f\"The character for code 54 is: {chr(54)} \\n\")  # 6\n"
      ],
      "metadata": {
        "colab": {
          "base_uri": "https://localhost:8080/"
        },
        "id": "t-BLW6nSaGII",
        "outputId": "0c36346d-2873-4c99-90d1-237f08736ca1"
      },
      "execution_count": 5,
      "outputs": [
        {
          "output_type": "stream",
          "name": "stdout",
          "text": [
            "Code to character conversion:\n",
            "The character for code 77 is: M\n",
            "The character for code 105 is: i\n",
            "The character for code 54 is: 6 \n",
            "\n"
          ]
        }
      ]
    },
    {
      "cell_type": "code",
      "source": [
        "# A spy might examine a message character by character\n",
        "secret_codename = \"Agent007\"\n",
        "print(f\"Examining codename: {secret_codename}\")\n",
        "for char in secret_codename:\n",
        "    print(f\"Character: {char}, Code: {ord(char)}\")"
      ],
      "metadata": {
        "colab": {
          "base_uri": "https://localhost:8080/"
        },
        "id": "_iHHF5BmaB5W",
        "outputId": "0a082c48-ae8f-4168-a8b8-1ae7209a9896"
      },
      "execution_count": 6,
      "outputs": [
        {
          "output_type": "stream",
          "name": "stdout",
          "text": [
            "Examining codename: Agent007\n",
            "Character: A, Code: 65\n",
            "Character: g, Code: 103\n",
            "Character: e, Code: 101\n",
            "Character: n, Code: 110\n",
            "Character: t, Code: 116\n",
            "Character: 0, Code: 48\n",
            "Character: 0, Code: 48\n",
            "Character: 7, Code: 55\n"
          ]
        }
      ]
    },
    {
      "cell_type": "markdown",
      "source": [
        "# Essential String Methods for Cryptography\n",
        "\n",
        "Python's built-in string methods provide powerful tools for manipulating text, which will be essential for our cybersecurity work. Let's explore some key methods through examples:\n",
        "\n",
        "* **upper()** and **lower()**: Convert text to uppercase or lowercase\n",
        "  * Useful for normalizing text\n",
        "  * Example: `\"Secret\".upper()` returns `\"SECRET\"`\n",
        "\n",
        "* **join()**: Combines a list of strings with a specified separator\n",
        "  * Great for reassembling processed characters\n",
        "  * Example: `\"-\".join(['C', 'I', 'A'])` returns `\"C-I-A\"`\n",
        "\n",
        "* **split()**: Divides a string into a list based on a delimiter\n",
        "  * Helpful for breaking messages into processable chunks\n",
        "  * Example: `\"Operation Midnight\".split()` returns `['Operation', 'Midnight']`\n",
        "\n",
        "* **replace()**: Substitutes specified text with new text\n",
        "  * Essential for substitution operations\n",
        "  * Example: `\"Agent\".replace('A', '4')` returns `\"4gent\"`\n",
        "\n",
        "Let's explore these methods:"
      ],
      "metadata": {
        "id": "TFrhEADqavSJ"
      }
    },
    {
      "cell_type": "code",
      "source": [
        "# A classified message\n",
        "message = \"Meet Agent X at the Blue Parrot Cafe\"\n",
        "\n",
        "# 1. Converting case\n",
        "upper_message = message.upper()\n",
        "lower_message = message.lower()\n",
        "\n",
        "print(\"Original message:\", message)\n",
        "print(\"Uppercase:\", upper_message)\n",
        "print(\"Lowercase:\", lower_message)"
      ],
      "metadata": {
        "colab": {
          "base_uri": "https://localhost:8080/"
        },
        "id": "9z8VJC6ra7Sy",
        "outputId": "9125335a-8940-4d22-fbd5-4a2c389a7e01"
      },
      "execution_count": 7,
      "outputs": [
        {
          "output_type": "stream",
          "name": "stdout",
          "text": [
            "Original message: Meet Agent X at the Blue Parrot Cafe\n",
            "Uppercase: MEET AGENT X AT THE BLUE PARROT CAFE\n",
            "Lowercase: meet agent x at the blue parrot cafe\n"
          ]
        }
      ]
    },
    {
      "cell_type": "code",
      "source": [
        "# 2. Splitting strings\n",
        "words = message.split()\n",
        "print(\"\\nSplit into words:\", words)\n",
        "print(\"Number of words:\", len(words))\n",
        "\n",
        "# Split by a specific character\n",
        "parts = message.split('a')\n",
        "print(\"Split by 'a':\", parts)"
      ],
      "metadata": {
        "colab": {
          "base_uri": "https://localhost:8080/"
        },
        "id": "mVF1BQk2bC-p",
        "outputId": "d16dcd2d-dbfe-4f2c-a568-cab16064cc78"
      },
      "execution_count": 8,
      "outputs": [
        {
          "output_type": "stream",
          "name": "stdout",
          "text": [
            "\n",
            "Split into words: ['Meet', 'Agent', 'X', 'at', 'the', 'Blue', 'Parrot', 'Cafe']\n",
            "Number of words: 8\n",
            "Split by 'a': ['Meet Agent X ', 't the Blue P', 'rrot C', 'fe']\n"
          ]
        }
      ]
    },
    {
      "cell_type": "code",
      "source": [
        "# 3. Joining strings\n",
        "code_name = ['S', 'P', 'E', 'C', 'T', 'R', 'E']\n",
        "joined_name = \"\".join(code_name)\n",
        "print(\"\\nJoined characters:\", joined_name)\n",
        "\n",
        "# Join with a separator\n",
        "dash_name = \"-\".join(code_name)\n",
        "print(\"Joined with dashes:\", dash_name)"
      ],
      "metadata": {
        "colab": {
          "base_uri": "https://localhost:8080/"
        },
        "id": "57SSgMCrbFKP",
        "outputId": "4fadc527-3a70-443b-e75e-eafadd539610"
      },
      "execution_count": 9,
      "outputs": [
        {
          "output_type": "stream",
          "name": "stdout",
          "text": [
            "\n",
            "Joined characters: SPECTRE\n",
            "Joined with dashes: S-P-E-C-T-R-E\n"
          ]
        }
      ]
    },
    {
      "cell_type": "code",
      "source": [
        "# 4. Replacing text\n",
        "redacted = message.replace(\"Agent X\", \"[REDACTED]\")\n",
        "print(\"\\nRedacted message:\", redacted)\n",
        "\n",
        "# Multiple replacements can be chained\n",
        "coded = message.replace('e', '3').replace('a', '4').replace('t', '7')\n",
        "print(\"Basic letter substitution:\", coded)"
      ],
      "metadata": {
        "colab": {
          "base_uri": "https://localhost:8080/"
        },
        "id": "9Zw0kSgfbJOx",
        "outputId": "8cb576e2-1265-4eb3-a211-bc97b966b90d"
      },
      "execution_count": 10,
      "outputs": [
        {
          "output_type": "stream",
          "name": "stdout",
          "text": [
            "\n",
            "Redacted message: Meet [REDACTED] at the Blue Parrot Cafe\n",
            "Basic letter substitution: M337 Ag3n7 X 47 7h3 Blu3 P4rro7 C4f3\n"
          ]
        }
      ]
    },
    {
      "cell_type": "markdown",
      "source": [
        "**String immutability** means that strings cannot be modified after creation - operations create new strings instead. This is why we need to capture the result when using these methods:\n"
      ],
      "metadata": {
        "id": "j6ZKxm8Gbi0k"
      }
    },
    {
      "cell_type": "code",
      "source": [
        "# Demonstrating string immutability\n",
        "codename = \"SKYFALL\"\n",
        "print(f\"Original codename: {codename}\")\n",
        "\n",
        "# This doesn't change codename!\n",
        "codename.replace('S', '$')\n",
        "print(f\"After replace without assignment: {codename}\")  # Still \"SKYFALL\""
      ],
      "metadata": {
        "colab": {
          "base_uri": "https://localhost:8080/"
        },
        "id": "RNmFDJBsbnxE",
        "outputId": "b69a1539-4743-4809-d9f5-668cd13561b0"
      },
      "execution_count": 11,
      "outputs": [
        {
          "output_type": "stream",
          "name": "stdout",
          "text": [
            "Original codename: SKYFALL\n",
            "After replace without assignment: SKYFALL\n"
          ]
        }
      ]
    },
    {
      "cell_type": "code",
      "source": [
        "\n",
        "# This works because we create a new string and reassign\n",
        "codename = codename.replace('S', '$')\n",
        "print(f\"After replace with assignment: {codename}\")  # Now \"$KYFALL\""
      ],
      "metadata": {
        "colab": {
          "base_uri": "https://localhost:8080/"
        },
        "id": "wDPo9fSSbyHv",
        "outputId": "cc19bf35-8116-48dc-dd0c-3c3ef514c53a"
      },
      "execution_count": 12,
      "outputs": [
        {
          "output_type": "stream",
          "name": "stdout",
          "text": [
            "After replace with assignment: $KYFALL\n"
          ]
        }
      ]
    },
    {
      "cell_type": "markdown",
      "source": [
        "These string methods provide the building blocks for text manipulation that we'll use in more complex cryptographic operations later."
      ],
      "metadata": {
        "id": "DNiYZGXMb7pa"
      }
    },
    {
      "cell_type": "markdown",
      "source": [
        "# Math Operations in Python: The Building Blocks of Encryption\n",
        "\n",
        "Before we can design encryption algorithms, we need to understand the mathematical operations that make them work. Cryptography relies on several fundamental mathematical concepts that we'll explore in this section. These concepts might seem simple at first, but they form the cornerstone of even the most sophisticated encryption systems used today.\n",
        "\n",
        "## The Modulo Operation (%)\n",
        "\n",
        "The **modulo operation** is perhaps the most important mathematical concept in basic cryptography. It gives us the remainder after division between two numbers. This might sound simple, but it allows us to create \"wrapping\" behavior that's essential for many ciphers.\n",
        "\n",
        "When we write `a % b`, we're asking \"what's the remainder when a is divided by b?\" For example:"
      ],
      "metadata": {
        "id": "H2jTTVQtfGQ-"
      }
    },
    {
      "cell_type": "code",
      "source": [
        "# Basic modulo examples\n",
        "print(f\"5 % 3 = {5 % 3}\")\n",
        "print(f\"17 % 5 = {17 % 5}\")"
      ],
      "metadata": {
        "colab": {
          "base_uri": "https://localhost:8080/"
        },
        "id": "vkuXEmw3fJMF",
        "outputId": "a3dfb9ae-942b-4ba5-839e-25788f1b0f6c"
      },
      "execution_count": 13,
      "outputs": [
        {
          "output_type": "stream",
          "name": "stdout",
          "text": [
            "5 % 3 = 2\n",
            "17 % 5 = 2\n"
          ]
        }
      ]
    },
    {
      "cell_type": "markdown",
      "source": [
        "\n",
        "The modulo operation is similar to how a clock works. After we reach 12, we \"wrap around\" to 1 again. In mathematical terms, we're performing calculations in \"modulo 12\" on a clock.\n",
        "\n",
        "Imagine we're in a spy movie where agents need to schedule a meeting at a certain number of hours from now. If it's currently 9 o'clock and we need to meet 5 hours later, we'd calculate: (9 + 5) % 12 = 2 o'clock."
      ],
      "metadata": {
        "id": "b-0OhSxKfOFa"
      }
    },
    {
      "cell_type": "code",
      "source": [
        "# Clock arithmetic example\n",
        "current_hour = 9\n",
        "hours_to_add = 5\n",
        "meeting_time = (current_hour + hours_to_add) % 12\n",
        "# If result is 0, it means 12 o'clock\n",
        "meeting_time = 12 if meeting_time == 0 else meeting_time\n",
        "print(f\"Meeting time: {meeting_time} o'clock\")  # 2 o'clock"
      ],
      "metadata": {
        "colab": {
          "base_uri": "https://localhost:8080/"
        },
        "id": "2HUrpV92fQOw",
        "outputId": "9db7e825-58c4-4e7e-a13b-216a2b3ded67"
      },
      "execution_count": 14,
      "outputs": [
        {
          "output_type": "stream",
          "name": "stdout",
          "text": [
            "Meeting time: 2 o'clock\n"
          ]
        }
      ]
    },
    {
      "cell_type": "markdown",
      "source": [
        "This wrapping behavior is crucial for our encryption algorithms, especially when we need to shift letters and wrap around the alphabet. When we shift 'Z' forward, we need to wrap back to 'A', just like hours on a clock.\n",
        "\n",
        "## Integer Division (//)\n",
        "\n",
        "While regular division (/) gives us a decimal result, **integer division** (//) gives us only the whole number quotient, discarding any remainder. This is useful when we want to know how many complete units exist without caring about fractional parts.\n",
        "\n",
        "Integer division and modulo are complementary operations: division tells us how many times one number fits completely into another, while modulo tells us what's left over."
      ],
      "metadata": {
        "id": "looaFsopfTdX"
      }
    },
    {
      "cell_type": "code",
      "source": [
        "# Example: Integer vs Float Division\n",
        "print(f\"5 / 2 = {5 / 2}\")\n",
        "print(f\"5 // 2 = {5 // 2}\")"
      ],
      "metadata": {
        "id": "flVEizz3iRfP",
        "outputId": "6574af8b-e211-4046-d29d-323536a72467",
        "colab": {
          "base_uri": "https://localhost:8080/"
        }
      },
      "execution_count": 15,
      "outputs": [
        {
          "output_type": "stream",
          "name": "stdout",
          "text": [
            "5 / 2 = 2.5\n",
            "5 // 2 = 2\n"
          ]
        }
      ]
    },
    {
      "cell_type": "markdown",
      "source": [
        "\n",
        "In cryptography, integer division is often used alongside modulo to break numbers into components. For instance, when working with large numbers in advanced encryption, we might need to split them into blocks of a certain size.\n",
        "\n",
        "## Prime Numbers in Cryptography\n",
        "\n",
        "**Prime numbers** are integers greater than 1 that are only divisible by 1 and themselves. Examples include 2, 3, 5, 7, 11, and 13. What makes prime numbers special for cryptography is how they behave when multiplied together.\n",
        "\n",
        "When two prime numbers are multiplied, the result can only be factored back into those original primes. This property becomes extremely important in advanced encryption like RSA, where security relies on the difficulty of factoring large numbers back into their prime components.\n",
        "\n",
        "While we won't implement advanced prime-based cryptography in this course, understanding the significance of primes provides insight into why modern encryption is secure. Even with the world's fastest computers, factoring very large numbers (300+ digits) into their prime components remains computationally infeasible.\n",
        "\n",
        "## Combining Operations for Character Transformations\n",
        "\n",
        "In cryptography, we often convert characters to their numeric codes, perform mathematical operations on those codes, and then convert back to characters. The operations we've discussed are perfect for this.\n",
        "\n",
        "Consider a simple transformation where we want to shift the letter 'A' forward by 3 positions to get 'D':\n",
        "\n",
        "1. Convert 'A' to its ASCII value: 65\n",
        "2. Add the shift value: 65 + 3 = 68\n",
        "3. Convert the result back to a character: chr(68) = 'D'\n",
        "\n",
        "But what if we shift 'Z' (ASCII 90) forward by 3? We'd get ASCII 93, which isn't a standard English letter. This is where modulo helps us wrap around the alphabet:\n",
        "\n",
        "1. Convert 'Z' to its position in the alphabet: 25 (where A=0, B=1, ..., Z=25)\n",
        "2. Add the shift: 25 + 3 = 28\n",
        "3. Apply modulo to wrap around: 28 % 26 = 2\n",
        "4. Convert position 2 back to a letter: 'C'\n",
        "\n",
        "This small example demonstrates how we'll combine these mathematical operations to create encryption algorithms in the coming sections.\n",
        "\n",
        "| Operation | Symbol | Example | Result | Use in Cryptography |\n",
        "|-----------|--------|---------|--------|---------------------|\n",
        "| Addition | `+` | `5 + 3` | `8` | Shifting characters forward |\n",
        "| Subtraction | `-` | `10 - 7` | `3` | Shifting characters backward |\n",
        "| Modulo | `%` | `17 % 5` | `2` | Wrapping around the alphabet |\n",
        "| Integer Division | `//` | `17 // 5` | `3` | Breaking numbers into blocks |\n",
        "| Exponentiation | `**` | `2 ** 3` | `8` | Used in advanced encryption |\n",
        "\n",
        "**Modular arithmetic** forms the mathematical foundation of many encryption techniques. By performing calculations within a fixed range and wrapping around when we exceed that range, we can create reversible transformations that are perfect for encoding and decoding messages.\n",
        "\n",
        "In the next sections, we'll apply these mathematical principles to implement our first encryption algorithm: the Caesar cipher. This ancient technique will demonstrate how these simple operations can be combined to create a basic encryption system."
      ],
      "metadata": {
        "id": "l6UGdSiuferK"
      }
    },
    {
      "cell_type": "markdown",
      "source": [
        "# The Caesar Cipher: Your First Encryption Algorithm\n",
        "\n",
        "The **Caesar cipher** is one of the oldest and simplest encryption techniques, named after Julius Caesar who used it to protect military messages. Despite its simplicity, it introduces fundamental concepts of substitution ciphers.\n",
        "\n",
        "How the Caesar cipher works:\n",
        "\n",
        "* Each letter in the plaintext is shifted a fixed number of positions in the alphabet\n",
        "* The number of positions to shift is the **key**\n",
        "* For example, with a key of 3:\n",
        "  * 'A' becomes 'D' (shift 3 positions right)\n",
        "  * 'B' becomes 'E'\n",
        "  * 'Z' wraps around to 'C'\n",
        "\n",
        "The mathematical formula for the Caesar cipher is:\n",
        "\n",
        "* Encryption: `E(x) = (x + k) mod 26`\n",
        "* Decryption: `D(x) = (x - k) mod 26`\n",
        "\n",
        "Where `x` is the position of the original letter (0-25), `k` is the key (shift value), and the result is the position of the encrypted letter.\n",
        "\n",
        "Let's look at the key components of implementing a Caesar cipher:\n",
        "\n",
        "### Shifting Characters\n",
        "First, let's explore how we can \"shift\" characters:"
      ],
      "metadata": {
        "id": "408wauUsgDDW"
      }
    },
    {
      "cell_type": "code",
      "source": [
        "def shift_char(char, key):\n",
        "    \"\"\"Shift a single character by the key amount\"\"\"\n",
        "    # Only encrypt letters, leave other characters unchanged\n",
        "    if not char.isalpha():\n",
        "        return char\n",
        "\n",
        "    # Determine if character is uppercase or lowercase\n",
        "    is_upper = char.isupper()\n",
        "\n",
        "    # Convert to base position (0-25)\n",
        "    if is_upper:\n",
        "        base = ord('A')\n",
        "    else:\n",
        "        base = ord('a')\n",
        "\n",
        "    # Calculate position in 0-25 range\n",
        "    position = ord(char) - base\n",
        "\n",
        "    # Shift and wrap around if needed using modulo\n",
        "    new_position = (position + key) % 26\n",
        "\n",
        "    # Convert back to character\n",
        "    return chr(new_position + base)"
      ],
      "metadata": {
        "id": "lv0ItYbxi7sP"
      },
      "execution_count": 16,
      "outputs": []
    },
    {
      "cell_type": "code",
      "source": [
        "# Test with a few characters\n",
        "print(\"Single character encryption (key = 3):\")\n",
        "print(f\"'A' → '{shift_char('A', 3)}'\")\n",
        "print(f\"'Z' → '{shift_char('Z', 3)}'\")\n",
        "print(f\"'a' → '{shift_char('a', 3)}'\")\n",
        "print(f\"'?' → '{shift_char('?', 3)}' (non-alphabetic)\")"
      ],
      "metadata": {
        "colab": {
          "base_uri": "https://localhost:8080/"
        },
        "id": "b_TiOEyJi9X_",
        "outputId": "94fb5ddb-8a88-446d-8467-df47e7890d22"
      },
      "execution_count": 17,
      "outputs": [
        {
          "output_type": "stream",
          "name": "stdout",
          "text": [
            "Single character encryption (key = 3):\n",
            "'A' → 'D'\n",
            "'Z' → 'C'\n",
            "'a' → 'd'\n",
            "'?' → '?' (non-alphabetic)\n"
          ]
        }
      ]
    },
    {
      "cell_type": "code",
      "source": [
        "# Test with different keys\n",
        "print(\"\\nShifting 'M' with different keys:\")\n",
        "for key in [1, 5, 13, 25]:\n",
        "    print(f\"Key {key}: '{shift_char('M', key)}'\")"
      ],
      "metadata": {
        "colab": {
          "base_uri": "https://localhost:8080/"
        },
        "id": "FTg7x1i-jBqs",
        "outputId": "e3ccb333-980f-49d1-8ce8-12f05d47d128"
      },
      "execution_count": 18,
      "outputs": [
        {
          "output_type": "stream",
          "name": "stdout",
          "text": [
            "\n",
            "Shifting 'M' with different keys:\n",
            "Key 1: 'N'\n",
            "Key 5: 'R'\n",
            "Key 13: 'Z'\n",
            "Key 25: 'L'\n"
          ]
        }
      ]
    },
    {
      "cell_type": "markdown",
      "source": [
        "### The Caesar Cipher: Shifting Strings\n",
        "Now let's apply this character-shifting function to a string."
      ],
      "metadata": {
        "id": "pnh6_392jWz9"
      }
    },
    {
      "cell_type": "code",
      "source": [
        "# Encrypting a message one character at a time\n",
        "\n",
        "def caesar_cipher(text, key):\n",
        "    \"\"\"Apply the Caesar cipher to a string\"\"\"\n",
        "    result = \"\"\n",
        "\n",
        "    for char in text:\n",
        "        result += shift_char(char, key)\n",
        "\n",
        "    return result"
      ],
      "metadata": {
        "id": "BfN0LA9WjXYG"
      },
      "execution_count": 19,
      "outputs": []
    },
    {
      "cell_type": "code",
      "source": [
        "# Try changing the message!\n",
        "message = \"Meet me at midnight\"\n",
        "# Try changing the key!\n",
        "key = 7\n",
        "\n",
        "encrypted = caesar_cipher(message, key)\n",
        "print(f\"\\nOriginal: {message}\")\n",
        "print(f\"Encrypted (key={key}): {encrypted}\")"
      ],
      "metadata": {
        "colab": {
          "base_uri": "https://localhost:8080/"
        },
        "id": "pzaQgnREjaja",
        "outputId": "29a838da-64cd-4792-836d-2e96358440b8"
      },
      "execution_count": 20,
      "outputs": [
        {
          "output_type": "stream",
          "name": "stdout",
          "text": [
            "\n",
            "Original: Meet me at midnight\n",
            "Encrypted (key=7): Tlla tl ha tpkupnoa\n"
          ]
        }
      ]
    },
    {
      "cell_type": "code",
      "source": [
        "# We can use a negative key for decryption\n",
        "decrypted = caesar_cipher(encrypted, -key)\n",
        "print(f\"Decrypted: {decrypted}\")"
      ],
      "metadata": {
        "id": "MjUGgIyUij79",
        "outputId": "fc88f556-f028-454b-a57a-29be756ee3ba",
        "colab": {
          "base_uri": "https://localhost:8080/"
        }
      },
      "execution_count": 21,
      "outputs": [
        {
          "output_type": "stream",
          "name": "stdout",
          "text": [
            "Decrypted: Meet me at midnight\n"
          ]
        }
      ]
    },
    {
      "cell_type": "markdown",
      "source": [
        "\n",
        "**Substitution cipher** is a method of encryption where units of plaintext are replaced with ciphertext according to a fixed system. The Caesar cipher is the simplest form of a substitution cipher.\n",
        "\n",
        "**Key space** refers to the total number of possible keys that can be used. For the Caesar cipher, the key space is very small (only 26 possible keys), making it easy to break.\n",
        "\n",
        "While the Caesar cipher is not secure for modern use, it demonstrates important encryption principles that all advanced encryption methods build upon. If you look at the code, you'll notice the pattern:\n",
        "1. Convert the text to a numeric form\n",
        "2. Apply a mathematical transformation (the shift)\n",
        "3. Convert back to text\n",
        "\n",
        "This pattern appears in virtually all encryption algorithms, just with increasingly complex transformations!"
      ],
      "metadata": {
        "id": "fxFrH62ijNgW"
      }
    },
    {
      "cell_type": "markdown",
      "source": [
        "# Breaking Caesar's Cipher: The Weakness of Simple Substitution\n",
        "\n",
        "While the Caesar cipher was useful in ancient times, it's extremely vulnerable to modern analysis. Understanding why it's weak helps illustrate the need for stronger encryption methods.\n",
        "\n",
        "The main weaknesses of the Caesar cipher include:\n",
        "\n",
        "* **Limited key space**: With only 26 possible shifts (keys 0-25), an attacker can try all possibilities quickly\n",
        "  * This is called a **brute force attack**\n",
        "  * A computer can test all 26 keys almost instantly\n",
        "\n",
        "* **Frequency analysis**: Letters in any language appear with predictable frequencies\n",
        "  * In English, 'E' is the most common letter, followed by 'T', 'A', 'O', etc.\n",
        "  * By analyzing the frequencies of letters in the ciphertext, the original message can often be deduced\n",
        "\n",
        "* **Pattern preservation**: The Caesar cipher preserves patterns in the text\n",
        "  * Double letters remain double letters (though different ones)\n",
        "  * Word lengths remain unchanged\n",
        "  * Common words like \"the\" and \"and\" create recognizable patterns\n",
        "\n",
        "| English Letter | Frequency % | Caesar Shift (key=3) |\n",
        "|----------------|-------------|----------------------|\n",
        "| E | 12.7% | H |\n",
        "| T | 9.1% | W |\n",
        "| A | 8.2% | D |\n",
        "| O | 7.5% | R |\n",
        "\n",
        "**Cryptanalysis** is the study of analyzing information systems to study the hidden aspects of the systems, including breaking encryption methods.\n",
        "\n",
        "**Frequency analysis** is a technique used to break substitution ciphers by examining the frequency of letters or groups of letters in the encrypted text.\n",
        "\n",
        "Breaking the Caesar cipher demonstrates why modern encryption needs to be much more complex. By understanding these vulnerabilities, we can develop better approaches to securing information. The next sections will introduce methods that address these weaknesses and provide stronger security.\n",
        "\n",
        "Here's how this analysis might work:"
      ],
      "metadata": {
        "id": "6e4yaWGz1b3t"
      }
    },
    {
      "cell_type": "code",
      "source": [
        "def find_caesar_key(ciphertext):\n",
        "    \"\"\"\n",
        "    Determine the Caesar cipher key using frequency analysis.\n",
        "\n",
        "    Parameters:\n",
        "    - ciphertext: The encrypted message (string).\n",
        "\n",
        "    Returns:\n",
        "    - An integer key in [0..25] giving the shift used to encrypt.\n",
        "    \"\"\"\n",
        "    # Expected English letter frequencies (A–Z) in percent\n",
        "    english_freq = {\n",
        "        'A': 8.2,  'B': 1.5,  'C': 2.8,  'D': 4.3,  'E': 12.7,\n",
        "        'F': 2.2,  'G': 2.0,  'H': 6.1,  'I': 7.0,  'J': 0.15,\n",
        "        'K': 0.77, 'L': 4.0,  'M': 2.4,  'N': 6.7,  'O': 7.5,\n",
        "        'P': 1.9,  'Q': 0.095,'R': 6.0,  'S': 6.3,  'T': 9.1,\n",
        "        'U': 2.8,  'V': 0.98, 'W': 2.4,  'X': 0.15, 'Y': 2.0,\n",
        "        'Z': 0.074\n",
        "    }\n",
        "\n",
        "    # 1. Extract and count only alphabetic characters (uppercase)\n",
        "    letters = [c for c in ciphertext.upper() if 'A' <= c <= 'Z']\n",
        "    N = len(letters)\n",
        "    if N == 0:\n",
        "        return 0  # No letters → assume no shift\n",
        "\n",
        "    counts = {chr(ord('A')+i): 0 for i in range(26)}\n",
        "    for c in letters:\n",
        "        counts[c] += 1\n",
        "\n",
        "    # 2. Compute chi-squared for each possible shift\n",
        "    def chi_squared(shift):\n",
        "        χ2 = 0.0\n",
        "        for i in range(26):\n",
        "            letter = chr(ord('A') + i)\n",
        "            # Observed count after undoing this shift\n",
        "            obs = counts[chr((i + shift) % 26 + ord('A'))]\n",
        "            exp = english_freq[letter] * N / 100\n",
        "            χ2 += (obs - exp)**2 / exp\n",
        "        return χ2\n",
        "\n",
        "    # 3. Select the shift with minimal chi-squared\n",
        "    best_key = min(range(26), key=chi_squared)\n",
        "    return best_key"
      ],
      "metadata": {
        "id": "MEQCnd6SjpjI"
      },
      "execution_count": 22,
      "outputs": []
    },
    {
      "cell_type": "markdown",
      "source": [
        "Now, let's try it out with a long message (from Monty Python)."
      ],
      "metadata": {
        "id": "2-FEtL-8jrcp"
      }
    },
    {
      "cell_type": "code",
      "source": [
        "message = \"First shalt thou take out the Holy Pin. Then shalt thou count to three, no more no less. Three shalt be the number thou shalt count, and the number of the counting shalt be three. Four shalt thou not count, neither count thou two, excepting that thou then proceed to three. Five is right out. Once the number three, being the third number, be reached, then lobbest thou thy Holy Hand Grenade of Antioch towards thou foe, who being naughty in my sight, shall snuff it.\"\n",
        "print(message)\n",
        "\n",
        "# encrypt message\n",
        "key = 21\n",
        "encrypted = caesar_cipher(message, key)\n",
        "print(f\"\\nEncrypted (key={key}): {encrypted}\")\n",
        "\n",
        "# Let's see if we can break it:\n",
        "decrypted = find_caesar_key(encrypted)\n",
        "print(f\"Decrypted (Found key={decrypted}!): {caesar_cipher(encrypted, -decrypted)}\")"
      ],
      "metadata": {
        "id": "2Wpxc3CAjvlm",
        "outputId": "98ae191f-a846-45d3-cfdb-6ee844436939",
        "colab": {
          "base_uri": "https://localhost:8080/"
        }
      },
      "execution_count": 42,
      "outputs": [
        {
          "output_type": "stream",
          "name": "stdout",
          "text": [
            "First shalt thou take out the Holy Pin. Then shalt thou count to three, no more no less. Three shalt be the number thou shalt count, and the number of the counting shalt be three. Four shalt thou not count, neither count thou two, excepting that thou then proceed to three. Five is right out. Once the number three, being the third number, be reached, then lobbest thou thy Holy Hand Grenade of Antioch towards thou foe, who being naughty in my sight, shall snuff it.\n",
            "\n",
            "Encrypted (key=21): Admno ncvgo ocjp ovfz jpo ocz Cjgt Kdi. Oczi ncvgo ocjp xjpio oj ocmzz, ij hjmz ij gznn. Ocmzz ncvgo wz ocz iphwzm ocjp ncvgo xjpio, viy ocz iphwzm ja ocz xjpiodib ncvgo wz ocmzz. Ajpm ncvgo ocjp ijo xjpio, izdoczm xjpio ocjp orj, zsxzkodib ocvo ocjp oczi kmjxzzy oj ocmzz. Adqz dn mdbco jpo. Jixz ocz iphwzm ocmzz, wzdib ocz ocdmy iphwzm, wz mzvxczy, oczi gjwwzno ocjp oct Cjgt Cviy Bmzivyz ja Viodjxc ojrvmyn ocjp ajz, rcj wzdib ivpbcot di ht ndbco, ncvgg nipaa do.\n",
            "Decrypted (Found key=21!): First shalt thou take out the Holy Pin. Then shalt thou count to three, no more no less. Three shalt be the number thou shalt count, and the number of the counting shalt be three. Four shalt thou not count, neither count thou two, excepting that thou then proceed to three. Five is right out. Once the number three, being the third number, be reached, then lobbest thou thy Holy Hand Grenade of Antioch towards thou foe, who being naughty in my sight, shall snuff it.\n"
          ]
        }
      ]
    },
    {
      "cell_type": "code",
      "source": [],
      "metadata": {
        "id": "97Cgr6-kkqyn"
      },
      "execution_count": null,
      "outputs": []
    },
    {
      "cell_type": "markdown",
      "source": [
        "# Beyond Caesar: The Vigenère Cipher and Multi-character Keys\n",
        "\n",
        "The **Vigenère cipher** represents a significant advancement over the Caesar cipher by using multiple shift values instead of just one. This addresses the main weakness of the Caesar cipher by making frequency analysis much more difficult to apply.\n",
        "\n",
        "## How the Vigenère Cipher Works\n",
        "\n",
        "The core principle of the Vigenère cipher is using a keyword to determine multiple different shift values:\n",
        "\n",
        "* Instead of a single numeric key, use a keyword or phrase (like \"SPY\" or \"AGENT\")\n",
        "* Convert each letter of the keyword to a shift value (A=0, B=1, etc.)\n",
        "* Apply different shifts to different letters of the plaintext\n",
        "* Repeat the keyword as needed to match the length of the message\n",
        "\n",
        "For example, with the keyword \"KEY\", each letter corresponds to a different shift:\n",
        "* K = 10 (K is the 11th letter, so 10 when zero-indexed)\n",
        "* E = 4 (E is the 5th letter, so 4 when zero-indexed)\n",
        "* Y = 24 (Y is the 25th letter, so 24 when zero-indexed)\n",
        "\n",
        "When encrypting, we apply these shifts in sequence, repeating as needed.\n",
        "\n",
        "## Building Our Vigenère Cipher\n",
        "\n",
        "Let's build a Vigenère cipher implementation that reuses our previous functions. First, we need a function to convert a keyword into a sequence of shift values:\n"
      ],
      "metadata": {
        "id": "t5OJX3ycqPSL"
      }
    },
    {
      "cell_type": "code",
      "source": [
        "# Converting a keyword into shift values\n",
        "\n",
        "def keyword_to_shifts(keyword):\n",
        "    \"\"\"Convert a keyword to a list of shift values (A=0, B=1, etc.)\"\"\"\n",
        "    return [ord(char.upper()) - ord('A') for char in keyword if char.isalpha()]"
      ],
      "metadata": {
        "id": "lruZVLgYqXkc"
      },
      "execution_count": 24,
      "outputs": []
    },
    {
      "cell_type": "code",
      "source": [
        "# Test with a few spy-themed keywords\n",
        "keywords = [\"BOND\", \"MISSION\", \"SPECTRE\"]\n",
        "\n",
        "for word in keywords:\n",
        "    shifts = keyword_to_shifts(word)\n",
        "    print(f\"Keyword: {word}\")\n",
        "    print(f\"Shift values: {shifts}\\n\")"
      ],
      "metadata": {
        "colab": {
          "base_uri": "https://localhost:8080/"
        },
        "id": "7UtXXr2-0Vvz",
        "outputId": "7c773c2f-2ef1-4747-8a04-739e59c5848f"
      },
      "execution_count": 25,
      "outputs": [
        {
          "output_type": "stream",
          "name": "stdout",
          "text": [
            "Keyword: BOND\n",
            "Shift values: [1, 14, 13, 3]\n",
            "\n",
            "Keyword: MISSION\n",
            "Shift values: [12, 8, 18, 18, 8, 14, 13]\n",
            "\n",
            "Keyword: SPECTRE\n",
            "Shift values: [18, 15, 4, 2, 19, 17, 4]\n",
            "\n"
          ]
        }
      ]
    },
    {
      "cell_type": "markdown",
      "source": [
        "Now, we can combine this with our `shift_char()` function we defined for the Caesar Cipher to create the Vignere Cipher:"
      ],
      "metadata": {
        "id": "L1hqy5wQ0YJq"
      }
    },
    {
      "cell_type": "code",
      "source": [
        "def vigenere_cipher(text, keyword, mode='encrypt'):\n",
        "    \"\"\"\n",
        "    Encrypt or decrypt text using the Vigenère cipher\n",
        "\n",
        "    Parameters:\n",
        "    - text: The message to encrypt or decrypt\n",
        "    - keyword: The keyword to derive shift values from\n",
        "    - mode: 'encrypt' or 'decrypt'\n",
        "\n",
        "    Returns:\n",
        "    - The processed text\n",
        "    \"\"\"\n",
        "    # Convert keyword to shift values\n",
        "    shifts = keyword_to_shifts(keyword)\n",
        "\n",
        "    # If no valid shifts (empty keyword), return original text\n",
        "    if not shifts:\n",
        "        return text\n",
        "\n",
        "    # For decryption, use negative shifts\n",
        "    if mode == 'decrypt':\n",
        "        shifts = [-shift for shift in shifts]\n",
        "\n",
        "    result = \"\"\n",
        "    shift_index = 0\n",
        "\n",
        "    # Process each character\n",
        "    for char in text:\n",
        "        if char.isalpha():\n",
        "            # Get the current shift value\n",
        "            current_shift = shifts[shift_index % len(shifts)]\n",
        "\n",
        "            # Apply the shift\n",
        "            result += shift_char(char, current_shift)\n",
        "\n",
        "            # Move to the next shift value\n",
        "            shift_index += 1\n",
        "        else:\n",
        "            # Non-alphabetic characters remain unchanged\n",
        "            result += char\n",
        "\n",
        "    return result"
      ],
      "metadata": {
        "id": "4HNbjNwS05bQ"
      },
      "execution_count": 26,
      "outputs": []
    },
    {
      "cell_type": "markdown",
      "source": [
        "Let's see a simple example of how this works:\n",
        "\n",
        "| Plaintext | P | Y | T | H | O | N |\n",
        "|-----------|---|---|---|---|---|---|\n",
        "| Keyword   | K | E | Y | K | E | Y |\n",
        "| Key Value | 10| 4 | 24| 10| 4 | 24|\n",
        "| Encrypted | Z | C | R | R | S | L |\n",
        "\n",
        "The cipher works by:\n",
        "1. Taking a letter from the plaintext (e.g., 'P')\n",
        "2. Taking the corresponding letter from the keyword (e.g., 'K')\n",
        "3. Converting the keyword letter to a shift value (K = 10)\n",
        "4. Applying that shift to the plaintext letter ('P' + 10 = 'Z')\n",
        "5. Moving to the next letter and the next shift value\n",
        "\n",
        "## Testing Our Vigenère Cipher\n",
        "\n",
        "Here's a simple test of our implementation:"
      ],
      "metadata": {
        "id": "vhgPMflz0jjt"
      }
    },
    {
      "cell_type": "code",
      "source": [
        "# Test the Vigenère cipher with a spy message\n",
        "message = \"Meet me at the usual place\"\n",
        "keyword = \"AGENT\"\n",
        "\n",
        "encrypted = vigenere_cipher(message, keyword, 'encrypt')\n",
        "print(f\"Original: {message}\")\n",
        "print(f\"Keyword: {keyword}\")\n",
        "print(f\"Encrypted: {encrypted}\")\n",
        "\n",
        "decrypted = vigenere_cipher(encrypted, keyword, 'decrypt')\n",
        "print(f\"Decrypted: {decrypted}\")"
      ],
      "metadata": {
        "colab": {
          "base_uri": "https://localhost:8080/"
        },
        "id": "g1atdzUY1H2x",
        "outputId": "83149b14-706d-4e55-b298-7c69e4e7ae62"
      },
      "execution_count": 27,
      "outputs": [
        {
          "output_type": "stream",
          "name": "stdout",
          "text": [
            "Original: Meet me at the usual place\n",
            "Keyword: AGENT\n",
            "Encrypted: Mkig fe gx gae awhtl vpnve\n",
            "Decrypted: Meet me at the usual place\n"
          ]
        }
      ]
    },
    {
      "cell_type": "markdown",
      "source": [
        "## Security Advantages\n",
        "\n",
        "**Polyalphabetic cipher** is the technical term for a substitution cipher that uses multiple substitution alphabets, which is exactly what the Vigenère cipher does.\n",
        "\n",
        "The Vigenère cipher offers significant advantages over the Caesar cipher:\n",
        "\n",
        "1. **Multiple shift values** make simple frequency analysis ineffective\n",
        "2. **Keyword length** determines the complexity - longer keywords provide better security\n",
        "3. The same letter in the plaintext can be encrypted to **different letters** in the ciphertext\n",
        "\n",
        "While still vulnerable to more advanced cryptanalysis techniques, the Vigenère cipher represents an important step in the evolution of encryption methods and introduces the crucial concept of using variable keys rather than fixed ones."
      ],
      "metadata": {
        "id": "XzC8g1TB0jgL"
      }
    },
    {
      "cell_type": "markdown",
      "source": [
        "# Asymmetric Encryption: Public and Private Keys\n",
        "\n",
        "So far, we've studied symmetric encryption methods like the Caesar cipher and Vigenère cipher, where the same key is used for both encryption and decryption. Now let's explore **asymmetric encryption** (also called public-key cryptography), which uses different keys for encryption and decryption.\n",
        "\n",
        "Key principles of asymmetric encryption:\n",
        "\n",
        "* Uses a **key pair**: a public key and a private key\n",
        "* Messages encrypted with the public key can only be decrypted with the private key\n",
        "* The public key can be freely shared, while the private key must be kept secret\n",
        "* Solves the \"key exchange problem\" of symmetric encryption\n",
        "\n",
        "## How Asymmetric Encryption Works\n",
        "\n",
        "In asymmetric encryption, each person generates two mathematically related keys:\n",
        "\n",
        "* **Public key**: Shared openly with anyone who wants to send you encrypted messages\n",
        "* **Private key**: Kept secret and used to decrypt messages encrypted with your public key\n",
        "\n",
        "The fundamental property that makes this work is that it's computationally infeasible to derive the private key from the public key, even though they're mathematically related."
      ],
      "metadata": {
        "id": "UUa-RhUZ1x7x"
      }
    },
    {
      "cell_type": "code",
      "source": [
        "def generate_key_pair(first_prime, second_prime):\n",
        "    \"\"\"Return modulus (public key) and prime factors (private key).\"\"\"\n",
        "    modulus = first_prime * second_prime\n",
        "    private_primes = (first_prime, second_prime)\n",
        "    return modulus, private_primes\n",
        "\n",
        "def encrypt_message(plaintext, modulus):\n",
        "    \"\"\"**Encryption**: multiply each character’s code by the **modulus**.\"\"\"\n",
        "    return [ord(char) * modulus for char in plaintext]\n",
        "\n",
        "def decrypt_message(ciphertext, private_primes):\n",
        "    \"\"\"**Decryption**: recompute the **modulus** from your **private key** and divide.\"\"\"\n",
        "    first_prime, second_prime = private_primes\n",
        "    modulus = first_prime * second_prime\n",
        "    return ''.join(chr(value // modulus) for value in ciphertext)\n",
        "\n",
        "# === Demonstration ===\n",
        "# 1. Key generation\n",
        "modulus, private_primes = generate_key_pair(17, 23)\n",
        "print(\"Public key (modulus):\", modulus)\n",
        "print(\"Private key (primes):\", private_primes)\n",
        "\n",
        "# 2. Original message\n",
        "plaintext = \"For your eyes only\"\n",
        "print(\"Plaintext message:   \", plaintext)\n",
        "\n",
        "# 3. Encryption\n",
        "ciphertext = encrypt_message(plaintext, modulus)\n",
        "print(\"Ciphertext values:   \", ciphertext)\n",
        "\n",
        "# 4. Decryption\n",
        "recovered = decrypt_message(ciphertext, private_primes)\n",
        "print(\"Recovered message:   \", recovered)"
      ],
      "metadata": {
        "colab": {
          "base_uri": "https://localhost:8080/"
        },
        "id": "Bmz5Ta_h2G9B",
        "outputId": "cefb17ee-3589-4c48-c087-16b9dddbf5c7"
      },
      "execution_count": 28,
      "outputs": [
        {
          "output_type": "stream",
          "name": "stdout",
          "text": [
            "Public key (modulus): 391\n",
            "Private key (primes): (17, 23)\n",
            "Plaintext message:    For your eyes only\n",
            "Ciphertext values:    [27370, 43401, 44574, 12512, 47311, 43401, 45747, 44574, 12512, 39491, 47311, 39491, 44965, 12512, 43401, 43010, 42228, 47311]\n",
            "Recovered message:    For your eyes only\n"
          ]
        }
      ]
    },
    {
      "cell_type": "markdown",
      "source": [
        "> Note: The example above is a dramatic simplification to demonstrate the concept. Real asymmetric encryption algorithms like RSA use complex mathematics involving very large prime numbers.\n",
        "\n",
        "## Real-World Applications of Asymmetric Encryption\n",
        "\n",
        "Asymmetric encryption is used in many security systems:\n",
        "\n",
        "* **HTTPS**: Secures websites using TLS/SSL protocols\n",
        "* **SSH**: Secure remote access to servers\n",
        "* **Digital signatures**: Verifying the authenticity of messages or software\n",
        "* **Cryptocurrency**: Securing blockchain transactions\n",
        "* **Secure email**: Systems like PGP (Pretty Good Privacy)\n",
        "\n",
        "| Aspect | Symmetric Encryption | Asymmetric Encryption |\n",
        "|--------|----------------------|------------------------|\n",
        "| Keys | Same key used for encryption and decryption | Different keys for encryption and decryption |\n",
        "| Key exchange | Must securely share the key beforehand | Public key can be shared openly |\n",
        "| Speed | Fast, efficient for large data | Slower, typically used for small data or key exchange |\n",
        "| Example | Caesar cipher, AES | RSA, ECC |\n",
        "| Common uses | Bulk data encryption, file encryption | Key exchange, digital signatures, identity verification |\n",
        "\n",
        "**RSA** (Rivest–Shamir–Adleman) is one of the most widely used asymmetric encryption algorithms, based on the mathematical properties of large prime numbers.\n",
        "\n",
        "**Key exchange problem** refers to the challenge of securely sharing symmetric encryption keys between parties who want to communicate. Asymmetric encryption elegantly solves this problem.\n",
        "\n",
        "## Hybrid Encryption\n",
        "\n",
        "In practice, most modern cryptographic systems use a hybrid approach:\n",
        "\n",
        "1. Use asymmetric encryption to securely exchange a temporary symmetric key\n",
        "2. Use the symmetric key to encrypt the actual message data (faster for large amounts of data)\n",
        "3. Include a digital signature created with the sender's private key to verify authenticity\n",
        "\n",
        "This combines the security advantages of asymmetric encryption with the speed advantages of symmetric encryption.\n",
        "\n",
        "Asymmetric encryption represents a major advancement in cryptography that has enabled secure communication over insecure channels like the internet."
      ],
      "metadata": {
        "id": "BTBHhWtD3zpd"
      }
    },
    {
      "cell_type": "markdown",
      "source": [
        "# What is Hashing? One-Way Transformations\n",
        "\n",
        "## Understanding Hashing\n",
        "\n",
        "**Hashing** is a fundamental concept in cybersecurity that's quite different from encryption. While encryption is designed to be reversed (decrypted) with the right key, hashing is intentionally designed as a one-way process - you can convert input data into a hash, but you cannot convert the hash back to the original data.\n",
        "\n",
        "Think of hashing like cooking an egg. You can easily turn a raw egg into a fried egg, but you can't turn the fried egg back into a raw egg. The cooking process is one-way, just like hashing.\n",
        "\n",
        "## What Makes a Hash Function?\n",
        "\n",
        "A good hash function has several key characteristics:\n",
        "\n",
        "* **One-way transformation**: You can easily compute a hash from input data, but you cannot determine the original input from the hash\n",
        "* **Fixed output length**: Regardless of whether your input is a single letter or an entire novel, the output hash has the same length\n",
        "* **Deterministic**: The same input will always produce the same hash output\n",
        "* **Avalanche effect**: A small change in the input (even just one character) produces a completely different hash\n",
        "* **Collision resistance**: It should be very difficult to find two different inputs that produce the same hash\n",
        "\n",
        "## Everyday Examples of Hashing\n",
        "\n",
        "Hashing appears in many everyday scenarios:\n",
        "\n",
        "1. **Library card catalogs**: Books might be organized by taking the first few letters of the author's name and the title to create a unique identifier\n",
        "\n",
        "2. **Fingerprints**: Your fingerprint is essentially a \"hash\" of you - it's much smaller than your entire body but can uniquely identify you\n",
        "\n",
        "3. **Food processing**: When you grind meat, you cannot reconstruct the original cuts from the ground product\n",
        "\n",
        "## Digital Applications of Hashing\n",
        "\n",
        "In computing and cybersecurity, hashing serves several critical purposes:\n",
        "\n",
        "* **Password storage**: Websites store hashes of your passwords, not the actual passwords\n",
        "* **Data integrity**: Verify files haven't been tampered with by comparing their hashes\n",
        "* **Digital signatures**: Authenticate the sender of a message\n",
        "* **Data indexing**: Quickly find information in large databases\n",
        "\n",
        "## The Avalanche Effect\n",
        "\n",
        "One of the most important properties of hash functions is that a tiny change in the input causes a completely different output. Let's consider a simple example:\n",
        "\n",
        "* The hash of \"spy\" might be \"43a8f9\"\n",
        "* The hash of \"spz\" (just changing the last letter) might be \"91c2e7\"\n",
        "\n",
        "Notice how different the hashes are, despite only a single character difference in the input. This property makes hashing excellent for detecting even the smallest changes in data.\n",
        "\n",
        "## Collision Resistance\n",
        "\n",
        "While in theory many different inputs could produce the same hash (since there are infinite possible inputs but a finite number of possible hashes of a given length), good hash functions make finding such \"collisions\" extremely difficult.\n",
        "\n",
        "If you think of a hash function as mapping books to shelves in a library, a collision would be two different books assigned to the same shelf. Good hash functions spread books evenly across shelves, minimizing the chance of collisions.\n",
        "\n",
        "## Hashing vs. Encryption\n",
        "\n",
        "To understand the difference between hashing and encryption, consider this table:\n",
        "\n",
        "| Aspect | Hashing | Encryption |\n",
        "|--------|---------|------------|\n",
        "| Reversibility | One-way (cannot be reversed) | Two-way (can be decrypted) |\n",
        "| Purpose | Verification without revealing original data | Protecting data for later access |\n",
        "| Keys | No keys required (except for specialized variants) | Requires encryption/decryption keys |\n",
        "| Output | Fixed length regardless of input size | Output size related to input size |\n",
        "| Example use | Password storage | Secure messaging |\n",
        "\n",
        "## Basic Hashing Example\n",
        "\n",
        "Let's visualize a very basic hash function before we implement one. Imagine we have a simple rule:\n",
        "\n",
        "1. Convert each character to its numeric value\n",
        "2. Add all the values together\n",
        "3. Take the remainder when divided by 100\n",
        "\n",
        "Using this rule:\n",
        "* \"hello\" → (104 + 101 + 108 + 108 + 111) = 532 → 532 % 100 = 32\n",
        "* \"bye\" → (98 + 121 + 101) = 320 → 320 % 100 = 20\n",
        "\n",
        "This is a very basic hash, but it demonstrates the concept. Real hash functions are much more complex to provide better distribution and security properties.\n",
        "\n",
        "In the next section, we'll implement a simple hash function in Python to help visualize these principles."
      ],
      "metadata": {
        "id": "DpHcETTD4vVx"
      }
    },
    {
      "cell_type": "markdown",
      "source": [
        "# Building a Simple Hash Function: String to Number Transformation\n",
        "\n",
        "Now that we understand what hashing is conceptually, let's build a simple hash function in Python to see these principles in action. Our hash function will transform strings into fixed-length numeric values.\n",
        "\n",
        "## The Components of a Hash Function\n",
        "\n",
        "A hash function typically processes input data in chunks, gradually building up the final hash value. Let's examine the key components we'll need:\n",
        "\n",
        "1. **Initialization**: Start with an initial value\n",
        "2. **Character processing**: Process each character in the input string\n",
        "3. **Mixing operations**: Use mathematical operations to thoroughly mix the data\n",
        "4. **Modulo reduction**: Keep the hash value within a specified range\n",
        "\n",
        "## Implementing a Simple Hash Function\n",
        "\n",
        "Here's a basic implementation of a hash function that converts strings to numeric values:"
      ],
      "metadata": {
        "id": "QE164uaL43Uh"
      }
    },
    {
      "cell_type": "code",
      "source": [
        "def spy_hash(message, size=1000):\n",
        "    \"\"\"\n",
        "    A simple hash function for educational purposes\n",
        "\n",
        "    Parameters:\n",
        "    - message: The input string to hash\n",
        "    - size: The maximum hash value (modulus)\n",
        "\n",
        "    Returns:\n",
        "    - An integer hash between 0 and size-1\n",
        "    \"\"\"\n",
        "    # Start with a prime number as the initial hash value\n",
        "    hash_value = 17\n",
        "\n",
        "    # Process each character in the message\n",
        "    for char in message:\n",
        "        # Get ASCII value of the character\n",
        "        ascii_value = ord(char)\n",
        "\n",
        "        # Combine current hash with the character's ASCII value\n",
        "        # Multiply by another prime (31) to distribute values better\n",
        "        hash_value = (hash_value * 31 + ascii_value) % size\n",
        "\n",
        "    return hash_value\n"
      ],
      "metadata": {
        "id": "XylCezJu44CG"
      },
      "execution_count": 29,
      "outputs": []
    },
    {
      "cell_type": "markdown",
      "source": [
        "Let's examine each component:\n",
        "\n",
        "1. We start with `17` (a prime number) as our initial hash value\n",
        "2. For each character, we get its ASCII value using `ord()`\n",
        "3. We multiply the current hash by `31` (a prime number commonly used in hash functions)\n",
        "4. We add the ASCII value of the current character\n",
        "5. We take the modulo with `size` to keep the hash within our desired range\n",
        "\n",
        "Notice how we multiply by 31 before adding the ASCII value. This ensures that the position of each character affects the final hash, not just its value. Prime numbers like 17 and 31 are commonly used in hash functions because they help ensure a good distribution of hash values.\n",
        "\n",
        "## Testing Our Hash Function\n",
        "\n",
        "Let's see how our function handles various inputs:"
      ],
      "metadata": {
        "id": "MNW1_kkP48zO"
      }
    },
    {
      "cell_type": "code",
      "source": [
        "# Test with agent codenames\n",
        "agent_codes = [\"Agent007\", \"SecretSquirrel\", \"BlackWidow\", \"WinterSoldier\"]\n",
        "print(\"Hash values:\")\n",
        "for code in agent_codes:\n",
        "    print(f\"'{code}': {spy_hash(code)}\")"
      ],
      "metadata": {
        "colab": {
          "base_uri": "https://localhost:8080/"
        },
        "id": "F9ATUI-y5APZ",
        "outputId": "aa3c7d6c-0cc5-4525-95a4-2a39cd54078c"
      },
      "execution_count": 30,
      "outputs": [
        {
          "output_type": "stream",
          "name": "stdout",
          "text": [
            "Hash values:\n",
            "'Agent007': 843\n",
            "'SecretSquirrel': 386\n",
            "'BlackWidow': 916\n",
            "'WinterSoldier': 452\n"
          ]
        }
      ]
    },
    {
      "cell_type": "markdown",
      "source": [
        "## Demonstrating Hash Properties\n",
        "\n",
        "### 1. Deterministic Nature\n",
        "\n",
        "The same input always produces the same output:"
      ],
      "metadata": {
        "id": "2TrfSQgH5U-8"
      }
    },
    {
      "cell_type": "code",
      "source": [
        "message = \"TopSecret\"\n",
        "print(f\"\\nHash of '{message}': {spy_hash(message)}\")\n",
        "print(f\"Hash of '{message}' again: {spy_hash(message)}\")  # Same result"
      ],
      "metadata": {
        "colab": {
          "base_uri": "https://localhost:8080/"
        },
        "id": "nqCBACck5ZNR",
        "outputId": "255526ec-b191-430b-b226-0c30371f3306"
      },
      "execution_count": 31,
      "outputs": [
        {
          "output_type": "stream",
          "name": "stdout",
          "text": [
            "\n",
            "Hash of 'TopSecret': 308\n",
            "Hash of 'TopSecret' again: 308\n"
          ]
        }
      ]
    },
    {
      "cell_type": "markdown",
      "source": [
        "### 2. The Avalanche Effect\n",
        "\n",
        "Small changes in input produce significantly different hashes:"
      ],
      "metadata": {
        "id": "ZdwkAzKy5aWC"
      }
    },
    {
      "cell_type": "code",
      "source": [
        "message1 = \"Meet at the safe house\"\n",
        "message2 = \"Meet at the safe house.\"  # Added just a period\n",
        "\n",
        "print(f\"\\nAvalanche effect demonstration:\")\n",
        "print(f\"Hash of '{message1}': {spy_hash(message1)}\")\n",
        "print(f\"Hash of '{message2}': {spy_hash(message2)}\")  # Completely different"
      ],
      "metadata": {
        "colab": {
          "base_uri": "https://localhost:8080/"
        },
        "id": "ddi8Do5b5dNb",
        "outputId": "c1ab4ac5-ffdd-4204-df59-27fe9999732f"
      },
      "execution_count": 32,
      "outputs": [
        {
          "output_type": "stream",
          "name": "stdout",
          "text": [
            "\n",
            "Avalanche effect demonstration:\n",
            "Hash of 'Meet at the safe house': 977\n",
            "Hash of 'Meet at the safe house.': 333\n"
          ]
        }
      ]
    },
    {
      "cell_type": "markdown",
      "source": [
        "### 3. Fixed Output Range\n",
        "\n",
        "Regardless of input length, the output remains within our specified range:"
      ],
      "metadata": {
        "id": "iaMO9aUZ5g3Q"
      }
    },
    {
      "cell_type": "code",
      "source": [
        "short_text = \"Hi\"\n",
        "long_text = \"This is a much longer message that contains detailed instructions for the covert operation scheduled for next Tuesday. The package will be delivered at exactly midnight near the old clock tower. Bring the usual verification codes and make sure you're not followed.\"\n",
        "\n",
        "print(f\"\\nFixed range demonstration:\")\n",
        "print(f\"Hash of short text: {spy_hash(short_text)}\")\n",
        "print(f\"Hash of long text: {spy_hash(long_text)}\")"
      ],
      "metadata": {
        "colab": {
          "base_uri": "https://localhost:8080/"
        },
        "id": "3kP1ZquX5jLV",
        "outputId": "8b2b5a99-c921-4ef2-e629-71616ca3d6b4"
      },
      "execution_count": 33,
      "outputs": [
        {
          "output_type": "stream",
          "name": "stdout",
          "text": [
            "\n",
            "Fixed range demonstration:\n",
            "Hash of short text: 674\n",
            "Hash of long text: 40\n"
          ]
        }
      ]
    },
    {
      "cell_type": "markdown",
      "source": [
        "## Limitations of Simple Hash Functions\n",
        "\n",
        "While our hash functions demonstrate the basic principles, they have important limitations:\n",
        "\n",
        "1. **Poor distribution**: Hash values aren't evenly distributed\n",
        "2. **Weak avalanche effect**: Changes might not affect all output bits\n",
        "3. **Low collision resistance**: It's relatively easy to find inputs that hash to the same value\n",
        "4. **Security vulnerabilities**: Not resistant to cryptographic attacks\n",
        "\n",
        "For real security applications, always use established cryptographic hash functions from Python's `hashlib` module, which we'll explore later."
      ],
      "metadata": {
        "id": "qlVFBXIM5x2q"
      }
    },
    {
      "cell_type": "markdown",
      "source": [
        "# Practical Cybersecurity in Python: Protecting Sensitive Data\n",
        "\n",
        "In real-world applications, we need to protect two types of sensitive information:\n",
        "* **Passwords** - should be hashed (one-way transformation)\n",
        "* **Personal data** (like SSNs) - should be encrypted (reversible)\n",
        "\n",
        "Python makes both these tasks straightforward with its built-in libraries.\n",
        "\n",
        "## Hashing Passwords with SHA-256\n",
        "\n",
        "Passwords should never be stored as plain text. Instead, we use a hash function:"
      ],
      "metadata": {
        "id": "PDha4OFK7uh-"
      }
    },
    {
      "cell_type": "code",
      "source": [
        "import hashlib\n",
        "import os\n",
        "\n",
        "# Generate a random salt for security\n",
        "salt = os.urandom(16)  # 16 random bytes\n",
        "\n",
        "# Hash a password with the salt\n",
        "def hash_password(password):\n",
        "    # Convert password to bytes and combine with salt\n",
        "    salted_password = salt + password.encode()\n",
        "    # Create the hash\n",
        "    hash_object = hashlib.sha256(salted_password)\n",
        "    # Convert to hexadecimal string\n",
        "    password_hash = hash_object.hexdigest()\n",
        "    return password_hash\n",
        "\n",
        "# Example\n",
        "my_password = \"secret123\"\n",
        "hashed = hash_password(my_password)\n",
        "print(f\"Original: {my_password}\")\n",
        "print(f\"Hashed: {hashed}\")"
      ],
      "metadata": {
        "colab": {
          "base_uri": "https://localhost:8080/"
        },
        "id": "P3LmQcng7vUT",
        "outputId": "d6b62a8a-c50a-40b6-b8e5-c999de0ec568"
      },
      "execution_count": 34,
      "outputs": [
        {
          "output_type": "stream",
          "name": "stdout",
          "text": [
            "Original: secret123\n",
            "Hashed: 92c9181a3e8c1988c24b6291dc58fc6b58d2b324d68cd5a56e4009e49046c4e8\n"
          ]
        }
      ]
    },
    {
      "cell_type": "markdown",
      "source": [
        "This simple function:\n",
        "1. Adds random \"salt\" data to prevent identical passwords from having the same hash\n",
        "2. Uses SHA-256 (a secure hash algorithm) to create the hash\n",
        "3. Returns the hash as a hexadecimal string\n",
        "\n",
        "## Encrypting Sensitive Data\n",
        "\n",
        "For data we need to retrieve later (like SSNs), we use encryption instead of hashing:"
      ],
      "metadata": {
        "id": "ferU8dO77za9"
      }
    },
    {
      "cell_type": "code",
      "source": [
        "from cryptography.fernet import Fernet\n",
        "\n",
        "# Generate a secret key\n",
        "key = Fernet.generate_key()\n",
        "cipher = Fernet(key)\n",
        "\n",
        "# Encrypt data\n",
        "def encrypt_ssn(ssn):\n",
        "    encrypted = cipher.encrypt(ssn.encode())\n",
        "    return encrypted\n",
        "\n",
        "# Decrypt data\n",
        "def decrypt_ssn(encrypted_ssn):\n",
        "    decrypted = cipher.decrypt(encrypted_ssn)\n",
        "    return decrypted.decode()\n",
        "\n",
        "# Example\n",
        "my_ssn = \"123-45-6789\"\n",
        "encrypted_ssn = encrypt_ssn(my_ssn)\n",
        "print(f\"Original: {my_ssn}\")\n",
        "print(f\"Encrypted: {encrypted_ssn}\")\n",
        "print(f\"Decrypted: {decrypt_ssn(encrypted_ssn)}\")"
      ],
      "metadata": {
        "colab": {
          "base_uri": "https://localhost:8080/"
        },
        "id": "dN6SdYkb774m",
        "outputId": "aa85eb3b-4836-49e1-d492-9a192ad80a23"
      },
      "execution_count": 35,
      "outputs": [
        {
          "output_type": "stream",
          "name": "stdout",
          "text": [
            "Original: 123-45-6789\n",
            "Encrypted: b'gAAAAABoUc8MLrxdsQi52xLY874w9iFxmA-fzAa7dj1sLWzKCo9a3B2R5Y-1gD200T4Dk6xfMIvczcBYThrOybEpRDaTVIUhag=='\n",
            "Decrypted: 123-45-6789\n"
          ]
        }
      ]
    },
    {
      "cell_type": "markdown",
      "source": [
        "The `Fernet` class provides simple but secure encryption using AES-128.\n",
        "\n",
        "## Storing User Data Securely\n",
        "\n",
        "Now let's combine these techniques to store user information in a JSON file:"
      ],
      "metadata": {
        "id": "8CxdoIWW8DGE"
      }
    },
    {
      "cell_type": "code",
      "source": [
        "import json\n",
        "\n",
        "# Function to register a new user\n",
        "def register_user():\n",
        "    # Get user information\n",
        "    username = input(\"Enter username: \")\n",
        "    password = input(\"Enter password: \")\n",
        "    ssn = input(\"Enter SSN (xxx-xx-xxxx): \")\n",
        "\n",
        "    # Load existing users\n",
        "    users = {}\n",
        "    if os.path.exists(\"users.json\"):\n",
        "        with open(\"users.json\", \"r\") as f:\n",
        "            users = json.load(f)\n",
        "\n",
        "    # Check if username already exists\n",
        "    if username in users:\n",
        "        print(\"Username already exists!\")\n",
        "        return\n",
        "\n",
        "    # has the password using our function\n",
        "    password_hash = hash_password(password)\n",
        "\n",
        "    # Encrypt the SSN\n",
        "    encrypted_ssn = cipher.encrypt(ssn.encode()).decode()\n",
        "\n",
        "    # Store user data\n",
        "    users[username] = {\n",
        "        \"salt\": salt.hex(),\n",
        "        \"password_hash\": password_hash,\n",
        "        \"encrypted_ssn\": encrypted_ssn\n",
        "    }\n",
        "\n",
        "    # Save to file\n",
        "    with open(\"users.json\", \"w\") as f:\n",
        "        json.dump(users, f, indent=2)\n",
        "\n",
        "    print(f\"User {username} registered successfully!\")\n",
        "\n",
        "register_user()"
      ],
      "metadata": {
        "id": "-xZa5PmQ8BJt",
        "outputId": "095bb6fb-132e-4b6f-fa17-588533ab9888",
        "colab": {
          "base_uri": "https://localhost:8080/"
        }
      },
      "execution_count": 36,
      "outputs": [
        {
          "output_type": "stream",
          "name": "stdout",
          "text": [
            "Enter username: brendan\n",
            "Enter password: 3r23432\n",
            "Enter SSN (xxx-xx-xxxx): 43-245-3232\n",
            "User brendan registered successfully!\n"
          ]
        }
      ]
    },
    {
      "cell_type": "markdown",
      "source": [],
      "metadata": {
        "id": "fMQG7oiF-Gkb"
      }
    },
    {
      "cell_type": "markdown",
      "source": [
        "If you run the above program, and enter a user, you should see that the resuling JSON file looks something like this:\n",
        "\n",
        "\n",
        "```javascript\n",
        "{\n",
        "  \"Smiley\": {    // Record for username \"Smiley\"\n",
        "    \"salt\": \"a6e8456a13fed9ec6727d9a4b3735373\",\n",
        "    \"password_hash\": \"c4d5473405fb87b5dd54dd8857a8700977d8445338163b13ec0fcba03baa26fd\",\n",
        "    \"encrypted_ssn\": \"gAAAAABoCjq1YHb_YJmAAuldH6YGBEwz7tbIXg_NJ7OYYiLL6HwQP4A2QK23HWThRXCIVdhRaO5hgvG_ftwmaT9pNeRUOVB_bQ==\"\n",
        "  }\n",
        "}\n",
        "\n",
        "\n",
        "```"
      ],
      "metadata": {
        "id": "GQT_i1289ZoZ"
      }
    },
    {
      "cell_type": "code",
      "source": [
        "# View the file\n",
        "!cat users.json"
      ],
      "metadata": {
        "colab": {
          "base_uri": "https://localhost:8080/"
        },
        "id": "yY26_Ekl9FC-",
        "outputId": "2b022a73-7b3a-41ab-f51d-f757605fea3a"
      },
      "execution_count": 37,
      "outputs": [
        {
          "output_type": "stream",
          "name": "stdout",
          "text": [
            "{\n",
            "  \"brendan\": {\n",
            "    \"salt\": \"0125642e4db47e689a01dcca5caefad0\",\n",
            "    \"password_hash\": \"0ddf62480f9919dccbf94576b9ff9d64f0ca868e155f0cb12c306de3a95e508e\",\n",
            "    \"encrypted_ssn\": \"gAAAAABoUc8f4_EkQp0SH5bqBmXiady9egZVqWMzvDkwjCwQAvHx6vcAxTJQe-nBEJLENNFnDQ5l4egJtY6rCzWVgeSsTKS2Qg==\"\n",
            "  }\n",
            "}"
          ]
        }
      ]
    },
    {
      "cell_type": "markdown",
      "source": [
        "## Conclusion\n",
        "\n",
        "Understanding cybersecurity fundamentals helps you write safer code, identify vulnerabilities, and protect sensitive information. As technology continues to evolve, these principles will remain relevant while specific implementations change. The mathematical and conceptual foundations you've learned in this chapter will serve as building blocks for more advanced security topics and provide a framework for evaluating new security challenges throughout your career.\n",
        "\n",
        "Remember that security isn't something added at the end of development—it should be considered from the very beginning of any project. By incorporating these principles into your programming practice early, you'll develop habits that naturally lead to more secure and robust systems."
      ],
      "metadata": {
        "id": "wDIL8N7LBgbo"
      }
    },
    {
      "cell_type": "markdown",
      "source": [
        "## Python Practice\n",
        "Here are some Python practice problems related to the chapter's content:"
      ],
      "metadata": {
        "id": "QkHI3vPcidg5"
      }
    },
    {
      "cell_type": "code",
      "source": [
        "!wget https://github.com/brendanpshea/computing_concepts_python/raw/main/python_code_quiz/pyquiz.py -q -nc\n",
        "from pyquiz import PracticeTool\n",
        "practice_tool = PracticeTool(json_url='https://github.com/brendanpshea/computing_concepts_python/raw/main/python_code_quiz/python_07_cyber.json')"
      ],
      "metadata": {
        "id": "cKiWosluijGX",
        "outputId": "69c78e11-e4a2-416b-8f2e-9c057b5eb4b3",
        "colab": {
          "base_uri": "https://localhost:8080/",
          "height": 381,
          "referenced_widgets": [
            "3a2535f2471646778025c687c4f1de0a",
            "5e08761886fc4766bad84be43b5795da",
            "ded74dc2a570418f93771dd590c3c436",
            "e4ec5acd80534a1997c9a6cf45141afc",
            "4453968477ac415d864d9df1e3b8b2a5",
            "3b4b06ea441b4dc486c9dd62e3d99bee",
            "3d729eb0864144098509c6b991329c50",
            "747898c8850d46258f3fdf8a1d550c8a",
            "5cf6d83c91e14685a514fa52ab6a3c09",
            "541712d6eab147908fe1a81b8592086c",
            "8efbc44717e040ab97d8ac4f56dfe2ee",
            "05a8efa48560440f9a0b17243f7b9e00",
            "16f4c0aadc624cdc8c86bc21ffbb5b56",
            "6b73b813d56e458ea299b764eb3c8fc9",
            "347f41abd73642f599518f39115e0c2e",
            "3c36425aec804528ae70e4b14b61e24b",
            "662fcc8280644819bfaee2e2cb699b21",
            "844094a69c3840aab49539b064fabb3d",
            "7b913f1cd9dc4fd180e1b3bf37bfead5",
            "25159c31c76d4160b42b61e25dcd0d6a",
            "2957d355079d48499126f41dc269ca05",
            "9f11b3900090474fb8fe3dcf92e08432",
            "4ea9ddfde4e54b54b863cc44abff648e",
            "718c377ac7384a1890ba910ec7859672",
            "c30e5d59f8894e968e9d53b65a0cfd66",
            "2b985b80c6fd4a4182abc905d4f2357c",
            "1b538e2421de4f048865ec1e5956d6b7",
            "c56ebc665d0e42769413ebb38a43fa20",
            "922c4f915e67451595e3a42c5e6ef7e3",
            "a988a85954cc4b0b931a58fd0dd60a07",
            "d225a3eafdb143b2822383c93e84fde6",
            "a7fbec91cbc040479dc3b3104b662379",
            "0edcf37aaa284538b2d85a202136b551",
            "986078624e564ab2b786030aabf71d6d",
            "ddd8ce03e75f4961a9592cf99ce0ed8b",
            "f2f2ba792f194f16b136493f6d4e7766",
            "6a6028aa97b24f2eae6e981d0a57a5fc",
            "01735181d38d4f2daf5d163048faf2ec",
            "c5c54aee4554459bb54b6d373098e3d3",
            "8151fb30317e488a8294869338f5403e",
            "d30765cbbd3f4566947667a8dc154a1b",
            "95c58926bf1141d08e65360c91ff38ca",
            "adfcc0090db64d1794b6b08dd22fe832",
            "b1ce8179123f436bb58c3b79b1523e9b",
            "6e5cd5f8dded4bfeb7507b789451f5b5",
            "d588db8369344f06abfd5ab116275dc1",
            "02055de3c0444dc7af4d3e9948e06e8a",
            "9b0c92bde25943689fbee473a6deeb70"
          ]
        }
      },
      "execution_count": 38,
      "outputs": [
        {
          "output_type": "display_data",
          "data": {
            "text/plain": [
              "HBox(children=(VBox(children=(IntProgress(value=0, description='Progress:', layout=Layout(width='100%'), max=2…"
            ],
            "application/vnd.jupyter.widget-view+json": {
              "version_major": 2,
              "version_minor": 0,
              "model_id": "3a2535f2471646778025c687c4f1de0a"
            }
          },
          "metadata": {}
        },
        {
          "output_type": "display_data",
          "data": {
            "text/plain": [
              "<IPython.core.display.Javascript object>"
            ],
            "application/javascript": [
              "\n",
              "        (function() {\n",
              "          function handler(e) {\n",
              "            if (e.keyCode===9) {\n",
              "              e.preventDefault();\n",
              "              let start=this.selectionStart, end=this.selectionEnd;\n",
              "              this.value=this.value.slice(0,start)+\"    \"+this.value.slice(end);\n",
              "              this.selectionStart=this.selectionEnd=start+4;\n",
              "            }\n",
              "          }\n",
              "          function attach() {\n",
              "            document.querySelectorAll('.code-input textarea')\n",
              "              .forEach(function(ta) {\n",
              "                if (!ta._tabHandler) {\n",
              "                  ta._tabHandler = true;\n",
              "                  ta.addEventListener('keydown', handler, false);\n",
              "                }\n",
              "              });\n",
              "          }\n",
              "          attach();\n",
              "          new MutationObserver(attach)\n",
              "            .observe(document.body, {childList:true, subtree:true});\n",
              "        })();\n",
              "        "
            ]
          },
          "metadata": {}
        }
      ]
    },
    {
      "cell_type": "markdown",
      "source": [
        "## Practice With Quizlet"
      ],
      "metadata": {
        "id": "9xwVxHIMWByC"
      }
    },
    {
      "cell_type": "code",
      "source": [
        "%%html\n",
        "<iframe src=\"https://quizlet.com/1043033391/learn/embed?i=psvlh&x=1jj1\" height=\"700\" width=\"100%\" style=\"border:0\"></iframe>"
      ],
      "metadata": {
        "id": "bM42FKQ4WDri",
        "outputId": "de437591-35fe-4729-b564-ed510167acfb",
        "colab": {
          "base_uri": "https://localhost:8080/",
          "height": 721
        }
      },
      "execution_count": 39,
      "outputs": [
        {
          "output_type": "display_data",
          "data": {
            "text/plain": [
              "<IPython.core.display.HTML object>"
            ],
            "text/html": [
              "<iframe src=\"https://quizlet.com/1043033391/learn/embed?i=psvlh&x=1jj1\" height=\"700\" width=\"100%\" style=\"border:0\"></iframe>\n"
            ]
          },
          "metadata": {}
        }
      ]
    },
    {
      "cell_type": "markdown",
      "source": [
        "## Glossary\n",
        "\n",
        "| Term | Definition |\n",
        "|------|------------|\n",
        "| Cybersecurity | The practice of protecting systems, networks, and programs from digital attacks, essential for personal privacy and professional development. |\n",
        "| ASCII | A 7-bit encoding system limited to 128 characters, covering only English letters, numbers, and basic symbols. |\n",
        "| Unicode | A modern standard capable of representing characters from all writing systems worldwide, including letters from all languages, mathematical symbols, and emojis. |\n",
        "| UTF-8 | A variable-width encoding that uses between 1-4 bytes per character, with ASCII characters using just 1 byte for efficiency. |\n",
        "| ord() | Python function that returns the numeric Unicode value of a given character. |\n",
        "| chr() | Python function that converts a numeric code back to a character. |\n",
        "| Modulo Operation (%) | Returns the remainder after division between two numbers, creating \"wrapping\" behavior essential for cipher algorithms. |\n",
        "| Integer Division (//) | Returns only the whole number quotient without the remainder, often used alongside modulo in cryptographic algorithms. |\n",
        "| Substitution Cipher | A method of encryption where units of plaintext are replaced with ciphertext according to a fixed system. |\n",
        "| Caesar Cipher | An ancient encryption method where each letter shifts a fixed number of positions in the alphabet, with the shift amount being the \"key\". |\n",
        "| Key Space | The total number of possible keys that can be used in an encryption system. |\n",
        "| Cryptanalysis | The study of analyzing information systems to examine hidden aspects, including breaking encryption methods. |\n",
        "| Frequency Analysis | A technique used to break substitution ciphers by examining the frequency of letters or groups of letters in encrypted text. |\n",
        "| Vigenère Cipher | A polyalphabetic substitution cipher that uses a keyword to determine multiple shift values, making it more resistant to frequency analysis. |\n",
        "| Polyalphabetic Cipher | A substitution cipher that uses multiple substitution alphabets, typically determined by a keyword. |\n",
        "| Asymmetric Encryption | Encryption system using different keys for encryption (public key) and decryption (private key). |\n",
        "| RSA | One of the most widely used asymmetric encryption algorithms, based on the mathematical properties of large prime numbers. |\n",
        "| Key Exchange Problem | The challenge of securely sharing symmetric encryption keys between parties who want to communicate. |\n",
        "| Hashing | A one-way transformation process that converts input of any size to a fixed-length output that cannot be reversed. |\n",
        "| Avalanche Effect | The property where a small change in input produces a dramatically different hash output. |\n",
        "| Collision Resistance | The property of a hash function that makes it difficult to find two different inputs that produce the same hash output. |\n",
        "| Salt | Random data added to a password before hashing to prevent identical passwords from producing the same hash value. |\n",
        "| SHA-256 | A secure hash algorithm that creates a 256-bit (32-byte) hash value, commonly used for password hashing. |\n",
        "| Fernet | A class in Python's cryptography library that provides simple but secure encryption using AES-128. |\n",
        "| Defense in Depth | A security approach that uses multiple layers of security controls throughout a system. |\n"
      ],
      "metadata": {
        "id": "XX53CPh5722F"
      }
    },
    {
      "cell_type": "code",
      "source": [],
      "metadata": {
        "id": "jckRjTVMVp_s"
      },
      "execution_count": 39,
      "outputs": []
    }
  ]
}