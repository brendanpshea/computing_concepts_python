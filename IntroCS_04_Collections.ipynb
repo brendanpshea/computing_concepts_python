{
  "nbformat": 4,
  "nbformat_minor": 0,
  "metadata": {
    "colab": {
      "provenance": [],
      "authorship_tag": "ABX9TyOjx7Y3NF9xECJjFBgkOcKG",
      "include_colab_link": true
    },
    "kernelspec": {
      "name": "python3",
      "display_name": "Python 3"
    },
    "language_info": {
      "name": "python"
    }
  },
  "cells": [
    {
      "cell_type": "markdown",
      "metadata": {
        "id": "view-in-github",
        "colab_type": "text"
      },
      "source": [
        "<a href=\"https://colab.research.google.com/github/brendanpshea/computing_concepts_python/blob/main/IntroCS_04_Collections.ipynb\" target=\"_parent\"><img src=\"https://colab.research.google.com/assets/colab-badge.svg\" alt=\"Open In Colab\"/></a>"
      ]
    },
    {
      "cell_type": "markdown",
      "source": [
        "# Beyond the Basics - Collections & Design in Python\n",
        "### Brendan SHea, PhD\n",
        "\n",
        "Welcome to the next stage of your Python journey! Now that you've mastered the fundamentals of Python including basic data types and control structures, we're ready to explore more powerful ways to organize data and build well-designed programs.\n",
        "\n",
        "In this section, we'll cover:\n",
        "\n",
        "* **Python Collections** - Efficient ways to store and manipulate multiple pieces of data\n",
        "  * Lists - Ordered, mutable collections\n",
        "  * Tuples - Ordered, immutable collections\n",
        "  * Sets - Unordered collections of unique elements\n",
        "* **Program Design and Debugging** - Techniques to create reliable, working code\n",
        "  * Breaking down problems\n",
        "  * Planning before coding\n",
        "  * Finding and fixing bugs\n",
        "\n",
        "These skills will transform you from someone who can write simple scripts to someone who can design and build complete programs that solve real problems!"
      ],
      "metadata": {
        "id": "aCTe2-hvGX8D"
      }
    },
    {
      "cell_type": "markdown",
      "source": [
        "## What We've Learned So Far\n",
        "\n",
        "Before diving into new concepts, let's quickly review what we've covered in previous chapters to make sure we have a solid foundation.\n",
        "\n",
        "* **Basic Computer Architecture**\n",
        "  * Computer components (CPU, memory, storage)\n",
        "  * How computers process information\n",
        "  * Binary and data representation\n",
        "\n",
        "* **Python Data Types and Functions**\n",
        "  * **Integers** - Whole numbers like `5` or `-10`\n",
        "  * **Floats** - Decimal numbers like `3.14` or `-0.5`\n",
        "  * **Strings** - Text data enclosed in quotes like `\"Hello\"` or `'Python'`\n",
        "  * **Booleans** - Truth values `True` or `False`\n",
        "  * **Functions** - Reusable blocks of code that perform specific tasks\n",
        "\n",
        "* **Python Control Structures**\n",
        "  * **Conditional statements** - `if`, `elif`, and `else`\n",
        "  * **Loops** - `for` and `while` loops\n",
        "  * **Break and continue** - Special commands to control loop execution\n",
        "\n",
        "This foundation gives us the building blocks to now work with more complex data structures and program design concepts."
      ],
      "metadata": {
        "id": "Fs4QgNjLGeGF"
      }
    },
    {
      "cell_type": "markdown",
      "source": [
        "## Python Collections: An Overview\n",
        "\n",
        "**Collections** are data structures that allow us to store multiple values in a single variable. They're essential for organizing and managing data in programs.\n",
        "\n",
        "Python has four built-in collection types, and we'll focus on three of them:\n",
        "\n",
        "* **Lists** - Ordered, changeable collections that can contain duplicate values\n",
        "  * Example: `planets = [\"Mercury\", \"Venus\", \"Earth\", \"Mars\"]`\n",
        "  \n",
        "* **Tuples** - Ordered, unchangeable collections that can contain duplicate values\n",
        "  * Example: `coordinates = (34.0522, -118.2437)`\n",
        "  \n",
        "* **Sets** - Unordered collections with no duplicate values\n",
        "  * Example: `primary_colors = {\"red\", \"blue\", \"yellow\"}`\n",
        "\n",
        "(The fourth type is Dictionaries, which we'll cover in a future lesson)\n",
        "\n",
        "| Collection | Ordered? | Changeable? | Duplicates Allowed? | Syntax |\n",
        "|------------|----------|-------------|---------------------|--------|\n",
        "| List | Yes | Yes | Yes | `[ ]` |\n",
        "| Tuple | Yes | No | Yes | `( )` |\n",
        "| Set | No | Yes | No | `{ }` |\n",
        "\n",
        "Each collection type has specific use cases. By understanding when to use each one, you'll write more efficient and organized code!"
      ],
      "metadata": {
        "id": "n9EBWvqfGlQv"
      }
    },
    {
      "cell_type": "markdown",
      "source": [
        "## Lists in Python: Dynamic Ordered Collections\n",
        "\n",
        "A **list** is a collection of items stored in a specific order. Lists are created using square brackets `[ ]` and can contain items of different data types.\n",
        "\n",
        "Lists are one of the most versatile and commonly used data structures in Python because they are:\n",
        "\n",
        "* **Ordered** - Items have a defined order that doesn't change\n",
        "* **Mutable** - You can change, add, and remove items after creation\n",
        "* **Indexed** - You can access items using their position (starting from 0)\n",
        "* **Allow duplicates** - They can contain the same value multiple times\n",
        "\n",
        "### Creating Lists\n",
        "\n",
        "Let's see how to create different types of lists:"
      ],
      "metadata": {
        "id": "yxXTjQEcGpg9"
      }
    },
    {
      "cell_type": "code",
      "source": [
        "# A list of Tiny Titans characters\n",
        "titans = [\"Robin\", \"Starfire\", \"Cyborg\", \"Beast Boy\", \"Raven\"]\n",
        "print(\"Titans team:\", titans)"
      ],
      "metadata": {
        "colab": {
          "base_uri": "https://localhost:8080/"
        },
        "id": "gL_Az3TbHy_i",
        "outputId": "819e9a98-d804-4679-e083-886770393a07"
      },
      "execution_count": null,
      "outputs": [
        {
          "output_type": "stream",
          "name": "stdout",
          "text": [
            "Titans team: ['Robin', 'Starfire', 'Cyborg', 'Beast Boy', 'Raven']\n"
          ]
        }
      ]
    },
    {
      "cell_type": "code",
      "source": [
        "# A mixed data type list\n",
        "mixed_list = [10, \"hello\", True, 3.14]\n",
        "print(\"Mixed data types:\", mixed_list)\n",
        "print(\"Type of first item:\", type(mixed_list[0]))\n",
        "print(\"Type of second item:\", type(mixed_list[1]))\n",
        "print(\"Type of third item:\", type(mixed_list[2]))\n",
        "print(\"Type of fourth item:\", type(mixed_list[3]))\n"
      ],
      "metadata": {
        "colab": {
          "base_uri": "https://localhost:8080/"
        },
        "id": "LAMKwhV0H5G5",
        "outputId": "44a37206-585c-4114-bf16-61c3d0a04c0d"
      },
      "execution_count": null,
      "outputs": [
        {
          "output_type": "stream",
          "name": "stdout",
          "text": [
            "Mixed data types: [10, 'hello', True, 3.14]\n",
            "Type of first item: <class 'int'>\n",
            "Type of second item: <class 'str'>\n",
            "Type of third item: <class 'bool'>\n",
            "Type of fourth item: <class 'float'>\n"
          ]
        }
      ]
    },
    {
      "cell_type": "code",
      "source": [
        "# An empty list\n",
        "empty_list = []\n",
        "print(\"Empty list:\", empty_list)\n",
        "print(\"Length of empty list:\", len(empty_list))"
      ],
      "metadata": {
        "colab": {
          "base_uri": "https://localhost:8080/"
        },
        "id": "IOpX5Xj_H6dx",
        "outputId": "17630b6f-aa1f-41a2-b02e-d0761c26eba7"
      },
      "execution_count": null,
      "outputs": [
        {
          "output_type": "stream",
          "name": "stdout",
          "text": [
            "Empty list: []\n",
            "Length of empty list: 0\n"
          ]
        }
      ]
    },
    {
      "cell_type": "markdown",
      "source": [
        "When creating lists, remember that:\n",
        "- Items are separated by commas\n",
        "- Lists can contain any data type (even other lists!)\n",
        "- You can mix different data types in the same list\n",
        "- An empty list is simply created with `[]`\n",
        "\n",
        "### Accessing List Items\n",
        "\n",
        "Lists use zero-based indexing, meaning the first item is at position 0:"
      ],
      "metadata": {
        "id": "CeZitEzsIFv0"
      }
    },
    {
      "cell_type": "code",
      "execution_count": null,
      "metadata": {
        "colab": {
          "base_uri": "https://localhost:8080/"
        },
        "id": "oh9CXTuqGS92",
        "outputId": "aef79105-1199-49ca-f454-e0adcbfa2406"
      },
      "outputs": [
        {
          "output_type": "stream",
          "name": "stdout",
          "text": [
            "First titan: Robin\n",
            "Last titan: Raven\n",
            "Middle titan: Cyborg\n"
          ]
        }
      ],
      "source": [
        "# First, let's create our list\n",
        "titans = [\"Robin\", \"Starfire\", \"Cyborg\", \"Beast Boy\", \"Raven\"]\n",
        "\n",
        "# Get the first Tiny Titan (index 0)\n",
        "first_titan = titans[0]\n",
        "print(\"First titan:\", first_titan)\n",
        "\n",
        "# Get the last Tiny Titan (negative indexing)\n",
        "last_titan = titans[-1]\n",
        "print(\"Last titan:\", last_titan)\n",
        "\n",
        "# Get the middle Tiny Titan\n",
        "middle_titan = titans[2]\n",
        "print(\"Middle titan:\", middle_titan)\n"
      ]
    },
    {
      "cell_type": "code",
      "source": [
        "# Get a range of Tiny Titans (slicing)\n",
        "middle_titans = titans[1:4]\n",
        "print(\"Middle titans (from index 1 to 3):\", middle_titans)\n",
        "\n",
        "# Get the first three Titans\n",
        "first_three = titans[:3]\n",
        "print(\"First three titans:\", first_three)\n",
        "\n",
        "# Get all Titans from the third one to the end\n",
        "from_third = titans[2:]\n",
        "print(\"From third titan to end:\", from_third)"
      ],
      "metadata": {
        "colab": {
          "base_uri": "https://localhost:8080/"
        },
        "id": "yv5x33FcINXa",
        "outputId": "26bd8da8-a37a-418a-ce2f-0ad0315b9717"
      },
      "execution_count": null,
      "outputs": [
        {
          "output_type": "stream",
          "name": "stdout",
          "text": [
            "Middle titan: Cyborg\n",
            "Middle titans (from index 1 to 3): ['Starfire', 'Cyborg', 'Beast Boy']\n",
            "First three titans: ['Robin', 'Starfire', 'Cyborg']\n",
            "From third titan to end: ['Cyborg', 'Beast Boy', 'Raven']\n"
          ]
        }
      ]
    },
    {
      "cell_type": "markdown",
      "source": [
        "When accessing list elements:\n",
        "- Positive indices start at 0 (first item) and increase\n",
        "- Negative indices start at -1 (last item) and decrease\n",
        "- Slicing uses the format `list[start:end]` and includes items from `start` up to (but not including) `end`\n",
        "- If you try to access an index that doesn't exist, Python will raise an `IndexError`\n",
        "\n",
        "### List Length Using `len()`\n",
        "\n",
        "One common operation is finding out how many items are in a list:"
      ],
      "metadata": {
        "id": "Bw6hSvyPIZ3F"
      }
    },
    {
      "cell_type": "code",
      "source": [
        "# Get the number of items in the list\n",
        "titans = [\"Robin\", \"Starfire\", \"Cyborg\", \"Beast Boy\", \"Raven\"]\n",
        "number_of_titans = len(titans)\n",
        "print(\"Number of titans:\", number_of_titans)\n",
        "\n",
        "# Use length in a sentence\n",
        "print(f\"There are {len(titans)} members in the Titans team.\")"
      ],
      "metadata": {
        "colab": {
          "base_uri": "https://localhost:8080/"
        },
        "id": "-lvZP9fRIeer",
        "outputId": "0e4635a2-10b4-4798-c9c7-13fbaf6f5b5d"
      },
      "execution_count": null,
      "outputs": [
        {
          "output_type": "stream",
          "name": "stdout",
          "text": [
            "Number of titans: 5\n",
            "There are 5 members in the Titans team.\n"
          ]
        }
      ]
    },
    {
      "cell_type": "code",
      "source": [
        "# Check if a list is empty\n",
        "empty_list = []\n",
        "if len(empty_list) == 0:\n",
        "    print(\"The list is empty!\")\n",
        "else:\n",
        "    print(\"The list has items in it.\")"
      ],
      "metadata": {
        "id": "dJs0nq12Ihfh"
      },
      "execution_count": null,
      "outputs": []
    },
    {
      "cell_type": "code",
      "source": [
        "# Check if a list is empty\n",
        "empty_list = []\n",
        "if len(empty_list) == 0:\n",
        "    print(\"The list is empty!\")\n",
        "else:\n",
        "    print(\"The list has items in it.\")"
      ],
      "metadata": {
        "id": "yNHpRCYxIy34"
      },
      "execution_count": null,
      "outputs": []
    },
    {
      "cell_type": "markdown",
      "source": [
        "The `len()` function is extremely useful for:\n",
        "- Iterating through lists with for loops\n",
        "- Checking if a list is empty (`len(list) == 0`)\n",
        "- Accessing the last item (`list[len(list)-1]` or more simply `list[-1]`)\n",
        "\n",
        "Understanding lists is fundamental to Python programming. They're used in virtually every program to store collections of related data, from simple to-do lists to complex scientific data."
      ],
      "metadata": {
        "id": "aroU0eo1InTU"
      }
    },
    {
      "cell_type": "markdown",
      "source": [
        "## List Operations & Methods: Adding, Removing, and Modifying\n",
        "\n",
        "Lists are mutable, which means we can change their contents after creation. This is one of the major advantages of using lists - they're dynamic and flexible. Python provides many useful methods to manipulate lists.\n",
        "\n",
        "### Adding Items\n",
        "\n",
        "Python gives us several ways to add items to lists, each with different use cases:\n",
        "\n",
        "* **append()** - Adds a single item to the end of the list\n",
        "* **insert()** - Adds an item at a specified position\n",
        "* **extend()** - Adds multiple items from another collection\n",
        "\n",
        "Here's how these methods work in practice:"
      ],
      "metadata": {
        "id": "08fAikvdJSLy"
      }
    },
    {
      "cell_type": "markdown",
      "source": [
        "The `append()` method is simple but powerful - it always adds to the end of the list, which makes it perfect for adding new items when order doesn't matter or when you want to add to the end.\n"
      ],
      "metadata": {
        "id": "lPC-dvWvJaVU"
      }
    },
    {
      "cell_type": "code",
      "source": [
        "spiderverse_students = [\"Miles Morales\", \"Gwen Stacy\"]\n",
        "\n",
        "# Add a new student to the end of the list\n",
        "spiderverse_students.append(\"Peter Parker\")\n",
        "print(spiderverse_students)"
      ],
      "metadata": {
        "colab": {
          "base_uri": "https://localhost:8080/"
        },
        "id": "NcxpmYfWJS79",
        "outputId": "97b09510-5885-4252-c40c-dc728bf2842b"
      },
      "execution_count": null,
      "outputs": [
        {
          "output_type": "stream",
          "name": "stdout",
          "text": [
            "['Miles Morales', 'Gwen Stacy', 'Peter Parker']\n"
          ]
        }
      ]
    },
    {
      "cell_type": "markdown",
      "source": [
        "The `insert()` method is more specific - use it when position matters. The first argument is the index where you want to insert, and the second is the item to insert."
      ],
      "metadata": {
        "id": "tjamp4aeJleq"
      }
    },
    {
      "cell_type": "code",
      "source": [
        "# Insert a student at position 1 (the second position)\n",
        "spiderverse_students.insert(1, \"Peni Parker\")\n",
        "print(spiderverse_students)"
      ],
      "metadata": {
        "colab": {
          "base_uri": "https://localhost:8080/"
        },
        "id": "CJaX810uJdHr",
        "outputId": "3a6d56d1-340e-4a8c-d8cb-bdd6def6a25e"
      },
      "execution_count": null,
      "outputs": [
        {
          "output_type": "stream",
          "name": "stdout",
          "text": [
            "['Miles Morales', 'Peni Parker', 'Gwen Stacy', 'Peter Parker']\n"
          ]
        }
      ]
    },
    {
      "cell_type": "markdown",
      "source": [
        "The `extend()` method is efficient for adding multiple items - it's much better than multiple `append()` calls."
      ],
      "metadata": {
        "id": "DCF1nA76Jx64"
      }
    },
    {
      "cell_type": "code",
      "source": [
        "# Add multiple students at once\n",
        "more_students = [\"Miguel O'Hara\", \"Jessica Drew\"]\n",
        "spiderverse_students.extend(more_students)\n",
        "print(spiderverse_students)"
      ],
      "metadata": {
        "colab": {
          "base_uri": "https://localhost:8080/"
        },
        "id": "IP9EPix6JzPd",
        "outputId": "a9e1bb82-06b1-4665-8605-cac668a020ad"
      },
      "execution_count": null,
      "outputs": [
        {
          "output_type": "stream",
          "name": "stdout",
          "text": [
            "['Miles Morales', 'Peni Parker', 'Gwen Stacy', 'Peter Parker', \"Miguel O'Hara\", 'Jessica Drew']\n"
          ]
        }
      ]
    },
    {
      "cell_type": "markdown",
      "source": [
        "List removal operations let you take items out in different ways:\n",
        "\n",
        "* **remove()** - Removes a specific item (the first occurrence)\n",
        "* **pop()** - Removes an item at a specified position and returns it\n",
        "* **clear()** - Removes all items from the list\n",
        "\n",
        "Here's how these methods work:\n",
        "\n",
        "The `remove()` method finds and removes the first matching item. If the item appears multiple times, only the first occurrence is removed. If the item isn't in the list, you'll get a `ValueError`."
      ],
      "metadata": {
        "id": "DjbUV_iOJ4_Z"
      }
    },
    {
      "cell_type": "code",
      "source": [
        "# Remove a specific student\n",
        "spiderverse_students.remove(\"Peter Parker\")\n",
        "print(spiderverse_students)"
      ],
      "metadata": {
        "colab": {
          "base_uri": "https://localhost:8080/"
        },
        "id": "kOAi68lhJ8Yl",
        "outputId": "3c7197c9-df3b-49c8-d2c5-79111752dfee"
      },
      "execution_count": null,
      "outputs": [
        {
          "output_type": "stream",
          "name": "stdout",
          "text": [
            "['Miles Morales', 'Peni Parker', 'Gwen Stacy', \"Miguel O'Hara\", 'Jessica Drew']\n"
          ]
        }
      ]
    },
    {
      "cell_type": "markdown",
      "source": [
        "The `pop()` method is useful when you need to work with the item you're removing. If no index is specified, it removes and returns the last item."
      ],
      "metadata": {
        "id": "jsXcKF2yKEZb"
      }
    },
    {
      "cell_type": "code",
      "source": [
        "# Remove and return the student at position 2\n",
        "student = spiderverse_students.pop(2)\n",
        "print(f\"{student} was removed from the list.\")\n",
        "print(spiderverse_students)"
      ],
      "metadata": {
        "colab": {
          "base_uri": "https://localhost:8080/"
        },
        "id": "d9TuA2vqKFJW",
        "outputId": "0f4351d0-16d3-41ee-81c3-4fd695e09ed3"
      },
      "execution_count": null,
      "outputs": [
        {
          "output_type": "stream",
          "name": "stdout",
          "text": [
            "Gwen Stacy was removed from the list.\n",
            "['Miles Morales', 'Peni Parker', \"Miguel O'Hara\", 'Jessica Drew']\n"
          ]
        }
      ]
    },
    {
      "cell_type": "markdown",
      "source": [
        "Use `clear()` when you need to empty a list but want to keep the list variable itself."
      ],
      "metadata": {
        "id": "WUvRHxUXKQba"
      }
    },
    {
      "cell_type": "code",
      "source": [
        "# Remove all students\n",
        "spiderverse_students.clear()\n",
        "print(spiderverse_students)"
      ],
      "metadata": {
        "colab": {
          "base_uri": "https://localhost:8080/"
        },
        "id": "51AUcSj_KTJ1",
        "outputId": "b6d2fafd-77a5-4711-a993-c07a8bed092c"
      },
      "execution_count": null,
      "outputs": [
        {
          "output_type": "stream",
          "name": "stdout",
          "text": [
            "[]\n"
          ]
        }
      ]
    },
    {
      "cell_type": "markdown",
      "source": [
        "## List Comprehensions: Elegant List Creation\n",
        "\n",
        "**List comprehension** is a concise and powerful way to create lists in Python. It combines a for loop and conditional logic into a single line of code, making your programs more readable and efficient.\n",
        "\n",
        "### Why Use List Comprehensions?\n",
        "\n",
        "List comprehensions offer several advantages:\n",
        "\n",
        "* **Readability** - They express the intent more clearly than loops\n",
        "* **Brevity** - They accomplish in one line what might take 3-4 lines with loops\n",
        "* **Performance** - They're often faster than equivalent for loops\n",
        "* **Expressiveness** - They make it easy to transform and filter data\n",
        "\n",
        "### Basic Syntax\n",
        "\n",
        "The basic structure of a list comprehension is:\n",
        "\n",
        "```\n",
        "new_list = [expression for item in iterable]\n",
        "```\n",
        "\n",
        "This can be broken down into:\n",
        "1. The **expression** - what to put in the new list\n",
        "2. The **for clause** - where to get items from\n",
        "3. An optional **if clause** - for filtering items (we'll see this later)\n",
        "\n",
        "### Simple Examples\n",
        "\n",
        "Let's see how list comprehensions work in practice:"
      ],
      "metadata": {
        "id": "-aTsGlCUKSZw"
      }
    },
    {
      "cell_type": "code",
      "source": [
        "# First, let's create a list of numbers using the range() function\n",
        "# range(1, 6) creates the sequence: 1, 2, 3, 4, 5\n",
        "numbers = list(range(1, 6))\n",
        "print(\"Original numbers:\", numbers)\n",
        "\n",
        "# Create a list of squares using list comprehension\n",
        "squares = [x**2 for x in range(1, 6)]\n",
        "print(\"Squares using list comprehension:\", squares)"
      ],
      "metadata": {
        "colab": {
          "base_uri": "https://localhost:8080/"
        },
        "id": "D0GbI32wKj-B",
        "outputId": "51c954ab-2e6a-4497-a4a3-0822090805f6"
      },
      "execution_count": null,
      "outputs": [
        {
          "output_type": "stream",
          "name": "stdout",
          "text": [
            "Original numbers: [1, 2, 3, 4, 5]\n",
            "Squares using list comprehension: [1, 4, 9, 16, 25]\n"
          ]
        }
      ]
    },
    {
      "cell_type": "markdown",
      "source": [
        "This single line replaces a loop that would iterate through numbers 1-5, square each one, and append it to a list. Reading it almost like English: \"Create a list containing x-squared for each x in the range 1 to 5.\"\n"
      ],
      "metadata": {
        "id": "XzbVrpb1K0-9"
      }
    },
    {
      "cell_type": "code",
      "source": [
        "# The same operation using a for loop\n",
        "squares_with_loop = []\n",
        "for x in range(1, 6):\n",
        "    squares_with_loop.append(x**2)\n",
        "print(\"Squares using for loop:\", squares_with_loop)"
      ],
      "metadata": {
        "colab": {
          "base_uri": "https://localhost:8080/"
        },
        "id": "u2HgUZWCKNYy",
        "outputId": "9cbbf99e-a8d0-49d4-9a1e-7eea861afe4e"
      },
      "execution_count": null,
      "outputs": [
        {
          "output_type": "stream",
          "name": "stdout",
          "text": [
            "Squares using for loop: [1, 4, 9, 16, 25]\n"
          ]
        }
      ]
    },
    {
      "cell_type": "code",
      "source": [
        "# Create a list of Tiny Titans character names in uppercase\n",
        "titans = [\"Robin\", \"Starfire\", \"Cyborg\", \"Beast Boy\", \"Raven\"]\n",
        "print(\"Original Titans:\", titans)\n",
        "\n",
        "uppercase_titans = [hero.upper() for hero in titans]\n",
        "print(\"Uppercase Titans:\", uppercase_titans)"
      ],
      "metadata": {
        "colab": {
          "base_uri": "https://localhost:8080/"
        },
        "id": "EmuCxCa-Kpe4",
        "outputId": "26e5d88e-9ce4-458c-c996-41a32872e997"
      },
      "execution_count": null,
      "outputs": [
        {
          "output_type": "stream",
          "name": "stdout",
          "text": [
            "Original Titans: ['Robin', 'Starfire', 'Cyborg', 'Beast Boy', 'Raven']\n",
            "Uppercase Titans: ['ROBIN', 'STARFIRE', 'CYBORG', 'BEAST BOY', 'RAVEN']\n"
          ]
        }
      ]
    },
    {
      "cell_type": "code",
      "source": [
        "# Create a list with string formatting\n",
        "titan_intro = [f\"{hero} is a Titan!\" for hero in titans]\n",
        "print(\"Titan introductions:\", titan_intro)"
      ],
      "metadata": {
        "colab": {
          "base_uri": "https://localhost:8080/"
        },
        "id": "ZJVMsd8qKvTZ",
        "outputId": "903af693-617f-46ba-f3b7-6d854a225b72"
      },
      "execution_count": null,
      "outputs": [
        {
          "output_type": "stream",
          "name": "stdout",
          "text": [
            "Titan introductions: ['Robin is a Titan!', 'Starfire is a Titan!', 'Cyborg is a Titan!', 'Beast Boy is a Titan!', 'Raven is a Titan!']\n"
          ]
        }
      ]
    },
    {
      "cell_type": "markdown",
      "source": [
        "### Adding Conditional Logic\n",
        "\n",
        "List comprehensions can include an if statement to filter items. The basic syntax is:\n",
        "\n",
        "```python\n",
        "new_list [expression for item in iterable if condition]\n",
        "```\n",
        "\n",
        "For example:"
      ],
      "metadata": {
        "id": "ONZH38XQLCuA"
      }
    },
    {
      "cell_type": "code",
      "source": [
        "# Create a list of numbers\n",
        "numbers = list(range(1, 11))\n",
        "print(\"Numbers from 1 to 10:\", numbers)\n",
        "\n",
        "# Filter for even numbers only\n",
        "# (A number is even if number % 2 == 0)\n",
        "evens = [num for num in range(1, 11) if num % 2 == 0]\n",
        "print(\"Even numbers:\", evens)"
      ],
      "metadata": {
        "colab": {
          "base_uri": "https://localhost:8080/"
        },
        "id": "S3I76k14LRfq",
        "outputId": "4c68c7dc-a2e5-472c-9fca-6b5443112fdf"
      },
      "execution_count": null,
      "outputs": [
        {
          "output_type": "stream",
          "name": "stdout",
          "text": [
            "Numbers from 1 to 10: [1, 2, 3, 4, 5, 6, 7, 8, 9, 10]\n",
            "Even numbers: [2, 4, 6, 8, 10]\n"
          ]
        }
      ]
    },
    {
      "cell_type": "code",
      "source": [
        "# Filter Titans that start with 'R'\n",
        "# (The startswith() method checks if a string starts with a specific prefix)\n",
        "titans = [\"Robin\", \"Starfire\", \"Cyborg\", \"Beast Boy\", \"Raven\"]\n",
        "r_titans = [hero for hero in titans if hero.startswith('R')]\n",
        "print(\"Titans starting with 'R':\", r_titans)"
      ],
      "metadata": {
        "colab": {
          "base_uri": "https://localhost:8080/"
        },
        "id": "1urX8JuZLR1J",
        "outputId": "1c9bba76-04bf-4da2-aaf7-aa092bab98e5"
      },
      "execution_count": null,
      "outputs": [
        {
          "output_type": "stream",
          "name": "stdout",
          "text": [
            "Titans starting with 'R': ['Robin', 'Raven']\n"
          ]
        }
      ]
    },
    {
      "cell_type": "code",
      "source": [
        "# Filter and transform: uppercase Titans with names longer than 5 characters\n",
        "long_name_titans = [hero.upper() for hero in titans if len(hero) > 5]\n",
        "print(\"Uppercase Titans with long names:\", long_name_titans)"
      ],
      "metadata": {
        "colab": {
          "base_uri": "https://localhost:8080/"
        },
        "id": "ZxCnFdX0LhOX",
        "outputId": "c2b067ca-3970-4a2c-87dd-35c15bb6fff2"
      },
      "execution_count": null,
      "outputs": [
        {
          "output_type": "stream",
          "name": "stdout",
          "text": [
            "Uppercase Titans with long names: ['STARFIRE', 'CYBORG', 'BEAST BOY']\n"
          ]
        }
      ]
    },
    {
      "cell_type": "markdown",
      "source": [
        "### When to Use List Comprehensions\n",
        "\n",
        "List comprehensions are best used when:\n",
        "* You're creating a new list based on an existing one\n",
        "* The operation is simple enough to read in a single line\n",
        "* You want to apply the same operation to each element\n",
        "\n",
        "For more complex operations that would make a list comprehension hard to read, stick with traditional loops.\n",
        "\n",
        "With practice, list comprehensions will become one of your favorite Python features, allowing you to write more elegant and efficient code!"
      ],
      "metadata": {
        "id": "9C8qbSTWLkZy"
      }
    },
    {
      "cell_type": "markdown",
      "source": [
        "## Tuples: Immutable Ordered Collections\n",
        "\n",
        "A **tuple** is an ordered collection of items, similar to a list, but with one critical difference: tuples are **immutable**, meaning they cannot be changed after creation. This immutability gives tuples special properties and use cases that make them indispensable in Python programming.\n",
        "\n",
        "### Key Characteristics of Tuples\n",
        "\n",
        "* **Ordered** - Like lists, tuples maintain the order of elements\n",
        "* **Immutable** - Once created, you cannot add, remove, or modify elements\n",
        "* **Indexed** - You can access items using indices (starting from 0)\n",
        "* **Allow duplicates** - The same value can appear multiple times\n",
        "\n",
        "### Creating Tuples\n",
        "\n",
        "Tuples use parentheses `( )` instead of the square brackets used for lists:"
      ],
      "metadata": {
        "id": "uscGt7PfMdB5"
      }
    },
    {
      "cell_type": "code",
      "source": [
        "# A tuple of Spider-Verse characters\n",
        "spiders = (\"Miles Morales\", \"Gwen Stacy\", \"Peter Parker\")\n",
        "print(\"Spider-Verse characters:\", spiders)\n",
        "\n",
        "# A mixed data type tuple\n",
        "mixed_tuple = (10, \"hello\", True, 3.14)\n",
        "print(\"Mixed tuple:\", mixed_tuple)\n",
        "print(\"Types in tuple:\")\n",
        "for item in mixed_tuple:\n",
        "    print(f\"  {item} is {type(item)}\")"
      ],
      "metadata": {
        "colab": {
          "base_uri": "https://localhost:8080/"
        },
        "id": "CoUuHdhvMkF0",
        "outputId": "92603e70-af0f-4924-833c-3520c2f272bc"
      },
      "execution_count": null,
      "outputs": [
        {
          "output_type": "stream",
          "name": "stdout",
          "text": [
            "Spider-Verse characters: ('Miles Morales', 'Gwen Stacy', 'Peter Parker')\n",
            "Mixed tuple: (10, 'hello', True, 3.14)\n",
            "Types in tuple:\n",
            "  10 is <class 'int'>\n",
            "  hello is <class 'str'>\n",
            "  True is <class 'bool'>\n",
            "  3.14 is <class 'float'>\n"
          ]
        }
      ]
    },
    {
      "cell_type": "markdown",
      "source": [
        "Creating a tuple with a single item requires a special syntax - you need to include a comma after the item:"
      ],
      "metadata": {
        "id": "Two1KPV3MsC6"
      }
    },
    {
      "cell_type": "code",
      "source": [
        "# A tuple with a single item (note the comma!)\n",
        "single_item_tuple = (\"Miles\",)\n",
        "print(\"Single item tuple:\", single_item_tuple)\n",
        "print(\"Type:\", type(single_item_tuple))"
      ],
      "metadata": {
        "colab": {
          "base_uri": "https://localhost:8080/"
        },
        "id": "GRH-uIKkMs32",
        "outputId": "0018f601-1d64-4873-bfac-4b5affb97cb0"
      },
      "execution_count": null,
      "outputs": [
        {
          "output_type": "stream",
          "name": "stdout",
          "text": [
            "Single item tuple: ('Miles',)\n",
            "Type: <class 'tuple'>\n"
          ]
        }
      ]
    },
    {
      "cell_type": "code",
      "source": [
        "# WITHOUT the comma, this is just a string in parentheses\n",
        "not_a_tuple = (\"Miles\")\n",
        "print(\"Not a tuple:\", not_a_tuple)\n",
        "print(\"Type:\", type(not_a_tuple))  # This will show str, not tuple"
      ],
      "metadata": {
        "colab": {
          "base_uri": "https://localhost:8080/"
        },
        "id": "TbqzHTgHMzt_",
        "outputId": "6d0cb8fb-034f-45a1-f3cb-dff9a628ee31"
      },
      "execution_count": null,
      "outputs": [
        {
          "output_type": "stream",
          "name": "stdout",
          "text": [
            "Not a tuple: Miles\n",
            "Type: <class 'str'>\n"
          ]
        }
      ]
    },
    {
      "cell_type": "markdown",
      "source": [
        "This is one of the most common mistakes when working with tuples. The comma tells Python that you want a tuple, not just a value in parentheses.\n",
        "\n",
        "You can also create an empty tuple:"
      ],
      "metadata": {
        "id": "xwSWDNQHM3ug"
      }
    },
    {
      "cell_type": "code",
      "source": [
        "# Empty tuple\n",
        "empty_tuple = ()\n",
        "print(\"Empty tuple:\", empty_tuple)\n",
        "print(\"Length of empty tuple:\", len(empty_tuple))\n"
      ],
      "metadata": {
        "colab": {
          "base_uri": "https://localhost:8080/"
        },
        "id": "890euN57M_QW",
        "outputId": "37f82cb8-2e3f-4380-b34a-e18be2f4a8dc"
      },
      "execution_count": null,
      "outputs": [
        {
          "output_type": "stream",
          "name": "stdout",
          "text": [
            "Empty tuple: ()\n",
            "Length of empty tuple: 0\n"
          ]
        }
      ]
    },
    {
      "cell_type": "markdown",
      "source": [
        "### Accessing Tuple Items\n",
        "\n",
        "Accessing elements in a tuple works exactly like lists:"
      ],
      "metadata": {
        "id": "8vyiinOKMdX0"
      }
    },
    {
      "cell_type": "code",
      "source": [
        "# Create a tuple first\n",
        "spiders = (\"Miles Morales\", \"Gwen Stacy\", \"Peter Parker\")\n",
        "\n",
        "# Access the first item (index 0)\n",
        "first_spider = spiders[0]\n",
        "print(\"First spider:\", first_spider)\n",
        "\n",
        "# Access the last item (negative indexing)\n",
        "last_spider = spiders[-1]\n",
        "print(\"Last spider:\", last_spider)\n",
        "\n",
        "# Slicing a tuple\n",
        "subset = spiders[0:2]\n",
        "print(\"First two spiders:\", subset)"
      ],
      "metadata": {
        "colab": {
          "base_uri": "https://localhost:8080/"
        },
        "id": "d1h0ybi3NU9y",
        "outputId": "f04c639a-3c95-4599-aeef-f44fbaae577d"
      },
      "execution_count": null,
      "outputs": [
        {
          "output_type": "stream",
          "name": "stdout",
          "text": [
            "First spider: Miles Morales\n",
            "Last spider: Peter Parker\n",
            "First two spiders: ('Miles Morales', 'Gwen Stacy')\n"
          ]
        }
      ]
    },
    {
      "cell_type": "markdown",
      "source": [
        "### Tuple Methods: `count()` and `index()`\n",
        "\n",
        "Because tuples are immutable, they have only two built-in methods: `count()` and `index()`."
      ],
      "metadata": {
        "id": "lv1sI77mNiAA"
      }
    },
    {
      "cell_type": "code",
      "source": [
        "# Create a tuple with some repeated elements\n",
        "heroes = (\"Robin\", \"Beast Boy\", \"Robin\", \"Cyborg\", \"Robin\")\n",
        "print(\"Heroes tuple:\", heroes)\n",
        "\n",
        "# count() - Returns the number of times a value appears\n",
        "robin_count = heroes.count(\"Robin\")\n",
        "print(f\"'Robin' appears {robin_count} times\")\n",
        "\n",
        "# index() - Returns the position of a specified value (first occurrence)\n",
        "robin_position = heroes.index(\"Robin\")\n",
        "print(f\"First occurrence of 'Robin' is at index {robin_position}\")"
      ],
      "metadata": {
        "colab": {
          "base_uri": "https://localhost:8080/"
        },
        "id": "1j_BH3inL3f3",
        "outputId": "4bf4be7a-fb01-4baf-f4ce-727ac65a3a4e"
      },
      "execution_count": null,
      "outputs": [
        {
          "output_type": "stream",
          "name": "stdout",
          "text": [
            "Heroes tuple: ('Robin', 'Beast Boy', 'Robin', 'Cyborg', 'Robin')\n",
            "'Robin' appears 3 times\n",
            "First occurrence of 'Robin' is at index 0\n"
          ]
        }
      ]
    },
    {
      "cell_type": "markdown",
      "source": [
        "Notice how few methods tuples have compared to lists - there are no methods like append(), remove(), or sort() because these would change the tuple, which isn't allowed.\n",
        "\n",
        "### Tuples are Immutable\n",
        "\n",
        "Let's verify what happens when we try to modify a tuple:"
      ],
      "metadata": {
        "id": "lRtn3DT7NyZZ"
      }
    },
    {
      "cell_type": "code",
      "source": [
        "coordinates = (10.5, 20.7)\n",
        "print(\"Original coordinates:\", coordinates)\n",
        "\n",
        "# try to change tuple\n",
        "coordinates[0] = 15.2\n",
        "print(\"This line won't execute\")"
      ],
      "metadata": {
        "colab": {
          "base_uri": "https://localhost:8080/",
          "height": 211
        },
        "id": "Wre3DyAMN17y",
        "outputId": "a411ece3-5991-4f44-ea29-b7f4bc79b87e"
      },
      "execution_count": null,
      "outputs": [
        {
          "output_type": "stream",
          "name": "stdout",
          "text": [
            "Original coordinates: (10.5, 20.7)\n"
          ]
        },
        {
          "output_type": "error",
          "ename": "TypeError",
          "evalue": "'tuple' object does not support item assignment",
          "traceback": [
            "\u001b[0;31m---------------------------------------------------------------------------\u001b[0m",
            "\u001b[0;31mTypeError\u001b[0m                                 Traceback (most recent call last)",
            "\u001b[0;32m<ipython-input-29-14f157b5c223>\u001b[0m in \u001b[0;36m<cell line: 0>\u001b[0;34m()\u001b[0m\n\u001b[1;32m      3\u001b[0m \u001b[0;34m\u001b[0m\u001b[0m\n\u001b[1;32m      4\u001b[0m \u001b[0;31m# try to change tuple\u001b[0m\u001b[0;34m\u001b[0m\u001b[0;34m\u001b[0m\u001b[0m\n\u001b[0;32m----> 5\u001b[0;31m \u001b[0mcoordinates\u001b[0m\u001b[0;34m[\u001b[0m\u001b[0;36m0\u001b[0m\u001b[0;34m]\u001b[0m \u001b[0;34m=\u001b[0m \u001b[0;36m15.2\u001b[0m\u001b[0;34m\u001b[0m\u001b[0;34m\u001b[0m\u001b[0m\n\u001b[0m\u001b[1;32m      6\u001b[0m \u001b[0mprint\u001b[0m\u001b[0;34m(\u001b[0m\u001b[0;34m\"This line won't execute\"\u001b[0m\u001b[0;34m)\u001b[0m\u001b[0;34m\u001b[0m\u001b[0;34m\u001b[0m\u001b[0m\n",
            "\u001b[0;31mTypeError\u001b[0m: 'tuple' object does not support item assignment"
          ]
        }
      ]
    },
    {
      "cell_type": "code",
      "source": [
        "# Even though tuples can't be modified, we can create a new tuple\n",
        "new_coordinates = (15.2, coordinates[1])\n",
        "print(\"New coordinates:\", new_coordinates)\n",
        "print(\"Original coordinates are unchanged:\", coordinates)"
      ],
      "metadata": {
        "colab": {
          "base_uri": "https://localhost:8080/"
        },
        "id": "qDkFmHaJOIW5",
        "outputId": "6de7600d-ebbc-4437-b6e9-d5d2f46efc53"
      },
      "execution_count": null,
      "outputs": [
        {
          "output_type": "stream",
          "name": "stdout",
          "text": [
            "New coordinates: (15.2, 20.7)\n",
            "Original coordinates are unchanged: (10.5, 20.7)\n"
          ]
        }
      ]
    },
    {
      "cell_type": "markdown",
      "source": [
        "### Why Use Tuples?\n",
        "\n",
        "Tuples have several important advantages in specific situations:"
      ],
      "metadata": {
        "id": "Rv_7M2gcOap4"
      }
    },
    {
      "cell_type": "code",
      "source": [
        "# 1. Protection against accidental changes\n",
        "# Constants that shouldn't change\n",
        "SCREEN_DIMENSIONS = (1920, 1080)\n",
        "print(f\"Screen dimensions: {SCREEN_DIMENSIONS[0]}x{SCREEN_DIMENSIONS[1]}\")"
      ],
      "metadata": {
        "colab": {
          "base_uri": "https://localhost:8080/"
        },
        "id": "M6urd7mVObfC",
        "outputId": "27834535-a1f1-4c92-da89-476834f8e1ce"
      },
      "execution_count": null,
      "outputs": [
        {
          "output_type": "stream",
          "name": "stdout",
          "text": [
            "Screen dimensions: 1920x1080\n"
          ]
        }
      ]
    },
    {
      "cell_type": "code",
      "source": [
        "# 2. Function returns for multiple values\n",
        "def get_hero_info():\n",
        "    name = \"Beast Boy\"\n",
        "    age = 15\n",
        "    powers = [\"shapeshifting\", \"animal abilities\"]\n",
        "    return (name, age, powers)\n",
        "\n",
        "# Unpacking tuple returns\n",
        "hero_name, hero_age, hero_powers = get_hero_info()\n",
        "print(f\"{hero_name} is {hero_age} years old and has powers: {', '.join(hero_powers)}\")"
      ],
      "metadata": {
        "colab": {
          "base_uri": "https://localhost:8080/"
        },
        "id": "s2wgbVJfOgvO",
        "outputId": "4354ee3e-b966-4031-89ee-799908614955"
      },
      "execution_count": null,
      "outputs": [
        {
          "output_type": "stream",
          "name": "stdout",
          "text": [
            "Beast Boy is 15 years old and has powers: shapeshifting, animal abilities\n"
          ]
        }
      ]
    },
    {
      "cell_type": "code",
      "source": [
        "# 3. More efficient for large, unchanging data\n",
        "# (This is an internal Python optimization)\n",
        "large_tuple = tuple(range(1000))\n",
        "print(f\"Created a tuple with {len(large_tuple)} elements\")"
      ],
      "metadata": {
        "colab": {
          "base_uri": "https://localhost:8080/"
        },
        "id": "8Bhh51NwOIcW",
        "outputId": "f3bafc32-4b29-484a-e3a0-3380d4221e6b"
      },
      "execution_count": null,
      "outputs": [
        {
          "output_type": "stream",
          "name": "stdout",
          "text": [
            "Created a tuple with 1000 elements\n"
          ]
        }
      ]
    },
    {
      "cell_type": "markdown",
      "source": [
        "## When to Use Tuples vs Lists\n",
        "\n",
        "Choosing between tuples and lists depends on your specific needs. Here's a guide to help you decide:\n",
        "\n",
        "| Feature | Lists | Tuples |\n",
        "|---------|-------|--------|\n",
        "| Mutability | Mutable (can change) | Immutable (cannot change) |\n",
        "| Syntax | `[item1, item2]` | `(item1, item2)` |\n",
        "| Performance | Slightly slower | Slightly faster |\n",
        "| Memory usage | More memory | Less memory |\n",
        "| Use as dictionary key | Cannot use | Can use |\n",
        "\n",
        "### Use Lists When:\n",
        "\n",
        "* The collection will need to be **modified**\n",
        "  ```python\n",
        "  # Miles' backpack contents might change during the day\n",
        "  miles_backpack = [\"textbook\", \"notebook\", \"pencil\", \"lunch\"]\n",
        "  \n",
        "  # Later in the day...\n",
        "  miles_backpack.remove(\"lunch\")\n",
        "  miles_backpack.append(\"calculator\")\n",
        "  ```\n",
        "\n",
        "* You need to **add/remove items** frequently\n",
        "  ```python\n",
        "  # Attendance list that changes\n",
        "  present_students = [\"Miles\", \"Gwen\"]\n",
        "  present_students.append(\"Peter\")  # Peter arrives late\n",
        "  ```\n",
        "\n",
        "* You need **methods** like sort(), reverse(), etc.\n",
        "  ```python\n",
        "  # Sorting test scores\n",
        "  test_scores = [88, 92, 76, 85, 90]\n",
        "  test_scores.sort()  # [76, 85, 88, 90, 92]\n",
        "  ```\n",
        "\n",
        "### Use Tuples When:\n",
        "\n",
        "* The collection should **never change**\n",
        "  ```python\n",
        "  # RGB color values should not change\n",
        "  red = (255, 0, 0)\n",
        "  green = (0, 255, 0)\n",
        "  blue = (0, 0, 255)\n",
        "  ```\n",
        "\n",
        "* The data represents a **fixed structure**\n",
        "  ```python\n",
        "  # Beast Boy's geographic coordinates\n",
        "  beast_boy_location = (40.7128, -74.0060)\n",
        "  ```\n",
        "\n",
        "* You need to ensure data **integrity**\n",
        "  ```python\n",
        "  # Student ID and birth date shouldn't change\n",
        "  student_record = (\"S12345\", \"2007-05-15\")\n",
        "  ```\n",
        "\n",
        "* You need to use the collection as a **dictionary key**\n",
        "  ```python\n",
        "  # Using coordinates as keys\n",
        "  locations = {\n",
        "      (40.7128, -74.0060): \"New York\",\n",
        "      (34.0522, -118.2437): \"Los Angeles\"\n",
        "  }\n",
        "  ```\n",
        "\n",
        "**Remember**: If you're not sure whether your data will need to change, start with a list. You can always convert between them using `list()` and `tuple()` functions!"
      ],
      "metadata": {
        "id": "s-8iMM4bQ-GM"
      }
    },
    {
      "cell_type": "markdown",
      "source": [
        "## Set Operations: Union, Intersection & Difference\n",
        "\n",
        "Sets in Python support powerful mathematical set operations, which are perfect for comparing and combining collections of data. These operations make sets an excellent choice for tasks like finding common elements, combining unique elements, or finding the differences between collections.\n",
        "\n",
        "### Key Set Operations\n",
        "\n",
        "* **Union** - Combines elements from both sets (all unique items from either set)\n",
        "* **Intersection** - Returns only elements common to both sets\n",
        "* **Difference** - Returns elements in the first set but not in the second\n",
        "\n",
        "Let's explore these operations using examples from a school setting with Spider-Verse characters:\n",
        "\n",
        "### Union (combines sets)\n",
        "\n",
        "The union operation combines all unique elements from both sets. There are two ways to perform a union:\n",
        "- Using the `union()` method\n",
        "- Using the `|` operator"
      ],
      "metadata": {
        "id": "jwGRnG1FP0r0"
      }
    },
    {
      "cell_type": "code",
      "source": [
        "# First, let's define our sets\n",
        "# Students in art class\n",
        "art_class = {\"Miles\", \"Gwen\", \"Peter\"}\n",
        "print(\"Art class students:\", art_class)\n",
        "\n",
        "# Students in music class\n",
        "music_class = {\"Gwen\", \"MJ\", \"Peter\"}\n",
        "print(\"Music class students:\", music_class)\n",
        "\n",
        "# Union using the union() method\n",
        "all_students = art_class.union(music_class)\n",
        "print(\"All unique students using union():\", all_students)\n",
        "\n",
        "# Alternative syntax using the | operator\n",
        "all_students_alt = art_class | music_class\n",
        "print(\"All unique students using |:\", all_students_alt)\n",
        "\n",
        "# Union with more than two sets\n",
        "science_class = {\"Miles\", \"Peni\", \"Miguel\"}\n",
        "all_students_three_classes = art_class | music_class | science_class\n",
        "print(\"Students from all three classes:\", all_students_three_classes)"
      ],
      "metadata": {
        "colab": {
          "base_uri": "https://localhost:8080/"
        },
        "id": "DimxbI_BP1U5",
        "outputId": "325655c6-ceac-489b-f1e8-2d5a18efd2a8"
      },
      "execution_count": null,
      "outputs": [
        {
          "output_type": "stream",
          "name": "stdout",
          "text": [
            "Art class students: {'Peter', 'Miles', 'Gwen'}\n",
            "Music class students: {'MJ', 'Peter', 'Gwen'}\n",
            "All unique students using union(): {'Peter', 'MJ', 'Miles', 'Gwen'}\n",
            "All unique students using |: {'Peter', 'MJ', 'Miles', 'Gwen'}\n",
            "Students from all three classes: {'Peni', 'Miguel', 'Peter', 'MJ', 'Miles', 'Gwen'}\n"
          ]
        }
      ]
    },
    {
      "cell_type": "markdown",
      "source": [
        "Notice that each student appears only once in the result, even if they're in multiple classes.\n",
        "\n",
        "### Intersection (common items)\n",
        "\n",
        "The intersection operation returns only the elements that exist in all sets. There are two ways to get an intersection:\n",
        "- Using the `intersection()` method\n",
        "- Using the `&` operator"
      ],
      "metadata": {
        "id": "4pl8bNfsP5Rs"
      }
    },
    {
      "cell_type": "code",
      "source": [
        "# Students who take both art and music\n",
        "both_classes = art_class.intersection(music_class)\n",
        "print(\"Students in both art and music using intersection():\", both_classes)\n",
        "\n",
        "# Alternative syntax using the & operator\n",
        "both_classes_alt = art_class & music_class\n",
        "print(\"Students in both art and music using &:\", both_classes_alt)\n",
        "\n",
        "# Students in all three classes\n",
        "in_all_three = art_class & music_class & science_class\n",
        "print(\"Students in all three classes:\", in_all_three)"
      ],
      "metadata": {
        "colab": {
          "base_uri": "https://localhost:8080/"
        },
        "id": "sipAEkWgP9iW",
        "outputId": "d0aa6819-e8a9-4c1a-be28-38f0b2bc6f08"
      },
      "execution_count": null,
      "outputs": [
        {
          "output_type": "stream",
          "name": "stdout",
          "text": [
            "Students in both art and music using intersection(): {'Peter', 'Gwen'}\n",
            "Students in both art and music using &: {'Peter', 'Gwen'}\n",
            "Students in all three classes: set()\n"
          ]
        }
      ]
    },
    {
      "cell_type": "markdown",
      "source": [
        "The intersection gives us only students who are enrolled in all specified classes.\n",
        "\n",
        "### Difference (items in first but not second)\n",
        "\n",
        "The difference operation returns elements that are in the first set but not in the second. There are two ways to find the difference:\n",
        "- Using the `difference()` method\n",
        "- Using the `-` operator"
      ],
      "metadata": {
        "id": "uF6kzCafQCDd"
      }
    },
    {
      "cell_type": "code",
      "source": [
        "# Students in art but not music\n",
        "art_only = art_class.difference(music_class)\n",
        "print(\"Students in art but not music using difference():\", art_only)\n",
        "\n",
        "# Students in music but not art\n",
        "music_only = music_class.difference(art_class)\n",
        "print(\"Students in music but not art using difference():\", music_only)\n",
        "\n",
        "# Alternative syntax using - operator\n",
        "art_only_alt = art_class - music_class\n",
        "print(\"Students in art but not music using -:\", art_only_alt)"
      ],
      "metadata": {
        "colab": {
          "base_uri": "https://localhost:8080/"
        },
        "id": "3lAZloRvQGPA",
        "outputId": "5cedb318-fc28-47d6-b2be-0a9404a6ce7a"
      },
      "execution_count": null,
      "outputs": [
        {
          "output_type": "stream",
          "name": "stdout",
          "text": [
            "Students in art but not music using difference(): {'Miles'}\n",
            "Students in music but not art using difference(): {'MJ'}\n",
            "Students in art but not music using -: {'Miles'}\n"
          ]
        }
      ]
    },
    {
      "cell_type": "markdown",
      "source": [
        "Unlike union and intersection, the difference operation is not commutative – the order"
      ],
      "metadata": {
        "id": "XnqKK43tQQau"
      }
    },
    {
      "cell_type": "code",
      "source": [],
      "metadata": {
        "id": "pcaZnmy4Nxkg"
      },
      "execution_count": null,
      "outputs": []
    },
    {
      "cell_type": "markdown",
      "source": [
        "## Nesting Collections: Lists Within Lists\n",
        "\n",
        "**Nested collections** are collections that contain other collections as elements. In Python, we can nest different types of collections within each other to represent more complex data structures. The most common example is a list of lists, which is useful for representing two-dimensional data like tables, grids, or matrices.\n",
        "\n",
        "### Creating Nested Lists\n",
        "\n",
        "A nested list is simply a list where some (or all) of the elements are also lists:"
      ],
      "metadata": {
        "id": "tYI3hggiRe7x"
      }
    },
    {
      "cell_type": "code",
      "source": [
        "# Miles Morales' class schedule (a list of lists)\n",
        "# Each inner list contains: [day, period1, period2, period3]\n",
        "miles_schedule = [\n",
        "    [\"Monday\", \"Math\", \"English\", \"Science\"],\n",
        "    [\"Tuesday\", \"History\", \"Art\", \"Computer Science\"],\n",
        "    [\"Wednesday\", \"Math\", \"Spanish\", \"Science\"],\n",
        "    [\"Thursday\", \"History\", \"English\", \"P.E.\"],\n",
        "    [\"Friday\", \"Math\", \"Art\", \"Computer Science\"]\n",
        "]\n",
        "\n",
        "# Print the entire schedule\n",
        "print(\"Miles' weekly schedule:\")\n",
        "print(miles_schedule)\n"
      ],
      "metadata": {
        "colab": {
          "base_uri": "https://localhost:8080/"
        },
        "id": "twIIDqIlRhrh",
        "outputId": "f8fe6c52-8468-426e-9bcb-59570b65788a"
      },
      "execution_count": null,
      "outputs": [
        {
          "output_type": "stream",
          "name": "stdout",
          "text": [
            "Miles' weekly schedule:\n",
            "[['Monday', 'Math', 'English', 'Science'], ['Tuesday', 'History', 'Art', 'Computer Science'], ['Wednesday', 'Math', 'Spanish', 'Science'], ['Thursday', 'History', 'English', 'P.E.'], ['Friday', 'Math', 'Art', 'Computer Science']]\n"
          ]
        }
      ]
    },
    {
      "cell_type": "code",
      "source": [
        "\n",
        "# A more readable way to print the schedule\n",
        "print(\"\\nMiles' schedule (formatted):\")\n",
        "for day in miles_schedule:\n",
        "    print(day)"
      ],
      "metadata": {
        "colab": {
          "base_uri": "https://localhost:8080/"
        },
        "id": "b-kbMgO7Rm1R",
        "outputId": "ef9b0f32-64f9-4df5-b599-6c442bcd3c7d"
      },
      "execution_count": null,
      "outputs": [
        {
          "output_type": "stream",
          "name": "stdout",
          "text": [
            "\n",
            "Miles' schedule (formatted):\n",
            "['Monday', 'Math', 'English', 'Science']\n",
            "['Tuesday', 'History', 'Art', 'Computer Science']\n",
            "['Wednesday', 'Math', 'Spanish', 'Science']\n",
            "['Thursday', 'History', 'English', 'P.E.']\n",
            "['Friday', 'Math', 'Art', 'Computer Science']\n"
          ]
        }
      ]
    },
    {
      "cell_type": "markdown",
      "source": [
        "Nested lists can be used for many purposes, such as representing:\n",
        "- Game boards (chess, tic-tac-toe)\n",
        "- Spreadsheet data (rows and columns)\n",
        "- Multiple-choice quiz questions and answers\n",
        "- Geographic coordinates with labels\n",
        "\n",
        "\n",
        "### Accessing Elements in Nested Lists\n",
        "\n",
        "To access elements in a nested list, you use multiple indices. The first index selects the outer list (usually the row), and the second index selects the element within that list (usually the column):"
      ],
      "metadata": {
        "id": "JYxH4laJRvEW"
      }
    },
    {
      "cell_type": "code",
      "source": [
        "# Get Miles' first class on Monday\n",
        "monday_first_class = miles_schedule[0][1]  # [0] = Monday, [1] = first class\n",
        "print(f\"Miles' first class on Monday: {monday_first_class}\")\n",
        "\n",
        "# Get Miles' second class on Thursday\n",
        "thursday_second_class = miles_schedule[3][2]  # [3] = Thursday, [2] = second class\n",
        "print(f\"Miles' second class on Thursday: {thursday_second_class}\")"
      ],
      "metadata": {
        "colab": {
          "base_uri": "https://localhost:8080/"
        },
        "id": "dWItZOpeR0i2",
        "outputId": "7c8fa978-c0db-41a3-9efd-8f135f2c8ed4"
      },
      "execution_count": null,
      "outputs": [
        {
          "output_type": "stream",
          "name": "stdout",
          "text": [
            "Miles' first class on Monday: Math\n",
            "Miles' second class on Thursday: English\n"
          ]
        }
      ]
    },
    {
      "cell_type": "markdown",
      "source": [
        "The indexing method `[row][column]` is similar to how we reference cells in a spreadsheet, except that we start from 0 instead of 1.\n",
        "\n",
        "### Modifying Nested Lists\n",
        "\n",
        "Just like regular lists, you can modify elements in nested lists:"
      ],
      "metadata": {
        "id": "31rDeSkJR-FF"
      }
    },
    {
      "cell_type": "code",
      "source": [
        "# Change Miles' Tuesday art class to music\n",
        "print(\"Before change:\", miles_schedule[1])\n",
        "miles_schedule[1][2] = \"Music\"\n",
        "print(\"After changing art to music:\", miles_schedule[1])"
      ],
      "metadata": {
        "colab": {
          "base_uri": "https://localhost:8080/"
        },
        "id": "yrXJtIzaR-vN",
        "outputId": "2c828b98-03c1-4682-96c2-8da0ea3b72ea"
      },
      "execution_count": null,
      "outputs": [
        {
          "output_type": "stream",
          "name": "stdout",
          "text": [
            "Before change: ['Tuesday', 'History', 'Art', 'Computer Science']\n",
            "After changing art to music: ['Tuesday', 'History', 'Music', 'Computer Science']\n"
          ]
        }
      ]
    },
    {
      "cell_type": "markdown",
      "source": [
        "### Looping Through Nested Lists\n",
        "\n",
        "Nested loops are often used to process nested lists:"
      ],
      "metadata": {
        "id": "9MwHfdyXSLc4"
      }
    },
    {
      "cell_type": "code",
      "source": [
        "# Print Miles' complete schedule with days\n",
        "print(\"Miles' Complete Schedule:\")\n",
        "for day_schedule in miles_schedule:\n",
        "    day_name = day_schedule[0]  # First item is the day name\n",
        "    classes = day_schedule[1:]  # Everything after the day name is a class\n",
        "\n",
        "    print(f\"{day_name}: \", end=\"\")\n",
        "    for class_name in classes:\n",
        "        print(f\"{class_name}, \", end=\"\")\n",
        "    print()  # Print a newline"
      ],
      "metadata": {
        "colab": {
          "base_uri": "https://localhost:8080/"
        },
        "id": "g-LNv0ucSMSC",
        "outputId": "9b4e80ca-bd17-46d4-e2ca-2db4817a836e"
      },
      "execution_count": null,
      "outputs": [
        {
          "output_type": "stream",
          "name": "stdout",
          "text": [
            "Miles' Complete Schedule:\n",
            "Monday: Math, English, Science, \n",
            "Tuesday: History, Music, Computer Science, \n",
            "Wednesday: Math, Spanish, Science, \n",
            "Thursday: History, English, P.E., \n",
            "Friday: Math, Art, Computer Science, \n"
          ]
        }
      ]
    },
    {
      "cell_type": "markdown",
      "source": [
        "This pattern of using nested loops to process nested lists is very common in data processing.\n",
        "\n",
        "### Real-World Applications\n",
        "\n",
        "Nested lists have many practical applications:"
      ],
      "metadata": {
        "id": "fe1pyi_MSQ56"
      }
    },
    {
      "cell_type": "code",
      "source": [
        "# Example 1: Student grades (name, math, science, english)\n",
        "grades = [\n",
        "    [\"Robin\", 95, 92, 88],\n",
        "    [\"Starfire\", 85, 90, 92],\n",
        "    [\"Beast Boy\", 78, 80, 85],\n",
        "    [\"Raven\", 92, 95, 96]\n",
        "]\n",
        "\n",
        "# Calculate average score for each student\n",
        "print(\"Student Grade Report:\")\n",
        "for student in grades:\n",
        "    name = student[0]\n",
        "    scores = student[1:]\n",
        "    average = sum(scores) / len(scores)\n",
        "    print(f\"{name}: Average = {average:.1f}\")"
      ],
      "metadata": {
        "colab": {
          "base_uri": "https://localhost:8080/"
        },
        "id": "mPlexN4bSjB8",
        "outputId": "c561c548-de3a-422f-dcd0-04f3d2c30c0c"
      },
      "execution_count": null,
      "outputs": [
        {
          "output_type": "stream",
          "name": "stdout",
          "text": [
            "Student Grade Report:\n",
            "Robin: Average = 91.7\n",
            "Starfire: Average = 89.0\n",
            "Beast Boy: Average = 81.0\n",
            "Raven: Average = 94.3\n"
          ]
        }
      ]
    },
    {
      "cell_type": "code",
      "source": [
        "# Example 2: Simple 3x3 pixel image (0=black, 1=white)\n",
        "pixel_image = [\n",
        "    [1, 0, 1],\n",
        "    [0, 1, 0],\n",
        "    [1, 0, 1]\n",
        "]\n",
        "\n",
        "print(\"\\nSimple X pattern image:\")\n",
        "for row in pixel_image:\n",
        "    # Convert 0s and 1s to visual symbols\n",
        "    visual_row = [\"■\" if pixel == 1 else \"□\" for pixel in row]\n",
        "    print(\" \".join(visual_row))"
      ],
      "metadata": {
        "colab": {
          "base_uri": "https://localhost:8080/"
        },
        "id": "sXK3Li3ESnWV",
        "outputId": "c3b87e85-2de5-4268-af29-51a698122691"
      },
      "execution_count": null,
      "outputs": [
        {
          "output_type": "stream",
          "name": "stdout",
          "text": [
            "\n",
            "Simple X pattern image:\n",
            "■ □ ■\n",
            "□ ■ □\n",
            "■ □ ■\n"
          ]
        }
      ]
    },
    {
      "cell_type": "markdown",
      "source": [
        "## Algorithmic Thinking: Breaking Down Problems\n",
        "\n",
        "**Algorithmic thinking** is a problem-solving approach that involves breaking complex problems into smaller, manageable steps. It's one of the most important skills in computer science, and it's useful far beyond programming!\n",
        "\n",
        "### What is an Algorithm?\n",
        "\n",
        "An **algorithm** is a step-by-step procedure for solving a problem or accomplishing a task. Think of it like a recipe—a clear sequence of instructions that, when followed correctly, produces a specific result.\n",
        "\n",
        "### Characteristics of Good Algorithms\n",
        "\n",
        "* **Clear and precise** - Each step is unambiguous\n",
        "* **Finite** - The algorithm must eventually terminate\n",
        "* **Effective** - It produces the correct result\n",
        "* **Efficient** - It uses resources (time, memory) wisely\n",
        "\n",
        "### The Problem-Breaking Process\n",
        "\n",
        "1. **Understand the problem completely**\n",
        "   * What are the inputs?\n",
        "   * What are the expected outputs?\n",
        "   * What constraints are there?\n",
        "\n",
        "2. **Divide and conquer**\n",
        "   * Break the main problem into sub-problems\n",
        "   * Solve each sub-problem independently\n",
        "   * Combine the solutions\n",
        "\n",
        "3. **Recognize patterns**\n",
        "   * Look for similarities to problems you've solved before\n",
        "   * Identify common operations that can be reused\n",
        "\n",
        "4. **Start simple**\n",
        "   * Solve a simplified version of the problem first\n",
        "   * Then extend your solution to handle the full complexity\n",
        "\n",
        "### Example: Finding a Student in a School Database\n",
        "\n",
        "Let's say Miles Morales needs to find which classroom Gwen Stacy is in at Spider Academy. Here's how we might break down this problem:\n",
        "\n",
        "**Original problem:** Find which classroom Gwen Stacy is in.\n",
        "\n",
        "**Step 1: Understand the problem**\n",
        "* Input: A student name (Gwen Stacy)\n",
        "* Output: A classroom location\n",
        "* We have a database of student records\n",
        "\n",
        "**Step 2: Break it down into sub-problems**\n",
        "1. Access the student database\n",
        "2. Search for the student by name\n",
        "3. Retrieve the classroom information\n",
        "4. Display the result\n",
        "\n",
        "**Step 3: Algorithm for each sub-problem**\n",
        "\n",
        "```\n",
        "Algorithm for searching student database:\n",
        "\n",
        "1. Get the student name to search for (Gwen)\n",
        "2. For each student record in the database:\n",
        "   a. Check if the current student's name matches \"Gwen\"\n",
        "   b. If it matches, retrieve the classroom information\n",
        "   c. If not, continue to the next record\n",
        "3. If we complete the loop without finding a match, report \"Student not found\"\n",
        "4. Otherwise, return the classroom information\n",
        "```\n",
        "\n",
        "### Real-World Example: Organizing a School Event\n",
        "\n",
        "Imagine you're Robin, organizing a charity fundraiser at Titans High School:\n",
        "\n",
        "1. **Define the problem**: We need to assign 20 students to 5 different activity stations\n",
        "2. **Break it down**:\n",
        "   * How many students should be at each station?\n",
        "   * How do we decide which student goes where?\n",
        "   * How do we track assignments?\n",
        "3. **Algorithm**:\n",
        "   * Create a list of students and stations\n",
        "   * Decide on 4 students per station\n",
        "   * Assign students based on their preferences or skills\n",
        "   * Create a schedule with rotations\n",
        "\n",
        "### Applying Algorithmic Thinking to Coding\n",
        "\n",
        "When writing code, good algorithmic thinking helps you:\n",
        "\n",
        "* Plan your approach before writing any code\n",
        "* Create functions that do one thing well\n",
        "* Design efficient solutions that scale\n",
        "* Debug problems systematically\n",
        "\n",
        "Remember: The most elegant solution isn't always the one that comes to mind first. Spending time on algorithmic thinking before coding saves time in the long run!\n",
        "\n"
      ],
      "metadata": {
        "id": "XSK4qriXSmKa"
      }
    },
    {
      "cell_type": "markdown",
      "source": [
        "## Pseudocode: Planning Before Coding\n",
        "\n",
        "**Pseudocode** is a method of planning computer programs using plain language descriptions instead of actual code syntax. It bridges the gap between human thinking and computer code.\n",
        "\n",
        "### Why Use Pseudocode?\n",
        "\n",
        "Pseudocode offers several important benefits:\n",
        "\n",
        "* **Focus on logic** - Think about the problem without syntax concerns\n",
        "* **Language-independent** - Works for any programming language\n",
        "* **Easier communication** - Share ideas with others who may not know Python\n",
        "* **Smoother transition to code** - Creates a roadmap for implementation\n",
        "* **Clearer debugging** - Spot logical errors before writing actual code\n",
        "\n",
        "### Pseudocode Basics\n",
        "\n",
        "Good pseudocode is:\n",
        "* Clear and readable\n",
        "* Detailed enough to capture the algorithm\n",
        "* Simple enough to understand quickly\n",
        "* Structured with proper indentation\n",
        "\n",
        "### Common Pseudocode Elements\n",
        "\n",
        "| Purpose | Pseudocode | Python Equivalent |\n",
        "|---------|------------|-------------------|\n",
        "| Assignment | `SET variable TO value` | `variable = value` |\n",
        "| Input | `READ variable` | `variable = input()` |\n",
        "| Output | `PRINT value` | `print(value)` |\n",
        "| Conditional | `IF condition THEN ... ELSE ...` | `if condition: ... else: ...` |\n",
        "| Loop (count) | `FOR i = 1 TO 10` | `for i in range(1, 11):` |\n",
        "| Loop (collection) | `FOR EACH item IN collection` | `for item in collection:` |\n",
        "| Loop (condition) | `WHILE condition` | `while condition:` |\n",
        "| Function | `FUNCTION name(parameters)` | `def name(parameters):` |\n",
        "\n",
        "### Pseudocode Example: Character Creator for a Game\n",
        "\n",
        "Let's say we're creating a simple character generator for Titans Academy students:\n",
        "\n",
        "```\n",
        "FUNCTION create_character()\n",
        "    PRINT \"Welcome to Character Creator!\"\n",
        "    \n",
        "    READ character_name\n",
        "    \n",
        "    PRINT \"Choose a character type:\"\n",
        "    PRINT \"1. Hero\"\n",
        "    PRINT \"2. Villain\"\n",
        "    PRINT \"3. Sidekick\"\n",
        "    \n",
        "    READ character_type\n",
        "    \n",
        "    IF character_type equals 1 THEN\n",
        "        SET powers TO [\"super strength\", \"flight\", \"intelligence\"]\n",
        "    ELSE IF character_type equals 2 THEN\n",
        "        SET powers TO [\"mind control\", \"invisibility\", \"gadgets\"]\n",
        "    ELSE\n",
        "        SET powers TO [\"agility\", \"basic combat\", \"stealth\"]\n",
        "    \n",
        "    PRINT \"Choose one power from the list:\"\n",
        "    FOR EACH power IN powers\n",
        "        PRINT power\n",
        "    \n",
        "    READ chosen_power\n",
        "    \n",
        "    PRINT \"Character created!\"\n",
        "    PRINT \"Name: \" + character_name\n",
        "    PRINT \"Type: \" + character_type\n",
        "    PRINT \"Power: \" + chosen_power\n",
        "    \n",
        "    RETURN character_name, character_type, chosen_power\n",
        "```\n",
        "\n",
        "### From Pseudocode to Python\n",
        "\n",
        "Once you have pseudocode, translating to Python becomes much easier:"
      ],
      "metadata": {
        "id": "NIr3F1RUTOPP"
      }
    },
    {
      "cell_type": "code",
      "source": [
        "def create_character():\n",
        "    print(\"Welcome to Character Creator!\")\n",
        "\n",
        "    character_name = input(\"Enter character name: \")\n",
        "\n",
        "    print(\"Choose a character type:\")\n",
        "    print(\"1. Hero\")\n",
        "    print(\"2. Villain\")\n",
        "    print(\"3. Sidekick\")\n",
        "\n",
        "    character_type = int(input(\"Enter your choice (1-3): \"))\n",
        "\n",
        "    if character_type == 1:\n",
        "        powers = [\"super strength\", \"flight\", \"intelligence\"]\n",
        "        type_name = \"Hero\"\n",
        "    elif character_type == 2:\n",
        "        powers = [\"mind control\", \"invisibility\", \"gadgets\"]\n",
        "        type_name = \"Villain\"\n",
        "    else:\n",
        "        powers = [\"agility\", \"basic combat\", \"stealth\"]\n",
        "        type_name = \"Sidekick\"\n",
        "\n",
        "    print(\"Choose one power from the list:\")\n",
        "    for i, power in enumerate(powers, 1):\n",
        "        print(f\"{i}. {power}\")\n",
        "\n",
        "    power_choice = int(input(\"Enter your choice: \"))\n",
        "    chosen_power = powers[power_choice - 1]\n",
        "\n",
        "    print(\"\\nCharacter created!\")\n",
        "    print(f\"Name: {character_name}\")\n",
        "    print(f\"Type: {type_name}\")\n",
        "    print(f\"Power: {chosen_power}\")\n",
        "\n",
        "    return character_name, type_name, chosen_power\n",
        "\n",
        "create_character()\n"
      ],
      "metadata": {
        "colab": {
          "base_uri": "https://localhost:8080/",
          "height": 339
        },
        "id": "ezr7KnWQTVVa",
        "outputId": "578c3bcf-ba97-431b-8962-bb94f49f2b9f"
      },
      "execution_count": null,
      "outputs": [
        {
          "output_type": "stream",
          "name": "stdout",
          "text": [
            "Welcome to Character Creator!\n"
          ]
        },
        {
          "output_type": "error",
          "ename": "KeyboardInterrupt",
          "evalue": "Interrupted by user",
          "traceback": [
            "\u001b[0;31m---------------------------------------------------------------------------\u001b[0m",
            "\u001b[0;31mKeyboardInterrupt\u001b[0m                         Traceback (most recent call last)",
            "\u001b[0;32m<ipython-input-45-c95ec2755e30>\u001b[0m in \u001b[0;36m<cell line: 0>\u001b[0;34m()\u001b[0m\n\u001b[1;32m     35\u001b[0m     \u001b[0;32mreturn\u001b[0m \u001b[0mcharacter_name\u001b[0m\u001b[0;34m,\u001b[0m \u001b[0mtype_name\u001b[0m\u001b[0;34m,\u001b[0m \u001b[0mchosen_power\u001b[0m\u001b[0;34m\u001b[0m\u001b[0;34m\u001b[0m\u001b[0m\n\u001b[1;32m     36\u001b[0m \u001b[0;34m\u001b[0m\u001b[0m\n\u001b[0;32m---> 37\u001b[0;31m \u001b[0mcreate_character\u001b[0m\u001b[0;34m(\u001b[0m\u001b[0;34m)\u001b[0m\u001b[0;34m\u001b[0m\u001b[0;34m\u001b[0m\u001b[0m\n\u001b[0m",
            "\u001b[0;32m<ipython-input-45-c95ec2755e30>\u001b[0m in \u001b[0;36mcreate_character\u001b[0;34m()\u001b[0m\n\u001b[1;32m      2\u001b[0m     \u001b[0mprint\u001b[0m\u001b[0;34m(\u001b[0m\u001b[0;34m\"Welcome to Character Creator!\"\u001b[0m\u001b[0;34m)\u001b[0m\u001b[0;34m\u001b[0m\u001b[0;34m\u001b[0m\u001b[0m\n\u001b[1;32m      3\u001b[0m \u001b[0;34m\u001b[0m\u001b[0m\n\u001b[0;32m----> 4\u001b[0;31m     \u001b[0mcharacter_name\u001b[0m \u001b[0;34m=\u001b[0m \u001b[0minput\u001b[0m\u001b[0;34m(\u001b[0m\u001b[0;34m\"Enter character name: \"\u001b[0m\u001b[0;34m)\u001b[0m\u001b[0;34m\u001b[0m\u001b[0;34m\u001b[0m\u001b[0m\n\u001b[0m\u001b[1;32m      5\u001b[0m \u001b[0;34m\u001b[0m\u001b[0m\n\u001b[1;32m      6\u001b[0m     \u001b[0mprint\u001b[0m\u001b[0;34m(\u001b[0m\u001b[0;34m\"Choose a character type:\"\u001b[0m\u001b[0;34m)\u001b[0m\u001b[0;34m\u001b[0m\u001b[0;34m\u001b[0m\u001b[0m\n",
            "\u001b[0;32m/usr/local/lib/python3.11/dist-packages/ipykernel/kernelbase.py\u001b[0m in \u001b[0;36mraw_input\u001b[0;34m(self, prompt)\u001b[0m\n\u001b[1;32m   1175\u001b[0m                 \u001b[0;34m\"raw_input was called, but this frontend does not support input requests.\"\u001b[0m\u001b[0;34m\u001b[0m\u001b[0;34m\u001b[0m\u001b[0m\n\u001b[1;32m   1176\u001b[0m             )\n\u001b[0;32m-> 1177\u001b[0;31m         return self._input_request(\n\u001b[0m\u001b[1;32m   1178\u001b[0m             \u001b[0mstr\u001b[0m\u001b[0;34m(\u001b[0m\u001b[0mprompt\u001b[0m\u001b[0;34m)\u001b[0m\u001b[0;34m,\u001b[0m\u001b[0;34m\u001b[0m\u001b[0;34m\u001b[0m\u001b[0m\n\u001b[1;32m   1179\u001b[0m             \u001b[0mself\u001b[0m\u001b[0;34m.\u001b[0m\u001b[0m_parent_ident\u001b[0m\u001b[0;34m[\u001b[0m\u001b[0;34m\"shell\"\u001b[0m\u001b[0;34m]\u001b[0m\u001b[0;34m,\u001b[0m\u001b[0;34m\u001b[0m\u001b[0;34m\u001b[0m\u001b[0m\n",
            "\u001b[0;32m/usr/local/lib/python3.11/dist-packages/ipykernel/kernelbase.py\u001b[0m in \u001b[0;36m_input_request\u001b[0;34m(self, prompt, ident, parent, password)\u001b[0m\n\u001b[1;32m   1217\u001b[0m             \u001b[0;32mexcept\u001b[0m \u001b[0mKeyboardInterrupt\u001b[0m\u001b[0;34m:\u001b[0m\u001b[0;34m\u001b[0m\u001b[0;34m\u001b[0m\u001b[0m\n\u001b[1;32m   1218\u001b[0m                 \u001b[0;31m# re-raise KeyboardInterrupt, to truncate traceback\u001b[0m\u001b[0;34m\u001b[0m\u001b[0;34m\u001b[0m\u001b[0m\n\u001b[0;32m-> 1219\u001b[0;31m                 \u001b[0;32mraise\u001b[0m \u001b[0mKeyboardInterrupt\u001b[0m\u001b[0;34m(\u001b[0m\u001b[0;34m\"Interrupted by user\"\u001b[0m\u001b[0;34m)\u001b[0m \u001b[0;32mfrom\u001b[0m \u001b[0;32mNone\u001b[0m\u001b[0;34m\u001b[0m\u001b[0;34m\u001b[0m\u001b[0m\n\u001b[0m\u001b[1;32m   1220\u001b[0m             \u001b[0;32mexcept\u001b[0m \u001b[0mException\u001b[0m\u001b[0;34m:\u001b[0m\u001b[0;34m\u001b[0m\u001b[0;34m\u001b[0m\u001b[0m\n\u001b[1;32m   1221\u001b[0m                 \u001b[0mself\u001b[0m\u001b[0;34m.\u001b[0m\u001b[0mlog\u001b[0m\u001b[0;34m.\u001b[0m\u001b[0mwarning\u001b[0m\u001b[0;34m(\u001b[0m\u001b[0;34m\"Invalid Message:\"\u001b[0m\u001b[0;34m,\u001b[0m \u001b[0mexc_info\u001b[0m\u001b[0;34m=\u001b[0m\u001b[0;32mTrue\u001b[0m\u001b[0;34m)\u001b[0m\u001b[0;34m\u001b[0m\u001b[0;34m\u001b[0m\u001b[0m\n",
            "\u001b[0;31mKeyboardInterrupt\u001b[0m: Interrupted by user"
          ]
        }
      ]
    },
    {
      "cell_type": "markdown",
      "source": [
        "### Tips for Writing Good Pseudocode\n",
        "\n",
        "1. **Keep it simple** - Use clear, straightforward language\n",
        "2. **Be consistent** - Use the same style throughout\n",
        "3. **Include all logic** - Don't skip important steps\n",
        "4. **Use proper indentation** - Show structure clearly\n",
        "5. **Review and refine** - Improve your pseudocode before coding\n",
        "\n",
        "Remember: Pseudocode isn't meant to be executed—it's a planning tool. The time you spend writing pseudocode will save you time when writing and debugging actual code!"
      ],
      "metadata": {
        "id": "ooPR-8umTiFK"
      }
    },
    {
      "cell_type": "markdown",
      "source": [
        "## Debugging Fundamentals: Finding & Fixing Errors\n",
        "\n",
        "**Debugging** is the process of finding and fixing errors (bugs) in your code. It's a critical skill that every programmer needs to master, and it gets easier with practice!\n",
        "\n",
        "### The Debugging Mindset\n",
        "\n",
        "Effective debugging requires a specific approach:\n",
        "\n",
        "* **Be systematic** - Follow a process rather than making random changes\n",
        "* **Be patient** - Some bugs take time to track down\n",
        "* **Be curious** - Ask \"why\" the code is behaving this way\n",
        "* **Be persistent** - Don't give up when facing difficult problems\n",
        "\n",
        "### The Debugging Process\n",
        "\n",
        "1. **Identify the problem**\n",
        "   * What unexpected behavior are you seeing?\n",
        "   * When does it occur?\n",
        "   * Can you reliably reproduce it?\n",
        "\n",
        "2. **Isolate the source**\n",
        "   * Narrow down which part of the code is causing the issue\n",
        "   * Use print statements or a debugger to inspect variables\n",
        "   * Comment out sections of code to see if the problem persists\n",
        "\n",
        "3. **Fix the bug**\n",
        "   * Make the necessary changes to correct the issue\n",
        "   * Test to make sure the fix works\n",
        "   * Make sure your fix doesn't create new bugs\n",
        "\n",
        "4. **Learn from it**\n",
        "   * Understand why the bug occurred\n",
        "   * Consider how to prevent similar bugs in the future\n",
        "\n",
        "### Example: Debugging a Simple Program\n",
        "\n",
        "Imagine Miles is trying to calculate average test scores but his code has a bug:\n"
      ],
      "metadata": {
        "id": "RjYSuo_STx6E"
      }
    },
    {
      "cell_type": "code",
      "source": [
        "def calculate_average(scores):\n",
        "    total = 0\n",
        "    for score in scores:\n",
        "        total = total + score\n",
        "    return total / len(scores)\n",
        "\n",
        "student_scores = [85, 90, 78, 88, \"92\"]\n",
        "average = calculate_average(student_scores)\n",
        "print(f\"The average score is: {average}\")"
      ],
      "metadata": {
        "colab": {
          "base_uri": "https://localhost:8080/",
          "height": 315
        },
        "id": "ovnMpHcATyqy",
        "outputId": "84c91ae9-aa08-4e5a-af6b-b02e63aef1c0"
      },
      "execution_count": null,
      "outputs": [
        {
          "output_type": "error",
          "ename": "TypeError",
          "evalue": "unsupported operand type(s) for +: 'int' and 'str'",
          "traceback": [
            "\u001b[0;31m---------------------------------------------------------------------------\u001b[0m",
            "\u001b[0;31mTypeError\u001b[0m                                 Traceback (most recent call last)",
            "\u001b[0;32m<ipython-input-1-67c2a73d9605>\u001b[0m in \u001b[0;36m<cell line: 0>\u001b[0;34m()\u001b[0m\n\u001b[1;32m      6\u001b[0m \u001b[0;34m\u001b[0m\u001b[0m\n\u001b[1;32m      7\u001b[0m \u001b[0mstudent_scores\u001b[0m \u001b[0;34m=\u001b[0m \u001b[0;34m[\u001b[0m\u001b[0;36m85\u001b[0m\u001b[0;34m,\u001b[0m \u001b[0;36m90\u001b[0m\u001b[0;34m,\u001b[0m \u001b[0;36m78\u001b[0m\u001b[0;34m,\u001b[0m \u001b[0;36m88\u001b[0m\u001b[0;34m,\u001b[0m \u001b[0;34m\"92\"\u001b[0m\u001b[0;34m]\u001b[0m\u001b[0;34m\u001b[0m\u001b[0;34m\u001b[0m\u001b[0m\n\u001b[0;32m----> 8\u001b[0;31m \u001b[0maverage\u001b[0m \u001b[0;34m=\u001b[0m \u001b[0mcalculate_average\u001b[0m\u001b[0;34m(\u001b[0m\u001b[0mstudent_scores\u001b[0m\u001b[0;34m)\u001b[0m\u001b[0;34m\u001b[0m\u001b[0;34m\u001b[0m\u001b[0m\n\u001b[0m\u001b[1;32m      9\u001b[0m \u001b[0mprint\u001b[0m\u001b[0;34m(\u001b[0m\u001b[0;34mf\"The average score is: {average}\"\u001b[0m\u001b[0;34m)\u001b[0m\u001b[0;34m\u001b[0m\u001b[0;34m\u001b[0m\u001b[0m\n",
            "\u001b[0;32m<ipython-input-1-67c2a73d9605>\u001b[0m in \u001b[0;36mcalculate_average\u001b[0;34m(scores)\u001b[0m\n\u001b[1;32m      2\u001b[0m     \u001b[0mtotal\u001b[0m \u001b[0;34m=\u001b[0m \u001b[0;36m0\u001b[0m\u001b[0;34m\u001b[0m\u001b[0;34m\u001b[0m\u001b[0m\n\u001b[1;32m      3\u001b[0m     \u001b[0;32mfor\u001b[0m \u001b[0mscore\u001b[0m \u001b[0;32min\u001b[0m \u001b[0mscores\u001b[0m\u001b[0;34m:\u001b[0m\u001b[0;34m\u001b[0m\u001b[0;34m\u001b[0m\u001b[0m\n\u001b[0;32m----> 4\u001b[0;31m         \u001b[0mtotal\u001b[0m \u001b[0;34m=\u001b[0m \u001b[0mtotal\u001b[0m \u001b[0;34m+\u001b[0m \u001b[0mscore\u001b[0m\u001b[0;34m\u001b[0m\u001b[0;34m\u001b[0m\u001b[0m\n\u001b[0m\u001b[1;32m      5\u001b[0m     \u001b[0;32mreturn\u001b[0m \u001b[0mtotal\u001b[0m \u001b[0;34m/\u001b[0m \u001b[0mlen\u001b[0m\u001b[0;34m(\u001b[0m\u001b[0mscores\u001b[0m\u001b[0;34m)\u001b[0m\u001b[0;34m\u001b[0m\u001b[0;34m\u001b[0m\u001b[0m\n\u001b[1;32m      6\u001b[0m \u001b[0;34m\u001b[0m\u001b[0m\n",
            "\u001b[0;31mTypeError\u001b[0m: unsupported operand type(s) for +: 'int' and 'str'"
          ]
        }
      ]
    },
    {
      "cell_type": "markdown",
      "source": [
        "When Miles runs this code, he gets an error: `TypeError: unsupported operand type(s) for +: 'int' and 'str'`\n",
        "\n",
        "**Debugging Steps:**\n",
        "\n",
        "1. **Identify**: The error message tells us there's a problem adding an integer and a string.\n",
        "\n",
        "2. **Isolate**: We can add a print statement to see the values:"
      ],
      "metadata": {
        "id": "oxZWsq98T1g4"
      }
    },
    {
      "cell_type": "code",
      "source": [
        "for score in student_scores:\n",
        "       print(f\"Adding score: {score}, type: {type(score)}\")\n",
        "       total = total + score"
      ],
      "metadata": {
        "colab": {
          "base_uri": "https://localhost:8080/",
          "height": 193
        },
        "id": "KxCVCRrhT7SS",
        "outputId": "162ea46d-4e1b-4b3a-d9fc-03dc3ecfc909"
      },
      "execution_count": null,
      "outputs": [
        {
          "output_type": "stream",
          "name": "stdout",
          "text": [
            "Adding score: 85, type: <class 'int'>\n"
          ]
        },
        {
          "output_type": "error",
          "ename": "NameError",
          "evalue": "name 'total' is not defined",
          "traceback": [
            "\u001b[0;31m---------------------------------------------------------------------------\u001b[0m",
            "\u001b[0;31mNameError\u001b[0m                                 Traceback (most recent call last)",
            "\u001b[0;32m<ipython-input-2-8c70e5441b04>\u001b[0m in \u001b[0;36m<cell line: 0>\u001b[0;34m()\u001b[0m\n\u001b[1;32m      1\u001b[0m \u001b[0;32mfor\u001b[0m \u001b[0mscore\u001b[0m \u001b[0;32min\u001b[0m \u001b[0mstudent_scores\u001b[0m\u001b[0;34m:\u001b[0m\u001b[0;34m\u001b[0m\u001b[0;34m\u001b[0m\u001b[0m\n\u001b[1;32m      2\u001b[0m        \u001b[0mprint\u001b[0m\u001b[0;34m(\u001b[0m\u001b[0;34mf\"Adding score: {score}, type: {type(score)}\"\u001b[0m\u001b[0;34m)\u001b[0m\u001b[0;34m\u001b[0m\u001b[0;34m\u001b[0m\u001b[0m\n\u001b[0;32m----> 3\u001b[0;31m        \u001b[0mtotal\u001b[0m \u001b[0;34m=\u001b[0m \u001b[0mtotal\u001b[0m \u001b[0;34m+\u001b[0m \u001b[0mscore\u001b[0m\u001b[0;34m\u001b[0m\u001b[0;34m\u001b[0m\u001b[0m\n\u001b[0m",
            "\u001b[0;31mNameError\u001b[0m: name 'total' is not defined"
          ]
        }
      ]
    },
    {
      "cell_type": "markdown",
      "source": [
        "This would show us that \"92\" is a string, not a number.\n",
        "\n",
        "3. **Fix**: We need to make sure all scores are numbers:"
      ],
      "metadata": {
        "id": "mdd6cogJT_Hq"
      }
    },
    {
      "cell_type": "code",
      "source": [
        "# Fixed code\n",
        "def calculate_average(scores):\n",
        "    total = 0\n",
        "    for score in scores:\n",
        "        # Convert string scores to integers\n",
        "        if isinstance(score, str):\n",
        "            score = int(score)\n",
        "        total = total + score\n",
        "    return total / len(scores)\n",
        "\n",
        "student_scores = [85, 90, 78, 88, \"92\"]\n",
        "average = calculate_average(student_scores)\n",
        "print(f\"The average score is: {average}\")"
      ],
      "metadata": {
        "colab": {
          "base_uri": "https://localhost:8080/"
        },
        "id": "3HJVPjz9UDc_",
        "outputId": "0e94afab-c552-47f3-f55d-7fca39c70d9c"
      },
      "execution_count": null,
      "outputs": [
        {
          "output_type": "stream",
          "name": "stdout",
          "text": [
            "The average score is: 86.6\n"
          ]
        }
      ]
    },
    {
      "cell_type": "markdown",
      "source": [
        "4. **Learn**: Always be careful about data types, especially when working with input from users or files.\n",
        "\n",
        "### Common Types of Bugs\n",
        "\n",
        "* **Syntax Errors** - Mistakes in the code structure (missing parentheses, colons, etc.)\n",
        "* **Runtime Errors** - Problems that occur during execution (divide by zero, undefined variable, etc.)\n",
        "* **Logic Errors** - Code runs without errors but produces incorrect results\n",
        "* **Off-by-One Errors** - Loops that run one too many or one too few times\n",
        "\n",
        "### Debugging Tools and Techniques\n",
        "\n",
        "* **Print statements** - Add temporary print commands to show variable values\n",
        "* **Debugger tools** - Programs that let you step through code line by line\n",
        "* **Rubber duck debugging** - Explain your code line by line to an object (like a rubber duck)\n",
        "* **Code review** - Ask someone else to look at your code\n",
        "\n",
        "Remember: Debugging is a normal part of programming, not a sign of failure. Even professional programmers spend a lot of time debugging!"
      ],
      "metadata": {
        "id": "L94ZVQx7UCFJ"
      }
    },
    {
      "cell_type": "markdown",
      "source": [
        "## Conclusion: Putting It All Together - Collections & Design\n",
        "\n",
        "Congratulations! You've completed the introduction to Python collections and program design. Let's recap what we've learned and discuss where to go from here.\n",
        "\n",
        "### What We've Covered\n",
        "\n",
        "#### Python Collections:\n",
        "* **Lists** - Ordered, mutable collections for storing sequences of items\n",
        "  * Creating, accessing, modifying, and iterating through lists\n",
        "  * List methods like `append()`, `insert()`, `remove()`, and `sort()`\n",
        "  * List comprehensions for creating lists concisely\n",
        "\n",
        "* **Tuples** - Ordered, immutable collections for fixed data\n",
        "  * When to use tuples vs lists\n",
        "  * Why immutability matters\n",
        "  * Using tuples as dictionary keys and function returns\n",
        "\n",
        "* **Sets** - Unordered collections of unique elements\n",
        "  * Removing duplicates from data\n",
        "  * Set operations like union, intersection, and difference\n",
        "  * Fast membership testing\n",
        "\n",
        "* **Nested Collections** - Combining collections for complex data structures\n",
        "  * Lists of lists, lists of dictionaries, etc.\n",
        "  * Accessing and modifying nested data\n",
        "\n",
        "#### Program Design and Debugging:\n",
        "* **Algorithmic thinking** - Breaking down problems systematically\n",
        "* **Pseudocode** - Planning programs before writing actual code\n",
        "* **Debugging techniques** - Finding and fixing errors\n",
        "* **Best practices** - Organizing and documenting code effectively\n",
        "\n",
        "### Why These Skills Matter\n",
        "\n",
        "These skills form the foundation of practical programming:\n",
        "\n",
        "1. **Collections are everywhere** - Almost all useful programs need to manage multiple pieces of data\n",
        "2. **Good design saves time** - Planning before coding reduces errors and confusion\n",
        "3. **Debugging is a critical skill** - Being able to find and fix bugs confidently is essential\n",
        "4. **Organization makes code maintainable** - Well-structured code is easier to update and extend"
      ],
      "metadata": {
        "id": "IzW9zdVMVF5C"
      }
    },
    {
      "cell_type": "markdown",
      "source": [
        "### Python Code Quiz\n",
        "Click the following cell to launch the Python exercises for this chapter."
      ],
      "metadata": {
        "id": "8sxqj6s-_l94"
      }
    },
    {
      "cell_type": "code",
      "source": [
        "# @title\n",
        "!wget https://github.com/brendanpshea/computing_concepts_python/raw/main/python_code_quiz/pyquiz.py -q -nc\n",
        "from pyquiz import PracticeTool\n",
        "practice_tool = PracticeTool(json_url='https://github.com/brendanpshea/computing_concepts_python/raw/main/python_code_quiz/python_04_lists.json')"
      ],
      "metadata": {
        "id": "Ufh22HQs_tAI"
      },
      "execution_count": null,
      "outputs": []
    },
    {
      "cell_type": "markdown",
      "source": [
        "##  Review With Quizlet"
      ],
      "metadata": {
        "id": "KIvzD1VuWwYW"
      }
    },
    {
      "cell_type": "code",
      "source": [
        "%%html\n",
        "<iframe src=\"https://quizlet.com/1038507635/learn/embed?i=psvlh&x=1jj1\" height=\"700\" width=\"100%\" style=\"border:0\"></iframe>"
      ],
      "metadata": {
        "id": "AEiXEE10Wz4p",
        "outputId": "4a727fdd-82ba-4d4f-8d24-35eaf8f6b66a",
        "colab": {
          "base_uri": "https://localhost:8080/",
          "height": 722
        }
      },
      "execution_count": null,
      "outputs": [
        {
          "output_type": "display_data",
          "data": {
            "text/plain": [
              "<IPython.core.display.HTML object>"
            ],
            "text/html": [
              "<iframe src=\"https://quizlet.com/1038507635/learn/embed?i=psvlh&x=1jj1\" height=\"700\" width=\"100%\" style=\"border:0\"></iframe>\n"
            ]
          },
          "metadata": {}
        }
      ]
    },
    {
      "cell_type": "markdown",
      "source": [
        "# Collections and Design Glossary\n",
        "\n",
        "| Term | Definition |\n",
        "|------|------------|\n",
        "| Algorithm | A step-by-step procedure for solving a problem or accomplishing a task, characterized by being clear, finite, effective, and efficient. |\n",
        "| Algorithmic Thinking | A problem-solving approach that involves breaking complex problems into smaller, manageable steps to design efficient solutions. |\n",
        "| `append()` | A list method that adds a single item to the end of a list, modifying the original list without creating a new one. |\n",
        "| Collection | A data structure that stores multiple values in a single variable, allowing for efficient organization and management of related data. |\n",
        "| Debugging | The process of finding and fixing errors (bugs) in code through systematic investigation and problem-solving techniques. |\n",
        "| `extend()` | A list method that adds multiple items from another collection to the end of a list, modifying the original list. |\n",
        "| Immutable | A property of data structures that cannot be changed after creation; tuples are immutable collections in Python. |\n",
        "| Index | The position of an element in an ordered collection, starting from 0 for the first element in Python collections. |\n",
        "| `insert()` | A list method that adds an item at a specified position in a list, shifting other elements to accommodate it. |\n",
        "| `intersection()` | A set operation that returns only the elements common to all specified sets, available through this method or & operator. |\n",
        "| `list` | An ordered, mutable collection that can contain items of different data types, created using square brackets [ ]. |\n",
        "| List Comprehension | A concise and powerful way to create lists in Python by combining a for loop and conditional logic into a single line of code. |\n",
        "| Mutable | A property of data structures that can be modified after creation; lists are mutable collections in Python. |\n",
        "| Nested Collection | A collection that contains other collections as elements, such as lists within lists, enabling representation of more complex data structures. |\n",
        "| `pop()` | A list method that removes an item at a specified position (or the last item if no position is specified) and returns it. |\n",
        "| Pseudocode | A method of planning programs using plain language descriptions instead of actual code syntax, bridging human thinking and computer code. |\n",
        "| `range()` | A built-in function that generates a sequence of numbers, commonly used with for loops to specify the number of iterations. |\n",
        "| Remove | A list method that finds and removes the first occurrence of a specified value from a list. |\n",
        "| `set` | An unordered collection of unique elements with no duplicates, created using curly braces { } or the set() function. |\n",
        "| Slicing | A technique to access a range of elements from ordered collections using the format collection[start:end]. |\n",
        "| `tuple` | An ordered, immutable collection that can contain items of different data types, created using parentheses ( ). |\n",
        "| `union()` | A set operation that combines all unique elements from multiple sets, using this method or the \\| operator. |\n",
        "| Zero-based Indexing | A numbering system where the first element in a collection has an index of 0, the second has an index of 1, and so on. |\n",
        "| Difference | A set operation that returns elements present in the first set but not in the second, using the difference() method or - operator. |\n",
        "| Clear | A list or set method that removes all items from the collection, leaving it empty while preserving the variable. |"
      ],
      "metadata": {
        "id": "qvFNy2YeV9hs"
      }
    },
    {
      "cell_type": "code",
      "source": [],
      "metadata": {
        "id": "qs20hxraVLf5"
      },
      "execution_count": null,
      "outputs": []
    }
  ]
}