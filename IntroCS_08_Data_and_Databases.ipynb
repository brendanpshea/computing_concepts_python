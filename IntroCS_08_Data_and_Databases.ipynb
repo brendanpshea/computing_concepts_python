{
  "nbformat": 4,
  "nbformat_minor": 0,
  "metadata": {
    "colab": {
      "provenance": [],
      "authorship_tag": "ABX9TyMkcIUF3TwAFINK0qv2oeXY",
      "include_colab_link": true
    },
    "kernelspec": {
      "name": "python3",
      "display_name": "Python 3"
    },
    "language_info": {
      "name": "python"
    }
  },
  "cells": [
    {
      "cell_type": "markdown",
      "metadata": {
        "id": "view-in-github",
        "colab_type": "text"
      },
      "source": [
        "<a href=\"https://colab.research.google.com/github/brendanpshea/intro_cs/blob/main/IntroCS_08_Data_and_Databases.ipynb\" target=\"_parent\"><img src=\"https://colab.research.google.com/assets/colab-badge.svg\" alt=\"Open In Colab\"/></a>"
      ]
    },
    {
      "cell_type": "markdown",
      "source": [
        "## An Intro to Data and Databases\n",
        "\n",
        "In the ever-evolving digital age, we're surrounded by a colossal amount of information - so much so that it's become virtually impossible to comprehend its vastness without the aid of computers. This ocean of information is comprised of 'data', a term you're likely to hear frequently in the realm of computer science, and one that is the fundamental unit of our digital world. This chapter will introduce you to the concept of data, its types, and its critical role in computer science.\n",
        "\n",
        "In any field, data serves as the basis for decision-making and problem-solving. For instance, meteorologists predict weather patterns based on historical climate data, marketers analyze consumer behavior data to tailor their advertising strategies, doctors make use of medical history data to diagnose and treat patients, and financial analysts forecast market trends using financial data. All these examples involve data analysis and interpretation, which are crucial components of computer science.\n",
        "\n",
        "In computer science, we employ data in myriad ways: creating algorithms, designing software applications, and most notably, building and managing databases. But what exactly is a database? How does it organize vast amounts of data so efficiently? And how can we interact with a database to retrieve the information we need? To answer these questions, we delve into the world of databases and the language that we use to interact with them, Structured Query Language (SQL).\n",
        "\n",
        "In this chapter, we'll explore what a database is, why it's an essential tool in handling data, and the various types of databases that exist. We'll also introduce you to SQL, discussing how to use it to retrieve data from a database efficiently. We'll primarily focus on SQL SELECT statements, which form the backbone of data retrieval in SQL.\n",
        "\n",
        "Through this chapter, you'll not only learn about the concept and importance of data and databases but also acquire practical skills that are widely applicable in the field of computer science. By the end of it, you'll be well-equipped with the knowledge to navigate the world of data and databases and a newfound appreciation for the art and science of handling data in computer science."
      ],
      "metadata": {
        "id": "9_HmwBS7TQoI"
      }
    },
    {
      "cell_type": "markdown",
      "source": [
        "## What is Data?\n",
        "**** is a collection of facts in the form of words, numbers, images, or even more abstract concepts. It is raw and unprocessed information that, when processed or structured, can provide meaningful insights.  For example, if we record the daily temperature of a city, each recorded number is a piece of data. Another example might be the individual scores of students on a test, which can be processed to find the class average.\n",
        "\n",
        "In the field of computer science, data is foundational and is the core subject of many, if not most, activities. It is the input to algorithms, the content stored and retrieved in databases, and the information transmitted across networks. Data is critical in a variety of fields and use cases, from decision-making in business environments to scientific research, from machine learning algorithms to web applications, and beyond.\n",
        "\n",
        "Now, to further understand data, we can categorize it into two types: structured and unstructured data.\n",
        "\n",
        "1.  **Structured Data:** This type of data is organized and formatted in a way that it's easily searchable in relational databases. Structured data adheres to a model that defines what fields of data exist and what types of data they hold. For example, an address book containing names, phone numbers, and addresses, where each piece of data has a certain type and is stored in a specific field.\n",
        "\n",
        "2.  **Unstructured Data:** This type of data has no specific format or organization, making it more difficult to collect, process, and analyze. Examples of unstructured data include text files, images, videos, emails, social media posts, and web pages.\n",
        "\n",
        "The importance of data in computer science cannot be overstated. It fuels the processes that drive decision-making algorithms, allows us to analyze and forecast trends, and forms the basis of machine learning and artificial intelligence. Understanding how to work with data - from basic data structures in programming languages to complex databases - is a crucial part of computer science education."
      ],
      "metadata": {
        "id": "Cnhev8KBTWs0"
      }
    },
    {
      "cell_type": "markdown",
      "source": [
        "## What is a Database?\n",
        "A **database** is a highly structured collection of data that is stored, managed, and accessed electronically. It's a systematic and organized way to store, retrieve, and manipulate data, facilitating efficient information management. In databases, data is organized into tables, each comprising rows and columns, forming a grid-like structure.\n",
        "\n",
        "One common way to understand the value of databases is to contrast them with flat files. A **flat file** is a plain text or binary file that contains data but lacks the structured relationships between data elements that a database maintains. For example, you could store customer data in a flat file, with each line of the text file representing a customer and different pieces of information (like name, address, and phone number) separated by a delimiter such as a comma. This format is simple and can work for very small sets of data. Spreadsheets (like MS Excel or Google Docs) are examples of flat files.\n",
        "\n",
        "However, as the volume of data grows, flat files become less practical. Retrieving specific information from a large flat file can be slow and resource-intensive. Furthermore, updating or modifying data in a flat file can be complex and prone to errors. Unlike databases, flat files don't support transactions (a logical unit of work that must either be entirely completed or entirely undone), concurrent access (multiple users accessing the data simultaneously), or constraints (rules governing the data), making data integrity and consistency harder to maintain.  On the other hand, databases are designed to manage, store, and retrieve large volumes of data efficiently. They are equipped with tools and functionalities to handle complex queries, support concurrent user access, ensure data consistency and security, and provide robust data recovery and backup systems.\n",
        "\n",
        "Databases are designed around a database model, the most popular of which is the relational model. **Relational databases** organize data into tables (or relations), where each table represents an entity (like Customers, Orders, Products, etc.) and each row in the table represents a record or instance of that entity.  Many different types of relational databases are used today, each suited to different tasks:\n",
        "\n",
        "1.  Microsoft Access: This is an entry-level, small-scale database management system (DBMS) provided by Microsoft. It's integrated with the Microsoft Office suite and is excellent for small businesses or departments within large organizations.\n",
        "\n",
        "2.  SQLite: SQLite is a self-contained, serverless, and zero-configuration database engine used widely in mobile apps and small to medium-sized applications. It's renowned for its simplicity and lightweight footprint.\n",
        "\n",
        "3.  Oracle Database: Oracle is a high-end, fully-featured DBMS. It is often used in large systems and for enterprise-level applications where performance, scalability, and reliability are crucial.\n",
        "\n",
        "4.  Microsoft SQL Server: This is another enterprise-level DBMS, provided by Microsoft. SQL Server supports a wide range of transaction processing, business intelligence, and analytics applications in corporate IT environments.\n",
        "\n",
        "5.  PostgreSQL: PostgreSQL is a powerful, open-source relational database system with a strong reputation for reliability, data integrity, and correctness. It supports both SQL (relational) and JSON (non-relational) querying.\n",
        "\n",
        "6.  MySQL: MySQL is one of the most popular open-source relational database systems. It's widely used for web databases and is a part of the popular LAMP (Linux, Apache, MySQL, PHP) stack for web development.\n",
        "\n",
        "Databases are an integral part of modern computing. Their structured nature allows efficient storage, retrieval, and manipulation of data, making them vital for a broad range of applications, from small scale applications like mobile apps to large, enterprise-level systems."
      ],
      "metadata": {
        "id": "PE2Z3RaCVV3u"
      }
    },
    {
      "cell_type": "markdown",
      "source": [
        "## Advantages of Databases over Flat Files\n",
        "Databases have several advantages over flat files:\n",
        "\n",
        "- *Efficient Storage:* Databases provide a highly efficient way to store large amounts of data. They allow us to organize data in a structured format, making it easier to manage. For example, a university might have a database that stores information about students, courses, and grades, all organized into separate tables for efficient storage.\n",
        "\n",
        "- *Data Retrieval:* One of the significant advantages of databases is the ease with which we can retrieve data. Thanks to their structured format, we can quickly find and extract the information we need. Using our university example, if we want to find out all the courses a particular student has taken, we can easily retrieve this information from the database.\n",
        "\n",
        "- *Data Management:* Databases also provide robust tools for managing data. They allow us to update data, enforce security measures, and ensure that the data remains consistent and accurate. In our university database, for instance, we could easily update a student's grade or add a new course.\n",
        "\n",
        "- *Concurrency Control:* Databases allow multiple users to interact with the data simultaneously, ensuring that transactions are processed reliably and accurately, even when the database is being accessed concurrently by multiple users.\n",
        "\n",
        "- *Data Protection:* Databases have built-in mechanisms for data backup and recovery, ensuring that data isn't lost in case of a failure.\n",
        "\n",
        "In modern computing, databases are vital because they allow for the efficient handling of large amounts of data. They form the backbone of many applications, ranging from web and mobile applications to enterprise software systems. Understanding databases and how to interact with them is a crucial skill in computer science and many other fields."
      ],
      "metadata": {
        "id": "04aNc3KPViap"
      }
    },
    {
      "cell_type": "markdown",
      "source": [
        "## A Short Introduction to SQL\n",
        "**Structured Query Language**, or **SQL**, is a programming language specifically designed for managing data held in a relational database management system (RDBMS). It is used for storing, manipulating, and retrieving data stored in databases.\n",
        "\n",
        "The inception of SQL goes back to the 1970s. It was initially developed at IBM by Donald D. Chamberlin and Raymond F. Boyce. The language was originally called SEQUEL (Structured English Query Language) but was later shortened to SQL. The first commercial version was introduced by Oracle in 1979.\n",
        "\n",
        "SQL is a little different from other programming languages. It's what we call a **declarative language**. This means that when you write SQL, you describe what you want without having to outline a detailed sequence of steps to get it. This is different from **procedural languages** like Python or C, where you provide the computer with step-by-step instructions.\n",
        "\n",
        "Let's consider a simple example. Suppose you're playing a game of hide-and-seek with your friends. If your friend were a database, and you were trying to \"query\" your friend to find out where another friend was hiding, a procedural approach might involve asking a series of yes/no questions: \"Are they hiding upstairs?\", \"Are they in a room with a window?\", etc. In contrast, with a declarative approach like SQL, you would simply ask, \"Where is our friend hiding?\" SQL is designed to get the information you need in one question, without the need for a step-by-step process.\n",
        "\n",
        "In practical terms, SQL is used for tasks like finding data that fits specific criteria, adding new data, updating or deleting existing data, and performing functions on the data such as adding it up or calculating averages. SQL is also used to create and modify the structure of databases themselves.\n",
        "\n",
        "Understanding SQL is crucial for anyone who works with databases, as it is one of the few languages that is consistently used with virtually all types of databases. SQL has been around for a long time and continues to be widely used in the industry, which means learning SQL is a valuable skill that can open many doors in the tech field."
      ],
      "metadata": {
        "id": "3MBEaMwFW84n"
      }
    },
    {
      "cell_type": "markdown",
      "source": [
        "## Case Study: Database for Jedi Academy\n",
        "In this case study, we will introduce the basic concepts of relational databases and SQL using the unique context of a Jedi Academy. We're dealing with a variety of intriguing characters, diverse Jedi training courses, and multifaceted relationships between students and their classes. To manage this intricate network of information, we'll be using a tool perfect for the job - a relational database.\n",
        "\n",
        "A relational database allows us to store and manage data by organizing it into one or more tables. Each table represents a specific entity and stores relevant pieces of information about that entity, known as attributes. For the Jedi Academy, we'll create three tables:\n",
        "\n",
        "1.  The `Students` table, representing all Jedi students. It will include each student's unique `StudentID` (an integer), `FirstName` and `LastName` (text strings, or `VARCHAR`), their `Level` (also an integer, indicating stages of Jedi training, such as 1 for Padawan, 2 for Knight, 3 for Master), and `GPA` (a float, for storing grade point average).\n",
        "\n",
        "2.  The `Classes` table, representing different training courses. It will store the `ClassID` (an integer), `ClassName` (a text string or `VARCHAR`), `MasterName` (the name of the Jedi Master teaching the class, another `VARCHAR`), and the `RoomNumber` (another integer).\n",
        "\n",
        "3.  The `Enrollment` table, representing the relationship between students and classes. It will include `StudentID`, `ClassID`, and `EnrollmentDate` (a `DATE`, for when the student enrolled in the class).\n",
        "\n",
        "This database design allows us to efficiently manage and retrieve the academy's data. By leveraging SQL, we can quickly find out all classes a particular student is enrolled in, identify which students are under Master Yoda's tutelage, change the room of a class, and much more.\n",
        "\n",
        "SQL uses several data types to define what kind of data each column in a table can store. For instance, `INTEGER` is used for whole numbers, `VARCHAR` for text strings, `FLOAT` for decimal numbers, and `DATE` for dates. Choosing the correct data type is crucial to maintaining data integrity, optimizing storage, and enabling accurate operations and comparisons.\n",
        "\n",
        "As we proceed through this case study, we'll be delving deeper into these data types, learning to harness the power of SQL, and exploring how it brings organization and accessibility to our Jedi Academy's database."
      ],
      "metadata": {
        "id": "oyseIjuGVFOa"
      }
    },
    {
      "cell_type": "markdown",
      "source": [
        "## Setting Up SQLite Database in Jupyter Notebook\n",
        "\n",
        "Before we start creating tables, we need to set up our database. For this case study, we'll be using SQLite, a simple yet powerful database engine, through a Jupyter Notebook. To interact with SQLite using SQL commands directly in the notebook, we'll use a feature called SQL \"magic\".\n",
        "\n",
        "Here are the steps to get started:\n",
        "\n",
        "### Install necessary libraries\n",
        "\n",
        "First, we need to install the `ipython-sql` library which enables SQL magic. In a Jupyter notebook cell, run:"
      ],
      "metadata": {
        "id": "5TVqtpw3XgvI"
      }
    },
    {
      "cell_type": "code",
      "source": [
        "# This will downgrade SQLAlchemy so it works in Colab\n",
        "!pip install sqlalchemy==1.3.24"
      ],
      "metadata": {
        "colab": {
          "base_uri": "https://localhost:8080/"
        },
        "id": "xoxtIia6Xo90",
        "outputId": "cbeac541-9ffa-4c33-bb76-8aa59b002c6b"
      },
      "execution_count": 1,
      "outputs": [
        {
          "output_type": "stream",
          "name": "stdout",
          "text": [
            "Looking in indexes: https://pypi.org/simple, https://us-python.pkg.dev/colab-wheels/public/simple/\n",
            "Collecting sqlalchemy==1.3.24\n",
            "  Downloading SQLAlchemy-1.3.24.tar.gz (6.4 MB)\n",
            "\u001b[2K     \u001b[90m━━━━━━━━━━━━━━━━━━━━━━━━━━━━━━━━━━━━━━━━\u001b[0m \u001b[32m6.4/6.4 MB\u001b[0m \u001b[31m35.5 MB/s\u001b[0m eta \u001b[36m0:00:00\u001b[0m\n",
            "\u001b[?25h  Preparing metadata (setup.py) ... \u001b[?25l\u001b[?25hdone\n",
            "Building wheels for collected packages: sqlalchemy\n",
            "  Building wheel for sqlalchemy (setup.py) ... \u001b[?25l\u001b[?25hdone\n",
            "  Created wheel for sqlalchemy: filename=SQLAlchemy-1.3.24-cp310-cp310-linux_x86_64.whl size=1268260 sha256=eec9474ffb2f3d53635dd53704e239a3ca6ef205521ea3dd5340b43811d8a6e2\n",
            "  Stored in directory: /root/.cache/pip/wheels/27/51/b3/3481e88d5a5ba95dd4aafedc9316774d941c4ba61cfb93add8\n",
            "Successfully built sqlalchemy\n",
            "Installing collected packages: sqlalchemy\n",
            "  Attempting uninstall: sqlalchemy\n",
            "    Found existing installation: SQLAlchemy 2.0.10\n",
            "    Uninstalling SQLAlchemy-2.0.10:\n",
            "      Successfully uninstalled SQLAlchemy-2.0.10\n",
            "Successfully installed sqlalchemy-1.3.24\n"
          ]
        }
      ]
    },
    {
      "cell_type": "markdown",
      "source": [
        "### Load SQL magic\n",
        "\n",
        "After successfully installing the ipython-sql library, you need to load SQL magic. This is done by running the following command:"
      ],
      "metadata": {
        "id": "FOckwki8XxIx"
      }
    },
    {
      "cell_type": "code",
      "source": [
        "%load_ext sql"
      ],
      "metadata": {
        "id": "dpupynOSTTch"
      },
      "execution_count": 3,
      "outputs": []
    },
    {
      "cell_type": "markdown",
      "source": [
        "### Create the SQLite database\n",
        "\n",
        "Now, we'll create our SQLite database. SQL magic allows us to connect to SQLite using the following syntax:"
      ],
      "metadata": {
        "id": "V1zqLw_hYBbM"
      }
    },
    {
      "cell_type": "code",
      "source": [
        "%sql sqlite:///jedi_academy.db"
      ],
      "metadata": {
        "id": "W2rrJgKQYGFY"
      },
      "execution_count": 4,
      "outputs": []
    },
    {
      "cell_type": "markdown",
      "source": [
        "### Creating Tables with SQL\n",
        "\n",
        "Now that we've planned our Jedi Academy database, it's time to put our ideas into action. SQL allows us to create tables using the CREATE TABLE statement. Let's see how we can define our Students, Classes, and Enrollment tables.\n",
        "\n",
        "#### Creating the Students table \n",
        "Here is the SQL statement to create the `Students` table:"
      ],
      "metadata": {
        "id": "thBG0SCRaXwO"
      }
    },
    {
      "cell_type": "code",
      "source": [
        "%%sql\n",
        "\n",
        "DROP TABLE IF EXISTS Studets; -- Deletes table if it already exists\n",
        "CREATE TABLE Students (\n",
        "    StudentID INT PRIMARY KEY,\n",
        "    FirstName VARCHAR(50),\n",
        "    LastName VARCHAR(50),\n",
        "    Level INT,\n",
        "    GPA FLOAT\n",
        ");\n"
      ],
      "metadata": {
        "colab": {
          "base_uri": "https://localhost:8080/"
        },
        "id": "hz6yqDJ_anDH",
        "outputId": "85e7d967-62d0-407d-8e00-b0f1b30e28da"
      },
      "execution_count": 5,
      "outputs": [
        {
          "output_type": "stream",
          "name": "stdout",
          "text": [
            " * sqlite:///jedi_academy.db\n",
            "Done.\n",
            "Done.\n"
          ]
        },
        {
          "output_type": "execute_result",
          "data": {
            "text/plain": [
              "[]"
            ]
          },
          "metadata": {},
          "execution_count": 5
        }
      ]
    },
    {
      "cell_type": "markdown",
      "source": [
        "In this statement, `CREATE TABLE Students` tells SQL that we want to create a new table named `Students`. Each line inside the parentheses defines a column in our table, with its name and its data type. For example, `StudentID INT` creates a column named `StudentID` that will store integers.\n",
        "\n",
        "`PRIMARY KEY` is a constraint that we've added to `StudentID` to tell SQL that this column will uniquely identify each record in our table. In other words, there cannot be two students with the same `StudentID`.\n",
        "\n",
        "#### Creating the `Classes` table\n",
        "\n",
        "Next, let's create our `Classes` table:"
      ],
      "metadata": {
        "id": "5pq3vmM-cQVG"
      }
    },
    {
      "cell_type": "code",
      "source": [
        "%%sql\n",
        "DROP TABLE IF EXISTS Classes; -- Deletes table if it already exists\n",
        "CREATE TABLE Classes (\n",
        "    ClassID INT PRIMARY KEY,\n",
        "    ClassName VARCHAR(100),\n",
        "    MasterName VARCHAR(50),\n",
        "    RoomNumber INT\n",
        ");\n"
      ],
      "metadata": {
        "colab": {
          "base_uri": "https://localhost:8080/"
        },
        "id": "sFaqwEVHcUPZ",
        "outputId": "8d762005-4ff9-485d-e0ef-3a14fd889f08"
      },
      "execution_count": 6,
      "outputs": [
        {
          "output_type": "stream",
          "name": "stdout",
          "text": [
            " * sqlite:///jedi_academy.db\n",
            "Done.\n",
            "Done.\n"
          ]
        },
        {
          "output_type": "execute_result",
          "data": {
            "text/plain": [
              "[]"
            ]
          },
          "metadata": {},
          "execution_count": 6
        }
      ]
    },
    {
      "cell_type": "markdown",
      "source": [
        "This statement is similar to the first, but creates a table named `Classes` with its own unique columns. The `ClassID` column is the primary key here, so each class must have a unique `ClassID`.\n",
        "\n",
        "#### Creating the `Enrollment` table\n",
        "\n",
        "Finally, we'll create the `Enrollment` table:"
      ],
      "metadata": {
        "id": "fwQnkIYccp4H"
      }
    },
    {
      "cell_type": "code",
      "source": [
        "%%sql\n",
        "DROP TABLE IF EXISTS Enrollment;\n",
        "\n",
        "CREATE TABLE Enrollment (\n",
        "    StudentID INT,\n",
        "    ClassID INT,\n",
        "    EnrollmentDate DATE,\n",
        "    PRIMARY KEY (StudentID, ClassID),\n",
        "    FOREIGN KEY (StudentID) REFERENCES Students(StudentID),\n",
        "    FOREIGN KEY (ClassID) REFERENCES Classes(ClassID)\n",
        ");\n"
      ],
      "metadata": {
        "id": "1YuollHyc1iz",
        "colab": {
          "base_uri": "https://localhost:8080/"
        },
        "outputId": "40d65848-7f23-4803-ad69-5e85d89d18ef"
      },
      "execution_count": 7,
      "outputs": [
        {
          "output_type": "stream",
          "name": "stdout",
          "text": [
            " * sqlite:///jedi_academy.db\n",
            "Done.\n",
            "Done.\n"
          ]
        },
        {
          "output_type": "execute_result",
          "data": {
            "text/plain": [
              "[]"
            ]
          },
          "metadata": {},
          "execution_count": 7
        }
      ]
    },
    {
      "cell_type": "markdown",
      "source": [
        "\n",
        "In the `Enrollment` table, we have two primary keys, `StudentID` and `ClassID`. This is known as a composite primary key, and it ensures that a student can only be enrolled in each class once. The combination of `StudentID` and `ClassID` must be unique for each record.\n",
        "\n",
        "Also, you'll notice that `StudentID` and `ClassID` are also foreign keys, referencing `StudentID` in the `Students` table and `ClassID` in the `Classes` table respectively. This is how we establish relationships between our tables in SQL.\n",
        "\n",
        "By creating these three tables, we have successfully set up a basic structure for our Jedi Academy's database. In the next sections, we'll populate these tables with data and learn how to manipulate it."
      ],
      "metadata": {
        "id": "8O-7w0qvdCHF"
      }
    },
    {
      "cell_type": "markdown",
      "source": [
        "### Inserting Data into Tables with SQL\n",
        "\n",
        "Having established the structure of our tables, we now turn to populating them with data. We'll use the `INSERT INTO` statement for this purpose. Let's begin with our `Students` and `Classes` tables.\n",
        "\n",
        "#### Inserting data into the `Students` table\n",
        "\n",
        "We can insert data into the `Students` table with a statement that looks like this:\n",
        "\n",
        "```\n",
        "INSERT INTO Students (StudentID, FirstName, LastName, Level, GPA)\n",
        "VALUES (1, 'Anakin', 'Skywalker', 3, 3.8);\n",
        "```\n",
        "\n",
        "This statement adds a single row to our table. It begins with `INSERT INTO Students`, which tells SQL that we want to insert data into the `Students` table. The names in parentheses (`StudentID`, `FirstName`, `LastName`, `Level`, `GPA`) are the columns we're inserting data into. The `VALUES` keyword is followed by the values we're inserting, in the same order as the column names.\n",
        "\n",
        "Now, let's add data for 10 students:"
      ],
      "metadata": {
        "id": "Mlv1JQ0rd-LJ"
      }
    },
    {
      "cell_type": "code",
      "source": [
        "%%sql \n",
        "\n",
        "INSERT INTO Students (StudentID, FirstName, LastName, Level, GPA)\n",
        "VALUES (1, 'Anakin', 'Skywalker', 3, 3.8),\n",
        "       (2, 'Grogu', '', 3, 3.9),\n",
        "       (3, 'Luke', 'Skywalker', 2, 3.7),\n",
        "       (4, 'Leia', 'Organa', 2, 4.0),\n",
        "       (5, 'Rey', 'Skywalker', 1, 3.2),\n",
        "       (6, 'Chewbacca', 'Wookiee', 1, 3.5),\n",
        "       (7, 'Mara', 'Jade', 3, 4.0),\n",
        "       (8, 'Mace', 'Windu', 3, 3.8),\n",
        "       (9, 'Padme', 'Amidala', 1, 3.7),\n",
        "       (10, 'Qui-Gon', 'Jinn', 3, 3.9);\n"
      ],
      "metadata": {
        "colab": {
          "base_uri": "https://localhost:8080/"
        },
        "id": "GsUABD-teCme",
        "outputId": "88e8aec2-33d3-414e-c99b-fb4222a37e6a"
      },
      "execution_count": 8,
      "outputs": [
        {
          "output_type": "stream",
          "name": "stdout",
          "text": [
            " * sqlite:///jedi_academy.db\n",
            "10 rows affected.\n"
          ]
        },
        {
          "output_type": "execute_result",
          "data": {
            "text/plain": [
              "[]"
            ]
          },
          "metadata": {},
          "execution_count": 8
        }
      ]
    },
    {
      "cell_type": "markdown",
      "source": [
        "## Inserting data into the Classes table\n",
        "Inserting data into the `Classes` table is similar. Here's how we insert data for one class:\n",
        "\n",
        "```\n",
        "INSERT INTO Classes (ClassID, ClassName, MasterName, RoomNumber)\n",
        "VALUES (1, 'Lightsaber 101', 'Yoda', 101);\n",
        "```\n",
        "And now, let's add data for 3 classes:"
      ],
      "metadata": {
        "id": "YOq5F5dRd-VJ"
      }
    },
    {
      "cell_type": "code",
      "source": [
        "%%sql\n",
        "\n",
        "INSERT INTO Classes (ClassID, ClassName, MasterName, RoomNumber)\n",
        "VALUES (1, 'Lightsaber 101', 'Yoda', 101),\n",
        "       (2, 'Advanced Force Techniques', 'Obi-Wan Kenobi', 102),\n",
        "       (3, 'Interstellar Diplomacy', 'Padme Amidala', 103);\n"
      ],
      "metadata": {
        "id": "9BFHv5q6anSK",
        "colab": {
          "base_uri": "https://localhost:8080/"
        },
        "outputId": "3553286c-1757-4fe2-e8d9-044299d71169"
      },
      "execution_count": 23,
      "outputs": [
        {
          "output_type": "stream",
          "name": "stdout",
          "text": [
            " * sqlite:///jedi_academy.db\n",
            "3 rows affected.\n"
          ]
        },
        {
          "output_type": "execute_result",
          "data": {
            "text/plain": [
              "[]"
            ]
          },
          "metadata": {},
          "execution_count": 23
        }
      ]
    },
    {
      "cell_type": "markdown",
      "source": [
        "#### Inserting Data into the `Enrollment` Table\n",
        "\n",
        "Let's enroll our Jedi students in their classes. The process to insert data into the `Enrollment` table is similar to what we did with `Students` and `Classes`.\n",
        "\n",
        "Remember that the `Enrollment` table uses a composite primary key, consisting of `StudentID` and `ClassID`. This combination uniquely identifies each row and ensures a student can only be enrolled in each class once.\n",
        "\n",
        "Here's an example of how we might enroll the student with `StudentID` 1 in the class with `ClassID` 1:\n",
        "\n",
        "```\n",
        "INSERT INTO Enrollment (StudentID, ClassID, EnrollmentDate)\n",
        "VALUES (1, 1, '2123-01-01');\n",
        "```\n",
        "\n",
        "The date is given in the format 'YYYY-MM-DD'. This particular statement enrolls Anakin Skywalker in 'Lightsaber 101' as of January 1, 2123.\n",
        "\n",
        "Now, let's insert several more enrollment records:"
      ],
      "metadata": {
        "id": "X_2ASrrdQRml"
      }
    },
    {
      "cell_type": "code",
      "source": [
        "%%sql\n",
        "\n",
        "INSERT INTO Enrollment (StudentID, ClassID, EnrollmentDate)\n",
        "VALUES (1, 2, '2123-01-01'),\n",
        "       (2, 1, '2123-01-01'),\n",
        "       (3, 1, '2123-01-02'),\n",
        "       (3, 2, '2123-01-02'),\n",
        "       (4, 2, '2123-01-02'),\n",
        "       (4, 3, '2123-01-02'),\n",
        "       (5, 1, '2123-01-03'),\n",
        "       (6, 1, '2123-01-03'),\n",
        "       (7, 2, '2123-01-03'),\n",
        "       (8, 3, '2123-01-03'),\n",
        "       (9, 3, '2123-01-04'),\n",
        "       (10, 2, '2123-01-04');\n"
      ],
      "metadata": {
        "colab": {
          "base_uri": "https://localhost:8080/"
        },
        "id": "jIheF4eRQXA8",
        "outputId": "3e30af1d-4bac-4162-f6a6-30d64d954e76"
      },
      "execution_count": 16,
      "outputs": [
        {
          "output_type": "stream",
          "name": "stdout",
          "text": [
            " * sqlite:///jedi_academy.db\n",
            "12 rows affected.\n"
          ]
        },
        {
          "output_type": "execute_result",
          "data": {
            "text/plain": [
              "[]"
            ]
          },
          "metadata": {},
          "execution_count": 16
        }
      ]
    },
    {
      "cell_type": "markdown",
      "source": [
        "### Querying Tables with SQL\n",
        "\n",
        "Once we have data in our tables, we typically want to retrieve it for various purposes. This is where SQL's `SELECT` statement comes in. `SELECT` allows us to query our database, extracting information according to our needs.\n",
        "\n",
        "#### Basic `SELECT` Statements\n",
        "\n",
        "A simple query might involve retrieving all data from a single table. For instance, to select all records from the `Students` table, we use the following command:"
      ],
      "metadata": {
        "id": "edMhEEp8Q8H1"
      }
    },
    {
      "cell_type": "code",
      "source": [
        "%%sql\n",
        "\n",
        "SELECT * FROM Students;"
      ],
      "metadata": {
        "colab": {
          "base_uri": "https://localhost:8080/",
          "height": 288
        },
        "id": "g8FeTiG4RCQW",
        "outputId": "0aa446db-9273-4d32-9add-91763f52bf3c"
      },
      "execution_count": 9,
      "outputs": [
        {
          "output_type": "stream",
          "name": "stdout",
          "text": [
            " * sqlite:///jedi_academy.db\n",
            "Done.\n"
          ]
        },
        {
          "output_type": "execute_result",
          "data": {
            "text/plain": [
              "[(1, 'Anakin', 'Skywalker', 3, 3.8),\n",
              " (2, 'Grogu', '', 3, 3.9),\n",
              " (3, 'Luke', 'Skywalker', 2, 3.7),\n",
              " (4, 'Leia', 'Organa', 2, 4.0),\n",
              " (5, 'Rey', 'Skywalker', 1, 3.2),\n",
              " (6, 'Chewbacca', 'Wookiee', 1, 3.5),\n",
              " (7, 'Mara', 'Jade', 3, 4.0),\n",
              " (8, 'Mace', 'Windu', 3, 3.8),\n",
              " (9, 'Padme', 'Amidala', 1, 3.7),\n",
              " (10, 'Qui-Gon', 'Jinn', 3, 3.9)]"
            ],
            "text/html": [
              "<table>\n",
              "    <tr>\n",
              "        <th>StudentID</th>\n",
              "        <th>FirstName</th>\n",
              "        <th>LastName</th>\n",
              "        <th>Level</th>\n",
              "        <th>GPA</th>\n",
              "    </tr>\n",
              "    <tr>\n",
              "        <td>1</td>\n",
              "        <td>Anakin</td>\n",
              "        <td>Skywalker</td>\n",
              "        <td>3</td>\n",
              "        <td>3.8</td>\n",
              "    </tr>\n",
              "    <tr>\n",
              "        <td>2</td>\n",
              "        <td>Grogu</td>\n",
              "        <td></td>\n",
              "        <td>3</td>\n",
              "        <td>3.9</td>\n",
              "    </tr>\n",
              "    <tr>\n",
              "        <td>3</td>\n",
              "        <td>Luke</td>\n",
              "        <td>Skywalker</td>\n",
              "        <td>2</td>\n",
              "        <td>3.7</td>\n",
              "    </tr>\n",
              "    <tr>\n",
              "        <td>4</td>\n",
              "        <td>Leia</td>\n",
              "        <td>Organa</td>\n",
              "        <td>2</td>\n",
              "        <td>4.0</td>\n",
              "    </tr>\n",
              "    <tr>\n",
              "        <td>5</td>\n",
              "        <td>Rey</td>\n",
              "        <td>Skywalker</td>\n",
              "        <td>1</td>\n",
              "        <td>3.2</td>\n",
              "    </tr>\n",
              "    <tr>\n",
              "        <td>6</td>\n",
              "        <td>Chewbacca</td>\n",
              "        <td>Wookiee</td>\n",
              "        <td>1</td>\n",
              "        <td>3.5</td>\n",
              "    </tr>\n",
              "    <tr>\n",
              "        <td>7</td>\n",
              "        <td>Mara</td>\n",
              "        <td>Jade</td>\n",
              "        <td>3</td>\n",
              "        <td>4.0</td>\n",
              "    </tr>\n",
              "    <tr>\n",
              "        <td>8</td>\n",
              "        <td>Mace</td>\n",
              "        <td>Windu</td>\n",
              "        <td>3</td>\n",
              "        <td>3.8</td>\n",
              "    </tr>\n",
              "    <tr>\n",
              "        <td>9</td>\n",
              "        <td>Padme</td>\n",
              "        <td>Amidala</td>\n",
              "        <td>1</td>\n",
              "        <td>3.7</td>\n",
              "    </tr>\n",
              "    <tr>\n",
              "        <td>10</td>\n",
              "        <td>Qui-Gon</td>\n",
              "        <td>Jinn</td>\n",
              "        <td>3</td>\n",
              "        <td>3.9</td>\n",
              "    </tr>\n",
              "</table>"
            ]
          },
          "metadata": {},
          "execution_count": 9
        }
      ]
    },
    {
      "cell_type": "markdown",
      "source": [
        "Here, `*` is a **wildcard character** that stands for \"all columns.\" Running this statement would return all rows and columns from the Students table.\n",
        "\n",
        "We could also select specific columns. For example, to get just the first and last names of all students, we would write:"
      ],
      "metadata": {
        "id": "OpcscsEiRGHk"
      }
    },
    {
      "cell_type": "code",
      "source": [
        "%%sql \n",
        "SELECT FirstName, LastName FROM Students;\n"
      ],
      "metadata": {
        "colab": {
          "base_uri": "https://localhost:8080/",
          "height": 288
        },
        "id": "DuQJWaMeRH38",
        "outputId": "d93683bc-6841-4598-8fcf-3cb33c8c35d7"
      },
      "execution_count": 10,
      "outputs": [
        {
          "output_type": "stream",
          "name": "stdout",
          "text": [
            " * sqlite:///jedi_academy.db\n",
            "Done.\n"
          ]
        },
        {
          "output_type": "execute_result",
          "data": {
            "text/plain": [
              "[('Anakin', 'Skywalker'),\n",
              " ('Grogu', ''),\n",
              " ('Luke', 'Skywalker'),\n",
              " ('Leia', 'Organa'),\n",
              " ('Rey', 'Skywalker'),\n",
              " ('Chewbacca', 'Wookiee'),\n",
              " ('Mara', 'Jade'),\n",
              " ('Mace', 'Windu'),\n",
              " ('Padme', 'Amidala'),\n",
              " ('Qui-Gon', 'Jinn')]"
            ],
            "text/html": [
              "<table>\n",
              "    <tr>\n",
              "        <th>FirstName</th>\n",
              "        <th>LastName</th>\n",
              "    </tr>\n",
              "    <tr>\n",
              "        <td>Anakin</td>\n",
              "        <td>Skywalker</td>\n",
              "    </tr>\n",
              "    <tr>\n",
              "        <td>Grogu</td>\n",
              "        <td></td>\n",
              "    </tr>\n",
              "    <tr>\n",
              "        <td>Luke</td>\n",
              "        <td>Skywalker</td>\n",
              "    </tr>\n",
              "    <tr>\n",
              "        <td>Leia</td>\n",
              "        <td>Organa</td>\n",
              "    </tr>\n",
              "    <tr>\n",
              "        <td>Rey</td>\n",
              "        <td>Skywalker</td>\n",
              "    </tr>\n",
              "    <tr>\n",
              "        <td>Chewbacca</td>\n",
              "        <td>Wookiee</td>\n",
              "    </tr>\n",
              "    <tr>\n",
              "        <td>Mara</td>\n",
              "        <td>Jade</td>\n",
              "    </tr>\n",
              "    <tr>\n",
              "        <td>Mace</td>\n",
              "        <td>Windu</td>\n",
              "    </tr>\n",
              "    <tr>\n",
              "        <td>Padme</td>\n",
              "        <td>Amidala</td>\n",
              "    </tr>\n",
              "    <tr>\n",
              "        <td>Qui-Gon</td>\n",
              "        <td>Jinn</td>\n",
              "    </tr>\n",
              "</table>"
            ]
          },
          "metadata": {},
          "execution_count": 10
        }
      ]
    },
    {
      "cell_type": "markdown",
      "source": [
        "#### `WHERE` Clause\n",
        "The `WHERE` clause allows us to filter our query based on certain conditions. For instance, to find all students at Level 3 (Jedi Masters), we could use:"
      ],
      "metadata": {
        "id": "VmUVz3pVRNnL"
      }
    },
    {
      "cell_type": "code",
      "source": [
        "%%sql\n",
        "SELECT * FROM Students WHERE Level = 3;"
      ],
      "metadata": {
        "colab": {
          "base_uri": "https://localhost:8080/",
          "height": 182
        },
        "id": "QMp3RaFtRVPb",
        "outputId": "e421ca35-e724-450d-f5ad-9442f421931c"
      },
      "execution_count": 11,
      "outputs": [
        {
          "output_type": "stream",
          "name": "stdout",
          "text": [
            " * sqlite:///jedi_academy.db\n",
            "Done.\n"
          ]
        },
        {
          "output_type": "execute_result",
          "data": {
            "text/plain": [
              "[(1, 'Anakin', 'Skywalker', 3, 3.8),\n",
              " (2, 'Grogu', '', 3, 3.9),\n",
              " (7, 'Mara', 'Jade', 3, 4.0),\n",
              " (8, 'Mace', 'Windu', 3, 3.8),\n",
              " (10, 'Qui-Gon', 'Jinn', 3, 3.9)]"
            ],
            "text/html": [
              "<table>\n",
              "    <tr>\n",
              "        <th>StudentID</th>\n",
              "        <th>FirstName</th>\n",
              "        <th>LastName</th>\n",
              "        <th>Level</th>\n",
              "        <th>GPA</th>\n",
              "    </tr>\n",
              "    <tr>\n",
              "        <td>1</td>\n",
              "        <td>Anakin</td>\n",
              "        <td>Skywalker</td>\n",
              "        <td>3</td>\n",
              "        <td>3.8</td>\n",
              "    </tr>\n",
              "    <tr>\n",
              "        <td>2</td>\n",
              "        <td>Grogu</td>\n",
              "        <td></td>\n",
              "        <td>3</td>\n",
              "        <td>3.9</td>\n",
              "    </tr>\n",
              "    <tr>\n",
              "        <td>7</td>\n",
              "        <td>Mara</td>\n",
              "        <td>Jade</td>\n",
              "        <td>3</td>\n",
              "        <td>4.0</td>\n",
              "    </tr>\n",
              "    <tr>\n",
              "        <td>8</td>\n",
              "        <td>Mace</td>\n",
              "        <td>Windu</td>\n",
              "        <td>3</td>\n",
              "        <td>3.8</td>\n",
              "    </tr>\n",
              "    <tr>\n",
              "        <td>10</td>\n",
              "        <td>Qui-Gon</td>\n",
              "        <td>Jinn</td>\n",
              "        <td>3</td>\n",
              "        <td>3.9</td>\n",
              "    </tr>\n",
              "</table>"
            ]
          },
          "metadata": {},
          "execution_count": 11
        }
      ]
    },
    {
      "cell_type": "markdown",
      "source": [
        "#### `ORDER BY` Clause\n",
        "We can sort our results using the `ORDER BY` clause. For instance, to get a list of students sorted by GPA in descending order, we would write:"
      ],
      "metadata": {
        "id": "u4ESsD1GRb3K"
      }
    },
    {
      "cell_type": "code",
      "source": [
        "%%sql\n",
        "SELECT * FROM Students ORDER BY GPA DESC;"
      ],
      "metadata": {
        "colab": {
          "base_uri": "https://localhost:8080/",
          "height": 288
        },
        "id": "2Og2AUMjRfyb",
        "outputId": "5b6beb33-72da-413a-8f18-3fc0ae8139cd"
      },
      "execution_count": 19,
      "outputs": [
        {
          "output_type": "stream",
          "name": "stdout",
          "text": [
            " * sqlite:///jedi_academy.db\n",
            "Done.\n"
          ]
        },
        {
          "output_type": "execute_result",
          "data": {
            "text/plain": [
              "[(4, 'Leia', 'Organa', 2, 4.0),\n",
              " (7, 'Mara', 'Jade', 3, 4.0),\n",
              " (2, 'Grogu', '', 3, 3.9),\n",
              " (10, 'Qui-Gon', 'Jinn', 3, 3.9),\n",
              " (1, 'Anakin', 'Skywalker', 3, 3.8),\n",
              " (8, 'Mace', 'Windu', 3, 3.8),\n",
              " (3, 'Luke', 'Skywalker', 2, 3.7),\n",
              " (9, 'Padme', 'Amidala', 1, 3.7),\n",
              " (6, 'Chewbacca', 'Wookiee', 1, 3.5),\n",
              " (5, 'Rey', 'Skywalker', 1, 3.2)]"
            ],
            "text/html": [
              "<table>\n",
              "    <tr>\n",
              "        <th>StudentID</th>\n",
              "        <th>FirstName</th>\n",
              "        <th>LastName</th>\n",
              "        <th>Level</th>\n",
              "        <th>GPA</th>\n",
              "    </tr>\n",
              "    <tr>\n",
              "        <td>4</td>\n",
              "        <td>Leia</td>\n",
              "        <td>Organa</td>\n",
              "        <td>2</td>\n",
              "        <td>4.0</td>\n",
              "    </tr>\n",
              "    <tr>\n",
              "        <td>7</td>\n",
              "        <td>Mara</td>\n",
              "        <td>Jade</td>\n",
              "        <td>3</td>\n",
              "        <td>4.0</td>\n",
              "    </tr>\n",
              "    <tr>\n",
              "        <td>2</td>\n",
              "        <td>Grogu</td>\n",
              "        <td></td>\n",
              "        <td>3</td>\n",
              "        <td>3.9</td>\n",
              "    </tr>\n",
              "    <tr>\n",
              "        <td>10</td>\n",
              "        <td>Qui-Gon</td>\n",
              "        <td>Jinn</td>\n",
              "        <td>3</td>\n",
              "        <td>3.9</td>\n",
              "    </tr>\n",
              "    <tr>\n",
              "        <td>1</td>\n",
              "        <td>Anakin</td>\n",
              "        <td>Skywalker</td>\n",
              "        <td>3</td>\n",
              "        <td>3.8</td>\n",
              "    </tr>\n",
              "    <tr>\n",
              "        <td>8</td>\n",
              "        <td>Mace</td>\n",
              "        <td>Windu</td>\n",
              "        <td>3</td>\n",
              "        <td>3.8</td>\n",
              "    </tr>\n",
              "    <tr>\n",
              "        <td>3</td>\n",
              "        <td>Luke</td>\n",
              "        <td>Skywalker</td>\n",
              "        <td>2</td>\n",
              "        <td>3.7</td>\n",
              "    </tr>\n",
              "    <tr>\n",
              "        <td>9</td>\n",
              "        <td>Padme</td>\n",
              "        <td>Amidala</td>\n",
              "        <td>1</td>\n",
              "        <td>3.7</td>\n",
              "    </tr>\n",
              "    <tr>\n",
              "        <td>6</td>\n",
              "        <td>Chewbacca</td>\n",
              "        <td>Wookiee</td>\n",
              "        <td>1</td>\n",
              "        <td>3.5</td>\n",
              "    </tr>\n",
              "    <tr>\n",
              "        <td>5</td>\n",
              "        <td>Rey</td>\n",
              "        <td>Skywalker</td>\n",
              "        <td>1</td>\n",
              "        <td>3.2</td>\n",
              "    </tr>\n",
              "</table>"
            ]
          },
          "metadata": {},
          "execution_count": 19
        }
      ]
    },
    {
      "cell_type": "markdown",
      "source": [
        "#### NATURAL JOIN\n",
        "\n",
        "Often, we'll want to combine data from two or more tables. This is done using a `JOIN`. A `NATURAL JOIN` is a type of join operation that directly matches columns between tables that have the same column name, and returns only one copy of each duplicate column.\n",
        "\n",
        "For example, to list all students along with the classes they're enrolled in, we would use:\n",
        "\n"
      ],
      "metadata": {
        "id": "UR_Abh_GRqSr"
      }
    },
    {
      "cell_type": "code",
      "source": [
        "%%sql\n",
        "\n",
        "SELECT Students.FirstName, Students.LastName, Classes.ClassName\n",
        "FROM Students\n",
        "NATURAL JOIN Enrollment\n",
        "NATURAL JOIN Classes\n"
      ],
      "metadata": {
        "colab": {
          "base_uri": "https://localhost:8080/",
          "height": 330
        },
        "id": "5toxS9rYR00y",
        "outputId": "9d0dba03-a9f2-4083-e544-a4374ecd1449"
      },
      "execution_count": 25,
      "outputs": [
        {
          "output_type": "stream",
          "name": "stdout",
          "text": [
            " * sqlite:///jedi_academy.db\n",
            "Done.\n"
          ]
        },
        {
          "output_type": "execute_result",
          "data": {
            "text/plain": [
              "[('Anakin', 'Skywalker', 'Advanced Force Techniques'),\n",
              " ('Grogu', '', 'Lightsaber 101'),\n",
              " ('Luke', 'Skywalker', 'Lightsaber 101'),\n",
              " ('Luke', 'Skywalker', 'Advanced Force Techniques'),\n",
              " ('Leia', 'Organa', 'Advanced Force Techniques'),\n",
              " ('Leia', 'Organa', 'Interstellar Diplomacy'),\n",
              " ('Rey', 'Skywalker', 'Lightsaber 101'),\n",
              " ('Chewbacca', 'Wookiee', 'Lightsaber 101'),\n",
              " ('Mara', 'Jade', 'Advanced Force Techniques'),\n",
              " ('Mace', 'Windu', 'Interstellar Diplomacy'),\n",
              " ('Padme', 'Amidala', 'Interstellar Diplomacy'),\n",
              " ('Qui-Gon', 'Jinn', 'Advanced Force Techniques')]"
            ],
            "text/html": [
              "<table>\n",
              "    <tr>\n",
              "        <th>FirstName</th>\n",
              "        <th>LastName</th>\n",
              "        <th>ClassName</th>\n",
              "    </tr>\n",
              "    <tr>\n",
              "        <td>Anakin</td>\n",
              "        <td>Skywalker</td>\n",
              "        <td>Advanced Force Techniques</td>\n",
              "    </tr>\n",
              "    <tr>\n",
              "        <td>Grogu</td>\n",
              "        <td></td>\n",
              "        <td>Lightsaber 101</td>\n",
              "    </tr>\n",
              "    <tr>\n",
              "        <td>Luke</td>\n",
              "        <td>Skywalker</td>\n",
              "        <td>Lightsaber 101</td>\n",
              "    </tr>\n",
              "    <tr>\n",
              "        <td>Luke</td>\n",
              "        <td>Skywalker</td>\n",
              "        <td>Advanced Force Techniques</td>\n",
              "    </tr>\n",
              "    <tr>\n",
              "        <td>Leia</td>\n",
              "        <td>Organa</td>\n",
              "        <td>Advanced Force Techniques</td>\n",
              "    </tr>\n",
              "    <tr>\n",
              "        <td>Leia</td>\n",
              "        <td>Organa</td>\n",
              "        <td>Interstellar Diplomacy</td>\n",
              "    </tr>\n",
              "    <tr>\n",
              "        <td>Rey</td>\n",
              "        <td>Skywalker</td>\n",
              "        <td>Lightsaber 101</td>\n",
              "    </tr>\n",
              "    <tr>\n",
              "        <td>Chewbacca</td>\n",
              "        <td>Wookiee</td>\n",
              "        <td>Lightsaber 101</td>\n",
              "    </tr>\n",
              "    <tr>\n",
              "        <td>Mara</td>\n",
              "        <td>Jade</td>\n",
              "        <td>Advanced Force Techniques</td>\n",
              "    </tr>\n",
              "    <tr>\n",
              "        <td>Mace</td>\n",
              "        <td>Windu</td>\n",
              "        <td>Interstellar Diplomacy</td>\n",
              "    </tr>\n",
              "    <tr>\n",
              "        <td>Padme</td>\n",
              "        <td>Amidala</td>\n",
              "        <td>Interstellar Diplomacy</td>\n",
              "    </tr>\n",
              "    <tr>\n",
              "        <td>Qui-Gon</td>\n",
              "        <td>Jinn</td>\n",
              "        <td>Advanced Force Techniques</td>\n",
              "    </tr>\n",
              "</table>"
            ]
          },
          "metadata": {},
          "execution_count": 25
        }
      ]
    },
    {
      "cell_type": "markdown",
      "source": [
        "This statement will return a result set that includes the `FirstName` and `LastName` from the `Students` table and the `ClassName` from the `Classes` table.\n",
        "\n",
        "The `NATURAL JOIN` keyword implicitly joins `Students` and `Enrollment` on the `StudentID` column (because it is common between these two tables) and then joins that result with `Classes` on the `ClassID` column (since it is common between `Enrollment` and `Classes`).\n",
        "\n",
        "In other words, this query is giving us a list of students along with the names of the classes they are enrolled in.\n",
        "\n",
        "Note: It's important to be careful with `NATURAL JOIN`s, as they automatically match all columns with the same name between the tables. If your tables have any column names in common that aren't meant to be related, you may get unexpected results."
      ],
      "metadata": {
        "id": "HygAyMtJRzYa"
      }
    },
    {
      "cell_type": "markdown",
      "source": [
        "#### COUNT\n",
        "\n",
        "The `COUNT` function returns the number of rows that matches a specified criterion. It is often used with the `SELECT` statement. For example, to find out how many students are enrolled in the Jedi Academy, we would use:"
      ],
      "metadata": {
        "id": "3T2YFrQPT3qE"
      }
    },
    {
      "cell_type": "code",
      "source": [
        "%%sql \n",
        "SELECT COUNT(*) FROM Students;\n"
      ],
      "metadata": {
        "colab": {
          "base_uri": "https://localhost:8080/",
          "height": 98
        },
        "id": "DP3ZlvYwTWOE",
        "outputId": "4faf0121-3ca0-4eba-f840-6f9d5f85035e"
      },
      "execution_count": 26,
      "outputs": [
        {
          "output_type": "stream",
          "name": "stdout",
          "text": [
            " * sqlite:///jedi_academy.db\n",
            "Done.\n"
          ]
        },
        {
          "output_type": "execute_result",
          "data": {
            "text/plain": [
              "[(10,)]"
            ],
            "text/html": [
              "<table>\n",
              "    <tr>\n",
              "        <th>COUNT(*)</th>\n",
              "    </tr>\n",
              "    <tr>\n",
              "        <td>10</td>\n",
              "    </tr>\n",
              "</table>"
            ]
          },
          "metadata": {},
          "execution_count": 26
        }
      ]
    },
    {
      "cell_type": "markdown",
      "source": [
        "#### LIKE Operator\n",
        "The `LIKE` operator is used in a WHERE clause to search for a specified pattern in a column. For example, to find all students whose names start with 'A', we would use:"
      ],
      "metadata": {
        "id": "QJnEuwJyUAb8"
      }
    },
    {
      "cell_type": "code",
      "source": [
        "%%sql\n",
        "SELECT * FROM Students WHERE FirstName LIKE 'A%';"
      ],
      "metadata": {
        "colab": {
          "base_uri": "https://localhost:8080/",
          "height": 98
        },
        "id": "wAOYFod5UC5E",
        "outputId": "57ec4532-f421-4a09-eb82-33ec79302edd"
      },
      "execution_count": 27,
      "outputs": [
        {
          "output_type": "stream",
          "name": "stdout",
          "text": [
            " * sqlite:///jedi_academy.db\n",
            "Done.\n"
          ]
        },
        {
          "output_type": "execute_result",
          "data": {
            "text/plain": [
              "[(1, 'Anakin', 'Skywalker', 3, 3.8)]"
            ],
            "text/html": [
              "<table>\n",
              "    <tr>\n",
              "        <th>StudentID</th>\n",
              "        <th>FirstName</th>\n",
              "        <th>LastName</th>\n",
              "        <th>Level</th>\n",
              "        <th>GPA</th>\n",
              "    </tr>\n",
              "    <tr>\n",
              "        <td>1</td>\n",
              "        <td>Anakin</td>\n",
              "        <td>Skywalker</td>\n",
              "        <td>3</td>\n",
              "        <td>3.8</td>\n",
              "    </tr>\n",
              "</table>"
            ]
          },
          "metadata": {},
          "execution_count": 27
        }
      ]
    },
    {
      "cell_type": "markdown",
      "source": [
        "#### `GROUP BY` and `HAVING`\n",
        "`GROUP BY` is a clause in SQL that is used to arrange identical data into groups. The HAVING clause is used instead of WHERE with GROUP BY to filter the groups based on a condition.\n",
        "\n",
        "For example, if we want to know how many students are enrolled in each class, we could use:"
      ],
      "metadata": {
        "id": "rhPXbV2KUH0N"
      }
    },
    {
      "cell_type": "code",
      "source": [
        "%%sql\n",
        "SELECT Classes.ClassName, COUNT(*) AS NumberOfStudents\n",
        "FROM Students\n",
        "NATURAL JOIN Enrollment\n",
        "NATURAL JOIN Classes\n",
        "GROUP BY Classes.ClassID;\n"
      ],
      "metadata": {
        "colab": {
          "base_uri": "https://localhost:8080/",
          "height": 140
        },
        "id": "WGg7XF8qUGq8",
        "outputId": "c308d41f-659b-49fa-fbdb-2c324bd50989"
      },
      "execution_count": 28,
      "outputs": [
        {
          "output_type": "stream",
          "name": "stdout",
          "text": [
            " * sqlite:///jedi_academy.db\n",
            "Done.\n"
          ]
        },
        {
          "output_type": "execute_result",
          "data": {
            "text/plain": [
              "[('Lightsaber 101', 4),\n",
              " ('Advanced Force Techniques', 5),\n",
              " ('Interstellar Diplomacy', 3)]"
            ],
            "text/html": [
              "<table>\n",
              "    <tr>\n",
              "        <th>ClassName</th>\n",
              "        <th>NumberOfStudents</th>\n",
              "    </tr>\n",
              "    <tr>\n",
              "        <td>Lightsaber 101</td>\n",
              "        <td>4</td>\n",
              "    </tr>\n",
              "    <tr>\n",
              "        <td>Advanced Force Techniques</td>\n",
              "        <td>5</td>\n",
              "    </tr>\n",
              "    <tr>\n",
              "        <td>Interstellar Diplomacy</td>\n",
              "        <td>3</td>\n",
              "    </tr>\n",
              "</table>"
            ]
          },
          "metadata": {},
          "execution_count": 28
        }
      ]
    },
    {
      "cell_type": "markdown",
      "source": [
        "This statement groups the result by ClassID, and for each group, it counts the number of students.\n",
        "\n",
        "If we wanted to filter this result to show only classes with more than four students, we would add a `HAVING` clause:"
      ],
      "metadata": {
        "id": "VgIB3LA_USee"
      }
    },
    {
      "cell_type": "code",
      "source": [
        "%%sql\n",
        "SELECT Classes.ClassName, COUNT(*) AS NumberOfStudents\n",
        "FROM Students\n",
        "NATURAL JOIN Enrollment\n",
        "NATURAL JOIN Classes\n",
        "GROUP BY Classes.ClassID\n",
        "HAVING COUNT(*) > 4;\n"
      ],
      "metadata": {
        "colab": {
          "base_uri": "https://localhost:8080/",
          "height": 98
        },
        "id": "y_xZIDF-UUej",
        "outputId": "182c436b-7d5c-4282-9a8a-4bbac021ddea"
      },
      "execution_count": 30,
      "outputs": [
        {
          "output_type": "stream",
          "name": "stdout",
          "text": [
            " * sqlite:///jedi_academy.db\n",
            "Done.\n"
          ]
        },
        {
          "output_type": "execute_result",
          "data": {
            "text/plain": [
              "[('Advanced Force Techniques', 5)]"
            ],
            "text/html": [
              "<table>\n",
              "    <tr>\n",
              "        <th>ClassName</th>\n",
              "        <th>NumberOfStudents</th>\n",
              "    </tr>\n",
              "    <tr>\n",
              "        <td>Advanced Force Techniques</td>\n",
              "        <td>5</td>\n",
              "    </tr>\n",
              "</table>"
            ]
          },
          "metadata": {},
          "execution_count": 30
        }
      ]
    },
    {
      "cell_type": "markdown",
      "source": [
        "### Additional SQL Functions\n",
        "\n",
        "SQL is not just about creating tables and retrieving data. It also has a rich set of built-in functions to perform calculations or operations on your data. In this section, we'll learn about a few of these: AVG, SUM, MIN, MAX, and DISTINCT.\n",
        "\n",
        "### AVG\n",
        "The `AVG` function calculates the average of a set of values. For example, if you want to find out the average GPA of all students at the Jedi Academy, you would use:"
      ],
      "metadata": {
        "id": "mQqM8S1EXQrt"
      }
    },
    {
      "cell_type": "code",
      "source": [
        "%%sql\n",
        "SELECT AVG(GPA) FROM Students;"
      ],
      "metadata": {
        "colab": {
          "base_uri": "https://localhost:8080/",
          "height": 98
        },
        "id": "DrnDjKbaXQNk",
        "outputId": "08746019-12ed-42bd-c432-79259734dbc5"
      },
      "execution_count": 31,
      "outputs": [
        {
          "output_type": "stream",
          "name": "stdout",
          "text": [
            " * sqlite:///jedi_academy.db\n",
            "Done.\n"
          ]
        },
        {
          "output_type": "execute_result",
          "data": {
            "text/plain": [
              "[(3.75,)]"
            ],
            "text/html": [
              "<table>\n",
              "    <tr>\n",
              "        <th>AVG(GPA)</th>\n",
              "    </tr>\n",
              "    <tr>\n",
              "        <td>3.75</td>\n",
              "    </tr>\n",
              "</table>"
            ]
          },
          "metadata": {},
          "execution_count": 31
        }
      ]
    },
    {
      "cell_type": "markdown",
      "source": [
        "#### SUM\n",
        "The `SUM` function calculates the total sum of a numeric column. For example, to find the total level of all students (i.e., the sum of all student levels), you would use:"
      ],
      "metadata": {
        "id": "PQpnvOmcXcLM"
      }
    },
    {
      "cell_type": "code",
      "source": [
        "%%sql\n",
        "SELECT SUM(Level) FROM Students;"
      ],
      "metadata": {
        "colab": {
          "base_uri": "https://localhost:8080/",
          "height": 98
        },
        "id": "HFUFpskLXbrc",
        "outputId": "ff3aacca-0389-47a8-b6fd-d1c4918bae63"
      },
      "execution_count": 32,
      "outputs": [
        {
          "output_type": "stream",
          "name": "stdout",
          "text": [
            " * sqlite:///jedi_academy.db\n",
            "Done.\n"
          ]
        },
        {
          "output_type": "execute_result",
          "data": {
            "text/plain": [
              "[(22,)]"
            ],
            "text/html": [
              "<table>\n",
              "    <tr>\n",
              "        <th>SUM(Level)</th>\n",
              "    </tr>\n",
              "    <tr>\n",
              "        <td>22</td>\n",
              "    </tr>\n",
              "</table>"
            ]
          },
          "metadata": {},
          "execution_count": 32
        }
      ]
    },
    {
      "cell_type": "markdown",
      "source": [
        "#### MIN and MAX\n",
        "`MIN` and `MAX` functions return the smallest and largest value in a set of values, respectively. For instance, to find the students with the lowest and highest GPAs, we would use:"
      ],
      "metadata": {
        "id": "BVI6Lq9zXjc8"
      }
    },
    {
      "cell_type": "code",
      "source": [
        "%%sql\n",
        "SELECT MIN(GPA), MAX(GPA) FROM Students;\n"
      ],
      "metadata": {
        "colab": {
          "base_uri": "https://localhost:8080/",
          "height": 98
        },
        "id": "KGu4FDldXnpM",
        "outputId": "2b6d04b7-8d69-4f66-b80f-25fd38b43d17"
      },
      "execution_count": 33,
      "outputs": [
        {
          "output_type": "stream",
          "name": "stdout",
          "text": [
            " * sqlite:///jedi_academy.db\n",
            "Done.\n"
          ]
        },
        {
          "output_type": "execute_result",
          "data": {
            "text/plain": [
              "[(3.2, 4.0)]"
            ],
            "text/html": [
              "<table>\n",
              "    <tr>\n",
              "        <th>MIN(GPA)</th>\n",
              "        <th>MAX(GPA)</th>\n",
              "    </tr>\n",
              "    <tr>\n",
              "        <td>3.2</td>\n",
              "        <td>4.0</td>\n",
              "    </tr>\n",
              "</table>"
            ]
          },
          "metadata": {},
          "execution_count": 33
        }
      ]
    },
    {
      "cell_type": "markdown",
      "source": [
        "#### DISTINCT\n",
        "The DISTINCT keyword is used in conjunction with SELECT to eliminate all the duplicate records and fetch only the unique ones. Let's say we want to see all the unique levels of students. We can achieve this using the DISTINCT keyword as follows:"
      ],
      "metadata": {
        "id": "5nYCaxjkXrcm"
      }
    },
    {
      "cell_type": "code",
      "source": [
        "%%sql\n",
        "SELECT DISTINCT Level FROM Students;"
      ],
      "metadata": {
        "colab": {
          "base_uri": "https://localhost:8080/",
          "height": 140
        },
        "id": "Mak2A82YXtIs",
        "outputId": "7011d72a-dacd-4dcb-b3bd-963aec4db833"
      },
      "execution_count": 34,
      "outputs": [
        {
          "output_type": "stream",
          "name": "stdout",
          "text": [
            " * sqlite:///jedi_academy.db\n",
            "Done.\n"
          ]
        },
        {
          "output_type": "execute_result",
          "data": {
            "text/plain": [
              "[(3,), (2,), (1,)]"
            ],
            "text/html": [
              "<table>\n",
              "    <tr>\n",
              "        <th>Level</th>\n",
              "    </tr>\n",
              "    <tr>\n",
              "        <td>3</td>\n",
              "    </tr>\n",
              "    <tr>\n",
              "        <td>2</td>\n",
              "    </tr>\n",
              "    <tr>\n",
              "        <td>1</td>\n",
              "    </tr>\n",
              "</table>"
            ]
          },
          "metadata": {},
          "execution_count": 34
        }
      ]
    },
    {
      "cell_type": "markdown",
      "source": [
        "Remember, SQL functions offer much more than just these. They can be extremely powerful in processing large amounts of data directly in the database without requiring additional processing in your application or software."
      ],
      "metadata": {
        "id": "WJCth4YWX1gz"
      }
    },
    {
      "cell_type": "markdown",
      "source": [
        "## Table: Basic SQL Commands\n",
        "\n",
        "| SQL Command | Description |\n",
        "| --- | --- |\n",
        "| `CREATE TABLE table_name (col1 INT, col2 VARCHAR(100));` | Create a table 'table_name' with an integer column 'col1' and a string column 'col2'. |\n",
        "| `INSERT INTO table_name (col1, col2) VALUES (1, 'value');` | Insert a new row into 'table_name' with values for 'col1' and 'col2'. |\n",
        "| `SELECT * FROM table_name;` | Retrieve all rows and columns from 'table_name'. |\n",
        "| `SELECT col1, col2 FROM table_name;` | Retrieve 'col1' and 'col2' from all rows in 'table_name'. |\n",
        "| `SELECT * FROM table_name WHERE col1 = 'value';` | Retrieve all rows from 'table_name' where 'col1' is equal to 'value'. |\n",
        "| `SELECT * FROM table_name WHERE col1 LIKE '%value%';` | Retrieve all rows from 'table_name' where 'col1' contains the string 'value'. |\n",
        "| `SELECT COUNT(*) FROM table_name;` | Count the total number of rows in 'table_name'. |\n",
        "| `SELECT col1, COUNT(*) FROM table_name GROUP BY col1;` | Count the number of rows in 'table_name' for each unique value in 'col1'. |\n",
        "| `SELECT col1, COUNT(*) FROM table_name GROUP BY col1 HAVING COUNT(*) > 1;` | Count the number of rows in 'table_name' for each unique value in 'col1', only including groups with more than one row. |\n",
        "| `INSERT INTO table_name (col1, col2) VALUES (2, 'another value');` | Insert another new row into 'table_name' with different values for 'col1' and 'col2'. |\n",
        "| `SELECT * FROM table_name WHERE col2 LIKE 'value%';` | Retrieve all rows from 'table_name' where 'col2' starts with the string 'value'. |\n",
        "| `SELECT * FROM table_name WHERE col1 > 1;` | Retrieve all rows from 'table_name' where 'col1' is greater than 1. |\n",
        "| `SELECT * FROM table_name ORDER BY col1;` | Retrieve all rows from 'table_name', ordered by 'col1' in ascending order. |\n",
        "| `SELECT * FROM table_name ORDER BY col1 DESC;` | Retrieve all rows from 'table_name', ordered by 'col1' in descending order. |\n",
        "| `SELECT col1, AVG(col2) FROM table_name GROUP BY col1;` | Find the average of 'col2' in 'table_name' for each unique value in 'col1'. |\n",
        "| `SELECT col1, SUM(col2) FROM table_name GROUP BY col1;` | Find the sum of 'col2' in 'table_name' for each unique value in 'col1'. |\n",
        "| `SELECT col1, MIN(col2) FROM table_name GROUP BY col1;` | Find the minimum of 'col2' in 'table_name' for each unique value in 'col1'. |\n",
        "| `SELECT col1, MAX(col2) FROM table_name GROUP BY col1;` | Find the maximum of 'col2' in 'table_name' for each unique value in 'col1'. |\n",
        "| `SELECT DISTINCT col1 FROM table_name;` | Retrieve all distinct values of 'col1' from 'table_name'. |\n"
      ],
      "metadata": {
        "id": "slwvemJIU4cS"
      }
    },
    {
      "cell_type": "markdown",
      "source": [
        "## Exercises: Basic SQL\n",
        "Here are some exercises for you to try out. (Some of these appear earlier in the document, but try to do them wihout looking!).\n",
        "\n",
        "1.  Insert a New Student: Add a new student named 'Obi-Wan Kenobi' with a level of 3 and a GPA of 3.8 into the 'Students' table.\n",
        "\n",
        "2.  Retrieve Specific Data: Fetch the 'FirstName' and 'LastName' of all students who are at Level 2.\n",
        "\n",
        "3.  Add a New Class: Create a new class named 'Force 101' and add it to the 'Classes' table.\n",
        "\n",
        "4.  Enroll a Student: Enroll 'Obi-Wan Kenobi' in 'Force 101'. Make sure the 'Enrollment' table is updated accordingly.\n",
        "\n",
        "5.  Count the Students: Find out how many students are enrolled at the Jedi Academy.\n",
        "\n",
        "6.  Find Average GPA: Calculate the average GPA of all students at the Jedi Academy.\n",
        "\n",
        "7.  Student with Highest GPA: Find out who has the highest GPA in the academy. Is it 'Obi-Wan Kenobi'?\n",
        "\n",
        "8.  Students in a Class: Find out the names of all students enrolled in 'Force 101'.\n",
        "\n",
        "9.  Find Unique Levels: Use the DISTINCT keyword to find all unique Levels that the students of Jedi Academy are in.\n",
        "\n",
        "10. Classes per Student: Count the number of classes each student is enrolled in."
      ],
      "metadata": {
        "id": "qKx2W1vNYQLC"
      }
    },
    {
      "cell_type": "code",
      "source": [
        "%%sql\n",
        "-- Query 1:"
      ],
      "metadata": {
        "id": "Ucl_y5N7Ueyh"
      },
      "execution_count": null,
      "outputs": []
    },
    {
      "cell_type": "code",
      "source": [
        "%%sql\n",
        "-- Query 2:"
      ],
      "metadata": {
        "id": "rl6TUwhmY46B"
      },
      "execution_count": null,
      "outputs": []
    },
    {
      "cell_type": "code",
      "source": [
        "%%sql\n",
        "-- Query 3:"
      ],
      "metadata": {
        "id": "APLHfFQjY514"
      },
      "execution_count": null,
      "outputs": []
    },
    {
      "cell_type": "code",
      "source": [
        "%%sql\n",
        "-- Query 4:"
      ],
      "metadata": {
        "id": "LULxyO2uY6w6"
      },
      "execution_count": null,
      "outputs": []
    },
    {
      "cell_type": "code",
      "source": [
        "%%sql\n",
        "-- Query 5:"
      ],
      "metadata": {
        "id": "9DKaEfjYY8N4"
      },
      "execution_count": null,
      "outputs": []
    },
    {
      "cell_type": "code",
      "source": [
        "%%sql\n",
        "-- Query 6:"
      ],
      "metadata": {
        "id": "UafBJ7v0Y9Fh"
      },
      "execution_count": null,
      "outputs": []
    },
    {
      "cell_type": "code",
      "source": [
        "%%sql\n",
        "-- Query 7:"
      ],
      "metadata": {
        "id": "1kvDM32wY-RB"
      },
      "execution_count": null,
      "outputs": []
    },
    {
      "cell_type": "code",
      "source": [
        "%%sql\n",
        "-- Query 8:"
      ],
      "metadata": {
        "id": "DvQYaEbaY_JR"
      },
      "execution_count": null,
      "outputs": []
    },
    {
      "cell_type": "code",
      "source": [
        "%%sql\n",
        "-- Query 9:\n"
      ],
      "metadata": {
        "id": "Zk6cyA4cY__R"
      },
      "execution_count": null,
      "outputs": []
    },
    {
      "cell_type": "code",
      "source": [
        "%%sql\n",
        "-- Query 10:"
      ],
      "metadata": {
        "id": "Y5Nkx1fgZCHo"
      },
      "execution_count": null,
      "outputs": []
    }
  ]
}