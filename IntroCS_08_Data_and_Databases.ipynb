{
  "nbformat": 4,
  "nbformat_minor": 0,
  "metadata": {
    "colab": {
      "provenance": [],
      "authorship_tag": "ABX9TyMKlUXUeTQAn26u84g2m+6F",
      "include_colab_link": true
    },
    "kernelspec": {
      "name": "python3",
      "display_name": "Python 3"
    },
    "language_info": {
      "name": "python"
    }
  },
  "cells": [
    {
      "cell_type": "markdown",
      "metadata": {
        "id": "view-in-github",
        "colab_type": "text"
      },
      "source": [
        "<a href=\"https://colab.research.google.com/github/brendanpshea/intro_cs/blob/main/IntroCS_08_Data_and_Databases.ipynb\" target=\"_parent\"><img src=\"https://colab.research.google.com/assets/colab-badge.svg\" alt=\"Open In Colab\"/></a>"
      ]
    },
    {
      "cell_type": "markdown",
      "source": [
        "## An Intro to Data and Databases\n",
        "\n",
        "In the ever-evolving digital age, we're surrounded by a colossal amount of information - so much so that it's become virtually impossible to comprehend its vastness without the aid of computers. This ocean of information is comprised of 'data', a term you're likely to hear frequently in the realm of computer science, and one that is the fundamental unit of our digital world. This chapter will introduce you to the concept of data, its types, and its critical role in computer science.\n",
        "\n",
        "In any field, data serves as the basis for decision-making and problem-solving. For instance, meteorologists predict weather patterns based on historical climate data, marketers analyze consumer behavior data to tailor their advertising strategies, doctors make use of medical history data to diagnose and treat patients, and financial analysts forecast market trends using financial data. All these examples involve data analysis and interpretation, which are crucial components of computer science.\n",
        "\n",
        "In computer science, we employ data in myriad ways: creating algorithms, designing software applications, and most notably, building and managing databases. But what exactly is a database? How does it organize vast amounts of data so efficiently? And how can we interact with a database to retrieve the information we need? To answer these questions, we delve into the world of databases and the language that we use to interact with them, Structured Query Language (SQL).\n",
        "\n",
        "In this chapter, we'll explore what a database is, why it's an essential tool in handling data, and the various types of databases that exist. We'll also introduce you to SQL, discussing how to use it to retrieve data from a database efficiently. We'll primarily focus on SQL SELECT statements, which form the backbone of data retrieval in SQL.\n",
        "\n",
        "Through this chapter, you'll not only learn about the concept and importance of data and databases but also acquire practical skills that are widely applicable in the field of computer science. By the end of it, you'll be well-equipped with the knowledge to navigate the world of data and databases and a newfound appreciation for the art and science of handling data in computer science."
      ],
      "metadata": {
        "id": "9_HmwBS7TQoI"
      }
    },
    {
      "cell_type": "markdown",
      "source": [
        "## What is Data?\n",
        "**Data** is a collection of facts in the form of words, numbers, images, or even more abstract concepts. It is raw and unprocessed information that, when processed or structured, can provide meaningful insights.  For example, if we record the daily temperature of a city, each recorded number is a piece of data. Another example might be the individual scores of students on a test, which can be processed to find the class average.\n",
        "\n",
        "In the field of computer science, data is foundational and is the core subject of many, if not most, activities. It is the input to algorithms, the content stored and retrieved in databases, and the information transmitted across networks. Data is critical in a variety of fields and use cases, from decision-making in business environments to scientific research, from machine learning algorithms to web applications, and beyond.\n",
        "\n",
        "Now, to further understand data, we can categorize it into two types: structured and unstructured data.\n",
        "\n",
        "1.  **Structured Data:** This type of data is organized and formatted in a way that it's easily searchable in relational databases. Structured data adheres to a model that defines what fields of data exist and what types of data they hold. For example, an address book containing names, phone numbers, and addresses, where each piece of data has a certain type and is stored in a specific field.\n",
        "\n",
        "2.  **Unstructured Data:** This type of data has no specific format or organization, making it more difficult to collect, process, and analyze. Examples of unstructured data include text files, images, videos, emails, social media posts, and web pages.\n",
        "\n",
        "The importance of data in computer science cannot be overstated. It fuels the processes that drive decision-making algorithms, allows us to analyze and forecast trends, and forms the basis of machine learning and artificial intelligence. Understanding how to work with data - from basic data structures in programming languages to complex databases - is a crucial part of computer science education."
      ],
      "metadata": {
        "id": "Cnhev8KBTWs0"
      }
    },
    {
      "cell_type": "markdown",
      "source": [
        "## What is a Database?\n",
        "A **database** is a highly structured collection of data that is stored, managed, and accessed electronically. It's a systematic and organized way to store, retrieve, and manipulate data, facilitating efficient information management. In databases, data is organized into tables, each comprising rows and columns, forming a grid-like structure.\n",
        "\n",
        "One common way to understand the value of databases is to contrast them with flat files. A **flat file** is a plain text or binary file that contains data but lacks the structured relationships between data elements that a database maintains. For example, you could store customer data in a flat file, with each line of the text file representing a customer and different pieces of information (like name, address, and phone number) separated by a delimiter such as a comma. This format is simple and can work for very small sets of data. Spreadsheets (like MS Excel or Google Docs) are examples of flat files.\n",
        "\n",
        "However, as the volume of data grows, flat files become less practical. Retrieving specific information from a large flat file can be slow and resource-intensive. Furthermore, updating or modifying data in a flat file can be complex and prone to errors. Unlike databases, flat files don't support transactions (a logical unit of work that must either be entirely completed or entirely undone), concurrent access (multiple users accessing the data simultaneously), or constraints (rules governing the data), making data integrity and consistency harder to maintain.  On the other hand, databases are designed to manage, store, and retrieve large volumes of data efficiently. They are equipped with tools and functionalities to handle complex queries, support concurrent user access, ensure data consistency and security, and provide robust data recovery and backup systems.\n",
        "\n",
        "Databases are designed around a database model, the most popular of which is the relational model. **Relational databases** organize data into tables (or relations), where each **table** represents an entity (like Customers, Orders, Products, etc.) and each row in the table represents a **record** or instance of that entity.  Many different types of relational databases are used today, each suited to different tasks:\n",
        "\n",
        "1.  Microsoft Access: This is an entry-level, small-scale database management system (DBMS) provided by Microsoft. It's integrated with the Microsoft Office suite and is excellent for small businesses or departments within large organizations.\n",
        "\n",
        "2.  SQLite: SQLite is a self-contained, serverless, and zero-configuration database engine used widely in mobile apps and small to medium-sized applications. It's renowned for its simplicity and lightweight footprint.\n",
        "\n",
        "3.  Oracle Database: Oracle is a high-end, fully-featured DBMS. It is often used in large systems and for enterprise-level applications where performance, scalability, and reliability are crucial.\n",
        "\n",
        "4.  Microsoft SQL Server: This is another enterprise-level DBMS, provided by Microsoft. SQL Server supports a wide range of transaction processing, business intelligence, and analytics applications in corporate IT environments.\n",
        "\n",
        "5.  PostgreSQL: PostgreSQL is a powerful, open-source relational database system with a strong reputation for reliability, data integrity, and correctness. It supports both SQL (relational) and JSON (non-relational) querying.\n",
        "\n",
        "6.  MySQL: MySQL is one of the most popular open-source relational database systems. It's widely used for web databases and is a part of the popular LAMP (Linux, Apache, MySQL, PHP) stack for web development.\n",
        "\n",
        "Databases are an integral part of modern computing. Their structured nature allows efficient storage, retrieval, and manipulation of data, making them vital for a broad range of applications, from small scale applications like mobile apps to large, enterprise-level systems."
      ],
      "metadata": {
        "id": "PE2Z3RaCVV3u"
      }
    },
    {
      "cell_type": "markdown",
      "source": [
        "## Advantages of Databases over Flat Files\n",
        "Databases have several advantages over flat files:\n",
        "\n",
        "- *Efficient Storage:* Databases provide a highly efficient way to store large amounts of data. They allow us to organize data in a structured format, making it easier to manage. For example, a university might have a database that stores information about students, courses, and grades, all organized into separate tables for efficient storage.\n",
        "\n",
        "- *Data Retrieval:* One of the significant advantages of databases is the ease with which we can retrieve data. Thanks to their structured format, we can quickly find and extract the information we need. Using our university example, if we want to find out all the courses a particular student has taken, we can easily retrieve this information from the database.\n",
        "\n",
        "- *Data Management:* Databases also provide robust tools for managing data. They allow us to update data, enforce security measures, and ensure that the data remains consistent and accurate. In our university database, for instance, we could easily update a student's grade or add a new course.\n",
        "\n",
        "- *Concurrency Control:* Databases allow multiple users to interact with the data simultaneously, ensuring that transactions are processed reliably and accurately, even when the database is being accessed concurrently by multiple users.\n",
        "\n",
        "- *Data Protection:* Databases have built-in mechanisms for data backup and recovery, ensuring that data isn't lost in case of a failure.\n",
        "\n",
        "In modern computing, databases are vital because they allow for the efficient handling of large amounts of data. They form the backbone of many applications, ranging from web and mobile applications to enterprise software systems. Understanding databases and how to interact with them is a crucial skill in computer science and many other fields."
      ],
      "metadata": {
        "id": "04aNc3KPViap"
      }
    },
    {
      "cell_type": "markdown",
      "source": [
        "## A Short Introduction to SQL\n",
        "**Structured Query Language**, or **SQL**, is a programming language specifically designed for managing data held in a relational database management system (RDBMS). It is used for storing, manipulating, and retrieving data stored in databases.\n",
        "\n",
        "The inception of SQL goes back to the 1970s. It was initially developed at IBM by Donald D. Chamberlin and Raymond F. Boyce. The language was originally called SEQUEL (Structured English Query Language) but was later shortened to SQL. The first commercial version was introduced by Oracle in 1979.\n",
        "\n",
        "SQL is a little different from other programming languages. It's what we call a **declarative language**. This means that when you write SQL, you describe what you want without having to outline a detailed sequence of steps to get it. This is different from **procedural languages** like Python or C, where you provide the computer with step-by-step instructions.\n",
        "\n",
        "Let's consider a simple example. Suppose you're playing a game of hide-and-seek with your friends. If your friend were a database, and you were trying to \"query\" your friend to find out where another friend was hiding, a procedural approach might involve asking a series of yes/no questions: \"Are they hiding upstairs?\", \"Are they in a room with a window?\", etc. In contrast, with a declarative approach like SQL, you would simply ask, \"Where is our friend hiding?\" SQL is designed to get the information you need in one question, without the need for a step-by-step process.\n",
        "\n",
        "In practical terms, SQL is used for tasks like finding data that fits specific criteria, adding new data, updating or deleting existing data, and performing functions on the data such as adding it up or calculating averages. SQL is also used to create and modify the structure of databases themselves.\n",
        "\n",
        "Understanding SQL is crucial for anyone who works with databases, as it is one of the few languages that is consistently used with virtually all types of databases. SQL has been around for a long time and continues to be widely used in the industry, which means learning SQL is a valuable skill that can open many doors in the tech field."
      ],
      "metadata": {
        "id": "3MBEaMwFW84n"
      }
    },
    {
      "cell_type": "markdown",
      "source": [
        "## Case Study: Database for Jedi Academy\n",
        "In this case study, we will introduce the basic concepts of relational databases and SQL using the unique context of a Jedi Academy. We're dealing with a variety of intriguing characters, diverse Jedi training courses, and multifaceted relationships between students and their classes. To manage this intricate network of information, we'll be using a tool perfect for the job - a relational database.\n",
        "\n",
        "A relational database allows us to store and manage data by organizing it into one or more **tables** (or **relations**). Each table represents a specific entity and stores relevant pieces of information about that entity, known as **attributes** (or **columns**). For the Jedi Academy, we'll create three tables:\n",
        "\n",
        "1.  The `Students` table, representing all Jedi students. It will include each student's unique `StudentID` (an integer), `FirstName` and `LastName` (text strings, or `VARCHAR`), their `Level` (also an integer, indicating stages of Jedi training, such as 1 for Padawan, 2 for Knight, 3 for Master), and `GPA` (a float, for storing grade point average).\n",
        "\n",
        "2.  The `Classes` table, representing different training courses. It will store the `ClassID` (an integer), `ClassName` (a text string or `VARCHAR`), `MasterName` (the name of the Jedi Master teaching the class, another `VARCHAR`), and the `RoomNumber` (another integer).\n",
        "\n",
        "3.  The `Enrollment` table, representing the relationship between students and classes. It will include `StudentID`, `ClassID`, and `EnrollmentDate` (a `DATE`, for when the student enrolled in the class).\n",
        "\n",
        "This database design allows us to efficiently manage and retrieve the academy's data. By leveraging SQL, we can quickly find out all classes a particular student is enrolled in, identify which students are under Master Yoda's tutelage, change the room of a class, and much more.\n",
        "\n",
        "SQL uses several data types to define what kind of data each column in a table can store. For instance, `INTEGER` is used for whole numbers, `VARCHAR` for text strings, `FLOAT` for decimal numbers, and `DATE` for dates. Choosing the correct data type is crucial to maintaining data integrity, optimizing storage, and enabling accurate operations and comparisons.\n",
        "\n",
        "As we proceed through this case study, we'll be delving deeper into these data types, learning to harness the power of SQL, and exploring how it brings organization and accessibility to our Jedi Academy's database."
      ],
      "metadata": {
        "id": "oyseIjuGVFOa"
      }
    },
    {
      "cell_type": "markdown",
      "source": [
        "## Setting Up SQLite Database in Jupyter Notebook\n",
        "\n",
        "Before we start creating tables, we need to set up our database. For this case study, we'll be using **SQLite**, a simple yet powerful database engine, through a Jupyter Notebook. To interact with SQLite using SQL commands directly in the notebook, we'll use a feature called SQL \"magic\".\n",
        "\n",
        "Here are the steps to get started:\n",
        "\n",
        "### Install necessary libraries\n",
        "\n",
        "First, we need to install the `ipython-sql` library which enables SQL magic. In a Jupyter notebook cell, run:"
      ],
      "metadata": {
        "id": "5TVqtpw3XgvI"
      }
    },
    {
      "cell_type": "code",
      "source": [
        "# This will downgrade SQLAlchemy so it works in Colab\n",
        "!pip install sqlalchemy==1.3.24"
      ],
      "metadata": {
        "colab": {
          "base_uri": "https://localhost:8080/"
        },
        "id": "xoxtIia6Xo90",
        "outputId": "f44dd488-70a2-4f9c-e321-5e34ba85c9a1"
      },
      "execution_count": 3,
      "outputs": [
        {
          "output_type": "stream",
          "name": "stdout",
          "text": [
            "Looking in indexes: https://pypi.org/simple, https://us-python.pkg.dev/colab-wheels/public/simple/\n",
            "Collecting sqlalchemy==1.3.24\n",
            "  Downloading SQLAlchemy-1.3.24.tar.gz (6.4 MB)\n",
            "\u001b[2K     \u001b[90m━━━━━━━━━━━━━━━━━━━━━━━━━━━━━━━━━━━━━━━━\u001b[0m \u001b[32m6.4/6.4 MB\u001b[0m \u001b[31m61.8 MB/s\u001b[0m eta \u001b[36m0:00:00\u001b[0m\n",
            "\u001b[?25h  Preparing metadata (setup.py) ... \u001b[?25l\u001b[?25hdone\n",
            "Building wheels for collected packages: sqlalchemy\n",
            "  Building wheel for sqlalchemy (setup.py) ... \u001b[?25l\u001b[?25hdone\n",
            "  Created wheel for sqlalchemy: filename=SQLAlchemy-1.3.24-cp310-cp310-linux_x86_64.whl size=1268280 sha256=072bb7f0c502496b4e80fb70bb8381aa835022090bf5e505162b15ed213b8795\n",
            "  Stored in directory: /root/.cache/pip/wheels/27/51/b3/3481e88d5a5ba95dd4aafedc9316774d941c4ba61cfb93add8\n",
            "Successfully built sqlalchemy\n",
            "Installing collected packages: sqlalchemy\n",
            "  Attempting uninstall: sqlalchemy\n",
            "    Found existing installation: SQLAlchemy 2.0.10\n",
            "    Uninstalling SQLAlchemy-2.0.10:\n",
            "      Successfully uninstalled SQLAlchemy-2.0.10\n",
            "Successfully installed sqlalchemy-1.3.24\n"
          ]
        }
      ]
    },
    {
      "cell_type": "markdown",
      "source": [
        "### Load SQL magic\n",
        "\n",
        "After successfully installing the ipython-sql library, you need to load SQL magic. This is done by running the following command:"
      ],
      "metadata": {
        "id": "FOckwki8XxIx"
      }
    },
    {
      "cell_type": "code",
      "source": [
        "%load_ext sql"
      ],
      "metadata": {
        "id": "dpupynOSTTch"
      },
      "execution_count": 4,
      "outputs": []
    },
    {
      "cell_type": "markdown",
      "source": [
        "### Create the SQLite database\n",
        "\n",
        "Now, we'll create our SQLite database. SQL magic allows us to connect to SQLite using the following syntax:"
      ],
      "metadata": {
        "id": "V1zqLw_hYBbM"
      }
    },
    {
      "cell_type": "code",
      "source": [
        "%sql sqlite:///jedi_academy.db"
      ],
      "metadata": {
        "id": "W2rrJgKQYGFY"
      },
      "execution_count": 5,
      "outputs": []
    },
    {
      "cell_type": "markdown",
      "source": [
        "### Creating Tables with SQL\n",
        "\n",
        "Now that we've planned our Jedi Academy database, it's time to put our ideas into action. SQL allows us to create tables using the CREATE TABLE statement. Let's see how we can define our Students, Classes, and Enrollment tables.\n",
        "\n",
        "#### Creating the Students table \n",
        "Here is the SQL statement to create the `Students` table:"
      ],
      "metadata": {
        "id": "thBG0SCRaXwO"
      }
    },
    {
      "cell_type": "code",
      "source": [
        "%%sql\n",
        "\n",
        "DROP TABLE IF EXISTS Studets; -- Deletes table if it already exists\n",
        "CREATE TABLE Students (\n",
        "    StudentID INT PRIMARY KEY,\n",
        "    FirstName VARCHAR(50),\n",
        "    LastName VARCHAR(50),\n",
        "    Level INT,\n",
        "    GPA FLOAT\n",
        ");\n"
      ],
      "metadata": {
        "colab": {
          "base_uri": "https://localhost:8080/"
        },
        "id": "hz6yqDJ_anDH",
        "outputId": "ea6673c5-9b2b-4ba7-eafb-56c0e440a505"
      },
      "execution_count": 6,
      "outputs": [
        {
          "output_type": "stream",
          "name": "stdout",
          "text": [
            " * sqlite:///jedi_academy.db\n",
            "Done.\n",
            "Done.\n"
          ]
        },
        {
          "output_type": "execute_result",
          "data": {
            "text/plain": [
              "[]"
            ]
          },
          "metadata": {},
          "execution_count": 6
        }
      ]
    },
    {
      "cell_type": "markdown",
      "source": [
        "In this statement, `CREATE TABLE Students` tells SQL that we want to create a new table named `Students`. Each line inside the parentheses defines a column in our table, with its name and its data type. For example, `StudentID INT` creates a column named `StudentID` that will store integers.\n",
        "\n",
        "`PRIMARY KEY` is a constraint that we've added to `StudentID` to tell SQL that this column will uniquely identify each record in our table. In other words, there cannot be two students with the same `StudentID`.\n",
        "\n",
        "#### Creating the `Classes` table\n",
        "\n",
        "Next, let's create our `Classes` table:"
      ],
      "metadata": {
        "id": "5pq3vmM-cQVG"
      }
    },
    {
      "cell_type": "code",
      "source": [
        "%%sql\n",
        "DROP TABLE IF EXISTS Classes; -- Deletes table if it already exists\n",
        "CREATE TABLE Classes (\n",
        "    ClassID INT PRIMARY KEY,\n",
        "    ClassName VARCHAR(100),\n",
        "    MasterName VARCHAR(50),\n",
        "    RoomNumber INT\n",
        ");\n"
      ],
      "metadata": {
        "colab": {
          "base_uri": "https://localhost:8080/"
        },
        "id": "sFaqwEVHcUPZ",
        "outputId": "fc7a65e2-6df3-42a9-e52d-6784dd5af117"
      },
      "execution_count": 7,
      "outputs": [
        {
          "output_type": "stream",
          "name": "stdout",
          "text": [
            " * sqlite:///jedi_academy.db\n",
            "Done.\n",
            "Done.\n"
          ]
        },
        {
          "output_type": "execute_result",
          "data": {
            "text/plain": [
              "[]"
            ]
          },
          "metadata": {},
          "execution_count": 7
        }
      ]
    },
    {
      "cell_type": "markdown",
      "source": [
        "This statement is similar to the first, but creates a table named `Classes` with its own unique columns. The `ClassID` column is the primary key here, so each class must have a unique `ClassID`.\n",
        "\n",
        "#### Creating the `Enrollment` table\n",
        "\n",
        "Finally, we'll create the `Enrollment` table:"
      ],
      "metadata": {
        "id": "fwQnkIYccp4H"
      }
    },
    {
      "cell_type": "code",
      "source": [
        "%%sql\n",
        "DROP TABLE IF EXISTS Enrollment;\n",
        "\n",
        "CREATE TABLE Enrollment (\n",
        "    StudentID INT,\n",
        "    ClassID INT,\n",
        "    EnrollmentDate DATE,\n",
        "    PRIMARY KEY (StudentID, ClassID),\n",
        "    FOREIGN KEY (StudentID) REFERENCES Students(StudentID),\n",
        "    FOREIGN KEY (ClassID) REFERENCES Classes(ClassID)\n",
        ");\n"
      ],
      "metadata": {
        "id": "1YuollHyc1iz",
        "colab": {
          "base_uri": "https://localhost:8080/"
        },
        "outputId": "ad5fde45-a5a7-4506-8ac4-bba9e63cd7ce"
      },
      "execution_count": 8,
      "outputs": [
        {
          "output_type": "stream",
          "name": "stdout",
          "text": [
            " * sqlite:///jedi_academy.db\n",
            "Done.\n",
            "Done.\n"
          ]
        },
        {
          "output_type": "execute_result",
          "data": {
            "text/plain": [
              "[]"
            ]
          },
          "metadata": {},
          "execution_count": 8
        }
      ]
    },
    {
      "cell_type": "markdown",
      "source": [
        "\n",
        "In the `Enrollment` table, we have two primary keys, `StudentID` and `ClassID`. This is known as a composite primary key, and it ensures that a student can only be enrolled in each class once. The combination of `StudentID` and `ClassID` must be unique for each record.\n",
        "\n",
        "Also, you'll notice that `StudentID` and `ClassID` are also foreign keys, referencing `StudentID` in the `Students` table and `ClassID` in the `Classes` table respectively. This is how we establish relationships between our tables in SQL.\n",
        "\n",
        "By creating these three tables, we have successfully set up a basic structure for our Jedi Academy's database. In the next sections, we'll populate these tables with data and learn how to manipulate it."
      ],
      "metadata": {
        "id": "8O-7w0qvdCHF"
      }
    },
    {
      "cell_type": "markdown",
      "source": [
        "### Inserting Data into Tables with SQL\n",
        "\n",
        "Having established the structure of our tables, we now turn to populating them with data. We'll use the `INSERT INTO` statement for this purpose. Let's begin with our `Students` and `Classes` tables.\n",
        "\n",
        "#### Inserting data into the `Students` table\n",
        "\n",
        "We can insert data into the `Students` table with a statement that looks like this:\n",
        "\n",
        "```\n",
        "INSERT INTO Students (StudentID, FirstName, LastName, Level, GPA)\n",
        "VALUES (1, 'Anakin', 'Skywalker', 3, 3.8);\n",
        "```\n",
        "\n",
        "This statement adds a single row to our table. It begins with `INSERT INTO Students`, which tells SQL that we want to insert data into the `Students` table. The names in parentheses (`StudentID`, `FirstName`, `LastName`, `Level`, `GPA`) are the columns we're inserting data into. The `VALUES` keyword is followed by the values we're inserting, in the same order as the column names.\n",
        "\n",
        "Now, let's add data for 10 students:"
      ],
      "metadata": {
        "id": "Mlv1JQ0rd-LJ"
      }
    },
    {
      "cell_type": "code",
      "source": [
        "%%sql \n",
        "\n",
        "INSERT INTO Students (StudentID, FirstName, LastName, Level, GPA)\n",
        "VALUES (1, 'Anakin', 'Skywalker', 3, 3.8),\n",
        "       (2, 'Grogu', '', 3, 3.9),\n",
        "       (3, 'Luke', 'Skywalker', 2, 3.7),\n",
        "       (4, 'Leia', 'Organa', 2, 4.0),\n",
        "       (5, 'Rey', 'Skywalker', 1, 3.2),\n",
        "       (6, 'Chewbacca', 'Wookiee', 1, 3.5),\n",
        "       (7, 'Mara', 'Jade', 3, 4.0),\n",
        "       (8, 'Mace', 'Windu', 3, 3.8),\n",
        "       (9, 'Padme', 'Amidala', 1, 3.7),\n",
        "       (10, 'Qui-Gon', 'Jinn', 3, 3.9);\n"
      ],
      "metadata": {
        "colab": {
          "base_uri": "https://localhost:8080/"
        },
        "id": "GsUABD-teCme",
        "outputId": "a64c1e6e-8a02-4119-f2d4-ba76b01b97ec"
      },
      "execution_count": 9,
      "outputs": [
        {
          "output_type": "stream",
          "name": "stdout",
          "text": [
            " * sqlite:///jedi_academy.db\n",
            "10 rows affected.\n"
          ]
        },
        {
          "output_type": "execute_result",
          "data": {
            "text/plain": [
              "[]"
            ]
          },
          "metadata": {},
          "execution_count": 9
        }
      ]
    },
    {
      "cell_type": "markdown",
      "source": [
        "## Inserting data into the Classes table\n",
        "Inserting data into the `Classes` table is similar. Here's how we insert data for one class:\n",
        "\n",
        "```\n",
        "INSERT INTO Classes (ClassID, ClassName, MasterName, RoomNumber)\n",
        "VALUES (1, 'Lightsaber 101', 'Yoda', 101);\n",
        "```\n",
        "And now, let's add data for 3 classes:"
      ],
      "metadata": {
        "id": "YOq5F5dRd-VJ"
      }
    },
    {
      "cell_type": "code",
      "source": [
        "%%sql\n",
        "\n",
        "INSERT INTO Classes (ClassID, ClassName, MasterName, RoomNumber)\n",
        "VALUES (1, 'Lightsaber 101', 'Yoda', 101),\n",
        "       (2, 'Advanced Force Techniques', 'Obi-Wan Kenobi', 102),\n",
        "       (3, 'Interstellar Diplomacy', 'Padme Amidala', 103);\n"
      ],
      "metadata": {
        "id": "9BFHv5q6anSK",
        "colab": {
          "base_uri": "https://localhost:8080/"
        },
        "outputId": "61e97bea-9754-4527-93bc-56b8d3cd9b30"
      },
      "execution_count": 10,
      "outputs": [
        {
          "output_type": "stream",
          "name": "stdout",
          "text": [
            " * sqlite:///jedi_academy.db\n",
            "3 rows affected.\n"
          ]
        },
        {
          "output_type": "execute_result",
          "data": {
            "text/plain": [
              "[]"
            ]
          },
          "metadata": {},
          "execution_count": 10
        }
      ]
    },
    {
      "cell_type": "markdown",
      "source": [
        "#### Inserting Data into the `Enrollment` Table\n",
        "\n",
        "Let's enroll our Jedi students in their classes. The process to insert data into the `Enrollment` table is similar to what we did with `Students` and `Classes`.\n",
        "\n",
        "Remember that the `Enrollment` table uses a composite primary key, consisting of `StudentID` and `ClassID`. This combination uniquely identifies each row and ensures a student can only be enrolled in each class once.\n",
        "\n",
        "Here's an example of how we might enroll the student with `StudentID` 1 in the class with `ClassID` 1:\n",
        "\n",
        "```\n",
        "INSERT INTO Enrollment (StudentID, ClassID, EnrollmentDate)\n",
        "VALUES (1, 1, '2123-01-01');\n",
        "```\n",
        "\n",
        "The date is given in the format 'YYYY-MM-DD'. This particular statement enrolls Anakin Skywalker in 'Lightsaber 101' as of January 1, 2123.\n",
        "\n",
        "Now, let's insert several more enrollment records:"
      ],
      "metadata": {
        "id": "X_2ASrrdQRml"
      }
    },
    {
      "cell_type": "code",
      "source": [
        "%%sql\n",
        "\n",
        "INSERT INTO Enrollment (StudentID, ClassID, EnrollmentDate)\n",
        "VALUES (1, 2, '2123-01-01'),\n",
        "       (2, 1, '2123-01-01'),\n",
        "       (3, 1, '2123-01-02'),\n",
        "       (3, 2, '2123-01-02'),\n",
        "       (4, 2, '2123-01-02'),\n",
        "       (4, 3, '2123-01-02'),\n",
        "       (5, 1, '2123-01-03'),\n",
        "       (6, 1, '2123-01-03'),\n",
        "       (7, 2, '2123-01-03'),\n",
        "       (8, 3, '2123-01-03'),\n",
        "       (9, 3, '2123-01-04'),\n",
        "       (10, 2, '2123-01-04');\n"
      ],
      "metadata": {
        "colab": {
          "base_uri": "https://localhost:8080/"
        },
        "id": "jIheF4eRQXA8",
        "outputId": "06a445b6-dd87-458b-fc5e-4df3063a7d0f"
      },
      "execution_count": 11,
      "outputs": [
        {
          "output_type": "stream",
          "name": "stdout",
          "text": [
            " * sqlite:///jedi_academy.db\n",
            "12 rows affected.\n"
          ]
        },
        {
          "output_type": "execute_result",
          "data": {
            "text/plain": [
              "[]"
            ]
          },
          "metadata": {},
          "execution_count": 11
        }
      ]
    },
    {
      "cell_type": "markdown",
      "source": [
        "### Querying Tables with SQL\n",
        "\n",
        "Once we have data in our tables, we typically want to retrieve it for various purposes. This is where SQL's `SELECT` statement comes in. `SELECT` allows us to query our database, extracting information according to our needs.\n",
        "\n",
        "#### Basic `SELECT` Statements\n",
        "\n",
        "A simple query might involve retrieving all data from a single table. For instance, to select all records from the `Students` table, we use the following command:"
      ],
      "metadata": {
        "id": "edMhEEp8Q8H1"
      }
    },
    {
      "cell_type": "code",
      "source": [
        "%%sql\n",
        "\n",
        "SELECT * FROM Students;"
      ],
      "metadata": {
        "colab": {
          "base_uri": "https://localhost:8080/",
          "height": 284
        },
        "id": "g8FeTiG4RCQW",
        "outputId": "fe31ee06-247c-4658-8fbc-4cf33a9f8995"
      },
      "execution_count": 12,
      "outputs": [
        {
          "output_type": "stream",
          "name": "stdout",
          "text": [
            " * sqlite:///jedi_academy.db\n",
            "Done.\n"
          ]
        },
        {
          "output_type": "execute_result",
          "data": {
            "text/plain": [
              "[(1, 'Anakin', 'Skywalker', 3, 3.8),\n",
              " (2, 'Grogu', '', 3, 3.9),\n",
              " (3, 'Luke', 'Skywalker', 2, 3.7),\n",
              " (4, 'Leia', 'Organa', 2, 4.0),\n",
              " (5, 'Rey', 'Skywalker', 1, 3.2),\n",
              " (6, 'Chewbacca', 'Wookiee', 1, 3.5),\n",
              " (7, 'Mara', 'Jade', 3, 4.0),\n",
              " (8, 'Mace', 'Windu', 3, 3.8),\n",
              " (9, 'Padme', 'Amidala', 1, 3.7),\n",
              " (10, 'Qui-Gon', 'Jinn', 3, 3.9)]"
            ],
            "text/html": [
              "<table>\n",
              "    <tr>\n",
              "        <th>StudentID</th>\n",
              "        <th>FirstName</th>\n",
              "        <th>LastName</th>\n",
              "        <th>Level</th>\n",
              "        <th>GPA</th>\n",
              "    </tr>\n",
              "    <tr>\n",
              "        <td>1</td>\n",
              "        <td>Anakin</td>\n",
              "        <td>Skywalker</td>\n",
              "        <td>3</td>\n",
              "        <td>3.8</td>\n",
              "    </tr>\n",
              "    <tr>\n",
              "        <td>2</td>\n",
              "        <td>Grogu</td>\n",
              "        <td></td>\n",
              "        <td>3</td>\n",
              "        <td>3.9</td>\n",
              "    </tr>\n",
              "    <tr>\n",
              "        <td>3</td>\n",
              "        <td>Luke</td>\n",
              "        <td>Skywalker</td>\n",
              "        <td>2</td>\n",
              "        <td>3.7</td>\n",
              "    </tr>\n",
              "    <tr>\n",
              "        <td>4</td>\n",
              "        <td>Leia</td>\n",
              "        <td>Organa</td>\n",
              "        <td>2</td>\n",
              "        <td>4.0</td>\n",
              "    </tr>\n",
              "    <tr>\n",
              "        <td>5</td>\n",
              "        <td>Rey</td>\n",
              "        <td>Skywalker</td>\n",
              "        <td>1</td>\n",
              "        <td>3.2</td>\n",
              "    </tr>\n",
              "    <tr>\n",
              "        <td>6</td>\n",
              "        <td>Chewbacca</td>\n",
              "        <td>Wookiee</td>\n",
              "        <td>1</td>\n",
              "        <td>3.5</td>\n",
              "    </tr>\n",
              "    <tr>\n",
              "        <td>7</td>\n",
              "        <td>Mara</td>\n",
              "        <td>Jade</td>\n",
              "        <td>3</td>\n",
              "        <td>4.0</td>\n",
              "    </tr>\n",
              "    <tr>\n",
              "        <td>8</td>\n",
              "        <td>Mace</td>\n",
              "        <td>Windu</td>\n",
              "        <td>3</td>\n",
              "        <td>3.8</td>\n",
              "    </tr>\n",
              "    <tr>\n",
              "        <td>9</td>\n",
              "        <td>Padme</td>\n",
              "        <td>Amidala</td>\n",
              "        <td>1</td>\n",
              "        <td>3.7</td>\n",
              "    </tr>\n",
              "    <tr>\n",
              "        <td>10</td>\n",
              "        <td>Qui-Gon</td>\n",
              "        <td>Jinn</td>\n",
              "        <td>3</td>\n",
              "        <td>3.9</td>\n",
              "    </tr>\n",
              "</table>"
            ]
          },
          "metadata": {},
          "execution_count": 12
        }
      ]
    },
    {
      "cell_type": "markdown",
      "source": [
        "Here, `*` is a **wildcard character** that stands for \"all columns.\" Running this statement would return all rows and columns from the Students table.\n",
        "\n",
        "We could also select specific columns. For example, to get just the first and last names of all students, we would write:"
      ],
      "metadata": {
        "id": "OpcscsEiRGHk"
      }
    },
    {
      "cell_type": "code",
      "source": [
        "%%sql \n",
        "SELECT FirstName, LastName FROM Students;\n"
      ],
      "metadata": {
        "colab": {
          "base_uri": "https://localhost:8080/",
          "height": 284
        },
        "id": "DuQJWaMeRH38",
        "outputId": "62f49474-ede5-43b6-e42d-3f1ff91f7613"
      },
      "execution_count": 13,
      "outputs": [
        {
          "output_type": "stream",
          "name": "stdout",
          "text": [
            " * sqlite:///jedi_academy.db\n",
            "Done.\n"
          ]
        },
        {
          "output_type": "execute_result",
          "data": {
            "text/plain": [
              "[('Anakin', 'Skywalker'),\n",
              " ('Grogu', ''),\n",
              " ('Luke', 'Skywalker'),\n",
              " ('Leia', 'Organa'),\n",
              " ('Rey', 'Skywalker'),\n",
              " ('Chewbacca', 'Wookiee'),\n",
              " ('Mara', 'Jade'),\n",
              " ('Mace', 'Windu'),\n",
              " ('Padme', 'Amidala'),\n",
              " ('Qui-Gon', 'Jinn')]"
            ],
            "text/html": [
              "<table>\n",
              "    <tr>\n",
              "        <th>FirstName</th>\n",
              "        <th>LastName</th>\n",
              "    </tr>\n",
              "    <tr>\n",
              "        <td>Anakin</td>\n",
              "        <td>Skywalker</td>\n",
              "    </tr>\n",
              "    <tr>\n",
              "        <td>Grogu</td>\n",
              "        <td></td>\n",
              "    </tr>\n",
              "    <tr>\n",
              "        <td>Luke</td>\n",
              "        <td>Skywalker</td>\n",
              "    </tr>\n",
              "    <tr>\n",
              "        <td>Leia</td>\n",
              "        <td>Organa</td>\n",
              "    </tr>\n",
              "    <tr>\n",
              "        <td>Rey</td>\n",
              "        <td>Skywalker</td>\n",
              "    </tr>\n",
              "    <tr>\n",
              "        <td>Chewbacca</td>\n",
              "        <td>Wookiee</td>\n",
              "    </tr>\n",
              "    <tr>\n",
              "        <td>Mara</td>\n",
              "        <td>Jade</td>\n",
              "    </tr>\n",
              "    <tr>\n",
              "        <td>Mace</td>\n",
              "        <td>Windu</td>\n",
              "    </tr>\n",
              "    <tr>\n",
              "        <td>Padme</td>\n",
              "        <td>Amidala</td>\n",
              "    </tr>\n",
              "    <tr>\n",
              "        <td>Qui-Gon</td>\n",
              "        <td>Jinn</td>\n",
              "    </tr>\n",
              "</table>"
            ]
          },
          "metadata": {},
          "execution_count": 13
        }
      ]
    },
    {
      "cell_type": "markdown",
      "source": [
        "#### `WHERE` Clause\n",
        "The `WHERE` clause allows us to filter our query based on certain conditions. For instance, to find all students at Level 3 (Jedi Masters), we could use:"
      ],
      "metadata": {
        "id": "VmUVz3pVRNnL"
      }
    },
    {
      "cell_type": "code",
      "source": [
        "%%sql\n",
        "SELECT * FROM Students WHERE Level = 3;"
      ],
      "metadata": {
        "colab": {
          "base_uri": "https://localhost:8080/",
          "height": 179
        },
        "id": "QMp3RaFtRVPb",
        "outputId": "ba990bcd-627e-450f-850d-75dc74a06f13"
      },
      "execution_count": 14,
      "outputs": [
        {
          "output_type": "stream",
          "name": "stdout",
          "text": [
            " * sqlite:///jedi_academy.db\n",
            "Done.\n"
          ]
        },
        {
          "output_type": "execute_result",
          "data": {
            "text/plain": [
              "[(1, 'Anakin', 'Skywalker', 3, 3.8),\n",
              " (2, 'Grogu', '', 3, 3.9),\n",
              " (7, 'Mara', 'Jade', 3, 4.0),\n",
              " (8, 'Mace', 'Windu', 3, 3.8),\n",
              " (10, 'Qui-Gon', 'Jinn', 3, 3.9)]"
            ],
            "text/html": [
              "<table>\n",
              "    <tr>\n",
              "        <th>StudentID</th>\n",
              "        <th>FirstName</th>\n",
              "        <th>LastName</th>\n",
              "        <th>Level</th>\n",
              "        <th>GPA</th>\n",
              "    </tr>\n",
              "    <tr>\n",
              "        <td>1</td>\n",
              "        <td>Anakin</td>\n",
              "        <td>Skywalker</td>\n",
              "        <td>3</td>\n",
              "        <td>3.8</td>\n",
              "    </tr>\n",
              "    <tr>\n",
              "        <td>2</td>\n",
              "        <td>Grogu</td>\n",
              "        <td></td>\n",
              "        <td>3</td>\n",
              "        <td>3.9</td>\n",
              "    </tr>\n",
              "    <tr>\n",
              "        <td>7</td>\n",
              "        <td>Mara</td>\n",
              "        <td>Jade</td>\n",
              "        <td>3</td>\n",
              "        <td>4.0</td>\n",
              "    </tr>\n",
              "    <tr>\n",
              "        <td>8</td>\n",
              "        <td>Mace</td>\n",
              "        <td>Windu</td>\n",
              "        <td>3</td>\n",
              "        <td>3.8</td>\n",
              "    </tr>\n",
              "    <tr>\n",
              "        <td>10</td>\n",
              "        <td>Qui-Gon</td>\n",
              "        <td>Jinn</td>\n",
              "        <td>3</td>\n",
              "        <td>3.9</td>\n",
              "    </tr>\n",
              "</table>"
            ]
          },
          "metadata": {},
          "execution_count": 14
        }
      ]
    },
    {
      "cell_type": "markdown",
      "source": [
        "#### `ORDER BY` Clause\n",
        "We can sort our results using the `ORDER BY` clause. For instance, to get a list of students sorted by GPA in descending order, we would write:"
      ],
      "metadata": {
        "id": "u4ESsD1GRb3K"
      }
    },
    {
      "cell_type": "code",
      "source": [
        "%%sql\n",
        "SELECT * FROM Students ORDER BY GPA DESC;"
      ],
      "metadata": {
        "colab": {
          "base_uri": "https://localhost:8080/",
          "height": 284
        },
        "id": "2Og2AUMjRfyb",
        "outputId": "1f5521c2-602a-41d5-99bb-b9a356d54451"
      },
      "execution_count": 15,
      "outputs": [
        {
          "output_type": "stream",
          "name": "stdout",
          "text": [
            " * sqlite:///jedi_academy.db\n",
            "Done.\n"
          ]
        },
        {
          "output_type": "execute_result",
          "data": {
            "text/plain": [
              "[(4, 'Leia', 'Organa', 2, 4.0),\n",
              " (7, 'Mara', 'Jade', 3, 4.0),\n",
              " (2, 'Grogu', '', 3, 3.9),\n",
              " (10, 'Qui-Gon', 'Jinn', 3, 3.9),\n",
              " (1, 'Anakin', 'Skywalker', 3, 3.8),\n",
              " (8, 'Mace', 'Windu', 3, 3.8),\n",
              " (3, 'Luke', 'Skywalker', 2, 3.7),\n",
              " (9, 'Padme', 'Amidala', 1, 3.7),\n",
              " (6, 'Chewbacca', 'Wookiee', 1, 3.5),\n",
              " (5, 'Rey', 'Skywalker', 1, 3.2)]"
            ],
            "text/html": [
              "<table>\n",
              "    <tr>\n",
              "        <th>StudentID</th>\n",
              "        <th>FirstName</th>\n",
              "        <th>LastName</th>\n",
              "        <th>Level</th>\n",
              "        <th>GPA</th>\n",
              "    </tr>\n",
              "    <tr>\n",
              "        <td>4</td>\n",
              "        <td>Leia</td>\n",
              "        <td>Organa</td>\n",
              "        <td>2</td>\n",
              "        <td>4.0</td>\n",
              "    </tr>\n",
              "    <tr>\n",
              "        <td>7</td>\n",
              "        <td>Mara</td>\n",
              "        <td>Jade</td>\n",
              "        <td>3</td>\n",
              "        <td>4.0</td>\n",
              "    </tr>\n",
              "    <tr>\n",
              "        <td>2</td>\n",
              "        <td>Grogu</td>\n",
              "        <td></td>\n",
              "        <td>3</td>\n",
              "        <td>3.9</td>\n",
              "    </tr>\n",
              "    <tr>\n",
              "        <td>10</td>\n",
              "        <td>Qui-Gon</td>\n",
              "        <td>Jinn</td>\n",
              "        <td>3</td>\n",
              "        <td>3.9</td>\n",
              "    </tr>\n",
              "    <tr>\n",
              "        <td>1</td>\n",
              "        <td>Anakin</td>\n",
              "        <td>Skywalker</td>\n",
              "        <td>3</td>\n",
              "        <td>3.8</td>\n",
              "    </tr>\n",
              "    <tr>\n",
              "        <td>8</td>\n",
              "        <td>Mace</td>\n",
              "        <td>Windu</td>\n",
              "        <td>3</td>\n",
              "        <td>3.8</td>\n",
              "    </tr>\n",
              "    <tr>\n",
              "        <td>3</td>\n",
              "        <td>Luke</td>\n",
              "        <td>Skywalker</td>\n",
              "        <td>2</td>\n",
              "        <td>3.7</td>\n",
              "    </tr>\n",
              "    <tr>\n",
              "        <td>9</td>\n",
              "        <td>Padme</td>\n",
              "        <td>Amidala</td>\n",
              "        <td>1</td>\n",
              "        <td>3.7</td>\n",
              "    </tr>\n",
              "    <tr>\n",
              "        <td>6</td>\n",
              "        <td>Chewbacca</td>\n",
              "        <td>Wookiee</td>\n",
              "        <td>1</td>\n",
              "        <td>3.5</td>\n",
              "    </tr>\n",
              "    <tr>\n",
              "        <td>5</td>\n",
              "        <td>Rey</td>\n",
              "        <td>Skywalker</td>\n",
              "        <td>1</td>\n",
              "        <td>3.2</td>\n",
              "    </tr>\n",
              "</table>"
            ]
          },
          "metadata": {},
          "execution_count": 15
        }
      ]
    },
    {
      "cell_type": "markdown",
      "source": [
        "#### NATURAL JOIN\n",
        "\n",
        "Often, we'll want to combine data from two or more tables. This is done using a `JOIN`. A `NATURAL JOIN` is a type of join operation that directly matches columns between tables that have the same column name, and returns only one copy of each duplicate column.\n",
        "\n",
        "For example, to list all students along with the classes they're enrolled in, we would use:\n",
        "\n"
      ],
      "metadata": {
        "id": "UR_Abh_GRqSr"
      }
    },
    {
      "cell_type": "code",
      "source": [
        "%%sql\n",
        "\n",
        "SELECT Students.FirstName, Students.LastName, Classes.ClassName\n",
        "FROM Students\n",
        "NATURAL JOIN Enrollment\n",
        "NATURAL JOIN Classes\n"
      ],
      "metadata": {
        "colab": {
          "base_uri": "https://localhost:8080/",
          "height": 326
        },
        "id": "5toxS9rYR00y",
        "outputId": "e6134cd4-a0e4-47e8-dce7-44253fbed79a"
      },
      "execution_count": 16,
      "outputs": [
        {
          "output_type": "stream",
          "name": "stdout",
          "text": [
            " * sqlite:///jedi_academy.db\n",
            "Done.\n"
          ]
        },
        {
          "output_type": "execute_result",
          "data": {
            "text/plain": [
              "[('Anakin', 'Skywalker', 'Advanced Force Techniques'),\n",
              " ('Grogu', '', 'Lightsaber 101'),\n",
              " ('Luke', 'Skywalker', 'Lightsaber 101'),\n",
              " ('Luke', 'Skywalker', 'Advanced Force Techniques'),\n",
              " ('Leia', 'Organa', 'Advanced Force Techniques'),\n",
              " ('Leia', 'Organa', 'Interstellar Diplomacy'),\n",
              " ('Rey', 'Skywalker', 'Lightsaber 101'),\n",
              " ('Chewbacca', 'Wookiee', 'Lightsaber 101'),\n",
              " ('Mara', 'Jade', 'Advanced Force Techniques'),\n",
              " ('Mace', 'Windu', 'Interstellar Diplomacy'),\n",
              " ('Padme', 'Amidala', 'Interstellar Diplomacy'),\n",
              " ('Qui-Gon', 'Jinn', 'Advanced Force Techniques')]"
            ],
            "text/html": [
              "<table>\n",
              "    <tr>\n",
              "        <th>FirstName</th>\n",
              "        <th>LastName</th>\n",
              "        <th>ClassName</th>\n",
              "    </tr>\n",
              "    <tr>\n",
              "        <td>Anakin</td>\n",
              "        <td>Skywalker</td>\n",
              "        <td>Advanced Force Techniques</td>\n",
              "    </tr>\n",
              "    <tr>\n",
              "        <td>Grogu</td>\n",
              "        <td></td>\n",
              "        <td>Lightsaber 101</td>\n",
              "    </tr>\n",
              "    <tr>\n",
              "        <td>Luke</td>\n",
              "        <td>Skywalker</td>\n",
              "        <td>Lightsaber 101</td>\n",
              "    </tr>\n",
              "    <tr>\n",
              "        <td>Luke</td>\n",
              "        <td>Skywalker</td>\n",
              "        <td>Advanced Force Techniques</td>\n",
              "    </tr>\n",
              "    <tr>\n",
              "        <td>Leia</td>\n",
              "        <td>Organa</td>\n",
              "        <td>Advanced Force Techniques</td>\n",
              "    </tr>\n",
              "    <tr>\n",
              "        <td>Leia</td>\n",
              "        <td>Organa</td>\n",
              "        <td>Interstellar Diplomacy</td>\n",
              "    </tr>\n",
              "    <tr>\n",
              "        <td>Rey</td>\n",
              "        <td>Skywalker</td>\n",
              "        <td>Lightsaber 101</td>\n",
              "    </tr>\n",
              "    <tr>\n",
              "        <td>Chewbacca</td>\n",
              "        <td>Wookiee</td>\n",
              "        <td>Lightsaber 101</td>\n",
              "    </tr>\n",
              "    <tr>\n",
              "        <td>Mara</td>\n",
              "        <td>Jade</td>\n",
              "        <td>Advanced Force Techniques</td>\n",
              "    </tr>\n",
              "    <tr>\n",
              "        <td>Mace</td>\n",
              "        <td>Windu</td>\n",
              "        <td>Interstellar Diplomacy</td>\n",
              "    </tr>\n",
              "    <tr>\n",
              "        <td>Padme</td>\n",
              "        <td>Amidala</td>\n",
              "        <td>Interstellar Diplomacy</td>\n",
              "    </tr>\n",
              "    <tr>\n",
              "        <td>Qui-Gon</td>\n",
              "        <td>Jinn</td>\n",
              "        <td>Advanced Force Techniques</td>\n",
              "    </tr>\n",
              "</table>"
            ]
          },
          "metadata": {},
          "execution_count": 16
        }
      ]
    },
    {
      "cell_type": "markdown",
      "source": [
        "This statement will return a result set that includes the `FirstName` and `LastName` from the `Students` table and the `ClassName` from the `Classes` table.\n",
        "\n",
        "The `NATURAL JOIN` keyword implicitly joins `Students` and `Enrollment` on the `StudentID` column (because it is common between these two tables) and then joins that result with `Classes` on the `ClassID` column (since it is common between `Enrollment` and `Classes`).\n",
        "\n",
        "In other words, this query is giving us a list of students along with the names of the classes they are enrolled in.\n",
        "\n",
        "Note: It's important to be careful with `NATURAL JOIN`s, as they automatically match all columns with the same name between the tables. If your tables have any column names in common that aren't meant to be related, you may get unexpected results."
      ],
      "metadata": {
        "id": "HygAyMtJRzYa"
      }
    },
    {
      "cell_type": "markdown",
      "source": [
        "#### COUNT\n",
        "\n",
        "The `COUNT` function returns the number of rows that matches a specified criterion. It is often used with the `SELECT` statement. For example, to find out how many students are enrolled in the Jedi Academy, we would use:"
      ],
      "metadata": {
        "id": "3T2YFrQPT3qE"
      }
    },
    {
      "cell_type": "code",
      "source": [
        "%%sql \n",
        "SELECT COUNT(*) FROM Students;\n"
      ],
      "metadata": {
        "colab": {
          "base_uri": "https://localhost:8080/",
          "height": 95
        },
        "id": "DP3ZlvYwTWOE",
        "outputId": "c2d07dca-d572-42cd-c3f8-399f5cdd5a46"
      },
      "execution_count": 17,
      "outputs": [
        {
          "output_type": "stream",
          "name": "stdout",
          "text": [
            " * sqlite:///jedi_academy.db\n",
            "Done.\n"
          ]
        },
        {
          "output_type": "execute_result",
          "data": {
            "text/plain": [
              "[(10,)]"
            ],
            "text/html": [
              "<table>\n",
              "    <tr>\n",
              "        <th>COUNT(*)</th>\n",
              "    </tr>\n",
              "    <tr>\n",
              "        <td>10</td>\n",
              "    </tr>\n",
              "</table>"
            ]
          },
          "metadata": {},
          "execution_count": 17
        }
      ]
    },
    {
      "cell_type": "markdown",
      "source": [
        "#### LIKE Operator\n",
        "The `LIKE` operator is used in a WHERE clause to search for a specified pattern in a column. For example, to find all students whose names start with 'A', we would use:"
      ],
      "metadata": {
        "id": "QJnEuwJyUAb8"
      }
    },
    {
      "cell_type": "code",
      "source": [
        "%%sql\n",
        "SELECT * FROM Students WHERE FirstName LIKE 'A%';"
      ],
      "metadata": {
        "colab": {
          "base_uri": "https://localhost:8080/",
          "height": 95
        },
        "id": "wAOYFod5UC5E",
        "outputId": "93046109-f612-463c-e65b-8bbfc7234700"
      },
      "execution_count": 18,
      "outputs": [
        {
          "output_type": "stream",
          "name": "stdout",
          "text": [
            " * sqlite:///jedi_academy.db\n",
            "Done.\n"
          ]
        },
        {
          "output_type": "execute_result",
          "data": {
            "text/plain": [
              "[(1, 'Anakin', 'Skywalker', 3, 3.8)]"
            ],
            "text/html": [
              "<table>\n",
              "    <tr>\n",
              "        <th>StudentID</th>\n",
              "        <th>FirstName</th>\n",
              "        <th>LastName</th>\n",
              "        <th>Level</th>\n",
              "        <th>GPA</th>\n",
              "    </tr>\n",
              "    <tr>\n",
              "        <td>1</td>\n",
              "        <td>Anakin</td>\n",
              "        <td>Skywalker</td>\n",
              "        <td>3</td>\n",
              "        <td>3.8</td>\n",
              "    </tr>\n",
              "</table>"
            ]
          },
          "metadata": {},
          "execution_count": 18
        }
      ]
    },
    {
      "cell_type": "markdown",
      "source": [
        "#### `GROUP BY` and `HAVING`\n",
        "`GROUP BY` is a clause in SQL that is used to arrange identical data into groups. The HAVING clause is used instead of WHERE with GROUP BY to filter the groups based on a condition.\n",
        "\n",
        "For example, if we want to know how many students are enrolled in each class, we could use:"
      ],
      "metadata": {
        "id": "rhPXbV2KUH0N"
      }
    },
    {
      "cell_type": "code",
      "source": [
        "%%sql\n",
        "SELECT Classes.ClassName, COUNT(*) AS NumberOfStudents\n",
        "FROM Students\n",
        "NATURAL JOIN Enrollment\n",
        "NATURAL JOIN Classes\n",
        "GROUP BY Classes.ClassID;\n"
      ],
      "metadata": {
        "colab": {
          "base_uri": "https://localhost:8080/",
          "height": 137
        },
        "id": "WGg7XF8qUGq8",
        "outputId": "d46d4ae8-c7e6-4aca-e42d-9eaf9755a5b3"
      },
      "execution_count": 19,
      "outputs": [
        {
          "output_type": "stream",
          "name": "stdout",
          "text": [
            " * sqlite:///jedi_academy.db\n",
            "Done.\n"
          ]
        },
        {
          "output_type": "execute_result",
          "data": {
            "text/plain": [
              "[('Lightsaber 101', 4),\n",
              " ('Advanced Force Techniques', 5),\n",
              " ('Interstellar Diplomacy', 3)]"
            ],
            "text/html": [
              "<table>\n",
              "    <tr>\n",
              "        <th>ClassName</th>\n",
              "        <th>NumberOfStudents</th>\n",
              "    </tr>\n",
              "    <tr>\n",
              "        <td>Lightsaber 101</td>\n",
              "        <td>4</td>\n",
              "    </tr>\n",
              "    <tr>\n",
              "        <td>Advanced Force Techniques</td>\n",
              "        <td>5</td>\n",
              "    </tr>\n",
              "    <tr>\n",
              "        <td>Interstellar Diplomacy</td>\n",
              "        <td>3</td>\n",
              "    </tr>\n",
              "</table>"
            ]
          },
          "metadata": {},
          "execution_count": 19
        }
      ]
    },
    {
      "cell_type": "markdown",
      "source": [
        "This statement groups the result by ClassID, and for each group, it counts the number of students.\n",
        "\n",
        "If we wanted to filter this result to show only classes with more than four students, we would add a `HAVING` clause:"
      ],
      "metadata": {
        "id": "VgIB3LA_USee"
      }
    },
    {
      "cell_type": "code",
      "source": [
        "%%sql\n",
        "SELECT Classes.ClassName, COUNT(*) AS NumberOfStudents\n",
        "FROM Students\n",
        "NATURAL JOIN Enrollment\n",
        "NATURAL JOIN Classes\n",
        "GROUP BY Classes.ClassID\n",
        "HAVING COUNT(*) > 4;\n"
      ],
      "metadata": {
        "colab": {
          "base_uri": "https://localhost:8080/",
          "height": 95
        },
        "id": "y_xZIDF-UUej",
        "outputId": "ddc78a7f-4bf5-412d-96a2-480b6a847e93"
      },
      "execution_count": 20,
      "outputs": [
        {
          "output_type": "stream",
          "name": "stdout",
          "text": [
            " * sqlite:///jedi_academy.db\n",
            "Done.\n"
          ]
        },
        {
          "output_type": "execute_result",
          "data": {
            "text/plain": [
              "[('Advanced Force Techniques', 5)]"
            ],
            "text/html": [
              "<table>\n",
              "    <tr>\n",
              "        <th>ClassName</th>\n",
              "        <th>NumberOfStudents</th>\n",
              "    </tr>\n",
              "    <tr>\n",
              "        <td>Advanced Force Techniques</td>\n",
              "        <td>5</td>\n",
              "    </tr>\n",
              "</table>"
            ]
          },
          "metadata": {},
          "execution_count": 20
        }
      ]
    },
    {
      "cell_type": "markdown",
      "source": [
        "### Additional SQL Functions\n",
        "\n",
        "SQL is not just about creating tables and retrieving data. It also has a rich set of built-in functions to perform calculations or operations on your data. In this section, we'll learn about a few of these: AVG, SUM, MIN, MAX, and DISTINCT.\n",
        "\n",
        "### AVG\n",
        "The `AVG` function calculates the average of a set of values. For example, if you want to find out the average GPA of all students at the Jedi Academy, you would use:"
      ],
      "metadata": {
        "id": "mQqM8S1EXQrt"
      }
    },
    {
      "cell_type": "code",
      "source": [
        "%%sql\n",
        "SELECT AVG(GPA) FROM Students;"
      ],
      "metadata": {
        "colab": {
          "base_uri": "https://localhost:8080/",
          "height": 95
        },
        "id": "DrnDjKbaXQNk",
        "outputId": "c920f060-feb6-4f5e-c5b1-0c28c773f42b"
      },
      "execution_count": 21,
      "outputs": [
        {
          "output_type": "stream",
          "name": "stdout",
          "text": [
            " * sqlite:///jedi_academy.db\n",
            "Done.\n"
          ]
        },
        {
          "output_type": "execute_result",
          "data": {
            "text/plain": [
              "[(3.75,)]"
            ],
            "text/html": [
              "<table>\n",
              "    <tr>\n",
              "        <th>AVG(GPA)</th>\n",
              "    </tr>\n",
              "    <tr>\n",
              "        <td>3.75</td>\n",
              "    </tr>\n",
              "</table>"
            ]
          },
          "metadata": {},
          "execution_count": 21
        }
      ]
    },
    {
      "cell_type": "markdown",
      "source": [
        "#### SUM\n",
        "The `SUM` function calculates the total sum of a numeric column. For example, to find the total level of all students (i.e., the sum of all student levels), you would use:"
      ],
      "metadata": {
        "id": "PQpnvOmcXcLM"
      }
    },
    {
      "cell_type": "code",
      "source": [
        "%%sql\n",
        "SELECT SUM(Level) FROM Students;"
      ],
      "metadata": {
        "colab": {
          "base_uri": "https://localhost:8080/",
          "height": 95
        },
        "id": "HFUFpskLXbrc",
        "outputId": "46872d84-0bd8-46f1-8a7c-9e1aad2de9a2"
      },
      "execution_count": 22,
      "outputs": [
        {
          "output_type": "stream",
          "name": "stdout",
          "text": [
            " * sqlite:///jedi_academy.db\n",
            "Done.\n"
          ]
        },
        {
          "output_type": "execute_result",
          "data": {
            "text/plain": [
              "[(22,)]"
            ],
            "text/html": [
              "<table>\n",
              "    <tr>\n",
              "        <th>SUM(Level)</th>\n",
              "    </tr>\n",
              "    <tr>\n",
              "        <td>22</td>\n",
              "    </tr>\n",
              "</table>"
            ]
          },
          "metadata": {},
          "execution_count": 22
        }
      ]
    },
    {
      "cell_type": "markdown",
      "source": [
        "#### MIN and MAX\n",
        "`MIN` and `MAX` functions return the smallest and largest value in a set of values, respectively. For instance, to find the students with the lowest and highest GPAs, we would use:"
      ],
      "metadata": {
        "id": "BVI6Lq9zXjc8"
      }
    },
    {
      "cell_type": "code",
      "source": [
        "%%sql\n",
        "SELECT MIN(GPA), MAX(GPA) FROM Students;\n"
      ],
      "metadata": {
        "colab": {
          "base_uri": "https://localhost:8080/",
          "height": 95
        },
        "id": "KGu4FDldXnpM",
        "outputId": "e15d01f7-046d-4d41-bd2e-11379e4c03de"
      },
      "execution_count": 23,
      "outputs": [
        {
          "output_type": "stream",
          "name": "stdout",
          "text": [
            " * sqlite:///jedi_academy.db\n",
            "Done.\n"
          ]
        },
        {
          "output_type": "execute_result",
          "data": {
            "text/plain": [
              "[(3.2, 4.0)]"
            ],
            "text/html": [
              "<table>\n",
              "    <tr>\n",
              "        <th>MIN(GPA)</th>\n",
              "        <th>MAX(GPA)</th>\n",
              "    </tr>\n",
              "    <tr>\n",
              "        <td>3.2</td>\n",
              "        <td>4.0</td>\n",
              "    </tr>\n",
              "</table>"
            ]
          },
          "metadata": {},
          "execution_count": 23
        }
      ]
    },
    {
      "cell_type": "markdown",
      "source": [
        "#### DISTINCT\n",
        "The DISTINCT keyword is used in conjunction with SELECT to eliminate all the duplicate records and fetch only the unique ones. Let's say we want to see all the unique levels of students. We can achieve this using the DISTINCT keyword as follows:"
      ],
      "metadata": {
        "id": "5nYCaxjkXrcm"
      }
    },
    {
      "cell_type": "code",
      "source": [
        "%%sql\n",
        "SELECT DISTINCT Level FROM Students;"
      ],
      "metadata": {
        "colab": {
          "base_uri": "https://localhost:8080/",
          "height": 137
        },
        "id": "Mak2A82YXtIs",
        "outputId": "551f546a-a472-4929-ef3e-66b84ea2bef0"
      },
      "execution_count": 24,
      "outputs": [
        {
          "output_type": "stream",
          "name": "stdout",
          "text": [
            " * sqlite:///jedi_academy.db\n",
            "Done.\n"
          ]
        },
        {
          "output_type": "execute_result",
          "data": {
            "text/plain": [
              "[(3,), (2,), (1,)]"
            ],
            "text/html": [
              "<table>\n",
              "    <tr>\n",
              "        <th>Level</th>\n",
              "    </tr>\n",
              "    <tr>\n",
              "        <td>3</td>\n",
              "    </tr>\n",
              "    <tr>\n",
              "        <td>2</td>\n",
              "    </tr>\n",
              "    <tr>\n",
              "        <td>1</td>\n",
              "    </tr>\n",
              "</table>"
            ]
          },
          "metadata": {},
          "execution_count": 24
        }
      ]
    },
    {
      "cell_type": "markdown",
      "source": [
        "Remember, SQL functions offer much more than just these. They can be extremely powerful in processing large amounts of data directly in the database without requiring additional processing in your application or software."
      ],
      "metadata": {
        "id": "WJCth4YWX1gz"
      }
    },
    {
      "cell_type": "markdown",
      "source": [
        "## Table: Basic SQL Commands\n",
        "\n",
        "| SQL Command | Description |\n",
        "| --- | --- |\n",
        "| `CREATE TABLE table_name (col1 INT, col2 VARCHAR(100));` | Create a table 'table_name' with an integer column 'col1' and a string column 'col2'. |\n",
        "| `INSERT INTO table_name (col1, col2) VALUES (1, 'value');` | Insert a new row into 'table_name' with values for 'col1' and 'col2'. |\n",
        "| `SELECT * FROM table_name;` | Retrieve all rows and columns from 'table_name'. |\n",
        "| `SELECT col1, col2 FROM table_name;` | Retrieve 'col1' and 'col2' from all rows in 'table_name'. |\n",
        "| `SELECT * FROM table_name WHERE col1 = 'value';` | Retrieve all rows from 'table_name' where 'col1' is equal to 'value'. |\n",
        "| `SELECT * FROM table_name WHERE col1 LIKE '%value%';` | Retrieve all rows from 'table_name' where 'col1' contains the string 'value'. |\n",
        "| `SELECT COUNT(*) FROM table_name;` | Count the total number of rows in 'table_name'. |\n",
        "| `SELECT col1, COUNT(*) FROM table_name GROUP BY col1;` | Count the number of rows in 'table_name' for each unique value in 'col1'. |\n",
        "| `SELECT col1, COUNT(*) FROM table_name GROUP BY col1 HAVING COUNT(*) > 1;` | Count the number of rows in 'table_name' for each unique value in 'col1', only including groups with more than one row. |\n",
        "| `INSERT INTO table_name (col1, col2) VALUES (2, 'another value');` | Insert another new row into 'table_name' with different values for 'col1' and 'col2'. |\n",
        "| `SELECT * FROM table_name WHERE col2 LIKE 'value%';` | Retrieve all rows from 'table_name' where 'col2' starts with the string 'value'. |\n",
        "| `SELECT * FROM table_name WHERE col1 > 1;` | Retrieve all rows from 'table_name' where 'col1' is greater than 1. |\n",
        "| `SELECT * FROM table_name ORDER BY col1;` | Retrieve all rows from 'table_name', ordered by 'col1' in ascending order. |\n",
        "| `SELECT * FROM table_name ORDER BY col1 DESC;` | Retrieve all rows from 'table_name', ordered by 'col1' in descending order. |\n",
        "| `SELECT col1, AVG(col2) FROM table_name GROUP BY col1;` | Find the average of 'col2' in 'table_name' for each unique value in 'col1'. |\n",
        "| `SELECT col1, SUM(col2) FROM table_name GROUP BY col1;` | Find the sum of 'col2' in 'table_name' for each unique value in 'col1'. |\n",
        "| `SELECT col1, MIN(col2) FROM table_name GROUP BY col1;` | Find the minimum of 'col2' in 'table_name' for each unique value in 'col1'. |\n",
        "| `SELECT col1, MAX(col2) FROM table_name GROUP BY col1;` | Find the maximum of 'col2' in 'table_name' for each unique value in 'col1'. |\n",
        "| `SELECT DISTINCT col1 FROM table_name;` | Retrieve all distinct values of 'col1' from 'table_name'. |\n"
      ],
      "metadata": {
        "id": "slwvemJIU4cS"
      }
    },
    {
      "cell_type": "markdown",
      "source": [
        "## Exercises: Basic SQL\n",
        "Here are some exercises for you to try out. (Some of these appear earlier in the document, but try to do them wihout looking!).\n",
        "\n",
        "1.  Insert a New Student: Add a new student named 'Obi-Wan Kenobi' with a level of 3 and a GPA of 3.8 into the 'Students' table.\n",
        "\n",
        "2.  Retrieve Specific Data: Fetch the 'FirstName' and 'LastName' of all students who are at Level 2.\n",
        "\n",
        "3.  Add a New Class: Create a new class named 'Force 101' and add it to the 'Classes' table.\n",
        "\n",
        "4.  Enroll a Student: Enroll 'Obi-Wan Kenobi' in 'Force 101'. Make sure the 'Enrollment' table is updated accordingly.\n",
        "\n",
        "5.  Count the Students: Find out how many students are enrolled at the Jedi Academy.\n",
        "\n",
        "6.  Find Average GPA: Calculate the average GPA of all students at the Jedi Academy.\n",
        "\n",
        "7.  Student with Highest GPA: Find out who has the highest GPA in the academy. Is it 'Obi-Wan Kenobi'?\n",
        "\n",
        "8.  Students in a Class: Find out the names of all students enrolled in 'Force 101'.\n",
        "\n",
        "9.  Find Unique Levels: Use the DISTINCT keyword to find all unique Levels that the students of Jedi Academy are in.\n",
        "\n",
        "10. Classes per Student: Count the number of classes each student is enrolled in."
      ],
      "metadata": {
        "id": "qKx2W1vNYQLC"
      }
    },
    {
      "cell_type": "code",
      "source": [
        "%%sql\n",
        "-- Query 1:"
      ],
      "metadata": {
        "id": "Ucl_y5N7Ueyh",
        "colab": {
          "base_uri": "https://localhost:8080/"
        },
        "outputId": "de744b57-48f3-442e-a475-7449bbb9e6da"
      },
      "execution_count": 25,
      "outputs": [
        {
          "output_type": "stream",
          "name": "stdout",
          "text": [
            " * sqlite:///jedi_academy.db\n",
            "Done.\n"
          ]
        },
        {
          "output_type": "execute_result",
          "data": {
            "text/plain": [
              "[]"
            ]
          },
          "metadata": {},
          "execution_count": 25
        }
      ]
    },
    {
      "cell_type": "code",
      "source": [
        "%%sql\n",
        "-- Query 2:"
      ],
      "metadata": {
        "id": "rl6TUwhmY46B",
        "colab": {
          "base_uri": "https://localhost:8080/"
        },
        "outputId": "56286f7e-2941-4946-ef6b-8838f186b4a4"
      },
      "execution_count": 26,
      "outputs": [
        {
          "output_type": "stream",
          "name": "stdout",
          "text": [
            " * sqlite:///jedi_academy.db\n",
            "Done.\n"
          ]
        },
        {
          "output_type": "execute_result",
          "data": {
            "text/plain": [
              "[]"
            ]
          },
          "metadata": {},
          "execution_count": 26
        }
      ]
    },
    {
      "cell_type": "code",
      "source": [
        "%%sql\n",
        "-- Query 3:"
      ],
      "metadata": {
        "id": "APLHfFQjY514",
        "colab": {
          "base_uri": "https://localhost:8080/"
        },
        "outputId": "20a88199-4dbb-47ad-c295-e677f4110a3a"
      },
      "execution_count": 27,
      "outputs": [
        {
          "output_type": "stream",
          "name": "stdout",
          "text": [
            " * sqlite:///jedi_academy.db\n",
            "Done.\n"
          ]
        },
        {
          "output_type": "execute_result",
          "data": {
            "text/plain": [
              "[]"
            ]
          },
          "metadata": {},
          "execution_count": 27
        }
      ]
    },
    {
      "cell_type": "code",
      "source": [
        "%%sql\n",
        "-- Query 4:"
      ],
      "metadata": {
        "id": "LULxyO2uY6w6",
        "colab": {
          "base_uri": "https://localhost:8080/"
        },
        "outputId": "2cc2a6fa-27d0-4604-bc3b-8776590bf1af"
      },
      "execution_count": 28,
      "outputs": [
        {
          "output_type": "stream",
          "name": "stdout",
          "text": [
            " * sqlite:///jedi_academy.db\n",
            "Done.\n"
          ]
        },
        {
          "output_type": "execute_result",
          "data": {
            "text/plain": [
              "[]"
            ]
          },
          "metadata": {},
          "execution_count": 28
        }
      ]
    },
    {
      "cell_type": "code",
      "source": [
        "%%sql\n",
        "-- Query 5:"
      ],
      "metadata": {
        "id": "9DKaEfjYY8N4",
        "colab": {
          "base_uri": "https://localhost:8080/"
        },
        "outputId": "241b19ca-dab4-48a8-9f69-33116980cec3"
      },
      "execution_count": 29,
      "outputs": [
        {
          "output_type": "stream",
          "name": "stdout",
          "text": [
            " * sqlite:///jedi_academy.db\n",
            "Done.\n"
          ]
        },
        {
          "output_type": "execute_result",
          "data": {
            "text/plain": [
              "[]"
            ]
          },
          "metadata": {},
          "execution_count": 29
        }
      ]
    },
    {
      "cell_type": "code",
      "source": [
        "%%sql\n",
        "-- Query 6:"
      ],
      "metadata": {
        "id": "UafBJ7v0Y9Fh",
        "colab": {
          "base_uri": "https://localhost:8080/"
        },
        "outputId": "d696696d-d663-46f9-fac6-ee5aa79ec740"
      },
      "execution_count": 30,
      "outputs": [
        {
          "output_type": "stream",
          "name": "stdout",
          "text": [
            " * sqlite:///jedi_academy.db\n",
            "Done.\n"
          ]
        },
        {
          "output_type": "execute_result",
          "data": {
            "text/plain": [
              "[]"
            ]
          },
          "metadata": {},
          "execution_count": 30
        }
      ]
    },
    {
      "cell_type": "code",
      "source": [
        "%%sql\n",
        "-- Query 7:"
      ],
      "metadata": {
        "id": "1kvDM32wY-RB",
        "colab": {
          "base_uri": "https://localhost:8080/"
        },
        "outputId": "1019e4be-ca44-4f0f-c9fe-32f871ee07c2"
      },
      "execution_count": 31,
      "outputs": [
        {
          "output_type": "stream",
          "name": "stdout",
          "text": [
            " * sqlite:///jedi_academy.db\n",
            "Done.\n"
          ]
        },
        {
          "output_type": "execute_result",
          "data": {
            "text/plain": [
              "[]"
            ]
          },
          "metadata": {},
          "execution_count": 31
        }
      ]
    },
    {
      "cell_type": "code",
      "source": [
        "%%sql\n",
        "-- Query 8:"
      ],
      "metadata": {
        "id": "DvQYaEbaY_JR",
        "colab": {
          "base_uri": "https://localhost:8080/"
        },
        "outputId": "765aab58-2a2e-47f7-f63e-6123495a80e2"
      },
      "execution_count": 32,
      "outputs": [
        {
          "output_type": "stream",
          "name": "stdout",
          "text": [
            " * sqlite:///jedi_academy.db\n",
            "Done.\n"
          ]
        },
        {
          "output_type": "execute_result",
          "data": {
            "text/plain": [
              "[]"
            ]
          },
          "metadata": {},
          "execution_count": 32
        }
      ]
    },
    {
      "cell_type": "code",
      "source": [
        "%%sql\n",
        "-- Query 9:\n"
      ],
      "metadata": {
        "id": "Zk6cyA4cY__R",
        "colab": {
          "base_uri": "https://localhost:8080/"
        },
        "outputId": "8dedf93e-6ea2-4d05-eaaa-9e875e9f6b40"
      },
      "execution_count": 33,
      "outputs": [
        {
          "output_type": "stream",
          "name": "stdout",
          "text": [
            " * sqlite:///jedi_academy.db\n",
            "Done.\n"
          ]
        },
        {
          "output_type": "execute_result",
          "data": {
            "text/plain": [
              "[]"
            ]
          },
          "metadata": {},
          "execution_count": 33
        }
      ]
    },
    {
      "cell_type": "code",
      "source": [
        "%%sql\n",
        "-- Query 10:"
      ],
      "metadata": {
        "id": "Y5Nkx1fgZCHo",
        "colab": {
          "base_uri": "https://localhost:8080/"
        },
        "outputId": "f5acda5c-0150-4544-fcf9-6251259c11b5"
      },
      "execution_count": 34,
      "outputs": [
        {
          "output_type": "stream",
          "name": "stdout",
          "text": [
            " * sqlite:///jedi_academy.db\n",
            "Done.\n"
          ]
        },
        {
          "output_type": "execute_result",
          "data": {
            "text/plain": [
              "[]"
            ]
          },
          "metadata": {},
          "execution_count": 34
        }
      ]
    },
    {
      "cell_type": "markdown",
      "source": [
        "##  More SQL: Update and Delete\n",
        "\n",
        "In your journey with SQL, you'll often find situations where you need to update or delete existing data. Perhaps a student's GPA changes, or a class name is updated. The SQL UPDATE statement allows us to modify existing data in our tables.\n",
        "\n",
        "Let's look at how to do this with the Jedi Academy database.\n",
        "\n",
        "### UPDATE Statement\n",
        "The basic syntax for the UPDATE statement in SQL is as follows:\n",
        "\n",
        "```\n",
        "UPDATE table_name\n",
        "SET column1 = value1, column2 = value2, ...\n",
        "WHERE condition;\n",
        "```\n",
        "The SET clause indicates the column names that you want to change and the new values for them. The WHERE clause specifies which rows should be updated. If you leave out the WHERE clause, all rows will be updated!\n",
        "\n",
        "For example, suppose Anakin Skywalker improves his GPA to 3.7. We would then run:"
      ],
      "metadata": {
        "id": "ZrqEoayboz3m"
      }
    },
    {
      "cell_type": "code",
      "source": [
        "%%sql\n",
        "UPDATE Students\n",
        "SET GPA = 3.7\n",
        "WHERE FirstName = 'Anakin' AND LastName = 'Skywalker';\n"
      ],
      "metadata": {
        "colab": {
          "base_uri": "https://localhost:8080/"
        },
        "id": "p4yNCeFCqIU3",
        "outputId": "4ec7e9e5-10c1-4124-98a1-5bc61665a7ec"
      },
      "execution_count": 2,
      "outputs": [
        {
          "output_type": "stream",
          "name": "stderr",
          "text": [
            "UsageError: Cell magic `%%sql` not found.\n"
          ]
        }
      ]
    },
    {
      "cell_type": "markdown",
      "source": [
        "#### Multiple Column Update\n",
        "You can also update multiple columns with a single UPDATE statement. For instance, if Anakin progresses to Level 2 and also changes his GPA, you could do:"
      ],
      "metadata": {
        "id": "oaG4VlkLqWEp"
      }
    },
    {
      "cell_type": "code",
      "source": [
        "%%sql\n",
        "UPDATE Students\n",
        "SET Level = 2, GPA = 3.9\n",
        "WHERE FirstName = 'Anakin' AND LastName = 'Skywalker';\n"
      ],
      "metadata": {
        "colab": {
          "base_uri": "https://localhost:8080/"
        },
        "id": "aDDdycqGqaKV",
        "outputId": "7666ca93-b2cc-4968-9229-ce058b3a0c49"
      },
      "execution_count": 35,
      "outputs": [
        {
          "output_type": "stream",
          "name": "stdout",
          "text": [
            " * sqlite:///jedi_academy.db\n",
            "1 rows affected.\n"
          ]
        },
        {
          "output_type": "execute_result",
          "data": {
            "text/plain": [
              "[]"
            ]
          },
          "metadata": {},
          "execution_count": 35
        }
      ]
    },
    {
      "cell_type": "markdown",
      "source": [
        "Remember: Be careful when using the UPDATE statement, as omitting the WHERE clause will update all rows, which may not be what you want."
      ],
      "metadata": {
        "id": "wvIgbJbAqgzu"
      }
    },
    {
      "cell_type": "markdown",
      "source": [
        "#### DELETE Statement\n",
        "\n",
        "The `DELETE` statement is used to remove existing records from a table. The basic syntax is:\n",
        "\n",
        "```\n",
        "DELETE FROM table_name WHERE condition;\n",
        "```\n",
        "\n",
        "For example, if a student named \"Anakin Skywalker\" has graduated from the Jedi Academy, you might remove him from the 'Students' table with:\n",
        "\n",
        "```\n",
        "DELETE FROM Students WHERE FirstName = 'Anakin' AND LastName = 'Skywalker';\n",
        "```\n",
        "\n",
        "It's important to always include the WHERE clause in a DELETE statement to specify which records to delete. If you leave it out, all records will be deleted!\n",
        "\n",
        "#### TRUNCATE Statement\n",
        "\n",
        "If you want to remove all rows from a table without deleting the table itself, you can use the `TRUNCATE` statement. For example, if all students have graduated and you want to empty the 'Students' table, you can use:\n",
        "\n",
        "```\n",
        "TRUNCATE TABLE Students;\n",
        "```\n",
        "\n",
        "The TRUNCATE statement is faster than using a DELETE statement without a WHERE clause because it doesn't generate individual row delete statements.\n",
        "\n",
        "#### DROP Statement\n",
        "\n",
        "The `DROP` statement is used to delete a table from the database completely. The syntax is:\n",
        "\n",
        "```\n",
        "DROP TABLE table_name;\n",
        "```\n",
        "\n",
        "For instance, if the Jedi Academy decided to completely discontinue the 'Lightsaber Basics' class and remove it from their records, you would use:\n",
        "\n",
        "```\n",
        "DROP TABLE Classes;\n",
        "```\n",
        "\n",
        "Remember, once a table is dropped, it's gone forever, so use this command very carefully!\n",
        "\n",
        "In general, when working with DELETE, TRUNCATE, and DROP, it's important to make sure you've backed up your data and understand the consequences of your actions. The power of SQL comes with the responsibility of managing and protecting your data.\n"
      ],
      "metadata": {
        "id": "V1M5Sc30ri8E"
      }
    },
    {
      "cell_type": "markdown",
      "source": [
        "## Case Study: Alternatives to Relational Databases \n",
        "\n",
        "TO conclude, we'll explore some alternatives to SQL and relational databases. While relational databases, like the one we've been using for the Jedi Academy, are an excellent tool for organizing and querying structured data, they're not always the best fit for every situation. There are many other ways to store and manage data that might be better suited to different kinds of data or different requirements. Let's explore a few of these alternatives.\n",
        "\n",
        "The alternative models we'll be discussing here are sometimes called **NoSQL** databases. As the name suggests, NoSQL databases are a type of database that provides a mechanism for storage and retrieval of data that is modeled in means other than the tabular relations used in relational databases. They are especially useful when dealing with large volumes data with varied \"structures\" that prevent us from making good \"tables\" to fit it in.\n",
        "\n",
        "Let's think about our Jedi Academy for a moment. Imagine that we want to keep track of the interactions between our students outside of class - who they're friends with, who they're rivals with, etc. This kind of data, known as graph data, can be difficult to represent in a relational database but can be handled more easily with a NoSQL database, specifically a graph database.\n",
        "\n",
        "#### Graph Databases\n",
        "\n",
        "Graph databases, such as Neo4j, use graph structures for semantic queries with nodes, edges, and properties to represent and store data. A key concept of the system is the graph, which directly relates data items in the store.\n",
        "\n",
        "In our case, each student could be represented as a node in the graph. Then, each interaction between students - whether they're friends, rivals, or something else - could be represented as an edge connecting two nodes. This would allow us to easily track and analyze the social dynamics at our Jedi Academy.\n",
        "\n",
        "####  Document-Oriented Databases\n",
        "\n",
        "In the Jedi Academy, each student might have a file containing their records, including their academic performance, their abilities, their instructor's observations, and so on. In a traditional relational database, we'd need to split this file up into a bunch of separate tables - one for grades, one for abilities, one for observations, and so on. But what if we could just store each student's entire file as a single item in our database?\n",
        "\n",
        "That's the idea behind document-oriented databases, like MongoDB. In these databases, each item is stored as a document, which contains key-value pairs or key-array pairs (or even nested documents). The document is self-describing, and the schema can vary between documents.\n",
        "\n",
        "In our Jedi Academy example, each student's document might look something like this:\n",
        "\n",
        "```\n",
        "{\n",
        "  \"FirstName\": \"Anakin\",\n",
        "  \"LastName\": \"Skywalker\",\n",
        "  \"Level\": 3,\n",
        "  \"GPA\": 3.7,\n",
        "  \"Abilities\": [\"Force Push\", \"Force Jump\", \"Mind Control\"],\n",
        "  \"Observations\": {\n",
        "    \"Instructor\": \"Obi-Wan\",\n",
        "    \"Notes\": \"Strong in the force but struggles with control\"\n",
        "  }\n",
        "}\n",
        "```\n",
        "\n",
        "The flexibility of document-oriented databases can make them a great choice when dealing with semi-structured data or when the schema might change over time.\n",
        "\n",
        "####  Key-Value Stores\n",
        "\n",
        "Key-value databases, also known as key-value stores, are a type of NoSQL database that uses a simple key-value method to store data. Examples include Redis, DynamoDB, and Riak. In these databases, each item in the database is stored as an attribute name (or 'key'), together with its value. This allows for efficient read/write access to data via the key, which is usually a simple string.\n",
        "\n",
        "Let's say the Jedi Academy wants to create a real-time leaderboard for its students, based on their performance in various skills tests. This is a perfect scenario for a key-value store. The leaderboard could quickly update the score (value) for each student (key) as they progress in their tests.\n",
        "\n",
        "Key-value stores are usually implemented with a hash table, allowing for rapid data access. However, they typically lack the complex querying abilities of other types of databases.\n",
        "\n",
        "####  Object-Oriented Databases\n",
        "\n",
        "Object-oriented databases, such as ObjectDB and db4o, combine database capabilities with object-oriented programming language capabilities. They are able to hold and manipulate complex data models with inheritance, encapsulation, and polymorphism.\n",
        "\n",
        "For instance, consider our Jedi Academy scenario. A student isn't just a record in a database. They have behaviors (studying, practicing with their lightsaber) and they might have special abilities that other students don't have (like a unique Force power). If we're creating an application to manage the academy, and we're using an object-oriented programming language, it could be more natural and efficient to use an object-oriented database to store our data.\n",
        "\n",
        "#### Time-Series Databases\n",
        "\n",
        "Time-series databases (TSDB), such as InfluxDB and TimescaleDB, are optimized for handling time-series data - data that is indexed by time. If the Jedi Academy wanted to monitor and analyze changes over time, such as tracking a student's improvement in their studies, a TSDB could be a suitable choice. It's also useful for logging events and for IoT applications.\n",
        "\n",
        "#### Choosing a Database: to ACID or not\n",
        "\n",
        "Selecting the appropriate type of database for a particular application depends on the specific requirements of the application.\n",
        "\n",
        "Relational databases are ideal for structured data and when **ACID (Atomicity, Consistency, Isolation, Durability)** guarantees are required:\n",
        "\n",
        "1.  Atomicity: Consider a **transaction** where a Jedi student is transferred from one class to another. A transaction like this might involve two (or more) operations: removing the student from the old class (operation 1), and adding them to the new class (operation 2). According to the property of atomicity, these two operations must both occur or neither should occur. If the system fails after operation 1, the entire transaction should be rolled back to ensure the student is not left without a class.\n",
        "\n",
        "2.  Consistency: The Jedi Academy might have a rule that a student can't be enrolled in more than five classes at the same time. The consistency property ensures this rule is always followed. After any transaction (like enrolling a student in a new class), the database must be in a consistent state (i.e., no student is enrolled in more than five classes).\n",
        "\n",
        "3.  Isolation: Suppose two Jedi Masters are concurrently trying to update the grade of the same student. The Isolation property ensures that each Master's updates are carried out separately, one after another, preventing data conflicts.\n",
        "\n",
        "4.  Durability: If a Jedi Master assigns a grade to a student, the durability property guarantees that this update will persist even if the database system crashes immediately afterwards. Once the grade is recorded, it won't be lost.\n",
        "\n",
        "SQL databases, such as the one we're using to manage the Jedi Academy data, are often ACID-compliant, meaning they ensure these properties. This is crucial for the reliability of our operations - we don't want Jedi students disappearing from their classes, or being able to enroll in too many classes.\n",
        "\n",
        "Some NoSQL databases, on the other hand, may relax some of the ACID properties. This could, in theory, allow for faster updates and more scalability. For example, if we had a very large number of Jedi Masters all trying to update student data at the same time, a NoSQL database might handle this more efficiently. However, this might come at the cost of potential inconsistencies - like a student briefly appearing to be in too many classes.\n",
        "\n",
        "Choosing between SQL and NoSQL, and between strict ACID compliance and more flexibility, involves considering the specific needs and constraints of your data system."
      ],
      "metadata": {
        "id": "uXyk1xXosolx"
      }
    },
    {
      "cell_type": "markdown",
      "source": [
        "### Discussion Questions: ALtneratives to SQL\n",
        "1.  NoSQL vs SQL: From what you understand so far, how does the organization of data in a NoSQL database differ from that in a relational (SQL) database? Given that NoSQL databases don't have to store data in a table format, can you think of a scenario at the Jedi Academy where this kind of flexibility might be useful?\n",
        "\n",
        "2.  Document-Oriented Databases: Imagine that you want to keep a detailed \"profile\" for each Jedi student that includes an array of their friends, a list of their mastered skills, and their instructor's notes. Why might a document-oriented database be a good fit for storing these profiles?\n",
        "\n",
        "3.  Graph Databases: In a graph database, data is stored in nodes and the relationships between those nodes. If you wanted to understand the relationship between students at the Jedi Academy, how could a graph database help? Can you think of a type of information or a question that might be difficult to answer with a SQL query but straightforward with a graph database?\n",
        "\n",
        "4.  Key-Value Stores: In a key-value store, data is stored as a collection of key-value pairs. The key is the identifier, and the value is the data associated with the key. How might this type of database be useful for storing information about the Jedi Academy students' scores in different challenges or tests?\n",
        "\n",
        "5.  Object-Oriented Databases: An object-oriented database allows us to store objects---items that contain data and also behavior. If a Jedi student were an object, with data (like name, age) and behavior (like studying or practicing), how could an object-oriented database be a good fit for representing these students?"
      ],
      "metadata": {
        "id": "XbugjtnIuLv2"
      }
    },
    {
      "cell_type": "markdown",
      "source": [
        "## My Answers: Altneratives to SQL\n",
        "\n",
        "1.\n",
        "\n",
        "2.\n",
        "\n",
        "3.\n",
        "\n",
        "4.\n",
        "\n",
        "5."
      ],
      "metadata": {
        "id": "TUAT9YBwuuft"
      }
    },
    {
      "cell_type": "markdown",
      "source": [
        "## Glossary\n",
        "| Term | Definition |\n",
        "| --- | --- |\n",
        "| Data | Raw, unprocessed facts and statistics collected together for reference or analysis. |\n",
        "| Structured Data | Information with a high degree of organization, such that inclusion in a relational database is seamless and readily searchable by simple, straightforward search engine algorithms or other search operations. |\n",
        "| Unstructured Data | Information that doesn't adhere to a predefined data model and is not easily searchable, including data like text and multimedia content. |\n",
        "| Database | An organized collection of data, typically in digital form, designed to model aspects of reality in a way that provides useful information. |\n",
        "| Flat File | A plain text or binary file that contains data in a consistent format without structured relationships. |\n",
        "| Relational Database | A type of database that uses a structure allowing for the identification and access of data in relation to other pieces of data in the database. |\n",
        "| Structured Query Language (SQL) | A programming language used for managing and manipulating relational databases. |\n",
        "| SQLite | A software library that provides a relational database management system with a no-server, self-contained system. |\n",
        "| Database Table | A set of data elements organized using a model of vertical columns and horizontal rows. |\n",
        "| Database Attribute | A characteristic or property of an entity, often represented as a column in a table. |\n",
        "| Database Record | A single, structured data item that consists of a set of attributes (fields or columns) in a table. |\n",
        "| Declarative Language | A style of programming that expresses the logic of a computation without describing its control flow, often used to interact with databases. |\n",
        "| Procedural Language | A type of programming language where the logic is denoted by procedures or routines that explain a sequence of steps to be performed for given inputs to produce outputs. |\n",
        "| Primary Key | A unique identifier for a database record. Each table can have one primary key, which can either be an attribute that uniquely identifies records, or a combination of attributes. |\n",
        "| Foreign Key | An attribute or a set of attributes in one table that matches the primary key of another table, used to link two tables together. |\n",
        "| Transaction | A logical unit of work that contains one or more SQL statements, treated in a coherent and reliable way independent of other transactions. |\n",
        "| ACID | An acronym for Atomicity, Consistency, Isolation, Durability, these are properties of database transactions intended to guarantee validity even in the event of errors, power failures, etc. |\n",
        "| NoSQL | A non-relational database that provides a mechanism for storage and retrieval of data that is modeled in means other than tabular relations used in relational databases. They are especially useful when dealing with large sets of distributed data. |"
      ],
      "metadata": {
        "id": "D409kQLfy4eS"
      }
    },
    {
      "cell_type": "code",
      "source": [],
      "metadata": {
        "id": "5bj7ZZOLqhOB"
      },
      "execution_count": null,
      "outputs": []
    }
  ]
}