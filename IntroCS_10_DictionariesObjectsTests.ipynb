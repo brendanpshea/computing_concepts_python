{
  "nbformat": 4,
  "nbformat_minor": 0,
  "metadata": {
    "colab": {
      "provenance": [],
      "authorship_tag": "ABX9TyP9TG1Xg5bolh5N/dnIe5Kf",
      "include_colab_link": true
    },
    "kernelspec": {
      "name": "python3",
      "display_name": "Python 3"
    },
    "language_info": {
      "name": "python"
    }
  },
  "cells": [
    {
      "cell_type": "markdown",
      "metadata": {
        "id": "view-in-github",
        "colab_type": "text"
      },
      "source": [
        "<a href=\"https://colab.research.google.com/github/brendanpshea/computing_concepts_python/blob/main/IntroCS_10_DictionariesObjectsTests.ipynb\" target=\"_parent\"><img src=\"https://colab.research.google.com/assets/colab-badge.svg\" alt=\"Open In Colab\"/></a>"
      ]
    },
    {
      "cell_type": "markdown",
      "source": [
        "# From Data Structures to Software Engineering\n",
        "### Brendan Shea, PhD\n",
        "\n",
        "\n",
        "In this chapter, we delve into the versatile world of **dictionaries** in Python, explore the object-oriented paradigm through **objects**, learn the meticulous art of **testing** our code, and acquaint ourselves with the fundamental methodologies of **software engineering**.\n",
        "\n",
        "**Dictionaries** are Python's built-in data structure for storing collections of key-value pairs. They offer a powerful way to organize data that is inherently paired in nature, much like a real-life dictionary holds word-definition pairs. As we explore dictionaries, you'll learn how to efficiently store and retrieve data, making your programs both faster and more expressive.\n",
        "\n",
        "Moving from data structures to design, we examine **objects**, the building blocks of object-oriented programming. Objects allow us to model real-world entities within our code, encapsulating related data and behavior. This abstraction not only makes your code more intuitive but also paves the way for more complex and maintainable software designs.\n",
        "\n",
        "With a strong foundation in these structures, we turn to **testing**, a critical practice in programming. We introduce **unit tests**, small and focused tests that examine individual parts of your program. By learning to write and interpret these tests, you'll be able to ensure your code behaves as expected and to maintain this assurance through changes and enhancements.\n",
        "\n",
        "Finally, we address the larger picture with an introduction to **basic software engineering**. This field is more than just writing code; it's about applying systematic, disciplined, and quantifiable approaches to the development, operation, and maintenance of software. We'll contrast the **Waterfall** and **Agile** methodologies, providing you with a perspective on how software can be developed and managed effectively."
      ],
      "metadata": {
        "id": "azXOu982ylNz"
      }
    },
    {
      "cell_type": "markdown",
      "source": [
        "## Brendan's Lecture\n",
        "Run the following cell to launch my lecture."
      ],
      "metadata": {
        "id": "ML_hbCYBhMYG"
      }
    },
    {
      "cell_type": "code",
      "source": [
        "from IPython.display import YouTubeVideo\n",
        "YouTubeVideo('qs-oCMJxXxA', width=800, height=500)"
      ],
      "metadata": {
        "id": "iNh-zJwjhPt2",
        "outputId": "c37e24a3-5192-4d92-ec93-41250c08368a",
        "colab": {
          "base_uri": "https://localhost:8080/",
          "height": 521
        }
      },
      "execution_count": null,
      "outputs": [
        {
          "output_type": "execute_result",
          "data": {
            "text/plain": [
              "<IPython.lib.display.YouTubeVideo at 0x7f191cdcf820>"
            ],
            "text/html": [
              "\n",
              "        <iframe\n",
              "            width=\"800\"\n",
              "            height=\"500\"\n",
              "            src=\"https://www.youtube.com/embed/qs-oCMJxXxA\"\n",
              "            frameborder=\"0\"\n",
              "            allowfullscreen\n",
              "            \n",
              "        ></iframe>\n",
              "        "
            ],
            "image/jpeg": "[encoded data removed]"
          },
          "metadata": {},
          "execution_count": 8
        }
      ]
    },
    {
      "cell_type": "markdown",
      "source": [
        "## What is a Dictionary? How Do I Use Them in Python?\n",
        "\n",
        "A **Python dictionary** is a built-in data type that allows you to store a collection of **key-value pairs**. Each key is linked to a specific value. When you provide a key, Python returns the value associated with that key. Keys must be unique within a single dictionary, and they are typically strings or numbers but can be any immutable type. The values, on the other hand, can be of any data type and can be repeated across different keys. Dictionaries are particularly useful when you need to associate a set of values with keys to retrieve them efficiently by key, rather than by position as you would with a list.\n",
        "\n",
        "The core operations you can perform with dictionaries include:\n",
        "\n",
        "- **Creating a dictionary** by placing comma-separated key-value pairs within curly braces `{}`.\n",
        "- **Accessing values** by referencing the key in square brackets `[]`.\n",
        "- **Adding or modifying items** by assigning a value to a key.\n",
        "- **Deleting items** using the `del` keyword or the `pop()` method.\n",
        "- **Checking for the existence of a key** using the `in` keyword.\n",
        "- **Iterating over a dictionary** to access keys, values, or both.\n",
        "\n",
        "Below are some of the essential syntax examples related to dictionaries:\n",
        "\n",
        "- **Creation**: `my_dict = { 'key1': 'value1', 'key2': 'value2' }`\n",
        "- **Accessing values**: `value = my_dict['key1']`\n",
        "- **Adding a new key-value pair**: `my_dict['new_key'] = 'new_value'`\n",
        "- **Modifying an existing key**: `my_dict['key1'] = 'updated_value'`\n",
        "- **Deleting a key-value pair**: `del my_dict['key1']` or `removed_value = my_dict.pop('key1')`\n",
        "- **Checking for a key**: `if 'key1' in my_dict: ...`\n",
        "- **Iterating keys**: `for key in my_dict.keys(): ...`\n",
        "- **Iterating values**: `for value in my_dict.values(): ...`\n",
        "- **Iterating key-value pairs**: `for key, value in my_dict.items(): ...`\n",
        "\n",
        "These operations make dictionaries a flexible tool for representing complex information, such as a database of books where each book's title is a key linked to information about the book.\n"
      ],
      "metadata": {
        "id": "NpTdSknk6ZRv"
      }
    },
    {
      "cell_type": "code",
      "source": [
        "# Example Python code demonstrating some of the dictionary operations listed above\n",
        "\n",
        "# Creating a dictionary with book titles as keys and authors as values\n",
        "books = {\n",
        "    \"Hamlet\": \"William Shakespeare\",\n",
        "    \"Middlemarch\": \"George Eliot\",\n",
        "    \"The Republic\": \"Plato\",\n",
        "    \"Never Let Me Go\": \"Kazuo Ishiguro\"\n",
        "    # More items can be added here\n",
        "}\n",
        "\n",
        "# Accessing the author of Middlemarch\n",
        "author_of_middlemarch = books[\"Middlemarch\"]\n",
        "\n",
        "# Adding a new book to the database\n",
        "books[\"Good Omens\"] = \"Terry Pratchett & Neil Gaiman\"\n",
        "\n",
        "# Modifying the author of an existing book\n",
        "books[\"Good Omens\"] = \"Terry Pratchett and Neil Gaiman\"\n",
        "\n",
        "# Deleting a book from the database\n",
        "del books[\"The Republic\"]\n",
        "\n",
        "# Checking if a book is in the database and printing the author\n",
        "if \"Middlemarch\" in books:\n",
        "    print(\"The author of Middlemarch is:\", books[\"Middlemarch\"])\n",
        "\n",
        "# Iterating over the dictionary and printing out each book and author\n",
        "for book, author in books.items():\n",
        "    print(f\"'{book}' is written by {author}\")\n"
      ],
      "metadata": {
        "colab": {
          "base_uri": "https://localhost:8080/"
        },
        "id": "W1eq0vsA6beK",
        "outputId": "5725d127-7637-4523-9a0e-9e8b9df28645"
      },
      "execution_count": null,
      "outputs": [
        {
          "output_type": "stream",
          "name": "stdout",
          "text": [
            "The author of Middlemarch is: George Eliot\n",
            "'Hamlet' is written by [12321, 23423]\n",
            "'Middlemarch' is written by George Eliot\n",
            "'Never Let Me Go' is written by Kazuo Ishiguro\n",
            "'Good Omens' is written by Terry Pratchett and Neil Gaiman\n"
          ]
        }
      ]
    },
    {
      "cell_type": "markdown",
      "source": [
        "## How Do Dictionaries Differ From Lists?\n",
        "\n",
        "**Dictionaries** and **lists** in Python are both mutable, iterable data structures that can store collections of items. However, their use-cases and the way they handle data are significantly different.\n",
        "\n",
        "The primary difference lies in how they store elements. A **list** is an ordered sequence of items. Each item in a list has an assigned index value. You use the index to access the item, which means that items are accessed by their position. Lists are created using square brackets `[]`.\n",
        "\n",
        "In contrast, a **dictionary** stores items in key-value pairs. This means that each item is a combination of a key and a value, and items are accessed by the key rather than by their position. Dictionaries do not maintain any order, and the keys provide a symbolic, descriptive handle to retrieve the corresponding values. Dictionaries are created using curly braces `{}`.\n",
        "\n",
        "Here are three cases where a dictionary might be preferable over a list:\n",
        "\n",
        "1. **When You Need a Logical Association Between Pairs**: Dictionaries are ideal when you're dealing with data that naturally forms pairs. For example, if you are storing information about books where you need to retrieve details based on titles, a dictionary allows you to access these details using the book title as the key."
      ],
      "metadata": {
        "id": "REc5XK847QOW"
      }
    },
    {
      "cell_type": "code",
      "source": [
        "# Use-Case 1: Storing book information with logical association\n",
        "library_catalog = {\n",
        "    \"978-0451524935\": {\"title\": \"1984\", \"author\": \"George Orwell\", \"copies_available\": 12},\n",
        "    \"978-0307277785\": {\"title\": \"Brave New World\", \"author\": \"Aldous Huxley\", \"copies_available\": 8},\n",
        "    # More books can be added here with their ISBN as the key\n",
        "}\n",
        "\n",
        "for key, value in library_catalog.items():\n",
        "  print(key, value)"
      ],
      "metadata": {
        "colab": {
          "base_uri": "https://localhost:8080/"
        },
        "id": "ACfo4_zz72dS",
        "outputId": "cfb58d61-7d02-4000-ab5f-9f50ba453932"
      },
      "execution_count": null,
      "outputs": [
        {
          "output_type": "stream",
          "name": "stdout",
          "text": [
            "978-0451524935 {'title': '1984', 'author': 'George Orwell', 'copies_available': 12}\n",
            "978-0307277785 {'title': 'Brave New World', 'author': 'Aldous Huxley', 'copies_available': 8}\n"
          ]
        }
      ]
    },
    {
      "cell_type": "markdown",
      "source": [],
      "metadata": {
        "id": "S1yxU4Gu7zGA"
      }
    },
    {
      "cell_type": "markdown",
      "source": [
        "2. **When You Require Fast Lookups by Key**: If you need to frequently access elements and the logical key is known, dictionaries provide a more efficient way for lookup operations because they use a hashing mechanism under the hood. For example, retrieving user details by username is more efficient using a dictionary."
      ],
      "metadata": {
        "id": "Nji8Mn8P7rAF"
      }
    },
    {
      "cell_type": "code",
      "source": [
        "# Use-Case 2: Fast lookup by key for a book inventory system\n",
        "book_inventory = {\n",
        "    \"978-0451524935\": {\"location\": \"Aisle 3\", \"status\": \"checked out\"},\n",
        "    \"978-0307277785\": {\"location\": \"Aisle 1\", \"status\": \"available\"},\n",
        "    # More books can be added here with their ISBN as the key\n",
        "}\n",
        "status_of_1984 = book_inventory[\"978-0451524935\"][\"status\"]  # Quick access using the ISBN\n",
        "\n",
        "for key, value in book_inventory.items():\n",
        "  print(key, value)"
      ],
      "metadata": {
        "colab": {
          "base_uri": "https://localhost:8080/"
        },
        "id": "82Ro4McC8PPY",
        "outputId": "00bcea9a-95d6-4cad-b787-62fc202ce87f"
      },
      "execution_count": null,
      "outputs": [
        {
          "output_type": "stream",
          "name": "stdout",
          "text": [
            "978-0451524935 {'location': 'Aisle 3', 'status': 'checked out'}\n",
            "978-0307277785 {'location': 'Aisle 1', 'status': 'available'}\n"
          ]
        }
      ]
    },
    {
      "cell_type": "markdown",
      "source": [
        "3. **When Data is Being Constantly Modified**: If your data set is dynamic, where elements are being added and removed frequently, dictionaries can be more performant because adding or removing a key-value pair does not affect the order or position of other elements, unlike lists.\n"
      ],
      "metadata": {
        "id": "kFptqYeD7twK"
      }
    },
    {
      "cell_type": "code",
      "source": [
        "# Use-Case 3: Dynamic data modification in a book tracking system\n",
        "reading_list = {\n",
        "    \"978-0141439563\": {\"title\": \"Pride and Prejudice\", \"author\": \"Jane Austen\", \"read_status\": False},\n",
        "    \"978-0679783268\": {\"title\": \"1984\", \"author\": \"George Orwell\", \"read_status\": True},\n",
        "    # More books can be added here with their ISBN as the key\n",
        "}\n",
        "# Marking \"Pride and Prejudice\" as read\n",
        "reading_list[\"978-0141439563\"][\"read_status\"] = True\n",
        "# Adding a new book to the reading list\n",
        "reading_list[\"978-0439023528\"] = {\"title\": \"The Hunger Games\", \"author\": \"Suzanne Collins\", \"read_status\": False}\n",
        "# Removing \"1984\" from the reading list after completion\n",
        "del reading_list[\"978-0679783268\"]"
      ],
      "metadata": {
        "id": "ShjVp_4z8osU"
      },
      "execution_count": null,
      "outputs": []
    },
    {
      "cell_type": "markdown",
      "source": [
        "## Application of Key-Value Structures in Computer Science\n",
        "\n",
        "Key-value structures, such as dictionaries in Python, are foundational to computer science and are utilized extensively due to their efficiency and flexibility. They are based on the **abstract data type** known as a **map**, which associates unique keys to specific values. This simple yet powerful structure enables rapid data retrieval, akin to looking up a word in a dictionary to find its definition.\n",
        "\n",
        "In computer science, key-value pairs are employed in various scenarios:\n",
        "\n",
        "- Many **NoSQL databases**, like MongoDB and Redis, use a key-value model to store data, allowing for quick data retrieval, flexible schemas, and easy scalability.\n",
        "\n",
        "- Key-value pairs are ideal for **caching** mechanisms where quick access to data is crucial. Caching systems store temporary data associated with a key that can be retrieved without the overhead of a full database query.\n",
        "\n",
        "- Applications often use key-value pairs for **configuration settings**, where the key is the setting name and the value is the setting’s parameter.\n",
        "\n",
        "- In programming, **associative arrays (or maps)** use keys to access stored values, providing a way to maintain a collection of objects that are indexed by a keyword or identifier.\n",
        "\n",
        "- Underlying many key-value structures is the concept of a **hash table**, where a hash function is used to convert the key into an index in an array where the value is stored. This allows for constant time complexity $(O(1))$ for lookups, insertions, and deletions.\n",
        "\n",
        "-  Operating systems use key-value pairs to keep track of allocated memory and resources, with keys representing memory addresses and values detailing the allocation information.\n",
        "\n",
        "-  In object-oriented programming, **objects** can be seen as key-value stores with attribute names as keys and attribute values as values. This simplifies the storage and retrieval of object state.\n",
        "\n",
        "The ubiquity of key-value structures across computer science disciplines underlines their importance. They allow developers to store and manage data in a way that is both intuitive and efficient, making them indispensable for both fundamental and advanced computational tasks.\n"
      ],
      "metadata": {
        "id": "pUF9Ytk7-rnG"
      }
    },
    {
      "cell_type": "markdown",
      "source": [
        "Dictionaries provide a more intuitive way to structure data when the relationship between elements is key, and the complexity of data access patterns demands both clarity and performance."
      ],
      "metadata": {
        "id": "fuUd63FE8uCp"
      }
    },
    {
      "cell_type": "markdown",
      "source": [
        "## Code to Know: Dictionaries\n",
        "| Python Code                             | Description                                                                                   |\n",
        "|-----------------------------------------|-----------------------------------------------------------------------------------------------|\n",
        "| cars = {} | Initializes an empty dictionary named `cars`. |\n",
        "| cars['make'] = 'Toyota' | Adds a key 'make' with value 'Toyota' to the `cars` dictionary.                               |\n",
        "| cars['model'] = 'Corolla'               | Inserts a key 'model' with the value 'Corolla' into the `cars` dictionary.                    |\n",
        "| cars['year'] = 2021                     | Sets the key 'year' to 2021 in the `cars` dictionary.                                         |\n",
        "| cars['color'] = 'red'                   | Assigns the key 'color' the value 'red' in the `cars` dictionary.                             |\n",
        "| cars.get('make', 'Unknown')             | Retrieves the value for 'make' in `cars`, returning 'Unknown' if the key does not exist.      |\n",
        "| 'color' in cars                         | Checks for the existence of the key 'color' in the `cars` dictionary, yielding a boolean.     |\n",
        "| cars.keys()                             | Returns all the keys in the `cars` dictionary.                                                |\n",
        "| cars.values()                           | Lists all the values in the `cars` dictionary.                                                |\n",
        "| del cars['year']                        | Removes the key 'year' and its value from the `cars` dictionary.                              |\n",
        "| cars.update({'year': 2022, 'color': 'blue'}) | Updates `cars` with a new 'year' (2022) and a new 'color' ('blue').                    |\n"
      ],
      "metadata": {
        "id": "Kf2Ys9aA0v0e"
      }
    },
    {
      "cell_type": "markdown",
      "source": [
        "## Exercises: THe Library of Babel\n",
        "\n",
        "## Exercise 1: Simple Dictionary Creation\n",
        "Create a dictionary representing a book in the Library of Babel. The dictionary should have keys for `title`, `author`, and `page_count`. Initialize it with any fictional data about a book you like.\n",
        "\n",
        "**Hint**: Use curly braces `{}` to create a dictionary with `key: value` pairs. Remember, keys are unique identifiers, and values are the data associated with those keys.\n",
        "\n",
        "\n"
      ],
      "metadata": {
        "id": "AMesSejw_Ow6"
      }
    },
    {
      "cell_type": "code",
      "source": [],
      "metadata": {
        "id": "UerHbmeOADXC"
      },
      "execution_count": null,
      "outputs": []
    },
    {
      "cell_type": "markdown",
      "source": [
        "\n",
        "## Exercise 2: Accessing Dictionary Values\n",
        "Using the dictionary from Exercise 1, write a program that prints out a statement about the book using all of the information in the dictionary.\n",
        "\n",
        "**Hint**: You can access the value of a key by using the syntax `dictionary[key]`. Construct a string that incorporates these values using f-string formatting, which allows you to include variables directly within the string using curly braces `{}`.\n"
      ],
      "metadata": {
        "id": "Y-sgtTQp_iQ2"
      }
    },
    {
      "cell_type": "code",
      "source": [],
      "metadata": {
        "id": "VvGADfdcACpV"
      },
      "execution_count": null,
      "outputs": []
    },
    {
      "cell_type": "markdown",
      "source": [
        "## Exercise 3: Modifying Dictionary Entries\n",
        "The Library of Babel is said to contain all possible books.\n",
        "1. Write a program that changes the `author` of the book to \"Jorge Luis Borges\" and\n",
        "2. Add a new key-value pair for `genre`, which should be \"Fiction\".\n",
        "\n",
        "**Hint**: Assign a new value to an existing key by using `dictionary[key] = new_value`. To add a new key-value pair, use the same syntax with a new key.\n",
        "\n"
      ],
      "metadata": {
        "id": "661f8g4L_jo3"
      }
    },
    {
      "cell_type": "code",
      "source": [],
      "metadata": {
        "id": "cAOsTFAXAA9M"
      },
      "execution_count": null,
      "outputs": []
    },
    {
      "cell_type": "markdown",
      "source": [
        "### Exercise 4\n",
        "Imagine the Library of Babel's organizational system is a dictionary where the keys are genres and the values are lists of book titles.\n",
        "1. Create such a dictionary with at least three genres, and two books per genre.\n",
        "2. Write a program that iterates over the dictionary and prints out each genre, followed by the titles of the books in that genre.\n",
        "\n",
        "**Hint**: Use a `for` loop with the `.items()` method on your dictionary to get both the key and the value in each iteration. The `for` loop should follow the structure `for key, value in dictionary.items():`.\n"
      ],
      "metadata": {
        "id": "BRUyKwVk_k4M"
      }
    },
    {
      "cell_type": "code",
      "source": [],
      "metadata": {
        "id": "BE7pnrXpAMC9"
      },
      "execution_count": null,
      "outputs": []
    },
    {
      "cell_type": "markdown",
      "source": [
        "\n",
        "### Exercise 5 (Challenge/Optional)\n",
        "The Library of Babel is infinite.\n",
        "\n",
        "1. Create a nested dictionary where each key is a hexagon room number (1 to 8) and the value is another dictionary with keys for `books` (a list of book titles) and `exits` (a list of adjoining hexagon numbers from 1 to 8).\n",
        "2. Now, Write a function that takes a hexagon room number and prints out the details of the room, including the titles of the books and the adjoining rooms it connects to.\n",
        "\n",
        "**Hint**: Nested dictionaries are accessed using consecutive square brackets `dictionary[key1][key2]`. When defining the function, use the `.get()` method to handle cases where a hexagon number might not exist, which avoids a KeyError by returning `None` if the key is not found.\n"
      ],
      "metadata": {
        "id": "GyHY0Hxm_mAR"
      }
    },
    {
      "cell_type": "markdown",
      "source": [
        "## Classes and Objects in Python\n",
        "\n",
        "In Python, a **class** is a construct that allows you to create your own custom **data types** by grouping data and functions that operate upon that data. This data and functions together are referred to as the **attributes** and **methods** of the class, respectively. When you define a class, you create a new object type with a name you select, followed by a suite of attributes and methods. An **object**, on the other hand, is an individual instance of a class. It's a concrete example that embodies the class's structure and behavior. Creating an object from a class is called **instantiation**, and this object is then an instance of the class.\n",
        "\n",
        "Using classes and objects can make a program more modular and easier to understand and maintain. When defining a class, the `__init__` method is what we call the **constructor**. It is automatically called when a new instance of the class is created and typically is used to initialize the object's attributes. Within class methods, the `self` parameter refers to the instance calling the method, allowing access to the attributes and other methods on the same object, which means you can use the data within the object to affect its behavior.\n"
      ],
      "metadata": {
        "id": "zvF0jIQkCyAy"
      }
    },
    {
      "cell_type": "code",
      "source": [
        "# Define a class named Animal\n",
        "class Animal:\n",
        "    # The __init__ method is the constructor where we initialize the attributes of an object.\n",
        "    def __init__(self, name, species):\n",
        "        # self.name and self.species are attributes of the class.\n",
        "        self.name = name\n",
        "        self.species = species\n",
        "        self.hunger = 2  # A simple attribute to track hunger level, initialized to 2.\n",
        "\n",
        "    # A method to simulate feeding the animal.\n",
        "    def feed(self):\n",
        "        if self.hunger > 0:  # Check if the animal is hungry\n",
        "            self.hunger -= 1  # Reduce hunger level by 1\n",
        "            return f\"{self.name} is being fed.\"\n",
        "        else:\n",
        "            return f\"{self.name} is not hungry.\"\n",
        "\n",
        "    # A method to simulate playing with the animal.\n",
        "    def play(self):\n",
        "        return f\"{self.name} is playing.\""
      ],
      "metadata": {
        "id": "HnjlZZusBKpQ"
      },
      "execution_count": 4,
      "outputs": []
    },
    {
      "cell_type": "markdown",
      "source": [
        "### Examining `Animal`\n",
        "In the paradigm of object-oriented programming, we structure our code by creating models of real-world or conceptual entities known as classes. A class can be thought of as a blueprint or a template from which objects are created. These objects are known as instances of a class.\n",
        "\n",
        "####  The Constructor: `__init__`\n",
        "\n",
        "A **constructor** is a special method in a class that is automatically invoked when a new object of the class is instantiated. In Python, the constructor method is named `__init__`. This method is crucial as it allows the programmer to set up the initial state of the object by assigning values to the object's properties. In the `Animal` class, the constructor takes two parameters besides `self`---`name` and `species`---and initializes them. It also initializes a `hunger` attribute to a default value of 2. The `self` keyword is a reference to the current instance of the class, and it is used to access variables and methods associated with that instance.\n",
        "\n",
        "#### Methods: `feed` and `play`\n",
        "\n",
        "In a class, **methods** are functions that define the behaviors of an object. In the `Animal` class, there are two methods: `feed` and `play`. The `feed` method represents the action of feeding the animal and modifies the `hunger` attribute of the instance. If the `hunger` is greater than 0, it will be decreased by 1, simulating that the animal has been fed. The `play` method is simpler; it just signifies that the animal is playing, returning a playful message.\n",
        "\n",
        "#### Creating Objects from a Class\n",
        "\n",
        "To create an **object** from a class, we simply call the class using its name followed by a pair of parentheses containing the arguments that the `__init__` method accepts, except for `self`. For example, to create an instance of `Animal`, we could write `my_pet = Animal(\"Fido\", \"Dog\")`. This creates an `Animal` object with the name \"Fido\" and species \"Dog\". The `my_pet` variable now holds a reference to this new object.\n",
        "\n",
        "By encapsulating properties like `name`, `species`, and `hunger` along with the methods `feed` and `play` within the `Animal` class, we create a neat package that represents an animal in code. Each animal instance can have its own unique properties, but they all share the same structure and behaviors defined by the class.\n",
        "\n",
        "To recap: a class in Python encapsulates data and functionality together. The constructor method sets up the initial state of a new object, methods define the object's behaviors, and objects are individual instances of a class with their own specific data. This organization of code into classes and objects allows for more manageable, reusable, and scalable code, which is why OOP is such a fundamental concept in modern programming."
      ],
      "metadata": {
        "id": "JEv7nGVkGx2T"
      }
    },
    {
      "cell_type": "code",
      "source": [
        "# Now, let's try out our class!\n",
        "\n",
        "# Instantiate an object of the Animal class\n",
        "my_pet = Animal(\"Fido\", \"Dog\")\n",
        "\n",
        "# Call methods of the my_pet object\n",
        "print(my_pet.feed())\n",
        "print(my_pet.feed())\n",
        "print(my_pet.feed())\n",
        "\n",
        "print(my_pet.play())"
      ],
      "metadata": {
        "colab": {
          "base_uri": "https://localhost:8080/"
        },
        "id": "dbWR7T-NDVep",
        "outputId": "a3812387-4849-4e8b-87a0-9fe62a1e5a42"
      },
      "execution_count": null,
      "outputs": [
        {
          "output_type": "stream",
          "name": "stdout",
          "text": [
            "Fido is being fed.\n",
            "Fido is being fed.\n",
            "Fido is not hungry.\n",
            "Fido is playing.\n"
          ]
        }
      ]
    },
    {
      "cell_type": "markdown",
      "source": [
        "## What is Object-Oriented Design (OOD)?\n",
        "Object-Oriented Design (OOD) is a programming paradigm that uses \"objects\" to design applications and computer programs. It utilizes several techniques from Object-Oriented Programming (OOP) to plan a system of interacting objects for the purpose of solving a software problem. Here are three fundamental concepts of OOD that are particularly useful:\n",
        "\n",
        "\n",
        "### Encapsulation\n",
        "\n",
        "*Encapsulation** involves the idea of hiding the internal state of an object and requiring all interaction to be performed through an object's methods. This leads to a couple of key benefits: it protects the object's integrity by preventing outside interference and misuse of its state, and it makes the code more maintainable and understandable.\n",
        "\n",
        "- In an `Animal` class, you may have a private attribute `hunger_level` that shouldn't be modified directly. Encapsulation allows you to provide a public method `feed()` that decreases the `hunger_level` without exposing the details of how `hunger_level` is managed.\n",
        "\n",
        "- If you have a method `__update_health()` in your `Animal` class that calculates the health based on various factors like age, hunger, and activity, encapsulation will ensure that this method is not called directly from outside the class. Instead, you can have a public method `check_health()` that internally calls `__update_health()`.\n",
        "\n",
        "### Inheritance\n",
        "\n",
        "**Inheritance** is a mechanism for creating a new class that inherits attributes and methods from an existing class. This concept promotes code reusability and establishes a natural hierarchy between classes.\n",
        "\n",
        "- Suppose you have a base class `Animal`. You can create a subclass `Dog` that inherits from `Animal` and automatically gains all its attributes and behaviors. You can then add dog-specific behavior, such as `bark()`, to the `Dog` class.\n",
        "\n",
        "- Similarly, if you have another subclass `Cat` derived from `Animal`, it will inherit the same properties. You can add cat-specific behavior, such as `purr()`. Both `Dog` and `Cat` share the common structure and behaviors of `Animal` but also define their unique features.\n",
        "\n",
        "### Polymorphism\n",
        "\n",
        "**Polymorphism** allows objects to be treated as instances of their parent class rather than their actual class. Objects of different classes can be treated as objects of a common superclass.\n",
        "\n",
        "- If `Dog` and `Cat` are subclasses of `Animal`, a method `make_sound()` defined in `Animal` can be overridden in both `Dog` and `Cat` to bark and purr, respectively. When you call `make_sound()` on an `Animal` object, it will behave correctly according to whether the object is actually a `Dog` or a `Cat`.\n",
        "\n",
        "- You can have a method `show_affection()` in your `Animal` class that behaves differently depending on the type of animal. A `Dog` might show affection by wagging its tail, whereas a `Cat` might do so by nuzzling against you. Polymorphism allows the correct behavior to occur regardless of the type of object, as long as each subclass provides its own implementation of `show_affection()`.\n",
        "\n",
        "These ideas, while simple in conception, turn out to be very powerful in practice. There are many books and classes devoted to exploring the features of this style of programming."
      ],
      "metadata": {
        "id": "2L2gt5R3IXof"
      }
    },
    {
      "cell_type": "code",
      "source": [
        "# Define a base class for all animals\n",
        "class Animal:\n",
        "    def __init__(self, name):\n",
        "        self.name = name  # Public attribute to store the name of the animal\n",
        "        self._hunger = 5  # Protected attribute to represent hunger level\n",
        "\n",
        "    # Public method to feed the animal\n",
        "    def feed(self):\n",
        "        if self._hunger > 0:\n",
        "            self._hunger -= 1\n",
        "            print(f\"{self.name} has been fed.\")\n",
        "        else:\n",
        "            print(f\"{self.name} is not hungry.\")\n",
        "\n",
        "    # Public method to simulate playing with the animal\n",
        "    def play(self):\n",
        "        print(f\"{self.name} is playing and having fun!\")\n",
        "\n",
        "    # A generic public method to make a sound, to be overridden by subclasses\n",
        "    def make_sound(self):\n",
        "        print(f\"{self.name} makes a generic sound.\")\n",
        "\n",
        "# Define a Dog class that inherits from Animal\n",
        "class Dog(Animal):\n",
        "    # Dog has its own constructor to initialize additional dog-specific attributes\n",
        "    def __init__(self, name, breed):\n",
        "        super().__init__(name)  # Call the constructor of the base class\n",
        "        self.breed = breed  # New attribute for the breed of the dog\n",
        "\n",
        "    # Overriding the make_sound method for a dog\n",
        "    def make_sound(self):\n",
        "        print(f\"{self.name} barks loudly!\")\n",
        "\n",
        "# Define a Cat class that inherits from Animal\n",
        "class Cat(Animal):\n",
        "    # Cat has its own constructor to initialize additional cat-specific attributes\n",
        "    def __init__(self, name, color):\n",
        "        super().__init__(name)  # Call the constructor of the base class\n",
        "        self.color = color  # New attribute for the color of the cat\n",
        "\n",
        "    # Overriding the make_sound method for a cat\n",
        "    def make_sound(self):\n",
        "        print(f\"{self.name} purrs contentedly.\")"
      ],
      "metadata": {
        "id": "A7BAo9258vQ3"
      },
      "execution_count": 5,
      "outputs": []
    },
    {
      "cell_type": "markdown",
      "source": [
        "Now, let's see how this class can be used to create objects."
      ],
      "metadata": {
        "id": "lH3SIi43JR8r"
      }
    },
    {
      "cell_type": "code",
      "source": [
        "# Create instances of Dog and Cat, which are Animals\n",
        "buddy = Dog(\"Buddy\", \"Golden Retriever\")\n",
        "whiskers = Cat(\"Whiskers\", \"Black\")\n",
        "\n",
        "# Feed the pets\n",
        "buddy.feed()\n",
        "whiskers.feed()\n",
        "\n",
        "# Play with the pets\n",
        "buddy.play()\n",
        "whiskers.play()\n",
        "\n",
        "# Pets make their unique sounds\n",
        "buddy.make_sound()  # Outputs: Buddy barks loudly!\n",
        "whiskers.make_sound()  # Outputs: Whiskers purrs contentedly"
      ],
      "metadata": {
        "colab": {
          "base_uri": "https://localhost:8080/"
        },
        "id": "Yp2orE6IJXNi",
        "outputId": "c3d4005b-4f61-4744-a940-f00af669d41d"
      },
      "execution_count": 6,
      "outputs": [
        {
          "output_type": "stream",
          "name": "stdout",
          "text": [
            "Buddy has been fed.\n",
            "Whiskers has been fed.\n",
            "Buddy is playing and having fun!\n",
            "Whiskers is playing and having fun!\n",
            "Buddy barks loudly!\n",
            "Whiskers purrs contentedly.\n"
          ]
        }
      ]
    },
    {
      "cell_type": "markdown",
      "source": [
        "## Code to Know: Classes and Objects\n",
        "| Python Code | Description |\n",
        "| --- | --- |\n",
        "| class Car: | Defines a new class named `Car`. |\n",
        "| def `__init__(self, make, model, year)`: | The constructor method for `Car`, initializing with `make`, `model`, and `year` attributes. |\n",
        "| self.make = make | Sets the `make` attribute for an instance of `Car`. |\n",
        "| self.model = model | Sets the `model` attribute for an instance of `Car`. |\n",
        "| self.year = year | Sets the `year` attribute for an instance of `Car`. |\n",
        "| my_car = Car('Toyota', 'Corolla', 2021) | Creates an object `my_car` as an instance of the `Car` class. |\n",
        "| print(my_car.make) | Accesses and prints the `make` attribute of the `my_car` object. |\n",
        "| my_car.year = 2022 | Changes the `year` attribute of `my_car` to 2022. |\n",
        "| hasattr(my_car, 'color') | Checks if `my_car` has an attribute `color`, returning a boolean. |\n",
        "| setattr(my_car, 'color', 'red') | Sets a new attribute `color` with the value 'red' on `my_car`. |\n",
        "| getattr(my_car, 'model') | Retrieves the value of the `model` attribute from `my_car`. |\n",
        "| delattr(my_car, 'year') | Deletes the attribute `year` from `my_car`. |\n",
        "| isinstance(my_car, Car) | Checks if `my_car` is an instance of the `Car` class, returning a boolean. |"
      ],
      "metadata": {
        "id": "3Aq7P9za10Mb"
      }
    },
    {
      "cell_type": "markdown",
      "source": [
        "## Exercises: Making Objects\n",
        "\n",
        "### Exercise 1: Creating a New Object\n",
        "Instantiate an object of the `Dog` class.\n",
        "\n",
        "Hint: To create an object, you need to call the class as if it were a function, passing the required arguments as defined in the class `__init__` method."
      ],
      "metadata": {
        "id": "9c-JVkHKJWbJ"
      }
    },
    {
      "cell_type": "code",
      "source": [
        "# Exercise 1\n"
      ],
      "metadata": {
        "id": "a4ofM2S8KstB"
      },
      "execution_count": null,
      "outputs": []
    },
    {
      "cell_type": "markdown",
      "source": [
        "### Exercise 2: Interacting with an Object\n",
        "Feed the dog twice and then make it play.\n",
        "\n",
        "Hint: Use the methods `feed` and `play` of the `Dog` class on your `Dog` instance. Remember that each method can be called using the dot notation, e.g., `dog_instance.feed()`."
      ],
      "metadata": {
        "id": "dXOUCXN_Ku8Q"
      }
    },
    {
      "cell_type": "code",
      "source": [
        "# Exercise 2"
      ],
      "metadata": {
        "id": "xBoU9KgAK2YT"
      },
      "execution_count": null,
      "outputs": []
    },
    {
      "cell_type": "markdown",
      "source": [
        "### Exercise 3: Exploring Encapsulation\n",
        "Print the hunger level of the dog after feeding it.\n",
        "\n",
        "Hint: The hunger level is a protected attribute `_hunger`. While it's not a best practice to access it directly, for the purpose of this exercise, you can access it using `dog_instance._hunger`."
      ],
      "metadata": {
        "id": "Dqgwz91GK363"
      }
    },
    {
      "cell_type": "code",
      "source": [
        "# Exercise 3"
      ],
      "metadata": {
        "id": "-XtJnoqTLBlN"
      },
      "execution_count": null,
      "outputs": []
    },
    {
      "cell_type": "markdown",
      "source": [
        "### Exercise 4: Implementing a New Method\n",
        "Add a method to the `Animal` class to simulate the animal sleeping, then make the dog sleep.\n",
        "\n",
        "Hint: Define a new method in the `Animal` class using the `def` keyword, and then call this method on your dog instance. The body of the method can simply print a message that the animal is sleeping."
      ],
      "metadata": {
        "id": "OhGRESD2LDh6"
      }
    },
    {
      "cell_type": "code",
      "source": [
        "# Exercise 4"
      ],
      "metadata": {
        "id": "d9tE0CgdLR12"
      },
      "execution_count": null,
      "outputs": []
    },
    {
      "cell_type": "markdown",
      "source": [
        "### Exercise 5 (Challenge/Optional): Inheritance and Polymorphism\n",
        "Create a new subclass of `Animal` called `Bird` with a unique attribute `can_fly`, and override the `make_sound` method to print a bird sound. Instantiate a `Bird` object and interact with it.\n",
        "\n",
        "Hint: Subclassing involves defining a new class that inherits from `Animal`. You will override the `__init__` method to include the `can_fly` attribute and also override the `make_sound` method to reflect a bird's sound."
      ],
      "metadata": {
        "id": "qViHVLtCLTtY"
      }
    },
    {
      "cell_type": "code",
      "source": [
        "# Exercise 5"
      ],
      "metadata": {
        "id": "9JTlRLMMLlwM"
      },
      "execution_count": null,
      "outputs": []
    },
    {
      "cell_type": "markdown",
      "source": [
        "## Writing Unit Tests\n",
        "\n",
        "Imagine a scenario where we have a robot named PyBot, designed to help with basic math operations. This robot is an abstraction of real-world software systems where modular functions work together to perform tasks --- from financial calculations in a banking app to the computational logic in a child's educational game. PyBot is composed of several such functions, each intended to execute a particular arithmetic operation. However, akin to the real world, where even the most meticulously crafted software can have bugs, PyBot is not perfect. It occasionally makes mistakes due to errors in its programming. To ensure PyBot can be trusted with arithmetic, it's essential to test its functions rigorously, isolating and fixing any flaws.\n",
        "\n",
        "Now, let's look at three of PyBot's flawed functions in Python code:"
      ],
      "metadata": {
        "id": "65PKpeiRM-Eq"
      }
    },
    {
      "cell_type": "code",
      "source": [
        "# PyBot's Flawed Arithmetic Functions\n",
        "\n",
        "def add(a, b):\n",
        "    # This function incorrectly adds 1 to the result.\n",
        "    return a + b + 1\n",
        "\n",
        "def subtract(a, b):\n",
        "    # This function incorrectly subtracts an extra unit from the result.\n",
        "    return a - b - 1\n",
        "\n",
        "def multiply(a, b):\n",
        "    # This function mistakenly adds the first number to the result.\n",
        "    return a * b + a\n"
      ],
      "metadata": {
        "id": "8CWSnkpoO-cE"
      },
      "execution_count": 7,
      "outputs": []
    },
    {
      "cell_type": "markdown",
      "source": [
        "These functions represent common mistakes that can occur in programming: off-by-one errors, misunderstandings of operator precedence, or logic errors that can lead to incorrect results. In the next steps, we would create unit tests to identify and correct these mistakes, ensuring that PyBot can perform its arithmetic tasks flawlessly."
      ],
      "metadata": {
        "id": "trGYJ-oEPDAM"
      }
    },
    {
      "cell_type": "markdown",
      "source": [
        "### What is a Unit Test?\n",
        "\n",
        "In software development, a **unit test** is a type of software testing where individual units or components of a software are tested. The purpose is to validate that each unit of the software code performs as expected. A unit is the smallest testable part of any software and usually has one or a few inputs and usually a single output.\n",
        "\n",
        "In the context of our PyBot, consider each mathematical operation it performs (like addition, subtraction, etc.) as a unit. If PyBot has an `add` function, a unit test for this function would supply it with input values, execute it, and check the output against the expected result.\n",
        "\n",
        "Unit tests are written and executed by developers. The idea is to ensure that any change or addition to the code does not break the existing functionality. This is a fundamental part of the Test-Driven Development (TDD) process, where tests are written before the code, and the code is then developed to pass the tests.\n",
        "\n",
        "### How Do I Write Unit Tests in Python?\n",
        "\n",
        "Python's standard library provides a module called `unittest` which you can use to write your unit tests. Below is a step-by-step guide to creating a simple unit test within a Jupyter environment:\n",
        "\n",
        "1.  **Importing the Module.** Start by importing the `unittest` module which provides classes and methods to create unit tests.\n",
        "\n",
        "2.  **Creating a Test Case.** A test case is a collection of unit tests that together prove that a function behaves as it's supposed to, within the full range of situations you expect it to handle.\n",
        "\n",
        "3.  **Writing Test Methods.** These are methods that actually test the function. They should be descriptive about what they test and are prefixed with `test_`. Within these methods, you'll use assertions to verify that the output received from your unit (in our case, a function of PyBot) matches the expected output.\n",
        "\n",
        "4.  **Assertions.** Assertions are the conditions or boolean expressions which the programmer assumes to be true in the code. Python's `unittest` framework provides a set of assertion methods that you can use to check for various conditions. For example, `assertEqual` checks if two values are equal, `assertTrue` checks if a value is True, and so on.\n",
        "\n",
        "5.  **Running Tests.** Once you've written your tests, you can run them directly in the Jupyter Notebook cell. The `unittest` module provides a command line interface to run the tests, but in Jupyter, you'll use `unittest.main()` for this purpose.\n",
        "\n",
        "Here's how the structure of a unit test might look:"
      ],
      "metadata": {
        "id": "INY87MfAQp85"
      }
    },
    {
      "cell_type": "code",
      "source": [
        "# Importing unittest\n",
        "import unittest\n",
        "\n",
        "# A test case class that inherits from unittest.TestCase\n",
        "class TestPyBotMath(unittest.TestCase):\n",
        "\n",
        "    # A test method to check the add function\n",
        "    def test_add_function(self):\n",
        "        self.assertEqual(add(2, 3), 5, \"Adding 2 and 3 should give 5\")\n",
        "        self.assertEqual(add(-1, 1), 0, \"Adding -1 and 1 should give 0\")\n",
        "        self.assertEqual(add(0, 0), 0, \"Adding zeros should give zero\")\n",
        "\n",
        "# The following line runs ALL the unit tests I've defined so far\n",
        "# Right now, it's just the ones, I've defined above\n",
        "unittest.main(argv=['first-arg-is-ignored'], exit=False)\n"
      ],
      "metadata": {
        "colab": {
          "base_uri": "https://localhost:8080/"
        },
        "id": "_ef5SSinRBC4",
        "outputId": "67223bba-8ea7-47d9-99b0-68f20103fb59"
      },
      "execution_count": 8,
      "outputs": [
        {
          "output_type": "stream",
          "name": "stderr",
          "text": [
            "F\n",
            "======================================================================\n",
            "FAIL: test_add_function (__main__.TestPyBotMath)\n",
            "----------------------------------------------------------------------\n",
            "Traceback (most recent call last):\n",
            "  File \"<ipython-input-8-3a7a43d521f6>\", line 9, in test_add_function\n",
            "    self.assertEqual(add(2, 3), 5, \"Adding 2 and 3 should give 5\")\n",
            "AssertionError: 6 != 5 : Adding 2 and 3 should give 5\n",
            "\n",
            "----------------------------------------------------------------------\n",
            "Ran 1 test in 0.007s\n",
            "\n",
            "FAILED (failures=1)\n"
          ]
        },
        {
          "output_type": "execute_result",
          "data": {
            "text/plain": [
              "<unittest.main.TestProgram at 0x7b1e6f23ac80>"
            ]
          },
          "metadata": {},
          "execution_count": 8
        }
      ]
    },
    {
      "cell_type": "markdown",
      "source": [
        "This output is the result of running a unit test suite where at least one test has failed. Let's break down the output to understand what it tells us:\n",
        "\n",
        "-   The single character `F` at the beginning indicates that one of the tests in the test suite has failed. `unittest` uses a series of characters to show the outcome of test cases: `.` (dot) for a pass, `F` for a fail, `E` for an error, and `s` for a skipped test.\n",
        "\n",
        "-   The section that begins with `FAIL: test_add_function (__main__.TestPyBotMath)` specifies which test has failed. In this case, it is the `test_add_function` within the `TestPyBotMath` test case class.\n",
        "\n",
        "-   The `Traceback` section provides a stack trace that led to the failure. This is a very useful feature as it tells you exactly where the problem occurred.\n",
        "\n",
        "-   The specific line `File \"<xxxx>\", line y, in test_add_function` points to the file and line number in the source code where the failed assertion was made.\n",
        "\n",
        "-   The assertion that failed is `self.assertEqual(add(2, 3), 5, \"Adding 2 and 3 should give 5\")`. The `AssertionError` indicates what was actually received versus what was expected. The method `add(2, 3)` returned `6` when it was expected to return `5`.\n",
        "\n",
        "-   The custom message `\"Adding 2 and 3 should give 5\"` is provided to give context to the assertion, making it clearer what the failed test was checking for.\n",
        "\n",
        "-   Finally, the summary line `Ran 1 test in xxxxs` tells us that one test was run and it took xxxx seconds to execute.\n",
        "\n",
        "-   The final line `FAILED (failures=1)` indicates that out of the tests that were run, there was 1 failure.\n",
        "\n",
        "From this output, we can deduce that the function `add` is not performing as expected when adding 2 and 3. Since the expected result is 5, but the actual result is 6, there is likely a flaw in the implementation of the `add` function that needs to be addressed.\n",
        "\n",
        "Now, let's try correcting the code, and run the test again:"
      ],
      "metadata": {
        "id": "Ui6mhoFuRv32"
      }
    },
    {
      "cell_type": "code",
      "source": [
        "def add(a, b):\n",
        "  return a + b\n",
        "\n",
        "# runs every unit test I've defined so far\n",
        "unittest.main(argv=['first-arg-is-ignored'], exit=False)"
      ],
      "metadata": {
        "colab": {
          "base_uri": "https://localhost:8080/"
        },
        "id": "zYM4vbMeSFsp",
        "outputId": "f2071891-1383-419c-82d2-709a299388d0"
      },
      "execution_count": 9,
      "outputs": [
        {
          "output_type": "stream",
          "name": "stderr",
          "text": [
            ".\n",
            "----------------------------------------------------------------------\n",
            "Ran 1 test in 0.005s\n",
            "\n",
            "OK\n"
          ]
        },
        {
          "output_type": "execute_result",
          "data": {
            "text/plain": [
              "<unittest.main.TestProgram at 0x7b1e3c05f850>"
            ]
          },
          "metadata": {},
          "execution_count": 9
        }
      ]
    },
    {
      "cell_type": "markdown",
      "source": [
        "Now, the test passes!"
      ],
      "metadata": {
        "id": "ZQ-YOPxIR-UO"
      }
    },
    {
      "cell_type": "markdown",
      "source": [
        "## Exercise: Expanding Our Unit Tests\n",
        "\n",
        "Expand on the following code block to include tests for `subtract` and `multiply` as well as `add`. Then, try fixing the functions, and try tests again."
      ],
      "metadata": {
        "id": "pGZCnM2yTqcy"
      }
    },
    {
      "cell_type": "code",
      "source": [
        "# Importing unittest\n",
        "import unittest\n",
        "\n",
        "# A test case class that inherits from unittest.TestCase\n",
        "class TestPyBotMath(unittest.TestCase):\n",
        "\n",
        "    # A test method to check the add function\n",
        "    def test_add_function(self):\n",
        "        self.assertEqual(add(2, 3), 5, \"Adding 2 and 3 should give 5\")\n",
        "        self.assertEqual(add(-1, 1), 0, \"Adding -1 and 1 should give 0\")\n",
        "        self.assertEqual(add(0, 0), 0, \"Adding zeros should give zero\")\n",
        "\n",
        "    # TODO test the subtract function\n",
        "\n",
        "\n",
        "\n",
        "\n",
        "    # TODO test the multiply function\n",
        "\n",
        "\n",
        "unittest.main(argv=['first-arg-is-ignored'], exit=False)"
      ],
      "metadata": {
        "id": "V6SX01L-R7wx",
        "outputId": "9d78dbcf-710e-413c-d24c-94c77559bfdb",
        "colab": {
          "base_uri": "https://localhost:8080/"
        }
      },
      "execution_count": null,
      "outputs": [
        {
          "output_type": "stream",
          "name": "stderr",
          "text": [
            ".F\n",
            "======================================================================\n",
            "FAIL: test_subtract_function (__main__.TestPyBotMath)\n",
            "----------------------------------------------------------------------\n",
            "Traceback (most recent call last):\n",
            "  File \"<ipython-input-26-f2d50fb8329b>\", line 15, in test_subtract_function\n",
            "    self.assertEqual(subtract(5,3), 2, \"Subtracting 3 from 5 should give 2.\")\n",
            "AssertionError: 1 != 2 : Subtracting 3 from 5 should give 2.\n",
            "\n",
            "----------------------------------------------------------------------\n",
            "Ran 2 tests in 0.009s\n",
            "\n",
            "FAILED (failures=1)\n"
          ]
        },
        {
          "output_type": "execute_result",
          "data": {
            "text/plain": [
              "<unittest.main.TestProgram at 0x7f191cd6b400>"
            ]
          },
          "metadata": {},
          "execution_count": 26
        }
      ]
    },
    {
      "cell_type": "code",
      "source": [
        "def subtract(a, b):\n",
        "  return a - b\n",
        "\n",
        "def multiply(a, b):\n",
        "  # fix this\n",
        "  return None\n",
        "\n",
        "# Try tests again\n",
        "unittest.main(argv=['first-arg-is-ignored'], exit=False)\n"
      ],
      "metadata": {
        "id": "Ezu__Jo7lVjl",
        "outputId": "a1e7e3fe-ef0a-460b-fb22-3b1ae99cc7a3",
        "colab": {
          "base_uri": "https://localhost:8080/"
        }
      },
      "execution_count": null,
      "outputs": [
        {
          "output_type": "stream",
          "name": "stderr",
          "text": [
            "..\n",
            "----------------------------------------------------------------------\n",
            "Ran 2 tests in 0.004s\n",
            "\n",
            "OK\n"
          ]
        },
        {
          "output_type": "execute_result",
          "data": {
            "text/plain": [
              "<unittest.main.TestProgram at 0x7f18ea983940>"
            ]
          },
          "metadata": {},
          "execution_count": 27
        }
      ]
    },
    {
      "cell_type": "markdown",
      "source": [
        "## What is Software Engineering?\n",
        "\n",
        "Software engineering is the disciplined application of engineering principles to the design, development, maintenance, testing, and evaluation of software. This field encompasses not just the act of writing code, but also the initial conception of the solution, the management of project teams, the creation of models and diagrams to illustrate system structure, the anticipation of future user needs, and the creation of systems that are maintainable over time.\n",
        "\n",
        "One can think of software engineering as the architecture of the digital world. Just as architects must consider the functionality, aesthetics, and longevity of their buildings, software engineers must create software that is efficient, user-friendly, and robust against the test of time."
      ],
      "metadata": {
        "id": "RtOP19cduqw9"
      }
    },
    {
      "cell_type": "markdown",
      "source": [
        "### How Does Software Engineering Differ From Programming?\n",
        "\n",
        "While programming is an integral part of software engineering, it is not the entirety of it. Programming is the process of writing the code that instructs a computer on how to perform a task. It's a critical skill for software engineers, but it's just one aspect of their work.\n",
        "\n",
        "Software engineering, on the other hand, involves a higher-level, holistic approach. It includes:\n",
        "\n",
        "- **Analysis**: Understanding the problem and the needs of the users.\n",
        "- **Design**: Planning the structure of the software before a single line of code is written.\n",
        "- **Implementation**: This is where programming comes in, turning the design into working code.\n",
        "- **Testing**: Checking that the software works as intended and fixing any issues.\n",
        "- **Maintenance**: Updating and improving the software over time as user needs change and new technologies emerge.\n",
        "\n",
        "Imagine we're developing a video game featuring a snake main character. The programmers would focus on writing the code that dictates the snake's movement, the game physics, and the interactions between the characters. Meanwhile, the software engineers would be responsible for planning the game's overall structure, ensuring it can be easily updated with new levels or features, designing the user interface, and continuously testing and refining the gameplay experience.\n",
        "\n",
        "Software engineering is the glue that holds the project together and ensures that it not only works well but also meets the needs and expectations of its users and stakeholders.\n"
      ],
      "metadata": {
        "id": "S_X6DoZiv5el"
      }
    },
    {
      "cell_type": "markdown",
      "source": [
        "### What is the Waterfall Method?\n",
        "\n",
        "The **Waterfall method** is a linear and sequential approach to software development that is divided into distinct phases. Each phase must be completed before the next one begins, and there is little to no overlap between the stages. The name \"Waterfall\" is a metaphorical representation of how each phase cascades into the next.\n",
        "\n",
        "The typical phases of the Waterfall model include:\n",
        "\n",
        "1. **Requirements**: This is the stage where all the possible requirements of the system to be developed are captured in detail.\n",
        "2. **Design**: In this phase, the system's architecture and design specifications are created, often resulting in models and architectural documents.\n",
        "3. **Implementation**: Here, the actual source code is written to implement the design previously outlined.\n",
        "4. **Verification**: The software's functionality is rigorously tested to ensure it meets the initial requirements.\n",
        "5. **Maintenance**: After deployment, the system enters maintenance, where it will be updated and patched as needed based on user feedback and changing conditions.\n",
        "\n",
        "This method is often compared to a set of blueprints for a building; just as a construction project would not move to the physical construction phase before the blueprints are finalized, software development doesn't proceed to coding before the design is complete.\n",
        "\n",
        "The Waterfall method is best suited to projects where the requirements are very well understood and are unlikely to change over time. It is less flexible than methodologies like Agile (see the next section), which can adapt to changes more readily.\n",
        "\n",
        "To use our video game example, if we were using the Waterfall method to develop our snake-themed game, we would complete each game development phase for the entire game before moving to the next. We would gather all the game's requirements, complete all the design work, then write all the code, and only then would we start testing the game. Changes to the game design would be difficult to implement once we've moved past the design phase, emphasizing the importance of thorough and detailed initial requirements and design work in the Waterfall model.\n"
      ],
      "metadata": {
        "id": "fmhZf7v_u771"
      }
    },
    {
      "cell_type": "markdown",
      "source": [
        "![image.png](data:image/png;base64,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)"
      ],
      "metadata": {
        "id": "zks8VMfR4kI6"
      }
    },
    {
      "cell_type": "markdown",
      "source": [
        "Image: The Waterfall Method"
      ],
      "metadata": {
        "id": "ZsUEvA-z4lew"
      }
    },
    {
      "cell_type": "markdown",
      "source": [
        "### What is the Agile Method?\n",
        "\n",
        "**Agile Methodology** is a practice that promotes continuous iteration of development and testing throughout the software development lifecycle of the project. Unlike the Waterfall method, both development and testing activities are concurrent. This methodology is known for its flexibility and adaptability to changes.\n",
        "\n",
        "Key principles of Agile include:\n",
        "\n",
        "- **Individuals and interactions** over processes and tools.\n",
        "- **Working software** over comprehensive documentation.\n",
        "- **Customer collaboration** over contract negotiation.\n",
        "- **Responding to change** over following a plan.\n",
        "\n",
        "The Agile method provides a framework for accommodating changes and evolving requirements throughout the development process, often with regular 'sprints' or iterations. This iterative approach allows for feedback at each stage, which can be incorporated into the next version of the product.\n",
        "\n",
        "Within the context of our hypothetical video game development, using Agile means that the game would be developed in small sections called **iterations**. Each iteration would include planning, design, coding, and testing, and the product at the end of each iteration is a working game with added features from the previous version. This way, if the game developers wanted to change the storyline or gameplay based on user feedback or new ideas, they could do so in the next iteration without disrupting the entire development process.\n",
        "\n",
        "This approach is particularly effective for projects where the final product is not well defined from the outset and is expected to evolve in response to user feedback or market trends.\n"
      ],
      "metadata": {
        "id": "X9enSDMovN7d"
      }
    },
    {
      "cell_type": "markdown",
      "source": [
        "![image.png](data:image/png;base64,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)"
      ],
      "metadata": {
        "id": "UG7QRxTQ5beX"
      }
    },
    {
      "cell_type": "markdown",
      "source": [
        "Image: Agile Methodology"
      ],
      "metadata": {
        "id": "rzIgG_KF5dEA"
      }
    },
    {
      "cell_type": "markdown",
      "source": [
        "## Integrating Software Engineering Principles into Personal Projects\n",
        "\n",
        "Software engineering is not just about writing code—it's about ensuring that your software is reliable, maintainable, and fit for purpose. Even for personal projects, adopting software engineering principles can be extremely beneficial. Here’s how you can integrate a mix of universal principles, as well as ideas from both Waterfall and Agile methodologies, into your programming:\n",
        "\n",
        "### Establish Clear Objectives\n",
        "Before starting any project, define what you want to achieve. This aligns with the **initial phase** of Waterfall, where requirements are gathered and a clear plan is set. For a simple program, this might just mean writing down what the program will do and what it won't do.\n",
        "\n",
        "### Design Before You Build\n",
        "Spend time on design before you start coding. Like Waterfall, this ensures you have a solid architecture for your project. For small projects, this can be as simple as sketching out the major functions and how they interact with each other.\n",
        "\n",
        "### Build Incrementally\n",
        "Borrowing from Agile, start with the smallest possible version of your project that still delivers value. You can then incrementally add features, test them, and get feedback. This could mean starting with a command-line version of your game before adding a graphical interface.\n",
        "\n",
        "### Iterate and Reflect\n",
        "After each increment, reflect on what went well and what could be improved—this is a core idea from Agile's **retrospective**. Apply these lessons to the next iteration of your project.\n",
        "\n",
        "### Be Flexible but Deliberate\n",
        "Agile is about being flexible and responsive to change. Don’t be afraid to modify your design as you learn more about the problem you're solving. However, be deliberate about changes; don’t refactor or change directions without a good reason.\n",
        "\n",
        "### Test Continuously\n",
        "Both Waterfall and Agile emphasize testing, but Agile encourages continuous testing with each iteration. For personal projects, write tests for your code as you go, and run them frequently.\n",
        "\n",
        "### Choose the Right Method\n",
        "There’s no one-size-fits-all approach. For well-understood problems with clear requirements, a Waterfall approach might be more efficient. For projects where you expect requirements to change or you're exploring a new concept, Agile might be better.\n",
        "\n",
        "### Document\n",
        "Document your code and your learning process. Good documentation helps you remember why you made certain decisions and can guide future development.\n",
        "\n",
        "By blending these practices from both Waterfall and Agile, you can build a personal workflow that's disciplined yet flexible, allowing you to tackle a range of projects with confidence.\n"
      ],
      "metadata": {
        "id": "53ufMF9lw_zk"
      }
    },
    {
      "cell_type": "markdown",
      "source": [
        "## Discussion Questions: Software Engineering Approaches\n",
        "\n",
        "1. In what ways can modularity (developing and testing programs in small \"chunks\") benefit the development and maintenance of computer programs?\n",
        "\n",
        "2. Given the linear nature of the Waterfall method, what challenges might arise in adapting it to the evolving requirements of a video game?\n",
        "\n",
        "3. Agile emphasizes adaptability, but what could be the risks of too much flexibility in the development process of a game? Discuss how you might balance this."
      ],
      "metadata": {
        "id": "5l6TE6a0xtBB"
      }
    },
    {
      "cell_type": "markdown",
      "source": [
        "### Answers: Software Engineering\n",
        "1.\n",
        "\n",
        "2.\n",
        "\n",
        "3."
      ],
      "metadata": {
        "id": "bT4Rnig0yKrK"
      }
    },
    {
      "cell_type": "markdown",
      "source": [
        "## Review With Quizlet\n",
        "Run the following cell to launch the quizlet deck for this chapter."
      ],
      "metadata": {
        "id": "PylwOJDY5oRA"
      }
    },
    {
      "cell_type": "code",
      "source": [
        "%%html\n",
        "<iframe src=\"https://quizlet.com/847590764/learn/embed?i=psvlh&x=1jj1\" height=\"500\" width=\"100%\" style=\"border:0\"></iframe>"
      ],
      "metadata": {
        "id": "oUGVCnRV5wMz"
      },
      "execution_count": null,
      "outputs": []
    },
    {
      "cell_type": "markdown",
      "source": [
        "## Glossary\n",
        "\n",
        "| Term | Definition |\n",
        "| --- | --- |\n",
        "| Class | A structure that encapsulates data and operations that manipulate the data, serving as a template for creating similar entities. |\n",
        "| Object | An entity with state and behavior that is a concrete manifestation of a class. |\n",
        "| Attribute | A variable that belongs to a specific object |\n",
        "| Method | A procedure (function) associated with a class that performs a specific action on or with the entity's data. |\n",
        "| Constructor | A special method/function within a class that prepares a new instance by initializing its attributes. |\n",
        "| Inheritance | A relation between two classes where one shares the structure and behavior of another. |\n",
        "| Encapsulation | The practice of bundling data with the code operating on it, protecting information by restricting access to internal components. |\n",
        "| Polymorphism | The provision of a single interface to entities of different types or the use of a single symbol to represent multiple different types. |\n",
        "| Object-Oriented Design | The process of planning a system of interacting objects for the purpose of solving a software problem. |\n",
        "| Software Engineering | The discipline of designing, implementing, and maintaining software through systematic methodologies and practices. |\n",
        "| Unit Test | The process of verifying that individual components of source code are functional and correctly implemented. |\n",
        "| Waterfall | A linear and sequential development methodology where phases such as conception, initiation, analysis, design, construction, testing, and maintenance follow one another in downward progression. |\n",
        "| Agile | A flexible development methodology characterized by iterative progress, collaboration, and adaptation to change. |"
      ],
      "metadata": {
        "id": "M-pSgBL335Zg"
      }
    },
    {
      "cell_type": "code",
      "source": [],
      "metadata": {
        "id": "B_USj5nY9E3V"
      },
      "execution_count": null,
      "outputs": []
    },
    {
      "cell_type": "code",
      "source": [],
      "metadata": {
        "id": "TUixa8VQ36W_"
      },
      "execution_count": null,
      "outputs": []
    }
  ]
}