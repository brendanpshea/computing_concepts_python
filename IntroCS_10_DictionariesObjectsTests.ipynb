{
  "nbformat": 4,
  "nbformat_minor": 0,
  "metadata": {
    "colab": {
      "provenance": [],
      "authorship_tag": "ABX9TyOwPDB+cblj+iS4yzu3drvU",
      "include_colab_link": true
    },
    "kernelspec": {
      "name": "python3",
      "display_name": "Python 3"
    },
    "language_info": {
      "name": "python"
    }
  },
  "cells": [
    {
      "cell_type": "markdown",
      "metadata": {
        "id": "view-in-github",
        "colab_type": "text"
      },
      "source": [
        "<a href=\"https://colab.research.google.com/github/brendanpshea/computing_concepts_python/blob/main/IntroCS_10_DictionariesObjectsTests.ipynb\" target=\"_parent\"><img src=\"https://colab.research.google.com/assets/colab-badge.svg\" alt=\"Open In Colab\"/></a>"
      ]
    },
    {
      "cell_type": "markdown",
      "source": [
        "# From Data Structures to Software Engineering\n",
        "### Brendan Shea, PhD\n",
        "\n",
        "\n",
        "In this chapter, we delve into the versatile world of **dictionaries** in Python, explore the object-oriented paradigm through **objects**, learn the meticulous art of **testing** our code, and acquaint ourselves with the fundamental methodologies of **software engineering**.\n",
        "\n",
        "**Dictionaries** are Python's built-in data structure for storing collections of key-value pairs. They offer a powerful way to organize data that is inherently paired in nature, much like a real-life dictionary holds word-definition pairs. As we explore dictionaries, you'll learn how to efficiently store and retrieve data, making your programs both faster and more expressive.\n",
        "\n",
        "Moving from data structures to design, we examine **objects**, the building blocks of object-oriented programming. Objects allow us to model real-world entities within our code, encapsulating related data and behavior. This abstraction not only makes your code more intuitive but also paves the way for more complex and maintainable software designs.\n",
        "\n",
        "With a strong foundation in these structures, we turn to **testing**, a critical practice in programming. We introduce **unit tests**, small and focused tests that examine individual parts of your program. By learning to write and interpret these tests, you'll be able to ensure your code behaves as expected and to maintain this assurance through changes and enhancements.\n",
        "\n",
        "Finally, we address the larger picture with an introduction to **basic software engineering**. This field is more than just writing code; it's about applying systematic, disciplined, and quantifiable approaches to the development, operation, and maintenance of software. We'll contrast the **Waterfall** and **Agile** methodologies, providing you with a perspective on how software can be developed and managed effectively."
      ],
      "metadata": {
        "id": "azXOu982ylNz"
      }
    },
    {
      "cell_type": "markdown",
      "source": [
        "## Brendan's Lecture\n",
        "To come on Monday."
      ],
      "metadata": {
        "id": "ML_hbCYBhMYG"
      }
    },
    {
      "cell_type": "code",
      "source": [],
      "metadata": {
        "id": "iNh-zJwjhPt2"
      },
      "execution_count": null,
      "outputs": []
    },
    {
      "cell_type": "markdown",
      "source": [
        "## What is a Dictionary? How Do I Use Them in Python?\n",
        "\n",
        "A **Python dictionary** is a built-in data type that allows you to store a collection of **key-value pairs**. Each key is linked to a specific value. When you provide a key, Python returns the value associated with that key. Keys must be unique within a single dictionary, and they are typically strings or numbers but can be any immutable type. The values, on the other hand, can be of any data type and can be repeated across different keys. Dictionaries are particularly useful when you need to associate a set of values with keys to retrieve them efficiently by key, rather than by position as you would with a list.\n",
        "\n",
        "The core operations you can perform with dictionaries include:\n",
        "\n",
        "- **Creating a dictionary** by placing comma-separated key-value pairs within curly braces `{}`.\n",
        "- **Accessing values** by referencing the key in square brackets `[]`.\n",
        "- **Adding or modifying items** by assigning a value to a key.\n",
        "- **Deleting items** using the `del` keyword or the `pop()` method.\n",
        "- **Checking for the existence of a key** using the `in` keyword.\n",
        "- **Iterating over a dictionary** to access keys, values, or both.\n",
        "\n",
        "Below are some of the essential syntax examples related to dictionaries:\n",
        "\n",
        "- **Creation**: `my_dict = { 'key1': 'value1', 'key2': 'value2' }`\n",
        "- **Accessing values**: `value = my_dict['key1']`\n",
        "- **Adding a new key-value pair**: `my_dict['new_key'] = 'new_value'`\n",
        "- **Modifying an existing key**: `my_dict['key1'] = 'updated_value'`\n",
        "- **Deleting a key-value pair**: `del my_dict['key1']` or `removed_value = my_dict.pop('key1')`\n",
        "- **Checking for a key**: `if 'key1' in my_dict: ...`\n",
        "- **Iterating keys**: `for key in my_dict.keys(): ...`\n",
        "- **Iterating values**: `for value in my_dict.values(): ...`\n",
        "- **Iterating key-value pairs**: `for key, value in my_dict.items(): ...`\n",
        "\n",
        "These operations make dictionaries a flexible tool for representing complex information, such as a database of books where each book's title is a key linked to information about the book.\n"
      ],
      "metadata": {
        "id": "NpTdSknk6ZRv"
      }
    },
    {
      "cell_type": "code",
      "source": [
        "# Example Python code demonstrating some of the dictionary operations listed above\n",
        "\n",
        "# Creating a dictionary with book titles as keys and authors as values\n",
        "book_database = {\n",
        "    \"Hamlet\": \"Willam Shakespeare\",\n",
        "    \"Middlemarch\": \"George Eliot\",\n",
        "    \"The Republic\": \"Plato\",\n",
        "    \"Never Let Me Go\": \"Kazuo Ishiguro\"\n",
        "    # More items can be added here\n",
        "}\n",
        "\n",
        "# Accessing the author of Middlemarch\n",
        "author_of_middlemarch = book_database[\"Middlemarch\"]\n",
        "\n",
        "# Adding a new book to the database\n",
        "book_database[\"Good Omens\"] = \"Terry Pratchett & Neil Gaiman\"\n",
        "\n",
        "# Modifying the author of an existing book\n",
        "book_database[\"Good Omens\"] = \"Terry Pratchett and Neil Gaiman\"\n",
        "\n",
        "# Deleting a book from the database\n",
        "del book_database[\"The Republic\"]\n",
        "\n",
        "# Checking if a book is in the database and printing the author\n",
        "if \"Middlemarch\" in book_database:\n",
        "    print(\"The author of Middlemarch is:\", book_database[\"Middlemarch\"])\n",
        "\n",
        "# Iterating over the dictionary and printing out each book and author\n",
        "for book, author in book_database.items():\n",
        "    print(f\"'{book}' is written by {author}\")\n"
      ],
      "metadata": {
        "colab": {
          "base_uri": "https://localhost:8080/"
        },
        "id": "W1eq0vsA6beK",
        "outputId": "1f79b35a-b0f4-4f07-d913-0bdc45b6f2b0"
      },
      "execution_count": null,
      "outputs": [
        {
          "output_type": "stream",
          "name": "stdout",
          "text": [
            "The author of Middlemarch is: George Eliot\n",
            "'Hamlet' is written by Willam Shakespeare\n",
            "'Middlemarch' is written by George Eliot\n",
            "'Never Let Me Go' is written by Kazuo Ishiguro\n",
            "'Good Omens' is written by Terry Pratchett and Neil Gaiman\n"
          ]
        }
      ]
    },
    {
      "cell_type": "markdown",
      "source": [
        "## How Do Dictionaries Differ From Lists?\n",
        "\n",
        "**Dictionaries** and **lists** in Python are both mutable, iterable data structures that can store collections of items. However, their use-cases and the way they handle data are significantly different.\n",
        "\n",
        "The primary difference lies in how they store elements. A **list** is an ordered sequence of items. Each item in a list has an assigned index value. You use the index to access the item, which means that items are accessed by their position. Lists are created using square brackets `[]`.\n",
        "\n",
        "In contrast, a **dictionary** stores items in key-value pairs. This means that each item is a combination of a key and a value, and items are accessed by the key rather than by their position. Dictionaries do not maintain any order, and the keys provide a symbolic, descriptive handle to retrieve the corresponding values. Dictionaries are created using curly braces `{}`.\n",
        "\n",
        "Here are three cases where a dictionary might be preferable over a list:\n",
        "\n",
        "1. **When You Need a Logical Association Between Pairs**: Dictionaries are ideal when you're dealing with data that naturally forms pairs. For example, if you are storing information about books where you need to retrieve details based on titles, a dictionary allows you to access these details using the book title as the key."
      ],
      "metadata": {
        "id": "REc5XK847QOW"
      }
    },
    {
      "cell_type": "code",
      "source": [
        "# Use-Case 1: Storing book information with logical association\n",
        "library_catalog = {\n",
        "    \"978-0451524935\": {\"title\": \"1984\", \"author\": \"George Orwell\", \"copies_available\": 12},\n",
        "    \"978-0307277785\": {\"title\": \"Brave New World\", \"author\": \"Aldous Huxley\", \"copies_available\": 8},\n",
        "    # More books can be added here with their ISBN as the key\n",
        "}\n",
        "\n",
        "for key, value in library_catalog.items():\n",
        "  print(key, value)"
      ],
      "metadata": {
        "colab": {
          "base_uri": "https://localhost:8080/"
        },
        "id": "ACfo4_zz72dS",
        "outputId": "e468e02f-708e-4ce8-8d91-877c887f7707"
      },
      "execution_count": null,
      "outputs": [
        {
          "output_type": "stream",
          "name": "stdout",
          "text": [
            "978-0451524935 {'title': '1984', 'author': 'George Orwell', 'copies_available': 12}\n",
            "978-0307277785 {'title': 'Brave New World', 'author': 'Aldous Huxley', 'copies_available': 8}\n"
          ]
        }
      ]
    },
    {
      "cell_type": "markdown",
      "source": [],
      "metadata": {
        "id": "S1yxU4Gu7zGA"
      }
    },
    {
      "cell_type": "markdown",
      "source": [
        "2. **When You Require Fast Lookups by Key**: If you need to frequently access elements and the logical key is known, dictionaries provide a more efficient way for lookup operations because they use a hashing mechanism under the hood. For example, retrieving user details by username is more efficient using a dictionary."
      ],
      "metadata": {
        "id": "Nji8Mn8P7rAF"
      }
    },
    {
      "cell_type": "code",
      "source": [
        "# Use-Case 2: Fast lookup by key for a book inventory system\n",
        "book_inventory = {\n",
        "    \"978-0451524935\": {\"location\": \"Aisle 3\", \"status\": \"checked out\"},\n",
        "    \"978-0307277785\": {\"location\": \"Aisle 1\", \"status\": \"available\"},\n",
        "    # More books can be added here with their ISBN as the key\n",
        "}\n",
        "status_of_1984 = book_inventory[\"978-0451524935\"][\"status\"]  # Quick access using the ISBN\n",
        "\n",
        "for key, value in book_inventory.items():\n",
        "  print(key, value)"
      ],
      "metadata": {
        "colab": {
          "base_uri": "https://localhost:8080/"
        },
        "id": "82Ro4McC8PPY",
        "outputId": "30e0a2d8-ffc5-451f-dec3-89825515b240"
      },
      "execution_count": null,
      "outputs": [
        {
          "output_type": "stream",
          "name": "stdout",
          "text": [
            "978-0451524935 {'location': 'Aisle 3', 'status': 'checked out'}\n",
            "978-0307277785 {'location': 'Aisle 1', 'status': 'available'}\n"
          ]
        }
      ]
    },
    {
      "cell_type": "markdown",
      "source": [
        "3. **When Data is Being Constantly Modified**: If your data set is dynamic, where elements are being added and removed frequently, dictionaries can be more performant because adding or removing a key-value pair does not affect the order or position of other elements, unlike lists.\n"
      ],
      "metadata": {
        "id": "kFptqYeD7twK"
      }
    },
    {
      "cell_type": "code",
      "source": [
        "# Use-Case 3: Dynamic data modification in a book tracking system\n",
        "reading_list = {\n",
        "    \"978-0141439563\": {\"title\": \"Pride and Prejudice\", \"author\": \"Jane Austen\", \"read_status\": False},\n",
        "    \"978-0679783268\": {\"title\": \"1984\", \"author\": \"George Orwell\", \"read_status\": True},\n",
        "    # More books can be added here with their ISBN as the key\n",
        "}\n",
        "# Marking \"Pride and Prejudice\" as read\n",
        "reading_list[\"978-0141439563\"][\"read_status\"] = True\n",
        "# Adding a new book to the reading list\n",
        "reading_list[\"978-0439023528\"] = {\"title\": \"The Hunger Games\", \"author\": \"Suzanne Collins\", \"read_status\": False}\n",
        "# Removing \"1984\" from the reading list after completion\n",
        "del reading_list[\"978-0679783268\"]"
      ],
      "metadata": {
        "id": "ShjVp_4z8osU"
      },
      "execution_count": null,
      "outputs": []
    },
    {
      "cell_type": "markdown",
      "source": [
        "## Application of Key-Value Structures in Computer Science\n",
        "\n",
        "Key-value structures, such as dictionaries in Python, are foundational to computer science and are utilized extensively due to their efficiency and flexibility. They are based on the **abstract data type** known as a **map**, which associates unique keys to specific values. This simple yet powerful structure enables rapid data retrieval, akin to looking up a word in a dictionary to find its definition.\n",
        "\n",
        "In computer science, key-value pairs are employed in various scenarios:\n",
        "\n",
        "- **Databases**: Many NoSQL databases, like MongoDB and Redis, use a key-value model to store data, allowing for quick data retrieval, flexible schemas, and easy scalability.\n",
        "\n",
        "- **Caching**: Key-value pairs are ideal for caching mechanisms where quick access to data is crucial. Caching systems store temporary data associated with a key that can be retrieved without the overhead of a full database query.\n",
        "\n",
        "- **Configuration Settings**: Applications often use key-value pairs for configuration settings, where the key is the setting name and the value is the setting’s parameter.\n",
        "\n",
        "- **Associative Arrays**: In programming, associative arrays (or maps) use keys to access stored values, providing a way to maintain a collection of objects that are indexed by a keyword or identifier.\n",
        "\n",
        "- **Hash Tables**: Underlying many key-value structures is the concept of a hash table, where a hash function is used to convert the key into an index in an array where the value is stored. This allows for constant time complexity \\(O(1)\\) for lookups, insertions, and deletions.\n",
        "\n",
        "- **Memory Allocation**: Operating systems use key-value pairs to keep track of allocated memory and resources, with keys representing memory addresses and values detailing the allocation information.\n",
        "\n",
        "- **Object Representation**: In object-oriented programming, objects can be seen as key-value stores with attribute names as keys and attribute values as values. This simplifies the storage and retrieval of object state.\n",
        "\n",
        "The ubiquity of key-value structures across computer science disciplines underlines their importance. They allow developers to store and manage data in a way that is both intuitive and efficient, making them indispensable for both fundamental and advanced computational tasks.\n"
      ],
      "metadata": {
        "id": "pUF9Ytk7-rnG"
      }
    },
    {
      "cell_type": "markdown",
      "source": [
        "Dictionaries provide a more intuitive way to structure data when the relationship between elements is key, and the complexity of data access patterns demands both clarity and performance."
      ],
      "metadata": {
        "id": "fuUd63FE8uCp"
      }
    },
    {
      "cell_type": "markdown",
      "source": [
        "## Code to Know: Dictionaries\n",
        "| Python Code                             | Description                                                                                   |\n",
        "|-----------------------------------------|-----------------------------------------------------------------------------------------------|\n",
        "| cars = {} | Initializes an empty dictionary named `cars`. |\n",
        "| cars['make'] = 'Toyota' | Adds a key 'make' with value 'Toyota' to the `cars` dictionary.                               |\n",
        "| cars['model'] = 'Corolla'               | Inserts a key 'model' with the value 'Corolla' into the `cars` dictionary.                    |\n",
        "| cars['year'] = 2021                     | Sets the key 'year' to 2021 in the `cars` dictionary.                                         |\n",
        "| cars['color'] = 'red'                   | Assigns the key 'color' the value 'red' in the `cars` dictionary.                             |\n",
        "| cars.get('make', 'Unknown')             | Retrieves the value for 'make' in `cars`, returning 'Unknown' if the key does not exist.      |\n",
        "| 'color' in cars                         | Checks for the existence of the key 'color' in the `cars` dictionary, yielding a boolean.     |\n",
        "| cars.keys()                             | Returns all the keys in the `cars` dictionary.                                                |\n",
        "| cars.values()                           | Lists all the values in the `cars` dictionary.                                                |\n",
        "| del cars['year']                        | Removes the key 'year' and its value from the `cars` dictionary.                              |\n",
        "| cars.update({'year': 2022, 'color': 'blue'}) | Updates `cars` with a new 'year' (2022) and a new 'color' ('blue').                    |\n"
      ],
      "metadata": {
        "id": "Kf2Ys9aA0v0e"
      }
    },
    {
      "cell_type": "markdown",
      "source": [
        "## Exercises: THe Library of Babel\n",
        "\n",
        "## Exercise 1: Simple Dictionary Creation\n",
        "Create a dictionary representing a book in the Library of Babel. The dictionary should have keys for `title`, `author`, and `page_count`. Initialize it with any fictional data about a book you like.\n",
        "\n",
        "**Hint**: Use curly braces `{}` to create a dictionary with `key: value` pairs. Remember, keys are unique identifiers, and values are the data associated with those keys.\n",
        "\n",
        "\n"
      ],
      "metadata": {
        "id": "AMesSejw_Ow6"
      }
    },
    {
      "cell_type": "code",
      "source": [],
      "metadata": {
        "id": "UerHbmeOADXC"
      },
      "execution_count": null,
      "outputs": []
    },
    {
      "cell_type": "markdown",
      "source": [
        "\n",
        "## Exercise 2: Accessing Dictionary Values\n",
        "Using the dictionary from Exercise 1, write a program that prints out a statement about the book using all of the information in the dictionary.\n",
        "\n",
        "**Hint**: You can access the value of a key by using the syntax `dictionary[key]`. Construct a string that incorporates these values using f-string formatting, which allows you to include variables directly within the string using curly braces `{}`.\n"
      ],
      "metadata": {
        "id": "Y-sgtTQp_iQ2"
      }
    },
    {
      "cell_type": "code",
      "source": [],
      "metadata": {
        "id": "VvGADfdcACpV"
      },
      "execution_count": null,
      "outputs": []
    },
    {
      "cell_type": "markdown",
      "source": [
        "## Exercise 3: Modifying Dictionary Entries\n",
        "The Library of Babel is said to contain all possible books.\n",
        "1. Write a program that changes the `author` of the book to \"Jorge Luis Borges\" and\n",
        "2. Add a new key-value pair for `genre`, which should be \"Fiction\".\n",
        "\n",
        "**Hint**: Assign a new value to an existing key by using `dictionary[key] = new_value`. To add a new key-value pair, use the same syntax with a new key.\n",
        "\n"
      ],
      "metadata": {
        "id": "661f8g4L_jo3"
      }
    },
    {
      "cell_type": "code",
      "source": [],
      "metadata": {
        "id": "cAOsTFAXAA9M"
      },
      "execution_count": null,
      "outputs": []
    },
    {
      "cell_type": "markdown",
      "source": [
        "### Exercise 4\n",
        "Imagine the Library of Babel's organizational system is a dictionary where the keys are genres and the values are lists of book titles.\n",
        "1. Create such a dictionary with at least three genres, and two books per genre.\n",
        "2. Write a program that iterates over the dictionary and prints out each genre, followed by the titles of the books in that genre.\n",
        "\n",
        "**Hint**: Use a `for` loop with the `.items()` method on your dictionary to get both the key and the value in each iteration. The `for` loop should follow the structure `for key, value in dictionary.items():`.\n"
      ],
      "metadata": {
        "id": "BRUyKwVk_k4M"
      }
    },
    {
      "cell_type": "code",
      "source": [],
      "metadata": {
        "id": "BE7pnrXpAMC9"
      },
      "execution_count": null,
      "outputs": []
    },
    {
      "cell_type": "markdown",
      "source": [
        "\n",
        "### Exercise 5 (Challenge/Optional)\n",
        "The Library of Babel is infinite.\n",
        "\n",
        "1. Create a nested dictionary where each key is a hexagon room number (1 to 8) and the value is another dictionary with keys for `books` (a list of book titles) and `exits` (a list of adjoining hexagon numbers from 1 to 8).\n",
        "2. Now, Write a function that takes a hexagon room number and prints out the details of the room, including the titles of the books and the adjoining rooms it connects to.\n",
        "\n",
        "**Hint**: Nested dictionaries are accessed using consecutive square brackets `dictionary[key1][key2]`. When defining the function, use the `.get()` method to handle cases where a hexagon number might not exist, which avoids a KeyError by returning `None` if the key is not found.\n"
      ],
      "metadata": {
        "id": "GyHY0Hxm_mAR"
      }
    },
    {
      "cell_type": "markdown",
      "source": [
        "## Classes and Objects in Python\n",
        "\n",
        "In Python, a **class** is a construct that allows you to create your own custom **data types** by grouping data and functions that operate upon that data. This data and functions together are referred to as the **attributes** and **methods** of the class, respectively. When you define a class, you create a new object type with a name you select, followed by a suite of attributes and methods. An **object**, on the other hand, is an individual instance of a class. It's a concrete example that embodies the class's structure and behavior. Creating an object from a class is called **instantiation**, and this object is then an instance of the class.\n",
        "\n",
        "Using classes and objects can make a program more modular and easier to understand and maintain. When defining a class, the `__init__` method is what we call the **constructor**. It is automatically called when a new instance of the class is created and typically is used to initialize the object's attributes. Within class methods, the `self` parameter refers to the instance calling the method, allowing access to the attributes and other methods on the same object, which means you can use the data within the object to affect its behavior.\n"
      ],
      "metadata": {
        "id": "zvF0jIQkCyAy"
      }
    },
    {
      "cell_type": "code",
      "source": [
        "# Define a class named Animal\n",
        "class Animal:\n",
        "    # The __init__ method is the constructor where we initialize the attributes of an object.\n",
        "    def __init__(self, name, species):\n",
        "        # self.name and self.species are attributes of the class.\n",
        "        self.name = name\n",
        "        self.species = species\n",
        "        self.hunger = 2  # A simple attribute to track hunger level, initialized to 2.\n",
        "\n",
        "    # A method to simulate feeding the animal.\n",
        "    def feed(self):\n",
        "        if self.hunger > 0:  # Check if the animal is hungry\n",
        "            self.hunger -= 1  # Reduce hunger level by 1\n",
        "            return f\"{self.name} is being fed.\"\n",
        "        else:\n",
        "            return f\"{self.name} is not hungry.\"\n",
        "\n",
        "    # A method to simulate playing with the animal.\n",
        "    def play(self):\n",
        "        return f\"{self.name} is playing.\""
      ],
      "metadata": {
        "id": "HnjlZZusBKpQ"
      },
      "execution_count": null,
      "outputs": []
    },
    {
      "cell_type": "markdown",
      "source": [
        "### Examining `Animal`\n",
        "In the paradigm of object-oriented programming, we structure our code by creating models of real-world or conceptual entities known as classes. A class can be thought of as a blueprint or a template from which objects are created. These objects are known as instances of a class.\n",
        "\n",
        "####  The Constructor: `__init__`\n",
        "\n",
        "A **constructor** is a special method in a class that is automatically invoked when a new object of the class is instantiated. In Python, the constructor method is named `__init__`. This method is crucial as it allows the programmer to set up the initial state of the object by assigning values to the object's properties. In the `Animal` class, the constructor takes two parameters besides `self`---`name` and `species`---and initializes them. It also initializes a `hunger` attribute to a default value of 2. The `self` keyword is a reference to the current instance of the class, and it is used to access variables and methods associated with that instance.\n",
        "\n",
        "#### Methods: `feed` and `play`\n",
        "\n",
        "In a class, **methods** are functions that define the behaviors of an object. In the `Animal` class, there are two methods: `feed` and `play`. The `feed` method represents the action of feeding the animal and modifies the `hunger` attribute of the instance. If the `hunger` is greater than 0, it will be decreased by 1, simulating that the animal has been fed. The `play` method is simpler; it just signifies that the animal is playing, returning a playful message.\n",
        "\n",
        "#### Creating Objects from a Class\n",
        "\n",
        "To create an **object** from a class, we simply call the class using its name followed by a pair of parentheses containing the arguments that the `__init__` method accepts, except for `self`. For example, to create an instance of `Animal`, we could write `my_pet = Animal(\"Fido\", \"Dog\")`. This creates an `Animal` object with the name \"Fido\" and species \"Dog\". The `my_pet` variable now holds a reference to this new object.\n",
        "\n",
        "By encapsulating properties like `name`, `species`, and `hunger` along with the methods `feed` and `play` within the `Animal` class, we create a neat package that represents an animal in code. Each animal instance can have its own unique properties, but they all share the same structure and behaviors defined by the class.\n",
        "\n",
        "To recap: a class in Python encapsulates data and functionality together. The constructor method sets up the initial state of a new object, methods define the object's behaviors, and objects are individual instances of a class with their own specific data. This organization of code into classes and objects allows for more manageable, reusable, and scalable code, which is why OOP is such a fundamental concept in modern programming."
      ],
      "metadata": {
        "id": "JEv7nGVkGx2T"
      }
    },
    {
      "cell_type": "code",
      "source": [
        "# Now, let's try out our class!\n",
        "\n",
        "# Instantiate an object of the Animal class\n",
        "my_pet = Animal(\"Fido\", \"Dog\")\n",
        "\n",
        "# Call methods of the my_pet object\n",
        "print(my_pet.feed())\n",
        "print(my_pet.feed())\n",
        "print(my_pet.feed())\n",
        "\n",
        "print(my_pet.play())"
      ],
      "metadata": {
        "colab": {
          "base_uri": "https://localhost:8080/"
        },
        "id": "dbWR7T-NDVep",
        "outputId": "e3c1180a-79de-41d6-eabe-9fde1f09e664"
      },
      "execution_count": null,
      "outputs": [
        {
          "output_type": "stream",
          "name": "stdout",
          "text": [
            "Fido is being fed.\n",
            "Fido is being fed.\n",
            "Fido is not hungry.\n",
            "Fido is playing.\n"
          ]
        }
      ]
    },
    {
      "cell_type": "markdown",
      "source": [
        "## What is Object-Oriented Design (OOD)?\n",
        "Object-Oriented Design (OOD) is a programming paradigm that uses \"objects\" to design applications and computer programs. It utilizes several techniques from Object-Oriented Programming (OOP) to plan a system of interacting objects for the purpose of solving a software problem. Here are three fundamental concepts of OOD that are particularly useful:\n",
        "\n",
        "\n",
        "### Encapsulation\n",
        "\n",
        "*Encapsulation** involves the idea of hiding the internal state of an object and requiring all interaction to be performed through an object's methods. This leads to a couple of key benefits: it protects the object's integrity by preventing outside interference and misuse of its state, and it makes the code more maintainable and understandable.\n",
        "\n",
        "- In an `Animal` class, you may have a private attribute `hunger_level` that shouldn't be modified directly. Encapsulation allows you to provide a public method `feed()` that decreases the `hunger_level` without exposing the details of how `hunger_level` is managed.\n",
        "\n",
        "- If you have a method `__update_health()` in your `Animal` class that calculates the health based on various factors like age, hunger, and activity, encapsulation will ensure that this method is not called directly from outside the class. Instead, you can have a public method `check_health()` that internally calls `__update_health()`.\n",
        "\n",
        "### Inheritance\n",
        "\n",
        "**Inheritance** is a mechanism for creating a new class that inherits attributes and methods from an existing class. This concept promotes code reusability and establishes a natural hierarchy between classes.\n",
        "\n",
        "- Suppose you have a base class `Animal`. You can create a subclass `Dog` that inherits from `Animal` and automatically gains all its attributes and behaviors. You can then add dog-specific behavior, such as `bark()`, to the `Dog` class.\n",
        "\n",
        "- Similarly, if you have another subclass `Cat` derived from `Animal`, it will inherit the same properties. You can add cat-specific behavior, such as `purr()`. Both `Dog` and `Cat` share the common structure and behaviors of `Animal` but also define their unique features.\n",
        "\n",
        "### Polymorphism\n",
        "\n",
        "**Polymorphism** allows objects to be treated as instances of their parent class rather than their actual class. Objects of different classes can be treated as objects of a common superclass.\n",
        "\n",
        "- If `Dog` and `Cat` are subclasses of `Animal`, a method `make_sound()` defined in `Animal` can be overridden in both `Dog` and `Cat` to bark and purr, respectively. When you call `make_sound()` on an `Animal` object, it will behave correctly according to whether the object is actually a `Dog` or a `Cat`.\n",
        "\n",
        "- You can have a method `show_affection()` in your `Animal` class that behaves differently depending on the type of animal. A `Dog` might show affection by wagging its tail, whereas a `Cat` might do so by nuzzling against you. Polymorphism allows the correct behavior to occur regardless of the type of object, as long as each subclass provides its own implementation of `show_affection()`.\n",
        "\n",
        "These ideas, while simple in conception, turn out to be very powerful in practice. There are many books and classes devoted to exploring the features of this style of programming."
      ],
      "metadata": {
        "id": "2L2gt5R3IXof"
      }
    },
    {
      "cell_type": "code",
      "source": [
        "# Define a base class for all animals\n",
        "class Animal:\n",
        "    def __init__(self, name):\n",
        "        self.name = name  # Public attribute to store the name of the animal\n",
        "        self._hunger = 5  # Protected attribute to represent hunger level\n",
        "\n",
        "    # Public method to feed the animal\n",
        "    def feed(self):\n",
        "        if self._hunger > 0:\n",
        "            self._hunger -= 1\n",
        "            print(f\"{self.name} has been fed.\")\n",
        "        else:\n",
        "            print(f\"{self.name} is not hungry.\")\n",
        "\n",
        "    # Public method to simulate playing with the animal\n",
        "    def play(self):\n",
        "        print(f\"{self.name} is playing and having fun!\")\n",
        "\n",
        "    # A generic public method to make a sound, to be overridden by subclasses\n",
        "    def make_sound(self):\n",
        "        print(f\"{self.name} makes a generic sound.\")\n",
        "\n",
        "# Define a Dog class that inherits from Animal\n",
        "class Dog(Animal):\n",
        "    # Dog has its own constructor to initialize additional dog-specific attributes\n",
        "    def __init__(self, name, breed):\n",
        "        super().__init__(name)  # Call the constructor of the base class\n",
        "        self.breed = breed  # New attribute for the breed of the dog\n",
        "\n",
        "    # Overriding the make_sound method for a dog\n",
        "    def make_sound(self):\n",
        "        print(f\"{self.name} barks loudly!\")\n",
        "\n",
        "# Define a Cat class that inherits from Animal\n",
        "class Cat(Animal):\n",
        "    # Cat has its own constructor to initialize additional cat-specific attributes\n",
        "    def __init__(self, name, color):\n",
        "        super().__init__(name)  # Call the constructor of the base class\n",
        "        self.color = color  # New attribute for the color of the cat\n",
        "\n",
        "    # Overriding the make_sound method for a cat\n",
        "    def make_sound(self):\n",
        "        print(f\"{self.name} purrs contentedly.\")"
      ],
      "metadata": {
        "id": "A7BAo9258vQ3"
      },
      "execution_count": null,
      "outputs": []
    },
    {
      "cell_type": "markdown",
      "source": [
        "Now, let's see how this class can be used to create objects."
      ],
      "metadata": {
        "id": "lH3SIi43JR8r"
      }
    },
    {
      "cell_type": "code",
      "source": [
        "# Create instances of Dog and Cat, which are Animals\n",
        "buddy = Dog(\"Buddy\", \"Golden Retriever\")\n",
        "whiskers = Cat(\"Whiskers\", \"Black\")\n",
        "\n",
        "# Feed the pets\n",
        "buddy.feed()\n",
        "whiskers.feed()\n",
        "\n",
        "# Play with the pets\n",
        "buddy.play()\n",
        "whiskers.play()\n",
        "\n",
        "# Pets make their unique sounds\n",
        "buddy.make_sound()  # Outputs: Buddy barks loudly!\n",
        "whiskers.make_sound()  # Outputs: Whiskers purrs contentedly"
      ],
      "metadata": {
        "colab": {
          "base_uri": "https://localhost:8080/"
        },
        "id": "Yp2orE6IJXNi",
        "outputId": "248a5a34-fafc-4481-b69f-6bdc5828b270"
      },
      "execution_count": null,
      "outputs": [
        {
          "output_type": "stream",
          "name": "stdout",
          "text": [
            "Buddy has been fed.\n",
            "Whiskers has been fed.\n",
            "Buddy is playing and having fun!\n",
            "Whiskers is playing and having fun!\n",
            "Buddy barks loudly!\n",
            "Whiskers purrs contentedly.\n"
          ]
        }
      ]
    },
    {
      "cell_type": "markdown",
      "source": [
        "## Code to Know: Classes and Objects\n",
        "| Python Code | Description |\n",
        "| --- | --- |\n",
        "| class Car: | Defines a new class named `Car`. |\n",
        "| def `__init__(self, make, model, year)`: | The constructor method for `Car`, initializing with `make`, `model`, and `year` attributes. |\n",
        "| self.make = make | Sets the `make` attribute for an instance of `Car`. |\n",
        "| self.model = model | Sets the `model` attribute for an instance of `Car`. |\n",
        "| self.year = year | Sets the `year` attribute for an instance of `Car`. |\n",
        "| my_car = Car('Toyota', 'Corolla', 2021) | Creates an object `my_car` as an instance of the `Car` class. |\n",
        "| print(my_car.make) | Accesses and prints the `make` attribute of the `my_car` object. |\n",
        "| my_car.year = 2022 | Changes the `year` attribute of `my_car` to 2022. |\n",
        "| hasattr(my_car, 'color') | Checks if `my_car` has an attribute `color`, returning a boolean. |\n",
        "| setattr(my_car, 'color', 'red') | Sets a new attribute `color` with the value 'red' on `my_car`. |\n",
        "| getattr(my_car, 'model') | Retrieves the value of the `model` attribute from `my_car`. |\n",
        "| delattr(my_car, 'year') | Deletes the attribute `year` from `my_car`. |\n",
        "| isinstance(my_car, Car) | Checks if `my_car` is an instance of the `Car` class, returning a boolean. |"
      ],
      "metadata": {
        "id": "3Aq7P9za10Mb"
      }
    },
    {
      "cell_type": "markdown",
      "source": [
        "## Exercises: Making Objects\n",
        "\n",
        "### Exercise 1: Creating a New Object\n",
        "Instantiate an object of the `Dog` class.\n",
        "\n",
        "Hint: To create an object, you need to call the class as if it were a function, passing the required arguments as defined in the class `__init__` method."
      ],
      "metadata": {
        "id": "9c-JVkHKJWbJ"
      }
    },
    {
      "cell_type": "code",
      "source": [
        "# Exercise 1\n"
      ],
      "metadata": {
        "id": "a4ofM2S8KstB"
      },
      "execution_count": null,
      "outputs": []
    },
    {
      "cell_type": "markdown",
      "source": [
        "### Exercise 2: Interacting with an Object\n",
        "Feed the dog twice and then make it play.\n",
        "\n",
        "Hint: Use the methods `feed` and `play` of the `Dog` class on your `Dog` instance. Remember that each method can be called using the dot notation, e.g., `dog_instance.feed()`."
      ],
      "metadata": {
        "id": "dXOUCXN_Ku8Q"
      }
    },
    {
      "cell_type": "code",
      "source": [
        "# Exercise 2"
      ],
      "metadata": {
        "id": "xBoU9KgAK2YT"
      },
      "execution_count": null,
      "outputs": []
    },
    {
      "cell_type": "markdown",
      "source": [
        "### Exercise 3: Exploring Encapsulation\n",
        "Print the hunger level of the dog after feeding it.\n",
        "\n",
        "Hint: The hunger level is a protected attribute `_hunger`. While it's not a best practice to access it directly, for the purpose of this exercise, you can access it using `dog_instance._hunger`."
      ],
      "metadata": {
        "id": "Dqgwz91GK363"
      }
    },
    {
      "cell_type": "code",
      "source": [
        "# Exercise 3"
      ],
      "metadata": {
        "id": "-XtJnoqTLBlN"
      },
      "execution_count": null,
      "outputs": []
    },
    {
      "cell_type": "markdown",
      "source": [
        "### Exercise 4: Implementing a New Method\n",
        "Add a method to the `Animal` class to simulate the animal sleeping, then make the dog sleep.\n",
        "\n",
        "Hint: Define a new method in the `Animal` class using the `def` keyword, and then call this method on your dog instance. The body of the method can simply print a message that the animal is sleeping."
      ],
      "metadata": {
        "id": "OhGRESD2LDh6"
      }
    },
    {
      "cell_type": "code",
      "source": [
        "# Exercise 4"
      ],
      "metadata": {
        "id": "d9tE0CgdLR12"
      },
      "execution_count": null,
      "outputs": []
    },
    {
      "cell_type": "markdown",
      "source": [
        "### Exercise 5 (Challenge/Optional): Inheritance and Polymorphism\n",
        "Create a new subclass of `Animal` called `Bird` with a unique attribute `can_fly`, and override the `make_sound` method to print a bird sound. Instantiate a `Bird` object and interact with it.\n",
        "\n",
        "Hint: Subclassing involves defining a new class that inherits from `Animal`. You will override the `__init__` method to include the `can_fly` attribute and also override the `make_sound` method to reflect a bird's sound."
      ],
      "metadata": {
        "id": "qViHVLtCLTtY"
      }
    },
    {
      "cell_type": "code",
      "source": [
        "# Exercise 5"
      ],
      "metadata": {
        "id": "9JTlRLMMLlwM"
      },
      "execution_count": null,
      "outputs": []
    },
    {
      "cell_type": "markdown",
      "source": [
        "## Writing Unit Tests\n",
        "\n",
        "Imagine a scenario where we have a robot named PyBot, designed to help with basic math operations. This robot is an abstraction of real-world software systems where modular functions work together to perform tasks --- from financial calculations in a banking app to the computational logic in a child's educational game. PyBot is composed of several such functions, each intended to execute a particular arithmetic operation. However, akin to the real world, where even the most meticulously crafted software can have bugs, PyBot is not perfect. It occasionally makes mistakes due to errors in its programming. To ensure PyBot can be trusted with arithmetic, it's essential to test its functions rigorously, isolating and fixing any flaws.\n",
        "\n",
        "Now, let's look at three of PyBot's flawed functions in Python code:"
      ],
      "metadata": {
        "id": "65PKpeiRM-Eq"
      }
    },
    {
      "cell_type": "code",
      "source": [
        "# PyBot's Flawed Arithmetic Functions\n",
        "\n",
        "def add(a, b):\n",
        "    # This function incorrectly adds 1 to the result.\n",
        "    return a + b + 1\n",
        "\n",
        "def subtract(a, b):\n",
        "    # This function incorrectly subtracts an extra unit from the result.\n",
        "    return a - b - 1\n",
        "\n",
        "def multiply(a, b):\n",
        "    # This function mistakenly adds the first number to the result.\n",
        "    return a * b + a\n"
      ],
      "metadata": {
        "id": "8CWSnkpoO-cE"
      },
      "execution_count": null,
      "outputs": []
    },
    {
      "cell_type": "markdown",
      "source": [
        "These functions represent common mistakes that can occur in programming: off-by-one errors, misunderstandings of operator precedence, or logic errors that can lead to incorrect results. In the next steps, we would create unit tests to identify and correct these mistakes, ensuring that PyBot can perform its arithmetic tasks flawlessly."
      ],
      "metadata": {
        "id": "trGYJ-oEPDAM"
      }
    },
    {
      "cell_type": "markdown",
      "source": [
        "### What is a Unit Test?\n",
        "\n",
        "In software development, a **unit test** is a type of software testing where individual units or components of a software are tested. The purpose is to validate that each unit of the software code performs as expected. A unit is the smallest testable part of any software and usually has one or a few inputs and usually a single output.\n",
        "\n",
        "In the context of our PyBot, consider each mathematical operation it performs (like addition, subtraction, etc.) as a unit. If PyBot has an `add` function, a unit test for this function would supply it with input values, execute it, and check the output against the expected result.\n",
        "\n",
        "Unit tests are written and executed by developers. The idea is to ensure that any change or addition to the code does not break the existing functionality. This is a fundamental part of the Test-Driven Development (TDD) process, where tests are written before the code, and the code is then developed to pass the tests.\n",
        "\n",
        "### How Do I Write Unit Tests in Python?\n",
        "\n",
        "Python's standard library provides a module called `unittest` which you can use to write your unit tests. Below is a step-by-step guide to creating a simple unit test within a Jupyter environment:\n",
        "\n",
        "1.  **Importing the Module.** Start by importing the `unittest` module which provides classes and methods to create unit tests.\n",
        "\n",
        "2.  **Creating a Test Case.** A test case is a collection of unit tests that together prove that a function behaves as it's supposed to, within the full range of situations you expect it to handle.\n",
        "\n",
        "3.  **Writing Test Methods.** These are methods that actually test the function. They should be descriptive about what they test and are prefixed with `test_`. Within these methods, you'll use assertions to verify that the output received from your unit (in our case, a function of PyBot) matches the expected output.\n",
        "\n",
        "4.  **Assertions.** Assertions are the conditions or boolean expressions which the programmer assumes to be true in the code. Python's `unittest` framework provides a set of assertion methods that you can use to check for various conditions. For example, `assertEqual` checks if two values are equal, `assertTrue` checks if a value is True, and so on.\n",
        "\n",
        "5.  **Running Tests.** Once you've written your tests, you can run them directly in the Jupyter Notebook cell. The `unittest` module provides a command line interface to run the tests, but in Jupyter, you'll use `unittest.main()` for this purpose.\n",
        "\n",
        "Here's how the structure of a unit test might look:"
      ],
      "metadata": {
        "id": "INY87MfAQp85"
      }
    },
    {
      "cell_type": "code",
      "source": [
        "# Importing unittest\n",
        "import unittest\n",
        "\n",
        "# A test case class that inherits from unittest.TestCase\n",
        "class TestPyBotMath(unittest.TestCase):\n",
        "\n",
        "    # A test method to check the add function\n",
        "    def test_add_function(self):\n",
        "        self.assertEqual(add(2, 3), 5, \"Adding 2 and 3 should give 5\")\n",
        "        self.assertEqual(add(-1, 1), 0, \"Adding -1 and 1 should give 0\")\n",
        "        self.assertEqual(add(0, 0), 0, \"Adding zeros should give zero\")\n",
        "\n",
        "# The following line runs ALL the unit tests I've defined so far\n",
        "# Right now, it's just the ones, I've defined above\n",
        "unittest.main(argv=['first-arg-is-ignored'], exit=False)\n"
      ],
      "metadata": {
        "colab": {
          "base_uri": "https://localhost:8080/"
        },
        "id": "_ef5SSinRBC4",
        "outputId": "ad2f1f59-5838-472a-dce9-c5a390f5570b"
      },
      "execution_count": null,
      "outputs": [
        {
          "output_type": "stream",
          "name": "stderr",
          "text": [
            "F\n",
            "======================================================================\n",
            "FAIL: test_add_function (__main__.TestPyBotMath)\n",
            "----------------------------------------------------------------------\n",
            "Traceback (most recent call last):\n",
            "  File \"<ipython-input-10-a28dbca4b17f>\", line 9, in test_add_function\n",
            "    self.assertEqual(add(2, 3), 5, \"Adding 2 and 3 should give 5\")\n",
            "AssertionError: 6 != 5 : Adding 2 and 3 should give 5\n",
            "\n",
            "----------------------------------------------------------------------\n",
            "Ran 1 test in 0.004s\n",
            "\n",
            "FAILED (failures=1)\n"
          ]
        }
      ]
    },
    {
      "cell_type": "markdown",
      "source": [
        "This output is the result of running a unit test suite where at least one test has failed. Let's break down the output to understand what it tells us:\n",
        "\n",
        "-   The single character `F` at the beginning indicates that one of the tests in the test suite has failed. `unittest` uses a series of characters to show the outcome of test cases: `.` (dot) for a pass, `F` for a fail, `E` for an error, and `s` for a skipped test.\n",
        "\n",
        "-   The section that begins with `FAIL: test_add_function (__main__.TestPyBotMath)` specifies which test has failed. In this case, it is the `test_add_function` within the `TestPyBotMath` test case class.\n",
        "\n",
        "-   The `Traceback` section provides a stack trace that led to the failure. This is a very useful feature as it tells you exactly where the problem occurred.\n",
        "\n",
        "-   The specific line `File \"<xxxx>\", line y, in test_add_function` points to the file and line number in the source code where the failed assertion was made.\n",
        "\n",
        "-   The assertion that failed is `self.assertEqual(add(2, 3), 5, \"Adding 2 and 3 should give 5\")`. The `AssertionError` indicates what was actually received versus what was expected. The method `add(2, 3)` returned `6` when it was expected to return `5`.\n",
        "\n",
        "-   The custom message `\"Adding 2 and 3 should give 5\"` is provided to give context to the assertion, making it clearer what the failed test was checking for.\n",
        "\n",
        "-   Finally, the summary line `Ran 1 test in xxxxs` tells us that one test was run and it took xxxx seconds to execute.\n",
        "\n",
        "-   The final line `FAILED (failures=1)` indicates that out of the tests that were run, there was 1 failure.\n",
        "\n",
        "From this output, we can deduce that the function `add` is not performing as expected when adding 2 and 3. Since the expected result is 5, but the actual result is 6, there is likely a flaw in the implementation of the `add` function that needs to be addressed.\n",
        "\n",
        "Now, let's try correcting the code, and run the test again:"
      ],
      "metadata": {
        "id": "Ui6mhoFuRv32"
      }
    },
    {
      "cell_type": "code",
      "source": [
        "def add(a, b):\n",
        "  return a + b\n",
        "\n",
        "# runs every unit test I've defined so far\n",
        "unittest.main(argv=['first-arg-is-ignored'], exit=False)"
      ],
      "metadata": {
        "colab": {
          "base_uri": "https://localhost:8080/"
        },
        "id": "zYM4vbMeSFsp",
        "outputId": "717342ca-a299-4ed4-8bde-fb32625c4b76"
      },
      "execution_count": null,
      "outputs": [
        {
          "output_type": "stream",
          "name": "stderr",
          "text": [
            ".\n",
            "----------------------------------------------------------------------\n",
            "Ran 1 test in 0.004s\n",
            "\n",
            "OK\n"
          ]
        },
        {
          "output_type": "execute_result",
          "data": {
            "text/plain": [
              "<unittest.main.TestProgram at 0x79e8c9396950>"
            ]
          },
          "metadata": {},
          "execution_count": 11
        }
      ]
    },
    {
      "cell_type": "markdown",
      "source": [
        "Now, the test passes!"
      ],
      "metadata": {
        "id": "ZQ-YOPxIR-UO"
      }
    },
    {
      "cell_type": "markdown",
      "source": [
        "## Exercise: Expanding Our Unit Tests\n",
        "\n",
        "Expand on the following code block to include tests for `subtract` and `multiply` as well as `add`. Then, try fixing the functions, and try tests again."
      ],
      "metadata": {
        "id": "pGZCnM2yTqcy"
      }
    },
    {
      "cell_type": "code",
      "source": [
        "# Importing unittest\n",
        "import unittest\n",
        "\n",
        "# A test case class that inherits from unittest.TestCase\n",
        "class TestPyBotMath(unittest.TestCase):\n",
        "\n",
        "    # A test method to check the add function\n",
        "    def test_add_function(self):\n",
        "        self.assertEqual(add(2, 3), 5, \"Adding 2 and 3 should give 5\")\n",
        "        self.assertEqual(add(-1, 1), 0, \"Adding -1 and 1 should give 0\")\n",
        "        self.assertEqual(add(0, 0), 0, \"Adding zeros should give zero\")\n",
        "\n",
        "    # TODO test the subtract function\n",
        "\n",
        "\n",
        "\n",
        "    # TODO test the multiply function\n",
        "\n",
        "\n",
        "unittest.main(argv=['first-arg-is-ignored'], exit=False)"
      ],
      "metadata": {
        "id": "V6SX01L-R7wx"
      },
      "execution_count": null,
      "outputs": []
    },
    {
      "cell_type": "code",
      "source": [
        "def subtract(a, b):\n",
        "  # fix this\n",
        "  return None\n",
        "\n",
        "def multiply(a, b):\n",
        "  # fix this\n",
        "  return None\n",
        "\n",
        "# Try tests again\n",
        "unittest.main(argv=['first-arg-is-ignored'], exit=False)\n"
      ],
      "metadata": {
        "id": "Ezu__Jo7lVjl"
      },
      "execution_count": null,
      "outputs": []
    },
    {
      "cell_type": "markdown",
      "source": [
        "## What is Software Engineering?\n",
        "\n",
        "Software engineering is the disciplined application of engineering principles to the design, development, maintenance, testing, and evaluation of software. This field encompasses not just the act of writing code, but also the initial conception of the solution, the management of project teams, the creation of models and diagrams to illustrate system structure, the anticipation of future user needs, and the creation of systems that are maintainable over time.\n",
        "\n",
        "One can think of software engineering as the architecture of the digital world. Just as architects must consider the functionality, aesthetics, and longevity of their buildings, software engineers must create software that is efficient, user-friendly, and robust against the test of time."
      ],
      "metadata": {
        "id": "RtOP19cduqw9"
      }
    },
    {
      "cell_type": "markdown",
      "source": [
        "### How Does Software Engineering Differ From Programming?\n",
        "\n",
        "While programming is an integral part of software engineering, it is not the entirety of it. Programming is the process of writing the code that instructs a computer on how to perform a task. It's a critical skill for software engineers, but it's just one aspect of their work.\n",
        "\n",
        "Software engineering, on the other hand, involves a higher-level, holistic approach. It includes:\n",
        "\n",
        "- **Analysis**: Understanding the problem and the needs of the users.\n",
        "- **Design**: Planning the structure of the software before a single line of code is written.\n",
        "- **Implementation**: This is where programming comes in, turning the design into working code.\n",
        "- **Testing**: Checking that the software works as intended and fixing any issues.\n",
        "- **Maintenance**: Updating and improving the software over time as user needs change and new technologies emerge.\n",
        "\n",
        "Imagine we're developing a video game featuring a snake main character. The programmers would focus on writing the code that dictates the snake's movement, the game physics, and the interactions between the characters. Meanwhile, the software engineers would be responsible for planning the game's overall structure, ensuring it can be easily updated with new levels or features, designing the user interface, and continuously testing and refining the gameplay experience.\n",
        "\n",
        "Software engineering is the glue that holds the project together and ensures that it not only works well but also meets the needs and expectations of its users and stakeholders.\n"
      ],
      "metadata": {
        "id": "S_X6DoZiv5el"
      }
    },
    {
      "cell_type": "markdown",
      "source": [
        "### What is the Waterfall Method?\n",
        "\n",
        "The **Waterfall method** is a linear and sequential approach to software development that is divided into distinct phases. Each phase must be completed before the next one begins, and there is little to no overlap between the stages. The name \"Waterfall\" is a metaphorical representation of how each phase cascades into the next.\n",
        "\n",
        "The typical phases of the Waterfall model include:\n",
        "\n",
        "1. **Requirements**: This is the stage where all the possible requirements of the system to be developed are captured in detail.\n",
        "2. **Design**: In this phase, the system's architecture and design specifications are created, often resulting in models and architectural documents.\n",
        "3. **Implementation**: Here, the actual source code is written to implement the design previously outlined.\n",
        "4. **Verification**: The software's functionality is rigorously tested to ensure it meets the initial requirements.\n",
        "5. **Maintenance**: After deployment, the system enters maintenance, where it will be updated and patched as needed based on user feedback and changing conditions.\n",
        "\n",
        "This method is often compared to a set of blueprints for a building; just as a construction project would not move to the physical construction phase before the blueprints are finalized, software development doesn't proceed to coding before the design is complete.\n",
        "\n",
        "The Waterfall method is best suited to projects where the requirements are very well understood and are unlikely to change over time. It is less flexible than methodologies like Agile (see the next section), which can adapt to changes more readily.\n",
        "\n",
        "To use our video game example, if we were using the Waterfall method to develop our snake-themed game, we would complete each game development phase for the entire game before moving to the next. We would gather all the game's requirements, complete all the design work, then write all the code, and only then would we start testing the game. Changes to the game design would be difficult to implement once we've moved past the design phase, emphasizing the importance of thorough and detailed initial requirements and design work in the Waterfall model.\n"
      ],
      "metadata": {
        "id": "fmhZf7v_u771"
      }
    },
    {
      "cell_type": "markdown",
      "source": [
        "### What is the Agile Method?\n",
        "\n",
        "**Agile Methodology** is a practice that promotes continuous iteration of development and testing throughout the software development lifecycle of the project. Unlike the Waterfall method, both development and testing activities are concurrent. This methodology is known for its flexibility and adaptability to changes.\n",
        "\n",
        "Key principles of Agile include:\n",
        "\n",
        "- **Individuals and interactions** over processes and tools.\n",
        "- **Working software** over comprehensive documentation.\n",
        "- **Customer collaboration** over contract negotiation.\n",
        "- **Responding to change** over following a plan.\n",
        "\n",
        "The Agile method provides a framework for accommodating changes and evolving requirements throughout the development process, often with regular 'sprints' or iterations. This iterative approach allows for feedback at each stage, which can be incorporated into the next version of the product.\n",
        "\n",
        "Within the context of our hypothetical video game development, using Agile means that the game would be developed in small sections called **iterations**. Each iteration would include planning, design, coding, and testing, and the product at the end of each iteration is a working game with added features from the previous version. This way, if the game developers wanted to change the storyline or gameplay based on user feedback or new ideas, they could do so in the next iteration without disrupting the entire development process.\n",
        "\n",
        "This approach is particularly effective for projects where the final product is not well defined from the outset and is expected to evolve in response to user feedback or market trends.\n"
      ],
      "metadata": {
        "id": "X9enSDMovN7d"
      }
    },
    {
      "cell_type": "markdown",
      "source": [
        "## Integrating Software Engineering Principles into Personal Projects\n",
        "\n",
        "Software engineering is not just about writing code—it's about ensuring that your software is reliable, maintainable, and fit for purpose. Even for personal projects, adopting software engineering principles can be extremely beneficial. Here’s how you can integrate a mix of universal principles, as well as ideas from both Waterfall and Agile methodologies, into your programming:\n",
        "\n",
        "### Establish Clear Objectives\n",
        "Before starting any project, define what you want to achieve. This aligns with the **initial phase** of Waterfall, where requirements are gathered and a clear plan is set. For a simple program, this might just mean writing down what the program will do and what it won't do.\n",
        "\n",
        "### Design Before You Build\n",
        "Spend time on design before you start coding. Like Waterfall, this ensures you have a solid architecture for your project. For small projects, this can be as simple as sketching out the major functions and how they interact with each other.\n",
        "\n",
        "### Build Incrementally\n",
        "Borrowing from Agile, start with the smallest possible version of your project that still delivers value. You can then incrementally add features, test them, and get feedback. This could mean starting with a command-line version of your game before adding a graphical interface.\n",
        "\n",
        "### Iterate and Reflect\n",
        "After each increment, reflect on what went well and what could be improved—this is a core idea from Agile's **retrospective**. Apply these lessons to the next iteration of your project.\n",
        "\n",
        "### Be Flexible but Deliberate\n",
        "Agile is about being flexible and responsive to change. Don’t be afraid to modify your design as you learn more about the problem you're solving. However, be deliberate about changes; don’t refactor or change directions without a good reason.\n",
        "\n",
        "### Test Continuously\n",
        "Both Waterfall and Agile emphasize testing, but Agile encourages continuous testing with each iteration. For personal projects, write tests for your code as you go, and run them frequently.\n",
        "\n",
        "### Choose the Right Method\n",
        "There’s no one-size-fits-all approach. For well-understood problems with clear requirements, a Waterfall approach might be more efficient. For projects where you expect requirements to change or you're exploring a new concept, Agile might be better.\n",
        "\n",
        "### Document\n",
        "Document your code and your learning process. Good documentation helps you remember why you made certain decisions and can guide future development.\n",
        "\n",
        "By blending these practices from both Waterfall and Agile, you can build a personal workflow that's disciplined yet flexible, allowing you to tackle a range of projects with confidence.\n"
      ],
      "metadata": {
        "id": "53ufMF9lw_zk"
      }
    },
    {
      "cell_type": "markdown",
      "source": [
        "## Discussion Questions: Software Engineering Approaches\n",
        "\n",
        "1. In what ways can modularity (developing and testing programs in small \"chunks\") benefit the development and maintenance of computer programs?\n",
        "\n",
        "2. Given the linear nature of the Waterfall method, what challenges might arise in adapting it to the evolving requirements of a video game?\n",
        "\n",
        "3. Agile emphasizes adaptability, but what could be the risks of too much flexibility in the development process of a game? Discuss how you might balance this."
      ],
      "metadata": {
        "id": "5l6TE6a0xtBB"
      }
    },
    {
      "cell_type": "markdown",
      "source": [
        "### Answers: Software Engineering\n",
        "1.\n",
        "\n",
        "2.\n",
        "\n",
        "3."
      ],
      "metadata": {
        "id": "bT4Rnig0yKrK"
      }
    },
    {
      "cell_type": "markdown",
      "source": [
        "## Review With Quizlet\n",
        "Run the following cell to launch the quizlet deck for this chapter."
      ],
      "metadata": {
        "id": "PylwOJDY5oRA"
      }
    },
    {
      "cell_type": "code",
      "source": [
        "%%html\n",
        "<iframe src=\"https://quizlet.com/847590764/learn/embed?i=psvlh&x=1jj1\" height=\"500\" width=\"100%\" style=\"border:0\"></iframe>"
      ],
      "metadata": {
        "id": "oUGVCnRV5wMz"
      },
      "execution_count": null,
      "outputs": []
    },
    {
      "cell_type": "markdown",
      "source": [
        "## Glossary\n",
        "\n",
        "| Term | Definition |\n",
        "| --- | --- |\n",
        "| Class | A structure that encapsulates data and operations that manipulate the data, serving as a template for creating similar entities. |\n",
        "| Object | An entity with state and behavior that is a concrete manifestation of a class. |\n",
        "| Attribute | A variable that belongs to a specific object |\n",
        "| Method | A procedure (function) associated with a class that performs a specific action on or with the entity's data. |\n",
        "| Constructor | A special method/function within a class that prepares a new instance by initializing its attributes. |\n",
        "| Inheritance | A relation between two classes where one shares the structure and behavior of another. |\n",
        "| Encapsulation | The practice of bundling data with the code operating on it, protecting information by restricting access to internal components. |\n",
        "| Polymorphism | The provision of a single interface to entities of different types or the use of a single symbol to represent multiple different types. |\n",
        "| Object-Oriented Design | The process of planning a system of interacting objects for the purpose of solving a software problem. |\n",
        "| Software Engineering | The discipline of designing, implementing, and maintaining software through systematic methodologies and practices. |\n",
        "| Unit Test | The process of verifying that individual components of source code are functional and correctly implemented. |\n",
        "| Waterfall | A linear and sequential development methodology where phases such as conception, initiation, analysis, design, construction, testing, and maintenance follow one another in downward progression. |\n",
        "| Agile | A flexible development methodology characterized by iterative progress, collaboration, and adaptation to change. |"
      ],
      "metadata": {
        "id": "M-pSgBL335Zg"
      }
    },
    {
      "cell_type": "code",
      "source": [],
      "metadata": {
        "id": "TUixa8VQ36W_"
      },
      "execution_count": null,
      "outputs": []
    }
  ]
}