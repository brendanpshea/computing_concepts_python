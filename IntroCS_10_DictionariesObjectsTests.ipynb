{
  "nbformat": 4,
  "nbformat_minor": 0,
  "metadata": {
    "colab": {
      "provenance": [],
      "authorship_tag": "ABX9TyNTktZvo5WiqonHWDTEj8eH",
      "include_colab_link": true
    },
    "kernelspec": {
      "name": "python3",
      "display_name": "Python 3"
    },
    "language_info": {
      "name": "python"
    },
    "widgets": {
      "application/vnd.jupyter.widget-state+json": {
        "5786dafe12da44ce88a72150b8622518": {
          "model_module": "@jupyter-widgets/controls",
          "model_name": "TabModel",
          "model_module_version": "1.5.0",
          "state": {
            "_dom_classes": [],
            "_model_module": "@jupyter-widgets/controls",
            "_model_module_version": "1.5.0",
            "_model_name": "TabModel",
            "_titles": {
              "0": "Directions",
              "1": "Problem",
              "2": "Test Results",
              "3": "Program Output"
            },
            "_view_count": null,
            "_view_module": "@jupyter-widgets/controls",
            "_view_module_version": "1.5.0",
            "_view_name": "TabView",
            "box_style": "",
            "children": [
              "IPY_MODEL_23a9f8eb749a475c97b37dfbfc6dc769",
              "IPY_MODEL_c028e228ee894a92944a982d46ab7819",
              "IPY_MODEL_751aa418a749478590050386ea32d40c",
              "IPY_MODEL_8d52779f864649709adba64400d896a5"
            ],
            "layout": "IPY_MODEL_eac4ce95561844c884c4d11015ce4134",
            "selected_index": 1
          }
        },
        "23a9f8eb749a475c97b37dfbfc6dc769": {
          "model_module": "@jupyter-widgets/output",
          "model_name": "OutputModel",
          "model_module_version": "1.0.0",
          "state": {
            "_dom_classes": [],
            "_model_module": "@jupyter-widgets/output",
            "_model_module_version": "1.0.0",
            "_model_name": "OutputModel",
            "_view_count": null,
            "_view_module": "@jupyter-widgets/output",
            "_view_module_version": "1.0.0",
            "_view_name": "OutputView",
            "layout": "IPY_MODEL_253f88bfc69a4fb299ab8cdd9c6bd1e4",
            "msg_id": "",
            "outputs": [
              {
                "output_type": "display_data",
                "data": {
                  "text/plain": "HTML(value='\\n<h2>Welcome to the Python Practice Tool</h2>\\n<p>This tool allows you to practice writing Python…",
                  "application/vnd.jupyter.widget-view+json": {
                    "version_major": 2,
                    "version_minor": 0,
                    "model_id": "b99ab396c5e24ded92e95237ebd5ac9d"
                  }
                },
                "metadata": {}
              }
            ]
          }
        },
        "c028e228ee894a92944a982d46ab7819": {
          "model_module": "@jupyter-widgets/controls",
          "model_name": "VBoxModel",
          "model_module_version": "1.5.0",
          "state": {
            "_dom_classes": [],
            "_model_module": "@jupyter-widgets/controls",
            "_model_module_version": "1.5.0",
            "_model_name": "VBoxModel",
            "_view_count": null,
            "_view_module": "@jupyter-widgets/controls",
            "_view_module_version": "1.5.0",
            "_view_name": "VBoxView",
            "box_style": "",
            "children": [
              "IPY_MODEL_5886e03ac0a5430983159ba219ba3aa4",
              "IPY_MODEL_e7fb8add85594ddb806bb0d4fd0d319a",
              "IPY_MODEL_45eba2485a6241e1b36ca73c4fe129da",
              "IPY_MODEL_83b76454d6a94585b073eeef27a65773",
              "IPY_MODEL_c9db356d8ed84e09bf7fd149856fe828"
            ],
            "layout": "IPY_MODEL_7401a7a2d5314d0da568da8f2c36377b"
          }
        },
        "751aa418a749478590050386ea32d40c": {
          "model_module": "@jupyter-widgets/output",
          "model_name": "OutputModel",
          "model_module_version": "1.0.0",
          "state": {
            "_dom_classes": [],
            "_model_module": "@jupyter-widgets/output",
            "_model_module_version": "1.0.0",
            "_model_name": "OutputModel",
            "_view_count": null,
            "_view_module": "@jupyter-widgets/output",
            "_view_module_version": "1.0.0",
            "_view_name": "OutputView",
            "layout": "IPY_MODEL_18b63f1499dd47f59b78f0c69e1fbfdc",
            "msg_id": "",
            "outputs": []
          }
        },
        "8d52779f864649709adba64400d896a5": {
          "model_module": "@jupyter-widgets/output",
          "model_name": "OutputModel",
          "model_module_version": "1.0.0",
          "state": {
            "_dom_classes": [],
            "_model_module": "@jupyter-widgets/output",
            "_model_module_version": "1.0.0",
            "_model_name": "OutputModel",
            "_view_count": null,
            "_view_module": "@jupyter-widgets/output",
            "_view_module_version": "1.0.0",
            "_view_name": "OutputView",
            "layout": "IPY_MODEL_9e8cc9c12f0443cf882eaec8957475aa",
            "msg_id": "",
            "outputs": []
          }
        },
        "eac4ce95561844c884c4d11015ce4134": {
          "model_module": "@jupyter-widgets/base",
          "model_name": "LayoutModel",
          "model_module_version": "1.2.0",
          "state": {
            "_model_module": "@jupyter-widgets/base",
            "_model_module_version": "1.2.0",
            "_model_name": "LayoutModel",
            "_view_count": null,
            "_view_module": "@jupyter-widgets/base",
            "_view_module_version": "1.2.0",
            "_view_name": "LayoutView",
            "align_content": null,
            "align_items": null,
            "align_self": null,
            "border": null,
            "bottom": null,
            "display": null,
            "flex": null,
            "flex_flow": null,
            "grid_area": null,
            "grid_auto_columns": null,
            "grid_auto_flow": null,
            "grid_auto_rows": null,
            "grid_column": null,
            "grid_gap": null,
            "grid_row": null,
            "grid_template_areas": null,
            "grid_template_columns": null,
            "grid_template_rows": null,
            "height": null,
            "justify_content": null,
            "justify_items": null,
            "left": null,
            "margin": null,
            "max_height": null,
            "max_width": null,
            "min_height": null,
            "min_width": null,
            "object_fit": null,
            "object_position": null,
            "order": null,
            "overflow": null,
            "overflow_x": null,
            "overflow_y": null,
            "padding": null,
            "right": null,
            "top": null,
            "visibility": null,
            "width": null
          }
        },
        "5886e03ac0a5430983159ba219ba3aa4": {
          "model_module": "@jupyter-widgets/controls",
          "model_name": "IntProgressModel",
          "model_module_version": "1.5.0",
          "state": {
            "_dom_classes": [],
            "_model_module": "@jupyter-widgets/controls",
            "_model_module_version": "1.5.0",
            "_model_name": "IntProgressModel",
            "_view_count": null,
            "_view_module": "@jupyter-widgets/controls",
            "_view_module_version": "1.5.0",
            "_view_name": "ProgressView",
            "bar_style": "info",
            "description": "Progress:",
            "description_tooltip": null,
            "layout": "IPY_MODEL_2ceae49b27264d049034c191736e5937",
            "max": 10,
            "min": 0,
            "orientation": "horizontal",
            "style": "IPY_MODEL_11225078585c4d39b568fee63e4b7336",
            "value": 0
          }
        },
        "e7fb8add85594ddb806bb0d4fd0d319a": {
          "model_module": "@jupyter-widgets/controls",
          "model_name": "HTMLModel",
          "model_module_version": "1.5.0",
          "state": {
            "_dom_classes": [],
            "_model_module": "@jupyter-widgets/controls",
            "_model_module_version": "1.5.0",
            "_model_name": "HTMLModel",
            "_view_count": null,
            "_view_module": "@jupyter-widgets/controls",
            "_view_module_version": "1.5.0",
            "_view_name": "HTMLView",
            "description": "",
            "description_tooltip": null,
            "layout": "IPY_MODEL_1e86f324c2ea43c1a7981b656311ac90",
            "placeholder": "​",
            "style": "IPY_MODEL_9be6c35b341f4de4847f62deddbcd968",
            "value": "<h3>Question 1 of 10</h3><p>Write a function <b>create_pet_profile(name, species, age)</b> to: Create a dictionary that stores information about a pet. The dictionary should have three keys: 'name', 'species', and 'age', with their corresponding values from the parameters. This function shows how to create a new dictionary and set multiple key-value pairs..</p><h4>Sample Runs:</h4><div style=\"overflow-x: auto;\"><style type=\"text/css\">\n#T_e03a3 th {\n  font-weight: bold;\n  text-align: left;\n  border: 1px solid black;\n  padding: 8px;\n}\n#T_e03a3 td {\n  text-align: left;\n  border: 1px solid black;\n  padding: 8px;\n}\n#T_e03a3 table {\n  border-collapse: collapse;\n  width: 100%;\n}\n#T_e03a3_row0_col0, #T_e03a3_row0_col1, #T_e03a3_row1_col0, #T_e03a3_row1_col1, #T_e03a3_row2_col0, #T_e03a3_row2_col1 {\n  text-align: left;\n  white-space: pre-wrap;\n  border: 1px solid black;\n  padding: 8px;\n}\n</style>\n<table id=\"T_e03a3\">\n  <thead>\n    <tr>\n      <th class=\"blank level0\" >&nbsp;</th>\n      <th id=\"T_e03a3_level0_col0\" class=\"col_heading level0 col0\" >Input</th>\n      <th id=\"T_e03a3_level0_col1\" class=\"col_heading level0 col1\" >Output</th>\n    </tr>\n  </thead>\n  <tbody>\n    <tr>\n      <th id=\"T_e03a3_level0_row0\" class=\"row_heading level0 row0\" >0</th>\n      <td id=\"T_e03a3_row0_col0\" class=\"data row0 col0\" >create_pet_profile('Max', 'dog', 5)</td>\n      <td id=\"T_e03a3_row0_col1\" class=\"data row0 col1\" >{&#x27;name&#x27;: &#x27;Max&#x27;, &#x27;species&#x27;: &#x27;dog&#x27;, &#x27;age&#x27;: 5}</td>\n    </tr>\n    <tr>\n      <th id=\"T_e03a3_level0_row1\" class=\"row_heading level0 row1\" >1</th>\n      <td id=\"T_e03a3_row1_col0\" class=\"data row1 col0\" >create_pet_profile('Ziggy', 'hamster', 1)</td>\n      <td id=\"T_e03a3_row1_col1\" class=\"data row1 col1\" >{&#x27;name&#x27;: &#x27;Ziggy&#x27;, &#x27;species&#x27;: &#x27;hamster&#x27;, &#x27;age&#x27;: 1}</td>\n    </tr>\n    <tr>\n      <th id=\"T_e03a3_level0_row2\" class=\"row_heading level0 row2\" >2</th>\n      <td id=\"T_e03a3_row2_col0\" class=\"data row2 col0\" >create_pet_profile('Pip', 'parrot', 2)</td>\n      <td id=\"T_e03a3_row2_col1\" class=\"data row2 col1\" >{&#x27;name&#x27;: &#x27;Pip&#x27;, &#x27;species&#x27;: &#x27;parrot&#x27;, &#x27;age&#x27;: 2}</td>\n    </tr>\n  </tbody>\n</table>\n</div>"
          }
        },
        "45eba2485a6241e1b36ca73c4fe129da": {
          "model_module": "@jupyter-widgets/controls",
          "model_name": "TextareaModel",
          "model_module_version": "1.5.0",
          "state": {
            "_dom_classes": [],
            "_model_module": "@jupyter-widgets/controls",
            "_model_module_version": "1.5.0",
            "_model_name": "TextareaModel",
            "_view_count": null,
            "_view_module": "@jupyter-widgets/controls",
            "_view_module_version": "1.5.0",
            "_view_name": "TextareaView",
            "continuous_update": true,
            "description": "",
            "description_tooltip": null,
            "disabled": false,
            "layout": "IPY_MODEL_8520fe78290e42f38eca0c7a7098c2ff",
            "placeholder": "Type your code here",
            "rows": null,
            "style": "IPY_MODEL_0612a7300ea64379b35f7b5b9eb7b575",
            "value": "def create_pet_profile(name, species, age):\n    pass"
          }
        },
        "83b76454d6a94585b073eeef27a65773": {
          "model_module": "@jupyter-widgets/controls",
          "model_name": "HBoxModel",
          "model_module_version": "1.5.0",
          "state": {
            "_dom_classes": [],
            "_model_module": "@jupyter-widgets/controls",
            "_model_module_version": "1.5.0",
            "_model_name": "HBoxModel",
            "_view_count": null,
            "_view_module": "@jupyter-widgets/controls",
            "_view_module_version": "1.5.0",
            "_view_name": "HBoxView",
            "box_style": "",
            "children": [
              "IPY_MODEL_e69d2560188c46dd91be7e93648c38cb",
              "IPY_MODEL_de254a7ef36e4089b91cef0049c759c4",
              "IPY_MODEL_19449084940541d6a0e5a099c48a4d7d",
              "IPY_MODEL_7c2d091ce8de4e45bfc1a94b83e6540e",
              "IPY_MODEL_3f1e8c321cae487eb0ca1a9b5077c151"
            ],
            "layout": "IPY_MODEL_ec961a9ab9eb4445ac36b1e811ab860e"
          }
        },
        "c9db356d8ed84e09bf7fd149856fe828": {
          "model_module": "@jupyter-widgets/output",
          "model_name": "OutputModel",
          "model_module_version": "1.0.0",
          "state": {
            "_dom_classes": [],
            "_model_module": "@jupyter-widgets/output",
            "_model_module_version": "1.0.0",
            "_model_name": "OutputModel",
            "_view_count": null,
            "_view_module": "@jupyter-widgets/output",
            "_view_module_version": "1.0.0",
            "_view_name": "OutputView",
            "layout": "IPY_MODEL_00b8a20a6bcb48ff897b1a85de24b014",
            "msg_id": "",
            "outputs": []
          }
        },
        "7401a7a2d5314d0da568da8f2c36377b": {
          "model_module": "@jupyter-widgets/base",
          "model_name": "LayoutModel",
          "model_module_version": "1.2.0",
          "state": {
            "_model_module": "@jupyter-widgets/base",
            "_model_module_version": "1.2.0",
            "_model_name": "LayoutModel",
            "_view_count": null,
            "_view_module": "@jupyter-widgets/base",
            "_view_module_version": "1.2.0",
            "_view_name": "LayoutView",
            "align_content": null,
            "align_items": null,
            "align_self": null,
            "border": null,
            "bottom": null,
            "display": null,
            "flex": null,
            "flex_flow": null,
            "grid_area": null,
            "grid_auto_columns": null,
            "grid_auto_flow": null,
            "grid_auto_rows": null,
            "grid_column": null,
            "grid_gap": null,
            "grid_row": null,
            "grid_template_areas": null,
            "grid_template_columns": null,
            "grid_template_rows": null,
            "height": null,
            "justify_content": null,
            "justify_items": null,
            "left": null,
            "margin": null,
            "max_height": null,
            "max_width": null,
            "min_height": null,
            "min_width": null,
            "object_fit": null,
            "object_position": null,
            "order": null,
            "overflow": null,
            "overflow_x": null,
            "overflow_y": null,
            "padding": null,
            "right": null,
            "top": null,
            "visibility": null,
            "width": null
          }
        },
        "2ceae49b27264d049034c191736e5937": {
          "model_module": "@jupyter-widgets/base",
          "model_name": "LayoutModel",
          "model_module_version": "1.2.0",
          "state": {
            "_model_module": "@jupyter-widgets/base",
            "_model_module_version": "1.2.0",
            "_model_name": "LayoutModel",
            "_view_count": null,
            "_view_module": "@jupyter-widgets/base",
            "_view_module_version": "1.2.0",
            "_view_name": "LayoutView",
            "align_content": null,
            "align_items": null,
            "align_self": null,
            "border": null,
            "bottom": null,
            "display": null,
            "flex": null,
            "flex_flow": null,
            "grid_area": null,
            "grid_auto_columns": null,
            "grid_auto_flow": null,
            "grid_auto_rows": null,
            "grid_column": null,
            "grid_gap": null,
            "grid_row": null,
            "grid_template_areas": null,
            "grid_template_columns": null,
            "grid_template_rows": null,
            "height": null,
            "justify_content": null,
            "justify_items": null,
            "left": null,
            "margin": null,
            "max_height": null,
            "max_width": null,
            "min_height": null,
            "min_width": null,
            "object_fit": null,
            "object_position": null,
            "order": null,
            "overflow": null,
            "overflow_x": null,
            "overflow_y": null,
            "padding": null,
            "right": null,
            "top": null,
            "visibility": null,
            "width": "100%"
          }
        },
        "11225078585c4d39b568fee63e4b7336": {
          "model_module": "@jupyter-widgets/controls",
          "model_name": "ProgressStyleModel",
          "model_module_version": "1.5.0",
          "state": {
            "_model_module": "@jupyter-widgets/controls",
            "_model_module_version": "1.5.0",
            "_model_name": "ProgressStyleModel",
            "_view_count": null,
            "_view_module": "@jupyter-widgets/base",
            "_view_module_version": "1.2.0",
            "_view_name": "StyleView",
            "bar_color": null,
            "description_width": ""
          }
        },
        "1e86f324c2ea43c1a7981b656311ac90": {
          "model_module": "@jupyter-widgets/base",
          "model_name": "LayoutModel",
          "model_module_version": "1.2.0",
          "state": {
            "_model_module": "@jupyter-widgets/base",
            "_model_module_version": "1.2.0",
            "_model_name": "LayoutModel",
            "_view_count": null,
            "_view_module": "@jupyter-widgets/base",
            "_view_module_version": "1.2.0",
            "_view_name": "LayoutView",
            "align_content": null,
            "align_items": null,
            "align_self": null,
            "border": null,
            "bottom": null,
            "display": null,
            "flex": null,
            "flex_flow": null,
            "grid_area": null,
            "grid_auto_columns": null,
            "grid_auto_flow": null,
            "grid_auto_rows": null,
            "grid_column": null,
            "grid_gap": null,
            "grid_row": null,
            "grid_template_areas": null,
            "grid_template_columns": null,
            "grid_template_rows": null,
            "height": null,
            "justify_content": null,
            "justify_items": null,
            "left": null,
            "margin": null,
            "max_height": null,
            "max_width": null,
            "min_height": null,
            "min_width": null,
            "object_fit": null,
            "object_position": null,
            "order": null,
            "overflow": null,
            "overflow_x": null,
            "overflow_y": null,
            "padding": null,
            "right": null,
            "top": null,
            "visibility": null,
            "width": null
          }
        },
        "9be6c35b341f4de4847f62deddbcd968": {
          "model_module": "@jupyter-widgets/controls",
          "model_name": "DescriptionStyleModel",
          "model_module_version": "1.5.0",
          "state": {
            "_model_module": "@jupyter-widgets/controls",
            "_model_module_version": "1.5.0",
            "_model_name": "DescriptionStyleModel",
            "_view_count": null,
            "_view_module": "@jupyter-widgets/base",
            "_view_module_version": "1.2.0",
            "_view_name": "StyleView",
            "description_width": ""
          }
        },
        "8520fe78290e42f38eca0c7a7098c2ff": {
          "model_module": "@jupyter-widgets/base",
          "model_name": "LayoutModel",
          "model_module_version": "1.2.0",
          "state": {
            "_model_module": "@jupyter-widgets/base",
            "_model_module_version": "1.2.0",
            "_model_name": "LayoutModel",
            "_view_count": null,
            "_view_module": "@jupyter-widgets/base",
            "_view_module_version": "1.2.0",
            "_view_name": "LayoutView",
            "align_content": null,
            "align_items": null,
            "align_self": null,
            "border": null,
            "bottom": null,
            "display": null,
            "flex": null,
            "flex_flow": null,
            "grid_area": null,
            "grid_auto_columns": null,
            "grid_auto_flow": null,
            "grid_auto_rows": null,
            "grid_column": null,
            "grid_gap": null,
            "grid_row": null,
            "grid_template_areas": null,
            "grid_template_columns": null,
            "grid_template_rows": null,
            "height": "200px",
            "justify_content": null,
            "justify_items": null,
            "left": null,
            "margin": null,
            "max_height": null,
            "max_width": null,
            "min_height": null,
            "min_width": null,
            "object_fit": null,
            "object_position": null,
            "order": null,
            "overflow": null,
            "overflow_x": null,
            "overflow_y": null,
            "padding": null,
            "right": null,
            "top": null,
            "visibility": null,
            "width": "100%"
          }
        },
        "0612a7300ea64379b35f7b5b9eb7b575": {
          "model_module": "@jupyter-widgets/controls",
          "model_name": "DescriptionStyleModel",
          "model_module_version": "1.5.0",
          "state": {
            "_model_module": "@jupyter-widgets/controls",
            "_model_module_version": "1.5.0",
            "_model_name": "DescriptionStyleModel",
            "_view_count": null,
            "_view_module": "@jupyter-widgets/base",
            "_view_module_version": "1.2.0",
            "_view_name": "StyleView",
            "description_width": ""
          }
        },
        "e69d2560188c46dd91be7e93648c38cb": {
          "model_module": "@jupyter-widgets/controls",
          "model_name": "ButtonModel",
          "model_module_version": "1.5.0",
          "state": {
            "_dom_classes": [],
            "_model_module": "@jupyter-widgets/controls",
            "_model_module_version": "1.5.0",
            "_model_name": "ButtonModel",
            "_view_count": null,
            "_view_module": "@jupyter-widgets/controls",
            "_view_module_version": "1.5.0",
            "_view_name": "ButtonView",
            "button_style": "success",
            "description": "Run",
            "disabled": false,
            "icon": "check",
            "layout": "IPY_MODEL_3e6b316eaac34b9ebffca23619e78525",
            "style": "IPY_MODEL_422fcc4a836f455dbaacabab8ac8810b",
            "tooltip": "Run your code"
          }
        },
        "de254a7ef36e4089b91cef0049c759c4": {
          "model_module": "@jupyter-widgets/controls",
          "model_name": "ButtonModel",
          "model_module_version": "1.5.0",
          "state": {
            "_dom_classes": [],
            "_model_module": "@jupyter-widgets/controls",
            "_model_module_version": "1.5.0",
            "_model_name": "ButtonModel",
            "_view_count": null,
            "_view_module": "@jupyter-widgets/controls",
            "_view_module_version": "1.5.0",
            "_view_name": "ButtonView",
            "button_style": "warning",
            "description": "Retry",
            "disabled": false,
            "icon": "refresh",
            "layout": "IPY_MODEL_2262fabbb5184eb397440e7dca7275ea",
            "style": "IPY_MODEL_b4dbbdf02118446d979c7e90dca56529",
            "tooltip": "Reset your code"
          }
        },
        "19449084940541d6a0e5a099c48a4d7d": {
          "model_module": "@jupyter-widgets/controls",
          "model_name": "ButtonModel",
          "model_module_version": "1.5.0",
          "state": {
            "_dom_classes": [],
            "_model_module": "@jupyter-widgets/controls",
            "_model_module_version": "1.5.0",
            "_model_name": "ButtonModel",
            "_view_count": null,
            "_view_module": "@jupyter-widgets/controls",
            "_view_module_version": "1.5.0",
            "_view_name": "ButtonView",
            "button_style": "info",
            "description": "Next",
            "disabled": true,
            "icon": "arrow-right",
            "layout": "IPY_MODEL_be04fc06e670406b8b3cdb8b4670c224",
            "style": "IPY_MODEL_e648f324e15e4f1c9f95e25022a616fd",
            "tooltip": "Next question"
          }
        },
        "7c2d091ce8de4e45bfc1a94b83e6540e": {
          "model_module": "@jupyter-widgets/controls",
          "model_name": "ButtonModel",
          "model_module_version": "1.5.0",
          "state": {
            "_dom_classes": [],
            "_model_module": "@jupyter-widgets/controls",
            "_model_module_version": "1.5.0",
            "_model_name": "ButtonModel",
            "_view_count": null,
            "_view_module": "@jupyter-widgets/controls",
            "_view_module_version": "1.5.0",
            "_view_name": "ButtonView",
            "button_style": "primary",
            "description": "Show Hint",
            "disabled": false,
            "icon": "lightbulb-o",
            "layout": "IPY_MODEL_196ed5e6674549d593fa526da73d6cdc",
            "style": "IPY_MODEL_7f120f5125634477a18150da0000b27b",
            "tooltip": "Show a hint"
          }
        },
        "3f1e8c321cae487eb0ca1a9b5077c151": {
          "model_module": "@jupyter-widgets/controls",
          "model_name": "DropdownModel",
          "model_module_version": "1.5.0",
          "state": {
            "_dom_classes": [],
            "_model_module": "@jupyter-widgets/controls",
            "_model_module_version": "1.5.0",
            "_model_name": "DropdownModel",
            "_options_labels": [
              "Problem 1",
              "Problem 2",
              "Problem 3",
              "Problem 4",
              "Problem 5",
              "Problem 6",
              "Problem 7",
              "Problem 8",
              "Problem 9",
              "Problem 10"
            ],
            "_view_count": null,
            "_view_module": "@jupyter-widgets/controls",
            "_view_module_version": "1.5.0",
            "_view_name": "DropdownView",
            "description": "Skip to:",
            "description_tooltip": null,
            "disabled": false,
            "index": 0,
            "layout": "IPY_MODEL_dc06b8b78ff54cfdbb3ed2b44d8aea56",
            "style": "IPY_MODEL_7d61bcdf0fa64046ae146942295e13ba"
          }
        },
        "ec961a9ab9eb4445ac36b1e811ab860e": {
          "model_module": "@jupyter-widgets/base",
          "model_name": "LayoutModel",
          "model_module_version": "1.2.0",
          "state": {
            "_model_module": "@jupyter-widgets/base",
            "_model_module_version": "1.2.0",
            "_model_name": "LayoutModel",
            "_view_count": null,
            "_view_module": "@jupyter-widgets/base",
            "_view_module_version": "1.2.0",
            "_view_name": "LayoutView",
            "align_content": null,
            "align_items": null,
            "align_self": null,
            "border": null,
            "bottom": null,
            "display": null,
            "flex": null,
            "flex_flow": null,
            "grid_area": null,
            "grid_auto_columns": null,
            "grid_auto_flow": null,
            "grid_auto_rows": null,
            "grid_column": null,
            "grid_gap": null,
            "grid_row": null,
            "grid_template_areas": null,
            "grid_template_columns": null,
            "grid_template_rows": null,
            "height": null,
            "justify_content": null,
            "justify_items": null,
            "left": null,
            "margin": null,
            "max_height": null,
            "max_width": null,
            "min_height": null,
            "min_width": null,
            "object_fit": null,
            "object_position": null,
            "order": null,
            "overflow": null,
            "overflow_x": null,
            "overflow_y": null,
            "padding": null,
            "right": null,
            "top": null,
            "visibility": null,
            "width": null
          }
        },
        "3e6b316eaac34b9ebffca23619e78525": {
          "model_module": "@jupyter-widgets/base",
          "model_name": "LayoutModel",
          "model_module_version": "1.2.0",
          "state": {
            "_model_module": "@jupyter-widgets/base",
            "_model_module_version": "1.2.0",
            "_model_name": "LayoutModel",
            "_view_count": null,
            "_view_module": "@jupyter-widgets/base",
            "_view_module_version": "1.2.0",
            "_view_name": "LayoutView",
            "align_content": null,
            "align_items": null,
            "align_self": null,
            "border": null,
            "bottom": null,
            "display": null,
            "flex": null,
            "flex_flow": null,
            "grid_area": null,
            "grid_auto_columns": null,
            "grid_auto_flow": null,
            "grid_auto_rows": null,
            "grid_column": null,
            "grid_gap": null,
            "grid_row": null,
            "grid_template_areas": null,
            "grid_template_columns": null,
            "grid_template_rows": null,
            "height": null,
            "justify_content": null,
            "justify_items": null,
            "left": null,
            "margin": null,
            "max_height": null,
            "max_width": null,
            "min_height": null,
            "min_width": null,
            "object_fit": null,
            "object_position": null,
            "order": null,
            "overflow": null,
            "overflow_x": null,
            "overflow_y": null,
            "padding": null,
            "right": null,
            "top": null,
            "visibility": null,
            "width": null
          }
        },
        "422fcc4a836f455dbaacabab8ac8810b": {
          "model_module": "@jupyter-widgets/controls",
          "model_name": "ButtonStyleModel",
          "model_module_version": "1.5.0",
          "state": {
            "_model_module": "@jupyter-widgets/controls",
            "_model_module_version": "1.5.0",
            "_model_name": "ButtonStyleModel",
            "_view_count": null,
            "_view_module": "@jupyter-widgets/base",
            "_view_module_version": "1.2.0",
            "_view_name": "StyleView",
            "button_color": null,
            "font_weight": ""
          }
        },
        "2262fabbb5184eb397440e7dca7275ea": {
          "model_module": "@jupyter-widgets/base",
          "model_name": "LayoutModel",
          "model_module_version": "1.2.0",
          "state": {
            "_model_module": "@jupyter-widgets/base",
            "_model_module_version": "1.2.0",
            "_model_name": "LayoutModel",
            "_view_count": null,
            "_view_module": "@jupyter-widgets/base",
            "_view_module_version": "1.2.0",
            "_view_name": "LayoutView",
            "align_content": null,
            "align_items": null,
            "align_self": null,
            "border": null,
            "bottom": null,
            "display": null,
            "flex": null,
            "flex_flow": null,
            "grid_area": null,
            "grid_auto_columns": null,
            "grid_auto_flow": null,
            "grid_auto_rows": null,
            "grid_column": null,
            "grid_gap": null,
            "grid_row": null,
            "grid_template_areas": null,
            "grid_template_columns": null,
            "grid_template_rows": null,
            "height": null,
            "justify_content": null,
            "justify_items": null,
            "left": null,
            "margin": null,
            "max_height": null,
            "max_width": null,
            "min_height": null,
            "min_width": null,
            "object_fit": null,
            "object_position": null,
            "order": null,
            "overflow": null,
            "overflow_x": null,
            "overflow_y": null,
            "padding": null,
            "right": null,
            "top": null,
            "visibility": null,
            "width": null
          }
        },
        "b4dbbdf02118446d979c7e90dca56529": {
          "model_module": "@jupyter-widgets/controls",
          "model_name": "ButtonStyleModel",
          "model_module_version": "1.5.0",
          "state": {
            "_model_module": "@jupyter-widgets/controls",
            "_model_module_version": "1.5.0",
            "_model_name": "ButtonStyleModel",
            "_view_count": null,
            "_view_module": "@jupyter-widgets/base",
            "_view_module_version": "1.2.0",
            "_view_name": "StyleView",
            "button_color": null,
            "font_weight": ""
          }
        },
        "be04fc06e670406b8b3cdb8b4670c224": {
          "model_module": "@jupyter-widgets/base",
          "model_name": "LayoutModel",
          "model_module_version": "1.2.0",
          "state": {
            "_model_module": "@jupyter-widgets/base",
            "_model_module_version": "1.2.0",
            "_model_name": "LayoutModel",
            "_view_count": null,
            "_view_module": "@jupyter-widgets/base",
            "_view_module_version": "1.2.0",
            "_view_name": "LayoutView",
            "align_content": null,
            "align_items": null,
            "align_self": null,
            "border": null,
            "bottom": null,
            "display": null,
            "flex": null,
            "flex_flow": null,
            "grid_area": null,
            "grid_auto_columns": null,
            "grid_auto_flow": null,
            "grid_auto_rows": null,
            "grid_column": null,
            "grid_gap": null,
            "grid_row": null,
            "grid_template_areas": null,
            "grid_template_columns": null,
            "grid_template_rows": null,
            "height": null,
            "justify_content": null,
            "justify_items": null,
            "left": null,
            "margin": null,
            "max_height": null,
            "max_width": null,
            "min_height": null,
            "min_width": null,
            "object_fit": null,
            "object_position": null,
            "order": null,
            "overflow": null,
            "overflow_x": null,
            "overflow_y": null,
            "padding": null,
            "right": null,
            "top": null,
            "visibility": null,
            "width": null
          }
        },
        "e648f324e15e4f1c9f95e25022a616fd": {
          "model_module": "@jupyter-widgets/controls",
          "model_name": "ButtonStyleModel",
          "model_module_version": "1.5.0",
          "state": {
            "_model_module": "@jupyter-widgets/controls",
            "_model_module_version": "1.5.0",
            "_model_name": "ButtonStyleModel",
            "_view_count": null,
            "_view_module": "@jupyter-widgets/base",
            "_view_module_version": "1.2.0",
            "_view_name": "StyleView",
            "button_color": null,
            "font_weight": ""
          }
        },
        "196ed5e6674549d593fa526da73d6cdc": {
          "model_module": "@jupyter-widgets/base",
          "model_name": "LayoutModel",
          "model_module_version": "1.2.0",
          "state": {
            "_model_module": "@jupyter-widgets/base",
            "_model_module_version": "1.2.0",
            "_model_name": "LayoutModel",
            "_view_count": null,
            "_view_module": "@jupyter-widgets/base",
            "_view_module_version": "1.2.0",
            "_view_name": "LayoutView",
            "align_content": null,
            "align_items": null,
            "align_self": null,
            "border": null,
            "bottom": null,
            "display": null,
            "flex": null,
            "flex_flow": null,
            "grid_area": null,
            "grid_auto_columns": null,
            "grid_auto_flow": null,
            "grid_auto_rows": null,
            "grid_column": null,
            "grid_gap": null,
            "grid_row": null,
            "grid_template_areas": null,
            "grid_template_columns": null,
            "grid_template_rows": null,
            "height": null,
            "justify_content": null,
            "justify_items": null,
            "left": null,
            "margin": null,
            "max_height": null,
            "max_width": null,
            "min_height": null,
            "min_width": null,
            "object_fit": null,
            "object_position": null,
            "order": null,
            "overflow": null,
            "overflow_x": null,
            "overflow_y": null,
            "padding": null,
            "right": null,
            "top": null,
            "visibility": null,
            "width": null
          }
        },
        "7f120f5125634477a18150da0000b27b": {
          "model_module": "@jupyter-widgets/controls",
          "model_name": "ButtonStyleModel",
          "model_module_version": "1.5.0",
          "state": {
            "_model_module": "@jupyter-widgets/controls",
            "_model_module_version": "1.5.0",
            "_model_name": "ButtonStyleModel",
            "_view_count": null,
            "_view_module": "@jupyter-widgets/base",
            "_view_module_version": "1.2.0",
            "_view_name": "StyleView",
            "button_color": null,
            "font_weight": ""
          }
        },
        "dc06b8b78ff54cfdbb3ed2b44d8aea56": {
          "model_module": "@jupyter-widgets/base",
          "model_name": "LayoutModel",
          "model_module_version": "1.2.0",
          "state": {
            "_model_module": "@jupyter-widgets/base",
            "_model_module_version": "1.2.0",
            "_model_name": "LayoutModel",
            "_view_count": null,
            "_view_module": "@jupyter-widgets/base",
            "_view_module_version": "1.2.0",
            "_view_name": "LayoutView",
            "align_content": null,
            "align_items": null,
            "align_self": null,
            "border": null,
            "bottom": null,
            "display": null,
            "flex": null,
            "flex_flow": null,
            "grid_area": null,
            "grid_auto_columns": null,
            "grid_auto_flow": null,
            "grid_auto_rows": null,
            "grid_column": null,
            "grid_gap": null,
            "grid_row": null,
            "grid_template_areas": null,
            "grid_template_columns": null,
            "grid_template_rows": null,
            "height": null,
            "justify_content": null,
            "justify_items": null,
            "left": null,
            "margin": null,
            "max_height": null,
            "max_width": null,
            "min_height": null,
            "min_width": null,
            "object_fit": null,
            "object_position": null,
            "order": null,
            "overflow": null,
            "overflow_x": null,
            "overflow_y": null,
            "padding": null,
            "right": null,
            "top": null,
            "visibility": null,
            "width": "200px"
          }
        },
        "7d61bcdf0fa64046ae146942295e13ba": {
          "model_module": "@jupyter-widgets/controls",
          "model_name": "DescriptionStyleModel",
          "model_module_version": "1.5.0",
          "state": {
            "_model_module": "@jupyter-widgets/controls",
            "_model_module_version": "1.5.0",
            "_model_name": "DescriptionStyleModel",
            "_view_count": null,
            "_view_module": "@jupyter-widgets/base",
            "_view_module_version": "1.2.0",
            "_view_name": "StyleView",
            "description_width": ""
          }
        },
        "b99ab396c5e24ded92e95237ebd5ac9d": {
          "model_module": "@jupyter-widgets/controls",
          "model_name": "HTMLModel",
          "model_module_version": "1.5.0",
          "state": {
            "_dom_classes": [],
            "_model_module": "@jupyter-widgets/controls",
            "_model_module_version": "1.5.0",
            "_model_name": "HTMLModel",
            "_view_count": null,
            "_view_module": "@jupyter-widgets/controls",
            "_view_module_version": "1.5.0",
            "_view_name": "HTMLView",
            "description": "",
            "description_tooltip": null,
            "layout": "IPY_MODEL_071cba2da0ed4a8390522dbc7b7deae4",
            "placeholder": "​",
            "style": "IPY_MODEL_9a6dcd4e0301487ba98166f5dde03b06",
            "value": "\n<h2>Welcome to the Python Practice Tool</h2>\n<p>This tool allows you to practice writing Python functions.</p>\n<p><strong>Instructions:</strong></p>\n<ul>\n<li>Read the problem description in the <strong>Problem</strong> tab.</li>\n<li>Write your function in the code area provided.</li>\n<li>Click <strong>Run</strong> to test your code.</li>\n<li>Click <strong>Retry</strong> to reset your code.</li>\n<li>Click <strong>Next</strong> to proceed after passing all tests.</li>\n<li>Use <strong>Show Hint</strong> if you need assistance.</li>\n<li>Select a problem from <strong>Skip to</strong> to navigate directly.</li>\n</ul>\n<p><strong>Python Function Basics:</strong></p>\n<ul>\n<li>Define functions using <code>def</code>.</li>\n<li>Specify parameters in parentheses.</li>\n<li>Indent the function body.</li>\n<li>Use <code>return</code> to output a value.</li>\n</ul>\n"
          }
        },
        "253f88bfc69a4fb299ab8cdd9c6bd1e4": {
          "model_module": "@jupyter-widgets/base",
          "model_name": "LayoutModel",
          "model_module_version": "1.2.0",
          "state": {
            "_model_module": "@jupyter-widgets/base",
            "_model_module_version": "1.2.0",
            "_model_name": "LayoutModel",
            "_view_count": null,
            "_view_module": "@jupyter-widgets/base",
            "_view_module_version": "1.2.0",
            "_view_name": "LayoutView",
            "align_content": null,
            "align_items": null,
            "align_self": null,
            "border": null,
            "bottom": null,
            "display": null,
            "flex": null,
            "flex_flow": null,
            "grid_area": null,
            "grid_auto_columns": null,
            "grid_auto_flow": null,
            "grid_auto_rows": null,
            "grid_column": null,
            "grid_gap": null,
            "grid_row": null,
            "grid_template_areas": null,
            "grid_template_columns": null,
            "grid_template_rows": null,
            "height": null,
            "justify_content": null,
            "justify_items": null,
            "left": null,
            "margin": null,
            "max_height": null,
            "max_width": null,
            "min_height": null,
            "min_width": null,
            "object_fit": null,
            "object_position": null,
            "order": null,
            "overflow": null,
            "overflow_x": null,
            "overflow_y": null,
            "padding": null,
            "right": null,
            "top": null,
            "visibility": null,
            "width": null
          }
        },
        "18b63f1499dd47f59b78f0c69e1fbfdc": {
          "model_module": "@jupyter-widgets/base",
          "model_name": "LayoutModel",
          "model_module_version": "1.2.0",
          "state": {
            "_model_module": "@jupyter-widgets/base",
            "_model_module_version": "1.2.0",
            "_model_name": "LayoutModel",
            "_view_count": null,
            "_view_module": "@jupyter-widgets/base",
            "_view_module_version": "1.2.0",
            "_view_name": "LayoutView",
            "align_content": null,
            "align_items": null,
            "align_self": null,
            "border": null,
            "bottom": null,
            "display": null,
            "flex": null,
            "flex_flow": null,
            "grid_area": null,
            "grid_auto_columns": null,
            "grid_auto_flow": null,
            "grid_auto_rows": null,
            "grid_column": null,
            "grid_gap": null,
            "grid_row": null,
            "grid_template_areas": null,
            "grid_template_columns": null,
            "grid_template_rows": null,
            "height": null,
            "justify_content": null,
            "justify_items": null,
            "left": null,
            "margin": null,
            "max_height": null,
            "max_width": null,
            "min_height": null,
            "min_width": null,
            "object_fit": null,
            "object_position": null,
            "order": null,
            "overflow": null,
            "overflow_x": null,
            "overflow_y": null,
            "padding": null,
            "right": null,
            "top": null,
            "visibility": null,
            "width": null
          }
        },
        "9e8cc9c12f0443cf882eaec8957475aa": {
          "model_module": "@jupyter-widgets/base",
          "model_name": "LayoutModel",
          "model_module_version": "1.2.0",
          "state": {
            "_model_module": "@jupyter-widgets/base",
            "_model_module_version": "1.2.0",
            "_model_name": "LayoutModel",
            "_view_count": null,
            "_view_module": "@jupyter-widgets/base",
            "_view_module_version": "1.2.0",
            "_view_name": "LayoutView",
            "align_content": null,
            "align_items": null,
            "align_self": null,
            "border": null,
            "bottom": null,
            "display": null,
            "flex": null,
            "flex_flow": null,
            "grid_area": null,
            "grid_auto_columns": null,
            "grid_auto_flow": null,
            "grid_auto_rows": null,
            "grid_column": null,
            "grid_gap": null,
            "grid_row": null,
            "grid_template_areas": null,
            "grid_template_columns": null,
            "grid_template_rows": null,
            "height": null,
            "justify_content": null,
            "justify_items": null,
            "left": null,
            "margin": null,
            "max_height": null,
            "max_width": null,
            "min_height": null,
            "min_width": null,
            "object_fit": null,
            "object_position": null,
            "order": null,
            "overflow": null,
            "overflow_x": null,
            "overflow_y": null,
            "padding": null,
            "right": null,
            "top": null,
            "visibility": null,
            "width": null
          }
        },
        "00b8a20a6bcb48ff897b1a85de24b014": {
          "model_module": "@jupyter-widgets/base",
          "model_name": "LayoutModel",
          "model_module_version": "1.2.0",
          "state": {
            "_model_module": "@jupyter-widgets/base",
            "_model_module_version": "1.2.0",
            "_model_name": "LayoutModel",
            "_view_count": null,
            "_view_module": "@jupyter-widgets/base",
            "_view_module_version": "1.2.0",
            "_view_name": "LayoutView",
            "align_content": null,
            "align_items": null,
            "align_self": null,
            "border": null,
            "bottom": null,
            "display": null,
            "flex": null,
            "flex_flow": null,
            "grid_area": null,
            "grid_auto_columns": null,
            "grid_auto_flow": null,
            "grid_auto_rows": null,
            "grid_column": null,
            "grid_gap": null,
            "grid_row": null,
            "grid_template_areas": null,
            "grid_template_columns": null,
            "grid_template_rows": null,
            "height": null,
            "justify_content": null,
            "justify_items": null,
            "left": null,
            "margin": null,
            "max_height": null,
            "max_width": null,
            "min_height": null,
            "min_width": null,
            "object_fit": null,
            "object_position": null,
            "order": null,
            "overflow": null,
            "overflow_x": null,
            "overflow_y": null,
            "padding": null,
            "right": null,
            "top": null,
            "visibility": null,
            "width": null
          }
        },
        "071cba2da0ed4a8390522dbc7b7deae4": {
          "model_module": "@jupyter-widgets/base",
          "model_name": "LayoutModel",
          "model_module_version": "1.2.0",
          "state": {
            "_model_module": "@jupyter-widgets/base",
            "_model_module_version": "1.2.0",
            "_model_name": "LayoutModel",
            "_view_count": null,
            "_view_module": "@jupyter-widgets/base",
            "_view_module_version": "1.2.0",
            "_view_name": "LayoutView",
            "align_content": null,
            "align_items": null,
            "align_self": null,
            "border": null,
            "bottom": null,
            "display": null,
            "flex": null,
            "flex_flow": null,
            "grid_area": null,
            "grid_auto_columns": null,
            "grid_auto_flow": null,
            "grid_auto_rows": null,
            "grid_column": null,
            "grid_gap": null,
            "grid_row": null,
            "grid_template_areas": null,
            "grid_template_columns": null,
            "grid_template_rows": null,
            "height": null,
            "justify_content": null,
            "justify_items": null,
            "left": null,
            "margin": null,
            "max_height": null,
            "max_width": null,
            "min_height": null,
            "min_width": null,
            "object_fit": null,
            "object_position": null,
            "order": null,
            "overflow": null,
            "overflow_x": null,
            "overflow_y": null,
            "padding": null,
            "right": null,
            "top": null,
            "visibility": null,
            "width": null
          }
        },
        "9a6dcd4e0301487ba98166f5dde03b06": {
          "model_module": "@jupyter-widgets/controls",
          "model_name": "DescriptionStyleModel",
          "model_module_version": "1.5.0",
          "state": {
            "_model_module": "@jupyter-widgets/controls",
            "_model_module_version": "1.5.0",
            "_model_name": "DescriptionStyleModel",
            "_view_count": null,
            "_view_module": "@jupyter-widgets/base",
            "_view_module_version": "1.2.0",
            "_view_name": "StyleView",
            "description_width": ""
          }
        }
      }
    }
  },
  "cells": [
    {
      "cell_type": "markdown",
      "metadata": {
        "id": "view-in-github",
        "colab_type": "text"
      },
      "source": [
        "<a href=\"https://colab.research.google.com/github/brendanpshea/computing_concepts_python/blob/main/IntroCS_10_DictionariesObjectsTests.ipynb\" target=\"_parent\"><img src=\"https://colab.research.google.com/assets/colab-badge.svg\" alt=\"Open In Colab\"/></a>"
      ]
    },
    {
      "cell_type": "markdown",
      "source": [
        "# From Data Structures to Software Engineering\n",
        "### Brendan Shea, PhD\n",
        "\n",
        "In this chapter, we will look at **dictionaries** in Python, explore the object-oriented paradigm through **objects**, learn the art of **testing** our code, and acquaint ourselves with the fundamental methodologies of **software engineering**.\n",
        "\n",
        "**Dictionaries** are Python's built-in data structure for storing collections of key-value pairs. They offer a powerful way to organize data that is inherently paired in nature, much like a real-life dictionary holds word-definition pairs. As we explore dictionaries, you'll learn how to efficiently store and retrieve data, making your programs both faster and more expressive.\n",
        "\n",
        "Moving from data structures to design, we examine **objects**, the building blocks of object-oriented programming. Objects allow us to model real-world entities within our code, encapsulating related data and behavior. This abstraction not only makes your code more intuitive but also paves the way for more complex and maintainable software designs.\n",
        "\n",
        "With a strong foundation in these structures, we turn to **testing**, a critical practice in programming. We introduce **unit tests**, small and focused tests that examine individual parts of your program. By learning to write and interpret these tests, you'll be able to ensure your code behaves as expected and to maintain this assurance through changes and enhancements.\n"
      ],
      "metadata": {
        "id": "azXOu982ylNz"
      }
    },
    {
      "cell_type": "markdown",
      "source": [
        "## Brendan's Lecture\n",
        "Run the following cell to launch my lecture."
      ],
      "metadata": {
        "id": "ML_hbCYBhMYG"
      }
    },
    {
      "cell_type": "code",
      "source": [
        "from IPython.display import YouTubeVideo\n",
        "YouTubeVideo('0C_dIGczyTM', width=800, height=500)"
      ],
      "metadata": {
        "id": "iNh-zJwjhPt2",
        "outputId": "c07d2489-f97f-42b8-9ef5-db597ee5ef89",
        "colab": {
          "base_uri": "https://localhost:8080/",
          "height": 522
        }
      },
      "execution_count": null,
      "outputs": [
        {
          "output_type": "execute_result",
          "data": {
            "text/plain": [
              "<IPython.lib.display.YouTubeVideo at 0x7a3349cf73a0>"
            ],
            "text/html": [
              "\n",
              "        <iframe\n",
              "            width=\"800\"\n",
              "            height=\"500\"\n",
              "            src=\"https://www.youtube.com/embed/qs-oCMJxXxA\"\n",
              "            frameborder=\"0\"\n",
              "            allowfullscreen\n",
              "            \n",
              "        ></iframe>\n",
              "        "
            ],
            "image/jpeg": "[encoded data removed]"
          },
          "metadata": {},
          "execution_count": 27
        }
      ]
    },
    {
      "cell_type": "markdown",
      "source": [
        "## What is a Dictionary?\n",
        "In Python, a **dictionary** is a collection of **key-value pairs**. It allows you to store and retrieve data based on unique keys, providing efficient lookup and access to values. Dictionaries are defined using curly braces `{}`, with each key-value pair separated by a comma.\n",
        "\n",
        "Let's explore the concept of dictionaries using a science fiction book theme for our examples.\n",
        "\n",
        "### Creating a Dictionary\n",
        "To create a dictionary, you can use the following syntax:"
      ],
      "metadata": {
        "id": "HHhRBIlIzhFC"
      }
    },
    {
      "cell_type": "code",
      "source": [
        "book = {\n",
        "    \"title\": \"Dune\",\n",
        "    \"author\": \"Frank Herbert\",\n",
        "    \"year\": 1965,\n",
        "    \"genre\": \"Science Fiction\"\n",
        "}\n",
        "\n",
        "print(book)"
      ],
      "metadata": {
        "id": "MTUAt6Z3zues",
        "outputId": "9d4e3f5f-14c1-4bbc-bdcf-caa8975ddbc3",
        "colab": {
          "base_uri": "https://localhost:8080/"
        }
      },
      "execution_count": null,
      "outputs": [
        {
          "output_type": "stream",
          "name": "stdout",
          "text": [
            "{'title': 'Dune', 'author': 'Frank Herbert', 'year': 1965, 'genre': 'Science Fiction'}\n"
          ]
        }
      ]
    },
    {
      "cell_type": "markdown",
      "source": [
        "In this example, we have a dictionary called `book` that represents a science fiction book. The keys are `\"title\"`, `\"author\"`, `\"year\"`, and `\"genre\"`, and their corresponding values are `\"Dune\"`, `\"Frank Herbert\"`, `1965`, and `\"Science Fiction\"`.\n",
        "\n",
        "### Accessing Values\n",
        "\n",
        "You can access the values in a dictionary using their keys. Here's an example:"
      ],
      "metadata": {
        "id": "FLHC7YAhz5TF"
      }
    },
    {
      "cell_type": "code",
      "source": [
        "print(book[\"title\"])\n",
        "print(book[\"author\"])"
      ],
      "metadata": {
        "id": "8VimJqnpz6SC",
        "outputId": "13d11f84-3ae9-4476-e525-e1de8157cd8c",
        "colab": {
          "base_uri": "https://localhost:8080/"
        }
      },
      "execution_count": null,
      "outputs": [
        {
          "output_type": "stream",
          "name": "stdout",
          "text": [
            "Dune\n",
            "Frank Herbert\n"
          ]
        }
      ]
    },
    {
      "cell_type": "markdown",
      "source": [
        "### Modifying Values\n",
        "You can modify the values in a dictionary by assigning a new value to a specific key:"
      ],
      "metadata": {
        "id": "PJQEXRPT9IIA"
      }
    },
    {
      "cell_type": "code",
      "source": [
        "book[\"year\"] = 1966\n",
        "print(book[\"year\"])"
      ],
      "metadata": {
        "id": "h1_i0thO9Lwf",
        "outputId": "ba33b706-a48f-4c6b-f3ad-8f7b591f127a",
        "colab": {
          "base_uri": "https://localhost:8080/"
        }
      },
      "execution_count": null,
      "outputs": [
        {
          "output_type": "stream",
          "name": "stdout",
          "text": [
            "1966\n"
          ]
        }
      ]
    },
    {
      "cell_type": "markdown",
      "source": [
        "### Adding New Key-Value Pairs\n",
        "To add a new key-value pair to a dictionary, you can simply assign a value to a new key:"
      ],
      "metadata": {
        "id": "iAlaY9N79PWb"
      }
    },
    {
      "cell_type": "code",
      "source": [
        "book[\"pages\"] = 412\n",
        "print(book)"
      ],
      "metadata": {
        "id": "ab6uLZS-9S4g",
        "outputId": "7dcc4364-f175-435c-abcb-68c3b54654c4",
        "colab": {
          "base_uri": "https://localhost:8080/"
        }
      },
      "execution_count": null,
      "outputs": [
        {
          "output_type": "stream",
          "name": "stdout",
          "text": [
            "{'title': 'Dune', 'author': 'Frank Herbert', 'year': 1966, 'genre': 'Science Fiction', 'pages': 412}\n"
          ]
        }
      ]
    },
    {
      "cell_type": "markdown",
      "source": [
        "### Checking Key Existence\n",
        "You can check if a key exists in a dictionary using the in keyword:"
      ],
      "metadata": {
        "id": "seqdNfiI9ZUF"
      }
    },
    {
      "cell_type": "code",
      "source": [
        "if \"publisher\" in book:\n",
        "    print(book[\"publisher\"])\n",
        "else:\n",
        "    print(\"Publisher information not available\")"
      ],
      "metadata": {
        "id": "pmSh8Ljy9YZ1",
        "outputId": "9af997de-a13a-4e31-f4f5-333cac9cbff5",
        "colab": {
          "base_uri": "https://localhost:8080/"
        }
      },
      "execution_count": null,
      "outputs": [
        {
          "output_type": "stream",
          "name": "stdout",
          "text": [
            "Publisher information not available\n"
          ]
        }
      ]
    },
    {
      "cell_type": "markdown",
      "source": [
        "### Iterating Over a Dictionary\n",
        "You can iterate over a dictionary using a for loop. By default, it iterates over the keys:"
      ],
      "metadata": {
        "id": "v_XflaBB9gP8"
      }
    },
    {
      "cell_type": "code",
      "source": [
        "for key in book:\n",
        "    print(key)"
      ],
      "metadata": {
        "id": "M0RU-LyQ9j3E",
        "outputId": "eddb9269-2051-417f-d1fb-ab322614b130",
        "colab": {
          "base_uri": "https://localhost:8080/"
        }
      },
      "execution_count": null,
      "outputs": [
        {
          "output_type": "stream",
          "name": "stdout",
          "text": [
            "title\n",
            "author\n",
            "year\n",
            "genre\n",
            "pages\n"
          ]
        }
      ]
    },
    {
      "cell_type": "markdown",
      "source": [
        "To iterate over both keys and values, you can use the `items()` method:"
      ],
      "metadata": {
        "id": "CuI2FDzw9neD"
      }
    },
    {
      "cell_type": "code",
      "source": [
        "for key, value in book.items():\n",
        "    print(key + \":\", value)"
      ],
      "metadata": {
        "id": "9VnftJWe9s2W",
        "outputId": "bac7a309-222a-4822-df95-c42d89079627",
        "colab": {
          "base_uri": "https://localhost:8080/"
        }
      },
      "execution_count": null,
      "outputs": [
        {
          "output_type": "stream",
          "name": "stdout",
          "text": [
            "title: Dune\n",
            "author: Frank Herbert\n",
            "year: 1966\n",
            "genre: Science Fiction\n",
            "pages: 412\n"
          ]
        }
      ]
    },
    {
      "cell_type": "markdown",
      "source": [
        "### Dictionary Methods\n",
        "\n",
        "Dictionaries have several useful methods. Here are a few examples:\n",
        "\n",
        "-   `keys()`: Returns a list of all the keys in the dictionary.\n",
        "-   `values()`: Returns a list of all the values in the dictionary.\n",
        "-   `get(key, default)`: Returns the value for the specified key, or a default value if the key doesn't exist."
      ],
      "metadata": {
        "id": "2I4FFXGx9zDY"
      }
    },
    {
      "cell_type": "code",
      "source": [
        "print(book.keys())\n",
        "print(book.values())\n",
        "print(book.get(\"rating\", \"Not rated\"))"
      ],
      "metadata": {
        "id": "t-q17L1Y92n4",
        "outputId": "f9c33367-c75e-4b84-ed3c-510787891ca4",
        "colab": {
          "base_uri": "https://localhost:8080/"
        }
      },
      "execution_count": null,
      "outputs": [
        {
          "output_type": "stream",
          "name": "stdout",
          "text": [
            "dict_keys(['title', 'author', 'year', 'genre', 'pages'])\n",
            "dict_values(['Dune', 'Frank Herbert', 1966, 'Science Fiction', 412])\n",
            "Not rated\n"
          ]
        }
      ]
    },
    {
      "cell_type": "markdown",
      "source": [
        "Dictionaries are a powerful and flexible data structure in Python. They allow you to organize and retrieve data efficiently based on unique keys. With dictionaries, you can store and manipulate various types of information, making them suitable for a wide range of applications, including book catalogs, user profiles, and more."
      ],
      "metadata": {
        "id": "WksESJEH-FeF"
      }
    },
    {
      "cell_type": "markdown",
      "source": [
        "### Graphic: A Sample Dictionary"
      ],
      "metadata": {
        "id": "fTCdk3xCjfRk"
      }
    },
    {
      "cell_type": "code",
      "source": [
        "# @title\n",
        "import base64\n",
        "from IPython.display import Image, display\n",
        "import matplotlib.pyplot as plt\n",
        "\n",
        "def mm(graph, width=1000, height=700):  # Add default dimensions\n",
        "    graphbytes = graph.encode(\"utf8\")\n",
        "    base64_bytes = base64.urlsafe_b64encode(graphbytes)\n",
        "    base64_string = base64_bytes.decode(\"ascii\")\n",
        "    # Add width and height parameters to the URL\n",
        "    url = f\"https://mermaid.ink/img/{base64_string}?width={width}&height={height}\"\n",
        "    display(Image(url=url))\n",
        "\n",
        "mm(\"\"\"\n",
        "flowchart TD\n",
        "    dictCode[\"Python Dictionary:\n",
        "    frodo = {\n",
        "        'name': 'Frodo Baggins',\n",
        "        'age': 50,\n",
        "        'titles': ['Ring-bearer', 'Deputy Mayor of Michel Delving'],\n",
        "        'family': {'uncle': 'Bilbo Baggins', 'parents': 'Drogo and Primula'},\n",
        "        'inventory': ['Sting', 'Mithril shirt', 'The One Ring'],\n",
        "        'stats': {'courage': 100, 'stealth': 95}\n",
        "    }\"]\n",
        "    dict[\"Dictionary Root\"] --> |key: 'name'| name[\"string: 'Frodo Baggins'\"]\n",
        "    dict --> |key: 'age'| age[\"integer: 50\"]\n",
        "    dict --> |key: 'titles'| titles[\"list: ['Ring-bearer', 'Deputy Mayor of Michel Delving']\"]\n",
        "    dict --> |key: 'family'| family[\"dictionary: {...}\"]\n",
        "    family --> |key: 'uncle'| uncle[\"string: 'Bilbo Baggins'\"]\n",
        "    family --> |key: 'parents'| parents[\"string: 'Drogo and Primula'\"]\n",
        "    dict --> |key: 'inventory'| inventory[\"list: ['Sting', 'Mithril shirt', 'The One Ring']\"]\n",
        "    dict --> |key: 'stats'| stats[\"dictionary: {...}\"]\n",
        "    stats --> |key: 'courage'| courage[\"integer: 100\"]\n",
        "    stats --> |key: 'stealth'| stealth[\"integer: 95\"]\n",
        "\"\"\")"
      ],
      "metadata": {
        "cellView": "form",
        "colab": {
          "base_uri": "https://localhost:8080/",
          "height": 722
        },
        "id": "jhsOnp7cjhx8",
        "outputId": "c007b2ce-9037-4994-a0c6-1410424a44d2"
      },
      "execution_count": null,
      "outputs": [
        {
          "output_type": "display_data",
          "data": {
            "text/html": [
              "<img src=\"https://mermaid.ink/img/CmZsb3djaGFydCBURAogICAgZGljdENvZGVbIlB5dGhvbiBEaWN0aW9uYXJ5OgogICAgZnJvZG8gPSB7CiAgICAgICAgJ25hbWUnOiAnRnJvZG8gQmFnZ2lucycsCiAgICAgICAgJ2FnZSc6IDUwLCAKICAgICAgICAndGl0bGVzJzogWydSaW5nLWJlYXJlcicsICdEZXB1dHkgTWF5b3Igb2YgTWljaGVsIERlbHZpbmcnXSwKICAgICAgICAnZmFtaWx5Jzogeyd1bmNsZSc6ICdCaWxibyBCYWdnaW5zJywgJ3BhcmVudHMnOiAnRHJvZ28gYW5kIFByaW11bGEnfSwKICAgICAgICAnaW52ZW50b3J5JzogWydTdGluZycsICdNaXRocmlsIHNoaXJ0JywgJ1RoZSBPbmUgUmluZyddLAogICAgICAgICdzdGF0cyc6IHsnY291cmFnZSc6IDEwMCwgJ3N0ZWFsdGgnOiA5NX0KICAgIH0iXQogICAgZGljdFsiRGljdGlvbmFyeSBSb290Il0gLS0-IHxrZXk6ICduYW1lJ3wgbmFtZVsic3RyaW5nOiAnRnJvZG8gQmFnZ2lucyciXQogICAgZGljdCAtLT4gfGtleTogJ2FnZSd8IGFnZVsiaW50ZWdlcjogNTAiXQogICAgZGljdCAtLT4gfGtleTogJ3RpdGxlcyd8IHRpdGxlc1sibGlzdDogWydSaW5nLWJlYXJlcicsICdEZXB1dHkgTWF5b3Igb2YgTWljaGVsIERlbHZpbmcnXSJdCiAgICBkaWN0IC0tPiB8a2V5OiAnZmFtaWx5J3wgZmFtaWx5WyJkaWN0aW9uYXJ5OiB7Li4ufSJdCiAgICBmYW1pbHkgLS0-IHxrZXk6ICd1bmNsZSd8IHVuY2xlWyJzdHJpbmc6ICdCaWxibyBCYWdnaW5zJyJdCiAgICBmYW1pbHkgLS0-IHxrZXk6ICdwYXJlbnRzJ3wgcGFyZW50c1sic3RyaW5nOiAnRHJvZ28gYW5kIFByaW11bGEnIl0KICAgIGRpY3QgLS0-IHxrZXk6ICdpbnZlbnRvcnknfCBpbnZlbnRvcnlbImxpc3Q6IFsnU3RpbmcnLCAnTWl0aHJpbCBzaGlydCcsICdUaGUgT25lIFJpbmcnXSJdCiAgICBkaWN0IC0tPiB8a2V5OiAnc3RhdHMnfCBzdGF0c1siZGljdGlvbmFyeTogey4uLn0iXQogICAgc3RhdHMgLS0-IHxrZXk6ICdjb3VyYWdlJ3wgY291cmFnZVsiaW50ZWdlcjogMTAwIl0KICAgIHN0YXRzIC0tPiB8a2V5OiAnc3RlYWx0aCd8IHN0ZWFsdGhbImludGVnZXI6IDk1Il0K?width=1000&height=700\"/>"
            ],
            "text/plain": [
              "<IPython.core.display.Image object>"
            ]
          },
          "metadata": {}
        }
      ]
    },
    {
      "cell_type": "markdown",
      "source": [
        "## How Do Dictionaries Differ From Lists?\n",
        "\n",
        "**Dictionaries** and **lists** in Python are both mutable, iterable data structures that can store collections of items. However, their use-cases and the way they handle data are significantly different.\n",
        "\n",
        "The primary difference lies in how they store elements. A **list** is an ordered sequence of items. Each item in a list has an assigned index value. You use the index to access the item, which means that items are accessed by their position. Lists are created using square brackets `[]`.\n",
        "\n",
        "In contrast, a **dictionary** stores items in key-value pairs. This means that each item is a combination of a key and a value, and items are accessed by the key rather than by their position. Dictionaries do not maintain any order, and the keys provide a symbolic, descriptive handle to retrieve the corresponding values. Dictionaries are created using curly braces `{}`.\n",
        "\n",
        "Here are three cases where a dictionary might be preferable over a list:\n",
        "\n",
        "1. **When You Need a Logical Association Between Pairs**: Dictionaries are ideal when you're dealing with data that naturally forms pairs. For example, if you are storing information about books where you need to retrieve details based on titles, a dictionary allows you to access these details using the book title as the key."
      ],
      "metadata": {
        "id": "REc5XK847QOW"
      }
    },
    {
      "cell_type": "code",
      "source": [
        "# Use-Case 1: Storing book information with logical association\n",
        "library_catalog = {\n",
        "    \"978-0451524935\": {\"title\": \"1984\", \"author\": \"George Orwell\", \"copies_available\": 12},\n",
        "    \"978-0307277785\": {\"title\": \"Brave New World\", \"author\": \"Aldous Huxley\", \"copies_available\": 8},\n",
        "    # More books can be added here with their ISBN as the key\n",
        "}\n",
        "\n",
        "for key, value in library_catalog.items():\n",
        "  print(key, value)"
      ],
      "metadata": {
        "colab": {
          "base_uri": "https://localhost:8080/"
        },
        "id": "ACfo4_zz72dS",
        "outputId": "7c2ab03f-9cdb-45d9-a7d8-2cb2fc80fbd5"
      },
      "execution_count": null,
      "outputs": [
        {
          "output_type": "stream",
          "name": "stdout",
          "text": [
            "978-0451524935 {'title': '1984', 'author': 'George Orwell', 'copies_available': 12}\n",
            "978-0307277785 {'title': 'Brave New World', 'author': 'Aldous Huxley', 'copies_available': 8}\n"
          ]
        }
      ]
    },
    {
      "cell_type": "markdown",
      "source": [],
      "metadata": {
        "id": "S1yxU4Gu7zGA"
      }
    },
    {
      "cell_type": "markdown",
      "source": [
        "2. **When You Require Fast Lookups by Key**: If you need to frequently access elements and the logical key is known, dictionaries provide a more efficient way for lookup operations because they use a hashing mechanism under the hood. For example, retrieving user details by username is more efficient using a dictionary."
      ],
      "metadata": {
        "id": "Nji8Mn8P7rAF"
      }
    },
    {
      "cell_type": "code",
      "source": [
        "# Use-Case 2: Fast lookup by key for a book inventory system\n",
        "book_inventory = {\n",
        "    \"978-0451524935\": {\"location\": \"Aisle 3\", \"status\": \"checked out\"},\n",
        "    \"978-0307277785\": {\"location\": \"Aisle 1\", \"status\": \"available\"},\n",
        "    # More books can be added here with their ISBN as the key\n",
        "}\n",
        "status_of_1984 = book_inventory[\"978-0451524935\"][\"status\"]  # Quick access using the ISBN\n",
        "\n",
        "for key, value in book_inventory.items():\n",
        "  print(key, value)"
      ],
      "metadata": {
        "colab": {
          "base_uri": "https://localhost:8080/"
        },
        "id": "82Ro4McC8PPY",
        "outputId": "e1babef9-3835-4402-a154-33250ddd9302"
      },
      "execution_count": null,
      "outputs": [
        {
          "output_type": "stream",
          "name": "stdout",
          "text": [
            "978-0451524935 {'location': 'Aisle 3', 'status': 'checked out'}\n",
            "978-0307277785 {'location': 'Aisle 1', 'status': 'available'}\n"
          ]
        }
      ]
    },
    {
      "cell_type": "markdown",
      "source": [
        "3. **When Data is Being Constantly Modified**: If your data set is dynamic, where elements are being added and removed frequently, dictionaries can be more performant because adding or removing a key-value pair does not affect the order or position of other elements, unlike lists.\n"
      ],
      "metadata": {
        "id": "kFptqYeD7twK"
      }
    },
    {
      "cell_type": "code",
      "source": [
        "# Use-Case 3: Dynamic data modification in a book tracking system\n",
        "reading_list = {\n",
        "    \"978-0141439563\": {\"title\": \"Pride and Prejudice\", \"author\": \"Jane Austen\", \"read_status\": False},\n",
        "    \"978-0679783268\": {\"title\": \"1984\", \"author\": \"George Orwell\", \"read_status\": True},\n",
        "    # More books can be added here with their ISBN as the key\n",
        "}\n",
        "# Marking \"Pride and Prejudice\" as read\n",
        "reading_list[\"978-0141439563\"][\"read_status\"] = True\n",
        "# Adding a new book to the reading list\n",
        "reading_list[\"978-0439023528\"] = {\"title\": \"The Hunger Games\", \"author\": \"Suzanne Collins\", \"read_status\": False}\n",
        "# Removing \"1984\" from the reading list after completion\n",
        "del reading_list[\"978-0679783268\"]"
      ],
      "metadata": {
        "id": "ShjVp_4z8osU"
      },
      "execution_count": null,
      "outputs": []
    },
    {
      "cell_type": "markdown",
      "source": [
        "Dictionaries provide a more intuitive way to structure data when the relationship between elements is key, and the complexity of data access patterns demands both clarity and performance."
      ],
      "metadata": {
        "id": "fuUd63FE8uCp"
      }
    },
    {
      "cell_type": "markdown",
      "source": [
        "## Code to Know: Dictionaries\n",
        "| Python Code                             | Description                                                                                   |\n",
        "|-----------------------------------------|-----------------------------------------------------------------------------------------------|\n",
        "| cars = {} | Initializes an empty dictionary named `cars`. |\n",
        "| cars['make'] = 'Toyota' | Adds a key 'make' with value 'Toyota' to the `cars` dictionary.                               |\n",
        "| cars['model'] = 'Corolla'               | Inserts a key 'model' with the value 'Corolla' into the `cars` dictionary.                    |\n",
        "| cars['year'] = 2021                     | Sets the key 'year' to 2021 in the `cars` dictionary.                                         |\n",
        "| cars['color'] = 'red'                   | Assigns the key 'color' the value 'red' in the `cars` dictionary.                             |\n",
        "| cars.get('make', 'Unknown')             | Retrieves the value for 'make' in `cars`, returning 'Unknown' if the key does not exist.      |\n",
        "| 'color' in cars                         | Checks for the existence of the key 'color' in the `cars` dictionary, yielding a boolean.     |\n",
        "| cars.keys()                             | Returns all the keys in the `cars` dictionary.                                                |\n",
        "| cars.values()                           | Lists all the values in the `cars` dictionary.                                                |\n",
        "| del cars['year']                        | Removes the key 'year' and its value from the `cars` dictionary.                              |\n",
        "| cars.update({'year': 2022, 'color': 'blue'}) | Updates `cars` with a new 'year' (2022) and a new 'color' ('blue').                    |\n"
      ],
      "metadata": {
        "id": "Kf2Ys9aA0v0e"
      }
    },
    {
      "cell_type": "markdown",
      "source": [
        "### Key-Value Structures in Computer Science\n",
        "**Key-value structures** are fundamental data organizations where each piece of data (value) is associated with a unique identifier (key). Like a dictionary where words (keys) point to definitions (values), these structures enable efficient data lookup and organization. Dictionaries (of the type we just discussed), maps, associative arrays, and hash tables are all variations of this concept, each optimized for different use cases.\n",
        "\n",
        "In most implementations, keys must be unique and immutable, while values can be any data type. This makes key-value structures ideal for representing real-world relationships, configuration settings, caching systems, and more.\n",
        "\n",
        "### Common Key-Value Structures and Their Uses\n",
        "\n",
        "| Structure Name | Description | Practical Example |\n",
        "|----------------|-------------|-------------------|\n",
        "| Dictionary | Basic key-value structure for general-purpose mapping | `menu_prices = {\"burger\": 8.99, \"fries\": 3.99, \"shake\": 4.99}` |\n",
        "| Hash Table | Optimized for extremely fast lookups using a hash function | `url_shortener = {\"2a9bx\": \"https://www.verylongwebsiteaddress.com/article/12345\"}` |\n",
        "| Configuration Map | Hierarchical settings with type validation | `game_settings = {\"graphics\": {\"resolution\": \"1920x1080\", \"quality\": \"high\"}, \"audio\": {\"music\": 0.8, \"effects\": 0.6}}` |\n",
        "| Cache | Temporary storage with automatic expiration | `weather_cache = {\"london_forecast\": {\"temp\": 18, \"condition\": \"cloudy\", \"valid_until\": \"2024-03-16T14:00\"}}` |\n",
        "| Symbol Table | Maps identifiers to memory locations/values during compilation | `variables = {\"count\": \"register_1\", \"total\": \"memory_0x1234\", \"MAX_SIZE\": \"constant_100\"}` |\n",
        "| JSON Object | Web API data structure | `shopping_cart = {\"user_id\": 123, \"items\": [{\"id\": 456, \"quantity\": 2}, {\"id\": 789, \"quantity\": 1}], \"total\": 45.98}` |\n",
        "| Index | Maps search terms to document locations | `search_index = {\"python\": [\"page1.html\", \"page4.html\"], \"javascript\": [\"page2.html\", \"page3.html\"]}` |\n",
        "| Environment Variables | System-wide configuration settings | `env_vars = {\"PATH\": \"/usr/local/bin:/usr/bin\", \"HOME\": \"/home/user\", \"LANG\": \"en_US.UTF-8\"}` |\n",
        "| Routing Table | Maps URL patterns to handler functions | `routes = {\"/users\": handle_users, \"/products\": handle_products, \"/cart\": handle_cart}` |\n",
        "| Properties File | Application configuration with string values | `db_config = {\"host\": \"db.example.com\", \"username\": \"admin\", \"password\": \"secret123\", \"timeout\": \"30s\"}` |\n",
        "| Session Storage | Temporary user-specific data in web apps | `session = {\"user_id\": \"12345\", \"login_time\": \"2024-03-15T10:30\", \"cart_items\": [\"SKU123\", \"SKU456\"]}` |\n",
        "| Metadata Store | File or object properties | `image_meta = {\"filename\": \"photo.jpg\", \"size\": 1024576, \"dimensions\": \"1920x1080\", \"date_taken\": \"2024-03-15\"}` |"
      ],
      "metadata": {
        "id": "PX7_Q1qMhUwO"
      }
    },
    {
      "cell_type": "code",
      "source": [
        "!wget https://github.com/brendanpshea/computing_concepts_python/raw/main/python_code_quiz/pyquiz.py -q -nc\n",
        "from pyquiz import *\n",
        "practice_tool = PracticeTool(json_url='https://github.com/brendanpshea/computing_concepts_python/raw/main/python_code_quiz/intro_dicts.json')"
      ],
      "metadata": {
        "colab": {
          "base_uri": "https://localhost:8080/",
          "height": 708,
          "referenced_widgets": [
            "5786dafe12da44ce88a72150b8622518",
            "23a9f8eb749a475c97b37dfbfc6dc769",
            "c028e228ee894a92944a982d46ab7819",
            "751aa418a749478590050386ea32d40c",
            "8d52779f864649709adba64400d896a5",
            "eac4ce95561844c884c4d11015ce4134",
            "5886e03ac0a5430983159ba219ba3aa4",
            "e7fb8add85594ddb806bb0d4fd0d319a",
            "45eba2485a6241e1b36ca73c4fe129da",
            "83b76454d6a94585b073eeef27a65773",
            "c9db356d8ed84e09bf7fd149856fe828",
            "7401a7a2d5314d0da568da8f2c36377b",
            "2ceae49b27264d049034c191736e5937",
            "11225078585c4d39b568fee63e4b7336",
            "1e86f324c2ea43c1a7981b656311ac90",
            "9be6c35b341f4de4847f62deddbcd968",
            "8520fe78290e42f38eca0c7a7098c2ff",
            "0612a7300ea64379b35f7b5b9eb7b575",
            "e69d2560188c46dd91be7e93648c38cb",
            "de254a7ef36e4089b91cef0049c759c4",
            "19449084940541d6a0e5a099c48a4d7d",
            "7c2d091ce8de4e45bfc1a94b83e6540e",
            "3f1e8c321cae487eb0ca1a9b5077c151",
            "ec961a9ab9eb4445ac36b1e811ab860e",
            "3e6b316eaac34b9ebffca23619e78525",
            "422fcc4a836f455dbaacabab8ac8810b",
            "2262fabbb5184eb397440e7dca7275ea",
            "b4dbbdf02118446d979c7e90dca56529",
            "be04fc06e670406b8b3cdb8b4670c224",
            "e648f324e15e4f1c9f95e25022a616fd",
            "196ed5e6674549d593fa526da73d6cdc",
            "7f120f5125634477a18150da0000b27b",
            "dc06b8b78ff54cfdbb3ed2b44d8aea56",
            "7d61bcdf0fa64046ae146942295e13ba",
            "b99ab396c5e24ded92e95237ebd5ac9d",
            "253f88bfc69a4fb299ab8cdd9c6bd1e4",
            "18b63f1499dd47f59b78f0c69e1fbfdc",
            "9e8cc9c12f0443cf882eaec8957475aa",
            "00b8a20a6bcb48ff897b1a85de24b014",
            "071cba2da0ed4a8390522dbc7b7deae4",
            "9a6dcd4e0301487ba98166f5dde03b06"
          ]
        },
        "id": "btoNm5N8p2bM",
        "outputId": "77f96de7-b05a-48af-f74d-7a823232455f"
      },
      "execution_count": null,
      "outputs": [
        {
          "output_type": "display_data",
          "data": {
            "text/plain": [
              "Tab(children=(Output(), VBox(children=(IntProgress(value=0, bar_style='info', description='Progress:', layout=…"
            ],
            "application/vnd.jupyter.widget-view+json": {
              "version_major": 2,
              "version_minor": 0,
              "model_id": "5786dafe12da44ce88a72150b8622518"
            }
          },
          "metadata": {}
        }
      ]
    },
    {
      "cell_type": "markdown",
      "source": [
        "## Classes and Objects in Python\n",
        "\n",
        "In Python, a **class** is a construct that allows you to create your own custom **data types** by grouping data and functions that operate upon that data. This data and functions together are referred to as the **attributes** and **methods** of the class, respectively. When you define a class, you create a new object type with a name you select, followed by a suite of attributes and methods. An **object**, on the other hand, is an individual instance of a class. It's a concrete example that embodies the class's structure and behavior. Creating an object from a class is called **instantiation**, and this object is then an instance of the class.\n",
        "\n",
        "Using classes and objects can make a program more modular and easier to understand and maintain. When defining a class, the `__init__` method is what we call the **constructor**. It is automatically called when a new instance of the class is created and typically is used to initialize the object's attributes. Within class methods, the `self` parameter refers to the instance calling the method, allowing access to the attributes and other methods on the same object, which means you can use the data within the object to affect its behavior.\n"
      ],
      "metadata": {
        "id": "zvF0jIQkCyAy"
      }
    },
    {
      "cell_type": "code",
      "source": [
        "# Define a class named Animal\n",
        "class Animal:\n",
        "    # The __init__ method is the constructor where we initialize the attributes of an object.\n",
        "    def __init__(self, name, species):\n",
        "        # self.name and self.species are attributes of the class.\n",
        "        self.name = name\n",
        "        self.species = species\n",
        "        self.hunger = 2  # A simple attribute to track hunger level, initialized to 2.\n",
        "\n",
        "    # A method to simulate feeding the animal.\n",
        "    def feed(self):\n",
        "        if self.hunger > 0:  # Check if the animal is hungry\n",
        "            self.hunger -= 1  # Reduce hunger level by 1\n",
        "            return f\"{self.name} is being fed.\"\n",
        "        else:\n",
        "            return f\"{self.name} is not hungry.\"\n",
        "\n",
        "    # A method to simulate playing with the animal.\n",
        "    def play(self):\n",
        "        return f\"{self.name} is playing.\""
      ],
      "metadata": {
        "id": "HnjlZZusBKpQ"
      },
      "execution_count": null,
      "outputs": []
    },
    {
      "cell_type": "markdown",
      "source": [
        "### Examining `Animal`\n",
        "In the paradigm of object-oriented programming, we structure our code by creating models of real-world or conceptual entities known as classes. A class can be thought of as a blueprint or a template from which objects are created. These objects are known as instances of a class.\n",
        "\n",
        "####  The Constructor: `__init__`\n",
        "\n",
        "A **constructor** is a special method in a class that is automatically invoked when a new object of the class is instantiated. In Python, the constructor method is named `__init__`. This method is crucial as it allows the programmer to set up the initial state of the object by assigning values to the object's properties. In the `Animal` class, the constructor takes two parameters besides `self`---`name` and `species`---and initializes them. It also initializes a `hunger` attribute to a default value of 2. The `self` keyword is a reference to the current instance of the class, and it is used to access variables and methods associated with that instance.\n",
        "\n",
        "#### Methods: `feed` and `play`\n",
        "\n",
        "In a class, **methods** are functions that define the behaviors of an object. In the `Animal` class, there are two methods: `feed` and `play`. The `feed` method represents the action of feeding the animal and modifies the `hunger` attribute of the instance. If the `hunger` is greater than 0, it will be decreased by 1, simulating that the animal has been fed. The `play` method is simpler; it just signifies that the animal is playing, returning a playful message.\n",
        "\n",
        "#### Creating Objects from a Class\n",
        "\n",
        "To create an **object** from a class, we simply call the class using its name followed by a pair of parentheses containing the arguments that the `__init__` method accepts, except for `self`. For example, to create an instance of `Animal`, we could write `my_pet = Animal(\"Fido\", \"Dog\")`. This creates an `Animal` object with the name \"Fido\" and species \"Dog\". The `my_pet` variable now holds a reference to this new object.\n",
        "\n",
        "By encapsulating properties like `name`, `species`, and `hunger` along with the methods `feed` and `play` within the `Animal` class, we create a neat package that represents an animal in code. Each animal instance can have its own unique properties, but they all share the same structure and behaviors defined by the class.\n",
        "\n",
        "To recap: a class in Python encapsulates data and functionality together. The constructor method sets up the initial state of a new object, methods define the object's behaviors, and objects are individual instances of a class with their own specific data. This organization of code into classes and objects allows for more manageable, reusable, and scalable code, which is why OOP is such a fundamental concept in modern programming."
      ],
      "metadata": {
        "id": "JEv7nGVkGx2T"
      }
    },
    {
      "cell_type": "code",
      "source": [
        "# Now, let's try out our class!\n",
        "\n",
        "# Instantiate an object of the Animal class\n",
        "my_pet = Animal(\"Fido\", \"Dog\")\n",
        "\n",
        "# Call methods of the my_pet object\n",
        "print(my_pet.feed())\n",
        "print(my_pet.feed())\n",
        "print(my_pet.feed())\n",
        "\n",
        "print(my_pet.play())"
      ],
      "metadata": {
        "colab": {
          "base_uri": "https://localhost:8080/"
        },
        "id": "dbWR7T-NDVep",
        "outputId": "d427b2c8-d989-40b1-f00c-31831942e12a"
      },
      "execution_count": null,
      "outputs": [
        {
          "output_type": "stream",
          "name": "stdout",
          "text": [
            "Fido is being fed.\n",
            "Fido is being fed.\n",
            "Fido is not hungry.\n",
            "Fido is playing.\n"
          ]
        }
      ]
    },
    {
      "cell_type": "markdown",
      "source": [
        "### Class Diagram: Animal"
      ],
      "metadata": {
        "id": "OgToRDa8lUNM"
      }
    },
    {
      "cell_type": "code",
      "source": [
        "# @title\n",
        "mm(\"\"\"\n",
        "classDiagram\n",
        "    note for Animal \"Represents a pet with basic attributes (name, species, hunger) and behaviors (feed, play)\"\n",
        "    class Animal {\n",
        "        + String name\n",
        "        + String species\n",
        "        + Integer hunger = 2\n",
        "        + __init__(name: String, species: String)  # Constructor: creates new animal with given name and species\n",
        "        + feed() String  # Reduces hunger if > 0 and returns feeding status message\n",
        "        + play() String  # Returns a message that the animal is playing\n",
        "    }\n",
        "\"\"\")"
      ],
      "metadata": {
        "cellView": "form",
        "colab": {
          "base_uri": "https://localhost:8080/",
          "height": 722
        },
        "id": "yDS1H3jslW0V",
        "outputId": "d4366800-92bb-459d-e8d3-f5ed521b7be1"
      },
      "execution_count": null,
      "outputs": [
        {
          "output_type": "display_data",
          "data": {
            "text/html": [
              "<img src=\"https://mermaid.ink/img/CmNsYXNzRGlhZ3JhbQogICAgbm90ZSBmb3IgQW5pbWFsICJSZXByZXNlbnRzIGEgcGV0IHdpdGggYmFzaWMgYXR0cmlidXRlcyAobmFtZSwgc3BlY2llcywgaHVuZ2VyKSBhbmQgYmVoYXZpb3JzIChmZWVkLCBwbGF5KSIKICAgIGNsYXNzIEFuaW1hbCB7CiAgICAgICAgKyBTdHJpbmcgbmFtZQogICAgICAgICsgU3RyaW5nIHNwZWNpZXMKICAgICAgICArIEludGVnZXIgaHVuZ2VyID0gMgogICAgICAgICsgX19pbml0X18obmFtZTogU3RyaW5nLCBzcGVjaWVzOiBTdHJpbmcpICAjIENvbnN0cnVjdG9yOiBjcmVhdGVzIG5ldyBhbmltYWwgd2l0aCBnaXZlbiBuYW1lIGFuZCBzcGVjaWVzCiAgICAgICAgKyBmZWVkKCkgU3RyaW5nICAjIFJlZHVjZXMgaHVuZ2VyIGlmID4gMCBhbmQgcmV0dXJucyBmZWVkaW5nIHN0YXR1cyBtZXNzYWdlCiAgICAgICAgKyBwbGF5KCkgU3RyaW5nICAjIFJldHVybnMgYSBtZXNzYWdlIHRoYXQgdGhlIGFuaW1hbCBpcyBwbGF5aW5nCiAgICB9Cg==?width=1000&height=700\"/>"
            ],
            "text/plain": [
              "<IPython.core.display.Image object>"
            ]
          },
          "metadata": {}
        }
      ]
    },
    {
      "cell_type": "markdown",
      "source": [
        "## What is Object-Oriented Design (OOD)?\n",
        "Object-Oriented Design (OOD) is a programming paradigm that uses \"objects\" to design applications and computer programs. It utilizes several techniques from Object-Oriented Programming (OOP) to plan a system of interacting objects for the purpose of solving a software problem. Here are three fundamental concepts of OOD that are particularly useful:\n",
        "\n",
        "\n",
        "### Encapsulation\n",
        "\n",
        "*Encapsulation** involves the idea of hiding the internal state of an object and requiring all interaction to be performed through an object's methods. This leads to a couple of key benefits: it protects the object's integrity by preventing outside interference and misuse of its state, and it makes the code more maintainable and understandable.\n",
        "\n",
        "- In an `Animal` class, you may have a private attribute `hunger_level` that shouldn't be modified directly. Encapsulation allows you to provide a public method `feed()` that decreases the `hunger_level` without exposing the details of how `hunger_level` is managed.\n",
        "\n",
        "- If you have a method `__update_health()` in your `Animal` class that calculates the health based on various factors like age, hunger, and activity, encapsulation will ensure that this method is not called directly from outside the class. Instead, you can have a public method `check_health()` that internally calls `__update_health()`.\n",
        "\n",
        "### Inheritance\n",
        "\n",
        "**Inheritance** is a mechanism for creating a new class that inherits attributes and methods from an existing class. This concept promotes code reusability and establishes a natural hierarchy between classes.\n",
        "\n",
        "- Suppose you have a base class `Animal`. You can create a subclass `Dog` that inherits from `Animal` and automatically gains all its attributes and behaviors. You can then add dog-specific behavior, such as `bark()`, to the `Dog` class.\n",
        "\n",
        "- Similarly, if you have another subclass `Cat` derived from `Animal`, it will inherit the same properties. You can add cat-specific behavior, such as `purr()`. Both `Dog` and `Cat` share the common structure and behaviors of `Animal` but also define their unique features.\n",
        "\n",
        "### Polymorphism\n",
        "\n",
        "**Polymorphism** allows objects to be treated as instances of their parent class rather than their actual class. Objects of different classes can be treated as objects of a common superclass.\n",
        "\n",
        "- If `Dog` and `Cat` are subclasses of `Animal`, a method `make_sound()` defined in `Animal` can be overridden in both `Dog` and `Cat` to bark and purr, respectively. When you call `make_sound()` on an `Animal` object, it will behave correctly according to whether the object is actually a `Dog` or a `Cat`.\n",
        "\n",
        "- You can have a method `show_affection()` in your `Animal` class that behaves differently depending on the type of animal. A `Dog` might show affection by wagging its tail, whereas a `Cat` might do so by nuzzling against you. Polymorphism allows the correct behavior to occur regardless of the type of object, as long as each subclass provides its own implementation of `show_affection()`.\n",
        "\n",
        "These ideas, while simple in conception, turn out to be very powerful in practice. There are many books and classes devoted to exploring the features of this style of programming."
      ],
      "metadata": {
        "id": "2L2gt5R3IXof"
      }
    },
    {
      "cell_type": "code",
      "source": [
        "# Define a base class for all animals\n",
        "class Animal:\n",
        "    def __init__(self, name):\n",
        "        self.name = name  # Public attribute to store the name of the animal\n",
        "        self._hunger = 5  # Protected attribute to represent hunger level\n",
        "\n",
        "    # Public method to feed the animal\n",
        "    def feed(self):\n",
        "        if self._hunger > 0:\n",
        "            self._hunger -= 1\n",
        "            print(f\"{self.name} has been fed.\")\n",
        "        else:\n",
        "            print(f\"{self.name} is not hungry.\")\n",
        "\n",
        "    # Public method to simulate playing with the animal\n",
        "    def play(self):\n",
        "        print(f\"{self.name} is playing and having fun!\")\n",
        "\n",
        "    # A generic public method to make a sound, to be overridden by subclasses\n",
        "    def make_sound(self):\n",
        "        print(f\"{self.name} makes a generic sound.\")\n",
        "\n",
        "# Define a Dog class that inherits from Animal\n",
        "class Dog(Animal):\n",
        "    # Dog has its own constructor to initialize additional dog-specific attributes\n",
        "    def __init__(self, name, breed):\n",
        "        super().__init__(name)  # Call the constructor of the base class\n",
        "        self.breed = breed  # New attribute for the breed of the dog\n",
        "\n",
        "    # Overriding the make_sound method for a dog\n",
        "    def make_sound(self):\n",
        "        print(f\"{self.name} barks loudly!\")\n",
        "\n",
        "# Define a Cat class that inherits from Animal\n",
        "class Cat(Animal):\n",
        "    # Cat has its own constructor to initialize additional cat-specific attributes\n",
        "    def __init__(self, name, color):\n",
        "        super().__init__(name)  # Call the constructor of the base class\n",
        "        self.color = color  # New attribute for the color of the cat\n",
        "\n",
        "    # Overriding the make_sound method for a cat\n",
        "    def make_sound(self):\n",
        "        print(f\"{self.name} purrs contentedly.\")"
      ],
      "metadata": {
        "id": "A7BAo9258vQ3"
      },
      "execution_count": null,
      "outputs": []
    },
    {
      "cell_type": "markdown",
      "source": [
        "Now, let's see how this class can be used to create objects."
      ],
      "metadata": {
        "id": "lH3SIi43JR8r"
      }
    },
    {
      "cell_type": "code",
      "source": [
        "# Create instances of Dog and Cat, which are Animals\n",
        "buddy = Dog(\"Buddy\", \"Golden Retriever\")\n",
        "whiskers = Cat(\"Whiskers\", \"Black\")\n",
        "\n",
        "# Feed the pets\n",
        "buddy.feed()\n",
        "whiskers.feed()\n",
        "\n",
        "# Play with the pets\n",
        "buddy.play()\n",
        "whiskers.play()\n",
        "\n",
        "# Pets make their unique sounds\n",
        "buddy.make_sound()  # Outputs: Buddy barks loudly!\n",
        "whiskers.make_sound()  # Outputs: Whiskers purrs contentedly"
      ],
      "metadata": {
        "colab": {
          "base_uri": "https://localhost:8080/"
        },
        "id": "Yp2orE6IJXNi",
        "outputId": "3b700bc8-2283-44f7-932f-927d59aa2c92"
      },
      "execution_count": null,
      "outputs": [
        {
          "output_type": "stream",
          "name": "stdout",
          "text": [
            "Buddy has been fed.\n",
            "Whiskers has been fed.\n",
            "Buddy is playing and having fun!\n",
            "Whiskers is playing and having fun!\n",
            "Buddy barks loudly!\n",
            "Whiskers purrs contentedly.\n"
          ]
        }
      ]
    },
    {
      "cell_type": "code",
      "source": [],
      "metadata": {
        "id": "munKx0qelxZZ"
      },
      "execution_count": null,
      "outputs": []
    },
    {
      "cell_type": "markdown",
      "source": [
        "### Class Diagram: Many Animals"
      ],
      "metadata": {
        "id": "ZChk3pRVluQ7"
      }
    },
    {
      "cell_type": "code",
      "source": [
        "# @title\n",
        "mm(\"\"\"\n",
        "classDiagram\n",
        "    note \"Inheritance hierarchy showing Animal as base class with Dog and Cat subclasses\"\n",
        "\n",
        "    class Animal {\n",
        "        + String name\n",
        "        # Integer _hunger = 5\n",
        "        + __init__(name: String)  # Initializes animal with name and default hunger\n",
        "        + feed() void  # Reduces hunger if > 0\n",
        "        + play() void  # Prints play message\n",
        "        + make_sound() void  # Generic sound method to be overridden\n",
        "    }\n",
        "\n",
        "    class Dog {\n",
        "        + String breed\n",
        "        + __init__(name: String, breed: String)  # Initializes dog with name and breed\n",
        "        + make_sound() void  # Override: prints bark message\n",
        "    }\n",
        "\n",
        "    class Cat {\n",
        "        + String color\n",
        "        + __init__(name: String, color: String)  # Initializes cat with name and color\n",
        "        + make_sound() void  # Override: prints purr message\n",
        "    }\n",
        "\n",
        "    Animal <|-- Dog : inherits\n",
        "    Animal <|-- Cat : inherits\n",
        "\"\"\")"
      ],
      "metadata": {
        "cellView": "form",
        "colab": {
          "base_uri": "https://localhost:8080/",
          "height": 722
        },
        "id": "U1ONfGfpl2PB",
        "outputId": "24f32a37-a5ef-49b2-d559-ad938cee9159"
      },
      "execution_count": null,
      "outputs": [
        {
          "output_type": "display_data",
          "data": {
            "text/html": [
              "<img src=\"https://mermaid.ink/img/CmNsYXNzRGlhZ3JhbQogICAgbm90ZSAiSW5oZXJpdGFuY2UgaGllcmFyY2h5IHNob3dpbmcgQW5pbWFsIGFzIGJhc2UgY2xhc3Mgd2l0aCBEb2cgYW5kIENhdCBzdWJjbGFzc2VzIgogICAgCiAgICBjbGFzcyBBbmltYWwgewogICAgICAgICsgU3RyaW5nIG5hbWUKICAgICAgICAjIEludGVnZXIgX2h1bmdlciA9IDUKICAgICAgICArIF9faW5pdF9fKG5hbWU6IFN0cmluZykgICMgSW5pdGlhbGl6ZXMgYW5pbWFsIHdpdGggbmFtZSBhbmQgZGVmYXVsdCBodW5nZXIKICAgICAgICArIGZlZWQoKSB2b2lkICAjIFJlZHVjZXMgaHVuZ2VyIGlmID4gMAogICAgICAgICsgcGxheSgpIHZvaWQgICMgUHJpbnRzIHBsYXkgbWVzc2FnZQogICAgICAgICsgbWFrZV9zb3VuZCgpIHZvaWQgICMgR2VuZXJpYyBzb3VuZCBtZXRob2QgdG8gYmUgb3ZlcnJpZGRlbgogICAgfQogICAgCiAgICBjbGFzcyBEb2cgewogICAgICAgICsgU3RyaW5nIGJyZWVkCiAgICAgICAgKyBfX2luaXRfXyhuYW1lOiBTdHJpbmcsIGJyZWVkOiBTdHJpbmcpICAjIEluaXRpYWxpemVzIGRvZyB3aXRoIG5hbWUgYW5kIGJyZWVkCiAgICAgICAgKyBtYWtlX3NvdW5kKCkgdm9pZCAgIyBPdmVycmlkZTogcHJpbnRzIGJhcmsgbWVzc2FnZQogICAgfQogICAgCiAgICBjbGFzcyBDYXQgewogICAgICAgICsgU3RyaW5nIGNvbG9yCiAgICAgICAgKyBfX2luaXRfXyhuYW1lOiBTdHJpbmcsIGNvbG9yOiBTdHJpbmcpICAjIEluaXRpYWxpemVzIGNhdCB3aXRoIG5hbWUgYW5kIGNvbG9yCiAgICAgICAgKyBtYWtlX3NvdW5kKCkgdm9pZCAgIyBPdmVycmlkZTogcHJpbnRzIHB1cnIgbWVzc2FnZQogICAgfQogICAgCiAgICBBbmltYWwgPHwtLSBEb2cgOiBpbmhlcml0cwogICAgQW5pbWFsIDx8LS0gQ2F0IDogaW5oZXJpdHMK?width=1000&height=700\"/>"
            ],
            "text/plain": [
              "<IPython.core.display.Image object>"
            ]
          },
          "metadata": {}
        }
      ]
    },
    {
      "cell_type": "markdown",
      "source": [
        "### Class Diagram: An App for Zookeepers\n",
        "Let's suppose that zookeepers use a mobile app to track animal health, feeding schedules, and behaviors. Instead of paper logs, they can instantly record observations, medical needs, and feeding times. The data is organized around different types of animals, each with their own specific monitoring requirements.\n",
        "\n",
        "This diagram shows how OOP helps organize complex real-world relationships:\n",
        "\n",
        "1. Each class represents a clear real-world entity\n",
        "2. Inheritance could extend Animal for specific species\n",
        "3. Encapsulation protects critical health/feeding data\n",
        "4. The relationships between classes mirror real zoo operations"
      ],
      "metadata": {
        "id": "4I26T7B9mLfh"
      }
    },
    {
      "cell_type": "code",
      "source": [
        "# @title\n",
        "mm(\"\"\"\n",
        "classDiagram\n",
        "    note \"OOP Concepts Demonstrated in Zoo Management:\n",
        "    Encapsulation: Using properties and name mangling for sensitive data\n",
        "    Inheritance: Specific animal types inherit from base Animal class\n",
        "    Polymorphism: Different animals implement behaviors differently\"\n",
        "\n",
        "    class Animal {\n",
        "        + id: str\n",
        "        + name: str\n",
        "        + species: str\n",
        "        - _health_status: int  %% Name mangling for protected data\n",
        "        - _last_fed: datetime  %% Name mangling for protected data\n",
        "        + feed(record: FeedingRecord) -> None\n",
        "        + update_health(record: HealthRecord) -> None\n",
        "        + record_observation(notes: str) -> None\n",
        "        @classmethod\n",
        "        + make_night_arrangements() -> None  %% Polymorphic method\n",
        "    }\n",
        "\n",
        "    class Primate {\n",
        "        - _is_arboreal: bool\n",
        "        + check_climbing_structures() -> None\n",
        "        @classmethod\n",
        "        + make_night_arrangements() -> None  %% Override for primates\n",
        "    }\n",
        "\n",
        "    class Aquatic {\n",
        "        - _water_temp: float\n",
        "        + check_water_quality() -> None\n",
        "        @classmethod\n",
        "        + make_night_arrangements() -> None  %% Override for aquatic animals\n",
        "    }\n",
        "\n",
        "    class ZooKeeper {\n",
        "        + id: str\n",
        "        + name: str\n",
        "        - _assigned_animals: List[Animal]  %% Name mangling for private list\n",
        "        + record_feeding(animal: Animal) -> None\n",
        "        + submit_health_check(animal: Animal) -> None\n",
        "        + log_observation(animal: Animal) -> None\n",
        "    }\n",
        "\n",
        "    class FeedingRecord {\n",
        "        + timestamp: datetime\n",
        "        - _food_type: str      %% Name mangling for private data\n",
        "        - _quantity: float\n",
        "        + notes: str\n",
        "        - _keeper: ZooKeeper\n",
        "    }\n",
        "\n",
        "    Animal <|-- Primate : inherits\n",
        "    Animal <|-- Aquatic : inherits\n",
        "    ZooKeeper \"1\" -- \"many\" Animal : manages\n",
        "    Animal \"1\" -- \"many\" FeedingRecord : has\n",
        "\"\"\")"
      ],
      "metadata": {
        "colab": {
          "base_uri": "https://localhost:8080/",
          "height": 722
        },
        "id": "stONxn0jnKZd",
        "outputId": "4d6bc68e-96d7-4012-c938-5ecaa596d7ad"
      },
      "execution_count": null,
      "outputs": [
        {
          "output_type": "display_data",
          "data": {
            "text/html": [
              "<img src=\"https://mermaid.ink/img/CmNsYXNzRGlhZ3JhbQogICAgbm90ZSAiT09QIENvbmNlcHRzIERlbW9uc3RyYXRlZCBpbiBab28gTWFuYWdlbWVudDoKICAgIEVuY2Fwc3VsYXRpb246IFVzaW5nIHByb3BlcnRpZXMgYW5kIG5hbWUgbWFuZ2xpbmcgZm9yIHNlbnNpdGl2ZSBkYXRhCiAgICBJbmhlcml0YW5jZTogU3BlY2lmaWMgYW5pbWFsIHR5cGVzIGluaGVyaXQgZnJvbSBiYXNlIEFuaW1hbCBjbGFzcwogICAgUG9seW1vcnBoaXNtOiBEaWZmZXJlbnQgYW5pbWFscyBpbXBsZW1lbnQgYmVoYXZpb3JzIGRpZmZlcmVudGx5IgogICAgCiAgICBjbGFzcyBBbmltYWwgewogICAgICAgICsgaWQ6IHN0cgogICAgICAgICsgbmFtZTogc3RyCiAgICAgICAgKyBzcGVjaWVzOiBzdHIKICAgICAgICAtIF9oZWFsdGhfc3RhdHVzOiBpbnQgICUlIE5hbWUgbWFuZ2xpbmcgZm9yIHByb3RlY3RlZCBkYXRhCiAgICAgICAgLSBfbGFzdF9mZWQ6IGRhdGV0aW1lICAlJSBOYW1lIG1hbmdsaW5nIGZvciBwcm90ZWN0ZWQgZGF0YQogICAgICAgICsgZmVlZChyZWNvcmQ6IEZlZWRpbmdSZWNvcmQpIC0-IE5vbmUKICAgICAgICArIHVwZGF0ZV9oZWFsdGgocmVjb3JkOiBIZWFsdGhSZWNvcmQpIC0-IE5vbmUKICAgICAgICArIHJlY29yZF9vYnNlcnZhdGlvbihub3Rlczogc3RyKSAtPiBOb25lCiAgICAgICAgQGNsYXNzbWV0aG9kCiAgICAgICAgKyBtYWtlX25pZ2h0X2FycmFuZ2VtZW50cygpIC0-IE5vbmUgICUlIFBvbHltb3JwaGljIG1ldGhvZAogICAgfQoKICAgIGNsYXNzIFByaW1hdGUgewogICAgICAgIC0gX2lzX2FyYm9yZWFsOiBib29sCiAgICAgICAgKyBjaGVja19jbGltYmluZ19zdHJ1Y3R1cmVzKCkgLT4gTm9uZQogICAgICAgIEBjbGFzc21ldGhvZAogICAgICAgICsgbWFrZV9uaWdodF9hcnJhbmdlbWVudHMoKSAtPiBOb25lICAlJSBPdmVycmlkZSBmb3IgcHJpbWF0ZXMKICAgIH0KCiAgICBjbGFzcyBBcXVhdGljIHsKICAgICAgICAtIF93YXRlcl90ZW1wOiBmbG9hdAogICAgICAgICsgY2hlY2tfd2F0ZXJfcXVhbGl0eSgpIC0-IE5vbmUKICAgICAgICBAY2xhc3NtZXRob2QKICAgICAgICArIG1ha2VfbmlnaHRfYXJyYW5nZW1lbnRzKCkgLT4gTm9uZSAgJSUgT3ZlcnJpZGUgZm9yIGFxdWF0aWMgYW5pbWFscwogICAgfQoKICAgIGNsYXNzIFpvb0tlZXBlciB7CiAgICAgICAgKyBpZDogc3RyCiAgICAgICAgKyBuYW1lOiBzdHIKICAgICAgICAtIF9hc3NpZ25lZF9hbmltYWxzOiBMaXN0W0FuaW1hbF0gICUlIE5hbWUgbWFuZ2xpbmcgZm9yIHByaXZhdGUgbGlzdAogICAgICAgICsgcmVjb3JkX2ZlZWRpbmcoYW5pbWFsOiBBbmltYWwpIC0-IE5vbmUKICAgICAgICArIHN1Ym1pdF9oZWFsdGhfY2hlY2soYW5pbWFsOiBBbmltYWwpIC0-IE5vbmUKICAgICAgICArIGxvZ19vYnNlcnZhdGlvbihhbmltYWw6IEFuaW1hbCkgLT4gTm9uZQogICAgfQoKICAgIGNsYXNzIEZlZWRpbmdSZWNvcmQgewogICAgICAgICsgdGltZXN0YW1wOiBkYXRldGltZQogICAgICAgIC0gX2Zvb2RfdHlwZTogc3RyICAgICAgJSUgTmFtZSBtYW5nbGluZyBmb3IgcHJpdmF0ZSBkYXRhCiAgICAgICAgLSBfcXVhbnRpdHk6IGZsb2F0CiAgICAgICAgKyBub3Rlczogc3RyCiAgICAgICAgLSBfa2VlcGVyOiBab29LZWVwZXIKICAgIH0KCiAgICBBbmltYWwgPHwtLSBQcmltYXRlIDogaW5oZXJpdHMKICAgIEFuaW1hbCA8fC0tIEFxdWF0aWMgOiBpbmhlcml0cwogICAgWm9vS2VlcGVyICIxIiAtLSAibWFueSIgQW5pbWFsIDogbWFuYWdlcwogICAgQW5pbWFsICIxIiAtLSAibWFueSIgRmVlZGluZ1JlY29yZCA6IGhhcwo=?width=1000&height=700\"/>"
            ],
            "text/plain": [
              "<IPython.core.display.Image object>"
            ]
          },
          "metadata": {}
        }
      ]
    },
    {
      "cell_type": "markdown",
      "source": [
        "## Code to Know: Classes and Objects\n",
        "| Python Code | Description |\n",
        "| --- | --- |\n",
        "| class Car: | Defines a new class named `Car`. |\n",
        "| def `__init__(self, make, model, year)`: | The constructor method for `Car`, initializing with `make`, `model`, and `year` attributes. |\n",
        "| self.make = make | Sets the `make` attribute for an instance of `Car`. |\n",
        "| self.model = model | Sets the `model` attribute for an instance of `Car`. |\n",
        "| self.year = year | Sets the `year` attribute for an instance of `Car`. |\n",
        "| my_car = Car('Toyota', 'Corolla', 2021) | Creates an object `my_car` as an instance of the `Car` class. |\n",
        "| print(my_car.make) | Accesses and prints the `make` attribute of the `my_car` object. |\n",
        "| my_car.year = 2022 | Changes the `year` attribute of `my_car` to 2022. |\n",
        "| hasattr(my_car, 'color') | Checks if `my_car` has an attribute `color`, returning a boolean. |\n",
        "| setattr(my_car, 'color', 'red') | Sets a new attribute `color` with the value 'red' on `my_car`. |\n",
        "| getattr(my_car, 'model') | Retrieves the value of the `model` attribute from `my_car`. |\n",
        "| delattr(my_car, 'year') | Deletes the attribute `year` from `my_car`. |\n",
        "| isinstance(my_car, Car) | Checks if `my_car` is an instance of the `Car` class, returning a boolean. |"
      ],
      "metadata": {
        "id": "3Aq7P9za10Mb"
      }
    },
    {
      "cell_type": "markdown",
      "source": [
        "## Exercises: Making Objects\n",
        "\n",
        "### Exercise 1: Creating a New Object\n",
        "Instantiate an object of the `Dog` class.\n",
        "\n",
        "Hint: To create an object, you need to call the class as if it were a function, passing the required arguments as defined in the class `__init__` method."
      ],
      "metadata": {
        "id": "9c-JVkHKJWbJ"
      }
    },
    {
      "cell_type": "code",
      "source": [
        "# Exercise 1\n"
      ],
      "metadata": {
        "id": "a4ofM2S8KstB"
      },
      "execution_count": null,
      "outputs": []
    },
    {
      "cell_type": "markdown",
      "source": [
        "### Exercise 2: Interacting with an Object\n",
        "Feed the dog twice and then make it play.\n",
        "\n",
        "Hint: Use the methods `feed` and `play` of the `Dog` class on your `Dog` instance. Remember that each method can be called using the dot notation, e.g., `dog_instance.feed()`."
      ],
      "metadata": {
        "id": "dXOUCXN_Ku8Q"
      }
    },
    {
      "cell_type": "code",
      "source": [
        "# Exercise 2"
      ],
      "metadata": {
        "id": "xBoU9KgAK2YT"
      },
      "execution_count": null,
      "outputs": []
    },
    {
      "cell_type": "markdown",
      "source": [
        "### Exercise 3: Implementing a New Method\n",
        "Add a method to the `Animal` class to simulate the animal sleeping, then make the dog sleep.\n",
        "\n",
        "Hint: Define a new method in the `Animal` class using the `def` keyword, and then call this method on your dog instance. The body of the method can simply print a message that the animal is sleeping."
      ],
      "metadata": {
        "id": "OhGRESD2LDh6"
      }
    },
    {
      "cell_type": "code",
      "source": [
        "# Exercise 3"
      ],
      "metadata": {
        "id": "d9tE0CgdLR12"
      },
      "execution_count": null,
      "outputs": []
    },
    {
      "cell_type": "markdown",
      "source": [
        "### Exercise 4 (Challenge/Optional): Inheritance and Polymorphism\n",
        "Create a new subclass of `Animal` called `Bird` with a unique attribute `can_fly`, and override the `make_sound` method to print a bird sound. Instantiate a `Bird` object and interact with it.\n",
        "\n",
        "Hint: Subclassing involves defining a new class that inherits from `Animal`. You will override the `__init__` method to include the `can_fly` attribute and also override the `make_sound` method to reflect a bird's sound."
      ],
      "metadata": {
        "id": "qViHVLtCLTtY"
      }
    },
    {
      "cell_type": "code",
      "source": [
        "# Exercise 5"
      ],
      "metadata": {
        "id": "9JTlRLMMLlwM"
      },
      "execution_count": null,
      "outputs": []
    },
    {
      "cell_type": "markdown",
      "source": [
        "## Writing Unit Tests\n",
        "\n",
        "Imagine a scenario where we have a robot named PyBot, designed to help with basic math operations. This robot is an abstraction of real-world software systems where modular functions work together to perform tasks --- from financial calculations in a banking app to the computational logic in a child's educational game. PyBot is composed of several such functions, each intended to execute a particular arithmetic operation. However, akin to the real world, where even the most meticulously crafted software can have bugs, PyBot is not perfect. It occasionally makes mistakes due to errors in its programming. To ensure PyBot can be trusted with arithmetic, it's essential to test its functions rigorously, isolating and fixing any flaws.\n",
        "\n",
        "Now, let's look at three of PyBot's flawed functions in Python code:"
      ],
      "metadata": {
        "id": "65PKpeiRM-Eq"
      }
    },
    {
      "cell_type": "code",
      "source": [
        "# PyBot's Flawed Arithmetic Functions\n",
        "\n",
        "def add(a, b):\n",
        "    # This function incorrectly adds 1 to the result.\n",
        "    return a + b + 1\n",
        "\n",
        "def subtract(a, b):\n",
        "    # This function incorrectly subtracts an extra unit from the result.\n",
        "    return a - b - 1\n",
        "\n",
        "def multiply(a, b):\n",
        "    # This function mistakenly adds the first number to the result.\n",
        "    return a * b + a\n"
      ],
      "metadata": {
        "id": "8CWSnkpoO-cE"
      },
      "execution_count": null,
      "outputs": []
    },
    {
      "cell_type": "markdown",
      "source": [
        "These functions represent common mistakes that can occur in programming: off-by-one errors, misunderstandings of operator precedence, or logic errors that can lead to incorrect results. In the next steps, we would create unit tests to identify and correct these mistakes, ensuring that PyBot can perform its arithmetic tasks flawlessly."
      ],
      "metadata": {
        "id": "trGYJ-oEPDAM"
      }
    },
    {
      "cell_type": "markdown",
      "source": [
        "### What is a Unit Test?\n",
        "\n",
        "In software development, a **unit test** is a type of software testing where individual units or components of a software are tested. The purpose is to validate that each unit of the software code performs as expected. A unit is the smallest testable part of any software and usually has one or a few inputs and usually a single output.\n",
        "\n",
        "In the context of our PyBot, consider each mathematical operation it performs (like addition, subtraction, etc.) as a unit. If PyBot has an `add` function, a unit test for this function would supply it with input values, execute it, and check the output against the expected result.\n",
        "\n",
        "Unit tests are written and executed by developers. The idea is to ensure that any change or addition to the code does not break the existing functionality. This is a fundamental part of the Test-Driven Development (TDD) process, where tests are written before the code, and the code is then developed to pass the tests.\n",
        "\n",
        "### How Do I Write Unit Tests in Python?\n",
        "\n",
        "Python's standard library provides a module called `unittest` which you can use to write your unit tests. Below is a step-by-step guide to creating a simple unit test within a Jupyter environment:\n",
        "\n",
        "1.  **Importing the Module.** Start by importing the `unittest` module which provides classes and methods to create unit tests.\n",
        "\n",
        "2.  **Creating a Test Case.** A test case is a collection of unit tests that together prove that a function behaves as it's supposed to, within the full range of situations you expect it to handle.\n",
        "\n",
        "3.  **Writing Test Methods.** These are methods that actually test the function. They should be descriptive about what they test and are prefixed with `test_`. Within these methods, you'll use assertions to verify that the output received from your unit (in our case, a function of PyBot) matches the expected output.\n",
        "\n",
        "4.  **Assertions.** Assertions are the conditions or boolean expressions which the programmer assumes to be true in the code. Python's `unittest` framework provides a set of assertion methods that you can use to check for various conditions. For example, `assertEqual` checks if two values are equal, `assertTrue` checks if a value is True, and so on.\n",
        "\n",
        "5.  **Running Tests.** Once you've written your tests, you can run them directly in the Jupyter Notebook cell. The `unittest` module provides a command line interface to run the tests, but in Jupyter, you'll use `unittest.main()` for this purpose.\n",
        "\n",
        "Here's how the structure of a unit test might look:"
      ],
      "metadata": {
        "id": "INY87MfAQp85"
      }
    },
    {
      "cell_type": "code",
      "source": [
        "# Importing unittest\n",
        "import unittest\n",
        "\n",
        "# A test case class that inherits from unittest.TestCase\n",
        "class TestPyBotMath(unittest.TestCase):\n",
        "\n",
        "    # A test method to check the add function\n",
        "    def test_add_function(self):\n",
        "        self.assertEqual(add(2, 3), 5, \"Adding 2 and 3 should give 5\")\n",
        "        self.assertEqual(add(-1, 1), 0, \"Adding -1 and 1 should give 0\")\n",
        "        self.assertEqual(add(0, 0), 0, \"Adding zeros should give zero\")\n",
        "\n",
        "# The following line runs ALL the unit tests I've defined so far\n",
        "# Right now, it's just the ones, I've defined above\n",
        "unittest.main(argv=['first-arg-is-ignored'], exit=False)\n"
      ],
      "metadata": {
        "colab": {
          "base_uri": "https://localhost:8080/"
        },
        "id": "_ef5SSinRBC4",
        "outputId": "ce29c7c2-5f9e-4b0e-dc4a-90b692d3f19a"
      },
      "execution_count": null,
      "outputs": [
        {
          "output_type": "stream",
          "name": "stderr",
          "text": [
            "F\n",
            "======================================================================\n",
            "FAIL: test_add_function (__main__.TestPyBotMath)\n",
            "----------------------------------------------------------------------\n",
            "Traceback (most recent call last):\n",
            "  File \"<ipython-input-53-3a7a43d521f6>\", line 9, in test_add_function\n",
            "    self.assertEqual(add(2, 3), 5, \"Adding 2 and 3 should give 5\")\n",
            "AssertionError: 6 != 5 : Adding 2 and 3 should give 5\n",
            "\n",
            "----------------------------------------------------------------------\n",
            "Ran 1 test in 0.003s\n",
            "\n",
            "FAILED (failures=1)\n"
          ]
        },
        {
          "output_type": "execute_result",
          "data": {
            "text/plain": [
              "<unittest.main.TestProgram at 0x7a334a8949a0>"
            ]
          },
          "metadata": {},
          "execution_count": 53
        }
      ]
    },
    {
      "cell_type": "markdown",
      "source": [
        "This output is the result of running a unit test suite where at least one test has failed. Let's break down the output to understand what it tells us:\n",
        "\n",
        "-   The single character `F` at the beginning indicates that one of the tests in the test suite has failed. `unittest` uses a series of characters to show the outcome of test cases: `.` (dot) for a pass, `F` for a fail, `E` for an error, and `s` for a skipped test.\n",
        "\n",
        "-   The section that begins with `FAIL: test_add_function (__main__.TestPyBotMath)` specifies which test has failed. In this case, it is the `test_add_function` within the `TestPyBotMath` test case class.\n",
        "\n",
        "-   The `Traceback` section provides a stack trace that led to the failure. This is a very useful feature as it tells you exactly where the problem occurred.\n",
        "\n",
        "-   The specific line `File \"<xxxx>\", line y, in test_add_function` points to the file and line number in the source code where the failed assertion was made.\n",
        "\n",
        "-   The assertion that failed is `self.assertEqual(add(2, 3), 5, \"Adding 2 and 3 should give 5\")`. The `AssertionError` indicates what was actually received versus what was expected. The method `add(2, 3)` returned `6` when it was expected to return `5`.\n",
        "\n",
        "-   The custom message `\"Adding 2 and 3 should give 5\"` is provided to give context to the assertion, making it clearer what the failed test was checking for.\n",
        "\n",
        "-   Finally, the summary line `Ran 1 test in xxxxs` tells us that one test was run and it took xxxx seconds to execute.\n",
        "\n",
        "-   The final line `FAILED (failures=1)` indicates that out of the tests that were run, there was 1 failure.\n",
        "\n",
        "From this output, we can deduce that the function `add` is not performing as expected when adding 2 and 3. Since the expected result is 5, but the actual result is 6, there is likely a flaw in the implementation of the `add` function that needs to be addressed.\n",
        "\n",
        "Now, let's try correcting the code, and run the test again:"
      ],
      "metadata": {
        "id": "Ui6mhoFuRv32"
      }
    },
    {
      "cell_type": "code",
      "source": [
        "def add(a, b):\n",
        "  return a + b\n",
        "\n",
        "# runs every unit test I've defined so far\n",
        "unittest.main(argv=['first-arg-is-ignored'], exit=False)"
      ],
      "metadata": {
        "colab": {
          "base_uri": "https://localhost:8080/"
        },
        "id": "zYM4vbMeSFsp",
        "outputId": "742579e4-e17f-401f-f004-921115c1ab55"
      },
      "execution_count": null,
      "outputs": [
        {
          "output_type": "stream",
          "name": "stderr",
          "text": [
            ".\n",
            "----------------------------------------------------------------------\n",
            "Ran 1 test in 0.001s\n",
            "\n",
            "OK\n"
          ]
        },
        {
          "output_type": "execute_result",
          "data": {
            "text/plain": [
              "<unittest.main.TestProgram at 0x7a3349f38bb0>"
            ]
          },
          "metadata": {},
          "execution_count": 54
        }
      ]
    },
    {
      "cell_type": "markdown",
      "source": [
        "Now, the test passes!"
      ],
      "metadata": {
        "id": "ZQ-YOPxIR-UO"
      }
    },
    {
      "cell_type": "markdown",
      "source": [
        "## Exercise: Expanding Our Unit Tests\n",
        "\n",
        "Expand on the following code block to include tests for `subtract` and `multiply` as well as `add`. Then, try fixing the functions, and try tests again."
      ],
      "metadata": {
        "id": "pGZCnM2yTqcy"
      }
    },
    {
      "cell_type": "code",
      "source": [
        "# Importing unittest\n",
        "import unittest\n",
        "\n",
        "# A test case class that inherits from unittest.TestCase\n",
        "class TestPyBotMath(unittest.TestCase):\n",
        "\n",
        "    # A test method to check the add function\n",
        "    def test_add_function(self):\n",
        "        self.assertEqual(add(2, 3), 5, \"Adding 2 and 3 should give 5\")\n",
        "        self.assertEqual(add(-1, 1), 0, \"Adding -1 and 1 should give 0\")\n",
        "        self.assertEqual(add(0, 0), 0, \"Adding zeros should give zero\")\n",
        "\n",
        "    # TODO test the subtract function\n",
        "\n",
        "\n",
        "\n",
        "\n",
        "    # TODO test the multiply function\n",
        "\n",
        "\n",
        "unittest.main(argv=['first-arg-is-ignored'], exit=False)"
      ],
      "metadata": {
        "id": "V6SX01L-R7wx",
        "outputId": "ee75d514-56eb-420f-fb36-1bd50a422620",
        "colab": {
          "base_uri": "https://localhost:8080/"
        }
      },
      "execution_count": null,
      "outputs": [
        {
          "output_type": "stream",
          "name": "stderr",
          "text": [
            ".\n",
            "----------------------------------------------------------------------\n",
            "Ran 1 test in 0.002s\n",
            "\n",
            "OK\n"
          ]
        },
        {
          "output_type": "execute_result",
          "data": {
            "text/plain": [
              "<unittest.main.TestProgram at 0x7a3349cf5c90>"
            ]
          },
          "metadata": {},
          "execution_count": 55
        }
      ]
    },
    {
      "cell_type": "code",
      "source": [
        "def subtract(a, b):\n",
        "  # fix this\n",
        "  return None\n",
        "\n",
        "def multiply(a, b):\n",
        "  # fix this\n",
        "  return None\n",
        "\n",
        "# Try tests again\n",
        "unittest.main(argv=['first-arg-is-ignored'], exit=False)\n"
      ],
      "metadata": {
        "id": "Ezu__Jo7lVjl",
        "outputId": "54333f46-b9a8-43c0-c7f6-0b6bed309b26",
        "colab": {
          "base_uri": "https://localhost:8080/"
        }
      },
      "execution_count": null,
      "outputs": [
        {
          "output_type": "stream",
          "name": "stderr",
          "text": [
            ".\n",
            "----------------------------------------------------------------------\n",
            "Ran 1 test in 0.001s\n",
            "\n",
            "OK\n"
          ]
        },
        {
          "output_type": "execute_result",
          "data": {
            "text/plain": [
              "<unittest.main.TestProgram at 0x7a3349f39600>"
            ]
          },
          "metadata": {},
          "execution_count": 56
        }
      ]
    },
    {
      "cell_type": "markdown",
      "source": [
        "## What is Software Engineering?\n",
        "\n",
        "Software engineering is the disciplined application of engineering principles to the design, development, maintenance, testing, and evaluation of software. This field encompasses not just the act of writing code, but also the initial conception of the solution, the management of project teams, the creation of models and diagrams to illustrate system structure, the anticipation of future user needs, and the creation of systems that are maintainable over time.\n",
        "\n",
        "One can think of software engineering as the architecture of the digital world. Just as architects must consider the functionality, aesthetics, and longevity of their buildings, software engineers must create software that is efficient, user-friendly, and robust against the test of time."
      ],
      "metadata": {
        "id": "RtOP19cduqw9"
      }
    },
    {
      "cell_type": "markdown",
      "source": [
        "### How Does Software Engineering Differ From Programming?\n",
        "\n",
        "While programming is an integral part of software engineering, it is not the entirety of it. Programming is the process of writing the code that instructs a computer on how to perform a task. It's a critical skill for software engineers, but it's just one aspect of their work.\n",
        "\n",
        "Software engineering, on the other hand, involves a higher-level, holistic approach. It includes:\n",
        "\n",
        "- **Analysis**: Understanding the problem and the needs of the users.\n",
        "- **Design**: Planning the structure of the software before a single line of code is written.\n",
        "- **Implementation**: This is where programming comes in, turning the design into working code.\n",
        "- **Testing**: Checking that the software works as intended and fixing any issues.\n",
        "- **Maintenance**: Updating and improving the software over time as user needs change and new technologies emerge.\n",
        "\n",
        "Imagine we're developing a video game featuring a snake main character. The programmers would focus on writing the code that dictates the snake's movement, the game physics, and the interactions between the characters. Meanwhile, the software engineers would be responsible for planning the game's overall structure, ensuring it can be easily updated with new levels or features, designing the user interface, and continuously testing and refining the gameplay experience.\n",
        "\n",
        "Software engineering is the glue that holds the project together and ensures that it not only works well but also meets the needs and expectations of its users and stakeholders.\n"
      ],
      "metadata": {
        "id": "S_X6DoZiv5el"
      }
    },
    {
      "cell_type": "markdown",
      "source": [
        "### What is the Waterfall Method?\n",
        "\n",
        "The **Waterfall method** is a linear and sequential approach to software development that is divided into distinct phases. Each phase must be completed before the next one begins, and there is little to no overlap between the stages. The name \"Waterfall\" is a metaphorical representation of how each phase cascades into the next.\n",
        "\n",
        "The typical phases of the Waterfall model include:\n",
        "\n",
        "1. **Requirements**: This is the stage where all the possible requirements of the system to be developed are captured in detail.\n",
        "2. **Design**: In this phase, the system's architecture and design specifications are created, often resulting in models and architectural documents.\n",
        "3. **Implementation**: Here, the actual source code is written to implement the design previously outlined.\n",
        "4. **Verification**: The software's functionality is rigorously tested to ensure it meets the initial requirements.\n",
        "5. **Maintenance**: After deployment, the system enters maintenance, where it will be updated and patched as needed based on user feedback and changing conditions.\n",
        "\n",
        "This method is often compared to a set of blueprints for a building; just as a construction project would not move to the physical construction phase before the blueprints are finalized, software development doesn't proceed to coding before the design is complete.\n",
        "\n",
        "The Waterfall method is best suited to projects where the requirements are very well understood and are unlikely to change over time. It is less flexible than methodologies like Agile (see the next section), which can adapt to changes more readily.\n",
        "\n",
        "To use our video game example, if we were using the Waterfall method to develop our snake-themed game, we would complete each game development phase for the entire game before moving to the next. We would gather all the game's requirements, complete all the design work, then write all the code, and only then would we start testing the game. Changes to the game design would be difficult to implement once we've moved past the design phase, emphasizing the importance of thorough and detailed initial requirements and design work in the Waterfall model.\n"
      ],
      "metadata": {
        "id": "fmhZf7v_u771"
      }
    },
    {
      "cell_type": "markdown",
      "source": [
        "### Graphic: Waterfall"
      ],
      "metadata": {
        "id": "czwgD0XTn335"
      }
    },
    {
      "cell_type": "code",
      "source": [
        "# @title\n",
        "mm(\"\"\"\n",
        "flowchart TB\n",
        "    subgraph Process[\"Waterfall Development\"]\n",
        "        direction TB\n",
        "        subgraph Requirements[\"1 - Requirements Phase\"]\n",
        "            R1[Gather Requirements] --> R2[Document Specifications]\n",
        "            R2 --> R3[Sign-off]\n",
        "        end\n",
        "\n",
        "        subgraph Design[\"2 - Design Phase\"]\n",
        "            D1[System Design] --> D2[Architecture]\n",
        "            D2 --> D3[Design Review]\n",
        "        end\n",
        "\n",
        "        subgraph Implementation[\"3 - Implementation\"]\n",
        "            I1[Coding] --> I2[Unit Testing]\n",
        "            I2 --> I3[Code Review]\n",
        "        end\n",
        "\n",
        "        subgraph Testing[\"4 - Testing Phase\"]\n",
        "            T1[Integration Testing] --> T2[System Testing]\n",
        "            T2 --> T3[User Acceptance]\n",
        "        end\n",
        "\n",
        "        subgraph Maintenance[\"5 - Maintenance\"]\n",
        "            M1[Deployment] --> M2[Support]\n",
        "            M2 --> M3[Updates]\n",
        "        end\n",
        "\n",
        "        Requirements --> Design\n",
        "        Design --> Implementation\n",
        "        Implementation --> Testing\n",
        "        Testing --> Maintenance\n",
        "    end\n",
        "\n",
        "    style Requirements fill:#ff9999,stroke:#333\n",
        "    style Design fill:#99ff99,stroke:#333\n",
        "    style Implementation fill:#9999ff,stroke:#333\n",
        "    style Testing fill:#ffff99,stroke:#333\n",
        "    style Maintenance fill:#ff99ff,stroke:#333\n",
        "\"\"\")"
      ],
      "metadata": {
        "cellView": "form",
        "colab": {
          "base_uri": "https://localhost:8080/",
          "height": 722
        },
        "id": "g-tGvVaFn7rq",
        "outputId": "5a1deeac-b6de-4219-bc09-be7dd5b9fb0c"
      },
      "execution_count": null,
      "outputs": [
        {
          "output_type": "display_data",
          "data": {
            "text/html": [
              "<img src=\"https://mermaid.ink/img/CmZsb3djaGFydCBUQgogICAgc3ViZ3JhcGggUHJvY2Vzc1siV2F0ZXJmYWxsIERldmVsb3BtZW50Il0KICAgICAgICBkaXJlY3Rpb24gVEIKICAgICAgICBzdWJncmFwaCBSZXF1aXJlbWVudHNbIjEgLSBSZXF1aXJlbWVudHMgUGhhc2UiXQogICAgICAgICAgICBSMVtHYXRoZXIgUmVxdWlyZW1lbnRzXSAtLT4gUjJbRG9jdW1lbnQgU3BlY2lmaWNhdGlvbnNdCiAgICAgICAgICAgIFIyIC0tPiBSM1tTaWduLW9mZl0KICAgICAgICBlbmQKICAgICAgICAKICAgICAgICBzdWJncmFwaCBEZXNpZ25bIjIgLSBEZXNpZ24gUGhhc2UiXQogICAgICAgICAgICBEMVtTeXN0ZW0gRGVzaWduXSAtLT4gRDJbQXJjaGl0ZWN0dXJlXQogICAgICAgICAgICBEMiAtLT4gRDNbRGVzaWduIFJldmlld10KICAgICAgICBlbmQKICAgICAgICAKICAgICAgICBzdWJncmFwaCBJbXBsZW1lbnRhdGlvblsiMyAtIEltcGxlbWVudGF0aW9uIl0KICAgICAgICAgICAgSTFbQ29kaW5nXSAtLT4gSTJbVW5pdCBUZXN0aW5nXQogICAgICAgICAgICBJMiAtLT4gSTNbQ29kZSBSZXZpZXddCiAgICAgICAgZW5kCiAgICAgICAgCiAgICAgICAgc3ViZ3JhcGggVGVzdGluZ1siNCAtIFRlc3RpbmcgUGhhc2UiXQogICAgICAgICAgICBUMVtJbnRlZ3JhdGlvbiBUZXN0aW5nXSAtLT4gVDJbU3lzdGVtIFRlc3RpbmddCiAgICAgICAgICAgIFQyIC0tPiBUM1tVc2VyIEFjY2VwdGFuY2VdCiAgICAgICAgZW5kCiAgICAgICAgCiAgICAgICAgc3ViZ3JhcGggTWFpbnRlbmFuY2VbIjUgLSBNYWludGVuYW5jZSJdCiAgICAgICAgICAgIE0xW0RlcGxveW1lbnRdIC0tPiBNMltTdXBwb3J0XQogICAgICAgICAgICBNMiAtLT4gTTNbVXBkYXRlc10KICAgICAgICBlbmQKICAgICAgICAKICAgICAgICBSZXF1aXJlbWVudHMgLS0-IERlc2lnbgogICAgICAgIERlc2lnbiAtLT4gSW1wbGVtZW50YXRpb24KICAgICAgICBJbXBsZW1lbnRhdGlvbiAtLT4gVGVzdGluZwogICAgICAgIFRlc3RpbmcgLS0-IE1haW50ZW5hbmNlCiAgICBlbmQKCiAgICBzdHlsZSBSZXF1aXJlbWVudHMgZmlsbDojZmY5OTk5LHN0cm9rZTojMzMzCiAgICBzdHlsZSBEZXNpZ24gZmlsbDojOTlmZjk5LHN0cm9rZTojMzMzCiAgICBzdHlsZSBJbXBsZW1lbnRhdGlvbiBmaWxsOiM5OTk5ZmYsc3Ryb2tlOiMzMzMKICAgIHN0eWxlIFRlc3RpbmcgZmlsbDojZmZmZjk5LHN0cm9rZTojMzMzCiAgICBzdHlsZSBNYWludGVuYW5jZSBmaWxsOiNmZjk5ZmYsc3Ryb2tlOiMzMzMK?width=1000&height=700\"/>"
            ],
            "text/plain": [
              "<IPython.core.display.Image object>"
            ]
          },
          "metadata": {}
        }
      ]
    },
    {
      "cell_type": "markdown",
      "source": [
        "### What is the Agile Method?\n",
        "\n",
        "**Agile Methodology** is a practice that promotes continuous iteration of development and testing throughout the software development lifecycle of the project. Unlike the Waterfall method, both development and testing activities are concurrent. This methodology is known for its flexibility and adaptability to changes.\n",
        "\n",
        "Key principles of Agile include:\n",
        "\n",
        "- **Individuals and interactions** over processes and tools.\n",
        "- **Working software** over comprehensive documentation.\n",
        "- **Customer collaboration** over contract negotiation.\n",
        "- **Responding to change** over following a plan.\n",
        "\n",
        "The Agile method provides a framework for accommodating changes and evolving requirements throughout the development process, often with regular 'sprints' or iterations. This iterative approach allows for feedback at each stage, which can be incorporated into the next version of the product.\n",
        "\n",
        "Within the context of our hypothetical video game development, using Agile means that the game would be developed in small sections called **iterations**. Each iteration would include planning, design, coding, and testing, and the product at the end of each iteration is a working game with added features from the previous version. This way, if the game developers wanted to change the storyline or gameplay based on user feedback or new ideas, they could do so in the next iteration without disrupting the entire development process.\n",
        "\n",
        "This approach is particularly effective for projects where the final product is not well defined from the outset and is expected to evolve in response to user feedback or market trends.\n"
      ],
      "metadata": {
        "id": "X9enSDMovN7d"
      }
    },
    {
      "cell_type": "code",
      "source": [
        "# @title\n",
        "mm(\"\"\"\n",
        "flowchart TB\n",
        "    subgraph Agile[\"Agile Development Cycle\"]\n",
        "        direction TB\n",
        "        subgraph Sprint[\"1 - Sprint Activities\"]\n",
        "            S1[Sprint Planning] --> S2[Daily Standups]\n",
        "            S2 --> S3[Development]\n",
        "            S3 --> S4[Testing]\n",
        "            S4 --> S5[Sprint Review]\n",
        "        end\n",
        "\n",
        "        subgraph Continuous[\"2 - Continuous Processes\"]\n",
        "            C1[Backlog Refinement]\n",
        "            C2[Integration]\n",
        "            C3[Deployment]\n",
        "        end\n",
        "\n",
        "        subgraph Feedback[\"3 - Feedback Loops\"]\n",
        "            F1[Customer Feedback]\n",
        "            F2[Team Retrospective]\n",
        "            F3[Stakeholder Review]\n",
        "        end\n",
        "\n",
        "        Sprint --> Sprint\n",
        "        Sprint --> Feedback\n",
        "        Feedback --> Sprint\n",
        "        Continuous --> Sprint\n",
        "    end\n",
        "\n",
        "    style Sprint fill:#ff9999,stroke:#333\n",
        "    style Continuous fill:#99ff99,stroke:#333\n",
        "    style Feedback fill:#9999ff,stroke:#333\n",
        "\"\"\")"
      ],
      "metadata": {
        "cellView": "form",
        "colab": {
          "base_uri": "https://localhost:8080/",
          "height": 722
        },
        "id": "_gz4mLRMokun",
        "outputId": "ea949889-733b-4cd3-c1fc-9a1fd452d9a4"
      },
      "execution_count": null,
      "outputs": [
        {
          "output_type": "display_data",
          "data": {
            "text/html": [
              "<img src=\"https://mermaid.ink/img/CmZsb3djaGFydCBUQgogICAgc3ViZ3JhcGggQWdpbGVbIkFnaWxlIERldmVsb3BtZW50IEN5Y2xlIl0KICAgICAgICBkaXJlY3Rpb24gVEIKICAgICAgICBzdWJncmFwaCBTcHJpbnRbIjEgLSBTcHJpbnQgQWN0aXZpdGllcyJdCiAgICAgICAgICAgIFMxW1NwcmludCBQbGFubmluZ10gLS0-IFMyW0RhaWx5IFN0YW5kdXBzXQogICAgICAgICAgICBTMiAtLT4gUzNbRGV2ZWxvcG1lbnRdCiAgICAgICAgICAgIFMzIC0tPiBTNFtUZXN0aW5nXQogICAgICAgICAgICBTNCAtLT4gUzVbU3ByaW50IFJldmlld10KICAgICAgICBlbmQKCiAgICAgICAgc3ViZ3JhcGggQ29udGludW91c1siMiAtIENvbnRpbnVvdXMgUHJvY2Vzc2VzIl0KICAgICAgICAgICAgQzFbQmFja2xvZyBSZWZpbmVtZW50XQogICAgICAgICAgICBDMltJbnRlZ3JhdGlvbl0KICAgICAgICAgICAgQzNbRGVwbG95bWVudF0KICAgICAgICBlbmQKCiAgICAgICAgc3ViZ3JhcGggRmVlZGJhY2tbIjMgLSBGZWVkYmFjayBMb29wcyJdCiAgICAgICAgICAgIEYxW0N1c3RvbWVyIEZlZWRiYWNrXQogICAgICAgICAgICBGMltUZWFtIFJldHJvc3BlY3RpdmVdCiAgICAgICAgICAgIEYzW1N0YWtlaG9sZGVyIFJldmlld10KICAgICAgICBlbmQKCiAgICAgICAgU3ByaW50IC0tPiBTcHJpbnQKICAgICAgICBTcHJpbnQgLS0-IEZlZWRiYWNrCiAgICAgICAgRmVlZGJhY2sgLS0-IFNwcmludAogICAgICAgIENvbnRpbnVvdXMgLS0-IFNwcmludAogICAgZW5kCgogICAgc3R5bGUgU3ByaW50IGZpbGw6I2ZmOTk5OSxzdHJva2U6IzMzMwogICAgc3R5bGUgQ29udGludW91cyBmaWxsOiM5OWZmOTksc3Ryb2tlOiMzMzMKICAgIHN0eWxlIEZlZWRiYWNrIGZpbGw6Izk5OTlmZixzdHJva2U6IzMzMwo=?width=1000&height=700\"/>"
            ],
            "text/plain": [
              "<IPython.core.display.Image object>"
            ]
          },
          "metadata": {}
        }
      ]
    },
    {
      "cell_type": "markdown",
      "source": [
        "## Review With Quizlet\n",
        "Run the following cell to launch the quizlet deck for this chapter."
      ],
      "metadata": {
        "id": "PylwOJDY5oRA"
      }
    },
    {
      "cell_type": "code",
      "source": [
        "%%html\n",
        "<iframe src=\"https://quizlet.com/847590764/learn/embed?i=psvlh&x=1jj1\" height=\"500\" width=\"100%\" style=\"border:0\"></iframe>"
      ],
      "metadata": {
        "id": "oUGVCnRV5wMz",
        "colab": {
          "base_uri": "https://localhost:8080/",
          "height": 522
        },
        "outputId": "8a14765d-e555-4c03-fac1-6cc76797656c"
      },
      "execution_count": null,
      "outputs": [
        {
          "output_type": "display_data",
          "data": {
            "text/plain": [
              "<IPython.core.display.HTML object>"
            ],
            "text/html": [
              "<iframe src=\"https://quizlet.com/847590764/learn/embed?i=psvlh&x=1jj1\" height=\"500\" width=\"100%\" style=\"border:0\"></iframe>\n"
            ]
          },
          "metadata": {}
        }
      ]
    },
    {
      "cell_type": "markdown",
      "source": [
        "## Glossary\n",
        "\n",
        "| **Term**                              | **Definition**                                                                                 |\n",
        "|---------------------------------------|-----------------------------------------------------------------------------------------------|\n",
        "| **Agile**                             | A software development methodology focused on iterative development, where requirements and solutions evolve through collaboration. |\n",
        "| **Analysis (SDLC)**                   | The phase in the Software Development Life Cycle (SDLC) where requirements are gathered and analyzed to understand the needs of the users. |\n",
        "| **Attributes**                        | Characteristics or properties of a class or object in programming.                            |\n",
        "| **Class**                             | A blueprint for creating objects, defining attributes, and methods.                           |\n",
        "| **class MyClass**                     | Defines a new class named MyClass.                                                            |\n",
        "| **class myClass(ParentClass)**        | Defines a new class named myClass that inherits from ParentClass.                             |\n",
        "| **class MyTest(unittest.TestCase)**   | Defines a new test case class named MyTest that inherits from unittest.TestCase.              |\n",
        "| **Constructor**                       | A special method/function within a class that prepares a new instance.                        |\n",
        "| **def \\_\\_init\\_\\_(self, param1, param2)** | A special method in Python classes, known as the constructor, which initializes an object's attributes. |\n",
        "| **Design (SDLC)**                     | The phase in the Software Development Life Cycle (SDLC) where system and software design is prepared from the requirements gathered during the analysis phase. |\n",
        "| **Dictionary**                        | A collection of key-value pairs in Python.                                                    |\n",
        "| **Encapsulation**                     | The concept of bundling data and methods that operate on that data within one unit, such as a class in programming. |\n",
        "| **Hash table**                        | A data structure that stores key-value pairs and allows fast data retrieval using a hash function. |\n",
        "| **Implementation (SDLC)**             | The phase in the Software Development Life Cycle (SDLC) where the actual code is written and the system is developed. |\n",
        "| **Inheritance**                       | A feature of object-oriented programming where a class can inherit attributes and methods from another class. |\n",
        "| **Iteration (agile)**                 | A time-boxed development cycle in agile methodology, typically lasting 1-4 weeks, where a set of features is developed. |\n",
        "| **Key**                               | An identifier used in a dictionary to access a corresponding value.                           |\n",
        "| **Maintenance (SDLC)**                | The phase in the Software Development Life Cycle (SDLC) where the software is updated and maintained post-deployment to fix issues and add new features. |\n",
        "| **my_dict = {\"key\": \"value\"}**        | Defines a dictionary with a key-value pair.                                                   |\n",
        "| **my_dict.items()**                   | Returns a view object that displays a list of a dictionary's key-value tuple pairs.           |\n",
        "| **my_dict.keys()**                    | Returns a view object that displays a list of all the keys in the dictionary.                 |\n",
        "| **my_dict.values()**                  | Returns a view object that displays a list of all the values in the dictionary.               |\n",
        "| **my_dict[\"key\"]**                    | Accesses the value associated with key in a dictionary.                                       |\n",
        "| **my_dict[\"key\"] = value**            | Sets the value associated with key in a dictionary.                                           |\n",
        "| **my_object = MyClass(param1, param2)**| Creates an instance of MyClass with the provided parameters.                                  |\n",
        "| **my_object.method()**                | Calls a method on the object my_object.                                                       |\n",
        "| **NoSQL database**                    | A non-relational database designed to store and retrieve large amounts of unstructured data.  |\n",
        "| **Object**                            | An instance of a class containing data and methods that manipulate that data.                 |\n",
        "| **self.assertEqual(actual, expected, message)** | A unit test method in Python's unittest framework to check if actual equals expected.         |\n",
        "| **self.attr1 = value**                | Sets the attribute attr1 of the object to value.                                              |\n",
        "| **Software Development Life Cycle (SDLC)** | A process followed for software development, including phases like planning, analysis, design, implementation, testing, deployment, and maintenance. |\n",
        "| **Software engineering**              | The application of engineering principles to the development of software.                     |\n",
        "| **Testing (SDLC)**                    | The phase in the Software Development Life Cycle (SDLC) where the software is tested for defects and bugs. |\n",
        "| **Unit Test**                         | A testing technique where individual units or components of the software are tested.          |\n",
        "| **unittest**                          | A unit testing framework in Python.                                                           |\n",
        "| **Value**                             | The data associated with a key in a dictionary.                                               |\n",
        "| **Waterfall**                         | A sequential software development methodology where each phase must be completed before the next begins. |\n"
      ],
      "metadata": {
        "id": "M-pSgBL335Zg"
      }
    }
  ]
}