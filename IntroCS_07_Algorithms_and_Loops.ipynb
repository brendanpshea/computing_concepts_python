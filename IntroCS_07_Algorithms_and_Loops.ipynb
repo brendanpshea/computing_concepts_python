{
  "nbformat": 4,
  "nbformat_minor": 0,
  "metadata": {
    "colab": {
      "provenance": [],
      "authorship_tag": "ABX9TyNGVwZTK2ilfrXV/M8t837Z",
      "include_colab_link": true
    },
    "kernelspec": {
      "name": "python3",
      "display_name": "Python 3"
    },
    "language_info": {
      "name": "python"
    }
  },
  "cells": [
    {
      "cell_type": "markdown",
      "metadata": {
        "id": "view-in-github",
        "colab_type": "text"
      },
      "source": [
        "<a href=\"https://colab.research.google.com/github/brendanpshea/computing_concepts_python/blob/main/IntroCS_07_Algorithms_and_Loops.ipynb\" target=\"_parent\"><img src=\"https://colab.research.google.com/assets/colab-badge.svg\" alt=\"Open In Colab\"/></a>"
      ]
    },
    {
      "cell_type": "markdown",
      "source": [
        "# Algorithms and Loops\n",
        "## Brendan Shea, PhD (Brendan.Shea@rctc.edu)\n",
        "\n",
        "\n",
        "**Algorithms** are the unsung heroes of the digital age. They are the fundamental building blocks that power the technological marvels we interact with every day. From the moment you wake up to the sound of your smartphone's alarm to the time you drift off to sleep watching your favorite streaming service, algorithms are working tirelessly behind the scenes to make your life easier, more efficient, and more enjoyable.\n",
        "\n",
        "But what exactly are algorithms, and why are they so important? In simple terms, an algorithm is a set of step-by-step instructions that tells a computer how to solve a problem or perform a task. It's like a recipe that guides the computer through a series of logical operations to achieve a desired outcome. Algorithms can be simple, like sorting a list of numbers in ascending order, or incredibly complex, like training a machine learning model to recognize human speech.\n",
        "\n",
        "The importance of algorithms cannot be overstated. They are the driving force behind the rapid advancement of technology and the transformation of industries. Algorithms have revolutionized the way we communicate, work, learn, and entertain ourselves. They have made possible the development of groundbreaking applications and services that have changed the world in profound ways.\n",
        "\n",
        "In the realm of computer science, algorithms are the foundation upon which everything else is built. They are the key to unlocking the potential of computing power and harnessing it to solve complex problems. Computer scientists dedicate their careers to studying, designing, and optimizing algorithms to push the boundaries of what is possible with technology.\n",
        "\n",
        "One of the most exciting and dynamic fields where algorithms have made a significant impact is the video game industry. Video games have come a long way from the simple, pixelated graphics and rudimentary gameplay of the early days. Today's games are immersive, interactive, and incredibly realistic, thanks in large part to the advanced algorithms that power them.\n",
        "\n",
        "Take, for example, the evolution of Nintendo gaming systems and the beloved Legend of Zelda series. From the humble beginnings of the Nintendo Entertainment System (NES) to the cutting-edge Nintendo Switch, each generation of hardware has brought new possibilities and challenges for game developers. As the processing power and memory capacity of gaming systems have increased, so too has the complexity and sophistication of the algorithms that bring these virtual worlds to life.\n",
        "\n",
        "In the early Zelda games, such as \"The Legend of Zelda\" (1986) on the NES, the algorithms were relatively simple. The game world was divided into screens, and the player navigated Link through these screens, battling enemies and solving puzzles. The limited hardware resources meant that the algorithms had to be efficient and clever in their implementation. Despite these constraints, the game managed to captivate players with its engaging gameplay and memorable characters.\n",
        "\n",
        "Fast forward to more recent Zelda titles, such as \"The Legend of Zelda: Breath of the Wild\" (2017) on the Nintendo Switch, and the algorithmic advancements are staggering. The game features a vast, seamless open world that players can explore freely. The algorithms behind the game's physics engine simulate realistic object interactions, allowing players to creatively solve problems and discover new possibilities. The game's dynamic weather system and day-night cycle create an immersive and ever-changing environment. Enemy AI is more sophisticated, adapting to the player's actions and providing challenging and unpredictable encounters.\n",
        "\n",
        "These advancements in video game development are made possible by the tireless work of computer scientists who study and develop algorithms. They employ a range of techniques, from theoretical analysis to empirical evaluation, to design and optimize algorithms that push the boundaries of what is possible in gaming.\n",
        "\n",
        "But the impact of algorithms extends far beyond the world of video games. They are the key to solving some of the most pressing challenges facing society today. From healthcare and education to transportation and energy, algorithms are being used to tackle complex problems and drive innovation in countless industries.\n",
        "\n",
        "In the following sections, we will dive deeper into the importance of algorithms in computer science and explore the different ways in which computer scientists study and develop them. We will look at real-world examples, including the evolution of Nintendo gaming systems and the Legend of Zelda series, to illustrate the tangible impact of algorithmic advancements on the gaming industry and beyond. By the end of this chapter, you will have a deeper appreciation for the crucial role that algorithms play in shaping our digital world and driving technological progress."
      ],
      "metadata": {
        "id": "lB8wChrxGy1-"
      }
    },
    {
      "cell_type": "markdown",
      "source": [
        "## Brendan's Lecture\n",
        "Run the following cell to launch my lecture."
      ],
      "metadata": {
        "id": "A7LYSSNcVENS"
      }
    },
    {
      "cell_type": "code",
      "source": [
        "from IPython.display import YouTubeVideo\n",
        "YouTubeVideo('D7gYz215ioc', width=800, height=500)"
      ],
      "metadata": {
        "id": "0at3vOzkVDNw"
      },
      "execution_count": null,
      "outputs": []
    },
    {
      "cell_type": "markdown",
      "source": [
        "\n",
        "### Characteristics of an Algorithm\n",
        "\n",
        "\n",
        "To better understand algorithms, let's consider some examples from the popular video game series \"The Legend of Zelda.\"  For those who don't know, The Legend of Zelda is an action-adventure game series that follows the protagonist, Link, on his quest to save the kingdom of Hyrule and rescue Princess Zelda from the antagonist, Ganon. Throughout the game, players encounter various challenges, puzzles, and enemies that require problem-solving skills and strategic thinking. By examining the game's mechanics and player interactions, we can identify examples of algorithms and non-algorithms.\n",
        "\n",
        "A valid algorithm must possess the following properties:\n",
        "\n",
        "1.  **Precision.** Each step of the algorithm must be clearly defined and unambiguous. There should be no room for interpretation or ambiguity in the instructions. In the context of the Legend of Zelda, an example of precision would be the specific sequence of buttons a player must press to perform a particular action, such as using an item or executing a special move.\n",
        "2.  **Finiteness.** The algorithm must terminate after a finite number of steps. It should not continue indefinitely or get stuck in an infinite loop. In the Legend of Zelda, an algorithm for solving a puzzle must have a definite endpoint, such as unlocking a door or obtaining a key item.\n",
        "3.  **Input.** An algorithm may have zero or more inputs. These inputs provide the necessary data or parameters for the algorithm to operate on. In the game, an input could be the press of a button, indicating the player's choice of weapon or the direction in which they choose to move Link.\n",
        "4.  **Output.** An algorithm must produce at least one output. The output is the result or solution obtained after executing the algorithm. In the Legend of Zelda, an output could be the successful completion of a quest, the defeat of an enemy, or the acquisition of a new item. More concretely, we might say the output is whatever gets displayed on the screen.\n",
        "5.  **Effectiveness.** Each step of the algorithm must be simple enough to be carried out in a finite amount of time. The instructions should be clear and manageable, allowing for efficient execution. In the game, the steps to solve a puzzle or defeat an enemy should be straightforward and not require an excessive amount of time or resources.\n",
        "\n",
        "Some examples of algorithms in the Legend of Zelda include:\n",
        "\n",
        "1.  *Enemy AI.* The behavior of enemies in the game is controlled by algorithms that determine their movement patterns, attack strategies, and reactions to the player's actions. For example, when Link enters the range of an enemy, the enemy may follow a specific algorithm to decide whether to chase, attack, or retreat based on factors such as distance, health, and player actions. This algorithmic behavior ensures that enemies act consistently and predictably, providing a balanced and engaging gameplay experience.\n",
        "2.  *Pathfinding.* When enemies or non-player characters (NPCs) need to navigate from one location to another, the game uses a pathfinding algorithm (e.g., A* search) to determine the shortest path while avoiding obstacles. This algorithm takes into account the layout of the game world, the presence of barriers, and the desired destination to calculate an efficient route for the characters to follow.\n",
        "3.  *Item Sorting.* When the player opens the inventory screen, the game may use a sorting algorithm (e.g., quicksort) to arrange the items based on their type, value, or other criteria. This algorithmic sorting ensures that the player can quickly locate and access the desired items, enhancing the user experience and streamlining inventory management.\n",
        "\n"
      ],
      "metadata": {
        "id": "6u_M8-5vyg9n"
      }
    },
    {
      "cell_type": "markdown",
      "source": [
        "## Graphic: Algorithms in a Video Game\n",
        "\n",
        "![image.png](data:image/png;base64,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)\n",
        "\n"
      ],
      "metadata": {
        "id": "Zicf9s9E4Xx0"
      }
    },
    {
      "cell_type": "markdown",
      "source": [
        "\n",
        "### Not Everything is an Algorithm\n",
        "Some examples of things that are NOT algorithms include:\n",
        "\n",
        "1.  The overall narrative of the game, including the sequence of events and character interactions, is not an algorithm. The storyline is a creative process that involves worldbuilding, character development, and narrative design. It does not follow a precise set of instructions but rather relies on the game designers' artistic vision and storytelling skills.\n",
        "2.  The visual elements of the game, such as character designs, landscapes, and animations, are not created using algorithms. These elements are the result of artistic creativity, aesthetic choices, and graphical design principles. The process of creating visually appealing and immersive game assets is not governed by a strict set of rules or instructions.\n",
        "3.   The way a player chooses to approach challenges or solve puzzles in the game is not an algorithm. Players may rely on their intuition, trial and error, or personal preferences to make decisions and progress through the game. These strategies are not based on a well-defined set of instructions but rather on the player's individual playstyle, problem-solving abilities, and creativity.\n",
        "\n",
        "It is crucial to differentiate between algorithms and non-algorithmic processes. Algorithms are used to solve specific, well-defined problems and are the building blocks of computer programs. They follow a precise set of instructions, guarantee a specific output, and can be analyzed for efficiency and correctness. Non-algorithmic processes, on the other hand, involve creativity, intuition, and subjective decision-making, which cannot be easily translated into a rigid set of instructions."
      ],
      "metadata": {
        "id": "sjnNYC5M4KD0"
      }
    },
    {
      "cell_type": "markdown",
      "source": [
        "## Why are Algorithms Important in Computer Science?\n",
        "Computer Science has often been defined as the \"study of algorithms.\" This reflects that the fact that nearly everything computer scientists do can be described in terms of inventing, improving, and implementing different algorithms. There are a few reasons for this:\n",
        "\n",
        "1. Algorithms are designed to solve problems efficiently, minimizing the time and resources required. In video game development, efficient algorithms are crucial for creating smooth gameplay experiences across various gaming platforms. Game engines employ algorithms to optimize rendering, physics simulations, and asset management, ensuring optimal performance on different hardware configurations. Beyond gaming, efficient algorithms are essential in domains such as database management, search engines, and financial systems, where quick response times and resource optimization are critical. For example, the development of efficient compression algorithms has revolutionized the way multimedia content is stored and transmitted over the internet.\n",
        "2.  Algorithms enable computer systems to make intelligent decisions based on data and predefined rules. In video games, algorithms power artificial intelligence (AI) systems that control non-player characters (NPCs), creating dynamic and responsive game worlds. AI algorithms allow NPCs to exhibit realistic behaviors, adapt to player actions, and make strategic decisions. Beyond gaming, intelligent decision-making algorithms are used in various fields, such as autonomous vehicles, recommendation systems, and medical diagnosis. For instance, machine learning algorithms are used to analyze vast amounts of data and make predictions or decisions based on patterns and insights discovered from the data.\n",
        "3.  Well-designed algorithms are scalable and can be extended to handle larger and more complex problems. In video game development, scalable algorithms enable the creation of expansive open worlds, seamless multiplayer experiences, and the management of large amounts of game data. As gaming hardware evolves, such as the transition from the Nintendo Entertainment System (NES) to modern consoles like the Nintendo Switch, algorithms must adapt to take advantage of increased processing power and memory capacity. Outside of gaming, scalable algorithms are essential in domains such as big data processing, cloud computing, and social network analysis, where the ability to handle growing volumes of data and user interactions is paramount.\n",
        "\n",
        "Computer scientists work at many different levels to improve algorithms and their perforance, including the following:\n",
        "\n",
        "#### The Theoretical Analysis of Algorithms\n",
        "Computer scientists conduct theoretical analysis to understand the fundamental properties and limitations of algorithms. They use mathematical tools to analyze the time and space complexity of algorithms, proving their correctness and establishing performance bounds. In the context of video game development, theoretical analysis helps in designing efficient algorithms for tasks such as pathfinding, collision detection, and network communication. Game developers can make informed decisions about which algorithms to use based on their theoretical performance guarantees. Theoretical analysis is also crucial in fields like cryptography, where the security of algorithms must be rigorously proven. The development of asymmetric encryption algorithms, such as RSA, relies heavily on theoretical analysis to ensure their robustness against potential attacks.\n",
        "\n",
        "#### The Empirical Evaluation of Algorithms\n",
        "Computer scientists perform empirical studies to measure the real-world performance of algorithms on actual hardware and software systems. They implement algorithms, run experiments, and collect performance data to assess their efficiency, scalability, and robustness. In video game development, empirical evaluation is essential for optimizing game performance across different platforms and hardware configurations. Game developers profile the game's performance, identify bottlenecks, and fine-tune algorithms to ensure smooth frame rates and responsive gameplay. Empirical evaluation is also critical in domains such as computer networks, where algorithms for routing, congestion control, and load balancing must be tested and optimized under real-world conditions.\n",
        "\n",
        "#### Algorithmic Design and Innovation\n",
        "Computer scientists actively research and develop new algorithmic techniques to solve emerging problems and improve existing solutions. They explore novel approaches, adapt algorithms from other domains, and invent entirely new algorithms tailored to specific challenges. In video game development, algorithmic innovation can lead to groundbreaking gameplay mechanics, advanced AI systems, and realistic physical simulations. For example, the introduction of procedural content generation algorithms has enabled games to create virtually infinite game worlds, providing players with unique experiences each time they play. Algorithmic innovation is also driving advancements in fields such as computer vision, natural language processing, and robotics, enabling the development of intelligent systems that can perceive, understand, and interact with the world in increasingly sophisticated ways."
      ],
      "metadata": {
        "id": "XmKQIlcH1r5v"
      }
    },
    {
      "cell_type": "markdown",
      "source": [
        "## Discussion Questions\n",
        "1. Algorithms are everywhere, from the apps on our smartphones to the social media platforms we use daily. Can you identify three specific examples of algorithms that you encounter in your everyday life? How do these algorithms make your life easier or more convenient?\n",
        "2. While algorithms can be incredibly useful, they can also have unintended consequences. Can you think of an example where an algorithm might inadvertently reinforce biases or perpetuate discrimination? How can computer scientists and society as a whole work to mitigate these potential negative impacts?\n",
        "3. Video games (like the Zelda series) have evolved significantly over the years, thanks in part to advancements in algorithmic design. How do you think the player's experience has changed as a result of these algorithmic improvements? Can you identify specific gameplay elements or features that have been enhanced by more sophisticated algorithms?"
      ],
      "metadata": {
        "id": "XOGiFU5l3Gfj"
      }
    },
    {
      "cell_type": "markdown",
      "source": [
        "## Answers\n",
        "1.\n",
        "\n",
        "2.\n",
        "\n",
        "3."
      ],
      "metadata": {
        "id": "QtqfbDo03PLl"
      }
    },
    {
      "cell_type": "markdown",
      "source": [
        "## Exploring Loops in Python: A Legend of Zelda Adventure\n",
        "\n",
        "In this section, we'll embark on an exciting journey inspired by the Legend of Zelda series to learn about for loops, lists, `range()`, nested loops, `continue`, `break`, and iterating through strings. Loops are essential tools in programming that allow you to automate repetitive tasks and process collections of data efficiently.\n",
        "\n",
        "### For Loops\n",
        "\n",
        "Imagine Link, our hero, has to perform the same action multiple times, like breaking pots to collect rupees or slashing through a group of enemies. In programming, we use loops to handle such repetitive tasks. The most common type of loop in Python is the for loop.\n",
        "\n",
        "The general syntax of a for loop is:\n",
        "\n",
        "```python\n",
        "\n",
        "for item in iterable:   \n",
        "  # Code to be executed for each item\n",
        "```\n",
        "\n",
        "Here, `iterable` can be a list, a string, or any other object that can be iterated over. The loop will run the indented code block for each item in the iterable.\n",
        "\n",
        "Let's create a list of items Princess Zelda might need to gather to aid Link on his quest:"
      ],
      "metadata": {
        "id": "frhB8QawS9RS"
      }
    },
    {
      "cell_type": "code",
      "source": [
        "items = [\"Bow\", \"Arrows\", \"Potions\", \"Map\", \"Ocarina\"]"
      ],
      "metadata": {
        "id": "_UYIHSGVTbGt"
      },
      "execution_count": null,
      "outputs": []
    },
    {
      "cell_type": "markdown",
      "source": [
        "We can use a for loop to iterate over this list and print each item. This way, Zelda can keep track of the items she needs to collect."
      ],
      "metadata": {
        "id": "3n9Qh5_JfY7d"
      }
    },
    {
      "cell_type": "code",
      "source": [
        "for item in items:\n",
        "    print(f\"Zelda needs to find a {item}.\")"
      ],
      "metadata": {
        "id": "3MmBWrqJfeVc",
        "outputId": "59a8e091-1276-42c9-dbe7-b476970572df",
        "colab": {
          "base_uri": "https://localhost:8080/"
        }
      },
      "execution_count": null,
      "outputs": [
        {
          "output_type": "stream",
          "name": "stdout",
          "text": [
            "Zelda needs to find a Bow.\n",
            "Zelda needs to find a Arrows.\n",
            "Zelda needs to find a Potions.\n",
            "Zelda needs to find a Map.\n",
            "Zelda needs to find a Ocarina.\n"
          ]
        }
      ]
    },
    {
      "cell_type": "markdown",
      "source": [
        "In this code block, we use a for loop to iterate over each item in the `items` list. For each item, we print a string that includes the item Zelda needs to find.\n",
        "\n",
        "### range()\n",
        "\n",
        "The `range()` function generates a sequence of numbers. It takes up to three arguments: `start` (optional), `stop` (required), and `step` (optional). If only one argument is provided, it is treated as the `stop` value, and `start` defaults to 0.\n",
        "\n",
        "Let's use `range()` to help Link count the number of hearts he has collected:"
      ],
      "metadata": {
        "id": "-DR_XQFNfdtw"
      }
    },
    {
      "cell_type": "code",
      "source": [
        "total_hearts = 10\n",
        "\n",
        "for i in range(1, total_hearts + 1):\n",
        "    print(f\"Link has collected {i} heart(s).\")"
      ],
      "metadata": {
        "id": "HjcJFCegfqLG",
        "outputId": "efe0381f-f693-4341-dcc0-bd7f0ec294b3",
        "colab": {
          "base_uri": "https://localhost:8080/"
        }
      },
      "execution_count": null,
      "outputs": [
        {
          "output_type": "stream",
          "name": "stdout",
          "text": [
            "Link has collected 1 heart(s).\n",
            "Link has collected 2 heart(s).\n",
            "Link has collected 3 heart(s).\n",
            "Link has collected 4 heart(s).\n",
            "Link has collected 5 heart(s).\n",
            "Link has collected 6 heart(s).\n",
            "Link has collected 7 heart(s).\n",
            "Link has collected 8 heart(s).\n",
            "Link has collected 9 heart(s).\n",
            "Link has collected 10 heart(s).\n"
          ]
        }
      ]
    },
    {
      "cell_type": "markdown",
      "source": [
        "In this example, we use `range(1, total_hearts + 1)` to generate a sequence of numbers from 1 to `total_hearts`. The loop prints a string for each number, indicating the number of hearts Link has collected.\n",
        "\n",
        "We can also specify the `step` value to count by a different increment. For example, let's count the number of rupees Link has collected, but only in multiples of 5:"
      ],
      "metadata": {
        "id": "i7Z0a4Wtf1ao"
      }
    },
    {
      "cell_type": "code",
      "source": [
        "total_rupees = 50\n",
        "\n",
        "for i in range(0, total_rupees + 1, 5):\n",
        "    print(f\"Link has collected {i} rupees.\")"
      ],
      "metadata": {
        "id": "fp03mtYXf7jS",
        "outputId": "0dc1d15a-606c-409f-fe9b-b3ec31d99810",
        "colab": {
          "base_uri": "https://localhost:8080/"
        }
      },
      "execution_count": null,
      "outputs": [
        {
          "output_type": "stream",
          "name": "stdout",
          "text": [
            "Link has collected 0 rupees.\n",
            "Link has collected 5 rupees.\n",
            "Link has collected 10 rupees.\n",
            "Link has collected 15 rupees.\n",
            "Link has collected 20 rupees.\n",
            "Link has collected 25 rupees.\n",
            "Link has collected 30 rupees.\n",
            "Link has collected 35 rupees.\n",
            "Link has collected 40 rupees.\n",
            "Link has collected 45 rupees.\n",
            "Link has collected 50 rupees.\n"
          ]
        }
      ]
    },
    {
      "cell_type": "markdown",
      "source": [
        "Here, we use `range(0, total_rupees + 1, 5)` to generate a sequence of numbers from 0 to `total_rupees`, incrementing by 5 each time. The loop prints a string for each number, showing the number of rupees Link has collected.\n",
        "\n",
        "### Nested Loops\n",
        "Nested loops are loops inside other loops. Let's say Zelda has to explore a castle with multiple floors, and each floor contains multiple rooms. We can use nested loops to help Zelda navigate the castle:"
      ],
      "metadata": {
        "id": "zPErQaPfgBTp"
      }
    },
    {
      "cell_type": "code",
      "source": [
        "floors = [\"Floor 1\", \"Floor 2\", \"Floor 3\"]\n",
        "rooms = [\"Room 1\", \"Room 2\", \"Room 3\"]\n",
        "\n",
        "for floor in floors:\n",
        "    print(f\"Zelda is exploring {floor}:\")\n",
        "    for room in rooms:\n",
        "        print(f\"  Zelda enters {room}.\")"
      ],
      "metadata": {
        "id": "wzE11JFGgHMc",
        "outputId": "56857850-61ed-4bf1-8916-10a1c2e57fdd",
        "colab": {
          "base_uri": "https://localhost:8080/"
        }
      },
      "execution_count": null,
      "outputs": [
        {
          "output_type": "stream",
          "name": "stdout",
          "text": [
            "Zelda is exploring Floor 1:\n",
            "  Zelda enters Room 1.\n",
            "  Zelda enters Room 2.\n",
            "  Zelda enters Room 3.\n",
            "Zelda is exploring Floor 2:\n",
            "  Zelda enters Room 1.\n",
            "  Zelda enters Room 2.\n",
            "  Zelda enters Room 3.\n",
            "Zelda is exploring Floor 3:\n",
            "  Zelda enters Room 1.\n",
            "  Zelda enters Room 2.\n",
            "  Zelda enters Room 3.\n"
          ]
        }
      ]
    },
    {
      "cell_type": "markdown",
      "source": [
        "In this code block, we use a nested loop to iterate over each floor in the `floors` list and each room in the `rooms` list. The outer loop prints a string indicating the floor Zelda is exploring, while the inner loop prints a string for each room Zelda enters on that floor.\n",
        "\n",
        "### continue and break\n",
        "\n",
        "The `continue` statement skips the rest of the current iteration and moves to the next one, while the `break` statement exits the loop entirely.\n",
        "\n",
        "Suppose Link encounters some obstacles while navigating a dungeon. He wants to avoid the traps and only collect the treasure chests:"
      ],
      "metadata": {
        "id": "cTVKma_igPt1"
      }
    },
    {
      "cell_type": "code",
      "source": [
        "items_in_dungeon = [\"Trap\", \"Treasure\", \"Trap\", \"Treasure\", \"Trap\"]\n",
        "\n",
        "for item in items_in_dungeon:\n",
        "    if item == \"Trap\":\n",
        "        continue\n",
        "    print(f\"Link found a {item} chest!\")"
      ],
      "metadata": {
        "id": "KdxNnXuggUVA",
        "outputId": "3fdf9463-783e-416a-9f37-7491d07b6a8d",
        "colab": {
          "base_uri": "https://localhost:8080/"
        }
      },
      "execution_count": null,
      "outputs": [
        {
          "output_type": "stream",
          "name": "stdout",
          "text": [
            "Link found a Treasure chest!\n",
            "Link found a Treasure chest!\n"
          ]
        }
      ]
    },
    {
      "cell_type": "markdown",
      "source": [
        "In this example, we use a for loop to iterate over each item in the `items_in_dungeon` list. If the item is a \"Trap\", the `continue` statement skips the rest of the iteration and moves on to the next item. If the item is a \"Treasure\", the loop prints a string indicating that Link found a treasure chest.\n",
        "\n",
        "Now, let's say Zelda is searching for a specific item in the castle and wants to stop looking once she finds it:"
      ],
      "metadata": {
        "id": "Z9lajdwAgc-Y"
      }
    },
    {
      "cell_type": "code",
      "source": [
        "items_in_castle = [\"Rupees\", \"Hearts\", \"Compass\", \"Boss Key\", \"Map\"]\n",
        "\n",
        "for item in items_in_castle:\n",
        "    if item == \"Boss Key\":\n",
        "        print(\"Zelda found the Boss Key!\")\n",
        "        break\n",
        "    print(f\"Zelda found {item}, but it's not the Boss Key.\")"
      ],
      "metadata": {
        "id": "bkU7ljWCgdp5",
        "outputId": "0bd39ff6-93ae-4673-bdcd-c3bb019a5c4c",
        "colab": {
          "base_uri": "https://localhost:8080/"
        }
      },
      "execution_count": null,
      "outputs": [
        {
          "output_type": "stream",
          "name": "stdout",
          "text": [
            "Zelda found Rupees, but it's not the Boss Key.\n",
            "Zelda found Hearts, but it's not the Boss Key.\n",
            "Zelda found Compass, but it's not the Boss Key.\n",
            "Zelda found the Boss Key!\n"
          ]
        }
      ]
    },
    {
      "cell_type": "markdown",
      "source": [
        "In this code block, we use a for loop to iterate over each item in the `items_in_castle` list. If the item is the \"Boss Key\", the loop prints a string indicating that Zelda found the Boss Key and then uses the `break` statement to exit the loop entirely. If the item is not the Boss Key, the loop prints a string stating that Zelda found the item but it's not what she was looking for.\n",
        "\n",
        "### Iterating Through a String\n",
        "\n",
        "In Python, a string is also an iterable, which means you can use a for loop to iterate over each character in a string.\n",
        "\n",
        "Let's say Link needs to decipher a secret message from Zelda:"
      ],
      "metadata": {
        "id": "0xjzV6y5gjmM"
      }
    },
    {
      "cell_type": "code",
      "source": [
        "message = \"Meet me at the castle!\"\n",
        "\n",
        "for char in message:\n",
        "    print(f\"Deciphering character: {char}\")"
      ],
      "metadata": {
        "id": "qThOAcMMgvn2",
        "outputId": "a5b39ab4-9a6a-4a93-8dc2-21253ea7228c",
        "colab": {
          "base_uri": "https://localhost:8080/"
        }
      },
      "execution_count": null,
      "outputs": [
        {
          "output_type": "stream",
          "name": "stdout",
          "text": [
            "Deciphering character: M\n",
            "Deciphering character: e\n",
            "Deciphering character: e\n",
            "Deciphering character: t\n",
            "Deciphering character:  \n",
            "Deciphering character: m\n",
            "Deciphering character: e\n",
            "Deciphering character:  \n",
            "Deciphering character: a\n",
            "Deciphering character: t\n",
            "Deciphering character:  \n",
            "Deciphering character: t\n",
            "Deciphering character: h\n",
            "Deciphering character: e\n",
            "Deciphering character:  \n",
            "Deciphering character: c\n",
            "Deciphering character: a\n",
            "Deciphering character: s\n",
            "Deciphering character: t\n",
            "Deciphering character: l\n",
            "Deciphering character: e\n",
            "Deciphering character: !\n"
          ]
        }
      ]
    },
    {
      "cell_type": "markdown",
      "source": [
        "In this example, we use a for loop to iterate over each character in the `message` string. For each character, the loop prints a string that includes the character being deciphered.\n",
        "\n",
        "You can also use string slicing to iterate over substrings. Let's help Zelda read the words in the message one by one:"
      ],
      "metadata": {
        "id": "M-W_KFMNg2j4"
      }
    },
    {
      "cell_type": "code",
      "source": [
        "message = \"The Triforce is hidden in the castle!\"\n",
        "\n",
        "for word in message.split():\n",
        "    print(f\"Zelda reads: {word}\")"
      ],
      "metadata": {
        "id": "UhIb_2Rug3Mb",
        "outputId": "a478874d-83d0-44cd-e1d5-93456c409f9d",
        "colab": {
          "base_uri": "https://localhost:8080/"
        }
      },
      "execution_count": null,
      "outputs": [
        {
          "output_type": "stream",
          "name": "stdout",
          "text": [
            "Zelda reads: The\n",
            "Zelda reads: Triforce\n",
            "Zelda reads: is\n",
            "Zelda reads: hidden\n",
            "Zelda reads: in\n",
            "Zelda reads: the\n",
            "Zelda reads: castle!\n"
          ]
        }
      ]
    },
    {
      "cell_type": "markdown",
      "source": [
        "In this code block, we use the `split()` method to split the `message` string into a list of words. The for loop then iterates over each word in the list, and prints a string that includes the word Zelda is reading."
      ],
      "metadata": {
        "id": "Ce0XbI13hBTn"
      }
    },
    {
      "cell_type": "markdown",
      "source": [
        "## While Loops\n",
        "\n",
        "In Python, while loops are used to repeatedly execute a block of code as long as a specified condition is true. They provide a way to control the flow of your program based on dynamic conditions.\n",
        "\n",
        "The basic syntax of a while loop in Python is as follows:\n",
        "\n",
        "```python\n",
        "while condition:\n",
        "    # Code block to be executed repeatedly\n",
        "    # as long as the condition is true\n",
        "```\n",
        "\n",
        "The `condition` is an expression that evaluates to either `True` or `False`. The code block indented under the while statement will be executed repeatedly as long as the condition remains True.\n",
        "\n",
        "Let's use a while loop to simulate Zelda collecting Triforce pieces (she needs to collect three):\n",
        "\n"
      ],
      "metadata": {
        "id": "Zumgm2R7H6l5"
      }
    },
    {
      "cell_type": "code",
      "source": [
        "triforce_pieces = 0\n",
        "while triforce_pieces < 3:\n",
        "    # Simulate finding a Triforce piece\n",
        "    triforce_pieces += 1\n",
        "    print(\"Zelda has found\", triforce_pieces, \"Triforce piece(s).\")\n",
        "\n",
        "print(\"Zelda has collected all three Triforce pieces!\")"
      ],
      "metadata": {
        "colab": {
          "base_uri": "https://localhost:8080/"
        },
        "id": "fO6Vpp_3IV84",
        "outputId": "b3186522-8fb2-47fd-8230-4cb1c16d7e05"
      },
      "execution_count": null,
      "outputs": [
        {
          "output_type": "stream",
          "name": "stdout",
          "text": [
            "Zelda has found 1 Triforce piece(s).\n",
            "Zelda has found 2 Triforce piece(s).\n",
            "Zelda has found 3 Triforce piece(s).\n",
            "Zelda has collected all three Triforce pieces!\n"
          ]
        }
      ]
    },
    {
      "cell_type": "markdown",
      "source": [
        "In this example, the while loop continues to execute as long as `triforce_pieces` is less than 3. Inside the loop, we increment `triforce_pieces` by 1 and print the current count. Once `triforce_pieces` reaches 3, the loop terminates, and the final message is printed.\n",
        "\n",
        "### Complex Conditions\n",
        "\n",
        "\n",
        "While loops can use complex conditions that combine multiple expressions using logical operators like `and`, `or`, and `not`. Let's simulate Ganondorf's battle with Link:"
      ],
      "metadata": {
        "id": "B3dLKDkNH6J5"
      }
    },
    {
      "cell_type": "code",
      "source": [
        "ganondorf_health = 100\n",
        "link_health = 100\n",
        "\n",
        "while ganondorf_health > 0 and link_health > 0:\n",
        "    # Simulate the battle\n",
        "    ganondorf_health -= 10\n",
        "    link_health -= 15\n",
        "    print(\"Ganondorf strikes! Link's health:\", link_health)\n",
        "    print(\"Link fights back! Ganondorf's health:\", ganondorf_health)\n",
        "\n",
        "if ganondorf_health <= 0:\n",
        "    print(\"Link has defeated Ganondorf!\")\n",
        "else:\n",
        "    print(\"Ganondorf has triumphed over Link!\")"
      ],
      "metadata": {
        "colab": {
          "base_uri": "https://localhost:8080/"
        },
        "id": "oBhO-UXtIghy",
        "outputId": "6baa3490-ba4d-4b7b-aa69-915931d701e7"
      },
      "execution_count": null,
      "outputs": [
        {
          "output_type": "stream",
          "name": "stdout",
          "text": [
            "Ganondorf strikes! Link's health: 85\n",
            "Link fights back! Ganondorf's health: 90\n",
            "Ganondorf strikes! Link's health: 70\n",
            "Link fights back! Ganondorf's health: 80\n",
            "Ganondorf strikes! Link's health: 55\n",
            "Link fights back! Ganondorf's health: 70\n",
            "Ganondorf strikes! Link's health: 40\n",
            "Link fights back! Ganondorf's health: 60\n",
            "Ganondorf strikes! Link's health: 25\n",
            "Link fights back! Ganondorf's health: 50\n",
            "Ganondorf strikes! Link's health: 10\n",
            "Link fights back! Ganondorf's health: 40\n",
            "Ganondorf strikes! Link's health: -5\n",
            "Link fights back! Ganondorf's health: 30\n",
            "Ganondorf has triumphed over Link!\n"
          ]
        }
      ]
    },
    {
      "cell_type": "markdown",
      "source": [
        "In this example, the while loop continues as long as both Ganondorf's `health` and Link's `health` are greater than 0. Inside the loop, Ganondorf and Link exchange blows, reducing each other's health. The loop keeps track of both `ganondorf_health` and `link_health`, demonstrating the use of complex conditions.\n",
        "\n",
        "### Infinite Loops and Breaking Out\n",
        "\n",
        "Sometimes, you might want a loop to continue running indefinitely until a specific condition is met. This is where the `while True` statement comes in handy. Let's create a mini-game where Navi, Link's fairy companion, guides him through a forest:"
      ],
      "metadata": {
        "id": "dI2e03KRIo77"
      }
    },
    {
      "cell_type": "code",
      "source": [
        "while True:\n",
        "    direction = input(\"Navi, which way should Link go? (left/right/forward): \")\n",
        "    if direction == \"left\":\n",
        "        print(\"Link goes left and finds a treasure chest!\")\n",
        "        break\n",
        "    elif direction == \"right\":\n",
        "        print(\"Link goes right and encounters a Moblin. Keep going!\")\n",
        "    elif direction == \"forward\":\n",
        "        print(\"Link moves forward deeper into the forest.\")\n",
        "    else:\n",
        "        print(\"Invalid direction. Please try again.\")\n",
        "\n",
        "print(\"Congratulations! You have successfully navigated the forest.\")"
      ],
      "metadata": {
        "colab": {
          "base_uri": "https://localhost:8080/"
        },
        "id": "A9rE1QooIs4S",
        "outputId": "6db60023-6b09-4d88-ebaa-251c8569de66"
      },
      "execution_count": null,
      "outputs": [
        {
          "output_type": "stream",
          "name": "stdout",
          "text": [
            "Navi, which way should Link go? (left/right/forward): left\n",
            "Link goes left and finds a treasure chest!\n",
            "Congratulations! You have successfully navigated the forest.\n"
          ]
        }
      ]
    },
    {
      "cell_type": "markdown",
      "source": [
        "In this example, the `while True` statement creates an infinite loop that keeps running until the `break` statement is encountered. Inside the loop, Navi prompts for a direction to guide Link. If the player chooses the correct direction (\"left\"), the loop is terminated using the `break` statement, and Link finds a treasure chest. Other directions lead to different outcomes, and invalid directions prompt the player to try again.\n",
        "\n",
        "### Validating User Input\n",
        "\n",
        "While loops are often used for validating user input to ensure it meets certain criteria. Let's create a simple ocarina song-playing game:"
      ],
      "metadata": {
        "id": "IdRSHD8iI04-"
      }
    },
    {
      "cell_type": "code",
      "source": [
        "while True:\n",
        "    song = input(\"Play a song on the ocarina (A, B, C): \")\n",
        "    if song.upper() in [\"A\", \"B\", \"C\"]:\n",
        "        break\n",
        "    else:\n",
        "        print(\"Invalid song. Please try again.\")\n",
        "\n",
        "print(\"You have played the\", song.upper(), \"song on the ocarina!\")"
      ],
      "metadata": {
        "colab": {
          "base_uri": "https://localhost:8080/"
        },
        "id": "QmMyP6wyI5DB",
        "outputId": "191b9eda-0d01-4f30-d3c5-dfe01213e344"
      },
      "execution_count": null,
      "outputs": [
        {
          "output_type": "stream",
          "name": "stdout",
          "text": [
            "Play a song on the ocarina (A, B, C): E\n",
            "Invalid song. Please try again.\n",
            "Play a song on the ocarina (A, B, C): A\n",
            "You have played the A song on the ocarina!\n"
          ]
        }
      ]
    },
    {
      "cell_type": "markdown",
      "source": [
        "In this example, the while loop prompts the player to choose a song to play on the ocarina (A, B, or C). If the player enters a valid song, the loop is terminated using the `break` statement. If the player enters an invalid song, an error message is displayed, and the loop continues to prompt for input until a valid song is chosen.\n",
        "\n",
        "### The `else` Clause\n",
        "\n",
        "While loops in Python can also include an optional `else` clause that is executed when the loop condition becomes `False`. Let's modify the ocarina song-playing game to limit the number of attempts:"
      ],
      "metadata": {
        "id": "OvuEQl3jJcUE"
      }
    },
    {
      "cell_type": "code",
      "source": [
        "attempts = 3\n",
        "while attempts > 0:\n",
        "    song = input(\"Play a song on the ocarina (A, B, C): \")\n",
        "    if song.upper() in [\"A\", \"B\", \"C\"]:\n",
        "        print(\"You have played the\", song.upper(), \"song on the ocarina!\")\n",
        "        break\n",
        "    else:\n",
        "        attempts -= 1\n",
        "        print(\"Invalid song. Attempts remaining:\", attempts)\n",
        "else:\n",
        "    print(\"You have run out of attempts. The ocarina remains silent.\")"
      ],
      "metadata": {
        "id": "sMqfPiVZJeUh"
      },
      "execution_count": null,
      "outputs": []
    },
    {
      "cell_type": "markdown",
      "source": [
        "In this example, the while loop allows the player a limited number of attempts to choose a song. If the player chooses a valid song within the available attempts, the loop is terminated, and the chosen song is displayed. If the player exhausts all attempts without choosing a valid song, the loop condition becomes `False`, and the `else` clause is executed, indicating that the ocarina remains silent."
      ],
      "metadata": {
        "id": "iDZiq-9SJm94"
      }
    },
    {
      "cell_type": "markdown",
      "source": [
        "## Exercises\n",
        "\n",
        "### Exercise 1: Lap Counter\n",
        "Write a fucntion `count_laps()` that takes an integer total_laps as input and prints the lap number for each lap until the total number of laps is reached.\n",
        "\n",
        "Example:\n",
        "\n",
        "`count_laps(5)`\n",
        "\n",
        "Output:\n",
        "```\n",
        "Lap 1\n",
        "Lap 2\n",
        "Lap 3\n",
        "Lap 4\n",
        "Lap 5\n",
        "```\n"
      ],
      "metadata": {
        "id": "obWFAuXCOyvf"
      }
    },
    {
      "cell_type": "code",
      "source": [
        "def count_laps(n):\n",
        "  # Your code here\n",
        "  pass"
      ],
      "metadata": {
        "id": "pbWoT6LFPEKM"
      },
      "execution_count": null,
      "outputs": []
    },
    {
      "cell_type": "markdown",
      "source": [
        "### Exercise 2: Collect Items\n",
        "Implement a function called `collect_items()` that takes a list of strings representing items (\"Banana\", \"Green Shell\", \"Red Shell\", \"Mushroom\", \"Star\") and returns the total number of items collected until a \"Star\" is found.\n",
        "\n",
        "Example:\n",
        "```python\n",
        "items =  [\"Banana\",  \"Green Shell\",  \"Mushroom\",  \"Red Shell\",  \"Star\",  \"Banana\"]  total_items = collect_items(items)  \n",
        "print(\"Total items collected:\", total_items)`\n",
        "```\n",
        "\n",
        "Output:\n",
        "\n",
        "`Total items collected: 4`"
      ],
      "metadata": {
        "id": "WZ1EidCzqFnD"
      }
    },
    {
      "cell_type": "code",
      "source": [
        "def collect_items(items):\n",
        "  # Your code here\n",
        "  return 0 # Replace this!\n",
        "\n",
        "items =  [\"Banana\",  \"Green Shell\",  \"Mushroom\",  \"Red Shell\",  \"Star\",  \"Banana\"]\n",
        "total_items = collect_items(items)\n",
        "print(\"Total items collected:\", total_items)"
      ],
      "metadata": {
        "id": "5ZE_qpIXqG9q"
      },
      "execution_count": null,
      "outputs": []
    },
    {
      "cell_type": "markdown",
      "source": [
        "### Exercise 3: Race Positions\n",
        "Implement a function called `race_positions()` that takes a list of integers representing the positions of racers and prints the position of each racer until a racer reaches position 1 (first place).\n",
        "\n",
        "Example:\n",
        "\n",
        "```\n",
        "positions =  [8,  5,  3,  2,  1,  7]  \n",
        "race_positions(positions)\n",
        "```\n",
        "\n",
        "Output:\n",
        "```\n",
        "Racer 1 in position 8\n",
        "Racer 2 in position 5\n",
        "Racer 3 in position 3\n",
        "Racer 4 in position 2\n",
        "Racer 5 in position 1\n",
        "```"
      ],
      "metadata": {
        "id": "47969T0dqYHg"
      }
    },
    {
      "cell_type": "code",
      "source": [
        "def race_positions(positions):\n",
        "  # Your code here\n",
        "  pass\n",
        "\n",
        "positions =  [8,  5,  3,  2,  1,  7]\n",
        "race_positions(positions)"
      ],
      "metadata": {
        "id": "BS9OPw2JqvQZ"
      },
      "execution_count": null,
      "outputs": []
    },
    {
      "cell_type": "markdown",
      "source": [
        "### Exercise 4: Customize Cart\n",
        "Implement a function called `customize_kart()` that prompts the user to choose a kart body, wheels, and glider from a list of options. The function should keep prompting the user until valid options are selected for each category.\n",
        "\n",
        "Output:\n",
        "```\n",
        "Choose a kart body (Standard, Pipe Frame, Mach 8): Mach 8 Choose wheels (Standard, Slim, Slick): Slick\n",
        "Choose a glider (Super Glider, Cloud Glider, Wario Wing): Wario Wing\n",
        "\n",
        "Your kart customization:\n",
        "Kart Body: Mach 8\n",
        "Wheels: Slick\n",
        "Glider: Wario Wing\n",
        "```"
      ],
      "metadata": {
        "id": "l89Gr5CsPDWA"
      }
    },
    {
      "cell_type": "code",
      "source": [
        "def customize_cart():\n",
        "  # Your code here"
      ],
      "metadata": {
        "id": "rqKxRocLrU2X"
      },
      "execution_count": null,
      "outputs": []
    },
    {
      "cell_type": "markdown",
      "source": [
        "## Case Study: Princess Peach and the Search-Sort Tradeoff\n",
        "The **search-sort tradeoff** is a fundamental concept that highlights the relationship between the efficiency of searching for data and the organization of that data. This tradeoff is not limited to the realm of computers; it is also prevalent in various real-life scenarios where decision-making is crucial. To illustrate this concept, we will follow the story of Princess Peach, the ruler of the Mushroom Kingdom, as she encounters different situations that require her to make choices based on the search-sort tradeoff.\n",
        "\n",
        "Throughout this case study, we will explore three distinct scenarios that Princess Peach faces: a one-off scenario, a long-term repeated task, and an ambiguous case. By analyzing her decision-making process in each scenario, we will gain insights into the analogous concepts of linear search, binary search, and sorting algorithms in computer science.\n",
        "\n",
        "### Scenario 1: The Missing Crown (Linear Search)\n",
        "On the day of the Annual Mushroom Ball, Princess Peach discovers that her crown is missing. She remembers that she last saw it in her room, which is cluttered with numerous boxes and drawers. With only an hour left before the ball begins, Princess Peach must decide how to find her crown quickly.\n",
        "\n",
        "Given the urgency of the situation and the one-time nature of the task, Princess Peach decides to perform a linear search. Linear search is a simple search algorithm that sequentially checks each item in a list or array until the desired item is found or the end of the list is reached.\n",
        "\n",
        "Princess Peach starts her search by examining the first box in her room. She carefully takes out each item from the box, one by one, and checks if it is her missing crown. If the item is not her crown, she moves on to the next item in the box. If she reaches the end of the box without finding her crown, she proceeds to the next box and repeats the process.\n",
        "\n",
        "Princess Peach continues this sequential search through each box and drawer in her room, examining each item individually until she either finds her crown or exhausts all the boxes and drawers. If she finds her crown, she can stop the search and proceed to get ready for the ball. If she reaches the end of the last drawer without finding her crown, she will have to conclude that it is not in her room and seek help from others in the castle.\n",
        "\n",
        "This process of examining each item sequentially, one at a time, until the desired item is found or the end of the search space is reached, is analogous to the linear search algorithm in computer science. Linear search is suitable for small datasets or when the cost of sorting the data is higher than the benefits of faster searching."
      ],
      "metadata": {
        "id": "2I5G1Vxq4CbR"
      }
    },
    {
      "cell_type": "code",
      "source": [
        "def linear_search(items, target):\n",
        "    for index, item in enumerate(items):\n",
        "        print(f\"Searching, I found a {item}!\")\n",
        "        if item == target:\n",
        "            print(f\"Huzzah! I found the {target}!\")\n",
        "            return index\n",
        "    print(\"Alas, the crown is not here.\")\n",
        "    return -1\n",
        "\n",
        "# List of items in Princess Peach's room\n",
        "items_in_room = [\"book\", \"lamp\", \"crown\", \"scroll\", \"potion\"]\n",
        "\n",
        "# Perform the search for the crown\n",
        "linear_search(items_in_room, \"crown\")"
      ],
      "metadata": {
        "colab": {
          "base_uri": "https://localhost:8080/"
        },
        "id": "PLg80X9B45_K",
        "outputId": "fa644fc1-30d1-4e96-b54f-6128f91af61d"
      },
      "execution_count": 2,
      "outputs": [
        {
          "output_type": "stream",
          "name": "stdout",
          "text": [
            "Searching, I found a book!\n",
            "Searching, I found a lamp!\n",
            "Searching, I found a crown!\n",
            "Huzzah! I found the crown!\n"
          ]
        },
        {
          "output_type": "execute_result",
          "data": {
            "text/plain": [
              "2"
            ]
          },
          "metadata": {},
          "execution_count": 2
        }
      ]
    },
    {
      "cell_type": "markdown",
      "source": [
        "### Scenario 2: The Royal Inventory (Sorting and Binary Search)\n",
        "As the ruler of the Mushroom Kingdom, Princess Peach is responsible for managing the royal inventory, which includes a vast collection of items such as power-ups, coins, and rare artifacts. She frequently needs to search for specific items to distribute to her subjects or to use in various quests.\n",
        "\n",
        "Recognizing the long-term and repeated nature of this task, Princess Peach decides to implement a sorting system. She starts by categorizing the items in the inventory based on their type (e.g., power-ups, coins, artifacts). Within each category, she further organizes the items based on their rarity (e.g., common, rare, legendary) and alphabetical order.\n",
        "\n",
        "To sort the items within each category, Princess Peach and her royal staff perform a manual sorting process. They lay out all the items in a category on a large table and compare each item with the others. They start by picking the first item and comparing it with the second item. If the first item should come before the second item based on the sorting criteria (rarity and alphabetical order), they swap the positions of the two items. They then compare the second item with the third item and swap them if necessary. This process continues until the last item in the category is compared and placed in its correct position.\n",
        "\n",
        "By repeating this manual sorting process for each category, Princess Peach and her staff gradually transform the once disorganized inventory into a well-sorted collection. The sorting process ensures that items within each category are arranged in a specific order, making it easier to locate specific items later.\n",
        "\n",
        "Once the royal inventory is sorted, Princess Peach can perform efficient searches for specific items. Instead of searching through the entire inventory, she can narrow down her search to the relevant category and use a binary search approach.\n",
        "\n",
        "To perform a binary search, Princess Peach starts by comparing the item she is looking for with the middle item in the sorted category. If the middle item matches her search criteria, she has successfully found the item. If the item she is looking for comes before the middle item, she discards the second half of the category and repeats the process on the first half. If the item she is looking for comes after the middle item, she discards the first half of the category and repeats the process on the second half.\n",
        "\n",
        "By repeatedly dividing the search space in half and comparing the middle item, Princess Peach can quickly narrow down the possible locations of the item she is searching for. This binary search approach significantly reduces the number of items she needs to examine compared to a linear search, making the search process much more efficient."
      ],
      "metadata": {
        "id": "zZ48hiGJ4XqR"
      }
    },
    {
      "cell_type": "code",
      "source": [
        "def binary_search(sorted_items, target):\n",
        "    \"\"\"\n",
        "    Perform a binary search for the target item in a sorted list of items.\n",
        "\n",
        "    Parameters:\n",
        "    sorted_items (list): The alphabetically sorted list of items.\n",
        "    target (str): The target item we are searching for.\n",
        "\n",
        "    Returns:\n",
        "    int: The index of the target item if found, otherwise -1 indicating the target is not in the list.\n",
        "    \"\"\"\n",
        "    left, right = 0, len(sorted_items) - 1\n",
        "    while left <= right:\n",
        "        mid = (left + right) // 2\n",
        "        if sorted_items[mid] == target:\n",
        "            print(f\"Found the {target}!\")\n",
        "            return mid\n",
        "        elif sorted_items[mid] < target:\n",
        "            left = mid + 1\n",
        "        else:\n",
        "            right = mid - 1\n",
        "    print(f\"The {target} is not in the inventory.\")\n",
        "    return -1\n",
        "\n",
        "# List of 10 different power-ups (unalphabetized)\n",
        "power_ups = [\"Star\", \"Mushroom\", \"Fire Flower\", \"Super Leaf\", \"Frog Suit\", \"Tanooki Suit\", \"P-Wing\", \"Cape Feather\", \"Super Bell\", \"Boomerang Flower\"]\n",
        "\n",
        "# Sort the list of power-ups\n",
        "power_ups.sort()\n",
        "print(\"Sorted Power-Ups:\", power_ups)\n",
        "\n",
        "# Perform a binary search for a specific power-up\n",
        "binary_search(power_ups, \"Super Leaf\")\n"
      ],
      "metadata": {
        "colab": {
          "base_uri": "https://localhost:8080/"
        },
        "id": "pWK9kVTI6fYn",
        "outputId": "b398f3ce-5858-4c93-9dcb-0379889c39f2"
      },
      "execution_count": 3,
      "outputs": [
        {
          "output_type": "stream",
          "name": "stdout",
          "text": [
            "Sorted Power-Ups: ['Boomerang Flower', 'Cape Feather', 'Fire Flower', 'Frog Suit', 'Mushroom', 'P-Wing', 'Star', 'Super Bell', 'Super Leaf', 'Tanooki Suit']\n",
            "Found the Super Leaf!\n"
          ]
        },
        {
          "output_type": "execute_result",
          "data": {
            "text/plain": [
              "8"
            ]
          },
          "metadata": {},
          "execution_count": 3
        }
      ]
    },
    {
      "cell_type": "markdown",
      "source": [
        "### Scenario 3: The Emergency Response (Ambiguous Case)\n",
        "One day, Princess Peach receives an urgent distress call from a group of Toads in a distant village. They report that a horde of Goombas has invaded their village, causing chaos and destruction. Princess Peach must quickly assemble a team of heroes and gather the necessary power-ups to send as reinforcements.\n",
        "\n",
        "In this scenario, Princess Peach faces an ambiguous situation. The power-ups are scattered throughout the castle, and searching for them without any organization could be time-consuming. However, the urgency of the situation may not allow for a complete sorting of the power-ups.\n",
        "\n",
        "Princess Peach decides to adapt her approach based on the specific requirements of the emergency response. She quickly identifies the most critical power-ups needed for the mission, such as Super Mushrooms, Fire Flowers, and Starmen. To find these critical power-ups, she performs a focused linear search in the areas of the castle where they are most likely to be found, such as the armory and the treasure room.\n",
        "\n",
        "For the remaining power-ups, Princess Peach leverages the existing categorization system in the royal inventory. She assigns her staff to search for specific categories of power-ups in parallel. One group searches for offensive power-ups like Bob-ombs and Green Shells, while another group searches for defensive power-ups like 1-Up Mushrooms and Blue Shells.\n",
        "\n",
        "By combining a focused linear search for the critical power-ups and parallel searches within categories for the remaining items, Princess Peach and her staff manage to gather the necessary power-ups and dispatch the reinforcements in a timely manner. This approach balances the need for quick action with the benefits of organized searching, adapting to the unique constraints of the emergency situation."
      ],
      "metadata": {
        "id": "y6EPKiLF6gmK"
      }
    },
    {
      "cell_type": "markdown",
      "source": [
        "### Toadette Explains Big O\n",
        "Princess Peach and Toadette were enjoying a peaceful afternoon in the Mushroom Kingdom when Peach suddenly remembered her recent experiences with searching and sorting. Curious about how to analyze and compare the efficiency of different algorithms, she turned to her friend Toadette, who happened to be a computer scientist.\n",
        "\n",
        "\"Toadette,\" Peach began, \"I've been thinking about the different ways I searched for my missing crown and sorted the royal inventory. How can I determine which methods are more efficient?\"\n",
        "\n",
        "Toadette smiled and replied, \"That's a great question, Peach! In computer science, we use something called 'Big O notation' to describe the efficiency of algorithms. It helps us understand how the running time or space requirements of an algorithm grow as the input size increases.\"\n",
        "\n",
        "Peach nodded, intrigued. \"Can you give me some examples?\"\n",
        "\n",
        "\"Of course!\" Toadette said. \"Remember when you were searching for your missing crown in your cluttered room? You performed a linear search, checking each item one by one until you found the crown. In **Big O notation**, we say that linear search has a time complexity of $O(n)$, where n is the number of items in the room. This means that in the worst case, you might have to check all n items before finding the crown.\"\n",
        "\n",
        "Peach thought for a moment. \"I see. So, if I had twice as many items in my room, it could take me twice as long to find the crown using linear search?\"\n",
        "\n",
        "Toadette nodded. \"Exactly! Now, let's consider the binary search you used when searching for specific items in the sorted royal inventory. Binary search has a time complexity of $O(log n)$, which is much more efficient than linear search. In the worst case, the number of steps required to find an item grows logarithmically with the size of the inventory.\" Basically, you can \"cut the problem\" in half with each step of the search (for example, by knowing whether it is \"before\" or \"after\" your targt alphabetically).\n",
        "\n",
        "Peach's eyes widened. \"Wow, that's impressive! But what about sorting algorithms? I remember organizing my power-up collection by repeatedly finding the smallest power-up and putting it at the beginning.\"\n",
        "\n",
        "\"Ah, yes!\" Toadette exclaimed. \"What you described is similar to the bubble sort algorithm. Bubble sort repeatedly compares adjacent elements and swaps them if they are in the wrong order until the entire list is sorted. It has a time complexity of $O(n^2)$, meaning that the number of comparisons and swaps grows quadratically with the size of the list.\" That means, for example, than an increase from a list of 5 items to 50 items (an increase of 10), the time will go up by 100 (which is 10^2).\n",
        "\n",
        "Peach frowned. \"Quadratically? That sounds inefficient for large collections.\"\n",
        "\n",
        "Toadette agreed, \"You're right, Peach. Bubble sort and other simple sorting algorithms like selection sort are not very efficient for large datasets. However, there are more advanced sorting algorithms with better time complexities.\"\n",
        "\n",
        "Peach leaned forward, curious. \"Really? Can you tell me more?\"\n",
        "\n",
        "Toadette smiled. \"One example is merge sort, which follows a divide-and-conquer approach. It recursively divides the list into smaller sublists, sorts them, and then merges the sorted sublists back together. Merge sort has a time complexity of $O(n \\log n)$, which is much faster than bubble sort for large datasets.\"\n",
        "\n",
        "Peach clapped her hands in excitement. \"That sounds amazing! I can't wait to learn more about these efficient algorithms.\"\n",
        "\n",
        "Toadette grinned. \"I'm glad you're interested, Peach! Understanding Big O notation and the efficiency of different algorithms is crucial for solving problems and optimizing code. It helps us make informed decisions about which algorithms to use based on the size and complexity of the input.\"\n",
        "\n",
        "Peach nodded, determined. \"Thank you so much, Toadette! I feel more equipped now to tackle future searching and sorting challenges in the Mushroom Kingdom. And who knows, maybe I'll even learn to implement some of these efficient algorithms myself!\"\n",
        "\n",
        "Toadette chuckled. \"I have no doubt you will, Peach. With your determination and newfound knowledge of Big O notation, you'll be a coding superstar in no time!\""
      ],
      "metadata": {
        "id": "EtgYe4ho98Do"
      }
    },
    {
      "cell_type": "markdown",
      "source": [
        "### Common Big O Times\n",
        "Here's a table of common Big O times:\n",
        "\n",
        "| Big O | Name | Example Algorithms |\n",
        "| --- | --- | --- |\n",
        "| O(1) | Constant | Hash table lookup |\n",
        "| O(log n) | Logarithmic | Binary search |\n",
        "| O(n) | Linear | Linear search |\n",
        "| O(n log n) | Linearithmic | Merge sort, quicksort |\n",
        "| O(n^2) | Quadratic | Bubble sort, insertion sort |\n",
        "| O(n^3) | Cubic | Matrix multiplication |\n",
        "| O(2^n) | Exponential | Brute force search |\n",
        "| O(n!) | Factorial | Traveling Salesman |\n",
        "\n",
        "By understanding the Big O complexity of different algorithms, we can make informed decisions about which algorithm to use for a particular task, based on the size and characteristics of the input data. This can help us optimize our code and avoid performance issues as our programs scale up to handle larger and more complex data sets.\n",
        "\n",
        "To give an example of the difference this can make in running time, let's consider a simple example where it takes 1 unit of time (for example 1 sec) to run on an input of length 1 (for example, 1 integer). Here is the difference in running times:\n"
      ],
      "metadata": {
        "id": "OOBx3-GLrjXC"
      }
    },
    {
      "cell_type": "code",
      "source": [
        "# Pandas table showing commong Big O runtimes for numbers 1 - 20\n",
        "\n",
        "import pandas as pd\n",
        "import numpy as np\n",
        "\n",
        "# Create a list of numbers 1 - 20 using numpy\n",
        "numbers = np.arange(1, 20)\n",
        "\n",
        "# Create a list of common Big O runtimes\n",
        "runtimes = ['Constant', 'Logarithmic', 'Linear', 'Log Linear', 'Quadratic', 'Cubic', 'Exponential']\n",
        "\n",
        "# Create dataframe by calculating the runtime for each number\n",
        "df = pd.DataFrame({'Num Items to Sort': numbers,\n",
        "                   'Constant Time': [1] * len(numbers),\n",
        "                   'Logarithmic Time': np.log(numbers),\n",
        "                   'Linear Time': numbers,\n",
        "                   'Log Linear Time': numbers * np.log(numbers),\n",
        "                   'Quadratic Time': numbers ** 2,\n",
        "                   'Cubic Time': numbers ** 3,\n",
        "                   'Exponential Time': 2 ** numbers})\n",
        "\n",
        "round(df,2)"
      ],
      "metadata": {
        "colab": {
          "base_uri": "https://localhost:8080/",
          "height": 645
        },
        "id": "-m_EBZLJFOHw",
        "outputId": "47b411e2-b87a-4b14-b76e-52124dcd0f4b"
      },
      "execution_count": null,
      "outputs": [
        {
          "output_type": "execute_result",
          "data": {
            "text/plain": [
              "    Num Items to Sort  Constant Time  Logarithmic Time  Linear Time  \\\n",
              "0                   1              1              0.00            1   \n",
              "1                   2              1              0.69            2   \n",
              "2                   3              1              1.10            3   \n",
              "3                   4              1              1.39            4   \n",
              "4                   5              1              1.61            5   \n",
              "5                   6              1              1.79            6   \n",
              "6                   7              1              1.95            7   \n",
              "7                   8              1              2.08            8   \n",
              "8                   9              1              2.20            9   \n",
              "9                  10              1              2.30           10   \n",
              "10                 11              1              2.40           11   \n",
              "11                 12              1              2.48           12   \n",
              "12                 13              1              2.56           13   \n",
              "13                 14              1              2.64           14   \n",
              "14                 15              1              2.71           15   \n",
              "15                 16              1              2.77           16   \n",
              "16                 17              1              2.83           17   \n",
              "17                 18              1              2.89           18   \n",
              "18                 19              1              2.94           19   \n",
              "\n",
              "    Log Linear Time  Quadratic Time  Cubic Time  Exponential Time  \n",
              "0              0.00               1           1                 2  \n",
              "1              1.39               4           8                 4  \n",
              "2              3.30               9          27                 8  \n",
              "3              5.55              16          64                16  \n",
              "4              8.05              25         125                32  \n",
              "5             10.75              36         216                64  \n",
              "6             13.62              49         343               128  \n",
              "7             16.64              64         512               256  \n",
              "8             19.78              81         729               512  \n",
              "9             23.03             100        1000              1024  \n",
              "10            26.38             121        1331              2048  \n",
              "11            29.82             144        1728              4096  \n",
              "12            33.34             169        2197              8192  \n",
              "13            36.95             196        2744             16384  \n",
              "14            40.62             225        3375             32768  \n",
              "15            44.36             256        4096             65536  \n",
              "16            48.16             289        4913            131072  \n",
              "17            52.03             324        5832            262144  \n",
              "18            55.94             361        6859            524288  "
            ],
            "text/html": [
              "\n",
              "  <div id=\"df-10e5e66d-d57f-4d3c-8efd-fdc8112633b2\" class=\"colab-df-container\">\n",
              "    <div>\n",
              "<style scoped>\n",
              "    .dataframe tbody tr th:only-of-type {\n",
              "        vertical-align: middle;\n",
              "    }\n",
              "\n",
              "    .dataframe tbody tr th {\n",
              "        vertical-align: top;\n",
              "    }\n",
              "\n",
              "    .dataframe thead th {\n",
              "        text-align: right;\n",
              "    }\n",
              "</style>\n",
              "<table border=\"1\" class=\"dataframe\">\n",
              "  <thead>\n",
              "    <tr style=\"text-align: right;\">\n",
              "      <th></th>\n",
              "      <th>Num Items to Sort</th>\n",
              "      <th>Constant Time</th>\n",
              "      <th>Logarithmic Time</th>\n",
              "      <th>Linear Time</th>\n",
              "      <th>Log Linear Time</th>\n",
              "      <th>Quadratic Time</th>\n",
              "      <th>Cubic Time</th>\n",
              "      <th>Exponential Time</th>\n",
              "    </tr>\n",
              "  </thead>\n",
              "  <tbody>\n",
              "    <tr>\n",
              "      <th>0</th>\n",
              "      <td>1</td>\n",
              "      <td>1</td>\n",
              "      <td>0.00</td>\n",
              "      <td>1</td>\n",
              "      <td>0.00</td>\n",
              "      <td>1</td>\n",
              "      <td>1</td>\n",
              "      <td>2</td>\n",
              "    </tr>\n",
              "    <tr>\n",
              "      <th>1</th>\n",
              "      <td>2</td>\n",
              "      <td>1</td>\n",
              "      <td>0.69</td>\n",
              "      <td>2</td>\n",
              "      <td>1.39</td>\n",
              "      <td>4</td>\n",
              "      <td>8</td>\n",
              "      <td>4</td>\n",
              "    </tr>\n",
              "    <tr>\n",
              "      <th>2</th>\n",
              "      <td>3</td>\n",
              "      <td>1</td>\n",
              "      <td>1.10</td>\n",
              "      <td>3</td>\n",
              "      <td>3.30</td>\n",
              "      <td>9</td>\n",
              "      <td>27</td>\n",
              "      <td>8</td>\n",
              "    </tr>\n",
              "    <tr>\n",
              "      <th>3</th>\n",
              "      <td>4</td>\n",
              "      <td>1</td>\n",
              "      <td>1.39</td>\n",
              "      <td>4</td>\n",
              "      <td>5.55</td>\n",
              "      <td>16</td>\n",
              "      <td>64</td>\n",
              "      <td>16</td>\n",
              "    </tr>\n",
              "    <tr>\n",
              "      <th>4</th>\n",
              "      <td>5</td>\n",
              "      <td>1</td>\n",
              "      <td>1.61</td>\n",
              "      <td>5</td>\n",
              "      <td>8.05</td>\n",
              "      <td>25</td>\n",
              "      <td>125</td>\n",
              "      <td>32</td>\n",
              "    </tr>\n",
              "    <tr>\n",
              "      <th>5</th>\n",
              "      <td>6</td>\n",
              "      <td>1</td>\n",
              "      <td>1.79</td>\n",
              "      <td>6</td>\n",
              "      <td>10.75</td>\n",
              "      <td>36</td>\n",
              "      <td>216</td>\n",
              "      <td>64</td>\n",
              "    </tr>\n",
              "    <tr>\n",
              "      <th>6</th>\n",
              "      <td>7</td>\n",
              "      <td>1</td>\n",
              "      <td>1.95</td>\n",
              "      <td>7</td>\n",
              "      <td>13.62</td>\n",
              "      <td>49</td>\n",
              "      <td>343</td>\n",
              "      <td>128</td>\n",
              "    </tr>\n",
              "    <tr>\n",
              "      <th>7</th>\n",
              "      <td>8</td>\n",
              "      <td>1</td>\n",
              "      <td>2.08</td>\n",
              "      <td>8</td>\n",
              "      <td>16.64</td>\n",
              "      <td>64</td>\n",
              "      <td>512</td>\n",
              "      <td>256</td>\n",
              "    </tr>\n",
              "    <tr>\n",
              "      <th>8</th>\n",
              "      <td>9</td>\n",
              "      <td>1</td>\n",
              "      <td>2.20</td>\n",
              "      <td>9</td>\n",
              "      <td>19.78</td>\n",
              "      <td>81</td>\n",
              "      <td>729</td>\n",
              "      <td>512</td>\n",
              "    </tr>\n",
              "    <tr>\n",
              "      <th>9</th>\n",
              "      <td>10</td>\n",
              "      <td>1</td>\n",
              "      <td>2.30</td>\n",
              "      <td>10</td>\n",
              "      <td>23.03</td>\n",
              "      <td>100</td>\n",
              "      <td>1000</td>\n",
              "      <td>1024</td>\n",
              "    </tr>\n",
              "    <tr>\n",
              "      <th>10</th>\n",
              "      <td>11</td>\n",
              "      <td>1</td>\n",
              "      <td>2.40</td>\n",
              "      <td>11</td>\n",
              "      <td>26.38</td>\n",
              "      <td>121</td>\n",
              "      <td>1331</td>\n",
              "      <td>2048</td>\n",
              "    </tr>\n",
              "    <tr>\n",
              "      <th>11</th>\n",
              "      <td>12</td>\n",
              "      <td>1</td>\n",
              "      <td>2.48</td>\n",
              "      <td>12</td>\n",
              "      <td>29.82</td>\n",
              "      <td>144</td>\n",
              "      <td>1728</td>\n",
              "      <td>4096</td>\n",
              "    </tr>\n",
              "    <tr>\n",
              "      <th>12</th>\n",
              "      <td>13</td>\n",
              "      <td>1</td>\n",
              "      <td>2.56</td>\n",
              "      <td>13</td>\n",
              "      <td>33.34</td>\n",
              "      <td>169</td>\n",
              "      <td>2197</td>\n",
              "      <td>8192</td>\n",
              "    </tr>\n",
              "    <tr>\n",
              "      <th>13</th>\n",
              "      <td>14</td>\n",
              "      <td>1</td>\n",
              "      <td>2.64</td>\n",
              "      <td>14</td>\n",
              "      <td>36.95</td>\n",
              "      <td>196</td>\n",
              "      <td>2744</td>\n",
              "      <td>16384</td>\n",
              "    </tr>\n",
              "    <tr>\n",
              "      <th>14</th>\n",
              "      <td>15</td>\n",
              "      <td>1</td>\n",
              "      <td>2.71</td>\n",
              "      <td>15</td>\n",
              "      <td>40.62</td>\n",
              "      <td>225</td>\n",
              "      <td>3375</td>\n",
              "      <td>32768</td>\n",
              "    </tr>\n",
              "    <tr>\n",
              "      <th>15</th>\n",
              "      <td>16</td>\n",
              "      <td>1</td>\n",
              "      <td>2.77</td>\n",
              "      <td>16</td>\n",
              "      <td>44.36</td>\n",
              "      <td>256</td>\n",
              "      <td>4096</td>\n",
              "      <td>65536</td>\n",
              "    </tr>\n",
              "    <tr>\n",
              "      <th>16</th>\n",
              "      <td>17</td>\n",
              "      <td>1</td>\n",
              "      <td>2.83</td>\n",
              "      <td>17</td>\n",
              "      <td>48.16</td>\n",
              "      <td>289</td>\n",
              "      <td>4913</td>\n",
              "      <td>131072</td>\n",
              "    </tr>\n",
              "    <tr>\n",
              "      <th>17</th>\n",
              "      <td>18</td>\n",
              "      <td>1</td>\n",
              "      <td>2.89</td>\n",
              "      <td>18</td>\n",
              "      <td>52.03</td>\n",
              "      <td>324</td>\n",
              "      <td>5832</td>\n",
              "      <td>262144</td>\n",
              "    </tr>\n",
              "    <tr>\n",
              "      <th>18</th>\n",
              "      <td>19</td>\n",
              "      <td>1</td>\n",
              "      <td>2.94</td>\n",
              "      <td>19</td>\n",
              "      <td>55.94</td>\n",
              "      <td>361</td>\n",
              "      <td>6859</td>\n",
              "      <td>524288</td>\n",
              "    </tr>\n",
              "  </tbody>\n",
              "</table>\n",
              "</div>\n",
              "    <div class=\"colab-df-buttons\">\n",
              "\n",
              "  <div class=\"colab-df-container\">\n",
              "    <button class=\"colab-df-convert\" onclick=\"convertToInteractive('df-10e5e66d-d57f-4d3c-8efd-fdc8112633b2')\"\n",
              "            title=\"Convert this dataframe to an interactive table.\"\n",
              "            style=\"display:none;\">\n",
              "\n",
              "  <svg xmlns=\"http://www.w3.org/2000/svg\" height=\"24px\" viewBox=\"0 -960 960 960\">\n",
              "    <path d=\"M120-120v-720h720v720H120Zm60-500h600v-160H180v160Zm220 220h160v-160H400v160Zm0 220h160v-160H400v160ZM180-400h160v-160H180v160Zm440 0h160v-160H620v160ZM180-180h160v-160H180v160Zm440 0h160v-160H620v160Z\"/>\n",
              "  </svg>\n",
              "    </button>\n",
              "\n",
              "  <style>\n",
              "    .colab-df-container {\n",
              "      display:flex;\n",
              "      gap: 12px;\n",
              "    }\n",
              "\n",
              "    .colab-df-convert {\n",
              "      background-color: #E8F0FE;\n",
              "      border: none;\n",
              "      border-radius: 50%;\n",
              "      cursor: pointer;\n",
              "      display: none;\n",
              "      fill: #1967D2;\n",
              "      height: 32px;\n",
              "      padding: 0 0 0 0;\n",
              "      width: 32px;\n",
              "    }\n",
              "\n",
              "    .colab-df-convert:hover {\n",
              "      background-color: #E2EBFA;\n",
              "      box-shadow: 0px 1px 2px rgba(60, 64, 67, 0.3), 0px 1px 3px 1px rgba(60, 64, 67, 0.15);\n",
              "      fill: #174EA6;\n",
              "    }\n",
              "\n",
              "    .colab-df-buttons div {\n",
              "      margin-bottom: 4px;\n",
              "    }\n",
              "\n",
              "    [theme=dark] .colab-df-convert {\n",
              "      background-color: #3B4455;\n",
              "      fill: #D2E3FC;\n",
              "    }\n",
              "\n",
              "    [theme=dark] .colab-df-convert:hover {\n",
              "      background-color: #434B5C;\n",
              "      box-shadow: 0px 1px 3px 1px rgba(0, 0, 0, 0.15);\n",
              "      filter: drop-shadow(0px 1px 2px rgba(0, 0, 0, 0.3));\n",
              "      fill: #FFFFFF;\n",
              "    }\n",
              "  </style>\n",
              "\n",
              "    <script>\n",
              "      const buttonEl =\n",
              "        document.querySelector('#df-10e5e66d-d57f-4d3c-8efd-fdc8112633b2 button.colab-df-convert');\n",
              "      buttonEl.style.display =\n",
              "        google.colab.kernel.accessAllowed ? 'block' : 'none';\n",
              "\n",
              "      async function convertToInteractive(key) {\n",
              "        const element = document.querySelector('#df-10e5e66d-d57f-4d3c-8efd-fdc8112633b2');\n",
              "        const dataTable =\n",
              "          await google.colab.kernel.invokeFunction('convertToInteractive',\n",
              "                                                    [key], {});\n",
              "        if (!dataTable) return;\n",
              "\n",
              "        const docLinkHtml = 'Like what you see? Visit the ' +\n",
              "          '<a target=\"_blank\" href=https://colab.research.google.com/notebooks/data_table.ipynb>data table notebook</a>'\n",
              "          + ' to learn more about interactive tables.';\n",
              "        element.innerHTML = '';\n",
              "        dataTable['output_type'] = 'display_data';\n",
              "        await google.colab.output.renderOutput(dataTable, element);\n",
              "        const docLink = document.createElement('div');\n",
              "        docLink.innerHTML = docLinkHtml;\n",
              "        element.appendChild(docLink);\n",
              "      }\n",
              "    </script>\n",
              "  </div>\n",
              "\n",
              "\n",
              "<div id=\"df-958a6d79-b3a0-45e6-adaf-e83e6dd6693e\">\n",
              "  <button class=\"colab-df-quickchart\" onclick=\"quickchart('df-958a6d79-b3a0-45e6-adaf-e83e6dd6693e')\"\n",
              "            title=\"Suggest charts.\"\n",
              "            style=\"display:none;\">\n",
              "\n",
              "<svg xmlns=\"http://www.w3.org/2000/svg\" height=\"24px\"viewBox=\"0 0 24 24\"\n",
              "     width=\"24px\">\n",
              "    <g>\n",
              "        <path d=\"M19 3H5c-1.1 0-2 .9-2 2v14c0 1.1.9 2 2 2h14c1.1 0 2-.9 2-2V5c0-1.1-.9-2-2-2zM9 17H7v-7h2v7zm4 0h-2V7h2v10zm4 0h-2v-4h2v4z\"/>\n",
              "    </g>\n",
              "</svg>\n",
              "  </button>\n",
              "\n",
              "<style>\n",
              "  .colab-df-quickchart {\n",
              "      --bg-color: #E8F0FE;\n",
              "      --fill-color: #1967D2;\n",
              "      --hover-bg-color: #E2EBFA;\n",
              "      --hover-fill-color: #174EA6;\n",
              "      --disabled-fill-color: #AAA;\n",
              "      --disabled-bg-color: #DDD;\n",
              "  }\n",
              "\n",
              "  [theme=dark] .colab-df-quickchart {\n",
              "      --bg-color: #3B4455;\n",
              "      --fill-color: #D2E3FC;\n",
              "      --hover-bg-color: #434B5C;\n",
              "      --hover-fill-color: #FFFFFF;\n",
              "      --disabled-bg-color: #3B4455;\n",
              "      --disabled-fill-color: #666;\n",
              "  }\n",
              "\n",
              "  .colab-df-quickchart {\n",
              "    background-color: var(--bg-color);\n",
              "    border: none;\n",
              "    border-radius: 50%;\n",
              "    cursor: pointer;\n",
              "    display: none;\n",
              "    fill: var(--fill-color);\n",
              "    height: 32px;\n",
              "    padding: 0;\n",
              "    width: 32px;\n",
              "  }\n",
              "\n",
              "  .colab-df-quickchart:hover {\n",
              "    background-color: var(--hover-bg-color);\n",
              "    box-shadow: 0 1px 2px rgba(60, 64, 67, 0.3), 0 1px 3px 1px rgba(60, 64, 67, 0.15);\n",
              "    fill: var(--button-hover-fill-color);\n",
              "  }\n",
              "\n",
              "  .colab-df-quickchart-complete:disabled,\n",
              "  .colab-df-quickchart-complete:disabled:hover {\n",
              "    background-color: var(--disabled-bg-color);\n",
              "    fill: var(--disabled-fill-color);\n",
              "    box-shadow: none;\n",
              "  }\n",
              "\n",
              "  .colab-df-spinner {\n",
              "    border: 2px solid var(--fill-color);\n",
              "    border-color: transparent;\n",
              "    border-bottom-color: var(--fill-color);\n",
              "    animation:\n",
              "      spin 1s steps(1) infinite;\n",
              "  }\n",
              "\n",
              "  @keyframes spin {\n",
              "    0% {\n",
              "      border-color: transparent;\n",
              "      border-bottom-color: var(--fill-color);\n",
              "      border-left-color: var(--fill-color);\n",
              "    }\n",
              "    20% {\n",
              "      border-color: transparent;\n",
              "      border-left-color: var(--fill-color);\n",
              "      border-top-color: var(--fill-color);\n",
              "    }\n",
              "    30% {\n",
              "      border-color: transparent;\n",
              "      border-left-color: var(--fill-color);\n",
              "      border-top-color: var(--fill-color);\n",
              "      border-right-color: var(--fill-color);\n",
              "    }\n",
              "    40% {\n",
              "      border-color: transparent;\n",
              "      border-right-color: var(--fill-color);\n",
              "      border-top-color: var(--fill-color);\n",
              "    }\n",
              "    60% {\n",
              "      border-color: transparent;\n",
              "      border-right-color: var(--fill-color);\n",
              "    }\n",
              "    80% {\n",
              "      border-color: transparent;\n",
              "      border-right-color: var(--fill-color);\n",
              "      border-bottom-color: var(--fill-color);\n",
              "    }\n",
              "    90% {\n",
              "      border-color: transparent;\n",
              "      border-bottom-color: var(--fill-color);\n",
              "    }\n",
              "  }\n",
              "</style>\n",
              "\n",
              "  <script>\n",
              "    async function quickchart(key) {\n",
              "      const quickchartButtonEl =\n",
              "        document.querySelector('#' + key + ' button');\n",
              "      quickchartButtonEl.disabled = true;  // To prevent multiple clicks.\n",
              "      quickchartButtonEl.classList.add('colab-df-spinner');\n",
              "      try {\n",
              "        const charts = await google.colab.kernel.invokeFunction(\n",
              "            'suggestCharts', [key], {});\n",
              "      } catch (error) {\n",
              "        console.error('Error during call to suggestCharts:', error);\n",
              "      }\n",
              "      quickchartButtonEl.classList.remove('colab-df-spinner');\n",
              "      quickchartButtonEl.classList.add('colab-df-quickchart-complete');\n",
              "    }\n",
              "    (() => {\n",
              "      let quickchartButtonEl =\n",
              "        document.querySelector('#df-958a6d79-b3a0-45e6-adaf-e83e6dd6693e button');\n",
              "      quickchartButtonEl.style.display =\n",
              "        google.colab.kernel.accessAllowed ? 'block' : 'none';\n",
              "    })();\n",
              "  </script>\n",
              "</div>\n",
              "    </div>\n",
              "  </div>\n"
            ]
          },
          "metadata": {},
          "execution_count": 6
        }
      ]
    },
    {
      "cell_type": "markdown",
      "source": [
        "## Dicussion Questions: The Search-Sort Tradeoff\n",
        "\n",
        "1. In the first scenario, Princess Peach used a linear search to find her missing crown. Can you think of any real-life situations where you might use a linear search? What are the advantages and disadvantages of using linear search in those situations?\n",
        "2. Princess Peach sorted the royal inventory to enable faster searching using binary search. Why is binary search more efficient than linear search? Can you explain how binary search works and why it requires the list to be sorted?\n",
        "3. In the third scenario, Princess Peach had to adapt her approach to finding power-ups based on the urgency of the situation. Can you think of any real-life examples where you might need to adjust your problem-solving strategy depending on the context or constraints?\n",
        "4. Toadette introduced the concept of Big O notation to analyze the efficiency of algorithms. Why is it important to consider the efficiency of an algorithm? How does Big O notation help us compare the performance of different algorithms?"
      ],
      "metadata": {
        "id": "QkgXcyiKsLO9"
      }
    },
    {
      "cell_type": "markdown",
      "source": [
        "## Discussion Questions: Your Answers\n",
        "1.\n",
        "\n",
        "2.\n",
        "\n",
        "3.\n",
        "\n",
        "4."
      ],
      "metadata": {
        "id": "d1SINMtUtA2H"
      }
    },
    {
      "cell_type": "markdown",
      "source": [
        "## Review with Quizlet\n",
        "Run the following cell to launch the chapter review on Quizlet."
      ],
      "metadata": {
        "id": "d59qb8PmC8V2"
      }
    },
    {
      "cell_type": "code",
      "source": [
        "%%html\n",
        "<iframe src=\"https://quizlet.com/821232086/learn/embed?i=psvlh&x=1jj1\" height=\"600\" width=\"100%\" style=\"border:0\"></iframe>"
      ],
      "metadata": {
        "id": "yrvYhzB5DCoX",
        "outputId": "d92d9911-8543-40b5-c651-cc8d6a355b14",
        "colab": {
          "base_uri": "https://localhost:8080/",
          "height": 622
        }
      },
      "execution_count": null,
      "outputs": [
        {
          "output_type": "display_data",
          "data": {
            "text/plain": [
              "<IPython.core.display.HTML object>"
            ],
            "text/html": [
              "<iframe src=\"https://quizlet.com/821232086/learn/embed?i=psvlh&x=1jj1\" height=\"600\" width=\"100%\" style=\"border:0\"></iframe>\n"
            ]
          },
          "metadata": {}
        }
      ]
    },
    {
      "cell_type": "markdown",
      "source": [
        "## Glossary\n",
        "\n",
        "| Term | Definition |\n",
        "| --- | --- |\n",
        "| Algorithm | A finite sequence of unambigious instructions or rules designed to effectively solve a particular problem. |\n",
        "| Unambiguity | The clarity in design such that a step or process can only be interpreted in one way. |\n",
        "| Finiteness | The attribute of having a definite and limited number of steps. |\n",
        "| Effectiveness | The ability of a process or algorithm to achieve its intended result. |\n",
        "| for-loop | A control flow statement in programming which executes a piece of code a specified number of times. |\n",
        "| while-loop | A control flow statement that repeatedly executes a block of code as long as a certain condition is true. |\n",
        "| Iterate | The process of repeating steps in a systematic way, often used in programming loops. |\n",
        "| Input Validation | The process of checking if the data entered by a user meets specific criteria before it's processed. |\n",
        "| Nested Loop | A loop within another loop, where the inner loop executes multiple times for each iteration of the outer loop. |\n",
        "| Inner Loop | The loop that is inside another loop (the outer loop). This loop performs its entire cycle for every single iteration of the outer loop. |\n",
        "| Outer Loop | The loop that encloses another loop (the inner loop). This loop goes through one iteration for each full set of iterations of the inner loop. |\n",
        "| Search | The process of locating a specific item in a set of items. This is a common operation in computing and algorithms. |\n",
        "| Linear Search | A search algorithm that traverses through a list sequentially until the desired element is found. |\n",
        "| Binary Search | A search algorithm that efficiently finds a target value within a sorted list or array by halving the search space at each step. |\n",
        "| Sort | The process of arranging data in a particular order, typically numerical or lexicographical. |\n",
        "| Bubble Sort | A simple sorting algorithm that repeatedly steps through the list, compares adjacent elements and swaps them if they are in the wrong order. |\n",
        "| Insertion Sort | A simple sorting algorithm that builds the final sorted list one item at a time. It is generally less efficient on larger lists compared to more advanced algorithms such as quicksort or mergesort. |\n",
        "| Merge Sort | A divide and conquer algorithm that splits a list in half, recursively sorts the halves, and then merges the sorted halves. |\n",
        "| Quick Sort | A divide and conquer algorithm which picks an element as a pivot, partitions the array around the pivot, and then recursively applies the steps to the sub-arrays. |\n",
        "| Big O | Notation used in computer science to describe the performance or complexity of an algorithm. It specifically describes the worst-case scenario. |\n",
        "| O(1) | Denotes an algorithm that always performs a fixed number of operations, regardless of the size of the input data set. Example: Accessing an array element by its index. |\n",
        "| O(log n) | Denotes an algorithm whose performance grows logarithmically with the input size. Example: Binary search in a sorted array. |\n",
        "| O(n) | Denotes an algorithm whose performance grows linearly and in direct proportion to the size of the input data set. Example: Linear search in an unsorted array. |\n",
        "| O(n log n) | Denotes an algorithm whose performance is proportional to the number of items times the logarithm of the number of items. Example: Merge sort or quick sort. |\n",
        "| O(n^2) | Denotes an algorithm whose performance is proportional to the square of the size of the input data set. Example: Bubble sort or insertion sort. |\n",
        "| Search vs Sort tradeoff | The concept that highlights the trade-off between time taken to search for items in a list and the time taken to sort the list. For example, sorting a list can make subsequent searches faster, but the initial sort may take considerable time. |"
      ],
      "metadata": {
        "id": "DQ-Vy3EFewsH"
      }
    },
    {
      "cell_type": "code",
      "source": [],
      "metadata": {
        "id": "9BMfwF2AfHeF"
      },
      "execution_count": null,
      "outputs": []
    }
  ]
}