{
  "nbformat": 4,
  "nbformat_minor": 0,
  "metadata": {
    "colab": {
      "provenance": [],
      "authorship_tag": "ABX9TyP7dhaMRp7t2MxCnJ1vKwQR",
      "include_colab_link": true
    },
    "kernelspec": {
      "name": "python3",
      "display_name": "Python 3"
    },
    "language_info": {
      "name": "python"
    }
  },
  "cells": [
    {
      "cell_type": "markdown",
      "metadata": {
        "id": "view-in-github",
        "colab_type": "text"
      },
      "source": [
        "<a href=\"https://colab.research.google.com/github/brendanpshea/computing_concepts_python/blob/main/IntroCS_07_Algorithms_and_Loops.ipynb\" target=\"_parent\"><img src=\"https://colab.research.google.com/assets/colab-badge.svg\" alt=\"Open In Colab\"/></a>"
      ]
    },
    {
      "cell_type": "markdown",
      "source": [
        "# Algorithms and Loops\n",
        "## Brendan Shea, PhD (Brendan.Shea@rctc.edu)\n",
        "\n",
        "\n",
        "An **algorithm** is a step-by-step procedure or a set of rules for solving a particular problem or accomplishing a specific task. Algorithms can be found in various aspects of everyday life and computing. They are the basis for how computer programs and applications function, as well as how people make decisions or solve problems in their daily lives.\n",
        "\n",
        "Examples of algorithms in computing:\n",
        "\n",
        "1.  Sorting algorithms: Sorting is a common computational task where items are arranged in a specific order, such as alphabetical, numerical, or chronological. Some popular sorting algorithms include Bubble Sort, Quick Sort, and Merge Sort. These algorithms have different ways of organizing data, but they all achieve the same goal of sorting items.\n",
        "\n",
        "2.  Search algorithms: Search algorithms are used to locate specific items or data within a larger data set. Examples include Linear Search, which involves iterating through each item in the data set until the desired item is found, and Binary Search, which involves repeatedly dividing a sorted data set in half and checking if the desired item is in the left or right subset.\n",
        "\n",
        "Examples of algorithms in everyday life:\n",
        "\n",
        "1.  Cooking a recipe: When you cook a meal following a recipe, you are essentially executing an algorithm. The recipe provides a list of ingredients and a step-by-step procedure to follow in order to prepare the dish. By following the steps in the correct order, you will successfully cook the meal.\n",
        "\n",
        "2.  Driving to a destination: When you drive from one location to another, you follow a series of steps and make decisions based on traffic conditions, road signs, and your knowledge of the route. This process can be considered an algorithm, as you are following a procedure to reach your destination.\n",
        "\n",
        "3.  Getting dressed: The process of getting dressed involves a sequence of actions, such as selecting clothes, putting them on in a specific order, and adjusting as needed. This routine can be seen as an algorithm for preparing yourself for the day.\n",
        "\n",
        "So: an algorithm is a systematic set of rules or instructions used to solve problems or accomplish tasks. They can be found in both computing and everyday life, guiding actions and decisions to achieve specific goals."
      ],
      "metadata": {
        "id": "lB8wChrxGy1-"
      }
    },
    {
      "cell_type": "markdown",
      "source": [
        "## Brendan's Lecture\n",
        "Run the following cell to launch my lecture."
      ],
      "metadata": {
        "id": "A7LYSSNcVENS"
      }
    },
    {
      "cell_type": "code",
      "source": [
        "from IPython.display import YouTubeVideo\n",
        "YouTubeVideo('D7gYz215ioc', width=800, height=500)"
      ],
      "metadata": {
        "id": "0at3vOzkVDNw"
      },
      "execution_count": null,
      "outputs": []
    },
    {
      "cell_type": "markdown",
      "source": [
        "# Properties of Algorithms\n",
        "The technical definition of an algorithm is *a finite, well-defined sequence of steps or instructions that, when followed, accomplishes a specific task or solves a particular problem.* An algorithm must have the following properties:\n",
        "\n",
        "1.  **Unambiguity:** Each step of the algorithm should be clearly defined and not open to multiple interpretations. The instructions must be precise and unambiguous to ensure consistent execution.\n",
        "\n",
        "2. **Finiteness:** An algorithm must have a finite number of steps. It should eventually terminate after a limited number of iterations or actions.\n",
        "\n",
        "3.  **Input:** An algorithm typically takes zero or more input values to process and generate the desired output. These inputs can be in various forms, such as numbers, text, or other data types.\n",
        "\n",
        "4.  **Output:** An algorithm must produce at least one output, which is the result of processing the input data. The output is the solution to the problem or the accomplishment of the task.\n",
        "\n",
        "5.  **Effectiveness:** The steps in an algorithm should be simple, basic, and executable within a finite amount of time. The algorithm should be efficient and practical for the problem it is designed to solve.\n",
        "\n",
        "We can use these defintion to explain WHY the following processes are algorithms.\n",
        "\n",
        "1.  *Binary search algorithm.* A binary search algorithm is used to find a specific value in a sorted array. It repeatedly divides the array in half, comparing the middle element with the target value, and then narrowing the search to the left or right half, depending on the comparison result. This algorithm is unambiguous, finite, takes input, generates output, and is effective.\n",
        "\n",
        "2.  *Euclidean algorithm.* The Euclidean algorithm is used to find the greatest common divisor (GCD) of two integers. It repeatedly applies the division algorithm, replacing the larger integer with the remainder of the division until the remainder is zero. The last non-zero remainder is the GCD. This algorithm satisfies all the properties of an algorithm.\n",
        "\n",
        "We can also use this definition to explain why these processes are NOT algorithms:\n",
        "\n",
        "1.  *A vague or incomplete recipe.* A recipe that lacks specific measurements or cooking times, or has ambiguous instructions, does not qualify as an algorithm. It fails the unambiguity and effectiveness criteria.\n",
        "\n",
        "2.  *An infinite loop.* A sequence of steps that never terminates (e.g., \"repeat the action forever\") is not an algorithm, as it does not meet the finiteness requirement.\n",
        "\n",
        "3.  *A philosophical argument.* A philosophical argument or debate may involve logical reasoning but does not constitute an algorithm, as it lacks specific input and output, and may not be unambiguous or effective.\n",
        "\n",
        "The nature of algorithms can help us appreciate why computers are so good at certain tasks, and so bad at others."
      ],
      "metadata": {
        "id": "YnCFln8NJkZh"
      }
    },
    {
      "cell_type": "markdown",
      "source": [
        "![algs.svg](data:image/svg+xml;base64,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)"
      ],
      "metadata": {
        "id": "VbcC_MxZWCPX"
      }
    },
    {
      "cell_type": "markdown",
      "source": [
        "# What Computers are (Not) Good At\n",
        "Computers excel at tasks that involve repetitive calculations, processing large volumes of data, or following explicit instructions with precision and speed. Their ability to perform loops and execute repetitive tasks quickly and accurately is a significant advantage over humans. Some tasks that computers do well, better or faster than humans, include:\n",
        "\n",
        "1.  Computers can perform *complex mathematical operations* and calculations much faster and more accurately than humans. They can handle large numbers, fractions, and various arithmetic or algebraic operations with ease.\n",
        "\n",
        "2.  Computers can *process and analyze data* efficiently. Tasks such as sorting, searching, filtering, and statistical analysis can be performed rapidly by computers, often outpacing human capabilities.\n",
        "\n",
        "3.  Computers excel at performing *repetitive tasks* through loops, which allow them to execute the same set of instructions multiple times without errors or fatigue. Examples include running simulations, generating reports, or updating databases.\n",
        "\n",
        "4.  Computers can be trained to *recognize patterns* in data using machine learning and artificial intelligence algorithms. They can process large datasets to identify trends, anomalies, or correlations that might be challenging for humans to detect.\n",
        "\n",
        "5.  Computers are capable of *controlling and monitoring intricate systems*, such as power grids, traffic control, or telecommunications networks, by processing real-time data and making decisions based on predefined rules or algorithms.\n",
        "\n",
        "However, there are tasks that computers struggle with, especially those that involve human-like understanding, intuition, or creativity. Some of these tasks include:\n",
        "\n",
        "1. While computers have made significant progress in *natural language processing*, they still struggle with understanding context, idiomatic expressions, and implicit meanings in human language.\n",
        "\n",
        "2.  Computers lack the ability to perceive, understand, and respond to *human emotions* effectively. They struggle to interpret subtle cues, such as tone of voice, body language, or facial expressions, that humans use to communicate emotions. (This is unsurprsing, as a huge portion of human brains are devoted to this sort of thing--it is a difficult task!).\n",
        "\n",
        "3. Computers can produce original content based on algorithms or templates, but they generally lack the human-like creativity that drives innovation, artistic expression, or problem-solving in novel situations. Again, we have made progress in recent years on this (with AI art and text generating programs).\n",
        "\n",
        "4.  Computers struggle with tasks that require common sense or general knowledge about the world. They often lack the ability to make inferences based on everyday experiences or situations, which humans can do with ease. Programming computers to do these tasks can be difficult, since humans bring so much \"background knowledge and skills\" to everyday tasks."
      ],
      "metadata": {
        "id": "h-JpUBvAKSYC"
      }
    },
    {
      "cell_type": "markdown",
      "source": [
        "# Loops\n",
        "Loops are control structures in programming languages that allow a sequence of instructions to be executed repeatedly, based on a specific condition or a predetermined number of iterations. In Python, there are two types of loops: \"for\" loops and \"while\" loops. Both types can be used to perform repetitive tasks using numbers without involving lists or dictionaries.\n",
        "\n",
        "## For loops:\n",
        "A \"for\" loop in Python iterates over a range of numbers, executing the instructions within the loop body for each number in the range. The syntax for a \"for\" loop is as follows:\n",
        "\n",
        "```\n",
        "for variable in range(start, end, step):\n",
        "    # Code to be executed\n",
        "```\n",
        "Here's an example of a \"for\" loop that prints the first 5 even numbers:\n",
        "\n"
      ],
      "metadata": {
        "id": "eI6mXkrNMSPx"
      }
    },
    {
      "cell_type": "code",
      "source": [
        "for i in range(2, 11, 2):\n",
        "    print(i)"
      ],
      "metadata": {
        "id": "NcSwlOVkPPIk"
      },
      "execution_count": null,
      "outputs": []
    },
    {
      "cell_type": "markdown",
      "source": [
        "In this example, the loop variable i takes on the values 2, 4, 6, 8, and 10, and the print(i) statement is executed for each value.\n",
        "\n",
        "## While loops:\n",
        "A \"while\" loop in Python repeatedly executes a block of code as long as a given condition is true. The syntax for a \"while\" loop is as follows:\n",
        "\n",
        "```\n",
        "while condition:\n",
        "    # Code to be executed\n",
        "```\n",
        "Here's an example of a \"while\" loop that prints the first 5 even numbers:"
      ],
      "metadata": {
        "id": "N6GxwVAr9ls6"
      }
    },
    {
      "cell_type": "code",
      "source": [
        "i = 2\n",
        "count = 0\n",
        "\n",
        "while count < 5:\n",
        "    print(i)\n",
        "    i += 2\n",
        "    count += 1"
      ],
      "metadata": {
        "id": "HX8QNaMCPQ5A"
      },
      "execution_count": null,
      "outputs": []
    },
    {
      "cell_type": "markdown",
      "source": [
        "\n",
        "In this example, the loop executes as long as count is less than 5. The print(i) statement is executed, i is incremented by 2, and count is incremented by 1 on each iteration.\n",
        "\n",
        "Both \"for\" loops and \"while\" loops can be used to perform repetitive tasks with numbers in Python. The choice between the two depends on the specific requirements of the task and the desired loop control structure."
      ],
      "metadata": {
        "id": "4dd347Cu9pxN"
      }
    },
    {
      "cell_type": "markdown",
      "source": [
        "# More on While Loops\n",
        "A \"while\" loop is a control structure in programming languages, like Python, that allows you to repeatedly execute a block of code as long as a specific condition is met. It can be particularly useful for tasks that involve an indefinite number of iterations, such as validating user input or performing an action until a certain requirement is satisfied.\n",
        "\n",
        "To use a \"while\" loop, you can follow these steps:\n",
        "\n",
        "1. Start with the \"while\" keyword, followed by the condition that needs to be true for the loop to continue executing. The condition should be placed inside parentheses.\n",
        "\n",
        "2. After the condition, write a colon (\":\") to indicate the beginning of the loop body.\n",
        "\n",
        "3. Indent the code block that you want to execute repeatedly. This block of code is executed on each iteration of the loop.\n",
        "\n",
        "Here's a simple example of how to use a \"while\" loop:\n",
        "\n",
        "In this example, the loop will execute as long as the value of count is less than 5. The loop body prints the value of count and increments it by 1 on each iteration.\n",
        "\n",
        "## Using while True/break for Validating Input\n",
        " The \"while True\" construct creates an infinite loop that runs until a \"break\" statement is encountered. It can be particularly useful when you don't know how many iterations the loop will need before a specific condition is met.  \n",
        "Here's an example of using a \"while True\" loop for validating user input:\n",
        "\n"
      ],
      "metadata": {
        "id": "L1ykL45pOwc7"
      }
    },
    {
      "cell_type": "code",
      "source": [
        "user_input = None\n",
        "\n",
        "while True:\n",
        "    user_input_str = input(\"Enter an integer between 1 and 10: \")\n",
        "\n",
        "    if user_input_str.isnumeric():\n",
        "        user_input = int(user_input_str)\n",
        "        if 1 <= user_input <= 10:\n",
        "            break\n",
        "        else:\n",
        "            print(\"Invalid input. Please enter an integer between 1 and 10.\")\n",
        "    else:\n",
        "        print(\"Invalid input. Please enter an integer.\")\n",
        "\n",
        "print(f\"Your input is {user_input}.\")"
      ],
      "metadata": {
        "id": "xnXAxI0AJHUv"
      },
      "execution_count": null,
      "outputs": []
    },
    {
      "cell_type": "markdown",
      "source": [
        "In this example, the \"while True\" loop keeps running indefinitely until a valid user input is provided. We first check if the input string is numeric using the isnumeric() method. If it is, we convert the string to an integer and then check if it is within the desired range (1 to 10). If the input meets the criteria, the \"break\" statement is executed, which terminates the loop. If the input does not meet the criteria, the loop continues, and the user is prompted to enter a new input.\n",
        "\n",
        "## None\n",
        "The \"None\" keyword in Python represents the absence of a value or a null value. In this example, we initialize user_input with the value None to indicate that the user input has not yet been provided or assigned a value.\n",
        "\n",
        "In summary, you can use \"while\" loops to repeatedly execute a block of code as long as a specific condition is met. The \"while True\" construct and the \"break\" statement can be used to create an infinite loop that terminates when a certain requirement is satisfied, such as validating user input. Using \"None\" can help you represent the absence of a value or a null value for a variable, like user input, before it is assigned an appropriate value."
      ],
      "metadata": {
        "id": "41gi6qog-K-O"
      }
    },
    {
      "cell_type": "markdown",
      "source": [
        "## Table: Some Simple While-Loops\n",
        "\n",
        "| Code | Description |\n",
        "| --- | --- |\n",
        "| `i = 1; while i <= 5: print(i); i += 1` | Python while loop that prints numbers from 1 to 5 |\n",
        "| `n = 5; result = 1; while n > 0: result *= n; n -= 1; print(result)` | Python while loop that calculates the factorial of 5 |\n",
        "| `count = 0; while count < 3: print('Hello, world!'); count += 1` | Python while loop that prints 'Hello, world!' three times |\n",
        "| `i = 1; while i <= 5: print(i ** 2); i += 1` | Python while loop that prints the first 5 square numbers |\n",
        "| `word = 'Python'; reversed_word = ''; index = len(word) - 1; while index >= 0: reversed_word += word[index]; index -= 1; print(reversed_word)` | Python while loop that reverses a string 'Python' |\n",
        "| `lst = [1, 2, 3]; index = 0; while index < len(lst): print(lst[index]); index += 1` | Python while loop that prints all elements in a list `[1, 2, 3]` |\n",
        "| `i = 5; while i > 0: print(i); i -= 1` | Python while loop that counts down from 5 to 1 |\n",
        "| `i = 2; while i <= 10: print(i); i += 2` | Python while loop that prints all even numbers from 2 to 10 |\n",
        "| `i = 1; squares = []; while i <= 5: squares.append(i ** 2); i += 1; print(squares)` | Python while loop that appends squares of 1 to 5 to a list and prints the list |"
      ],
      "metadata": {
        "id": "oUYyvATmEtC0"
      }
    },
    {
      "cell_type": "markdown",
      "source": [
        "# More on For Loops\n",
        "A \"for\" loop is another type of control structure in programming languages like Python, allowing you to iterate over a sequence of values and execute a block of code for each value in the sequence. The \"for\" loop is particularly useful when you know the number of iterations you want the loop to perform, or when you want to iterate over a specific range of values.\n",
        "\n",
        "To use a \"for\" loop, you can follow these steps:\n",
        "\n",
        "1. Start with the `for` keyword, followed by a loop variable that represents the current value in the sequence.\n",
        "\n",
        "2. Use the `in` keyword, followed by a sequence of values to iterate over. In Python, you can use the built-in range() function to generate a sequence of numbers.\n",
        "\n",
        "3. Write a colon (\":\") to indicate the beginning of the loop body.\n",
        "\n",
        "4. Indent the code block that you want to execute repeatedly. This block of code is executed on each iteration of the loop, with the loop variable taking on the next value in the sequence.\n",
        "\n",
        "Here's a simple example of using a \"for\" loop to print the numbers from 0 to 4:\n",
        "\n"
      ],
      "metadata": {
        "id": "OdXkZhkvlxtb"
      }
    },
    {
      "cell_type": "code",
      "source": [
        "for i in [0,1,2,3,4]:\n",
        "  print(i)"
      ],
      "metadata": {
        "colab": {
          "base_uri": "https://localhost:8080/"
        },
        "id": "1GssYIQM_Ked",
        "outputId": "57b0f2dc-0acf-4fc3-fe4f-78c3076b9b44"
      },
      "execution_count": null,
      "outputs": [
        {
          "output_type": "stream",
          "name": "stdout",
          "text": [
            "0\n",
            "1\n",
            "2\n",
            "3\n",
            "4\n"
          ]
        }
      ]
    },
    {
      "cell_type": "markdown",
      "source": [
        "\n",
        "## range()\n",
        "The range() function generates a sequence of numbers and has three possible arguments:\n",
        "\n",
        "* `range(stop)`: Generates a sequence of numbers from 0 (inclusive) to stop (exclusive), with a step of 1.\n",
        "\n",
        "* `range(start, stop)`: Generates a sequence of numbers from start (inclusive) to stop (exclusive), with a step of 1.\n",
        "\n",
        "* `range(start, stop, step)`: Generates a sequence of numbers from start (inclusive) to stop (exclusive), with a custom step.\n",
        "\n",
        "## Use Cases\n",
        "Here are some potential uses of \"for\" loops:\n",
        "\n",
        "### Performing calculations:\n",
        "A \"for\" loop can be used to perform a calculation over a specific range of values. For example, you can use a \"for\" loop to calculate the sum of the first 10 positive integers:\n",
        "\n"
      ],
      "metadata": {
        "id": "2LwaCYn5-hot"
      }
    },
    {
      "cell_type": "code",
      "execution_count": null,
      "metadata": {
        "id": "cPzRzz3-GtMU"
      },
      "outputs": [],
      "source": [
        "sum_of_numbers = 0\n",
        "\n",
        "for i in range(1, 11):\n",
        "    sum_of_numbers += i\n",
        "\n",
        "print(f\"The sum of the first 10 positive integers is {sum_of_numbers}.\")"
      ]
    },
    {
      "cell_type": "markdown",
      "source": [
        "### Repeating an action a specific number of times:\n",
        "A \"for\" loop can be used to execute an action for a predetermined number of iterations. For example, you can use a \"for\" loop to print a message five times:\n"
      ],
      "metadata": {
        "id": "caRMtrg__vzA"
      }
    },
    {
      "cell_type": "code",
      "source": [
        "for i in range(5):\n",
        "    print(\"Hello, world!\")"
      ],
      "metadata": {
        "id": "POZS9SGGoYiI"
      },
      "execution_count": null,
      "outputs": []
    },
    {
      "cell_type": "markdown",
      "source": [
        "### Iterating over a sequence with a specific step:\n",
        "A \"for\" loop can be used to iterate over a sequence of values with a custom step. For example, you can use a \"for\" loop to print all multiples of three between 7 and 21 inclusive."
      ],
      "metadata": {
        "id": "sn-ARsEo_yq8"
      }
    },
    {
      "cell_type": "code",
      "source": [
        "for i in range(6, 22, 3):\n",
        "    print(i)"
      ],
      "metadata": {
        "id": "shQ65MojocKy"
      },
      "execution_count": null,
      "outputs": []
    },
    {
      "cell_type": "markdown",
      "source": [
        "\n",
        "In the end, \"for\" loops are a versatile control structure that can be used to iterate over a specific range of values and execute a block of code for each value in the sequence. They are particularly useful for tasks that require a known number of iterations, performing calculations over a range of values, or repeating an action a specific number of times."
      ],
      "metadata": {
        "id": "NDU55Iay_0dl"
      }
    },
    {
      "cell_type": "markdown",
      "source": [
        "# Looping Through Strings\n",
        "In programming languages like Python, strings are sequences of characters. A string can be considered as a collection of individual characters arranged in a specific order. Python provides built-in support for iterating over the characters of a string, which allows you to perform various operations on them using for loops.\n",
        "\n",
        "As strings are sequences, you can use a for loop to iterate over each character in the string. On each iteration, the loop variable takes on the value of the next character in the string. This feature enables you to perform operations on each character or derive information from the string.\n",
        "\n",
        "Here's an example that demonstrates how to use a for loop to iterate over the characters of a string and capitalize every other character:"
      ],
      "metadata": {
        "id": "omKgKYLfo2Gb"
      }
    },
    {
      "cell_type": "code",
      "source": [
        "text = \"Hello, world!\"\n",
        "capitalized_alternate_text = \"\"\n",
        "length = len(text)\n",
        "\n",
        "for i in range(length):\n",
        "    char = text[i]\n",
        "    if i % 2 == 0:\n",
        "        capitalized_char = char.upper()\n",
        "    else:\n",
        "        capitalized_char = char\n",
        "    capitalized_alternate_text += capitalized_char\n",
        "\n",
        "print(f\"Capitalized alternate text: {capitalized_alternate_text}\")\n"
      ],
      "metadata": {
        "id": "iGmg6hhIo8qa"
      },
      "execution_count": null,
      "outputs": []
    },
    {
      "cell_type": "markdown",
      "source": [
        "In this example, we first use the len() function to find the length of the string text. The len() function returns the number of characters in the string, which allows us to use a for loop with a range from 0 to the length of the string (exclusive).\n",
        "\n",
        "On each iteration, we access the character at the index i using the expression `text[i]`. Then, we use a conditional statement to check if the index i is even. If it is, we capitalize the character using the `upper()` method; otherwise, we keep the character unchanged. We then append the capitalized or original character to the capitalized_alternate_text string.\n",
        "\n",
        "The resulting capitalized_alternate_text string has every other character capitalized: \"HeLlO, wOrLd!\"\n",
        "\n",
        "This example illustrates how you can use for loops to iterate over the characters of a string, derive information about the string using the len() function, and perform operations on the characters, such as capitalizing every other character."
      ],
      "metadata": {
        "id": "0_4aBy0ypAqa"
      }
    },
    {
      "cell_type": "markdown",
      "source": [
        "# Nested Loops\n",
        "Nested loops are loops that are present within another loop. They are often used when you need to perform a set of operations that involve multiple levels of iteration or when you need to repeat a block of code for each combination of items from two or more sequences. The outer loop iterates over the first sequence, and the inner loop(s) iterate over the second (and subsequent) sequences. The inner loop completes all its iterations for each single iteration of the outer loop.\n",
        "\n",
        "Let's break down the concept of nested loops step by step:\n",
        "\n",
        "1.**Outer loop:** This is the loop that encloses the inner loop(s). It iterates over a sequence of values, just like any other loop.\n",
        "\n",
        "2. **Inner loop:** This loop is placed within the body of the outer loop. It also iterates over a sequence of values, executing its code block for each value in the sequence.\n",
        "\n",
        "3. **Combined iterations:** For each iteration of the outer loop, the inner loop goes through all its iterations. This means that the code block of the inner loop will be executed for every combination of values from the outer and inner loop sequences.\n",
        "\n",
        "Here's a simple example to illustrate the concept of nested loops:\n",
        "\n"
      ],
      "metadata": {
        "id": "B--2IAJtpRdl"
      }
    },
    {
      "cell_type": "code",
      "source": [
        "for i in range(1, 4):\n",
        "    print(f\"Outer loop iteration {i}:\")\n",
        "    for j in range(1, 3):\n",
        "        print(f\"  Inner loop iteration {j}\")"
      ],
      "metadata": {
        "id": "zOp52QaEqAwx"
      },
      "execution_count": null,
      "outputs": []
    },
    {
      "cell_type": "markdown",
      "source": [
        "In this example, we have an outer loop that iterates over the range of numbers from 1 to 3 (inclusive), and an inner loop that iterates over the range of numbers from 1 to 2 (inclusive). The inner loop is placed inside the body of the outer loop, which means that for each iteration of the outer loop, the inner loop will go through all its iterations.\n",
        "\n",
        "If you run the program (in the cell below), you'll discover that for each iteration of the outer loop (i = 1, 2, 3), the inner loop completes all its iterations (j = 1, 2). This results in a total of 6 combined iterations, as the outer loop iterates 3 times, and the inner loop iterates 2 times for each outer loop iteration (3 * 2 = 6).\n",
        "\n",
        "Nested loops are a powerful programming concept that allows you to handle problems requiring multiple levels of iteration or when you need to explore all possible combinations of elements from multiple sequences.\n"
      ],
      "metadata": {
        "id": "Qp-G0n3TAGy-"
      }
    },
    {
      "cell_type": "markdown",
      "source": [
        "## Lists and Loops\n",
        "A Python list is a built-in data structure that can hold an ordered collection of items. These items can be of any type---integers, floats, strings, and even other lists or complex objects. Lists in Python are mutable, meaning you can modify them after they are created.\n",
        "\n",
        "### Syntax\n",
        "\n",
        "The syntax for creating a list is simple: square brackets `[]` enclose the list items, which are separated by commas.\n"
      ],
      "metadata": {
        "id": "bq1h49iOTbyw"
      }
    },
    {
      "cell_type": "code",
      "source": [
        "# An empty list\n",
        "empty_list = []\n",
        "\n",
        "# A list of integers\n",
        "integer_list = [1, 2, 3, 4, 5]\n",
        "\n",
        "# A list of strings\n",
        "string_list = ['Mario', 'Luigi', 'Peach', \"Yoshi\", \"Donkey Kong\"]\n",
        "\n",
        "# A mixed list\n",
        "mixed_list = [1, 'Mario Kart', 3.14]\n"
      ],
      "metadata": {
        "id": "pRYmTgisTdnQ"
      },
      "execution_count": null,
      "outputs": []
    },
    {
      "cell_type": "markdown",
      "source": [
        "### Accessing List Elements\n",
        "Just like Strings, List elements are accessed by their index, which starts from 0. For example, in the list `[1, 2, 3]`, the element at index 0 is `1`. Negative indexing can be used to access elements from the end of the list. For example, an index of `-1` refers to the last element.\n"
      ],
      "metadata": {
        "id": "Zdu_ldFtTgmI"
      }
    },
    {
      "cell_type": "code",
      "source": [
        "print(string_list[0])\n",
        "print(string_list[-1])"
      ],
      "metadata": {
        "id": "7_K_vHpGTwlw",
        "outputId": "d7b5e980-965d-4bed-d188-03ff1f9c5fd8",
        "colab": {
          "base_uri": "https://localhost:8080/"
        }
      },
      "execution_count": null,
      "outputs": [
        {
          "output_type": "stream",
          "name": "stdout",
          "text": [
            "Mario\n",
            "Donkey Kong\n"
          ]
        }
      ]
    },
    {
      "cell_type": "markdown",
      "source": [
        "Lists and for-loops are often used together in Python for tasks like iteration, data manipulation, and data analysis. Below are ways you can use lists with for-loops.\n",
        "\n",
        "### Using Lists With For Loops\n",
        "You can iterate through a list using a for-loop, performing some action with each item."
      ],
      "metadata": {
        "id": "XzJx_pUMT78f"
      }
    },
    {
      "cell_type": "code",
      "source": [
        "# Iterating through each item in the list\n",
        "for item in string_list:\n",
        "    print(item)"
      ],
      "metadata": {
        "id": "_STvH1-PUAO_",
        "outputId": "95dbfe3e-6455-4166-a691-3bec0f52305b",
        "colab": {
          "base_uri": "https://localhost:8080/"
        }
      },
      "execution_count": null,
      "outputs": [
        {
          "output_type": "stream",
          "name": "stdout",
          "text": [
            "Mario\n",
            "Luigi\n",
            "Peach\n",
            "Yoshi\n",
            "Donkey Kong\n"
          ]
        }
      ]
    },
    {
      "cell_type": "markdown",
      "source": [
        "### Using the `range()` Function\n",
        "\n",
        "You can also use the `range()` function with the `len()` function to iterate through the list by index. This is particularly useful when you need to know the position of an item within the list."
      ],
      "metadata": {
        "id": "nZF7FLI3UNK-"
      }
    },
    {
      "cell_type": "code",
      "source": [
        "for dex in range(len(string_list)):\n",
        "  print(f\"Position {dex} is {string_list[dex]}\")"
      ],
      "metadata": {
        "id": "YFdw7zl3UOlm",
        "outputId": "b386ace9-61e5-4058-9484-4da2d25aa0f4",
        "colab": {
          "base_uri": "https://localhost:8080/"
        }
      },
      "execution_count": null,
      "outputs": [
        {
          "output_type": "stream",
          "name": "stdout",
          "text": [
            "Position 0 is Mario\n",
            "Position 1 is Luigi\n",
            "Position 2 is Peach\n",
            "Position 3 is Yoshi\n",
            "Position 4 is Donkey Kong\n"
          ]
        }
      ]
    },
    {
      "cell_type": "markdown",
      "source": [
        "### Nested Lists and Loops\n",
        "\n",
        "Lists can contain other lists, creating a nested structure. You can use nested for-loops to iterate through the elements of a nested list."
      ],
      "metadata": {
        "id": "eydzPY2QUwo-"
      }
    },
    {
      "cell_type": "code",
      "source": [
        "# A nested list\n",
        "nested_list = [[1, 2, 3], [4, 5, 6], [7, 8, 9]]\n",
        "\n",
        "# Iterating through a nested list\n",
        "for sublist in nested_list:\n",
        "    for item in sublist:\n",
        "        print(item, end=' ')\n",
        "    print()  # Newline at the end of each sublist\n"
      ],
      "metadata": {
        "id": "VBX9UbByUza0",
        "outputId": "5522c642-dd88-49ef-9670-1a44349c6592",
        "colab": {
          "base_uri": "https://localhost:8080/"
        }
      },
      "execution_count": null,
      "outputs": [
        {
          "output_type": "stream",
          "name": "stdout",
          "text": [
            "1 2 3 \n",
            "4 5 6 \n",
            "7 8 9 \n"
          ]
        }
      ]
    },
    {
      "cell_type": "markdown",
      "source": [
        "## Table: For-Loops to Remember\n",
        "\n",
        "| Code | Description |\n",
        "| --- | --- |\n",
        "| `for i in range(1, 8): print(i)` | Print out the numbers from 1 to 7 |\n",
        "| `for i in range(1, 11): print(i*i)` | Print the square of numbers from 1 to 10 |\n",
        "| `fruits = ['apple', 'banana', 'cherry'] for fruit in fruits: print(fruit)` | Print each fruit in a list containing ['apple', 'banana', 'cherry'] |\n",
        "| `even_numbers = [i*2 for i in range(1, 11)]` | Create a list with the first 10 even numbers |\n",
        "| `for char in \"Hello\": print(char)` | Print each character in the string \"Hello\" |\n",
        "| `numbers = [1, 2, 3, 4, 5]; sum = 0; for num in numbers: sum += num` | Calculate the sum of the numbers in a list containing [1, 2, 3, 4, 5] |\n",
        "| `d = {'a': 1, 'b': 2, 'c': 3}; for key, value in d.items(): print(key, value)` | Print each key-value pair in a dictionary containing {'a': 1, 'b': 2, 'c': 3} |\n",
        "| `for i in range(1, 11): print(\"5 x\", i, \"=\", 5*i)` | Print a multiplication table for the number 5 |\n",
        "| `list_of_tuples = [(1, 2), (3, 4), (5, 6)]; for a, b in list_of_tuples: print(a, b)` | Print the elements of each tuple in a list containing [(1, 2), (3, 4), (5, 6)] |\n",
        "| `my_list = ['a', 'b', 'c', 'd', 'e']; for element in reversed(my_list): print(element)` | Print elements of a list containing ['a', 'b', 'c', 'd', 'e'] in reverse order |"
      ],
      "metadata": {
        "id": "RBqh44VhDksW"
      }
    },
    {
      "cell_type": "markdown",
      "source": [
        "## Exercises\n",
        "\n",
        "### Exercise 1: Lap Counter\n",
        "\n",
        "- Objective: Write a function `lap_counter()` to practice using a for-loop.\n",
        "- Description: Ask the user to input the total number of laps in a Mario Kart race (a positive integer). Use a for-loop to count and print each lap until the total number of laps is reached.\\\n",
        "- Hint: Use a for-loop with a range that goes up to the total number of laps.\\\n",
        "- Sample Function Call: `lap_counter()`\n",
        "- Sample Output:\n",
        "\n",
        "```\n",
        "Enter the total number of laps: 3\n",
        "Lap 1\n",
        "Lap 2\n",
        "Lap 3\n",
        "```\n",
        "\n",
        "\n",
        "### Exercise 2: Boost Pad Activation\n",
        "\n",
        "- Objective: Write a function `boost_pad()` to practice using a while-loop.\n",
        "- Description: Mario hits a boost pad that activates every 2 seconds. Use a while-loop to print \"Boost activated!\" every 2 seconds until 10 seconds have passed.\n",
        "- Hint: Use a while-loop and a variable to keep track of time.\n",
        "- Sample Function Call: `boost_pad()`\n",
        "- Sample Output:\n",
        "\n",
        "```\n",
        "Boost activated!\n",
        "Boost activated!\n",
        "Boost activated!\n",
        "Boost activated!\n",
        "Boost activated!\n",
        "```\n",
        "\n",
        "\n",
        "### Exercise 3: Collecting Coins\n",
        "\n",
        "- Objective: Write a function `collect_coins()` to practice using `range()` with steps.\n",
        "- Description: In a Mario Kart race, coins are placed at every 10 meters on a 100-meter track. Use a for-loop with `range()` to print the distance at which each coin is collected\n",
        "- Hint: Use the `range()` function with a step of 10 to go from 10 to 100.\n",
        "- Sample Function Call: `collect_coins()`\n",
        "- Sample Output:\n",
        "\n",
        "```\n",
        "Coin collected at 10 meters\n",
        "Coin collected at 20 meters\n",
        "Coin collected at 30 meters\n",
        "Coin collected at 40 meters\n",
        "Coin collected at 50 meters\n",
        "Coin collected at 60 meters\n",
        "Coin collected at 70 meters\n",
        "Coin collected at 80 meters\n",
        "Coin collected at 90 meters\n",
        "Coin collected at 100 meters\n",
        "```\n",
        "\n",
        "\n",
        "### Exercise 4: Time Trials\n",
        "\n",
        "- Objective: Combine loops, conditionals, and user input.\\\n",
        "- Description: Write a function `time_trials()` that asks the user for the number of laps they want to race (a positive integer). Then, for each lap, ask the user for the time it took to complete the lap in seconds (a positive float). Calculate and print the average lap time using an f-string.\\\n",
        "- Hint: Use a for-loop to iterate through each lap and collect lap times. Use conditionals to ensure that input is positive.\\\n",
        "- Sample Function Call: `time_trials()`\n",
        "- Sample Output:\n",
        "\n",
        "```Enter the total number of laps: 3\n",
        "Enter the time for lap 1: 30.5\n",
        "Enter the time for lap 2: 29.7\n",
        "Enter the time for lap 3: 31.2\n",
        "Average lap time: 30.466666666666665 seconds\n",
        "```\n",
        "\n",
        "\n",
        "### Exercise 5: Blue Shell Dodge (Bonus)\n",
        "\n",
        "- Objective: Combine while-loops, conditionals, and f-strings.\n",
        "- Description: Write a function `blue_shell_dodge()` that simulates dodging Blue Shells. The user starts at position 4 and can move between position 1 and 4. The Blue Shell targets the user every 15 seconds. Ask the user if they want to move down a position to dodge the Blue Shell. If they say 'yes', move them down a position. If they say \"No.\", print \"Hit by Blue Shell!\". Continue this for 60 seconds.\n",
        "- Hint: Use a while-loop to keep track of time and a conditional to check the user's decision.\n",
        "- Sample Function Call: `blue_shell_dodge()`\n",
        "- Sample Output:\n",
        "\n",
        "```\n",
        "Time: 15 seconds. You are in position 4. Do you want to move down a position to dodge the Blue Shell? (yes/no): yes\n",
        "Time: 30 seconds. You are in position 3. Do you want to move down a position to dodge the Blue Shell? (yes/no): no\n",
        "You've been hit by a blue shell!\n",
        "```\n",
        "\n",
        "### Exercise 6: Item Box Roulette (Bonus)\n",
        "\n",
        "- Objective: Use loops, conditionals, and random choices.\n",
        "- Description: Write a function `item_box_roulette()` that simulates hitting an item box in Mario Kart. For each item box hit, randomly choose an item from a list of items (e.g., \"Green Shell\", \"Banana\", \"Star\"). Print the item received and keep track of the number of each item collected (you'll have to figure out the best way to do thi). At the end, print a summary using an f-string.\n",
        "- Hint: Use a for-loop to iterate a fixed number of item box hits (e.g., 10). Use a list to store the items and the `random.choice()` function to pick an item.\n",
        "- Sample Function Call: `item_box_roulette()`\n",
        "Sample Output:\n",
        "\n",
        "```\n",
        "Item received: Green Shell\n",
        "Item received: Banana\n",
        "Item received: Star\n",
        "Item received: Green Shell\n",
        "(continue for 10 total)\n",
        "```\n",
        "Summary: Green Shell x 5, Banana x 4, Star x 1`\n"
      ],
      "metadata": {
        "id": "LMPK_bmlBfU3"
      }
    },
    {
      "cell_type": "code",
      "source": [
        "# Problem 1"
      ],
      "metadata": {
        "id": "48tgB1xzBz9i"
      },
      "execution_count": null,
      "outputs": []
    },
    {
      "cell_type": "code",
      "source": [
        "# Problem 2"
      ],
      "metadata": {
        "id": "0N58ASsfB2FC"
      },
      "execution_count": null,
      "outputs": []
    },
    {
      "cell_type": "code",
      "source": [
        "# Problem 3"
      ],
      "metadata": {
        "id": "YxbT3oUJB3Tt"
      },
      "execution_count": null,
      "outputs": []
    },
    {
      "cell_type": "code",
      "source": [
        "# Problem 4"
      ],
      "metadata": {
        "id": "rabhacKtB4Pq"
      },
      "execution_count": null,
      "outputs": []
    },
    {
      "cell_type": "code",
      "source": [
        "# Problem 5"
      ],
      "metadata": {
        "id": "peWQ81cNB5oZ"
      },
      "execution_count": null,
      "outputs": []
    },
    {
      "cell_type": "code",
      "source": [
        "# Problem 6"
      ],
      "metadata": {
        "id": "4eNZQtCPB6pk"
      },
      "execution_count": null,
      "outputs": []
    },
    {
      "cell_type": "markdown",
      "source": [
        "# Case Study: The Search-Sort Tradeoff\n",
        "\n",
        "In the world of computer science, search and sort algorithms are some of the most fundamental building blocks. In this case study, we will explore the tradeoffs between searching and sorting, focusing on linear and binary search methods. By understanding these concepts, you will be better equipped to solve real-world problems and make efficient decisions in computer programming.\n",
        "\n",
        "##  The Problem of Search\n",
        "\n",
        "Imagine you are a librarian, and you need to find a specific book in a vast library. How can you locate the book quickly and efficiently? This is similar to the problem of searching in computer science, where we need to find a particular element in a collection (like an array or a list) of items.\n",
        "\n",
        "There are several search algorithms, but we will focus on two common ones: linear search and binary search.\n",
        "\n",
        "##  Linear Search\n",
        "\n",
        "Linear search is a simple approach where you start at the beginning of the collection and examine each element sequentially until you find the desired item or reach the end of the collection. In the library example, this would be like checking every book on every shelf one by one until you find the book you're looking for.\n",
        "\n",
        "Pros:\n",
        "\n",
        "-   Easy to understand and implement.\n",
        "-   Works on both sorted and unsorted collections.\n",
        "\n",
        "Cons:\n",
        "\n",
        "-   Inefficient for large collections, as it may require checking every element.\n",
        "\n",
        "## Binary Search\n",
        "\n",
        "Binary search is a more efficient method that takes advantage of a sorted collection. It works by repeatedly dividing the collection in half and focusing on the section where the desired item is likely to be found. In the library example, this would be like knowing the book's location based on the alphabetical order of titles and narrowing down your search by looking at the middle book of each section.\n",
        "\n",
        "Pros:\n",
        "\n",
        "-   Much faster than linear search for large collections.\n",
        "-   Efficient, as it reduces the search space with each step.\n",
        "\n",
        "Cons:\n",
        "\n",
        "-   Requires a sorted collection.\n",
        "-   More complex to understand and implement than linear search.\n",
        "\n",
        "## The Search-Sort Tradeoff\n",
        "\n",
        "Now that we understand the basic concepts of linear and binary search, we can discuss the search-sort tradeoff. The tradeoff arises when deciding whether to sort a collection before searching or to search the collection as-is.\n",
        "\n",
        "If you use binary search, you must first sort the collection, which can be time-consuming. On the other hand, linear search works on unsorted collections but can be slower for large datasets. The optimal choice depends on the specific problem and the number of searches you expect to perform. If you plan to search the collection frequently, it may be more efficient to sort it once and use binary search for subsequent searches. However, if you only need to search the collection occasionally, linear search might be a more practical choice.\n",
        "\n",
        "## Python Comparison\n",
        "So, that's the theory. Now, let's implement both algorithms and see how they perform:"
      ],
      "metadata": {
        "id": "3FKvaqAbnm6F"
      }
    },
    {
      "cell_type": "code",
      "source": [
        "import random\n",
        "\n",
        "# Linear search implementation\n",
        "def linear_search(arr, x):\n",
        "    for i in range(len(arr)):\n",
        "        if arr[i] == x:\n",
        "            return i\n",
        "    return -1\n",
        "\n",
        "# Binary search implementation\n",
        "def binary_search(arr, x):\n",
        "    arr.sort() # Sort the array in ascending order\n",
        "    left = 0 # Set the left index to 0\n",
        "    right = len(arr) - 1 # Set the right index to the length of the array minus 1\n",
        "    # Loop until the left index is greater than the right index\n",
        "    while left <= right:\n",
        "        # Find the middle index\n",
        "        mid = (left + right) // 2\n",
        "        # Check if the middle index is equal to the value we are searching for\n",
        "        if arr[mid] == x:\n",
        "            return mid\n",
        "        # Check if the middle index is less than the value we are searching for\n",
        "        elif arr[mid] < x:\n",
        "            left = mid + 1\n",
        "        # Otherwise, the middle index is greater than the value we are searching for\n",
        "        else:\n",
        "            right = mid - 1\n",
        "    return -1\n"
      ],
      "metadata": {
        "id": "r38qZCwSo96K"
      },
      "execution_count": null,
      "outputs": []
    },
    {
      "cell_type": "code",
      "source": [
        "import random\n",
        "\n",
        "# %timeit allows us to time the execution of a single line of code\n",
        "# It works by running the code multiple times and returning the average time\n",
        "# The -o flag returns the time as an object instead of printing it\n",
        "\n",
        "# Generate a list of 1000 random integers\n",
        "arr = [random.randint(1, 1000) for i in range(1000)]\n",
        "\n",
        "# Test linear search\n",
        "linear_search_time = %timeit -o linear_search(arr, 500)\n",
        "print(\"Linear search time:\", linear_search_time)\n",
        "\n",
        "# Test binary search\n",
        "binary_search_time = %timeit -o binary_search(arr, 500)\n",
        "print(\"Binary search time:\", binary_search_time)"
      ],
      "metadata": {
        "colab": {
          "base_uri": "https://localhost:8080/"
        },
        "id": "K8ZGndXvpEIg",
        "outputId": "47bdf503-a651-4361-b2fc-b586e379fcd1"
      },
      "execution_count": null,
      "outputs": [
        {
          "output_type": "stream",
          "name": "stdout",
          "text": [
            "62.3 µs ± 4.77 µs per loop (mean ± std. dev. of 7 runs, 10000 loops each)\n",
            "Linear search time: 62.3 µs ± 4.77 µs per loop (mean ± std. dev. of 7 runs, 10000 loops each)\n",
            "8.83 µs ± 2.49 µs per loop (mean ± std. dev. of 7 runs, 100000 loops each)\n",
            "Binary search time: 8.83 µs ± 2.49 µs per loop (mean ± std. dev. of 7 runs, 100000 loops each)\n"
          ]
        }
      ]
    },
    {
      "cell_type": "markdown",
      "source": [
        "## How Does Sorting Work?\n",
        "In the binary search code above, we used Python's built-in `sort` method to sort our data. It's worth remembering that sorting takes time as well! Some common algorithms for searching include the following  We'll use the example of C-3PO (from *Star Wars*) to help us understand how some of these algorithms work.(Note: These are generally covered in detail in more advanced CS classes, and so the goal here is to focus on the \"big ideas,\" as opposed to the nitty gritty implementation)."
      ],
      "metadata": {
        "id": "TsnmJj0Eqtwg"
      }
    },
    {
      "cell_type": "markdown",
      "source": [
        "### Bubble Sort: The Galactic Shuffle\n",
        "\n",
        "In a galaxy far, far away, C-3PO finds himself in a peculiar situation. He is tasked with sorting a collection of Ewokian trinkets, each assigned a numeric value for its rarity. The droid opts for the Bubble Sort algorithm, a simple sorting technique that repeatedly steps through the list, compares adjacent elements, and swaps them if they are in the wrong order. The steps are:\n",
        "\n",
        "1. Start at the beginning of the list of Ewokian trinkets.\n",
        "2. For each trinket in the list, do steps 3-5.\n",
        "3. For each unsorted pair of adjacent trinkets, do steps 4-5.\n",
        "4. If the first trinket is greater than the second, swap them.\n",
        "5. Go to the next pair of adjacent trinkets.\n",
        "6. Once the end of the list is reached, go back to step 2.\n",
        "7. Exclude the last sorted trinket from the next iteration.\n",
        "8. Repeat until the list is sorted.\n",
        "9. The list of Ewokian trinkets is now sorted.\n",
        "\n",
        "This algorithm is easy for humans (and droids!) to understand, but it's considerably slower than some other search algorithms.\n",
        "\n"
      ],
      "metadata": {
        "id": "j2fCR08kzvR6"
      }
    },
    {
      "cell_type": "code",
      "source": [
        "def bubble_sort(ewokian_trinkets):\n",
        "  \"\"\"Sorts a list of Ewokian trinkets in ascending order.\n",
        "\n",
        "  Args:\n",
        "    ewokian_trinkets: A list of Ewokian trinkets.\n",
        "\n",
        "  Returns:\n",
        "    A sorted list of Ewokian trinkets.\n",
        "  \"\"\"\n",
        "\n",
        "  # Get the length of the list.\n",
        "  n = len(ewokian_trinkets)\n",
        "\n",
        "  # Iterate over the list, comparing adjacent elements and swapping them if\n",
        "  # they are in the wrong order.\n",
        "  for i in range(n):\n",
        "    for j in range(0, n - i - 1):\n",
        "      if ewokian_trinkets[j] > ewokian_trinkets[j + 1]:\n",
        "        ewokian_trinkets[j], ewokian_trinkets[j + 1] = ewokian_trinkets[j + 1], ewokian_trinkets[j]\n",
        "\n",
        "  # Return the sorted list.\n",
        "  return ewokian_trinkets"
      ],
      "metadata": {
        "id": "TPxByPhLzv7y"
      },
      "execution_count": null,
      "outputs": []
    },
    {
      "cell_type": "markdown",
      "source": [
        "### Insertion Sort: The Jedi Way\n",
        "\n",
        "C-3PO then encounters a collection of lightsaber crystals, each with a unique power level. He decides to use Insertion Sort, a sorting algorithm that builds the sorted array one element at a time. It is much less efficient on large lists than more advanced algorithms such as quicksort, heapsort, or merge sort. Steps:\n",
        "\n",
        "1.  Start at the second lightsaber crystal in the list.\n",
        "2.  For each unsorted crystal, do steps 3-7.\n",
        "3.  Take the current crystal as the key.\n",
        "4.  Compare the key with each sorted crystal before it.\n",
        "5.  If the key is smaller, shift the sorted crystal to the right.\n",
        "6.  Place the key in its correct position among sorted crystals.\n",
        "7.  Go to the next unsorted crystal.\n",
        "8.  Repeat until the list is sorted.\n",
        "9.  The list of lightsaber crystals is now sorted."
      ],
      "metadata": {
        "id": "y_acG7eY0amD"
      }
    },
    {
      "cell_type": "code",
      "source": [
        "def insertion_sort(lightsaber_crystals):\n",
        "  \"\"\"Sorts a list of lightsaber crystals in ascending order.\n",
        "\n",
        "  Args:\n",
        "    lightsaber_crystals: A list of lightsaber crystals.\n",
        "\n",
        "  Returns:\n",
        "    A sorted list of lightsaber crystals.\n",
        "  \"\"\"\n",
        "\n",
        "  # Iterate over the list, starting at the second element.\n",
        "  for i in range(1, len(lightsaber_crystals)):\n",
        "    # Store the current element in a variable called `key`.\n",
        "    key = lightsaber_crystals[i]\n",
        "    # Initialize a variable called `j` to the previous index.\n",
        "    j = i - 1\n",
        "    # While `j` is greater than or equal to 0 and `key` is less than the element at\n",
        "    # index `j`, shift the element at index `j` to the right by one position.\n",
        "    while j >= 0 and key < lightsaber_crystals[j]:\n",
        "      lightsaber_crystals[j + 1] = lightsaber_crystals[j]\n",
        "      j -= 1\n",
        "    # Insert the `key` element at the index `j + 1`.\n",
        "    lightsaber_crystals[j + 1] = key\n",
        "\n",
        "  # Return the sorted list.\n",
        "  return lightsaber_crystals"
      ],
      "metadata": {
        "id": "y3DL_fpe05mr"
      },
      "execution_count": null,
      "outputs": []
    },
    {
      "cell_type": "markdown",
      "source": [
        "This is, like Bubble Sort, a \"simple\" algorithm that ends up being pretty slow."
      ],
      "metadata": {
        "id": "S58oOt0P1Crm"
      }
    },
    {
      "cell_type": "markdown",
      "source": [
        "### Merge Sort: The Clone Trooper Strategy\n",
        "\n",
        "Finally, C-3PO is presented with Clone Trooper IDs that need sorting. He employs Merge Sort, a divide-and-conquer algorithm. The list is divided into n sub-lists, each containing one element, and then repeatedly merges sub-lists to produce new sorted sub-lists until there is only one sublist remaining. This is a much faster way of sorting (at least for most lists). However, it's a bit more complex for us humans to understand! Steps:\n",
        "\n",
        "1.  Split the list of Clone Trooper IDs into two halves.\n",
        "2.  Sort each half **recursively** using Merge Sort.\n",
        "3.  Create pointers for the two halves and the merged list.\n",
        "4.  While both halves have elements, do steps 5-6.\n",
        "5.  Take the smaller element from the two halves.\n",
        "6.  Add the smaller element to the merged list.\n",
        "7.  Add any remaining elements from both halves to the merged list.\n",
        "8.  Replace the original list with the merged list.\n",
        "9.  If the list has one or zero elements, it is sorted.\n",
        "10. The list of Clone Trooper IDs is now sorted."
      ],
      "metadata": {
        "id": "TeVWsEF-1aCF"
      }
    },
    {
      "cell_type": "code",
      "source": [
        "def merge_sort(clone_trooper_ids):\n",
        "  \"\"\"Sorts a list of clone trooper IDs in ascending order.\n",
        "\n",
        "  Args:\n",
        "    clone_trooper_ids: A list of clone trooper IDs.\n",
        "\n",
        "  Returns:\n",
        "    A sorted list of clone trooper IDs.\n",
        "  \"\"\"\n",
        "\n",
        "  if len(clone_trooper_ids) > 1:\n",
        "    # Divide the list into two halves.\n",
        "    mid = len(clone_trooper_ids) // 2\n",
        "    L = clone_trooper_ids[:mid]\n",
        "    R = clone_trooper_ids[mid:]\n",
        "\n",
        "    # Recursively sort the two halves.\n",
        "    merge_sort(L)\n",
        "    merge_sort(R)\n",
        "\n",
        "    # Merge the two sorted halves into the original list.\n",
        "    i = j = k = 0\n",
        "    while i < len(L) and j < len(R):\n",
        "      if L[i] < R[j]:\n",
        "        clone_trooper_ids[k] = L[i]\n",
        "        i += 1\n",
        "      else:\n",
        "        clone_trooper_ids[k] = R[j]\n",
        "        j += 1\n",
        "      k += 1\n",
        "\n",
        "    # Copy the remaining elements from the left half, if any.\n",
        "    while i < len(L):\n",
        "      clone_trooper_ids[k] = L[i]\n",
        "      i += 1\n",
        "      k += 1\n",
        "\n",
        "    # Copy the remaining elements from the right half, if any.\n",
        "    while j < len(R):\n",
        "      clone_trooper_ids[k] = R[j]\n",
        "      j += 1\n",
        "      k += 1\n",
        "\n",
        "  return clone_trooper_ids\n"
      ],
      "metadata": {
        "id": "y4JJC9Tv13Sd"
      },
      "execution_count": null,
      "outputs": []
    },
    {
      "cell_type": "markdown",
      "source": [
        "### Testing Our Sorting Algorithms\n",
        "OK. So, we've defined three different ways of sorting. Let's reassure ourselves that these do, in fact, all sort lists of numbers in the same way."
      ],
      "metadata": {
        "id": "T5ccD5ig3WRO"
      }
    },
    {
      "cell_type": "code",
      "source": [
        "import random\n",
        "\n",
        "# Generate a list of unsorted numbers.\n",
        "unsorted_numbers = random.sample(range(100), 10)\n",
        "\n",
        "# Sort the list using bubble sort.\n",
        "bubble_sorted_numbers = bubble_sort(unsorted_numbers)\n",
        "\n",
        "# Sort the list using insertion sort.\n",
        "insertion_sorted_numbers = insertion_sort(unsorted_numbers)\n",
        "\n",
        "# Sort the list using merge sort.\n",
        "merge_sorted_numbers = merge_sort(unsorted_numbers)\n",
        "\n",
        "# Print the results.\n",
        "print(\"Unsorted numbers:\", unsorted_numbers)\n",
        "print(\"Bubble sorted numbers:\", bubble_sorted_numbers)\n",
        "print(\"Insertion sorted numbers:\", insertion_sorted_numbers)\n",
        "print(\"Merge sorted numbers:\", merge_sorted_numbers)"
      ],
      "metadata": {
        "colab": {
          "base_uri": "https://localhost:8080/"
        },
        "id": "mK29Ifyo3wZ4",
        "outputId": "709551c5-9345-44d8-8952-6b97be72910a"
      },
      "execution_count": null,
      "outputs": [
        {
          "output_type": "stream",
          "name": "stdout",
          "text": [
            "Unsorted numbers: [10, 16, 28, 46, 57, 59, 62, 67, 76, 97]\n",
            "Bubble sorted numbers: [10, 16, 28, 46, 57, 59, 62, 67, 76, 97]\n",
            "Insertion sorted numbers: [10, 16, 28, 46, 57, 59, 62, 67, 76, 97]\n",
            "Merge sorted numbers: [10, 16, 28, 46, 57, 59, 62, 67, 76, 97]\n"
          ]
        }
      ]
    },
    {
      "cell_type": "markdown",
      "source": [
        "## Big O Notation\n",
        "Big O notation is a way of describing the time complexity of algorithms, which is a measure of how long an algorithm takes to run as the input size grows larger. As we saw in our search-sort tradeoff case study, different algorithms can have very different performance characteristics, even when they are solving the same problem. Big O notation allows us to abstract away the specific details of an algorithm and focus on its overall efficiency as the input size grows.\n",
        "\n",
        "In Big O notation, we use a mathematical formula to describe the worst-case time complexity of an algorithm, as a function of the input size n. We typically ignore lower-order terms and constant factors, since these become less significant as n grows large. For example, the Big O notation for bubble sort is O(n^2), which means that the worst-case running time of bubble sort grows quadratically with the input size. This is because bubble sort requires iterating over the entire array multiple times, which leads to a nested loop structure.\n",
        "\n",
        "\n",
        "Knowing the Big O notation of an algorithm allows us to make informed decisions about which algorithm to use for a particular task, based on the size and characteristics of the input data. For example, if we are working with very large data sets, we may want to choose an algorithm with a lower Big O complexity, such as merge sort or quicksort, even if it requires more memory to run. Conversely, if we are working with very small data sets, a simpler algorithm like bubble sort or insertion sort may be sufficient, since their running time will still be relatively fast.\n",
        "\n",
        "| Big O | Name | Example Algorithms |\n",
        "| --- | --- | --- |\n",
        "| O(1) | Constant | Hash table lookup |\n",
        "| O(log n) | Logarithmic | Binary search |\n",
        "| O(n) | Linear | Linear search |\n",
        "| O(n log n) | Linearithmic | Merge sort, quicksort |\n",
        "| O(n^2) | Quadratic | Bubble sort, insertion sort |\n",
        "| O(n^3) | Cubic | Matrix multiplication |\n",
        "| O(2^n) | Exponential | Brute force search |\n",
        "| O(n!) | Factorial | Traveling Salesman |\n",
        "\n",
        "As you can see, different algorithms have different Big O complexities, which can have a significant impact on their performance as the input size grows. For example, binary search has a complexity of O(log n), which means that its running time grows very slowly as the input size grows. In contrast, bubble sort has a complexity of O(n^2), which means that its running time grows very quickly as the input size grows.\n",
        "\n",
        "By understanding the Big O complexity of different algorithms, we can make informed decisions about which algorithm to use for a particular task, based on the size and characteristics of the input data. This can help us optimize our code and avoid performance issues as our programs scale up to handle larger and more complex data sets.\n",
        "\n",
        "## Big O in Action\n",
        "To give an example of the difference this can make in running time, let's consider a simple example where it takes 1 unit of time (for example 1 sec) to run on an input of length 1 (for example, 1 integer). Here is the difference in running times:\n"
      ],
      "metadata": {
        "id": "OOBx3-GLrjXC"
      }
    },
    {
      "cell_type": "code",
      "source": [
        "# Pandas table showing commong Big O runtimes for numbers 1 - 20\n",
        "\n",
        "import pandas as pd\n",
        "import numpy as np\n",
        "\n",
        "# Create a list of numbers 1 - 20 using numpy\n",
        "numbers = np.arange(1, 20)\n",
        "\n",
        "# Create a list of common Big O runtimes\n",
        "runtimes = ['Constant', 'Logarithmic', 'Linear', 'Log Linear', 'Quadratic', 'Cubic', 'Exponential']\n",
        "\n",
        "# Create dataframe by calculating the runtime for each number\n",
        "df = pd.DataFrame({'Num Items to Sort': numbers,\n",
        "                   'Constant Time': [1] * len(numbers),\n",
        "                   'Logarithmic Time': np.log(numbers),\n",
        "                   'Linear Time': numbers,\n",
        "                   'Log Linear Time': numbers * np.log(numbers),\n",
        "                   'Quadratic Time': numbers ** 2,\n",
        "                   'Cubic Time': numbers ** 3,\n",
        "                   'Exponential Time': 2 ** numbers})\n",
        "\n",
        "round(df,2)"
      ],
      "metadata": {
        "colab": {
          "base_uri": "https://localhost:8080/",
          "height": 645
        },
        "id": "-m_EBZLJFOHw",
        "outputId": "47b411e2-b87a-4b14-b76e-52124dcd0f4b"
      },
      "execution_count": null,
      "outputs": [
        {
          "output_type": "execute_result",
          "data": {
            "text/plain": [
              "    Num Items to Sort  Constant Time  Logarithmic Time  Linear Time  \\\n",
              "0                   1              1              0.00            1   \n",
              "1                   2              1              0.69            2   \n",
              "2                   3              1              1.10            3   \n",
              "3                   4              1              1.39            4   \n",
              "4                   5              1              1.61            5   \n",
              "5                   6              1              1.79            6   \n",
              "6                   7              1              1.95            7   \n",
              "7                   8              1              2.08            8   \n",
              "8                   9              1              2.20            9   \n",
              "9                  10              1              2.30           10   \n",
              "10                 11              1              2.40           11   \n",
              "11                 12              1              2.48           12   \n",
              "12                 13              1              2.56           13   \n",
              "13                 14              1              2.64           14   \n",
              "14                 15              1              2.71           15   \n",
              "15                 16              1              2.77           16   \n",
              "16                 17              1              2.83           17   \n",
              "17                 18              1              2.89           18   \n",
              "18                 19              1              2.94           19   \n",
              "\n",
              "    Log Linear Time  Quadratic Time  Cubic Time  Exponential Time  \n",
              "0              0.00               1           1                 2  \n",
              "1              1.39               4           8                 4  \n",
              "2              3.30               9          27                 8  \n",
              "3              5.55              16          64                16  \n",
              "4              8.05              25         125                32  \n",
              "5             10.75              36         216                64  \n",
              "6             13.62              49         343               128  \n",
              "7             16.64              64         512               256  \n",
              "8             19.78              81         729               512  \n",
              "9             23.03             100        1000              1024  \n",
              "10            26.38             121        1331              2048  \n",
              "11            29.82             144        1728              4096  \n",
              "12            33.34             169        2197              8192  \n",
              "13            36.95             196        2744             16384  \n",
              "14            40.62             225        3375             32768  \n",
              "15            44.36             256        4096             65536  \n",
              "16            48.16             289        4913            131072  \n",
              "17            52.03             324        5832            262144  \n",
              "18            55.94             361        6859            524288  "
            ],
            "text/html": [
              "\n",
              "  <div id=\"df-10e5e66d-d57f-4d3c-8efd-fdc8112633b2\" class=\"colab-df-container\">\n",
              "    <div>\n",
              "<style scoped>\n",
              "    .dataframe tbody tr th:only-of-type {\n",
              "        vertical-align: middle;\n",
              "    }\n",
              "\n",
              "    .dataframe tbody tr th {\n",
              "        vertical-align: top;\n",
              "    }\n",
              "\n",
              "    .dataframe thead th {\n",
              "        text-align: right;\n",
              "    }\n",
              "</style>\n",
              "<table border=\"1\" class=\"dataframe\">\n",
              "  <thead>\n",
              "    <tr style=\"text-align: right;\">\n",
              "      <th></th>\n",
              "      <th>Num Items to Sort</th>\n",
              "      <th>Constant Time</th>\n",
              "      <th>Logarithmic Time</th>\n",
              "      <th>Linear Time</th>\n",
              "      <th>Log Linear Time</th>\n",
              "      <th>Quadratic Time</th>\n",
              "      <th>Cubic Time</th>\n",
              "      <th>Exponential Time</th>\n",
              "    </tr>\n",
              "  </thead>\n",
              "  <tbody>\n",
              "    <tr>\n",
              "      <th>0</th>\n",
              "      <td>1</td>\n",
              "      <td>1</td>\n",
              "      <td>0.00</td>\n",
              "      <td>1</td>\n",
              "      <td>0.00</td>\n",
              "      <td>1</td>\n",
              "      <td>1</td>\n",
              "      <td>2</td>\n",
              "    </tr>\n",
              "    <tr>\n",
              "      <th>1</th>\n",
              "      <td>2</td>\n",
              "      <td>1</td>\n",
              "      <td>0.69</td>\n",
              "      <td>2</td>\n",
              "      <td>1.39</td>\n",
              "      <td>4</td>\n",
              "      <td>8</td>\n",
              "      <td>4</td>\n",
              "    </tr>\n",
              "    <tr>\n",
              "      <th>2</th>\n",
              "      <td>3</td>\n",
              "      <td>1</td>\n",
              "      <td>1.10</td>\n",
              "      <td>3</td>\n",
              "      <td>3.30</td>\n",
              "      <td>9</td>\n",
              "      <td>27</td>\n",
              "      <td>8</td>\n",
              "    </tr>\n",
              "    <tr>\n",
              "      <th>3</th>\n",
              "      <td>4</td>\n",
              "      <td>1</td>\n",
              "      <td>1.39</td>\n",
              "      <td>4</td>\n",
              "      <td>5.55</td>\n",
              "      <td>16</td>\n",
              "      <td>64</td>\n",
              "      <td>16</td>\n",
              "    </tr>\n",
              "    <tr>\n",
              "      <th>4</th>\n",
              "      <td>5</td>\n",
              "      <td>1</td>\n",
              "      <td>1.61</td>\n",
              "      <td>5</td>\n",
              "      <td>8.05</td>\n",
              "      <td>25</td>\n",
              "      <td>125</td>\n",
              "      <td>32</td>\n",
              "    </tr>\n",
              "    <tr>\n",
              "      <th>5</th>\n",
              "      <td>6</td>\n",
              "      <td>1</td>\n",
              "      <td>1.79</td>\n",
              "      <td>6</td>\n",
              "      <td>10.75</td>\n",
              "      <td>36</td>\n",
              "      <td>216</td>\n",
              "      <td>64</td>\n",
              "    </tr>\n",
              "    <tr>\n",
              "      <th>6</th>\n",
              "      <td>7</td>\n",
              "      <td>1</td>\n",
              "      <td>1.95</td>\n",
              "      <td>7</td>\n",
              "      <td>13.62</td>\n",
              "      <td>49</td>\n",
              "      <td>343</td>\n",
              "      <td>128</td>\n",
              "    </tr>\n",
              "    <tr>\n",
              "      <th>7</th>\n",
              "      <td>8</td>\n",
              "      <td>1</td>\n",
              "      <td>2.08</td>\n",
              "      <td>8</td>\n",
              "      <td>16.64</td>\n",
              "      <td>64</td>\n",
              "      <td>512</td>\n",
              "      <td>256</td>\n",
              "    </tr>\n",
              "    <tr>\n",
              "      <th>8</th>\n",
              "      <td>9</td>\n",
              "      <td>1</td>\n",
              "      <td>2.20</td>\n",
              "      <td>9</td>\n",
              "      <td>19.78</td>\n",
              "      <td>81</td>\n",
              "      <td>729</td>\n",
              "      <td>512</td>\n",
              "    </tr>\n",
              "    <tr>\n",
              "      <th>9</th>\n",
              "      <td>10</td>\n",
              "      <td>1</td>\n",
              "      <td>2.30</td>\n",
              "      <td>10</td>\n",
              "      <td>23.03</td>\n",
              "      <td>100</td>\n",
              "      <td>1000</td>\n",
              "      <td>1024</td>\n",
              "    </tr>\n",
              "    <tr>\n",
              "      <th>10</th>\n",
              "      <td>11</td>\n",
              "      <td>1</td>\n",
              "      <td>2.40</td>\n",
              "      <td>11</td>\n",
              "      <td>26.38</td>\n",
              "      <td>121</td>\n",
              "      <td>1331</td>\n",
              "      <td>2048</td>\n",
              "    </tr>\n",
              "    <tr>\n",
              "      <th>11</th>\n",
              "      <td>12</td>\n",
              "      <td>1</td>\n",
              "      <td>2.48</td>\n",
              "      <td>12</td>\n",
              "      <td>29.82</td>\n",
              "      <td>144</td>\n",
              "      <td>1728</td>\n",
              "      <td>4096</td>\n",
              "    </tr>\n",
              "    <tr>\n",
              "      <th>12</th>\n",
              "      <td>13</td>\n",
              "      <td>1</td>\n",
              "      <td>2.56</td>\n",
              "      <td>13</td>\n",
              "      <td>33.34</td>\n",
              "      <td>169</td>\n",
              "      <td>2197</td>\n",
              "      <td>8192</td>\n",
              "    </tr>\n",
              "    <tr>\n",
              "      <th>13</th>\n",
              "      <td>14</td>\n",
              "      <td>1</td>\n",
              "      <td>2.64</td>\n",
              "      <td>14</td>\n",
              "      <td>36.95</td>\n",
              "      <td>196</td>\n",
              "      <td>2744</td>\n",
              "      <td>16384</td>\n",
              "    </tr>\n",
              "    <tr>\n",
              "      <th>14</th>\n",
              "      <td>15</td>\n",
              "      <td>1</td>\n",
              "      <td>2.71</td>\n",
              "      <td>15</td>\n",
              "      <td>40.62</td>\n",
              "      <td>225</td>\n",
              "      <td>3375</td>\n",
              "      <td>32768</td>\n",
              "    </tr>\n",
              "    <tr>\n",
              "      <th>15</th>\n",
              "      <td>16</td>\n",
              "      <td>1</td>\n",
              "      <td>2.77</td>\n",
              "      <td>16</td>\n",
              "      <td>44.36</td>\n",
              "      <td>256</td>\n",
              "      <td>4096</td>\n",
              "      <td>65536</td>\n",
              "    </tr>\n",
              "    <tr>\n",
              "      <th>16</th>\n",
              "      <td>17</td>\n",
              "      <td>1</td>\n",
              "      <td>2.83</td>\n",
              "      <td>17</td>\n",
              "      <td>48.16</td>\n",
              "      <td>289</td>\n",
              "      <td>4913</td>\n",
              "      <td>131072</td>\n",
              "    </tr>\n",
              "    <tr>\n",
              "      <th>17</th>\n",
              "      <td>18</td>\n",
              "      <td>1</td>\n",
              "      <td>2.89</td>\n",
              "      <td>18</td>\n",
              "      <td>52.03</td>\n",
              "      <td>324</td>\n",
              "      <td>5832</td>\n",
              "      <td>262144</td>\n",
              "    </tr>\n",
              "    <tr>\n",
              "      <th>18</th>\n",
              "      <td>19</td>\n",
              "      <td>1</td>\n",
              "      <td>2.94</td>\n",
              "      <td>19</td>\n",
              "      <td>55.94</td>\n",
              "      <td>361</td>\n",
              "      <td>6859</td>\n",
              "      <td>524288</td>\n",
              "    </tr>\n",
              "  </tbody>\n",
              "</table>\n",
              "</div>\n",
              "    <div class=\"colab-df-buttons\">\n",
              "\n",
              "  <div class=\"colab-df-container\">\n",
              "    <button class=\"colab-df-convert\" onclick=\"convertToInteractive('df-10e5e66d-d57f-4d3c-8efd-fdc8112633b2')\"\n",
              "            title=\"Convert this dataframe to an interactive table.\"\n",
              "            style=\"display:none;\">\n",
              "\n",
              "  <svg xmlns=\"http://www.w3.org/2000/svg\" height=\"24px\" viewBox=\"0 -960 960 960\">\n",
              "    <path d=\"M120-120v-720h720v720H120Zm60-500h600v-160H180v160Zm220 220h160v-160H400v160Zm0 220h160v-160H400v160ZM180-400h160v-160H180v160Zm440 0h160v-160H620v160ZM180-180h160v-160H180v160Zm440 0h160v-160H620v160Z\"/>\n",
              "  </svg>\n",
              "    </button>\n",
              "\n",
              "  <style>\n",
              "    .colab-df-container {\n",
              "      display:flex;\n",
              "      gap: 12px;\n",
              "    }\n",
              "\n",
              "    .colab-df-convert {\n",
              "      background-color: #E8F0FE;\n",
              "      border: none;\n",
              "      border-radius: 50%;\n",
              "      cursor: pointer;\n",
              "      display: none;\n",
              "      fill: #1967D2;\n",
              "      height: 32px;\n",
              "      padding: 0 0 0 0;\n",
              "      width: 32px;\n",
              "    }\n",
              "\n",
              "    .colab-df-convert:hover {\n",
              "      background-color: #E2EBFA;\n",
              "      box-shadow: 0px 1px 2px rgba(60, 64, 67, 0.3), 0px 1px 3px 1px rgba(60, 64, 67, 0.15);\n",
              "      fill: #174EA6;\n",
              "    }\n",
              "\n",
              "    .colab-df-buttons div {\n",
              "      margin-bottom: 4px;\n",
              "    }\n",
              "\n",
              "    [theme=dark] .colab-df-convert {\n",
              "      background-color: #3B4455;\n",
              "      fill: #D2E3FC;\n",
              "    }\n",
              "\n",
              "    [theme=dark] .colab-df-convert:hover {\n",
              "      background-color: #434B5C;\n",
              "      box-shadow: 0px 1px 3px 1px rgba(0, 0, 0, 0.15);\n",
              "      filter: drop-shadow(0px 1px 2px rgba(0, 0, 0, 0.3));\n",
              "      fill: #FFFFFF;\n",
              "    }\n",
              "  </style>\n",
              "\n",
              "    <script>\n",
              "      const buttonEl =\n",
              "        document.querySelector('#df-10e5e66d-d57f-4d3c-8efd-fdc8112633b2 button.colab-df-convert');\n",
              "      buttonEl.style.display =\n",
              "        google.colab.kernel.accessAllowed ? 'block' : 'none';\n",
              "\n",
              "      async function convertToInteractive(key) {\n",
              "        const element = document.querySelector('#df-10e5e66d-d57f-4d3c-8efd-fdc8112633b2');\n",
              "        const dataTable =\n",
              "          await google.colab.kernel.invokeFunction('convertToInteractive',\n",
              "                                                    [key], {});\n",
              "        if (!dataTable) return;\n",
              "\n",
              "        const docLinkHtml = 'Like what you see? Visit the ' +\n",
              "          '<a target=\"_blank\" href=https://colab.research.google.com/notebooks/data_table.ipynb>data table notebook</a>'\n",
              "          + ' to learn more about interactive tables.';\n",
              "        element.innerHTML = '';\n",
              "        dataTable['output_type'] = 'display_data';\n",
              "        await google.colab.output.renderOutput(dataTable, element);\n",
              "        const docLink = document.createElement('div');\n",
              "        docLink.innerHTML = docLinkHtml;\n",
              "        element.appendChild(docLink);\n",
              "      }\n",
              "    </script>\n",
              "  </div>\n",
              "\n",
              "\n",
              "<div id=\"df-958a6d79-b3a0-45e6-adaf-e83e6dd6693e\">\n",
              "  <button class=\"colab-df-quickchart\" onclick=\"quickchart('df-958a6d79-b3a0-45e6-adaf-e83e6dd6693e')\"\n",
              "            title=\"Suggest charts.\"\n",
              "            style=\"display:none;\">\n",
              "\n",
              "<svg xmlns=\"http://www.w3.org/2000/svg\" height=\"24px\"viewBox=\"0 0 24 24\"\n",
              "     width=\"24px\">\n",
              "    <g>\n",
              "        <path d=\"M19 3H5c-1.1 0-2 .9-2 2v14c0 1.1.9 2 2 2h14c1.1 0 2-.9 2-2V5c0-1.1-.9-2-2-2zM9 17H7v-7h2v7zm4 0h-2V7h2v10zm4 0h-2v-4h2v4z\"/>\n",
              "    </g>\n",
              "</svg>\n",
              "  </button>\n",
              "\n",
              "<style>\n",
              "  .colab-df-quickchart {\n",
              "      --bg-color: #E8F0FE;\n",
              "      --fill-color: #1967D2;\n",
              "      --hover-bg-color: #E2EBFA;\n",
              "      --hover-fill-color: #174EA6;\n",
              "      --disabled-fill-color: #AAA;\n",
              "      --disabled-bg-color: #DDD;\n",
              "  }\n",
              "\n",
              "  [theme=dark] .colab-df-quickchart {\n",
              "      --bg-color: #3B4455;\n",
              "      --fill-color: #D2E3FC;\n",
              "      --hover-bg-color: #434B5C;\n",
              "      --hover-fill-color: #FFFFFF;\n",
              "      --disabled-bg-color: #3B4455;\n",
              "      --disabled-fill-color: #666;\n",
              "  }\n",
              "\n",
              "  .colab-df-quickchart {\n",
              "    background-color: var(--bg-color);\n",
              "    border: none;\n",
              "    border-radius: 50%;\n",
              "    cursor: pointer;\n",
              "    display: none;\n",
              "    fill: var(--fill-color);\n",
              "    height: 32px;\n",
              "    padding: 0;\n",
              "    width: 32px;\n",
              "  }\n",
              "\n",
              "  .colab-df-quickchart:hover {\n",
              "    background-color: var(--hover-bg-color);\n",
              "    box-shadow: 0 1px 2px rgba(60, 64, 67, 0.3), 0 1px 3px 1px rgba(60, 64, 67, 0.15);\n",
              "    fill: var(--button-hover-fill-color);\n",
              "  }\n",
              "\n",
              "  .colab-df-quickchart-complete:disabled,\n",
              "  .colab-df-quickchart-complete:disabled:hover {\n",
              "    background-color: var(--disabled-bg-color);\n",
              "    fill: var(--disabled-fill-color);\n",
              "    box-shadow: none;\n",
              "  }\n",
              "\n",
              "  .colab-df-spinner {\n",
              "    border: 2px solid var(--fill-color);\n",
              "    border-color: transparent;\n",
              "    border-bottom-color: var(--fill-color);\n",
              "    animation:\n",
              "      spin 1s steps(1) infinite;\n",
              "  }\n",
              "\n",
              "  @keyframes spin {\n",
              "    0% {\n",
              "      border-color: transparent;\n",
              "      border-bottom-color: var(--fill-color);\n",
              "      border-left-color: var(--fill-color);\n",
              "    }\n",
              "    20% {\n",
              "      border-color: transparent;\n",
              "      border-left-color: var(--fill-color);\n",
              "      border-top-color: var(--fill-color);\n",
              "    }\n",
              "    30% {\n",
              "      border-color: transparent;\n",
              "      border-left-color: var(--fill-color);\n",
              "      border-top-color: var(--fill-color);\n",
              "      border-right-color: var(--fill-color);\n",
              "    }\n",
              "    40% {\n",
              "      border-color: transparent;\n",
              "      border-right-color: var(--fill-color);\n",
              "      border-top-color: var(--fill-color);\n",
              "    }\n",
              "    60% {\n",
              "      border-color: transparent;\n",
              "      border-right-color: var(--fill-color);\n",
              "    }\n",
              "    80% {\n",
              "      border-color: transparent;\n",
              "      border-right-color: var(--fill-color);\n",
              "      border-bottom-color: var(--fill-color);\n",
              "    }\n",
              "    90% {\n",
              "      border-color: transparent;\n",
              "      border-bottom-color: var(--fill-color);\n",
              "    }\n",
              "  }\n",
              "</style>\n",
              "\n",
              "  <script>\n",
              "    async function quickchart(key) {\n",
              "      const quickchartButtonEl =\n",
              "        document.querySelector('#' + key + ' button');\n",
              "      quickchartButtonEl.disabled = true;  // To prevent multiple clicks.\n",
              "      quickchartButtonEl.classList.add('colab-df-spinner');\n",
              "      try {\n",
              "        const charts = await google.colab.kernel.invokeFunction(\n",
              "            'suggestCharts', [key], {});\n",
              "      } catch (error) {\n",
              "        console.error('Error during call to suggestCharts:', error);\n",
              "      }\n",
              "      quickchartButtonEl.classList.remove('colab-df-spinner');\n",
              "      quickchartButtonEl.classList.add('colab-df-quickchart-complete');\n",
              "    }\n",
              "    (() => {\n",
              "      let quickchartButtonEl =\n",
              "        document.querySelector('#df-958a6d79-b3a0-45e6-adaf-e83e6dd6693e button');\n",
              "      quickchartButtonEl.style.display =\n",
              "        google.colab.kernel.accessAllowed ? 'block' : 'none';\n",
              "    })();\n",
              "  </script>\n",
              "</div>\n",
              "    </div>\n",
              "  </div>\n"
            ]
          },
          "metadata": {},
          "execution_count": 6
        }
      ]
    },
    {
      "cell_type": "markdown",
      "source": [
        "## Dicussion Questions: The Search-Sort Tradeoff\n",
        "1, What are the key differences between linear search and binary search in terms of their approach to searching through data? How do these differences impact their efficiency?\n",
        "\n",
        "2. Can you explain the concept of Big O notation and how it is used to analyze the performance of algorithms? How do linear search and binary search compare in terms of their Big O notations?\n",
        "\n",
        "3. What factors should be considered when choosing between linear search and binary search for a particular problem? How do these factors relate to the idea of \"tradeoffs\"?\n",
        "\n",
        "4. In what situations would a linear search be more appropriate than a binary search, and vice versa? Provide real-world examples of when each algorithm might be the better choice. (These don't need to involve computers! Just think of any real world activity that involves \"seaching\" for something).\n",
        "\n",
        "5. Above, we introduced the idea of Big-O notation for \"time complexity.\" However, we can also use it as measure of \"space complexity\" (i.e., how much memory an algorithm uses). Which of the algorithms we studied above do you think have the highest space complexity? Why?\n"
      ],
      "metadata": {
        "id": "QkgXcyiKsLO9"
      }
    },
    {
      "cell_type": "markdown",
      "source": [
        "## Discussion Questions: Your Answers\n",
        "1.\n",
        "\n",
        "2.\n",
        "\n",
        "3.\n",
        "\n",
        "4.\n",
        "\n",
        "5."
      ],
      "metadata": {
        "id": "d1SINMtUtA2H"
      }
    },
    {
      "cell_type": "markdown",
      "source": [
        "## Review with Quizlet\n",
        "Run the following cell to launch the chapter review on Quizlet."
      ],
      "metadata": {
        "id": "d59qb8PmC8V2"
      }
    },
    {
      "cell_type": "code",
      "source": [
        "%%html\n",
        "<iframe src=\"https://quizlet.com/821232086/learn/embed?i=psvlh&x=1jj1\" height=\"600\" width=\"100%\" style=\"border:0\"></iframe>"
      ],
      "metadata": {
        "id": "yrvYhzB5DCoX",
        "outputId": "d92d9911-8543-40b5-c651-cc8d6a355b14",
        "colab": {
          "base_uri": "https://localhost:8080/",
          "height": 622
        }
      },
      "execution_count": null,
      "outputs": [
        {
          "output_type": "display_data",
          "data": {
            "text/plain": [
              "<IPython.core.display.HTML object>"
            ],
            "text/html": [
              "<iframe src=\"https://quizlet.com/821232086/learn/embed?i=psvlh&x=1jj1\" height=\"600\" width=\"100%\" style=\"border:0\"></iframe>\n"
            ]
          },
          "metadata": {}
        }
      ]
    },
    {
      "cell_type": "markdown",
      "source": [
        "## Glossary\n",
        "\n",
        "| Term | Definition |\n",
        "| --- | --- |\n",
        "| Algorithm | A finite sequence of unambigious instructions or rules designed to effectively solve a particular problem. |\n",
        "| Unambiguity | The clarity in design such that a step or process can only be interpreted in one way. |\n",
        "| Finiteness | The attribute of having a definite and limited number of steps. |\n",
        "| Effectiveness | The ability of a process or algorithm to achieve its intended result. |\n",
        "| for-loop | A control flow statement in programming which executes a piece of code a specified number of times. |\n",
        "| while-loop | A control flow statement that repeatedly executes a block of code as long as a certain condition is true. |\n",
        "| Iterate | The process of repeating steps in a systematic way, often used in programming loops. |\n",
        "| Input Validation | The process of checking if the data entered by a user meets specific criteria before it's processed. |\n",
        "| Nested Loop | A loop within another loop, where the inner loop executes multiple times for each iteration of the outer loop. |\n",
        "| Inner Loop | The loop that is inside another loop (the outer loop). This loop performs its entire cycle for every single iteration of the outer loop. |\n",
        "| Outer Loop | The loop that encloses another loop (the inner loop). This loop goes through one iteration for each full set of iterations of the inner loop. |\n",
        "| Search | The process of locating a specific item in a set of items. This is a common operation in computing and algorithms. |\n",
        "| Linear Search | A search algorithm that traverses through a list sequentially until the desired element is found. |\n",
        "| Binary Search | A search algorithm that efficiently finds a target value within a sorted list or array by halving the search space at each step. |\n",
        "| Sort | The process of arranging data in a particular order, typically numerical or lexicographical. |\n",
        "| Bubble Sort | A simple sorting algorithm that repeatedly steps through the list, compares adjacent elements and swaps them if they are in the wrong order. |\n",
        "| Insertion Sort | A simple sorting algorithm that builds the final sorted list one item at a time. It is generally less efficient on larger lists compared to more advanced algorithms such as quicksort or mergesort. |\n",
        "| Merge Sort | A divide and conquer algorithm that splits a list in half, recursively sorts the halves, and then merges the sorted halves. |\n",
        "| Quick Sort | A divide and conquer algorithm which picks an element as a pivot, partitions the array around the pivot, and then recursively applies the steps to the sub-arrays. |\n",
        "| Big O | Notation used in computer science to describe the performance or complexity of an algorithm. It specifically describes the worst-case scenario. |\n",
        "| O(1) | Denotes an algorithm that always performs a fixed number of operations, regardless of the size of the input data set. Example: Accessing an array element by its index. |\n",
        "| O(log n) | Denotes an algorithm whose performance grows logarithmically with the input size. Example: Binary search in a sorted array. |\n",
        "| O(n) | Denotes an algorithm whose performance grows linearly and in direct proportion to the size of the input data set. Example: Linear search in an unsorted array. |\n",
        "| O(n log n) | Denotes an algorithm whose performance is proportional to the number of items times the logarithm of the number of items. Example: Merge sort or quick sort. |\n",
        "| O(n^2) | Denotes an algorithm whose performance is proportional to the square of the size of the input data set. Example: Bubble sort or insertion sort. |\n",
        "| Search vs Sort tradeoff | The concept that highlights the trade-off between time taken to search for items in a list and the time taken to sort the list. For example, sorting a list can make subsequent searches faster, but the initial sort may take considerable time. |"
      ],
      "metadata": {
        "id": "DQ-Vy3EFewsH"
      }
    },
    {
      "cell_type": "code",
      "source": [],
      "metadata": {
        "id": "9BMfwF2AfHeF"
      },
      "execution_count": null,
      "outputs": []
    }
  ]
}