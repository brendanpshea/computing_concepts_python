{
  "nbformat": 4,
  "nbformat_minor": 0,
  "metadata": {
    "colab": {
      "provenance": [],
      "include_colab_link": true
    },
    "kernelspec": {
      "name": "python3",
      "display_name": "Python 3"
    },
    "language_info": {
      "name": "python"
    }
  },
  "cells": [
    {
      "cell_type": "markdown",
      "metadata": {
        "id": "view-in-github",
        "colab_type": "text"
      },
      "source": [
        "<a href=\"https://colab.research.google.com/github/brendanpshea/intro_cs/blob/main/IntroCS_10_AI.ipynb\" target=\"_parent\"><img src=\"https://colab.research.google.com/assets/colab-badge.svg\" alt=\"Open In Colab\"/></a>"
      ]
    },
    {
      "cell_type": "code",
      "execution_count": null,
      "metadata": {
        "id": "5UCpkrIemzIw"
      },
      "outputs": [],
      "source": []
    },
    {
      "cell_type": "markdown",
      "source": [
        "# Artificial Intelligence\n",
        "### Intro to CS | Brendan Shea, PhD\n",
        "Artificial Intelligence (AI) is a branch of computer science that aims to create machines that mimic human intelligence. This could be anything from a computer program playing chess, to a voice recognition system like Amazon's Alexa, to an autonomous car's ability to navigate its environment. The ultimate goal of AI is to create machines that can perform tasks requiring human intelligence such as understanding natural language, recognizing patterns, solving problems, and making decisions.\n",
        "\n",
        "AI works by combining large amounts of data with fast, iterative processing and intelligent algorithms. This allows the software to learn automatically from patterns and features in the data. AI is a broad field and it includes many different subfields, such as machine learning, deep learning, natural language processing, computer vision, and robotics.\n",
        "\n",
        "Let's break down some of these concepts:\n",
        "\n",
        "1.  Machine Learning (ML): This is a core part of AI. In traditional programming, developers explicitly write code to perform a specific task. But in machine learning, the machine is trained using large amounts of data and algorithms that give it the ability to learn how to perform the task. For example, to create a machine learning model to identify cats in images, you would train the model by showing it many images of cats. Over time, the model learns to recognize features (like shape of the ears, color of the fur) that indicate whether an image contains a cat.\n",
        "\n",
        "2.  Deep Learning (DL): This is a subset of machine learning that uses neural networks with many layers (hence \"deep\"). These neural networks attempt to simulate the behavior of the human brain---albeit far from matching its ability---in order to \"learn\" from large amounts of data. While a neural network with a single layer can still make approximate predictions, additional hidden layers can help optimize the accuracy. For example, a deep learning model could be trained to recognize speech even in a noisy environment by training it on a large amount of audio data.\n",
        "\n",
        "3.  Natural Language Processing (NLP): This is a branch of AI that focuses on the interaction between computers and humans through language. It allows machines to understand, interpret, generate, and make sense of human language in a valuable way. Examples of NLP in real life are language translation apps like Google Translate, voice assistant apps like Siri and Alexa, and chatbots that can interact with users in human-like conversations.\n",
        "\n",
        "4.  Computer Vision: This is the field of AI that trains computers to interpret and understand the visual world. Using digital images from cameras and videos and deep learning models, machines can accurately identify and classify objects and then react to what they \"see.\" For example, self-driving cars use computer vision to identify pedestrians, other cars, and the general environment in order to navigate safely.\n",
        "\n",
        "5.  Robotics: This field of AI focuses on the design and implementation of robots that can interact with the physical world. Robots are often used to perform tasks that are difficult or unsafe for humans. For example, in manufacturing, robots are used for tasks like lifting heavy items or performing repetitive tasks. In healthcare, robots can assist in surgery or deliver food and medication in hospitals.\n",
        "\n",
        "AI is a rapidly evolving field with vast potential. It's already making significant impacts across various sectors and will continue to transform the way we live and work in the future."
      ],
      "metadata": {
        "id": "_9kq-HtYm_Ps"
      }
    },
    {
      "cell_type": "markdown",
      "source": [
        "## Types of AI\n",
        "Artificial Intelligence (AI) can be categorized into three types based on their capabilities: Narrow AI, General AI, and Superintelligent AI. Each type represents a different level of the system's ability to perform tasks, understand, learn, adapt, and even surpass human capabilities.\n",
        "\n",
        "1.  Narrow AI: Also known as Weak AI, this type of AI is designed to perform a narrow task, such as voice recognition, recommendation systems, or image recognition. It operates under a limited context and is very good at the specific task it is designed for, but it can't undertake tasks beyond its field. All currently existing AI systems can be classified as Narrow AI.\n",
        "\n",
        "    Examples of Narrow AI include:\n",
        "\n",
        "    -   Siri: Apple's voice assistant is a form of Narrow AI, capable of speech recognition, natural language processing, and voice synthesis to answer questions, make recommendations, and perform actions by delegating requests to a set of Internet services.\n",
        "\n",
        "    -   Google Search: Google's search engine uses Narrow AI to provide search results. It uses AI technologies, including natural language processing, pattern recognition, and machine learning, to provide relevant search results.\n",
        "\n",
        "    -   Autonomous Vehicles: Self-driving cars like those developed by Tesla and Waymo use Narrow AI to navigate the roads. They use a combination of computer vision, image recognition, and machine learning technologies to safely drive on the roads.\n",
        "    \n",
        "    - Generative AI: Large Language models such as chatGPT and Google Bard (which specialize in generating text) and image generating tools work by training neural nets to \"predict\" what humans would do in certain situations.\n",
        "\n",
        "2.  General AI: Also known as Strong AI, this type of AI will be capable of understanding, learning, and applying knowledge in a broad array of tasks at a level equal to a human being. It's the kind of AI you see in movies like \"Her\" or \"Ex Machina\" that can understand, learn, adapt, and implement knowledge in different domains. As of now, General AI is theoretical and does not exist. The development of General AI is a significant focus of many research efforts in the field of AI.\n",
        "\n",
        "3.  Superintelligent AI: This is an AI that surpasses human intelligence and ability. It's an AI that can outperform humans in most economically valuable work. This type of AI doesn't exist today and is considered to be a long way off, if it's even possible. Superintelligent AI is the subject of a lot of speculation and ethical considerations. It's the kind of AI that futurists and philosophers consider when they think about how AI could shape the future.\n",
        "\n",
        "So, the AI that we interact with on a daily basis is Narrow AI, which is very good at performing the specific tasks it's designed for. General AI and Superintelligent AI are largely theoretical at this point, but they represent significant goals for researchers in the field of AI."
      ],
      "metadata": {
        "id": "9qJN9-hlnLfl"
      }
    },
    {
      "cell_type": "markdown",
      "source": [
        "## Statistical Machine Learning\n",
        "**Machine Learning (ML)** is a subset of artificial intelligence that provides systems the ability to automatically learn and improve from experience without being explicitly programmed. It focuses on the development of computer programs that can access data and use it to learn for themselves.  The process of learning begins with observations or data, such as examples, direct experience, or instruction, in order to look for patterns in data and make better decisions in the future based on the examples that we provide. The primary aim is to allow the computers to learn automatically without human intervention or assistance and adjust actions accordingly.\n",
        "\n",
        "There are a variety of sub-types of machine learning. To start with, we'll consider **statistical machine learning**, which uses the power of modern computers to apply statistical techniques to large sets of data. Like other versions of machine learning, there are too broad categories of models: *supervised* learning and *unsupervised* learning:\n",
        "\n",
        "### Supervised Learning\n",
        "**Supervised Learning:** This is like learning with a teacher. You're given some data (the lesson) and the answer you should get (the teacher's solution). Your job is to figure out how to get from the data to the answer. For example, imagine you have a bunch of pictures of animals and you know what animal is in each picture. You could use supervised learning to teach a computer to recognize animals in pictures. You show the computer the picture (the data) and tell it what animal is in the picture (the answer). After seeing enough pictures, the computer can start to recognize animals in new pictures.\n",
        "\n",
        "Common methods of supervised learning include:\n",
        "\n",
        "1.  **Linear Regression:** This is one of the simplest methods used in supervised learning. It's used to predict a continuous target variable based on one or more input features. The goal is to find the best-fitting straight line through the data points. \n",
        "    \n",
        "    - Example: imagine you're trying to predict your final grade in a class based on how many hours you study. You plot your past grades and study hours on a graph and notice they form a roughly straight line: the more you study, the better your grade. Linear regression is the method that helps you draw this \"best fit\" line.\n",
        "\n",
        "2.  **Logistic Regression:** Despite its name, logistic regression is used for classification problems, not regression problems. It's used to estimate the probability that an instance belongs to a particular class. If the estimated probability is greater than 50%, then the model predicts that the instance belongs to that class, otherwise it predicts that it does not. It's like linear regression but with a twist: it outputs a probability that the given input point belongs to a certain class.\n",
        "\n",
        "    - Example: Let's say you want to predict whether your favorite team will win their next game based on various factors like the team's health, the opponent's ranking, and so on. Logistic regression helps you make this yes/no prediction by calculating probabilities.\n",
        "\n",
        "3.  **Decision Trees:** Decision trees are used for both regression and classification problems. They split the data into two or more homogeneous sets based on the most significant differentiators in input variables.\n",
        "  - Example: Suppose you're deciding whether to go out or stay home. You consider factors like the weather, if your friends are free, and if there's an event you're interested in. A decision tree helps make this decision by breaking down the options in a tree-like model of decisions.\n",
        "\n",
        "4.  Support Vector Machines (SVMs): SVMs are used for classification problems. They aim to find the best hyperplane that separates all data points of one class from those of the other class.\n",
        "  -Example:  Imagine you're a teacher separating students into different learning groups based on their skills. SVMs help you draw the boundaries between the groups so that similar students are together.\n",
        "\n",
        "\n",
        "### Unsupervised Learning\n",
        "\n",
        "- **Unsupervised Learning:** This is like learning on your own without a teacher. You're given some data, but no answers. Your job is to find patterns or structure in the data. For example, imagine you have a bunch of pictures of animals, but you don't know what animal is in each picture. You could use unsupervised learning to group the pictures into categories, like animals with fur, animals with scales, and animals with feathers.\n",
        "\n",
        "\n",
        "\n"
      ],
      "metadata": {
        "id": "cKSJ5rt4oEM8"
      }
    },
    {
      "cell_type": "code",
      "source": [],
      "metadata": {
        "id": "Xmd5soLBoAwL"
      },
      "execution_count": null,
      "outputs": []
    }
  ]
}