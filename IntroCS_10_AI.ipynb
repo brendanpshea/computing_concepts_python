{
  "nbformat": 4,
  "nbformat_minor": 0,
  "metadata": {
    "colab": {
      "provenance": [],
      "include_colab_link": true
    },
    "kernelspec": {
      "name": "python3",
      "display_name": "Python 3"
    },
    "language_info": {
      "name": "python"
    }
  },
  "cells": [
    {
      "cell_type": "markdown",
      "metadata": {
        "id": "view-in-github",
        "colab_type": "text"
      },
      "source": [
        "<a href=\"https://colab.research.google.com/github/brendanpshea/intro_cs/blob/main/IntroCS_10_AI.ipynb\" target=\"_parent\"><img src=\"https://colab.research.google.com/assets/colab-badge.svg\" alt=\"Open In Colab\"/></a>"
      ]
    },
    {
      "cell_type": "markdown",
      "source": [
        "# Artificial Intelligence\n",
        "### Intro to CS | Brendan Shea, PhD\n",
        "Artificial Intelligence (AI) is a branch of computer science that aims to create machines that mimic human intelligence. This could be anything from a computer program playing chess, to a voice recognition system like Amazon's Alexa, to an autonomous car's ability to navigate its environment. The ultimate goal of AI is to create machines that can perform tasks requiring human intelligence such as understanding natural language, recognizing patterns, solving problems, and making decisions.\n",
        "\n",
        "AI works by combining large amounts of data with fast, iterative processing and intelligent algorithms. This allows the software to learn automatically from patterns and features in the data. AI is a broad field and it includes many different subfields, such as machine learning, deep learning, natural language processing, computer vision, and robotics.\n",
        "\n",
        "Let's break down some of these concepts:\n",
        "\n",
        "1.  **Machine Learning (ML):** This is a core part of AI. In traditional programming, developers explicitly write code to perform a specific task. But in machine learning, the machine is trained using large amounts of data and algorithms that give it the ability to learn how to perform the task. For example, to create a machine learning model to identify cats in images, you would train the model by showing it many images of cats. Over time, the model learns to recognize features (like shape of the ears, color of the fur) that indicate whether an image contains a cat.\n",
        "\n",
        "2.  **Deep Learning (DL):** This is a subset of machine learning that uses neural networks with many layers (hence \"deep\"). These neural networks attempt to simulate the behavior of the human brain---albeit far from matching its ability---in order to \"learn\" from large amounts of data. While a neural network with a single layer can still make approximate predictions, additional hidden layers can help optimize the accuracy. For example, a deep learning model could be trained to recognize speech even in a noisy environment by training it on a large amount of audio data.\n",
        "\n",
        "3.  **Natural Language Processing (NLP):** This is a branch of AI that focuses on the interaction between computers and humans through language. It allows machines to understand, interpret, generate, and make sense of human language in a valuable way. Examples of NLP in real life are language translation apps like Google Translate, voice assistant apps like Siri and Alexa, and chatbots that can interact with users in human-like conversations.\n",
        "\n",
        "4.  **Computer Vision:** This is the field of AI that trains computers to interpret and understand the visual world. Using digital images from cameras and videos and deep learning models, machines can accurately identify and classify objects and then react to what they \"see.\" For example, self-driving cars use computer vision to identify pedestrians, other cars, and the general environment in order to navigate safely.\n",
        "\n",
        "5.  **Robotics:** This field of AI focuses on the design and implementation of robots that can interact with the physical world. Robots are often used to perform tasks that are difficult or unsafe for humans. For example, in manufacturing, robots are used for tasks like lifting heavy items or performing repetitive tasks. In healthcare, robots can assist in surgery or deliver food and medication in hospitals.\n",
        "\n",
        "AI is a rapidly evolving field with vast potential. It's already making significant impacts across various sectors and will continue to transform the way we live and work in the future."
      ],
      "metadata": {
        "id": "_9kq-HtYm_Ps"
      }
    },
    {
      "cell_type": "markdown",
      "source": [
        "## Types of AI\n",
        "Artificial Intelligence (AI) can be categorized into three types based on their capabilities: Narrow AI, General AI, and Superintelligent AI. Each type represents a different level of the system's ability to perform tasks, understand, learn, adapt, and even surpass human capabilities.\n",
        "\n",
        "1.  **Narrow AI:** Also known as **Weak AI**, this type of AI is designed to perform a narrow task, such as voice recognition, recommendation systems, or image recognition. It operates under a limited context and is very good at the specific task it is designed for, but it can't undertake tasks beyond its field. All currently existing AI systems can be classified as Narrow AI.\n",
        "\n",
        "    Examples of Narrow AI include:\n",
        "\n",
        "    -   Siri: Apple's voice assistant is a form of Narrow AI, capable of speech recognition, natural language processing, and voice synthesis to answer questions, make recommendations, and perform actions by delegating requests to a set of Internet services.\n",
        "\n",
        "    -   Google Search: Google's search engine uses Narrow AI to provide search results. It uses AI technologies, including natural language processing, pattern recognition, and machine learning, to provide relevant search results.\n",
        "\n",
        "    -   Autonomous Vehicles: Self-driving cars like those developed by Tesla and Waymo use Narrow AI to navigate the roads. They use a combination of computer vision, image recognition, and machine learning technologies to safely drive on the roads.\n",
        "    \n",
        "    - Generative AI: Large Language models such as chatGPT and Google Bard (which specialize in generating text) and image generating tools work by training neural nets to \"predict\" what humans would do in certain situations.\n",
        "\n",
        "2. **General AI:** Also known as **Strong AI**, this type of AI will be capable of understanding, learning, and applying knowledge in a broad array of tasks at a level equal to a human being. It's the kind of AI you see in movies like \"Her\" or \"Ex Machina\" that can understand, learn, adapt, and implement knowledge in different domains. As of now, General AI is theoretical and does not exist. The development of General AI is a significant focus of many research efforts in the field of AI.\n",
        "\n",
        "3.  **Superintelligent AI**: This is an AI that surpasses human intelligence and ability. It's an AI that can outperform humans in most economically valuable work. This type of AI doesn't exist today and is considered to be a long way off, if it's even possible. Superintelligent AI is the subject of a lot of speculation and ethical considerations. It's the kind of AI that futurists and philosophers consider when they think about how AI could shape the future.\n",
        "\n",
        "So, the AI that we interact with on a daily basis is Narrow AI, which is very good at performing the specific tasks it's designed for. General AI and Superintelligent AI are largely theoretical at this point, but they represent significant goals for researchers in the field of AI."
      ],
      "metadata": {
        "id": "9qJN9-hlnLfl"
      }
    },
    {
      "cell_type": "markdown",
      "source": [
        "## Statistical Machine Learning\n",
        "**Machine Learning (ML)** is a subset of artificial intelligence that provides systems the ability to automatically learn and improve from experience without being explicitly programmed. It focuses on the development of computer programs that can access data and use it to learn for themselves.  The process of learning begins with observations or data, such as examples, direct experience, or instruction, in order to look for patterns in data and make better decisions in the future based on the examples that we provide. The primary aim is to allow the computers to learn automatically without human intervention or assistance and adjust actions accordingly.\n",
        "\n",
        "There are a variety of sub-types of machine learning. To start with, we'll consider **statistical machine learning**, which uses the power of modern computers to apply statistical techniques to large sets of data. Like other versions of machine learning, there are too broad categories of models: *supervised* learning and *unsupervised* learning:\n",
        "\n",
        "### Supervised Learning\n",
        "**Supervised Learning:** This is like learning with a teacher. You're given some data (the lesson) and the answer you should get (the teacher's solution). Your job is to figure out how to get from the data to the answer. For example, imagine you have a bunch of pictures of animals and you know what animal is in each picture. You could use supervised learning to teach a computer to recognize animals in pictures. You show the computer the picture (the data) and tell it what animal is in the picture (the answer). After seeing enough pictures, the computer can start to recognize animals in new pictures.\n",
        "\n",
        "Common methods of supervised learning include:\n",
        "\n",
        "1.  **Linear Regression:** This is one of the simplest methods used in supervised learning. It's used to predict a continuous target variable based on one or more input features. The goal is to find the best-fitting straight line through the data points. \n",
        "    \n",
        "    - Example: imagine you're trying to predict your final grade in a class based on how many hours you study. You plot your past grades and study hours on a graph and notice they form a roughly straight line: the more you study, the better your grade. Linear regression is the method that helps you draw this \"best fit\" line.\n",
        "\n",
        "2.  **Logistic Regression:** Despite its name, logistic regression is used for classification problems, not regression problems. It's used to estimate the probability that an instance belongs to a particular class. If the estimated probability is greater than 50%, then the model predicts that the instance belongs to that class, otherwise it predicts that it does not. It's like linear regression but with a twist: it outputs a probability that the given input point belongs to a certain class.\n",
        "\n",
        "    - Example: Let's say you want to predict whether your favorite team will win their next game based on various factors like the team's health, the opponent's ranking, and so on. Logistic regression helps you make this yes/no prediction by calculating probabilities.\n",
        "\n",
        "3.  **Decision Trees:** Decision trees are used for both regression and classification problems. They split the data into two or more homogeneous sets based on the most significant differentiators in input variables.\n",
        "  - Example: Suppose you're deciding whether to go out or stay home. You consider factors like the weather, if your friends are free, and if there's an event you're interested in. A decision tree helps make this decision by breaking down the options in a tree-like model of decisions.\n",
        "\n",
        "4.  Support Vector Machines (SVMs): SVMs are used for classification problems. They aim to find the best hyperplane that separates all data points of one class from those of the other class.\n",
        "\n",
        "  - Example:  Imagine you're a teacher separating students into different learning groups based on their skills. SVMs help you draw the boundaries between the groups so that similar students are together.\n",
        "\n",
        "\n",
        "### Unsupervised Learning\n",
        "\n",
        "**Unsupervised Learning:** is akin to learning on your own without a teacher or with any way of knowing the \"right answers.\" You're given some data, but no solutions. Your job is to find patterns or structure in the data. For example, imagine you have a bunch of pictures of animals, but you don't know what animal is in each picture. You could use unsupervised learning to group the pictures into categories, like animals with fur, animals with scales, and animals with feathers.\n",
        "\n",
        "Common methods of unsupervised learning include:\n",
        "\n",
        "1.  K-Means Clustering: This is a simple and widely-used clustering algorithm. It aims to partition the dataset into K clusters, each represented by the mean of the data points in the cluster.\n",
        "  - Example:  Suppose you're a teacher with a bunch of student test scores and you want to group students for extra instruction. K-means clustering helps you group the students (into \"k\" groups) so that students with similar scores are together.\n",
        "\n",
        "2.  Hierarchical Clustering: This method builds a hierarchy of clusters where each node is a cluster consisting of the clusters of its daughter nodes.\n",
        "  - Example: : Imagine you're a biologist trying to classify animals. You start by grouping similar species together, then group these into larger genera, then into even larger families, and so on. This is what hierarchical clustering does.\n",
        "\n",
        "3.  Principal Component Analysis (PCA): PCA is a technique used to emphasize variation and bring out strong patterns in a dataset. It's often used to make data easy to explore and visualize.\n",
        "  - Example: Suppose you're a movie director trying to understand what makes a movie popular. You have lots of different factors like the actors, the budget, the genre, and so on. PCA helps you find the most important factors.\n",
        "\n",
        "4.  Anomaly Detection: This is the identification of rare items, events or observations which raise suspicions by differing significantly from chance.\n",
        "  - Example: Imagine you're a security guard at a museum. Your job is to spot anything unusual, like a door left open or a missing painting. Anomaly detection algorithms help identify these rare events.\n",
        "\n",
        "\n",
        "\n"
      ],
      "metadata": {
        "id": "cKSJ5rt4oEM8"
      }
    },
    {
      "cell_type": "markdown",
      "source": [
        "## Case Study: Decision Trees and the Wisconsin Breast Cancer Dataset\n",
        "\n",
        "\n",
        "In this case study, we will be delving into the domain of medical informatics - a field at the intersection of information science, computer science, and healthcare. Specifically, we'll explore the realm of breast cancer diagnosis, a critical area of study given that breast cancer is one of the most common cancers among women worldwide.\n",
        "\n",
        "Our focus will be on a machine learning algorithm known as the Decision Tree and we'll use it to classify whether a breast mass is benign (non-cancerous) or malignant (cancerous). This use-case clearly illustrates the potential of machine learning in facilitating healthcare professionals' decision-making processes and ultimately improving patient outcomes.\n",
        "\n",
        "### Dataset\n",
        "\n",
        "The dataset we'll be using is the Wisconsin Breast Cancer dataset, a commonly-used dataset in machine learning for binary classification problems. This dataset consists of measurements from digitized images of fine needle aspirates (FNA) of breast masses. Features are computed from these images, resulting in numerical values that describe characteristics of the cell nuclei present in the images. The 'target' in our dataset indicates whether the mass is malignant (cancerous) or benign (non-cancerous).\n",
        "\n",
        "### Decision Trees:\n",
        "Decision Trees are a type of supervised learning algorithm that is mostly used for classification problems. Visually, it represents decisions and decision-making processes that mirror human thinking ability. In a Decision Tree, each internal node represents a \"test\" on an attribute, each branch represents the outcome of the test, and each leaf node represents a class label (a decision taken after testing all attributes). The paths from root to leaf represent classification rules.\n",
        "\n",
        "The beauty of Decision Trees lies in their simplicity and interpretability. Unlike many machine learning models that feel like \"black boxes,\" Decision Trees provide a clear illustration of how a decision was made.\n",
        "\n",
        "### Why Should I care?\n",
        "\n",
        "Machine learning has an increasingly significant role in various fields, including healthcare. With the rise of digital health data, algorithms like Decision Trees can help medical professionals diagnose diseases and conditions earlier and more accurately, leading to improved patient outcomes. Furthermore, understanding machine learning techniques like Decision Trees provides a fundamental stepping stone into the world of AI, paving the way to more complex algorithms and models.\n",
        "\n",
        "Throughout this case study, we'll guide you through the process of loading the dataset, exploring and understanding the data, preprocessing the data, creating a Decision Tree model, and finally interpreting the Decision Tree.\n",
        "\n",
        "Let's dive in!"
      ],
      "metadata": {
        "id": "XAoUZNe1XLTd"
      }
    },
    {
      "cell_type": "markdown",
      "source": [
        "### Step 1: Load the Data\n",
        "We'll begin by importing a few libraries we'll need and loading the data (which is included with sci-kit-learn, a standard library for machine learning)."
      ],
      "metadata": {
        "id": "QVsdHA8yXT2D"
      }
    },
    {
      "cell_type": "code",
      "source": [
        "# Import necessary libraries\n",
        "import pandas as pd\n",
        "import numpy as np\n",
        "from sklearn.datasets import load_breast_cancer\n",
        "from sklearn.model_selection import train_test_split\n",
        "from sklearn.tree import DecisionTreeClassifier\n",
        "from sklearn import metrics\n",
        "import matplotlib.pyplot as plt\n",
        "from sklearn import tree\n",
        "\n",
        "# set seed for reproducability\n",
        "np.random.seed(52179)\n",
        "\n",
        "# Load the dataset\n",
        "cancer = load_breast_cancer()\n",
        "\n",
        "# Print the available keys\n",
        "print(cancer.keys())\n"
      ],
      "metadata": {
        "id": "Xmd5soLBoAwL",
        "colab": {
          "base_uri": "https://localhost:8080/"
        },
        "outputId": "76b0b1c1-9a07-4474-eb2b-48cf394e585a"
      },
      "execution_count": null,
      "outputs": [
        {
          "output_type": "stream",
          "name": "stdout",
          "text": [
            "dict_keys(['data', 'target', 'frame', 'target_names', 'DESCR', 'feature_names', 'filename', 'data_module'])\n"
          ]
        }
      ]
    },
    {
      "cell_type": "markdown",
      "source": [
        "These are the keys in the dataset that we can use. `data` contains the features, `target` contains the labels, `DESCR` is a full description of the dataset, `feature_names` are the names of the features, and `target_names` are the names of the different types of cancer."
      ],
      "metadata": {
        "id": "8dKgqwrKXreb"
      }
    },
    {
      "cell_type": "markdown",
      "source": [
        "### Step 2: Examine the Data\n",
        "Next, let's look at the data and understand it."
      ],
      "metadata": {
        "id": "xo01OfQgXzN5"
      }
    },
    {
      "cell_type": "code",
      "source": [
        "# Create a DataFrame\n",
        "df = pd.DataFrame(cancer.data, columns=cancer.feature_names)\n",
        "\n",
        "# Add a target column to the DataFrame\n",
        "df['target'] = cancer.target\n",
        "\n",
        "# Display the first 5 rows of the DataFrame\n",
        "df.head()\n"
      ],
      "metadata": {
        "colab": {
          "base_uri": "https://localhost:8080/",
          "height": 334
        },
        "id": "vpB6H98hX1jz",
        "outputId": "7db38be9-48ca-426d-d9ca-efe9dc13f53b"
      },
      "execution_count": null,
      "outputs": [
        {
          "output_type": "execute_result",
          "data": {
            "text/plain": [
              "   mean radius  mean texture  mean perimeter  mean area  mean smoothness  \\\n",
              "0        17.99         10.38          122.80     1001.0          0.11840   \n",
              "1        20.57         17.77          132.90     1326.0          0.08474   \n",
              "2        19.69         21.25          130.00     1203.0          0.10960   \n",
              "3        11.42         20.38           77.58      386.1          0.14250   \n",
              "4        20.29         14.34          135.10     1297.0          0.10030   \n",
              "\n",
              "   mean compactness  mean concavity  mean concave points  mean symmetry  \\\n",
              "0           0.27760          0.3001              0.14710         0.2419   \n",
              "1           0.07864          0.0869              0.07017         0.1812   \n",
              "2           0.15990          0.1974              0.12790         0.2069   \n",
              "3           0.28390          0.2414              0.10520         0.2597   \n",
              "4           0.13280          0.1980              0.10430         0.1809   \n",
              "\n",
              "   mean fractal dimension  ...  worst texture  worst perimeter  worst area  \\\n",
              "0                 0.07871  ...          17.33           184.60      2019.0   \n",
              "1                 0.05667  ...          23.41           158.80      1956.0   \n",
              "2                 0.05999  ...          25.53           152.50      1709.0   \n",
              "3                 0.09744  ...          26.50            98.87       567.7   \n",
              "4                 0.05883  ...          16.67           152.20      1575.0   \n",
              "\n",
              "   worst smoothness  worst compactness  worst concavity  worst concave points  \\\n",
              "0            0.1622             0.6656           0.7119                0.2654   \n",
              "1            0.1238             0.1866           0.2416                0.1860   \n",
              "2            0.1444             0.4245           0.4504                0.2430   \n",
              "3            0.2098             0.8663           0.6869                0.2575   \n",
              "4            0.1374             0.2050           0.4000                0.1625   \n",
              "\n",
              "   worst symmetry  worst fractal dimension  target  \n",
              "0          0.4601                  0.11890       0  \n",
              "1          0.2750                  0.08902       0  \n",
              "2          0.3613                  0.08758       0  \n",
              "3          0.6638                  0.17300       0  \n",
              "4          0.2364                  0.07678       0  \n",
              "\n",
              "[5 rows x 31 columns]"
            ],
            "text/html": [
              "\n",
              "  <div id=\"df-a3dd3b1b-a1dd-4c1d-a177-719a25af9413\">\n",
              "    <div class=\"colab-df-container\">\n",
              "      <div>\n",
              "<style scoped>\n",
              "    .dataframe tbody tr th:only-of-type {\n",
              "        vertical-align: middle;\n",
              "    }\n",
              "\n",
              "    .dataframe tbody tr th {\n",
              "        vertical-align: top;\n",
              "    }\n",
              "\n",
              "    .dataframe thead th {\n",
              "        text-align: right;\n",
              "    }\n",
              "</style>\n",
              "<table border=\"1\" class=\"dataframe\">\n",
              "  <thead>\n",
              "    <tr style=\"text-align: right;\">\n",
              "      <th></th>\n",
              "      <th>mean radius</th>\n",
              "      <th>mean texture</th>\n",
              "      <th>mean perimeter</th>\n",
              "      <th>mean area</th>\n",
              "      <th>mean smoothness</th>\n",
              "      <th>mean compactness</th>\n",
              "      <th>mean concavity</th>\n",
              "      <th>mean concave points</th>\n",
              "      <th>mean symmetry</th>\n",
              "      <th>mean fractal dimension</th>\n",
              "      <th>...</th>\n",
              "      <th>worst texture</th>\n",
              "      <th>worst perimeter</th>\n",
              "      <th>worst area</th>\n",
              "      <th>worst smoothness</th>\n",
              "      <th>worst compactness</th>\n",
              "      <th>worst concavity</th>\n",
              "      <th>worst concave points</th>\n",
              "      <th>worst symmetry</th>\n",
              "      <th>worst fractal dimension</th>\n",
              "      <th>target</th>\n",
              "    </tr>\n",
              "  </thead>\n",
              "  <tbody>\n",
              "    <tr>\n",
              "      <th>0</th>\n",
              "      <td>17.99</td>\n",
              "      <td>10.38</td>\n",
              "      <td>122.80</td>\n",
              "      <td>1001.0</td>\n",
              "      <td>0.11840</td>\n",
              "      <td>0.27760</td>\n",
              "      <td>0.3001</td>\n",
              "      <td>0.14710</td>\n",
              "      <td>0.2419</td>\n",
              "      <td>0.07871</td>\n",
              "      <td>...</td>\n",
              "      <td>17.33</td>\n",
              "      <td>184.60</td>\n",
              "      <td>2019.0</td>\n",
              "      <td>0.1622</td>\n",
              "      <td>0.6656</td>\n",
              "      <td>0.7119</td>\n",
              "      <td>0.2654</td>\n",
              "      <td>0.4601</td>\n",
              "      <td>0.11890</td>\n",
              "      <td>0</td>\n",
              "    </tr>\n",
              "    <tr>\n",
              "      <th>1</th>\n",
              "      <td>20.57</td>\n",
              "      <td>17.77</td>\n",
              "      <td>132.90</td>\n",
              "      <td>1326.0</td>\n",
              "      <td>0.08474</td>\n",
              "      <td>0.07864</td>\n",
              "      <td>0.0869</td>\n",
              "      <td>0.07017</td>\n",
              "      <td>0.1812</td>\n",
              "      <td>0.05667</td>\n",
              "      <td>...</td>\n",
              "      <td>23.41</td>\n",
              "      <td>158.80</td>\n",
              "      <td>1956.0</td>\n",
              "      <td>0.1238</td>\n",
              "      <td>0.1866</td>\n",
              "      <td>0.2416</td>\n",
              "      <td>0.1860</td>\n",
              "      <td>0.2750</td>\n",
              "      <td>0.08902</td>\n",
              "      <td>0</td>\n",
              "    </tr>\n",
              "    <tr>\n",
              "      <th>2</th>\n",
              "      <td>19.69</td>\n",
              "      <td>21.25</td>\n",
              "      <td>130.00</td>\n",
              "      <td>1203.0</td>\n",
              "      <td>0.10960</td>\n",
              "      <td>0.15990</td>\n",
              "      <td>0.1974</td>\n",
              "      <td>0.12790</td>\n",
              "      <td>0.2069</td>\n",
              "      <td>0.05999</td>\n",
              "      <td>...</td>\n",
              "      <td>25.53</td>\n",
              "      <td>152.50</td>\n",
              "      <td>1709.0</td>\n",
              "      <td>0.1444</td>\n",
              "      <td>0.4245</td>\n",
              "      <td>0.4504</td>\n",
              "      <td>0.2430</td>\n",
              "      <td>0.3613</td>\n",
              "      <td>0.08758</td>\n",
              "      <td>0</td>\n",
              "    </tr>\n",
              "    <tr>\n",
              "      <th>3</th>\n",
              "      <td>11.42</td>\n",
              "      <td>20.38</td>\n",
              "      <td>77.58</td>\n",
              "      <td>386.1</td>\n",
              "      <td>0.14250</td>\n",
              "      <td>0.28390</td>\n",
              "      <td>0.2414</td>\n",
              "      <td>0.10520</td>\n",
              "      <td>0.2597</td>\n",
              "      <td>0.09744</td>\n",
              "      <td>...</td>\n",
              "      <td>26.50</td>\n",
              "      <td>98.87</td>\n",
              "      <td>567.7</td>\n",
              "      <td>0.2098</td>\n",
              "      <td>0.8663</td>\n",
              "      <td>0.6869</td>\n",
              "      <td>0.2575</td>\n",
              "      <td>0.6638</td>\n",
              "      <td>0.17300</td>\n",
              "      <td>0</td>\n",
              "    </tr>\n",
              "    <tr>\n",
              "      <th>4</th>\n",
              "      <td>20.29</td>\n",
              "      <td>14.34</td>\n",
              "      <td>135.10</td>\n",
              "      <td>1297.0</td>\n",
              "      <td>0.10030</td>\n",
              "      <td>0.13280</td>\n",
              "      <td>0.1980</td>\n",
              "      <td>0.10430</td>\n",
              "      <td>0.1809</td>\n",
              "      <td>0.05883</td>\n",
              "      <td>...</td>\n",
              "      <td>16.67</td>\n",
              "      <td>152.20</td>\n",
              "      <td>1575.0</td>\n",
              "      <td>0.1374</td>\n",
              "      <td>0.2050</td>\n",
              "      <td>0.4000</td>\n",
              "      <td>0.1625</td>\n",
              "      <td>0.2364</td>\n",
              "      <td>0.07678</td>\n",
              "      <td>0</td>\n",
              "    </tr>\n",
              "  </tbody>\n",
              "</table>\n",
              "<p>5 rows × 31 columns</p>\n",
              "</div>\n",
              "      <button class=\"colab-df-convert\" onclick=\"convertToInteractive('df-a3dd3b1b-a1dd-4c1d-a177-719a25af9413')\"\n",
              "              title=\"Convert this dataframe to an interactive table.\"\n",
              "              style=\"display:none;\">\n",
              "        \n",
              "  <svg xmlns=\"http://www.w3.org/2000/svg\" height=\"24px\"viewBox=\"0 0 24 24\"\n",
              "       width=\"24px\">\n",
              "    <path d=\"M0 0h24v24H0V0z\" fill=\"none\"/>\n",
              "    <path d=\"M18.56 5.44l.94 2.06.94-2.06 2.06-.94-2.06-.94-.94-2.06-.94 2.06-2.06.94zm-11 1L8.5 8.5l.94-2.06 2.06-.94-2.06-.94L8.5 2.5l-.94 2.06-2.06.94zm10 10l.94 2.06.94-2.06 2.06-.94-2.06-.94-.94-2.06-.94 2.06-2.06.94z\"/><path d=\"M17.41 7.96l-1.37-1.37c-.4-.4-.92-.59-1.43-.59-.52 0-1.04.2-1.43.59L10.3 9.45l-7.72 7.72c-.78.78-.78 2.05 0 2.83L4 21.41c.39.39.9.59 1.41.59.51 0 1.02-.2 1.41-.59l7.78-7.78 2.81-2.81c.8-.78.8-2.07 0-2.86zM5.41 20L4 18.59l7.72-7.72 1.47 1.35L5.41 20z\"/>\n",
              "  </svg>\n",
              "      </button>\n",
              "      \n",
              "  <style>\n",
              "    .colab-df-container {\n",
              "      display:flex;\n",
              "      flex-wrap:wrap;\n",
              "      gap: 12px;\n",
              "    }\n",
              "\n",
              "    .colab-df-convert {\n",
              "      background-color: #E8F0FE;\n",
              "      border: none;\n",
              "      border-radius: 50%;\n",
              "      cursor: pointer;\n",
              "      display: none;\n",
              "      fill: #1967D2;\n",
              "      height: 32px;\n",
              "      padding: 0 0 0 0;\n",
              "      width: 32px;\n",
              "    }\n",
              "\n",
              "    .colab-df-convert:hover {\n",
              "      background-color: #E2EBFA;\n",
              "      box-shadow: 0px 1px 2px rgba(60, 64, 67, 0.3), 0px 1px 3px 1px rgba(60, 64, 67, 0.15);\n",
              "      fill: #174EA6;\n",
              "    }\n",
              "\n",
              "    [theme=dark] .colab-df-convert {\n",
              "      background-color: #3B4455;\n",
              "      fill: #D2E3FC;\n",
              "    }\n",
              "\n",
              "    [theme=dark] .colab-df-convert:hover {\n",
              "      background-color: #434B5C;\n",
              "      box-shadow: 0px 1px 3px 1px rgba(0, 0, 0, 0.15);\n",
              "      filter: drop-shadow(0px 1px 2px rgba(0, 0, 0, 0.3));\n",
              "      fill: #FFFFFF;\n",
              "    }\n",
              "  </style>\n",
              "\n",
              "      <script>\n",
              "        const buttonEl =\n",
              "          document.querySelector('#df-a3dd3b1b-a1dd-4c1d-a177-719a25af9413 button.colab-df-convert');\n",
              "        buttonEl.style.display =\n",
              "          google.colab.kernel.accessAllowed ? 'block' : 'none';\n",
              "\n",
              "        async function convertToInteractive(key) {\n",
              "          const element = document.querySelector('#df-a3dd3b1b-a1dd-4c1d-a177-719a25af9413');\n",
              "          const dataTable =\n",
              "            await google.colab.kernel.invokeFunction('convertToInteractive',\n",
              "                                                     [key], {});\n",
              "          if (!dataTable) return;\n",
              "\n",
              "          const docLinkHtml = 'Like what you see? Visit the ' +\n",
              "            '<a target=\"_blank\" href=https://colab.research.google.com/notebooks/data_table.ipynb>data table notebook</a>'\n",
              "            + ' to learn more about interactive tables.';\n",
              "          element.innerHTML = '';\n",
              "          dataTable['output_type'] = 'display_data';\n",
              "          await google.colab.output.renderOutput(dataTable, element);\n",
              "          const docLink = document.createElement('div');\n",
              "          docLink.innerHTML = docLinkHtml;\n",
              "          element.appendChild(docLink);\n",
              "        }\n",
              "      </script>\n",
              "    </div>\n",
              "  </div>\n",
              "  "
            ]
          },
          "metadata": {},
          "execution_count": 10
        }
      ]
    },
    {
      "cell_type": "markdown",
      "source": [
        "The DataFrame consists of several features that are characteristics of cell nuclei from a digitized image of a fine needle aspirate (FNA) of a breast mass. The 'target' column indicates whether the mass is malignant (0) or benign (1)."
      ],
      "metadata": {
        "id": "ClshkaNsX_F1"
      }
    },
    {
      "cell_type": "markdown",
      "source": [
        "### Step 3: Create a Test-Train Split\n",
        "Next, we'll split our data into **training data** (which we'll be using to train our decision tree) and **test data** (which we'll use to evaluate how well our decision tree does at distinguishing between cancerous and benign masses)."
      ],
      "metadata": {
        "id": "u44odPUpYL4d"
      }
    },
    {
      "cell_type": "code",
      "source": [
        "# Define features and target\n",
        "X = df[cancer.feature_names]\n",
        "y = df['target']\n",
        "\n",
        "# Split the data into training and testing sets\n",
        "X_train, X_test, y_train, y_test = train_test_split(X, y, test_size=0.3, random_state=1)\n"
      ],
      "metadata": {
        "id": "hd1MjmhLXsEQ"
      },
      "execution_count": null,
      "outputs": []
    },
    {
      "cell_type": "markdown",
      "source": [
        "### Step 4: Train the Decision Tree\n",
        "Now, we can finally create our decision tree!"
      ],
      "metadata": {
        "id": "RakKK3v_Ym2a"
      }
    },
    {
      "cell_type": "code",
      "source": [
        "# Create a Decision Tree Classifier\n",
        "clf = DecisionTreeClassifier()\n",
        "\n",
        "# Train the model using the training sets\n",
        "clf.fit(X_train, y_train)\n"
      ],
      "metadata": {
        "colab": {
          "base_uri": "https://localhost:8080/",
          "height": 74
        },
        "id": "0tgLtj0sYvDZ",
        "outputId": "7de879b7-cd86-421d-c33e-8abc48136d03"
      },
      "execution_count": null,
      "outputs": [
        {
          "output_type": "execute_result",
          "data": {
            "text/plain": [
              "DecisionTreeClassifier()"
            ],
            "text/html": [
              "<style>#sk-container-id-2 {color: black;background-color: white;}#sk-container-id-2 pre{padding: 0;}#sk-container-id-2 div.sk-toggleable {background-color: white;}#sk-container-id-2 label.sk-toggleable__label {cursor: pointer;display: block;width: 100%;margin-bottom: 0;padding: 0.3em;box-sizing: border-box;text-align: center;}#sk-container-id-2 label.sk-toggleable__label-arrow:before {content: \"▸\";float: left;margin-right: 0.25em;color: #696969;}#sk-container-id-2 label.sk-toggleable__label-arrow:hover:before {color: black;}#sk-container-id-2 div.sk-estimator:hover label.sk-toggleable__label-arrow:before {color: black;}#sk-container-id-2 div.sk-toggleable__content {max-height: 0;max-width: 0;overflow: hidden;text-align: left;background-color: #f0f8ff;}#sk-container-id-2 div.sk-toggleable__content pre {margin: 0.2em;color: black;border-radius: 0.25em;background-color: #f0f8ff;}#sk-container-id-2 input.sk-toggleable__control:checked~div.sk-toggleable__content {max-height: 200px;max-width: 100%;overflow: auto;}#sk-container-id-2 input.sk-toggleable__control:checked~label.sk-toggleable__label-arrow:before {content: \"▾\";}#sk-container-id-2 div.sk-estimator input.sk-toggleable__control:checked~label.sk-toggleable__label {background-color: #d4ebff;}#sk-container-id-2 div.sk-label input.sk-toggleable__control:checked~label.sk-toggleable__label {background-color: #d4ebff;}#sk-container-id-2 input.sk-hidden--visually {border: 0;clip: rect(1px 1px 1px 1px);clip: rect(1px, 1px, 1px, 1px);height: 1px;margin: -1px;overflow: hidden;padding: 0;position: absolute;width: 1px;}#sk-container-id-2 div.sk-estimator {font-family: monospace;background-color: #f0f8ff;border: 1px dotted black;border-radius: 0.25em;box-sizing: border-box;margin-bottom: 0.5em;}#sk-container-id-2 div.sk-estimator:hover {background-color: #d4ebff;}#sk-container-id-2 div.sk-parallel-item::after {content: \"\";width: 100%;border-bottom: 1px solid gray;flex-grow: 1;}#sk-container-id-2 div.sk-label:hover label.sk-toggleable__label {background-color: #d4ebff;}#sk-container-id-2 div.sk-serial::before {content: \"\";position: absolute;border-left: 1px solid gray;box-sizing: border-box;top: 0;bottom: 0;left: 50%;z-index: 0;}#sk-container-id-2 div.sk-serial {display: flex;flex-direction: column;align-items: center;background-color: white;padding-right: 0.2em;padding-left: 0.2em;position: relative;}#sk-container-id-2 div.sk-item {position: relative;z-index: 1;}#sk-container-id-2 div.sk-parallel {display: flex;align-items: stretch;justify-content: center;background-color: white;position: relative;}#sk-container-id-2 div.sk-item::before, #sk-container-id-2 div.sk-parallel-item::before {content: \"\";position: absolute;border-left: 1px solid gray;box-sizing: border-box;top: 0;bottom: 0;left: 50%;z-index: -1;}#sk-container-id-2 div.sk-parallel-item {display: flex;flex-direction: column;z-index: 1;position: relative;background-color: white;}#sk-container-id-2 div.sk-parallel-item:first-child::after {align-self: flex-end;width: 50%;}#sk-container-id-2 div.sk-parallel-item:last-child::after {align-self: flex-start;width: 50%;}#sk-container-id-2 div.sk-parallel-item:only-child::after {width: 0;}#sk-container-id-2 div.sk-dashed-wrapped {border: 1px dashed gray;margin: 0 0.4em 0.5em 0.4em;box-sizing: border-box;padding-bottom: 0.4em;background-color: white;}#sk-container-id-2 div.sk-label label {font-family: monospace;font-weight: bold;display: inline-block;line-height: 1.2em;}#sk-container-id-2 div.sk-label-container {text-align: center;}#sk-container-id-2 div.sk-container {/* jupyter's `normalize.less` sets `[hidden] { display: none; }` but bootstrap.min.css set `[hidden] { display: none !important; }` so we also need the `!important` here to be able to override the default hidden behavior on the sphinx rendered scikit-learn.org. See: https://github.com/scikit-learn/scikit-learn/issues/21755 */display: inline-block !important;position: relative;}#sk-container-id-2 div.sk-text-repr-fallback {display: none;}</style><div id=\"sk-container-id-2\" class=\"sk-top-container\"><div class=\"sk-text-repr-fallback\"><pre>DecisionTreeClassifier()</pre><b>In a Jupyter environment, please rerun this cell to show the HTML representation or trust the notebook. <br />On GitHub, the HTML representation is unable to render, please try loading this page with nbviewer.org.</b></div><div class=\"sk-container\" hidden><div class=\"sk-item\"><div class=\"sk-estimator sk-toggleable\"><input class=\"sk-toggleable__control sk-hidden--visually\" id=\"sk-estimator-id-2\" type=\"checkbox\" checked><label for=\"sk-estimator-id-2\" class=\"sk-toggleable__label sk-toggleable__label-arrow\">DecisionTreeClassifier</label><div class=\"sk-toggleable__content\"><pre>DecisionTreeClassifier()</pre></div></div></div></div></div>"
            ]
          },
          "metadata": {},
          "execution_count": 12
        }
      ]
    },
    {
      "cell_type": "markdown",
      "source": [
        "### Step 5: Interpret the Decision Tree\n",
        "Now, let's \"interpret\" the decision tree by creating a visualization of it. At the \"top\" of the decision tree, you see ALL the cases in our data set bundled together (basically, this assumes you've done no tests or analysis at all). Then, at each level of the decision tree, we \"split\" on one of the features. For example:\n",
        "\n",
        "1. The most important feature (at the very top level) is whether the \"worst_perimeter\" is less than 105. If it is, the tumor is likely to be malignant.\n",
        "2. At the second level, we can further \"subdivide\" based on things like \"worst concave points\" or \"worst feature\". The further we go down in tree, the more \"pure\" nodes get (that is, each node will increasinly contain ONLY benign cases or cancerous cases, instead of a \"mix\").\n",
        "3. The ultimate goal is to predict whether some new case is cancerous. More on that next!"
      ],
      "metadata": {
        "id": "H_xSeGnPY0Rk"
      }
    },
    {
      "cell_type": "code",
      "source": [
        "# Plot the Decision Tree\n",
        "plt.figure(figsize=(15,10))\n",
        "tree.plot_tree(clf, filled=True, feature_names=cancer.feature_names, class_names=cancer.target_names)\n",
        "plt.show()\n"
      ],
      "metadata": {
        "colab": {
          "base_uri": "https://localhost:8080/",
          "height": 807
        },
        "id": "QKDs2GAZZBak",
        "outputId": "d72b824e-0179-44da-f3e2-de72ea14e08e"
      },
      "execution_count": null,
      "outputs": [
        {
          "output_type": "display_data",
          "data": {
            "text/plain": [
              "<Figure size 1500x1000 with 1 Axes>"
            ],
            "image/png": "[encoded data removed]"
          },
          "metadata": {}
        }
      ]
    },
    {
      "cell_type": "markdown",
      "source": [
        "### Step 6: Evaluate the Model\n",
        "Finally, we'll evaluate the model by using our test data. This will tell us the proportion of times we get things \"right\" (correctly classifying tumors as cancerous or benign) versus \"wrong\" (for example, classifying a tumor that is actuall cancerous as benign). As it turns out, we can do pretty good!\n"
      ],
      "metadata": {
        "id": "4ooXDWtobLz8"
      }
    },
    {
      "cell_type": "code",
      "source": [
        "# Predict the response for the test dataset\n",
        "y_pred = clf.predict(X_test)\n",
        "\n",
        "# Model Accuracy\n",
        "print(\"Accuracy:\", metrics.accuracy_score(y_test, y_pred))\n"
      ],
      "metadata": {
        "colab": {
          "base_uri": "https://localhost:8080/"
        },
        "id": "8J1Gr_2tbpl6",
        "outputId": "34265f99-81a6-49ae-8dc1-1d4e6ab97d32"
      },
      "execution_count": null,
      "outputs": [
        {
          "output_type": "stream",
          "name": "stdout",
          "text": [
            "Accuracy: 0.9473684210526315\n"
          ]
        }
      ]
    },
    {
      "cell_type": "markdown",
      "source": [
        "### Discussion Questions: Decision Trees and Breast Cancer\n",
        "1. Train-Test Split: Why do we split our data into training and testing sets when creating machine learning models? What problems could arise if we used all our data for training?\n",
        "\n",
        "2. Quality of Data: How can the quality of data impact the performance of a machine learning model? Consider factors such as missing values, erroneous entries, or unbalanced data.\n",
        "\n",
        "3. Human Decision-Making Augmentation: In what ways can machine learning models like the Decision Tree assist in human decision-making processes, especially in fields like healthcare? Can you think of other fields where such models could be beneficial?\n",
        "\n",
        "4. Model Interpretability: We mentioned that one of the benefits of Decision Trees is their interpretability (humans can \"see\" how they make decisions). Why might it be important for a machine learning model to be interpretable, especially in a context like healthcare? What problems could arise with **black box** models (which human can't see inside)?\n",
        "\n",
        "5. Ethical Considerations: Machine learning models are often used to make predictions about people, as in this case with breast cancer diagnosis. What ethical considerations should we take into account when developing and deploying these models? Consider issues like fairness, privacy, and accountability."
      ],
      "metadata": {
        "id": "2SPqv7qRcOpe"
      }
    },
    {
      "cell_type": "markdown",
      "source": [
        "### Answers: Decision Trees and Breast Cancer\n",
        "1.\n",
        "\n",
        "2.\n",
        "\n",
        "3.\n",
        "\n",
        "4.\n",
        "\n",
        "5."
      ],
      "metadata": {
        "id": "umqNSWPwci-k"
      }
    },
    {
      "cell_type": "markdown",
      "source": [
        "## Neural Networks\n",
        "**Neural Networks** are a set of algorithms, modeled loosely after the human brain, designed to recognize patterns. They interpret sensory data through a kind of machine perception, labeling or clustering raw input. The patterns they recognize are numerical, contained in vectors, into which all real-world data, be it images, sound, text or time series, must be translated.\n",
        "\n",
        "**How do Neural Networks work?**  Neural Networks are made up of layers of nodes, or \"neurons\". There's an input layer to receive the data, an output layer to make the prediction or classification, and in between those two, there can be one or more \"hidden layers\" where the actual processing is done.\n",
        "\n",
        "Each neuron is connected to others and these connections are assigned \"weights\". When the network is trained, these weights are adjusted to find patterns in order to make accurate predictions.\n",
        "\n",
        "**A Simple Example.**  Imagine you're a Neural Network and your task is to learn to recognize images of dogs. You're given a bunch of pictures, each of which is labeled \"dog\" or \"not dog\". Each image is broken down into pixels, which are your input data.\n",
        "\n",
        "You start by randomly guessing which images are dogs. At first, you're probably not very accurate. But here's where the magic happens: after each guess, you're told whether you were right or wrong, and you adjust your weights accordingly. Over time, you \"learn\" which features of the data are important for determining whether an image is a dog or not.\n",
        "\n",
        "**Evolution Over Time.**  Neural Networks have been around for a while, but they've undergone a lot of changes and improvements.\n",
        "\n",
        "-   **Perceptrons**: The earliest Neural Networks were called \"perceptrons\". These were simple models with just an input layer and an output layer. However, they were limited in what they could do.\n",
        "\n",
        "-   Multilayer Perceptrons/**Feedforward Neural Networks**: These added one or more hidden layers between the input and output, which allowed them to model more complex patterns.\n",
        "\n",
        "-   **Convolutional Neural Networks (CNNs)**: These are designed to automatically and adaptively learn spatial hierarchies of features, which makes them very good at tasks like image recognition.\n",
        "\n",
        "-   **Recurrent Neural Networks (RNNs)**: These have connections that form directed cycles. This creates a kind of internal state of the network which allows it to exhibit dynamic temporal behavior. RNNs are great for tasks that involve sequential data, like speech recognition.\n",
        "\n",
        "-   **Transformers:** These are a type of model that uses self-attention mechanisms and have been very successful in natural language processing tasks. (These include things like chatGPT and Google Bard).\n",
        "\n",
        "Today, Neural Networks are used in a wide variety of applications, from voice assistants like Siri and Alexa, to recommendation systems like those used by Netflix and Amazon, to self-driving cars, and much more. They're a powerful tool that have revolutionized the field of machine learning."
      ],
      "metadata": {
        "id": "sN3_8gaEg962"
      }
    },
    {
      "cell_type": "markdown",
      "source": [
        "## What is Deep Learning?\n",
        "\n",
        "**Deep Learning** is a subfield of machine learning that uses neural networks to \"learn\" patterns in data. As the \"deep\" in Deep Learning suggests, these neural networks can have many layers and are therefore also known as \"deep neural networks\". The depth of the model is represented by the number of layers in the network.\n",
        "\n",
        "**How does Deep Learning work?**  Deep Learning models learn to extract features and patterns from raw data. When a deep neural network is trained on a large amount of data, it can learn increasingly abstract features at each layer.For example, if a deep neural network is trained on images of animals, the first layer might learn to recognize edges and colors. The second layer could recognize basic shapes like circles and rectangles. The third layer might recognize more complex features like eyes or fur. The final layer would recognize the overall animal.\n",
        "\n",
        "**A Simple Example** Let's consider a real-world example. Suppose we're using a Deep Learning model to recommend movies. We feed the model a large amount of data about movies, such as the genre, the actors, the director, and so on. We also feed it data about which movies users have watched and liked in the past.\n",
        "\n",
        "The model learns to recognize patterns in this data. For example, it might learn that a user who likes action movies with a certain actor tends to also like other action movies with the same actor. When it's time to recommend a movie to this user, the model can make an informed suggestion based on these patterns.\n",
        "\n",
        "**Deep Learning vs Traditional Machine Learning.**  The main difference between Deep Learning and traditional machine learning is the way they handle features. In traditional machine learning, we usually need to manually extract features from the data. In contrast, Deep Learning models automatically learn the features from the data, which is a big advantage for tasks where we don't know what features to extract.\n",
        "\n",
        "### Applications of Deep Learning\n",
        "\n",
        "Deep Learning has been successful in a variety of tasks, including:\n",
        "\n",
        "-   Image Recognition: Deep Learning models, especially Convolutional Neural Networks (CNNs), have been very successful in tasks like identifying objects in images.\n",
        "\n",
        "-   Speech Recognition: Deep Learning models are used in voice-controlled systems like Amazon's Alexa or Apple's Siri to understand spoken language.\n",
        "\n",
        "-   Natural Language Processing: Deep Learning models are used to translate text, answer questions, and even generate text. "
      ],
      "metadata": {
        "id": "R8P8HeODhqkn"
      }
    },
    {
      "cell_type": "markdown",
      "source": [
        "## Natural Language Processing\n",
        "\n",
        "Natural Language Processing, or NLP, is a critical discipline within the broader field of artificial intelligence that focuses on the interaction between computers and human language. It involves the application of computational techniques to analyze and synthesize natural language and speech.  The primary aim of NLP is to fill the gap between human communication and computer understanding. While this might seem straightforward, the inherent complexity and variability of human language make NLP a challenging and intriguing field of study.\n",
        "\n",
        "As budding computer scientists, you're likely to encounter NLP in various applications. Here are some instances where NLP plays a pivotal role:\n",
        "\n",
        "-  **Digital Assistants:** Digital assistants like Siri, Alexa, and Google Assistant employ NLP to comprehend your voice commands, process them, and generate appropriate responses. When you inquire about the weather from Siri, NLP algorithms are at work to parse your words, understand your request, and construct a response that sounds natural.\n",
        "\n",
        "-  **Search Engines:** Search engines like Google utilize NLP to deliver the most relevant search results. When you input a query, Google's search algorithms apply NLP to comprehend the context and intent behind your search terms, enhancing the accuracy of the search results.\n",
        "\n",
        "-  **Machine Translation:** Machine translation tools like Google Translate leverage NLP to translate text from one language to another. These tools need to understand the grammar, syntax, and idioms in both the source and target languages to provide accurate translations.\n",
        "\n",
        "-  **Chatbots and Virtual Assistants:** Many online platforms employ chatbots for customer service. These chatbots use NLP to understand customer queries and provide relevant information. For instance, a customer might ask a chatbot about the status of their order, and the chatbot uses NLP to comprehend the question and retrieve the relevant tracking information.\n",
        "\n",
        "-  **Generative AI:** Some of the most exciting advancements in NLP are in the area of text generation. For instance, OpenAI's GPT and Google Bard can generate impressively human-like text. \n",
        "\n",
        "-  **Sentiment Analysis:** Businesses use NLP to understand customer feedback. By analyzing reviews, social media posts, and customer support emails, companies can identify common complaints, popular features, and overall sentiment about their product.\n",
        "\n",
        "These examples illustrate the pervasive role of NLP in our interactions with technology. As we continue to push the boundaries of AI, NLP will undoubtedly become an increasingly important tool in our computational arsenal."
      ],
      "metadata": {
        "id": "lIi9oG4HlCyS"
      }
    },
    {
      "cell_type": "markdown",
      "source": [
        "## Computer Vision\n",
        "\n",
        "Computer Vision is a multidisciplinary field that lies at the intersection of computer science, artificial intelligence, and image processing. Its primary goal is to enable computers to interpret and understand the visual world as humans do, and then use this understanding to perform tasks that involve images or videos. At its core, Computer Vision seeks to extract meaningful information from images. This could involve identifying objects in an image, recognizing faces, understanding scenes, or even tracking movements in a video.\n",
        "\n",
        "The algorithms used in Computer Vision are often based on machine learning, particularly deep learning. Convolutional Neural Networks (CNNs) are a type of neural network that are especially good at processing images. They work by applying a series of filters to the image to extract features, such as edges, shapes, and textures. These features are then used to understand the content of the image.\n",
        "\n",
        "For example, in the case of face recognition, a CNN might first extract features that represent the edges of the face, then features that represent the shapes of the eyes, nose, and mouth, and finally features that represent the overall arrangement of these parts. The network can then use this understanding to recognize the face.\n",
        "\n",
        "*Examples of Computer Vision.*  You encounter applications of Computer Vision every day, often without realizing it. Here are a few examples:\n",
        "\n",
        "-  **Social Media:** When you upload a photo to Facebook and it automatically recognizes and tags your friends, that's Computer Vision at work.\n",
        "\n",
        "-  **Autonomous Vehicles:** Self-driving cars use Computer Vision to understand their surroundings, identify objects like other cars and pedestrians, and decide how to navigate.\n",
        "\n",
        "-  **Augmented Reality:** Apps like Snapchat and games like Pokemon Go use Computer Vision to overlay digital images on the real world.\n",
        "\n",
        "*Recent Applications of Computer Vision.* Computer Vision is a rapidly evolving field, with new applications emerging all the time. Here are a few recent developments:\n",
        "\n",
        "-  **Medical Imaging:** Computer Vision is being used to analyze medical images, such as X-rays and MRIs, to detect diseases. For example, deep learning algorithms have been developed that can detect lung cancer in CT scans with a level of accuracy comparable to trained radiologists.\n",
        "\n",
        "-  **Agriculture:** Computer Vision is being used in precision agriculture to monitor crops and identify diseases. Drones equipped with cameras capture images of the crops, and Computer Vision algorithms analyze these images to detect signs of disease or stress in the plants.\n",
        "\n",
        "-  **Wildlife Conservation:** Computer Vision is being used to monitor wildlife populations and track individual animals. Cameras placed in wildlife habitats capture images of animals, and Computer Vision algorithms are used to identify the species and individuals in the images. This provides valuable data for conservation efforts.\n",
        "\n"
      ],
      "metadata": {
        "id": "4a4I174tmTpf"
      }
    },
    {
      "cell_type": "markdown",
      "source": [
        "## Robotics\n",
        "\n",
        "Robotics is a multidisciplinary branch of engineering and science that includes mechanical engineering, electronic engineering, information engineering, computer science, and others. Robotics deals with the design, construction, operation, and use of robots, as well as computer systems for their control, sensory feedback, and information processing.\n",
        "\n",
        "Robots are frequently designed to perform tasks that are either too dangerous, monotonous, or precise for humans. From exploring Mars to defusing bombs, from assembling cars in a factory to performing intricate surgeries, robots are used in numerous fields and for various applications.  EExamples include:\n",
        "\n",
        "1.  Manufacturing: Industrial robots on assembly lines are common in various industries, especially in automobile manufacturing. These robots perform tasks such as welding, painting, assembly, pick and place for printed circuit boards, packaging and labeling, palletizing, product inspection, and testing.\n",
        "\n",
        "2.  Healthcare: In medicine, robots are used in areas like surgery and patient care. Robotic surgery systems like the da Vinci Surgical System allow surgeons to perform complex procedures with more precision, flexibility, and control than is possible with conventional techniques.\n",
        "\n",
        "3.  Space Exploration: Robots are extensively used in space missions. For instance, NASA's Mars rovers like Spirit, Opportunity, Curiosity, and Perseverance are robots designed to explore the Martian surface and send data back to Earth.\n",
        "\n",
        "4.  Agriculture: Robots are used in farming for various tasks including planting seeds, harvesting crops, and monitoring crop growth. They help increase the quantity and quality of crops while reducing the reliance on manual labor.\n",
        "\n",
        "5.  Disaster Response: Robots are being designed to perform search and rescue operations in disaster-stricken areas. They can navigate through rubble and confined spaces, send back images and data, and look for survivors.\n",
        "\n",
        "6.  Assistive Technology: Robots are being developed to assist people with disabilities in their daily tasks. For example, robots can help people with mobility issues to move around, pick up objects, and perform other tasks.\n",
        "\n",
        "7.  Autonomous Vehicles: While not robots in the traditional sense, self-driving cars are a form of robotics. They use sensors and AI to navigate, avoid obstacles, and obey traffic rules.\n",
        "\n",
        "All of these applications require combining several technologies, including AI, machine learning, and computer vision. Robots often need to process sensory data and make decisions based on this data, which is where AI and machine learning come in. Computer vision, a branch of AI, is used to process and interpret visual data, which is crucial for tasks like navigation and object recognition."
      ],
      "metadata": {
        "id": "-S-_PUdbmg_c"
      }
    },
    {
      "cell_type": "markdown",
      "source": [
        "## Exercise: Experiment With AI\n",
        "\n",
        "For this set of exercises, I'd like you to experiment with some AI tools and then consider how they compare to humans (what do they do better? worse?). Please choose THREE of the below categories to try out and report on. (Note: You can use different apps than the ones suggested here--just make sure to choose three different categories).\n",
        "\n",
        "1.  Text Generation AI\n",
        "\n",
        "    -   Try out: [GPT-4 by OpenAI](https://chat.openai.com)\n",
        "    -   Task: Write a short story or a poem using the AI. Reflect on the creativity, coherence, and relevance of the generated text.\n",
        "2.  Coding AI\n",
        "\n",
        "    -   Try out: [Google Bard](https://github.com/github/copilot-preview)\n",
        "    -   Task: Use the AI to generate code for a small project. Consider the accuracy, efficiency, and usefulness of the generated code.\n",
        "3.  Game-Playing AI\n",
        "\n",
        "    -   Try out: [AlphaGo by DeepMind](https://deepmind.com/research/case-studies/alphago-the-story-so-far). \n",
        "    -   Task: Watch a match played by AlphaGo and analyze its strategies. Compare its performance to that of human players.\n",
        "4.  Art Generation AI\n",
        "\n",
        "    -   Try out: [Bing Image Creator](https://www.bing.com/create)\n",
        "    -   Task: Create a piece of art using the AI. Reflect on the uniqueness, quality, and aesthetic appeal of the generated art.\n",
        "5.  Personal Assistants AI\n",
        "\n",
        "    -   Try out: [Siri by Apple](https://www.apple.com/siri/)\n",
        "    -   Task: Use Siri for a day for various tasks. Reflect on its understanding, responsiveness, and usefulness.\n",
        "6.  Translation AI\n",
        "\n",
        "    -   Try out: [Google Translate](https://translate.google.com/)\n",
        "    -   Task: Translate a paragraph from one language to another. Reflect on the accuracy, fluency, and context understanding of the translation.\n",
        "7.  Mathematics\n",
        "\n",
        "    -   Try out: [Wolfram Alpha](https://www.wolframalpha.com/)\n",
        "    -   Task: Use Wolfram Alpha (either on its own or intergrated with another tool) to solve a mathematical problem.\n",
        "\n",
        "For each of three you choose, write a short response discussing the strengths and weaknesses of the AI when compared to human performance. You should consider factors such as accuracy, efficiency, creativity, and understanding of context."
      ],
      "metadata": {
        "id": "fwpecuUenPeY"
      }
    },
    {
      "cell_type": "markdown",
      "source": [
        "### My Answers: \n",
        "\n",
        "1.\n",
        "\n",
        "\n",
        "2.\n",
        "\n",
        "\n",
        "3."
      ],
      "metadata": {
        "id": "q0n5tQLctKoV"
      }
    },
    {
      "cell_type": "markdown",
      "source": [],
      "metadata": {
        "id": "PCgOsoa6w5jL"
      }
    },
    {
      "cell_type": "markdown",
      "source": [
        "## Glossary\n",
        "\n",
        "\n",
        "| Term | Definition |\n",
        "| --- | --- |\n",
        "| Artificial Intelligence | A branch of computer science that aims to create systems capable of performing tasks that would normally require human intelligence. These tasks include problem-solving, recognizing speech, and decision-making. |\n",
        "| Statistical Machine Learning | A subset of AI that uses statistical techniques to give computers the ability to learn from data without being explicitly programmed. |\n",
        "| Neural Network | A computational model inspired by the human brain's network of neurons. It's designed to recognize patterns and interpret sensory data through machine perception, labeling or clustering raw input. |\n",
        "| Deep Learning | A type of machine learning that trains a computer to perform human-like tasks, such as recognizing speech, identifying images, or making predictions. It utilizes layers of artificial neural networks to learn from large amounts of data. |\n",
        "| Natural Language Processing (NLP) | A field of AI that focuses on the interaction between computers and humans through natural language. The ultimate objective is to read, decipher, understand, and make sense of the human language in a valuable way. |\n",
        "| Computer Vision | The science that aims to give a similar, if not better, capability to a machine or computer. It involves methods for acquiring, processing, analyzing, and understanding digital images, and extraction of high-dimensional data from the real world. |\n",
        "| Robotics | The interdisciplinary branch of engineering and science that includes mechanical engineering, electronic engineering, information engineering, computer science, and others. It deals with the design, construction, operation, and use of robots, as well as computer systems for their control, sensory feedback, and information processing. |\n",
        "| Narrow (Weak) AI | A type of artificial intelligence that is limited to a specific or narrow task. It's intelligent systems that have been taught or learned how to carry out specific tasks without being explicitly programmed how to do so. |\n",
        "| General (Strong) AI | A type of artificial intelligence that has all the cognitive abilities of a human being, allowing it to understand, learn, adapt, and implement knowledge in a broad range of tasks. |\n",
        "| Black Box Model | In machine learning, it refers to a predictive model that is used without understanding the internal mechanisms. It's called a \"black box\" because the inputs and outputs are visible, but the internal workings are not. |\n",
        "| Supervised Learning | A type of machine learning where the model is trained on a labeled dataset. It's a process of learning where the machine takes in direct feedback to make corrections. |\n",
        "| Unsupervised Learning | A type of machine learning where the model is trained on an unlabeled dataset and is left to find patterns on its own. It's a process where the machine learns from test data that has not been labeled, classified or categorized. |\n",
        "| Linear Regression | A statistical method used to predict a dependent variable, given a set of independent variables, by fitting the data points on a linear equation. |\n",
        "| Logistic Regression | A classification algorithm used to predict a binary outcome (1 / 0, Yes / No, True / False) given a set of independent variables. |\n",
        "| Decision Trees | A type of supervised learning algorithm that is mostly used for classification problems. It works for both categorical and continuous input and output variables. |\n",
        "| K-means Clustering | An unsupervised learning algorithm that groups a dataset into 'K' number of clusters. The grouping is done by minimizing the sum of distances between each data point and the centroid of its assigned cluster. |\n",
        "| Principal Component Analysis | A statistical procedure that uses an orthogonal transformation to convert a set of observations of possibly correlated variables into a set of values of linearly uncorrelated variables called principal components. |\n",
        "| Test-Train Split | A method for dividing the dataset into two subsets: the training set used to fit the model and the test set used to evaluate the fit model. |\n",
        "| Training Data | The portion of the dataset used to train the model. |\n",
        "| Test Data | The portion of the dataset used to provide an unbiased evaluation of a model fit on the training dataset. |\n",
        "| Perceptrons | The simplest form of a neural network, a binary classifier that maps its input, an m-dimensional vector, to an output value using a linear predictor function. |\n",
        "| Feedforward Neural Networks | A type of artificial neural network wherein connections between the nodes do not form a cycle. The information moves in only one direction, forward, from the input nodes, through the hidden nodes (if any) and to the output nodes. |\n",
        "| Convolutional Neural Networks | A class of deep learning neural networks, most commonly applied to analyzing visual imagery. They have applications in image and video recognition, recommender systems, and natural language processing. |\n",
        "| Recurrent Neural Networks | A class of artificial neural networks where connections between nodes form a directed graph along a temporal sequence. This allows it to exhibit temporal dynamic behavior. Used in handwriting recognition, speech recognition etc. |\n",
        "| Transformers | A model architecture used in the field of natural language processing. Unlike feedforward and recurrent neural networks, transformers are designed to handle sequential data, while also being able to consider the entire sequence at once, making them highly effective for many NLP tasks. |"
      ],
      "metadata": {
        "id": "eOs_iCUWw5ng"
      }
    },
    {
      "cell_type": "code",
      "source": [],
      "metadata": {
        "id": "6rR6x80Lxd2f"
      },
      "execution_count": null,
      "outputs": []
    }
  ]
}